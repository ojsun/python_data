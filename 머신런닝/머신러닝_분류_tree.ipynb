{
 "cells": [
  {
   "cell_type": "markdown",
   "id": "b6b1dc46-e735-478d-ae75-0d517a4a923f",
   "metadata": {
    "tags": []
   },
   "source": [
    "#### 머신러닝 분류_tree"
   ]
  },
  {
   "cell_type": "code",
   "execution_count": null,
   "id": "516e4a5d-9bba-4e51-bc69-64b26ca19bd5",
   "metadata": {
    "tags": []
   },
   "outputs": [],
   "source": [
    "# 와인 데이터 실습\n",
    "\n",
    "from sklearn.datasets import load_wine\n",
    "import pandas as pd\n",
    "wine = load_wine()\n",
    "df = pd.DataFrame(wine.data, columns=wine.feature_names)\n",
    "df['class'] = wine.target\n",
    "print(wine.target_names)\n",
    "df.head()"
   ]
  },
  {
   "cell_type": "code",
   "execution_count": null,
   "id": "6dd055b2-4c50-4dcf-8fc1-121f25a7b97e",
   "metadata": {
    "tags": []
   },
   "outputs": [],
   "source": [
    "# 학습 데이터 준비\n",
    "from sklearn.model_selection import train_test_split\n",
    "X_data = df.iloc[:, :-1]\n",
    "y_data = df.iloc[:, -1]\n",
    "X_train, X_test, y_train, y_test = train_test_split(X_data, y_data, \n",
    "                                test_size=0.2, random_state= 156)\n",
    "print(X_train.shape, X_test.shape)\n",
    "print(y_train.shape, y_test.shape)"
   ]
  },
  {
   "cell_type": "code",
   "execution_count": null,
   "id": "f68f37f0-d1a5-488d-9a90-7a9249c96710",
   "metadata": {},
   "outputs": [],
   "source": [
    "# 학습/예측/평가\n",
    "from sklearn.tree import DecisionTreeClassifier\n",
    "from sklearn.metrics import accuracy_score\n",
    "dt_clf = DecisionTreeClassifier(random_state=156)\n",
    "dt_clf.fit(X_train , y_train)\n",
    "pred = dt_clf.predict(X_test)\n",
    "accuracy = accuracy_score(y_test , pred)\n",
    "print('결정 트리 예측 정확도: {0:.4f}'.format(accuracy))"
   ]
  },
  {
   "cell_type": "code",
   "execution_count": null,
   "id": "f8b2179a-c81a-482f-8a57-0082f46650bd",
   "metadata": {},
   "outputs": [],
   "source": [
    "# GridSearchCV 하이퍼 파라미터 찾기\n",
    "from sklearn.model_selection import GridSearchCV\n",
    "parameters = {'criterion':['gini', 'entropy'],'max_depth':[None, 2, 3, 5, 7], \n",
    "                'min_samples_split':[2,3,5,7],'min_samples_leaf':[1,3,5,7]}\n",
    "grid_dt = GridSearchCV(dt_clf, param_grid=parameters, cv=5)\n",
    "grid_dt.fit(X_train, y_train)\n",
    "scores_df = pd.DataFrame(grid_dt.cv_results_)\n",
    "scores_df[['params', 'mean_test_score', 'rank_test_score']]"
   ]
  },
  {
   "cell_type": "code",
   "execution_count": null,
   "id": "0ef51388-249e-4636-b97b-e68fba396f4a",
   "metadata": {},
   "outputs": [],
   "source": [
    "print('GridSearchCV 최적 파라미터:', grid_dt.best_params_)\n",
    "print(f'GridSearchCV 최고 정확도: {grid_dt.best_score_:.4f}')"
   ]
  },
  {
   "cell_type": "code",
   "execution_count": null,
   "id": "44e5be5d-db99-4d4c-9fcb-5b321cb67451",
   "metadata": {},
   "outputs": [],
   "source": [
    "model = grid_dt.best_estimator_\n",
    "pred = model.predict(X_test)\n",
    "accuracy_score(y_test, pred)"
   ]
  },
  {
   "cell_type": "code",
   "execution_count": null,
   "id": "cf5c79d3-9619-4e38-9d59-cd5b568b7625",
   "metadata": {},
   "outputs": [],
   "source": [
    "# 피처 중요도 그래프 .feature_importances_\n",
    "import seaborn as sns\n",
    "import matplotlib.pyplot as plt\n",
    "ftr_importances_values = model.feature_importances_\n",
    "ftr_importances = pd.Series(ftr_importances_values,index=X_train.columns)\n",
    "ftr_top20 = ftr_importances.sort_values(ascending=False)[:20]\n",
    "plt.figure(figsize=(8,6))\n",
    "plt.title('Feature importances Top 20')\n",
    "sns.barplot(x=ftr_top20 , y = ftr_top20.index)\n",
    "plt.show()"
   ]
  },
  {
   "cell_type": "code",
   "execution_count": null,
   "id": "a13a5021-414b-44c4-8064-8a146343fa41",
   "metadata": {},
   "outputs": [],
   "source": [
    "#트리 구조 그래프\n",
    "from sklearn.tree import plot_tree\n",
    "plt.figure(figsize=(10,7), dpi=1200)\n",
    "plot_tree(model, filled=True, feature_names=wine.feature_names, \n",
    "        class_names=list(wine.target_names))"
   ]
  },
  {
   "cell_type": "markdown",
   "id": "0c2791bb-065b-4d20-bbfd-a84d88528e5f",
   "metadata": {},
   "source": [
    "#### 머신러닝 분류- 앙상블 학습 ensemble"
   ]
  },
  {
   "cell_type": "code",
   "execution_count": null,
   "id": "cfbed3a4-7e17-46d3-b17f-ae7c8320010f",
   "metadata": {},
   "outputs": [],
   "source": [
    "# VotingClassifier 보팅분류기\n",
    "import pandas as pd\n",
    "from sklearn.ensemble import VotingClassifier\n",
    "from sklearn.linear_model import LogisticRegression\n",
    "from sklearn.neighbors import KNeighborsClassifier\n",
    "from sklearn.datasets import load_breast_cancer\n",
    "from sklearn.model_selection import train_test_split\n",
    "from sklearn.metrics import accuracy_score\n",
    "cancer = load_breast_cancer()\n",
    "data_df = pd.DataFrame(cancer.data, columns=cancer.feature_names)\n",
    "data_df.head(3)"
   ]
  },
  {
   "cell_type": "code",
   "execution_count": null,
   "id": "a0946070-ea59-4815-8361-f30543baf02e",
   "metadata": {},
   "outputs": [],
   "source": [
    "lr_clf = LogisticRegression(solver='liblinear')\n",
    "dt_clf = DecisionTreeClassifier(random_state=0)\n",
    "vo_clf = VotingClassifier( estimators=[('LR',lr_clf), ('DT',dt_clf)] , voting='soft' )\n",
    "X_train, X_test, y_train, y_test = train_test_split(cancer.data, cancer.target, test_size=0.2 , random_state= 0 )\n",
    "vo_clf.fit(X_train , y_train)\n",
    "pred = vo_clf.predict(X_test)\n",
    "print(f'Voting 분류기 정확도: {accuracy_score(y_test,pred):.4f}')"
   ]
  },
  {
   "cell_type": "code",
   "execution_count": null,
   "id": "8b5a22ea-8c25-4baa-9564-2990b36b75f1",
   "metadata": {},
   "outputs": [],
   "source": [
    "# 각 모델의 정확도 계산\n",
    "classifiers = [lr_clf, dt_clf]\n",
    "for clf in classifiers:\n",
    "    clf.fit(X_train , y_train)\n",
    "    pred = clf.predict(X_test)\n",
    "    class_name= clf.__class__.__name__\n",
    "    print(f'{class_name} 정확도: {accuracy_score(y_test, pred):.4f}')"
   ]
  },
  {
   "cell_type": "code",
   "execution_count": null,
   "id": "236cd1aa-8dfb-477e-9257-b5a00be0b33f",
   "metadata": {},
   "outputs": [],
   "source": [
    "# 랜덤포레스트 RandomForestClassifier\n",
    "from sklearn.ensemble import RandomForestClassifier\n",
    "cancer = load_breast_cancer()\n",
    "X_train, X_test, y_train, y_test = train_test_split(cancer.data, cancer.target, \n",
    "                    test_size=0.2 , random_state= 0)\n",
    "rf_clf = RandomForestClassifier(random_state=0)\n",
    "rf_clf.fit(X_train , y_train)\n",
    "pred = rf_clf.predict(X_test)\n",
    "accuracy = accuracy_score(y_test , pred)\n",
    "print(f'랜덤 포레스트 정확도: {accuracy:.4f}')"
   ]
  },
  {
   "cell_type": "code",
   "execution_count": null,
   "id": "f4d663c5-cd93-44b9-a0f1-23562b7fee9e",
   "metadata": {},
   "outputs": [],
   "source": [
    "# 랜덤포레스트 파이퍼 파라미터 튜닝 GridSearchCV\n",
    "from sklearn.model_selection import GridSearchCV\n",
    "params = {'n_estimators':[100], 'max_depth' : [6, 8, 10, 12], \n",
    "            'min_samples_leaf' : [8, 12, 18 ],'min_samples_split' : [8, 16, 20]}\n",
    "rf_clf = RandomForestClassifier(random_state=0)\n",
    "grid_cv = GridSearchCV(rf_clf , param_grid=params , cv=3, n_jobs=-1, verbose=True)\n",
    "grid_cv.fit(X_train , y_train)\n",
    "\n",
    "print('GridSearchCV 최적 파라미터:', grid_cv.best_params_)\n",
    "print(f'GridSearchCV 최고 정확도: {grid_cv.best_score_:.4f}')"
   ]
  },
  {
   "cell_type": "code",
   "execution_count": null,
   "id": "53808946-6ba6-459e-982f-e88b29c1ba01",
   "metadata": {},
   "outputs": [],
   "source": [
    "model = grid_cv.best_estimator_\n",
    "pred = model.predict(X_test)\n",
    "accuracy_score(y_test, pred)"
   ]
  },
  {
   "cell_type": "code",
   "execution_count": null,
   "id": "103e957e-6dfc-4b85-be0c-9e27f497922e",
   "metadata": {},
   "outputs": [],
   "source": [
    "# 피쳐 중요도 그래프\n",
    "import matplotlib.pyplot as plt\n",
    "import seaborn as sns\n",
    "ftr_importances_values = model.feature_importances_\n",
    "ftr_importances = pd.Series(ftr_importances_values, index=cancer.feature_names )\n",
    "ftr_top20 = ftr_importances.sort_values(ascending=False)[:20]\n",
    "plt.figure(figsize=(8,6))\n",
    "plt.title('Feature importances Top 20')\n",
    "sns.barplot(x=ftr_top20 , y = ftr_top20.index)\n",
    "plt.show()\n",
    "plt.draw()"
   ]
  },
  {
   "cell_type": "code",
   "execution_count": null,
   "id": "77ff18bb-b293-4438-9abc-82f8ff66bf5e",
   "metadata": {},
   "outputs": [],
   "source": [
    "# GBM GradientBoostingClassifier\n",
    "\n",
    "from sklearn.ensemble import GradientBoostingClassifier\n",
    "cancer = load_breast_cancer()\n",
    "X_train, X_test, y_train, y_test = train_test_split(cancer.data, cancer.target, \n",
    "                    test_size=0.2 , random_state= 0)\n",
    "gb_clf = GradientBoostingClassifier(random_state=0, verbose=True)\n",
    "gb_clf.fit(X_train , y_train)\n",
    "gb_pred = gb_clf.predict(X_test)\n",
    "gb_accuracy = accuracy_score(y_test, gb_pred)\n",
    "print(f'GBM 정확도: {gb_accuracy:.4f}')"
   ]
  },
  {
   "cell_type": "markdown",
   "id": "5d6a895e-6bf2-4b87-9d5e-0e94b995da84",
   "metadata": {},
   "source": [
    "####  XGBoost"
   ]
  },
  {
   "cell_type": "code",
   "execution_count": null,
   "id": "4e6eeaa8-8afe-46c2-bba8-8db40721fec9",
   "metadata": {},
   "outputs": [],
   "source": [
    "#  xgboost XGBoodt\n",
    "import xgboost as xgb\n",
    "from xgboost import plot_importance\n",
    "import pandas as pd\n",
    "import numpy as np\n",
    "from sklearn.datasets import load_breast_cancer\n",
    "from sklearn.model_selection import train_test_split\n",
    "import warnings\n",
    "warnings.filterwarnings('ignore')"
   ]
  },
  {
   "cell_type": "code",
   "execution_count": null,
   "id": "e05da1bd-2725-4c26-ac39-4df861e96bb4",
   "metadata": {},
   "outputs": [],
   "source": [
    "dataset = load_breast_cancer()\n",
    "cancer_df = pd.DataFrame(data=dataset.data, columns=dataset.feature_names)\n",
    "cancer_df['target'] = dataset.target\n",
    "X_features = cancer_df.iloc[:, :-1]\n",
    "y_label = cancer_df.iloc[:, -1]\n",
    "X_train, X_test, y_train, y_test=train_test_split(X_features, y_label, \n",
    "                test_size=0.2, random_state=156 )\n",
    "X_tr, X_val, y_tr, y_val= train_test_split(X_train, y_train,\n",
    "                test_size=0.1, random_state=156 )"
   ]
  },
  {
   "cell_type": "code",
   "execution_count": null,
   "id": "198af488-bce7-478a-b881-e9059f2601bc",
   "metadata": {},
   "outputs": [],
   "source": [
    "dtr = xgb.DMatrix(data=X_tr, label=y_tr)\n",
    "dval = xgb.DMatrix(data=X_val, label=y_val)\n",
    "dtest = xgb.DMatrix(data=X_test , label=y_test)\n",
    "params = {'max_depth':3,'eta': 0.05,'objective':'binary:logistic','eval_metric':'logloss'}\n",
    "num_rounds = 400\n",
    "\n",
    "eval_list = [(dtr,'train'),(dval,'eval')] \n",
    "# 또는 eval_list = [(dval,'eval')]\n",
    "xgb_model = xgb.train(params = params , dtrain=dtr, num_boost_round=num_rounds , \n",
    "            early_stopping_rounds=50, evals=eval_list )"
   ]
  },
  {
   "cell_type": "code",
   "execution_count": null,
   "id": "6accec4f-9fbf-430f-803f-b077ea2a6457",
   "metadata": {},
   "outputs": [],
   "source": [
    "pred_probs = xgb_model.predict(dtest)\n",
    "print('predict( ) 수행 결과값을 10개만 표시, 예측 확률 값으로 표시됨')\n",
    "print(np.round(pred_probs[:10],3))\n",
    "preds = [ 1 if x > 0.5 else 0 for x in pred_probs ]\n",
    "print('예측값 10개만 표시:',preds[:10])"
   ]
  },
  {
   "cell_type": "code",
   "execution_count": null,
   "id": "3d33bbf6-1163-4679-94f9-7c67218013ba",
   "metadata": {},
   "outputs": [],
   "source": [
    "# 그래프 그리기\n",
    "import matplotlib.pyplot as plt\n",
    "fig, ax = plt.subplots(figsize=(10, 7))\n",
    "plot_importance(xgb_model, ax=ax)"
   ]
  },
  {
   "cell_type": "code",
   "execution_count": null,
   "id": "c5f61c96-55d8-4c29-8050-54cfa8759181",
   "metadata": {},
   "outputs": [],
   "source": [
    "#래퍼 XGBClassifier 개요 및 적용\n",
    "from xgboost import XGBClassifier \n",
    "xgb_wrapper = XGBClassifier(n_estimators=400, learning_rate=0.1, max_depth=3)\n",
    "evals = [(X_test, y_test)]\n",
    "xgb_wrapper.fit(X_train, y_train, early_stopping_rounds = 100, \n",
    "eval_metric = \"logloss\", eval_set=evals)\n",
    "preds = xgb_wrapper.predict(X_test)\n",
    "pred_proba = xgb_wrapper.predict_proba(X_test)[:, 1]"
   ]
  },
  {
   "cell_type": "code",
   "execution_count": null,
   "id": "4c186af5-9f2a-46d1-b2f9-6d2e953ff4f3",
   "metadata": {},
   "outputs": [],
   "source": [
    "def get_clf_eval(y_test, pred=None, pred_proba=None):\n",
    "    confusion = confusion_matrix( y_test, pred)\n",
    "    accuracy = accuracy_score(y_test , pred)\n",
    "    precision = precision_score(y_test , pred)\n",
    "    recall = recall_score(y_test , pred)\n",
    "    f1 = f1_score(y_test,pred)\n",
    "    roc_auc = roc_auc_score(y_test, pred_proba)\n",
    "    print('오차 행렬')\n",
    "    print(confusion)\n",
    "    # ROC-AUC print 추가\n",
    "    print(f'정확도: {accuracy:.4f}, 정밀도: {precision:.4f}, 재현율: {recall:.4f}')\n",
    "    print(f'F1: {f1:.4f}, AUC:{roc_auc:.4f}')"
   ]
  },
  {
   "cell_type": "code",
   "execution_count": null,
   "id": "8e38f5b2-dd7f-443f-bcbe-412ff3d2d554",
   "metadata": {},
   "outputs": [],
   "source": [
    "get_clf_eval(y_test, ws100_preds, ws100_pred_proba)"
   ]
  },
  {
   "cell_type": "code",
   "execution_count": null,
   "id": "b8bbcf66-284a-46f2-95ea-5530b0355434",
   "metadata": {},
   "outputs": [],
   "source": [
    "#스태킹 앙상블\n",
    "\n",
    "from sklearn.neighbors import KNeighborsClassifier\n",
    "from sklearn.ensemble import RandomForestClassifier\n",
    "from sklearn.ensemble import AdaBoostClassifier\n",
    "from sklearn.tree import DecisionTreeClassifier\n",
    "from sklearn.linear_model import LogisticRegression"
   ]
  },
  {
   "cell_type": "code",
   "execution_count": null,
   "id": "bb6a22b7-a0cb-400d-bedf-b65071baabec",
   "metadata": {},
   "outputs": [],
   "source": [
    "# 기본 스태킹 모델\n",
    "import numpy as np\n",
    "from sklearn.datasets import load_breast_cancer\n",
    "from sklearn.model_selection import train_test_split\n",
    "from sklearn.metrics import accuracy_score\n",
    "cancer_data = load_breast_cancer()\n",
    "X_data = cancer_data.data\n",
    "y_label = cancer_data.target\n",
    "X_train , X_test , y_train , y_test = train_test_split(X_data, y_label, \n",
    "test_size=0.2 , random_state=0)"
   ]
  },
  {
   "cell_type": "code",
   "execution_count": null,
   "id": "3ff2c32c-4796-4dc7-acfd-ddf5dc30eb13",
   "metadata": {},
   "outputs": [],
   "source": [
    "# 개별 ML 모델을 위한 Classifier 생성.\n",
    "knn_clf =KNeighborsClassifier(n_neighbors=4)\n",
    "rf_clf = RandomForestClassifier(n_estimators=100, random_state=0)\n",
    "dt_clf = DecisionTreeClassifier(random_state=0)\n",
    "ada_clf = AdaBoostClassifier(n_estimators=100)\n",
    "# 최종 Stacking 모델을 위한 Classifier생성. \n",
    "lr_final = LogisticRegression(solver='liblinear')"
   ]
  },
  {
   "cell_type": "code",
   "execution_count": null,
   "id": "15039904-3d5a-4f2a-bbd2-865d44c6900a",
   "metadata": {},
   "outputs": [],
   "source": [
    "# 개별 모델들을 학습. \n",
    "knn_clf.fit(X_train, y_train)\n",
    "rf_clf.fit(X_train , y_train)\n",
    "dt_clf.fit(X_train , y_train)\n",
    "ada_clf.fit(X_train, y_train)\n",
    "# 학습된 개별 모델들이 각자 반환하는 학습 데이터 셋을 생성\n",
    "knn_train = knn_clf.predict(X_train)\n",
    "rf_train = rf_clf.predict(X_train)\n",
    "dt_train = dt_clf.predict(X_train)\n",
    "ada_train = ada_clf.predict(X_train)"
   ]
  },
  {
   "cell_type": "code",
   "execution_count": null,
   "id": "d83def5a-badd-42ad-ab58-9f94c423fd07",
   "metadata": {},
   "outputs": [],
   "source": [
    "# 학습된 개별 모델들이 각자 반환하는 테스트 데이터 셋을 생성\n",
    "knn_test = knn_clf.predict(X_test)\n",
    "rf_test = rf_clf.predict(X_test)\n",
    "dt_test = dt_clf.predict(X_test)\n",
    "ada_test = ada_clf.predict(X_test)\n",
    "# 학습 데이터와 테스트 데이터로 합치기\n",
    "pred_train = np.vstack([knn_train, rf_train, dt_train, ada_train]).T\n",
    "pred_test = np.vstack([knn_test, rf_test, dt_test, ada_test]).T"
   ]
  },
  {
   "cell_type": "code",
   "execution_count": null,
   "id": "72883ba5-b602-41ae-b16f-ab8772849fba",
   "metadata": {},
   "outputs": [],
   "source": [
    "lr_final.fit(pred_train, y_train)\n",
    "final = lr_final.predict(pred_test)\n",
    "print(f'최종 모델의 정확도: {accuracy_score(y_test , final):.4f}')"
   ]
  },
  {
   "cell_type": "code",
   "execution_count": null,
   "id": "b4bfff98-6c02-479c-9290-4a8c79a5e19a",
   "metadata": {},
   "outputs": [],
   "source": [
    "# 스태킹 실습\n",
    "from sklearn.ensemble import StackingClassifier\n",
    "stack = StackingClassifier([('knn', knn_clf),('rf', rf_clf),('dt', dt_clf),\n",
    "                ('ada', ada_clf)], final_estimator = lr_clf)\n",
    "stack.fit(X_train, y_train)\n",
    "pred = stack.predict(X_test)\n",
    "accuracy_score(y_test, pred)"
   ]
  },
  {
   "cell_type": "code",
   "execution_count": null,
   "id": "a62a1966-fe29-4621-9986-907af0f2bb4e",
   "metadata": {},
   "outputs": [],
   "source": []
  },
  {
   "cell_type": "code",
   "execution_count": null,
   "id": "ce74b578-1ed5-4e62-a192-5091e91de3f3",
   "metadata": {},
   "outputs": [],
   "source": []
  },
  {
   "cell_type": "code",
   "execution_count": null,
   "id": "2cf11e71-7bf9-446a-98ca-2a5bcb2be762",
   "metadata": {},
   "outputs": [],
   "source": []
  },
  {
   "cell_type": "code",
   "execution_count": null,
   "id": "01ad53c8-266a-482d-afd0-2f1650ced531",
   "metadata": {},
   "outputs": [],
   "source": []
  }
 ],
 "metadata": {
  "kernelspec": {
   "display_name": "Python 3 (ipykernel)",
   "language": "python",
   "name": "python3"
  },
  "language_info": {
   "codemirror_mode": {
    "name": "ipython",
    "version": 3
   },
   "file_extension": ".py",
   "mimetype": "text/x-python",
   "name": "python",
   "nbconvert_exporter": "python",
   "pygments_lexer": "ipython3",
   "version": "3.11.5"
  }
 },
 "nbformat": 4,
 "nbformat_minor": 5
}
