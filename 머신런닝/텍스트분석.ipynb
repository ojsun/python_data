{
 "cells": [
  {
   "cell_type": "code",
   "execution_count": null,
   "id": "570d42f0-6116-4ddd-a60e-198959279130",
   "metadata": {
    "tags": []
   },
   "outputs": [],
   "source": [
    "import matplotlib.pyplot as plt\n",
    "import seaborn as sns\n",
    "import pandas as pd\n",
    "import numpy as np\n",
    "import warnings\n",
    "warnings.filterwarnings('ignore')\n",
    "\n",
    "from sklearn.preprocessing import StandardScaler\n",
    "from sklearn.model_selection import train_test_split,cross_val_score, GridSearchCV\n",
    "from sklearn.metrics import accuracy_score, f1_score, roc_auc_score"
   ]
  },
  {
   "cell_type": "code",
   "execution_count": null,
   "id": "30bdc63f-7f21-459f-a903-629288f9db81",
   "metadata": {},
   "outputs": [],
   "source": [
    "### stevejobs.txt"
   ]
  },
  {
   "cell_type": "code",
   "execution_count": null,
   "id": "1751bcc6-2bb9-4b4e-966c-2891af494be2",
   "metadata": {
    "tags": []
   },
   "outputs": [],
   "source": [
    "# 불러오기\n",
    "with open('../data/stevejobs.txt', 'r', encoding='utf8') as f:\n",
    "    rows=f.readlines()\n",
    "    lines=[row for row in rows]\n",
    "text=' '.join(lines)"
   ]
  },
  {
   "cell_type": "code",
   "execution_count": null,
   "id": "b6f908c2-c897-49cd-b859-253028e337a0",
   "metadata": {
    "tags": []
   },
   "outputs": [],
   "source": [
    "# 1-1.텍스트 전처리(정규화): 클렌징\n",
    "import re\n",
    "compile=re.compile('[^ a-zA-Z0-9\\.]+')  #[a-zA-Z]+\n",
    "text=compile.sub('',text).lower()"
   ]
  },
  {
   "cell_type": "code",
   "execution_count": null,
   "id": "bdcf9150-20dc-4d6c-a81e-c9f58b12a13c",
   "metadata": {
    "tags": []
   },
   "outputs": [],
   "source": [
    "# 1-2.토큰화(문장)\n",
    "import nltk\n",
    "nltk.download('punkt')\n",
    "sentences=nltk.sent_tokenize(text=text)"
   ]
  },
  {
   "cell_type": "code",
   "execution_count": null,
   "id": "f5d7e1fb-6ef6-444b-9121-1dfbc47c897c",
   "metadata": {
    "tags": []
   },
   "outputs": [],
   "source": [
    "# 토큰화(단어) extend: 리스트로 \n",
    "word_token=[]\n",
    "for sentence in sentences:\n",
    "    words=nltk.word_tokenize(sentence)\n",
    "    word_token.extend(words)\n",
    "print(word_token[:3])"
   ]
  },
  {
   "cell_type": "code",
   "execution_count": null,
   "id": "9ba1086f-c3bb-4388-9e12-19d2245246c7",
   "metadata": {
    "tags": []
   },
   "outputs": [],
   "source": [
    "# 토큰화(문단 --> 단어) append: 2차원 데이터프레임으로\n",
    "word_token2=[]\n",
    "for sentence in sentences:\n",
    "    words=nltk.word_tokenize(sentence)\n",
    "    word_token2.append(words)\n",
    "print(word_token2[:3])"
   ]
  },
  {
   "cell_type": "code",
   "execution_count": null,
   "id": "33578ac3-c291-4278-b573-0101052f4d11",
   "metadata": {
    "tags": []
   },
   "outputs": [],
   "source": [
    "# 토큰화 함수: 문서의 모든 단어\n",
    "from nltk import sent_tokenize, word_tokenize\n",
    "\n",
    "def tokenize_text(text):\n",
    "    sentences = nltk.sent_tokenize(text)\n",
    "    word_tokens = [nltk.word_tokenize(sentense) for sentense in sentences]\n",
    "    return word_tokens\n",
    "word_tokens = tokenize_text(text)\n",
    "print(word_tokens[:2])"
   ]
  },
  {
   "cell_type": "code",
   "execution_count": null,
   "id": "3b46968f-720f-4aea-bd0e-00abb40081b1",
   "metadata": {
    "tags": []
   },
   "outputs": [],
   "source": [
    "# 1-3.불용어(stop_words) 제거\n",
    "nltk.download('stopwords')\n",
    "stopwords=nltk.corpus.stopwords.words('english')\n",
    "\n",
    "all_tokens=[]\n",
    "for sentence in word_tokens:\n",
    "    filtered_words=[]\n",
    "    for word in sentence:\n",
    "        if word not in stopwords:\n",
    "            filtered_words.append(word)\n",
    "    all_tokens.append(filtered_words)\n",
    "all_tokens[:1]"
   ]
  },
  {
   "cell_type": "code",
   "execution_count": null,
   "id": "70638718-508f-4d09-8702-eda64e7d8d68",
   "metadata": {},
   "outputs": [],
   "source": [
    "# 1-4. 어근(형태소) 추출: Stemming/ Lemmatization -영어에서만 사용\n",
    "from nltk import LancasterStemmer\n",
    "stemmer=LancasterStemmer()\n",
    "stemmer.stem('working')"
   ]
  },
  {
   "cell_type": "code",
   "execution_count": null,
   "id": "c9fdb395-86aa-490d-9fdb-9f2d58086486",
   "metadata": {
    "tags": []
   },
   "outputs": [],
   "source": [
    "# 2.피처 벡터화/축출(BOW : CountVectorizer/TfidfVectorizer)\n",
    "# 2-1. 카운트 기반의 벡터화: CountVectorizer\n",
    "# 셋트 만들기\n",
    "from sklearn.datasets import fetch_20newsgroups\n",
    "train_news=fetch_20newsgroups(subset='train', remove=('headers','footers','quotes'), random_state=156)\n",
    "X_train=train_news.data\n",
    "y_train=train_news.target\n",
    "test_news=fetch_20newsgroups(subset='train', remove=('headers','footers','quotes'), random_state=156)\n",
    "X_test=test_news.data\n",
    "y_test=test_news.target\n",
    "\n",
    "# 벡처화\n",
    "from sklearn.feature_extraction.text import CountVectorizer\n",
    "cnt_vct=CountVectorizer()\n",
    "cnt_vct.fit(X_train)   # y값 없음!!\n",
    "X_train_cnt_vct=cnt_vct.transform(X_train)\n",
    "X_test_cnt_vct=cnt_vct.transform(X_test)\n",
    "\n",
    "# 3.모델로 분류\n",
    "from sklearn.linear_model import LogisticRegression\n",
    "lr_clf=LogisticRegression(solver='liblinear')\n",
    "lr_clf.fit(X_train_cnt_vct, y_train)\n",
    "pred=lr_clf.predict(X_test_cnt_vct)\n",
    "print('예측 정확도 : ', accuracy_score(y_test, pred))"
   ]
  },
  {
   "cell_type": "code",
   "execution_count": null,
   "id": "79f05b9f-5c6d-4cb1-9fb2-c4986d841a8c",
   "metadata": {
    "tags": []
   },
   "outputs": [],
   "source": [
    "# 2-2. TF-IDF: TfidfVectorizer\n",
    "# (자주 나오는 단어에 가중치/모든 문서에서 자주나오는 단어에 패털티)\n",
    "from sklearn.feature_extraction.text import TfidfVectorizer\n",
    "tfidf_vct=TfidfVectorizer()\n",
    "tfidf_vct.fit(X_train)\n",
    "X_train_tfdf_vct=tfidf_vct.transform(X_train)\n",
    "X_test_tfdf_vct=tfidf_vct.transform(X_test)\n",
    "\n",
    "# 3.모델로 분류\n",
    "from sklearn.linear_model import LogisticRegression\n",
    "lr_clf=LogisticRegression(solver='liblinear')\n",
    "lr_clf.fit(X_train_tfidf_vct, y_train)\n",
    "pred=lr_clf.predict(X_test_tfidf_vct)\n",
    "print('예측 정확도 : ', accuracy_score(y_test, pred))"
   ]
  },
  {
   "cell_type": "code",
   "execution_count": null,
   "id": "5bbac3bd-df5f-4644-add5-c4d493a8fdf3",
   "metadata": {
    "tags": []
   },
   "outputs": [],
   "source": [
    "# 3-1. GridSearchCV로 파라미터 성능 향상\n",
    "params={'C':[0.01, 0.1, 1, 5, 10]}\n",
    "gr_lr_clf = GridSearchCV(lr_clf,param_grid=params,cv=3,scoring='accuracy', verbose=1)\n",
    "gr_lr_clf.fit(X_train_tfdf_vct , y_train)\n",
    "print('LogisticRegression의 최적 파라미터: ', gr_lr_clf.best_params_)\n",
    "\n",
    "# 최적 C값으로 예측, 정확도 평가\n",
    "pred=gr_lr_clf.predict(X_test_tfdf_vct)\n",
    "print('예측 정확도 : ', accuracy_score(y_test, pred))"
   ]
  },
  {
   "cell_type": "code",
   "execution_count": null,
   "id": "0df68a37-a6e2-4d0c-a085-ed3ad83f037f",
   "metadata": {
    "tags": []
   },
   "outputs": [],
   "source": [
    "# pipeline으로 만들기:TF-IDF 벡터화, GridSearchCV 최적찾기\n",
    "from sklearn.datasets import fetch_20newsgroups\n",
    "train_news=fetch_20newsgroups(subset='train', remove=('headers','footers','quotes'), random_state=156)\n",
    "X_train=train_news.data\n",
    "y_train=train_news.target\n",
    "test_news=fetch_20newsgroups(subset='train', remove=('headers','footers','quotes'), random_state=156)\n",
    "X_test=test_news.data\n",
    "y_test=test_news.target\n",
    "\n",
    "from sklearn.pipeline import Pipeline\n",
    "\n",
    "pipeline=Pipeline([('tfdf_vect', TfidfVectorizer(stop_words='english')),\n",
    "                   ('lr_clf', LogisticRegression())])\n",
    "params={'tfdf_vect__ngram_range': [(1,1),(1,2)],\n",
    "        'tfdf_vect__max_df': [100,200,300],\n",
    "        'lr_clf__C': [1,5,7]}\n",
    "grid_cv_pipe=GridSearchCV(pipeline, param_grid=params,cv=3,scoring='accuracy')\n",
    "grid_cv_pipe.fit(X_train,y_train)\n",
    "print('최적 파라미터: ', grid_cv_pipe.best_params_)\n",
    "pred=gr_lr_clf.predict(X_test)\n",
    "print('예측 정확도 : ', accuracy_score(y_test, pred))"
   ]
  },
  {
   "cell_type": "code",
   "execution_count": null,
   "id": "a38837ba-e77b-44b4-909c-aa1c0302be7c",
   "metadata": {},
   "outputs": [],
   "source": []
  },
  {
   "cell_type": "code",
   "execution_count": null,
   "id": "edeae9f6-a068-49af-9f75-a178625704f3",
   "metadata": {},
   "outputs": [],
   "source": [
    "# 한글 단어 토큰\n",
    "from konlpy.tag import Okt\n",
    "okt = Okt()\n",
    "words = []\n",
    "for sentence in sentences:\n",
    "    word = okt.morphs(sentence)\n",
    "    words.append(word)\n",
    "print(words[:2])\n",
    "test_text = '나는 정말로 파이썬을 좋아한다. 아니 머신러닝을 더 좋아한다.'\n",
    "print('normalize :', okt.normalize(test_text)) # 문장으로 추출\n",
    "print('morphs :', okt.morphs(test_text))       # 구문 분석\n",
    "print('nouns :', okt.nouns(test_text))         # 명사만\n",
    "print('phrases :', okt.phrases(test_text))     # 구문\n",
    "print('pos :', okt.pos(test_text))             # 품사와 함께 값고 함께 "
   ]
  },
  {
   "cell_type": "code",
   "execution_count": null,
   "id": "23f599a4-f380-4427-aea7-209b88b0909f",
   "metadata": {},
   "outputs": [],
   "source": []
  },
  {
   "cell_type": "markdown",
   "id": "c6bb0f54-58cd-4d5c-a5a0-78772083f73b",
   "metadata": {},
   "source": [
    "#### 감성 분석: 지도학습, 비지도학습"
   ]
  },
  {
   "cell_type": "code",
   "execution_count": null,
   "id": "9787b430-d110-4fb5-b352-5eab05a318a5",
   "metadata": {
    "tags": []
   },
   "outputs": [],
   "source": [
    "# 영화 평가 분석// 지도학습 기반  (1) CountVectorizer + pipeline\n",
    "review_df = pd.read_csv('data/labeledTrainData.tsv', header=0, sep=\"\\t\", quoting=3)"
   ]
  },
  {
   "cell_type": "code",
   "execution_count": null,
   "id": "fa046b22-b1e8-49b6-aa61-b7e3c2aa3478",
   "metadata": {
    "tags": []
   },
   "outputs": [],
   "source": [
    "import re\n",
    "review_df['review'] = review_df['review'].str.replace('<br />',' ')\n",
    "review_df['review'] = review_df['review'].apply( lambda x : re.sub(\"[^a-zA-Z]\", \" \", x) )"
   ]
  },
  {
   "cell_type": "code",
   "execution_count": null,
   "id": "e3b3038f-7ca5-4916-8eaf-2457e1723107",
   "metadata": {
    "tags": []
   },
   "outputs": [],
   "source": [
    "y_df=review_df['sentiment']\n",
    "X_df=review_df.drop(['id','sentiment'], axis=1, inplace=False)\n",
    "X_train, X_test, y_train, y_test= train_test_split(X_df, y_df, test_size=0.3, random_state=156)\n",
    "print(X_train.shape, X_test.shape)"
   ]
  },
  {
   "cell_type": "code",
   "execution_count": null,
   "id": "cefdc34b-199c-405d-b9eb-82a255d48bd5",
   "metadata": {
    "tags": []
   },
   "outputs": [],
   "source": [
    "from sklearn.feature_extraction.text import CountVectorizer\n",
    "from sklearn.pipeline import Pipeline\n",
    "from sklearn.linear_model import LogisticRegression\n",
    "from sklearn.metrics import accuracy_score, roc_auc_score\n",
    "\n",
    "pipeline = Pipeline([('cnt_vect', CountVectorizer(stop_words='english',ngram_range=(1,2) )),\n",
    "                     ('lr_clf', LogisticRegression(solver='liblinear', C=10))])"
   ]
  },
  {
   "cell_type": "code",
   "execution_count": null,
   "id": "bb4d737a-3355-46c7-aa0a-607990d54464",
   "metadata": {
    "tags": []
   },
   "outputs": [],
   "source": [
    "pipeline.fit(X_train['review'], y_train)\n",
    "pred = pipeline.predict(X_test['review'])\n",
    "pred_probs = pipeline.predict_proba(X_test['review'])[:,1]\n",
    "print(f'예측 정확도는 {accuracy_score(y_test ,pred):.4f}')\n",
    "print(f'ROC-AUC는 {roc_auc_score(y_test, pred_probs):.4f}')"
   ]
  },
  {
   "cell_type": "markdown",
   "id": "b6ef5119-2760-4a28-aefd-e0b6a0a9921a",
   "metadata": {},
   "source": [
    "#### 영화 평가 분석// 지도학습 기반 (2) 한글"
   ]
  },
  {
   "cell_type": "code",
   "execution_count": null,
   "id": "2fe6b004-b17f-4ade-843c-883134b33cf9",
   "metadata": {
    "tags": []
   },
   "outputs": [],
   "source": [
    "# 참고\n",
    "# df['content']=df['content'].apply(lambda x : re.sub(r\"\\d+\",\"\",x))\n",
    "# import re\n",
    "# def cleaning(text):\n",
    "#     p = re.compile(\"[^ ㄱ-ㅣ가-힣\\.]+\")\n",
    "#     result = p.sub('',text)\n",
    "#     return result\n",
    "# df['content']=df['content'].apply(cleaning)"
   ]
  },
  {
   "cell_type": "code",
   "execution_count": null,
   "id": "4a019f43-e154-48a5-b7d6-812a67969349",
   "metadata": {},
   "outputs": [],
   "source": [
    "# 조사 지우는 함수\n",
    "def ok_not_josa(text):\n",
    "    filtered_words=[]\n",
    "    for word, type_ in result:\n",
    "        if type_ !='Josa':   # 또는 (type_ =='Noun' or 'Verb')\n",
    "            filtered_words.append(word)\n",
    "    return filtered_words      # 문자로 받아서( text), 리스트(filtered_words)롷 반환"
   ]
  },
  {
   "cell_type": "code",
   "execution_count": null,
   "id": "99880d15-9e4f-4dd2-86b8-b2d7b1f1b853",
   "metadata": {
    "tags": []
   },
   "outputs": [],
   "source": [
    "df=pd.read_csv('data/네이버 스마트스토어 리뷰.csv')\n",
    "\n",
    "import re\n",
    "df['content'] = df['content'].apply(lambda x : re.sub('[^ ㄱ-ㅣ가-힣]+', '', x))\n",
    "\n",
    "from konlpy.tag import Okt\n",
    "okt = Okt()\n",
    "def okt_tokenizer(text):\n",
    "    tokens_ko = okt.morphs(text, stem = True)\n",
    "    return tokens_ko\n",
    "\n",
    "with open('data/stopword.txt','r',encoding='utf-8') as f:\n",
    "    word = f.read()\n",
    "stopwords = word.split('\\n')"
   ]
  },
  {
   "cell_type": "code",
   "execution_count": null,
   "id": "12d50eba-e5dc-4de0-bcf5-bd6c2482fb6b",
   "metadata": {
    "tags": []
   },
   "outputs": [],
   "source": [
    "X_train, X_test, y_train, y_test=train_test_split(df['content'],df['score'], test_size=0.2, random_state=0 ) "
   ]
  },
  {
   "cell_type": "code",
   "execution_count": null,
   "id": "c929d195-21e4-4986-96c8-fb3431a240e9",
   "metadata": {
    "tags": []
   },
   "outputs": [],
   "source": [
    "from sklearn.feature_extraction.text import TfidfVectorizer\n",
    "\n",
    "tfidf_vct=TfidfVectorizer(tokenizer=okt_tokenizer, stop_words=stopwords, max_features=5000)\n",
    "tfidf_vct.fit(X_train)\n",
    "X_train_tf=tfidf_vct.transform(X_train)\n",
    "X_test_tf=tfidf_vct.transform(X_test)"
   ]
  },
  {
   "cell_type": "code",
   "execution_count": null,
   "id": "8c1e6771-64d6-4fd2-9bad-6329dbb49a51",
   "metadata": {
    "tags": []
   },
   "outputs": [],
   "source": [
    "lr_clf=LogisticRegression(solver='liblinear')\n",
    "lr_clf.fit(X_train_tf, y_train)\n",
    "pred=lr_clf.predict(X_test_tf)\n",
    "print('예측 정확도 : ', accuracy_score(y_test, pred))"
   ]
  },
  {
   "cell_type": "markdown",
   "id": "0067b8be-08f3-4767-b637-01efda015ecd",
   "metadata": {
    "tags": []
   },
   "source": [
    "#### LDA 토픽 모델링 (1): CountVectorizer만 허용"
   ]
  },
  {
   "cell_type": "code",
   "execution_count": null,
   "id": "fda3eacf-1e2e-465f-87c6-b4f86f5e28c9",
   "metadata": {
    "tags": []
   },
   "outputs": [],
   "source": [
    "from sklearn.datasets import fetch_20newsgroups\n",
    "from sklearn.feature_extraction.text import CountVectorizer\n",
    "from sklearn.decomposition import LatentDirichletAllocation"
   ]
  },
  {
   "cell_type": "code",
   "execution_count": null,
   "id": "60c34bc7-0d2c-4458-b1c8-b6dd3fea77f7",
   "metadata": {
    "tags": []
   },
   "outputs": [],
   "source": [
    "cats = ['rec.motorcycles', 'rec.sport.baseball', 'comp.graphics', \n",
    "    'comp.windows.x', 'talk.politics.mideast', \n",
    "    'soc.religion.christian', 'sci.electronics', 'sci.med' ]\n",
    "news_df= fetch_20newsgroups(subset='all', remove=('headers', 'footers', 'quotes'), categories=cats, random_state=0)"
   ]
  },
  {
   "cell_type": "code",
   "execution_count": null,
   "id": "03eb5fa6-3f1f-4b7e-9baa-c94fb3e578c7",
   "metadata": {
    "tags": []
   },
   "outputs": [],
   "source": [
    "count_vect = CountVectorizer(max_df=0.95,max_features=1000, min_df=2,stop_words='english', token_pattern = '[a-zA-Z]+',ngram_range=(1,2))\n",
    "feat_vect = count_vect.fit_transform(news_df.data)\n",
    "\n",
    "lda = LatentDirichletAllocation(n_components=8, random_state=0)\n",
    "lda.fit(feat_vect)\n",
    "print(lda.components_.shape)\n",
    "print(lda.components_)  # 볼 수 없음, 숫자만 가득"
   ]
  },
  {
   "cell_type": "code",
   "execution_count": null,
   "id": "4eff9336-9076-4865-b5e0-5ceb4747a507",
   "metadata": {
    "tags": []
   },
   "outputs": [],
   "source": [
    "def display_topics(model, feature_names, no_top_words):\n",
    "    for topic_index, topic in enumerate(model.components_):\n",
    "        print('Topic #',topic_index)\n",
    "        topic_word_indexes = topic.argsort()[::-1]\n",
    "        top_indexes=topic_word_indexes[:no_top_words]\n",
    "        feature_concat = ' '.join([feature_names[i] for i in top_indexes])\n",
    "        print(feature_concat)\n",
    "feature_names = count_vect.get_feature_names_out()\n",
    "display_topics(lda, feature_names, 15)     # 가장 연관도 높은 word 15개 보기"
   ]
  },
  {
   "cell_type": "markdown",
   "id": "3282995d-054e-462e-8e2e-d161bb84bdc9",
   "metadata": {
    "tags": []
   },
   "source": [
    "#### LDA 토픽 모델링-(2) 한글"
   ]
  },
  {
   "cell_type": "code",
   "execution_count": null,
   "id": "5841846b-c3fe-4124-b5ac-0866db07a57d",
   "metadata": {
    "tags": []
   },
   "outputs": [],
   "source": [
    "df = pd.read_csv('data/petition.csv')\n",
    "cats = ['정치개혁', '인권/성평등', '안전/환경', '교통/건축/국토', '육아/교육']\n",
    "df_cats = df[df['category'].isin(cats)]\n",
    "df_samples = df_cats.sample(frac=0.05, random_state = 0)\n",
    "df_samples['category'].value_counts()"
   ]
  },
  {
   "cell_type": "code",
   "execution_count": null,
   "id": "ba08266f-4d25-4cd5-933d-72b7560820f3",
   "metadata": {
    "tags": []
   },
   "outputs": [],
   "source": [
    "import re\n",
    "df_samples['content'] = df_samples['content'].apply(lambda x : re.sub('[^ ㄱ-ㅣ가-힣]+', '', x))\n",
    "\n",
    "from konlpy.tag import Okt\n",
    "okt = Okt()\n",
    "def okt_tokenizer(text):\n",
    "    tokens_ko = okt.morphs(text, stem = True)\n",
    "    return tokens_ko\n",
    "\n",
    "with open('data/stopword.txt','r',encoding='utf-8') as f:\n",
    "    word = f.read()\n",
    "stopwords = word.split('\\n')"
   ]
  },
  {
   "cell_type": "code",
   "execution_count": null,
   "id": "afe14872-0846-4be6-b3bd-b1e9986b7687",
   "metadata": {
    "tags": []
   },
   "outputs": [],
   "source": [
    "from sklearn.feature_extraction.text import TfidfVectorizer\n",
    "tfidf_vect = TfidfVectorizer(max_df = 0.9,max_features = 1000,min_df = 2, ngram_range = (1, 2),tokenizer = okt_tokenizer,stop_words = stopwords)\n",
    "tfidf_df = tfidf_vect.fit_transform(df_samples['content'])\n",
    "\n",
    "from sklearn.decomposition import LatentDirichletAllocation\n",
    "lda = LatentDirichletAllocation(n_components = 5, random_state = 0)\n",
    "lda.fit(tfidf_df)\n",
    "print(lda.components_.shape)\n",
    "print(lda.components_)"
   ]
  },
  {
   "cell_type": "code",
   "execution_count": null,
   "id": "37ac93c4-b9eb-452d-a655-6b4d3c171ce4",
   "metadata": {},
   "outputs": [],
   "source": [
    "feature_names = tfidf_vect.get_feature_names_out()\n",
    "display_topics(lda, feature_names, 10)"
   ]
  },
  {
   "cell_type": "code",
   "execution_count": null,
   "id": "361eefe1-052d-4ec7-bb8c-2acda24c05c8",
   "metadata": {},
   "outputs": [],
   "source": [
    "## LDA 토픽 모델링-(3) 한글/ 하나의 주제에서 주요 주제 뽑기"
   ]
  },
  {
   "cell_type": "code",
   "execution_count": null,
   "id": "f999ddef-00b7-4343-9006-1f13baa40dbf",
   "metadata": {
    "tags": []
   },
   "outputs": [],
   "source": [
    "df = pd.read_csv('data/petition.csv')"
   ]
  },
  {
   "cell_type": "code",
   "execution_count": 70,
   "id": "29348629-6df8-4215-8759-dd14f42449d0",
   "metadata": {
    "tags": []
   },
   "outputs": [],
   "source": [
    "cats = ['육아/교육']\n",
    "df_cats = df[df['category'].isin(cats)]\n",
    "df_samples = df_cats.sample(frac=0.5, random_state = 0)\n",
    "df_samples['content'] = df_samples['content'].apply(lambda x : re.sub('[^ ㄱ-ㅣ가-힣]+', '', x))"
   ]
  },
  {
   "cell_type": "code",
   "execution_count": null,
   "id": "62b06468-40db-4f96-b948-cf28ae443fb6",
   "metadata": {
    "tags": []
   },
   "outputs": [],
   "source": [
    "tfidf_vect = TfidfVectorizer(max_df = 0.9, max_features = 1000,min_df = 2, ngram_range = (1, 2),tokenizer = okt_tokenizer,stop_words = stopwords)\n",
    "tfidf_df = tfidf_vect.fit_transform(df_samples['content'])   "
   ]
  },
  {
   "cell_type": "code",
   "execution_count": null,
   "id": "ccd6438d-f9f7-49b5-a471-d9e147f82f0e",
   "metadata": {},
   "outputs": [],
   "source": [
    "from sklearn.decomposition import LatentDirichletAllocation\n",
    "lda = LatentDirichletAllocation(n_components = 5, random_state = 0)    \n",
    "lda.fit(tfidf_df)\n",
    "feature_names = tfidf_vect.get_feature_names_out()\n",
    "display_topics(lda, feature_names, 15)    # 토픽보기 함수 display_topics  15개"
   ]
  },
  {
   "cell_type": "code",
   "execution_count": null,
   "id": "2388b2a9-a717-4183-b450-4634bdbbeaa0",
   "metadata": {},
   "outputs": [],
   "source": [
    "lda.components_.argsort()[::-1][:5]"
   ]
  },
  {
   "cell_type": "code",
   "execution_count": null,
   "id": "26df3fef-b159-42c4-b2b1-485afd3ebfc3",
   "metadata": {},
   "outputs": [],
   "source": [
    "lda_df=pd.DataFrame(lda.components_, columns=tfidf_vect.get_feature_names_out())\n",
    "lda_df"
   ]
  },
  {
   "cell_type": "markdown",
   "id": "f1f9fd3d-14c3-4879-8be2-5add5409a62e",
   "metadata": {},
   "source": [
    "#### KMeans 군집"
   ]
  },
  {
   "cell_type": "code",
   "execution_count": null,
   "id": "57e96813-8205-47d8-b33e-98c839a0882d",
   "metadata": {
    "tags": []
   },
   "outputs": [],
   "source": [
    "# 앞에 이미: 불러오기/ 클리닝/ TfidfVectorizer 벡터화,학습,변환\n",
    "\n",
    "from sklearn.cluster import KMeans\n",
    "km_cluster = KMeans(n_clusters = 4, max_iter = 10000, random_state = 0)\n",
    "km_cluster.fit(tfidf_df)\n",
    "cluster_label = km_cluster.labels_\n",
    "clust_df = df_samples[['content', 'category']]\n",
    "clust_df['cluster'] = cluster_label\n",
    "clust_df.head(3)"
   ]
  },
  {
   "cell_type": "code",
   "execution_count": null,
   "id": "fe3215df-efb2-4268-8cea-ffb7fff9da4c",
   "metadata": {},
   "outputs": [],
   "source": [
    "# 군집별 top n 핵심단어, 그 단어의 중심 위치 상대값, 대상 파일명을 반환\n",
    "def get_cluster_details(cluster_model, cluster_data, feature_names, clusters_num, top_n_features=10):\n",
    "    cluster_details = {}\n",
    "    centroid_feature_ordered_ind = cluster_model.cluster_centers_.argsort()[:,::-1]\n",
    "    for cluster_num in range(clusters_num):\n",
    "        cluster_details[cluster_num] = {}\n",
    "        cluster_details[cluster_num]['cluster'] = cluster_num\n",
    "        top_feature_indexes = centroid_feature_ordered_ind[cluster_num, :top_n_features]\n",
    "        top_features = [ feature_names[ind] for ind in top_feature_indexes ]\n",
    "        top_feature_values = cluster_model.cluster_centers_[cluster_num, top_feature_indexes].tolist()\n",
    "        cluster_details[cluster_num]['top_features'] = top_features\n",
    "        cluster_details[cluster_num]['top_features_value'] = top_feature_values\n",
    "    return cluster_details"
   ]
  },
  {
   "cell_type": "code",
   "execution_count": null,
   "id": "df39a502-7e8e-4a6c-9b72-96c23f256816",
   "metadata": {},
   "outputs": [],
   "source": [
    "# 보기좋게 함수  get_cluster_details 를 표현하는 함수\n",
    "def print_cluster_details(cluster_details):\n",
    "    for cluster_num, cluster_detail in cluster_details.items():\n",
    "        print('# Cluster {0}'.format(cluster_num))\n",
    "        print('Top features:', cluster_detail['top_features'])\n",
    "clust_centers = km_cluster.cluster_centers_\n",
    "\n",
    "# 위 두 함수 불러오기\n",
    "feature_names = tfidf_vect.get_feature_names_out()\n",
    "cluster_details = get_cluster_details(cluster_model=km_cluster, cluster_data=clust_df, \n",
    "                                      feature_names=feature_names, clusters_num=4, top_n_features=10 )\n",
    "print_cluster_details(cluster_details)"
   ]
  },
  {
   "cell_type": "code",
   "execution_count": null,
   "id": "d90dc45d-503d-40e5-a209-6048312791f6",
   "metadata": {},
   "outputs": [],
   "source": []
  },
  {
   "cell_type": "code",
   "execution_count": null,
   "id": "902d86e0-7208-4ae4-a45e-a9d682e190a7",
   "metadata": {},
   "outputs": [],
   "source": []
  },
  {
   "cell_type": "code",
   "execution_count": null,
   "id": "6b398eea-4345-4603-a414-af9abf8a7bac",
   "metadata": {},
   "outputs": [],
   "source": []
  },
  {
   "cell_type": "code",
   "execution_count": null,
   "id": "569daa55-389b-48f0-a2b7-6a408e0d18bd",
   "metadata": {},
   "outputs": [],
   "source": []
  },
  {
   "cell_type": "code",
   "execution_count": null,
   "id": "6dec0b82-5f26-45a3-9a26-d24bb74a2a2b",
   "metadata": {},
   "outputs": [],
   "source": []
  },
  {
   "cell_type": "code",
   "execution_count": null,
   "id": "d8511bf8-8b1e-4807-bbf5-83d0bae5af66",
   "metadata": {},
   "outputs": [],
   "source": []
  },
  {
   "cell_type": "code",
   "execution_count": null,
   "id": "6f117757-0004-48c8-b6fc-e07445615a44",
   "metadata": {},
   "outputs": [],
   "source": []
  },
  {
   "cell_type": "code",
   "execution_count": null,
   "id": "3d167b23-4df9-478b-95af-3058dabc11e2",
   "metadata": {},
   "outputs": [],
   "source": []
  },
  {
   "cell_type": "code",
   "execution_count": null,
   "id": "7fe9d8c2-20fe-4fb7-b343-71c2b21177e6",
   "metadata": {},
   "outputs": [],
   "source": []
  },
  {
   "cell_type": "code",
   "execution_count": null,
   "id": "78b8ca9a-244c-461b-881a-83f85f32d477",
   "metadata": {},
   "outputs": [],
   "source": []
  },
  {
   "cell_type": "code",
   "execution_count": null,
   "id": "80c3fe27-92b2-4b2d-b022-ff8a3af73af2",
   "metadata": {},
   "outputs": [],
   "source": []
  },
  {
   "cell_type": "code",
   "execution_count": null,
   "id": "888e3213-85ac-4d85-b3e3-764054ea31e1",
   "metadata": {},
   "outputs": [],
   "source": []
  },
  {
   "cell_type": "code",
   "execution_count": null,
   "id": "64a1f0e8-fbe8-4214-ac73-0155c21b096b",
   "metadata": {},
   "outputs": [],
   "source": []
  }
 ],
 "metadata": {
  "kernelspec": {
   "display_name": "Python 3 (ipykernel)",
   "language": "python",
   "name": "python3"
  },
  "language_info": {
   "codemirror_mode": {
    "name": "ipython",
    "version": 3
   },
   "file_extension": ".py",
   "mimetype": "text/x-python",
   "name": "python",
   "nbconvert_exporter": "python",
   "pygments_lexer": "ipython3",
   "version": "3.11.5"
  }
 },
 "nbformat": 4,
 "nbformat_minor": 5
}
