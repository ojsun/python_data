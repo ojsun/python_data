{
 "cells": [
  {
   "cell_type": "markdown",
   "id": "e180b6f2-667c-4b79-9c0c-bff0f259dc4e",
   "metadata": {},
   "source": [
    "#### <머신러닝>"
   ]
  },
  {
   "cell_type": "code",
   "execution_count": 2,
   "id": "e239af6d-801e-4c23-a64b-40189bf3d9e8",
   "metadata": {
    "tags": []
   },
   "outputs": [],
   "source": [
    "from sklearn.datasets import load_iris"
   ]
  },
  {
   "cell_type": "code",
   "execution_count": 3,
   "id": "3ea42525-d24e-4006-ba1e-39d1a3d2642b",
   "metadata": {
    "tags": []
   },
   "outputs": [],
   "source": [
    "iris = load_iris()\n",
    "features=iris.data\n",
    "label=iris.target"
   ]
  },
  {
   "cell_type": "code",
   "execution_count": 4,
   "id": "798ebd4c-97f5-43ba-90c4-eae8f828059f",
   "metadata": {
    "tags": []
   },
   "outputs": [],
   "source": [
    "from sklearn.tree import DecisionTreeClassifier\n",
    "dt_clf= DecisionTreeClassifier(random_state=156)"
   ]
  },
  {
   "cell_type": "code",
   "execution_count": 5,
   "id": "4b043a46-2cf2-4fd1-b05e-8379c5245b31",
   "metadata": {
    "tags": []
   },
   "outputs": [],
   "source": [
    "from sklearn.model_selection import train_test_split\n",
    "\n",
    "X_train, X_test, y_train, y_test = train_test_split(features, \n",
    "                                                    label, test_size=0.2, stratify=label,random_state=165)"
   ]
  },
  {
   "cell_type": "code",
   "execution_count": 6,
   "id": "e381fbc2-74f5-4d57-bb57-99bf5da10966",
   "metadata": {
    "tags": []
   },
   "outputs": [],
   "source": [
    "# k-fold\n",
    "from sklearn.model_selection import KFold\n",
    "from sklearn.metrics import accuracy_score"
   ]
  },
  {
   "cell_type": "code",
   "execution_count": 7,
   "id": "e0e8eb3b-a81a-4e45-b7b8-b49db07810d2",
   "metadata": {
    "tags": []
   },
   "outputs": [
    {
     "name": "stdout",
     "output_type": "stream",
     "text": [
      "# 1\n",
      "교차 검증 정확도 : 0.9167\n",
      "학습데이터 크기 : 96\n",
      "검증데이터 크기 : 24\n",
      "검증 인덱스 : [ 0  1  2  3  4  5  6  7  8  9 10 11 12 13 14 15 16 17 18 19 20 21 22 23]\n",
      "# 2\n",
      "교차 검증 정확도 : 0.875\n",
      "학습데이터 크기 : 96\n",
      "검증데이터 크기 : 24\n",
      "검증 인덱스 : [24 25 26 27 28 29 30 31 32 33 34 35 36 37 38 39 40 41 42 43 44 45 46 47]\n",
      "# 3\n",
      "교차 검증 정확도 : 0.9583\n",
      "학습데이터 크기 : 96\n",
      "검증데이터 크기 : 24\n",
      "검증 인덱스 : [48 49 50 51 52 53 54 55 56 57 58 59 60 61 62 63 64 65 66 67 68 69 70 71]\n",
      "# 4\n",
      "교차 검증 정확도 : 0.9167\n",
      "학습데이터 크기 : 96\n",
      "검증데이터 크기 : 24\n",
      "검증 인덱스 : [72 73 74 75 76 77 78 79 80 81 82 83 84 85 86 87 88 89 90 91 92 93 94 95]\n",
      "# 5\n",
      "교차 검증 정확도 : 1.0\n",
      "학습데이터 크기 : 96\n",
      "검증데이터 크기 : 24\n",
      "검증 인덱스 : [ 96  97  98  99 100 101 102 103 104 105 106 107 108 109 110 111 112 113\n",
      " 114 115 116 117 118 119]\n",
      "회차별 정확도 검증 결과 :  [0.9167, 0.875, 0.9583, 0.9167, 1.0]\n",
      "평균 검증 정확도 :  0.9333400000000001\n"
     ]
    }
   ],
   "source": [
    "kfold = KFold(n_splits = 5)\n",
    "cv_accuracy = []\n",
    "n_iter = 0\n",
    "for train_index, test_index in kfold.split(X_train):   #(X_train, y_train)으로 해도 상관없음\n",
    "    X_tr, X_te = X_train[train_index], X_train[test_index]\n",
    "    y_tr, y_te = y_train[train_index], y_train[test_index]\n",
    "    ## 데이터학습 일반화 검증/ fit의 학습결과  \n",
    "    dt_clf.fit(X_tr, y_tr)\n",
    "    pred = dt_clf.predict(X_te)\n",
    "    n_iter += 1\n",
    "    accuracy = np.round(accuracy_score(y_te, pred), 4)\n",
    "    train_size = X_tr.shape[0]\n",
    "    test_size = X_te.shape[0]\n",
    "    print('#',n_iter)\n",
    "    print('교차 검증 정확도 :',accuracy)\n",
    "    print('학습데이터 크기 :',train_size)\n",
    "    print('검증데이터 크기 :',test_size)\n",
    "    print('검증 인덱스 :',test_index)\n",
    "    cv_accuracy.append(accuracy)\n",
    "print('회차별 정확도 검증 결과 : ', cv_accuracy)\n",
    "print('평균 검증 정확도 : ', np.mean(cv_accuracy)) "
   ]
  },
  {
   "cell_type": "code",
   "execution_count": 8,
   "id": "902b39d2-51e5-4bba-a795-f833b16682b9",
   "metadata": {
    "tags": []
   },
   "outputs": [
    {
     "name": "stdout",
     "output_type": "stream",
     "text": [
      "# 1\n",
      "교차 검증 정확도 : 1.0\n",
      "학습데이터 크기 : 120\n",
      "검증데이터 크기 : 30\n",
      "검증 인덱스 : [ 0  1  2  3  4  5  6  7  8  9 10 11 12 13 14 15 16 17 18 19 20 21 22 23\n",
      " 24 25 26 27 28 29]\n",
      "# 2\n",
      "교차 검증 정확도 : 0.9667\n",
      "학습데이터 크기 : 120\n",
      "검증데이터 크기 : 30\n",
      "검증 인덱스 : [30 31 32 33 34 35 36 37 38 39 40 41 42 43 44 45 46 47 48 49 50 51 52 53\n",
      " 54 55 56 57 58 59]\n",
      "# 3\n",
      "교차 검증 정확도 : 0.8667\n",
      "학습데이터 크기 : 120\n",
      "검증데이터 크기 : 30\n",
      "검증 인덱스 : [60 61 62 63 64 65 66 67 68 69 70 71 72 73 74 75 76 77 78 79 80 81 82 83\n",
      " 84 85 86 87 88 89]\n",
      "# 4\n",
      "교차 검증 정확도 : 0.9333\n",
      "학습데이터 크기 : 120\n",
      "검증데이터 크기 : 30\n",
      "검증 인덱스 : [ 90  91  92  93  94  95  96  97  98  99 100 101 102 103 104 105 106 107\n",
      " 108 109 110 111 112 113 114 115 116 117 118 119]\n",
      "# 5\n",
      "교차 검증 정확도 : 0.7333\n",
      "학습데이터 크기 : 120\n",
      "검증데이터 크기 : 30\n",
      "검증 인덱스 : [120 121 122 123 124 125 126 127 128 129 130 131 132 133 134 135 136 137\n",
      " 138 139 140 141 142 143 144 145 146 147 148 149]\n",
      "회차별 정확도 검증 결과 : [1.0, 0.9667, 0.8667, 0.9333, 0.7333]\n",
      "평균 검증 정확도 : 0.9\n"
     ]
    }
   ],
   "source": [
    "# data가 섞이지 않아서 결과가 문제 있음(균형잡히지않은 데이터로 편중)\n",
    "kfold = KFold(n_splits = 5)\n",
    "cv_accuracy = []\n",
    "n_iter = 0\n",
    "for train_index, test_index in kfold.split(features):\n",
    "    X_train, X_test = features[train_index], features[test_index]\n",
    "    y_train, y_test = label[train_index], label[test_index]\n",
    "    dt_clf.fit(X_train, y_train)\n",
    "    pred = dt_clf.predict(X_test)\n",
    "    n_iter += 1\n",
    "    accuracy = np.round(accuracy_score(y_test, pred), 4)\n",
    "    train_size = X_train.shape[0]\n",
    "    test_size = X_test.shape[0]\n",
    "    print('#',n_iter)\n",
    "    print('교차 검증 정확도 :',accuracy)\n",
    "    print('학습데이터 크기 :',train_size)\n",
    "    print('검증데이터 크기 :',test_size)\n",
    "    print('검증 인덱스 :',test_index)\n",
    "    cv_accuracy.append(accuracy)\n",
    "print('회차별 정확도 검증 결과 :', cv_accuracy)   \n",
    "print('평균 검증 정확도 :', np.mean(cv_accuracy))"
   ]
  },
  {
   "cell_type": "code",
   "execution_count": null,
   "id": "be5353f5-444a-433c-8711-9a5184a6f29b",
   "metadata": {},
   "outputs": [],
   "source": [
    "## 교차검증 -df로 해보기  \n",
    "iris=load_iris()\n",
    "iris_df=pd.DataFrame(data=iris.data, columns=iris.feature_names)\n",
    "iris_df['label']=iris.target\n",
    "iris_df.head(10)"
   ]
  },
  {
   "cell_type": "code",
   "execution_count": null,
   "id": "69817a2f-2b1c-423d-9bf9-5e0607fc6b25",
   "metadata": {},
   "outputs": [],
   "source": [
    "# StratifiedKFold  --y데이터를 보고 데이터를 균등하게 나눔\n",
    "# 분포 확인 작업  ==> k-fold의 문제(데이터 편증문제,shuffle이 되지않음)\n",
    "from sklearn.model_selection import StratifiedKFold\n",
    "skf = StratifiedKFold(n_splits = 3)\n",
    "n_iter = 0\n",
    "for train_index, tese_index in skf.split(iris_df, iris_df['label']):  # y데이터 꼭 넣어야\n",
    "    n_iter += 1\n",
    "    label_train = iris_df['label'].iloc[train_index]\n",
    "    label_test = iris_df['label'].iloc[test_index]\n",
    "    print(f'#{n_iter} 교차검증')\n",
    "    print('학습레이블 분포 :\\n', label_train.value_counts())\n",
    "    print('검증레이블 분포 :\\n', label_test.value_counts())"
   ]
  },
  {
   "cell_type": "code",
   "execution_count": null,
   "id": "dd19a492-7cd0-4de3-87bc-a8d868bd50c0",
   "metadata": {},
   "outputs": [],
   "source": [
    "from sklearn.tree import DecisionTreeClassifier\n",
    "from sklearn.metrics import accuracy_score\n",
    "from sklearn.model_selection import StratifiedKFold\n",
    "import numpy as np\n",
    "iris = load_iris()\n",
    "features = iris.data\n",
    "label = iris.target\n",
    "dt_clf = DecisionTreeClassifier(random_state = 156)\n",
    "skf = StratifiedKFold(n_splits = 5)\n",
    "cv_accuracy = []\n",
    "n_iter = 0\n",
    "for train_index, test_index in skf.split(features, label):\n",
    "    X_train, X_test = features[train_index], features[test_index]\n",
    "    y_train, y_test = label[train_index], label[test_index]\n",
    "    dt_clf.fit(X_train, y_train)\n",
    "    pred = dt_clf.predict(X_test)\n",
    "    n_iter += 1\n",
    "    accuracy = np.round(accuracy_score(y_test, pred), 4)\n",
    "    train_size = X_train.shape[0]\n",
    "    test_size = X_test.shape[0]\n",
    "    print('#',n_iter)\n",
    "    print('교차 검증 정확도 :',accuracy)\n",
    "    print('학습데이터 크기 :',train_size)\n",
    "    print('검증데이터 크기 :',test_size)\n",
    "    print('검증 인덱스 :',test_index)\n",
    "    cv_accuracy.append(accuracy)\n",
    "print('평균 검증 정확도 :', np.mean(cv_accuracy))"
   ]
  },
  {
   "cell_type": "code",
   "execution_count": null,
   "id": "1f4f1e58-4c24-4a17-a05b-cfad8da8804f",
   "metadata": {},
   "outputs": [],
   "source": [
    "# cross_val_score 교차검증\n",
    "\n",
    "from sklearn.model_selection import cross_val_score, cross_validate,cross_val_predict\n",
    "iris_data = load_iris()\n",
    "dt_clf = DecisionTreeClassifier(random_state= 156)\n",
    "data = iris_data.data\n",
    "label = iris_data.target\n",
    "scores = cross_val_score(dt_clf, data, label, scoring = 'accuracy', cv = 5)\n",
    "print('교차 검증별 정확도: ', np.round(scores, 4))\n",
    "print('평균 검증 정확도: ', np.round(np.mean(scores), 4))"
   ]
  },
  {
   "cell_type": "code",
   "execution_count": null,
   "id": "d1d6a56d-1ffa-4b80-a22f-8acff3d77c21",
   "metadata": {},
   "outputs": [],
   "source": [
    "# cross_validate 교차검증  \n",
    "cross_validate(dt_clf, data, label, scoring = ['accuracy', 'roc_auc_ovo'], cv = 5)"
   ]
  },
  {
   "cell_type": "code",
   "execution_count": null,
   "id": "50c26d43-b7e7-45d2-9bb2-e36305f3362d",
   "metadata": {},
   "outputs": [],
   "source": [
    "# cross_val_predict()\n",
    "cross_val_predict(dt_clf, data, label, cv = 5)"
   ]
  },
  {
   "cell_type": "code",
   "execution_count": null,
   "id": "87f6d9fd-1929-4266-b140-ec31ed8c40ad",
   "metadata": {},
   "outputs": [],
   "source": [
    "# 하이퍼 파라미터 성능향상(최적화): GridSearchCV "
   ]
  },
  {
   "cell_type": "code",
   "execution_count": null,
   "id": "492b03f9-cd30-421b-ba3d-21ecb3ab3f56",
   "metadata": {},
   "outputs": [],
   "source": [
    "from sklearn.model_selection import GridSearchCV\n",
    "iris=load_iris()\n",
    "X_train, X_test, y_train,y_test = train_test_split(iris.data,iris.target,\n",
    "                                                  test_size=0.2, random_state=121)\n",
    "dtree=DecisionTreeClassifier()\n",
    "parameters={'max_depth':[1,2,3], 'min_samples_split':[2,3]}\n",
    "grid_dtree=GridSearchCV(dtree, param_grid=parameters,cv=3,refit=True)\n",
    "grid_dtree.fit(X_train, y_train)"
   ]
  },
  {
   "cell_type": "code",
   "execution_count": null,
   "id": "8658821b-3399-405f-b794-84336698f04b",
   "metadata": {},
   "outputs": [],
   "source": [
    "scores_df=pd.DataFrame(grid_dtree.cv_results_)\n",
    "scores_df[['params','mean_test_score','rank_test_score',\n",
    "'split0_test_score', 'split1_test_score', 'split2_test_score']]"
   ]
  },
  {
   "cell_type": "code",
   "execution_count": null,
   "id": "d5aabae8-ffc7-48c0-9426-8d4a067b860e",
   "metadata": {},
   "outputs": [],
   "source": [
    "print(grid_dtree.best_params_)\n",
    "print(grid.best_score_:)\n",
    "print()"
   ]
  },
  {
   "cell_type": "code",
   "execution_count": null,
   "id": "db4a1820-9f42-45bf-beff-63cc6478ef7f",
   "metadata": {},
   "outputs": [],
   "source": [
    "grid_dtree.best_index_"
   ]
  },
  {
   "cell_type": "code",
   "execution_count": null,
   "id": "5a7e1e66-b253-4762-be6e-551d74167c20",
   "metadata": {},
   "outputs": [],
   "source": [
    "print('GridSearchCV 최적 파라미터:', grid_dtree.best_params_)\n",
    "print(f'GridSearchCV 최고 정확도: {grid_dtree.best_score_:.4f}')\n",
    "estimator = grid_dtree.best_estimator_\n",
    "pred = estimator.predict(X_test)\n",
    "print(f'테스트 데이터 세트 정확도:{accuracy_score(y_test,pred):.4f}')"
   ]
  },
  {
   "cell_type": "code",
   "execution_count": null,
   "id": "b5efd9f2-a30a-48b4-a042-8f4aed2f71e9",
   "metadata": {},
   "outputs": [],
   "source": [
    "from sklearn.neighbors import KNeighborsClassifier\n",
    "from sklearn.linear_model import LogisticRegression\n",
    "\n",
    "KNeighborsClassifier()\n",
    "LogisticRegression()"
   ]
  },
  {
   "cell_type": "code",
   "execution_count": null,
   "id": "df4efbe4-aaeb-47d4-8e05-ccafb621ff94",
   "metadata": {},
   "outputs": [],
   "source": [
    "from sklearn.model_selection import GridSearchCV\n",
    "params = {'max_depth' : [None, 6, 8 ,10, 12, 16 ,20, 24]}   #default 값을 넣어주는 것이 좋음 \n",
    "grid_cv = GridSearchCV(dt_clf, param_grid=params, scoring='accuracy', cv=5, verbose=1 )\n",
    "grid_cv.fit(X_train , y_train)\n",
    "print(f'GridSearchCV 최고 정확도 수치:{grid_cv.best_score_:.4f}')\n",
    "print('GridSearchCV 최적 하이퍼 파라미터:', grid_cv.best_params_)\n",
    "\n",
    "best_df_clf = grid_cv.best_estimator_\n",
    "pred1 = best_df_clf.predict(X_test)\n",
    "accuracy = accuracy_score(y_test , pred1)\n",
    "print(f'결정 트리 예측 정확도:{accuracy:.4f}')"
   ]
  },
  {
   "cell_type": "code",
   "execution_count": null,
   "id": "3b2c3317-1441-4f90-8aff-7a1c880f0e85",
   "metadata": {},
   "outputs": [],
   "source": [
    "# 데이터 전처리-레이블 인코딩 (필수 전처리)\n",
    "from sklearn.preprocessing import LabelEncoder\n",
    "items = ['TV', '냉장고', '전자레인지', '컴퓨터', '선풍기', '선풍기', '믹서', '냉장고']\n",
    "\n",
    "encoder=LabelEncoder()\n",
    "encoder.fit(items)\n",
    "labels=encoder.transform(items)\n",
    "print(labels)"
   ]
  },
  {
   "cell_type": "code",
   "execution_count": null,
   "id": "abc51524-c330-4169-901d-3f242c47f126",
   "metadata": {},
   "outputs": [],
   "source": [
    "encoder.classes_"
   ]
  },
  {
   "cell_type": "code",
   "execution_count": null,
   "id": "78963028-3096-41cc-a672-dc888aec4386",
   "metadata": {},
   "outputs": [],
   "source": [
    "encoder.inverse_transform([1,0,4,2,1,])"
   ]
  },
  {
   "cell_type": "code",
   "execution_count": null,
   "id": "b13df533-5a74-4aa1-9000-35c68f47ccd0",
   "metadata": {},
   "outputs": [],
   "source": [
    "# iris 데이터의 종속변수 변환\n",
    "import seaborn as sns\n",
    "\n",
    "iris=sns.load_dataset('iris')\n",
    "y=iris['species']\n",
    "y\n",
    "lb_enc= LabelEncoder()\n",
    "lb_enc.fit(y)  # fit은 y의 범주 종류를 저장하는 역할\n",
    "label_iris=lb_enc.transform(y)  # 위에서 저장한 범주를 맞는 숫자로 변환\n",
    "label_iris"
   ]
  },
  {
   "cell_type": "code",
   "execution_count": null,
   "id": "16495a09-4129-4607-b1aa-a8c31996a9b5",
   "metadata": {},
   "outputs": [],
   "source": [
    "# 원-핫 인코딩\n",
    "from sklearn.preprocessing import OneHotEncoder\n",
    "import numpy as np\n",
    "\n",
    "items = ['TV', '냉장고', '전자레인지', '컴퓨터', '선풍기', '선풍기', '믹서', '냉장고']\n",
    "items = np.array(items).reshape(-1, 1)\n",
    "oh_encoder = OneHotEncoder()\n",
    "oh_encoder.fit(items)\n",
    "oh_labels = oh_encoder.transform(items)\n",
    "oh_labels"
   ]
  },
  {
   "cell_type": "code",
   "execution_count": null,
   "id": "a5d9c7e1-3956-4801-94e9-91e4f1c4cdb8",
   "metadata": {},
   "outputs": [],
   "source": [
    "oh_encoder.categories_\n",
    "oh_encoder.inverse_transform([[0,0,1]])"
   ]
  },
  {
   "cell_type": "code",
   "execution_count": null,
   "id": "ba78ff8e-9635-42e0-a50e-eb5f2eaa3237",
   "metadata": {},
   "outputs": [],
   "source": [
    "print(oh_labels.shape)\n",
    "oh_labels.toarray()\n",
    "oh_encoder.categories_"
   ]
  },
  {
   "cell_type": "code",
   "execution_count": null,
   "id": "bdc434ba-6d96-4847-be2a-9e4b12d243bc",
   "metadata": {
    "scrolled": true
   },
   "outputs": [],
   "source": [
    "df = pd.DataFrame({'item':['TV', '냉장고', '전자레인지', '컴퓨터', \n",
    "'선풍기', '선풍기', '믹서', '냉장고']})\n",
    "pd.get_dummies(df)            "
   ]
  },
  {
   "cell_type": "code",
   "execution_count": null,
   "id": "cb11c808-d08b-4e83-a267-1777cae762f5",
   "metadata": {},
   "outputs": [],
   "source": [
    "# 데이터 전처리 -정규화 :표준화와 모두 같고 MinMaxScaler() 여기만 다름\n",
    "#** 무조건 0-1 사이 값임\n",
    "from sklearn.preprocessing import StandardScaler\n",
    "scaler = StandardScaler()\n",
    "scaler.fit(iris_df)\n",
    "iris_scaled = scaler.transform(iris_df)\n",
    "iris_df_scaled = pd.DataFrame(data = iris_scaled, columns = iris.feature_names)\n",
    "print('feature 들의 평균 값 :\\n', iris_df_scaled.mean())\n",
    "print('feature 들의 분산 값 :\\n', iris_df_scaled.var())"
   ]
  },
  {
   "cell_type": "code",
   "execution_count": null,
   "id": "3e89ed60-04d2-4bfd-b6db-136a8344b23b",
   "metadata": {},
   "outputs": [],
   "source": [
    "iris_df.head()"
   ]
  },
  {
   "cell_type": "code",
   "execution_count": null,
   "id": "582c3ca7-d1e8-47ed-82ef-eebd10baea51",
   "metadata": {},
   "outputs": [],
   "source": [
    "iris_df_scaled.head()"
   ]
  },
  {
   "cell_type": "code",
   "execution_count": null,
   "id": "168e32e3-30c0-49aa-89f2-bb76dded063a",
   "metadata": {},
   "outputs": [],
   "source": [
    "import matplotlib.pyplot as plt\n",
    "plt.subplot(2,1,1)\n",
    "plt.hist(iris_df['sepal length (cm)'], color='red')\n",
    "plt.subplot(2,2,1)\n",
    "plt.hist(iris_df_scaled['sepal length (cm)'], color='blue')"
   ]
  },
  {
   "cell_type": "code",
   "execution_count": null,
   "id": "03d77e67-0567-43e0-ba33-869f7f2b53e1",
   "metadata": {},
   "outputs": [],
   "source": [
    "from sklearn.datasets import load_iris\n",
    "import pandas as pd\n",
    "iris = load_iris()\n",
    "iris_data = iris.data\n",
    "iris_df = pd.DataFrame(data = iris_data, columns = iris.feature_names)\n",
    "print('feature 들의 평균 값 :', iris_df.mean())\n",
    "print('feature 들의 분산 값 :', iris_df.var())"
   ]
  },
  {
   "cell_type": "code",
   "execution_count": null,
   "id": "8eeb4cb0-5a0a-41ea-8e4f-17bcfef08f5e",
   "metadata": {},
   "outputs": [],
   "source": [
    "import matplotlib.pyplot as plt\n",
    "plt.figure(figsize=(4,2))\n",
    "plt.subplot(1,2,1)\n",
    "plt.hist(iris_df['sepal length (cm)'], bins = 5)\n",
    "plt.subplot(1,2,2)\n",
    "plt.hist(iris_df_scaled['sepal length (cm)'], bins = 5)"
   ]
  },
  {
   "cell_type": "code",
   "execution_count": null,
   "id": "3eeedaf8-107a-4434-adfd-f87d3c9401d4",
   "metadata": {},
   "outputs": [],
   "source": [
    "from sklearn.preprocessing import MinMaxScaler\n",
    "scaler = MinMaxScaler()\n",
    "scaler.fit(iris_df)\n",
    "iris_scaled = scaler.transform(iris_df)\n",
    "iris_df_scaled = pd.DataFrame(data = iris_scaled, columns = iris.feature_names)\n",
    "print('feature 들의 최소 값 :\\n', iris_df_scaled.min())\n",
    "print('feature 들의 최대 값 :\\n', iris_df_scaled.max())"
   ]
  },
  {
   "cell_type": "code",
   "execution_count": null,
   "id": "e9c55bc0-8efc-45e4-a30a-c16a1b791028",
   "metadata": {},
   "outputs": [],
   "source": [
    "scaler.inverse_transform([[1,1,1,1]])"
   ]
  },
  {
   "cell_type": "code",
   "execution_count": null,
   "id": "fe5ec8b6-627f-4c80-b0e8-5037c68b63e7",
   "metadata": {},
   "outputs": [],
   "source": [
    "scaler.transform([[8.1, 4.4, 6.9, 2.5]])"
   ]
  }
 ],
 "metadata": {
  "kernelspec": {
   "display_name": "Python 3 (ipykernel)",
   "language": "python",
   "name": "python3"
  },
  "language_info": {
   "codemirror_mode": {
    "name": "ipython",
    "version": 3
   },
   "file_extension": ".py",
   "mimetype": "text/x-python",
   "name": "python",
   "nbconvert_exporter": "python",
   "pygments_lexer": "ipython3",
   "version": "3.11.5"
  }
 },
 "nbformat": 4,
 "nbformat_minor": 5
}
