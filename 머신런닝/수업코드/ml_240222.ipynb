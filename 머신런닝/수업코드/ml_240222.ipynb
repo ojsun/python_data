{
 "cells": [
  {
   "cell_type": "code",
   "execution_count": 1,
   "id": "7bdd5457-e460-408f-82fc-cfb645fe69a5",
   "metadata": {},
   "outputs": [],
   "source": [
    "import pandas as pd\n",
    "import numpy as np\n",
    "import sklearn\n",
    "from sklearn.tree import DecisionTreeClassifier\n",
    "from sklearn.tree import DecisionTreeRegressor\n",
    "from sklearn.linear_model import LogisticRegression\n",
    "from sklearn.neighbors import KNeighborsClassifier\n",
    "from sklearn.ensemble import RandomForestClassifier\n",
    "from sklearn.ensemble  import AdaBoostClassifier\n",
    "from sklearn.model_selection import train_test_split,KFold,StratifiedKFold\n",
    "from sklearn.model_selection import cross_val_score, GridSearchCV\n",
    "from sklearn.metrics import accuracy_score,f1_score,roc_auc_score,confusion_matrix,precision_score, recall_score"
   ]
  },
  {
   "cell_type": "code",
   "execution_count": 2,
   "id": "2f11b531-a863-4148-8752-15c5f8defd17",
   "metadata": {},
   "outputs": [],
   "source": [
    "import warnings\n",
    "warnings.filterwarnings('ignore')\n",
    "\n",
    "import matplotlib.pyplot as plt\n",
    "import seaborn as sns"
   ]
  },
  {
   "cell_type": "code",
   "execution_count": 3,
   "id": "eac5aeb5-5400-456f-bf5a-fd2248b0e899",
   "metadata": {},
   "outputs": [],
   "source": [
    "from sklearn.datasets import load_breast_cancer"
   ]
  },
  {
   "cell_type": "code",
   "execution_count": 4,
   "id": "e1926d39-d2e2-418e-b7b2-ec11362855dc",
   "metadata": {},
   "outputs": [
    {
     "name": "stdout",
     "output_type": "stream",
     "text": [
      "      Iter       Train Loss   Remaining Time \n",
      "         1           1.2225            9.61s\n",
      "         2           1.1447            9.72s\n",
      "         3           1.0748            9.23s\n",
      "         4           1.0116            9.33s\n",
      "         5           0.9539            9.39s\n",
      "         6           0.9014            8.82s\n",
      "         7           0.8512            8.30s\n",
      "         8           0.8066            8.52s\n",
      "         9           0.7638            8.45s\n",
      "        10           0.7226            8.33s\n",
      "        20           0.4380            7.47s\n",
      "        30           0.2858            9.31s\n",
      "        40           0.1965            8.31s\n",
      "        50           0.1386            7.48s\n",
      "        60           0.0992            6.83s\n",
      "        70           0.0702            6.26s\n",
      "        80           0.0524            5.66s\n",
      "        90           0.0407            5.16s\n",
      "       100           0.0317            4.61s\n",
      "       200           0.0045            0.00s\n",
      "GBM 정확도: 0.9649\n"
     ]
    }
   ],
   "source": [
    "# GradientBoosting GDM\n",
    "from sklearn.ensemble import GradientBoostingClassifier\n",
    "from sklearn.ensemble import GradientBoostingRegressor\n",
    "cancer=load_breast_cancer()\n",
    "X_train, X_test, y_train, y_test = train_test_split(cancer.data, cancer.target, \n",
    "                    test_size=0.2 , random_state= 0)\n",
    "gb_clf = GradientBoostingClassifier(n_estimators=200, learning_rate=0.05, random_state=0, verbose=True)\n",
    "gb_clf.fit(X_train , y_train)\n",
    "gb_pred = gb_clf.predict(X_test)\n",
    "gb_accuracy = accuracy_score(y_test, gb_pred)\n",
    "print(f'GBM 정확도: {gb_accuracy:.4f}')"
   ]
  },
  {
   "cell_type": "code",
   "execution_count": 5,
   "id": "9ed5a99f-404a-459f-ae80-ba17149b1e88",
   "metadata": {},
   "outputs": [],
   "source": [
    "#  xgboost XGBoodt  # 사용 안할 것임\n",
    "import xgboost as xgb\n",
    "from xgboost import plot_importance\n",
    "\n",
    "dataset=load_breast_cancer()\n",
    "cancer_df = pd.DataFrame(data=dataset.data, columns=dataset.feature_names)\n",
    "cancer_df['target'] = dataset.target\n",
    "X_features = cancer_df.iloc[:, :-1]\n",
    "y_label = cancer_df.iloc[:, -1]\n",
    "X_train, X_test, y_train, y_test=train_test_split(X_features, y_label, \n",
    "                test_size=0.2, random_state=156 )\n",
    "X_tr, X_val, y_tr, y_val= train_test_split(X_train, y_train,\n",
    "                test_size=0.1, random_state=156 )"
   ]
  },
  {
   "cell_type": "code",
   "execution_count": 6,
   "id": "eb8cc15a-926b-4971-b634-680e38407a69",
   "metadata": {},
   "outputs": [
    {
     "name": "stdout",
     "output_type": "stream",
     "text": [
      "[0]\ttrain-logloss:0.65016\teval-logloss:0.66183\n",
      "[1]\ttrain-logloss:0.61131\teval-logloss:0.63609\n",
      "[2]\ttrain-logloss:0.57563\teval-logloss:0.61144\n",
      "[3]\ttrain-logloss:0.54310\teval-logloss:0.59204\n",
      "[4]\ttrain-logloss:0.51323\teval-logloss:0.57329\n",
      "[5]\ttrain-logloss:0.48447\teval-logloss:0.55037\n",
      "[6]\ttrain-logloss:0.45796\teval-logloss:0.52930\n",
      "[7]\ttrain-logloss:0.43436\teval-logloss:0.51534\n",
      "[8]\ttrain-logloss:0.41150\teval-logloss:0.49718\n",
      "[9]\ttrain-logloss:0.39027\teval-logloss:0.48154\n",
      "[10]\ttrain-logloss:0.37128\teval-logloss:0.46990\n",
      "[11]\ttrain-logloss:0.35254\teval-logloss:0.45474\n",
      "[12]\ttrain-logloss:0.33528\teval-logloss:0.44229\n",
      "[13]\ttrain-logloss:0.31892\teval-logloss:0.42961\n",
      "[14]\ttrain-logloss:0.30439\teval-logloss:0.42065\n",
      "[15]\ttrain-logloss:0.29000\teval-logloss:0.40958\n",
      "[16]\ttrain-logloss:0.27651\teval-logloss:0.39887\n",
      "[17]\ttrain-logloss:0.26389\teval-logloss:0.39050\n",
      "[18]\ttrain-logloss:0.25210\teval-logloss:0.38254\n",
      "[19]\ttrain-logloss:0.24123\teval-logloss:0.37393\n",
      "[20]\ttrain-logloss:0.23076\teval-logloss:0.36789\n",
      "[21]\ttrain-logloss:0.22091\teval-logloss:0.36017\n",
      "[22]\ttrain-logloss:0.21155\teval-logloss:0.35421\n",
      "[23]\ttrain-logloss:0.20263\teval-logloss:0.34683\n",
      "[24]\ttrain-logloss:0.19434\teval-logloss:0.34111\n",
      "[25]\ttrain-logloss:0.18637\teval-logloss:0.33634\n",
      "[26]\ttrain-logloss:0.17875\teval-logloss:0.33082\n",
      "[27]\ttrain-logloss:0.17167\teval-logloss:0.32675\n",
      "[28]\ttrain-logloss:0.16481\teval-logloss:0.32099\n",
      "[29]\ttrain-logloss:0.15835\teval-logloss:0.31671\n",
      "[30]\ttrain-logloss:0.15225\teval-logloss:0.31277\n",
      "[31]\ttrain-logloss:0.14650\teval-logloss:0.30882\n",
      "[32]\ttrain-logloss:0.14102\teval-logloss:0.30437\n",
      "[33]\ttrain-logloss:0.13590\teval-logloss:0.30103\n",
      "[34]\ttrain-logloss:0.13109\teval-logloss:0.29794\n",
      "[35]\ttrain-logloss:0.12647\teval-logloss:0.29499\n",
      "[36]\ttrain-logloss:0.12197\teval-logloss:0.29295\n",
      "[37]\ttrain-logloss:0.11784\teval-logloss:0.29043\n",
      "[38]\ttrain-logloss:0.11379\teval-logloss:0.28927\n",
      "[39]\ttrain-logloss:0.10994\teval-logloss:0.28578\n",
      "[40]\ttrain-logloss:0.10638\teval-logloss:0.28364\n",
      "[41]\ttrain-logloss:0.10302\teval-logloss:0.28183\n",
      "[42]\ttrain-logloss:0.09963\teval-logloss:0.28005\n",
      "[43]\ttrain-logloss:0.09649\teval-logloss:0.27972\n",
      "[44]\ttrain-logloss:0.09359\teval-logloss:0.27744\n",
      "[45]\ttrain-logloss:0.09080\teval-logloss:0.27542\n",
      "[46]\ttrain-logloss:0.08807\teval-logloss:0.27504\n",
      "[47]\ttrain-logloss:0.08541\teval-logloss:0.27458\n",
      "[48]\ttrain-logloss:0.08299\teval-logloss:0.27348\n",
      "[49]\ttrain-logloss:0.08035\teval-logloss:0.27247\n",
      "[50]\ttrain-logloss:0.07786\teval-logloss:0.27163\n",
      "[51]\ttrain-logloss:0.07550\teval-logloss:0.27094\n",
      "[52]\ttrain-logloss:0.07344\teval-logloss:0.26967\n",
      "[53]\ttrain-logloss:0.07147\teval-logloss:0.27008\n",
      "[54]\ttrain-logloss:0.06964\teval-logloss:0.26890\n",
      "[55]\ttrain-logloss:0.06766\teval-logloss:0.26854\n",
      "[56]\ttrain-logloss:0.06591\teval-logloss:0.26900\n",
      "[57]\ttrain-logloss:0.06433\teval-logloss:0.26790\n",
      "[58]\ttrain-logloss:0.06259\teval-logloss:0.26663\n",
      "[59]\ttrain-logloss:0.06107\teval-logloss:0.26743\n",
      "[60]\ttrain-logloss:0.05957\teval-logloss:0.26610\n",
      "[61]\ttrain-logloss:0.05817\teval-logloss:0.26644\n",
      "[62]\ttrain-logloss:0.05691\teval-logloss:0.26673\n",
      "[63]\ttrain-logloss:0.05550\teval-logloss:0.26550\n",
      "[64]\ttrain-logloss:0.05422\teval-logloss:0.26443\n",
      "[65]\ttrain-logloss:0.05311\teval-logloss:0.26500\n",
      "[66]\ttrain-logloss:0.05207\teval-logloss:0.26591\n",
      "[67]\ttrain-logloss:0.05093\teval-logloss:0.26501\n",
      "[68]\ttrain-logloss:0.04976\teval-logloss:0.26435\n",
      "[69]\ttrain-logloss:0.04872\teval-logloss:0.26360\n",
      "[70]\ttrain-logloss:0.04776\teval-logloss:0.26319\n",
      "[71]\ttrain-logloss:0.04680\teval-logloss:0.26255\n",
      "[72]\ttrain-logloss:0.04580\teval-logloss:0.26204\n",
      "[73]\ttrain-logloss:0.04484\teval-logloss:0.26254\n",
      "[74]\ttrain-logloss:0.04388\teval-logloss:0.26289\n",
      "[75]\ttrain-logloss:0.04309\teval-logloss:0.26249\n",
      "[76]\ttrain-logloss:0.04224\teval-logloss:0.26217\n",
      "[77]\ttrain-logloss:0.04133\teval-logloss:0.26166\n",
      "[78]\ttrain-logloss:0.04050\teval-logloss:0.26179\n",
      "[79]\ttrain-logloss:0.03967\teval-logloss:0.26103\n",
      "[80]\ttrain-logloss:0.03876\teval-logloss:0.26094\n",
      "[81]\ttrain-logloss:0.03806\teval-logloss:0.26148\n",
      "[82]\ttrain-logloss:0.03740\teval-logloss:0.26054\n",
      "[83]\ttrain-logloss:0.03676\teval-logloss:0.25967\n",
      "[84]\ttrain-logloss:0.03605\teval-logloss:0.25905\n",
      "[85]\ttrain-logloss:0.03545\teval-logloss:0.26007\n",
      "[86]\ttrain-logloss:0.03489\teval-logloss:0.25984\n",
      "[87]\ttrain-logloss:0.03425\teval-logloss:0.25933\n",
      "[88]\ttrain-logloss:0.03361\teval-logloss:0.25932\n",
      "[89]\ttrain-logloss:0.03311\teval-logloss:0.26002\n",
      "[90]\ttrain-logloss:0.03260\teval-logloss:0.25936\n",
      "[91]\ttrain-logloss:0.03202\teval-logloss:0.25886\n",
      "[92]\ttrain-logloss:0.03152\teval-logloss:0.25918\n",
      "[93]\ttrain-logloss:0.03107\teval-logloss:0.25864\n",
      "[94]\ttrain-logloss:0.03049\teval-logloss:0.25951\n",
      "[95]\ttrain-logloss:0.03007\teval-logloss:0.26091\n",
      "[96]\ttrain-logloss:0.02963\teval-logloss:0.26014\n",
      "[97]\ttrain-logloss:0.02913\teval-logloss:0.25974\n",
      "[98]\ttrain-logloss:0.02866\teval-logloss:0.25937\n",
      "[99]\ttrain-logloss:0.02829\teval-logloss:0.25893\n",
      "[100]\ttrain-logloss:0.02789\teval-logloss:0.25928\n",
      "[101]\ttrain-logloss:0.02751\teval-logloss:0.25955\n",
      "[102]\ttrain-logloss:0.02714\teval-logloss:0.25901\n",
      "[103]\ttrain-logloss:0.02668\teval-logloss:0.25991\n",
      "[104]\ttrain-logloss:0.02634\teval-logloss:0.25950\n",
      "[105]\ttrain-logloss:0.02594\teval-logloss:0.25924\n",
      "[106]\ttrain-logloss:0.02556\teval-logloss:0.25901\n",
      "[107]\ttrain-logloss:0.02522\teval-logloss:0.25738\n",
      "[108]\ttrain-logloss:0.02492\teval-logloss:0.25702\n",
      "[109]\ttrain-logloss:0.02453\teval-logloss:0.25789\n",
      "[110]\ttrain-logloss:0.02418\teval-logloss:0.25770\n",
      "[111]\ttrain-logloss:0.02384\teval-logloss:0.25842\n",
      "[112]\ttrain-logloss:0.02356\teval-logloss:0.25810\n",
      "[113]\ttrain-logloss:0.02322\teval-logloss:0.25848\n",
      "[114]\ttrain-logloss:0.02290\teval-logloss:0.25833\n",
      "[115]\ttrain-logloss:0.02260\teval-logloss:0.25820\n",
      "[116]\ttrain-logloss:0.02229\teval-logloss:0.25905\n",
      "[117]\ttrain-logloss:0.02204\teval-logloss:0.25878\n",
      "[118]\ttrain-logloss:0.02176\teval-logloss:0.25728\n",
      "[119]\ttrain-logloss:0.02149\teval-logloss:0.25722\n",
      "[120]\ttrain-logloss:0.02119\teval-logloss:0.25764\n",
      "[121]\ttrain-logloss:0.02095\teval-logloss:0.25761\n",
      "[122]\ttrain-logloss:0.02067\teval-logloss:0.25832\n",
      "[123]\ttrain-logloss:0.02045\teval-logloss:0.25808\n",
      "[124]\ttrain-logloss:0.02023\teval-logloss:0.25855\n",
      "[125]\ttrain-logloss:0.01998\teval-logloss:0.25714\n",
      "[126]\ttrain-logloss:0.01973\teval-logloss:0.25587\n",
      "[127]\ttrain-logloss:0.01946\teval-logloss:0.25640\n",
      "[128]\ttrain-logloss:0.01927\teval-logloss:0.25685\n",
      "[129]\ttrain-logloss:0.01908\teval-logloss:0.25665\n",
      "[130]\ttrain-logloss:0.01886\teval-logloss:0.25712\n",
      "[131]\ttrain-logloss:0.01863\teval-logloss:0.25609\n",
      "[132]\ttrain-logloss:0.01839\teval-logloss:0.25649\n",
      "[133]\ttrain-logloss:0.01816\teval-logloss:0.25789\n",
      "[134]\ttrain-logloss:0.01802\teval-logloss:0.25811\n",
      "[135]\ttrain-logloss:0.01785\teval-logloss:0.25794\n",
      "[136]\ttrain-logloss:0.01763\teval-logloss:0.25876\n",
      "[137]\ttrain-logloss:0.01748\teval-logloss:0.25884\n",
      "[138]\ttrain-logloss:0.01732\teval-logloss:0.25867\n",
      "[139]\ttrain-logloss:0.01719\teval-logloss:0.25876\n",
      "[140]\ttrain-logloss:0.01696\teval-logloss:0.25987\n",
      "[141]\ttrain-logloss:0.01681\teval-logloss:0.25960\n",
      "[142]\ttrain-logloss:0.01669\teval-logloss:0.25982\n",
      "[143]\ttrain-logloss:0.01656\teval-logloss:0.25992\n",
      "[144]\ttrain-logloss:0.01638\teval-logloss:0.26035\n",
      "[145]\ttrain-logloss:0.01623\teval-logloss:0.26055\n",
      "[146]\ttrain-logloss:0.01606\teval-logloss:0.26092\n",
      "[147]\ttrain-logloss:0.01589\teval-logloss:0.26137\n",
      "[148]\ttrain-logloss:0.01572\teval-logloss:0.25999\n",
      "[149]\ttrain-logloss:0.01556\teval-logloss:0.26028\n",
      "[150]\ttrain-logloss:0.01546\teval-logloss:0.26048\n",
      "[151]\ttrain-logloss:0.01531\teval-logloss:0.26142\n",
      "[152]\ttrain-logloss:0.01515\teval-logloss:0.26188\n",
      "[153]\ttrain-logloss:0.01501\teval-logloss:0.26227\n",
      "[154]\ttrain-logloss:0.01486\teval-logloss:0.26287\n",
      "[155]\ttrain-logloss:0.01476\teval-logloss:0.26299\n",
      "[156]\ttrain-logloss:0.01462\teval-logloss:0.26346\n",
      "[157]\ttrain-logloss:0.01448\teval-logloss:0.26379\n",
      "[158]\ttrain-logloss:0.01434\teval-logloss:0.26306\n",
      "[159]\ttrain-logloss:0.01424\teval-logloss:0.26237\n",
      "[160]\ttrain-logloss:0.01410\teval-logloss:0.26251\n",
      "[161]\ttrain-logloss:0.01401\teval-logloss:0.26265\n",
      "[162]\ttrain-logloss:0.01392\teval-logloss:0.26264\n",
      "[163]\ttrain-logloss:0.01380\teval-logloss:0.26250\n",
      "[164]\ttrain-logloss:0.01372\teval-logloss:0.26264\n",
      "[165]\ttrain-logloss:0.01359\teval-logloss:0.26255\n",
      "[166]\ttrain-logloss:0.01350\teval-logloss:0.26188\n",
      "[167]\ttrain-logloss:0.01342\teval-logloss:0.26203\n",
      "[168]\ttrain-logloss:0.01331\teval-logloss:0.26190\n",
      "[169]\ttrain-logloss:0.01319\teval-logloss:0.26184\n",
      "[170]\ttrain-logloss:0.01312\teval-logloss:0.26133\n",
      "[171]\ttrain-logloss:0.01304\teval-logloss:0.26148\n",
      "[172]\ttrain-logloss:0.01297\teval-logloss:0.26157\n",
      "[173]\ttrain-logloss:0.01285\teval-logloss:0.26253\n",
      "[174]\ttrain-logloss:0.01278\teval-logloss:0.26229\n",
      "[175]\ttrain-logloss:0.01267\teval-logloss:0.26086\n",
      "[176]\ttrain-logloss:0.01258\teval-logloss:0.26103\n"
     ]
    }
   ],
   "source": [
    "dtr = xgb.DMatrix(data=X_tr, label=y_tr)\n",
    "dval = xgb.DMatrix(data=X_val, label=y_val)\n",
    "dtest = xgb.DMatrix(data=X_test , label=y_test)\n",
    "params = {'max_depth':3,'eta': 0.05,'objective':'binary:logistic','eval_metric':'logloss'}\n",
    "num_rounds = 400\n",
    "\n",
    "eval_list = [(dtr,'train'),(dval,'eval')] \n",
    "# 또는 eval_list = [(dval,'eval')]\n",
    "xgb_model = xgb.train(params = params , dtrain=dtr, num_boost_round=num_rounds , \n",
    "            early_stopping_rounds=50, evals=eval_list )"
   ]
  },
  {
   "cell_type": "code",
   "execution_count": 7,
   "id": "82cfc707-02d4-4d71-9b15-b13135e4630c",
   "metadata": {},
   "outputs": [
    {
     "name": "stdout",
     "output_type": "stream",
     "text": [
      "predict( ) 수행 결과값을 10개만 표시, 예측 확률 값으로 표시됨\n",
      "[0.845 0.008 0.68  0.081 0.975 0.999 0.998 0.998 0.996 0.001]\n",
      "예측값 10개만 표시: [1, 0, 1, 0, 1, 1, 1, 1, 1, 0]\n"
     ]
    }
   ],
   "source": [
    "pred_probs = xgb_model.predict(dtest)\n",
    "print('predict( ) 수행 결과값을 10개만 표시, 예측 확률 값으로 표시됨')\n",
    "print(np.round(pred_probs[:10],3))\n",
    "preds = [ 1 if x > 0.5 else 0 for x in pred_probs ]\n",
    "print('예측값 10개만 표시:',preds[:10])"
   ]
  },
  {
   "cell_type": "code",
   "execution_count": 8,
   "id": "85a07d09-e14e-47ac-b4e5-af69decbb93a",
   "metadata": {},
   "outputs": [
    {
     "ename": "SyntaxError",
     "evalue": "keyword argument repeated: early_stopping_rounds (966789882.py, line 7)",
     "output_type": "error",
     "traceback": [
      "\u001b[1;36m  Cell \u001b[1;32mIn[8], line 7\u001b[1;36m\u001b[0m\n\u001b[1;33m    xgb_wrapper.fit(X_train, y_train, early_stopping_rounds = 100,early_stopping_rounds=10, ##주의\u001b[0m\n\u001b[1;37m                                                                  ^\u001b[0m\n\u001b[1;31mSyntaxError\u001b[0m\u001b[1;31m:\u001b[0m keyword argument repeated: early_stopping_rounds\n"
     ]
    }
   ],
   "source": [
    "#사이킷런 래퍼 XGBClassifier --사용 예정! \n",
    "from xgboost import XGBClassifier \n",
    "\n",
    "xgb_wrapper = XGBClassifier(n_estimators=400, learning_rate=0.1,\n",
    "                max_depth=3)  \n",
    "evals = [(X_val, y_val)]\n",
    "xgb_wrapper.fit(X_train, y_train, early_stopping_rounds = 100,early_stopping_rounds=10, ##주의\n",
    "                    eval_metric = \"logloss\", eval_set=evals, verbose=30)\n",
    "preds = xgb_wrapper.predict(X_test)\n",
    "pred_proba = xgb_wrapper.predict_proba(X_test)[:, 1]"
   ]
  },
  {
   "cell_type": "code",
   "execution_count": null,
   "id": "20d1c657-ff6a-4bd5-b8a9-57e409c0da89",
   "metadata": {},
   "outputs": [],
   "source": [
    "print(accuracy_score(y_test, preds))"
   ]
  },
  {
   "cell_type": "code",
   "execution_count": null,
   "id": "9c9cf38f-bf4a-4b84-82d3-97155429a212",
   "metadata": {},
   "outputs": [],
   "source": [
    "    confusion = confusion_matrix( y_test, preds)\n",
    "    accuracy = accuracy_score(y_test , preds)\n",
    "    precision = precision_score(y_test , preds)\n",
    "    recall = recall_score(y_test , preds)\n",
    "    f1 = f1_score(y_test,preds)\n",
    "    roc_auc = roc_auc_score(y_test, pred_proba)\n",
    "    print('오차 행렬')\n",
    "    print(confusion)\n",
    "    # ROC-AUC print 추가\n",
    "    print(f'정확도: {accuracy:.4f}, 정밀도: {precision:.4f}, 재현율: {recall:.4f}')\n",
    "    print(f'F1: {f1:.4f}, AUC:{roc_auc:.4f}')"
   ]
  },
  {
   "cell_type": "code",
   "execution_count": null,
   "id": "4e22b533-fdd6-4a43-bf24-dc02654bc09a",
   "metadata": {},
   "outputs": [],
   "source": [
    "xgb_wrapper.feature_importances_"
   ]
  },
  {
   "cell_type": "code",
   "execution_count": null,
   "id": "1fc011a4-d3eb-4462-8b04-fd71f6a90754",
   "metadata": {},
   "outputs": [],
   "source": [
    "ftr_importances_values = xgb_wrapper.feature_importances_\n",
    "ftr_importances = pd.Series(ftr_importances_values,index=cancer.feature_names)\n",
    "ftr_top20 = ftr_importances.sort_values(ascending=False)[:20]\n",
    "plt.figure(figsize=(8,6))\n",
    "plt.title('Feature importances Top 20')\n",
    "sns.barplot(x=ftr_top20 , y = ftr_top20.index)"
   ]
  },
  {
   "cell_type": "code",
   "execution_count": null,
   "id": "2caafb3d-a605-401f-93da-05f7485c7976",
   "metadata": {},
   "outputs": [],
   "source": [
    "# 스태킹 앙상블\n",
    "import numpy as np\n",
    "from sklearn.datasets import load_breast_cancer\n",
    "from sklearn.model_selection import train_test_split\n",
    "from sklearn.metrics import accuracy_score\n",
    "\n",
    "cancer_data = load_breast_cancer()\n",
    "X_data = cancer_data.data\n",
    "y_label = cancer_data.target\n",
    "X_train , X_test , y_train , y_test = train_test_split(X_data, y_label, test_size=0.2 , random_state=0)"
   ]
  },
  {
   "cell_type": "code",
   "execution_count": null,
   "id": "21357483-27ce-4d7a-834e-d749f05fd212",
   "metadata": {},
   "outputs": [],
   "source": [
    "X_test"
   ]
  },
  {
   "cell_type": "code",
   "execution_count": null,
   "id": "8e914a15-6e8e-425e-a630-9c1e557d6814",
   "metadata": {},
   "outputs": [],
   "source": [
    "from sklearn.ensemble import AdaBoostClassifier\n",
    "\n",
    "knn_clf =KNeighborsClassifier(n_neighbors=4)\n",
    "rf_clf = RandomForestClassifier(n_estimators=100, random_state=0)\n",
    "dt_clf = DecisionTreeClassifier(random_state=0)\n",
    "ada_clf = AdaBoostClassifier(n_estimators=100)\n",
    "# 최종 Stacking 모델을 위한 Classifier생성. \n",
    "lr_final = LogisticRegression(solver='liblinear')"
   ]
  },
  {
   "cell_type": "code",
   "execution_count": null,
   "id": "7747055e-3f62-49e2-b01a-a7f771cd5659",
   "metadata": {},
   "outputs": [],
   "source": [
    "# knn_clf.fit(X_train, y_train)\n",
    "rf_clf.fit(X_train , y_train)\n",
    "dt_clf.fit(X_train , y_train)\n",
    "ada_clf.fit(X_train, y_train)\n",
    "# 학습된 개별 모델들이 각자 반환하는 학습 데이터 셋을 생성\n",
    "# knn_train = knn_clf.predict(X_train)\n",
    "rf_train = rf_clf.predict(X_train)\n",
    "dt_train = dt_clf.predict(X_train)\n",
    "ada_train = ada_clf.predict(X_train)"
   ]
  },
  {
   "cell_type": "code",
   "execution_count": null,
   "id": "fd5973ba-e915-4122-b6e0-855a555439de",
   "metadata": {},
   "outputs": [],
   "source": [
    "# knn_test = knn_clf.predict(X_test)\n",
    "rf_test = rf_clf.predict(X_test)\n",
    "dt_test = dt_clf.predict(X_test)\n",
    "ada_test = ada_clf.predict(X_test)\n",
    "\n",
    "# 학습 데이터와 테스트 데이터로 합치기\n",
    "pred_train = np.vstack([rf_train, dt_train, ada_train]).T\n",
    "pred_test = np.vstack([ rf_test, dt_test, ada_test]).T"
   ]
  },
  {
   "cell_type": "code",
   "execution_count": null,
   "id": "f6b20f5d-aa31-40cd-8ef0-137a1d22e1f8",
   "metadata": {},
   "outputs": [],
   "source": [
    "lr_final.fit(pred_train, y_train)\n",
    "final = lr_final.predict(pred_test)\n",
    "print(f'최종 모델의 정확도: {accuracy_score(y_test , final):.4f}')"
   ]
  },
  {
   "cell_type": "code",
   "execution_count": null,
   "id": "c67dc16e-c4f9-42c6-812f-412e937eea80",
   "metadata": {},
   "outputs": [],
   "source": [
    "from sklearn.ensemble import StackingClassifier\n",
    "stack = StackingClassifier([('rf', rf_clf),('dt', dt_clf),\n",
    "                ('ada', ada_clf)], final_estimator = lr_final)\n",
    "stack.fit(X_train, y_train)\n",
    "pred = stack.predict(X_test)\n",
    "accuracy_score(y_test, pred)"
   ]
  },
  {
   "cell_type": "code",
   "execution_count": null,
   "id": "09ffee5a-b709-4883-91ba-927f53172952",
   "metadata": {},
   "outputs": [],
   "source": []
  },
  {
   "cell_type": "code",
   "execution_count": null,
   "id": "8cebdc28-a8a6-42dd-b8ce-bcf62ff024b8",
   "metadata": {},
   "outputs": [],
   "source": [
    "## 함수"
   ]
  },
  {
   "cell_type": "code",
   "execution_count": null,
   "id": "0916a61e-8748-4c29-ae08-ac6d9f346728",
   "metadata": {},
   "outputs": [],
   "source": [
    "# def model_fit_predict(model, X_train,y_train):\n",
    "#     model.fit(X_train,y_train)\n",
    "#     pred=model.predict(X_test)\n",
    "#     pred_praba=model.predict_praba(X_test)[:,1]\n",
    "#     return pred, pred_praba"
   ]
  },
  {
   "cell_type": "code",
   "execution_count": null,
   "id": "6bca367c-c882-4a09-be3e-ffba0d57bd9d",
   "metadata": {},
   "outputs": [],
   "source": [
    "# def get_clf_eval(y_test, pred=None, pred_proba=None):\n",
    "# accuracy=accuracy_score(y_test, ped)\n",
    "# if binary:\n",
    "#     accuracy = accuracy_score(y_test , pred)\n",
    "#     precision = precision_score(y_test , pred)\n",
    "#     recall = recall_score(y_test , pred)\n",
    "#     f1 = f1_score(y_test,pred)\n",
    "#     roc_auc = roc_auc_score(y_test, pred_proba)\n",
    "#     print('오차 행렬')\n",
    "#     print(confusion)\n",
    "#     # ROC-AUC print 추가\n",
    "#     print(f'정확도: {accuracy:.4f}, 정밀도: {precision:.4f}, 재현율: {recall:.4f}')\n",
    "#     print(f'F1: {f1:.4f}, AUC:{roc_auc:.4f}')\n",
    "# else:\n",
    "#     confusion = confusion_matrix( y_test, pred)\n",
    "#     accuracy = accuracy_score(y_test , pred)\n",
    "#     precision = precision_score(y_test , pred)\n",
    "#     recall = recall_score(y_test , pred)\n",
    "#     f1 = f1_score(y_test,pred)\n",
    "#     roc_auc = roc_auc_score(y_test, pred_proba)\n",
    "   "
   ]
  },
  {
   "cell_type": "code",
   "execution_count": null,
   "id": "8ec4a337-2bcc-4afd-8904-dcc43c0d232c",
   "metadata": {},
   "outputs": [],
   "source": [
    "# 함수 --"
   ]
  },
  {
   "cell_type": "code",
   "execution_count": null,
   "id": "900c8e83-6e94-4fce-9e19-6fd1faa9d73b",
   "metadata": {},
   "outputs": [],
   "source": [
    "def model_fit_predict(model, X_train, y_train, X_test):\n",
    "    model.fit(X_train, y_train)\n",
    "    pred = model.predict(X_test)\n",
    "    pred_proba = model.predict_proba(X_test)\n",
    "    return pred, pred_proba\n",
    "\n",
    "def get_clf_eval(y_test, pred, pred_proba=None, binary = True):\n",
    "    accuracy = accuracy_score(y_test , pred)\n",
    "    if binary:\n",
    "        precision = precision_score(y_test , pred)\n",
    "        recall = recall_score(y_test , pred)\n",
    "        f1 = f1_score(y_test,pred)\n",
    "        if pred_proba:\n",
    "            roc_auc = roc_auc_score(y_test, pred_proba[:, 1])\n",
    "    else:\n",
    "        precision = precision_score(y_test , pred, average = 'macro')\n",
    "        recall = recall_score(y_test , pred, average = 'macro')\n",
    "        f1 = f1_score(y_test,pred, average = 'macro')\n",
    "        if pred_proba:\n",
    "            roc_auc = roc_auc_score(y_test, pred_proba, multi_class = 'ovo')\n",
    "    print(f'정확도: {accuracy:.4f}, 정밀도: {precision:.4f}, 재현율: {recall:.4f}')\n",
    "    print(f'F1: {f1:.4f}, AUC:{roc_auc:.4f}')"
   ]
  },
  {
   "cell_type": "code",
   "execution_count": null,
   "id": "6ed907f2-8ec8-48b8-956f-19462ab18762",
   "metadata": {},
   "outputs": [],
   "source": [
    "models=[knn_clf,rf_clf,dt_clf, aba_clf ]\n",
    "for model in models:\n",
    "    print()\n",
    "    pred, pred_praba= model.predict(y_test, pred, pred_praba)\n",
    "    get_clf_eval(y_test, pred, pred_proba)"
   ]
  },
  {
   "cell_type": "code",
   "execution_count": null,
   "id": "7e3cd743-2be6-41de-bd11-8ebf65a928b8",
   "metadata": {},
   "outputs": [],
   "source": []
  },
  {
   "cell_type": "code",
   "execution_count": null,
   "id": "3c295fef-50e4-496d-82d1-9f86b0b11c92",
   "metadata": {},
   "outputs": [],
   "source": [
    "from sklearn.ensemble import StackingClassifier\n",
    "from sklearn.naive_bayes import GaussianNB\n",
    "\n",
    "Stack=StackingClassifier([('Gaus', GaussianNB()),\n",
    "                   ('DT', DecisionTreeClassifier(random_state=0))],\n",
    "                   final_estimator=LogisticRegression(random_state=0))"
   ]
  },
  {
   "cell_type": "code",
   "execution_count": null,
   "id": "fec6cd82-d6fb-4f73-996e-21a703150ba8",
   "metadata": {},
   "outputs": [],
   "source": [
    "def get_clf_eval_1(y_test, pred=None, pred_proba=None):\n",
    "    confusion = confusion_matrix( y_test, pred)\n",
    "    accuracy = accuracy_score(y_test , pred)\n",
    "    precision = precision_score(y_test , pred)\n",
    "    recall = recall_score(y_test , pred)\n",
    "    f1 = f1_score(y_test,pred)\n",
    "    roc_auc = roc_auc_score(y_test, pred_proba)\n",
    "    print('오차 행렬')\n",
    "    print(confusion)\n",
    "    # ROC-AUC print 추가\n",
    "    print(f'정확도: {accuracy:.4f}, 정밀도: {precision:.4f}, 재현율: {recall:.4f}')\n",
    "    print(f'F1: {f1:.4f}, AUC:{roc_auc:.4f}')"
   ]
  },
  {
   "cell_type": "code",
   "execution_count": null,
   "id": "3e77f7f0-082d-4200-8a49-871ce9254c13",
   "metadata": {},
   "outputs": [],
   "source": [
    "Stack.fit(X_train, y_train)\n",
    "pred=Stack.predict(X_test)\n",
    "pred_proba=Stack.predict_proba(X_test)[:1]\n",
    "\n",
    "get_clf_eval_1(y_test, pred, pred_proba)"
   ]
  },
  {
   "cell_type": "code",
   "execution_count": null,
   "id": "52bfe32b-3b39-408e-85df-de8bf1116972",
   "metadata": {},
   "outputs": [],
   "source": [
    "# 로지스틱 회귀"
   ]
  },
  {
   "cell_type": "code",
   "execution_count": null,
   "id": "755a513a-a10b-4551-9635-fd17a6f6de5a",
   "metadata": {},
   "outputs": [],
   "source": [
    "from sklearn.datasets import load_breast_cancer\n",
    "from sklearn.linear_model import LogisticRegression\n",
    "from sklearn.preprocessing import StandardScaler\n",
    "from sklearn.model_selection import train_test_split\n",
    "from sklearn.metrics import accuracy_score, roc_auc_score\n",
    "cancer = load_breast_cancer()\n",
    "scaler = StandardScaler()\n",
    "data_scaled = scaler.fit_transform(cancer.data)\n",
    "X_train , X_test, y_train , y_test = train_test_split(data_scaled, cancer.target, \n",
    "test_size=0.2, random_state=0)"
   ]
  },
  {
   "cell_type": "code",
   "execution_count": null,
   "id": "331e1077-9003-4ff9-8779-297304cfd789",
   "metadata": {},
   "outputs": [],
   "source": [
    "lr_clf = LogisticRegression()\n",
    "lr_clf.fit(X_train, y_train)\n",
    "pred = lr_clf.predict(X_test)\n",
    "pred_proba = lr_clf.predict_proba(X_test)[:,1]\n",
    "acc = accuracy_score(y_test, pred)\n",
    "auc = roc_auc_score(y_test, pred_proba)\n",
    "print(f'accuracy: {acc:.3f}, roc_auc:{auc:.3f}')"
   ]
  },
  {
   "cell_type": "code",
   "execution_count": null,
   "id": "a7c193eb-fe00-49ec-8391-e13f2414bf95",
   "metadata": {},
   "outputs": [],
   "source": [
    "X_train , X_test, y_train , y_test = train_test_split(cancer.data, cancer.target, \n",
    "test_size=0.2, random_state=0)\n",
    "lr_clf1 = LogisticRegression()\n",
    "lr_clf1.fit(X_train, y_train)\n",
    "pred = lr_clf1.predict(X_test)\n",
    "pred_proba = lr_clf1.predict_proba(X_test)[:,1]\n",
    "acc = accuracy_score(y_test, pred)\n",
    "auc = roc_auc_score(y_test, pred_proba)\n",
    "print(f'accuracy: {acc:.3f}, roc_auc:{auc:.3f}')"
   ]
  },
  {
   "cell_type": "code",
   "execution_count": null,
   "id": "be88689f-7fc6-444a-9a16-c0e06687cc0b",
   "metadata": {},
   "outputs": [],
   "source": [
    "solvers = ['lbfgs', 'liblinear', 'newton-cg', 'sag', 'saga']\n",
    "for solver in solvers:\n",
    "    lr_clf = LogisticRegression(solver=solver, max_iter=600)\n",
    "    lr_clf.fit(X_train, y_train)\n",
    "    pred = lr_clf.predict(X_test)\n",
    "    pred_proba = lr_clf.predict_proba(X_test)[:,1]\n",
    "    acc = accuracy_score(y_test, pred)\n",
    "    auc = roc_auc_score(y_test, pred_proba)\n",
    "    print(f'solver: {solver}, accuracy: {acc:.3f}, roc_auc:{auc:.3f}')"
   ]
  },
  {
   "cell_type": "code",
   "execution_count": null,
   "id": "12645279-7a51-43fe-b564-c8ab97c62d7e",
   "metadata": {},
   "outputs": [],
   "source": [
    "from sklearn.model_selection import GridSearchCV\n",
    "params={'solver':['liblinear', 'lbfgs'],\n",
    "        'penalty':['l2', 'l1'],\n",
    "        'C':[0.01, 0.1, 1, 1, 5, 10]}\n",
    "lr_clf = LogisticRegression()\n",
    "grid_clf = GridSearchCV(lr_clf, param_grid=params, scoring='accuracy', cv=3 )\n",
    "grid_clf.fit(data_scaled, cancer.target)\n",
    "print(f'최적 하이퍼 파라미터:{grid_clf.best_params_}') \n",
    "print(f'최대 평균 정확도:{grid_clf.best_score_:.3f}')"
   ]
  },
  {
   "cell_type": "code",
   "execution_count": null,
   "id": "ba29fb97-87b5-42ac-98e3-56ba5ea0db29",
   "metadata": {},
   "outputs": [],
   "source": [
    "df=pd.DataFrame(grid_clf.cv_results_)\n",
    "df.info()"
   ]
  },
  {
   "cell_type": "code",
   "execution_count": null,
   "id": "e29fe3a8-059b-4941-b5ad-47e7d698a18f",
   "metadata": {},
   "outputs": [],
   "source": [
    "df[['param_C','mean_test_score','rank_test_score']]"
   ]
  },
  {
   "cell_type": "code",
   "execution_count": null,
   "id": "1a43eed8-5385-4c59-b33f-7334c2b06649",
   "metadata": {},
   "outputs": [],
   "source": [
    "lr_clf.coef_, lr_clf.intercept_"
   ]
  },
  {
   "cell_type": "code",
   "execution_count": null,
   "id": "e1d133f1-e721-4721-a749-bb39942522c3",
   "metadata": {},
   "outputs": [],
   "source": [
    "from sklearn.datasets import load_iris"
   ]
  },
  {
   "cell_type": "code",
   "execution_count": null,
   "id": "1d9ecc96-261e-4738-a199-9c7d69933a11",
   "metadata": {},
   "outputs": [],
   "source": [
    "iris=load_iris()\n",
    "X=iris.data[:100,[3]]  \n",
    "y=iris.target[:100]\n",
    "X_train , X_test , y_train , y_test = train_test_split(X_data, y_label, \n",
    "test_size=0.2 , random_state=0)"
   ]
  },
  {
   "cell_type": "code",
   "execution_count": null,
   "id": "8074b2c1-9365-4ede-ad49-f38de564db8e",
   "metadata": {},
   "outputs": [],
   "source": [
    "dt_clf= DecisionTreeClassifier(random_state=100)\n"
   ]
  },
  {
   "cell_type": "code",
   "execution_count": null,
   "id": "d42cc524-235c-4366-a87c-1aa7dbd2c2af",
   "metadata": {},
   "outputs": [],
   "source": [
    "iris.feature_names"
   ]
  },
  {
   "cell_type": "code",
   "execution_count": null,
   "id": "ca3feae1-62ca-40fe-8790-4d643cdeaae2",
   "metadata": {},
   "outputs": [],
   "source": [
    "lr_clf=LogisticRegression(random_state=0)\n",
    "lr_clf.fit(X,y)"
   ]
  },
  {
   "cell_type": "code",
   "execution_count": null,
   "id": "2a191e4b-e819-4362-bf68-577bc5c11528",
   "metadata": {},
   "outputs": [],
   "source": [
    "lr_clf.coef_, lr_clf.intercept_"
   ]
  },
  {
   "cell_type": "code",
   "execution_count": null,
   "id": "2464cabc-bcbb-483e-b073-7defb037d920",
   "metadata": {},
   "outputs": [],
   "source": [
    "-(ax+b)=4.42328835 * x -3.37955877) * -1"
   ]
  },
  {
   "cell_type": "code",
   "execution_count": null,
   "id": "9dcb51c4-da21-486b-95ae-2a84a25530a1",
   "metadata": {},
   "outputs": [],
   "source": [
    "## 넘파이로 계산 log, 지수함수 (로지스틱 함수)\n",
    "y=1/(1+np.exp((lr_clf.coef_ * x + lr_clf.intercept_)*-1))\n",
    "# 범위 x > (x.min() ~ x.max())"
   ]
  },
  {
   "cell_type": "code",
   "execution_count": null,
   "id": "76328d49-3478-4491-a195-3067ea16a46d",
   "metadata": {},
   "outputs": [],
   "source": [
    "xx=np.linspace(X.min(), X.max(), 100)\n",
    "yy=1/(1+np.exp((lr_clf.coef_ * xx + lr_clf.intercept_)*-1))  # x 100값에 대한 y 의 값"
   ]
  },
  {
   "cell_type": "code",
   "execution_count": null,
   "id": "f1236ec9-78b5-4d54-bd5d-5ea1fcfaa01e",
   "metadata": {},
   "outputs": [],
   "source": [
    "y=iris.target[:100]\n",
    "plt.figure(figsize=(6,4))\n",
    "plt.plot(xx,yy[0])\n",
    "plt.axhline(1, color='red')\n",
    "plt.axhline(0, color='red')\n",
    "plt.scatter(X.reshape(-1), y, color='green')"
   ]
  },
  {
   "cell_type": "code",
   "execution_count": null,
   "id": "eaf90c4f-a602-4c0f-9982-9a35a03194f3",
   "metadata": {},
   "outputs": [],
   "source": []
  },
  {
   "cell_type": "code",
   "execution_count": null,
   "id": "63fe0a31-db47-4748-980e-e6e7a4b8644d",
   "metadata": {},
   "outputs": [],
   "source": [
    "df=pd.DataFrame(iris.data, columns=iris.feature_names)\n",
    "df['label'] =iris.target"
   ]
  },
  {
   "cell_type": "code",
   "execution_count": null,
   "id": "50f496dc-84b1-40dc-80a8-982334c04ffa",
   "metadata": {},
   "outputs": [],
   "source": [
    "sns.scatterplot(data=df, x='sepal length (cm)', y='sepal width (cm)', hue='label', size='petal length (cm)')"
   ]
  },
  {
   "cell_type": "code",
   "execution_count": null,
   "id": "0c639cf5-839b-462c-8832-ee8d1e446386",
   "metadata": {},
   "outputs": [],
   "source": [
    "# 최근접 이웃"
   ]
  },
  {
   "cell_type": "code",
   "execution_count": null,
   "id": "2a7acb4a-c0f7-4dd0-ac90-37123b458b06",
   "metadata": {},
   "outputs": [],
   "source": [
    "from sklearn.datasets import load_breast_cancer\n",
    "from sklearn.neighbors import KNeighborsClassifier\n",
    "from sklearn.preprocessing import StandardScaler\n",
    "from sklearn.model_selection import train_test_split\n",
    "from sklearn.metrics import accuracy_score, roc_auc_score\n",
    "cancer = load_breast_cancer()\n",
    "scaler = StandardScaler()\n",
    "data_scaled = scaler.fit_transform(cancer.data)\n",
    "X_train , X_test, y_train , y_test = train_test_split(data_scaled, cancer.target,test_size=0.3, random_state=0)"
   ]
  },
  {
   "cell_type": "code",
   "execution_count": null,
   "id": "747bfacb-eeea-4149-9f05-51f5f81cbfd5",
   "metadata": {},
   "outputs": [],
   "source": [
    "knn = KNeighborsClassifier(n_neighbors=7, metric='euclidean')\n",
    "knn.fit(X_train, y_train)"
   ]
  },
  {
   "cell_type": "code",
   "execution_count": null,
   "id": "6e065df0-1c32-453a-a4a0-fe61971f79bd",
   "metadata": {},
   "outputs": [],
   "source": [
    "pred = knn.predict(X_test)\n",
    "pred_proba = knn.predict_proba(X_test)[:,1]"
   ]
  },
  {
   "cell_type": "code",
   "execution_count": null,
   "id": "0f48b117-dbb8-436e-adae-bf0c24fdc3d4",
   "metadata": {},
   "outputs": [],
   "source": [
    "acc = accuracy_score(y_test, pred)\n",
    "auc = roc_auc_score(y_test, pred_proba)\n",
    "print(f'accuracy: {acc:.3f}, roc_auc:{auc:.3f}')"
   ]
  },
  {
   "cell_type": "code",
   "execution_count": null,
   "id": "f9d94941-8063-4d22-9fc3-f6af229f385c",
   "metadata": {},
   "outputs": [],
   "source": [
    "# 서포트 벡터 머신 (SVM)"
   ]
  },
  {
   "cell_type": "code",
   "execution_count": null,
   "id": "1e474be1-a107-4282-8261-26a17a567a32",
   "metadata": {},
   "outputs": [],
   "source": [
    "from sklearn.datasets import load_breast_cancer\n",
    "from sklearn.neighbors import KNeighborsClassifier\n",
    "from sklearn.preprocessing import StandardScaler\n",
    "from sklearn.model_selection import train_test_split\n",
    "from sklearn.metrics import accuracy_score, roc_auc_score\n",
    "from sklearn.svm import SVC, SVR\n",
    "\n",
    "cancer = load_breast_cancer()\n",
    "scaler = StandardScaler()\n",
    "data_scaled = scaler.fit_transform(cancer.data)\n",
    "X_train , X_test, y_train , y_test = train_test_split(data_scaled, cancer.target, \n",
    "test_size=0.3, random_state=0)"
   ]
  },
  {
   "cell_type": "code",
   "execution_count": null,
   "id": "e373d773-728f-4840-9460-1e74b83614eb",
   "metadata": {},
   "outputs": [],
   "source": [
    "svc = SVC(probability = True)\n",
    "svc.fit(X_train, y_train)\n",
    "pred = svc.predict(X_test)\n",
    "pred_proba = svc.predict_proba(X_test)[:,1]\n",
    "acc = accuracy_score(y_test, pred)\n",
    "auc = roc_auc_score(y_test, pred_proba)\n",
    "print(f'accuracy: {acc:.3f}, roc_auc:{auc:.3f}')"
   ]
  },
  {
   "cell_type": "code",
   "execution_count": null,
   "id": "cb72bed8-683b-42a6-bbcb-f339eef656de",
   "metadata": {},
   "outputs": [],
   "source": [
    "# kernel:  linear', 'poly', 'rbf', 'sigmoid'"
   ]
  },
  {
   "cell_type": "code",
   "execution_count": null,
   "id": "36831977-fcd6-402e-8fd3-0e92db12caa1",
   "metadata": {},
   "outputs": [],
   "source": [
    " kernels =['linear', 'poly', 'rbf', 'sigmoid']\n",
    "for kernel in kernels:\n",
    "    print(kernel)\n",
    "    svc = SVC(probability = True, kernel=kernel)\n",
    "    svc.fit(X_train, y_train)\n",
    "    pred = svc.predict(X_test)\n",
    "    pred_proba = svc.predict_proba(X_test)[:,1]\n",
    "    acc = accuracy_score(y_test, pred)\n",
    "    auc = roc_auc_score(y_test, pred_proba)\n",
    "    print(f'accuracy: {acc:.3f}, roc_auc:{auc:.3f}')"
   ]
  },
  {
   "cell_type": "code",
   "execution_count": null,
   "id": "c983fe92-d75f-44d8-bb21-853c7ecc2be4",
   "metadata": {},
   "outputs": [],
   "source": []
  },
  {
   "cell_type": "code",
   "execution_count": null,
   "id": "1b13e6bb-9377-4c4a-ab02-ffe869a422ce",
   "metadata": {},
   "outputs": [],
   "source": []
  }
 ],
 "metadata": {
  "kernelspec": {
   "display_name": "Python 3 (ipykernel)",
   "language": "python",
   "name": "python3"
  },
  "language_info": {
   "codemirror_mode": {
    "name": "ipython",
    "version": 3
   },
   "file_extension": ".py",
   "mimetype": "text/x-python",
   "name": "python",
   "nbconvert_exporter": "python",
   "pygments_lexer": "ipython3",
   "version": "3.11.5"
  }
 },
 "nbformat": 4,
 "nbformat_minor": 5
}
