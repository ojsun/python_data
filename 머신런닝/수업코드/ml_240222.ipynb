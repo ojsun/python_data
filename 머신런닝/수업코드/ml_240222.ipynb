{
 "cells": [
  {
   "cell_type": "code",
   "execution_count": null,
   "id": "7bdd5457-e460-408f-82fc-cfb645fe69a5",
   "metadata": {},
   "outputs": [],
   "source": [
    "import pandas as pd\n",
    "import numpy as np\n",
    "import sklearn\n",
    "from sklearn.tree import DecisionTreeClassifier\n",
    "from sklearn.tree import DecisionTreeRegressor\n",
    "from sklearn.linear_model import LogisticRegression\n",
    "from sklearn.neighbors import KNeighborsClassifier\n",
    "from sklearn.ensemble import RandomForestClassifier\n",
    "from sklearn.ensemble  import AdaBoostClassifier\n",
    "from sklearn.model_selection import train_test_split,KFold,StratifiedKFold\n",
    "from sklearn.model_selection import cross_val_score, GridSearchCV\n",
    "from sklearn.metrics import accuracy_score,f1_score,roc_auc_score,confusion_matrix,precision_score, recall_score"
   ]
  },
  {
   "cell_type": "code",
   "execution_count": 204,
   "id": "2f11b531-a863-4148-8752-15c5f8defd17",
   "metadata": {},
   "outputs": [],
   "source": [
    "import warnings\n",
    "warnings.filterwarnings('ignore')\n",
    "\n",
    "import matplotlib.pyplot as plt\n",
    "import seaborn as sns"
   ]
  },
  {
   "cell_type": "code",
   "execution_count": null,
   "id": "eac5aeb5-5400-456f-bf5a-fd2248b0e899",
   "metadata": {},
   "outputs": [],
   "source": [
    "from sklearn.datasets import load_breast_cancer"
   ]
  },
  {
   "cell_type": "code",
   "execution_count": null,
   "id": "e1926d39-d2e2-418e-b7b2-ec11362855dc",
   "metadata": {},
   "outputs": [],
   "source": [
    "# GradientBoosting GDM\n",
    "from sklearn.ensemble import GradientBoostingClassifier\n",
    "from sklearn.ensemble import GradientBoostingRegressor\n",
    "cancer=load_breast_cancer()\n",
    "X_train, X_test, y_train, y_test = train_test_split(cancer.data, cancer.target, \n",
    "                    test_size=0.2 , random_state= 0)\n",
    "gb_clf = GradientBoostingClassifier(n_estimators=200, learning_rate=0.05, random_state=0, verbose=True)\n",
    "gb_clf.fit(X_train , y_train)\n",
    "gb_pred = gb_clf.predict(X_test)\n",
    "gb_accuracy = accuracy_score(y_test, gb_pred)\n",
    "print(f'GBM 정확도: {gb_accuracy:.4f}')"
   ]
  },
  {
   "cell_type": "code",
   "execution_count": null,
   "id": "9ed5a99f-404a-459f-ae80-ba17149b1e88",
   "metadata": {},
   "outputs": [],
   "source": [
    "#  xgboost XGBoodt  # 사용 안할 것임\n",
    "import xgboost as xgb\n",
    "from xgboost import plot_importance\n",
    "\n",
    "dataset=load_breast_cancer()\n",
    "cancer_df = pd.DataFrame(data=dataset.data, columns=dataset.feature_names)\n",
    "cancer_df['target'] = dataset.target\n",
    "X_features = cancer_df.iloc[:, :-1]\n",
    "y_label = cancer_df.iloc[:, -1]\n",
    "X_train, X_test, y_train, y_test=train_test_split(X_features, y_label, \n",
    "                test_size=0.2, random_state=156 )\n",
    "X_tr, X_val, y_tr, y_val= train_test_split(X_train, y_train,\n",
    "                test_size=0.1, random_state=156 )"
   ]
  },
  {
   "cell_type": "code",
   "execution_count": null,
   "id": "eb8cc15a-926b-4971-b634-680e38407a69",
   "metadata": {},
   "outputs": [],
   "source": [
    "dtr = xgb.DMatrix(data=X_tr, label=y_tr)\n",
    "dval = xgb.DMatrix(data=X_val, label=y_val)\n",
    "dtest = xgb.DMatrix(data=X_test , label=y_test)\n",
    "params = {'max_depth':3,'eta': 0.05,'objective':'binary:logistic','eval_metric':'logloss'}\n",
    "num_rounds = 400\n",
    "\n",
    "eval_list = [(dtr,'train'),(dval,'eval')] \n",
    "# 또는 eval_list = [(dval,'eval')]\n",
    "xgb_model = xgb.train(params = params , dtrain=dtr, num_boost_round=num_rounds , \n",
    "            early_stopping_rounds=50, evals=eval_list )"
   ]
  },
  {
   "cell_type": "code",
   "execution_count": null,
   "id": "82cfc707-02d4-4d71-9b15-b13135e4630c",
   "metadata": {},
   "outputs": [],
   "source": [
    "pred_probs = xgb_model.predict(dtest)\n",
    "print('predict( ) 수행 결과값을 10개만 표시, 예측 확률 값으로 표시됨')\n",
    "print(np.round(pred_probs[:10],3))\n",
    "preds = [ 1 if x > 0.5 else 0 for x in pred_probs ]\n",
    "print('예측값 10개만 표시:',preds[:10])"
   ]
  },
  {
   "cell_type": "code",
   "execution_count": null,
   "id": "85a07d09-e14e-47ac-b4e5-af69decbb93a",
   "metadata": {},
   "outputs": [],
   "source": [
    "#사이킷런 래퍼 XGBClassifier --사용 예정! \n",
    "from xgboost import XGBClassifier \n",
    "\n",
    "xgb_wrapper = XGBClassifier(n_estimators=400, learning_rate=0.1,\n",
    "                max_depth=3)  \n",
    "evals = [(X_val, y_val)]\n",
    "xgb_wrapper.fit(X_train, y_train, early_stopping_rounds = 100,early_stopping_rounds=10, ##주의\n",
    "                    eval_metric = \"logloss\", eval_set=evals, verbose=30)\n",
    "preds = xgb_wrapper.predict(X_test)\n",
    "pred_proba = xgb_wrapper.predict_proba(X_test)[:, 1]"
   ]
  },
  {
   "cell_type": "code",
   "execution_count": null,
   "id": "20d1c657-ff6a-4bd5-b8a9-57e409c0da89",
   "metadata": {},
   "outputs": [],
   "source": [
    "print(accuracy_score(y_test, preds))"
   ]
  },
  {
   "cell_type": "code",
   "execution_count": null,
   "id": "9c9cf38f-bf4a-4b84-82d3-97155429a212",
   "metadata": {},
   "outputs": [],
   "source": [
    "    confusion = confusion_matrix( y_test, preds)\n",
    "    accuracy = accuracy_score(y_test , preds)\n",
    "    precision = precision_score(y_test , preds)\n",
    "    recall = recall_score(y_test , preds)\n",
    "    f1 = f1_score(y_test,preds)\n",
    "    roc_auc = roc_auc_score(y_test, pred_proba)\n",
    "    print('오차 행렬')\n",
    "    print(confusion)\n",
    "    # ROC-AUC print 추가\n",
    "    print(f'정확도: {accuracy:.4f}, 정밀도: {precision:.4f}, 재현율: {recall:.4f}')\n",
    "    print(f'F1: {f1:.4f}, AUC:{roc_auc:.4f}')"
   ]
  },
  {
   "cell_type": "code",
   "execution_count": null,
   "id": "4e22b533-fdd6-4a43-bf24-dc02654bc09a",
   "metadata": {},
   "outputs": [],
   "source": [
    "xgb_wrapper.feature_importances_"
   ]
  },
  {
   "cell_type": "code",
   "execution_count": null,
   "id": "1fc011a4-d3eb-4462-8b04-fd71f6a90754",
   "metadata": {},
   "outputs": [],
   "source": [
    "ftr_importances_values = xgb_wrapper.feature_importances_\n",
    "ftr_importances = pd.Series(ftr_importances_values,index=cancer.feature_names)\n",
    "ftr_top20 = ftr_importances.sort_values(ascending=False)[:20]\n",
    "plt.figure(figsize=(8,6))\n",
    "plt.title('Feature importances Top 20')\n",
    "sns.barplot(x=ftr_top20 , y = ftr_top20.index)"
   ]
  },
  {
   "cell_type": "code",
   "execution_count": null,
   "id": "2caafb3d-a605-401f-93da-05f7485c7976",
   "metadata": {},
   "outputs": [],
   "source": [
    "# 스태킹 앙상블\n",
    "import numpy as np\n",
    "from sklearn.datasets import load_breast_cancer\n",
    "from sklearn.model_selection import train_test_split\n",
    "from sklearn.metrics import accuracy_score\n",
    "\n",
    "cancer_data = load_breast_cancer()\n",
    "X_data = cancer_data.data\n",
    "y_label = cancer_data.target\n",
    "X_train , X_test , y_train , y_test = train_test_split(X_data, y_label, test_size=0.2 , random_state=0)"
   ]
  },
  {
   "cell_type": "code",
   "execution_count": null,
   "id": "21357483-27ce-4d7a-834e-d749f05fd212",
   "metadata": {},
   "outputs": [],
   "source": [
    "X_test"
   ]
  },
  {
   "cell_type": "code",
   "execution_count": null,
   "id": "8e914a15-6e8e-425e-a630-9c1e557d6814",
   "metadata": {},
   "outputs": [],
   "source": [
    "from sklearn.ensemble import AdaBoostClassifier\n",
    "\n",
    "knn_clf =KNeighborsClassifier(n_neighbors=4)\n",
    "rf_clf = RandomForestClassifier(n_estimators=100, random_state=0)\n",
    "dt_clf = DecisionTreeClassifier(random_state=0)\n",
    "ada_clf = AdaBoostClassifier(n_estimators=100)\n",
    "# 최종 Stacking 모델을 위한 Classifier생성. \n",
    "lr_final = LogisticRegression(solver='liblinear')"
   ]
  },
  {
   "cell_type": "code",
   "execution_count": null,
   "id": "7747055e-3f62-49e2-b01a-a7f771cd5659",
   "metadata": {},
   "outputs": [],
   "source": [
    "# knn_clf.fit(X_train, y_train)\n",
    "rf_clf.fit(X_train , y_train)\n",
    "dt_clf.fit(X_train , y_train)\n",
    "ada_clf.fit(X_train, y_train)\n",
    "# 학습된 개별 모델들이 각자 반환하는 학습 데이터 셋을 생성\n",
    "# knn_train = knn_clf.predict(X_train)\n",
    "rf_train = rf_clf.predict(X_train)\n",
    "dt_train = dt_clf.predict(X_train)\n",
    "ada_train = ada_clf.predict(X_train)"
   ]
  },
  {
   "cell_type": "code",
   "execution_count": null,
   "id": "fd5973ba-e915-4122-b6e0-855a555439de",
   "metadata": {},
   "outputs": [],
   "source": [
    "# knn_test = knn_clf.predict(X_test)\n",
    "rf_test = rf_clf.predict(X_test)\n",
    "dt_test = dt_clf.predict(X_test)\n",
    "ada_test = ada_clf.predict(X_test)\n",
    "\n",
    "# 학습 데이터와 테스트 데이터로 합치기\n",
    "pred_train = np.vstack([rf_train, dt_train, ada_train]).T\n",
    "pred_test = np.vstack([ rf_test, dt_test, ada_test]).T"
   ]
  },
  {
   "cell_type": "code",
   "execution_count": null,
   "id": "f6b20f5d-aa31-40cd-8ef0-137a1d22e1f8",
   "metadata": {},
   "outputs": [],
   "source": [
    "lr_final.fit(pred_train, y_train)\n",
    "final = lr_final.predict(pred_test)\n",
    "print(f'최종 모델의 정확도: {accuracy_score(y_test , final):.4f}')"
   ]
  },
  {
   "cell_type": "code",
   "execution_count": null,
   "id": "c67dc16e-c4f9-42c6-812f-412e937eea80",
   "metadata": {},
   "outputs": [],
   "source": [
    "from sklearn.ensemble import StackingClassifier\n",
    "stack = StackingClassifier([('rf', rf_clf),('dt', dt_clf),\n",
    "                ('ada', ada_clf)], final_estimator = lr_final)\n",
    "stack.fit(X_train, y_train)\n",
    "pred = stack.predict(X_test)\n",
    "accuracy_score(y_test, pred)"
   ]
  },
  {
   "cell_type": "code",
   "execution_count": null,
   "id": "09ffee5a-b709-4883-91ba-927f53172952",
   "metadata": {},
   "outputs": [],
   "source": []
  },
  {
   "cell_type": "code",
   "execution_count": null,
   "id": "8cebdc28-a8a6-42dd-b8ce-bcf62ff024b8",
   "metadata": {},
   "outputs": [],
   "source": [
    "## 함수"
   ]
  },
  {
   "cell_type": "code",
   "execution_count": null,
   "id": "0916a61e-8748-4c29-ae08-ac6d9f346728",
   "metadata": {},
   "outputs": [],
   "source": [
    "# def model_fit_predict(model, X_train,y_train):\n",
    "#     model.fit(X_train,y_train)\n",
    "#     pred=model.predict(X_test)\n",
    "#     pred_praba=model.predict_praba(X_test)[:,1]\n",
    "#     return pred, pred_praba"
   ]
  },
  {
   "cell_type": "code",
   "execution_count": null,
   "id": "6bca367c-c882-4a09-be3e-ffba0d57bd9d",
   "metadata": {},
   "outputs": [],
   "source": [
    "# def get_clf_eval(y_test, pred=None, pred_proba=None):\n",
    "# accuracy=accuracy_score(y_test, ped)\n",
    "# if binary:\n",
    "#     accuracy = accuracy_score(y_test , pred)\n",
    "#     precision = precision_score(y_test , pred)\n",
    "#     recall = recall_score(y_test , pred)\n",
    "#     f1 = f1_score(y_test,pred)\n",
    "#     roc_auc = roc_auc_score(y_test, pred_proba)\n",
    "#     print('오차 행렬')\n",
    "#     print(confusion)\n",
    "#     # ROC-AUC print 추가\n",
    "#     print(f'정확도: {accuracy:.4f}, 정밀도: {precision:.4f}, 재현율: {recall:.4f}')\n",
    "#     print(f'F1: {f1:.4f}, AUC:{roc_auc:.4f}')\n",
    "# else:\n",
    "#     confusion = confusion_matrix( y_test, pred)\n",
    "#     accuracy = accuracy_score(y_test , pred)\n",
    "#     precision = precision_score(y_test , pred)\n",
    "#     recall = recall_score(y_test , pred)\n",
    "#     f1 = f1_score(y_test,pred)\n",
    "#     roc_auc = roc_auc_score(y_test, pred_proba)\n",
    "   "
   ]
  },
  {
   "cell_type": "code",
   "execution_count": null,
   "id": "8ec4a337-2bcc-4afd-8904-dcc43c0d232c",
   "metadata": {},
   "outputs": [],
   "source": [
    "# 함수 --"
   ]
  },
  {
   "cell_type": "code",
   "execution_count": null,
   "id": "900c8e83-6e94-4fce-9e19-6fd1faa9d73b",
   "metadata": {},
   "outputs": [],
   "source": [
    "def model_fit_predict(model, X_train, y_train, X_test):\n",
    "    model.fit(X_train, y_train)\n",
    "    pred = model.predict(X_test)\n",
    "    pred_proba = model.predict_proba(X_test)\n",
    "    return pred, pred_proba\n",
    "\n",
    "def get_clf_eval(y_test, pred, pred_proba=None, binary = True):\n",
    "    accuracy = accuracy_score(y_test , pred)\n",
    "    if binary:\n",
    "        precision = precision_score(y_test , pred)\n",
    "        recall = recall_score(y_test , pred)\n",
    "        f1 = f1_score(y_test,pred)\n",
    "        if pred_proba:\n",
    "            roc_auc = roc_auc_score(y_test, pred_proba[:, 1])\n",
    "    else:\n",
    "        precision = precision_score(y_test , pred, average = 'macro')\n",
    "        recall = recall_score(y_test , pred, average = 'macro')\n",
    "        f1 = f1_score(y_test,pred, average = 'macro')\n",
    "        if pred_proba:\n",
    "            roc_auc = roc_auc_score(y_test, pred_proba, multi_class = 'ovo')\n",
    "    print(f'정확도: {accuracy:.4f}, 정밀도: {precision:.4f}, 재현율: {recall:.4f}')\n",
    "    print(f'F1: {f1:.4f}, AUC:{roc_auc:.4f}')"
   ]
  },
  {
   "cell_type": "code",
   "execution_count": null,
   "id": "6ed907f2-8ec8-48b8-956f-19462ab18762",
   "metadata": {},
   "outputs": [],
   "source": [
    "models=[knn_clf,rf_clf,dt_clf, aba_clf ]\n",
    "for model in models:\n",
    "    print()\n",
    "    pred, pred_praba= model.predict(y_test, pred, pred_praba)\n",
    "    get_clf_eval(y_test, pred, pred_proba)"
   ]
  },
  {
   "cell_type": "code",
   "execution_count": null,
   "id": "7e3cd743-2be6-41de-bd11-8ebf65a928b8",
   "metadata": {},
   "outputs": [],
   "source": []
  },
  {
   "cell_type": "code",
   "execution_count": null,
   "id": "3c295fef-50e4-496d-82d1-9f86b0b11c92",
   "metadata": {},
   "outputs": [],
   "source": [
    "from sklearn.ensemble import StackingClassifier\n",
    "from sklearn.naive_bayes import GaussianNB\n",
    "\n",
    "Stack=StackingClassifier([('Gaus', GaussianNB()),\n",
    "                   ('DT', DecisionTreeClassifier(random_state=0))],\n",
    "                   final_estimator=LogisticRegression(random_state=0))"
   ]
  },
  {
   "cell_type": "code",
   "execution_count": null,
   "id": "fec6cd82-d6fb-4f73-996e-21a703150ba8",
   "metadata": {},
   "outputs": [],
   "source": [
    "def get_clf_eval_1(y_test, pred=None, pred_proba=None):\n",
    "    confusion = confusion_matrix( y_test, pred)\n",
    "    accuracy = accuracy_score(y_test , pred)\n",
    "    precision = precision_score(y_test , pred)\n",
    "    recall = recall_score(y_test , pred)\n",
    "    f1 = f1_score(y_test,pred)\n",
    "    roc_auc = roc_auc_score(y_test, pred_proba)\n",
    "    print('오차 행렬')\n",
    "    print(confusion)\n",
    "    # ROC-AUC print 추가\n",
    "    print(f'정확도: {accuracy:.4f}, 정밀도: {precision:.4f}, 재현율: {recall:.4f}')\n",
    "    print(f'F1: {f1:.4f}, AUC:{roc_auc:.4f}')"
   ]
  },
  {
   "cell_type": "code",
   "execution_count": null,
   "id": "3e77f7f0-082d-4200-8a49-871ce9254c13",
   "metadata": {},
   "outputs": [],
   "source": [
    "Stack.fit(X_train, y_train)\n",
    "pred=Stack.predict(X_test)\n",
    "pred_proba=Stack.predict_proba(X_test)[:1]\n",
    "\n",
    "get_clf_eval_1(y_test, pred, pred_proba)"
   ]
  },
  {
   "cell_type": "code",
   "execution_count": null,
   "id": "52bfe32b-3b39-408e-85df-de8bf1116972",
   "metadata": {},
   "outputs": [],
   "source": []
  },
  {
   "cell_type": "code",
   "execution_count": null,
   "id": "755a513a-a10b-4551-9635-fd17a6f6de5a",
   "metadata": {},
   "outputs": [],
   "source": [
    "from sklearn.datasets import load_breast_cancer\n",
    "from sklearn.linear_model import LogisticRegression\n",
    "from sklearn.preprocessing import StandardScaler\n",
    "from sklearn.model_selection import train_test_split\n",
    "from sklearn.metrics import accuracy_score, roc_auc_score\n",
    "cancer = load_breast_cancer()\n",
    "scaler = StandardScaler()\n",
    "data_scaled = scaler.fit_transform(cancer.data)\n",
    "X_train , X_test, y_train , y_test = train_test_split(data_scaled, cancer.target, \n",
    "test_size=0.2, random_state=0)"
   ]
  },
  {
   "cell_type": "code",
   "execution_count": null,
   "id": "331e1077-9003-4ff9-8779-297304cfd789",
   "metadata": {},
   "outputs": [],
   "source": [
    "lr_clf = LogisticRegression()\n",
    "lr_clf.fit(X_train, y_train)\n",
    "pred = lr_clf.predict(X_test)\n",
    "pred_proba = lr_clf.predict_proba(X_test)[:,1]\n",
    "acc = accuracy_score(y_test, pred)\n",
    "auc = roc_auc_score(y_test, pred_proba)\n",
    "print(f'accuracy: {acc:.3f}, roc_auc:{auc:.3f}')"
   ]
  },
  {
   "cell_type": "code",
   "execution_count": null,
   "id": "a7c193eb-fe00-49ec-8391-e13f2414bf95",
   "metadata": {},
   "outputs": [],
   "source": [
    "X_train , X_test, y_train , y_test = train_test_split(cancer.data, cancer.target, \n",
    "test_size=0.2, random_state=0)\n",
    "lr_clf1 = LogisticRegression()\n",
    "lr_clf1.fit(X_train, y_train)\n",
    "pred = lr_clf1.predict(X_test)\n",
    "pred_proba = lr_clf1.predict_proba(X_test)[:,1]\n",
    "acc = accuracy_score(y_test, pred)\n",
    "auc = roc_auc_score(y_test, pred_proba)\n",
    "print(f'accuracy: {acc:.3f}, roc_auc:{auc:.3f}')"
   ]
  },
  {
   "cell_type": "code",
   "execution_count": null,
   "id": "be88689f-7fc6-444a-9a16-c0e06687cc0b",
   "metadata": {},
   "outputs": [],
   "source": [
    "solvers = ['lbfgs', 'liblinear', 'newton-cg', 'sag', 'saga']\n",
    "for solver in solvers:\n",
    "    lr_clf = LogisticRegression(solver=solver, max_iter=600)\n",
    "    lr_clf.fit(X_train, y_train)\n",
    "    pred = lr_clf.predict(X_test)\n",
    "    pred_proba = lr_clf.predict_proba(X_test)[:,1]\n",
    "    acc = accuracy_score(y_test, pred)\n",
    "    auc = roc_auc_score(y_test, pred_proba)\n",
    "    print(f'solver: {solver}, accuracy: {acc:.3f}, roc_auc:{auc:.3f}')"
   ]
  },
  {
   "cell_type": "code",
   "execution_count": null,
   "id": "12645279-7a51-43fe-b564-c8ab97c62d7e",
   "metadata": {},
   "outputs": [],
   "source": [
    "from sklearn.model_selection import GridSearchCV\n",
    "params={'solver':['liblinear', 'lbfgs'],\n",
    "        'penalty':['l2', 'l1'],\n",
    "        'C':[0.01, 0.1, 1, 1, 5, 10]}\n",
    "lr_clf = LogisticRegression()\n",
    "grid_clf = GridSearchCV(lr_clf, param_grid=params, scoring='accuracy', cv=3 )\n",
    "grid_clf.fit(data_scaled, cancer.target)\n",
    "print(f'최적 하이퍼 파라미터:{grid_clf.best_params_}') \n",
    "print(f'최대 평균 정확도:{grid_clf.best_score_:.3f}')"
   ]
  },
  {
   "cell_type": "code",
   "execution_count": null,
   "id": "ba29fb97-87b5-42ac-98e3-56ba5ea0db29",
   "metadata": {},
   "outputs": [],
   "source": [
    "df=pd.DataFrame(grid_clf.cv_results_)\n",
    "df.info()"
   ]
  },
  {
   "cell_type": "code",
   "execution_count": null,
   "id": "e29fe3a8-059b-4941-b5ad-47e7d698a18f",
   "metadata": {},
   "outputs": [],
   "source": [
    "df[['param_C','mean_test_score','rank_test_score']]"
   ]
  },
  {
   "cell_type": "code",
   "execution_count": null,
   "id": "1a43eed8-5385-4c59-b33f-7334c2b06649",
   "metadata": {},
   "outputs": [],
   "source": [
    "lr_clf.coef_, lr_clf.intercept_"
   ]
  },
  {
   "cell_type": "code",
   "execution_count": null,
   "id": "e1d133f1-e721-4721-a749-bb39942522c3",
   "metadata": {},
   "outputs": [],
   "source": [
    "from sklearn.datasets import load_iris"
   ]
  },
  {
   "cell_type": "code",
   "execution_count": null,
   "id": "1d9ecc96-261e-4738-a199-9c7d69933a11",
   "metadata": {},
   "outputs": [],
   "source": [
    "iris=load_iris()\n",
    "X=iris.data[:100,[3]]  \n",
    "y=iris.target[:100]\n",
    "X_train , X_test , y_train , y_test = train_test_split(X_data, y_label, \n",
    "test_size=0.2 , random_state=0)"
   ]
  },
  {
   "cell_type": "code",
   "execution_count": null,
   "id": "8074b2c1-9365-4ede-ad49-f38de564db8e",
   "metadata": {},
   "outputs": [],
   "source": [
    "dt_clf= DecisionTreeClassifier(random_state=100)\n"
   ]
  },
  {
   "cell_type": "code",
   "execution_count": null,
   "id": "d42cc524-235c-4366-a87c-1aa7dbd2c2af",
   "metadata": {},
   "outputs": [],
   "source": [
    "iris.feature_names"
   ]
  },
  {
   "cell_type": "code",
   "execution_count": null,
   "id": "ca3feae1-62ca-40fe-8790-4d643cdeaae2",
   "metadata": {},
   "outputs": [],
   "source": [
    "lr_clf=LogisticRegression(random_state=0)\n",
    "lr_clf.fit(X,y)"
   ]
  },
  {
   "cell_type": "code",
   "execution_count": null,
   "id": "2a191e4b-e819-4362-bf68-577bc5c11528",
   "metadata": {},
   "outputs": [],
   "source": [
    "lr_clf.coef_, lr_clf.intercept_"
   ]
  },
  {
   "cell_type": "code",
   "execution_count": null,
   "id": "2464cabc-bcbb-483e-b073-7defb037d920",
   "metadata": {},
   "outputs": [],
   "source": [
    "-(ax+b)=4.42328835 * x -3.37955877) * -1"
   ]
  },
  {
   "cell_type": "code",
   "execution_count": null,
   "id": "9dcb51c4-da21-486b-95ae-2a84a25530a1",
   "metadata": {},
   "outputs": [],
   "source": [
    "## 넘파이로 계산 log, 지수함수 (로지스틱 함수)\n",
    "y=1/(1+np.exp((lr_clf.coef_ * x + lr_clf.intercept_)*-1))\n",
    "# 범위 x > (x.min() ~ x.max())"
   ]
  },
  {
   "cell_type": "code",
   "execution_count": null,
   "id": "76328d49-3478-4491-a195-3067ea16a46d",
   "metadata": {},
   "outputs": [],
   "source": [
    "xx=np.linspace(X.min(), X.max(), 100)\n",
    "yy=1/(1+np.exp((lr_clf.coef_ * xx + lr_clf.intercept_)*-1))  # x 100값에 대한 y 의 값"
   ]
  },
  {
   "cell_type": "code",
   "execution_count": null,
   "id": "f1236ec9-78b5-4d54-bd5d-5ea1fcfaa01e",
   "metadata": {},
   "outputs": [],
   "source": [
    "y=iris.target[:100]\n",
    "plt.figure(figsize=(6,4))\n",
    "plt.plot(xx,yy[0])\n",
    "plt.axhline(1, color='red')\n",
    "plt.axhline(0, color='red')\n",
    "plt.scatter(X.reshape(-1), y, color='green')"
   ]
  },
  {
   "cell_type": "code",
   "execution_count": null,
   "id": "eaf90c4f-a602-4c0f-9982-9a35a03194f3",
   "metadata": {},
   "outputs": [],
   "source": []
  },
  {
   "cell_type": "code",
   "execution_count": null,
   "id": "63fe0a31-db47-4748-980e-e6e7a4b8644d",
   "metadata": {},
   "outputs": [],
   "source": [
    "df=pd.DataFrame(iris.data, columns=iris.feature_names)\n",
    "df['label'] =iris.target"
   ]
  },
  {
   "cell_type": "code",
   "execution_count": null,
   "id": "50f496dc-84b1-40dc-80a8-982334c04ffa",
   "metadata": {},
   "outputs": [],
   "source": [
    "sns.scatterplot(data=df, x='sepal length (cm)', y='sepal width (cm)', hue='label', size='petal length (cm)')"
   ]
  },
  {
   "cell_type": "code",
   "execution_count": null,
   "id": "0c639cf5-839b-462c-8832-ee8d1e446386",
   "metadata": {},
   "outputs": [],
   "source": [
    "# 최근접 이웃"
   ]
  },
  {
   "cell_type": "code",
   "execution_count": null,
   "id": "2a7acb4a-c0f7-4dd0-ac90-37123b458b06",
   "metadata": {},
   "outputs": [],
   "source": [
    "from sklearn.datasets import load_breast_cancer\n",
    "from sklearn.neighbors import KNeighborsClassifier\n",
    "from sklearn.preprocessing import StandardScaler\n",
    "from sklearn.model_selection import train_test_split\n",
    "from sklearn.metrics import accuracy_score, roc_auc_score\n",
    "cancer = load_breast_cancer()\n",
    "scaler = StandardScaler()\n",
    "data_scaled = scaler.fit_transform(cancer.data)\n",
    "X_train , X_test, y_train , y_test = train_test_split(data_scaled, cancer.target,test_size=0.3, random_state=0)"
   ]
  },
  {
   "cell_type": "code",
   "execution_count": 188,
   "id": "747bfacb-eeea-4149-9f05-51f5f81cbfd5",
   "metadata": {},
   "outputs": [
    {
     "data": {
      "text/html": [
       "<style>#sk-container-id-7 {color: black;}#sk-container-id-7 pre{padding: 0;}#sk-container-id-7 div.sk-toggleable {background-color: white;}#sk-container-id-7 label.sk-toggleable__label {cursor: pointer;display: block;width: 100%;margin-bottom: 0;padding: 0.3em;box-sizing: border-box;text-align: center;}#sk-container-id-7 label.sk-toggleable__label-arrow:before {content: \"▸\";float: left;margin-right: 0.25em;color: #696969;}#sk-container-id-7 label.sk-toggleable__label-arrow:hover:before {color: black;}#sk-container-id-7 div.sk-estimator:hover label.sk-toggleable__label-arrow:before {color: black;}#sk-container-id-7 div.sk-toggleable__content {max-height: 0;max-width: 0;overflow: hidden;text-align: left;background-color: #f0f8ff;}#sk-container-id-7 div.sk-toggleable__content pre {margin: 0.2em;color: black;border-radius: 0.25em;background-color: #f0f8ff;}#sk-container-id-7 input.sk-toggleable__control:checked~div.sk-toggleable__content {max-height: 200px;max-width: 100%;overflow: auto;}#sk-container-id-7 input.sk-toggleable__control:checked~label.sk-toggleable__label-arrow:before {content: \"▾\";}#sk-container-id-7 div.sk-estimator input.sk-toggleable__control:checked~label.sk-toggleable__label {background-color: #d4ebff;}#sk-container-id-7 div.sk-label input.sk-toggleable__control:checked~label.sk-toggleable__label {background-color: #d4ebff;}#sk-container-id-7 input.sk-hidden--visually {border: 0;clip: rect(1px 1px 1px 1px);clip: rect(1px, 1px, 1px, 1px);height: 1px;margin: -1px;overflow: hidden;padding: 0;position: absolute;width: 1px;}#sk-container-id-7 div.sk-estimator {font-family: monospace;background-color: #f0f8ff;border: 1px dotted black;border-radius: 0.25em;box-sizing: border-box;margin-bottom: 0.5em;}#sk-container-id-7 div.sk-estimator:hover {background-color: #d4ebff;}#sk-container-id-7 div.sk-parallel-item::after {content: \"\";width: 100%;border-bottom: 1px solid gray;flex-grow: 1;}#sk-container-id-7 div.sk-label:hover label.sk-toggleable__label {background-color: #d4ebff;}#sk-container-id-7 div.sk-serial::before {content: \"\";position: absolute;border-left: 1px solid gray;box-sizing: border-box;top: 0;bottom: 0;left: 50%;z-index: 0;}#sk-container-id-7 div.sk-serial {display: flex;flex-direction: column;align-items: center;background-color: white;padding-right: 0.2em;padding-left: 0.2em;position: relative;}#sk-container-id-7 div.sk-item {position: relative;z-index: 1;}#sk-container-id-7 div.sk-parallel {display: flex;align-items: stretch;justify-content: center;background-color: white;position: relative;}#sk-container-id-7 div.sk-item::before, #sk-container-id-7 div.sk-parallel-item::before {content: \"\";position: absolute;border-left: 1px solid gray;box-sizing: border-box;top: 0;bottom: 0;left: 50%;z-index: -1;}#sk-container-id-7 div.sk-parallel-item {display: flex;flex-direction: column;z-index: 1;position: relative;background-color: white;}#sk-container-id-7 div.sk-parallel-item:first-child::after {align-self: flex-end;width: 50%;}#sk-container-id-7 div.sk-parallel-item:last-child::after {align-self: flex-start;width: 50%;}#sk-container-id-7 div.sk-parallel-item:only-child::after {width: 0;}#sk-container-id-7 div.sk-dashed-wrapped {border: 1px dashed gray;margin: 0 0.4em 0.5em 0.4em;box-sizing: border-box;padding-bottom: 0.4em;background-color: white;}#sk-container-id-7 div.sk-label label {font-family: monospace;font-weight: bold;display: inline-block;line-height: 1.2em;}#sk-container-id-7 div.sk-label-container {text-align: center;}#sk-container-id-7 div.sk-container {/* jupyter's `normalize.less` sets `[hidden] { display: none; }` but bootstrap.min.css set `[hidden] { display: none !important; }` so we also need the `!important` here to be able to override the default hidden behavior on the sphinx rendered scikit-learn.org. See: https://github.com/scikit-learn/scikit-learn/issues/21755 */display: inline-block !important;position: relative;}#sk-container-id-7 div.sk-text-repr-fallback {display: none;}</style><div id=\"sk-container-id-7\" class=\"sk-top-container\"><div class=\"sk-text-repr-fallback\"><pre>KNeighborsClassifier(metric=&#x27;euclidean&#x27;, n_neighbors=7)</pre><b>In a Jupyter environment, please rerun this cell to show the HTML representation or trust the notebook. <br />On GitHub, the HTML representation is unable to render, please try loading this page with nbviewer.org.</b></div><div class=\"sk-container\" hidden><div class=\"sk-item\"><div class=\"sk-estimator sk-toggleable\"><input class=\"sk-toggleable__control sk-hidden--visually\" id=\"sk-estimator-id-13\" type=\"checkbox\" checked><label for=\"sk-estimator-id-13\" class=\"sk-toggleable__label sk-toggleable__label-arrow\">KNeighborsClassifier</label><div class=\"sk-toggleable__content\"><pre>KNeighborsClassifier(metric=&#x27;euclidean&#x27;, n_neighbors=7)</pre></div></div></div></div></div>"
      ],
      "text/plain": [
       "KNeighborsClassifier(metric='euclidean', n_neighbors=7)"
      ]
     },
     "execution_count": 188,
     "metadata": {},
     "output_type": "execute_result"
    }
   ],
   "source": [
    "knn = KNeighborsClassifier(n_neighbors=7, metric='euclidean')\n",
    "knn.fit(X_train, y_train)"
   ]
  },
  {
   "cell_type": "code",
   "execution_count": null,
   "id": "6e065df0-1c32-453a-a4a0-fe61971f79bd",
   "metadata": {},
   "outputs": [],
   "source": [
    "pred = knn.predict(X_test)\n",
    "pred_proba = knn.predict_proba(X_test)[:,1]"
   ]
  },
  {
   "cell_type": "code",
   "execution_count": null,
   "id": "0f48b117-dbb8-436e-adae-bf0c24fdc3d4",
   "metadata": {},
   "outputs": [],
   "source": [
    "acc = accuracy_score(y_test, pred)\n",
    "auc = roc_auc_score(y_test, pred_proba)\n",
    "print(f'accuracy: {acc:.3f}, roc_auc:{auc:.3f}')"
   ]
  },
  {
   "cell_type": "code",
   "execution_count": null,
   "id": "f9d94941-8063-4d22-9fc3-f6af229f385c",
   "metadata": {},
   "outputs": [],
   "source": [
    "# 서포트 벡터 머신 (SVM)"
   ]
  },
  {
   "cell_type": "code",
   "execution_count": 196,
   "id": "1e474be1-a107-4282-8261-26a17a567a32",
   "metadata": {},
   "outputs": [],
   "source": [
    "from sklearn.datasets import load_breast_cancer\n",
    "from sklearn.neighbors import KNeighborsClassifier\n",
    "from sklearn.preprocessing import StandardScaler\n",
    "from sklearn.model_selection import train_test_split\n",
    "from sklearn.metrics import accuracy_score, roc_auc_score\n",
    "from sklearn.svm import SVC, SVR\n",
    "\n",
    "cancer = load_breast_cancer()\n",
    "scaler = StandardScaler()\n",
    "data_scaled = scaler.fit_transform(cancer.data)\n",
    "X_train , X_test, y_train , y_test = train_test_split(data_scaled, cancer.target, \n",
    "test_size=0.3, random_state=0)"
   ]
  },
  {
   "cell_type": "code",
   "execution_count": 195,
   "id": "e373d773-728f-4840-9460-1e74b83614eb",
   "metadata": {},
   "outputs": [
    {
     "name": "stdout",
     "output_type": "stream",
     "text": [
      "accuracy: 0.977, roc_auc:0.998\n"
     ]
    }
   ],
   "source": [
    "svc = SVC(probability = True)\n",
    "svc.fit(X_train, y_train)\n",
    "pred = svc.predict(X_test)\n",
    "pred_proba = svc.predict_proba(X_test)[:,1]\n",
    "acc = accuracy_score(y_test, pred)\n",
    "auc = roc_auc_score(y_test, pred_proba)\n",
    "print(f'accuracy: {acc:.3f}, roc_auc:{auc:.3f}')"
   ]
  },
  {
   "cell_type": "code",
   "execution_count": null,
   "id": "cb72bed8-683b-42a6-bbcb-f339eef656de",
   "metadata": {},
   "outputs": [],
   "source": [
    "# kernel:  linear', 'poly', 'rbf', 'sigmoid'"
   ]
  },
  {
   "cell_type": "code",
   "execution_count": 206,
   "id": "36831977-fcd6-402e-8fd3-0e92db12caa1",
   "metadata": {},
   "outputs": [
    {
     "name": "stdout",
     "output_type": "stream",
     "text": [
      "linear\n",
      "accuracy: 0.959, roc_auc:0.995\n",
      "poly\n",
      "accuracy: 0.889, roc_auc:0.989\n",
      "rbf\n",
      "accuracy: 0.977, roc_auc:0.998\n",
      "sigmoid\n",
      "accuracy: 0.942, roc_auc:0.989\n"
     ]
    }
   ],
   "source": [
    " kernels =['linear', 'poly', 'rbf', 'sigmoid']\n",
    "for kernel in kernels:\n",
    "    print(kernel)\n",
    "    svc = SVC(probability = True, kernel=kernel)\n",
    "    svc.fit(X_train, y_train)\n",
    "    pred = svc.predict(X_test)\n",
    "    pred_proba = svc.predict_proba(X_test)[:,1]\n",
    "    acc = accuracy_score(y_test, pred)\n",
    "    auc = roc_auc_score(y_test, pred_proba)\n",
    "    print(f'accuracy: {acc:.3f}, roc_auc:{auc:.3f}')"
   ]
  },
  {
   "cell_type": "code",
   "execution_count": null,
   "id": "c983fe92-d75f-44d8-bb21-853c7ecc2be4",
   "metadata": {},
   "outputs": [],
   "source": []
  },
  {
   "cell_type": "code",
   "execution_count": null,
   "id": "1b13e6bb-9377-4c4a-ab02-ffe869a422ce",
   "metadata": {},
   "outputs": [],
   "source": []
  }
 ],
 "metadata": {
  "kernelspec": {
   "display_name": "Python 3 (ipykernel)",
   "language": "python",
   "name": "python3"
  },
  "language_info": {
   "codemirror_mode": {
    "name": "ipython",
    "version": 3
   },
   "file_extension": ".py",
   "mimetype": "text/x-python",
   "name": "python",
   "nbconvert_exporter": "python",
   "pygments_lexer": "ipython3",
   "version": "3.11.5"
  }
 },
 "nbformat": 4,
 "nbformat_minor": 5
}
