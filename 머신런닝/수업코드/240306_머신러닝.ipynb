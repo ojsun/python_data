{
 "cells": [
  {
   "cell_type": "code",
   "execution_count": 1,
   "id": "3260723e",
   "metadata": {},
   "outputs": [],
   "source": [
    "import numpy as np\n",
    "def cos_similarity(v1, v2):\n",
    "    dot_product = np.dot(v1, v2)\n",
    "    l2_norm = (np.sqrt(sum(np.square(v1))) * np.sqrt(sum(np.square(v2))))\n",
    "    similarity = dot_product / l2_norm \n",
    "    return similarity\n"
   ]
  },
  {
   "cell_type": "code",
   "execution_count": 19,
   "id": "ad2c99c4",
   "metadata": {},
   "outputs": [
    {
     "name": "stdout",
     "output_type": "stream",
     "text": [
      "(3, 40)\n"
     ]
    }
   ],
   "source": [
    "from sklearn.feature_extraction.text import TfidfVectorizer, CountVectorizer\n",
    "doc_list = ['if you take the blue pill, the story ends' ,\n",
    "            'if you take the red pill, you stay in Wonderland',\n",
    "            'if you take the red pill, I show you how deep the rabbit hole goes']\n",
    "tfidf_vect_simple = CountVectorizer(ngram_range=(1,2))\n",
    "feature_vect_simple = tfidf_vect_simple.fit_transform(doc_list)\n",
    "print(feature_vect_simple.shape)\n"
   ]
  },
  {
   "cell_type": "code",
   "execution_count": 20,
   "id": "cdbf7cf9",
   "metadata": {},
   "outputs": [
    {
     "data": {
      "text/html": [
       "<div>\n",
       "<style scoped>\n",
       "    .dataframe tbody tr th:only-of-type {\n",
       "        vertical-align: middle;\n",
       "    }\n",
       "\n",
       "    .dataframe tbody tr th {\n",
       "        vertical-align: top;\n",
       "    }\n",
       "\n",
       "    .dataframe thead th {\n",
       "        text-align: right;\n",
       "    }\n",
       "</style>\n",
       "<table border=\"1\" class=\"dataframe\">\n",
       "  <thead>\n",
       "    <tr style=\"text-align: right;\">\n",
       "      <th></th>\n",
       "      <th>blue</th>\n",
       "      <th>blue pill</th>\n",
       "      <th>deep</th>\n",
       "      <th>deep the</th>\n",
       "      <th>ends</th>\n",
       "      <th>goes</th>\n",
       "      <th>hole</th>\n",
       "      <th>hole goes</th>\n",
       "      <th>how</th>\n",
       "      <th>how deep</th>\n",
       "      <th>...</th>\n",
       "      <th>the</th>\n",
       "      <th>the blue</th>\n",
       "      <th>the rabbit</th>\n",
       "      <th>the red</th>\n",
       "      <th>the story</th>\n",
       "      <th>wonderland</th>\n",
       "      <th>you</th>\n",
       "      <th>you how</th>\n",
       "      <th>you stay</th>\n",
       "      <th>you take</th>\n",
       "    </tr>\n",
       "  </thead>\n",
       "  <tbody>\n",
       "    <tr>\n",
       "      <th>0</th>\n",
       "      <td>1</td>\n",
       "      <td>1</td>\n",
       "      <td>0</td>\n",
       "      <td>0</td>\n",
       "      <td>1</td>\n",
       "      <td>0</td>\n",
       "      <td>0</td>\n",
       "      <td>0</td>\n",
       "      <td>0</td>\n",
       "      <td>0</td>\n",
       "      <td>...</td>\n",
       "      <td>2</td>\n",
       "      <td>1</td>\n",
       "      <td>0</td>\n",
       "      <td>0</td>\n",
       "      <td>1</td>\n",
       "      <td>0</td>\n",
       "      <td>1</td>\n",
       "      <td>0</td>\n",
       "      <td>0</td>\n",
       "      <td>1</td>\n",
       "    </tr>\n",
       "    <tr>\n",
       "      <th>1</th>\n",
       "      <td>0</td>\n",
       "      <td>0</td>\n",
       "      <td>0</td>\n",
       "      <td>0</td>\n",
       "      <td>0</td>\n",
       "      <td>0</td>\n",
       "      <td>0</td>\n",
       "      <td>0</td>\n",
       "      <td>0</td>\n",
       "      <td>0</td>\n",
       "      <td>...</td>\n",
       "      <td>1</td>\n",
       "      <td>0</td>\n",
       "      <td>0</td>\n",
       "      <td>1</td>\n",
       "      <td>0</td>\n",
       "      <td>1</td>\n",
       "      <td>2</td>\n",
       "      <td>0</td>\n",
       "      <td>1</td>\n",
       "      <td>1</td>\n",
       "    </tr>\n",
       "    <tr>\n",
       "      <th>2</th>\n",
       "      <td>0</td>\n",
       "      <td>0</td>\n",
       "      <td>1</td>\n",
       "      <td>1</td>\n",
       "      <td>0</td>\n",
       "      <td>1</td>\n",
       "      <td>1</td>\n",
       "      <td>1</td>\n",
       "      <td>1</td>\n",
       "      <td>1</td>\n",
       "      <td>...</td>\n",
       "      <td>2</td>\n",
       "      <td>0</td>\n",
       "      <td>1</td>\n",
       "      <td>1</td>\n",
       "      <td>0</td>\n",
       "      <td>0</td>\n",
       "      <td>2</td>\n",
       "      <td>1</td>\n",
       "      <td>0</td>\n",
       "      <td>1</td>\n",
       "    </tr>\n",
       "  </tbody>\n",
       "</table>\n",
       "<p>3 rows × 40 columns</p>\n",
       "</div>"
      ],
      "text/plain": [
       "   blue  blue pill  deep  deep the  ends  goes  hole  hole goes  how  \\\n",
       "0     1          1     0         0     1     0     0          0    0   \n",
       "1     0          0     0         0     0     0     0          0    0   \n",
       "2     0          0     1         1     0     1     1          1    1   \n",
       "\n",
       "   how deep  ...  the  the blue  the rabbit  the red  the story  wonderland  \\\n",
       "0         0  ...    2         1           0        0          1           0   \n",
       "1         0  ...    1         0           0        1          0           1   \n",
       "2         1  ...    2         0           1        1          0           0   \n",
       "\n",
       "   you  you how  you stay  you take  \n",
       "0    1        0         0         1  \n",
       "1    2        0         1         1  \n",
       "2    2        1         0         1  \n",
       "\n",
       "[3 rows x 40 columns]"
      ]
     },
     "execution_count": 20,
     "metadata": {},
     "output_type": "execute_result"
    }
   ],
   "source": [
    "import pandas as pd\n",
    "\n",
    "pd.DataFrame(feature_vect_simple.toarray(), \n",
    "             columns = tfidf_vect_simple.get_feature_names_out())"
   ]
  },
  {
   "cell_type": "code",
   "execution_count": 10,
   "id": "54a5b3ef",
   "metadata": {},
   "outputs": [],
   "source": [
    "feature_vect_array = feature_vect_simple.toarray()\n",
    "vect1 = np.array(feature_vect_array[0]).reshape(-1,)\n",
    "vect2 = np.array(feature_vect_array[1]).reshape(-1,)"
   ]
  },
  {
   "cell_type": "code",
   "execution_count": 11,
   "id": "c2cf13d2",
   "metadata": {
    "collapsed": true
   },
   "outputs": [
    {
     "data": {
      "text/plain": [
       "array([0.29065468, 0.29065468, 0.        , 0.        , 0.29065468,\n",
       "       0.        , 0.        , 0.        , 0.        , 0.        ,\n",
       "       0.17166534, 0.17166534, 0.        , 0.        , 0.17166534,\n",
       "       0.        , 0.29065468, 0.        , 0.        , 0.        ,\n",
       "       0.        , 0.        , 0.        , 0.        , 0.        ,\n",
       "       0.        , 0.29065468, 0.29065468, 0.17166534, 0.17166534,\n",
       "       0.34333067, 0.29065468, 0.        , 0.        , 0.29065468,\n",
       "       0.        , 0.17166534, 0.        , 0.        , 0.17166534])"
      ]
     },
     "execution_count": 11,
     "metadata": {},
     "output_type": "execute_result"
    }
   ],
   "source": [
    "vect1"
   ]
  },
  {
   "cell_type": "code",
   "execution_count": 12,
   "id": "d45df28f",
   "metadata": {},
   "outputs": [
    {
     "data": {
      "text/plain": [
       "0.2859437005608519"
      ]
     },
     "execution_count": 12,
     "metadata": {},
     "output_type": "execute_result"
    }
   ],
   "source": [
    "cos_similarity(vect1, vect2)"
   ]
  },
  {
   "cell_type": "code",
   "execution_count": 14,
   "id": "51a041a1",
   "metadata": {},
   "outputs": [
    {
     "name": "stdout",
     "output_type": "stream",
     "text": [
      "문장1,문장3 코사인유사도:0.268\n",
      "문장2,문장3 코사인유사도:0.368\n"
     ]
    }
   ],
   "source": [
    "vect1 = np.array(feature_vect_array[0]).reshape(-1,)\n",
    "vect3 = np.array(feature_vect_array[2]).reshape(-1,)\n",
    "similarity_simple = cos_similarity(vect1, vect3 )\n",
    "print('문장1,문장3 코사인유사도:{0:.3f}'.format(similarity_simple))\n",
    "\n",
    "vect2 = np.array(feature_vect_array[1]).reshape(-1,)\n",
    "vect3 = np.array(feature_vect_array[2]).reshape(-1,)\n",
    "similarity_simple = cos_similarity(vect2, vect3 )\n",
    "print('문장2,문장3 코사인유사도:{0:.3f}'.format(similarity_simple))"
   ]
  },
  {
   "cell_type": "code",
   "execution_count": 16,
   "id": "4d96ffd9",
   "metadata": {
    "collapsed": true
   },
   "outputs": [
    {
     "data": {
      "text/plain": [
       "array([[0.29065468, 0.29065468, 0.        , 0.        , 0.29065468,\n",
       "        0.        , 0.        , 0.        , 0.        , 0.        ,\n",
       "        0.17166534, 0.17166534, 0.        , 0.        , 0.17166534,\n",
       "        0.        , 0.29065468, 0.        , 0.        , 0.        ,\n",
       "        0.        , 0.        , 0.        , 0.        , 0.        ,\n",
       "        0.        , 0.29065468, 0.29065468, 0.17166534, 0.17166534,\n",
       "        0.34333067, 0.29065468, 0.        , 0.        , 0.29065468,\n",
       "        0.        , 0.17166534, 0.        , 0.        , 0.17166534],\n",
       "       [0.        , 0.        , 0.        , 0.        , 0.        ,\n",
       "        0.        , 0.        , 0.        , 0.        , 0.        ,\n",
       "        0.16657044, 0.16657044, 0.28202827, 0.28202827, 0.16657044,\n",
       "        0.        , 0.        , 0.28202827, 0.        , 0.        ,\n",
       "        0.21448977, 0.21448977, 0.        , 0.        , 0.28202827,\n",
       "        0.28202827, 0.        , 0.        , 0.16657044, 0.16657044,\n",
       "        0.16657044, 0.        , 0.        , 0.21448977, 0.        ,\n",
       "        0.28202827, 0.33314088, 0.        , 0.28202827, 0.16657044],\n",
       "       [0.        , 0.        , 0.22022595, 0.22022595, 0.        ,\n",
       "        0.22022595, 0.22022595, 0.22022595, 0.22022595, 0.22022595,\n",
       "        0.130069  , 0.130069  , 0.        , 0.        , 0.130069  ,\n",
       "        0.22022595, 0.        , 0.        , 0.22022595, 0.22022595,\n",
       "        0.16748751, 0.16748751, 0.22022595, 0.22022595, 0.        ,\n",
       "        0.        , 0.        , 0.        , 0.130069  , 0.130069  ,\n",
       "        0.26013799, 0.        , 0.22022595, 0.16748751, 0.        ,\n",
       "        0.        , 0.26013799, 0.22022595, 0.        , 0.130069  ]])"
      ]
     },
     "execution_count": 16,
     "metadata": {},
     "output_type": "execute_result"
    }
   ],
   "source": [
    "feature_vect_simple.toarray()"
   ]
  },
  {
   "cell_type": "code",
   "execution_count": 21,
   "id": "e5859297",
   "metadata": {},
   "outputs": [
    {
     "name": "stdout",
     "output_type": "stream",
     "text": [
      "[[1.         0.50062617 0.49445139]\n",
      " [0.50062617 1.         0.58789635]\n",
      " [0.49445139 0.58789635 1.        ]]\n",
      "shape: (3, 3)\n"
     ]
    }
   ],
   "source": [
    "from sklearn.metrics.pairwise import cosine_similarity\n",
    "similarity_simple_pair = cosine_similarity(feature_vect_simple)\n",
    "print(similarity_simple_pair)\n",
    "print('shape:',similarity_simple_pair.shape)\n"
   ]
  },
  {
   "cell_type": "code",
   "execution_count": null,
   "id": "d6204a94",
   "metadata": {},
   "outputs": [],
   "source": [
    "df = pd.read_csv('data/ml/petition.csv')"
   ]
  },
  {
   "cell_type": "code",
   "execution_count": 23,
   "id": "839010cc",
   "metadata": {},
   "outputs": [],
   "source": [
    "df = df[df['category'] == '육아/교육']"
   ]
  },
  {
   "cell_type": "code",
   "execution_count": 25,
   "id": "bf4d796c",
   "metadata": {},
   "outputs": [],
   "source": [
    "df = df['content'].sample(frac=0.05)"
   ]
  },
  {
   "cell_type": "code",
   "execution_count": 26,
   "id": "0085c98a",
   "metadata": {},
   "outputs": [
    {
     "data": {
      "text/plain": [
       "(1277,)"
      ]
     },
     "execution_count": 26,
     "metadata": {},
     "output_type": "execute_result"
    }
   ],
   "source": [
    "df.shape"
   ]
  },
  {
   "cell_type": "code",
   "execution_count": 29,
   "id": "cfffd87e",
   "metadata": {},
   "outputs": [
    {
     "name": "stdout",
     "output_type": "stream",
     "text": [
      "['않다', '되어다', '되다', '하다', '어떻다', '이렇다', '이다', '어제', '매일', '아']\n"
     ]
    }
   ],
   "source": [
    "from konlpy.tag import Okt\n",
    "\n",
    "okt = Okt()\n",
    "\n",
    "def okt_tokenizer(text):\n",
    "    return okt.morphs(text, stem=True)\n",
    "\n",
    "with open('data/ml/stopword.txt', 'r', encoding='utf-8') as f:\n",
    "    data = f.read()\n",
    "    stopwords = data.split('\\n')\n",
    "print(stopwords[:10])"
   ]
  },
  {
   "cell_type": "code",
   "execution_count": 30,
   "id": "1a9157bd",
   "metadata": {
    "collapsed": true
   },
   "outputs": [
    {
     "name": "stderr",
     "output_type": "stream",
     "text": [
      "C:\\Users\\admin\\AppData\\Local\\anaconda3\\Lib\\site-packages\\sklearn\\feature_extraction\\text.py:525: UserWarning: The parameter 'token_pattern' will not be used since 'tokenizer' is not None'\n",
      "  warnings.warn(\n",
      "C:\\Users\\admin\\AppData\\Local\\anaconda3\\Lib\\site-packages\\sklearn\\feature_extraction\\text.py:408: UserWarning: Your stop_words may be inconsistent with your preprocessing. Tokenizing the stop words generated tokens ['\\t', '가다', '각하', '간', '갖다', '개', '거나', '거리', '걸', '겁', '것과', '견지', '결과', '결론', '고려', '곤', '곳', '공동', '관', '관계', '관련', '구체', '구토', '그러하다', '그런', '그렇게', '그렇다', '그치다', '근거', '기대', '기점', '기준', '김', '까닭', '나머지', '남', '낫다', '낼', '년도', '논', '누가', '는', '다', '다르다', '다시', '달다', '답', '대로', '대하', '대해', '더', '더불다', '더욱이', '도', '도달', '도착', '동시', '됏', '두번째', '뒤', '뒤따르다', '든', '든지', '들다', '듯', '따다', '따르다', '따름', '때문', '라', '라도', '라면', '리하', '마자', '막론', '만', '만으로', '만은', '만이', '만큼', '만하', '많다', '말', '말다', '망정', '메', '면', '모르다', '몰랏다', '못', '무릎', '미치다', '바', '바꾸다', '밖에', '반대', '방면', '번째', '보다', '보아', '본대', '부류', '불구', '불문', '비', '비걱거리', '비교', '비기다', '비추다', '뿐', '사람', '상대', '생각', '서', '서술', '수', '시오', '시작', '시초', '쓰다', '쓰이다', '아니다', '아래', '아무', '아우르다', '안', '안다', '안되다', '알', '알다', '앞', '어기', '어떠하다', '어쨋', '어쩔', '어찌됏', '없다', '에도', '에야', '여보', '여전하다', '연', '연관', '옆', '오다', '외', '요', '요만', '우', '울다', '위', '위해', '윗', '은', '의거', '의지', '의치', '의하다', '이러하다', '이렇게', '이로', '이르다', '이서', '이외', '이용', '이유', '인', '인하다', '일반', '일지', '임', '입', '입다', '입장', '잇따르다', '적', '점', '정도', '제외', '젠', '종합', '좋다', '주저', '줄', '중', '즈음', '지', '지경', '지다', '진짜', '집', '쪽', '차', '차다', '첫', '총', '켜다', '크다', '토', '통', '틀림없다', '틈타다', '편이', '하고', '하든', '하자', '한', '한적', '함', '항목', '해', '해도', '해보다', '향', '허다', '형식', '후', '힘'] not in stop_words.\n",
      "  warnings.warn(\n"
     ]
    },
    {
     "data": {
      "text/plain": [
       "<1277x27315 sparse matrix of type '<class 'numpy.float64'>'\n",
       "\twith 200455 stored elements in Compressed Sparse Row format>"
      ]
     },
     "execution_count": 30,
     "metadata": {},
     "output_type": "execute_result"
    }
   ],
   "source": [
    "from sklearn.feature_extraction.text import TfidfVectorizer\n",
    "tfidf_vect = TfidfVectorizer(max_df = 0.85,\n",
    "                            min_df = 2, \n",
    "                            ngram_range = (1, 2),\n",
    "                            tokenizer = okt_tokenizer,\n",
    "                            stop_words = stopwords)\n",
    "df_tfidf_vect = tfidf_vect.fit_transform(df)\n",
    "df_tfidf_vect"
   ]
  },
  {
   "cell_type": "code",
   "execution_count": 33,
   "id": "15d06072",
   "metadata": {},
   "outputs": [
    {
     "name": "stdout",
     "output_type": "stream",
     "text": [
      "주관적인 평가를 필요로 하는 대학교 수업의 경우 생각보다 꽤 많은 교수님들이 몇 십년 전부터 사용하던 수업 방식을 우려먹으며 자신의 마음에 드는 학생들만 주로 컨펌을 봐주고 성적 평가 당시에도 마찬가지로 자신이 좋아하는 학생들만 좋은 점수를 주는 등의 불공정한 대우를 해오셨으며 비싼 등록금에 비해 돌아오는 것이 거의 없는 사기 수준의 수업을 하고 계십니다.\\n학기말 쯤에 시행하는 강의평가로 아무리 박한 점수를 주고 의견을 써서 보내도 고정 교수로 일하시는 분들이라 개선사항이 아무 것도 없습니다. 오히려 이러한 평가로 타격을 입는 외부 강사님들이 더 수업을 성실히 진행하시고 그 분들께 얻어가는 것이 더 많을 지경입니다.\\n돈을 내고 수업을 듣는 학생들조차 상대 평가로 인해 노력대비 정당한 점수를 받지 못하고 그만큼 장학금이 깎이는 데 비해 고정 교수님들은 아무런 타격을 받지 않습니다. 이에 관련해서 교수 평가로 고정 교수들도 타격을 입거나 하는 대책을 마련해주십사하고 수준 낮은 글을 써올려봅니다. 읽어주셔서 감사합니다.\n"
     ]
    }
   ],
   "source": [
    "print(df.iloc[0])"
   ]
  },
  {
   "cell_type": "code",
   "execution_count": 34,
   "id": "b0f86b88",
   "metadata": {},
   "outputs": [
    {
     "name": "stdout",
     "output_type": "stream",
     "text": [
      "[[1.         0.00975438 0.04055797 ... 0.05628815 0.03888682 0.02500742]\n",
      " [0.00975438 1.         0.00353995 ... 0.00489653 0.00884538 0.02055037]\n",
      " [0.04055797 0.00353995 1.         ... 0.01627835 0.01984549 0.03311508]\n",
      " [0.03247962 0.00378757 0.05340167 ... 0.03940125 0.00739583 0.09157841]\n",
      " [0.02226866 0.00289482 0.02197678 ... 0.10438558 0.01491909 0.1358078 ]]\n"
     ]
    }
   ],
   "source": [
    "similarity_pair = cosine_similarity(df_tfidf_vect[0:5], df_tfidf_vect)\n",
    "print(similarity_pair)"
   ]
  },
  {
   "cell_type": "code",
   "execution_count": 44,
   "id": "70080498",
   "metadata": {},
   "outputs": [
    {
     "data": {
      "text/plain": [
       "array([   2,  536,  842, ..., 1209, 1230,  789], dtype=int64)"
      ]
     },
     "execution_count": 44,
     "metadata": {},
     "output_type": "execute_result"
    }
   ],
   "source": [
    "similarity_pair[2].reshape(-1).argsort()[::-1]"
   ]
  },
  {
   "cell_type": "code",
   "execution_count": 45,
   "id": "e5b65752",
   "metadata": {},
   "outputs": [
    {
     "data": {
      "text/plain": [
       "'저는 중학교 1학년 입니다. 다름이 아니라 아직 1학년인데 시험을 7과목에서 10과목 보는 것도 두렵고... 부모님이 뭐라고 하실까봐 불안합니다. 평소에 저희 학교 애들뿐만 아니라 시험을 다 싫어합니다. 청소년이 무조건 공부만 하라는 법이 있습니까?? 아무리 1학년이 자유학기제라고 해도 저희 학교는 2학기때 자유학기제 입니다. 1학년 1학기 중학교와서 치르는 첫번째 기말고사가 이렇게나 빨라도 됩니까??? 심지어 청소년입니다. 저희는 아직 공부도 중요하지만 대인관계 이런게 더 중요할 수 있습니다. 중학교 기말고사 제도를 폐지하고 차라리 수행평가를 대체로 보는게 더 좋다고 생각합니다.\\\\n중학교 기말고사 제도를 폐지하여 주세요'"
      ]
     },
     "execution_count": 45,
     "metadata": {},
     "output_type": "execute_result"
    }
   ],
   "source": [
    "df.iloc[2]"
   ]
  },
  {
   "cell_type": "code",
   "execution_count": 46,
   "id": "89882228",
   "metadata": {},
   "outputs": [
    {
     "data": {
      "text/plain": [
       "\"저는 저희 학교가 자유학기제 시범운영 학교인지라, 자유학기제를 제 나이가 16세 중3인데도 불구하고 시범운영으로써 경험하였습니다. 그렇게 경험한 자유학기제는 과장 없이 최악이었습니다. 물론 재미는 있었죠. 시험 부담은 적었죠. 그런데 자유학기제의 목적과 취지에 관련한 장점은 없더군요. 선택프로그램은 저희의 자유로운 선택이 아닌 선택프로그램 목록에서 고르는 방식으로 진행되었고, 그에 따라 인기있는 프로그램과 아닌 프로그램으로 나뉘면서 학생 인원의 불균형을 가져 왔습니다. 따라서 진짜 꿈이 음악인인 학생들, 영화감독인 학생들은 가위바위보에서 지면 그 프로그램을 경험하지 못했죠. 그런데 중학교 때는 장래희망이 계속 바뀌죠? 그럼에 따라 장래희망이 중1때와 중3때가 다른 학생들이 많습니다. 그렇다면 중1때의 선택 프로그램은 뭘까요? 그저 활동적인 경험일 뿐이죠. 정말 비인기 프로그램이었다면 아닐 수도 있고요. 또 문제점이 있었습니다. 시험이 없어서, 학원들은 선행학습에 대한 홍보를 계속 하더군요. 내신 대비에 쓰는 시간이 적어지니 선행을 할 시간이 많아지고, 사교육은 확대될 수밖에요. 진짜 자유학기제를 즐기는 학생들은 다음 학기에 성적이 좋지 않더라고요.\\\\n사실, 시범 운영이라 그러려니 했습니다. 2학년 1학년 후배들에게 물어보니 달라진 건 없더군요. 선택프로그램의 수업시수만 달라졌더군요.\\\\n지금까지 저는 자유학기제의 단점을 얘기했습니다. 이렇듯 자유학기제는 솔직히 필요없는 것 같군요. 그런데 자유학년제라뇨! 이 의미없는 행동을 1학년 1학기에도 한다면, 1학년 학생들은 중학교의 수업 방식, 많아지는 학업 분량, 시험 스트레스에 적응하기도 전에, 아니 그나마 그래도 분량이 적은 1학년에 적응할 기회도 없이 그냥 시험 치지 않고, 학업의 분량을 체감하지도 않은 채 진행되죠. 갑자기 2학년이 되어서 겪는 학업 부담은\\\\n만만치 않을 겁니다. 그리고 구체적이지 않음은 물론이거니와 막연한 꿈도 없는 학생이 많은 1학년에게, 자유학년제를 제도적으로 실시한다면 이게 대체 무슨 의미가 있을까요?\\\\n자유학년제 또는 자유학기제를 시행하려면, 일단 교육과정부터 바뀌어야 한다고 생각합니다. 교육과정을 바꾸어 그 학년 또는 그리고 그 학기에 배우는 학업의 양을 최대한 줄여야 한다고 생각해요. 그리고 자유학년제 또는 자유학기제를 맞아 과한 선행을 시키는 학원에 대한 규제도 필요할 거고요. 자유학기제는 진짜 자기가 원하는 프로그램을 설문조사를 받고, 프로그램 개설/배정은 생활기록부에 적는 장래 희망 란을 참고하여 해야 하고요. 이러한 준비가 끝나면, 전 차라리 고등학교 1학년, 꿈이라는 것이 확립될 시기에 3개월 동안 즉, 중간고사 또는 기말고사 중 하나만 치지 않고 그 3개월 동안 제대로 자유학기제를 실시하는 게 현실적으로, 이상적으로 괜찮은 방안 같습니다. 이대로 간다면 앞으로의 중학교 1학년생들은... 많이 힘들 겁니다. '선행학습'에 시달리고, 공교육의 적인 '과한 사교육'에 시달리고 중학교 2학년의 경험하지 못한 학업 분량에 시달리겠죠. 최대한 빨리 폐지해 주세요.\""
      ]
     },
     "execution_count": 46,
     "metadata": {},
     "output_type": "execute_result"
    }
   ],
   "source": [
    "df.iloc[536]"
   ]
  },
  {
   "cell_type": "code",
   "execution_count": 18,
   "id": "0b4966d8",
   "metadata": {},
   "outputs": [],
   "source": [
    "from konlpy.tag import Okt\n",
    "\n",
    "okt = Okt()\n",
    "def okt_tokenizer(text):\n",
    "    words = okt.pos(text, stem=True)\n",
    "    filtered_words = []\n",
    "    for word, pos in words:\n",
    "        if pos not in ['Josa', 'KoreanParticle']:\n",
    "            filtered_words.append(word)\n",
    "            \n",
    "    return filtered_words\n",
    "\n",
    "with open('data/ml/stopword.txt', 'r', encoding='utf-8') as f:\n",
    "    data = f.read()\n",
    "    stopwords = data.split('\\n')"
   ]
  },
  {
   "cell_type": "code",
   "execution_count": 1,
   "id": "ebd598ca",
   "metadata": {},
   "outputs": [],
   "source": [
    "import pandas as pd\n",
    "\n",
    "df = pd.read_csv('data/ml/네이버 영화 리뷰.csv')"
   ]
  },
  {
   "cell_type": "code",
   "execution_count": null,
   "id": "405bc9d9",
   "metadata": {},
   "outputs": [],
   "source": [
    "# 문서분류(분류, 회귀)\n",
    "# 감성분석(긍정, 중립, 부정)"
   ]
  },
  {
   "cell_type": "code",
   "execution_count": 14,
   "id": "bd8841a1",
   "metadata": {},
   "outputs": [],
   "source": [
    "good_df = df[df['score'] == 10].sample(frac=0.35)"
   ]
  },
  {
   "cell_type": "code",
   "execution_count": 15,
   "id": "2000119f",
   "metadata": {},
   "outputs": [],
   "source": [
    "bad_df = df[df['score'] <= 5]"
   ]
  },
  {
   "cell_type": "code",
   "execution_count": 16,
   "id": "4942e4ed",
   "metadata": {
    "collapsed": true
   },
   "outputs": [
    {
     "name": "stderr",
     "output_type": "stream",
     "text": [
      "C:\\Users\\admin\\AppData\\Local\\Temp\\ipykernel_2852\\791883821.py:2: SettingWithCopyWarning: \n",
      "A value is trying to be set on a copy of a slice from a DataFrame.\n",
      "Try using .loc[row_indexer,col_indexer] = value instead\n",
      "\n",
      "See the caveats in the documentation: https://pandas.pydata.org/pandas-docs/stable/user_guide/indexing.html#returning-a-view-versus-a-copy\n",
      "  bad_df['score'] = 0\n"
     ]
    }
   ],
   "source": [
    "good_df['score'] = 1\n",
    "bad_df['score'] = 0\n",
    "\n",
    "df = pd.concat([good_df, bad_df])"
   ]
  },
  {
   "cell_type": "code",
   "execution_count": 20,
   "id": "cb1363dd",
   "metadata": {},
   "outputs": [],
   "source": [
    "import warnings\n",
    "warnings.filterwarnings('ignore')"
   ]
  },
  {
   "cell_type": "code",
   "execution_count": 30,
   "id": "e94ecc58",
   "metadata": {},
   "outputs": [],
   "source": [
    "X = df['content']\n",
    "y = df['score']\n",
    "\n",
    "from sklearn.feature_extraction.text import CountVectorizer\n",
    "\n",
    "cnt_vect =  CountVectorizer(max_df = 0.9,\n",
    "                            min_df = 2,\n",
    "                            ngram_range=(1,2),\n",
    "                            tokenizer=okt_tokenizer,\n",
    "                            stop_words=stopwords,\n",
    "                           )\n",
    "\n",
    "X_cnt = cnt_vect.fit_transform(X)\n",
    "\n",
    "from sklearn.model_selection import train_test_split\n",
    "\n",
    "X_train, X_test, y_train, y_test = train_test_split(X_cnt, y, test_size=0.2, \n",
    "                                                    random_state=0)"
   ]
  },
  {
   "cell_type": "code",
   "execution_count": 31,
   "id": "f6f69831",
   "metadata": {},
   "outputs": [
    {
     "data": {
      "text/plain": [
       "880"
      ]
     },
     "execution_count": 31,
     "metadata": {},
     "output_type": "execute_result"
    }
   ],
   "source": [
    "len(cnt_vect.get_feature_names_out())"
   ]
  },
  {
   "cell_type": "code",
   "execution_count": 32,
   "id": "9403efd6",
   "metadata": {},
   "outputs": [
    {
     "name": "stdout",
     "output_type": "stream",
     "text": [
      "0.8493150684931506\n",
      "0.8571428571428572\n"
     ]
    }
   ],
   "source": [
    "from sklearn.linear_model import LogisticRegression\n",
    "\n",
    "lr_clf = LogisticRegression()\n",
    "lr_clf.fit(X_train, y_train)\n",
    "\n",
    "pred = lr_clf.predict(X_test)\n",
    "\n",
    "from sklearn.metrics import accuracy_score, f1_score\n",
    "\n",
    "print(accuracy_score(y_test, pred))\n",
    "print(f1_score(y_test, pred))"
   ]
  },
  {
   "cell_type": "code",
   "execution_count": 35,
   "id": "07e55f87",
   "metadata": {},
   "outputs": [
    {
     "data": {
      "text/plain": [
       "array([1], dtype=int64)"
      ]
     },
     "execution_count": 35,
     "metadata": {},
     "output_type": "execute_result"
    }
   ],
   "source": [
    "test_text = '영화가 재밌긴한데 너무 슬퍼요'\n",
    "\n",
    "predict = cnt_vect.transform([test_text])\n",
    "\n",
    "lr_clf.predict(predict)"
   ]
  },
  {
   "cell_type": "code",
   "execution_count": 36,
   "id": "33a63b51",
   "metadata": {},
   "outputs": [],
   "source": [
    "from sklearn.feature_extraction.text import TfidfVectorizer\n",
    "\n",
    "tfidf_vect =  TfidfVectorizer(max_df = 0.9,\n",
    "                            min_df = 2,\n",
    "                            ngram_range=(1,2),\n",
    "                            tokenizer=okt_tokenizer,\n",
    "                            stop_words=stopwords,\n",
    "                           )\n",
    "\n",
    "X_tfidf = tfidf_vect.fit_transform(X)\n",
    "\n",
    "X_train, X_test, y_train, y_test = train_test_split(X_tfidf, y, test_size=0.2, \n",
    "                                                    random_state=0)"
   ]
  },
  {
   "cell_type": "code",
   "execution_count": 37,
   "id": "e1ce152a",
   "metadata": {},
   "outputs": [
    {
     "name": "stdout",
     "output_type": "stream",
     "text": [
      "0.8493150684931506\n",
      "0.8607594936708861\n"
     ]
    }
   ],
   "source": [
    "lr_clf = LogisticRegression()\n",
    "lr_clf.fit(X_train, y_train)\n",
    "\n",
    "pred = lr_clf.predict(X_test)\n",
    "\n",
    "print(accuracy_score(y_test, pred))\n",
    "print(f1_score(y_test, pred))"
   ]
  },
  {
   "cell_type": "code",
   "execution_count": 42,
   "id": "cf61d315",
   "metadata": {},
   "outputs": [
    {
     "data": {
      "text/plain": [
       "array([1], dtype=int64)"
      ]
     },
     "execution_count": 42,
     "metadata": {},
     "output_type": "execute_result"
    }
   ],
   "source": [
    "test_text = '영화가 별로 재미있어요'\n",
    "\n",
    "predict = tfidf_vect.transform([test_text])\n",
    "\n",
    "lr_clf.predict(predict)"
   ]
  },
  {
   "cell_type": "code",
   "execution_count": 44,
   "id": "6003bbdc",
   "metadata": {},
   "outputs": [
    {
     "data": {
      "text/plain": [
       "array(['POS', 'NEG', 'NEUT', 'COMP', nan], dtype=object)"
      ]
     },
     "execution_count": 44,
     "metadata": {},
     "output_type": "execute_result"
    }
   ],
   "source": [
    "senti_words = pd.read_csv('data/ml/polarity.csv')\n",
    "senti_words['max.value'].unique()"
   ]
  },
  {
   "cell_type": "code",
   "execution_count": 47,
   "id": "6a3fcb89",
   "metadata": {},
   "outputs": [
    {
     "data": {
      "text/html": [
       "<div>\n",
       "<style scoped>\n",
       "    .dataframe tbody tr th:only-of-type {\n",
       "        vertical-align: middle;\n",
       "    }\n",
       "\n",
       "    .dataframe tbody tr th {\n",
       "        vertical-align: top;\n",
       "    }\n",
       "\n",
       "    .dataframe thead th {\n",
       "        text-align: right;\n",
       "    }\n",
       "</style>\n",
       "<table border=\"1\" class=\"dataframe\">\n",
       "  <thead>\n",
       "    <tr style=\"text-align: right;\">\n",
       "      <th></th>\n",
       "      <th>ngram</th>\n",
       "      <th>freq</th>\n",
       "      <th>COMP</th>\n",
       "      <th>NEG</th>\n",
       "      <th>NEUT</th>\n",
       "      <th>None</th>\n",
       "      <th>POS</th>\n",
       "      <th>max.value</th>\n",
       "      <th>max.prop</th>\n",
       "    </tr>\n",
       "  </thead>\n",
       "  <tbody>\n",
       "    <tr>\n",
       "      <th>0</th>\n",
       "      <td>가*/JKS</td>\n",
       "      <td>1</td>\n",
       "      <td>0.0</td>\n",
       "      <td>0.0</td>\n",
       "      <td>0.0</td>\n",
       "      <td>0.0</td>\n",
       "      <td>1.0</td>\n",
       "      <td>POS</td>\n",
       "      <td>1.0</td>\n",
       "    </tr>\n",
       "    <tr>\n",
       "      <th>1</th>\n",
       "      <td>가*/JKS;있/VV</td>\n",
       "      <td>1</td>\n",
       "      <td>0.0</td>\n",
       "      <td>0.0</td>\n",
       "      <td>0.0</td>\n",
       "      <td>0.0</td>\n",
       "      <td>1.0</td>\n",
       "      <td>POS</td>\n",
       "      <td>1.0</td>\n",
       "    </tr>\n",
       "    <tr>\n",
       "      <th>2</th>\n",
       "      <td>가*/JKS;있/VV;었/EP</td>\n",
       "      <td>1</td>\n",
       "      <td>0.0</td>\n",
       "      <td>0.0</td>\n",
       "      <td>0.0</td>\n",
       "      <td>0.0</td>\n",
       "      <td>1.0</td>\n",
       "      <td>POS</td>\n",
       "      <td>1.0</td>\n",
       "    </tr>\n",
       "    <tr>\n",
       "      <th>3</th>\n",
       "      <td>가*/VV</td>\n",
       "      <td>3</td>\n",
       "      <td>0.0</td>\n",
       "      <td>0.0</td>\n",
       "      <td>0.0</td>\n",
       "      <td>0.0</td>\n",
       "      <td>1.0</td>\n",
       "      <td>POS</td>\n",
       "      <td>1.0</td>\n",
       "    </tr>\n",
       "    <tr>\n",
       "      <th>4</th>\n",
       "      <td>가*/VV;ㄴ다*/EF</td>\n",
       "      <td>1</td>\n",
       "      <td>0.0</td>\n",
       "      <td>0.0</td>\n",
       "      <td>0.0</td>\n",
       "      <td>0.0</td>\n",
       "      <td>1.0</td>\n",
       "      <td>POS</td>\n",
       "      <td>1.0</td>\n",
       "    </tr>\n",
       "    <tr>\n",
       "      <th>...</th>\n",
       "      <td>...</td>\n",
       "      <td>...</td>\n",
       "      <td>...</td>\n",
       "      <td>...</td>\n",
       "      <td>...</td>\n",
       "      <td>...</td>\n",
       "      <td>...</td>\n",
       "      <td>...</td>\n",
       "      <td>...</td>\n",
       "    </tr>\n",
       "    <tr>\n",
       "      <th>16357</th>\n",
       "      <td>힘들/VA;ㄹ/ETM;것/NNB</td>\n",
       "      <td>1</td>\n",
       "      <td>0.0</td>\n",
       "      <td>1.0</td>\n",
       "      <td>0.0</td>\n",
       "      <td>0.0</td>\n",
       "      <td>0.0</td>\n",
       "      <td>NEG</td>\n",
       "      <td>1.0</td>\n",
       "    </tr>\n",
       "    <tr>\n",
       "      <th>16358</th>\n",
       "      <td>힘들/VA;ㄹ/ETM;때/NNG</td>\n",
       "      <td>1</td>\n",
       "      <td>0.0</td>\n",
       "      <td>1.0</td>\n",
       "      <td>0.0</td>\n",
       "      <td>0.0</td>\n",
       "      <td>0.0</td>\n",
       "      <td>NEG</td>\n",
       "      <td>1.0</td>\n",
       "    </tr>\n",
       "    <tr>\n",
       "      <th>16359</th>\n",
       "      <td>힘차/VA</td>\n",
       "      <td>1</td>\n",
       "      <td>0.0</td>\n",
       "      <td>1.0</td>\n",
       "      <td>0.0</td>\n",
       "      <td>0.0</td>\n",
       "      <td>0.0</td>\n",
       "      <td>NEG</td>\n",
       "      <td>1.0</td>\n",
       "    </tr>\n",
       "    <tr>\n",
       "      <th>16360</th>\n",
       "      <td>힘차/VA;ㄴ/ETM</td>\n",
       "      <td>1</td>\n",
       "      <td>0.0</td>\n",
       "      <td>1.0</td>\n",
       "      <td>0.0</td>\n",
       "      <td>0.0</td>\n",
       "      <td>0.0</td>\n",
       "      <td>NEG</td>\n",
       "      <td>1.0</td>\n",
       "    </tr>\n",
       "    <tr>\n",
       "      <th>16361</th>\n",
       "      <td>힘차/VA;ㄴ/ETM;붓/NNG</td>\n",
       "      <td>1</td>\n",
       "      <td>0.0</td>\n",
       "      <td>1.0</td>\n",
       "      <td>0.0</td>\n",
       "      <td>0.0</td>\n",
       "      <td>0.0</td>\n",
       "      <td>NEG</td>\n",
       "      <td>1.0</td>\n",
       "    </tr>\n",
       "  </tbody>\n",
       "</table>\n",
       "<p>16362 rows × 9 columns</p>\n",
       "</div>"
      ],
      "text/plain": [
       "                   ngram  freq  COMP  NEG  NEUT  None  POS max.value  max.prop\n",
       "0                 가*/JKS     1   0.0  0.0   0.0   0.0  1.0       POS       1.0\n",
       "1            가*/JKS;있/VV     1   0.0  0.0   0.0   0.0  1.0       POS       1.0\n",
       "2       가*/JKS;있/VV;었/EP     1   0.0  0.0   0.0   0.0  1.0       POS       1.0\n",
       "3                  가*/VV     3   0.0  0.0   0.0   0.0  1.0       POS       1.0\n",
       "4           가*/VV;ㄴ다*/EF     1   0.0  0.0   0.0   0.0  1.0       POS       1.0\n",
       "...                  ...   ...   ...  ...   ...   ...  ...       ...       ...\n",
       "16357  힘들/VA;ㄹ/ETM;것/NNB     1   0.0  1.0   0.0   0.0  0.0       NEG       1.0\n",
       "16358  힘들/VA;ㄹ/ETM;때/NNG     1   0.0  1.0   0.0   0.0  0.0       NEG       1.0\n",
       "16359              힘차/VA     1   0.0  1.0   0.0   0.0  0.0       NEG       1.0\n",
       "16360        힘차/VA;ㄴ/ETM     1   0.0  1.0   0.0   0.0  0.0       NEG       1.0\n",
       "16361  힘차/VA;ㄴ/ETM;붓/NNG     1   0.0  1.0   0.0   0.0  0.0       NEG       1.0\n",
       "\n",
       "[16362 rows x 9 columns]"
      ]
     },
     "execution_count": 47,
     "metadata": {},
     "output_type": "execute_result"
    }
   ],
   "source": [
    "senti_words"
   ]
  },
  {
   "cell_type": "code",
   "execution_count": 123,
   "id": "27631ebc",
   "metadata": {},
   "outputs": [
    {
     "name": "stdout",
     "output_type": "stream",
     "text": [
      "하고 싶은 말을 써주세요정말 행복하다\n"
     ]
    }
   ],
   "source": [
    "text = input('하고 싶은 말을 써주세요')"
   ]
  },
  {
   "cell_type": "code",
   "execution_count": 124,
   "id": "b01c5a06",
   "metadata": {},
   "outputs": [
    {
     "name": "stdout",
     "output_type": "stream",
     "text": [
      "['정말/MAG', '행복/NNG', '하/XSA', '다/EFN']\n"
     ]
    }
   ],
   "source": [
    "from konlpy.tag import Kkma\n",
    "\n",
    "kkma = Kkma()\n",
    "\n",
    "result = kkma.pos(text, join = True)\n",
    "print(result)"
   ]
  },
  {
   "cell_type": "code",
   "execution_count": 125,
   "id": "5fd40e59",
   "metadata": {},
   "outputs": [
    {
     "data": {
      "text/html": [
       "<div>\n",
       "<style scoped>\n",
       "    .dataframe tbody tr th:only-of-type {\n",
       "        vertical-align: middle;\n",
       "    }\n",
       "\n",
       "    .dataframe tbody tr th {\n",
       "        vertical-align: top;\n",
       "    }\n",
       "\n",
       "    .dataframe thead th {\n",
       "        text-align: right;\n",
       "    }\n",
       "</style>\n",
       "<table border=\"1\" class=\"dataframe\">\n",
       "  <thead>\n",
       "    <tr style=\"text-align: right;\">\n",
       "      <th></th>\n",
       "      <th>ngram</th>\n",
       "      <th>freq</th>\n",
       "      <th>COMP</th>\n",
       "      <th>NEG</th>\n",
       "      <th>NEUT</th>\n",
       "      <th>None</th>\n",
       "      <th>POS</th>\n",
       "      <th>max.value</th>\n",
       "      <th>max.prop</th>\n",
       "    </tr>\n",
       "  </thead>\n",
       "  <tbody>\n",
       "    <tr>\n",
       "      <th>13638</th>\n",
       "      <td>정말/MAG</td>\n",
       "      <td>4</td>\n",
       "      <td>0.000000</td>\n",
       "      <td>0.000000</td>\n",
       "      <td>0.000000</td>\n",
       "      <td>0.250000</td>\n",
       "      <td>0.750000</td>\n",
       "      <td>POS</td>\n",
       "      <td>0.750000</td>\n",
       "    </tr>\n",
       "    <tr>\n",
       "      <th>15435</th>\n",
       "      <td>하/XSA</td>\n",
       "      <td>333</td>\n",
       "      <td>0.024024</td>\n",
       "      <td>0.306306</td>\n",
       "      <td>0.033033</td>\n",
       "      <td>0.024024</td>\n",
       "      <td>0.612613</td>\n",
       "      <td>POS</td>\n",
       "      <td>0.612613</td>\n",
       "    </tr>\n",
       "    <tr>\n",
       "      <th>15908</th>\n",
       "      <td>행복/NNG</td>\n",
       "      <td>9</td>\n",
       "      <td>0.000000</td>\n",
       "      <td>0.333333</td>\n",
       "      <td>0.000000</td>\n",
       "      <td>0.000000</td>\n",
       "      <td>0.666667</td>\n",
       "      <td>POS</td>\n",
       "      <td>0.666667</td>\n",
       "    </tr>\n",
       "  </tbody>\n",
       "</table>\n",
       "</div>"
      ],
      "text/plain": [
       "        ngram  freq      COMP       NEG      NEUT      None       POS  \\\n",
       "13638  정말/MAG     4  0.000000  0.000000  0.000000  0.250000  0.750000   \n",
       "15435   하/XSA   333  0.024024  0.306306  0.033033  0.024024  0.612613   \n",
       "15908  행복/NNG     9  0.000000  0.333333  0.000000  0.000000  0.666667   \n",
       "\n",
       "      max.value  max.prop  \n",
       "13638       POS  0.750000  \n",
       "15435       POS  0.612613  \n",
       "15908       POS  0.666667  "
      ]
     },
     "execution_count": 125,
     "metadata": {},
     "output_type": "execute_result"
    }
   ],
   "source": [
    "senti_words[senti_words['ngram'].isin(result)]"
   ]
  },
  {
   "cell_type": "code",
   "execution_count": 126,
   "id": "9eb239b7",
   "metadata": {},
   "outputs": [
    {
     "data": {
      "text/plain": [
       "['정말/MAG', '행복/NNG', '하/XSA', '다/EFN']"
      ]
     },
     "execution_count": 126,
     "metadata": {},
     "output_type": "execute_result"
    }
   ],
   "source": [
    "result"
   ]
  },
  {
   "cell_type": "code",
   "execution_count": 127,
   "id": "7b1fb238",
   "metadata": {},
   "outputs": [
    {
     "data": {
      "text/html": [
       "<div>\n",
       "<style scoped>\n",
       "    .dataframe tbody tr th:only-of-type {\n",
       "        vertical-align: middle;\n",
       "    }\n",
       "\n",
       "    .dataframe tbody tr th {\n",
       "        vertical-align: top;\n",
       "    }\n",
       "\n",
       "    .dataframe thead th {\n",
       "        text-align: right;\n",
       "    }\n",
       "</style>\n",
       "<table border=\"1\" class=\"dataframe\">\n",
       "  <thead>\n",
       "    <tr style=\"text-align: right;\">\n",
       "      <th></th>\n",
       "      <th>ngram</th>\n",
       "      <th>freq</th>\n",
       "      <th>COMP</th>\n",
       "      <th>NEG</th>\n",
       "      <th>NEUT</th>\n",
       "      <th>None</th>\n",
       "      <th>POS</th>\n",
       "      <th>max.value</th>\n",
       "      <th>max.prop</th>\n",
       "    </tr>\n",
       "  </thead>\n",
       "  <tbody>\n",
       "    <tr>\n",
       "      <th>16357</th>\n",
       "      <td>힘들/VA;ㄹ/ETM;것/NNB</td>\n",
       "      <td>1</td>\n",
       "      <td>0.0</td>\n",
       "      <td>1.0</td>\n",
       "      <td>0.0</td>\n",
       "      <td>0.0</td>\n",
       "      <td>0.0</td>\n",
       "      <td>NEG</td>\n",
       "      <td>1.0</td>\n",
       "    </tr>\n",
       "    <tr>\n",
       "      <th>16358</th>\n",
       "      <td>힘들/VA;ㄹ/ETM;때/NNG</td>\n",
       "      <td>1</td>\n",
       "      <td>0.0</td>\n",
       "      <td>1.0</td>\n",
       "      <td>0.0</td>\n",
       "      <td>0.0</td>\n",
       "      <td>0.0</td>\n",
       "      <td>NEG</td>\n",
       "      <td>1.0</td>\n",
       "    </tr>\n",
       "    <tr>\n",
       "      <th>16359</th>\n",
       "      <td>힘차/VA</td>\n",
       "      <td>1</td>\n",
       "      <td>0.0</td>\n",
       "      <td>1.0</td>\n",
       "      <td>0.0</td>\n",
       "      <td>0.0</td>\n",
       "      <td>0.0</td>\n",
       "      <td>NEG</td>\n",
       "      <td>1.0</td>\n",
       "    </tr>\n",
       "    <tr>\n",
       "      <th>16360</th>\n",
       "      <td>힘차/VA;ㄴ/ETM</td>\n",
       "      <td>1</td>\n",
       "      <td>0.0</td>\n",
       "      <td>1.0</td>\n",
       "      <td>0.0</td>\n",
       "      <td>0.0</td>\n",
       "      <td>0.0</td>\n",
       "      <td>NEG</td>\n",
       "      <td>1.0</td>\n",
       "    </tr>\n",
       "    <tr>\n",
       "      <th>16361</th>\n",
       "      <td>힘차/VA;ㄴ/ETM;붓/NNG</td>\n",
       "      <td>1</td>\n",
       "      <td>0.0</td>\n",
       "      <td>1.0</td>\n",
       "      <td>0.0</td>\n",
       "      <td>0.0</td>\n",
       "      <td>0.0</td>\n",
       "      <td>NEG</td>\n",
       "      <td>1.0</td>\n",
       "    </tr>\n",
       "  </tbody>\n",
       "</table>\n",
       "</div>"
      ],
      "text/plain": [
       "                   ngram  freq  COMP  NEG  NEUT  None  POS max.value  max.prop\n",
       "16357  힘들/VA;ㄹ/ETM;것/NNB     1   0.0  1.0   0.0   0.0  0.0       NEG       1.0\n",
       "16358  힘들/VA;ㄹ/ETM;때/NNG     1   0.0  1.0   0.0   0.0  0.0       NEG       1.0\n",
       "16359              힘차/VA     1   0.0  1.0   0.0   0.0  0.0       NEG       1.0\n",
       "16360        힘차/VA;ㄴ/ETM     1   0.0  1.0   0.0   0.0  0.0       NEG       1.0\n",
       "16361  힘차/VA;ㄴ/ETM;붓/NNG     1   0.0  1.0   0.0   0.0  0.0       NEG       1.0"
      ]
     },
     "execution_count": 127,
     "metadata": {},
     "output_type": "execute_result"
    }
   ],
   "source": [
    "senti_words.tail(5)"
   ]
  },
  {
   "cell_type": "code",
   "execution_count": 128,
   "id": "ec9a2989",
   "metadata": {},
   "outputs": [
    {
     "name": "stdout",
     "output_type": "stream",
     "text": [
      "['정말/MAG;행복/NNG', '행복/NNG;하/XSA', '하/XSA;다/EFN']\n",
      "['정말/MAG;행복/NNG;하/XSA', '행복/NNG;하/XSA;다/EFN']\n"
     ]
    }
   ],
   "source": [
    "from nltk.util import ngrams\n",
    "\n",
    "ngram2 = list(ngrams(result, n=2))\n",
    "new_ngram2 = []\n",
    "for n in ngram2:\n",
    "    new_ngram2.append(';'.join(n))\n",
    "print(new_ngram2)\n",
    "\n",
    "\n",
    "\n",
    "\n",
    "ngram3 = list(ngrams(result, n=3))\n",
    "new_ngram3 = []\n",
    "for n in ngram3:\n",
    "    new_ngram3.append(';'.join(n))\n",
    "print(new_ngram3)"
   ]
  },
  {
   "cell_type": "code",
   "execution_count": 129,
   "id": "ff80e3f6",
   "metadata": {},
   "outputs": [
    {
     "name": "stdout",
     "output_type": "stream",
     "text": [
      "['정말/MAG', '행복/NNG', '하/XSA', '다/EFN']\n"
     ]
    }
   ],
   "source": [
    "print(result)"
   ]
  },
  {
   "cell_type": "code",
   "execution_count": 130,
   "id": "af99e926",
   "metadata": {},
   "outputs": [
    {
     "data": {
      "text/plain": [
       "['정말/MAG',\n",
       " '행복/NNG',\n",
       " '하/XSA',\n",
       " '다/EFN',\n",
       " '정말/MAG;행복/NNG',\n",
       " '행복/NNG;하/XSA',\n",
       " '하/XSA;다/EFN',\n",
       " '정말/MAG;행복/NNG;하/XSA',\n",
       " '행복/NNG;하/XSA;다/EFN']"
      ]
     },
     "execution_count": 130,
     "metadata": {},
     "output_type": "execute_result"
    }
   ],
   "source": [
    "words = result + new_ngram2 + new_ngram3\n",
    "words"
   ]
  },
  {
   "cell_type": "code",
   "execution_count": 131,
   "id": "6033dbd7",
   "metadata": {},
   "outputs": [],
   "source": [
    "result_df = senti_words[senti_words['ngram'].isin(words)]"
   ]
  },
  {
   "cell_type": "code",
   "execution_count": 132,
   "id": "8a281bb5",
   "metadata": {},
   "outputs": [
    {
     "data": {
      "text/html": [
       "<div>\n",
       "<style scoped>\n",
       "    .dataframe tbody tr th:only-of-type {\n",
       "        vertical-align: middle;\n",
       "    }\n",
       "\n",
       "    .dataframe tbody tr th {\n",
       "        vertical-align: top;\n",
       "    }\n",
       "\n",
       "    .dataframe thead th {\n",
       "        text-align: right;\n",
       "    }\n",
       "</style>\n",
       "<table border=\"1\" class=\"dataframe\">\n",
       "  <thead>\n",
       "    <tr style=\"text-align: right;\">\n",
       "      <th></th>\n",
       "      <th>ngram</th>\n",
       "      <th>freq</th>\n",
       "      <th>COMP</th>\n",
       "      <th>NEG</th>\n",
       "      <th>NEUT</th>\n",
       "      <th>None</th>\n",
       "      <th>POS</th>\n",
       "      <th>max.value</th>\n",
       "      <th>max.prop</th>\n",
       "    </tr>\n",
       "  </thead>\n",
       "  <tbody>\n",
       "    <tr>\n",
       "      <th>13638</th>\n",
       "      <td>정말/MAG</td>\n",
       "      <td>4</td>\n",
       "      <td>0.000000</td>\n",
       "      <td>0.000000</td>\n",
       "      <td>0.000000</td>\n",
       "      <td>0.250000</td>\n",
       "      <td>0.750000</td>\n",
       "      <td>POS</td>\n",
       "      <td>0.750000</td>\n",
       "    </tr>\n",
       "    <tr>\n",
       "      <th>15435</th>\n",
       "      <td>하/XSA</td>\n",
       "      <td>333</td>\n",
       "      <td>0.024024</td>\n",
       "      <td>0.306306</td>\n",
       "      <td>0.033033</td>\n",
       "      <td>0.024024</td>\n",
       "      <td>0.612613</td>\n",
       "      <td>POS</td>\n",
       "      <td>0.612613</td>\n",
       "    </tr>\n",
       "    <tr>\n",
       "      <th>15908</th>\n",
       "      <td>행복/NNG</td>\n",
       "      <td>9</td>\n",
       "      <td>0.000000</td>\n",
       "      <td>0.333333</td>\n",
       "      <td>0.000000</td>\n",
       "      <td>0.000000</td>\n",
       "      <td>0.666667</td>\n",
       "      <td>POS</td>\n",
       "      <td>0.666667</td>\n",
       "    </tr>\n",
       "    <tr>\n",
       "      <th>15913</th>\n",
       "      <td>행복/NNG;하/XSA</td>\n",
       "      <td>5</td>\n",
       "      <td>0.000000</td>\n",
       "      <td>0.400000</td>\n",
       "      <td>0.000000</td>\n",
       "      <td>0.000000</td>\n",
       "      <td>0.600000</td>\n",
       "      <td>POS</td>\n",
       "      <td>0.600000</td>\n",
       "    </tr>\n",
       "  </tbody>\n",
       "</table>\n",
       "</div>"
      ],
      "text/plain": [
       "              ngram  freq      COMP       NEG      NEUT      None       POS  \\\n",
       "13638        정말/MAG     4  0.000000  0.000000  0.000000  0.250000  0.750000   \n",
       "15435         하/XSA   333  0.024024  0.306306  0.033033  0.024024  0.612613   \n",
       "15908        행복/NNG     9  0.000000  0.333333  0.000000  0.000000  0.666667   \n",
       "15913  행복/NNG;하/XSA     5  0.000000  0.400000  0.000000  0.000000  0.600000   \n",
       "\n",
       "      max.value  max.prop  \n",
       "13638       POS  0.750000  \n",
       "15435       POS  0.612613  \n",
       "15908       POS  0.666667  \n",
       "15913       POS  0.600000  "
      ]
     },
     "execution_count": 132,
     "metadata": {},
     "output_type": "execute_result"
    }
   ],
   "source": [
    "result_df"
   ]
  },
  {
   "cell_type": "code",
   "execution_count": 133,
   "id": "b63b7e78",
   "metadata": {},
   "outputs": [],
   "source": [
    "neg_df = result_df[result_df['max.value'] == 'NEG']\n",
    "pos_df = result_df[result_df['max.value'] == 'POS']\n",
    "neg_value = (neg_df['NEG'] / neg_df['freq']).sum()\n",
    "pos_value = (pos_df['NEG'] / pos_df['freq']).sum()\n",
    "neg_length = neg_df.shape[0]\n",
    "pos_length = pos_df.shape[0]"
   ]
  },
  {
   "cell_type": "code",
   "execution_count": 135,
   "id": "70b24070",
   "metadata": {},
   "outputs": [],
   "source": [
    "if pos_length == 0:\n",
    "    final_value = (pos_value ) - (neg_value / neg_length)\n",
    "elif neg_length == 0:\n",
    "    final_value = (pos_value / pos_length) - (neg_value)\n",
    "else:\n",
    "    final_value = (pos_value / pos_length) - (neg_value / neg_length)"
   ]
  },
  {
   "cell_type": "code",
   "execution_count": 136,
   "id": "5a25aa3c",
   "metadata": {},
   "outputs": [
    {
     "name": "stdout",
     "output_type": "stream",
     "text": [
      "긍정문장입니다.\n"
     ]
    }
   ],
   "source": [
    "if final_value >= 0:\n",
    "    print('긍정문장입니다.')\n",
    "else:\n",
    "    print('부정문장입니다.')"
   ]
  },
  {
   "cell_type": "code",
   "execution_count": 137,
   "id": "54ef9e8e",
   "metadata": {},
   "outputs": [
    {
     "data": {
      "text/plain": [
       "0.65731982"
      ]
     },
     "execution_count": 137,
     "metadata": {},
     "output_type": "execute_result"
    }
   ],
   "source": [
    "final_value"
   ]
  },
  {
   "cell_type": "code",
   "execution_count": 138,
   "id": "3dfc4cb0",
   "metadata": {},
   "outputs": [],
   "source": [
    "text = '머신러닝 텍스트 분석 너무 어려워요 살려주세요'"
   ]
  },
  {
   "cell_type": "code",
   "execution_count": 140,
   "id": "a5b092b4",
   "metadata": {},
   "outputs": [],
   "source": [
    "def setiment_analyzer(text):\n",
    "    import pandas as pd\n",
    "    from konlpy.tag import Kkma\n",
    "    from nltk.util import ngrams\n",
    "    \n",
    "    senti_words = pd.read_csv('data/ml/polarity.csv')\n",
    "    kkma = Kkma()\n",
    "\n",
    "    ngram1 = kkma.pos(text, join = True)\n",
    "    ngram2 = list(ngrams(result, n=2))\n",
    "    new_ngram2 = []\n",
    "    for n in ngram2:\n",
    "        new_ngram2.append(';'.join(n))\n",
    "    ngram3 = list(ngrams(result, n=3))\n",
    "    new_ngram3 = []\n",
    "    for n in ngram3:\n",
    "        new_ngram3.append(';'.join(n))\n",
    "\n",
    "    words = ngram1 + new_ngram2 + new_ngram3\n",
    "\n",
    "    result_df = senti_words[senti_words['ngram'].isin(words)]\n",
    "\n",
    "    neg_df = result_df[result_df['max.value'] == 'NEG']\n",
    "    pos_df = result_df[result_df['max.value'] == 'POS']\n",
    "    neg_value = (neg_df['NEG'] / neg_df['freq']).sum()\n",
    "    pos_value = (pos_df['NEG'] / pos_df['freq']).sum()\n",
    "    neg_length = neg_df.shape[0]\n",
    "    pos_length = pos_df.shape[0]\n",
    "\n",
    "    if pos_length == 0:\n",
    "        final_value = (pos_value ) - (neg_value / neg_length)\n",
    "    elif neg_length == 0:\n",
    "        final_value = (pos_value / pos_length) - (neg_value)\n",
    "    else:\n",
    "        final_value = (pos_value / pos_length) - (neg_value / neg_length)\n",
    "\n",
    "\n",
    "    if final_value >= 0:\n",
    "        print('긍정문장입니다.')\n",
    "    else:\n",
    "        print('부정문장입니다.')\n",
    "    return final_value"
   ]
  },
  {
   "cell_type": "code",
   "execution_count": 155,
   "id": "3ccc8551",
   "metadata": {},
   "outputs": [
    {
     "name": "stdout",
     "output_type": "stream",
     "text": [
      "'너무너무 슬퍼요 대체 남자 주인공 왜 이렇게 갑자기 세상을 떠났는지 모르겠네요 진짜 광광 울었어요 이렇게 마음 아픈 이야기가 있다니 .... 저도 일기 쓰는 습관을 들여야겠어요 ㅠ ㅠ'\n",
      "부정문장입니다.\n"
     ]
    },
    {
     "data": {
      "text/plain": [
       "-0.39071962825866824"
      ]
     },
     "execution_count": 155,
     "metadata": {},
     "output_type": "execute_result"
    }
   ],
   "source": [
    "text = df['content'].sample(1).iloc[0]\n",
    "print(text)\n",
    "setiment_analyzer(text)"
   ]
  },
  {
   "cell_type": "code",
   "execution_count": null,
   "id": "18f1a1e5",
   "metadata": {},
   "outputs": [],
   "source": [
    "# 텍스트 분류, 회귀\n",
    "# 감성분석 - 지도, 비지도\n",
    "\n",
    "# 노래가사 데이터\n",
    "# 군집화 + 토픽모델링\n",
    "# 유사도 "
   ]
  },
  {
   "cell_type": "code",
   "execution_count": 247,
   "id": "ba380ea8",
   "metadata": {},
   "outputs": [],
   "source": [
    "df = pd.read_csv('data/ml/rawdata_년도별 인기노래 가사.tsv', sep='\\t')"
   ]
  },
  {
   "cell_type": "code",
   "execution_count": 248,
   "id": "66df7d26",
   "metadata": {},
   "outputs": [
    {
     "name": "stdout",
     "output_type": "stream",
     "text": [
      "<class 'pandas.core.frame.DataFrame'>\n",
      "RangeIndex: 2276 entries, 0 to 2275\n",
      "Data columns (total 5 columns):\n",
      " #   Column  Non-Null Count  Dtype \n",
      "---  ------  --------------  ----- \n",
      " 0   ID      2276 non-null   int64 \n",
      " 1   Year    2276 non-null   int64 \n",
      " 2   Title   2276 non-null   object\n",
      " 3   Singer  2276 non-null   object\n",
      " 4   Lyric   2276 non-null   object\n",
      "dtypes: int64(2), object(3)\n",
      "memory usage: 89.0+ KB\n"
     ]
    }
   ],
   "source": [
    "df.info()"
   ]
  },
  {
   "cell_type": "code",
   "execution_count": 159,
   "id": "f9a3434d",
   "metadata": {},
   "outputs": [
    {
     "data": {
      "text/plain": [
       "array([1964, 1965, 1966, 1967, 1968, 1969, 1970, 1971, 1972, 1973, 1974,\n",
       "       1975, 1976, 1977, 1978, 1979, 1980, 1981, 1982, 1983, 1984, 1985,\n",
       "       1986, 1987, 1988, 1989, 1990, 1991, 1992, 1993, 1994, 1995, 1996,\n",
       "       1997, 1998, 1999, 2000, 2001, 2002, 2003, 2004, 2005, 2006, 2007,\n",
       "       2008, 2009, 2010, 2011, 2012, 2013, 2014, 2015, 2016, 2017, 2018,\n",
       "       2019, 2020], dtype=int64)"
      ]
     },
     "execution_count": 159,
     "metadata": {},
     "output_type": "execute_result"
    }
   ],
   "source": [
    "df['Year'].unique()"
   ]
  },
  {
   "cell_type": "code",
   "execution_count": 161,
   "id": "7b2f728f",
   "metadata": {},
   "outputs": [
    {
     "data": {
      "text/plain": [
       "0       헤일 수 없이 수많은 밤을 내 가슴 도려내는 아픔에 겨워 얼마나 울었던가 동백아가씨...\n",
       "1       항구의 일~~번지 부기우기 일~번지 그라스를 채워~다오 부기우기 아~~가씨 고동이 ...\n",
       "2       하룻밤 뱃길이면 가고 오건만 못 가는 이국땅에 서러움이 많 아현해탄 파도 위에 비친...\n",
       "3       푸르른 달빛이 파도에 부서지면 파이프에 꿈을 실은 첫사랑 마도로스 배귀에 기대서면 ...\n",
       "4       조기를 담뿍잡아 기폭을 올리고 온다던 그배는 어이하여 아니오나 수평선 바라보며 그이...\n",
       "                              ...                        \n",
       "2271    바람 같은 그대가 나를 스쳐가네요 잠시 쉬어 날 바라봐요 이 모든 날들이 영원할 순...\n",
       "2272    Do your thang Do your thang with me now Do you...\n",
       "2273    어 그래 얘들아 사는게 개같지? 내 얼굴도 개같지 뭐얌 근데도 부자가 됐다 세상은 ...\n",
       "2274    All I wanna be is 멋짐 내 마음대로 골라 kick it 머리 어깨 무...\n",
       "2275    All the colors and personalities 모든 색깔과 성격들 yo...\n",
       "Name: Lyric, Length: 2276, dtype: object"
      ]
     },
     "execution_count": 161,
     "metadata": {},
     "output_type": "execute_result"
    }
   ],
   "source": [
    "df['Lyric']"
   ]
  },
  {
   "cell_type": "code",
   "execution_count": 165,
   "id": "82c0e85b",
   "metadata": {},
   "outputs": [],
   "source": [
    "import re\n",
    "\n",
    "def cleaning(text):\n",
    "    p = re.compile('[^ a-zA-Zㄱ-ㅣ가-힣]+')\n",
    "    return p.sub('',text).lower()"
   ]
  },
  {
   "cell_type": "code",
   "execution_count": 167,
   "id": "411c8a6b",
   "metadata": {},
   "outputs": [],
   "source": [
    "X = df['Lyric'].apply(cleaning)"
   ]
  },
  {
   "cell_type": "code",
   "execution_count": 170,
   "id": "eafc1629",
   "metadata": {
    "scrolled": false
   },
   "outputs": [],
   "source": [
    "from nltk.corpus import stopwords\n",
    "\n",
    "eng_stop = stopwords.words('english')\n",
    "\n",
    "with open('data/ml/stopword.txt', 'r', encoding='utf-8') as f:\n",
    "    data = f.read()\n",
    "    kor_stop = data.split('\\n')"
   ]
  },
  {
   "cell_type": "code",
   "execution_count": 173,
   "id": "95d00ea9",
   "metadata": {},
   "outputs": [],
   "source": [
    "stopwords = eng_stop + kor_stop"
   ]
  },
  {
   "cell_type": "code",
   "execution_count": 174,
   "id": "8c630621",
   "metadata": {
    "collapsed": true
   },
   "outputs": [
    {
     "data": {
      "text/plain": [
       "['i',\n",
       " 'me',\n",
       " 'my',\n",
       " 'myself',\n",
       " 'we',\n",
       " 'our',\n",
       " 'ours',\n",
       " 'ourselves',\n",
       " 'you',\n",
       " \"you're\",\n",
       " \"you've\",\n",
       " \"you'll\",\n",
       " \"you'd\",\n",
       " 'your',\n",
       " 'yours',\n",
       " 'yourself',\n",
       " 'yourselves',\n",
       " 'he',\n",
       " 'him',\n",
       " 'his',\n",
       " 'himself',\n",
       " 'she',\n",
       " \"she's\",\n",
       " 'her',\n",
       " 'hers',\n",
       " 'herself',\n",
       " 'it',\n",
       " \"it's\",\n",
       " 'its',\n",
       " 'itself',\n",
       " 'they',\n",
       " 'them',\n",
       " 'their',\n",
       " 'theirs',\n",
       " 'themselves',\n",
       " 'what',\n",
       " 'which',\n",
       " 'who',\n",
       " 'whom',\n",
       " 'this',\n",
       " 'that',\n",
       " \"that'll\",\n",
       " 'these',\n",
       " 'those',\n",
       " 'am',\n",
       " 'is',\n",
       " 'are',\n",
       " 'was',\n",
       " 'were',\n",
       " 'be',\n",
       " 'been',\n",
       " 'being',\n",
       " 'have',\n",
       " 'has',\n",
       " 'had',\n",
       " 'having',\n",
       " 'do',\n",
       " 'does',\n",
       " 'did',\n",
       " 'doing',\n",
       " 'a',\n",
       " 'an',\n",
       " 'the',\n",
       " 'and',\n",
       " 'but',\n",
       " 'if',\n",
       " 'or',\n",
       " 'because',\n",
       " 'as',\n",
       " 'until',\n",
       " 'while',\n",
       " 'of',\n",
       " 'at',\n",
       " 'by',\n",
       " 'for',\n",
       " 'with',\n",
       " 'about',\n",
       " 'against',\n",
       " 'between',\n",
       " 'into',\n",
       " 'through',\n",
       " 'during',\n",
       " 'before',\n",
       " 'after',\n",
       " 'above',\n",
       " 'below',\n",
       " 'to',\n",
       " 'from',\n",
       " 'up',\n",
       " 'down',\n",
       " 'in',\n",
       " 'out',\n",
       " 'on',\n",
       " 'off',\n",
       " 'over',\n",
       " 'under',\n",
       " 'again',\n",
       " 'further',\n",
       " 'then',\n",
       " 'once',\n",
       " 'here',\n",
       " 'there',\n",
       " 'when',\n",
       " 'where',\n",
       " 'why',\n",
       " 'how',\n",
       " 'all',\n",
       " 'any',\n",
       " 'both',\n",
       " 'each',\n",
       " 'few',\n",
       " 'more',\n",
       " 'most',\n",
       " 'other',\n",
       " 'some',\n",
       " 'such',\n",
       " 'no',\n",
       " 'nor',\n",
       " 'not',\n",
       " 'only',\n",
       " 'own',\n",
       " 'same',\n",
       " 'so',\n",
       " 'than',\n",
       " 'too',\n",
       " 'very',\n",
       " 's',\n",
       " 't',\n",
       " 'can',\n",
       " 'will',\n",
       " 'just',\n",
       " 'don',\n",
       " \"don't\",\n",
       " 'should',\n",
       " \"should've\",\n",
       " 'now',\n",
       " 'd',\n",
       " 'll',\n",
       " 'm',\n",
       " 'o',\n",
       " 're',\n",
       " 've',\n",
       " 'y',\n",
       " 'ain',\n",
       " 'aren',\n",
       " \"aren't\",\n",
       " 'couldn',\n",
       " \"couldn't\",\n",
       " 'didn',\n",
       " \"didn't\",\n",
       " 'doesn',\n",
       " \"doesn't\",\n",
       " 'hadn',\n",
       " \"hadn't\",\n",
       " 'hasn',\n",
       " \"hasn't\",\n",
       " 'haven',\n",
       " \"haven't\",\n",
       " 'isn',\n",
       " \"isn't\",\n",
       " 'ma',\n",
       " 'mightn',\n",
       " \"mightn't\",\n",
       " 'mustn',\n",
       " \"mustn't\",\n",
       " 'needn',\n",
       " \"needn't\",\n",
       " 'shan',\n",
       " \"shan't\",\n",
       " 'shouldn',\n",
       " \"shouldn't\",\n",
       " 'wasn',\n",
       " \"wasn't\",\n",
       " 'weren',\n",
       " \"weren't\",\n",
       " 'won',\n",
       " \"won't\",\n",
       " 'wouldn',\n",
       " \"wouldn't\",\n",
       " '않다',\n",
       " '되어다',\n",
       " '되다',\n",
       " '하다',\n",
       " '어떻다',\n",
       " '이렇다',\n",
       " '이다',\n",
       " '어제',\n",
       " '매일',\n",
       " '아',\n",
       " '휴',\n",
       " '아이구',\n",
       " '아이쿠',\n",
       " '아이고',\n",
       " '어',\n",
       " '나',\n",
       " '우리',\n",
       " '저희',\n",
       " '따라',\n",
       " '의해',\n",
       " '을',\n",
       " '를',\n",
       " '에',\n",
       " '의',\n",
       " '가',\n",
       " '으로',\n",
       " '로',\n",
       " '에게',\n",
       " '뿐이다',\n",
       " '의거하여',\n",
       " '근거하여',\n",
       " '입각하여',\n",
       " '기준으로',\n",
       " '예하면',\n",
       " '예를 들면',\n",
       " '예를 들자면',\n",
       " '저',\n",
       " '소인',\n",
       " '소생',\n",
       " '저희',\n",
       " '지말고',\n",
       " '하지마',\n",
       " '하지마라',\n",
       " '다른',\n",
       " '물론',\n",
       " '또한',\n",
       " '그리고',\n",
       " '비길수 없다',\n",
       " '해서는 안된다',\n",
       " '뿐만 아니라',\n",
       " '만이 아니다',\n",
       " '만은 아니다',\n",
       " '막론하고',\n",
       " '관계없이',\n",
       " '그치지 않다',\n",
       " '그러나',\n",
       " '그런데',\n",
       " '하지만',\n",
       " '든간에',\n",
       " '논하지 않다',\n",
       " '따지지 않다',\n",
       " '설사',\n",
       " '비록',\n",
       " '더라도',\n",
       " '아니면',\n",
       " '만 못하다',\n",
       " '하는 편이 낫다',\n",
       " '불문하고',\n",
       " '향하여',\n",
       " '향해서',\n",
       " '향하다',\n",
       " '쪽으로',\n",
       " '틈타',\n",
       " '이용하여',\n",
       " '타다',\n",
       " '오르다',\n",
       " '제외하고',\n",
       " '이 외에',\n",
       " '이 밖에',\n",
       " '하여야',\n",
       " '비로소',\n",
       " '한다면 몰라도',\n",
       " '외에도',\n",
       " '이곳',\n",
       " '여기',\n",
       " '부터',\n",
       " '기점으로',\n",
       " '따라서',\n",
       " '할 생각이다',\n",
       " '하려고하다',\n",
       " '이리하여',\n",
       " '그리하여',\n",
       " '그렇게 함으로써',\n",
       " '하지만',\n",
       " '일때',\n",
       " '할때',\n",
       " '앞에서',\n",
       " '중에서',\n",
       " '보는데서',\n",
       " '으로써',\n",
       " '로써',\n",
       " '까지',\n",
       " '해야한다',\n",
       " '일것이다',\n",
       " '반드시',\n",
       " '할줄알다',\n",
       " '할수있다',\n",
       " '할수있어',\n",
       " '임에 틀림없다',\n",
       " '한다면',\n",
       " '등',\n",
       " '등등',\n",
       " '제',\n",
       " '겨우',\n",
       " '단지',\n",
       " '다만',\n",
       " '할뿐',\n",
       " '딩동',\n",
       " '댕그',\n",
       " '대해서',\n",
       " '대하여',\n",
       " '대하면',\n",
       " '훨씬',\n",
       " '얼마나',\n",
       " '얼마만큼',\n",
       " '얼마큼',\n",
       " '남짓',\n",
       " '여',\n",
       " '얼마간',\n",
       " '약간',\n",
       " '다소',\n",
       " '좀',\n",
       " '조금',\n",
       " '다수',\n",
       " '몇',\n",
       " '얼마',\n",
       " '지만',\n",
       " '하물며',\n",
       " '또한',\n",
       " '그러나',\n",
       " '그렇지만',\n",
       " '하지만',\n",
       " '이외에도',\n",
       " '대해 말하자면',\n",
       " '뿐이다',\n",
       " '다음에',\n",
       " '반대로',\n",
       " '반대로 말하자면',\n",
       " '이와 반대로',\n",
       " '바꾸어서 말하면',\n",
       " '바꾸어서 한다면',\n",
       " '만약',\n",
       " '그렇지않으면',\n",
       " '까악',\n",
       " '툭',\n",
       " '딱',\n",
       " '삐걱거리다',\n",
       " '보드득',\n",
       " '비걱거리다',\n",
       " '꽈당',\n",
       " '응당',\n",
       " '해야한다',\n",
       " '에 가서',\n",
       " '각',\n",
       " '각각',\n",
       " '여러분',\n",
       " '각종',\n",
       " '각자',\n",
       " '제각기',\n",
       " '하도록하다',\n",
       " '와',\n",
       " '과',\n",
       " '그러므로',\n",
       " '그래서',\n",
       " '고로',\n",
       " '한 까닭에',\n",
       " '하기 때문에',\n",
       " '거니와',\n",
       " '이지만',\n",
       " '대하여',\n",
       " '관하여',\n",
       " '관한',\n",
       " '과연',\n",
       " '실로',\n",
       " '아니나다를가',\n",
       " '생각한대로',\n",
       " '진짜로',\n",
       " '한적이있다',\n",
       " '하곤하였다',\n",
       " '하',\n",
       " '하하',\n",
       " '허허',\n",
       " '아하',\n",
       " '거바',\n",
       " '와',\n",
       " '오',\n",
       " '왜',\n",
       " '어째서',\n",
       " '무엇때문에',\n",
       " '어찌',\n",
       " '하겠는가',\n",
       " '무슨',\n",
       " '어디',\n",
       " '어느곳',\n",
       " '더군다나',\n",
       " '하물며',\n",
       " '더욱이는',\n",
       " '어느때',\n",
       " '언제',\n",
       " '야',\n",
       " '이봐',\n",
       " '어이',\n",
       " '여보시오',\n",
       " '흐흐',\n",
       " '흥',\n",
       " '휴',\n",
       " '헉헉',\n",
       " '헐떡헐떡',\n",
       " '영차',\n",
       " '여차',\n",
       " '어기여차',\n",
       " '끙끙',\n",
       " '아야',\n",
       " '앗',\n",
       " '아야',\n",
       " '콸콸',\n",
       " '졸졸',\n",
       " '좍좍',\n",
       " '뚝뚝',\n",
       " '주룩주룩',\n",
       " '솨',\n",
       " '우르르',\n",
       " '그래도',\n",
       " '또',\n",
       " '그리고',\n",
       " '바꾸어말하면',\n",
       " '바꾸어말하자면',\n",
       " '혹은',\n",
       " '혹시',\n",
       " '답다',\n",
       " '및',\n",
       " '그에 따르는',\n",
       " '때가 되어',\n",
       " '즉',\n",
       " '지든지',\n",
       " '설령',\n",
       " '가령',\n",
       " '하더라도',\n",
       " '할지라도',\n",
       " '일지라도',\n",
       " '지든지',\n",
       " '몇',\n",
       " '거의',\n",
       " '하마터면',\n",
       " '인젠',\n",
       " '이젠',\n",
       " '된바에야',\n",
       " '된이상',\n",
       " '만큼\\t어찌됏든',\n",
       " '그위에',\n",
       " '게다가',\n",
       " '점에서 보아',\n",
       " '비추어 보아',\n",
       " '고려하면',\n",
       " '하게될것이다',\n",
       " '일것이다',\n",
       " '비교적',\n",
       " '좀',\n",
       " '보다더',\n",
       " '비하면',\n",
       " '시키다',\n",
       " '하게하다',\n",
       " '할만하다',\n",
       " '의해서',\n",
       " '연이서',\n",
       " '이어서',\n",
       " '잇따라',\n",
       " '뒤따라',\n",
       " '뒤이어',\n",
       " '결국',\n",
       " '의지하여',\n",
       " '기대여',\n",
       " '통하여',\n",
       " '자마자',\n",
       " '더욱더',\n",
       " '불구하고',\n",
       " '얼마든지',\n",
       " '마음대로',\n",
       " '주저하지 않고',\n",
       " '곧',\n",
       " '즉시',\n",
       " '바로',\n",
       " '당장',\n",
       " '하자마자',\n",
       " '밖에 안된다',\n",
       " '하면된다',\n",
       " '그래',\n",
       " '그렇지',\n",
       " '요컨대',\n",
       " '다시 말하자면',\n",
       " '바꿔 말하면',\n",
       " '즉',\n",
       " '구체적으로',\n",
       " '말하자면',\n",
       " '시작하여',\n",
       " '시초에',\n",
       " '이상',\n",
       " '허',\n",
       " '헉',\n",
       " '허걱',\n",
       " '바와같이',\n",
       " '해도좋다',\n",
       " '해도된다',\n",
       " '게다가',\n",
       " '더구나',\n",
       " '하물며',\n",
       " '와르르',\n",
       " '팍',\n",
       " '퍽',\n",
       " '펄렁',\n",
       " '동안',\n",
       " '이래',\n",
       " '하고있었다',\n",
       " '이었다',\n",
       " '에서',\n",
       " '로부터',\n",
       " '까지',\n",
       " '예하면',\n",
       " '했어요',\n",
       " '해요',\n",
       " '함께',\n",
       " '같이',\n",
       " '더불어',\n",
       " '마저',\n",
       " '마저도',\n",
       " '양자',\n",
       " '모두',\n",
       " '습니다',\n",
       " '가까스로',\n",
       " '하려고하다',\n",
       " '즈음하여',\n",
       " '다른',\n",
       " '다른 방면으로',\n",
       " '해봐요',\n",
       " '습니까',\n",
       " '했어요',\n",
       " '말할것도 없고',\n",
       " '무릎쓰고',\n",
       " '개의치않고',\n",
       " '하는것만 못하다',\n",
       " '하는것이 낫다',\n",
       " '매',\n",
       " '매번',\n",
       " '들',\n",
       " '모',\n",
       " '어느것',\n",
       " '어느',\n",
       " '로써',\n",
       " '갖고말하자면',\n",
       " '어디',\n",
       " '어느쪽',\n",
       " '어느것',\n",
       " '어느해',\n",
       " '어느 년도',\n",
       " '라 해도',\n",
       " '언젠가',\n",
       " '어떤것',\n",
       " '어느것',\n",
       " '저기',\n",
       " '저쪽',\n",
       " '저것',\n",
       " '그때',\n",
       " '그럼',\n",
       " '그러면',\n",
       " '요만한걸',\n",
       " '그래',\n",
       " '그때',\n",
       " '저것만큼',\n",
       " '그저',\n",
       " '이르기까지',\n",
       " '할 줄 안다',\n",
       " '할 힘이 있다',\n",
       " '너',\n",
       " '너희',\n",
       " '당신',\n",
       " '어찌',\n",
       " '설마',\n",
       " '차라리',\n",
       " '할지언정',\n",
       " '할지라도',\n",
       " '할망정',\n",
       " '할지언정',\n",
       " '구토하다',\n",
       " '게우다',\n",
       " '토하다',\n",
       " '메쓰겁다',\n",
       " '옆사람',\n",
       " '퉤',\n",
       " '쳇',\n",
       " '의거하여',\n",
       " '근거하여',\n",
       " '의해',\n",
       " '따라',\n",
       " '힘입어',\n",
       " '그',\n",
       " '다음',\n",
       " '버금',\n",
       " '두번째로',\n",
       " '기타',\n",
       " '첫번째로',\n",
       " '나머지는',\n",
       " '그중에서',\n",
       " '견지에서',\n",
       " '형식으로 쓰여',\n",
       " '입장에서',\n",
       " '위해서',\n",
       " '단지',\n",
       " '의해되다',\n",
       " '하도록시키다',\n",
       " '뿐만아니라',\n",
       " '반대로',\n",
       " '전후',\n",
       " '전자',\n",
       " '앞의것',\n",
       " '잠시',\n",
       " '잠깐',\n",
       " '하면서',\n",
       " '그렇지만',\n",
       " '다음에',\n",
       " '그러한즉',\n",
       " '그런즉',\n",
       " '남들',\n",
       " '아무거나',\n",
       " '어찌하든지',\n",
       " '같다',\n",
       " '비슷하다',\n",
       " '예컨대',\n",
       " '이럴정도로',\n",
       " '어떻게',\n",
       " '만약',\n",
       " '만일',\n",
       " '위에서 서술한바와같이',\n",
       " '인 듯하다',\n",
       " '하지 않는다면',\n",
       " '만약에',\n",
       " '무엇',\n",
       " '무슨',\n",
       " '어느',\n",
       " '어떤',\n",
       " '아래윗',\n",
       " '조차',\n",
       " '한데',\n",
       " '그럼에도 불구하고',\n",
       " '여전히',\n",
       " '심지어',\n",
       " '까지도',\n",
       " '조차도',\n",
       " '하지 않도록',\n",
       " '않기 위하여',\n",
       " '때',\n",
       " '시각',\n",
       " '무렵',\n",
       " '시간',\n",
       " '동안',\n",
       " '어때',\n",
       " '어떠한',\n",
       " '하여금',\n",
       " '네',\n",
       " '예',\n",
       " '우선',\n",
       " '누구',\n",
       " '누가 알겠는가',\n",
       " '아무도',\n",
       " '줄은모른다',\n",
       " '줄은 몰랏다',\n",
       " '하는 김에',\n",
       " '겸사겸사',\n",
       " '하는바',\n",
       " '그런 까닭에',\n",
       " '한 이유는',\n",
       " '그러니',\n",
       " '그러니까',\n",
       " '때문에',\n",
       " '그',\n",
       " '너희',\n",
       " '그들',\n",
       " '너희들',\n",
       " '타인',\n",
       " '것',\n",
       " '것들',\n",
       " '너',\n",
       " '위하여',\n",
       " '공동으로',\n",
       " '동시에',\n",
       " '하기 위하여',\n",
       " '어찌하여',\n",
       " '무엇때문에',\n",
       " '붕붕',\n",
       " '윙윙',\n",
       " '나',\n",
       " '우리',\n",
       " '엉엉',\n",
       " '휘익',\n",
       " '윙윙',\n",
       " '오호',\n",
       " '아하',\n",
       " '어쨋든',\n",
       " '만 못하다\\t하기보다는',\n",
       " '차라리',\n",
       " '하는 편이 낫다',\n",
       " '흐흐',\n",
       " '놀라다',\n",
       " '상대적으로 말하자면',\n",
       " '마치',\n",
       " '아니라면',\n",
       " '쉿',\n",
       " '그렇지 않으면',\n",
       " '그렇지 않다면',\n",
       " '안 그러면',\n",
       " '아니었다면',\n",
       " '하든지',\n",
       " '아니면',\n",
       " '이라면',\n",
       " '좋아',\n",
       " '알았어',\n",
       " '하는것도',\n",
       " '그만이다',\n",
       " '어쩔수 없다',\n",
       " '하나',\n",
       " '일',\n",
       " '일반적으로',\n",
       " '일단',\n",
       " '한켠으로는',\n",
       " '오자마자',\n",
       " '이렇게되면',\n",
       " '이와같다면',\n",
       " '전부',\n",
       " '한마디',\n",
       " '한항목',\n",
       " '근거로',\n",
       " '하기에',\n",
       " '아울러',\n",
       " '하지 않도록',\n",
       " '않기 위해서',\n",
       " '이르기까지',\n",
       " '이 되다',\n",
       " '로 인하여',\n",
       " '까닭으로',\n",
       " '이유만으로',\n",
       " '이로 인하여',\n",
       " '그래서',\n",
       " '이 때문에',\n",
       " '그러므로',\n",
       " '그런 까닭에',\n",
       " '알 수 있다',\n",
       " '결론을 낼 수 있다',\n",
       " '으로 인하여',\n",
       " '있다',\n",
       " '어떤것',\n",
       " '관계가 있다',\n",
       " '관련이 있다',\n",
       " '연관되다',\n",
       " '어떤것들',\n",
       " '에 대해',\n",
       " '이리하여',\n",
       " '그리하여',\n",
       " '여부',\n",
       " '하기보다는',\n",
       " '하느니',\n",
       " '하면 할수록',\n",
       " '운운',\n",
       " '이러이러하다',\n",
       " '하구나',\n",
       " '하도다',\n",
       " '다시말하면',\n",
       " '다음으로',\n",
       " '에 있다',\n",
       " '에 달려 있다',\n",
       " '우리',\n",
       " '우리들',\n",
       " '오히려',\n",
       " '하기는한데',\n",
       " '어떻게',\n",
       " '어떻해',\n",
       " '어찌됏어',\n",
       " '어때',\n",
       " '어째서',\n",
       " '본대로',\n",
       " '자',\n",
       " '이',\n",
       " '이쪽',\n",
       " '여기',\n",
       " '이것',\n",
       " '이번',\n",
       " '이렇게말하자면',\n",
       " '이런',\n",
       " '이러한',\n",
       " '이와 같은',\n",
       " '요만큼',\n",
       " '요만한 것',\n",
       " '얼마 안 되는 것',\n",
       " '이만큼',\n",
       " '이 정도의',\n",
       " '이렇게 많은 것',\n",
       " '이와 같다',\n",
       " '이때',\n",
       " '이렇구나',\n",
       " '것과 같이',\n",
       " '끼익',\n",
       " '삐걱',\n",
       " '따위',\n",
       " '와 같은 사람들',\n",
       " '부류의 사람들',\n",
       " '왜냐하면',\n",
       " '중의하나',\n",
       " '오직',\n",
       " '오로지',\n",
       " '에 한하다',\n",
       " '하기만 하면',\n",
       " '도착하다',\n",
       " '까지 미치다',\n",
       " '도달하다',\n",
       " '정도에 이르다',\n",
       " '할 지경이다',\n",
       " '결과에 이르다',\n",
       " '관해서는',\n",
       " '여러분',\n",
       " '하고 있다',\n",
       " '한 후',\n",
       " '혼자',\n",
       " '자기',\n",
       " '자기집',\n",
       " '자신',\n",
       " '우에 종합한것과같이',\n",
       " '총적으로 보면',\n",
       " '총적으로 말하면',\n",
       " '총적으로',\n",
       " '대로 하다',\n",
       " '으로서',\n",
       " '참',\n",
       " '그만이다',\n",
       " '할 따름이다',\n",
       " '쿵',\n",
       " '탕탕',\n",
       " '쾅쾅',\n",
       " '둥둥',\n",
       " '봐',\n",
       " '봐라',\n",
       " '아이야',\n",
       " '아니',\n",
       " '와아',\n",
       " '응',\n",
       " '아이',\n",
       " '참나',\n",
       " '년',\n",
       " '월',\n",
       " '일',\n",
       " '령',\n",
       " '영',\n",
       " '일',\n",
       " '이',\n",
       " '삼',\n",
       " '사',\n",
       " '오',\n",
       " '육',\n",
       " '륙',\n",
       " '칠',\n",
       " '팔',\n",
       " '구',\n",
       " '이천육',\n",
       " '이천칠',\n",
       " '이천팔',\n",
       " '이천구',\n",
       " '하나',\n",
       " '둘',\n",
       " '셋',\n",
       " '넷',\n",
       " '다섯',\n",
       " '여섯',\n",
       " '일곱',\n",
       " '여덟',\n",
       " '아홉',\n",
       " '령',\n",
       " '영']"
      ]
     },
     "execution_count": 174,
     "metadata": {},
     "output_type": "execute_result"
    }
   ],
   "source": [
    "stopwords"
   ]
  },
  {
   "cell_type": "code",
   "execution_count": 175,
   "id": "8f16aee9",
   "metadata": {},
   "outputs": [],
   "source": [
    "okt = Okt()\n",
    "\n",
    "def okt_tokenizer(text):\n",
    "    words = okt.pos(text, stem=True)\n",
    "    filtered_words = []\n",
    "    for word, pos in words:\n",
    "        if pos not in ['Josa']:\n",
    "            filtered_words.append(word)\n",
    "            \n",
    "    return filtered_words"
   ]
  },
  {
   "cell_type": "code",
   "execution_count": 234,
   "id": "580f89b6",
   "metadata": {},
   "outputs": [],
   "source": [
    "from sklearn.feature_extraction.text import TfidfVectorizer\n",
    "\n",
    "cnt_vect = TfidfVectorizer(max_df = 0.85,\n",
    "                           min_df = 10,\n",
    "                           ngram_range=(1,2),\n",
    "                           tokenizer=okt_tokenizer,\n",
    "                           stop_words=stopwords)\n",
    "X_cnt = cnt_vect.fit_transform(X)"
   ]
  },
  {
   "cell_type": "code",
   "execution_count": 235,
   "id": "7bd01f82",
   "metadata": {},
   "outputs": [
    {
     "data": {
      "text/plain": [
       "<2276x3218 sparse matrix of type '<class 'numpy.float64'>'\n",
       "\twith 142770 stored elements in Compressed Sparse Row format>"
      ]
     },
     "execution_count": 235,
     "metadata": {},
     "output_type": "execute_result"
    }
   ],
   "source": [
    "X_cnt"
   ]
  },
  {
   "cell_type": "code",
   "execution_count": 238,
   "id": "3dbcc935",
   "metadata": {},
   "outputs": [
    {
     "data": {
      "text/plain": [
       "array(['ah', 'ah ah', 'aint', ..., '힘드다', '힘들다', '힘없다'], dtype=object)"
      ]
     },
     "execution_count": 238,
     "metadata": {},
     "output_type": "execute_result"
    }
   ],
   "source": [
    "cnt_vect.get_feature_names_out()"
   ]
  },
  {
   "cell_type": "code",
   "execution_count": 236,
   "id": "9c755989",
   "metadata": {},
   "outputs": [
    {
     "data": {
      "text/html": [
       "<style>#sk-container-id-9 {color: black;}#sk-container-id-9 pre{padding: 0;}#sk-container-id-9 div.sk-toggleable {background-color: white;}#sk-container-id-9 label.sk-toggleable__label {cursor: pointer;display: block;width: 100%;margin-bottom: 0;padding: 0.3em;box-sizing: border-box;text-align: center;}#sk-container-id-9 label.sk-toggleable__label-arrow:before {content: \"▸\";float: left;margin-right: 0.25em;color: #696969;}#sk-container-id-9 label.sk-toggleable__label-arrow:hover:before {color: black;}#sk-container-id-9 div.sk-estimator:hover label.sk-toggleable__label-arrow:before {color: black;}#sk-container-id-9 div.sk-toggleable__content {max-height: 0;max-width: 0;overflow: hidden;text-align: left;background-color: #f0f8ff;}#sk-container-id-9 div.sk-toggleable__content pre {margin: 0.2em;color: black;border-radius: 0.25em;background-color: #f0f8ff;}#sk-container-id-9 input.sk-toggleable__control:checked~div.sk-toggleable__content {max-height: 200px;max-width: 100%;overflow: auto;}#sk-container-id-9 input.sk-toggleable__control:checked~label.sk-toggleable__label-arrow:before {content: \"▾\";}#sk-container-id-9 div.sk-estimator input.sk-toggleable__control:checked~label.sk-toggleable__label {background-color: #d4ebff;}#sk-container-id-9 div.sk-label input.sk-toggleable__control:checked~label.sk-toggleable__label {background-color: #d4ebff;}#sk-container-id-9 input.sk-hidden--visually {border: 0;clip: rect(1px 1px 1px 1px);clip: rect(1px, 1px, 1px, 1px);height: 1px;margin: -1px;overflow: hidden;padding: 0;position: absolute;width: 1px;}#sk-container-id-9 div.sk-estimator {font-family: monospace;background-color: #f0f8ff;border: 1px dotted black;border-radius: 0.25em;box-sizing: border-box;margin-bottom: 0.5em;}#sk-container-id-9 div.sk-estimator:hover {background-color: #d4ebff;}#sk-container-id-9 div.sk-parallel-item::after {content: \"\";width: 100%;border-bottom: 1px solid gray;flex-grow: 1;}#sk-container-id-9 div.sk-label:hover label.sk-toggleable__label {background-color: #d4ebff;}#sk-container-id-9 div.sk-serial::before {content: \"\";position: absolute;border-left: 1px solid gray;box-sizing: border-box;top: 0;bottom: 0;left: 50%;z-index: 0;}#sk-container-id-9 div.sk-serial {display: flex;flex-direction: column;align-items: center;background-color: white;padding-right: 0.2em;padding-left: 0.2em;position: relative;}#sk-container-id-9 div.sk-item {position: relative;z-index: 1;}#sk-container-id-9 div.sk-parallel {display: flex;align-items: stretch;justify-content: center;background-color: white;position: relative;}#sk-container-id-9 div.sk-item::before, #sk-container-id-9 div.sk-parallel-item::before {content: \"\";position: absolute;border-left: 1px solid gray;box-sizing: border-box;top: 0;bottom: 0;left: 50%;z-index: -1;}#sk-container-id-9 div.sk-parallel-item {display: flex;flex-direction: column;z-index: 1;position: relative;background-color: white;}#sk-container-id-9 div.sk-parallel-item:first-child::after {align-self: flex-end;width: 50%;}#sk-container-id-9 div.sk-parallel-item:last-child::after {align-self: flex-start;width: 50%;}#sk-container-id-9 div.sk-parallel-item:only-child::after {width: 0;}#sk-container-id-9 div.sk-dashed-wrapped {border: 1px dashed gray;margin: 0 0.4em 0.5em 0.4em;box-sizing: border-box;padding-bottom: 0.4em;background-color: white;}#sk-container-id-9 div.sk-label label {font-family: monospace;font-weight: bold;display: inline-block;line-height: 1.2em;}#sk-container-id-9 div.sk-label-container {text-align: center;}#sk-container-id-9 div.sk-container {/* jupyter's `normalize.less` sets `[hidden] { display: none; }` but bootstrap.min.css set `[hidden] { display: none !important; }` so we also need the `!important` here to be able to override the default hidden behavior on the sphinx rendered scikit-learn.org. See: https://github.com/scikit-learn/scikit-learn/issues/21755 */display: inline-block !important;position: relative;}#sk-container-id-9 div.sk-text-repr-fallback {display: none;}</style><div id=\"sk-container-id-9\" class=\"sk-top-container\"><div class=\"sk-text-repr-fallback\"><pre>KMeans(max_iter=1000, n_clusters=5, random_state=0)</pre><b>In a Jupyter environment, please rerun this cell to show the HTML representation or trust the notebook. <br />On GitHub, the HTML representation is unable to render, please try loading this page with nbviewer.org.</b></div><div class=\"sk-container\" hidden><div class=\"sk-item\"><div class=\"sk-estimator sk-toggleable\"><input class=\"sk-toggleable__control sk-hidden--visually\" id=\"sk-estimator-id-9\" type=\"checkbox\" checked><label for=\"sk-estimator-id-9\" class=\"sk-toggleable__label sk-toggleable__label-arrow\">KMeans</label><div class=\"sk-toggleable__content\"><pre>KMeans(max_iter=1000, n_clusters=5, random_state=0)</pre></div></div></div></div></div>"
      ],
      "text/plain": [
       "KMeans(max_iter=1000, n_clusters=5, random_state=0)"
      ]
     },
     "execution_count": 236,
     "metadata": {},
     "output_type": "execute_result"
    }
   ],
   "source": [
    "from sklearn.cluster import KMeans\n",
    "\n",
    "kmeans = KMeans(n_clusters=5, max_iter=1000, random_state=0)\n",
    "\n",
    "kmeans.fit(X_cnt)"
   ]
  },
  {
   "cell_type": "code",
   "execution_count": 237,
   "id": "f779af42",
   "metadata": {},
   "outputs": [
    {
     "data": {
      "text/plain": [
       "0    794\n",
       "4    511\n",
       "1    346\n",
       "3    333\n",
       "2    292\n",
       "Name: count, dtype: int64"
      ]
     },
     "execution_count": 237,
     "metadata": {},
     "output_type": "execute_result"
    }
   ],
   "source": [
    "pd.Series(kmeans.labels_).value_counts()"
   ]
  },
  {
   "cell_type": "code",
   "execution_count": 199,
   "id": "539cdb40",
   "metadata": {},
   "outputs": [
    {
     "data": {
      "text/plain": [
       "[<matplotlib.lines.Line2D at 0x1860085ab10>]"
      ]
     },
     "execution_count": 199,
     "metadata": {},
     "output_type": "execute_result"
    },
    {
     "data": {
      "image/png": "[encoded data removed]",
      "text/plain": [
       "<Figure size 640x480 with 1 Axes>"
      ]
     },
     "metadata": {},
     "output_type": "display_data"
    }
   ],
   "source": [
    "import matplotlib.pyplot as plt\n",
    "\n",
    "x_index = []\n",
    "y_value = []\n",
    "for i in range(1, 20):\n",
    "    kmeans = KMeans(n_clusters=i, max_iter=1000, random_state=0)\n",
    "    kmeans.fit(X_cnt)\n",
    "    x_index.append(i)\n",
    "    y_value.append(kmeans.inertia_)\n",
    "plt.plot(x_index, y_value)"
   ]
  },
  {
   "cell_type": "code",
   "execution_count": 203,
   "id": "9135335b",
   "metadata": {},
   "outputs": [
    {
     "data": {
      "text/html": [
       "<div>\n",
       "<style scoped>\n",
       "    .dataframe tbody tr th:only-of-type {\n",
       "        vertical-align: middle;\n",
       "    }\n",
       "\n",
       "    .dataframe tbody tr th {\n",
       "        vertical-align: top;\n",
       "    }\n",
       "\n",
       "    .dataframe thead th {\n",
       "        text-align: right;\n",
       "    }\n",
       "</style>\n",
       "<table border=\"1\" class=\"dataframe\">\n",
       "  <thead>\n",
       "    <tr style=\"text-align: right;\">\n",
       "      <th></th>\n",
       "      <th>Lyric</th>\n",
       "      <th>cluster</th>\n",
       "    </tr>\n",
       "  </thead>\n",
       "  <tbody>\n",
       "    <tr>\n",
       "      <th>0</th>\n",
       "      <td>헤일 수 없이 수많은 밤을 내 가슴 도려내는 아픔에 겨워 얼마나 울었던가 동백아가씨...</td>\n",
       "      <td>3</td>\n",
       "    </tr>\n",
       "    <tr>\n",
       "      <th>1</th>\n",
       "      <td>항구의 일번지 부기우기 일번지 그라스를 채워다오 부기우기 아가씨 고동이 슬피울면 이...</td>\n",
       "      <td>3</td>\n",
       "    </tr>\n",
       "    <tr>\n",
       "      <th>2</th>\n",
       "      <td>하룻밤 뱃길이면 가고 오건만 못 가는 이국땅에 서러움이 많 아현해탄 파도 위에 비친...</td>\n",
       "      <td>3</td>\n",
       "    </tr>\n",
       "    <tr>\n",
       "      <th>3</th>\n",
       "      <td>푸르른 달빛이 파도에 부서지면 파이프에 꿈을 실은 첫사랑 마도로스 배귀에 기대서면 ...</td>\n",
       "      <td>3</td>\n",
       "    </tr>\n",
       "    <tr>\n",
       "      <th>4</th>\n",
       "      <td>조기를 담뿍잡아 기폭을 올리고 온다던 그배는 어이하여 아니오나 수평선 바라보며 그이...</td>\n",
       "      <td>3</td>\n",
       "    </tr>\n",
       "    <tr>\n",
       "      <th>...</th>\n",
       "      <td>...</td>\n",
       "      <td>...</td>\n",
       "    </tr>\n",
       "    <tr>\n",
       "      <th>2271</th>\n",
       "      <td>바람 같은 그대가 나를 스쳐가네요 잠시 쉬어 날 바라봐요 이 모든 날들이 영원할 순...</td>\n",
       "      <td>0</td>\n",
       "    </tr>\n",
       "    <tr>\n",
       "      <th>2272</th>\n",
       "      <td>do your thang do your thang with me now do you...</td>\n",
       "      <td>2</td>\n",
       "    </tr>\n",
       "    <tr>\n",
       "      <th>2273</th>\n",
       "      <td>어 그래 얘들아 사는게 개같지 내 얼굴도 개같지 뭐얌 근데도 부자가 됐다 세상은 공...</td>\n",
       "      <td>2</td>\n",
       "    </tr>\n",
       "    <tr>\n",
       "      <th>2274</th>\n",
       "      <td>all i wanna be is 멋짐 내 마음대로 골라 kick it 머리 어깨 무...</td>\n",
       "      <td>3</td>\n",
       "    </tr>\n",
       "    <tr>\n",
       "      <th>2275</th>\n",
       "      <td>all the colors and personalities 모든 색깔과 성격들 yo...</td>\n",
       "      <td>2</td>\n",
       "    </tr>\n",
       "  </tbody>\n",
       "</table>\n",
       "<p>2276 rows × 2 columns</p>\n",
       "</div>"
      ],
      "text/plain": [
       "                                                  Lyric  cluster\n",
       "0     헤일 수 없이 수많은 밤을 내 가슴 도려내는 아픔에 겨워 얼마나 울었던가 동백아가씨...        3\n",
       "1     항구의 일번지 부기우기 일번지 그라스를 채워다오 부기우기 아가씨 고동이 슬피울면 이...        3\n",
       "2     하룻밤 뱃길이면 가고 오건만 못 가는 이국땅에 서러움이 많 아현해탄 파도 위에 비친...        3\n",
       "3     푸르른 달빛이 파도에 부서지면 파이프에 꿈을 실은 첫사랑 마도로스 배귀에 기대서면 ...        3\n",
       "4     조기를 담뿍잡아 기폭을 올리고 온다던 그배는 어이하여 아니오나 수평선 바라보며 그이...        3\n",
       "...                                                 ...      ...\n",
       "2271  바람 같은 그대가 나를 스쳐가네요 잠시 쉬어 날 바라봐요 이 모든 날들이 영원할 순...        0\n",
       "2272  do your thang do your thang with me now do you...        2\n",
       "2273  어 그래 얘들아 사는게 개같지 내 얼굴도 개같지 뭐얌 근데도 부자가 됐다 세상은 공...        2\n",
       "2274  all i wanna be is 멋짐 내 마음대로 골라 kick it 머리 어깨 무...        3\n",
       "2275  all the colors and personalities 모든 색깔과 성격들 yo...        2\n",
       "\n",
       "[2276 rows x 2 columns]"
      ]
     },
     "execution_count": 203,
     "metadata": {},
     "output_type": "execute_result"
    }
   ],
   "source": [
    "df = X.to_frame('Lyric')\n",
    "df['cluster'] = kmeans.labels_\n",
    "df"
   ]
  },
  {
   "cell_type": "code",
   "execution_count": null,
   "id": "a9ea9bd6",
   "metadata": {},
   "outputs": [],
   "source": [
    "# 3    1390\n",
    "# 0     541\n",
    "# 2     334\n",
    "# 4       9\n",
    "# 1       2"
   ]
  },
  {
   "cell_type": "code",
   "execution_count": 227,
   "id": "b62eebc4",
   "metadata": {},
   "outputs": [
    {
     "data": {
      "text/html": [
       "<div>\n",
       "<style scoped>\n",
       "    .dataframe tbody tr th:only-of-type {\n",
       "        vertical-align: middle;\n",
       "    }\n",
       "\n",
       "    .dataframe tbody tr th {\n",
       "        vertical-align: top;\n",
       "    }\n",
       "\n",
       "    .dataframe thead th {\n",
       "        text-align: right;\n",
       "    }\n",
       "</style>\n",
       "<table border=\"1\" class=\"dataframe\">\n",
       "  <thead>\n",
       "    <tr style=\"text-align: right;\">\n",
       "      <th></th>\n",
       "      <th>Lyric</th>\n",
       "      <th>cluster</th>\n",
       "    </tr>\n",
       "  </thead>\n",
       "  <tbody>\n",
       "    <tr>\n",
       "      <th>250</th>\n",
       "      <td>어디에 있었니 내 아들아 어디에 있었니 내 딸들아 나는 안개낀 산 속에서 방황했었다...</td>\n",
       "      <td>2</td>\n",
       "    </tr>\n",
       "    <tr>\n",
       "      <th>299</th>\n",
       "      <td>나는 네가 좋아서 순한 양이 되었지 풀밭 같은 너의 가슴에 내 마음은 뛰어 놀았지 ...</td>\n",
       "      <td>2</td>\n",
       "    </tr>\n",
       "    <tr>\n",
       "      <th>345</th>\n",
       "      <td>외로운 내 마음이 불러보는 옛 노래 언젠가 당신이 불러준 그리웠던 그노래 지금은 어...</td>\n",
       "      <td>2</td>\n",
       "    </tr>\n",
       "    <tr>\n",
       "      <th>443</th>\n",
       "      <td>풀빛이 마냥 푸를 때 우리의 웃음 푸르렀고 구름이 마냥 피어날 때 우리의 꿈도 피어...</td>\n",
       "      <td>2</td>\n",
       "    </tr>\n",
       "    <tr>\n",
       "      <th>469</th>\n",
       "      <td>네가 만약 괴로울때면 내가 위로해줄께 네가 만약 서러울때면 내가 눈물이 되리 어두운...</td>\n",
       "      <td>2</td>\n",
       "    </tr>\n",
       "    <tr>\n",
       "      <th>...</th>\n",
       "      <td>...</td>\n",
       "      <td>...</td>\n",
       "    </tr>\n",
       "    <tr>\n",
       "      <th>2259</th>\n",
       "      <td>hey 느낌이 너무 이상한 걸 좀 나를 위해 보내준다는 말이 직감은 두려워 너무 참...</td>\n",
       "      <td>2</td>\n",
       "    </tr>\n",
       "    <tr>\n",
       "      <th>2264</th>\n",
       "      <td>i cant understand what people are sayin 어느 장단에...</td>\n",
       "      <td>2</td>\n",
       "    </tr>\n",
       "    <tr>\n",
       "      <th>2272</th>\n",
       "      <td>do your thang do your thang with me now do you...</td>\n",
       "      <td>2</td>\n",
       "    </tr>\n",
       "    <tr>\n",
       "      <th>2273</th>\n",
       "      <td>어 그래 얘들아 사는게 개같지 내 얼굴도 개같지 뭐얌 근데도 부자가 됐다 세상은 공...</td>\n",
       "      <td>2</td>\n",
       "    </tr>\n",
       "    <tr>\n",
       "      <th>2275</th>\n",
       "      <td>all the colors and personalities 모든 색깔과 성격들 yo...</td>\n",
       "      <td>2</td>\n",
       "    </tr>\n",
       "  </tbody>\n",
       "</table>\n",
       "<p>334 rows × 2 columns</p>\n",
       "</div>"
      ],
      "text/plain": [
       "                                                  Lyric  cluster\n",
       "250   어디에 있었니 내 아들아 어디에 있었니 내 딸들아 나는 안개낀 산 속에서 방황했었다...        2\n",
       "299   나는 네가 좋아서 순한 양이 되었지 풀밭 같은 너의 가슴에 내 마음은 뛰어 놀았지 ...        2\n",
       "345   외로운 내 마음이 불러보는 옛 노래 언젠가 당신이 불러준 그리웠던 그노래 지금은 어...        2\n",
       "443   풀빛이 마냥 푸를 때 우리의 웃음 푸르렀고 구름이 마냥 피어날 때 우리의 꿈도 피어...        2\n",
       "469   네가 만약 괴로울때면 내가 위로해줄께 네가 만약 서러울때면 내가 눈물이 되리 어두운...        2\n",
       "...                                                 ...      ...\n",
       "2259  hey 느낌이 너무 이상한 걸 좀 나를 위해 보내준다는 말이 직감은 두려워 너무 참...        2\n",
       "2264  i cant understand what people are sayin 어느 장단에...        2\n",
       "2272  do your thang do your thang with me now do you...        2\n",
       "2273  어 그래 얘들아 사는게 개같지 내 얼굴도 개같지 뭐얌 근데도 부자가 됐다 세상은 공...        2\n",
       "2275  all the colors and personalities 모든 색깔과 성격들 yo...        2\n",
       "\n",
       "[334 rows x 2 columns]"
      ]
     },
     "execution_count": 227,
     "metadata": {},
     "output_type": "execute_result"
    }
   ],
   "source": [
    "df[df['cluster'] == 2]"
   ]
  },
  {
   "cell_type": "code",
   "execution_count": 217,
   "id": "046af702",
   "metadata": {},
   "outputs": [
    {
     "data": {
      "text/plain": [
       "<541x26206 sparse matrix of type '<class 'numpy.int64'>'\n",
       "\twith 58280 stored elements in Compressed Sparse Row format>"
      ]
     },
     "execution_count": 217,
     "metadata": {},
     "output_type": "execute_result"
    }
   ],
   "source": [
    "X_cnt[df[df['cluster'] == 0].index]"
   ]
  },
  {
   "cell_type": "code",
   "execution_count": 219,
   "id": "70ca6a97",
   "metadata": {},
   "outputs": [
    {
     "data": {
      "text/html": [
       "<style>#sk-container-id-7 {color: black;}#sk-container-id-7 pre{padding: 0;}#sk-container-id-7 div.sk-toggleable {background-color: white;}#sk-container-id-7 label.sk-toggleable__label {cursor: pointer;display: block;width: 100%;margin-bottom: 0;padding: 0.3em;box-sizing: border-box;text-align: center;}#sk-container-id-7 label.sk-toggleable__label-arrow:before {content: \"▸\";float: left;margin-right: 0.25em;color: #696969;}#sk-container-id-7 label.sk-toggleable__label-arrow:hover:before {color: black;}#sk-container-id-7 div.sk-estimator:hover label.sk-toggleable__label-arrow:before {color: black;}#sk-container-id-7 div.sk-toggleable__content {max-height: 0;max-width: 0;overflow: hidden;text-align: left;background-color: #f0f8ff;}#sk-container-id-7 div.sk-toggleable__content pre {margin: 0.2em;color: black;border-radius: 0.25em;background-color: #f0f8ff;}#sk-container-id-7 input.sk-toggleable__control:checked~div.sk-toggleable__content {max-height: 200px;max-width: 100%;overflow: auto;}#sk-container-id-7 input.sk-toggleable__control:checked~label.sk-toggleable__label-arrow:before {content: \"▾\";}#sk-container-id-7 div.sk-estimator input.sk-toggleable__control:checked~label.sk-toggleable__label {background-color: #d4ebff;}#sk-container-id-7 div.sk-label input.sk-toggleable__control:checked~label.sk-toggleable__label {background-color: #d4ebff;}#sk-container-id-7 input.sk-hidden--visually {border: 0;clip: rect(1px 1px 1px 1px);clip: rect(1px, 1px, 1px, 1px);height: 1px;margin: -1px;overflow: hidden;padding: 0;position: absolute;width: 1px;}#sk-container-id-7 div.sk-estimator {font-family: monospace;background-color: #f0f8ff;border: 1px dotted black;border-radius: 0.25em;box-sizing: border-box;margin-bottom: 0.5em;}#sk-container-id-7 div.sk-estimator:hover {background-color: #d4ebff;}#sk-container-id-7 div.sk-parallel-item::after {content: \"\";width: 100%;border-bottom: 1px solid gray;flex-grow: 1;}#sk-container-id-7 div.sk-label:hover label.sk-toggleable__label {background-color: #d4ebff;}#sk-container-id-7 div.sk-serial::before {content: \"\";position: absolute;border-left: 1px solid gray;box-sizing: border-box;top: 0;bottom: 0;left: 50%;z-index: 0;}#sk-container-id-7 div.sk-serial {display: flex;flex-direction: column;align-items: center;background-color: white;padding-right: 0.2em;padding-left: 0.2em;position: relative;}#sk-container-id-7 div.sk-item {position: relative;z-index: 1;}#sk-container-id-7 div.sk-parallel {display: flex;align-items: stretch;justify-content: center;background-color: white;position: relative;}#sk-container-id-7 div.sk-item::before, #sk-container-id-7 div.sk-parallel-item::before {content: \"\";position: absolute;border-left: 1px solid gray;box-sizing: border-box;top: 0;bottom: 0;left: 50%;z-index: -1;}#sk-container-id-7 div.sk-parallel-item {display: flex;flex-direction: column;z-index: 1;position: relative;background-color: white;}#sk-container-id-7 div.sk-parallel-item:first-child::after {align-self: flex-end;width: 50%;}#sk-container-id-7 div.sk-parallel-item:last-child::after {align-self: flex-start;width: 50%;}#sk-container-id-7 div.sk-parallel-item:only-child::after {width: 0;}#sk-container-id-7 div.sk-dashed-wrapped {border: 1px dashed gray;margin: 0 0.4em 0.5em 0.4em;box-sizing: border-box;padding-bottom: 0.4em;background-color: white;}#sk-container-id-7 div.sk-label label {font-family: monospace;font-weight: bold;display: inline-block;line-height: 1.2em;}#sk-container-id-7 div.sk-label-container {text-align: center;}#sk-container-id-7 div.sk-container {/* jupyter's `normalize.less` sets `[hidden] { display: none; }` but bootstrap.min.css set `[hidden] { display: none !important; }` so we also need the `!important` here to be able to override the default hidden behavior on the sphinx rendered scikit-learn.org. See: https://github.com/scikit-learn/scikit-learn/issues/21755 */display: inline-block !important;position: relative;}#sk-container-id-7 div.sk-text-repr-fallback {display: none;}</style><div id=\"sk-container-id-7\" class=\"sk-top-container\"><div class=\"sk-text-repr-fallback\"><pre>LatentDirichletAllocation(n_components=3)</pre><b>In a Jupyter environment, please rerun this cell to show the HTML representation or trust the notebook. <br />On GitHub, the HTML representation is unable to render, please try loading this page with nbviewer.org.</b></div><div class=\"sk-container\" hidden><div class=\"sk-item\"><div class=\"sk-estimator sk-toggleable\"><input class=\"sk-toggleable__control sk-hidden--visually\" id=\"sk-estimator-id-7\" type=\"checkbox\" checked><label for=\"sk-estimator-id-7\" class=\"sk-toggleable__label sk-toggleable__label-arrow\">LatentDirichletAllocation</label><div class=\"sk-toggleable__content\"><pre>LatentDirichletAllocation(n_components=3)</pre></div></div></div></div></div>"
      ],
      "text/plain": [
       "LatentDirichletAllocation(n_components=3)"
      ]
     },
     "execution_count": 219,
     "metadata": {},
     "output_type": "execute_result"
    }
   ],
   "source": [
    "from sklearn.decomposition import LatentDirichletAllocation\n",
    "\n",
    "lda = LatentDirichletAllocation(n_components = 3)\n",
    "lda.fit(X_cnt[df[df['cluster'] == 0].index])"
   ]
  },
  {
   "cell_type": "code",
   "execution_count": 224,
   "id": "b2ecc3ed",
   "metadata": {},
   "outputs": [
    {
     "data": {
      "text/plain": [
       "array([[    0, 13743, 13744, ...,  7155, 10937, 14993],\n",
       "       [    0, 13743, 13744, ..., 19110,  6299, 14993],\n",
       "       [    0, 13743, 13744, ...,  6299,  3723, 14993]], dtype=int64)"
      ]
     },
     "execution_count": 224,
     "metadata": {},
     "output_type": "execute_result"
    }
   ],
   "source": [
    "lda.components_.argsort()[::-1][:15]"
   ]
  },
  {
   "cell_type": "code",
   "execution_count": 226,
   "id": "7104c189",
   "metadata": {},
   "outputs": [
    {
     "name": "stdout",
     "output_type": "stream",
     "text": [
      "Topic # 0\n",
      "사랑 그대 내 없다 날 수 보다 말 난 나르다 수 없다 못 대다 잊다 내다\n",
      "Topic # 1\n",
      "사랑 내 없다 그대 보다 날 널 잊다 못 수 난 다시 말 마음 사람\n",
      "Topic # 2\n",
      "사랑 말 널 내 사람 날 난 없다 모르다 보다 못 다 눈물 알 수\n"
     ]
    }
   ],
   "source": [
    "def display_topics(model, feature_names, no_top_words):\n",
    "    for topic_index, topic in enumerate(model.components_):\n",
    "        print('Topic #',topic_index)\n",
    "        topic_word_indexes = topic.argsort()[::-1]\n",
    "        top_indexes=topic_word_indexes[:no_top_words]\n",
    "        feature_concat = ' '.join([feature_names[i] for i in top_indexes])\n",
    "        print(feature_concat)\n",
    "\n",
    "display_topics(lda, cnt_vect.get_feature_names_out(), 15)"
   ]
  },
  {
   "cell_type": "code",
   "execution_count": 229,
   "id": "fbe74090",
   "metadata": {},
   "outputs": [
    {
     "name": "stdout",
     "output_type": "stream",
     "text": [
      "Topic # 0\n",
      "내 보다 없다 난 말 더 baby oh ding 사랑 love 날 널 니 bounce\n",
      "Topic # 1\n",
      "내 uh 나나 baby 나나 나나 girl uh uh 보다 love oh 맘 난 im 날 널\n",
      "Topic # 2\n",
      "내 난 널 날 보다 사랑 넌 love 더 없다 안 말 oh 나르다 다\n",
      "Topic # 3\n",
      "내 없다 보다 난 말 eh 날 oh eh eh 니 사랑 모르다 맘 널 나르다\n",
      "Topic # 4\n",
      "내 난 없다 보다 넌 말 날 니 사랑 널 내다 버리다 yeah oh 못\n"
     ]
    }
   ],
   "source": [
    "lda = LatentDirichletAllocation(n_components = 5)\n",
    "lda.fit(X_cnt[df[df['cluster'] == 2].index])\n",
    "\n",
    "display_topics(lda, cnt_vect.get_feature_names_out(), 15)"
   ]
  },
  {
   "cell_type": "code",
   "execution_count": 230,
   "id": "9f422da3",
   "metadata": {},
   "outputs": [
    {
     "name": "stdout",
     "output_type": "stream",
     "text": [
      "Topic # 0\n",
      "oh oh oh 없다 철 철 없다 ah 내 ah ah 미치다 보다 뛰다 사랑 오빠 많이 위로\n",
      "Topic # 1\n",
      "oh oh oh yeah oh yeah give baby nanana yeah yeah 너무 yeah oh 내 na love 말 자꾸만\n"
     ]
    }
   ],
   "source": [
    "lda = LatentDirichletAllocation(n_components = 2)\n",
    "lda.fit(X_cnt[df[df['cluster'] == 4].index])\n",
    "\n",
    "display_topics(lda, cnt_vect.get_feature_names_out(), 15)"
   ]
  },
  {
   "cell_type": "code",
   "execution_count": 231,
   "id": "89400a73",
   "metadata": {},
   "outputs": [
    {
     "name": "stdout",
     "output_type": "stream",
     "text": [
      "Topic # 0\n",
      "like 돼다 사랑 좋다 널 사랑 니 제발 니 좋다 fine 웃기다 제발 제발 놈 smile 론 원래\n",
      "Topic # 1\n",
      "ooh ooh ooh 널 내 내다 넌 말 like 미치다 땜 uh 널 내다 돼다 사랑 좋다\n"
     ]
    }
   ],
   "source": [
    "lda = LatentDirichletAllocation(n_components = 2)\n",
    "lda.fit(X_cnt[df[df['cluster'] == 1].index])\n",
    "\n",
    "display_topics(lda, cnt_vect.get_feature_names_out(), 15)"
   ]
  },
  {
   "cell_type": "code",
   "execution_count": 233,
   "id": "c3c05249",
   "metadata": {},
   "outputs": [
    {
     "name": "stdout",
     "output_type": "stream",
     "text": [
      "Topic # 0\n",
      "la la la 없다 내 나나 보다 밤 좋다 나나 나나 날 말 사람 whoo 속 그렇다\n",
      "Topic # 1\n",
      "없다 내 우우 마음 보다 잊다 가다 put 우 눈 말 바람 그대 꿈 사랑\n",
      "Topic # 2\n",
      "내 사랑 없다 날 보다 말 못 가다 눈물 속 마음 다시 난 da 버리다\n",
      "Topic # 3\n",
      "내 사람 보다 그대 없다 가다 마음 밤 사랑 생각 말 knock 잊다 날 수\n",
      "Topic # 4\n",
      "사랑 내 그대 없다 말 마음 날 난 떠나다 수 잊다 다시 오다 밤 나르다\n",
      "Topic # 5\n",
      "내 없다 말 보다 날 사랑 그렇다 오다 난 수 울다 못 눈물 마음 떠나다\n",
      "Topic # 6\n",
      "내 사랑 보다 난 못 라라라라 없다 다시 마음 아아 꿈 속 하늘 가다 날\n"
     ]
    }
   ],
   "source": [
    "lda = LatentDirichletAllocation(n_components = 7)\n",
    "lda.fit(X_cnt[df[df['cluster'] == 3].index])\n",
    "\n",
    "display_topics(lda, cnt_vect.get_feature_names_out(), 15)"
   ]
  },
  {
   "cell_type": "code",
   "execution_count": 241,
   "id": "4b1ee06d",
   "metadata": {},
   "outputs": [
    {
     "name": "stdout",
     "output_type": "stream",
     "text": [
      "####### Cluster 0\n",
      "Top features: ['마음', '내', '가다', '님', '바람', '사람', '사랑', '밤', '길', '오다', '노래', '꿈', '보다', '하늘', '울다']\n",
      "=============================\n",
      "####### Cluster 1\n",
      "Top features: ['사랑', '내', '말', '사람', '잊다', '못', '사랑 사랑', '널', '없다', '날', '보다', '가슴', '아프다', '눈물', '마음']\n",
      "=============================\n",
      "####### Cluster 2\n",
      "Top features: ['oh', 'love', 'baby', 'im', '내', 'oh oh', 'yeah', '난', 'like', '넌', '보다', 'boy', 'come', '날', 'dont']\n",
      "=============================\n",
      "####### Cluster 3\n",
      "Top features: ['그대', '사랑', '내', '대다', '없다', '수', '말', '마음', '날', '잊다', '나르다', '그대 사랑', '난', '눈물', '모습']\n",
      "=============================\n",
      "####### Cluster 4\n",
      "Top features: ['없다', '내', '난', '니', '수', '널', '보다', '날', '사랑', '말', '수 없다', '더', '싶다', '넌', '그렇다']\n",
      "=============================\n"
     ]
    }
   ],
   "source": [
    "def get_cluster_details(cluster_model, feature_names, clusters_num, top_n_features=10):\n",
    "    cluster_details = {}\n",
    "    centroid_feature_ordered_ind = cluster_model.cluster_centers_.argsort()[:,::-1]\n",
    "    for cluster_num in range(clusters_num):\n",
    "        cluster_details[cluster_num] = {}\n",
    "        cluster_details[cluster_num]['cluster'] = cluster_num\n",
    "        top_feature_indexes = centroid_feature_ordered_ind[cluster_num, :top_n_features]\n",
    "        top_features = [ feature_names[ind] for ind in top_feature_indexes ]\n",
    "        top_feature_values = cluster_model.cluster_centers_[cluster_num, top_feature_indexes].tolist()\n",
    "        cluster_details[cluster_num]['top_features'] = top_features\n",
    "        cluster_details[cluster_num]['top_features_value'] = top_feature_values\n",
    "    return cluster_details\n",
    "\n",
    "\n",
    "def print_cluster_details(cluster_details):\n",
    "    for cluster_num, cluster_detail in cluster_details.items():\n",
    "        print('####### Cluster {0}'.format(cluster_num))\n",
    "        print('Top features:', cluster_detail['top_features'])\n",
    "        print('=============================')\n",
    "\n",
    "clust_centers = kmeans.cluster_centers_\n",
    "feature_names = cnt_vect.get_feature_names_out()\n",
    "cluster_details = get_cluster_details(cluster_model=kmeans, \n",
    "                                        feature_names=feature_names, \n",
    "                                        clusters_num=5, \n",
    "                                        top_n_features=15 )\n",
    "print_cluster_details(cluster_details)\n"
   ]
  },
  {
   "cell_type": "code",
   "execution_count": 243,
   "id": "de09cfee",
   "metadata": {},
   "outputs": [
    {
     "data": {
      "text/html": [
       "<style>#sk-container-id-11 {color: black;}#sk-container-id-11 pre{padding: 0;}#sk-container-id-11 div.sk-toggleable {background-color: white;}#sk-container-id-11 label.sk-toggleable__label {cursor: pointer;display: block;width: 100%;margin-bottom: 0;padding: 0.3em;box-sizing: border-box;text-align: center;}#sk-container-id-11 label.sk-toggleable__label-arrow:before {content: \"▸\";float: left;margin-right: 0.25em;color: #696969;}#sk-container-id-11 label.sk-toggleable__label-arrow:hover:before {color: black;}#sk-container-id-11 div.sk-estimator:hover label.sk-toggleable__label-arrow:before {color: black;}#sk-container-id-11 div.sk-toggleable__content {max-height: 0;max-width: 0;overflow: hidden;text-align: left;background-color: #f0f8ff;}#sk-container-id-11 div.sk-toggleable__content pre {margin: 0.2em;color: black;border-radius: 0.25em;background-color: #f0f8ff;}#sk-container-id-11 input.sk-toggleable__control:checked~div.sk-toggleable__content {max-height: 200px;max-width: 100%;overflow: auto;}#sk-container-id-11 input.sk-toggleable__control:checked~label.sk-toggleable__label-arrow:before {content: \"▾\";}#sk-container-id-11 div.sk-estimator input.sk-toggleable__control:checked~label.sk-toggleable__label {background-color: #d4ebff;}#sk-container-id-11 div.sk-label input.sk-toggleable__control:checked~label.sk-toggleable__label {background-color: #d4ebff;}#sk-container-id-11 input.sk-hidden--visually {border: 0;clip: rect(1px 1px 1px 1px);clip: rect(1px, 1px, 1px, 1px);height: 1px;margin: -1px;overflow: hidden;padding: 0;position: absolute;width: 1px;}#sk-container-id-11 div.sk-estimator {font-family: monospace;background-color: #f0f8ff;border: 1px dotted black;border-radius: 0.25em;box-sizing: border-box;margin-bottom: 0.5em;}#sk-container-id-11 div.sk-estimator:hover {background-color: #d4ebff;}#sk-container-id-11 div.sk-parallel-item::after {content: \"\";width: 100%;border-bottom: 1px solid gray;flex-grow: 1;}#sk-container-id-11 div.sk-label:hover label.sk-toggleable__label {background-color: #d4ebff;}#sk-container-id-11 div.sk-serial::before {content: \"\";position: absolute;border-left: 1px solid gray;box-sizing: border-box;top: 0;bottom: 0;left: 50%;z-index: 0;}#sk-container-id-11 div.sk-serial {display: flex;flex-direction: column;align-items: center;background-color: white;padding-right: 0.2em;padding-left: 0.2em;position: relative;}#sk-container-id-11 div.sk-item {position: relative;z-index: 1;}#sk-container-id-11 div.sk-parallel {display: flex;align-items: stretch;justify-content: center;background-color: white;position: relative;}#sk-container-id-11 div.sk-item::before, #sk-container-id-11 div.sk-parallel-item::before {content: \"\";position: absolute;border-left: 1px solid gray;box-sizing: border-box;top: 0;bottom: 0;left: 50%;z-index: -1;}#sk-container-id-11 div.sk-parallel-item {display: flex;flex-direction: column;z-index: 1;position: relative;background-color: white;}#sk-container-id-11 div.sk-parallel-item:first-child::after {align-self: flex-end;width: 50%;}#sk-container-id-11 div.sk-parallel-item:last-child::after {align-self: flex-start;width: 50%;}#sk-container-id-11 div.sk-parallel-item:only-child::after {width: 0;}#sk-container-id-11 div.sk-dashed-wrapped {border: 1px dashed gray;margin: 0 0.4em 0.5em 0.4em;box-sizing: border-box;padding-bottom: 0.4em;background-color: white;}#sk-container-id-11 div.sk-label label {font-family: monospace;font-weight: bold;display: inline-block;line-height: 1.2em;}#sk-container-id-11 div.sk-label-container {text-align: center;}#sk-container-id-11 div.sk-container {/* jupyter's `normalize.less` sets `[hidden] { display: none; }` but bootstrap.min.css set `[hidden] { display: none !important; }` so we also need the `!important` here to be able to override the default hidden behavior on the sphinx rendered scikit-learn.org. See: https://github.com/scikit-learn/scikit-learn/issues/21755 */display: inline-block !important;position: relative;}#sk-container-id-11 div.sk-text-repr-fallback {display: none;}</style><div id=\"sk-container-id-11\" class=\"sk-top-container\"><div class=\"sk-text-repr-fallback\"><pre>LatentDirichletAllocation(n_components=5)</pre><b>In a Jupyter environment, please rerun this cell to show the HTML representation or trust the notebook. <br />On GitHub, the HTML representation is unable to render, please try loading this page with nbviewer.org.</b></div><div class=\"sk-container\" hidden><div class=\"sk-item\"><div class=\"sk-estimator sk-toggleable\"><input class=\"sk-toggleable__control sk-hidden--visually\" id=\"sk-estimator-id-11\" type=\"checkbox\" checked><label for=\"sk-estimator-id-11\" class=\"sk-toggleable__label sk-toggleable__label-arrow\">LatentDirichletAllocation</label><div class=\"sk-toggleable__content\"><pre>LatentDirichletAllocation(n_components=5)</pre></div></div></div></div></div>"
      ],
      "text/plain": [
       "LatentDirichletAllocation(n_components=5)"
      ]
     },
     "execution_count": 243,
     "metadata": {},
     "output_type": "execute_result"
    }
   ],
   "source": [
    "lda = LatentDirichletAllocation(n_components=5)\n",
    "lda.fit(X_cnt)"
   ]
  },
  {
   "cell_type": "code",
   "execution_count": 244,
   "id": "69613cbe",
   "metadata": {},
   "outputs": [
    {
     "name": "stdout",
     "output_type": "stream",
     "text": [
      "Topic # 0\n",
      "oh love baby im oh oh yeah like dont come hey girl go 우우 boy know\n",
      "Topic # 1\n",
      "인증 성인 이용 보호 줄다 문제 법 lie 필요하다 후 코 따르다 뭔 데 날 두다 누\n",
      "Topic # 2\n",
      "라라라라 루루 라라라라 라라라라 라라라 라라라라 라라라 라라 맨 색깔 배 너무나 사랑 아들 개다 나타나다 다리 물어보다\n",
      "Topic # 3\n",
      "님 사랑 마음 가다 바람 꽃 내 밤 잊다 길 오다 가슴 그립다 노래 울다\n",
      "Topic # 4\n",
      "사랑 내 그대 없다 말 난 보다 날 수 널 사람 나르다 못 마음 니\n"
     ]
    }
   ],
   "source": [
    "def display_topics(model, feature_names, no_top_words):\n",
    "    for topic_index, topic in enumerate(model.components_):\n",
    "        print('Topic #',topic_index)\n",
    "        topic_word_indexes = topic.argsort()[::-1]\n",
    "        top_indexes=topic_word_indexes[:no_top_words]\n",
    "        feature_concat = ' '.join([feature_names[i] for i in top_indexes])\n",
    "        print(feature_concat)\n",
    "        \n",
    "feature_names = cnt_vect.get_feature_names_out()\n",
    "display_topics(lda, feature_names, 15)"
   ]
  },
  {
   "cell_type": "code",
   "execution_count": 263,
   "id": "7a61985c",
   "metadata": {},
   "outputs": [],
   "source": [
    "from sklearn.metrics.pairwise import cosine_similarity\n",
    "\n",
    "similary = cosine_similarity(X_cnt)"
   ]
  },
  {
   "cell_type": "code",
   "execution_count": 266,
   "id": "63e1c960",
   "metadata": {},
   "outputs": [],
   "source": [
    "index = np.argsort(similary, axis = 1)[:, ::-1]"
   ]
  },
  {
   "cell_type": "code",
   "execution_count": 269,
   "id": "95349f61",
   "metadata": {},
   "outputs": [
    {
     "data": {
      "text/html": [
       "<div>\n",
       "<style scoped>\n",
       "    .dataframe tbody tr th:only-of-type {\n",
       "        vertical-align: middle;\n",
       "    }\n",
       "\n",
       "    .dataframe tbody tr th {\n",
       "        vertical-align: top;\n",
       "    }\n",
       "\n",
       "    .dataframe thead th {\n",
       "        text-align: right;\n",
       "    }\n",
       "</style>\n",
       "<table border=\"1\" class=\"dataframe\">\n",
       "  <thead>\n",
       "    <tr style=\"text-align: right;\">\n",
       "      <th></th>\n",
       "      <th>ID</th>\n",
       "      <th>Year</th>\n",
       "      <th>Title</th>\n",
       "      <th>Singer</th>\n",
       "      <th>Lyric</th>\n",
       "    </tr>\n",
       "  </thead>\n",
       "  <tbody>\n",
       "    <tr>\n",
       "      <th>678</th>\n",
       "      <td>679</td>\n",
       "      <td>1985</td>\n",
       "      <td>너의 의미</td>\n",
       "      <td>산울림</td>\n",
       "      <td>너의 그 한 마디 말도 그 웃음도 나에겐 커다란 의미 너의 그 작은 눈빛도 쓸쓸한 ...</td>\n",
       "    </tr>\n",
       "  </tbody>\n",
       "</table>\n",
       "</div>"
      ],
      "text/plain": [
       "      ID  Year  Title Singer  \\\n",
       "678  679  1985  너의 의미    산울림   \n",
       "\n",
       "                                                 Lyric  \n",
       "678  너의 그 한 마디 말도 그 웃음도 나에겐 커다란 의미 너의 그 작은 눈빛도 쓸쓸한 ...  "
      ]
     },
     "execution_count": 269,
     "metadata": {},
     "output_type": "execute_result"
    }
   ],
   "source": [
    "df[df['Title'] == '너의 의미']"
   ]
  },
  {
   "cell_type": "code",
   "execution_count": 270,
   "id": "b5d9566b",
   "metadata": {},
   "outputs": [
    {
     "data": {
      "text/html": [
       "<div>\n",
       "<style scoped>\n",
       "    .dataframe tbody tr th:only-of-type {\n",
       "        vertical-align: middle;\n",
       "    }\n",
       "\n",
       "    .dataframe tbody tr th {\n",
       "        vertical-align: top;\n",
       "    }\n",
       "\n",
       "    .dataframe thead th {\n",
       "        text-align: right;\n",
       "    }\n",
       "</style>\n",
       "<table border=\"1\" class=\"dataframe\">\n",
       "  <thead>\n",
       "    <tr style=\"text-align: right;\">\n",
       "      <th></th>\n",
       "      <th>ID</th>\n",
       "      <th>Year</th>\n",
       "      <th>Title</th>\n",
       "      <th>Singer</th>\n",
       "      <th>Lyric</th>\n",
       "    </tr>\n",
       "  </thead>\n",
       "  <tbody>\n",
       "    <tr>\n",
       "      <th>678</th>\n",
       "      <td>679</td>\n",
       "      <td>1985</td>\n",
       "      <td>너의 의미</td>\n",
       "      <td>산울림</td>\n",
       "      <td>너의 그 한 마디 말도 그 웃음도 나에겐 커다란 의미 너의 그 작은 눈빛도 쓸쓸한 ...</td>\n",
       "    </tr>\n",
       "    <tr>\n",
       "      <th>1994</th>\n",
       "      <td>1995</td>\n",
       "      <td>2014</td>\n",
       "      <td>너의 의미 (Feat. 김창완)</td>\n",
       "      <td>아이유</td>\n",
       "      <td>너의 그 한 마디 말도 그 웃음도 나에겐 커다란 의미 너의 그 작은 눈빛도 쓸쓸한 ...</td>\n",
       "    </tr>\n",
       "  </tbody>\n",
       "</table>\n",
       "</div>"
      ],
      "text/plain": [
       "        ID  Year              Title Singer  \\\n",
       "678    679  1985              너의 의미    산울림   \n",
       "1994  1995  2014  너의 의미 (Feat. 김창완)    아이유   \n",
       "\n",
       "                                                  Lyric  \n",
       "678   너의 그 한 마디 말도 그 웃음도 나에겐 커다란 의미 너의 그 작은 눈빛도 쓸쓸한 ...  \n",
       "1994  너의 그 한 마디 말도 그 웃음도 나에겐 커다란 의미 너의 그 작은 눈빛도 쓸쓸한 ...  "
      ]
     },
     "execution_count": 270,
     "metadata": {},
     "output_type": "execute_result"
    }
   ],
   "source": [
    "df[df['Title'].str.contains('너의 의미')]"
   ]
  },
  {
   "cell_type": "code",
   "execution_count": 271,
   "id": "ca240836",
   "metadata": {},
   "outputs": [],
   "source": [
    "similary = cosine_similarity(X_cnt[1994], X_cnt)"
   ]
  },
  {
   "cell_type": "code",
   "execution_count": 275,
   "id": "3ce41ff2",
   "metadata": {},
   "outputs": [
    {
     "data": {
      "text/plain": [
       "array([[1994,  678,  670, ...,  905,  373,  614]], dtype=int64)"
      ]
     },
     "execution_count": 275,
     "metadata": {},
     "output_type": "execute_result"
    }
   ],
   "source": [
    "np.argsort(similary, axis = 1)[:, ::-1]"
   ]
  },
  {
   "cell_type": "code",
   "execution_count": 276,
   "id": "fb1e3c1e",
   "metadata": {},
   "outputs": [
    {
     "data": {
      "text/plain": [
       "array([[1.        , 0.97988837, 0.17245517, ..., 0.        , 0.        ,\n",
       "        0.        ]])"
      ]
     },
     "execution_count": 276,
     "metadata": {},
     "output_type": "execute_result"
    }
   ],
   "source": [
    "np.sort(similary, axis = 1)[:, ::-1]"
   ]
  },
  {
   "cell_type": "code",
   "execution_count": 277,
   "id": "7e9de99a",
   "metadata": {},
   "outputs": [
    {
     "data": {
      "text/plain": [
       "'너의 그 한 마디 말도 그 웃음도 나에겐 커다란 의미 너의 그 작은 눈빛도 쓸쓸한 그 뒷모습도 나에겐 힘겨운 약속 너의 모든 것은 내게로 와 풀리지 않는 수수께끼가 되네 슬픔은 간이역의 코스모스로 피고 스쳐 불어온 넌 향긋한 바람 나 이제 뭉게구름 위에 성을 짓고 널 향해 창을 내리 바람드는 창을 너의 그 한 마디 말도 그 웃음도 나에겐 커다란 의미 너의 그 작은 눈빛도 쓸쓸한 그 뒷모습도 나에겐 힘겨운 약속 너의 그 한 마디 말도 그 웃음도 나에겐 커다란 의미 너의 그 작은 눈빛도 쓸쓸한 그 뒷모습도 나에겐 힘겨운 약속 너의 모든 것은 내게로 와 풀리지 않는 수수께끼가 되네 슬픔은 간이역의 코스모스로 피고 스쳐 불어온 넌 향긋한 바람 나 이제 뭉게구름 위에 성을 짓고 널 향해 창을 내리 바람드는 창을 펼치기'"
      ]
     },
     "execution_count": 277,
     "metadata": {},
     "output_type": "execute_result"
    }
   ],
   "source": [
    "df.loc[678, 'Lyric']"
   ]
  },
  {
   "cell_type": "code",
   "execution_count": 278,
   "id": "3bed46c6",
   "metadata": {},
   "outputs": [
    {
     "data": {
      "text/plain": [
       "'너의 그 한 마디 말도 그 웃음도 나에겐 커다란 의미 너의 그 작은 눈빛도 쓸쓸한 그 뒷모습도 나에겐 힘겨운 약속 너의 모든 것은 내게로 와 풀리지 않는 수수께끼가 되네 슬픔은 간이역의 코스모스로 피고 스쳐 불어온 넌 향긋한 바람 나 이제 뭉게구름 위에 성을 짓고 널 향해 창을 내리 바람 드는 창을 너의 그 한 마디 말도 그 웃음도 나에겐 커다란 의미 너의 그 작은 눈빛도 쓸쓸한 그 뒷모습도 나에겐 힘겨운 약속 너의 모든 것은 내게로 와 풀리지 않는 수수께끼가 되네 슬픔은 간이역의 코스모스로 피고 스쳐 불어온 넌 향긋한 바람 나 이제 뭉게구름 위에 성을 짓고 널 향해 창을 내리 바람 드는 창을 슬픔은 간이역의 코스모스로 피고 스쳐 불어온 넌 향긋한 바람 나 이제 뭉게구름 위에 성을 짓고 널 향해 창을 내리 바람 드는 창을 너의 그 한 마디 말도 그 웃음도 나에겐 커다란 의미 너의 그 작은 눈빛도 쓸쓸한 그 뒷모습도 나에겐 힘겨운 약속 펼치기'"
      ]
     },
     "execution_count": 278,
     "metadata": {},
     "output_type": "execute_result"
    }
   ],
   "source": [
    "df.loc[1994, 'Lyric']"
   ]
  },
  {
   "cell_type": "code",
   "execution_count": 280,
   "id": "e3964970",
   "metadata": {},
   "outputs": [
    {
     "data": {
      "text/plain": [
       "<1x3218 sparse matrix of type '<class 'numpy.float64'>'\n",
       "\twith 33 stored elements in Compressed Sparse Row format>"
      ]
     },
     "execution_count": 280,
     "metadata": {},
     "output_type": "execute_result"
    }
   ],
   "source": [
    "X_cnt[1994]"
   ]
  },
  {
   "cell_type": "code",
   "execution_count": 285,
   "id": "6512a78b",
   "metadata": {},
   "outputs": [
    {
     "name": "stdout",
     "output_type": "stream",
     "text": [
      "0.46331493441196214\n"
     ]
    },
    {
     "data": {
      "text/plain": [
       "Title                             나 왜이래 (Feat. 강민희 Of 미스에스)\n",
       "Singer                                                San E\n",
       "Lyric     나 왜이래 널 바라보면 나 왜이래 표정관리가 안돼 얼굴에 써있나봐 널 원하고 있다고...\n",
       "Name: 1997, dtype: object"
      ]
     },
     "execution_count": 285,
     "metadata": {},
     "output_type": "execute_result"
    }
   ],
   "source": [
    "new_lyric = '''Dearest, darling, my universe\n",
    "날 데려가 줄래?\n",
    "나의 이 가난한 상상력으론\n",
    "떠올릴 수 없는 곳으로\n",
    "저기 멀리 from Earth to Mars\n",
    "꼭 같이 가줄래?\n",
    "그곳이 어디든\n",
    "오랜 외로움, 그 반대말을 찾아서\n",
    "어떤 실수로\n",
    "이토록 우리는 함께일까?\n",
    "세상에게서 도망쳐 run on\n",
    "나와 저 끝까지 가줘 my lover\n",
    "나쁜 결말일까?\n",
    "길 잃은 우리 둘 mm\n",
    "부서지도록 나를 꼭 안아\n",
    "더 사랑히 내게 입 맞춰 lover\n",
    "Love is all, love is all\n",
    "Love, love, love, love\n",
    "결국, 그럼에도\n",
    "어째서 우리는 서로일까?\n",
    "세상에게서 도망쳐 run on\n",
    "나와 저 끝까지 가줘 my lover\n",
    "나쁜 결말일까?\n",
    "길 잃은 우리 둘 mm\n",
    "찬찬히 너를 두 눈에 담아\n",
    "한 번 더 편안히 웃어주렴\n",
    "유영하듯 떠오른\n",
    "그날 그 밤처럼\n",
    "나와 함께 겁 없이 저물어줄래?\n",
    "산산히 나를 더 망쳐 ruiner\n",
    "너와 슬퍼지고 싶어 my lover\n",
    "필연에게서 도망쳐 run on\n",
    "나와 저 끝까지 가줘 my lover\n",
    "일부러 나란히 길 잃은 우리 두 사람\n",
    "부서지도록 나를 꼭 안아\n",
    "더 사랑히 내게 입 맞춰 lover\n",
    "Our love wins all, love wins all\n",
    "Love, love, love, love\n",
    "'''\n",
    "new_lyric = cleaning(new_lyric)\n",
    "\n",
    "test = cnt_vect.transform([new_lyric])\n",
    "similary = cosine_similarity( test, X_cnt)\n",
    "index = np.argsort(similary, axis = 1)[:, ::-1][0,0]\n",
    "value = np.sort(similary, axis = 1)[:, ::-1][0,0]\n",
    "print(value)\n",
    "df.loc[index, ['Title', 'Singer', 'Lyric']]"
   ]
  },
  {
   "cell_type": "code",
   "execution_count": 286,
   "id": "01c626c8",
   "metadata": {},
   "outputs": [
    {
     "data": {
      "text/html": [
       "<div>\n",
       "<style scoped>\n",
       "    .dataframe tbody tr th:only-of-type {\n",
       "        vertical-align: middle;\n",
       "    }\n",
       "\n",
       "    .dataframe tbody tr th {\n",
       "        vertical-align: top;\n",
       "    }\n",
       "\n",
       "    .dataframe thead th {\n",
       "        text-align: right;\n",
       "    }\n",
       "</style>\n",
       "<table border=\"1\" class=\"dataframe\">\n",
       "  <thead>\n",
       "    <tr style=\"text-align: right;\">\n",
       "      <th></th>\n",
       "      <th>content</th>\n",
       "      <th>target</th>\n",
       "    </tr>\n",
       "  </thead>\n",
       "  <tbody>\n",
       "    <tr>\n",
       "      <th>0</th>\n",
       "      <td>이종석 한효주 나오는 드라마 이후로 드라마 안봤다. 2년전인가?? 좀 신선했었지. ...</td>\n",
       "      <td>0</td>\n",
       "    </tr>\n",
       "    <tr>\n",
       "      <th>1</th>\n",
       "      <td>씨바알..노무노무 술프노... 오늘 저녁은 꽂등심이다ㅠㅜ</td>\n",
       "      <td>0</td>\n",
       "    </tr>\n",
       "    <tr>\n",
       "      <th>2</th>\n",
       "      <td>짱깨 꺼라ㅡ패쓰</td>\n",
       "      <td>0</td>\n",
       "    </tr>\n",
       "    <tr>\n",
       "      <th>3</th>\n",
       "      <td>그들의 사생활 ~ 고인이된 설리를 위해서라도 모두 조용하길 지금 누굴 탓한다고 무슨...</td>\n",
       "      <td>1</td>\n",
       "    </tr>\n",
       "    <tr>\n",
       "      <th>4</th>\n",
       "      <td>아무리 법이 뭣같아도 무슨 자격으로 개인의 신상정보를 불특정 다수에게 공개하는지 도...</td>\n",
       "      <td>1</td>\n",
       "    </tr>\n",
       "    <tr>\n",
       "      <th>...</th>\n",
       "      <td>...</td>\n",
       "      <td>...</td>\n",
       "    </tr>\n",
       "    <tr>\n",
       "      <th>9970</th>\n",
       "      <td>이거 보다 더한 막장의 드라마도 넋놓고 보면서 무슨?</td>\n",
       "      <td>1</td>\n",
       "    </tr>\n",
       "    <tr>\n",
       "      <th>9971</th>\n",
       "      <td>머...제네시스..올라프에디션?</td>\n",
       "      <td>1</td>\n",
       "    </tr>\n",
       "    <tr>\n",
       "      <th>9972</th>\n",
       "      <td>항상 여자로 ㅡ ㅡ 저지랄 들이야 남자들 벗겨봐라</td>\n",
       "      <td>0</td>\n",
       "    </tr>\n",
       "    <tr>\n",
       "      <th>9973</th>\n",
       "      <td>첫번째 이유가 ㄹㅇ 맞지특히나 뉴스나 기사 몇줄읽은 학생들끼리 대화해도 서로 존나 ...</td>\n",
       "      <td>0</td>\n",
       "    </tr>\n",
       "    <tr>\n",
       "      <th>9974</th>\n",
       "      <td>Lg폰 누가쓰냐 gps도 못잡는폰 쓰래기 통에나 버려라</td>\n",
       "      <td>0</td>\n",
       "    </tr>\n",
       "  </tbody>\n",
       "</table>\n",
       "<p>9975 rows × 2 columns</p>\n",
       "</div>"
      ],
      "text/plain": [
       "                                                content  target\n",
       "0     이종석 한효주 나오는 드라마 이후로 드라마 안봤다. 2년전인가?? 좀 신선했었지. ...       0\n",
       "1                       씨바알..노무노무 술프노... 오늘 저녁은 꽂등심이다ㅠㅜ       0\n",
       "2                                              짱깨 꺼라ㅡ패쓰       0\n",
       "3     그들의 사생활 ~ 고인이된 설리를 위해서라도 모두 조용하길 지금 누굴 탓한다고 무슨...       1\n",
       "4     아무리 법이 뭣같아도 무슨 자격으로 개인의 신상정보를 불특정 다수에게 공개하는지 도...       1\n",
       "...                                                 ...     ...\n",
       "9970                      이거 보다 더한 막장의 드라마도 넋놓고 보면서 무슨?       1\n",
       "9971                                  머...제네시스..올라프에디션?       1\n",
       "9972                        항상 여자로 ㅡ ㅡ 저지랄 들이야 남자들 벗겨봐라       0\n",
       "9973  첫번째 이유가 ㄹㅇ 맞지특히나 뉴스나 기사 몇줄읽은 학생들끼리 대화해도 서로 존나 ...       0\n",
       "9974                     Lg폰 누가쓰냐 gps도 못잡는폰 쓰래기 통에나 버려라       0\n",
       "\n",
       "[9975 rows x 2 columns]"
      ]
     },
     "execution_count": 286,
     "metadata": {},
     "output_type": "execute_result"
    }
   ],
   "source": [
    "pd.read_csv('악플 데이터.csv')"
   ]
  },
  {
   "cell_type": "code",
   "execution_count": 288,
   "id": "60a32cef",
   "metadata": {},
   "outputs": [],
   "source": [
    "df = pd.read_csv('unsmile_data.csv')"
   ]
  },
  {
   "cell_type": "code",
   "execution_count": 297,
   "id": "383af1c5",
   "metadata": {
    "collapsed": true
   },
   "outputs": [
    {
     "data": {
      "text/html": [
       "<div>\n",
       "<style scoped>\n",
       "    .dataframe tbody tr th:only-of-type {\n",
       "        vertical-align: middle;\n",
       "    }\n",
       "\n",
       "    .dataframe tbody tr th {\n",
       "        vertical-align: top;\n",
       "    }\n",
       "\n",
       "    .dataframe thead th {\n",
       "        text-align: right;\n",
       "    }\n",
       "</style>\n",
       "<table border=\"1\" class=\"dataframe\">\n",
       "  <thead>\n",
       "    <tr style=\"text-align: right;\">\n",
       "      <th></th>\n",
       "      <th>species</th>\n",
       "    </tr>\n",
       "  </thead>\n",
       "  <tbody>\n",
       "    <tr>\n",
       "      <th>0</th>\n",
       "      <td>setosa</td>\n",
       "    </tr>\n",
       "    <tr>\n",
       "      <th>1</th>\n",
       "      <td>setosa</td>\n",
       "    </tr>\n",
       "    <tr>\n",
       "      <th>2</th>\n",
       "      <td>setosa</td>\n",
       "    </tr>\n",
       "    <tr>\n",
       "      <th>3</th>\n",
       "      <td>setosa</td>\n",
       "    </tr>\n",
       "    <tr>\n",
       "      <th>4</th>\n",
       "      <td>setosa</td>\n",
       "    </tr>\n",
       "    <tr>\n",
       "      <th>...</th>\n",
       "      <td>...</td>\n",
       "    </tr>\n",
       "    <tr>\n",
       "      <th>145</th>\n",
       "      <td>virginica</td>\n",
       "    </tr>\n",
       "    <tr>\n",
       "      <th>146</th>\n",
       "      <td>virginica</td>\n",
       "    </tr>\n",
       "    <tr>\n",
       "      <th>147</th>\n",
       "      <td>virginica</td>\n",
       "    </tr>\n",
       "    <tr>\n",
       "      <th>148</th>\n",
       "      <td>virginica</td>\n",
       "    </tr>\n",
       "    <tr>\n",
       "      <th>149</th>\n",
       "      <td>virginica</td>\n",
       "    </tr>\n",
       "  </tbody>\n",
       "</table>\n",
       "<p>150 rows × 1 columns</p>\n",
       "</div>"
      ],
      "text/plain": [
       "       species\n",
       "0       setosa\n",
       "1       setosa\n",
       "2       setosa\n",
       "3       setosa\n",
       "4       setosa\n",
       "..         ...\n",
       "145  virginica\n",
       "146  virginica\n",
       "147  virginica\n",
       "148  virginica\n",
       "149  virginica\n",
       "\n",
       "[150 rows x 1 columns]"
      ]
     },
     "execution_count": 297,
     "metadata": {},
     "output_type": "execute_result"
    }
   ],
   "source": [
    "import seaborn as sns\n",
    "\n",
    "sns.load_dataset('iris')[['species']]"
   ]
  },
  {
   "cell_type": "code",
   "execution_count": 303,
   "id": "32d222cb",
   "metadata": {},
   "outputs": [],
   "source": [
    "y = df.iloc[:, 1:]\n",
    "y_label = pd.DataFrame({'target': y.columns})"
   ]
  },
  {
   "cell_type": "code",
   "execution_count": 304,
   "id": "5e0c5d41",
   "metadata": {},
   "outputs": [
    {
     "data": {
      "text/html": [
       "<style>#sk-container-id-15 {color: black;}#sk-container-id-15 pre{padding: 0;}#sk-container-id-15 div.sk-toggleable {background-color: white;}#sk-container-id-15 label.sk-toggleable__label {cursor: pointer;display: block;width: 100%;margin-bottom: 0;padding: 0.3em;box-sizing: border-box;text-align: center;}#sk-container-id-15 label.sk-toggleable__label-arrow:before {content: \"▸\";float: left;margin-right: 0.25em;color: #696969;}#sk-container-id-15 label.sk-toggleable__label-arrow:hover:before {color: black;}#sk-container-id-15 div.sk-estimator:hover label.sk-toggleable__label-arrow:before {color: black;}#sk-container-id-15 div.sk-toggleable__content {max-height: 0;max-width: 0;overflow: hidden;text-align: left;background-color: #f0f8ff;}#sk-container-id-15 div.sk-toggleable__content pre {margin: 0.2em;color: black;border-radius: 0.25em;background-color: #f0f8ff;}#sk-container-id-15 input.sk-toggleable__control:checked~div.sk-toggleable__content {max-height: 200px;max-width: 100%;overflow: auto;}#sk-container-id-15 input.sk-toggleable__control:checked~label.sk-toggleable__label-arrow:before {content: \"▾\";}#sk-container-id-15 div.sk-estimator input.sk-toggleable__control:checked~label.sk-toggleable__label {background-color: #d4ebff;}#sk-container-id-15 div.sk-label input.sk-toggleable__control:checked~label.sk-toggleable__label {background-color: #d4ebff;}#sk-container-id-15 input.sk-hidden--visually {border: 0;clip: rect(1px 1px 1px 1px);clip: rect(1px, 1px, 1px, 1px);height: 1px;margin: -1px;overflow: hidden;padding: 0;position: absolute;width: 1px;}#sk-container-id-15 div.sk-estimator {font-family: monospace;background-color: #f0f8ff;border: 1px dotted black;border-radius: 0.25em;box-sizing: border-box;margin-bottom: 0.5em;}#sk-container-id-15 div.sk-estimator:hover {background-color: #d4ebff;}#sk-container-id-15 div.sk-parallel-item::after {content: \"\";width: 100%;border-bottom: 1px solid gray;flex-grow: 1;}#sk-container-id-15 div.sk-label:hover label.sk-toggleable__label {background-color: #d4ebff;}#sk-container-id-15 div.sk-serial::before {content: \"\";position: absolute;border-left: 1px solid gray;box-sizing: border-box;top: 0;bottom: 0;left: 50%;z-index: 0;}#sk-container-id-15 div.sk-serial {display: flex;flex-direction: column;align-items: center;background-color: white;padding-right: 0.2em;padding-left: 0.2em;position: relative;}#sk-container-id-15 div.sk-item {position: relative;z-index: 1;}#sk-container-id-15 div.sk-parallel {display: flex;align-items: stretch;justify-content: center;background-color: white;position: relative;}#sk-container-id-15 div.sk-item::before, #sk-container-id-15 div.sk-parallel-item::before {content: \"\";position: absolute;border-left: 1px solid gray;box-sizing: border-box;top: 0;bottom: 0;left: 50%;z-index: -1;}#sk-container-id-15 div.sk-parallel-item {display: flex;flex-direction: column;z-index: 1;position: relative;background-color: white;}#sk-container-id-15 div.sk-parallel-item:first-child::after {align-self: flex-end;width: 50%;}#sk-container-id-15 div.sk-parallel-item:last-child::after {align-self: flex-start;width: 50%;}#sk-container-id-15 div.sk-parallel-item:only-child::after {width: 0;}#sk-container-id-15 div.sk-dashed-wrapped {border: 1px dashed gray;margin: 0 0.4em 0.5em 0.4em;box-sizing: border-box;padding-bottom: 0.4em;background-color: white;}#sk-container-id-15 div.sk-label label {font-family: monospace;font-weight: bold;display: inline-block;line-height: 1.2em;}#sk-container-id-15 div.sk-label-container {text-align: center;}#sk-container-id-15 div.sk-container {/* jupyter's `normalize.less` sets `[hidden] { display: none; }` but bootstrap.min.css set `[hidden] { display: none !important; }` so we also need the `!important` here to be able to override the default hidden behavior on the sphinx rendered scikit-learn.org. See: https://github.com/scikit-learn/scikit-learn/issues/21755 */display: inline-block !important;position: relative;}#sk-container-id-15 div.sk-text-repr-fallback {display: none;}</style><div id=\"sk-container-id-15\" class=\"sk-top-container\"><div class=\"sk-text-repr-fallback\"><pre>OneHotEncoder()</pre><b>In a Jupyter environment, please rerun this cell to show the HTML representation or trust the notebook. <br />On GitHub, the HTML representation is unable to render, please try loading this page with nbviewer.org.</b></div><div class=\"sk-container\" hidden><div class=\"sk-item\"><div class=\"sk-estimator sk-toggleable\"><input class=\"sk-toggleable__control sk-hidden--visually\" id=\"sk-estimator-id-15\" type=\"checkbox\" checked><label for=\"sk-estimator-id-15\" class=\"sk-toggleable__label sk-toggleable__label-arrow\">OneHotEncoder</label><div class=\"sk-toggleable__content\"><pre>OneHotEncoder()</pre></div></div></div></div></div>"
      ],
      "text/plain": [
       "OneHotEncoder()"
      ]
     },
     "execution_count": 304,
     "metadata": {},
     "output_type": "execute_result"
    }
   ],
   "source": [
    "from sklearn.preprocessing import OneHotEncoder\n",
    "\n",
    "oh_enc = OneHotEncoder()\n",
    "oh_enc.fit(y_label)"
   ]
  },
  {
   "cell_type": "code",
   "execution_count": 308,
   "id": "da6b4ab9",
   "metadata": {},
   "outputs": [
    {
     "data": {
      "text/plain": [
       "array(['clean', '개인지칭', '기타 혐오', '남성', '성소수자', '악플/욕설', '여성/가족', '연령',\n",
       "       '인종/국적', '종교', '지역'], dtype=object)"
      ]
     },
     "execution_count": 308,
     "metadata": {},
     "output_type": "execute_result"
    }
   ],
   "source": [
    "oh_enc.categories_[0]"
   ]
  },
  {
   "cell_type": "code",
   "execution_count": 312,
   "id": "a2456c47",
   "metadata": {},
   "outputs": [],
   "source": [
    "y_oh = y[oh_enc.categories_[0]]"
   ]
  },
  {
   "cell_type": "code",
   "execution_count": 316,
   "id": "4228042f",
   "metadata": {},
   "outputs": [],
   "source": [
    "y_oh.drop([5876, 11942], inplace=True)"
   ]
  },
  {
   "cell_type": "code",
   "execution_count": 317,
   "id": "f68a31d4",
   "metadata": {},
   "outputs": [
    {
     "data": {
      "text/plain": [
       "array([['clean'],\n",
       "       ['종교'],\n",
       "       ['clean'],\n",
       "       ...,\n",
       "       ['인종/국적'],\n",
       "       ['여성/가족'],\n",
       "       ['남성']], dtype=object)"
      ]
     },
     "execution_count": 317,
     "metadata": {},
     "output_type": "execute_result"
    }
   ],
   "source": [
    "oh_enc.inverse_transform(y_oh)"
   ]
  },
  {
   "cell_type": "code",
   "execution_count": 322,
   "id": "863a8fb8",
   "metadata": {},
   "outputs": [
    {
     "data": {
      "text/html": [
       "<div>\n",
       "<style scoped>\n",
       "    .dataframe tbody tr th:only-of-type {\n",
       "        vertical-align: middle;\n",
       "    }\n",
       "\n",
       "    .dataframe tbody tr th {\n",
       "        vertical-align: top;\n",
       "    }\n",
       "\n",
       "    .dataframe thead th {\n",
       "        text-align: right;\n",
       "    }\n",
       "</style>\n",
       "<table border=\"1\" class=\"dataframe\">\n",
       "  <thead>\n",
       "    <tr style=\"text-align: right;\">\n",
       "      <th></th>\n",
       "      <th>문장</th>\n",
       "      <th>정답</th>\n",
       "    </tr>\n",
       "  </thead>\n",
       "  <tbody>\n",
       "    <tr>\n",
       "      <th>0</th>\n",
       "      <td>일안하는 시간은 쉬고싶어서 그런게 아닐까</td>\n",
       "      <td>clean</td>\n",
       "    </tr>\n",
       "    <tr>\n",
       "      <th>1</th>\n",
       "      <td>아동성범죄와 페도버는 기록바 끊어져 영원히 고통 받는다. 무슬림 50퍼 근친이다. ...</td>\n",
       "      <td>종교</td>\n",
       "    </tr>\n",
       "    <tr>\n",
       "      <th>2</th>\n",
       "      <td>루나 솔로앨범 나왔을 때부터 머모 기운 있었음 ㅇㅇ Keep o  doin 진짜 띵...</td>\n",
       "      <td>clean</td>\n",
       "    </tr>\n",
       "    <tr>\n",
       "      <th>3</th>\n",
       "      <td>홍팍에도 어버이연합인가 보내요 뭐 이런뎃글 있는데 이거 어버이연합측에 신고하면 그쪽...</td>\n",
       "      <td>clean</td>\n",
       "    </tr>\n",
       "    <tr>\n",
       "      <th>4</th>\n",
       "      <td>아놔 왜 여기 댓들은 다 여자들이 김치녀라고 먼저 불렸다! 여자들은 더 심하게 그런...</td>\n",
       "      <td>여성/가족</td>\n",
       "    </tr>\n",
       "    <tr>\n",
       "      <th>...</th>\n",
       "      <td>...</td>\n",
       "      <td>...</td>\n",
       "    </tr>\n",
       "    <tr>\n",
       "      <th>18737</th>\n",
       "      <td>저게 시대적언어면 한남충도 시대적언어 아니노 ㅋㅋ</td>\n",
       "      <td>남성</td>\n",
       "    </tr>\n",
       "    <tr>\n",
       "      <th>18738</th>\n",
       "      <td>다른것보다 눈이 어떻게 저렇게 생기노.탄식.</td>\n",
       "      <td>악플/욕설</td>\n",
       "    </tr>\n",
       "    <tr>\n",
       "      <th>18739</th>\n",
       "      <td>막노동을 해도 한국에살고말지 미쳤다고 남미를가냐?차라리 자살을하겠다.</td>\n",
       "      <td>인종/국적</td>\n",
       "    </tr>\n",
       "    <tr>\n",
       "      <th>18740</th>\n",
       "      <td>‘사형을 구형하였으나 여성인 점을 감안해 25년 선고’ ???내가 뭐 잘못본건가?개...</td>\n",
       "      <td>여성/가족</td>\n",
       "    </tr>\n",
       "    <tr>\n",
       "      <th>18741</th>\n",
       "      <td>참군남이노 남자의 용도는 고기방패다 ㅋㅋㅋ</td>\n",
       "      <td>남성</td>\n",
       "    </tr>\n",
       "  </tbody>\n",
       "</table>\n",
       "<p>18740 rows × 2 columns</p>\n",
       "</div>"
      ],
      "text/plain": [
       "                                                      문장     정답\n",
       "0                                 일안하는 시간은 쉬고싶어서 그런게 아닐까  clean\n",
       "1      아동성범죄와 페도버는 기록바 끊어져 영원히 고통 받는다. 무슬림 50퍼 근친이다. ...     종교\n",
       "2      루나 솔로앨범 나왔을 때부터 머모 기운 있었음 ㅇㅇ Keep o  doin 진짜 띵...  clean\n",
       "3      홍팍에도 어버이연합인가 보내요 뭐 이런뎃글 있는데 이거 어버이연합측에 신고하면 그쪽...  clean\n",
       "4      아놔 왜 여기 댓들은 다 여자들이 김치녀라고 먼저 불렸다! 여자들은 더 심하게 그런...  여성/가족\n",
       "...                                                  ...    ...\n",
       "18737                        저게 시대적언어면 한남충도 시대적언어 아니노 ㅋㅋ     남성\n",
       "18738                           다른것보다 눈이 어떻게 저렇게 생기노.탄식.  악플/욕설\n",
       "18739             막노동을 해도 한국에살고말지 미쳤다고 남미를가냐?차라리 자살을하겠다.  인종/국적\n",
       "18740  ‘사형을 구형하였으나 여성인 점을 감안해 25년 선고’ ???내가 뭐 잘못본건가?개...  여성/가족\n",
       "18741                            참군남이노 남자의 용도는 고기방패다 ㅋㅋㅋ     남성\n",
       "\n",
       "[18740 rows x 2 columns]"
      ]
     },
     "execution_count": 322,
     "metadata": {},
     "output_type": "execute_result"
    }
   ],
   "source": [
    "data = df[['문장']]\n",
    "data.drop([5876, 11942], inplace=True)\n",
    "data[['정답']] = oh_enc.inverse_transform(y_oh)\n",
    "data"
   ]
  },
  {
   "cell_type": "code",
   "execution_count": null,
   "id": "2d4874c4",
   "metadata": {},
   "outputs": [],
   "source": []
  }
 ],
 "metadata": {
  "kernelspec": {
   "display_name": "Python 3 (ipykernel)",
   "language": "python",
   "name": "python3"
  },
  "language_info": {
   "codemirror_mode": {
    "name": "ipython",
    "version": 3
   },
   "file_extension": ".py",
   "mimetype": "text/x-python",
   "name": "python",
   "nbconvert_exporter": "python",
   "pygments_lexer": "ipython3",
   "version": "3.11.5"
  }
 },
 "nbformat": 4,
 "nbformat_minor": 5
}
