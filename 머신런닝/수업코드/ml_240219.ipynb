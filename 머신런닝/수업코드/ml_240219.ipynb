{
 "cells": [
  {
   "cell_type": "code",
   "execution_count": null,
   "id": "5fe414e1-b6d1-4946-993c-0f712eafb804",
   "metadata": {},
   "outputs": [],
   "source": [
    "import pandas as pd\n",
    "import numpy as np\n",
    "import sklearn\n",
    "from sklearn.datasets import load_iris\n",
    "from sklearn.tree import DecisionTreeClassifier\n",
    "from sklearn.tree import DecisionTreeRegressor\n",
    "from sklearn.model_selection import train_test_split,KFold,StratifiedKFold\n",
    "from sklearn.model_selection import cross_val_score, cross_validate, GridSearchCV\n",
    "from sklearn.preprocessing import LabelEncoder, OneHotEncoder\n",
    "from sklearn.metrics import accuracy_score"
   ]
  },
  {
   "cell_type": "code",
   "execution_count": null,
   "id": "03d305d4-9325-4032-be93-a6cca3be02ed",
   "metadata": {},
   "outputs": [],
   "source": [
    "import matplotlib.pyplot as plt\n",
    "import seaborn as sns\n",
    "%matplotlib inline\n",
    "\n",
    "plt.rcParams['figure.figsize']=(4,3) "
   ]
  },
  {
   "cell_type": "code",
   "execution_count": null,
   "id": "0fbfa3e0-131d-4892-bc4b-1307393a4dc2",
   "metadata": {},
   "outputs": [],
   "source": [
    "titanic_df= pd.read_csv('../data/titanic.csv')\n",
    "titanic_my= pd.read_csv('../data/titanic.csv')\n"
   ]
  },
  {
   "cell_type": "code",
   "execution_count": null,
   "id": "ea15f71a-c029-42d4-b2a3-9f2fda99cf57",
   "metadata": {},
   "outputs": [],
   "source": [
    "titanic_df.info()"
   ]
  },
  {
   "cell_type": "code",
   "execution_count": null,
   "id": "a04bb35a-af13-419d-9963-904353cb228a",
   "metadata": {},
   "outputs": [],
   "source": [
    "# sns에서 제공하는 titanic 데이터\n",
    "sns.load_dataset('titanic')"
   ]
  },
  {
   "cell_type": "code",
   "execution_count": null,
   "id": "dab1d4c6-04ad-4b6f-9606-1557d1c574a4",
   "metadata": {},
   "outputs": [],
   "source": [
    "titanic_df['Age'].fillna(titanic_df['Age'].mean(), inplace=True)\n",
    "titanic_df['Cabin'].fillna('N', inplace=True)\n",
    "titanic_df['Embarked'].fillna('N', inplace=True)\n",
    "print('데이터 세트 Null 값 개수 :', titanic_df.isnull().sum().sum())"
   ]
  },
  {
   "cell_type": "code",
   "execution_count": null,
   "id": "e8f0dc2e-66eb-4082-b2a9-db852100bd75",
   "metadata": {},
   "outputs": [],
   "source": [
    "print('성별 값 분포 :\\n', titanic_df['Sex'].value_counts())\n",
    "print('선실 값 분포 :\\n', titanic_df['Cabin'].value_counts())\n",
    "print(' 값 분포 :\\n', titanic_df['Embarked'].value_counts())"
   ]
  },
  {
   "cell_type": "code",
   "execution_count": null,
   "id": "c69d5b4f-3cf8-4235-b079-95d7a997cf73",
   "metadata": {},
   "outputs": [],
   "source": [
    "titanic_df['Cabin'] = titanic_df['Cabin'].str[:1]\n",
    "print(titanic_df['Cabin'].head(3))"
   ]
  },
  {
   "cell_type": "code",
   "execution_count": null,
   "id": "d7c15ed9-314b-41bf-84a2-cc217db4c4d2",
   "metadata": {},
   "outputs": [],
   "source": [
    "titanic_df.groupby(['Sex', 'Survived'])['Survived'].count()"
   ]
  },
  {
   "cell_type": "code",
   "execution_count": null,
   "id": "57bc3d56-e283-4103-9a26-2b03880190a9",
   "metadata": {},
   "outputs": [],
   "source": [
    "def get_category(age):\n",
    "    cat = ''\n",
    "    if age <= -1: cat = 'Unknown'\n",
    "    elif age <= 5: cat = 'Baby'\n",
    "    elif age <= 12: cat = 'Child'\n",
    "    elif age <= 18: cat = 'Teenager'\n",
    "    elif age <= 25: cat = 'Student'\n",
    "    elif age <= 35: cat = 'Young Adult'\n",
    "    elif age <= 60: cat = 'Adult'\n",
    "    else : cat = 'Elderly' \n",
    "    return cat"
   ]
  },
  {
   "cell_type": "code",
   "execution_count": null,
   "id": "08d65705-d328-45cc-84ad-c7632465cc38",
   "metadata": {},
   "outputs": [],
   "source": [
    "plt.figure(figsize=(10, 6))\n",
    "group_names = ['Unknown', 'Baby', 'Child', 'Teenager', \n",
    "' Student', 'Young Adult', 'Adult', 'Elderly']\n",
    "titanic_df['Age_cat'] = titanic_df['Age'].apply(lambda x : get_category(x))\n",
    "sns.barplot(x = 'Age_cat', y = 'Survived', hue = 'Sex', \n",
    "data = titanic_df, order = group_names)"
   ]
  },
  {
   "cell_type": "code",
   "execution_count": null,
   "id": "4d6dd64e-106d-4407-b6d1-5bd4faff5699",
   "metadata": {},
   "outputs": [],
   "source": [
    "lb_enc =LabelEncoder()\n",
    "lb_enc.fit(titanic_df['Sex'])\n",
    "enc=lb_enc.transform(titanic_df['Sex'])\n",
    "titanic_df['Sex_enc']=enc"
   ]
  },
  {
   "cell_type": "code",
   "execution_count": null,
   "id": "241bdf99-7f63-4725-9d9b-169882c82a03",
   "metadata": {},
   "outputs": [],
   "source": [
    "titanic_df.head()"
   ]
  },
  {
   "cell_type": "code",
   "execution_count": null,
   "id": "3cc894df-c980-4dbc-8b3b-336e1bf90c2a",
   "metadata": {},
   "outputs": [],
   "source": [
    "lb_enc =OneHotEncoder()\n",
    "lb_enc.fit(titanic_df[['Sex']])\n",
    "enc=lb_enc.transform(titanic_df[['Sex']])\n",
    "enc"
   ]
  },
  {
   "cell_type": "code",
   "execution_count": null,
   "id": "132706e2-2e32-4420-b25a-e7bc19cfa349",
   "metadata": {},
   "outputs": [],
   "source": [
    "## 희소행렬를 2차원 배열로 변환 -데이터프레임으로 1\n",
    "pd.DataFrame(enc.toarray(), columns=['female','male'])\n",
    "\n",
    "## 희소행렬를 2차원 배열로 변환 -데이터프레임으로 2\n",
    "titanic_df[['female','male']]= enc.toarray()\n",
    "\n",
    "## concat으로 합치기\n",
    "pd.concat([titanic_df, pd.DataFrame(enc.toarray(), columns=['female','male'])], axis=1)"
   ]
  },
  {
   "cell_type": "code",
   "execution_count": null,
   "id": "85fbbd00-a249-433d-8cec-39db65824ee6",
   "metadata": {},
   "outputs": [],
   "source": [
    "## 희소행렬를 2차원 배열로 변환 -데이터프레임으로 2\n",
    "titanic_df[['female','male']]= enc.toarray()"
   ]
  },
  {
   "cell_type": "code",
   "execution_count": null,
   "id": "e02e75c9-b916-4d78-ab9b-a8761f220833",
   "metadata": {},
   "outputs": [],
   "source": [
    "titanic_df.drop(['female','male'], axis=1, inplace=True)"
   ]
  },
  {
   "cell_type": "code",
   "execution_count": null,
   "id": "c8990833-7f89-4f9b-92b3-b18ca3a2d240",
   "metadata": {},
   "outputs": [],
   "source": [
    "oh_enc=OneHotEncoder()\n",
    "result=oh_enc.fit_transform(titanic_df[['Cabin','Embarked']])\n",
    "print(result.toarray().shape)\n",
    "result.toarray()"
   ]
  },
  {
   "cell_type": "code",
   "execution_count": null,
   "id": "52c7d345-3bf4-4a2a-b29e-43b7e96ac05c",
   "metadata": {},
   "outputs": [],
   "source": [
    "titanic_df.drop(['Name','Ticket','PassengerId',], axis=1, inplace=True)"
   ]
  },
  {
   "cell_type": "code",
   "execution_count": null,
   "id": "97b7a1af-9267-4477-8ecb-72c48dc75d35",
   "metadata": {},
   "outputs": [],
   "source": [
    "titanic_df.drop(['Embarked'], axis=1, inplace=True)"
   ]
  },
  {
   "cell_type": "code",
   "execution_count": null,
   "id": "5c085fdb-e07a-41e9-aebc-5e2a65141ce7",
   "metadata": {},
   "outputs": [],
   "source": []
  },
  {
   "cell_type": "code",
   "execution_count": null,
   "id": "9de74b25-ebe6-4607-855c-596dd1db934f",
   "metadata": {},
   "outputs": [],
   "source": [
    "category=np.hstack(('cab_'+ oh_enc.categories_[0],'em_'+ oh_enc.categories_[1] ))\n",
    "# np.vstack 넘파이 배열을 수직으로 붙이기/합치기(np.hstack은 수평으로 붙이기)   # 공부할 것!!"
   ]
  },
  {
   "cell_type": "code",
   "execution_count": null,
   "id": "2d9f7b69-10c5-44d2-9812-e330948b11e2",
   "metadata": {},
   "outputs": [],
   "source": [
    "pd.DataFrame(result.toarray(), columns=category)"
   ]
  },
  {
   "cell_type": "code",
   "execution_count": null,
   "id": "9d961e07-e8e2-4dd9-a03c-1360b0f92a2a",
   "metadata": {},
   "outputs": [],
   "source": [
    "titanic_df=pd.concat([titanic_df, pd.DataFrame(result.toarray(), columns=category)],axis=1)"
   ]
  },
  {
   "cell_type": "code",
   "execution_count": null,
   "id": "9af4cab6-4532-4f12-a2f2-4fff4392a544",
   "metadata": {},
   "outputs": [],
   "source": [
    "titanic_df.head()"
   ]
  },
  {
   "cell_type": "code",
   "execution_count": null,
   "id": "ed369cb6-8ff4-4e90-937c-d2ea734a734c",
   "metadata": {},
   "outputs": [],
   "source": []
  },
  {
   "cell_type": "code",
   "execution_count": null,
   "id": "1c3a7cba-e3df-454c-b2ad-1a16de2d89c7",
   "metadata": {},
   "outputs": [],
   "source": [
    "titanic=pd.read_csv('../data/titanic.csv')\n",
    "titanic.head()"
   ]
  },
  {
   "cell_type": "code",
   "execution_count": null,
   "id": "b7c1b248-afd1-4a04-be41-167620d802bd",
   "metadata": {},
   "outputs": [],
   "source": [
    "titanic['Age'].fillna(titanic['Age'].mean(), inplace=True)\n",
    "titanic['Cabin'].fillna('N', inplace=True)\n",
    "titanic['Embarked'].fillna('N', inplace=True)\n",
    "print('데이터 세트 Null 값 개수 :', titanic.isnull().sum().sum())"
   ]
  },
  {
   "cell_type": "code",
   "execution_count": null,
   "id": "c9af2158-9b67-43ce-8f6e-f6a3aeb5872e",
   "metadata": {},
   "outputs": [],
   "source": [
    "titanic['Cabin'] = titanic['Cabin'].str[:1]"
   ]
  },
  {
   "cell_type": "code",
   "execution_count": null,
   "id": "ca94cc2d-1841-44a1-a457-c07520a4382d",
   "metadata": {},
   "outputs": [],
   "source": [
    "titanic.drop(['Name','Ticket','PassengerId'], axis=1, inplace=True)"
   ]
  },
  {
   "cell_type": "code",
   "execution_count": null,
   "id": "68931f39-b925-4389-980d-0247932a92f0",
   "metadata": {},
   "outputs": [],
   "source": [
    "titanic['Pclass']=titanic['Pclass'].astype('object')\n",
    "titanic_f=pd.get_dummies(titanic)\n",
    "titanic_f"
   ]
  },
  {
   "cell_type": "code",
   "execution_count": null,
   "id": "0b926a64-65c0-4f5e-aa61-ac889cd57811",
   "metadata": {},
   "outputs": [],
   "source": [
    "titanic_d.shape"
   ]
  },
  {
   "cell_type": "code",
   "execution_count": null,
   "id": "36e8980d-b8ca-4264-b497-230901e385c2",
   "metadata": {},
   "outputs": [],
   "source": [
    "from sklearn.preprocessing import StandardScaler\n",
    "scaler= StandardScaler()\n",
    "result=scaler.fit_transform(titanic_d[['Age','SibSp', 'Parch', 'Fare']])\n",
    "titanic_d[['Age','SibSp', 'Parch', 'Fare']]=result\n",
    "titanic_d[['Age','SibSp', 'Parch', 'Fare']].describe()"
   ]
  },
  {
   "cell_type": "code",
   "execution_count": null,
   "id": "465fa165-8bab-4ae9-85d9-ff5016865718",
   "metadata": {},
   "outputs": [],
   "source": [
    "from sklearn.preprocessing import StandardScaler\n",
    "scaler= StandardScaler()\n",
    "result=scaler.fit_transform(titanic_d[['Age','SibSp', 'Parch', 'Fare']])\n",
    "titanic_d[['Age','SibSp', 'Parch', 'Fare']]=result\n",
    "titanic_d[['Age','SibSp', 'Parch', 'Fare']].describe()"
   ]
  },
  {
   "cell_type": "code",
   "execution_count": null,
   "id": "04306ca6-26d4-4ef6-8dc3-bd600d936397",
   "metadata": {
    "scrolled": true
   },
   "outputs": [],
   "source": [
    "from sklearn.preprocessing import MinMaxScaler\n",
    "scaler= MinMaxScaler()\n",
    "result=scaler.fit_transform(titanic_f[['Age','SibSp', 'Parch', 'Fare']])\n",
    "titanic_f[['Age','SibSp', 'Parch', 'Fare']]=result\n",
    "titanic_f[['Age','SibSp', 'Parch', 'Fare']].describe()"
   ]
  },
  {
   "cell_type": "code",
   "execution_count": null,
   "id": "49a8ef56-e051-4b63-b3b8-1d227808186f",
   "metadata": {},
   "outputs": [],
   "source": [
    "## 이상치 제거\n",
    "\n",
    "plt.figure(figsize=(10,6))\n",
    "sns.histplot(data=titanic_d[titanic_d['Fare'] <=2.5], x='Fare', color='red')\n",
    "sns.histplot(data=titanic_d[titanic_d['Age'] <=2.5], x='Age', color='blue')\n",
    "sns.histplot(data=titanic_d[titanic_d['Parch'] <=2.5], x='Parch', color='y')\n",
    "# 이상치 z_score 2.5 이상"
   ]
  },
  {
   "cell_type": "code",
   "execution_count": null,
   "id": "0758928c-0426-4b1b-9ddf-32d4fc53c1be",
   "metadata": {},
   "outputs": [],
   "source": [
    "sns.histplot(data=titanic_f, x='Fare', color='blue')"
   ]
  },
  {
   "cell_type": "code",
   "execution_count": null,
   "id": "cf0db312-28f9-412e-8ad8-8ac31428d676",
   "metadata": {},
   "outputs": [],
   "source": []
  },
  {
   "cell_type": "code",
   "execution_count": null,
   "id": "b1012a56-08c7-4d8d-bb11-c8f5dcd9893d",
   "metadata": {},
   "outputs": [],
   "source": [
    "y=titanic_d['Survived']\n",
    "X=titanic_d.iloc[:,1:]\n",
    "\n",
    "X_train, X_test, y_train, y_test =train_test_split(X, y,test_size = 0.2, random_state = 11)\n",
    "print(X_train.shape, X_test.shape, y_train.shape, y_test.shape)"
   ]
  },
  {
   "cell_type": "code",
   "execution_count": null,
   "id": "c37f29c6-4b1d-43b2-a8a7-54666c98c385",
   "metadata": {},
   "outputs": [],
   "source": [
    "from sklearn.tree import DecisionTreeClassifier\n",
    "\n",
    "dt_clf=DecisionTreeClassifier(random_state=11)\n",
    "dt_clf.fit(X_train,y_train)\n",
    "pred=dt_clf.predict(X_test)\n",
    "print(accuracy_score(y_test, pred))"
   ]
  },
  {
   "cell_type": "code",
   "execution_count": null,
   "id": "771013fc-95f5-4d1b-9a09-0d8353b8cdda",
   "metadata": {},
   "outputs": [],
   "source": [
    "from sklearn.tree import DecisionTreeClassifier\n",
    "from sklearn.ensemble import RandomForestClassifier\n",
    "from sklearn.linear_model import LogisticRegression\n",
    "from sklearn.metrics import accuracy_score\n",
    "dt_clf = DecisionTreeClassifier(random_state = 11)\n",
    "rf_clf = RandomForestClassifier(random_state = 11)\n",
    "lr_clf = LogisticRegression(solver='liblinear')"
   ]
  },
  {
   "cell_type": "code",
   "execution_count": null,
   "id": "96f134c8-eab3-4d78-8c7e-9eaffd51d20e",
   "metadata": {},
   "outputs": [],
   "source": [
    "# DecisionTreeClassfier 학습/예측/평가\n",
    "dt_clf.fit(X_train, y_train)\n",
    "dt_pred = dt_clf.predict(X_test)\n",
    "acc = accuracy_score(y_test, dt_pred)\n",
    "print(f'DesitionTree 정확도 : {acc:.4f}' )\n",
    "\n",
    "# RandomForestClassifier 학습/예측/평가\n",
    "rf_clf.fit(X_train, y_train)\n",
    "rf_pred = rf_clf.predict(X_test)\n",
    "acc = accuracy_score(y_test, rf_pred)\n",
    "print(f'RandomForest 정확도 : {acc:.4f}')\n",
    "\n",
    "# LogisticRegression 학습/예측/평가\n",
    "lr_clf.fit(X_train, y_train)\n",
    "lr_pred = lr_clf.predict(X_test)\n",
    "acc = accuracy_score(y_test, lr_pred)\n",
    "print(f'Logistic 정확도 : {acc:.4f}' )"
   ]
  },
  {
   "cell_type": "code",
   "execution_count": null,
   "id": "ff1c3205-82be-49f5-af71-68ab1fc880f4",
   "metadata": {},
   "outputs": [],
   "source": [
    "# 일반화 K-fold 교차검증\n",
    "from sklearn.model_selection import cross_val_score\n",
    "\n",
    "def exec_cvs(clf, folds = 5):\n",
    "    scores = cross_val_score(clf, X_train, y_train, cv = folds)\n",
    "    for iter_count, accuracy in enumerate(scores):\n",
    "           print(f\"교차 검증 {iter_count} 정확도 : {accuracy:.4f}\")\n",
    "    print(f'평균 정확도 : {np.mean(scores):.4f}')\n",
    "\n",
    "df_clf = DecisionTreeClassifier(random_state = 11)\n",
    "exec_kfold(dt_clf)\n",
    "rf_clf = RandomForestClassifier(random_state = 11)\n",
    "exec_kfold(rf_clf)\n",
    "lr_clf = LogisticRegression(solver='liblinear')\n",
    "exec_kfold(lr_clf)\n"
   ]
  },
  {
   "cell_type": "code",
   "execution_count": null,
   "id": "d76b3852-4591-4db5-8e45-a2a73fcfd4c6",
   "metadata": {},
   "outputs": [],
   "source": [
    "from sklearn.model_selection import KFold\n",
    "# 교차검증 함수 생성\n",
    "def exec_kfold(clf, X_train, y_train, folds = 5):\n",
    "    kfold = KFold(n_splits = 5)\n",
    "    scores = []\n",
    "    for iter_count, (train_index, test_index) in enumerate(kfold.split(X_train)):\n",
    "        X_train_f, X_val_f = X_train.iloc[train_index],X_train.iloc[test_index]\n",
    "        y_train_f, y_val_f = y_train.iloc[train_index],y_train.iloc[test_index] \n",
    "        clf.fit(X_train_f, y_train_f)\n",
    "        predictions = clf.predict(X_val_f)\n",
    "        accuracy = accuracy_score(y_val_f, predictions)\n",
    "        scores.append(accuracy)\n",
    "        print(f\"교차 검증 {iter_count} 정확도 : {accuracy:.4f}\")\n",
    "    mean_score = np.mean(scores)\n",
    "    print(f'평균 정확도 : {mean_score:.4f}')\n",
    "    return clf"
   ]
  },
  {
   "cell_type": "code",
   "execution_count": null,
   "id": "ab144738-5d7e-40f8-8eb8-8ff52b480022",
   "metadata": {},
   "outputs": [],
   "source": [
    "df_clf= DecisionTreeClassifier(random_state = 11)\n",
    "scores = cross_val_score(df_clf, X_train, y_train, cv =7)\n",
    "print(np.mean(scores))\n",
    "print(np.round(scores,4))"
   ]
  },
  {
   "cell_type": "code",
   "execution_count": null,
   "id": "8bd713df-addc-41a7-a37e-bdb1b759413b",
   "metadata": {},
   "outputs": [],
   "source": [
    "rf_clf= RandomForestClassifier(random_state = 11)\n",
    "scores = cross_val_score(rf_clf, X_train, y_train, cv =7)\n",
    "print(np.mean(scores))\n",
    "print(np.round(scores,4))"
   ]
  },
  {
   "cell_type": "code",
   "execution_count": null,
   "id": "3346d496-0ca7-4c33-9cc9-e76119bbd176",
   "metadata": {},
   "outputs": [],
   "source": [
    "lr_clf= LogisticRegression(solver='liblinear')\n",
    "scores = cross_val_score(lr_clf, X_train, y_train, cv =7)\n",
    "print(np.mean(scores))\n",
    "print(np.round(scores,4))"
   ]
  },
  {
   "cell_type": "code",
   "execution_count": null,
   "id": "09644b93-6c31-4997-a0e3-bbf0f1ba487f",
   "metadata": {},
   "outputs": [],
   "source": []
  },
  {
   "cell_type": "code",
   "execution_count": null,
   "id": "6f4a9b39-7495-4be4-9bb7-b61a56f569ec",
   "metadata": {},
   "outputs": [],
   "source": [
    "kfold= KFold(n_splits=5)\n",
    "acc=[]\n",
    "dt_clf= DecisionTreeClassifier(random_state=11)\n",
    "for train_index, test_index in kfold.split(X):\n",
    "    X_train,X_test = X.iloc[train_index], X.iloc[test_index]\n",
    "    y_train,y_test = y.iloc[train_index], y.iloc[test_index]\n",
    "\n",
    "    dt_clf.fit(X_train, y_train)\n",
    "    pred= dt_clf.predict(X_test)\n",
    "    accuracy = accuracy_score(y_test, pred)\n",
    "    acc.append(accuracy)\n",
    "    print(np.mean(accuracy))\n"
   ]
  },
  {
   "cell_type": "code",
   "execution_count": null,
   "id": "df4f8084-9e98-4b20-bc74-e5101aae8132",
   "metadata": {},
   "outputs": [],
   "source": []
  },
  {
   "cell_type": "markdown",
   "id": "0f0b7608-327a-46e5-9297-f204c423c9cd",
   "metadata": {},
   "source": [
    "### 머신러닝 분류분석 모델의 예측성능 평가"
   ]
  },
  {
   "cell_type": "code",
   "execution_count": null,
   "id": "04d5bf24-f165-4508-aa59-a1a5295d336c",
   "metadata": {
    "scrolled": true
   },
   "outputs": [],
   "source": [
    "oh_enc=OneHotEncoder()\n",
    "result=oh_enc.fit_transform(titanic[['Cabin','Embarked']])\n",
    "print(result.toarray().shape)\n",
    "result.toarray()"
   ]
  },
  {
   "cell_type": "code",
   "execution_count": null,
   "id": "a85cec01-e251-4fa1-9765-c4411213150b",
   "metadata": {},
   "outputs": [],
   "source": [
    "category=np.hstack(('cab_'+ oh_enc.categories_[0],'em_'+ oh_enc.categories_[1] ))\n",
    "# np.vstack 넘파이 배열을 수직으로 붙이기/합치기(np.hstack은 수평으로 붙이기)   # 공부할 것"
   ]
  },
  {
   "cell_type": "code",
   "execution_count": null,
   "id": "805fc474-e730-4b7f-8f65-d5b60cbad5c9",
   "metadata": {},
   "outputs": [],
   "source": [
    "pd.DataFrame(result.toarray(), columns=category)"
   ]
  },
  {
   "cell_type": "code",
   "execution_count": null,
   "id": "783836c3-42c5-4034-8956-19d585b76f6e",
   "metadata": {},
   "outputs": [],
   "source": [
    "titanic_df=pd.concat([titanic_df, pd.DataFrame(result.toarray(), columns=category)],axis=1)"
   ]
  },
  {
   "cell_type": "code",
   "execution_count": null,
   "id": "a3fc8b9d-671d-4fff-9ec5-813eaaeb90b7",
   "metadata": {},
   "outputs": [],
   "source": [
    "titanic_df"
   ]
  },
  {
   "cell_type": "code",
   "execution_count": 266,
   "id": "1b60c405-a1f8-435d-ad65-16b60849a1b3",
   "metadata": {},
   "outputs": [
    {
     "name": "stdout",
     "output_type": "stream",
     "text": [
      "(712, 21) (179, 21) (712,) (179,)\n"
     ]
    }
   ],
   "source": [
    "y=titanic_df['Survived']\n",
    "X=titanic_df.iloc[:,1:]\n",
    "\n",
    "X_train, X_test, y_train, y_test =train_test_split(X, y,test_size = 0.2, random_state = 11)\n",
    "print(X_train.shape, X_test.shape, y_train.shape, y_test.shape)"
   ]
  },
  {
   "cell_type": "code",
   "execution_count": 267,
   "id": "ab2756ab-eeec-4579-afe9-33c71b866bad",
   "metadata": {},
   "outputs": [],
   "source": [
    "# 정확도 왜곡 실습  // 정확도 성능 별로다 ^^\n",
    "from sklearn.base import BaseEstimator\n",
    "\n",
    "beas=BaseEstimator()"
   ]
  },
  {
   "cell_type": "code",
   "execution_count": 283,
   "id": "11634f5e-ddee-4518-b59a-ce434f7293c1",
   "metadata": {},
   "outputs": [],
   "source": [
    "## 공부할 것\n",
    "\n",
    "class MyDummyClassifier(BaseEstimator):   # 상속할 class 속성 가져오는 방법 class()에 넣음\n",
    "    def fit(self, X, y = None):           # fit 해야하므로 그냥 넣어놓음\n",
    "        pass                              # 남성이면 사망, 여성 생존 -- 메서드 \n",
    "    def predict(self, X):                 # X_test 받으므로 X로\n",
    "        pred = np.zeros((X.shape[0], 1))  # 모두 o으로 되어있는 pred 배열 만듦  // X.shape[0]은 row의 갯수임\n",
    "        for i in range(X.shape[0]):\n",
    "            if X['Sex'].iloc[i] == 'male':\n",
    "                pred[i] = 0\n",
    "            else:\n",
    "                pred[i] = 1\n",
    "        return pred"
   ]
  },
  {
   "cell_type": "code",
   "execution_count": 284,
   "id": "d789b565-60d7-44d3-ba08-82c7fa2eaa69",
   "metadata": {},
   "outputs": [
    {
     "name": "stdout",
     "output_type": "stream",
     "text": [
      "정확도 : 0.8324022346368715\n"
     ]
    }
   ],
   "source": [
    "model= MyDummyClassifier()\n",
    "model.fit(X_train, y_train)\n",
    "pred=model.predict(X_test)\n",
    "acc=accuracy_score(y_test, pred)\n",
    "print('정확도 :', acc)"
   ]
  },
  {
   "cell_type": "code",
   "execution_count": 297,
   "id": "de2c30bc-f9ee-473c-a592-895309b539fe",
   "metadata": {},
   "outputs": [],
   "source": [
    "class MyFakeClassifier(BaseEstimator):\n",
    "    def fit(self,X,y):\n",
    "        pass\n",
    "    def predict(self,X):\n",
    "        return np.zeros( (len(X), 1))\n",
    "fakeclf=MyFakeClassifier()"
   ]
  },
  {
   "cell_type": "code",
   "execution_count": 291,
   "id": "13cf84e8-f9d0-4200-8c52-76ada3e25b47",
   "metadata": {},
   "outputs": [
    {
     "name": "stdout",
     "output_type": "stream",
     "text": [
      "[[ 0.  0.  5. ...  0.  0.  0.]\n",
      " [ 0.  0.  0. ... 10.  0.  0.]\n",
      " [ 0.  0.  0. ... 16.  9.  0.]\n",
      " ...\n",
      " [ 0.  0.  1. ...  6.  0.  0.]\n",
      " [ 0.  0.  2. ... 12.  0.  0.]\n",
      " [ 0.  0. 10. ... 12.  1.  0.]]\n",
      "(1797, 64)\n",
      "[0 1 2 ... 8 9 8]\n"
     ]
    }
   ],
   "source": [
    "from sklearn.datasets import load_digits  \n",
    "digits = load_digits()       # 이미지파일: 플래툰된, 숫자화,  10개의 범주로 됨 \n",
    "print(digits.data)\n",
    "print(digits.data.shape)\n",
    "print(digits.target)"
   ]
  },
  {
   "cell_type": "code",
   "execution_count": 292,
   "id": "f4462e69-0a78-45de-8387-f2b31d83a9b7",
   "metadata": {},
   "outputs": [],
   "source": [
    "# 번호가 7이면 True==1, 그 외는 False==0\n",
    "y = (digits.target == 7).astype(int)\n",
    "X_train, X_test, y_train, y_test = train_test_split( digits.data, y, random_state=11)"
   ]
  },
  {
   "cell_type": "code",
   "execution_count": 301,
   "id": "ec042dd9-ff2a-45c3-877b-24e9f7c86436",
   "metadata": {},
   "outputs": [
    {
     "data": {
      "text/plain": [
       "0.9003895381190874"
      ]
     },
     "execution_count": 301,
     "metadata": {},
     "output_type": "execute_result"
    }
   ],
   "source": [
    "pred=fakeclf.predict(digits.data)\n",
    "accuracy_score(y,pred)"
   ]
  },
  {
   "cell_type": "code",
   "execution_count": 303,
   "id": "90ee867d-5560-48dc-b07f-9f22ac3498af",
   "metadata": {},
   "outputs": [
    {
     "name": "stdout",
     "output_type": "stream",
     "text": [
      "0    1618\n",
      "1     179\n",
      "Name: count, dtype: int64\n"
     ]
    }
   ],
   "source": [
    "print(pd.Series(y).value_counts())"
   ]
  },
  {
   "cell_type": "code",
   "execution_count": 307,
   "id": "c5627841-785f-43ae-9f1f-90d5fdb8d220",
   "metadata": {},
   "outputs": [
    {
     "data": {
      "text/plain": [
       "<Axes: ylabel='count'>"
      ]
     },
     "execution_count": 307,
     "metadata": {},
     "output_type": "execute_result"
    },
    {
     "data": {
      "image/png": "[encoded data removed]",
      "text/plain": [
       "<Figure size 400x300 with 1 Axes>"
      ]
     },
     "metadata": {},
     "output_type": "display_data"
    }
   ],
   "source": [
    "sns.countplot(x=y)"
   ]
  },
  {
   "cell_type": "code",
   "execution_count": 306,
   "id": "f023de19-554d-4bea-a797-2a33ad663db8",
   "metadata": {},
   "outputs": [
    {
     "data": {
      "text/plain": [
       "<Axes: ylabel='count'>"
      ]
     },
     "execution_count": 306,
     "metadata": {},
     "output_type": "execute_result"
    },
    {
     "data": {
      "image/png": "[encoded data removed]",
      "text/plain": [
       "<Figure size 400x300 with 1 Axes>"
      ]
     },
     "metadata": {},
     "output_type": "display_data"
    }
   ],
   "source": [
    "sns.countplot(x=digits.target)"
   ]
  },
  {
   "cell_type": "code",
   "execution_count": null,
   "id": "6138778d-970e-41c1-b019-2e9a1dccc56a",
   "metadata": {},
   "outputs": [],
   "source": []
  },
  {
   "cell_type": "code",
   "execution_count": null,
   "id": "401176cc-150a-43a2-aa00-ec7c9aed95b7",
   "metadata": {},
   "outputs": [],
   "source": []
  }
 ],
 "metadata": {
  "kernelspec": {
   "display_name": "Python 3 (ipykernel)",
   "language": "python",
   "name": "python3"
  },
  "language_info": {
   "codemirror_mode": {
    "name": "ipython",
    "version": 3
   },
   "file_extension": ".py",
   "mimetype": "text/x-python",
   "name": "python",
   "nbconvert_exporter": "python",
   "pygments_lexer": "ipython3",
   "version": "3.11.5"
  }
 },
 "nbformat": 4,
 "nbformat_minor": 5
}
