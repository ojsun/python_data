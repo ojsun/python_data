{
 "cells": [
  {
   "cell_type": "markdown",
   "metadata": {},
   "source": [
    "# 머신러닝 실습\n",
    "## 09:00 ~ 10:50 (2시간) 동안 풀어보기"
   ]
  },
  {
   "cell_type": "markdown",
   "metadata": {
    "id": "fWkj5SlqIFP-"
   },
   "source": [
    "## 선박 정시 도착 예측 데이터"
   ]
  },
  {
   "cell_type": "markdown",
   "metadata": {
    "id": "wbFb0wQNIRRY"
   },
   "source": [
    "* ID: 고객의 ID 번호입니다.\n",
    "* Warehouse_block: 회사는 A,B,C,D,E와 같은 블록으로 나누어진 큰 창고를 가지고 있습니다.\n",
    "* Mode_of_Shipment: 회사는 선박, 항공, 육로 등 다양한 방법으로 제품을 배송합니다.\n",
    "* Customer_care_calls\t: 배송문의를 위한 문의 전화 횟수입니다.\n",
    "* Customer_rating: 회사는 모든 고객으로부터 평가를 받았습니다. 1이 가장 낮음(Worst), 5가 가장 높음(Best)입니다.\n",
    "* Cost_of_the_Product: 미국 달러로 표시된 제품 가격입니다.\n",
    "* Prior_purchases: 사전 구매 횟수입니다.\n",
    "* Product_importance: 회사는 낮음, 중간, 높음과 같은 다양한 매개변수로 제품을 분류했습니다.\n",
    "* Gender: 남성과 여성.\n",
    "* Discount_offered: 해당 특정 제품에 대해 할인이 제공됩니다.\n",
    "* Weight_in_gms: 그램 단위의 무게입니다.\n",
    "* Reached.on.Time_Y.N: 목표 변수이며, 1은 제품이 정시에 도착하지 않았음을 나타내고 0은 정시에 도달했음을 나타냅니다."
   ]
  },
  {
   "cell_type": "markdown",
   "metadata": {
    "id": "EtorMK9aIRkF"
   },
   "source": [
    "### 1. 데이터 불러와서 df에 저장하세요\n",
    "* https://raw.githubusercontent.com/kim-juwan/data_folder/main/data/shipment_trn.csv"
   ]
  },
  {
   "cell_type": "code",
   "execution_count": 1,
   "metadata": {
    "scrolled": true
   },
   "outputs": [
    {
     "data": {
      "text/html": [
       "<div>\n",
       "<style scoped>\n",
       "    .dataframe tbody tr th:only-of-type {\n",
       "        vertical-align: middle;\n",
       "    }\n",
       "\n",
       "    .dataframe tbody tr th {\n",
       "        vertical-align: top;\n",
       "    }\n",
       "\n",
       "    .dataframe thead th {\n",
       "        text-align: right;\n",
       "    }\n",
       "</style>\n",
       "<table border=\"1\" class=\"dataframe\">\n",
       "  <thead>\n",
       "    <tr style=\"text-align: right;\">\n",
       "      <th></th>\n",
       "      <th>ID</th>\n",
       "      <th>Warehouse_block</th>\n",
       "      <th>Mode_of_Shipment</th>\n",
       "      <th>Customer_care_calls</th>\n",
       "      <th>Customer_rating</th>\n",
       "      <th>Cost_of_the_Product</th>\n",
       "      <th>Prior_purchases</th>\n",
       "      <th>Product_importance</th>\n",
       "      <th>Gender</th>\n",
       "      <th>Discount_offered</th>\n",
       "      <th>Weight_in_gms</th>\n",
       "      <th>Reached.on.Time_Y.N</th>\n",
       "    </tr>\n",
       "  </thead>\n",
       "  <tbody>\n",
       "    <tr>\n",
       "      <th>0</th>\n",
       "      <td>3685</td>\n",
       "      <td>D</td>\n",
       "      <td>Road</td>\n",
       "      <td>4</td>\n",
       "      <td>3</td>\n",
       "      <td>258</td>\n",
       "      <td>2</td>\n",
       "      <td>low</td>\n",
       "      <td>F</td>\n",
       "      <td>2</td>\n",
       "      <td>4308</td>\n",
       "      <td>0</td>\n",
       "    </tr>\n",
       "    <tr>\n",
       "      <th>1</th>\n",
       "      <td>9822</td>\n",
       "      <td>F</td>\n",
       "      <td>Ship</td>\n",
       "      <td>4</td>\n",
       "      <td>2</td>\n",
       "      <td>151</td>\n",
       "      <td>3</td>\n",
       "      <td>medium</td>\n",
       "      <td>M</td>\n",
       "      <td>3</td>\n",
       "      <td>5154</td>\n",
       "      <td>1</td>\n",
       "    </tr>\n",
       "    <tr>\n",
       "      <th>2</th>\n",
       "      <td>4305</td>\n",
       "      <td>A</td>\n",
       "      <td>Ship</td>\n",
       "      <td>4</td>\n",
       "      <td>4</td>\n",
       "      <td>163</td>\n",
       "      <td>2</td>\n",
       "      <td>low</td>\n",
       "      <td>F</td>\n",
       "      <td>9</td>\n",
       "      <td>4720</td>\n",
       "      <td>0</td>\n",
       "    </tr>\n",
       "    <tr>\n",
       "      <th>3</th>\n",
       "      <td>10977</td>\n",
       "      <td>A</td>\n",
       "      <td>Flight</td>\n",
       "      <td>3</td>\n",
       "      <td>2</td>\n",
       "      <td>278</td>\n",
       "      <td>4</td>\n",
       "      <td>medium</td>\n",
       "      <td>M</td>\n",
       "      <td>9</td>\n",
       "      <td>1631</td>\n",
       "      <td>0</td>\n",
       "    </tr>\n",
       "    <tr>\n",
       "      <th>4</th>\n",
       "      <td>3916</td>\n",
       "      <td>B</td>\n",
       "      <td>Ship</td>\n",
       "      <td>3</td>\n",
       "      <td>4</td>\n",
       "      <td>250</td>\n",
       "      <td>3</td>\n",
       "      <td>low</td>\n",
       "      <td>M</td>\n",
       "      <td>10</td>\n",
       "      <td>5688</td>\n",
       "      <td>0</td>\n",
       "    </tr>\n",
       "  </tbody>\n",
       "</table>\n",
       "</div>"
      ],
      "text/plain": [
       "      ID Warehouse_block Mode_of_Shipment  Customer_care_calls  \\\n",
       "0   3685               D             Road                    4   \n",
       "1   9822               F             Ship                    4   \n",
       "2   4305               A             Ship                    4   \n",
       "3  10977               A           Flight                    3   \n",
       "4   3916               B             Ship                    3   \n",
       "\n",
       "   Customer_rating  Cost_of_the_Product  Prior_purchases Product_importance  \\\n",
       "0                3                  258                2                low   \n",
       "1                2                  151                3             medium   \n",
       "2                4                  163                2                low   \n",
       "3                2                  278                4             medium   \n",
       "4                4                  250                3                low   \n",
       "\n",
       "  Gender Discount_offered  Weight_in_gms  Reached.on.Time_Y.N  \n",
       "0      F                2           4308                    0  \n",
       "1      M                3           5154                    1  \n",
       "2      F                9           4720                    0  \n",
       "3      M                9           1631                    0  \n",
       "4      M               10           5688                    0  "
      ]
     },
     "execution_count": 1,
     "metadata": {},
     "output_type": "execute_result"
    }
   ],
   "source": [
    "import pandas as pd\n",
    "\n",
    "df = pd.read_csv('https://raw.githubusercontent.com/kim-juwan/data_folder/main/data/shipment_trn.csv')\n",
    "df.head()"
   ]
  },
  {
   "cell_type": "markdown",
   "metadata": {
    "id": "NlyDLYOL9Us3"
   },
   "source": [
    "### 2. 모든 컬럼의 값과 dtype을 확인하시고 이상한 컬럼을 찾아 정상으로 수정하세요\n",
    "* df.head()와 df.info() 또는 dtypes를 사용하여 확인\n",
    "* 정수만 있는 컬럼 중 dtype이 이상한 컬럼이 있다\n",
    "* apply를 사용하여 처리하세요"
   ]
  },
  {
   "cell_type": "code",
   "execution_count": 2,
   "metadata": {},
   "outputs": [
    {
     "name": "stdout",
     "output_type": "stream",
     "text": [
      "<class 'pandas.core.frame.DataFrame'>\n",
      "RangeIndex: 8009 entries, 0 to 8008\n",
      "Data columns (total 12 columns):\n",
      " #   Column               Non-Null Count  Dtype \n",
      "---  ------               --------------  ----- \n",
      " 0   ID                   8009 non-null   int64 \n",
      " 1   Warehouse_block      8009 non-null   object\n",
      " 2   Mode_of_Shipment     8009 non-null   object\n",
      " 3   Customer_care_calls  8009 non-null   int64 \n",
      " 4   Customer_rating      8009 non-null   int64 \n",
      " 5   Cost_of_the_Product  8009 non-null   int64 \n",
      " 6   Prior_purchases      8009 non-null   int64 \n",
      " 7   Product_importance   8009 non-null   object\n",
      " 8   Gender               8009 non-null   object\n",
      " 9   Discount_offered     8009 non-null   object\n",
      " 10  Weight_in_gms        8009 non-null   int64 \n",
      " 11  Reached.on.Time_Y.N  8009 non-null   int64 \n",
      "dtypes: int64(7), object(5)\n",
      "memory usage: 751.0+ KB\n"
     ]
    }
   ],
   "source": [
    "df.info()"
   ]
  },
  {
   "cell_type": "code",
   "execution_count": 2,
   "metadata": {},
   "outputs": [
    {
     "data": {
      "text/plain": [
       "array(['2', '3', '9', '10', '5', '20', '22', '6', '4', ' *7 ', '15', '19',\n",
       "       '1', '18', '17', '28', '33', '21', '12', '13', '14', '31', '11',\n",
       "       '26', '24', '29', '23', '32', '25', '27', '16', '30'], dtype=object)"
      ]
     },
     "execution_count": 2,
     "metadata": {},
     "output_type": "execute_result"
    }
   ],
   "source": [
    "df['Discount_offered'].unique()"
   ]
  },
  {
   "cell_type": "code",
   "execution_count": 3,
   "metadata": {},
   "outputs": [],
   "source": [
    "df['Discount_offered'] = df['Discount_offered'].apply(lambda x : int(x.replace(' *7 ', '7')))"
   ]
  },
  {
   "cell_type": "code",
   "execution_count": 5,
   "metadata": {},
   "outputs": [],
   "source": [
    "# df['Discount_offered'] = df['Discount_offered'].str.replace(' *7 ', '7').astype(int)"
   ]
  },
  {
   "cell_type": "code",
   "execution_count": 76,
   "metadata": {},
   "outputs": [
    {
     "data": {
      "text/plain": [
       "0        2\n",
       "1        3\n",
       "2        9\n",
       "3        9\n",
       "4       10\n",
       "        ..\n",
       "8004     1\n",
       "8005     2\n",
       "8006     5\n",
       "8007     4\n",
       "8008    29\n",
       "Name: Discount_offered, Length: 8009, dtype: int64"
      ]
     },
     "execution_count": 76,
     "metadata": {},
     "output_type": "execute_result"
    }
   ],
   "source": [
    "df['Discount_offered']"
   ]
  },
  {
   "cell_type": "markdown",
   "metadata": {
    "id": "wsv0XQJ98Qjj"
   },
   "source": [
    "### 3. ID 컬럼을 제거하여 df로 다시 저장하세요"
   ]
  },
  {
   "cell_type": "code",
   "execution_count": 4,
   "metadata": {},
   "outputs": [],
   "source": [
    "df = df.drop('ID', axis = 1)"
   ]
  },
  {
   "cell_type": "markdown",
   "metadata": {
    "id": "xD0E9zJiIalH"
   },
   "source": [
    "### 4. Reached.on.Time_Y.N 컬럼을 사용해서 파이 그래프를 그리세요.\n",
    "* df['Reached.on.Time_Y.N'].value_counts() 사용하기\n",
    "* plt.pie()\n",
    "* autopct = '%.2f%%'로 소수점 둘째자리까지 표현"
   ]
  },
  {
   "cell_type": "code",
   "execution_count": 5,
   "metadata": {},
   "outputs": [
    {
     "data": {
      "image/png": "[encoded data removed]",
      "text/plain": [
       "<Figure size 640x480 with 1 Axes>"
      ]
     },
     "metadata": {},
     "output_type": "display_data"
    }
   ],
   "source": [
    "import matplotlib.pyplot as plt\n",
    "\n",
    "y_cnt = df['Reached.on.Time_Y.N'].value_counts()\n",
    "plt.pie(y_cnt.values, labels = y_cnt.index, autopct = '%.2f%%')\n",
    "plt.show()"
   ]
  },
  {
   "cell_type": "code",
   "execution_count": 77,
   "metadata": {},
   "outputs": [
    {
     "data": {
      "text/plain": [
       "Reached.on.Time_Y.N\n",
       "1    4247\n",
       "0    3762\n",
       "Name: count, dtype: int64"
      ]
     },
     "execution_count": 77,
     "metadata": {},
     "output_type": "execute_result"
    }
   ],
   "source": [
    "y_cnt"
   ]
  },
  {
   "cell_type": "markdown",
   "metadata": {
    "id": "6MKTozKJyOXq"
   },
   "source": [
    "### 5. 컬럼 Reached.on.Time_Y.N에 따른 Weight_in_gms 컬럼 값이 차이가 있는지 확인하기 위해 barplot을 통해 그래프를 그리고 통계 검정을 하세요."
   ]
  },
  {
   "cell_type": "code",
   "execution_count": 8,
   "metadata": {},
   "outputs": [
    {
     "data": {
      "text/plain": [
       "<Axes: xlabel='Reached.on.Time_Y.N', ylabel='Weight_in_gms'>"
      ]
     },
     "execution_count": 8,
     "metadata": {},
     "output_type": "execute_result"
    },
    {
     "data": {
      "image/png": "[encoded data removed]",
      "text/plain": [
       "<Figure size 640x480 with 1 Axes>"
      ]
     },
     "metadata": {},
     "output_type": "display_data"
    }
   ],
   "source": [
    "import seaborn as sns\n",
    "\n",
    "sns.barplot(data = df, x = 'Reached.on.Time_Y.N', y = 'Weight_in_gms')"
   ]
  },
  {
   "cell_type": "code",
   "execution_count": 6,
   "metadata": {},
   "outputs": [
    {
     "name": "stdout",
     "output_type": "stream",
     "text": [
      "ShapiroResult(statistic=0.8161751627922058, pvalue=0.0)\n",
      "ShapiroResult(statistic=0.9021150469779968, pvalue=0.0)\n"
     ]
    }
   ],
   "source": [
    "from scipy import stats\n",
    "\n",
    "w0 = df[df['Reached.on.Time_Y.N'] == 0]['Weight_in_gms']\n",
    "w1 = df[df['Reached.on.Time_Y.N'] == 1]['Weight_in_gms']\n",
    "\n",
    "print(stats.shapiro(w0))\n",
    "print(stats.shapiro(w1))"
   ]
  },
  {
   "cell_type": "code",
   "execution_count": 7,
   "metadata": {},
   "outputs": [
    {
     "data": {
      "text/plain": [
       "MannwhitneyuResult(statistic=9718822.5, pvalue=5.275708624539275e-63)"
      ]
     },
     "execution_count": 7,
     "metadata": {},
     "output_type": "execute_result"
    }
   ],
   "source": [
    "stats.mannwhitneyu(w0, w1)"
   ]
  },
  {
   "cell_type": "markdown",
   "metadata": {
    "id": "zLzrU6VAztDx"
   },
   "source": [
    "### 6. 컬럼 Reached.on.Time_Y.N에 따른 Customer_care_calls 컬럼 값이 차이가 있는지 확인하기 위해 barplot을 통해 그래프를 그리고 통계 검정을 하세요."
   ]
  },
  {
   "cell_type": "code",
   "execution_count": 8,
   "metadata": {},
   "outputs": [
    {
     "data": {
      "text/plain": [
       "<Axes: xlabel='Reached.on.Time_Y.N', ylabel='Customer_care_calls'>"
      ]
     },
     "execution_count": 8,
     "metadata": {},
     "output_type": "execute_result"
    },
    {
     "data": {
      "image/png": "[encoded data removed]",
      "text/plain": [
       "<Figure size 640x480 with 1 Axes>"
      ]
     },
     "metadata": {},
     "output_type": "display_data"
    }
   ],
   "source": [
    "import seaborn as sns\n",
    "\n",
    "sns.barplot(data = df, x = 'Reached.on.Time_Y.N', y = 'Customer_care_calls')"
   ]
  },
  {
   "cell_type": "code",
   "execution_count": 9,
   "metadata": {
    "scrolled": true
   },
   "outputs": [
    {
     "name": "stdout",
     "output_type": "stream",
     "text": [
      "ShapiroResult(statistic=0.9203817844390869, pvalue=9.935766631448683e-41)\n",
      "ShapiroResult(statistic=0.9179314374923706, pvalue=3.5032461608120427e-43)\n"
     ]
    }
   ],
   "source": [
    "from scipy import stats\n",
    "\n",
    "c0 = df[df['Reached.on.Time_Y.N'] == 0]['Customer_care_calls']\n",
    "c1 = df[df['Reached.on.Time_Y.N'] == 1]['Customer_care_calls']\n",
    "\n",
    "print(stats.shapiro(c0))\n",
    "print(stats.shapiro(c1))"
   ]
  },
  {
   "cell_type": "code",
   "execution_count": 10,
   "metadata": {},
   "outputs": [
    {
     "data": {
      "text/plain": [
       "MannwhitneyuResult(statistic=8270764.0, pvalue=0.00466846385529496)"
      ]
     },
     "execution_count": 10,
     "metadata": {},
     "output_type": "execute_result"
    }
   ],
   "source": [
    "stats.mannwhitneyu(c0, c1)"
   ]
  },
  {
   "cell_type": "code",
   "execution_count": 11,
   "metadata": {},
   "outputs": [
    {
     "data": {
      "text/plain": [
       "array([4, 3, 5, 6, 2, 7], dtype=int64)"
      ]
     },
     "execution_count": 11,
     "metadata": {},
     "output_type": "execute_result"
    }
   ],
   "source": [
    "df['Customer_care_calls'].unique()"
   ]
  },
  {
   "cell_type": "code",
   "execution_count": 12,
   "metadata": {},
   "outputs": [
    {
     "data": {
      "text/html": [
       "<div>\n",
       "<style scoped>\n",
       "    .dataframe tbody tr th:only-of-type {\n",
       "        vertical-align: middle;\n",
       "    }\n",
       "\n",
       "    .dataframe tbody tr th {\n",
       "        vertical-align: top;\n",
       "    }\n",
       "\n",
       "    .dataframe thead th {\n",
       "        text-align: right;\n",
       "    }\n",
       "</style>\n",
       "<table border=\"1\" class=\"dataframe\">\n",
       "  <thead>\n",
       "    <tr style=\"text-align: right;\">\n",
       "      <th>Reached.on.Time_Y.N</th>\n",
       "      <th>0</th>\n",
       "      <th>1</th>\n",
       "    </tr>\n",
       "    <tr>\n",
       "      <th>Customer_care_calls</th>\n",
       "      <th></th>\n",
       "      <th></th>\n",
       "    </tr>\n",
       "  </thead>\n",
       "  <tbody>\n",
       "    <tr>\n",
       "      <th>2</th>\n",
       "      <td>189</td>\n",
       "      <td>243</td>\n",
       "    </tr>\n",
       "    <tr>\n",
       "      <th>3</th>\n",
       "      <td>1020</td>\n",
       "      <td>1238</td>\n",
       "    </tr>\n",
       "    <tr>\n",
       "      <th>4</th>\n",
       "      <td>1236</td>\n",
       "      <td>1368</td>\n",
       "    </tr>\n",
       "    <tr>\n",
       "      <th>5</th>\n",
       "      <td>800</td>\n",
       "      <td>881</td>\n",
       "    </tr>\n",
       "    <tr>\n",
       "      <th>6</th>\n",
       "      <td>415</td>\n",
       "      <td>411</td>\n",
       "    </tr>\n",
       "    <tr>\n",
       "      <th>7</th>\n",
       "      <td>102</td>\n",
       "      <td>106</td>\n",
       "    </tr>\n",
       "  </tbody>\n",
       "</table>\n",
       "</div>"
      ],
      "text/plain": [
       "Reached.on.Time_Y.N     0     1\n",
       "Customer_care_calls            \n",
       "2                     189   243\n",
       "3                    1020  1238\n",
       "4                    1236  1368\n",
       "5                     800   881\n",
       "6                     415   411\n",
       "7                     102   106"
      ]
     },
     "execution_count": 12,
     "metadata": {},
     "output_type": "execute_result"
    }
   ],
   "source": [
    "c_df = pd.crosstab(df['Customer_care_calls'], df['Reached.on.Time_Y.N'])\n",
    "c_df"
   ]
  },
  {
   "cell_type": "code",
   "execution_count": null,
   "metadata": {},
   "outputs": [],
   "source": [
    "sns.countplot(data = df, x = 'Customer_care_calls', hue='Reached.on.Time_Y.N')"
   ]
  },
  {
   "cell_type": "code",
   "execution_count": 14,
   "metadata": {},
   "outputs": [
    {
     "data": {
      "text/plain": [
       "Chi2ContingencyResult(statistic=9.150990143108872, pvalue=0.10319111893973698, dof=5, expected_freq=array([[ 202.91971532,  229.08028468],\n",
       "       [1060.6312898 , 1197.3687102 ],\n",
       "       [1223.15495068, 1380.84504932],\n",
       "       [ 789.60194781,  891.39805219],\n",
       "       [ 387.99001124,  438.00998876],\n",
       "       [  97.70208515,  110.29791485]]))"
      ]
     },
     "execution_count": 14,
     "metadata": {},
     "output_type": "execute_result"
    }
   ],
   "source": [
    "stats.chi2_contingency(c_df)"
   ]
  },
  {
   "cell_type": "markdown",
   "metadata": {
    "id": "2UVq83KDz_kV"
   },
   "source": [
    "### 7. 컬럼 Product_importance에 따른 종속변수 값이 차이가 있는지 확인하기 위해 countplot을 통해 그래프를 그리고 통계 검정을 하세요.\n",
    "* x = 'Product_importance', hue = 'Reached.on.Time_Y.N'"
   ]
  },
  {
   "cell_type": "code",
   "execution_count": null,
   "metadata": {},
   "outputs": [],
   "source": [
    "sns.countplot(data=df, x = 'Product_importance', hue = 'Reached.on.Time_Y.N')"
   ]
  },
  {
   "cell_type": "code",
   "execution_count": 16,
   "metadata": {},
   "outputs": [
    {
     "data": {
      "text/html": [
       "<div>\n",
       "<style scoped>\n",
       "    .dataframe tbody tr th:only-of-type {\n",
       "        vertical-align: middle;\n",
       "    }\n",
       "\n",
       "    .dataframe tbody tr th {\n",
       "        vertical-align: top;\n",
       "    }\n",
       "\n",
       "    .dataframe thead th {\n",
       "        text-align: right;\n",
       "    }\n",
       "</style>\n",
       "<table border=\"1\" class=\"dataframe\">\n",
       "  <thead>\n",
       "    <tr style=\"text-align: right;\">\n",
       "      <th>Reached.on.Time_Y.N</th>\n",
       "      <th>0</th>\n",
       "      <th>1</th>\n",
       "    </tr>\n",
       "    <tr>\n",
       "      <th>Product_importance</th>\n",
       "      <th></th>\n",
       "      <th></th>\n",
       "    </tr>\n",
       "  </thead>\n",
       "  <tbody>\n",
       "    <tr>\n",
       "      <th>high</th>\n",
       "      <td>286</td>\n",
       "      <td>382</td>\n",
       "    </tr>\n",
       "    <tr>\n",
       "      <th>low</th>\n",
       "      <td>1819</td>\n",
       "      <td>2065</td>\n",
       "    </tr>\n",
       "    <tr>\n",
       "      <th>medium</th>\n",
       "      <td>1657</td>\n",
       "      <td>1800</td>\n",
       "    </tr>\n",
       "  </tbody>\n",
       "</table>\n",
       "</div>"
      ],
      "text/plain": [
       "Reached.on.Time_Y.N     0     1\n",
       "Product_importance             \n",
       "high                  286   382\n",
       "low                  1819  2065\n",
       "medium               1657  1800"
      ]
     },
     "execution_count": 16,
     "metadata": {},
     "output_type": "execute_result"
    }
   ],
   "source": [
    "c_df = pd.crosstab(df['Product_importance'], df['Reached.on.Time_Y.N'])\n",
    "c_df"
   ]
  },
  {
   "cell_type": "code",
   "execution_count": 17,
   "metadata": {},
   "outputs": [
    {
     "data": {
      "text/plain": [
       "Chi2ContingencyResult(statistic=5.944210674141519, pvalue=0.05119541319060439, dof=2, expected_freq=array([[ 313.77400425,  354.22599575],\n",
       "       [1824.39855163, 2059.60144837],\n",
       "       [1623.82744413, 1833.17255587]]))"
      ]
     },
     "execution_count": 17,
     "metadata": {},
     "output_type": "execute_result"
    }
   ],
   "source": [
    "stats.chi2_contingency(c_df)"
   ]
  },
  {
   "cell_type": "markdown",
   "metadata": {
    "id": "b6n0EJ7xV49f"
   },
   "source": [
    "### 8. df의 'Reached.on.Time_Y.N' 컬럼을 y에 저장하고 기존 df에서 컬럼을 제거하세요"
   ]
  },
  {
   "cell_type": "code",
   "execution_count": 18,
   "metadata": {},
   "outputs": [],
   "source": [
    "y = df['Reached.on.Time_Y.N']\n",
    "df = df.drop('Reached.on.Time_Y.N', axis = 1)"
   ]
  },
  {
   "cell_type": "markdown",
   "metadata": {
    "id": "ce3BfM5y0r0l"
   },
   "source": [
    "### 9. 'Warehouse_block', 'Mode_of_Shipment', 'Customer_rating', 'Product_importance', 'Gender' 컬럼을 df_str으로 추출하세요\n",
    "\n"
   ]
  },
  {
   "cell_type": "code",
   "execution_count": 19,
   "metadata": {},
   "outputs": [],
   "source": [
    "df_str = df[['Warehouse_block', 'Mode_of_Shipment', 'Customer_rating', 'Product_importance', 'Gender']]"
   ]
  },
  {
   "cell_type": "markdown",
   "metadata": {
    "id": "tWXtlr4p7kxv"
   },
   "source": [
    "### 10. 숫자형 컬럼을 df_num로 추출하세요"
   ]
  },
  {
   "cell_type": "code",
   "execution_count": 20,
   "metadata": {},
   "outputs": [],
   "source": [
    "df_num = df.drop(['Warehouse_block', 'Mode_of_Shipment', 'Customer_rating', 'Product_importance', 'Gender'], axis = 1)"
   ]
  },
  {
   "cell_type": "markdown",
   "metadata": {
    "id": "Wgi6F_nP8Lw7"
   },
   "source": [
    "### 11. df_str은 OneHotEncoder를 사용하여, df_num는 MinMaxScaler를 이용하여 전처리하세요\n",
    "* df_str은 str_scaled에 저장\n",
    "* df_num은 num_scaled에 저장"
   ]
  },
  {
   "cell_type": "code",
   "execution_count": 21,
   "metadata": {},
   "outputs": [],
   "source": [
    "from sklearn.preprocessing import OneHotEncoder, MinMaxScaler\n",
    "\n",
    "oh_enc = OneHotEncoder()\n",
    "str_scaled = oh_enc.fit_transform(df_str)\n",
    "\n",
    "mm_scaler = MinMaxScaler()\n",
    "num_scaled = mm_scaler.fit_transform(df_num)"
   ]
  },
  {
   "cell_type": "markdown",
   "metadata": {
    "id": "NQCaibb49IRy"
   },
   "source": [
    "### 12. str_scaled, num_scaled를 데이터프레임으로 바꾼뒤 axis =1로 합치고 data에 저장하세요\n",
    "* str_scaled는 toarray() 함수를 통해 넘파이 배열로 만들기"
   ]
  },
  {
   "cell_type": "code",
   "execution_count": 22,
   "metadata": {},
   "outputs": [
    {
     "name": "stdout",
     "output_type": "stream",
     "text": [
      "(8009, 23)\n"
     ]
    }
   ],
   "source": [
    "import numpy as np\n",
    "\n",
    "data = np.concatenate([str_scaled.toarray(), num_scaled], axis = 1)\n",
    "print(data.shape)"
   ]
  },
  {
   "cell_type": "markdown",
   "metadata": {
    "id": "-XW1xk6a-7Jx"
   },
   "source": [
    "### 13. train_test_split을 사용하여 data는 X_train, X_test, y는 y_train, y_test로 나누세요\n",
    "* 비율은 9:1\n",
    "* random_state는 0"
   ]
  },
  {
   "cell_type": "code",
   "execution_count": 23,
   "metadata": {},
   "outputs": [],
   "source": [
    "from sklearn.model_selection import train_test_split\n",
    "\n",
    "X_train, X_test, y_train, y_test = train_test_split(data, y, test_size = 0.1, random_state=0)"
   ]
  },
  {
   "cell_type": "code",
   "execution_count": 24,
   "metadata": {},
   "outputs": [
    {
     "name": "stdout",
     "output_type": "stream",
     "text": [
      "(7208, 23) (801, 23) (7208,) (801,)\n"
     ]
    }
   ],
   "source": [
    "print(X_train.shape, X_test.shape, y_train.shape, y_test.shape)"
   ]
  },
  {
   "cell_type": "markdown",
   "metadata": {
    "id": "lssU7nfRVx-t"
   },
   "source": [
    "### 14. GradientBoostMachine을 사용하여 gbm 모델을 생성하세요\n",
    "* n_estimators = 200\n",
    "* max_depth = 5\n",
    "* learning_rate = 0.01\n",
    "* random_state = 120"
   ]
  },
  {
   "cell_type": "code",
   "execution_count": 25,
   "metadata": {},
   "outputs": [],
   "source": [
    "from sklearn.ensemble import GradientBoostingClassifier\n",
    "\n",
    "gbm = GradientBoostingClassifier(n_estimators=200, max_depth = 5, \n",
    "                                 learning_rate=0.01, random_state=120)"
   ]
  },
  {
   "cell_type": "markdown",
   "metadata": {
    "id": "yeSD-uoTXMWQ"
   },
   "source": [
    "### 15. 학습 데이터를 사용해 gbm 모델을 학습하고 테스트 데이터로 예측한 결과를 pred에 저장하세요"
   ]
  },
  {
   "cell_type": "code",
   "execution_count": 26,
   "metadata": {},
   "outputs": [
    {
     "data": {
      "text/html": [
       "<style>#sk-container-id-1 {color: black;}#sk-container-id-1 pre{padding: 0;}#sk-container-id-1 div.sk-toggleable {background-color: white;}#sk-container-id-1 label.sk-toggleable__label {cursor: pointer;display: block;width: 100%;margin-bottom: 0;padding: 0.3em;box-sizing: border-box;text-align: center;}#sk-container-id-1 label.sk-toggleable__label-arrow:before {content: \"▸\";float: left;margin-right: 0.25em;color: #696969;}#sk-container-id-1 label.sk-toggleable__label-arrow:hover:before {color: black;}#sk-container-id-1 div.sk-estimator:hover label.sk-toggleable__label-arrow:before {color: black;}#sk-container-id-1 div.sk-toggleable__content {max-height: 0;max-width: 0;overflow: hidden;text-align: left;background-color: #f0f8ff;}#sk-container-id-1 div.sk-toggleable__content pre {margin: 0.2em;color: black;border-radius: 0.25em;background-color: #f0f8ff;}#sk-container-id-1 input.sk-toggleable__control:checked~div.sk-toggleable__content {max-height: 200px;max-width: 100%;overflow: auto;}#sk-container-id-1 input.sk-toggleable__control:checked~label.sk-toggleable__label-arrow:before {content: \"▾\";}#sk-container-id-1 div.sk-estimator input.sk-toggleable__control:checked~label.sk-toggleable__label {background-color: #d4ebff;}#sk-container-id-1 div.sk-label input.sk-toggleable__control:checked~label.sk-toggleable__label {background-color: #d4ebff;}#sk-container-id-1 input.sk-hidden--visually {border: 0;clip: rect(1px 1px 1px 1px);clip: rect(1px, 1px, 1px, 1px);height: 1px;margin: -1px;overflow: hidden;padding: 0;position: absolute;width: 1px;}#sk-container-id-1 div.sk-estimator {font-family: monospace;background-color: #f0f8ff;border: 1px dotted black;border-radius: 0.25em;box-sizing: border-box;margin-bottom: 0.5em;}#sk-container-id-1 div.sk-estimator:hover {background-color: #d4ebff;}#sk-container-id-1 div.sk-parallel-item::after {content: \"\";width: 100%;border-bottom: 1px solid gray;flex-grow: 1;}#sk-container-id-1 div.sk-label:hover label.sk-toggleable__label {background-color: #d4ebff;}#sk-container-id-1 div.sk-serial::before {content: \"\";position: absolute;border-left: 1px solid gray;box-sizing: border-box;top: 0;bottom: 0;left: 50%;z-index: 0;}#sk-container-id-1 div.sk-serial {display: flex;flex-direction: column;align-items: center;background-color: white;padding-right: 0.2em;padding-left: 0.2em;position: relative;}#sk-container-id-1 div.sk-item {position: relative;z-index: 1;}#sk-container-id-1 div.sk-parallel {display: flex;align-items: stretch;justify-content: center;background-color: white;position: relative;}#sk-container-id-1 div.sk-item::before, #sk-container-id-1 div.sk-parallel-item::before {content: \"\";position: absolute;border-left: 1px solid gray;box-sizing: border-box;top: 0;bottom: 0;left: 50%;z-index: -1;}#sk-container-id-1 div.sk-parallel-item {display: flex;flex-direction: column;z-index: 1;position: relative;background-color: white;}#sk-container-id-1 div.sk-parallel-item:first-child::after {align-self: flex-end;width: 50%;}#sk-container-id-1 div.sk-parallel-item:last-child::after {align-self: flex-start;width: 50%;}#sk-container-id-1 div.sk-parallel-item:only-child::after {width: 0;}#sk-container-id-1 div.sk-dashed-wrapped {border: 1px dashed gray;margin: 0 0.4em 0.5em 0.4em;box-sizing: border-box;padding-bottom: 0.4em;background-color: white;}#sk-container-id-1 div.sk-label label {font-family: monospace;font-weight: bold;display: inline-block;line-height: 1.2em;}#sk-container-id-1 div.sk-label-container {text-align: center;}#sk-container-id-1 div.sk-container {/* jupyter's `normalize.less` sets `[hidden] { display: none; }` but bootstrap.min.css set `[hidden] { display: none !important; }` so we also need the `!important` here to be able to override the default hidden behavior on the sphinx rendered scikit-learn.org. See: https://github.com/scikit-learn/scikit-learn/issues/21755 */display: inline-block !important;position: relative;}#sk-container-id-1 div.sk-text-repr-fallback {display: none;}</style><div id=\"sk-container-id-1\" class=\"sk-top-container\"><div class=\"sk-text-repr-fallback\"><pre>GradientBoostingClassifier(learning_rate=0.01, max_depth=5, n_estimators=200,\n",
       "                           random_state=120)</pre><b>In a Jupyter environment, please rerun this cell to show the HTML representation or trust the notebook. <br />On GitHub, the HTML representation is unable to render, please try loading this page with nbviewer.org.</b></div><div class=\"sk-container\" hidden><div class=\"sk-item\"><div class=\"sk-estimator sk-toggleable\"><input class=\"sk-toggleable__control sk-hidden--visually\" id=\"sk-estimator-id-1\" type=\"checkbox\" checked><label for=\"sk-estimator-id-1\" class=\"sk-toggleable__label sk-toggleable__label-arrow\">GradientBoostingClassifier</label><div class=\"sk-toggleable__content\"><pre>GradientBoostingClassifier(learning_rate=0.01, max_depth=5, n_estimators=200,\n",
       "                           random_state=120)</pre></div></div></div></div></div>"
      ],
      "text/plain": [
       "GradientBoostingClassifier(learning_rate=0.01, max_depth=5, n_estimators=200,\n",
       "                           random_state=120)"
      ]
     },
     "execution_count": 26,
     "metadata": {},
     "output_type": "execute_result"
    }
   ],
   "source": [
    "gbm.fit(X_train, y_train)"
   ]
  },
  {
   "cell_type": "code",
   "execution_count": 27,
   "metadata": {},
   "outputs": [],
   "source": [
    "pred = gbm.predict(X_test)"
   ]
  },
  {
   "cell_type": "code",
   "execution_count": 28,
   "metadata": {},
   "outputs": [],
   "source": [
    "pred_proba = gbm.predict_proba(X_test)"
   ]
  },
  {
   "cell_type": "markdown",
   "metadata": {
    "id": "iJ-guGr6Xaua"
   },
   "source": [
    "### 16. roc_auc_score를 사용하여 y_test와 pred를 평가하세요"
   ]
  },
  {
   "cell_type": "code",
   "execution_count": 29,
   "metadata": {},
   "outputs": [
    {
     "data": {
      "text/plain": [
       "0.6605632040050062"
      ]
     },
     "execution_count": 29,
     "metadata": {},
     "output_type": "execute_result"
    }
   ],
   "source": [
    "from sklearn.metrics import roc_auc_score\n",
    "\n",
    "roc_auc_score(y_test, pred_proba[:, 1])"
   ]
  },
  {
   "cell_type": "markdown",
   "metadata": {},
   "source": [
    "### 17. 모델 성능 향상을 위해 다양한 방법을 시도하여보세요"
   ]
  },
  {
   "cell_type": "code",
   "execution_count": 54,
   "metadata": {},
   "outputs": [],
   "source": [
    "df = pd.read_csv('https://raw.githubusercontent.com/kim-juwan/data_folder/main/data/shipment_trn.csv')\n",
    "df['Discount_offered'] = df['Discount_offered'].apply(lambda x : int(x.replace(' *7 ', '7')))"
   ]
  },
  {
   "cell_type": "code",
   "execution_count": 55,
   "metadata": {},
   "outputs": [
    {
     "name": "stdout",
     "output_type": "stream",
     "text": [
      "<class 'pandas.core.frame.DataFrame'>\n",
      "RangeIndex: 8009 entries, 0 to 8008\n",
      "Data columns (total 12 columns):\n",
      " #   Column               Non-Null Count  Dtype \n",
      "---  ------               --------------  ----- \n",
      " 0   ID                   8009 non-null   int64 \n",
      " 1   Warehouse_block      8009 non-null   object\n",
      " 2   Mode_of_Shipment     8009 non-null   object\n",
      " 3   Customer_care_calls  8009 non-null   int64 \n",
      " 4   Customer_rating      8009 non-null   int64 \n",
      " 5   Cost_of_the_Product  8009 non-null   int64 \n",
      " 6   Prior_purchases      8009 non-null   int64 \n",
      " 7   Product_importance   8009 non-null   object\n",
      " 8   Gender               8009 non-null   object\n",
      " 9   Discount_offered     8009 non-null   int64 \n",
      " 10  Weight_in_gms        8009 non-null   int64 \n",
      " 11  Reached.on.Time_Y.N  8009 non-null   int64 \n",
      "dtypes: int64(8), object(4)\n",
      "memory usage: 751.0+ KB\n"
     ]
    }
   ],
   "source": [
    "df.info()"
   ]
  },
  {
   "cell_type": "code",
   "execution_count": 56,
   "metadata": {
    "id": "8CYEmqVTNS8f"
   },
   "outputs": [],
   "source": [
    "# 불필요한 컬럼 제거\n",
    "obj_col = ['Warehouse_block', 'Mode_of_Shipment',  \n",
    "           'Customer_rating', 'Product_importance', 'Gender']\n",
    "num_col = ['Customer_care_calls', 'Cost_of_the_Product', 'Prior_purchases', \n",
    "           'Discount_offered', 'Weight_in_gms']"
   ]
  },
  {
   "cell_type": "code",
   "execution_count": 57,
   "metadata": {},
   "outputs": [
    {
     "name": "stdout",
     "output_type": "stream",
     "text": [
      "ShapiroResult(statistic=0.971718430519104, pvalue=1.2006831215269167e-26)\n",
      "ShapiroResult(statistic=0.9702005386352539, pvalue=7.636365794421968e-29)\n",
      "MannwhitneyuResult(statistic=8325869.0, pvalue=0.0010912525389018888)\n"
     ]
    }
   ],
   "source": [
    "a = df[df['Reached.on.Time_Y.N'] == 0]['Cost_of_the_Product']\n",
    "b = df[df['Reached.on.Time_Y.N'] == 1]['Cost_of_the_Product']\n",
    "print(stats.shapiro(a))\n",
    "print(stats.shapiro(b))\n",
    "print(stats.mannwhitneyu(a,b))"
   ]
  },
  {
   "cell_type": "code",
   "execution_count": 58,
   "metadata": {},
   "outputs": [
    {
     "name": "stdout",
     "output_type": "stream",
     "text": [
      "ShapiroResult(statistic=0.8383628129959106, pvalue=0.0)\n",
      "ShapiroResult(statistic=0.8136800527572632, pvalue=0.0)\n",
      "MannwhitneyuResult(statistic=8464341.0, pvalue=1.90481977395726e-06)\n"
     ]
    }
   ],
   "source": [
    "a = df[df['Reached.on.Time_Y.N'] == 0]['Prior_purchases']\n",
    "b = df[df['Reached.on.Time_Y.N'] == 1]['Prior_purchases']\n",
    "print(stats.shapiro(a))\n",
    "print(stats.shapiro(b))\n",
    "print(stats.mannwhitneyu(a,b))"
   ]
  },
  {
   "cell_type": "code",
   "execution_count": 59,
   "metadata": {},
   "outputs": [
    {
     "name": "stdout",
     "output_type": "stream",
     "text": [
      "ShapiroResult(statistic=0.9355440735816956, pvalue=1.3346301764822224e-37)\n",
      "ShapiroResult(statistic=0.8062725067138672, pvalue=0.0)\n",
      "MannwhitneyuResult(statistic=6382084.0, pvalue=3.7806011384469705e-55)\n"
     ]
    }
   ],
   "source": [
    "a = df[df['Reached.on.Time_Y.N'] == 0]['Discount_offered']\n",
    "b = df[df['Reached.on.Time_Y.N'] == 1]['Discount_offered']\n",
    "print(stats.shapiro(a))\n",
    "print(stats.shapiro(b))\n",
    "print(stats.mannwhitneyu(a,b))"
   ]
  },
  {
   "cell_type": "code",
   "execution_count": 60,
   "metadata": {},
   "outputs": [
    {
     "name": "stdout",
     "output_type": "stream",
     "text": [
      "Chi2ContingencyResult(statistic=0.47653125080557207, pvalue=0.9757450811253963, dof=4, expected_freq=array([[ 627.54800849,  708.45199151],\n",
      "       [ 637.88188288,  720.11811712],\n",
      "       [ 619.56274192,  699.43725808],\n",
      "       [ 631.305781  ,  712.694219  ],\n",
      "       [1245.70158572, 1406.29841428]]))\n"
     ]
    }
   ],
   "source": [
    "crosstab = pd.crosstab(df['Warehouse_block'], df['Reached.on.Time_Y.N'])\n",
    "print(stats.chi2_contingency(crosstab))"
   ]
  },
  {
   "cell_type": "code",
   "execution_count": 61,
   "metadata": {},
   "outputs": [
    {
     "name": "stdout",
     "output_type": "stream",
     "text": [
      "Chi2ContingencyResult(statistic=0.3329083593915269, pvalue=0.8466616103392413, dof=2, expected_freq=array([[ 626.60856536,  707.39143464],\n",
      "       [ 598.42527157,  675.57472843],\n",
      "       [2536.96616307, 2864.03383693]]))\n"
     ]
    }
   ],
   "source": [
    "crosstab = pd.crosstab(df['Mode_of_Shipment'], df['Reached.on.Time_Y.N'])\n",
    "print(stats.chi2_contingency(crosstab))"
   ]
  },
  {
   "cell_type": "code",
   "execution_count": 62,
   "metadata": {},
   "outputs": [
    {
     "name": "stdout",
     "output_type": "stream",
     "text": [
      "Chi2ContingencyResult(statistic=2.902068452624337, pvalue=0.57434549409873, dof=4, expected_freq=array([[758.13060307, 855.86939693],\n",
      "       [739.81146211, 835.18853789],\n",
      "       [773.1616931 , 872.8383069 ],\n",
      "       [745.44812086, 841.55187914],\n",
      "       [745.44812086, 841.55187914]]))\n"
     ]
    }
   ],
   "source": [
    "crosstab = pd.crosstab(df['Customer_rating'], df['Reached.on.Time_Y.N'])\n",
    "print(stats.chi2_contingency(crosstab))"
   ]
  },
  {
   "cell_type": "code",
   "execution_count": 63,
   "metadata": {},
   "outputs": [
    {
     "name": "stdout",
     "output_type": "stream",
     "text": [
      "Chi2ContingencyResult(statistic=1.778395315149785, pvalue=0.1823464960090655, dof=1, expected_freq=array([[1904.72093894, 2150.27906106],\n",
      "       [1857.27906106, 2096.72093894]]))\n"
     ]
    }
   ],
   "source": [
    "crosstab = pd.crosstab(df['Gender'], df['Reached.on.Time_Y.N'])\n",
    "print(stats.chi2_contingency(crosstab))"
   ]
  },
  {
   "cell_type": "code",
   "execution_count": 80,
   "metadata": {},
   "outputs": [],
   "source": [
    "# 불필요한 컬럼 제거\n",
    "obj_col = ['Product_importance']\n",
    "num_col = ['Customer_care_calls', 'Cost_of_the_Product', 'Prior_purchases', \n",
    "           'Discount_offered', 'Weight_in_gms']"
   ]
  },
  {
   "cell_type": "code",
   "execution_count": 81,
   "metadata": {},
   "outputs": [],
   "source": [
    "from sklearn.pipeline import Pipeline\n",
    "from sklearn.compose import ColumnTransformer\n",
    "from sklearn.model_selection import GridSearchCV\n",
    "\n",
    "\n",
    "ct = ColumnTransformer([('onehot', OneHotEncoder(), obj_col),\n",
    "                        ('scaler', MinMaxScaler(), num_col)])\n",
    "pipe = Pipeline([('ct', ct), \n",
    "                  ('gbm', GradientBoostingClassifier(n_estimators=200,\n",
    "                                                     learning_rate = 0.01, \n",
    "                                                    random_state=120))])\n",
    "\n",
    "params = {'gbm__max_depth' : [3, 5, 7, 9]}\n",
    "\n",
    "grid = GridSearchCV(pipe, param_grid = params, scoring='roc_auc', \n",
    "                    cv = 3, verbose = True)"
   ]
  },
  {
   "cell_type": "code",
   "execution_count": 82,
   "metadata": {},
   "outputs": [],
   "source": [
    "X = df.iloc[:, 1:-1]\n",
    "y = df['Reached.on.Time_Y.N']\n",
    "\n",
    "X_train, X_test, y_train, y_test = train_test_split(X, y, test_size = 0.1, \n",
    "                                                    random_state=0)"
   ]
  },
  {
   "cell_type": "code",
   "execution_count": 83,
   "metadata": {},
   "outputs": [
    {
     "name": "stdout",
     "output_type": "stream",
     "text": [
      "Fitting 3 folds for each of 4 candidates, totalling 12 fits\n"
     ]
    },
    {
     "data": {
      "text/html": [
       "<style>#sk-container-id-3 {color: black;}#sk-container-id-3 pre{padding: 0;}#sk-container-id-3 div.sk-toggleable {background-color: white;}#sk-container-id-3 label.sk-toggleable__label {cursor: pointer;display: block;width: 100%;margin-bottom: 0;padding: 0.3em;box-sizing: border-box;text-align: center;}#sk-container-id-3 label.sk-toggleable__label-arrow:before {content: \"▸\";float: left;margin-right: 0.25em;color: #696969;}#sk-container-id-3 label.sk-toggleable__label-arrow:hover:before {color: black;}#sk-container-id-3 div.sk-estimator:hover label.sk-toggleable__label-arrow:before {color: black;}#sk-container-id-3 div.sk-toggleable__content {max-height: 0;max-width: 0;overflow: hidden;text-align: left;background-color: #f0f8ff;}#sk-container-id-3 div.sk-toggleable__content pre {margin: 0.2em;color: black;border-radius: 0.25em;background-color: #f0f8ff;}#sk-container-id-3 input.sk-toggleable__control:checked~div.sk-toggleable__content {max-height: 200px;max-width: 100%;overflow: auto;}#sk-container-id-3 input.sk-toggleable__control:checked~label.sk-toggleable__label-arrow:before {content: \"▾\";}#sk-container-id-3 div.sk-estimator input.sk-toggleable__control:checked~label.sk-toggleable__label {background-color: #d4ebff;}#sk-container-id-3 div.sk-label input.sk-toggleable__control:checked~label.sk-toggleable__label {background-color: #d4ebff;}#sk-container-id-3 input.sk-hidden--visually {border: 0;clip: rect(1px 1px 1px 1px);clip: rect(1px, 1px, 1px, 1px);height: 1px;margin: -1px;overflow: hidden;padding: 0;position: absolute;width: 1px;}#sk-container-id-3 div.sk-estimator {font-family: monospace;background-color: #f0f8ff;border: 1px dotted black;border-radius: 0.25em;box-sizing: border-box;margin-bottom: 0.5em;}#sk-container-id-3 div.sk-estimator:hover {background-color: #d4ebff;}#sk-container-id-3 div.sk-parallel-item::after {content: \"\";width: 100%;border-bottom: 1px solid gray;flex-grow: 1;}#sk-container-id-3 div.sk-label:hover label.sk-toggleable__label {background-color: #d4ebff;}#sk-container-id-3 div.sk-serial::before {content: \"\";position: absolute;border-left: 1px solid gray;box-sizing: border-box;top: 0;bottom: 0;left: 50%;z-index: 0;}#sk-container-id-3 div.sk-serial {display: flex;flex-direction: column;align-items: center;background-color: white;padding-right: 0.2em;padding-left: 0.2em;position: relative;}#sk-container-id-3 div.sk-item {position: relative;z-index: 1;}#sk-container-id-3 div.sk-parallel {display: flex;align-items: stretch;justify-content: center;background-color: white;position: relative;}#sk-container-id-3 div.sk-item::before, #sk-container-id-3 div.sk-parallel-item::before {content: \"\";position: absolute;border-left: 1px solid gray;box-sizing: border-box;top: 0;bottom: 0;left: 50%;z-index: -1;}#sk-container-id-3 div.sk-parallel-item {display: flex;flex-direction: column;z-index: 1;position: relative;background-color: white;}#sk-container-id-3 div.sk-parallel-item:first-child::after {align-self: flex-end;width: 50%;}#sk-container-id-3 div.sk-parallel-item:last-child::after {align-self: flex-start;width: 50%;}#sk-container-id-3 div.sk-parallel-item:only-child::after {width: 0;}#sk-container-id-3 div.sk-dashed-wrapped {border: 1px dashed gray;margin: 0 0.4em 0.5em 0.4em;box-sizing: border-box;padding-bottom: 0.4em;background-color: white;}#sk-container-id-3 div.sk-label label {font-family: monospace;font-weight: bold;display: inline-block;line-height: 1.2em;}#sk-container-id-3 div.sk-label-container {text-align: center;}#sk-container-id-3 div.sk-container {/* jupyter's `normalize.less` sets `[hidden] { display: none; }` but bootstrap.min.css set `[hidden] { display: none !important; }` so we also need the `!important` here to be able to override the default hidden behavior on the sphinx rendered scikit-learn.org. See: https://github.com/scikit-learn/scikit-learn/issues/21755 */display: inline-block !important;position: relative;}#sk-container-id-3 div.sk-text-repr-fallback {display: none;}</style><div id=\"sk-container-id-3\" class=\"sk-top-container\"><div class=\"sk-text-repr-fallback\"><pre>GridSearchCV(cv=3,\n",
       "             estimator=Pipeline(steps=[(&#x27;ct&#x27;,\n",
       "                                        ColumnTransformer(transformers=[(&#x27;onehot&#x27;,\n",
       "                                                                         OneHotEncoder(),\n",
       "                                                                         [&#x27;Product_importance&#x27;]),\n",
       "                                                                        (&#x27;scaler&#x27;,\n",
       "                                                                         MinMaxScaler(),\n",
       "                                                                         [&#x27;Customer_care_calls&#x27;,\n",
       "                                                                          &#x27;Cost_of_the_Product&#x27;,\n",
       "                                                                          &#x27;Prior_purchases&#x27;,\n",
       "                                                                          &#x27;Discount_offered&#x27;,\n",
       "                                                                          &#x27;Weight_in_gms&#x27;])])),\n",
       "                                       (&#x27;gbm&#x27;,\n",
       "                                        GradientBoostingClassifier(learning_rate=0.01,\n",
       "                                                                   n_estimators=200,\n",
       "                                                                   random_state=120))]),\n",
       "             param_grid={&#x27;gbm__max_depth&#x27;: [3, 5, 7, 9]}, scoring=&#x27;roc_auc&#x27;,\n",
       "             verbose=True)</pre><b>In a Jupyter environment, please rerun this cell to show the HTML representation or trust the notebook. <br />On GitHub, the HTML representation is unable to render, please try loading this page with nbviewer.org.</b></div><div class=\"sk-container\" hidden><div class=\"sk-item sk-dashed-wrapped\"><div class=\"sk-label-container\"><div class=\"sk-label sk-toggleable\"><input class=\"sk-toggleable__control sk-hidden--visually\" id=\"sk-estimator-id-10\" type=\"checkbox\" ><label for=\"sk-estimator-id-10\" class=\"sk-toggleable__label sk-toggleable__label-arrow\">GridSearchCV</label><div class=\"sk-toggleable__content\"><pre>GridSearchCV(cv=3,\n",
       "             estimator=Pipeline(steps=[(&#x27;ct&#x27;,\n",
       "                                        ColumnTransformer(transformers=[(&#x27;onehot&#x27;,\n",
       "                                                                         OneHotEncoder(),\n",
       "                                                                         [&#x27;Product_importance&#x27;]),\n",
       "                                                                        (&#x27;scaler&#x27;,\n",
       "                                                                         MinMaxScaler(),\n",
       "                                                                         [&#x27;Customer_care_calls&#x27;,\n",
       "                                                                          &#x27;Cost_of_the_Product&#x27;,\n",
       "                                                                          &#x27;Prior_purchases&#x27;,\n",
       "                                                                          &#x27;Discount_offered&#x27;,\n",
       "                                                                          &#x27;Weight_in_gms&#x27;])])),\n",
       "                                       (&#x27;gbm&#x27;,\n",
       "                                        GradientBoostingClassifier(learning_rate=0.01,\n",
       "                                                                   n_estimators=200,\n",
       "                                                                   random_state=120))]),\n",
       "             param_grid={&#x27;gbm__max_depth&#x27;: [3, 5, 7, 9]}, scoring=&#x27;roc_auc&#x27;,\n",
       "             verbose=True)</pre></div></div></div><div class=\"sk-parallel\"><div class=\"sk-parallel-item\"><div class=\"sk-item\"><div class=\"sk-label-container\"><div class=\"sk-label sk-toggleable\"><input class=\"sk-toggleable__control sk-hidden--visually\" id=\"sk-estimator-id-11\" type=\"checkbox\" ><label for=\"sk-estimator-id-11\" class=\"sk-toggleable__label sk-toggleable__label-arrow\">estimator: Pipeline</label><div class=\"sk-toggleable__content\"><pre>Pipeline(steps=[(&#x27;ct&#x27;,\n",
       "                 ColumnTransformer(transformers=[(&#x27;onehot&#x27;, OneHotEncoder(),\n",
       "                                                  [&#x27;Product_importance&#x27;]),\n",
       "                                                 (&#x27;scaler&#x27;, MinMaxScaler(),\n",
       "                                                  [&#x27;Customer_care_calls&#x27;,\n",
       "                                                   &#x27;Cost_of_the_Product&#x27;,\n",
       "                                                   &#x27;Prior_purchases&#x27;,\n",
       "                                                   &#x27;Discount_offered&#x27;,\n",
       "                                                   &#x27;Weight_in_gms&#x27;])])),\n",
       "                (&#x27;gbm&#x27;,\n",
       "                 GradientBoostingClassifier(learning_rate=0.01,\n",
       "                                            n_estimators=200,\n",
       "                                            random_state=120))])</pre></div></div></div><div class=\"sk-serial\"><div class=\"sk-item\"><div class=\"sk-serial\"><div class=\"sk-item sk-dashed-wrapped\"><div class=\"sk-label-container\"><div class=\"sk-label sk-toggleable\"><input class=\"sk-toggleable__control sk-hidden--visually\" id=\"sk-estimator-id-12\" type=\"checkbox\" ><label for=\"sk-estimator-id-12\" class=\"sk-toggleable__label sk-toggleable__label-arrow\">ct: ColumnTransformer</label><div class=\"sk-toggleable__content\"><pre>ColumnTransformer(transformers=[(&#x27;onehot&#x27;, OneHotEncoder(),\n",
       "                                 [&#x27;Product_importance&#x27;]),\n",
       "                                (&#x27;scaler&#x27;, MinMaxScaler(),\n",
       "                                 [&#x27;Customer_care_calls&#x27;, &#x27;Cost_of_the_Product&#x27;,\n",
       "                                  &#x27;Prior_purchases&#x27;, &#x27;Discount_offered&#x27;,\n",
       "                                  &#x27;Weight_in_gms&#x27;])])</pre></div></div></div><div class=\"sk-parallel\"><div class=\"sk-parallel-item\"><div class=\"sk-item\"><div class=\"sk-label-container\"><div class=\"sk-label sk-toggleable\"><input class=\"sk-toggleable__control sk-hidden--visually\" id=\"sk-estimator-id-13\" type=\"checkbox\" ><label for=\"sk-estimator-id-13\" class=\"sk-toggleable__label sk-toggleable__label-arrow\">onehot</label><div class=\"sk-toggleable__content\"><pre>[&#x27;Product_importance&#x27;]</pre></div></div></div><div class=\"sk-serial\"><div class=\"sk-item\"><div class=\"sk-estimator sk-toggleable\"><input class=\"sk-toggleable__control sk-hidden--visually\" id=\"sk-estimator-id-14\" type=\"checkbox\" ><label for=\"sk-estimator-id-14\" class=\"sk-toggleable__label sk-toggleable__label-arrow\">OneHotEncoder</label><div class=\"sk-toggleable__content\"><pre>OneHotEncoder()</pre></div></div></div></div></div></div><div class=\"sk-parallel-item\"><div class=\"sk-item\"><div class=\"sk-label-container\"><div class=\"sk-label sk-toggleable\"><input class=\"sk-toggleable__control sk-hidden--visually\" id=\"sk-estimator-id-15\" type=\"checkbox\" ><label for=\"sk-estimator-id-15\" class=\"sk-toggleable__label sk-toggleable__label-arrow\">scaler</label><div class=\"sk-toggleable__content\"><pre>[&#x27;Customer_care_calls&#x27;, &#x27;Cost_of_the_Product&#x27;, &#x27;Prior_purchases&#x27;, &#x27;Discount_offered&#x27;, &#x27;Weight_in_gms&#x27;]</pre></div></div></div><div class=\"sk-serial\"><div class=\"sk-item\"><div class=\"sk-estimator sk-toggleable\"><input class=\"sk-toggleable__control sk-hidden--visually\" id=\"sk-estimator-id-16\" type=\"checkbox\" ><label for=\"sk-estimator-id-16\" class=\"sk-toggleable__label sk-toggleable__label-arrow\">MinMaxScaler</label><div class=\"sk-toggleable__content\"><pre>MinMaxScaler()</pre></div></div></div></div></div></div></div></div><div class=\"sk-item\"><div class=\"sk-estimator sk-toggleable\"><input class=\"sk-toggleable__control sk-hidden--visually\" id=\"sk-estimator-id-17\" type=\"checkbox\" ><label for=\"sk-estimator-id-17\" class=\"sk-toggleable__label sk-toggleable__label-arrow\">GradientBoostingClassifier</label><div class=\"sk-toggleable__content\"><pre>GradientBoostingClassifier(learning_rate=0.01, n_estimators=200,\n",
       "                           random_state=120)</pre></div></div></div></div></div></div></div></div></div></div></div></div>"
      ],
      "text/plain": [
       "GridSearchCV(cv=3,\n",
       "             estimator=Pipeline(steps=[('ct',\n",
       "                                        ColumnTransformer(transformers=[('onehot',\n",
       "                                                                         OneHotEncoder(),\n",
       "                                                                         ['Product_importance']),\n",
       "                                                                        ('scaler',\n",
       "                                                                         MinMaxScaler(),\n",
       "                                                                         ['Customer_care_calls',\n",
       "                                                                          'Cost_of_the_Product',\n",
       "                                                                          'Prior_purchases',\n",
       "                                                                          'Discount_offered',\n",
       "                                                                          'Weight_in_gms'])])),\n",
       "                                       ('gbm',\n",
       "                                        GradientBoostingClassifier(learning_rate=0.01,\n",
       "                                                                   n_estimators=200,\n",
       "                                                                   random_state=120))]),\n",
       "             param_grid={'gbm__max_depth': [3, 5, 7, 9]}, scoring='roc_auc',\n",
       "             verbose=True)"
      ]
     },
     "execution_count": 83,
     "metadata": {},
     "output_type": "execute_result"
    }
   ],
   "source": [
    "grid.fit(X_train, y_train)"
   ]
  },
  {
   "cell_type": "code",
   "execution_count": 84,
   "metadata": {},
   "outputs": [
    {
     "name": "stdout",
     "output_type": "stream",
     "text": [
      "{'gbm__max_depth': 3}\n"
     ]
    }
   ],
   "source": [
    "print(grid.best_params_)\n",
    "model = grid.best_estimator_"
   ]
  },
  {
   "cell_type": "code",
   "execution_count": 85,
   "metadata": {},
   "outputs": [
    {
     "data": {
      "text/plain": [
       "0.658438673341677"
      ]
     },
     "execution_count": 85,
     "metadata": {},
     "output_type": "execute_result"
    }
   ],
   "source": [
    "pred_proba = model.predict_proba(X_test)\n",
    "\n",
    "roc_auc_score(y_test, pred_proba[:, 1])"
   ]
  },
  {
   "cell_type": "code",
   "execution_count": 86,
   "metadata": {},
   "outputs": [
    {
     "name": "stdout",
     "output_type": "stream",
     "text": [
      "Fitting 3 folds for each of 1 candidates, totalling 3 fits\n"
     ]
    },
    {
     "data": {
      "text/plain": [
       "0.6569899874843554"
      ]
     },
     "execution_count": 86,
     "metadata": {},
     "output_type": "execute_result"
    }
   ],
   "source": [
    "from xgboost import XGBRFClassifier\n",
    "\n",
    "ct = ColumnTransformer([('onehot', OneHotEncoder(), obj_col),\n",
    "                        ('scaler', MinMaxScaler(), num_col)])\n",
    "pipe = Pipeline([('ct', ct), \n",
    "                  ('xgb', XGBRFClassifier(n_estimators = 200, \n",
    "                                          learning_rate=0.01,  \n",
    "                                          random_state = 120))])\n",
    "\n",
    "params = {'xgb__max_depth' : [3]}\n",
    "\n",
    "grid = GridSearchCV(pipe, param_grid = params, scoring='roc_auc', \n",
    "                    cv = 3, verbose = True)\n",
    "\n",
    "grid.fit(X_train, y_train)\n",
    "pred_proba = grid.predict_proba(X_test)\n",
    "roc_auc_score(y_test, pred_proba[:, 1])"
   ]
  },
  {
   "cell_type": "code",
   "execution_count": null,
   "metadata": {},
   "outputs": [],
   "source": []
  }
 ],
 "metadata": {
  "colab": {
   "authorship_tag": "ABX9TyNdzX/n/4FqkYMFqia+c3QP",
   "provenance": [
    {
     "file_id": "1ulTkJA5AvjM5sZK3eYpqzisFXOgNsub5",
     "timestamp": 1693398515999
    }
   ]
  },
  "kernelspec": {
   "display_name": "Python 3 (ipykernel)",
   "language": "python",
   "name": "python3"
  },
  "language_info": {
   "codemirror_mode": {
    "name": "ipython",
    "version": 3
   },
   "file_extension": ".py",
   "mimetype": "text/x-python",
   "name": "python",
   "nbconvert_exporter": "python",
   "pygments_lexer": "ipython3",
   "version": "3.11.5"
  }
 },
 "nbformat": 4,
 "nbformat_minor": 4
}
