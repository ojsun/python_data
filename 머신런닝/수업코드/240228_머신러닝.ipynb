{
 "cells": [
  {
   "cell_type": "code",
   "execution_count": 70,
   "id": "775c23a5-d8d5-4d3a-b596-e356ce0dc3c3",
   "metadata": {},
   "outputs": [],
   "source": [
    "import warnings\n",
    "warnings.filterwarnings('ignore')"
   ]
  },
  {
   "cell_type": "code",
   "execution_count": null,
   "id": "40010ef1",
   "metadata": {},
   "outputs": [],
   "source": [
    "import pandas as pd\n",
    "\n",
    "df = pd.read_csv('../data/medical_cost.csv')\n",
    "df"
   ]
  },
  {
   "cell_type": "code",
   "execution_count": null,
   "id": "22377426",
   "metadata": {},
   "outputs": [],
   "source": [
    "df.describe()"
   ]
  },
  {
   "cell_type": "code",
   "execution_count": null,
   "id": "bc9a7bf6",
   "metadata": {},
   "outputs": [],
   "source": [
    "df['sex'].value_counts()"
   ]
  },
  {
   "cell_type": "code",
   "execution_count": null,
   "id": "01d7bc33",
   "metadata": {},
   "outputs": [],
   "source": [
    "df['smoker'].value_counts()"
   ]
  },
  {
   "cell_type": "code",
   "execution_count": null,
   "id": "a89c6e57",
   "metadata": {},
   "outputs": [],
   "source": [
    "df['region'].value_counts()"
   ]
  },
  {
   "cell_type": "code",
   "execution_count": null,
   "id": "26f1c418",
   "metadata": {},
   "outputs": [],
   "source": [
    "df['children'].value_counts()"
   ]
  },
  {
   "cell_type": "code",
   "execution_count": null,
   "id": "18d438f5",
   "metadata": {},
   "outputs": [],
   "source": [
    "df.info()"
   ]
  },
  {
   "cell_type": "code",
   "execution_count": null,
   "id": "01d2519e",
   "metadata": {},
   "outputs": [],
   "source": [
    "# 수치형 - 히스토그램\n",
    "import seaborn as sns\n",
    "\n",
    "sns.histplot(df['age'], kde=True)"
   ]
  },
  {
   "cell_type": "code",
   "execution_count": null,
   "id": "cb80cdf9",
   "metadata": {},
   "outputs": [],
   "source": [
    "sns.boxplot(df['age'])"
   ]
  },
  {
   "cell_type": "code",
   "execution_count": null,
   "id": "ac9aa795",
   "metadata": {},
   "outputs": [],
   "source": [
    "sns.histplot(df['bmi'], kde=True)"
   ]
  },
  {
   "cell_type": "code",
   "execution_count": null,
   "id": "98141436",
   "metadata": {},
   "outputs": [],
   "source": [
    "sns.boxplot(df['bmi'])"
   ]
  },
  {
   "cell_type": "code",
   "execution_count": null,
   "id": "dc45eac7",
   "metadata": {},
   "outputs": [],
   "source": [
    "sns.kdeplot(df['children'])"
   ]
  },
  {
   "cell_type": "code",
   "execution_count": null,
   "id": "0c66d897",
   "metadata": {},
   "outputs": [],
   "source": [
    "# 이변량 - 종속변수(수치형)/독립변수(수치/범주형)\n",
    "# 독(수) - 종(수) : 산점도, 상관관계 분석\n",
    "# 독(범) - 종(수) : 막대그래프(평균비교), T검정(2개), F검정(3개이상)"
   ]
  },
  {
   "cell_type": "code",
   "execution_count": null,
   "id": "132a87cf",
   "metadata": {},
   "outputs": [],
   "source": [
    "df.columns"
   ]
  },
  {
   "cell_type": "code",
   "execution_count": null,
   "id": "1347c1d6",
   "metadata": {},
   "outputs": [],
   "source": [
    "sns.pairplot(df, hue='region')"
   ]
  },
  {
   "cell_type": "code",
   "execution_count": null,
   "id": "84d89f04",
   "metadata": {},
   "outputs": [],
   "source": [
    "df.corr(numeric_only=True)"
   ]
  },
  {
   "cell_type": "code",
   "execution_count": null,
   "id": "eed0aedd",
   "metadata": {},
   "outputs": [],
   "source": [
    "df[df['smoker'] == 'yes'].corr(numeric_only=True)"
   ]
  },
  {
   "cell_type": "code",
   "execution_count": null,
   "id": "b61a0979",
   "metadata": {},
   "outputs": [],
   "source": [
    "df[df['smoker'] == 'no'].corr(numeric_only=True)"
   ]
  },
  {
   "cell_type": "code",
   "execution_count": null,
   "id": "5c81810d",
   "metadata": {},
   "outputs": [],
   "source": [
    "sns.barplot(data=df, x = 'sex', y = 'charges')"
   ]
  },
  {
   "cell_type": "code",
   "execution_count": null,
   "id": "7abb99eb",
   "metadata": {},
   "outputs": [],
   "source": [
    "sns.barplot(data=df, x = 'smoker', y = 'charges')"
   ]
  },
  {
   "cell_type": "code",
   "execution_count": null,
   "id": "ad558067",
   "metadata": {},
   "outputs": [],
   "source": [
    "sns.barplot(data=df, x = 'region', y = 'charges', estimator='var')"
   ]
  },
  {
   "cell_type": "code",
   "execution_count": null,
   "id": "295ef996",
   "metadata": {},
   "outputs": [],
   "source": [
    "sns.barplot(data=df, x = 'children', y = 'charges')"
   ]
  },
  {
   "cell_type": "code",
   "execution_count": 13,
   "id": "3f627efc",
   "metadata": {},
   "outputs": [],
   "source": [
    "# df['children']\n",
    "def children(x):\n",
    "    if (x == 0) or (x == 1):\n",
    "        return x\n",
    "    else:\n",
    "        return 2\n",
    "\n",
    "df['child'] = df['children'].apply(children)"
   ]
  },
  {
   "cell_type": "code",
   "execution_count": 14,
   "id": "5f131b36",
   "metadata": {},
   "outputs": [
    {
     "data": {
      "text/plain": [
       "<Axes: xlabel='child', ylabel='charges'>"
      ]
     },
     "execution_count": 14,
     "metadata": {},
     "output_type": "execute_result"
    },
    {
     "data": {
      "image/png": "[encoded data removed]",
      "text/plain": [
       "<Figure size 640x480 with 1 Axes>"
      ]
     },
     "metadata": {},
     "output_type": "display_data"
    }
   ],
   "source": [
    "sns.barplot(data=df, x = 'child', y = 'charges')"
   ]
  },
  {
   "cell_type": "code",
   "execution_count": 15,
   "id": "137c284c",
   "metadata": {},
   "outputs": [
    {
     "name": "stdout",
     "output_type": "stream",
     "text": [
      "ShapiroResult(statistic=0.7998431921005249, pvalue=4.942751968777452e-25)\n",
      "ShapiroResult(statistic=0.8188881278038025, pvalue=3.2090206869839427e-24)\n"
     ]
    }
   ],
   "source": [
    "# 성별 - 비용 : 정규성, 등분산성\n",
    "from scipy import stats\n",
    "\n",
    "s0 = df[df['sex'] == 'female']['charges']\n",
    "s1 = df[df['sex'] == 'male']['charges']\n",
    "\n",
    "print(stats.shapiro(s0))\n",
    "print(stats.shapiro(s1))"
   ]
  },
  {
   "cell_type": "code",
   "execution_count": 16,
   "id": "40ea5c03",
   "metadata": {},
   "outputs": [
    {
     "data": {
      "text/plain": [
       "MannwhitneyuResult(statistic=145437.0, pvalue=0.6430774634896359)"
      ]
     },
     "execution_count": 16,
     "metadata": {},
     "output_type": "execute_result"
    }
   ],
   "source": [
    "# 두 집단 모두 정규성을 가지지 않으므로 비모수 검정(맨휘트니유검정) 시행\n",
    "stats.mannwhitneyu(s0, s1)"
   ]
  },
  {
   "cell_type": "code",
   "execution_count": null,
   "id": "da3a7751",
   "metadata": {},
   "outputs": [],
   "source": [
    "stats.ttest_ind(s0, s1)"
   ]
  },
  {
   "cell_type": "code",
   "execution_count": null,
   "id": "0f7bb19a",
   "metadata": {},
   "outputs": [],
   "source": [
    "# 흡연여부 - 비용 : 정규성, 등분산성\n",
    "\n",
    "s0 = df[df['smoker'] == 'yes']['charges']\n",
    "s1 = df[df['smoker'] == 'no']['charges']\n",
    "\n",
    "print(stats.shapiro(s0))\n",
    "print(stats.shapiro(s1))"
   ]
  },
  {
   "cell_type": "code",
   "execution_count": null,
   "id": "58d5a864",
   "metadata": {},
   "outputs": [],
   "source": [
    "# 두 집단 모두 정규성을 가지지 않으므로 비모수 검정(맨휘트니유검정) 시행\n",
    "stats.mannwhitneyu(s0, s1)"
   ]
  },
  {
   "cell_type": "code",
   "execution_count": null,
   "id": "8cc99ce6",
   "metadata": {},
   "outputs": [],
   "source": [
    "stats.ttest_ind(s0, s1)"
   ]
  },
  {
   "cell_type": "code",
   "execution_count": null,
   "id": "8528e3a7",
   "metadata": {},
   "outputs": [],
   "source": [
    "# 지역 - 비용 : 정규성, 등분산성\n",
    "\n",
    "r0 = df[df['region'] == 'southwest']['charges']\n",
    "r1 = df[df['region'] == 'southeast']['charges']\n",
    "r2 = df[df['region'] == 'northwest']['charges']\n",
    "r3 = df[df['region'] == 'northeast']['charges']\n",
    "\n",
    "print(stats.shapiro(r0))\n",
    "print(stats.shapiro(r1))\n",
    "print(stats.shapiro(r2))\n",
    "print(stats.shapiro(r3))"
   ]
  },
  {
   "cell_type": "code",
   "execution_count": null,
   "id": "71fb8d7c",
   "metadata": {},
   "outputs": [],
   "source": [
    "# 정규성을 가지지 않으므로 비모수검정(크러스컬-월리스 검정)\n",
    "stats.kruskal(r0, r1, r2, r3)"
   ]
  },
  {
   "cell_type": "code",
   "execution_count": null,
   "id": "8f643969",
   "metadata": {},
   "outputs": [],
   "source": [
    "stats.f_oneway(r0, r1, r2, r3)"
   ]
  },
  {
   "cell_type": "code",
   "execution_count": null,
   "id": "1a2b6907",
   "metadata": {},
   "outputs": [],
   "source": [
    "# 자녀수 - 비용 : 정규성, 등분산성\n",
    "\n",
    "c0 = df[df['child'] == 0]['charges']\n",
    "c1 = df[df['child'] == 1]['charges']\n",
    "c2 = df[df['child'] == 2]['charges']\n",
    "\n",
    "print(stats.shapiro(c0))\n",
    "print(stats.shapiro(c1))\n",
    "print(stats.shapiro(c2))"
   ]
  },
  {
   "cell_type": "code",
   "execution_count": null,
   "id": "dcf36c92",
   "metadata": {},
   "outputs": [],
   "source": [
    "# 정규성을 가지지 않으므로 비모수 검정\n",
    "stats.kruskal(c0, c1, c2)"
   ]
  },
  {
   "cell_type": "code",
   "execution_count": null,
   "id": "f0976774",
   "metadata": {},
   "outputs": [],
   "source": [
    "df.columns"
   ]
  },
  {
   "cell_type": "code",
   "execution_count": null,
   "id": "9a09d6e1",
   "metadata": {},
   "outputs": [],
   "source": [
    "# age - 연관성 0.3 / smoker 연관지어서 높은 연관성 가진다.\n",
    "# sex - 연관성 X : 제외\n",
    "# bmi - 연관성 0.2 / smoker 연관지어서 높은 연관성 가진다.\n",
    "# children - 수치형으로 봤을때는 연관성x, 범주형으로 했을때도 연관성 X : 제외\n",
    "# child - children을 범주형(0,1,2) 묶어서 확인 > 연관성 o\n",
    "# smoker - 강한 연관성이 있다.\n",
    "# region - 연관성 X : 제외"
   ]
  },
  {
   "cell_type": "code",
   "execution_count": 17,
   "id": "6f74633f",
   "metadata": {},
   "outputs": [],
   "source": [
    "# 독립변수 / 종속변수 나누기\n",
    "X = df[['age', 'bmi', 'child', 'smoker']]\n",
    "y = df['charges']"
   ]
  },
  {
   "cell_type": "code",
   "execution_count": 18,
   "id": "99e2b20f",
   "metadata": {},
   "outputs": [],
   "source": [
    "# 다중공선성 - 각 독립변수들끼리 연관성이 있는지(독립적인지)\n",
    "# 모든 독립변수 - 숫자\n",
    "\n",
    "X = pd.get_dummies(X).astype('float')"
   ]
  },
  {
   "cell_type": "code",
   "execution_count": null,
   "id": "754fddde",
   "metadata": {},
   "outputs": [],
   "source": [
    "X.head(1)"
   ]
  },
  {
   "cell_type": "code",
   "execution_count": 19,
   "id": "64b93109",
   "metadata": {},
   "outputs": [
    {
     "data": {
      "text/plain": [
       "25.70398885753926"
      ]
     },
     "execution_count": 19,
     "metadata": {},
     "output_type": "execute_result"
    }
   ],
   "source": [
    "from statsmodels.stats.outliers_influence import variance_inflation_factor\n",
    "\n",
    "variance_inflation_factor(X,3)"
   ]
  },
  {
   "cell_type": "code",
   "execution_count": 20,
   "id": "4c228344",
   "metadata": {},
   "outputs": [
    {
     "data": {
      "text/html": [
       "<div>\n",
       "<style scoped>\n",
       "    .dataframe tbody tr th:only-of-type {\n",
       "        vertical-align: middle;\n",
       "    }\n",
       "\n",
       "    .dataframe tbody tr th {\n",
       "        vertical-align: top;\n",
       "    }\n",
       "\n",
       "    .dataframe thead th {\n",
       "        text-align: right;\n",
       "    }\n",
       "</style>\n",
       "<table border=\"1\" class=\"dataframe\">\n",
       "  <thead>\n",
       "    <tr style=\"text-align: right;\">\n",
       "      <th></th>\n",
       "      <th>age</th>\n",
       "      <th>bmi</th>\n",
       "      <th>child</th>\n",
       "      <th>smoker_no</th>\n",
       "      <th>smoker_yes</th>\n",
       "    </tr>\n",
       "  </thead>\n",
       "  <tbody>\n",
       "    <tr>\n",
       "      <th>0</th>\n",
       "      <td>1.745186</td>\n",
       "      <td>1.407897</td>\n",
       "      <td>0.0</td>\n",
       "      <td>1.0</td>\n",
       "      <td>0.0</td>\n",
       "    </tr>\n",
       "    <tr>\n",
       "      <th>1</th>\n",
       "      <td>0.551453</td>\n",
       "      <td>-0.477635</td>\n",
       "      <td>0.0</td>\n",
       "      <td>0.0</td>\n",
       "      <td>1.0</td>\n",
       "    </tr>\n",
       "    <tr>\n",
       "      <th>2</th>\n",
       "      <td>0.902551</td>\n",
       "      <td>0.419223</td>\n",
       "      <td>2.0</td>\n",
       "      <td>1.0</td>\n",
       "      <td>0.0</td>\n",
       "    </tr>\n",
       "    <tr>\n",
       "      <th>3</th>\n",
       "      <td>-0.431621</td>\n",
       "      <td>-1.411383</td>\n",
       "      <td>1.0</td>\n",
       "      <td>1.0</td>\n",
       "      <td>0.0</td>\n",
       "    </tr>\n",
       "    <tr>\n",
       "      <th>4</th>\n",
       "      <td>-0.642279</td>\n",
       "      <td>0.107700</td>\n",
       "      <td>1.0</td>\n",
       "      <td>1.0</td>\n",
       "      <td>0.0</td>\n",
       "    </tr>\n",
       "  </tbody>\n",
       "</table>\n",
       "</div>"
      ],
      "text/plain": [
       "        age       bmi  child  smoker_no  smoker_yes\n",
       "0  1.745186  1.407897    0.0        1.0         0.0\n",
       "1  0.551453 -0.477635    0.0        0.0         1.0\n",
       "2  0.902551  0.419223    2.0        1.0         0.0\n",
       "3 -0.431621 -1.411383    1.0        1.0         0.0\n",
       "4 -0.642279  0.107700    1.0        1.0         0.0"
      ]
     },
     "execution_count": 20,
     "metadata": {},
     "output_type": "execute_result"
    }
   ],
   "source": [
    "# 회귀 분석\n",
    "# 데이터 전처리 > 모델 선택 > 학습 > 예측 > 평가\n",
    "# 데이터전처리 - 인코딩 완료, 스케일링\n",
    "from sklearn.preprocessing import StandardScaler\n",
    "\n",
    "scaler = StandardScaler()\n",
    "age_bmi = scaler.fit_transform(X[['age', 'bmi']])\n",
    "X[['age', 'bmi']] = age_bmi\n",
    "X.head()"
   ]
  },
  {
   "cell_type": "code",
   "execution_count": 21,
   "id": "5a105705",
   "metadata": {},
   "outputs": [
    {
     "name": "stdout",
     "output_type": "stream",
     "text": [
      "(856, 5) (214, 5) (856,) (214,)\n"
     ]
    }
   ],
   "source": [
    "from sklearn.model_selection import train_test_split\n",
    "\n",
    "X_train, X_test, y_train, y_test = train_test_split(X, y, test_size = 0.2, \n",
    "                                                    random_state=0)\n",
    "print(X_train.shape, X_test.shape, y_train.shape, y_test.shape)"
   ]
  },
  {
   "cell_type": "code",
   "execution_count": 22,
   "id": "4861f11d",
   "metadata": {},
   "outputs": [],
   "source": [
    "# 회귀 알고리즘\n",
    "from sklearn.linear_model import LinearRegression, Ridge, Lasso \n",
    "from sklearn.linear_model import ElasticNet, SGDRegressor\n",
    "from sklearn.tree import DecisionTreeRegressor\n",
    "from sklearn.ensemble import RandomForestRegressor, GradientBoostingRegressor\n",
    "from xgboost import XGBRegressor\n",
    "from sklearn.svm import SVR\n",
    "from sklearn.neighbors import KNeighborsRegressor"
   ]
  },
  {
   "cell_type": "code",
   "execution_count": 23,
   "id": "51778ef0",
   "metadata": {},
   "outputs": [],
   "source": [
    "lr_reg = LinearRegression()\n",
    "dt_reg = DecisionTreeRegressor(random_state=0)\n",
    "rf_reg = RandomForestRegressor(random_state=0)\n",
    "xgb_reg = XGBRegressor(random_state=0)"
   ]
  },
  {
   "cell_type": "code",
   "execution_count": 24,
   "id": "e0581860",
   "metadata": {},
   "outputs": [
    {
     "name": "stdout",
     "output_type": "stream",
     "text": [
      "6224.6981055932965\n"
     ]
    }
   ],
   "source": [
    "from sklearn.model_selection import cross_val_score\n",
    "import numpy as np\n",
    "\n",
    "scores = cross_val_score(lr_reg, X_train, y_train, \n",
    "                        scoring='neg_root_mean_squared_error', cv=5)\n",
    "print(np.mean(scores * -1))"
   ]
  },
  {
   "cell_type": "code",
   "execution_count": 25,
   "id": "272bcfb6",
   "metadata": {},
   "outputs": [
    {
     "name": "stdout",
     "output_type": "stream",
     "text": [
      "6618.854138957853\n"
     ]
    }
   ],
   "source": [
    "scores = cross_val_score(dt_reg, X_train, y_train, \n",
    "                        scoring='neg_root_mean_squared_error', cv=5)\n",
    "print(np.mean(scores * -1))"
   ]
  },
  {
   "cell_type": "code",
   "execution_count": 26,
   "id": "81b2ca36",
   "metadata": {},
   "outputs": [
    {
     "name": "stdout",
     "output_type": "stream",
     "text": [
      "5243.844733834735\n"
     ]
    }
   ],
   "source": [
    "scores = cross_val_score(rf_reg, X_train, y_train, \n",
    "                        scoring='neg_root_mean_squared_error', cv=5)\n",
    "print(np.mean(scores * -1))"
   ]
  },
  {
   "cell_type": "code",
   "execution_count": 27,
   "id": "797ee2ef",
   "metadata": {},
   "outputs": [
    {
     "name": "stdout",
     "output_type": "stream",
     "text": [
      "5496.376118266452\n"
     ]
    }
   ],
   "source": [
    "scores = cross_val_score(xgb_reg, X_train, y_train, \n",
    "                        scoring='neg_root_mean_squared_error', cv=5)\n",
    "print(np.mean(scores * -1))"
   ]
  },
  {
   "cell_type": "code",
   "execution_count": null,
   "id": "3e881cac",
   "metadata": {},
   "outputs": [],
   "source": [
    "# linearRegression과 RandomForestRegressor 를 사용하기로 함\n",
    "\n",
    "# linearRegression 모델을 향상 시킬수 있는 방법\n",
    "# 1. 다항회귀, 2.규제, 3.sgd\n",
    "\n",
    "# RandomForestRegressor 모델을 향상 시킬수 있는 방법\n",
    "# 1. 하이퍼파라미터 튜닝"
   ]
  },
  {
   "cell_type": "code",
   "execution_count": 28,
   "id": "2487b65c",
   "metadata": {},
   "outputs": [],
   "source": [
    "# 다항회귀 - 2차\n",
    "from sklearn.preprocessing import PolynomialFeatures\n",
    "\n",
    "poly = PolynomialFeatures(degree = 2, include_bias=False)\n",
    "X_train_poly = poly.fit_transform(X_train)"
   ]
  },
  {
   "cell_type": "code",
   "execution_count": 29,
   "id": "8bfa8a58",
   "metadata": {},
   "outputs": [
    {
     "name": "stdout",
     "output_type": "stream",
     "text": [
      "MAE : 2679.9182252803744\n",
      "MSE : 18339210.73155652\n",
      "RMSE : 4282.43047013685\n",
      "R2 : 0.8711167289523534\n"
     ]
    }
   ],
   "source": [
    "# 학습\n",
    "lr_reg = LinearRegression()\n",
    "lr_reg.fit(X_train_poly, y_train)\n",
    "# 예측\n",
    "X_test_poly = poly.transform(X_test)\n",
    "pred = lr_reg.predict(X_test_poly)\n",
    "# 평가\n",
    "from sklearn.metrics import mean_absolute_error, mean_squared_error, r2_score\n",
    "\n",
    "print('MAE :', mean_absolute_error(y_test, pred))\n",
    "print('MSE :', mean_squared_error(y_test, pred))\n",
    "print('RMSE :', np.sqrt(mean_squared_error(y_test, pred)))\n",
    "print('R2 :', r2_score(y_test, pred))"
   ]
  },
  {
   "cell_type": "code",
   "execution_count": 30,
   "id": "84e94656",
   "metadata": {},
   "outputs": [
    {
     "name": "stdout",
     "output_type": "stream",
     "text": [
      "MAE : 2812.089557523365\n",
      "MSE : 19096352.008322008\n",
      "RMSE : 4369.937300273541\n",
      "R2 : 0.865795734182016\n"
     ]
    }
   ],
   "source": [
    "# 다항회귀 - 3차\n",
    "poly = PolynomialFeatures(degree = 3, include_bias=False)\n",
    "X_train_poly = poly.fit_transform(X_train)\n",
    "\n",
    "# 학습\n",
    "lr_reg = LinearRegression()\n",
    "lr_reg.fit(X_train_poly, y_train)\n",
    "# 예측\n",
    "X_test_poly = poly.transform(X_test)\n",
    "pred = lr_reg.predict(X_test_poly)\n",
    "# 평가\n",
    "print('MAE :', mean_absolute_error(y_test, pred))\n",
    "print('MSE :', mean_squared_error(y_test, pred))\n",
    "print('RMSE :', np.sqrt(mean_squared_error(y_test, pred)))\n",
    "print('R2 :', r2_score(y_test, pred))"
   ]
  },
  {
   "cell_type": "code",
   "execution_count": null,
   "id": "c5173ebc",
   "metadata": {},
   "outputs": [],
   "source": [
    "# 다항회귀 - 4차\n",
    "poly = PolynomialFeatures(degree = 4, include_bias=False)\n",
    "X_train_poly = poly.fit_transform(X_train)\n",
    "\n",
    "# 학습\n",
    "lr_reg = LinearRegression()\n",
    "lr_reg.fit(X_train_poly, y_train)\n",
    "# 예측\n",
    "X_test_poly = poly.transform(X_test)\n",
    "pred = lr_reg.predict(X_test_poly)\n",
    "# 평가\n",
    "print('MAE :', mean_absolut(y_test, pred))\n",
    "print('MSE :', mean_squared_error(y_test, pred))\n",
    "print('RMSE :', np.sqrt(mean_squared_error(y_test, pred)))\n",
    "print('R2 :', r2_score(y_test, pred))"
   ]
  },
  {
   "cell_type": "code",
   "execution_count": 31,
   "id": "3f8cb800",
   "metadata": {},
   "outputs": [
    {
     "name": "stdout",
     "output_type": "stream",
     "text": [
      "MAE : 2763.1978967736027\n",
      "MSE : 18995382.385395285\n",
      "RMSE : 4358.369234632982\n",
      "R2 : 0.8665053228044343\n"
     ]
    }
   ],
   "source": [
    "# 다항회귀 - 3차 - Ridge, alpha = 1\n",
    "poly = PolynomialFeatures(degree = 3, include_bias=False)\n",
    "X_train_poly = poly.fit_transform(X_train)\n",
    "\n",
    "# 학습\n",
    "lr_reg = Ridge()\n",
    "lr_reg.fit(X_train_poly, y_train)\n",
    "# 예측\n",
    "X_test_poly = poly.transform(X_test)\n",
    "pred = lr_reg.predict(X_test_poly)\n",
    "# 평가\n",
    "print('MAE :', mean_absolute_error(y_test, pred))\n",
    "print('MSE :', mean_squared_error(y_test, pred))\n",
    "print('RMSE :', np.sqrt(mean_squared_error(y_test, pred)))\n",
    "print('R2 :', r2_score(y_test, pred))"
   ]
  },
  {
   "cell_type": "code",
   "execution_count": 32,
   "id": "6bacc69f",
   "metadata": {},
   "outputs": [
    {
     "name": "stdout",
     "output_type": "stream",
     "text": [
      "MAE : 2784.191009470747\n",
      "MSE : 18714936.92078769\n",
      "RMSE : 4326.07638869076\n",
      "R2 : 0.8684762216265363\n"
     ]
    }
   ],
   "source": [
    "# 다항회귀 - 3차 - Ridge, alpha = 10\n",
    "poly = PolynomialFeatures(degree = 3, include_bias=False)\n",
    "X_train_poly = poly.fit_transform(X_train)\n",
    "\n",
    "# 학습\n",
    "lr_reg = Ridge(alpha=10)\n",
    "lr_reg.fit(X_train_poly, y_train)\n",
    "# 예측\n",
    "X_test_poly = poly.transform(X_test)\n",
    "pred = lr_reg.predict(X_test_poly)\n",
    "# 평가\n",
    "print('MAE :', mean_absolute_error(y_test, pred))\n",
    "print('MSE :', mean_squared_error(y_test, pred))\n",
    "print('RMSE :', np.sqrt(mean_squared_error(y_test, pred)))\n",
    "print('R2 :', r2_score(y_test, pred))"
   ]
  },
  {
   "cell_type": "code",
   "execution_count": 33,
   "id": "3e996ec1",
   "metadata": {},
   "outputs": [
    {
     "name": "stdout",
     "output_type": "stream",
     "text": [
      "MAE : 2722.512135942347\n",
      "MSE : 18243144.174173307\n",
      "RMSE : 4271.199383565851\n",
      "R2 : 0.8717918600872244\n"
     ]
    }
   ],
   "source": [
    "# 다항회귀 - 2차 - Ridge, alpha = 10\n",
    "poly = PolynomialFeatures(degree = 2, include_bias=False)\n",
    "X_train_poly = poly.fit_transform(X_train)\n",
    "\n",
    "# 학습\n",
    "lr_reg = Ridge(alpha=10)\n",
    "lr_reg.fit(X_train_poly, y_train)\n",
    "# 예측\n",
    "X_test_poly = poly.transform(X_test)\n",
    "pred = lr_reg.predict(X_test_poly)\n",
    "# 평가\n",
    "print('MAE :', mean_absolute_error(y_test, pred))\n",
    "print('MSE :', mean_squared_error(y_test, pred))\n",
    "print('RMSE :', np.sqrt(mean_squared_error(y_test, pred)))\n",
    "print('R2 :', r2_score(y_test, pred))"
   ]
  },
  {
   "cell_type": "code",
   "execution_count": null,
   "id": "3e69a5bf",
   "metadata": {},
   "outputs": [],
   "source": [
    "# 다항회귀 - 2차 - Ridge, alpha = 5\n",
    "poly = PolynomialFeatures(degree = 2, include_bias=False)\n",
    "X_train_poly = poly.fit_transform(X_train)\n",
    "\n",
    "# 학습\n",
    "lr_reg = Ridge(alpha=5)\n",
    "lr_reg.fit(X_train_poly, y_train)\n",
    "# 예측\n",
    "X_test_poly = poly.transform(X_test)\n",
    "pred = lr_reg.predict(X_test_poly)\n",
    "# 평가\n",
    "print('MAE :', mean_absolute_error(y_test, pred))\n",
    "print('MSE :', mean_squared_error(y_test, pred))\n",
    "print('RMSE :', np.sqrt(mean_squared_error(y_test, pred)))\n",
    "print('R2 :', r2_score(y_test, pred))"
   ]
  },
  {
   "cell_type": "code",
   "execution_count": 34,
   "id": "26204a15",
   "metadata": {},
   "outputs": [
    {
     "name": "stdout",
     "output_type": "stream",
     "text": [
      "MAE : 2678.5467546764708\n",
      "MSE : 18309223.02680126\n",
      "RMSE : 4278.927789388512\n",
      "R2 : 0.8713274748528528\n"
     ]
    }
   ],
   "source": [
    "# 다항회귀 - 2차 - Lasso, alpha = 10\n",
    "poly = PolynomialFeatures(degree = 2, include_bias=False)\n",
    "X_train_poly = poly.fit_transform(X_train)\n",
    "\n",
    "# 학습\n",
    "lr_reg = Lasso(alpha=10)\n",
    "lr_reg.fit(X_train_poly, y_train)\n",
    "# 예측\n",
    "X_test_poly = poly.transform(X_test)\n",
    "pred = lr_reg.predict(X_test_poly)\n",
    "# 평가\n",
    "print('MAE :', mean_absolute_error(y_test, pred))\n",
    "print('MSE :', mean_squared_error(y_test, pred))\n",
    "print('RMSE :', np.sqrt(mean_squared_error(y_test, pred)))\n",
    "print('R2 :', r2_score(y_test, pred))"
   ]
  },
  {
   "cell_type": "code",
   "execution_count": 35,
   "id": "547ffde1",
   "metadata": {},
   "outputs": [
    {
     "name": "stdout",
     "output_type": "stream",
     "text": [
      "Fitting 5 folds for each of 64 candidates, totalling 320 fits\n"
     ]
    },
    {
     "data": {
      "text/html": [
       "<style>#sk-container-id-1 {color: black;}#sk-container-id-1 pre{padding: 0;}#sk-container-id-1 div.sk-toggleable {background-color: white;}#sk-container-id-1 label.sk-toggleable__label {cursor: pointer;display: block;width: 100%;margin-bottom: 0;padding: 0.3em;box-sizing: border-box;text-align: center;}#sk-container-id-1 label.sk-toggleable__label-arrow:before {content: \"▸\";float: left;margin-right: 0.25em;color: #696969;}#sk-container-id-1 label.sk-toggleable__label-arrow:hover:before {color: black;}#sk-container-id-1 div.sk-estimator:hover label.sk-toggleable__label-arrow:before {color: black;}#sk-container-id-1 div.sk-toggleable__content {max-height: 0;max-width: 0;overflow: hidden;text-align: left;background-color: #f0f8ff;}#sk-container-id-1 div.sk-toggleable__content pre {margin: 0.2em;color: black;border-radius: 0.25em;background-color: #f0f8ff;}#sk-container-id-1 input.sk-toggleable__control:checked~div.sk-toggleable__content {max-height: 200px;max-width: 100%;overflow: auto;}#sk-container-id-1 input.sk-toggleable__control:checked~label.sk-toggleable__label-arrow:before {content: \"▾\";}#sk-container-id-1 div.sk-estimator input.sk-toggleable__control:checked~label.sk-toggleable__label {background-color: #d4ebff;}#sk-container-id-1 div.sk-label input.sk-toggleable__control:checked~label.sk-toggleable__label {background-color: #d4ebff;}#sk-container-id-1 input.sk-hidden--visually {border: 0;clip: rect(1px 1px 1px 1px);clip: rect(1px, 1px, 1px, 1px);height: 1px;margin: -1px;overflow: hidden;padding: 0;position: absolute;width: 1px;}#sk-container-id-1 div.sk-estimator {font-family: monospace;background-color: #f0f8ff;border: 1px dotted black;border-radius: 0.25em;box-sizing: border-box;margin-bottom: 0.5em;}#sk-container-id-1 div.sk-estimator:hover {background-color: #d4ebff;}#sk-container-id-1 div.sk-parallel-item::after {content: \"\";width: 100%;border-bottom: 1px solid gray;flex-grow: 1;}#sk-container-id-1 div.sk-label:hover label.sk-toggleable__label {background-color: #d4ebff;}#sk-container-id-1 div.sk-serial::before {content: \"\";position: absolute;border-left: 1px solid gray;box-sizing: border-box;top: 0;bottom: 0;left: 50%;z-index: 0;}#sk-container-id-1 div.sk-serial {display: flex;flex-direction: column;align-items: center;background-color: white;padding-right: 0.2em;padding-left: 0.2em;position: relative;}#sk-container-id-1 div.sk-item {position: relative;z-index: 1;}#sk-container-id-1 div.sk-parallel {display: flex;align-items: stretch;justify-content: center;background-color: white;position: relative;}#sk-container-id-1 div.sk-item::before, #sk-container-id-1 div.sk-parallel-item::before {content: \"\";position: absolute;border-left: 1px solid gray;box-sizing: border-box;top: 0;bottom: 0;left: 50%;z-index: -1;}#sk-container-id-1 div.sk-parallel-item {display: flex;flex-direction: column;z-index: 1;position: relative;background-color: white;}#sk-container-id-1 div.sk-parallel-item:first-child::after {align-self: flex-end;width: 50%;}#sk-container-id-1 div.sk-parallel-item:last-child::after {align-self: flex-start;width: 50%;}#sk-container-id-1 div.sk-parallel-item:only-child::after {width: 0;}#sk-container-id-1 div.sk-dashed-wrapped {border: 1px dashed gray;margin: 0 0.4em 0.5em 0.4em;box-sizing: border-box;padding-bottom: 0.4em;background-color: white;}#sk-container-id-1 div.sk-label label {font-family: monospace;font-weight: bold;display: inline-block;line-height: 1.2em;}#sk-container-id-1 div.sk-label-container {text-align: center;}#sk-container-id-1 div.sk-container {/* jupyter's `normalize.less` sets `[hidden] { display: none; }` but bootstrap.min.css set `[hidden] { display: none !important; }` so we also need the `!important` here to be able to override the default hidden behavior on the sphinx rendered scikit-learn.org. See: https://github.com/scikit-learn/scikit-learn/issues/21755 */display: inline-block !important;position: relative;}#sk-container-id-1 div.sk-text-repr-fallback {display: none;}</style><div id=\"sk-container-id-1\" class=\"sk-top-container\"><div class=\"sk-text-repr-fallback\"><pre>GridSearchCV(cv=5, estimator=SGDRegressor(),\n",
       "             param_grid={&#x27;alpha&#x27;: [100, 50, 10, 1, 0.1, 0.001, 0.0001,\n",
       "                                   100000.0],\n",
       "                         &#x27;max_iter&#x27;: [1000, 2000, 3000, 4000],\n",
       "                         &#x27;penalty&#x27;: [&#x27;l2&#x27;, &#x27;l1&#x27;]},\n",
       "             scoring=&#x27;neg_root_mean_squared_error&#x27;, verbose=True)</pre><b>In a Jupyter environment, please rerun this cell to show the HTML representation or trust the notebook. <br />On GitHub, the HTML representation is unable to render, please try loading this page with nbviewer.org.</b></div><div class=\"sk-container\" hidden><div class=\"sk-item sk-dashed-wrapped\"><div class=\"sk-label-container\"><div class=\"sk-label sk-toggleable\"><input class=\"sk-toggleable__control sk-hidden--visually\" id=\"sk-estimator-id-1\" type=\"checkbox\" ><label for=\"sk-estimator-id-1\" class=\"sk-toggleable__label sk-toggleable__label-arrow\">GridSearchCV</label><div class=\"sk-toggleable__content\"><pre>GridSearchCV(cv=5, estimator=SGDRegressor(),\n",
       "             param_grid={&#x27;alpha&#x27;: [100, 50, 10, 1, 0.1, 0.001, 0.0001,\n",
       "                                   100000.0],\n",
       "                         &#x27;max_iter&#x27;: [1000, 2000, 3000, 4000],\n",
       "                         &#x27;penalty&#x27;: [&#x27;l2&#x27;, &#x27;l1&#x27;]},\n",
       "             scoring=&#x27;neg_root_mean_squared_error&#x27;, verbose=True)</pre></div></div></div><div class=\"sk-parallel\"><div class=\"sk-parallel-item\"><div class=\"sk-item\"><div class=\"sk-label-container\"><div class=\"sk-label sk-toggleable\"><input class=\"sk-toggleable__control sk-hidden--visually\" id=\"sk-estimator-id-2\" type=\"checkbox\" ><label for=\"sk-estimator-id-2\" class=\"sk-toggleable__label sk-toggleable__label-arrow\">estimator: SGDRegressor</label><div class=\"sk-toggleable__content\"><pre>SGDRegressor()</pre></div></div></div><div class=\"sk-serial\"><div class=\"sk-item\"><div class=\"sk-estimator sk-toggleable\"><input class=\"sk-toggleable__control sk-hidden--visually\" id=\"sk-estimator-id-3\" type=\"checkbox\" ><label for=\"sk-estimator-id-3\" class=\"sk-toggleable__label sk-toggleable__label-arrow\">SGDRegressor</label><div class=\"sk-toggleable__content\"><pre>SGDRegressor()</pre></div></div></div></div></div></div></div></div></div></div>"
      ],
      "text/plain": [
       "GridSearchCV(cv=5, estimator=SGDRegressor(),\n",
       "             param_grid={'alpha': [100, 50, 10, 1, 0.1, 0.001, 0.0001,\n",
       "                                   100000.0],\n",
       "                         'max_iter': [1000, 2000, 3000, 4000],\n",
       "                         'penalty': ['l2', 'l1']},\n",
       "             scoring='neg_root_mean_squared_error', verbose=True)"
      ]
     },
     "execution_count": 35,
     "metadata": {},
     "output_type": "execute_result"
    }
   ],
   "source": [
    "# 다항회귀 - 2차 - sgd, l2, alpha = ?\n",
    "poly = PolynomialFeatures(degree = 2, include_bias=False)\n",
    "X_train_poly = poly.fit_transform(X_train)\n",
    "\n",
    "# 학습\n",
    "sgd_reg = SGDRegressor()  # alpha, max_iter\n",
    "\n",
    "# 그리드서치\n",
    "from sklearn.model_selection import GridSearchCV\n",
    "\n",
    "params = {'penalty' : ['l2', 'l1'],\n",
    "            'max_iter' : [1000, 2000, 3000, 4000],\n",
    "          'alpha' : [100, 50, 10, 1, 0.1, 0.001, 0.0001, 1.0e5]}\n",
    "\n",
    "grid = GridSearchCV(sgd_reg, param_grid=params, \n",
    "                    scoring='neg_root_mean_squared_error', cv = 5, verbose=True)\n",
    "\n",
    "\n",
    "grid.fit(X_train_poly, y_train)"
   ]
  },
  {
   "cell_type": "code",
   "execution_count": 36,
   "id": "48b5c766",
   "metadata": {},
   "outputs": [
    {
     "data": {
      "text/plain": [
       "5080.7686633446265"
      ]
     },
     "execution_count": 36,
     "metadata": {},
     "output_type": "execute_result"
    }
   ],
   "source": [
    "grid.best_score_ * -1"
   ]
  },
  {
   "cell_type": "code",
   "execution_count": 37,
   "id": "9794aba8",
   "metadata": {},
   "outputs": [
    {
     "data": {
      "text/plain": [
       "{'alpha': 50, 'max_iter': 3000, 'penalty': 'l1'}"
      ]
     },
     "execution_count": 37,
     "metadata": {},
     "output_type": "execute_result"
    }
   ],
   "source": [
    "grid.best_params_"
   ]
  },
  {
   "cell_type": "code",
   "execution_count": 38,
   "id": "8859d1a9",
   "metadata": {},
   "outputs": [],
   "source": [
    "model = grid.best_estimator_"
   ]
  },
  {
   "cell_type": "code",
   "execution_count": 39,
   "id": "985c3a8a",
   "metadata": {},
   "outputs": [
    {
     "name": "stdout",
     "output_type": "stream",
     "text": [
      "MAE : 2627.4805738108566\n",
      "MSE : 18324322.112665966\n",
      "RMSE : 4280.691779685378\n",
      "R2 : 0.8712213623486367\n"
     ]
    }
   ],
   "source": [
    "# 예측\n",
    "X_test_poly = poly.transform(X_test)\n",
    "pred = model.predict(X_test_poly)\n",
    "# 평가\n",
    "print('MAE :', mean_absolute_error(y_test, pred))\n",
    "print('MSE :', mean_squared_error(y_test, pred))\n",
    "print('RMSE :', np.sqrt(mean_squared_error(y_test, pred)))\n",
    "print('R2 :', r2_score(y_test, pred))"
   ]
  },
  {
   "cell_type": "code",
   "execution_count": null,
   "id": "4e9389bf",
   "metadata": {},
   "outputs": [],
   "source": [
    "# 현재 1등\n",
    "# 다항회귀 - 2차 - Ridge, alpha = 10\n",
    "\n",
    "\n",
    "# MAE : 2722.5121359423447\n",
    "# MSE : 18243144.174173307\n",
    "# RMSE : 4271.199383565851\n",
    "# R2 : 0.8717918600872244"
   ]
  },
  {
   "cell_type": "code",
   "execution_count": 40,
   "id": "a036bbb1",
   "metadata": {},
   "outputs": [
    {
     "name": "stdout",
     "output_type": "stream",
     "text": [
      "MAE : 2747.4082047570078\n",
      "MSE : 22519938.871860616\n",
      "RMSE : 4745.517766467703\n",
      "R2 : 0.8417356434754211\n"
     ]
    }
   ],
   "source": [
    "# 랜덤포레스트 하이퍼 파라미터 튜닝\n",
    "\n",
    "poly = PolynomialFeatures(degree = 2, include_bias=False)\n",
    "X_train_poly = poly.fit_transform(X_train)\n",
    "\n",
    "rf_reg = RandomForestRegressor()\n",
    "rf_reg.fit(X_train_poly, y_train)\n",
    "\n",
    "# 예측\n",
    "X_test_poly = poly.transform(X_test)\n",
    "pred = rf_reg.predict(X_test_poly)\n",
    "# 평가\n",
    "print('MAE :', mean_absolute_error(y_test, pred))\n",
    "print('MSE :', mean_squared_error(y_test, pred))\n",
    "print('RMSE :', np.sqrt(mean_squared_error(y_test, pred)))\n",
    "print('R2 :', r2_score(y_test, pred))"
   ]
  },
  {
   "cell_type": "code",
   "execution_count": 41,
   "id": "52584425",
   "metadata": {},
   "outputs": [
    {
     "name": "stdout",
     "output_type": "stream",
     "text": [
      "MAE : 2662.8165169093927\n",
      "MSE : 22576961.188478705\n",
      "RMSE : 4751.521986530074\n",
      "R2 : 0.8413349052541296\n"
     ]
    }
   ],
   "source": [
    "rf_reg = RandomForestRegressor()\n",
    "rf_reg.fit(X_train, y_train)\n",
    "\n",
    "# 예측\n",
    "pred = rf_reg.predict(X_test)\n",
    "# 평가\n",
    "print('MAE :', mean_absolute_error(y_test, pred))\n",
    "print('MSE :', mean_squared_error(y_test, pred))\n",
    "print('RMSE :', np.sqrt(mean_squared_error(y_test, pred)))\n",
    "print('R2 :', r2_score(y_test, pred))"
   ]
  },
  {
   "cell_type": "code",
   "execution_count": 42,
   "id": "226731c8",
   "metadata": {},
   "outputs": [
    {
     "name": "stdout",
     "output_type": "stream",
     "text": [
      "Fitting 5 folds for each of 36 candidates, totalling 180 fits\n"
     ]
    },
    {
     "data": {
      "text/html": [
       "<style>#sk-container-id-2 {color: black;}#sk-container-id-2 pre{padding: 0;}#sk-container-id-2 div.sk-toggleable {background-color: white;}#sk-container-id-2 label.sk-toggleable__label {cursor: pointer;display: block;width: 100%;margin-bottom: 0;padding: 0.3em;box-sizing: border-box;text-align: center;}#sk-container-id-2 label.sk-toggleable__label-arrow:before {content: \"▸\";float: left;margin-right: 0.25em;color: #696969;}#sk-container-id-2 label.sk-toggleable__label-arrow:hover:before {color: black;}#sk-container-id-2 div.sk-estimator:hover label.sk-toggleable__label-arrow:before {color: black;}#sk-container-id-2 div.sk-toggleable__content {max-height: 0;max-width: 0;overflow: hidden;text-align: left;background-color: #f0f8ff;}#sk-container-id-2 div.sk-toggleable__content pre {margin: 0.2em;color: black;border-radius: 0.25em;background-color: #f0f8ff;}#sk-container-id-2 input.sk-toggleable__control:checked~div.sk-toggleable__content {max-height: 200px;max-width: 100%;overflow: auto;}#sk-container-id-2 input.sk-toggleable__control:checked~label.sk-toggleable__label-arrow:before {content: \"▾\";}#sk-container-id-2 div.sk-estimator input.sk-toggleable__control:checked~label.sk-toggleable__label {background-color: #d4ebff;}#sk-container-id-2 div.sk-label input.sk-toggleable__control:checked~label.sk-toggleable__label {background-color: #d4ebff;}#sk-container-id-2 input.sk-hidden--visually {border: 0;clip: rect(1px 1px 1px 1px);clip: rect(1px, 1px, 1px, 1px);height: 1px;margin: -1px;overflow: hidden;padding: 0;position: absolute;width: 1px;}#sk-container-id-2 div.sk-estimator {font-family: monospace;background-color: #f0f8ff;border: 1px dotted black;border-radius: 0.25em;box-sizing: border-box;margin-bottom: 0.5em;}#sk-container-id-2 div.sk-estimator:hover {background-color: #d4ebff;}#sk-container-id-2 div.sk-parallel-item::after {content: \"\";width: 100%;border-bottom: 1px solid gray;flex-grow: 1;}#sk-container-id-2 div.sk-label:hover label.sk-toggleable__label {background-color: #d4ebff;}#sk-container-id-2 div.sk-serial::before {content: \"\";position: absolute;border-left: 1px solid gray;box-sizing: border-box;top: 0;bottom: 0;left: 50%;z-index: 0;}#sk-container-id-2 div.sk-serial {display: flex;flex-direction: column;align-items: center;background-color: white;padding-right: 0.2em;padding-left: 0.2em;position: relative;}#sk-container-id-2 div.sk-item {position: relative;z-index: 1;}#sk-container-id-2 div.sk-parallel {display: flex;align-items: stretch;justify-content: center;background-color: white;position: relative;}#sk-container-id-2 div.sk-item::before, #sk-container-id-2 div.sk-parallel-item::before {content: \"\";position: absolute;border-left: 1px solid gray;box-sizing: border-box;top: 0;bottom: 0;left: 50%;z-index: -1;}#sk-container-id-2 div.sk-parallel-item {display: flex;flex-direction: column;z-index: 1;position: relative;background-color: white;}#sk-container-id-2 div.sk-parallel-item:first-child::after {align-self: flex-end;width: 50%;}#sk-container-id-2 div.sk-parallel-item:last-child::after {align-self: flex-start;width: 50%;}#sk-container-id-2 div.sk-parallel-item:only-child::after {width: 0;}#sk-container-id-2 div.sk-dashed-wrapped {border: 1px dashed gray;margin: 0 0.4em 0.5em 0.4em;box-sizing: border-box;padding-bottom: 0.4em;background-color: white;}#sk-container-id-2 div.sk-label label {font-family: monospace;font-weight: bold;display: inline-block;line-height: 1.2em;}#sk-container-id-2 div.sk-label-container {text-align: center;}#sk-container-id-2 div.sk-container {/* jupyter's `normalize.less` sets `[hidden] { display: none; }` but bootstrap.min.css set `[hidden] { display: none !important; }` so we also need the `!important` here to be able to override the default hidden behavior on the sphinx rendered scikit-learn.org. See: https://github.com/scikit-learn/scikit-learn/issues/21755 */display: inline-block !important;position: relative;}#sk-container-id-2 div.sk-text-repr-fallback {display: none;}</style><div id=\"sk-container-id-2\" class=\"sk-top-container\"><div class=\"sk-text-repr-fallback\"><pre>GridSearchCV(cv=5, estimator=RandomForestRegressor(n_estimators=200),\n",
       "             param_grid={&#x27;max_depth&#x27;: [None, 3, 5, 7],\n",
       "                         &#x27;min_samples_leaf&#x27;: [1, 3, 5],\n",
       "                         &#x27;min_samples_split&#x27;: [2, 5, 7]},\n",
       "             scoring=&#x27;neg_root_mean_squared_error&#x27;, verbose=True)</pre><b>In a Jupyter environment, please rerun this cell to show the HTML representation or trust the notebook. <br />On GitHub, the HTML representation is unable to render, please try loading this page with nbviewer.org.</b></div><div class=\"sk-container\" hidden><div class=\"sk-item sk-dashed-wrapped\"><div class=\"sk-label-container\"><div class=\"sk-label sk-toggleable\"><input class=\"sk-toggleable__control sk-hidden--visually\" id=\"sk-estimator-id-4\" type=\"checkbox\" ><label for=\"sk-estimator-id-4\" class=\"sk-toggleable__label sk-toggleable__label-arrow\">GridSearchCV</label><div class=\"sk-toggleable__content\"><pre>GridSearchCV(cv=5, estimator=RandomForestRegressor(n_estimators=200),\n",
       "             param_grid={&#x27;max_depth&#x27;: [None, 3, 5, 7],\n",
       "                         &#x27;min_samples_leaf&#x27;: [1, 3, 5],\n",
       "                         &#x27;min_samples_split&#x27;: [2, 5, 7]},\n",
       "             scoring=&#x27;neg_root_mean_squared_error&#x27;, verbose=True)</pre></div></div></div><div class=\"sk-parallel\"><div class=\"sk-parallel-item\"><div class=\"sk-item\"><div class=\"sk-label-container\"><div class=\"sk-label sk-toggleable\"><input class=\"sk-toggleable__control sk-hidden--visually\" id=\"sk-estimator-id-5\" type=\"checkbox\" ><label for=\"sk-estimator-id-5\" class=\"sk-toggleable__label sk-toggleable__label-arrow\">estimator: RandomForestRegressor</label><div class=\"sk-toggleable__content\"><pre>RandomForestRegressor(n_estimators=200)</pre></div></div></div><div class=\"sk-serial\"><div class=\"sk-item\"><div class=\"sk-estimator sk-toggleable\"><input class=\"sk-toggleable__control sk-hidden--visually\" id=\"sk-estimator-id-6\" type=\"checkbox\" ><label for=\"sk-estimator-id-6\" class=\"sk-toggleable__label sk-toggleable__label-arrow\">RandomForestRegressor</label><div class=\"sk-toggleable__content\"><pre>RandomForestRegressor(n_estimators=200)</pre></div></div></div></div></div></div></div></div></div></div>"
      ],
      "text/plain": [
       "GridSearchCV(cv=5, estimator=RandomForestRegressor(n_estimators=200),\n",
       "             param_grid={'max_depth': [None, 3, 5, 7],\n",
       "                         'min_samples_leaf': [1, 3, 5],\n",
       "                         'min_samples_split': [2, 5, 7]},\n",
       "             scoring='neg_root_mean_squared_error', verbose=True)"
      ]
     },
     "execution_count": 42,
     "metadata": {},
     "output_type": "execute_result"
    }
   ],
   "source": [
    "rf_reg = RandomForestRegressor(n_estimators=200)\n",
    "params = {'max_depth' : [None, 3, 5, 7],\n",
    "          'min_samples_leaf' : [1, 3, 5],\n",
    "          'min_samples_split' : [2, 5, 7]\n",
    "}\n",
    "\n",
    "grid = GridSearchCV(rf_reg, param_grid=params, \n",
    "                    scoring='neg_root_mean_squared_error', cv = 5, verbose=True)\n",
    "grid.fit(X_train, y_train)"
   ]
  },
  {
   "cell_type": "code",
   "execution_count": null,
   "id": "5c2ce97e",
   "metadata": {},
   "outputs": [],
   "source": [
    "grid.best_score_ * -1"
   ]
  },
  {
   "cell_type": "code",
   "execution_count": null,
   "id": "8abfaea1",
   "metadata": {},
   "outputs": [],
   "source": [
    "grid.best_params_"
   ]
  },
  {
   "cell_type": "code",
   "execution_count": null,
   "id": "7a527027",
   "metadata": {},
   "outputs": [],
   "source": [
    "grid.best_score_ * -1"
   ]
  },
  {
   "cell_type": "code",
   "execution_count": null,
   "id": "3ee06a0e",
   "metadata": {},
   "outputs": [],
   "source": [
    "grid.best_params_"
   ]
  },
  {
   "cell_type": "code",
   "execution_count": 43,
   "id": "0f688ace",
   "metadata": {},
   "outputs": [
    {
     "name": "stdout",
     "output_type": "stream",
     "text": [
      "MAE : 2405.559917590579\n",
      "MSE : 16778959.381688796\n",
      "RMSE : 4096.2128096192455\n",
      "R2 : 0.8820817754077845\n"
     ]
    }
   ],
   "source": [
    "model = grid.best_estimator_\n",
    "# 예측\n",
    "pred = model.predict(X_test)\n",
    "# 평가\n",
    "print('MAE :', mean_absolute_error(y_test, pred))\n",
    "print('MSE :', mean_squared_error(y_test, pred))\n",
    "print('RMSE :', np.sqrt(mean_squared_error(y_test, pred)))\n",
    "print('R2 :', r2_score(y_test, pred))"
   ]
  },
  {
   "cell_type": "code",
   "execution_count": null,
   "id": "3ac723bb",
   "metadata": {},
   "outputs": [],
   "source": [
    "# RandomForest : max_depth = 5, min_samples_leaf = 5\n",
    "# RMSE : 4110, R2 : 0.88 제일 좋은 성능을 나타냈다."
   ]
  },
  {
   "cell_type": "code",
   "execution_count": 44,
   "id": "00eca5b1",
   "metadata": {},
   "outputs": [
    {
     "data": {
      "text/plain": [
       "array([4215.13119394, 4943.85271985, 4731.73888765, 4057.66485754,\n",
       "       5150.7211717 , 4621.29929656, 4691.83765571])"
      ]
     },
     "execution_count": 44,
     "metadata": {},
     "output_type": "execute_result"
    }
   ],
   "source": [
    "rf_clf = RandomForestRegressor(n_estimators=200, \n",
    "                               max_depth=5, \n",
    "                               min_samples_leaf=5)\n",
    "\n",
    "scores = cross_val_score(rf_clf, X, y, \n",
    "                         scoring='neg_root_mean_squared_error', cv = 7)\n",
    "scores * -1"
   ]
  },
  {
   "cell_type": "code",
   "execution_count": null,
   "id": "c5c58aac",
   "metadata": {},
   "outputs": [],
   "source": [
    "# 노가다 너무 힘들고 귀찮다 > 파이프라인을 잘 쓰는 방법을 더 설명\n",
    "# pipeline 실습 1  : iris"
   ]
  },
  {
   "cell_type": "code",
   "execution_count": 46,
   "id": "6ce1136a",
   "metadata": {},
   "outputs": [
    {
     "data": {
      "text/html": [
       "<style>#sk-container-id-4 {color: black;}#sk-container-id-4 pre{padding: 0;}#sk-container-id-4 div.sk-toggleable {background-color: white;}#sk-container-id-4 label.sk-toggleable__label {cursor: pointer;display: block;width: 100%;margin-bottom: 0;padding: 0.3em;box-sizing: border-box;text-align: center;}#sk-container-id-4 label.sk-toggleable__label-arrow:before {content: \"▸\";float: left;margin-right: 0.25em;color: #696969;}#sk-container-id-4 label.sk-toggleable__label-arrow:hover:before {color: black;}#sk-container-id-4 div.sk-estimator:hover label.sk-toggleable__label-arrow:before {color: black;}#sk-container-id-4 div.sk-toggleable__content {max-height: 0;max-width: 0;overflow: hidden;text-align: left;background-color: #f0f8ff;}#sk-container-id-4 div.sk-toggleable__content pre {margin: 0.2em;color: black;border-radius: 0.25em;background-color: #f0f8ff;}#sk-container-id-4 input.sk-toggleable__control:checked~div.sk-toggleable__content {max-height: 200px;max-width: 100%;overflow: auto;}#sk-container-id-4 input.sk-toggleable__control:checked~label.sk-toggleable__label-arrow:before {content: \"▾\";}#sk-container-id-4 div.sk-estimator input.sk-toggleable__control:checked~label.sk-toggleable__label {background-color: #d4ebff;}#sk-container-id-4 div.sk-label input.sk-toggleable__control:checked~label.sk-toggleable__label {background-color: #d4ebff;}#sk-container-id-4 input.sk-hidden--visually {border: 0;clip: rect(1px 1px 1px 1px);clip: rect(1px, 1px, 1px, 1px);height: 1px;margin: -1px;overflow: hidden;padding: 0;position: absolute;width: 1px;}#sk-container-id-4 div.sk-estimator {font-family: monospace;background-color: #f0f8ff;border: 1px dotted black;border-radius: 0.25em;box-sizing: border-box;margin-bottom: 0.5em;}#sk-container-id-4 div.sk-estimator:hover {background-color: #d4ebff;}#sk-container-id-4 div.sk-parallel-item::after {content: \"\";width: 100%;border-bottom: 1px solid gray;flex-grow: 1;}#sk-container-id-4 div.sk-label:hover label.sk-toggleable__label {background-color: #d4ebff;}#sk-container-id-4 div.sk-serial::before {content: \"\";position: absolute;border-left: 1px solid gray;box-sizing: border-box;top: 0;bottom: 0;left: 50%;z-index: 0;}#sk-container-id-4 div.sk-serial {display: flex;flex-direction: column;align-items: center;background-color: white;padding-right: 0.2em;padding-left: 0.2em;position: relative;}#sk-container-id-4 div.sk-item {position: relative;z-index: 1;}#sk-container-id-4 div.sk-parallel {display: flex;align-items: stretch;justify-content: center;background-color: white;position: relative;}#sk-container-id-4 div.sk-item::before, #sk-container-id-4 div.sk-parallel-item::before {content: \"\";position: absolute;border-left: 1px solid gray;box-sizing: border-box;top: 0;bottom: 0;left: 50%;z-index: -1;}#sk-container-id-4 div.sk-parallel-item {display: flex;flex-direction: column;z-index: 1;position: relative;background-color: white;}#sk-container-id-4 div.sk-parallel-item:first-child::after {align-self: flex-end;width: 50%;}#sk-container-id-4 div.sk-parallel-item:last-child::after {align-self: flex-start;width: 50%;}#sk-container-id-4 div.sk-parallel-item:only-child::after {width: 0;}#sk-container-id-4 div.sk-dashed-wrapped {border: 1px dashed gray;margin: 0 0.4em 0.5em 0.4em;box-sizing: border-box;padding-bottom: 0.4em;background-color: white;}#sk-container-id-4 div.sk-label label {font-family: monospace;font-weight: bold;display: inline-block;line-height: 1.2em;}#sk-container-id-4 div.sk-label-container {text-align: center;}#sk-container-id-4 div.sk-container {/* jupyter's `normalize.less` sets `[hidden] { display: none; }` but bootstrap.min.css set `[hidden] { display: none !important; }` so we also need the `!important` here to be able to override the default hidden behavior on the sphinx rendered scikit-learn.org. See: https://github.com/scikit-learn/scikit-learn/issues/21755 */display: inline-block !important;position: relative;}#sk-container-id-4 div.sk-text-repr-fallback {display: none;}</style><div id=\"sk-container-id-4\" class=\"sk-top-container\"><div class=\"sk-text-repr-fallback\"><pre>RandomForestClassifier()</pre><b>In a Jupyter environment, please rerun this cell to show the HTML representation or trust the notebook. <br />On GitHub, the HTML representation is unable to render, please try loading this page with nbviewer.org.</b></div><div class=\"sk-container\" hidden><div class=\"sk-item\"><div class=\"sk-estimator sk-toggleable\"><input class=\"sk-toggleable__control sk-hidden--visually\" id=\"sk-estimator-id-8\" type=\"checkbox\" checked><label for=\"sk-estimator-id-8\" class=\"sk-toggleable__label sk-toggleable__label-arrow\">RandomForestClassifier</label><div class=\"sk-toggleable__content\"><pre>RandomForestClassifier()</pre></div></div></div></div></div>"
      ],
      "text/plain": [
       "RandomForestClassifier()"
      ]
     },
     "execution_count": 46,
     "metadata": {},
     "output_type": "execute_result"
    }
   ],
   "source": [
    "from sklearn.datasets import load_iris\n",
    "from sklearn.ensemble import RandomForestClassifier\n",
    "iris = load_iris()\n",
    "X = iris.data\n",
    "y = iris.target\n",
    "\n",
    "scaler = StandardScaler()\n",
    "X_scaled = scaler.fit_transform(X)\n",
    "model = RandomForestClassifier()\n",
    "model.fit(X_scaled, y)"
   ]
  },
  {
   "cell_type": "code",
   "execution_count": 47,
   "id": "6405380e",
   "metadata": {},
   "outputs": [
    {
     "name": "stdin",
     "output_type": "stream",
     "text": [
      "Sepal Length : 11\n",
      "Sepal Width : 23\n",
      "Petal Length : 10\n",
      "Petal Width : 5\n"
     ]
    },
    {
     "name": "stdout",
     "output_type": "stream",
     "text": [
      "['virginica']\n"
     ]
    }
   ],
   "source": [
    "sep_leng = input('Sepal Length :')\n",
    "sep_wid = input('Sepal Width :')\n",
    "pet_leng = input('Petal Length :')\n",
    "pet_wid = input('Petal Width :')\n",
    "\n",
    "X_test = scaler.transform([[sep_leng, sep_wid, pet_leng, pet_wid]])\n",
    "\n",
    "pred = model.predict(X_test)\n",
    "print(iris.target_names[pred])"
   ]
  },
  {
   "cell_type": "code",
   "execution_count": 48,
   "id": "d609abf3",
   "metadata": {},
   "outputs": [
    {
     "data": {
      "text/plain": [
       "array([1])"
      ]
     },
     "execution_count": 48,
     "metadata": {},
     "output_type": "execute_result"
    }
   ],
   "source": [
    "# scaler = StandardScaler()\n",
    "# X_scaled = scaler.fit_transform(X)\n",
    "# model = RandomForestClassifier()\n",
    "# model.fit(X_scaled, y)\n",
    "\n",
    "from sklearn.pipeline import Pipeline\n",
    "\n",
    "pipe = Pipeline([('scaler', StandardScaler()), \n",
    "               ('model', RandomForestClassifier())])\n",
    "\n",
    "pipe.fit(X, y)\n",
    "\n",
    "pipe.predict(X_test)"
   ]
  },
  {
   "cell_type": "code",
   "execution_count": 49,
   "id": "b0365dcf",
   "metadata": {},
   "outputs": [
    {
     "data": {
      "text/plain": [
       "array([6. , 2.9, 4.5, 1.5])"
      ]
     },
     "execution_count": 49,
     "metadata": {},
     "output_type": "execute_result"
    }
   ],
   "source": [
    "iris.data[78]"
   ]
  },
  {
   "cell_type": "code",
   "execution_count": 50,
   "id": "17e9e874",
   "metadata": {},
   "outputs": [
    {
     "name": "stdin",
     "output_type": "stream",
     "text": [
      "Sepal Length : 3\n",
      "Sepal Width : 2\n",
      "Petal Length : 7\n",
      "Petal Width : 3\n"
     ]
    },
    {
     "name": "stdout",
     "output_type": "stream",
     "text": [
      "['virginica']\n"
     ]
    }
   ],
   "source": [
    "sep_leng = input('Sepal Length :')\n",
    "sep_wid = input('Sepal Width :')\n",
    "pet_leng = input('Petal Length :')\n",
    "pet_wid = input('Petal Width :')\n",
    "\n",
    "pred = pipe.predict([[sep_leng, sep_wid, pet_leng, pet_wid]])\n",
    "print(iris.target_names[pred])"
   ]
  },
  {
   "cell_type": "code",
   "execution_count": 51,
   "id": "aa7f66fa",
   "metadata": {},
   "outputs": [],
   "source": [
    "# 다시 처음부터 데이터 불러오기\n",
    "X = df[['age', 'bmi', 'child', 'smoker']]\n",
    "y = df['charges']\n",
    "# 스케일링, 인코딩을 한번에 처리\n",
    "# 다항 작업 실행\n",
    "# linearRegression, Ridge, Lasso, RandomForest\n",
    "\n",
    "# 즉, 위에서 처리한 행위를 한큐에 해보겠다(Pipeline, ColumnTransformer)"
   ]
  },
  {
   "cell_type": "code",
   "execution_count": 52,
   "id": "f0bee85b",
   "metadata": {},
   "outputs": [
    {
     "data": {
      "text/plain": [
       "Index(['age', 'bmi', 'child', 'smoker'], dtype='object')"
      ]
     },
     "execution_count": 52,
     "metadata": {},
     "output_type": "execute_result"
    }
   ],
   "source": [
    "X.columns"
   ]
  },
  {
   "cell_type": "code",
   "execution_count": 53,
   "id": "4fa36310",
   "metadata": {},
   "outputs": [
    {
     "data": {
      "text/html": [
       "<style>#sk-container-id-5 {color: black;}#sk-container-id-5 pre{padding: 0;}#sk-container-id-5 div.sk-toggleable {background-color: white;}#sk-container-id-5 label.sk-toggleable__label {cursor: pointer;display: block;width: 100%;margin-bottom: 0;padding: 0.3em;box-sizing: border-box;text-align: center;}#sk-container-id-5 label.sk-toggleable__label-arrow:before {content: \"▸\";float: left;margin-right: 0.25em;color: #696969;}#sk-container-id-5 label.sk-toggleable__label-arrow:hover:before {color: black;}#sk-container-id-5 div.sk-estimator:hover label.sk-toggleable__label-arrow:before {color: black;}#sk-container-id-5 div.sk-toggleable__content {max-height: 0;max-width: 0;overflow: hidden;text-align: left;background-color: #f0f8ff;}#sk-container-id-5 div.sk-toggleable__content pre {margin: 0.2em;color: black;border-radius: 0.25em;background-color: #f0f8ff;}#sk-container-id-5 input.sk-toggleable__control:checked~div.sk-toggleable__content {max-height: 200px;max-width: 100%;overflow: auto;}#sk-container-id-5 input.sk-toggleable__control:checked~label.sk-toggleable__label-arrow:before {content: \"▾\";}#sk-container-id-5 div.sk-estimator input.sk-toggleable__control:checked~label.sk-toggleable__label {background-color: #d4ebff;}#sk-container-id-5 div.sk-label input.sk-toggleable__control:checked~label.sk-toggleable__label {background-color: #d4ebff;}#sk-container-id-5 input.sk-hidden--visually {border: 0;clip: rect(1px 1px 1px 1px);clip: rect(1px, 1px, 1px, 1px);height: 1px;margin: -1px;overflow: hidden;padding: 0;position: absolute;width: 1px;}#sk-container-id-5 div.sk-estimator {font-family: monospace;background-color: #f0f8ff;border: 1px dotted black;border-radius: 0.25em;box-sizing: border-box;margin-bottom: 0.5em;}#sk-container-id-5 div.sk-estimator:hover {background-color: #d4ebff;}#sk-container-id-5 div.sk-parallel-item::after {content: \"\";width: 100%;border-bottom: 1px solid gray;flex-grow: 1;}#sk-container-id-5 div.sk-label:hover label.sk-toggleable__label {background-color: #d4ebff;}#sk-container-id-5 div.sk-serial::before {content: \"\";position: absolute;border-left: 1px solid gray;box-sizing: border-box;top: 0;bottom: 0;left: 50%;z-index: 0;}#sk-container-id-5 div.sk-serial {display: flex;flex-direction: column;align-items: center;background-color: white;padding-right: 0.2em;padding-left: 0.2em;position: relative;}#sk-container-id-5 div.sk-item {position: relative;z-index: 1;}#sk-container-id-5 div.sk-parallel {display: flex;align-items: stretch;justify-content: center;background-color: white;position: relative;}#sk-container-id-5 div.sk-item::before, #sk-container-id-5 div.sk-parallel-item::before {content: \"\";position: absolute;border-left: 1px solid gray;box-sizing: border-box;top: 0;bottom: 0;left: 50%;z-index: -1;}#sk-container-id-5 div.sk-parallel-item {display: flex;flex-direction: column;z-index: 1;position: relative;background-color: white;}#sk-container-id-5 div.sk-parallel-item:first-child::after {align-self: flex-end;width: 50%;}#sk-container-id-5 div.sk-parallel-item:last-child::after {align-self: flex-start;width: 50%;}#sk-container-id-5 div.sk-parallel-item:only-child::after {width: 0;}#sk-container-id-5 div.sk-dashed-wrapped {border: 1px dashed gray;margin: 0 0.4em 0.5em 0.4em;box-sizing: border-box;padding-bottom: 0.4em;background-color: white;}#sk-container-id-5 div.sk-label label {font-family: monospace;font-weight: bold;display: inline-block;line-height: 1.2em;}#sk-container-id-5 div.sk-label-container {text-align: center;}#sk-container-id-5 div.sk-container {/* jupyter's `normalize.less` sets `[hidden] { display: none; }` but bootstrap.min.css set `[hidden] { display: none !important; }` so we also need the `!important` here to be able to override the default hidden behavior on the sphinx rendered scikit-learn.org. See: https://github.com/scikit-learn/scikit-learn/issues/21755 */display: inline-block !important;position: relative;}#sk-container-id-5 div.sk-text-repr-fallback {display: none;}</style><div id=\"sk-container-id-5\" class=\"sk-top-container\"><div class=\"sk-text-repr-fallback\"><pre>ColumnTransformer(transformers=[(&#x27;scaler&#x27;, StandardScaler(), [&#x27;age&#x27;, &#x27;bmi&#x27;]),\n",
       "                                (&#x27;oh_enc&#x27;, OneHotEncoder(),\n",
       "                                 [&#x27;child&#x27;, &#x27;smoker&#x27;])])</pre><b>In a Jupyter environment, please rerun this cell to show the HTML representation or trust the notebook. <br />On GitHub, the HTML representation is unable to render, please try loading this page with nbviewer.org.</b></div><div class=\"sk-container\" hidden><div class=\"sk-item sk-dashed-wrapped\"><div class=\"sk-label-container\"><div class=\"sk-label sk-toggleable\"><input class=\"sk-toggleable__control sk-hidden--visually\" id=\"sk-estimator-id-9\" type=\"checkbox\" ><label for=\"sk-estimator-id-9\" class=\"sk-toggleable__label sk-toggleable__label-arrow\">ColumnTransformer</label><div class=\"sk-toggleable__content\"><pre>ColumnTransformer(transformers=[(&#x27;scaler&#x27;, StandardScaler(), [&#x27;age&#x27;, &#x27;bmi&#x27;]),\n",
       "                                (&#x27;oh_enc&#x27;, OneHotEncoder(),\n",
       "                                 [&#x27;child&#x27;, &#x27;smoker&#x27;])])</pre></div></div></div><div class=\"sk-parallel\"><div class=\"sk-parallel-item\"><div class=\"sk-item\"><div class=\"sk-label-container\"><div class=\"sk-label sk-toggleable\"><input class=\"sk-toggleable__control sk-hidden--visually\" id=\"sk-estimator-id-10\" type=\"checkbox\" ><label for=\"sk-estimator-id-10\" class=\"sk-toggleable__label sk-toggleable__label-arrow\">scaler</label><div class=\"sk-toggleable__content\"><pre>[&#x27;age&#x27;, &#x27;bmi&#x27;]</pre></div></div></div><div class=\"sk-serial\"><div class=\"sk-item\"><div class=\"sk-estimator sk-toggleable\"><input class=\"sk-toggleable__control sk-hidden--visually\" id=\"sk-estimator-id-11\" type=\"checkbox\" ><label for=\"sk-estimator-id-11\" class=\"sk-toggleable__label sk-toggleable__label-arrow\">StandardScaler</label><div class=\"sk-toggleable__content\"><pre>StandardScaler()</pre></div></div></div></div></div></div><div class=\"sk-parallel-item\"><div class=\"sk-item\"><div class=\"sk-label-container\"><div class=\"sk-label sk-toggleable\"><input class=\"sk-toggleable__control sk-hidden--visually\" id=\"sk-estimator-id-12\" type=\"checkbox\" ><label for=\"sk-estimator-id-12\" class=\"sk-toggleable__label sk-toggleable__label-arrow\">oh_enc</label><div class=\"sk-toggleable__content\"><pre>[&#x27;child&#x27;, &#x27;smoker&#x27;]</pre></div></div></div><div class=\"sk-serial\"><div class=\"sk-item\"><div class=\"sk-estimator sk-toggleable\"><input class=\"sk-toggleable__control sk-hidden--visually\" id=\"sk-estimator-id-13\" type=\"checkbox\" ><label for=\"sk-estimator-id-13\" class=\"sk-toggleable__label sk-toggleable__label-arrow\">OneHotEncoder</label><div class=\"sk-toggleable__content\"><pre>OneHotEncoder()</pre></div></div></div></div></div></div></div></div></div></div>"
      ],
      "text/plain": [
       "ColumnTransformer(transformers=[('scaler', StandardScaler(), ['age', 'bmi']),\n",
       "                                ('oh_enc', OneHotEncoder(),\n",
       "                                 ['child', 'smoker'])])"
      ]
     },
     "execution_count": 53,
     "metadata": {},
     "output_type": "execute_result"
    }
   ],
   "source": [
    "# 스케일링, 인코딩을 한번에 처리\n",
    "from sklearn.compose import ColumnTransformer\n",
    "from sklearn.preprocessing import StandardScaler, OneHotEncoder\n",
    "\n",
    "scaler = StandardScaler()\n",
    "oh_enc = OneHotEncoder()\n",
    "\n",
    "num_col = ['age', 'bmi']\n",
    "obj_col = ['child', 'smoker']\n",
    "\n",
    "ct = ColumnTransformer([('scaler', scaler, num_col),\n",
    "                        ('oh_enc', oh_enc, obj_col)])\n",
    "ct.fit(X)"
   ]
  },
  {
   "cell_type": "code",
   "execution_count": 54,
   "id": "4de0edbb",
   "metadata": {},
   "outputs": [
    {
     "data": {
      "text/html": [
       "<div>\n",
       "<style scoped>\n",
       "    .dataframe tbody tr th:only-of-type {\n",
       "        vertical-align: middle;\n",
       "    }\n",
       "\n",
       "    .dataframe tbody tr th {\n",
       "        vertical-align: top;\n",
       "    }\n",
       "\n",
       "    .dataframe thead th {\n",
       "        text-align: right;\n",
       "    }\n",
       "</style>\n",
       "<table border=\"1\" class=\"dataframe\">\n",
       "  <thead>\n",
       "    <tr style=\"text-align: right;\">\n",
       "      <th></th>\n",
       "      <th>0</th>\n",
       "      <th>1</th>\n",
       "      <th>2</th>\n",
       "      <th>3</th>\n",
       "      <th>4</th>\n",
       "      <th>5</th>\n",
       "      <th>6</th>\n",
       "    </tr>\n",
       "  </thead>\n",
       "  <tbody>\n",
       "    <tr>\n",
       "      <th>0</th>\n",
       "      <td>1.745186</td>\n",
       "      <td>1.407897</td>\n",
       "      <td>1.0</td>\n",
       "      <td>0.0</td>\n",
       "      <td>0.0</td>\n",
       "      <td>1.0</td>\n",
       "      <td>0.0</td>\n",
       "    </tr>\n",
       "    <tr>\n",
       "      <th>1</th>\n",
       "      <td>0.551453</td>\n",
       "      <td>-0.477635</td>\n",
       "      <td>1.0</td>\n",
       "      <td>0.0</td>\n",
       "      <td>0.0</td>\n",
       "      <td>0.0</td>\n",
       "      <td>1.0</td>\n",
       "    </tr>\n",
       "    <tr>\n",
       "      <th>2</th>\n",
       "      <td>0.902551</td>\n",
       "      <td>0.419223</td>\n",
       "      <td>0.0</td>\n",
       "      <td>0.0</td>\n",
       "      <td>1.0</td>\n",
       "      <td>1.0</td>\n",
       "      <td>0.0</td>\n",
       "    </tr>\n",
       "    <tr>\n",
       "      <th>3</th>\n",
       "      <td>-0.431621</td>\n",
       "      <td>-1.411383</td>\n",
       "      <td>0.0</td>\n",
       "      <td>1.0</td>\n",
       "      <td>0.0</td>\n",
       "      <td>1.0</td>\n",
       "      <td>0.0</td>\n",
       "    </tr>\n",
       "    <tr>\n",
       "      <th>4</th>\n",
       "      <td>-0.642279</td>\n",
       "      <td>0.107700</td>\n",
       "      <td>0.0</td>\n",
       "      <td>1.0</td>\n",
       "      <td>0.0</td>\n",
       "      <td>1.0</td>\n",
       "      <td>0.0</td>\n",
       "    </tr>\n",
       "    <tr>\n",
       "      <th>...</th>\n",
       "      <td>...</td>\n",
       "      <td>...</td>\n",
       "      <td>...</td>\n",
       "      <td>...</td>\n",
       "      <td>...</td>\n",
       "      <td>...</td>\n",
       "      <td>...</td>\n",
       "    </tr>\n",
       "    <tr>\n",
       "      <th>1065</th>\n",
       "      <td>-0.010303</td>\n",
       "      <td>-1.021980</td>\n",
       "      <td>0.0</td>\n",
       "      <td>0.0</td>\n",
       "      <td>1.0</td>\n",
       "      <td>1.0</td>\n",
       "      <td>0.0</td>\n",
       "    </tr>\n",
       "    <tr>\n",
       "      <th>1066</th>\n",
       "      <td>-0.150742</td>\n",
       "      <td>-1.053132</td>\n",
       "      <td>0.0</td>\n",
       "      <td>0.0</td>\n",
       "      <td>1.0</td>\n",
       "      <td>1.0</td>\n",
       "      <td>0.0</td>\n",
       "    </tr>\n",
       "    <tr>\n",
       "      <th>1067</th>\n",
       "      <td>-1.484914</td>\n",
       "      <td>-0.726033</td>\n",
       "      <td>1.0</td>\n",
       "      <td>0.0</td>\n",
       "      <td>0.0</td>\n",
       "      <td>1.0</td>\n",
       "      <td>0.0</td>\n",
       "    </tr>\n",
       "    <tr>\n",
       "      <th>1068</th>\n",
       "      <td>0.762112</td>\n",
       "      <td>1.037349</td>\n",
       "      <td>0.0</td>\n",
       "      <td>1.0</td>\n",
       "      <td>0.0</td>\n",
       "      <td>1.0</td>\n",
       "      <td>0.0</td>\n",
       "    </tr>\n",
       "    <tr>\n",
       "      <th>1069</th>\n",
       "      <td>0.691892</td>\n",
       "      <td>0.099502</td>\n",
       "      <td>0.0</td>\n",
       "      <td>1.0</td>\n",
       "      <td>0.0</td>\n",
       "      <td>1.0</td>\n",
       "      <td>0.0</td>\n",
       "    </tr>\n",
       "  </tbody>\n",
       "</table>\n",
       "<p>1070 rows × 7 columns</p>\n",
       "</div>"
      ],
      "text/plain": [
       "             0         1    2    3    4    5    6\n",
       "0     1.745186  1.407897  1.0  0.0  0.0  1.0  0.0\n",
       "1     0.551453 -0.477635  1.0  0.0  0.0  0.0  1.0\n",
       "2     0.902551  0.419223  0.0  0.0  1.0  1.0  0.0\n",
       "3    -0.431621 -1.411383  0.0  1.0  0.0  1.0  0.0\n",
       "4    -0.642279  0.107700  0.0  1.0  0.0  1.0  0.0\n",
       "...        ...       ...  ...  ...  ...  ...  ...\n",
       "1065 -0.010303 -1.021980  0.0  0.0  1.0  1.0  0.0\n",
       "1066 -0.150742 -1.053132  0.0  0.0  1.0  1.0  0.0\n",
       "1067 -1.484914 -0.726033  1.0  0.0  0.0  1.0  0.0\n",
       "1068  0.762112  1.037349  0.0  1.0  0.0  1.0  0.0\n",
       "1069  0.691892  0.099502  0.0  1.0  0.0  1.0  0.0\n",
       "\n",
       "[1070 rows x 7 columns]"
      ]
     },
     "execution_count": 54,
     "metadata": {},
     "output_type": "execute_result"
    }
   ],
   "source": [
    "X_scaled = ct.fit_transform(X)\n",
    "pd.DataFrame(X_scaled)"
   ]
  },
  {
   "cell_type": "code",
   "execution_count": 57,
   "id": "202922a9",
   "metadata": {},
   "outputs": [
    {
     "data": {
      "text/plain": [
       "Index(['PassengerId', 'Survived', 'Pclass', 'Name', 'Sex', 'Age', 'SibSp',\n",
       "       'Parch', 'Ticket', 'Fare', 'Cabin', 'Embarked'],\n",
       "      dtype='object')"
      ]
     },
     "execution_count": 57,
     "metadata": {},
     "output_type": "execute_result"
    }
   ],
   "source": [
    "# pipeline 실습 2)\n",
    "\n",
    "titanic = pd.read_csv('../data/titanic.csv')\n",
    "titanic.columns"
   ]
  },
  {
   "cell_type": "code",
   "execution_count": 58,
   "id": "d6568ef4",
   "metadata": {},
   "outputs": [],
   "source": [
    "titanic = titanic.drop(['PassengerId', 'Name', 'Ticket'], axis = 1)"
   ]
  },
  {
   "cell_type": "code",
   "execution_count": 59,
   "id": "e212932b",
   "metadata": {},
   "outputs": [
    {
     "name": "stdout",
     "output_type": "stream",
     "text": [
      "Index(['Sex', 'Cabin', 'Embarked'], dtype='object') Index(['Survived', 'Pclass', 'Age', 'SibSp', 'Parch', 'Fare'], dtype='object')\n"
     ]
    }
   ],
   "source": [
    "obj_col = titanic.dtypes[titanic.dtypes == 'object'].index\n",
    "num_col = titanic.dtypes[titanic.dtypes != 'object'].index\n",
    "print(obj_col, num_col)"
   ]
  },
  {
   "cell_type": "code",
   "execution_count": 60,
   "id": "b8aeda2f",
   "metadata": {},
   "outputs": [],
   "source": [
    "# 스케일링, 인코딩을 한번에 처리\n",
    "scaler = StandardScaler()\n",
    "oh_enc = OneHotEncoder()\n",
    "\n",
    "num_col = ['age', 'bmi']\n",
    "obj_col = ['child', 'smoker']\n",
    "\n",
    "ct = ColumnTransformer([('scaler', scaler, num_col),\n",
    "                        ('oh_enc', oh_enc, obj_col)])"
   ]
  },
  {
   "cell_type": "code",
   "execution_count": 61,
   "id": "986a096e",
   "metadata": {},
   "outputs": [
    {
     "data": {
      "text/html": [
       "<style>#sk-container-id-6 {color: black;}#sk-container-id-6 pre{padding: 0;}#sk-container-id-6 div.sk-toggleable {background-color: white;}#sk-container-id-6 label.sk-toggleable__label {cursor: pointer;display: block;width: 100%;margin-bottom: 0;padding: 0.3em;box-sizing: border-box;text-align: center;}#sk-container-id-6 label.sk-toggleable__label-arrow:before {content: \"▸\";float: left;margin-right: 0.25em;color: #696969;}#sk-container-id-6 label.sk-toggleable__label-arrow:hover:before {color: black;}#sk-container-id-6 div.sk-estimator:hover label.sk-toggleable__label-arrow:before {color: black;}#sk-container-id-6 div.sk-toggleable__content {max-height: 0;max-width: 0;overflow: hidden;text-align: left;background-color: #f0f8ff;}#sk-container-id-6 div.sk-toggleable__content pre {margin: 0.2em;color: black;border-radius: 0.25em;background-color: #f0f8ff;}#sk-container-id-6 input.sk-toggleable__control:checked~div.sk-toggleable__content {max-height: 200px;max-width: 100%;overflow: auto;}#sk-container-id-6 input.sk-toggleable__control:checked~label.sk-toggleable__label-arrow:before {content: \"▾\";}#sk-container-id-6 div.sk-estimator input.sk-toggleable__control:checked~label.sk-toggleable__label {background-color: #d4ebff;}#sk-container-id-6 div.sk-label input.sk-toggleable__control:checked~label.sk-toggleable__label {background-color: #d4ebff;}#sk-container-id-6 input.sk-hidden--visually {border: 0;clip: rect(1px 1px 1px 1px);clip: rect(1px, 1px, 1px, 1px);height: 1px;margin: -1px;overflow: hidden;padding: 0;position: absolute;width: 1px;}#sk-container-id-6 div.sk-estimator {font-family: monospace;background-color: #f0f8ff;border: 1px dotted black;border-radius: 0.25em;box-sizing: border-box;margin-bottom: 0.5em;}#sk-container-id-6 div.sk-estimator:hover {background-color: #d4ebff;}#sk-container-id-6 div.sk-parallel-item::after {content: \"\";width: 100%;border-bottom: 1px solid gray;flex-grow: 1;}#sk-container-id-6 div.sk-label:hover label.sk-toggleable__label {background-color: #d4ebff;}#sk-container-id-6 div.sk-serial::before {content: \"\";position: absolute;border-left: 1px solid gray;box-sizing: border-box;top: 0;bottom: 0;left: 50%;z-index: 0;}#sk-container-id-6 div.sk-serial {display: flex;flex-direction: column;align-items: center;background-color: white;padding-right: 0.2em;padding-left: 0.2em;position: relative;}#sk-container-id-6 div.sk-item {position: relative;z-index: 1;}#sk-container-id-6 div.sk-parallel {display: flex;align-items: stretch;justify-content: center;background-color: white;position: relative;}#sk-container-id-6 div.sk-item::before, #sk-container-id-6 div.sk-parallel-item::before {content: \"\";position: absolute;border-left: 1px solid gray;box-sizing: border-box;top: 0;bottom: 0;left: 50%;z-index: -1;}#sk-container-id-6 div.sk-parallel-item {display: flex;flex-direction: column;z-index: 1;position: relative;background-color: white;}#sk-container-id-6 div.sk-parallel-item:first-child::after {align-self: flex-end;width: 50%;}#sk-container-id-6 div.sk-parallel-item:last-child::after {align-self: flex-start;width: 50%;}#sk-container-id-6 div.sk-parallel-item:only-child::after {width: 0;}#sk-container-id-6 div.sk-dashed-wrapped {border: 1px dashed gray;margin: 0 0.4em 0.5em 0.4em;box-sizing: border-box;padding-bottom: 0.4em;background-color: white;}#sk-container-id-6 div.sk-label label {font-family: monospace;font-weight: bold;display: inline-block;line-height: 1.2em;}#sk-container-id-6 div.sk-label-container {text-align: center;}#sk-container-id-6 div.sk-container {/* jupyter's `normalize.less` sets `[hidden] { display: none; }` but bootstrap.min.css set `[hidden] { display: none !important; }` so we also need the `!important` here to be able to override the default hidden behavior on the sphinx rendered scikit-learn.org. See: https://github.com/scikit-learn/scikit-learn/issues/21755 */display: inline-block !important;position: relative;}#sk-container-id-6 div.sk-text-repr-fallback {display: none;}</style><div id=\"sk-container-id-6\" class=\"sk-top-container\"><div class=\"sk-text-repr-fallback\"><pre>Pipeline(steps=[(&#x27;ct&#x27;,\n",
       "                 ColumnTransformer(transformers=[(&#x27;scaler&#x27;, StandardScaler(),\n",
       "                                                  [&#x27;age&#x27;, &#x27;bmi&#x27;]),\n",
       "                                                 (&#x27;oh_enc&#x27;, OneHotEncoder(),\n",
       "                                                  [&#x27;child&#x27;, &#x27;smoker&#x27;])])),\n",
       "                (&#x27;poly&#x27;, PolynomialFeatures(include_bias=False)),\n",
       "                (&#x27;linear&#x27;, LinearRegression())])</pre><b>In a Jupyter environment, please rerun this cell to show the HTML representation or trust the notebook. <br />On GitHub, the HTML representation is unable to render, please try loading this page with nbviewer.org.</b></div><div class=\"sk-container\" hidden><div class=\"sk-item sk-dashed-wrapped\"><div class=\"sk-label-container\"><div class=\"sk-label sk-toggleable\"><input class=\"sk-toggleable__control sk-hidden--visually\" id=\"sk-estimator-id-14\" type=\"checkbox\" ><label for=\"sk-estimator-id-14\" class=\"sk-toggleable__label sk-toggleable__label-arrow\">Pipeline</label><div class=\"sk-toggleable__content\"><pre>Pipeline(steps=[(&#x27;ct&#x27;,\n",
       "                 ColumnTransformer(transformers=[(&#x27;scaler&#x27;, StandardScaler(),\n",
       "                                                  [&#x27;age&#x27;, &#x27;bmi&#x27;]),\n",
       "                                                 (&#x27;oh_enc&#x27;, OneHotEncoder(),\n",
       "                                                  [&#x27;child&#x27;, &#x27;smoker&#x27;])])),\n",
       "                (&#x27;poly&#x27;, PolynomialFeatures(include_bias=False)),\n",
       "                (&#x27;linear&#x27;, LinearRegression())])</pre></div></div></div><div class=\"sk-serial\"><div class=\"sk-item sk-dashed-wrapped\"><div class=\"sk-label-container\"><div class=\"sk-label sk-toggleable\"><input class=\"sk-toggleable__control sk-hidden--visually\" id=\"sk-estimator-id-15\" type=\"checkbox\" ><label for=\"sk-estimator-id-15\" class=\"sk-toggleable__label sk-toggleable__label-arrow\">ct: ColumnTransformer</label><div class=\"sk-toggleable__content\"><pre>ColumnTransformer(transformers=[(&#x27;scaler&#x27;, StandardScaler(), [&#x27;age&#x27;, &#x27;bmi&#x27;]),\n",
       "                                (&#x27;oh_enc&#x27;, OneHotEncoder(),\n",
       "                                 [&#x27;child&#x27;, &#x27;smoker&#x27;])])</pre></div></div></div><div class=\"sk-parallel\"><div class=\"sk-parallel-item\"><div class=\"sk-item\"><div class=\"sk-label-container\"><div class=\"sk-label sk-toggleable\"><input class=\"sk-toggleable__control sk-hidden--visually\" id=\"sk-estimator-id-16\" type=\"checkbox\" ><label for=\"sk-estimator-id-16\" class=\"sk-toggleable__label sk-toggleable__label-arrow\">scaler</label><div class=\"sk-toggleable__content\"><pre>[&#x27;age&#x27;, &#x27;bmi&#x27;]</pre></div></div></div><div class=\"sk-serial\"><div class=\"sk-item\"><div class=\"sk-estimator sk-toggleable\"><input class=\"sk-toggleable__control sk-hidden--visually\" id=\"sk-estimator-id-17\" type=\"checkbox\" ><label for=\"sk-estimator-id-17\" class=\"sk-toggleable__label sk-toggleable__label-arrow\">StandardScaler</label><div class=\"sk-toggleable__content\"><pre>StandardScaler()</pre></div></div></div></div></div></div><div class=\"sk-parallel-item\"><div class=\"sk-item\"><div class=\"sk-label-container\"><div class=\"sk-label sk-toggleable\"><input class=\"sk-toggleable__control sk-hidden--visually\" id=\"sk-estimator-id-18\" type=\"checkbox\" ><label for=\"sk-estimator-id-18\" class=\"sk-toggleable__label sk-toggleable__label-arrow\">oh_enc</label><div class=\"sk-toggleable__content\"><pre>[&#x27;child&#x27;, &#x27;smoker&#x27;]</pre></div></div></div><div class=\"sk-serial\"><div class=\"sk-item\"><div class=\"sk-estimator sk-toggleable\"><input class=\"sk-toggleable__control sk-hidden--visually\" id=\"sk-estimator-id-19\" type=\"checkbox\" ><label for=\"sk-estimator-id-19\" class=\"sk-toggleable__label sk-toggleable__label-arrow\">OneHotEncoder</label><div class=\"sk-toggleable__content\"><pre>OneHotEncoder()</pre></div></div></div></div></div></div></div></div><div class=\"sk-item\"><div class=\"sk-estimator sk-toggleable\"><input class=\"sk-toggleable__control sk-hidden--visually\" id=\"sk-estimator-id-20\" type=\"checkbox\" ><label for=\"sk-estimator-id-20\" class=\"sk-toggleable__label sk-toggleable__label-arrow\">PolynomialFeatures</label><div class=\"sk-toggleable__content\"><pre>PolynomialFeatures(include_bias=False)</pre></div></div></div><div class=\"sk-item\"><div class=\"sk-estimator sk-toggleable\"><input class=\"sk-toggleable__control sk-hidden--visually\" id=\"sk-estimator-id-21\" type=\"checkbox\" ><label for=\"sk-estimator-id-21\" class=\"sk-toggleable__label sk-toggleable__label-arrow\">LinearRegression</label><div class=\"sk-toggleable__content\"><pre>LinearRegression()</pre></div></div></div></div></div></div></div>"
      ],
      "text/plain": [
       "Pipeline(steps=[('ct',\n",
       "                 ColumnTransformer(transformers=[('scaler', StandardScaler(),\n",
       "                                                  ['age', 'bmi']),\n",
       "                                                 ('oh_enc', OneHotEncoder(),\n",
       "                                                  ['child', 'smoker'])])),\n",
       "                ('poly', PolynomialFeatures(include_bias=False)),\n",
       "                ('linear', LinearRegression())])"
      ]
     },
     "execution_count": 61,
     "metadata": {},
     "output_type": "execute_result"
    }
   ],
   "source": [
    "# 다항처리\n",
    "from sklearn.preprocessing import PolynomialFeatures\n",
    "\n",
    "poly = PolynomialFeatures(degree=2, include_bias=False)\n",
    "pipe = Pipeline([('ct', ct), ('poly', poly), \n",
    "                 ('linear', LinearRegression())])\n",
    "pipe"
   ]
  },
  {
   "cell_type": "code",
   "execution_count": 63,
   "id": "123584a8",
   "metadata": {},
   "outputs": [
    {
     "data": {
      "text/html": [
       "<style>#sk-container-id-8 {color: black;}#sk-container-id-8 pre{padding: 0;}#sk-container-id-8 div.sk-toggleable {background-color: white;}#sk-container-id-8 label.sk-toggleable__label {cursor: pointer;display: block;width: 100%;margin-bottom: 0;padding: 0.3em;box-sizing: border-box;text-align: center;}#sk-container-id-8 label.sk-toggleable__label-arrow:before {content: \"▸\";float: left;margin-right: 0.25em;color: #696969;}#sk-container-id-8 label.sk-toggleable__label-arrow:hover:before {color: black;}#sk-container-id-8 div.sk-estimator:hover label.sk-toggleable__label-arrow:before {color: black;}#sk-container-id-8 div.sk-toggleable__content {max-height: 0;max-width: 0;overflow: hidden;text-align: left;background-color: #f0f8ff;}#sk-container-id-8 div.sk-toggleable__content pre {margin: 0.2em;color: black;border-radius: 0.25em;background-color: #f0f8ff;}#sk-container-id-8 input.sk-toggleable__control:checked~div.sk-toggleable__content {max-height: 200px;max-width: 100%;overflow: auto;}#sk-container-id-8 input.sk-toggleable__control:checked~label.sk-toggleable__label-arrow:before {content: \"▾\";}#sk-container-id-8 div.sk-estimator input.sk-toggleable__control:checked~label.sk-toggleable__label {background-color: #d4ebff;}#sk-container-id-8 div.sk-label input.sk-toggleable__control:checked~label.sk-toggleable__label {background-color: #d4ebff;}#sk-container-id-8 input.sk-hidden--visually {border: 0;clip: rect(1px 1px 1px 1px);clip: rect(1px, 1px, 1px, 1px);height: 1px;margin: -1px;overflow: hidden;padding: 0;position: absolute;width: 1px;}#sk-container-id-8 div.sk-estimator {font-family: monospace;background-color: #f0f8ff;border: 1px dotted black;border-radius: 0.25em;box-sizing: border-box;margin-bottom: 0.5em;}#sk-container-id-8 div.sk-estimator:hover {background-color: #d4ebff;}#sk-container-id-8 div.sk-parallel-item::after {content: \"\";width: 100%;border-bottom: 1px solid gray;flex-grow: 1;}#sk-container-id-8 div.sk-label:hover label.sk-toggleable__label {background-color: #d4ebff;}#sk-container-id-8 div.sk-serial::before {content: \"\";position: absolute;border-left: 1px solid gray;box-sizing: border-box;top: 0;bottom: 0;left: 50%;z-index: 0;}#sk-container-id-8 div.sk-serial {display: flex;flex-direction: column;align-items: center;background-color: white;padding-right: 0.2em;padding-left: 0.2em;position: relative;}#sk-container-id-8 div.sk-item {position: relative;z-index: 1;}#sk-container-id-8 div.sk-parallel {display: flex;align-items: stretch;justify-content: center;background-color: white;position: relative;}#sk-container-id-8 div.sk-item::before, #sk-container-id-8 div.sk-parallel-item::before {content: \"\";position: absolute;border-left: 1px solid gray;box-sizing: border-box;top: 0;bottom: 0;left: 50%;z-index: -1;}#sk-container-id-8 div.sk-parallel-item {display: flex;flex-direction: column;z-index: 1;position: relative;background-color: white;}#sk-container-id-8 div.sk-parallel-item:first-child::after {align-self: flex-end;width: 50%;}#sk-container-id-8 div.sk-parallel-item:last-child::after {align-self: flex-start;width: 50%;}#sk-container-id-8 div.sk-parallel-item:only-child::after {width: 0;}#sk-container-id-8 div.sk-dashed-wrapped {border: 1px dashed gray;margin: 0 0.4em 0.5em 0.4em;box-sizing: border-box;padding-bottom: 0.4em;background-color: white;}#sk-container-id-8 div.sk-label label {font-family: monospace;font-weight: bold;display: inline-block;line-height: 1.2em;}#sk-container-id-8 div.sk-label-container {text-align: center;}#sk-container-id-8 div.sk-container {/* jupyter's `normalize.less` sets `[hidden] { display: none; }` but bootstrap.min.css set `[hidden] { display: none !important; }` so we also need the `!important` here to be able to override the default hidden behavior on the sphinx rendered scikit-learn.org. See: https://github.com/scikit-learn/scikit-learn/issues/21755 */display: inline-block !important;position: relative;}#sk-container-id-8 div.sk-text-repr-fallback {display: none;}</style><div id=\"sk-container-id-8\" class=\"sk-top-container\"><div class=\"sk-text-repr-fallback\"><pre>Pipeline(steps=[(&#x27;ct&#x27;,\n",
       "                 ColumnTransformer(transformers=[(&#x27;scaler&#x27;, StandardScaler(),\n",
       "                                                  [&#x27;age&#x27;, &#x27;bmi&#x27;]),\n",
       "                                                 (&#x27;oh_enc&#x27;, OneHotEncoder(),\n",
       "                                                  [&#x27;child&#x27;, &#x27;smoker&#x27;])])),\n",
       "                (&#x27;poly&#x27;, PolynomialFeatures(include_bias=False)),\n",
       "                (&#x27;linear&#x27;, LinearRegression())])</pre><b>In a Jupyter environment, please rerun this cell to show the HTML representation or trust the notebook. <br />On GitHub, the HTML representation is unable to render, please try loading this page with nbviewer.org.</b></div><div class=\"sk-container\" hidden><div class=\"sk-item sk-dashed-wrapped\"><div class=\"sk-label-container\"><div class=\"sk-label sk-toggleable\"><input class=\"sk-toggleable__control sk-hidden--visually\" id=\"sk-estimator-id-30\" type=\"checkbox\" ><label for=\"sk-estimator-id-30\" class=\"sk-toggleable__label sk-toggleable__label-arrow\">Pipeline</label><div class=\"sk-toggleable__content\"><pre>Pipeline(steps=[(&#x27;ct&#x27;,\n",
       "                 ColumnTransformer(transformers=[(&#x27;scaler&#x27;, StandardScaler(),\n",
       "                                                  [&#x27;age&#x27;, &#x27;bmi&#x27;]),\n",
       "                                                 (&#x27;oh_enc&#x27;, OneHotEncoder(),\n",
       "                                                  [&#x27;child&#x27;, &#x27;smoker&#x27;])])),\n",
       "                (&#x27;poly&#x27;, PolynomialFeatures(include_bias=False)),\n",
       "                (&#x27;linear&#x27;, LinearRegression())])</pre></div></div></div><div class=\"sk-serial\"><div class=\"sk-item sk-dashed-wrapped\"><div class=\"sk-label-container\"><div class=\"sk-label sk-toggleable\"><input class=\"sk-toggleable__control sk-hidden--visually\" id=\"sk-estimator-id-31\" type=\"checkbox\" ><label for=\"sk-estimator-id-31\" class=\"sk-toggleable__label sk-toggleable__label-arrow\">ct: ColumnTransformer</label><div class=\"sk-toggleable__content\"><pre>ColumnTransformer(transformers=[(&#x27;scaler&#x27;, StandardScaler(), [&#x27;age&#x27;, &#x27;bmi&#x27;]),\n",
       "                                (&#x27;oh_enc&#x27;, OneHotEncoder(),\n",
       "                                 [&#x27;child&#x27;, &#x27;smoker&#x27;])])</pre></div></div></div><div class=\"sk-parallel\"><div class=\"sk-parallel-item\"><div class=\"sk-item\"><div class=\"sk-label-container\"><div class=\"sk-label sk-toggleable\"><input class=\"sk-toggleable__control sk-hidden--visually\" id=\"sk-estimator-id-32\" type=\"checkbox\" ><label for=\"sk-estimator-id-32\" class=\"sk-toggleable__label sk-toggleable__label-arrow\">scaler</label><div class=\"sk-toggleable__content\"><pre>[&#x27;age&#x27;, &#x27;bmi&#x27;]</pre></div></div></div><div class=\"sk-serial\"><div class=\"sk-item\"><div class=\"sk-estimator sk-toggleable\"><input class=\"sk-toggleable__control sk-hidden--visually\" id=\"sk-estimator-id-33\" type=\"checkbox\" ><label for=\"sk-estimator-id-33\" class=\"sk-toggleable__label sk-toggleable__label-arrow\">StandardScaler</label><div class=\"sk-toggleable__content\"><pre>StandardScaler()</pre></div></div></div></div></div></div><div class=\"sk-parallel-item\"><div class=\"sk-item\"><div class=\"sk-label-container\"><div class=\"sk-label sk-toggleable\"><input class=\"sk-toggleable__control sk-hidden--visually\" id=\"sk-estimator-id-34\" type=\"checkbox\" ><label for=\"sk-estimator-id-34\" class=\"sk-toggleable__label sk-toggleable__label-arrow\">oh_enc</label><div class=\"sk-toggleable__content\"><pre>[&#x27;child&#x27;, &#x27;smoker&#x27;]</pre></div></div></div><div class=\"sk-serial\"><div class=\"sk-item\"><div class=\"sk-estimator sk-toggleable\"><input class=\"sk-toggleable__control sk-hidden--visually\" id=\"sk-estimator-id-35\" type=\"checkbox\" ><label for=\"sk-estimator-id-35\" class=\"sk-toggleable__label sk-toggleable__label-arrow\">OneHotEncoder</label><div class=\"sk-toggleable__content\"><pre>OneHotEncoder()</pre></div></div></div></div></div></div></div></div><div class=\"sk-item\"><div class=\"sk-estimator sk-toggleable\"><input class=\"sk-toggleable__control sk-hidden--visually\" id=\"sk-estimator-id-36\" type=\"checkbox\" ><label for=\"sk-estimator-id-36\" class=\"sk-toggleable__label sk-toggleable__label-arrow\">PolynomialFeatures</label><div class=\"sk-toggleable__content\"><pre>PolynomialFeatures(include_bias=False)</pre></div></div></div><div class=\"sk-item\"><div class=\"sk-estimator sk-toggleable\"><input class=\"sk-toggleable__control sk-hidden--visually\" id=\"sk-estimator-id-37\" type=\"checkbox\" ><label for=\"sk-estimator-id-37\" class=\"sk-toggleable__label sk-toggleable__label-arrow\">LinearRegression</label><div class=\"sk-toggleable__content\"><pre>LinearRegression()</pre></div></div></div></div></div></div></div>"
      ],
      "text/plain": [
       "Pipeline(steps=[('ct',\n",
       "                 ColumnTransformer(transformers=[('scaler', StandardScaler(),\n",
       "                                                  ['age', 'bmi']),\n",
       "                                                 ('oh_enc', OneHotEncoder(),\n",
       "                                                  ['child', 'smoker'])])),\n",
       "                ('poly', PolynomialFeatures(include_bias=False)),\n",
       "                ('linear', LinearRegression())])"
      ]
     },
     "execution_count": 63,
     "metadata": {},
     "output_type": "execute_result"
    }
   ],
   "source": [
    "X_train, X_test, y_train, y_test = train_test_split(X, y, test_size = 0.2, random_state=0)\n",
    "pipe.fit(X_train, y_train)"
   ]
  },
  {
   "cell_type": "code",
   "execution_count": 64,
   "id": "88c41ff2",
   "metadata": {},
   "outputs": [
    {
     "name": "stdout",
     "output_type": "stream",
     "text": [
      "MAE : 2751.3379874299067\n",
      "MSE : 18414311.360494345\n",
      "RMSE : 4291.189970217392\n",
      "R2 : 0.870588940987161\n"
     ]
    }
   ],
   "source": [
    "pred = pipe.predict(X_test)\n",
    "print('MAE :', mean_absolute_error(y_test, pred))\n",
    "print('MSE :', mean_squared_error(y_test, pred))\n",
    "print('RMSE :', np.sqrt(mean_squared_error(y_test, pred)))\n",
    "print('R2 :', r2_score(y_test, pred))"
   ]
  },
  {
   "cell_type": "code",
   "execution_count": 65,
   "id": "f485d66a",
   "metadata": {},
   "outputs": [
    {
     "data": {
      "text/html": [
       "<div>\n",
       "<style scoped>\n",
       "    .dataframe tbody tr th:only-of-type {\n",
       "        vertical-align: middle;\n",
       "    }\n",
       "\n",
       "    .dataframe tbody tr th {\n",
       "        vertical-align: top;\n",
       "    }\n",
       "\n",
       "    .dataframe thead th {\n",
       "        text-align: right;\n",
       "    }\n",
       "</style>\n",
       "<table border=\"1\" class=\"dataframe\">\n",
       "  <thead>\n",
       "    <tr style=\"text-align: right;\">\n",
       "      <th></th>\n",
       "      <th>age</th>\n",
       "      <th>bmi</th>\n",
       "      <th>child</th>\n",
       "      <th>smoker</th>\n",
       "    </tr>\n",
       "  </thead>\n",
       "  <tbody>\n",
       "    <tr>\n",
       "      <th>928</th>\n",
       "      <td>52</td>\n",
       "      <td>38.6</td>\n",
       "      <td>2</td>\n",
       "      <td>no</td>\n",
       "    </tr>\n",
       "  </tbody>\n",
       "</table>\n",
       "</div>"
      ],
      "text/plain": [
       "     age   bmi  child smoker\n",
       "928   52  38.6      2     no"
      ]
     },
     "execution_count": 65,
     "metadata": {},
     "output_type": "execute_result"
    }
   ],
   "source": [
    "X_test.head(1)"
   ]
  },
  {
   "cell_type": "code",
   "execution_count": 66,
   "id": "1e2aac92",
   "metadata": {},
   "outputs": [
    {
     "data": {
      "text/plain": [
       "array([12356.])"
      ]
     },
     "execution_count": 66,
     "metadata": {},
     "output_type": "execute_result"
    }
   ],
   "source": [
    "test = pd.DataFrame({'age':[52], 'bmi':[38.6], 'child':[2], 'smoker':['no']})\n",
    "\n",
    "pipe.predict(test)"
   ]
  },
  {
   "cell_type": "code",
   "execution_count": 67,
   "id": "1e085b1a",
   "metadata": {},
   "outputs": [
    {
     "data": {
      "text/plain": [
       "928    10325.206\n",
       "Name: charges, dtype: float64"
      ]
     },
     "execution_count": 67,
     "metadata": {},
     "output_type": "execute_result"
    }
   ],
   "source": [
    "y_test.head(1)"
   ]
  },
  {
   "cell_type": "code",
   "execution_count": null,
   "id": "f1ac178e",
   "metadata": {},
   "outputs": [],
   "source": [
    "# linearRegression, Ridge, Lasso, RandomForest\n",
    "\n",
    "# 즉, 위에서 처리한 행위를 한큐에 해보겠다(Pipeline, ColumnTransformer)"
   ]
  },
  {
   "cell_type": "code",
   "execution_count": 68,
   "id": "ae88e3ca",
   "metadata": {},
   "outputs": [],
   "source": [
    "params = [{'poly__degree' : [2, 3, 4], \n",
    "          'linear' : [Ridge(), \n",
    "                      Lasso()],\n",
    "          'linear__alpha' : [1, 0.1, 0.01, 10, 100]},\n",
    "          \n",
    "          {'poly__degree' : [2, 3, 4], \n",
    "          'linear' : [LinearRegression()]},\n",
    "          \n",
    "          {'poly__degree' : [1], \n",
    "          'linear' : [RandomForestRegressor()],\n",
    "           'linear__max_depth' : [None, 3, 5, 7],\n",
    "           'linear__min_samples_leaf' : [1, 3, 5]}\n",
    "]\n",
    "grid = GridSearchCV(pipe, param_grid=params, \n",
    "                    scoring='neg_root_mean_squared_error', cv = 5, verbose=True)"
   ]
  },
  {
   "cell_type": "code",
   "execution_count": 71,
   "id": "48539078",
   "metadata": {},
   "outputs": [
    {
     "name": "stdout",
     "output_type": "stream",
     "text": [
      "Fitting 5 folds for each of 45 candidates, totalling 225 fits\n"
     ]
    },
    {
     "data": {
      "text/html": [
       "<style>#sk-container-id-10 {color: black;}#sk-container-id-10 pre{padding: 0;}#sk-container-id-10 div.sk-toggleable {background-color: white;}#sk-container-id-10 label.sk-toggleable__label {cursor: pointer;display: block;width: 100%;margin-bottom: 0;padding: 0.3em;box-sizing: border-box;text-align: center;}#sk-container-id-10 label.sk-toggleable__label-arrow:before {content: \"▸\";float: left;margin-right: 0.25em;color: #696969;}#sk-container-id-10 label.sk-toggleable__label-arrow:hover:before {color: black;}#sk-container-id-10 div.sk-estimator:hover label.sk-toggleable__label-arrow:before {color: black;}#sk-container-id-10 div.sk-toggleable__content {max-height: 0;max-width: 0;overflow: hidden;text-align: left;background-color: #f0f8ff;}#sk-container-id-10 div.sk-toggleable__content pre {margin: 0.2em;color: black;border-radius: 0.25em;background-color: #f0f8ff;}#sk-container-id-10 input.sk-toggleable__control:checked~div.sk-toggleable__content {max-height: 200px;max-width: 100%;overflow: auto;}#sk-container-id-10 input.sk-toggleable__control:checked~label.sk-toggleable__label-arrow:before {content: \"▾\";}#sk-container-id-10 div.sk-estimator input.sk-toggleable__control:checked~label.sk-toggleable__label {background-color: #d4ebff;}#sk-container-id-10 div.sk-label input.sk-toggleable__control:checked~label.sk-toggleable__label {background-color: #d4ebff;}#sk-container-id-10 input.sk-hidden--visually {border: 0;clip: rect(1px 1px 1px 1px);clip: rect(1px, 1px, 1px, 1px);height: 1px;margin: -1px;overflow: hidden;padding: 0;position: absolute;width: 1px;}#sk-container-id-10 div.sk-estimator {font-family: monospace;background-color: #f0f8ff;border: 1px dotted black;border-radius: 0.25em;box-sizing: border-box;margin-bottom: 0.5em;}#sk-container-id-10 div.sk-estimator:hover {background-color: #d4ebff;}#sk-container-id-10 div.sk-parallel-item::after {content: \"\";width: 100%;border-bottom: 1px solid gray;flex-grow: 1;}#sk-container-id-10 div.sk-label:hover label.sk-toggleable__label {background-color: #d4ebff;}#sk-container-id-10 div.sk-serial::before {content: \"\";position: absolute;border-left: 1px solid gray;box-sizing: border-box;top: 0;bottom: 0;left: 50%;z-index: 0;}#sk-container-id-10 div.sk-serial {display: flex;flex-direction: column;align-items: center;background-color: white;padding-right: 0.2em;padding-left: 0.2em;position: relative;}#sk-container-id-10 div.sk-item {position: relative;z-index: 1;}#sk-container-id-10 div.sk-parallel {display: flex;align-items: stretch;justify-content: center;background-color: white;position: relative;}#sk-container-id-10 div.sk-item::before, #sk-container-id-10 div.sk-parallel-item::before {content: \"\";position: absolute;border-left: 1px solid gray;box-sizing: border-box;top: 0;bottom: 0;left: 50%;z-index: -1;}#sk-container-id-10 div.sk-parallel-item {display: flex;flex-direction: column;z-index: 1;position: relative;background-color: white;}#sk-container-id-10 div.sk-parallel-item:first-child::after {align-self: flex-end;width: 50%;}#sk-container-id-10 div.sk-parallel-item:last-child::after {align-self: flex-start;width: 50%;}#sk-container-id-10 div.sk-parallel-item:only-child::after {width: 0;}#sk-container-id-10 div.sk-dashed-wrapped {border: 1px dashed gray;margin: 0 0.4em 0.5em 0.4em;box-sizing: border-box;padding-bottom: 0.4em;background-color: white;}#sk-container-id-10 div.sk-label label {font-family: monospace;font-weight: bold;display: inline-block;line-height: 1.2em;}#sk-container-id-10 div.sk-label-container {text-align: center;}#sk-container-id-10 div.sk-container {/* jupyter's `normalize.less` sets `[hidden] { display: none; }` but bootstrap.min.css set `[hidden] { display: none !important; }` so we also need the `!important` here to be able to override the default hidden behavior on the sphinx rendered scikit-learn.org. See: https://github.com/scikit-learn/scikit-learn/issues/21755 */display: inline-block !important;position: relative;}#sk-container-id-10 div.sk-text-repr-fallback {display: none;}</style><div id=\"sk-container-id-10\" class=\"sk-top-container\"><div class=\"sk-text-repr-fallback\"><pre>GridSearchCV(cv=5,\n",
       "             estimator=Pipeline(steps=[(&#x27;ct&#x27;,\n",
       "                                        ColumnTransformer(transformers=[(&#x27;scaler&#x27;,\n",
       "                                                                         StandardScaler(),\n",
       "                                                                         [&#x27;age&#x27;,\n",
       "                                                                          &#x27;bmi&#x27;]),\n",
       "                                                                        (&#x27;oh_enc&#x27;,\n",
       "                                                                         OneHotEncoder(),\n",
       "                                                                         [&#x27;child&#x27;,\n",
       "                                                                          &#x27;smoker&#x27;])])),\n",
       "                                       (&#x27;poly&#x27;,\n",
       "                                        PolynomialFeatures(include_bias=False)),\n",
       "                                       (&#x27;linear&#x27;, LinearRegression())]),\n",
       "             param_grid=[{&#x27;linear&#x27;: [Ridge(), Lasso()],\n",
       "                          &#x27;linear__alpha&#x27;: [1, 0.1, 0.01, 10, 100],\n",
       "                          &#x27;poly__degree&#x27;: [2, 3, 4]},\n",
       "                         {&#x27;linear&#x27;: [LinearRegression()],\n",
       "                          &#x27;poly__degree&#x27;: [2, 3, 4]},\n",
       "                         {&#x27;linear&#x27;: [RandomForestRegressor(max_depth=5,\n",
       "                                                           min_samples_leaf=5)],\n",
       "                          &#x27;linear__max_depth&#x27;: [None, 3, 5, 7],\n",
       "                          &#x27;linear__min_samples_leaf&#x27;: [1, 3, 5],\n",
       "                          &#x27;poly__degree&#x27;: [1]}],\n",
       "             scoring=&#x27;neg_root_mean_squared_error&#x27;, verbose=True)</pre><b>In a Jupyter environment, please rerun this cell to show the HTML representation or trust the notebook. <br />On GitHub, the HTML representation is unable to render, please try loading this page with nbviewer.org.</b></div><div class=\"sk-container\" hidden><div class=\"sk-item sk-dashed-wrapped\"><div class=\"sk-label-container\"><div class=\"sk-label sk-toggleable\"><input class=\"sk-toggleable__control sk-hidden--visually\" id=\"sk-estimator-id-47\" type=\"checkbox\" ><label for=\"sk-estimator-id-47\" class=\"sk-toggleable__label sk-toggleable__label-arrow\">GridSearchCV</label><div class=\"sk-toggleable__content\"><pre>GridSearchCV(cv=5,\n",
       "             estimator=Pipeline(steps=[(&#x27;ct&#x27;,\n",
       "                                        ColumnTransformer(transformers=[(&#x27;scaler&#x27;,\n",
       "                                                                         StandardScaler(),\n",
       "                                                                         [&#x27;age&#x27;,\n",
       "                                                                          &#x27;bmi&#x27;]),\n",
       "                                                                        (&#x27;oh_enc&#x27;,\n",
       "                                                                         OneHotEncoder(),\n",
       "                                                                         [&#x27;child&#x27;,\n",
       "                                                                          &#x27;smoker&#x27;])])),\n",
       "                                       (&#x27;poly&#x27;,\n",
       "                                        PolynomialFeatures(include_bias=False)),\n",
       "                                       (&#x27;linear&#x27;, LinearRegression())]),\n",
       "             param_grid=[{&#x27;linear&#x27;: [Ridge(), Lasso()],\n",
       "                          &#x27;linear__alpha&#x27;: [1, 0.1, 0.01, 10, 100],\n",
       "                          &#x27;poly__degree&#x27;: [2, 3, 4]},\n",
       "                         {&#x27;linear&#x27;: [LinearRegression()],\n",
       "                          &#x27;poly__degree&#x27;: [2, 3, 4]},\n",
       "                         {&#x27;linear&#x27;: [RandomForestRegressor(max_depth=5,\n",
       "                                                           min_samples_leaf=5)],\n",
       "                          &#x27;linear__max_depth&#x27;: [None, 3, 5, 7],\n",
       "                          &#x27;linear__min_samples_leaf&#x27;: [1, 3, 5],\n",
       "                          &#x27;poly__degree&#x27;: [1]}],\n",
       "             scoring=&#x27;neg_root_mean_squared_error&#x27;, verbose=True)</pre></div></div></div><div class=\"sk-parallel\"><div class=\"sk-parallel-item\"><div class=\"sk-item\"><div class=\"sk-label-container\"><div class=\"sk-label sk-toggleable\"><input class=\"sk-toggleable__control sk-hidden--visually\" id=\"sk-estimator-id-48\" type=\"checkbox\" ><label for=\"sk-estimator-id-48\" class=\"sk-toggleable__label sk-toggleable__label-arrow\">estimator: Pipeline</label><div class=\"sk-toggleable__content\"><pre>Pipeline(steps=[(&#x27;ct&#x27;,\n",
       "                 ColumnTransformer(transformers=[(&#x27;scaler&#x27;, StandardScaler(),\n",
       "                                                  [&#x27;age&#x27;, &#x27;bmi&#x27;]),\n",
       "                                                 (&#x27;oh_enc&#x27;, OneHotEncoder(),\n",
       "                                                  [&#x27;child&#x27;, &#x27;smoker&#x27;])])),\n",
       "                (&#x27;poly&#x27;, PolynomialFeatures(include_bias=False)),\n",
       "                (&#x27;linear&#x27;, LinearRegression())])</pre></div></div></div><div class=\"sk-serial\"><div class=\"sk-item\"><div class=\"sk-serial\"><div class=\"sk-item sk-dashed-wrapped\"><div class=\"sk-label-container\"><div class=\"sk-label sk-toggleable\"><input class=\"sk-toggleable__control sk-hidden--visually\" id=\"sk-estimator-id-49\" type=\"checkbox\" ><label for=\"sk-estimator-id-49\" class=\"sk-toggleable__label sk-toggleable__label-arrow\">ct: ColumnTransformer</label><div class=\"sk-toggleable__content\"><pre>ColumnTransformer(transformers=[(&#x27;scaler&#x27;, StandardScaler(), [&#x27;age&#x27;, &#x27;bmi&#x27;]),\n",
       "                                (&#x27;oh_enc&#x27;, OneHotEncoder(),\n",
       "                                 [&#x27;child&#x27;, &#x27;smoker&#x27;])])</pre></div></div></div><div class=\"sk-parallel\"><div class=\"sk-parallel-item\"><div class=\"sk-item\"><div class=\"sk-label-container\"><div class=\"sk-label sk-toggleable\"><input class=\"sk-toggleable__control sk-hidden--visually\" id=\"sk-estimator-id-50\" type=\"checkbox\" ><label for=\"sk-estimator-id-50\" class=\"sk-toggleable__label sk-toggleable__label-arrow\">scaler</label><div class=\"sk-toggleable__content\"><pre>[&#x27;age&#x27;, &#x27;bmi&#x27;]</pre></div></div></div><div class=\"sk-serial\"><div class=\"sk-item\"><div class=\"sk-estimator sk-toggleable\"><input class=\"sk-toggleable__control sk-hidden--visually\" id=\"sk-estimator-id-51\" type=\"checkbox\" ><label for=\"sk-estimator-id-51\" class=\"sk-toggleable__label sk-toggleable__label-arrow\">StandardScaler</label><div class=\"sk-toggleable__content\"><pre>StandardScaler()</pre></div></div></div></div></div></div><div class=\"sk-parallel-item\"><div class=\"sk-item\"><div class=\"sk-label-container\"><div class=\"sk-label sk-toggleable\"><input class=\"sk-toggleable__control sk-hidden--visually\" id=\"sk-estimator-id-52\" type=\"checkbox\" ><label for=\"sk-estimator-id-52\" class=\"sk-toggleable__label sk-toggleable__label-arrow\">oh_enc</label><div class=\"sk-toggleable__content\"><pre>[&#x27;child&#x27;, &#x27;smoker&#x27;]</pre></div></div></div><div class=\"sk-serial\"><div class=\"sk-item\"><div class=\"sk-estimator sk-toggleable\"><input class=\"sk-toggleable__control sk-hidden--visually\" id=\"sk-estimator-id-53\" type=\"checkbox\" ><label for=\"sk-estimator-id-53\" class=\"sk-toggleable__label sk-toggleable__label-arrow\">OneHotEncoder</label><div class=\"sk-toggleable__content\"><pre>OneHotEncoder()</pre></div></div></div></div></div></div></div></div><div class=\"sk-item\"><div class=\"sk-estimator sk-toggleable\"><input class=\"sk-toggleable__control sk-hidden--visually\" id=\"sk-estimator-id-54\" type=\"checkbox\" ><label for=\"sk-estimator-id-54\" class=\"sk-toggleable__label sk-toggleable__label-arrow\">PolynomialFeatures</label><div class=\"sk-toggleable__content\"><pre>PolynomialFeatures(include_bias=False)</pre></div></div></div><div class=\"sk-item\"><div class=\"sk-estimator sk-toggleable\"><input class=\"sk-toggleable__control sk-hidden--visually\" id=\"sk-estimator-id-55\" type=\"checkbox\" ><label for=\"sk-estimator-id-55\" class=\"sk-toggleable__label sk-toggleable__label-arrow\">LinearRegression</label><div class=\"sk-toggleable__content\"><pre>LinearRegression()</pre></div></div></div></div></div></div></div></div></div></div></div></div>"
      ],
      "text/plain": [
       "GridSearchCV(cv=5,\n",
       "             estimator=Pipeline(steps=[('ct',\n",
       "                                        ColumnTransformer(transformers=[('scaler',\n",
       "                                                                         StandardScaler(),\n",
       "                                                                         ['age',\n",
       "                                                                          'bmi']),\n",
       "                                                                        ('oh_enc',\n",
       "                                                                         OneHotEncoder(),\n",
       "                                                                         ['child',\n",
       "                                                                          'smoker'])])),\n",
       "                                       ('poly',\n",
       "                                        PolynomialFeatures(include_bias=False)),\n",
       "                                       ('linear', LinearRegression())]),\n",
       "             param_grid=[{'linear': [Ridge(), Lasso()],\n",
       "                          'linear__alpha': [1, 0.1, 0.01, 10, 100],\n",
       "                          'poly__degree': [2, 3, 4]},\n",
       "                         {'linear': [LinearRegression()],\n",
       "                          'poly__degree': [2, 3, 4]},\n",
       "                         {'linear': [RandomForestRegressor(max_depth=5,\n",
       "                                                           min_samples_leaf=5)],\n",
       "                          'linear__max_depth': [None, 3, 5, 7],\n",
       "                          'linear__min_samples_leaf': [1, 3, 5],\n",
       "                          'poly__degree': [1]}],\n",
       "             scoring='neg_root_mean_squared_error', verbose=True)"
      ]
     },
     "execution_count": 71,
     "metadata": {},
     "output_type": "execute_result"
    }
   ],
   "source": [
    "grid.fit(X_train, y_train)"
   ]
  },
  {
   "cell_type": "code",
   "execution_count": 72,
   "id": "f8846148",
   "metadata": {},
   "outputs": [
    {
     "data": {
      "text/plain": [
       "{'linear': RandomForestRegressor(max_depth=5, min_samples_leaf=5),\n",
       " 'linear__max_depth': 5,\n",
       " 'linear__min_samples_leaf': 5,\n",
       " 'poly__degree': 1}"
      ]
     },
     "execution_count": 72,
     "metadata": {},
     "output_type": "execute_result"
    }
   ],
   "source": [
    "grid.best_params_"
   ]
  },
  {
   "cell_type": "code",
   "execution_count": 73,
   "id": "48d6396b",
   "metadata": {},
   "outputs": [],
   "source": [
    "model = grid.best_estimator_"
   ]
  },
  {
   "cell_type": "code",
   "execution_count": 74,
   "id": "8c842a8e",
   "metadata": {},
   "outputs": [],
   "source": [
    "pred = model.predict(X_test)"
   ]
  },
  {
   "cell_type": "code",
   "execution_count": 75,
   "id": "b4c671c4",
   "metadata": {},
   "outputs": [
    {
     "name": "stdout",
     "output_type": "stream",
     "text": [
      "MAE : 2432.433173209925\n",
      "MSE : 17060374.439411968\n",
      "RMSE : 4130.42061289307\n",
      "R2 : 0.8801040625338594\n"
     ]
    }
   ],
   "source": [
    "print('MAE :', mean_absolute_error(y_test, pred))\n",
    "print('MSE :', mean_squared_error(y_test, pred))\n",
    "print('RMSE :', np.sqrt(mean_squared_error(y_test, pred)))\n",
    "print('R2 :', r2_score(y_test, pred))"
   ]
  },
  {
   "cell_type": "code",
   "execution_count": 77,
   "id": "43e4938d",
   "metadata": {},
   "outputs": [
    {
     "name": "stdout",
     "output_type": "stream",
     "text": [
      "Fitting 5 folds for each of 45 candidates, totalling 225 fits\n"
     ]
    },
    {
     "data": {
      "text/html": [
       "<style>#sk-container-id-11 {color: black;}#sk-container-id-11 pre{padding: 0;}#sk-container-id-11 div.sk-toggleable {background-color: white;}#sk-container-id-11 label.sk-toggleable__label {cursor: pointer;display: block;width: 100%;margin-bottom: 0;padding: 0.3em;box-sizing: border-box;text-align: center;}#sk-container-id-11 label.sk-toggleable__label-arrow:before {content: \"▸\";float: left;margin-right: 0.25em;color: #696969;}#sk-container-id-11 label.sk-toggleable__label-arrow:hover:before {color: black;}#sk-container-id-11 div.sk-estimator:hover label.sk-toggleable__label-arrow:before {color: black;}#sk-container-id-11 div.sk-toggleable__content {max-height: 0;max-width: 0;overflow: hidden;text-align: left;background-color: #f0f8ff;}#sk-container-id-11 div.sk-toggleable__content pre {margin: 0.2em;color: black;border-radius: 0.25em;background-color: #f0f8ff;}#sk-container-id-11 input.sk-toggleable__control:checked~div.sk-toggleable__content {max-height: 200px;max-width: 100%;overflow: auto;}#sk-container-id-11 input.sk-toggleable__control:checked~label.sk-toggleable__label-arrow:before {content: \"▾\";}#sk-container-id-11 div.sk-estimator input.sk-toggleable__control:checked~label.sk-toggleable__label {background-color: #d4ebff;}#sk-container-id-11 div.sk-label input.sk-toggleable__control:checked~label.sk-toggleable__label {background-color: #d4ebff;}#sk-container-id-11 input.sk-hidden--visually {border: 0;clip: rect(1px 1px 1px 1px);clip: rect(1px, 1px, 1px, 1px);height: 1px;margin: -1px;overflow: hidden;padding: 0;position: absolute;width: 1px;}#sk-container-id-11 div.sk-estimator {font-family: monospace;background-color: #f0f8ff;border: 1px dotted black;border-radius: 0.25em;box-sizing: border-box;margin-bottom: 0.5em;}#sk-container-id-11 div.sk-estimator:hover {background-color: #d4ebff;}#sk-container-id-11 div.sk-parallel-item::after {content: \"\";width: 100%;border-bottom: 1px solid gray;flex-grow: 1;}#sk-container-id-11 div.sk-label:hover label.sk-toggleable__label {background-color: #d4ebff;}#sk-container-id-11 div.sk-serial::before {content: \"\";position: absolute;border-left: 1px solid gray;box-sizing: border-box;top: 0;bottom: 0;left: 50%;z-index: 0;}#sk-container-id-11 div.sk-serial {display: flex;flex-direction: column;align-items: center;background-color: white;padding-right: 0.2em;padding-left: 0.2em;position: relative;}#sk-container-id-11 div.sk-item {position: relative;z-index: 1;}#sk-container-id-11 div.sk-parallel {display: flex;align-items: stretch;justify-content: center;background-color: white;position: relative;}#sk-container-id-11 div.sk-item::before, #sk-container-id-11 div.sk-parallel-item::before {content: \"\";position: absolute;border-left: 1px solid gray;box-sizing: border-box;top: 0;bottom: 0;left: 50%;z-index: -1;}#sk-container-id-11 div.sk-parallel-item {display: flex;flex-direction: column;z-index: 1;position: relative;background-color: white;}#sk-container-id-11 div.sk-parallel-item:first-child::after {align-self: flex-end;width: 50%;}#sk-container-id-11 div.sk-parallel-item:last-child::after {align-self: flex-start;width: 50%;}#sk-container-id-11 div.sk-parallel-item:only-child::after {width: 0;}#sk-container-id-11 div.sk-dashed-wrapped {border: 1px dashed gray;margin: 0 0.4em 0.5em 0.4em;box-sizing: border-box;padding-bottom: 0.4em;background-color: white;}#sk-container-id-11 div.sk-label label {font-family: monospace;font-weight: bold;display: inline-block;line-height: 1.2em;}#sk-container-id-11 div.sk-label-container {text-align: center;}#sk-container-id-11 div.sk-container {/* jupyter's `normalize.less` sets `[hidden] { display: none; }` but bootstrap.min.css set `[hidden] { display: none !important; }` so we also need the `!important` here to be able to override the default hidden behavior on the sphinx rendered scikit-learn.org. See: https://github.com/scikit-learn/scikit-learn/issues/21755 */display: inline-block !important;position: relative;}#sk-container-id-11 div.sk-text-repr-fallback {display: none;}</style><div id=\"sk-container-id-11\" class=\"sk-top-container\"><div class=\"sk-text-repr-fallback\"><pre>GridSearchCV(cv=5,\n",
       "             estimator=Pipeline(steps=[(&#x27;ct&#x27;,\n",
       "                                        ColumnTransformer(transformers=[(&#x27;scaler&#x27;,\n",
       "                                                                         StandardScaler(),\n",
       "                                                                         Index([&#x27;CompPrice&#x27;, &#x27;Advertising&#x27;, &#x27;Population&#x27;, &#x27;Price&#x27;, &#x27;Age&#x27;], dtype=&#x27;object&#x27;)),\n",
       "                                                                        (&#x27;oh_enc&#x27;,\n",
       "                                                                         OneHotEncoder(),\n",
       "                                                                         Index([&#x27;ShelveLoc&#x27;, &#x27;US&#x27;], dtype=&#x27;object&#x27;))])),\n",
       "                                       (&#x27;poly&#x27;,\n",
       "                                        PolynomialFeatures(include_bias=False)),\n",
       "                                       (&#x27;linear&#x27;, LinearRegression())]),\n",
       "             param_grid=[{&#x27;linear&#x27;: [Ridge(), Lasso(alpha=0.01)],\n",
       "                          &#x27;linear__alpha&#x27;: [1, 0.1, 0.01, 10, 100],\n",
       "                          &#x27;poly__degree&#x27;: [2, 3, 4]},\n",
       "                         {&#x27;linear&#x27;: [LinearRegression()],\n",
       "                          &#x27;poly__degree&#x27;: [2, 3, 4]},\n",
       "                         {&#x27;linear&#x27;: [RandomForestRegressor()],\n",
       "                          &#x27;linear__max_depth&#x27;: [None, 3, 5, 7],\n",
       "                          &#x27;linear__min_samples_leaf&#x27;: [1, 3, 5],\n",
       "                          &#x27;poly__degree&#x27;: [1]}],\n",
       "             scoring=&#x27;neg_root_mean_squared_error&#x27;, verbose=True)</pre><b>In a Jupyter environment, please rerun this cell to show the HTML representation or trust the notebook. <br />On GitHub, the HTML representation is unable to render, please try loading this page with nbviewer.org.</b></div><div class=\"sk-container\" hidden><div class=\"sk-item sk-dashed-wrapped\"><div class=\"sk-label-container\"><div class=\"sk-label sk-toggleable\"><input class=\"sk-toggleable__control sk-hidden--visually\" id=\"sk-estimator-id-56\" type=\"checkbox\" ><label for=\"sk-estimator-id-56\" class=\"sk-toggleable__label sk-toggleable__label-arrow\">GridSearchCV</label><div class=\"sk-toggleable__content\"><pre>GridSearchCV(cv=5,\n",
       "             estimator=Pipeline(steps=[(&#x27;ct&#x27;,\n",
       "                                        ColumnTransformer(transformers=[(&#x27;scaler&#x27;,\n",
       "                                                                         StandardScaler(),\n",
       "                                                                         Index([&#x27;CompPrice&#x27;, &#x27;Advertising&#x27;, &#x27;Population&#x27;, &#x27;Price&#x27;, &#x27;Age&#x27;], dtype=&#x27;object&#x27;)),\n",
       "                                                                        (&#x27;oh_enc&#x27;,\n",
       "                                                                         OneHotEncoder(),\n",
       "                                                                         Index([&#x27;ShelveLoc&#x27;, &#x27;US&#x27;], dtype=&#x27;object&#x27;))])),\n",
       "                                       (&#x27;poly&#x27;,\n",
       "                                        PolynomialFeatures(include_bias=False)),\n",
       "                                       (&#x27;linear&#x27;, LinearRegression())]),\n",
       "             param_grid=[{&#x27;linear&#x27;: [Ridge(), Lasso(alpha=0.01)],\n",
       "                          &#x27;linear__alpha&#x27;: [1, 0.1, 0.01, 10, 100],\n",
       "                          &#x27;poly__degree&#x27;: [2, 3, 4]},\n",
       "                         {&#x27;linear&#x27;: [LinearRegression()],\n",
       "                          &#x27;poly__degree&#x27;: [2, 3, 4]},\n",
       "                         {&#x27;linear&#x27;: [RandomForestRegressor()],\n",
       "                          &#x27;linear__max_depth&#x27;: [None, 3, 5, 7],\n",
       "                          &#x27;linear__min_samples_leaf&#x27;: [1, 3, 5],\n",
       "                          &#x27;poly__degree&#x27;: [1]}],\n",
       "             scoring=&#x27;neg_root_mean_squared_error&#x27;, verbose=True)</pre></div></div></div><div class=\"sk-parallel\"><div class=\"sk-parallel-item\"><div class=\"sk-item\"><div class=\"sk-label-container\"><div class=\"sk-label sk-toggleable\"><input class=\"sk-toggleable__control sk-hidden--visually\" id=\"sk-estimator-id-57\" type=\"checkbox\" ><label for=\"sk-estimator-id-57\" class=\"sk-toggleable__label sk-toggleable__label-arrow\">estimator: Pipeline</label><div class=\"sk-toggleable__content\"><pre>Pipeline(steps=[(&#x27;ct&#x27;,\n",
       "                 ColumnTransformer(transformers=[(&#x27;scaler&#x27;, StandardScaler(),\n",
       "                                                  Index([&#x27;CompPrice&#x27;, &#x27;Advertising&#x27;, &#x27;Population&#x27;, &#x27;Price&#x27;, &#x27;Age&#x27;], dtype=&#x27;object&#x27;)),\n",
       "                                                 (&#x27;oh_enc&#x27;, OneHotEncoder(),\n",
       "                                                  Index([&#x27;ShelveLoc&#x27;, &#x27;US&#x27;], dtype=&#x27;object&#x27;))])),\n",
       "                (&#x27;poly&#x27;, PolynomialFeatures(include_bias=False)),\n",
       "                (&#x27;linear&#x27;, LinearRegression())])</pre></div></div></div><div class=\"sk-serial\"><div class=\"sk-item\"><div class=\"sk-serial\"><div class=\"sk-item sk-dashed-wrapped\"><div class=\"sk-label-container\"><div class=\"sk-label sk-toggleable\"><input class=\"sk-toggleable__control sk-hidden--visually\" id=\"sk-estimator-id-58\" type=\"checkbox\" ><label for=\"sk-estimator-id-58\" class=\"sk-toggleable__label sk-toggleable__label-arrow\">ct: ColumnTransformer</label><div class=\"sk-toggleable__content\"><pre>ColumnTransformer(transformers=[(&#x27;scaler&#x27;, StandardScaler(),\n",
       "                                 Index([&#x27;CompPrice&#x27;, &#x27;Advertising&#x27;, &#x27;Population&#x27;, &#x27;Price&#x27;, &#x27;Age&#x27;], dtype=&#x27;object&#x27;)),\n",
       "                                (&#x27;oh_enc&#x27;, OneHotEncoder(),\n",
       "                                 Index([&#x27;ShelveLoc&#x27;, &#x27;US&#x27;], dtype=&#x27;object&#x27;))])</pre></div></div></div><div class=\"sk-parallel\"><div class=\"sk-parallel-item\"><div class=\"sk-item\"><div class=\"sk-label-container\"><div class=\"sk-label sk-toggleable\"><input class=\"sk-toggleable__control sk-hidden--visually\" id=\"sk-estimator-id-59\" type=\"checkbox\" ><label for=\"sk-estimator-id-59\" class=\"sk-toggleable__label sk-toggleable__label-arrow\">scaler</label><div class=\"sk-toggleable__content\"><pre>Index([&#x27;CompPrice&#x27;, &#x27;Advertising&#x27;, &#x27;Population&#x27;, &#x27;Price&#x27;, &#x27;Age&#x27;], dtype=&#x27;object&#x27;)</pre></div></div></div><div class=\"sk-serial\"><div class=\"sk-item\"><div class=\"sk-estimator sk-toggleable\"><input class=\"sk-toggleable__control sk-hidden--visually\" id=\"sk-estimator-id-60\" type=\"checkbox\" ><label for=\"sk-estimator-id-60\" class=\"sk-toggleable__label sk-toggleable__label-arrow\">StandardScaler</label><div class=\"sk-toggleable__content\"><pre>StandardScaler()</pre></div></div></div></div></div></div><div class=\"sk-parallel-item\"><div class=\"sk-item\"><div class=\"sk-label-container\"><div class=\"sk-label sk-toggleable\"><input class=\"sk-toggleable__control sk-hidden--visually\" id=\"sk-estimator-id-61\" type=\"checkbox\" ><label for=\"sk-estimator-id-61\" class=\"sk-toggleable__label sk-toggleable__label-arrow\">oh_enc</label><div class=\"sk-toggleable__content\"><pre>Index([&#x27;ShelveLoc&#x27;, &#x27;US&#x27;], dtype=&#x27;object&#x27;)</pre></div></div></div><div class=\"sk-serial\"><div class=\"sk-item\"><div class=\"sk-estimator sk-toggleable\"><input class=\"sk-toggleable__control sk-hidden--visually\" id=\"sk-estimator-id-62\" type=\"checkbox\" ><label for=\"sk-estimator-id-62\" class=\"sk-toggleable__label sk-toggleable__label-arrow\">OneHotEncoder</label><div class=\"sk-toggleable__content\"><pre>OneHotEncoder()</pre></div></div></div></div></div></div></div></div><div class=\"sk-item\"><div class=\"sk-estimator sk-toggleable\"><input class=\"sk-toggleable__control sk-hidden--visually\" id=\"sk-estimator-id-63\" type=\"checkbox\" ><label for=\"sk-estimator-id-63\" class=\"sk-toggleable__label sk-toggleable__label-arrow\">PolynomialFeatures</label><div class=\"sk-toggleable__content\"><pre>PolynomialFeatures(include_bias=False)</pre></div></div></div><div class=\"sk-item\"><div class=\"sk-estimator sk-toggleable\"><input class=\"sk-toggleable__control sk-hidden--visually\" id=\"sk-estimator-id-64\" type=\"checkbox\" ><label for=\"sk-estimator-id-64\" class=\"sk-toggleable__label sk-toggleable__label-arrow\">LinearRegression</label><div class=\"sk-toggleable__content\"><pre>LinearRegression()</pre></div></div></div></div></div></div></div></div></div></div></div></div>"
      ],
      "text/plain": [
       "GridSearchCV(cv=5,\n",
       "             estimator=Pipeline(steps=[('ct',\n",
       "                                        ColumnTransformer(transformers=[('scaler',\n",
       "                                                                         StandardScaler(),\n",
       "                                                                         Index(['CompPrice', 'Advertising', 'Population', 'Price', 'Age'], dtype='object')),\n",
       "                                                                        ('oh_enc',\n",
       "                                                                         OneHotEncoder(),\n",
       "                                                                         Index(['ShelveLoc', 'US'], dtype='object'))])),\n",
       "                                       ('poly',\n",
       "                                        PolynomialFeatures(include_bias=False)),\n",
       "                                       ('linear', LinearRegression())]),\n",
       "             param_grid=[{'linear': [Ridge(), Lasso(alpha=0.01)],\n",
       "                          'linear__alpha': [1, 0.1, 0.01, 10, 100],\n",
       "                          'poly__degree': [2, 3, 4]},\n",
       "                         {'linear': [LinearRegression()],\n",
       "                          'poly__degree': [2, 3, 4]},\n",
       "                         {'linear': [RandomForestRegressor()],\n",
       "                          'linear__max_depth': [None, 3, 5, 7],\n",
       "                          'linear__min_samples_leaf': [1, 3, 5],\n",
       "                          'poly__degree': [1]}],\n",
       "             scoring='neg_root_mean_squared_error', verbose=True)"
      ]
     },
     "execution_count": 77,
     "metadata": {},
     "output_type": "execute_result"
    }
   ],
   "source": [
    "# pipeline 실습3)\n",
    "\n",
    "carseat = pd.read_csv('../data/carseat.csv')\n",
    "y = carseat['Sales']\n",
    "X = carseat.drop(['Sales'], axis = 1)\n",
    "\n",
    "X_train, X_test, y_train, y_test = train_test_split(X, y, \n",
    "                                                    test_size = 0.2, random_state=0)\n",
    "\n",
    "scaler = StandardScaler()\n",
    "oh_enc = OneHotEncoder()\n",
    "\n",
    "obj_col = X.dtypes[X.dtypes == 'object'].index\n",
    "num_col = X.dtypes[X.dtypes != 'object'].index\n",
    "\n",
    "ct = ColumnTransformer([('scaler', scaler, num_col),\n",
    "                        ('oh_enc', oh_enc, obj_col)])\n",
    "\n",
    "\n",
    "poly = PolynomialFeatures(degree=2, include_bias=False)\n",
    "pipe = Pipeline([('ct', ct), ('poly', poly), \n",
    "                 ('linear', LinearRegression())])\n",
    "\n",
    "params = [{'poly__degree' : [2, 3, 4], \n",
    "          'linear' : [Ridge(), \n",
    "                      Lasso()],\n",
    "          'linear__alpha' : [1, 0.1, 0.01, 10, 100]},\n",
    "          \n",
    "          {'poly__degree' : [2, 3, 4], \n",
    "          'linear' : [LinearRegression()]},\n",
    "          \n",
    "          {'poly__degree' : [1], \n",
    "          'linear' : [RandomForestRegressor()],\n",
    "           'linear__max_depth' : [None, 3, 5, 7],\n",
    "           'linear__min_samples_leaf' : [1, 3, 5]}\n",
    "]\n",
    "grid = GridSearchCV(pipe, param_grid=params, \n",
    "                    scoring='neg_root_mean_squared_error', cv = 5, verbose=True)\n",
    "\n",
    "grid.fit(X_train, y_train)"
   ]
  },
  {
   "cell_type": "code",
   "execution_count": 78,
   "id": "a733615f",
   "metadata": {},
   "outputs": [
    {
     "data": {
      "text/plain": [
       "1.1310709609260892"
      ]
     },
     "execution_count": 78,
     "metadata": {},
     "output_type": "execute_result"
    }
   ],
   "source": [
    "grid.best_score_ * -1"
   ]
  },
  {
   "cell_type": "code",
   "execution_count": 79,
   "id": "208b15fa",
   "metadata": {},
   "outputs": [
    {
     "data": {
      "text/plain": [
       "{'linear': Lasso(alpha=0.01), 'linear__alpha': 0.01, 'poly__degree': 2}"
      ]
     },
     "execution_count": 79,
     "metadata": {},
     "output_type": "execute_result"
    }
   ],
   "source": [
    "grid.best_params_"
   ]
  },
  {
   "cell_type": "code",
   "execution_count": null,
   "id": "af83aa7a",
   "metadata": {},
   "outputs": [],
   "source": [
    "# 모델 저장하여 불러와서 기능 완전히 사용하기(libjob)\n",
    "import joblib      # 바이너리 형태의 파일을 저장할 수 있게 해주는 라이브러리/ 피클과 비슷\n",
    "model=grid.best_estmator_"
   ]
  },
  {
   "cell_type": "code",
   "execution_count": 81,
   "id": "1f0074f9-e480-4f11-8dc8-77b9dc73c506",
   "metadata": {},
   "outputs": [
    {
     "data": {
      "text/plain": [
       "['model.h5']"
      ]
     },
     "execution_count": 81,
     "metadata": {},
     "output_type": "execute_result"
    }
   ],
   "source": [
    "joblib.dump(model, 'model.h5')  # 저장"
   ]
  },
  {
   "cell_type": "code",
   "execution_count": 83,
   "id": "770deb41-65f8-4223-bf4b-c7fe3c418bea",
   "metadata": {},
   "outputs": [],
   "source": [
    "model2=joblib.load('model.h5') \n",
    "model2.predict()    # 안에 데이터 넣어서 예측해보기"
   ]
  },
  {
   "cell_type": "code",
   "execution_count": null,
   "id": "df647c13-07b0-4c74-af5b-099c873bb398",
   "metadata": {},
   "outputs": [],
   "source": []
  },
  {
   "cell_type": "code",
   "execution_count": null,
   "id": "53c80e43-5f77-4055-bf69-95c88b579898",
   "metadata": {},
   "outputs": [],
   "source": [
    "# 다른 파일에서도 불러내서 사용 가능: \n",
    "import joblib\n",
    "model=joblib.load('model.h5')\n",
    "model.predict()    \n",
    "\n",
    "# 다른 것도 저장 가능하나, 학습되지 않으면 기능없음/ 너무 모델을 저장하면 속도 등의 문제가 있을 수 있음(예)\n",
    "joblib.dump(rf_reg, 'model.h5') "
   ]
  },
  {
   "cell_type": "code",
   "execution_count": null,
   "id": "57ca89ea-e916-4e81-b6ba-ca91611218fb",
   "metadata": {},
   "outputs": [],
   "source": []
  },
  {
   "cell_type": "code",
   "execution_count": null,
   "id": "eb1b2713-df74-4901-9cc2-5b40572763ef",
   "metadata": {},
   "outputs": [],
   "source": []
  }
 ],
 "metadata": {
  "kernelspec": {
   "display_name": "Python 3 (ipykernel)",
   "language": "python",
   "name": "python3"
  },
  "language_info": {
   "codemirror_mode": {
    "name": "ipython",
    "version": 3
   },
   "file_extension": ".py",
   "mimetype": "text/x-python",
   "name": "python",
   "nbconvert_exporter": "python",
   "pygments_lexer": "ipython3",
   "version": "3.11.5"
  }
 },
 "nbformat": 4,
 "nbformat_minor": 5
}
