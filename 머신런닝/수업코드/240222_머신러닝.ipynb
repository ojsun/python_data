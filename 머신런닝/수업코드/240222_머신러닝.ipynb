{
 "cells": [
  {
   "cell_type": "code",
   "execution_count": null,
   "id": "99e07483",
   "metadata": {},
   "outputs": [],
   "source": [
    "from sklearn.ensemble import GradientBoostingClassifier\n",
    "from sklearn.datasets import load_breast_cancer\n",
    "from sklearn.model_selection import train_test_split\n",
    "from sklearn.metrics import accuracy_score\n",
    "\n",
    "cancer = load_breast_cancer()\n",
    "X_train, X_test, y_train, y_test = train_test_split(cancer.data, cancer.target, \n",
    "test_size=0.2 , random_state= 0)\n",
    "\n",
    "gb_clf = GradientBoostingClassifier(n_estimators=200, \n",
    "                                    learning_rate=0.05,\n",
    "                                    random_state=0, verbose=True)\n",
    "\n",
    "gb_clf.fit(X_train , y_train)\n",
    "gb_pred = gb_clf.predict(X_test)\n",
    "gb_accuracy = accuracy_score(y_test, gb_pred)\n",
    "print(f'GBM 정확도: {gb_accuracy:.4f}')"
   ]
  },
  {
   "cell_type": "code",
   "execution_count": null,
   "id": "b0634ca4",
   "metadata": {},
   "outputs": [],
   "source": [
    "from sklearn.ensemble import AdaBoostClassifier\n",
    "\n",
    "AdaBoostClassifier()"
   ]
  },
  {
   "cell_type": "code",
   "execution_count": null,
   "id": "54ec1b2d",
   "metadata": {},
   "outputs": [],
   "source": [
    "import xgboost as xgb\n",
    "from xgboost import plot_importance\n",
    "import pandas as pd\n",
    "import numpy as np\n",
    "from sklearn.datasets import load_breast_cancer\n",
    "from sklearn.model_selection import train_test_split\n",
    "import warnings\n",
    "warnings.filterwarnings('ignore')\n",
    "                        \n",
    "dataset = load_breast_cancer()\n",
    "cancer_df = pd.DataFrame(data=dataset.data, columns=dataset.feature_names)\n",
    "cancer_df['target'] = dataset.target\n",
    "X_features = cancer_df.iloc[:, :-1]\n",
    "y_label = cancer_df.iloc[:, -1]\n",
    "X_train, X_test, y_train, y_test=train_test_split(X_features, y_label, \n",
    "test_size=0.2, random_state=156 )\n",
    "X_tr, X_val, y_tr, y_val= train_test_split(X_train, y_train,\n",
    "test_size=0.1, random_state=156 )\n"
   ]
  },
  {
   "cell_type": "code",
   "execution_count": null,
   "id": "8ab1602d",
   "metadata": {},
   "outputs": [],
   "source": [
    "from xgboost import XGBClassifier\n",
    "\n",
    "xgb_wrapper = XGBClassifier(n_estimators=400, learning_rate=0.1)\n",
    "\n",
    "evals = [(X_val, y_val)]\n",
    "xgb_wrapper.fit(X_tr, y_tr, eval_metric = \"logloss\", \n",
    "                early_stopping_rounds=10,eval_set=evals)"
   ]
  },
  {
   "cell_type": "code",
   "execution_count": null,
   "id": "8f86dee5",
   "metadata": {},
   "outputs": [],
   "source": [
    "pred = xgb_wrapper.predict(X_test)\n",
    "\n",
    "accuracy_score(y_test, pred)"
   ]
  },
  {
   "cell_type": "code",
   "execution_count": null,
   "id": "c664391a",
   "metadata": {},
   "outputs": [],
   "source": [
    "xgb_wrapper.feature_importances_"
   ]
  },
  {
   "cell_type": "code",
   "execution_count": null,
   "id": "535bf0b4",
   "metadata": {},
   "outputs": [],
   "source": [
    "import matplotlib.pyplot as plt\n",
    "import seaborn as sns\n",
    "\n",
    "ftr_importances_values = xgb_wrapper.feature_importances_\n",
    "ftr_importances = pd.Series(ftr_importances_values, index=cancer.feature_names )\n",
    "ftr_top20 = ftr_importances.sort_values(ascending=False)[:20]\n",
    "plt.figure(figsize=(8,6))\n",
    "plt.title('Feature importances Top 20')\n",
    "sns.barplot(x=ftr_top20 , y = ftr_top20.index)\n",
    "plt.show()\n",
    "plt.draw()\n"
   ]
  },
  {
   "cell_type": "code",
   "execution_count": null,
   "id": "183b93ec",
   "metadata": {},
   "outputs": [],
   "source": [
    "# 앙상블 (보팅 / 배깅 / 부스팅)\n",
    "\n",
    "# 보팅 - 여러가지 알고리즘 사용해서 다수결 원칙으로 투표로 예측\n",
    "\n",
    "# 배깅 - 하나의 알고리즘을 다양한 데이터로 학습해서 예측결과를 통합\n",
    "# 배깅의 대표적인 알고리즘 : RandomForest\n",
    "\n",
    "# 부스팅 - 하나의 알고리즘 여러번 순차적으로 학습시켜서 가중치를 업데이트 하는방법\n",
    "# 대표적인 알고리즘 : GBM, AdaBoost, Xgboost, Lightgbm, Catboost"
   ]
  },
  {
   "cell_type": "code",
   "execution_count": null,
   "id": "68b35d82",
   "metadata": {},
   "outputs": [],
   "source": [
    "import numpy as np\n",
    "from sklearn.datasets import load_breast_cancer\n",
    "from sklearn.model_selection import train_test_split\n",
    "from sklearn.metrics import accuracy_score\n",
    "cancer_data = load_breast_cancer()\n",
    "X_data = cancer_data.data\n",
    "y_label = cancer_data.target\n",
    "X_train , X_test , y_train , y_test = train_test_split(X_data, y_label, \n",
    "test_size=0.2 , random_state=0)"
   ]
  },
  {
   "cell_type": "code",
   "execution_count": null,
   "id": "c81fd4e6",
   "metadata": {},
   "outputs": [],
   "source": [
    "from sklearn.neighbors import KNeighborsClassifier\n",
    "from sklearn.ensemble import RandomForestClassifier\n",
    "from sklearn.ensemble import AdaBoostClassifier\n",
    "from sklearn.tree import DecisionTreeClassifier\n",
    "from sklearn.linear_model import LogisticRegression\n",
    "\n",
    "# 4개의 모델(KNN, RF, Ada, DT)를 통해 개별 예측을 하고\n",
    "# 최종으로 Logistic 모델을 사용하여 예측 예정"
   ]
  },
  {
   "cell_type": "code",
   "execution_count": null,
   "id": "4bcf717f",
   "metadata": {},
   "outputs": [],
   "source": [
    "knn_clf = KNeighborsClassifier()\n",
    "rf_clf = RandomForestClassifier(random_state= 0 )\n",
    "ada_clf = AdaBoostClassifier(random_state=0)\n",
    "dt_clf = DecisionTreeClassifier(random_state=0)\n",
    "\n",
    "lr_clf = LogisticRegression(random_state=0)"
   ]
  },
  {
   "cell_type": "code",
   "execution_count": null,
   "id": "174104f7",
   "metadata": {},
   "outputs": [],
   "source": [
    "# 상위 4개의 개별 학습/예측/평가\n",
    "\n",
    "def model_fit_predict(model, X_train, y_train, X_test):\n",
    "    model.fit(X_train, y_train)\n",
    "    pred = model.predict(X_test)\n",
    "    pred_proba = model.predict_proba(X_test)\n",
    "    return pred, pred_proba\n",
    "\n",
    "def get_clf_eval(y_test, pred, pred_proba=None, binary = True):\n",
    "    accuracy = accuracy_score(y_test , pred)\n",
    "    if binary:\n",
    "        precision = precision_score(y_test , pred)\n",
    "        recall = recall_score(y_test , pred)\n",
    "        f1 = f1_score(y_test,pred)\n",
    "        if pred_proba.any():\n",
    "            roc_auc = roc_auc_score(y_test, pred_proba[:, 1])\n",
    "    else:\n",
    "        precision = precision_score(y_test , pred, average = 'macro')\n",
    "        recall = recall_score(y_test , pred, average = 'macro')\n",
    "        f1 = f1_score(y_test,pred, average = 'macro')\n",
    "        if pred_proba.any():\n",
    "            roc_auc = roc_auc_score(y_test, pred_proba, multi_class = 'ovo')\n",
    "    print(f'정확도: {accuracy:.4f}, 정밀도: {precision:.4f}, 재현율: {recall:.4f}')\n",
    "    print(f'F1: {f1:.4f}, AUC:{roc_auc:.4f}')"
   ]
  },
  {
   "cell_type": "code",
   "execution_count": null,
   "id": "a062ff7a",
   "metadata": {},
   "outputs": [],
   "source": [
    "from sklearn.metrics import accuracy_score, precision_score, recall_score, f1_score, roc_auc_score"
   ]
  },
  {
   "cell_type": "code",
   "execution_count": null,
   "id": "6dc61806",
   "metadata": {},
   "outputs": [],
   "source": [
    "if [1]:\n",
    "    print(1)"
   ]
  },
  {
   "cell_type": "code",
   "execution_count": null,
   "id": "b259c86d",
   "metadata": {},
   "outputs": [],
   "source": [
    "models = [knn_clf, rf_clf, ada_clf, dt_clf]\n",
    "for model in models:\n",
    "    print(model.__class__.__name__)\n",
    "    pred, pred_proba = model_fit_predict(model, X_train, y_train, X_test)\n",
    "    get_clf_eval(y_test, pred, pred_proba)"
   ]
  },
  {
   "cell_type": "code",
   "execution_count": null,
   "id": "64a5cfc7",
   "metadata": {},
   "outputs": [],
   "source": [
    "knn_train = knn_clf.predict(X_train)\n",
    "rf_train = rf_clf.predict(X_train)\n",
    "ada_train = ada_clf.predict(X_train)\n",
    "dt_train = dt_clf.predict(X_train)"
   ]
  },
  {
   "cell_type": "code",
   "execution_count": null,
   "id": "c9c614f0",
   "metadata": {},
   "outputs": [],
   "source": [
    "knn_test = knn_clf.predict(X_test)\n",
    "rf_test = rf_clf.predict(X_test)\n",
    "ada_test = ada_clf.predict(X_test)\n",
    "dt_test = dt_clf.predict(X_test)"
   ]
  },
  {
   "cell_type": "code",
   "execution_count": null,
   "id": "1408a2a4",
   "metadata": {},
   "outputs": [],
   "source": [
    "pred_train = np.vstack([knn_train, rf_train, ada_train, dt_train]).T\n",
    "pred_test = np.vstack([knn_test, rf_test, ada_test, dt_test]).T"
   ]
  },
  {
   "cell_type": "code",
   "execution_count": null,
   "id": "18c21688",
   "metadata": {},
   "outputs": [],
   "source": [
    "lr_clf.fit(pred_train, y_train)"
   ]
  },
  {
   "cell_type": "code",
   "execution_count": null,
   "id": "2e15203d",
   "metadata": {},
   "outputs": [],
   "source": [
    "pred = lr_clf.predict(pred_test)"
   ]
  },
  {
   "cell_type": "code",
   "execution_count": null,
   "id": "e3bedcff",
   "metadata": {},
   "outputs": [],
   "source": [
    "pred_proba = lr_clf.predict_proba(pred_test)"
   ]
  },
  {
   "cell_type": "code",
   "execution_count": null,
   "id": "f1c5fa08",
   "metadata": {},
   "outputs": [],
   "source": [
    "pred_test"
   ]
  },
  {
   "cell_type": "code",
   "execution_count": null,
   "id": "2b2be8ee",
   "metadata": {},
   "outputs": [],
   "source": [
    "get_clf_eval(y_test, pred, pred_proba)"
   ]
  },
  {
   "cell_type": "code",
   "execution_count": null,
   "id": "a8697f07",
   "metadata": {},
   "outputs": [],
   "source": [
    "KNeighborsClassifier\n",
    "정확도: 0.9386, 정밀도: 0.9545, 재현율: 0.9403\n",
    "F1: 0.9474, AUC:0.9579\n",
    "RandomForestClassifier\n",
    "정확도: 0.9649, 정밀도: 0.9846, 재현율: 0.9552\n",
    "F1: 0.9697, AUC:0.9965\n",
    "AdaBoostClassifier\n",
    "정확도: 0.9561, 정밀도: 0.9559, 재현율: 0.9701\n",
    "F1: 0.9630, AUC:0.9971\n",
    "DecisionTreeClassifier\n",
    "정확도: 0.9123, 정밀도: 0.9524, 재현율: 0.8955\n",
    "F1: 0.9231, AUC:0.9158"
   ]
  },
  {
   "cell_type": "code",
   "execution_count": null,
   "id": "9f38e1a2",
   "metadata": {},
   "outputs": [],
   "source": [
    "from sklearn.ensemble import StackingClassifier\n",
    "from sklearn.naive_bayes import GaussianNB\n",
    "from sklearn.tree import DecisionTreeClassifier\n",
    "from sklearn.neighbors import KNeighborsClassifier\n",
    "from sklearn.linear_model import LogisticRegression\n",
    "\n",
    "\n",
    "\n",
    "stack = StackingClassifier([('Gaus', GaussianNB()),\n",
    "                            ('DT', DecisionTreeClassifier(random_state=0)),\n",
    "                            ('Knn', KNeighborsClassifier())],\n",
    "                           final_estimator=LogisticRegression(random_state=0),\n",
    "                            stack_method='predict')"
   ]
  },
  {
   "cell_type": "code",
   "execution_count": null,
   "id": "16603bd2",
   "metadata": {},
   "outputs": [],
   "source": [
    "stack.fit(X_train, y_train)\n",
    "\n",
    "pred = stack.predict(X_test)\n",
    "pred_proba = stack.predict_proba(X_test)\n",
    "\n",
    "get_clf_eval(y_test, pred, pred_proba)"
   ]
  },
  {
   "cell_type": "code",
   "execution_count": null,
   "id": "437fd426",
   "metadata": {},
   "outputs": [],
   "source": [
    "from sklearn.datasets import load_breast_cancer\n",
    "from sklearn.linear_model import LogisticRegression\n",
    "from sklearn.preprocessing import StandardScaler\n",
    "from sklearn.model_selection import train_test_split\n",
    "from sklearn.metrics import accuracy_score, roc_auc_score\n",
    "\n",
    "cancer = load_breast_cancer()\n",
    "\n",
    "X_train , X_test, y_train , y_test = train_test_split(cancer.data, cancer.target, \n",
    "test_size=0.3, random_state=0)\n",
    "\n",
    "lr_clf = LogisticRegression()\n",
    "lr_clf.fit(X_train, y_train)\n",
    "pred = lr_clf.predict(X_test)\n",
    "pred_proba = lr_clf.predict_proba(X_test)[:,1]\n",
    "acc = accuracy_score(y_test, pred)\n",
    "auc = roc_auc_score(y_test, pred_proba)\n",
    "print(f'accuracy: {acc:.3f}, roc_auc:{auc:.3f}')"
   ]
  },
  {
   "cell_type": "code",
   "execution_count": null,
   "id": "df26b212",
   "metadata": {},
   "outputs": [],
   "source": [
    "scaler = StandardScaler()\n",
    "data_scaled = scaler.fit_transform(cancer.data)\n",
    "X_train , X_test, y_train , y_test = train_test_split(data_scaled, cancer.target, \n",
    "test_size=0.3, random_state=0)\n",
    "\n",
    "lr_clf = LogisticRegression()\n",
    "lr_clf.fit(X_train, y_train)\n",
    "pred = lr_clf.predict(X_test)\n",
    "pred_proba = lr_clf.predict_proba(X_test)[:,1]\n",
    "acc = accuracy_score(y_test, pred)\n",
    "auc = roc_auc_score(y_test, pred_proba)\n",
    "print(f'accuracy: {acc:.3f}, roc_auc:{auc:.3f}')"
   ]
  },
  {
   "cell_type": "code",
   "execution_count": null,
   "id": "0006eb28",
   "metadata": {},
   "outputs": [],
   "source": [
    "solvers = ['lbfgs', 'liblinear', 'newton-cg', 'sag', 'saga']\n",
    "for solver in solvers:\n",
    "    lr_clf = LogisticRegression(solver=solver, max_iter=600)\n",
    "    lr_clf.fit(X_train, y_train)\n",
    "    pred = lr_clf.predict(X_test)\n",
    "    pred_proba = lr_clf.predict_proba(X_test)[:,1]\n",
    "    acc = accuracy_score(y_test, pred)\n",
    "    auc = roc_auc_score(y_test, pred_proba)\n",
    "    print(f'solver: {solver}, accuracy: {acc:.3f}, roc_auc:{auc:.3f}')\n"
   ]
  },
  {
   "cell_type": "code",
   "execution_count": null,
   "id": "e4e3f0c9",
   "metadata": {},
   "outputs": [],
   "source": [
    "from sklearn.model_selection import GridSearchCV\n",
    "params={'solver':['liblinear', 'lbfgs'],\n",
    "'penalty':['l2', 'l1'],\n",
    "'C':[0.01, 0.1, 1, 5, 10]}\n",
    "lr_clf = LogisticRegression()\n",
    "grid_clf = GridSearchCV(lr_clf, param_grid=params, scoring='accuracy', cv=3 )\n",
    "grid_clf.fit(data_scaled, cancer.target)\n",
    "print(f'최적 하이퍼 파라미터:{grid_clf.best_params_}') \n",
    "print(f'최대 평균 정확도:{grid_clf.best_score_:.3f}')"
   ]
  },
  {
   "cell_type": "code",
   "execution_count": null,
   "id": "86cc9d20",
   "metadata": {},
   "outputs": [],
   "source": [
    "pd.DataFrame(grid_clf.cv_results_)[['param_C', 'mean_test_score', 'rank_test_score']]"
   ]
  },
  {
   "cell_type": "code",
   "execution_count": null,
   "id": "10a86bf0",
   "metadata": {},
   "outputs": [],
   "source": [
    "lr_clf.coef_, lr_clf.intercept_"
   ]
  },
  {
   "cell_type": "code",
   "execution_count": null,
   "id": "c148840c",
   "metadata": {},
   "outputs": [],
   "source": [
    "from sklearn.datasets import load_iris\n",
    "\n",
    "iris = load_iris()\n",
    "X = iris.data[:100, [3]]\n",
    "y = iris.target[:100]"
   ]
  },
  {
   "cell_type": "code",
   "execution_count": null,
   "id": "6df1696a",
   "metadata": {},
   "outputs": [],
   "source": [
    "iris.feature_names"
   ]
  },
  {
   "cell_type": "code",
   "execution_count": null,
   "id": "c912fac8",
   "metadata": {},
   "outputs": [],
   "source": [
    "from sklearn.tree import plot_tree\n",
    "dt_clf = DecisionTreeClassifier(random_state=0)\n",
    "\n",
    "dt_clf.fit(X, y)\n",
    "\n",
    "plot_tree(dt_clf, feature_names = iris.feature_names)"
   ]
  },
  {
   "cell_type": "code",
   "execution_count": null,
   "id": "1e189827",
   "metadata": {},
   "outputs": [],
   "source": [
    "lr_clf = LogisticRegression(random_state=0)\n",
    "lr_clf.fit(X, y)"
   ]
  },
  {
   "cell_type": "code",
   "execution_count": null,
   "id": "eae5d54f",
   "metadata": {},
   "outputs": [],
   "source": [
    "lr_clf.coef_, lr_clf.intercept_"
   ]
  },
  {
   "cell_type": "code",
   "execution_count": null,
   "id": "090a39a8",
   "metadata": {},
   "outputs": [],
   "source": [
    "-(ax + b) = (4.42328835 * x - 3.37955877) * -1"
   ]
  },
  {
   "cell_type": "code",
   "execution_count": null,
   "id": "913dd691",
   "metadata": {},
   "outputs": [],
   "source": [
    "y = 1 / (1 + np.exp((lr_clf.coef_ * x + lr_clf.intercept_) * -1))"
   ]
  },
  {
   "cell_type": "code",
   "execution_count": null,
   "id": "a7755b8a",
   "metadata": {},
   "outputs": [],
   "source": [
    "y"
   ]
  },
  {
   "cell_type": "code",
   "execution_count": null,
   "id": "5770a27f",
   "metadata": {},
   "outputs": [],
   "source": [
    "X.min(), X.max()"
   ]
  },
  {
   "cell_type": "code",
   "execution_count": null,
   "id": "effc0e86",
   "metadata": {},
   "outputs": [],
   "source": [
    "# x > (x.min() ~ x.max())\n",
    "xx = np.linspace(X.min() - 1, X.max() + 1, 100)\n",
    "yy = 1 / (1 + np.exp((lr_clf.coef_ * xx + lr_clf.intercept_) * -1))"
   ]
  },
  {
   "cell_type": "code",
   "execution_count": null,
   "id": "0141cea8",
   "metadata": {},
   "outputs": [],
   "source": [
    "plt.figure(figsize=(4,2))\n",
    "plt.axhline(1, color = 'red')\n",
    "plt.axhline(0, color = 'red')\n",
    "plt.plot(xx, yy[0])\n",
    "plt.scatter(X.reshape(-1), y, color='green')"
   ]
  },
  {
   "cell_type": "code",
   "execution_count": null,
   "id": "3dfb4678",
   "metadata": {},
   "outputs": [],
   "source": [
    "import seaborn as sns\n",
    "df = pd.DataFrame(iris.data, columns = iris.feature_names)\n",
    "df['label'] = iris.target\n",
    "\n",
    "sns.scatterplot(data = df, x = 'sepal length (cm)', \n",
    "                y = 'sepal width (cm)', size='petal length (cm)',\n",
    "                hue='label', palette='viridis')"
   ]
  },
  {
   "cell_type": "code",
   "execution_count": null,
   "id": "6d53b76f",
   "metadata": {},
   "outputs": [],
   "source": [
    "from sklearn.datasets import load_breast_cancer\n",
    "from sklearn.neighbors import KNeighborsClassifier\n",
    "from sklearn.preprocessing import StandardScaler\n",
    "from sklearn.model_selection import train_test_split\n",
    "from sklearn.metrics import accuracy_score, roc_auc_score\n",
    "cancer = load_breast_cancer()\n",
    "scaler = StandardScaler()\n",
    "data_scaled = scaler.fit_transform(cancer.data)\n",
    "X_train , X_test, y_train , y_test = train_test_split(data_scaled, cancer.target, \n",
    "test_size=0.3, random_state=0)\n"
   ]
  },
  {
   "cell_type": "code",
   "execution_count": null,
   "id": "c0ff2e19",
   "metadata": {},
   "outputs": [],
   "source": [
    "knn = KNeighborsClassifier(n_neighbors=7)\n",
    "knn.fit(X_train, y_train)\n",
    "pred = knn.predict(X_test)\n",
    "pred_proba = knn.predict_proba(X_test)[:,1]\n",
    "acc = accuracy_score(y_test, pred)\n",
    "auc = roc_auc_score(y_test, pred_proba)\n",
    "print(f'accuracy: {acc:.3f}, roc_auc:{auc:.3f}')\n"
   ]
  },
  {
   "cell_type": "code",
   "execution_count": null,
   "id": "dfef6f93",
   "metadata": {},
   "outputs": [],
   "source": [
    "knn = KNeighborsClassifier(n_neighbors=7, metric='euclidean')\n",
    "knn.fit(X_train, y_train)\n",
    "pred = knn.predict(X_test)\n",
    "pred_proba = knn.predict_proba(X_test)[:,1]\n",
    "acc = accuracy_score(y_test, pred)\n",
    "auc = roc_auc_score(y_test, pred_proba)\n",
    "print(f'accuracy: {acc:.3f}, roc_auc:{auc:.3f}')\n"
   ]
  },
  {
   "cell_type": "code",
   "execution_count": null,
   "id": "ff07d8f1",
   "metadata": {},
   "outputs": [],
   "source": [
    "from sklearn.datasets import load_breast_cancer\n",
    "from sklearn.neighbors import KNeighborsClassifier\n",
    "from sklearn.preprocessing import StandardScaler\n",
    "from sklearn.model_selection import train_test_split\n",
    "from sklearn.metrics import accuracy_score, roc_auc_score\n",
    "cancer = load_breast_cancer()\n",
    "scaler = StandardScaler()\n",
    "data_scaled = scaler.fit_transform(cancer.data)\n",
    "X_train , X_test, y_train , y_test = train_test_split(data_scaled, cancer.target, \n",
    "test_size=0.3, random_state=0)\n"
   ]
  },
  {
   "cell_type": "code",
   "execution_count": null,
   "id": "60692a41",
   "metadata": {},
   "outputs": [],
   "source": [
    "from sklearn.svm import SVC, SVR\n",
    "\n",
    "svc = SVC(probability = True)\n",
    "svc.fit(X_train, y_train)\n",
    "pred = svc.predict(X_test)\n",
    "pred_proba = svc.predict_proba(X_test)[:,1]\n",
    "acc = accuracy_score(y_test, pred)\n",
    "auc = roc_auc_score(y_test, pred_proba)\n",
    "print(f'accuracy: {acc:.3f}, roc_auc:{auc:.3f}')"
   ]
  },
  {
   "cell_type": "code",
   "execution_count": null,
   "id": "7e191b35",
   "metadata": {},
   "outputs": [],
   "source": [
    "cancer = load_breast_cancer()\n",
    "\n",
    "X_train , X_test, y_train , y_test = train_test_split(cancer.data, cancer.target, \n",
    "test_size=0.3, random_state=0)\n",
    "svc = SVC(probability = True)\n",
    "svc.fit(X_train, y_train)\n",
    "pred = svc.predict(X_test)\n",
    "pred_proba = svc.predict_proba(X_test)[:,1]\n",
    "acc = accuracy_score(y_test, pred)\n",
    "auc = roc_auc_score(y_test, pred_proba)\n",
    "print(f'accuracy: {acc:.3f}, roc_auc:{auc:.3f}')"
   ]
  },
  {
   "cell_type": "code",
   "execution_count": null,
   "id": "9a115035",
   "metadata": {},
   "outputs": [],
   "source": [
    "kernels = ['rbf', 'linear', 'poly', 'sigmoid']\n",
    "for kernel in kernels:\n",
    "    print(kernel)\n",
    "    svc = SVC(kernel=kernel, probability = True)\n",
    "    svc.fit(X_train, y_train)\n",
    "    pred = svc.predict(X_test)\n",
    "    pred_proba = svc.predict_proba(X_test)[:,1]\n",
    "    acc = accuracy_score(y_test, pred)\n",
    "    auc = roc_auc_score(y_test, pred_proba)\n",
    "    print(f'accuracy: {acc:.3f}, roc_auc:{auc:.3f}')"
   ]
  },
  {
   "cell_type": "code",
   "execution_count": null,
   "id": "fc04a323",
   "metadata": {},
   "outputs": [],
   "source": [
    "params = {\n",
    "            'C' : [0.01, 0.1, 1, 2, 5],\n",
    "            'gamma' : [0.01, 0.05,0.1, 0.5, 1, 2, 5]\n",
    "}\n",
    "\n",
    "grid_cv = GridSearchCV(svc, param_grid=params, scoring='accuracy', cv = 3, verbose=True)\n",
    "\n",
    "grid_cv.fit(X_train, y_train)"
   ]
  },
  {
   "cell_type": "code",
   "execution_count": null,
   "id": "1bd36767",
   "metadata": {},
   "outputs": [],
   "source": [
    "grid_cv.best_score_"
   ]
  },
  {
   "cell_type": "code",
   "execution_count": null,
   "id": "7fbae29a",
   "metadata": {},
   "outputs": [],
   "source": [
    "grid_cv.best_params_"
   ]
  },
  {
   "cell_type": "code",
   "execution_count": null,
   "id": "a087417f",
   "metadata": {},
   "outputs": [],
   "source": [
    "model = grid_cv.best_estimator_\n",
    "pred = model.predict(X_test)\n",
    "\n",
    "pred_proba = model.predict_proba(X_test)[:,1]\n",
    "acc = accuracy_score(y_test, pred)\n",
    "auc = roc_auc_score(y_test, pred_proba)\n",
    "print(f'accuracy: {acc:.3f}, roc_auc:{auc:.3f}')"
   ]
  },
  {
   "cell_type": "code",
   "execution_count": null,
   "id": "a27ed44a",
   "metadata": {
    "tags": []
   },
   "outputs": [],
   "source": [
    "# DecisionTree\n",
    "# RandomForest\n",
    "# GradientBoosting\n",
    "# Xgboost\n",
    "# Voting, Bagging, Stacking\n",
    "# LogsticRegression\n",
    "# KNeighbors\n",
    "# Suport Vector Machine"
   ]
  }
 ],
 "metadata": {
  "kernelspec": {
   "display_name": "Python 3 (ipykernel)",
   "language": "python",
   "name": "python3"
  },
  "language_info": {
   "codemirror_mode": {
    "name": "ipython",
    "version": 3
   },
   "file_extension": ".py",
   "mimetype": "text/x-python",
   "name": "python",
   "nbconvert_exporter": "python",
   "pygments_lexer": "ipython3",
   "version": "3.11.5"
  }
 },
 "nbformat": 4,
 "nbformat_minor": 5
}
