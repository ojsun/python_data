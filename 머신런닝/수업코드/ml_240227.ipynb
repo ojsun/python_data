{
 "cells": [
  {
   "cell_type": "code",
   "execution_count": null,
   "id": "6cc529fc-6e25-416f-ad72-1f04ae21a30a",
   "metadata": {
    "tags": []
   },
   "outputs": [],
   "source": [
    "import matplotlib.pyplot as plt\n",
    "import seaborn as sns\n",
    "import pandas as pd\n",
    "import numpy as np\n",
    "import warnings\n",
    "warnings.filterwarnings('ignore')"
   ]
  },
  {
   "cell_type": "code",
   "execution_count": 3,
   "id": "57a1bb03-1be3-479e-b873-d2d25954bca0",
   "metadata": {
    "tags": []
   },
   "outputs": [
    {
     "data": {
      "text/html": [
       "<div>\n",
       "<style scoped>\n",
       "    .dataframe tbody tr th:only-of-type {\n",
       "        vertical-align: middle;\n",
       "    }\n",
       "\n",
       "    .dataframe tbody tr th {\n",
       "        vertical-align: top;\n",
       "    }\n",
       "\n",
       "    .dataframe thead th {\n",
       "        text-align: right;\n",
       "    }\n",
       "</style>\n",
       "<table border=\"1\" class=\"dataframe\">\n",
       "  <thead>\n",
       "    <tr style=\"text-align: right;\">\n",
       "      <th></th>\n",
       "      <th>Time</th>\n",
       "      <th>V1</th>\n",
       "      <th>V2</th>\n",
       "      <th>V3</th>\n",
       "      <th>V4</th>\n",
       "      <th>V5</th>\n",
       "      <th>V6</th>\n",
       "      <th>V7</th>\n",
       "      <th>V8</th>\n",
       "      <th>V9</th>\n",
       "      <th>...</th>\n",
       "      <th>V21</th>\n",
       "      <th>V22</th>\n",
       "      <th>V23</th>\n",
       "      <th>V24</th>\n",
       "      <th>V25</th>\n",
       "      <th>V26</th>\n",
       "      <th>V27</th>\n",
       "      <th>V28</th>\n",
       "      <th>Amount</th>\n",
       "      <th>Class</th>\n",
       "    </tr>\n",
       "  </thead>\n",
       "  <tbody>\n",
       "    <tr>\n",
       "      <th>0</th>\n",
       "      <td>0.0</td>\n",
       "      <td>-1.359807</td>\n",
       "      <td>-0.072781</td>\n",
       "      <td>2.536347</td>\n",
       "      <td>1.378155</td>\n",
       "      <td>-0.338321</td>\n",
       "      <td>0.462388</td>\n",
       "      <td>0.239599</td>\n",
       "      <td>0.098698</td>\n",
       "      <td>0.363787</td>\n",
       "      <td>...</td>\n",
       "      <td>-0.018307</td>\n",
       "      <td>0.277838</td>\n",
       "      <td>-0.110474</td>\n",
       "      <td>0.066928</td>\n",
       "      <td>0.128539</td>\n",
       "      <td>-0.189115</td>\n",
       "      <td>0.133558</td>\n",
       "      <td>-0.021053</td>\n",
       "      <td>149.62</td>\n",
       "      <td>0</td>\n",
       "    </tr>\n",
       "    <tr>\n",
       "      <th>1</th>\n",
       "      <td>0.0</td>\n",
       "      <td>1.191857</td>\n",
       "      <td>0.266151</td>\n",
       "      <td>0.166480</td>\n",
       "      <td>0.448154</td>\n",
       "      <td>0.060018</td>\n",
       "      <td>-0.082361</td>\n",
       "      <td>-0.078803</td>\n",
       "      <td>0.085102</td>\n",
       "      <td>-0.255425</td>\n",
       "      <td>...</td>\n",
       "      <td>-0.225775</td>\n",
       "      <td>-0.638672</td>\n",
       "      <td>0.101288</td>\n",
       "      <td>-0.339846</td>\n",
       "      <td>0.167170</td>\n",
       "      <td>0.125895</td>\n",
       "      <td>-0.008983</td>\n",
       "      <td>0.014724</td>\n",
       "      <td>2.69</td>\n",
       "      <td>0</td>\n",
       "    </tr>\n",
       "    <tr>\n",
       "      <th>2</th>\n",
       "      <td>1.0</td>\n",
       "      <td>-1.358354</td>\n",
       "      <td>-1.340163</td>\n",
       "      <td>1.773209</td>\n",
       "      <td>0.379780</td>\n",
       "      <td>-0.503198</td>\n",
       "      <td>1.800499</td>\n",
       "      <td>0.791461</td>\n",
       "      <td>0.247676</td>\n",
       "      <td>-1.514654</td>\n",
       "      <td>...</td>\n",
       "      <td>0.247998</td>\n",
       "      <td>0.771679</td>\n",
       "      <td>0.909412</td>\n",
       "      <td>-0.689281</td>\n",
       "      <td>-0.327642</td>\n",
       "      <td>-0.139097</td>\n",
       "      <td>-0.055353</td>\n",
       "      <td>-0.059752</td>\n",
       "      <td>378.66</td>\n",
       "      <td>0</td>\n",
       "    </tr>\n",
       "    <tr>\n",
       "      <th>3</th>\n",
       "      <td>1.0</td>\n",
       "      <td>-0.966272</td>\n",
       "      <td>-0.185226</td>\n",
       "      <td>1.792993</td>\n",
       "      <td>-0.863291</td>\n",
       "      <td>-0.010309</td>\n",
       "      <td>1.247203</td>\n",
       "      <td>0.237609</td>\n",
       "      <td>0.377436</td>\n",
       "      <td>-1.387024</td>\n",
       "      <td>...</td>\n",
       "      <td>-0.108300</td>\n",
       "      <td>0.005274</td>\n",
       "      <td>-0.190321</td>\n",
       "      <td>-1.175575</td>\n",
       "      <td>0.647376</td>\n",
       "      <td>-0.221929</td>\n",
       "      <td>0.062723</td>\n",
       "      <td>0.061458</td>\n",
       "      <td>123.50</td>\n",
       "      <td>0</td>\n",
       "    </tr>\n",
       "    <tr>\n",
       "      <th>4</th>\n",
       "      <td>2.0</td>\n",
       "      <td>-1.158233</td>\n",
       "      <td>0.877737</td>\n",
       "      <td>1.548718</td>\n",
       "      <td>0.403034</td>\n",
       "      <td>-0.407193</td>\n",
       "      <td>0.095921</td>\n",
       "      <td>0.592941</td>\n",
       "      <td>-0.270533</td>\n",
       "      <td>0.817739</td>\n",
       "      <td>...</td>\n",
       "      <td>-0.009431</td>\n",
       "      <td>0.798278</td>\n",
       "      <td>-0.137458</td>\n",
       "      <td>0.141267</td>\n",
       "      <td>-0.206010</td>\n",
       "      <td>0.502292</td>\n",
       "      <td>0.219422</td>\n",
       "      <td>0.215153</td>\n",
       "      <td>69.99</td>\n",
       "      <td>0</td>\n",
       "    </tr>\n",
       "  </tbody>\n",
       "</table>\n",
       "<p>5 rows × 31 columns</p>\n",
       "</div>"
      ],
      "text/plain": [
       "   Time        V1        V2        V3        V4        V5        V6        V7  \\\n",
       "0   0.0 -1.359807 -0.072781  2.536347  1.378155 -0.338321  0.462388  0.239599   \n",
       "1   0.0  1.191857  0.266151  0.166480  0.448154  0.060018 -0.082361 -0.078803   \n",
       "2   1.0 -1.358354 -1.340163  1.773209  0.379780 -0.503198  1.800499  0.791461   \n",
       "3   1.0 -0.966272 -0.185226  1.792993 -0.863291 -0.010309  1.247203  0.237609   \n",
       "4   2.0 -1.158233  0.877737  1.548718  0.403034 -0.407193  0.095921  0.592941   \n",
       "\n",
       "         V8        V9  ...       V21       V22       V23       V24       V25  \\\n",
       "0  0.098698  0.363787  ... -0.018307  0.277838 -0.110474  0.066928  0.128539   \n",
       "1  0.085102 -0.255425  ... -0.225775 -0.638672  0.101288 -0.339846  0.167170   \n",
       "2  0.247676 -1.514654  ...  0.247998  0.771679  0.909412 -0.689281 -0.327642   \n",
       "3  0.377436 -1.387024  ... -0.108300  0.005274 -0.190321 -1.175575  0.647376   \n",
       "4 -0.270533  0.817739  ... -0.009431  0.798278 -0.137458  0.141267 -0.206010   \n",
       "\n",
       "        V26       V27       V28  Amount  Class  \n",
       "0 -0.189115  0.133558 -0.021053  149.62      0  \n",
       "1  0.125895 -0.008983  0.014724    2.69      0  \n",
       "2 -0.139097 -0.055353 -0.059752  378.66      0  \n",
       "3 -0.221929  0.062723  0.061458  123.50      0  \n",
       "4  0.502292  0.219422  0.215153   69.99      0  \n",
       "\n",
       "[5 rows x 31 columns]"
      ]
     },
     "execution_count": 3,
     "metadata": {},
     "output_type": "execute_result"
    }
   ],
   "source": [
    "credict=pd.read_csv('../data/creditcard.csv')\n",
    "credict.head()"
   ]
  },
  {
   "cell_type": "code",
   "execution_count": 4,
   "id": "ef0bfb99-44b4-45b2-b5b9-2564ab6586ec",
   "metadata": {
    "tags": []
   },
   "outputs": [
    {
     "data": {
      "text/plain": [
       "Class\n",
       "0    284315\n",
       "1       492\n",
       "Name: count, dtype: int64"
      ]
     },
     "execution_count": 4,
     "metadata": {},
     "output_type": "execute_result"
    }
   ],
   "source": [
    "credict.Class.value_counts()"
   ]
  },
  {
   "cell_type": "code",
   "execution_count": 6,
   "id": "e7f4b6cd-93e3-4a9b-a675-b171c139ca93",
   "metadata": {},
   "outputs": [
    {
     "name": "stdout",
     "output_type": "stream",
     "text": [
      "<class 'pandas.core.frame.DataFrame'>\n",
      "RangeIndex: 284807 entries, 0 to 284806\n",
      "Data columns (total 31 columns):\n",
      " #   Column  Non-Null Count   Dtype  \n",
      "---  ------  --------------   -----  \n",
      " 0   Time    284807 non-null  float64\n",
      " 1   V1      284807 non-null  float64\n",
      " 2   V2      284807 non-null  float64\n",
      " 3   V3      284807 non-null  float64\n",
      " 4   V4      284807 non-null  float64\n",
      " 5   V5      284807 non-null  float64\n",
      " 6   V6      284807 non-null  float64\n",
      " 7   V7      284807 non-null  float64\n",
      " 8   V8      284807 non-null  float64\n",
      " 9   V9      284807 non-null  float64\n",
      " 10  V10     284807 non-null  float64\n",
      " 11  V11     284807 non-null  float64\n",
      " 12  V12     284807 non-null  float64\n",
      " 13  V13     284807 non-null  float64\n",
      " 14  V14     284807 non-null  float64\n",
      " 15  V15     284807 non-null  float64\n",
      " 16  V16     284807 non-null  float64\n",
      " 17  V17     284807 non-null  float64\n",
      " 18  V18     284807 non-null  float64\n",
      " 19  V19     284807 non-null  float64\n",
      " 20  V20     284807 non-null  float64\n",
      " 21  V21     284807 non-null  float64\n",
      " 22  V22     284807 non-null  float64\n",
      " 23  V23     284807 non-null  float64\n",
      " 24  V24     284807 non-null  float64\n",
      " 25  V25     284807 non-null  float64\n",
      " 26  V26     284807 non-null  float64\n",
      " 27  V27     284807 non-null  float64\n",
      " 28  V28     284807 non-null  float64\n",
      " 29  Amount  284807 non-null  float64\n",
      " 30  Class   284807 non-null  int64  \n",
      "dtypes: float64(30), int64(1)\n",
      "memory usage: 67.4 MB\n"
     ]
    }
   ],
   "source": [
    "credict.info()"
   ]
  },
  {
   "cell_type": "code",
   "execution_count": 9,
   "id": "f7fe643a-57ea-42c2-bd43-d9fd0acdfaae",
   "metadata": {},
   "outputs": [
    {
     "data": {
      "text/html": [
       "<div>\n",
       "<style scoped>\n",
       "    .dataframe tbody tr th:only-of-type {\n",
       "        vertical-align: middle;\n",
       "    }\n",
       "\n",
       "    .dataframe tbody tr th {\n",
       "        vertical-align: top;\n",
       "    }\n",
       "\n",
       "    .dataframe thead th {\n",
       "        text-align: right;\n",
       "    }\n",
       "</style>\n",
       "<table border=\"1\" class=\"dataframe\">\n",
       "  <thead>\n",
       "    <tr style=\"text-align: right;\">\n",
       "      <th></th>\n",
       "      <th>Time</th>\n",
       "      <th>V1</th>\n",
       "      <th>V2</th>\n",
       "      <th>V3</th>\n",
       "      <th>V4</th>\n",
       "      <th>V5</th>\n",
       "      <th>V6</th>\n",
       "      <th>V7</th>\n",
       "      <th>V8</th>\n",
       "      <th>V9</th>\n",
       "      <th>...</th>\n",
       "      <th>V21</th>\n",
       "      <th>V22</th>\n",
       "      <th>V23</th>\n",
       "      <th>V24</th>\n",
       "      <th>V25</th>\n",
       "      <th>V26</th>\n",
       "      <th>V27</th>\n",
       "      <th>V28</th>\n",
       "      <th>Amount</th>\n",
       "      <th>Class</th>\n",
       "    </tr>\n",
       "  </thead>\n",
       "  <tbody>\n",
       "    <tr>\n",
       "      <th>count</th>\n",
       "      <td>284807.000000</td>\n",
       "      <td>2.848070e+05</td>\n",
       "      <td>2.848070e+05</td>\n",
       "      <td>2.848070e+05</td>\n",
       "      <td>2.848070e+05</td>\n",
       "      <td>2.848070e+05</td>\n",
       "      <td>2.848070e+05</td>\n",
       "      <td>2.848070e+05</td>\n",
       "      <td>2.848070e+05</td>\n",
       "      <td>2.848070e+05</td>\n",
       "      <td>...</td>\n",
       "      <td>2.848070e+05</td>\n",
       "      <td>2.848070e+05</td>\n",
       "      <td>2.848070e+05</td>\n",
       "      <td>2.848070e+05</td>\n",
       "      <td>2.848070e+05</td>\n",
       "      <td>2.848070e+05</td>\n",
       "      <td>2.848070e+05</td>\n",
       "      <td>2.848070e+05</td>\n",
       "      <td>284807.000000</td>\n",
       "      <td>284807.000000</td>\n",
       "    </tr>\n",
       "    <tr>\n",
       "      <th>mean</th>\n",
       "      <td>94813.859575</td>\n",
       "      <td>1.168375e-15</td>\n",
       "      <td>3.416908e-16</td>\n",
       "      <td>-1.379537e-15</td>\n",
       "      <td>2.074095e-15</td>\n",
       "      <td>9.604066e-16</td>\n",
       "      <td>1.487313e-15</td>\n",
       "      <td>-5.556467e-16</td>\n",
       "      <td>1.213481e-16</td>\n",
       "      <td>-2.406331e-15</td>\n",
       "      <td>...</td>\n",
       "      <td>1.654067e-16</td>\n",
       "      <td>-3.568593e-16</td>\n",
       "      <td>2.578648e-16</td>\n",
       "      <td>4.473266e-15</td>\n",
       "      <td>5.340915e-16</td>\n",
       "      <td>1.683437e-15</td>\n",
       "      <td>-3.660091e-16</td>\n",
       "      <td>-1.227390e-16</td>\n",
       "      <td>88.349619</td>\n",
       "      <td>0.001727</td>\n",
       "    </tr>\n",
       "    <tr>\n",
       "      <th>std</th>\n",
       "      <td>47488.145955</td>\n",
       "      <td>1.958696e+00</td>\n",
       "      <td>1.651309e+00</td>\n",
       "      <td>1.516255e+00</td>\n",
       "      <td>1.415869e+00</td>\n",
       "      <td>1.380247e+00</td>\n",
       "      <td>1.332271e+00</td>\n",
       "      <td>1.237094e+00</td>\n",
       "      <td>1.194353e+00</td>\n",
       "      <td>1.098632e+00</td>\n",
       "      <td>...</td>\n",
       "      <td>7.345240e-01</td>\n",
       "      <td>7.257016e-01</td>\n",
       "      <td>6.244603e-01</td>\n",
       "      <td>6.056471e-01</td>\n",
       "      <td>5.212781e-01</td>\n",
       "      <td>4.822270e-01</td>\n",
       "      <td>4.036325e-01</td>\n",
       "      <td>3.300833e-01</td>\n",
       "      <td>250.120109</td>\n",
       "      <td>0.041527</td>\n",
       "    </tr>\n",
       "    <tr>\n",
       "      <th>min</th>\n",
       "      <td>0.000000</td>\n",
       "      <td>-5.640751e+01</td>\n",
       "      <td>-7.271573e+01</td>\n",
       "      <td>-4.832559e+01</td>\n",
       "      <td>-5.683171e+00</td>\n",
       "      <td>-1.137433e+02</td>\n",
       "      <td>-2.616051e+01</td>\n",
       "      <td>-4.355724e+01</td>\n",
       "      <td>-7.321672e+01</td>\n",
       "      <td>-1.343407e+01</td>\n",
       "      <td>...</td>\n",
       "      <td>-3.483038e+01</td>\n",
       "      <td>-1.093314e+01</td>\n",
       "      <td>-4.480774e+01</td>\n",
       "      <td>-2.836627e+00</td>\n",
       "      <td>-1.029540e+01</td>\n",
       "      <td>-2.604551e+00</td>\n",
       "      <td>-2.256568e+01</td>\n",
       "      <td>-1.543008e+01</td>\n",
       "      <td>0.000000</td>\n",
       "      <td>0.000000</td>\n",
       "    </tr>\n",
       "    <tr>\n",
       "      <th>25%</th>\n",
       "      <td>54201.500000</td>\n",
       "      <td>-9.203734e-01</td>\n",
       "      <td>-5.985499e-01</td>\n",
       "      <td>-8.903648e-01</td>\n",
       "      <td>-8.486401e-01</td>\n",
       "      <td>-6.915971e-01</td>\n",
       "      <td>-7.682956e-01</td>\n",
       "      <td>-5.540759e-01</td>\n",
       "      <td>-2.086297e-01</td>\n",
       "      <td>-6.430976e-01</td>\n",
       "      <td>...</td>\n",
       "      <td>-2.283949e-01</td>\n",
       "      <td>-5.423504e-01</td>\n",
       "      <td>-1.618463e-01</td>\n",
       "      <td>-3.545861e-01</td>\n",
       "      <td>-3.171451e-01</td>\n",
       "      <td>-3.269839e-01</td>\n",
       "      <td>-7.083953e-02</td>\n",
       "      <td>-5.295979e-02</td>\n",
       "      <td>5.600000</td>\n",
       "      <td>0.000000</td>\n",
       "    </tr>\n",
       "    <tr>\n",
       "      <th>50%</th>\n",
       "      <td>84692.000000</td>\n",
       "      <td>1.810880e-02</td>\n",
       "      <td>6.548556e-02</td>\n",
       "      <td>1.798463e-01</td>\n",
       "      <td>-1.984653e-02</td>\n",
       "      <td>-5.433583e-02</td>\n",
       "      <td>-2.741871e-01</td>\n",
       "      <td>4.010308e-02</td>\n",
       "      <td>2.235804e-02</td>\n",
       "      <td>-5.142873e-02</td>\n",
       "      <td>...</td>\n",
       "      <td>-2.945017e-02</td>\n",
       "      <td>6.781943e-03</td>\n",
       "      <td>-1.119293e-02</td>\n",
       "      <td>4.097606e-02</td>\n",
       "      <td>1.659350e-02</td>\n",
       "      <td>-5.213911e-02</td>\n",
       "      <td>1.342146e-03</td>\n",
       "      <td>1.124383e-02</td>\n",
       "      <td>22.000000</td>\n",
       "      <td>0.000000</td>\n",
       "    </tr>\n",
       "    <tr>\n",
       "      <th>75%</th>\n",
       "      <td>139320.500000</td>\n",
       "      <td>1.315642e+00</td>\n",
       "      <td>8.037239e-01</td>\n",
       "      <td>1.027196e+00</td>\n",
       "      <td>7.433413e-01</td>\n",
       "      <td>6.119264e-01</td>\n",
       "      <td>3.985649e-01</td>\n",
       "      <td>5.704361e-01</td>\n",
       "      <td>3.273459e-01</td>\n",
       "      <td>5.971390e-01</td>\n",
       "      <td>...</td>\n",
       "      <td>1.863772e-01</td>\n",
       "      <td>5.285536e-01</td>\n",
       "      <td>1.476421e-01</td>\n",
       "      <td>4.395266e-01</td>\n",
       "      <td>3.507156e-01</td>\n",
       "      <td>2.409522e-01</td>\n",
       "      <td>9.104512e-02</td>\n",
       "      <td>7.827995e-02</td>\n",
       "      <td>77.165000</td>\n",
       "      <td>0.000000</td>\n",
       "    </tr>\n",
       "    <tr>\n",
       "      <th>max</th>\n",
       "      <td>172792.000000</td>\n",
       "      <td>2.454930e+00</td>\n",
       "      <td>2.205773e+01</td>\n",
       "      <td>9.382558e+00</td>\n",
       "      <td>1.687534e+01</td>\n",
       "      <td>3.480167e+01</td>\n",
       "      <td>7.330163e+01</td>\n",
       "      <td>1.205895e+02</td>\n",
       "      <td>2.000721e+01</td>\n",
       "      <td>1.559499e+01</td>\n",
       "      <td>...</td>\n",
       "      <td>2.720284e+01</td>\n",
       "      <td>1.050309e+01</td>\n",
       "      <td>2.252841e+01</td>\n",
       "      <td>4.584549e+00</td>\n",
       "      <td>7.519589e+00</td>\n",
       "      <td>3.517346e+00</td>\n",
       "      <td>3.161220e+01</td>\n",
       "      <td>3.384781e+01</td>\n",
       "      <td>25691.160000</td>\n",
       "      <td>1.000000</td>\n",
       "    </tr>\n",
       "  </tbody>\n",
       "</table>\n",
       "<p>8 rows × 31 columns</p>\n",
       "</div>"
      ],
      "text/plain": [
       "                Time            V1            V2            V3            V4  \\\n",
       "count  284807.000000  2.848070e+05  2.848070e+05  2.848070e+05  2.848070e+05   \n",
       "mean    94813.859575  1.168375e-15  3.416908e-16 -1.379537e-15  2.074095e-15   \n",
       "std     47488.145955  1.958696e+00  1.651309e+00  1.516255e+00  1.415869e+00   \n",
       "min         0.000000 -5.640751e+01 -7.271573e+01 -4.832559e+01 -5.683171e+00   \n",
       "25%     54201.500000 -9.203734e-01 -5.985499e-01 -8.903648e-01 -8.486401e-01   \n",
       "50%     84692.000000  1.810880e-02  6.548556e-02  1.798463e-01 -1.984653e-02   \n",
       "75%    139320.500000  1.315642e+00  8.037239e-01  1.027196e+00  7.433413e-01   \n",
       "max    172792.000000  2.454930e+00  2.205773e+01  9.382558e+00  1.687534e+01   \n",
       "\n",
       "                 V5            V6            V7            V8            V9  \\\n",
       "count  2.848070e+05  2.848070e+05  2.848070e+05  2.848070e+05  2.848070e+05   \n",
       "mean   9.604066e-16  1.487313e-15 -5.556467e-16  1.213481e-16 -2.406331e-15   \n",
       "std    1.380247e+00  1.332271e+00  1.237094e+00  1.194353e+00  1.098632e+00   \n",
       "min   -1.137433e+02 -2.616051e+01 -4.355724e+01 -7.321672e+01 -1.343407e+01   \n",
       "25%   -6.915971e-01 -7.682956e-01 -5.540759e-01 -2.086297e-01 -6.430976e-01   \n",
       "50%   -5.433583e-02 -2.741871e-01  4.010308e-02  2.235804e-02 -5.142873e-02   \n",
       "75%    6.119264e-01  3.985649e-01  5.704361e-01  3.273459e-01  5.971390e-01   \n",
       "max    3.480167e+01  7.330163e+01  1.205895e+02  2.000721e+01  1.559499e+01   \n",
       "\n",
       "       ...           V21           V22           V23           V24  \\\n",
       "count  ...  2.848070e+05  2.848070e+05  2.848070e+05  2.848070e+05   \n",
       "mean   ...  1.654067e-16 -3.568593e-16  2.578648e-16  4.473266e-15   \n",
       "std    ...  7.345240e-01  7.257016e-01  6.244603e-01  6.056471e-01   \n",
       "min    ... -3.483038e+01 -1.093314e+01 -4.480774e+01 -2.836627e+00   \n",
       "25%    ... -2.283949e-01 -5.423504e-01 -1.618463e-01 -3.545861e-01   \n",
       "50%    ... -2.945017e-02  6.781943e-03 -1.119293e-02  4.097606e-02   \n",
       "75%    ...  1.863772e-01  5.285536e-01  1.476421e-01  4.395266e-01   \n",
       "max    ...  2.720284e+01  1.050309e+01  2.252841e+01  4.584549e+00   \n",
       "\n",
       "                V25           V26           V27           V28         Amount  \\\n",
       "count  2.848070e+05  2.848070e+05  2.848070e+05  2.848070e+05  284807.000000   \n",
       "mean   5.340915e-16  1.683437e-15 -3.660091e-16 -1.227390e-16      88.349619   \n",
       "std    5.212781e-01  4.822270e-01  4.036325e-01  3.300833e-01     250.120109   \n",
       "min   -1.029540e+01 -2.604551e+00 -2.256568e+01 -1.543008e+01       0.000000   \n",
       "25%   -3.171451e-01 -3.269839e-01 -7.083953e-02 -5.295979e-02       5.600000   \n",
       "50%    1.659350e-02 -5.213911e-02  1.342146e-03  1.124383e-02      22.000000   \n",
       "75%    3.507156e-01  2.409522e-01  9.104512e-02  7.827995e-02      77.165000   \n",
       "max    7.519589e+00  3.517346e+00  3.161220e+01  3.384781e+01   25691.160000   \n",
       "\n",
       "               Class  \n",
       "count  284807.000000  \n",
       "mean        0.001727  \n",
       "std         0.041527  \n",
       "min         0.000000  \n",
       "25%         0.000000  \n",
       "50%         0.000000  \n",
       "75%         0.000000  \n",
       "max         1.000000  \n",
       "\n",
       "[8 rows x 31 columns]"
      ]
     },
     "execution_count": 9,
     "metadata": {},
     "output_type": "execute_result"
    }
   ],
   "source": [
    "credict.describe()\n",
    "\n",
    "# Amount: 최소값 0달러 살펴보고 삭제할지 볼것/ 데이터가 균형인지도 볼 것 ->스케일링\n",
    "# Time은 불필요하므로 삭제\n",
    "# Class_종속변수: 평균과 편차 보면 데이터의 편중 심함 ==> 스케일링 필요\n",
    "# 독립변수들의 경우 평균은 0에 가깝고 분산은 1에 가까움  ==> 스케일링이 되어있음을 알 수 있음\n",
    "# 이상치 처리 필요한지 살펴보고 제거"
   ]
  },
  {
   "cell_type": "code",
   "execution_count": 12,
   "id": "e1599f22-e87f-44ac-bfdb-6e1080f071af",
   "metadata": {},
   "outputs": [
    {
     "data": {
      "text/plain": [
       "(0.0, 8000.0)"
      ]
     },
     "execution_count": 12,
     "metadata": {},
     "output_type": "execute_result"
    },
    {
     "data": {
      "image/png": "[encoded data removed]",
      "text/plain": [
       "<Figure size 640x480 with 1 Axes>"
      ]
     },
     "metadata": {},
     "output_type": "display_data"
    }
   ],
   "source": [
    "# 단일 데이터 분석 credict.Amount\n",
    "\n",
    "sns.histplot(credict.Amount)\n",
    "plt.ylim(0,8000)"
   ]
  },
  {
   "cell_type": "code",
   "execution_count": 31,
   "id": "5a260ee1-54b7-43c8-b54e-ee66378b0784",
   "metadata": {},
   "outputs": [
    {
     "data": {
      "text/plain": [
       "<Axes: >"
      ]
     },
     "execution_count": 31,
     "metadata": {},
     "output_type": "execute_result"
    },
    {
     "data": {
      "image/png": "[encoded data removed]",
      "text/plain": [
       "<Figure size 640x480 with 1 Axes>"
      ]
     },
     "metadata": {},
     "output_type": "display_data"
    }
   ],
   "source": [
    "sns.boxplot(credict.Amount)"
   ]
  },
  {
   "cell_type": "code",
   "execution_count": null,
   "id": "75a57458-4fa1-4f03-8561-61afb29710ac",
   "metadata": {
    "tags": []
   },
   "outputs": [],
   "source": [
    "from sklearn.preprocessing import StandardScaler   \n",
    "#minmax로 할 경우 나중에 크고작은값 넣으면 에러로 판단\n",
    "\n",
    "scaler = StandardScaler()\n",
    "scaler.fit(credict[['Amount']])\n",
    "amount= scaler.transform(credict[['Amount']])\n",
    "\n",
    "credict['Amount']= amount"
   ]
  },
  {
   "cell_type": "code",
   "execution_count": 30,
   "id": "d460b9be-6992-453c-8915-feac3a8b288d",
   "metadata": {},
   "outputs": [
    {
     "data": {
      "text/html": [
       "<div>\n",
       "<style scoped>\n",
       "    .dataframe tbody tr th:only-of-type {\n",
       "        vertical-align: middle;\n",
       "    }\n",
       "\n",
       "    .dataframe tbody tr th {\n",
       "        vertical-align: top;\n",
       "    }\n",
       "\n",
       "    .dataframe thead th {\n",
       "        text-align: right;\n",
       "    }\n",
       "</style>\n",
       "<table border=\"1\" class=\"dataframe\">\n",
       "  <thead>\n",
       "    <tr style=\"text-align: right;\">\n",
       "      <th></th>\n",
       "      <th>Time</th>\n",
       "      <th>V1</th>\n",
       "      <th>V2</th>\n",
       "      <th>V3</th>\n",
       "      <th>V4</th>\n",
       "      <th>V5</th>\n",
       "      <th>V6</th>\n",
       "      <th>V7</th>\n",
       "      <th>V8</th>\n",
       "      <th>V9</th>\n",
       "      <th>...</th>\n",
       "      <th>V21</th>\n",
       "      <th>V22</th>\n",
       "      <th>V23</th>\n",
       "      <th>V24</th>\n",
       "      <th>V25</th>\n",
       "      <th>V26</th>\n",
       "      <th>V27</th>\n",
       "      <th>V28</th>\n",
       "      <th>Amount</th>\n",
       "      <th>Class</th>\n",
       "    </tr>\n",
       "  </thead>\n",
       "  <tbody>\n",
       "    <tr>\n",
       "      <th>46841</th>\n",
       "      <td>42951.0</td>\n",
       "      <td>-23.712839</td>\n",
       "      <td>-42.172688</td>\n",
       "      <td>-13.320825</td>\n",
       "      <td>9.925019</td>\n",
       "      <td>-13.945538</td>\n",
       "      <td>5.564891</td>\n",
       "      <td>15.710644</td>\n",
       "      <td>-2.844253</td>\n",
       "      <td>-1.580725</td>\n",
       "      <td>...</td>\n",
       "      <td>7.921600</td>\n",
       "      <td>-6.320710</td>\n",
       "      <td>-11.310338</td>\n",
       "      <td>0.404175</td>\n",
       "      <td>-4.547278</td>\n",
       "      <td>-1.577118</td>\n",
       "      <td>-2.357385</td>\n",
       "      <td>2.253662</td>\n",
       "      <td>51.265782</td>\n",
       "      <td>0</td>\n",
       "    </tr>\n",
       "    <tr>\n",
       "      <th>58465</th>\n",
       "      <td>48401.0</td>\n",
       "      <td>-36.802320</td>\n",
       "      <td>-63.344698</td>\n",
       "      <td>-20.645794</td>\n",
       "      <td>16.715537</td>\n",
       "      <td>-20.672064</td>\n",
       "      <td>7.694002</td>\n",
       "      <td>24.956587</td>\n",
       "      <td>-4.730111</td>\n",
       "      <td>-2.687312</td>\n",
       "      <td>...</td>\n",
       "      <td>11.455313</td>\n",
       "      <td>-10.933144</td>\n",
       "      <td>-17.173665</td>\n",
       "      <td>1.180700</td>\n",
       "      <td>-7.025783</td>\n",
       "      <td>-2.534330</td>\n",
       "      <td>-3.602479</td>\n",
       "      <td>3.450224</td>\n",
       "      <td>78.235272</td>\n",
       "      <td>0</td>\n",
       "    </tr>\n",
       "    <tr>\n",
       "      <th>151296</th>\n",
       "      <td>95286.0</td>\n",
       "      <td>-34.549296</td>\n",
       "      <td>-60.464618</td>\n",
       "      <td>-21.340854</td>\n",
       "      <td>16.875344</td>\n",
       "      <td>-19.229075</td>\n",
       "      <td>6.335259</td>\n",
       "      <td>24.422716</td>\n",
       "      <td>-4.964566</td>\n",
       "      <td>0.188912</td>\n",
       "      <td>...</td>\n",
       "      <td>11.502580</td>\n",
       "      <td>-9.499423</td>\n",
       "      <td>-16.513186</td>\n",
       "      <td>0.744341</td>\n",
       "      <td>-7.081325</td>\n",
       "      <td>-2.604551</td>\n",
       "      <td>-3.550963</td>\n",
       "      <td>3.250802</td>\n",
       "      <td>75.250581</td>\n",
       "      <td>0</td>\n",
       "    </tr>\n",
       "    <tr>\n",
       "      <th>274771</th>\n",
       "      <td>166198.0</td>\n",
       "      <td>-35.548539</td>\n",
       "      <td>-31.850484</td>\n",
       "      <td>-48.325589</td>\n",
       "      <td>15.304184</td>\n",
       "      <td>-113.743307</td>\n",
       "      <td>73.301626</td>\n",
       "      <td>120.589494</td>\n",
       "      <td>-27.347360</td>\n",
       "      <td>-3.872425</td>\n",
       "      <td>...</td>\n",
       "      <td>-21.620120</td>\n",
       "      <td>5.712303</td>\n",
       "      <td>-1.581098</td>\n",
       "      <td>4.584549</td>\n",
       "      <td>4.554683</td>\n",
       "      <td>3.415636</td>\n",
       "      <td>31.612198</td>\n",
       "      <td>-15.430084</td>\n",
       "      <td>102.362243</td>\n",
       "      <td>0</td>\n",
       "    </tr>\n",
       "  </tbody>\n",
       "</table>\n",
       "<p>4 rows × 31 columns</p>\n",
       "</div>"
      ],
      "text/plain": [
       "            Time         V1         V2         V3         V4          V5  \\\n",
       "46841    42951.0 -23.712839 -42.172688 -13.320825   9.925019  -13.945538   \n",
       "58465    48401.0 -36.802320 -63.344698 -20.645794  16.715537  -20.672064   \n",
       "151296   95286.0 -34.549296 -60.464618 -21.340854  16.875344  -19.229075   \n",
       "274771  166198.0 -35.548539 -31.850484 -48.325589  15.304184 -113.743307   \n",
       "\n",
       "               V6          V7         V8        V9  ...        V21        V22  \\\n",
       "46841    5.564891   15.710644  -2.844253 -1.580725  ...   7.921600  -6.320710   \n",
       "58465    7.694002   24.956587  -4.730111 -2.687312  ...  11.455313 -10.933144   \n",
       "151296   6.335259   24.422716  -4.964566  0.188912  ...  11.502580  -9.499423   \n",
       "274771  73.301626  120.589494 -27.347360 -3.872425  ... -21.620120   5.712303   \n",
       "\n",
       "              V23       V24       V25       V26        V27        V28  \\\n",
       "46841  -11.310338  0.404175 -4.547278 -1.577118  -2.357385   2.253662   \n",
       "58465  -17.173665  1.180700 -7.025783 -2.534330  -3.602479   3.450224   \n",
       "151296 -16.513186  0.744341 -7.081325 -2.604551  -3.550963   3.250802   \n",
       "274771  -1.581098  4.584549  4.554683  3.415636  31.612198 -15.430084   \n",
       "\n",
       "            Amount  Class  \n",
       "46841    51.265782      0  \n",
       "58465    78.235272      0  \n",
       "151296   75.250581      0  \n",
       "274771  102.362243      0  \n",
       "\n",
       "[4 rows x 31 columns]"
      ]
     },
     "execution_count": 30,
     "metadata": {},
     "output_type": "execute_result"
    }
   ],
   "source": [
    "credict[credict['Amount'] > 50]"
   ]
  },
  {
   "cell_type": "code",
   "execution_count": 6,
   "id": "01f7818d-d856-4c65-9283-53d5e655a107",
   "metadata": {
    "tags": []
   },
   "outputs": [
    {
     "data": {
      "text/plain": [
       "<Axes: xlabel='Class', ylabel='Amount'>"
      ]
     },
     "execution_count": 6,
     "metadata": {},
     "output_type": "execute_result"
    },
    {
     "data": {
      "image/png": "[encoded data removed]",
      "text/plain": [
       "<Figure size 640x480 with 1 Axes>"
      ]
     },
     "metadata": {},
     "output_type": "display_data"
    }
   ],
   "source": [
    "# 독립변수(amount) / 종속변수 (Class)\n",
    "# 집단의 평균의 차이가 있나? 사기 평균이 더 높을것임\n",
    "sns.barplot(x='Class', y='Amount', data=credict)\n",
    "\n",
    "# 사기인 경우에 가격이 더 높음 "
   ]
  },
  {
   "cell_type": "code",
   "execution_count": 7,
   "id": "2264a8c5-cd4d-43b0-b561-07cd58ad7012",
   "metadata": {
    "tags": []
   },
   "outputs": [
    {
     "data": {
      "text/plain": [
       "<Axes: xlabel='Class', ylabel='Amount'>"
      ]
     },
     "execution_count": 7,
     "metadata": {},
     "output_type": "execute_result"
    },
    {
     "data": {
      "image/png": "[encoded data removed]",
      "text/plain": [
       "<Figure size 640x480 with 1 Axes>"
      ]
     },
     "metadata": {},
     "output_type": "display_data"
    }
   ],
   "source": [
    "credict2=credict[credict['Amount'] > 3]\n",
    "sns.barplot(x='Class', y='Amount', data=credict2)\n",
    "# 큰 금액만 모아서 그래프 그리면 사기가 아닌 경우가 더 많이 씀  => 정상거래 중  몇몇 거래가 금액이 너무 커서 정상거래액 큼 -> 가설 안맞을 듯"
   ]
  },
  {
   "cell_type": "code",
   "execution_count": 18,
   "id": "fc6d9f80-01bb-4e12-973a-fcbf1f44a8f3",
   "metadata": {
    "tags": []
   },
   "outputs": [],
   "source": [
    "# 다시 시작\n",
    "# 두번째 원본으로 작업/ 원본으로 확인해도 정상거래가 더 액수가 크므로 가설 기각\n",
    "credict=pd.read_csv('../data/creditcard.csv')\n",
    "drop_index=credict[credict['Amount'] > 8000].index"
   ]
  },
  {
   "cell_type": "code",
   "execution_count": null,
   "id": "25317b25-8de1-49ac-9223-dd23b6a7bff4",
   "metadata": {},
   "outputs": [],
   "source": [
    "# Amount가 크면 클수록 사기이지 않을까?\n",
    "# EDA, CDA 방법을 통하여 직접 확인하는 작업\n",
    "# 이상치> 지울지 말지 처리방법 결정하여 처리"
   ]
  },
  {
   "cell_type": "code",
   "execution_count": 19,
   "id": "1ecd14ff-01cc-4fef-88e8-6516d5d57156",
   "metadata": {
    "tags": []
   },
   "outputs": [
    {
     "data": {
      "text/plain": [
       "Class\n",
       "0    0.998273\n",
       "1    0.001727\n",
       "Name: count, dtype: float64"
      ]
     },
     "execution_count": 19,
     "metadata": {},
     "output_type": "execute_result"
    }
   ],
   "source": [
    "# 절대적으로 1 값이 적으므로 1과 0의 귡형을 맞추어야함 함\n",
    "# 샘플의 절대적인 차이(불균형)로 인해 언더샘플링, 오버샘플링 필요\n",
    "\n",
    "credict['Class'].value_counts()/ credict.shape[0]"
   ]
  },
  {
   "cell_type": "code",
   "execution_count": 12,
   "id": "040bd818-7117-40bc-814c-959fcc4098e5",
   "metadata": {
    "tags": []
   },
   "outputs": [
    {
     "data": {
      "text/plain": [
       "Class\n",
       "0    1798\n",
       "1      27\n",
       "Name: count, dtype: int64"
      ]
     },
     "execution_count": 12,
     "metadata": {},
     "output_type": "execute_result"
    }
   ],
   "source": [
    "# 비율이 적지않음 (1800건) ==> 일단 보류: 사기건(목표값)도 괘 있으므로 지울 순 없음 \n",
    "credict[credict['Amount'] <= 0].Class.value_counts()"
   ]
  },
  {
   "cell_type": "code",
   "execution_count": 13,
   "id": "e071e9e0-3691-4aaf-abc9-1ec19439776e",
   "metadata": {
    "scrolled": true,
    "tags": []
   },
   "outputs": [
    {
     "data": {
      "text/plain": [
       "<Axes: xlabel='Class', ylabel='Amount'>"
      ]
     },
     "execution_count": 13,
     "metadata": {},
     "output_type": "execute_result"
    },
    {
     "data": {
      "image/png": "[encoded data removed]",
      "text/plain": [
       "<Figure size 640x480 with 1 Axes>"
      ]
     },
     "metadata": {},
     "output_type": "display_data"
    }
   ],
   "source": [
    "sns.boxplot(y='Amount', x='Class', data=credict)"
   ]
  },
  {
   "cell_type": "code",
   "execution_count": null,
   "id": "7418faf0-74a9-4a1f-bcb3-08a418ab9686",
   "metadata": {},
   "outputs": [],
   "source": [
    "# 독립변수(Class)의 데이터의 불균현\n",
    "# 언더샘플링(under sampling), 오버샘플링(oversampling): \n",
    "# 언더샘플링은 잘 안쓰임/ 오버샘플링 주로 씀 \n",
    "# SMOTE: oversampling technique "
   ]
  },
  {
   "cell_type": "code",
   "execution_count": null,
   "id": "12a60c0b-0058-4485-a8e0-0a9c270aa7d6",
   "metadata": {},
   "outputs": [],
   "source": [
    "# SMOTE 설치: anacoda, cmd\n",
    "# !conda install -c conda-forge imbalanced-learn  -"
   ]
  },
  {
   "cell_type": "code",
   "execution_count": null,
   "id": "2150ef72-2529-4817-b60a-73e6ca80a414",
   "metadata": {
    "tags": []
   },
   "outputs": [],
   "source": [
    "from imblearn.combine import SMOTEENN\n",
    "smoteenn=SMOTEENN()\n",
    "X_res, y_res = smoteenn.fit_resample(credict, credict['Class'])"
   ]
  },
  {
   "cell_type": "code",
   "execution_count": 14,
   "id": "08f0808b-5c7a-4aff-a582-94a0ec5d3b90",
   "metadata": {
    "scrolled": true,
    "tags": []
   },
   "outputs": [],
   "source": [
    "# 언더샘플링\n",
    "from imblearn.under_sampling import RandomUnderSampler\n",
    "# 결합된 형\n",
    "from imblearn.combine  import SMOTEENN"
   ]
  },
  {
   "cell_type": "code",
   "execution_count": null,
   "id": "e9ac18fc-8545-4ec4-b154-c72edb7bc50e",
   "metadata": {
    "scrolled": true,
    "tags": []
   },
   "outputs": [],
   "source": [
    "# SMOTE: oversampling technique / 시간이 많이 걸림\n",
    "from imblearn.over_sampling import SMOTE"
   ]
  },
  {
   "cell_type": "code",
   "execution_count": null,
   "id": "4107b339-64ba-482b-8d02-c88e22018755",
   "metadata": {
    "scrolled": true,
    "tags": []
   },
   "outputs": [],
   "source": [
    "smote=SMOTE()\n",
    "X_res, y_res=smote.fit_resample(credict, credict['Class'])  # y값, Class값 늘리기"
   ]
  },
  {
   "cell_type": "code",
   "execution_count": null,
   "id": "2fb23bdf-e63b-44ce-81a3-45224c8e06b3",
   "metadata": {
    "tags": []
   },
   "outputs": [],
   "source": [
    "y_res.shape, y_res.value_counts()"
   ]
  },
  {
   "cell_type": "code",
   "execution_count": null,
   "id": "719b6757-659a-4fdc-a719-7c64c82b28ee",
   "metadata": {
    "tags": []
   },
   "outputs": [],
   "source": [
    "## 변한값 확인위해 y값을 늘리니 다른 독립 값들은 음수화\n",
    "credict_res, _ =smote.fit_resample(credict, credict['Class']) "
   ]
  },
  {
   "cell_type": "code",
   "execution_count": 28,
   "id": "659e65e3-b895-45f5-b81a-f358d9e675a4",
   "metadata": {},
   "outputs": [
    {
     "data": {
      "text/html": [
       "<div>\n",
       "<style scoped>\n",
       "    .dataframe tbody tr th:only-of-type {\n",
       "        vertical-align: middle;\n",
       "    }\n",
       "\n",
       "    .dataframe tbody tr th {\n",
       "        vertical-align: top;\n",
       "    }\n",
       "\n",
       "    .dataframe thead th {\n",
       "        text-align: right;\n",
       "    }\n",
       "</style>\n",
       "<table border=\"1\" class=\"dataframe\">\n",
       "  <thead>\n",
       "    <tr style=\"text-align: right;\">\n",
       "      <th></th>\n",
       "      <th>Time</th>\n",
       "      <th>V1</th>\n",
       "      <th>V2</th>\n",
       "      <th>V3</th>\n",
       "      <th>V4</th>\n",
       "      <th>V5</th>\n",
       "      <th>V6</th>\n",
       "      <th>V7</th>\n",
       "      <th>V8</th>\n",
       "      <th>V9</th>\n",
       "      <th>...</th>\n",
       "      <th>V21</th>\n",
       "      <th>V22</th>\n",
       "      <th>V23</th>\n",
       "      <th>V24</th>\n",
       "      <th>V25</th>\n",
       "      <th>V26</th>\n",
       "      <th>V27</th>\n",
       "      <th>V28</th>\n",
       "      <th>Amount</th>\n",
       "      <th>Class</th>\n",
       "    </tr>\n",
       "  </thead>\n",
       "  <tbody>\n",
       "    <tr>\n",
       "      <th>count</th>\n",
       "      <td>568630.000000</td>\n",
       "      <td>568630.000000</td>\n",
       "      <td>568630.000000</td>\n",
       "      <td>568630.000000</td>\n",
       "      <td>568630.000000</td>\n",
       "      <td>568630.000000</td>\n",
       "      <td>568630.000000</td>\n",
       "      <td>568630.000000</td>\n",
       "      <td>568630.000000</td>\n",
       "      <td>568630.000000</td>\n",
       "      <td>...</td>\n",
       "      <td>568630.000000</td>\n",
       "      <td>568630.000000</td>\n",
       "      <td>568630.000000</td>\n",
       "      <td>568630.000000</td>\n",
       "      <td>568630.000000</td>\n",
       "      <td>568630.000000</td>\n",
       "      <td>568630.000000</td>\n",
       "      <td>568630.000000</td>\n",
       "      <td>568630.000000</td>\n",
       "      <td>568630.0</td>\n",
       "    </tr>\n",
       "    <tr>\n",
       "      <th>mean</th>\n",
       "      <td>87816.738264</td>\n",
       "      <td>-2.480587</td>\n",
       "      <td>1.917220</td>\n",
       "      <td>-3.651843</td>\n",
       "      <td>2.327843</td>\n",
       "      <td>-1.629547</td>\n",
       "      <td>-0.718744</td>\n",
       "      <td>-2.933064</td>\n",
       "      <td>0.271447</td>\n",
       "      <td>-1.331281</td>\n",
       "      <td>...</td>\n",
       "      <td>0.397668</td>\n",
       "      <td>-0.009775</td>\n",
       "      <td>-0.004364</td>\n",
       "      <td>-0.054706</td>\n",
       "      <td>0.026533</td>\n",
       "      <td>0.028197</td>\n",
       "      <td>0.080347</td>\n",
       "      <td>0.041173</td>\n",
       "      <td>95.444339</td>\n",
       "      <td>0.5</td>\n",
       "    </tr>\n",
       "    <tr>\n",
       "      <th>std</th>\n",
       "      <td>48139.915168</td>\n",
       "      <td>5.450697</td>\n",
       "      <td>3.635173</td>\n",
       "      <td>6.155413</td>\n",
       "      <td>3.143142</td>\n",
       "      <td>4.133190</td>\n",
       "      <td>1.708520</td>\n",
       "      <td>5.713829</td>\n",
       "      <td>4.962704</td>\n",
       "      <td>2.226505</td>\n",
       "      <td>...</td>\n",
       "      <td>2.857008</td>\n",
       "      <td>1.166647</td>\n",
       "      <td>1.019446</td>\n",
       "      <td>0.539744</td>\n",
       "      <td>0.613107</td>\n",
       "      <td>0.447663</td>\n",
       "      <td>0.953369</td>\n",
       "      <td>0.418499</td>\n",
       "      <td>220.111663</td>\n",
       "      <td>0.5</td>\n",
       "    </tr>\n",
       "    <tr>\n",
       "      <th>min</th>\n",
       "      <td>0.000000</td>\n",
       "      <td>-56.407510</td>\n",
       "      <td>-72.715728</td>\n",
       "      <td>-48.325589</td>\n",
       "      <td>-5.683171</td>\n",
       "      <td>-113.743307</td>\n",
       "      <td>-26.160506</td>\n",
       "      <td>-43.557242</td>\n",
       "      <td>-73.216718</td>\n",
       "      <td>-13.434066</td>\n",
       "      <td>...</td>\n",
       "      <td>-34.830382</td>\n",
       "      <td>-10.933144</td>\n",
       "      <td>-44.807735</td>\n",
       "      <td>-2.836627</td>\n",
       "      <td>-10.295397</td>\n",
       "      <td>-2.604551</td>\n",
       "      <td>-22.565679</td>\n",
       "      <td>-15.430084</td>\n",
       "      <td>0.000000</td>\n",
       "      <td>0.0</td>\n",
       "    </tr>\n",
       "    <tr>\n",
       "      <th>25%</th>\n",
       "      <td>46050.000000</td>\n",
       "      <td>-3.063492</td>\n",
       "      <td>-0.096885</td>\n",
       "      <td>-5.242926</td>\n",
       "      <td>-0.054695</td>\n",
       "      <td>-1.824465</td>\n",
       "      <td>-1.554077</td>\n",
       "      <td>-3.257350</td>\n",
       "      <td>-0.197474</td>\n",
       "      <td>-2.327630</td>\n",
       "      <td>...</td>\n",
       "      <td>-0.158551</td>\n",
       "      <td>-0.500510</td>\n",
       "      <td>-0.223504</td>\n",
       "      <td>-0.384230</td>\n",
       "      <td>-0.302611</td>\n",
       "      <td>-0.267033</td>\n",
       "      <td>-0.067791</td>\n",
       "      <td>-0.057416</td>\n",
       "      <td>3.359656</td>\n",
       "      <td>0.0</td>\n",
       "    </tr>\n",
       "    <tr>\n",
       "      <th>50%</th>\n",
       "      <td>80303.000000</td>\n",
       "      <td>-0.819901</td>\n",
       "      <td>1.019869</td>\n",
       "      <td>-1.552327</td>\n",
       "      <td>1.483942</td>\n",
       "      <td>-0.444902</td>\n",
       "      <td>-0.692950</td>\n",
       "      <td>-0.753578</td>\n",
       "      <td>0.167939</td>\n",
       "      <td>-0.806839</td>\n",
       "      <td>...</td>\n",
       "      <td>0.161397</td>\n",
       "      <td>0.021316</td>\n",
       "      <td>-0.026790</td>\n",
       "      <td>-0.007739</td>\n",
       "      <td>0.045351</td>\n",
       "      <td>-0.007429</td>\n",
       "      <td>0.058197</td>\n",
       "      <td>0.036483</td>\n",
       "      <td>25.000000</td>\n",
       "      <td>0.5</td>\n",
       "    </tr>\n",
       "    <tr>\n",
       "      <th>75%</th>\n",
       "      <td>134689.000000</td>\n",
       "      <td>0.823242</td>\n",
       "      <td>2.899321</td>\n",
       "      <td>0.267600</td>\n",
       "      <td>4.344373</td>\n",
       "      <td>0.427734</td>\n",
       "      <td>0.021795</td>\n",
       "      <td>0.186110</td>\n",
       "      <td>0.854791</td>\n",
       "      <td>0.079268</td>\n",
       "      <td>...</td>\n",
       "      <td>0.649262</td>\n",
       "      <td>0.525936</td>\n",
       "      <td>0.187322</td>\n",
       "      <td>0.339813</td>\n",
       "      <td>0.367672</td>\n",
       "      <td>0.307536</td>\n",
       "      <td>0.434265</td>\n",
       "      <td>0.213497</td>\n",
       "      <td>99.990000</td>\n",
       "      <td>1.0</td>\n",
       "    </tr>\n",
       "    <tr>\n",
       "      <th>max</th>\n",
       "      <td>172792.000000</td>\n",
       "      <td>2.454930</td>\n",
       "      <td>22.057729</td>\n",
       "      <td>9.382558</td>\n",
       "      <td>16.875344</td>\n",
       "      <td>34.801666</td>\n",
       "      <td>73.301626</td>\n",
       "      <td>120.589494</td>\n",
       "      <td>20.007208</td>\n",
       "      <td>15.594995</td>\n",
       "      <td>...</td>\n",
       "      <td>27.202839</td>\n",
       "      <td>10.503090</td>\n",
       "      <td>22.528412</td>\n",
       "      <td>4.584549</td>\n",
       "      <td>7.519589</td>\n",
       "      <td>3.517346</td>\n",
       "      <td>31.612198</td>\n",
       "      <td>33.847808</td>\n",
       "      <td>25691.160000</td>\n",
       "      <td>1.0</td>\n",
       "    </tr>\n",
       "  </tbody>\n",
       "</table>\n",
       "<p>8 rows × 31 columns</p>\n",
       "</div>"
      ],
      "text/plain": [
       "                Time             V1             V2             V3  \\\n",
       "count  568630.000000  568630.000000  568630.000000  568630.000000   \n",
       "mean    87816.738264      -2.480587       1.917220      -3.651843   \n",
       "std     48139.915168       5.450697       3.635173       6.155413   \n",
       "min         0.000000     -56.407510     -72.715728     -48.325589   \n",
       "25%     46050.000000      -3.063492      -0.096885      -5.242926   \n",
       "50%     80303.000000      -0.819901       1.019869      -1.552327   \n",
       "75%    134689.000000       0.823242       2.899321       0.267600   \n",
       "max    172792.000000       2.454930      22.057729       9.382558   \n",
       "\n",
       "                  V4             V5             V6             V7  \\\n",
       "count  568630.000000  568630.000000  568630.000000  568630.000000   \n",
       "mean        2.327843      -1.629547      -0.718744      -2.933064   \n",
       "std         3.143142       4.133190       1.708520       5.713829   \n",
       "min        -5.683171    -113.743307     -26.160506     -43.557242   \n",
       "25%        -0.054695      -1.824465      -1.554077      -3.257350   \n",
       "50%         1.483942      -0.444902      -0.692950      -0.753578   \n",
       "75%         4.344373       0.427734       0.021795       0.186110   \n",
       "max        16.875344      34.801666      73.301626     120.589494   \n",
       "\n",
       "                  V8             V9  ...            V21            V22  \\\n",
       "count  568630.000000  568630.000000  ...  568630.000000  568630.000000   \n",
       "mean        0.271447      -1.331281  ...       0.397668      -0.009775   \n",
       "std         4.962704       2.226505  ...       2.857008       1.166647   \n",
       "min       -73.216718     -13.434066  ...     -34.830382     -10.933144   \n",
       "25%        -0.197474      -2.327630  ...      -0.158551      -0.500510   \n",
       "50%         0.167939      -0.806839  ...       0.161397       0.021316   \n",
       "75%         0.854791       0.079268  ...       0.649262       0.525936   \n",
       "max        20.007208      15.594995  ...      27.202839      10.503090   \n",
       "\n",
       "                 V23            V24            V25            V26  \\\n",
       "count  568630.000000  568630.000000  568630.000000  568630.000000   \n",
       "mean       -0.004364      -0.054706       0.026533       0.028197   \n",
       "std         1.019446       0.539744       0.613107       0.447663   \n",
       "min       -44.807735      -2.836627     -10.295397      -2.604551   \n",
       "25%        -0.223504      -0.384230      -0.302611      -0.267033   \n",
       "50%        -0.026790      -0.007739       0.045351      -0.007429   \n",
       "75%         0.187322       0.339813       0.367672       0.307536   \n",
       "max        22.528412       4.584549       7.519589       3.517346   \n",
       "\n",
       "                 V27            V28         Amount     Class  \n",
       "count  568630.000000  568630.000000  568630.000000  568630.0  \n",
       "mean        0.080347       0.041173      95.444339       0.5  \n",
       "std         0.953369       0.418499     220.111663       0.5  \n",
       "min       -22.565679     -15.430084       0.000000       0.0  \n",
       "25%        -0.067791      -0.057416       3.359656       0.0  \n",
       "50%         0.058197       0.036483      25.000000       0.5  \n",
       "75%         0.434265       0.213497      99.990000       1.0  \n",
       "max        31.612198      33.847808   25691.160000       1.0  \n",
       "\n",
       "[8 rows x 31 columns]"
      ]
     },
     "execution_count": 28,
     "metadata": {},
     "output_type": "execute_result"
    }
   ],
   "source": [
    "credict_res.describe()"
   ]
  },
  {
   "cell_type": "code",
   "execution_count": 30,
   "id": "3d2c2fe7-10be-47ea-870b-70caa926364d",
   "metadata": {},
   "outputs": [
    {
     "data": {
      "text/plain": [
       "<Axes: xlabel='Amount', ylabel='Count'>"
      ]
     },
     "execution_count": 30,
     "metadata": {},
     "output_type": "execute_result"
    },
    {
     "data": {
      "image/png": "[encoded data removed]",
      "text/plain": [
       "<Figure size 640x480 with 1 Axes>"
      ]
     },
     "metadata": {},
     "output_type": "display_data"
    }
   ],
   "source": [
    "sns.histplot(credict_res.Amount)"
   ]
  },
  {
   "cell_type": "code",
   "execution_count": null,
   "id": "9ba8c4b6-4c9f-45a5-9c5a-a599257cf698",
   "metadata": {},
   "outputs": [],
   "source": [
    "# pip install -U threadpoolctl  # split 해결"
   ]
  },
  {
   "cell_type": "code",
   "execution_count": null,
   "id": "6231e054-3cc3-4d01-9635-9f415aa85791",
   "metadata": {
    "tags": []
   },
   "outputs": [],
   "source": [
    "# 사기일 경우가 아닐경우보다 거래액이 높다 - 가설 \n",
    "sns.barplot(data=credict_res, y='Amount', x='Class')"
   ]
  },
  {
   "cell_type": "code",
   "execution_count": 35,
   "id": "710f02ec-3586-49d3-a07d-29cadabbac8f",
   "metadata": {},
   "outputs": [
    {
     "data": {
      "text/plain": [
       "<Axes: xlabel='Class', ylabel='Amount'>"
      ]
     },
     "execution_count": 35,
     "metadata": {},
     "output_type": "execute_result"
    },
    {
     "data": {
      "image/png": "[encoded data removed]",
      "text/plain": [
       "<Figure size 640x480 with 1 Axes>"
      ]
     },
     "metadata": {},
     "output_type": "display_data"
    }
   ],
   "source": [
    "# 분포는 변함없고 y 숫자만 많아짐\n",
    "sns.boxplot(data=credict_res, y='Amount', x='Class')"
   ]
  },
  {
   "cell_type": "code",
   "execution_count": 38,
   "id": "8c950bee-d5a6-4e35-b16c-fe0d03d35fcf",
   "metadata": {},
   "outputs": [],
   "source": [
    "amount_1_max=credict_res[credict_res['Class']==1]['Amount'].max()"
   ]
  },
  {
   "cell_type": "code",
   "execution_count": 40,
   "id": "f3b28863-f6f7-4779-b0a7-87d375c791d1",
   "metadata": {},
   "outputs": [],
   "source": [
    "credict_res=credict_res[credict_res['Amount']<= amount_1_max] "
   ]
  },
  {
   "cell_type": "code",
   "execution_count": 41,
   "id": "b98a5f98-86b3-4539-ae18-a93ccc3e87c4",
   "metadata": {
    "scrolled": true
   },
   "outputs": [
    {
     "data": {
      "text/plain": [
       "<Axes: xlabel='Class', ylabel='Amount'>"
      ]
     },
     "execution_count": 41,
     "metadata": {},
     "output_type": "execute_result"
    },
    {
     "data": {
      "image/png": "[encoded data removed]",
      "text/plain": [
       "<Figure size 640x480 with 1 Axes>"
      ]
     },
     "metadata": {},
     "output_type": "display_data"
    }
   ],
   "source": [
    "sns.boxplot(data=credict_res, y='Amount', x='Class')"
   ]
  },
  {
   "cell_type": "code",
   "execution_count": 44,
   "id": "060eff72-27a3-43e7-aa81-6396212d0bfc",
   "metadata": {},
   "outputs": [
    {
     "data": {
      "text/html": [
       "<div>\n",
       "<style scoped>\n",
       "    .dataframe tbody tr th:only-of-type {\n",
       "        vertical-align: middle;\n",
       "    }\n",
       "\n",
       "    .dataframe tbody tr th {\n",
       "        vertical-align: top;\n",
       "    }\n",
       "\n",
       "    .dataframe thead th {\n",
       "        text-align: right;\n",
       "    }\n",
       "</style>\n",
       "<table border=\"1\" class=\"dataframe\">\n",
       "  <thead>\n",
       "    <tr style=\"text-align: right;\">\n",
       "      <th></th>\n",
       "      <th>Time</th>\n",
       "      <th>V1</th>\n",
       "      <th>V2</th>\n",
       "      <th>V3</th>\n",
       "      <th>V4</th>\n",
       "      <th>V5</th>\n",
       "      <th>V6</th>\n",
       "      <th>V7</th>\n",
       "      <th>V8</th>\n",
       "      <th>V9</th>\n",
       "      <th>...</th>\n",
       "      <th>V21</th>\n",
       "      <th>V22</th>\n",
       "      <th>V23</th>\n",
       "      <th>V24</th>\n",
       "      <th>V25</th>\n",
       "      <th>V26</th>\n",
       "      <th>V27</th>\n",
       "      <th>V28</th>\n",
       "      <th>Amount</th>\n",
       "      <th>Class</th>\n",
       "    </tr>\n",
       "  </thead>\n",
       "  <tbody>\n",
       "    <tr>\n",
       "      <th>0</th>\n",
       "      <td>0.000000</td>\n",
       "      <td>-1.359807</td>\n",
       "      <td>-0.072781</td>\n",
       "      <td>2.536347</td>\n",
       "      <td>1.378155</td>\n",
       "      <td>-0.338321</td>\n",
       "      <td>0.462388</td>\n",
       "      <td>0.239599</td>\n",
       "      <td>0.098698</td>\n",
       "      <td>0.363787</td>\n",
       "      <td>...</td>\n",
       "      <td>-0.018307</td>\n",
       "      <td>0.277838</td>\n",
       "      <td>-0.110474</td>\n",
       "      <td>0.066928</td>\n",
       "      <td>0.128539</td>\n",
       "      <td>-0.189115</td>\n",
       "      <td>0.133558</td>\n",
       "      <td>-0.021053</td>\n",
       "      <td>149.620000</td>\n",
       "      <td>0</td>\n",
       "    </tr>\n",
       "    <tr>\n",
       "      <th>1</th>\n",
       "      <td>0.000000</td>\n",
       "      <td>1.191857</td>\n",
       "      <td>0.266151</td>\n",
       "      <td>0.166480</td>\n",
       "      <td>0.448154</td>\n",
       "      <td>0.060018</td>\n",
       "      <td>-0.082361</td>\n",
       "      <td>-0.078803</td>\n",
       "      <td>0.085102</td>\n",
       "      <td>-0.255425</td>\n",
       "      <td>...</td>\n",
       "      <td>-0.225775</td>\n",
       "      <td>-0.638672</td>\n",
       "      <td>0.101288</td>\n",
       "      <td>-0.339846</td>\n",
       "      <td>0.167170</td>\n",
       "      <td>0.125895</td>\n",
       "      <td>-0.008983</td>\n",
       "      <td>0.014724</td>\n",
       "      <td>2.690000</td>\n",
       "      <td>0</td>\n",
       "    </tr>\n",
       "    <tr>\n",
       "      <th>2</th>\n",
       "      <td>1.000000</td>\n",
       "      <td>-1.358354</td>\n",
       "      <td>-1.340163</td>\n",
       "      <td>1.773209</td>\n",
       "      <td>0.379780</td>\n",
       "      <td>-0.503198</td>\n",
       "      <td>1.800499</td>\n",
       "      <td>0.791461</td>\n",
       "      <td>0.247676</td>\n",
       "      <td>-1.514654</td>\n",
       "      <td>...</td>\n",
       "      <td>0.247998</td>\n",
       "      <td>0.771679</td>\n",
       "      <td>0.909412</td>\n",
       "      <td>-0.689281</td>\n",
       "      <td>-0.327642</td>\n",
       "      <td>-0.139097</td>\n",
       "      <td>-0.055353</td>\n",
       "      <td>-0.059752</td>\n",
       "      <td>378.660000</td>\n",
       "      <td>0</td>\n",
       "    </tr>\n",
       "    <tr>\n",
       "      <th>3</th>\n",
       "      <td>1.000000</td>\n",
       "      <td>-0.966272</td>\n",
       "      <td>-0.185226</td>\n",
       "      <td>1.792993</td>\n",
       "      <td>-0.863291</td>\n",
       "      <td>-0.010309</td>\n",
       "      <td>1.247203</td>\n",
       "      <td>0.237609</td>\n",
       "      <td>0.377436</td>\n",
       "      <td>-1.387024</td>\n",
       "      <td>...</td>\n",
       "      <td>-0.108300</td>\n",
       "      <td>0.005274</td>\n",
       "      <td>-0.190321</td>\n",
       "      <td>-1.175575</td>\n",
       "      <td>0.647376</td>\n",
       "      <td>-0.221929</td>\n",
       "      <td>0.062723</td>\n",
       "      <td>0.061458</td>\n",
       "      <td>123.500000</td>\n",
       "      <td>0</td>\n",
       "    </tr>\n",
       "    <tr>\n",
       "      <th>4</th>\n",
       "      <td>2.000000</td>\n",
       "      <td>-1.158233</td>\n",
       "      <td>0.877737</td>\n",
       "      <td>1.548718</td>\n",
       "      <td>0.403034</td>\n",
       "      <td>-0.407193</td>\n",
       "      <td>0.095921</td>\n",
       "      <td>0.592941</td>\n",
       "      <td>-0.270533</td>\n",
       "      <td>0.817739</td>\n",
       "      <td>...</td>\n",
       "      <td>-0.009431</td>\n",
       "      <td>0.798278</td>\n",
       "      <td>-0.137458</td>\n",
       "      <td>0.141267</td>\n",
       "      <td>-0.206010</td>\n",
       "      <td>0.502292</td>\n",
       "      <td>0.219422</td>\n",
       "      <td>0.215153</td>\n",
       "      <td>69.990000</td>\n",
       "      <td>0</td>\n",
       "    </tr>\n",
       "    <tr>\n",
       "      <th>...</th>\n",
       "      <td>...</td>\n",
       "      <td>...</td>\n",
       "      <td>...</td>\n",
       "      <td>...</td>\n",
       "      <td>...</td>\n",
       "      <td>...</td>\n",
       "      <td>...</td>\n",
       "      <td>...</td>\n",
       "      <td>...</td>\n",
       "      <td>...</td>\n",
       "      <td>...</td>\n",
       "      <td>...</td>\n",
       "      <td>...</td>\n",
       "      <td>...</td>\n",
       "      <td>...</td>\n",
       "      <td>...</td>\n",
       "      <td>...</td>\n",
       "      <td>...</td>\n",
       "      <td>...</td>\n",
       "      <td>...</td>\n",
       "      <td>...</td>\n",
       "    </tr>\n",
       "    <tr>\n",
       "      <th>568625</th>\n",
       "      <td>143371.574640</td>\n",
       "      <td>-2.308826</td>\n",
       "      <td>3.056626</td>\n",
       "      <td>-3.747295</td>\n",
       "      <td>4.742460</td>\n",
       "      <td>-0.092289</td>\n",
       "      <td>-1.316949</td>\n",
       "      <td>-2.823034</td>\n",
       "      <td>1.593848</td>\n",
       "      <td>-3.368946</td>\n",
       "      <td>...</td>\n",
       "      <td>0.645349</td>\n",
       "      <td>-0.212684</td>\n",
       "      <td>-0.429379</td>\n",
       "      <td>-0.348302</td>\n",
       "      <td>0.347631</td>\n",
       "      <td>0.013730</td>\n",
       "      <td>0.458882</td>\n",
       "      <td>0.134922</td>\n",
       "      <td>0.868022</td>\n",
       "      <td>1</td>\n",
       "    </tr>\n",
       "    <tr>\n",
       "      <th>568626</th>\n",
       "      <td>85739.847867</td>\n",
       "      <td>-2.866228</td>\n",
       "      <td>3.071029</td>\n",
       "      <td>-5.564163</td>\n",
       "      <td>3.802175</td>\n",
       "      <td>-2.368895</td>\n",
       "      <td>-1.313950</td>\n",
       "      <td>-4.755785</td>\n",
       "      <td>2.152272</td>\n",
       "      <td>-2.935454</td>\n",
       "      <td>...</td>\n",
       "      <td>0.894934</td>\n",
       "      <td>-0.042074</td>\n",
       "      <td>-0.333391</td>\n",
       "      <td>-0.763997</td>\n",
       "      <td>0.130881</td>\n",
       "      <td>-0.135600</td>\n",
       "      <td>1.173554</td>\n",
       "      <td>0.217945</td>\n",
       "      <td>104.360962</td>\n",
       "      <td>1</td>\n",
       "    </tr>\n",
       "    <tr>\n",
       "      <th>568627</th>\n",
       "      <td>8309.211243</td>\n",
       "      <td>0.587477</td>\n",
       "      <td>3.381300</td>\n",
       "      <td>-6.676172</td>\n",
       "      <td>5.959365</td>\n",
       "      <td>-0.661633</td>\n",
       "      <td>-2.505822</td>\n",
       "      <td>-3.081360</td>\n",
       "      <td>0.870799</td>\n",
       "      <td>-1.527576</td>\n",
       "      <td>...</td>\n",
       "      <td>0.558140</td>\n",
       "      <td>0.104947</td>\n",
       "      <td>0.458000</td>\n",
       "      <td>-0.076709</td>\n",
       "      <td>-1.455423</td>\n",
       "      <td>0.379328</td>\n",
       "      <td>0.619588</td>\n",
       "      <td>0.166647</td>\n",
       "      <td>1.000000</td>\n",
       "      <td>1</td>\n",
       "    </tr>\n",
       "    <tr>\n",
       "      <th>568628</th>\n",
       "      <td>8737.082640</td>\n",
       "      <td>-1.906400</td>\n",
       "      <td>3.470084</td>\n",
       "      <td>-4.473864</td>\n",
       "      <td>2.794936</td>\n",
       "      <td>-2.119009</td>\n",
       "      <td>-2.333501</td>\n",
       "      <td>-4.257618</td>\n",
       "      <td>1.701940</td>\n",
       "      <td>-1.420716</td>\n",
       "      <td>...</td>\n",
       "      <td>0.664748</td>\n",
       "      <td>-0.514472</td>\n",
       "      <td>-0.010589</td>\n",
       "      <td>0.070764</td>\n",
       "      <td>0.063171</td>\n",
       "      <td>0.305386</td>\n",
       "      <td>0.436757</td>\n",
       "      <td>0.221407</td>\n",
       "      <td>1.000000</td>\n",
       "      <td>1</td>\n",
       "    </tr>\n",
       "    <tr>\n",
       "      <th>568629</th>\n",
       "      <td>169481.795225</td>\n",
       "      <td>1.023208</td>\n",
       "      <td>0.916681</td>\n",
       "      <td>-3.090827</td>\n",
       "      <td>0.981937</td>\n",
       "      <td>0.333985</td>\n",
       "      <td>-0.036886</td>\n",
       "      <td>-0.106478</td>\n",
       "      <td>-0.667402</td>\n",
       "      <td>-0.171913</td>\n",
       "      <td>...</td>\n",
       "      <td>-0.367643</td>\n",
       "      <td>-0.064919</td>\n",
       "      <td>-0.011692</td>\n",
       "      <td>-0.214707</td>\n",
       "      <td>0.252796</td>\n",
       "      <td>-0.325471</td>\n",
       "      <td>0.133060</td>\n",
       "      <td>0.016928</td>\n",
       "      <td>130.747632</td>\n",
       "      <td>1</td>\n",
       "    </tr>\n",
       "  </tbody>\n",
       "</table>\n",
       "<p>568027 rows × 31 columns</p>\n",
       "</div>"
      ],
      "text/plain": [
       "                 Time        V1        V2        V3        V4        V5  \\\n",
       "0            0.000000 -1.359807 -0.072781  2.536347  1.378155 -0.338321   \n",
       "1            0.000000  1.191857  0.266151  0.166480  0.448154  0.060018   \n",
       "2            1.000000 -1.358354 -1.340163  1.773209  0.379780 -0.503198   \n",
       "3            1.000000 -0.966272 -0.185226  1.792993 -0.863291 -0.010309   \n",
       "4            2.000000 -1.158233  0.877737  1.548718  0.403034 -0.407193   \n",
       "...               ...       ...       ...       ...       ...       ...   \n",
       "568625  143371.574640 -2.308826  3.056626 -3.747295  4.742460 -0.092289   \n",
       "568626   85739.847867 -2.866228  3.071029 -5.564163  3.802175 -2.368895   \n",
       "568627    8309.211243  0.587477  3.381300 -6.676172  5.959365 -0.661633   \n",
       "568628    8737.082640 -1.906400  3.470084 -4.473864  2.794936 -2.119009   \n",
       "568629  169481.795225  1.023208  0.916681 -3.090827  0.981937  0.333985   \n",
       "\n",
       "              V6        V7        V8        V9  ...       V21       V22  \\\n",
       "0       0.462388  0.239599  0.098698  0.363787  ... -0.018307  0.277838   \n",
       "1      -0.082361 -0.078803  0.085102 -0.255425  ... -0.225775 -0.638672   \n",
       "2       1.800499  0.791461  0.247676 -1.514654  ...  0.247998  0.771679   \n",
       "3       1.247203  0.237609  0.377436 -1.387024  ... -0.108300  0.005274   \n",
       "4       0.095921  0.592941 -0.270533  0.817739  ... -0.009431  0.798278   \n",
       "...          ...       ...       ...       ...  ...       ...       ...   \n",
       "568625 -1.316949 -2.823034  1.593848 -3.368946  ...  0.645349 -0.212684   \n",
       "568626 -1.313950 -4.755785  2.152272 -2.935454  ...  0.894934 -0.042074   \n",
       "568627 -2.505822 -3.081360  0.870799 -1.527576  ...  0.558140  0.104947   \n",
       "568628 -2.333501 -4.257618  1.701940 -1.420716  ...  0.664748 -0.514472   \n",
       "568629 -0.036886 -0.106478 -0.667402 -0.171913  ... -0.367643 -0.064919   \n",
       "\n",
       "             V23       V24       V25       V26       V27       V28  \\\n",
       "0      -0.110474  0.066928  0.128539 -0.189115  0.133558 -0.021053   \n",
       "1       0.101288 -0.339846  0.167170  0.125895 -0.008983  0.014724   \n",
       "2       0.909412 -0.689281 -0.327642 -0.139097 -0.055353 -0.059752   \n",
       "3      -0.190321 -1.175575  0.647376 -0.221929  0.062723  0.061458   \n",
       "4      -0.137458  0.141267 -0.206010  0.502292  0.219422  0.215153   \n",
       "...          ...       ...       ...       ...       ...       ...   \n",
       "568625 -0.429379 -0.348302  0.347631  0.013730  0.458882  0.134922   \n",
       "568626 -0.333391 -0.763997  0.130881 -0.135600  1.173554  0.217945   \n",
       "568627  0.458000 -0.076709 -1.455423  0.379328  0.619588  0.166647   \n",
       "568628 -0.010589  0.070764  0.063171  0.305386  0.436757  0.221407   \n",
       "568629 -0.011692 -0.214707  0.252796 -0.325471  0.133060  0.016928   \n",
       "\n",
       "            Amount  Class  \n",
       "0       149.620000      0  \n",
       "1         2.690000      0  \n",
       "2       378.660000      0  \n",
       "3       123.500000      0  \n",
       "4        69.990000      0  \n",
       "...            ...    ...  \n",
       "568625    0.868022      1  \n",
       "568626  104.360962      1  \n",
       "568627    1.000000      1  \n",
       "568628    1.000000      1  \n",
       "568629  130.747632      1  \n",
       "\n",
       "[568027 rows x 31 columns]"
      ]
     },
     "execution_count": 44,
     "metadata": {},
     "output_type": "execute_result"
    }
   ],
   "source": [
    "credict_res"
   ]
  },
  {
   "cell_type": "code",
   "execution_count": null,
   "id": "4e2fda99-a812-4a73-b935-e688a03ab78e",
   "metadata": {},
   "outputs": [],
   "source": [
    "# 데이터 전처리 : V1, V2..상관성검사--통계(독립변수와 독립변수간의 관계): 너무 관계가 밀접하면 과적합이 일어남\n",
    "credict_res.corr()"
   ]
  },
  {
   "cell_type": "code",
   "execution_count": 46,
   "id": "7fb1de4b-399e-4042-89fc-cffdc07bfa85",
   "metadata": {},
   "outputs": [
    {
     "data": {
      "text/plain": [
       "<Axes: >"
      ]
     },
     "execution_count": 46,
     "metadata": {},
     "output_type": "execute_result"
    },
    {
     "data": {
      "image/png": "[encoded data removed]",
      "text/plain": [
       "<Figure size 640x480 with 2 Axes>"
      ]
     },
     "metadata": {},
     "output_type": "display_data"
    }
   ],
   "source": [
    "# 독립변수들간의 상관, 역상관 관계 밀접한 경우 정리 필요: 예) V2,V7\n",
    "sns.heatmap(credict_res.corr(), vmin=-1, vmax=1)"
   ]
  },
  {
   "cell_type": "code",
   "execution_count": null,
   "id": "9d47a217-bfd8-44ad-a986-1611607ed565",
   "metadata": {
    "tags": []
   },
   "outputs": [],
   "source": [
    "# 데이터 분석 --> 머신러닝 분석\n",
    "# 데이터 전처리/ 모델선택/학습/에측/평가\n",
    "# 데이터 전처리 - 컬럼제거(Time), 스케일링(Amount)\n",
    "credic_res= credict_res.drop('Time', axis=1)"
   ]
  },
  {
   "cell_type": "code",
   "execution_count": 72,
   "id": "88a788ba-27e9-4456-9838-683364f7f07a",
   "metadata": {},
   "outputs": [],
   "source": [
    "scaler = StandardScaler()\n",
    "credict['Amount_scaled']= scaler.fit_transform(credict_res[['Amount']])\n",
    "credic_res=credict.drop('Amount', axis=1)"
   ]
  },
  {
   "cell_type": "code",
   "execution_count": null,
   "id": "1d989378-f101-4a77-ac8a-687fedacb71d",
   "metadata": {
    "tags": []
   },
   "outputs": [],
   "source": [
    "from sklearn.model_selection import train_test_split\n",
    "y=credic_res['Class']\n",
    "x= credic_res.drop('Class', axis=1)\n",
    "X_train, X_test, y_train, y_test = train_test_split(x, y, test_size = 0.2, random_state=0)\n",
    "print(X_train.shape, X_test.shape, y_train.shape, y_test.shape)"
   ]
  },
  {
   "cell_type": "code",
   "execution_count": 97,
   "id": "d279c9a4-0236-48ef-8285-940fa42af9d9",
   "metadata": {},
   "outputs": [],
   "source": [
    "from sklearn.model_selection import cross_val_score,GridSearchCV\n",
    "from sklearn.metrics import accuracy_score"
   ]
  },
  {
   "cell_type": "code",
   "execution_count": null,
   "id": "5909aaa0-e761-4d76-84b8-bd4ca9f779ea",
   "metadata": {
    "tags": []
   },
   "outputs": [],
   "source": [
    "# 분류 모델 선택-다양한 시도 후\n",
    "from sklearn.model_selection import cross_val_score     # 학습, 예측, 평가까지\n",
    "from sklearn.tree import DecisionTreeClassifier\n",
    "from sklearn.ensemble import RandomForestClassifier, GradientBoostingClassifier\n",
    "from sklearn.neighbors import KNeighborsClassifier\n",
    "from sklearn.linear_model import LogisticRegression\n",
    "from sklearn.svm import SVC\n",
    "from xgboost import XGBClassifier\n",
    "\n",
    "dt_clf= DecisionTreeClassifier(random_state=0)\n",
    "rf_clf= RandomForestClassifier(random_state=0)\n",
    "gbm_clf= GradientBoostingClassifier(random_state=0)\n",
    "knn_clf=KNeighborsClassifier()\n",
    "lr_clf=LogisticRegression(random_state=0)\n",
    "svm_clf=SVC(random_state=0)\n",
    "xgb_clf=XGBClassifier(random_state=0)"
   ]
  },
  {
   "cell_type": "code",
   "execution_count": null,
   "id": "0c4faeff-749b-4141-8965-88ebadd6eac8",
   "metadata": {},
   "outputs": [],
   "source": [
    "# 시간이 너무 많이 걸려서 멈춤\n",
    "models=[dt_clf,rf_clf,gbm_clf,knn_clf,lr_clf,svm_clf,xgb_clf]\n",
    "model_scores=[]\n",
    "for model in models:\n",
    "    scores= cross_val_score(model, X_train, y_train, scoring='accuracy', cv=3)\n",
    "    model_scores.append(scores.mean())"
   ]
  },
  {
   "cell_type": "code",
   "execution_count": 81,
   "id": "021fd90b-14a3-49c2-9910-c34a8c3afc2a",
   "metadata": {},
   "outputs": [],
   "source": [
    "scores= cross_val_score(dt_clf, X_train, y_train, scoring='accuracy', cv=3)"
   ]
  },
  {
   "cell_type": "code",
   "execution_count": 89,
   "id": "e26478bc-05ae-4b99-811f-749001ff22ed",
   "metadata": {},
   "outputs": [
    {
     "name": "stdout",
     "output_type": "stream",
     "text": [
      "(10099, 29) (10099,)\n"
     ]
    }
   ],
   "source": [
    "# 시간이 많이 걸려서 샘플 뽑아서 함: X 데이터 1/45으로 축소\n",
    "\n",
    "_, X_sample, _, y_sample=train_test_split(X_train, y_train, test_size=1/45, random_state=0)\n",
    "print(X_sample.shape, y_sample.shape)"
   ]
  },
  {
   "cell_type": "code",
   "execution_count": 93,
   "id": "f69386e3-e71e-425c-9196-e2b107aeee8a",
   "metadata": {},
   "outputs": [
    {
     "data": {
      "text/plain": [
       "array([0.95515296, 0.96256684, 0.95781343])"
      ]
     },
     "execution_count": 93,
     "metadata": {},
     "output_type": "execute_result"
    }
   ],
   "source": [
    "#knn 은 넘파이 array로 넣으면 에러 안남\n",
    "cross_val_score(knn_clf, X_sample.values, y_sample, scoring='accuracy', cv=3)"
   ]
  },
  {
   "cell_type": "code",
   "execution_count": 94,
   "id": "50c01432-0fce-4581-97da-ea4bde5e87c5",
   "metadata": {
    "scrolled": true
   },
   "outputs": [],
   "source": [
    "# sample로 각 모델 할 것: 최근접이웃 에러남 :array로 넣기\n",
    "models=[dt_clf,rf_clf,gbm_clf,lr_clf,svm_clf,xgb_clf,knn_clf]\n",
    "model_scores=[]\n",
    "for model in models:\n",
    "    scores= cross_val_score(model, X_sample.values, y_sample, scoring='accuracy', cv=3)\n",
    "    model_scores.append(scores.mean())"
   ]
  },
  {
   "cell_type": "code",
   "execution_count": 95,
   "id": "ccf5f37d-40e6-47cd-976a-39ab335c4711",
   "metadata": {},
   "outputs": [
    {
     "data": {
      "text/plain": [
       "[0.9746509452391806,\n",
       " 0.9884147237088413,\n",
       " 0.9836618954266013,\n",
       " 0.9800970095087741,\n",
       " 0.9228638640403347,\n",
       " 0.9906920495155789,\n",
       " 0.958511076158135]"
      ]
     },
     "execution_count": 95,
     "metadata": {},
     "output_type": "execute_result"
    }
   ],
   "source": [
    "model_scores  # xgb, rf, gbm 순으로 성능 좋음 "
   ]
  },
  {
   "cell_type": "code",
   "execution_count": 112,
   "id": "e6ce7c32-6221-4714-8662-c3811a2262ab",
   "metadata": {},
   "outputs": [],
   "source": [
    "# RandomForest, LogistcRegression 해보기 : sample 좀 더 많이\n",
    "# 파라미터 찾기  ## 검토\n",
    "rf_clf= RandomForestClassifier(random_state=0)\n",
    "lr_clf=LogisticRegression(random_state=0)"
   ]
  },
  {
   "cell_type": "code",
   "execution_count": 113,
   "id": "3b796de4-1ad7-49fa-91ae-99212b1205fd",
   "metadata": {},
   "outputs": [
    {
     "name": "stdout",
     "output_type": "stream",
     "text": [
      "(30295, 29) (30295,)\n"
     ]
    }
   ],
   "source": [
    "_, X_sample, _, y_sample=train_test_split(X_train, y_train, test_size=3/45, random_state=0)\n",
    "print(X_sample.shape, y_sample.shape)"
   ]
  },
  {
   "cell_type": "code",
   "execution_count": null,
   "id": "197307c6-4301-4c55-9d82-47ce933b5d9c",
   "metadata": {},
   "outputs": [],
   "source": [
    "params={'solver':['liblinear','lbfgs'],'penalty': ['11', '12'], 'C': [0.001,0.01,0.05,0.1,1.0]}\n",
    "grid=GridSearchCV(lr_clf, param_grid=params, scoring='accuracy', cv=2)\n",
    "grid.fit(X_sample, y_sample)"
   ]
  },
  {
   "cell_type": "code",
   "execution_count": null,
   "id": "42a359b6-a90d-4551-bde9-37ea8bc238c9",
   "metadata": {},
   "outputs": [],
   "source": [
    "grid.best_score_"
   ]
  },
  {
   "cell_type": "code",
   "execution_count": 114,
   "id": "1dea1757-7f68-4c11-a6f3-6895aef22ec4",
   "metadata": {},
   "outputs": [
    {
     "data": {
      "text/html": [
       "<style>#sk-container-id-2 {color: black;}#sk-container-id-2 pre{padding: 0;}#sk-container-id-2 div.sk-toggleable {background-color: white;}#sk-container-id-2 label.sk-toggleable__label {cursor: pointer;display: block;width: 100%;margin-bottom: 0;padding: 0.3em;box-sizing: border-box;text-align: center;}#sk-container-id-2 label.sk-toggleable__label-arrow:before {content: \"▸\";float: left;margin-right: 0.25em;color: #696969;}#sk-container-id-2 label.sk-toggleable__label-arrow:hover:before {color: black;}#sk-container-id-2 div.sk-estimator:hover label.sk-toggleable__label-arrow:before {color: black;}#sk-container-id-2 div.sk-toggleable__content {max-height: 0;max-width: 0;overflow: hidden;text-align: left;background-color: #f0f8ff;}#sk-container-id-2 div.sk-toggleable__content pre {margin: 0.2em;color: black;border-radius: 0.25em;background-color: #f0f8ff;}#sk-container-id-2 input.sk-toggleable__control:checked~div.sk-toggleable__content {max-height: 200px;max-width: 100%;overflow: auto;}#sk-container-id-2 input.sk-toggleable__control:checked~label.sk-toggleable__label-arrow:before {content: \"▾\";}#sk-container-id-2 div.sk-estimator input.sk-toggleable__control:checked~label.sk-toggleable__label {background-color: #d4ebff;}#sk-container-id-2 div.sk-label input.sk-toggleable__control:checked~label.sk-toggleable__label {background-color: #d4ebff;}#sk-container-id-2 input.sk-hidden--visually {border: 0;clip: rect(1px 1px 1px 1px);clip: rect(1px, 1px, 1px, 1px);height: 1px;margin: -1px;overflow: hidden;padding: 0;position: absolute;width: 1px;}#sk-container-id-2 div.sk-estimator {font-family: monospace;background-color: #f0f8ff;border: 1px dotted black;border-radius: 0.25em;box-sizing: border-box;margin-bottom: 0.5em;}#sk-container-id-2 div.sk-estimator:hover {background-color: #d4ebff;}#sk-container-id-2 div.sk-parallel-item::after {content: \"\";width: 100%;border-bottom: 1px solid gray;flex-grow: 1;}#sk-container-id-2 div.sk-label:hover label.sk-toggleable__label {background-color: #d4ebff;}#sk-container-id-2 div.sk-serial::before {content: \"\";position: absolute;border-left: 1px solid gray;box-sizing: border-box;top: 0;bottom: 0;left: 50%;z-index: 0;}#sk-container-id-2 div.sk-serial {display: flex;flex-direction: column;align-items: center;background-color: white;padding-right: 0.2em;padding-left: 0.2em;position: relative;}#sk-container-id-2 div.sk-item {position: relative;z-index: 1;}#sk-container-id-2 div.sk-parallel {display: flex;align-items: stretch;justify-content: center;background-color: white;position: relative;}#sk-container-id-2 div.sk-item::before, #sk-container-id-2 div.sk-parallel-item::before {content: \"\";position: absolute;border-left: 1px solid gray;box-sizing: border-box;top: 0;bottom: 0;left: 50%;z-index: -1;}#sk-container-id-2 div.sk-parallel-item {display: flex;flex-direction: column;z-index: 1;position: relative;background-color: white;}#sk-container-id-2 div.sk-parallel-item:first-child::after {align-self: flex-end;width: 50%;}#sk-container-id-2 div.sk-parallel-item:last-child::after {align-self: flex-start;width: 50%;}#sk-container-id-2 div.sk-parallel-item:only-child::after {width: 0;}#sk-container-id-2 div.sk-dashed-wrapped {border: 1px dashed gray;margin: 0 0.4em 0.5em 0.4em;box-sizing: border-box;padding-bottom: 0.4em;background-color: white;}#sk-container-id-2 div.sk-label label {font-family: monospace;font-weight: bold;display: inline-block;line-height: 1.2em;}#sk-container-id-2 div.sk-label-container {text-align: center;}#sk-container-id-2 div.sk-container {/* jupyter's `normalize.less` sets `[hidden] { display: none; }` but bootstrap.min.css set `[hidden] { display: none !important; }` so we also need the `!important` here to be able to override the default hidden behavior on the sphinx rendered scikit-learn.org. See: https://github.com/scikit-learn/scikit-learn/issues/21755 */display: inline-block !important;position: relative;}#sk-container-id-2 div.sk-text-repr-fallback {display: none;}</style><div id=\"sk-container-id-2\" class=\"sk-top-container\"><div class=\"sk-text-repr-fallback\"><pre>RandomForestClassifier()</pre><b>In a Jupyter environment, please rerun this cell to show the HTML representation or trust the notebook. <br />On GitHub, the HTML representation is unable to render, please try loading this page with nbviewer.org.</b></div><div class=\"sk-container\" hidden><div class=\"sk-item\"><div class=\"sk-estimator sk-toggleable\"><input class=\"sk-toggleable__control sk-hidden--visually\" id=\"sk-estimator-id-4\" type=\"checkbox\" checked><label for=\"sk-estimator-id-4\" class=\"sk-toggleable__label sk-toggleable__label-arrow\">RandomForestClassifier</label><div class=\"sk-toggleable__content\"><pre>RandomForestClassifier()</pre></div></div></div></div></div>"
      ],
      "text/plain": [
       "RandomForestClassifier()"
      ]
     },
     "execution_count": 114,
     "metadata": {},
     "output_type": "execute_result"
    }
   ],
   "source": [
    "# 시간 많이 걸려 취소\n",
    "rf_clf=RandomForestClassifier()\n",
    "rf_clf.fit(X_train, y_train)"
   ]
  },
  {
   "cell_type": "code",
   "execution_count": null,
   "id": "ae0850eb-d89b-4a72-9069-3bcb6392e100",
   "metadata": {},
   "outputs": [],
   "source": []
  },
  {
   "cell_type": "code",
   "execution_count": null,
   "id": "88038d8d-c348-4702-8398-60f9b04ce7e0",
   "metadata": {},
   "outputs": [],
   "source": [
    "# 오버샘플링 하고 안하고 비교  --시간 문제로 패쑤\n",
    "# 독립변수 간의 연관성 제거 한 것 안한 것 결과 비교 \n",
    "# : logistic 등 선형에서는 영향 많음/ 다른 분류모델에서는 상관 없음 --시간 문제로 패쑤\n",
    "# 책 295페이지 ##검토"
   ]
  },
  {
   "cell_type": "code",
   "execution_count": 115,
   "id": "9ba471af-3162-4434-bf92-c394f16e19b2",
   "metadata": {},
   "outputs": [
    {
     "data": {
      "text/plain": [
       "0.981295002024541"
      ]
     },
     "execution_count": 115,
     "metadata": {},
     "output_type": "execute_result"
    }
   ],
   "source": [
    "# 독립변수 간의 연관성 제거 한 것 안한 것 결과 비교 /logistic\n",
    "# V2, V7 제거 안함\n",
    "lr_clf=LogisticRegression(random_state=0)\n",
    "lr_clf.fit(X_train, y_train)\n",
    "pred=lr_clf.predict(X_test)\n",
    "accuracy_score(y_test,pred)"
   ]
  },
  {
   "cell_type": "code",
   "execution_count": 120,
   "id": "6376a123-6ba8-4eae-be55-fe1ef9a07c1d",
   "metadata": {},
   "outputs": [
    {
     "data": {
      "text/plain": [
       "0.9799570445222964"
      ]
     },
     "execution_count": 120,
     "metadata": {},
     "output_type": "execute_result"
    }
   ],
   "source": [
    "# V2, V7 제거 함  ==> 제거 한 것이 더 낮음/ 그럴 수 있음\n",
    "X_train_drop=X_train.drop(['V5','V7'], axis=1)\n",
    "X_test_drop=X_test.drop(['V5','V7'], axis=1)\n",
    "lr_clf=LogisticRegression(random_state=0)\n",
    "lr_clf.fit(X_train_drop, y_train)\n",
    "pred=lr_clf.predict(X_test_drop)\n",
    "accuracy_score(y_test,pred)"
   ]
  },
  {
   "cell_type": "code",
   "execution_count": 121,
   "id": "e95ab456-98a2-404e-8e84-ca96c6e036d2",
   "metadata": {},
   "outputs": [
    {
     "data": {
      "text/plain": [
       "Index(['V1', 'V2', 'V3', 'V4', 'V5', 'V6', 'V7', 'V8', 'V9', 'V10', 'V11',\n",
       "       'V12', 'V13', 'V14', 'V15', 'V16', 'V17', 'V18', 'V19', 'V20', 'V21',\n",
       "       'V22', 'V23', 'V24', 'V25', 'V26', 'V27', 'V28', 'Amount'],\n",
       "      dtype='object')"
      ]
     },
     "execution_count": 121,
     "metadata": {},
     "output_type": "execute_result"
    }
   ],
   "source": [
    "X_train.columns"
   ]
  },
  {
   "cell_type": "raw",
   "id": "d279e423-fad2-4c22-ae93-34f7482293c2",
   "metadata": {},
   "source": [
    "# pipeline = 데이터전처리 + 학습/예습/평가 \n",
    "# voting과 비슷하나 순서대로 작동시킴/ 모델학습가지 한번에\n",
    "\n",
    "diabetes = pd.read_csv('../data/../data/diabetes.csv')\n",
    "X=diabetes.iloc[:,:-1]\n",
    "y=diabetes.iloc[:,-1]\n",
    "X_train, X_test, y_train, y_test = train_test_split(X, y, test_size = 0.2, random_state=0)\n",
    "#------ 파이프라인/ 정규화\n",
    "scaler=StandardScaler()\n",
    "scaler.fit(X_train)\n",
    "X_train_scaled=scaler.transform(X_train)\n",
    "X_test_scaled=scaler.transform(X_test)\n",
    "\n",
    "lr_clf= LogisticRegression(random_state=0)\n",
    "lr_clf.fit(X_train_scaled, y_train)\n",
    "pred=lr_clf.predict(X_test_scaled)\n",
    "# ---------------------------------\n",
    "print(accuracy_score(y_test, pred))"
   ]
  },
  {
   "cell_type": "code",
   "execution_count": 126,
   "id": "2e0f46bb-29cd-4933-aca1-522dc2e35662",
   "metadata": {},
   "outputs": [],
   "source": [
    "# 파이프라인 구축: 스케일러, 모델\n",
    "from sklearn.pipeline import Pipeline\n",
    "scaler= StandardScaler()\n",
    "lr_clf=LogisticRegression(random_state=0)\n",
    "\n",
    "pipe=Pipeline([('SC', scaler),('LR', lr_clf)])   "
   ]
  },
  {
   "cell_type": "code",
   "execution_count": 127,
   "id": "44da30a5-11e7-419a-b96b-d8717fe30afd",
   "metadata": {},
   "outputs": [
    {
     "data": {
      "text/html": [
       "<style>#sk-container-id-3 {color: black;}#sk-container-id-3 pre{padding: 0;}#sk-container-id-3 div.sk-toggleable {background-color: white;}#sk-container-id-3 label.sk-toggleable__label {cursor: pointer;display: block;width: 100%;margin-bottom: 0;padding: 0.3em;box-sizing: border-box;text-align: center;}#sk-container-id-3 label.sk-toggleable__label-arrow:before {content: \"▸\";float: left;margin-right: 0.25em;color: #696969;}#sk-container-id-3 label.sk-toggleable__label-arrow:hover:before {color: black;}#sk-container-id-3 div.sk-estimator:hover label.sk-toggleable__label-arrow:before {color: black;}#sk-container-id-3 div.sk-toggleable__content {max-height: 0;max-width: 0;overflow: hidden;text-align: left;background-color: #f0f8ff;}#sk-container-id-3 div.sk-toggleable__content pre {margin: 0.2em;color: black;border-radius: 0.25em;background-color: #f0f8ff;}#sk-container-id-3 input.sk-toggleable__control:checked~div.sk-toggleable__content {max-height: 200px;max-width: 100%;overflow: auto;}#sk-container-id-3 input.sk-toggleable__control:checked~label.sk-toggleable__label-arrow:before {content: \"▾\";}#sk-container-id-3 div.sk-estimator input.sk-toggleable__control:checked~label.sk-toggleable__label {background-color: #d4ebff;}#sk-container-id-3 div.sk-label input.sk-toggleable__control:checked~label.sk-toggleable__label {background-color: #d4ebff;}#sk-container-id-3 input.sk-hidden--visually {border: 0;clip: rect(1px 1px 1px 1px);clip: rect(1px, 1px, 1px, 1px);height: 1px;margin: -1px;overflow: hidden;padding: 0;position: absolute;width: 1px;}#sk-container-id-3 div.sk-estimator {font-family: monospace;background-color: #f0f8ff;border: 1px dotted black;border-radius: 0.25em;box-sizing: border-box;margin-bottom: 0.5em;}#sk-container-id-3 div.sk-estimator:hover {background-color: #d4ebff;}#sk-container-id-3 div.sk-parallel-item::after {content: \"\";width: 100%;border-bottom: 1px solid gray;flex-grow: 1;}#sk-container-id-3 div.sk-label:hover label.sk-toggleable__label {background-color: #d4ebff;}#sk-container-id-3 div.sk-serial::before {content: \"\";position: absolute;border-left: 1px solid gray;box-sizing: border-box;top: 0;bottom: 0;left: 50%;z-index: 0;}#sk-container-id-3 div.sk-serial {display: flex;flex-direction: column;align-items: center;background-color: white;padding-right: 0.2em;padding-left: 0.2em;position: relative;}#sk-container-id-3 div.sk-item {position: relative;z-index: 1;}#sk-container-id-3 div.sk-parallel {display: flex;align-items: stretch;justify-content: center;background-color: white;position: relative;}#sk-container-id-3 div.sk-item::before, #sk-container-id-3 div.sk-parallel-item::before {content: \"\";position: absolute;border-left: 1px solid gray;box-sizing: border-box;top: 0;bottom: 0;left: 50%;z-index: -1;}#sk-container-id-3 div.sk-parallel-item {display: flex;flex-direction: column;z-index: 1;position: relative;background-color: white;}#sk-container-id-3 div.sk-parallel-item:first-child::after {align-self: flex-end;width: 50%;}#sk-container-id-3 div.sk-parallel-item:last-child::after {align-self: flex-start;width: 50%;}#sk-container-id-3 div.sk-parallel-item:only-child::after {width: 0;}#sk-container-id-3 div.sk-dashed-wrapped {border: 1px dashed gray;margin: 0 0.4em 0.5em 0.4em;box-sizing: border-box;padding-bottom: 0.4em;background-color: white;}#sk-container-id-3 div.sk-label label {font-family: monospace;font-weight: bold;display: inline-block;line-height: 1.2em;}#sk-container-id-3 div.sk-label-container {text-align: center;}#sk-container-id-3 div.sk-container {/* jupyter's `normalize.less` sets `[hidden] { display: none; }` but bootstrap.min.css set `[hidden] { display: none !important; }` so we also need the `!important` here to be able to override the default hidden behavior on the sphinx rendered scikit-learn.org. See: https://github.com/scikit-learn/scikit-learn/issues/21755 */display: inline-block !important;position: relative;}#sk-container-id-3 div.sk-text-repr-fallback {display: none;}</style><div id=\"sk-container-id-3\" class=\"sk-top-container\"><div class=\"sk-text-repr-fallback\"><pre>Pipeline(steps=[(&#x27;SC&#x27;, StandardScaler()),\n",
       "                (&#x27;LR&#x27;, LogisticRegression(random_state=0))])</pre><b>In a Jupyter environment, please rerun this cell to show the HTML representation or trust the notebook. <br />On GitHub, the HTML representation is unable to render, please try loading this page with nbviewer.org.</b></div><div class=\"sk-container\" hidden><div class=\"sk-item sk-dashed-wrapped\"><div class=\"sk-label-container\"><div class=\"sk-label sk-toggleable\"><input class=\"sk-toggleable__control sk-hidden--visually\" id=\"sk-estimator-id-5\" type=\"checkbox\" ><label for=\"sk-estimator-id-5\" class=\"sk-toggleable__label sk-toggleable__label-arrow\">Pipeline</label><div class=\"sk-toggleable__content\"><pre>Pipeline(steps=[(&#x27;SC&#x27;, StandardScaler()),\n",
       "                (&#x27;LR&#x27;, LogisticRegression(random_state=0))])</pre></div></div></div><div class=\"sk-serial\"><div class=\"sk-item\"><div class=\"sk-estimator sk-toggleable\"><input class=\"sk-toggleable__control sk-hidden--visually\" id=\"sk-estimator-id-6\" type=\"checkbox\" ><label for=\"sk-estimator-id-6\" class=\"sk-toggleable__label sk-toggleable__label-arrow\">StandardScaler</label><div class=\"sk-toggleable__content\"><pre>StandardScaler()</pre></div></div></div><div class=\"sk-item\"><div class=\"sk-estimator sk-toggleable\"><input class=\"sk-toggleable__control sk-hidden--visually\" id=\"sk-estimator-id-7\" type=\"checkbox\" ><label for=\"sk-estimator-id-7\" class=\"sk-toggleable__label sk-toggleable__label-arrow\">LogisticRegression</label><div class=\"sk-toggleable__content\"><pre>LogisticRegression(random_state=0)</pre></div></div></div></div></div></div></div>"
      ],
      "text/plain": [
       "Pipeline(steps=[('SC', StandardScaler()),\n",
       "                ('LR', LogisticRegression(random_state=0))])"
      ]
     },
     "execution_count": 127,
     "metadata": {},
     "output_type": "execute_result"
    }
   ],
   "source": [
    "# 파이프라인 학습-스케일링, 모델학습\n",
    "pipe.fit(X_train, y_train)"
   ]
  },
  {
   "cell_type": "code",
   "execution_count": 128,
   "id": "61fd4924-d749-488c-b573-c7a46a249e19",
   "metadata": {},
   "outputs": [
    {
     "name": "stdout",
     "output_type": "stream",
     "text": [
      "0.8246753246753247\n"
     ]
    }
   ],
   "source": [
    "# 파이프라인 예측 - 스케일링, 모델예측\n",
    "pred=pipe.predict(X_test)  # 스케일링과 학습까지도 해줌\n",
    "\n",
    "print(accuracy_score(y_test, pred))  #성능과 상관없음, 과정은 간소화함"
   ]
  },
  {
   "cell_type": "code",
   "execution_count": 133,
   "id": "a0156018-b156-48c2-a53f-3f85ad083b8c",
   "metadata": {},
   "outputs": [
    {
     "data": {
      "text/html": [
       "<style>#sk-container-id-5 {color: black;}#sk-container-id-5 pre{padding: 0;}#sk-container-id-5 div.sk-toggleable {background-color: white;}#sk-container-id-5 label.sk-toggleable__label {cursor: pointer;display: block;width: 100%;margin-bottom: 0;padding: 0.3em;box-sizing: border-box;text-align: center;}#sk-container-id-5 label.sk-toggleable__label-arrow:before {content: \"▸\";float: left;margin-right: 0.25em;color: #696969;}#sk-container-id-5 label.sk-toggleable__label-arrow:hover:before {color: black;}#sk-container-id-5 div.sk-estimator:hover label.sk-toggleable__label-arrow:before {color: black;}#sk-container-id-5 div.sk-toggleable__content {max-height: 0;max-width: 0;overflow: hidden;text-align: left;background-color: #f0f8ff;}#sk-container-id-5 div.sk-toggleable__content pre {margin: 0.2em;color: black;border-radius: 0.25em;background-color: #f0f8ff;}#sk-container-id-5 input.sk-toggleable__control:checked~div.sk-toggleable__content {max-height: 200px;max-width: 100%;overflow: auto;}#sk-container-id-5 input.sk-toggleable__control:checked~label.sk-toggleable__label-arrow:before {content: \"▾\";}#sk-container-id-5 div.sk-estimator input.sk-toggleable__control:checked~label.sk-toggleable__label {background-color: #d4ebff;}#sk-container-id-5 div.sk-label input.sk-toggleable__control:checked~label.sk-toggleable__label {background-color: #d4ebff;}#sk-container-id-5 input.sk-hidden--visually {border: 0;clip: rect(1px 1px 1px 1px);clip: rect(1px, 1px, 1px, 1px);height: 1px;margin: -1px;overflow: hidden;padding: 0;position: absolute;width: 1px;}#sk-container-id-5 div.sk-estimator {font-family: monospace;background-color: #f0f8ff;border: 1px dotted black;border-radius: 0.25em;box-sizing: border-box;margin-bottom: 0.5em;}#sk-container-id-5 div.sk-estimator:hover {background-color: #d4ebff;}#sk-container-id-5 div.sk-parallel-item::after {content: \"\";width: 100%;border-bottom: 1px solid gray;flex-grow: 1;}#sk-container-id-5 div.sk-label:hover label.sk-toggleable__label {background-color: #d4ebff;}#sk-container-id-5 div.sk-serial::before {content: \"\";position: absolute;border-left: 1px solid gray;box-sizing: border-box;top: 0;bottom: 0;left: 50%;z-index: 0;}#sk-container-id-5 div.sk-serial {display: flex;flex-direction: column;align-items: center;background-color: white;padding-right: 0.2em;padding-left: 0.2em;position: relative;}#sk-container-id-5 div.sk-item {position: relative;z-index: 1;}#sk-container-id-5 div.sk-parallel {display: flex;align-items: stretch;justify-content: center;background-color: white;position: relative;}#sk-container-id-5 div.sk-item::before, #sk-container-id-5 div.sk-parallel-item::before {content: \"\";position: absolute;border-left: 1px solid gray;box-sizing: border-box;top: 0;bottom: 0;left: 50%;z-index: -1;}#sk-container-id-5 div.sk-parallel-item {display: flex;flex-direction: column;z-index: 1;position: relative;background-color: white;}#sk-container-id-5 div.sk-parallel-item:first-child::after {align-self: flex-end;width: 50%;}#sk-container-id-5 div.sk-parallel-item:last-child::after {align-self: flex-start;width: 50%;}#sk-container-id-5 div.sk-parallel-item:only-child::after {width: 0;}#sk-container-id-5 div.sk-dashed-wrapped {border: 1px dashed gray;margin: 0 0.4em 0.5em 0.4em;box-sizing: border-box;padding-bottom: 0.4em;background-color: white;}#sk-container-id-5 div.sk-label label {font-family: monospace;font-weight: bold;display: inline-block;line-height: 1.2em;}#sk-container-id-5 div.sk-label-container {text-align: center;}#sk-container-id-5 div.sk-container {/* jupyter's `normalize.less` sets `[hidden] { display: none; }` but bootstrap.min.css set `[hidden] { display: none !important; }` so we also need the `!important` here to be able to override the default hidden behavior on the sphinx rendered scikit-learn.org. See: https://github.com/scikit-learn/scikit-learn/issues/21755 */display: inline-block !important;position: relative;}#sk-container-id-5 div.sk-text-repr-fallback {display: none;}</style><div id=\"sk-container-id-5\" class=\"sk-top-container\"><div class=\"sk-text-repr-fallback\"><pre>GridSearchCV(cv=3,\n",
       "             estimator=Pipeline(steps=[(&#x27;SC&#x27;, StandardScaler()),\n",
       "                                       (&#x27;LR&#x27;,\n",
       "                                        LogisticRegression(random_state=0))]),\n",
       "             param_grid={&#x27;LR__c&#x27;: [0.01, 0.1]}, scoring=&#x27;accuracy&#x27;)</pre><b>In a Jupyter environment, please rerun this cell to show the HTML representation or trust the notebook. <br />On GitHub, the HTML representation is unable to render, please try loading this page with nbviewer.org.</b></div><div class=\"sk-container\" hidden><div class=\"sk-item sk-dashed-wrapped\"><div class=\"sk-label-container\"><div class=\"sk-label sk-toggleable\"><input class=\"sk-toggleable__control sk-hidden--visually\" id=\"sk-estimator-id-12\" type=\"checkbox\" ><label for=\"sk-estimator-id-12\" class=\"sk-toggleable__label sk-toggleable__label-arrow\">GridSearchCV</label><div class=\"sk-toggleable__content\"><pre>GridSearchCV(cv=3,\n",
       "             estimator=Pipeline(steps=[(&#x27;SC&#x27;, StandardScaler()),\n",
       "                                       (&#x27;LR&#x27;,\n",
       "                                        LogisticRegression(random_state=0))]),\n",
       "             param_grid={&#x27;LR__c&#x27;: [0.01, 0.1]}, scoring=&#x27;accuracy&#x27;)</pre></div></div></div><div class=\"sk-parallel\"><div class=\"sk-parallel-item\"><div class=\"sk-item\"><div class=\"sk-label-container\"><div class=\"sk-label sk-toggleable\"><input class=\"sk-toggleable__control sk-hidden--visually\" id=\"sk-estimator-id-13\" type=\"checkbox\" ><label for=\"sk-estimator-id-13\" class=\"sk-toggleable__label sk-toggleable__label-arrow\">estimator: Pipeline</label><div class=\"sk-toggleable__content\"><pre>Pipeline(steps=[(&#x27;SC&#x27;, StandardScaler()),\n",
       "                (&#x27;LR&#x27;, LogisticRegression(random_state=0))])</pre></div></div></div><div class=\"sk-serial\"><div class=\"sk-item\"><div class=\"sk-serial\"><div class=\"sk-item\"><div class=\"sk-estimator sk-toggleable\"><input class=\"sk-toggleable__control sk-hidden--visually\" id=\"sk-estimator-id-14\" type=\"checkbox\" ><label for=\"sk-estimator-id-14\" class=\"sk-toggleable__label sk-toggleable__label-arrow\">StandardScaler</label><div class=\"sk-toggleable__content\"><pre>StandardScaler()</pre></div></div></div><div class=\"sk-item\"><div class=\"sk-estimator sk-toggleable\"><input class=\"sk-toggleable__control sk-hidden--visually\" id=\"sk-estimator-id-15\" type=\"checkbox\" ><label for=\"sk-estimator-id-15\" class=\"sk-toggleable__label sk-toggleable__label-arrow\">LogisticRegression</label><div class=\"sk-toggleable__content\"><pre>LogisticRegression(random_state=0)</pre></div></div></div></div></div></div></div></div></div></div></div></div>"
      ],
      "text/plain": [
       "GridSearchCV(cv=3,\n",
       "             estimator=Pipeline(steps=[('SC', StandardScaler()),\n",
       "                                       ('LR',\n",
       "                                        LogisticRegression(random_state=0))]),\n",
       "             param_grid={'LR__c': [0.01, 0.1]}, scoring='accuracy')"
      ]
     },
     "execution_count": 133,
     "metadata": {},
     "output_type": "execute_result"
    }
   ],
   "source": [
    "# 파이프라인 + GridSearchCV (방법1)\n",
    "# GridSearchCV(lr_clf, param_grid={'c': [0.01,0.1]})\n",
    "params={'LR__c': [0.01,0.1]}   # 모델의 이름에 변수를 합쳐 쓴다\n",
    "GridSearchCV(pipe, param_grid=params,scoring='accuracy', cv=3)"
   ]
  },
  {
   "cell_type": "code",
   "execution_count": 132,
   "id": "0e1a3b7f-3a71-43e1-b19b-1c29c6af50a8",
   "metadata": {},
   "outputs": [
    {
     "ename": "AttributeError",
     "evalue": "'GridSearchCV' object has no attribute 'cv_results_'",
     "output_type": "error",
     "traceback": [
      "\u001b[1;31m---------------------------------------------------------------------------\u001b[0m",
      "\u001b[1;31mAttributeError\u001b[0m                            Traceback (most recent call last)",
      "Cell \u001b[1;32mIn[132], line 1\u001b[0m\n\u001b[1;32m----> 1\u001b[0m pd\u001b[38;5;241m.\u001b[39mDataFrame(grid\u001b[38;5;241m.\u001b[39mcv_results_)\n",
      "\u001b[1;31mAttributeError\u001b[0m: 'GridSearchCV' object has no attribute 'cv_results_'"
     ]
    }
   ],
   "source": [
    "pd.DataFrame(grid.cv_results_)  # 검토"
   ]
  },
  {
   "cell_type": "code",
   "execution_count": null,
   "id": "28e07963-7115-4522-8a34-6ab37199f379",
   "metadata": {},
   "outputs": [],
   "source": [
    "# 데이터 전체 과정 진행하는 모델 만들기 가능/ pipeline 과 ColumnTransformer 사용\n",
    "\n",
    "from sklearn.compose import ColumnTransformer\n"
   ]
  },
  {
   "cell_type": "code",
   "execution_count": null,
   "id": "2d6b57a2-7fd0-4117-9773-eaa0219744ed",
   "metadata": {},
   "outputs": [],
   "source": []
  },
  {
   "cell_type": "code",
   "execution_count": null,
   "id": "929a219c-b8fa-4bc9-a22a-a20ee45f6220",
   "metadata": {},
   "outputs": [],
   "source": []
  },
  {
   "cell_type": "code",
   "execution_count": null,
   "id": "d45a0927-f8c7-4bda-a018-556894f2a380",
   "metadata": {},
   "outputs": [],
   "source": []
  }
 ],
 "metadata": {
  "kernelspec": {
   "display_name": "Python 3 (ipykernel)",
   "language": "python",
   "name": "python3"
  },
  "language_info": {
   "codemirror_mode": {
    "name": "ipython",
    "version": 3
   },
   "file_extension": ".py",
   "mimetype": "text/x-python",
   "name": "python",
   "nbconvert_exporter": "python",
   "pygments_lexer": "ipython3",
   "version": "3.11.5"
  }
 },
 "nbformat": 4,
 "nbformat_minor": 5
}
