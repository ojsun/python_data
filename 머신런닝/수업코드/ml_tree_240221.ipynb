{
 "cells": [
  {
   "cell_type": "code",
   "execution_count": null,
   "id": "757cd052-ff9d-48b4-a3ca-8e9c2af2ec29",
   "metadata": {},
   "outputs": [],
   "source": [
    "import pandas as pd\n",
    "import numpy as np\n",
    "from sklearn.tree import DecisionTreeClassifier, plot_tree\n",
    "from sklearn.datasets import load_wine\n",
    "from sklearn.model_selection import train_test_split, GridSearchCV\n",
    "from sklearn.metrics import accuracy_score,f1_score, roc_auc_score\n",
    "import matplotlib.pyplot as plt"
   ]
  },
  {
   "cell_type": "code",
   "execution_count": null,
   "id": "cfeaaf99-2194-4b3a-be4e-38dd8cea049c",
   "metadata": {},
   "outputs": [],
   "source": [
    "import warnings\n",
    "warnings.filterwarnings('ignore')"
   ]
  },
  {
   "cell_type": "code",
   "execution_count": null,
   "id": "b045b062-8e70-4073-8849-ce00869eadf0",
   "metadata": {},
   "outputs": [],
   "source": [
    "wine = load_wine()\n",
    "df = pd.DataFrame(wine.data, columns=wine.feature_names)\n",
    "df['class'] = wine.target\n",
    "print(wine.target_names)\n",
    "df.head()"
   ]
  },
  {
   "cell_type": "code",
   "execution_count": null,
   "id": "add8eea4-d70c-4e27-8443-ea06c83e57fb",
   "metadata": {},
   "outputs": [],
   "source": [
    "from sklearn.model_selection import train_test_split\n",
    "X_data = wine.data\n",
    "y_data = wine.target\n",
    "X_train, X_test, y_train, y_test = train_test_split(X_data, y_data, \n",
    "                                test_size=0.2, random_state= 156)\n",
    "print(X_train.shape, X_test.shape)\n",
    "print(y_train.shape, y_test.shape)"
   ]
  },
  {
   "cell_type": "code",
   "execution_count": null,
   "id": "0edba158-cb8b-48e1-bae8-d458ee18a7bf",
   "metadata": {},
   "outputs": [],
   "source": [
    "dt_clf = DecisionTreeClassifier()\n",
    "dt_clf.fit(X_train , y_train)\n",
    "pred = dt_clf.predict(X_test)\n",
    "pred_proba = dt_clf.predict_proba(X_test)\n",
    "accuracy = accuracy_score(y_test , pred)\n",
    "print('예측 정확도: {0:.4f}'.format(accuracy))\n",
    "print(f1_score(y_test, pred, average='macro'))\n",
    "print( roc_auc_score(y_test, pred_proba, multi_class='ovo'))"
   ]
  },
  {
   "cell_type": "code",
   "execution_count": null,
   "id": "6e0d2074-e50b-4153-956b-e30939db4ce9",
   "metadata": {},
   "outputs": [],
   "source": [
    "#그래프 그리기: 사이킷런(plot_tree), Graphviz 방식\n",
    "from sklearn.tree import plot_tree\n",
    "plt.figure(figsize=(12,10))\n",
    "plot_tree(dt_clf, filled=True, feature_names=wine.feature_names, class_names=list(wine.target_names),fontsize=8)"
   ]
  },
  {
   "cell_type": "code",
   "execution_count": null,
   "id": "114d97bd-0afe-485b-bdb0-5f28136432e2",
   "metadata": {},
   "outputs": [],
   "source": [
    "# 과적합 확인하는 방법\n",
    "# cross_val_score: 학습데이터 평가점수 vs 테스트데이터 평가점수 --> 비슷해야함\n",
    "# max_dept 적은 수 /min_samples_split: split 하는 최소 샘플 수 /min_samples_leaf: 리프노드에 있을 최소 샘플갯수\n",
    "\n",
    "from sklearn.model_selection import cross_val_score\n",
    "dt_clf=DecisionTreeClassifier(random_state=0)\n",
    "dt_clf.fit(X_train, y_train)\n",
    "scores=cross_val_score(dt_clf, X_train, y_train, scoring='accuracy', cv=5)\n",
    "print('교차검증 평균 평가',scores.mean())\n",
    "print('테스트데이터 평가점수',accuracy_score(y_test, dt_clf.predict(X_test)))\n",
    "\n",
    "# 점수 차이가 많지않으므로 학습이 제대로 됨/ 과적합 아님"
   ]
  },
  {
   "cell_type": "code",
   "execution_count": null,
   "id": "149e027e-9ab5-40fb-996f-d07622708e36",
   "metadata": {},
   "outputs": [],
   "source": [
    "from sklearn.model_selection import GridSearchCV\n",
    "dt_clf=DecisionTreeClassifier()\n",
    "parameters = {'criterion':['gini', 'entropy'],'max_depth':[None, 2, 3, 5, 7], \n",
    "                'min_samples_split':[10,20,40,10,50],'min_samples_leaf':[1,3,5,7]}\n",
    "grid_dt = GridSearchCV(dt_clf, param_grid=parameters, cv=5, scoring='f1_macro', verbose=True)\n",
    "grid_dt.fit(X_train, y_train)\n",
    "scores_df = pd.DataFrame(grid_dt.cv_results_)\n",
    "scores_df[['params', 'mean_test_score', 'rank_test_score']]"
   ]
  },
  {
   "cell_type": "code",
   "execution_count": null,
   "id": "476934ec-2691-4e88-a41d-dc324297935d",
   "metadata": {},
   "outputs": [],
   "source": [
    "model = grid_dt.best_estimator_\n",
    "pred = model.predict(X_test)\n",
    "accuracy_score(y_test, pred)"
   ]
  },
  {
   "cell_type": "code",
   "execution_count": null,
   "id": "3fabf5a1-89b8-43d2-980d-b011256880e2",
   "metadata": {},
   "outputs": [],
   "source": [
    "print('GridSearchCV 최적 파라미터 :', grid_dt.best_params_)\n",
    "print(f'GridSearchCV 최고 정확도 : {grid_dt.best_score_:.4f}')"
   ]
  },
  {
   "cell_type": "code",
   "execution_count": null,
   "id": "e1703948-9796-4d1d-92b7-240c61a0bf18",
   "metadata": {},
   "outputs": [],
   "source": [
    "grid_dt.best_params_"
   ]
  },
  {
   "cell_type": "code",
   "execution_count": null,
   "id": "0ca7aa87-5946-4176-90d5-400838d0363c",
   "metadata": {},
   "outputs": [],
   "source": [
    "type(model)"
   ]
  },
  {
   "cell_type": "code",
   "execution_count": null,
   "id": "bf7ac7e5-5efd-4796-a484-179b46b253ad",
   "metadata": {
    "scrolled": true
   },
   "outputs": [],
   "source": [
    "# 피처 중요도 그래프\n",
    "import seaborn as sns\n",
    "import pandas as pd\n",
    "import matplotlib.pyplot as plt\n",
    "ftr_importances_values = model.feature_importances_\n",
    "ftr_importances = pd.Series(ftr_importances_values,index=wine.feature_names )\n",
    "ftr_top20 = ftr_importances.sort_values(ascending=False)[:20]\n",
    "plt.figure(figsize=(8,6))\n",
    "plt.title('Feature importances Top 20')\n",
    "sns.barplot(x=ftr_top20 , y = ftr_top20.index)\n",
    "plt.show()"
   ]
  },
  {
   "cell_type": "code",
   "execution_count": null,
   "id": "10c47e67-bd8d-4b78-9153-7551f46116f4",
   "metadata": {},
   "outputs": [],
   "source": []
  },
  {
   "cell_type": "code",
   "execution_count": null,
   "id": "001d4d71-775b-4b58-bd7b-699b593e7bd1",
   "metadata": {},
   "outputs": [],
   "source": [
    "ftr_top20 = ftr_importances.sort_values(ascending=False)[:20]"
   ]
  },
  {
   "cell_type": "code",
   "execution_count": null,
   "id": "37bf5caa-825c-4096-bbf1-6f64c4566e1c",
   "metadata": {},
   "outputs": [],
   "source": [
    "x1=df.iloc[:, :-1]\n",
    "x2=df[['alcohol','malic_acid','ash','alcalinity_of_ash']]\n",
    "y=df.iloc[:,-1]\n",
    "X1_train, X1_test, y_train, y_test = train_test_split(x1, y, \n",
    "                                test_size=0.2, random_state= 0)\n",
    "X2_train, X2_test, y_train, y_test = train_test_split(x2, y, \n",
    "                                test_size=0.1, random_state= 0)"
   ]
  },
  {
   "cell_type": "code",
   "execution_count": null,
   "id": "a3d980b3-95b5-4759-810d-8eb3ea109c58",
   "metadata": {},
   "outputs": [],
   "source": [
    "t_clf1 = DecisionTreeClassifier(criterion='gini', max_depth=None, \n",
    "                                min_samples_leaf=1, min_samples_split=40,\n",
    "                                random_state=0)\n",
    "\n",
    "dt_clf2 = DecisionTreeClassifier(criterion='gini', max_depth=None, \n",
    "                                min_samples_leaf=1, min_samples_split=40,\n",
    "                                random_state=0)"
   ]
  },
  {
   "cell_type": "code",
   "execution_count": null,
   "id": "0cc90704-c6e8-42d8-95d2-5ed3447d5378",
   "metadata": {},
   "outputs": [],
   "source": []
  },
  {
   "cell_type": "code",
   "execution_count": null,
   "id": "37b6f75b-74f5-4e05-baca-d695ad5f2528",
   "metadata": {},
   "outputs": [],
   "source": []
  },
  {
   "cell_type": "code",
   "execution_count": null,
   "id": "3cd16f66-9627-4004-be80-711d233f1545",
   "metadata": {},
   "outputs": [],
   "source": [
    "from sklearn.ensemble import VotingClassifier, RandomForestClassifier\n",
    "# from sklearn.datasets import "
   ]
  },
  {
   "cell_type": "code",
   "execution_count": null,
   "id": "b8f3ab86-4b70-4f28-9e0f-119abf1420ef",
   "metadata": {},
   "outputs": [],
   "source": [
    "# VotingClassifier 보팅분류기\n",
    "import pandas as pd\n",
    "from sklearn.ensemble import VotingClassifier\n",
    "from sklearn.linear_model import LogisticRegression\n",
    "from sklearn.neighbors import KNeighborsClassifier\n",
    "from sklearn.tree import DecisionTreeClassifier\n",
    "from sklearn.datasets import load_breast_cancer\n",
    "from sklearn.model_selection import train_test_split\n",
    "from sklearn.metrics import accuracy_score\n",
    "\n",
    "cancer = load_breast_cancer()\n",
    "data_df = pd.DataFrame(cancer.data, columns=cancer.feature_names)\n",
    "data_df.head(3)"
   ]
  },
  {
   "cell_type": "code",
   "execution_count": null,
   "id": "fe5f04d0-1096-44c7-a27e-7e4236b37146",
   "metadata": {},
   "outputs": [],
   "source": [
    "from sklearn.ensemble import RandomForestClassifier\n",
    "rd_clf=RandomForestClassifier()\n",
    "lr_clf = LogisticRegression(solver='liblinear')\n",
    "dt_clf = DecisionTreeClassifier(random_state=0)\n",
    "knn_clf= KNeighborsClassifier()\n",
    "vo_clf = VotingClassifier(estimators=[('LR',lr_clf), ('DT',dt_clf), \n",
    "                                      ('KNN', knn_clf)], voting='soft')  # DT,LR 등앞에 맘대로 아무렇게나 넣어도 된\n",
    "\n",
    "X_train, X_test, y_train, y_test = train_test_split(cancer.data, cancer.target, \n",
    "                    test_size=0.2 , random_state= 0)\n",
    "vo_clf.fit(X_train , y_train)\n",
    "pred = vo_clf.predict(X_test)\n",
    "print(f'Voting 분류기 정확도: {accuracy_score(y_test,pred):.4f}')"
   ]
  },
  {
   "cell_type": "code",
   "execution_count": null,
   "id": "2759bb86-4669-401b-aa63-ca922f8972d9",
   "metadata": {},
   "outputs": [],
   "source": [
    "vo_clf.fit(X_train , y_train)"
   ]
  },
  {
   "cell_type": "code",
   "execution_count": null,
   "id": "04fdd945-17b3-46d7-bf5d-52b8d13c49a6",
   "metadata": {},
   "outputs": [],
   "source": [
    "classifiers = [lr_clf, dt_clf, knn_clf]\n",
    "for clf in classifiers:\n",
    "    clf.fit(X_train , y_train)\n",
    "    pred = clf.predict(X_test)\n",
    "    class_name= clf.__class__.__name__\n",
    "    print(f'{class_name} 정확도: {accuracy_score(y_test, pred):.4f}')"
   ]
  },
  {
   "cell_type": "code",
   "execution_count": null,
   "id": "21f2afe8-9ec1-4149-9a73-8760d3852de9",
   "metadata": {},
   "outputs": [],
   "source": [
    "classifiers = [lr_clf, dt_clf, rd_clf]\n",
    "preds=[]\n",
    "for clf in classifiers:\n",
    "    clf.fit(X_train , y_train)\n",
    "    pred = clf.predict_proba(X_test)\n",
    "    preds.append(pred_proba)\n",
    "pred_probas= np.sum(preds, axis=0)\n",
    "(pred_probas[:-1] >= 1.5).astype(int)"
   ]
  },
  {
   "cell_type": "code",
   "execution_count": null,
   "id": "592a31ee-c33c-44e8-adb4-f6a8f28552f2",
   "metadata": {},
   "outputs": [],
   "source": [
    "plot_tree(vo_clf.estimators_[1])  # 학습된 알고리즘"
   ]
  },
  {
   "cell_type": "code",
   "execution_count": null,
   "id": "f1a11d5a-f066-4c01-b840-f0ca19619967",
   "metadata": {},
   "outputs": [],
   "source": [
    "vo_clf.named_estimators_['DT']  # 학습된 알고리즘들"
   ]
  },
  {
   "cell_type": "code",
   "execution_count": null,
   "id": "06e25d6e-ed6b-47af-88f9-1ca11915a0bb",
   "metadata": {},
   "outputs": [],
   "source": [
    "## 배깅 분류기 - 랜덤포레스트 / 많이 사용함-간단함"
   ]
  },
  {
   "cell_type": "code",
   "execution_count": null,
   "id": "33160565-5475-4ea6-b04e-b41cc9ed7866",
   "metadata": {},
   "outputs": [],
   "source": [
    "# 랜덤포레스트 RandomForestClassifier  == 그냥 해보림\n",
    "from sklearn.ensemble import RandomForestClassifier\n",
    "cancer = load_breast_cancer()\n",
    "X_train, X_test, y_train, y_test = train_test_split(cancer.data, cancer.target, \n",
    "                    test_size=0.2 , random_state= 0)\n",
    "rf_clf = RandomForestClassifier(random_state=0)\n",
    "rf_clf.fit(X_train , y_train)\n",
    "pred = rf_clf.predict(X_test)\n",
    "accuracy = accuracy_score(y_test , pred)\n",
    "print(f'랜덤 포레스트 정확도: {accuracy:.4f}')"
   ]
  },
  {
   "cell_type": "code",
   "execution_count": null,
   "id": "babba89a-d026-4511-b146-3d049fd864b0",
   "metadata": {},
   "outputs": [],
   "source": [
    " # 배깅기법 사용/ 랜덤포레스트와 거의 비슷  => 랜덤포레스르을 사용할 것\n",
    "from sklearn.ensemble import BaggingClassifier \n",
    "\n",
    "ba_clf=BaggingClassifier(estimator=dt_clf,n_estimators=100, max_samples=0.8, max_features=0.8 )\n",
    "ba_clf.fit(X_train, y_train)\n",
    "pred=ba_clf.predict(X_test)\n",
    "\n",
    "accuracy_score(y_test, pred)"
   ]
  },
  {
   "cell_type": "code",
   "execution_count": null,
   "id": "76bf0a61-937f-440b-a50d-bdce9c844330",
   "metadata": {},
   "outputs": [],
   "source": [
    "# 랜덤포레스트와 비교 _ 차이가 별로 없음\n",
    "rf_clf.fit(X_train , y_train)\n",
    "pred = rf_clf.predict(X_test)\n",
    "accuracy_score(y_test , pred)"
   ]
  },
  {
   "cell_type": "code",
   "execution_count": null,
   "id": "24477535-1e10-4324-9e6c-2f5ca6bfd443",
   "metadata": {},
   "outputs": [],
   "source": [
    "rf_clf.feature_importances_"
   ]
  },
  {
   "cell_type": "code",
   "execution_count": null,
   "id": "49815323-aa3c-43e1-b120-69bb2354926c",
   "metadata": {},
   "outputs": [],
   "source": [
    "# 중요도 그래프 그리기 \n",
    "ftr_importances_values = rf_clf.feature_importances_\n",
    "ftr_importances = pd.Series(ftr_importances_values, index=cancer.feature_names )\n",
    "ftr_top20 = ftr_importances.sort_values(ascending=False)[:20]\n",
    "plt.figure(figsize=(8,6))\n",
    "plt.title('Feature importances Top 20')\n",
    "sns.barplot(x=ftr_top20 , y = ftr_top20.index)"
   ]
  },
  {
   "cell_type": "code",
   "execution_count": null,
   "id": "ec45e695-b320-4fbb-9fd3-634d84a58bf4",
   "metadata": {},
   "outputs": [],
   "source": [
    "# 랜덤포레스트 파이퍼 파라미터 튜닝 GridSearchCV\n",
    "params = {'n_estimators':[100], 'max_depth' : [6, 8, 10, 12], \n",
    "            'min_samples_leaf' : [8, 12, 18 ],'min_samples_split' : [8, 16, 20]}\n",
    "rf_clf = RandomForestClassifier(random_state=0)\n",
    "grid_cv = GridSearchCV(rf_clf , param_grid=params , cv=3, n_jobs=-1, verbose=True)\n",
    "grid_cv.fit(X_train , y_train)\n",
    "\n",
    "print('GridSearchCV 최적 파라미터:', grid_cv.best_params_)\n",
    "print(f'GridSearchCV 최고 정확도: {grid_cv.best_score_:.4f}')\n",
    "model = grid_cv.best_estimator_\n",
    "pred = model.predict(X_test)\n",
    "accuracy_score(y_test, pred)"
   ]
  },
  {
   "cell_type": "code",
   "execution_count": null,
   "id": "a98a56d4-b42b-4610-9608-813d6cb442bb",
   "metadata": {},
   "outputs": [],
   "source": [
    "# 랜텀포레스트와 디시젼트리와의 비교 \n",
    "\n",
    "X_train, X_test, y_train, y_test = train_test_split(cancer.data, cancer.target, \n",
    "                    test_size=0.2 , random_state= 0)\n",
    "\n",
    "dt_clf=DecisionTreeClassifier(random_state=0)\n",
    "rf_clf=RandomForestClassifier(random_state=0)\n",
    "\n",
    "dt_clf.fit(X_train,y_train)\n",
    "rf_clf.fit(X_train,y_train)\n",
    "\n",
    "pred1=dt_clf.predict(X_test)\n",
    "pred2=rf_clf.predict(X_test)\n",
    "\n",
    "print('DecisionTree 정확도', accuracy_score(y_test, pred1))\n",
    "print('RandomForest 정확도', accuracy_score(y_test, pred2))"
   ]
  },
  {
   "cell_type": "code",
   "execution_count": null,
   "id": "982bac55-e8b3-4ab8-ba7b-cc797cb0d647",
   "metadata": {},
   "outputs": [],
   "source": [
    "from sklearn.ensemble import GradientBoostingClassifier\n",
    "cancer = load_breast_cancer()\n",
    "X_train, X_test, y_train, y_test = train_test_split(cancer.data, cancer.target, \n",
    "                    test_size=0.2 , random_state= 0)\n",
    "gb_clf = GradientBoostingClassifier( n_estimators=200, random_state=0)\n",
    "gb_clf.fit(X_train , y_train)\n",
    "gb_pred = gb_clf.predict(X_test)\n",
    "gb_accuracy = accuracy_score(y_test, gb_pred)\n",
    "\n",
    "print(f'GBM 정확도: {gb_accuracy:.4f}')"
   ]
  },
  {
   "cell_type": "code",
   "execution_count": null,
   "id": "7c291f99-7c88-4a57-ad31-96de3343c7dc",
   "metadata": {},
   "outputs": [],
   "source": []
  },
  {
   "cell_type": "code",
   "execution_count": null,
   "id": "ac67cd14-068d-457b-8d94-5af2a0863c27",
   "metadata": {},
   "outputs": [],
   "source": []
  },
  {
   "cell_type": "code",
   "execution_count": null,
   "id": "8169d793-2ecc-47e6-8c61-99c9f02198e8",
   "metadata": {},
   "outputs": [],
   "source": []
  }
 ],
 "metadata": {
  "kernelspec": {
   "display_name": "Python 3 (ipykernel)",
   "language": "python",
   "name": "python3"
  },
  "language_info": {
   "codemirror_mode": {
    "name": "ipython",
    "version": 3
   },
   "file_extension": ".py",
   "mimetype": "text/x-python",
   "name": "python",
   "nbconvert_exporter": "python",
   "pygments_lexer": "ipython3",
   "version": "3.11.5"
  }
 },
 "nbformat": 4,
 "nbformat_minor": 5
}
