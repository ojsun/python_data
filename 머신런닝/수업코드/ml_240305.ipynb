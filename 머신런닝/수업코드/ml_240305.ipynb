{
 "cells": [
  {
   "cell_type": "code",
   "execution_count": null,
   "id": "9279ba51-3516-4f90-8821-a5a9f65fe06e",
   "metadata": {},
   "outputs": [],
   "source": [
    "import matplotlib.pyplot as plt\n",
    "import seaborn as sns\n",
    "import pandas as pd\n",
    "import numpy as np\n",
    "import warnings\n",
    "warnings.filterwarnings('ignore')"
   ]
  },
  {
   "cell_type": "code",
   "execution_count": null,
   "id": "2bd2d22f-731f-4f06-bd97-9565cd80e2cb",
   "metadata": {},
   "outputs": [],
   "source": [
    "from sklearn.preprocessing import StandardScaler\n",
    "from sklearn.model_selection import train_test_split,cross_val_score\n",
    "from sklearn.metrics import accuracy_score, f1_score, roc_auc_score"
   ]
  },
  {
   "cell_type": "markdown",
   "id": "86f0f084-2814-4498-9db4-1f3e653813de",
   "metadata": {},
   "source": [
    "#### 한글 텍스트 분석"
   ]
  },
  {
   "cell_type": "code",
   "execution_count": null,
   "id": "83dfc02c-22a4-4f5a-abf9-2dcb2bbf0ccb",
   "metadata": {},
   "outputs": [],
   "source": [
    "with open('../data/소나기.txt', 'r', encoding='utf8') as f:\n",
    "    text = f.read()\n",
    "print(text[:200])"
   ]
  },
  {
   "cell_type": "code",
   "execution_count": null,
   "id": "607458dd-f2da-4cf1-ba3a-70da63a1af34",
   "metadata": {},
   "outputs": [],
   "source": [
    "import re\n",
    "compile = re.compile(\"[^ ㄱ-ㅣ가-힣\\.]+\")\n",
    "text = compile.sub('',text)\n",
    "print(text[:200])"
   ]
  },
  {
   "cell_type": "code",
   "execution_count": null,
   "id": "f6b94423-1021-4f10-a657-712225d4c32b",
   "metadata": {},
   "outputs": [],
   "source": [
    "# 문장 토큰화\n",
    "import nltk\n",
    "sentences = nltk.sent_tokenize(text)\n",
    "print(sentences[:3])"
   ]
  },
  {
   "cell_type": "code",
   "execution_count": null,
   "id": "4854259d-da6e-456d-8cec-cac56f677ed2",
   "metadata": {},
   "outputs": [],
   "source": [
    "okt = Okt()\n",
    "okt.morphs(text)"
   ]
  },
  {
   "cell_type": "code",
   "execution_count": null,
   "id": "8dfb824b-61a3-4388-97c7-4f21646cef3d",
   "metadata": {},
   "outputs": [],
   "source": [
    "# 단어 토큰화\n",
    "from konlpy.tag import Okt\n",
    "okt = Okt()\n",
    "words = []\n",
    "for sentence in sentences:\n",
    "    word = okt.morphs(sentence)\n",
    "    words.append(word)\n",
    "print(words[:5])"
   ]
  },
  {
   "cell_type": "code",
   "execution_count": null,
   "id": "0a041cc6-fc27-41d1-a610-e557d790bed4",
   "metadata": {},
   "outputs": [],
   "source": [
    "nltk.word_tokenize(text)   # 형태소, 조사 제거 안되므로 konlpy"
   ]
  },
  {
   "cell_type": "code",
   "execution_count": null,
   "id": "f6cf9c77-c446-47ac-afed-34d47f7078db",
   "metadata": {},
   "outputs": [],
   "source": [
    "okt = Okt()\n",
    "def okt_tokenizer(text):\n",
    "    tokens_ko = okt.morphs(text, stem=True)\n",
    "    return tokens_ko\n",
    "word_tokens = okt_tokenizer(text)\n",
    "print(word_tokens[:20])"
   ]
  },
  {
   "cell_type": "code",
   "execution_count": null,
   "id": "f1eca9b7-0bde-49c9-8dc6-0e33e9bbd3e3",
   "metadata": {},
   "outputs": [],
   "source": [
    "# 단어 토큰화\n",
    "from konlpy.tag import Okt\n",
    "okt = Okt()\n",
    "words = []\n",
    "for sentence in sentences:\n",
    "    word = okt.morphs(sentence)\n",
    "    words.append(word)\n",
    "print(words[:2])"
   ]
  },
  {
   "cell_type": "code",
   "execution_count": null,
   "id": "e885fa98-81a9-4e66-91dc-2fafac25fc7d",
   "metadata": {},
   "outputs": [],
   "source": [
    "test_text = '나는 정말로 파이썬을 좋아한다. 아니 머신러닝을 더 좋아한다.'\n",
    "print('normalize :', okt.normalize(test_text)) # 문장으로 추출\n",
    "print('morphs :', okt.morphs(test_text))       # 구문 분석\n",
    "print('nouns :', okt.nouns(test_text))         # 명사만\n",
    "print('phrases :', okt.phrases(test_text))     # 구문\n",
    "print('pos :', okt.pos(test_text))             # 품사와 함께 값고 함께 "
   ]
  },
  {
   "cell_type": "code",
   "execution_count": null,
   "id": "bf59da14-ad00-4db8-8f7d-e58081fd4a8e",
   "metadata": {},
   "outputs": [],
   "source": []
  },
  {
   "cell_type": "code",
   "execution_count": null,
   "id": "06385b77-aca9-4ebd-9ed3-a628e1eb116d",
   "metadata": {},
   "outputs": [],
   "source": []
  },
  {
   "cell_type": "code",
   "execution_count": null,
   "id": "59193033-7b33-4ae6-88f4-630b3de3d112",
   "metadata": {},
   "outputs": [],
   "source": []
  },
  {
   "cell_type": "code",
   "execution_count": null,
   "id": "6906597a-6b60-46a3-9cc6-92c6c5984917",
   "metadata": {},
   "outputs": [],
   "source": []
  },
  {
   "cell_type": "code",
   "execution_count": null,
   "id": "b948215d-b896-4e01-9dc9-9c94b459b190",
   "metadata": {},
   "outputs": [],
   "source": []
  },
  {
   "cell_type": "code",
   "execution_count": null,
   "id": "c3cc553b-9e06-4e23-96f3-5c2e845e60dd",
   "metadata": {},
   "outputs": [],
   "source": []
  },
  {
   "cell_type": "code",
   "execution_count": null,
   "id": "2fee8969-f3e8-459d-bbc3-213adcf35930",
   "metadata": {},
   "outputs": [],
   "source": []
  },
  {
   "cell_type": "code",
   "execution_count": null,
   "id": "bf1aed6d-decb-4b22-97d7-9f6f9834153e",
   "metadata": {},
   "outputs": [],
   "source": []
  },
  {
   "cell_type": "code",
   "execution_count": null,
   "id": "c02cc3e8-fed5-4533-8f23-b008e55d244d",
   "metadata": {},
   "outputs": [],
   "source": []
  },
  {
   "cell_type": "code",
   "execution_count": null,
   "id": "b62bbf9f-02da-4cc6-a82f-57beb98d6327",
   "metadata": {},
   "outputs": [],
   "source": []
  },
  {
   "cell_type": "code",
   "execution_count": null,
   "id": "3b844e1b-dd2f-43c5-aeae-3895c364b3f7",
   "metadata": {},
   "outputs": [],
   "source": []
  },
  {
   "cell_type": "code",
   "execution_count": null,
   "id": "5e461482-09c2-47f3-a6d1-5105ba84d6e8",
   "metadata": {},
   "outputs": [],
   "source": []
  },
  {
   "cell_type": "code",
   "execution_count": null,
   "id": "da20c1a3-5919-42c1-900d-596e199d7b0d",
   "metadata": {},
   "outputs": [],
   "source": []
  },
  {
   "cell_type": "code",
   "execution_count": null,
   "id": "f5d5bdba-a9fb-4adf-a191-88e59d144db5",
   "metadata": {},
   "outputs": [],
   "source": []
  },
  {
   "cell_type": "code",
   "execution_count": null,
   "id": "b3ab5313-b1b6-4673-a008-712104682c8b",
   "metadata": {},
   "outputs": [],
   "source": []
  },
  {
   "cell_type": "code",
   "execution_count": null,
   "id": "160ab91d-4c09-4370-b79d-9d5f23aee274",
   "metadata": {},
   "outputs": [],
   "source": []
  },
  {
   "cell_type": "code",
   "execution_count": null,
   "id": "b9149af0-3ab1-4ce2-a651-ae308075f82a",
   "metadata": {},
   "outputs": [],
   "source": []
  },
  {
   "cell_type": "code",
   "execution_count": null,
   "id": "93e5ca68-7ffa-469f-980a-0c6f6e9bbe70",
   "metadata": {},
   "outputs": [],
   "source": []
  },
  {
   "cell_type": "code",
   "execution_count": null,
   "id": "19d7e667-92be-420c-afd2-3a56a1491e5d",
   "metadata": {},
   "outputs": [],
   "source": []
  },
  {
   "cell_type": "code",
   "execution_count": null,
   "id": "137c0d40-3a69-4d9e-9014-0c9819c9c1e7",
   "metadata": {},
   "outputs": [],
   "source": []
  },
  {
   "cell_type": "code",
   "execution_count": null,
   "id": "608998c8-9c54-4506-bb1a-ed5c9244d047",
   "metadata": {},
   "outputs": [],
   "source": []
  },
  {
   "cell_type": "code",
   "execution_count": null,
   "id": "65e0e4da-76bc-46c5-b177-8bc946df1e2d",
   "metadata": {},
   "outputs": [],
   "source": []
  }
 ],
 "metadata": {
  "kernelspec": {
   "display_name": "Python 3 (ipykernel)",
   "language": "python",
   "name": "python3"
  },
  "language_info": {
   "codemirror_mode": {
    "name": "ipython",
    "version": 3
   },
   "file_extension": ".py",
   "mimetype": "text/x-python",
   "name": "python",
   "nbconvert_exporter": "python",
   "pygments_lexer": "ipython3",
   "version": "3.11.5"
  }
 },
 "nbformat": 4,
 "nbformat_minor": 5
}
