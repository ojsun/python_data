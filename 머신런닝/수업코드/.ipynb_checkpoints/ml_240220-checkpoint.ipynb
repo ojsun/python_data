{
 "cells": [
  {
   "cell_type": "code",
   "execution_count": 5,
   "id": "9b783824-4b71-4816-bb47-187435c43eb5",
   "metadata": {},
   "outputs": [],
   "source": [
    "import numpy as np\n",
    "import pandas as pd\n",
    "from sklearn.model_selection import train_test_split\n",
    "from sklearn.metrics import accuracy_score"
   ]
  },
  {
   "cell_type": "code",
   "execution_count": 13,
   "id": "eb75bab8-21a6-459a-9a8e-70fea145376a",
   "metadata": {},
   "outputs": [],
   "source": [
    "from sklearn.base import BaseEstimator\n",
    "import warnings\n",
    "warnings.filterwarnings('ignore')"
   ]
  },
  {
   "cell_type": "code",
   "execution_count": 7,
   "id": "976af8d7-914c-4cfc-bd20-2d04f43a0198",
   "metadata": {},
   "outputs": [
    {
     "name": "stdout",
     "output_type": "stream",
     "text": [
      "[[ 0.  0.  5. ...  0.  0.  0.]\n",
      " [ 0.  0.  0. ... 10.  0.  0.]\n",
      " [ 0.  0.  0. ... 16.  9.  0.]\n",
      " ...\n",
      " [ 0.  0.  1. ...  6.  0.  0.]\n",
      " [ 0.  0.  2. ... 12.  0.  0.]\n",
      " [ 0.  0. 10. ... 12.  1.  0.]]\n",
      "[0 1 2 ... 8 9 8]\n"
     ]
    }
   ],
   "source": [
    "class MyFake(BaseEstimator):\n",
    "    def fit(self, X, y):\n",
    "        pass\n",
    "    def predict(self,X):\n",
    "        return np.zeros( (len(X), 1))\n",
    "\n",
    "from sklearn.datasets import load_digits\n",
    "digits= load_digits()\n",
    "print(digits.data)\n",
    "print(digits.target)"
   ]
  },
  {
   "cell_type": "code",
   "execution_count": 8,
   "id": "8131302c-5a36-4c55-8938-39631bf6dbb9",
   "metadata": {},
   "outputs": [],
   "source": [
    "y = (digits.target == 7).astype(int)\n",
    "X_train, X_test, y_train, y_test=train_test_split(digits.data, y, random_state=11)"
   ]
  },
  {
   "cell_type": "code",
   "execution_count": 9,
   "id": "d76be7c0-7f4d-4e2d-82f9-49288704e70c",
   "metadata": {},
   "outputs": [
    {
     "name": "stdout",
     "output_type": "stream",
     "text": [
      "(450,)\n",
      "0    405\n",
      "1     45\n",
      "Name: count, dtype: int64\n"
     ]
    }
   ],
   "source": [
    "print(y_test.shape)\n",
    "print(pd.Series(y_test).value_counts())  # 판다스 시리즈 만들기"
   ]
  },
  {
   "cell_type": "code",
   "execution_count": 10,
   "id": "3f9f54ed-d90f-48e6-a963-46bfc2f7659d",
   "metadata": {},
   "outputs": [
    {
     "name": "stdout",
     "output_type": "stream",
     "text": [
      "정확도: 0.900\n"
     ]
    }
   ],
   "source": [
    "fakeclf=MyFake()\n",
    "fakeclf.fit(X_train, y_train)\n",
    "fakepred=fakeclf.predict(X_test)\n",
    "print(f'정확도: {accuracy_score(y_test, fakepred):.3f}')"
   ]
  },
  {
   "cell_type": "code",
   "execution_count": 11,
   "id": "6a032a15-381e-460d-8e53-90d4b9c0265e",
   "metadata": {},
   "outputs": [
    {
     "data": {
      "text/plain": [
       "array([[405,   0],\n",
       "       [ 45,   0]], dtype=int64)"
      ]
     },
     "execution_count": 11,
     "metadata": {},
     "output_type": "execute_result"
    }
   ],
   "source": [
    "from sklearn.metrics import confusion_matrix\n",
    "\n",
    "confusion_matrix(y_test, fakepred)"
   ]
  },
  {
   "cell_type": "code",
   "execution_count": 14,
   "id": "3a9eb43f-c7cd-4fe4-9fe3-d3bb909f0954",
   "metadata": {},
   "outputs": [
    {
     "name": "stdout",
     "output_type": "stream",
     "text": [
      "0.0\n",
      "0.0\n"
     ]
    }
   ],
   "source": [
    "from sklearn.metrics import recall_score, precision_score\n",
    "\n",
    "print(recall_score(y_test, fakepred))\n",
    "print(precision_score(y_test, fakepred))   "
   ]
  },
  {
   "cell_type": "code",
   "execution_count": 15,
   "id": "e7494719-9dc0-44fe-b52a-18c85f137a3c",
   "metadata": {},
   "outputs": [],
   "source": [
    "X_titanic_df = pd.read_csv('data/titanic_X.csv')\n",
    "y_titanic_df = pd.read_csv('data/titanic_y.csv')\n",
    "X_train, X_test, y_train, y_test = train_test_split(X_titanic_df, y_titanic_df, \n",
    "test_size = 0.2, random_state = 0)"
   ]
  },
  {
   "cell_type": "code",
   "execution_count": 45,
   "id": "64b9b67e-10d4-4f01-afe8-b593c9d9f1bf",
   "metadata": {},
   "outputs": [
    {
     "data": {
      "text/plain": [
       "array([[91, 19],\n",
       "       [24, 45]], dtype=int64)"
      ]
     },
     "execution_count": 45,
     "metadata": {},
     "output_type": "execute_result"
    }
   ],
   "source": [
    "from sklearn.tree import DecisionTreeClassifier\n",
    "dt_clf = DecisionTreeClassifier(random_state=0)\n",
    "dt_clf.fit(X_train , y_train)\n",
    "pred = dt_clf.predict(X_test)\n",
    "matrix=confusion_matrix(y_test, pred)\n",
    "matrix"
   ]
  },
  {
   "cell_type": "code",
   "execution_count": 50,
   "id": "4ae3431c-86e6-4cbb-b8a0-e5432ad0f570",
   "metadata": {},
   "outputs": [
    {
     "data": {
      "text/plain": [
       "0.7597765363128491"
      ]
     },
     "execution_count": 50,
     "metadata": {},
     "output_type": "execute_result"
    }
   ],
   "source": [
    "(matrix[0,0] + matrix[1,1]) / matrix.sum()"
   ]
  },
  {
   "cell_type": "code",
   "execution_count": 47,
   "id": "97fcbce3-3783-4233-9738-cd2eed355309",
   "metadata": {},
   "outputs": [],
   "source": [
    "pred2=(dt_clf.predict_proba(X_test)[:,1] >0.4).astype(int)"
   ]
  },
  {
   "cell_type": "code",
   "execution_count": 48,
   "id": "948f284e-05ab-4e7c-a30c-5c067df6d0e5",
   "metadata": {},
   "outputs": [
    {
     "data": {
      "text/plain": [
       "array([[90, 20],\n",
       "       [23, 46]], dtype=int64)"
      ]
     },
     "execution_count": 48,
     "metadata": {},
     "output_type": "execute_result"
    }
   ],
   "source": [
    "matrix2=confusion_matrix(y_test, pred2)\n",
    "matrix2"
   ]
  },
  {
   "cell_type": "code",
   "execution_count": 49,
   "id": "b6c523f3-f656-4259-846b-5c324c5cd170",
   "metadata": {},
   "outputs": [
    {
     "name": "stdout",
     "output_type": "stream",
     "text": [
      "재현율:  0.6666666666666666\n",
      "정밀도:  0.696969696969697\n"
     ]
    }
   ],
   "source": [
    "print('재현율: ', matrix2[1,1] / (matrix2[1,0] + matrix2[1,1]))\n",
    "print('정밀도: ', matrix2[1,1] / (matrix2[0,1] + matrix2[1,1]))"
   ]
  },
  {
   "cell_type": "code",
   "execution_count": 56,
   "id": "f3e625de-b5a5-419c-922c-7072454dccd6",
   "metadata": {},
   "outputs": [
    {
     "name": "stdout",
     "output_type": "stream",
     "text": [
      "predict_proba 결과 shape:  (179, 2)\n",
      "predict 결과 10개만:  [[1. 0.]\n",
      " [1. 0.]\n",
      " [1. 0.]]\n",
      "두개의 class 중에서 더 큰 확률을 클래스 값으로 예측 \n",
      " [[1. 0. 0.]\n",
      " [1. 0. 0.]\n",
      " [1. 0. 0.]]\n"
     ]
    }
   ],
   "source": [
    "pred_proba=dt_clf.predict_proba(X_test)\n",
    "pred=dt_clf.predict(X_test)\n",
    "print('predict_proba 결과 shape: ', pred_proba.shape)\n",
    "print('predict 결과 10개만: ', pred_proba[:3])\n",
    "pred_proba_result = np.concatenate([pred_proba, pred.reshape(-1,1)],axis=1)\n",
    "\n",
    "print('두개의 class 중에서 더 큰 확률을 클래스 값으로 예측 \\n', pred_proba_result[:3])"
   ]
  },
  {
   "cell_type": "code",
   "execution_count": 58,
   "id": "a582e897-f46b-4063-b92b-d09396d60377",
   "metadata": {},
   "outputs": [
    {
     "name": "stdout",
     "output_type": "stream",
     "text": [
      "[[0. 0. 1.]\n",
      " [1. 0. 0.]\n",
      " [0. 0. 1.]]\n"
     ]
    }
   ],
   "source": [
    "from sklearn.preprocessing import Binarizer\n",
    "X = [[ 1, -1, 2],[ 2, 0, 0],[ 0, 1.1, 1.2]]\n",
    "binarizer = Binarizer(threshold= 1.1) \n",
    "print(binarizer.fit_transform(X))"
   ]
  },
  {
   "cell_type": "code",
   "execution_count": 59,
   "id": "65aa14d6-9313-48ae-a50a-17e502794ac0",
   "metadata": {},
   "outputs": [],
   "source": [
    "from sklearn.linear_model import LogisticRegression\n",
    "lr_clf = LogisticRegression(solver='liblinear')\n",
    "lr_clf.fit(X_train , y_train)\n",
    "pred = lr_clf.predict(X_test)"
   ]
  },
  {
   "cell_type": "code",
   "execution_count": null,
   "id": "30c42989-2565-4a3a-9db9-db01221a5a1c",
   "metadata": {},
   "outputs": [],
   "source": []
  },
  {
   "cell_type": "code",
   "execution_count": 74,
   "id": "f01571ac-cebe-4863-ace4-f5f523317710",
   "metadata": {},
   "outputs": [
    {
     "name": "stdout",
     "output_type": "stream",
     "text": [
      "predict_proba 결과 shape:  (179, 2)\n",
      "predict 결과 10개만:  [0 0 0 1 1 0 1 1 0 1]\n",
      "두개의 class 중에서 더 큰 확률을 클래스 값으로 예측 \n",
      " [[0.85016752 0.14983248 0.        ]\n",
      " [0.87512771 0.12487229 0.        ]\n",
      " [0.9254905  0.0745095  0.        ]]\n"
     ]
    }
   ],
   "source": [
    "pred_proba=lr_clf.predict_proba(X_test)\n",
    "pred=lr_clf.predict(X_test)\n",
    "print('predict_proba 결과 shape: ', pred_proba.shape)\n",
    "print('predict 결과 10개만: ', pred[:10])\n",
    "pred_proba_result = np.concatenate([pred_proba, pred.reshape(-1,1)],axis=1)\n",
    "print('두개의 class 중에서 더 큰 확률을 클래스 값으로 예측 \\n', pred_proba_result[:3])"
   ]
  },
  {
   "cell_type": "code",
   "execution_count": null,
   "id": "81204e95-997f-4747-8115-8cd462f294d6",
   "metadata": {},
   "outputs": [],
   "source": [
    "pred_proba_result=np.concatenate([pred_proba, pred.reshape(-1,1)],axis=1)\n",
    "print(pred_proba_result)"
   ]
  },
  {
   "cell_type": "code",
   "execution_count": null,
   "id": "18a4401c-4e35-45f3-9b9c-5a40d9f34163",
   "metadata": {},
   "outputs": [],
   "source": [
    "from sklearn.preprocessing import Binarizer\n",
    "binarizer = Binarizer(threshold= 0.3)  # 크야만 1, 작거나 같으면 0\n",
    "print(binarizer.fit_transform(pred_proba_result))"
   ]
  },
  {
   "cell_type": "code",
   "execution_count": null,
   "id": "f54f4d5c-31b3-426a-97f6-f6328f54543b",
   "metadata": {},
   "outputs": [],
   "source": [
    "binarizer = Binarizer(threshold= 1.1) \n",
    "print(binarizer.fit_transform(X))"
   ]
  },
  {
   "cell_type": "code",
   "execution_count": 70,
   "id": "fce1f65e-19a3-49fe-b140-c7d15372b8ad",
   "metadata": {},
   "outputs": [],
   "source": [
    "pred2=(pred_proba[:,1] >0.5).astype(int)"
   ]
  },
  {
   "cell_type": "code",
   "execution_count": 76,
   "id": "f665ca22-ba6f-460d-a91b-fc9a57db49dd",
   "metadata": {},
   "outputs": [],
   "source": [
    "binarizer = Binarizer(threshold= 0.5) \n",
    "pred3=binarizer.fit_transform(pred_proba, pred.reshape(-1,1))"
   ]
  },
  {
   "cell_type": "code",
   "execution_count": null,
   "id": "c19caadd-e1f7-4982-afbe-be26096185b7",
   "metadata": {},
   "outputs": [],
   "source": [
    "print(accuracy_score(pred))\n",
    "print(accuracy_score(pred2))\n",
    "print(accuracy_score(pred3))"
   ]
  },
  {
   "cell_type": "code",
   "execution_count": 81,
   "id": "ccdce8c7-d465-43f2-9886-b4742bc243c1",
   "metadata": {},
   "outputs": [],
   "source": [
    "\n",
    "def get_clf_eval(y_test, pred):\n",
    "    confusion=confusion_matrix(y_test,pred)\n",
    "    accuracy=accuracy_score(y_test,pred)\n",
    "    precision=precision_score(y_test,pred)    # 정밀도\n",
    "    recall=recall_score(y_test,pred)          # 재현율\n",
    "    print('오차행렬: ', confusion)\n",
    "    print(f'정확도: {accuracy:.3f}, 정밀도: {precision:.3f}, 재현률: {recall:.3f}')"
   ]
  },
  {
   "cell_type": "code",
   "execution_count": 82,
   "id": "f44b38ee-4735-4e4c-99a2-c0877062a2f6",
   "metadata": {},
   "outputs": [
    {
     "name": "stdout",
     "output_type": "stream",
     "text": [
      "임곗값: 0.4\n",
      "임곗값: 0.45\n",
      "임곗값: 0.5\n",
      "임곗값: 0.55\n",
      "임곗값: 0.6\n",
      "오차행렬:  [[101   9]\n",
      " [ 26  43]]\n",
      "정확도: 0.804, 정밀도: 0.827, 재현률: 0.623\n"
     ]
    }
   ],
   "source": [
    "thresholds = [0.4, 0.45, 0.50, 0.55, 0.60]\n",
    "def get_eval_by_threshold(y_test ,pred_proba_c1,thresholds):\n",
    "    for custom_threshold in thresholds:\n",
    "        binarizer = Binarizer(threshold = custom_threshold).fit(pred_proba_c1) \n",
    "        custom_predict = binarizer.transform(pred_proba_c1)\n",
    "        print('임곗값:',custom_threshold)\n",
    "    get_clf_eval(y_test , custom_predict)\n",
    "get_eval_by_threshold(y_test ,pred_proba[:,1].reshape(-1,1), thresholds )"
   ]
  },
  {
   "cell_type": "code",
   "execution_count": 83,
   "id": "292c3872-00df-4fcd-a2ae-ad2563affc89",
   "metadata": {},
   "outputs": [
    {
     "name": "stdout",
     "output_type": "stream",
     "text": [
      "predict_proba 결과 shape:  (179, 2)\n",
      "predict 결과 10개만:  [0 0 0 1 1 0 1 1 0 1]\n",
      "두개의 class 중에서 더 큰 확률을 클래스 값으로 예측 \n",
      " [[0.85016752 0.14983248 0.        ]\n",
      " [0.87512771 0.12487229 0.        ]\n",
      " [0.9254905  0.0745095  0.        ]]\n"
     ]
    }
   ],
   "source": [
    "pred_proba=lr_clf.predict_proba(X_test)\n",
    "pred=lr_clf.predict(X_test)\n",
    "print('predict_proba 결과 shape: ', pred_proba.shape)\n",
    "print('predict 결과 10개만: ', pred[:10])\n",
    "pred_proba_result = np.concatenate([pred_proba, pred.reshape(-1,1)],axis=1)\n",
    "print('두개의 class 중에서 더 큰 확률을 클래스 값으로 예측 \\n', pred_proba_result[:3])"
   ]
  },
  {
   "cell_type": "code",
   "execution_count": 91,
   "id": "d88c24dd-b847-41a8-a68e-de0b5a58be03",
   "metadata": {},
   "outputs": [
    {
     "name": "stdout",
     "output_type": "stream",
     "text": [
      "반환된 분류 결정 임곗값 배열의 Shape: (172,)\n",
      "반환된 precisions 배열의 Shape: (173,)\n",
      "반환된 recalls 배열의 Shape: (173,)\n",
      "thresholds 5 sample: [0.04310391 0.0572492  0.06058916 0.06971505 0.07001447]\n",
      "precisions 5 sample: [0.38547486 0.38764045 0.38983051 0.39204545 0.39428571]\n",
      "recalls 5 sample: [1.         1.         1.         1.         1.         1.\n",
      " 1.         1.         0.98550725 0.98550725]\n"
     ]
    }
   ],
   "source": [
    "from sklearn.metrics import precision_recall_curve\n",
    "pred_proba_class1 = lr_clf.predict_proba(X_test)[:, 1] \n",
    "precisions, recalls, thresholds = precision_recall_curve(y_test, pred_proba_class1 )\n",
    "print('반환된 분류 결정 임곗값 배열의 Shape:', thresholds.shape)\n",
    "print('반환된 precisions 배열의 Shape:', precisions.shape)\n",
    "print('반환된 recalls 배열의 Shape:', recalls.shape)\n",
    "print(\"thresholds 5 sample:\", thresholds[:5])\n",
    "print(\"precisions 5 sample:\", precisions[:5])\n",
    "print(\"recalls 5 sample:\", recalls[:10])"
   ]
  },
  {
   "cell_type": "code",
   "execution_count": 86,
   "id": "ae414a05-f018-4a54-b23c-4f44dba15909",
   "metadata": {},
   "outputs": [
    {
     "name": "stdout",
     "output_type": "stream",
     "text": [
      "샘플 추출을 위한 임계값 배열의 index 10개: [  0  15  30  45  60  75  90 105 120 135 150 165]\n",
      "샘플용 10개의 임곗값:  [0.04 0.1  0.13 0.15 0.18 0.26 0.36 0.5  0.61 0.71 0.84 0.92]\n",
      "샘플 임계값별 정밀도:  [0.385 0.415 0.455 0.504 0.562 0.619 0.695 0.731 0.827 0.919 1.    1.   ]\n",
      "샘플 임계값별 재현율:  [1.    0.986 0.957 0.942 0.913 0.87  0.826 0.71  0.623 0.493 0.319 0.101]\n"
     ]
    }
   ],
   "source": [
    "thr_index = np.arange(0, thresholds.shape[0], 15)\n",
    "print('샘플 추출을 위한 임계값 배열의 index 10개:', thr_index)\n",
    "print('샘플용 10개의 임곗값: ', np.round(thresholds[thr_index],2))\n",
    "print('샘플 임계값별 정밀도: ', np.round(precisions[thr_index], 3))\n",
    "print('샘플 임계값별 재현율: ', np.round(recalls[thr_index], 3))"
   ]
  },
  {
   "cell_type": "code",
   "execution_count": 87,
   "id": "30dc652d-4752-4be4-8c5a-d460d9f32364",
   "metadata": {},
   "outputs": [
    {
     "data": {
      "image/png": "[encoded data removed]",
      "text/plain": [
       "<Figure size 800x600 with 1 Axes>"
      ]
     },
     "metadata": {},
     "output_type": "display_data"
    }
   ],
   "source": [
    "# precision_recall_curve를 이용한 정밀도 재현율 곡선\n",
    "import matplotlib.pyplot as plt\n",
    "import matplotlib.ticker as ticker\n",
    "def precision_recall_curve_plot(y_test , pred_proba_c1):\n",
    "    precisions, recalls, thresholds = precision_recall_curve(y_test, pred_proba_c1)\n",
    "    plt.figure(figsize=(8,6))\n",
    "    threshold_boundary = thresholds.shape[0]   # 정밀도 재현  율 데이터가 1개 더 많으므로/ 맨 마직막행\n",
    "    plt.plot(thresholds, precisions[0:threshold_boundary], '--', label='precision')\n",
    "    plt.plot(thresholds, recalls[0:threshold_boundary], label='recall')\n",
    "    start, end = plt.xlim()\n",
    "    plt.xticks(np.round(np.arange(start, end, 0.1),2))\n",
    "    plt.xlabel('Threshold value')\n",
    "    plt.ylabel('Precision and Recall value')\n",
    "    plt.legend()\n",
    "    plt.grid()\n",
    "    plt.show()\n",
    "\n",
    "precision_recall_curve_plot(y_test, lr_clf.predict_proba(X_test)[:, 1] )"
   ]
  },
  {
   "cell_type": "code",
   "execution_count": 92,
   "id": "c3d17662-3943-4d3e-a5b2-4f7d76942f7c",
   "metadata": {},
   "outputs": [
    {
     "name": "stdout",
     "output_type": "stream",
     "text": [
      "F1 스코어 : 0.7206\n"
     ]
    }
   ],
   "source": [
    "from sklearn.metrics import f1_score\n",
    "f1 = f1_score(y_test, pred)\n",
    "print(f'F1 스코어 : {f1:.4f}')"
   ]
  },
  {
   "cell_type": "code",
   "execution_count": 94,
   "id": "06fe5a1a-3daf-4639-9869-74d565390a87",
   "metadata": {},
   "outputs": [
    {
     "name": "stdout",
     "output_type": "stream",
     "text": [
      "0.7877094972067039\n",
      "0.7313432835820896\n",
      "0.7101449275362319\n"
     ]
    }
   ],
   "source": [
    "print(accuracy_score(y_test,pred))\n",
    "print(precision_score(y_test,pred))\n",
    "print(recall_score(y_test,pred))"
   ]
  },
  {
   "cell_type": "code",
   "execution_count": 95,
   "id": "68cb79bb-2bbb-4d30-9093-901a98c1672a",
   "metadata": {},
   "outputs": [],
   "source": [
    "def get_clf_eval(y_test , pred):\n",
    "    confusion = confusion_matrix( y_test, pred)\n",
    "    accuracy = accuracy_score(y_test , pred)\n",
    "    precision = precision_score(y_test , pred)\n",
    "    recall = recall_score(y_test , pred)\n",
    "    f1 = f1_score(y_test,pred)\n",
    "    print('오차 행렬')\n",
    "    print(confusion)\n",
    "    print(f'정확도: {accuracy:.4f}, 정밀도: {precision:.4f}, 재현율: {recall:.4f}, F1:{f1:.4f}')"
   ]
  },
  {
   "cell_type": "code",
   "execution_count": 101,
   "id": "73964d5b-3731-45fa-9804-4ac0cb36151a",
   "metadata": {},
   "outputs": [],
   "source": [
    "def get_clf_eval(y_test , pred):\n",
    "    confusion = confusion_matrix( y_test, pred)\n",
    "    accuracy = accuracy_score(y_test , pred)\n",
    "    precision = precision_score(y_test , pred)\n",
    "    recall = recall_score(y_test , pred)\n",
    "    f1 = f1_score(y_test,pred)\n",
    "    print('오차 행렬')\n",
    "    print(confusion)\n",
    "    print(f'정확도: {accuracy:.4f}, 정밀도: {precision:.4f}, 재현율: {recall:.4f}, F1:{f1:.4f}')"
   ]
  },
  {
   "cell_type": "code",
   "execution_count": 99,
   "id": "8eeeb2db-f532-454d-92fd-cd1659bccc84",
   "metadata": {
    "scrolled": true
   },
   "outputs": [
    {
     "name": "stdout",
     "output_type": "stream",
     "text": [
      "임곗값: 0.4\n",
      "임곗값: 0.45\n",
      "임곗값: 0.5\n",
      "임곗값: 0.55\n",
      "임곗값: 0.6\n",
      "오차 행렬\n",
      "[[101   9]\n",
      " [ 26  43]]\n",
      "정확도: 0.8045, 정밀도: 0.8269, 재현율: 0.6232, F1:0.7107\n"
     ]
    }
   ],
   "source": [
    "thresholds = [0.4 , 0.45 , 0.50 , 0.55 , 0.60]\n",
    "pred_proba = lr_clf.predict_proba(X_test)\n",
    "get_eval_by_threshold(y_test, pred_proba[:,1].reshape(-1,1), thresholds)"
   ]
  },
  {
   "cell_type": "code",
   "execution_count": 105,
   "id": "a7d0599e-d95b-487a-86c2-cf213f78cb1b",
   "metadata": {},
   "outputs": [],
   "source": [
    "from sklearn.metrics import roc_curve\n",
    "def roc_curve_plot(y_test , pred_proba_c1):\n",
    "    fprs , tprs , thresholds = roc_curve(y_test ,pred_proba_c1)\n",
    "    plt.plot(fprs , tprs, label='ROC')\n",
    "    plt.plot([0, 1], [0, 1], 'k--', label='Random') \n",
    "    start, end = plt.xlim()\n",
    "    plt.xticks(np.round(np.arange(start, end, 0.1),2))\n",
    "    plt.xlim(0,1); plt.ylim(0,1)\n",
    "    plt.xlabel('FPR( 1 - Sensitivity )')\n",
    "    plt.ylabel('TPR( Recall )')\n",
    "    plt.legend()\n",
    "    plt.show()"
   ]
  },
  {
   "cell_type": "code",
   "execution_count": 112,
   "id": "c6cd3bdf-2bb5-4cad-9fa3-f9c09dbbfcd3",
   "metadata": {},
   "outputs": [
    {
     "data": {
      "image/png": "[encoded data removed]",
      "text/plain": [
       "<Figure size 640x480 with 1 Axes>"
      ]
     },
     "metadata": {},
     "output_type": "display_data"
    }
   ],
   "source": [
    "roc_curve_plot(y_test, lr_clf.predict_proba(X_test)[:, 1] )"
   ]
  },
  {
   "cell_type": "code",
   "execution_count": 108,
   "id": "7d7116e7-9ab2-4072-9baf-94fe2d0850d5",
   "metadata": {},
   "outputs": [
    {
     "name": "stdout",
     "output_type": "stream",
     "text": [
      "ROC AUC 값: 0.8671\n"
     ]
    }
   ],
   "source": [
    "from sklearn.metrics import roc_auc_score\n",
    "pred_proba = lr_clf.predict_proba(X_test)[:, 1]\n",
    "roc_score = roc_auc_score(y_test, pred_proba)\n",
    "print(f'ROC AUC 값: {roc_score:.4f}')"
   ]
  },
  {
   "cell_type": "code",
   "execution_count": null,
   "id": "cac2181d-6040-4591-9cde-40f42433d1f7",
   "metadata": {},
   "outputs": [],
   "source": []
  },
  {
   "cell_type": "code",
   "execution_count": 110,
   "id": "cbe6fff3-c056-4719-9191-57985a465dde",
   "metadata": {},
   "outputs": [],
   "source": [
    "## 총정리\n",
    "def get_clf_eval(y_test, pred=None, pred_proba=None):\n",
    "    confusion = confusion_matrix( y_test, pred)\n",
    "    accuracy = accuracy_score(y_test , pred)\n",
    "    precision = precision_score(y_test , pred)\n",
    "    recall = recall_score(y_test , pred)\n",
    "    f1 = f1_score(y_test,pred)\n",
    "    roc_auc = roc_auc_score(y_test, pred_proba)\n",
    "    print('오차 행렬')\n",
    "    print(confusion)\n",
    "    print(f'''정확도: {accuracy:.4f}, 정밀도: {precision:.4f}, 재현율: {recall:.4f}, \n",
    "    F1: {f1:.4f}, AUC:{roc_auc:.4f}''')\n",
    "\n",
    "# 정확도/정밀도/재현율/F1_Score/ROC_ACC_score  ==지표일뿐 확실시할 수 없음"
   ]
  },
  {
   "cell_type": "code",
   "execution_count": 111,
   "id": "a52d4968-ab90-49c8-aa52-365d1c13b24b",
   "metadata": {},
   "outputs": [
    {
     "name": "stdout",
     "output_type": "stream",
     "text": [
      "오차 행렬\n",
      "[[92 18]\n",
      " [20 49]]\n",
      "정확도: 0.7877, 정밀도: 0.7313, 재현율: 0.7101, \n",
      "    F1: 0.7206, AUC:0.8671\n"
     ]
    }
   ],
   "source": [
    "get_clf_eval(y_test, pred, pred_proba )"
   ]
  },
  {
   "cell_type": "code",
   "execution_count": null,
   "id": "d7eca66a-fb3f-4796-9dbb-8465e62d3634",
   "metadata": {},
   "outputs": [],
   "source": [
    "## 인디언 당뇨병 에측"
   ]
  },
  {
   "cell_type": "code",
   "execution_count": 138,
   "id": "a8060c0e-2a74-4bb0-bb0d-acefa6c79295",
   "metadata": {},
   "outputs": [],
   "source": [
    "import numpy as np\n",
    "import pandas as pd\n",
    "import matplotlib.pyplot as plt\n",
    "from sklearn.model_selection import train_test_split\n",
    "from sklearn.metrics import accuracy_score, precision_score, recall_score, roc_auc_score\n",
    "from sklearn.metrics import f1_score, confusion_matrix, precision_recall_curve, roc_curve\n",
    "from sklearn.preprocessing import StandardScaler\n",
    "from sklearn.linear_model import LogisticRegression"
   ]
  },
  {
   "cell_type": "code",
   "execution_count": null,
   "id": "b238e0a5-ee31-47b8-8aad-3358f5a8b976",
   "metadata": {},
   "outputs": [],
   "source": []
  },
  {
   "cell_type": "code",
   "execution_count": 120,
   "id": "4cbbea63-8f6d-410d-8b41-66bd9e44f52e",
   "metadata": {},
   "outputs": [],
   "source": [
    "from sklearn.datasets import load_diabetes\n",
    "diabets_data=pd.read_csv('data/diabetes.csv')\n",
    "X=diabets_data.iloc[:,:-1]\n",
    "y=diabets_data.iloc[:,-1]\n",
    "\n",
    "X_train, X_test, y_train, y_test = train_test_split(X, y, test_size = 0.2, random_state=0)"
   ]
  },
  {
   "cell_type": "code",
   "execution_count": 129,
   "id": "5ded061c-97ab-436e-a067-dc5ec35dfb5d",
   "metadata": {},
   "outputs": [
    {
     "name": "stdout",
     "output_type": "stream",
     "text": [
      "0.7662337662337663\n",
      "0.6078431372549019\n",
      "0.6595744680851063\n",
      "[[87 20]\n",
      " [16 31]]\n",
      "0.6326530612244897\n",
      "0.8670619235836626\n"
     ]
    }
   ],
   "source": [
    "from sklearn.tree import DecisionTreeClassifier\n",
    "from sklearn.metrics import roc_auc_score\n",
    "\n",
    "dt_clf=DecisionTreeClassifier(random_state=0)\n",
    "dt_clf.fit(X_train, y_train)\n",
    "pred=dt_clf.predict(X_test)\n",
    "pred_proba= dt_clf.predict_proba(X_test)[:,1]\n",
    "\n",
    "print(accuracy_score(y_test, pred))\n",
    "print(precision_score(y_test, pred))\n",
    "print(recall_score(y_test, pred))\n",
    "print(confusion_matrix(y_test, pred))\n",
    "print(f1_score(y_test, pred))\n",
    "print( roc_score)"
   ]
  },
  {
   "cell_type": "code",
   "execution_count": 190,
   "id": "19cac47c-4593-4dfc-85dc-e4e75f1e4d1f",
   "metadata": {
    "scrolled": true
   },
   "outputs": [
    {
     "name": "stdout",
     "output_type": "stream",
     "text": [
      "[[ 9  0  0]\n",
      " [ 0 10  0]\n",
      " [ 0  2  9]]\n",
      "f1_score weighted:  0.9330303030303031\n",
      "f1_score micro:  0.9333333333333333\n",
      "roc_auc_score ovo:  0.9545454545454546\n",
      "roc_auc_score ovr:  0.9530303030303031\n"
     ]
    }
   ],
   "source": [
    "from sklearn.tree import DecisionTreeClassifier, plot_tree\n",
    "\n",
    "dt_clf=DecisionTreeClassifier(random_state=0)\n",
    "dt_clf.fit(X_train, y_train)\n",
    "pred=dt_clf.predict(X_test)\n",
    "pred_proba= dt_clf.predict_proba(X_test)\n",
    "\n",
    "print(confusion_matrix(y_test, pred))\n",
    "print('f1_score weighted: ', f1_score(y_test, pred, average='weighted'))\n",
    "print('f1_score micro: ',f1_score(y_test, pred, average='micro'))\n",
    "print('roc_auc_score ovo: ',roc_auc_score(y_test, pred_proba, multi_class='ovo'))\n",
    "print('roc_auc_score ovr: ',roc_auc_score(y_test, pred_proba, multi_class='ovr'))"
   ]
  },
  {
   "cell_type": "code",
   "execution_count": null,
   "id": "c07ee088-4788-45d6-8021-112cbb34643b",
   "metadata": {},
   "outputs": [],
   "source": []
  },
  {
   "cell_type": "code",
   "execution_count": 165,
   "id": "d80b7496-e1ef-4f76-a6f7-3663e9b4ac97",
   "metadata": {},
   "outputs": [],
   "source": [
    "# 다중 분류 : 정확도 평가\n",
    "\n",
    "from sklearn.datasets import load_iris\n",
    "from sklearn.linear_model import LinearRegression\n",
    "from sklearn.metrics import roc_auc_score\n",
    "\n",
    "lr_clf= LinearRegression()\n",
    "data=load_iris()\n",
    "X=data.data\n",
    "y=data.target\n",
    "\n",
    "X_train, X_test, y_train, y_test = train_test_split(X, y, test_size = 0.2, random_state=11)\n",
    "lr_clf.fit(X_train,y_train)\n",
    "pred=lr_clf.predict(X_test)\n"
   ]
  },
  {
   "cell_type": "code",
   "execution_count": null,
   "id": "a51eaa2c-e9cb-487e-ad92-53b79c75fe52",
   "metadata": {},
   "outputs": [],
   "source": [
    "## 교차검정/ 검증 비교하기 -비슷하게 나오면 됨"
   ]
  },
  {
   "cell_type": "code",
   "execution_count": 189,
   "id": "761b3f5b-2c47-4ef6-aae9-f3b7b02d86b3",
   "metadata": {},
   "outputs": [
    {
     "data": {
      "text/plain": [
       "array([0.91666667, 0.91666667, 1.        , 0.91666667, 1.        ])"
      ]
     },
     "execution_count": 189,
     "metadata": {},
     "output_type": "execute_result"
    }
   ],
   "source": [
    "from sklearn.model_selection import cross_val_score\n",
    "scores=cross_val_score(dt_clf,X_train, y_train, scoring = 'f1_micro', cv = 5)\n",
    "# accuracy, precision, recall, f1, roc_auc\n",
    "scores"
   ]
  },
  {
   "cell_type": "code",
   "execution_count": 183,
   "id": "74b80d2e-a8ba-4092-b782-08f46df6d75f",
   "metadata": {},
   "outputs": [
    {
     "data": {
      "text/plain": [
       "0.95"
      ]
     },
     "execution_count": 183,
     "metadata": {},
     "output_type": "execute_result"
    }
   ],
   "source": [
    "np.mean(scores)"
   ]
  },
  {
   "cell_type": "code",
   "execution_count": 187,
   "id": "222027b8-9715-4433-9240-8bd9f69fa166",
   "metadata": {},
   "outputs": [
    {
     "data": {
      "text/plain": [
       "0.9333333333333333"
      ]
     },
     "execution_count": 187,
     "metadata": {},
     "output_type": "execute_result"
    }
   ],
   "source": [
    "pred=dt_clf.predict(X_test)\n",
    "accuracy_score(y_test, pred)"
   ]
  },
  {
   "cell_type": "code",
   "execution_count": 199,
   "id": "c4b5dcbd-0361-4a06-a685-3d1aa2714ab0",
   "metadata": {},
   "outputs": [
    {
     "data": {
      "text/plain": [
       "[Text(0.3076923076923077, 0.9166666666666666, 'x[3] <= 0.8\\ngini = 0.667\\nsamples = 120\\nvalue = [41, 40, 39]'),\n",
       " Text(0.23076923076923078, 0.75, 'gini = 0.0\\nsamples = 41\\nvalue = [41, 0, 0]'),\n",
       " Text(0.38461538461538464, 0.75, 'x[3] <= 1.55\\ngini = 0.5\\nsamples = 79\\nvalue = [0, 40, 39]'),\n",
       " Text(0.15384615384615385, 0.5833333333333334, 'x[2] <= 5.25\\ngini = 0.051\\nsamples = 38\\nvalue = [0, 37, 1]'),\n",
       " Text(0.07692307692307693, 0.4166666666666667, 'gini = 0.0\\nsamples = 37\\nvalue = [0, 37, 0]'),\n",
       " Text(0.23076923076923078, 0.4166666666666667, 'gini = 0.0\\nsamples = 1\\nvalue = [0, 0, 1]'),\n",
       " Text(0.6153846153846154, 0.5833333333333334, 'x[3] <= 1.75\\ngini = 0.136\\nsamples = 41\\nvalue = [0, 3, 38]'),\n",
       " Text(0.38461538461538464, 0.4166666666666667, 'x[1] <= 2.6\\ngini = 0.5\\nsamples = 4\\nvalue = [0, 2, 2]'),\n",
       " Text(0.3076923076923077, 0.25, 'gini = 0.0\\nsamples = 1\\nvalue = [0, 0, 1]'),\n",
       " Text(0.46153846153846156, 0.25, 'x[2] <= 5.45\\ngini = 0.444\\nsamples = 3\\nvalue = [0, 2, 1]'),\n",
       " Text(0.38461538461538464, 0.08333333333333333, 'gini = 0.0\\nsamples = 2\\nvalue = [0, 2, 0]'),\n",
       " Text(0.5384615384615384, 0.08333333333333333, 'gini = 0.0\\nsamples = 1\\nvalue = [0, 0, 1]'),\n",
       " Text(0.8461538461538461, 0.4166666666666667, 'x[2] <= 4.85\\ngini = 0.053\\nsamples = 37\\nvalue = [0, 1, 36]'),\n",
       " Text(0.7692307692307693, 0.25, 'x[1] <= 3.1\\ngini = 0.444\\nsamples = 3\\nvalue = [0, 1, 2]'),\n",
       " Text(0.6923076923076923, 0.08333333333333333, 'gini = 0.0\\nsamples = 2\\nvalue = [0, 0, 2]'),\n",
       " Text(0.8461538461538461, 0.08333333333333333, 'gini = 0.0\\nsamples = 1\\nvalue = [0, 1, 0]'),\n",
       " Text(0.9230769230769231, 0.25, 'gini = 0.0\\nsamples = 34\\nvalue = [0, 0, 34]')]"
      ]
     },
     "execution_count": 199,
     "metadata": {},
     "output_type": "execute_result"
    },
    {
     "data": {
      "image/png": "[encoded data removed]",
      "text/plain": [
       "<Figure size 640x480 with 1 Axes>"
      ]
     },
     "metadata": {},
     "output_type": "display_data"
    }
   ],
   "source": [
    "plot_tree(dt_clf, fontsize=9 )"
   ]
  },
  {
   "cell_type": "code",
   "execution_count": null,
   "id": "c6a1cc84-335a-45cc-82d1-c90e820c3c83",
   "metadata": {},
   "outputs": [],
   "source": []
  },
  {
   "cell_type": "code",
   "execution_count": null,
   "id": "ee266768-9603-4df0-a053-a6b4ac0d0d79",
   "metadata": {},
   "outputs": [],
   "source": []
  },
  {
   "cell_type": "code",
   "execution_count": null,
   "id": "6ffae912-1869-4437-955a-91a481ba4891",
   "metadata": {},
   "outputs": [],
   "source": []
  },
  {
   "cell_type": "code",
   "execution_count": null,
   "id": "68d5ce04-dd1f-41d1-8824-c3178a8258b4",
   "metadata": {},
   "outputs": [],
   "source": []
  },
  {
   "cell_type": "code",
   "execution_count": null,
   "id": "0d57fec3-1a9c-4edd-876b-3763b49651cd",
   "metadata": {},
   "outputs": [],
   "source": []
  },
  {
   "cell_type": "code",
   "execution_count": null,
   "id": "19b28d50-d86d-4a26-8586-15c9dfd5c1aa",
   "metadata": {},
   "outputs": [],
   "source": []
  },
  {
   "cell_type": "code",
   "execution_count": null,
   "id": "d4ac7a65-938a-4767-b900-5fe2522e27a1",
   "metadata": {},
   "outputs": [],
   "source": []
  },
  {
   "cell_type": "code",
   "execution_count": null,
   "id": "cd1fe333-5e0c-42ac-bd77-e4c45e2599db",
   "metadata": {},
   "outputs": [],
   "source": []
  },
  {
   "cell_type": "code",
   "execution_count": null,
   "id": "83f1f238-4b42-4b60-a228-ef8444c8fa48",
   "metadata": {},
   "outputs": [],
   "source": []
  },
  {
   "cell_type": "code",
   "execution_count": null,
   "id": "33077a4a-1d6c-4e43-8209-1abbae3d088e",
   "metadata": {},
   "outputs": [],
   "source": []
  },
  {
   "cell_type": "code",
   "execution_count": null,
   "id": "78c3c82a-279b-4369-a2e1-8106b9816a23",
   "metadata": {
    "jupyter": {
     "source_hidden": true
    }
   },
   "outputs": [],
   "source": []
  },
  {
   "cell_type": "code",
   "execution_count": null,
   "id": "982107ce-b1a0-4e9e-b4bb-98ed58613539",
   "metadata": {},
   "outputs": [],
   "source": []
  }
 ],
 "metadata": {
  "kernelspec": {
   "display_name": "Python 3 (ipykernel)",
   "language": "python",
   "name": "python3"
  },
  "language_info": {
   "codemirror_mode": {
    "name": "ipython",
    "version": 3
   },
   "file_extension": ".py",
   "mimetype": "text/x-python",
   "name": "python",
   "nbconvert_exporter": "python",
   "pygments_lexer": "ipython3",
   "version": "3.11.5"
  }
 },
 "nbformat": 4,
 "nbformat_minor": 5
}
