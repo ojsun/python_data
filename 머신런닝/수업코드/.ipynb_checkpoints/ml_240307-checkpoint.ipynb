{
 "cells": [
  {
   "cell_type": "code",
   "execution_count": null,
   "id": "3a835064-5ca5-4927-9f1a-f3440c4805f0",
   "metadata": {},
   "outputs": [],
   "source": [
    "import matplotlib.pyplot as plt\n",
    "import seaborn as sns\n",
    "import pandas as pd\n",
    "import numpy as np\n",
    "import warnings\n",
    "warnings.filterwarnings('ignore')\n",
    "\n",
    "from sklearn.preprocessing import StandardScaler\n",
    "from sklearn.model_selection import train_test_split,cross_val_score, GridSearchCV\n",
    "from sklearn.metrics import accuracy_score, f1_score, roc_auc_score"
   ]
  },
  {
   "cell_type": "code",
   "execution_count": null,
   "id": "596a2ce2-1f60-472b-a512-1d644e3d3c05",
   "metadata": {},
   "outputs": [],
   "source": []
  },
  {
   "cell_type": "markdown",
   "id": "de6ae02d-8279-4ff2-983d-79877b2adb3f",
   "metadata": {},
   "source": [
    "#### 추천시스템: 내용기반/협업필터링=-사용자,아이템 기반"
   ]
  },
  {
   "cell_type": "code",
   "execution_count": null,
   "id": "5fa0a234-b309-45bb-9c4b-b62631401a0d",
   "metadata": {},
   "outputs": [],
   "source": [
    "# 협업 필터링: 유저 기반 필터링 \n",
    "#cosine_similarity를 이용한 유사도 측정\n",
    "\n",
    "from sklearn.metrics.pairwise import cosine_similarity\n",
    "import numpy as np\n",
    "user_based = np.array([[5,1,4,4],[1,1,4,4],[4,2,4,4],[1,4,4,2]])\n",
    "result = cosine_similarity(user_based)\n",
    "result"
   ]
  },
  {
   "cell_type": "code",
   "execution_count": null,
   "id": "ba1f4c1a-dc47-4d10-b97f-61f6bc774707",
   "metadata": {},
   "outputs": [],
   "source": [
    "pd.DataFrame(result, columns=['김','이','박','최'], index=['김','이','박','최'])"
   ]
  },
  {
   "cell_type": "code",
   "execution_count": null,
   "id": "ed632e08-4dd7-4e31-9467-2f5b714c651e",
   "metadata": {},
   "outputs": [],
   "source": [
    "# result_df = pd.DataFrame(result)\n",
    "# usernames = ['김', '이', '박', '최']\n",
    "# result_df.columns = usernames\n",
    "# result_df.index = usernames\n",
    "# result_df"
   ]
  },
  {
   "cell_type": "code",
   "execution_count": null,
   "id": "d9d43773-56da-415b-8727-691c6c921e6d",
   "metadata": {},
   "outputs": [],
   "source": [
    "# KNN(최근접이웃)을 이용한 유사도 찾기\n",
    "from sklearn.neighbors import NearestNeighbors\n",
    "\n",
    "k = 2      # 본인 제외 1명 찾기\n",
    "knn = NearestNeighbors(n_neighbors= k)\n",
    "knn.fit(user_based)\n",
    "top_k_distances, top_k_users = knn.kneighbors(user_based)\n",
    "print(top_k_distances)\n",
    "print(top_k_users)"
   ]
  },
  {
   "cell_type": "raw",
   "id": "762a27ec-a385-43d5-b517-9ee2608177da",
   "metadata": {},
   "source": [
    "# 유사도를 기반으로 빠져있는 김씨의 E제품에대한 값 예측(ppt09)\n",
    "1. 유사한 사람(박씨)의 E제품의 점수 :R\n",
    "2. 김씨,박씨와의 유사도 값: S (가중치)\n",
    "3. E제품의 평균 평점: W \n",
    "4. 김씨의 다른 제품의 평균 평점 : W2\n",
    "\n",
    "# (R + ((M-M2)* S))/S     # 값이 낮을수록 유사하고 클수록 다르다."
   ]
  },
  {
   "cell_type": "code",
   "execution_count": null,
   "id": "0f6553cf-f85e-4749-98da-5ab4f1ab0862",
   "metadata": {},
   "outputs": [],
   "source": []
  },
  {
   "cell_type": "code",
   "execution_count": null,
   "id": "938725bf-dda9-412b-9504-8be0d2e9e778",
   "metadata": {
    "scrolled": true
   },
   "outputs": [],
   "source": [
    "## 컨텐츠 기반 필터링-실습: TMDB 5000 영화 데이터셋트\n",
    "movies =pd.read_csv('../data/tmdb_5000_movies.csv')\n",
    "print(movies.shape)\n",
    "movies.head(2)"
   ]
  },
  {
   "cell_type": "code",
   "execution_count": null,
   "id": "9d11d026-306c-4d6a-95e7-41d48fe584e6",
   "metadata": {},
   "outputs": [],
   "source": [
    "movies.columns   # 필요한 columns : 'genres', 'keywords'"
   ]
  },
  {
   "cell_type": "code",
   "execution_count": null,
   "id": "1ce7a95f-c24d-4be7-accb-9248a6b24ec5",
   "metadata": {},
   "outputs": [],
   "source": [
    "movies_df = movies[['id','title', 'genres', 'vote_average', 'vote_count', 'popularity', 'keywords', 'overview']]\n",
    "movies_df.head()"
   ]
  },
  {
   "cell_type": "code",
   "execution_count": null,
   "id": "f52a3d8d-c48b-4d73-89b2-01de063965c9",
   "metadata": {},
   "outputs": [],
   "source": [
    "genres=movies_df['genres'].iloc[0]\n",
    "eval(genres)   # 문자열 내 있는 코드를 실행하라는 함수"
   ]
  },
  {
   "cell_type": "code",
   "execution_count": null,
   "id": "2993c92a-7ef9-4528-aa67-f9f76920bc0f",
   "metadata": {},
   "outputs": [],
   "source": [
    "from ast import literal_eval         # literal_eval 리스트 등의 집합적 코드만 실행하여 안전을 기함/ eval은 모두 다 됨\n",
    "movies_df['genres'] = movies_df['genres'].apply(literal_eval)\n",
    "movies_df['keywords'] = movies_df['keywords'].apply(literal_eval)"
   ]
  },
  {
   "cell_type": "code",
   "execution_count": null,
   "id": "eecd7b38-f291-4ca5-8b64-da65b95d107a",
   "metadata": {},
   "outputs": [],
   "source": [
    "movies_df[['genres','keywords']]"
   ]
  },
  {
   "cell_type": "code",
   "execution_count": null,
   "id": "e90574d7-6ced-4a79-979f-c58cf6ea7f89",
   "metadata": {},
   "outputs": [],
   "source": [
    "movies_df['genres'] = movies_df['genres'].apply(lambda x : [ y['name'] for y in x])  # list로 가져오기\n",
    "movies_df['keywords'] = movies_df['keywords'].apply(lambda x : [ y['name'] for y in x])  # list로 가져오기"
   ]
  },
  {
   "cell_type": "code",
   "execution_count": null,
   "id": "160f04c5-bc05-42df-bb2a-74effdcc3a9e",
   "metadata": {},
   "outputs": [],
   "source": [
    "movies_df[['genres', 'keywords']].head()"
   ]
  },
  {
   "cell_type": "code",
   "execution_count": null,
   "id": "29f6d571-c912-42b9-803f-51571858f3cd",
   "metadata": {},
   "outputs": [],
   "source": [
    "# 내용이 많으니 단어들을 한데 묶어서 벡터화 시킴\n",
    "from sklearn.feature_extraction.text import CountVectorizer\n",
    "\n",
    "movies_df['genres_literal'] = movies_df['genres'].apply(lambda x : (' ').join(x))\n",
    "count_vect = CountVectorizer(ngram_range=(1,2))\n",
    "genre_mat = count_vect.fit_transform(movies_df['genres_literal'])\n",
    "print(genre_mat.shape)"
   ]
  },
  {
   "cell_type": "code",
   "execution_count": null,
   "id": "c9815114-2b08-44d7-a356-e59f1a6c7eb5",
   "metadata": {},
   "outputs": [],
   "source": [
    "# 키워드는 허접해서 안씀\n",
    "movies_df['keywords_literal'] = movies_df['keywords'].apply(lambda x : (' ').join(x))\n",
    "count_vect = CountVectorizer(ngram_range=(1,2))\n",
    "keywords_mat = count_vect.fit_transform(movies_df['keywords_literal'])\n",
    "print(keywords_mat.shape)"
   ]
  },
  {
   "cell_type": "code",
   "execution_count": null,
   "id": "55ebce13-bb97-4886-9772-61751025d1ea",
   "metadata": {
    "scrolled": true
   },
   "outputs": [],
   "source": [
    "genres_df=pd.DataFrame(genre_mat.toarray(), columns=count_vect.get_feature_names_out())"
   ]
  },
  {
   "cell_type": "code",
   "execution_count": null,
   "id": "17d66302-eaff-4601-bb77-0015dc16a74d",
   "metadata": {},
   "outputs": [],
   "source": [
    "# 필요한 컬럼만 살리기\n",
    "test_df=movies_df[['vote_average','vote_count','popularity']]"
   ]
  },
  {
   "cell_type": "code",
   "execution_count": null,
   "id": "d765bf3d-f722-434c-8f22-53978d406fa5",
   "metadata": {},
   "outputs": [],
   "source": [
    "pd.concat([test_df, genres_df], axis=1)"
   ]
  },
  {
   "cell_type": "code",
   "execution_count": null,
   "id": "cb9cac7b-40f1-466b-b0a6-1a6f1df10ff2",
   "metadata": {},
   "outputs": [],
   "source": [
    "# 장르 유사도에 따른 영화 추천\n",
    "genre_sim = cosine_similarity(genre_mat, genre_mat)\n",
    "print(genre_sim.shape)\n",
    "print(genre_sim)"
   ]
  },
  {
   "cell_type": "code",
   "execution_count": null,
   "id": "0ef7776e-5299-4a20-9cfa-aca364a55088",
   "metadata": {},
   "outputs": [],
   "source": [
    "# 유사도가 큰 순서로 정렬후 인덱스 반환\n",
    "genre_sim_sorted_ind = genre_sim.argsort()[:, ::-1]  # 무조건 1개 밖에 추천 못함// [::-1]은 내림차순 [::1]은 오름차순\n",
    "print(genre_sim_sorted_ind)"
   ]
  },
  {
   "cell_type": "code",
   "execution_count": null,
   "id": "d992717a-1a15-4a64-a2ee-205c5201e00f",
   "metadata": {},
   "outputs": [],
   "source": [
    "def find_sim_movie(df, sorted_ind, title_name, top_n=1):\n",
    "    title_movie = df[df['title'] == title_name]\n",
    "    title_index = title_movie.index.values\n",
    "    similar_indexes = sorted_ind[title_index, :(top_n)]\n",
    "    similar_indexes = similar_indexes.reshape(-1)\n",
    "    return df.iloc[similar_indexes]\n",
    "    \n",
    "similar_movies = find_sim_movie(movies_df, genre_sim_sorted_ind, 'The Godfather',5)\n",
    "similar_movies"
   ]
  },
  {
   "cell_type": "code",
   "execution_count": null,
   "id": "c029dfe8-5402-4f22-b64b-a97b5562e602",
   "metadata": {},
   "outputs": [],
   "source": [
    "np.sort(genre_sim[2731])[::-1][:10]  #장르만으로 추천할때는 모두 같은 장르만 나오므로 추천시스템 문제가 있음 "
   ]
  },
  {
   "cell_type": "code",
   "execution_count": null,
   "id": "e648b179-5825-4cf5-8688-d1cd964cccaf",
   "metadata": {},
   "outputs": [],
   "source": [
    "# 같은 장르 + 평점 높은 작품 먼저 추천 - 이것도 투표수 적을땐 객관성 없음\n",
    "movies_df[['title','vote_average','vote_count']].sort_values('vote_average', ascending=False)[:10]"
   ]
  },
  {
   "cell_type": "code",
   "execution_count": null,
   "id": "6a7722e3-05d4-415b-b454-bcfacc587b43",
   "metadata": {},
   "outputs": [],
   "source": [
    "## 장르 유사도에 따른 영화 추천\n",
    "C = movies_df['vote_average'].mean()       # 전체 영화에 대한 평균평점\n",
    "m = movies_df['vote_count'].quantile(0.5)  # 평점을 부여하기 위한 최소횟수\n",
    "print('C:',round(C,3), ', m:',round(m,3))"
   ]
  },
  {
   "cell_type": "code",
   "execution_count": null,
   "id": "dfbd4f1a-7fd0-470e-a868-2eac762e7ac3",
   "metadata": {},
   "outputs": [],
   "source": [
    "# 장르 유사도 함수(가중치 계산)\n",
    "percentile = 0.6\n",
    "m = movies_df['vote_count'].quantile(percentile) # 평점을 부여하기 위한 최소횟수\n",
    "C = movies_df['vote_average'].mean()             # 전체 영화에 대한 평균평점\n",
    "def weighted_vote_average(record):\n",
    "    v = record['vote_count']                     # 개별 영화에 평점을 투표한 수\n",
    "    R = record['vote_average']                   # 개별 영화에 대한 평균 평점\n",
    "    return ( (v/(v+m)) * R ) + ( (m/(m+v)) * C ) \n",
    "movies_df['weighted_vote'] = movies_df.apply(weighted_vote_average, axis=1)   # 칼럼 추가\n",
    "movies_df['weighted_vote'] "
   ]
  },
  {
   "cell_type": "code",
   "execution_count": null,
   "id": "0e775f16-5ab7-4eaf-8a20-8e3353eca921",
   "metadata": {},
   "outputs": [],
   "source": [
    "# 가중치 변수로 추천영화 정렬\n",
    "movies_df[['title','vote_average','weighted_vote']].sort_values('weighted_vote', ascending = False)[:10]"
   ]
  },
  {
   "cell_type": "code",
   "execution_count": null,
   "id": "72a18898-8e1c-4573-899d-4c1ff28b5487",
   "metadata": {},
   "outputs": [],
   "source": [
    "# 투표수로 정렬/ 투표수를 감안하지 않아서 점수는 높지만 문제 있음\n",
    "movies_df[['title','vote_average','weighted_vote']].sort_values('vote_average', ascending = False)[:10]"
   ]
  },
  {
   "cell_type": "code",
   "execution_count": null,
   "id": "5e046349-94aa-4c77-89a8-64e68c869146",
   "metadata": {},
   "outputs": [],
   "source": [
    "## 아이템 기반 최근접이웃(KNN) 협업필터링 실습\n",
    "\n",
    "movies = pd.read_csv('../data/movies.csv')\n",
    "ratings = pd.read_csv('../data/ratings.csv')\n",
    "print(movies.shape)\n",
    "print(ratings.shape)"
   ]
  },
  {
   "cell_type": "code",
   "execution_count": null,
   "id": "173f8fbd-f964-49cb-8d61-1cf2f161e307",
   "metadata": {},
   "outputs": [],
   "source": [
    "movies"
   ]
  },
  {
   "cell_type": "code",
   "execution_count": null,
   "id": "c9587c8c-18b3-4c9c-b3e5-10a9dad6c9f3",
   "metadata": {},
   "outputs": [],
   "source": [
    "ratings          # timestamp: 현재 취향을 참고하기 위해 최근순으로 적용하면 좋음"
   ]
  },
  {
   "cell_type": "code",
   "execution_count": null,
   "id": "38f96776-13c3-45ab-a4a6-0b537d960334",
   "metadata": {},
   "outputs": [],
   "source": [
    "# 참고자료-ratings 이해하고 안씀\n",
    "pd.read_csv('../data/UserRatings1.csv').head()"
   ]
  },
  {
   "cell_type": "code",
   "execution_count": null,
   "id": "b461704e-727f-46d6-9845-abee43ad7ea5",
   "metadata": {},
   "outputs": [],
   "source": [
    "ratings = ratings[['userId', 'movieId', 'rating']]\n",
    "ratings_matrix = ratings.pivot_table(values='rating', index='userId', columns='movieId')\n",
    "ratings_matrix.head()   # movie 데이터는 9744 이므로 맞춰야 함"
   ]
  },
  {
   "cell_type": "code",
   "execution_count": null,
   "id": "59411f82-85fd-466e-a4e8-4f9542f1e012",
   "metadata": {},
   "outputs": [],
   "source": [
    "rating_movies = pd.merge(ratings, movies, on='movieId')\n",
    "ratings_matrix = rating_movies.pivot_table(values='rating', index='userId', columns='title')\n",
    "ratings_matrix = ratings_matrix.fillna(0)\n",
    "ratings_matrix.head(3)"
   ]
  },
  {
   "cell_type": "code",
   "execution_count": null,
   "id": "7436edf2-00e9-4aae-bb67-9ca40f632b63",
   "metadata": {},
   "outputs": [],
   "source": [
    "ratings_matrix.shape  # 610명, 9719편 영화"
   ]
  },
  {
   "cell_type": "code",
   "execution_count": null,
   "id": "8a74b8b9-a376-4a71-9628-4656022c1cc2",
   "metadata": {},
   "outputs": [],
   "source": [
    "# 안 본 영화들의 0으로 되어있는 칸에 예측점수 채워넣기 --목표"
   ]
  },
  {
   "cell_type": "code",
   "execution_count": null,
   "id": "33742e0a-7584-4517-8314-a79e5e04310d",
   "metadata": {},
   "outputs": [],
   "source": [
    "# 영화(아이템) 간 유사도 산출  : 평점만 가지고 유사도 산출\n",
    "from sklearn.metrics.pairwise import cosine_similarity\n",
    "ratings_matrix_T = ratings_matrix.transpose()\n",
    "item_sim = cosine_similarity(ratings_matrix_T)\n",
    "item_sim_df = pd.DataFrame(data=item_sim, index=ratings_matrix.columns, columns=ratings_matrix.columns)\n",
    "print(item_sim_df.shape)\n",
    "item_sim_df.head()"
   ]
  },
  {
   "cell_type": "code",
   "execution_count": null,
   "id": "559d07a7-172a-4f16-b0cb-26f52ee69410",
   "metadata": {},
   "outputs": [],
   "source": [
    "# 가장 가까운(유사도) 영화 뽑아보기\n",
    "item_sim_df[\"Godfather, The (1972)\"].sort_values(ascending=False)[:6]"
   ]
  },
  {
   "cell_type": "code",
   "execution_count": null,
   "id": "913799ee-3e32-4830-a790-1fc51b80f927",
   "metadata": {},
   "outputs": [],
   "source": [
    "## 최근접 이웃 협업 필터링 실습\n",
    "# 개인 예측 평점 함수(가중치 계산)\n",
    "def predict_rating(ratings_arr, item_sim_arr ):\n",
    "    ratings_pred = ratings_arr.dot(item_sim_arr)/ np.array([np.abs(item_sim_arr).sum(axis=1)]) # 계산을 위해 행렬로 바꿈\n",
    "    return ratings_pred\n",
    "ratings_pred = predict_rating(ratings_matrix.values , item_sim_df.values)"
   ]
  },
  {
   "cell_type": "code",
   "execution_count": null,
   "id": "ab973dae-6b55-4d12-886e-cd1b728e8419",
   "metadata": {},
   "outputs": [],
   "source": [
    "ratings_pred"
   ]
  },
  {
   "cell_type": "code",
   "execution_count": null,
   "id": "33c3f54b-bcf5-4a33-9054-5181e93f9751",
   "metadata": {},
   "outputs": [],
   "source": [
    "# 유저별 평점 예측 - 빈칸채우기 --> 실제 유저가 평가한 점수들과도 오차가 큼/ 그래도 의미가 있음\n",
    "ratings_pred_matrix = pd.DataFrame(data=ratings_pred, index= ratings_matrix.index, columns = ratings_matrix.columns)\n",
    "ratings_pred_matrix.head(3)"
   ]
  },
  {
   "cell_type": "code",
   "execution_count": null,
   "id": "ef5078e5-e5e6-4a29-b801-40874881ad2a",
   "metadata": {},
   "outputs": [],
   "source": [
    "# 평가해보기\n",
    "from sklearn.metrics import mean_squared_error\n",
    "def get_mse(pred, actual):                         # actual 실제데이터/ 비어있는 상태\n",
    "    pred = pred[actual.nonzero()].flatten()        # 그래서 제로가 아닌 것들만 가져옴   \n",
    "    actual = actual[actual.nonzero()].flatten()     \n",
    "    return np.sqrt(mean_squared_error(pred, actual))  # 이미 루트값이므로 \n",
    "print('아이템 기반 모든 인접 이웃 RMSE: ', get_mse(ratings_pred, ratings_matrix.values ))\n",
    "# mse에 루트를 시키면 +-3.14 정도  "
   ]
  },
  {
   "cell_type": "code",
   "execution_count": null,
   "id": "8889c2e7-ae4c-4580-b0d9-80ee1f330c28",
   "metadata": {},
   "outputs": [],
   "source": [
    "actual=ratings_matrix.values[ratings_matrix.values.nonzero()].flatten()  # 실제 데이터"
   ]
  },
  {
   "cell_type": "code",
   "execution_count": null,
   "id": "f39c84b6-b40d-4080-a44b-ccd51df44caa",
   "metadata": {},
   "outputs": [],
   "source": [
    "rating_pred=ratings_pred[ratings_matrix.values.nonzero()].flatten()   # 예측 데이터"
   ]
  },
  {
   "cell_type": "code",
   "execution_count": null,
   "id": "39672f8b-9f65-4ff7-a57e-733e8f044222",
   "metadata": {},
   "outputs": [],
   "source": [
    "def predict_rating_topsim(ratings_arr, item_sim_arr, n=20):  # top 20개만 \n",
    "   \n",
    "    pred = np.zeros(ratings_arr.shape)            # 유저-아이템 행렬만큼 0행렬 생성 \n",
    "    for col in range(ratings_arr.shape[1]):       # 아이템 개수 만큼 수행\n",
    "        top_n_items = [np.argsort(item_sim_arr[:, col])[:-n-1:-1]]  \n",
    "        for row in range(ratings_arr.shape[0]):       # 모든 유저에 대한\n",
    "            pred[row, col] = item_sim_arr[col, :][top_n_items].dot(ratings_arr[row, :][top_n_items].T) \n",
    "            pred[row, col] /= np.sum(np.abs(item_sim_arr[col, :][top_n_items]))  # /= 왼쪽 변수에서 오른쪽 값을 나누고 결과를 왼쪽변수에 할당\n",
    "    return pred"
   ]
  },
  {
   "cell_type": "code",
   "execution_count": null,
   "id": "4bd50bf2-888d-4aff-a26d-6d1fedf74ff3",
   "metadata": {},
   "outputs": [],
   "source": [
    "ratings_pred = predict_rating_topsim(ratings_matrix.values , item_sim_df.values, n=10)\n",
    "print('아이템 기반 인접 TOP-10 이웃 RMSE: ', get_mse(ratings_pred, ratings_matrix.values ))\n"
   ]
  },
  {
   "cell_type": "code",
   "execution_count": null,
   "id": "e70ee9d6-e354-4369-b86a-04bd208e5d55",
   "metadata": {},
   "outputs": [],
   "source": [
    "# 유저기반의 경우에는 행렬을 바꾸고 아이템대신 유저로 바꾸면 어덜까?? 찾아볼것"
   ]
  },
  {
   "cell_type": "code",
   "execution_count": null,
   "id": "9d36f970-54ac-4a31-b0bc-6087040f3c3e",
   "metadata": {},
   "outputs": [],
   "source": [
    "# 계산된 예측 평점 데이터는 DataFrame으로 재생성\n",
    "ratings_pred_matrix = pd.DataFrame(data=ratings_pred, index= ratings_matrix.index,columns = ratings_matrix.columns)\n",
    "ratings_pred_matrix"
   ]
  },
  {
   "cell_type": "code",
   "execution_count": null,
   "id": "44fd38c0-1f20-47d2-9161-f51ebd9e8537",
   "metadata": {},
   "outputs": [],
   "source": [
    "user_rating_id = ratings_matrix.loc[1, :]\n",
    "user_rating_id[ user_rating_id > 0].sort_values(ascending=False)[:10]"
   ]
  },
  {
   "cell_type": "code",
   "execution_count": null,
   "id": "954c5522-c003-44be-bbf7-4ad95b09fc3e",
   "metadata": {},
   "outputs": [],
   "source": [
    "def get_unseen_movies(ratings_matrix, userId):  # 안 본 리스트\n",
    "    user_rating = ratings_matrix.loc[userId,:]\n",
    "    already_seen = user_rating[ user_rating > 0].index.tolist()\n",
    "    movies_list = ratings_matrix.columns.tolist()\n",
    "    unseen_list = [ movie for movie in movies_list if movie not in already_seen]\n",
    "    return unseen_list"
   ]
  },
  {
   "cell_type": "code",
   "execution_count": null,
   "id": "841057d6-fe24-4298-8070-19e25a7fe52d",
   "metadata": {},
   "outputs": [],
   "source": [
    "def recomm_movie_by_userid(pred_df, userId, unseen_list, top_n=10):\n",
    "    recomm_movies = pred_df.loc[userId, unseen_list].sort_values(ascending=False)[:top_n]\n",
    "    return recomm_movies\n",
    "unseen_list = get_unseen_movies(ratings_matrix, 9)\n",
    "recomm_movies = recomm_movie_by_userid(ratings_pred_matrix, 9, unseen_list, top_n=10)\n",
    "recomm_movies = pd.DataFrame(data=recomm_movies.values,index=recomm_movies.index,columns=['pred_score'])\n",
    "recomm_movies"
   ]
  },
  {
   "cell_type": "code",
   "execution_count": null,
   "id": "fd949a77-e4d0-4880-bdd5-73bdf13eeb33",
   "metadata": {},
   "outputs": [],
   "source": [
    "ratings_matrix['Godfather: Part II, The (1974)']"
   ]
  },
  {
   "cell_type": "code",
   "execution_count": null,
   "id": "b12b58d9-eb54-49fa-a9ae-6d49c961811e",
   "metadata": {},
   "outputs": [],
   "source": []
  },
  {
   "cell_type": "code",
   "execution_count": null,
   "id": "fc34962c-a31c-4604-a33b-b114d29d2380",
   "metadata": {},
   "outputs": [],
   "source": [
    "## 잠재요인 협업 필터  : 차원축소의 잠재요인 (가중치), 경사하강법) ==> 모델기반 협업(알고리즘적 예측)\n",
    "# 잠재요인 협업필더링 실습 : 오차계산\n",
    "def get_rmse(R, P, Q, non_zeros): # P, Q 예측행렬/ R 실제값\n",
    "    error = 0\n",
    "    # 두개의 분해된 행렬 P와 Q.T의 내적 곱(np.dot)으로 예측 R 행렬 생성\n",
    "    full_pred_matrix = np.dot(P, Q.T) \n",
    "    # 실제 R 행렬에서 널이 아닌 값의 위치 인덱스 추출하여 실제 R 행렬과 예측 행렬의 RMSE 추출\n",
    "    x_non_zero_ind = [non_zero[0] for non_zero in non_zeros]\n",
    "    y_non_zero_ind = [non_zero[1] for non_zero in non_zeros]\n",
    "    R_non_zeros = R[x_non_zero_ind, y_non_zero_ind]\n",
    "    full_pred_matrix_non_zeros = full_pred_matrix[x_non_zero_ind, y_non_zero_ind]\n",
    "    mse = mean_squared_error(R_non_zeros, full_pred_matrix_non_zeros)\n",
    "    rmse = np.sqrt(mse)\n",
    "    return rmse"
   ]
  },
  {
   "cell_type": "code",
   "execution_count": null,
   "id": "76102042-e55c-4d27-a585-1e1bbfc14439",
   "metadata": {},
   "outputs": [],
   "source": [
    "# 확률적 경사하강법 학습 함수\n",
    "def matrix_factorization(R, K, steps=100, learning_rate=0.01, r_lambda = 0.01):\n",
    "    num_users, num_items = R.shape\n",
    "    # P와 Q 매트릭스의 크기를 지정하고 정규분포를 가진 랜덤한 값으로 입력합니다. \n",
    "    np.random.seed(1)\n",
    "    P = np.random.normal(scale=1./ K, size=(num_users, K)) \n",
    "    Q = np.random.normal(scale=1./ K, size=(num_items, K))  # 나중에 전치시킬 예정\n",
    "    break_count = 0\n",
    "    # R > 0 인 행 위치, 열 위치, 값을 non_zeros 리스트 객체에 저장. \n",
    "    non_zeros = [ (i, j, R[i,j]) for i in range(num_users) for j in range(num_items) if R[i,j] > 0 ]  # 빈칸에 0넣기/ 0아닌 곳은 남기기\n",
    "    # 이전 코드에 이어서 작성\n",
    "    # SGD기법(차원축소)으로 P와 Q 매트릭스를 계속 업데이트.   \n",
    "    for step in range(steps):\n",
    "        for i, j, r in non_zeros:\n",
    "            # 실제 값(r)과 예측 값의 차이인 오류 값 구함\n",
    "            eij = r - np.dot(P[i, :], Q[j, :].T)\n",
    "            # Regularization을 반영한 SGD 업데이트 공식 적용\n",
    "            P[i,:] = P[i,:] + learning_rate*(eij * Q[j, :] - r_lambda*P[i,:])  # P[i,:] 가중치  *** 중요\n",
    "            Q[j,:] = Q[j,:] + learning_rate*(eij * P[i, :] - r_lambda*Q[j,:])  # Q[j,:]  가중치  ** 중요 \n",
    "            # // 둘다 가동하면 속도문제, 결과 문제있음: 번갈아가면서 실행하는 ASL기법(SGD와 비교) 있음\n",
    "        rmse = get_rmse(R, P, Q, non_zeros)\n",
    "        if (step % 10) == 0 :\n",
    "            print(\"### iteration step : \", step,\" rmse : \", rmse)\n",
    "    return P, Q"
   ]
  },
  {
   "cell_type": "code",
   "execution_count": null,
   "id": "923257e6-1691-41a1-8f1b-c1a28c1bdb47",
   "metadata": {},
   "outputs": [],
   "source": [
    "P, Q = matrix_factorization(ratings_matrix.values, K=50, steps=100, learning_rate=0.01, r_lambda = 0.01)\n",
    "pred_matrix = np.dot(P, Q.T)"
   ]
  },
  {
   "cell_type": "code",
   "execution_count": null,
   "id": "a80fa5f7-0eea-42fa-b6da-c04eb6c44214",
   "metadata": {},
   "outputs": [],
   "source": [
    "# 예측 평점 출력\n",
    "ratings_pred_matrix = pd.DataFrame(data=pred_matrix, index= ratings_matrix.index,columns = ratings_matrix.columns)\n",
    "ratings_pred_matrix.head(3)"
   ]
  },
  {
   "cell_type": "code",
   "execution_count": null,
   "id": "5f4d4023-c81f-4340-b8b2-2770971466eb",
   "metadata": {},
   "outputs": [],
   "source": [
    "# 영화 추천\n",
    "# 9번 사용자가 관람하지 않는 영화명 추출\n",
    "unseen_list = get_unseen_movies(ratings_matrix, 9)\n",
    "# 아이템 기반의 인접 이웃 협업 필터링으로 영화 추천\n",
    "recomm_movies = recomm_movie_by_userid(ratings_pred_matrix, 9, unseen_list, top_n=10)\n",
    "# 평점 데이타를 DataFrame으로 생성. \n",
    "recomm_movies = pd.DataFrame(data=recomm_movies.values, index=recomm_movies.index, columns=['pred_score'])\n",
    "recomm_movies"
   ]
  },
  {
   "cell_type": "code",
   "execution_count": null,
   "id": "e4a98965-f7a9-4920-8822-44e7d6b34df3",
   "metadata": {},
   "outputs": [],
   "source": []
  },
  {
   "cell_type": "code",
   "execution_count": null,
   "id": "8136b4aa-6ebc-41ee-9075-537328d87b5c",
   "metadata": {},
   "outputs": [],
   "source": [
    "## 실습 /추천시스템-유사성에 의거한 추천 유머"
   ]
  },
  {
   "cell_type": "code",
   "execution_count": null,
   "id": "b206e5d5-117c-44c1-b2b1-1e1c135e24b9",
   "metadata": {},
   "outputs": [],
   "source": [
    "joke=pd.read_csv('../data/JokeText.csv')\n",
    "joke"
   ]
  },
  {
   "cell_type": "code",
   "execution_count": null,
   "id": "e4d8cc75-a930-4b92-89d2-a925d700c48a",
   "metadata": {},
   "outputs": [],
   "source": [
    "# 컨텐츠기반 추천시스템: \n",
    "from sklearn.feature_extraction.text import CountVectorizer,TfidfVectorizer"
   ]
  },
  {
   "cell_type": "code",
   "execution_count": null,
   "id": "9393ab3b-e425-442b-948c-f237e73717c4",
   "metadata": {},
   "outputs": [],
   "source": [
    "from nltk.corpus import stopwords\n",
    "stopwords = stopwords.words('english')"
   ]
  },
  {
   "cell_type": "code",
   "execution_count": null,
   "id": "f8629f83-43f0-49e0-babb-ce3b2eaafacb",
   "metadata": {},
   "outputs": [],
   "source": [
    "# 벡터화\n",
    "from sklearn.feature_extraction.text import CountVectorizer\n",
    "cnt_vct = CountVectorizer(stop_words=stopwords,ngram_range=(1,2))\n",
    "data=cnt_vct.fit_transform(joke['JokeText'])  \n",
    "\n",
    "data_sim=cosine_similarity(data)\n",
    "data_sim_sorted_index= np.argsort(data_sim, axis=1)[:,::-1]\n"
   ]
  },
  {
   "cell_type": "code",
   "execution_count": null,
   "id": "2b542c58-460c-45a2-b21b-a9780fba8c87",
   "metadata": {},
   "outputs": [],
   "source": [
    "data_sim_sorted_index"
   ]
  },
  {
   "cell_type": "code",
   "execution_count": null,
   "id": "baaf8014-cb99-492c-8346-c6d195034503",
   "metadata": {},
   "outputs": [],
   "source": [
    "joke['JokeText']"
   ]
  },
  {
   "cell_type": "code",
   "execution_count": null,
   "id": "aed7cdcb-e1d9-4ec2-a5a2-878750260f50",
   "metadata": {},
   "outputs": [],
   "source": [
    "df=pd.read_csv('../data/UserRatings1.csv')"
   ]
  },
  {
   "cell_type": "code",
   "execution_count": null,
   "id": "a7248189-901f-4dc8-92fd-c2708973b10f",
   "metadata": {},
   "outputs": [],
   "source": [
    "df2=pd.read_csv('../data/UserRatings2.csv')"
   ]
  },
  {
   "cell_type": "code",
   "execution_count": null,
   "id": "549174a2-b576-4855-8d21-0af9d1c80c28",
   "metadata": {},
   "outputs": [],
   "source": [
    "ratings=pd.concat([df,df2], axis=1)\n",
    "ratings=ratings.fillna(0)\n",
    "ratings.drop('JokeId', axis=1, inplace=True)"
   ]
  },
  {
   "cell_type": "code",
   "execution_count": null,
   "id": "db6b4e3e-f71b-4f38-a68b-d237df440fb3",
   "metadata": {},
   "outputs": [],
   "source": [
    "ratings"
   ]
  },
  {
   "cell_type": "code",
   "execution_count": null,
   "id": "9b348520-954b-4991-a4a8-5de2b03870a9",
   "metadata": {},
   "outputs": [],
   "source": [
    "# 전치하기\n",
    "ratings_matrix_T = ratings_matrix.transpose()\n",
    "item_sim = cosine_similarity(ratings_matrix_T)"
   ]
  },
  {
   "cell_type": "code",
   "execution_count": null,
   "id": "d49c4935-9bfc-4524-b903-5b2c862b007e",
   "metadata": {},
   "outputs": [],
   "source": []
  },
  {
   "cell_type": "code",
   "execution_count": null,
   "id": "dd4a4508-3869-4390-be3b-236f40940c92",
   "metadata": {},
   "outputs": [],
   "source": [
    "ratings.T.values"
   ]
  },
  {
   "cell_type": "code",
   "execution_count": null,
   "id": "edc2bf85-c3b7-49d0-91f8-8bd003e22884",
   "metadata": {},
   "outputs": [],
   "source": [
    "def predict_rating_topsim(ratings_arr, item_sim_arr, n=20):  # top 20개만 \n",
    "   \n",
    "    pred = np.zeros(ratings_arr.shape)            # 유저-아이템 행렬만큼 0행렬 생성 \n",
    "    for col in range(ratings_arr.shape[1]):       # 아이템 개수 만큼 수행\n",
    "        top_n_items = [np.argsort(item_sim_arr[:, col])[:-n-1:-1]]  \n",
    "        for row in range(ratings_arr.shape[0]):       # 모든 유저에 대한\n",
    "            pred[row, col] = item_sim_arr[col, :][top_n_items].dot(ratings_arr[row, :][top_n_items].T) \n",
    "            pred[row, col] /= np.sum(np.abs(item_sim_arr[col, :][top_n_items]))  # /= 왼쪽 변수에서 오른쪽 값을 나누고 결과를 왼쪽변수에 할당\n",
    "    return pred\n",
    "\n",
    "predict_rating_topsim(ratings.T.values, item_sim, n=10)   # 다시 한번 보기 **"
   ]
  },
  {
   "cell_type": "code",
   "execution_count": 277,
   "id": "2c03f2d9-3930-4850-9166-50d3a3f5c286",
   "metadata": {},
   "outputs": [
    {
     "name": "stdout",
     "output_type": "stream",
     "text": [
      "### iteration step :  0  rmse :  3.6470913534047953\n",
      "### iteration step :  10  rmse :  1.3631954202763683\n",
      "### iteration step :  20  rmse :  1.0903841915987098\n",
      "### iteration step :  30  rmse :  0.9392707051072969\n",
      "### iteration step :  40  rmse :  0.8231197333374135\n",
      "### iteration step :  50  rmse :  0.7636202003108634\n",
      "### iteration step :  60  rmse :  0.7332630124607209\n",
      "### iteration step :  70  rmse :  0.715539294180142\n",
      "### iteration step :  80  rmse :  0.7042025792941504\n",
      "### iteration step :  90  rmse :  0.6963687909612455\n"
     ]
    }
   ],
   "source": [
    "P, Q = matrix_factorization(ratings.T.values[:1000], K=50, steps=100, learning_rate=0.01, r_lambda = 0.01)\n",
    "pred_matrix = np.dot(P, Q.T)                    # NaN 값이 있다고 에러"
   ]
  },
  {
   "cell_type": "code",
   "execution_count": 283,
   "id": "915165a1-6572-41dd-9ea3-a27e73c69eb6",
   "metadata": {},
   "outputs": [],
   "source": [
    "def re_matrix_factorization(R, K, P, Q, steps=100, learning_rate=0.01, r_lambda = 0.01):\n",
    "    # 만약 데이터프레임이 들어오면\n",
    "    if type(R) == 'pandas.core.frame.DataFrame':\n",
    "        R = R.values\n",
    "\n",
    "    num_users, num_items = R.shape\n",
    "    # P와 Q 매트릭스의 크기를 지정하고 정규분포를 가진 랜덤한 값으로 입력합니다. \n",
    "    np.random.seed(1)\n",
    "    \n",
    "    break_count = 0\n",
    "    # R > 0 인 행 위치, 열 위치, 값을 non_zeros 리스트 객체에 저장. \n",
    "    non_zeros = [ (i, j, R[i,j]) for i in range(num_users) for j in range(num_items) if R[i,j] > 0 ]\n",
    "    # 이전 코드에 이어서 작성\n",
    "    # SGD기법으로 P와 Q 매트릭스를 계속 업데이트. \n",
    "    for step in range(steps):\n",
    "        for i, j, r in non_zeros:\n",
    "            # 실제 값과 예측 값의 차이인 오류 값 구함\n",
    "            eij = r - np.dot(P[i, :], Q[j, :].T)\n",
    "            # Regularization을 반영한 SGD 업데이트 공식 적용\n",
    "            P[i,:] = P[i,:] + learning_rate*(eij * Q[j, :] - r_lambda*P[i,:])\n",
    "            Q[j,:] = Q[j,:] + learning_rate*(eij * P[i, :] - r_lambda*Q[j,:])\n",
    "        \n",
    "        \n",
    "        if (step % 10) == 0 :\n",
    "            rmse = get_rmse(R, P, Q, non_zeros)\n",
    "            print(\"### iteration step : \", step,\" rmse : \", rmse)\n",
    "    return P, Q"
   ]
  },
  {
   "cell_type": "code",
   "execution_count": null,
   "id": "762765ab-b6b0-4209-b056-38d055f07274",
   "metadata": {},
   "outputs": [],
   "source": [
    "P, Q = re_matrix_factorization(ratings.T.values[:1000], K=50, P = P, Q =  Q, \n",
    "                               steps=100, learning_rate=0.01, r_lambda = 0.01)\n",
    "pred_matrix = np.dot(P, Q.T)     "
   ]
  },
  {
   "cell_type": "code",
   "execution_count": 289,
   "id": "40d87325-2596-4d88-8c66-bfa97c4ac716",
   "metadata": {
    "scrolled": true
   },
   "outputs": [
    {
     "data": {
      "text/html": [
       "<div>\n",
       "<style scoped>\n",
       "    .dataframe tbody tr th:only-of-type {\n",
       "        vertical-align: middle;\n",
       "    }\n",
       "\n",
       "    .dataframe tbody tr th {\n",
       "        vertical-align: top;\n",
       "    }\n",
       "\n",
       "    .dataframe thead th {\n",
       "        text-align: right;\n",
       "    }\n",
       "</style>\n",
       "<table border=\"1\" class=\"dataframe\">\n",
       "  <thead>\n",
       "    <tr style=\"text-align: right;\">\n",
       "      <th></th>\n",
       "      <th>0</th>\n",
       "      <th>1</th>\n",
       "      <th>2</th>\n",
       "      <th>3</th>\n",
       "      <th>4</th>\n",
       "      <th>5</th>\n",
       "      <th>6</th>\n",
       "      <th>7</th>\n",
       "      <th>8</th>\n",
       "      <th>9</th>\n",
       "      <th>...</th>\n",
       "      <th>90</th>\n",
       "      <th>91</th>\n",
       "      <th>92</th>\n",
       "      <th>93</th>\n",
       "      <th>94</th>\n",
       "      <th>95</th>\n",
       "      <th>96</th>\n",
       "      <th>97</th>\n",
       "      <th>98</th>\n",
       "      <th>99</th>\n",
       "    </tr>\n",
       "  </thead>\n",
       "  <tbody>\n",
       "    <tr>\n",
       "      <th>User1</th>\n",
       "      <td>5.10</td>\n",
       "      <td>4.90</td>\n",
       "      <td>1.75</td>\n",
       "      <td>-4.17</td>\n",
       "      <td>5.15</td>\n",
       "      <td>1.75</td>\n",
       "      <td>4.76</td>\n",
       "      <td>3.30</td>\n",
       "      <td>-2.57</td>\n",
       "      <td>-1.41</td>\n",
       "      <td>...</td>\n",
       "      <td>5.34</td>\n",
       "      <td>-4.61</td>\n",
       "      <td>3.59</td>\n",
       "      <td>7.18</td>\n",
       "      <td>0.92</td>\n",
       "      <td>6.31</td>\n",
       "      <td>-4.95</td>\n",
       "      <td>-0.19</td>\n",
       "      <td>3.25</td>\n",
       "      <td>4.37</td>\n",
       "    </tr>\n",
       "    <tr>\n",
       "      <th>User2</th>\n",
       "      <td>-8.79</td>\n",
       "      <td>-0.87</td>\n",
       "      <td>1.99</td>\n",
       "      <td>-4.61</td>\n",
       "      <td>5.39</td>\n",
       "      <td>-0.78</td>\n",
       "      <td>1.60</td>\n",
       "      <td>1.07</td>\n",
       "      <td>-8.69</td>\n",
       "      <td>-4.66</td>\n",
       "      <td>...</td>\n",
       "      <td>3.59</td>\n",
       "      <td>1.21</td>\n",
       "      <td>2.86</td>\n",
       "      <td>-0.05</td>\n",
       "      <td>-1.75</td>\n",
       "      <td>-1.02</td>\n",
       "      <td>-0.97</td>\n",
       "      <td>4.13</td>\n",
       "      <td>-1.84</td>\n",
       "      <td>2.96</td>\n",
       "    </tr>\n",
       "    <tr>\n",
       "      <th>User3</th>\n",
       "      <td>-3.50</td>\n",
       "      <td>-2.91</td>\n",
       "      <td>-2.18</td>\n",
       "      <td>-0.10</td>\n",
       "      <td>7.52</td>\n",
       "      <td>1.26</td>\n",
       "      <td>-5.39</td>\n",
       "      <td>1.50</td>\n",
       "      <td>-8.40</td>\n",
       "      <td>4.37</td>\n",
       "      <td>...</td>\n",
       "      <td>1.84</td>\n",
       "      <td>-4.03</td>\n",
       "      <td>-1.41</td>\n",
       "      <td>1.65</td>\n",
       "      <td>-3.79</td>\n",
       "      <td>3.98</td>\n",
       "      <td>-6.46</td>\n",
       "      <td>-6.89</td>\n",
       "      <td>-2.33</td>\n",
       "      <td>-7.38</td>\n",
       "    </tr>\n",
       "    <tr>\n",
       "      <th>User4</th>\n",
       "      <td>7.14</td>\n",
       "      <td>-3.88</td>\n",
       "      <td>-3.06</td>\n",
       "      <td>0.05</td>\n",
       "      <td>6.26</td>\n",
       "      <td>6.65</td>\n",
       "      <td>-7.52</td>\n",
       "      <td>7.28</td>\n",
       "      <td>-5.15</td>\n",
       "      <td>-7.14</td>\n",
       "      <td>...</td>\n",
       "      <td>-4.47</td>\n",
       "      <td>6.36</td>\n",
       "      <td>4.71</td>\n",
       "      <td>-5.19</td>\n",
       "      <td>6.26</td>\n",
       "      <td>3.93</td>\n",
       "      <td>-2.57</td>\n",
       "      <td>1.07</td>\n",
       "      <td>2.33</td>\n",
       "      <td>-0.34</td>\n",
       "    </tr>\n",
       "    <tr>\n",
       "      <th>User5</th>\n",
       "      <td>-8.79</td>\n",
       "      <td>-0.58</td>\n",
       "      <td>-0.58</td>\n",
       "      <td>8.98</td>\n",
       "      <td>7.67</td>\n",
       "      <td>8.25</td>\n",
       "      <td>4.08</td>\n",
       "      <td>2.52</td>\n",
       "      <td>-9.66</td>\n",
       "      <td>2.48</td>\n",
       "      <td>...</td>\n",
       "      <td>-0.29</td>\n",
       "      <td>9.37</td>\n",
       "      <td>8.30</td>\n",
       "      <td>9.13</td>\n",
       "      <td>-3.45</td>\n",
       "      <td>9.13</td>\n",
       "      <td>9.17</td>\n",
       "      <td>9.17</td>\n",
       "      <td>9.08</td>\n",
       "      <td>8.98</td>\n",
       "    </tr>\n",
       "  </tbody>\n",
       "</table>\n",
       "<p>5 rows × 100 columns</p>\n",
       "</div>"
      ],
      "text/plain": [
       "         0     1     2     3     4     5     6     7     8     9   ...    90  \\\n",
       "User1  5.10  4.90  1.75 -4.17  5.15  1.75  4.76  3.30 -2.57 -1.41  ...  5.34   \n",
       "User2 -8.79 -0.87  1.99 -4.61  5.39 -0.78  1.60  1.07 -8.69 -4.66  ...  3.59   \n",
       "User3 -3.50 -2.91 -2.18 -0.10  7.52  1.26 -5.39  1.50 -8.40  4.37  ...  1.84   \n",
       "User4  7.14 -3.88 -3.06  0.05  6.26  6.65 -7.52  7.28 -5.15 -7.14  ... -4.47   \n",
       "User5 -8.79 -0.58 -0.58  8.98  7.67  8.25  4.08  2.52 -9.66  2.48  ... -0.29   \n",
       "\n",
       "         91    92    93    94    95    96    97    98    99  \n",
       "User1 -4.61  3.59  7.18  0.92  6.31 -4.95 -0.19  3.25  4.37  \n",
       "User2  1.21  2.86 -0.05 -1.75 -1.02 -0.97  4.13 -1.84  2.96  \n",
       "User3 -4.03 -1.41  1.65 -3.79  3.98 -6.46 -6.89 -2.33 -7.38  \n",
       "User4  6.36  4.71 -5.19  6.26  3.93 -2.57  1.07  2.33 -0.34  \n",
       "User5  9.37  8.30  9.13 -3.45  9.13  9.17  9.17  9.08  8.98  \n",
       "\n",
       "[5 rows x 100 columns]"
      ]
     },
     "execution_count": 289,
     "metadata": {},
     "output_type": "execute_result"
    }
   ],
   "source": [
    "ratings.T.head(5)"
   ]
  },
  {
   "cell_type": "code",
   "execution_count": null,
   "id": "0e0f71df-b6bd-483b-9557-cd2624a4df97",
   "metadata": {},
   "outputs": [],
   "source": []
  },
  {
   "cell_type": "code",
   "execution_count": null,
   "id": "a00ecc9c-e0c9-48a9-a725-438f7b79e3f1",
   "metadata": {},
   "outputs": [],
   "source": []
  },
  {
   "cell_type": "code",
   "execution_count": null,
   "id": "39a6edf6-e533-449f-8a8b-311d50d1ec68",
   "metadata": {},
   "outputs": [],
   "source": []
  },
  {
   "cell_type": "code",
   "execution_count": null,
   "id": "1052a7d3-a799-4182-b0a1-117491862af6",
   "metadata": {},
   "outputs": [],
   "source": []
  },
  {
   "cell_type": "code",
   "execution_count": null,
   "id": "a69045f3-e377-4b92-880e-7262be482cdc",
   "metadata": {},
   "outputs": [],
   "source": []
  },
  {
   "cell_type": "code",
   "execution_count": null,
   "id": "720dba5f-8793-4082-a837-45ebaa78f5c2",
   "metadata": {},
   "outputs": [],
   "source": []
  },
  {
   "cell_type": "code",
   "execution_count": null,
   "id": "8ab41810-79f5-4380-b930-1282a4e767a7",
   "metadata": {},
   "outputs": [],
   "source": []
  },
  {
   "cell_type": "code",
   "execution_count": null,
   "id": "b35c53ad-0146-44fb-aa11-d750e07feb41",
   "metadata": {},
   "outputs": [],
   "source": []
  }
 ],
 "metadata": {
  "kernelspec": {
   "display_name": "Python 3 (ipykernel)",
   "language": "python",
   "name": "python3"
  },
  "language_info": {
   "codemirror_mode": {
    "name": "ipython",
    "version": 3
   },
   "file_extension": ".py",
   "mimetype": "text/x-python",
   "name": "python",
   "nbconvert_exporter": "python",
   "pygments_lexer": "ipython3",
   "version": "3.11.5"
  }
 },
 "nbformat": 4,
 "nbformat_minor": 5
}
