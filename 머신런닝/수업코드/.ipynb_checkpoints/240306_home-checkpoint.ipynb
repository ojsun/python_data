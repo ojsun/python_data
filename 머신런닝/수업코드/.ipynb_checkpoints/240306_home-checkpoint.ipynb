{
 "cells": [
  {
   "cell_type": "code",
   "execution_count": null,
   "id": "5ac99376-a307-41f4-b792-1230683eed10",
   "metadata": {
    "tags": []
   },
   "outputs": [],
   "source": [
    "import matplotlib.pyplot as plt\n",
    "import seaborn as sns\n",
    "import pandas as pd\n",
    "import numpy as np\n",
    "import warnings\n",
    "warnings.filterwarnings('ignore')\n",
    "\n",
    "from sklearn.preprocessing import StandardScaler\n",
    "from sklearn.model_selection import train_test_split, GridSearchCV\n",
    "from sklearn.metrics import accuracy_score, f1_score, roc_auc_score"
   ]
  },
  {
   "cell_type": "code",
   "execution_count": null,
   "id": "aad7e524-e108-4df2-972c-c00792d6d248",
   "metadata": {
    "tags": []
   },
   "outputs": [],
   "source": [
    "import re\n",
    "from konlpy.tag import Okt"
   ]
  },
  {
   "cell_type": "code",
   "execution_count": null,
   "id": "9065de95-35b8-48e0-b1b4-5ca3137249b6",
   "metadata": {
    "tags": []
   },
   "outputs": [],
   "source": [
    "# 실습: 감성분석\n",
    "df=pd.read_csv('./data/악플 데이터.csv')"
   ]
  },
  {
   "cell_type": "code",
   "execution_count": null,
   "id": "af4065a8-76ba-41d3-bdee-19b69888c2fc",
   "metadata": {
    "tags": []
   },
   "outputs": [],
   "source": [
    "# 전처리(한글): 클렌징, 토큰화, 불용어제거\n",
    "\n",
    "def cleaning(text):\n",
    "    p=re.compile('[^ a-zA-Zㄱ-ㅣ가-힣]+')\n",
    "    result=p.sub('',text).lower()\n",
    "    return result\n",
    "df['content']=df['content'].apply(cleaning)\n",
    "\n",
    "okt=Okt()\n",
    "def okt_tokenizer(text):\n",
    "    words=okt.pos(text, stem=True)\n",
    "    filtered_words=[]\n",
    "    for word, pos in words:\n",
    "        if pos not in ['Josa']:\n",
    "            filtered_words.append(word)\n",
    "    return filtered_words\n",
    "\n",
    "with open('./data/stopword.txt','r',encoding='utf-8') as f:\n",
    "    word = f.read()\n",
    "    stopwords=word.split('\\n')"
   ]
  },
  {
   "cell_type": "code",
   "execution_count": null,
   "id": "21be646f-378d-4549-8b12-8fb432968a24",
   "metadata": {
    "tags": []
   },
   "outputs": [],
   "source": [
    "# 데이터셋 나누기- target, peatures, 학습, 테스트 sets\n",
    "\n",
    "X_df= df['content']\n",
    "y_df= df['target']\n",
    "\n",
    "X_train, X_test, y_train, y_test= train_test_split(X_df, y_df, test_size=0.2, random_state=0)\n",
    "print(X_train.shape,X_test.shape,y_test.shape)"
   ]
  },
  {
   "cell_type": "code",
   "execution_count": null,
   "id": "b82d471e-7508-422e-81c9-2720250c03e9",
   "metadata": {
    "tags": []
   },
   "outputs": [],
   "source": [
    "# 벡터화, 적용 1. CountVectorizer\n",
    "from sklearn.feature_extraction.text import CountVectorizer\n",
    "cnt_vct=CountVectorizer(stop_words=stopwords, tokenizer=okt_tokenizer)\n",
    "X_train_cnt=cnt_vct.fit_transform(X_train)\n",
    "X_test_cnt=cnt_vct.transform(X_test)"
   ]
  },
  {
   "cell_type": "code",
   "execution_count": null,
   "id": "12d36085-6d8c-4c23-93e4-59ba2031891f",
   "metadata": {
    "tags": []
   },
   "outputs": [],
   "source": [
    "# 모델 학습\n",
    "from sklearn.linear_model import LogisticRegression\n",
    "lr_clf=LogisticRegression(solver='liblinear', random_state=0)\n",
    "lr_clf.fit(X_train_cnt, y_train)\n",
    "pred=lr_clf.predict(X_test_cnt)\n",
    "print('정확도 accuracy:', accuracy_score(y_test, pred))\n",
    "print('정확도 f1 :',f1_score(y_test, pred))"
   ]
  },
  {
   "cell_type": "code",
   "execution_count": null,
   "id": "61f46d66-bde4-4877-ae98-bda4d27627cd",
   "metadata": {},
   "outputs": [],
   "source": [
    "# 벡터화, 적용 2. fidfVectorizer"
   ]
  },
  {
   "cell_type": "code",
   "execution_count": null,
   "id": "9ce16f0d-8281-4327-9443-0aa7869c9f9c",
   "metadata": {
    "tags": []
   },
   "outputs": [],
   "source": [
    "from sklearn.feature_extraction.text import TfidfVectorizer\n",
    "tf_vct=TfidfVectorizer(stop_words=stopwords, tokenizer=okt_tokenizer)\n",
    "X_train_tf=tf_vct.fit_transform(X_train)\n",
    "X_test_tf=tf_vct.transform(X_test)"
   ]
  },
  {
   "cell_type": "code",
   "execution_count": null,
   "id": "1885b6b4-8d00-4e27-80f0-7e9f0ee00502",
   "metadata": {
    "tags": []
   },
   "outputs": [],
   "source": [
    "from sklearn.linear_model import LogisticRegression\n",
    "lr_clf=LogisticRegression(solver='liblinear', random_state=0)\n",
    "lr_clf.fit(X_train_tf, y_train)\n",
    "pred=lr_clf.predict(X_test_tf)\n",
    "print('정확도 accuracy:', accuracy_score(y_test, pred))\n",
    "print('정확도 f1 :',f1_score(y_test, pred))"
   ]
  },
  {
   "cell_type": "code",
   "execution_count": null,
   "id": "6edeb8ed-4258-4a65-9761-162822fa9215",
   "metadata": {
    "tags": []
   },
   "outputs": [],
   "source": [
    "test_text = '욕나온다. 쓰레기'\n",
    "predict = tf_vct.transform([test_text])\n",
    "lr_clf.predict(predict)"
   ]
  },
  {
   "cell_type": "code",
   "execution_count": null,
   "id": "26079625-3e59-45f7-91ea-6ea2cfc805fa",
   "metadata": {
    "tags": []
   },
   "outputs": [],
   "source": [
    "#실습2    # 독립변수들이 원핫형식(희소행렬)"
   ]
  },
  {
   "cell_type": "code",
   "execution_count": 95,
   "id": "611a1659-f73e-4e97-a87c-ff0f453f13a4",
   "metadata": {
    "tags": []
   },
   "outputs": [],
   "source": [
    "df=pd.read_csv('./data/unsmile_data.csv')  "
   ]
  },
  {
   "cell_type": "code",
   "execution_count": 96,
   "id": "8c125d7c-4c6a-40c8-aad3-d8ab5b77a9e7",
   "metadata": {
    "tags": []
   },
   "outputs": [],
   "source": [
    "y = df.iloc[:, 1:]\n",
    "y_label = pd.DataFrame({'target': y.columns})"
   ]
  },
  {
   "cell_type": "code",
   "execution_count": 97,
   "id": "69cb2403-1eb3-4e46-a2c3-60582f399c02",
   "metadata": {
    "tags": []
   },
   "outputs": [
    {
     "data": {
      "text/html": [
       "<style>#sk-container-id-6 {color: black;}#sk-container-id-6 pre{padding: 0;}#sk-container-id-6 div.sk-toggleable {background-color: white;}#sk-container-id-6 label.sk-toggleable__label {cursor: pointer;display: block;width: 100%;margin-bottom: 0;padding: 0.3em;box-sizing: border-box;text-align: center;}#sk-container-id-6 label.sk-toggleable__label-arrow:before {content: \"▸\";float: left;margin-right: 0.25em;color: #696969;}#sk-container-id-6 label.sk-toggleable__label-arrow:hover:before {color: black;}#sk-container-id-6 div.sk-estimator:hover label.sk-toggleable__label-arrow:before {color: black;}#sk-container-id-6 div.sk-toggleable__content {max-height: 0;max-width: 0;overflow: hidden;text-align: left;background-color: #f0f8ff;}#sk-container-id-6 div.sk-toggleable__content pre {margin: 0.2em;color: black;border-radius: 0.25em;background-color: #f0f8ff;}#sk-container-id-6 input.sk-toggleable__control:checked~div.sk-toggleable__content {max-height: 200px;max-width: 100%;overflow: auto;}#sk-container-id-6 input.sk-toggleable__control:checked~label.sk-toggleable__label-arrow:before {content: \"▾\";}#sk-container-id-6 div.sk-estimator input.sk-toggleable__control:checked~label.sk-toggleable__label {background-color: #d4ebff;}#sk-container-id-6 div.sk-label input.sk-toggleable__control:checked~label.sk-toggleable__label {background-color: #d4ebff;}#sk-container-id-6 input.sk-hidden--visually {border: 0;clip: rect(1px 1px 1px 1px);clip: rect(1px, 1px, 1px, 1px);height: 1px;margin: -1px;overflow: hidden;padding: 0;position: absolute;width: 1px;}#sk-container-id-6 div.sk-estimator {font-family: monospace;background-color: #f0f8ff;border: 1px dotted black;border-radius: 0.25em;box-sizing: border-box;margin-bottom: 0.5em;}#sk-container-id-6 div.sk-estimator:hover {background-color: #d4ebff;}#sk-container-id-6 div.sk-parallel-item::after {content: \"\";width: 100%;border-bottom: 1px solid gray;flex-grow: 1;}#sk-container-id-6 div.sk-label:hover label.sk-toggleable__label {background-color: #d4ebff;}#sk-container-id-6 div.sk-serial::before {content: \"\";position: absolute;border-left: 1px solid gray;box-sizing: border-box;top: 0;bottom: 0;left: 50%;z-index: 0;}#sk-container-id-6 div.sk-serial {display: flex;flex-direction: column;align-items: center;background-color: white;padding-right: 0.2em;padding-left: 0.2em;position: relative;}#sk-container-id-6 div.sk-item {position: relative;z-index: 1;}#sk-container-id-6 div.sk-parallel {display: flex;align-items: stretch;justify-content: center;background-color: white;position: relative;}#sk-container-id-6 div.sk-item::before, #sk-container-id-6 div.sk-parallel-item::before {content: \"\";position: absolute;border-left: 1px solid gray;box-sizing: border-box;top: 0;bottom: 0;left: 50%;z-index: -1;}#sk-container-id-6 div.sk-parallel-item {display: flex;flex-direction: column;z-index: 1;position: relative;background-color: white;}#sk-container-id-6 div.sk-parallel-item:first-child::after {align-self: flex-end;width: 50%;}#sk-container-id-6 div.sk-parallel-item:last-child::after {align-self: flex-start;width: 50%;}#sk-container-id-6 div.sk-parallel-item:only-child::after {width: 0;}#sk-container-id-6 div.sk-dashed-wrapped {border: 1px dashed gray;margin: 0 0.4em 0.5em 0.4em;box-sizing: border-box;padding-bottom: 0.4em;background-color: white;}#sk-container-id-6 div.sk-label label {font-family: monospace;font-weight: bold;display: inline-block;line-height: 1.2em;}#sk-container-id-6 div.sk-label-container {text-align: center;}#sk-container-id-6 div.sk-container {/* jupyter's `normalize.less` sets `[hidden] { display: none; }` but bootstrap.min.css set `[hidden] { display: none !important; }` so we also need the `!important` here to be able to override the default hidden behavior on the sphinx rendered scikit-learn.org. See: https://github.com/scikit-learn/scikit-learn/issues/21755 */display: inline-block !important;position: relative;}#sk-container-id-6 div.sk-text-repr-fallback {display: none;}</style><div id=\"sk-container-id-6\" class=\"sk-top-container\"><div class=\"sk-text-repr-fallback\"><pre>OneHotEncoder()</pre><b>In a Jupyter environment, please rerun this cell to show the HTML representation or trust the notebook. <br />On GitHub, the HTML representation is unable to render, please try loading this page with nbviewer.org.</b></div><div class=\"sk-container\" hidden><div class=\"sk-item\"><div class=\"sk-estimator sk-toggleable\"><input class=\"sk-toggleable__control sk-hidden--visually\" id=\"sk-estimator-id-6\" type=\"checkbox\" checked><label for=\"sk-estimator-id-6\" class=\"sk-toggleable__label sk-toggleable__label-arrow\">OneHotEncoder</label><div class=\"sk-toggleable__content\"><pre>OneHotEncoder()</pre></div></div></div></div></div>"
      ],
      "text/plain": [
       "OneHotEncoder()"
      ]
     },
     "execution_count": 97,
     "metadata": {},
     "output_type": "execute_result"
    }
   ],
   "source": [
    "from sklearn.preprocessing import OneHotEncoder\n",
    "oh_enc = OneHotEncoder()\n",
    "oh_enc.fit(y_label)"
   ]
  },
  {
   "cell_type": "code",
   "execution_count": 98,
   "id": "1f1967b1-b9f8-454d-a249-4511a17a1520",
   "metadata": {
    "tags": []
   },
   "outputs": [
    {
     "data": {
      "text/plain": [
       "array([['clean'],\n",
       "       ['종교'],\n",
       "       ['clean'],\n",
       "       ...,\n",
       "       ['인종/국적'],\n",
       "       ['여성/가족'],\n",
       "       ['남성']], dtype=object)"
      ]
     },
     "execution_count": 98,
     "metadata": {},
     "output_type": "execute_result"
    }
   ],
   "source": [
    "y_oh = y[oh_enc.categories_[0]]\n",
    "y_oh.drop([5876, 11942], inplace=True)\n",
    "oh_enc.inverse_transform(y_oh)"
   ]
  },
  {
   "cell_type": "code",
   "execution_count": 99,
   "id": "069a9254-2fbb-4cbf-9dcb-ffca8eee91d1",
   "metadata": {
    "tags": []
   },
   "outputs": [
    {
     "data": {
      "text/html": [
       "<div>\n",
       "<style scoped>\n",
       "    .dataframe tbody tr th:only-of-type {\n",
       "        vertical-align: middle;\n",
       "    }\n",
       "\n",
       "    .dataframe tbody tr th {\n",
       "        vertical-align: top;\n",
       "    }\n",
       "\n",
       "    .dataframe thead th {\n",
       "        text-align: right;\n",
       "    }\n",
       "</style>\n",
       "<table border=\"1\" class=\"dataframe\">\n",
       "  <thead>\n",
       "    <tr style=\"text-align: right;\">\n",
       "      <th></th>\n",
       "      <th>문장</th>\n",
       "      <th>정답</th>\n",
       "    </tr>\n",
       "  </thead>\n",
       "  <tbody>\n",
       "    <tr>\n",
       "      <th>0</th>\n",
       "      <td>일안하는 시간은 쉬고싶어서 그런게 아닐까</td>\n",
       "      <td>clean</td>\n",
       "    </tr>\n",
       "    <tr>\n",
       "      <th>1</th>\n",
       "      <td>아동성범죄와 페도버는 기록바 끊어져 영원히 고통 받는다. 무슬림 50퍼 근친이다. ...</td>\n",
       "      <td>종교</td>\n",
       "    </tr>\n",
       "    <tr>\n",
       "      <th>2</th>\n",
       "      <td>루나 솔로앨범 나왔을 때부터 머모 기운 있었음 ㅇㅇ Keep o  doin 진짜 띵...</td>\n",
       "      <td>clean</td>\n",
       "    </tr>\n",
       "    <tr>\n",
       "      <th>3</th>\n",
       "      <td>홍팍에도 어버이연합인가 보내요 뭐 이런뎃글 있는데 이거 어버이연합측에 신고하면 그쪽...</td>\n",
       "      <td>clean</td>\n",
       "    </tr>\n",
       "    <tr>\n",
       "      <th>4</th>\n",
       "      <td>아놔 왜 여기 댓들은 다 여자들이 김치녀라고 먼저 불렸다! 여자들은 더 심하게 그런...</td>\n",
       "      <td>여성/가족</td>\n",
       "    </tr>\n",
       "    <tr>\n",
       "      <th>...</th>\n",
       "      <td>...</td>\n",
       "      <td>...</td>\n",
       "    </tr>\n",
       "    <tr>\n",
       "      <th>18737</th>\n",
       "      <td>저게 시대적언어면 한남충도 시대적언어 아니노 ㅋㅋ</td>\n",
       "      <td>남성</td>\n",
       "    </tr>\n",
       "    <tr>\n",
       "      <th>18738</th>\n",
       "      <td>다른것보다 눈이 어떻게 저렇게 생기노.탄식.</td>\n",
       "      <td>악플/욕설</td>\n",
       "    </tr>\n",
       "    <tr>\n",
       "      <th>18739</th>\n",
       "      <td>막노동을 해도 한국에살고말지 미쳤다고 남미를가냐?차라리 자살을하겠다.</td>\n",
       "      <td>인종/국적</td>\n",
       "    </tr>\n",
       "    <tr>\n",
       "      <th>18740</th>\n",
       "      <td>‘사형을 구형하였으나 여성인 점을 감안해 25년 선고’ ???내가 뭐 잘못본건가?개...</td>\n",
       "      <td>여성/가족</td>\n",
       "    </tr>\n",
       "    <tr>\n",
       "      <th>18741</th>\n",
       "      <td>참군남이노 남자의 용도는 고기방패다 ㅋㅋㅋ</td>\n",
       "      <td>남성</td>\n",
       "    </tr>\n",
       "  </tbody>\n",
       "</table>\n",
       "<p>18740 rows × 2 columns</p>\n",
       "</div>"
      ],
      "text/plain": [
       "                                                      문장     정답\n",
       "0                                 일안하는 시간은 쉬고싶어서 그런게 아닐까  clean\n",
       "1      아동성범죄와 페도버는 기록바 끊어져 영원히 고통 받는다. 무슬림 50퍼 근친이다. ...     종교\n",
       "2      루나 솔로앨범 나왔을 때부터 머모 기운 있었음 ㅇㅇ Keep o  doin 진짜 띵...  clean\n",
       "3      홍팍에도 어버이연합인가 보내요 뭐 이런뎃글 있는데 이거 어버이연합측에 신고하면 그쪽...  clean\n",
       "4      아놔 왜 여기 댓들은 다 여자들이 김치녀라고 먼저 불렸다! 여자들은 더 심하게 그런...  여성/가족\n",
       "...                                                  ...    ...\n",
       "18737                        저게 시대적언어면 한남충도 시대적언어 아니노 ㅋㅋ     남성\n",
       "18738                           다른것보다 눈이 어떻게 저렇게 생기노.탄식.  악플/욕설\n",
       "18739             막노동을 해도 한국에살고말지 미쳤다고 남미를가냐?차라리 자살을하겠다.  인종/국적\n",
       "18740  ‘사형을 구형하였으나 여성인 점을 감안해 25년 선고’ ???내가 뭐 잘못본건가?개...  여성/가족\n",
       "18741                            참군남이노 남자의 용도는 고기방패다 ㅋㅋㅋ     남성\n",
       "\n",
       "[18740 rows x 2 columns]"
      ]
     },
     "execution_count": 99,
     "metadata": {},
     "output_type": "execute_result"
    }
   ],
   "source": [
    "data = df[['문장']]\n",
    "data.drop([5876, 11942], inplace=True)\n",
    "data[['정답']] = oh_enc.inverse_transform(y_oh)\n",
    "data"
   ]
  },
  {
   "cell_type": "code",
   "execution_count": null,
   "id": "70eb4894-ac56-4306-93a9-4e0872b055a5",
   "metadata": {},
   "outputs": [],
   "source": []
  },
  {
   "cell_type": "code",
   "execution_count": null,
   "id": "385fa647-41d0-4ca3-a6fa-8f2f9ac9e7e9",
   "metadata": {},
   "outputs": [],
   "source": []
  },
  {
   "cell_type": "code",
   "execution_count": null,
   "id": "fa50fd6a-8a9c-4d59-9758-a3c0d2f6a4f5",
   "metadata": {},
   "outputs": [],
   "source": []
  },
  {
   "cell_type": "code",
   "execution_count": null,
   "id": "ca81ec09-086f-4115-8b68-3fe0429c2a01",
   "metadata": {
    "tags": []
   },
   "outputs": [],
   "source": [
    "# 감정사전 함수 사용\n",
    "def setiment_analyzer(text):\n",
    "    import pandas as pd\n",
    "    from konlpy.tag import Kkma\n",
    "    from nltk.util import ngrams\n",
    "    \n",
    "    senti_words = pd.read_csv('./data/polarity.csv')\n",
    "    kkma = Kkma()\n",
    "\n",
    "    ngram1 = kkma.pos(text, join = True)\n",
    "    ngram2 = list(ngrams(ngram1, n=2))\n",
    "    new_ngram2 = []\n",
    "    for n in ngram2:\n",
    "        new_ngram2.append(';'.join(n))\n",
    "    ngram3 = list(ngrams(ngram1, n=3))\n",
    "    new_ngram3 = []\n",
    "    for n in ngram3:\n",
    "        new_ngram3.append(';'.join(n))\n",
    "\n",
    "    words = ngram1 + new_ngram2 + new_ngram3\n",
    "\n",
    "    result_df = senti_words[senti_words['ngram'].isin(words)]\n",
    "\n",
    "    neg_df = result_df[result_df['max.value'] == 'NEG']\n",
    "    pos_df = result_df[result_df['max.value'] == 'POS']\n",
    "    neg_value = (neg_df['NEG'] / neg_df['freq']).sum()\n",
    "    pos_value = (pos_df['NEG'] / pos_df['freq']).sum()\n",
    "    neg_length = neg_df.shape[0]\n",
    "    pos_length = pos_df.shape[0]\n",
    "\n",
    "    if pos_length == 0:\n",
    "        final_value = (pos_value ) - (neg_value / neg_length)\n",
    "    elif neg_length == 0:\n",
    "        final_value = (pos_value / pos_length) - (neg_value)\n",
    "    else:\n",
    "        final_value = (pos_value / pos_length) - (neg_value / neg_length)\n",
    "\n",
    "\n",
    "    if final_value >= 0:\n",
    "        print('긍정문장입니다.')\n",
    "    else:\n",
    "        print('부정문장입니다.')\n",
    "    return final_value"
   ]
  },
  {
   "cell_type": "code",
   "execution_count": null,
   "id": "a1074edb-b1c7-45b4-b89e-8f56db3454d2",
   "metadata": {
    "tags": []
   },
   "outputs": [],
   "source": [
    "text = df['content'].sample(1).iloc[0]\n",
    "print(text)\n",
    "setiment_analyzer(text)"
   ]
  },
  {
   "cell_type": "code",
   "execution_count": null,
   "id": "471e7c31-9757-409c-a663-55f9bb08b778",
   "metadata": {},
   "outputs": [],
   "source": []
  },
  {
   "cell_type": "code",
   "execution_count": null,
   "id": "8ead9f4a-ad23-4743-8c5e-ccfef53ce630",
   "metadata": {},
   "outputs": [],
   "source": []
  },
  {
   "cell_type": "code",
   "execution_count": null,
   "id": "7da0788d-27fc-4169-b458-ec1ada7b9299",
   "metadata": {},
   "outputs": [],
   "source": []
  },
  {
   "cell_type": "code",
   "execution_count": null,
   "id": "86b183af-8c98-47e8-a96a-b2963f5097b1",
   "metadata": {},
   "outputs": [],
   "source": []
  },
  {
   "cell_type": "code",
   "execution_count": null,
   "id": "549d2458-9690-4084-81f0-e104fbc87aa5",
   "metadata": {},
   "outputs": [],
   "source": []
  },
  {
   "cell_type": "code",
   "execution_count": null,
   "id": "7efcabf1-c926-4b1c-97d5-e8afe6e00010",
   "metadata": {},
   "outputs": [],
   "source": []
  },
  {
   "cell_type": "code",
   "execution_count": null,
   "id": "daab4506-30bc-400c-8e17-5fb2c022c823",
   "metadata": {},
   "outputs": [],
   "source": []
  },
  {
   "cell_type": "code",
   "execution_count": null,
   "id": "01d6450b-eefc-4840-b064-40c35e206a04",
   "metadata": {},
   "outputs": [],
   "source": []
  },
  {
   "cell_type": "code",
   "execution_count": null,
   "id": "fb3446ed-e4cd-4fbb-80f4-f60d92503a34",
   "metadata": {},
   "outputs": [],
   "source": []
  },
  {
   "cell_type": "code",
   "execution_count": null,
   "id": "b16fd1c4-5b48-49db-8bdb-85ae1ca984ed",
   "metadata": {},
   "outputs": [],
   "source": []
  },
  {
   "cell_type": "code",
   "execution_count": null,
   "id": "5544b684-a905-47c7-883f-4cb8b1a6f01f",
   "metadata": {},
   "outputs": [],
   "source": []
  },
  {
   "cell_type": "code",
   "execution_count": null,
   "id": "d36b9836-308e-4c81-8b69-eca81bbacb45",
   "metadata": {},
   "outputs": [],
   "source": []
  }
 ],
 "metadata": {
  "kernelspec": {
   "display_name": "Python 3 (ipykernel)",
   "language": "python",
   "name": "python3"
  },
  "language_info": {
   "codemirror_mode": {
    "name": "ipython",
    "version": 3
   },
   "file_extension": ".py",
   "mimetype": "text/x-python",
   "name": "python",
   "nbconvert_exporter": "python",
   "pygments_lexer": "ipython3",
   "version": "3.11.5"
  }
 },
 "nbformat": 4,
 "nbformat_minor": 5
}
