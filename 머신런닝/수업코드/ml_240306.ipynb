{
 "cells": [
  {
   "cell_type": "code",
   "execution_count": null,
   "id": "2873e9d3-2ff9-4544-98a1-51bd3d6d203c",
   "metadata": {},
   "outputs": [],
   "source": [
    "import matplotlib.pyplot as plt\n",
    "import seaborn as sns\n",
    "import pandas as pd\n",
    "import numpy as np\n",
    "import warnings\n",
    "warnings.filterwarnings('ignore')\n",
    "\n",
    "from sklearn.preprocessing import StandardScaler\n",
    "from sklearn.model_selection import train_test_split,cross_val_score, GridSearchCV\n",
    "from sklearn.metrics import accuracy_score, f1_score, roc_auc_score"
   ]
  },
  {
   "cell_type": "code",
   "execution_count": null,
   "id": "abaa9cea-edad-4c85-961e-0cf20cb8e401",
   "metadata": {},
   "outputs": [],
   "source": [
    "import nltk\n",
    "import re\n",
    "from nltk import sent_tokenize, word_tokenize\n",
    "from konlpy.tag import Okt, Hannanum, Kkma, Komoran\n",
    "from nltk.stem import LancasterStemmer\n",
    "from sklearn.datasets import fetch_20newsgroups\n",
    "from sklearn.feature_extraction.text import CountVectorizer,TfidfVectorizer\n",
    "from sklearn.decomposition import LatentDirichletAllocation"
   ]
  },
  {
   "cell_type": "code",
   "execution_count": null,
   "id": "1bc895d9-3b0a-40d7-9224-f37c5ddfd076",
   "metadata": {},
   "outputs": [],
   "source": [
    "# 유사도 분석(코사인): 논문표절 , 추천시스템"
   ]
  },
  {
   "cell_type": "code",
   "execution_count": null,
   "id": "b5d13eef-1a31-4e6f-997a-10101334ffba",
   "metadata": {},
   "outputs": [],
   "source": [
    "def cos_similarity(v1, v2):\n",
    "    dot_product = np.dot(v1, v2)\n",
    "    l2_norm = (np.sqrt(sum(np.square(v1))) * np.sqrt(sum(np.square(v2))))\n",
    "    similarity = dot_product / l2_norm \n",
    "    return similarity"
   ]
  },
  {
   "cell_type": "code",
   "execution_count": null,
   "id": "a339e4f6-0f0e-4a39-bb2c-9722db8efcb2",
   "metadata": {},
   "outputs": [],
   "source": [
    "doc_list = ['if you take the blue pill, the story ends' ,\n",
    "            'if you take the red pill, you stay in Wonderland',\n",
    "            'if you take the red pill']\n",
    "tfidf_vect_simple = TfidfVectorizer(ngram_range=(1,2))        # ngram_range=(1,2)일때 유사도 더 올라가는지 볼것\n",
    "feature_vect_simple = tfidf_vect_simple.fit_transform(doc_list)  \n",
    "print(feature_vect_simple.shape)"
   ]
  },
  {
   "cell_type": "code",
   "execution_count": null,
   "id": "5e3e3401-0f51-416c-867e-af46828b3166",
   "metadata": {},
   "outputs": [],
   "source": [
    "feature_vect_array = feature_vect_simple.toarray()\n",
    "vect1 = np.array(feature_vect_array[0]).reshape(-1,)\n",
    "vect2 = np.array(feature_vect_array[1]).reshape(-1,)\n",
    "similarity_simple = cos_similarity(vect1, vect2 )\n",
    "print('문장1,문장2 코사인유사도:{0:.3f}'.format(similarity_simple))"
   ]
  },
  {
   "cell_type": "code",
   "execution_count": null,
   "id": "8eedb0c5-4aac-4809-9978-61ea2d2da4e5",
   "metadata": {},
   "outputs": [],
   "source": [
    "vect1 = np.array(feature_vect_array[0]).reshape(-1,)\n",
    "vect3 = np.array(feature_vect_array[2]).reshape(-1,)\n",
    "similarity_simple = cos_similarity(vect1, vect3 )\n",
    "print('문장1,문장3 코사인유사도:{0:.3f}'.format(similarity_simple))\n",
    "vect2 = np.array(feature_vect_array[1]).reshape(-1,)\n",
    "vect3 = np.array(feature_vect_array[2]).reshape(-1,)\n",
    "similarity_simple = cos_similarity(vect2, vect3 )\n",
    "print('문장2,문장3 코사인유사도:{0:.3f}'.format(similarity_simple))"
   ]
  },
  {
   "cell_type": "code",
   "execution_count": null,
   "id": "3e752389-a5fc-47b7-8722-e63d7e036b34",
   "metadata": {},
   "outputs": [],
   "source": []
  },
  {
   "cell_type": "code",
   "execution_count": null,
   "id": "22a44b97-16ad-4ac8-bfe2-f0d043f561d6",
   "metadata": {},
   "outputs": [],
   "source": [
    "from sklearn.metrics.pairwise import cosine_similarity\n",
    "similarity_simple_pair = cosine_similarity(feature_vect_simple)  # 한개 데이터만 넣어도 작동\n",
    "print(similarity_simple_pair)\n",
    "print('shape:',similarity_simple_pair.shape)"
   ]
  },
  {
   "cell_type": "code",
   "execution_count": null,
   "id": "3e202b35-ec60-43a1-b0f8-743dbb9b534c",
   "metadata": {},
   "outputs": [],
   "source": [
    "pd.DataFrame(feature_vect_simple.toarray(), columns=tfidf_vect_simple.get_feature_names_out())"
   ]
  },
  {
   "cell_type": "code",
   "execution_count": null,
   "id": "e5e3a16e-8635-4dab-b2b1-cf2e453b0e5a",
   "metadata": {},
   "outputs": [],
   "source": [
    "## 유사도_실습"
   ]
  },
  {
   "cell_type": "code",
   "execution_count": null,
   "id": "fcce841c-23c4-43ea-8ca0-f2583c5553a5",
   "metadata": {},
   "outputs": [],
   "source": [
    "df=pd.read_csv('./data/petition.csv')"
   ]
  },
  {
   "cell_type": "code",
   "execution_count": null,
   "id": "db5a8ea1-4f25-4e18-b83c-4143ceee289e",
   "metadata": {},
   "outputs": [],
   "source": [
    "import re\n",
    "def cleaning(text):\n",
    "    p = re.compile('[^ ㄱ-ㅣ가-힣]+')\n",
    "    result = p.sub('',text)\n",
    "    return result"
   ]
  },
  {
   "cell_type": "code",
   "execution_count": null,
   "id": "0d18548f-f654-4025-a6ee-47dde431bd88",
   "metadata": {},
   "outputs": [],
   "source": [
    "df_cat=df[df['category']=='육아/교육']"
   ]
  },
  {
   "cell_type": "code",
   "execution_count": null,
   "id": "da391853-3807-4a68-bf85-ca4a7cded79d",
   "metadata": {},
   "outputs": [],
   "source": [
    "df_cat['content']= df_cat['content'].apply(cleaning)"
   ]
  },
  {
   "cell_type": "code",
   "execution_count": null,
   "id": "75b430b6-9935-4ac4-93d1-ff53b8de1595",
   "metadata": {},
   "outputs": [],
   "source": [
    "from konlpy.tag import Okt\n",
    "okt = Okt()\n",
    "def okt_tokenizer(text):\n",
    "    tokens_ko = okt.morphs(text, stem = True)\n",
    "    return tokens_ko\n",
    "\n",
    "with open('./data/stopword.txt','r',encoding='utf-8') as f:  # okt에 적합함\n",
    "    word = f.read()\n",
    "    stopwords = word.split('\\n')"
   ]
  },
  {
   "cell_type": "code",
   "execution_count": null,
   "id": "f2052f87-4ab4-4a39-bc6f-5d5dca3fd182",
   "metadata": {},
   "outputs": [],
   "source": [
    "tfidf_vect = TfidfVectorizer(max_df = 0.85, min_df = 2, tokenizer=okt_tokenizer, stop_words=stopwords, max_features=1000)       \n",
    "feature_vect = tfidf_vect.fit_transform(df_cat['content'])  \n",
    "print(feature_vect.shape)"
   ]
  },
  {
   "cell_type": "code",
   "execution_count": null,
   "id": "df40008f-9ccf-417a-9408-5aa30fb74bc3",
   "metadata": {},
   "outputs": [],
   "source": [
    "similarity_pair = cosine_similarity(feature_vect)  \n",
    "print(similarity_pair)\n",
    "print('shape:',similarity_pair.shape)"
   ]
  },
  {
   "cell_type": "code",
   "execution_count": null,
   "id": "dd1d18a0-c172-4882-ba6a-4d7d9fa9e4ab",
   "metadata": {},
   "outputs": [],
   "source": [
    "df=pd.DataFrame(feature_vect.toarray(), columns=tfidf_vect.get_feature_names_out())"
   ]
  },
  {
   "cell_type": "code",
   "execution_count": null,
   "id": "766e5ebe-286c-4a0a-88ab-bc4303f91339",
   "metadata": {},
   "outputs": [],
   "source": [
    "similarity_pair=cosine_similarity(feature_vect)"
   ]
  },
  {
   "cell_type": "code",
   "execution_count": null,
   "id": "1fc9855f-e93e-4ef4-96d6-838be5dfaec1",
   "metadata": {},
   "outputs": [],
   "source": []
  },
  {
   "cell_type": "code",
   "execution_count": null,
   "id": "8064739c-1147-475f-8d13-59f5637378db",
   "metadata": {},
   "outputs": [],
   "source": [
    "## 텍스트분석 실습 1. 영화 리뷰"
   ]
  },
  {
   "cell_type": "code",
   "execution_count": null,
   "id": "0b38c971-88c2-4baa-a52f-1606cecd096f",
   "metadata": {},
   "outputs": [],
   "source": [
    "df=pd.read_csv('./data/네이버 영화 리뷰.csv')\n",
    "df['content'].head(30)"
   ]
  },
  {
   "cell_type": "code",
   "execution_count": null,
   "id": "7238cc4a-522b-4ca8-82aa-4741e4a7e624",
   "metadata": {},
   "outputs": [],
   "source": [
    "# 문서분류 (몇 점- 분류, 회귀)\n",
    "# 감성분류 (나누기: 긍정 10~7점 중립 6~4 부정 3~1 ), 감성어휘사전 활용?\n",
    "# 문서군집화(kMean, meanshift, dbscan. 가우시안) + 토픽 모델링(lda)\n",
    "# 유사도 분석(cosine)"
   ]
  },
  {
   "cell_type": "code",
   "execution_count": null,
   "id": "024662eb-abc6-4dff-8f3e-b044668703a5",
   "metadata": {},
   "outputs": [],
   "source": [
    "# 문서분류 (몇 점- 분류, 회귀)\n",
    "#1. 클렌징/토큰/불용어/어근추출"
   ]
  },
  {
   "cell_type": "code",
   "execution_count": null,
   "id": "aec3d911-038a-481d-ac47-b47ccb39afe1",
   "metadata": {},
   "outputs": [],
   "source": [
    "df['content']=df['content'].apply(cleaning)"
   ]
  },
  {
   "cell_type": "code",
   "execution_count": null,
   "id": "d6620a1f-f7d1-4359-8976-1193eaaa3f17",
   "metadata": {},
   "outputs": [],
   "source": [
    "okt.pos(df['content'].iloc[16], stem=True)"
   ]
  },
  {
   "cell_type": "code",
   "execution_count": null,
   "id": "4411d5e3-87a5-46e3-8745-69500b73d161",
   "metadata": {},
   "outputs": [],
   "source": [
    "okt = Okt()\n",
    "def okt_tokenizer(text):\n",
    "    words=okt.pos(text, stem=True)\n",
    "    filtered_words=[]\n",
    "    for word, pos in words:\n",
    "        if pos not in ['Josa', 'KoreanParticle']:\n",
    "            filtered_words.append(word)\n",
    "    return filtered_words"
   ]
  },
  {
   "cell_type": "code",
   "execution_count": null,
   "id": "37924604-c639-4be6-a22d-007e73af6aca",
   "metadata": {},
   "outputs": [],
   "source": [
    "with open('./data/stopword.txt','r',encoding='utf-8') as f:\n",
    "    word = f.read()\n",
    "    stopwords = word.split('\\n')"
   ]
  },
  {
   "cell_type": "code",
   "execution_count": null,
   "id": "6a25fe45-2a7c-4eb3-9945-7b586ea71f4c",
   "metadata": {},
   "outputs": [],
   "source": [
    "cnt_vect=CountVectorizer(max_df=0.9, min_df=2, tokenizer=okt_tokenizer, stop_words=stopwords, max_features=5000)\n",
    "cnt_vect.fit(df['content'])\n",
    "X=cnt_vect.transform(df['content'])\n",
    "X"
   ]
  },
  {
   "cell_type": "code",
   "execution_count": null,
   "id": "8609e855-65e8-4ab4-bd6a-9ef99d83a51c",
   "metadata": {},
   "outputs": [],
   "source": [
    "result_df=pd.DataFrame(X.toarray(), columns=cnt_vect.get_feature_names_out())\n",
    "result_df"
   ]
  },
  {
   "cell_type": "code",
   "execution_count": null,
   "id": "302c647e-a2f2-42ab-bdcd-f9092253abfd",
   "metadata": {},
   "outputs": [],
   "source": [
    "y= df['score']\n",
    "y.value_counts()"
   ]
  },
  {
   "cell_type": "code",
   "execution_count": null,
   "id": "259d3463-4113-4eaf-8b55-dcdc3aa38938",
   "metadata": {},
   "outputs": [],
   "source": [
    "X_train, X_test, y_train, y_test=train_test_split(X,y, test_size=0.2, random_state=0 ) "
   ]
  },
  {
   "cell_type": "code",
   "execution_count": null,
   "id": "1757e88c-877f-48d4-90d0-569cb3620086",
   "metadata": {},
   "outputs": [],
   "source": [
    "from sklearn.ensemble import RandomForestClassifier\n",
    "lr_clf=LogisticRegression()\n",
    "lr_clf.fit(X_train, y_train)\n",
    "\n",
    "pred=lr_clf.predict(X_test)\n",
    "accuracy_score(y_test, pred)"
   ]
  },
  {
   "cell_type": "code",
   "execution_count": null,
   "id": "59aadace-36fa-42e1-ad91-67c3fd2e9158",
   "metadata": {},
   "outputs": [],
   "source": [
    "## 불균형 데이터이므로 10점으로 찍음 ㅋ 10점\n",
    "test_text ='영화를 보다가 잠들었어요'\n",
    "pred=cnt_vect.transform([test_text])\n",
    "rf_clf.predict(pred)"
   ]
  },
  {
   "cell_type": "code",
   "execution_count": null,
   "id": "09a804c0-fd79-450d-8471-5b4cb1defb90",
   "metadata": {},
   "outputs": [],
   "source": [
    "#"
   ]
  },
  {
   "cell_type": "code",
   "execution_count": null,
   "id": "8b553b8a-e92d-46e2-bd47-e4873441fe9f",
   "metadata": {},
   "outputs": [],
   "source": [
    "tfidf_vct=TfidfVectorizer(tokenizer=okt_tokenizer, stop_words=stopwords, max_features=1000)\n",
    "tfidf_vct.fit(X_train)\n",
    "X_train_tf=tfidf_vct.transform(X_train)\n",
    "X_test_tf=tfidf_vct.transform(X_test)"
   ]
  },
  {
   "cell_type": "code",
   "execution_count": null,
   "id": "2036e168-964b-4ca6-ac64-5da4c1d12f1a",
   "metadata": {},
   "outputs": [],
   "source": [
    "tfidf_vect=TfidfVectorizer(max_df=0.9, min_df=2, tokenizer=okt_tokenizer, stop_words=stopwords, max_features=5000)\n",
    "tfidf_vect.fit(df['content'])\n",
    "X_tf=cnt_vect.transform(df['content'])\n",
    "X_train, X_test, y_train, y_test=train_test_split(X_tf,y, test_size=0.2, random_state=0 ) "
   ]
  },
  {
   "cell_type": "code",
   "execution_count": null,
   "id": "d819b9af-0ce4-4070-a093-9f742ef51930",
   "metadata": {},
   "outputs": [],
   "source": [
    "print(X_train.shape, X_test.shape,y_train.shape, y_test.shape)"
   ]
  },
  {
   "cell_type": "code",
   "execution_count": null,
   "id": "59a35791-bbeb-4e4f-a674-6e0ca83aac09",
   "metadata": {},
   "outputs": [],
   "source": [
    "from sklearn.linear_model import LogisticRegression\n",
    "from sklearn.metrics import mean_squared_error, r2_score\n",
    "lr_reg=LogisticRegression(solver='liblinear')\n",
    "lr_reg.fit(X_train, y_train)\n",
    "pred=lr_reg.predict(X_test)\n",
    "print('예측 정확도 : ', np.sqrt(mean_squared_error(y_test, pred)))\n",
    "print(r2_score(y_test, pred))"
   ]
  },
  {
   "cell_type": "code",
   "execution_count": null,
   "id": "31844d11-befe-4d35-a567-f5b78c829754",
   "metadata": {},
   "outputs": [],
   "source": [
    "from sklearn.ensemble import RandomForestClassifier  #**\n",
    "rf_clf=RandomForestClassifier()\n",
    "lr_clf.fit(X_train_tf, y_train)\n",
    "pred=rf_clf.predict(X_test_tf)\n",
    "accuracy_score(y_test, pred)"
   ]
  },
  {
   "cell_type": "code",
   "execution_count": null,
   "id": "0852dce3-de5f-45bf-860d-2af889413339",
   "metadata": {},
   "outputs": [],
   "source": [
    "lr_clf=LogisticRegression()\n",
    "lr_clf.fit(X_train, y_train)\n",
    "\n",
    "pred=lr_clf.predict(X_test)\n",
    "accuracy_score(y_test, pred)"
   ]
  },
  {
   "cell_type": "code",
   "execution_count": null,
   "id": "e1049ec1-7c79-4d0d-9153-12d87d2ff8ea",
   "metadata": {},
   "outputs": [],
   "source": [
    "X_train, X_test, y_train, y_test=train_test_split(X,y, test_size=0.2, random_state=0 ) "
   ]
  },
  {
   "cell_type": "code",
   "execution_count": null,
   "id": "bdb96a14-6515-49d5-a00a-d1f1f069258f",
   "metadata": {},
   "outputs": [],
   "source": [
    "from sklearn.preprocessing import PolynomialFeatures\n",
    "from sklearn.linear_model import Ridge\n",
    "poly=PolynomialFeatures(degree=2)\n",
    "\n",
    "X_train_poly=poly.fit_transform(X_train)\n",
    "X_test_poly= poly.transform(X_test)\n",
    "\n",
    "lr_reg=Ridge(alpha=1)\n",
    "lr_reg.fit(X_train_poly, y_train)\n",
    "\n",
    "pred=lr_reg.predict(X_test_poly)\n",
    "print('예측 정확도 : ', np.sqrt(mean_squared_error(y_test, pred)))"
   ]
  },
  {
   "cell_type": "code",
   "execution_count": null,
   "id": "0f8b00c2-11f0-49d2-995c-10f28eb3621a",
   "metadata": {},
   "outputs": [],
   "source": [
    "# 감성분석(긍정, 중립, 부정)\n",
    "good_df=df[df['score'] == 10].sample(frac=0.35)  #10점 많아 샘플링\n",
    "bad_df=df[df['score'] <= 5]"
   ]
  },
  {
   "cell_type": "code",
   "execution_count": null,
   "id": "a3fe1745-e549-48c0-9585-d4864e7b307c",
   "metadata": {},
   "outputs": [],
   "source": [
    "good_df['score'] =1\n",
    "bad_df['score'] = 0\n",
    "df=pd.concat([good_df,bad_df], axis=0)"
   ]
  },
  {
   "cell_type": "code",
   "execution_count": null,
   "id": "4072b1f3-f71c-411c-aba4-105d46794e25",
   "metadata": {},
   "outputs": [],
   "source": [
    "X=df['content']\n",
    "y=df['score']\n",
    "cnt_vect=CountVectorizer(max_df=0.9,tokenizer=okt_tokenizer, stop_words=stopwords, max_features=1000)\n",
    "X_cnt=cnt_vect.fit_transform(X)\n",
    "\n",
    "X_train, X_test, y_train, y_test=train_test_split(X_cnt,y, test_size=0.2, random_state=0 ) "
   ]
  },
  {
   "cell_type": "code",
   "execution_count": null,
   "id": "fdbc0828-b1a5-4720-b692-dd71fcc61f5c",
   "metadata": {},
   "outputs": [],
   "source": [
    "from sklearn.linear_model import LogisticRegression\n",
    "from sklearn.metrics import mean_squared_error, r2_score\n",
    "lr_reg=LogisticRegression(solver='liblinear')\n",
    "lr_reg.fit(X_train, y_train)\n",
    "pred=lr_reg.predict(X_test)\n",
    "print('예측 정확도 : ', np.sqrt(mean_squared_error(y_test, pred)))\n",
    "print(r2_score(y_test, pred))"
   ]
  },
  {
   "cell_type": "code",
   "execution_count": null,
   "id": "357f6a3a-9f60-4285-9aa4-82c439c615bb",
   "metadata": {},
   "outputs": [],
   "source": []
  },
  {
   "cell_type": "code",
   "execution_count": null,
   "id": "49e7c91a-ca85-4961-8323-f9eaab01fad4",
   "metadata": {},
   "outputs": [],
   "source": [
    "##내가 다시 해보자"
   ]
  },
  {
   "cell_type": "code",
   "execution_count": null,
   "id": "0d42de28-87db-4111-abf1-46d43bd60bcc",
   "metadata": {},
   "outputs": [],
   "source": [
    "#0.\n",
    "df_review=pd.read_csv('./data/네이버 영화 리뷰.csv')\n",
    "df_review['content']"
   ]
  },
  {
   "cell_type": "code",
   "execution_count": null,
   "id": "b4525881-1adb-47a5-a71f-9ab7fb62045d",
   "metadata": {},
   "outputs": [],
   "source": [
    "#1.\n",
    "import re\n",
    "df['content'] = df['content'].apply(lambda x : re.sub('[^ ㄱ-ㅣ가-힣]+', '', x))\n",
    "\n",
    "from konlpy.tag import Okt\n",
    "okt = Okt()\n",
    "def okt_tokenizer(text):   # 자르기 + 조사 삭제\n",
    "    words=okt.pos(text, stem=True)\n",
    "    filtered_words=[]\n",
    "    for word, pos in words:\n",
    "        if pos not in ['Josa']:\n",
    "            filtered_words.append(word)\n",
    "    return filtered_words\n",
    "\n",
    "with open('data/stopword.txt','r',encoding='utf-8') as f:\n",
    "    word = f.read()\n",
    "    stopwords = word.split('\\n')"
   ]
  },
  {
   "cell_type": "code",
   "execution_count": null,
   "id": "9fa00f71-6272-4568-8698-5c01931ea33a",
   "metadata": {},
   "outputs": [],
   "source": [
    "# 감성분석(긍정, 중립, 부정)\n",
    "good_df=df[df['score'] == 10].sample(frac=0.35)  #10점 많아 샘플링\n",
    "bad_df=df[df['score'] <= 5]\n",
    "good_df['score'] =1\n",
    "bad_df['score'] = 0\n",
    "df=pd.concat([good_df,bad_df], axis=0)"
   ]
  },
  {
   "cell_type": "code",
   "execution_count": null,
   "id": "75ae3476-0297-4b1e-9e9b-be05c228d258",
   "metadata": {},
   "outputs": [],
   "source": [
    "#2. 벡터화 count\n",
    "X_train, X_test, y_train, y_test=train_test_split(df['content'],df['score'], test_size=0.2, random_state=0 ) \n",
    "cnt_vect=CountVectorizer(tokenizer=okt_tokenizer, stop_words=stopwords, max_features=1000)\n",
    "cnt_vect.fit(X_train)\n",
    "X_train_cnt=cnt_vect.transform(X_train)\n",
    "X_test_cnt=cnt_vect.transform(X_test)"
   ]
  },
  {
   "cell_type": "code",
   "execution_count": null,
   "id": "07f9c14a-f326-4788-8d7c-03987d57c7f9",
   "metadata": {},
   "outputs": [],
   "source": [
    "#3.\n",
    "from sklearn.ensemble import RandomForestClassifier\n",
    "from sklearn.metrics import mean_squared_error, r2_score\n",
    "\n",
    "rf_clf=RandomForestClassifier()\n",
    "rf_clf.fit(X_train_cnt, y_train)\n",
    "pred=rf_clf.predict(X_test_cnt)\n",
    "print('예측 정확도 : ', np.sqrt(mean_squared_error(y_test, pred)))\n",
    "print(r2_score(y_test, pred))"
   ]
  },
  {
   "cell_type": "code",
   "execution_count": null,
   "id": "78b51f67-2b1f-4e03-bdd8-8be0ba8d38ab",
   "metadata": {},
   "outputs": [],
   "source": [
    "X_train, X_test, y_train, y_test=train_test_split(df['content'],df['score'], test_size=0.2, random_state=0 ) \n",
    "tf_vect=TfidfVectorizer(tokenizer=okt_tokenizer, stop_words=stopwords, max_features=1000)\n",
    "tf_vect.fit(X_train)\n",
    "X_train_tf=tf_vect.transform(X_train)\n",
    "X_test_tf=tf_vect.transform(X_test)"
   ]
  },
  {
   "cell_type": "code",
   "execution_count": null,
   "id": "3dfb01b3-b370-43e3-866b-888d0dc4572b",
   "metadata": {},
   "outputs": [],
   "source": [
    "rf_clf=RandomForestClassifier()\n",
    "rf_clf.fit(X_train_tf, y_train)\n",
    "pred=rf_clf.predict(X_test_tf)\n",
    "print('예측 정확도 : ', np.sqrt(mean_squared_error(y_test, pred)))\n",
    "print(r2_score(y_test, pred))"
   ]
  },
  {
   "cell_type": "code",
   "execution_count": null,
   "id": "e6ca7b04-4cfd-49e4-8b51-510f42185b52",
   "metadata": {},
   "outputs": [],
   "source": []
  },
  {
   "cell_type": "code",
   "execution_count": null,
   "id": "8860198c-4794-497c-a90e-362df361d3f9",
   "metadata": {},
   "outputs": [],
   "source": [
    "# 감성어휘사전 사용하기\n",
    "centi_words=pd.read_csv('./data/polarity.csv')  # 꼬꼬마 형태소분서기 사용해야 함\n",
    "centi_words['max.value'].unique()"
   ]
  },
  {
   "cell_type": "code",
   "execution_count": null,
   "id": "a13de658-cc64-4cd6-919c-65efb0d00465",
   "metadata": {},
   "outputs": [],
   "source": [
    "centi_words[centi_words['ngram'].isin(result)]"
   ]
  },
  {
   "cell_type": "code",
   "execution_count": null,
   "id": "5475149b-6580-4ccd-a072-2905924e02ea",
   "metadata": {},
   "outputs": [],
   "source": []
  },
  {
   "cell_type": "code",
   "execution_count": null,
   "id": "385daf18-73f7-4114-b472-0a2afddab92e",
   "metadata": {},
   "outputs": [],
   "source": [
    "from nltk.util import ngrams\n",
    "\n",
    "ngram2=list(ngrams(result, n=3))\n",
    "new_ngram2=[]\n",
    "for n in ngram2:\n",
    "    new_ngram2.append(':'.join(n))\n",
    "print(new_ngram2)\n",
    "\n",
    "ngram3=list(ngrams(result, n=3))\n",
    "new_ngram3=[]\n",
    "for n in ngram3:\n",
    "    new_ngram3.append(':'.join(n))\n",
    "print(new_ngram3)    "
   ]
  },
  {
   "cell_type": "code",
   "execution_count": null,
   "id": "5ece22e4-2e41-4a8f-8908-6f3eb4f40d59",
   "metadata": {},
   "outputs": [],
   "source": []
  },
  {
   "cell_type": "code",
   "execution_count": null,
   "id": "52343f3f-6f37-481b-aafa-43e4654e43aa",
   "metadata": {},
   "outputs": [],
   "source": [
    "result_df=centi_words[centi_words['ngram'].isin(result)]"
   ]
  },
  {
   "cell_type": "code",
   "execution_count": null,
   "id": "3640006d-e5ea-441c-abb8-43b5c995f736",
   "metadata": {},
   "outputs": [],
   "source": [
    "neg=result_df[result_df['max.value'] == 'NEG']['NEG'].sum()\n",
    "pos=result_df[result_df['max.value'] == 'POS']['POS'].sum()"
   ]
  },
  {
   "cell_type": "code",
   "execution_count": null,
   "id": "e711c350-a94e-4c9e-b58f-e911f388f726",
   "metadata": {},
   "outputs": [],
   "source": [
    "neg_length=result_df[result_df['max.value'] == 'NEG'].shape[0]\n",
    "pos_length=result_df[result_df['max.value'] == 'POS'].shape[0]\n",
    "final_value=(pos/pos_length) - (neg/neg_length)\n",
    "final_value"
   ]
  },
  {
   "cell_type": "code",
   "execution_count": null,
   "id": "29ed07bb-8c82-40e2-baba-79703d6ac2a1",
   "metadata": {},
   "outputs": [],
   "source": [
    "ngram2=list(ngrams(result, n=3))\n",
    "new_ngram2=[]\n",
    "for n in ngram2:\n",
    "    new_ngram2.append(':'.join(n))\n",
    "print(new_ngram2)\n",
    "\n",
    "ngram3=list(ngrams(result, n=3))\n",
    "new_ngram3=[]\n",
    "for n in ngram3:\n",
    "    new_ngram3.append(':'.join(n))"
   ]
  },
  {
   "cell_type": "code",
   "execution_count": null,
   "id": "ab771854-823b-48ee-b3bb-29fced9646cb",
   "metadata": {},
   "outputs": [],
   "source": [
    "words=ngram1+ ngram2 + ngram3\n"
   ]
  },
  {
   "cell_type": "code",
   "execution_count": null,
   "id": "51495ca0-52a7-4861-a47c-4959813c2f02",
   "metadata": {},
   "outputs": [],
   "source": [
    "# 감정사전 함수 만들기(Rexicon)"
   ]
  },
  {
   "cell_type": "code",
   "execution_count": null,
   "id": "00faf7c3-df7f-4d5f-a84a-d3d77f1bb1cf",
   "metadata": {},
   "outputs": [],
   "source": [
    "result_df=centi_words[centi_words['ngram'].isin(result)]"
   ]
  },
  {
   "cell_type": "code",
   "execution_count": null,
   "id": "3e5bab05-6378-4768-9c12-190ac267cf42",
   "metadata": {},
   "outputs": [],
   "source": [
    "neg_df=result_df[result_df['max.value'] == 'NEG']\n",
    "pos_df=result_df[result_df['max.value'] == 'POS']\n",
    "neg_value=neg_df['NEG'] /neg_df['NEG'].shape[0]\n",
    "neg_value=neg_df['POS'] /neg_df['POS'].shape[0]\n",
    "neg_length=result_df[result_df['max.value'] == 'NEG'].shape[0]\n",
    "pos_length=result_df[result_df['max.value'] == 'POS'].shape[0]\n",
    "final_value=(pos/pos_length) - (neg/neg_length)\n"
   ]
  },
  {
   "cell_type": "code",
   "execution_count": null,
   "id": "ecad8308-1bc1-4990-bca4-0bbf3ecb8b0c",
   "metadata": {},
   "outputs": [],
   "source": [
    "text=input('하고픈 말 뭐임?')"
   ]
  },
  {
   "cell_type": "code",
   "execution_count": null,
   "id": "9646fc0d-092c-4651-a9ca-f41e8fbdae88",
   "metadata": {},
   "outputs": [],
   "source": [
    "if final_value >= 0:\n",
    "    print('긍정문')\n",
    "else:\n",
    "    print('부정문')"
   ]
  },
  {
   "cell_type": "code",
   "execution_count": null,
   "id": "45ae853f-d45e-4416-92a3-00ba4774818e",
   "metadata": {},
   "outputs": [],
   "source": [
    "# 군집 + 토픽모델  ==> 노래 가사 데이터\n",
    "\n",
    "df=pd.read_csv('./data/rawdata_년도별 인기노래 가사.tsv', sep='\\t')"
   ]
  },
  {
   "cell_type": "code",
   "execution_count": null,
   "id": "e2ff099e-db22-4bd0-a2bc-e11f511005dc",
   "metadata": {},
   "outputs": [],
   "source": [
    "df.info()"
   ]
  },
  {
   "cell_type": "code",
   "execution_count": null,
   "id": "ffbeb3c9-16ef-47a2-930d-b341d2e58696",
   "metadata": {},
   "outputs": [],
   "source": [
    "df[df['Title'].str.contains('사랑')]"
   ]
  },
  {
   "cell_type": "code",
   "execution_count": null,
   "id": "a608190a-8af1-4f0c-8c69-6115171bc7bc",
   "metadata": {},
   "outputs": [],
   "source": [
    "df['Lyric']"
   ]
  },
  {
   "cell_type": "code",
   "execution_count": null,
   "id": "b35a44d2-ae01-42d2-8364-527d9e1c02f8",
   "metadata": {},
   "outputs": [],
   "source": [
    "def cleaning(text):\n",
    "    p = re.compile('[^ a-zA-Zㄱ-\\가-힣]+')\n",
    "    result = p.sub('',text).lower()\n",
    "    return result"
   ]
  },
  {
   "cell_type": "code",
   "execution_count": null,
   "id": "8229b5ec-0954-4929-a24e-212c3c191ced",
   "metadata": {},
   "outputs": [],
   "source": [
    "X=df['Lyric'].apply(lambda x : re.sub('[^ a-zA-Zㄱ-ㅣ가-힣]+', '', x))"
   ]
  },
  {
   "cell_type": "code",
   "execution_count": null,
   "id": "7f50ea3c-87a9-4819-a6e5-d8f530139643",
   "metadata": {},
   "outputs": [],
   "source": [
    "from nltk.corpus import stopwords\n",
    "eng_stop=stopwords.words('english')\n",
    "with open('data/stopword.txt','r',encoding='utf-8') as f:\n",
    "    word = f.read()\n",
    "    kor_stop = word.split('\\n')"
   ]
  },
  {
   "cell_type": "code",
   "execution_count": null,
   "id": "c030709a-8fd0-4787-989c-7646f27dc271",
   "metadata": {},
   "outputs": [],
   "source": [
    "stopwords=eng_stop + kor_stop"
   ]
  },
  {
   "cell_type": "code",
   "execution_count": null,
   "id": "0eafffa3-c820-4496-8986-132fd80f3e7a",
   "metadata": {},
   "outputs": [],
   "source": []
  },
  {
   "cell_type": "code",
   "execution_count": null,
   "id": "1f086bf2-4a0f-4654-8de8-a6c468bfefe1",
   "metadata": {},
   "outputs": [],
   "source": [
    "def okt_tokenizer(text):   # 자르기 + 조사 삭제\n",
    "    words=okt.pos(text, stem=True)\n",
    "    filtered_words=[]\n",
    "    for word, pos in words:\n",
    "        if pos not in ['Josa']:\n",
    "            filtered_words.append(word)\n",
    "    return filtered_words"
   ]
  },
  {
   "cell_type": "code",
   "execution_count": 463,
   "id": "c240e2fc-0099-45a4-87ea-5722f10bd3c3",
   "metadata": {},
   "outputs": [],
   "source": [
    "count_vect = CountVectorizer(max_df=0.85, min_df=3, max_features=1000, stop_words=stopwords, token_pattern = okt_tokenizer,ngram_range=(1,2))\n",
    "X_cnt=cnt_vect.fit_transform(X)"
   ]
  },
  {
   "cell_type": "code",
   "execution_count": null,
   "id": "ab8932ab-b7a6-4843-b565-74e8530e055c",
   "metadata": {},
   "outputs": [],
   "source": []
  },
  {
   "cell_type": "code",
   "execution_count": null,
   "id": "fc54f90c-b8a9-452e-b283-2f0470f3b30c",
   "metadata": {},
   "outputs": [],
   "source": [
    "cnt_vect.get_feature_names_out()"
   ]
  },
  {
   "cell_type": "code",
   "execution_count": null,
   "id": "843ab32c-6875-4ce4-9bdd-0cc1fd5a4cbb",
   "metadata": {},
   "outputs": [],
   "source": [
    "#### from sklearn.cluster import KMeans\n",
    "kmeans=KMeans(n_clusters=5, max_iter=2000, random_state=0)\n",
    "kmeans.fit(X_cnt)"
   ]
  },
  {
   "cell_type": "code",
   "execution_count": null,
   "id": "6ea4fa94-0810-4c76-858a-32f957abd439",
   "metadata": {},
   "outputs": [],
   "source": [
    "pd.Series(kmeans.labels_).value_counts()"
   ]
  },
  {
   "cell_type": "code",
   "execution_count": null,
   "id": "f72f47c3-d5ad-4f6e-8f1c-89472e3f127f",
   "metadata": {
    "scrolled": true
   },
   "outputs": [],
   "source": [
    "df=X.to_frame('Lyric')\n",
    "df['cluster']=kmeans.labels_\n",
    "df[df['cluster']==0]"
   ]
  },
  {
   "cell_type": "code",
   "execution_count": null,
   "id": "41b6b990-23aa-419e-bf14-c9cc1793e646",
   "metadata": {},
   "outputs": [],
   "source": [
    "df[df['cluster']==2]"
   ]
  },
  {
   "cell_type": "code",
   "execution_count": null,
   "id": "ccf225f2-dcbb-4836-bbd9-c022f68d45c6",
   "metadata": {},
   "outputs": [],
   "source": [
    "from sklearn.mixture import GaussianMixture\n",
    "gmm= GaussianMixture(n_components=5, random_state=0)\n",
    "gmm.fit(X_cnt.toarray())"
   ]
  },
  {
   "cell_type": "code",
   "execution_count": null,
   "id": "9473a77b-c763-4262-910f-2a97aaea3d36",
   "metadata": {},
   "outputs": [],
   "source": [
    "df['gmm']=gmm.predict(X_cnt.toarray())"
   ]
  },
  {
   "cell_type": "code",
   "execution_count": null,
   "id": "f206d280-71a6-40d4-8877-e2fca18a7b7e",
   "metadata": {},
   "outputs": [],
   "source": []
  },
  {
   "cell_type": "code",
   "execution_count": null,
   "id": "4d4f1335-7fa8-4615-8533-807392307fe7",
   "metadata": {},
   "outputs": [],
   "source": [
    "from sklearn.decomposition import LatentDirichletAllocation\n",
    "lda=LatentDirichletAllocation(n_components=5)\n",
    "lda.fit(X_cnt[df[df['cluster']==4].index])  # **\n",
    "\n",
    "display_topics(lda,cnt_vect.get_feature_names_out(), 15)"
   ]
  },
  {
   "cell_type": "code",
   "execution_count": null,
   "id": "90d8899d-204d-4e9c-9e5e-e30a1747b8aa",
   "metadata": {},
   "outputs": [],
   "source": [
    "def display_topics(model, feature_names, no_top_words):\n",
    "    for topic_index, topic in enumerate(model.components_):\n",
    "        print('Topic #',topic_index)\n",
    "        topic_word_indexes = topic.argsort()[::-1]\n",
    "        top_indexes=topic_word_indexes[:no_top_words]\n",
    "        feature_concat = ' '.join([feature_names[i] for i in top_indexes])\n",
    "        print(feature_concat)\n",
    "feature_names = count_vect.get_feature_names_out()\n",
    "display_topics(lda, feature_names, 15)   "
   ]
  },
  {
   "cell_type": "code",
   "execution_count": null,
   "id": "b61eef0f-9eb9-4f81-9f59-84b8f1d6c92d",
   "metadata": {},
   "outputs": [],
   "source": []
  },
  {
   "cell_type": "code",
   "execution_count": null,
   "id": "5f1c80ba-82ab-4938-be27-0355f61b70b4",
   "metadata": {},
   "outputs": [],
   "source": [
    "from sklearn.decomposition import LatentDirichletAllocation\n",
    "lda=LatentDirichletAllocation(n_components=7)\n",
    "lda.fit(X_cnt[df[df['cluster']==0].index])  # **\n",
    "\n",
    "display_topics(lda,cnt_vect.get_feature_names_out(), 15)"
   ]
  },
  {
   "cell_type": "code",
   "execution_count": null,
   "id": "077caf82-71da-4dcf-9789-b64cbe13d93b",
   "metadata": {},
   "outputs": [],
   "source": []
  },
  {
   "cell_type": "code",
   "execution_count": null,
   "id": "c20b5782-b5e5-4942-b2cf-4b0a05ea1ee6",
   "metadata": {},
   "outputs": [],
   "source": [
    "def get_cluster_details(cluster_model, cluster_data, feature_names, clusters_num, top_n_features=10):\n",
    "    cluster_details = {}\n",
    "    centroid_feature_ordered_ind = cluster_model.cluster_centers_.argsort()[:,::-1]\n",
    "    for cluster_num in range(clusters_num):\n",
    "        cluster_details[cluster_num] = {}\n",
    "        cluster_details[cluster_num]['cluster'] = cluster_num\n",
    "        top_feature_indexes = centroid_feature_ordered_ind[cluster_num, :top_n_features]\n",
    "        top_features = [ feature_names[ind] for ind in top_feature_indexes ]\n",
    "        top_feature_values = cluster_model.cluster_centers_[cluster_num, top_feature_indexes].tolist()\n",
    "        cluster_details[cluster_num]['top_features'] = top_features\n",
    "        cluster_details[cluster_num]['top_features_value'] = top_feature_values\n",
    "    return cluster_details"
   ]
  },
  {
   "cell_type": "code",
   "execution_count": null,
   "id": "98cec9b9-6c53-432a-b98f-b896cb33b489",
   "metadata": {},
   "outputs": [],
   "source": [
    "def print_cluster_details(cluster_details):\n",
    "    for cluster_num, cluster_detail in cluster_details.items():\n",
    "        print('# Cluster {0}'.format(cluster_num))\n",
    "        print('Top features:', cluster_detail['top_features'])\n",
    "clust_centers = kmeans.cluster_centers_\n",
    "\n",
    "# 위 두 함수 불러오기\n",
    "feature_names = tfidf_vect.get_feature_names_out()\n",
    "cluster_details = get_cluster_details(cluster_model=kmeans, cluster_data=df,feature_names=feature_names, clusters_num=4, top_n_features=10 )\n",
    "print_cluster_details(cluster_details)"
   ]
  },
  {
   "cell_type": "code",
   "execution_count": null,
   "id": "54032e47-9b69-4506-8a57-c457553bec38",
   "metadata": {},
   "outputs": [],
   "source": [
    "LatentDirichletAllocation(n_components=5)\n",
    "lda.fit(X_cnt)"
   ]
  },
  {
   "cell_type": "code",
   "execution_count": null,
   "id": "246e4dc0-d766-4430-a866-86dbfa24f664",
   "metadata": {},
   "outputs": [],
   "source": [
    "# 유사도 분석 : 코사인 유사도\n",
    "\n",
    "from sklearn.metrics.pairwise import cosine_similarity\n",
    "\n",
    "similary = cosine_similarity(X_cnt)\n",
    "index=np.argsort(similary, axis=1)[:,:: -1]"
   ]
  },
  {
   "cell_type": "code",
   "execution_count": null,
   "id": "acbb6a7a-f1df-4765-ab7f-72ab13006be3",
   "metadata": {},
   "outputs": [],
   "source": [
    "df[df['Title'].str.contains('너의 의미')]"
   ]
  },
  {
   "cell_type": "code",
   "execution_count": null,
   "id": "2f250bba-d650-4ef4-bcb9-e976b6a267ba",
   "metadata": {},
   "outputs": [],
   "source": [
    "similary = cosine_similarity(X_cnt[1994], X_cnt)"
   ]
  },
  {
   "cell_type": "code",
   "execution_count": null,
   "id": "f44caff7-7416-45b9-bf50-cfc3a0745e0a",
   "metadata": {},
   "outputs": [],
   "source": [
    "np.argsort(similary, axis=1)[:,:: -1]"
   ]
  },
  {
   "cell_type": "code",
   "execution_count": null,
   "id": "aad6e81f-66c7-472b-895a-40eb9ce42725",
   "metadata": {},
   "outputs": [],
   "source": [
    "np.sort(similary, axis=1)[:,:: -1]"
   ]
  },
  {
   "cell_type": "code",
   "execution_count": null,
   "id": "12aa944c-3134-49d2-9f4c-7b28a4b4903f",
   "metadata": {},
   "outputs": [],
   "source": [
    "df.loc[1994, 'Lyric']"
   ]
  },
  {
   "cell_type": "code",
   "execution_count": null,
   "id": "b2f523da-c14b-495e-80a3-19df2bfc9edf",
   "metadata": {},
   "outputs": [],
   "source": [
    "df.loc[678, 'Lyric']"
   ]
  },
  {
   "cell_type": "code",
   "execution_count": null,
   "id": "075cb0db-a9b4-4ea0-b6f6-97039096cb01",
   "metadata": {},
   "outputs": [],
   "source": [
    "# 다른 노래 밖에서\n",
    "new_lyric='oh 나 왜 이래 널 바라보면 나 왜 이래 표정관리'\n",
    "new_lyric=cleaning(new_lyric)\n",
    "test=cnt_vect.transform(new_lyric)\n",
    "similary = cosine_similarity(new_lyric, X_cnt)\n",
    "index= np.argsort(similary, axis=1)[:,:: -1][0,0]\n",
    "value=np.sort(similary, axis=1)[:,:: -1][0,0]\n",
    "print(value)\n",
    "df.loc[index, ['Title','Singer','Lyric']]\n"
   ]
  },
  {
   "cell_type": "code",
   "execution_count": null,
   "id": "9e397a65-8b6f-4867-a6d5-9366f61c9020",
   "metadata": {},
   "outputs": [],
   "source": []
  },
  {
   "cell_type": "code",
   "execution_count": 469,
   "id": "564ca922-a92b-4b71-be7d-81b1e1a3af33",
   "metadata": {},
   "outputs": [
    {
     "data": {
      "text/html": [
       "<div>\n",
       "<style scoped>\n",
       "    .dataframe tbody tr th:only-of-type {\n",
       "        vertical-align: middle;\n",
       "    }\n",
       "\n",
       "    .dataframe tbody tr th {\n",
       "        vertical-align: top;\n",
       "    }\n",
       "\n",
       "    .dataframe thead th {\n",
       "        text-align: right;\n",
       "    }\n",
       "</style>\n",
       "<table border=\"1\" class=\"dataframe\">\n",
       "  <thead>\n",
       "    <tr style=\"text-align: right;\">\n",
       "      <th></th>\n",
       "      <th>content</th>\n",
       "      <th>target</th>\n",
       "    </tr>\n",
       "  </thead>\n",
       "  <tbody>\n",
       "    <tr>\n",
       "      <th>0</th>\n",
       "      <td>이종석 한효주 나오는 드라마 이후로 드라마 안봤다. 2년전인가?? 좀 신선했었지. ...</td>\n",
       "      <td>0</td>\n",
       "    </tr>\n",
       "    <tr>\n",
       "      <th>1</th>\n",
       "      <td>씨바알..노무노무 술프노... 오늘 저녁은 꽂등심이다ㅠㅜ</td>\n",
       "      <td>0</td>\n",
       "    </tr>\n",
       "    <tr>\n",
       "      <th>2</th>\n",
       "      <td>짱깨 꺼라ㅡ패쓰</td>\n",
       "      <td>0</td>\n",
       "    </tr>\n",
       "    <tr>\n",
       "      <th>3</th>\n",
       "      <td>그들의 사생활 ~ 고인이된 설리를 위해서라도 모두 조용하길 지금 누굴 탓한다고 무슨...</td>\n",
       "      <td>1</td>\n",
       "    </tr>\n",
       "    <tr>\n",
       "      <th>4</th>\n",
       "      <td>아무리 법이 뭣같아도 무슨 자격으로 개인의 신상정보를 불특정 다수에게 공개하는지 도...</td>\n",
       "      <td>1</td>\n",
       "    </tr>\n",
       "    <tr>\n",
       "      <th>5</th>\n",
       "      <td>다음도 들어와라하고...다른 의견내는 유튜버 목 자르고....추아줌마 꺼 여기저기서...</td>\n",
       "      <td>0</td>\n",
       "    </tr>\n",
       "    <tr>\n",
       "      <th>6</th>\n",
       "      <td>여자들도 아무한테나 자기야라고하는사람있는데 그것도성희롱인것같은데요</td>\n",
       "      <td>1</td>\n",
       "    </tr>\n",
       "    <tr>\n",
       "      <th>7</th>\n",
       "      <td>나경아 젖깐사진이나 인스타에 좀올려라 물좀빼게</td>\n",
       "      <td>0</td>\n",
       "    </tr>\n",
       "    <tr>\n",
       "      <th>8</th>\n",
       "      <td>어린시절 가정교육 못 받은 애들은 절대 그 본성을 숨길수없지</td>\n",
       "      <td>0</td>\n",
       "    </tr>\n",
       "    <tr>\n",
       "      <th>9</th>\n",
       "      <td>지연이 얼굴은 더 배우같네...</td>\n",
       "      <td>1</td>\n",
       "    </tr>\n",
       "    <tr>\n",
       "      <th>10</th>\n",
       "      <td>건축학 개론 지금 다시 봤는데 솔직히 건축학 개론 보다는 아닙니다ㅋ 건축학 개론은 ...</td>\n",
       "      <td>1</td>\n",
       "    </tr>\n",
       "    <tr>\n",
       "      <th>11</th>\n",
       "      <td>개별 공무원 뷰웅들의 헷지랄에 뭔 청와대까지 들먹이는지... 빠끄네 때도 순시리가 ...</td>\n",
       "      <td>0</td>\n",
       "    </tr>\n",
       "    <tr>\n",
       "      <th>12</th>\n",
       "      <td>서열1위네 좆냥이 찍소리도못함ㅋ</td>\n",
       "      <td>0</td>\n",
       "    </tr>\n",
       "    <tr>\n",
       "      <th>13</th>\n",
       "      <td>대깨문이 문재인 협박범을 쉴드치네? 역시 대가리가 붕어인듯~</td>\n",
       "      <td>0</td>\n",
       "    </tr>\n",
       "    <tr>\n",
       "      <th>14</th>\n",
       "      <td>이런기사 내지마세요.</td>\n",
       "      <td>1</td>\n",
       "    </tr>\n",
       "    <tr>\n",
       "      <th>15</th>\n",
       "      <td>세계적으로 코로나19 방역 최고로 인정을 받도록 한 자들에게 큰박수를 보냅니다</td>\n",
       "      <td>1</td>\n",
       "    </tr>\n",
       "    <tr>\n",
       "      <th>16</th>\n",
       "      <td>돈이전부는 아니라지만 첫째가 돈이 먼저지 이세상 에는 돈으로 세상을사니ㅠ</td>\n",
       "      <td>1</td>\n",
       "    </tr>\n",
       "    <tr>\n",
       "      <th>17</th>\n",
       "      <td>예능 보면서 진지 빠는사람 많네 ㅋㅋ극혐;;;;; 예능은 예능임 저거보고 인성 어쩌...</td>\n",
       "      <td>0</td>\n",
       "    </tr>\n",
       "    <tr>\n",
       "      <th>18</th>\n",
       "      <td>n차 하면 할수록 닐 너무 짠함ㅠㅜ 어쩐지 처음부터 눈빛이 묘하더라</td>\n",
       "      <td>1</td>\n",
       "    </tr>\n",
       "    <tr>\n",
       "      <th>19</th>\n",
       "      <td>오 ㄱㅊ노?? 박 하나 심어놓은다음에 존나패는거</td>\n",
       "      <td>0</td>\n",
       "    </tr>\n",
       "    <tr>\n",
       "      <th>20</th>\n",
       "      <td>홍위병들 뭉가 추가 위한다고 아가리 돈이 들어오나?</td>\n",
       "      <td>0</td>\n",
       "    </tr>\n",
       "    <tr>\n",
       "      <th>21</th>\n",
       "      <td>시어머니 모셔다 친정엄마 생신상도 차려줄건가! 제능력껏 하던가 친정엄마까지 모셔다 ...</td>\n",
       "      <td>0</td>\n",
       "    </tr>\n",
       "    <tr>\n",
       "      <th>22</th>\n",
       "      <td>남자측 욕하지마세요</td>\n",
       "      <td>1</td>\n",
       "    </tr>\n",
       "    <tr>\n",
       "      <th>23</th>\n",
       "      <td>예술병 걸린 힙스터들이 또 오지게 의미부여하고 빨아줄듯</td>\n",
       "      <td>0</td>\n",
       "    </tr>\n",
       "    <tr>\n",
       "      <th>24</th>\n",
       "      <td>오창석 잘생기고 연기도 괜찮은데.. 왜 이런데에....ㅠ피고인때 더 퐉 터뜨렸어야했나</td>\n",
       "      <td>1</td>\n",
       "    </tr>\n",
       "    <tr>\n",
       "      <th>25</th>\n",
       "      <td>오로지 냄비가 무기인 오징어썩은 냄새나는 세균덩어리김 치 년 들</td>\n",
       "      <td>0</td>\n",
       "    </tr>\n",
       "    <tr>\n",
       "      <th>26</th>\n",
       "      <td>좆냥이주인쉑덜왜 집사집사 ㅇㅈㄹ함 ?</td>\n",
       "      <td>0</td>\n",
       "    </tr>\n",
       "    <tr>\n",
       "      <th>27</th>\n",
       "      <td>이건 무슨 소리?</td>\n",
       "      <td>1</td>\n",
       "    </tr>\n",
       "    <tr>\n",
       "      <th>28</th>\n",
       "      <td>심뽀 더러운 인간들 많네젊은 청년이 열심히 하는게 참 대단하다 싶은데반면에 시기질투...</td>\n",
       "      <td>1</td>\n",
       "    </tr>\n",
       "    <tr>\n",
       "      <th>29</th>\n",
       "      <td>공장가야할새끼들이 재수한다고 지랄 꼴깝을 떨어대니깐 자기도 툭튀어 나오는거지 ㅋㅋ</td>\n",
       "      <td>0</td>\n",
       "    </tr>\n",
       "  </tbody>\n",
       "</table>\n",
       "</div>"
      ],
      "text/plain": [
       "                                              content  target\n",
       "0   이종석 한효주 나오는 드라마 이후로 드라마 안봤다. 2년전인가?? 좀 신선했었지. ...       0\n",
       "1                     씨바알..노무노무 술프노... 오늘 저녁은 꽂등심이다ㅠㅜ       0\n",
       "2                                            짱깨 꺼라ㅡ패쓰       0\n",
       "3   그들의 사생활 ~ 고인이된 설리를 위해서라도 모두 조용하길 지금 누굴 탓한다고 무슨...       1\n",
       "4   아무리 법이 뭣같아도 무슨 자격으로 개인의 신상정보를 불특정 다수에게 공개하는지 도...       1\n",
       "5   다음도 들어와라하고...다른 의견내는 유튜버 목 자르고....추아줌마 꺼 여기저기서...       0\n",
       "6                여자들도 아무한테나 자기야라고하는사람있는데 그것도성희롱인것같은데요       1\n",
       "7                           나경아 젖깐사진이나 인스타에 좀올려라 물좀빼게       0\n",
       "8                   어린시절 가정교육 못 받은 애들은 절대 그 본성을 숨길수없지       0\n",
       "9                                   지연이 얼굴은 더 배우같네...       1\n",
       "10  건축학 개론 지금 다시 봤는데 솔직히 건축학 개론 보다는 아닙니다ㅋ 건축학 개론은 ...       1\n",
       "11  개별 공무원 뷰웅들의 헷지랄에 뭔 청와대까지 들먹이는지... 빠끄네 때도 순시리가 ...       0\n",
       "12                                  서열1위네 좆냥이 찍소리도못함ㅋ       0\n",
       "13                  대깨문이 문재인 협박범을 쉴드치네? 역시 대가리가 붕어인듯~       0\n",
       "14                                        이런기사 내지마세요.       1\n",
       "15        세계적으로 코로나19 방역 최고로 인정을 받도록 한 자들에게 큰박수를 보냅니다       1\n",
       "16           돈이전부는 아니라지만 첫째가 돈이 먼저지 이세상 에는 돈으로 세상을사니ㅠ       1\n",
       "17  예능 보면서 진지 빠는사람 많네 ㅋㅋ극혐;;;;; 예능은 예능임 저거보고 인성 어쩌...       0\n",
       "18              n차 하면 할수록 닐 너무 짠함ㅠㅜ 어쩐지 처음부터 눈빛이 묘하더라       1\n",
       "19                         오 ㄱㅊ노?? 박 하나 심어놓은다음에 존나패는거       0\n",
       "20                       홍위병들 뭉가 추가 위한다고 아가리 돈이 들어오나?       0\n",
       "21  시어머니 모셔다 친정엄마 생신상도 차려줄건가! 제능력껏 하던가 친정엄마까지 모셔다 ...       0\n",
       "22                                         남자측 욕하지마세요       1\n",
       "23                     예술병 걸린 힙스터들이 또 오지게 의미부여하고 빨아줄듯       0\n",
       "24    오창석 잘생기고 연기도 괜찮은데.. 왜 이런데에....ㅠ피고인때 더 퐉 터뜨렸어야했나       1\n",
       "25                오로지 냄비가 무기인 오징어썩은 냄새나는 세균덩어리김 치 년 들       0\n",
       "26                               좆냥이주인쉑덜왜 집사집사 ㅇㅈㄹ함 ?       0\n",
       "27                                          이건 무슨 소리?       1\n",
       "28  심뽀 더러운 인간들 많네젊은 청년이 열심히 하는게 참 대단하다 싶은데반면에 시기질투...       1\n",
       "29      공장가야할새끼들이 재수한다고 지랄 꼴깝을 떨어대니깐 자기도 툭튀어 나오는거지 ㅋㅋ       0"
      ]
     },
     "execution_count": 469,
     "metadata": {},
     "output_type": "execute_result"
    }
   ],
   "source": [
    "df_bad=pd.read_csv('./data/악플 데이터.csv')\n",
    "df_bad.head(30)"
   ]
  },
  {
   "cell_type": "code",
   "execution_count": 473,
   "id": "509f4a23-5903-47b7-8eab-a2184337c77f",
   "metadata": {},
   "outputs": [],
   "source": [
    "df=pd.read_csv('./data/unsmile_data.csv')"
   ]
  },
  {
   "cell_type": "code",
   "execution_count": 478,
   "id": "90f7e2ed-6bea-4478-a7a7-0982101e65ef",
   "metadata": {},
   "outputs": [],
   "source": [
    "# 원핫인코딩 되어있는 것 같은 데// 종속변수드링 원핫처럼 배열 되어 있음\n",
    "\n",
    "y=df.iloc[:,1:]\n",
    "y_label=pd.DataFrame( {'target':y.columns})                 # 데이터프레임으로 만들어서 넣어주면 좋음"
   ]
  },
  {
   "cell_type": "code",
   "execution_count": 479,
   "id": "d34dbfd0-fe3d-458d-9d5c-6fda800b3d63",
   "metadata": {},
   "outputs": [
    {
     "data": {
      "text/html": [
       "<style>#sk-container-id-15 {color: black;}#sk-container-id-15 pre{padding: 0;}#sk-container-id-15 div.sk-toggleable {background-color: white;}#sk-container-id-15 label.sk-toggleable__label {cursor: pointer;display: block;width: 100%;margin-bottom: 0;padding: 0.3em;box-sizing: border-box;text-align: center;}#sk-container-id-15 label.sk-toggleable__label-arrow:before {content: \"▸\";float: left;margin-right: 0.25em;color: #696969;}#sk-container-id-15 label.sk-toggleable__label-arrow:hover:before {color: black;}#sk-container-id-15 div.sk-estimator:hover label.sk-toggleable__label-arrow:before {color: black;}#sk-container-id-15 div.sk-toggleable__content {max-height: 0;max-width: 0;overflow: hidden;text-align: left;background-color: #f0f8ff;}#sk-container-id-15 div.sk-toggleable__content pre {margin: 0.2em;color: black;border-radius: 0.25em;background-color: #f0f8ff;}#sk-container-id-15 input.sk-toggleable__control:checked~div.sk-toggleable__content {max-height: 200px;max-width: 100%;overflow: auto;}#sk-container-id-15 input.sk-toggleable__control:checked~label.sk-toggleable__label-arrow:before {content: \"▾\";}#sk-container-id-15 div.sk-estimator input.sk-toggleable__control:checked~label.sk-toggleable__label {background-color: #d4ebff;}#sk-container-id-15 div.sk-label input.sk-toggleable__control:checked~label.sk-toggleable__label {background-color: #d4ebff;}#sk-container-id-15 input.sk-hidden--visually {border: 0;clip: rect(1px 1px 1px 1px);clip: rect(1px, 1px, 1px, 1px);height: 1px;margin: -1px;overflow: hidden;padding: 0;position: absolute;width: 1px;}#sk-container-id-15 div.sk-estimator {font-family: monospace;background-color: #f0f8ff;border: 1px dotted black;border-radius: 0.25em;box-sizing: border-box;margin-bottom: 0.5em;}#sk-container-id-15 div.sk-estimator:hover {background-color: #d4ebff;}#sk-container-id-15 div.sk-parallel-item::after {content: \"\";width: 100%;border-bottom: 1px solid gray;flex-grow: 1;}#sk-container-id-15 div.sk-label:hover label.sk-toggleable__label {background-color: #d4ebff;}#sk-container-id-15 div.sk-serial::before {content: \"\";position: absolute;border-left: 1px solid gray;box-sizing: border-box;top: 0;bottom: 0;left: 50%;z-index: 0;}#sk-container-id-15 div.sk-serial {display: flex;flex-direction: column;align-items: center;background-color: white;padding-right: 0.2em;padding-left: 0.2em;position: relative;}#sk-container-id-15 div.sk-item {position: relative;z-index: 1;}#sk-container-id-15 div.sk-parallel {display: flex;align-items: stretch;justify-content: center;background-color: white;position: relative;}#sk-container-id-15 div.sk-item::before, #sk-container-id-15 div.sk-parallel-item::before {content: \"\";position: absolute;border-left: 1px solid gray;box-sizing: border-box;top: 0;bottom: 0;left: 50%;z-index: -1;}#sk-container-id-15 div.sk-parallel-item {display: flex;flex-direction: column;z-index: 1;position: relative;background-color: white;}#sk-container-id-15 div.sk-parallel-item:first-child::after {align-self: flex-end;width: 50%;}#sk-container-id-15 div.sk-parallel-item:last-child::after {align-self: flex-start;width: 50%;}#sk-container-id-15 div.sk-parallel-item:only-child::after {width: 0;}#sk-container-id-15 div.sk-dashed-wrapped {border: 1px dashed gray;margin: 0 0.4em 0.5em 0.4em;box-sizing: border-box;padding-bottom: 0.4em;background-color: white;}#sk-container-id-15 div.sk-label label {font-family: monospace;font-weight: bold;display: inline-block;line-height: 1.2em;}#sk-container-id-15 div.sk-label-container {text-align: center;}#sk-container-id-15 div.sk-container {/* jupyter's `normalize.less` sets `[hidden] { display: none; }` but bootstrap.min.css set `[hidden] { display: none !important; }` so we also need the `!important` here to be able to override the default hidden behavior on the sphinx rendered scikit-learn.org. See: https://github.com/scikit-learn/scikit-learn/issues/21755 */display: inline-block !important;position: relative;}#sk-container-id-15 div.sk-text-repr-fallback {display: none;}</style><div id=\"sk-container-id-15\" class=\"sk-top-container\"><div class=\"sk-text-repr-fallback\"><pre>OneHotEncoder()</pre><b>In a Jupyter environment, please rerun this cell to show the HTML representation or trust the notebook. <br />On GitHub, the HTML representation is unable to render, please try loading this page with nbviewer.org.</b></div><div class=\"sk-container\" hidden><div class=\"sk-item\"><div class=\"sk-estimator sk-toggleable\"><input class=\"sk-toggleable__control sk-hidden--visually\" id=\"sk-estimator-id-15\" type=\"checkbox\" checked><label for=\"sk-estimator-id-15\" class=\"sk-toggleable__label sk-toggleable__label-arrow\">OneHotEncoder</label><div class=\"sk-toggleable__content\"><pre>OneHotEncoder()</pre></div></div></div></div></div>"
      ],
      "text/plain": [
       "OneHotEncoder()"
      ]
     },
     "execution_count": 479,
     "metadata": {},
     "output_type": "execute_result"
    }
   ],
   "source": [
    "from sklearn.preprocessing import OneHotEncoder\n",
    "oh_enc=OneHotEncoder()\n",
    "oh_enc.fit(y_label)"
   ]
  },
  {
   "cell_type": "code",
   "execution_count": 482,
   "id": "2460ef44-88e2-43f3-bcd4-f4ba14d18dbb",
   "metadata": {},
   "outputs": [
    {
     "data": {
      "text/plain": [
       "array(['clean', '개인지칭', '기타 혐오', '남성', '성소수자', '악플/욕설', '여성/가족', '연령',\n",
       "       '인종/국적', '종교', '지역'], dtype=object)"
      ]
     },
     "execution_count": 482,
     "metadata": {},
     "output_type": "execute_result"
    }
   ],
   "source": [
    "oh_enc.categories_[0]"
   ]
  },
  {
   "cell_type": "code",
   "execution_count": 484,
   "id": "65608915-6a55-4881-905f-d808a4f9ef95",
   "metadata": {},
   "outputs": [],
   "source": [
    "y_oh=y[oh_enc.categories_[0]]"
   ]
  },
  {
   "cell_type": "code",
   "execution_count": null,
   "id": "1fcc116c-3b82-48aa-85ed-3c4aeb4e632e",
   "metadata": {},
   "outputs": [],
   "source": [
    "oh_en.invers"
   ]
  },
  {
   "cell_type": "code",
   "execution_count": 490,
   "id": "7c5dcf6e-c073-4062-ba5f-9f5141b790db",
   "metadata": {},
   "outputs": [],
   "source": [
    "y_oh.drop([18740], inplace=True)"
   ]
  },
  {
   "cell_type": "code",
   "execution_count": 491,
   "id": "bf02b4da-cf74-4781-bc89-9be8fff91801",
   "metadata": {},
   "outputs": [
    {
     "ename": "ValueError",
     "evalue": "Length of values (18739) does not match length of index (18742)",
     "output_type": "error",
     "traceback": [
      "\u001b[1;31m---------------------------------------------------------------------------\u001b[0m",
      "\u001b[1;31mValueError\u001b[0m                                Traceback (most recent call last)",
      "Cell \u001b[1;32mIn[491], line 2\u001b[0m\n\u001b[0;32m      1\u001b[0m data\u001b[38;5;241m=\u001b[39m df[[\u001b[38;5;124m'\u001b[39m\u001b[38;5;124m문장\u001b[39m\u001b[38;5;124m'\u001b[39m]]\n\u001b[1;32m----> 2\u001b[0m data[[\u001b[38;5;124m'\u001b[39m\u001b[38;5;124m정답\u001b[39m\u001b[38;5;124m'\u001b[39m]]\u001b[38;5;241m=\u001b[39moh_enc\u001b[38;5;241m.\u001b[39minverse_transform(y_oh)\n\u001b[0;32m      3\u001b[0m data\n",
      "File \u001b[1;32m~\\anaconda3\\Lib\\site-packages\\pandas\\core\\frame.py:3938\u001b[0m, in \u001b[0;36mDataFrame.__setitem__\u001b[1;34m(self, key, value)\u001b[0m\n\u001b[0;32m   3936\u001b[0m     \u001b[38;5;28mself\u001b[39m\u001b[38;5;241m.\u001b[39m_setitem_frame(key, value)\n\u001b[0;32m   3937\u001b[0m \u001b[38;5;28;01melif\u001b[39;00m \u001b[38;5;28misinstance\u001b[39m(key, (Series, np\u001b[38;5;241m.\u001b[39mndarray, \u001b[38;5;28mlist\u001b[39m, Index)):\n\u001b[1;32m-> 3938\u001b[0m     \u001b[38;5;28mself\u001b[39m\u001b[38;5;241m.\u001b[39m_setitem_array(key, value)\n\u001b[0;32m   3939\u001b[0m \u001b[38;5;28;01melif\u001b[39;00m \u001b[38;5;28misinstance\u001b[39m(value, DataFrame):\n\u001b[0;32m   3940\u001b[0m     \u001b[38;5;28mself\u001b[39m\u001b[38;5;241m.\u001b[39m_set_item_frame_value(key, value)\n",
      "File \u001b[1;32m~\\anaconda3\\Lib\\site-packages\\pandas\\core\\frame.py:3989\u001b[0m, in \u001b[0;36mDataFrame._setitem_array\u001b[1;34m(self, key, value)\u001b[0m\n\u001b[0;32m   3986\u001b[0m         \u001b[38;5;28mself\u001b[39m[col] \u001b[38;5;241m=\u001b[39m value\n\u001b[0;32m   3988\u001b[0m \u001b[38;5;28;01melif\u001b[39;00m \u001b[38;5;28misinstance\u001b[39m(value, np\u001b[38;5;241m.\u001b[39mndarray) \u001b[38;5;129;01mand\u001b[39;00m value\u001b[38;5;241m.\u001b[39mndim \u001b[38;5;241m==\u001b[39m \u001b[38;5;241m2\u001b[39m:\n\u001b[1;32m-> 3989\u001b[0m     \u001b[38;5;28mself\u001b[39m\u001b[38;5;241m.\u001b[39m_iset_not_inplace(key, value)\n\u001b[0;32m   3991\u001b[0m \u001b[38;5;28;01melif\u001b[39;00m np\u001b[38;5;241m.\u001b[39mndim(value) \u001b[38;5;241m>\u001b[39m \u001b[38;5;241m1\u001b[39m:\n\u001b[0;32m   3992\u001b[0m     \u001b[38;5;66;03m# list of lists\u001b[39;00m\n\u001b[0;32m   3993\u001b[0m     value \u001b[38;5;241m=\u001b[39m DataFrame(value)\u001b[38;5;241m.\u001b[39mvalues\n",
      "File \u001b[1;32m~\\anaconda3\\Lib\\site-packages\\pandas\\core\\frame.py:4019\u001b[0m, in \u001b[0;36mDataFrame._iset_not_inplace\u001b[1;34m(self, key, value)\u001b[0m\n\u001b[0;32m   4016\u001b[0m         \u001b[38;5;28;01mraise\u001b[39;00m \u001b[38;5;167;01mValueError\u001b[39;00m(\u001b[38;5;124m\"\u001b[39m\u001b[38;5;124mColumns must be same length as key\u001b[39m\u001b[38;5;124m\"\u001b[39m)\n\u001b[0;32m   4018\u001b[0m     \u001b[38;5;28;01mfor\u001b[39;00m i, col \u001b[38;5;129;01min\u001b[39;00m \u001b[38;5;28menumerate\u001b[39m(key):\n\u001b[1;32m-> 4019\u001b[0m         \u001b[38;5;28mself\u001b[39m[col] \u001b[38;5;241m=\u001b[39m igetitem(value, i)\n\u001b[0;32m   4021\u001b[0m \u001b[38;5;28;01melse\u001b[39;00m:\n\u001b[0;32m   4022\u001b[0m     ilocs \u001b[38;5;241m=\u001b[39m \u001b[38;5;28mself\u001b[39m\u001b[38;5;241m.\u001b[39mcolumns\u001b[38;5;241m.\u001b[39mget_indexer_non_unique(key)[\u001b[38;5;241m0\u001b[39m]\n",
      "File \u001b[1;32m~\\anaconda3\\Lib\\site-packages\\pandas\\core\\frame.py:3950\u001b[0m, in \u001b[0;36mDataFrame.__setitem__\u001b[1;34m(self, key, value)\u001b[0m\n\u001b[0;32m   3947\u001b[0m     \u001b[38;5;28mself\u001b[39m\u001b[38;5;241m.\u001b[39m_setitem_array([key], value)\n\u001b[0;32m   3948\u001b[0m \u001b[38;5;28;01melse\u001b[39;00m:\n\u001b[0;32m   3949\u001b[0m     \u001b[38;5;66;03m# set column\u001b[39;00m\n\u001b[1;32m-> 3950\u001b[0m     \u001b[38;5;28mself\u001b[39m\u001b[38;5;241m.\u001b[39m_set_item(key, value)\n",
      "File \u001b[1;32m~\\anaconda3\\Lib\\site-packages\\pandas\\core\\frame.py:4143\u001b[0m, in \u001b[0;36mDataFrame._set_item\u001b[1;34m(self, key, value)\u001b[0m\n\u001b[0;32m   4133\u001b[0m \u001b[38;5;28;01mdef\u001b[39;00m \u001b[38;5;21m_set_item\u001b[39m(\u001b[38;5;28mself\u001b[39m, key, value) \u001b[38;5;241m-\u001b[39m\u001b[38;5;241m>\u001b[39m \u001b[38;5;28;01mNone\u001b[39;00m:\n\u001b[0;32m   4134\u001b[0m \u001b[38;5;250m    \u001b[39m\u001b[38;5;124;03m\"\"\"\u001b[39;00m\n\u001b[0;32m   4135\u001b[0m \u001b[38;5;124;03m    Add series to DataFrame in specified column.\u001b[39;00m\n\u001b[0;32m   4136\u001b[0m \n\u001b[1;32m   (...)\u001b[0m\n\u001b[0;32m   4141\u001b[0m \u001b[38;5;124;03m    ensure homogeneity.\u001b[39;00m\n\u001b[0;32m   4142\u001b[0m \u001b[38;5;124;03m    \"\"\"\u001b[39;00m\n\u001b[1;32m-> 4143\u001b[0m     value \u001b[38;5;241m=\u001b[39m \u001b[38;5;28mself\u001b[39m\u001b[38;5;241m.\u001b[39m_sanitize_column(value)\n\u001b[0;32m   4145\u001b[0m     \u001b[38;5;28;01mif\u001b[39;00m (\n\u001b[0;32m   4146\u001b[0m         key \u001b[38;5;129;01min\u001b[39;00m \u001b[38;5;28mself\u001b[39m\u001b[38;5;241m.\u001b[39mcolumns\n\u001b[0;32m   4147\u001b[0m         \u001b[38;5;129;01mand\u001b[39;00m value\u001b[38;5;241m.\u001b[39mndim \u001b[38;5;241m==\u001b[39m \u001b[38;5;241m1\u001b[39m\n\u001b[0;32m   4148\u001b[0m         \u001b[38;5;129;01mand\u001b[39;00m \u001b[38;5;129;01mnot\u001b[39;00m is_extension_array_dtype(value)\n\u001b[0;32m   4149\u001b[0m     ):\n\u001b[0;32m   4150\u001b[0m         \u001b[38;5;66;03m# broadcast across multiple columns if necessary\u001b[39;00m\n\u001b[0;32m   4151\u001b[0m         \u001b[38;5;28;01mif\u001b[39;00m \u001b[38;5;129;01mnot\u001b[39;00m \u001b[38;5;28mself\u001b[39m\u001b[38;5;241m.\u001b[39mcolumns\u001b[38;5;241m.\u001b[39mis_unique \u001b[38;5;129;01mor\u001b[39;00m \u001b[38;5;28misinstance\u001b[39m(\u001b[38;5;28mself\u001b[39m\u001b[38;5;241m.\u001b[39mcolumns, MultiIndex):\n",
      "File \u001b[1;32m~\\anaconda3\\Lib\\site-packages\\pandas\\core\\frame.py:4870\u001b[0m, in \u001b[0;36mDataFrame._sanitize_column\u001b[1;34m(self, value)\u001b[0m\n\u001b[0;32m   4867\u001b[0m     \u001b[38;5;28;01mreturn\u001b[39;00m _reindex_for_setitem(Series(value), \u001b[38;5;28mself\u001b[39m\u001b[38;5;241m.\u001b[39mindex)\n\u001b[0;32m   4869\u001b[0m \u001b[38;5;28;01mif\u001b[39;00m is_list_like(value):\n\u001b[1;32m-> 4870\u001b[0m     com\u001b[38;5;241m.\u001b[39mrequire_length_match(value, \u001b[38;5;28mself\u001b[39m\u001b[38;5;241m.\u001b[39mindex)\n\u001b[0;32m   4871\u001b[0m \u001b[38;5;28;01mreturn\u001b[39;00m sanitize_array(value, \u001b[38;5;28mself\u001b[39m\u001b[38;5;241m.\u001b[39mindex, copy\u001b[38;5;241m=\u001b[39m\u001b[38;5;28;01mTrue\u001b[39;00m, allow_2d\u001b[38;5;241m=\u001b[39m\u001b[38;5;28;01mTrue\u001b[39;00m)\n",
      "File \u001b[1;32m~\\anaconda3\\Lib\\site-packages\\pandas\\core\\common.py:576\u001b[0m, in \u001b[0;36mrequire_length_match\u001b[1;34m(data, index)\u001b[0m\n\u001b[0;32m    572\u001b[0m \u001b[38;5;250m\u001b[39m\u001b[38;5;124;03m\"\"\"\u001b[39;00m\n\u001b[0;32m    573\u001b[0m \u001b[38;5;124;03mCheck the length of data matches the length of the index.\u001b[39;00m\n\u001b[0;32m    574\u001b[0m \u001b[38;5;124;03m\"\"\"\u001b[39;00m\n\u001b[0;32m    575\u001b[0m \u001b[38;5;28;01mif\u001b[39;00m \u001b[38;5;28mlen\u001b[39m(data) \u001b[38;5;241m!=\u001b[39m \u001b[38;5;28mlen\u001b[39m(index):\n\u001b[1;32m--> 576\u001b[0m     \u001b[38;5;28;01mraise\u001b[39;00m \u001b[38;5;167;01mValueError\u001b[39;00m(\n\u001b[0;32m    577\u001b[0m         \u001b[38;5;124m\"\u001b[39m\u001b[38;5;124mLength of values \u001b[39m\u001b[38;5;124m\"\u001b[39m\n\u001b[0;32m    578\u001b[0m         \u001b[38;5;124mf\u001b[39m\u001b[38;5;124m\"\u001b[39m\u001b[38;5;124m(\u001b[39m\u001b[38;5;132;01m{\u001b[39;00m\u001b[38;5;28mlen\u001b[39m(data)\u001b[38;5;132;01m}\u001b[39;00m\u001b[38;5;124m) \u001b[39m\u001b[38;5;124m\"\u001b[39m\n\u001b[0;32m    579\u001b[0m         \u001b[38;5;124m\"\u001b[39m\u001b[38;5;124mdoes not match length of index \u001b[39m\u001b[38;5;124m\"\u001b[39m\n\u001b[0;32m    580\u001b[0m         \u001b[38;5;124mf\u001b[39m\u001b[38;5;124m\"\u001b[39m\u001b[38;5;124m(\u001b[39m\u001b[38;5;132;01m{\u001b[39;00m\u001b[38;5;28mlen\u001b[39m(index)\u001b[38;5;132;01m}\u001b[39;00m\u001b[38;5;124m)\u001b[39m\u001b[38;5;124m\"\u001b[39m\n\u001b[0;32m    581\u001b[0m     )\n",
      "\u001b[1;31mValueError\u001b[0m: Length of values (18739) does not match length of index (18742)"
     ]
    }
   ],
   "source": [
    "data= df[['문장']]\n",
    "data[['정답']]=oh_enc.inverse_transform(y_oh)\n",
    "data"
   ]
  }
 ],
 "metadata": {
  "kernelspec": {
   "display_name": "Python 3 (ipykernel)",
   "language": "python",
   "name": "python3"
  },
  "language_info": {
   "codemirror_mode": {
    "name": "ipython",
    "version": 3
   },
   "file_extension": ".py",
   "mimetype": "text/x-python",
   "name": "python",
   "nbconvert_exporter": "python",
   "pygments_lexer": "ipython3",
   "version": "3.11.5"
  }
 },
 "nbformat": 4,
 "nbformat_minor": 5
}
