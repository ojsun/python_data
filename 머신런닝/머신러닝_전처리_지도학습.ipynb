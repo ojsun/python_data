{
 "cells": [
  {
   "cell_type": "code",
   "execution_count": null,
   "id": "50cc9844-a6c7-4ea9-bf21-9027068fac58",
   "metadata": {},
   "outputs": [],
   "source": []
  },
  {
   "cell_type": "code",
   "execution_count": null,
   "id": "3a90e571-1c48-4768-841b-fc57dc61ac4a",
   "metadata": {
    "tags": []
   },
   "outputs": [],
   "source": [
    "# 0. 사이킷런 파일 가져오기\n",
    "from sklearn.datasets import load_iris\n",
    "iris = load_iris()\n",
    "\n",
    "# 1. 데이터셋트 분리: train, test 로 자르기\n",
    "from sklearn.model_selection import train_test_split\n",
    "iris_data = iris.data\n",
    "iris_label = iris.target\n",
    "X_train, X_test, y_train, y_test =train_test_split(\n",
    "    iris_data, iris_label,test_size = 0.2,random_state = 11)\n",
    "# 2. df를 자르기: 종속 / 독립 변수로 나눠서 train_test_split한다.\n",
    "y_df = df['target']\n",
    "x_df = df.drop('target', axis = 1)\n",
    "X_train, X_test, y_train, y_test = \n",
    "   train_test_split(x_df, y_df, test_size = 0.2, random_state=0)\n",
    "# 3. 모델학습\n",
    "from sklearn.tree import DecisionTreeClassifier\n",
    "dt_clf = DecisionTreeClassifier(random_state = 0)\n",
    "dt_clf.fit(X_train, y_train)\n",
    "# 4. 예측수행- test용으로\n",
    "pred = dt_clf.predict(X_test)\n",
    "# 5. 평가 \n",
    "from sklearn.metrics import accuracy_score\n",
    "acc = accuracy_score(y_test, pred)"
   ]
  },
  {
   "cell_type": "markdown",
   "id": "d39456bc-55ec-47e7-962e-88bda4800f7a",
   "metadata": {
    "tags": []
   },
   "source": [
    "#### 교차검증_파라미터 성능향상"
   ]
  },
  {
   "cell_type": "code",
   "execution_count": null,
   "id": "97792c2c-f1ec-4c1e-8182-078bcdf8d565",
   "metadata": {},
   "outputs": [],
   "source": [
    "## 교차검증\n",
    "# 1) K_Fold 교차검증\n",
    "이상치 제거 등으로 중간에 빈 index가 있으면 에러남\n",
    "data.reset_index(drop=True, inplace=True)\n",
    "\n",
    "from sklearn.model_selection import KFold\n",
    "kfold = KFold(n_splits=5)\n",
    "accuracy = []\n",
    "for train_index, test_index in kfold.split(X_train):\n",
    "    X_tr = X_train[train_index]\n",
    "    X_te = X_train[test_index]\n",
    "    y_tr = y_train[train_index]\n",
    "    y_te = y_train[test_index]\n",
    "    # 데이터학습 일반화 검증\n",
    "    dt_clf = DecisionTreeClassifier(random_state=0)\n",
    "    dt_clf.fit(X_tr, y_tr)\n",
    "    pred = dt_clf.predict(X_te)\n",
    "    acc = accuracy_score(y_te, pred)\n",
    "    accuracy.append(acc)\n",
    "print(accuracy)\n",
    "\n",
    "# 2) StratifiedKFold 교차검증\n",
    "from sklearn.model_selection import StratifiedKFold\n",
    "stk = StratifiedKFold(n_splits=5)\n",
    "accuracy = []\n",
    "for train_index, test_index in stk.split(data, label):\n",
    "    X_tr = data[train_index]\n",
    "    X_te = data[test_index]\n",
    "    y_tr = label[train_index]\n",
    "    y_te = label[test_index]\n",
    "    dt_clf = DecisionTreeClassifier(random_state=156)\n",
    "    dt_clf.fit(X_tr, y_tr)\n",
    "    pred = dt_clf.predict(X_te)\n",
    "    acc = accuracy_score(y_te, pred)\n",
    "    accuracy.append(acc)\n",
    "print(accuracy)\n",
    "\n",
    "# 3) cross_val_score 교차검증\n",
    "from sklearn.model_selection import cross_val_score, cross_validate,cross_val_predict\n",
    "iris_data = load_iris()\n",
    "dt_clf = DecisionTreeClassifier(random_state= 156)\n",
    "data = iris_data.data\n",
    "label = iris_data.target\n",
    "scores = cross_val_score(dt_clf, data, label, scoring = 'accuracy', cv = 5)\n",
    "print('교차 검증별 정확도: ', np.round(scores, 4))\n",
    "print('평균 검증 정확도: ', np.round(np.mean(scores), 4))\n",
    "\n",
    "# cross_validate 교차검증 : 평가방법 2개 이상 가능\n",
    "cross_validate(dt_clf, data, label, scoring = ['accuracy', 'roc_auc_ovo'], cv = 5)"
   ]
  },
  {
   "cell_type": "code",
   "execution_count": null,
   "id": "7dfbecc2-a030-4030-ab43-177ee237224b",
   "metadata": {},
   "outputs": [],
   "source": [
    "# 하이퍼 파라미터의 성능향상: GridSearchCV\n",
    "from sklearn.model_selection import GridSearchCV\n",
    "\n",
    "params = {'max_depth' : [None, 6, 8 ,10, 12, 16 ,20, 24], 'min_samples_leaf' : range(1, 11),\n",
    "          'min_samples_split' : range(2, 11, 2)}\n",
    "grid_cv = GridSearchCV(dt_clf, param_grid=params, scoring='accuracy', cv=5, verbose=1 )\n",
    "grid_cv.fit(X_train , y_train)\n",
    "print(f'GridSearchCV 최고 정확도 수치:{grid_cv.best_score_:.4f}')\n",
    "print('GridSearchCV 최적 하이퍼 파라미터:', grid_cv.best_params_)\n",
    "\n",
    "model = grid_cv.best_estimator_\n",
    "pred = model.predict(X_test)           # 최적 파라미터로 예측하기\n",
    "pred_proba = model.predict_proba(X_test)[:,1]\n",
    "acc = accuracy_score(y_test, pred)\n",
    "auc = roc_auc_score(y_test, pred_proba)\n",
    "print(f'accuracy: {acc:.3f}, roc_auc:{auc:.3f}')"
   ]
  },
  {
   "cell_type": "markdown",
   "id": "d894b98c-98d4-425a-a8a4-9869adc5f17c",
   "metadata": {},
   "source": [
    "#### 전처리_인코딩"
   ]
  },
  {
   "cell_type": "code",
   "execution_count": null,
   "id": "e6d6f24d-7550-4253-b2af-59a3a717a456",
   "metadata": {},
   "outputs": [],
   "source": [
    "#  인코딩 : 범주형 문자 --> 수치형으로 바꿈\n",
    "from sklearn.preprocessing import LabelEncoder, OneHotEncoder\n",
    "\n",
    "# 1) LabelEncoder: 종속변수 또는 독립변수 범주 2개 \n",
    "lbe=LabelEncoder()\n",
    "titanic_df['Sex']=lbe.fit_transform(titanic_df['Sex'])\n",
    "# df 전체로도 가능\n",
    "lb_enc.fit(y)                   # fit은 y의 범주 종류를 저장하는 역할\n",
    "label_iris=lb_enc.transform(y)  # 위에서 저장한 범주를 맞는 숫자로 변환\n",
    "\n",
    "# 2) OneHotEncoder: 3개 이상 독립변수 : 2차원으로 변경해야/희소행렬\n",
    "# 방안1)\n",
    "oh=OneHotEncoder(sparse_output=False)\n",
    "C_B=oh.fit_transform(titanic_df[['Cabin','Embarked']])\n",
    "columns=np.hstack(['Cab_' + oh.categories_[0], 'Emb_'+ oh.categories_[1]])\n",
    "titanic_df=pd.concat([titanic_df, pd.DataFrame(C_B, columns=columns)], axis=1)\n",
    "# 방안2)\n",
    "items = np.array(items).reshape(-1, 1)\n",
    "oh_encoder = OneHotEncoder()\n",
    "oh_encoder.fit(items)\n",
    "oh_labels = oh_encoder.transform(items)  \n",
    "\n",
    "# 3) get_dummies - pandas 범주형 변수에서 더미변수를 자동으로 만들어주는 함수\n",
    "pd.get_dummies(df) "
   ]
  },
  {
   "cell_type": "code",
   "execution_count": null,
   "id": "c38a8b59-3a33-4a88-a231-c35eb53d3b71",
   "metadata": {},
   "outputs": [],
   "source": [
    "# 데이터 전처리- 표준화 / 수의 값이 끝이 없고, 기본 평균이 정해져있을때\n",
    "from sklearn.preprocessing import StandardScaler\n",
    "cancer = load_breast_cancer()\n",
    "scaler = StandardScaler()\n",
    "data_scaled = scaler.fit_transform(cancer.data)"
   ]
  },
  {
   "cell_type": "code",
   "execution_count": null,
   "id": "b4aa88ad-dfa0-404b-a97d-a5e661756c70",
   "metadata": {},
   "outputs": [],
   "source": [
    "# 데이터 전처리 -정규화/ 수의 값이 끝이 있을때 :표준화와 모두 같음\n",
    "# ** 무조건 0-1 사이 값임\n",
    "from sklearn.preprocessing import MinMaxScaler\n",
    "scaler = MinMaxScaler()\n",
    "iris_scaled=scaler.fit_transform(iris_df)"
   ]
  },
  {
   "cell_type": "markdown",
   "id": "60efa6ab-75d9-4680-a3ff-b65313be2682",
   "metadata": {},
   "source": [
    "### 분류_Tree기반"
   ]
  },
  {
   "cell_type": "code",
   "execution_count": null,
   "id": "5b0b280c-1186-402b-8a1d-217874d30061",
   "metadata": {},
   "outputs": [],
   "source": [
    "# 1. 결정트리 DecisionTreeClassifier:\n",
    "\n",
    "from sklearn.tree import DecisionTreeClassifier\n",
    "X_data = wine.data\n",
    "y_data = wine.target\n",
    "X_train, X_test, y_train, y_test = train_test_split(X_data, y_data, test_size=0.2, random_state= 156)\n",
    "dt_clf = DecisionTreeClassifier(random_state=156)\n",
    "dt_clf.fit(X_train , y_train)\n",
    "pred = dt_clf.predict(X_test)"
   ]
  },
  {
   "cell_type": "code",
   "execution_count": null,
   "id": "5e51325e-064d-4f2e-9015-2e7fa58da9ad",
   "metadata": {},
   "outputs": [],
   "source": [
    "# 1-1. GridSearchCV 하이퍼 파라미터 찾기\n",
    "\n",
    "from sklearn.model_selection import GridSearchCV\n",
    "parameters = {'criterion':['gini', 'entropy'],'max_depth':[None, 2, 3, 5, 7], \n",
    "                'min_samples_split':[2,3,5,7],'min_samples_leaf':[1,3,5,7]}\n",
    "grid_dt = GridSearchCV(dt_clf, param_grid=parameters, cv=5)\n",
    "grid_dt.fit(X_train, y_train)\n",
    "scores_df = pd.DataFrame(grid_dt.cv_results_)\n",
    "scores_df[['params', 'mean_test_score', 'rank_test_score']]\n",
    "model = grid_dt.best_estimator_\n",
    "pred = model.predict(X_test)\n",
    "accuracy_score(y_test, pred)\n",
    "print('GridSearchCV 최적 파라미터 :', grid_dt.best_params_)\n",
    "print(f'GridSearchCV 최고 정확도 : {grid_dt.best_score_:.4f}')"
   ]
  },
  {
   "cell_type": "code",
   "execution_count": null,
   "id": "6890d96e-0a70-46c6-8216-e5c87fde291f",
   "metadata": {},
   "outputs": [],
   "source": [
    "# 1-2 피처 중요도 그래프 .feature_importances_\n",
    "import seaborn as sns\n",
    "import matplotlib.pyplot as plt\n",
    "ftr_importances_values = model.feature_importances_\n",
    "ftr_importances = pd.Series(ftr_importances_values,index=wine.feature_names)\n",
    "ftr_top20 = ftr_importances.sort_values(ascending=False)[:20]\n",
    "plt.figure(figsize=(8,6))\n",
    "plt.title('Feature importances Top 20')\n",
    "sns.barplot(x=ftr_top20 , y = ftr_top20.index)"
   ]
  },
  {
   "cell_type": "code",
   "execution_count": null,
   "id": "f0f09eb0-ea50-4345-8cde-7226cc5e79f7",
   "metadata": {},
   "outputs": [],
   "source": [
    "# 1-3 트리 구조 그래프\n",
    "from sklearn.tree import plot_tree\n",
    "plt.figure(figsize=(10,7), dpi=1200)\n",
    "plot_tree(model, filled=True, feature_names=wine.feature_names, \n",
    "    class_names=list(wine.target_names))"
   ]
  },
  {
   "cell_type": "code",
   "execution_count": null,
   "id": "4cbc986e-a6e4-4ea2-bb63-9eed1a85ed3c",
   "metadata": {},
   "outputs": [],
   "source": [
    "# 과적합 확인하는 방법\n",
    "# cross_val_score: 학습데이터 평가점수 vs 테스트데이터 평가점수 --> 비슷해야함\n",
    "# max_dept 적은 수/ min_samples_split: split 하는 최소 샘플 수/min_samples_leaf: 리프노드에 있을 최소 샘플갯수\n",
    "    \n",
    "from sklearn.model_selection import cross_val_score\n",
    "dt_clf=DecisionTreeClassifier(random_state=0)\n",
    "dt_clf.fit(X_train, y_train)\n",
    "scores=cross_val_score(dt_clf, X_train, y_train, scoring='accuracy', cv=5)\n",
    "print('교차검증 평균 평가',scores.mean())\n",
    "print('테스트데이터 평가점수',accuracy_score(y_test, dt_clf.predict(X_test)))"
   ]
  },
  {
   "cell_type": "markdown",
   "id": "76e44faf-304b-4fa7-85e3-9e6c19944a0e",
   "metadata": {},
   "source": [
    "#### ensemble 학습\n",
    "1) 보팅 Voting  \n",
    "        :한 데이터셋 + 분류기 다수:여러가지 알고리즘 사용, 다수결 원칙으로 투표로 결과 예측\n",
    "2) 배깅 Bagging  \n",
    "        : 하나의 알고리즘을 다양한 데이터로 학습하여 예측결과를 통합/ RandomForest\n",
    "3) 부스팅 Boosting : 순차적으로 학습-예측하면서 오류개선하며 가중치 조정.딥러닝 학습방식 \n",
    "        부스팅: 하나의 알고리즘 여러번 순차적으로 학습시켜서 가중치를 업데이트하는 방법\n",
    "     : GBM, AdaBoost, XGBoost, LightGBM(속도 좋고, 과적합 문제 약간), \n",
    "        CatBoost(속도 좋고, 과적합 개선)\n",
    "4) 스태킹 Stacking : 성능이 비슷한 약한 여러 모델로 작업하여 예측한 값을 최종 모델을 사용"
   ]
  },
  {
   "cell_type": "code",
   "execution_count": null,
   "id": "70ad167f-614a-473e-a649-e49163e2d418",
   "metadata": {},
   "outputs": [],
   "source": [
    "# 1) ensemble 학습: Voting\n",
    "\n",
    "from sklearn.ensemble import VotingClassifier\n",
    "lr_clf = LogisticRegression(solver='liblinear')\n",
    "dt_clf = DecisionTreeClassifier(random_state=0)\n",
    "knn_clf= KNeighborsClassifier()\n",
    "vo_clf = VotingClassifier( estimators=[('LR',lr_clf), ('DT',dt_clf),('KNN', knn_clf)] , voting='soft' )\n",
    "\n",
    "X_train, X_test, y_train, y_test = train_test_split(cancer.data, cancer.target, test_size=0.2 , random_state= 0)\n",
    "vo_clf.fit(X_train , y_train)\n",
    "pred = vo_clf.predict(X_test)\n",
    "print(f'Voting 분류기 정확도: {accuracy_score(y_test,pred):.4f}')\n",
    "\n",
    "classifiers = [lr_clf, dt_clf, knn_clf]\n",
    "for clf in classifiers:\n",
    "    clf.fit(X_train , y_train)\n",
    "    pred = clf.predict(X_test)\n",
    "    class_name= clf.__class__.__name__\n",
    "    print(f'{class_name} 정확도: {accuracy_score(y_test, pred):.4f}')"
   ]
  },
  {
   "cell_type": "code",
   "execution_count": null,
   "id": "9686dc0b-d66a-46ec-a41a-2ee51be52039",
   "metadata": {},
   "outputs": [],
   "source": [
    "# 2) ensemble 학습: RandomForestClassifier\n",
    "\n",
    "from sklearn.ensemble import RandomForestClassifier\n",
    "cancer = load_breast_cancer()\n",
    "X_train, X_test, y_train, y_test = train_test_split(cancer.data, cancer.target, test_size=0.2 , random_state= 0)\n",
    "rf_clf = RandomForestClassifier(random_state=0)\n",
    "rf_clf.fit(X_train , y_train)\n",
    "pred = rf_clf.predict(X_test)\n",
    "accuracy = accuracy_score(y_test , pred)\n",
    "print(f'랜덤 포레스트 정확도: {accuracy:.4f}')\n",
    "\n",
    "# 랜덤포레스트 파이퍼 파라미터 튜닝 GridSearchCV\n",
    "params = {'n_estimators':[100], 'max_depth' : [6, 8, 10, 12], \n",
    "          'min_samples_leaf' : [8, 12, 18 ],'min_samples_split' : [8, 16, 20]}\n",
    "rf_clf = RandomForestClassifier(random_state=0)\n",
    "grid_cv = GridSearchCV(rf_clf , param_grid=params , cv=3, n_jobs=-1, verbose=True)\n",
    "grid_cv.fit(X_train , y_train)\n",
    "print('GridSearchCV 최적 파라미터:', grid_cv.best_params_)\n",
    "print(f'GridSearchCV 최고 정확도: {grid_cv.best_score_:.4f}')\n",
    "model = grid_cv.best_estimator_\n",
    "pred = model.predict(X_test)\n",
    "accuracy_score(y_test, pred)\n",
    "\n",
    "# 피쳐 중요도 그래프\n",
    "ftr_importances_values = rf_clf.feature_importances_\n",
    "ftr_importances = pd.Series(ftr_importances_values, index=cancer.feature_names )\n",
    "ftr_top20 = ftr_importances.sort_values(ascending=False)[:20]\n",
    "plt.figure(figsize=(8,6))\n",
    "plt.title('Feature importances Top 20')\n",
    "sns.barplot(x=ftr_top20 , y = ftr_top20.index)"
   ]
  },
  {
   "cell_type": "code",
   "execution_count": null,
   "id": "2e650579-ab11-413d-bd76-b5f7a1003805",
   "metadata": {},
   "outputs": [],
   "source": [
    "# 3) ensemble 학습: GBM/ GradientBoostingClassifier\n",
    "\n",
    "from sklearn.ensemble import GradientBoostingClassifier\n",
    "cancer = load_breast_cancer()\n",
    "X_train, X_test, y_train, y_test = train_test_split(cancer.data, cancer.target, test_size=0.2 , random_state= 0)\n",
    "gb_clf = GradientBoostingClassifier( n_estimators=200,learning_rate=0.05,, random_state=0,verbose=True )\n",
    "gb_clf.fit(X_train , y_train)\n",
    "gb_pred = gb_clf.predict(X_test)\n",
    "gb_accuracy = accuracy_score(y_test, gb_pred)\n",
    "print(f'GBM 정확도: {gb_accuracy:.4f}')"
   ]
  },
  {
   "cell_type": "code",
   "execution_count": null,
   "id": "e06d3c0e-b27f-405f-a5b1-4dac354e377f",
   "metadata": {},
   "outputs": [],
   "source": [
    "# 4) ensemble 학습: 사이킷런 XGBClassifier \n",
    "\n",
    "from xgboost import XGBClassifier \n",
    "dataset = load_breast_cancer()\n",
    "cancer_df = pd.DataFrame(data=dataset.data, columns=dataset.feature_names)\n",
    "cancer_df['target'] = dataset.target\n",
    "X_features = cancer_df.iloc[:, :-1]\n",
    "y_label = cancer_df.iloc[:, -1]\n",
    "X_train, X_test, y_train, y_test=train_test_split(X_features, y_label,test_size=0.2, random_state=156 )\n",
    "X_tr, X_val, y_tr, y_val= train_test_split(X_train, y_train,test_size=0.1, random_state=156 )\n",
    "xgb_wrapper = XGBClassifier(n_estimators=400, learning_rate=0.1, max_depth=3)\n",
    "evals = [(X_val, y_val)]\n",
    "xgb_wrapper.fit(X_tr, y_tr, eval_metric = \"logloss\",early_stopping_rounds=10,eval_set=evals)\n",
    "preds = xgb_wrapper.predict(X_test)\n",
    "pred_proba = xgb_wrapper.predict_proba(X_test)[:, 1]\n",
    "accuracy_score(y_test, pred)\n",
    "\n",
    "# xgb_wrapper.feature_importances_ 로 그래프\n",
    "ftr_importances_values = xgb_wrapper.feature_importances_\n",
    "ftr_importances = pd.Series(ftr_importances_values, index=cancer.feature_names )\n",
    "ftr_top20 = ftr_importances.sort_values(ascending=False)[:20]\n",
    "plt.figure(figsize=(8,6))\n",
    "plt.title('Feature importances Top 20')\n",
    "sns.barplot(x=ftr_top20 , y = ftr_top20.index)"
   ]
  },
  {
   "cell_type": "code",
   "execution_count": null,
   "id": "fc54c263-31d8-4c27-99cf-52fd6c291643",
   "metadata": {},
   "outputs": [],
   "source": [
    "# 5) 스태킹 앙상블\n",
    "# 4개의 모델(KNN, RF, Ada, DT)를 통해 개별 예측/최종 Logistic 모델을 사용하여 예측 예정"
   ]
  },
  {
   "cell_type": "code",
   "execution_count": null,
   "id": "35afcaf5-ec44-45e0-a6ce-139debd1ddf4",
   "metadata": {},
   "outputs": [],
   "source": [
    "from sklearn.ensemble import StackingClassifier\n",
    "\n",
    "from sklearn.ensemble import StackingClassifier\n",
    "from sklearn.naive_bayes import GaussianNB\n",
    "from sklearn.tree import DecisionTreeClassifier\n",
    "from sklearn.neighbors import KNeighborsClassifier\n",
    "from sklearn.linear_model import LogisticRegression\n",
    "\n",
    "stack = StackingClassifier([('Gaus', GaussianNB()),\n",
    "                            ('DT', DecisionTreeClassifier(random_state=0)),\n",
    "                            ('Knn', KNeighborsClassifier())],\n",
    "                           final_estimator=LogisticRegression(random_state=0),stack_method='predict')\n",
    "stack.fit(X_train, y_train)\n",
    "pred = stack.predict(X_test)\n",
    "pred_proba = stack.predict_proba(X_test)\n",
    "\n",
    "get_clf_eval(y_test, pred, pred_proba)"
   ]
  },
  {
   "cell_type": "markdown",
   "id": "15335dd5-a6a9-4a78-a067-dfbdc9ed94b0",
   "metadata": {},
   "source": [
    "### 분류 - Tree 외"
   ]
  },
  {
   "cell_type": "code",
   "execution_count": null,
   "id": "adda10b4-2e20-4891-a1e3-31bbba5fe622",
   "metadata": {},
   "outputs": [],
   "source": [
    "# 1. 로지스틱 회귀: 시그모이드함수를 생성하고 입력값이 0인지 1인지 예측하여 수랭\n",
    "lr_clf = LogisticRegression()\n",
    "lr_clf.fit(X_train, y_train)\n",
    "pred = lr_clf.predict(X_test)\n",
    "pred_proba = lr_clf.predict_proba(X_test)[:,1]\n",
    "acc = accuracy_score(y_test, pred)\n",
    "auc = roc_auc_score(y_test, pred_proba)\n",
    "print(f'accuracy: {acc:.3f}, roc_auc:{auc:.3f}')\n",
    "\n",
    "# 최적의 파라미터\n",
    "from sklearn.model_selection import GridSearchCV\n",
    "params={'solver':['liblinear', 'lbfgs'],'penalty':['l2', 'l1'],'C':[0.01, 0.1, 1, 5, 10]}\n",
    "lr_clf = LogisticRegression()\n",
    "grid_clf = GridSearchCV(lr_clf, param_grid=params, scoring='accuracy', cv=3 )\n",
    "grid_clf.fit(cancer.data, cancer.target)\n",
    "print(f'최적 하이퍼 파라미터:{grid_clf.best_params_}') \n",
    "print(f'최대 평균 정확도:{grid_clf.best_score_:.3f}')\n",
    "\n",
    "# GridSearchCV 결과보기\n",
    "pd.DataFrame(grid_clf.cv_results_)[['mean_test_score', 'rank_test_score']] # 필요한 파라미터로\n",
    "lr_clf.coef_, lr_clf.intercept_   # 주의! 되나 봐야함"
   ]
  },
  {
   "cell_type": "code",
   "execution_count": null,
   "id": "d23f465a-905c-4f20-aea0-66b8f2602330",
   "metadata": {},
   "outputs": [],
   "source": [
    "# 2. 최근접 이웃\n",
    "from sklearn.neighbors import KNeighborsClassifier\n",
    "knn = KNeighborsClassifier(n_neighbors=7, metric='euclidean')\n",
    "knn.fit(X_train, y_train)\n",
    "pred = knn.predict(X_test)\n",
    "pred_proba = knn.predict_proba(X_test)[:,1]\n",
    "acc = accuracy_score(y_test, pred)\n",
    "auc = roc_auc_score(y_test, pred_proba)\n",
    "print(f'accuracy: {acc:.3f}, roc_auc:{auc:.3f}')"
   ]
  },
  {
   "cell_type": "code",
   "execution_count": null,
   "id": "34c0cbd2-8e42-4ce4-abc9-a3d35c994cc8",
   "metadata": {},
   "outputs": [],
   "source": [
    "# 3. 서포트 벡터 머신(KVM)\n",
    "from sklearn.svm import SVC, SVR\n",
    "svc = SVC(probability = True)   # pred_proba 구할 경우 True\n",
    "svc.fit(X_train, y_train)\n",
    "pred = svc.predict(X_test)\n",
    "pred_proba = svc.predict_proba(X_test)[:,1]\n",
    "acc = accuracy_score(y_test, pred)\n",
    "auc = roc_auc_score(y_test, pred_proba)\n",
    "print(f'accuracy: {acc:.3f}, roc_auc:{auc:.3f}')\n",
    "\n",
    "# 3-1. kernel 비교하기\n",
    "kernels = ['rbf', 'linear', 'poly', 'sigmoid']\n",
    "for kernel in kernels:\n",
    "    print(kernel)\n",
    "    svc = SVC(kernel=kernel, probability = True)\n",
    "    svc.fit(X_train, y_train)\n",
    "    pred = svc.predict(X_test)\n",
    "    pred_proba = svc.predict_proba(X_test)[:,1]\n",
    "    acc = accuracy_score(y_test, pred)\n",
    "    auc = roc_auc_score(y_test, pred_proba)\n",
    "    print(f'accuracy: {acc:.3f}, roc_auc:{auc:.3f}')\n",
    "\n",
    "# 3-2. 파라미터 찾기 GridSearchCV\n",
    "params = {'C' : [0.01, 0.1, 1, 2, 5],'gamma' : [0.01, 0.05,0.1, 0.5, 1, 2, 5]}\n",
    "grid_cv = GridSearchCV(svc, param_grid=params, scoring='accuracy', cv = 3, verbose=True)\n",
    "grid_cv.fit(X_train, y_train)\n"
   ]
  },
  {
   "cell_type": "code",
   "execution_count": null,
   "id": "4b523314-7374-4d5c-86e7-95b618726004",
   "metadata": {},
   "outputs": [],
   "source": []
  },
  {
   "cell_type": "code",
   "execution_count": null,
   "id": "f8cdbbae-4cd2-4079-ac81-5ef741c87e6e",
   "metadata": {},
   "outputs": [],
   "source": []
  },
  {
   "cell_type": "code",
   "execution_count": null,
   "id": "8ab06f36-4a13-4632-8074-61c7aade34ca",
   "metadata": {},
   "outputs": [],
   "source": []
  },
  {
   "cell_type": "code",
   "execution_count": null,
   "id": "1ca4b9c5-fdfe-44df-b400-1cce6eb7f767",
   "metadata": {},
   "outputs": [],
   "source": []
  },
  {
   "cell_type": "code",
   "execution_count": null,
   "id": "459d921e-bb8d-4615-b8a6-507d360bf645",
   "metadata": {},
   "outputs": [],
   "source": []
  },
  {
   "cell_type": "code",
   "execution_count": null,
   "id": "8b41cbcb-26bb-4468-970c-826ddaac189b",
   "metadata": {},
   "outputs": [],
   "source": []
  },
  {
   "cell_type": "code",
   "execution_count": null,
   "id": "77de6582-39de-4a02-b8ee-9fa15a016b29",
   "metadata": {},
   "outputs": [],
   "source": []
  },
  {
   "cell_type": "code",
   "execution_count": null,
   "id": "e2271574-5862-4ab5-ba57-3d195d808337",
   "metadata": {},
   "outputs": [],
   "source": []
  },
  {
   "cell_type": "code",
   "execution_count": null,
   "id": "ef6f767e-1677-4950-938b-5232b26a6e28",
   "metadata": {},
   "outputs": [],
   "source": []
  },
  {
   "cell_type": "code",
   "execution_count": null,
   "id": "61418f47-b18f-40b0-91d7-46d9cd31b718",
   "metadata": {},
   "outputs": [],
   "source": []
  },
  {
   "cell_type": "code",
   "execution_count": null,
   "id": "15cff7a9-cc7b-4123-a424-3b69e96553e9",
   "metadata": {},
   "outputs": [],
   "source": []
  },
  {
   "cell_type": "code",
   "execution_count": null,
   "id": "50363e51-8622-457f-9c28-033a3fce1b0d",
   "metadata": {},
   "outputs": [],
   "source": []
  },
  {
   "cell_type": "code",
   "execution_count": null,
   "id": "8cdcd91d-d964-4a28-9ec3-04a5b994e548",
   "metadata": {},
   "outputs": [],
   "source": []
  },
  {
   "cell_type": "code",
   "execution_count": null,
   "id": "dde6023b-670f-47a1-aeba-1f8b80922798",
   "metadata": {},
   "outputs": [],
   "source": []
  },
  {
   "cell_type": "code",
   "execution_count": null,
   "id": "68c0dac9-53f1-4dc9-9f3a-7d36698cf93c",
   "metadata": {},
   "outputs": [],
   "source": []
  },
  {
   "cell_type": "code",
   "execution_count": null,
   "id": "a0a51606-549d-4e19-bb32-9f1734c257a3",
   "metadata": {},
   "outputs": [],
   "source": []
  },
  {
   "cell_type": "code",
   "execution_count": null,
   "id": "51be3596-45ab-4581-9b58-f7a67404a850",
   "metadata": {},
   "outputs": [],
   "source": []
  },
  {
   "cell_type": "code",
   "execution_count": null,
   "id": "094a91a5-2ed6-4736-8802-9efc63b0a273",
   "metadata": {},
   "outputs": [],
   "source": []
  },
  {
   "cell_type": "code",
   "execution_count": null,
   "id": "274de274-5354-4152-a2cd-173cb7792e75",
   "metadata": {},
   "outputs": [],
   "source": []
  },
  {
   "cell_type": "code",
   "execution_count": null,
   "id": "6634780e-2e3d-48c5-828a-fe66f94d81a8",
   "metadata": {},
   "outputs": [],
   "source": []
  },
  {
   "cell_type": "code",
   "execution_count": null,
   "id": "a1222cb4-540c-4328-8f40-40258ed49038",
   "metadata": {},
   "outputs": [],
   "source": []
  },
  {
   "cell_type": "code",
   "execution_count": null,
   "id": "42db9f19-c700-4547-8761-f0bb9e1b2b7e",
   "metadata": {},
   "outputs": [],
   "source": []
  },
  {
   "cell_type": "code",
   "execution_count": null,
   "id": "678ee879-00e9-442c-b8eb-7a7bc41411c3",
   "metadata": {},
   "outputs": [],
   "source": []
  },
  {
   "cell_type": "code",
   "execution_count": null,
   "id": "0ae1e0a0-c5c6-4fb2-b37c-b037d53c940b",
   "metadata": {},
   "outputs": [],
   "source": []
  },
  {
   "cell_type": "code",
   "execution_count": null,
   "id": "a806a989-cc2f-462c-9840-0aaf6ae4fd40",
   "metadata": {},
   "outputs": [],
   "source": []
  },
  {
   "cell_type": "code",
   "execution_count": null,
   "id": "7dddc190-2be2-463f-a9f0-f6dccf061306",
   "metadata": {},
   "outputs": [],
   "source": []
  },
  {
   "cell_type": "code",
   "execution_count": null,
   "id": "21d31a31-149c-4f1c-9e27-670775215182",
   "metadata": {},
   "outputs": [],
   "source": []
  },
  {
   "cell_type": "code",
   "execution_count": null,
   "id": "a180bab9-1f58-4a23-9d88-927595db81d6",
   "metadata": {},
   "outputs": [],
   "source": []
  },
  {
   "cell_type": "code",
   "execution_count": null,
   "id": "5a4e527b-d666-4853-903c-8911ba1183ac",
   "metadata": {},
   "outputs": [],
   "source": []
  },
  {
   "cell_type": "code",
   "execution_count": null,
   "id": "6579c64d-0b56-4d4b-ac88-d3b1e9aba1d7",
   "metadata": {},
   "outputs": [],
   "source": []
  },
  {
   "cell_type": "code",
   "execution_count": null,
   "id": "b947a6e0-515c-4c4f-acb0-1942b3b633c8",
   "metadata": {},
   "outputs": [],
   "source": []
  },
  {
   "cell_type": "code",
   "execution_count": null,
   "id": "f7c044f5-b8b3-4c8b-8216-777826e809c0",
   "metadata": {},
   "outputs": [],
   "source": []
  },
  {
   "cell_type": "code",
   "execution_count": null,
   "id": "4ef6f5f8-1855-4365-85ef-4946f44bcb25",
   "metadata": {},
   "outputs": [],
   "source": []
  },
  {
   "cell_type": "code",
   "execution_count": null,
   "id": "9419ce32-3a14-475e-867d-2e219cce442e",
   "metadata": {},
   "outputs": [],
   "source": []
  },
  {
   "cell_type": "code",
   "execution_count": null,
   "id": "9c6281ed-6cfb-4e46-8bf7-925d94e31f2c",
   "metadata": {},
   "outputs": [],
   "source": []
  },
  {
   "cell_type": "code",
   "execution_count": null,
   "id": "f713f908-7951-4d98-ba91-3c69dc5ab1f4",
   "metadata": {},
   "outputs": [],
   "source": []
  },
  {
   "cell_type": "code",
   "execution_count": null,
   "id": "c23bd6e9-ade1-4c50-80a1-d96cc574b123",
   "metadata": {},
   "outputs": [],
   "source": []
  },
  {
   "cell_type": "code",
   "execution_count": null,
   "id": "a1145b5b-159b-4e0d-b515-6b84b44930dd",
   "metadata": {},
   "outputs": [],
   "source": []
  },
  {
   "cell_type": "code",
   "execution_count": null,
   "id": "3d3e4321-1513-4cba-af7c-f6c7ee8897cd",
   "metadata": {},
   "outputs": [],
   "source": []
  },
  {
   "cell_type": "code",
   "execution_count": null,
   "id": "11c20885-d103-438d-8202-ce29a6f0545e",
   "metadata": {},
   "outputs": [],
   "source": []
  },
  {
   "cell_type": "code",
   "execution_count": null,
   "id": "6a81c5bb-0eaa-4ce4-8340-20c192d38710",
   "metadata": {},
   "outputs": [],
   "source": []
  },
  {
   "cell_type": "code",
   "execution_count": null,
   "id": "bd049670-fc09-40f8-9c8c-e33e2734c862",
   "metadata": {},
   "outputs": [],
   "source": []
  },
  {
   "cell_type": "code",
   "execution_count": null,
   "id": "ee5377d2-d0ed-4437-b0e2-461b185d136d",
   "metadata": {},
   "outputs": [],
   "source": []
  },
  {
   "cell_type": "code",
   "execution_count": null,
   "id": "49b0e20a-47e0-4a83-a185-780f41266a12",
   "metadata": {},
   "outputs": [],
   "source": []
  },
  {
   "cell_type": "code",
   "execution_count": null,
   "id": "d15c5e49-8d8d-4ec5-982e-970f0aef84a2",
   "metadata": {},
   "outputs": [],
   "source": []
  },
  {
   "cell_type": "code",
   "execution_count": null,
   "id": "9bd945e8-64e7-40c6-8a88-2a70fcc953e4",
   "metadata": {},
   "outputs": [],
   "source": []
  },
  {
   "cell_type": "code",
   "execution_count": null,
   "id": "816e9d5c-9494-4188-a257-5a6f4a49ce73",
   "metadata": {},
   "outputs": [],
   "source": []
  },
  {
   "cell_type": "code",
   "execution_count": null,
   "id": "60b185a3-4fd0-405e-9669-89004445b25e",
   "metadata": {},
   "outputs": [],
   "source": []
  },
  {
   "cell_type": "code",
   "execution_count": null,
   "id": "fe19ef9b-b2c3-420d-9251-3bf6e5fbe1f2",
   "metadata": {},
   "outputs": [],
   "source": []
  },
  {
   "cell_type": "code",
   "execution_count": null,
   "id": "cf16417e-0d25-469b-9523-ee2bb7ffcbee",
   "metadata": {},
   "outputs": [],
   "source": []
  },
  {
   "cell_type": "code",
   "execution_count": null,
   "id": "f73dcdff-fa75-4d57-99df-69655fe33d35",
   "metadata": {},
   "outputs": [],
   "source": []
  },
  {
   "cell_type": "code",
   "execution_count": null,
   "id": "cdcdf033-5047-4589-98ce-93dcc73eacb3",
   "metadata": {},
   "outputs": [],
   "source": []
  },
  {
   "cell_type": "code",
   "execution_count": null,
   "id": "086b7ddb-3022-4367-8422-b8cecb2186f3",
   "metadata": {},
   "outputs": [],
   "source": []
  },
  {
   "cell_type": "code",
   "execution_count": null,
   "id": "05604aab-3353-4179-bf52-0eed35a8cd9f",
   "metadata": {},
   "outputs": [],
   "source": []
  },
  {
   "cell_type": "code",
   "execution_count": null,
   "id": "0a8f99e1-f32f-410b-8c32-d4febbc8eeed",
   "metadata": {},
   "outputs": [],
   "source": []
  },
  {
   "cell_type": "code",
   "execution_count": null,
   "id": "c932b7fe-a2f0-40b2-a963-8fcc986bc583",
   "metadata": {},
   "outputs": [],
   "source": []
  },
  {
   "cell_type": "code",
   "execution_count": null,
   "id": "0565a0ca-425f-4f29-830a-10df17a0efab",
   "metadata": {},
   "outputs": [],
   "source": []
  }
 ],
 "metadata": {
  "kernelspec": {
   "display_name": "Python 3 (ipykernel)",
   "language": "python",
   "name": "python3"
  },
  "language_info": {
   "codemirror_mode": {
    "name": "ipython",
    "version": 3
   },
   "file_extension": ".py",
   "mimetype": "text/x-python",
   "name": "python",
   "nbconvert_exporter": "python",
   "pygments_lexer": "ipython3",
   "version": "3.11.5"
  }
 },
 "nbformat": 4,
 "nbformat_minor": 5
}
