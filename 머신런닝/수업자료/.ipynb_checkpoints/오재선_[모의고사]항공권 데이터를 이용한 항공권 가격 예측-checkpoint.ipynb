{
 "cells": [
  {
   "cell_type": "markdown",
   "metadata": {
    "id": "GsI5_ycfsEXt"
   },
   "source": [
    "**머신러닝 분석 프로그래밍 평가문제**\n",
    "### **항공권 데이터를 이용한 <span style=\"color:darkgreen\">항공권 가격</span> 예측 문제**\n",
    "- 항공권 데이터를 읽어들여 데이터를 분석 및 전처리한 후 머신러닝 학습으로 항공권 가격을 예측하고 결과를 분석하세요.\n",
    "---\n"
   ]
  },
  {
   "cell_type": "markdown",
   "metadata": {
    "id": "1vrmFif_sYMO"
   },
   "source": [
    "**[ 데이터 컬럼 설명]**\n",
    "* airline : 항공사 이름\n",
    "  * ['SpiceJet', 'AirAsia', 'Vistara', 'GO_FIRST', 'Indigo', 'Air_India']\n",
    "* flight : 항공편명\n",
    "  * ['SG-8709', 'SG-8157', 'I5-764', ..., '6E-7127', '6E-7259', 'AI-433']\n",
    "* source_city : 출발 도시\n",
    "  * ['Delhi', 'Mumbai', 'Bangalore', 'Kolkata', 'Hyderabad', 'Chennai']\n",
    "* departure_time : 출발 시간\n",
    "  * ['Evening', 'Early_Morning', 'Morning', 'Afternoon', 'Night', 'Late_Night']\n",
    "* stops : 환승장 수\n",
    "  * ['zero', 'one', 'two_or_more']\n",
    "* arrival_time : 도착 시간\n",
    "  * ['Evening', 'Early_Morning', 'Morning', 'Afternoon', 'Night', 'Late_Night']\n",
    "* destination_city : 도착 도시\n",
    "  * ['Delhi', 'Mumbai', 'Bangalore', 'Kolkata', 'Hyderabad', 'Chennai'](출발 도시와 같음)\n",
    "* class : 좌석 등급\n",
    "  * ['Economy', 'Business']\n",
    "* duration : 비행시간\n",
    "* days_left : 출발까지 남은 일자\n",
    "* price : 항공권 가격"
   ]
  },
  {
   "cell_type": "markdown",
   "metadata": {
    "id": "bZDJtBtlQNJq"
   },
   "source": [
    "### **1. 모델링을 위해 분석 및 처리할 데이터 파일을 읽어오려고 합니다.**\n",
    "### **Pandas함수로 데이터 파일을 읽어 데이터프레임 변수명 df에 할당하는 코드를 작성하세요.**\n",
    "* **\n",
    "- https://raw.githubusercontent.com/kim-juwan/data_folder/main/data/flight_price.csv 파일을 읽어 데이터 프레임 변수명 df에 할당하세요.\n",
    "---"
   ]
  },
  {
   "cell_type": "code",
   "execution_count": null,
   "metadata": {},
   "outputs": [],
   "source": [
    "import matplotlib.pyplot as plt\n",
    "import seaborn as sns\n",
    "import pandas as pd\n",
    "import numpy as np\n",
    "import warnings\n",
    "warnings.filterwarnings('ignore')"
   ]
  },
  {
   "cell_type": "code",
   "execution_count": null,
   "metadata": {
    "id": "58JDeIBykLZD"
   },
   "outputs": [],
   "source": [
    "df=pd.read_csv('https://raw.githubusercontent.com/kim-juwan/data_folder/main/data/flight_price.csv')\n",
    "df.head()"
   ]
  },
  {
   "cell_type": "code",
   "execution_count": null,
   "metadata": {},
   "outputs": [],
   "source": [
    "df.info()"
   ]
  },
  {
   "cell_type": "code",
   "execution_count": null,
   "metadata": {},
   "outputs": [],
   "source": []
  },
  {
   "cell_type": "markdown",
   "metadata": {
    "id": "JFOLXebHQi7u"
   },
   "source": [
    "### **2. 모델링 성능을 제대로 얻기 위해서 결측치 처리는 필수입니다.**\n",
    "### **아래 가이드를 따라 결측치 처리하세요.**\n",
    "* **\n",
    "- 대상 데이터프레임 : df\n",
    "- 결측치를 확인하는 코드를 작성하세요.\n",
    "---"
   ]
  },
  {
   "cell_type": "code",
   "execution_count": null,
   "metadata": {
    "id": "FVq_hp7L75WF"
   },
   "outputs": [],
   "source": [
    "# 여기에 코드를 작성하세요.\n",
    "df.isna().sum()"
   ]
  },
  {
   "cell_type": "markdown",
   "metadata": {
    "id": "tBwTMdpXQUt4"
   },
   "source": [
    "### **3. price에 대한 분포도를 알아 보려고 합니다.**\n",
    "### **price에 대해 histplot그래프로 만들고 아래 가이드에 따라 답하세요.**"
   ]
  },
  {
   "cell_type": "markdown",
   "metadata": {
    "id": "2tSVFTFBQZfB"
   },
   "source": [
    "* **\n",
    "- 대상 데이터프레임 : df\n",
    "- Seaborn을 활용하세요.\n",
    "- price에 대해서 분포를 보여주는 histplot 그래프 그리세요.\n",
    "- bins는 10의 값을 넣으세요.\n",
    "---"
   ]
  },
  {
   "cell_type": "code",
   "execution_count": null,
   "metadata": {
    "id": "dC3qr8IAvnee"
   },
   "outputs": [],
   "source": [
    "# 여기에 코드를 작성하세요.\n",
    "sns.histplot(data=df, x='price', bins=10)"
   ]
  },
  {
   "cell_type": "markdown",
   "metadata": {
    "id": "t_vJ8E_jQXBE"
   },
   "source": [
    "### **4. 좌석 등급에 따른 항공권 가격 평균을 확인하려고 합니다.**\n",
    "### **class(좌석 등급)과 price(항공권 가격)을 barplot그래프로 만드세요.**"
   ]
  },
  {
   "cell_type": "markdown",
   "metadata": {
    "id": "BraWbaKfQdVI"
   },
   "source": [
    "* **\n",
    "- 대상 데이터프레임 : df\n",
    "- Seaborn을 활용하세요.\n",
    "- X축에는 class(좌석 등급)을 표시하고 Y축에는 price(항공권 가격)을 표시하세요.\n",
    "---"
   ]
  },
  {
   "cell_type": "code",
   "execution_count": null,
   "metadata": {
    "id": "MY-VA4-yw0Ty"
   },
   "outputs": [],
   "source": [
    "# 여기에 코드를 작성하세요.\n",
    "sns.barplot(data=df, x='class', y='price')"
   ]
  },
  {
   "cell_type": "markdown",
   "metadata": {},
   "source": [
    "### **5. 좌석 등급에 따른 항공권 가격의 차이를 확인하려고 합니다.**\n",
    "### **class(좌석 등급)과 price(항공권 가격)을 통계 검정을 통해 연관성을 확인하세요.**"
   ]
  },
  {
   "cell_type": "markdown",
   "metadata": {},
   "source": [
    "* **\n",
    "- 대상 데이터프레임 : df\n",
    "- scipy의 stats을 활용하세요.\n",
    "- 평균비교(T Test) 검정하세요.\n",
    "---"
   ]
  },
  {
   "cell_type": "code",
   "execution_count": null,
   "metadata": {},
   "outputs": [],
   "source": [
    "df['class'].value_counts()"
   ]
  },
  {
   "cell_type": "code",
   "execution_count": null,
   "metadata": {
    "scrolled": true
   },
   "outputs": [],
   "source": [
    "from scipy import stats\n",
    "\n",
    "V_1=df[df['class'] =='Economy']['price']\n",
    "V_2=df[df['class'] =='Business']['price']\n",
    "sns.histplot(V_1, kde=True)\n",
    "sns.histplot(V_2, kde=True)"
   ]
  },
  {
   "cell_type": "code",
   "execution_count": null,
   "metadata": {},
   "outputs": [],
   "source": [
    "# 정규성 검정\n",
    "print(stats.kstest(V_1, 'norm'))\n",
    "print(stats.kstest(V_2, 'norm'))\n",
    "\n",
    "stats.mannwhitneyu(V_1,V_2)"
   ]
  },
  {
   "cell_type": "code",
   "execution_count": null,
   "metadata": {},
   "outputs": [],
   "source": [
    "print(stats.ttest_1samp(V_1, df['price'].mean()))\n",
    "print(stats.ttest_1samp(V_2, df['price'].mean()))\n",
    "\n",
    "# p-value가 0.05보다 작으므로 변수 V_1, V_2는 모평균을 따르지 않는다."
   ]
  },
  {
   "cell_type": "markdown",
   "metadata": {
    "id": "SWQqoRU9HQFw"
   },
   "source": [
    "### **6. 비행 시간과 항공권 가격의 분포를 같이 확인하려고 합니다.**\n",
    "### **duration(비행 시간)과 Price(항공권 가격)을 jointplot그래프로 만드세요.**"
   ]
  },
  {
   "cell_type": "markdown",
   "metadata": {
    "id": "jeZlsHToHQFw"
   },
   "source": [
    "* **\n",
    "- 대상 데이터프레임 : df\n",
    "- Seaborn을 활용하세요.\n",
    "- X축에는 duration(비행 시간)을 표시하고 Y축에는 price(항공권 가격)을 표시하세요.\n",
    "---"
   ]
  },
  {
   "cell_type": "code",
   "execution_count": null,
   "metadata": {
    "id": "mOA8cFkLHQFw"
   },
   "outputs": [],
   "source": [
    "# 여기에 코드를 작성하세요\n",
    "sns.jointplot(data=df, x='duration', y='price')"
   ]
  },
  {
   "cell_type": "markdown",
   "metadata": {},
   "source": [
    "### **7. 비행 시간과 항공권 가격의 분포를 같이 확인하려고 합니다.**\n",
    "### **duration(비행 시간)과 Price(항공권 가격)을 통계 검정을 통해 연관성을 확인하세요.**"
   ]
  },
  {
   "cell_type": "markdown",
   "metadata": {},
   "source": [
    "* **\n",
    "- 대상 데이터프레임 : df\n",
    "- scipy의 stats을 활용하세요.\n",
    "- 상관분석 검정하세요.\n",
    "---"
   ]
  },
  {
   "cell_type": "code",
   "execution_count": null,
   "metadata": {},
   "outputs": [],
   "source": [
    "# 여기에 코드를 작성하세요.\n",
    "print(stats.pearsonr(df['duration'], df['price']))\n",
    "print(stats.spearmanr(df['duration'], df['price']))\n",
    "print(stats.kendalltau(df['duration'], df['price']))\n",
    "\n",
    "## 모든 검정에서 pvalue=0.0 이므로 비행시간과 항공권가격은 상관계가 있다. "
   ]
  },
  {
   "cell_type": "markdown",
   "metadata": {
    "id": "TRCQvgX0H4yO"
   },
   "source": [
    "### **8. 항공편의 종류에 대해 살펴보려고 합니다.**\n",
    "### **아래 가이드를 따라 항공편 종류의 개수를 확인하세요.**\n",
    "* **\n",
    "- 대상 데이터프레임 : df\n",
    "- 활용 함수 : unique()\n",
    "- flight(항공편명)의 컬럼 확인\n",
    "---"
   ]
  },
  {
   "cell_type": "code",
   "execution_count": null,
   "metadata": {
    "id": "d6Oq3wvIIR3N"
   },
   "outputs": [],
   "source": [
    "# 여기에 코드를 작성하세요.\n",
    "print(df['flight'].unique())\n",
    "print(df['flight'].value_counts())"
   ]
  },
  {
   "cell_type": "markdown",
   "metadata": {
    "id": "dAehnQwDQmR8"
   },
   "source": [
    "### **9. 모델링 성능을 제대로 얻기 위해서 불필요한 변수는 삭제해야 합니다.**\n",
    "### **아래 가이드를 따라 불필요 데이터를 삭제 처리하세요.**\n",
    "* **\n",
    "- 대상 데이터프레임 : df\n",
    "- 'flight' , 'arrival_time' 2개 컬럼을 삭제하세요.\n",
    "- 전처리 반영된 결과를 새로운 데이터프레임 변수명 df_del 에 저장하세요.\n",
    "---"
   ]
  },
  {
   "cell_type": "code",
   "execution_count": null,
   "metadata": {
    "id": "oXI6Bpfl96Fe"
   },
   "outputs": [],
   "source": [
    "# 여기에 코드를 작성하세요.\n",
    "df_del=df.drop(['flight' , 'arrival_time'], axis=1)\n",
    "df_del.columns"
   ]
  },
  {
   "cell_type": "code",
   "execution_count": null,
   "metadata": {},
   "outputs": [],
   "source": [
    "df.info()"
   ]
  },
  {
   "cell_type": "markdown",
   "metadata": {
    "id": "JwlRkm-YQpU8"
   },
   "source": [
    "### **10. 원-핫 인코딩(One-hot encoding)은 범주형 변수를 1과 0의 이진형 벡터로 변환하기 위하여 사용하는 방법입니다.**\n",
    "### **원-핫 인코딩으로 아래 조건에 해당하는 컬럼 데이터를 변환하세요.**\n",
    "* **\n",
    "- 대상 데이터프레임 : df_del\n",
    "- 원-핫 인코딩 대상 : object 타입의 전체 컬럼\n",
    "- 활용 함수: Pandas의 get_dummies\n",
    "- 해당 전처리가 반영된 결과를 데이터프레임 변수 df_preset에 저장해 주세요.\n",
    "---"
   ]
  },
  {
   "cell_type": "code",
   "execution_count": null,
   "metadata": {
    "id": "6BSWCs-LD4w-"
   },
   "outputs": [],
   "source": [
    "# 여기에 코드를 작성하세요.\n",
    "df_preset=pd.get_dummies(df_del)\n",
    "print(df_preset.shape)\n",
    "df_preset.info()"
   ]
  },
  {
   "cell_type": "code",
   "execution_count": null,
   "metadata": {},
   "outputs": [],
   "source": [
    "df_preset.head()"
   ]
  },
  {
   "cell_type": "markdown",
   "metadata": {
    "id": "AjK0U5VJz7Ww"
   },
   "source": [
    "### **11. 훈련과 검증 각각에 사용할 데이터셋을 분리하려고 합니다.**\n",
    "### **price(항공권 가격) 컬럼을 label값 y로, 나머지 컬럼을 feature값 X로 할당하세요.**\n",
    "### **X와 y를 훈련 데이터셋과 테스트 데이터셋으로 분리하세요.**\n",
    "* **\n",
    "- 대상 데이터프레임 : df_preset\n",
    "- 훈련 데이터셋 label : y_train, 훈련 데이터셋 Feature: X_train\n",
    "- 검증 데이터셋 label : y_test, 검증 데이터셋 Feature: X_test\n",
    "- 훈련 데이터셋과 검증데이터셋 비율은 75:25\n",
    "- random_state : 42\n",
    "---\n"
   ]
  },
  {
   "cell_type": "code",
   "execution_count": null,
   "metadata": {
    "id": "41OuLoXWzjgB"
   },
   "outputs": [],
   "source": [
    "from sklearn.model_selection import train_test_split\n",
    "X=df_preset.drop('price', axis=1)\n",
    "y=df_preset['price']\n",
    "X_train,X_test,y_train,y_test= train_test_split(X,y, test_size=0.25, random_state=42)\n",
    "print(X_train.shape, X_test.shape,y_train.shape, y_test.shape)"
   ]
  },
  {
   "cell_type": "markdown",
   "metadata": {},
   "source": [
    "###  **12. price(항공권 가격)를 예측하는 머신러닝 모델을 만들려고 합니다.**\n",
    "###  **LinearRegression 모델로 학습을 진행하세요.**\n",
    "\n",
    "* **\n",
    "- 모델을 lr_reg 변수에 저장해 주세요.\n",
    "- fit을 활용해 모델을 학습해 주세요. 학습 시 훈련데이터 셋을 활용해 주세요.\n",
    "---"
   ]
  },
  {
   "cell_type": "code",
   "execution_count": null,
   "metadata": {},
   "outputs": [],
   "source": [
    "from sklearn.linear_model import LinearRegression\n",
    "lr_reg=LinearRegression()\n",
    "lr_reg.fit(X_train,y_train)"
   ]
  },
  {
   "cell_type": "markdown",
   "metadata": {},
   "source": [
    "### **13. 위 모델의 성능을 평가하려고 합니다.**\n",
    "### **예측 결과의 MSE를 구하세요.**\n",
    "* **\n",
    "- 성능 평가는 검증 데이터셋을 활용하세요.\n",
    "- 12번 문제에서 만든 모델로 y값을 예측(predict)하여 y_pred에 저장하세요.\n",
    "- 검증 정답(y_test)과 예측값(y_pred)의 MSE를 구하고 lr_mse 변수에 저장하세요.\n",
    "---"
   ]
  },
  {
   "cell_type": "code",
   "execution_count": null,
   "metadata": {},
   "outputs": [],
   "source": [
    "from sklearn.metrics import mean_squared_error\n",
    "y_pred=lr_reg.predict(X_test)\n",
    "lr_mse=mean_squared_error(y_test,y_pred)\n",
    "lr_mse"
   ]
  },
  {
   "cell_type": "code",
   "execution_count": null,
   "metadata": {},
   "outputs": [],
   "source": [
    "lr_rmse=np.sqrt(lr_mse)\n",
    "lr_rmse"
   ]
  },
  {
   "cell_type": "code",
   "execution_count": null,
   "metadata": {},
   "outputs": [],
   "source": [
    "## 실제값과 에측값의 차이\n",
    "def get_top_error_data(y_test, pred, n_top=10):\n",
    "    result_df=pd.DataFrame(y_test.values, columns=['real_count'])\n",
    "    result_df['pred_count']=np.round(pred)\n",
    "    result_df['diff']=np.abs(result_df['real_count'] - result_df['pred_count'])\n",
    "    print(result_df.sort_values('diff', ascending=False)[:n_top])\n",
    "get_top_error_data(y_test, y_pred, n_top=10)"
   ]
  },
  {
   "cell_type": "markdown",
   "metadata": {
    "id": "x7tfAbz6Qu5N"
   },
   "source": [
    "###  **14. price(항공권 가격)를 예측하는 머신러닝 모델을 만들려고 합니다.**\n",
    "###  **GBM(Gradient Boosting Machine)로 학습을 진행하세요.**\n",
    "\n",
    "* **\n",
    "- 트리의 최대 깊이 : 3로 설정\n",
    "- 노드를 분할하기 위한 최소한의 샘플 데이터수(min_samples_split) : 5로 설정\n",
    "- 학습률(learning_rate) : 0.01로 설정\n",
    "- random_state : 0으로 설정\n",
    "- 모델을 gbm 변수에 저장해 주세요.\n",
    "- fit을 활용해 모델을 학습해 주세요. 학습 시 훈련데이터 셋을 활용해 주세요.\n",
    "---"
   ]
  },
  {
   "cell_type": "code",
   "execution_count": null,
   "metadata": {
    "id": "MxoHB8qLQ-id"
   },
   "outputs": [],
   "source": [
    "from sklearn.ensemble import GradientBoostingRegressor\n",
    "gbm=GradientBoostingRegressor(max_depth=3, min_samples_split=5, learning_rate=0.01, random_state=0)\n",
    "gbm.fit(X_train, y_train)"
   ]
  },
  {
   "cell_type": "markdown",
   "metadata": {
    "id": "0aVfjeh_Qwf2"
   },
   "source": [
    "### **15. 위 모델의 성능을 평가하려고 합니다.**\n",
    "### **예측 결과의 MSE를 구하세요.**\n",
    "* **\n",
    "- 성능 평가는 검증 데이터셋을 활용하세요.\n",
    "- 15번 문제에서 만든 모델로 y값을 예측(predict)하여 y_pred에 저장하세요.\n",
    "- 검증 정답(y_test)과 예측값(y_pred)의 MSE를 구하고 gbm_mse 변수에 저장하세요.\n",
    "---"
   ]
  },
  {
   "cell_type": "code",
   "execution_count": null,
   "metadata": {
    "id": "rWxr2RDX1UHJ"
   },
   "outputs": [],
   "source": [
    "y_pred=gbm.predict(X_test)\n",
    "gbm_mse=mean_squared_error(y_test,y_pred)\n",
    "gbm_mse"
   ]
  },
  {
   "cell_type": "code",
   "execution_count": null,
   "metadata": {},
   "outputs": [],
   "source": [
    "gbm_rmse=np.sqrt(gbm_mse)\n",
    "np.round(gbm_rmse,2)"
   ]
  },
  {
   "cell_type": "code",
   "execution_count": null,
   "metadata": {},
   "outputs": [],
   "source": [
    "## 실제값과 에측값의 차이\n",
    "def get_top_error_data(y_test, pred, n_top=10):\n",
    "    result_df=pd.DataFrame(y_test.values, columns=['real_count'])\n",
    "    result_df['pred_count']=np.round(pred)\n",
    "    result_df['diff']=np.abs(result_df['real_count'] - result_df['pred_count'])\n",
    "    print(result_df.sort_values('diff', ascending=False)[:n_top])\n",
    "get_top_error_data(y_test, y_pred, n_top=10)"
   ]
  },
  {
   "cell_type": "markdown",
   "metadata": {},
   "source": [
    "### **16. 위 모델의 성능을 향상하려고 합니다.**\n",
    "### **여러가지 방법 중 하나를 적용하여 코드를 작성해보세요.**\n",
    "* **\n",
    "- 불필요한 변수 제거(통계검정 혹은 그래프를 통해 근거작성)\n",
    "- 다항회귀\n",
    "- 규제\n",
    "- 그리드서치\n",
    "- 등등\n",
    "---"
   ]
  },
  {
   "cell_type": "markdown",
   "metadata": {},
   "source": [
    "#### 이상치 제거, 스케일링(min-max), 규제(Ridge) 및 5가지 모델 실습"
   ]
  },
  {
   "cell_type": "code",
   "execution_count": null,
   "metadata": {},
   "outputs": [],
   "source": [
    "df_del.info()"
   ]
  },
  {
   "cell_type": "code",
   "execution_count": null,
   "metadata": {},
   "outputs": [],
   "source": [
    "df_del.describe()"
   ]
  },
  {
   "cell_type": "code",
   "execution_count": null,
   "metadata": {},
   "outputs": [],
   "source": [
    "df_del.corr(numeric_only=True)"
   ]
  },
  {
   "cell_type": "code",
   "execution_count": null,
   "metadata": {},
   "outputs": [],
   "source": [
    "# price 이상치 제거 (약 150 row)\n",
    "IQR = df_del['price'].quantile(0.75) - df_del['price'].quantile(0.25)\n",
    "high_border = df_del['price'].quantile(0.75) + IQR * 1.5\n",
    "low_border = df_del['price'].quantile(0.25) - IQR * 1.5\n",
    "print(high_border, low_border)"
   ]
  },
  {
   "cell_type": "code",
   "execution_count": null,
   "metadata": {
    "scrolled": true
   },
   "outputs": [],
   "source": [
    "df_2=df_del[(df_del['price'] < high_border) & (df_del['price'] > low_border)]\n",
    "df_2.describe()"
   ]
  },
  {
   "cell_type": "code",
   "execution_count": null,
   "metadata": {},
   "outputs": [],
   "source": [
    "# 인코딩\n",
    "df_2_enc= pd.get_dummies(df_2)"
   ]
  },
  {
   "cell_type": "code",
   "execution_count": null,
   "metadata": {},
   "outputs": [],
   "source": [
    "df_2_enc"
   ]
  },
  {
   "cell_type": "code",
   "execution_count": null,
   "metadata": {},
   "outputs": [],
   "source": [
    "# 스케일링\n",
    "X=df_2_enc.drop('price', axis=1)\n",
    "y=df_2_enc['price']\n",
    "X_train,X_test,y_train,y_test= train_test_split(X,y, test_size=0.25, random_state=42)\n",
    "print(X_train.shape, X_test.shape,y_train.shape, y_test.shape)"
   ]
  },
  {
   "cell_type": "code",
   "execution_count": null,
   "metadata": {},
   "outputs": [],
   "source": [
    "from sklearn.preprocessing import MinMaxScaler\n",
    "scaler = MinMaxScaler()\n",
    "X_train=scaler.fit_transform(X_train)\n",
    "X_test=scaler.fit_transform(X_test)"
   ]
  },
  {
   "cell_type": "code",
   "execution_count": null,
   "metadata": {},
   "outputs": [],
   "source": [
    "def get_model_predict(model, X_train, X_test,  y_train, y_test):\n",
    "    model.fit(X_train,y_train)\n",
    "    pred=model.predict(X_test)\n",
    "    model_mse=mean_squared_error(y_test,pred)\n",
    "    print('RMSE값', np.sqrt(model_mse))"
   ]
  },
  {
   "cell_type": "code",
   "execution_count": null,
   "metadata": {
    "scrolled": true
   },
   "outputs": [],
   "source": [
    "from sklearn.linear_model import Ridge\n",
    "from sklearn.ensemble import GradientBoostingRegressor\n",
    "from xgboost import XGBRegressor\n",
    "from sklearn.linear_model import SGDRegressor\n",
    "from sklearn.ensemble import RandomForestRegressor\n",
    "\n",
    "#rf_reg=RandomForestRegressor(random_state=0, n_estimators=100)\n",
    "rf_reg=RandomForestRegressor()\n",
    "rdge=Ridge(alpha=10)\n",
    "xgb_reg = XGBRegressor(random_state=0, n_estimators=1000)\n",
    "models = [rf_reg, rdge, xgb_reg]\n",
    "for model in models: \n",
    "    get_model_predict(model, X_train, X_test,  y_train, y_test)"
   ]
  },
  {
   "cell_type": "code",
   "execution_count": null,
   "metadata": {},
   "outputs": [],
   "source": [
    "# 1번 LinearRegression 2번 Ridge 3번 XGB\n",
    "# 1번 선형회귀는 버림\n",
    "# 2번 Ridge는 전처리(스케일링, 이상치제거) 전 데이터로 찾은 적합한 alpha로 실습함 -- 오차 줄음\n",
    "# 3번 "
   ]
  },
  {
   "cell_type": "code",
   "execution_count": null,
   "metadata": {},
   "outputs": [],
   "source": [
    "# 적합한 Ridge의 alpha 값 찾기\n",
    "from sklearn.model_selection import cross_val_score\n",
    "alphas=[0,0.1,1,10,100]\n",
    "for alpha in alphas:\n",
    "    ridge=Ridge(alpha=alpha)\n",
    "    neg_mse_scores=cross_val_score(ridge, X, y, scoring='neg_mean_squared_error',cv=5)\n",
    "    avg_rmse= np.mean(np.sqrt(-1*neg_mse_scores))\n",
    "    print(f'alpha {alpha} 일 때 5fold의 평균 RMSE: {avg_rmse:.3f}')"
   ]
  },
  {
   "cell_type": "code",
   "execution_count": null,
   "metadata": {},
   "outputs": [],
   "source": [
    "# 한가지 더 해봄 - RandomForest\n",
    "\n",
    "rf_reg=RandomForestRegressor(random_state=0, n_estimators=100)\n",
    "neg_mse_scores=cross_val_score(rf_reg,X,y, scoring='neg_mean_squared_error',cv=5)\n",
    "rmse_scores=np.sqrt(-1 * neg_mse_scores)\n",
    "avg_rmse= np.mean(rmse_scores)\n",
    "\n",
    "print('5fold NMSE scores: ', np.round(neg_mse_scores, 2))\n",
    "print('5fold  RMSE scores: ', np.round(rmse_scores, 2))\n",
    "print(f'5fold 평균 RMSE: {avg_rmse:3f}')"
   ]
  },
  {
   "cell_type": "code",
   "execution_count": 51,
   "metadata": {},
   "outputs": [
    {
     "name": "stdout",
     "output_type": "stream",
     "text": [
      "(225022, 31) (75008, 31) (225022,) (75008,)\n"
     ]
    }
   ],
   "source": [
    "###############\n",
    "X=df_2_enc.drop('price', axis=1)\n",
    "y=df_2_enc['price']\n",
    "X_train,X_test,y_train,y_test= train_test_split(X,y, test_size=0.25, random_state=42)\n",
    "print(X_train.shape, X_test.shape,y_train.shape, y_test.shape)"
   ]
  },
  {
   "cell_type": "code",
   "execution_count": 52,
   "metadata": {},
   "outputs": [],
   "source": [
    "from sklearn.pipeline import Pipeline\n",
    "from sklearn.preprocessing import StandardScaler\n",
    "from sklearn.linear_model import ElasticNet\n",
    "from sklearn.model_selection import GridSearchCV\n",
    "from sklearn.preprocessing import PolynomialFeatures\n",
    "\n",
    "poly = PolynomialFeatures(degree=2, include_bias=False)\n",
    "std=StandardScaler()\n",
    "pip=Pipeline([[('std', StandardScaler),('poly', P),\n",
    "              ('model', XGBRegressor)]])\n",
    "\n",
    "params={'model__estimator':  [100,500, 1000],\n",
    "        'elast__alpha' : [10, 5, 1, 0.1, 0.01]}\n",
    "grid = GridSearchCV(pip, param_grid=params, scoring='neg_root_mean_squared_error', cv=3, verbose=True)"
   ]
  },
  {
   "cell_type": "code",
   "execution_count": null,
   "metadata": {},
   "outputs": [],
   "source": [
    "grid.fit(X_train, y_train)"
   ]
  },
  {
   "cell_type": "code",
   "execution_count": null,
   "metadata": {},
   "outputs": [],
   "source": [
    "model = grid.best_estimator_\n",
    "print(grid.best_params_)"
   ]
  },
  {
   "cell_type": "markdown",
   "metadata": {
    "id": "gt_a4KXEQ5rq"
   },
   "source": [
    "### **1번부터 16번까지 모든 문제를 풀었습니다. 수고하셨습니다.**"
   ]
  },
  {
   "cell_type": "code",
   "execution_count": null,
   "metadata": {},
   "outputs": [],
   "source": [
    "poly = PolynomialFeatures(degree=2, include_bias=False)\n",
    "\n",
    "pipe = Pipeline([('poly', poly), \n",
    "                 ('linear', LinearRegression())])\n",
    "\n",
    "params = [{'poly__degree' : [2, 3, 4], \n",
    "          'linear' : [Ridge(), \n",
    "                      Lasso()],\n",
    "          'linear__alpha' : [1, 0.1, 0.01, 10, 100]},\n",
    "          \n",
    "          {'poly__degree' : [2, 3, 4], \n",
    "          'linear' : [LinearRegression()]},\n",
    "          \n",
    "          {'poly__degree' : [1], \n",
    "          'linear' : [RandomForestRegressor()],\n",
    "           'linear__max_depth' : [None, 3, 5, 7],\n",
    "           'linear__min_samples_leaf' : [1, 3, 5]}\n",
    "]\n",
    "grid = GridSearchCV(pipe, param_grid=params, \n",
    "                    scoring='neg_root_mean_squared_error', cv = 5, verbose=True)\n",
    "\n",
    "grid.fit(X_train, y_train)"
   ]
  }
 ],
 "metadata": {
  "colab": {
   "authorship_tag": "ABX9TyMAE6sZlkSw1eaSPUrKYlwp",
   "provenance": [
    {
     "file_id": "1Z3ItOMRQlrwLrwNc7JsZJnCmBDGpsira",
     "timestamp": 1693529757382
    }
   ]
  },
  "kernelspec": {
   "display_name": "Python 3 (ipykernel)",
   "language": "python",
   "name": "python3"
  },
  "language_info": {
   "codemirror_mode": {
    "name": "ipython",
    "version": 3
   },
   "file_extension": ".py",
   "mimetype": "text/x-python",
   "name": "python",
   "nbconvert_exporter": "python",
   "pygments_lexer": "ipython3",
   "version": "3.11.5"
  }
 },
 "nbformat": 4,
 "nbformat_minor": 4
}
