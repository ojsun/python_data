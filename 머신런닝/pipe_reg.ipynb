{
 "cells": [
  {
   "cell_type": "markdown",
   "id": "067114f1-f439-476c-9be6-6f4e47b2b131",
   "metadata": {},
   "source": [
    "#### Pipeline/ColumnTransformer  -회귀"
   ]
  },
  {
   "cell_type": "code",
   "execution_count": 14,
   "id": "07127c3e-a3e4-41de-a251-51e66010e39e",
   "metadata": {
    "tags": []
   },
   "outputs": [],
   "source": [
    "from sklearn.model_selection import train_test_split\n",
    "from sklearn.model_selection import GridSearchCV\n",
    "from sklearn.preprocessing import StandardScaler, OneHotEncoder, PolynomialFeatures\n",
    "from sklearn.ensemble import RandomForestRegressor\n",
    "from sklearn.linear_model import LinearRegression,Ridge, Lasso \n",
    "from sklearn.compose import ColumnTransformer\n",
    "from sklearn.pipeline import Pipeline\n",
    "\n",
    "import pandas as pd\n",
    "import numpy as np\n",
    "import warnings\n",
    "warnings.filterwarnings('ignore')"
   ]
  },
  {
   "cell_type": "code",
   "execution_count": 8,
   "id": "2b07e2a0-c3e5-45bb-9711-f2c1d6157a4c",
   "metadata": {
    "tags": []
   },
   "outputs": [
    {
     "name": "stdout",
     "output_type": "stream",
     "text": [
      "Fitting 5 folds for each of 45 candidates, totalling 225 fits\n"
     ]
    },
    {
     "data": {
      "text/html": [
       "<style>#sk-container-id-1 {color: black;}#sk-container-id-1 pre{padding: 0;}#sk-container-id-1 div.sk-toggleable {background-color: white;}#sk-container-id-1 label.sk-toggleable__label {cursor: pointer;display: block;width: 100%;margin-bottom: 0;padding: 0.3em;box-sizing: border-box;text-align: center;}#sk-container-id-1 label.sk-toggleable__label-arrow:before {content: \"▸\";float: left;margin-right: 0.25em;color: #696969;}#sk-container-id-1 label.sk-toggleable__label-arrow:hover:before {color: black;}#sk-container-id-1 div.sk-estimator:hover label.sk-toggleable__label-arrow:before {color: black;}#sk-container-id-1 div.sk-toggleable__content {max-height: 0;max-width: 0;overflow: hidden;text-align: left;background-color: #f0f8ff;}#sk-container-id-1 div.sk-toggleable__content pre {margin: 0.2em;color: black;border-radius: 0.25em;background-color: #f0f8ff;}#sk-container-id-1 input.sk-toggleable__control:checked~div.sk-toggleable__content {max-height: 200px;max-width: 100%;overflow: auto;}#sk-container-id-1 input.sk-toggleable__control:checked~label.sk-toggleable__label-arrow:before {content: \"▾\";}#sk-container-id-1 div.sk-estimator input.sk-toggleable__control:checked~label.sk-toggleable__label {background-color: #d4ebff;}#sk-container-id-1 div.sk-label input.sk-toggleable__control:checked~label.sk-toggleable__label {background-color: #d4ebff;}#sk-container-id-1 input.sk-hidden--visually {border: 0;clip: rect(1px 1px 1px 1px);clip: rect(1px, 1px, 1px, 1px);height: 1px;margin: -1px;overflow: hidden;padding: 0;position: absolute;width: 1px;}#sk-container-id-1 div.sk-estimator {font-family: monospace;background-color: #f0f8ff;border: 1px dotted black;border-radius: 0.25em;box-sizing: border-box;margin-bottom: 0.5em;}#sk-container-id-1 div.sk-estimator:hover {background-color: #d4ebff;}#sk-container-id-1 div.sk-parallel-item::after {content: \"\";width: 100%;border-bottom: 1px solid gray;flex-grow: 1;}#sk-container-id-1 div.sk-label:hover label.sk-toggleable__label {background-color: #d4ebff;}#sk-container-id-1 div.sk-serial::before {content: \"\";position: absolute;border-left: 1px solid gray;box-sizing: border-box;top: 0;bottom: 0;left: 50%;z-index: 0;}#sk-container-id-1 div.sk-serial {display: flex;flex-direction: column;align-items: center;background-color: white;padding-right: 0.2em;padding-left: 0.2em;position: relative;}#sk-container-id-1 div.sk-item {position: relative;z-index: 1;}#sk-container-id-1 div.sk-parallel {display: flex;align-items: stretch;justify-content: center;background-color: white;position: relative;}#sk-container-id-1 div.sk-item::before, #sk-container-id-1 div.sk-parallel-item::before {content: \"\";position: absolute;border-left: 1px solid gray;box-sizing: border-box;top: 0;bottom: 0;left: 50%;z-index: -1;}#sk-container-id-1 div.sk-parallel-item {display: flex;flex-direction: column;z-index: 1;position: relative;background-color: white;}#sk-container-id-1 div.sk-parallel-item:first-child::after {align-self: flex-end;width: 50%;}#sk-container-id-1 div.sk-parallel-item:last-child::after {align-self: flex-start;width: 50%;}#sk-container-id-1 div.sk-parallel-item:only-child::after {width: 0;}#sk-container-id-1 div.sk-dashed-wrapped {border: 1px dashed gray;margin: 0 0.4em 0.5em 0.4em;box-sizing: border-box;padding-bottom: 0.4em;background-color: white;}#sk-container-id-1 div.sk-label label {font-family: monospace;font-weight: bold;display: inline-block;line-height: 1.2em;}#sk-container-id-1 div.sk-label-container {text-align: center;}#sk-container-id-1 div.sk-container {/* jupyter's `normalize.less` sets `[hidden] { display: none; }` but bootstrap.min.css set `[hidden] { display: none !important; }` so we also need the `!important` here to be able to override the default hidden behavior on the sphinx rendered scikit-learn.org. See: https://github.com/scikit-learn/scikit-learn/issues/21755 */display: inline-block !important;position: relative;}#sk-container-id-1 div.sk-text-repr-fallback {display: none;}</style><div id=\"sk-container-id-1\" class=\"sk-top-container\"><div class=\"sk-text-repr-fallback\"><pre>GridSearchCV(cv=5,\n",
       "             estimator=Pipeline(steps=[(&#x27;ct&#x27;,\n",
       "                                        ColumnTransformer(transformers=[(&#x27;scaler&#x27;,\n",
       "                                                                         StandardScaler(),\n",
       "                                                                         Index([&#x27;CompPrice&#x27;, &#x27;Advertising&#x27;, &#x27;Population&#x27;, &#x27;Price&#x27;, &#x27;Age&#x27;], dtype=&#x27;object&#x27;)),\n",
       "                                                                        (&#x27;oh_enc&#x27;,\n",
       "                                                                         OneHotEncoder(),\n",
       "                                                                         Index([&#x27;ShelveLoc&#x27;, &#x27;US&#x27;], dtype=&#x27;object&#x27;))])),\n",
       "                                       (&#x27;poly&#x27;,\n",
       "                                        PolynomialFeatures(include_bias=False)),\n",
       "                                       (&#x27;linear&#x27;, LinearRegression())]),\n",
       "             param_grid=[{&#x27;linear&#x27;: [Ridge(), Lasso(alpha=0.01)],\n",
       "                          &#x27;linear__alpha&#x27;: [1, 0.1, 0.01, 10, 100],\n",
       "                          &#x27;poly__degree&#x27;: [2, 3, 4]},\n",
       "                         {&#x27;linear&#x27;: [LinearRegression()],\n",
       "                          &#x27;poly__degree&#x27;: [2, 3, 4]},\n",
       "                         {&#x27;linear&#x27;: [RandomForestRegressor()],\n",
       "                          &#x27;linear__max_depth&#x27;: [None, 3, 5, 7],\n",
       "                          &#x27;linear__min_samples_leaf&#x27;: [1, 3, 5],\n",
       "                          &#x27;poly__degree&#x27;: [1]}],\n",
       "             scoring=&#x27;neg_root_mean_squared_error&#x27;, verbose=True)</pre><b>In a Jupyter environment, please rerun this cell to show the HTML representation or trust the notebook. <br />On GitHub, the HTML representation is unable to render, please try loading this page with nbviewer.org.</b></div><div class=\"sk-container\" hidden><div class=\"sk-item sk-dashed-wrapped\"><div class=\"sk-label-container\"><div class=\"sk-label sk-toggleable\"><input class=\"sk-toggleable__control sk-hidden--visually\" id=\"sk-estimator-id-1\" type=\"checkbox\" ><label for=\"sk-estimator-id-1\" class=\"sk-toggleable__label sk-toggleable__label-arrow\">GridSearchCV</label><div class=\"sk-toggleable__content\"><pre>GridSearchCV(cv=5,\n",
       "             estimator=Pipeline(steps=[(&#x27;ct&#x27;,\n",
       "                                        ColumnTransformer(transformers=[(&#x27;scaler&#x27;,\n",
       "                                                                         StandardScaler(),\n",
       "                                                                         Index([&#x27;CompPrice&#x27;, &#x27;Advertising&#x27;, &#x27;Population&#x27;, &#x27;Price&#x27;, &#x27;Age&#x27;], dtype=&#x27;object&#x27;)),\n",
       "                                                                        (&#x27;oh_enc&#x27;,\n",
       "                                                                         OneHotEncoder(),\n",
       "                                                                         Index([&#x27;ShelveLoc&#x27;, &#x27;US&#x27;], dtype=&#x27;object&#x27;))])),\n",
       "                                       (&#x27;poly&#x27;,\n",
       "                                        PolynomialFeatures(include_bias=False)),\n",
       "                                       (&#x27;linear&#x27;, LinearRegression())]),\n",
       "             param_grid=[{&#x27;linear&#x27;: [Ridge(), Lasso(alpha=0.01)],\n",
       "                          &#x27;linear__alpha&#x27;: [1, 0.1, 0.01, 10, 100],\n",
       "                          &#x27;poly__degree&#x27;: [2, 3, 4]},\n",
       "                         {&#x27;linear&#x27;: [LinearRegression()],\n",
       "                          &#x27;poly__degree&#x27;: [2, 3, 4]},\n",
       "                         {&#x27;linear&#x27;: [RandomForestRegressor()],\n",
       "                          &#x27;linear__max_depth&#x27;: [None, 3, 5, 7],\n",
       "                          &#x27;linear__min_samples_leaf&#x27;: [1, 3, 5],\n",
       "                          &#x27;poly__degree&#x27;: [1]}],\n",
       "             scoring=&#x27;neg_root_mean_squared_error&#x27;, verbose=True)</pre></div></div></div><div class=\"sk-parallel\"><div class=\"sk-parallel-item\"><div class=\"sk-item\"><div class=\"sk-label-container\"><div class=\"sk-label sk-toggleable\"><input class=\"sk-toggleable__control sk-hidden--visually\" id=\"sk-estimator-id-2\" type=\"checkbox\" ><label for=\"sk-estimator-id-2\" class=\"sk-toggleable__label sk-toggleable__label-arrow\">estimator: Pipeline</label><div class=\"sk-toggleable__content\"><pre>Pipeline(steps=[(&#x27;ct&#x27;,\n",
       "                 ColumnTransformer(transformers=[(&#x27;scaler&#x27;, StandardScaler(),\n",
       "                                                  Index([&#x27;CompPrice&#x27;, &#x27;Advertising&#x27;, &#x27;Population&#x27;, &#x27;Price&#x27;, &#x27;Age&#x27;], dtype=&#x27;object&#x27;)),\n",
       "                                                 (&#x27;oh_enc&#x27;, OneHotEncoder(),\n",
       "                                                  Index([&#x27;ShelveLoc&#x27;, &#x27;US&#x27;], dtype=&#x27;object&#x27;))])),\n",
       "                (&#x27;poly&#x27;, PolynomialFeatures(include_bias=False)),\n",
       "                (&#x27;linear&#x27;, LinearRegression())])</pre></div></div></div><div class=\"sk-serial\"><div class=\"sk-item\"><div class=\"sk-serial\"><div class=\"sk-item sk-dashed-wrapped\"><div class=\"sk-label-container\"><div class=\"sk-label sk-toggleable\"><input class=\"sk-toggleable__control sk-hidden--visually\" id=\"sk-estimator-id-3\" type=\"checkbox\" ><label for=\"sk-estimator-id-3\" class=\"sk-toggleable__label sk-toggleable__label-arrow\">ct: ColumnTransformer</label><div class=\"sk-toggleable__content\"><pre>ColumnTransformer(transformers=[(&#x27;scaler&#x27;, StandardScaler(),\n",
       "                                 Index([&#x27;CompPrice&#x27;, &#x27;Advertising&#x27;, &#x27;Population&#x27;, &#x27;Price&#x27;, &#x27;Age&#x27;], dtype=&#x27;object&#x27;)),\n",
       "                                (&#x27;oh_enc&#x27;, OneHotEncoder(),\n",
       "                                 Index([&#x27;ShelveLoc&#x27;, &#x27;US&#x27;], dtype=&#x27;object&#x27;))])</pre></div></div></div><div class=\"sk-parallel\"><div class=\"sk-parallel-item\"><div class=\"sk-item\"><div class=\"sk-label-container\"><div class=\"sk-label sk-toggleable\"><input class=\"sk-toggleable__control sk-hidden--visually\" id=\"sk-estimator-id-4\" type=\"checkbox\" ><label for=\"sk-estimator-id-4\" class=\"sk-toggleable__label sk-toggleable__label-arrow\">scaler</label><div class=\"sk-toggleable__content\"><pre>Index([&#x27;CompPrice&#x27;, &#x27;Advertising&#x27;, &#x27;Population&#x27;, &#x27;Price&#x27;, &#x27;Age&#x27;], dtype=&#x27;object&#x27;)</pre></div></div></div><div class=\"sk-serial\"><div class=\"sk-item\"><div class=\"sk-estimator sk-toggleable\"><input class=\"sk-toggleable__control sk-hidden--visually\" id=\"sk-estimator-id-5\" type=\"checkbox\" ><label for=\"sk-estimator-id-5\" class=\"sk-toggleable__label sk-toggleable__label-arrow\">StandardScaler</label><div class=\"sk-toggleable__content\"><pre>StandardScaler()</pre></div></div></div></div></div></div><div class=\"sk-parallel-item\"><div class=\"sk-item\"><div class=\"sk-label-container\"><div class=\"sk-label sk-toggleable\"><input class=\"sk-toggleable__control sk-hidden--visually\" id=\"sk-estimator-id-6\" type=\"checkbox\" ><label for=\"sk-estimator-id-6\" class=\"sk-toggleable__label sk-toggleable__label-arrow\">oh_enc</label><div class=\"sk-toggleable__content\"><pre>Index([&#x27;ShelveLoc&#x27;, &#x27;US&#x27;], dtype=&#x27;object&#x27;)</pre></div></div></div><div class=\"sk-serial\"><div class=\"sk-item\"><div class=\"sk-estimator sk-toggleable\"><input class=\"sk-toggleable__control sk-hidden--visually\" id=\"sk-estimator-id-7\" type=\"checkbox\" ><label for=\"sk-estimator-id-7\" class=\"sk-toggleable__label sk-toggleable__label-arrow\">OneHotEncoder</label><div class=\"sk-toggleable__content\"><pre>OneHotEncoder()</pre></div></div></div></div></div></div></div></div><div class=\"sk-item\"><div class=\"sk-estimator sk-toggleable\"><input class=\"sk-toggleable__control sk-hidden--visually\" id=\"sk-estimator-id-8\" type=\"checkbox\" ><label for=\"sk-estimator-id-8\" class=\"sk-toggleable__label sk-toggleable__label-arrow\">PolynomialFeatures</label><div class=\"sk-toggleable__content\"><pre>PolynomialFeatures(include_bias=False)</pre></div></div></div><div class=\"sk-item\"><div class=\"sk-estimator sk-toggleable\"><input class=\"sk-toggleable__control sk-hidden--visually\" id=\"sk-estimator-id-9\" type=\"checkbox\" ><label for=\"sk-estimator-id-9\" class=\"sk-toggleable__label sk-toggleable__label-arrow\">LinearRegression</label><div class=\"sk-toggleable__content\"><pre>LinearRegression()</pre></div></div></div></div></div></div></div></div></div></div></div></div>"
      ],
      "text/plain": [
       "GridSearchCV(cv=5,\n",
       "             estimator=Pipeline(steps=[('ct',\n",
       "                                        ColumnTransformer(transformers=[('scaler',\n",
       "                                                                         StandardScaler(),\n",
       "                                                                         Index(['CompPrice', 'Advertising', 'Population', 'Price', 'Age'], dtype='object')),\n",
       "                                                                        ('oh_enc',\n",
       "                                                                         OneHotEncoder(),\n",
       "                                                                         Index(['ShelveLoc', 'US'], dtype='object'))])),\n",
       "                                       ('poly',\n",
       "                                        PolynomialFeatures(include_bias=False)),\n",
       "                                       ('linear', LinearRegression())]),\n",
       "             param_grid=[{'linear': [Ridge(), Lasso(alpha=0.01)],\n",
       "                          'linear__alpha': [1, 0.1, 0.01, 10, 100],\n",
       "                          'poly__degree': [2, 3, 4]},\n",
       "                         {'linear': [LinearRegression()],\n",
       "                          'poly__degree': [2, 3, 4]},\n",
       "                         {'linear': [RandomForestRegressor()],\n",
       "                          'linear__max_depth': [None, 3, 5, 7],\n",
       "                          'linear__min_samples_leaf': [1, 3, 5],\n",
       "                          'poly__degree': [1]}],\n",
       "             scoring='neg_root_mean_squared_error', verbose=True)"
      ]
     },
     "execution_count": 8,
     "metadata": {},
     "output_type": "execute_result"
    }
   ],
   "source": [
    "carseat = pd.read_csv('./data/carseat.csv')\n",
    "y = carseat['Sales']\n",
    "X = carseat.drop(['Sales'], axis = 1)\n",
    "\n",
    "X_train, X_test, y_train, y_test = train_test_split(X, y, test_size = 0.2, random_state=0)\n",
    "\n",
    "scaler = StandardScaler()\n",
    "oh_enc = OneHotEncoder()\n",
    "\n",
    "obj_col = X.dtypes[X.dtypes == 'object'].index\n",
    "num_col = X.dtypes[X.dtypes != 'object'].index\n",
    "\n",
    "ct = ColumnTransformer([('scaler', scaler, num_col),\n",
    "                        ('oh_enc', oh_enc, obj_col)])\n",
    "poly = PolynomialFeatures(degree=2, include_bias=False)\n",
    "\n",
    "pipe = Pipeline([('ct', ct), ('poly', poly), \n",
    "                 ('linear', LinearRegression())])\n",
    "\n",
    "params = [{'poly__degree' : [2, 3, 4], \n",
    "          'linear' : [Ridge(), \n",
    "                      Lasso()],\n",
    "          'linear__alpha' : [1, 0.1, 0.01, 10, 100]},\n",
    "          \n",
    "          {'poly__degree' : [2, 3, 4], \n",
    "          'linear' : [LinearRegression()]},\n",
    "          \n",
    "          {'poly__degree' : [1], \n",
    "          'linear' : [RandomForestRegressor()],\n",
    "           'linear__max_depth' : [None, 3, 5, 7],\n",
    "           'linear__min_samples_leaf' : [1, 3, 5]}\n",
    "]\n",
    "grid = GridSearchCV(pipe, param_grid=params, \n",
    "                    scoring='neg_root_mean_squared_error', cv = 5, verbose=True)\n",
    "\n",
    "grid.fit(X_train, y_train)"
   ]
  },
  {
   "cell_type": "code",
   "execution_count": null,
   "id": "173c3ae8-8b68-41e6-9db1-a69e26ad6b71",
   "metadata": {
    "tags": []
   },
   "outputs": [],
   "source": []
  },
  {
   "cell_type": "code",
   "execution_count": 12,
   "id": "5e35d324-efd8-46a8-a39b-ba9c997cdb69",
   "metadata": {
    "tags": []
   },
   "outputs": [
    {
     "data": {
      "text/plain": [
       "['model.h5']"
      ]
     },
     "execution_count": 12,
     "metadata": {},
     "output_type": "execute_result"
    }
   ],
   "source": [
    "# 모델 저장하여 불러와서 기능 완전히 사용하기(libjob)\n",
    "import joblib      # 바이너리 형태의 파일을 저장할 수 있게 해주는 라이브러리/ 피클과 비슷\n",
    "model=grid.best_estimator_\n",
    "joblib.dump(model, 'model.h5')"
   ]
  },
  {
   "cell_type": "code",
   "execution_count": null,
   "id": "598d515a-82c4-49f0-9180-24df1859f659",
   "metadata": {
    "tags": []
   },
   "outputs": [],
   "source": [
    "model2=joblib.load('model.h5') \n",
    "model2.predict()    # 안에 맞는 데이터 넣어서 예측해보기"
   ]
  },
  {
   "cell_type": "code",
   "execution_count": null,
   "id": "ba7a5d8f-94de-4455-9efb-f32531953566",
   "metadata": {},
   "outputs": [],
   "source": [
    "# 다른 파일에서도 불러내서 사용 가능: \n",
    "import joblib\n",
    "model=joblib.load('model.h5')\n",
    "model.predict()    \n",
    "\n",
    "# 다른 것도 저장 가능하나, 학습되지 않으면 기능없음/ 너무 모델을 저장하면 속도 등의 문제가 있을 수 있음(예)\n",
    "joblib.dump(rf_reg, 'model.h5') "
   ]
  },
  {
   "cell_type": "code",
   "execution_count": null,
   "id": "12761f94-03fd-42a4-b764-3d2bd3b6a5f5",
   "metadata": {},
   "outputs": [],
   "source": []
  },
  {
   "cell_type": "code",
   "execution_count": null,
   "id": "3bdbdb86-867d-4111-8c2d-d6a20a62955f",
   "metadata": {},
   "outputs": [],
   "source": []
  },
  {
   "cell_type": "code",
   "execution_count": null,
   "id": "0b9b7ad4-2a4f-4572-ad8e-06a33d9391b1",
   "metadata": {},
   "outputs": [],
   "source": []
  },
  {
   "cell_type": "code",
   "execution_count": null,
   "id": "bde83170-4756-4d4b-ba16-9f8a121a052c",
   "metadata": {},
   "outputs": [],
   "source": []
  },
  {
   "cell_type": "code",
   "execution_count": null,
   "id": "0faa5bda-3e80-425f-a571-57b5cf371761",
   "metadata": {},
   "outputs": [],
   "source": []
  },
  {
   "cell_type": "code",
   "execution_count": null,
   "id": "8f17a800-12d1-48b6-b3cf-81fe50f07680",
   "metadata": {},
   "outputs": [],
   "source": []
  },
  {
   "cell_type": "code",
   "execution_count": null,
   "id": "eb15a1eb-d4fd-4f2f-a6da-b8ede11b291e",
   "metadata": {},
   "outputs": [],
   "source": []
  }
 ],
 "metadata": {
  "kernelspec": {
   "display_name": "Python 3 (ipykernel)",
   "language": "python",
   "name": "python3"
  },
  "language_info": {
   "codemirror_mode": {
    "name": "ipython",
    "version": 3
   },
   "file_extension": ".py",
   "mimetype": "text/x-python",
   "name": "python",
   "nbconvert_exporter": "python",
   "pygments_lexer": "ipython3",
   "version": "3.11.5"
  }
 },
 "nbformat": 4,
 "nbformat_minor": 5
}
