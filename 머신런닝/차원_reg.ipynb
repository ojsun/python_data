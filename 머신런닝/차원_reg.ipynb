{
 "cells": [
  {
   "cell_type": "markdown",
   "id": "067114f1-f439-476c-9be6-6f4e47b2b131",
   "metadata": {},
   "source": [
    "#### Pipeline/ColumnTransformer  -회귀"
   ]
  },
  {
   "cell_type": "code",
   "execution_count": null,
   "id": "07127c3e-a3e4-41de-a251-51e66010e39e",
   "metadata": {
    "tags": []
   },
   "outputs": [],
   "source": [
    "from sklearn.model_selection import train_test_split\n",
    "from sklearn.model_selection import GridSearchCV\n",
    "from sklearn.preprocessing import StandardScaler, OneHotEncoder, PolynomialFeatures\n",
    "from sklearn.ensemble import RandomForestRegressor\n",
    "from sklearn.linear_model import LinearRegression,Ridge, Lasso \n",
    "from sklearn.compose import ColumnTransformer\n",
    "from sklearn.pipeline import Pipeline\n",
    "from sklearn.decomposition import PCA\n",
    "\n",
    "import pandas as pd\n",
    "import numpy as np\n",
    "import warnings\n",
    "warnings.filterwarnings('ignore')"
   ]
  },
  {
   "cell_type": "code",
   "execution_count": null,
   "id": "2b07e2a0-c3e5-45bb-9711-f2c1d6157a4c",
   "metadata": {
    "tags": []
   },
   "outputs": [],
   "source": [
    "df = pd.read_csv('./data/medical_cost.csv')\n",
    "y = df.iloc[:,-1]\n",
    "X = df.iloc[:,:-1]\n",
    "\n",
    "X_train, X_test, y_train, y_test = train_test_split(X, y, test_size = 0.2, random_state=0)\n",
    "\n",
    "scaler = StandardScaler()\n",
    "oh_enc = OneHotEncoder()\n",
    "\n",
    "obj_col = X.dtypes[X.dtypes == 'object'].index\n",
    "num_col = X.dtypes[X.dtypes != 'object'].index\n",
    "\n",
    "ct = ColumnTransformer([('scaler', scaler, num_col),\n",
    "                        ('oh_enc', oh_enc, obj_col)])\n",
    "\n",
    "# 차원 축소\n",
    "pca=PCA()\n",
    "\n",
    "poly = PolynomialFeatures(degree=2, include_bias=False)\n",
    "\n",
    "pipe = Pipeline([('ct', ct), ('pca', pca), ('poly', poly), \n",
    "                 ('linear', LinearRegression())])\n",
    "\n",
    "params = [{'poly__degree' : [2, 3, 4], \n",
    "            'pca_n_components': [5,7],\n",
    "          'linear' : [Ridge(), \n",
    "                      Lasso()],\n",
    "          'linear__alpha' : [1, 0.1, 0.01, 10, 100]},\n",
    "\n",
    "          {'poly__degree' : [2, 3, 4], \n",
    "           'pca_n_components': [5,7],\n",
    "          'linear' : [LinearRegression()]},\n",
    "          \n",
    "          {'poly__degree' : [1], \n",
    "           'pca_n_components': [5,7],\n",
    "          'linear' : [RandomForestRegressor()],\n",
    "            'linear__max_depth' : [None, 3, 5, 7],\n",
    "           'linear__min_samples_leaf' : [1, 3, 5]}\n",
    "]\n",
    "grid = GridSearchCV(pipe, param_grid=params, \n",
    "                    scoring='neg_root_mean_squared_error', cv = 5, verbose=True)\n",
    "\n",
    "grid.fit(X_train, y_train)"
   ]
  },
  {
   "cell_type": "code",
   "execution_count": null,
   "id": "173c3ae8-8b68-41e6-9db1-a69e26ad6b71",
   "metadata": {
    "tags": []
   },
   "outputs": [],
   "source": []
  },
  {
   "cell_type": "code",
   "execution_count": null,
   "id": "5e35d324-efd8-46a8-a39b-ba9c997cdb69",
   "metadata": {
    "tags": []
   },
   "outputs": [],
   "source": [
    "# 모델 저장하여 불러와서 기능 완전히 사용하기(libjob)\n",
    "import joblib      # 바이너리 형태의 파일을 저장할 수 있게 해주는 라이브러리/ 피클과 비슷\n",
    "model=grid.best_estimator_\n",
    "joblib.dump(model, 'model.h5')"
   ]
  },
  {
   "cell_type": "code",
   "execution_count": null,
   "id": "598d515a-82c4-49f0-9180-24df1859f659",
   "metadata": {
    "tags": []
   },
   "outputs": [],
   "source": [
    "model2=joblib.load('model.h5') \n",
    "model2.predict()    # 안에 맞는 데이터 넣어서 예측해보기"
   ]
  },
  {
   "cell_type": "code",
   "execution_count": null,
   "id": "ba7a5d8f-94de-4455-9efb-f32531953566",
   "metadata": {},
   "outputs": [],
   "source": [
    "# 다른 파일에서도 불러내서 사용 가능: \n",
    "import joblib\n",
    "model=joblib.load('model.h5')\n",
    "model.predict()    \n",
    "\n",
    "# 다른 것도 저장 가능하나, 학습되지 않으면 기능없음/ 너무 모델을 저장하면 속도 등의 문제가 있을 수 있음(예)\n",
    "joblib.dump(rf_reg, 'model.h5') "
   ]
  },
  {
   "cell_type": "code",
   "execution_count": null,
   "id": "12761f94-03fd-42a4-b764-3d2bd3b6a5f5",
   "metadata": {},
   "outputs": [],
   "source": []
  },
  {
   "cell_type": "code",
   "execution_count": null,
   "id": "3bdbdb86-867d-4111-8c2d-d6a20a62955f",
   "metadata": {},
   "outputs": [],
   "source": [
    "pca= "
   ]
  },
  {
   "cell_type": "code",
   "execution_count": null,
   "id": "0b9b7ad4-2a4f-4572-ad8e-06a33d9391b1",
   "metadata": {},
   "outputs": [],
   "source": []
  },
  {
   "cell_type": "code",
   "execution_count": null,
   "id": "bde83170-4756-4d4b-ba16-9f8a121a052c",
   "metadata": {},
   "outputs": [],
   "source": []
  },
  {
   "cell_type": "code",
   "execution_count": null,
   "id": "0faa5bda-3e80-425f-a571-57b5cf371761",
   "metadata": {},
   "outputs": [],
   "source": []
  },
  {
   "cell_type": "code",
   "execution_count": null,
   "id": "8f17a800-12d1-48b6-b3cf-81fe50f07680",
   "metadata": {},
   "outputs": [],
   "source": []
  },
  {
   "cell_type": "code",
   "execution_count": null,
   "id": "eb15a1eb-d4fd-4f2f-a6da-b8ede11b291e",
   "metadata": {},
   "outputs": [],
   "source": []
  }
 ],
 "metadata": {
  "kernelspec": {
   "display_name": "Python 3 (ipykernel)",
   "language": "python",
   "name": "python3"
  },
  "language_info": {
   "codemirror_mode": {
    "name": "ipython",
    "version": 3
   },
   "file_extension": ".py",
   "mimetype": "text/x-python",
   "name": "python",
   "nbconvert_exporter": "python",
   "pygments_lexer": "ipython3",
   "version": "3.11.5"
  }
 },
 "nbformat": 4,
 "nbformat_minor": 5
}
