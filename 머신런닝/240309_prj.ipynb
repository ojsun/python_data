{
 "cells": [
  {
   "cell_type": "code",
   "execution_count": null,
   "id": "a3b9b156-ed56-49c9-bce3-aa2fb2696f62",
   "metadata": {
    "tags": []
   },
   "outputs": [],
   "source": [
    "import matplotlib.pyplot as plt\n",
    "import seaborn as sns\n",
    "import pandas as pd\n",
    "import numpy as np\n",
    "import warnings\n",
    "warnings.filterwarnings('ignore')\n",
    "\n",
    "from sklearn.preprocessing import StandardScaler\n",
    "from sklearn.model_selection import train_test_split,cross_val_score\n",
    "from sklearn.metrics import accuracy_score, f1_score, roc_auc_score"
   ]
  },
  {
   "cell_type": "code",
   "execution_count": 243,
   "id": "3569c3da-c574-4c6a-a2d4-1114ce4294cc",
   "metadata": {
    "tags": []
   },
   "outputs": [],
   "source": [
    "#한글 폰트 적용하기/ 보통  맑은 고딕체 사용\n",
    "from matplotlib import font_manager, rc\n",
    "font = 'C:/Windows/Fonts/Malgun.ttf'\n",
    "font_name = font_manager.FontProperties(fname=font).get_name()\n",
    "rc('font', family=font_name)"
   ]
  },
  {
   "cell_type": "code",
   "execution_count": null,
   "id": "6e72bb5e-477e-42fd-b4c9-729b23dba437",
   "metadata": {},
   "outputs": [],
   "source": [
    "## 충북,충남,대전,세종 사망자 교통사고 (2012-2014)"
   ]
  },
  {
   "cell_type": "code",
   "execution_count": 199,
   "id": "95c640bd-eabb-422f-97b1-bc63fa85e694",
   "metadata": {
    "tags": []
   },
   "outputs": [],
   "source": [
    "df=pd.read_csv('오재선_주제제안_3/2012_2014_교통사망사고정보.csv',encoding='cp949')"
   ]
  },
  {
   "cell_type": "code",
   "execution_count": 165,
   "id": "dcf9d944-f174-4177-9aec-84a8664da831",
   "metadata": {},
   "outputs": [
    {
     "data": {
      "text/plain": [
       "발생지시도\n",
       "경기    2777\n",
       "경북    1511\n",
       "경남    1302\n",
       "전남    1274\n",
       "충남    1188\n",
       "서울    1173\n",
       "전북    1007\n",
       "충북     783\n",
       "강원     703\n",
       "부산     596\n",
       "대구     545\n",
       "인천     486\n",
       "울산     330\n",
       "광주     311\n",
       "대전     310\n",
       "제주     275\n",
       "세종      53\n",
       "Name: count, dtype: int64"
      ]
     },
     "execution_count": 165,
     "metadata": {},
     "output_type": "execute_result"
    }
   ],
   "source": [
    "df['발생지시도'].value_counts()"
   ]
  },
  {
   "cell_type": "code",
   "execution_count": 200,
   "id": "b13a9db3-9f02-4779-8efe-f6e2f888796a",
   "metadata": {},
   "outputs": [],
   "source": [
    "df=df[df['발생지시도'].isin(['세종','대전','충북','충남'])]"
   ]
  },
  {
   "cell_type": "code",
   "execution_count": 201,
   "id": "d6dd9061-3b29-4055-96a3-ef2b966ef60c",
   "metadata": {},
   "outputs": [],
   "source": [
    "df=df.drop(['당사자종별_1당_대분류', '당사자종별_1당', '당사자종별_2당_대분류',\n",
    "       '당사자종별_2당', '발생위치X_UTMK', '발생위치Y_UTMK', '경도', '위도','발생년','발생분','도로형태_대분류','사고유형_대분류','사고유형_중분류'], axis=1)"
   ]
  },
  {
   "cell_type": "code",
   "execution_count": 202,
   "id": "ae3a5cb8-3e66-430a-8d5a-425fad06aca0",
   "metadata": {},
   "outputs": [],
   "source": [
    "df['사상자수'] = df['사망자수'] + df['중상자수']+ df['사상자수'] + df['경상자수'] + df['부상신고자수']"
   ]
  },
  {
   "cell_type": "code",
   "execution_count": 203,
   "id": "a9d44b21-88e2-47db-a0f5-d2d6f21bbac6",
   "metadata": {
    "tags": []
   },
   "outputs": [
    {
     "data": {
      "text/html": [
       "<div>\n",
       "<style scoped>\n",
       "    .dataframe tbody tr th:only-of-type {\n",
       "        vertical-align: middle;\n",
       "    }\n",
       "\n",
       "    .dataframe tbody tr th {\n",
       "        vertical-align: top;\n",
       "    }\n",
       "\n",
       "    .dataframe thead th {\n",
       "        text-align: right;\n",
       "    }\n",
       "</style>\n",
       "<table border=\"1\" class=\"dataframe\">\n",
       "  <thead>\n",
       "    <tr style=\"text-align: right;\">\n",
       "      <th></th>\n",
       "      <th>발생년월일시</th>\n",
       "      <th>주야</th>\n",
       "      <th>요일</th>\n",
       "      <th>사상자수</th>\n",
       "      <th>발생지시도</th>\n",
       "      <th>발생지시군구</th>\n",
       "      <th>사고유형</th>\n",
       "      <th>법규위반_대분류</th>\n",
       "      <th>법규위반</th>\n",
       "      <th>도로형태</th>\n",
       "    </tr>\n",
       "  </thead>\n",
       "  <tbody>\n",
       "    <tr>\n",
       "      <th>7</th>\n",
       "      <td>2012-09-17 14:00</td>\n",
       "      <td>주간</td>\n",
       "      <td>월</td>\n",
       "      <td>2</td>\n",
       "      <td>충남</td>\n",
       "      <td>논산시</td>\n",
       "      <td>공작물충돌</td>\n",
       "      <td>운전자법규위반</td>\n",
       "      <td>안전운전 의무 불이행</td>\n",
       "      <td>기타단일로</td>\n",
       "    </tr>\n",
       "    <tr>\n",
       "      <th>21</th>\n",
       "      <td>2012-01-01 04:00</td>\n",
       "      <td>야간</td>\n",
       "      <td>일</td>\n",
       "      <td>4</td>\n",
       "      <td>충남</td>\n",
       "      <td>서산시</td>\n",
       "      <td>공작물충돌</td>\n",
       "      <td>운전자법규위반</td>\n",
       "      <td>안전운전 의무 불이행</td>\n",
       "      <td>기타단일로</td>\n",
       "    </tr>\n",
       "    <tr>\n",
       "      <th>26</th>\n",
       "      <td>2012-01-06 23:00</td>\n",
       "      <td>야간</td>\n",
       "      <td>금</td>\n",
       "      <td>2</td>\n",
       "      <td>대전</td>\n",
       "      <td>유성구</td>\n",
       "      <td>횡단중</td>\n",
       "      <td>운전자법규위반</td>\n",
       "      <td>안전운전 의무 불이행</td>\n",
       "      <td>기타단일로</td>\n",
       "    </tr>\n",
       "    <tr>\n",
       "      <th>27</th>\n",
       "      <td>2012-01-05 10:00</td>\n",
       "      <td>주간</td>\n",
       "      <td>목</td>\n",
       "      <td>2</td>\n",
       "      <td>충남</td>\n",
       "      <td>태안군</td>\n",
       "      <td>기타</td>\n",
       "      <td>운전자법규위반</td>\n",
       "      <td>안전운전 의무 불이행</td>\n",
       "      <td>기타/불명</td>\n",
       "    </tr>\n",
       "    <tr>\n",
       "      <th>39</th>\n",
       "      <td>2012-01-01 08:00</td>\n",
       "      <td>주간</td>\n",
       "      <td>일</td>\n",
       "      <td>2</td>\n",
       "      <td>충남</td>\n",
       "      <td>청양군</td>\n",
       "      <td>공작물충돌</td>\n",
       "      <td>운전자법규위반</td>\n",
       "      <td>안전운전 의무 불이행</td>\n",
       "      <td>기타단일로</td>\n",
       "    </tr>\n",
       "    <tr>\n",
       "      <th>...</th>\n",
       "      <td>...</td>\n",
       "      <td>...</td>\n",
       "      <td>...</td>\n",
       "      <td>...</td>\n",
       "      <td>...</td>\n",
       "      <td>...</td>\n",
       "      <td>...</td>\n",
       "      <td>...</td>\n",
       "      <td>...</td>\n",
       "      <td>...</td>\n",
       "    </tr>\n",
       "    <tr>\n",
       "      <th>14580</th>\n",
       "      <td>2014-06-20 12:00</td>\n",
       "      <td>주간</td>\n",
       "      <td>금</td>\n",
       "      <td>2</td>\n",
       "      <td>충남</td>\n",
       "      <td>천안시</td>\n",
       "      <td>전도전복</td>\n",
       "      <td>운전자법규위반</td>\n",
       "      <td>안전운전 의무 불이행</td>\n",
       "      <td>기타단일로</td>\n",
       "    </tr>\n",
       "    <tr>\n",
       "      <th>14581</th>\n",
       "      <td>2014-05-19 12:00</td>\n",
       "      <td>주간</td>\n",
       "      <td>월</td>\n",
       "      <td>2</td>\n",
       "      <td>충남</td>\n",
       "      <td>홍성군</td>\n",
       "      <td>주/정차차량 충돌</td>\n",
       "      <td>운전자법규위반</td>\n",
       "      <td>안전운전 의무 불이행</td>\n",
       "      <td>기타단일로</td>\n",
       "    </tr>\n",
       "    <tr>\n",
       "      <th>14598</th>\n",
       "      <td>2014-06-01 15:00</td>\n",
       "      <td>주간</td>\n",
       "      <td>일</td>\n",
       "      <td>4</td>\n",
       "      <td>대전</td>\n",
       "      <td>동구</td>\n",
       "      <td>도로이탈 추락</td>\n",
       "      <td>운전자법규위반</td>\n",
       "      <td>안전운전 의무 불이행</td>\n",
       "      <td>기타단일로</td>\n",
       "    </tr>\n",
       "    <tr>\n",
       "      <th>14608</th>\n",
       "      <td>2014-05-11 01:00</td>\n",
       "      <td>야간</td>\n",
       "      <td>일</td>\n",
       "      <td>4</td>\n",
       "      <td>충남</td>\n",
       "      <td>천안시</td>\n",
       "      <td>진행중 추돌</td>\n",
       "      <td>운전자법규위반</td>\n",
       "      <td>안전운전 의무 불이행</td>\n",
       "      <td>기타단일로</td>\n",
       "    </tr>\n",
       "    <tr>\n",
       "      <th>14612</th>\n",
       "      <td>2014-05-14 19:00</td>\n",
       "      <td>야간</td>\n",
       "      <td>수</td>\n",
       "      <td>4</td>\n",
       "      <td>충남</td>\n",
       "      <td>보령시</td>\n",
       "      <td>진행중 추돌</td>\n",
       "      <td>운전자법규위반</td>\n",
       "      <td>안전운전 의무 불이행</td>\n",
       "      <td>기타단일로</td>\n",
       "    </tr>\n",
       "  </tbody>\n",
       "</table>\n",
       "<p>2334 rows × 10 columns</p>\n",
       "</div>"
      ],
      "text/plain": [
       "                 발생년월일시  주야 요일  사상자수 발생지시도 발생지시군구       사고유형 법규위반_대분류  \\\n",
       "7      2012-09-17 14:00  주간  월     2    충남    논산시      공작물충돌  운전자법규위반   \n",
       "21     2012-01-01 04:00  야간  일     4    충남    서산시      공작물충돌  운전자법규위반   \n",
       "26     2012-01-06 23:00  야간  금     2    대전    유성구        횡단중  운전자법규위반   \n",
       "27     2012-01-05 10:00  주간  목     2    충남    태안군         기타  운전자법규위반   \n",
       "39     2012-01-01 08:00  주간  일     2    충남    청양군      공작물충돌  운전자법규위반   \n",
       "...                 ...  .. ..   ...   ...    ...        ...      ...   \n",
       "14580  2014-06-20 12:00  주간  금     2    충남    천안시       전도전복  운전자법규위반   \n",
       "14581  2014-05-19 12:00  주간  월     2    충남    홍성군  주/정차차량 충돌  운전자법규위반   \n",
       "14598  2014-06-01 15:00  주간  일     4    대전     동구    도로이탈 추락  운전자법규위반   \n",
       "14608  2014-05-11 01:00  야간  일     4    충남    천안시     진행중 추돌  운전자법규위반   \n",
       "14612  2014-05-14 19:00  야간  수     4    충남    보령시     진행중 추돌  운전자법규위반   \n",
       "\n",
       "              법규위반   도로형태  \n",
       "7      안전운전 의무 불이행  기타단일로  \n",
       "21     안전운전 의무 불이행  기타단일로  \n",
       "26     안전운전 의무 불이행  기타단일로  \n",
       "27     안전운전 의무 불이행  기타/불명  \n",
       "39     안전운전 의무 불이행  기타단일로  \n",
       "...            ...    ...  \n",
       "14580  안전운전 의무 불이행  기타단일로  \n",
       "14581  안전운전 의무 불이행  기타단일로  \n",
       "14598  안전운전 의무 불이행  기타단일로  \n",
       "14608  안전운전 의무 불이행  기타단일로  \n",
       "14612  안전운전 의무 불이행  기타단일로  \n",
       "\n",
       "[2334 rows x 10 columns]"
      ]
     },
     "execution_count": 203,
     "metadata": {},
     "output_type": "execute_result"
    }
   ],
   "source": [
    "df.drop(['사망자수','중상자수','경상자수','부상신고자수'], axis=1, inplace=True)\n",
    "df"
   ]
  },
  {
   "cell_type": "code",
   "execution_count": 204,
   "id": "822179d8-4994-422c-9dae-6ad16da2c2a4",
   "metadata": {
    "tags": []
   },
   "outputs": [
    {
     "data": {
      "text/plain": [
       "7       2012-09-17 14:00:00\n",
       "21      2012-01-01 04:00:00\n",
       "26      2012-01-06 23:00:00\n",
       "27      2012-01-05 10:00:00\n",
       "39      2012-01-01 08:00:00\n",
       "                ...        \n",
       "14580   2014-06-20 12:00:00\n",
       "14581   2014-05-19 12:00:00\n",
       "14598   2014-06-01 15:00:00\n",
       "14608   2014-05-11 01:00:00\n",
       "14612   2014-05-14 19:00:00\n",
       "Name: 발생년월일시, Length: 2334, dtype: datetime64[ns]"
      ]
     },
     "execution_count": 204,
     "metadata": {},
     "output_type": "execute_result"
    }
   ],
   "source": [
    "df['발생년월일시']=pd.to_datetime(df['발생년월일시'])\n",
    "df['발생년월일시']"
   ]
  },
  {
   "cell_type": "code",
   "execution_count": 171,
   "id": "3e2ee2b4-5381-4eb3-aab7-fe7a66450038",
   "metadata": {
    "tags": []
   },
   "outputs": [],
   "source": [
    "clm_12=pd.read_csv('오재선_주제제안_3/기후_충청권/2012_편집_OBS_ASOS_TIM_20240309201122.csv',encoding='cp949')\n",
    "clm_13=pd.read_csv('오재선_주제제안_3/기후_충청권/2013_편집_OBS_ASOS_TIM_20240310114858.csv',encoding='cp949')\n",
    "clm_14=pd.read_csv('오재선_주제제안_3/기후_충청권/2014_편집_OBS_ASOS_TIM_20240309200737.csv',encoding='cp949')"
   ]
  },
  {
   "cell_type": "code",
   "execution_count": 205,
   "id": "ddc8082f-0090-4400-9b35-7970035b8b0c",
   "metadata": {
    "tags": []
   },
   "outputs": [],
   "source": [
    "clm_all=pd.concat([clm_12, clm_13, clm_14],axis=0, ignore_index=True )"
   ]
  },
  {
   "cell_type": "code",
   "execution_count": 206,
   "id": "ce3e5598-a7ce-4c2b-bff5-38ccb53f28aa",
   "metadata": {
    "tags": []
   },
   "outputs": [],
   "source": [
    "clm_all['일시']=pd.to_datetime(clm_all['일시'])\n",
    "clm_all.columns = ['지점명', '일시', '기온','강수량','풍속','적설','시정','지면온도']"
   ]
  },
  {
   "cell_type": "code",
   "execution_count": 207,
   "id": "db223d71-5cda-42c6-bf53-600bc4bcb848",
   "metadata": {
    "tags": []
   },
   "outputs": [],
   "source": [
    "df['일시']=df['발생년월일시']\n",
    "df=df.drop(['발생년월일시'],axis=1)"
   ]
  },
  {
   "cell_type": "code",
   "execution_count": 208,
   "id": "d272a9d5-3708-43ce-9836-a3eec2879ab7",
   "metadata": {
    "tags": []
   },
   "outputs": [],
   "source": [
    "df['일시']=pd.to_datetime(df['일시'])"
   ]
  },
  {
   "cell_type": "code",
   "execution_count": null,
   "id": "18d63764-e18b-44d8-99b1-f5565796e024",
   "metadata": {
    "tags": []
   },
   "outputs": [],
   "source": [
    "print(df.shape, clm_all.shape)"
   ]
  },
  {
   "cell_type": "code",
   "execution_count": null,
   "id": "28af9887-3482-44cf-a415-48f44dd71e69",
   "metadata": {
    "tags": []
   },
   "outputs": [],
   "source": [
    "# merged_df = pd.concat([df, clm_all]).drop_duplicates().sort_values(by='일시')\n",
    "# merged_df.info()"
   ]
  },
  {
   "cell_type": "code",
   "execution_count": null,
   "id": "675009d4-f086-451f-b195-b0cabb4d1e88",
   "metadata": {
    "tags": []
   },
   "outputs": [],
   "source": []
  },
  {
   "cell_type": "code",
   "execution_count": 209,
   "id": "cbcad1dd-c856-4c8b-9dae-bca6ad47d19a",
   "metadata": {},
   "outputs": [
    {
     "data": {
      "text/plain": [
       "(24898, 17)"
      ]
     },
     "execution_count": 209,
     "metadata": {},
     "output_type": "execute_result"
    }
   ],
   "source": [
    "df_merge=pd.merge(df, clm_all, on='일시', how='left')\n",
    "df_merge.shape"
   ]
  },
  {
   "cell_type": "code",
   "execution_count": null,
   "id": "d67bc4ff-5a63-49ed-a145-360e03bbce32",
   "metadata": {
    "tags": []
   },
   "outputs": [],
   "source": [
    "# 충청권으로 할 경우 구분해서 지정해줘야함!!!!\n",
    "print(df['발생지시군구'].value_counts())\n",
    "print(clm_all['지점명'].value_counts())"
   ]
  },
  {
   "cell_type": "code",
   "execution_count": 210,
   "id": "ed41ff0a-8478-47dd-87c0-52cdd052f1e1",
   "metadata": {
    "tags": []
   },
   "outputs": [
    {
     "data": {
      "text/plain": [
       "22565"
      ]
     },
     "execution_count": 210,
     "metadata": {},
     "output_type": "execute_result"
    }
   ],
   "source": [
    "df_merge.duplicated(df).sum()"
   ]
  },
  {
   "cell_type": "code",
   "execution_count": 211,
   "id": "0444085d-7827-471d-a5d6-fe4603eeeffb",
   "metadata": {
    "tags": []
   },
   "outputs": [
    {
     "data": {
      "text/plain": [
       "(2333, 17)"
      ]
     },
     "execution_count": 211,
     "metadata": {},
     "output_type": "execute_result"
    }
   ],
   "source": [
    "df_merge=df_merge.drop_duplicates(df) \n",
    "df_merge.shape"
   ]
  },
  {
   "cell_type": "code",
   "execution_count": 155,
   "id": "591ebbaf-db7d-451d-9c85-27f1528810d2",
   "metadata": {
    "tags": []
   },
   "outputs": [
    {
     "data": {
      "text/plain": [
       "사고유형\n",
       "기타            589\n",
       "횡단중           425\n",
       "측면직각충돌        293\n",
       "공작물충돌         259\n",
       "진행중 추돌        167\n",
       "정면충돌          156\n",
       "전도전복          129\n",
       "주정차중 추돌        75\n",
       "차도통행중          65\n",
       "도로이탈 추락        59\n",
       "길가장자리구역통행중     51\n",
       "도로이탈 기타        35\n",
       "보도통행중          29\n",
       "주/정차차량 충돌       1\n",
       "Name: count, dtype: int64"
      ]
     },
     "execution_count": 155,
     "metadata": {},
     "output_type": "execute_result"
    }
   ],
   "source": [
    "df_merge['사고유형'].value_counts()"
   ]
  },
  {
   "cell_type": "code",
   "execution_count": 212,
   "id": "90f4c374-c14b-4e05-80a0-4b0c2c6c751f",
   "metadata": {
    "tags": []
   },
   "outputs": [
    {
     "data": {
      "text/plain": [
       "사고유형\n",
       "충돌      709\n",
       "기타      589\n",
       "보행      570\n",
       "추돌      242\n",
       "전도전복    129\n",
       "도로이탈     94\n",
       "Name: count, dtype: int64"
      ]
     },
     "execution_count": 212,
     "metadata": {},
     "output_type": "execute_result"
    }
   ],
   "source": [
    "df_merge['사고유형']=df_merge['사고유형'].replace(to_replace=['측면직각충돌','공작물충돌','정면충돌','주/정차차량 충돌'], value='충돌')\n",
    "df_merge['사고유형']=df_merge['사고유형'].replace(to_replace=['진행중 추돌','주정차중 추돌'], value='추돌')\n",
    "df_merge['사고유형']=df_merge['사고유형'].replace(to_replace=['횡단중','차도통행중','보도통행중','길가장자리구역통행중'], value='보행')\n",
    "df_merge['사고유형']=df_merge['사고유형'].replace(to_replace=['도로이탈 추락','도로이탈 기타'], value='도로이탈')\n",
    "\n",
    "df_merge['사고유형'].value_counts()"
   ]
  },
  {
   "cell_type": "code",
   "execution_count": 213,
   "id": "0e340de4-7d8a-4635-9d76-4d40ab3be3cf",
   "metadata": {
    "tags": []
   },
   "outputs": [
    {
     "data": {
      "text/plain": [
       "법규위반\n",
       "안전운전 의무 불이행        1658\n",
       "중앙선 침범              198\n",
       "신호위반                165\n",
       "보행자 보호의무 위반          82\n",
       "교차로 통행방법 위반          60\n",
       "과속                   55\n",
       "직진 및 우회전차의 통행방해      36\n",
       "안전거리 미확보             30\n",
       "기타(운전자법규위반)          18\n",
       "부당한 회전               11\n",
       "차로위반(진로변경 위반)         8\n",
       "앞지르기 금지위반             6\n",
       "서행 및 일시정지위반           4\n",
       "앞지르기 방법위반             2\n",
       "Name: count, dtype: int64"
      ]
     },
     "execution_count": 213,
     "metadata": {},
     "output_type": "execute_result"
    }
   ],
   "source": [
    "# 범주 구분해야?\n",
    "df_merge['법규위반'].value_counts()"
   ]
  },
  {
   "cell_type": "code",
   "execution_count": 214,
   "id": "791cbf2a-a0d5-43e7-9a4e-633af36dbd37",
   "metadata": {
    "tags": []
   },
   "outputs": [],
   "source": [
    "df_merge.drop('법규위반_대분류', axis=1, inplace=True)"
   ]
  },
  {
   "cell_type": "code",
   "execution_count": 215,
   "id": "080c62ff-68d0-40d5-abb8-dabc12ebf4c1",
   "metadata": {},
   "outputs": [
    {
     "data": {
      "text/plain": [
       "도로형태\n",
       "기타단일로     1408\n",
       "교차로내       460\n",
       "교차로부근      247\n",
       "기타/불명       79\n",
       "횡단보도상       62\n",
       "교량위         26\n",
       "횡단보도부근      25\n",
       "터널안         10\n",
       "고가도로위        9\n",
       "지하도로내        7\n",
       "Name: count, dtype: int64"
      ]
     },
     "execution_count": 215,
     "metadata": {},
     "output_type": "execute_result"
    }
   ],
   "source": [
    "df_merge['도로형태'].value_counts()"
   ]
  },
  {
   "cell_type": "code",
   "execution_count": 216,
   "id": "8c35cfbd-60c2-422c-add1-4fbe5ee86dbc",
   "metadata": {},
   "outputs": [],
   "source": [
    "df_merge['도로형태']=df_merge['도로형태'].replace(to_replace=['횡단보도상','횡단보도부근'], value='횡단보도')\n",
    "df_merge['도로형태']=df_merge['도로형태'].replace(to_replace=['교량위','터널안','고가도로위','지하도로내'], value='교량_터널_고가지하도로')"
   ]
  },
  {
   "cell_type": "code",
   "execution_count": 186,
   "id": "63419d38-95db-48f4-9bef-7583fbf47b95",
   "metadata": {
    "tags": []
   },
   "outputs": [
    {
     "data": {
      "text/plain": [
       "주야           0\n",
       "요일           0\n",
       "사상자수         0\n",
       "발생지시도        0\n",
       "발생지시군구       0\n",
       "사고유형         0\n",
       "법규위반         0\n",
       "도로형태         0\n",
       "일시           0\n",
       "지점명          0\n",
       "기온           0\n",
       "강수량       2153\n",
       "풍속           0\n",
       "적설        2309\n",
       "시정        2323\n",
       "지면온도         0\n",
       "dtype: int64"
      ]
     },
     "execution_count": 186,
     "metadata": {},
     "output_type": "execute_result"
    }
   ],
   "source": [
    "df_merge.isna().sum()"
   ]
  },
  {
   "cell_type": "code",
   "execution_count": 217,
   "id": "7d44de9c-6aef-4d8a-b661-6037400a7ada",
   "metadata": {
    "tags": []
   },
   "outputs": [],
   "source": [
    "df_fill=df_merge.fillna({'강수량': 0, '적설': 0})"
   ]
  },
  {
   "cell_type": "code",
   "execution_count": 218,
   "id": "ea987af7-7cd8-4470-83cf-966bf93937de",
   "metadata": {
    "tags": []
   },
   "outputs": [
    {
     "data": {
      "text/html": [
       "<div>\n",
       "<style scoped>\n",
       "    .dataframe tbody tr th:only-of-type {\n",
       "        vertical-align: middle;\n",
       "    }\n",
       "\n",
       "    .dataframe tbody tr th {\n",
       "        vertical-align: top;\n",
       "    }\n",
       "\n",
       "    .dataframe thead th {\n",
       "        text-align: right;\n",
       "    }\n",
       "</style>\n",
       "<table border=\"1\" class=\"dataframe\">\n",
       "  <thead>\n",
       "    <tr style=\"text-align: right;\">\n",
       "      <th></th>\n",
       "      <th>주야</th>\n",
       "      <th>요일</th>\n",
       "      <th>사상자수</th>\n",
       "      <th>발생지시도</th>\n",
       "      <th>발생지시군구</th>\n",
       "      <th>사고유형</th>\n",
       "      <th>법규위반</th>\n",
       "      <th>도로형태</th>\n",
       "      <th>일시</th>\n",
       "      <th>지점명</th>\n",
       "      <th>기온</th>\n",
       "      <th>강수량</th>\n",
       "      <th>풍속</th>\n",
       "      <th>적설</th>\n",
       "      <th>시정</th>\n",
       "      <th>지면온도</th>\n",
       "    </tr>\n",
       "  </thead>\n",
       "  <tbody>\n",
       "  </tbody>\n",
       "</table>\n",
       "</div>"
      ],
      "text/plain": [
       "Empty DataFrame\n",
       "Columns: [주야, 요일, 사상자수, 발생지시도, 발생지시군구, 사고유형, 법규위반, 도로형태, 일시, 지점명, 기온, 강수량, 풍속, 적설, 시정, 지면온도]\n",
       "Index: []"
      ]
     },
     "execution_count": 218,
     "metadata": {},
     "output_type": "execute_result"
    }
   ],
   "source": [
    "df_merge[df_merge['지점명'].isna()==True]"
   ]
  },
  {
   "cell_type": "code",
   "execution_count": 219,
   "id": "bbd561c0-c2c6-442b-84ad-a5fd8ee49e28",
   "metadata": {
    "tags": []
   },
   "outputs": [
    {
     "data": {
      "text/plain": [
       "주야           0\n",
       "요일           0\n",
       "사상자수         0\n",
       "발생지시도        0\n",
       "발생지시군구       0\n",
       "사고유형         0\n",
       "법규위반         0\n",
       "도로형태         0\n",
       "일시           0\n",
       "지점명          0\n",
       "기온           0\n",
       "강수량          0\n",
       "풍속           0\n",
       "적설           0\n",
       "시정        2323\n",
       "지면온도         0\n",
       "dtype: int64"
      ]
     },
     "execution_count": 219,
     "metadata": {},
     "output_type": "execute_result"
    }
   ],
   "source": [
    "df_fill.isna().sum()"
   ]
  },
  {
   "cell_type": "code",
   "execution_count": 220,
   "id": "5da12944-f303-4296-8088-383fbfaaf1e0",
   "metadata": {
    "tags": []
   },
   "outputs": [
    {
     "data": {
      "text/plain": [
       "시정\n",
       "600.0     3\n",
       "300.0     2\n",
       "700.0     1\n",
       "800.0     1\n",
       "120.0     1\n",
       "1500.0    1\n",
       "900.0     1\n",
       "Name: count, dtype: int64"
      ]
     },
     "execution_count": 220,
     "metadata": {},
     "output_type": "execute_result"
    }
   ],
   "source": [
    "df_fill['시정'].value_counts()"
   ]
  },
  {
   "cell_type": "code",
   "execution_count": 221,
   "id": "2d95cf2c-6f55-4e9b-8324-4cde4d0492cb",
   "metadata": {
    "tags": []
   },
   "outputs": [],
   "source": [
    "df_fill.drop('시정', axis=1, inplace=True)"
   ]
  },
  {
   "cell_type": "code",
   "execution_count": 222,
   "id": "d897c1fc-f7e4-4af3-90f8-15614288f300",
   "metadata": {
    "tags": []
   },
   "outputs": [
    {
     "data": {
      "text/plain": [
       "주야        0\n",
       "요일        0\n",
       "사상자수      0\n",
       "발생지시도     0\n",
       "발생지시군구    0\n",
       "사고유형      0\n",
       "법규위반      0\n",
       "도로형태      0\n",
       "일시        0\n",
       "지점명       0\n",
       "기온        0\n",
       "강수량       0\n",
       "풍속        0\n",
       "적설        0\n",
       "지면온도      0\n",
       "dtype: int64"
      ]
     },
     "execution_count": 222,
     "metadata": {},
     "output_type": "execute_result"
    }
   ],
   "source": [
    "df_fill.isna().sum()"
   ]
  },
  {
   "cell_type": "code",
   "execution_count": 223,
   "id": "97a01948-333e-4dca-9a72-c7b9ec1ec70c",
   "metadata": {
    "tags": []
   },
   "outputs": [
    {
     "name": "stdout",
     "output_type": "stream",
     "text": [
      "<class 'pandas.core.frame.DataFrame'>\n",
      "Index: 2333 entries, 0 to 24887\n",
      "Data columns (total 15 columns):\n",
      " #   Column  Non-Null Count  Dtype         \n",
      "---  ------  --------------  -----         \n",
      " 0   주야      2333 non-null   object        \n",
      " 1   요일      2333 non-null   object        \n",
      " 2   사상자수    2333 non-null   int64         \n",
      " 3   발생지시도   2333 non-null   object        \n",
      " 4   발생지시군구  2333 non-null   object        \n",
      " 5   사고유형    2333 non-null   object        \n",
      " 6   법규위반    2333 non-null   object        \n",
      " 7   도로형태    2333 non-null   object        \n",
      " 8   일시      2333 non-null   datetime64[ns]\n",
      " 9   지점명     2333 non-null   object        \n",
      " 10  기온      2333 non-null   float64       \n",
      " 11  강수량     2333 non-null   float64       \n",
      " 12  풍속      2333 non-null   float64       \n",
      " 13  적설      2333 non-null   float64       \n",
      " 14  지면온도    2333 non-null   float64       \n",
      "dtypes: datetime64[ns](1), float64(5), int64(1), object(8)\n",
      "memory usage: 291.6+ KB\n"
     ]
    }
   ],
   "source": [
    "df_fill.info()"
   ]
  },
  {
   "cell_type": "code",
   "execution_count": null,
   "id": "96da9fe8-f752-47c9-b4da-2a509b5c4f24",
   "metadata": {},
   "outputs": [],
   "source": [
    "### 이제부턴 머신러닝 본격 전처리"
   ]
  },
  {
   "cell_type": "code",
   "execution_count": 226,
   "id": "77a241c8-6377-481f-8f94-625148eb8191",
   "metadata": {
    "tags": []
   },
   "outputs": [
    {
     "data": {
      "text/html": [
       "<div>\n",
       "<style scoped>\n",
       "    .dataframe tbody tr th:only-of-type {\n",
       "        vertical-align: middle;\n",
       "    }\n",
       "\n",
       "    .dataframe tbody tr th {\n",
       "        vertical-align: top;\n",
       "    }\n",
       "\n",
       "    .dataframe thead th {\n",
       "        text-align: right;\n",
       "    }\n",
       "</style>\n",
       "<table border=\"1\" class=\"dataframe\">\n",
       "  <thead>\n",
       "    <tr style=\"text-align: right;\">\n",
       "      <th></th>\n",
       "      <th>주야</th>\n",
       "      <th>요일</th>\n",
       "      <th>사상자수</th>\n",
       "      <th>발생지시도</th>\n",
       "      <th>도로형태</th>\n",
       "      <th>기온</th>\n",
       "      <th>강수량</th>\n",
       "      <th>풍속</th>\n",
       "      <th>적설</th>\n",
       "      <th>지면온도</th>\n",
       "    </tr>\n",
       "  </thead>\n",
       "  <tbody>\n",
       "    <tr>\n",
       "      <th>0</th>\n",
       "      <td>주간</td>\n",
       "      <td>월</td>\n",
       "      <td>2</td>\n",
       "      <td>충남</td>\n",
       "      <td>기타단일로</td>\n",
       "      <td>17.7</td>\n",
       "      <td>10.5</td>\n",
       "      <td>3.1</td>\n",
       "      <td>0.0</td>\n",
       "      <td>18.6</td>\n",
       "    </tr>\n",
       "    <tr>\n",
       "      <th>11</th>\n",
       "      <td>야간</td>\n",
       "      <td>일</td>\n",
       "      <td>4</td>\n",
       "      <td>충남</td>\n",
       "      <td>기타단일로</td>\n",
       "      <td>-1.5</td>\n",
       "      <td>0.0</td>\n",
       "      <td>0.2</td>\n",
       "      <td>0.0</td>\n",
       "      <td>-1.6</td>\n",
       "    </tr>\n",
       "    <tr>\n",
       "      <th>22</th>\n",
       "      <td>야간</td>\n",
       "      <td>금</td>\n",
       "      <td>2</td>\n",
       "      <td>대전</td>\n",
       "      <td>기타단일로</td>\n",
       "      <td>-7.4</td>\n",
       "      <td>0.0</td>\n",
       "      <td>1.4</td>\n",
       "      <td>0.0</td>\n",
       "      <td>-5.1</td>\n",
       "    </tr>\n",
       "    <tr>\n",
       "      <th>33</th>\n",
       "      <td>주간</td>\n",
       "      <td>목</td>\n",
       "      <td>2</td>\n",
       "      <td>충남</td>\n",
       "      <td>기타/불명</td>\n",
       "      <td>-8.1</td>\n",
       "      <td>0.0</td>\n",
       "      <td>0.7</td>\n",
       "      <td>0.0</td>\n",
       "      <td>-4.5</td>\n",
       "    </tr>\n",
       "    <tr>\n",
       "      <th>44</th>\n",
       "      <td>주간</td>\n",
       "      <td>일</td>\n",
       "      <td>2</td>\n",
       "      <td>충남</td>\n",
       "      <td>기타단일로</td>\n",
       "      <td>-3.5</td>\n",
       "      <td>0.0</td>\n",
       "      <td>0.3</td>\n",
       "      <td>0.0</td>\n",
       "      <td>-2.3</td>\n",
       "    </tr>\n",
       "    <tr>\n",
       "      <th>...</th>\n",
       "      <td>...</td>\n",
       "      <td>...</td>\n",
       "      <td>...</td>\n",
       "      <td>...</td>\n",
       "      <td>...</td>\n",
       "      <td>...</td>\n",
       "      <td>...</td>\n",
       "      <td>...</td>\n",
       "      <td>...</td>\n",
       "      <td>...</td>\n",
       "    </tr>\n",
       "    <tr>\n",
       "      <th>24843</th>\n",
       "      <td>주간</td>\n",
       "      <td>금</td>\n",
       "      <td>2</td>\n",
       "      <td>충남</td>\n",
       "      <td>기타단일로</td>\n",
       "      <td>27.1</td>\n",
       "      <td>0.0</td>\n",
       "      <td>1.8</td>\n",
       "      <td>0.0</td>\n",
       "      <td>35.4</td>\n",
       "    </tr>\n",
       "    <tr>\n",
       "      <th>24854</th>\n",
       "      <td>주간</td>\n",
       "      <td>월</td>\n",
       "      <td>2</td>\n",
       "      <td>충남</td>\n",
       "      <td>기타단일로</td>\n",
       "      <td>25.4</td>\n",
       "      <td>0.0</td>\n",
       "      <td>2.3</td>\n",
       "      <td>0.0</td>\n",
       "      <td>37.9</td>\n",
       "    </tr>\n",
       "    <tr>\n",
       "      <th>24865</th>\n",
       "      <td>주간</td>\n",
       "      <td>일</td>\n",
       "      <td>4</td>\n",
       "      <td>대전</td>\n",
       "      <td>기타단일로</td>\n",
       "      <td>29.7</td>\n",
       "      <td>0.0</td>\n",
       "      <td>2.9</td>\n",
       "      <td>0.0</td>\n",
       "      <td>37.4</td>\n",
       "    </tr>\n",
       "    <tr>\n",
       "      <th>24876</th>\n",
       "      <td>야간</td>\n",
       "      <td>일</td>\n",
       "      <td>4</td>\n",
       "      <td>충남</td>\n",
       "      <td>기타단일로</td>\n",
       "      <td>16.4</td>\n",
       "      <td>0.0</td>\n",
       "      <td>2.5</td>\n",
       "      <td>0.0</td>\n",
       "      <td>13.0</td>\n",
       "    </tr>\n",
       "    <tr>\n",
       "      <th>24887</th>\n",
       "      <td>야간</td>\n",
       "      <td>수</td>\n",
       "      <td>4</td>\n",
       "      <td>충남</td>\n",
       "      <td>기타단일로</td>\n",
       "      <td>24.5</td>\n",
       "      <td>0.0</td>\n",
       "      <td>1.4</td>\n",
       "      <td>0.0</td>\n",
       "      <td>21.3</td>\n",
       "    </tr>\n",
       "  </tbody>\n",
       "</table>\n",
       "<p>2333 rows × 10 columns</p>\n",
       "</div>"
      ],
      "text/plain": [
       "       주야 요일  사상자수 발생지시도   도로형태    기온   강수량   풍속   적설  지면온도\n",
       "0      주간  월     2    충남  기타단일로  17.7  10.5  3.1  0.0  18.6\n",
       "11     야간  일     4    충남  기타단일로  -1.5   0.0  0.2  0.0  -1.6\n",
       "22     야간  금     2    대전  기타단일로  -7.4   0.0  1.4  0.0  -5.1\n",
       "33     주간  목     2    충남  기타/불명  -8.1   0.0  0.7  0.0  -4.5\n",
       "44     주간  일     2    충남  기타단일로  -3.5   0.0  0.3  0.0  -2.3\n",
       "...    .. ..   ...   ...    ...   ...   ...  ...  ...   ...\n",
       "24843  주간  금     2    충남  기타단일로  27.1   0.0  1.8  0.0  35.4\n",
       "24854  주간  월     2    충남  기타단일로  25.4   0.0  2.3  0.0  37.9\n",
       "24865  주간  일     4    대전  기타단일로  29.7   0.0  2.9  0.0  37.4\n",
       "24876  야간  일     4    충남  기타단일로  16.4   0.0  2.5  0.0  13.0\n",
       "24887  야간  수     4    충남  기타단일로  24.5   0.0  1.4  0.0  21.3\n",
       "\n",
       "[2333 rows x 10 columns]"
      ]
     },
     "execution_count": 226,
     "metadata": {},
     "output_type": "execute_result"
    }
   ],
   "source": [
    "## 발생지 기준을 뭘로 할지 결정/ 일시를 봄,여름,가을로 나눌것/ 독립변수 좀더 고민필요\n",
    "df_ml=df_fill.drop(['발생지시군구','지점명','일시', '법규위반','사고유형'],axis=1)\n",
    "df_ml"
   ]
  },
  {
   "cell_type": "code",
   "execution_count": 228,
   "id": "16f0a7dd-bfaf-4175-8612-d46e79b4f67b",
   "metadata": {
    "tags": []
   },
   "outputs": [
    {
     "data": {
      "text/plain": [
       "(2333, 25)"
      ]
     },
     "execution_count": 228,
     "metadata": {},
     "output_type": "execute_result"
    }
   ],
   "source": [
    "df_dum=pd.get_dummies(df_ml)\n",
    "df_dum.shape"
   ]
  },
  {
   "cell_type": "code",
   "execution_count": 230,
   "id": "154bb87d-4831-44f6-9636-cb37fc51edd3",
   "metadata": {
    "tags": []
   },
   "outputs": [
    {
     "name": "stdout",
     "output_type": "stream",
     "text": [
      "(2333, 24) (2333,)\n"
     ]
    }
   ],
   "source": [
    "X=df_dum.drop('사상자수', axis=1)\n",
    "y=df_dum['사상자수']\n",
    "print(X.shape, y.shape)"
   ]
  },
  {
   "cell_type": "code",
   "execution_count": 231,
   "id": "b2016004-e3d7-4a43-aa20-075ea8292b23",
   "metadata": {
    "tags": []
   },
   "outputs": [
    {
     "name": "stdout",
     "output_type": "stream",
     "text": [
      "(1866, 24) (1866,) (1866, 24)\n"
     ]
    }
   ],
   "source": [
    "from sklearn.model_selection import train_test_split\n",
    "\n",
    "X_train, X_test, y_train, y_test = train_test_split(X, y, test_size = 0.2, random_state=0)\n",
    "print(X_train.shape, y_train.shape, X_train.shape)"
   ]
  },
  {
   "cell_type": "code",
   "execution_count": 232,
   "id": "73e33203-6d3c-4c9a-93bb-9717df3c6c77",
   "metadata": {
    "tags": []
   },
   "outputs": [],
   "source": [
    "def get_model_cv_prediction(model, X, y):\n",
    "    neg_mse_scores = cross_val_score(model, X, y,scoring=\"neg_mean_squared_error\", cv = 5)\n",
    "    rmse_scores = np.sqrt(-1 * neg_mse_scores)\n",
    "    avg_rmse = np.mean(rmse_scores)\n",
    "    print(' ',model.__class__.__name__ , ' ')\n",
    "    print(' 5 교차 검증의 평균 RMSE : {0:.3f} '.format(avg_rmse))"
   ]
  },
  {
   "cell_type": "code",
   "execution_count": 241,
   "id": "f4dd2047-a793-4adb-a6a3-25c21fcbb87b",
   "metadata": {
    "tags": []
   },
   "outputs": [
    {
     "name": "stdout",
     "output_type": "stream",
     "text": [
      "  SGDRegressor  \n",
      " 5 교차 검증의 평균 RMSE : 3.579 \n",
      "  DecisionTreeRegressor  \n",
      " 5 교차 검증의 평균 RMSE : 4.173 \n",
      "  GradientBoostingRegressor  \n",
      " 5 교차 검증의 평균 RMSE : 4.314 \n",
      "  XGBRegressor  \n",
      " 5 교차 검증의 평균 RMSE : 4.516 \n"
     ]
    }
   ],
   "source": [
    "from sklearn.tree import DecisionTreeRegressor\n",
    "from sklearn.ensemble import GradientBoostingRegressor\n",
    "from xgboost import XGBRegressor\n",
    "from sklearn.linear_model import SGDRegressor\n",
    "from sklearn.ensemble import RandomForestRegressor\n",
    "rf_reg=RandomForestRegressor(random_state=0, n_estimators=100)\n",
    "sgd_reg=SGDRegressor(alpha=0.1)\n",
    "dt_reg = DecisionTreeRegressor(random_state=0, max_depth=4)\n",
    "gb_reg = GradientBoostingRegressor(random_state=0, n_estimators=1000)\n",
    "xgb_reg = XGBRegressor(random_state=0, n_estimators=1000)\n",
    "models = [rf_reg,sgd_reg,dt_reg, gb_reg, xgb_reg]\n",
    "for model in models: \n",
    "    get_model_cv_prediction(model, X, y)"
   ]
  },
  {
   "cell_type": "code",
   "execution_count": 237,
   "id": "abe6de57-96f1-4d60-b357-4ffd7a9efc8a",
   "metadata": {
    "tags": []
   },
   "outputs": [
    {
     "name": "stdout",
     "output_type": "stream",
     "text": [
      "alpha 0 일 때 5fold의 평균 RMSE: 126.416\n",
      "alpha 0.01 일 때 5fold의 평균 RMSE: 443077.374\n",
      "alpha 0.1 일 때 5fold의 평균 RMSE: 3.573\n",
      "alpha 1 일 때 5fold의 평균 RMSE: 4.469\n",
      "alpha 10 일 때 5fold의 평균 RMSE: 3.530\n"
     ]
    }
   ],
   "source": [
    "alphas=[0, 0.01, 0.1, 1, 10]\n",
    "for alpha in alphas:\n",
    "    sgd_reg=SGDRegressor(alpha=alpha)\n",
    "    neg_mse_scores=cross_val_score(sgd_reg,X,y, scoring='neg_mean_squared_error',cv=5)\n",
    "    avg_rmse= np.mean(np.sqrt(-1*neg_mse_scores))\n",
    "    print(f'alpha {alpha} 일 때 5fold의 평균 RMSE: {avg_rmse:.3f}')"
   ]
  },
  {
   "cell_type": "code",
   "execution_count": null,
   "id": "c09e8e9e-e04c-4b50-a996-9953a70b19f6",
   "metadata": {
    "tags": []
   },
   "outputs": [],
   "source": []
  },
  {
   "cell_type": "code",
   "execution_count": 244,
   "id": "dea70291-9a6c-4237-b061-72d86a448c2a",
   "metadata": {
    "tags": []
   },
   "outputs": [
    {
     "data": {
      "image/png": "[encoded data removed]",
      "text/plain": [
       "<Figure size 800x600 with 1 Axes>"
      ]
     },
     "metadata": {},
     "output_type": "display_data"
    }
   ],
   "source": [
    "from sklearn.ensemble import RandomForestRegressor\n",
    "\n",
    "rf_reg=RandomForestRegressor(random_state=0, n_estimators=100)\n",
    "rf_reg.fit(X, y)\n",
    "ftr_importances_values = rf_reg.feature_importances_\n",
    "ftr_importances = pd.Series(ftr_importances_values,index=X.columns)\n",
    "ftr_top20 = ftr_importances.sort_values(ascending=False)[:20]\n",
    "plt.figure(figsize=(8,6))\n",
    "plt.title('Feature importances Top 20')\n",
    "sns.barplot(x=ftr_top20 , y = ftr_top20.index)\n",
    "plt.show()"
   ]
  },
  {
   "cell_type": "code",
   "execution_count": 249,
   "id": "3123c3f7-1e6e-44e6-a4ab-293e779825e8",
   "metadata": {
    "tags": []
   },
   "outputs": [
    {
     "data": {
      "text/plain": [
       "0         2\n",
       "15263     2\n",
       "15243     2\n",
       "15233     2\n",
       "15213     2\n",
       "         ..\n",
       "682      36\n",
       "7662     40\n",
       "13363    48\n",
       "6963     52\n",
       "7141     86\n",
       "Name: 사상자수, Length: 2333, dtype: int64"
      ]
     },
     "execution_count": 249,
     "metadata": {},
     "output_type": "execute_result"
    }
   ],
   "source": [
    "df_dum['사상자수'].sort_values()"
   ]
  },
  {
   "cell_type": "code",
   "execution_count": 250,
   "id": "f5473774-12dd-4fd1-bc70-71158c954bc6",
   "metadata": {
    "tags": []
   },
   "outputs": [
    {
     "data": {
      "text/plain": [
       "사상자수\n",
       "2     1682\n",
       "4      354\n",
       "6      130\n",
       "8       68\n",
       "10      43\n",
       "14      14\n",
       "12      12\n",
       "16      10\n",
       "18       4\n",
       "22       4\n",
       "24       3\n",
       "20       2\n",
       "36       1\n",
       "52       1\n",
       "86       1\n",
       "26       1\n",
       "40       1\n",
       "48       1\n",
       "30       1\n",
       "Name: count, dtype: int64"
      ]
     },
     "execution_count": 250,
     "metadata": {},
     "output_type": "execute_result"
    }
   ],
   "source": [
    "df_dum['사상자수'].value_counts()"
   ]
  },
  {
   "cell_type": "code",
   "execution_count": null,
   "id": "8baebb48-49ef-465e-8dd8-6b225e9f4039",
   "metadata": {},
   "outputs": [],
   "source": []
  }
 ],
 "metadata": {
  "kernelspec": {
   "display_name": "Python 3 (ipykernel)",
   "language": "python",
   "name": "python3"
  },
  "language_info": {
   "codemirror_mode": {
    "name": "ipython",
    "version": 3
   },
   "file_extension": ".py",
   "mimetype": "text/x-python",
   "name": "python",
   "nbconvert_exporter": "python",
   "pygments_lexer": "ipython3",
   "version": "3.11.5"
  }
 },
 "nbformat": 4,
 "nbformat_minor": 5
}
