{
 "cells": [
  {
   "cell_type": "markdown",
   "id": "0c7ef099-e025-4c3f-98af-5cbfe8323c5c",
   "metadata": {},
   "source": [
    "#### <사이킷런 scikit-learn>"
   ]
  },
  {
   "cell_type": "code",
   "execution_count": null,
   "id": "c2cc135c-a434-40f3-a5a5-2a03e69e9dde",
   "metadata": {},
   "outputs": [],
   "source": [
    "import pandas as pd\n",
    "import numpy as np\n",
    "import sklearn\n",
    "from sklearn.datasets import load_iris\n",
    "from sklearn.tree import DecisionTreeClassifier\n",
    "from sklearn.tree import DecisionTreeRegressor\n",
    "from sklearn.model_selection import train_test_split,KFold,StratifiedKFold\n",
    "from sklearn.model_selection import cross_val_score, cross_validate, GridSearchCV\n",
    "from sklearn.metrics import accuracy_score\n",
    "\n",
    "import warnings\n",
    "warnings.filterwarnings('ignore')\n",
    "\n",
    "import matplotlib.pyplot as plt\n",
    "import seaborn as sns"
   ]
  },
  {
   "cell_type": "code",
   "execution_count": null,
   "id": "79999116-09c4-4201-8fe7-34f1aaf6d5d5",
   "metadata": {
    "tags": []
   },
   "outputs": [],
   "source": [
    "# 0. 사이킷런 파일 가져오기\n",
    "from sklearn.datasets import load_iris\n",
    "iris = load_iris()"
   ]
  },
  {
   "cell_type": "code",
   "execution_count": null,
   "id": "a536beb3-5d13-4bb7-a425-dd0009220670",
   "metadata": {},
   "outputs": [],
   "source": [
    "# 1. 데이터셋트 분리: train, test 로 자르기\n",
    "from sklearn.model_selection import train_test_split\n",
    "iris_data = iris.data\n",
    "iris_label = iris.target\n",
    "X_train, X_test, y_train, y_test =train_test_split(\n",
    "    iris_data, iris_label,test_size = 0.2,random_state = 11)"
   ]
  },
  {
   "cell_type": "code",
   "execution_count": null,
   "id": "78cd213a-6c60-41aa-98cb-2091aa04b9b0",
   "metadata": {},
   "outputs": [],
   "source": [
    "  # df를 자르기: 종속 / 독립 변수로 나눠서 train_test_split한다.\n",
    "    y_df = df['target']\n",
    "    x_df = df.drop('target', axis = 1)\n",
    "    X_train, X_test, y_train, y_test = \n",
    "       train_test_split(x_df, y_df, test_size = 0.2, random_state=0)"
   ]
  },
  {
   "cell_type": "code",
   "execution_count": null,
   "id": "e4683fd6-2194-4d1e-9bf2-db9ced45304c",
   "metadata": {},
   "outputs": [],
   "source": [
    "# 2. 모델학습\n",
    "from sklearn.tree import DecisionTreeClassifier\n",
    "dt_clf = DecisionTreeClassifier(random_state = 0)\n",
    "dt_clf.fit(X_train, y_train)"
   ]
  },
  {
   "cell_type": "code",
   "execution_count": null,
   "id": "3d943fd4-9f8b-4ccb-a035-bac307e5d1b1",
   "metadata": {},
   "outputs": [],
   "source": [
    "# 3. 예측수행- test용으로\n",
    "pred = dt_clf.predict(X_test)"
   ]
  },
  {
   "cell_type": "code",
   "execution_count": null,
   "id": "940a1302-ccee-4463-928a-c976ab9c3d03",
   "metadata": {},
   "outputs": [],
   "source": [
    "# 4. 평가 \n",
    "from sklearn.metrics import accuracy_score\n",
    "acc = accuracy_score(y_test, pred)"
   ]
  },
  {
   "cell_type": "code",
   "execution_count": null,
   "id": "13f71673-40fa-4116-9b15-cd48586c78f1",
   "metadata": {},
   "outputs": [],
   "source": [
    "## 교차검증\n",
    "# K_Fold 교차검증\n",
    "    from sklearn.model_selection import KFold\n",
    "\n",
    "# StratifiedKFold 교차검증\n",
    "    from sklearn.model_selection import StratifiedKFold"
   ]
  },
  {
   "cell_type": "code",
   "execution_count": null,
   "id": "4f5469ea-a284-4e3e-9e87-e5bba5e494ec",
   "metadata": {},
   "outputs": [],
   "source": [
    "# cross_val_score 교차검증\n",
    "from sklearn.model_selection import cross_val_score, cross_validate,cross_val_predict\n",
    "iris_data = load_iris()\n",
    "dt_clf = DecisionTreeClassifier(random_state= 156)\n",
    "data = iris_data.data\n",
    "label = iris_data.target\n",
    "scores = cross_val_score(dt_clf, data, label, scoring = 'accuracy', cv = 5)\n",
    "print('교차 검증별 정확도: ', np.round(scores, 4))\n",
    "print('평균 검증 정확도: ', np.round(np.mean(scores), 4))\n",
    "\n",
    "# cross_validate 교차검증 : 평가방법 2개 이상 가능\n",
    "cross_validate(dt_clf, data, label, scoring = ['accuracy', 'roc_auc_ovo'], cv = 5)"
   ]
  },
  {
   "cell_type": "code",
   "execution_count": null,
   "id": "9328bfe9-5e9f-40ca-8376-fb673aee1f42",
   "metadata": {},
   "outputs": [],
   "source": [
    "# 하이퍼 파라미터의 성능향상: GridSearchCV\n",
    "from sklearn.model_selection import GridSearchCV\n",
    "dtree=DecisionTreeClassifier()\n",
    "parameters={'max_depth':[1,2,3], 'min_samples_split':[2,3]}\n",
    "grid_dtree=GridSearchCV(dtree, param_grid=parameters,cv=3,refit=True)"
   ]
  },
  {
   "cell_type": "markdown",
   "id": "735dfbae-2bcd-4cae-9c19-a1de66eae0d3",
   "metadata": {},
   "source": [
    "#### 인코딩"
   ]
  },
  {
   "cell_type": "code",
   "execution_count": null,
   "id": "21ef123d-b284-42c4-a994-7fcfb3d7864c",
   "metadata": {},
   "outputs": [],
   "source": [
    "#  인코딩 : 범주형 문자 --> 수치형으로 바꿈\n",
    "from sklearn.preprocessing import LabelEncoder, OneHotEncoder\n",
    "\n",
    "# 1) LabelEncoder: 종속변수 또는 독립변수 범주 2개 \n",
    "lbe=LabelEncoder()\n",
    "titanic_df['Sex']=lbe.fit_transform(titanic_df['Sex'])"
   ]
  },
  {
   "cell_type": "code",
   "execution_count": null,
   "id": "3385fb3a-44e9-4259-bc6e-fbe3712f347f",
   "metadata": {},
   "outputs": [],
   "source": [
    "# 2) OneHotEncoder: 3개 이상 독립변수 \n",
    "oh=OneHotEncoder(sparse_output=False)\n",
    "C_B=oh.fit_transform(titanic_df[['Cabin','Embarked']])\n",
    "columns=np.hstack(['Cab_' + oh.categories_[0], 'Emb_'+ oh.categories_[1]])\n",
    "titanic_df=pd.concat([titanic_df, pd.DataFrame(C_B, columns=columns)], axis=1)"
   ]
  },
  {
   "cell_type": "code",
   "execution_count": null,
   "id": "706cacd8-195a-493c-a3d0-efe9f894dda3",
   "metadata": {},
   "outputs": [],
   "source": [
    "# pandas 에서는 자동으로 원핫인코딩 해주누는 함수 .get_dummies\n",
    "# 3) get_dummies - 범주형 변수에서 더미변수를 자동으로 만들어주는 함수\n",
    "pd.get_dummies(df) "
   ]
  },
  {
   "cell_type": "code",
   "execution_count": null,
   "id": "5bfd6dfd-cd2f-41be-846e-b03a6ac47c70",
   "metadata": {},
   "outputs": [],
   "source": [
    "# 데이터 전처리-레이블 인코딩(필수적 전처리)\n",
    "from sklearn.preprocessing import LabelEncoder\n",
    "encoder=LabelEncoder()\n",
    "lb_enc.fit(y)                   # fit은 y의 범주 종류를 저장하는 역할\n",
    "label_iris=lb_enc.transform(y)  # 위에서 저장한 범주를 맞는 숫자로 변환"
   ]
  },
  {
   "cell_type": "code",
   "execution_count": null,
   "id": "06473e95-50da-495f-b123-4d30393c705e",
   "metadata": {},
   "outputs": [],
   "source": [
    "# 원-핫 인코딩/ 독립변수/ 희소행렬\n",
    "from sklearn.preprocessing import OneHotEncoder\n",
    "items = np.array(items).reshape(-1, 1)\n",
    "oh_encoder = OneHotEncoder()\n",
    "oh_encoder.fit(items)\n",
    "oh_labels = oh_encoder.transform(items)   "
   ]
  },
  {
   "cell_type": "code",
   "execution_count": null,
   "id": "87f48e3c-64b6-4516-b7e3-2a9ef45d9d39",
   "metadata": {},
   "outputs": [],
   "source": [
    "# 데이터 전처리- 표준화 / 수의 값이 끝이 없고, 기본 평균이 정해져있을때\n",
    "from sklearn.preprocessing import StandardScaler\n",
    "scaler = StandardScaler()\n",
    "scaler.fit(iris_df)\n",
    "iris_scaled = scaler.transform(iris_df)"
   ]
  },
  {
   "cell_type": "code",
   "execution_count": null,
   "id": "17f74695-b2da-4312-90dc-01e796019ce7",
   "metadata": {},
   "outputs": [],
   "source": [
    "# 데이터 전처리 -정규화 :표준화와 모두 같고 MinMaxScaler() 여기만 다름\n",
    "** 무조건 0-1 사이 값임\n",
    "from sklearn.preprocessing import StandardScaler\n",
    "scaler = StandardScaler()\n",
    "scaler.fit(iris_df)\n",
    "iris_scaled = scaler.transform(iris_df)"
   ]
  },
  {
   "cell_type": "code",
   "execution_count": null,
   "id": "82da8194-1edd-4f4a-a546-f3c86d7d0c17",
   "metadata": {},
   "outputs": [],
   "source": []
  },
  {
   "cell_type": "code",
   "execution_count": null,
   "id": "25d67b87-61a6-4c9a-9e35-5fcbeed89ea8",
   "metadata": {},
   "outputs": [],
   "source": []
  },
  {
   "cell_type": "code",
   "execution_count": null,
   "id": "3ab00aed-9d12-4113-af3e-8b43dfc86ab6",
   "metadata": {},
   "outputs": [],
   "source": []
  }
 ],
 "metadata": {
  "kernelspec": {
   "display_name": "Python 3 (ipykernel)",
   "language": "python",
   "name": "python3"
  },
  "language_info": {
   "codemirror_mode": {
    "name": "ipython",
    "version": 3
   },
   "file_extension": ".py",
   "mimetype": "text/x-python",
   "name": "python",
   "nbconvert_exporter": "python",
   "pygments_lexer": "ipython3",
   "version": "3.11.5"
  }
 },
 "nbformat": 4,
 "nbformat_minor": 5
}
