{
 "cells": [
  {
   "cell_type": "markdown",
   "id": "0c7ef099-e025-4c3f-98af-5cbfe8323c5c",
   "metadata": {},
   "source": [
    "#### <사이킷런 scikit-learn>"
   ]
  },
  {
   "cell_type": "code",
   "execution_count": null,
   "id": "c2cc135c-a434-40f3-a5a5-2a03e69e9dde",
   "metadata": {},
   "outputs": [],
   "source": [
    "import pandas as pd\n",
    "import sklearn\n",
    "from sklearn.datasets import load_iris\n",
    "from sklearn.tree import DecisionTreeClassifier\n",
    "from sklearn.tree import DecisionTreeRegressor\n",
    "from sklearn.model_selection import train_test_split\n",
    "from sklearn.metrics import accuracy_score"
   ]
  },
  {
   "cell_type": "code",
   "execution_count": null,
   "id": "79999116-09c4-4201-8fe7-34f1aaf6d5d5",
   "metadata": {},
   "outputs": [],
   "source": [
    "# 0. 사이킷런 파일 가져오기\n",
    "from sklearn.datasets import load_iris\n",
    "iris = load_iris()"
   ]
  },
  {
   "cell_type": "code",
   "execution_count": null,
   "id": "a536beb3-5d13-4bb7-a425-dd0009220670",
   "metadata": {},
   "outputs": [],
   "source": [
    "# 1. 데이터셋트 분리: train, test 로 자르기\n",
    "from sklearn.model_selection import train_test_split\n",
    "iris_data = iris.data\n",
    "iris_label = iris.target\n",
    "X_train, X_test, y_train, y_test =train_test_split(\n",
    "    iris_data, iris_label,test_size = 0.2,random_state = 11)"
   ]
  },
  {
   "cell_type": "code",
   "execution_count": null,
   "id": "78cd213a-6c60-41aa-98cb-2091aa04b9b0",
   "metadata": {},
   "outputs": [],
   "source": [
    "  # df를 자르기: 종속 / 독립 변수로 나눠서 train_test_split한다.\n",
    "    y_df = df['target']\n",
    "    x_df = df.drop('target', axis = 1)\n",
    "    X_train, X_test, y_train, y_test = \n",
    "       train_test_split(x_df, y_df, test_size = 0.2, random_state=0)"
   ]
  },
  {
   "cell_type": "code",
   "execution_count": null,
   "id": "e4683fd6-2194-4d1e-9bf2-db9ced45304c",
   "metadata": {},
   "outputs": [],
   "source": [
    "# 2. 모델학습\n",
    "from sklearn.tree import DecisionTreeClassifier\n",
    "dt_clf = DecisionTreeClassifier(random_state = 0)\n",
    "dt_clf.fit(X_train, y_train)"
   ]
  },
  {
   "cell_type": "code",
   "execution_count": null,
   "id": "3d943fd4-9f8b-4ccb-a035-bac307e5d1b1",
   "metadata": {},
   "outputs": [],
   "source": [
    "# 3. 예측수행- test용으로\n",
    "pred = dt_clf.predict(X_test)"
   ]
  },
  {
   "cell_type": "code",
   "execution_count": null,
   "id": "940a1302-ccee-4463-928a-c976ab9c3d03",
   "metadata": {},
   "outputs": [],
   "source": [
    "# 4. 평가 \n",
    "from sklearn.metrics import accuracy_score\n",
    "acc = accuracy_score(y_test, pred)"
   ]
  }
 ],
 "metadata": {
  "kernelspec": {
   "display_name": "Python 3 (ipykernel)",
   "language": "python",
   "name": "python3"
  },
  "language_info": {
   "codemirror_mode": {
    "name": "ipython",
    "version": 3
   },
   "file_extension": ".py",
   "mimetype": "text/x-python",
   "name": "python",
   "nbconvert_exporter": "python",
   "pygments_lexer": "ipython3",
   "version": "3.11.5"
  }
 },
 "nbformat": 4,
 "nbformat_minor": 5
}
