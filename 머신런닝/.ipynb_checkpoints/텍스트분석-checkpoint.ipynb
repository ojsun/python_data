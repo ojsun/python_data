{
 "cells": [
  {
   "cell_type": "code",
   "execution_count": null,
   "id": "570d42f0-6116-4ddd-a60e-198959279130",
   "metadata": {
    "tags": []
   },
   "outputs": [],
   "source": [
    "import matplotlib.pyplot as plt\n",
    "import seaborn as sns\n",
    "import pandas as pd\n",
    "import numpy as np\n",
    "import warnings\n",
    "warnings.filterwarnings('ignore')\n",
    "\n",
    "from sklearn.preprocessing import StandardScaler\n",
    "from sklearn.model_selection import train_test_split,cross_val_score, GridSearchCV\n",
    "from sklearn.metrics import accuracy_score, f1_score, roc_auc_score"
   ]
  },
  {
   "cell_type": "code",
   "execution_count": null,
   "id": "30bdc63f-7f21-459f-a903-629288f9db81",
   "metadata": {},
   "outputs": [],
   "source": [
    "### stevejobs.txt"
   ]
  },
  {
   "cell_type": "code",
   "execution_count": null,
   "id": "1751bcc6-2bb9-4b4e-966c-2891af494be2",
   "metadata": {
    "tags": []
   },
   "outputs": [],
   "source": [
    "# 불러오기\n",
    "with open('../data/stevejobs.txt', 'r', encoding='utf8') as f:\n",
    "    rows=f.readlines()\n",
    "    lines=[row for row in rows]\n",
    "text=' '.join(lines)"
   ]
  },
  {
   "cell_type": "code",
   "execution_count": null,
   "id": "b6f908c2-c897-49cd-b859-253028e337a0",
   "metadata": {
    "tags": []
   },
   "outputs": [],
   "source": [
    "# 1-1.텍스트 전처리(정규화): 클렌징\n",
    "import re\n",
    "compile=re.compile('[^ a-zA-Z0-9\\.]+')  #[a-zA-Z]+\n",
    "text=compile.sub('',text).lower()"
   ]
  },
  {
   "cell_type": "code",
   "execution_count": null,
   "id": "bdcf9150-20dc-4d6c-a81e-c9f58b12a13c",
   "metadata": {
    "tags": []
   },
   "outputs": [],
   "source": [
    "# 1-2.토큰화(문장)\n",
    "import nltk\n",
    "nltk.download('punkt')\n",
    "sentences=nltk.sent_tokenize(text=text)"
   ]
  },
  {
   "cell_type": "code",
   "execution_count": null,
   "id": "f5d7e1fb-6ef6-444b-9121-1dfbc47c897c",
   "metadata": {
    "tags": []
   },
   "outputs": [],
   "source": [
    "# 토큰화(단어) extend: 리스트로 \n",
    "word_token=[]\n",
    "for sentence in sentences:\n",
    "    words=nltk.word_tokenize(sentence)\n",
    "    word_token.extend(words)\n",
    "print(word_token[:3])"
   ]
  },
  {
   "cell_type": "code",
   "execution_count": null,
   "id": "9ba1086f-c3bb-4388-9e12-19d2245246c7",
   "metadata": {
    "tags": []
   },
   "outputs": [],
   "source": [
    "# 토큰화(문단 --> 단어) append: 2차원 데이터프레임으로\n",
    "word_token2=[]\n",
    "for sentence in sentences:\n",
    "    words=nltk.word_tokenize(sentence)\n",
    "    word_token2.append(words)\n",
    "print(word_token2[:3])"
   ]
  },
  {
   "cell_type": "code",
   "execution_count": null,
   "id": "33578ac3-c291-4278-b573-0101052f4d11",
   "metadata": {
    "tags": []
   },
   "outputs": [],
   "source": [
    "# 토큰화 함수: 문서의 모든 단어\n",
    "from nltk import sent_tokenize, word_tokenize\n",
    "\n",
    "def tokenize_text(text):\n",
    "    sentences = nltk.sent_tokenize(text)\n",
    "    word_tokens = [nltk.word_tokenize(sentense) for sentense in sentences]\n",
    "    return word_tokens\n",
    "word_tokens = tokenize_text(text)\n",
    "print(word_tokens[:2])"
   ]
  },
  {
   "cell_type": "code",
   "execution_count": null,
   "id": "3b46968f-720f-4aea-bd0e-00abb40081b1",
   "metadata": {
    "tags": []
   },
   "outputs": [],
   "source": [
    "# 1-3.불용어(stop_words) 제거\n",
    "nltk.download('stopwords')\n",
    "stopwords=nltk.corpus.stopwords.words('english')\n",
    "\n",
    "all_tokens=[]\n",
    "for sentence in word_tokens:\n",
    "    filtered_words=[]\n",
    "    for word in sentence:\n",
    "        if word not in stopwords:\n",
    "            filtered_words.append(word)\n",
    "    all_tokens.append(filtered_words)\n",
    "all_tokens[:1]"
   ]
  },
  {
   "cell_type": "code",
   "execution_count": null,
   "id": "70638718-508f-4d09-8702-eda64e7d8d68",
   "metadata": {},
   "outputs": [],
   "source": [
    "# 1-4. 어근(형태소) 추출: Stemming/ Lemmatization\n",
    "from nltk import LancasterStemmer\n",
    "stemmer=LancasterStemmer()\n",
    "\n",
    "stemmer.stem('working')"
   ]
  },
  {
   "cell_type": "code",
   "execution_count": null,
   "id": "c9fdb395-86aa-490d-9fdb-9f2d58086486",
   "metadata": {
    "tags": []
   },
   "outputs": [],
   "source": [
    "# 2.피처 벡터화/축출(BOW : CountVectorizer/TfidfVectorizer)\n",
    "# 2-1. 카운트 기반의 벡터화: CountVectorizer\n",
    "# 셋트 만들기\n",
    "from sklearn.datasets import fetch_20newsgroups\n",
    "train_news=fetch_20newsgroups(subset='train', remove=('headers','footers','quotes'), random_state=156)\n",
    "X_train=train_news.data\n",
    "y_train=train_news.target\n",
    "test_news=fetch_20newsgroups(subset='train', remove=('headers','footers','quotes'), random_state=156)\n",
    "X_test=test_news.data\n",
    "y_test=test_news.target\n",
    "\n",
    "# 벡처화\n",
    "from sklearn.feature_extraction.text import CountVectorizer\n",
    "cnt_vct=CountVectorizer()\n",
    "cnt_vct.fit(X_train)   # y값 없음!!\n",
    "X_train_cnt_vct=cnt_vct.transform(X_train)\n",
    "X_test_cnt_vct=cnt_vct.transform(X_test)\n",
    "\n",
    "# 3.모델로 분류\n",
    "from sklearn.linear_model import LogisticRegression\n",
    "lr_clf=LogisticRegression(solver='liblinear')\n",
    "lr_clf.fit(X_train_cnt_vct, y_train)\n",
    "pred=lr_clf.predict(X_test_cnt_vct)\n",
    "print('예측 정확도 : ', accuracy_score(y_test, pred))"
   ]
  },
  {
   "cell_type": "code",
   "execution_count": null,
   "id": "79f05b9f-5c6d-4cb1-9fb2-c4986d841a8c",
   "metadata": {
    "tags": []
   },
   "outputs": [],
   "source": [
    "# 2-2. TF-IDF: TfidfVectorizer\n",
    "# (자주 나오는 단어에 가중치/모든 문서에서 자주나오는 단어에 패털티)\n",
    "from sklearn.feature_extraction.text import TfidfVectorizer\n",
    "tfdf_vct=TfidfVectorizer()\n",
    "tfdf_vct.fit(X_train)\n",
    "X_train_tfdf_vct=tfdf_vct.transform(X_train)\n",
    "X_test_tfdf_vct=tfdf_vct.transform(X_test)\n",
    "\n",
    "# 3.모델로 분류\n",
    "from sklearn.linear_model import LogisticRegression\n",
    "lr_clf=LogisticRegression(solver='liblinear')\n",
    "lr_clf.fit(X_train_tfdf_vct, y_train)\n",
    "pred=lr_clf.predict(X_test_tfdf_vct)\n",
    "print('예측 정확도 : ', accuracy_score(y_test, pred))"
   ]
  },
  {
   "cell_type": "code",
   "execution_count": null,
   "id": "5bbac3bd-df5f-4644-add5-c4d493a8fdf3",
   "metadata": {
    "tags": []
   },
   "outputs": [],
   "source": [
    "# 3-1. GridSearchCV로 파라미터 성능 향상\n",
    "params={'C':[0.01, 0.1, 1, 5, 10]}\n",
    "gr_lr_clf = GridSearchCV(lr_clf,param_grid=params,cv=3,scoring='accuracy', verbose=1)\n",
    "gr_lr_clf.fit(X_train_tfdf_vct , y_train)\n",
    "print('LogisticRegression의 최적 파라미터: ', gr_lr_clf.best_params_)\n",
    "\n",
    "# 최적 C값으로 예측, 정확도 평가\n",
    "pred=gr_lr_clf.predict(X_test_tfdf_vct)\n",
    "print('예측 정확도 : ', accuracy_score(y_test, pred))"
   ]
  },
  {
   "cell_type": "code",
   "execution_count": null,
   "id": "0df68a37-a6e2-4d0c-a085-ed3ad83f037f",
   "metadata": {
    "tags": []
   },
   "outputs": [],
   "source": [
    "# pipeline으로 만들기:TF-IDF 벡터화, GridSearchCV 최적찾기\n",
    "from sklearn.datasets import fetch_20newsgroups\n",
    "train_news=fetch_20newsgroups(subset='train', remove=('headers','footers','quotes'), random_state=156)\n",
    "X_train=train_news.data\n",
    "y_train=train_news.target\n",
    "test_news=fetch_20newsgroups(subset='train', remove=('headers','footers','quotes'), random_state=156)\n",
    "X_test=test_news.data\n",
    "y_test=test_news.target\n",
    "\n",
    "from sklearn.pipeline import Pipeline\n",
    "\n",
    "pipeline=Pipeline([('tfdf_vect', TfidfVectorizer(stop_words='english')),\n",
    "                   ('lr_clf', LogisticRegression())])\n",
    "params={'tfdf_vect__ngram_range': [(1,1),(1,2)],\n",
    "        'tfdf_vect__max_df': [100,200,300],\n",
    "        'lr_clf__C': [1,5,7]}\n",
    "grid_cv_pipe=GridSearchCV(pipeline, param_grid=params,cv=3,scoring='accuracy')\n",
    "grid_cv_pipe.fit(X_train,y_train)\n",
    "print('최적 파라미터: ', grid_cv_pipe.best_params_)\n",
    "pred=gr_lr_clf.predict(X_test)\n",
    "print('예측 정확도 : ', accuracy_score(y_test, pred))"
   ]
  },
  {
   "cell_type": "code",
   "execution_count": null,
   "id": "a38837ba-e77b-44b4-909c-aa1c0302be7c",
   "metadata": {},
   "outputs": [],
   "source": []
  },
  {
   "cell_type": "code",
   "execution_count": null,
   "id": "edeae9f6-a068-49af-9f75-a178625704f3",
   "metadata": {},
   "outputs": [],
   "source": [
    "# 한글 단어 토큰\n",
    "from konlpy.tag import Okt\n",
    "okt = Okt()\n",
    "words = []\n",
    "for sentence in sentences:\n",
    "    word = okt.morphs(sentence)\n",
    "    words.append(word)\n",
    "print(words[:2])\n",
    "test_text = '나는 정말로 파이썬을 좋아한다. 아니 머신러닝을 더 좋아한다.'\n",
    "print('normalize :', okt.normalize(test_text)) # 문장으로 추출\n",
    "print('morphs :', okt.morphs(test_text))       # 구문 분석\n",
    "print('nouns :', okt.nouns(test_text))         # 명사만\n",
    "print('phrases :', okt.phrases(test_text))     # 구문\n",
    "print('pos :', okt.pos(test_text))             # 품사와 함께 값고 함께 "
   ]
  },
  {
   "cell_type": "code",
   "execution_count": null,
   "id": "23f599a4-f380-4427-aea7-209b88b0909f",
   "metadata": {},
   "outputs": [],
   "source": []
  },
  {
   "cell_type": "code",
   "execution_count": null,
   "id": "605ff296-4ac4-43a1-b64f-7479c6ed4d65",
   "metadata": {},
   "outputs": [],
   "source": []
  },
  {
   "cell_type": "code",
   "execution_count": null,
   "id": "d6c16b6c-48fe-44cd-a0df-45e30bfab447",
   "metadata": {},
   "outputs": [],
   "source": []
  },
  {
   "cell_type": "code",
   "execution_count": null,
   "id": "0f13b652-1c02-4cdb-b4da-c1ade2962f4f",
   "metadata": {},
   "outputs": [],
   "source": []
  },
  {
   "cell_type": "code",
   "execution_count": null,
   "id": "05f9553c-a5ae-4687-8ef6-a7a7e9f6a701",
   "metadata": {},
   "outputs": [],
   "source": []
  },
  {
   "cell_type": "code",
   "execution_count": null,
   "id": "cb7c0614-4929-4dd6-bcec-4f2696043b8d",
   "metadata": {},
   "outputs": [],
   "source": []
  },
  {
   "cell_type": "code",
   "execution_count": null,
   "id": "2fe46465-242d-4599-9d15-ee9f901d396e",
   "metadata": {},
   "outputs": [],
   "source": []
  },
  {
   "cell_type": "code",
   "execution_count": null,
   "id": "b12275a1-ee27-46bb-b219-4d6bebe3eba2",
   "metadata": {},
   "outputs": [],
   "source": []
  },
  {
   "cell_type": "code",
   "execution_count": null,
   "id": "552e843d-0386-421b-b4fc-bbf396984791",
   "metadata": {},
   "outputs": [],
   "source": []
  },
  {
   "cell_type": "code",
   "execution_count": null,
   "id": "9787b430-d110-4fb5-b352-5eab05a318a5",
   "metadata": {},
   "outputs": [],
   "source": []
  },
  {
   "cell_type": "code",
   "execution_count": null,
   "id": "2388b2a9-a717-4183-b450-4634bdbbeaa0",
   "metadata": {},
   "outputs": [],
   "source": []
  },
  {
   "cell_type": "code",
   "execution_count": null,
   "id": "26df3fef-b159-42c4-b2b1-485afd3ebfc3",
   "metadata": {},
   "outputs": [],
   "source": []
  },
  {
   "cell_type": "code",
   "execution_count": null,
   "id": "df2cefde-f7bb-458c-8fad-8e93df5f61b4",
   "metadata": {},
   "outputs": [],
   "source": []
  },
  {
   "cell_type": "code",
   "execution_count": null,
   "id": "6e406deb-9bbd-4609-9120-baaa76e2075c",
   "metadata": {},
   "outputs": [],
   "source": []
  }
 ],
 "metadata": {
  "kernelspec": {
   "display_name": "Python 3 (ipykernel)",
   "language": "python",
   "name": "python3"
  },
  "language_info": {
   "codemirror_mode": {
    "name": "ipython",
    "version": 3
   },
   "file_extension": ".py",
   "mimetype": "text/x-python",
   "name": "python",
   "nbconvert_exporter": "python",
   "pygments_lexer": "ipython3",
   "version": "3.11.5"
  }
 },
 "nbformat": 4,
 "nbformat_minor": 5
}
