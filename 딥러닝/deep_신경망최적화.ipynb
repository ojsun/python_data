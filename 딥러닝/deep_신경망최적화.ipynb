{
 "cells": [
  {
   "cell_type": "markdown",
   "id": "1a3288cf-3c6d-4306-bc11-be316dbd47be",
   "metadata": {},
   "source": [
    "### 신경망 최적화 / 과적합 방지"
   ]
  },
  {
   "cell_type": "code",
   "execution_count": 8,
   "id": "d571e2d6-fe7e-45e9-8882-79e967cccd5f",
   "metadata": {},
   "outputs": [],
   "source": [
    "import tensorflow as tf"
   ]
  },
  {
   "cell_type": "code",
   "execution_count": 9,
   "id": "bfb76e0e-def4-456a-99cc-ebea162ffd96",
   "metadata": {},
   "outputs": [],
   "source": [
    "import numpy as np\n",
    "import pandas as pd\n",
    "import matplotlib.pyplot as plt\n",
    "import seaborn as sns\n",
    "from scipy import stats\n",
    "import warnings\n",
    "warnings.filterwarnings('ignore')"
   ]
  },
  {
   "cell_type": "code",
   "execution_count": 10,
   "id": "4961a6ce-c349-420e-b811-71523d77fe12",
   "metadata": {},
   "outputs": [],
   "source": [
    "plt.rcParams['figure.figsize']=(7,4)  # figure 사이즈 변경\n",
    "sns.set_palette('twilight')\n",
    "pal_1=sns.color_palette('coolwarm', 10)\n",
    "pal_2=sns.color_palette('deep',10)\n",
    "\n",
    "from matplotlib import font_manager, rc\n",
    "font = 'C:/Windows/Fonts/malgun.ttf'\n",
    "font_name = font_manager.FontProperties(fname=font).get_name()\n",
    "rc('font', family=font_name)"
   ]
  },
  {
   "cell_type": "code",
   "execution_count": 2,
   "id": "16b3f1f1-e1f5-4710-8097-7720efd55322",
   "metadata": {},
   "outputs": [],
   "source": [
    "## 다층 신경망  : \n",
    "class DualLayer:     # 은닉층 1개\n",
    "    def __init__(self, units = 8):  # 클래스 만들때 모든 은닉층, 가중치 등 정해 틀 만들고 시작\n",
    "        self.units = units # 은닉층의 뉴런 개수\n",
    "        self.w1 = None    # 입력 > 은닉 가중치\n",
    "        self.b1 = None    # 입력 > 은닉 절편\n",
    "        self.w2 = None    # 은닉 > 출력 가중치\n",
    "        self.b2 = None    # 은닉 > 출력 절편\n",
    "        self.a1 = None    # 은닉층의 활성화 출력\n",
    "        self.losses = []\n",
    "    def forpass(self, x):\n",
    "        z1 = np.dot(x, self.w1) + self.b1\n",
    "        self.a1 = self.activation(z1)            # 상속 받아 활성함수는 시그모이드\n",
    "        z2 = np.dot(self.a1, self.w2) + self.b2  # np.dot 행렬\n",
    "        return z2\n",
    "    def backprop(self, x, err):\n",
    "        m = len(x)\n",
    "        # 은닉층 > 출력층 가중치, 절편 업데이트\n",
    "        w2_grad = np.dot(self.a1.T, err) / m    # 평균\n",
    "        b2_grad = np.sum(err) / m               # 평균\n",
    "        # 은닉층 오차\n",
    "        err_to_hidden = np.dot(err, self.w2.T) * self.a1 * (1 - self.a1)\n",
    "        # 입력층 > 은닉층 가중치, 절편 업데이트        \n",
    "        w1_grad = np.dot(x.T, err_to_hidden) / m\n",
    "        b1_grad = np.sum(err_to_hidden, axis=0) / m\n",
    "        return w1_grad, b1_grad, w2_grad, b2_grad\n",
    "    def activation(self, z):\n",
    "        z = np.clip(z, -100, None)\n",
    "        a = 1 / (1 + np.exp(-z))\n",
    "        return a\n",
    "    def predict(self, x):     # y 결과 값\n",
    "        z = self.forpass(x)\n",
    "        return z > 0\n",
    "    def score(self, x, y):\n",
    "        return np.mean(self.predict(x) == y.reshape(-1, 1))  \n",
    "  \n",
    "    def init_weights(self, n_features):        # 가중치 초기화  \n",
    "        self.w1 = np.ones((n_features, self.units))  # 2차원으로 만들어야 행렬곱 가능\n",
    "        self.b1 = np.zeros(self.units)\n",
    "        self.w2 = np.ones((self.units, 1))\n",
    "        self.b2 = 0\n",
    "    def training(self, x, y, m): ## 마지막 활성함수므로 분류할지 회귀할지 정하고 코드수정할것          \n",
    "        z = self.forpass(x)\n",
    "        a = self.activation(z)\n",
    "        err = -(y - a)\n",
    "        w1_grad, b1_grad, w2_grad, b2_grad = self.backprop(x, err)\n",
    "        self.w1 -= w1_grad \n",
    "        self.b1 -= b1_grad\n",
    "        self.w2 -= w2_grad \n",
    "        self.b2 -= b2_grad\n",
    "        return a\n",
    "    def fit(self, x, y, epochs = 100):  # \n",
    "        y = y.reshape(-1,1)\n",
    "        m = len(x)\n",
    "        self.init_weights(x.shape[1])\n",
    "        for i in range(epochs):\n",
    "            a = self.training(x, y, m)\n",
    "            a = np.clip(a, 1e-10, 1-1e-10)\n",
    "            loss = np.sum(-(y * np.log(a) + (1 - y) * np.log(1 - a)))\n",
    "            self.losses.append(loss / m)"
   ]
  },
  {
   "cell_type": "code",
   "execution_count": 4,
   "id": "ce06f2b1-90b6-40bc-a9f2-d0f196dd6f65",
   "metadata": {},
   "outputs": [],
   "source": [
    "from sklearn.datasets import load_breast_cancer\n",
    "from sklearn.model_selection import train_test_split\n",
    "import numpy as np\n",
    "from sklearn.preprocessing import StandardScaler\n",
    "\n",
    "cancer = load_breast_cancer()\n",
    "X = cancer.data\n",
    "y = cancer.target\n",
    "X_train, X_test, y_train, y_test = train_test_split(X, y, test_size = 0.2, random_state = 0)\n",
    "scaler = StandardScaler()\n",
    "scaler.fit(X_train)\n",
    "X_train_scaled = scaler.transform(X_train)\n",
    "X_test_scaled = scaler.transform(X_test)\n"
   ]
  },
  {
   "cell_type": "markdown",
   "id": "12dd5ddc-b802-4065-9265-0179b2f2dd8c",
   "metadata": {},
   "source": [
    "#### 1. 과적합 제어- 규제(L1,L2)"
   ]
  },
  {
   "cell_type": "code",
   "execution_count": null,
   "id": "d164ff45-246c-4119-9223-c477f3426d35",
   "metadata": {},
   "outputs": [],
   "source": [
    "class L1_regular(DualLayer): \n",
    "    def __init__(self, units = 10, l1 = 0):\n",
    "        self.units = units \n",
    "        self.w1 = None \n",
    "        self.b1 = None \n",
    "        self.w2 = None \n",
    "        self.b2 = None \n",
    "        self.a1 = None \n",
    "        self.l1 = l1\n",
    "        self.losses = []\n",
    "    def training(self, x, y, m):\n",
    "        z = self.forpass(x)\n",
    "        a = self.activation(z)\n",
    "        err = -(y - a)\n",
    "        w1_grad, b1_grad, w2_grad, b2_grad = self.backprop(x, err)\n",
    "        self.w1 -= w1_grad + self.l1 * np.sign(self.w1) \n",
    "        self.b1 -= b1_grad\n",
    "        self.w2 -= w2_grad + self.l1 * np.sign(self.w2)\n",
    "        self.b2 -= b2_grad \n",
    "        return a\n",
    "    "
   ]
  },
  {
   "cell_type": "code",
   "execution_count": null,
   "id": "2948bbac-21ae-433a-b8b6-920aee5c8cc5",
   "metadata": {},
   "outputs": [],
   "source": [
    "dual_layer = DualLayer()\n",
    "dual_layer.fit(X_train_scaled, y_train, epochs = 1000)\n",
    "print(dual_layer.score(X_test_scaled, y_test))\n",
    "l1 = L1_regular(l1 = 0.01)\n",
    "l1.fit(X_train_scaled, y_train, epochs = 1000)\n",
    "print(l1.score(X_test_scaled, y_test))"
   ]
  },
  {
   "cell_type": "code",
   "execution_count": null,
   "id": "9f4c9bae-a0d8-4816-ac73-0ea74d065b7e",
   "metadata": {},
   "outputs": [],
   "source": [
    "class L2_regular(DualLayer): \n",
    "    def __init__(self, units = 10, l2 = 0):\n",
    "        self.units = units \n",
    "        self.w1 = None \n",
    "        self.b1 = None \n",
    "        self.w2 = None \n",
    "        self.b2 = None \n",
    "        self.a1 = None \n",
    "        self.l2 = l2\n",
    "        self.losses = []\n",
    "    def training(self, x, y, m):\n",
    "        z = self.forpass(x)\n",
    "        a = self.activation(z)\n",
    "        err = -(y - a)\n",
    "        w1_grad, b1_grad, w2_grad, b2_grad = self.backprop(x, err)\n",
    "        self.w1 -= w1_grad + self.l2 * self.w1\n",
    "        self.b1 -= b1_grad\n",
    "        self.w2 -= w2_grad + self.l2 * self.w2\n",
    "        self.b2 -= b2_grad \n",
    "        return a\n",
    "    \n",
    "    def fit(self, x, y, epochs = 100):\n",
    "        y = y.reshape(-1,1)\n",
    "        m = len(x)\n",
    "        self.init_weights(x.shape[1]) \n",
    "        for i in range(epochs):\n",
    "            a = self.training(x, y, m)\n",
    "            a = np.clip(a, 1e-10, 1-1e-10)\n",
    "            loss = np.sum(-(y * np.log(a) + (1 - y) * np.log(1 - a))) + (self.l2 / 2) * (np.sum(self.w1 ** 2) + np.sum(self.w2 ** 2))\n",
    "            # l1일때\n",
    "#             loss = np.sum(-(y * np.log(a) + (1 - y) * np.log(1 - a))) + (self.l1) * (np.sum(np.abs(self.w1)) + np.sum(np.abs(self.w2)))\n",
    "            self.losses.append(loss / m)"
   ]
  },
  {
   "cell_type": "markdown",
   "id": "d7412f03-51cd-4fe7-8312-312fc07fa09d",
   "metadata": {},
   "source": [
    "#### 2. Learning rate를 넣어 학습효과 상승\n",
    "학습률일 작을수록 에폭스를 늘림-이럴 경우 과적합이 발생"
   ]
  },
  {
   "cell_type": "code",
   "execution_count": 5,
   "id": "9a619cf8-b344-4dc7-ba8c-d98d0a04fb75",
   "metadata": {},
   "outputs": [],
   "source": [
    "class Learning(DualLayer):   # 클래스 DualLayer 상속\n",
    "    def __init__(self, units = 10, learning_rate = 0.1):\n",
    "        self.units = units \n",
    "        self.w1 = None \n",
    "        self.b1 = None \n",
    "        self.w2 = None \n",
    "        self.b2 = None \n",
    "        self.a1 = None \n",
    "        self.lr = learning_rate\n",
    "        self.w_history = []\n",
    "        self.losses = []\n",
    "            \n",
    "    def training(self, x, y, m):\n",
    "        z = self.forpass(x)\n",
    "        a = self.activation(z)\n",
    "        err = -(y - a)\n",
    "        w1_grad, b1_grad, w2_grad, b2_grad = self.backprop(x, err)\n",
    "        self.w1 -= self.lr * w1_grad     # 학습률을 가중치(w)에 계산\n",
    "        self.b1 -= b1_grad\n",
    "        self.w2 -= self.lr * w2_grad\n",
    "        self.b2 -= b2_grad\n",
    "        return a\n",
    "    \n",
    "    def fit(self, x, y, epochs = 100):\n",
    "        y = y.reshape(-1,1)\n",
    "        m = len(x)\n",
    "        self.init_weights(x.shape[1])\n",
    "        self.w_history.append([self.w1.copy(), self.w2.copy()])\n",
    "        for i in range(epochs):\n",
    "            a = self.training(x, y, m)\n",
    "            a = np.clip(a, 1e-10, 1-1e-10)\n",
    "            loss = np.sum(-(y * np.log(a) + (1 - y) * np.log(1 - a)))\n",
    "            self.losses.append(loss / m)\n",
    "            self.w_history.append([self.w1.copy(), self.w2.copy()])\n"
   ]
  },
  {
   "cell_type": "code",
   "execution_count": 60,
   "id": "4ffce5b1-da39-427a-a837-f7a2ce0dd1ae",
   "metadata": {},
   "outputs": [
    {
     "name": "stdout",
     "output_type": "stream",
     "text": [
      "0.9649122807017544\n"
     ]
    },
    {
     "data": {
      "image/png": "[encoded data removed]",
      "text/plain": [
       "<Figure size 700x400 with 1 Axes>"
      ]
     },
     "metadata": {},
     "output_type": "display_data"
    }
   ],
   "source": [
    "learning = Learning(learning_rate=0.1)                # 학습율과\n",
    "learning.fit(X_train_scaled, y_train, epochs = 10000) # 에폭스값에 따라 결과 달라짐 \n",
    "print(learning.score(X_test_scaled, y_test))\n",
    "w1 = []\n",
    "for w in learning.w_history:\n",
    "    w1.append(w[0])\n",
    "for i,w in enumerate(w1):\n",
    "    plt.plot(i,w[0,0],'o')      ## 첫번째 w값의 첫번째 깂...첫."
   ]
  },
  {
   "cell_type": "code",
   "execution_count": 61,
   "id": "3fe1c3fb-3ce4-451c-9e67-515b1b8098ff",
   "metadata": {},
   "outputs": [
    {
     "data": {
      "image/png": "[encoded data removed]",
      "text/plain": [
       "<Figure size 700x400 with 1 Axes>"
      ]
     },
     "metadata": {},
     "output_type": "display_data"
    },
    {
     "name": "stdout",
     "output_type": "stream",
     "text": [
      "0.28362991655087816\n"
     ]
    }
   ],
   "source": [
    "# 손실/ 오차률\n",
    "learning = Learning(learning_rate=0.1)\n",
    "learning.fit(X_train_scaled, y_train, epochs = 1000)  \n",
    "\n",
    "plt.plot(learning.losses)\n",
    "plt.ylim(0,0.6)\n",
    "plt.xlabel('epoch')\n",
    "plt.ylabel('loss')\n",
    "plt.show()\n",
    "print(learning.losses[-1])"
   ]
  },
  {
   "cell_type": "code",
   "execution_count": null,
   "id": "239045f8-6f78-4378-a10f-b52f88dadc47",
   "metadata": {},
   "outputs": [],
   "source": [
    "learning.w_history      # 모든 가중치 w값 저장됨"
   ]
  },
  {
   "cell_type": "code",
   "execution_count": 20,
   "id": "8d7c644d-4480-4c32-a70c-01b55d96e12a",
   "metadata": {},
   "outputs": [
    {
     "data": {
      "text/plain": [
       "1.0"
      ]
     },
     "execution_count": 20,
     "metadata": {},
     "output_type": "execute_result"
    }
   ],
   "source": [
    "learning.w_history[0][0][0,0]    #  첫번째 w의 첫뻔쩨..."
   ]
  },
  {
   "cell_type": "markdown",
   "id": "d194c406-34a6-48be-bd58-fc310c4a0a69",
   "metadata": {},
   "source": [
    "#### 3. 검증 데이터를 통한 학습 진행 \n",
    ": 학습이 잘되는지 확인하는 방법 : 검증데이터의 loss가 더이상 줄어들지 않으면 학습 조기종료"
   ]
  },
  {
   "cell_type": "code",
   "execution_count": 62,
   "id": "85c8701d-5ce7-448e-a986-d35d45a1fdc7",
   "metadata": {},
   "outputs": [],
   "source": [
    "class Validation(DualLayer):\n",
    "    def __init__(self, units = 10):\n",
    "        self.units = units \n",
    "        self.w1 = None \n",
    "        self.b1 = None \n",
    "        self.w2 = None \n",
    "        self.b2 = None \n",
    "        self.a1 = None \n",
    "        self.losses = []\n",
    "        self.val_losses = []\n",
    "    \n",
    "    def fit(self, x, y, epochs = 100, x_val = None, y_val = None):\n",
    "        y = y.reshape(-1,1)\n",
    "        y_val = y_val.reshape(-1, 1)\n",
    "        m = len(x)\n",
    "        self.init_weights(x.shape[1])\n",
    "        for i in range(epochs):\n",
    "            a = self.training(x, y, m)\n",
    "            a = np.clip(a, 1e-10, 1-1e-10)\n",
    "            loss = np.sum(-(y * np.log(a) + (1 - y) * np.log(1 - a)))\n",
    "            self.losses.append(loss / m)\n",
    "            self.update_val_loss(x_val, y_val)   # 에포크가 한바뀌 돈 뒤에 1번씩 작동\n",
    "        \n",
    "    def update_val_loss(self, x_val, y_val):\n",
    "        if x_val is None:\n",
    "            return\n",
    "        val_loss = 0\n",
    "        z = self.forpass(x_val)\n",
    "        a = self.activation(z)\n",
    "        a = np.clip(a, 1e-10, 1-1e-10)\n",
    "        val_loss = np.sum(-(y_val * np.log(a) + (1 - y_val) * np.log(1 - a)))\n",
    "        self.val_losses.append(val_loss / len(x_val))"
   ]
  },
  {
   "cell_type": "code",
   "execution_count": 63,
   "id": "3b441824-7f5c-4dc1-8181-df12b592be9a",
   "metadata": {},
   "outputs": [
    {
     "name": "stdout",
     "output_type": "stream",
     "text": [
      "0.956140350877193\n"
     ]
    }
   ],
   "source": [
    "from sklearn.model_selection import train_test_split\n",
    "X_tr, X_val, y_tr, y_val = train_test_split(X_train_scaled, y_train, \n",
    "test_size = 0.2, random_state = 0)\n",
    "\n",
    "validation = Validation()\n",
    "validation.fit(X_tr, y_tr, epochs = 1000, x_val=X_val, y_val=y_val)\n",
    "print(validation.score(X_test_scaled, y_test))"
   ]
  },
  {
   "cell_type": "code",
   "execution_count": 64,
   "id": "fe708ad3-8370-4ea4-a639-3af6be8eb860",
   "metadata": {},
   "outputs": [
    {
     "data": {
      "image/png": "[encoded data removed]",
      "text/plain": [
       "<Figure size 700x400 with 1 Axes>"
      ]
     },
     "metadata": {},
     "output_type": "display_data"
    }
   ],
   "source": [
    "import matplotlib.pyplot as plt\n",
    "plt.ylim(0, 0.6)\n",
    "plt.plot(learning.losses, 'g', label='dual_loss')\n",
    "plt.plot(validation.losses, 'r', label='train_loss')\n",
    "plt.plot(validation.val_losses, 'b', label='val_loss')\n",
    "plt.ylabel('loss')\n",
    "plt.xlabel('epoch')\n",
    "plt.legend()\n",
    "plt.show()"
   ]
  },
  {
   "cell_type": "code",
   "execution_count": 65,
   "id": "7127192f-4cb2-404d-b2c2-a24fffa7824b",
   "metadata": {},
   "outputs": [
    {
     "name": "stdout",
     "output_type": "stream",
     "text": [
      "0.9298245614035088\n",
      "0.9473684210526315\n",
      "0.9298245614035088\n",
      "0.956140350877193\n"
     ]
    }
   ],
   "source": [
    "# 에폭스 횟수에 따른 정확도 차이 \n",
    "validation = Validation()\n",
    "validation.fit(X_tr, y_tr, epochs = 500, x_val=X_val, y_val=y_val)\n",
    "print(validation.score(X_test_scaled, y_test))\n",
    "\n",
    "validation = Validation()\n",
    "validation.fit(X_tr, y_tr, epochs = 600, x_val=X_val, y_val=y_val)\n",
    "print(validation.score(X_test_scaled, y_test))\n",
    "\n",
    "validation = Validation()\n",
    "validation.fit(X_tr, y_tr, epochs = 700, x_val=X_val, y_val=y_val)\n",
    "print(validation.score(X_test_scaled, y_test))\n",
    "\n",
    "validation = Validation()   # 정확도는 더 높으나 과적합으로 볼 수 있음\n",
    "validation.fit(X_tr, y_tr, epochs = 1000, x_val=X_val, y_val=y_val)\n",
    "print(validation.score(X_test_scaled, y_test))"
   ]
  },
  {
   "cell_type": "code",
   "execution_count": null,
   "id": "0852ea05-8530-45e7-a2d3-3e949c6c8dc8",
   "metadata": {},
   "outputs": [],
   "source": []
  },
  {
   "cell_type": "markdown",
   "id": "fc67a8c5-3eec-4309-83c8-47b4e8e8f2af",
   "metadata": {},
   "source": [
    "#### 4. 미니 배치 경사하강법 : 데이터를 나누어 학습하고 w,b를 업데이트"
   ]
  },
  {
   "cell_type": "code",
   "execution_count": 119,
   "id": "8bc248ed-9ab5-4ae2-8829-d1adb7d301fb",
   "metadata": {},
   "outputs": [],
   "source": [
    "class Minibatch(DualLayer):\n",
    "    def __init__(self, units = 10, batch_size = 4):\n",
    "        super().__init__(units)\n",
    "        self.batch_size = batch_size    # 몇 개씩 묶을지\n",
    "    \n",
    "    def fit(self, x, y, epochs = 100):\n",
    "        self.init_weights(x.shape[1])\n",
    "        for i in range(epochs):\n",
    "            loss = 0\n",
    "            cnt=0\n",
    "            for x_batch, y_batch in self.gen_batch(x, y):\n",
    "                cnt += 1\n",
    "                y_batch = y_batch.reshape(-1, 1)\n",
    "                m = len(x_batch)\n",
    "                a = self.training(x_batch, y_batch, m)\n",
    "                a = np.clip(a, 1e-10, 1-1e-10)\n",
    "                loss += np.sum(-(y_batch * np.log(a) + (1 - y_batch) * np.log(1 - a)))\n",
    "            self.losses.append(loss / len(x))   # 에포크가 한바뀌 돈 뒤에 1번씩 작동\n",
    " #           print('### epochs당 학습횟수', cnt)\n",
    "    \n",
    "    def gen_batch(self, x, y):\n",
    "        length = len(x)\n",
    "        bins = length // self.batch_size  \n",
    "        if length % self.batch_size:\n",
    "            bins += 1\n",
    "        indexes = np.random.permutation(np.arange(len(x)))\n",
    "        x = x[indexes]\n",
    "        y = y[indexes]\n",
    "        for i in range(bins):\n",
    "            start = self.batch_size * i\n",
    "            end = self.batch_size * (i + 1)\n",
    "            yield x[start:end], y[start:end]"
   ]
  },
  {
   "cell_type": "code",
   "execution_count": 120,
   "id": "9cbb7a83-d197-441d-bd1e-cf9d56565947",
   "metadata": {},
   "outputs": [
    {
     "name": "stdout",
     "output_type": "stream",
     "text": [
      "0.956140350877193\n",
      "0.9736842105263158\n"
     ]
    }
   ],
   "source": [
    "dual_layer = DualLayer()\n",
    "dual_layer.fit(X_train_scaled, y_train, epochs = 1000)\n",
    "print(dual_layer.score(X_test_scaled, y_test))\n",
    "\n",
    "minibatch = Minibatch(batch_size=5)\n",
    "minibatch.fit(X_train_scaled, y_train, epochs = 1000)   # \n",
    "print(minibatch.score(X_test_scaled, y_test))"
   ]
  },
  {
   "cell_type": "code",
   "execution_count": 121,
   "id": "e572161c-ee3c-4734-a3e7-7d305de36247",
   "metadata": {
    "scrolled": true
   },
   "outputs": [
    {
     "data": {
      "image/png": "[encoded data removed]",
      "text/plain": [
       "<Figure size 700x400 with 1 Axes>"
      ]
     },
     "metadata": {},
     "output_type": "display_data"
    }
   ],
   "source": [
    "plt.plot(dual_layer.losses, 'r', label = 'dual')\n",
    "plt.plot(minibatch.losses, 'b', label = 'minibatch')\n",
    "plt.ylim(0,0.6)\n",
    "plt.xlabel('epoch')\n",
    "plt.ylabel('loss')\n",
    "plt.legend()\n",
    "plt.show()"
   ]
  },
  {
   "cell_type": "markdown",
   "id": "41883e70-7015-4c8d-9092-ee0033bc4b8e",
   "metadata": {},
   "source": [
    "#### 5. 드롭 아웃 : 뉴런의 연결을 랜덤하게 삭제하여 과적합을 막는 기법"
   ]
  },
  {
   "cell_type": "code",
   "execution_count": 90,
   "id": "85281f24-c58b-4b5c-9699-28f704eabd73",
   "metadata": {},
   "outputs": [],
   "source": [
    "class Dropout(DualLayer):\n",
    "    def __init__(self, units = 10, dropout = 0.5):\n",
    "        super().__init__(units)\n",
    "        self.dropout = dropout\n",
    "    def drop(self, z):\n",
    "        if self.dropout == 1:\n",
    "            return np.zeros_like(z)\n",
    "        mask = np.random.uniform(0, 1, z.shape) > self.dropout\n",
    "        return (mask * z) / (1.0 - self.dropout)\n",
    "    \n",
    "    def training(self, x, y, m):\n",
    "        z = self.forpass(x)\n",
    "        z = self.drop(z) # 드롭 아웃 적용\n",
    "        a = self.activation(z)\n",
    "        err = -(y - a)\n",
    "        w1_grad, b1_grad, w2_grad, b2_grad = self.backprop(x, err)\n",
    "        self.w1 -= w1_grad\n",
    "        self.b1 -= b1_grad\n",
    "        self.w2 -= w2_grad\n",
    "        self.b2 -= b2_grad\n",
    "        return a"
   ]
  },
  {
   "cell_type": "code",
   "execution_count": 100,
   "id": "8f8695c8-c47b-4dfe-a3f6-e846a2f1ddae",
   "metadata": {},
   "outputs": [
    {
     "name": "stdout",
     "output_type": "stream",
     "text": [
      "0.956140350877193\n",
      "0.956140350877193\n"
     ]
    }
   ],
   "source": [
    "dual_layer = DualLayer()\n",
    "dual_layer.fit(X_train_scaled, y_train, epochs = 1000)\n",
    "print(dual_layer.score(X_test_scaled, y_test))\n",
    "\n",
    "dropout = Dropout()\n",
    "dropout.fit(X_train_scaled, y_train, epochs = 1000)\n",
    "print(dropout.score(X_test_scaled, y_test))"
   ]
  },
  {
   "cell_type": "code",
   "execution_count": 92,
   "id": "899a5f57-a505-4b4a-bf59-72a69556f5c6",
   "metadata": {},
   "outputs": [
    {
     "data": {
      "image/png": "[encoded data removed]",
      "text/plain": [
       "<Figure size 700x400 with 1 Axes>"
      ]
     },
     "metadata": {},
     "output_type": "display_data"
    }
   ],
   "source": [
    "plt.plot(dual_layer.losses, 'b', label = 'dual')\n",
    "plt.plot(dropout.losses, 'r', label = 'dropout')\n",
    "plt.ylim(0,1.5)\n",
    "plt.xlabel('epoch')\n",
    "plt.ylabel('loss')\n",
    "plt.legend()\n",
    "plt.show()"
   ]
  },
  {
   "cell_type": "markdown",
   "id": "099540ae-e753-4565-84c5-dfb5a215a149",
   "metadata": {},
   "source": [
    "#### 6. 조기 종료 : 검증데이터의 loss가 더이상 줄지않으면 학습 조기종료"
   ]
  },
  {
   "cell_type": "code",
   "execution_count": 116,
   "id": "b0bc0c53-f48a-4181-bf87-6b00486dec29",
   "metadata": {},
   "outputs": [],
   "source": [
    "class Early_stop(Validation):\n",
    "    def __init__(self, units = 10, earlystop = 10):\n",
    "        super().__init__(units)\n",
    "        self.minloss = None\n",
    "        self.earlystop = earlystop\n",
    "    \n",
    "    def fit(self, x, y, epochs = 100, x_val = None, y_val = None):\n",
    "        y = y.reshape(-1,1)\n",
    "        y_val = y_val.reshape(-1, 1)\n",
    "        m = len(x)\n",
    "        self.init_weights(x.shape[1])\n",
    "        for i in range(epochs):        \n",
    "            a = self.training(x, y, m)\n",
    "            a = np.clip(a, 1e-10, 1-1e-10)\n",
    "            loss = np.sum(-(y * np.log(a) + (1 - y) * np.log(1 - a)))\n",
    "            self.losses.append(loss / m)\n",
    "            self.update_val_loss(x_val, y_val)  \n",
    "            if i == (self.earlystop - 1):\n",
    "                self.minloss = min(self.val_losses)\n",
    "            if i >= self.earlystop:\n",
    "                if self.minloss < min(self.val_losses[-self.earlystop:]): # 최솟값이 갱신괸다면\n",
    "                    print(f'EarlyStop : Epochs {i}')\n",
    "                    break\n",
    "                else:\n",
    "                    self.minloss = min(self.val_losses)"
   ]
  },
  {
   "cell_type": "code",
   "execution_count": 117,
   "id": "7aa1c4bb-9701-423b-840a-196ba23b4603",
   "metadata": {},
   "outputs": [],
   "source": [
    "early_stop = Early_stop(earlystop = 100)\n",
    "early_stop.fit(X_tr, y_tr, epochs = 1000, x_val=X_val, y_val=y_val)\n",
    "# print(early_stop.score(X_test_scaled, y_test))"
   ]
  },
  {
   "cell_type": "code",
   "execution_count": 118,
   "id": "a9318b68-6ceb-4f42-857e-0ed0b797b118",
   "metadata": {},
   "outputs": [
    {
     "data": {
      "image/png": "[encoded data removed]",
      "text/plain": [
       "<Figure size 700x400 with 1 Axes>"
      ]
     },
     "metadata": {},
     "output_type": "display_data"
    }
   ],
   "source": [
    "plt.plot(early_stop.losses, 'r', label='train_loss')\n",
    "plt.plot(early_stop.val_losses, 'b', label='val_loss')\n",
    "plt.ylabel('loss')\n",
    "plt.xlabel('epoch')\n",
    "plt.ylim(0.1, 0.6)\n",
    "plt.legend()\n",
    "plt.show()"
   ]
  },
  {
   "cell_type": "code",
   "execution_count": null,
   "id": "ccbecccd-4cc0-408e-bbed-dbb7c0ed42ce",
   "metadata": {},
   "outputs": [],
   "source": []
  },
  {
   "cell_type": "markdown",
   "id": "1c6e1d25-dbb8-4437-ad7d-ffdddd0e66e8",
   "metadata": {},
   "source": [
    "#### 7. 옵티마이저"
   ]
  },
  {
   "cell_type": "code",
   "execution_count": null,
   "id": "142fbf06-b279-4152-ab8c-e88f1f9efbc5",
   "metadata": {},
   "outputs": [],
   "source": [
    "## Momentum\n",
    "class Momentum(DualLayer):\n",
    "    def __init__(self, units = 10, learning_rate = 0.01, momentum = 0.9):\n",
    "        super().__init__(units)\n",
    "        self.lr = learning_rate\n",
    "        self.momentum = momentum\n",
    "        self.v1 = None\n",
    "        self.v2 = None\n",
    "    def training(self, x, y, m):\n",
    "        z = self.forpass(x)\n",
    "        a = self.activation(z)\n",
    "        err = -(y - a)\n",
    "        w1_grad, b1_grad, w2_grad, b2_grad = self.backprop(x, err)\n",
    "        if self.v1 is None:\n",
    "            self.v1 = np.zeros_like(self.w1)\n",
    "            self.v2 = np.zeros_like(self.w2)\n",
    "            self.v1 = - self.lr * w1_grad + self.momentum * self.v1\n",
    "            self.v2 = - self.lr * w2_grad + self.momentum * self.v2\n",
    "            self.w1 -= self.lr * w1_grad - self.momentum * self.v1\n",
    "            self.b1 -= b1_grad\n",
    "            self.w2 -= self.lr * w2_grad - self.momentum * self.v2\n",
    "            self.b2 -= b2_grad\n",
    "            return a"
   ]
  },
  {
   "cell_type": "code",
   "execution_count": null,
   "id": "2c58e0b2-efa1-4357-aee1-16c9625a027f",
   "metadata": {},
   "outputs": [],
   "source": [
    "dual_layer = DualLayer()\n",
    "dual_layer.fit(X_train_scaled, y_train, epochs = 10000)\n",
    "print(dual_layer.score(X_test_scaled, y_test))\n",
    "momentum = Momentum()\n",
    "momentum.fit(X_train_scaled, y_train, epochs = 10000)\n",
    "print(momentum.score(X_test_scaled, y_test))"
   ]
  },
  {
   "cell_type": "code",
   "execution_count": null,
   "id": "728866d9-6672-4e10-be0f-d69184340e51",
   "metadata": {},
   "outputs": [],
   "source": [
    "plt.plot(dual_layer.losses, 'r', label = 'dual')\n",
    "plt.plot(momentum.losses, 'b', label = 'momentum')\n",
    "plt.ylim(0,0.6)\n",
    "plt.xlabel('epoch')\n",
    "plt.ylabel('loss')\n",
    "plt.legend()\n",
    "plt.show()"
   ]
  },
  {
   "cell_type": "code",
   "execution_count": null,
   "id": "9714a518-d031-4e7a-b2cf-d5dacd87b767",
   "metadata": {},
   "outputs": [],
   "source": [
    "## RMSprop(\n",
    "class RMSprop(DualLayer):\n",
    "    def __init__(self, units = 10, learning_rate = 0.1, decay_rate = 0.99):\n",
    "        super().__init__(units)\n",
    "        self.lr = learning_rate\n",
    "        self.decay_rate = decay_rate\n",
    "        self.h1 = None\n",
    "        self.h2 = None\n",
    "        self.epsilon = 1e-6\n",
    "    def training(self, x, y, m):\n",
    "        z = self.forpass(x)\n",
    "        a = self.activation(z)\n",
    "        err = -(y - a)\n",
    "        w1_grad, b1_grad, w2_grad, b2_grad = self.backprop(x, err)\n",
    "        if self.h1 is None:\n",
    "            self.h1 = np.zeros_like(self.w1)\n",
    "            self.h2 = np.zeros_like(self.w2)\n",
    "            self.h1 *= self.decay_rate\n",
    "            self.h2 *= self.decay_rate\n",
    "            self.h1 += w1_grad * w1_grad * (1-self.decay_rate) \n",
    "            self.h2 += w2_grad * w2_grad * (1-self.decay_rate)\n",
    "            self.w1 -= self.lr * w1_grad / (np.sqrt(self.h1 + self.epsilon))\n",
    "            self.b1 -= b1_grad\n",
    "            self.w2 -= self.lr * w2_grad / (np.sqrt(self.h2 + self.epsilon))\n",
    "            self.b2 -= b2_grad\n",
    "            return a"
   ]
  },
  {
   "cell_type": "code",
   "execution_count": null,
   "id": "472524d9-04bf-40e8-bf98-cf88f7885435",
   "metadata": {},
   "outputs": [],
   "source": [
    "dual_layer = DualLayer()\n",
    "dual_layer.fit(X_train_scaled, y_train, epochs = 15000)\n",
    "print(dual_layer.score(X_test_scaled, y_test))\n",
    "adagrad = Adagrad()\n",
    "adagrad.fit(X_train_scaled, y_train, epochs = 15000)\n",
    "print(adagrad.score(X_test_scaled, y_test))"
   ]
  },
  {
   "cell_type": "code",
   "execution_count": null,
   "id": "fc3eeee3-ac1a-4b13-94ae-e0f8ef0a988e",
   "metadata": {},
   "outputs": [],
   "source": [
    "plt.plot(dual_layer.losses, 'r', label = 'dual')\n",
    "plt.plot(rmsprop.losses, 'b', label = 'rmsprop')\n",
    "plt.ylim(0,0.6)\n",
    "plt.xlabel('epoch')\n",
    "plt.ylabel('loss')\n",
    "plt.legend()\n",
    "plt.show()"
   ]
  },
  {
   "cell_type": "code",
   "execution_count": null,
   "id": "a3371e5a-6b0e-4e48-bf86-2b068663bcde",
   "metadata": {},
   "outputs": [],
   "source": [
    "## Adam\n",
    "class Adam(DualLayer):\n",
    "    def __init__(self, units = 10, learning_rate = 0.01, beta1 = 0.9, beta2 = 0.999):\n",
    "    super().__init__(units)\n",
    "        self.lr = learning_rate\n",
    "        self.beta1 = beta1\n",
    "        self.beta2 = beta2\n",
    "        self.m1 = None\n",
    "        self.m2 = None\n",
    "        self.v1 = None\n",
    "        self.v2 = None\n",
    "        self.iter = 0\n",
    "        self.epsilon = 1e-6\n",
    "    def training(self, x, y, m):\n",
    "        z = self.forpass(x)\n",
    "        a = self.activation(z)\n",
    "        err = -(y - a)\n",
    "        w1_grad, b1_grad, w2_grad, b2_grad = self.backprop(x, err)\n",
    "        if self.m1 is None:\n",
    "            self.m1 = np.zeros_like(self.w1)\n",
    "            self.m2 = np.zeros_like(self.w2)\n",
    "            self.v1 = np.zeros_like(self.w1)\n",
    "            self.v2 = np.zeros_like(self.w2)\n",
    "            self.m1 *= self.beta1\n",
    "            self.v1 *= self.beta2\n",
    "            self.m1 += ((1 - self.beta1) * w1_grad) / (1 - self.beta1)\n",
    "            self.v1 += ((1 - self.beta2) * w1_grad * w1_grad) / (1 - self.beta2)\n",
    "            self.m2 *= self.beta1\n",
    "            self.v2 *= self.beta2\n",
    "            self.m2 += ((1 - self.beta1) * w2_grad) / (1 - self.beta1)\n",
    "            self.v2 += ((1 - self.beta2) * w2_grad * w2_grad) / (1 - self.beta2)\n",
    "            self.w1 -= self.lr * self.m1 / (np.sqrt(self.v1) + self.epsilon)\n",
    "            self.b1 -= b1_grad\n",
    "            self.w2 -= self.lr * self.m2 / (np.sqrt(self.v2) + self.epsilon)\n",
    "            self.b2 -= b2_grad\n",
    "            return a"
   ]
  },
  {
   "cell_type": "code",
   "execution_count": null,
   "id": "485e83ec-2c61-4871-a21f-0b81391c7910",
   "metadata": {},
   "outputs": [],
   "source": [
    "dual_layer = DualLayer()\n",
    "dual_layer.fit(X_train_scaled, y_train, epochs = 10000)\n",
    "print(dual_layer.score(X_test_scaled, y_test))\n",
    "adam = Adam()\n",
    "adam.fit(X_train_scaled, y_train, epochs = 10000)\n",
    "print(adam.score(X_test_scaled, y_test))"
   ]
  },
  {
   "cell_type": "code",
   "execution_count": null,
   "id": "1329d72d-b0d4-4ec8-84c6-08ea5dccb44d",
   "metadata": {},
   "outputs": [],
   "source": [
    "plt.plot(dual_layer.losses, 'r', label = 'dual')\n",
    "plt.plot(adam.losses, 'b', label = 'Adam')\n",
    "plt.ylim(0,0.6)\n",
    "plt.xlabel('epoch')\n",
    "plt.ylabel('loss')\n",
    "plt.legend()\n",
    "plt.show()"
   ]
  }
 ],
 "metadata": {
  "kernelspec": {
   "display_name": "Python 3 (ipykernel)",
   "language": "python",
   "name": "python3"
  },
  "language_info": {
   "codemirror_mode": {
    "name": "ipython",
    "version": 3
   },
   "file_extension": ".py",
   "mimetype": "text/x-python",
   "name": "python",
   "nbconvert_exporter": "python",
   "pygments_lexer": "ipython3",
   "version": "3.11.5"
  }
 },
 "nbformat": 4,
 "nbformat_minor": 5
}
