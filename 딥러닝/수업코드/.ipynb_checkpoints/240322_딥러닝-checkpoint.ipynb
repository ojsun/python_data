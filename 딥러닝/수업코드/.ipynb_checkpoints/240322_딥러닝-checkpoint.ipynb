{
 "cells": [
  {
   "cell_type": "code",
   "execution_count": 1,
   "id": "ad28eeaa",
   "metadata": {},
   "outputs": [
    {
     "name": "stdout",
     "output_type": "stream",
     "text": [
      "(455, 30) (114, 30)\n"
     ]
    }
   ],
   "source": [
    "from sklearn.datasets import load_breast_cancer\n",
    "from sklearn.model_selection import train_test_split\n",
    "cancer = load_breast_cancer()\n",
    "x = cancer.data\n",
    "y = cancer.target\n",
    "X_train, X_test, y_train, y_test = train_test_split(x, y, test_size = 0.2, random_state = 0)\n",
    "print(X_train.shape, X_test.shape)"
   ]
  },
  {
   "cell_type": "code",
   "execution_count": 4,
   "id": "d7e9a608",
   "metadata": {},
   "outputs": [
    {
     "data": {
      "text/plain": [
       "array(['malignant', 'benign'], dtype='<U9')"
      ]
     },
     "execution_count": 4,
     "metadata": {},
     "output_type": "execute_result"
    }
   ],
   "source": [
    "cancer.target_names"
   ]
  },
  {
   "cell_type": "code",
   "execution_count": 6,
   "id": "5c56bc17",
   "metadata": {},
   "outputs": [
    {
     "data": {
      "text/plain": [
       "'worst perimeter'"
      ]
     },
     "execution_count": 6,
     "metadata": {},
     "output_type": "execute_result"
    }
   ],
   "source": [
    "cancer.feature_names[22]"
   ]
  },
  {
   "cell_type": "code",
   "execution_count": 45,
   "id": "a5b7424b",
   "metadata": {},
   "outputs": [],
   "source": [
    "x = cancer.data[:, 22]\n",
    "y = cancer.target"
   ]
  },
  {
   "cell_type": "code",
   "execution_count": 46,
   "id": "d9079a79",
   "metadata": {},
   "outputs": [],
   "source": [
    "w = 1\n",
    "b = 1"
   ]
  },
  {
   "cell_type": "code",
   "execution_count": 49,
   "id": "4384a354",
   "metadata": {},
   "outputs": [],
   "source": [
    "from sklearn.preprocessing import StandardScaler\n",
    "\n",
    "scaler = StandardScaler()\n",
    "x_scaled = scaler.fit_transform(x.reshape(-1,1))\n",
    "x = x_scaled.flatten()"
   ]
  },
  {
   "cell_type": "code",
   "execution_count": 41,
   "id": "80b8f2d5",
   "metadata": {},
   "outputs": [],
   "source": [
    "import numpy as np"
   ]
  },
  {
   "cell_type": "code",
   "execution_count": 50,
   "id": "8b918130",
   "metadata": {},
   "outputs": [
    {
     "name": "stdout",
     "output_type": "stream",
     "text": [
      "-6.753469411495247 1.5315343991725152\n"
     ]
    }
   ],
   "source": [
    "w = 1\n",
    "b = 1\n",
    "for i in range(100):\n",
    "    for x_i, y_i in zip(x, y):\n",
    "        z = x_i * w + b\n",
    "        # 분류 > 활성화함수(시그모이드)\n",
    "        a = 1 / (1 + np.exp(-z))\n",
    "        if a > 0.5:\n",
    "            y_hat = 1\n",
    "        else:\n",
    "            y_hat = 0\n",
    "        err = y_i - a\n",
    "        w_rate = x_i\n",
    "        b_rate = 1\n",
    "        w = w + w_rate * err\n",
    "        b = b + b_rate * err\n",
    "print(w, b)"
   ]
  },
  {
   "cell_type": "code",
   "execution_count": 30,
   "id": "938f9ddd",
   "metadata": {},
   "outputs": [
    {
     "data": {
      "text/plain": [
       "(-1.6933610341815326, 4.287337462505881)"
      ]
     },
     "execution_count": 30,
     "metadata": {},
     "output_type": "execute_result"
    }
   ],
   "source": [
    "x.min(), x.max()"
   ]
  },
  {
   "cell_type": "code",
   "execution_count": 52,
   "id": "8f9bd026",
   "metadata": {},
   "outputs": [
    {
     "data": {
      "image/png": "[encoded data removed]",
      "text/plain": [
       "<Figure size 640x480 with 1 Axes>"
      ]
     },
     "metadata": {},
     "output_type": "display_data"
    }
   ],
   "source": [
    "import matplotlib.pyplot as plt\n",
    "\n",
    "plt.scatter(x, y)\n",
    "xx = np.linspace(-2, 4.5, 100)\n",
    "z = w * xx + b\n",
    "a = 1 / (1 + np.exp(-z))\n",
    "plt.plot(xx, a, color='red')\n",
    "plt.xlabel('x'); plt.ylabel('y')\n",
    "plt.ylim(-0.5, 1.5)\n",
    "\n",
    "\n",
    "pt1 = (-2, -2 * w + b)\n",
    "pt2 = (4.5, 4.5 * w + b)\n",
    "plt.plot([pt1[0], pt2[0]], [pt1[1], pt2[1]], color='green')\n",
    "\n",
    "plt.show()"
   ]
  },
  {
   "cell_type": "code",
   "execution_count": null,
   "id": "2cc5504e",
   "metadata": {},
   "outputs": [],
   "source": []
  }
 ],
 "metadata": {
  "kernelspec": {
   "display_name": "Python 3 (ipykernel)",
   "language": "python",
   "name": "python3"
  },
  "language_info": {
   "codemirror_mode": {
    "name": "ipython",
    "version": 3
   },
   "file_extension": ".py",
   "mimetype": "text/x-python",
   "name": "python",
   "nbconvert_exporter": "python",
   "pygments_lexer": "ipython3",
   "version": "3.11.5"
  }
 },
 "nbformat": 4,
 "nbformat_minor": 5
}
