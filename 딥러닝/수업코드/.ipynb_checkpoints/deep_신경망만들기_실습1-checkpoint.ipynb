{
 "cells": [
  {
   "cell_type": "code",
   "execution_count": null,
   "id": "04fa5cc0-3c64-48f4-a9fc-442bd9799ae3",
   "metadata": {},
   "outputs": [],
   "source": []
  },
  {
   "cell_type": "code",
   "execution_count": 2,
   "id": "8a12b419-d799-4bda-9990-40127614dcad",
   "metadata": {},
   "outputs": [],
   "source": [
    "import tensorflow as tf"
   ]
  },
  {
   "cell_type": "code",
   "execution_count": 3,
   "id": "09412318-5348-4992-acac-9fe1b787c80e",
   "metadata": {},
   "outputs": [],
   "source": [
    "import numpy as np\n",
    "import pandas as pd\n",
    "import matplotlib.pyplot as plt\n",
    "import seaborn as sns\n",
    "from scipy import stats\n",
    "import warnings\n",
    "warnings.filterwarnings('ignore')"
   ]
  },
  {
   "cell_type": "code",
   "execution_count": 4,
   "id": "9a2e60e2-9fe2-4c72-8866-58a5ddcb7250",
   "metadata": {},
   "outputs": [],
   "source": [
    "plt.rcParams['figure.figsize']=(7,4)  # figure 사이즈 변경\n",
    "sns.set_palette('twilight')\n",
    "pal_1=sns.color_palette('coolwarm', 10)\n",
    "pal_2=sns.color_palette('deep',10)\n",
    "\n",
    "from matplotlib import font_manager, rc\n",
    "font = 'C:/Windows/Fonts/malgun.ttf'\n",
    "font_name = font_manager.FontProperties(fname=font).get_name()\n",
    "rc('font', family=font_name)"
   ]
  },
  {
   "cell_type": "markdown",
   "id": "fb2d5a12-ab65-479b-9aa4-a581e2a40dfb",
   "metadata": {},
   "source": [
    "### 1.신경망 만들기 실습: 이진 분류를 위한 신경망ntum\r\n"
   ]
  },
  {
   "cell_type": "raw",
   "id": "88be2e6c-925f-4f36-9bd8-27747c10780f",
   "metadata": {},
   "source": [
    "▪ 입력 – 출력의 인공 신경망\n",
    "▪ 활성화 함수로 sigmoid 함수\n",
    "▪ Weight는 Xavier 랜덤 초기화, Bias는 0\n",
    "▪ 규제 L2 적용\n",
    "▪ learning_rate = 0.1, batch_size = 32, l2 = 0.1, momentum = 0.9\n",
    "▪ 옵티마이저는 Momentum"
   ]
  },
  {
   "cell_type": "code",
   "execution_count": 6,
   "id": "deb426a1-5213-4380-b8cf-525332df734a",
   "metadata": {},
   "outputs": [],
   "source": [
    "from sklearn.datasets import load_breast_cancer\n",
    "from sklearn.model_selection import train_test_split\n",
    "import numpy as np\n",
    "from sklearn.preprocessing import StandardScaler\n",
    "\n",
    "cancer = load_breast_cancer()\n",
    "X = cancer.data\n",
    "y = cancer.target\n",
    "X_train, X_test, y_train, y_test = train_test_split(X, y, test_size = 0.2, random_state = 0)\n",
    "scaler = StandardScaler()\n",
    "scaler.fit(X_train)\n",
    "X_train_scaled = scaler.transform(X_train)\n",
    "X_test_scaled = scaler.transform(X_test)\n"
   ]
  },
  {
   "cell_type": "code",
   "execution_count": 9,
   "id": "128a5207-e0ad-4072-aa77-57ef2f98ad64",
   "metadata": {},
   "outputs": [],
   "source": [
    "class LogisticNeuron:\n",
    "    # 기본 가중치 생성\n",
    "    def __init__(self):\n",
    "        self.w = None    \n",
    "        self.b = None\n",
    "        self.losses = []\n",
    "        self.lr=learning_rate\n",
    "        self.batch_size=batch_size\n",
    "        self.l2=l2\n",
    "        self.momentum=momentum\n",
    "    # 정방향 계산 함수\n",
    "    def forpass(self, x):\n",
    "        z = np.dot(x, self.w) + self.b1\n",
    "        return z\n",
    "    # 활성함수(시그모이드 함수)\n",
    "    def sigmoid(self, z):\n",
    "        z = np.clip(z, -100, None)\n",
    "        a = 1 / (1 + np.exp(-z))\n",
    "        return a\n",
    "    # 가중치 업데이트: 역전파\n",
    "    def backprop(self, x, err):\n",
    "        w_grad = np.dot(x.T, err) / m    # 평균\n",
    "        b_grad = np.sum(err) / m         # 평균\n",
    "        return w_grad, b_grad\n",
    "\n",
    "    def init_weights(self, n_features):\n",
    "        self.w1 = np.random.normal(0, 2 / np.sqrt(n_features + 1), (n_features,1))\n",
    "        self.b =np.zeros(1)\n",
    "        \n",
    "    # 훈련을 위한 fit() 메서드 생성\n",
    "    def fit(self, x, y, epochs = 100):\n",
    "        self.init_weights(x.shape[1])\n",
    "        y = y.reshape(-1,1)\n",
    "        m = len(x)\n",
    "        for i in range(epochs):\n",
    "            a = self.training(x, y, m)\n",
    "            a = np.clip(a, 1e-10, 1-1e-10)\n",
    "            loss = np.sum(-(y * np.log(a) + (1 - y) * np.log(1 - a)))\n",
    "            self.losses.append(loss / m)\n",
    "\n",
    "    def gen_batch(self, x, y):\n",
    "        length = len(x)\n",
    "        bins = length // self.batch_size  \n",
    "        if length % self.batch_size:\n",
    "            bins += 1\n",
    "        indexes = np.random.permutation(np.arange(len(x)))\n",
    "        x = x[indexes]\n",
    "        y = y[indexes]\n",
    "        for i in range(bins):\n",
    "            start = self.batch_size * i\n",
    "            end = self.batch_size * (i + 1)\n",
    "            yield x[start:end], y[start:end]\n",
    "            \n",
    "    def training(self, x, y, m):     \n",
    "        z = self.forpass(x)\n",
    "        a = self.sigmoid(z)\n",
    "        err = -(y - a)\n",
    "        w1_grad, b_grad = self.backprop(x, err)\n",
    "        self.w -= self.lr * w_grad \n",
    "        self.b -= b_grad\n",
    "        return a\n",
    "\n",
    "    def loss_function(self, y,a):\n",
    "        a = np.clip(a, 1e-10, 1-1e-10)\n",
    "        loss = np.sum(-(y * np.log(a) + (1 - y) * np.log(1 - a)))\n",
    "        self.losses.append(loss / m)\n",
    "        self.w_history.append(self.w.copy())\n",
    "        \n",
    "    # 예측 함수 생성\n",
    "    def predict(self, x):\n",
    "        z = [self.forpass(x_i) for x_i in x]   # 리스트에 넣기\n",
    "        a = self.activation(np.array(z))\n",
    "        return a > 0.5   # bool 이므로 0,1이 어차피 출력됨\n",
    "\n",
    "    def predict_proba(self,  x):\n",
    "        z=self.forpass(x)\n",
    "        a=self.sigmoid(z)\n",
    "        return np.hstack([(1-a),a])\n",
    "\n",
    "    def score(self, x,y):\n",
    "        return np.mean(self.predict(x) == y.reshape(-1,1))"
   ]
  },
  {
   "cell_type": "code",
   "execution_count": null,
   "id": "4318ee17-e969-4dcb-ada4-dece7322d2c6",
   "metadata": {},
   "outputs": [],
   "source": [
    "logistic=LogisticNeuron(l2=0.01, learning_rate=0.01, batch_size=16)"
   ]
  },
  {
   "cell_type": "code",
   "execution_count": null,
   "id": "56fabf3b-fd52-4519-a5b5-3c9a86d6a294",
   "metadata": {},
   "outputs": [],
   "source": [
    "logistic.fit(X_train_scaled, y_test, epochs=2000)"
   ]
  },
  {
   "cell_type": "code",
   "execution_count": null,
   "id": "14dd86cd-2c96-4a0f-bc75-d68016de7774",
   "metadata": {},
   "outputs": [],
   "source": [
    "pred=logistic.predict(X_test)"
   ]
  },
  {
   "cell_type": "code",
   "execution_count": null,
   "id": "c107acc1-b5e7-4579-b440-1ce1a685b624",
   "metadata": {},
   "outputs": [],
   "source": [
    "credict=pd.read_csv('')"
   ]
  },
  {
   "cell_type": "code",
   "execution_count": null,
   "id": "66335bde-d89d-40a2-b58e-36c9197f2194",
   "metadata": {},
   "outputs": [],
   "source": []
  },
  {
   "cell_type": "code",
   "execution_count": null,
   "id": "0b26df8e-026e-46ce-8a18-eaf28b2efe92",
   "metadata": {},
   "outputs": [],
   "source": []
  },
  {
   "cell_type": "code",
   "execution_count": null,
   "id": "08436171-b339-408f-881a-cda44b6bfb04",
   "metadata": {},
   "outputs": [],
   "source": []
  }
 ],
 "metadata": {
  "kernelspec": {
   "display_name": "Python 3 (ipykernel)",
   "language": "python",
   "name": "python3"
  },
  "language_info": {
   "codemirror_mode": {
    "name": "ipython",
    "version": 3
   },
   "file_extension": ".py",
   "mimetype": "text/x-python",
   "name": "python",
   "nbconvert_exporter": "python",
   "pygments_lexer": "ipython3",
   "version": "3.11.5"
  }
 },
 "nbformat": 4,
 "nbformat_minor": 5
}
