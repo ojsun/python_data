{
 "cells": [
  {
   "cell_type": "code",
   "execution_count": 1,
   "id": "dfe8cebc",
   "metadata": {},
   "outputs": [
    {
     "name": "stdout",
     "output_type": "stream",
     "text": [
      "(442, 10) (442,)\n"
     ]
    }
   ],
   "source": [
    "from sklearn.datasets import load_diabetes\n",
    "\n",
    "# 당뇨병 환자 데이터\n",
    "diabetes = load_diabetes()\n",
    "x = diabetes.data[:, 2]\n",
    "y = diabetes.target\n",
    "\n",
    "print(diabetes.data.shape, diabetes.target.shape)"
   ]
  },
  {
   "cell_type": "code",
   "execution_count": 6,
   "id": "8e98ad69",
   "metadata": {},
   "outputs": [
    {
     "name": "stdout",
     "output_type": "stream",
     "text": [
      "예측 데이터 : 1.0616962065186832\n",
      "실제 데이터 : 151.0\n"
     ]
    }
   ],
   "source": [
    "# 가중치 초기화\n",
    "w = 1.0\n",
    "b = 1.0\n",
    "y_hat = x[0] * w + b\n",
    "\n",
    "print('예측 데이터 :', y_hat)\n",
    "print('실제 데이터 :', y[0])\n"
   ]
  },
  {
   "cell_type": "code",
   "execution_count": 7,
   "id": "0466131c",
   "metadata": {},
   "outputs": [
    {
     "name": "stdout",
     "output_type": "stream",
     "text": [
      "변경된 예측값 : 1.0678658271705517\n"
     ]
    }
   ],
   "source": [
    "# 가중치 값을 조절해 예측값 바꾸기\n",
    "w_inc = w + 0.1\n",
    "y_hat_inc = x[0] * w_inc + b\n",
    "\n",
    "print('변경된 예측값 :', y_hat_inc)\n"
   ]
  },
  {
   "cell_type": "code",
   "execution_count": 8,
   "id": "b7e60f90",
   "metadata": {},
   "outputs": [
    {
     "name": "stdout",
     "output_type": "stream",
     "text": [
      "증가 정도 : 0.06169620651868429\n"
     ]
    }
   ],
   "source": [
    "# 예측값 증가 정도 확인\n",
    "w_rate = (y_hat_inc - y_hat) / (w_inc - w)\n",
    "print('증가 정도 :', w_rate)"
   ]
  },
  {
   "cell_type": "code",
   "execution_count": 9,
   "id": "d21880fe",
   "metadata": {},
   "outputs": [
    {
     "data": {
      "text/plain": [
       "9.0"
      ]
     },
     "execution_count": 9,
     "metadata": {},
     "output_type": "execute_result"
    }
   ],
   "source": [
    "150 * 0.06"
   ]
  },
  {
   "cell_type": "code",
   "execution_count": 10,
   "id": "880be4d5",
   "metadata": {},
   "outputs": [
    {
     "name": "stdout",
     "output_type": "stream",
     "text": [
      "10.250624555903848\n"
     ]
    }
   ],
   "source": [
    "# 변화율로 가중치 업데이트\n",
    "err = y[0] - y_hat\n",
    "w_new = w + w_rate * err\n",
    "print(w_new)"
   ]
  },
  {
   "cell_type": "code",
   "execution_count": 11,
   "id": "8066e474",
   "metadata": {},
   "outputs": [
    {
     "name": "stdout",
     "output_type": "stream",
     "text": [
      "절편 변화율 : 1.0\n"
     ]
    }
   ],
   "source": [
    "# 변화율로 절편 업데이트\n",
    "b_inc = b + 0.1\n",
    "y_hat_inc = x[0] * w + b_inc\n",
    "\n",
    "b_rate = (y_hat_inc - y_hat) / (b_inc - b)\n",
    "print('절편 변화율 :', b_rate)"
   ]
  },
  {
   "cell_type": "code",
   "execution_count": 13,
   "id": "3cd595b1",
   "metadata": {},
   "outputs": [
    {
     "name": "stdout",
     "output_type": "stream",
     "text": [
      "150.9383037934813\n"
     ]
    }
   ],
   "source": [
    "err = y[0] - y_hat\n",
    "b_new = b + b_rate * err\n",
    "print(b_new)"
   ]
  },
  {
   "cell_type": "code",
   "execution_count": 20,
   "id": "78364a2c",
   "metadata": {},
   "outputs": [
    {
     "data": {
      "text/plain": [
       "150.81944765306812"
      ]
     },
     "execution_count": 20,
     "metadata": {},
     "output_type": "execute_result"
    }
   ],
   "source": [
    "x[3] * w_new + b_new"
   ]
  },
  {
   "cell_type": "code",
   "execution_count": 19,
   "id": "dba84d6f",
   "metadata": {},
   "outputs": [
    {
     "data": {
      "text/plain": [
       "206.0"
      ]
     },
     "execution_count": 19,
     "metadata": {},
     "output_type": "execute_result"
    }
   ],
   "source": [
    "y[3]"
   ]
  },
  {
   "cell_type": "code",
   "execution_count": 28,
   "id": "e7645d22",
   "metadata": {
    "scrolled": false
   },
   "outputs": [
    {
     "name": "stdout",
     "output_type": "stream",
     "text": [
      "587.8654539985616 99.4093556453094\n"
     ]
    }
   ],
   "source": [
    "w = 1\n",
    "b = 1\n",
    "for x_i, y_i in zip(x, y):\n",
    "    y_hat = x_i * w + b\n",
    "    err = y_i - y_hat\n",
    "    w_rate = x_i\n",
    "    b_rate = 1\n",
    "    w = w + w_rate * err\n",
    "    b = b + b_rate * err\n",
    "print(w, b)\n"
   ]
  },
  {
   "cell_type": "code",
   "execution_count": 32,
   "id": "72cdb252",
   "metadata": {},
   "outputs": [
    {
     "data": {
      "text/plain": [
       "125.54068835421108"
      ]
     },
     "execution_count": 32,
     "metadata": {},
     "output_type": "execute_result"
    }
   ],
   "source": [
    "w * x[2] + b"
   ]
  },
  {
   "cell_type": "code",
   "execution_count": 33,
   "id": "e72e4261",
   "metadata": {},
   "outputs": [
    {
     "data": {
      "text/plain": [
       "141.0"
      ]
     },
     "execution_count": 33,
     "metadata": {},
     "output_type": "execute_result"
    }
   ],
   "source": [
    "y[2]"
   ]
  },
  {
   "cell_type": "code",
   "execution_count": 29,
   "id": "3399ffa9",
   "metadata": {},
   "outputs": [
    {
     "data": {
      "text/plain": [
       "0.061696206518683294"
      ]
     },
     "execution_count": 29,
     "metadata": {},
     "output_type": "execute_result"
    }
   ],
   "source": [
    "x[0]"
   ]
  },
  {
   "cell_type": "code",
   "execution_count": 40,
   "id": "a4254ec7",
   "metadata": {},
   "outputs": [
    {
     "data": {
      "image/png": "[encoded data removed]",
      "text/plain": [
       "<Figure size 400x200 with 1 Axes>"
      ]
     },
     "metadata": {},
     "output_type": "display_data"
    }
   ],
   "source": [
    "import matplotlib.pyplot as plt\n",
    "# 예측선 그리기\n",
    "plt.figure(figsize=(4,2))\n",
    "plt.scatter(x, y, s = 5)\n",
    "pt1 = (-0.1, -0.1 * w + b)\n",
    "pt2 = (0.17, 0.17 * w + b)\n",
    "plt.plot([pt1[0], pt2[0]],[pt1[1],pt2[1]], color='red')\n",
    "plt.xlabel('x'); plt.ylabel('y')\n",
    "plt.show()"
   ]
  },
  {
   "cell_type": "code",
   "execution_count": 56,
   "id": "5e5a950f",
   "metadata": {},
   "outputs": [],
   "source": [
    "# 에포크를 반복하기\n",
    "w = 1.0\n",
    "b = 1.0\n",
    "for i in range(1000):\n",
    "    for x_i, y_i in zip(x, y):\n",
    "        y_hat = x_i * w + b\n",
    "        err = y_i - y_hat\n",
    "        w_rate = x_i\n",
    "        b_rate = 1\n",
    "        w = w + w_rate * err\n",
    "        b = b + b_rate * err"
   ]
  },
  {
   "cell_type": "code",
   "execution_count": 57,
   "id": "adc5bd61",
   "metadata": {},
   "outputs": [
    {
     "name": "stdout",
     "output_type": "stream",
     "text": [
      "942.7013592249233 151.74608061033564\n"
     ]
    }
   ],
   "source": [
    "print(w, b)"
   ]
  },
  {
   "cell_type": "code",
   "execution_count": 54,
   "id": "8001c757",
   "metadata": {},
   "outputs": [
    {
     "data": {
      "image/png": "[encoded data removed]",
      "text/plain": [
       "<Figure size 400x200 with 1 Axes>"
      ]
     },
     "metadata": {},
     "output_type": "display_data"
    }
   ],
   "source": [
    "plt.figure(figsize=(4,2))\n",
    "plt.scatter(x, y, s = 5)\n",
    "pt1 = (-0.1, -0.1 * w + b)\n",
    "pt2 = (0.17, 0.17 * w + b)\n",
    "plt.plot([pt1[0], pt2[0]],[pt1[1],pt2[1]], color='red')\n",
    "plt.xlabel('x'); plt.ylabel('y')\n",
    "plt.show()"
   ]
  },
  {
   "cell_type": "code",
   "execution_count": 46,
   "id": "4d71284c",
   "metadata": {},
   "outputs": [],
   "source": [
    "from sklearn.metrics import mean_squared_error\n",
    "\n",
    "pred = x * w + b"
   ]
  },
  {
   "cell_type": "code",
   "execution_count": 47,
   "id": "f250f027",
   "metadata": {},
   "outputs": [
    {
     "data": {
      "text/plain": [
       "4719.312052729014"
      ]
     },
     "execution_count": 47,
     "metadata": {},
     "output_type": "execute_result"
    }
   ],
   "source": [
    "mean_squared_error(y, pred)"
   ]
  },
  {
   "cell_type": "code",
   "execution_count": 86,
   "id": "dd26902a",
   "metadata": {},
   "outputs": [
    {
     "data": {
      "text/html": [
       "<style>#sk-container-id-14 {color: black;}#sk-container-id-14 pre{padding: 0;}#sk-container-id-14 div.sk-toggleable {background-color: white;}#sk-container-id-14 label.sk-toggleable__label {cursor: pointer;display: block;width: 100%;margin-bottom: 0;padding: 0.3em;box-sizing: border-box;text-align: center;}#sk-container-id-14 label.sk-toggleable__label-arrow:before {content: \"▸\";float: left;margin-right: 0.25em;color: #696969;}#sk-container-id-14 label.sk-toggleable__label-arrow:hover:before {color: black;}#sk-container-id-14 div.sk-estimator:hover label.sk-toggleable__label-arrow:before {color: black;}#sk-container-id-14 div.sk-toggleable__content {max-height: 0;max-width: 0;overflow: hidden;text-align: left;background-color: #f0f8ff;}#sk-container-id-14 div.sk-toggleable__content pre {margin: 0.2em;color: black;border-radius: 0.25em;background-color: #f0f8ff;}#sk-container-id-14 input.sk-toggleable__control:checked~div.sk-toggleable__content {max-height: 200px;max-width: 100%;overflow: auto;}#sk-container-id-14 input.sk-toggleable__control:checked~label.sk-toggleable__label-arrow:before {content: \"▾\";}#sk-container-id-14 div.sk-estimator input.sk-toggleable__control:checked~label.sk-toggleable__label {background-color: #d4ebff;}#sk-container-id-14 div.sk-label input.sk-toggleable__control:checked~label.sk-toggleable__label {background-color: #d4ebff;}#sk-container-id-14 input.sk-hidden--visually {border: 0;clip: rect(1px 1px 1px 1px);clip: rect(1px, 1px, 1px, 1px);height: 1px;margin: -1px;overflow: hidden;padding: 0;position: absolute;width: 1px;}#sk-container-id-14 div.sk-estimator {font-family: monospace;background-color: #f0f8ff;border: 1px dotted black;border-radius: 0.25em;box-sizing: border-box;margin-bottom: 0.5em;}#sk-container-id-14 div.sk-estimator:hover {background-color: #d4ebff;}#sk-container-id-14 div.sk-parallel-item::after {content: \"\";width: 100%;border-bottom: 1px solid gray;flex-grow: 1;}#sk-container-id-14 div.sk-label:hover label.sk-toggleable__label {background-color: #d4ebff;}#sk-container-id-14 div.sk-serial::before {content: \"\";position: absolute;border-left: 1px solid gray;box-sizing: border-box;top: 0;bottom: 0;left: 50%;z-index: 0;}#sk-container-id-14 div.sk-serial {display: flex;flex-direction: column;align-items: center;background-color: white;padding-right: 0.2em;padding-left: 0.2em;position: relative;}#sk-container-id-14 div.sk-item {position: relative;z-index: 1;}#sk-container-id-14 div.sk-parallel {display: flex;align-items: stretch;justify-content: center;background-color: white;position: relative;}#sk-container-id-14 div.sk-item::before, #sk-container-id-14 div.sk-parallel-item::before {content: \"\";position: absolute;border-left: 1px solid gray;box-sizing: border-box;top: 0;bottom: 0;left: 50%;z-index: -1;}#sk-container-id-14 div.sk-parallel-item {display: flex;flex-direction: column;z-index: 1;position: relative;background-color: white;}#sk-container-id-14 div.sk-parallel-item:first-child::after {align-self: flex-end;width: 50%;}#sk-container-id-14 div.sk-parallel-item:last-child::after {align-self: flex-start;width: 50%;}#sk-container-id-14 div.sk-parallel-item:only-child::after {width: 0;}#sk-container-id-14 div.sk-dashed-wrapped {border: 1px dashed gray;margin: 0 0.4em 0.5em 0.4em;box-sizing: border-box;padding-bottom: 0.4em;background-color: white;}#sk-container-id-14 div.sk-label label {font-family: monospace;font-weight: bold;display: inline-block;line-height: 1.2em;}#sk-container-id-14 div.sk-label-container {text-align: center;}#sk-container-id-14 div.sk-container {/* jupyter's `normalize.less` sets `[hidden] { display: none; }` but bootstrap.min.css set `[hidden] { display: none !important; }` so we also need the `!important` here to be able to override the default hidden behavior on the sphinx rendered scikit-learn.org. See: https://github.com/scikit-learn/scikit-learn/issues/21755 */display: inline-block !important;position: relative;}#sk-container-id-14 div.sk-text-repr-fallback {display: none;}</style><div id=\"sk-container-id-14\" class=\"sk-top-container\"><div class=\"sk-text-repr-fallback\"><pre>SGDRegressor(alpha=0, max_iter=15000, shuffle=False)</pre><b>In a Jupyter environment, please rerun this cell to show the HTML representation or trust the notebook. <br />On GitHub, the HTML representation is unable to render, please try loading this page with nbviewer.org.</b></div><div class=\"sk-container\" hidden><div class=\"sk-item\"><div class=\"sk-estimator sk-toggleable\"><input class=\"sk-toggleable__control sk-hidden--visually\" id=\"sk-estimator-id-14\" type=\"checkbox\" checked><label for=\"sk-estimator-id-14\" class=\"sk-toggleable__label sk-toggleable__label-arrow\">SGDRegressor</label><div class=\"sk-toggleable__content\"><pre>SGDRegressor(alpha=0, max_iter=15000, shuffle=False)</pre></div></div></div></div></div>"
      ],
      "text/plain": [
       "SGDRegressor(alpha=0, max_iter=15000, shuffle=False)"
      ]
     },
     "execution_count": 86,
     "metadata": {},
     "output_type": "execute_result"
    }
   ],
   "source": [
    "from sklearn.linear_model import SGDRegressor\n",
    "\n",
    "sgd = SGDRegressor(max_iter = 15000, alpha=0, shuffle=False)\n",
    "\n",
    "sgd.fit(x.reshape(-1,1), y)"
   ]
  },
  {
   "cell_type": "code",
   "execution_count": 87,
   "id": "b497b0e9",
   "metadata": {},
   "outputs": [
    {
     "data": {
      "text/plain": [
       "(array([904.29769952]), array([152.18959269]))"
      ]
     },
     "execution_count": 87,
     "metadata": {},
     "output_type": "execute_result"
    }
   ],
   "source": [
    "sgd.coef_, sgd.intercept_ "
   ]
  },
  {
   "cell_type": "code",
   "execution_count": 85,
   "id": "57c4de85",
   "metadata": {},
   "outputs": [
    {
     "name": "stdout",
     "output_type": "stream",
     "text": [
      "942.7013592249233 151.74608061033564\n"
     ]
    }
   ],
   "source": [
    "print(w, b)"
   ]
  },
  {
   "cell_type": "code",
   "execution_count": 91,
   "id": "5ddc308f",
   "metadata": {},
   "outputs": [
    {
     "data": {
      "text/plain": [
       "0.2231435513142097"
      ]
     },
     "execution_count": 91,
     "metadata": {},
     "output_type": "execute_result"
    }
   ],
   "source": [
    "import numpy as np\n",
    "\n",
    "-1 * np.log(0.8) "
   ]
  },
  {
   "cell_type": "code",
   "execution_count": 93,
   "id": "b4c7fedb",
   "metadata": {},
   "outputs": [
    {
     "data": {
      "text/plain": [
       "2.3025850929940455"
      ]
     },
     "execution_count": 93,
     "metadata": {},
     "output_type": "execute_result"
    }
   ],
   "source": [
    "-1 * np.log(0.1)"
   ]
  },
  {
   "cell_type": "code",
   "execution_count": 95,
   "id": "43b43b2d",
   "metadata": {},
   "outputs": [
    {
     "data": {
      "text/plain": [
       "array([0.01253442])"
      ]
     },
     "execution_count": 95,
     "metadata": {},
     "output_type": "execute_result"
    }
   ],
   "source": [
    "np.random.rand(1)"
   ]
  },
  {
   "cell_type": "code",
   "execution_count": 97,
   "id": "742f8b91",
   "metadata": {},
   "outputs": [],
   "source": [
    "# 뉴런 구조를 클래스로 생성\n",
    "class Neuron:\n",
    "    # 기본 가중치 생성\n",
    "    def __init__(self):\n",
    "        self.w = 1.0\n",
    "        self.b = 1.0\n",
    "    \n",
    "    # 정방향 계산 함수\n",
    "    def forpass(self, x):\n",
    "        y_hat = x * self.w + self.b\n",
    "        return y_hat\n",
    "    \n",
    "    # 역방향 오차 가중치 업데이트\n",
    "    def backprop(self, x, err):\n",
    "        w_grad = x * err\n",
    "        b_grad = 1 * err\n",
    "        return w_grad, b_grad\n",
    "    \n",
    "    # 훈련을 위한 fit() 메서드 구현\n",
    "    def fit(self, x, y, epochs = 100):\n",
    "        for i in range(epochs):\n",
    "            for x_i, y_i in zip(x, y):\n",
    "                y_hat = self.forpass(x_i)\n",
    "                err = -(y_i - y_hat)\n",
    "                w_grad, b_grad = self.backprop(x_i, err)\n",
    "                self.w -= w_grad\n",
    "                self.b -= b_grad"
   ]
  },
  {
   "cell_type": "code",
   "execution_count": 98,
   "id": "4a073b71",
   "metadata": {},
   "outputs": [],
   "source": [
    "neuron = Neuron()"
   ]
  },
  {
   "cell_type": "code",
   "execution_count": 99,
   "id": "70cbe3bb",
   "metadata": {},
   "outputs": [],
   "source": [
    "neuron.fit(x, y)"
   ]
  },
  {
   "cell_type": "code",
   "execution_count": 101,
   "id": "7c38e096",
   "metadata": {},
   "outputs": [
    {
     "data": {
      "text/plain": [
       "(913.5973364346786, 123.39414383177173)"
      ]
     },
     "execution_count": 101,
     "metadata": {},
     "output_type": "execute_result"
    }
   ],
   "source": [
    "neuron.w, neuron.b"
   ]
  },
  {
   "cell_type": "code",
   "execution_count": null,
   "id": "ef03baa9",
   "metadata": {},
   "outputs": [],
   "source": [
    "def forpass(self, x):\n",
    "    y_hat = x * self.w + self.b\n",
    "    return y_hat"
   ]
  },
  {
   "cell_type": "code",
   "execution_count": 107,
   "id": "6289398d",
   "metadata": {
    "scrolled": false
   },
   "outputs": [],
   "source": [
    "pred = neuron.forpass(x)"
   ]
  },
  {
   "cell_type": "code",
   "execution_count": 102,
   "id": "72a767e9",
   "metadata": {},
   "outputs": [],
   "source": [
    "def predict(class_, x):\n",
    "    pred = class_.w * x + class_.b\n",
    "    return pred"
   ]
  },
  {
   "cell_type": "code",
   "execution_count": 104,
   "id": "93d6b10e",
   "metadata": {
    "scrolled": false
   },
   "outputs": [],
   "source": [
    "pred = predict(neuron, x)"
   ]
  },
  {
   "cell_type": "code",
   "execution_count": 105,
   "id": "527c78f4",
   "metadata": {},
   "outputs": [
    {
     "data": {
      "text/plain": [
       "4719.312052729014"
      ]
     },
     "execution_count": 105,
     "metadata": {},
     "output_type": "execute_result"
    }
   ],
   "source": [
    "mean_squared_error(y, pred)"
   ]
  },
  {
   "cell_type": "code",
   "execution_count": null,
   "id": "6f62d121",
   "metadata": {},
   "outputs": [],
   "source": []
  }
 ],
 "metadata": {
  "kernelspec": {
   "display_name": "Python 3 (ipykernel)",
   "language": "python",
   "name": "python3"
  },
  "language_info": {
   "codemirror_mode": {
    "name": "ipython",
    "version": 3
   },
   "file_extension": ".py",
   "mimetype": "text/x-python",
   "name": "python",
   "nbconvert_exporter": "python",
   "pygments_lexer": "ipython3",
   "version": "3.11.5"
  }
 },
 "nbformat": 4,
 "nbformat_minor": 5
}
