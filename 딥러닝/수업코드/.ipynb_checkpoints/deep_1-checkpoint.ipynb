{
 "cells": [
  {
   "cell_type": "code",
   "execution_count": null,
   "id": "371fd549-79f0-4fa1-933e-0b85b416a926",
   "metadata": {},
   "outputs": [],
   "source": [
    "import numpy as np\n",
    "import pandas as pd\n",
    "import matplotlib.pyplot as plt\n",
    "import seaborn as sns\n",
    "from scipy import stats\n",
    "import warnings\n",
    "warnings.filterwarnings('ignore')"
   ]
  },
  {
   "cell_type": "code",
   "execution_count": null,
   "id": "8e6757f4-1b6e-4f74-94c5-3a865eec2abe",
   "metadata": {},
   "outputs": [],
   "source": [
    "plt.rcParams['figure.figsize']=(7,4)  # figure 사이즈 변경\n",
    "sns.set_palette('twilight')\n",
    "pal_1=sns.color_palette('coolwarm', 10)\n",
    "pal_2=sns.color_palette('deep',10)\n",
    "\n",
    "from matplotlib import font_manager, rc\n",
    "font = 'C:/Windows/Fonts/malgun.ttf'\n",
    "font_name = font_manager.FontProperties(fname=font).get_name()\n",
    "rc('font', family=font_name)"
   ]
  },
  {
   "cell_type": "markdown",
   "id": "b8437cc4-dcc4-414f-ade1-db98b669c2ae",
   "metadata": {},
   "source": [
    "#### 신경망: 분류   - 은닉층 없음(퍼셉트론)"
   ]
  },
  {
   "cell_type": "code",
   "execution_count": null,
   "id": "c1b0f19e-9411-4bd8-8b99-4e4791113715",
   "metadata": {},
   "outputs": [],
   "source": [
    "### 클라스 만들어서 전체 해보기\n",
    "from sklearn.datasets import load_breast_cancer\n",
    "from sklearn.model_selection import train_test_split\n",
    "cancer = load_breast_cancer()\n",
    "X = cancer.data\n",
    "y = cancer.target\n",
    "X_train, X_test, y_train, y_test = train_test_split(X, y, test_size = 0.2, random_state = 0)\n"
   ]
  },
  {
   "cell_type": "code",
   "execution_count": null,
   "id": "3583172c-e335-4283-a8d3-20bef574cf70",
   "metadata": {},
   "outputs": [],
   "source": [
    "import numpy as np\n",
    "import matplotlib.pyplot as plt\n",
    "from sklearn.preprocessing import StandardScaler\n",
    "# 스케일링\n",
    "scaler = StandardScaler()\n",
    "scaler.fit(X_train)\n",
    "X_train_scaled = scaler.transform(X_train)\n",
    "X_test_scaled = scaler.transform(X_test)"
   ]
  },
  {
   "cell_type": "code",
   "execution_count": null,
   "id": "0828cc13-66f2-4502-96b7-fae26da60874",
   "metadata": {},
   "outputs": [],
   "source": [
    "class SingleLayer:\n",
    "    def __init__(self):\n",
    "        self.w = None\n",
    "        self.b = None\n",
    "        self.losses = []\n",
    "    def forpass(self, x):\n",
    "        z = np.dot(x, self.w) + self.b\n",
    "        return z\n",
    "\n",
    "    def backprop(self, x, err):\n",
    "        m = len(x)\n",
    "        w_grad = np.dot(x.T, err) / m\n",
    "        b_grad = np.sum(err) / m\n",
    "        return w_grad, b_grad\n",
    "    def activation(self, z):\n",
    "        z = np.clip(z, -100, None)\n",
    "        a = 1 / (1 + np.exp(-z))\n",
    "        return a\n",
    "    def predict(self, x):\n",
    "        z = self.forpass(x)\n",
    "        return z > 0\n",
    "    def score(self, x, y):\n",
    "        return np.mean(self.predict(x) == y.reshape(-1, 1))\n",
    "    def fit(self, x, y, epochs = 100, random_state = None):\n",
    "        y = y.reshape(-1,1) # 열 벡터로 변환\n",
    "        m = len(x)\n",
    "        self.w = np.ones((x.shape[1], 1)) # 가중치 초기화\n",
    "        self.b = 0 # 절편 초기화\n",
    "        for i in range(epochs):\n",
    "            z = self.forpass(x)\n",
    "            a = self.activation(z)\n",
    "            err = -(y - a)\n",
    "            w_grad, b_grad = self.backprop(x, err)\n",
    "            self.w-= w_grad\n",
    "            self.b-= b_grad\n",
    "            a = np.clip(a, 1e-10, 1-1e-10)\n",
    "            loss = np.mean(-(y*np.log(a) + (1-y)*np.log(1-a))) \n",
    "            self.losses.append(loss)\n"
   ]
  },
  {
   "cell_type": "code",
   "execution_count": null,
   "id": "5bd85a61-098f-4c0d-a73d-1f4c39cda4f7",
   "metadata": {},
   "outputs": [],
   "source": [
    "single_layer = SingleLayer()\n",
    "single_layer.fit(X_train_scaled, y_train)\n",
    "single_layer.score(X_test_scaled, y_test)"
   ]
  },
  {
   "cell_type": "code",
   "execution_count": null,
   "id": "61faf647-434c-4afe-ade5-2fe73bc9868a",
   "metadata": {
    "scrolled": true
   },
   "outputs": [],
   "source": [
    "plt.plot(single_layer.losses)\n",
    "plt.ylim(0,0.1)\n",
    "plt.xlabel('epoch')\n",
    "plt.ylabel('loss')\n",
    "plt.show()\n",
    "print(single_layer.losses[-1])"
   ]
  },
  {
   "cell_type": "code",
   "execution_count": null,
   "id": "a3ec2bf1-8624-4a84-b7fd-eee03f53b0f0",
   "metadata": {},
   "outputs": [],
   "source": [
    "#### 분류 손실함수ㅡ 활성화 함수: 이진분류(시그모이드), 다중분류(soft max)\n",
    "# 손실함수의 결과값 저장 기능: 손실함수(loss) 계산하기\n",
    "# 손실함수(분류) - logistic// cross Entropy\n",
    "\n",
    "class SingleLayer:  # 입력계층 1개, 은닉층 없음\n",
    "    def __init__(self):\n",
    "        self.w = None    # 입력된 값 없으므로\n",
    "        self.b = None\n",
    "        # 손실 함수 저장하기 위한 리스트\n",
    "        self.losses = []\n",
    "    def forpass(self, x):\n",
    "        z = np.sum(x * self.w) + self.b\n",
    "        return z\n",
    "    def backprop(self, x, err):\n",
    "        w_grad = x * err\n",
    "        b_grad = 1 * err\n",
    "        return w_grad, b_grad\n",
    "    def activation(self, z):   ### 여길 바꿈\n",
    "        z = np.clip(z, -100, None)\n",
    "        a = 1 / (1 + np.exp(-z))   # 시그모이드 활성함수/이진분류\n",
    "        return a\n",
    "    def fit(self, x, y, epochs = 100):\n",
    "        self.w = np.ones(x.shape[1])\n",
    "        self.b = 0 \n",
    "        for epoch in range(epochs):\n",
    "            # 손실 초기화\n",
    "            loss = 0\n",
    "            # x의 index 랜덤하게 반환/ x,y가 각각 섞이지않도록 인덱스를 만들어 행렬로 만들어 사용\n",
    "            indexes = np.random.permutation(np.arange(len(x)))\n",
    "            for i in indexes:\n",
    "                z = self.forpass(x[i])\n",
    "                a = self.activation(z)\n",
    "                err = -(y[i] - a)\n",
    "                w_grad, b_grad = self.backprop(x[i], err)\n",
    "                self.w -= w_grad\n",
    "                self.b -= b_grad\n",
    "                 # 안전한 로그 계산을 위한 범위 축소  \n",
    "                a = np.clip(a, 1e-10, 1-1e-10)\n",
    "                # 이걸 회귀에서 바꿔줌: 손실 계산 : MSE \n",
    "                loss += -(y[i] * np.log(a) + (1 - y[i]) * np.log(1 - a))\n",
    "            # 에포크마다 평균 손실을 저장\n",
    "            self.losses.append(loss / len(y))  # loss값의 평균값(로스합계/y갯수)을 저장\n",
    "            print(f'###### 회귀 EPOCHS : {epoch + i}  #########')\n",
    "            print(f'평균 loss : {loss}')\n",
    "    def predict(self, x):\n",
    "        z = [self.forpass(x_i) for x_i in x]\n",
    "        return z\n",
    "    # 정확도 계산 함수 생성\n",
    "    def score(self, x, y):\n",
    "        return np.mean(self.predict(x) == y)"
   ]
  },
  {
   "cell_type": "markdown",
   "id": "34fd1e3c-7f75-4621-a9eb-417a20199f04",
   "metadata": {},
   "source": [
    "#### 신경망 : 회귀  - 은닉층 없음(퍼셉트론)"
   ]
  },
  {
   "cell_type": "code",
   "execution_count": null,
   "id": "747be965-bc87-4ac7-8e0d-3ddcccfdfcc7",
   "metadata": {},
   "outputs": [],
   "source": [
    "### 회귀에서 손실함수 저장하기  : 분류와 다른점 -활성함수(출력층)/ 손실함수 관련해서 바꿀것\n",
    "# 회귀: 활성함수 없음 또는 y=x\n",
    "# 손실함수의 결과값 저장 기능: 손실함수(loss) 계산하기 // MSE\n",
    "\n",
    "class SingleLayerRegression: # 입력계층 1개, 은닉층 없음\n",
    "    def __init__(self):\n",
    "        self.w = None   # 입력된 값 없으므로\n",
    "        self.b = None\n",
    "        # 손실 함수 저장하기 위한 리스트\n",
    "        self.losses = []\n",
    "        \n",
    "    def forpass(self, x):\n",
    "        z = np.sum(x * self.w) + self.b\n",
    "        return z\n",
    "    \n",
    "    def backprop(self, x, err):\n",
    "        w_grad = x * err\n",
    "        b_grad = 1 * err\n",
    "        return w_grad, b_grad\n",
    "    \n",
    "    def activation(self, z):    #### 이걸 바꿔줘야\n",
    "        a = z\n",
    "        return a\n",
    "    \n",
    "    def fit(self, x, y, epochs = 100):\n",
    "        self.w = np.ones(x.shape[1])\n",
    "        self.b = 0 \n",
    "        for epoch in range(epochs):\n",
    "            # 손실 초기화\n",
    "            loss = 0\n",
    "            # x의 index 랜덤하게 반환\n",
    "            indexes = np.random.permutation(np.arange(len(x)))\n",
    "            for i in indexes:\n",
    "                z = self.forpass(x[i])\n",
    "                a = self.activation(z)\n",
    "                err = -(y[i] - a)  # (y - y_hat)\n",
    "                w_grad, b_grad = self.backprop(x[i], err)\n",
    "                self.w -= w_grad\n",
    "                self.b -= b_grad\n",
    "                \n",
    "                # 손실 계산 (SE)  (y - y_hat)^2\n",
    "                loss += err ** 2\n",
    "\n",
    "            # 에포크마다 평균 손실을 저장\n",
    "            loss = loss / len(y) # MSE\n",
    "            self.losses.append(loss)\n",
    "            print(f'##### EPOCHS : {epoch + 1} ######')\n",
    "            print(f'loss : {loss}')\n",
    "            \n",
    "    def predict(self, x):\n",
    "        z = [self.forpass(x_i) for x_i in x]\n",
    "        return z\n"
   ]
  },
  {
   "cell_type": "code",
   "execution_count": null,
   "id": "d6511a32-bd37-4834-a897-4604188c77db",
   "metadata": {},
   "outputs": [],
   "source": []
  },
  {
   "cell_type": "raw",
   "id": "035e1fcd-cddd-44ad-8e50-f23f5797e07b",
   "metadata": {},
   "source": [
    "에포크 특징: 에포크는 모든 데이터를 최소 한번은 학습해야 한다.\n",
    "\n",
    "에포크마다 학습횟수\n",
    "    데이터당 학습 - 한번에 데이터를 하나씩 적용하여 가중치 업데이트  \n",
    "    1회 학습 -한번에 모든 데이터를 한번에 적용하여 가중치 업데이트   -- 가장 빠름/정확도도 좋음 /메모리 사용량 문제\n",
    "        : 한꺼번에 가져와서 한꺼번에 학습- 평균에러를 가지고 가중치 조절 / 행렬 곱셈 해야함 \n",
    "    N회 학습 - 데이터를 m개씩 묶어서 가중치 업데이트 "
   ]
  },
  {
   "cell_type": "code",
   "execution_count": null,
   "id": "2e1e8c81-2710-46e9-9cdb-8f8213d05215",
   "metadata": {},
   "outputs": [],
   "source": []
  },
  {
   "cell_type": "code",
   "execution_count": null,
   "id": "842b82c4-7ab2-419b-8cfe-46ca73c516f5",
   "metadata": {},
   "outputs": [],
   "source": []
  },
  {
   "cell_type": "code",
   "execution_count": null,
   "id": "3f354289-60bd-4703-8c36-697833194da4",
   "metadata": {},
   "outputs": [],
   "source": []
  },
  {
   "cell_type": "code",
   "execution_count": null,
   "id": "8b322c0b-0794-43a7-bbc7-f2339480c91c",
   "metadata": {},
   "outputs": [],
   "source": []
  },
  {
   "cell_type": "code",
   "execution_count": null,
   "id": "80780ef3-028a-46c0-8d36-286e59dbf1d7",
   "metadata": {},
   "outputs": [],
   "source": []
  },
  {
   "cell_type": "code",
   "execution_count": null,
   "id": "43812faa-a655-4cee-8a01-deaa5f011d6e",
   "metadata": {},
   "outputs": [],
   "source": []
  },
  {
   "cell_type": "code",
   "execution_count": null,
   "id": "c59e495f-e402-4931-9222-14aa335f6b0e",
   "metadata": {},
   "outputs": [],
   "source": []
  },
  {
   "cell_type": "code",
   "execution_count": null,
   "id": "939e2a7b-8bef-4e4a-b819-fa5a27146c90",
   "metadata": {},
   "outputs": [],
   "source": []
  }
 ],
 "metadata": {
  "kernelspec": {
   "display_name": "Python 3 (ipykernel)",
   "language": "python",
   "name": "python3"
  },
  "language_info": {
   "codemirror_mode": {
    "name": "ipython",
    "version": 3
   },
   "file_extension": ".py",
   "mimetype": "text/x-python",
   "name": "python",
   "nbconvert_exporter": "python",
   "pygments_lexer": "ipython3",
   "version": "3.11.5"
  }
 },
 "nbformat": 4,
 "nbformat_minor": 5
}
