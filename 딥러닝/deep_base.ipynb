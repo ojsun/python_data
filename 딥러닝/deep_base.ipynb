{
 "cells": [
  {
   "cell_type": "code",
   "execution_count": 1,
   "id": "84e510b0-4c10-4a9b-a979-c6ecb3f4a21c",
   "metadata": {
    "tags": []
   },
   "outputs": [],
   "source": [
    "import numpy as np\n",
    "import pandas as pd\n",
    "import matplotlib.pyplot as plt\n",
    "import seaborn as sns\n",
    "from scipy import stats\n",
    "import warnings\n",
    "warnings.filterwarnings('ignore')"
   ]
  },
  {
   "cell_type": "code",
   "execution_count": null,
   "id": "21f1b942-62c8-40a1-94fa-dc61cfeeb391",
   "metadata": {},
   "outputs": [],
   "source": [
    "from sklearn.model_selection import train_test_split\n",
    "from sklearn.preprocessing import StandardScaler"
   ]
  },
  {
   "cell_type": "markdown",
   "id": "f38dedbd-5bcd-433a-815e-149c6fb9a66d",
   "metadata": {
    "tags": []
   },
   "source": [
    "#### 신경망: 분류"
   ]
  },
  {
   "cell_type": "code",
   "execution_count": 239,
   "id": "31a5eed4-7eaa-4e56-a8a5-0a7b4075547a",
   "metadata": {},
   "outputs": [],
   "source": [
    "### 클라스 만들어서 전체 해보기\n",
    "from sklearn.datasets import load_breast_cancer\n",
    "\n",
    "cancer = load_breast_cancer()\n",
    "X = cancer.data\n",
    "y = cancer.target\n",
    "X_train, X_test, y_train, y_test = train_test_split(X, y, test_size = 0.2, random_state = 0)\n"
   ]
  },
  {
   "cell_type": "code",
   "execution_count": 240,
   "id": "60b9f776-eff2-40d9-a3a3-f9a3a027282d",
   "metadata": {},
   "outputs": [],
   "source": [
    "# 스케일링\n",
    "scaler = StandardScaler()\n",
    "scaler.fit(X_train)\n",
    "X_train_scaled = scaler.transform(X_train)\n",
    "X_test_scaled = scaler.transform(X_test)"
   ]
  },
  {
   "cell_type": "code",
   "execution_count": 241,
   "id": "092b604e-d5b5-4a2e-a916-e8441117fa3b",
   "metadata": {},
   "outputs": [],
   "source": [
    "class SingleLayer:\n",
    "    def __init__(self):\n",
    "        self.w = None\n",
    "        self.b = None\n",
    "        self.losses = []\n",
    "    def forpass(self, x):  # 정방향 계산 함수\n",
    "        z = np.dot(x, self.w) + self.b\n",
    "        return z\n",
    "\n",
    "    def backprop(self, x, err):  # 가중치 업데이트: 역전파\n",
    "        m = len(x)\n",
    "        w_grad = np.dot(x.T, err) / m\n",
    "        b_grad = np.sum(err) / m\n",
    "        return w_grad, b_grad\n",
    "    def activation(self, z):     \n",
    "        z = np.clip(z, -100, None)\n",
    "        a = 1 / (1 + np.exp(-z))   # 활성함수(시그모이드 함수)\n",
    "        return a\n",
    "    def predict(self, x):\n",
    "        z = self.forpass(x)\n",
    "        return z > 0\n",
    "    def score(self, x, y):\n",
    "        return np.mean(self.predict(x) == y.reshape(-1, 1))\n",
    "    # 훈련을 위한 fit() 메서드 생성\n",
    "    def fit(self, x, y, epochs = 100, random_state = None):\n",
    "        y = y.reshape(-1,1) # 열 벡터로 변환\n",
    "        m = len(x)\n",
    "        self.w = np.ones((x.shape[1], 1)) # 가중치 초기화\n",
    "        self.b = 0 # 절편 초기화\n",
    "        for i in range(epochs):\n",
    "            z = self.forpass(x)\n",
    "            a = self.activation(z)\n",
    "            err = -(y - a)\n",
    "            w_grad, b_grad = self.backprop(x, err)\n",
    "            self.w-= w_grad\n",
    "            self.b-= b_grad\n",
    "            a = np.clip(a, 1e-10, 1-1e-10)\n",
    "            loss = np.mean(-(y*np.log(a) + (1-y)*np.log(1-a))) \n",
    "            self.losses.append(loss)\n",
    "\n",
    "# # 예측 함수 생성\n",
    "  #   def predict(self, x):\n",
    "  #       z = [self.forpass(x_i) for x_i in x]   # 리스트에 넣기\n",
    "  #       a = self.activation(np.array(z))\n",
    "  #       return a > 0.5   # bool 이므로 0,1이 어차피 출력됨"
   ]
  },
  {
   "cell_type": "code",
   "execution_count": 242,
   "id": "f1864dd8-7256-4b88-8a65-a43c65a2cf51",
   "metadata": {},
   "outputs": [
    {
     "data": {
      "text/plain": [
       "0.956140350877193"
      ]
     },
     "execution_count": 242,
     "metadata": {},
     "output_type": "execute_result"
    }
   ],
   "source": [
    "single_layer = SingleLayer()\n",
    "single_layer.fit(X_train_scaled, y_train)\n",
    "single_layer.score(X_test_scaled, y_test)"
   ]
  },
  {
   "cell_type": "code",
   "execution_count": null,
   "id": "10b33dbd-427b-4e55-b0d3-a0c46920f846",
   "metadata": {
    "scrolled": true
   },
   "outputs": [],
   "source": [
    "plt.plot(single_layer.losses)\n",
    "plt.ylim(0,0.1)\n",
    "plt.xlabel('epoch')\n",
    "plt.ylabel('loss')\n",
    "plt.show()\n",
    "print(single_layer.losses[-1])"
   ]
  },
  {
   "cell_type": "code",
   "execution_count": null,
   "id": "58d526ca-fb0b-45a1-b503-0925bbc0f813",
   "metadata": {},
   "outputs": [],
   "source": [
    "#### 분류 손실함수ㅡ\n",
    "# 손실함수의 결과값 저장 기능: 손실함수(loss) 계산하기\n",
    "class SingleLayer:  # 입력계층 1개, 은닉층 없음\n",
    "    def __init__(self):\n",
    "        self.w = None    # 입력된 값 없으므로\n",
    "        self.b = None\n",
    "        # 손실 함수 저장하기 위한 리스트\n",
    "        self.losses = []\n",
    "    def forpass(self, x):\n",
    "        z = np.sum(x * self.w) + self.b\n",
    "        return z\n",
    "    def backprop(self, x, err):\n",
    "        w_grad = x * err\n",
    "        b_grad = 1 * err\n",
    "        return w_grad, b_grad\n",
    "    def activation(self, z):   ### 여길 바꿈\n",
    "        z = np.clip(z, -100, None)\n",
    "        a = 1 / (1 + np.exp(-z))   # 시그모이드 활성함수/이진분류\n",
    "        return a\n",
    "    def fit(self, x, y, epochs = 100):\n",
    "        self.w = np.ones(x.shape[1])\n",
    "        self.b = 0 \n",
    "        for epoch in range(epochs):\n",
    "            # 손실 초기화\n",
    "            loss = 0\n",
    "            # x의 index 랜덤하게 반환/ x,y가 각각 섞이지않도록 인덱스를 만들어 행렬로 만들어 사용\n",
    "            indexes = np.random.permutation(np.arange(len(x)))\n",
    "            for i in indexes:\n",
    "                z = self.forpass(x[i])\n",
    "                a = self.activation(z)\n",
    "                err = -(y[i] - a)\n",
    "                w_grad, b_grad = self.backprop(x[i], err)\n",
    "                self.w -= w_grad\n",
    "                self.b -= b_grad\n",
    "                 # 안전한 로그 계산을 위한 범위 축소  \n",
    "                a = np.clip(a, 1e-10, 1-1e-10)\n",
    "                # 이걸 회귀에서 바꿔줌: 손실 계산 : MSE \n",
    "                loss += -(y[i] * np.log(a) + (1 - y[i]) * np.log(1 - a))\n",
    "            # 에포크마다 평균 손실을 저장\n",
    "            self.losses.append(loss / len(y))  # loss값의 평균값(로스합계/y갯수)을 저장\n",
    "            print(f'###### 회귀 EPOCHS : {epoch + i}  #########')\n",
    "            print(f'평균 loss : {loss}')\n",
    "    def predict(self, x):\n",
    "        z = [self.forpass(x_i) for x_i in x]\n",
    "        return z\n",
    "    # 정확도 계산 함수 생성\n",
    "    def score(self, x, y):\n",
    "        return np.mean(self.predict(x) == y)"
   ]
  },
  {
   "cell_type": "code",
   "execution_count": null,
   "id": "f891e51e-ccd0-4e23-9677-4d5a5a864feb",
   "metadata": {},
   "outputs": [],
   "source": [
    "# 작동시키기: 랜덤으로 돌리는거라서 정확도가 다르게 나옴\n",
    "layer = SingleLayer()\n",
    "layer.fit(X_train_scaled, y_train, epochs=1000)\n",
    "print(layer.score(X_test_scaled, y_test))"
   ]
  },
  {
   "cell_type": "code",
   "execution_count": null,
   "id": "bfd54bda-753f-44da-ab2b-a91ff339168a",
   "metadata": {},
   "outputs": [],
   "source": [
    "# 자세히\n",
    "test=SingleLayer() \n",
    "test.fit(X_train, y_train, epochs=10)\n",
    "test.losses    # 손실함수 관련 정보가 저장되어 있음 .losses"
   ]
  },
  {
   "cell_type": "code",
   "execution_count": null,
   "id": "848ec1fe-9868-4e76-9ef2-888b0bcdc60e",
   "metadata": {},
   "outputs": [],
   "source": []
  },
  {
   "cell_type": "markdown",
   "id": "df4f59ec-3453-4ed6-8277-10f92dc33e6d",
   "metadata": {
    "tags": []
   },
   "source": [
    "#### 신경망: 회귀"
   ]
  },
  {
   "cell_type": "code",
   "execution_count": null,
   "id": "1b2ebc5a-d382-405c-9a85-c89e04a2b60e",
   "metadata": {},
   "outputs": [],
   "source": [
    "### 회귀에서 손실함수 저장하기  : 분류와 다른점 -활성함수(출력층)/ 손실함수 관련해서 바꿀것\n",
    "# 손실함수의 결과값 저장 기능: 손실함수(loss) 계산하기-로지스틱 손실함수\n",
    "class SingleLayerRegression: # 입력계층 1개, 은닉층 없음\n",
    "    def __init__(self):\n",
    "        self.w = None   # 입력된 값 없으므로\n",
    "        self.b = None\n",
    "        # 손실 함수 저장하기 위한 리스트\n",
    "        self.losses = []\n",
    "        \n",
    "    def forpass(self, x):\n",
    "        z = np.sum(x * self.w) + self.b\n",
    "        return z\n",
    "    \n",
    "    def backprop(self, x, err):\n",
    "        w_grad = x * err\n",
    "        b_grad = 1 * err\n",
    "        return w_grad, b_grad\n",
    "    \n",
    "    def activation(self, z):    #### 이걸 바꿔줘야\n",
    "        a = z\n",
    "        return a\n",
    "    \n",
    "    def fit(self, x, y, epochs = 100):\n",
    "        self.w = np.ones(x.shape[1])\n",
    "        self.b = 0 \n",
    "        for epoch in range(epochs):\n",
    "            # 손실 초기화\n",
    "            loss = 0\n",
    "            # x의 index 랜덤하게 반환\n",
    "            indexes = np.random.permutation(np.arange(len(x)))\n",
    "            for i in indexes:\n",
    "                z = self.forpass(x[i])\n",
    "                a = self.activation(z)\n",
    "                err = -(y[i] - a)  # (y - y_hat)\n",
    "                w_grad, b_grad = self.backprop(x[i], err)\n",
    "                self.w -= w_grad\n",
    "                self.b -= b_grad\n",
    "                \n",
    "                # 손실 계산 (SE)  (y - y_hat)^2\n",
    "                loss += err ** 2\n",
    "\n",
    "            # 에포크마다 평균 손실을 저장\n",
    "            loss = loss / len(y) # MSE\n",
    "            self.losses.append(loss)\n",
    "            print(f'##### EPOCHS : {epoch + 1} ######')\n",
    "            print(f'loss : {loss}')\n",
    "            \n",
    "    def predict(self, x):\n",
    "        z = [self.forpass(x_i) for x_i in x]\n",
    "        return z\n"
   ]
  },
  {
   "cell_type": "code",
   "execution_count": null,
   "id": "dc6c1e71-9724-4a2b-8063-3f186f9cef23",
   "metadata": {},
   "outputs": [],
   "source": [
    "reg = SingleLayerRegression()\n",
    "layer.fit(X_train_scaled, y_train, epochs=100)\n",
    "print(layer.score(X_test_scaled, y_test))"
   ]
  },
  {
   "cell_type": "raw",
   "id": "19ba0140-fd9e-4d40-9dff-360b0fa5a51a",
   "metadata": {},
   "source": [
    "에포크 특징: 에포크는 모든 데이터를 최소 한번은 학습해야 한다.\n",
    "\n",
    "에포크마다 학습횟수\n",
    "    데이터당 학습 - 한번에 데이터를 하나씩 적용하여 가중치 업데이트  \n",
    "    1회 학습 -한번에 모든 데이터를 한번에 적용하여 가중치 업데이트   -- 가장 빠름/정확도도 좋음 /메모리 사용량 문제\n",
    "        : 한꺼번에 가져와서 한꺼번에 학습- 평균에러를 가지고 가중치 조절 / 행렬 곱셈 해야함 \n",
    "    N회 학습 - 데이터를 m개씩 묶어서 가중치 업데이트 "
   ]
  },
  {
   "cell_type": "code",
   "execution_count": null,
   "id": "438e945f-19bd-45f9-ac70-a4bbd2bbd0e8",
   "metadata": {},
   "outputs": [],
   "source": []
  },
  {
   "cell_type": "code",
   "execution_count": null,
   "id": "60673b0d-3e2f-4eb9-8c74-8e35394ce330",
   "metadata": {},
   "outputs": [],
   "source": []
  },
  {
   "cell_type": "code",
   "execution_count": null,
   "id": "fa3da333-5d60-41b1-88ca-9f1738b205cf",
   "metadata": {},
   "outputs": [],
   "source": []
  },
  {
   "cell_type": "code",
   "execution_count": null,
   "id": "98796ce6-47d0-4f9f-af12-5833e89f5956",
   "metadata": {},
   "outputs": [],
   "source": []
  },
  {
   "cell_type": "code",
   "execution_count": null,
   "id": "ca55d7af-5cec-4c14-a138-72c4d6df081a",
   "metadata": {},
   "outputs": [],
   "source": []
  },
  {
   "cell_type": "code",
   "execution_count": null,
   "id": "0ea38586-2224-4c15-96c2-65268af9e8b3",
   "metadata": {},
   "outputs": [],
   "source": []
  },
  {
   "cell_type": "code",
   "execution_count": null,
   "id": "5eedcbfb-ea36-4968-ab6f-31bdbeed6c83",
   "metadata": {},
   "outputs": [],
   "source": []
  },
  {
   "cell_type": "code",
   "execution_count": null,
   "id": "d163a7c3-b4c5-4948-93e0-c672017c0bf2",
   "metadata": {},
   "outputs": [],
   "source": []
  },
  {
   "cell_type": "code",
   "execution_count": null,
   "id": "69a1cf80-fe90-428e-8e23-f94aa7746f5d",
   "metadata": {},
   "outputs": [],
   "source": []
  },
  {
   "cell_type": "code",
   "execution_count": null,
   "id": "c6e85916-c93e-4b3d-8e35-11d674083bfd",
   "metadata": {},
   "outputs": [],
   "source": []
  },
  {
   "cell_type": "code",
   "execution_count": null,
   "id": "97d232a3-8b09-461c-b0b9-f4c2079688dd",
   "metadata": {},
   "outputs": [],
   "source": []
  },
  {
   "cell_type": "code",
   "execution_count": null,
   "id": "30fe770e-4309-4100-ae88-5ae09c378556",
   "metadata": {},
   "outputs": [],
   "source": []
  },
  {
   "cell_type": "code",
   "execution_count": null,
   "id": "8276d5f6-bdf3-4759-82ca-edeceb5b8bb2",
   "metadata": {},
   "outputs": [],
   "source": []
  },
  {
   "cell_type": "code",
   "execution_count": null,
   "id": "7e57280a-171c-44c6-afcb-e8ad74b2e265",
   "metadata": {},
   "outputs": [],
   "source": []
  },
  {
   "cell_type": "code",
   "execution_count": null,
   "id": "32e7f749-5d4b-4eeb-99e8-a4e7ff4ea90b",
   "metadata": {},
   "outputs": [],
   "source": []
  },
  {
   "cell_type": "code",
   "execution_count": null,
   "id": "1a20cc9c-96ac-4db8-8266-06e207688d77",
   "metadata": {},
   "outputs": [],
   "source": []
  }
 ],
 "metadata": {
  "kernelspec": {
   "display_name": "Python 3 (ipykernel)",
   "language": "python",
   "name": "python3"
  },
  "language_info": {
   "codemirror_mode": {
    "name": "ipython",
    "version": 3
   },
   "file_extension": ".py",
   "mimetype": "text/x-python",
   "name": "python",
   "nbconvert_exporter": "python",
   "pygments_lexer": "ipython3",
   "version": "3.11.5"
  }
 },
 "nbformat": 4,
 "nbformat_minor": 5
}
