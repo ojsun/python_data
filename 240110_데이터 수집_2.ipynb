{
 "cells": [
  {
   "cell_type": "code",
   "execution_count": 1,
   "id": "fe8a589a",
   "metadata": {
    "scrolled": false
   },
   "outputs": [
    {
     "name": "stdout",
     "output_type": "stream",
     "text": [
      "인공지능 개발의 모든 것\n"
     ]
    }
   ],
   "source": [
    "import requests\n",
    "from urllib.request import urlopen\n",
    "from bs4 import BeautifulSoup\n",
    "\n",
    "url = 'https://ai-dev.tistory.com/1'\n",
    "\n",
    "response = requests.get(url)\n",
    "# response = urlopen(url)\n",
    "\n",
    "soup = BeautifulSoup(response.content, 'html.parser')\n",
    "title = soup.select_one('header > h1 > a')\n",
    "print(title.text)\n",
    "# print(title.get('href'))"
   ]
  },
  {
   "cell_type": "code",
   "execution_count": 2,
   "id": "a77ba8c9",
   "metadata": {
    "scrolled": true
   },
   "outputs": [
    {
     "data": {
      "text/plain": [
       "'<!doctype html>\\n<html lang=\"ko\">\\n\\n                                                                                <head>\\n                <script type=\"text/javascript\">if (!window.T) { window.T = {} }\\nwindow.T.config = {\"TOP_SSL_URL\":\"https://www.tistory.com\",\"PREVIEW\":false,\"ROLE\":\"guest\",\"PREV_PAGE\":\"\",\"NEXT_PAGE\":\"\",\"BLOG\":{\"id\":4442027,\"name\":\"ai-dev\",\"title\":\"인공지능 개발의 모든 것\",\"isDormancy\":false,\"nickName\":\"로스카츠\",\"status\":\"open\"},\"NEED_COMMENT_LOGIN\":false,\"COMMENT_LOGIN_CONFIRM_MESSAGE\":\"\",\"LOGIN_URL\":\"https://www.tistory.com/auth/login/?redirectUrl=https://ai-dev.tistory.com/1\",\"DEFAULT_URL\":\"https://ai-dev.tistory.com\",\"USER\":{\"name\":null,\"homepage\":null,\"id\":0,\"profileImage\":null},\"SUBSCRIPTION\":{\"status\":\"none\",\"isConnected\":false,\"isPending\":false,\"isWait\":false,\"isProcessing\":false,\"isNone\":true},\"IS_LOGIN\":false,\"HAS_BLOG\":false,\"IS_SUPPORT\":false,\"TOP_URL\":\"http://www.tistory.com\",\"JOIN_URL\":\"https://www.tistory.com/member/join\",\"ROLE_GROUP\":\"visitor\"};\\nwindow.appInfo = {\"domain\":\"tistory.com\",\"topUrl\":\"https://www.tistory.com\",\"loginUrl\":\"https://www.tistory.com/auth/login\",\"logoutUrl\":\"https://www.tistory.com/auth/logout\"};\\nwindow.initData = {};\\n\\nwindow.TistoryBlog = {\\n    basePath: \"\",\\n    url: \"https://ai-dev.tistory.com\",\\n    tistoryUrl: \"https://ai-dev.tistory.com\",\\n    manageUrl: \"https://ai-dev.tistory.com/manage\",\\n    token: \"LpnaFVcLDaKBx4nTuSrKur2PlUMAAZy3ToBrLWlHATCLESI46NUtY26qoY9tlROr\"\\n};\\nvar servicePath = \"\";\\nvar blogURL = \"\";</script>\\n\\n                \\n                \\n                \\n                        <!-- BusinessLicenseInfo - START -->\\n        \\n            <link href=\"https://tistory1.daumcdn.net/tistory_admin/userblog/tistory-89ffa62f975dd7f9671c41eac1cf84bc404f93f9/static/plugin/BusinessLicenseInfo/style.css\" rel=\"stylesheet\" type=\"text/css\"/>\\n\\n            <script>function switchFold(entryId) {\\n    var businessLayer = document.getElementById(\"businessInfoLayer_\" + entryId);\\n\\n    if (businessLayer) {\\n        if (businessLayer.className.indexOf(\"unfold_license\") > 0) {\\n            businessLayer.className = \"business_license_layer\";\\n        } else {\\n            businessLayer.className = \"business_license_layer unfold_license\";\\n        }\\n    }\\n}\\n</script>\\n\\n        \\n        <!-- BusinessLicenseInfo - END -->\\n        <!-- DaumShow - START -->\\n        <style type=\"text/css\">#daumSearchBox {\\n    height: 21px;\\n    background-image: url(//i1.daumcdn.net/imgsrc.search/search_all/show/tistory/plugin/bg_search2_2.gif);\\n    margin: 5px auto;\\n    padding: 0;\\n}\\n\\n#daumSearchBox input {\\n    background: none;\\n    margin: 0;\\n    padding: 0;\\n    border: 0;\\n}\\n\\n#daumSearchBox #daumLogo {\\n    width: 34px;\\n    height: 21px;\\n    float: left;\\n    margin-right: 5px;\\n    background-image: url(//i1.daumcdn.net/img-media/tistory/img/bg_search1_2_2010ci.gif);\\n}\\n\\n#daumSearchBox #show_q {\\n    background-color: transparent;\\n    border: none;\\n    font: 12px Gulim, Sans-serif;\\n    color: #555;\\n    margin-top: 4px;\\n    margin-right: 15px;\\n    float: left;\\n}\\n\\n#daumSearchBox #show_btn {\\n    background-image: url(//i1.daumcdn.net/imgsrc.search/search_all/show/tistory/plugin/bt_search_2.gif);\\n    width: 37px;\\n    height: 21px;\\n    float: left;\\n    margin: 0;\\n    cursor: pointer;\\n    text-indent: -1000em;\\n}\\n</style>\\n\\n        <!-- DaumShow - END -->\\n\\n<!-- System - START -->\\n\\n<!-- System - END -->\\n\\n        <!-- TistoryProfileLayer - START -->\\n        <link href=\"https://tistory1.daumcdn.net/tistory_admin/userblog/tistory-89ffa62f975dd7f9671c41eac1cf84bc404f93f9/static/plugin/TistoryProfileLayer/style.css\" rel=\"stylesheet\" type=\"text/css\"/>\\n<script type=\"text/javascript\" src=\"https://tistory1.daumcdn.net/tistory_admin/userblog/tistory-89ffa62f975dd7f9671c41eac1cf84bc404f93f9/static/plugin/TistoryProfileLayer/script.js\"></script>\\n\\n        <!-- TistoryProfileLayer - END -->\\n\\n                \\n                <meta http-equiv=\"X-UA-Compatible\" content=\"IE=Edge\">\\n<meta name=\"format-detection\" content=\"telephone=no\">\\n<script src=\"//t1.daumcdn.net/tistory_admin/lib/jquery/jquery-3.5.1.min.js\" integrity=\"sha256-9/aliU8dGd2tb6OSsuzixeV4y/faTqgFtohetphbbj0=\" crossorigin=\"anonymous\"></script>\\n<script src=\"//t1.daumcdn.net/tistory_admin/lib/lightbox/js/lightbox-v2.10.0.min.js\" defer></script>\\n<script type=\"text/javascript\" src=\"//t1.daumcdn.net/tiara/js/v1/tiara.min.js\"></script><meta name=\"referrer\" content=\"always\"/>\\n<meta name=\"google-adsense-platform-account\" content=\"ca-host-pub-9691043933427338\"/>\\n<meta name=\"google-adsense-platform-domain\" content=\"tistory.com\"/>\\n<meta name=\"description\" content=\"Hello, world!\"/>\\n<meta property=\"og:type\" content=\"article\"/>\\n<meta property=\"og:url\" content=\"https://ai-dev.tistory.com/1\"/>\\n<meta property=\"og.article.author\" content=\"로스카츠\"/>\\n<meta property=\"og:site_name\" content=\"인공지능 개발의 모든 것\"/>\\n<meta property=\"og:title\" content=\"크롤링의 세계에 오신 것을 환영합니다.\"/>\\n<meta name=\"by\" content=\"로스카츠\"/>\\n<meta property=\"og:description\" content=\"Hello, world!\"/>\\n<meta property=\"og:image\" content=\"https://img1.daumcdn.net/thumb/R800x0/?scode=mtistory2&fname=https%3A%2F%2Ft1.daumcdn.net%2Ftistory_admin%2Fstatic%2Fimages%2FopenGraph%2Fopengraph.png\"/>\\n<meta name=\"twitter:card\" content=\"summary_large_image\"/>\\n<meta name=\"twitter:site\" content=\"@TISTORY\"/>\\n<meta name=\"twitter:title\" content=\"크롤링의 세계에 오신 것을 환영합니다.\"/>\\n<meta name=\"twitter:description\" content=\"Hello, world!\"/>\\n<meta property=\"twitter:image\" content=\"https://img1.daumcdn.net/thumb/R800x0/?scode=mtistory2&fname=https%3A%2F%2Ft1.daumcdn.net%2Ftistory_admin%2Fstatic%2Fimages%2FopenGraph%2Fopengraph.png\"/>\\n<meta content=\"https://ai-dev.tistory.com/1\" property=\"dg:plink\" content=\"https://ai-dev.tistory.com/1\"/>\\n<meta name=\"plink\"/>\\n<meta name=\"title\" content=\"크롤링의 세계에 오신 것을 환영합니다.\"/>\\n<meta name=\"article:media_name\" content=\"인공지능 개발의 모든 것\"/>\\n<meta property=\"article:mobile_url\" content=\"https://ai-dev.tistory.com/m/1\"/>\\n<meta property=\"article:pc_url\" content=\"https://ai-dev.tistory.com/1\"/>\\n<meta property=\"article:mobile_view_url\" content=\"https://ai-dev.tistory.com/m/1\"/>\\n<meta property=\"article:pc_view_url\" content=\"https://ai-dev.tistory.com/1\"/>\\n<meta property=\"article:talk_channel_view_url\" content=\"https://ai-dev.tistory.com/m/1\"/>\\n<meta property=\"article:pc_service_home\" content=\"https://www.tistory.com\"/>\\n<meta property=\"article:mobile_service_home\" content=\"https://www.tistory.com/m\"/>\\n<meta property=\"article:txid\" content=\"4442027_1\"/>\\n<meta property=\"article:published_time\" content=\"2021-01-21T14:06:56+09:00\"/>\\n<meta property=\"og:regDate\" content=\"20210121020656\"/>\\n<meta property=\"article:modified_time\" content=\"2021-01-21T14:06:56+09:00\"/>\\n<link rel=\"stylesheet\" type=\"text/css\" href=\"https://t1.daumcdn.net/tistory_admin/lib/lightbox/css/lightbox.min.css\"/>\\n<link rel=\"stylesheet\" type=\"text/css\" href=\"https://tistory1.daumcdn.net/tistory_admin/userblog/tistory-89ffa62f975dd7f9671c41eac1cf84bc404f93f9/static/style/font.css\"/>\\n<link rel=\"stylesheet\" type=\"text/css\" href=\"https://tistory1.daumcdn.net/tistory_admin/userblog/tistory-89ffa62f975dd7f9671c41eac1cf84bc404f93f9/static/style/content.css\"/>\\n<link rel=\"stylesheet\" type=\"text/css\" href=\"https://tistory1.daumcdn.net/tistory_admin/userblog/tistory-89ffa62f975dd7f9671c41eac1cf84bc404f93f9/static/style/uselessPMargin.css\"/>\\n<script type=\"text/javascript\">(function() {\\n    var tjQuery = jQuery.noConflict(true);\\n    window.tjQuery = tjQuery;\\n    window.orgjQuery = window.jQuery; window.jQuery = tjQuery;\\n    window.jQuery = window.orgjQuery; delete window.orgjQuery;\\n})()</script>\\n<script type=\"text/javascript\" src=\"https://tistory1.daumcdn.net/tistory_admin/userblog/tistory-89ffa62f975dd7f9671c41eac1cf84bc404f93f9/static/script/base.js\"></script>\\n<script type=\"text/javascript\" src=\"//developers.kakao.com/sdk/js/kakao.min.js\"></script>\\n\\n                \\n  <meta charset=\"UTF-8\">\\n  <meta name=\"viewport\"\\n    content=\"user-scalable=no, initial-scale=1.0, maximum-scale=1.0, minimum-scale=1.0, width=device-width\">\\n  <title>크롤링의 세계에 오신 것을 환영합니다.</title>\\n  <link rel=\"stylesheet\" href=\"https://tistory1.daumcdn.net/tistory/0/pg_Poster/style.css\">\\n  <script src=\"//t1.daumcdn.net/tistory_admin/lib/jquery/jquery-1.12.4.min.js\"></script>\\n\\n                \\n                \\n                <style type=\"text/css\">.another_category {\\n    border: 1px solid #E5E5E5;\\n    padding: 10px 10px 5px;\\n    margin: 10px 0;\\n    clear: both;\\n}\\n\\n.another_category h4 {\\n    font-size: 12px !important;\\n    margin: 0 !important;\\n    border-bottom: 1px solid #E5E5E5 !important;\\n    padding: 2px 0 6px !important;\\n}\\n\\n.another_category h4 a {\\n    font-weight: bold !important;\\n}\\n\\n.another_category table {\\n    table-layout: fixed;\\n    border-collapse: collapse;\\n    width: 100% !important;\\n    margin-top: 10px !important;\\n}\\n\\n* html .another_category table {\\n    width: auto !important;\\n}\\n\\n*:first-child + html .another_category table {\\n    width: auto !important;\\n}\\n\\n.another_category th, .another_category td {\\n    padding: 0 0 4px !important;\\n}\\n\\n.another_category th {\\n    text-align: left;\\n    font-size: 12px !important;\\n    font-weight: normal;\\n    word-break: break-all;\\n    overflow: hidden;\\n    line-height: 1.5;\\n}\\n\\n.another_category td {\\n    text-align: right;\\n    width: 80px;\\n    font-size: 11px;\\n}\\n\\n.another_category th a {\\n    font-weight: normal;\\n    text-decoration: none;\\n    border: none !important;\\n}\\n\\n.another_category th a.current {\\n    font-weight: bold;\\n    text-decoration: none !important;\\n    border-bottom: 1px solid !important;\\n}\\n\\n.another_category th span {\\n    font-weight: normal;\\n    text-decoration: none;\\n    font: 10px Tahoma, Sans-serif;\\n    border: none !important;\\n}\\n\\n.another_category_color_gray, .another_category_color_gray h4 {\\n    border-color: #E5E5E5 !important;\\n}\\n\\n.another_category_color_gray * {\\n    color: #909090 !important;\\n}\\n\\n.another_category_color_gray th a.current {\\n    border-color: #909090 !important;\\n}\\n\\n.another_category_color_gray h4, .another_category_color_gray h4 a {\\n    color: #737373 !important;\\n}\\n\\n.another_category_color_red, .another_category_color_red h4 {\\n    border-color: #F6D4D3 !important;\\n}\\n\\n.another_category_color_red * {\\n    color: #E86869 !important;\\n}\\n\\n.another_category_color_red th a.current {\\n    border-color: #E86869 !important;\\n}\\n\\n.another_category_color_red h4, .another_category_color_red h4 a {\\n    color: #ED0908 !important;\\n}\\n\\n.another_category_color_green, .another_category_color_green h4 {\\n    border-color: #CCE7C8 !important;\\n}\\n\\n.another_category_color_green * {\\n    color: #64C05B !important;\\n}\\n\\n.another_category_color_green th a.current {\\n    border-color: #64C05B !important;\\n}\\n\\n.another_category_color_green h4, .another_category_color_green h4 a {\\n    color: #3EA731 !important;\\n}\\n\\n.another_category_color_blue, .another_category_color_blue h4 {\\n    border-color: #C8DAF2 !important;\\n}\\n\\n.another_category_color_blue * {\\n    color: #477FD6 !important;\\n}\\n\\n.another_category_color_blue th a.current {\\n    border-color: #477FD6 !important;\\n}\\n\\n.another_category_color_blue h4, .another_category_color_blue h4 a {\\n    color: #1960CA !important;\\n}\\n\\n.another_category_color_violet, .another_category_color_violet h4 {\\n    border-color: #E1CEEC !important;\\n}\\n\\n.another_category_color_violet * {\\n    color: #9D64C5 !important;\\n}\\n\\n.another_category_color_violet th a.current {\\n    border-color: #9D64C5 !important;\\n}\\n\\n.another_category_color_violet h4, .another_category_color_violet h4 a {\\n    color: #7E2CB5 !important;\\n}\\n</style>\\n\\n                \\n                <link rel=\"stylesheet\" type=\"text/css\" href=\"https://tistory1.daumcdn.net/tistory_admin/userblog/tistory-89ffa62f975dd7f9671c41eac1cf84bc404f93f9/static/style/dialog.css\"/>\\n<link rel=\"stylesheet\" type=\"text/css\" href=\"//t1.daumcdn.net/tistory_admin/www/style/top/font.css\"/>\\n<link rel=\"stylesheet\" type=\"text/css\" href=\"https://tistory1.daumcdn.net/tistory_admin/userblog/tistory-89ffa62f975dd7f9671c41eac1cf84bc404f93f9/static/style/postBtn.css\"/>\\n<link rel=\"stylesheet\" type=\"text/css\" href=\"https://tistory1.daumcdn.net/tistory_admin/userblog/tistory-89ffa62f975dd7f9671c41eac1cf84bc404f93f9/static/style/comment.css\"/>\\n<link rel=\"stylesheet\" type=\"text/css\" href=\"https://tistory1.daumcdn.net/tistory_admin/userblog/tistory-89ffa62f975dd7f9671c41eac1cf84bc404f93f9/static/style/tistory.css\"/>\\n<link rel=\"stylesheet\" type=\"text/css\" href=\"https://tistory1.daumcdn.net/tistory_admin/userblog/tistory-89ffa62f975dd7f9671c41eac1cf84bc404f93f9/static/style/revenue.css\"/>\\n<link rel=\"canonical\" href=\"https://ai-dev.tistory.com/1\"/>\\n\\n<!-- BEGIN STRUCTURED_DATA -->\\n<script type=\"application/ld+json\">\\n    {\"@context\":\"http://schema.org\",\"@type\":\"BlogPosting\",\"mainEntityOfPage\":{\"@id\":\"https://ai-dev.tistory.com/1\",\"name\":null},\"url\":\"https://ai-dev.tistory.com/1\",\"headline\":\"크롤링의 세계에 오신 것을 환영합니다.\",\"description\":\"Hello, world!\",\"author\":{\"@type\":\"Person\",\"name\":\"로스카츠\",\"logo\":null},\"image\":{\"@type\":\"ImageObject\",\"url\":\"https://img1.daumcdn.net/thumb/R800x0/?scode=mtistory2&fname=https%3A%2F%2Ft1.daumcdn.net%2Ftistory_admin%2Fstatic%2Fimages%2FopenGraph%2Fopengraph.png\",\"width\":\"800px\",\"height\":\"800px\"},\"datePublished\":\"20210121T14:06:56\",\"dateModified\":\"20210121T14:06:56\",\"publisher\":{\"@type\":\"Organization\",\"name\":\"TISTORY\",\"logo\":{\"@type\":\"ImageObject\",\"url\":\"https://t1.daumcdn.net/tistory_admin/static/images/openGraph/opengraph.png\",\"width\":\"800px\",\"height\":\"800px\"}}}\\n</script>\\n<!-- END STRUCTURED_DATA -->\\n<script type=\"text/javascript\" src=\"https://tistory1.daumcdn.net/tistory_admin/userblog/tistory-89ffa62f975dd7f9671c41eac1cf84bc404f93f9/static/script/common.js\"></script>\\n<script type=\"text/javascript\" src=\"https://tistory1.daumcdn.net/tistory_admin/userblog/tistory-89ffa62f975dd7f9671c41eac1cf84bc404f93f9/static/script/comment.js\" defer=\"\"></script>\\n\\n                \\n                </head>\\n\\n                                                <body id=\"tt-body-page\"\\n  class=\"color-gray post-type-text paging-view-more\">\\n                \\n                \\n                \\n  \\n    <div id=\"acc-nav\">\\n      <a href=\"#content\">본문 바로가기</a>\\n    </div>\\n    <div id=\"wrap\">\\n      <header id=\"header\">\\n        <h1><a href=\"https://ai-dev.tistory.com/\">인공지능 개발의 모든 것</a></h1>\\n        <button type=\"button\" class=\"mobile-menu\"><span>메뉴</span></button>\\n        <div class=\"menu\">\\n          <nav id=\"gnb\">\\n            <ul class=\"tt_category\"><li class=\"\"><a href=\"/category\" class=\"link_tit\"> 분류 전체보기 <span class=\"c_cnt\">(2)</span> </a>\\n  <ul class=\"category_list\"><li class=\"\"><a href=\"/category/%ED%81%AC%EB%A1%A4%EB%A7%81\" class=\"link_item\"> 크롤링 <span class=\"c_cnt\">(2)</span> </a></li>\\n</ul>\\n</li>\\n</ul>\\n\\n          </nav>\\n          <div class=\"social-link\">\\n            \\n            \\n            \\n            \\n          </div>\\n          <p>POWERED BY TISTORY</p>\\n        </div>\\n        <div class=\"search\">\\n          \\n            <label for=\"search\" class=\"screen_out\">블로그 내 검색</label>\\n            <input id=\"search\" type=\"text\" name=\"search\" value=\"\"\\n              placeholder=\"검색내용을 입력하세요.\" onkeypress=\"if (event.keyCode == 13) { try {\\n    window.location.href = \\'/search\\' + \\'/\\' + looseURIEncode(document.getElementsByName(\\'search\\')[0].value);\\n    document.getElementsByName(\\'search\\')[0].value = \\'\\';\\n    return false;\\n} catch (e) {} }\">\\n            <button type=\"submit\" onclick=\"try {\\n    window.location.href = \\'/search\\' + \\'/\\' + looseURIEncode(document.getElementsByName(\\'search\\')[0].value);\\n    document.getElementsByName(\\'search\\')[0].value = \\'\\';\\n    return false;\\n} catch (e) {}\">검색</button>\\n          \\n        </div>\\n      </header>\\n      <hr>\\n      <section class=\"container\">\\n        \\n        <article id=\"content\">\\n          \\n\\n          \\n\\n          \\n\\n          \\n\\n          <div class=\"inner\">\\n            \\n\\n                \\n        \\n  \\n  \\n    <div class=\"hgroup\">\\n      <div class=\"category\">크롤링</div>\\n      <h1>크롤링의 세계에 오신 것을 환영합니다. </h1>\\n      <div class=\"post-meta\">\\n        <span class=\"author\">로스카츠</span>\\n        <span class=\"date\">2021. 1. 21. 14:06</span>\\n        \\n      </div>\\n    </div>\\n    <div class=\"entry-content\" id=\"article-view\">\\n                  <!-- System - START -->\\n\\n<!-- System - END -->\\n\\n            <div class=\"tt_article_useless_p_margin contents_style\"><p>Hello, world!</p></div>\\n            <!-- System - START -->\\n\\n<!-- System - END -->\\n\\n                    <div class=\"container_postbtn #post_button_group\">\\n  <div class=\"postbtn_like\"><script>window.ReactionButtonType = \\'reaction\\';\\nwindow.ReactionApiUrl = \\'//ai-dev.tistory.com/reaction\\';\\nwindow.ReactionReqBody = {\\n    entryId: 1\\n}</script>\\n<div class=\"wrap_btn\" id=\"reaction-1\"></div>\\n<script src=\"https://tistory1.daumcdn.net/tistory_admin/userblog/tistory-89ffa62f975dd7f9671c41eac1cf84bc404f93f9/static/script/reaction-button-container.min.js\"></script><div class=\"wrap_btn wrap_btn_share\"><button type=\"button\" class=\"btn_post sns_btn btn_share\" aria-expanded=\"false\" data-thumbnail-url=\"https://t1.daumcdn.net/tistory_admin/static/images/openGraph/opengraph.png\" data-title=\"크롤링의 세계에 오신 것을 환영합니다.\" data-description=\"Hello, world!\" data-profile-image=\"https://t1.daumcdn.net/tistory_admin/static/manage/images/r3/default_L.png\" data-profile-name=\"로스카츠\" data-pc-url=\"https://ai-dev.tistory.com/1\" data-relative-pc-url=\"/1\" data-blog-title=\"인공지능 개발의 모든 것\"><span class=\"ico_postbtn ico_share\">공유하기</span></button>\\n  <div class=\"layer_post\" id=\"tistorySnsLayer\"></div>\\n</div><div class=\"wrap_btn wrap_btn_etc\" data-entry-id=\"1\" data-entry-visibility=\"public\" data-category-visibility=\"public\"><button type=\"button\" class=\"btn_post btn_etc2\" aria-expanded=\"false\"><span class=\"ico_postbtn ico_etc\">게시글 관리</span></button>\\n  <div class=\"layer_post\" id=\"tistoryEtcLayer\"></div>\\n</div></div>\\n<button type=\"button\" class=\"btn_menu_toolbar btn_subscription  #subscribe\" data-blog-id=\"4442027\" data-url=\"https://ai-dev.tistory.com/1\" data-device=\"web_pc\"><em class=\"txt_state\">구독하기</em><strong class=\"txt_tool_id\">인공지능 개발의 모든 것</strong><span class=\"img_common_tistory ico_check_type1\"></span></button>  <div data-tistory-react-app=\"SupportButton\"></div>\\n</div>\\n\\n                    <!-- PostListinCategory - START -->\\n<div class=\"another_category another_category_color_gray\">\\n  <h4>\\'<a href=\"/category/%ED%81%AC%EB%A1%A4%EB%A7%81\">크롤링</a>\\' 카테고리의 다른 글</h4>\\n  <table>\\n    <tr>\\n      <th><a href=\"/2\">크롤링 예제 페이지 - 02</a>&nbsp;&nbsp;<span>(6)</span></th>\\n      <td>2021.08.08</td>\\n    </tr>\\n  </table>\\n</div>\\n\\n<!-- PostListinCategory - END -->\\n\\n    </div>\\n    \\n\\n    \\n      <div class=\"related-articles\">\\n        <h2><strong>\\'크롤링\\'</strong> Related Articles</h2>\\n        <ul>\\n          \\n            <li>\\n              <a href=\"/2?category=836119\">\\n                <span class=\"thum\">\\n                  \\n                </span>\\n                <span class=\"title\">크롤링 예제 페이지 - 02</span>\\n              </a>\\n            </li>\\n          \\n        </ul>\\n      </div>\\n    \\n\\n    <div data-tistory-react-app=\"Namecard\"></div><div id=\"entry1Comment\">\\n      <div class=\"comments\">\\n        <div data-tistory-react-app=\"Comment\"></div>\\n\\n      </div>\\n    </div>\\n<script type=\"text/javascript\">loadedComments[1]=true;\\nfindFragmentAndHighlight(1);</script>\\n\\n\\n  \\n\\n        \\n    \\n          </div>\\n\\n          \\n\\n          \\n\\n          \\n\\n        </article>\\n      </section>\\n      <hr>\\n      \\n      <footer id=\"footer\">\\n        <p class=\"copyright\">DESIGN BY <a href=\"#\">TISTORY</a> <a href=\"https://ai-dev.tistory.com/manage\" class=\"admin\">관리자</a></p>\\n      </footer>\\n    </div>\\n    <script src=\"https://tistory1.daumcdn.net/tistory/0/pg_Poster/images/script.js\"></script>\\n  \\n<div class=\"#menubar menu_toolbar \">\\n  <h2 class=\"screen_out\">티스토리툴바</h2>\\n</div>\\n<div class=\"#menubar menu_toolbar \"></div>\\n<div class=\"layer_tooltip\">\\n  <div class=\"inner_layer_tooltip\">\\n    <p class=\"desc_g\"></p>\\n  </div>\\n</div>\\n<iframe id=\"editEntry\" style=\"position:absolute;width:1px;height:1px;left:-100px;top:-100px\" src=\"//ai-dev.tistory.com/api\"></iframe>\\n\\n                <!-- DragSearchHandler - START -->\\n<script src=\"//search1.daumcdn.net/search/statics/common/js/g/search_dragselection.min.js\"></script>\\n\\n<!-- DragSearchHandler - END -->\\n\\n                \\n                <script type=\"text/javascript\">(function($) {\\n    $(document).ready(function() {\\n        lightbox.options.fadeDuration = 200;\\n        lightbox.options.resizeDuration = 200;\\n        lightbox.options.wrapAround = false;\\n        lightbox.options.albumLabel = \"%1 / %2\";\\n    })\\n})(tjQuery);</script>\\n<div style=\"margin:0; padding:0; border:none; background:none; float:none; clear:none; z-index:0\"></div>\\n<script type=\"text/javascript\" src=\"https://tistory1.daumcdn.net/tistory_admin/userblog/tistory-89ffa62f975dd7f9671c41eac1cf84bc404f93f9/static/script/common.js\"></script>\\n<script type=\"text/javascript\">window.roosevelt_params_queue = window.roosevelt_params_queue || [{channel_id: \\'dk\\', channel_label: \\'{tistory}\\'}]</script>\\n<script type=\"text/javascript\" src=\"//t1.daumcdn.net/midas/rt/dk_bt/roosevelt_dk_bt.js\" async=\"async\"></script>\\n<script type=\"text/javascript\" src=\"https://tistory1.daumcdn.net/tistory_admin/userblog/tistory-89ffa62f975dd7f9671c41eac1cf84bc404f93f9/static/script/menubar.min.js\"></script>\\n<script>            (function (win, doc, src) {\\n    win.Wpm = win.Wpm || function (name, param) {\\n        win.Wpm.queue = win.Wpm.queue || [];\\n        const { queue } = win.Wpm;\\n        queue.push([name, param]);\\n    };\\n    const script = doc.createElement(\\'script\\');\\n    script.src = src;\\n    script.async = 1;\\n    const [elem] = doc.getElementsByTagName(\\'script\\');\\n    elem.parentNode.insertBefore(script, elem);\\n})(window, document, \\'https://t1.kakaocdn.net/malibu_prod/normal_wpm.js\\');\\n            const APP_KEY = \\'fd21bd1c091849f9a2555e49c43a73dd\\';\\n            Wpm(\\'appKey\\', APP_KEY);</script>\\n\\n                \\n                <script>window.tiara = {\"svcDomain\":\"user.tistory.com\",\"section\":\"글뷰\",\"trackPage\":\"글뷰_보기\",\"page\":\"글뷰\",\"key\":\"4442027-1\",\"customProps\":{\"userId\":\"0\",\"blogId\":\"4442027\",\"entryId\":\"1\",\"role\":\"guest\",\"trackPage\":\"글뷰_보기\",\"filterTarget\":false},\"entry\":{\"entryId\":\"1\",\"categoryName\":\"크롤링\",\"categoryId\":\"836119\",\"author\":\"4727327\",\"image\":\"\",\"plink\":\"/1\",\"tags\":[]},\"kakaoAppKey\":\"3e6ddd834b023f24221217e370daed18\",\"appUserId\":\"null\"}</script>\\n<script type=\"text/javascript\" src=\"https://tistory1.daumcdn.net/tistory_admin/userblog/tistory-89ffa62f975dd7f9671c41eac1cf84bc404f93f9/static/script/tiara.min.js\"></script>\\n\\n                </body>\\n\\n</html>'"
      ]
     },
     "execution_count": 2,
     "metadata": {},
     "output_type": "execute_result"
    }
   ],
   "source": [
    "response.text"
   ]
  },
  {
   "cell_type": "code",
   "execution_count": 3,
   "id": "1fc82025",
   "metadata": {
    "scrolled": false
   },
   "outputs": [
    {
     "data": {
      "text/plain": [
       "[['상품', '색상', '가격'],\n",
       " ['셔츠1', '빨강', '20000'],\n",
       " ['셔츠2', '파랑', '19000'],\n",
       " ['셔츠3', '초록', '18000'],\n",
       " ['바지1', '검정', '50000'],\n",
       " ['바지2', '파랑', '51000']]"
      ]
     },
     "execution_count": 3,
     "metadata": {},
     "output_type": "execute_result"
    }
   ],
   "source": [
    "url = 'https://ai-dev.tistory.com/2'\n",
    "response = requests.get(url)\n",
    "\n",
    "soup = BeautifulSoup(response.content, 'html.parser')\n",
    "table = soup.select_one('div.tt_article_useless_p_margin table')\n",
    "rows = table.select('tr') # 'tr:not(:first-child)' - 첫번째 줄을 제외한 나머지 줄\n",
    "table_list = []\n",
    "for row in rows:\n",
    "    row_list = []\n",
    "    for td in row.select('td'):\n",
    "        row_list.append(td.text)\n",
    "    table_list.append(row_list)\n",
    "table_list"
   ]
  },
  {
   "cell_type": "code",
   "execution_count": 28,
   "id": "0a175d98",
   "metadata": {},
   "outputs": [
    {
     "data": {
      "text/plain": [
       "'\\n\\n\\n상품\\n색상\\n가격\\n\\n\\n셔츠1\\n빨강\\n20000\\n\\n\\n셔츠2\\n파랑\\n19000\\n\\n\\n셔츠3\\n초록\\n18000\\n\\n\\n바지1\\n검정\\n50000\\n\\n\\n바지2\\n파랑\\n51000\\n\\n\\n'"
      ]
     },
     "execution_count": 28,
     "metadata": {},
     "output_type": "execute_result"
    }
   ],
   "source": [
    "table.text"
   ]
  },
  {
   "cell_type": "code",
   "execution_count": 4,
   "id": "b5ea7074",
   "metadata": {},
   "outputs": [
    {
     "name": "stdout",
     "output_type": "stream",
     "text": [
      "['모니터', 'CPU', '메모리', '그래픽카드', '하드디스크', '키보드', '마우스']\n"
     ]
    }
   ],
   "source": [
    "items = soup.select_one('div.tt_article_useless_p_margin > ul')\n",
    "ul_list = []\n",
    "for item in items.select('li'):\n",
    "    ul_list.append(item.text)\n",
    "print(ul_list)"
   ]
  },
  {
   "cell_type": "markdown",
   "id": "ef00fa2c",
   "metadata": {},
   "source": [
    "### 페이지 이동하며 크롤링"
   ]
  },
  {
   "cell_type": "code",
   "execution_count": 5,
   "id": "d75f130b",
   "metadata": {},
   "outputs": [
    {
     "ename": "SyntaxError",
     "evalue": "expected 'except' or 'finally' block (1276186271.py, line 13)",
     "output_type": "error",
     "traceback": [
      "\u001b[1;36m  Cell \u001b[1;32mIn[5], line 13\u001b[1;36m\u001b[0m\n\u001b[1;33m    print(contents)\u001b[0m\n\u001b[1;37m                   ^\u001b[0m\n\u001b[1;31mSyntaxError\u001b[0m\u001b[1;31m:\u001b[0m expected 'except' or 'finally' block\n"
     ]
    }
   ],
   "source": [
    "contents = []\n",
    "\n",
    "for i in range(1, 5):\n",
    "    url = f'https://ai-dev.tistory.com/{i}' \n",
    "    response = requests.get(url)\n",
    "    if response.status_code == 200:\n",
    "        soup = BeautifulSoup(response.content, 'html.parser')\n",
    "        try:\n",
    "            title = soup.select_one('div.hgroup > h1').text\n",
    "            date = soup.select_one('span.date').text\n",
    "            contents.append([title, date])\n",
    "\n",
    "print(contents)"
   ]
  },
  {
   "cell_type": "code",
   "execution_count": 57,
   "id": "2fc6f8a5",
   "metadata": {},
   "outputs": [
    {
     "name": "stdout",
     "output_type": "stream",
     "text": [
      "성공\n"
     ]
    }
   ],
   "source": [
    "url = 'https://search.naver.com/search.naver?where=nexearch&sm=top_hty&fbm=0&ie=utf8&query=파이썬'\n",
    "response = requests.get(url)\n",
    "if response.status_code == 200:\n",
    "    print('성공')"
   ]
  },
  {
   "cell_type": "code",
   "execution_count": 58,
   "id": "ab3ef9c9",
   "metadata": {},
   "outputs": [
    {
     "name": "stdout",
     "output_type": "stream",
     "text": [
      "파이썬 자격증\n",
      "파이썬 독학\n",
      "파이썬 기초\n",
      "점프투파이썬\n",
      "파이썬 책\n",
      "파이썬 학원\n",
      "혼자 공부하는 파이썬\n",
      "파이썬 프로그램\n",
      "파이썬 다운로드\n",
      "파이썬 코드\n"
     ]
    }
   ],
   "source": [
    "soup = BeautifulSoup(response.content, 'html.parser')\n",
    "items = soup.select_one('ul.lst_related_srch')\n",
    "for item in items.select('li'):\n",
    "    print(item.text.strip())"
   ]
  },
  {
   "cell_type": "code",
   "execution_count": 56,
   "id": "ffbc5677",
   "metadata": {
    "scrolled": true
   },
   "outputs": [
    {
     "name": "stdout",
     "output_type": "stream",
     "text": [
      "['파이썬 자격증', '파이썬 독학', '파이썬 기초', '점프투파이썬', '파이썬 책', '파이썬 학원', '혼자 공부하는 파이썬', '파이썬 프로그램', '파이썬 다운로드', '파이썬 코드']\n"
     ]
    }
   ],
   "source": [
    "search_word_related = []\n",
    "soup = BeautifulSoup(response.content, 'html.parser')\n",
    "items = soup.select_one('ul.lst_related_srch')\n",
    "for item in items.select('li>a>div'):\n",
    "    search_word_related.append(item.text)\n",
    "    \n",
    "print(search_word_related)"
   ]
  },
  {
   "cell_type": "code",
   "execution_count": 68,
   "id": "fb934e38",
   "metadata": {},
   "outputs": [],
   "source": [
    "def naver_searching(search_word):\n",
    "    url = f'https://search.naver.com/search.naver?where=nexearch&sm=top_hty&fbm=0&ie=utf8&query={search_word}'\n",
    "    response = requests.get(url)\n",
    "    if response.status_code == 200:\n",
    "        search_word_related = []\n",
    "        soup = BeautifulSoup(response.content, 'html.parser')\n",
    "        items = soup.select_one('ul.lst_related_srch')\n",
    "        for item in items.select('li>a'):\n",
    "            search_word_related.append({ item.text.strip():  \n",
    "                        'https://search.naver.com/search.naver' + item.get('href')})\n",
    " \n",
    "        return search_word_related\n",
    "    else:\n",
    "        print(response.status_code)"
   ]
  },
  {
   "cell_type": "code",
   "execution_count": 69,
   "id": "053b6d9f",
   "metadata": {},
   "outputs": [
    {
     "data": {
      "text/plain": [
       "[{'삼성전자주가': 'https://search.naver.com/search.naver?where=nexearch&query=%EC%82%BC%EC%84%B1%EC%A0%84%EC%9E%90%EC%A3%BC%EA%B0%80&ie=utf8&sm=tab_she&qdt=0'},\n",
       " {'삼성전자 배당금': 'https://search.naver.com/search.naver?where=nexearch&query=%EC%82%BC%EC%84%B1%EC%A0%84%EC%9E%90+%EB%B0%B0%EB%8B%B9%EA%B8%88&ie=utf8&sm=tab_she&qdt=0'},\n",
       " {'삼성전자 성과급': 'https://search.naver.com/search.naver?where=nexearch&query=%EC%82%BC%EC%84%B1%EC%A0%84%EC%9E%90+%EC%84%B1%EA%B3%BC%EA%B8%89&ie=utf8&sm=tab_she&qdt=0'},\n",
       " {'삼성전자주식': 'https://search.naver.com/search.naver?where=nexearch&query=%EC%82%BC%EC%84%B1%EC%A0%84%EC%9E%90%EC%A3%BC%EC%8B%9D&ie=utf8&sm=tab_she&qdt=0'},\n",
       " {'삼성전자 채용': 'https://search.naver.com/search.naver?where=nexearch&query=%EC%82%BC%EC%84%B1%EC%A0%84%EC%9E%90+%EC%B1%84%EC%9A%A9&ie=utf8&sm=tab_she&qdt=0'},\n",
       " {'삼성전자서비스': 'https://search.naver.com/search.naver?where=nexearch&query=%EC%82%BC%EC%84%B1%EC%A0%84%EC%9E%90%EC%84%9C%EB%B9%84%EC%8A%A4&ie=utf8&sm=tab_she&qdt=0'},\n",
       " {'삼성전자서비스센타': 'https://search.naver.com/search.naver?where=nexearch&query=%EC%82%BC%EC%84%B1%EC%A0%84%EC%9E%90%EC%84%9C%EB%B9%84%EC%8A%A4%EC%84%BC%ED%83%80&ie=utf8&sm=tab_she&qdt=0'},\n",
       " {'삼성전자 pi': 'https://search.naver.com/search.naver?where=nexearch&query=%EC%82%BC%EC%84%B1%EC%A0%84%EC%9E%90+pi&ie=utf8&sm=tab_she&qdt=0'},\n",
       " {'오늘 삼성전자 주가': 'https://search.naver.com/search.naver?where=nexearch&query=%EC%98%A4%EB%8A%98+%EC%82%BC%EC%84%B1%EC%A0%84%EC%9E%90+%EC%A3%BC%EA%B0%80&ie=utf8&sm=tab_she&qdt=0'},\n",
       " {'삼성 전자레인지': 'https://search.naver.com/search.naver?where=nexearch&query=%EC%82%BC%EC%84%B1+%EC%A0%84%EC%9E%90%EB%A0%88%EC%9D%B8%EC%A7%80&ie=utf8&sm=tab_she&qdt=0'}]"
      ]
     },
     "execution_count": 69,
     "metadata": {},
     "output_type": "execute_result"
    }
   ],
   "source": [
    "naver_searching('삼성전자')"
   ]
  },
  {
   "cell_type": "code",
   "execution_count": 70,
   "id": "019fef4f",
   "metadata": {},
   "outputs": [],
   "source": [
    "import requests, json\n",
    "\n",
    "CLIENT_ID = \"s54DLwetu6NTphXQpHxC\"\n",
    "CLIENT_SECRET = \"_Iud1BL7ky\""
   ]
  },
  {
   "cell_type": "code",
   "execution_count": 71,
   "id": "432ef87f",
   "metadata": {},
   "outputs": [
    {
     "name": "stdout",
     "output_type": "stream",
     "text": [
      "{\"message\":{\"@type\":\"response\",\"@service\":\"naverservice.nmt.proxy\",\"@version\":\"1.0.0\",\"result\":{\"srcLangType\":\"ko\",\"tarLangType\":\"en\",\"translatedText\":\"Nice to meet you.\",\"engineType\":\"PRETRANS\"}}}\n"
     ]
    }
   ],
   "source": [
    "import os\n",
    "import sys\n",
    "import urllib.request\n",
    "client_id = \"s54DLwetu6NTphXQpHxC\" # 개발자센터에서 발급받은 Client ID 값\n",
    "client_secret = \"_Iud1BL7ky\" # 개발자센터에서 발급받은 Client Secret 값\n",
    "encText = urllib.parse.quote(\"반갑습니다\")\n",
    "data = \"source=ko&target=en&text=\" + encText\n",
    "url = \"https://openapi.naver.com/v1/papago/n2mt\"\n",
    "request = urllib.request.Request(url)\n",
    "request.add_header(\"X-Naver-Client-Id\",client_id)\n",
    "request.add_header(\"X-Naver-Client-Secret\",client_secret)\n",
    "response = urllib.request.urlopen(request, data=data.encode(\"utf-8\"))\n",
    "rescode = response.getcode()\n",
    "if(rescode==200):\n",
    "    response_body = response.read()\n",
    "    print(response_body.decode('utf-8'))\n",
    "else:\n",
    "    print(\"Error Code:\" + rescode)"
   ]
  },
  {
   "cell_type": "code",
   "execution_count": 83,
   "id": "aa209dc1",
   "metadata": {},
   "outputs": [
    {
     "data": {
      "text/plain": [
       "{'message': {'@type': 'response',\n",
       "  '@service': 'naverservice.nmt.proxy',\n",
       "  '@version': '1.0.0',\n",
       "  'result': {'srcLangType': 'ko',\n",
       "   'tarLangType': 'en',\n",
       "   'translatedText': 'Nice to meet you.',\n",
       "   'engineType': 'PRETRANS'}}}"
      ]
     },
     "execution_count": 83,
     "metadata": {},
     "output_type": "execute_result"
    }
   ],
   "source": [
    "json.loads(response_body.decode('utf-8'))"
   ]
  },
  {
   "cell_type": "code",
   "execution_count": 87,
   "id": "c732eeeb",
   "metadata": {},
   "outputs": [
    {
     "name": "stdout",
     "output_type": "stream",
     "text": [
      "<Response [200]>\n",
      "Data science is fun.\n"
     ]
    }
   ],
   "source": [
    "url = 'https://openapi.naver.com/v1/papago/n2mt'\n",
    "msg = \"데이터 사이언스는 재미있습니다.\"\n",
    "params = { \"source\": \"ko\", \"target\": \"en\", \"text\": msg }\n",
    "headers = { \"Content-Type\": \"application/json\",\n",
    "            \"X-Naver-Client-Id\": CLIENT_ID,\n",
    "            \"X-Naver-Client-Secret\": CLIENT_SECRET }\n",
    "response = requests.post(url, json.dumps(params), headers=headers)\n",
    "print(response)\n",
    "print(response.json()[\"message\"][\"result\"][\"translatedText\"])"
   ]
  },
  {
   "cell_type": "code",
   "execution_count": 90,
   "id": "6544a96b",
   "metadata": {},
   "outputs": [
    {
     "data": {
      "text/plain": [
       "'Data science is fun.'"
      ]
     },
     "execution_count": 90,
     "metadata": {},
     "output_type": "execute_result"
    }
   ],
   "source": [
    "response.json()['message']['result']['translatedText']"
   ]
  },
  {
   "cell_type": "code",
   "execution_count": 6,
   "id": "ca8b001b",
   "metadata": {},
   "outputs": [],
   "source": [
    "def translate(msg, source = \"ko\", target = \"en\"):\n",
    "    url = \"https://openapi.naver.com/v1/papago/n2mt\"\n",
    "    params = { \"source\": source, \"target\": target, \"text\": msg }\n",
    "    headers = {\"Content-Type\": \"application/json\",\n",
    "    \"X-Naver-Client-Id\": CLIENT_ID,\n",
    "    \"X-Naver-Client-Secret\": CLIENT_SECRET}\n",
    "    response = requests.post(url, json.dumps(params), \n",
    "    headers=headers)\n",
    "    if response.status_code == 200:\n",
    "        return response.json()[\"message\"][\"result\"][\"translatedText\"]\n",
    "    else:\n",
    "        return response.status_code"
   ]
  },
  {
   "cell_type": "code",
   "execution_count": 92,
   "id": "624baa38",
   "metadata": {},
   "outputs": [
    {
     "data": {
      "text/plain": [
       "'Web development that you learn while making A to Z'"
      ]
     },
     "execution_count": 92,
     "metadata": {},
     "output_type": "execute_result"
    }
   ],
   "source": [
    "translate('만들면서 배우는 웹 개발 A to Z')"
   ]
  },
  {
   "cell_type": "code",
   "execution_count": null,
   "id": "5d0e6dd6",
   "metadata": {},
   "outputs": [],
   "source": []
  }
 ],
 "metadata": {
  "kernelspec": {
   "display_name": "Python 3 (ipykernel)",
   "language": "python",
   "name": "python3"
  },
  "language_info": {
   "codemirror_mode": {
    "name": "ipython",
    "version": 3
   },
   "file_extension": ".py",
   "mimetype": "text/x-python",
   "name": "python",
   "nbconvert_exporter": "python",
   "pygments_lexer": "ipython3",
   "version": "3.11.5"
  }
 },
 "nbformat": 4,
 "nbformat_minor": 5
}
