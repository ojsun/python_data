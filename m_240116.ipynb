{
 "cells": [
  {
   "cell_type": "code",
   "execution_count": null,
   "id": "c579a6c1-8f78-4bd7-8660-9a04bb98fa29",
   "metadata": {},
   "outputs": [],
   "source": [
    "###지마켓_상품 이미지, 상품정보 리뷰 크롤링,DB 저장 등 자동화"
   ]
  },
  {
   "cell_type": "code",
   "execution_count": 79,
   "id": "452b63a5-8942-4e21-9a0f-8643405c4f38",
   "metadata": {},
   "outputs": [],
   "source": [
    "import requests\n",
    "from bs4 import BeautifulSoup "
   ]
  },
  {
   "cell_type": "code",
   "execution_count": 70,
   "id": "e062ffeb-5e10-40c0-842a-16163d9ed128",
   "metadata": {},
   "outputs": [
    {
     "name": "stdout",
     "output_type": "stream",
     "text": [
      "정상\n"
     ]
    }
   ],
   "source": [
    "url = 'https://www.gmarket.co.kr/n/best'\n",
    "\n",
    "response=requests.get(url)\n",
    "if response.status_code ==200:\n",
    "    print('정상')\n",
    "else:\n",
    "    print(response.status_code)"
   ]
  },
  {
   "cell_type": "code",
   "execution_count": 71,
   "id": "b667c21a-02fa-4c18-b460-14c85cb2b986",
   "metadata": {},
   "outputs": [],
   "source": [
    "bs=BeautifulSoup(response.content, \"html.parser\")\n",
    "ul=bs.select_one('div.best-list > ul')"
   ]
  },
  {
   "cell_type": "code",
   "execution_count": null,
   "id": "78fbaace-ae76-4ecb-a031-d8d58b5c00ae",
   "metadata": {},
   "outputs": [],
   "source": [
    "best100=ul.select('li')[:100]\n",
    "best100"
   ]
  },
  {
   "cell_type": "code",
   "execution_count": 77,
   "id": "f6067e6e-840a-4099-855f-23d939857478",
   "metadata": {},
   "outputs": [],
   "source": [
    "import pymysql\n",
    "\n",
    "conn = pymysql.connect(user = 'maria', \n",
    "                        password = '1234',\n",
    "                        host = 'localhost',\n",
    "                        port = 3306,\n",
    "                        database = 'test_db')\n",
    "cursor = conn.cursor()"
   ]
  },
  {
   "cell_type": "code",
   "execution_count": null,
   "id": "ac03cff9-b0c1-4d1f-918f-7afe95f661f8",
   "metadata": {
    "scrolled": true
   },
   "outputs": [],
   "source": [
    "sql = '''insert into goods values (%s,%s,%s,%s)'''\n",
    "for item in best100:\n",
    "    title=item.select_one('a.itemname').text\n",
    "    code=item.select_one('div.thumb img').get('src').split('/')[3]\n",
    "    try:\n",
    "        o_price=item.select_one('div.o-price span:nth-child(2)').text.replace('원','').replace(',','')\n",
    "        s_price=item.select_one('div.s-price >strong>span').text.replace('원','').replace(',','')\n",
    "    except:\n",
    "        o_price=item.select_one('div.s-price >strong>span').text.replace('원','').replace(',','')\n",
    "        s_price=o_price\n",
    "    cursor.execute(sql, [code,title,o_price,s_price])\n",
    "conn.commit()"
   ]
  },
  {
   "cell_type": "code",
   "execution_count": null,
   "id": "427975da-cfa9-4ed7-8493-537df3e9f900",
   "metadata": {
    "scrolled": true
   },
   "outputs": [],
   "source": [
    "conn.close"
   ]
  },
  {
   "cell_type": "code",
   "execution_count": null,
   "id": "9ee057d7-dce8-4b51-b089-d85a08e4bfb5",
   "metadata": {},
   "outputs": [],
   "source": [
    "for code in codes:\n",
    "    url=f''\n",
    "    response=requests.get(url)\n",
    "    if response.status_code ==200:\n",
    "       bs=BeautifulSoup(respone.content,'html.parser')\n",
    "       review=bs.select_one('  ') \n",
    "    else:\n",
    "       continue\n",
    "    break"
   ]
  },
  {
   "cell_type": "code",
   "execution_count": null,
   "id": "554afda0-55b4-4bb1-a9be-11e0db964d44",
   "metadata": {},
   "outputs": [],
   "source": [
    "conn = pymysql.connect(user = 'maria',\n",
    "                        password = '1234',\n",
    "                        host = 'localhost',\n",
    "                        port = 3306,\n",
    "                        database = 'test_db'\n",
    "                        )\n",
    "response = requests.get(best_items[0][2])\n",
    "cursor = conn.cursor()\n",
    "sql = '''insert into g_market values (%s)'''\n",
    "cursor.execute(sql, [response.content])\n",
    "conn.commit()"
   ]
  },
  {
   "cell_type": "code",
   "execution_count": null,
   "id": "c21c0b8d-7fe7-4c69-a3a3-fca4a974c113",
   "metadata": {},
   "outputs": [],
   "source": []
  },
  {
   "cell_type": "code",
   "execution_count": null,
   "id": "72cbc7e8-5206-4b4d-ac19-7d504600ce66",
   "metadata": {},
   "outputs": [],
   "source": [
    "# selenium : 게시판 사이트 들어가서 글들 자동으로 가져오는// 본문 중 링크처리"
   ]
  },
  {
   "cell_type": "code",
   "execution_count": null,
   "id": "a62d29c1-4543-4f72-bf6b-3bd94a2e6556",
   "metadata": {
    "scrolled": true
   },
   "outputs": [],
   "source": [
    "from selenium import web_driver\n",
    "driver.get(url)\n",
    "driver.find_element\n",
    "driver.find_element(By.CSS_SELECTOR"
   ]
  },
  {
   "cell_type": "code",
   "execution_count": null,
   "id": "57f61a48-9208-421f-b620-87833908b5f2",
   "metadata": {},
   "outputs": [],
   "source": []
  },
  {
   "cell_type": "code",
   "execution_count": null,
   "id": "333e0bde-83bb-404d-85d6-a83122e98f7b",
   "metadata": {},
   "outputs": [],
   "source": []
  },
  {
   "cell_type": "code",
   "execution_count": null,
   "id": "fb0282b3-fe14-4492-bc4d-8a16221894f1",
   "metadata": {},
   "outputs": [],
   "source": []
  },
  {
   "cell_type": "code",
   "execution_count": null,
   "id": "ebfeb656-8875-4f23-9c9c-4a4a878d62ad",
   "metadata": {},
   "outputs": [],
   "source": []
  },
  {
   "cell_type": "code",
   "execution_count": null,
   "id": "40e806e8-cce4-4411-a1e5-8302c9b50034",
   "metadata": {},
   "outputs": [],
   "source": []
  },
  {
   "cell_type": "code",
   "execution_count": null,
   "id": "4da83ed5-fd59-406d-a0bf-c205d1f04a1c",
   "metadata": {},
   "outputs": [],
   "source": []
  },
  {
   "cell_type": "code",
   "execution_count": null,
   "id": "9f74ed8c-2bba-4216-b830-19596ec10fce",
   "metadata": {},
   "outputs": [],
   "source": []
  },
  {
   "cell_type": "code",
   "execution_count": null,
   "id": "ab94e45c-d24f-4bee-946d-596d1e5187d1",
   "metadata": {},
   "outputs": [],
   "source": []
  },
  {
   "cell_type": "code",
   "execution_count": null,
   "id": "1c4b0ffb-9446-46c3-b729-d50f6c8ddfd7",
   "metadata": {},
   "outputs": [],
   "source": []
  },
  {
   "cell_type": "code",
   "execution_count": null,
   "id": "2c6b578e-f481-41b4-ba9e-3f99a2d27414",
   "metadata": {},
   "outputs": [],
   "source": []
  },
  {
   "cell_type": "code",
   "execution_count": null,
   "id": "00b5deef-fd58-4e20-9fb7-c85cecd875ce",
   "metadata": {},
   "outputs": [],
   "source": []
  },
  {
   "cell_type": "code",
   "execution_count": null,
   "id": "d0d0a479-3488-4555-bd3a-b5753503e913",
   "metadata": {},
   "outputs": [],
   "source": []
  }
 ],
 "metadata": {
  "kernelspec": {
   "display_name": "Python 3 (ipykernel)",
   "language": "python",
   "name": "python3"
  },
  "language_info": {
   "codemirror_mode": {
    "name": "ipython",
    "version": 3
   },
   "file_extension": ".py",
   "mimetype": "text/x-python",
   "name": "python",
   "nbconvert_exporter": "python",
   "pygments_lexer": "ipython3",
   "version": "3.11.5"
  }
 },
 "nbformat": 4,
 "nbformat_minor": 5
}
