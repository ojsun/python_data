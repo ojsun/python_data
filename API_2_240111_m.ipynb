{
 "cells": [
  {
   "cell_type": "markdown",
   "id": "1723de69-9d46-41d6-b11d-bd36c6ae3a3f",
   "metadata": {},
   "source": [
    "<API Naver 통합 검색어 트렌드>  https://datalab.naver.com/에서의 검색어트랜드에서 가져온 데이터 "
   ]
  },
  {
   "cell_type": "code",
   "execution_count": null,
   "id": "8ab24e7a-ae68-4833-8191-b6407187419b",
   "metadata": {},
   "outputs": [],
   "source": [
    "# 0번) 준비\n",
    "import requests, json"
   ]
  },
  {
   "cell_type": "code",
   "execution_count": null,
   "id": "e0053695-95fa-4474-8e66-492ac8f6e1b8",
   "metadata": {},
   "outputs": [],
   "source": [
    "#1번) key 등록\n",
    "CLIENT_ID = \"s54DLwetu6NTphXQpHxC\"\n",
    "CLIENT_SECRET = \"_Iud1BL7ky\""
   ]
  },
  {
   "cell_type": "code",
   "execution_count": null,
   "id": "0042a0da-0ebe-464b-b285-f0dbf571f63f",
   "metadata": {},
   "outputs": [],
   "source": [
    "# naver 예시코드(request.urlopen 예) ==> 예시이니 동과\n",
    "import os\n",
    "import sys\n",
    "import urllib.request\n",
    "client_id = \"YOUR_CLIENT_ID\"\n",
    "client_secret = \"YOUR_CLIENT_SECRET\"\n",
    "url = \"https://openapi.naver.com/v1/datalab/search\";\n",
    "body = \"{\\\"startDate\\\":\\\"2017-01-01\\\",\\\"endDate\\\":\\\"2017-04-30\\\",\\\"timeUnit\\\":\\\"month\\\",\\\"keywordGroups\\\":[{\\\"groupName\\\":\\\"한글\\\",\\\"keywords\\\":[\\\"한글\\\",\\\"korean\\\"]},{\\\"groupName\\\":\\\"영어\\\",\\\"keywords\\\":[\\\"영어\\\",\\\"english\\\"]}],\\\"device\\\":\\\"pc\\\",\\\"ages\\\":[\\\"1\\\",\\\"2\\\"],\\\"gender\\\":\\\"f\\\"}\";\n",
    "\n",
    "request = urllib.request.Request(url)\n",
    "request.add_header(\"X-Naver-Client-Id\",client_id)\n",
    "request.add_header(\"X-Naver-Client-Secret\",client_secret)\n",
    "request.add_header(\"Content-Type\",\"application/json\")\n",
    "response = urllib.request.urlopen(request, data=body.encode(\"utf-8\"))\n",
    "rescode = response.getcode()\n",
    "if(rescode==200):\n",
    "    response_body = response.read()\n",
    "    print(response_body.decode('utf-8'))\n",
    "else:\n",
    "    print(\"Error Code:\" + rescode)"
   ]
  },
  {
   "cell_type": "code",
   "execution_count": null,
   "id": "fc3ca3ef-1547-4c43-8fe8-149f631a7807",
   "metadata": {},
   "outputs": [],
   "source": [
    "# 2번) name header 올리기\n",
    "headers = { \"Content-Type\": \"application/json\",\n",
    "            \"X-Naver-Client-Id\": CLIENT_ID,\n",
    "            \"X-Naver-Client-Secret\": CLIENT_SECRET }"
   ]
  },
  {
   "cell_type": "code",
   "execution_count": null,
   "id": "b71e2df5-31d7-4f80-bd27-363f29977b34",
   "metadata": {},
   "outputs": [],
   "source": [
    "# 3번) naver 검색순위  선생님(requests 사용)  --검색어트렌드에 입력하는 것과 같음\n",
    "url = \"https://openapi.naver.com/v1/datalab/search\"\n",
    "params = {\n",
    "\"startDate\": \"2023-01-01\",\n",
    "\"endDate\": \"2023-12-31\",\n",
    "\"timeUnit\": \"month\",\n",
    "\"keywordGroups\": [\n",
    "{\"groupName\": \"트위터\", \"keywords\": [\"트위터\", \"트윗\"]},\n",
    "{\"groupName\": \"페이스북\", \"keywords\": [\"페이스북\", \"페북\"]},\n",
    "{\"groupName\": \"인스타그램\", \"keywords\": [\"인스타그램\", \n",
    "                                    \"인스타\"]}]}\n",
    "response = requests.post(url, data = json.dumps(params), headers=headers)"
   ]
  },
  {
   "cell_type": "code",
   "execution_count": null,
   "id": "dafa5c7b-7a2e-4758-bfa0-7e7867d10b44",
   "metadata": {
    "scrolled": true
   },
   "outputs": [],
   "source": [
    "# 4) 확인(결과 보고 beautifulSoup로 파써할지 json인지 확인함)"
   ]
  },
  {
   "cell_type": "code",
   "execution_count": null,
   "id": "f21a07ab-7e20-4307-b895-2385c3bc7a56",
   "metadata": {
    "scrolled": true
   },
   "outputs": [],
   "source": [
    "response.content"
   ]
  },
  {
   "cell_type": "code",
   "execution_count": null,
   "id": "20f688d7-68ef-426f-ab2e-67330dce578f",
   "metadata": {
    "scrolled": true
   },
   "outputs": [],
   "source": [
    "response.json()"
   ]
  },
  {
   "cell_type": "code",
   "execution_count": null,
   "id": "ce478c51-8760-44e4-b875-0c8948a959cb",
   "metadata": {},
   "outputs": [],
   "source": [
    "datas = response.json()['results']\n",
    "datas"
   ]
  },
  {
   "cell_type": "code",
   "execution_count": null,
   "id": "159ea79a-43c8-4f77-832f-93a76ef83ebf",
   "metadata": {},
   "outputs": [],
   "source": []
  },
  {
   "cell_type": "markdown",
   "id": "818b2a09-807d-4aa9-b24c-35bd264321e7",
   "metadata": {},
   "source": [
    "<API Kakao 지도 서비스>"
   ]
  },
  {
   "cell_type": "code",
   "execution_count": null,
   "id": "2f2a281e-3ce1-4b77-bbb0-3bb5241873a4",
   "metadata": {},
   "outputs": [],
   "source": [
    "# kakao 지도\n",
    "restapi_key = \"bd88efd8afb2711bbd519fd5cdaeb4e1\"\n",
    "url = \"https://dapi.kakao.com/v2/local/search/address.json\"\n",
    "params = { \"query\": '집현동로 77' }\n",
    "headers = {\"Authorization\": \"KakaoAK \" + restapi_key}    #KakaoAK 위에 한칸 띄우기\n",
    "response = requests.get(url, headers=headers, params=params)\n",
    "response"
   ]
  },
  {
   "cell_type": "code",
   "execution_count": null,
   "id": "b48a9634-4ba3-4edb-b05f-1e85a84e33d7",
   "metadata": {},
   "outputs": [],
   "source": [
    "datas = response.json()\n",
    "datas['documents'][0]"
   ]
  },
  {
   "cell_type": "code",
   "execution_count": null,
   "id": "ea8dff85-6f90-40cf-98de-03efb7ee1ccf",
   "metadata": {},
   "outputs": [],
   "source": []
  },
  {
   "cell_type": "markdown",
   "id": "8bffdaad-d8f5-4e33-9aec-0734287fe744",
   "metadata": {},
   "source": [
    "<직방 이용하여 API 구현하기> -geohash로 데이터검색"
   ]
  },
  {
   "cell_type": "code",
   "execution_count": null,
   "id": "f0069b26-8923-477f-80a2-8b1126f02b9c",
   "metadata": {},
   "outputs": [],
   "source": [
    "def search_location(query):\n",
    "    restapi_key ='bd88efd8afb2711bbd519fd5cdaeb4e1'\n",
    "    url = \"https://dapi.kakao.com/v2/local/search/address.json\"\n",
    "    params = { \"query\": query }\n",
    "    headers = {\"Authorization\": \"KakaoAK \" + restapi_key}\n",
    "    response = requests.get(url, headers=headers, params=params)\n",
    "    if response.status_code == 200:\n",
    "        return response.json()['documents'][0]\n",
    "    else:\n",
    "        return response.status_code"
   ]
  },
  {
   "cell_type": "code",
   "execution_count": null,
   "id": "20e37932-a320-4cf1-9b24-ffd23b3307b8",
   "metadata": {},
   "outputs": [],
   "source": [
    "address = search_location('중동')\n",
    "lng = float(address['x'])\n",
    "lat = float(address['y'])\n",
    "print(lng,lat)"
   ]
  },
  {
   "cell_type": "code",
   "execution_count": null,
   "id": "2034e435-bd06-4fdd-9504-50ba5a41a7fc",
   "metadata": {
    "scrolled": true
   },
   "outputs": [],
   "source": [
    "address = search_location('집현동로 77')\n",
    "print(address['address_name'])\n",
    "print(address['x'])\n",
    "print(address['y'])"
   ]
  },
  {
   "cell_type": "code",
   "execution_count": null,
   "id": "b26f7a7f-5412-4658-847e-1570ac31f63c",
   "metadata": {},
   "outputs": [],
   "source": []
  },
  {
   "cell_type": "code",
   "execution_count": null,
   "id": "634adcb8-4569-4dfd-b377-d2fb1ed46e95",
   "metadata": {},
   "outputs": [],
   "source": [
    "!pip install geohash2"
   ]
  },
  {
   "cell_type": "code",
   "execution_count": null,
   "id": "36d818a6-d344-48e1-af7d-7407a8fcdd3e",
   "metadata": {
    "scrolled": true
   },
   "outputs": [],
   "source": [
    "import geohash2"
   ]
  },
  {
   "cell_type": "code",
   "execution_count": null,
   "id": "dd409331-d28d-419f-968b-bd882154266f",
   "metadata": {
    "scrolled": true
   },
   "outputs": [],
   "source": [
    "geohash = geohash2.encode(lat, lng, precision=5)\n",
    "geohash"
   ]
  },
  {
   "cell_type": "code",
   "execution_count": null,
   "id": "b71b6904-bc52-4129-99e4-8389f7ef7de7",
   "metadata": {},
   "outputs": [],
   "source": [
    "#직방 geohash 검색\n",
    "url = f'https://apis.zigbang.com/v2/items/oneroom?geohash={geohash}\\\n",
    "&depositMin=0&rentMin=0&salesTypes[0]=월세&salesTypes[1]=전세\\\n",
    "&domain=zigbang&checkAnyItemWithoutFilter=true'\n",
    "response = requests.get(url)\n",
    "datas = response.json()['items']\n",
    "ids = [data[\"itemId\"] for data in datas]\n",
    "len(ids), ids[:5]"
   ]
  },
  {
   "cell_type": "code",
   "execution_count": null,
   "id": "47b8bc57-3d3c-4d01-aabc-d8363272fb53",
   "metadata": {
    "scrolled": true
   },
   "outputs": [],
   "source": [
    "url = \"https://apis.zigbang.com/v2/items/list\"\n",
    "params = {\"item_ids\":\"ids\", \"domain\": \"zigbang\"}\n",
    "response = requests.post(url, params)\n",
    "datas = response.json()['items']\n",
    "items_id"
   ]
  },
  {
   "cell_type": "markdown",
   "id": "7effce9a-9778-4426-bdb5-ac109c21834c",
   "metadata": {},
   "source": [
    "함수1) 카카오 주소 검색 > 경도, 위도"
   ]
  },
  {
   "cell_type": "code",
   "execution_count": null,
   "id": "24a939b1-51b0-4b14-81be-73cdab414303",
   "metadata": {},
   "outputs": [],
   "source": [
    "def search_location(query):\n",
    "    restapi_key = '60b71cac95c11ebfeb2ee9d26ca44bbc'\n",
    "    url = \"https://dapi.kakao.com/v2/local/search/address.json\"\n",
    "    params = { \"query\": query }\n",
    "    headers = {\"Authorization\": \"KakaoAK \" + restapi_key}\n",
    "    response = requests.get(url, headers=headers, params=params)\n",
    "    \n",
    "    if response.status_code == 200:\n",
    "        try:\n",
    "            address = response.json()['documents'][0]\n",
    "            return float(address['x']), float(address['y'])\n",
    "        except:\n",
    "            return '검색안됨'\n",
    "    else:\n",
    "        return response.status_code"
   ]
  },
  {
   "cell_type": "markdown",
   "id": "e1c7ea8e-0853-4799-b55f-45ad74736bde",
   "metadata": {},
   "source": [
    "함수2) 직방 > geohash > ID를 가져오는 api"
   ]
  },
  {
   "cell_type": "code",
   "execution_count": null,
   "id": "96b806df-a6bf-4d22-b7ad-e3ddf8eafa7d",
   "metadata": {},
   "outputs": [],
   "source": [
    "def search_ids(geohash):\n",
    "    url = f'https://apis.zigbang.com/v2/items/oneroom'\n",
    "\n",
    "    params = {'geohash': geohash,\n",
    "              'depositMin':'0',\n",
    "              'rentMin':'0',\n",
    "              'salesTypes' : ['월세', '전세'],\n",
    "              'domain':'zigbang',\n",
    "              'checkAnyItemWithoutFilter':'true'}\n",
    "\n",
    "    response = requests.get(url, params)\n",
    "    if response.status_code == 200:\n",
    "        datas = response.json()['items']\n",
    "        ids = [data[\"itemId\"] for data in datas]\n",
    "        return ids\n",
    "    else:\n",
    "        return response.status_code"
   ]
  },
  {
   "cell_type": "markdown",
   "id": "7474b3c0-62ba-4b4f-a7e4-df1877a23b6d",
   "metadata": {},
   "source": [
    "함수3) ID > 원룸 정보를 가져오는 api"
   ]
  },
  {
   "cell_type": "code",
   "execution_count": null,
   "id": "c00e6364-706f-45c4-a850-de3b4eb0c948",
   "metadata": {},
   "outputs": [],
   "source": [
    "def search_oneroom(ids):\n",
    "    url = \"https://apis.zigbang.com/v2/items/list\"\n",
    "    params = {\"item_ids\": id, \"domain\": \"zigbang\"}\n",
    "    response = requests.post(url, params)\n",
    "    result = response.json()\n",
    "    final_result = []\n",
    "    for item in result['items']:\n",
    "        sales_type = item['sales_type']\n",
    "        deposit = item['deposit']\n",
    "        rent = item['rent']\n",
    "        area = item['전용면적']['m2']\n",
    "        address = item['address']\n",
    "        final_result.append([sales_type, deposit, rent, area, address])\n",
    "    return final_result"
   ]
  },
  {
   "cell_type": "code",
   "execution_count": null,
   "id": "610b00d2-0110-4c23-8059-b16fbcdfd029",
   "metadata": {},
   "outputs": [],
   "source": [
    "## 파일을 저장하는 함수 "
   ]
  },
  {
   "cell_type": "code",
   "execution_count": null,
   "id": "852f44f6-dca7-4884-9c2f-2d4b47e96d1e",
   "metadata": {},
   "outputs": [],
   "source": [
    "# 나\n",
    "def write_txt(result):\n",
    "    with open('result.csv','w',encoding='euc-kr') as f:\n",
    "#    item=['월세', 1000, 70, 20,82, '서초구 우면동']  한개만\n",
    "        for item in result:    \n",
    "            item=list(map(str, item))\n",
    "            item=',', join(item)\n",
    "        #    f.writelines(item)   == 한줄로 띄어쓰기 등 안됨\n",
    "            f.write(item)\n",
    "            f.write('\\n')\n",
    "    print('파일 생성 완료')"
   ]
  },
  {
   "cell_type": "code",
   "execution_count": null,
   "id": "45c2fbb1-3c71-427c-accf-c088e02273ef",
   "metadata": {},
   "outputs": [],
   "source": [
    "#선생님\n",
    "def write_txt(file, result, mode='w'):\n",
    "    with open(file, mode, encoding='euc-kr') as f:\n",
    "        for item in result: # item = ['월세', 1000, 70, 20.82, '서초구 우면동']\n",
    "            item = list(map(str, item))\n",
    "            item = ', '.join(item)\n",
    "            f.write(item)\n",
    "            f.write('\\n')\n",
    "    print('파일 생성 완료')"
   ]
  },
  {
   "cell_type": "code",
   "execution_count": null,
   "id": "e1273a25-5c6a-4478-9675-5498399f6792",
   "metadata": {},
   "outputs": [],
   "source": []
  },
  {
   "cell_type": "code",
   "execution_count": null,
   "id": "e9e3f558-c6c2-4ce4-9280-7cb8b995e20a",
   "metadata": {},
   "outputs": [],
   "source": [
    "## 만들어진 파일을 db에 저장하기 "
   ]
  },
  {
   "cell_type": "code",
   "execution_count": 64,
   "id": "8a3a3c21-8689-4375-80bc-e0271ff294a4",
   "metadata": {},
   "outputs": [],
   "source": [
    "import pymysql"
   ]
  },
  {
   "cell_type": "code",
   "execution_count": null,
   "id": "0c7b79db-3e42-4fcf-9d85-383ee9b86a79",
   "metadata": {},
   "outputs": [],
   "source": [
    "def insert_maria(result):\n",
    "    conn = pymysql.connect(user = 'maria',\n",
    "                            password = '1234',\n",
    "                            host = 'localhost',\n",
    "                            port = 3306,\n",
    "                            database = 'python_db'\n",
    "                            )\n",
    "    cursor = conn.cursor()\n",
    "    sql = '''insert into oneroom values (%s, %s, %s, %s, %s, %s)'''\n",
    "    for index, item in enumerate(result):\n",
    "        try:\n",
    "            cursor.execute(sql, item)\n",
    "        except:\n",
    "            continue\n",
    "        if index % 10 == 0:\n",
    "            conn.commit()\n",
    "    conn.commit()\n",
    "    conn.close()"
   ]
  },
  {
   "cell_type": "code",
   "execution_count": null,
   "id": "6a2d8098-3a43-4c99-8c66-df6871f3643d",
   "metadata": {},
   "outputs": [],
   "source": []
  },
  {
   "cell_type": "code",
   "execution_count": null,
   "id": "84826e34-b7d5-421c-89de-c5a7390a284e",
   "metadata": {},
   "outputs": [],
   "source": []
  },
  {
   "cell_type": "code",
   "execution_count": null,
   "id": "def5a280-d8b0-4171-b1dd-574614e4663b",
   "metadata": {},
   "outputs": [],
   "source": []
  },
  {
   "cell_type": "code",
   "execution_count": null,
   "id": "13082948-628a-4720-8be1-eac66a534fde",
   "metadata": {},
   "outputs": [],
   "source": []
  },
  {
   "cell_type": "code",
   "execution_count": null,
   "id": "1b6d76e2-c65c-4211-a18f-b68ff7dbe22a",
   "metadata": {},
   "outputs": [],
   "source": []
  },
  {
   "cell_type": "code",
   "execution_count": null,
   "id": "e28255e4-f2d2-4e7c-8f2f-879ad030ff79",
   "metadata": {},
   "outputs": [],
   "source": []
  },
  {
   "cell_type": "code",
   "execution_count": null,
   "id": "511f6004-36d1-4f61-b65a-f2e539793e2e",
   "metadata": {},
   "outputs": [],
   "source": []
  }
 ],
 "metadata": {
  "kernelspec": {
   "display_name": "Python 3 (ipykernel)",
   "language": "python",
   "name": "python3"
  },
  "language_info": {
   "codemirror_mode": {
    "name": "ipython",
    "version": 3
   },
   "file_extension": ".py",
   "mimetype": "text/x-python",
   "name": "python",
   "nbconvert_exporter": "python",
   "pygments_lexer": "ipython3",
   "version": "3.11.5"
  }
 },
 "nbformat": 4,
 "nbformat_minor": 5
}
