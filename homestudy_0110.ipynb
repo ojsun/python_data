{
 "cells": [
  {
   "cell_type": "code",
   "execution_count": 2,
   "id": "d0806361",
   "metadata": {},
   "outputs": [],
   "source": [
    "import requests, json"
   ]
  },
  {
   "cell_type": "code",
   "execution_count": 3,
   "id": "298770d7",
   "metadata": {},
   "outputs": [],
   "source": [
    "import urllib.request"
   ]
  },
  {
   "cell_type": "code",
   "execution_count": 4,
   "id": "1bc0c6b6",
   "metadata": {},
   "outputs": [],
   "source": [
    "import os"
   ]
  },
  {
   "cell_type": "code",
   "execution_count": 5,
   "id": "325ffa9b",
   "metadata": {},
   "outputs": [],
   "source": [
    "import sys"
   ]
  },
  {
   "cell_type": "code",
   "execution_count": 6,
   "id": "484db540",
   "metadata": {},
   "outputs": [],
   "source": [
    "CLIENT_ID = \"2mXHw0nAQ0AbErbtjDHH\"\n",
    "CLIENT_SECRET = \"gIsYyg4FNQ\""
   ]
  },
  {
   "cell_type": "code",
   "execution_count": 7,
   "id": "c9f95c32",
   "metadata": {},
   "outputs": [
    {
     "name": "stdout",
     "output_type": "stream",
     "text": [
      "<Response [200]>\n",
      "Data science is fun.\n"
     ]
    }
   ],
   "source": [
    "url = 'https://openapi.naver.com/v1/papago/n2mt'\n",
    "msg = \"데이터 사이언스는 재미있습니다.\"\n",
    "params = { \"source\": \"ko\", \"target\": \"en\", \"text\": msg }\n",
    "headers = { \"Content-Type\": \"application/json\",\n",
    "            \"X-Naver-Client-Id\": CLIENT_ID,       \n",
    "            \"X-Naver-Client-Secret\": CLIENT_SECRET }\n",
    "response = requests.post(url, json.dumps(params), headers=headers)\n",
    "print(response)\n",
    "print(response.json()[\"message\"][\"result\"][\"translatedText\"])\n"
   ]
  },
  {
   "cell_type": "code",
   "execution_count": 8,
   "id": "3473458d",
   "metadata": {},
   "outputs": [],
   "source": [
    "def translate(msg, source = \"ko\", target = \"en\"):\n",
    "    url = \"https://openapi.naver.com/v1/papago/n2mt\"\n",
    "    params = { \"source\": source, \"target\": target, \"text\": msg }\n",
    "    headers = {\"Content-Type\": \"application/json\",\n",
    "    \t\"X-Naver-Client-Id\": CLIENT_ID,\n",
    "    \t\"X-Naver-Client-Secret\": CLIENT_SECRET}\n",
    "    response = requests.post(url, json.dumps(params), headers=headers)\n",
    "    if response.status_code == 200:\n",
    "        return response.json()[\"message\"][\"result\"][\"translatedText\"]\n",
    "    else:\n",
    "        return response.status_code"
   ]
  },
  {
   "cell_type": "code",
   "execution_count": 9,
   "id": "980706bd",
   "metadata": {},
   "outputs": [
    {
     "data": {
      "text/plain": [
       "'Web development that you learn while making A to Z'"
      ]
     },
     "execution_count": 9,
     "metadata": {},
     "output_type": "execute_result"
    }
   ],
   "source": [
    "translate('만들면서 배우는 웹 개발 A to Z')"
   ]
  },
  {
   "cell_type": "code",
   "execution_count": 10,
   "id": "556b75c4",
   "metadata": {},
   "outputs": [
    {
     "data": {
      "text/plain": [
       "\"I should go to bed because I'm tired\""
      ]
     },
     "execution_count": 10,
     "metadata": {},
     "output_type": "execute_result"
    }
   ],
   "source": [
    "translate('힘들어서 자야겠다')"
   ]
  },
  {
   "cell_type": "code",
   "execution_count": 12,
   "id": "c45590c7",
   "metadata": {},
   "outputs": [
    {
     "name": "stdout",
     "output_type": "stream",
     "text": [
      "{\"message\":{\"@type\":\"response\",\"@service\":\"naverservice.nmt.proxy\",\"@version\":\"1.0.0\",\"result\":{\"srcLangType\":\"ko\",\"tarLangType\":\"en\",\"translatedText\":\"Nice to meet you.\",\"engineType\":\"PRETRANS\"}}}\n"
     ]
    }
   ],
   "source": [
    "client_id = \"2mXHw0nAQ0AbErbtjDHH\" \n",
    "client_secret = \"gIsYyg4FNQ\"  \n",
    "encText = urllib.parse.quote(\"반갑습니다\")\n",
    "data = \"source=ko&target=en&text=\" + encText\n",
    "url = \"https://openapi.naver.com/v1/papago/n2mt\"\n",
    "request = urllib.request.Request(url)\n",
    "request.add_header(\"X-Naver-Client-Id\",client_id)\n",
    "request.add_header(\"X-Naver-Client-Secret\",client_secret)\n",
    "response = urllib.request.urlopen(request, data=data.encode(\"utf-8\"))\n",
    "rescode = response.getcode()\n",
    "if(rescode==200):\n",
    "    response_body = response.read()\n",
    "    print(response_body.decode('utf-8'))\n",
    "else:\n",
    "    print(\"Error Code:\" + rescode)"
   ]
  },
  {
   "cell_type": "code",
   "execution_count": 13,
   "id": "4e2bd86b",
   "metadata": {},
   "outputs": [],
   "source": [
    "def naver_searching(search_word):\n",
    "    url = f'https://search.naver.com/search.naver?where=nexearch&sm=top_hty&fbm=0&ie=utf8&query={search_word}'\n",
    "    response = requests.get(url)\n",
    "    if response.status_code == 200:\n",
    "        search_word_related = []\n",
    "        soup = BeautifulSoup(response.content, 'html.parser')\n",
    "        items = soup.select_one('ul.lst_related_srch')\n",
    "        for item in items.select('li>a'):\n",
    "            search_word_related.append({ item.text.strip():  \n",
    "                        'https://search.naver.com/search.naver' + item.get('href')})\n",
    " \n",
    "        return search_word_related\n",
    "    else:\n",
    "        print(response.status_code)"
   ]
  },
  {
   "cell_type": "code",
   "execution_count": null,
   "id": "6ab5bcf5",
   "metadata": {},
   "outputs": [],
   "source": []
  }
 ],
 "metadata": {
  "kernelspec": {
   "display_name": "Python 3 (ipykernel)",
   "language": "python",
   "name": "python3"
  },
  "language_info": {
   "codemirror_mode": {
    "name": "ipython",
    "version": 3
   },
   "file_extension": ".py",
   "mimetype": "text/x-python",
   "name": "python",
   "nbconvert_exporter": "python",
   "pygments_lexer": "ipython3",
   "version": "3.11.5"
  }
 },
 "nbformat": 4,
 "nbformat_minor": 5
}
