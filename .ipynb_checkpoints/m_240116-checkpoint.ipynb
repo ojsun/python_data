{
 "cells": [
  {
   "cell_type": "markdown",
   "id": "31c796d4-463c-4546-af14-8beb2090e181",
   "metadata": {
    "tags": []
   },
   "source": [
    "#### gmarket_상품 이미지, 상품정보 리뷰 크롤링,DB 저장 등 자동화"
   ]
  },
  {
   "cell_type": "code",
   "execution_count": 1,
   "id": "452b63a5-8942-4e21-9a0f-8643405c4f38",
   "metadata": {
    "tags": []
   },
   "outputs": [],
   "source": [
    "import requests\n",
    "from bs4 import BeautifulSoup "
   ]
  },
  {
   "cell_type": "code",
   "execution_count": 2,
   "id": "e062ffeb-5e10-40c0-842a-16163d9ed128",
   "metadata": {
    "tags": []
   },
   "outputs": [
    {
     "name": "stdout",
     "output_type": "stream",
     "text": [
      "정상\n"
     ]
    }
   ],
   "source": [
    "url = 'https://www.gmarket.co.kr/n/best'\n",
    "\n",
    "response=requests.get(url)\n",
    "if response.status_code ==200:\n",
    "    print('정상')\n",
    "else:\n",
    "    print(response.status_code)"
   ]
  },
  {
   "cell_type": "code",
   "execution_count": 3,
   "id": "b667c21a-02fa-4c18-b460-14c85cb2b986",
   "metadata": {
    "tags": []
   },
   "outputs": [],
   "source": [
    "bs=BeautifulSoup(response.content, \"html.parser\")\n",
    "ul=bs.select_one('div.best-list > ul')"
   ]
  },
  {
   "cell_type": "code",
   "execution_count": null,
   "id": "78fbaace-ae76-4ecb-a031-d8d58b5c00ae",
   "metadata": {
    "tags": []
   },
   "outputs": [],
   "source": [
    "best100=ul.select('li')[:100]\n",
    "best100"
   ]
  },
  {
   "cell_type": "code",
   "execution_count": 7,
   "id": "f6067e6e-840a-4099-855f-23d939857478",
   "metadata": {
    "tags": []
   },
   "outputs": [],
   "source": [
    "import pymysql\n",
    "\n",
    "conn = pymysql.connect(user = 'maria', password = '1234',\n",
    "                        host = 'localhost',port = 3306,\n",
    "                        database = 'test_db')\n",
    "cursor = conn.cursor()\n",
    "sql = '''insert into goods values (%s,%s,%s,%s)'''"
   ]
  },
  {
   "cell_type": "code",
   "execution_count": 8,
   "id": "ac03cff9-b0c1-4d1f-918f-7afe95f661f8",
   "metadata": {
    "scrolled": true,
    "tags": []
   },
   "outputs": [],
   "source": [
    "for item in best100:\n",
    "    title=item.select_one('a.itemname').text\n",
    "    code=item.select_one('div.thumb img').get('src').split('/')[3] # 이미지 이름에 상품코드 포함되어있음\n",
    "    try:\n",
    "        o_price=item.select_one('div.o-price span:nth-child(2)').text.replace('원','').replace(',','')\n",
    "        s_price=item.select_one('div.s-price >strong>span').text.replace('원','').replace(',','')\n",
    "    except:\n",
    "        o_price=item.select_one('div.s-price >strong>span').text.replace('원','').replace(',','')\n",
    "        s_price=o_price\n",
    "    cursor.execute(sql, [code,title,o_price,s_price])\n",
    "conn.commit()"
   ]
  },
  {
   "cell_type": "code",
   "execution_count": null,
   "id": "427975da-cfa9-4ed7-8493-537df3e9f900",
   "metadata": {
    "scrolled": true
   },
   "outputs": [],
   "source": [
    "conn.close"
   ]
  },
  {
   "cell_type": "code",
   "execution_count": null,
   "id": "da0e4d36-0923-478f-b8a4-87ebe4f119f2",
   "metadata": {},
   "outputs": [],
   "source": []
  },
  {
   "cell_type": "markdown",
   "id": "65e00d4b-554c-4507-8d0b-ab668c202c63",
   "metadata": {},
   "source": [
    "#### DB에서 데이터(code) 가져와 상품과 리뷰 연결하기"
   ]
  },
  {
   "cell_type": "code",
   "execution_count": 14,
   "id": "c43fe295-d754-4743-9951-f7c5fa382131",
   "metadata": {
    "tags": []
   },
   "outputs": [],
   "source": [
    "conn=pymysql.connect(user='maria', host='localhost',\n",
    "                     database='test_db', port=3306, password='1234')\n",
    "cursor=conn.cursor()\n",
    "cursor.execute('''select code from goods''')\n",
    "codes=cursor.fetchall()"
   ]
  },
  {
   "cell_type": "code",
   "execution_count": 15,
   "id": "36d1bd67-1e2c-4173-8ffd-7d39a30e668b",
   "metadata": {
    "tags": []
   },
   "outputs": [],
   "source": [
    "sql='''insert into review (code, title, content) values(%s,%s,%s)'''"
   ]
  },
  {
   "cell_type": "code",
   "execution_count": 17,
   "id": "9ee057d7-dce8-4b51-b089-d85a08e4bfb5",
   "metadata": {
    "tags": []
   },
   "outputs": [],
   "source": [
    "for code in codes:\n",
    "    url='http://item.gmarket.co.kr/Review/Premium'\n",
    "    for page in range(1,21):\n",
    "        break_point = 0\n",
    "        params={'goodsCode': code[0],\n",
    "                'pageNo': page,\n",
    "                'sort': 0, 'totalPage': 0}\n",
    "    response=requests.post(url, params)\n",
    "    \n",
    "    if response.status_code ==200:\n",
    "        # 총 리뷰의 수\n",
    "        review = BeautifulSoup(response.content,'html.parser')\n",
    "        rows= review.select('table > tbody tr')\n",
    "        for row in rows:\n",
    "            try:\n",
    "                title=row.select_one('td p:nth-child(1)').text.strip()\n",
    "                content=row.select_one('td p:nth-child(3)').text.strip()\n",
    "            except:\n",
    "                break_point=1\n",
    "                break\n",
    "            try:\n",
    "                cursor.execute(sql, [code[0],title,content])\n",
    "            except:\n",
    "                pass\n",
    "        conn.commit()\n",
    "        if break_point == 1:\n",
    "            break\n",
    "    else:\n",
    "        continue"
   ]
  },
  {
   "cell_type": "code",
   "execution_count": null,
   "id": "554afda0-55b4-4bb1-a9be-11e0db964d44",
   "metadata": {},
   "outputs": [],
   "source": []
  },
  {
   "cell_type": "markdown",
   "id": "49ea4224-87c3-4d4a-b753-2beac1c45de8",
   "metadata": {},
   "source": [
    "#### gmarket best100 데이터 크롤링 함수화"
   ]
  },
  {
   "cell_type": "code",
   "execution_count": null,
   "id": "a1c87a71-31ca-4786-b0de-fc49c1490d68",
   "metadata": {},
   "outputs": [],
   "source": [
    "# 1. request\n",
    "# 2. beautifulsoup\n",
    "best100 = best100_crawl()   \n",
    "if best100:\n",
    "    # 3. pymysql\n",
    "    # 4. 테이블에 저장\n",
    "    best100_insert(best100)"
   ]
  },
  {
   "cell_type": "code",
   "execution_count": null,
   "id": "5cdfdb25-1f92-418a-9d77-fbcb41bc726f",
   "metadata": {},
   "outputs": [],
   "source": [
    "# 1. request 가져오기 2. beautifulsoup 파싱\n",
    "\n",
    "def best100_crawl():    \n",
    "    url = 'https://www.gmarket.co.kr/n/best'\n",
    "\n",
    "    response = requests.get(url)\n",
    "    print(response.status_code)\n",
    "    if response.status_code == 200:\n",
    "        soup = BeautifulSoup(response.content, 'html.parser')\n",
    "        ul = soup.select_one('div.best-list > ul')\n",
    "        best100 = ul.select('li')[:100]\n",
    "        return best100\n",
    "    else:\n",
    "        return []"
   ]
  },
  {
   "cell_type": "code",
   "execution_count": null,
   "id": "25f086c9-e5a8-4ada-a3f5-6108a1cb5539",
   "metadata": {},
   "outputs": [],
   "source": [
    "# 3. pymysql으로 연결 4. 테이블에 상품정보 저장\n",
    "\n",
    "def best100_insert(best100):\n",
    "    conn = pymysql.connect(user = 'maria', password = '1234', host = 'localhost',\n",
    "                            port = 3306, database = 'test_db')\n",
    "    cursor = conn.cursor()\n",
    "    sql = '''insert into goods values (%s, %s, %s, %s)'''\n",
    "    for item in best100:\n",
    "        title = item.select_one('a.itemname').text\n",
    "        code = item.select_one('div.thumb img').get('src').split('/')[3]  \n",
    "        try:\n",
    "            o_price = item.select_one('div.o-price span:nth-child(2)').text.replace('원', '').replace(',','')\n",
    "            s_price = item.select_one('div.s-price strong').text.replace('원', '').replace(',','')\n",
    "        except:\n",
    "            o_price = item.select_one('div.s-price strong').text.replace('원', '').replace(',','')\n",
    "            s_price = o_price\n",
    "        cursor.execute(sql, [code, title, o_price, s_price])\n",
    "\n",
    "    conn.commit()\n",
    "    conn.close()"
   ]
  },
  {
   "cell_type": "markdown",
   "id": "7d6cd1af-be46-4f4f-a4be-ea3ccef8017f",
   "metadata": {
    "tags": []
   },
   "source": [
    "#### gmarket 리뷰 데이터 크롤링 함수화"
   ]
  },
  {
   "cell_type": "code",
   "execution_count": null,
   "id": "2d517778-fece-4ca3-a450-e35683f6bc8b",
   "metadata": {},
   "outputs": [],
   "source": [
    "# 1. best100 - code select\n",
    "codes = code_select()\n",
    "# 2. request\n",
    "# 3. beautifulsoup\n",
    "# 4. 테이블에 저장\n",
    "review_crawl(codes)"
   ]
  },
  {
   "cell_type": "code",
   "execution_count": null,
   "id": "8e37b593-5da4-4788-9f7a-6e70c0ff585f",
   "metadata": {},
   "outputs": [],
   "source": [
    "# 1. best100 - code select\n",
    "def code_select():\n",
    "    conn = pymysql.connect(user = 'maria', password = '1234', host = 'localhost',\n",
    "                            port = 3306, database = 'test_db')\n",
    "    cursor = conn.cursor()\n",
    "    cursor.execute('''select code from goods''')\n",
    "    codes = cursor.fetchall()\n",
    "    conn.close()\n",
    "    return codes"
   ]
  },
  {
   "cell_type": "code",
   "execution_count": null,
   "id": "d5037ca9-0d28-4390-ae77-917600351005",
   "metadata": {},
   "outputs": [],
   "source": [
    "# 2. request 3. beautifulsoup  4. 테이블에 저장\n",
    "\n",
    "def review_crawl(codes):\n",
    "    conn = pymysql.connect(user = 'maria', password = '1234', host = 'localhost',\n",
    "                                port = 3306, database = 'test_db')\n",
    "    cursor = conn.cursor()\n",
    "    for code in codes:\n",
    "        url = 'http://item.gmarket.co.kr/Review/Premium'\n",
    "        for page in range(1,6):\n",
    "            break_point = 0\n",
    "            params = {'goodsCode': code[0],\n",
    "                    'pageNo': page,\n",
    "                    'sort': 0,\n",
    "                    'totalPage': 0 }\n",
    "\n",
    "            response = requests.post(url, params)\n",
    "\n",
    "            if response.status_code == 200:\n",
    "                # 크롤링(총 리뷰의 수)\n",
    "                review = BeautifulSoup(response.content, 'html.parser')\n",
    "                rows = review.select('table > tbody tr')\n",
    "                for row in rows:\n",
    "                    try:\n",
    "                        title = row.select_one('td p:nth-child(1)').text.strip()\n",
    "                        content = row.select_one('td p:nth-child(3)').text.strip()\n",
    "                    except:\n",
    "                        break_point = 1\n",
    "                        break\n",
    "                    try:\n",
    "                        cursor.execute(sql, [code[0], title, content])\n",
    "                    except:\n",
    "                        pass\n",
    "                conn.commit()\n",
    "                if break_point == 1:\n",
    "                    break\n",
    "            else:\n",
    "                continue\n",
    "    conn.close()"
   ]
  },
  {
   "cell_type": "code",
   "execution_count": null,
   "id": "1c4b0ffb-9446-46c3-b729-d50f6c8ddfd7",
   "metadata": {},
   "outputs": [],
   "source": []
  },
  {
   "cell_type": "code",
   "execution_count": 9,
   "id": "2c6b578e-f481-41b4-ba9e-3f99a2d27414",
   "metadata": {
    "tags": []
   },
   "outputs": [
    {
     "name": "stdout",
     "output_type": "stream",
     "text": [
      "1975-03-04 05:02:17\n"
     ]
    }
   ],
   "source": [
    "#시간 표현\n",
    "from datetime import datetime\n",
    "\n",
    "timestamp = 163141337\n",
    "date = datetime.utcfromtimestamp(timestamp)\n",
    "\n",
    "print(date.strftime('%Y-%m-%d %H:%M:%S'))"
   ]
  }
 ],
 "metadata": {
  "kernelspec": {
   "display_name": "Python 3 (ipykernel)",
   "language": "python",
   "name": "python3"
  },
  "language_info": {
   "codemirror_mode": {
    "name": "ipython",
    "version": 3
   },
   "file_extension": ".py",
   "mimetype": "text/x-python",
   "name": "python",
   "nbconvert_exporter": "python",
   "pygments_lexer": "ipython3",
   "version": "3.11.5"
  }
 },
 "nbformat": 4,
 "nbformat_minor": 5
}
