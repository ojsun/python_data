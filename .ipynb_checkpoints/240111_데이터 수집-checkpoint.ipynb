{
 "cells": [
  {
   "cell_type": "code",
   "execution_count": 5,
   "id": "b2a8c8cb",
   "metadata": {},
   "outputs": [],
   "source": [
    "import requests, json"
   ]
  },
  {
   "cell_type": "code",
   "execution_count": 2,
   "id": "9b194243",
   "metadata": {},
   "outputs": [],
   "source": [
    "CLIENT_ID = \"0keVMr8xAhCCKKHqq_SZ\"\n",
    "CLIENT_SECRET = \"znXZuY_dDI\""
   ]
  },
  {
   "cell_type": "code",
   "execution_count": 3,
   "id": "882fc65b",
   "metadata": {},
   "outputs": [],
   "source": [
    "headers = {\"Content-Type\": \"application/json\",\n",
    "            \"X-Naver-Client-Id\": CLIENT_ID,\n",
    "            \"X-Naver-Client-Secret\": CLIENT_SECRET}"
   ]
  },
  {
   "cell_type": "code",
   "execution_count": 6,
   "id": "2f8a8a58",
   "metadata": {},
   "outputs": [],
   "source": [
    "url = \"https://openapi.naver.com/v1/datalab/search\"\n",
    "params = {\n",
    "\"startDate\": \"2023-01-01\",\n",
    "\"endDate\": \"2023-12-31\",\n",
    "\"timeUnit\": \"month\", \n",
    "\"keywordGroups\": [\n",
    "{\"groupName\": \"트위터\", \"keywords\": [\"트위터\", \"트윗\"]},\n",
    "{\"groupName\": \"페이스북\", \"keywords\": [\"페이스북\", \"페북\"]},\n",
    "{\"groupName\": \"인스타그램\", \"keywords\": [\"인스타그램\", \n",
    "\"인스타\"]}]}\n",
    "response = requests.post(url, data = json.dumps(params), headers=headers)"
   ]
  },
  {
   "cell_type": "code",
   "execution_count": 9,
   "id": "84423b26",
   "metadata": {},
   "outputs": [
    {
     "data": {
      "text/plain": [
       "{'startDate': '2023-01-01',\n",
       " 'endDate': '2023-12-31',\n",
       " 'timeUnit': 'month',\n",
       " 'results': [{'title': '트위터',\n",
       "   'keywords': ['트위터', '트윗'],\n",
       "   'data': [{'period': '2023-01-01', 'ratio': 94.93332},\n",
       "    {'period': '2023-02-01', 'ratio': 90.62362},\n",
       "    {'period': '2023-03-01', 'ratio': 89.60876},\n",
       "    {'period': '2023-04-01', 'ratio': 100},\n",
       "    {'period': '2023-05-01', 'ratio': 81.95453},\n",
       "    {'period': '2023-06-01', 'ratio': 85.40499},\n",
       "    {'period': '2023-07-01', 'ratio': 96.99514},\n",
       "    {'period': '2023-08-01', 'ratio': 95.33897},\n",
       "    {'period': '2023-09-01', 'ratio': 81.96185},\n",
       "    {'period': '2023-10-01', 'ratio': 85.98988},\n",
       "    {'period': '2023-11-01', 'ratio': 81.43833},\n",
       "    {'period': '2023-12-01', 'ratio': 82.00285}]},\n",
       "  {'title': '페이스북',\n",
       "   'keywords': ['페이스북', '페북'],\n",
       "   'data': [{'period': '2023-01-01', 'ratio': 53.00228},\n",
       "    {'period': '2023-02-01', 'ratio': 46.08832},\n",
       "    {'period': '2023-03-01', 'ratio': 47.57329},\n",
       "    {'period': '2023-04-01', 'ratio': 44.75489},\n",
       "    {'period': '2023-05-01', 'ratio': 45.13131},\n",
       "    {'period': '2023-06-01', 'ratio': 42.12839},\n",
       "    {'period': '2023-07-01', 'ratio': 42.25194},\n",
       "    {'period': '2023-08-01', 'ratio': 41.05227},\n",
       "    {'period': '2023-09-01', 'ratio': 37.28701},\n",
       "    {'period': '2023-10-01', 'ratio': 37.21907},\n",
       "    {'period': '2023-11-01', 'ratio': 35.51946},\n",
       "    {'period': '2023-12-01', 'ratio': 36.08099}]},\n",
       "  {'title': '인스타그램',\n",
       "   'keywords': ['인스타그램', '인스타'],\n",
       "   'data': [{'period': '2023-01-01', 'ratio': 72.31953},\n",
       "    {'period': '2023-02-01', 'ratio': 69.45774},\n",
       "    {'period': '2023-03-01', 'ratio': 78.99667},\n",
       "    {'period': '2023-04-01', 'ratio': 81.03542},\n",
       "    {'period': '2023-05-01', 'ratio': 87.32269},\n",
       "    {'period': '2023-06-01', 'ratio': 85.21056},\n",
       "    {'period': '2023-07-01', 'ratio': 80.47527},\n",
       "    {'period': '2023-08-01', 'ratio': 78.25832},\n",
       "    {'period': '2023-09-01', 'ratio': 75.16921},\n",
       "    {'period': '2023-10-01', 'ratio': 78.90599},\n",
       "    {'period': '2023-11-01', 'ratio': 82.60252},\n",
       "    {'period': '2023-12-01', 'ratio': 77.80911}]}]}"
      ]
     },
     "execution_count": 9,
     "metadata": {},
     "output_type": "execute_result"
    }
   ],
   "source": [
    "response.json()"
   ]
  },
  {
   "cell_type": "code",
   "execution_count": 10,
   "id": "8b9f8478",
   "metadata": {},
   "outputs": [
    {
     "data": {
      "text/plain": [
       "<Response [200]>"
      ]
     },
     "execution_count": 10,
     "metadata": {},
     "output_type": "execute_result"
    }
   ],
   "source": [
    "restapi_key = \"d44eaac9a1ae4db5ec4a3b895553fb84\"\n",
    "url = \"https://dapi.kakao.com/v2/local/search/address.json\"\n",
    "params = { \"query\": '집현동로 77' }\n",
    "headers = {\"Authorization\": \"KakaoAK \" + restapi_key}\n",
    "response = requests.get(url, headers=headers, params=params)\n",
    "response"
   ]
  },
  {
   "cell_type": "code",
   "execution_count": 12,
   "id": "fcaaa6b9",
   "metadata": {},
   "outputs": [],
   "source": [
    "data = response.json()"
   ]
  },
  {
   "cell_type": "code",
   "execution_count": 17,
   "id": "a84d4b60",
   "metadata": {},
   "outputs": [
    {
     "data": {
      "text/plain": [
       "'127.325356593945'"
      ]
     },
     "execution_count": 17,
     "metadata": {},
     "output_type": "execute_result"
    }
   ],
   "source": [
    "data['documents'][0]['address']['x']"
   ]
  },
  {
   "cell_type": "code",
   "execution_count": 18,
   "id": "91119944",
   "metadata": {},
   "outputs": [
    {
     "data": {
      "text/plain": [
       "'36.4910924250367'"
      ]
     },
     "execution_count": 18,
     "metadata": {},
     "output_type": "execute_result"
    }
   ],
   "source": [
    "data['documents'][0]['address']['y']"
   ]
  },
  {
   "cell_type": "code",
   "execution_count": 20,
   "id": "550899da",
   "metadata": {
    "scrolled": false
   },
   "outputs": [
    {
     "data": {
      "text/plain": [
       "{'items': [],\n",
       " 'sections': [{'type': 'vip', 'itemIds': []},\n",
       "  {'type': '안심추천', 'itemIds': []},\n",
       "  {'type': '안심일반', 'itemIds': []},\n",
       "  {'type': '추천', 'itemIds': []},\n",
       "  {'type': '일반', 'itemIds': []}],\n",
       " 'subways': [],\n",
       " 'anyItemWithoutFilter': False}"
      ]
     },
     "execution_count": 20,
     "metadata": {},
     "output_type": "execute_result"
    }
   ],
   "source": [
    "url = 'https://apis.zigbang.com/v2/items/oneroom?geohash=wy6x9&depositMin=0&rentMin=0&salesTypes%5B0%5D=%EC%A0%84%EC%84%B8&salesTypes%5B1%5D=%EC%9B%94%EC%84%B8&domain=zigbang&checkAnyItemWithoutFilter=true'\n",
    "\n",
    "response = requests.get(url)\n",
    "response.json()"
   ]
  },
  {
   "cell_type": "code",
   "execution_count": null,
   "id": "49fe8ca5",
   "metadata": {},
   "outputs": [],
   "source": [
    "url = f'https://apis.zigbang.com/v2/items/oneroom?geohash={geohash}\\\n",
    "&depositMin=0&rentMin=0&salesTypes[0]=월세&salesTypes[1]=전세\\\n",
    "&domain=zigbang&checkAnyItemWithoutFilter=true'\n",
    "\n",
    "response = requests.get(url)\n",
    "datas = response.json()['items']\n",
    "ids = [data[\"itemId\"] for data in datas]\n",
    "len(ids), ids[:5]\n"
   ]
  },
  {
   "cell_type": "code",
   "execution_count": 45,
   "id": "467f7863",
   "metadata": {},
   "outputs": [
    {
     "data": {
      "text/plain": [
       "<Response [403]>"
      ]
     },
     "execution_count": 45,
     "metadata": {},
     "output_type": "execute_result"
    }
   ],
   "source": [
    "url = 'https://www.zigbang.com/home/oneroom/map'\n",
    "\n",
    "response = requests.get(url)\n",
    "response"
   ]
  },
  {
   "cell_type": "code",
   "execution_count": 41,
   "id": "a948e6f6",
   "metadata": {},
   "outputs": [
    {
     "data": {
      "text/plain": [
       "77"
      ]
     },
     "execution_count": 41,
     "metadata": {},
     "output_type": "execute_result"
    }
   ],
   "source": [
    "1 + 2 + 2+ 2+ 2+ 2+ 2+ 2+ 2+ 2+ \\\n",
    "2+ 2+ 2+ 2+ 2+ 2+ 2+ 2+ 2+ 2+ 2\\\n",
    "+ \\\n",
    "2+ 2+ 2+ 2+ 2+ 2+ 2+ 2+ 2+ 2+ 2+ 2+ 2+ 2+ 2+ 2+ 2+ 2"
   ]
  },
  {
   "cell_type": "code",
   "execution_count": 35,
   "id": "bc998d80",
   "metadata": {},
   "outputs": [
    {
     "data": {
      "text/plain": [
       "'abcdef'"
      ]
     },
     "execution_count": 35,
     "metadata": {},
     "output_type": "execute_result"
    }
   ],
   "source": [
    "'''abc\\\n",
    "def'''"
   ]
  },
  {
   "cell_type": "code",
   "execution_count": 46,
   "id": "68a9148f",
   "metadata": {},
   "outputs": [
    {
     "data": {
      "text/plain": [
       "<Response [200]>"
      ]
     },
     "execution_count": 46,
     "metadata": {},
     "output_type": "execute_result"
    }
   ],
   "source": [
    "url = '''https://apis.zigbang.com/v2/items/oneroom?geohash=wy6r\\\n",
    "&depositMin=0&rentMin=0&salesTypes[0]=전세\\\n",
    "&salesTypes[1]=월세&domain=zigbang&checkAnyItemWithoutFilter=true'''\n",
    "\n",
    "response = requests.get(url)\n",
    "response"
   ]
  },
  {
   "cell_type": "code",
   "execution_count": 51,
   "id": "10e92341",
   "metadata": {
    "scrolled": false
   },
   "outputs": [],
   "source": [
    "result = response.json()\n",
    "items_Id = []\n",
    "for item in result['items']:\n",
    "    items_Id.append(item['itemId'])"
   ]
  },
  {
   "cell_type": "code",
   "execution_count": 53,
   "id": "ef3a83d8",
   "metadata": {},
   "outputs": [
    {
     "name": "stdout",
     "output_type": "stream",
     "text": [
      "[39056719, 39388676, 39283056, 39369210, 39388712, 39388764, 39287969, 39409749, 39409798, 39305965, 39305353, 39398314, 39321727, 39369142, 39398360, 39343361, 39347569, 39355839, 39360761, 39339608, 39393320, 39229121, 39261644, 39305063, 39344292, 39171438, 39398219, 39112380, 39350298, 39351506, 39366145, 39367426, 39386168, 39056928, 39287166, 39313337, 39040316, 39202996, 39255990, 39251534, 39033181, 39192634, 39169011, 39376043, 39232083, 39327317, 39296766, 39312458, 39261686, 39274714, 39342103, 39350267, 39350309, 39365085, 39393796, 39397089, 39405413, 39187794, 39241290, 39292105, 39300606, 39407767, 39396699, 39392419, 39393780, 39312475, 39398237, 39369937, 39259163, 39259103, 39407788, 39398801, 39393501, 39382031, 39259207, 39399984, 39402029, 39334745, 39395632, 39369403, 39320922, 39077983, 39321675, 39384675, 39313840, 39233430, 39369081, 39388857, 39343275, 39365514]\n"
     ]
    }
   ],
   "source": [
    "print(items_Id)"
   ]
  },
  {
   "cell_type": "code",
   "execution_count": 62,
   "id": "8c4bba26",
   "metadata": {},
   "outputs": [],
   "source": [
    "url = \"https://apis.zigbang.com/v2/items/list\"\n",
    "params = {\"item_ids\": items_Id, \"domain\": \"zigbang\"}\n",
    "response = requests.post(url, data = params)\n"
   ]
  },
  {
   "cell_type": "code",
   "execution_count": 67,
   "id": "ad8787fe",
   "metadata": {
    "scrolled": false
   },
   "outputs": [
    {
     "data": {
      "text/plain": [
       "[['월세', 500, 55, 27.16, '나성동'],\n",
       " ['월세', 500, 66, 38.24, '나성동'],\n",
       " ['월세', 11000, 15, 34.05, '나성동'],\n",
       " ['전세', 11300, 0, 35.19, '나성동'],\n",
       " ['월세', 500, 68, 35.19, '나성동'],\n",
       " ['월세', 500, 53, 19.57, '나성동'],\n",
       " ['월세', 500, 55, 21.85, '나성동'],\n",
       " ['월세', 500, 50, 22.48, '나성동'],\n",
       " ['월세', 5000, 15, 22.68, '나성동'],\n",
       " ['월세', 500, 60, 30.55, '나성동'],\n",
       " ['월세', 6500, 30, 25.7, '나성동'],\n",
       " ['월세', 300, 55, 25.7, '나성동'],\n",
       " ['월세', 300, 57, 24.12, '나성동'],\n",
       " ['전세', 9600, 0, 24.12, '나성동'],\n",
       " ['월세', 500, 50, 19.83, '나성동'],\n",
       " ['월세', 8600, 10, 25.99, '나성동'],\n",
       " ['월세', 500, 60, 26.12, '나성동'],\n",
       " ['월세', 500, 60, 25, '나성동'],\n",
       " ['월세', 500, 60, 26.12, '나성동'],\n",
       " ['월세', 500, 65, 36.54, '나성동'],\n",
       " ['월세', 500, 75, 39.95, '나성동'],\n",
       " ['월세', 500, 60, 25.61, '나성동'],\n",
       " ['월세', 500, 65, 28.43, '나성동'],\n",
       " ['월세', 500, 65, 28.43, '나성동'],\n",
       " ['월세', 3000, 50, 26.19, '나성동'],\n",
       " ['월세', 300, 60, 25.45, '나성동'],\n",
       " ['월세', 5000, 30, 24.42, '나성동'],\n",
       " ['월세', 500, 70, 28.39, '나성동'],\n",
       " ['월세', 500, 65, 26.99, '나성동'],\n",
       " ['월세', 500, 66, 27.98, '나성동'],\n",
       " ['월세', 2000, 53, 28.39, '나성동'],\n",
       " ['전세', 13000, 0, 27.99, '나성동'],\n",
       " ['월세', 9300, 15, 28.1, '나성동'],\n",
       " ['월세', 3000, 50, 26.44, '나성동'],\n",
       " ['월세', 500, 65, 27.08, '나성동'],\n",
       " ['월세', 200, 25, 22, '장군면 은용리'],\n",
       " ['월세', 5000, 35, 23.28, '나성동'],\n",
       " ['월세', 500, 60, 23.28, '나성동'],\n",
       " ['월세', 500, 48, 18.56, '나성동'],\n",
       " ['월세', 500, 65, 28.12, '나성동'],\n",
       " ['월세', 500, 60, 26.45, '나성동'],\n",
       " ['월세', 500, 65, 26.45, '나성동'],\n",
       " ['전세', 3500, 0, 22, '장군면 은용리'],\n",
       " ['전세', 3500, 0, 23.14, '장군면 은용리'],\n",
       " ['월세', 500, 60, 20.1, '나성동'],\n",
       " ['월세', 500, 60, 20.83, '나성동'],\n",
       " ['월세', 200, 40, 36.36, '장군면 도계리'],\n",
       " ['월세', 200, 38, 36.36, '장군면 도계리'],\n",
       " ['월세', 500, 50, 23.74, '어진동'],\n",
       " ['월세', 500, 50, 24.22, '어진동'],\n",
       " ['월세', 2000, 40, 22.42, '어진동'],\n",
       " ['월세', 2000, 75, 39.13, '어진동'],\n",
       " ['월세', 500, 50, 24.22, '어진동'],\n",
       " ['전세', 7600, 0, 22.42, '어진동'],\n",
       " ['월세', 300, 46, 23.74, '어진동'],\n",
       " ['월세', 500, 50, 22.42, '어진동'],\n",
       " ['월세', 3000, 38, 22.42, '어진동'],\n",
       " ['월세', 500, 60, 24.44, '어진동'],\n",
       " ['월세', 500, 55, 23.45, '어진동'],\n",
       " ['월세', 500, 55, 24, '어진동'],\n",
       " ['월세', 500, 65, 30, '어진동'],\n",
       " ['월세', 200, 30, 23.14, '장군면 하봉리'],\n",
       " ['월세', 200, 30, 23, '장군면 도계리'],\n",
       " ['월세', 200, 30, 23, '장군면 도계리'],\n",
       " ['월세', 200, 45, 46, '장군면 도계리'],\n",
       " ['월세', 200, 30, 23.14, '장군면 봉안리'],\n",
       " ['월세', 100, 28, 20, '장군면 봉안리'],\n",
       " ['월세', 200, 50, 46.28, '장군면 도계리'],\n",
       " ['월세', 300, 35, 23.14, '장군면 봉안리'],\n",
       " ['전세', 4000, 0, 21.49, '장군면 봉안리'],\n",
       " ['월세', 200, 30, 29.75, '장군면 봉안리'],\n",
       " ['월세', 300, 43, 38, '장군면 봉안리'],\n",
       " ['월세', 200, 35, 26, '장군면 봉안리'],\n",
       " ['월세', 300, 30, 20, '장군면 봉안리'],\n",
       " ['월세', 250, 35, 23.14, '장군면 봉안리'],\n",
       " ['월세', 300, 35, 25, '장군면 봉안리'],\n",
       " ['월세', 200, 30, 20, '장군면 봉안리'],\n",
       " ['월세', 200, 30, 23.14, '장군면 봉안리'],\n",
       " ['월세', 100, 30, 21.49, '장군면 봉안리'],\n",
       " ['월세', 100, 29, 21.49, '장군면 봉안리'],\n",
       " ['월세', 100, 30, 28.1, '장군면 대교리'],\n",
       " ['월세', 3000, 15, 22, '장군면 봉안리'],\n",
       " ['월세', 200, 30, 22, '장군면 봉안리'],\n",
       " ['월세', 100, 25, 16.53, '장군면 대교리'],\n",
       " ['전세', 4000, 0, 23.14, '장군면 대교리'],\n",
       " ['월세', 500, 50, 17.39, '도담동'],\n",
       " ['월세', 500, 50, 19.16, '도담동'],\n",
       " ['월세', 500, 50, 21, '도담동'],\n",
       " ['월세', 500, 50, 20.17, '도담동'],\n",
       " ['월세', 500, 50, 20.17, '도담동']]"
      ]
     },
     "execution_count": 67,
     "metadata": {},
     "output_type": "execute_result"
    }
   ],
   "source": [
    "result = response.json()\n",
    "final_result = []\n",
    "for item in result['items']:\n",
    "    sales_type = item['sales_type']\n",
    "    deposit = item['deposit']\n",
    "    rent = item['rent']\n",
    "    area = item['전용면적']['m2']\n",
    "    address = item['address']\n",
    "    final_result.append([sales_type, deposit, rent, area, address])\n",
    "final_result"
   ]
  },
  {
   "cell_type": "code",
   "execution_count": 84,
   "id": "ad7ad4c6",
   "metadata": {},
   "outputs": [],
   "source": [
    "def search_location(query):\n",
    "    restapi_key = '60b71cac95c11ebfeb2ee9d26ca44bbc'\n",
    "    url = \"https://dapi.kakao.com/v2/local/search/address.json\"\n",
    "    params = { \"query\": query }\n",
    "    headers = {\"Authorization\": \"KakaoAK \" + restapi_key}\n",
    "    response = requests.get(url, headers=headers, params=params)\n",
    "    \n",
    "    if response.status_code == 200:\n",
    "        try:\n",
    "            address = response.json()['documents'][0]\n",
    "            return float(address['x']), float(address['y'])\n",
    "        except:\n",
    "            return '검색안됨'\n",
    "    else:\n",
    "        return response.status_code\n"
   ]
  },
  {
   "cell_type": "code",
   "execution_count": 83,
   "id": "0dd4d147",
   "metadata": {},
   "outputs": [
    {
     "data": {
      "text/plain": [
       "'검색안됨'"
      ]
     },
     "execution_count": 83,
     "metadata": {},
     "output_type": "execute_result"
    }
   ],
   "source": [
    "search_location('새나루 9단지')"
   ]
  },
  {
   "cell_type": "code",
   "execution_count": 73,
   "id": "0553c2a5",
   "metadata": {},
   "outputs": [
    {
     "name": "stdout",
     "output_type": "stream",
     "text": [
      "Collecting geohash2\n",
      "  Downloading geohash2-1.1.tar.gz (15 kB)\n",
      "  Preparing metadata (setup.py): started\n",
      "  Preparing metadata (setup.py): finished with status 'done'\n",
      "Requirement already satisfied: docutils>=0.3 in c:\\users\\admin\\appdata\\local\\anaconda3\\lib\\site-packages (from geohash2) (0.18.1)\n",
      "Building wheels for collected packages: geohash2\n",
      "  Building wheel for geohash2 (setup.py): started\n",
      "  Building wheel for geohash2 (setup.py): finished with status 'done'\n",
      "  Created wheel for geohash2: filename=geohash2-1.1-py3-none-any.whl size=15554 sha256=e8f59f07652c7ef085337c399be14b4bca3fb549de106bce09618c2f81ae3b9e\n",
      "  Stored in directory: c:\\users\\admin\\appdata\\local\\pip\\cache\\wheels\\f6\\7c\\c4\\1b3c6fea0ebc53bf730dc86bbee7a713d501455dfb4c1f0623\n",
      "Successfully built geohash2\n",
      "Installing collected packages: geohash2\n",
      "Successfully installed geohash2-1.1\n"
     ]
    }
   ],
   "source": [
    "!pip install geohash2"
   ]
  },
  {
   "cell_type": "code",
   "execution_count": 74,
   "id": "114addfc",
   "metadata": {},
   "outputs": [],
   "source": [
    "import geohash2"
   ]
  },
  {
   "cell_type": "code",
   "execution_count": 85,
   "id": "5e2809a3",
   "metadata": {},
   "outputs": [],
   "source": [
    "lng, lat = search_location('보람동')"
   ]
  },
  {
   "cell_type": "code",
   "execution_count": 90,
   "id": "d0a31845",
   "metadata": {},
   "outputs": [
    {
     "data": {
      "text/plain": [
       "'wy6x8'"
      ]
     },
     "execution_count": 90,
     "metadata": {},
     "output_type": "execute_result"
    }
   ],
   "source": [
    "geohash = geohash2.encode(lat, lng, precision=5)\n",
    "geohash"
   ]
  },
  {
   "cell_type": "code",
   "execution_count": 96,
   "id": "e12ad8cc",
   "metadata": {},
   "outputs": [],
   "source": [
    "def search_ids(geohash):\n",
    "    url = f'https://apis.zigbang.com/v2/items/oneroom'\n",
    "\n",
    "    params = {'geohash': geohash,\n",
    "              'depositMin':'0',\n",
    "              'rentMin':'0',\n",
    "              'salesTypes' : ['월세', '전세'],\n",
    "              'domain':'zigbang',\n",
    "              'checkAnyItemWithoutFilter':'true'}\n",
    "\n",
    "    response = requests.get(url, params)\n",
    "    if response.status_code == 200:\n",
    "        datas = response.json()['items']\n",
    "        ids = [data[\"itemId\"] for data in datas]\n",
    "        return ids\n",
    "    else:\n",
    "        return response.status_code"
   ]
  },
  {
   "cell_type": "code",
   "execution_count": 97,
   "id": "472d5384",
   "metadata": {},
   "outputs": [],
   "source": [
    "ids = search_ids(geohash)"
   ]
  },
  {
   "cell_type": "code",
   "execution_count": 128,
   "id": "c014a860",
   "metadata": {},
   "outputs": [],
   "source": [
    "url = \"https://apis.zigbang.com/v2/items/list\"\n",
    "params = {\"item_ids\": ids, \"domain\": \"zigbang\"}\n",
    "response = requests.post(url, params)\n",
    "result = response.json()"
   ]
  },
  {
   "cell_type": "code",
   "execution_count": 130,
   "id": "cde338d5",
   "metadata": {},
   "outputs": [],
   "source": [
    "def search_oneroom(ids):\n",
    "    url = \"https://apis.zigbang.com/v2/items/list\"\n",
    "    params = {\"item_ids\": ids, \"domain\": \"zigbang\"}\n",
    "    response = requests.post(url, params)\n",
    "    result = response.json()\n",
    "    final_result = []\n",
    "    for item in result['items']:\n",
    "        item_id = item['item_id']\n",
    "        sales_type = item['sales_type']\n",
    "        deposit = item['deposit']\n",
    "        rent = item['rent']\n",
    "        area = item['전용면적']['m2']\n",
    "        address = item['address']\n",
    "        final_result.append([item_id, sales_type, deposit, rent, area, address])\n",
    "    return final_result"
   ]
  },
  {
   "cell_type": "code",
   "execution_count": 131,
   "id": "cddc3f41",
   "metadata": {},
   "outputs": [],
   "source": [
    "lng, lat = search_location('서초구')\n",
    "geohash = geohash2.encode(lat, lng, precision=5)\n",
    "ids = search_ids(geohash)\n",
    "result = search_oneroom(ids)"
   ]
  },
  {
   "cell_type": "code",
   "execution_count": 111,
   "id": "e0756dfb",
   "metadata": {},
   "outputs": [
    {
     "data": {
      "text/plain": [
       "['월세', '1000', '70', '20.82', '서초구 우면동']"
      ]
     },
     "execution_count": 111,
     "metadata": {},
     "output_type": "execute_result"
    }
   ],
   "source": [
    "item = ['월세', 1000, 70, 20.82, '서초구 우면동']\n",
    "list(map(str, item))"
   ]
  },
  {
   "cell_type": "code",
   "execution_count": 132,
   "id": "b23ecedd",
   "metadata": {},
   "outputs": [
    {
     "data": {
      "text/plain": [
       "[[39302452, '월세', 1000, 70, 20.82, '서초구 우면동'],\n",
       " [39353792, '월세', 1000, 71, 21.88, '서초구 우면동'],\n",
       " [39353817, '월세', 1000, 70, 21.82, '서초구 우면동'],\n",
       " [39380091, '월세', 1000, 88, 26.76, '서초구 우면동'],\n",
       " [39394925, '월세', 5000, 76, 20.76, '서초구 양재동']]"
      ]
     },
     "execution_count": 132,
     "metadata": {},
     "output_type": "execute_result"
    }
   ],
   "source": [
    "result[:5]"
   ]
  },
  {
   "cell_type": "code",
   "execution_count": 123,
   "id": "7f8d3bbc",
   "metadata": {
    "scrolled": false
   },
   "outputs": [],
   "source": [
    "def write_txt(file, result, mode='w'):\n",
    "    with open(file, mode, encoding='euc-kr') as f:\n",
    "        for item in result: # item = ['월세', 1000, 70, 20.82, '서초구 우면동']\n",
    "            item = list(map(str, item))\n",
    "            item = ', '.join(item)\n",
    "            f.write(item)\n",
    "            f.write('\\n')\n",
    "    print('파일 생성 완료')"
   ]
  },
  {
   "cell_type": "code",
   "execution_count": 139,
   "id": "69398a63",
   "metadata": {},
   "outputs": [
    {
     "name": "stdout",
     "output_type": "stream",
     "text": [
      "파일 생성 완료\n"
     ]
    }
   ],
   "source": [
    "lng, lat = search_location('서초구')\n",
    "geohash = geohash2.encode(lat, lng, precision=5)\n",
    "ids = search_ids(geohash)\n",
    "result = search_oneroom(ids)\n",
    "write_txt('result.txt', result)"
   ]
  },
  {
   "cell_type": "code",
   "execution_count": 135,
   "id": "16a7e6dc",
   "metadata": {},
   "outputs": [],
   "source": [
    "import pymysql"
   ]
  },
  {
   "cell_type": "code",
   "execution_count": null,
   "id": "18596fec",
   "metadata": {},
   "outputs": [],
   "source": []
  },
  {
   "cell_type": "code",
   "execution_count": 149,
   "id": "a6d98c73",
   "metadata": {},
   "outputs": [],
   "source": [
    "def insert_maria(result):\n",
    "    conn = pymysql.connect(user = 'maria',\n",
    "                            password = '1234',\n",
    "                            host = 'localhost',\n",
    "                            port = 3306,\n",
    "                            database = 'python_db'\n",
    "                            )\n",
    "    cursor = conn.cursor()\n",
    "\n",
    "    sql = '''insert into oneroom values (%s, %s, %s, %s, %s, %s)'''\n",
    "    for index, item in enumerate(result):\n",
    "        try:\n",
    "            cursor.execute(sql, item)\n",
    "        except:\n",
    "            print('중복데이터 입력 :', item[0])\n",
    "            continue\n",
    "        if index % 10 == 0:\n",
    "            conn.commit()\n",
    "\n",
    "    conn.commit()\n",
    "    conn.close()"
   ]
  },
  {
   "cell_type": "code",
   "execution_count": 151,
   "id": "d51fa34e",
   "metadata": {},
   "outputs": [],
   "source": [
    "lng, lat = search_location('조치원읍')\n",
    "geohash = geohash2.encode(lat, lng, precision=5)\n",
    "ids = search_ids(geohash)\n",
    "result = search_oneroom(ids)\n",
    "insert_maria(result)"
   ]
  },
  {
   "cell_type": "code",
   "execution_count": 153,
   "id": "32381e26",
   "metadata": {
    "scrolled": true
   },
   "outputs": [
    {
     "data": {
      "text/plain": [
       "[[39273497, '월세', 100, 35, 23.14, '연서면 봉암리'],\n",
       " [39222100, '월세', 100, 30, 27, '연서면 봉암리'],\n",
       " [39313842, '월세', 200, 34, 23.14, '연서면 봉암리'],\n",
       " [39336453, '월세', 500, 60, 52.89, '연서면 봉암리'],\n",
       " [39067418, '월세', 200, 34, 26.45, '연서면 봉암리'],\n",
       " [39093559, '월세', 200, 30, 23.14, '연서면 봉암리'],\n",
       " [39280294, '월세', 200, 45, 33.06, '연서면 봉암리'],\n",
       " [39345888, '월세', 300, 45, 33, '연서면 봉암리'],\n",
       " [38628365, '월세', 200, 34, 23.14, '연서면 봉암리'],\n",
       " [39096869, '월세', 200, 32, 26.45, '연서면 봉암리'],\n",
       " [39054419, '월세', 200, 45, 46.28, '연서면 봉암리'],\n",
       " [39399703, '월세', 200, 45, 39.67, '연서면 봉암리'],\n",
       " [39346318, '전세', 3500, 0, 26.45, '연서면 봉암리'],\n",
       " [39408097, '전세', 3500, 0, 26.45, '연서면 봉암리'],\n",
       " [39329425, '월세', 200, 37, 29.75, '연서면 봉암리'],\n",
       " [39278458, '월세', 200, 34, 26.45, '연서면 봉암리'],\n",
       " [39066454, '월세', 200, 33, 26.45, '연서면 봉암리'],\n",
       " [39179052, '월세', 200, 45, 39.67, '연서면 봉암리'],\n",
       " [39379951, '월세', 200, 30, 26.45, '연서면 봉암리'],\n",
       " [38982258, '월세', 100, 28, 19.83, '연서면 봉암리'],\n",
       " [39296527, '월세', 200, 30, 21.49, '연서면 봉암리'],\n",
       " [39387135, '월세', 100, 28, 23.14, '연서면 월하리'],\n",
       " [37941713, '월세', 100, 28, 23.14, '연서면 월하리'],\n",
       " [38875150, '월세', 100, 28, 23.14, '연서면 월하리'],\n",
       " [39379085, '월세', 200, 28, 23.14, '조치원읍 번암리'],\n",
       " [39358223, '월세', 3000, 35, 30, '조치원읍 죽림리'],\n",
       " [39379148, '월세', 200, 31, 26.45, '조치원읍 죽림리'],\n",
       " [39321345, '전세', 2800, 0, 23.14, '조치원읍 남리'],\n",
       " [39079620, '월세', 5900, 26, 52.89, '조치원읍 신흥리'],\n",
       " [39170362, '월세', 200, 30, 19.83, '조치원읍 남리'],\n",
       " [39100409, '전세', 3500, 0, 36.36, '조치원읍 남리'],\n",
       " [39197911, '월세', 200, 30, 19.83, '조치원읍 남리'],\n",
       " [39364616, '월세', 200, 30, 26.45, '조치원읍 남리'],\n",
       " [39242689, '월세', 200, 28, 16.53, '조치원읍 남리'],\n",
       " [39198204, '월세', 200, 31, 19.83, '조치원읍 남리'],\n",
       " [39202612, '월세', 200, 31, 26.45, '조치원읍 남리'],\n",
       " [39370564, '월세', 200, 30, 26.45, '조치원읍 남리'],\n",
       " [38750645, '월세', 400, 40, 26.45, '조치원읍 신흥리'],\n",
       " [38900078, '월세', 400, 40, 29.75, '조치원읍 신흥리'],\n",
       " [39292169, '월세', 2000, 75, 66.12, '조치원읍 남리'],\n",
       " [39171808, '월세', 200, 28, 23.14, '조치원읍 남리'],\n",
       " [39246347, '전세', 4000, 0, 23.14, '조치원읍 남리'],\n",
       " [39052784, '월세', 1000, 60, 52.89, '조치원읍 신흥리'],\n",
       " [39344727, '전세', 3000, 0, 23.14, '조치원읍 남리'],\n",
       " [39382155, '월세', 2000, 60, 59.5, '조치원읍 남리'],\n",
       " [38859480, '전세', 6000, 0, 39.67, '조치원읍 침산리'],\n",
       " [38940158, '월세', 300, 35, 26.45, '조치원읍 침산리'],\n",
       " [39243089, '전세', 5500, 0, 33.06, '조치원읍 명리'],\n",
       " [38769504, '월세', 200, 29, 23.14, '조치원읍 침산리'],\n",
       " [39369618, '월세', 200, 25, 19.83, '조치원읍 침산리'],\n",
       " [39385944, '월세', 400, 40, 29.75, '조치원읍 침산리'],\n",
       " [39260917, '월세', 300, 34, 23.14, '조치원읍 침산리'],\n",
       " [39150946, '월세', 200, 31, 26.45, '조치원읍 침산리'],\n",
       " [39383623, '월세', 200, 31, 26.45, '조치원읍 침산리'],\n",
       " [39372695, '월세', 200, 31, 23.14, '조치원읍 침산리'],\n",
       " [39354545, '월세', 200, 27, 23.14, '조치원읍 침산리'],\n",
       " [39284682, '월세', 200, 28, 23.14, '조치원읍 침산리'],\n",
       " [39177277, '월세', 200, 30, 29.75, '조치원읍 침산리'],\n",
       " [39189551, '월세', 200, 30, 26.45, '조치원읍 침산리'],\n",
       " [39197883, '월세', 300, 31, 21.49, '조치원읍 명리'],\n",
       " [39349592, '월세', 300, 32, 26.45, '조치원읍 명리'],\n",
       " [39387280, '월세', 300, 30, 26.45, '조치원읍 명리'],\n",
       " [39039889, '월세', 1000, 70, 62.81, '조치원읍 명리'],\n",
       " [39154783, '전세', 10000, 0, 49.59, '조치원읍 침산리'],\n",
       " [39284465, '월세', 300, 30, 26.45, '조치원읍 침산리'],\n",
       " [39319282, '월세', 300, 26, 49.59, '조치원읍 침산리'],\n",
       " [39164383, '월세', 300, 31, 26.45, '조치원읍 침산리'],\n",
       " [39198291, '월세', 200, 33, 26.6, '조치원읍 침산리'],\n",
       " [38729225, '월세', 200, 32, 19.83, '조치원읍 상리'],\n",
       " [38841918, '전세', 3500, 0, 23.14, '조치원읍 상리'],\n",
       " [39278392, '월세', 200, 29, 19.83, '조치원읍 침산리'],\n",
       " [39339631, '월세', 300, 30, 29.75, '조치원읍 침산리'],\n",
       " [39348453, '월세', 300, 32, 25, '조치원읍 침산리'],\n",
       " [39384327, '월세', 300, 30, 29.75, '조치원읍 침산리'],\n",
       " [39143550, '월세', 200, 35, 29, '조치원읍 침산리'],\n",
       " [39137412, '월세', 200, 26, 23.14, '조치원읍 침산리'],\n",
       " [39223892, '월세', 200, 28, 26.45, '조치원읍 침산리'],\n",
       " [39354526, '월세', 200, 25, 19.83, '조치원읍 침산리'],\n",
       " [39404529, '월세', 200, 30, 16.53, '조치원읍 침산리'],\n",
       " [39309327, '월세', 200, 31, 26.45, '조치원읍 침산리'],\n",
       " [39341359, '월세', 200, 32, 19.83, '조치원읍 침산리'],\n",
       " [39359035, '월세', 300, 31, 19.83, '조치원읍 침산리'],\n",
       " [39384995, '월세', 300, 32, 19.83, '조치원읍 침산리'],\n",
       " [39400921, '월세', 300, 30, 23.14, '조치원읍 침산리'],\n",
       " [39221794, '월세', 100, 29, 29.75, '조치원읍 침산리'],\n",
       " [39310550, '월세', 200, 25, 23.14, '조치원읍 침산리'],\n",
       " [39070229, '월세', 300, 25, 23.14, '조치원읍 침산리'],\n",
       " [39278250, '월세', 200, 31, 23.14, '조치원읍 침산리'],\n",
       " [39344467, '월세', 10000, 40, 99.17, '조치원읍 침산리'],\n",
       " [39386293, '월세', 300, 35, 23.14, '조치원읍 침산리'],\n",
       " [39197976, '월세', 200, 29, 16.86, '조치원읍 원리'],\n",
       " [39198049, '월세', 400, 36, 14, '조치원읍 원리'],\n",
       " [39195032, '월세', 1000, 60, 33.06, '조치원읍 침산리'],\n",
       " [39394457, '월세', 1000, 54, 30, '조치원읍 침산리'],\n",
       " [39409575, '월세', 1000, 63, 36.36, '조치원읍 침산리'],\n",
       " [39198331, '월세', 200, 30, 24, '조치원읍 상리'],\n",
       " [39095440, '월세', 60, 26, 19.83, '조치원읍 침산리'],\n",
       " [39260661, '월세', 60, 26, 16.53, '조치원읍 침산리'],\n",
       " [39290936, '월세', 200, 31, 36.36, '조치원읍 침산리'],\n",
       " [39198494, '월세', 1500, 20, 21.49, '조치원읍 상리'],\n",
       " [39260627, '월세', 300, 35, 23.14, '조치원읍 침산리'],\n",
       " [39341230, '월세', 300, 30, 26.45, '조치원읍 침산리'],\n",
       " [39371444, '월세', 300, 30, 23.14, '조치원읍 침산리'],\n",
       " [38798327, '월세', 200, 30, 23.14, '조치원읍 침산리'],\n",
       " [39300264, '월세', 200, 30, 23.14, '조치원읍 침산리'],\n",
       " [39366924, '월세', 200, 30, 23.14, '조치원읍 침산리'],\n",
       " [39377319, '월세', 200, 30, 26.45, '조치원읍 침산리'],\n",
       " [39198085, '월세', 200, 30, 19.83, '조치원읍 상리'],\n",
       " [39304047, '월세', 500, 50, 29, '조치원읍 침산리'],\n",
       " [39349305, '월세', 500, 48, 26.45, '조치원읍 침산리'],\n",
       " [39394036, '월세', 500, 60, 30, '조치원읍 침산리'],\n",
       " [39409498, '월세', 500, 57, 33.06, '조치원읍 침산리'],\n",
       " [39216834, '월세', 2000, 60, 92.56, '청주시 흥덕구 오송읍 서평리'],\n",
       " [39280111, '월세', 2000, 60, 92.56, '청주시 흥덕구 오송읍 서평리'],\n",
       " [39381546, '전세', 9450, 0, 49.59, '조치원읍 평리'],\n",
       " [39060992, '월세', 100, 26, 19.83, '조치원읍 침산리'],\n",
       " [39249889, '월세', 500, 46, 42.98, '조치원읍 교리'],\n",
       " [39214314, '월세', 500, 42, 36.36, '조치원읍 교리'],\n",
       " [39249246, '월세', 500, 40, 38, '조치원읍 교리'],\n",
       " [39120299, '월세', 300, 41, 39.67, '조치원읍 교리'],\n",
       " [39261744, '월세', 300, 41, 36.36, '조치원읍 교리'],\n",
       " [39274068, '전세', 5500, 0, 36.36, '조치원읍 교리'],\n",
       " [39385718, '월세', 300, 41, 39.67, '조치원읍 교리'],\n",
       " [39386769, '전세', 5500, 0, 36.36, '조치원읍 교리'],\n",
       " [39335232, '월세', 200, 30, 23.14, '조치원읍 침산리'],\n",
       " [39129527, '월세', 200, 30, 26.45, '조치원읍 침산리'],\n",
       " [38903623, '월세', 300, 35, 23.14, '조치원읍 침산리'],\n",
       " [39341223, '월세', 200, 33, 23.14, '조치원읍 침산리'],\n",
       " [39177541, '월세', 200, 31, 26.45, '조치원읍 침산리'],\n",
       " [39217512, '월세', 200, 35, 26.45, '조치원읍 침산리'],\n",
       " [39234983, '월세', 200, 30, 26.45, '조치원읍 침산리'],\n",
       " [39392621, '월세', 200, 30, 26.45, '조치원읍 침산리'],\n",
       " [39379282, '월세', 200, 29, 26.45, '조치원읍 침산리'],\n",
       " [39063515, '월세', 200, 30, 25, '조치원읍 침산리'],\n",
       " [39268023, '월세', 200, 29, 19.83, '조치원읍 침산리'],\n",
       " [39382757, '월세', 200, 30, 23.14, '조치원읍 침산리'],\n",
       " [39224352, '월세', 200, 31, 26.45, '조치원읍 침산리'],\n",
       " [39127708, '월세', 200, 30, 23.14, '조치원읍 침산리'],\n",
       " [39189489, '월세', 1500, 70, 66.12, '조치원읍 침산리'],\n",
       " [39382924, '월세', 300, 45, 33.06, '조치원읍 침산리'],\n",
       " [39264496, '월세', 200, 30, 26.45, '조치원읍 침산리'],\n",
       " [39361639, '월세', 200, 30, 23.14, '조치원읍 침산리'],\n",
       " [39127628, '월세', 200, 30, 23.14, '조치원읍 침산리'],\n",
       " [39354522, '월세', 200, 27, 23.14, '조치원읍 침산리'],\n",
       " [39174183, '월세', 1000, 56, 42.97, '조치원읍 침산리'],\n",
       " [39382783, '월세', 150, 30, 23.14, '조치원읍 침산리'],\n",
       " [39139551, '월세', 200, 30, 23.14, '조치원읍 침산리'],\n",
       " [39257398, '월세', 300, 34, 29.75, '조치원읍 침산리'],\n",
       " [39261697, '월세', 300, 33, 29.75, '조치원읍 침산리'],\n",
       " [39340121, '월세', 300, 35, 33.06, '조치원읍 침산리'],\n",
       " [39336670, '월세', 100, 30, 19.83, '조치원읍 침산리'],\n",
       " [39351950, '월세', 100, 30, 23.14, '조치원읍 침산리'],\n",
       " [39224767, '월세', 200, 31, 26.45, '조치원읍 침산리'],\n",
       " [39386482, '월세', 200, 35, 23.14, '조치원읍 침산리'],\n",
       " [38783701, '월세', 200, 28, 23.14, '조치원읍 침산리'],\n",
       " [38891690, '월세', 200, 25, 23.14, '조치원읍 침산리'],\n",
       " [39167363, '월세', 100, 25, 20, '조치원읍 침산리'],\n",
       " [39365821, '월세', 200, 28, 23.14, '조치원읍 침산리'],\n",
       " [39372069, '월세', 200, 30, 23.14, '조치원읍 침산리'],\n",
       " [39159052, '월세', 200, 30, 26.45, '조치원읍 침산리'],\n",
       " [39371787, '월세', 200, 30, 23.14, '조치원읍 침산리'],\n",
       " [39412803, '월세', 200, 28, 26.45, '조치원읍 침산리'],\n",
       " [39217491, '월세', 300, 55, 42.98, '조치원읍 침산리'],\n",
       " [39081452, '월세', 200, 30, 19.83, '조치원읍 침산리'],\n",
       " [39146671, '월세', 200, 30, 23.14, '조치원읍 침산리'],\n",
       " [39228026, '전세', 3700, 0, 23.14, '조치원읍 침산리'],\n",
       " [39398253, '월세', 300, 30, 41.28, '조치원읍 교리'],\n",
       " [38342189, '월세', 1000, 35, 42.98, '조치원읍 교리'],\n",
       " [39022804, '월세', 200, 31, 26.45, '조치원읍 침산리'],\n",
       " [39302924, '월세', 200, 31, 23.14, '조치원읍 침산리'],\n",
       " [39348607, '월세', 300, 35, 21, '조치원읍 침산리'],\n",
       " [39382837, '월세', 300, 30, 26.45, '조치원읍 침산리'],\n",
       " [39399623, '월세', 300, 30, 25, '조치원읍 침산리'],\n",
       " [39403191, '월세', 500, 54, 49.59, '조치원읍 침산리'],\n",
       " [39413172, '월세', 300, 30, 26.45, '조치원읍 침산리'],\n",
       " [39275293, '월세', 30, 270, 19.83, '조치원읍 서창리'],\n",
       " [39125449, '월세', 30, 300, 15.04, '조치원읍 봉산리'],\n",
       " [39346509, '전세', 2500, 0, 15.04, '조치원읍 봉산리'],\n",
       " [39137146, '월세', 500, 45, 30, '조치원읍 침산리'],\n",
       " [39136995, '월세', 30, 360, 16, '조치원읍 침산리'],\n",
       " [39377655, '월세', 30, 330, 16.53, '조치원읍 침산리'],\n",
       " [38888201, '월세', 200, 30, 26.45, '조치원읍 교리'],\n",
       " [39400982, '월세', 200, 30, 26.45, '조치원읍 교리'],\n",
       " [39348541, '월세', 200, 30, 19.83, '조치원읍 침산리'],\n",
       " [39246335, '월세', 100, 24, 23.14, '조치원읍 서창리'],\n",
       " [39195586, '월세', 30, 32, 19.83, '조치원읍 서창리'],\n",
       " [39264430, '월세', 30, 30, 23.14, '조치원읍 서창리'],\n",
       " [39013418, '월세', 200, 28, 16.53, '조치원읍 서창리'],\n",
       " [39195022, '월세', 200, 30, 19.83, '조치원읍 서창리'],\n",
       " [39243848, '월세', 200, 30, 19.83, '조치원읍 서창리'],\n",
       " [39292435, '월세', 50, 460, 19.83, '조치원읍 서창리'],\n",
       " [39341314, '월세', 30, 450, 23.14, '조치원읍 서창리'],\n",
       " [39292450, '월세', 100, 25, 26.45, '조치원읍 교리'],\n",
       " [39249110, '전세', 3000, 0, 32, '조치원읍 교리'],\n",
       " [39076615, '전세', 13000, 0, 132.23, '조치원읍 서창리'],\n",
       " [39011853, '전세', 5000, 0, 23.14, '조치원읍 서창리'],\n",
       " [39195045, '전세', 5000, 0, 19.83, '조치원읍 서창리'],\n",
       " [39403440, '월세', 30, 400, 23.14, '조치원읍 서창리'],\n",
       " [39253642, '월세', 30, 400, 42.98, '조치원읍 서창리'],\n",
       " [39400690, '월세', 500, 41, 42.98, '조치원읍 서창리'],\n",
       " [39137300, '월세', 200, 27, 19.83, '조치원읍 서창리'],\n",
       " [39320576, '월세', 200, 33, 26.45, '조치원읍 서창리'],\n",
       " [39320764, '월세', 200, 35, 36.36, '조치원읍 서창리'],\n",
       " [39348383, '월세', 200, 35, 31, '조치원읍 서창리'],\n",
       " [39382799, '월세', 200, 30, 19.83, '조치원읍 서창리'],\n",
       " [39382872, '월세', 200, 40, 26.44, '조치원읍 서창리'],\n",
       " [39409430, '월세', 8500, 13, 33.06, '조치원읍 서창리'],\n",
       " [39382716, '월세', 200, 30, 23.14, '조치원읍 서창리']]"
      ]
     },
     "execution_count": 153,
     "metadata": {},
     "output_type": "execute_result"
    }
   ],
   "source": [
    "result"
   ]
  },
  {
   "cell_type": "code",
   "execution_count": null,
   "id": "7f4951d4",
   "metadata": {},
   "outputs": [],
   "source": []
  }
 ],
 "metadata": {
  "kernelspec": {
   "display_name": "Python 3 (ipykernel)",
   "language": "python",
   "name": "python3"
  },
  "language_info": {
   "codemirror_mode": {
    "name": "ipython",
    "version": 3
   },
   "file_extension": ".py",
   "mimetype": "text/x-python",
   "name": "python",
   "nbconvert_exporter": "python",
   "pygments_lexer": "ipython3",
   "version": "3.11.5"
  }
 },
 "nbformat": 4,
 "nbformat_minor": 5
}
