{
 "cells": [
  {
   "cell_type": "markdown",
   "id": "685f9ff1-a7b2-4be8-8a45-446672a69bd6",
   "metadata": {
    "tags": []
   },
   "source": [
    "#### selenium : 게시판 사이트 들어가서 글들 자동으로 가져오는"
   ]
  },
  {
   "cell_type": "code",
   "execution_count": null,
   "id": "cddf7bb1-51d3-4557-8371-1520b34d1d5f",
   "metadata": {
    "tags": []
   },
   "outputs": [],
   "source": [
    "!pip install webdriver-manager"
   ]
  },
  {
   "cell_type": "code",
   "execution_count": null,
   "id": "0b85b08e-81e5-40d4-ba90-527f85626c6e",
   "metadata": {
    "tags": []
   },
   "outputs": [],
   "source": [
    "pip install selenium"
   ]
  },
  {
   "cell_type": "code",
   "execution_count": 10,
   "id": "820173d4-c531-4062-b448-5f7472d6d6cf",
   "metadata": {
    "tags": []
   },
   "outputs": [],
   "source": [
    "# selenium 할때마다 처음에 입력 할 것/환경조성\n",
    "from selenium import webdriver\n",
    "from selenium.webdriver.chrome.service import Service\n",
    "from webdriver_manager.chrome import ChromeDriverManager\n",
    "from selenium.webdriver.common.by import By\n",
    "from bs4 import BeautifulSoup\n",
    "\n",
    "# 크롬 브라우저를 selenium 사용하기 좋게 만들기\n",
    "service = Service(ChromeDriverManager().install())\n",
    "driver = webdriver.Chrome(service=service) "
   ]
  },
  {
   "cell_type": "code",
   "execution_count": 11,
   "id": "ceacf75e-91fb-4eee-a99f-2d9c55c6691c",
   "metadata": {
    "tags": []
   },
   "outputs": [],
   "source": [
    "driver.get('https://www.clien.net/service/board/jirum')"
   ]
  },
  {
   "cell_type": "code",
   "execution_count": null,
   "id": "587a808e-9f95-4c0a-b3b1-430f3990e48d",
   "metadata": {
    "tags": []
   },
   "outputs": [],
   "source": [
    "for i in range(1,11):\n",
    "    driver.find_element(By.CSS_SELECTOR, f'div.list_item:nth-child({i})').find_element(By.CSS_SELECTOR, 'div.list_title  a').click()\n",
    "    \n",
    "    # 페이지 안에 들어갔다 나올때 실행하는 코드\n",
    "    soup = BeautifulSoup(driver.page_source, 'html.parser')\n",
    "    try:\n",
    "        print(soup.select_one('div.post_content a').get('href'))\n",
    "    except:\n",
    "        pass\n",
    "     \n",
    "    driver.back()"
   ]
  },
  {
   "cell_type": "markdown",
   "id": "ecb7d3b2-65f3-4a20-be1d-924f571acd69",
   "metadata": {},
   "source": [
    "#### 기상청 날씨 정보"
   ]
  },
  {
   "cell_type": "code",
   "execution_count": null,
   "id": "e13dfbe7-9dc1-4ec3-9387-f0559471ba0f",
   "metadata": {},
   "outputs": [],
   "source": [
    "from selenium import webdriver\n",
    "from selenium.webdriver.chrome.service import Service\n",
    "from webdriver_manager.chrome import ChromeDriverManager\n",
    "from selenium.webdriver.common.by import By\n",
    "\n",
    "options = webdriver.ChromeOptions()\n",
    "options.add_argument('--start-maximized') \n",
    "\n",
    "#options.add_argument('') 따움표 안에 속성을 입력, 구글크롬 사용시 옵션"
   ]
  },
  {
   "cell_type": "code",
   "execution_count": null,
   "id": "f06adc27-2103-4a44-8958-c0249884573c",
   "metadata": {},
   "outputs": [],
   "source": [
    "service = Service(ChromeDriverManager().install())\n",
    "driver = webdriver.Chrome(service=service, options=options)\n",
    "\n",
    "driver.get('https://www.weather.go.kr/w/weather/forecast/short-term.do')\n",
    "\n",
    "driver.find_element(By.CSS_SELECTOR, '.sym-btn.txt-only.pop-open').click()\n",
    "time.sleep(2)\n",
    "driver.find_element(By.CSS_SELECTOR, 'a[data-name = \"세종특별자치시\"]').click()\n",
    "time.sleep(2)\n",
    "driver.find_element(By.CSS_SELECTOR, 'a[data-name = \"세종특별자치시\"]').click()\n",
    "time.sleep(2)\n",
    "driver.find_element(By.CSS_SELECTOR, 'a[data-name = \"반곡동\"]').click()\n",
    "time.sleep(2)\n",
    "driver.find_element(By.CSS_SELECTOR, 'div.btn-wrap > button').click()\n",
    "time.sleep(2)\n",
    "driver.find_element(By.CSS_SELECTOR, 'div.btn-wrap > a.view-table').click()\n",
    "time.sleep(2)\n",
    "\n",
    "html = driver.page_source  # 가져온 웹데이터 html에 담기\n",
    "driver.close()"
   ]
  },
  {
   "cell_type": "code",
   "execution_count": null,
   "id": "6a457d45-5a07-4320-a0f7-366c5d3ecc43",
   "metadata": {},
   "outputs": [],
   "source": [
    "list_ = []\n",
    "soup = BeautifulSoup(html, 'html.parser')\n",
    "weather = soup.select('div.item-wrap > ul.s-item, ul.vs-item')\n",
    "for ul in weather:\n",
    "    date = ul.get('data-date')\n",
    "    time = ul.get('data-time')\n",
    "    cloud = ul.select_one('.wic').text.strip()\n",
    "    temp = ul.select_one('.feel').text.strip().split('℃')[0]\n",
    "    rain = ul.select_one('.pcp > span:last-child').text.strip()\n",
    "    if (rain == '-') or (rain == ''):\n",
    "        rain = '0'\n",
    "    elif rain.find('~') != -1:\n",
    "        rain = rain[1:-2]\n",
    "    else:\n",
    "        rain = rain[:-2]\n",
    "    wind = ul.select_one('.wspd').text.strip().replace('m/s', '')\n",
    "    humid = ul.select_one('li:nth-child(8) > span:nth-child(2)').text.strip()[:-1]\n",
    "    list_.append([date,time,cloud,temp,rain,wind,humid])"
   ]
  },
  {
   "cell_type": "code",
   "execution_count": null,
   "id": "e3b00027-aac3-49df-aed6-d11fd6e12a67",
   "metadata": {},
   "outputs": [],
   "source": [
    "import time\n",
    "time.sleep(1)"
   ]
  },
  {
   "cell_type": "code",
   "execution_count": null,
   "id": "bef6e18b-c3b0-4ce8-a0ed-7ccf2dec20ee",
   "metadata": {},
   "outputs": [],
   "source": [
    "driver.find_element(By.CSS_SELECTOR, '.sym-btn.txt-only.pop-open').click()\n",
    "driver.implicitly_wait(3)  # 3초 기다리기\n",
    "driver.find_element(By.CSS_SELECTOR, 'a[data-name = \"서울특별시\"]').click()\n",
    "driver.implicitly_wait(3)\n",
    "driver.find_element(By.CSS_SELECTOR, 'a[data-name = \"서초구\"]').click()\n",
    "driver.implicitly_wait(3)\n",
    "driver.find_element(By.CSS_SELECTOR, 'a[data-name = \"서초1동\"]').click()\n",
    "driver.implicitly_wait(3)\n",
    "driver.find_element(By.CSS_SELECTOR, 'div.btn-wrap > button').click()"
   ]
  },
  {
   "cell_type": "code",
   "execution_count": null,
   "id": "a0d58bc4-efab-4855-95be-1aba4040f893",
   "metadata": {},
   "outputs": [],
   "source": [
    "rain = '10mm' # '-' or '~1mm' or '1mm'\n",
    "\n",
    "if rain == '-':\n",
    "    rain = 0\n",
    "elif rain.find('~') != -1:\n",
    "    rain = int(rain[1:-2])\n",
    "else:\n",
    "    rain = int(rain[:-2])\n",
    "print(rain)    "
   ]
  }
 ],
 "metadata": {
  "kernelspec": {
   "display_name": "Python 3 (ipykernel)",
   "language": "python",
   "name": "python3"
  },
  "language_info": {
   "codemirror_mode": {
    "name": "ipython",
    "version": 3
   },
   "file_extension": ".py",
   "mimetype": "text/x-python",
   "name": "python",
   "nbconvert_exporter": "python",
   "pygments_lexer": "ipython3",
   "version": "3.11.5"
  }
 },
 "nbformat": 4,
 "nbformat_minor": 5
}
