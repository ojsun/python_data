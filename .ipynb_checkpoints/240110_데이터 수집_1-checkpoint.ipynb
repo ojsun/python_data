{
 "cells": [
  {
   "cell_type": "code",
   "execution_count": 1,
   "id": "ee12bc67",
   "metadata": {},
   "outputs": [],
   "source": [
    "from bs4 import BeautifulSoup"
   ]
  },
  {
   "cell_type": "code",
   "execution_count": 2,
   "id": "9daf90c5",
   "metadata": {},
   "outputs": [
    {
     "name": "stdout",
     "output_type": "stream",
     "text": [
      "Collecting bs4\n",
      "  Downloading bs4-0.0.1.tar.gz (1.1 kB)\n",
      "  Preparing metadata (setup.py): started\n",
      "  Preparing metadata (setup.py): finished with status 'done'\n",
      "Requirement already satisfied: beautifulsoup4 in c:\\users\\kei\\anaconda3\\lib\\site-packages (from bs4) (4.12.2)\n",
      "Requirement already satisfied: soupsieve>1.2 in c:\\users\\kei\\anaconda3\\lib\\site-packages (from beautifulsoup4->bs4) (2.4)\n",
      "Building wheels for collected packages: bs4\n",
      "  Building wheel for bs4 (setup.py): started\n",
      "  Building wheel for bs4 (setup.py): finished with status 'done'\n",
      "  Created wheel for bs4: filename=bs4-0.0.1-py3-none-any.whl size=1264 sha256=d5998eeb1fddb1afec17106f338d35e2f17fa72b88f6aea70a782c4c673b62dd\n",
      "  Stored in directory: c:\\users\\kei\\appdata\\local\\pip\\cache\\wheels\\d4\\c8\\5b\\b5be9c20e5e4503d04a6eac8a3cd5c2393505c29f02bea0960\n",
      "Successfully built bs4\n",
      "Installing collected packages: bs4\n",
      "Successfully installed bs4-0.0.1\n"
     ]
    }
   ],
   "source": [
    "!pip install bs4"
   ]
  },
  {
   "cell_type": "code",
   "execution_count": 8,
   "id": "4cb7a918",
   "metadata": {},
   "outputs": [],
   "source": [
    "html_doc = \"\"\"\n",
    "<!doctype html>\n",
    "<html>\n",
    "<head> \n",
    "<title> 기초 크롤링 </title> \n",
    "</head>\n",
    "<body> \n",
    "크롤링을 해봅시다. \n",
    "</body>\n",
    "</html>\n",
    "\"\"\""
   ]
  },
  {
   "cell_type": "code",
   "execution_count": 9,
   "id": "b0d0e6ec",
   "metadata": {},
   "outputs": [
    {
     "data": {
      "text/plain": [
       "\n",
       "<!DOCTYPE html>\n",
       "\n",
       "<html>\n",
       "<head>\n",
       "<title> 기초 크롤링 </title>\n",
       "</head>\n",
       "<body> \n",
       "크롤링을 해봅시다. \n",
       "</body>\n",
       "</html>"
      ]
     },
     "execution_count": 9,
     "metadata": {},
     "output_type": "execute_result"
    }
   ],
   "source": [
    "BeautifulSoup(html_doc, \"html.parser\")"
   ]
  },
  {
   "cell_type": "code",
   "execution_count": 5,
   "id": "bb26b12c",
   "metadata": {},
   "outputs": [
    {
     "data": {
      "text/plain": [
       "'\\n<!doctype html>\\n<html>\\n<head> \\n<title> 기초 크롤링 </title> \\n</head>\\n<body> \\n크롤링을 해봅시다. \\n</body>\\n</html>\\n'"
      ]
     },
     "execution_count": 5,
     "metadata": {},
     "output_type": "execute_result"
    }
   ],
   "source": [
    "html_doc"
   ]
  },
  {
   "cell_type": "code",
   "execution_count": 6,
   "id": "3dda31ae",
   "metadata": {},
   "outputs": [
    {
     "name": "stdout",
     "output_type": "stream",
     "text": [
      "Collecting html5lib\n",
      "  Downloading html5lib-1.1-py2.py3-none-any.whl (112 kB)\n",
      "     ---------------------------------------- 0.0/112.2 kB ? eta -:--:--\n",
      "     --- ------------------------------------ 10.2/112.2 kB ? eta -:--:--\n",
      "     -------------------- ---------------- 61.4/112.2 kB 812.7 kB/s eta 0:00:01\n",
      "     -------------------------------------- 112.2/112.2 kB 1.1 MB/s eta 0:00:00\n",
      "Requirement already satisfied: six>=1.9 in c:\\users\\kei\\anaconda3\\lib\\site-packages (from html5lib) (1.16.0)\n",
      "Requirement already satisfied: webencodings in c:\\users\\kei\\anaconda3\\lib\\site-packages (from html5lib) (0.5.1)\n",
      "Installing collected packages: html5lib\n",
      "Successfully installed html5lib-1.1\n"
     ]
    }
   ],
   "source": [
    "!pip install html5lib"
   ]
  },
  {
   "cell_type": "code",
   "execution_count": 10,
   "id": "784e32b0",
   "metadata": {},
   "outputs": [
    {
     "ename": "FeatureNotFound",
     "evalue": "Couldn't find a tree builder with the features you requested: html5lib. Do you need to install a parser library?",
     "output_type": "error",
     "traceback": [
      "\u001b[1;31m---------------------------------------------------------------------------\u001b[0m",
      "\u001b[1;31mFeatureNotFound\u001b[0m                           Traceback (most recent call last)",
      "Cell \u001b[1;32mIn[10], line 1\u001b[0m\n\u001b[1;32m----> 1\u001b[0m bs_obj \u001b[38;5;241m=\u001b[39m BeautifulSoup(html_doc, \u001b[38;5;124m\"\u001b[39m\u001b[38;5;124mhtml5lib\u001b[39m\u001b[38;5;124m\"\u001b[39m)\n\u001b[0;32m      2\u001b[0m head \u001b[38;5;241m=\u001b[39m bs_obj\u001b[38;5;241m.\u001b[39mfind(\u001b[38;5;124m\"\u001b[39m\u001b[38;5;124mtitle\u001b[39m\u001b[38;5;124m\"\u001b[39m)\n\u001b[0;32m      3\u001b[0m \u001b[38;5;28mprint\u001b[39m(head)\n",
      "File \u001b[1;32m~\\anaconda3\\Lib\\site-packages\\bs4\\__init__.py:250\u001b[0m, in \u001b[0;36mBeautifulSoup.__init__\u001b[1;34m(self, markup, features, builder, parse_only, from_encoding, exclude_encodings, element_classes, **kwargs)\u001b[0m\n\u001b[0;32m    248\u001b[0m     builder_class \u001b[38;5;241m=\u001b[39m builder_registry\u001b[38;5;241m.\u001b[39mlookup(\u001b[38;5;241m*\u001b[39mfeatures)\n\u001b[0;32m    249\u001b[0m     \u001b[38;5;28;01mif\u001b[39;00m builder_class \u001b[38;5;129;01mis\u001b[39;00m \u001b[38;5;28;01mNone\u001b[39;00m:\n\u001b[1;32m--> 250\u001b[0m         \u001b[38;5;28;01mraise\u001b[39;00m FeatureNotFound(\n\u001b[0;32m    251\u001b[0m             \u001b[38;5;124m\"\u001b[39m\u001b[38;5;124mCouldn\u001b[39m\u001b[38;5;124m'\u001b[39m\u001b[38;5;124mt find a tree builder with the features you \u001b[39m\u001b[38;5;124m\"\u001b[39m\n\u001b[0;32m    252\u001b[0m             \u001b[38;5;124m\"\u001b[39m\u001b[38;5;124mrequested: \u001b[39m\u001b[38;5;132;01m%s\u001b[39;00m\u001b[38;5;124m. Do you need to install a parser library?\u001b[39m\u001b[38;5;124m\"\u001b[39m\n\u001b[0;32m    253\u001b[0m             \u001b[38;5;241m%\u001b[39m \u001b[38;5;124m\"\u001b[39m\u001b[38;5;124m,\u001b[39m\u001b[38;5;124m\"\u001b[39m\u001b[38;5;241m.\u001b[39mjoin(features))\n\u001b[0;32m    255\u001b[0m \u001b[38;5;66;03m# At this point either we have a TreeBuilder instance in\u001b[39;00m\n\u001b[0;32m    256\u001b[0m \u001b[38;5;66;03m# builder, or we have a builder_class that we can instantiate\u001b[39;00m\n\u001b[0;32m    257\u001b[0m \u001b[38;5;66;03m# with the remaining **kwargs.\u001b[39;00m\n\u001b[0;32m    258\u001b[0m \u001b[38;5;28;01mif\u001b[39;00m builder \u001b[38;5;129;01mis\u001b[39;00m \u001b[38;5;28;01mNone\u001b[39;00m:\n",
      "\u001b[1;31mFeatureNotFound\u001b[0m: Couldn't find a tree builder with the features you requested: html5lib. Do you need to install a parser library?"
     ]
    }
   ],
   "source": [
    "bs_obj = BeautifulSoup(html_doc, \"html5lib\")\n",
    "head = bs_obj.find(\"title\")\n",
    "print(head)"
   ]
  },
  {
   "cell_type": "code",
   "execution_count": 11,
   "id": "4dbfc0c0",
   "metadata": {},
   "outputs": [
    {
     "ename": "NameError",
     "evalue": "name 'bs_obj' is not defined",
     "output_type": "error",
     "traceback": [
      "\u001b[1;31m---------------------------------------------------------------------------\u001b[0m",
      "\u001b[1;31mNameError\u001b[0m                                 Traceback (most recent call last)",
      "Cell \u001b[1;32mIn[11], line 1\u001b[0m\n\u001b[1;32m----> 1\u001b[0m head \u001b[38;5;241m=\u001b[39m bs_obj\u001b[38;5;241m.\u001b[39mselect_one(\u001b[38;5;124m\"\u001b[39m\u001b[38;5;124mtitle\u001b[39m\u001b[38;5;124m\"\u001b[39m)\n\u001b[0;32m      2\u001b[0m \u001b[38;5;28mprint\u001b[39m(head)\n",
      "\u001b[1;31mNameError\u001b[0m: name 'bs_obj' is not defined"
     ]
    }
   ],
   "source": [
    "head = bs_obj.select_one(\"title\")\n",
    "print(head)"
   ]
  },
  {
   "cell_type": "code",
   "execution_count": 12,
   "id": "b402e37a",
   "metadata": {},
   "outputs": [],
   "source": [
    "html_doc = \"\"\"\n",
    "<!doctype html>\n",
    "<html>\n",
    "<head> \n",
    "기초 크롤링 따라하기\n",
    "</head>\n",
    "<body> \n",
    "<div> \n",
    "첫 번째 부분 </div>\n",
    "<div> \n",
    "두 번째 부분 </div>\n",
    "</body>\n",
    "</html>\n",
    "\"\"\""
   ]
  },
  {
   "cell_type": "code",
   "execution_count": 13,
   "id": "7f5176bb",
   "metadata": {},
   "outputs": [],
   "source": [
    "bs_obj = BeautifulSoup(html_doc, \"html.parser\")"
   ]
  },
  {
   "cell_type": "code",
   "execution_count": 14,
   "id": "b6b2f128",
   "metadata": {},
   "outputs": [
    {
     "name": "stdout",
     "output_type": "stream",
     "text": [
      "[<head> \n",
      "기초 크롤링 따라하기\n",
      "</head>]\n"
     ]
    }
   ],
   "source": [
    "div = bs_obj.find_all('head')\n",
    "print(div)"
   ]
  },
  {
   "cell_type": "code",
   "execution_count": 10,
   "id": "2e028a9c",
   "metadata": {},
   "outputs": [
    {
     "name": "stdout",
     "output_type": "stream",
     "text": [
      "[<div> \n",
      "첫 번째 부분 </div>, <div> \n",
      "두 번째 부분 </div>]\n"
     ]
    }
   ],
   "source": [
    "div = bs_obj.select('div')\n",
    "print(div)"
   ]
  },
  {
   "cell_type": "code",
   "execution_count": 11,
   "id": "7c0769b6",
   "metadata": {},
   "outputs": [
    {
     "data": {
      "text/plain": [
       "<div> \n",
       "두 번째 부분 </div>"
      ]
     },
     "execution_count": 11,
     "metadata": {},
     "output_type": "execute_result"
    }
   ],
   "source": [
    "div[1]"
   ]
  },
  {
   "cell_type": "code",
   "execution_count": 15,
   "id": "9a56a174",
   "metadata": {},
   "outputs": [
    {
     "data": {
      "text/html": [
       "<h1>파이썬</h1>\n"
      ],
      "text/plain": [
       "<IPython.core.display.HTML object>"
      ]
     },
     "metadata": {},
     "output_type": "display_data"
    }
   ],
   "source": [
    "%%html\n",
    "<h1>파이썬</h1>\n"
   ]
  },
  {
   "cell_type": "code",
   "execution_count": 17,
   "id": "13f6c2ff",
   "metadata": {},
   "outputs": [],
   "source": [
    "html_doc = \"\"\"\n",
    "<!doctype html>\n",
    "<html>\n",
    "<head> \n",
    "<title> 기초 크롤링 </title> \n",
    "</head>\n",
    "<body> \n",
    "<table id=\"tb1\" border=\"1\">\n",
    "<caption> 과일 가격 </caption>\n",
    "<tr><th> 상품 </th><th> 가격 </th></tr>\n",
    "<tr class=\"fruits\"><td> 오렌지 </td><td> 100 </td></tr>\n",
    "<tr class=\"fruits\"><td> 사과 </td><td> 150 </td></tr>\n",
    "</table>\n",
    "<table id=\"tb2\" border=\"2\">\n",
    "<caption> 의류 가격 </caption>\n",
    "<tr><th> 상품 </th><th> 가격 </th></tr>\n",
    "<tr class=\"clothes\"><td> 셔츠 </td><td> 30000 </td></tr>\n",
    "<tr class=\"clothes\"><td> 바지 </td><td> 50000 </td></tr>\n",
    "</table>\n",
    "</body>\n",
    "</html>\n",
    "\"\"\""
   ]
  },
  {
   "cell_type": "markdown",
   "id": "45f1ddd3",
   "metadata": {},
   "source": [
    "<!doctype html>\n",
    "<html>\n",
    "<head> \n",
    "<title> 기초 크롤링 </title> \n",
    "</head>\n",
    "<body> \n",
    "<table id=\"tb1\" border=\"1\">\n",
    "<caption> 과일 가격 </caption>\n",
    "<tr><th> 상품 </th><th> 가격 </th></tr>\n",
    "<tr class=\"fruits\"><td> 오렌지 </td><td> 100 </td></tr>\n",
    "<tr class=\"fruits\"><td> 사과 </td><td> 150 </td></tr>\n",
    "</table>\n",
    "<table id=\"tb2\" border=\"2\">\n",
    "<caption> 의류 가격 </caption>\n",
    "<tr><th> 상품 </th><th> 가격 </th></tr>\n",
    "<tr class=\"clothes\"><td> 셔츠 </td><td> 30000 </td></tr>\n",
    "<tr class=\"clothes\"><td> 바지 </td><td> 50000 </td></tr>\n",
    "</table>\n",
    "</body>\n",
    "</html>"
   ]
  },
  {
   "cell_type": "code",
   "execution_count": 18,
   "id": "44629c3d",
   "metadata": {},
   "outputs": [
    {
     "name": "stdout",
     "output_type": "stream",
     "text": [
      "[<table border=\"1\" id=\"tb1\">\n",
      "<caption> 과일 가격 </caption>\n",
      "<tr><th> 상품 </th><th> 가격 </th></tr>\n",
      "<tr class=\"fruits\"><td> 오렌지 </td><td> 100 </td></tr>\n",
      "<tr class=\"fruits\"><td> 사과 </td><td> 150 </td></tr>\n",
      "</table>, <table border=\"2\" id=\"tb2\">\n",
      "<caption> 의류 가격 </caption>\n",
      "<tr><th> 상품 </th><th> 가격 </th></tr>\n",
      "<tr class=\"clothes\"><td> 셔츠 </td><td> 30000 </td></tr>\n",
      "<tr class=\"clothes\"><td> 바지 </td><td> 50000 </td></tr>\n",
      "</table>]\n"
     ]
    }
   ],
   "source": [
    "bs_obj = BeautifulSoup(html_doc, \"html.parser\")\n",
    "tables = bs_obj.find_all(\"table\")\n",
    "print(tables)"
   ]
  },
  {
   "cell_type": "code",
   "execution_count": 27,
   "id": "75a0f780",
   "metadata": {},
   "outputs": [
    {
     "name": "stdout",
     "output_type": "stream",
     "text": [
      "None\n"
     ]
    }
   ],
   "source": [
    "table = bs_obj.find('', {'id':'tb2'})\n",
    "print(table)"
   ]
  },
  {
   "cell_type": "code",
   "execution_count": 25,
   "id": "42bc1722",
   "metadata": {},
   "outputs": [
    {
     "name": "stdout",
     "output_type": "stream",
     "text": [
      "<table border=\"2\" id=\"tb2\">\n",
      "<caption> 의류 가격 </caption>\n",
      "<tr><th> 상품 </th><th> 가격 </th></tr>\n",
      "<tr class=\"clothes\"><td> 셔츠 </td><td> 30000 </td></tr>\n",
      "<tr class=\"clothes\"><td> 바지 </td><td> 50000 </td></tr>\n",
      "</table>\n"
     ]
    }
   ],
   "source": [
    "table = bs_obj.select_one('#tb2')\n",
    "print(table)"
   ]
  },
  {
   "cell_type": "code",
   "execution_count": 21,
   "id": "81e4f5aa",
   "metadata": {},
   "outputs": [
    {
     "name": "stdout",
     "output_type": "stream",
     "text": [
      "<tr><th> 상품 </th><th> 가격 </th></tr>\n"
     ]
    }
   ],
   "source": [
    "table = bs_obj.select_one('table tr')\n",
    "print(table)"
   ]
  },
  {
   "cell_type": "code",
   "execution_count": 23,
   "id": "4af4b16f",
   "metadata": {},
   "outputs": [
    {
     "name": "stdout",
     "output_type": "stream",
     "text": [
      "<tr><th> 상품 </th><th> 가격 </th></tr>\n"
     ]
    }
   ],
   "source": [
    "table = bs_obj.find('table')\n",
    "tr = table.find('tr')\n",
    "print(tr)"
   ]
  },
  {
   "cell_type": "code",
   "execution_count": 28,
   "id": "e207705f",
   "metadata": {},
   "outputs": [
    {
     "data": {
      "text/plain": [
       "<div>dss1</div>"
      ]
     },
     "execution_count": 28,
     "metadata": {},
     "output_type": "execute_result"
    }
   ],
   "source": [
    "html_doc = '''\n",
    "<div>dss1</div>\n",
    "<p>dss2</p>\n",
    "<span>dss3</span>\n",
    "'''\n",
    "bs_obj = BeautifulSoup(html_doc, 'html.parser')\n",
    "bs_obj.select_one('div')"
   ]
  },
  {
   "cell_type": "code",
   "execution_count": 30,
   "id": "c145572b",
   "metadata": {},
   "outputs": [
    {
     "data": {
      "text/plain": [
       "<p id=\"ds2\">dss2</p>"
      ]
     },
     "execution_count": 30,
     "metadata": {},
     "output_type": "execute_result"
    }
   ],
   "source": [
    "html_doc = '''\n",
    "<p id=\"ds1\">dss1</p>\n",
    "<p id=\"ds2\">dss2</p>\n",
    "<p id=\"ds3\">dss3</p>\n",
    "'''\n",
    "bs_obj = BeautifulSoup(html_doc, 'html.parser')\n",
    "bs_obj.select_one('p#ds2')"
   ]
  },
  {
   "cell_type": "code",
   "execution_count": 32,
   "id": "42874ba2",
   "metadata": {},
   "outputs": [
    {
     "data": {
      "text/plain": [
       "[<p class=\"ds2\">dss2</p>, <p class=\"ds2\">dss3</p>]"
      ]
     },
     "execution_count": 32,
     "metadata": {},
     "output_type": "execute_result"
    }
   ],
   "source": [
    "html_doc = '''\n",
    "<p class=\"ds1\">dss1</p>\n",
    "<p class=\"ds2\">dss2</p>\n",
    "<p class=\"ds2\">dss3</p>\n",
    "'''\n",
    "bs_obj = BeautifulSoup(html_doc, 'html.parser')\n",
    "bs_obj.select('p.ds2')"
   ]
  },
  {
   "cell_type": "code",
   "execution_count": 37,
   "id": "a4fbb1e0",
   "metadata": {},
   "outputs": [
    {
     "data": {
      "text/plain": [
       "[<p class=\"ds\">ds4</p>]"
      ]
     },
     "execution_count": 37,
     "metadata": {},
     "output_type": "execute_result"
    }
   ],
   "source": [
    "html_doc = '''\n",
    "<body>\n",
    "    <p class=\"ds\" id=\"ds1\">ds1</p>\n",
    "    <p class=\"sc\" id=\"ds2\">ds2</p>\n",
    "    <div class=\"ds\">\n",
    "        <p class=\"ds\">ds3</p>\n",
    "        <p class=\"ds\">ds4</p>\n",
    "        <p class=\"ds\">ds5</p>\n",
    "        <p class=\"ds\">ds6</p>\n",
    "        <p class=\"ds\">ds7</p>\n",
    "    </div>\n",
    "</body>\n",
    "'''\n",
    "\n",
    "bs_obj = BeautifulSoup(html_doc, 'html.parser')\n",
    "bs_obj.select('div > p:nth-child(2)')"
   ]
  },
  {
   "cell_type": "code",
   "execution_count": 43,
   "id": "17fd4bd8",
   "metadata": {},
   "outputs": [
    {
     "data": {
      "text/plain": [
       "[<h1>inner_1</h1>]"
      ]
     },
     "execution_count": 43,
     "metadata": {},
     "output_type": "execute_result"
    }
   ],
   "source": [
    "html_doc = '''\n",
    "<div class=\"contants\">\n",
    "    <h1>inner_1</h1>\n",
    "    <p> inner_2</p>\n",
    "    <span class='txt'>\n",
    "        <h1>inner_3</h1>\n",
    "    </span>\n",
    "</div>\n",
    "'''\n",
    "\n",
    "bs_obj = BeautifulSoup(html_doc, 'html.parser')\n",
    "bs_obj.select('div > h1')"
   ]
  },
  {
   "cell_type": "code",
   "execution_count": 45,
   "id": "c15935b1",
   "metadata": {},
   "outputs": [],
   "source": [
    "span = bs_obj.select_one('span')"
   ]
  },
  {
   "cell_type": "code",
   "execution_count": 46,
   "id": "5704e113",
   "metadata": {},
   "outputs": [
    {
     "data": {
      "text/plain": [
       "'\\ninner_3\\n'"
      ]
     },
     "execution_count": 46,
     "metadata": {},
     "output_type": "execute_result"
    }
   ],
   "source": [
    "span.text"
   ]
  },
  {
   "cell_type": "code",
   "execution_count": 47,
   "id": "b60f5467",
   "metadata": {},
   "outputs": [
    {
     "data": {
      "text/plain": [
       "['txt']"
      ]
     },
     "execution_count": 47,
     "metadata": {},
     "output_type": "execute_result"
    }
   ],
   "source": [
    "span.get('class')"
   ]
  },
  {
   "cell_type": "code",
   "execution_count": 60,
   "id": "8b398d6e",
   "metadata": {
    "scrolled": false
   },
   "outputs": [],
   "source": [
    "from urllib.request import urlopen\n",
    "url = \"https://ai-dev.tistory.com/1\"\n",
    "html = urlopen(url)\n",
    "# print(html)\n",
    "# print(html.getcode())\n",
    "# print(html.read())\n",
    "soup = BeautifulSoup(html, 'html.parser')\n",
    "p = soup.select_one('div.tt_article_useless_p_margin > p')"
   ]
  },
  {
   "cell_type": "code",
   "execution_count": 61,
   "id": "7c2c287f",
   "metadata": {},
   "outputs": [
    {
     "data": {
      "text/plain": [
       "'Hello, world!'"
      ]
     },
     "execution_count": 61,
     "metadata": {},
     "output_type": "execute_result"
    }
   ],
   "source": [
    "p.text"
   ]
  },
  {
   "cell_type": "code",
   "execution_count": 62,
   "id": "2d8a6c98",
   "metadata": {},
   "outputs": [],
   "source": [
    "import requests"
   ]
  },
  {
   "cell_type": "code",
   "execution_count": 63,
   "id": "0f9dd82d",
   "metadata": {},
   "outputs": [],
   "source": [
    "url = \"https://ai-dev.tistory.com/1\"\n",
    "response = requests.get(url)"
   ]
  },
  {
   "cell_type": "code",
   "execution_count": 66,
   "id": "91f2dd9c",
   "metadata": {
    "collapsed": true
   },
   "outputs": [
    {
     "name": "stdout",
     "output_type": "stream",
     "text": [
      "<Response [200]>\n",
      "200\n",
      "b'<!doctype html>\\n<html lang=\"ko\">\\n\\n                                                                                <head>\\n                <script type=\"text/javascript\">if (!window.T) { window.T = {} }\\nwindow.T.config = {\"TOP_SSL_URL\":\"https://www.tistory.com\",\"PREVIEW\":false,\"ROLE\":\"guest\",\"PREV_PAGE\":\"\",\"NEXT_PAGE\":\"\",\"BLOG\":{\"id\":4442027,\"name\":\"ai-dev\",\"title\":\"\\xec\\x9d\\xb8\\xea\\xb3\\xb5\\xec\\xa7\\x80\\xeb\\x8a\\xa5 \\xea\\xb0\\x9c\\xeb\\xb0\\x9c\\xec\\x9d\\x98 \\xeb\\xaa\\xa8\\xeb\\x93\\xa0 \\xea\\xb2\\x83\",\"isDormancy\":false,\"nickName\":\"\\xeb\\xa1\\x9c\\xec\\x8a\\xa4\\xec\\xb9\\xb4\\xec\\xb8\\xa0\",\"status\":\"open\"},\"NEED_COMMENT_LOGIN\":false,\"COMMENT_LOGIN_CONFIRM_MESSAGE\":\"\",\"LOGIN_URL\":\"https://www.tistory.com/auth/login/?redirectUrl=https://ai-dev.tistory.com/1\",\"DEFAULT_URL\":\"https://ai-dev.tistory.com\",\"USER\":{\"name\":null,\"homepage\":null,\"id\":0,\"profileImage\":null},\"SUBSCRIPTION\":{\"status\":\"none\",\"isConnected\":false,\"isPending\":false,\"isWait\":false,\"isProcessing\":false,\"isNone\":true},\"IS_LOGIN\":false,\"HAS_BLOG\":false,\"IS_SUPPORT\":false,\"TOP_URL\":\"http://www.tistory.com\",\"JOIN_URL\":\"https://www.tistory.com/member/join\",\"ROLE_GROUP\":\"visitor\"};\\nwindow.appInfo = {\"domain\":\"tistory.com\",\"topUrl\":\"https://www.tistory.com\",\"loginUrl\":\"https://www.tistory.com/auth/login\",\"logoutUrl\":\"https://www.tistory.com/auth/logout\"};\\nwindow.initData = {};\\n\\nwindow.TistoryBlog = {\\n    basePath: \"\",\\n    url: \"https://ai-dev.tistory.com\",\\n    tistoryUrl: \"https://ai-dev.tistory.com\",\\n    manageUrl: \"https://ai-dev.tistory.com/manage\",\\n    token: \"x/Lx/m4gXeXSNC0M2aBTyuBq4q+SKUv4XqCxGnB+rTBjAAx9glLtEt03pFbiIhma\"\\n};\\nvar servicePath = \"\";\\nvar blogURL = \"\";</script>\\n\\n                \\n                \\n                \\n                        <!-- BusinessLicenseInfo - START -->\\n        \\n            <link href=\"https://tistory1.daumcdn.net/tistory_admin/userblog/tistory-e6506e2a046e51fea310cb12269adb958a199e44/static/plugin/BusinessLicenseInfo/style.css\" rel=\"stylesheet\" type=\"text/css\"/>\\n\\n            <script>function switchFold(entryId) {\\n    var businessLayer = document.getElementById(\"businessInfoLayer_\" + entryId);\\n\\n    if (businessLayer) {\\n        if (businessLayer.className.indexOf(\"unfold_license\") > 0) {\\n            businessLayer.className = \"business_license_layer\";\\n        } else {\\n            businessLayer.className = \"business_license_layer unfold_license\";\\n        }\\n    }\\n}\\n</script>\\n\\n        \\n        <!-- BusinessLicenseInfo - END -->\\n        <!-- DaumShow - START -->\\n        <style type=\"text/css\">#daumSearchBox {\\n    height: 21px;\\n    background-image: url(//i1.daumcdn.net/imgsrc.search/search_all/show/tistory/plugin/bg_search2_2.gif);\\n    margin: 5px auto;\\n    padding: 0;\\n}\\n\\n#daumSearchBox input {\\n    background: none;\\n    margin: 0;\\n    padding: 0;\\n    border: 0;\\n}\\n\\n#daumSearchBox #daumLogo {\\n    width: 34px;\\n    height: 21px;\\n    float: left;\\n    margin-right: 5px;\\n    background-image: url(//i1.daumcdn.net/img-media/tistory/img/bg_search1_2_2010ci.gif);\\n}\\n\\n#daumSearchBox #show_q {\\n    background-color: transparent;\\n    border: none;\\n    font: 12px Gulim, Sans-serif;\\n    color: #555;\\n    margin-top: 4px;\\n    margin-right: 15px;\\n    float: left;\\n}\\n\\n#daumSearchBox #show_btn {\\n    background-image: url(//i1.daumcdn.net/imgsrc.search/search_all/show/tistory/plugin/bt_search_2.gif);\\n    width: 37px;\\n    height: 21px;\\n    float: left;\\n    margin: 0;\\n    cursor: pointer;\\n    text-indent: -1000em;\\n}\\n</style>\\n\\n        <!-- DaumShow - END -->\\n\\n<!-- System - START -->\\n\\n<!-- System - END -->\\n\\n        <!-- TistoryProfileLayer - START -->\\n        <link href=\"https://tistory1.daumcdn.net/tistory_admin/userblog/tistory-e6506e2a046e51fea310cb12269adb958a199e44/static/plugin/TistoryProfileLayer/style.css\" rel=\"stylesheet\" type=\"text/css\"/>\\n<script type=\"text/javascript\" src=\"https://tistory1.daumcdn.net/tistory_admin/userblog/tistory-e6506e2a046e51fea310cb12269adb958a199e44/static/plugin/TistoryProfileLayer/script.js\"></script>\\n\\n        <!-- TistoryProfileLayer - END -->\\n\\n                \\n                <meta http-equiv=\"X-UA-Compatible\" content=\"IE=Edge\">\\n<meta name=\"format-detection\" content=\"telephone=no\">\\n<script src=\"//t1.daumcdn.net/tistory_admin/lib/jquery/jquery-3.5.1.min.js\" integrity=\"sha256-9/aliU8dGd2tb6OSsuzixeV4y/faTqgFtohetphbbj0=\" crossorigin=\"anonymous\"></script>\\n<script src=\"//t1.daumcdn.net/tistory_admin/lib/lightbox/js/lightbox-v2.10.0.min.js\" defer></script>\\n<script type=\"text/javascript\" src=\"//t1.daumcdn.net/tiara/js/v1/tiara.min.js\"></script><meta name=\"referrer\" content=\"always\"/>\\n<meta name=\"google-adsense-platform-account\" content=\"ca-host-pub-9691043933427338\"/>\\n<meta name=\"google-adsense-platform-domain\" content=\"tistory.com\"/>\\n<meta name=\"description\" content=\"Hello, world!\"/>\\n<meta property=\"og:type\" content=\"article\"/>\\n<meta property=\"og:url\" content=\"https://ai-dev.tistory.com/1\"/>\\n<meta property=\"og.article.author\" content=\"\\xeb\\xa1\\x9c\\xec\\x8a\\xa4\\xec\\xb9\\xb4\\xec\\xb8\\xa0\"/>\\n<meta property=\"og:site_name\" content=\"\\xec\\x9d\\xb8\\xea\\xb3\\xb5\\xec\\xa7\\x80\\xeb\\x8a\\xa5 \\xea\\xb0\\x9c\\xeb\\xb0\\x9c\\xec\\x9d\\x98 \\xeb\\xaa\\xa8\\xeb\\x93\\xa0 \\xea\\xb2\\x83\"/>\\n<meta property=\"og:title\" content=\"\\xed\\x81\\xac\\xeb\\xa1\\xa4\\xeb\\xa7\\x81\\xec\\x9d\\x98 \\xec\\x84\\xb8\\xea\\xb3\\x84\\xec\\x97\\x90 \\xec\\x98\\xa4\\xec\\x8b\\xa0 \\xea\\xb2\\x83\\xec\\x9d\\x84 \\xed\\x99\\x98\\xec\\x98\\x81\\xed\\x95\\xa9\\xeb\\x8b\\x88\\xeb\\x8b\\xa4.\"/>\\n<meta name=\"by\" content=\"\\xeb\\xa1\\x9c\\xec\\x8a\\xa4\\xec\\xb9\\xb4\\xec\\xb8\\xa0\"/>\\n<meta property=\"og:description\" content=\"Hello, world!\"/>\\n<meta property=\"og:image\" content=\"https://img1.daumcdn.net/thumb/R800x0/?scode=mtistory2&fname=https%3A%2F%2Ft1.daumcdn.net%2Ftistory_admin%2Fstatic%2Fimages%2FopenGraph%2Fopengraph.png\"/>\\n<meta name=\"twitter:card\" content=\"summary_large_image\"/>\\n<meta name=\"twitter:site\" content=\"@TISTORY\"/>\\n<meta name=\"twitter:title\" content=\"\\xed\\x81\\xac\\xeb\\xa1\\xa4\\xeb\\xa7\\x81\\xec\\x9d\\x98 \\xec\\x84\\xb8\\xea\\xb3\\x84\\xec\\x97\\x90 \\xec\\x98\\xa4\\xec\\x8b\\xa0 \\xea\\xb2\\x83\\xec\\x9d\\x84 \\xed\\x99\\x98\\xec\\x98\\x81\\xed\\x95\\xa9\\xeb\\x8b\\x88\\xeb\\x8b\\xa4.\"/>\\n<meta name=\"twitter:description\" content=\"Hello, world!\"/>\\n<meta property=\"twitter:image\" content=\"https://img1.daumcdn.net/thumb/R800x0/?scode=mtistory2&fname=https%3A%2F%2Ft1.daumcdn.net%2Ftistory_admin%2Fstatic%2Fimages%2FopenGraph%2Fopengraph.png\"/>\\n<meta content=\"https://ai-dev.tistory.com/1\" property=\"dg:plink\" content=\"https://ai-dev.tistory.com/1\"/>\\n<meta name=\"plink\"/>\\n<meta name=\"title\" content=\"\\xed\\x81\\xac\\xeb\\xa1\\xa4\\xeb\\xa7\\x81\\xec\\x9d\\x98 \\xec\\x84\\xb8\\xea\\xb3\\x84\\xec\\x97\\x90 \\xec\\x98\\xa4\\xec\\x8b\\xa0 \\xea\\xb2\\x83\\xec\\x9d\\x84 \\xed\\x99\\x98\\xec\\x98\\x81\\xed\\x95\\xa9\\xeb\\x8b\\x88\\xeb\\x8b\\xa4.\"/>\\n<meta name=\"article:media_name\" content=\"\\xec\\x9d\\xb8\\xea\\xb3\\xb5\\xec\\xa7\\x80\\xeb\\x8a\\xa5 \\xea\\xb0\\x9c\\xeb\\xb0\\x9c\\xec\\x9d\\x98 \\xeb\\xaa\\xa8\\xeb\\x93\\xa0 \\xea\\xb2\\x83\"/>\\n<meta property=\"article:mobile_url\" content=\"https://ai-dev.tistory.com/m/1\"/>\\n<meta property=\"article:pc_url\" content=\"https://ai-dev.tistory.com/1\"/>\\n<meta property=\"article:mobile_view_url\" content=\"https://ai-dev.tistory.com/m/1\"/>\\n<meta property=\"article:pc_view_url\" content=\"https://ai-dev.tistory.com/1\"/>\\n<meta property=\"article:talk_channel_view_url\" content=\"https://ai-dev.tistory.com/m/1\"/>\\n<meta property=\"article:pc_service_home\" content=\"https://www.tistory.com\"/>\\n<meta property=\"article:mobile_service_home\" content=\"https://www.tistory.com/m\"/>\\n<meta property=\"article:txid\" content=\"4442027_1\"/>\\n<meta property=\"article:published_time\" content=\"2021-01-21T14:06:56+09:00\"/>\\n<meta property=\"og:regDate\" content=\"20210121020656\"/>\\n<meta property=\"article:modified_time\" content=\"2021-01-21T14:06:56+09:00\"/>\\n<link rel=\"stylesheet\" type=\"text/css\" href=\"https://t1.daumcdn.net/tistory_admin/lib/lightbox/css/lightbox.min.css\"/>\\n<link rel=\"stylesheet\" type=\"text/css\" href=\"https://tistory1.daumcdn.net/tistory_admin/userblog/tistory-e6506e2a046e51fea310cb12269adb958a199e44/static/style/font.css\"/>\\n<link rel=\"stylesheet\" type=\"text/css\" href=\"https://tistory1.daumcdn.net/tistory_admin/userblog/tistory-e6506e2a046e51fea310cb12269adb958a199e44/static/style/content.css\"/>\\n<link rel=\"stylesheet\" type=\"text/css\" href=\"https://tistory1.daumcdn.net/tistory_admin/userblog/tistory-e6506e2a046e51fea310cb12269adb958a199e44/static/style/uselessPMargin.css\"/>\\n<script type=\"text/javascript\">(function() {\\n    var tjQuery = jQuery.noConflict(true);\\n    window.tjQuery = tjQuery;\\n    window.orgjQuery = window.jQuery; window.jQuery = tjQuery;\\n    window.jQuery = window.orgjQuery; delete window.orgjQuery;\\n})()</script>\\n<script type=\"text/javascript\" src=\"https://tistory1.daumcdn.net/tistory_admin/userblog/tistory-e6506e2a046e51fea310cb12269adb958a199e44/static/script/base.js\"></script>\\n<script type=\"text/javascript\" src=\"//developers.kakao.com/sdk/js/kakao.min.js\"></script>\\n\\n                \\n  <meta charset=\"UTF-8\">\\n  <meta name=\"viewport\"\\n    content=\"user-scalable=no, initial-scale=1.0, maximum-scale=1.0, minimum-scale=1.0, width=device-width\">\\n  <title>\\xed\\x81\\xac\\xeb\\xa1\\xa4\\xeb\\xa7\\x81\\xec\\x9d\\x98 \\xec\\x84\\xb8\\xea\\xb3\\x84\\xec\\x97\\x90 \\xec\\x98\\xa4\\xec\\x8b\\xa0 \\xea\\xb2\\x83\\xec\\x9d\\x84 \\xed\\x99\\x98\\xec\\x98\\x81\\xed\\x95\\xa9\\xeb\\x8b\\x88\\xeb\\x8b\\xa4.</title>\\n  <link rel=\"stylesheet\" href=\"https://tistory1.daumcdn.net/tistory/0/pg_Poster/style.css\">\\n  <script src=\"//t1.daumcdn.net/tistory_admin/lib/jquery/jquery-1.12.4.min.js\"></script>\\n\\n                \\n                \\n                <style type=\"text/css\">.another_category {\\n    border: 1px solid #E5E5E5;\\n    padding: 10px 10px 5px;\\n    margin: 10px 0;\\n    clear: both;\\n}\\n\\n.another_category h4 {\\n    font-size: 12px !important;\\n    margin: 0 !important;\\n    border-bottom: 1px solid #E5E5E5 !important;\\n    padding: 2px 0 6px !important;\\n}\\n\\n.another_category h4 a {\\n    font-weight: bold !important;\\n}\\n\\n.another_category table {\\n    table-layout: fixed;\\n    border-collapse: collapse;\\n    width: 100% !important;\\n    margin-top: 10px !important;\\n}\\n\\n* html .another_category table {\\n    width: auto !important;\\n}\\n\\n*:first-child + html .another_category table {\\n    width: auto !important;\\n}\\n\\n.another_category th, .another_category td {\\n    padding: 0 0 4px !important;\\n}\\n\\n.another_category th {\\n    text-align: left;\\n    font-size: 12px !important;\\n    font-weight: normal;\\n    word-break: break-all;\\n    overflow: hidden;\\n    line-height: 1.5;\\n}\\n\\n.another_category td {\\n    text-align: right;\\n    width: 80px;\\n    font-size: 11px;\\n}\\n\\n.another_category th a {\\n    font-weight: normal;\\n    text-decoration: none;\\n    border: none !important;\\n}\\n\\n.another_category th a.current {\\n    font-weight: bold;\\n    text-decoration: none !important;\\n    border-bottom: 1px solid !important;\\n}\\n\\n.another_category th span {\\n    font-weight: normal;\\n    text-decoration: none;\\n    font: 10px Tahoma, Sans-serif;\\n    border: none !important;\\n}\\n\\n.another_category_color_gray, .another_category_color_gray h4 {\\n    border-color: #E5E5E5 !important;\\n}\\n\\n.another_category_color_gray * {\\n    color: #909090 !important;\\n}\\n\\n.another_category_color_gray th a.current {\\n    border-color: #909090 !important;\\n}\\n\\n.another_category_color_gray h4, .another_category_color_gray h4 a {\\n    color: #737373 !important;\\n}\\n\\n.another_category_color_red, .another_category_color_red h4 {\\n    border-color: #F6D4D3 !important;\\n}\\n\\n.another_category_color_red * {\\n    color: #E86869 !important;\\n}\\n\\n.another_category_color_red th a.current {\\n    border-color: #E86869 !important;\\n}\\n\\n.another_category_color_red h4, .another_category_color_red h4 a {\\n    color: #ED0908 !important;\\n}\\n\\n.another_category_color_green, .another_category_color_green h4 {\\n    border-color: #CCE7C8 !important;\\n}\\n\\n.another_category_color_green * {\\n    color: #64C05B !important;\\n}\\n\\n.another_category_color_green th a.current {\\n    border-color: #64C05B !important;\\n}\\n\\n.another_category_color_green h4, .another_category_color_green h4 a {\\n    color: #3EA731 !important;\\n}\\n\\n.another_category_color_blue, .another_category_color_blue h4 {\\n    border-color: #C8DAF2 !important;\\n}\\n\\n.another_category_color_blue * {\\n    color: #477FD6 !important;\\n}\\n\\n.another_category_color_blue th a.current {\\n    border-color: #477FD6 !important;\\n}\\n\\n.another_category_color_blue h4, .another_category_color_blue h4 a {\\n    color: #1960CA !important;\\n}\\n\\n.another_category_color_violet, .another_category_color_violet h4 {\\n    border-color: #E1CEEC !important;\\n}\\n\\n.another_category_color_violet * {\\n    color: #9D64C5 !important;\\n}\\n\\n.another_category_color_violet th a.current {\\n    border-color: #9D64C5 !important;\\n}\\n\\n.another_category_color_violet h4, .another_category_color_violet h4 a {\\n    color: #7E2CB5 !important;\\n}\\n</style>\\n\\n                \\n                <link rel=\"stylesheet\" type=\"text/css\" href=\"https://tistory1.daumcdn.net/tistory_admin/userblog/tistory-e6506e2a046e51fea310cb12269adb958a199e44/static/style/dialog.css\"/>\\n<link rel=\"stylesheet\" type=\"text/css\" href=\"//t1.daumcdn.net/tistory_admin/www/style/top/font.css\"/>\\n<link rel=\"stylesheet\" type=\"text/css\" href=\"https://tistory1.daumcdn.net/tistory_admin/userblog/tistory-e6506e2a046e51fea310cb12269adb958a199e44/static/style/postBtn.css\"/>\\n<link rel=\"stylesheet\" type=\"text/css\" href=\"https://tistory1.daumcdn.net/tistory_admin/userblog/tistory-e6506e2a046e51fea310cb12269adb958a199e44/static/style/comment.css\"/>\\n<link rel=\"stylesheet\" type=\"text/css\" href=\"https://tistory1.daumcdn.net/tistory_admin/userblog/tistory-e6506e2a046e51fea310cb12269adb958a199e44/static/style/tistory.css\"/>\\n<link rel=\"stylesheet\" type=\"text/css\" href=\"https://tistory1.daumcdn.net/tistory_admin/userblog/tistory-e6506e2a046e51fea310cb12269adb958a199e44/static/style/revenue.css\"/>\\n<link rel=\"canonical\" href=\"https://ai-dev.tistory.com/1\"/>\\n\\n<!-- BEGIN STRUCTURED_DATA -->\\n<script type=\"application/ld+json\">\\n    {\"@context\":\"http://schema.org\",\"@type\":\"BlogPosting\",\"mainEntityOfPage\":{\"@id\":\"https://ai-dev.tistory.com/1\",\"name\":null},\"url\":\"https://ai-dev.tistory.com/1\",\"headline\":\"\\xed\\x81\\xac\\xeb\\xa1\\xa4\\xeb\\xa7\\x81\\xec\\x9d\\x98 \\xec\\x84\\xb8\\xea\\xb3\\x84\\xec\\x97\\x90 \\xec\\x98\\xa4\\xec\\x8b\\xa0 \\xea\\xb2\\x83\\xec\\x9d\\x84 \\xed\\x99\\x98\\xec\\x98\\x81\\xed\\x95\\xa9\\xeb\\x8b\\x88\\xeb\\x8b\\xa4.\",\"description\":\"Hello, world!\",\"author\":{\"@type\":\"Person\",\"name\":\"\\xeb\\xa1\\x9c\\xec\\x8a\\xa4\\xec\\xb9\\xb4\\xec\\xb8\\xa0\",\"logo\":null},\"image\":{\"@type\":\"ImageObject\",\"url\":\"https://img1.daumcdn.net/thumb/R800x0/?scode=mtistory2&fname=https%3A%2F%2Ft1.daumcdn.net%2Ftistory_admin%2Fstatic%2Fimages%2FopenGraph%2Fopengraph.png\",\"width\":\"800px\",\"height\":\"800px\"},\"datePublished\":\"20210121T14:06:56\",\"dateModified\":\"20210121T14:06:56\",\"publisher\":{\"@type\":\"Organization\",\"name\":\"TISTORY\",\"logo\":{\"@type\":\"ImageObject\",\"url\":\"https://t1.daumcdn.net/tistory_admin/static/images/openGraph/opengraph.png\",\"width\":\"800px\",\"height\":\"800px\"}}}\\n</script>\\n<!-- END STRUCTURED_DATA -->\\n<script type=\"text/javascript\" src=\"https://tistory1.daumcdn.net/tistory_admin/userblog/tistory-e6506e2a046e51fea310cb12269adb958a199e44/static/script/common.js\"></script>\\n<script type=\"text/javascript\" src=\"https://tistory1.daumcdn.net/tistory_admin/userblog/tistory-e6506e2a046e51fea310cb12269adb958a199e44/static/script/comment.js\" defer=\"\"></script>\\n\\n                \\n                </head>\\n\\n                                                <body id=\"tt-body-page\"\\n  class=\"color-gray post-type-text paging-view-more\">\\n                \\n                \\n                \\n  \\n    <div id=\"acc-nav\">\\n      <a href=\"#content\">\\xeb\\xb3\\xb8\\xeb\\xac\\xb8 \\xeb\\xb0\\x94\\xeb\\xa1\\x9c\\xea\\xb0\\x80\\xea\\xb8\\xb0</a>\\n    </div>\\n    <div id=\"wrap\">\\n      <header id=\"header\">\\n        <h1><a href=\"https://ai-dev.tistory.com/\">\\xec\\x9d\\xb8\\xea\\xb3\\xb5\\xec\\xa7\\x80\\xeb\\x8a\\xa5 \\xea\\xb0\\x9c\\xeb\\xb0\\x9c\\xec\\x9d\\x98 \\xeb\\xaa\\xa8\\xeb\\x93\\xa0 \\xea\\xb2\\x83</a></h1>\\n        <button type=\"button\" class=\"mobile-menu\"><span>\\xeb\\xa9\\x94\\xeb\\x89\\xb4</span></button>\\n        <div class=\"menu\">\\n          <nav id=\"gnb\">\\n            <ul class=\"tt_category\"><li class=\"\"><a href=\"/category\" class=\"link_tit\"> \\xeb\\xb6\\x84\\xeb\\xa5\\x98 \\xec\\xa0\\x84\\xec\\xb2\\xb4\\xeb\\xb3\\xb4\\xea\\xb8\\xb0 <span class=\"c_cnt\">(2)</span> </a>\\n  <ul class=\"category_list\"><li class=\"\"><a href=\"/category/%ED%81%AC%EB%A1%A4%EB%A7%81\" class=\"link_item\"> \\xed\\x81\\xac\\xeb\\xa1\\xa4\\xeb\\xa7\\x81 <span class=\"c_cnt\">(2)</span> </a></li>\\n</ul>\\n</li>\\n</ul>\\n\\n          </nav>\\n          <div class=\"social-link\">\\n            \\n            \\n            \\n            \\n          </div>\\n          <p>POWERED BY TISTORY</p>\\n        </div>\\n        <div class=\"search\">\\n          \\n            <label for=\"search\" class=\"screen_out\">\\xeb\\xb8\\x94\\xeb\\xa1\\x9c\\xea\\xb7\\xb8 \\xeb\\x82\\xb4 \\xea\\xb2\\x80\\xec\\x83\\x89</label>\\n            <input id=\"search\" type=\"text\" name=\"search\" value=\"\"\\n              placeholder=\"\\xea\\xb2\\x80\\xec\\x83\\x89\\xeb\\x82\\xb4\\xec\\x9a\\xa9\\xec\\x9d\\x84 \\xec\\x9e\\x85\\xeb\\xa0\\xa5\\xed\\x95\\x98\\xec\\x84\\xb8\\xec\\x9a\\x94.\" onkeypress=\"if (event.keyCode == 13) { try {\\n    window.location.href = \\'/search\\' + \\'/\\' + looseURIEncode(document.getElementsByName(\\'search\\')[0].value);\\n    document.getElementsByName(\\'search\\')[0].value = \\'\\';\\n    return false;\\n} catch (e) {} }\">\\n            <button type=\"submit\" onclick=\"try {\\n    window.location.href = \\'/search\\' + \\'/\\' + looseURIEncode(document.getElementsByName(\\'search\\')[0].value);\\n    document.getElementsByName(\\'search\\')[0].value = \\'\\';\\n    return false;\\n} catch (e) {}\">\\xea\\xb2\\x80\\xec\\x83\\x89</button>\\n          \\n        </div>\\n      </header>\\n      <hr>\\n      <section class=\"container\">\\n        \\n        <article id=\"content\">\\n          \\n\\n          \\n\\n          \\n\\n          \\n\\n          <div class=\"inner\">\\n            \\n\\n                \\n        \\n  \\n  \\n    <div class=\"hgroup\">\\n      <div class=\"category\">\\xed\\x81\\xac\\xeb\\xa1\\xa4\\xeb\\xa7\\x81</div>\\n      <h1>\\xed\\x81\\xac\\xeb\\xa1\\xa4\\xeb\\xa7\\x81\\xec\\x9d\\x98 \\xec\\x84\\xb8\\xea\\xb3\\x84\\xec\\x97\\x90 \\xec\\x98\\xa4\\xec\\x8b\\xa0 \\xea\\xb2\\x83\\xec\\x9d\\x84 \\xed\\x99\\x98\\xec\\x98\\x81\\xed\\x95\\xa9\\xeb\\x8b\\x88\\xeb\\x8b\\xa4. </h1>\\n      <div class=\"post-meta\">\\n        <span class=\"author\">\\xeb\\xa1\\x9c\\xec\\x8a\\xa4\\xec\\xb9\\xb4\\xec\\xb8\\xa0</span>\\n        <span class=\"date\">2021. 1. 21. 14:06</span>\\n        \\n      </div>\\n    </div>\\n    <div class=\"entry-content\" id=\"article-view\">\\n                  <!-- System - START -->\\n\\n<!-- System - END -->\\n\\n            <div class=\"tt_article_useless_p_margin contents_style\"><p>Hello, world!</p></div>\\n            <!-- System - START -->\\n\\n<!-- System - END -->\\n\\n                    <div class=\"container_postbtn #post_button_group\">\\n  <div class=\"postbtn_like\"><script>window.ReactionButtonType = \\'reaction\\';\\nwindow.ReactionApiUrl = \\'//ai-dev.tistory.com/reaction\\';\\nwindow.ReactionReqBody = {\\n    entryId: 1\\n}</script>\\n<div class=\"wrap_btn\" id=\"reaction-1\"></div>\\n<script src=\"https://tistory1.daumcdn.net/tistory_admin/userblog/tistory-e6506e2a046e51fea310cb12269adb958a199e44/static/script/reaction-button-container.min.js\"></script><div class=\"wrap_btn wrap_btn_share\"><button type=\"button\" class=\"btn_post sns_btn btn_share\" aria-expanded=\"false\" data-thumbnail-url=\"https://t1.daumcdn.net/tistory_admin/static/images/openGraph/opengraph.png\" data-title=\"\\xed\\x81\\xac\\xeb\\xa1\\xa4\\xeb\\xa7\\x81\\xec\\x9d\\x98 \\xec\\x84\\xb8\\xea\\xb3\\x84\\xec\\x97\\x90 \\xec\\x98\\xa4\\xec\\x8b\\xa0 \\xea\\xb2\\x83\\xec\\x9d\\x84 \\xed\\x99\\x98\\xec\\x98\\x81\\xed\\x95\\xa9\\xeb\\x8b\\x88\\xeb\\x8b\\xa4.\" data-description=\"Hello, world!\" data-profile-image=\"https://t1.daumcdn.net/tistory_admin/static/manage/images/r3/default_L.png\" data-profile-name=\"\\xeb\\xa1\\x9c\\xec\\x8a\\xa4\\xec\\xb9\\xb4\\xec\\xb8\\xa0\" data-pc-url=\"https://ai-dev.tistory.com/1\" data-relative-pc-url=\"/1\" data-blog-title=\"\\xec\\x9d\\xb8\\xea\\xb3\\xb5\\xec\\xa7\\x80\\xeb\\x8a\\xa5 \\xea\\xb0\\x9c\\xeb\\xb0\\x9c\\xec\\x9d\\x98 \\xeb\\xaa\\xa8\\xeb\\x93\\xa0 \\xea\\xb2\\x83\"><span class=\"ico_postbtn ico_share\">\\xea\\xb3\\xb5\\xec\\x9c\\xa0\\xed\\x95\\x98\\xea\\xb8\\xb0</span></button>\\n  <div class=\"layer_post\" id=\"tistorySnsLayer\"></div>\\n</div><div class=\"wrap_btn wrap_btn_etc\" data-entry-id=\"1\" data-entry-visibility=\"public\" data-category-visibility=\"public\"><button type=\"button\" class=\"btn_post btn_etc2\" aria-expanded=\"false\"><span class=\"ico_postbtn ico_etc\">\\xea\\xb2\\x8c\\xec\\x8b\\x9c\\xea\\xb8\\x80 \\xea\\xb4\\x80\\xeb\\xa6\\xac</span></button>\\n  <div class=\"layer_post\" id=\"tistoryEtcLayer\"></div>\\n</div></div>\\n<button type=\"button\" class=\"btn_menu_toolbar btn_subscription  #subscribe\" data-blog-id=\"4442027\" data-url=\"https://ai-dev.tistory.com/1\" data-device=\"web_pc\"><em class=\"txt_state\">\\xea\\xb5\\xac\\xeb\\x8f\\x85\\xed\\x95\\x98\\xea\\xb8\\xb0</em><strong class=\"txt_tool_id\">\\xec\\x9d\\xb8\\xea\\xb3\\xb5\\xec\\xa7\\x80\\xeb\\x8a\\xa5 \\xea\\xb0\\x9c\\xeb\\xb0\\x9c\\xec\\x9d\\x98 \\xeb\\xaa\\xa8\\xeb\\x93\\xa0 \\xea\\xb2\\x83</strong><span class=\"img_common_tistory ico_check_type1\"></span></button>  <div data-tistory-react-app=\"SupportButton\"></div>\\n</div>\\n\\n                    <!-- PostListinCategory - START -->\\n<div class=\"another_category another_category_color_gray\">\\n  <h4>\\'<a href=\"/category/%ED%81%AC%EB%A1%A4%EB%A7%81\">\\xed\\x81\\xac\\xeb\\xa1\\xa4\\xeb\\xa7\\x81</a>\\' \\xec\\xb9\\xb4\\xed\\x85\\x8c\\xea\\xb3\\xa0\\xeb\\xa6\\xac\\xec\\x9d\\x98 \\xeb\\x8b\\xa4\\xeb\\xa5\\xb8 \\xea\\xb8\\x80</h4>\\n  <table>\\n    <tr>\\n      <th><a href=\"/2\">\\xed\\x81\\xac\\xeb\\xa1\\xa4\\xeb\\xa7\\x81 \\xec\\x98\\x88\\xec\\xa0\\x9c \\xed\\x8e\\x98\\xec\\x9d\\xb4\\xec\\xa7\\x80 - 02</a>&nbsp;&nbsp;<span>(6)</span></th>\\n      <td>2021.08.08</td>\\n    </tr>\\n  </table>\\n</div>\\n\\n<!-- PostListinCategory - END -->\\n\\n    </div>\\n    \\n\\n    \\n      <div class=\"related-articles\">\\n        <h2><strong>\\'\\xed\\x81\\xac\\xeb\\xa1\\xa4\\xeb\\xa7\\x81\\'</strong> Related Articles</h2>\\n        <ul>\\n          \\n            <li>\\n              <a href=\"/2?category=836119\">\\n                <span class=\"thum\">\\n                  \\n                </span>\\n                <span class=\"title\">\\xed\\x81\\xac\\xeb\\xa1\\xa4\\xeb\\xa7\\x81 \\xec\\x98\\x88\\xec\\xa0\\x9c \\xed\\x8e\\x98\\xec\\x9d\\xb4\\xec\\xa7\\x80 - 02</span>\\n              </a>\\n            </li>\\n          \\n        </ul>\\n      </div>\\n    \\n\\n    <div data-tistory-react-app=\"Namecard\"></div><div id=\"entry1Comment\">\\n      <div class=\"comments\">\\n        <div data-tistory-react-app=\"Comment\"></div>\\n\\n      </div>\\n    </div>\\n<script type=\"text/javascript\">loadedComments[1]=true;\\nfindFragmentAndHighlight(1);</script>\\n\\n\\n  \\n\\n        \\n    \\n          </div>\\n\\n          \\n\\n          \\n\\n          \\n\\n        </article>\\n      </section>\\n      <hr>\\n      \\n      <footer id=\"footer\">\\n        <p class=\"copyright\">DESIGN BY <a href=\"#\">TISTORY</a> <a href=\"https://ai-dev.tistory.com/manage\" class=\"admin\">\\xea\\xb4\\x80\\xeb\\xa6\\xac\\xec\\x9e\\x90</a></p>\\n      </footer>\\n    </div>\\n    <script src=\"https://tistory1.daumcdn.net/tistory/0/pg_Poster/images/script.js\"></script>\\n  \\n<div class=\"#menubar menu_toolbar \">\\n  <h2 class=\"screen_out\">\\xed\\x8b\\xb0\\xec\\x8a\\xa4\\xed\\x86\\xa0\\xeb\\xa6\\xac\\xed\\x88\\xb4\\xeb\\xb0\\x94</h2>\\n</div>\\n<div class=\"#menubar menu_toolbar \"></div>\\n<div class=\"layer_tooltip\">\\n  <div class=\"inner_layer_tooltip\">\\n    <p class=\"desc_g\"></p>\\n  </div>\\n</div>\\n<iframe id=\"editEntry\" style=\"position:absolute;width:1px;height:1px;left:-100px;top:-100px\" src=\"//ai-dev.tistory.com/api\"></iframe>\\n\\n                <!-- DragSearchHandler - START -->\\n<script src=\"//search1.daumcdn.net/search/statics/common/js/g/search_dragselection.min.js\"></script>\\n\\n<!-- DragSearchHandler - END -->\\n\\n                \\n                <script type=\"text/javascript\">(function($) {\\n    $(document).ready(function() {\\n        lightbox.options.fadeDuration = 200;\\n        lightbox.options.resizeDuration = 200;\\n        lightbox.options.wrapAround = false;\\n        lightbox.options.albumLabel = \"%1 / %2\";\\n    })\\n})(tjQuery);</script>\\n<div style=\"margin:0; padding:0; border:none; background:none; float:none; clear:none; z-index:0\"></div>\\n<script type=\"text/javascript\" src=\"https://tistory1.daumcdn.net/tistory_admin/userblog/tistory-e6506e2a046e51fea310cb12269adb958a199e44/static/script/common.js\"></script>\\n<script type=\"text/javascript\">window.roosevelt_params_queue = window.roosevelt_params_queue || [{channel_id: \\'dk\\', channel_label: \\'{tistory}\\'}]</script>\\n<script type=\"text/javascript\" src=\"//t1.daumcdn.net/midas/rt/dk_bt/roosevelt_dk_bt.js\" async=\"async\"></script>\\n<script type=\"text/javascript\" src=\"https://tistory1.daumcdn.net/tistory_admin/userblog/tistory-e6506e2a046e51fea310cb12269adb958a199e44/static/script/menubar.min.js\"></script>\\n<script>            (function (win, doc, src) {\\n    win.Wpm = win.Wpm || function (name, param) {\\n        win.Wpm.queue = win.Wpm.queue || [];\\n        const { queue } = win.Wpm;\\n        queue.push([name, param]);\\n    };\\n    const script = doc.createElement(\\'script\\');\\n    script.src = src;\\n    script.async = 1;\\n    const [elem] = doc.getElementsByTagName(\\'script\\');\\n    elem.parentNode.insertBefore(script, elem);\\n})(window, document, \\'https://t1.kakaocdn.net/malibu_prod/normal_wpm.js\\');\\n            const APP_KEY = \\'fd21bd1c091849f9a2555e49c43a73dd\\';\\n            Wpm(\\'appKey\\', APP_KEY);</script>\\n\\n                \\n                <script>window.tiara = {\"svcDomain\":\"user.tistory.com\",\"section\":\"\\xea\\xb8\\x80\\xeb\\xb7\\xb0\",\"trackPage\":\"\\xea\\xb8\\x80\\xeb\\xb7\\xb0_\\xeb\\xb3\\xb4\\xea\\xb8\\xb0\",\"page\":\"\\xea\\xb8\\x80\\xeb\\xb7\\xb0\",\"key\":\"4442027-1\",\"customProps\":{\"userId\":\"0\",\"blogId\":\"4442027\",\"entryId\":\"1\",\"role\":\"guest\",\"trackPage\":\"\\xea\\xb8\\x80\\xeb\\xb7\\xb0_\\xeb\\xb3\\xb4\\xea\\xb8\\xb0\",\"filterTarget\":false},\"entry\":{\"entryId\":\"1\",\"categoryName\":\"\\xed\\x81\\xac\\xeb\\xa1\\xa4\\xeb\\xa7\\x81\",\"categoryId\":\"836119\",\"author\":\"4727327\",\"image\":\"\",\"plink\":\"/1\",\"tags\":[]},\"kakaoAppKey\":\"3e6ddd834b023f24221217e370daed18\",\"appUserId\":\"null\"}</script>\\n<script type=\"text/javascript\" src=\"https://tistory1.daumcdn.net/tistory_admin/userblog/tistory-e6506e2a046e51fea310cb12269adb958a199e44/static/script/tiara.min.js\"></script>\\n\\n                </body>\\n\\n</html>'\n"
     ]
    }
   ],
   "source": [
    "print(response)\n",
    "print(response.status_code)\n",
    "print(response.content)"
   ]
  },
  {
   "cell_type": "code",
   "execution_count": 70,
   "id": "67f9f101",
   "metadata": {},
   "outputs": [
    {
     "name": "stdout",
     "output_type": "stream",
     "text": [
      "<p>Hello, world!</p>\n"
     ]
    }
   ],
   "source": [
    "soup = BeautifulSoup(response.content, 'html.parser')\n",
    "p = soup.select_one('div.tt_article_useless_p_margin > p')\n",
    "print(p)"
   ]
  },
  {
   "cell_type": "code",
   "execution_count": null,
   "id": "542cbef8",
   "metadata": {},
   "outputs": [],
   "source": []
  }
 ],
 "metadata": {
  "kernelspec": {
   "display_name": "Python 3 (ipykernel)",
   "language": "python",
   "name": "python3"
  },
  "language_info": {
   "codemirror_mode": {
    "name": "ipython",
    "version": 3
   },
   "file_extension": ".py",
   "mimetype": "text/x-python",
   "name": "python",
   "nbconvert_exporter": "python",
   "pygments_lexer": "ipython3",
   "version": "3.11.5"
  }
 },
 "nbformat": 4,
 "nbformat_minor": 5
}
