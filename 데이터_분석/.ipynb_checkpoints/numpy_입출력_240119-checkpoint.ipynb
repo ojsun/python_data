{
 "cells": [
  {
   "cell_type": "markdown",
   "id": "c0e80ae3-a726-47c2-876b-6a8b7f027a41",
   "metadata": {},
   "source": [
    "### Numpy 입출력 관련"
   ]
  },
  {
   "cell_type": "code",
   "execution_count": 2,
   "id": "78908151-b36c-4181-a1d2-aac2394a9579",
   "metadata": {},
   "outputs": [],
   "source": [
    "import numpy as np"
   ]
  },
  {
   "cell_type": "code",
   "execution_count": null,
   "id": "f8a65792-7c54-4b3b-8f71-1b4f5ba0292b",
   "metadata": {
    "scrolled": true
   },
   "outputs": [],
   "source": [
    "n = np.random.randn(3, 5)\n",
    "print(n)\n",
    "n.tofile('n.npy’)"
   ]
  },
  {
   "cell_type": "code",
   "execution_count": null,
   "id": "5db49d2b-86fa-4a41-a6d0-ef17275b5a2a",
   "metadata": {},
   "outputs": [],
   "source": [
    "m=np.fromfile('n.npy')\n",
    "print(m)"
   ]
  },
  {
   "cell_type": "code",
   "execution_count": null,
   "id": "504ab563-bb75-4cd0-a0f3-25eab1e0fe93",
   "metadata": {},
   "outputs": [],
   "source": []
  },
  {
   "cell_type": "code",
   "execution_count": null,
   "id": "5d616032-f5da-431a-8a76-031a3d0369be",
   "metadata": {},
   "outputs": [],
   "source": []
  },
  {
   "cell_type": "code",
   "execution_count": null,
   "id": "2c1a62d2-79ab-4df8-b43e-a13196fc559e",
   "metadata": {},
   "outputs": [],
   "source": []
  },
  {
   "cell_type": "code",
   "execution_count": null,
   "id": "85c5a900-f206-477a-a4a9-769c8be2b8c2",
   "metadata": {},
   "outputs": [],
   "source": []
  }
 ],
 "metadata": {
  "kernelspec": {
   "display_name": "Python 3 (ipykernel)",
   "language": "python",
   "name": "python3"
  },
  "language_info": {
   "codemirror_mode": {
    "name": "ipython",
    "version": 3
   },
   "file_extension": ".py",
   "mimetype": "text/x-python",
   "name": "python",
   "nbconvert_exporter": "python",
   "pygments_lexer": "ipython3",
   "version": "3.11.5"
  }
 },
 "nbformat": 4,
 "nbformat_minor": 5
}
