{
 "cells": [
  {
   "cell_type": "markdown",
   "id": "c0e80ae3-a726-47c2-876b-6a8b7f027a41",
   "metadata": {},
   "source": [
    "### Numpy 입출력 관련"
   ]
  },
  {
   "cell_type": "code",
   "execution_count": null,
   "id": "78908151-b36c-4181-a1d2-aac2394a9579",
   "metadata": {},
   "outputs": [],
   "source": [
    "import numpy as np"
   ]
  },
  {
   "cell_type": "code",
   "execution_count": null,
   "id": "d3760b58-f504-4687-b0c2-33983cb467de",
   "metadata": {},
   "outputs": [],
   "source": [
    "matrix = np.array([np.random.randn(2,5)])\n",
    "print(matrix)"
   ]
  },
  {
   "cell_type": "code",
   "execution_count": null,
   "id": "f8a65792-7c54-4b3b-8f71-1b4f5ba0292b",
   "metadata": {},
   "outputs": [],
   "source": [
    "matrix.tofile('n.npy')   # 보내서 저장"
   ]
  },
  {
   "cell_type": "code",
   "execution_count": null,
   "id": "5db49d2b-86fa-4a41-a6d0-ef17275b5a2a",
   "metadata": {},
   "outputs": [],
   "source": [
    "m=np.fromfile('n.npy')  # 파일에서 끄집아 넴(tofile일 경우 이므로 from으로 열기)\n",
    "print(m)"
   ]
  },
  {
   "cell_type": "code",
   "execution_count": null,
   "id": "504ab563-bb75-4cd0-a0f3-25eab1e0fe93",
   "metadata": {},
   "outputs": [],
   "source": [
    "np.save('n1.npy',matrix)   #저장하고\n",
    "m1 = np.load('n1.npy')    # 가져오기(save로 저장했으니 열때는 load로 할것)\n",
    "print(m1)"
   ]
  },
  {
   "cell_type": "code",
   "execution_count": null,
   "id": "5d616032-f5da-431a-8a76-031a3d0369be",
   "metadata": {},
   "outputs": [],
   "source": [
    "n = np.random.randn(3, 5)\n",
    "np.savetxt('n.txt',n)"
   ]
  },
  {
   "cell_type": "code",
   "execution_count": null,
   "id": "f6af760e-75a1-4ed4-b653-521b78a8c48d",
   "metadata": {},
   "outputs": [],
   "source": [
    "np.savetxt('n_1.csv',n,delimiter=',')"
   ]
  },
  {
   "cell_type": "code",
   "execution_count": null,
   "id": "f743b81c-c474-46dc-9cb5-5edc5486beb0",
   "metadata": {},
   "outputs": [],
   "source": [
    "np.loadtxt('n_1.csv',delimiter=',', dtype=int, converters=float)"
   ]
  },
  {
   "cell_type": "code",
   "execution_count": null,
   "id": "2c1a62d2-79ab-4df8-b43e-a13196fc559e",
   "metadata": {},
   "outputs": [],
   "source": []
  },
  {
   "cell_type": "code",
   "execution_count": null,
   "id": "85c5a900-f206-477a-a4a9-769c8be2b8c2",
   "metadata": {},
   "outputs": [],
   "source": [
    "np.loadtxt('data/06_data1.txt')"
   ]
  },
  {
   "cell_type": "markdown",
   "id": "e18be6d6-f64f-45dc-a938-609f789fc97b",
   "metadata": {},
   "source": [
    "## (연습문제)"
   ]
  },
  {
   "cell_type": "code",
   "execution_count": null,
   "id": "b5e4c02a-08d4-4b0f-96ff-9ae378fb416a",
   "metadata": {},
   "outputs": [],
   "source": [
    "#문제1\n",
    "matrix=np.arange(1,26, dtype=np. int8).reshape(5,5)\n",
    "print(matrix)"
   ]
  },
  {
   "cell_type": "code",
   "execution_count": null,
   "id": "962f9c14-b9a1-479e-9a3a-529b1212118c",
   "metadata": {},
   "outputs": [],
   "source": [
    "np.savetxt('data/data.csv',matrix, delimiter=',')"
   ]
  },
  {
   "cell_type": "code",
   "execution_count": null,
   "id": "cba2a467-9c75-4890-bd33-87521b6563ed",
   "metadata": {},
   "outputs": [],
   "source": [
    "#문제2\n",
    "arr1=np.loadtext('data/06_data1.txt', delimiter=',', dtype=str)"
   ]
  },
  {
   "cell_type": "code",
   "execution_count": null,
   "id": "d3c29cf8-ed44-429d-a001-c688d34330d7",
   "metadata": {},
   "outputs": [],
   "source": [
    "#문제2\n",
    "arr1=np.loadtext('data/06_data1.txt')"
   ]
  },
  {
   "cell_type": "code",
   "execution_count": null,
   "id": "f2848306-956d-4ec2-8b59-063865e32244",
   "metadata": {},
   "outputs": [],
   "source": []
  }
 ],
 "metadata": {
  "kernelspec": {
   "display_name": "Python 3 (ipykernel)",
   "language": "python",
   "name": "python3"
  },
  "language_info": {
   "codemirror_mode": {
    "name": "ipython",
    "version": 3
   },
   "file_extension": ".py",
   "mimetype": "text/x-python",
   "name": "python",
   "nbconvert_exporter": "python",
   "pygments_lexer": "ipython3",
   "version": "3.11.5"
  }
 },
 "nbformat": 4,
 "nbformat_minor": 5
}
