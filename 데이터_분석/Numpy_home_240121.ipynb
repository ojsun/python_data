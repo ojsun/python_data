{
 "cells": [
  {
   "cell_type": "code",
   "execution_count": 2,
   "id": "a1c3fde8-b778-4add-ba7b-3a703cdbaa00",
   "metadata": {
    "tags": []
   },
   "outputs": [],
   "source": [
    "import numpy as np"
   ]
  },
  {
   "cell_type": "code",
   "execution_count": 23,
   "id": "53510a5b-20bc-4cf1-b9f9-7fa4a4c2b695",
   "metadata": {
    "tags": []
   },
   "outputs": [],
   "source": [
    "#문제 1\n",
    "# a=np.arange(1,26).reshape(5,5)   #dtype=np.int8 ?\n",
    "a=np.arange(1,26, dtype=np.int8).reshape(5,5)"
   ]
  },
  {
   "cell_type": "code",
   "execution_count": 14,
   "id": "fbb881b9-17a9-4f7f-8c71-f0943d71c348",
   "metadata": {
    "tags": []
   },
   "outputs": [],
   "source": [
    "np.savetxt('data.csv',a,delimiter=',')"
   ]
  },
  {
   "cell_type": "code",
   "execution_count": 21,
   "id": "ac3a2055-d619-4323-9b43-848ca52fe61b",
   "metadata": {
    "tags": []
   },
   "outputs": [
    {
     "data": {
      "text/plain": [
       "array(['1.000000000000000000e+00,2.000000000000000000e+00,3.000000000000000000e+00,4.000000000000000000e+00,5.000000000000000000e+00',\n",
       "       '6.000000000000000000e+00,7.000000000000000000e+00,8.000000000000000000e+00,9.000000000000000000e+00,1.000000000000000000e+01',\n",
       "       '1.100000000000000000e+01,1.200000000000000000e+01,1.300000000000000000e+01,1.400000000000000000e+01,1.500000000000000000e+01',\n",
       "       '1.600000000000000000e+01,1.700000000000000000e+01,1.800000000000000000e+01,1.900000000000000000e+01,2.000000000000000000e+01',\n",
       "       '2.100000000000000000e+01,2.200000000000000000e+01,2.300000000000000000e+01,2.400000000000000000e+01,2.500000000000000000e+01'],\n",
       "      dtype='<U124')"
      ]
     },
     "execution_count": 21,
     "metadata": {},
     "output_type": "execute_result"
    }
   ],
   "source": [
    "#문제2\n",
    "arr1=np.loadtxt('data.csv', dtype=str)\n",
    "arr1"
   ]
  },
  {
   "cell_type": "code",
   "execution_count": 40,
   "id": "aa0b5969-57a1-4a95-aa84-412770593248",
   "metadata": {
    "tags": []
   },
   "outputs": [
    {
     "data": {
      "text/plain": [
       "array([[      1,  565082,     273,   27177],\n",
       "       [      2, 2827233,     444,   45111],\n",
       "       [      3, 1144913,     289,   29043],\n",
       "       [      4, 1131034,     230,   22436],\n",
       "       [      5,  380425,     391,   38020]])"
      ]
     },
     "execution_count": 40,
     "metadata": {},
     "output_type": "execute_result"
    }
   ],
   "source": [
    "## 지역별 전기요금\n",
    "data=np.loadtxt('ex1_지역별전기요금.csv',delimiter=',',dtype=int)  # dtype=np.int -error\n",
    "data[:5,:]"
   ]
  },
  {
   "cell_type": "code",
   "execution_count": 28,
   "id": "28019f63-187d-4967-9197-e7f3a716cce4",
   "metadata": {
    "tags": []
   },
   "outputs": [
    {
     "name": "stdout",
     "output_type": "stream",
     "text": [
      "(17, 4)\n"
     ]
    }
   ],
   "source": [
    "print(data.shape)"
   ]
  },
  {
   "cell_type": "code",
   "execution_count": 34,
   "id": "3b6e7b34-72b6-4538-ad4c-22d09715db45",
   "metadata": {
    "tags": []
   },
   "outputs": [
    {
     "name": "stdout",
     "output_type": "stream",
     "text": [
      "[ 1  2  3  4  5  6  7  8  9 10 11 12 13 14 15 16 17]\n"
     ]
    }
   ],
   "source": [
    "print(np.unique(data[:,0]))"
   ]
  },
  {
   "cell_type": "code",
   "execution_count": 36,
   "id": "b543fc39-23dc-4eb3-a78e-37b125d2b9f0",
   "metadata": {
    "tags": []
   },
   "outputs": [
    {
     "name": "stdout",
     "output_type": "stream",
     "text": [
      "14882047\n"
     ]
    }
   ],
   "source": [
    "#전국대상 가구수의 합\n",
    "print(np.sum(data[:,1]))"
   ]
  },
  {
   "cell_type": "code",
   "execution_count": 39,
   "id": "656c7fe0-bd80-4a54-b416-8129bf7e41c3",
   "metadata": {
    "tags": []
   },
   "outputs": [
    {
     "name": "stdout",
     "output_type": "stream",
     "text": [
      "335.1764705882353\n",
      "335.18\n"
     ]
    }
   ],
   "source": [
    "#전력사용량 평균\n",
    "print(data[:,2].mean())\n",
    "print(round(data[:,2].mean(),2))"
   ]
  },
  {
   "cell_type": "code",
   "execution_count": 43,
   "id": "8a900b03-40d9-4b5b-8b2f-8dd9986eae39",
   "metadata": {
    "tags": []
   },
   "outputs": [
    {
     "name": "stdout",
     "output_type": "stream",
     "text": [
      "335.1764705882353\n",
      "[[      2 2827233]\n",
      " [      5  380425]\n",
      " [      6  668623]\n",
      " [      7  425659]\n",
      " [      8  947300]\n",
      " [      9 2737725]\n",
      " [     10   49394]\n",
      " [     11  323151]\n",
      " [     12  734723]]\n"
     ]
    }
   ],
   "source": [
    "#가구당 평균전력 사용량이 평균이상인 지역과 대상 가구수\n",
    "a=data[:,2].mean() # 가구당 평균 전력사용량의 전국평균\n",
    "print(a)\n",
    "print(data[data[:,2] > a, 0:2])"
   ]
  },
  {
   "cell_type": "code",
   "execution_count": 53,
   "id": "d5463baf-6b45-445d-8f18-69c90ff3d6e7",
   "metadata": {
    "tags": []
   },
   "outputs": [
    {
     "data": {
      "text/plain": [
       "array([[2014. ,  218. ,    4.8],\n",
       "       [2014. ,  872. ,   19. ],\n",
       "       [2014. ,  401. ,    8.7]])"
      ]
     },
     "execution_count": 53,
     "metadata": {},
     "output_type": "execute_result"
    }
   ],
   "source": [
    "##교통사망사고 데이터\n",
    "#문제1 상위 3개(발생년도,건수,구성비) 데이터 추출\n",
    "data=np.loadtxt('ex2_전년대비_시도별_교통사망사고.csv',delimiter=',',dtype=float)  #np.float   -->error\n",
    "data[:3,[0,2,3]]"
   ]
  },
  {
   "cell_type": "code",
   "execution_count": 54,
   "id": "5c186281-8b77-4065-99d1-2578375cf1b6",
   "metadata": {
    "tags": []
   },
   "outputs": [
    {
     "name": "stdout",
     "output_type": "stream",
     "text": [
      "[[2.014e+03 1.000e+01 2.000e+01 4.000e-01 0.000e+00 0.000e+00]]\n"
     ]
    }
   ],
   "source": [
    "#세종에서 발생건수\n",
    "print(data[data[:,1]==10])"
   ]
  },
  {
   "cell_type": "code",
   "execution_count": null,
   "id": "4478dcd2-7d0c-40d1-a1f9-2df7ffd14305",
   "metadata": {},
   "outputs": [],
   "source": []
  },
  {
   "cell_type": "code",
   "execution_count": null,
   "id": "532f2b7f-f8b1-4677-8d65-d9e1f1f08f62",
   "metadata": {},
   "outputs": [],
   "source": []
  },
  {
   "cell_type": "code",
   "execution_count": null,
   "id": "4f29228f-2ba8-4838-8c0c-841e9da934ed",
   "metadata": {},
   "outputs": [],
   "source": []
  }
 ],
 "metadata": {
  "kernelspec": {
   "display_name": "Python 3 (ipykernel)",
   "language": "python",
   "name": "python3"
  },
  "language_info": {
   "codemirror_mode": {
    "name": "ipython",
    "version": 3
   },
   "file_extension": ".py",
   "mimetype": "text/x-python",
   "name": "python",
   "nbconvert_exporter": "python",
   "pygments_lexer": "ipython3",
   "version": "3.11.5"
  }
 },
 "nbformat": 4,
 "nbformat_minor": 5
}
