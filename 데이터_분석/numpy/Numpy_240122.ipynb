{
 "cells": [
  {
   "cell_type": "code",
   "execution_count": null,
   "id": "a1c3fde8-b778-4add-ba7b-3a703cdbaa00",
   "metadata": {
    "tags": []
   },
   "outputs": [],
   "source": [
    "import numpy as np"
   ]
  },
  {
   "cell_type": "code",
   "execution_count": null,
   "id": "53510a5b-20bc-4cf1-b9f9-7fa4a4c2b695",
   "metadata": {
    "tags": []
   },
   "outputs": [],
   "source": [
    "#문제 1\n",
    "# a=np.arange(1,26).reshape(5,5)   #dtype=np.int8 ?\n",
    "a=np.arange(1,26, dtype=np.int8).reshape(5,5)"
   ]
  },
  {
   "cell_type": "code",
   "execution_count": null,
   "id": "fbb881b9-17a9-4f7f-8c71-f0943d71c348",
   "metadata": {
    "tags": []
   },
   "outputs": [],
   "source": [
    "np.savetxt('./data.csv',a,delimiter=',')"
   ]
  },
  {
   "cell_type": "code",
   "execution_count": null,
   "id": "ac3a2055-d619-4323-9b43-848ca52fe61b",
   "metadata": {
    "tags": []
   },
   "outputs": [],
   "source": [
    "#문제2\n",
    "arr1=np.loadtxt('data.csv', dtype=str)\n",
    "arr1"
   ]
  },
  {
   "cell_type": "code",
   "execution_count": null,
   "id": "aa0b5969-57a1-4a95-aa84-412770593248",
   "metadata": {
    "tags": []
   },
   "outputs": [],
   "source": [
    "## 지역별 전기요금\n",
    "# 1) 데이터 불러오기\n",
    "data=np.loadtxt('data/ex1_지역별전기요금.csv',delimiter=',',dtype=np.int_)  # dtype=np.int -error\n",
    "data[:5,:] "
   ]
  },
  {
   "cell_type": "code",
   "execution_count": null,
   "id": "28019f63-187d-4967-9197-e7f3a716cce4",
   "metadata": {
    "tags": []
   },
   "outputs": [],
   "source": [
    "# 2) 데이터 확인하기\n",
    "print(data.shape)  \n",
    "print(np.unique(data[:,0]))   # 중복값 제거\n",
    "print(len(np.unique(data[:,0])))  # 중복값 제거위해 길이 비교"
   ]
  },
  {
   "cell_type": "code",
   "execution_count": null,
   "id": "0a9f0582-497e-4515-ae68-a4cb59e18030",
   "metadata": {},
   "outputs": [],
   "source": [
    "# 데이터 확인(데이터 크기순 정렬) - argsort로 확인\n",
    "# .sort로는 데이터 섞임\n",
    "print(data[:,1].argsort())\n",
    "print(data[data[:,1].argsort()])"
   ]
  },
  {
   "cell_type": "code",
   "execution_count": null,
   "id": "c6cd9a95-ac00-4045-b57f-d1589b5563c9",
   "metadata": {
    "scrolled": true
   },
   "outputs": [],
   "source": [
    "sorted_data=data[:,2].argsort()\n",
    "data[sorted_data]        # 팬시 인덱스  "
   ]
  },
  {
   "cell_type": "code",
   "execution_count": null,
   "id": "e816ce96-b085-45df-9cb6-4816ca8f9d4c",
   "metadata": {},
   "outputs": [],
   "source": [
    "# 내림차순 정렬로 바꾸기--> [::-1]] 붙이기\n",
    "data[sorted_data][::-1]"
   ]
  },
  {
   "cell_type": "code",
   "execution_count": null,
   "id": "b543fc39-23dc-4eb3-a78e-37b125d2b9f0",
   "metadata": {
    "tags": []
   },
   "outputs": [],
   "source": [
    "# 3) 데이터 통계\n",
    "#전국대상 가구수의 합\n",
    "print(np.sum(data[:,1]))"
   ]
  },
  {
   "cell_type": "code",
   "execution_count": null,
   "id": "656c7fe0-bd80-4a54-b416-8129bf7e41c3",
   "metadata": {
    "tags": []
   },
   "outputs": [],
   "source": [
    "#전력사용량 평균\n",
    "print(data[:,2].mean())\n",
    "print(round(data[:,2].mean(),2)) "
   ]
  },
  {
   "cell_type": "code",
   "execution_count": null,
   "id": "af9748cd-0183-4078-b887-84c8ecf05916",
   "metadata": {},
   "outputs": [],
   "source": [
    "np.sum(data, axis=0))   # 전체 colume별 합"
   ]
  },
  {
   "cell_type": "code",
   "execution_count": null,
   "id": "8a900b03-40d9-4b5b-8b2f-8dd9986eae39",
   "metadata": {
    "tags": []
   },
   "outputs": [],
   "source": [
    "#가구당 평균전력 사용량이 평균이상인 지역과 대상 가구수\n",
    "a=data[:,2].mean() # 가구당 평균 전력사용량의 전국평균\n",
    "print(a)\n",
    "print(data[data[:,2] > a, 0:2])"
   ]
  },
  {
   "cell_type": "code",
   "execution_count": null,
   "id": "4bca824c-9feb-4e15-bca7-f64b421ae2d5",
   "metadata": {},
   "outputs": [],
   "source": [
    "#가구당 평균 전력 사용량이 평균 이상인 지역과 대상 가구수 추출\n",
    "avg_ = data[:, 2].mean () # 가구당 평균 전력 사용량의 전국 평균\n",
    "print(data[data[:, 2] >= avg_, 0:2])"
   ]
  },
  {
   "cell_type": "code",
   "execution_count": null,
   "id": "878731f0-a22d-4849-baa6-e4af47565e5d",
   "metadata": {},
   "outputs": [],
   "source": [
    "# 참고(불리언 인덱스)\n",
    "data[:,2] > avg_ "
   ]
  },
  {
   "cell_type": "code",
   "execution_count": null,
   "id": "d5463baf-6b45-445d-8f18-69c90ff3d6e7",
   "metadata": {
    "tags": []
   },
   "outputs": [],
   "source": [
    "##교통사망사고 데이터\n",
    "#문제1 상위 3개(발생년도,건수,구성비) 데이터 추출\n",
    "data=np.loadtxt('data/ex2_전년대비_시도별_교통사망사고.csv',delimiter=',',dtype=np.float_)  #np.float   -->error\n",
    "data[:3,[0,2,3]]"
   ]
  },
  {
   "cell_type": "code",
   "execution_count": null,
   "id": "3611834a-eb91-4799-83ef-0adc66d7ca2c",
   "metadata": {},
   "outputs": [],
   "source": [
    "\n",
    "a=np.loadtxt('data/ex2_전년대비_시도별_교통사망사고.csv', delimiter=',', dtype=np.float_)\n",
    "b=a[:3,[0,2,3]]\n",
    "print(b)\n"
   ]
  },
  {
   "cell_type": "code",
   "execution_count": null,
   "id": "456b645c-a114-435c-82f3-da854ea3dfaa",
   "metadata": {},
   "outputs": [],
   "source": [
    "# 데이터 검사\n",
    "data.shape"
   ]
  },
  {
   "cell_type": "code",
   "execution_count": null,
   "id": "5c186281-8b77-4065-99d1-2578375cf1b6",
   "metadata": {
    "tags": []
   },
   "outputs": [],
   "source": [
    "#문제2) 세종에서 발생건수\n",
    "ㅁprint(data[data[:,1]==10])"
   ]
  },
  {
   "cell_type": "code",
   "execution_count": null,
   "id": "2939ac4e-c5e5-472e-ac34-d61ca92f7c3f",
   "metadata": {},
   "outputs": [],
   "source": [
    "print(data[data[:,1]==10])"
   ]
  },
  {
   "cell_type": "code",
   "execution_count": null,
   "id": "4478dcd2-7d0c-40d1-a1f9-2df7ffd14305",
   "metadata": {},
   "outputs": [],
   "source": [
    "# 문제3) 전국 사고발생건수의 합계, 평균\n",
    "print(np.sum(data[:, 2])) # 발생건수의 총합\n",
    "data[:,2].mean()\n",
    "print(round(np.sum(data[:, 2]) / 17, 2)) "
   ]
  },
  {
   "cell_type": "code",
   "execution_count": null,
   "id": "83719c24-1cfb-4002-994f-01352ec11a19",
   "metadata": {},
   "outputs": [],
   "source": [
    "np.sum(a[:,2])\n",
    "print(round(np.sum(a[:,2])/17,2))"
   ]
  },
  {
   "cell_type": "code",
   "execution_count": null,
   "id": "532f2b7f-f8b1-4677-8d65-d9e1f1f08f62",
   "metadata": {},
   "outputs": [],
   "source": [
    "# 문제4 교통사고 증감수가 가장 큰 지역의 모든 상황 출력\n",
    "# 증감수 컬럼에서 가장 큰 값\n",
    "print(np.max(data[:,4]))\n",
    "print(data[np.argmax(data[:,4])]) # 증감수가 가장 큰 지역"
   ]
  },
  {
   "cell_type": "code",
   "execution_count": null,
   "id": "25e2a63b-7df8-4bb6-90b0-76b203a5750a",
   "metadata": {},
   "outputs": [],
   "source": [
    "# 방법1 max\n",
    "max_=(data[:,4]).max()\n",
    "data[data[:,4] == max_]"
   ]
  },
  {
   "cell_type": "code",
   "execution_count": null,
   "id": "5f28f44a-6db3-4f79-86c6-3d72a69fa087",
   "metadata": {},
   "outputs": [],
   "source": [
    "# 방법2  argmax\n",
    "data[np.argmax(data[:,4])]\n",
    "data[(data[:,4]).argmax()]"
   ]
  },
  {
   "cell_type": "code",
   "execution_count": 141,
   "id": "4e4a71a0-13d8-48ef-9dc9-4336f3590134",
   "metadata": {},
   "outputs": [
    {
     "data": {
      "text/plain": [
       "array([2014. ,    6. ,  182. ,    4. ,   19. ,   11.7])"
      ]
     },
     "execution_count": 141,
     "metadata": {},
     "output_type": "execute_result"
    }
   ],
   "source": [
    "# 방법3  arqsort() 내림차순 sort해서 맨 위에것 가져오기\n",
    "data[(data[:,4]).argsort() [::-1] ][0]   ## 잘 안씀"
   ]
  },
  {
   "cell_type": "code",
   "execution_count": null,
   "id": "4f29228f-2ba8-4838-8c0c-841e9da934ed",
   "metadata": {},
   "outputs": [],
   "source": [
    "# 문제5) 사고 증감률이 가장 작은 지역의 모든 현황 출력\n",
    "# 증감률 컬럼에서 가장 작은 값\n",
    "print(np.min(data[:,5]))\n",
    "print(data[np.argmin(data[:,5])]) # 증감률이 가장 작은 지역"
   ]
  },
  {
   "cell_type": "code",
   "execution_count": 143,
   "id": "bf4c0d50-173b-4e23-9bd3-12e51ad9b9bd",
   "metadata": {},
   "outputs": [
    {
     "name": "stdout",
     "output_type": "stream",
     "text": [
      "7\n",
      "[2014.     8.   163.     3.6  -47.   -22.4]\n"
     ]
    }
   ],
   "source": [
    "np.argmin(a[:,5])\n",
    "print(data[:,5].argmin())\n",
    "print(a[np.argmin(a[:,5])])"
   ]
  },
  {
   "cell_type": "code",
   "execution_count": 146,
   "id": "d48c6c88-03e3-438b-bd19-0c5aa118a5ff",
   "metadata": {},
   "outputs": [
    {
     "data": {
      "text/plain": [
       "array([[2014. ,    8. ,  163. ,    3.6,  -47. ,  -22.4]])"
      ]
     },
     "execution_count": 146,
     "metadata": {},
     "output_type": "execute_result"
    }
   ],
   "source": [
    "min_=(data[:,5]).min()\n",
    "data[data[:,5] == min_]"
   ]
  },
  {
   "cell_type": "code",
   "execution_count": 147,
   "id": "b62421b0-389a-4038-b7e5-3bbd4240a39e",
   "metadata": {},
   "outputs": [
    {
     "data": {
      "text/plain": [
       "array([2014. ,    8. ,  163. ,    3.6,  -47. ,  -22.4])"
      ]
     },
     "execution_count": 147,
     "metadata": {},
     "output_type": "execute_result"
    }
   ],
   "source": [
    "data[(data[:,5]).argsort()][0]"
   ]
  },
  {
   "cell_type": "code",
   "execution_count": null,
   "id": "783c6c80-84fa-47f3-bb24-f3a1e1fd33b5",
   "metadata": {},
   "outputs": [],
   "source": [
    "# 문제6) 건수 400건 이상인 곳의 지역과 발생건수, 증감수,증감률  =>bool 인덱스\n",
    "# 사고 발생건수가 400건 이상인 데이터 추출\n",
    "data[data[:,2] >= 400,:]  # data[data[:,2] >= 400]  같은 결과 나옴\n",
    "data2 = data[data[:,2] >= 400,:]\n",
    "print(data2[:, [1, 2, 4, 5]])\n"
   ]
  },
  {
   "cell_type": "code",
   "execution_count": 149,
   "id": "d8c79ed8-0dc2-4149-a1f6-3116486f95a0",
   "metadata": {},
   "outputs": [
    {
     "data": {
      "text/plain": [
       "array([[  2. , 872. , -45. ,  -4.9],\n",
       "       [  3. , 401. , -45. , -10.1],\n",
       "       [  4. , 464. , -41. ,  -8.1],\n",
       "       [ 13. , 400. , -35. ,  -8. ]])"
      ]
     },
     "execution_count": 149,
     "metadata": {},
     "output_type": "execute_result"
    }
   ],
   "source": [
    "data[data[:,2] >= 400][:, [1,2,4,5]]  \n"
   ]
  }
 ],
 "metadata": {
  "kernelspec": {
   "display_name": "Python 3 (ipykernel)",
   "language": "python",
   "name": "python3"
  },
  "language_info": {
   "codemirror_mode": {
    "name": "ipython",
    "version": 3
   },
   "file_extension": ".py",
   "mimetype": "text/x-python",
   "name": "python",
   "nbconvert_exporter": "python",
   "pygments_lexer": "ipython3",
   "version": "3.11.5"
  }
 },
 "nbformat": 4,
 "nbformat_minor": 5
}
