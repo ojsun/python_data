{
 "cells": [
  {
   "cell_type": "code",
   "execution_count": null,
   "id": "28709768-b637-457f-9a25-cdc510ab8173",
   "metadata": {},
   "outputs": [],
   "source": [
    "import numpy as np\n",
    "import pandas as pd\n",
    "import seaborn as sns\n",
    "import matplotlib.pyplot as plt\n",
    "from scipy import stats\n",
    "import warnings\n",
    "\n",
    "warnings.filterwarnings('ignore')\n",
    "sns.set_palette('Paired')\n",
    "\n",
    "plt.rcParams[\"figure.figsize\"] = (6,3)\n",
    "plt.rcParams['font.size'] = 12\n",
    "\n",
    "from matplotlib import font_manager, rc\n",
    "font = 'C:/Windows/Fonts/malgun.ttf'\n",
    "font_name = font_manager.FontProperties(fname=font).get_name()\n",
    "rc('font', family=font_name)\n"
   ]
  },
  {
   "cell_type": "code",
   "execution_count": null,
   "id": "feefb4b6-7066-42d8-964f-7f675b997daa",
   "metadata": {},
   "outputs": [],
   "source": [
    "# 정규분석\n",
    "from scipy import stats\n",
    "stats.shapiro(titanic['Fare'])\n",
    "stats.anderson(titanic['Fare'])"
   ]
  },
  {
   "cell_type": "code",
   "execution_count": null,
   "id": "f44bb287-2bd9-418f-b447-763946f069dd",
   "metadata": {},
   "outputs": [],
   "source": [
    "# 이상치 판단 1) IQR 이용\n",
    "IQR = titanic['Fare'].quantile(0.75) - titanic['Fare'].quantile(0.25)\n",
    "high_border = titanic['Fare'].quantile(0.75) + IQR * 1.5\n",
    "low_border = titanic['Fare'].quantile(0.25) - IQR * 1.5\n",
    "print(high_border, low_border)"
   ]
  },
  {
   "cell_type": "code",
   "execution_count": null,
   "id": "427ba7d6-c855-4d0e-a12d-61b76f50b51f",
   "metadata": {},
   "outputs": [],
   "source": [
    "titanic2 = titanic[(titanic['Fare'] < high_border) & (titanic['Fare'] > low_border)]"
   ]
  },
  {
   "cell_type": "code",
   "execution_count": null,
   "id": "ddeb71f8-d29a-4be9-a902-de6e6460761b",
   "metadata": {},
   "outputs": [],
   "source": [
    "# 이상치 판단 2) zscore : 평균에서 떨어진 정도로 이상치 검출, 2~3의 값으로 검출\n",
    "import numpy as np\n",
    "z_score = np.abs(titanic['Fare'] - titanic['Fare'].mean()) / titanic['Fare'].std()\n",
    "titanic3 = titanic[z_score < 2.5] "
   ]
  },
  {
   "cell_type": "code",
   "execution_count": null,
   "id": "cb57f4f8-57c3-40cd-bb78-273d46d6aa4e",
   "metadata": {},
   "outputs": [],
   "source": [
    "# 숫자 vs 숫자 상관관계 분\n",
    "from scipy import stats\n",
    "stats.pearsonr(air['Temp'], air['Ozone']) "
   ]
  },
  {
   "cell_type": "code",
   "execution_count": null,
   "id": "012f346b-3da7-42db-b1fd-8506670fcf27",
   "metadata": {},
   "outputs": [],
   "source": [
    "# 상관관계 분석 \n",
    "corr = air.corr(numeric_only=True)\n",
    "import seaborn as sns\n",
    "sns.heatmap(corr, vmin=-1, vmax=1, annot=True)"
   ]
  },
  {
   "cell_type": "code",
   "execution_count": null,
   "id": "89bf2f57-90f2-4e0f-b737-ffdd8df69fd2",
   "metadata": {},
   "outputs": [],
   "source": [
    "# 범주 vs 범주 : 상관관계-교차\n",
    "pd.crosstab(titanic['Survived'], titanic['Sex'])"
   ]
  },
  {
   "cell_type": "code",
   "execution_count": null,
   "id": "86447f44-b641-4d46-a32d-e5dd1d78aaa0",
   "metadata": {},
   "outputs": [],
   "source": [
    "pd.crosstab(titanic['Survived'], titanic['Sex'], normalize='columns') # normalize 값에 따른 차이 비교할 "
   ]
  },
  {
   "cell_type": "code",
   "execution_count": null,
   "id": "1974e621-a058-4a50-9efc-512c60ce0341",
   "metadata": {},
   "outputs": [],
   "source": [
    "# 범주 vs 범주 카이제곱 분\n",
    "result = stats.chi2_contingency(table)\n",
    "print('카이제곱통계량 :', result[0])\n",
    "print('P-value :', result[1])\n",
    "print('기대빈도 :\\n', result[3])"
   ]
  },
  {
   "cell_type": "code",
   "execution_count": null,
   "id": "b0124c1f-f78d-4408-9d13-4ae7eebd040a",
   "metadata": {},
   "outputs": [],
   "source": [
    "# 신뢰구간 계산\n",
    "confidence_interval = [age.mean() - 1.96 * std / np.sqrt(n - 1), age.mean() + 1.96 * std / \n",
    "np.sqrt(n - 1)]\n",
    "print(f\"표본평균: {age.mean()}\")\n",
    "print(f\"신뢰구간: {confidence_interval}\")"
   ]
  },
  {
   "cell_type": "code",
   "execution_count": null,
   "id": "251fa71f-181f-442d-929f-55601fe9eaa3",
   "metadata": {},
   "outputs": [],
   "source": [
    "# 단일표본 t검정(one-sample T-fest)\n",
    "print(stats.ttest_1samp(s0, titanic['Age'].mean()))\n",
    "print(stats.ttest_1samp(s1, titanic['Age'].mean()))"
   ]
  },
  {
   "cell_type": "code",
   "execution_count": null,
   "id": "462979e5-92e3-4859-ad7d-6d59e265ef46",
   "metadata": {},
   "outputs": [],
   "source": [
    "# 정규성 검정\n",
    "print(stats.shapiro(s0))\n",
    "print(stats.shapiro(s1)"
   ]
  },
  {
   "cell_type": "code",
   "execution_count": null,
   "id": "b04b8e57-6e23-4156-98b4-9b905339de9c",
   "metadata": {},
   "outputs": [],
   "source": [
    "# 등분산 검\n",
    "print(stats.bartlett(s0, s1))\n",
    "print(stats.levene(s0, s1))\n",
    "print(stats.fligner(s0, s1))"
   ]
  },
  {
   "cell_type": "code",
   "execution_count": null,
   "id": "ef9119d7-7fc3-4bd3-8cee-259b08f712bd",
   "metadata": {},
   "outputs": [],
   "source": [
    "# 범주(독립) 3개 vs 숫자(종)\n",
    "stats.ttest_ind(s0, s1, equal_var = False) "
   ]
  },
  {
   "cell_type": "code",
   "execution_count": null,
   "id": "136f6049-ca26-46bd-b21d-e0f377b715e1",
   "metadata": {},
   "outputs": [],
   "source": [
    "# f 검정(ANOVA) : 독립(숫자 3개), 숫자(종속)\n",
    "stats.f_oneway(p1, p2, p3)"
   ]
  },
  {
   "cell_type": "code",
   "execution_count": null,
   "id": "b063adf7-c0a4-46e4-8bae-268280ea729d",
   "metadata": {},
   "outputs": [],
   "source": [
    "# 로지스틱 회귀모델\n",
    "import statsmodels.api as sm\n",
    "model = sm.Logit(titanic2['Survived'], titanic2['Age'])\n",
    "result = model.fit()\n",
    "print(result.pvalues"
   ]
  },
  {
   "cell_type": "code",
   "execution_count": null,
   "id": "a2f3e969-c5c4-43f1-8cfa-2fafe0c9a11e",
   "metadata": {},
   "outputs": [],
   "source": []
  },
  {
   "cell_type": "code",
   "execution_count": null,
   "id": "519001b3-a825-4464-926a-f4701ac30ebc",
   "metadata": {},
   "outputs": [],
   "source": []
  },
  {
   "cell_type": "code",
   "execution_count": null,
   "id": "01324e8d-821f-45ff-bfd0-5009d96ca503",
   "metadata": {},
   "outputs": [],
   "source": []
  },
  {
   "cell_type": "code",
   "execution_count": null,
   "id": "304cfcf3-dbf0-4d30-a4f3-5eaa57ae46e3",
   "metadata": {},
   "outputs": [],
   "source": []
  }
 ],
 "metadata": {
  "kernelspec": {
   "display_name": "Python 3 (ipykernel)",
   "language": "python",
   "name": "python3"
  },
  "language_info": {
   "codemirror_mode": {
    "name": "ipython",
    "version": 3
   },
   "file_extension": ".py",
   "mimetype": "text/x-python",
   "name": "python",
   "nbconvert_exporter": "python",
   "pygments_lexer": "ipython3",
   "version": "3.11.5"
  }
 },
 "nbformat": 4,
 "nbformat_minor": 5
}
