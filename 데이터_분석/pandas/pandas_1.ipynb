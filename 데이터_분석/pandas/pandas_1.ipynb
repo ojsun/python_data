{
 "cells": [
  {
   "cell_type": "code",
<<<<<<< HEAD
   "execution_count": 3,
=======
   "execution_count": null,
>>>>>>> e0537eb93214ed43a8aedbdbbe81ab83c2a92b45
   "id": "7cd83800-4ab2-4d66-8b27-158ed2bed60c",
   "metadata": {},
   "outputs": [],
   "source": [
    "import pandas as pd"
   ]
  },
  {
   "cell_type": "code",
<<<<<<< HEAD
   "execution_count": 12,
=======
   "execution_count": null,
>>>>>>> e0537eb93214ed43a8aedbdbbe81ab83c2a92b45
   "id": "1de21fea-b0d5-4cfb-a187-6a5d1e31069a",
   "metadata": {
    "scrolled": true
   },
<<<<<<< HEAD
   "outputs": [
    {
     "data": {
      "text/html": [
       "<div>\n",
       "<style scoped>\n",
       "    .dataframe tbody tr th:only-of-type {\n",
       "        vertical-align: middle;\n",
       "    }\n",
       "\n",
       "    .dataframe tbody tr th {\n",
       "        vertical-align: top;\n",
       "    }\n",
       "\n",
       "    .dataframe thead th {\n",
       "        text-align: right;\n",
       "    }\n",
       "</style>\n",
       "<table border=\"1\" class=\"dataframe\">\n",
       "  <thead>\n",
       "    <tr style=\"text-align: right;\">\n",
       "      <th></th>\n",
       "      <th>지역번호</th>\n",
       "      <th>가구수</th>\n",
       "      <th>전력량</th>\n",
       "      <th>전기요금</th>\n",
       "    </tr>\n",
       "  </thead>\n",
       "  <tbody>\n",
       "    <tr>\n",
       "      <th>0</th>\n",
       "      <td>2</td>\n",
       "      <td>2827233</td>\n",
       "      <td>444</td>\n",
       "      <td>45111</td>\n",
       "    </tr>\n",
       "    <tr>\n",
       "      <th>1</th>\n",
       "      <td>3</td>\n",
       "      <td>1144913</td>\n",
       "      <td>289</td>\n",
       "      <td>29043</td>\n",
       "    </tr>\n",
       "    <tr>\n",
       "      <th>2</th>\n",
       "      <td>4</td>\n",
       "      <td>1131034</td>\n",
       "      <td>230</td>\n",
       "      <td>22436</td>\n",
       "    </tr>\n",
       "    <tr>\n",
       "      <th>3</th>\n",
       "      <td>5</td>\n",
       "      <td>380425</td>\n",
       "      <td>391</td>\n",
       "      <td>38020</td>\n",
       "    </tr>\n",
       "    <tr>\n",
       "      <th>4</th>\n",
       "      <td>6</td>\n",
       "      <td>668623</td>\n",
       "      <td>364</td>\n",
       "      <td>35245</td>\n",
       "    </tr>\n",
       "    <tr>\n",
       "      <th>5</th>\n",
       "      <td>7</td>\n",
       "      <td>425659</td>\n",
       "      <td>344</td>\n",
       "      <td>32331</td>\n",
       "    </tr>\n",
       "    <tr>\n",
       "      <th>6</th>\n",
       "      <td>8</td>\n",
       "      <td>947300</td>\n",
       "      <td>366</td>\n",
       "      <td>36274</td>\n",
       "    </tr>\n",
       "    <tr>\n",
       "      <th>7</th>\n",
       "      <td>9</td>\n",
       "      <td>2737725</td>\n",
       "      <td>361</td>\n",
       "      <td>36569</td>\n",
       "    </tr>\n",
       "    <tr>\n",
       "      <th>8</th>\n",
       "      <td>10</td>\n",
       "      <td>49394</td>\n",
       "      <td>580</td>\n",
       "      <td>57091</td>\n",
       "    </tr>\n",
       "    <tr>\n",
       "      <th>9</th>\n",
       "      <td>11</td>\n",
       "      <td>323151</td>\n",
       "      <td>353</td>\n",
       "      <td>35470</td>\n",
       "    </tr>\n",
       "    <tr>\n",
       "      <th>10</th>\n",
       "      <td>12</td>\n",
       "      <td>734723</td>\n",
       "      <td>398</td>\n",
       "      <td>40049</td>\n",
       "    </tr>\n",
       "    <tr>\n",
       "      <th>11</th>\n",
       "      <td>13</td>\n",
       "      <td>726699</td>\n",
       "      <td>249</td>\n",
       "      <td>25120</td>\n",
       "    </tr>\n",
       "    <tr>\n",
       "      <th>12</th>\n",
       "      <td>14</td>\n",
       "      <td>634696</td>\n",
       "      <td>285</td>\n",
       "      <td>28556</td>\n",
       "    </tr>\n",
       "    <tr>\n",
       "      <th>13</th>\n",
       "      <td>15</td>\n",
       "      <td>258605</td>\n",
       "      <td>221</td>\n",
       "      <td>22180</td>\n",
       "    </tr>\n",
       "    <tr>\n",
       "      <th>14</th>\n",
       "      <td>16</td>\n",
       "      <td>742285</td>\n",
       "      <td>282</td>\n",
       "      <td>27901</td>\n",
       "    </tr>\n",
       "    <tr>\n",
       "      <th>15</th>\n",
       "      <td>17</td>\n",
       "      <td>584500</td>\n",
       "      <td>268</td>\n",
       "      <td>26899</td>\n",
       "    </tr>\n",
       "  </tbody>\n",
       "</table>\n",
       "</div>"
      ],
      "text/plain": [
       "    지역번호      가구수  전력량   전기요금\n",
       "0      2  2827233  444  45111\n",
       "1      3  1144913  289  29043\n",
       "2      4  1131034  230  22436\n",
       "3      5   380425  391  38020\n",
       "4      6   668623  364  35245\n",
       "5      7   425659  344  32331\n",
       "6      8   947300  366  36274\n",
       "7      9  2737725  361  36569\n",
       "8     10    49394  580  57091\n",
       "9     11   323151  353  35470\n",
       "10    12   734723  398  40049\n",
       "11    13   726699  249  25120\n",
       "12    14   634696  285  28556\n",
       "13    15   258605  221  22180\n",
       "14    16   742285  282  27901\n",
       "15    17   584500  268  26899"
      ]
     },
     "execution_count": 12,
     "metadata": {},
     "output_type": "execute_result"
    }
   ],
   "source": [
    "df=pd.read_csv('data/ex1_지역별전기요금.csv', encoding='euc-kr', skiprows=3)\n",
    "df.head(None)\n",
    "df.columns=['지역번호','가구수','전력량','전기요금']\n",
=======
   "outputs": [],
   "source": [
    "df=pd.read_csv('data/gapminder.tsv', encoding='euc-kr', sep='\\t')\n",
>>>>>>> e0537eb93214ed43a8aedbdbbe81ab83c2a92b45
    "df"
   ]
  },
  {
   "cell_type": "code",
<<<<<<< HEAD
   "execution_count": 17,
=======
   "execution_count": null,
   "id": "d1138047-9ea7-4e53-b8b3-bf9c501cf452",
   "metadata": {},
   "outputs": [],
   "source": [
    "# 검토하기"
   ]
  },
  {
   "cell_type": "code",
   "execution_count": null,
>>>>>>> e0537eb93214ed43a8aedbdbbe81ab83c2a92b45
   "id": "6f6547fd-c7a5-43ab-8ddc-7dc593027a53",
   "metadata": {
    "scrolled": true
   },
<<<<<<< HEAD
   "outputs": [
    {
     "data": {
      "text/plain": [
       "0     2827233\n",
       "1     1144913\n",
       "2     1131034\n",
       "3      380425\n",
       "4      668623\n",
       "5      425659\n",
       "6      947300\n",
       "7     2737725\n",
       "8       49394\n",
       "9      323151\n",
       "10     734723\n",
       "11     726699\n",
       "12     634696\n",
       "13     258605\n",
       "14     742285\n",
       "15     584500\n",
       "Name: 가구수, dtype: int64"
      ]
     },
     "execution_count": 17,
     "metadata": {},
     "output_type": "execute_result"
    }
   ],
   "source": [
    "df_1=df['가구수']\n",
    "df_1"
=======
   "outputs": [],
   "source": [
    "df.columns"
>>>>>>> e0537eb93214ed43a8aedbdbbe81ab83c2a92b45
   ]
  },
  {
   "cell_type": "code",
<<<<<<< HEAD
   "execution_count": 18,
   "id": "c463b414-97a6-46ca-8479-ee5665fcb63f",
   "metadata": {},
   "outputs": [
    {
     "name": "stdout",
     "output_type": "stream",
     "text": [
      "<class 'pandas.core.frame.DataFrame'>\n",
      "RangeIndex: 16 entries, 0 to 15\n",
      "Data columns (total 4 columns):\n",
      " #   Column  Non-Null Count  Dtype\n",
      "---  ------  --------------  -----\n",
      " 0   지역번호    16 non-null     int64\n",
      " 1   가구수     16 non-null     int64\n",
      " 2   전력량     16 non-null     int64\n",
      " 3   전기요금    16 non-null     int64\n",
      "dtypes: int64(4)\n",
      "memory usage: 644.0 bytes\n"
     ]
    }
   ],
   "source": [
    "df.info()"
   ]
  },
  {
   "cell_type": "code",
   "execution_count": 19,
   "id": "5f1bf3fb-5df4-4c30-b353-0f1b4a8211a9",
   "metadata": {},
   "outputs": [
    {
     "data": {
      "text/plain": [
       "(16, 4)"
      ]
     },
     "execution_count": 19,
     "metadata": {},
     "output_type": "execute_result"
    }
   ],
   "source": [
    "df.shape"
   ]
=======
   "execution_count": null,
   "id": "bc7a0899-c710-44da-ae0b-7e088c72bf4a",
   "metadata": {
    "scrolled": true
   },
   "outputs": [],
   "source": [
    "df.shape"
   ]
  },
  {
   "cell_type": "code",
   "execution_count": null,
   "id": "4687d860-6684-455e-b02f-6bdf9a220bff",
   "metadata": {},
   "outputs": [],
   "source": [
    "df.index"
   ]
>>>>>>> e0537eb93214ed43a8aedbdbbe81ab83c2a92b45
  },
  {
   "cell_type": "code",
   "execution_count": null,
   "id": "4029e4eb",
   "metadata": {},
   "outputs": [],
   "source": [
    "df.dtypes"
   ]
  },
  {
   "cell_type": "code",
   "execution_count": null,
   "id": "fd00251c",
   "metadata": {},
   "outputs": [],
   "source": []
  },
  {
   "cell_type": "code",
   "execution_count": null,
   "id": "542d2572",
   "metadata": {},
   "outputs": [],
   "source": []
  },
  {
   "cell_type": "code",
   "execution_count": null,
   "id": "1bf27edd",
   "metadata": {},
   "outputs": [],
   "source": [
    "df.info()"
   ]
  },
  {
   "cell_type": "code",
   "execution_count": null,
   "id": "bddffb66-22c3-4776-a464-e3eea17633b0",
   "metadata": {},
   "outputs": [],
   "source": [
    "# 활용하기"
   ]
  },
  {
   "cell_type": "code",
   "execution_count": 33,
   "id": "21a5cb31-c0da-41f5-9a18-129b1f8f1d1a",
   "metadata": {},
   "outputs": [
    {
     "data": {
      "text/plain": [
       "0       Afghanistan\n",
       "1       Afghanistan\n",
       "2       Afghanistan\n",
       "3       Afghanistan\n",
       "4       Afghanistan\n",
       "           ...     \n",
       "1699       Zimbabwe\n",
       "1700       Zimbabwe\n",
       "1701       Zimbabwe\n",
       "1702       Zimbabwe\n",
       "1703       Zimbabwe\n",
       "Name: country, Length: 1704, dtype: object"
      ]
     },
     "execution_count": 33,
     "metadata": {},
     "output_type": "execute_result"
    }
   ],
   "source": [
    "country_df=df['country']\n",
    "country_df"
   ]
  },
  {
   "cell_type": "code",
   "execution_count": 37,
   "id": "e19471ba-d215-44d5-ab39-447fac370811",
   "metadata": {},
   "outputs": [
    {
     "data": {
      "text/html": [
       "<div>\n",
       "<style scoped>\n",
       "    .dataframe tbody tr th:only-of-type {\n",
       "        vertical-align: middle;\n",
       "    }\n",
       "\n",
       "    .dataframe tbody tr th {\n",
       "        vertical-align: top;\n",
       "    }\n",
       "\n",
       "    .dataframe thead th {\n",
       "        text-align: right;\n",
       "    }\n",
       "</style>\n",
       "<table border=\"1\" class=\"dataframe\">\n",
       "  <thead>\n",
       "    <tr style=\"text-align: right;\">\n",
       "      <th></th>\n",
       "      <th>country</th>\n",
       "      <th>continent</th>\n",
       "      <th>year</th>\n",
       "    </tr>\n",
       "  </thead>\n",
       "  <tbody>\n",
       "    <tr>\n",
       "      <th>0</th>\n",
       "      <td>Afghanistan</td>\n",
       "      <td>Asia</td>\n",
       "      <td>1952</td>\n",
       "    </tr>\n",
       "    <tr>\n",
       "      <th>1</th>\n",
       "      <td>Afghanistan</td>\n",
       "      <td>Asia</td>\n",
       "      <td>1957</td>\n",
       "    </tr>\n",
       "    <tr>\n",
       "      <th>2</th>\n",
       "      <td>Afghanistan</td>\n",
       "      <td>Asia</td>\n",
       "      <td>1962</td>\n",
       "    </tr>\n",
       "    <tr>\n",
       "      <th>3</th>\n",
       "      <td>Afghanistan</td>\n",
       "      <td>Asia</td>\n",
       "      <td>1967</td>\n",
       "    </tr>\n",
       "    <tr>\n",
       "      <th>4</th>\n",
       "      <td>Afghanistan</td>\n",
       "      <td>Asia</td>\n",
       "      <td>1972</td>\n",
       "    </tr>\n",
       "    <tr>\n",
       "      <th>...</th>\n",
       "      <td>...</td>\n",
       "      <td>...</td>\n",
       "      <td>...</td>\n",
       "    </tr>\n",
       "    <tr>\n",
       "      <th>1699</th>\n",
       "      <td>Zimbabwe</td>\n",
       "      <td>Africa</td>\n",
       "      <td>1987</td>\n",
       "    </tr>\n",
       "    <tr>\n",
       "      <th>1700</th>\n",
       "      <td>Zimbabwe</td>\n",
       "      <td>Africa</td>\n",
       "      <td>1992</td>\n",
       "    </tr>\n",
       "    <tr>\n",
       "      <th>1701</th>\n",
       "      <td>Zimbabwe</td>\n",
       "      <td>Africa</td>\n",
       "      <td>1997</td>\n",
       "    </tr>\n",
       "    <tr>\n",
       "      <th>1702</th>\n",
       "      <td>Zimbabwe</td>\n",
       "      <td>Africa</td>\n",
       "      <td>2002</td>\n",
       "    </tr>\n",
       "    <tr>\n",
       "      <th>1703</th>\n",
       "      <td>Zimbabwe</td>\n",
       "      <td>Africa</td>\n",
       "      <td>2007</td>\n",
       "    </tr>\n",
       "  </tbody>\n",
       "</table>\n",
       "<p>1704 rows × 3 columns</p>\n",
       "</div>"
      ],
      "text/plain": [
       "          country continent  year\n",
       "0     Afghanistan      Asia  1952\n",
       "1     Afghanistan      Asia  1957\n",
       "2     Afghanistan      Asia  1962\n",
       "3     Afghanistan      Asia  1967\n",
       "4     Afghanistan      Asia  1972\n",
       "...           ...       ...   ...\n",
       "1699     Zimbabwe    Africa  1987\n",
       "1700     Zimbabwe    Africa  1992\n",
       "1701     Zimbabwe    Africa  1997\n",
       "1702     Zimbabwe    Africa  2002\n",
       "1703     Zimbabwe    Africa  2007\n",
       "\n",
       "[1704 rows x 3 columns]"
      ]
     },
     "execution_count": 37,
     "metadata": {},
     "output_type": "execute_result"
    }
   ],
   "source": [
    "subset=df[['country','continent','year']]\n",
    "subset"
   ]
  },
  {
   "cell_type": "code",
   "execution_count": null,
   "id": "2350e091-fac1-46aa-9d73-ae6bd9af1801",
   "metadata": {},
   "outputs": [],
   "source": []
  },
  {
   "cell_type": "code",
   "execution_count": null,
   "id": "ca534f9f-a93a-41ae-a800-04f199249a5c",
   "metadata": {},
   "outputs": [],
   "source": []
  },
  {
   "cell_type": "code",
   "execution_count": null,
   "id": "f10198bf-30a0-406e-87e2-06b51ad2b0e7",
   "metadata": {},
   "outputs": [],
   "source": []
  },
  {
   "cell_type": "code",
   "execution_count": null,
   "id": "733f4c93-1331-46de-8120-b7e4bb008269",
   "metadata": {},
   "outputs": [],
   "source": []
  },
  {
   "cell_type": "code",
   "execution_count": null,
   "id": "338cd7b0-8b60-4dce-a216-60b7b226a3f9",
   "metadata": {},
   "outputs": [],
   "source": []
  }
 ],
 "metadata": {
  "kernelspec": {
   "display_name": "Python 3 (ipykernel)",
   "language": "python",
   "name": "python3"
  },
  "language_info": {
   "codemirror_mode": {
    "name": "ipython",
    "version": 3
   },
   "file_extension": ".py",
   "mimetype": "text/x-python",
   "name": "python",
   "nbconvert_exporter": "python",
   "pygments_lexer": "ipython3",
   "version": "3.11.5"
  }
 },
 "nbformat": 4,
 "nbformat_minor": 5
}
