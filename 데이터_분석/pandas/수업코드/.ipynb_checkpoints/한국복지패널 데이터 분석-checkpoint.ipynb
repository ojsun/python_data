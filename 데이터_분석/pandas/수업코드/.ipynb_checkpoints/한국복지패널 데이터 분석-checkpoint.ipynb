{
 "cells": [
  {
   "cell_type": "code",
   "execution_count": null,
   "id": "2588f518",
   "metadata": {},
   "outputs": [],
   "source": [
    "!pip install pyreadstat"
   ]
  },
  {
   "cell_type": "code",
   "execution_count": null,
   "id": "63d40ba4-282b-4bd0-8cb3-f506f6e59de1",
   "metadata": {},
   "outputs": [],
   "source": [
    "pip install --upgrade pip"
   ]
  },
  {
   "cell_type": "code",
   "execution_count": null,
   "id": "38789df6-0917-4f27-b8f2-9e63c6d9932b",
   "metadata": {},
   "outputs": [],
   "source": [
    "import numpy as np\n",
    "import pandas as pd\n",
    "import seaborn as sns\n",
    "from scipy import stats\n",
    "import warnings\n",
    "\n",
    "warnings.filterwarnings('ignore')\n",
    "sns.set_palette('gist_heat')"
   ]
  },
  {
   "cell_type": "code",
   "execution_count": 161,
   "id": "9abb9a74-de13-4bff-b92c-c862dea15c30",
   "metadata": {},
   "outputs": [],
   "source": [
    "import matplotlib.pyplot as plt\n",
    "plt.rcParams[\"figure.figsize\"] = (9,5)\n",
    "plt.rcParams['font.size'] = 12"
   ]
  },
  {
   "cell_type": "code",
   "execution_count": null,
   "id": "ea3e9be4",
   "metadata": {},
   "outputs": [],
   "source": [
    "import pandas as pd\n",
    "#pd.read_stata('../data/koweps_hpwc14_2019_beta4.dta')"
   ]
  },
  {
   "cell_type": "markdown",
   "id": "9d1c96d9",
   "metadata": {},
   "source": [
    "### [데이터 확인](https://raw.githubusercontent.com/kim-juwan/koweps/main/Koweps_hpwc14_2019.csv?token=GHSAT0AAAAAACBGH73WOWETG4BV5W2GA3ICZBTL2IA)\n",
    "* 한국복지패털 데이터는 한국보건사회연구원에서 우리나라 가구의 경제활동을 연구해 복지정책에 반영할 목적으로 발간하는 조사 자료\n",
    "* 2006년부터 매년 전국에서 7,000여 가구를 선정해 경제활동, 생활실태, 복지욕구 등 조사하여 여러 변수로 제공되고 있다.\n",
    "* 위 데이터는 2019년 데이터로 6,331가구, 14,418명의 정보를 담고 있다.\n",
    "* *변수 설명 (Codebook 참고)*\n",
    "    - gender : 성별\n",
    "    - birth : 태어난 해\n",
    "    - marriage_type : 결혼, 이혼 여부\n",
    "    - religion : 종교 여부\n",
    "    - imcome : 월수입, 한달 임금, 월급\n",
    "    - code_job : 직업 코드\n",
    "    - code_region : 지역 코드"
   ]
  },
  {
   "cell_type": "code",
   "execution_count": null,
   "id": "84ae2f61",
   "metadata": {},
   "outputs": [],
   "source": [
    "welfare = pd.read_csv('../data/Koweps_hpwc14_2019.csv')\n",
    "welfare.head()"
   ]
  },
  {
   "cell_type": "code",
   "execution_count": null,
   "id": "531879c2",
   "metadata": {},
   "outputs": [],
   "source": [
    "welfare.info()"
   ]
  },
  {
   "cell_type": "code",
   "execution_count": null,
   "id": "bbefb844",
   "metadata": {},
   "outputs": [],
   "source": [
    "welfare.describe()"
   ]
  },
  {
   "cell_type": "code",
   "execution_count": null,
   "id": "dd63b902",
   "metadata": {},
   "outputs": [],
   "source": [
    "code_job = pd.read_csv('../data/Koweps_code_job_2019.csv', encoding='euc-kr')\n",
    "code_job"
   ]
  },
  {
   "cell_type": "code",
   "execution_count": null,
   "id": "6be58911",
   "metadata": {},
   "outputs": [],
   "source": [
    "welfare.columns"
   ]
  },
  {
   "cell_type": "code",
   "execution_count": null,
   "id": "02cf0639",
   "metadata": {},
   "outputs": [],
   "source": [
    "code_job.columns"
   ]
  },
  {
   "cell_type": "code",
   "execution_count": null,
   "id": "62c50320",
   "metadata": {},
   "outputs": [],
   "source": [
    "welfare = welfare.merge(code_job, on = 'code_job', how='left')\n",
    "welfare.head()"
   ]
  },
  {
   "cell_type": "code",
   "execution_count": null,
   "id": "f4ce1409",
   "metadata": {},
   "outputs": [],
   "source": [
    "welfare.isnull().sum()"
   ]
  },
  {
   "cell_type": "code",
   "execution_count": null,
   "id": "760c8564",
   "metadata": {},
   "outputs": [],
   "source": [
    "# income 컬럼, code_job, job 컬럼\n",
    "# 미성년자, 학생, 무직, 정년퇴임 등등 다양한 이유로 직업이 없을 수 있음\n",
    "\n",
    "# income과 code_job, job 컬럼의 누락값 개수가 차이 나는 이유\n",
    "# 휴직 등 기타 이유로 현재 수입이 없는 상태면서 직업만 있는 상태 일수 있음"
   ]
  },
  {
   "cell_type": "code",
   "execution_count": null,
   "id": "e303b73b",
   "metadata": {},
   "outputs": [],
   "source": [
    "# 누락값 처리 : 딱히 없다. "
   ]
  },
  {
   "cell_type": "code",
   "execution_count": null,
   "id": "3642204a",
   "metadata": {},
   "outputs": [],
   "source": [
    "# 이상치 : 들어가면 안될 값의 유무의 확인\n",
    "welfare[welfare['gender'] == 9]"
   ]
  },
  {
   "cell_type": "code",
   "execution_count": null,
   "id": "b1250839",
   "metadata": {},
   "outputs": [],
   "source": [
    "welfare['gender'].unique()"
   ]
  },
  {
   "cell_type": "code",
   "execution_count": null,
   "id": "37d79296",
   "metadata": {},
   "outputs": [],
   "source": [
    "welfare[welfare['birth'].isin([9999])]"
   ]
  },
  {
   "cell_type": "code",
   "execution_count": null,
   "id": "8debfd67",
   "metadata": {},
   "outputs": [],
   "source": [
    "welfare[welfare['income'].isin([0])]"
   ]
  },
  {
   "cell_type": "code",
   "execution_count": null,
   "id": "bd8ff9bc",
   "metadata": {},
   "outputs": [],
   "source": [
    "# 그래프 크기 조절\n",
    "import matplotlib.pyplot as plt\n",
    "plt.rcParams[\"figure.figsize\"] = (4,2)\n",
    "# 한글 폰트 적용\n",
    "from matplotlib import font_manager, rc\n",
    "font = 'C:/Windows/Fonts/malgun.ttf'\n",
    "font_name = font_manager.FontProperties(fname=font).get_name()\n",
    "rc('font', family=font_name)"
   ]
  },
  {
   "cell_type": "code",
   "execution_count": null,
   "id": "6a968eef",
   "metadata": {},
   "outputs": [],
   "source": [
    "import seaborn as sns\n",
    "sns.boxplot(x = welfare['income'])"
   ]
  },
  {
   "cell_type": "code",
   "execution_count": null,
   "id": "ea5eac39",
   "metadata": {},
   "outputs": [],
   "source": [
    "IQR = welfare['income'].quantile(q = 0.75) - welfare['income'].quantile(q = 0.25)\n",
    "high_border = welfare['income'].quantile(q = 0.75) + 1.5 * IQR\n",
    "print(high_border)"
   ]
  },
  {
   "cell_type": "code",
   "execution_count": null,
   "id": "53b703f7",
   "metadata": {},
   "outputs": [],
   "source": [
    "# welfare['gender'].apply(lambda x : '남자' if x == 1 else '여자')\n",
    "def gender_convert(x):\n",
    "    if x == 1:\n",
    "        return '남자'\n",
    "    else:\n",
    "        return '여자'\n",
    "welfare['gender2'] = welfare['gender'].apply(gender_convert)\n",
    "welfare.head()"
   ]
  },
  {
   "cell_type": "code",
   "execution_count": null,
   "id": "449a1c50",
   "metadata": {},
   "outputs": [],
   "source": [
    "welfare['gender2'].value_counts()"
   ]
  },
  {
   "cell_type": "code",
   "execution_count": null,
   "id": "e0afe6b4",
   "metadata": {},
   "outputs": [],
   "source": [
    "sns.countplot(data = welfare, x = 'gender2')"
   ]
  },
  {
   "cell_type": "code",
   "execution_count": null,
   "id": "bcb59b94",
   "metadata": {},
   "outputs": [],
   "source": [
    "sns.histplot(data = welfare, x = 'birth', kde = True)"
   ]
  },
  {
   "cell_type": "code",
   "execution_count": null,
   "id": "9a76fede",
   "metadata": {},
   "outputs": [],
   "source": [
    "welfare['age'] = 2019 - welfare['birth'] - 1\n",
    "welfare.head()"
   ]
  },
  {
   "cell_type": "code",
   "execution_count": null,
   "id": "36667b1f",
   "metadata": {},
   "outputs": [],
   "source": [
    "welfare['age'].describe()"
   ]
  },
  {
   "cell_type": "code",
   "execution_count": null,
   "id": "79bff835",
   "metadata": {},
   "outputs": [],
   "source": [
    "welfare['age'].plot.hist()"
   ]
  },
  {
   "cell_type": "code",
   "execution_count": null,
   "id": "cfe03121",
   "metadata": {},
   "outputs": [],
   "source": [
    "welfare.columns"
   ]
  },
  {
   "cell_type": "code",
   "execution_count": null,
   "id": "022d83a4",
   "metadata": {},
   "outputs": [],
   "source": [
    "# 결혼유무\n",
    "def marriage_convert(x):\n",
    "    if (x == 0) or (x == 5):\n",
    "        return '미혼'\n",
    "    elif x == 1:\n",
    "        return '기혼'\n",
    "    elif (x == 2) or (x == 4) or (x == 6):\n",
    "        return '기타'\n",
    "    else:\n",
    "        return '이혼'\n",
    "    \n",
    "    \n",
    "welfare['marriage'] = welfare['marriage_type'].apply(marriage_convert)"
   ]
  },
  {
   "cell_type": "code",
   "execution_count": null,
   "id": "8e6959b4",
   "metadata": {},
   "outputs": [],
   "source": [
    "m_cnt = welfare['marriage'].value_counts()\n",
    "m_cnt"
   ]
  },
  {
   "cell_type": "code",
   "execution_count": null,
   "id": "8372d48f",
   "metadata": {},
   "outputs": [],
   "source": [
    "plt.pie(m_cnt.values, labels=m_cnt.index, autopct='%.2f %%')\n",
    "plt.show()"
   ]
  },
  {
   "cell_type": "code",
   "execution_count": null,
   "id": "8b14f387",
   "metadata": {},
   "outputs": [],
   "source": [
    "j_cnt5 = welfare['job'].value_counts().head()"
   ]
  },
  {
   "cell_type": "code",
   "execution_count": null,
   "id": "549d809e",
   "metadata": {},
   "outputs": [],
   "source": [
    "sns.countplot(data = welfare, x = 'job')"
   ]
  },
  {
   "cell_type": "code",
   "execution_count": null,
   "id": "ae21cc1f",
   "metadata": {},
   "outputs": [],
   "source": [
    "plt.barh(j_cnt5.index, j_cnt5.values)\n",
    "plt.xticks(rotation = 90)\n",
    "plt.show()"
   ]
  },
  {
   "cell_type": "code",
   "execution_count": null,
   "id": "97dc2760",
   "metadata": {},
   "outputs": [],
   "source": [
    "# 1, 2 : 수도권, 나머지 : 지방\n",
    "def region_convert(x):\n",
    "    if x <= 2:\n",
    "        return '수도권'\n",
    "    else:\n",
    "        return '지방'\n",
    "welfare['region'] = welfare['code_region'].apply(region_convert)"
   ]
  },
  {
   "cell_type": "code",
   "execution_count": null,
   "id": "e738773e",
   "metadata": {},
   "outputs": [],
   "source": [
    "welfare.head()"
   ]
  },
  {
   "cell_type": "code",
   "execution_count": null,
   "id": "d1e8b640",
   "metadata": {},
   "outputs": [],
   "source": [
    "# 범주형 : 성별, 결혼유무, 종교유무, 직업, 지역\n",
    "# 수치형 : 나이, 월급\n",
    "# 1. 성별에 따른 월급 차이가 있을까?\n",
    "# 2. 나이에 따른 월급 차이가 있을까?"
   ]
  },
  {
   "cell_type": "markdown",
   "id": "64f1270f",
   "metadata": {},
   "source": [
    "* 3.2.1. 성별에 따른 임금 차이가 날까? (남녀 임금이 다를까?)\n",
    "* 3.2.2. 나이에 따라 임금 차이가 날까? (임금이 가장 높은 나이가 언제일까?)\n",
    "* 3.2.3. 나이에 따라 임금 차이가 날까? (어느 나이대가 임금이 높을까?)\n",
    "* 3.2.4. 성별과 연령대에 따라 임금 차이가 날까? (남녀 임금의 차이가 연령대에 따라 차이가 있을까?)\n",
    "* 3.2.5. 지역에 따라 임금 차이가 날까? (수도권이 비수도권보다 임금이 높을까?)\n",
    "* 3.2.6. 남여에 따라 선호 직업에 차이가 날까? (남녀별로 어떤 직업이 선호도가 높을까?)\n",
    "* 3.2.7. 종교 유무에 따른 이혼율의 차이가 날까? (종교가 있으면 가정사에 문제가 있을까?)"
   ]
  },
  {
   "cell_type": "code",
   "execution_count": null,
   "id": "ac998ac1",
   "metadata": {},
   "outputs": [],
   "source": [
    "# 1. 성별에 따른 임금 차이가 날까? (남녀 임금이 다를까?)"
   ]
  },
  {
   "cell_type": "code",
   "execution_count": 135,
   "id": "a5809934",
   "metadata": {},
   "outputs": [
    {
     "data": {
      "text/plain": [
       "gender2\n",
       "남자    349.037571\n",
       "여자    186.293096\n",
       "Name: income, dtype: float64"
      ]
     },
     "execution_count": 135,
     "metadata": {},
     "output_type": "execute_result"
    }
   ],
   "source": [
    "# 독립변수 : 성별(범주형), 종속변수 : 월급(수치형)\n",
    "# 1. 기초통계량 (평균 비교)\n",
    "welfare.groupby('gender2')['income'].mean()"
   ]
  },
  {
   "cell_type": "code",
   "execution_count": 136,
   "id": "9012c552",
   "metadata": {},
   "outputs": [
    {
     "data": {
      "text/plain": [
       "<Axes: xlabel='gender2', ylabel='income'>"
      ]
     },
     "execution_count": 136,
     "metadata": {},
     "output_type": "execute_result"
    },
    {
     "data": {
      "image/png": "[encoded data removed]",
      "text/plain": [
       "<Figure size 700x500 with 1 Axes>"
      ]
     },
     "metadata": {},
     "output_type": "display_data"
    }
   ],
   "source": [
    "# 2. 그래프 (barplot - 평균)\n",
    "sns.barplot(data = welfare, x = 'gender2', y = 'income')"
   ]
  },
  {
   "cell_type": "code",
   "execution_count": null,
   "id": "ca5c55d9",
   "metadata": {},
   "outputs": [],
   "source": [
    "# 집단으로 데이터 나누기\n",
    "male_income = welfare[welfare['gender2'] == '남자']['income'].dropna()\n",
    "female_income = welfare[welfare['gender2'] == '여자']['income'].dropna()"
   ]
  },
  {
   "cell_type": "code",
   "execution_count": null,
   "id": "aa44e482",
   "metadata": {},
   "outputs": [],
   "source": [
    "# 3. 가설검정 (독립표본 t 검정, 맨휘트니유 검정)\n",
    "# 정규성, 등분산성\n",
    "from scipy import stats\n",
    "print(stats.shapiro(male_income))\n",
    "print(stats.shapiro(female_income))\n",
    "# 결과가 정규성을 가지지 않으므로 비모수 검정(맨휘트니유 검정)\n",
    "stats.mannwhitneyu(male_income, female_income)\n",
    "\n",
    "# 대립가설 채택 > 성별에 따른 임금차이가 있다."
   ]
  },
  {
   "cell_type": "code",
   "execution_count": null,
   "id": "2937c983",
   "metadata": {},
   "outputs": [],
   "source": [
    "# 2. 나이에 따라 임금 차이가 날까? (임금이 가장 높은 나이가 언제일까?)\n",
    "# 독립변수 : 나이(수치형), 종속변수 : 임금(수치형)\n",
    "# 상관분석, 회귀분석\n",
    "# 1. 그래프 : scatter + regresion\n",
    "sns.regplot(data = welfare, x = 'age', y = 'income')"
   ]
  },
  {
   "cell_type": "code",
   "execution_count": 134,
   "id": "528a9a40",
   "metadata": {},
   "outputs": [
    {
     "data": {
      "text/plain": [
       "PearsonRResult(statistic=-0.21951593061416538, pvalue=1.3433206200945265e-50)"
      ]
     },
     "execution_count": 134,
     "metadata": {},
     "output_type": "execute_result"
    }
   ],
   "source": [
    "# 2. 상관분석 : pearsonr\n",
    "\n",
    "welfare2 = welfare[['age', 'income']].dropna()\n",
    "stats.pearsonr(welfare2['age'], welfare2['income'])"
   ]
  },
  {
   "cell_type": "code",
   "execution_count": 133,
   "id": "8284317a",
   "metadata": {},
   "outputs": [
    {
     "data": {
      "text/html": [
       "<div>\n",
       "<style scoped>\n",
       "    .dataframe tbody tr th:only-of-type {\n",
       "        vertical-align: middle;\n",
       "    }\n",
       "\n",
       "    .dataframe tbody tr th {\n",
       "        vertical-align: top;\n",
       "    }\n",
       "\n",
       "    .dataframe thead th {\n",
       "        text-align: right;\n",
       "    }\n",
       "</style>\n",
       "<table border=\"1\" class=\"dataframe\">\n",
       "  <thead>\n",
       "    <tr style=\"text-align: right;\">\n",
       "      <th></th>\n",
       "      <th>age</th>\n",
       "      <th>income</th>\n",
       "    </tr>\n",
       "  </thead>\n",
       "  <tbody>\n",
       "    <tr>\n",
       "      <th>age</th>\n",
       "      <td>1.000000</td>\n",
       "      <td>-0.219516</td>\n",
       "    </tr>\n",
       "    <tr>\n",
       "      <th>income</th>\n",
       "      <td>-0.219516</td>\n",
       "      <td>1.000000</td>\n",
       "    </tr>\n",
       "  </tbody>\n",
       "</table>\n",
       "</div>"
      ],
      "text/plain": [
       "             age    income\n",
       "age     1.000000 -0.219516\n",
       "income -0.219516  1.000000"
      ]
     },
     "execution_count": 133,
     "metadata": {},
     "output_type": "execute_result"
    }
   ],
   "source": [
    "welfare2.corr()"
   ]
  },
  {
   "cell_type": "code",
   "execution_count": null,
   "id": "3f9d9963",
   "metadata": {},
   "outputs": [],
   "source": [
    "# 3. 나이에 따라 임금 차이가 날까? (어느 나이대가 임금이 높을까?)\n",
    "\n",
    "def age_convert(x):\n",
    "    if x <= 19:\n",
    "        return 'teenager'\n",
    "    elif x <= 40:\n",
    "        return 'young'\n",
    "    elif x <= 65:\n",
    "        return 'senior'\n",
    "    else:\n",
    "        return 'old'\n",
    "    \n",
    "welfare['age_group'] = welfare['age'].apply(age_convert)\n",
    "# 독립변수 : 연령대(범주형), 종속변수 : 임금(수치형)\n",
    "\n",
    "yng_income = welfare[welfare['age_group'] == 'young']['income'].dropna()\n",
    "snr_income = welfare[welfare['age_group'] == 'senior']['income'].dropna()"
   ]
  },
  {
   "cell_type": "code",
   "execution_count": null,
   "id": "494866e9",
   "metadata": {},
   "outputs": [],
   "source": [
    "print(stats.shapiro(yng_income))\n",
    "print(stats.shapiro(snr_income))\n",
    "# 정규성을 가지지 않으므로 비모수 검정\n",
    "\n",
    "stats.mannwhitneyu(yng_income, snr_income)\n",
    "# p-value가 0.05크므로 귀무가설 기각하지 않는다.\n",
    "# 두 집단간의 차이가 없다."
   ]
  },
  {
   "cell_type": "code",
   "execution_count": null,
   "id": "1618fdcd",
   "metadata": {},
   "outputs": [],
   "source": [
    "sns.barplot(data=welfare, x = 'age_group', y = 'income')"
   ]
  },
  {
   "cell_type": "code",
   "execution_count": null,
   "id": "8595c6fe",
   "metadata": {},
   "outputs": [],
   "source": [
    "sns.lineplot(data= welfare, x = 'age', y = 'income', hue='gender2')\n",
    "plt.title('나이 증가에 따른 남녀 임금 차이')"
   ]
  },
  {
   "cell_type": "code",
   "execution_count": null,
   "id": "412f6082",
   "metadata": {},
   "outputs": [],
   "source": [
    "# 3_2_4\n",
    "#welfare.birth > 'age'\n",
    "welfare.age = 2019 - welfare.birth"
   ]
  },
  {
   "cell_type": "code",
   "execution_count": null,
   "id": "c1e346fc-f40c-439c-874f-473e2fc0946c",
   "metadata": {},
   "outputs": [],
   "source": [
    "def age_convert(x):\n",
    "    if x <= 19:\n",
    "        return 'teenager'\n",
    "    elif x <= 40:\n",
    "        return 'young'\n",
    "    elif x <= 65:\n",
    "        return 'senior'\n",
    "    else:\n",
    "        return 'old'\n",
    "    \n",
    "welfare['age_group'] = welfare['age'].apply(age_convert)"
   ]
  },
  {
   "cell_type": "code",
   "execution_count": null,
   "id": "816b7a0a-827e-48e1-8293-7e38537301d0",
   "metadata": {},
   "outputs": [],
   "source": [
    "welfare"
   ]
  },
  {
   "cell_type": "code",
   "execution_count": null,
   "id": "157246c2-fd00-4f6c-ab4e-a5e628e3be06",
   "metadata": {},
   "outputs": [],
   "source": [
    "welfare.groupby(['gender2','age_group'])['income'].mean()"
   ]
  },
  {
   "cell_type": "code",
   "execution_count": null,
   "id": "a5e6f510-1e4b-4e93-9916-2a5d546319fd",
   "metadata": {},
   "outputs": [],
   "source": [
    "sns.barplot(data=welfare, x='gender2', y='income', hue='age_group')"
   ]
  },
  {
   "cell_type": "code",
   "execution_count": null,
   "id": "e9f7fd96-61e8-40cb-b7e4-1a60e569ee1f",
   "metadata": {},
   "outputs": [],
   "source": [
    "sns.barplot(data=welfare, x='age_group', y='income', hue='gender2')"
   ]
  },
  {
   "cell_type": "code",
   "execution_count": null,
   "id": "2379efac-e89e-4d3e-855f-8f7d6ccf13bb",
   "metadata": {},
   "outputs": [],
   "source": [
    "# 집단 나누고 -> 정규성 -> 독립성 -> 등분산성\n",
    "m_young=welfare.groupby(['gender2','age_group'])['income'].get_group(('남자','young')) \n",
    "f_young=welfare.groupby(['gender2','age_group'])['income'].get_group(('여자','young'))\n",
    "# get_group 함수 안에 튜플로 넣어야 함\n",
    "# groups() 함수는 딕셔너리 값으로 줌 -불편  welfare.groupby(['gender2','age_group'])['income'].groups"
   ]
  },
  {
   "cell_type": "code",
   "execution_count": null,
   "id": "ca09de3b-1257-404f-8053-31d5efa47c3a",
   "metadata": {},
   "outputs": [],
   "source": [
    "print(stats.shapiro(m_young.dropna()))\n",
    "print(stats.shapiro(f_young.dropna()))  \n",
    "# 비정규적 --> 비모수적 방법 mannwhitneyu\n",
    "stats.mannwhitneyu(m_young.dropna(), f_young.dropna())  # 차이가 없다"
   ]
  },
  {
   "cell_type": "code",
   "execution_count": null,
   "id": "c7023795-9b5c-4002-b719-24da12146f86",
   "metadata": {},
   "outputs": [],
   "source": [
    "# 성별(범주형)과 나이(수치형)에 따른 수입(수치형)차이 -그래프\n",
    "plt.subplot(2,1,1)\n",
    "sns.barplot(data=welfare, x='age', y='income', hue='gender2')\n",
    "plt.subplot(2,1,2)\n",
    "sns.scatterplot(data=welfare, x='age', y='income', hue='gender2')"
   ]
  },
  {
   "cell_type": "code",
   "execution_count": null,
   "id": "126299a5-8ca6-4873-8369-4d2eedc2dff3",
   "metadata": {},
   "outputs": [],
   "source": [
    "sns.lineplot(data=welfare, x='age', y='income', hue='gender2')  \n",
    "# 시계량데이터(주식 등) 분석에도 lineplot 사용"
   ]
  },
  {
   "cell_type": "markdown",
   "id": "ff4aacfd-1130-4cf4-87d2-2fe4ae2b3fbc",
   "metadata": {},
   "source": [
    "3.2.5. 지역에 따라 임금 차이가 날까? (수도권이 비수도권보다 임금이 높을까?)\n",
    "3.2.6. 남여에 따라 선호 직업에 차이가 날까? (남녀별로 어떤 직업이 선호도가 높을까?)\n",
    "3.2.7. 종교 유무에 따른 이혼율의 차이가 날까? (종교가 있으면 가정사에 문제가 있을까?)"
   ]
  },
  {
   "cell_type": "code",
   "execution_count": 122,
   "id": "466abd3d-3d8e-42e2-a34a-bb0f96e549b9",
   "metadata": {},
   "outputs": [
    {
     "data": {
      "text/plain": [
       "Index(['gender', 'birth', 'marriage_type', 'religion', 'income', 'code_job',\n",
       "       'code_region', 'job', 'gender2', 'age', 'marriage', 'region',\n",
       "       'age_group'],\n",
       "      dtype='object')"
      ]
     },
     "execution_count": 122,
     "metadata": {},
     "output_type": "execute_result"
    }
   ],
   "source": [
    "welfare.columns"
   ]
  },
  {
   "cell_type": "code",
   "execution_count": 124,
   "id": "55f42aef-a62b-420d-80ce-0fee34072daf",
   "metadata": {},
   "outputs": [
    {
     "data": {
      "text/plain": [
       "0        수도권\n",
       "1        수도권\n",
       "2        수도권\n",
       "3        수도권\n",
       "4        수도권\n",
       "        ... \n",
       "14413     지방\n",
       "14414     지방\n",
       "14415     지방\n",
       "14416     지방\n",
       "14417     지방\n",
       "Name: region, Length: 14418, dtype: object"
      ]
     },
     "execution_count": 124,
     "metadata": {},
     "output_type": "execute_result"
    }
   ],
   "source": [
    "welfare.region"
   ]
  },
  {
   "cell_type": "code",
   "execution_count": 125,
   "id": "d9299274-6938-4f29-b163-5df30ed91ab2",
   "metadata": {},
   "outputs": [
    {
     "data": {
      "text/html": [
       "<div>\n",
       "<style scoped>\n",
       "    .dataframe tbody tr th:only-of-type {\n",
       "        vertical-align: middle;\n",
       "    }\n",
       "\n",
       "    .dataframe tbody tr th {\n",
       "        vertical-align: top;\n",
       "    }\n",
       "\n",
       "    .dataframe thead th {\n",
       "        text-align: right;\n",
       "    }\n",
       "</style>\n",
       "<table border=\"1\" class=\"dataframe\">\n",
       "  <thead>\n",
       "    <tr style=\"text-align: right;\">\n",
       "      <th></th>\n",
       "      <th>gender</th>\n",
       "      <th>birth</th>\n",
       "      <th>marriage_type</th>\n",
       "      <th>religion</th>\n",
       "      <th>income</th>\n",
       "      <th>code_job</th>\n",
       "      <th>code_region</th>\n",
       "      <th>job</th>\n",
       "      <th>gender2</th>\n",
       "      <th>age</th>\n",
       "      <th>marriage</th>\n",
       "      <th>region</th>\n",
       "      <th>age_group</th>\n",
       "    </tr>\n",
       "  </thead>\n",
       "  <tbody>\n",
       "    <tr>\n",
       "      <th>0</th>\n",
       "      <td>2.0</td>\n",
       "      <td>1945.0</td>\n",
       "      <td>2.0</td>\n",
       "      <td>1.0</td>\n",
       "      <td>NaN</td>\n",
       "      <td>NaN</td>\n",
       "      <td>1.0</td>\n",
       "      <td>NaN</td>\n",
       "      <td>여자</td>\n",
       "      <td>74.0</td>\n",
       "      <td>기타</td>\n",
       "      <td>수도권</td>\n",
       "      <td>old</td>\n",
       "    </tr>\n",
       "    <tr>\n",
       "      <th>1</th>\n",
       "      <td>1.0</td>\n",
       "      <td>1948.0</td>\n",
       "      <td>2.0</td>\n",
       "      <td>2.0</td>\n",
       "      <td>NaN</td>\n",
       "      <td>NaN</td>\n",
       "      <td>1.0</td>\n",
       "      <td>NaN</td>\n",
       "      <td>남자</td>\n",
       "      <td>71.0</td>\n",
       "      <td>기타</td>\n",
       "      <td>수도권</td>\n",
       "      <td>old</td>\n",
       "    </tr>\n",
       "    <tr>\n",
       "      <th>2</th>\n",
       "      <td>1.0</td>\n",
       "      <td>1942.0</td>\n",
       "      <td>3.0</td>\n",
       "      <td>1.0</td>\n",
       "      <td>107.0</td>\n",
       "      <td>762.0</td>\n",
       "      <td>1.0</td>\n",
       "      <td>전기공</td>\n",
       "      <td>남자</td>\n",
       "      <td>77.0</td>\n",
       "      <td>이혼</td>\n",
       "      <td>수도권</td>\n",
       "      <td>old</td>\n",
       "    </tr>\n",
       "    <tr>\n",
       "      <th>3</th>\n",
       "      <td>1.0</td>\n",
       "      <td>1962.0</td>\n",
       "      <td>1.0</td>\n",
       "      <td>1.0</td>\n",
       "      <td>192.0</td>\n",
       "      <td>855.0</td>\n",
       "      <td>1.0</td>\n",
       "      <td>금속기계 부품 조립원</td>\n",
       "      <td>남자</td>\n",
       "      <td>57.0</td>\n",
       "      <td>기혼</td>\n",
       "      <td>수도권</td>\n",
       "      <td>senior</td>\n",
       "    </tr>\n",
       "    <tr>\n",
       "      <th>4</th>\n",
       "      <td>2.0</td>\n",
       "      <td>1963.0</td>\n",
       "      <td>1.0</td>\n",
       "      <td>1.0</td>\n",
       "      <td>NaN</td>\n",
       "      <td>NaN</td>\n",
       "      <td>1.0</td>\n",
       "      <td>NaN</td>\n",
       "      <td>여자</td>\n",
       "      <td>56.0</td>\n",
       "      <td>기혼</td>\n",
       "      <td>수도권</td>\n",
       "      <td>senior</td>\n",
       "    </tr>\n",
       "    <tr>\n",
       "      <th>...</th>\n",
       "      <td>...</td>\n",
       "      <td>...</td>\n",
       "      <td>...</td>\n",
       "      <td>...</td>\n",
       "      <td>...</td>\n",
       "      <td>...</td>\n",
       "      <td>...</td>\n",
       "      <td>...</td>\n",
       "      <td>...</td>\n",
       "      <td>...</td>\n",
       "      <td>...</td>\n",
       "      <td>...</td>\n",
       "      <td>...</td>\n",
       "    </tr>\n",
       "    <tr>\n",
       "      <th>14413</th>\n",
       "      <td>2.0</td>\n",
       "      <td>1967.0</td>\n",
       "      <td>1.0</td>\n",
       "      <td>1.0</td>\n",
       "      <td>NaN</td>\n",
       "      <td>NaN</td>\n",
       "      <td>5.0</td>\n",
       "      <td>NaN</td>\n",
       "      <td>여자</td>\n",
       "      <td>52.0</td>\n",
       "      <td>기혼</td>\n",
       "      <td>지방</td>\n",
       "      <td>senior</td>\n",
       "    </tr>\n",
       "    <tr>\n",
       "      <th>14414</th>\n",
       "      <td>2.0</td>\n",
       "      <td>1992.0</td>\n",
       "      <td>5.0</td>\n",
       "      <td>1.0</td>\n",
       "      <td>NaN</td>\n",
       "      <td>NaN</td>\n",
       "      <td>5.0</td>\n",
       "      <td>NaN</td>\n",
       "      <td>여자</td>\n",
       "      <td>27.0</td>\n",
       "      <td>미혼</td>\n",
       "      <td>지방</td>\n",
       "      <td>young</td>\n",
       "    </tr>\n",
       "    <tr>\n",
       "      <th>14415</th>\n",
       "      <td>1.0</td>\n",
       "      <td>1995.0</td>\n",
       "      <td>5.0</td>\n",
       "      <td>1.0</td>\n",
       "      <td>NaN</td>\n",
       "      <td>910.0</td>\n",
       "      <td>5.0</td>\n",
       "      <td>건설 및 광업 단순 종사자</td>\n",
       "      <td>남자</td>\n",
       "      <td>24.0</td>\n",
       "      <td>미혼</td>\n",
       "      <td>지방</td>\n",
       "      <td>young</td>\n",
       "    </tr>\n",
       "    <tr>\n",
       "      <th>14416</th>\n",
       "      <td>2.0</td>\n",
       "      <td>1998.0</td>\n",
       "      <td>5.0</td>\n",
       "      <td>1.0</td>\n",
       "      <td>200.0</td>\n",
       "      <td>246.0</td>\n",
       "      <td>5.0</td>\n",
       "      <td>보건 의료 관련 종사자</td>\n",
       "      <td>여자</td>\n",
       "      <td>21.0</td>\n",
       "      <td>미혼</td>\n",
       "      <td>지방</td>\n",
       "      <td>young</td>\n",
       "    </tr>\n",
       "    <tr>\n",
       "      <th>14417</th>\n",
       "      <td>1.0</td>\n",
       "      <td>2001.0</td>\n",
       "      <td>0.0</td>\n",
       "      <td>1.0</td>\n",
       "      <td>NaN</td>\n",
       "      <td>NaN</td>\n",
       "      <td>5.0</td>\n",
       "      <td>NaN</td>\n",
       "      <td>남자</td>\n",
       "      <td>18.0</td>\n",
       "      <td>미혼</td>\n",
       "      <td>지방</td>\n",
       "      <td>teenager</td>\n",
       "    </tr>\n",
       "  </tbody>\n",
       "</table>\n",
       "<p>14418 rows × 13 columns</p>\n",
       "</div>"
      ],
      "text/plain": [
       "       gender   birth  marriage_type  religion  income  code_job  code_region  \\\n",
       "0         2.0  1945.0            2.0       1.0     NaN       NaN          1.0   \n",
       "1         1.0  1948.0            2.0       2.0     NaN       NaN          1.0   \n",
       "2         1.0  1942.0            3.0       1.0   107.0     762.0          1.0   \n",
       "3         1.0  1962.0            1.0       1.0   192.0     855.0          1.0   \n",
       "4         2.0  1963.0            1.0       1.0     NaN       NaN          1.0   \n",
       "...       ...     ...            ...       ...     ...       ...          ...   \n",
       "14413     2.0  1967.0            1.0       1.0     NaN       NaN          5.0   \n",
       "14414     2.0  1992.0            5.0       1.0     NaN       NaN          5.0   \n",
       "14415     1.0  1995.0            5.0       1.0     NaN     910.0          5.0   \n",
       "14416     2.0  1998.0            5.0       1.0   200.0     246.0          5.0   \n",
       "14417     1.0  2001.0            0.0       1.0     NaN       NaN          5.0   \n",
       "\n",
       "                  job gender2   age marriage region age_group  \n",
       "0                 NaN      여자  74.0       기타    수도권       old  \n",
       "1                 NaN      남자  71.0       기타    수도권       old  \n",
       "2                 전기공      남자  77.0       이혼    수도권       old  \n",
       "3         금속기계 부품 조립원      남자  57.0       기혼    수도권    senior  \n",
       "4                 NaN      여자  56.0       기혼    수도권    senior  \n",
       "...               ...     ...   ...      ...    ...       ...  \n",
       "14413             NaN      여자  52.0       기혼     지방    senior  \n",
       "14414             NaN      여자  27.0       미혼     지방     young  \n",
       "14415  건설 및 광업 단순 종사자      남자  24.0       미혼     지방     young  \n",
       "14416    보건 의료 관련 종사자      여자  21.0       미혼     지방     young  \n",
       "14417             NaN      남자  18.0       미혼     지방  teenager  \n",
       "\n",
       "[14418 rows x 13 columns]"
      ]
     },
     "execution_count": 125,
     "metadata": {},
     "output_type": "execute_result"
    }
   ],
   "source": [
    "def region_convert(x):\n",
    "    if x <= 2:\n",
    "        return '수도권'\n",
    "    else:\n",
    "        return '지방'\n",
    "welfare['region'] = welfare['code_region'].apply(region_convert)\n",
    "welfare"
   ]
  },
  {
   "cell_type": "code",
   "execution_count": 130,
   "id": "0dac52f2-86e4-46ee-ab85-e1b1761e478d",
   "metadata": {},
   "outputs": [],
   "source": [
    "c_income=welfare[welfare.region=='수도권']['income'].dropna()\n",
    "nc_income=welfare[welfare.region=='지방']['income'].dropna()\n"
   ]
  },
  {
   "cell_type": "code",
   "execution_count": 132,
   "id": "118e67f7-d9d1-4b9c-8b88-5a0b5e290c64",
   "metadata": {},
   "outputs": [
    {
     "name": "stdout",
     "output_type": "stream",
     "text": [
      "ShapiroResult(statistic=0.8556293845176697, pvalue=3.9598172264583546e-39)\n",
      "ShapiroResult(statistic=0.8847554922103882, pvalue=4.070659934986448e-40)\n"
     ]
    },
    {
     "data": {
      "text/plain": [
       "MannwhitneyuResult(statistic=2693902.5, pvalue=0.00010044798958351874)"
      ]
     },
     "execution_count": 132,
     "metadata": {},
     "output_type": "execute_result"
    }
   ],
   "source": [
    "print(stats.shapiro(c_income))\n",
    "print(stats.shapiro(nc_income))  \n",
    "# 비정규적 --> 비모수적 방법 mannwhitneyu\n",
    "stats.mannwhitneyu(c_income, nc_income)  # 차이가 없다"
   ]
  },
  {
   "cell_type": "code",
   "execution_count": 137,
   "id": "5ec406a3-8c1f-4000-a48c-74ab38dffeae",
   "metadata": {},
   "outputs": [],
   "source": [
    "# 3.2.5 범주-범주 marrage 범주 -나누기 \n",
    "def marriage_convert(x):\n",
    "    if (x == 0) or (x == 5):\n",
    "        return '미혼'\n",
    "    elif x == 1:\n",
    "        return '기혼'\n",
    "    elif (x == 2) or (x == 4) or (x == 6):\n",
    "        return '기타'\n",
    "    else:\n",
    "        return '이혼'\n",
    "    \n",
    "    \n",
    "welfare['marriage'] = welfare['marriage_type'].apply(marriage_convert)"
   ]
  },
  {
   "cell_type": "code",
   "execution_count": 142,
   "id": "b3eb78e2-c98b-447a-ac09-3a973cbce170",
   "metadata": {},
   "outputs": [
    {
     "data": {
      "text/plain": [
       "Chi2ContingencyResult(statistic=5.6769927793878825, pvalue=0.01718880447200066, dof=1, expected_freq=array([[3499.63827897,  335.36172103],\n",
       "       [3690.36172103,  353.63827897]]))"
      ]
     },
     "execution_count": 142,
     "metadata": {},
     "output_type": "execute_result"
    }
   ],
   "source": [
    "# 카이제곱\n",
    "table=pd.crosstab(welfare['religion'], welfare.marriage)[['기혼','이혼']]\n",
    "stats.chi2_contingency(table)"
   ]
  },
  {
   "cell_type": "code",
   "execution_count": 144,
   "id": "7daa9c42-f05a-469a-a3dc-5f7791bd8f29",
   "metadata": {
    "scrolled": true
   },
   "outputs": [
    {
     "data": {
      "text/plain": [
       "<Axes: xlabel='religion', ylabel='count'>"
      ]
     },
     "execution_count": 144,
     "metadata": {},
     "output_type": "execute_result"
    },
    {
     "data": {
      "image/png": "[encoded data removed]",
      "text/plain": [
       "<Figure size 700x500 with 1 Axes>"
      ]
     },
     "metadata": {},
     "output_type": "display_data"
    }
   ],
   "source": [
    "sns.countplot(data=welfare, x='religion', hue='marriage')"
   ]
  },
  {
   "cell_type": "code",
   "execution_count": null,
   "id": "69f12fcc-0d85-4894-91c8-d29cabf27967",
   "metadata": {},
   "outputs": [],
   "source": [
    "#3-2-6"
   ]
  },
  {
   "cell_type": "code",
   "execution_count": 151,
   "id": "de319772-bf4b-4da4-8631-ed956469a162",
   "metadata": {},
   "outputs": [
    {
     "data": {
      "text/html": [
       "<div>\n",
       "<style scoped>\n",
       "    .dataframe tbody tr th:only-of-type {\n",
       "        vertical-align: middle;\n",
       "    }\n",
       "\n",
       "    .dataframe tbody tr th {\n",
       "        vertical-align: top;\n",
       "    }\n",
       "\n",
       "    .dataframe thead th {\n",
       "        text-align: right;\n",
       "    }\n",
       "</style>\n",
       "<table border=\"1\" class=\"dataframe\">\n",
       "  <thead>\n",
       "    <tr style=\"text-align: right;\">\n",
       "      <th></th>\n",
       "      <th>gender</th>\n",
       "      <th>birth</th>\n",
       "      <th>marriage_type</th>\n",
       "      <th>religion</th>\n",
       "      <th>income</th>\n",
       "      <th>code_job</th>\n",
       "      <th>code_region</th>\n",
       "      <th>job_x</th>\n",
       "      <th>gender2</th>\n",
       "      <th>age</th>\n",
       "      <th>marriage</th>\n",
       "      <th>region</th>\n",
       "      <th>age_group</th>\n",
       "      <th>job_y</th>\n",
       "      <th>job</th>\n",
       "    </tr>\n",
       "  </thead>\n",
       "  <tbody>\n",
       "    <tr>\n",
       "      <th>0</th>\n",
       "      <td>2.0</td>\n",
       "      <td>1945.0</td>\n",
       "      <td>2.0</td>\n",
       "      <td>1.0</td>\n",
       "      <td>NaN</td>\n",
       "      <td>NaN</td>\n",
       "      <td>1.0</td>\n",
       "      <td>NaN</td>\n",
       "      <td>여자</td>\n",
       "      <td>74.0</td>\n",
       "      <td>기타</td>\n",
       "      <td>수도권</td>\n",
       "      <td>old</td>\n",
       "      <td>NaN</td>\n",
       "      <td>NaN</td>\n",
       "    </tr>\n",
       "    <tr>\n",
       "      <th>1</th>\n",
       "      <td>1.0</td>\n",
       "      <td>1948.0</td>\n",
       "      <td>2.0</td>\n",
       "      <td>2.0</td>\n",
       "      <td>NaN</td>\n",
       "      <td>NaN</td>\n",
       "      <td>1.0</td>\n",
       "      <td>NaN</td>\n",
       "      <td>남자</td>\n",
       "      <td>71.0</td>\n",
       "      <td>기타</td>\n",
       "      <td>수도권</td>\n",
       "      <td>old</td>\n",
       "      <td>NaN</td>\n",
       "      <td>NaN</td>\n",
       "    </tr>\n",
       "    <tr>\n",
       "      <th>2</th>\n",
       "      <td>1.0</td>\n",
       "      <td>1942.0</td>\n",
       "      <td>3.0</td>\n",
       "      <td>1.0</td>\n",
       "      <td>107.0</td>\n",
       "      <td>762.0</td>\n",
       "      <td>1.0</td>\n",
       "      <td>전기공</td>\n",
       "      <td>남자</td>\n",
       "      <td>77.0</td>\n",
       "      <td>이혼</td>\n",
       "      <td>수도권</td>\n",
       "      <td>old</td>\n",
       "      <td>전기공</td>\n",
       "      <td>전기공</td>\n",
       "    </tr>\n",
       "    <tr>\n",
       "      <th>3</th>\n",
       "      <td>1.0</td>\n",
       "      <td>1962.0</td>\n",
       "      <td>1.0</td>\n",
       "      <td>1.0</td>\n",
       "      <td>192.0</td>\n",
       "      <td>855.0</td>\n",
       "      <td>1.0</td>\n",
       "      <td>금속기계 부품 조립원</td>\n",
       "      <td>남자</td>\n",
       "      <td>57.0</td>\n",
       "      <td>기혼</td>\n",
       "      <td>수도권</td>\n",
       "      <td>senior</td>\n",
       "      <td>금속기계 부품 조립원</td>\n",
       "      <td>금속기계 부품 조립원</td>\n",
       "    </tr>\n",
       "    <tr>\n",
       "      <th>4</th>\n",
       "      <td>2.0</td>\n",
       "      <td>1963.0</td>\n",
       "      <td>1.0</td>\n",
       "      <td>1.0</td>\n",
       "      <td>NaN</td>\n",
       "      <td>NaN</td>\n",
       "      <td>1.0</td>\n",
       "      <td>NaN</td>\n",
       "      <td>여자</td>\n",
       "      <td>56.0</td>\n",
       "      <td>기혼</td>\n",
       "      <td>수도권</td>\n",
       "      <td>senior</td>\n",
       "      <td>NaN</td>\n",
       "      <td>NaN</td>\n",
       "    </tr>\n",
       "  </tbody>\n",
       "</table>\n",
       "</div>"
      ],
      "text/plain": [
       "   gender   birth  marriage_type  religion  income  code_job  code_region  \\\n",
       "0     2.0  1945.0            2.0       1.0     NaN       NaN          1.0   \n",
       "1     1.0  1948.0            2.0       2.0     NaN       NaN          1.0   \n",
       "2     1.0  1942.0            3.0       1.0   107.0     762.0          1.0   \n",
       "3     1.0  1962.0            1.0       1.0   192.0     855.0          1.0   \n",
       "4     2.0  1963.0            1.0       1.0     NaN       NaN          1.0   \n",
       "\n",
       "         job_x gender2   age marriage region age_group        job_y  \\\n",
       "0          NaN      여자  74.0       기타    수도권       old          NaN   \n",
       "1          NaN      남자  71.0       기타    수도권       old          NaN   \n",
       "2          전기공      남자  77.0       이혼    수도권       old          전기공   \n",
       "3  금속기계 부품 조립원      남자  57.0       기혼    수도권    senior  금속기계 부품 조립원   \n",
       "4          NaN      여자  56.0       기혼    수도권    senior          NaN   \n",
       "\n",
       "           job  \n",
       "0          NaN  \n",
       "1          NaN  \n",
       "2          전기공  \n",
       "3  금속기계 부품 조립원  \n",
       "4          NaN  "
      ]
     },
     "execution_count": 151,
     "metadata": {},
     "output_type": "execute_result"
    }
   ],
   "source": [
    "welfare = welfare.merge(code_job, on = 'code_job', how='left')\n",
    "welfare.head()"
   ]
  },
  {
   "cell_type": "code",
   "execution_count": 157,
   "id": "79b6f68a-3561-4ff2-92e8-5d9c30ebec08",
   "metadata": {},
   "outputs": [],
   "source": [
    "male=welfare.groupby('gender2').get_group('남자').value_counts('job').head(10)\n",
    "female=welfare.groupby('gender2').get_group('여자').value_counts('job').head(10)"
   ]
  },
  {
   "cell_type": "code",
   "execution_count": null,
   "id": "01b5d54e-f897-4dfd-9b5c-39beb561dc19",
   "metadata": {},
   "outputs": [],
   "source": []
  },
  {
   "cell_type": "code",
   "execution_count": null,
   "id": "f8f21623-03d7-4a8c-b92c-10fa83cf7a18",
   "metadata": {},
   "outputs": [],
   "source": [
    "plt.barh"
   ]
  },
  {
   "cell_type": "code",
   "execution_count": 162,
   "id": "ff72d75c-a2cb-42f2-a289-b063b3426a92",
   "metadata": {},
   "outputs": [
    {
     "data": {
      "image/png": "[encoded data removed]",
      "text/plain": [
       "<Figure size 900x500 with 2 Axes>"
      ]
     },
     "metadata": {},
     "output_type": "display_data"
    }
   ],
   "source": [
    "plt.subplot(1,2,1)\n",
    "sns.barplot(x=male.values, y=male.index)\n",
    "plt.title('남자')\n",
    "plt.subplot(1,2,2)\n",
    "sns.barplot(x=female.values, y=female.index)\n",
    "plt.title('여자')\n",
    "plt.tight_layout()"
   ]
  },
  {
   "cell_type": "code",
   "execution_count": null,
   "id": "00e1e412-dcd0-47c7-8f67-d06fafecca45",
   "metadata": {},
   "outputs": [],
   "source": [
    "# 남녀 겹치지않는 직업들 3개씩 을 가지고 임금비교: 남녀가 아니라 직업들간의 임금차이 비교"
   ]
  },
  {
   "cell_type": "code",
   "execution_count": 167,
   "id": "028df23f-c0a8-48af-8fbe-4db32c0557f4",
   "metadata": {},
   "outputs": [],
   "source": [
    "jobs=welfare[welfare['code_job'].isin([873,312,510,941,313,421])]"
   ]
  },
  {
   "cell_type": "code",
   "execution_count": 169,
   "id": "24ab991a-0014-4df3-a475-bf1a99f1ecfc",
   "metadata": {},
   "outputs": [
    {
     "data": {
      "text/plain": [
       "<Axes: xlabel='income', ylabel='job'>"
      ]
     },
     "execution_count": 169,
     "metadata": {},
     "output_type": "execute_result"
    },
    {
     "data": {
      "image/png": "[encoded data removed]",
      "text/plain": [
       "<Figure size 900x500 with 1 Axes>"
      ]
     },
     "metadata": {},
     "output_type": "display_data"
    }
   ],
   "source": [
    "sns.barplot(data=jobs, x='income', y='job')   # 직업적 차이때문에 남녀 임금차이가 있다"
   ]
  },
  {
   "cell_type": "code",
   "execution_count": 171,
   "id": "697f7c48-69be-4efc-86e0-247b5562f1de",
   "metadata": {},
   "outputs": [
    {
     "data": {
      "text/html": [
       "<div>\n",
       "<style scoped>\n",
       "    .dataframe tbody tr th:only-of-type {\n",
       "        vertical-align: middle;\n",
       "    }\n",
       "\n",
       "    .dataframe tbody tr th {\n",
       "        vertical-align: top;\n",
       "    }\n",
       "\n",
       "    .dataframe thead th {\n",
       "        text-align: right;\n",
       "    }\n",
       "</style>\n",
       "<table border=\"1\" class=\"dataframe\">\n",
       "  <thead>\n",
       "    <tr style=\"text-align: right;\">\n",
       "      <th></th>\n",
       "      <th>gender</th>\n",
       "      <th>birth</th>\n",
       "      <th>marriage_type</th>\n",
       "      <th>religion</th>\n",
       "      <th>income</th>\n",
       "      <th>code_job</th>\n",
       "      <th>code_region</th>\n",
       "      <th>job_x</th>\n",
       "      <th>gender2</th>\n",
       "      <th>age</th>\n",
       "      <th>marriage</th>\n",
       "      <th>region</th>\n",
       "      <th>age_group</th>\n",
       "      <th>job_y</th>\n",
       "      <th>job</th>\n",
       "    </tr>\n",
       "  </thead>\n",
       "  <tbody>\n",
       "    <tr>\n",
       "      <th>22</th>\n",
       "      <td>1.0</td>\n",
       "      <td>1975.0</td>\n",
       "      <td>5.0</td>\n",
       "      <td>1.0</td>\n",
       "      <td>NaN</td>\n",
       "      <td>521.0</td>\n",
       "      <td>1.0</td>\n",
       "      <td>매장 판매 종사자</td>\n",
       "      <td>남자</td>\n",
       "      <td>44.0</td>\n",
       "      <td>미혼</td>\n",
       "      <td>수도권</td>\n",
       "      <td>senior</td>\n",
       "      <td>매장 판매 종사자</td>\n",
       "      <td>매장 판매 종사자</td>\n",
       "    </tr>\n",
       "    <tr>\n",
       "      <th>24</th>\n",
       "      <td>2.0</td>\n",
       "      <td>1982.0</td>\n",
       "      <td>1.0</td>\n",
       "      <td>2.0</td>\n",
       "      <td>NaN</td>\n",
       "      <td>521.0</td>\n",
       "      <td>1.0</td>\n",
       "      <td>매장 판매 종사자</td>\n",
       "      <td>여자</td>\n",
       "      <td>37.0</td>\n",
       "      <td>기혼</td>\n",
       "      <td>수도권</td>\n",
       "      <td>young</td>\n",
       "      <td>매장 판매 종사자</td>\n",
       "      <td>매장 판매 종사자</td>\n",
       "    </tr>\n",
       "    <tr>\n",
       "      <th>66</th>\n",
       "      <td>2.0</td>\n",
       "      <td>1998.0</td>\n",
       "      <td>5.0</td>\n",
       "      <td>2.0</td>\n",
       "      <td>190.0</td>\n",
       "      <td>521.0</td>\n",
       "      <td>1.0</td>\n",
       "      <td>매장 판매 종사자</td>\n",
       "      <td>여자</td>\n",
       "      <td>21.0</td>\n",
       "      <td>미혼</td>\n",
       "      <td>수도권</td>\n",
       "      <td>young</td>\n",
       "      <td>매장 판매 종사자</td>\n",
       "      <td>매장 판매 종사자</td>\n",
       "    </tr>\n",
       "    <tr>\n",
       "      <th>69</th>\n",
       "      <td>1.0</td>\n",
       "      <td>1982.0</td>\n",
       "      <td>5.0</td>\n",
       "      <td>2.0</td>\n",
       "      <td>240.0</td>\n",
       "      <td>521.0</td>\n",
       "      <td>1.0</td>\n",
       "      <td>매장 판매 종사자</td>\n",
       "      <td>남자</td>\n",
       "      <td>37.0</td>\n",
       "      <td>미혼</td>\n",
       "      <td>수도권</td>\n",
       "      <td>young</td>\n",
       "      <td>매장 판매 종사자</td>\n",
       "      <td>매장 판매 종사자</td>\n",
       "    </tr>\n",
       "    <tr>\n",
       "      <th>87</th>\n",
       "      <td>2.0</td>\n",
       "      <td>1997.0</td>\n",
       "      <td>5.0</td>\n",
       "      <td>1.0</td>\n",
       "      <td>NaN</td>\n",
       "      <td>521.0</td>\n",
       "      <td>1.0</td>\n",
       "      <td>매장 판매 종사자</td>\n",
       "      <td>여자</td>\n",
       "      <td>22.0</td>\n",
       "      <td>미혼</td>\n",
       "      <td>수도권</td>\n",
       "      <td>young</td>\n",
       "      <td>매장 판매 종사자</td>\n",
       "      <td>매장 판매 종사자</td>\n",
       "    </tr>\n",
       "    <tr>\n",
       "      <th>...</th>\n",
       "      <td>...</td>\n",
       "      <td>...</td>\n",
       "      <td>...</td>\n",
       "      <td>...</td>\n",
       "      <td>...</td>\n",
       "      <td>...</td>\n",
       "      <td>...</td>\n",
       "      <td>...</td>\n",
       "      <td>...</td>\n",
       "      <td>...</td>\n",
       "      <td>...</td>\n",
       "      <td>...</td>\n",
       "      <td>...</td>\n",
       "      <td>...</td>\n",
       "      <td>...</td>\n",
       "    </tr>\n",
       "    <tr>\n",
       "      <th>14395</th>\n",
       "      <td>2.0</td>\n",
       "      <td>1945.0</td>\n",
       "      <td>1.0</td>\n",
       "      <td>1.0</td>\n",
       "      <td>NaN</td>\n",
       "      <td>611.0</td>\n",
       "      <td>6.0</td>\n",
       "      <td>작물 재배 종사자</td>\n",
       "      <td>여자</td>\n",
       "      <td>74.0</td>\n",
       "      <td>기혼</td>\n",
       "      <td>지방</td>\n",
       "      <td>old</td>\n",
       "      <td>작물 재배 종사자</td>\n",
       "      <td>작물 재배 종사자</td>\n",
       "    </tr>\n",
       "    <tr>\n",
       "      <th>14398</th>\n",
       "      <td>1.0</td>\n",
       "      <td>1956.0</td>\n",
       "      <td>3.0</td>\n",
       "      <td>1.0</td>\n",
       "      <td>120.0</td>\n",
       "      <td>521.0</td>\n",
       "      <td>6.0</td>\n",
       "      <td>매장 판매 종사자</td>\n",
       "      <td>남자</td>\n",
       "      <td>63.0</td>\n",
       "      <td>이혼</td>\n",
       "      <td>지방</td>\n",
       "      <td>senior</td>\n",
       "      <td>매장 판매 종사자</td>\n",
       "      <td>매장 판매 종사자</td>\n",
       "    </tr>\n",
       "    <tr>\n",
       "      <th>14399</th>\n",
       "      <td>1.0</td>\n",
       "      <td>1941.0</td>\n",
       "      <td>1.0</td>\n",
       "      <td>2.0</td>\n",
       "      <td>NaN</td>\n",
       "      <td>611.0</td>\n",
       "      <td>6.0</td>\n",
       "      <td>작물 재배 종사자</td>\n",
       "      <td>남자</td>\n",
       "      <td>78.0</td>\n",
       "      <td>기혼</td>\n",
       "      <td>지방</td>\n",
       "      <td>old</td>\n",
       "      <td>작물 재배 종사자</td>\n",
       "      <td>작물 재배 종사자</td>\n",
       "    </tr>\n",
       "    <tr>\n",
       "      <th>14408</th>\n",
       "      <td>2.0</td>\n",
       "      <td>1936.0</td>\n",
       "      <td>1.0</td>\n",
       "      <td>2.0</td>\n",
       "      <td>NaN</td>\n",
       "      <td>611.0</td>\n",
       "      <td>6.0</td>\n",
       "      <td>작물 재배 종사자</td>\n",
       "      <td>여자</td>\n",
       "      <td>83.0</td>\n",
       "      <td>기혼</td>\n",
       "      <td>지방</td>\n",
       "      <td>old</td>\n",
       "      <td>작물 재배 종사자</td>\n",
       "      <td>작물 재배 종사자</td>\n",
       "    </tr>\n",
       "    <tr>\n",
       "      <th>14411</th>\n",
       "      <td>2.0</td>\n",
       "      <td>1958.0</td>\n",
       "      <td>1.0</td>\n",
       "      <td>1.0</td>\n",
       "      <td>NaN</td>\n",
       "      <td>611.0</td>\n",
       "      <td>6.0</td>\n",
       "      <td>작물 재배 종사자</td>\n",
       "      <td>여자</td>\n",
       "      <td>61.0</td>\n",
       "      <td>기혼</td>\n",
       "      <td>지방</td>\n",
       "      <td>senior</td>\n",
       "      <td>작물 재배 종사자</td>\n",
       "      <td>작물 재배 종사자</td>\n",
       "    </tr>\n",
       "  </tbody>\n",
       "</table>\n",
       "<p>1316 rows × 15 columns</p>\n",
       "</div>"
      ],
      "text/plain": [
       "       gender   birth  marriage_type  religion  income  code_job  code_region  \\\n",
       "22        1.0  1975.0            5.0       1.0     NaN     521.0          1.0   \n",
       "24        2.0  1982.0            1.0       2.0     NaN     521.0          1.0   \n",
       "66        2.0  1998.0            5.0       2.0   190.0     521.0          1.0   \n",
       "69        1.0  1982.0            5.0       2.0   240.0     521.0          1.0   \n",
       "87        2.0  1997.0            5.0       1.0     NaN     521.0          1.0   \n",
       "...       ...     ...            ...       ...     ...       ...          ...   \n",
       "14395     2.0  1945.0            1.0       1.0     NaN     611.0          6.0   \n",
       "14398     1.0  1956.0            3.0       1.0   120.0     521.0          6.0   \n",
       "14399     1.0  1941.0            1.0       2.0     NaN     611.0          6.0   \n",
       "14408     2.0  1936.0            1.0       2.0     NaN     611.0          6.0   \n",
       "14411     2.0  1958.0            1.0       1.0     NaN     611.0          6.0   \n",
       "\n",
       "           job_x gender2   age marriage region age_group      job_y        job  \n",
       "22     매장 판매 종사자      남자  44.0       미혼    수도권    senior  매장 판매 종사자  매장 판매 종사자  \n",
       "24     매장 판매 종사자      여자  37.0       기혼    수도권     young  매장 판매 종사자  매장 판매 종사자  \n",
       "66     매장 판매 종사자      여자  21.0       미혼    수도권     young  매장 판매 종사자  매장 판매 종사자  \n",
       "69     매장 판매 종사자      남자  37.0       미혼    수도권     young  매장 판매 종사자  매장 판매 종사자  \n",
       "87     매장 판매 종사자      여자  22.0       미혼    수도권     young  매장 판매 종사자  매장 판매 종사자  \n",
       "...          ...     ...   ...      ...    ...       ...        ...        ...  \n",
       "14395  작물 재배 종사자      여자  74.0       기혼     지방       old  작물 재배 종사자  작물 재배 종사자  \n",
       "14398  매장 판매 종사자      남자  63.0       이혼     지방    senior  매장 판매 종사자  매장 판매 종사자  \n",
       "14399  작물 재배 종사자      남자  78.0       기혼     지방       old  작물 재배 종사자  작물 재배 종사자  \n",
       "14408  작물 재배 종사자      여자  83.0       기혼     지방       old  작물 재배 종사자  작물 재배 종사자  \n",
       "14411  작물 재배 종사자      여자  61.0       기혼     지방    senior  작물 재배 종사자  작물 재배 종사자  \n",
       "\n",
       "[1316 rows x 15 columns]"
      ]
     },
     "execution_count": 171,
     "metadata": {},
     "output_type": "execute_result"
    }
   ],
   "source": [
    "# 남녀간 겹치는 직업들 간에도 남녀 임금이 차이가 나는지 : \n",
    "# 작물종사자 611, 매장판매종사자521  --> 이것들의 데이터만 가져와 df 만들기\n",
    "job2=welfare[welfare['code_job'].isin([611,521])]\n",
    "job2"
   ]
  },
  {
   "cell_type": "code",
   "execution_count": 172,
   "id": "5321923b-e86e-4105-a2c5-20d4ac074ccc",
   "metadata": {},
   "outputs": [],
   "source": [
    "# 성별에 따른 임금차이 있는가\n",
    "male_i = job2[job2['gender2'] == '남자']['income'].dropna()\n",
    "female_i = job2[job2['gender2'] == '여자']['income'].dropna()"
   ]
  },
  {
   "cell_type": "code",
   "execution_count": 179,
   "id": "2cb62d47-7819-411b-b9e1-bee15b8fdd6a",
   "metadata": {},
   "outputs": [
    {
     "name": "stdout",
     "output_type": "stream",
     "text": [
      "ShapiroResult(statistic=0.9640111923217773, pvalue=0.06237751245498657)\n",
      "ShapiroResult(statistic=0.9395403861999512, pvalue=0.00010531576845096424)\n"
     ]
    },
    {
     "data": {
      "text/plain": [
       "MannwhitneyuResult(statistic=4757.5, pvalue=7.650929066198753e-06)"
      ]
     },
     "execution_count": 179,
     "metadata": {},
     "output_type": "execute_result"
    }
   ],
   "source": [
    "print(stats.shapiro(male_i))\n",
    "print(stats.shapiro(female_i))  # \n",
    "stats.mannwhitneyu(male_i,female_i)  # "
   ]
  },
  {
   "cell_type": "code",
   "execution_count": 178,
   "id": "84b7e349-93cc-41bb-853b-333019f23821",
   "metadata": {},
   "outputs": [
    {
     "data": {
      "text/plain": [
       "<Axes: xlabel='gender2', ylabel='income'>"
      ]
     },
     "execution_count": 178,
     "metadata": {},
     "output_type": "execute_result"
    },
    {
     "data": {
      "image/png": "[encoded data removed]",
      "text/plain": [
       "<Figure size 900x500 with 1 Axes>"
      ]
     },
     "metadata": {},
     "output_type": "display_data"
    }
   ],
   "source": [
    "sns.barplot(data=job2, x='gender2',y='income' )"
   ]
  },
  {
   "cell_type": "code",
   "execution_count": 183,
   "id": "aed7cc8c-9fea-41b3-a122-8158af5edf3b",
   "metadata": {},
   "outputs": [
    {
     "name": "stdout",
     "output_type": "stream",
     "text": [
      "BartlettResult(statistic=6.753489492719074, pvalue=0.00935645199333627)\n",
      "LeveneResult(statistic=6.056500967168098, pvalue=0.014866196165702976)\n",
      "FlignerResult(statistic=6.610651718069066, pvalue=0.01013705557082485)\n"
     ]
    }
   ],
   "source": [
    "# 만약에 모수검정이라면(정규성)  -> 독립성(male,female은 독립적) --> ttest_ind  \n",
    "# --> 등분산검정(bartlett/levene/ fligner)\n",
    "print(stats.bartlett(male_i,female_i))  \n",
    "print(stats.levene(male_i,female_i))  \n",
    "print(stats.fligner(male_i,female_i))  "
   ]
  },
  {
   "cell_type": "code",
   "execution_count": 182,
   "id": "0f01f793-c823-4f55-9f59-e4117dda382d",
   "metadata": {},
   "outputs": [
    {
     "name": "stdout",
     "output_type": "stream",
     "text": [
      "TtestResult(statistic=4.568366080800213, pvalue=1.3665687859919496e-05, df=103.11887001101243)\n"
     ]
    }
   ],
   "source": [
    "# 등분산성 아닐때\n",
    "print(stats.ttest_ind(male_i,female_i, equal_var=False))  "
   ]
  },
  {
   "cell_type": "code",
   "execution_count": null,
   "id": "ea8db20f-32f2-4e22-977b-b53d4f23c2d4",
   "metadata": {},
   "outputs": [],
   "source": []
  },
  {
   "cell_type": "code",
   "execution_count": null,
   "id": "03edc279-56b1-4d71-81e7-fdd42e1d97db",
   "metadata": {},
   "outputs": [],
   "source": []
  },
  {
   "cell_type": "code",
   "execution_count": null,
   "id": "4f7c8dda-1887-4fa6-90f3-247b18163170",
   "metadata": {},
   "outputs": [],
   "source": []
  }
 ],
 "metadata": {
  "kernelspec": {
   "display_name": "Python 3 (ipykernel)",
   "language": "python",
   "name": "python3"
  },
  "language_info": {
   "codemirror_mode": {
    "name": "ipython",
    "version": 3
   },
   "file_extension": ".py",
   "mimetype": "text/x-python",
   "name": "python",
   "nbconvert_exporter": "python",
   "pygments_lexer": "ipython3",
   "version": "3.11.5"
  }
 },
 "nbformat": 4,
 "nbformat_minor": 5
}
