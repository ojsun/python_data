{
 "cells": [
  {
   "cell_type": "code",
   "execution_count": null,
   "id": "f96ace85-6ad2-4949-b28a-69b5def20302",
   "metadata": {},
   "outputs": [],
   "source": [
    "import numpy as np\n",
    "import pandas as pd\n",
    "import seaborn as sns\n",
    "from scipy import stats\n",
    "import warnings\n",
    "\n",
    "warnings.filterwarnings('ignore')\n",
    "sns.set_palette('gist_heat')"
   ]
  },
  {
   "cell_type": "code",
   "execution_count": null,
   "id": "18e2fe02-a7ce-4687-a4d1-6970b603dcb9",
   "metadata": {},
   "outputs": [],
   "source": [
    "import matplotlib.pyplot as plt\n",
    "plt.rcParams[\"figure.figsize\"] = (7,5)\n",
    "plt.rcParams['font.size'] = 12\n",
    "# 한글 폰트 적용/ 학원,노트북 모두\n",
    "from matplotlib import font_manager, rc\n",
    "font = 'C:/Windows/Fonts/malgun.ttf'\n",
    "font_name = font_manager.FontProperties(fname=font).get_name()\n",
    "rc('font', family=font_name)"
   ]
  },
  {
   "cell_type": "code",
   "execution_count": null,
   "id": "d715af1c-1eff-4c53-b4c7-2a920458331a",
   "metadata": {},
   "outputs": [],
   "source": [
    "titanic=pd.read_csv('../data/titanic.csv')\n",
    "print(titanic.info())\n",
    "titanic"
   ]
  },
  {
   "cell_type": "code",
   "execution_count": null,
   "id": "85d51443-9fb5-4a8e-b7a9-67635338ec1b",
   "metadata": {},
   "outputs": [],
   "source": [
    "titanic.Age.describe()"
   ]
  },
  {
   "cell_type": "code",
   "execution_count": null,
   "id": "9b43d21d-fdd0-48d4-a80f-a743788396bd",
   "metadata": {},
   "outputs": [],
   "source": [
    "#평균 +- 1.96* 표준편차  -- 보통 데이터들의 범위(표준분포에 의거)"
   ]
  },
  {
   "cell_type": "code",
   "execution_count": null,
   "id": "d0050163-a225-4ba5-a282-ef9016b8e986",
   "metadata": {},
   "outputs": [],
   "source": [
    "plt.subplot(2,2,1)\n",
    "sns.histplot(data=titanic, x='Age')\n",
    "plt.subplot(2,2,2)\n",
    "sns.kdeplot(data=titanic,x='Age')"
   ]
  },
  {
   "cell_type": "code",
   "execution_count": null,
   "id": "6025eaae-3b8a-4ad5-b5ea-ce665985ddf7",
   "metadata": {},
   "outputs": [],
   "source": [
    "titanic.Fare.describe()"
   ]
  },
  {
   "cell_type": "code",
   "execution_count": null,
   "id": "e6f0be9d-38c4-4772-b877-94bbb70bac2c",
   "metadata": {},
   "outputs": [],
   "source": [
    "plt.subplot(3,1,1)\n",
    "sns.histplot(data=titanic, x='Fare')\n",
    "plt.subplot(3,1,2)\n",
    "sns.boxplot(data=titanic,x='Fare')\n",
    "plt.subplot(3,1,3)\n",
    "sns.violinplot(data=titanic, x='Fare')"
   ]
  },
  {
   "cell_type": "code",
   "execution_count": null,
   "id": "80a80690-bb71-4aed-87a3-1ea21c008ab0",
   "metadata": {},
   "outputs": [],
   "source": [
    "age=titanic['Age'].dropna()\n",
    "sns.kdeplot(age)"
   ]
  },
  {
   "cell_type": "code",
   "execution_count": null,
   "id": "8c62218b-3d70-4e90-a1a8-03d1c3dfbd5d",
   "metadata": {},
   "outputs": [],
   "source": [
    "stats.anderson(titanic2.Age)"
   ]
  },
  {
   "cell_type": "code",
   "execution_count": null,
   "id": "21c04f98-3b92-4c0d-ae00-1824a00544c6",
   "metadata": {},
   "outputs": [],
   "source": [
    "stats.shapiro(age)"
   ]
  },
  {
   "cell_type": "code",
   "execution_count": null,
   "id": "5dfc84d8-43dd-41cb-89ff-464c2c2bff0a",
   "metadata": {},
   "outputs": [],
   "source": []
  },
  {
   "cell_type": "code",
   "execution_count": null,
   "id": "a66169ed-84cc-438d-b403-895d5487a9c4",
   "metadata": {},
   "outputs": [],
   "source": [
    "z_s=np.abs(titanic.Fare -titanic.Fare.mean()) / titanic.Fare.std()\n",
    "titanic3=titanic[z_s < 1.5]\n",
    "titanic3.describe()"
   ]
  },
  {
   "cell_type": "code",
   "execution_count": null,
   "id": "238fc950-df5b-49b2-a4c1-ccd43678b192",
   "metadata": {},
   "outputs": [],
   "source": [
    "stats.anderson(titanic.Fare)"
   ]
  },
  {
   "cell_type": "code",
   "execution_count": null,
   "id": "3d2667a8-c4a2-4e8d-ada0-6914b1b87338",
   "metadata": {},
   "outputs": [],
   "source": [
    "stats.anderson(titanic3.Fare, dist='norm')"
   ]
  },
  {
   "cell_type": "code",
   "execution_count": null,
   "id": "bbb4f575-e210-48df-9902-d82bbe4bfd10",
   "metadata": {},
   "outputs": [],
   "source": [
    "stats.kstest(titanic3.Fare, 'norm')"
   ]
  },
  {
   "cell_type": "code",
   "execution_count": null,
   "id": "7569be8e-e0cd-46d7-a799-15f450aca6c3",
   "metadata": {},
   "outputs": [],
   "source": [
    "titanic.Pclass.value_counts()"
   ]
  },
  {
   "cell_type": "code",
   "execution_count": null,
   "id": "6c234528-92c6-44b0-bfe4-d7c9543b21e8",
   "metadata": {},
   "outputs": [],
   "source": [
    "titanic.Pclass.value_counts()/ len(titanic.Pclass)    # 전체 갯수 titanic.Pclass.size"
   ]
  },
  {
   "cell_type": "code",
   "execution_count": null,
   "id": "f4c99f91-b202-4265-9612-02bae0c3db4b",
   "metadata": {},
   "outputs": [],
   "source": [
    "air=pd.read_csv('../data/ozone.csv')\n",
    "print(air.describe())\n",
    "air.head()"
   ]
  },
  {
   "cell_type": "code",
   "execution_count": null,
   "id": "80f0366a-aab3-40d7-8291-d0b335956658",
   "metadata": {},
   "outputs": [],
   "source": [
    "air.info()"
   ]
  },
  {
   "cell_type": "code",
   "execution_count": null,
   "id": "283b9514-aac6-4e49-99b9-347b4799230f",
   "metadata": {},
   "outputs": [],
   "source": [
    "air=air.dropna()"
   ]
  },
  {
   "cell_type": "code",
   "execution_count": null,
   "id": "f3083d50-bb10-4167-a9e8-70acfc2f3623",
   "metadata": {},
   "outputs": [],
   "source": [
    "plt.subplot(2,1,1)\n",
    "sns.regplot(data=air,x='Temp', y='Ozone', scatter=False )\n",
    "plt.subplot(2,1,2)\n",
    "sns.regplot(data=air,x='Wind', y='Ozone' )"
   ]
  },
  {
   "cell_type": "code",
   "execution_count": null,
   "id": "c65b1260-7256-4c41-af68-80070013d456",
   "metadata": {},
   "outputs": [],
   "source": [
    "corr_1=air.corr(numeric_only=True)"
   ]
  },
  {
   "cell_type": "code",
   "execution_count": null,
   "id": "cb007e94-280f-4250-9c36-2cddba1e66ba",
   "metadata": {
    "scrolled": true
   },
   "outputs": [],
   "source": [
    "stats.pearsonr(air['Solar.R'],air.Ozone)\n",
    "stats.pearsonr(air['Wind'],air.Ozone)"
   ]
  },
  {
   "cell_type": "code",
   "execution_count": null,
   "id": "345f7f10-9450-4983-bf66-004f04324539",
   "metadata": {},
   "outputs": [],
   "source": [
    "sns.heatmap(titanic.corr(numeric_only=True), vmin=-1, vmax=1, cmap='viridis', annot=True)"
   ]
  },
  {
   "cell_type": "code",
   "execution_count": null,
   "id": "f1d2a6dd-e93b-4916-99bc-69948345f1fa",
   "metadata": {},
   "outputs": [],
   "source": [
    "plt.subplot(1,3,1)\n",
    "sns.regplot(data=air,x='Temp', y='Ozone' )\n",
    "plt.subplot(1,3,2)\n",
    "sns.regplot(data=air,x='Wind', y='Ozone' )\n",
    "plt.subplot(1,3,3)\n",
    "sns.regplot(data=air,x='Solar.R', y='Ozone' )\n",
    "plt.tight_layout()"
   ]
  },
  {
   "cell_type": "code",
   "execution_count": 131,
   "id": "45193a55-d47f-4675-88c7-4489d889950d",
   "metadata": {},
   "outputs": [
    {
     "data": {
      "text/html": [
       "<div>\n",
       "<style scoped>\n",
       "    .dataframe tbody tr th:only-of-type {\n",
       "        vertical-align: middle;\n",
       "    }\n",
       "\n",
       "    .dataframe tbody tr th {\n",
       "        vertical-align: top;\n",
       "    }\n",
       "\n",
       "    .dataframe thead th {\n",
       "        text-align: right;\n",
       "    }\n",
       "</style>\n",
       "<table border=\"1\" class=\"dataframe\">\n",
       "  <thead>\n",
       "    <tr style=\"text-align: right;\">\n",
       "      <th>Sex</th>\n",
       "      <th>female</th>\n",
       "      <th>male</th>\n",
       "    </tr>\n",
       "    <tr>\n",
       "      <th>Survived</th>\n",
       "      <th></th>\n",
       "      <th></th>\n",
       "    </tr>\n",
       "  </thead>\n",
       "  <tbody>\n",
       "    <tr>\n",
       "      <th>0</th>\n",
       "      <td>0.147541</td>\n",
       "      <td>0.852459</td>\n",
       "    </tr>\n",
       "    <tr>\n",
       "      <th>1</th>\n",
       "      <td>0.681287</td>\n",
       "      <td>0.318713</td>\n",
       "    </tr>\n",
       "  </tbody>\n",
       "</table>\n",
       "</div>"
      ],
      "text/plain": [
       "Sex         female      male\n",
       "Survived                    \n",
       "0         0.147541  0.852459\n",
       "1         0.681287  0.318713"
      ]
     },
     "execution_count": 131,
     "metadata": {},
     "output_type": "execute_result"
    }
   ],
   "source": [
    "pd.crosstab(titanic.Survived, titanic.Sex, normalize='index')"
   ]
  },
  {
   "cell_type": "code",
   "execution_count": 140,
   "id": "f34c509b-92f0-4502-a6bb-5bb669678c74",
   "metadata": {},
   "outputs": [
    {
     "data": {
      "text/plain": [
       "<Axes: xlabel='Survived'>"
      ]
     },
     "execution_count": 140,
     "metadata": {},
     "output_type": "execute_result"
    },
    {
     "data": {
      "image/png": "[encoded data removed]",
      "text/plain": [
       "<Figure size 700x500 with 1 Axes>"
      ]
     },
     "metadata": {},
     "output_type": "display_data"
    }
   ],
   "source": [
    "table=pd.crosstab(titanic.Survived, titanic.Sex)\n",
    "table.plot.bar(stacked=True)"
   ]
  },
  {
   "cell_type": "code",
   "execution_count": 136,
   "id": "433daef1-dd8a-423f-8d5c-0490009f94fc",
   "metadata": {},
   "outputs": [
    {
     "name": "stdout",
     "output_type": "stream",
     "text": [
      "카이제곱통계량 : 260.71702016732104\n",
      "P-value : 1.1973570627755645e-58\n",
      "기대빈도 :\n",
      " [[193.47474747 355.52525253]\n",
      " [120.52525253 221.47474747]]\n"
     ]
    }
   ],
   "source": [
    "result=stats.chi2_contingency(table)\n",
    "print('카이제곱통계량 :', result[0])\n",
    "print('P-value :', result[1])\n",
    "print('기대빈도 :\\n', result[3])"
   ]
  },
  {
   "cell_type": "code",
   "execution_count": 144,
   "id": "8e65a735-c1a4-4eaf-a431-ada7e16c58c8",
   "metadata": {},
   "outputs": [],
   "source": [
    "#타이타닉: 모집단\n",
    "age_mean= titanic.Age.mean()  # 모집단의 평균\n",
    "f_age= titanic[titanic['Sex']=='female']['Age'].dropna()   # 표본 1\n",
    "m_age=titanic[titanic['Sex']=='male']['Age'].dropna()     # 표본 2"
   ]
  },
  {
   "cell_type": "code",
   "execution_count": 145,
   "id": "36eda150-6232-4240-9452-900a3fd027ee",
   "metadata": {},
   "outputs": [
    {
     "data": {
      "text/plain": [
       "TtestResult(statistic=-2.0419243392233444, pvalue=0.04216819722428849, df=260)"
      ]
     },
     "execution_count": 145,
     "metadata": {},
     "output_type": "execute_result"
    }
   ],
   "source": [
    "# 표본의 평균이 믿을만한가?\n",
    "\n",
    "stats.ttest_1samp(f_age, age_mean)    # 단일분포 T검정, 수치형 범수,  비교대상(모평균, 표집평균)\n",
    "#귀무: 두 집단의 평균값이 차이가 없다(같다)\n",
    "#대립: 두 집단의 평균겂의 차이가 있다 (다르다)"
   ]
  },
  {
   "cell_type": "code",
   "execution_count": 147,
   "id": "7fdeed4c-8dc8-4eac-ab44-81924152a701",
   "metadata": {},
   "outputs": [
    {
     "data": {
      "text/plain": [
       "TtestResult(statistic=1.489942453210369, pvalue=0.1369368119341655, df=452)"
      ]
     },
     "execution_count": 147,
     "metadata": {},
     "output_type": "execute_result"
    }
   ],
   "source": [
    "stats.ttest_1samp(m_age, age_mean) "
   ]
  },
  {
   "cell_type": "code",
   "execution_count": 148,
   "id": "20b4f392-0155-4dfc-8cd0-80530b918a1a",
   "metadata": {},
   "outputs": [
    {
     "data": {
      "text/plain": [
       "<Axes: xlabel='Age', ylabel='Count'>"
      ]
     },
     "execution_count": 148,
     "metadata": {},
     "output_type": "execute_result"
    },
    {
     "data": {
      "image/png": "[encoded data removed]",
      "text/plain": [
       "<Figure size 700x500 with 2 Axes>"
      ]
     },
     "metadata": {},
     "output_type": "display_data"
    }
   ],
   "source": [
    "s0 = titanic[titanic['Survived'] == 0]['Age'].dropna()\n",
    "s1 = titanic[titanic['Survived'] == 1]['Age'].dropna()\n",
    "plt.subplot(1,2,1)\n",
    "sns.histplot(s0, kde=True)\n",
    "plt.subplot(1,2,2)\n",
    "sns.histplot(s1, kde=True)"
   ]
  },
  {
   "cell_type": "code",
   "execution_count": 149,
   "id": "f4afc944-cde1-490f-b98b-4ad38d8e377c",
   "metadata": {},
   "outputs": [
    {
     "data": {
      "text/plain": [
       "ShapiroResult(statistic=0.9689366221427917, pvalue=7.816021252438077e-08)"
      ]
     },
     "execution_count": 149,
     "metadata": {},
     "output_type": "execute_result"
    }
   ],
   "source": [
    "stats.shapiro(s0)"
   ]
  },
  {
   "cell_type": "code",
   "execution_count": 150,
   "id": "e4b23617-d39c-45e1-add6-c9c313ce9b62",
   "metadata": {},
   "outputs": [
    {
     "data": {
      "text/plain": [
       "ShapiroResult(statistic=0.9827256798744202, pvalue=0.0014263729099184275)"
      ]
     },
     "execution_count": 150,
     "metadata": {},
     "output_type": "execute_result"
    }
   ],
   "source": [
    "stats.shapiro(s1)"
   ]
  },
  {
   "cell_type": "code",
   "execution_count": 151,
   "id": "dec50a19-e136-4537-a879-60e1f9da71be",
   "metadata": {},
   "outputs": [
    {
     "data": {
      "text/plain": [
       "MannwhitneyuResult(statistic=65278.0, pvalue=0.16049252477737763)"
      ]
     },
     "execution_count": 151,
     "metadata": {},
     "output_type": "execute_result"
    }
   ],
   "source": [
    "stats.mannwhitneyu(s0,s1)"
   ]
  },
  {
   "cell_type": "code",
   "execution_count": null,
   "id": "00e3c53a-a412-457a-a3ea-66ad6009d13c",
   "metadata": {},
   "outputs": [],
   "source": [
    "# 범주일때 수치형 > 범주형 데이터기리 집단을 나누어야 한다.\n",
    "# 집단 2개 -- t 검정\n",
    "s0 = titanic[titanic['Survived'] == 0]\n",
    "s1 = titanic[titanic['Survived'] == 1]     \n",
    "\n",
    "# 정규적이지 않으때 비모수검정으로  --> stats.mannwhitneyu(s0,s1)"
   ]
  },
  {
   "cell_type": "code",
   "execution_count": null,
   "id": "6998df7a-8238-4fe0-9a00-36e8dea67ad1",
   "metadata": {},
   "outputs": [],
   "source": [
    "# 집단 3개 -- f검정\n",
    "# Pclass --- 1,2,3"
   ]
  },
  {
   "cell_type": "code",
   "execution_count": null,
   "id": "796be046-2557-42fb-9c6a-18311e476090",
   "metadata": {},
   "outputs": [],
   "source": []
  }
 ],
 "metadata": {
  "kernelspec": {
   "display_name": "Python 3 (ipykernel)",
   "language": "python",
   "name": "python3"
  },
  "language_info": {
   "codemirror_mode": {
    "name": "ipython",
    "version": 3
   },
   "file_extension": ".py",
   "mimetype": "text/x-python",
   "name": "python",
   "nbconvert_exporter": "python",
   "pygments_lexer": "ipython3",
   "version": "3.11.5"
  }
 },
 "nbformat": 4,
 "nbformat_minor": 5
}
