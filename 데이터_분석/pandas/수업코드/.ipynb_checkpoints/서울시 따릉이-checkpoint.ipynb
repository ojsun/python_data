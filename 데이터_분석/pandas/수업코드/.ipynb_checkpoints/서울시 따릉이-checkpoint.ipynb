{
 "cells": [
  {
   "cell_type": "markdown",
   "metadata": {
    "colab_type": "text",
    "id": "KCZ6x3heVYzI"
   },
   "source": [
    "### Step 1. 필요한 라이브러리 임포트"
   ]
  },
  {
   "cell_type": "code",
   "execution_count": 1,
   "metadata": {
    "colab": {},
    "colab_type": "code",
    "id": "7tfUgzrjVYzJ"
   },
   "outputs": [],
   "source": [
    "import pandas as pd"
   ]
  },
  {
   "cell_type": "markdown",
   "metadata": {
    "colab_type": "text",
    "id": "ETQYiRDwVYzM"
   },
   "source": [
    "### Step 2. [데이터](https://raw.githubusercontent.com/Datamanim/datarepo/main/bicycle/seoul_bi.csv) 확인\n",
    "\n",
    "- 대여일자\n",
    "- 대여시간\n",
    "- 대여소번호\n",
    "- 대여구분코드\n",
    "- 성별\n",
    "- 연령대코드\n",
    "- 이용건수\n",
    "- 운동량\n",
    "- 탄소량\n",
    "- 이동거리\n",
    "- 사용시간"
   ]
  },
  {
   "cell_type": "markdown",
   "metadata": {
    "colab_type": "text",
    "id": "ktDQ-sIEVYzM"
   },
   "source": [
    "### Step 3. read_csv를 통해 데이터를 올바른 형태로 불러온 뒤 bycle에 저장해주세요.\n",
    "* data : seoul_bi.csv\n",
    "* encoding : cp949\n",
    "* 대여일자를 datetime으로 설정해주세요."
   ]
  },
  {
   "cell_type": "code",
   "execution_count": null,
   "metadata": {},
   "outputs": [],
   "source": []
  },
  {
   "cell_type": "markdown",
   "metadata": {
    "colab_type": "text",
    "id": "GyW3hzw7VYzQ"
   },
   "source": [
    "### Step 4. 대여일자별 데이터의 수를 데이터프레임으로 출력하고, 가장 많은 데이터가 있는 날짜순으로 정렬하세요."
   ]
  },
  {
   "cell_type": "code",
   "execution_count": null,
   "metadata": {
    "colab": {
     "base_uri": "https://localhost:8080/",
     "height": 855
    },
    "colab_type": "code",
    "executionInfo": {
     "elapsed": 6433,
     "status": "ok",
     "timestamp": 1571342898459,
     "user": {
      "displayName": "kang sanghun",
      "photoUrl": "",
      "userId": "12450865979153508193"
     },
     "user_tz": -540
    },
    "id": "tzNwkbQHVYzQ",
    "outputId": "1b7929cd-d156-4b75-92ba-d93097062d50",
    "scrolled": false
   },
   "outputs": [],
   "source": []
  },
  {
   "cell_type": "markdown",
   "metadata": {
    "colab_type": "text",
    "id": "KGmFIu-mVYzU"
   },
   "source": [
    "### Step 5. 각 일자의 요일을 dt 접근자의 day_name() 함수를 사용하여 '요일' 컬럼에 추가하고 각 요일별 이용 횟수의 총합을 출력하세요."
   ]
  },
  {
   "cell_type": "code",
   "execution_count": null,
   "metadata": {
    "colab": {
     "base_uri": "https://localhost:8080/",
     "height": 390
    },
    "colab_type": "code",
    "executionInfo": {
     "elapsed": 6424,
     "status": "ok",
     "timestamp": 1571342898459,
     "user": {
      "displayName": "kang sanghun",
      "photoUrl": "",
      "userId": "12450865979153508193"
     },
     "user_tz": -540
    },
    "id": "qvi0g7fxVYzU",
    "outputId": "d5307178-5242-4e2a-9ee0-199d4e1fedf8",
    "scrolled": true
   },
   "outputs": [],
   "source": []
  },
  {
   "cell_type": "markdown",
   "metadata": {
    "colab_type": "text",
    "id": "qciQNL3mVYzX"
   },
   "source": [
    "### Step 6. 각 요일별 가장 많이 이용한 대여소번호를 찾고 사용횟수를 출력하세요."
   ]
  },
  {
   "cell_type": "code",
   "execution_count": null,
   "metadata": {
    "colab": {
     "base_uri": "https://localhost:8080/",
     "height": 34
    },
    "colab_type": "code",
    "executionInfo": {
     "elapsed": 6417,
     "status": "ok",
     "timestamp": 1571342898460,
     "user": {
      "displayName": "kang sanghun",
      "photoUrl": "",
      "userId": "12450865979153508193"
     },
     "user_tz": -540
    },
    "id": "MppHcIx0VYzX",
    "outputId": "12706044-01be-42e3-9db5-662541856cc0"
   },
   "outputs": [],
   "source": []
  },
  {
   "cell_type": "markdown",
   "metadata": {
    "colab_type": "text",
    "id": "PEw7OnTWVYza"
   },
   "source": [
    "### Step 7.  나이대별 대여구분 코드의 (일일권/전체횟수) 비율을 구한 후 가장 높은 비율을 가지는 나이대를 확인하세요. \n",
    "**일일권의 경우 '일일권' 과 '일일권(비회원)'을 모두 포함하세요.**"
   ]
  },
  {
   "cell_type": "code",
   "execution_count": null,
   "metadata": {},
   "outputs": [],
   "source": []
  },
  {
   "cell_type": "markdown",
   "metadata": {
    "colab_type": "text",
    "id": "t27VIXOlVYzd"
   },
   "source": [
    "### Step8. 연령대별 평균 이동거리를 구하세요."
   ]
  },
  {
   "cell_type": "code",
   "execution_count": null,
   "metadata": {
    "colab": {
     "base_uri": "https://localhost:8080/",
     "height": 34
    },
    "colab_type": "code",
    "executionInfo": {
     "elapsed": 6404,
     "status": "ok",
     "timestamp": 1571342898461,
     "user": {
      "displayName": "kang sanghun",
      "photoUrl": "",
      "userId": "12450865979153508193"
     },
     "user_tz": -540
    },
    "id": "xM6-iH1jVYzd",
    "outputId": "f95c53b9-6c48-466e-d4d2-bda311efc10c"
   },
   "outputs": [],
   "source": []
  },
  {
   "cell_type": "markdown",
   "metadata": {
    "colab_type": "text",
    "id": "2dwISsORVYzg"
   },
   "source": [
    "### Step 9. 연령대 코드가 20대인 데이터를 추출하고,이동거리값이 추출한 데이터의 이동거리값의 평균 이상인 데이터의 탄소량 평균을 추출하세요. "
   ]
  },
  {
   "cell_type": "code",
   "execution_count": null,
   "metadata": {
    "colab": {
     "base_uri": "https://localhost:8080/",
     "height": 85
    },
    "colab_type": "code",
    "executionInfo": {
     "elapsed": 6399,
     "status": "ok",
     "timestamp": 1571342898462,
     "user": {
      "displayName": "kang sanghun",
      "photoUrl": "",
      "userId": "12450865979153508193"
     },
     "user_tz": -540
    },
    "id": "4QcUCpT2VYzg",
    "outputId": "b188cb3a-2ecd-43cc-b60b-cab0cdbc4548",
    "scrolled": false
   },
   "outputs": [],
   "source": []
  },
  {
   "cell_type": "markdown",
   "metadata": {
    "colab_type": "text",
    "id": "zu4-DLtnVYzi"
   },
   "source": [
    "### Step 10. 평일 (월~금) 출근 시간대(오전 6,7,8시)의 대여소별 이용 횟수를 구해서 각 대여시간별 이용 횟수의 상위 3개 대여소와 이용횟수를 출력하세요."
   ]
  },
  {
   "cell_type": "code",
   "execution_count": null,
   "metadata": {
    "colab": {
     "base_uri": "https://localhost:8080/",
     "height": 102
    },
    "colab_type": "code",
    "executionInfo": {
     "elapsed": 6392,
     "status": "ok",
     "timestamp": 1571342898462,
     "user": {
      "displayName": "kang sanghun",
      "photoUrl": "",
      "userId": "12450865979153508193"
     },
     "user_tz": -540
    },
    "id": "_H_WtmaQVYzj",
    "outputId": "ada1d2c5-25e3-46e0-86dc-00a1cd73a2ec"
   },
   "outputs": [],
   "source": []
  },
  {
   "cell_type": "markdown",
   "metadata": {
    "colab_type": "text",
    "id": "9Hflvi7uVYzl"
   },
   "source": [
    "### Step 11. 성별(남 : 'M' or 'm' / 여 : 'F' or 'f')에 따른 사용시간별 운동량의 평균값을 계산하세요."
   ]
  },
  {
   "cell_type": "code",
   "execution_count": null,
   "metadata": {},
   "outputs": [],
   "source": []
  },
  {
   "cell_type": "markdown",
   "metadata": {
    "colab_type": "text",
    "id": "9Hflvi7uVYzl"
   },
   "source": [
    "### Step 12. 대여구분코드를 (정기권/일일권) 두 집단으로 만든뒤(단체권은 일일권으로 한다) 대여구분코드 종류에 따라서 이용시간이 차이가 있는지 확인하세요."
   ]
  },
  {
   "cell_type": "code",
   "execution_count": null,
   "metadata": {},
   "outputs": [],
   "source": []
  }
 ],
 "metadata": {
  "anaconda-cloud": {},
  "colab": {
   "collapsed_sections": [],
   "name": "직업_solution.ipynb",
   "provenance": []
  },
  "kernelspec": {
   "display_name": "Python 3 (ipykernel)",
   "language": "python",
   "name": "python3"
  },
  "language_info": {
   "codemirror_mode": {
    "name": "ipython",
    "version": 3
   },
   "file_extension": ".py",
   "mimetype": "text/x-python",
   "name": "python",
   "nbconvert_exporter": "python",
   "pygments_lexer": "ipython3",
   "version": "3.11.5"
  }
 },
 "nbformat": 4,
 "nbformat_minor": 1
}
