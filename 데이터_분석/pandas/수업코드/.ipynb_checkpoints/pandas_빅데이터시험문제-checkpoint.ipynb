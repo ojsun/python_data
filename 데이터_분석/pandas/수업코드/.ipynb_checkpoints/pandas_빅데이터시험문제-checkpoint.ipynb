{
 "cells": [
  {
   "cell_type": "markdown",
   "id": "355439b6-b8c3-4aab-b486-e63d1d52772a",
   "metadata": {},
   "source": [
    "### 빅데이터 분석기사 시험문제"
   ]
  },
  {
   "cell_type": "code",
   "execution_count": 1,
   "id": "f561c45b-3375-4749-b251-7a202ab11166",
   "metadata": {
    "tags": []
   },
   "outputs": [],
   "source": [
    "import pandas as pd\n",
    "import numpy as np"
   ]
  },
  {
   "cell_type": "markdown",
   "id": "e8d78626-d5ef-4307-ae5f-8ee3d090294c",
   "metadata": {},
   "source": [
    "### 1번 문제) \n",
    "첫번째 데이터 부터 순서대로 50:50으로 데이터를 나누고, 앞에서 부터 50%의 데이터(이하, A그룹)는 'f1'컬럼의 결측치를 A그룹의 중앙값으로 채우고, 뒤에서부터 50% 데이터(이하, B그룹)는 'f1'컬럼의 결측치를 B그룹의 최대값으로 채운 후, A그룹과 B그룹의 표준편차 합을 구하시오. (소수점 첫째자리)"
   ]
  },
  {
   "cell_type": "code",
   "execution_count": null,
   "id": "768fa54b-624b-4038-bc3c-31ab8e6790fb",
   "metadata": {},
   "outputs": [],
   "source": [
    "## 1번 문제 -쌤\n",
    "# 순서대로 50% 1,2그룹으로 나눔\n",
    "# A그룹은 누락값을 중앙값으로 f1컬럼대상  B그룹 누락값을 최대값으로f1컬럼대상\n",
    "# A,B의 표준편차"
   ]
  },
  {
   "cell_type": "code",
   "execution_count": 2,
   "id": "e6cb769f-3b7b-4dd2-815d-63398124d0f3",
   "metadata": {},
   "outputs": [],
   "source": [
    "df=pd.read_csv('../data/basic1.csv')"
   ]
  },
  {
   "cell_type": "code",
   "execution_count": null,
   "id": "1fb1a442-63e8-4985-87aa-de4d01bf400c",
   "metadata": {},
   "outputs": [],
   "source": [
    "# 순서대로 50% 1,2그룹으로 나눔\n",
    "A=df.iloc[:50]\n",
    "B=df.iloc[50:]\n",
    "print(A.shape, B.shape)"
   ]
  },
  {
   "cell_type": "code",
   "execution_count": null,
   "id": "f68b066b-80b0-4e13-a7dc-f13a793ff3b4",
   "metadata": {},
   "outputs": [],
   "source": [
    "# A그룹은 누락값을 중앙값으로 f1컬럼대상\n",
    "# B그룹 누락값을 최대값으로 f1컬럼대상\n",
    "A_median=A['f1'].median()\n",
    "B_max=B['f1'].max()\n",
    "\n",
    "A_fill=A['f1'].fillna(A_median)\n",
    "B_fill=B['f1'].fillna(B_max)\n",
    "print(A_fill.count(), B_fill.count())"
   ]
  },
  {
   "cell_type": "code",
   "execution_count": null,
   "id": "75d44f70-028e-4a6d-8138-9244c714ebd0",
   "metadata": {},
   "outputs": [],
   "source": [
    "# A,B의 표준편차의 합\n",
    "std_sum = A_fill.std() + B_fill.std()\n",
    "round(std_sum, 1)"
   ]
  },
  {
   "cell_type": "code",
   "execution_count": null,
   "id": "df1ab9b4-c02b-4cab-b9db-7c6b33a03f23",
   "metadata": {},
   "outputs": [],
   "source": [
    "## 한줄로 식만들기 round(A['f'].A_fill.std()+B_fill.std(),1))"
   ]
  },
  {
   "cell_type": "markdown",
   "id": "a52ec27f-4805-4d6c-bead-87fb2271b279",
   "metadata": {},
   "source": [
    "### 2번문제 --쌤\n",
    " 'f4'컬럼 기준 내림차순 정렬과 'f5'컬럼 기준 오름차순 정렬을 순서대로 다중 조건 정렬하고나서 앞에서부터 10개의 데이터 중 'f5'컬럼의 최소값을 찾고, 이 최소값으로 앞에서 부터 10개의 'f5'컬럼 데이터를 변경함. 그리고 'f5'컬럼의 평균값을 계산함. (단 소수점 둘째자리까지 출력(셋째자리에서 반올림))"
   ]
  },
  {
   "cell_type": "code",
   "execution_count": null,
   "id": "57349598-0c56-48a4-96c1-df311180c0e7",
   "metadata": {},
   "outputs": [],
   "source": [
    "# 1. 'f4' 컬럼기준 내림차순 정렬 'f5'기준 올림차순\n",
    "# 2. 앞에서부터 10개 데이터 중 'f5'컬럼 의 최소값\n",
    "# 3. 앞에서부터 10개의 'f5'컬럼 데이터 변경\n",
    "# 4. 'f5' 컬럼의 평균값(소수점 둘째)"
   ]
  },
  {
   "cell_type": "code",
   "execution_count": null,
   "id": "d5ed21ac-b549-46f5-8251-346a284cfb6c",
   "metadata": {},
   "outputs": [],
   "source": [
    "# 1\n",
    "sorted_df=df.sort_values(['f4','f5'],ascending=[False,True])  \n",
    "#두 컬럼값을 다르게 sort하기\n",
    "#참고: 값 원본에 저장하기 ---copy(): 참조형 데이커를 복사하는 함수, 같은 값을갖는 변수가 됨\n",
    "# df를 복사하는 방법\n",
    "sorted_df2 = sorted_df.copy()"
   ]
  },
  {
   "cell_type": "code",
   "execution_count": null,
   "id": "b5f16a61-9445-4f9e-b675-d945aa66415a",
   "metadata": {},
   "outputs": [],
   "source": [
    "# 2 \n",
    "sorted_df['f5'].iloc[10]\n",
    "sorted_df.iloc[:10]['f5']\n",
    "\n",
    " ## 추천/ 이것만 다음 단계에서 작업 가능/ 특정위치에 값 넣으려면 iloc만 사용하는것 권유\n",
    "sorted_df.iloc[:10, -1]  # 이거 사용\n",
    "\n",
    "sorted_df.head(10)['f5']\n"
   ]
  },
  {
   "cell_type": "code",
   "execution_count": null,
   "id": "bfc27ef9-7e35-43cb-b8af-bff557d44c48",
   "metadata": {},
   "outputs": [],
   "source": [
    "# 2-1 값 바꾸기 --참조형 데이터\n",
    "min_value=sorted_df2.iloc[:10, -1].min()\n",
    "sorted_df2.iloc[:10, -1]=min_value  "
   ]
  },
  {
   "cell_type": "code",
   "execution_count": null,
   "id": "17de7fa1-96a0-4ec9-9e46-f456f85cd7ea",
   "metadata": {},
   "outputs": [],
   "source": [
    "# 3\n",
    "round(sorted_df2['f5'].mean(),2)"
   ]
  }
 ],
 "metadata": {
  "kernelspec": {
   "display_name": "Python 3 (ipykernel)",
   "language": "python",
   "name": "python3"
  },
  "language_info": {
   "codemirror_mode": {
    "name": "ipython",
    "version": 3
   },
   "file_extension": ".py",
   "mimetype": "text/x-python",
   "name": "python",
   "nbconvert_exporter": "python",
   "pygments_lexer": "ipython3",
   "version": "3.11.5"
  }
 },
 "nbformat": 4,
 "nbformat_minor": 5
}
