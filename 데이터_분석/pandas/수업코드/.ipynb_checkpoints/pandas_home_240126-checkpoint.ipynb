{
 "cells": [
  {
   "cell_type": "code",
   "execution_count": 1,
   "id": "db7f6d9c-2846-4142-a566-08a4a0ff49a9",
   "metadata": {
    "tags": []
   },
   "outputs": [],
   "source": [
    "import pandas as pd"
   ]
  },
  {
   "cell_type": "code",
   "execution_count": 3,
   "id": "6b8ce492-1638-4076-9be6-bd8cec87b014",
   "metadata": {
    "tags": []
   },
   "outputs": [
    {
     "data": {
      "text/plain": [
       "0    babana\n",
       "1        42\n",
       "dtype: object"
      ]
     },
     "execution_count": 3,
     "metadata": {},
     "output_type": "execute_result"
    }
   ],
   "source": [
    "s=pd.Series(['babana',42])\n",
    "s"
   ]
  },
  {
   "cell_type": "code",
   "execution_count": 4,
   "id": "f508d224-e5d2-4247-ae09-16502c4a82b7",
   "metadata": {
    "tags": []
   },
   "outputs": [
    {
     "data": {
      "text/plain": [
       "Person    oh jaesun\n",
       "Who        sonia oh\n",
       "dtype: object"
      ]
     },
     "execution_count": 4,
     "metadata": {},
     "output_type": "execute_result"
    }
   ],
   "source": [
    "s=pd.Series(data=['oh jaesun','sonia oh'], index=['Person','Who'])\n",
    "s"
   ]
  },
  {
   "cell_type": "code",
   "execution_count": 8,
   "id": "de8fabb7-90c8-4eab-9ded-1b6c46f7167e",
   "metadata": {
    "tags": []
   },
   "outputs": [
    {
     "name": "stdout",
     "output_type": "stream",
     "text": [
      "            occupation        Born        Died  Age\n",
      "Rosaline       Chemist  1920-07-25  1958-04-16   37\n",
      "William   Statistician  1876-06-13  1937-10-16   61\n"
     ]
    }
   ],
   "source": [
    "Scientists=pd.DataFrame(\n",
    "    data={\n",
    "    'occupation':[\"Chemist\",\"Statistician\"],\n",
    "    'Born':[\"1920-07-25\",\"1876-06-13\"],\n",
    "    'Died':[\"1958-04-16\",\"1937-10-16\"],\n",
    "    'Age':[37,61]\n",
    "},\n",
    "    index=[\"Rosaline\",\"William\"],\n",
    "    columns=[\"occupation\",\"Born\",\"Died\",\"Age\"]\n",
    ")\n",
    "print(Scientists)"
   ]
  },
  {
   "cell_type": "code",
   "execution_count": 22,
   "id": "5ac348db-c8b6-4840-be06-dc8e8adcd1ea",
   "metadata": {
    "tags": []
   },
   "outputs": [
    {
     "data": {
      "text/plain": [
       "pandas.core.series.Series"
      ]
     },
     "execution_count": 22,
     "metadata": {},
     "output_type": "execute_result"
    }
   ],
   "source": [
    "first_row=Scientists.loc['William']\n",
    "type(first_row)"
   ]
  },
  {
   "cell_type": "code",
   "execution_count": 31,
   "id": "8b6f90cc-a4cb-478b-bf2b-f9a2c59d6390",
   "metadata": {
    "tags": []
   },
   "outputs": [
    {
     "name": "stdout",
     "output_type": "stream",
     "text": [
      "Index(['occupation', 'Born', 'Died', 'Age'], dtype='object')\n"
     ]
    }
   ],
   "source": [
    "print(first_row.index)"
   ]
  },
  {
   "cell_type": "code",
   "execution_count": 33,
   "id": "be5481d5-2c2d-46ff-9fb9-50966ab0e964",
   "metadata": {
    "tags": []
   },
   "outputs": [
    {
     "name": "stdout",
     "output_type": "stream",
     "text": [
      "Rosaline\n"
     ]
    }
   ],
   "source": [
    "print(Scientists.index[0])"
   ]
  },
  {
   "cell_type": "code",
   "execution_count": 34,
   "id": "39cd6cbf-e678-4856-8775-162897fa8ecb",
   "metadata": {
    "tags": []
   },
   "outputs": [
    {
     "name": "stdout",
     "output_type": "stream",
     "text": [
      "occupation\n"
     ]
    }
   ],
   "source": [
    "print(Scientists.keys()[0])"
   ]
  },
  {
   "cell_type": "code",
   "execution_count": 39,
   "id": "503b881d-20ad-4b6c-9cea-c1584788f8e4",
   "metadata": {
    "tags": []
   },
   "outputs": [],
   "source": [
    "ages=Scientists['Age']"
   ]
  },
  {
   "cell_type": "code",
   "execution_count": 40,
   "id": "4185cdd2-9601-445f-9029-b4691d1572b4",
   "metadata": {
    "tags": []
   },
   "outputs": [
    {
     "data": {
      "text/plain": [
       "49.0"
      ]
     },
     "execution_count": 40,
     "metadata": {},
     "output_type": "execute_result"
    }
   ],
   "source": [
    "ages.mean()"
   ]
  },
  {
   "cell_type": "code",
   "execution_count": 42,
   "id": "93245f73-ee2b-4dae-a053-e6bfb875a13c",
   "metadata": {
    "tags": []
   },
   "outputs": [
    {
     "data": {
      "text/plain": [
       "61"
      ]
     },
     "execution_count": 42,
     "metadata": {},
     "output_type": "execute_result"
    }
   ],
   "source": [
    "ages.max()"
   ]
  },
  {
   "cell_type": "code",
   "execution_count": 43,
   "id": "e03af615-0dad-4b9b-82df-5d1b078e7d33",
   "metadata": {
    "tags": []
   },
   "outputs": [
    {
     "data": {
      "text/plain": [
       "37"
      ]
     },
     "execution_count": 43,
     "metadata": {},
     "output_type": "execute_result"
    }
   ],
   "source": [
    "ages.min()"
   ]
  },
  {
   "cell_type": "code",
   "execution_count": 44,
   "id": "296f717d-c60a-4b40-a77a-eaf642bc650d",
   "metadata": {
    "tags": []
   },
   "outputs": [
    {
     "data": {
      "text/plain": [
       "16.97056274847714"
      ]
     },
     "execution_count": 44,
     "metadata": {},
     "output_type": "execute_result"
    }
   ],
   "source": [
    "ages.std()"
   ]
  },
  {
   "cell_type": "code",
   "execution_count": 48,
   "id": "43ffc7aa-c62f-4772-9bd4-1d2cf21a29f5",
   "metadata": {
    "tags": []
   },
   "outputs": [
    {
     "name": "stdout",
     "output_type": "stream",
     "text": [
      "<class 'pandas.core.frame.DataFrame'>\n",
      "RangeIndex: 8 entries, 0 to 7\n",
      "Data columns (total 5 columns):\n",
      " #   Column      Non-Null Count  Dtype \n",
      "---  ------      --------------  ----- \n",
      " 0   Name        8 non-null      object\n",
      " 1   Born        8 non-null      object\n",
      " 2   Died        8 non-null      object\n",
      " 3   Age         8 non-null      int64 \n",
      " 4   Occupation  8 non-null      object\n",
      "dtypes: int64(1), object(4)\n",
      "memory usage: 452.0+ bytes\n"
     ]
    }
   ],
   "source": [
    "scientists=pd.read_csv('../data/scientists.csv')\n",
    "scientists.info()"
   ]
  },
  {
   "cell_type": "code",
   "execution_count": 50,
   "id": "9d1c4393-ed15-488a-9fdb-e7bcbcb90a15",
   "metadata": {
    "tags": []
   },
   "outputs": [
    {
     "data": {
      "text/plain": [
       "0    37\n",
       "1    61\n",
       "2    90\n",
       "3    66\n",
       "4    56\n",
       "5    45\n",
       "6    41\n",
       "7    77\n",
       "Name: Age, dtype: int64"
      ]
     },
     "execution_count": 50,
     "metadata": {},
     "output_type": "execute_result"
    }
   ],
   "source": [
    "ages=scientists['Age']\n",
    "ages"
   ]
  },
  {
   "cell_type": "code",
   "execution_count": 51,
   "id": "b88d6bbe-a8e2-4bc6-8001-374da26985a5",
   "metadata": {
    "tags": []
   },
   "outputs": [
    {
     "data": {
      "text/plain": [
       "count     8.000000\n",
       "mean     59.125000\n",
       "std      18.325918\n",
       "min      37.000000\n",
       "25%      44.000000\n",
       "50%      58.500000\n",
       "75%      68.750000\n",
       "max      90.000000\n",
       "Name: Age, dtype: float64"
      ]
     },
     "execution_count": 51,
     "metadata": {},
     "output_type": "execute_result"
    }
   ],
   "source": [
    "ages.describe()"
   ]
  },
  {
   "cell_type": "code",
   "execution_count": 52,
   "id": "7f07a912-1ad9-4e41-abb3-0bc51d5122f4",
   "metadata": {
    "tags": []
   },
   "outputs": [
    {
     "data": {
      "text/plain": [
       "59.125"
      ]
     },
     "execution_count": 52,
     "metadata": {},
     "output_type": "execute_result"
    }
   ],
   "source": [
    "ages.mean()"
   ]
  },
  {
   "cell_type": "code",
   "execution_count": 53,
   "id": "9d708744-5e7b-4ab5-8d3b-3421d00eb616",
   "metadata": {
    "tags": []
   },
   "outputs": [
    {
     "name": "stdout",
     "output_type": "stream",
     "text": [
      "1    61\n",
      "2    90\n",
      "3    66\n",
      "7    77\n",
      "Name: Age, dtype: int64\n"
     ]
    }
   ],
   "source": [
    "print(ages[ages > ages.mean()])"
   ]
  },
  {
   "cell_type": "code",
   "execution_count": 54,
   "id": "e6183027-e3e5-4343-8975-1e4924fa9740",
   "metadata": {
    "tags": []
   },
   "outputs": [
    {
     "name": "stdout",
     "output_type": "stream",
     "text": [
      "0    False\n",
      "1     True\n",
      "2     True\n",
      "3     True\n",
      "4    False\n",
      "5    False\n",
      "6    False\n",
      "7     True\n",
      "Name: Age, dtype: bool\n"
     ]
    }
   ],
   "source": [
    "print(ages > ages.mean())"
   ]
  },
  {
   "cell_type": "code",
   "execution_count": 55,
   "id": "69690e9e-053e-4906-be17-ecc97f057b2f",
   "metadata": {
    "tags": []
   },
   "outputs": [
    {
     "data": {
      "text/plain": [
       "0    37\n",
       "1    61\n",
       "3    66\n",
       "5    45\n",
       "Name: Age, dtype: int64"
      ]
     },
     "execution_count": 55,
     "metadata": {},
     "output_type": "execute_result"
    }
   ],
   "source": [
    "bool_values=[True,True,False,True,False,True,False,False]\n",
    "ages[bool_values]"
   ]
  },
  {
   "cell_type": "code",
   "execution_count": 60,
   "id": "ea33c3c4-8594-4a49-975e-196939f161d6",
   "metadata": {
    "tags": []
   },
   "outputs": [
    {
     "name": "stdout",
     "output_type": "stream",
     "text": [
      "0    370\n",
      "1    610\n",
      "2    900\n",
      "3    660\n",
      "4    560\n",
      "5    450\n",
      "6    410\n",
      "7    770\n",
      "Name: Age, dtype: int64\n"
     ]
    }
   ],
   "source": [
    "print(ages*10)"
   ]
  },
  {
   "cell_type": "code",
   "execution_count": 62,
   "id": "d01799eb-5031-49e0-b218-c50f5c7d1bdd",
   "metadata": {
    "tags": []
   },
   "outputs": [
    {
     "name": "stdout",
     "output_type": "stream",
     "text": [
      "0    38.0\n",
      "1    71.0\n",
      "2     NaN\n",
      "3     NaN\n",
      "4     NaN\n",
      "5     NaN\n",
      "6     NaN\n",
      "7     NaN\n",
      "dtype: float64\n"
     ]
    }
   ],
   "source": [
    "print(ages+ pd.Series([1,10]))"
   ]
  },
  {
   "cell_type": "code",
   "execution_count": 63,
   "id": "fcfd386a-2ed6-4152-b1f6-8705b94e36ce",
   "metadata": {
    "tags": []
   },
   "outputs": [
    {
     "data": {
      "text/plain": [
       "7    77\n",
       "6    41\n",
       "5    45\n",
       "4    56\n",
       "3    66\n",
       "2    90\n",
       "1    61\n",
       "0    37\n",
       "Name: Age, dtype: int64"
      ]
     },
     "execution_count": 63,
     "metadata": {},
     "output_type": "execute_result"
    }
   ],
   "source": [
    "rev_ages=ages.sort_index(ascending=False)\n",
    "rev_ages"
   ]
  },
  {
   "cell_type": "code",
   "execution_count": null,
   "id": "71725cce-fb6f-455e-8ca0-64f3a8c6f776",
   "metadata": {},
   "outputs": [],
   "source": []
  },
  {
   "cell_type": "code",
   "execution_count": null,
   "id": "c35ee6c1-b9b5-4125-ba67-991f41c77783",
   "metadata": {},
   "outputs": [],
   "source": []
  },
  {
   "cell_type": "code",
   "execution_count": null,
   "id": "714aa71b-18a2-4dd2-bf84-7b94ac9b423d",
   "metadata": {},
   "outputs": [],
   "source": []
  },
  {
   "cell_type": "code",
   "execution_count": null,
   "id": "1757b547-d6ad-4597-81de-767e49477dd5",
   "metadata": {},
   "outputs": [],
   "source": []
  },
  {
   "cell_type": "code",
   "execution_count": null,
   "id": "ae59bd9a-5337-4feb-b541-5ed5bf0ef638",
   "metadata": {},
   "outputs": [],
   "source": []
  }
 ],
 "metadata": {
  "kernelspec": {
   "display_name": "Python 3 (ipykernel)",
   "language": "python",
   "name": "python3"
  },
  "language_info": {
   "codemirror_mode": {
    "name": "ipython",
    "version": 3
   },
   "file_extension": ".py",
   "mimetype": "text/x-python",
   "name": "python",
   "nbconvert_exporter": "python",
   "pygments_lexer": "ipython3",
   "version": "3.11.5"
  }
 },
 "nbformat": 4,
 "nbformat_minor": 5
}
