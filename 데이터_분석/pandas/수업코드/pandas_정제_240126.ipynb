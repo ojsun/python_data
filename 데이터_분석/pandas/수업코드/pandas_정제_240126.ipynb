{
 "cells": [
  {
   "cell_type": "code",
   "execution_count": 3,
   "id": "46dd2bd1-3bfb-4345-a267-81e11b107e24",
   "metadata": {
    "tags": []
   },
   "outputs": [],
   "source": [
    "import pandas as pd\n",
    "import numpy as np"
   ]
  },
  {
   "cell_type": "markdown",
   "id": "c933f8a0-8f20-4ffa-8710-32ab04be1aa3",
   "metadata": {},
   "source": [
    "### 누락값(nan) 처리"
   ]
  },
  {
   "cell_type": "code",
   "execution_count": null,
   "id": "67a6492b-7737-4ceb-8469-91c6a62f6009",
   "metadata": {},
   "outputs": [],
   "source": [
    "# 누락값 확인"
   ]
  },
  {
   "cell_type": "code",
   "execution_count": null,
   "id": "6c6e7f66-f7a1-45da-959a-7bc18991f0e0",
   "metadata": {},
   "outputs": [],
   "source": [
    "print(np.NaN)\n",
    "print(np.nan)\n",
    "print(np.NAN)"
   ]
  },
  {
   "cell_type": "code",
   "execution_count": null,
   "id": "798f78d7-c6e3-4588-b90f-868687564976",
   "metadata": {},
   "outputs": [],
   "source": [
    "pd.Series([1,np.NaN,3])"
   ]
  },
  {
   "cell_type": "code",
   "execution_count": null,
   "id": "b48059d6-c03d-4d90-8d18-21fa7303e325",
   "metadata": {},
   "outputs": [],
   "source": [
    "pd.isnull(None)"
   ]
  },
  {
   "cell_type": "code",
   "execution_count": null,
   "id": "ddcc61d4-1ae7-46d6-b682-859e3bd85534",
   "metadata": {},
   "outputs": [],
   "source": [
    "pd.isnull(False)"
   ]
  },
  {
   "cell_type": "code",
   "execution_count": null,
   "id": "980cc244-aada-42eb-8c6c-b0ac75671aa3",
   "metadata": {},
   "outputs": [],
   "source": [
    "pd.isnull(np.NaN)"
   ]
  },
  {
   "cell_type": "code",
   "execution_count": null,
   "id": "6055003e-47c4-47d6-9e4e-9c96ecf18586",
   "metadata": {},
   "outputs": [],
   "source": [
    "pd.notnull(np.NaN)"
   ]
  },
  {
   "cell_type": "code",
   "execution_count": null,
   "id": "6541b6fa-20ca-4a0d-9b42-7e3e0ba66266",
   "metadata": {},
   "outputs": [],
   "source": [
    "pd.notnull(None)"
   ]
  },
  {
   "cell_type": "code",
   "execution_count": null,
   "id": "a9c730e1-cc34-4d2e-9f24-7ed6dc4da433",
   "metadata": {},
   "outputs": [],
   "source": [
    "pd.notnull(False)"
   ]
  },
  {
   "cell_type": "code",
   "execution_count": null,
   "id": "cefafa62-3d98-4290-9c33-8d43ba301a89",
   "metadata": {},
   "outputs": [],
   "source": [
    "ebola=pd.read_csv('../data/country_timeseries.csv')\n",
    "ebola.head()"
   ]
  },
  {
   "cell_type": "code",
   "execution_count": null,
   "id": "058e7f5b-0f20-4f9e-ba40-436a968725e1",
   "metadata": {},
   "outputs": [],
   "source": [
    "ebola.count()"
   ]
  },
  {
   "cell_type": "code",
   "execution_count": null,
   "id": "f2a18f8f-7cdd-404a-b4e0-f7d268e0ca2a",
   "metadata": {},
   "outputs": [],
   "source": [
    "ebola.count()"
   ]
  },
  {
   "cell_type": "code",
   "execution_count": null,
   "id": "3728b6a8-f830-430e-af84-155ab0ddd034",
   "metadata": {},
   "outputs": [],
   "source": [
    "ebola.info()"
   ]
  },
  {
   "cell_type": "code",
   "execution_count": null,
   "id": "f70b1a78-7745-479e-a04b-86561147fcec",
   "metadata": {},
   "outputs": [],
   "source": [
    "ebola.shape[0] - ebola.count() "
   ]
  },
  {
   "cell_type": "code",
   "execution_count": null,
   "id": "59328d10-8c55-43b0-82d2-36d2b353a905",
   "metadata": {},
   "outputs": [],
   "source": [
    "ebola.isnull().sum().sum()"
   ]
  },
  {
   "cell_type": "code",
   "execution_count": null,
   "id": "04847259-ac39-4646-9068-4d602943ccc2",
   "metadata": {},
   "outputs": [],
   "source": [
    "int(False)"
   ]
  },
  {
   "cell_type": "code",
   "execution_count": null,
   "id": "b2cd61d1-2abf-4ae8-a4db-eb5870ff4570",
   "metadata": {},
   "outputs": [],
   "source": [
    "ebola['Cases_Guinea'].value_counts(dropna=True)"
   ]
  },
  {
   "cell_type": "code",
   "execution_count": null,
   "id": "006d1aa2-6327-4784-9b41-8268311debb0",
   "metadata": {},
   "outputs": [],
   "source": [
    "ebola.sum()"
   ]
  },
  {
   "cell_type": "code",
   "execution_count": null,
   "id": "0281ee24-1db7-4612-b3ac-b212ff6199ad",
   "metadata": {},
   "outputs": [],
   "source": [
    "ebola.info()"
   ]
  },
  {
   "cell_type": "code",
   "execution_count": null,
   "id": "84656f1e-3868-4fcf-a57e-115dcb24698b",
   "metadata": {},
   "outputs": [],
   "source": [
    "ebola.iloc[:,2:].mean()   # 일자로 나누어서 일일 발생자 확인"
   ]
  },
  {
   "cell_type": "code",
   "execution_count": null,
   "id": "09364c08-da9b-411d-92ba-5591d8595c03",
   "metadata": {},
   "outputs": [],
   "source": [
    "ebola.isnull().sum() / ebola.shape[0] *100"
   ]
  },
  {
   "cell_type": "code",
   "execution_count": null,
   "id": "1a323a21-5339-4ccf-bd9b-82fe5743ae5f",
   "metadata": {},
   "outputs": [],
   "source": [
    "ebola.notnull().sum() / ebola.shape[0] *100"
   ]
  },
  {
   "cell_type": "code",
   "execution_count": null,
   "id": "8fa30030-8622-4de4-81bb-8b5ba1a9a670",
   "metadata": {},
   "outputs": [],
   "source": [
    "ebola.notnull().sum(axis=1) / ebola.shape[1] *100"
   ]
  },
  {
   "cell_type": "code",
   "execution_count": null,
   "id": "492b8033-341a-47b5-8c01-9e3d8087a258",
   "metadata": {},
   "outputs": [],
   "source": [
    "!pip install missingno"
   ]
  },
  {
   "cell_type": "code",
   "execution_count": null,
   "id": "6c6403c6-db98-4ace-8f11-b639415e4527",
   "metadata": {},
   "outputs": [],
   "source": [
    "import missingno as msno"
   ]
  },
  {
   "cell_type": "code",
   "execution_count": null,
   "id": "499cd346-c2be-4b02-84cb-73866966ca48",
   "metadata": {},
   "outputs": [],
   "source": [
    "msno.matrix(ebola)   # 누락값 그래프"
   ]
  },
  {
   "cell_type": "code",
   "execution_count": null,
   "id": "1fd3e7b0-693d-4897-a03c-ca7cca8d84e2",
   "metadata": {},
   "outputs": [],
   "source": [
    "msno.bar(ebola)"
   ]
  },
  {
   "cell_type": "code",
   "execution_count": null,
   "id": "3587c7f8-e13a-428b-9b9e-2370922e6911",
   "metadata": {},
   "outputs": [],
   "source": []
  },
  {
   "cell_type": "code",
   "execution_count": null,
   "id": "a4025fc5-8383-486d-9e0a-13c4274fd8a4",
   "metadata": {},
   "outputs": [],
   "source": [
    "## 누락값 처리 "
   ]
  },
  {
   "cell_type": "code",
   "execution_count": null,
   "id": "495a7067-0f3a-47fe-bc92-5f9c9f0b1c35",
   "metadata": {},
   "outputs": [],
   "source": [
    "ebola.fillna(0)"
   ]
  },
  {
   "cell_type": "code",
   "execution_count": null,
   "id": "7472c8f5-c98f-471b-a3fd-3fcc13d329e5",
   "metadata": {},
   "outputs": [],
   "source": [
    "ebola.fillna(method='ffill')"
   ]
  },
  {
   "cell_type": "code",
   "execution_count": null,
   "id": "e3def20f-80ca-4b08-b8f3-4c2b30b1b529",
   "metadata": {},
   "outputs": [],
   "source": [
    "ebola.fillna(method='bfill')"
   ]
  },
  {
   "cell_type": "code",
   "execution_count": null,
   "id": "96a3a550-db81-4fc9-b2f8-834643da1c65",
   "metadata": {},
   "outputs": [],
   "source": [
    "ebola.interpolate()"
   ]
  },
  {
   "cell_type": "code",
   "execution_count": null,
   "id": "4ba231ac-a325-43ce-8aef-de03c85295c8",
   "metadata": {
    "scrolled": true
   },
   "outputs": [],
   "source": [
    "ebola.dropna(axis=0)"
   ]
  },
  {
   "cell_type": "code",
   "execution_count": null,
   "id": "5bdd92c2-cc96-4004-b5db-a9ea9a1775e3",
   "metadata": {},
   "outputs": [],
   "source": [
    "ebola.info()"
   ]
  },
  {
   "cell_type": "code",
   "execution_count": null,
   "id": "a2c3b9b4-ebed-436d-8ed0-48224819bcec",
   "metadata": {},
   "outputs": [],
   "source": [
    "ebola.dropna(axis=1)"
   ]
  },
  {
   "cell_type": "code",
   "execution_count": null,
   "id": "f7e4fdcc-b6ea-4963-aeb9-2bd984436e5f",
   "metadata": {
    "scrolled": true
   },
   "outputs": [],
   "source": [
    "ebola.dropna(subset=['Cases_Guinea'])"
   ]
  },
  {
   "cell_type": "code",
   "execution_count": null,
   "id": "63aa8c97-db6b-46df-8f97-0e60ba52ef76",
   "metadata": {},
   "outputs": [],
   "source": [
    "print(pd.__version__)"
   ]
  },
  {
   "cell_type": "code",
   "execution_count": null,
   "id": "149a72a2-1e02-46c0-9b7b-c31e23845f53",
   "metadata": {},
   "outputs": [],
   "source": [
    "print(np.__version__)"
   ]
  },
  {
   "cell_type": "code",
   "execution_count": null,
   "id": "df7f3fe1-178a-4c51-a49b-8a83688f41f1",
   "metadata": {},
   "outputs": [],
   "source": [
    "ebola_fill=ebola.fillna(method='bfill').fillna(0)"
   ]
  },
  {
   "cell_type": "code",
   "execution_count": null,
   "id": "e871fec0-5add-40fa-99dc-e5e6092c4b38",
   "metadata": {},
   "outputs": [],
   "source": [
    "ebola_fill.info()"
   ]
  },
  {
   "cell_type": "code",
   "execution_count": null,
   "id": "4aa108e3-bb24-4ccb-90f5-a9b72110d2a9",
   "metadata": {},
   "outputs": [],
   "source": []
  },
  {
   "cell_type": "markdown",
   "id": "dda95e4a-b22e-46be-b0f6-26920fb01288",
   "metadata": {},
   "source": [
    "1번 문제)  첫번째 데이터 부터 순서대로 50:50으로 데이터를 나누고, 앞에서 부터 50%의 데이터(이하, A그룹)는 'f1'컬럼의 결측치를 A그룹의 중앙값으로 채우고, 뒤에서부터 50% 데이터(이하, B그룹)는 'f1'컬럼의 결측치를 B그룹의 최대값으로 채운 후, A그룹과 B그룹의 표준편차 합을 구하시오. (소수점 첫째자리)\n"
   ]
  },
  {
   "cell_type": "code",
   "execution_count": null,
   "id": "e65b88b7-eaa0-458e-bb8a-b3805464d1db",
   "metadata": {},
   "outputs": [],
   "source": [
    "basic=pd.read_csv('../data/basic1.csv')"
   ]
  },
  {
   "cell_type": "code",
   "execution_count": null,
   "id": "beeee6f4-0df9-45bd-8527-da783de589d4",
   "metadata": {},
   "outputs": [],
   "source": [
    "basic.info()"
   ]
  },
  {
   "cell_type": "code",
   "execution_count": null,
   "id": "139fa5b8-83f3-4bd8-91b9-4134cf85430c",
   "metadata": {
    "scrolled": true
   },
   "outputs": [],
   "source": [
    "a_group=basic.iloc[range(50)]\n",
    "f1=a_group['f1']"
   ]
  },
  {
   "cell_type": "code",
   "execution_count": null,
   "id": "10986ad4-5c0f-452e-943b-4e3da9f0c0aa",
   "metadata": {},
   "outputs": [],
   "source": [
    "f1.median()"
   ]
  },
  {
   "cell_type": "code",
   "execution_count": null,
   "id": "d95e9ba3-5e37-4ec0-82f9-3ee401fd4dfe",
   "metadata": {},
   "outputs": [],
   "source": [
    "f1.fillna(68)"
   ]
  },
  {
   "cell_type": "code",
   "execution_count": null,
   "id": "6fbf6a8c-cca8-4dc4-b5eb-7bcc7e49a30c",
   "metadata": {},
   "outputs": [],
   "source": [
    "b_group=basic.iloc[50:]"
   ]
  },
  {
   "cell_type": "code",
   "execution_count": null,
   "id": "67879cd0-efeb-49b5-af6f-103a968cdbc1",
   "metadata": {},
   "outputs": [],
   "source": [
    "f1_1=b_group['f1']"
   ]
  },
  {
   "cell_type": "code",
   "execution_count": null,
   "id": "11b2747d-6721-4e54-8fb8-3a32accaa0fe",
   "metadata": {},
   "outputs": [],
   "source": [
    "f1_1.max()"
   ]
  },
  {
   "cell_type": "code",
   "execution_count": null,
   "id": "3831efef-02a9-4620-ba54-8f3a680130c4",
   "metadata": {},
   "outputs": [],
   "source": [
    "f1_1.fillna(111)"
   ]
  },
  {
   "cell_type": "code",
   "execution_count": null,
   "id": "cda8f016-3569-4509-a1d3-398529b242db",
   "metadata": {},
   "outputs": [],
   "source": [
    "print(round(f1.std()+f1_1.std(),1))"
   ]
  },
  {
   "cell_type": "code",
   "execution_count": null,
   "id": "99824354-fda7-49db-8c60-391dd2e37bcb",
   "metadata": {},
   "outputs": [],
   "source": []
  },
  {
   "cell_type": "markdown",
   "id": "b8cbc64b-c59e-4803-b625-0d6bc92bb35c",
   "metadata": {},
   "source": [
    "2번 문제)  'f4'컬럼 기준 내림차순 정렬과 'f5'컬럼 기준 오름차순 정렬을 순서대로 다중 조건 정렬하고나서 앞에서부터 10개의 데이터 중 'f5'컬럼의 최소값을 찾고, 이 최소값으로 앞에서 부터 10개의 'f5'컬럼 데이터를 변경함. 그리고 'f5'컬럼의 평균값을 계산함. (단 소수점 둘째자리까지 출력(셋째자리에서 반올림))"
   ]
  },
  {
   "cell_type": "code",
   "execution_count": null,
   "id": "5ed50d17-0318-4c5d-bece-d1319758afd4",
   "metadata": {},
   "outputs": [],
   "source": [
    "basic_sorted=basic.sort_values(['f4','f5'],ascending=[False,True])   #두 컬럼값을 다르게 sort하기"
   ]
  },
  {
   "cell_type": "code",
   "execution_count": null,
   "id": "dcdd8a37-6765-4080-ba6f-5515718b28d6",
   "metadata": {},
   "outputs": [],
   "source": [
    "# 앞에서 10개 데이터 중 f5컬럼 최소값 찾기\n",
    "# 이 최소값보다 큰 10개 f5 컬럼 변경\n",
    "# f5의 평균값(소숫점 2째자리)\n",
    "basic_sorted_10=(basic_sorted.f5.iloc[:-10].min())\n",
    "basic_sorted_10"
   ]
  },
  {
   "cell_type": "code",
   "execution_count": null,
   "id": "88a98581-4f60-4375-b8e0-43092a32d0c7",
   "metadata": {},
   "outputs": [],
   "source": [
    "# 행바꾸기\n",
    "a=round(basic['f5'].mean(),2)\n",
    "a"
   ]
  },
  {
   "cell_type": "markdown",
   "id": "df3ba86e-f2f2-4e54-bfa5-27014b1c6579",
   "metadata": {},
   "source": [
    "1번 문제) 첫번째 데이터 부터 순서대로 50:50으로 데이터를 나누고, 앞에서 부터 50%의 데이터(이하, A그룹)는 'f1'컬럼의 결측치를 A그룹의 중앙값으로 채우고, 뒤에서부터 50% 데이터(이하, B그룹)는 'f1'컬럼의 결측치를 B그룹의 최대값으로 채운 후, A그룹과 B그룹의 표준편차 합을 구하시오. (소수점 첫째자리)"
   ]
  },
  {
   "cell_type": "code",
   "execution_count": null,
   "id": "70828747-742a-4be0-aef1-cf2262fe9c74",
   "metadata": {},
   "outputs": [],
   "source": [
    "## 1번 분제 -쌤\n",
    "# 순서대로 50% 1,2그룹으로 나눔\n",
    "# A그룹은 누락값을 중앙값으로 f1컬럼대상  B그룹 누락값을 최대값으로f1컬럼대상\n",
    "# A,B의 표준편차"
   ]
  },
  {
   "cell_type": "code",
   "execution_count": 2,
   "id": "57e4afef-a215-4cd9-a66f-c78ea982893d",
   "metadata": {},
   "outputs": [],
   "source": [
    "df=pd.read_csv('../data/basic1.csv')"
   ]
  },
  {
   "cell_type": "code",
   "execution_count": null,
   "id": "a4cd5808-4865-445b-803c-f155d96556d1",
   "metadata": {},
   "outputs": [],
   "source": [
    "# 순서대로 50% 1,2그룹으로 나눔\n",
    "A=df.iloc[:50]\n",
    "B=df.iloc[50:]\n",
    "print(A.shape, B.shape)"
   ]
  },
  {
   "cell_type": "code",
   "execution_count": null,
   "id": "d6ad13c5-ad1e-4ac7-a2fe-c2721daa907d",
   "metadata": {},
   "outputs": [],
   "source": [
    "# A그룹은 누락값을 중앙값으로 f1컬럼대상\n",
    "# B그룹 누락값을 최대값으로 f1컬럼대상\n",
    "A_median=A['f1'].median()\n",
    "B_max=B['f1'].max()\n",
    "\n",
    "A_fill=A['f1'].fillna(A_median)\n",
    "B_fill=B['f1'].fillna(B_max)\n",
    "print(A_fill.count(), B_fill.count())"
   ]
  },
  {
   "cell_type": "code",
   "execution_count": 2,
   "id": "203d25c8-b283-4b44-860b-5aaf6066a92a",
   "metadata": {
    "tags": []
   },
   "outputs": [
    {
     "ename": "NameError",
     "evalue": "name 'A_fill' is not defined",
     "output_type": "error",
     "traceback": [
      "\u001b[1;31m---------------------------------------------------------------------------\u001b[0m",
      "\u001b[1;31mNameError\u001b[0m                                 Traceback (most recent call last)",
      "Cell \u001b[1;32mIn[2], line 2\u001b[0m\n\u001b[0;32m      1\u001b[0m \u001b[38;5;66;03m# A,B의 표준편차의 합\u001b[39;00m\n\u001b[1;32m----> 2\u001b[0m std_sum \u001b[38;5;241m=\u001b[39m A_fill\u001b[38;5;241m.\u001b[39mstd() \u001b[38;5;241m+\u001b[39m B_fill\u001b[38;5;241m.\u001b[39mstd()\n\u001b[0;32m      3\u001b[0m \u001b[38;5;28mround\u001b[39m(std_sum, \u001b[38;5;241m1\u001b[39m)\n",
      "\u001b[1;31mNameError\u001b[0m: name 'A_fill' is not defined"
     ]
    }
   ],
   "source": [
    "# A,B의 표준편차의 합\n",
    "std_sum = A_fill.std() + B_fill.std()\n",
    "round(std_sum, 1)"
   ]
  },
  {
   "cell_type": "code",
   "execution_count": null,
   "id": "b4ed122b-c2ac-4ce8-ad16-b140ac49905d",
   "metadata": {},
   "outputs": [],
   "source": [
    "## 한줄로 식만들기 round(A['f'].A_fill.std()+B_fill.std(),1))"
   ]
  },
  {
   "cell_type": "markdown",
   "id": "148ebe36-915b-4419-b252-0f2cdde6d0c5",
   "metadata": {},
   "source": [
    "## 2번문제 --쌤\n",
    " 'f4'컬럼 기준 내림차순 정렬과 'f5'컬럼 기준 오름차순 정렬을 순서대로 다중 조건 정렬하고나서 앞에서부터 10개의 데이터 중 'f5'컬럼의 최소값을 찾고, 이 최소값으로 앞에서 부터 10개의 'f5'컬럼 데이터를 변경함. 그리고 'f5'컬럼의 평균값을 계산함. (단 소수점 둘째자리까지 출력(셋째자리에서 반올림))"
   ]
  },
  {
   "cell_type": "code",
   "execution_count": null,
   "id": "f9fe37c5-e5fa-4c01-a002-b5863b96d83b",
   "metadata": {},
   "outputs": [],
   "source": [
    "# 1. 'f4' 컬럼기준 내림차순 정렬 'f5'기준 올림차순\n",
    "# 2. 앞에서부터 10개 데이터 중 'f5'컬럼 의 최소값\n",
    "# 3. 앞에서부터 10개의 'f5'컬럼 데이터 변경\n",
    "# 4. 'f5' 컬럼의 평균값(소수점 둘째)"
   ]
  },
  {
   "cell_type": "code",
   "execution_count": null,
   "id": "5fe437c0-6dd5-49df-9607-26d5f54520d6",
   "metadata": {},
   "outputs": [],
   "source": [
    "# 1\n",
    "sorted_df=basic.sort_values(['f4','f5'],ascending=[False,True])   #두 컬럼값을 다르게 sort하기\n",
    "#참고: 값 원본에 저장하기 ---copy(): 참조형 데이커를 복사하는 함수, 같은 값을갖는 변수가 됨\n",
    "sorted_df2=sorted_df.copy()"
   ]
  },
  {
   "cell_type": "code",
   "execution_count": null,
   "id": "8b47d4df-2ffa-41ae-82a4-78afe32eae72",
   "metadata": {},
   "outputs": [],
   "source": [
    "# 2 \n",
    "sorted_df['f5'].iloc[10]\n",
    "sorted_df.iloc[:10]['f5']\n",
    "\n",
    " ## 추천/ 이것만 다음 단계에서 작업 가능/ 특정위치에 값 넣으려면 iloc만 사용하는것 권유\n",
    "sorted_df.iloc[:10, -1]\n",
    "\n",
    "sorted_df.head(10)['f5']\n"
   ]
  },
  {
   "cell_type": "code",
   "execution_count": null,
   "id": "cb9f20d6-a3d2-41d8-9ff9-8598cc71a997",
   "metadata": {},
   "outputs": [],
   "source": [
    "# 2-1 값 바꾸기 --참조형 데이터\n",
    "min_value=sorted_df2.iloc[:10, -1].min()\n",
    "sorted_df2.iloc[:10, -1]=min_value  "
   ]
  },
  {
   "cell_type": "code",
   "execution_count": null,
   "id": "463c8d49-417e-4cca-960b-893e957dd1c6",
   "metadata": {},
   "outputs": [],
   "source": [
    "sorted_df2.head()"
   ]
  },
  {
   "cell_type": "code",
   "execution_count": null,
   "id": "96ca364c-8769-4d1b-a452-83ae8ad3d875",
   "metadata": {},
   "outputs": [],
   "source": [
    "# 3\n",
    "round(sorted_df2['f5'].mean(),2)"
   ]
  },
  {
   "cell_type": "code",
   "execution_count": null,
   "id": "43cd933f-db96-46b2-877e-0ee7d2376525",
   "metadata": {},
   "outputs": [],
   "source": [
    "## 간단한 함수 만들기-apply 사욜하기"
   ]
  },
  {
   "cell_type": "code",
   "execution_count": null,
   "id": "d1a7444d-4069-4fb5-bf61-dd9195e94c2a",
   "metadata": {},
   "outputs": [],
   "source": [
    "def my_sq(x):\n",
    "    return x ** 2"
   ]
  },
  {
   "cell_type": "code",
   "execution_count": null,
   "id": "bf7a8d2f-2f5a-49c2-8782-994f00d7e34a",
   "metadata": {},
   "outputs": [],
   "source": [
    "def my_exp(x, n):\n",
    "    return x ** n\n"
   ]
  },
  {
   "cell_type": "code",
   "execution_count": null,
   "id": "bbd9c0b9-ba5d-4a05-bb5a-6e7b17ea5fd5",
   "metadata": {},
   "outputs": [],
   "source": [
    "print(my_sq(4))\n",
    "print(my_exp(3, 4))"
   ]
  },
  {
   "cell_type": "code",
   "execution_count": null,
   "id": "da3e2a8c-01bb-494c-b7ef-ab678d857455",
   "metadata": {},
   "outputs": [],
   "source": [
    "df = pd.DataFrame({'a': [10, 20, 30], 'b': [20, 30, 40]})\n",
    "df"
   ]
  },
  {
   "cell_type": "code",
   "execution_count": null,
   "id": "8f84b7b7-0fdf-4d7d-a03d-a08b145b77cc",
   "metadata": {},
   "outputs": [],
   "source": [
    "sq = df['a'].apply(my_sq)\n",
    "print(sq) "
   ]
  },
  {
   "cell_type": "code",
   "execution_count": null,
   "id": "8be498cd-8adc-4a93-b6f3-b48e2e9c0123",
   "metadata": {},
   "outputs": [],
   "source": [
    "ex = df['a'].apply(my_exp, n=2)\n",
    "print(ex) "
   ]
  },
  {
   "cell_type": "code",
   "execution_count": null,
   "id": "ea852170-e4e7-41ff-8f24-57fad12ade0e",
   "metadata": {},
   "outputs": [],
   "source": [
    "df['a']"
   ]
  },
  {
   "cell_type": "code",
   "execution_count": null,
   "id": "2f3397a7-b291-4846-b6a4-8eb3e92989bb",
   "metadata": {},
   "outputs": [],
   "source": [
    "def pluse10(x):\n",
    "    return x + 10\n",
    "lambda x: x+10"
   ]
  },
  {
   "cell_type": "code",
   "execution_count": null,
   "id": "636bc130-208d-4b94-8364-216534d30420",
   "metadata": {},
   "outputs": [],
   "source": [
    "df['a'].apply(lambda x,n: x ** n , n=2)"
   ]
  },
  {
   "cell_type": "code",
   "execution_count": null,
   "id": "66b34061-6c1c-46a0-80c6-7d4d4139986d",
   "metadata": {},
   "outputs": [],
   "source": [
    "df=pd.read_csv('../data/basic1.csv')"
   ]
  },
  {
   "cell_type": "code",
   "execution_count": null,
   "id": "a2394bab-ccef-494a-99b8-faf1c706a23e",
   "metadata": {},
   "outputs": [],
   "source": [
    "df"
   ]
  },
  {
   "cell_type": "code",
   "execution_count": null,
   "id": "d3d5dded-0ede-4807-9eb7-5a95f638e138",
   "metadata": {},
   "outputs": [],
   "source": [
    "def mbti(x):\n",
    "    x[0]    # 인덱싱으로 가장 첫 문자만 자르기\n",
    "    return x[0]\n",
    "    \n",
    "df['f4'].apply(mbti)"
   ]
  },
  {
   "cell_type": "code",
   "execution_count": null,
   "id": "a98ff7bb-6072-43c6-b067-8abb7d8a7901",
   "metadata": {},
   "outputs": [],
   "source": [
    "df['mbti']=df['f4'].apply(mbti)   #새롭게 생성된 f4값을 전체값을 넣기 전체 보기"
   ]
  },
  {
   "cell_type": "code",
   "execution_count": null,
   "id": "44b88974-3cce-445c-85ee-fe3327fea71e",
   "metadata": {},
   "outputs": [],
   "source": []
  },
  {
   "cell_type": "code",
   "execution_count": null,
   "id": "a76daeed-8a94-4224-8c74-b7b3262643a2",
   "metadata": {},
   "outputs": [],
   "source": [
    "def print_me(x):\n",
    "    print(x)"
   ]
  },
  {
   "cell_type": "code",
   "execution_count": null,
   "id": "1f77650d-6306-4041-af44-b44454fec3dd",
   "metadata": {},
   "outputs": [],
   "source": [
    "df = pd.DataFrame({'a': [10, 20, 30], 'b': [20, 30, 40]})\n",
    "df.apply(print_me, axis=0)"
   ]
  },
  {
   "cell_type": "code",
   "execution_count": null,
   "id": "d5c2d8ef-a566-4534-9fb3-c21619a4de82",
   "metadata": {},
   "outputs": [],
   "source": [
    "df.apply(print_me, axis=1)"
   ]
  },
  {
   "cell_type": "code",
   "execution_count": null,
   "id": "214aed3d-32f3-473b-88b6-17431cd5cb8a",
   "metadata": {},
   "outputs": [],
   "source": [
    "#lambda 함수 사용하기"
   ]
  },
  {
   "cell_type": "code",
   "execution_count": null,
   "id": "04b38140-9a33-4866-92b0-527558f0f802",
   "metadata": {},
   "outputs": [],
   "source": [
    "exam= pd.read_csv('../data/exam.csv')\n",
    "exam.head(10)"
   ]
  },
  {
   "cell_type": "code",
   "execution_count": null,
   "id": "400f8ed2-ce57-4a71-a63e-2ab33c737b90",
   "metadata": {},
   "outputs": [],
   "source": [
    "exam['math'].apply(lambda x : x // 10)"
   ]
  },
  {
   "cell_type": "code",
   "execution_count": null,
   "id": "d05fe2fe-b4c4-49da-adb0-89d323cf88d9",
   "metadata": {},
   "outputs": [],
   "source": [
    "exam.apply(lambda x : x.apply(lambda y: y // 10), axis = 1)"
   ]
  },
  {
   "cell_type": "code",
   "execution_count": null,
   "id": "e36df463-884d-4594-a311-259ed00bbd74",
   "metadata": {},
   "outputs": [],
   "source": []
  },
  {
   "cell_type": "code",
   "execution_count": 223,
   "id": "6e6be087-e103-440f-80c3-f6e037a47862",
   "metadata": {
    "scrolled": true
   },
   "outputs": [],
   "source": [
    "#ebola\n",
    "ebola['Date2']=pd.to_datetime(ebola['Date'])\n",
    "year=ebola['Date2'].dt.year"
   ]
  },
  {
   "cell_type": "code",
   "execution_count": 221,
   "id": "40703561-09e0-49da-9a95-a18d24f75a7d",
   "metadata": {},
   "outputs": [],
   "source": [
    "ebola['Data'].apply(lambda x: int )]  # 확인할 것"
   ]
  },
  {
   "cell_type": "code",
   "execution_count": 3,
   "id": "37d7bcf3-084f-453e-9a6e-e21ef843391d",
   "metadata": {},
   "outputs": [
    {
     "data": {
      "text/html": [
       "<div>\n",
       "<style scoped>\n",
       "    .dataframe tbody tr th:only-of-type {\n",
       "        vertical-align: middle;\n",
       "    }\n",
       "\n",
       "    .dataframe tbody tr th {\n",
       "        vertical-align: top;\n",
       "    }\n",
       "\n",
       "    .dataframe thead th {\n",
       "        text-align: right;\n",
       "    }\n",
       "</style>\n",
       "<table border=\"1\" class=\"dataframe\">\n",
       "  <thead>\n",
       "    <tr style=\"text-align: right;\">\n",
       "      <th></th>\n",
       "      <th>PassengerId</th>\n",
       "      <th>Survived</th>\n",
       "      <th>Pclass</th>\n",
       "      <th>Name</th>\n",
       "      <th>Sex</th>\n",
       "      <th>Age</th>\n",
       "      <th>SibSp</th>\n",
       "      <th>Parch</th>\n",
       "      <th>Ticket</th>\n",
       "      <th>Fare</th>\n",
       "      <th>Cabin</th>\n",
       "      <th>Embarked</th>\n",
       "    </tr>\n",
       "  </thead>\n",
       "  <tbody>\n",
       "    <tr>\n",
       "      <th>0</th>\n",
       "      <td>1</td>\n",
       "      <td>0</td>\n",
       "      <td>3</td>\n",
       "      <td>Braund, Mr. Owen Harris</td>\n",
       "      <td>male</td>\n",
       "      <td>22.0</td>\n",
       "      <td>1</td>\n",
       "      <td>0</td>\n",
       "      <td>A/5 21171</td>\n",
       "      <td>7.2500</td>\n",
       "      <td>NaN</td>\n",
       "      <td>S</td>\n",
       "    </tr>\n",
       "    <tr>\n",
       "      <th>1</th>\n",
       "      <td>2</td>\n",
       "      <td>1</td>\n",
       "      <td>1</td>\n",
       "      <td>Cumings, Mrs. John Bradley (Florence Briggs Th...</td>\n",
       "      <td>female</td>\n",
       "      <td>38.0</td>\n",
       "      <td>1</td>\n",
       "      <td>0</td>\n",
       "      <td>PC 17599</td>\n",
       "      <td>71.2833</td>\n",
       "      <td>C85</td>\n",
       "      <td>C</td>\n",
       "    </tr>\n",
       "    <tr>\n",
       "      <th>2</th>\n",
       "      <td>3</td>\n",
       "      <td>1</td>\n",
       "      <td>3</td>\n",
       "      <td>Heikkinen, Miss. Laina</td>\n",
       "      <td>female</td>\n",
       "      <td>26.0</td>\n",
       "      <td>0</td>\n",
       "      <td>0</td>\n",
       "      <td>STON/O2. 3101282</td>\n",
       "      <td>7.9250</td>\n",
       "      <td>NaN</td>\n",
       "      <td>S</td>\n",
       "    </tr>\n",
       "  </tbody>\n",
       "</table>\n",
       "</div>"
      ],
      "text/plain": [
       "   PassengerId  Survived  Pclass  \\\n",
       "0            1         0       3   \n",
       "1            2         1       1   \n",
       "2            3         1       3   \n",
       "\n",
       "                                                Name     Sex   Age  SibSp  \\\n",
       "0                            Braund, Mr. Owen Harris    male  22.0      1   \n",
       "1  Cumings, Mrs. John Bradley (Florence Briggs Th...  female  38.0      1   \n",
       "2                             Heikkinen, Miss. Laina  female  26.0      0   \n",
       "\n",
       "   Parch            Ticket     Fare Cabin Embarked  \n",
       "0      0         A/5 21171   7.2500   NaN        S  \n",
       "1      0          PC 17599  71.2833   C85        C  \n",
       "2      0  STON/O2. 3101282   7.9250   NaN        S  "
      ]
     },
     "execution_count": 3,
     "metadata": {},
     "output_type": "execute_result"
    }
   ],
   "source": [
    "# 타이타닉 \n",
    "titanic = pd.read_csv('../data/titanic.csv')\n",
    "titanic.head(3)"
   ]
  },
  {
   "cell_type": "code",
   "execution_count": 231,
   "id": "6bbfa0d4-aa8d-45e2-a93c-2e472c96f061",
   "metadata": {},
   "outputs": [
    {
     "name": "stdout",
     "output_type": "stream",
     "text": [
      "<class 'pandas.core.frame.DataFrame'>\n",
      "RangeIndex: 891 entries, 0 to 890\n",
      "Data columns (total 12 columns):\n",
      " #   Column       Non-Null Count  Dtype  \n",
      "---  ------       --------------  -----  \n",
      " 0   PassengerId  891 non-null    int64  \n",
      " 1   Survived     891 non-null    int64  \n",
      " 2   Pclass       891 non-null    int64  \n",
      " 3   Name         891 non-null    object \n",
      " 4   Sex          891 non-null    object \n",
      " 5   Age          714 non-null    float64\n",
      " 6   SibSp        891 non-null    int64  \n",
      " 7   Parch        891 non-null    int64  \n",
      " 8   Ticket       891 non-null    object \n",
      " 9   Fare         891 non-null    float64\n",
      " 10  Cabin        204 non-null    object \n",
      " 11  Embarked     889 non-null    object \n",
      "dtypes: float64(2), int64(5), object(5)\n",
      "memory usage: 83.7+ KB\n"
     ]
    }
   ],
   "source": [
    "titanic.info()"
   ]
  },
  {
   "cell_type": "code",
   "execution_count": 4,
   "id": "8e024fea-a722-4c77-b1d5-a56ecefe821f",
   "metadata": {},
   "outputs": [
    {
     "data": {
      "text/plain": [
       "PassengerId      0\n",
       "Survived         0\n",
       "Pclass           0\n",
       "Name             0\n",
       "Sex              0\n",
       "Age            177\n",
       "SibSp            0\n",
       "Parch            0\n",
       "Ticket           0\n",
       "Fare             0\n",
       "Cabin          687\n",
       "Embarked         2\n",
       "dtype: int64"
      ]
     },
     "execution_count": 4,
     "metadata": {},
     "output_type": "execute_result"
    }
   ],
   "source": [
    "# 누락값의 비율 등을 얻을 수 있도록 함수 만들기\n",
    "def count_missing(vec):\n",
    "    null_vec = pd.isnull(vec)\n",
    "    null_count = np.sum(null_vec)  #return vec.isnll().sum()  세줄을 한줄로 \n",
    "    return null_count\n",
    "cmis_col = titanic.apply(count_missing)\n",
    "cmis_col"
   ]
  },
  {
   "cell_type": "code",
   "execution_count": 5,
   "id": "cb217090-deb0-453f-85be-cce757d36849",
   "metadata": {},
   "outputs": [
    {
     "data": {
      "text/plain": [
       "177"
      ]
     },
     "execution_count": 5,
     "metadata": {},
     "output_type": "execute_result"
    }
   ],
   "source": [
    "titanic['Age'].isnull().sum()"
   ]
  },
  {
   "cell_type": "code",
   "execution_count": 11,
   "id": "97778577-4aa6-41e4-a365-5f74b3d0d489",
   "metadata": {},
   "outputs": [],
   "source": [
    "def count_missing(vec):\n",
    "    return vec.isnull().sum() "
   ]
  },
  {
   "cell_type": "code",
   "execution_count": 12,
   "id": "dae0ebd3-093d-4bb8-a863-052813f83370",
   "metadata": {},
   "outputs": [
    {
     "data": {
      "text/plain": [
       "PassengerId      0\n",
       "Survived         0\n",
       "Pclass           0\n",
       "Name             0\n",
       "Sex              0\n",
       "Age            177\n",
       "SibSp            0\n",
       "Parch            0\n",
       "Ticket           0\n",
       "Fare             0\n",
       "Cabin          687\n",
       "Embarked         2\n",
       "dtype: int64"
      ]
     },
     "execution_count": 12,
     "metadata": {},
     "output_type": "execute_result"
    }
   ],
   "source": [
    "titanic.apply(count_missing, axis=0)"
   ]
  },
  {
   "cell_type": "code",
   "execution_count": 14,
   "id": "38878d14-7877-4546-a6ca-04b813bf5fb0",
   "metadata": {},
   "outputs": [
    {
     "data": {
      "text/plain": [
       "891"
      ]
     },
     "execution_count": 14,
     "metadata": {},
     "output_type": "execute_result"
    }
   ],
   "source": [
    "titanic['Age'].size   #size는 괄호가 없음"
   ]
  },
  {
   "cell_type": "code",
   "execution_count": 15,
   "id": "0082c681-c8f0-465a-9852-d5802f2d9e45",
   "metadata": {},
   "outputs": [],
   "source": [
    "def prop_missing(vec):\n",
    "    # 누락 갯수 구하기\n",
    "    num=count_missing(vec)\n",
    "    # 전체 row(칼럼) 갯수\n",
    "    length=vec.size\n",
    "    return num/legth"
   ]
  },
  {
   "cell_type": "code",
   "execution_count": null,
   "id": "d67e2fd0-de3e-4234-ad29-8b5a44a82929",
   "metadata": {},
   "outputs": [],
   "source": [
    "titanic['Sex'].apply()"
   ]
  },
  {
   "cell_type": "code",
   "execution_count": 18,
   "id": "5a6da09c-3a27-4e45-a2ea-c65302e4f886",
   "metadata": {},
   "outputs": [],
   "source": [
    "# 남자 여자 성별 정수로 표현\n",
    "def convert(x):\n",
    "    if x=='male':\n",
    "        return 0\n",
    "    elif x=='female':\n",
    "        return 1\n",
    "    else:\n",
    "        return np.nan"
   ]
  },
  {
   "cell_type": "code",
   "execution_count": 19,
   "id": "7a0a8f41-ca58-4c75-91b9-57fe2332d6d3",
   "metadata": {},
   "outputs": [],
   "source": [
    "titanic['Sex']= titanic['Sex'].apply(convert)"
   ]
  },
  {
   "cell_type": "code",
   "execution_count": 20,
   "id": "798d9052-5a25-4e58-b7bc-5f33372dc37e",
   "metadata": {},
   "outputs": [
    {
     "data": {
      "text/html": [
       "<div>\n",
       "<style scoped>\n",
       "    .dataframe tbody tr th:only-of-type {\n",
       "        vertical-align: middle;\n",
       "    }\n",
       "\n",
       "    .dataframe tbody tr th {\n",
       "        vertical-align: top;\n",
       "    }\n",
       "\n",
       "    .dataframe thead th {\n",
       "        text-align: right;\n",
       "    }\n",
       "</style>\n",
       "<table border=\"1\" class=\"dataframe\">\n",
       "  <thead>\n",
       "    <tr style=\"text-align: right;\">\n",
       "      <th></th>\n",
       "      <th>PassengerId</th>\n",
       "      <th>Survived</th>\n",
       "      <th>Pclass</th>\n",
       "      <th>Name</th>\n",
       "      <th>Sex</th>\n",
       "      <th>Age</th>\n",
       "      <th>SibSp</th>\n",
       "      <th>Parch</th>\n",
       "      <th>Ticket</th>\n",
       "      <th>Fare</th>\n",
       "      <th>Cabin</th>\n",
       "      <th>Embarked</th>\n",
       "    </tr>\n",
       "  </thead>\n",
       "  <tbody>\n",
       "    <tr>\n",
       "      <th>0</th>\n",
       "      <td>1</td>\n",
       "      <td>0</td>\n",
       "      <td>3</td>\n",
       "      <td>Braund, Mr. Owen Harris</td>\n",
       "      <td>0</td>\n",
       "      <td>22.0</td>\n",
       "      <td>1</td>\n",
       "      <td>0</td>\n",
       "      <td>A/5 21171</td>\n",
       "      <td>7.2500</td>\n",
       "      <td>NaN</td>\n",
       "      <td>S</td>\n",
       "    </tr>\n",
       "    <tr>\n",
       "      <th>1</th>\n",
       "      <td>2</td>\n",
       "      <td>1</td>\n",
       "      <td>1</td>\n",
       "      <td>Cumings, Mrs. John Bradley (Florence Briggs Th...</td>\n",
       "      <td>1</td>\n",
       "      <td>38.0</td>\n",
       "      <td>1</td>\n",
       "      <td>0</td>\n",
       "      <td>PC 17599</td>\n",
       "      <td>71.2833</td>\n",
       "      <td>C85</td>\n",
       "      <td>C</td>\n",
       "    </tr>\n",
       "    <tr>\n",
       "      <th>2</th>\n",
       "      <td>3</td>\n",
       "      <td>1</td>\n",
       "      <td>3</td>\n",
       "      <td>Heikkinen, Miss. Laina</td>\n",
       "      <td>1</td>\n",
       "      <td>26.0</td>\n",
       "      <td>0</td>\n",
       "      <td>0</td>\n",
       "      <td>STON/O2. 3101282</td>\n",
       "      <td>7.9250</td>\n",
       "      <td>NaN</td>\n",
       "      <td>S</td>\n",
       "    </tr>\n",
       "    <tr>\n",
       "      <th>3</th>\n",
       "      <td>4</td>\n",
       "      <td>1</td>\n",
       "      <td>1</td>\n",
       "      <td>Futrelle, Mrs. Jacques Heath (Lily May Peel)</td>\n",
       "      <td>1</td>\n",
       "      <td>35.0</td>\n",
       "      <td>1</td>\n",
       "      <td>0</td>\n",
       "      <td>113803</td>\n",
       "      <td>53.1000</td>\n",
       "      <td>C123</td>\n",
       "      <td>S</td>\n",
       "    </tr>\n",
       "    <tr>\n",
       "      <th>4</th>\n",
       "      <td>5</td>\n",
       "      <td>0</td>\n",
       "      <td>3</td>\n",
       "      <td>Allen, Mr. William Henry</td>\n",
       "      <td>0</td>\n",
       "      <td>35.0</td>\n",
       "      <td>0</td>\n",
       "      <td>0</td>\n",
       "      <td>373450</td>\n",
       "      <td>8.0500</td>\n",
       "      <td>NaN</td>\n",
       "      <td>S</td>\n",
       "    </tr>\n",
       "    <tr>\n",
       "      <th>...</th>\n",
       "      <td>...</td>\n",
       "      <td>...</td>\n",
       "      <td>...</td>\n",
       "      <td>...</td>\n",
       "      <td>...</td>\n",
       "      <td>...</td>\n",
       "      <td>...</td>\n",
       "      <td>...</td>\n",
       "      <td>...</td>\n",
       "      <td>...</td>\n",
       "      <td>...</td>\n",
       "      <td>...</td>\n",
       "    </tr>\n",
       "    <tr>\n",
       "      <th>886</th>\n",
       "      <td>887</td>\n",
       "      <td>0</td>\n",
       "      <td>2</td>\n",
       "      <td>Montvila, Rev. Juozas</td>\n",
       "      <td>0</td>\n",
       "      <td>27.0</td>\n",
       "      <td>0</td>\n",
       "      <td>0</td>\n",
       "      <td>211536</td>\n",
       "      <td>13.0000</td>\n",
       "      <td>NaN</td>\n",
       "      <td>S</td>\n",
       "    </tr>\n",
       "    <tr>\n",
       "      <th>887</th>\n",
       "      <td>888</td>\n",
       "      <td>1</td>\n",
       "      <td>1</td>\n",
       "      <td>Graham, Miss. Margaret Edith</td>\n",
       "      <td>1</td>\n",
       "      <td>19.0</td>\n",
       "      <td>0</td>\n",
       "      <td>0</td>\n",
       "      <td>112053</td>\n",
       "      <td>30.0000</td>\n",
       "      <td>B42</td>\n",
       "      <td>S</td>\n",
       "    </tr>\n",
       "    <tr>\n",
       "      <th>888</th>\n",
       "      <td>889</td>\n",
       "      <td>0</td>\n",
       "      <td>3</td>\n",
       "      <td>Johnston, Miss. Catherine Helen \"Carrie\"</td>\n",
       "      <td>1</td>\n",
       "      <td>NaN</td>\n",
       "      <td>1</td>\n",
       "      <td>2</td>\n",
       "      <td>W./C. 6607</td>\n",
       "      <td>23.4500</td>\n",
       "      <td>NaN</td>\n",
       "      <td>S</td>\n",
       "    </tr>\n",
       "    <tr>\n",
       "      <th>889</th>\n",
       "      <td>890</td>\n",
       "      <td>1</td>\n",
       "      <td>1</td>\n",
       "      <td>Behr, Mr. Karl Howell</td>\n",
       "      <td>0</td>\n",
       "      <td>26.0</td>\n",
       "      <td>0</td>\n",
       "      <td>0</td>\n",
       "      <td>111369</td>\n",
       "      <td>30.0000</td>\n",
       "      <td>C148</td>\n",
       "      <td>C</td>\n",
       "    </tr>\n",
       "    <tr>\n",
       "      <th>890</th>\n",
       "      <td>891</td>\n",
       "      <td>0</td>\n",
       "      <td>3</td>\n",
       "      <td>Dooley, Mr. Patrick</td>\n",
       "      <td>0</td>\n",
       "      <td>32.0</td>\n",
       "      <td>0</td>\n",
       "      <td>0</td>\n",
       "      <td>370376</td>\n",
       "      <td>7.7500</td>\n",
       "      <td>NaN</td>\n",
       "      <td>Q</td>\n",
       "    </tr>\n",
       "  </tbody>\n",
       "</table>\n",
       "<p>891 rows × 12 columns</p>\n",
       "</div>"
      ],
      "text/plain": [
       "     PassengerId  Survived  Pclass  \\\n",
       "0              1         0       3   \n",
       "1              2         1       1   \n",
       "2              3         1       3   \n",
       "3              4         1       1   \n",
       "4              5         0       3   \n",
       "..           ...       ...     ...   \n",
       "886          887         0       2   \n",
       "887          888         1       1   \n",
       "888          889         0       3   \n",
       "889          890         1       1   \n",
       "890          891         0       3   \n",
       "\n",
       "                                                  Name  Sex   Age  SibSp  \\\n",
       "0                              Braund, Mr. Owen Harris    0  22.0      1   \n",
       "1    Cumings, Mrs. John Bradley (Florence Briggs Th...    1  38.0      1   \n",
       "2                               Heikkinen, Miss. Laina    1  26.0      0   \n",
       "3         Futrelle, Mrs. Jacques Heath (Lily May Peel)    1  35.0      1   \n",
       "4                             Allen, Mr. William Henry    0  35.0      0   \n",
       "..                                                 ...  ...   ...    ...   \n",
       "886                              Montvila, Rev. Juozas    0  27.0      0   \n",
       "887                       Graham, Miss. Margaret Edith    1  19.0      0   \n",
       "888           Johnston, Miss. Catherine Helen \"Carrie\"    1   NaN      1   \n",
       "889                              Behr, Mr. Karl Howell    0  26.0      0   \n",
       "890                                Dooley, Mr. Patrick    0  32.0      0   \n",
       "\n",
       "     Parch            Ticket     Fare Cabin Embarked  \n",
       "0        0         A/5 21171   7.2500   NaN        S  \n",
       "1        0          PC 17599  71.2833   C85        C  \n",
       "2        0  STON/O2. 3101282   7.9250   NaN        S  \n",
       "3        0            113803  53.1000  C123        S  \n",
       "4        0            373450   8.0500   NaN        S  \n",
       "..     ...               ...      ...   ...      ...  \n",
       "886      0            211536  13.0000   NaN        S  \n",
       "887      0            112053  30.0000   B42        S  \n",
       "888      2        W./C. 6607  23.4500   NaN        S  \n",
       "889      0            111369  30.0000  C148        C  \n",
       "890      0            370376   7.7500   NaN        Q  \n",
       "\n",
       "[891 rows x 12 columns]"
      ]
     },
     "execution_count": 20,
     "metadata": {},
     "output_type": "execute_result"
    }
   ],
   "source": [
    "titanic"
   ]
  },
  {
   "cell_type": "code",
   "execution_count": 22,
   "id": "4b46e0e5-9c3b-45bd-a5e6-a3ee661c2cce",
   "metadata": {},
   "outputs": [
    {
     "data": {
      "text/plain": [
       "0      22.0\n",
       "1      38.0\n",
       "2      26.0\n",
       "3      35.0\n",
       "4      35.0\n",
       "       ... \n",
       "886    27.0\n",
       "887    19.0\n",
       "888     NaN\n",
       "889    26.0\n",
       "890    32.0\n",
       "Name: Age, Length: 891, dtype: float64"
      ]
     },
     "execution_count": 22,
     "metadata": {},
     "output_type": "execute_result"
    }
   ],
   "source": [
    "# 결측값 정리하기\n",
    "titanic['Age']   # 890 자료 있고 177 결측값 --> 평균나이 넣기"
   ]
  },
  {
   "cell_type": "code",
   "execution_count": 28,
   "id": "3f092749-9f43-4bf0-bc40-45fe439c7724",
   "metadata": {},
   "outputs": [
    {
     "data": {
      "text/plain": [
       "29.69911764705882"
      ]
     },
     "execution_count": 28,
     "metadata": {},
     "output_type": "execute_result"
    }
   ],
   "source": [
    "avg_age=titanic['Age'].mean()\n",
    "avg_age"
   ]
  },
  {
   "cell_type": "code",
   "execution_count": 25,
   "id": "93afcdbf-4a13-4fe5-8a77-dfa33d6d7442",
   "metadata": {},
   "outputs": [
    {
     "data": {
      "text/plain": [
       "0      22.000000\n",
       "1      38.000000\n",
       "2      26.000000\n",
       "3      35.000000\n",
       "4      35.000000\n",
       "         ...    \n",
       "886    27.000000\n",
       "887    19.000000\n",
       "888    29.699118\n",
       "889    26.000000\n",
       "890    32.000000\n",
       "Name: Age, Length: 891, dtype: float64"
      ]
     },
     "execution_count": 25,
     "metadata": {},
     "output_type": "execute_result"
    }
   ],
   "source": [
    "# 누락값 넣기\n",
    "titanic['Age'].fillna(avg_age)"
   ]
  },
  {
   "cell_type": "code",
   "execution_count": 30,
   "id": "27e7c18a-70be-410e-94a6-1968d93a3e32",
   "metadata": {},
   "outputs": [
    {
     "data": {
      "text/plain": [
       "array([nan, 'C85', 'C123', 'E46', 'G6', 'C103', 'D56', 'A6',\n",
       "       'C23 C25 C27', 'B78', 'D33', 'B30', 'C52', 'B28', 'C83', 'F33',\n",
       "       'F G73', 'E31', 'A5', 'D10 D12', 'D26', 'C110', 'B58 B60', 'E101',\n",
       "       'F E69', 'D47', 'B86', 'F2', 'C2', 'E33', 'B19', 'A7', 'C49', 'F4',\n",
       "       'A32', 'B4', 'B80', 'A31', 'D36', 'D15', 'C93', 'C78', 'D35',\n",
       "       'C87', 'B77', 'E67', 'B94', 'C125', 'C99', 'C118', 'D7', 'A19',\n",
       "       'B49', 'D', 'C22 C26', 'C106', 'C65', 'E36', 'C54',\n",
       "       'B57 B59 B63 B66', 'C7', 'E34', 'C32', 'B18', 'C124', 'C91', 'E40',\n",
       "       'T', 'C128', 'D37', 'B35', 'E50', 'C82', 'B96 B98', 'E10', 'E44',\n",
       "       'A34', 'C104', 'C111', 'C92', 'E38', 'D21', 'E12', 'E63', 'A14',\n",
       "       'B37', 'C30', 'D20', 'B79', 'E25', 'D46', 'B73', 'C95', 'B38',\n",
       "       'B39', 'B22', 'C86', 'C70', 'A16', 'C101', 'C68', 'A10', 'E68',\n",
       "       'B41', 'A20', 'D19', 'D50', 'D9', 'A23', 'B50', 'A26', 'D48',\n",
       "       'E58', 'C126', 'B71', 'B51 B53 B55', 'D49', 'B5', 'B20', 'F G63',\n",
       "       'C62 C64', 'E24', 'C90', 'C45', 'E8', 'B101', 'D45', 'C46', 'D30',\n",
       "       'E121', 'D11', 'E77', 'F38', 'B3', 'D6', 'B82 B84', 'D17', 'A36',\n",
       "       'B102', 'B69', 'E49', 'C47', 'D28', 'E17', 'A24', 'C50', 'B42',\n",
       "       'C148'], dtype=object)"
      ]
     },
     "execution_count": 30,
     "metadata": {},
     "output_type": "execute_result"
    }
   ],
   "source": [
    "# 문자열 칼럼에 결측값 넣기 \n",
    "# 1단계 데이터 확인/ 알아보기\n",
    "titanic['Cabin'].unique()  "
   ]
  },
  {
   "cell_type": "code",
   "execution_count": 43,
   "id": "3c148adc-9c0a-459f-94c3-88ef6a87c645",
   "metadata": {},
   "outputs": [
    {
     "data": {
      "text/plain": [
       "0      N\n",
       "1      C\n",
       "2      N\n",
       "3      C\n",
       "4      N\n",
       "      ..\n",
       "886    N\n",
       "887    B\n",
       "888    N\n",
       "889    C\n",
       "890    N\n",
       "Name: Cabin, Length: 891, dtype: object"
      ]
     },
     "execution_count": 43,
     "metadata": {},
     "output_type": "execute_result"
    }
   ],
   "source": [
    "# 2단계 아무 의미없는 문자 N으로 채운다: 기타집단으로 만듦( 못쓰는 데이터는 N으로 퉁치고 나머지 데이터들 사용하려고)\n",
    "titanic['Cabin'].fillna('N').apply(lambda x: x[0]) "
   ]
  },
  {
   "cell_type": "code",
   "execution_count": 44,
   "id": "8d16d319-3121-4766-885a-f2a94ed30e60",
   "metadata": {},
   "outputs": [
    {
     "data": {
      "text/plain": [
       "array(['N', 'C', 'E', 'G', 'D', 'A', 'B', 'F', 'T'], dtype=object)"
      ]
     },
     "execution_count": 44,
     "metadata": {},
     "output_type": "execute_result"
    }
   ],
   "source": [
    "titanic['Cabin'].fillna('N').apply(lambda x: x[0]).unique()  # Embarked 의 누락 2개 --drop할 수도/ "
   ]
  },
  {
   "cell_type": "code",
   "execution_count": 40,
   "id": "4e3d8827-cc32-4057-a671-55020f2bdab9",
   "metadata": {},
   "outputs": [
    {
     "data": {
      "text/plain": [
       "0      False\n",
       "1      False\n",
       "2      False\n",
       "3      False\n",
       "4      False\n",
       "       ...  \n",
       "886    False\n",
       "887    False\n",
       "888    False\n",
       "889    False\n",
       "890    False\n",
       "Name: Ticket, Length: 891, dtype: bool"
      ]
     },
     "execution_count": 40,
     "metadata": {},
     "output_type": "execute_result"
    }
   ],
   "source": [
    "titanic['Ticket'].isnull()"
   ]
  },
  {
   "cell_type": "code",
   "execution_count": 42,
   "id": "f98aee29-28a3-4b5a-a2ce-58c0ec2f2074",
   "metadata": {},
   "outputs": [
    {
     "data": {
      "text/plain": [
       "Embarked\n",
       "S    644\n",
       "C    168\n",
       "Q     77\n",
       "Name: count, dtype: int64"
      ]
     },
     "execution_count": 42,
     "metadata": {},
     "output_type": "execute_result"
    }
   ],
   "source": [
    " # E가 가장 많으므로 누락값을 E로 시작하게 할 수도// 확률이 놓은것으로 할것\n",
    "titanic['Embarked'].value_counts() "
   ]
  },
  {
   "cell_type": "code",
   "execution_count": null,
   "id": "525c0b40-d9dc-430b-80e5-c16d5a49d25c",
   "metadata": {},
   "outputs": [],
   "source": []
  }
 ],
 "metadata": {
  "kernelspec": {
   "display_name": "Python 3 (ipykernel)",
   "language": "python",
   "name": "python3"
  },
  "language_info": {
   "codemirror_mode": {
    "name": "ipython",
    "version": 3
   },
   "file_extension": ".py",
   "mimetype": "text/x-python",
   "name": "python",
   "nbconvert_exporter": "python",
   "pygments_lexer": "ipython3",
   "version": "3.11.5"
  }
 },
 "nbformat": 4,
 "nbformat_minor": 5
}
