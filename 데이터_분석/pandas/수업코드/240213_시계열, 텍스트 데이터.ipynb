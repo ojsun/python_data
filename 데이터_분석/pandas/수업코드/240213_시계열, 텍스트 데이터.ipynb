{
 "cells": [
  {
   "cell_type": "code",
   "execution_count": null,
   "id": "99c8b130",
   "metadata": {},
   "outputs": [],
   "source": [
    "import pandas as pd\n",
    "\n",
    "ebola = pd.read_csv('data/pandas/country_timeseries.csv', parse_dates=['Date'])\n",
    "ebola.info()"
   ]
  },
  {
   "cell_type": "code",
   "execution_count": null,
   "id": "c2b4e882",
   "metadata": {},
   "outputs": [],
   "source": [
    "# 그래프 크기 조절\n",
    "import matplotlib.pyplot as plt\n",
    "plt.rcParams[\"figure.figsize\"] = (4,2)\n",
    "# 한글 폰트 적용\n",
    "from matplotlib import font_manager, rc\n",
    "font = 'C:/Windows/Fonts/malgun.ttf'\n",
    "font_name = font_manager.FontProperties(fname=font).get_name()\n",
    "rc('font', family=font_name)"
   ]
  },
  {
   "cell_type": "code",
   "execution_count": null,
   "id": "7c61977c",
   "metadata": {},
   "outputs": [],
   "source": [
    "import matplotlib.pyplot as plt\n",
    "plt.plot(ebola['Date'], ebola['Cases_Guinea'])"
   ]
  },
  {
   "cell_type": "code",
   "execution_count": null,
   "id": "490d565e",
   "metadata": {},
   "outputs": [],
   "source": [
    "ebola['Date_quarter'] = ebola['Date'].dt.quarter"
   ]
  },
  {
   "cell_type": "code",
   "execution_count": null,
   "id": "d891aa05",
   "metadata": {},
   "outputs": [],
   "source": [
    "ebola['Date_quarter']"
   ]
  },
  {
   "cell_type": "code",
   "execution_count": null,
   "id": "4d45b75a",
   "metadata": {},
   "outputs": [],
   "source": [
    "plt.plot(ebola['Date_quarter'], ebola['Cases_Guinea'])"
   ]
  },
  {
   "cell_type": "code",
   "execution_count": null,
   "id": "16441058",
   "metadata": {},
   "outputs": [],
   "source": [
    "ebola['Date_year'] = ebola['Date'].dt.year\n",
    "\n",
    "ebola_quarter = ebola.groupby(['Date_year', 'Date_quarter'])['Cases_Guinea'].mean()"
   ]
  },
  {
   "cell_type": "code",
   "execution_count": null,
   "id": "88dc2c36",
   "metadata": {},
   "outputs": [],
   "source": [
    "ebola_quarter.plot()"
   ]
  },
  {
   "cell_type": "code",
   "execution_count": null,
   "id": "9bd515a8",
   "metadata": {
    "scrolled": true
   },
   "outputs": [],
   "source": [
    "ebola.head()"
   ]
  },
  {
   "cell_type": "code",
   "execution_count": null,
   "id": "48262757",
   "metadata": {},
   "outputs": [],
   "source": [
    "pd.date_range('2014-12-31', '2015-01-05', freq = 'D')"
   ]
  },
  {
   "cell_type": "code",
   "execution_count": null,
   "id": "b11e6f06",
   "metadata": {},
   "outputs": [],
   "source": [
    "pd.date_range('2014-01-15', '2014-03-30', freq='AS')"
   ]
  },
  {
   "cell_type": "code",
   "execution_count": null,
   "id": "30327c59",
   "metadata": {},
   "outputs": [],
   "source": [
    "ebola_resample = ebola.set_index('Date').resample('Q').mean()\n",
    "ebola_resample"
   ]
  },
  {
   "cell_type": "code",
   "execution_count": null,
   "id": "170f79b5",
   "metadata": {},
   "outputs": [],
   "source": [
    "ebola_quarter"
   ]
  },
  {
   "cell_type": "code",
   "execution_count": null,
   "id": "f3da5fa5",
   "metadata": {},
   "outputs": [],
   "source": [
    "plt.plot(ebola_resample.index, ebola_resample['Cases_Guinea'])"
   ]
  },
  {
   "cell_type": "code",
   "execution_count": null,
   "id": "bd79283d",
   "metadata": {},
   "outputs": [],
   "source": [
    "ebola_head = ebola.head()"
   ]
  },
  {
   "cell_type": "code",
   "execution_count": null,
   "id": "634e9e36",
   "metadata": {},
   "outputs": [],
   "source": [
    "date_index = pd.date_range('2014-12-31', '2015-01-04', freq = 'D')\n",
    "ebola_head.set_index(date_index)"
   ]
  },
  {
   "cell_type": "code",
   "execution_count": null,
   "id": "974214ae",
   "metadata": {},
   "outputs": [],
   "source": [
    "ebola['Date'].min(),ebola['Date'].max() "
   ]
  },
  {
   "cell_type": "code",
   "execution_count": null,
   "id": "afcc03a0",
   "metadata": {},
   "outputs": [],
   "source": [
    "plt.plot(ebola['Date'], ebola['Cases_Guinea'])\n",
    "plt.xticks(pd.date_range('2014-03-22', '2015-01-05', freq='Q'),\n",
    "          labels=['2014-1q', '2014-2q', '2014-3q', '2014-4q'])"
   ]
  },
  {
   "cell_type": "code",
   "execution_count": null,
   "id": "26baf768",
   "metadata": {},
   "outputs": [],
   "source": [
    "plt.plot(ebola['Date'], ebola['Cases_Guinea'])\n",
    "plt.xlim(pd.Timestamp('2014-12-30'), pd.Timestamp('2015-01-05'))\n",
    "plt.ylim(2700, 2800)\n",
    "plt.xticks(pd.date_range('2014-12-31', '2015-01-04', freq='2D'))"
   ]
  },
  {
   "cell_type": "code",
   "execution_count": null,
   "id": "19eb9099",
   "metadata": {},
   "outputs": [],
   "source": [
    "import requests\n",
    "dfs = []\n",
    "for page in range(1, 21):\n",
    "    url = f'https://m.stock.naver.com/api/stock/005930/price?pageSize=20&page={page}'\n",
    "    response = requests.get(url)\n",
    "    df = pd.DataFrame(response.json())\n",
    "    dfs.append(df)\n",
    "samsung = pd.concat(dfs)"
   ]
  },
  {
   "cell_type": "code",
   "execution_count": null,
   "id": "8f1c55d2",
   "metadata": {},
   "outputs": [],
   "source": [
    "samsung"
   ]
  },
  {
   "cell_type": "code",
   "execution_count": null,
   "id": "fd5d9e5c",
   "metadata": {},
   "outputs": [],
   "source": [
    "samsung['closePrice'].str.replace(',', '').astype(int)"
   ]
  },
  {
   "cell_type": "code",
   "execution_count": null,
   "id": "9acf49be",
   "metadata": {},
   "outputs": [],
   "source": [
    "samsung['closePrice'].apply(lambda x : int(x.replace(',', '')))"
   ]
  },
  {
   "cell_type": "code",
   "execution_count": null,
   "id": "824db64e",
   "metadata": {},
   "outputs": [],
   "source": [
    "samsung['Date'] = pd.to_datetime(samsung['localTradedAt'])\n",
    "samsung['closePrice'] = samsung['closePrice'].str.replace(',', '').astype(int)"
   ]
  },
  {
   "cell_type": "code",
   "execution_count": null,
   "id": "a8019109",
   "metadata": {},
   "outputs": [],
   "source": [
    "import seaborn as sns\n",
    "\n",
    "sns.lineplot(data = samsung, x = 'Date', y= 'closePrice')"
   ]
  },
  {
   "cell_type": "code",
   "execution_count": null,
   "id": "0bc12a72",
   "metadata": {},
   "outputs": [],
   "source": [
    "sam = samsung[['Date', 'closePrice']].set_index('Date')\n",
    "sam"
   ]
  },
  {
   "cell_type": "code",
   "execution_count": null,
   "id": "7e1bf92a",
   "metadata": {},
   "outputs": [],
   "source": [
    "sam_week = sam.resample('W-SUN').mean()"
   ]
  },
  {
   "cell_type": "code",
   "execution_count": null,
   "id": "6c3b4073",
   "metadata": {},
   "outputs": [],
   "source": [
    "sns.lineplot(sam_week)"
   ]
  },
  {
   "cell_type": "code",
   "execution_count": null,
   "id": "dc6bed0b",
   "metadata": {},
   "outputs": [],
   "source": [
    "sam_mon = sam.resample('M').mean()\n",
    "sns.lineplot(sam_mon)"
   ]
  },
  {
   "cell_type": "code",
   "execution_count": null,
   "id": "6afeebe0",
   "metadata": {},
   "outputs": [],
   "source": [
    "plt.plot(sam, color = 'red')\n",
    "plt.plot(sam_week, color = 'blue')\n",
    "plt.plot(sam_mon, color = 'green')"
   ]
  },
  {
   "cell_type": "code",
   "execution_count": null,
   "id": "48c3e555",
   "metadata": {},
   "outputs": [],
   "source": [
    "sam['tomorrow'] = sam['closePrice'].shift()\n",
    "sam"
   ]
  },
  {
   "cell_type": "code",
   "execution_count": null,
   "id": "4f54f9b6",
   "metadata": {},
   "outputs": [],
   "source": [
    "sam['yesterday'] = sam['closePrice'].shift(-1)"
   ]
  },
  {
   "cell_type": "code",
   "execution_count": null,
   "id": "021433a2",
   "metadata": {},
   "outputs": [],
   "source": [
    "sam.head()"
   ]
  },
  {
   "cell_type": "code",
   "execution_count": null,
   "id": "7be25bff",
   "metadata": {},
   "outputs": [],
   "source": [
    "sam['diff'] = sam['closePrice'] - sam['yesterday']\n",
    "sam"
   ]
  },
  {
   "cell_type": "code",
   "execution_count": null,
   "id": "ac6a4a54",
   "metadata": {},
   "outputs": [],
   "source": [
    "sam['closePrice'].diff(-1)"
   ]
  },
  {
   "cell_type": "code",
   "execution_count": null,
   "id": "c7e0955f",
   "metadata": {},
   "outputs": [],
   "source": [
    "plt.plot(sam['diff'])"
   ]
  },
  {
   "cell_type": "code",
   "execution_count": null,
   "id": "00b54c28",
   "metadata": {},
   "outputs": [],
   "source": [
    "!pip install finance-datareader"
   ]
  },
  {
   "cell_type": "code",
   "execution_count": null,
   "id": "9e752804",
   "metadata": {},
   "outputs": [],
   "source": [
    "import FinanceDataReader as fdr\n",
    "\n",
    "df = fdr.DataReader('005930', start='2023-01-01', end='2023-12-31')\n",
    "fdr.chart.plot(df)"
   ]
  },
  {
   "cell_type": "code",
   "execution_count": null,
   "id": "c5cc78ac",
   "metadata": {},
   "outputs": [],
   "source": [
    "import requests \n",
    "from bs4 import BeautifulSoup\n",
    "import pandas as pd\n",
    "\n",
    "url = 'https://www.gmarket.co.kr/n/best'\n",
    "\n",
    "response = requests.get(url)\n",
    "\n",
    "soup = BeautifulSoup(response.content, 'html.parser')\n",
    "images = soup.select('img.image__lazy')\n",
    "codes = []\n",
    "for image in images:\n",
    "    code = image.get('src').split('/')[3]\n",
    "    codes.append(code)\n",
    "\n",
    "print(codes)"
   ]
  },
  {
   "cell_type": "code",
   "execution_count": null,
   "id": "60576eb8",
   "metadata": {},
   "outputs": [],
   "source": [
    "all_reviews = []\n",
    "for code in codes[:5]:\n",
    "    url = 'http://item.gmarket.co.kr/Review/Premium'\n",
    "    for page in range(1,201):\n",
    "        break_point = 0\n",
    "        params = {'goodsCode': code,\n",
    "                'pageNo': page,\n",
    "                'sort': 0,\n",
    "                'totalPage': 0 }\n",
    "        \n",
    "        response = requests.post(url, params)\n",
    "\n",
    "        if response.status_code == 200:\n",
    "            # 크롤링(총 리뷰의 수)\n",
    "            review = BeautifulSoup(response.content, 'html.parser')\n",
    "            rows = review.select('table > tbody tr')\n",
    "            for row in rows:\n",
    "                try:\n",
    "                    content = row.select_one('td p:nth-child(3)').text.strip()\n",
    "                    all_reviews.append({'code':code, 'content':content})\n",
    "                except:\n",
    "                    break_point = 1\n",
    "                    break\n",
    "\n",
    "            if break_point == 1:\n",
    "                break\n",
    "        else:\n",
    "            continue"
   ]
  },
  {
   "cell_type": "code",
   "execution_count": null,
   "id": "5447d06d",
   "metadata": {},
   "outputs": [],
   "source": [
    "reviews = pd.DataFrame(all_reviews)"
   ]
  },
  {
   "cell_type": "code",
   "execution_count": null,
   "id": "89ed79e9",
   "metadata": {},
   "outputs": [],
   "source": [
    "!pip install wordcloud"
   ]
  },
  {
   "cell_type": "code",
   "execution_count": null,
   "id": "0325f294",
   "metadata": {},
   "outputs": [],
   "source": [
    "with open('data/pandas/소나기.txt', 'r', encoding='utf-8') as f:\n",
    "    text = f.read()"
   ]
  },
  {
   "cell_type": "code",
   "execution_count": null,
   "id": "ca07bf53",
   "metadata": {},
   "outputs": [],
   "source": [
    "from wordcloud import WordCloud"
   ]
  },
  {
   "cell_type": "code",
   "execution_count": null,
   "id": "54d1b2a3",
   "metadata": {},
   "outputs": [],
   "source": [
    "wc = WordCloud().generate(text)"
   ]
  },
  {
   "cell_type": "code",
   "execution_count": null,
   "id": "28d61e0c",
   "metadata": {},
   "outputs": [],
   "source": [
    "import matplotlib.pyplot as plt\n",
    "\n",
    "plt.imshow(wc)"
   ]
  },
  {
   "cell_type": "code",
   "execution_count": null,
   "id": "dfb056c8",
   "metadata": {},
   "outputs": [],
   "source": [
    "font = 'C:/Windows/Fonts/malgun.ttf'"
   ]
  },
  {
   "cell_type": "code",
   "execution_count": null,
   "id": "58ce44e5",
   "metadata": {},
   "outputs": [],
   "source": [
    "wc = WordCloud(font_path = font).generate(text)"
   ]
  },
  {
   "cell_type": "code",
   "execution_count": null,
   "id": "77b1ca6b",
   "metadata": {},
   "outputs": [],
   "source": [
    "plt.imshow(wc)\n",
    "plt.axis('off')"
   ]
  },
  {
   "cell_type": "code",
   "execution_count": null,
   "id": "21894bdc",
   "metadata": {},
   "outputs": [],
   "source": [
    "# 마스크 이미지 필요 - 워드클라우드 모양\n",
    "from PIL import Image\n",
    "import numpy as np\n",
    "mask = np.array(Image.open('data/pandas/alice_mask.png'))\n",
    "\n",
    "wc = WordCloud(font_path = font, mask = mask,\n",
    "               background_color='#ffffff',\n",
    "              colormap='Reds').generate(text)"
   ]
  },
  {
   "cell_type": "code",
   "execution_count": null,
   "id": "44d0870e",
   "metadata": {},
   "outputs": [],
   "source": [
    "plt.imshow(wc)\n",
    "plt.axis('off')"
   ]
  },
  {
   "cell_type": "code",
   "execution_count": null,
   "id": "6003389b",
   "metadata": {},
   "outputs": [],
   "source": [
    "arr = np.array(Image.open('data/pandas/image-2.png'))\n",
    "arr2 = arr.mean(axis = 2).shape"
   ]
  },
  {
   "cell_type": "code",
   "execution_count": null,
   "id": "afde7367",
   "metadata": {},
   "outputs": [],
   "source": [
    "!pip install konlpy"
   ]
  },
  {
   "cell_type": "code",
   "execution_count": null,
   "id": "ba0c0638",
   "metadata": {},
   "outputs": [],
   "source": [
    "with open('data/pandas/소나기.txt', 'r', encoding='utf-8') as f:\n",
    "    text = f.read()\n",
    "\n",
    "from konlpy.tag import Okt, Hannanum, Kkma, Komoran\n",
    "okt = Okt()\n",
    "han = Hannanum()\n",
    "kkma = Kkma()\n",
    "komoran = Komoran()\n",
    "word = okt.morphs(text)\n",
    "word2 = han.morphs(text)\n",
    "word3 = kkma.morphs(text)\n",
    "word4 = komoran.morphs(text)"
   ]
  },
  {
   "cell_type": "code",
   "execution_count": null,
   "id": "b313800d",
   "metadata": {},
   "outputs": [],
   "source": [
    "print(word[:10])\n",
    "print(word2[:10])\n",
    "print(word3[:10])\n",
    "print(word4[:10])"
   ]
  },
  {
   "cell_type": "code",
   "execution_count": null,
   "id": "b280eb1e",
   "metadata": {},
   "outputs": [],
   "source": [
    "from collections import Counter\n",
    "\n",
    "words = dict(Counter(word2))"
   ]
  },
  {
   "cell_type": "code",
   "execution_count": null,
   "id": "17e8b220",
   "metadata": {},
   "outputs": [],
   "source": [
    "from wordcloud import WordCloud\n",
    "import matplotlib.pyplot as plt\n",
    "\n",
    "font = 'C:/Windows/Fonts/malgun.ttf'\n",
    "wc = WordCloud(font_path = font, background_color='white').generate_from_frequencies(words)\n",
    "plt.imshow(wc)\n",
    "plt.axis('off')"
   ]
  },
  {
   "cell_type": "code",
   "execution_count": null,
   "id": "2f58ea95",
   "metadata": {},
   "outputs": [],
   "source": [
    "with open('data/pandas/stopword.txt', 'r', encoding='utf-8') as f:\n",
    "    stopword = f.read()\n",
    "stopwords = stopword.split('\\n')\n",
    "print(stopwords[:5])"
   ]
  },
  {
   "cell_type": "code",
   "execution_count": null,
   "id": "6475a259",
   "metadata": {},
   "outputs": [],
   "source": [
    "fillter_word = []\n",
    "for word in word2:\n",
    "    if word not in stopwords:\n",
    "        fillter_word.append(word)\n",
    "\n",
    "words = dict(Counter(fillter_word))\n",
    "print(words)"
   ]
  },
  {
   "cell_type": "code",
   "execution_count": null,
   "id": "488a9720",
   "metadata": {},
   "outputs": [],
   "source": [
    "font = 'C:/Windows/Fonts/malgun.ttf'\n",
    "wc = WordCloud(font_path = font, background_color='white').generate_from_frequencies(words)\n",
    "plt.imshow(wc)\n",
    "plt.axis('off')"
   ]
  },
  {
   "cell_type": "code",
   "execution_count": null,
   "id": "3e3917e3",
   "metadata": {},
   "outputs": [],
   "source": [
    "stopwords.extend(['은', '는', '었다', '.', 'ㄴ', 'ㄴ다', '않', '지', '아다'])\n",
    "fillter_word = []\n",
    "for word in word2:\n",
    "    if word not in stopwords:\n",
    "        fillter_word.append(word)\n",
    "\n",
    "words = dict(Counter(fillter_word))\n",
    "font = 'C:/Windows/Fonts/malgun.ttf'\n",
    "wc = WordCloud(font_path = font, background_color='white').generate_from_frequencies(words)\n",
    "plt.imshow(wc)\n",
    "plt.axis('off')"
   ]
  },
  {
   "cell_type": "code",
   "execution_count": null,
   "id": "06b9e618",
   "metadata": {},
   "outputs": [],
   "source": [
    "kkma = Kkma()\n",
    "word3 = kkma.nouns(text)"
   ]
  },
  {
   "cell_type": "code",
   "execution_count": null,
   "id": "326b6464",
   "metadata": {},
   "outputs": [],
   "source": [
    "stopwords.extend(['뿐', '쪽', '개', '줄'])\n",
    "fillter_word = []\n",
    "for word in word3:\n",
    "    if word not in stopwords:\n",
    "        fillter_word.append(word)\n",
    "\n",
    "words = dict(Counter(fillter_word))\n",
    "font = 'C:/Windows/Fonts/malgun.ttf'\n",
    "wc = WordCloud(font_path = font, background_color='white').generate_from_frequencies(words)\n",
    "plt.imshow(wc)\n",
    "plt.axis('off')"
   ]
  },
  {
   "cell_type": "code",
   "execution_count": null,
   "id": "fa60860a",
   "metadata": {},
   "outputs": [],
   "source": [
    "import requests \n",
    "from bs4 import BeautifulSoup\n",
    "import pandas as pd\n",
    "\n",
    "url = 'https://www.gmarket.co.kr/n/best'\n",
    "\n",
    "response = requests.get(url)\n",
    "\n",
    "soup = BeautifulSoup(response.content, 'html.parser')\n",
    "images = soup.select('img.image__lazy')\n",
    "codes = []\n",
    "for image in images:\n",
    "    code = image.get('src').split('/')[3]\n",
    "    codes.append(code)\n",
    "\n",
    "all_reviews = []\n",
    "for code in codes[:5]:\n",
    "    url = 'http://item.gmarket.co.kr/Review/Premium'\n",
    "    for page in range(1,201):\n",
    "        break_point = 0\n",
    "        params = {'goodsCode': code,\n",
    "                'pageNo': page,\n",
    "                'sort': 0,\n",
    "                'totalPage': 0 }\n",
    "        \n",
    "        response = requests.post(url, params)\n",
    "\n",
    "        if response.status_code == 200:\n",
    "            # 크롤링(총 리뷰의 수)\n",
    "            review = BeautifulSoup(response.content, 'html.parser')\n",
    "            rows = review.select('table > tbody tr')\n",
    "            for row in rows:\n",
    "                try:\n",
    "                    content = row.select_one('td p:nth-child(3)').text.strip()\n",
    "                    all_reviews.append({'code':code, 'content':content})\n",
    "                except:\n",
    "                    break_point = 1\n",
    "                    break\n",
    "\n",
    "            if break_point == 1:\n",
    "                break\n",
    "        else:\n",
    "            continue\n",
    "\n"
   ]
  },
  {
   "cell_type": "code",
   "execution_count": null,
   "id": "e63e181c",
   "metadata": {},
   "outputs": [],
   "source": [
    "df = pd.DataFrame(all_reviews)\n",
    "df.head()"
   ]
  },
  {
   "cell_type": "code",
   "execution_count": null,
   "id": "0604e0c0",
   "metadata": {},
   "outputs": [],
   "source": [
    "# 중복제거\n",
    "df = df.drop_duplicates('content')\n",
    "df.head()"
   ]
  },
  {
   "cell_type": "code",
   "execution_count": null,
   "id": "94eda0e2",
   "metadata": {},
   "outputs": [],
   "source": [
    "# 특정 물품에 대한 리뷰 데이터만 (하나의 문자열로) 들고오기\n",
    "def select_item(item_id):\n",
    "    df2 = df[df['code'] == item_id]\n",
    "    return ' '.join(df2['content'].values)"
   ]
  },
  {
   "cell_type": "code",
   "execution_count": null,
   "id": "2b16f1c5",
   "metadata": {},
   "outputs": [],
   "source": [
    "# 형태소 분석\n",
    "def tokenize(text):\n",
    "    kkma = Kkma()\n",
    "    word = kkma.morphs(text)\n",
    "    return word"
   ]
  },
  {
   "cell_type": "code",
   "execution_count": null,
   "id": "c8a3bdd7",
   "metadata": {},
   "outputs": [],
   "source": [
    "# 불용어 처리 + counter 작업\n",
    "def stop_count(word):\n",
    "    fillter_word = []\n",
    "    for w in word:\n",
    "        if w not in stopwords:\n",
    "            fillter_word.append(w)\n",
    "\n",
    "    words = dict(Counter(fillter_word))\n",
    "    return words"
   ]
  },
  {
   "cell_type": "code",
   "execution_count": null,
   "id": "5f77e424",
   "metadata": {},
   "outputs": [],
   "source": [
    "# 워드클라우드 그리기\n",
    "def word_cloud(words):\n",
    "    font = 'C:/Windows/Fonts/malgun.ttf'\n",
    "    wc = WordCloud(font_path = font, background_color='white').generate_from_frequencies(words)\n",
    "    plt.imshow(wc)\n",
    "    plt.axis('off')\n",
    "    plt.show()"
   ]
  },
  {
   "cell_type": "code",
   "execution_count": null,
   "id": "3dc9bbb8",
   "metadata": {},
   "outputs": [],
   "source": [
    "for item_id in df['code'].unique():\n",
    "    text = select_item(item_id)\n",
    "    word = tokenize(text)\n",
    "    words = stop_count(word)\n",
    "    word_cloud(words)"
   ]
  },
  {
   "cell_type": "code",
   "execution_count": null,
   "id": "3ca662f9",
   "metadata": {},
   "outputs": [],
   "source": [
    "with open('data/pandas/소나기.txt', 'r', encoding='utf-8') as f:\n",
    "    text = f.read()"
   ]
  },
  {
   "cell_type": "code",
   "execution_count": null,
   "id": "b310313f",
   "metadata": {},
   "outputs": [],
   "source": [
    "import re\n",
    "\n",
    "re.sub('[^ 가-힣ㄱ-ㅎ\\.]+', '',text)"
   ]
  },
  {
   "cell_type": "code",
   "execution_count": null,
   "id": "a96f65f8",
   "metadata": {},
   "outputs": [],
   "source": []
  }
 ],
 "metadata": {
  "kernelspec": {
   "display_name": "Python 3 (ipykernel)",
   "language": "python",
   "name": "python3"
  },
  "language_info": {
   "codemirror_mode": {
    "name": "ipython",
    "version": 3
   },
   "file_extension": ".py",
   "mimetype": "text/x-python",
   "name": "python",
   "nbconvert_exporter": "python",
   "pygments_lexer": "ipython3",
   "version": "3.11.5"
  }
 },
 "nbformat": 4,
 "nbformat_minor": 5
}
