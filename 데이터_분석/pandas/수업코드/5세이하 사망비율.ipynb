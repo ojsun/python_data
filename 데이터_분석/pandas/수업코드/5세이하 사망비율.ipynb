{
 "cells": [
  {
   "cell_type": "markdown",
   "metadata": {
    "id": "q-OINdKMaN3v"
   },
   "source": [
    "### Step 1. 필요한 라이브러리 임포트"
   ]
  },
  {
   "cell_type": "code",
   "execution_count": null,
   "metadata": {
    "id": "hFLaRiJWaN3w"
   },
   "outputs": [],
   "source": [
    "import pandas as pd"
   ]
  },
  {
   "cell_type": "markdown",
   "metadata": {
    "id": "NQdg8JT1aN3z"
   },
   "source": [
    "### Step 2. [데이터](https://raw.githubusercontent.com/Datamanim/pandas/main/under5MortalityRate.csv) 확인\n",
    "\n",
    "- Location : 지역\n",
    "- Period : 연도\n",
    "- Dim1 : 성별(남 : Male, 여 : Female, 모두 : Both sexes)\n",
    "- First Tooltip : 천명당 사망률(명)"
   ]
  },
  {
   "cell_type": "markdown",
   "metadata": {
    "id": "4aqeW1J4aN30"
   },
   "source": [
    "### Step 3. 데이터 불러오기\n",
    "\n",
    "\n",
    "**read_csv를 통해 데이터를 올바른 형태로 불러온 뒤 df에 저장해주세요**  \n",
    "data: under5MortalityRate.csv"
   ]
  },
  {
   "cell_type": "code",
   "execution_count": null,
   "metadata": {
    "id": "9M6JzJShaN31",
    "scrolled": true
   },
   "outputs": [],
   "source": []
  },
  {
   "cell_type": "markdown",
   "metadata": {
    "id": "hpePQfkr8Hcm"
   },
   "source": [
    "### Step 4. 데이터 확인하기\n",
    "info를 사용하여 확인해주세요"
   ]
  },
  {
   "cell_type": "code",
   "execution_count": null,
   "metadata": {
    "id": "tBvsS5ol8Hcm"
   },
   "outputs": [],
   "source": []
  },
  {
   "cell_type": "markdown",
   "metadata": {
    "id": "iun_5opxaN33"
   },
   "source": [
    "### Step 5. 년도가 2015년 이상, Dim1이 Both sexes인 케이스만 추출해주세요."
   ]
  },
  {
   "cell_type": "code",
   "execution_count": null,
   "metadata": {
    "id": "oqPlZae58Hcn"
   },
   "outputs": [],
   "source": []
  },
  {
   "attachments": {
    "image.png": {
     "image/png": "[encoded data removed]"
    }
   },
   "cell_type": "markdown",
   "metadata": {
    "id": "A2vhvr478Hcn"
   },
   "source": [
    "### Step 6. 5번에서 추출한 데이터로 아래와 같이 나라에 따른 년도별 사망률을 데이터 프레임화하세요.\n",
    "![image.png](attachment:image.png)"
   ]
  },
  {
   "cell_type": "code",
   "execution_count": null,
   "metadata": {
    "id": "wZBqaw6L8Hcn",
    "scrolled": false
   },
   "outputs": [],
   "source": []
  },
  {
   "cell_type": "markdown",
   "metadata": {
    "id": "BGGxNUxk8Hcn"
   },
   "source": [
    "### Step 7. Dim1에 따른 년도별 사망률의 평균을 구해주세요."
   ]
  },
  {
   "cell_type": "code",
   "execution_count": null,
   "metadata": {
    "id": "v9ooqVQk8Hco",
    "scrolled": false
   },
   "outputs": [],
   "source": []
  },
  {
   "cell_type": "markdown",
   "metadata": {
    "id": "Yqk30COi8Hco"
   },
   "source": [
    "### Step 8. 나라별 전체 년도에 대한 사망률의 평균을 계산하여 내림차순으로 정렬해주세요."
   ]
  },
  {
   "cell_type": "code",
   "execution_count": null,
   "metadata": {
    "id": "RocOSz1R8Hco"
   },
   "outputs": [],
   "source": []
  }
 ],
 "metadata": {
  "anaconda-cloud": {},
  "colab": {
   "provenance": []
  },
  "kernelspec": {
   "display_name": "Python 3 (ipykernel)",
   "language": "python",
   "name": "python3"
  },
  "language_info": {
   "codemirror_mode": {
    "name": "ipython",
    "version": 3
   },
   "file_extension": ".py",
   "mimetype": "text/x-python",
   "name": "python",
   "nbconvert_exporter": "python",
   "pygments_lexer": "ipython3",
   "version": "3.11.5"
  }
 },
 "nbformat": 4,
 "nbformat_minor": 1
}
