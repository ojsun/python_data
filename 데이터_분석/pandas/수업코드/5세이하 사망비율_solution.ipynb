{
 "cells": [
  {
   "cell_type": "markdown",
   "metadata": {
    "id": "q-OINdKMaN3v"
   },
   "source": [
    "### Step 1. 필요한 라이브러리 임포트"
   ]
  },
  {
   "cell_type": "code",
   "execution_count": 1,
   "metadata": {
    "id": "hFLaRiJWaN3w",
    "tags": []
   },
   "outputs": [],
   "source": [
    "import pandas as pd"
   ]
  },
  {
   "cell_type": "markdown",
   "metadata": {
    "id": "NQdg8JT1aN3z"
   },
   "source": [
    "### Step 2. [데이터](https://raw.githubusercontent.com/Datamanim/pandas/main/under5MortalityRate.csv) 확인\n",
    "\n",
    "- Location : 지역\n",
    "- Period : 연도\n",
    "- Dim1 : 성별(남 : Male, 여 : Female, 모두 : Both sexes)\n",
    "- First Tooltip : 천명당 사망률(명)"
   ]
  },
  {
   "cell_type": "markdown",
   "metadata": {
    "id": "4aqeW1J4aN30"
   },
   "source": [
    "### Step 3. 데이터 불러오기\n",
    "\n",
    "\n",
    "**read_csv를 통해 데이터를 올바른 형태로 불러온 뒤 df에 저장해주세요**  \n",
    "data: under5MortalityRate.csv"
   ]
  },
  {
   "cell_type": "code",
   "execution_count": 2,
   "metadata": {
    "id": "9M6JzJShaN31",
    "scrolled": true,
    "tags": []
   },
   "outputs": [],
   "source": [
    "df = pd.read_csv('../data/under5MortalityRate.csv')"
   ]
  },
  {
   "cell_type": "code",
   "execution_count": 4,
   "metadata": {},
   "outputs": [
    {
     "data": {
      "text/html": [
       "<div>\n",
       "<style scoped>\n",
       "    .dataframe tbody tr th:only-of-type {\n",
       "        vertical-align: middle;\n",
       "    }\n",
       "\n",
       "    .dataframe tbody tr th {\n",
       "        vertical-align: top;\n",
       "    }\n",
       "\n",
       "    .dataframe thead th {\n",
       "        text-align: right;\n",
       "    }\n",
       "</style>\n",
       "<table border=\"1\" class=\"dataframe\">\n",
       "  <thead>\n",
       "    <tr style=\"text-align: right;\">\n",
       "      <th></th>\n",
       "      <th>Location</th>\n",
       "      <th>Period</th>\n",
       "      <th>Dim1</th>\n",
       "      <th>First Tooltip</th>\n",
       "    </tr>\n",
       "  </thead>\n",
       "  <tbody>\n",
       "    <tr>\n",
       "      <th>0</th>\n",
       "      <td>Afghanistan</td>\n",
       "      <td>2019</td>\n",
       "      <td>Both sexes</td>\n",
       "      <td>60.27</td>\n",
       "    </tr>\n",
       "    <tr>\n",
       "      <th>1</th>\n",
       "      <td>Afghanistan</td>\n",
       "      <td>2019</td>\n",
       "      <td>Male</td>\n",
       "      <td>63.83</td>\n",
       "    </tr>\n",
       "    <tr>\n",
       "      <th>2</th>\n",
       "      <td>Afghanistan</td>\n",
       "      <td>2019</td>\n",
       "      <td>Female</td>\n",
       "      <td>56.57</td>\n",
       "    </tr>\n",
       "    <tr>\n",
       "      <th>3</th>\n",
       "      <td>Afghanistan</td>\n",
       "      <td>2018</td>\n",
       "      <td>Both sexes</td>\n",
       "      <td>62.54</td>\n",
       "    </tr>\n",
       "    <tr>\n",
       "      <th>4</th>\n",
       "      <td>Afghanistan</td>\n",
       "      <td>2018</td>\n",
       "      <td>Male</td>\n",
       "      <td>66.08</td>\n",
       "    </tr>\n",
       "  </tbody>\n",
       "</table>\n",
       "</div>"
      ],
      "text/plain": [
       "      Location  Period        Dim1  First Tooltip\n",
       "0  Afghanistan    2019  Both sexes          60.27\n",
       "1  Afghanistan    2019        Male          63.83\n",
       "2  Afghanistan    2019      Female          56.57\n",
       "3  Afghanistan    2018  Both sexes          62.54\n",
       "4  Afghanistan    2018        Male          66.08"
      ]
     },
     "execution_count": 4,
     "metadata": {},
     "output_type": "execute_result"
    }
   ],
   "source": [
    "df.head()"
   ]
  },
  {
   "cell_type": "markdown",
   "metadata": {
    "id": "hpePQfkr8Hcm"
   },
   "source": [
    "### Step 4. 데이터 확인하기\n",
    "info를 사용하여 확인해주세요"
   ]
  },
  {
   "cell_type": "code",
   "execution_count": 5,
   "metadata": {
    "id": "tBvsS5ol8Hcm"
   },
   "outputs": [
    {
     "name": "stdout",
     "output_type": "stream",
     "text": [
      "<class 'pandas.core.frame.DataFrame'>\n",
      "RangeIndex: 29999 entries, 0 to 29998\n",
      "Data columns (total 4 columns):\n",
      " #   Column         Non-Null Count  Dtype  \n",
      "---  ------         --------------  -----  \n",
      " 0   Location       29999 non-null  object \n",
      " 1   Period         29999 non-null  int64  \n",
      " 2   Dim1           29999 non-null  object \n",
      " 3   First Tooltip  29999 non-null  float64\n",
      "dtypes: float64(1), int64(1), object(2)\n",
      "memory usage: 937.6+ KB\n"
     ]
    }
   ],
   "source": [
    "df.info()"
   ]
  },
  {
   "cell_type": "code",
   "execution_count": 3,
   "metadata": {
    "tags": []
   },
   "outputs": [
    {
     "data": {
      "text/plain": [
       "177"
      ]
     },
     "execution_count": 3,
     "metadata": {},
     "output_type": "execute_result"
    }
   ],
   "source": [
    "len(df['Location'].unique())"
   ]
  },
  {
   "cell_type": "code",
   "execution_count": 9,
   "metadata": {},
   "outputs": [
    {
     "data": {
      "text/plain": [
       "70"
      ]
     },
     "execution_count": 9,
     "metadata": {},
     "output_type": "execute_result"
    }
   ],
   "source": [
    "len(df['Period'].unique())"
   ]
  },
  {
   "cell_type": "code",
   "execution_count": 11,
   "metadata": {},
   "outputs": [
    {
     "data": {
      "text/plain": [
       "3"
      ]
     },
     "execution_count": 11,
     "metadata": {},
     "output_type": "execute_result"
    }
   ],
   "source": [
    "len(df['Dim1'].unique())"
   ]
  },
  {
   "cell_type": "code",
   "execution_count": 12,
   "metadata": {},
   "outputs": [
    {
     "data": {
      "text/plain": [
       "37170"
      ]
     },
     "execution_count": 12,
     "metadata": {},
     "output_type": "execute_result"
    }
   ],
   "source": [
    "177 * 70 * 3"
   ]
  },
  {
   "cell_type": "markdown",
   "metadata": {
    "id": "iun_5opxaN33"
   },
   "source": [
    "### Step 5. 년도가 2015년 이상, Dim1이 Both sexes인 케이스만 추출해주세요."
   ]
  },
  {
   "cell_type": "code",
   "execution_count": 4,
   "metadata": {
    "id": "oqPlZae58Hcn",
    "tags": []
   },
   "outputs": [
    {
     "data": {
      "text/html": [
       "<div>\n",
       "<style scoped>\n",
       "    .dataframe tbody tr th:only-of-type {\n",
       "        vertical-align: middle;\n",
       "    }\n",
       "\n",
       "    .dataframe tbody tr th {\n",
       "        vertical-align: top;\n",
       "    }\n",
       "\n",
       "    .dataframe thead th {\n",
       "        text-align: right;\n",
       "    }\n",
       "</style>\n",
       "<table border=\"1\" class=\"dataframe\">\n",
       "  <thead>\n",
       "    <tr style=\"text-align: right;\">\n",
       "      <th></th>\n",
       "      <th>Location</th>\n",
       "      <th>Period</th>\n",
       "      <th>Dim1</th>\n",
       "      <th>First Tooltip</th>\n",
       "    </tr>\n",
       "  </thead>\n",
       "  <tbody>\n",
       "    <tr>\n",
       "      <th>0</th>\n",
       "      <td>Afghanistan</td>\n",
       "      <td>2019</td>\n",
       "      <td>Both sexes</td>\n",
       "      <td>60.27</td>\n",
       "    </tr>\n",
       "    <tr>\n",
       "      <th>3</th>\n",
       "      <td>Afghanistan</td>\n",
       "      <td>2018</td>\n",
       "      <td>Both sexes</td>\n",
       "      <td>62.54</td>\n",
       "    </tr>\n",
       "    <tr>\n",
       "      <th>6</th>\n",
       "      <td>Afghanistan</td>\n",
       "      <td>2017</td>\n",
       "      <td>Both sexes</td>\n",
       "      <td>64.94</td>\n",
       "    </tr>\n",
       "    <tr>\n",
       "      <th>9</th>\n",
       "      <td>Afghanistan</td>\n",
       "      <td>2016</td>\n",
       "      <td>Both sexes</td>\n",
       "      <td>67.57</td>\n",
       "    </tr>\n",
       "    <tr>\n",
       "      <th>12</th>\n",
       "      <td>Afghanistan</td>\n",
       "      <td>2015</td>\n",
       "      <td>Both sexes</td>\n",
       "      <td>70.44</td>\n",
       "    </tr>\n",
       "  </tbody>\n",
       "</table>\n",
       "</div>"
      ],
      "text/plain": [
       "       Location  Period        Dim1  First Tooltip\n",
       "0   Afghanistan    2019  Both sexes          60.27\n",
       "3   Afghanistan    2018  Both sexes          62.54\n",
       "6   Afghanistan    2017  Both sexes          64.94\n",
       "9   Afghanistan    2016  Both sexes          67.57\n",
       "12  Afghanistan    2015  Both sexes          70.44"
      ]
     },
     "execution_count": 4,
     "metadata": {},
     "output_type": "execute_result"
    }
   ],
   "source": [
    "df2 = df[(df['Period'] >= 2015) & (df['Dim1'] == 'Both sexes')]\n",
    "df2.head()"
   ]
  },
  {
   "attachments": {
    "image.png": {
     "image/png": "[encoded data removed]"
    }
   },
   "cell_type": "markdown",
   "metadata": {
    "id": "A2vhvr478Hcn"
   },
   "source": [
    "### Step 6. 5번에서 추출한 데이터로 아래와 같이 나라에 따른 년도별 사망률을 데이터 프레임화하세요.\n",
    "![image.png](attachment:image.png)"
   ]
  },
  {
   "cell_type": "code",
   "execution_count": 17,
   "metadata": {
    "id": "wZBqaw6L8Hcn"
   },
   "outputs": [
    {
     "data": {
      "text/html": [
       "<div>\n",
       "<style scoped>\n",
       "    .dataframe tbody tr th:only-of-type {\n",
       "        vertical-align: middle;\n",
       "    }\n",
       "\n",
       "    .dataframe tbody tr th {\n",
       "        vertical-align: top;\n",
       "    }\n",
       "\n",
       "    .dataframe thead th {\n",
       "        text-align: right;\n",
       "    }\n",
       "</style>\n",
       "<table border=\"1\" class=\"dataframe\">\n",
       "  <thead>\n",
       "    <tr style=\"text-align: right;\">\n",
       "      <th>Period</th>\n",
       "      <th>2015</th>\n",
       "      <th>2016</th>\n",
       "      <th>2017</th>\n",
       "      <th>2018</th>\n",
       "      <th>2019</th>\n",
       "    </tr>\n",
       "    <tr>\n",
       "      <th>Location</th>\n",
       "      <th></th>\n",
       "      <th></th>\n",
       "      <th></th>\n",
       "      <th></th>\n",
       "      <th></th>\n",
       "    </tr>\n",
       "  </thead>\n",
       "  <tbody>\n",
       "    <tr>\n",
       "      <th>Afghanistan</th>\n",
       "      <td>70.44</td>\n",
       "      <td>67.57</td>\n",
       "      <td>64.94</td>\n",
       "      <td>62.54</td>\n",
       "      <td>60.27</td>\n",
       "    </tr>\n",
       "    <tr>\n",
       "      <th>Albania</th>\n",
       "      <td>9.57</td>\n",
       "      <td>9.42</td>\n",
       "      <td>9.42</td>\n",
       "      <td>9.53</td>\n",
       "      <td>9.68</td>\n",
       "    </tr>\n",
       "    <tr>\n",
       "      <th>Algeria</th>\n",
       "      <td>25.18</td>\n",
       "      <td>24.79</td>\n",
       "      <td>24.32</td>\n",
       "      <td>23.81</td>\n",
       "      <td>23.26</td>\n",
       "    </tr>\n",
       "    <tr>\n",
       "      <th>Andorra</th>\n",
       "      <td>3.53</td>\n",
       "      <td>3.37</td>\n",
       "      <td>3.22</td>\n",
       "      <td>3.09</td>\n",
       "      <td>2.97</td>\n",
       "    </tr>\n",
       "    <tr>\n",
       "      <th>Angola</th>\n",
       "      <td>88.20</td>\n",
       "      <td>84.21</td>\n",
       "      <td>80.62</td>\n",
       "      <td>77.67</td>\n",
       "      <td>74.69</td>\n",
       "    </tr>\n",
       "    <tr>\n",
       "      <th>...</th>\n",
       "      <td>...</td>\n",
       "      <td>...</td>\n",
       "      <td>...</td>\n",
       "      <td>...</td>\n",
       "      <td>...</td>\n",
       "    </tr>\n",
       "    <tr>\n",
       "      <th>Syrian Arab Republic</th>\n",
       "      <td>23.18</td>\n",
       "      <td>23.27</td>\n",
       "      <td>22.97</td>\n",
       "      <td>22.11</td>\n",
       "      <td>21.53</td>\n",
       "    </tr>\n",
       "    <tr>\n",
       "      <th>Tajikistan</th>\n",
       "      <td>37.75</td>\n",
       "      <td>36.82</td>\n",
       "      <td>35.81</td>\n",
       "      <td>34.80</td>\n",
       "      <td>33.78</td>\n",
       "    </tr>\n",
       "    <tr>\n",
       "      <th>Thailand</th>\n",
       "      <td>10.80</td>\n",
       "      <td>10.32</td>\n",
       "      <td>9.86</td>\n",
       "      <td>9.42</td>\n",
       "      <td>9.01</td>\n",
       "    </tr>\n",
       "    <tr>\n",
       "      <th>The former Yugoslav Republic of Macedonia</th>\n",
       "      <td>12.97</td>\n",
       "      <td>11.97</td>\n",
       "      <td>9.94</td>\n",
       "      <td>7.83</td>\n",
       "      <td>6.12</td>\n",
       "    </tr>\n",
       "    <tr>\n",
       "      <th>Timor-Leste</th>\n",
       "      <td>50.76</td>\n",
       "      <td>49.01</td>\n",
       "      <td>47.27</td>\n",
       "      <td>45.62</td>\n",
       "      <td>44.22</td>\n",
       "    </tr>\n",
       "  </tbody>\n",
       "</table>\n",
       "<p>172 rows × 5 columns</p>\n",
       "</div>"
      ],
      "text/plain": [
       "Period                                      2015   2016   2017   2018   2019\n",
       "Location                                                                    \n",
       "Afghanistan                                70.44  67.57  64.94  62.54  60.27\n",
       "Albania                                     9.57   9.42   9.42   9.53   9.68\n",
       "Algeria                                    25.18  24.79  24.32  23.81  23.26\n",
       "Andorra                                     3.53   3.37   3.22   3.09   2.97\n",
       "Angola                                     88.20  84.21  80.62  77.67  74.69\n",
       "...                                          ...    ...    ...    ...    ...\n",
       "Syrian Arab Republic                       23.18  23.27  22.97  22.11  21.53\n",
       "Tajikistan                                 37.75  36.82  35.81  34.80  33.78\n",
       "Thailand                                   10.80  10.32   9.86   9.42   9.01\n",
       "The former Yugoslav Republic of Macedonia  12.97  11.97   9.94   7.83   6.12\n",
       "Timor-Leste                                50.76  49.01  47.27  45.62  44.22\n",
       "\n",
       "[172 rows x 5 columns]"
      ]
     },
     "execution_count": 17,
     "metadata": {},
     "output_type": "execute_result"
    }
   ],
   "source": [
    "df2.pivot_table(index = 'Location', columns='Period', values = 'First Tooltip')"
   ]
  },
  {
   "cell_type": "markdown",
   "metadata": {
    "id": "BGGxNUxk8Hcn"
   },
   "source": [
    "### Step 7. Dim1에 따른 년도별 사망률의 평균을 구해주세요."
   ]
  },
  {
   "cell_type": "code",
   "execution_count": 5,
   "metadata": {
    "id": "v9ooqVQk8Hco",
    "tags": []
   },
   "outputs": [
    {
     "data": {
      "text/plain": [
       "147.70081632653063"
      ]
     },
     "execution_count": 5,
     "metadata": {},
     "output_type": "execute_result"
    }
   ],
   "source": [
    "df[(df['Dim1'] == 'Both sexes') & (df['Period'] == 1950)]['First Tooltip'].mean()"
   ]
  },
  {
   "cell_type": "code",
   "execution_count": 6,
   "metadata": {
    "tags": []
   },
   "outputs": [
    {
     "data": {
      "text/html": [
       "<div>\n",
       "<style scoped>\n",
       "    .dataframe tbody tr th:only-of-type {\n",
       "        vertical-align: middle;\n",
       "    }\n",
       "\n",
       "    .dataframe tbody tr th {\n",
       "        vertical-align: top;\n",
       "    }\n",
       "\n",
       "    .dataframe thead th {\n",
       "        text-align: right;\n",
       "    }\n",
       "</style>\n",
       "<table border=\"1\" class=\"dataframe\">\n",
       "  <thead>\n",
       "    <tr style=\"text-align: right;\">\n",
       "      <th>Period</th>\n",
       "      <th>1950</th>\n",
       "      <th>1951</th>\n",
       "      <th>1952</th>\n",
       "      <th>1953</th>\n",
       "      <th>1954</th>\n",
       "      <th>1955</th>\n",
       "      <th>1956</th>\n",
       "      <th>1957</th>\n",
       "      <th>1958</th>\n",
       "      <th>1959</th>\n",
       "      <th>...</th>\n",
       "      <th>2010</th>\n",
       "      <th>2011</th>\n",
       "      <th>2012</th>\n",
       "      <th>2013</th>\n",
       "      <th>2014</th>\n",
       "      <th>2015</th>\n",
       "      <th>2016</th>\n",
       "      <th>2017</th>\n",
       "      <th>2018</th>\n",
       "      <th>2019</th>\n",
       "    </tr>\n",
       "    <tr>\n",
       "      <th>Dim1</th>\n",
       "      <th></th>\n",
       "      <th></th>\n",
       "      <th></th>\n",
       "      <th></th>\n",
       "      <th></th>\n",
       "      <th></th>\n",
       "      <th></th>\n",
       "      <th></th>\n",
       "      <th></th>\n",
       "      <th></th>\n",
       "      <th></th>\n",
       "      <th></th>\n",
       "      <th></th>\n",
       "      <th></th>\n",
       "      <th></th>\n",
       "      <th></th>\n",
       "      <th></th>\n",
       "      <th></th>\n",
       "      <th></th>\n",
       "      <th></th>\n",
       "      <th></th>\n",
       "    </tr>\n",
       "  </thead>\n",
       "  <tbody>\n",
       "    <tr>\n",
       "      <th>Both sexes</th>\n",
       "      <td>147.700816</td>\n",
       "      <td>155.537544</td>\n",
       "      <td>157.811094</td>\n",
       "      <td>156.147206</td>\n",
       "      <td>154.539857</td>\n",
       "      <td>155.797179</td>\n",
       "      <td>159.241163</td>\n",
       "      <td>156.170114</td>\n",
       "      <td>150.813222</td>\n",
       "      <td>150.574000</td>\n",
       "      <td>...</td>\n",
       "      <td>37.718488</td>\n",
       "      <td>35.573663</td>\n",
       "      <td>34.290988</td>\n",
       "      <td>33.099360</td>\n",
       "      <td>32.053314</td>\n",
       "      <td>31.012093</td>\n",
       "      <td>29.956337</td>\n",
       "      <td>29.030465</td>\n",
       "      <td>28.083837</td>\n",
       "      <td>27.191744</td>\n",
       "    </tr>\n",
       "    <tr>\n",
       "      <th>Female</th>\n",
       "      <td>140.909796</td>\n",
       "      <td>149.210175</td>\n",
       "      <td>151.516094</td>\n",
       "      <td>150.250882</td>\n",
       "      <td>148.688286</td>\n",
       "      <td>149.843205</td>\n",
       "      <td>153.048721</td>\n",
       "      <td>149.988295</td>\n",
       "      <td>144.719667</td>\n",
       "      <td>144.451474</td>\n",
       "      <td>...</td>\n",
       "      <td>34.953023</td>\n",
       "      <td>32.877616</td>\n",
       "      <td>31.654070</td>\n",
       "      <td>30.521337</td>\n",
       "      <td>29.524302</td>\n",
       "      <td>28.544360</td>\n",
       "      <td>27.542035</td>\n",
       "      <td>26.675291</td>\n",
       "      <td>25.782616</td>\n",
       "      <td>24.945349</td>\n",
       "    </tr>\n",
       "    <tr>\n",
       "      <th>Male</th>\n",
       "      <td>154.151224</td>\n",
       "      <td>161.538246</td>\n",
       "      <td>163.760781</td>\n",
       "      <td>161.742059</td>\n",
       "      <td>160.081000</td>\n",
       "      <td>161.456923</td>\n",
       "      <td>165.089535</td>\n",
       "      <td>162.015000</td>\n",
       "      <td>156.573556</td>\n",
       "      <td>156.375053</td>\n",
       "      <td>...</td>\n",
       "      <td>40.340174</td>\n",
       "      <td>38.140291</td>\n",
       "      <td>36.793081</td>\n",
       "      <td>35.543663</td>\n",
       "      <td>34.446105</td>\n",
       "      <td>33.354302</td>\n",
       "      <td>32.242616</td>\n",
       "      <td>31.273198</td>\n",
       "      <td>30.283023</td>\n",
       "      <td>29.350349</td>\n",
       "    </tr>\n",
       "  </tbody>\n",
       "</table>\n",
       "<p>3 rows × 70 columns</p>\n",
       "</div>"
      ],
      "text/plain": [
       "Period            1950        1951        1952        1953        1954  \\\n",
       "Dim1                                                                     \n",
       "Both sexes  147.700816  155.537544  157.811094  156.147206  154.539857   \n",
       "Female      140.909796  149.210175  151.516094  150.250882  148.688286   \n",
       "Male        154.151224  161.538246  163.760781  161.742059  160.081000   \n",
       "\n",
       "Period            1955        1956        1957        1958        1959  ...  \\\n",
       "Dim1                                                                    ...   \n",
       "Both sexes  155.797179  159.241163  156.170114  150.813222  150.574000  ...   \n",
       "Female      149.843205  153.048721  149.988295  144.719667  144.451474  ...   \n",
       "Male        161.456923  165.089535  162.015000  156.573556  156.375053  ...   \n",
       "\n",
       "Period           2010       2011       2012       2013       2014       2015  \\\n",
       "Dim1                                                                           \n",
       "Both sexes  37.718488  35.573663  34.290988  33.099360  32.053314  31.012093   \n",
       "Female      34.953023  32.877616  31.654070  30.521337  29.524302  28.544360   \n",
       "Male        40.340174  38.140291  36.793081  35.543663  34.446105  33.354302   \n",
       "\n",
       "Period           2016       2017       2018       2019  \n",
       "Dim1                                                    \n",
       "Both sexes  29.956337  29.030465  28.083837  27.191744  \n",
       "Female      27.542035  26.675291  25.782616  24.945349  \n",
       "Male        32.242616  31.273198  30.283023  29.350349  \n",
       "\n",
       "[3 rows x 70 columns]"
      ]
     },
     "execution_count": 6,
     "metadata": {},
     "output_type": "execute_result"
    }
   ],
   "source": [
    "df.pivot_table(index = 'Dim1', columns = 'Period', values = 'First Tooltip',\n",
    "              aggfunc='mean')"
   ]
  },
  {
   "cell_type": "markdown",
   "metadata": {
    "id": "Yqk30COi8Hco"
   },
   "source": [
    "### Step 8. 나라별 전체 년도에 대한 사망률의 평균을 계산하여 내림차순으로 정렬해주세요."
   ]
  },
  {
   "cell_type": "code",
   "execution_count": 33,
   "metadata": {},
   "outputs": [
    {
     "data": {
      "text/plain": [
       "186.76954022988502"
      ]
     },
     "execution_count": 33,
     "metadata": {},
     "output_type": "execute_result"
    }
   ],
   "source": [
    "df[(df['Location'] == 'Afghanistan')]['First Tooltip'].mean()"
   ]
  },
  {
   "cell_type": "code",
   "execution_count": 7,
   "metadata": {
    "id": "RocOSz1R8Hco",
    "tags": []
   },
   "outputs": [],
   "source": [
    "df3 = df.pivot_table(index = 'Location', values = 'First Tooltip', aggfunc='mean')"
   ]
  },
  {
   "cell_type": "code",
   "execution_count": 40,
   "metadata": {},
   "outputs": [],
   "source": [
    "# df.groupby('Location')['First Tooltip'].mean().to_frame()"
   ]
  },
  {
   "cell_type": "code",
   "execution_count": 8,
   "metadata": {
    "tags": []
   },
   "outputs": [
    {
     "data": {
      "text/html": [
       "<div>\n",
       "<style scoped>\n",
       "    .dataframe tbody tr th:only-of-type {\n",
       "        vertical-align: middle;\n",
       "    }\n",
       "\n",
       "    .dataframe tbody tr th {\n",
       "        vertical-align: top;\n",
       "    }\n",
       "\n",
       "    .dataframe thead th {\n",
       "        text-align: right;\n",
       "    }\n",
       "</style>\n",
       "<table border=\"1\" class=\"dataframe\">\n",
       "  <thead>\n",
       "    <tr style=\"text-align: right;\">\n",
       "      <th></th>\n",
       "      <th>First Tooltip</th>\n",
       "    </tr>\n",
       "    <tr>\n",
       "      <th>Location</th>\n",
       "      <th></th>\n",
       "    </tr>\n",
       "  </thead>\n",
       "  <tbody>\n",
       "    <tr>\n",
       "      <th>Sierra Leone</th>\n",
       "      <td>257.340437</td>\n",
       "    </tr>\n",
       "    <tr>\n",
       "      <th>Niger</th>\n",
       "      <td>247.864591</td>\n",
       "    </tr>\n",
       "    <tr>\n",
       "      <th>Guinea</th>\n",
       "      <td>241.964952</td>\n",
       "    </tr>\n",
       "    <tr>\n",
       "      <th>Mali</th>\n",
       "      <td>240.763509</td>\n",
       "    </tr>\n",
       "    <tr>\n",
       "      <th>Burkina Faso</th>\n",
       "      <td>235.043667</td>\n",
       "    </tr>\n",
       "    <tr>\n",
       "      <th>...</th>\n",
       "      <td>...</td>\n",
       "    </tr>\n",
       "    <tr>\n",
       "      <th>Czechia</th>\n",
       "      <td>7.493162</td>\n",
       "    </tr>\n",
       "    <tr>\n",
       "      <th>San Marino</th>\n",
       "      <td>7.156857</td>\n",
       "    </tr>\n",
       "    <tr>\n",
       "      <th>Slovenia</th>\n",
       "      <td>7.114103</td>\n",
       "    </tr>\n",
       "    <tr>\n",
       "      <th>Monaco</th>\n",
       "      <td>5.428952</td>\n",
       "    </tr>\n",
       "    <tr>\n",
       "      <th>Germany</th>\n",
       "      <td>5.172556</td>\n",
       "    </tr>\n",
       "  </tbody>\n",
       "</table>\n",
       "<p>177 rows × 1 columns</p>\n",
       "</div>"
      ],
      "text/plain": [
       "              First Tooltip\n",
       "Location                   \n",
       "Sierra Leone     257.340437\n",
       "Niger            247.864591\n",
       "Guinea           241.964952\n",
       "Mali             240.763509\n",
       "Burkina Faso     235.043667\n",
       "...                     ...\n",
       "Czechia            7.493162\n",
       "San Marino         7.156857\n",
       "Slovenia           7.114103\n",
       "Monaco             5.428952\n",
       "Germany            5.172556\n",
       "\n",
       "[177 rows x 1 columns]"
      ]
     },
     "execution_count": 8,
     "metadata": {},
     "output_type": "execute_result"
    }
   ],
   "source": [
    "df3.sort_values('First Tooltip', ascending=False)"
   ]
  },
  {
   "cell_type": "code",
   "execution_count": null,
   "metadata": {},
   "outputs": [],
   "source": []
  }
 ],
 "metadata": {
  "anaconda-cloud": {},
  "colab": {
   "provenance": []
  },
  "kernelspec": {
   "display_name": "Python 3 (ipykernel)",
   "language": "python",
   "name": "python3"
  },
  "language_info": {
   "codemirror_mode": {
    "name": "ipython",
    "version": 3
   },
   "file_extension": ".py",
   "mimetype": "text/x-python",
   "name": "python",
   "nbconvert_exporter": "python",
   "pygments_lexer": "ipython3",
   "version": "3.11.5"
  }
 },
 "nbformat": 4,
 "nbformat_minor": 4
}
