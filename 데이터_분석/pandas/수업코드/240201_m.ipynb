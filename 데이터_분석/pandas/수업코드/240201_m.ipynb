{
 "cells": [
  {
   "cell_type": "code",
   "execution_count": null,
   "id": "72baa6d5-e6dd-498a-88dc-41d28fbc71b8",
   "metadata": {},
   "outputs": [],
   "source": [
    "import matplotlib.pyplot as plt\n",
    "from matplotlib import font_manager, rc\n",
    "import seaborn as sns\n",
    "import warnings"
   ]
  },
  {
   "cell_type": "code",
   "execution_count": null,
   "id": "c685703d-2a10-4b05-bdf5-63c8eea05adf",
   "metadata": {},
   "outputs": [],
   "source": [
    "font = 'C:/Windows/Fonts/malgun.ttf'\n",
    "font_name = font_manager.FontProperties(fname=font).get_name()\n",
    "rc('font', family=font_name)\n",
    "plt.rcParams[\"figure.figsize\"] = (6,4)\n",
    "plt.rcParams['font.size'] = 12\n",
    "warnings.filterwarnings('ignore')\n",
    "\n",
    "sns.set_palette('Reds')"
   ]
  },
  {
   "cell_type": "markdown",
   "id": "7c5954cc-b3c5-4059-96c2-1fba68376930",
   "metadata": {},
   "source": [
    "#### 다변량 그래프 -3개 이상 matplotlib"
   ]
  },
  {
   "cell_type": "code",
   "execution_count": null,
   "id": "85038b6f-6dac-43a1-8fcf-5815ff7cf018",
   "metadata": {},
   "outputs": [],
   "source": [
    "tips=sns.load_dataset('tips')"
   ]
  },
  {
   "cell_type": "code",
   "execution_count": null,
   "id": "94b1f623-797c-4198-ae41-6e126935b4ed",
   "metadata": {},
   "outputs": [],
   "source": [
    "# 방법2\n",
    "def recode_gender(gender):\n",
    "    if gender ==\"Female\":\n",
    "        return 'magenta'\n",
    "    else:\n",
    "        return 'grey'\n",
    "tips['color']=tips['sex'].apply(recode_gender)\n",
    "tips"
   ]
  },
  {
   "cell_type": "code",
   "execution_count": null,
   "id": "5bdb619b-62d8-4fe7-aaad-5d28aaf9f00f",
   "metadata": {},
   "outputs": [],
   "source": [
    "plt.scatter(x=tips['total_bill'], y=tips['tip'], c= tips['color'], s=tips['size']*15, alpha=0.5)"
   ]
  },
  {
   "cell_type": "code",
   "execution_count": null,
   "id": "c5b996ff-4758-45d2-8d08-f124fc2fb5b9",
   "metadata": {},
   "outputs": [],
   "source": [
    "## 방법2\n",
    "f_tips=tips.groupby('sex')[['total_bill', 'tip']].get_group('Female')\n",
    "m_tips=tips.groupby('sex')[['total_bill', 'tip']].get_group('Male')"
   ]
  },
  {
   "cell_type": "code",
   "execution_count": null,
   "id": "6de8dea4-5f99-4376-9870-dea341781005",
   "metadata": {},
   "outputs": [],
   "source": [
    "plt.scatter(m_tips['total_bill'], m_tips['tip'])\n",
    "plt.scatter(f_tips['total_bill'], f_tips['tip'])"
   ]
  },
  {
   "cell_type": "code",
   "execution_count": null,
   "id": "d6646047-76d1-4af5-a3ae-c4eff5ec8268",
   "metadata": {},
   "outputs": [],
   "source": [
    "plt.hist(m_tips['total_bill'], alpha=0.6)\n",
    "plt.hist(f_tips['total_bill'], alpha=0.8)"
   ]
  },
  {
   "cell_type": "markdown",
   "id": "fe901e08-b601-4c38-857d-c013f264e158",
   "metadata": {},
   "source": [
    "#### seaborn 그래프 그리기"
   ]
  },
  {
   "cell_type": "code",
   "execution_count": null,
   "id": "e5dbf737-b068-403c-954b-d721dfddadcd",
   "metadata": {},
   "outputs": [],
   "source": [
    "# 산점도 scatter\n",
    "sns.scatterplot(x='total_bill', y='tip', data=tips, hue='sex', palette='Blues', size='size', legend=False)\n",
    "plt.grid()\n",
    "plt.title('산점도 그래프')\n",
    "plt.show()"
   ]
  },
  {
   "cell_type": "code",
   "execution_count": null,
   "id": "8aaf5667-826c-428b-afb7-bea65d8af48c",
   "metadata": {},
   "outputs": [],
   "source": [
    "# seaborn 색상\n",
    "# cmap, palette,\n",
    "# hue 제3의 색상데이터를 넣는 방법:ex) hue='sex'//\n",
    "# palette 전체 설정은 sns.set_palette('twilight') // Reds 등\n",
    "# 개별 설정은 plot 만들때 palette='Set2' 넣는다\n",
    "# cmap은 컬러집단이므로 딘일량 그래프에서는 적합하지 않음"
   ]
  },
  {
   "cell_type": "code",
   "execution_count": null,
   "id": "562d6f98-b0fb-46f3-a596-aa462394eb76",
   "metadata": {},
   "outputs": [],
   "source": [
    "# barplot/coutplot\n",
    "sns.barplot(x='sex', y='total_bill', data=tips, palette='Reds', estimator='sum', errorbar=('ci',95))\n",
    "plt.grid()\n",
    "plt.title('Barplot of Total Bill by Sex')\n",
    "plt.show()"
   ]
  },
  {
   "cell_type": "code",
   "execution_count": null,
   "id": "57a85958-8800-4638-a473-4c0fae25d2eb",
   "metadata": {},
   "outputs": [],
   "source": [
    "# countplot은 barplot의 estimator='size'와 같음\n",
    "sns.countplot(x='sex', data=tips, palette='Set3')\n",
    "plt.grid()\n",
    "plt.title('Countplot by Sex')\n",
    "plt.show()"
   ]
  },
  {
   "cell_type": "code",
   "execution_count": null,
   "id": "fa0a214b-8255-4a16-bcf2-342a7a511385",
   "metadata": {},
   "outputs": [],
   "source": [
    "# vertical: 범주형일때만 x,y값 변경이 가능, 만약 수치형일 경우에는 x,y 변경 안됨\n",
    "sns.barplot(x='total_bill',y='sex', data=tips, hue='smoker', errorbar=('ci',0))\n",
    "plt.tight_layout() \n",
    "plt.show()"
   ]
  },
  {
   "cell_type": "code",
   "execution_count": null,
   "id": "8eaf44cb-8b84-4211-87de-2e1f998aba51",
   "metadata": {},
   "outputs": [],
   "source": [
    "sns.boxplot(x='sex',y='total_bill', data=tips,\n",
    "    saturation=0.75,\n",
    "    width=0.7,\n",
    "    dodge=False,\n",
    "    fliersize=5,\n",
    "    linewidth=None,\n",
    "    whis=1.5,)\n",
    "plt.title('Boxplot of Total_bill by Gender')"
   ]
  },
  {
   "cell_type": "code",
   "execution_count": null,
   "id": "711dbc82-b1f9-4f9e-bb8a-5accd133fd8e",
   "metadata": {},
   "outputs": [],
   "source": [
    "plt.figure(figsize=(8,5))\n",
    "sns.boxplot(x='total_bill', y='sex', hue='smoker', data=tips)"
   ]
  },
  {
   "cell_type": "code",
   "execution_count": null,
   "id": "b64d4a4b-6e5b-41a2-a81e-c8e3851e45ef",
   "metadata": {},
   "outputs": [],
   "source": [
    "# histplot\n",
    "sns.histplot(data=tips, x='total_bill', kde=True)  # kde 밀도추정곡선"
   ]
  },
  {
   "cell_type": "code",
   "execution_count": null,
   "id": "28e8e793-8b83-4ae5-a8e6-a6cdbd7e5112",
   "metadata": {},
   "outputs": [],
   "source": [
    "sns.kdeplot(data=tips, x='total_bill')"
   ]
  },
  {
   "cell_type": "code",
   "execution_count": null,
   "id": "05b445d5-1c7e-4a3c-9db0-2c24b6b6157b",
   "metadata": {},
   "outputs": [],
   "source": [
    "plt.figure(figsize=(6,6))\n",
    "plt.subplot(2,1,1)\n",
    "sns.histplot(data=tips, x='total_bill')\n",
    "plt.axvline(20, c='r')\n",
    "plt.subplot(2,1,2)\n",
    "sns.boxplot(data=tips, x='total_bill')\n",
    "print(tips['total_bill'].describe())"
   ]
  },
  {
   "cell_type": "code",
   "execution_count": null,
   "id": "f68bc41e-ff18-470f-9f63-6635d631409a",
   "metadata": {},
   "outputs": [],
   "source": [
    "# 밀도 관련 그래프\n",
    "sns.distplot(tips['total_bill'])  ## 사라질테니 쓰지마시오"
   ]
  },
  {
   "cell_type": "code",
   "execution_count": null,
   "id": "765cbcb8-3fdd-426c-8fc0-74a55c1c3f5d",
   "metadata": {},
   "outputs": [],
   "source": [
    "sns.lineplot(x='total_bill', y='tip', data=tips)"
   ]
  },
  {
   "cell_type": "code",
   "execution_count": null,
   "id": "6e819264-8722-4aa4-835d-fce2b788f38f",
   "metadata": {},
   "outputs": [],
   "source": [
    "tips2=tips.sort_values('total_bill')\n",
    "plt.plot(tips2['total_bill'], tips2['tip'], color='darkred')  \n",
    "# 그룹지어야 위와 같이 됨, seaborn은 자동으로 그룹지워 계산함"
   ]
  },
  {
   "cell_type": "code",
   "execution_count": null,
   "id": "47e30e44-2fe4-466c-b7ea-c6bb96f67f90",
   "metadata": {},
   "outputs": [],
   "source": [
    "# regplot (regression + scatter)\n",
    "sns.regplot(data=tips, x='total_bill',y='tip')  # fit_reg=True 도 가능\n",
    "plt.title('Scatter of total bill and tip')\n",
    "tips['total_bill'].mean()\n",
    "plt.show()"
   ]
  },
  {
   "cell_type": "code",
   "execution_count": null,
   "id": "c87264a7-777e-4c38-b53a-fc5c3a1c4f4c",
   "metadata": {},
   "outputs": [],
   "source": [
    "anscombe=sns.load_dataset('anscombe')\n",
    "anscombe.head()"
   ]
  },
  {
   "cell_type": "code",
   "execution_count": null,
   "id": "aa8759e0-429d-40a9-a48c-8773f715ac70",
   "metadata": {
    "scrolled": true
   },
   "outputs": [],
   "source": [
    "sns.regplot(data=anscombe, x='x', y='y', hue='dataset')  # 디시 해볼것"
   ]
  },
  {
   "cell_type": "code",
   "execution_count": null,
   "id": "e454d989-b3b6-4d35-b79f-70c18f1644d6",
   "metadata": {},
   "outputs": [],
   "source": []
  },
  {
   "cell_type": "code",
   "execution_count": null,
   "id": "4915d0de-b09d-4b69-827a-d22fb4fabe4c",
   "metadata": {},
   "outputs": [],
   "source": [
    "# jointplot\n",
    "sns.jointplot(x='total_bill', y='tip', data=tips, hue='sex')\n",
    "plt.suptitle('Jointplot of total Bill and Tip')\n",
    "plt.tight_layout()"
   ]
  },
  {
   "cell_type": "code",
   "execution_count": null,
   "id": "bdcfad5b-3ccb-483a-8af3-ae1fd57f4d5d",
   "metadata": {},
   "outputs": [],
   "source": [
    "# pairplot  --한 눈에 비교분석을 위해\n",
    "sns.pairplot(tips, hue='sex')"
   ]
  },
  {
   "cell_type": "code",
   "execution_count": null,
   "id": "21512246-44e3-4c1c-b58e-2492f81f5517",
   "metadata": {},
   "outputs": [],
   "source": [
    "# kedplot - 변수 2개일때 (1개일 경우 histogram과 비슷하고 2개일 경우에는 scatter와 비슷 )\n",
    "sns.kdeplot(data=tips, x='total_bill', y='tip', fill=True)\n",
    "\n",
    "sns.scatterplot(data=tips, x='total_bill', y='tip', color='black', alpha=0.3)"
   ]
  },
  {
   "cell_type": "code",
   "execution_count": null,
   "id": "f9771352-08a0-45ff-a589-4e7f0126acea",
   "metadata": {},
   "outputs": [],
   "source": [
    "# violineplot : boxplot + kde  \n",
    "sns.violinplot(x='sex', y='total_bill', data=tips)"
   ]
  },
  {
   "cell_type": "code",
   "execution_count": null,
   "id": "977c56df-fd6b-4e53-b91f-ed9d36c61430",
   "metadata": {},
   "outputs": [],
   "source": [
    "sns.violinplot( x='total_bill', data=tips)\n",
    "plt.show()\n",
    "sns.boxplot( x='total_bill', data=tips)\n",
    "plt.show()\n",
    "sns.kdeplot( x='total_bill', data=tips)\n",
    "plt.show()"
   ]
  },
  {
   "cell_type": "code",
   "execution_count": null,
   "id": "16bac10c-d8b9-4ff8-a3fb-4d9e06bf7e72",
   "metadata": {},
   "outputs": [],
   "source": [
    "## pairplot 필요한 것만 골라쓰기, 다른 것 지정하여 사용 가능\n",
    "pair_grid = sns.PairGrid(tips) \n",
    "pair_grid = pair_grid.map_upper(sns.regplot) \n",
    "pair_grid = pair_grid.map_lower(sns.kdeplot, fill = True)\n",
    "pair_grid = pair_grid.map_diag(sns.histplot, kde=True)"
   ]
  },
  {
   "cell_type": "code",
   "execution_count": null,
   "id": "fc3306b2-a404-4890-b45d-44665aa42fe0",
   "metadata": {},
   "outputs": [],
   "source": [
    "sns.pairplot(tips, hue='sex')"
   ]
  },
  {
   "cell_type": "markdown",
   "id": "a9271ac3-b035-4b60-9f03-2fd49c281b7b",
   "metadata": {},
   "source": [
    "#### pandas 그래프 그리기: 빠른 속도"
   ]
  },
  {
   "cell_type": "code",
   "execution_count": null,
   "id": "d5b40337-beab-4a68-af8d-3b8cc37e9d46",
   "metadata": {},
   "outputs": [],
   "source": [
    "tips.plot()  \n",
    "# line그래프이므로 수치형 컬럼만 찾아서 게산함, \n",
    "# plot은 그래프함수만 모아놓은 함수"
   ]
  },
  {
   "cell_type": "code",
   "execution_count": null,
   "id": "67375650-c841-40f0-94fc-f9bef36cc247",
   "metadata": {},
   "outputs": [],
   "source": [
    "tips['total_bill'].plot.hist(bins=10)"
   ]
  },
  {
   "cell_type": "code",
   "execution_count": null,
   "id": "de2a1191-9bcd-4652-8738-c899fbfe06d2",
   "metadata": {},
   "outputs": [],
   "source": [
    "tips.plot.scatter(x='total_bill',y='tip')"
   ]
  },
  {
   "cell_type": "code",
   "execution_count": null,
   "id": "b43c0282-0f71-4dd4-ba3d-4bec4c192bf6",
   "metadata": {},
   "outputs": [],
   "source": [
    "tips['sex'].value_counts().plot(kind='bar')"
   ]
  },
  {
   "cell_type": "code",
   "execution_count": null,
   "id": "3be4eaa3-c663-4d10-80f4-1594c74faccb",
   "metadata": {},
   "outputs": [],
   "source": [
    "tips['total_bill'].plot.hist(bins=12)"
   ]
  },
  {
   "cell_type": "code",
   "execution_count": null,
   "id": "1a0ecd20-ebb2-4f95-aded-a983ca4d1077",
   "metadata": {},
   "outputs": [],
   "source": []
  },
  {
   "cell_type": "markdown",
   "id": "8b1250ed-9eb8-4b95-aa0a-defc9caa6a30",
   "metadata": {},
   "source": [
    "#### 연습합시당"
   ]
  },
  {
   "cell_type": "code",
   "execution_count": null,
   "id": "b9c47ddc-0490-4393-8658-0bf1d12d00c8",
   "metadata": {},
   "outputs": [],
   "source": [
    "import pandas as pd"
   ]
  },
  {
   "cell_type": "code",
   "execution_count": null,
   "id": "701e3e93-88fe-4c42-a14f-cf686fd60e50",
   "metadata": {},
   "outputs": [],
   "source": [
    "ebola=pd.read_csv('../data/country_timeseries.csv', parse_dates=['Date']) \n",
    "# 누락값 필수 삭제 아니라 정리해야함 / date는 문자형임-> date자료형으로 바꿔야"
   ]
  },
  {
   "cell_type": "code",
   "execution_count": null,
   "id": "e664a39b-922a-4930-936f-f59dab6b667c",
   "metadata": {},
   "outputs": [],
   "source": [
    "ebola.info()"
   ]
  },
  {
   "cell_type": "code",
   "execution_count": null,
   "id": "a0606527-7109-4a86-a539-84a6739fe78b",
   "metadata": {},
   "outputs": [],
   "source": [
    "ebola.head()"
   ]
  },
  {
   "cell_type": "code",
   "execution_count": null,
   "id": "e561347b-f728-4843-a014-8fbc965b6e3b",
   "metadata": {},
   "outputs": [],
   "source": [
    "# 시계열 데이터 그래프 만드는 법: x측 날짜, 시간/ y측 변화량  // 누적 데이터\n",
    "ebola[['Date','Cases_Guinea']].head()"
   ]
  },
  {
   "cell_type": "code",
   "execution_count": null,
   "id": "c67116c7-a7e1-4e68-b38a-24b42d6a8353",
   "metadata": {},
   "outputs": [],
   "source": [
    "plt.figure(figsize=(8,4))\n",
    "plt.plot(ebola['Date'], ebola['Cases_Guinea'], 'r*-')\n",
    "plt.tight_layout()"
   ]
  },
  {
   "cell_type": "code",
   "execution_count": null,
   "id": "dff014ea-995c-4ca6-9072-c2ea64828256",
   "metadata": {},
   "outputs": [],
   "source": [
    "ebola_fill=ebola.fillna(method='bfill').fillna(0)"
   ]
  },
  {
   "cell_type": "code",
   "execution_count": null,
   "id": "938eb0a0-74c1-4992-9ac3-bc1be804d422",
   "metadata": {},
   "outputs": [],
   "source": [
    "plt.figure(figsize=(8,3))\n",
    "plt.plot(ebola_fill['Date'], ebola_fill['Cases_Guinea'], 'r-')\n",
    "plt.tight_layout()\n",
    "sns.lineplot(data=ebola, x='Date', y='Cases_Guinea', color='darkblue', alpha=0.4)   # 차이가 확 나네"
   ]
  },
  {
   "cell_type": "code",
   "execution_count": null,
   "id": "f5ebbf97-744e-40d8-b72c-245c30e03d36",
   "metadata": {},
   "outputs": [],
   "source": [
    "plt.figure(figsize=(8,3))\n",
    "sns.lineplot(data=ebola, x='Date', y='Cases_Guinea', color='darkblue')  \n",
    "#plt.xticks(ticks=['2014-03-22','2015-01-02'], labels=['2014-03-22','2015-01-02'])\n",
    "plt.tight_layout()\n",
    "# plt.xticks(rotation=45)\n",
    "# 자동으로 결측값이 연결됨 interpolate 시킴"
   ]
  },
  {
   "cell_type": "code",
   "execution_count": null,
   "id": "a84f4d82-bc7d-460b-94a5-c5fd9e4b04a2",
   "metadata": {},
   "outputs": [],
   "source": [
    "# 시계열 데이터 그래프 만드는 법: x측 날짜, 시간/ y측 변화량  // 증가량 그래프\n",
    "ebola_fill['Cases_Guinea'].diff()   \n",
    "# 윗값이 아랫값으로 갈때 변화한 값 구함 ==> 뒤집기해야\n",
    "ebola_fill['Guinea']= ebola_fill.sort_values('Date')['Cases_Guinea'].diff()\n",
    "ebola_fill"
   ]
  },
  {
   "cell_type": "code",
   "execution_count": null,
   "id": "0d707309-c1f1-4274-821a-7acbd5d05cc4",
   "metadata": {},
   "outputs": [],
   "source": [
    "plt.figure(figsize=(8,3))\n",
    "sns.lineplot(data=ebola_fill, x='Date', y='Guinea', color='darkblue' )\n",
    "plt.xticks(rotation=30)\n",
    "plt.tight_layout()"
   ]
  },
  {
   "cell_type": "code",
   "execution_count": null,
   "id": "dc637857-f2f6-4c64-863f-de25e49ef8b2",
   "metadata": {},
   "outputs": [],
   "source": [
    "ebola_fill[ebola_fill['Date'].dt.month==10]"
   ]
  },
  {
   "cell_type": "code",
   "execution_count": null,
   "id": "d22cbefe-b5d9-4b3b-aa7d-332f90827deb",
   "metadata": {},
   "outputs": [],
   "source": [
    "ebola_fill.loc[31,'Cases_Guinea'] = 1606   # 이상치  수정하는 법"
   ]
  },
  {
   "cell_type": "code",
   "execution_count": null,
   "id": "4b77f8c2-d4be-4471-957b-3c5e20dee2da",
   "metadata": {},
   "outputs": [],
   "source": [
    "# diff() : 간격 조정 가능람 / 옮기고 게산(뺄셈) \n",
    "# shift() : 데이터를 한칸 등  옮김/ 인덱스가 위아래로 바꿔줄 수 있음 --움직이는 것만 "
   ]
  },
  {
   "cell_type": "code",
   "execution_count": 366,
   "id": "bbdcfa13-6d2b-4889-a7b4-2d659cb4479c",
   "metadata": {},
   "outputs": [
    {
     "data": {
      "text/plain": [
       "0      2706.0\n",
       "1      2695.0\n",
       "2      2630.0\n",
       "3      2597.0\n",
       "4      2571.0\n",
       "        ...  \n",
       "117       NaN\n",
       "118       NaN\n",
       "119       NaN\n",
       "120       NaN\n",
       "121       NaN\n",
       "Name: Cases_Guinea, Length: 122, dtype: float64"
      ]
     },
     "execution_count": 366,
     "metadata": {},
     "output_type": "execute_result"
    }
   ],
   "source": [
    "ebola_fill['Cases_Guinea'].shift(-5)"
   ]
  },
  {
   "cell_type": "code",
   "execution_count": null,
   "id": "2300aa59-ce44-4b21-aefb-e94338c8ce4f",
   "metadata": {},
   "outputs": [],
   "source": []
  }
 ],
 "metadata": {
  "kernelspec": {
   "display_name": "Python 3 (ipykernel)",
   "language": "python",
   "name": "python3"
  },
  "language_info": {
   "codemirror_mode": {
    "name": "ipython",
    "version": 3
   },
   "file_extension": ".py",
   "mimetype": "text/x-python",
   "name": "python",
   "nbconvert_exporter": "python",
   "pygments_lexer": "ipython3",
   "version": "3.11.5"
  }
 },
 "nbformat": 4,
 "nbformat_minor": 5
}
