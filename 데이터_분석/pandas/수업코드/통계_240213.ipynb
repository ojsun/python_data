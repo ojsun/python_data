{
 "cells": [
  {
   "cell_type": "code",
   "execution_count": 145,
   "id": "19c90257-c64f-48ad-9259-f98cafbbb1fa",
   "metadata": {},
   "outputs": [],
   "source": [
    "import numpy as np\n",
    "import pandas as pd\n",
    "import seaborn as sns\n",
    "import matplotlib.pyplot as plt\n",
    "import warnings\n",
    "\n",
    "plt.rcParams['figure.figsize']=(6,4)  # figure 사이즈 변경\n",
    "\n",
    "#한글 폰트 적용하기/ 보통  맑은 고딕체 사용\n",
    "from matplotlib import font_manager, rc\n",
    "font = 'C:/Windows/Fonts/Malgun.ttf'\n",
    "font_name = font_manager.FontProperties(fname=font).get_name()\n",
    "rc('font', family=font_name)"
   ]
  },
  {
   "cell_type": "code",
   "execution_count": null,
   "id": "57587ae1-bc6e-49a1-946d-098093602102",
   "metadata": {},
   "outputs": [],
   "source": [
    "ebola=pd.read_csv('./data/country_timeseries.csv', parse_dates=['Date'])\n",
    "ebola.info()"
   ]
  },
  {
   "cell_type": "code",
   "execution_count": null,
   "id": "c68f12d0-b507-4f13-be73-1e8d67c28b53",
   "metadata": {},
   "outputs": [],
   "source": [
    "plt.plot(ebola['Date'],ebola['Cases_Guinea'])"
   ]
  },
  {
   "cell_type": "code",
   "execution_count": null,
   "id": "cc0af015-6071-466f-902d-b6b6d968d5f9",
   "metadata": {},
   "outputs": [],
   "source": [
    "ebola['Date_quarter'] = ebola['Date'].dt.quarter\n",
    "plt.plot(ebola['Date_quarter'],ebola['Cases_Guinea'])"
   ]
  },
  {
   "cell_type": "code",
   "execution_count": null,
   "id": "a4ae7d7a-e67f-4a50-9cc8-a1444b8fee4b",
   "metadata": {},
   "outputs": [],
   "source": [
    "ebola['Date_quarter']"
   ]
  },
  {
   "cell_type": "code",
   "execution_count": null,
   "id": "daeb00a4-fb9b-470a-a906-5f3f83fe32c7",
   "metadata": {},
   "outputs": [],
   "source": [
    "ebola['Date_year'] = ebola['Date'].dt.year"
   ]
  },
  {
   "cell_type": "code",
   "execution_count": null,
   "id": "3a2365a6-f42c-4f05-bed5-9a7b1acb1ba0",
   "metadata": {},
   "outputs": [],
   "source": [
    "ebola_quarter=ebola.groupby(['Date_year','Date_quarter'])['Cases_Guinea'].mean()"
   ]
  },
  {
   "cell_type": "code",
   "execution_count": null,
   "id": "826439b6-6d22-4fe0-a5c7-373fe4af0b73",
   "metadata": {},
   "outputs": [],
   "source": [
    "ebola_quarter.plot()"
   ]
  },
  {
   "cell_type": "code",
   "execution_count": null,
   "id": "ffa1653c-4769-40c9-bba5-9ebfaed70863",
   "metadata": {},
   "outputs": [],
   "source": [
    "pd.date_range('2014-01-15', '2014-03-30', freq='M')"
   ]
  },
  {
   "cell_type": "code",
   "execution_count": null,
   "id": "1adc423d-d02a-422d-a5fd-a94bd420e0fd",
   "metadata": {},
   "outputs": [],
   "source": [
    "ebola_month=ebola.set_index('Date').resample('Q').mean()"
   ]
  },
  {
   "cell_type": "code",
   "execution_count": null,
   "id": "4f354c85-44cb-4036-930b-56dbae3fd032",
   "metadata": {
    "jupyter": {
     "source_hidden": true
    }
   },
   "outputs": [],
   "source": [
    "plt.plot(ebola_month.index, ebola_month['Cases_Guinea'])"
   ]
  },
  {
   "cell_type": "code",
   "execution_count": null,
   "id": "88c46784-8514-43f3-9506-c7f7e055d1e6",
   "metadata": {},
   "outputs": [],
   "source": [
    "plt.plot(ebola.Date, ebola['Cases_Guinea'])\n",
    "plt.xticks(pd.date_range('2014-03-22','2015-01-02', freq='Q', labels=['2014-1q','2014-2q','2014-3q','2014-4q' ]))\n",
    "plt.xticks(rotation=45)\n"
   ]
  },
  {
   "cell_type": "code",
   "execution_count": null,
   "id": "bb3ebc5e-eb24-410e-839b-a45c81127515",
   "metadata": {},
   "outputs": [],
   "source": [
    "plt.plot(ebola['Date'],ebola['Cases_Guinea'])\n",
    "plt.xlim(pd.Timestamp('2014-12-30'),pd.Timestamp('2015-01-05'))\n",
    "plt.ylim(2700,2800)\n",
    "plt.xticks(pd.date_range('2014-12-31', '2015-01-04', freq='2D'))"
   ]
  },
  {
   "cell_type": "code",
   "execution_count": null,
   "id": "a5c755b8-46a4-42da-9457-a29ecff130d2",
   "metadata": {},
   "outputs": [],
   "source": [
    "pd.Timestamp('2014-12-30')"
   ]
  },
  {
   "cell_type": "code",
   "execution_count": null,
   "id": "660d53c7-bf77-4d0c-94fb-673120bd8037",
   "metadata": {},
   "outputs": [],
   "source": [
    "## 데이터수집 11.12"
   ]
  },
  {
   "cell_type": "code",
   "execution_count": null,
   "id": "961a297f-b729-4140-bfbd-d6021b0f04b0",
   "metadata": {},
   "outputs": [],
   "source": [
    "import requests\n",
    "\n",
    "dfs=[]\n",
    "for page in range(1,21):\n",
    "    url = f'https://m.stock.naver.com/api/stock/005930/price?pageSize=20&page={page}'\n",
    "    response = requests.get(url)\n",
    "    df=pd.DataFrame(response.json()) \n",
    "    dfs.append(df)\n",
    "samsung=pd.concat(dfs)\n",
    "response"
   ]
  },
  {
   "cell_type": "code",
   "execution_count": null,
   "id": "40fc386d-0fae-48f1-ac50-15dac57dc87e",
   "metadata": {},
   "outputs": [],
   "source": [
    "pd.DataFrame(response.json())  # json 파일을 데이터프레임으로 "
   ]
  },
  {
   "cell_type": "code",
   "execution_count": null,
   "id": "9c0d5116-47ce-4766-a685-5fa477eb6623",
   "metadata": {},
   "outputs": [],
   "source": [
    "samsung['Date']=pd.to_datetime(samsung['localTradedAt'])"
   ]
  },
  {
   "cell_type": "code",
   "execution_count": null,
   "id": "48187bf6-a95a-4a60-9e03-4b704ed5bd51",
   "metadata": {},
   "outputs": [],
   "source": [
    "sns.lineplot(data=samsung, x='Date', y='closePrice' )"
   ]
  },
  {
   "cell_type": "code",
   "execution_count": null,
   "id": "07779274-4535-41fe-bd54-8c884f1ed937",
   "metadata": {},
   "outputs": [],
   "source": [
    "samsung.info()"
   ]
  },
  {
   "cell_type": "code",
   "execution_count": null,
   "id": "a3ccba06-31cd-48c1-a5b0-cce61bc92fb1",
   "metadata": {},
   "outputs": [],
   "source": [
    "samsung['closePrice']=samsung['closePrice'].str.replace(',','').astype(int)"
   ]
  },
  {
   "cell_type": "code",
   "execution_count": null,
   "id": "c9329bac-694b-4d95-bfab-8166d0c95d82",
   "metadata": {},
   "outputs": [],
   "source": [
    "sns.lineplot(data=samsung, x='Date', y='closePrice' )"
   ]
  },
  {
   "cell_type": "code",
   "execution_count": null,
   "id": "faa73d04-bffb-4a09-a359-1c741f749e37",
   "metadata": {},
   "outputs": [],
   "source": [
    "sam=samsung[['Date','closePrice']].set_index('Date')\n",
    "sam"
   ]
  },
  {
   "cell_type": "code",
   "execution_count": null,
   "id": "206b7015-0f58-42b3-8b1e-026e0ec83279",
   "metadata": {},
   "outputs": [],
   "source": [
    "sam_week=sam.resample('W-SUN').mean()"
   ]
  },
  {
   "cell_type": "code",
   "execution_count": null,
   "id": "f4526285-384e-4401-9d9f-2c557df86d29",
   "metadata": {},
   "outputs": [],
   "source": [
    "sns.lineplot(sam_week)"
   ]
  },
  {
   "cell_type": "code",
   "execution_count": null,
   "id": "ea96b510-32d0-4b51-89aa-9d4a00922131",
   "metadata": {},
   "outputs": [],
   "source": [
    "sam_mon=sam.resample('MS').mean()\n",
    "sns.lineplot(sam_mon)"
   ]
  },
  {
   "cell_type": "code",
   "execution_count": null,
   "id": "cf77833e-acdc-421d-bc3a-304d0004c6f2",
   "metadata": {},
   "outputs": [],
   "source": [
    "sns.lineplot(data=sam )\n",
    "sns.lineplot(data=sam_mon)\n",
    "sns.lineplot(data=sam_week)"
   ]
  },
  {
   "cell_type": "code",
   "execution_count": null,
   "id": "dfe7a66a-ad00-465d-92fc-64a1f827d163",
   "metadata": {},
   "outputs": [],
   "source": [
    "plt.plot(sam)\n",
    "plt.plot(sam_week)\n",
    "plt.plot(sam_mon)     "
   ]
  },
  {
   "cell_type": "code",
   "execution_count": null,
   "id": "0ec7b4a5-e7e8-4ead-a28e-e303d598e86e",
   "metadata": {},
   "outputs": [],
   "source": [
    "# 시계열 데이터 분석시 resample,range외에  \n",
    "# 단순지수평활법/이동평균법 으로도 그래프를 부드럽게/ 러신머닝\n",
    "# shift, diff() 함수들을 사용"
   ]
  },
  {
   "cell_type": "code",
   "execution_count": null,
   "id": "2120852e-acf4-426e-b10b-994abcc9f25e",
   "metadata": {},
   "outputs": [],
   "source": [
    "# 전과 비교하여 증감 알려고 할때 \n",
    "sam['closePrice']"
   ]
  },
  {
   "cell_type": "code",
   "execution_count": null,
   "id": "a1ff090a-1564-4446-87e8-8a45a3dfaa91",
   "metadata": {},
   "outputs": [],
   "source": [
    "# 방법1 안빠른 방법 shift\n",
    "sam['tomorrow']=sam['closePrice'].shift()\n",
    "sam['yesterday']=sam['closePrice'].shift(-1)\n",
    "sam.head()"
   ]
  },
  {
   "cell_type": "code",
   "execution_count": null,
   "id": "da08d2a3-1180-4281-b6fd-6147492614d1",
   "metadata": {},
   "outputs": [],
   "source": [
    "sam['diff']=sam['closePrice']-sam['yesterday']\n",
    "sam.head()"
   ]
  },
  {
   "cell_type": "code",
   "execution_count": null,
   "id": "64a55236-761a-4f76-b4f0-721155e5925b",
   "metadata": {},
   "outputs": [],
   "source": [
    "# 방식2 빠른 방법 diff\n",
    "sam['diff2']=sam.closePrice.diff(-1)"
   ]
  },
  {
   "cell_type": "code",
   "execution_count": null,
   "id": "0642bce7-d431-4d61-9a05-9af44b37e059",
   "metadata": {},
   "outputs": [],
   "source": [
    "plt.plot(sam['diff'])   # 차분: 전날과의 차이만, 증감의 특성을 알기위해)"
   ]
  },
  {
   "cell_type": "code",
   "execution_count": null,
   "id": "a56c362b-0839-458c-9d77-40042b2a3f0a",
   "metadata": {},
   "outputs": [],
   "source": [
    "# 주식관련 라이브러리\n",
    "!pip install finance-datareader"
   ]
  },
  {
   "cell_type": "code",
   "execution_count": null,
   "id": "59ccf40b-060e-4d45-b99c-95c31f4ba89c",
   "metadata": {},
   "outputs": [],
   "source": [
    "import FinanceDataReader as fdr"
   ]
  },
  {
   "cell_type": "code",
   "execution_count": null,
   "id": "ebe4f37b-6761-4588-b838-1c41db392be2",
   "metadata": {},
   "outputs": [],
   "source": [
    "fdr.DataReader('005930', start='2023-01-06')"
   ]
  },
  {
   "cell_type": "code",
   "execution_count": null,
   "id": "abebead2-f76a-4e61-8b39-9381d2d6311e",
   "metadata": {},
   "outputs": [],
   "source": []
  },
  {
   "cell_type": "code",
   "execution_count": null,
   "id": "c47a294d-0622-4997-a50a-aa473f956d59",
   "metadata": {},
   "outputs": [],
   "source": []
  },
  {
   "cell_type": "code",
   "execution_count": null,
   "id": "fade808e-59be-4cfb-a3d1-a2a12d0b4f81",
   "metadata": {},
   "outputs": [],
   "source": []
  }
 ],
 "metadata": {
  "kernelspec": {
   "display_name": "Python 3 (ipykernel)",
   "language": "python",
   "name": "python3"
  },
  "language_info": {
   "codemirror_mode": {
    "name": "ipython",
    "version": 3
   },
   "file_extension": ".py",
   "mimetype": "text/x-python",
   "name": "python",
   "nbconvert_exporter": "python",
   "pygments_lexer": "ipython3",
   "version": "3.11.5"
  }
 },
 "nbformat": 4,
 "nbformat_minor": 5
}
