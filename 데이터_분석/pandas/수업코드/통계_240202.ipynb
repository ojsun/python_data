{
 "cells": [
  {
   "cell_type": "code",
   "execution_count": 1,
   "id": "59a290c1-b661-4e79-bf4f-ff2550e61bd9",
   "metadata": {},
   "outputs": [],
   "source": [
    "import numpy as np\n",
    "import pandas as pd\n",
    "import seaborn as sns\n",
    "import matplotlib.pyplot as plt\n",
    "import warnings"
   ]
  },
  {
   "cell_type": "code",
   "execution_count": 2,
   "id": "dee84603-f517-4b69-9daf-3c025f353e9b",
   "metadata": {},
   "outputs": [],
   "source": [
    "#한글 폰트 적용하기/ 보통  맑은 고딕체 사용\n",
    "from matplotlib import font_manager, rc\n",
    "font = 'C:/Windows/Fonts/Malgun.ttf'\n",
    "font_name = font_manager.FontProperties(fname=font).get_name()\n",
    "rc('font', family=font_name)\n",
    "warnings.filterwarnings('ignore')\n",
    "sns.set_palette('Paired')"
   ]
  },
  {
   "cell_type": "code",
   "execution_count": 3,
   "id": "55b99d01-06e4-4fd0-b2ad-5ce28c9e2d13",
   "metadata": {},
   "outputs": [
    {
     "name": "stdout",
     "output_type": "stream",
     "text": [
      "<class 'pandas.core.frame.DataFrame'>\n",
      "RangeIndex: 891 entries, 0 to 890\n",
      "Data columns (total 12 columns):\n",
      " #   Column       Non-Null Count  Dtype  \n",
      "---  ------       --------------  -----  \n",
      " 0   PassengerId  891 non-null    int64  \n",
      " 1   Survived     891 non-null    int64  \n",
      " 2   Pclass       891 non-null    int64  \n",
      " 3   Name         891 non-null    object \n",
      " 4   Sex          891 non-null    object \n",
      " 5   Age          714 non-null    float64\n",
      " 6   SibSp        891 non-null    int64  \n",
      " 7   Parch        891 non-null    int64  \n",
      " 8   Ticket       891 non-null    object \n",
      " 9   Fare         891 non-null    float64\n",
      " 10  Cabin        204 non-null    object \n",
      " 11  Embarked     889 non-null    object \n",
      "dtypes: float64(2), int64(5), object(5)\n",
      "memory usage: 83.7+ KB\n",
      "None\n"
     ]
    },
    {
     "data": {
      "text/html": [
       "<div>\n",
       "<style scoped>\n",
       "    .dataframe tbody tr th:only-of-type {\n",
       "        vertical-align: middle;\n",
       "    }\n",
       "\n",
       "    .dataframe tbody tr th {\n",
       "        vertical-align: top;\n",
       "    }\n",
       "\n",
       "    .dataframe thead th {\n",
       "        text-align: right;\n",
       "    }\n",
       "</style>\n",
       "<table border=\"1\" class=\"dataframe\">\n",
       "  <thead>\n",
       "    <tr style=\"text-align: right;\">\n",
       "      <th></th>\n",
       "      <th>PassengerId</th>\n",
       "      <th>Survived</th>\n",
       "      <th>Pclass</th>\n",
       "      <th>Name</th>\n",
       "      <th>Sex</th>\n",
       "      <th>Age</th>\n",
       "      <th>SibSp</th>\n",
       "      <th>Parch</th>\n",
       "      <th>Ticket</th>\n",
       "      <th>Fare</th>\n",
       "      <th>Cabin</th>\n",
       "      <th>Embarked</th>\n",
       "    </tr>\n",
       "  </thead>\n",
       "  <tbody>\n",
       "    <tr>\n",
       "      <th>0</th>\n",
       "      <td>1</td>\n",
       "      <td>0</td>\n",
       "      <td>3</td>\n",
       "      <td>Braund, Mr. Owen Harris</td>\n",
       "      <td>male</td>\n",
       "      <td>22.0</td>\n",
       "      <td>1</td>\n",
       "      <td>0</td>\n",
       "      <td>A/5 21171</td>\n",
       "      <td>7.2500</td>\n",
       "      <td>NaN</td>\n",
       "      <td>S</td>\n",
       "    </tr>\n",
       "    <tr>\n",
       "      <th>1</th>\n",
       "      <td>2</td>\n",
       "      <td>1</td>\n",
       "      <td>1</td>\n",
       "      <td>Cumings, Mrs. John Bradley (Florence Briggs Th...</td>\n",
       "      <td>female</td>\n",
       "      <td>38.0</td>\n",
       "      <td>1</td>\n",
       "      <td>0</td>\n",
       "      <td>PC 17599</td>\n",
       "      <td>71.2833</td>\n",
       "      <td>C85</td>\n",
       "      <td>C</td>\n",
       "    </tr>\n",
       "    <tr>\n",
       "      <th>2</th>\n",
       "      <td>3</td>\n",
       "      <td>1</td>\n",
       "      <td>3</td>\n",
       "      <td>Heikkinen, Miss. Laina</td>\n",
       "      <td>female</td>\n",
       "      <td>26.0</td>\n",
       "      <td>0</td>\n",
       "      <td>0</td>\n",
       "      <td>STON/O2. 3101282</td>\n",
       "      <td>7.9250</td>\n",
       "      <td>NaN</td>\n",
       "      <td>S</td>\n",
       "    </tr>\n",
       "    <tr>\n",
       "      <th>3</th>\n",
       "      <td>4</td>\n",
       "      <td>1</td>\n",
       "      <td>1</td>\n",
       "      <td>Futrelle, Mrs. Jacques Heath (Lily May Peel)</td>\n",
       "      <td>female</td>\n",
       "      <td>35.0</td>\n",
       "      <td>1</td>\n",
       "      <td>0</td>\n",
       "      <td>113803</td>\n",
       "      <td>53.1000</td>\n",
       "      <td>C123</td>\n",
       "      <td>S</td>\n",
       "    </tr>\n",
       "    <tr>\n",
       "      <th>4</th>\n",
       "      <td>5</td>\n",
       "      <td>0</td>\n",
       "      <td>3</td>\n",
       "      <td>Allen, Mr. William Henry</td>\n",
       "      <td>male</td>\n",
       "      <td>35.0</td>\n",
       "      <td>0</td>\n",
       "      <td>0</td>\n",
       "      <td>373450</td>\n",
       "      <td>8.0500</td>\n",
       "      <td>NaN</td>\n",
       "      <td>S</td>\n",
       "    </tr>\n",
       "    <tr>\n",
       "      <th>...</th>\n",
       "      <td>...</td>\n",
       "      <td>...</td>\n",
       "      <td>...</td>\n",
       "      <td>...</td>\n",
       "      <td>...</td>\n",
       "      <td>...</td>\n",
       "      <td>...</td>\n",
       "      <td>...</td>\n",
       "      <td>...</td>\n",
       "      <td>...</td>\n",
       "      <td>...</td>\n",
       "      <td>...</td>\n",
       "    </tr>\n",
       "    <tr>\n",
       "      <th>886</th>\n",
       "      <td>887</td>\n",
       "      <td>0</td>\n",
       "      <td>2</td>\n",
       "      <td>Montvila, Rev. Juozas</td>\n",
       "      <td>male</td>\n",
       "      <td>27.0</td>\n",
       "      <td>0</td>\n",
       "      <td>0</td>\n",
       "      <td>211536</td>\n",
       "      <td>13.0000</td>\n",
       "      <td>NaN</td>\n",
       "      <td>S</td>\n",
       "    </tr>\n",
       "    <tr>\n",
       "      <th>887</th>\n",
       "      <td>888</td>\n",
       "      <td>1</td>\n",
       "      <td>1</td>\n",
       "      <td>Graham, Miss. Margaret Edith</td>\n",
       "      <td>female</td>\n",
       "      <td>19.0</td>\n",
       "      <td>0</td>\n",
       "      <td>0</td>\n",
       "      <td>112053</td>\n",
       "      <td>30.0000</td>\n",
       "      <td>B42</td>\n",
       "      <td>S</td>\n",
       "    </tr>\n",
       "    <tr>\n",
       "      <th>888</th>\n",
       "      <td>889</td>\n",
       "      <td>0</td>\n",
       "      <td>3</td>\n",
       "      <td>Johnston, Miss. Catherine Helen \"Carrie\"</td>\n",
       "      <td>female</td>\n",
       "      <td>NaN</td>\n",
       "      <td>1</td>\n",
       "      <td>2</td>\n",
       "      <td>W./C. 6607</td>\n",
       "      <td>23.4500</td>\n",
       "      <td>NaN</td>\n",
       "      <td>S</td>\n",
       "    </tr>\n",
       "    <tr>\n",
       "      <th>889</th>\n",
       "      <td>890</td>\n",
       "      <td>1</td>\n",
       "      <td>1</td>\n",
       "      <td>Behr, Mr. Karl Howell</td>\n",
       "      <td>male</td>\n",
       "      <td>26.0</td>\n",
       "      <td>0</td>\n",
       "      <td>0</td>\n",
       "      <td>111369</td>\n",
       "      <td>30.0000</td>\n",
       "      <td>C148</td>\n",
       "      <td>C</td>\n",
       "    </tr>\n",
       "    <tr>\n",
       "      <th>890</th>\n",
       "      <td>891</td>\n",
       "      <td>0</td>\n",
       "      <td>3</td>\n",
       "      <td>Dooley, Mr. Patrick</td>\n",
       "      <td>male</td>\n",
       "      <td>32.0</td>\n",
       "      <td>0</td>\n",
       "      <td>0</td>\n",
       "      <td>370376</td>\n",
       "      <td>7.7500</td>\n",
       "      <td>NaN</td>\n",
       "      <td>Q</td>\n",
       "    </tr>\n",
       "  </tbody>\n",
       "</table>\n",
       "<p>891 rows × 12 columns</p>\n",
       "</div>"
      ],
      "text/plain": [
       "     PassengerId  Survived  Pclass  \\\n",
       "0              1         0       3   \n",
       "1              2         1       1   \n",
       "2              3         1       3   \n",
       "3              4         1       1   \n",
       "4              5         0       3   \n",
       "..           ...       ...     ...   \n",
       "886          887         0       2   \n",
       "887          888         1       1   \n",
       "888          889         0       3   \n",
       "889          890         1       1   \n",
       "890          891         0       3   \n",
       "\n",
       "                                                  Name     Sex   Age  SibSp  \\\n",
       "0                              Braund, Mr. Owen Harris    male  22.0      1   \n",
       "1    Cumings, Mrs. John Bradley (Florence Briggs Th...  female  38.0      1   \n",
       "2                               Heikkinen, Miss. Laina  female  26.0      0   \n",
       "3         Futrelle, Mrs. Jacques Heath (Lily May Peel)  female  35.0      1   \n",
       "4                             Allen, Mr. William Henry    male  35.0      0   \n",
       "..                                                 ...     ...   ...    ...   \n",
       "886                              Montvila, Rev. Juozas    male  27.0      0   \n",
       "887                       Graham, Miss. Margaret Edith  female  19.0      0   \n",
       "888           Johnston, Miss. Catherine Helen \"Carrie\"  female   NaN      1   \n",
       "889                              Behr, Mr. Karl Howell    male  26.0      0   \n",
       "890                                Dooley, Mr. Patrick    male  32.0      0   \n",
       "\n",
       "     Parch            Ticket     Fare Cabin Embarked  \n",
       "0        0         A/5 21171   7.2500   NaN        S  \n",
       "1        0          PC 17599  71.2833   C85        C  \n",
       "2        0  STON/O2. 3101282   7.9250   NaN        S  \n",
       "3        0            113803  53.1000  C123        S  \n",
       "4        0            373450   8.0500   NaN        S  \n",
       "..     ...               ...      ...   ...      ...  \n",
       "886      0            211536  13.0000   NaN        S  \n",
       "887      0            112053  30.0000   B42        S  \n",
       "888      2        W./C. 6607  23.4500   NaN        S  \n",
       "889      0            111369  30.0000  C148        C  \n",
       "890      0            370376   7.7500   NaN        Q  \n",
       "\n",
       "[891 rows x 12 columns]"
      ]
     },
     "execution_count": 3,
     "metadata": {},
     "output_type": "execute_result"
    }
   ],
   "source": [
    "titanic=pd.read_csv('../data/titanic.csv')\n",
    "print(titanic.info())\n",
    "titanic"
   ]
  },
  {
   "cell_type": "code",
   "execution_count": 4,
   "id": "fc73a3f4-3c9f-44f5-9a4e-ed9cecddfbf4",
   "metadata": {},
   "outputs": [
    {
     "data": {
      "text/plain": [
       "count    714.000000\n",
       "mean      29.699118\n",
       "std       14.526497\n",
       "min        0.420000\n",
       "25%       20.125000\n",
       "50%       28.000000\n",
       "75%       38.000000\n",
       "max       80.000000\n",
       "Name: Age, dtype: float64"
      ]
     },
     "execution_count": 4,
     "metadata": {},
     "output_type": "execute_result"
    }
   ],
   "source": [
    "titanic['Age'].describe()\n"
   ]
  },
  {
   "cell_type": "code",
   "execution_count": 5,
   "id": "3155ce51-6867-4ebc-bdcf-e78b8ea4ec97",
   "metadata": {},
   "outputs": [],
   "source": [
    "# 데이터 714개 , 누락값 있음\n",
    "# 평균 29.7, 표준편차는 14.5 \n",
    "# 데이터 편향되지 않음- 평균과 중앙값 비교\n",
    "# 사순위수를 보면 3사분기와 최댓값의 차이가 큰 것을 보면 이상치가 있을 가능성 높음"
   ]
  },
  {
   "cell_type": "code",
   "execution_count": 6,
   "id": "5508872b-a500-4903-b644-bf48c910075f",
   "metadata": {},
   "outputs": [
    {
     "data": {
      "text/plain": [
       "<Axes: xlabel='Age'>"
      ]
     },
     "execution_count": 6,
     "metadata": {},
     "output_type": "execute_result"
    },
    {
     "data": {
      "image/png": "[encoded data removed]",
      "text/plain": [
       "<Figure size 640x480 with 3 Axes>"
      ]
     },
     "metadata": {},
     "output_type": "display_data"
    }
   ],
   "source": [
    "plt.subplot(3,1,1)\n",
    "sns.histplot(data=titanic, x='Age', kde=True)\n",
    "plt.subplot(3,1,2)\n",
    "sns.boxplot(data=titanic, x='Age')\n",
    "plt.subplot(3,1,3)\n",
    "sns.violinplot(data=titanic, x='Age')"
   ]
  },
  {
   "cell_type": "code",
   "execution_count": 7,
   "id": "be309ae8-aa19-4959-b46f-50e05df2464f",
   "metadata": {},
   "outputs": [],
   "source": [
    "arr=np.random.randn((200))  #정규분포를 따르는 random.randn "
   ]
  },
  {
   "cell_type": "code",
   "execution_count": 8,
   "id": "090395c4-658f-443e-8cce-77472fff9f25",
   "metadata": {
    "scrolled": true
   },
   "outputs": [
    {
     "data": {
      "text/plain": [
       "<Axes: ylabel='Density'>"
      ]
     },
     "execution_count": 8,
     "metadata": {},
     "output_type": "execute_result"
    },
    {
     "data": {
      "image/png": "[encoded data removed]",
      "text/plain": [
       "<Figure size 640x480 with 1 Axes>"
      ]
     },
     "metadata": {},
     "output_type": "display_data"
    }
   ],
   "source": [
    "sns.kdeplot(arr)\n",
    "sns.histplot(arr, bins=16,kde=True)"
   ]
  },
  {
   "cell_type": "code",
   "execution_count": 9,
   "id": "fe44248b-c062-40cb-94d4-803e2149c38c",
   "metadata": {},
   "outputs": [
    {
     "data": {
      "text/plain": [
       "count    891.000000\n",
       "mean      32.204208\n",
       "std       49.693429\n",
       "min        0.000000\n",
       "25%        7.910400\n",
       "50%       14.454200\n",
       "75%       31.000000\n",
       "max      512.329200\n",
       "Name: Fare, dtype: float64"
      ]
     },
     "execution_count": 9,
     "metadata": {},
     "output_type": "execute_result"
    }
   ],
   "source": [
    "titanic['Fare'].describe()"
   ]
  },
  {
   "cell_type": "code",
   "execution_count": 10,
   "id": "1b4f41bf-bfc5-40c2-ad7b-fd1c26c1975b",
   "metadata": {
    "scrolled": true
   },
   "outputs": [
    {
     "data": {
      "text/plain": [
       "<Axes: xlabel='Age'>"
      ]
     },
     "execution_count": 10,
     "metadata": {},
     "output_type": "execute_result"
    },
    {
     "data": {
      "image/png": "[encoded data removed]",
      "text/plain": [
       "<Figure size 640x480 with 3 Axes>"
      ]
     },
     "metadata": {},
     "output_type": "display_data"
    }
   ],
   "source": [
    "plt.subplot(3,1,1)\n",
    "sns.histplot(data=titanic, x='Fare', kde=True)\n",
    "plt.subplot(3,1,2)\n",
    "sns.boxplot(data=titanic, x='Fare')\n",
    "plt.subplot(3,1,3)\n",
    "sns.violinplot(data=titanic, x='Age')"
   ]
  },
  {
   "cell_type": "code",
   "execution_count": 11,
   "id": "e9895b1c-1a6a-4aac-aca9-dbcb16158212",
   "metadata": {},
   "outputs": [
    {
     "data": {
      "text/plain": [
       "ShapiroResult(statistic=0.5218917727470398, pvalue=1.0789998175301091e-43)"
      ]
     },
     "execution_count": 11,
     "metadata": {},
     "output_type": "execute_result"
    }
   ],
   "source": [
    "from scipy import stats\n",
    "stats.shapiro(titanic['Fare'])"
   ]
  },
  {
   "cell_type": "code",
   "execution_count": 12,
   "id": "25027f89-b353-4342-8bff-996220496f57",
   "metadata": {},
   "outputs": [
    {
     "data": {
      "text/plain": [
       "ShapiroResult(statistic=0.9960708618164062, pvalue=0.8904615044593811)"
      ]
     },
     "execution_count": 12,
     "metadata": {},
     "output_type": "execute_result"
    }
   ],
   "source": [
    "stats.shapiro(arr)"
   ]
  },
  {
   "cell_type": "code",
   "execution_count": 13,
   "id": "98f8a8ab-620c-4ec9-9eb0-c6beacd43ed7",
   "metadata": {},
   "outputs": [
    {
     "data": {
      "text/plain": [
       "AndersonResult(statistic=122.16962721459197, critical_values=array([0.573, 0.653, 0.784, 0.914, 1.087]), significance_level=array([15. , 10. ,  5. ,  2.5,  1. ]), fit_result=  params: FitParams(loc=32.204207968574636, scale=49.693428597180905)\n",
       " success: True\n",
       " message: '`anderson` successfully fit the distribution to the data.')"
      ]
     },
     "execution_count": 13,
     "metadata": {},
     "output_type": "execute_result"
    }
   ],
   "source": [
    "stats.anderson(titanic['Fare'])"
   ]
  },
  {
   "cell_type": "code",
   "execution_count": 14,
   "id": "61cbfeb6-7dd3-4511-9d08-d1989f5791b9",
   "metadata": {},
   "outputs": [
    {
     "data": {
      "text/plain": [
       "AndersonResult(statistic=0.2813424084200733, critical_values=array([0.565, 0.644, 0.772, 0.901, 1.071]), significance_level=array([15. , 10. ,  5. ,  2.5,  1. ]), fit_result=  params: FitParams(loc=-0.01541980592430483, scale=1.1456667870997148)\n",
       " success: True\n",
       " message: '`anderson` successfully fit the distribution to the data.')"
      ]
     },
     "execution_count": 14,
     "metadata": {},
     "output_type": "execute_result"
    }
   ],
   "source": [
    "stats.anderson(arr)  # 정규분포 검정/ 결과 보는 것은 조심할 것"
   ]
  },
  {
   "cell_type": "code",
   "execution_count": 15,
   "id": "b63464c8-b1b1-46f0-808e-eccb48a22afb",
   "metadata": {},
   "outputs": [
    {
     "name": "stdout",
     "output_type": "stream",
     "text": [
      "Pclass\n",
      "3    491\n",
      "1    216\n",
      "2    184\n",
      "Name: count, dtype: int64\n"
     ]
    }
   ],
   "source": [
    "print(titanic['Pclass'].value_counts())\n"
   ]
  },
  {
   "cell_type": "code",
   "execution_count": 16,
   "id": "4d08d954-e982-4ea3-9cac-89ba2f7c098b",
   "metadata": {},
   "outputs": [
    {
     "name": "stdout",
     "output_type": "stream",
     "text": [
      "Pclass\n",
      "3    0.551066\n",
      "1    0.242424\n",
      "2    0.206510\n",
      "Name: count, dtype: float64\n"
     ]
    }
   ],
   "source": [
    "print(titanic['Pclass'].value_counts() / len(titanic['Pclass']))"
   ]
  },
  {
   "cell_type": "code",
   "execution_count": 17,
   "id": "f3aa4964-79c0-488f-a7f8-2c3ea72aad32",
   "metadata": {},
   "outputs": [
    {
     "data": {
      "text/plain": [
       "([<matplotlib.patches.Wedge at 0x1cbd345d010>,\n",
       "  <matplotlib.patches.Wedge at 0x1cbd360bcd0>,\n",
       "  <matplotlib.patches.Wedge at 0x1cbd3619550>],\n",
       " [Text(-0.17571616709359641, 1.0858746836637898, '3'),\n",
       "  Text(-0.5160762002061153, -0.9714243951954356, '1'),\n",
       "  Text(0.8765111456658484, -0.6646263698677192, '2')],\n",
       " [Text(-0.09584518205105258, 0.5922952819984307, '55.11%'),\n",
       "  Text(-0.2814961092033356, -0.5298678519247829, '24.24%'),\n",
       "  Text(0.47809698854500815, -0.3625234744733013, '20.65%')])"
      ]
     },
     "execution_count": 17,
     "metadata": {},
     "output_type": "execute_result"
    },
    {
     "data": {
      "image/png": "[encoded data removed]",
      "text/plain": [
       "<Figure size 700x300 with 2 Axes>"
      ]
     },
     "metadata": {},
     "output_type": "display_data"
    }
   ],
   "source": [
    "p_cnt = titanic['Pclass'].value_counts()\n",
    "plt.figure(figsize = (7, 3))\n",
    "plt.subplot(1,2,1)\n",
    "sns.countplot(data = titanic, x = 'Pclass')\n",
    "plt.subplot(1,2,2)\n",
    "plt.pie(p_cnt.values, labels = p_cnt.index, autopct = '%.2f%%') "
   ]
  },
  {
   "cell_type": "code",
   "execution_count": 19,
   "id": "37f31b5e-f99d-4c5a-b40b-3ea1787ed1bc",
   "metadata": {},
   "outputs": [
    {
     "name": "stdout",
     "output_type": "stream",
     "text": [
      "65.6344 -26.724\n"
     ]
    }
   ],
   "source": [
    "# 이상치 판단/ IQR\n",
    "IQR=titanic['Fare'].quantile(0.75) - titanic['Fare'].quantile(0.25)\n",
    "high_border = titanic['Fare'].quantile(0.75) + IQR * 1.5\n",
    "low_border =  titanic['Fare'].quantile(0.25) - IQR * 1.5\n",
    "print(high_border,low_border )"
   ]
  },
  {
   "cell_type": "code",
   "execution_count": 20,
   "id": "80c2c717-65da-4fd1-a25c-a08b7ac4f5ff",
   "metadata": {},
   "outputs": [
    {
     "name": "stdout",
     "output_type": "stream",
     "text": [
      "ShapiroResult(statistic=0.8130143880844116, pvalue=5.0145173146643107e-29)\n"
     ]
    },
    {
     "data": {
      "image/png": "[encoded data removed]",
      "text/plain": [
       "<Figure size 640x480 with 3 Axes>"
      ]
     },
     "metadata": {},
     "output_type": "display_data"
    }
   ],
   "source": [
    "titanic_1 = titanic[(titanic['Fare'] < high_border) & (titanic['Fare'] > low_border)]\n",
    "plt.subplot(3,1,1)\n",
    "sns.histplot(data = titanic_1, x = 'Fare')\n",
    "plt.subplot(3,1,2)\n",
    "sns.boxplot(data = titanic_1, x = 'Fare')\n",
    "plt.subplot(3,1,3)\n",
    "sns.violinplot(data = titanic_1, x = 'Fare')\n",
    "print(stats.shapiro(titanic_1['Fare']))"
   ]
  },
  {
   "cell_type": "code",
   "execution_count": null,
   "id": "1bc37fc2-ba00-4e94-880b-f5a93e7b6106",
   "metadata": {},
   "outputs": [],
   "source": [
    "## 이상치 제거 // \n",
    "import numpy as np\n",
    "# numpy\n",
    "z_score = np.abs(titanic['Fare'] - titanic['Fare'].mean()) / titanic['Fare'].std()"
   ]
  },
  {
   "cell_type": "code",
   "execution_count": null,
   "id": "4c6f02ab-712b-46a9-9926-381dacddfcd9",
   "metadata": {},
   "outputs": [],
   "source": [
    "titanic3 = titanic[z_score < 0.7]"
   ]
  },
  {
   "cell_type": "code",
   "execution_count": null,
   "id": "345e619c-2c60-4e6b-89bd-360ed177a8d8",
   "metadata": {},
   "outputs": [],
   "source": [
    "titanic3.shape"
   ]
  },
  {
   "cell_type": "code",
   "execution_count": null,
   "id": "5ccd5d6b-36af-4e55-abb3-06b7545e5a7e",
   "metadata": {},
   "outputs": [],
   "source": [
    "plt.subplot(3,1,1)\n",
    "sns.histplot(data=titanic3, x='Fare', kde=True)\n",
    "plt.subplot(3,1,2)\n",
    "sns.boxplot(data=titanic3, x='Fare')\n",
    "plt.subplot(3,1,3)\n",
    "sns.violinplot(data=titanic3, x='Fare')"
   ]
  },
  {
   "cell_type": "code",
   "execution_count": null,
   "id": "5c901751-0432-459f-9e44-05bce6855dba",
   "metadata": {},
   "outputs": [],
   "source": [
    "titanic3['Fare'].max()"
   ]
  },
  {
   "cell_type": "code",
   "execution_count": null,
   "id": "f60c6140-ea28-4ffa-97b4-e6d43fc77603",
   "metadata": {},
   "outputs": [],
   "source": [
    "titanic['Fare'].max()"
   ]
  },
  {
   "cell_type": "code",
   "execution_count": null,
   "id": "8d4aa5b2-696c-4493-bb1c-d5833e4a619f",
   "metadata": {},
   "outputs": [],
   "source": [
    "titanic_1['Fare'].max()"
   ]
  },
  {
   "cell_type": "code",
   "execution_count": null,
   "id": "21c8bedb-b5b2-4902-bcd8-01bf7d5653ad",
   "metadata": {},
   "outputs": [],
   "source": [
    "stats.anderson(titanic['Age'])"
   ]
  },
  {
   "cell_type": "code",
   "execution_count": null,
   "id": "d807fce5-9375-41a2-b944-e9e32a948a5f",
   "metadata": {},
   "outputs": [],
   "source": [
    "titanic_na=titanic['Age'].dropna()"
   ]
  },
  {
   "cell_type": "markdown",
   "id": "c058a5f3-4381-46b9-81c8-35898863a99d",
   "metadata": {},
   "source": [
    "단변량(일변량) 데이터 분석 방법\n",
    "<수치형(연속형) 데이터>\n",
    "1. 기초통계량 : 평균, 표준편차, 4분위수, 최대값, 최소값\n",
    "2. 그래프: 히스토그램, 밀도곡선, 박스그래프\n",
    "3. 정규성 검정(shapiro, Anderson)\n",
    "   : 이변량데이터분석에서 수치형 데이터가 정규성 유무로\n",
    "     통계 검정함수가 달라지기 때문에 해봐야\n",
    "\n",
    "<범주형 데이터>\n",
    "1. 기초통계값\n",
    "   :개별(범주별), 비율\n",
    "2. 그래프\n",
    "   : 막대그래프(countplot), pie\n",
    "3. 별도의 검정은 없고 /범주별 비율이 균등한지를 확인하고 데이터분석을 진행 함\n",
    "\n",
    "\n",
    "<이상치 제거>\n",
    "1. z_score\n",
    "2. 이상치 판단/ IQR 이용해서 제거   "
   ]
  },
  {
   "cell_type": "code",
   "execution_count": null,
   "id": "533070a9-1648-485e-a76e-f3a5a6691397",
   "metadata": {},
   "outputs": [],
   "source": []
  },
  {
   "cell_type": "code",
   "execution_count": null,
   "id": "786f5406-8e4a-406f-b325-72756dac80d6",
   "metadata": {},
   "outputs": [],
   "source": []
  },
  {
   "cell_type": "code",
   "execution_count": null,
   "id": "1e03aa6c-1f62-4039-9780-436829f01abd",
   "metadata": {},
   "outputs": [],
   "source": []
  }
 ],
 "metadata": {
  "kernelspec": {
   "display_name": "Python 3 (ipykernel)",
   "language": "python",
   "name": "python3"
  },
  "language_info": {
   "codemirror_mode": {
    "name": "ipython",
    "version": 3
   },
   "file_extension": ".py",
   "mimetype": "text/x-python",
   "name": "python",
   "nbconvert_exporter": "python",
   "pygments_lexer": "ipython3",
   "version": "3.11.5"
  }
 },
 "nbformat": 4,
 "nbformat_minor": 5
}
