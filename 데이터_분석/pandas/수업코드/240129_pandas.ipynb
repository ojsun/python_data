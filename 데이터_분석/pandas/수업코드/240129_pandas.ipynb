{
 "cells": [
  {
   "cell_type": "code",
   "execution_count": null,
   "id": "0a5a1f06",
   "metadata": {},
   "outputs": [],
   "source": [
    "import pandas as pd\n",
    "\n",
    "df = pd.read_csv('data/pandas/gapminder.tsv', sep='\\t')\n",
    "df.head()"
   ]
  },
  {
   "cell_type": "code",
   "execution_count": null,
   "id": "8757e5a7",
   "metadata": {},
   "outputs": [],
   "source": [
    "df.shape"
   ]
  },
  {
   "cell_type": "code",
   "execution_count": null,
   "id": "0396085f",
   "metadata": {},
   "outputs": [],
   "source": [
    "len(df['country'].unique())"
   ]
  },
  {
   "cell_type": "code",
   "execution_count": null,
   "id": "a58c68cc",
   "metadata": {},
   "outputs": [],
   "source": [
    "df.info()"
   ]
  },
  {
   "cell_type": "code",
   "execution_count": null,
   "id": "6056268a",
   "metadata": {},
   "outputs": [],
   "source": [
    "# year 컬럼 기준으로 값을 묶어준다.\n",
    "df.groupby('year')['lifeExp'].mean()\n",
    "# select avg(lifeExp) from df group by year"
   ]
  },
  {
   "cell_type": "code",
   "execution_count": null,
   "id": "2afa1adf",
   "metadata": {},
   "outputs": [],
   "source": [
    "def my_mean(values):\n",
    "    n = len(values)\n",
    "    sum = 0\n",
    "    for value in values:\n",
    "        sum += value\n",
    "    return sum / n"
   ]
  },
  {
   "cell_type": "code",
   "execution_count": null,
   "id": "5bcf3786",
   "metadata": {},
   "outputs": [],
   "source": [
    "df.groupby('year')['lifeExp'].agg(my_mean)"
   ]
  },
  {
   "cell_type": "code",
   "execution_count": null,
   "id": "02eb0eb6",
   "metadata": {},
   "outputs": [],
   "source": [
    "def my_mean_diff(values, diff_value):\n",
    "    n = len(values)\n",
    "    sum = 0\n",
    "    for value in values:\n",
    "        sum += value\n",
    "    mean = sum / n\n",
    "    return mean - diff_value"
   ]
  },
  {
   "cell_type": "code",
   "execution_count": null,
   "id": "2df456f9",
   "metadata": {},
   "outputs": [],
   "source": [
    "global_mean = df['lifeExp'].mean()\n",
    "print(global_mean)"
   ]
  },
  {
   "cell_type": "code",
   "execution_count": null,
   "id": "40d30473",
   "metadata": {},
   "outputs": [],
   "source": [
    "df.groupby('year')['lifeExp'].agg(my_mean_diff, diff_value=global_mean)"
   ]
  },
  {
   "cell_type": "code",
   "execution_count": null,
   "id": "114a4e08",
   "metadata": {},
   "outputs": [],
   "source": [
    "df.groupby('year')['lifeExp'].mean() - global_mean"
   ]
  },
  {
   "cell_type": "code",
   "execution_count": null,
   "id": "8ca86a50",
   "metadata": {},
   "outputs": [],
   "source": [
    "df.groupby('year')['lifeExp'].agg(['sum', 'size'])"
   ]
  },
  {
   "cell_type": "code",
   "execution_count": null,
   "id": "9acae52f",
   "metadata": {},
   "outputs": [],
   "source": [
    "df.groupby('year').agg({'lifeExp':['mean', 'sum'], 'pop':'sum'})"
   ]
  },
  {
   "cell_type": "code",
   "execution_count": null,
   "id": "e7625b7a",
   "metadata": {},
   "outputs": [],
   "source": [
    "grouped = df.groupby('year').groups"
   ]
  },
  {
   "cell_type": "code",
   "execution_count": null,
   "id": "ee9e8982",
   "metadata": {},
   "outputs": [],
   "source": [
    "grouped.keys()"
   ]
  },
  {
   "cell_type": "code",
   "execution_count": null,
   "id": "8b11373a",
   "metadata": {},
   "outputs": [],
   "source": [
    "grouped[1952]"
   ]
  },
  {
   "cell_type": "code",
   "execution_count": null,
   "id": "c887cc2f",
   "metadata": {},
   "outputs": [],
   "source": [
    "df.iloc[grouped[1952]]"
   ]
  },
  {
   "cell_type": "code",
   "execution_count": null,
   "id": "c82f1641",
   "metadata": {},
   "outputs": [],
   "source": [
    "df.groupby('year').get_group(1952)['lifeExp']"
   ]
  },
  {
   "cell_type": "code",
   "execution_count": null,
   "id": "a833dfde",
   "metadata": {},
   "outputs": [],
   "source": [
    "df.groupby('year')['lifeExp'].get_group(1957)"
   ]
  },
  {
   "cell_type": "code",
   "execution_count": null,
   "id": "ee57a525",
   "metadata": {},
   "outputs": [],
   "source": [
    "df.groupby('year')['lifeExp'].count()\n",
    "df.groupby('year').count()['lifeExp']"
   ]
  },
  {
   "cell_type": "code",
   "execution_count": null,
   "id": "03cecdbe",
   "metadata": {},
   "outputs": [],
   "source": [
    "df.info()"
   ]
  },
  {
   "cell_type": "code",
   "execution_count": null,
   "id": "e956a0eb",
   "metadata": {},
   "outputs": [],
   "source": [
    "# 범주형 : category\n",
    "df['continent'].unique()"
   ]
  },
  {
   "cell_type": "code",
   "execution_count": null,
   "id": "01d7ee1f",
   "metadata": {},
   "outputs": [],
   "source": [
    "df.groupby('pop').groups"
   ]
  },
  {
   "cell_type": "code",
   "execution_count": null,
   "id": "928224c5",
   "metadata": {},
   "outputs": [],
   "source": [
    "df['continent'].astype('category')"
   ]
  },
  {
   "cell_type": "code",
   "execution_count": null,
   "id": "2762e1e3",
   "metadata": {},
   "outputs": [],
   "source": [
    "df.groupby(['country', 'year'])['lifeExp'].mean()"
   ]
  },
  {
   "cell_type": "code",
   "execution_count": null,
   "id": "a946918b",
   "metadata": {},
   "outputs": [],
   "source": [
    "import pandas as pd\n",
    "titanic = pd.read_csv('data/pandas/titanic.csv')\n",
    "titanic.head(1)"
   ]
  },
  {
   "cell_type": "code",
   "execution_count": null,
   "id": "6fd3b5c3",
   "metadata": {},
   "outputs": [],
   "source": [
    "female_age = titanic.groupby(['Sex'])['Age'].mean()['female']\n",
    "male_age = titanic.groupby(['Sex'])['Age'].mean()['male']"
   ]
  },
  {
   "cell_type": "code",
   "execution_count": null,
   "id": "77c8fced",
   "metadata": {},
   "outputs": [],
   "source": [
    "print(female_age)\n",
    "print(male_age)"
   ]
  },
  {
   "cell_type": "code",
   "execution_count": null,
   "id": "b5af788d",
   "metadata": {},
   "outputs": [],
   "source": [
    "f_age = titanic[titanic['Sex'] == 'female']['Age'].fillna(female_age)\n",
    "m_age = titanic[titanic['Sex'] == 'male']['Age'].fillna(male_age)\n",
    "\n",
    "pd.concat([f_age, m_age])"
   ]
  },
  {
   "cell_type": "code",
   "execution_count": null,
   "id": "1a8467e3",
   "metadata": {},
   "outputs": [],
   "source": [
    "f_age = titanic[titanic['Sex'] == 'female']['Age'].fillna(female_age)\n",
    "m_age = titanic[titanic['Sex'] == 'male']['Age'].fillna(male_age)\n",
    "\n",
    "titanic['Age_fill'] = pd.concat([f_age, m_age])\n",
    "titanic"
   ]
  },
  {
   "cell_type": "code",
   "execution_count": null,
   "id": "ee8df7c4",
   "metadata": {},
   "outputs": [],
   "source": [
    "titanic.groupby(['Pclass', 'Sex'])['Age'].mean()"
   ]
  },
  {
   "cell_type": "code",
   "execution_count": null,
   "id": "60467d9a",
   "metadata": {},
   "outputs": [],
   "source": [
    "pclass = titanic['Pclass'].unique()\n",
    "sex = titanic['Sex'].unique()\n",
    "dfs = []\n",
    "for s in sex:\n",
    "    for p in pclass:\n",
    "        mean_age = titanic.groupby(['Pclass', 'Sex'])['Age'].mean()[p, s]\n",
    "        df = titanic[(titanic['Sex'] == s) & (titanic['Pclass'] == p)]['Age'].fillna(mean_age)\n",
    "        dfs.append(df)"
   ]
  },
  {
   "cell_type": "code",
   "execution_count": null,
   "id": "54aa57a0",
   "metadata": {},
   "outputs": [],
   "source": [
    "titanic['P_S_age'] = pd.concat(dfs)\n",
    "titanic"
   ]
  },
  {
   "cell_type": "code",
   "execution_count": null,
   "id": "317885a6",
   "metadata": {},
   "outputs": [],
   "source": []
  }
 ],
 "metadata": {
  "kernelspec": {
   "display_name": "Python 3 (ipykernel)",
   "language": "python",
   "name": "python3"
  },
  "language_info": {
   "codemirror_mode": {
    "name": "ipython",
    "version": 3
   },
   "file_extension": ".py",
   "mimetype": "text/x-python",
   "name": "python",
   "nbconvert_exporter": "python",
   "pygments_lexer": "ipython3",
   "version": "3.11.5"
  }
 },
 "nbformat": 4,
 "nbformat_minor": 5
}
