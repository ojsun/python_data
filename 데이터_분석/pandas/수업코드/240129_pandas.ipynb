{
 "cells": [
  {
   "cell_type": "code",
   "execution_count": 1,
   "id": "0a5a1f06",
   "metadata": {},
   "outputs": [
    {
     "data": {
      "text/html": [
       "<div>\n",
       "<style scoped>\n",
       "    .dataframe tbody tr th:only-of-type {\n",
       "        vertical-align: middle;\n",
       "    }\n",
       "\n",
       "    .dataframe tbody tr th {\n",
       "        vertical-align: top;\n",
       "    }\n",
       "\n",
       "    .dataframe thead th {\n",
       "        text-align: right;\n",
       "    }\n",
       "</style>\n",
       "<table border=\"1\" class=\"dataframe\">\n",
       "  <thead>\n",
       "    <tr style=\"text-align: right;\">\n",
       "      <th></th>\n",
       "      <th>country</th>\n",
       "      <th>continent</th>\n",
       "      <th>year</th>\n",
       "      <th>lifeExp</th>\n",
       "      <th>pop</th>\n",
       "      <th>gdpPercap</th>\n",
       "    </tr>\n",
       "  </thead>\n",
       "  <tbody>\n",
       "    <tr>\n",
       "      <th>0</th>\n",
       "      <td>Afghanistan</td>\n",
       "      <td>Asia</td>\n",
       "      <td>1952</td>\n",
       "      <td>28.801</td>\n",
       "      <td>8425333</td>\n",
       "      <td>779.445314</td>\n",
       "    </tr>\n",
       "    <tr>\n",
       "      <th>1</th>\n",
       "      <td>Afghanistan</td>\n",
       "      <td>Asia</td>\n",
       "      <td>1957</td>\n",
       "      <td>30.332</td>\n",
       "      <td>9240934</td>\n",
       "      <td>820.853030</td>\n",
       "    </tr>\n",
       "    <tr>\n",
       "      <th>2</th>\n",
       "      <td>Afghanistan</td>\n",
       "      <td>Asia</td>\n",
       "      <td>1962</td>\n",
       "      <td>31.997</td>\n",
       "      <td>10267083</td>\n",
       "      <td>853.100710</td>\n",
       "    </tr>\n",
       "    <tr>\n",
       "      <th>3</th>\n",
       "      <td>Afghanistan</td>\n",
       "      <td>Asia</td>\n",
       "      <td>1967</td>\n",
       "      <td>34.020</td>\n",
       "      <td>11537966</td>\n",
       "      <td>836.197138</td>\n",
       "    </tr>\n",
       "    <tr>\n",
       "      <th>4</th>\n",
       "      <td>Afghanistan</td>\n",
       "      <td>Asia</td>\n",
       "      <td>1972</td>\n",
       "      <td>36.088</td>\n",
       "      <td>13079460</td>\n",
       "      <td>739.981106</td>\n",
       "    </tr>\n",
       "  </tbody>\n",
       "</table>\n",
       "</div>"
      ],
      "text/plain": [
       "       country continent  year  lifeExp       pop   gdpPercap\n",
       "0  Afghanistan      Asia  1952   28.801   8425333  779.445314\n",
       "1  Afghanistan      Asia  1957   30.332   9240934  820.853030\n",
       "2  Afghanistan      Asia  1962   31.997  10267083  853.100710\n",
       "3  Afghanistan      Asia  1967   34.020  11537966  836.197138\n",
       "4  Afghanistan      Asia  1972   36.088  13079460  739.981106"
      ]
     },
     "execution_count": 1,
     "metadata": {},
     "output_type": "execute_result"
    }
   ],
   "source": [
    "import pandas as pd\n",
    "\n",
    "df = pd.read_csv('../data/gapminder.tsv', sep='\\t')\n",
    "df.head()"
   ]
  },
  {
   "cell_type": "code",
   "execution_count": 2,
   "id": "8757e5a7",
   "metadata": {},
   "outputs": [
    {
     "data": {
      "text/plain": [
       "(1704, 6)"
      ]
     },
     "execution_count": 2,
     "metadata": {},
     "output_type": "execute_result"
    }
   ],
   "source": [
    "df.shape"
   ]
  },
  {
   "cell_type": "code",
   "execution_count": 5,
   "id": "0396085f",
   "metadata": {},
   "outputs": [
    {
     "data": {
      "text/plain": [
       "142"
      ]
     },
     "execution_count": 5,
     "metadata": {},
     "output_type": "execute_result"
    }
   ],
   "source": [
    "len(df['country'].unique())"
   ]
  },
  {
   "cell_type": "code",
   "execution_count": null,
   "id": "a58c68cc",
   "metadata": {},
   "outputs": [],
   "source": [
    "df.info()"
   ]
  },
  {
   "cell_type": "code",
   "execution_count": null,
   "id": "6056268a",
   "metadata": {},
   "outputs": [],
   "source": [
    "# year 컬럼 기준으로 값을 묶어준다.\n",
    "df.groupby('year')['lifeExp'].mean()\n",
    "# select avg(lifeExp) from df group by year"
   ]
  },
  {
   "cell_type": "code",
   "execution_count": null,
   "id": "2afa1adf",
   "metadata": {},
   "outputs": [],
   "source": [
    "def my_mean(values):\n",
    "    n = len(values)\n",
    "    sum = 0\n",
    "    for value in values:\n",
    "        sum += value\n",
    "    return sum / n"
   ]
  },
  {
   "cell_type": "code",
   "execution_count": null,
   "id": "5bcf3786",
   "metadata": {},
   "outputs": [],
   "source": [
    "df.groupby('year')['lifeExp'].agg(my_mean)"
   ]
  },
  {
   "cell_type": "code",
   "execution_count": null,
   "id": "02eb0eb6",
   "metadata": {},
   "outputs": [],
   "source": [
    "def my_mean_diff(values, diff_value):\n",
    "    n = len(values)\n",
    "    sum = 0\n",
    "    for value in values:\n",
    "        sum += value\n",
    "    mean = sum / n\n",
    "    return mean - diff_value"
   ]
  },
  {
   "cell_type": "code",
   "execution_count": null,
   "id": "2df456f9",
   "metadata": {},
   "outputs": [],
   "source": [
    "global_mean = df['lifeExp'].mean()\n",
    "print(global_mean)"
   ]
  },
  {
   "cell_type": "code",
   "execution_count": null,
   "id": "40d30473",
   "metadata": {},
   "outputs": [],
   "source": [
    "df.groupby('year')['lifeExp'].agg(my_mean_diff, diff_value=global_mean)"
   ]
  },
  {
   "cell_type": "code",
   "execution_count": null,
   "id": "114a4e08",
   "metadata": {},
   "outputs": [],
   "source": [
    "df.groupby('year')['lifeExp'].mean() - global_mean"
   ]
  },
  {
   "cell_type": "code",
   "execution_count": null,
   "id": "8ca86a50",
   "metadata": {},
   "outputs": [],
   "source": [
    "df.groupby('year')['lifeExp'].agg(['sum', 'size'])"
   ]
  },
  {
   "cell_type": "code",
   "execution_count": 6,
   "id": "9acae52f",
   "metadata": {},
   "outputs": [
    {
     "data": {
      "text/html": [
       "<div>\n",
       "<style scoped>\n",
       "    .dataframe tbody tr th:only-of-type {\n",
       "        vertical-align: middle;\n",
       "    }\n",
       "\n",
       "    .dataframe tbody tr th {\n",
       "        vertical-align: top;\n",
       "    }\n",
       "\n",
       "    .dataframe thead tr th {\n",
       "        text-align: left;\n",
       "    }\n",
       "\n",
       "    .dataframe thead tr:last-of-type th {\n",
       "        text-align: right;\n",
       "    }\n",
       "</style>\n",
       "<table border=\"1\" class=\"dataframe\">\n",
       "  <thead>\n",
       "    <tr>\n",
       "      <th></th>\n",
       "      <th colspan=\"2\" halign=\"left\">lifeExp</th>\n",
       "      <th>pop</th>\n",
       "    </tr>\n",
       "    <tr>\n",
       "      <th></th>\n",
       "      <th>mean</th>\n",
       "      <th>sum</th>\n",
       "      <th>sum</th>\n",
       "    </tr>\n",
       "    <tr>\n",
       "      <th>year</th>\n",
       "      <th></th>\n",
       "      <th></th>\n",
       "      <th></th>\n",
       "    </tr>\n",
       "  </thead>\n",
       "  <tbody>\n",
       "    <tr>\n",
       "      <th>1952</th>\n",
       "      <td>49.057620</td>\n",
       "      <td>6966.18200</td>\n",
       "      <td>2406957150</td>\n",
       "    </tr>\n",
       "    <tr>\n",
       "      <th>1957</th>\n",
       "      <td>51.507401</td>\n",
       "      <td>7314.05096</td>\n",
       "      <td>2664404580</td>\n",
       "    </tr>\n",
       "    <tr>\n",
       "      <th>1962</th>\n",
       "      <td>53.609249</td>\n",
       "      <td>7612.51336</td>\n",
       "      <td>2899782974</td>\n",
       "    </tr>\n",
       "    <tr>\n",
       "      <th>1967</th>\n",
       "      <td>55.678290</td>\n",
       "      <td>7906.31712</td>\n",
       "      <td>3217478384</td>\n",
       "    </tr>\n",
       "    <tr>\n",
       "      <th>1972</th>\n",
       "      <td>57.647386</td>\n",
       "      <td>8185.92888</td>\n",
       "      <td>3576977158</td>\n",
       "    </tr>\n",
       "    <tr>\n",
       "      <th>1977</th>\n",
       "      <td>59.570157</td>\n",
       "      <td>8458.96236</td>\n",
       "      <td>3930045807</td>\n",
       "    </tr>\n",
       "    <tr>\n",
       "      <th>1982</th>\n",
       "      <td>61.533197</td>\n",
       "      <td>8737.71400</td>\n",
       "      <td>4289436840</td>\n",
       "    </tr>\n",
       "    <tr>\n",
       "      <th>1987</th>\n",
       "      <td>63.212613</td>\n",
       "      <td>8976.19100</td>\n",
       "      <td>4691477418</td>\n",
       "    </tr>\n",
       "    <tr>\n",
       "      <th>1992</th>\n",
       "      <td>64.160338</td>\n",
       "      <td>9110.76800</td>\n",
       "      <td>5110710260</td>\n",
       "    </tr>\n",
       "    <tr>\n",
       "      <th>1997</th>\n",
       "      <td>65.014676</td>\n",
       "      <td>9232.08400</td>\n",
       "      <td>5515204472</td>\n",
       "    </tr>\n",
       "    <tr>\n",
       "      <th>2002</th>\n",
       "      <td>65.694923</td>\n",
       "      <td>9328.67900</td>\n",
       "      <td>5886977579</td>\n",
       "    </tr>\n",
       "    <tr>\n",
       "      <th>2007</th>\n",
       "      <td>67.007423</td>\n",
       "      <td>9515.05400</td>\n",
       "      <td>6251013179</td>\n",
       "    </tr>\n",
       "  </tbody>\n",
       "</table>\n",
       "</div>"
      ],
      "text/plain": [
       "        lifeExp                     pop\n",
       "           mean         sum         sum\n",
       "year                                   \n",
       "1952  49.057620  6966.18200  2406957150\n",
       "1957  51.507401  7314.05096  2664404580\n",
       "1962  53.609249  7612.51336  2899782974\n",
       "1967  55.678290  7906.31712  3217478384\n",
       "1972  57.647386  8185.92888  3576977158\n",
       "1977  59.570157  8458.96236  3930045807\n",
       "1982  61.533197  8737.71400  4289436840\n",
       "1987  63.212613  8976.19100  4691477418\n",
       "1992  64.160338  9110.76800  5110710260\n",
       "1997  65.014676  9232.08400  5515204472\n",
       "2002  65.694923  9328.67900  5886977579\n",
       "2007  67.007423  9515.05400  6251013179"
      ]
     },
     "execution_count": 6,
     "metadata": {},
     "output_type": "execute_result"
    }
   ],
   "source": [
    "df.groupby('year').agg({'lifeExp':['mean', 'sum'], 'pop':'sum'})"
   ]
  },
  {
   "cell_type": "code",
   "execution_count": 7,
   "id": "e7625b7a",
   "metadata": {},
   "outputs": [],
   "source": [
    "grouped = df.groupby('year').groups"
   ]
  },
  {
   "cell_type": "code",
   "execution_count": 8,
   "id": "ee9e8982",
   "metadata": {},
   "outputs": [
    {
     "data": {
      "text/plain": [
       "dict_keys([1952, 1957, 1962, 1967, 1972, 1977, 1982, 1987, 1992, 1997, 2002, 2007])"
      ]
     },
     "execution_count": 8,
     "metadata": {},
     "output_type": "execute_result"
    }
   ],
   "source": [
    "grouped.keys()"
   ]
  },
  {
   "cell_type": "code",
   "execution_count": null,
   "id": "8b11373a",
   "metadata": {},
   "outputs": [],
   "source": [
    "grouped[1952]"
   ]
  },
  {
   "cell_type": "code",
   "execution_count": null,
   "id": "c887cc2f",
   "metadata": {},
   "outputs": [],
   "source": [
    "df.iloc[grouped[1952]]"
   ]
  },
  {
   "cell_type": "code",
   "execution_count": null,
   "id": "c82f1641",
   "metadata": {},
   "outputs": [],
   "source": [
    "df.groupby('year').get_group(1952)['lifeExp']"
   ]
  },
  {
   "cell_type": "code",
   "execution_count": null,
   "id": "a833dfde",
   "metadata": {},
   "outputs": [],
   "source": [
    "df.groupby('year')['lifeExp'].get_group(1957)"
   ]
  },
  {
   "cell_type": "code",
   "execution_count": null,
   "id": "ee57a525",
   "metadata": {},
   "outputs": [],
   "source": [
    "df.groupby('year')['lifeExp'].count()\n",
    "df.groupby('year').count()['lifeExp']"
   ]
  },
  {
   "cell_type": "code",
   "execution_count": null,
   "id": "03cecdbe",
   "metadata": {},
   "outputs": [],
   "source": [
    "df.info()"
   ]
  },
  {
   "cell_type": "code",
   "execution_count": null,
   "id": "e956a0eb",
   "metadata": {},
   "outputs": [],
   "source": [
    "# 범주형 : category\n",
    "df['continent'].unique()"
   ]
  },
  {
   "cell_type": "code",
   "execution_count": null,
   "id": "01d7ee1f",
   "metadata": {},
   "outputs": [],
   "source": [
    "df.groupby('pop').groups"
   ]
  },
  {
   "cell_type": "code",
   "execution_count": null,
   "id": "928224c5",
   "metadata": {},
   "outputs": [],
   "source": [
    "df['continent'].astype('category')"
   ]
  },
  {
   "cell_type": "code",
   "execution_count": null,
   "id": "2762e1e3",
   "metadata": {},
   "outputs": [],
   "source": [
    "df.groupby(['country', 'year'])['lifeExp'].mean()"
   ]
  },
  {
   "cell_type": "code",
   "execution_count": null,
   "id": "a946918b",
   "metadata": {},
   "outputs": [],
   "source": [
    "import pandas as pd\n",
    "titanic = pd.read_csv('data/pandas/titanic.csv')\n",
    "titanic.head(1)"
   ]
  },
  {
   "cell_type": "code",
   "execution_count": null,
   "id": "6fd3b5c3",
   "metadata": {},
   "outputs": [],
   "source": [
    "female_age = titanic.groupby(['Sex'])['Age'].mean()['female']\n",
    "male_age = titanic.groupby(['Sex'])['Age'].mean()['male']"
   ]
  },
  {
   "cell_type": "code",
   "execution_count": null,
   "id": "77c8fced",
   "metadata": {},
   "outputs": [],
   "source": [
    "print(female_age)\n",
    "print(male_age)"
   ]
  },
  {
   "cell_type": "code",
   "execution_count": null,
   "id": "b5af788d",
   "metadata": {},
   "outputs": [],
   "source": [
    "f_age = titanic[titanic['Sex'] == 'female']['Age'].fillna(female_age)\n",
    "m_age = titanic[titanic['Sex'] == 'male']['Age'].fillna(male_age)\n",
    "\n",
    "pd.concat([f_age, m_age])"
   ]
  },
  {
   "cell_type": "code",
   "execution_count": null,
   "id": "1a8467e3",
   "metadata": {},
   "outputs": [],
   "source": [
    "f_age = titanic[titanic['Sex'] == 'female']['Age'].fillna(female_age)\n",
    "m_age = titanic[titanic['Sex'] == 'male']['Age'].fillna(male_age)\n",
    "\n",
    "titanic['Age_fill'] = pd.concat([f_age, m_age])\n",
    "titanic"
   ]
  },
  {
   "cell_type": "code",
   "execution_count": null,
   "id": "ee8df7c4",
   "metadata": {},
   "outputs": [],
   "source": [
    "titanic.groupby(['Pclass', 'Sex'])['Age'].mean()"
   ]
  },
  {
   "cell_type": "code",
   "execution_count": null,
   "id": "60467d9a",
   "metadata": {},
   "outputs": [],
   "source": [
    "pclass = titanic['Pclass'].unique()\n",
    "sex = titanic['Sex'].unique()\n",
    "dfs = []\n",
    "for s in sex:\n",
    "    for p in pclass:\n",
    "        mean_age = titanic.groupby(['Pclass', 'Sex'])['Age'].mean()[p, s]\n",
    "        df = titanic[(titanic['Sex'] == s) & (titanic['Pclass'] == p)]['Age'].fillna(mean_age)\n",
    "        dfs.append(df)"
   ]
  },
  {
   "cell_type": "code",
   "execution_count": null,
   "id": "54aa57a0",
   "metadata": {},
   "outputs": [],
   "source": [
    "titanic['P_S_age'] = pd.concat(dfs)\n",
    "titanic"
   ]
  },
  {
   "cell_type": "code",
   "execution_count": null,
   "id": "268eda9a-f43e-4b9d-938f-45441124b26a",
   "metadata": {},
   "outputs": [],
   "source": []
  },
  {
   "cell_type": "code",
   "execution_count": null,
   "id": "f7095946-0f03-46c6-9e76-8bd4acb1607c",
   "metadata": {},
   "outputs": [],
   "source": []
  },
  {
   "cell_type": "code",
   "execution_count": null,
   "id": "96ceeffe-cd54-4ae0-bf52-ccba286dc0c8",
   "metadata": {},
   "outputs": [],
   "source": []
  },
  {
   "cell_type": "code",
   "execution_count": null,
   "id": "962c0d78-12b1-4cb4-8ac2-12b6c252f43b",
   "metadata": {},
   "outputs": [],
   "source": []
  },
  {
   "cell_type": "code",
   "execution_count": null,
   "id": "02f334ca-b239-4ca5-84e4-0fcd62099c49",
   "metadata": {},
   "outputs": [],
   "source": []
  },
  {
   "cell_type": "code",
   "execution_count": null,
   "id": "20f72098-618a-40db-b5f9-ff5f71321404",
   "metadata": {},
   "outputs": [],
   "source": []
  },
  {
   "cell_type": "code",
   "execution_count": null,
   "id": "1a6308c1-23a1-4d23-98e6-3d167841b741",
   "metadata": {},
   "outputs": [],
   "source": []
  },
  {
   "cell_type": "code",
   "execution_count": null,
   "id": "e47ad4a6-da04-4b73-b4fc-58367210f773",
   "metadata": {},
   "outputs": [],
   "source": []
  },
  {
   "cell_type": "code",
   "execution_count": null,
   "id": "fbca8ed1-93f4-4e3a-8953-a6c65a541d70",
   "metadata": {},
   "outputs": [],
   "source": []
  },
  {
   "cell_type": "code",
   "execution_count": null,
   "id": "2766e2aa-a040-4ebb-8c64-c30aaa7a6ef3",
   "metadata": {},
   "outputs": [],
   "source": []
  },
  {
   "cell_type": "code",
   "execution_count": null,
   "id": "faeb9a4e-dd8a-4f00-92ad-b3ec908eaf8a",
   "metadata": {},
   "outputs": [],
   "source": []
  },
  {
   "cell_type": "code",
   "execution_count": null,
   "id": "317885a6",
   "metadata": {},
   "outputs": [],
   "source": []
  }
 ],
 "metadata": {
  "kernelspec": {
   "display_name": "Python 3 (ipykernel)",
   "language": "python",
   "name": "python3"
  },
  "language_info": {
   "codemirror_mode": {
    "name": "ipython",
    "version": 3
   },
   "file_extension": ".py",
   "mimetype": "text/x-python",
   "name": "python",
   "nbconvert_exporter": "python",
   "pygments_lexer": "ipython3",
   "version": "3.11.5"
  }
 },
 "nbformat": 4,
 "nbformat_minor": 5
}
