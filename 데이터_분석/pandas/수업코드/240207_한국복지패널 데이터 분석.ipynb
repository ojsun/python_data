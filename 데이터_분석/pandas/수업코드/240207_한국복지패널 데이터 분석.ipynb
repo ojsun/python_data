{
 "cells": [
  {
   "cell_type": "markdown",
   "id": "c3a1a6ad",
   "metadata": {},
   "source": [
    "### [데이터 확인](https://raw.githubusercontent.com/kim-juwan/koweps/main/Koweps_hpwc14_2019.csv?token=GHSAT0AAAAAACBGH73WOWETG4BV5W2GA3ICZBTL2IA)\n",
    "* 한국복지패털 데이터는 한국보건사회연구원에서 우리나라 가구의 경제활동을 연구해 복지정책에 반영할 목적으로 발간하는 조사 자료\n",
    "* 2006년부터 매년 전국에서 7,000여 가구를 선정해 경제활동, 생활실태, 복지욕구 등 조사하여 여러 변수로 제공되고 있다.\n",
    "* 위 데이터는 2019년 데이터로 6,331가구, 14,418명의 정보를 담고 있다.\n",
    "* *변수 설명 (Codebook 참고)*\n",
    "    - gender : 성별\n",
    "    - birth : 태어난 해\n",
    "    - marriage_type : 결혼, 이혼 여부\n",
    "    - religion : 종교 여부\n",
    "    - imcome : 월수입, 한달 임금, 월급\n",
    "    - code_job : 직업 코드\n",
    "    - code_region : 지역 코드"
   ]
  },
  {
   "cell_type": "code",
   "execution_count": 1,
   "id": "a66a3a2b",
   "metadata": {
    "tags": []
   },
   "outputs": [],
   "source": [
    "# 그래프 크기 조절\n",
    "import matplotlib.pyplot as plt\n",
    "plt.rcParams[\"figure.figsize\"] = (4,2)\n",
    "# 한글 폰트 적용\n",
    "from matplotlib import font_manager, rc\n",
    "font = 'C:/Windows/Fonts/malgun.ttf'\n",
    "font_name = font_manager.FontProperties(fname=font).get_name()\n",
    "rc('font', family=font_name)"
   ]
  },
  {
   "cell_type": "code",
   "execution_count": 3,
   "id": "63cf099f",
   "metadata": {
    "tags": []
   },
   "outputs": [
    {
     "data": {
      "text/html": [
       "<div>\n",
       "<style scoped>\n",
       "    .dataframe tbody tr th:only-of-type {\n",
       "        vertical-align: middle;\n",
       "    }\n",
       "\n",
       "    .dataframe tbody tr th {\n",
       "        vertical-align: top;\n",
       "    }\n",
       "\n",
       "    .dataframe thead th {\n",
       "        text-align: right;\n",
       "    }\n",
       "</style>\n",
       "<table border=\"1\" class=\"dataframe\">\n",
       "  <thead>\n",
       "    <tr style=\"text-align: right;\">\n",
       "      <th></th>\n",
       "      <th>gender</th>\n",
       "      <th>birth</th>\n",
       "      <th>marriage_type</th>\n",
       "      <th>religion</th>\n",
       "      <th>income</th>\n",
       "      <th>code_job</th>\n",
       "      <th>code_region</th>\n",
       "    </tr>\n",
       "  </thead>\n",
       "  <tbody>\n",
       "    <tr>\n",
       "      <th>0</th>\n",
       "      <td>2.0</td>\n",
       "      <td>1945.0</td>\n",
       "      <td>2.0</td>\n",
       "      <td>1.0</td>\n",
       "      <td>NaN</td>\n",
       "      <td>NaN</td>\n",
       "      <td>1.0</td>\n",
       "    </tr>\n",
       "    <tr>\n",
       "      <th>1</th>\n",
       "      <td>1.0</td>\n",
       "      <td>1948.0</td>\n",
       "      <td>2.0</td>\n",
       "      <td>2.0</td>\n",
       "      <td>NaN</td>\n",
       "      <td>NaN</td>\n",
       "      <td>1.0</td>\n",
       "    </tr>\n",
       "    <tr>\n",
       "      <th>2</th>\n",
       "      <td>1.0</td>\n",
       "      <td>1942.0</td>\n",
       "      <td>3.0</td>\n",
       "      <td>1.0</td>\n",
       "      <td>107.0</td>\n",
       "      <td>762.0</td>\n",
       "      <td>1.0</td>\n",
       "    </tr>\n",
       "    <tr>\n",
       "      <th>3</th>\n",
       "      <td>1.0</td>\n",
       "      <td>1962.0</td>\n",
       "      <td>1.0</td>\n",
       "      <td>1.0</td>\n",
       "      <td>192.0</td>\n",
       "      <td>855.0</td>\n",
       "      <td>1.0</td>\n",
       "    </tr>\n",
       "    <tr>\n",
       "      <th>4</th>\n",
       "      <td>2.0</td>\n",
       "      <td>1963.0</td>\n",
       "      <td>1.0</td>\n",
       "      <td>1.0</td>\n",
       "      <td>NaN</td>\n",
       "      <td>NaN</td>\n",
       "      <td>1.0</td>\n",
       "    </tr>\n",
       "  </tbody>\n",
       "</table>\n",
       "</div>"
      ],
      "text/plain": [
       "   gender   birth  marriage_type  religion  income  code_job  code_region\n",
       "0     2.0  1945.0            2.0       1.0     NaN       NaN          1.0\n",
       "1     1.0  1948.0            2.0       2.0     NaN       NaN          1.0\n",
       "2     1.0  1942.0            3.0       1.0   107.0     762.0          1.0\n",
       "3     1.0  1962.0            1.0       1.0   192.0     855.0          1.0\n",
       "4     2.0  1963.0            1.0       1.0     NaN       NaN          1.0"
      ]
     },
     "execution_count": 3,
     "metadata": {},
     "output_type": "execute_result"
    }
   ],
   "source": [
    "import pandas as pd\n",
    "\n",
    "welfare = pd.read_csv('../data/Koweps_hpwc14_2019.csv')\n",
    "welfare.head()"
   ]
  },
  {
   "cell_type": "markdown",
   "id": "84e9bac3",
   "metadata": {},
   "source": [
    "* 3.2.1. 성별에 따른 임금 차이가 날까? (남녀 임금이 다를까?)\n",
    "* 3.2.2. 나이에 따라 임금 차이가 날까? (임금이 가장 높은 나이가 언제일까?)\n",
    "* 3.2.3. 나이에 따라 임금 차이가 날까? (어느 나이대가 임금이 높을까?)\n",
    "* 3.2.4. 성별과 연령대에 따라 임금 차이가 날까? (남녀 임금의 차이가 연령대에 따라 차이가 있을까?)\n",
    "* 3.2.5. 지역에 따라 임금 차이가 날까? (수도권이 비수도권보다 임금이 높을까?)\n",
    "* 3.2.6. 남여에 따라 선호 직업에 차이가 날까? (남녀별로 어떤 직업이 선호도가 높을까?)\n",
    "* 3.2.7. 종교 유무에 따른 이혼율의 차이가 날까? (종교가 있으면 가정사에 문제가 있을까?)"
   ]
  },
  {
   "cell_type": "code",
   "execution_count": 4,
   "id": "41453902",
   "metadata": {
    "tags": []
   },
   "outputs": [
    {
     "data": {
      "text/html": [
       "<div>\n",
       "<style scoped>\n",
       "    .dataframe tbody tr th:only-of-type {\n",
       "        vertical-align: middle;\n",
       "    }\n",
       "\n",
       "    .dataframe tbody tr th {\n",
       "        vertical-align: top;\n",
       "    }\n",
       "\n",
       "    .dataframe thead th {\n",
       "        text-align: right;\n",
       "    }\n",
       "</style>\n",
       "<table border=\"1\" class=\"dataframe\">\n",
       "  <thead>\n",
       "    <tr style=\"text-align: right;\">\n",
       "      <th></th>\n",
       "      <th>gender</th>\n",
       "      <th>birth</th>\n",
       "      <th>marriage_type</th>\n",
       "      <th>religion</th>\n",
       "      <th>income</th>\n",
       "      <th>code_job</th>\n",
       "      <th>code_region</th>\n",
       "      <th>gender2</th>\n",
       "    </tr>\n",
       "  </thead>\n",
       "  <tbody>\n",
       "    <tr>\n",
       "      <th>0</th>\n",
       "      <td>2.0</td>\n",
       "      <td>1945.0</td>\n",
       "      <td>2.0</td>\n",
       "      <td>1.0</td>\n",
       "      <td>NaN</td>\n",
       "      <td>NaN</td>\n",
       "      <td>1.0</td>\n",
       "      <td>여자</td>\n",
       "    </tr>\n",
       "    <tr>\n",
       "      <th>1</th>\n",
       "      <td>1.0</td>\n",
       "      <td>1948.0</td>\n",
       "      <td>2.0</td>\n",
       "      <td>2.0</td>\n",
       "      <td>NaN</td>\n",
       "      <td>NaN</td>\n",
       "      <td>1.0</td>\n",
       "      <td>남자</td>\n",
       "    </tr>\n",
       "    <tr>\n",
       "      <th>2</th>\n",
       "      <td>1.0</td>\n",
       "      <td>1942.0</td>\n",
       "      <td>3.0</td>\n",
       "      <td>1.0</td>\n",
       "      <td>107.0</td>\n",
       "      <td>762.0</td>\n",
       "      <td>1.0</td>\n",
       "      <td>남자</td>\n",
       "    </tr>\n",
       "    <tr>\n",
       "      <th>3</th>\n",
       "      <td>1.0</td>\n",
       "      <td>1962.0</td>\n",
       "      <td>1.0</td>\n",
       "      <td>1.0</td>\n",
       "      <td>192.0</td>\n",
       "      <td>855.0</td>\n",
       "      <td>1.0</td>\n",
       "      <td>남자</td>\n",
       "    </tr>\n",
       "    <tr>\n",
       "      <th>4</th>\n",
       "      <td>2.0</td>\n",
       "      <td>1963.0</td>\n",
       "      <td>1.0</td>\n",
       "      <td>1.0</td>\n",
       "      <td>NaN</td>\n",
       "      <td>NaN</td>\n",
       "      <td>1.0</td>\n",
       "      <td>여자</td>\n",
       "    </tr>\n",
       "  </tbody>\n",
       "</table>\n",
       "</div>"
      ],
      "text/plain": [
       "   gender   birth  marriage_type  religion  income  code_job  code_region  \\\n",
       "0     2.0  1945.0            2.0       1.0     NaN       NaN          1.0   \n",
       "1     1.0  1948.0            2.0       2.0     NaN       NaN          1.0   \n",
       "2     1.0  1942.0            3.0       1.0   107.0     762.0          1.0   \n",
       "3     1.0  1962.0            1.0       1.0   192.0     855.0          1.0   \n",
       "4     2.0  1963.0            1.0       1.0     NaN       NaN          1.0   \n",
       "\n",
       "  gender2  \n",
       "0      여자  \n",
       "1      남자  \n",
       "2      남자  \n",
       "3      남자  \n",
       "4      여자  "
      ]
     },
     "execution_count": 4,
     "metadata": {},
     "output_type": "execute_result"
    }
   ],
   "source": [
    "# 사전 범주나누기 작업\n",
    "# welfare['gender'].apply(lambda x : '남자' if x == 1 else '여자')\n",
    "def gender_convert(x):\n",
    "    if x == 1:\n",
    "        return '남자'\n",
    "    else:\n",
    "        return '여자'\n",
    "welfare['gender2'] = welfare['gender'].apply(gender_convert)\n",
    "welfare.head()"
   ]
  },
  {
   "cell_type": "code",
   "execution_count": 5,
   "id": "f3ab562b",
   "metadata": {
    "tags": []
   },
   "outputs": [
    {
     "data": {
      "text/html": [
       "<div>\n",
       "<style scoped>\n",
       "    .dataframe tbody tr th:only-of-type {\n",
       "        vertical-align: middle;\n",
       "    }\n",
       "\n",
       "    .dataframe tbody tr th {\n",
       "        vertical-align: top;\n",
       "    }\n",
       "\n",
       "    .dataframe thead th {\n",
       "        text-align: right;\n",
       "    }\n",
       "</style>\n",
       "<table border=\"1\" class=\"dataframe\">\n",
       "  <thead>\n",
       "    <tr style=\"text-align: right;\">\n",
       "      <th></th>\n",
       "      <th>gender</th>\n",
       "      <th>birth</th>\n",
       "      <th>marriage_type</th>\n",
       "      <th>religion</th>\n",
       "      <th>income</th>\n",
       "      <th>code_job</th>\n",
       "      <th>code_region</th>\n",
       "      <th>gender2</th>\n",
       "      <th>age</th>\n",
       "    </tr>\n",
       "  </thead>\n",
       "  <tbody>\n",
       "    <tr>\n",
       "      <th>0</th>\n",
       "      <td>2.0</td>\n",
       "      <td>1945.0</td>\n",
       "      <td>2.0</td>\n",
       "      <td>1.0</td>\n",
       "      <td>NaN</td>\n",
       "      <td>NaN</td>\n",
       "      <td>1.0</td>\n",
       "      <td>여자</td>\n",
       "      <td>74.0</td>\n",
       "    </tr>\n",
       "    <tr>\n",
       "      <th>1</th>\n",
       "      <td>1.0</td>\n",
       "      <td>1948.0</td>\n",
       "      <td>2.0</td>\n",
       "      <td>2.0</td>\n",
       "      <td>NaN</td>\n",
       "      <td>NaN</td>\n",
       "      <td>1.0</td>\n",
       "      <td>남자</td>\n",
       "      <td>71.0</td>\n",
       "    </tr>\n",
       "    <tr>\n",
       "      <th>2</th>\n",
       "      <td>1.0</td>\n",
       "      <td>1942.0</td>\n",
       "      <td>3.0</td>\n",
       "      <td>1.0</td>\n",
       "      <td>107.0</td>\n",
       "      <td>762.0</td>\n",
       "      <td>1.0</td>\n",
       "      <td>남자</td>\n",
       "      <td>77.0</td>\n",
       "    </tr>\n",
       "    <tr>\n",
       "      <th>3</th>\n",
       "      <td>1.0</td>\n",
       "      <td>1962.0</td>\n",
       "      <td>1.0</td>\n",
       "      <td>1.0</td>\n",
       "      <td>192.0</td>\n",
       "      <td>855.0</td>\n",
       "      <td>1.0</td>\n",
       "      <td>남자</td>\n",
       "      <td>57.0</td>\n",
       "    </tr>\n",
       "    <tr>\n",
       "      <th>4</th>\n",
       "      <td>2.0</td>\n",
       "      <td>1963.0</td>\n",
       "      <td>1.0</td>\n",
       "      <td>1.0</td>\n",
       "      <td>NaN</td>\n",
       "      <td>NaN</td>\n",
       "      <td>1.0</td>\n",
       "      <td>여자</td>\n",
       "      <td>56.0</td>\n",
       "    </tr>\n",
       "  </tbody>\n",
       "</table>\n",
       "</div>"
      ],
      "text/plain": [
       "   gender   birth  marriage_type  religion  income  code_job  code_region  \\\n",
       "0     2.0  1945.0            2.0       1.0     NaN       NaN          1.0   \n",
       "1     1.0  1948.0            2.0       2.0     NaN       NaN          1.0   \n",
       "2     1.0  1942.0            3.0       1.0   107.0     762.0          1.0   \n",
       "3     1.0  1962.0            1.0       1.0   192.0     855.0          1.0   \n",
       "4     2.0  1963.0            1.0       1.0     NaN       NaN          1.0   \n",
       "\n",
       "  gender2   age  \n",
       "0      여자  74.0  \n",
       "1      남자  71.0  \n",
       "2      남자  77.0  \n",
       "3      남자  57.0  \n",
       "4      여자  56.0  "
      ]
     },
     "execution_count": 5,
     "metadata": {},
     "output_type": "execute_result"
    }
   ],
   "source": [
    "# welfare['birth'] > 'age'\n",
    "welfare['age'] = 2019 - welfare['birth']\n",
    "welfare.head()"
   ]
  },
  {
   "cell_type": "code",
   "execution_count": 6,
   "id": "13beab17",
   "metadata": {
    "tags": []
   },
   "outputs": [
    {
     "data": {
      "text/html": [
       "<div>\n",
       "<style scoped>\n",
       "    .dataframe tbody tr th:only-of-type {\n",
       "        vertical-align: middle;\n",
       "    }\n",
       "\n",
       "    .dataframe tbody tr th {\n",
       "        vertical-align: top;\n",
       "    }\n",
       "\n",
       "    .dataframe thead th {\n",
       "        text-align: right;\n",
       "    }\n",
       "</style>\n",
       "<table border=\"1\" class=\"dataframe\">\n",
       "  <thead>\n",
       "    <tr style=\"text-align: right;\">\n",
       "      <th></th>\n",
       "      <th>gender</th>\n",
       "      <th>birth</th>\n",
       "      <th>marriage_type</th>\n",
       "      <th>religion</th>\n",
       "      <th>income</th>\n",
       "      <th>code_job</th>\n",
       "      <th>code_region</th>\n",
       "      <th>gender2</th>\n",
       "      <th>age</th>\n",
       "      <th>age_group</th>\n",
       "    </tr>\n",
       "  </thead>\n",
       "  <tbody>\n",
       "    <tr>\n",
       "      <th>0</th>\n",
       "      <td>2.0</td>\n",
       "      <td>1945.0</td>\n",
       "      <td>2.0</td>\n",
       "      <td>1.0</td>\n",
       "      <td>NaN</td>\n",
       "      <td>NaN</td>\n",
       "      <td>1.0</td>\n",
       "      <td>여자</td>\n",
       "      <td>74.0</td>\n",
       "      <td>old</td>\n",
       "    </tr>\n",
       "    <tr>\n",
       "      <th>1</th>\n",
       "      <td>1.0</td>\n",
       "      <td>1948.0</td>\n",
       "      <td>2.0</td>\n",
       "      <td>2.0</td>\n",
       "      <td>NaN</td>\n",
       "      <td>NaN</td>\n",
       "      <td>1.0</td>\n",
       "      <td>남자</td>\n",
       "      <td>71.0</td>\n",
       "      <td>old</td>\n",
       "    </tr>\n",
       "    <tr>\n",
       "      <th>2</th>\n",
       "      <td>1.0</td>\n",
       "      <td>1942.0</td>\n",
       "      <td>3.0</td>\n",
       "      <td>1.0</td>\n",
       "      <td>107.0</td>\n",
       "      <td>762.0</td>\n",
       "      <td>1.0</td>\n",
       "      <td>남자</td>\n",
       "      <td>77.0</td>\n",
       "      <td>old</td>\n",
       "    </tr>\n",
       "    <tr>\n",
       "      <th>3</th>\n",
       "      <td>1.0</td>\n",
       "      <td>1962.0</td>\n",
       "      <td>1.0</td>\n",
       "      <td>1.0</td>\n",
       "      <td>192.0</td>\n",
       "      <td>855.0</td>\n",
       "      <td>1.0</td>\n",
       "      <td>남자</td>\n",
       "      <td>57.0</td>\n",
       "      <td>senior</td>\n",
       "    </tr>\n",
       "    <tr>\n",
       "      <th>4</th>\n",
       "      <td>2.0</td>\n",
       "      <td>1963.0</td>\n",
       "      <td>1.0</td>\n",
       "      <td>1.0</td>\n",
       "      <td>NaN</td>\n",
       "      <td>NaN</td>\n",
       "      <td>1.0</td>\n",
       "      <td>여자</td>\n",
       "      <td>56.0</td>\n",
       "      <td>senior</td>\n",
       "    </tr>\n",
       "  </tbody>\n",
       "</table>\n",
       "</div>"
      ],
      "text/plain": [
       "   gender   birth  marriage_type  religion  income  code_job  code_region  \\\n",
       "0     2.0  1945.0            2.0       1.0     NaN       NaN          1.0   \n",
       "1     1.0  1948.0            2.0       2.0     NaN       NaN          1.0   \n",
       "2     1.0  1942.0            3.0       1.0   107.0     762.0          1.0   \n",
       "3     1.0  1962.0            1.0       1.0   192.0     855.0          1.0   \n",
       "4     2.0  1963.0            1.0       1.0     NaN       NaN          1.0   \n",
       "\n",
       "  gender2   age age_group  \n",
       "0      여자  74.0       old  \n",
       "1      남자  71.0       old  \n",
       "2      남자  77.0       old  \n",
       "3      남자  57.0    senior  \n",
       "4      여자  56.0    senior  "
      ]
     },
     "execution_count": 6,
     "metadata": {},
     "output_type": "execute_result"
    }
   ],
   "source": [
    "def age_convert(x):\n",
    "    if x <= 19:\n",
    "        return 'teenager'\n",
    "    elif x <= 40:\n",
    "        return 'young'\n",
    "    elif x <= 65:\n",
    "        return 'senior'\n",
    "    else:\n",
    "        return 'old'\n",
    "    \n",
    "welfare['age_group'] = welfare['age'].apply(age_convert)\n",
    "welfare.head()"
   ]
  },
  {
   "cell_type": "code",
   "execution_count": 7,
   "id": "09151213",
   "metadata": {
    "tags": []
   },
   "outputs": [
    {
     "data": {
      "text/plain": [
       "gender2  age_group\n",
       "남자       old          127.028112\n",
       "         senior       414.332013\n",
       "         teenager     156.750000\n",
       "         young        314.990956\n",
       "여자       old           59.756219\n",
       "         senior       208.534949\n",
       "         teenager      87.666667\n",
       "         young        221.883963\n",
       "Name: income, dtype: float64"
      ]
     },
     "execution_count": 7,
     "metadata": {},
     "output_type": "execute_result"
    }
   ],
   "source": [
    "# 3.2.1. 성별에 따른 임금 차이가 날까? (남녀 임금이 다를까?)\n",
    "welfare.groupby(['gender2', 'age_group'])['income'].mean()"
   ]
  },
  {
   "cell_type": "code",
   "execution_count": 8,
   "id": "17c6d995",
   "metadata": {
    "tags": []
   },
   "outputs": [
    {
     "name": "stderr",
     "output_type": "stream",
     "text": [
      "C:\\Users\\KEI\\anaconda3\\Lib\\site-packages\\seaborn\\algorithms.py:98: RuntimeWarning: Mean of empty slice\n",
      "  boot_dist.append(f(*sample, **func_kwargs))\n"
     ]
    },
    {
     "data": {
      "text/plain": [
       "<Axes: xlabel='gender2', ylabel='income'>"
      ]
     },
     "execution_count": 8,
     "metadata": {},
     "output_type": "execute_result"
    },
    {
     "data": {
      "image/png": "[encoded data removed]",
      "text/plain": [
       "<Figure size 400x400 with 1 Axes>"
      ]
     },
     "metadata": {},
     "output_type": "display_data"
    }
   ],
   "source": [
    "import seaborn as sns\n",
    "# 막대그래프 (평균 비교)\n",
    "plt.figure(figsize=(4,4))\n",
    "sns.barplot(data = welfare, x = 'gender2', y = 'income', hue = 'age_group')"
   ]
  },
  {
   "cell_type": "code",
   "execution_count": 9,
   "id": "753fd505",
   "metadata": {
    "tags": []
   },
   "outputs": [
    {
     "name": "stderr",
     "output_type": "stream",
     "text": [
      "C:\\Users\\KEI\\anaconda3\\Lib\\site-packages\\seaborn\\algorithms.py:98: RuntimeWarning: Mean of empty slice\n",
      "  boot_dist.append(f(*sample, **func_kwargs))\n"
     ]
    },
    {
     "data": {
      "text/plain": [
       "<Axes: xlabel='age_group', ylabel='income'>"
      ]
     },
     "execution_count": 9,
     "metadata": {},
     "output_type": "execute_result"
    },
    {
     "data": {
      "image/png": "[encoded data removed]",
      "text/plain": [
       "<Figure size 400x400 with 1 Axes>"
      ]
     },
     "metadata": {},
     "output_type": "display_data"
    }
   ],
   "source": [
    "plt.figure(figsize=(4,4))\n",
    "sns.barplot(data = welfare, x = 'age_group', y = 'income', hue = 'gender2')"
   ]
  },
  {
   "cell_type": "code",
   "execution_count": 11,
   "id": "b87e23e9",
   "metadata": {
    "tags": []
   },
   "outputs": [
    {
     "data": {
      "text/plain": [
       "Index([    0,     7,     8,    12,    19,    21,    37,    45,    50,    52,\n",
       "       ...\n",
       "       14384, 14391, 14393, 14395, 14397, 14400, 14405, 14406, 14408, 14409],\n",
       "      dtype='int64', length=2881)"
      ]
     },
     "execution_count": 11,
     "metadata": {},
     "output_type": "execute_result"
    }
   ],
   "source": [
    "welfare.groupby(['gender2', 'age_group'])['income'].groups[('여자', 'old')]"
   ]
  },
  {
   "cell_type": "code",
   "execution_count": 12,
   "id": "28fc4cef",
   "metadata": {
    "tags": []
   },
   "outputs": [],
   "source": [
    "# 집단 나누고 정규성 독립성 등분산성\n",
    "m_young = welfare.groupby(['gender2', 'age_group'])['income'].get_group(  ('남자', 'young')   )\n",
    "f_young = welfare.groupby(['gender2', 'age_group'])['income'].get_group(  ('여자', 'young')   )"
   ]
  },
  {
   "cell_type": "code",
   "execution_count": 13,
   "id": "32228962",
   "metadata": {
    "tags": []
   },
   "outputs": [
    {
     "name": "stdout",
     "output_type": "stream",
     "text": [
      "ShapiroResult(statistic=0.894019365310669, pvalue=1.175439983014034e-22)\n",
      "ShapiroResult(statistic=0.9306203126907349, pvalue=2.282513703677546e-18)\n"
     ]
    }
   ],
   "source": [
    "from scipy import stats\n",
    "\n",
    "print(stats.shapiro(m_young.dropna()))\n",
    "print(stats.shapiro(f_young.dropna()))"
   ]
  },
  {
   "cell_type": "code",
   "execution_count": 14,
   "id": "cdbbdcc9",
   "metadata": {
    "tags": []
   },
   "outputs": [
    {
     "data": {
      "text/plain": [
       "MannwhitneyuResult(statistic=418719.0, pvalue=2.8767318252485324e-44)"
      ]
     },
     "execution_count": 14,
     "metadata": {},
     "output_type": "execute_result"
    }
   ],
   "source": [
    "stats.mannwhitneyu(m_young.dropna(), f_young.dropna())"
   ]
  },
  {
   "cell_type": "code",
   "execution_count": 15,
   "id": "c5067780",
   "metadata": {
    "tags": []
   },
   "outputs": [
    {
     "data": {
      "text/plain": [
       "<Axes: xlabel='age', ylabel='income'>"
      ]
     },
     "execution_count": 15,
     "metadata": {},
     "output_type": "execute_result"
    },
    {
     "data": {
      "image/png": "[encoded data removed]",
      "text/plain": [
       "<Figure size 400x200 with 1 Axes>"
      ]
     },
     "metadata": {},
     "output_type": "display_data"
    }
   ],
   "source": [
    "# hue : 범주형\n",
    "# 성별(범주)과 나이(수치)와 임금(수치)\n",
    "\n",
    "sns.scatterplot(data = welfare, x = 'age', y = 'income', hue = 'gender2')"
   ]
  },
  {
   "cell_type": "code",
   "execution_count": 16,
   "id": "ca79c9e5",
   "metadata": {
    "tags": []
   },
   "outputs": [
    {
     "data": {
      "text/plain": [
       "<Axes: xlabel='age', ylabel='income'>"
      ]
     },
     "execution_count": 16,
     "metadata": {},
     "output_type": "execute_result"
    },
    {
     "data": {
      "image/png": "[encoded data removed]",
      "text/plain": [
       "<Figure size 400x200 with 1 Axes>"
      ]
     },
     "metadata": {},
     "output_type": "display_data"
    }
   ],
   "source": [
    "sns.lineplot(data = welfare, x = 'age', y = 'income', hue = 'gender2')"
   ]
  },
  {
   "cell_type": "markdown",
   "id": "7d8a3d63",
   "metadata": {},
   "source": [
    "* 3.2.5. 지역에 따라 임금 차이가 날까? (수도권이 비수도권보다 임금이 높을까?)\n"
   ]
  },
  {
   "cell_type": "code",
   "execution_count": 17,
   "id": "f484a811",
   "metadata": {
    "tags": []
   },
   "outputs": [
    {
     "data": {
      "text/html": [
       "<div>\n",
       "<style scoped>\n",
       "    .dataframe tbody tr th:only-of-type {\n",
       "        vertical-align: middle;\n",
       "    }\n",
       "\n",
       "    .dataframe tbody tr th {\n",
       "        vertical-align: top;\n",
       "    }\n",
       "\n",
       "    .dataframe thead th {\n",
       "        text-align: right;\n",
       "    }\n",
       "</style>\n",
       "<table border=\"1\" class=\"dataframe\">\n",
       "  <thead>\n",
       "    <tr style=\"text-align: right;\">\n",
       "      <th></th>\n",
       "      <th>gender</th>\n",
       "      <th>birth</th>\n",
       "      <th>marriage_type</th>\n",
       "      <th>religion</th>\n",
       "      <th>income</th>\n",
       "      <th>code_job</th>\n",
       "      <th>code_region</th>\n",
       "      <th>gender2</th>\n",
       "      <th>age</th>\n",
       "      <th>age_group</th>\n",
       "      <th>region</th>\n",
       "    </tr>\n",
       "  </thead>\n",
       "  <tbody>\n",
       "    <tr>\n",
       "      <th>0</th>\n",
       "      <td>2.0</td>\n",
       "      <td>1945.0</td>\n",
       "      <td>2.0</td>\n",
       "      <td>1.0</td>\n",
       "      <td>NaN</td>\n",
       "      <td>NaN</td>\n",
       "      <td>1.0</td>\n",
       "      <td>여자</td>\n",
       "      <td>74.0</td>\n",
       "      <td>old</td>\n",
       "      <td>수도권</td>\n",
       "    </tr>\n",
       "    <tr>\n",
       "      <th>1</th>\n",
       "      <td>1.0</td>\n",
       "      <td>1948.0</td>\n",
       "      <td>2.0</td>\n",
       "      <td>2.0</td>\n",
       "      <td>NaN</td>\n",
       "      <td>NaN</td>\n",
       "      <td>1.0</td>\n",
       "      <td>남자</td>\n",
       "      <td>71.0</td>\n",
       "      <td>old</td>\n",
       "      <td>수도권</td>\n",
       "    </tr>\n",
       "    <tr>\n",
       "      <th>2</th>\n",
       "      <td>1.0</td>\n",
       "      <td>1942.0</td>\n",
       "      <td>3.0</td>\n",
       "      <td>1.0</td>\n",
       "      <td>107.0</td>\n",
       "      <td>762.0</td>\n",
       "      <td>1.0</td>\n",
       "      <td>남자</td>\n",
       "      <td>77.0</td>\n",
       "      <td>old</td>\n",
       "      <td>수도권</td>\n",
       "    </tr>\n",
       "    <tr>\n",
       "      <th>3</th>\n",
       "      <td>1.0</td>\n",
       "      <td>1962.0</td>\n",
       "      <td>1.0</td>\n",
       "      <td>1.0</td>\n",
       "      <td>192.0</td>\n",
       "      <td>855.0</td>\n",
       "      <td>1.0</td>\n",
       "      <td>남자</td>\n",
       "      <td>57.0</td>\n",
       "      <td>senior</td>\n",
       "      <td>수도권</td>\n",
       "    </tr>\n",
       "    <tr>\n",
       "      <th>4</th>\n",
       "      <td>2.0</td>\n",
       "      <td>1963.0</td>\n",
       "      <td>1.0</td>\n",
       "      <td>1.0</td>\n",
       "      <td>NaN</td>\n",
       "      <td>NaN</td>\n",
       "      <td>1.0</td>\n",
       "      <td>여자</td>\n",
       "      <td>56.0</td>\n",
       "      <td>senior</td>\n",
       "      <td>수도권</td>\n",
       "    </tr>\n",
       "  </tbody>\n",
       "</table>\n",
       "</div>"
      ],
      "text/plain": [
       "   gender   birth  marriage_type  religion  income  code_job  code_region  \\\n",
       "0     2.0  1945.0            2.0       1.0     NaN       NaN          1.0   \n",
       "1     1.0  1948.0            2.0       2.0     NaN       NaN          1.0   \n",
       "2     1.0  1942.0            3.0       1.0   107.0     762.0          1.0   \n",
       "3     1.0  1962.0            1.0       1.0   192.0     855.0          1.0   \n",
       "4     2.0  1963.0            1.0       1.0     NaN       NaN          1.0   \n",
       "\n",
       "  gender2   age age_group region  \n",
       "0      여자  74.0       old    수도권  \n",
       "1      남자  71.0       old    수도권  \n",
       "2      남자  77.0       old    수도권  \n",
       "3      남자  57.0    senior    수도권  \n",
       "4      여자  56.0    senior    수도권  "
      ]
     },
     "execution_count": 17,
     "metadata": {},
     "output_type": "execute_result"
    }
   ],
   "source": [
    "def region_convert(x):\n",
    "    if x <= 2:\n",
    "        return '수도권'\n",
    "    else:\n",
    "        return '비수도권'\n",
    "welfare['region'] = welfare['code_region'].apply(region_convert)\n",
    "welfare.head()"
   ]
  },
  {
   "cell_type": "code",
   "execution_count": 18,
   "id": "ff94ad4e",
   "metadata": {
    "tags": []
   },
   "outputs": [
    {
     "name": "stdout",
     "output_type": "stream",
     "text": [
      "ShapiroResult(statistic=0.8556293845176697, pvalue=3.9598172264583546e-39)\n",
      "ShapiroResult(statistic=0.8847554922103882, pvalue=4.070659934986448e-40)\n"
     ]
    }
   ],
   "source": [
    "c_income = welfare[welfare['region'] == '수도권']['income'].dropna()\n",
    "nc_income = welfare[welfare['region'] == '비수도권']['income'].dropna()\n",
    "\n",
    "print(stats.shapiro(c_income))\n",
    "print(stats.shapiro(nc_income))"
   ]
  },
  {
   "cell_type": "code",
   "execution_count": 19,
   "id": "b60afcd3",
   "metadata": {
    "tags": []
   },
   "outputs": [
    {
     "data": {
      "text/plain": [
       "MannwhitneyuResult(statistic=2693902.5, pvalue=0.00010044798958351874)"
      ]
     },
     "execution_count": 19,
     "metadata": {},
     "output_type": "execute_result"
    }
   ],
   "source": [
    "stats.mannwhitneyu(c_income, nc_income)"
   ]
  },
  {
   "cell_type": "code",
   "execution_count": 20,
   "id": "b10b3a5a",
   "metadata": {
    "tags": []
   },
   "outputs": [
    {
     "data": {
      "text/plain": [
       "<Axes: xlabel='region', ylabel='income'>"
      ]
     },
     "execution_count": 20,
     "metadata": {},
     "output_type": "execute_result"
    },
    {
     "data": {
      "image/png": "[encoded data removed]",
      "text/plain": [
       "<Figure size 400x200 with 1 Axes>"
      ]
     },
     "metadata": {},
     "output_type": "display_data"
    }
   ],
   "source": [
    "sns.barplot(data = welfare, x = 'region', y = 'income')"
   ]
  },
  {
   "cell_type": "markdown",
   "id": "14923c8b",
   "metadata": {},
   "source": [
    "* 3.2.7. 종교 유무에 따른 이혼율의 차이가 날까? (종교가 있으면 가정사에 문제가 있을까?)"
   ]
  },
  {
   "cell_type": "code",
   "execution_count": 21,
   "id": "104f06e3",
   "metadata": {
    "tags": []
   },
   "outputs": [
    {
     "data": {
      "text/html": [
       "<div>\n",
       "<style scoped>\n",
       "    .dataframe tbody tr th:only-of-type {\n",
       "        vertical-align: middle;\n",
       "    }\n",
       "\n",
       "    .dataframe tbody tr th {\n",
       "        vertical-align: top;\n",
       "    }\n",
       "\n",
       "    .dataframe thead th {\n",
       "        text-align: right;\n",
       "    }\n",
       "</style>\n",
       "<table border=\"1\" class=\"dataframe\">\n",
       "  <thead>\n",
       "    <tr style=\"text-align: right;\">\n",
       "      <th></th>\n",
       "      <th>gender</th>\n",
       "      <th>birth</th>\n",
       "      <th>marriage_type</th>\n",
       "      <th>religion</th>\n",
       "      <th>income</th>\n",
       "      <th>code_job</th>\n",
       "      <th>code_region</th>\n",
       "      <th>gender2</th>\n",
       "      <th>age</th>\n",
       "      <th>age_group</th>\n",
       "      <th>region</th>\n",
       "      <th>marriage</th>\n",
       "    </tr>\n",
       "  </thead>\n",
       "  <tbody>\n",
       "    <tr>\n",
       "      <th>0</th>\n",
       "      <td>2.0</td>\n",
       "      <td>1945.0</td>\n",
       "      <td>2.0</td>\n",
       "      <td>1.0</td>\n",
       "      <td>NaN</td>\n",
       "      <td>NaN</td>\n",
       "      <td>1.0</td>\n",
       "      <td>여자</td>\n",
       "      <td>74.0</td>\n",
       "      <td>old</td>\n",
       "      <td>수도권</td>\n",
       "      <td>기타</td>\n",
       "    </tr>\n",
       "    <tr>\n",
       "      <th>1</th>\n",
       "      <td>1.0</td>\n",
       "      <td>1948.0</td>\n",
       "      <td>2.0</td>\n",
       "      <td>2.0</td>\n",
       "      <td>NaN</td>\n",
       "      <td>NaN</td>\n",
       "      <td>1.0</td>\n",
       "      <td>남자</td>\n",
       "      <td>71.0</td>\n",
       "      <td>old</td>\n",
       "      <td>수도권</td>\n",
       "      <td>기타</td>\n",
       "    </tr>\n",
       "    <tr>\n",
       "      <th>2</th>\n",
       "      <td>1.0</td>\n",
       "      <td>1942.0</td>\n",
       "      <td>3.0</td>\n",
       "      <td>1.0</td>\n",
       "      <td>107.0</td>\n",
       "      <td>762.0</td>\n",
       "      <td>1.0</td>\n",
       "      <td>남자</td>\n",
       "      <td>77.0</td>\n",
       "      <td>old</td>\n",
       "      <td>수도권</td>\n",
       "      <td>이혼</td>\n",
       "    </tr>\n",
       "    <tr>\n",
       "      <th>3</th>\n",
       "      <td>1.0</td>\n",
       "      <td>1962.0</td>\n",
       "      <td>1.0</td>\n",
       "      <td>1.0</td>\n",
       "      <td>192.0</td>\n",
       "      <td>855.0</td>\n",
       "      <td>1.0</td>\n",
       "      <td>남자</td>\n",
       "      <td>57.0</td>\n",
       "      <td>senior</td>\n",
       "      <td>수도권</td>\n",
       "      <td>기혼</td>\n",
       "    </tr>\n",
       "    <tr>\n",
       "      <th>4</th>\n",
       "      <td>2.0</td>\n",
       "      <td>1963.0</td>\n",
       "      <td>1.0</td>\n",
       "      <td>1.0</td>\n",
       "      <td>NaN</td>\n",
       "      <td>NaN</td>\n",
       "      <td>1.0</td>\n",
       "      <td>여자</td>\n",
       "      <td>56.0</td>\n",
       "      <td>senior</td>\n",
       "      <td>수도권</td>\n",
       "      <td>기혼</td>\n",
       "    </tr>\n",
       "  </tbody>\n",
       "</table>\n",
       "</div>"
      ],
      "text/plain": [
       "   gender   birth  marriage_type  religion  income  code_job  code_region  \\\n",
       "0     2.0  1945.0            2.0       1.0     NaN       NaN          1.0   \n",
       "1     1.0  1948.0            2.0       2.0     NaN       NaN          1.0   \n",
       "2     1.0  1942.0            3.0       1.0   107.0     762.0          1.0   \n",
       "3     1.0  1962.0            1.0       1.0   192.0     855.0          1.0   \n",
       "4     2.0  1963.0            1.0       1.0     NaN       NaN          1.0   \n",
       "\n",
       "  gender2   age age_group region marriage  \n",
       "0      여자  74.0       old    수도권       기타  \n",
       "1      남자  71.0       old    수도권       기타  \n",
       "2      남자  77.0       old    수도권       이혼  \n",
       "3      남자  57.0    senior    수도권       기혼  \n",
       "4      여자  56.0    senior    수도권       기혼  "
      ]
     },
     "execution_count": 21,
     "metadata": {},
     "output_type": "execute_result"
    }
   ],
   "source": [
    "# 결혼유무\n",
    "def marriage_convert(x):\n",
    "    if (x == 0) or (x == 5):\n",
    "        return '미혼'\n",
    "    elif x == 1:\n",
    "        return '기혼'\n",
    "    elif (x == 2) or (x == 4) or (x == 6):\n",
    "        return '기타'\n",
    "    else:\n",
    "        return '이혼'\n",
    "    \n",
    "    \n",
    "welfare['marriage'] = welfare['marriage_type'].apply(marriage_convert)\n",
    "welfare.head()"
   ]
  },
  {
   "cell_type": "code",
   "execution_count": 23,
   "id": "82db875a",
   "metadata": {
    "tags": []
   },
   "outputs": [
    {
     "data": {
      "text/plain": [
       "Chi2ContingencyResult(statistic=5.6769927793878825, pvalue=0.01718880447200066, dof=1, expected_freq=array([[3499.63827897,  335.36172103],\n",
       "       [3690.36172103,  353.63827897]]))"
      ]
     },
     "execution_count": 23,
     "metadata": {},
     "output_type": "execute_result"
    }
   ],
   "source": [
    "# 카이제곱 - crosstab\n",
    "table = pd.crosstab(welfare['religion'], welfare['marriage'])[['기혼', '이혼']]\n",
    "stats.chi2_contingency(table)"
   ]
  },
  {
   "cell_type": "code",
   "execution_count": 24,
   "id": "56e61e0b",
   "metadata": {
    "tags": []
   },
   "outputs": [
    {
     "data": {
      "text/plain": [
       "<Axes: xlabel='religion', ylabel='count'>"
      ]
     },
     "execution_count": 24,
     "metadata": {},
     "output_type": "execute_result"
    },
    {
     "data": {
      "image/png": "[encoded data removed]",
      "text/plain": [
       "<Figure size 400x200 with 1 Axes>"
      ]
     },
     "metadata": {},
     "output_type": "display_data"
    }
   ],
   "source": [
    "sns.countplot(data = welfare, x = 'religion', hue = 'marriage')"
   ]
  },
  {
   "cell_type": "markdown",
   "id": "2f767c88",
   "metadata": {},
   "source": [
    "* 3.2.6. 남여에 따라 선호 직업에 차이가 날까? (남녀별로 어떤 직업이 선호도가 높을까?)\n",
    "* 선호 - 빈도수가 높은"
   ]
  },
  {
   "cell_type": "code",
   "execution_count": 25,
   "id": "463a4d24",
   "metadata": {
    "tags": []
   },
   "outputs": [],
   "source": [
    "code_job = pd.read_csv('../data/Koweps_code_job_2019.csv', encoding='euc-kr')\n",
    "welfare = welfare.merge(code_job, on = 'code_job', how='left')"
   ]
  },
  {
   "cell_type": "code",
   "execution_count": 51,
   "id": "f3005df8",
   "metadata": {},
   "outputs": [
    {
     "data": {
      "text/plain": [
       "job\n",
       "작물 재배 종사자         486\n",
       "자동차 운전원           230\n",
       "경영 관련 사무원         216\n",
       "매장 판매 종사자         142\n",
       "영업 종사자            113\n",
       "청소원 및 환경미화원       109\n",
       "건설 및 광업 단순 종사자     96\n",
       "제조 관련 단순 종사자       80\n",
       "건물 관리원 및 검표원       79\n",
       "행정 사무원             74\n",
       "Name: count, dtype: int64"
      ]
     },
     "execution_count": 51,
     "metadata": {},
     "output_type": "execute_result"
    }
   ],
   "source": [
    "male = welfare.groupby('gender2').get_group('남자').value_counts('job').head(10)\n",
    "male"
   ]
  },
  {
   "cell_type": "code",
   "execution_count": 52,
   "id": "d26b79c3",
   "metadata": {},
   "outputs": [
    {
     "data": {
      "text/plain": [
       "job\n",
       "작물 재배 종사자           476\n",
       "청소원 및 환경미화원         282\n",
       "매장 판매 종사자           212\n",
       "회계 및 경리 사무원         163\n",
       "돌봄 및 보건 서비스 종사자     155\n",
       "제조 관련 단순 종사자        148\n",
       "음식 관련 단순 종사자        126\n",
       "식음료 서비스 종사자         117\n",
       "조리사                 114\n",
       "기타 서비스 관련 단순 종사자     97\n",
       "Name: count, dtype: int64"
      ]
     },
     "execution_count": 52,
     "metadata": {},
     "output_type": "execute_result"
    }
   ],
   "source": [
    "female = welfare.groupby('gender2').get_group('여자').value_counts('job').head(10)\n",
    "female"
   ]
  },
  {
   "cell_type": "code",
   "execution_count": 57,
   "id": "970b40bd",
   "metadata": {},
   "outputs": [
    {
     "data": {
      "text/plain": [
       "<BarContainer object of 10 artists>"
      ]
     },
     "execution_count": 57,
     "metadata": {},
     "output_type": "execute_result"
    },
    {
     "data": {
      "image/png": "[encoded data removed]",
      "text/plain": [
       "<Figure size 400x200 with 1 Axes>"
      ]
     },
     "metadata": {},
     "output_type": "display_data"
    }
   ],
   "source": [
    "plt.barh(y = male.index, width= male.values)"
   ]
  },
  {
   "cell_type": "code",
   "execution_count": 60,
   "id": "455842c5",
   "metadata": {},
   "outputs": [
    {
     "data": {
      "image/png": "[encoded data removed]",
      "text/plain": [
       "<Figure size 600x200 with 2 Axes>"
      ]
     },
     "metadata": {},
     "output_type": "display_data"
    }
   ],
   "source": [
    "plt.figure(figsize=(6,2))\n",
    "plt.subplot(1,2,1)\n",
    "sns.barplot(x = male.values, y = male.index)\n",
    "plt.title('남성')\n",
    "plt.subplot(1,2,2)\n",
    "sns.barplot(x = female.values, y = female.index)\n",
    "plt.title('여성')\n",
    "plt.tight_layout()"
   ]
  },
  {
   "cell_type": "markdown",
   "id": "45f6aa99",
   "metadata": {},
   "source": [
    "* 해당 직업 코드\n",
    "    - 자동차 운전원 : 873\n",
    "    - 경영 관련 사무원 : 312\n",
    "    - 영업 종사자 : 510\n",
    "    - 청소원 및 환경미화원 : 941\n",
    "    - 회계 및 경리 사무원 : 313\n",
    "    - 돌봄 및 보건 서비스 종사자 : 421"
   ]
  },
  {
   "cell_type": "code",
   "execution_count": 62,
   "id": "09e2e727",
   "metadata": {},
   "outputs": [],
   "source": [
    "jobs = welfare[welfare['code_job'].isin([873, 312, 510, 941, 313, 421])]"
   ]
  },
  {
   "cell_type": "code",
   "execution_count": 65,
   "id": "8d8ac28c",
   "metadata": {},
   "outputs": [
    {
     "data": {
      "text/plain": [
       "<Axes: xlabel='income', ylabel='job'>"
      ]
     },
     "execution_count": 65,
     "metadata": {},
     "output_type": "execute_result"
    },
    {
     "data": {
      "image/png": "[encoded data removed]",
      "text/plain": [
       "<Figure size 400x200 with 1 Axes>"
      ]
     },
     "metadata": {},
     "output_type": "display_data"
    }
   ],
   "source": [
    "# jobs['job'] : 범주형   jobs['income'] : 수치형 차이 확인\n",
    "sns.barplot(data = jobs, y = 'job', x = 'income')"
   ]
  },
  {
   "cell_type": "code",
   "execution_count": 90,
   "id": "142c3038",
   "metadata": {},
   "outputs": [],
   "source": [
    "# 작물 재배 종사자(611), 매장 판매 종사자(521) > 얘네의 데이터만 가져와서\n",
    "# 성별에 따른 임금차이 다시 분석\n",
    "job2 = welfare[welfare['code_job'].isin([611,521])]"
   ]
  },
  {
   "cell_type": "code",
   "execution_count": 91,
   "id": "6bf8fc01",
   "metadata": {},
   "outputs": [],
   "source": [
    "male = job2[job2['gender2'] == '남자']['income'].dropna()\n",
    "female = job2[job2['gender2'] == '여자']['income'].dropna()"
   ]
  },
  {
   "cell_type": "code",
   "execution_count": 92,
   "id": "a5f895aa",
   "metadata": {},
   "outputs": [
    {
     "name": "stdout",
     "output_type": "stream",
     "text": [
      "ShapiroResult(statistic=0.9640111923217773, pvalue=0.06237751245498657)\n",
      "ShapiroResult(statistic=0.9395403861999512, pvalue=0.00010531576845096424)\n"
     ]
    }
   ],
   "source": [
    "print(stats.shapiro(male))\n",
    "print(stats.shapiro(female))"
   ]
  },
  {
   "cell_type": "code",
   "execution_count": 93,
   "id": "e9937314",
   "metadata": {},
   "outputs": [
    {
     "data": {
      "text/plain": [
       "MannwhitneyuResult(statistic=4757.5, pvalue=7.650929066198753e-06)"
      ]
     },
     "execution_count": 93,
     "metadata": {},
     "output_type": "execute_result"
    }
   ],
   "source": [
    "stats.mannwhitneyu(male, female)"
   ]
  },
  {
   "cell_type": "code",
   "execution_count": 94,
   "id": "f9f81b0f",
   "metadata": {},
   "outputs": [
    {
     "data": {
      "text/plain": [
       "<Axes: xlabel='gender2', ylabel='income'>"
      ]
     },
     "execution_count": 94,
     "metadata": {},
     "output_type": "execute_result"
    },
    {
     "data": {
      "image/png": "[encoded data removed]",
      "text/plain": [
       "<Figure size 400x200 with 1 Axes>"
      ]
     },
     "metadata": {},
     "output_type": "display_data"
    }
   ],
   "source": [
    "sns.barplot(data = job2, x = 'gender2', y = 'income')"
   ]
  },
  {
   "cell_type": "code",
   "execution_count": 95,
   "id": "b37b7820",
   "metadata": {},
   "outputs": [
    {
     "name": "stdout",
     "output_type": "stream",
     "text": [
      "BartlettResult(statistic=6.753489492719074, pvalue=0.00935645199333627)\n",
      "LeveneResult(statistic=6.056500967168098, pvalue=0.014866196165702976)\n",
      "FlignerResult(statistic=6.610651718069066, pvalue=0.01013705557082485)\n"
     ]
    }
   ],
   "source": [
    "# 만약에 모수검정이라고 했으면\n",
    "# male, female 집단이 독립성 가진다.\n",
    "# ttest_ind > 등분산성(bartlett, levene, fligner)\n",
    "print(stats.bartlett(male, female))\n",
    "print(stats.levene(male, female))\n",
    "print(stats.fligner(male, female))"
   ]
  },
  {
   "cell_type": "code",
   "execution_count": 96,
   "id": "3018311b",
   "metadata": {},
   "outputs": [
    {
     "data": {
      "text/plain": [
       "TtestResult(statistic=4.568366080800213, pvalue=1.3665687859919496e-05, df=103.11887001101243)"
      ]
     },
     "execution_count": 96,
     "metadata": {},
     "output_type": "execute_result"
    }
   ],
   "source": [
    "# 등분산성 X\n",
    "stats.ttest_ind(male, female, equal_var=False)"
   ]
  },
  {
   "cell_type": "code",
   "execution_count": null,
   "id": "f9733232",
   "metadata": {},
   "outputs": [],
   "source": []
  }
 ],
 "metadata": {
  "kernelspec": {
   "display_name": "Python 3 (ipykernel)",
   "language": "python",
   "name": "python3"
  },
  "language_info": {
   "codemirror_mode": {
    "name": "ipython",
    "version": 3
   },
   "file_extension": ".py",
   "mimetype": "text/x-python",
   "name": "python",
   "nbconvert_exporter": "python",
   "pygments_lexer": "ipython3",
   "version": "3.11.5"
  }
 },
 "nbformat": 4,
 "nbformat_minor": 5
}
