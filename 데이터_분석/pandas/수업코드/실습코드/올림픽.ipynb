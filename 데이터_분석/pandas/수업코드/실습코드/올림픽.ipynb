{
 "cells": [
  {
   "cell_type": "markdown",
   "metadata": {
    "id": "q-OINdKMaN3v"
   },
   "source": [
    "### Step 1. 필요한 라이브러리 임포트"
   ]
  },
  {
   "cell_type": "code",
   "execution_count": null,
   "metadata": {
    "id": "hFLaRiJWaN3w"
   },
   "outputs": [],
   "source": [
    "import pandas as pd"
   ]
  },
  {
   "cell_type": "markdown",
   "metadata": {
    "id": "NQdg8JT1aN3z"
   },
   "source": [
    "### Step 2. [데이터](https://raw.githubusercontent.com/Datamanim/pandas/main/winter.csv) 확인\n",
    "\n",
    "- Year : 년도\n",
    "- City : 개최국\n",
    "- Sport : 종목\n",
    "- Discipline : 분야\n",
    "- Athlete : 운동선수\n",
    "- Country : 소속나라\n",
    "- Gender : 성별\n",
    "- Event : 종류\n",
    "- Medal : 메달정보"
   ]
  },
  {
   "cell_type": "markdown",
   "metadata": {
    "id": "4aqeW1J4aN30"
   },
   "source": [
    "### Step 3. 데이터 불러오기\n",
    "\n",
    "\n",
    "**read_csv를 통해 데이터를 올바른 형태로 불러온 뒤 df에 저장해주세요**  \n",
    "data: winter.csv"
   ]
  },
  {
   "cell_type": "code",
   "execution_count": null,
   "metadata": {},
   "outputs": [],
   "source": []
  },
  {
   "cell_type": "markdown",
   "metadata": {
    "id": "hpePQfkr8Hcm"
   },
   "source": [
    "### Step 4. 데이터 확인하기\n",
    "info를 사용하여 확인해주세요"
   ]
  },
  {
   "cell_type": "code",
   "execution_count": null,
   "metadata": {
    "id": "tBvsS5ol8Hcm"
   },
   "outputs": [],
   "source": []
  },
  {
   "cell_type": "markdown",
   "metadata": {
    "id": "iun_5opxaN33"
   },
   "source": [
    "### Step 5. 데이터에서 한국 KOR 데이터만 추출해주세요."
   ]
  },
  {
   "cell_type": "code",
   "execution_count": null,
   "metadata": {
    "id": "oqPlZae58Hcn"
   },
   "outputs": [],
   "source": []
  },
  {
   "cell_type": "markdown",
   "metadata": {
    "id": "A2vhvr478Hcn"
   },
   "source": [
    "### Step 6. 한국 올림픽 메달리스트 데이터에서 년도에 따른 medal 갯수를 데이터프레임화하세요.\n",
    "* 메달이 없으면 0으로 나오게 하세요."
   ]
  },
  {
   "cell_type": "code",
   "execution_count": null,
   "metadata": {
    "id": "wZBqaw6L8Hcn",
    "scrolled": false
   },
   "outputs": [],
   "source": []
  },
  {
   "cell_type": "markdown",
   "metadata": {
    "id": "BGGxNUxk8Hcn"
   },
   "source": [
    "### Step 7. 전체 데이터에서 sport종류에 따른 성별수를 구하세요."
   ]
  },
  {
   "cell_type": "code",
   "execution_count": null,
   "metadata": {
    "id": "v9ooqVQk8Hco",
    "scrolled": false
   },
   "outputs": [],
   "source": []
  },
  {
   "cell_type": "markdown",
   "metadata": {
    "id": "Yqk30COi8Hco"
   },
   "source": [
    "### Step 8. 전체 데이터에서 Discipline종류에 따른 따른 Medal수를 구하세요."
   ]
  },
  {
   "cell_type": "code",
   "execution_count": null,
   "metadata": {
    "id": "RocOSz1R8Hco"
   },
   "outputs": [],
   "source": []
  },
  {
   "cell_type": "markdown",
   "metadata": {},
   "source": [
    "### Step 9. 한국 올림픽 데이터에서 금메달을 가장 많이 획득한 Discipline와 Event의 종류를 구하세요."
   ]
  },
  {
   "cell_type": "code",
   "execution_count": null,
   "metadata": {},
   "outputs": [],
   "source": []
  }
 ],
 "metadata": {
  "anaconda-cloud": {},
  "colab": {
   "provenance": []
  },
  "kernelspec": {
   "display_name": "Python 3 (ipykernel)",
   "language": "python",
   "name": "python3"
  },
  "language_info": {
   "codemirror_mode": {
    "name": "ipython",
    "version": 3
   },
   "file_extension": ".py",
   "mimetype": "text/x-python",
   "name": "python",
   "nbconvert_exporter": "python",
   "pygments_lexer": "ipython3",
   "version": "3.11.5"
  }
 },
 "nbformat": 4,
 "nbformat_minor": 1
}
