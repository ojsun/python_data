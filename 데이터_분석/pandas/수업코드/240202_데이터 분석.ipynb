{
 "cells": [
  {
   "cell_type": "code",
   "execution_count": 3,
   "id": "99dda413",
   "metadata": {},
   "outputs": [
    {
     "data": {
      "text/html": [
       "<div>\n",
       "<style scoped>\n",
       "    .dataframe tbody tr th:only-of-type {\n",
       "        vertical-align: middle;\n",
       "    }\n",
       "\n",
       "    .dataframe tbody tr th {\n",
       "        vertical-align: top;\n",
       "    }\n",
       "\n",
       "    .dataframe thead th {\n",
       "        text-align: right;\n",
       "    }\n",
       "</style>\n",
       "<table border=\"1\" class=\"dataframe\">\n",
       "  <thead>\n",
       "    <tr style=\"text-align: right;\">\n",
       "      <th></th>\n",
       "      <th>PassengerId</th>\n",
       "      <th>Survived</th>\n",
       "      <th>Pclass</th>\n",
       "      <th>Name</th>\n",
       "      <th>Sex</th>\n",
       "      <th>Age</th>\n",
       "      <th>SibSp</th>\n",
       "      <th>Parch</th>\n",
       "      <th>Ticket</th>\n",
       "      <th>Fare</th>\n",
       "      <th>Cabin</th>\n",
       "      <th>Embarked</th>\n",
       "    </tr>\n",
       "  </thead>\n",
       "  <tbody>\n",
       "    <tr>\n",
       "      <th>0</th>\n",
       "      <td>1</td>\n",
       "      <td>0</td>\n",
       "      <td>3</td>\n",
       "      <td>Braund, Mr. Owen Harris</td>\n",
       "      <td>male</td>\n",
       "      <td>22.0</td>\n",
       "      <td>1</td>\n",
       "      <td>0</td>\n",
       "      <td>A/5 21171</td>\n",
       "      <td>7.2500</td>\n",
       "      <td>NaN</td>\n",
       "      <td>S</td>\n",
       "    </tr>\n",
       "    <tr>\n",
       "      <th>1</th>\n",
       "      <td>2</td>\n",
       "      <td>1</td>\n",
       "      <td>1</td>\n",
       "      <td>Cumings, Mrs. John Bradley (Florence Briggs Th...</td>\n",
       "      <td>female</td>\n",
       "      <td>38.0</td>\n",
       "      <td>1</td>\n",
       "      <td>0</td>\n",
       "      <td>PC 17599</td>\n",
       "      <td>71.2833</td>\n",
       "      <td>C85</td>\n",
       "      <td>C</td>\n",
       "    </tr>\n",
       "    <tr>\n",
       "      <th>2</th>\n",
       "      <td>3</td>\n",
       "      <td>1</td>\n",
       "      <td>3</td>\n",
       "      <td>Heikkinen, Miss. Laina</td>\n",
       "      <td>female</td>\n",
       "      <td>26.0</td>\n",
       "      <td>0</td>\n",
       "      <td>0</td>\n",
       "      <td>STON/O2. 3101282</td>\n",
       "      <td>7.9250</td>\n",
       "      <td>NaN</td>\n",
       "      <td>S</td>\n",
       "    </tr>\n",
       "    <tr>\n",
       "      <th>3</th>\n",
       "      <td>4</td>\n",
       "      <td>1</td>\n",
       "      <td>1</td>\n",
       "      <td>Futrelle, Mrs. Jacques Heath (Lily May Peel)</td>\n",
       "      <td>female</td>\n",
       "      <td>35.0</td>\n",
       "      <td>1</td>\n",
       "      <td>0</td>\n",
       "      <td>113803</td>\n",
       "      <td>53.1000</td>\n",
       "      <td>C123</td>\n",
       "      <td>S</td>\n",
       "    </tr>\n",
       "    <tr>\n",
       "      <th>4</th>\n",
       "      <td>5</td>\n",
       "      <td>0</td>\n",
       "      <td>3</td>\n",
       "      <td>Allen, Mr. William Henry</td>\n",
       "      <td>male</td>\n",
       "      <td>35.0</td>\n",
       "      <td>0</td>\n",
       "      <td>0</td>\n",
       "      <td>373450</td>\n",
       "      <td>8.0500</td>\n",
       "      <td>NaN</td>\n",
       "      <td>S</td>\n",
       "    </tr>\n",
       "  </tbody>\n",
       "</table>\n",
       "</div>"
      ],
      "text/plain": [
       "   PassengerId  Survived  Pclass  \\\n",
       "0            1         0       3   \n",
       "1            2         1       1   \n",
       "2            3         1       3   \n",
       "3            4         1       1   \n",
       "4            5         0       3   \n",
       "\n",
       "                                                Name     Sex   Age  SibSp  \\\n",
       "0                            Braund, Mr. Owen Harris    male  22.0      1   \n",
       "1  Cumings, Mrs. John Bradley (Florence Briggs Th...  female  38.0      1   \n",
       "2                             Heikkinen, Miss. Laina  female  26.0      0   \n",
       "3       Futrelle, Mrs. Jacques Heath (Lily May Peel)  female  35.0      1   \n",
       "4                           Allen, Mr. William Henry    male  35.0      0   \n",
       "\n",
       "   Parch            Ticket     Fare Cabin Embarked  \n",
       "0      0         A/5 21171   7.2500   NaN        S  \n",
       "1      0          PC 17599  71.2833   C85        C  \n",
       "2      0  STON/O2. 3101282   7.9250   NaN        S  \n",
       "3      0            113803  53.1000  C123        S  \n",
       "4      0            373450   8.0500   NaN        S  "
      ]
     },
     "execution_count": 3,
     "metadata": {},
     "output_type": "execute_result"
    }
   ],
   "source": [
    "import pandas as pd\n",
    "\n",
    "titanic = pd.read_csv('../data/titanic.csv')\n",
    "titanic.head()"
   ]
  },
  {
   "cell_type": "code",
   "execution_count": 4,
   "id": "0b31d611",
   "metadata": {},
   "outputs": [
    {
     "data": {
      "text/plain": [
       "count    714.000000\n",
       "mean      29.699118\n",
       "std       14.526497\n",
       "min        0.420000\n",
       "25%       20.125000\n",
       "50%       28.000000\n",
       "75%       38.000000\n",
       "max       80.000000\n",
       "Name: Age, dtype: float64"
      ]
     },
     "execution_count": 4,
     "metadata": {},
     "output_type": "execute_result"
    }
   ],
   "source": [
    "titanic['Age'].describe()"
   ]
  },
  {
   "cell_type": "code",
   "execution_count": 5,
   "id": "bdf998dd",
   "metadata": {},
   "outputs": [],
   "source": [
    "# 데이터 총 714개다, 누락값이 있다.\n",
    "# 평균 29.7이다. 표준편차가 14.5      \n",
    "# 대략 29.7 - 14.5 * 1.96 ~ 29.7 + 14.5 * 1.96 이 사이에 있다.\n",
    "# 최소값 0.42 어린애가 있구나, 최대값 80 노인도 있구나.\n",
    "# 평균 ~ 중앙값이랑 차이가 꽤 나면 값이 편향되어있구나.\n",
    "# 0 ~ 25 : 약 20, 25 ~ 50 : 약 8, 50 ~ 75 : 약 10, 75 ~ 100 : 약 42"
   ]
  },
  {
   "cell_type": "code",
   "execution_count": 6,
   "id": "87acc272",
   "metadata": {},
   "outputs": [
    {
     "data": {
      "text/plain": [
       "<Axes: xlabel='Age'>"
      ]
     },
     "execution_count": 6,
     "metadata": {},
     "output_type": "execute_result"
    },
    {
     "data": {
      "image/png": "[encoded data removed]",
      "text/plain": [
       "<Figure size 640x480 with 3 Axes>"
      ]
     },
     "metadata": {},
     "output_type": "display_data"
    }
   ],
   "source": [
    "import matplotlib.pyplot as plt\n",
    "import seaborn as sns\n",
    "plt.subplot(3,1,1)\n",
    "sns.histplot(data = titanic, x = 'Age')\n",
    "plt.subplot(3,1,2)\n",
    "sns.boxplot(data = titanic, x = 'Age')\n",
    "plt.subplot(3,1,3)\n",
    "sns.violinplot(data = titanic, x = 'Age')"
   ]
  },
  {
   "cell_type": "code",
   "execution_count": 9,
   "id": "78501e94",
   "metadata": {},
   "outputs": [
    {
     "data": {
      "text/plain": [
       "<Axes: ylabel='Count'>"
      ]
     },
     "execution_count": 9,
     "metadata": {},
     "output_type": "execute_result"
    },
    {
     "data": {
      "image/png": "[encoded data removed]",
      "text/plain": [
       "<Figure size 640x480 with 1 Axes>"
      ]
     },
     "metadata": {},
     "output_type": "display_data"
    }
   ],
   "source": [
    "import numpy as np\n",
    "\n",
    "arr = np.random.randn((5001))\n",
    "sns.histplot(arr, kde=True)"
   ]
  },
  {
   "cell_type": "code",
   "execution_count": 12,
   "id": "624afc49",
   "metadata": {},
   "outputs": [
    {
     "name": "stderr",
     "output_type": "stream",
     "text": [
      "C:\\Users\\admin\\anaconda3\\Lib\\site-packages\\scipy\\stats\\_morestats.py:1882: UserWarning: p-value may not be accurate for N > 5000.\n",
      "  warnings.warn(\"p-value may not be accurate for N > 5000.\")\n"
     ]
    },
    {
     "data": {
      "text/plain": [
       "ShapiroResult(statistic=0.9996957182884216, pvalue=0.6936493515968323)"
      ]
     },
     "execution_count": 12,
     "metadata": {},
     "output_type": "execute_result"
    }
   ],
   "source": [
    "stats.shapiro(arr)"
   ]
  },
  {
   "cell_type": "code",
   "execution_count": 11,
   "id": "78cd6669",
   "metadata": {},
   "outputs": [
    {
     "data": {
      "text/plain": [
       "ShapiroResult(statistic=0.5218917727470398, pvalue=1.0789998175301091e-43)"
      ]
     },
     "execution_count": 11,
     "metadata": {},
     "output_type": "execute_result"
    }
   ],
   "source": [
    "from scipy import stats\n",
    "stats.shapiro(titanic['Fare'])"
   ]
  },
  {
   "cell_type": "code",
   "execution_count": null,
   "id": "53a5d877",
   "metadata": {},
   "outputs": [],
   "source": [
    "stats.anderson(titanic['Fare'])"
   ]
  },
  {
   "cell_type": "code",
   "execution_count": null,
   "id": "07c5f331",
   "metadata": {},
   "outputs": [],
   "source": [
    "stats.anderson(arr)"
   ]
  },
  {
   "cell_type": "code",
   "execution_count": null,
   "id": "9db25e76",
   "metadata": {},
   "outputs": [],
   "source": [
    "print(titanic['Pclass'].value_counts())\n",
    "print(titanic['Pclass'].value_counts() / len(titanic['Pclass'])) "
   ]
  },
  {
   "cell_type": "code",
   "execution_count": null,
   "id": "4644ce3a",
   "metadata": {},
   "outputs": [],
   "source": [
    "p_cnt = titanic['Pclass'].value_counts()\n",
    "plt.figure(figsize = (7, 3))\n",
    "plt.subplot(1,2,1)\n",
    "sns.countplot(data = titanic, x = 'Pclass')\n",
    "plt.subplot(1,2,2)\n",
    "plt.pie(p_cnt.values, labels = p_cnt.index, autopct = '%.2f%%') "
   ]
  },
  {
   "cell_type": "code",
   "execution_count": null,
   "id": "f2c3fbc3",
   "metadata": {},
   "outputs": [],
   "source": [
    "# 이상치 판단\n",
    "# IQR\n",
    "IQR = titanic['Fare'].quantile(0.75) - titanic['Fare'].quantile(0.25)\n",
    "high_border = titanic['Fare'].quantile(0.75) + IQR * 1.5\n",
    "low_border = titanic['Fare'].quantile(0.25) - IQR * 1.5\n",
    "print(high_border, low_border)"
   ]
  },
  {
   "cell_type": "code",
   "execution_count": null,
   "id": "7896bbab",
   "metadata": {},
   "outputs": [],
   "source": [
    "titanic2 = titanic[(titanic['Fare'] < high_border) & (titanic['Fare'] > low_border)]\n",
    "plt.subplot(3,1,1)\n",
    "sns.histplot(data = titanic2, x = 'Fare')\n",
    "plt.subplot(3,1,2)\n",
    "sns.boxplot(data = titanic2, x = 'Fare')\n",
    "plt.subplot(3,1,3)\n",
    "sns.violinplot(data = titanic2, x = 'Fare')\n",
    "print(stats.shapiro(titanic2['Fare']))"
   ]
  },
  {
   "cell_type": "code",
   "execution_count": 15,
   "id": "91d5b472",
   "metadata": {},
   "outputs": [
    {
     "data": {
      "text/plain": [
       "0      0.502163\n",
       "1      0.786404\n",
       "2      0.488580\n",
       "3      0.420494\n",
       "4      0.486064\n",
       "         ...   \n",
       "886    0.386454\n",
       "887    0.044356\n",
       "888    0.176164\n",
       "889    0.044356\n",
       "890    0.492101\n",
       "Name: Fare, Length: 891, dtype: float64"
      ]
     },
     "execution_count": 15,
     "metadata": {},
     "output_type": "execute_result"
    }
   ],
   "source": [
    "import numpy as np\n",
    "z_score = np.abs(titanic['Fare'] - titanic['Fare'].mean()) / titanic['Fare'].std()\n",
    "z_score"
   ]
  },
  {
   "cell_type": "code",
   "execution_count": 14,
   "id": "fafd5b23",
   "metadata": {},
   "outputs": [
    {
     "name": "stdout",
     "output_type": "stream",
     "text": [
      "ShapiroResult(statistic=0.7434647083282471, pvalue=2.620056603482912e-34)\n"
     ]
    },
    {
     "data": {
      "image/png": "[encoded data removed]",
      "text/plain": [
       "<Figure size 640x480 with 3 Axes>"
      ]
     },
     "metadata": {},
     "output_type": "display_data"
    }
   ],
   "source": [
    "titanic3 = titanic[z_score < 2]\n",
    "plt.subplot(3,1,1)\n",
    "sns.histplot(data = titanic3, x = 'Fare')\n",
    "plt.subplot(3,1,2)\n",
    "sns.boxplot(data = titanic3, x = 'Fare')\n",
    "plt.subplot(3,1,3)\n",
    "sns.violinplot(data = titanic3, x = 'Fare')\n",
    "print(stats.shapiro(titanic3['Fare']))"
   ]
  },
  {
   "cell_type": "code",
   "execution_count": null,
   "id": "bd6c5385",
   "metadata": {},
   "outputs": [],
   "source": [
    "(512 - 32) / 49"
   ]
  },
  {
   "cell_type": "code",
   "execution_count": null,
   "id": "424b3f01",
   "metadata": {},
   "outputs": [],
   "source": []
  }
 ],
 "metadata": {
  "kernelspec": {
   "display_name": "Python 3 (ipykernel)",
   "language": "python",
   "name": "python3"
  },
  "language_info": {
   "codemirror_mode": {
    "name": "ipython",
    "version": 3
   },
   "file_extension": ".py",
   "mimetype": "text/x-python",
   "name": "python",
   "nbconvert_exporter": "python",
   "pygments_lexer": "ipython3",
   "version": "3.11.5"
  }
 },
 "nbformat": 4,
 "nbformat_minor": 5
}
