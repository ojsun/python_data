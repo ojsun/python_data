{
 "cells": [
  {
   "cell_type": "code",
   "execution_count": 2,
   "id": "19ef847b",
   "metadata": {},
   "outputs": [],
   "source": [
    "import pandas as pd\n",
    "A=a_group.median()\n",
    "B=b_group.max()"
   ]
  },
  {
   "cell_type": "code",
   "execution_count": null,
   "id": "36c094c4",
   "metadata": {},
   "outputs": [],
   "source": [
    "ebola.fillna(0)"
   ]
  },
  {
   "cell_type": "code",
   "execution_count": null,
   "id": "ae0b8a62",
   "metadata": {},
   "outputs": [],
   "source": [
    "ebola.fillna(method = 'ffill')"
   ]
  },
  {
   "cell_type": "code",
   "execution_count": null,
   "id": "5508c991",
   "metadata": {},
   "outputs": [],
   "source": [
    "ebola.fillna(method = 'bfill')"
   ]
  },
  {
   "cell_type": "code",
   "execution_count": null,
   "id": "4bbc8517",
   "metadata": {},
   "outputs": [],
   "source": [
    "(2769 + 2730) / 2"
   ]
  },
  {
   "cell_type": "code",
   "execution_count": null,
   "id": "b6d00a6f",
   "metadata": {},
   "outputs": [],
   "source": [
    "ebola['Cases_Guinea'].astype(int)"
   ]
  },
  {
   "cell_type": "code",
   "execution_count": null,
   "id": "91c5cbfb",
   "metadata": {
    "scrolled": true
   },
   "outputs": [],
   "source": [
    "ebola.dropna(axis = 0)  # [0, 1, 2, 4, ]"
   ]
  },
  {
   "cell_type": "code",
   "execution_count": null,
   "id": "c07f1bd7",
   "metadata": {},
   "outputs": [],
   "source": [
    "ebola.dropna(axis = 1)"
   ]
  },
  {
   "cell_type": "code",
   "execution_count": null,
   "id": "535e7980",
   "metadata": {},
   "outputs": [],
   "source": [
    "ebola_fill = ebola.fillna(method = 'bfill').fillna(0)"
   ]
  },
  {
   "cell_type": "code",
   "execution_count": null,
   "id": "b08bc767",
   "metadata": {},
   "outputs": [],
   "source": [
    "ebola_fill.info()"
   ]
  },
  {
   "cell_type": "markdown",
   "id": "1d436918",
   "metadata": {},
   "source": [
    "### 누락값 처리 문제"
   ]
  },
  {
   "cell_type": "code",
   "execution_count": 4,
   "id": "23372fd8",
   "metadata": {},
   "outputs": [
    {
     "data": {
      "text/html": [
       "<div>\n",
       "<style scoped>\n",
       "    .dataframe tbody tr th:only-of-type {\n",
       "        vertical-align: middle;\n",
       "    }\n",
       "\n",
       "    .dataframe tbody tr th {\n",
       "        vertical-align: top;\n",
       "    }\n",
       "\n",
       "    .dataframe thead th {\n",
       "        text-align: right;\n",
       "    }\n",
       "</style>\n",
       "<table border=\"1\" class=\"dataframe\">\n",
       "  <thead>\n",
       "    <tr style=\"text-align: right;\">\n",
       "      <th></th>\n",
       "      <th>id</th>\n",
       "      <th>age</th>\n",
       "      <th>city</th>\n",
       "      <th>f1</th>\n",
       "      <th>f2</th>\n",
       "      <th>f3</th>\n",
       "      <th>f4</th>\n",
       "      <th>f5</th>\n",
       "    </tr>\n",
       "  </thead>\n",
       "  <tbody>\n",
       "    <tr>\n",
       "      <th>0</th>\n",
       "      <td>id01</td>\n",
       "      <td>2.0</td>\n",
       "      <td>서울</td>\n",
       "      <td>NaN</td>\n",
       "      <td>0</td>\n",
       "      <td>NaN</td>\n",
       "      <td>ENFJ</td>\n",
       "      <td>91.297791</td>\n",
       "    </tr>\n",
       "    <tr>\n",
       "      <th>1</th>\n",
       "      <td>id02</td>\n",
       "      <td>9.0</td>\n",
       "      <td>서울</td>\n",
       "      <td>70.0</td>\n",
       "      <td>1</td>\n",
       "      <td>NaN</td>\n",
       "      <td>ENFJ</td>\n",
       "      <td>60.339826</td>\n",
       "    </tr>\n",
       "    <tr>\n",
       "      <th>2</th>\n",
       "      <td>id03</td>\n",
       "      <td>27.0</td>\n",
       "      <td>서울</td>\n",
       "      <td>61.0</td>\n",
       "      <td>1</td>\n",
       "      <td>NaN</td>\n",
       "      <td>ISTJ</td>\n",
       "      <td>17.252986</td>\n",
       "    </tr>\n",
       "    <tr>\n",
       "      <th>3</th>\n",
       "      <td>id04</td>\n",
       "      <td>75.0</td>\n",
       "      <td>서울</td>\n",
       "      <td>NaN</td>\n",
       "      <td>2</td>\n",
       "      <td>NaN</td>\n",
       "      <td>INFP</td>\n",
       "      <td>52.667078</td>\n",
       "    </tr>\n",
       "    <tr>\n",
       "      <th>4</th>\n",
       "      <td>id05</td>\n",
       "      <td>24.0</td>\n",
       "      <td>서울</td>\n",
       "      <td>85.0</td>\n",
       "      <td>2</td>\n",
       "      <td>NaN</td>\n",
       "      <td>ISFJ</td>\n",
       "      <td>29.269869</td>\n",
       "    </tr>\n",
       "  </tbody>\n",
       "</table>\n",
       "</div>"
      ],
      "text/plain": [
       "     id   age city    f1  f2   f3    f4         f5\n",
       "0  id01   2.0   서울   NaN   0  NaN  ENFJ  91.297791\n",
       "1  id02   9.0   서울  70.0   1  NaN  ENFJ  60.339826\n",
       "2  id03  27.0   서울  61.0   1  NaN  ISTJ  17.252986\n",
       "3  id04  75.0   서울   NaN   2  NaN  INFP  52.667078\n",
       "4  id05  24.0   서울  85.0   2  NaN  ISFJ  29.269869"
      ]
     },
     "execution_count": 4,
     "metadata": {},
     "output_type": "execute_result"
    }
   ],
   "source": [
    "df = pd.read_csv('../data/basic1.csv')\n",
    "df.head()"
   ]
  },
  {
   "cell_type": "code",
   "execution_count": null,
   "id": "a56b1dfd",
   "metadata": {},
   "outputs": [],
   "source": [
    "df.info()"
   ]
  },
  {
   "cell_type": "markdown",
   "id": "b4866224",
   "metadata": {},
   "source": [
    "#### 1번\n",
    "* 첫번째 데이터 부터 순서대로 50:50으로 데이터를 나누고, 앞에서 부터 50%의 데이터(이하, A그룹)는 'f1'컬럼의 결측치를 A그룹의 중앙값으로 채우고, 뒤에서부터 50% 데이터(이하, B그룹)는 'f1'컬럼의 결측치를 B그룹의 최대값으로 채운 후, A그룹과 B그룹의 표준편차 합을 구하시오. (소수점 첫째자리)\n"
   ]
  },
  {
   "cell_type": "code",
   "execution_count": 5,
   "id": "52c29a07",
   "metadata": {},
   "outputs": [
    {
     "name": "stdout",
     "output_type": "stream",
     "text": [
      "(50, 8) (50, 8)\n"
     ]
    }
   ],
   "source": [
    "# step1\n",
    "# 순서대로 50:50으로 데이터를 나누고\n",
    "# 앞에서 부터 50%의 데이터(이하, A그룹), 뒤에서부터 50% 데이터(이하, B그룹)\\\n",
    "A = df.iloc[:50]\n",
    "B = df.iloc[50:]\n",
    "print(A.shape, B.shape)"
   ]
  },
  {
   "cell_type": "code",
   "execution_count": 6,
   "id": "a4fce3ca",
   "metadata": {},
   "outputs": [
    {
     "name": "stdout",
     "output_type": "stream",
     "text": [
      "50 50\n"
     ]
    }
   ],
   "source": [
    "# step2\n",
    "# A그룹은 누락값을 A그룹의 중앙값 (f1컬럼 대상)\n",
    "# B그룹은 누락값을 B그룹의 최대값 (f1컬럼 대상)\n",
    "A_median = A['f1'].median()\n",
    "B_max = B['f1'].max()\n",
    "\n",
    "A_fill = A['f1'].fillna(A_median)\n",
    "B_fill = B['f1'].fillna(B_max)\n",
    "print(A_fill.count(), B_fill.count())"
   ]
  },
  {
   "cell_type": "code",
   "execution_count": 7,
   "id": "15de7627",
   "metadata": {},
   "outputs": [
    {
     "data": {
      "text/plain": [
       "42.0"
      ]
     },
     "execution_count": 7,
     "metadata": {},
     "output_type": "execute_result"
    }
   ],
   "source": [
    "# step3\n",
    "# A그룹과 B그룹의 표준편차 합 (소수점 첫째자리)\n",
    "std_sum = A_fill.std() + B_fill.std()\n",
    "round(std_sum, 1)"
   ]
  },
  {
   "cell_type": "markdown",
   "id": "46bcbaf8",
   "metadata": {},
   "source": [
    "#### 2번\n",
    "* 'f4'컬럼 기준 내림차순 정렬과 'f5'컬럼 기준 오름차순 정렬을 순서대로 다중 조건 정렬하고나서 앞에서부터 10개의 데이터 중 'f5'컬럼의 최소값을 찾고, 이 최소값으로 앞에서 부터 10개의 'f5'컬럼 데이터를 변경함. 그리고 'f5'컬럼의 평균값을 계산함. (단 소수점 둘째자리까지 출력(셋째자리에서 반올림))"
   ]
  },
  {
   "cell_type": "code",
   "execution_count": 15,
   "id": "0db4c866",
   "metadata": {},
   "outputs": [
    {
     "data": {
      "text/html": [
       "<div>\n",
       "<style scoped>\n",
       "    .dataframe tbody tr th:only-of-type {\n",
       "        vertical-align: middle;\n",
       "    }\n",
       "\n",
       "    .dataframe tbody tr th {\n",
       "        vertical-align: top;\n",
       "    }\n",
       "\n",
       "    .dataframe thead th {\n",
       "        text-align: right;\n",
       "    }\n",
       "</style>\n",
       "<table border=\"1\" class=\"dataframe\">\n",
       "  <thead>\n",
       "    <tr style=\"text-align: right;\">\n",
       "      <th></th>\n",
       "      <th>id</th>\n",
       "      <th>age</th>\n",
       "      <th>city</th>\n",
       "      <th>f1</th>\n",
       "      <th>f2</th>\n",
       "      <th>f3</th>\n",
       "      <th>f4</th>\n",
       "      <th>f5</th>\n",
       "    </tr>\n",
       "  </thead>\n",
       "  <tbody>\n",
       "    <tr>\n",
       "      <th>42</th>\n",
       "      <td>id43</td>\n",
       "      <td>23.0</td>\n",
       "      <td>대구</td>\n",
       "      <td>60.0</td>\n",
       "      <td>0</td>\n",
       "      <td>NaN</td>\n",
       "      <td>ISTP</td>\n",
       "      <td>29.269869</td>\n",
       "    </tr>\n",
       "    <tr>\n",
       "      <th>69</th>\n",
       "      <td>id70</td>\n",
       "      <td>-9.0</td>\n",
       "      <td>경기</td>\n",
       "      <td>96.0</td>\n",
       "      <td>1</td>\n",
       "      <td>NaN</td>\n",
       "      <td>ISTP</td>\n",
       "      <td>48.431184</td>\n",
       "    </tr>\n",
       "    <tr>\n",
       "      <th>16</th>\n",
       "      <td>id17</td>\n",
       "      <td>74.0</td>\n",
       "      <td>서울</td>\n",
       "      <td>NaN</td>\n",
       "      <td>1</td>\n",
       "      <td>NaN</td>\n",
       "      <td>ISTP</td>\n",
       "      <td>67.886373</td>\n",
       "    </tr>\n",
       "    <tr>\n",
       "      <th>22</th>\n",
       "      <td>id23</td>\n",
       "      <td>34.0</td>\n",
       "      <td>부산</td>\n",
       "      <td>75.0</td>\n",
       "      <td>1</td>\n",
       "      <td>NaN</td>\n",
       "      <td>ISTP</td>\n",
       "      <td>69.730313</td>\n",
       "    </tr>\n",
       "    <tr>\n",
       "      <th>2</th>\n",
       "      <td>id03</td>\n",
       "      <td>27.0</td>\n",
       "      <td>서울</td>\n",
       "      <td>61.0</td>\n",
       "      <td>1</td>\n",
       "      <td>NaN</td>\n",
       "      <td>ISTJ</td>\n",
       "      <td>17.252986</td>\n",
       "    </tr>\n",
       "    <tr>\n",
       "      <th>50</th>\n",
       "      <td>id51</td>\n",
       "      <td>36.0</td>\n",
       "      <td>대구</td>\n",
       "      <td>NaN</td>\n",
       "      <td>0</td>\n",
       "      <td>NaN</td>\n",
       "      <td>ISTJ</td>\n",
       "      <td>83.685380</td>\n",
       "    </tr>\n",
       "    <tr>\n",
       "      <th>65</th>\n",
       "      <td>id66</td>\n",
       "      <td>87.0</td>\n",
       "      <td>경기</td>\n",
       "      <td>NaN</td>\n",
       "      <td>1</td>\n",
       "      <td>NaN</td>\n",
       "      <td>ISFP</td>\n",
       "      <td>17.252986</td>\n",
       "    </tr>\n",
       "    <tr>\n",
       "      <th>20</th>\n",
       "      <td>id21</td>\n",
       "      <td>90.0</td>\n",
       "      <td>부산</td>\n",
       "      <td>NaN</td>\n",
       "      <td>1</td>\n",
       "      <td>NaN</td>\n",
       "      <td>ISFP</td>\n",
       "      <td>29.269869</td>\n",
       "    </tr>\n",
       "    <tr>\n",
       "      <th>70</th>\n",
       "      <td>id71</td>\n",
       "      <td>35.0</td>\n",
       "      <td>경기</td>\n",
       "      <td>84.0</td>\n",
       "      <td>2</td>\n",
       "      <td>NaN</td>\n",
       "      <td>ISFP</td>\n",
       "      <td>52.667078</td>\n",
       "    </tr>\n",
       "    <tr>\n",
       "      <th>67</th>\n",
       "      <td>id68</td>\n",
       "      <td>35.0</td>\n",
       "      <td>경기</td>\n",
       "      <td>45.0</td>\n",
       "      <td>2</td>\n",
       "      <td>NaN</td>\n",
       "      <td>ISFP</td>\n",
       "      <td>67.886373</td>\n",
       "    </tr>\n",
       "  </tbody>\n",
       "</table>\n",
       "</div>"
      ],
      "text/plain": [
       "      id   age city    f1  f2   f3    f4         f5\n",
       "42  id43  23.0   대구  60.0   0  NaN  ISTP  29.269869\n",
       "69  id70  -9.0   경기  96.0   1  NaN  ISTP  48.431184\n",
       "16  id17  74.0   서울   NaN   1  NaN  ISTP  67.886373\n",
       "22  id23  34.0   부산  75.0   1  NaN  ISTP  69.730313\n",
       "2   id03  27.0   서울  61.0   1  NaN  ISTJ  17.252986\n",
       "50  id51  36.0   대구   NaN   0  NaN  ISTJ  83.685380\n",
       "65  id66  87.0   경기   NaN   1  NaN  ISFP  17.252986\n",
       "20  id21  90.0   부산   NaN   1  NaN  ISFP  29.269869\n",
       "70  id71  35.0   경기  84.0   2  NaN  ISFP  52.667078\n",
       "67  id68  35.0   경기  45.0   2  NaN  ISFP  67.886373"
      ]
     },
     "execution_count": 15,
     "metadata": {},
     "output_type": "execute_result"
    }
   ],
   "source": [
    "# 'f4'컬럼 기준 내림차순 정렬과 'f5'컬럼 기준 오름차순 정렬\n",
    "sorted_df = df.sort_values(['f4', 'f5'], ascending=[False, True])\n",
    "sorted_df.head(10)"
   ]
  },
  {
   "cell_type": "code",
   "execution_count": null,
   "id": "dc1e0026",
   "metadata": {},
   "outputs": [],
   "source": [
    "items = [1,2,3]\n",
    "items2 = items.copy()\n",
    "print(items)\n",
    "print(items2)\n",
    "\n",
    "items2.pop()\n",
    "print(items2)\n",
    "print(items)"
   ]
  },
  {
   "cell_type": "code",
   "execution_count": 13,
   "id": "d49dbd6f",
   "metadata": {},
   "outputs": [
    {
     "data": {
      "text/html": [
       "<div>\n",
       "<style scoped>\n",
       "    .dataframe tbody tr th:only-of-type {\n",
       "        vertical-align: middle;\n",
       "    }\n",
       "\n",
       "    .dataframe tbody tr th {\n",
       "        vertical-align: top;\n",
       "    }\n",
       "\n",
       "    .dataframe thead th {\n",
       "        text-align: right;\n",
       "    }\n",
       "</style>\n",
       "<table border=\"1\" class=\"dataframe\">\n",
       "  <thead>\n",
       "    <tr style=\"text-align: right;\">\n",
       "      <th></th>\n",
       "      <th>id</th>\n",
       "      <th>age</th>\n",
       "      <th>city</th>\n",
       "      <th>f1</th>\n",
       "      <th>f2</th>\n",
       "      <th>f3</th>\n",
       "      <th>f4</th>\n",
       "      <th>f5</th>\n",
       "    </tr>\n",
       "  </thead>\n",
       "  <tbody>\n",
       "    <tr>\n",
       "      <th>42</th>\n",
       "      <td>id43</td>\n",
       "      <td>23.0</td>\n",
       "      <td>대구</td>\n",
       "      <td>60.0</td>\n",
       "      <td>0</td>\n",
       "      <td>NaN</td>\n",
       "      <td>ISTP</td>\n",
       "      <td>17.252986</td>\n",
       "    </tr>\n",
       "    <tr>\n",
       "      <th>69</th>\n",
       "      <td>id70</td>\n",
       "      <td>-9.0</td>\n",
       "      <td>경기</td>\n",
       "      <td>96.0</td>\n",
       "      <td>1</td>\n",
       "      <td>NaN</td>\n",
       "      <td>ISTP</td>\n",
       "      <td>17.252986</td>\n",
       "    </tr>\n",
       "    <tr>\n",
       "      <th>16</th>\n",
       "      <td>id17</td>\n",
       "      <td>74.0</td>\n",
       "      <td>서울</td>\n",
       "      <td>NaN</td>\n",
       "      <td>1</td>\n",
       "      <td>NaN</td>\n",
       "      <td>ISTP</td>\n",
       "      <td>17.252986</td>\n",
       "    </tr>\n",
       "    <tr>\n",
       "      <th>22</th>\n",
       "      <td>id23</td>\n",
       "      <td>34.0</td>\n",
       "      <td>부산</td>\n",
       "      <td>75.0</td>\n",
       "      <td>1</td>\n",
       "      <td>NaN</td>\n",
       "      <td>ISTP</td>\n",
       "      <td>17.252986</td>\n",
       "    </tr>\n",
       "    <tr>\n",
       "      <th>2</th>\n",
       "      <td>id03</td>\n",
       "      <td>27.0</td>\n",
       "      <td>서울</td>\n",
       "      <td>61.0</td>\n",
       "      <td>1</td>\n",
       "      <td>NaN</td>\n",
       "      <td>ISTJ</td>\n",
       "      <td>17.252986</td>\n",
       "    </tr>\n",
       "    <tr>\n",
       "      <th>...</th>\n",
       "      <td>...</td>\n",
       "      <td>...</td>\n",
       "      <td>...</td>\n",
       "      <td>...</td>\n",
       "      <td>...</td>\n",
       "      <td>...</td>\n",
       "      <td>...</td>\n",
       "      <td>...</td>\n",
       "    </tr>\n",
       "    <tr>\n",
       "      <th>32</th>\n",
       "      <td>id33</td>\n",
       "      <td>47.0</td>\n",
       "      <td>부산</td>\n",
       "      <td>94.0</td>\n",
       "      <td>0</td>\n",
       "      <td>NaN</td>\n",
       "      <td>ENFJ</td>\n",
       "      <td>17.252986</td>\n",
       "    </tr>\n",
       "    <tr>\n",
       "      <th>40</th>\n",
       "      <td>id41</td>\n",
       "      <td>81.0</td>\n",
       "      <td>대구</td>\n",
       "      <td>55.0</td>\n",
       "      <td>0</td>\n",
       "      <td>NaN</td>\n",
       "      <td>ENFJ</td>\n",
       "      <td>37.113739</td>\n",
       "    </tr>\n",
       "    <tr>\n",
       "      <th>1</th>\n",
       "      <td>id02</td>\n",
       "      <td>9.0</td>\n",
       "      <td>서울</td>\n",
       "      <td>70.0</td>\n",
       "      <td>1</td>\n",
       "      <td>NaN</td>\n",
       "      <td>ENFJ</td>\n",
       "      <td>60.339826</td>\n",
       "    </tr>\n",
       "    <tr>\n",
       "      <th>53</th>\n",
       "      <td>id54</td>\n",
       "      <td>53.0</td>\n",
       "      <td>대구</td>\n",
       "      <td>NaN</td>\n",
       "      <td>1</td>\n",
       "      <td>NaN</td>\n",
       "      <td>ENFJ</td>\n",
       "      <td>69.730313</td>\n",
       "    </tr>\n",
       "    <tr>\n",
       "      <th>0</th>\n",
       "      <td>id01</td>\n",
       "      <td>2.0</td>\n",
       "      <td>서울</td>\n",
       "      <td>NaN</td>\n",
       "      <td>0</td>\n",
       "      <td>NaN</td>\n",
       "      <td>ENFJ</td>\n",
       "      <td>91.297791</td>\n",
       "    </tr>\n",
       "  </tbody>\n",
       "</table>\n",
       "<p>100 rows × 8 columns</p>\n",
       "</div>"
      ],
      "text/plain": [
       "      id   age city    f1  f2   f3    f4         f5\n",
       "42  id43  23.0   대구  60.0   0  NaN  ISTP  17.252986\n",
       "69  id70  -9.0   경기  96.0   1  NaN  ISTP  17.252986\n",
       "16  id17  74.0   서울   NaN   1  NaN  ISTP  17.252986\n",
       "22  id23  34.0   부산  75.0   1  NaN  ISTP  17.252986\n",
       "2   id03  27.0   서울  61.0   1  NaN  ISTJ  17.252986\n",
       "..   ...   ...  ...   ...  ..  ...   ...        ...\n",
       "32  id33  47.0   부산  94.0   0  NaN  ENFJ  17.252986\n",
       "40  id41  81.0   대구  55.0   0  NaN  ENFJ  37.113739\n",
       "1   id02   9.0   서울  70.0   1  NaN  ENFJ  60.339826\n",
       "53  id54  53.0   대구   NaN   1  NaN  ENFJ  69.730313\n",
       "0   id01   2.0   서울   NaN   0  NaN  ENFJ  91.297791\n",
       "\n",
       "[100 rows x 8 columns]"
      ]
     },
     "execution_count": 13,
     "metadata": {},
     "output_type": "execute_result"
    }
   ],
   "source": [
    "# 앞에서부터 10개의 데이터 중 'f5'컬럼의 최소값 [1,2,3,4,5,6,7,8,9,10]\n",
    "# 앞에서 부터 10개의 'f5'컬럼 데이터를 변경     [1,1,1,1,1,1,1,1,1,1]\n",
    "\n",
    "min_value = sorted_df.iloc[:10, -1].min()\n",
    "\n",
    "# df를 복사하는 방법\n",
    "sorted_df2 = sorted_df.copy()\n",
    "\n",
    "sorted_df2.iloc[:10, -1] = min_value\n",
    "sorted_df2"
   ]
  },
  {
   "cell_type": "code",
   "execution_count": 14,
   "id": "ddee6eab-f57f-42b2-8225-22b14352fb3f",
   "metadata": {
    "tags": []
   },
   "outputs": [
    {
     "data": {
      "text/plain": [
       "17.25298557"
      ]
     },
     "execution_count": 14,
     "metadata": {},
     "output_type": "execute_result"
    }
   ],
   "source": [
    "min_value"
   ]
  },
  {
   "cell_type": "code",
   "execution_count": 12,
   "id": "0d6f0acd",
   "metadata": {},
   "outputs": [
    {
     "data": {
      "text/plain": [
       "53.63"
      ]
     },
     "execution_count": 12,
     "metadata": {},
     "output_type": "execute_result"
    }
   ],
   "source": [
    "# 'f5'컬럼의 평균값 (소수점 둘째)\n",
    "\n",
    "round(sorted_df2['f5'].mean(), 2)"
   ]
  },
  {
   "cell_type": "code",
   "execution_count": null,
   "id": "9b124582",
   "metadata": {},
   "outputs": [],
   "source": [
    "def my_sq(x):\n",
    "    return x ** 2 \n",
    "\n",
    "def my_exp(x, n):\n",
    "    return x ** n"
   ]
  },
  {
   "cell_type": "code",
   "execution_count": null,
   "id": "fdb9dc28",
   "metadata": {},
   "outputs": [],
   "source": [
    "import pandas as pd\n",
    "\n",
    "df = pd.DataFrame({'a': [10, 20, 30], 'b': [20, 30, 40]})\n",
    "df"
   ]
  },
  {
   "cell_type": "code",
   "execution_count": null,
   "id": "edd4b7bb",
   "metadata": {},
   "outputs": [],
   "source": [
    "sq = df['a'].apply(my_sq)\n",
    "print(sq)"
   ]
  },
  {
   "cell_type": "code",
   "execution_count": null,
   "id": "e423bfcc",
   "metadata": {},
   "outputs": [],
   "source": [
    "df['a'] : Series  >>  10, 20, 30  >>   my_sq(10), my_sq(20), my_sq(30)  \n",
    ">> 100, 400, 900  >> new Series"
   ]
  },
  {
   "cell_type": "code",
   "execution_count": null,
   "id": "6cdbfd93",
   "metadata": {},
   "outputs": [],
   "source": [
    "df['a'].apply(my_exp, n=2)"
   ]
  },
  {
   "cell_type": "code",
   "execution_count": null,
   "id": "c489a3ab",
   "metadata": {},
   "outputs": [],
   "source": [
    "def plus10(x):\n",
    "    return x + 10\n",
    "\n",
    "lambda x : x + 10"
   ]
  },
  {
   "cell_type": "code",
   "execution_count": null,
   "id": "1c57a574",
   "metadata": {},
   "outputs": [],
   "source": [
    "df['a'].apply(lambda x : x ** 2)"
   ]
  },
  {
   "cell_type": "code",
   "execution_count": null,
   "id": "a5ecdd82",
   "metadata": {},
   "outputs": [],
   "source": [
    "df['a'].apply(lambda x, n : x ** n, n = 2)"
   ]
  },
  {
   "cell_type": "code",
   "execution_count": null,
   "id": "b7570490",
   "metadata": {},
   "outputs": [],
   "source": []
  },
  {
   "cell_type": "code",
   "execution_count": null,
   "id": "52f37c43",
   "metadata": {},
   "outputs": [],
   "source": [
    "df = pd.read_csv('data/pandas/basic1.csv')\n",
    "df.head()"
   ]
  },
  {
   "cell_type": "code",
   "execution_count": null,
   "id": "10244804",
   "metadata": {},
   "outputs": [],
   "source": [
    "def mbti(x):\n",
    "    return x[0]\n",
    "\n",
    "lambda x : x[0]"
   ]
  },
  {
   "cell_type": "code",
   "execution_count": null,
   "id": "91b00552",
   "metadata": {},
   "outputs": [],
   "source": [
    "df['mbti1'] =  df['f4'].apply(mbti)\n",
    "df"
   ]
  },
  {
   "cell_type": "code",
   "execution_count": null,
   "id": "82de0eb0",
   "metadata": {},
   "outputs": [],
   "source": [
    "df = pd.DataFrame({'a': [10, 20, 30], 'b': [20, 30, 40]})\n",
    "df"
   ]
  },
  {
   "cell_type": "code",
   "execution_count": null,
   "id": "504b3c63",
   "metadata": {},
   "outputs": [],
   "source": [
    "def print_me(x):\n",
    "    print(x)"
   ]
  },
  {
   "cell_type": "code",
   "execution_count": null,
   "id": "66325ddb",
   "metadata": {},
   "outputs": [],
   "source": [
    "df.apply(print_me, axis = 1)"
   ]
  },
  {
   "cell_type": "code",
   "execution_count": null,
   "id": "70859ae6",
   "metadata": {},
   "outputs": [],
   "source": [
    "print_me(df['a'])    # df['b']"
   ]
  },
  {
   "cell_type": "code",
   "execution_count": null,
   "id": "ebbc8aea",
   "metadata": {},
   "outputs": [],
   "source": [
    "a = print()\n",
    "print(a)"
   ]
  },
  {
   "cell_type": "code",
   "execution_count": null,
   "id": "0de982e0",
   "metadata": {},
   "outputs": [],
   "source": [
    "exam = pd.read_csv('data/pandas/exam.csv')\n",
    "exam.head()"
   ]
  },
  {
   "cell_type": "code",
   "execution_count": null,
   "id": "559e40a0",
   "metadata": {},
   "outputs": [],
   "source": [
    "exam['math'].apply(lambda x : x // 10)"
   ]
  },
  {
   "cell_type": "code",
   "execution_count": null,
   "id": "738e7582",
   "metadata": {},
   "outputs": [],
   "source": [
    "exam['math']  //  10"
   ]
  },
  {
   "cell_type": "code",
   "execution_count": null,
   "id": "6c350adf",
   "metadata": {},
   "outputs": [],
   "source": [
    "exam['total']  = exam['math'] + exam['english'] + exam['science']\n",
    "exam"
   ]
  },
  {
   "cell_type": "code",
   "execution_count": null,
   "id": "f5a61e1b",
   "metadata": {},
   "outputs": [],
   "source": [
    "# ebola\n",
    "# pd.read_csv('country_timeseries.csv', parse_dates = ['Date'])\n",
    "ebola['Date2'] = pd.to_datetime(ebola['Date'])\n",
    "year = ebola['Date2'].dt.year\n",
    "                    # '1/5/2015'\n",
    "ebola['Date'].apply(lambda x : int(x[-4:])  )\n",
    "\n",
    "# ebola[['Date', 'Date2']].head(3)"
   ]
  },
  {
   "cell_type": "code",
   "execution_count": null,
   "id": "90e2d719",
   "metadata": {},
   "outputs": [],
   "source": [
    "titanic = pd.read_csv('data/pandas/titanic.csv')\n",
    "titanic.head(3)"
   ]
  },
  {
   "cell_type": "code",
   "execution_count": null,
   "id": "a8cdd397",
   "metadata": {},
   "outputs": [],
   "source": [
    "titanic.info()"
   ]
  },
  {
   "cell_type": "code",
   "execution_count": null,
   "id": "dc667853",
   "metadata": {},
   "outputs": [],
   "source": [
    "def count_missing(vec):\n",
    "    return vec.isnull().sum()"
   ]
  },
  {
   "cell_type": "code",
   "execution_count": null,
   "id": "5f370387",
   "metadata": {},
   "outputs": [],
   "source": [
    "titanic.apply(   count_missing   , axis = 1)"
   ]
  },
  {
   "cell_type": "code",
   "execution_count": null,
   "id": "a6707b85",
   "metadata": {},
   "outputs": [],
   "source": [
    "def prop_missing(vec):\n",
    "    # 누락값의 개수\n",
    "    num = count_missing(vec)\n",
    "    # 전체 로우(컬럼)의 개수\n",
    "    length = vec.size\n",
    "    return num / length"
   ]
  },
  {
   "cell_type": "code",
   "execution_count": null,
   "id": "58b16ea3",
   "metadata": {},
   "outputs": [],
   "source": [
    "titanic.apply(   prop_missing   , axis = 0)"
   ]
  },
  {
   "cell_type": "code",
   "execution_count": null,
   "id": "a554fda1",
   "metadata": {},
   "outputs": [],
   "source": [
    "import numpy as np\n",
    "# male or female or etc\n",
    "def convert(x):\n",
    "    if x == 'male':\n",
    "        return 0\n",
    "    elif x == 'female':\n",
    "        return 1\n",
    "    else:\n",
    "        return np.nan"
   ]
  },
  {
   "cell_type": "code",
   "execution_count": null,
   "id": "1453b413",
   "metadata": {},
   "outputs": [],
   "source": [
    "titanic['Sex'] = titanic['Sex'].apply(convert)"
   ]
  },
  {
   "cell_type": "code",
   "execution_count": null,
   "id": "61fa6241",
   "metadata": {},
   "outputs": [],
   "source": [
    "titanic"
   ]
  },
  {
   "cell_type": "code",
   "execution_count": null,
   "id": "49108db7",
   "metadata": {},
   "outputs": [],
   "source": [
    "avg_age = titanic['Age'].mean() # 177"
   ]
  },
  {
   "cell_type": "code",
   "execution_count": null,
   "id": "e9badcd0",
   "metadata": {},
   "outputs": [],
   "source": [
    "titanic['Age'].fillna(avg_age)"
   ]
  },
  {
   "cell_type": "code",
   "execution_count": null,
   "id": "d1f67ffd",
   "metadata": {},
   "outputs": [],
   "source": [
    "titanic['Cabin'].unique()"
   ]
  },
  {
   "cell_type": "code",
   "execution_count": null,
   "id": "723145a7",
   "metadata": {},
   "outputs": [],
   "source": [
    "titanic['Cabin'].fillna('N').apply(lambda x : x[0])"
   ]
  },
  {
   "cell_type": "code",
   "execution_count": null,
   "id": "4ec289b1",
   "metadata": {},
   "outputs": [],
   "source": [
    "titanic['Cabin'].fillna('N').apply(lambda x : x[0]).unique()"
   ]
  },
  {
   "cell_type": "code",
   "execution_count": null,
   "id": "0873ed17",
   "metadata": {},
   "outputs": [],
   "source": [
    "titanic[titanic['Embarked'].isnull()]"
   ]
  },
  {
   "cell_type": "code",
   "execution_count": null,
   "id": "09774b3f",
   "metadata": {},
   "outputs": [],
   "source": [
    "titanic['Embarked'].value_counts()"
   ]
  },
  {
   "cell_type": "code",
   "execution_count": null,
   "id": "c28a319f",
   "metadata": {},
   "outputs": [],
   "source": [
    "ebola"
   ]
  },
  {
   "cell_type": "code",
   "execution_count": null,
   "id": "47f0ef23",
   "metadata": {},
   "outputs": [],
   "source": []
  }
 ],
 "metadata": {
  "kernelspec": {
   "display_name": "Python 3 (ipykernel)",
   "language": "python",
   "name": "python3"
  },
  "language_info": {
   "codemirror_mode": {
    "name": "ipython",
    "version": 3
   },
   "file_extension": ".py",
   "mimetype": "text/x-python",
   "name": "python",
   "nbconvert_exporter": "python",
   "pygments_lexer": "ipython3",
   "version": "3.11.5"
  }
 },
 "nbformat": 4,
 "nbformat_minor": 5
}
