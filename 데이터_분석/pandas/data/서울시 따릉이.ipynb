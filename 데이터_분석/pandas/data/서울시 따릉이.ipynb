{
 "cells": [
  {
   "cell_type": "markdown",
   "metadata": {
    "colab_type": "text",
    "id": "KCZ6x3heVYzI"
   },
   "source": [
    "### Step 1. 필요한 라이브러리 임포트"
   ]
  },
  {
   "cell_type": "code",
   "execution_count": 68,
   "metadata": {
    "colab": {},
    "colab_type": "code",
    "id": "7tfUgzrjVYzJ"
   },
   "outputs": [],
   "source": [
    "import numpy as np\n",
    "import pandas as pd\n",
    "import seaborn as sns\n",
    "from scipy import stats\n",
    "import warnings\n",
    "\n",
    "import matplotlib.pyplot as plt\n",
    "plt.rcParams[\"figure.figsize\"] = (7,5)\n",
    "plt.rcParams['font.size'] = 12\n",
    "\n",
    "warnings.filterwarnings('ignore')\n",
    "sns.set_palette('gist_heat')"
   ]
  },
  {
   "cell_type": "markdown",
   "metadata": {
    "colab_type": "text",
    "id": "ETQYiRDwVYzM"
   },
   "source": [
    "### Step 2. [데이터](https://raw.githubusercontent.com/Datamanim/datarepo/main/bicycle/seoul_bi.csv) 확인\n",
    "\n",
    "- 대여일자\n",
    "- 대여시간\n",
    "- 대여소번호\n",
    "- 대여구분코드\n",
    "- 성별\n",
    "- 연령대코드\n",
    "- 이용건수\n",
    "- 운동량\n",
    "- 탄소량\n",
    "- 이동거리\n",
    "- 사용시간"
   ]
  },
  {
   "cell_type": "markdown",
   "metadata": {
    "colab_type": "text",
    "id": "ktDQ-sIEVYzM"
   },
   "source": [
    "### Step 3. read_csv를 통해 데이터를 올바른 형태로 불러온 뒤 bycle에 저장해주세요.\n",
    "* data : seoul_bi.csv\n",
    "* encoding : cp949\n",
    "* 대여일자를 datetime으로 설정해주세요."
   ]
  },
  {
   "cell_type": "code",
   "execution_count": 11,
   "metadata": {},
   "outputs": [
    {
     "data": {
      "text/html": [
       "<div>\n",
       "<style scoped>\n",
       "    .dataframe tbody tr th:only-of-type {\n",
       "        vertical-align: middle;\n",
       "    }\n",
       "\n",
       "    .dataframe tbody tr th {\n",
       "        vertical-align: top;\n",
       "    }\n",
       "\n",
       "    .dataframe thead th {\n",
       "        text-align: right;\n",
       "    }\n",
       "</style>\n",
       "<table border=\"1\" class=\"dataframe\">\n",
       "  <thead>\n",
       "    <tr style=\"text-align: right;\">\n",
       "      <th></th>\n",
       "      <th>대여일자</th>\n",
       "      <th>대여시간</th>\n",
       "      <th>대여소번호</th>\n",
       "      <th>대여구분코드</th>\n",
       "      <th>성별</th>\n",
       "      <th>연령대코드</th>\n",
       "      <th>이용건수</th>\n",
       "      <th>운동량</th>\n",
       "      <th>탄소량</th>\n",
       "      <th>이동거리</th>\n",
       "      <th>사용시간</th>\n",
       "    </tr>\n",
       "  </thead>\n",
       "  <tbody>\n",
       "    <tr>\n",
       "      <th>0</th>\n",
       "      <td>2021-06-01</td>\n",
       "      <td>0</td>\n",
       "      <td>3541</td>\n",
       "      <td>정기권</td>\n",
       "      <td>F</td>\n",
       "      <td>~10대</td>\n",
       "      <td>1</td>\n",
       "      <td>0.00</td>\n",
       "      <td>0.00</td>\n",
       "      <td>0.00</td>\n",
       "      <td>8</td>\n",
       "    </tr>\n",
       "    <tr>\n",
       "      <th>1</th>\n",
       "      <td>2021-06-01</td>\n",
       "      <td>0</td>\n",
       "      <td>765</td>\n",
       "      <td>정기권</td>\n",
       "      <td>F</td>\n",
       "      <td>~10대</td>\n",
       "      <td>1</td>\n",
       "      <td>27.21</td>\n",
       "      <td>0.35</td>\n",
       "      <td>1526.81</td>\n",
       "      <td>19</td>\n",
       "    </tr>\n",
       "    <tr>\n",
       "      <th>2</th>\n",
       "      <td>2021-06-01</td>\n",
       "      <td>0</td>\n",
       "      <td>2637</td>\n",
       "      <td>정기권</td>\n",
       "      <td>F</td>\n",
       "      <td>~10대</td>\n",
       "      <td>1</td>\n",
       "      <td>41.40</td>\n",
       "      <td>0.37</td>\n",
       "      <td>1608.56</td>\n",
       "      <td>18</td>\n",
       "    </tr>\n",
       "    <tr>\n",
       "      <th>3</th>\n",
       "      <td>2021-06-01</td>\n",
       "      <td>0</td>\n",
       "      <td>2919</td>\n",
       "      <td>정기권</td>\n",
       "      <td>F</td>\n",
       "      <td>~10대</td>\n",
       "      <td>1</td>\n",
       "      <td>0.00</td>\n",
       "      <td>0.00</td>\n",
       "      <td>0.00</td>\n",
       "      <td>75</td>\n",
       "    </tr>\n",
       "    <tr>\n",
       "      <th>4</th>\n",
       "      <td>2021-06-01</td>\n",
       "      <td>0</td>\n",
       "      <td>549</td>\n",
       "      <td>정기권</td>\n",
       "      <td>F</td>\n",
       "      <td>~10대</td>\n",
       "      <td>1</td>\n",
       "      <td>13.04</td>\n",
       "      <td>0.17</td>\n",
       "      <td>731.55</td>\n",
       "      <td>6</td>\n",
       "    </tr>\n",
       "    <tr>\n",
       "      <th>5</th>\n",
       "      <td>2021-06-01</td>\n",
       "      <td>0</td>\n",
       "      <td>237</td>\n",
       "      <td>정기권</td>\n",
       "      <td>F</td>\n",
       "      <td>~10대</td>\n",
       "      <td>1</td>\n",
       "      <td>40.79</td>\n",
       "      <td>0.48</td>\n",
       "      <td>2060.00</td>\n",
       "      <td>11</td>\n",
       "    </tr>\n",
       "    <tr>\n",
       "      <th>6</th>\n",
       "      <td>2021-06-01</td>\n",
       "      <td>0</td>\n",
       "      <td>953</td>\n",
       "      <td>정기권</td>\n",
       "      <td>F</td>\n",
       "      <td>20대</td>\n",
       "      <td>1</td>\n",
       "      <td>0.00</td>\n",
       "      <td>0.00</td>\n",
       "      <td>0.00</td>\n",
       "      <td>11</td>\n",
       "    </tr>\n",
       "    <tr>\n",
       "      <th>7</th>\n",
       "      <td>2021-06-01</td>\n",
       "      <td>0</td>\n",
       "      <td>1029</td>\n",
       "      <td>정기권</td>\n",
       "      <td>F</td>\n",
       "      <td>20대</td>\n",
       "      <td>1</td>\n",
       "      <td>37.84</td>\n",
       "      <td>0.34</td>\n",
       "      <td>1470.00</td>\n",
       "      <td>7</td>\n",
       "    </tr>\n",
       "    <tr>\n",
       "      <th>8</th>\n",
       "      <td>2021-06-01</td>\n",
       "      <td>0</td>\n",
       "      <td>1153</td>\n",
       "      <td>정기권</td>\n",
       "      <td>F</td>\n",
       "      <td>20대</td>\n",
       "      <td>1</td>\n",
       "      <td>31.17</td>\n",
       "      <td>0.35</td>\n",
       "      <td>1513.53</td>\n",
       "      <td>10</td>\n",
       "    </tr>\n",
       "    <tr>\n",
       "      <th>9</th>\n",
       "      <td>2021-06-01</td>\n",
       "      <td>0</td>\n",
       "      <td>1653</td>\n",
       "      <td>정기권</td>\n",
       "      <td>F</td>\n",
       "      <td>20대</td>\n",
       "      <td>1</td>\n",
       "      <td>8.00</td>\n",
       "      <td>0.10</td>\n",
       "      <td>430.00</td>\n",
       "      <td>3</td>\n",
       "    </tr>\n",
       "  </tbody>\n",
       "</table>\n",
       "</div>"
      ],
      "text/plain": [
       "        대여일자  대여시간  대여소번호 대여구분코드 성별 연령대코드  이용건수    운동량   탄소량     이동거리  사용시간\n",
       "0 2021-06-01     0   3541    정기권  F  ~10대     1   0.00  0.00     0.00     8\n",
       "1 2021-06-01     0    765    정기권  F  ~10대     1  27.21  0.35  1526.81    19\n",
       "2 2021-06-01     0   2637    정기권  F  ~10대     1  41.40  0.37  1608.56    18\n",
       "3 2021-06-01     0   2919    정기권  F  ~10대     1   0.00  0.00     0.00    75\n",
       "4 2021-06-01     0    549    정기권  F  ~10대     1  13.04  0.17   731.55     6\n",
       "5 2021-06-01     0    237    정기권  F  ~10대     1  40.79  0.48  2060.00    11\n",
       "6 2021-06-01     0    953    정기권  F   20대     1   0.00  0.00     0.00    11\n",
       "7 2021-06-01     0   1029    정기권  F   20대     1  37.84  0.34  1470.00     7\n",
       "8 2021-06-01     0   1153    정기권  F   20대     1  31.17  0.35  1513.53    10\n",
       "9 2021-06-01     0   1653    정기권  F   20대     1   8.00  0.10   430.00     3"
      ]
     },
     "execution_count": 11,
     "metadata": {},
     "output_type": "execute_result"
    }
   ],
   "source": [
    "bycle=pd.read_csv('../data/seoul_bi.csv', encoding='cp949', parse_dates=['대여일자'] )\n",
    "bycle.head(10)"
   ]
  },
  {
   "cell_type": "code",
   "execution_count": 12,
   "metadata": {},
   "outputs": [
    {
     "name": "stdout",
     "output_type": "stream",
     "text": [
      "<class 'pandas.core.frame.DataFrame'>\n",
      "RangeIndex: 678950 entries, 0 to 678949\n",
      "Data columns (total 11 columns):\n",
      " #   Column  Non-Null Count   Dtype         \n",
      "---  ------  --------------   -----         \n",
      " 0   대여일자    678950 non-null  datetime64[ns]\n",
      " 1   대여시간    678950 non-null  int64         \n",
      " 2   대여소번호   678950 non-null  int64         \n",
      " 3   대여구분코드  678950 non-null  object        \n",
      " 4   성별      678950 non-null  object        \n",
      " 5   연령대코드   678950 non-null  object        \n",
      " 6   이용건수    678950 non-null  int64         \n",
      " 7   운동량     678950 non-null  object        \n",
      " 8   탄소량     678950 non-null  object        \n",
      " 9   이동거리    678950 non-null  float64       \n",
      " 10  사용시간    678950 non-null  int64         \n",
      "dtypes: datetime64[ns](1), float64(1), int64(4), object(5)\n",
      "memory usage: 57.0+ MB\n"
     ]
    }
   ],
   "source": [
    "bycle.info()"
   ]
  },
  {
   "cell_type": "code",
   "execution_count": 13,
   "metadata": {},
   "outputs": [
    {
     "data": {
      "text/html": [
       "<div>\n",
       "<style scoped>\n",
       "    .dataframe tbody tr th:only-of-type {\n",
       "        vertical-align: middle;\n",
       "    }\n",
       "\n",
       "    .dataframe tbody tr th {\n",
       "        vertical-align: top;\n",
       "    }\n",
       "\n",
       "    .dataframe thead th {\n",
       "        text-align: right;\n",
       "    }\n",
       "</style>\n",
       "<table border=\"1\" class=\"dataframe\">\n",
       "  <thead>\n",
       "    <tr style=\"text-align: right;\">\n",
       "      <th></th>\n",
       "      <th>대여일자</th>\n",
       "      <th>대여시간</th>\n",
       "      <th>대여소번호</th>\n",
       "      <th>이용건수</th>\n",
       "      <th>이동거리</th>\n",
       "      <th>사용시간</th>\n",
       "    </tr>\n",
       "  </thead>\n",
       "  <tbody>\n",
       "    <tr>\n",
       "      <th>count</th>\n",
       "      <td>678950</td>\n",
       "      <td>678950.000000</td>\n",
       "      <td>678950.000000</td>\n",
       "      <td>678950.000000</td>\n",
       "      <td>678950.000000</td>\n",
       "      <td>678950.000000</td>\n",
       "    </tr>\n",
       "    <tr>\n",
       "      <th>mean</th>\n",
       "      <td>2021-06-07 14:11:55.662714624</td>\n",
       "      <td>14.437701</td>\n",
       "      <td>1660.777129</td>\n",
       "      <td>1.101211</td>\n",
       "      <td>3315.608305</td>\n",
       "      <td>28.109300</td>\n",
       "    </tr>\n",
       "    <tr>\n",
       "      <th>min</th>\n",
       "      <td>2021-06-01 00:00:00</td>\n",
       "      <td>0.000000</td>\n",
       "      <td>3.000000</td>\n",
       "      <td>1.000000</td>\n",
       "      <td>0.000000</td>\n",
       "      <td>0.000000</td>\n",
       "    </tr>\n",
       "    <tr>\n",
       "      <th>25%</th>\n",
       "      <td>2021-06-04 00:00:00</td>\n",
       "      <td>10.000000</td>\n",
       "      <td>646.000000</td>\n",
       "      <td>1.000000</td>\n",
       "      <td>937.190000</td>\n",
       "      <td>8.000000</td>\n",
       "    </tr>\n",
       "    <tr>\n",
       "      <th>50%</th>\n",
       "      <td>2021-06-08 00:00:00</td>\n",
       "      <td>16.000000</td>\n",
       "      <td>1337.000000</td>\n",
       "      <td>1.000000</td>\n",
       "      <td>1885.735000</td>\n",
       "      <td>16.000000</td>\n",
       "    </tr>\n",
       "    <tr>\n",
       "      <th>75%</th>\n",
       "      <td>2021-06-11 00:00:00</td>\n",
       "      <td>19.000000</td>\n",
       "      <td>2361.000000</td>\n",
       "      <td>1.000000</td>\n",
       "      <td>3986.280000</td>\n",
       "      <td>37.000000</td>\n",
       "    </tr>\n",
       "    <tr>\n",
       "      <th>max</th>\n",
       "      <td>2021-06-14 00:00:00</td>\n",
       "      <td>23.000000</td>\n",
       "      <td>99997.000000</td>\n",
       "      <td>11.000000</td>\n",
       "      <td>297692.650000</td>\n",
       "      <td>1327.000000</td>\n",
       "    </tr>\n",
       "    <tr>\n",
       "      <th>std</th>\n",
       "      <td>NaN</td>\n",
       "      <td>5.617974</td>\n",
       "      <td>1251.498718</td>\n",
       "      <td>0.366669</td>\n",
       "      <td>4134.427164</td>\n",
       "      <td>31.399754</td>\n",
       "    </tr>\n",
       "  </tbody>\n",
       "</table>\n",
       "</div>"
      ],
      "text/plain": [
       "                                대여일자           대여시간          대여소번호  \\\n",
       "count                         678950  678950.000000  678950.000000   \n",
       "mean   2021-06-07 14:11:55.662714624      14.437701    1660.777129   \n",
       "min              2021-06-01 00:00:00       0.000000       3.000000   \n",
       "25%              2021-06-04 00:00:00      10.000000     646.000000   \n",
       "50%              2021-06-08 00:00:00      16.000000    1337.000000   \n",
       "75%              2021-06-11 00:00:00      19.000000    2361.000000   \n",
       "max              2021-06-14 00:00:00      23.000000   99997.000000   \n",
       "std                              NaN       5.617974    1251.498718   \n",
       "\n",
       "                이용건수           이동거리           사용시간  \n",
       "count  678950.000000  678950.000000  678950.000000  \n",
       "mean        1.101211    3315.608305      28.109300  \n",
       "min         1.000000       0.000000       0.000000  \n",
       "25%         1.000000     937.190000       8.000000  \n",
       "50%         1.000000    1885.735000      16.000000  \n",
       "75%         1.000000    3986.280000      37.000000  \n",
       "max        11.000000  297692.650000    1327.000000  \n",
       "std         0.366669    4134.427164      31.399754  "
      ]
     },
     "execution_count": 13,
     "metadata": {},
     "output_type": "execute_result"
    }
   ],
   "source": [
    "bycle.describe()"
   ]
  },
  {
   "cell_type": "markdown",
   "metadata": {
    "colab_type": "text",
    "id": "GyW3hzw7VYzQ"
   },
   "source": [
    "### Step 4. 대여일자별 데이터의 수를 데이터프레임으로 출력하고, 가장 많은 데이터가 있는 날짜순으로 정렬하세요."
   ]
  },
  {
   "cell_type": "code",
   "execution_count": 19,
   "metadata": {
    "colab": {
     "base_uri": "https://localhost:8080/",
     "height": 855
    },
    "colab_type": "code",
    "executionInfo": {
     "elapsed": 6433,
     "status": "ok",
     "timestamp": 1571342898459,
     "user": {
      "displayName": "kang sanghun",
      "photoUrl": "",
      "userId": "12450865979153508193"
     },
     "user_tz": -540
    },
    "id": "tzNwkbQHVYzQ",
    "outputId": "1b7929cd-d156-4b75-92ba-d93097062d50"
   },
   "outputs": [
    {
     "data": {
      "text/plain": [
       "대여일자\n",
       "2021-06-04    56788\n",
       "2021-06-02    56100\n",
       "2021-06-08    55623\n",
       "2021-06-14    54945\n",
       "2021-06-09    54507\n",
       "2021-06-05    52730\n",
       "2021-06-07    52623\n",
       "2021-06-11    52089\n",
       "2021-06-12    48569\n",
       "2021-06-01    48081\n",
       "2021-06-06    47787\n",
       "2021-06-13    43131\n",
       "2021-06-10    36992\n",
       "2021-06-03    18985\n",
       "dtype: int64"
      ]
     },
     "execution_count": 19,
     "metadata": {},
     "output_type": "execute_result"
    }
   ],
   "source": [
    "bycle.groupby('대여일자').size().sort_values(ascending=False)"
   ]
  },
  {
   "cell_type": "markdown",
   "metadata": {
    "colab_type": "text",
    "id": "KGmFIu-mVYzU"
   },
   "source": [
    "### Step 5. 각 일자의 요일을 dt 접근자의 day_name() 함수를 사용하여 '요일' 컬럼에 추가하고 각 요일별 이용 횟수의 총합을 출력하세요."
   ]
  },
  {
   "cell_type": "code",
   "execution_count": 29,
   "metadata": {
    "colab": {
     "base_uri": "https://localhost:8080/",
     "height": 390
    },
    "colab_type": "code",
    "executionInfo": {
     "elapsed": 6424,
     "status": "ok",
     "timestamp": 1571342898459,
     "user": {
      "displayName": "kang sanghun",
      "photoUrl": "",
      "userId": "12450865979153508193"
     },
     "user_tz": -540
    },
    "id": "qvi0g7fxVYzU",
    "outputId": "d5307178-5242-4e2a-9ee0-199d4e1fedf8",
    "scrolled": true
   },
   "outputs": [
    {
     "name": "stdout",
     "output_type": "stream",
     "text": [
      "요일\n",
      "Wednesday    110607\n",
      "Friday       108877\n",
      "Monday       107568\n",
      "Tuesday      103704\n",
      "Saturday     101299\n",
      "Sunday        90918\n",
      "Thursday      55977\n",
      "Name: count, dtype: int64\n"
     ]
    }
   ],
   "source": [
    "bycle['요일']= bycle['대여일자'].dt.day_name()\n",
    "print(bycle['요일'].value_counts())"
   ]
  },
  {
   "cell_type": "markdown",
   "metadata": {
    "colab_type": "text",
    "id": "qciQNL3mVYzX"
   },
   "source": [
    "### Step 6. 각 요일별 가장 많이 이용한 대여소번호를 찾고 사용횟수를 출력하세요."
   ]
  },
  {
   "cell_type": "code",
   "execution_count": 39,
   "metadata": {
    "colab": {
     "base_uri": "https://localhost:8080/",
     "height": 34
    },
    "colab_type": "code",
    "executionInfo": {
     "elapsed": 6417,
     "status": "ok",
     "timestamp": 1571342898460,
     "user": {
      "displayName": "kang sanghun",
      "photoUrl": "",
      "userId": "12450865979153508193"
     },
     "user_tz": -540
    },
    "id": "MppHcIx0VYzX",
    "outputId": "12706044-01be-42e3-9db5-662541856cc0"
   },
   "outputs": [
    {
     "data": {
      "text/plain": [
       "요일         대여소번호\n",
       "Friday     502      277\n",
       "           2715     263\n",
       "           1210     251\n",
       "           207      238\n",
       "           2102     229\n",
       "                   ... \n",
       "Wednesday  4314       1\n",
       "           2536       1\n",
       "           2534       1\n",
       "           381        1\n",
       "           2288       1\n",
       "Name: count, Length: 16874, dtype: int64"
      ]
     },
     "execution_count": 39,
     "metadata": {},
     "output_type": "execute_result"
    }
   ],
   "source": [
    "bycle.groupby('요일')['대여소번호'].value_counts() # 대여소번호"
   ]
  },
  {
   "cell_type": "markdown",
   "metadata": {
    "colab_type": "text",
    "id": "PEw7OnTWVYza"
   },
   "source": [
    "### Step 7.  나이대별 대여구분 코드의 (일일권/전체횟수) 비율을 구한 후 가장 높은 비율을 가지는 나이대를 확인하세요. \n",
    "**일일권의 경우 '일일권' 과 '일일권(비회원)'을 모두 포함하세요.**"
   ]
  },
  {
   "cell_type": "code",
   "execution_count": 74,
   "metadata": {},
   "outputs": [],
   "source": [
    "bycle2=bycle[(bycle['대여구분코드'] == '일일권') | (bycle['대여구분코드'] == '일일권(비회원)')]\n",
    "p_bycle=bycle['대여구분코드'].value_counts()"
   ]
  },
  {
   "cell_type": "code",
   "execution_count": 75,
   "metadata": {},
   "outputs": [],
   "source": [
    "cr=pd.crosstab(bycle2['연령대코드'], bycle2['대여구분코드'])"
   ]
  },
  {
   "cell_type": "markdown",
   "metadata": {
    "colab_type": "text",
    "id": "t27VIXOlVYzd"
   },
   "source": [
    "### Step8. 연령대별 평균 이동거리를 구하세요."
   ]
  },
  {
   "cell_type": "code",
   "execution_count": 78,
   "metadata": {
    "colab": {
     "base_uri": "https://localhost:8080/",
     "height": 34
    },
    "colab_type": "code",
    "executionInfo": {
     "elapsed": 6404,
     "status": "ok",
     "timestamp": 1571342898461,
     "user": {
      "displayName": "kang sanghun",
      "photoUrl": "",
      "userId": "12450865979153508193"
     },
     "user_tz": -540
    },
    "id": "xM6-iH1jVYzd",
    "outputId": "f95c53b9-6c48-466e-d4d2-bda311efc10c"
   },
   "outputs": [
    {
     "data": {
      "text/plain": [
       "연령대코드\n",
       "20대     3211.890552\n",
       "30대     3341.443859\n",
       "40대     3514.857416\n",
       "50대     3593.668100\n",
       "60대     3538.145737\n",
       "70대~    3085.039641\n",
       "~10대    2634.426279\n",
       "Name: 이동거리, dtype: float64"
      ]
     },
     "execution_count": 78,
     "metadata": {},
     "output_type": "execute_result"
    }
   ],
   "source": [
    "bycle.groupby('연령대코드')['이동거리'].mean()"
   ]
  },
  {
   "cell_type": "markdown",
   "metadata": {
    "colab_type": "text",
    "id": "2dwISsORVYzg"
   },
   "source": [
    "### Step 9. 연령대 코드가 20대인 데이터를 추출하고,이동거리값이 추출한 데이터의 이동거리값의 평균 이상인 데이터의 탄소량 평균을 추출하세요. "
   ]
  },
  {
   "cell_type": "code",
   "execution_count": 89,
   "metadata": {
    "colab": {
     "base_uri": "https://localhost:8080/",
     "height": 85
    },
    "colab_type": "code",
    "executionInfo": {
     "elapsed": 6399,
     "status": "ok",
     "timestamp": 1571342898462,
     "user": {
      "displayName": "kang sanghun",
      "photoUrl": "",
      "userId": "12450865979153508193"
     },
     "user_tz": -540
    },
    "id": "4QcUCpT2VYzg",
    "outputId": "b188cb3a-2ecd-43cc-b60b-cab0cdbc4548"
   },
   "outputs": [],
   "source": [
    "bycle_20=bycle[bycle['연령대코드']=='20대']\n",
    "bycle_20_1=bycle[bycle['이동거리'] >= bycle_20['이동거리'].mean()]\n",
    "bycle_20_1_mean= bycle_20_1['탄소량']   # mean()"
   ]
  },
  {
   "cell_type": "markdown",
   "metadata": {
    "colab_type": "text",
    "id": "zu4-DLtnVYzi"
   },
   "source": [
    "### Step 10. 평일 (월~금) 출근 시간대(오전 6,7,8시)의 대여소별 이용 횟수를 구해서 각 대여시간별 이용 횟수의 상위 3개 대여소와 이용횟수를 출력하세요."
   ]
  },
  {
   "cell_type": "code",
   "execution_count": 105,
   "metadata": {},
   "outputs": [
    {
     "data": {
      "text/plain": [
       "array([0, 0, 0, ..., 0, 0, 0])"
      ]
     },
     "execution_count": 105,
     "metadata": {},
     "output_type": "execute_result"
    }
   ],
   "source": [
    "bycle['시간']= bycle['대여일자'].dt.hour\n",
    "bycle['시간'].values"
   ]
  },
  {
   "cell_type": "code",
   "execution_count": 109,
   "metadata": {
    "colab": {
     "base_uri": "https://localhost:8080/",
     "height": 102
    },
    "colab_type": "code",
    "executionInfo": {
     "elapsed": 6392,
     "status": "ok",
     "timestamp": 1571342898462,
     "user": {
      "displayName": "kang sanghun",
      "photoUrl": "",
      "userId": "12450865979153508193"
     },
     "user_tz": -540
    },
    "id": "_H_WtmaQVYzj",
    "outputId": "ada1d2c5-25e3-46e0-86dc-00a1cd73a2ec",
    "scrolled": true
   },
   "outputs": [],
   "source": [
    "bycle_h=bycle[(bycle['요일'] != 'Saturday') | (bycle['요일'] != 'Sunday')]"
   ]
  },
  {
   "cell_type": "code",
   "execution_count": 131,
   "metadata": {},
   "outputs": [
    {
     "data": {
      "text/plain": [
       "대여소번호\n",
       "259     210\n",
       "2701    200\n",
       "247     188\n",
       "2744    187\n",
       "726     186\n",
       "       ... \n",
       "2352      1\n",
       "3620      1\n",
       "2722      1\n",
       "2308      1\n",
       "2805      1\n",
       "Name: count, Length: 2392, dtype: int64"
      ]
     },
     "execution_count": 131,
     "metadata": {},
     "output_type": "execute_result"
    }
   ],
   "source": [
    "bycle_c=bycle_h[(bycle_h['대여시간'] == 6) |  (bycle_h['대여시간'] == 7) | (bycle_h['대여시간'] == 8)]\n",
    "bycle_c.groupby('bycle_h').size.sort_values(bycle_c['대여소번호'].value_counts())"
   ]
  },
  {
   "cell_type": "code",
   "execution_count": null,
   "metadata": {},
   "outputs": [],
   "source": []
  },
  {
   "cell_type": "code",
   "execution_count": null,
   "metadata": {},
   "outputs": [],
   "source": []
  },
  {
   "cell_type": "markdown",
   "metadata": {
    "colab_type": "text",
    "id": "9Hflvi7uVYzl"
   },
   "source": [
    "### Step 11. 성별(남 : 'M' or 'm' / 여 : 'F' or 'f')에 따른 사용시간별 운동량의 평균값을 계산하세요."
   ]
  },
  {
   "cell_type": "code",
   "execution_count": 132,
   "metadata": {},
   "outputs": [],
   "source": [
    "bycle_m=bycle[(bycle['성별']=='M') | (bycle['성별']=='m')]\n",
    "bycle_f=bycle[(bycle['성별']=='F') | (bycle['성별']=='f')]\n",
    "bycle_m('')"
   ]
  },
  {
   "cell_type": "markdown",
   "metadata": {
    "colab_type": "text",
    "id": "9Hflvi7uVYzl"
   },
   "source": [
    "### Step 12. 대여구분코드를 (정기권/일일권) 두 집단으로 만든뒤(단체권은 일일권으로 한다) 대여구분코드 종류에 따라서 이용시간이 차이가 있는지 확인하세요."
   ]
  },
  {
   "cell_type": "code",
   "execution_count": null,
   "metadata": {},
   "outputs": [],
   "source": []
  }
 ],
 "metadata": {
  "anaconda-cloud": {},
  "colab": {
   "collapsed_sections": [],
   "name": "직업_solution.ipynb",
   "provenance": []
  },
  "kernelspec": {
   "display_name": "Python 3 (ipykernel)",
   "language": "python",
   "name": "python3"
  },
  "language_info": {
   "codemirror_mode": {
    "name": "ipython",
    "version": 3
   },
   "file_extension": ".py",
   "mimetype": "text/x-python",
   "name": "python",
   "nbconvert_exporter": "python",
   "pygments_lexer": "ipython3",
   "version": "3.11.5"
  }
 },
 "nbformat": 4,
 "nbformat_minor": 4
}
