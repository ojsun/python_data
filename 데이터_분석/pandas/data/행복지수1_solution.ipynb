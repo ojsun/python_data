{
 "cells": [
  {
   "cell_type": "markdown",
   "metadata": {
    "colab_type": "text",
    "id": "KCZ6x3heVYzI"
   },
   "source": [
    "### Step 1. 필요한 라이브러리 임포트"
   ]
  },
  {
   "cell_type": "code",
   "execution_count": 1,
   "metadata": {
    "colab": {},
    "colab_type": "code",
    "id": "7tfUgzrjVYzJ"
   },
   "outputs": [],
   "source": [
    "import pandas as pd"
   ]
  },
  {
   "cell_type": "markdown",
   "metadata": {
    "colab_type": "text",
    "id": "ETQYiRDwVYzM"
   },
   "source": [
    "### Step 2. [데이터](https://raw.githubusercontent.com/Datamanim/datarepo/main/happy2/happiness.csv) 확인\n",
    "\n",
    "- 행복랭킹\n",
    "- 나라명\n",
    "- 점수\n",
    "- 상대GDP\n",
    "- 사회적지원\n",
    "- 행복기대치\n",
    "- 선택의 자유도\n",
    "- 관대함\n",
    "- 부패에 대한인식\n",
    "- 년도"
   ]
  },
  {
   "cell_type": "markdown",
   "metadata": {
    "colab_type": "text",
    "id": "ktDQ-sIEVYzM"
   },
   "source": [
    "### Step 3. read_csv를 통해 데이터를 올바른 형태로 불러온 뒤 happy에 저장해주세요.\n",
    "* data : happiness.csv\n",
    "* encoding : cp949"
   ]
  },
  {
   "cell_type": "code",
   "execution_count": 2,
   "metadata": {
    "colab": {},
    "colab_type": "code",
    "id": "crJAer8-VYzN"
   },
   "outputs": [
    {
     "data": {
      "text/html": [
       "<div>\n",
       "<style scoped>\n",
       "    .dataframe tbody tr th:only-of-type {\n",
       "        vertical-align: middle;\n",
       "    }\n",
       "\n",
       "    .dataframe tbody tr th {\n",
       "        vertical-align: top;\n",
       "    }\n",
       "\n",
       "    .dataframe thead th {\n",
       "        text-align: right;\n",
       "    }\n",
       "</style>\n",
       "<table border=\"1\" class=\"dataframe\">\n",
       "  <thead>\n",
       "    <tr style=\"text-align: right;\">\n",
       "      <th></th>\n",
       "      <th>행복랭킹</th>\n",
       "      <th>나라명</th>\n",
       "      <th>점수</th>\n",
       "      <th>상대GDP</th>\n",
       "      <th>사회적지원</th>\n",
       "      <th>행복기대치</th>\n",
       "      <th>선택의 자유도</th>\n",
       "      <th>관대함</th>\n",
       "      <th>부패에 대한인식</th>\n",
       "      <th>년도</th>\n",
       "    </tr>\n",
       "  </thead>\n",
       "  <tbody>\n",
       "    <tr>\n",
       "      <th>0</th>\n",
       "      <td>1</td>\n",
       "      <td>Finland</td>\n",
       "      <td>7.769</td>\n",
       "      <td>1.340</td>\n",
       "      <td>1.587</td>\n",
       "      <td>0.986</td>\n",
       "      <td>0.596</td>\n",
       "      <td>0.153</td>\n",
       "      <td>0.393</td>\n",
       "      <td>2019</td>\n",
       "    </tr>\n",
       "    <tr>\n",
       "      <th>1</th>\n",
       "      <td>2</td>\n",
       "      <td>Denmark</td>\n",
       "      <td>7.600</td>\n",
       "      <td>1.383</td>\n",
       "      <td>1.573</td>\n",
       "      <td>0.996</td>\n",
       "      <td>0.592</td>\n",
       "      <td>0.252</td>\n",
       "      <td>0.410</td>\n",
       "      <td>2019</td>\n",
       "    </tr>\n",
       "    <tr>\n",
       "      <th>2</th>\n",
       "      <td>3</td>\n",
       "      <td>Norway</td>\n",
       "      <td>7.554</td>\n",
       "      <td>1.488</td>\n",
       "      <td>1.582</td>\n",
       "      <td>1.028</td>\n",
       "      <td>0.603</td>\n",
       "      <td>0.271</td>\n",
       "      <td>0.341</td>\n",
       "      <td>2019</td>\n",
       "    </tr>\n",
       "    <tr>\n",
       "      <th>3</th>\n",
       "      <td>4</td>\n",
       "      <td>Iceland</td>\n",
       "      <td>7.494</td>\n",
       "      <td>1.380</td>\n",
       "      <td>1.624</td>\n",
       "      <td>1.026</td>\n",
       "      <td>0.591</td>\n",
       "      <td>0.354</td>\n",
       "      <td>0.118</td>\n",
       "      <td>2019</td>\n",
       "    </tr>\n",
       "    <tr>\n",
       "      <th>4</th>\n",
       "      <td>5</td>\n",
       "      <td>Netherlands</td>\n",
       "      <td>7.488</td>\n",
       "      <td>1.396</td>\n",
       "      <td>1.522</td>\n",
       "      <td>0.999</td>\n",
       "      <td>0.557</td>\n",
       "      <td>0.322</td>\n",
       "      <td>0.298</td>\n",
       "      <td>2019</td>\n",
       "    </tr>\n",
       "  </tbody>\n",
       "</table>\n",
       "</div>"
      ],
      "text/plain": [
       "   행복랭킹          나라명     점수  상대GDP  사회적지원  행복기대치  선택의 자유도    관대함  부패에 대한인식  \\\n",
       "0     1      Finland  7.769  1.340  1.587  0.986    0.596  0.153     0.393   \n",
       "1     2      Denmark  7.600  1.383  1.573  0.996    0.592  0.252     0.410   \n",
       "2     3       Norway  7.554  1.488  1.582  1.028    0.603  0.271     0.341   \n",
       "3     4      Iceland  7.494  1.380  1.624  1.026    0.591  0.354     0.118   \n",
       "4     5  Netherlands  7.488  1.396  1.522  0.999    0.557  0.322     0.298   \n",
       "\n",
       "     년도  \n",
       "0  2019  \n",
       "1  2019  \n",
       "2  2019  \n",
       "3  2019  \n",
       "4  2019  "
      ]
     },
     "execution_count": 2,
     "metadata": {},
     "output_type": "execute_result"
    }
   ],
   "source": [
    "happy = pd.read_csv('data/pandas/happiness.csv', encoding='cp949')\n",
    "happy.head()"
   ]
  },
  {
   "cell_type": "code",
   "execution_count": 3,
   "metadata": {},
   "outputs": [
    {
     "name": "stdout",
     "output_type": "stream",
     "text": [
      "<class 'pandas.core.frame.DataFrame'>\n",
      "RangeIndex: 312 entries, 0 to 311\n",
      "Data columns (total 10 columns):\n",
      " #   Column    Non-Null Count  Dtype  \n",
      "---  ------    --------------  -----  \n",
      " 0   행복랭킹      312 non-null    int64  \n",
      " 1   나라명       312 non-null    object \n",
      " 2   점수        312 non-null    float64\n",
      " 3   상대GDP     312 non-null    float64\n",
      " 4   사회적지원     312 non-null    float64\n",
      " 5   행복기대치     312 non-null    float64\n",
      " 6   선택의 자유도   312 non-null    float64\n",
      " 7   관대함       312 non-null    float64\n",
      " 8   부패에 대한인식  311 non-null    float64\n",
      " 9   년도        312 non-null    int64  \n",
      "dtypes: float64(7), int64(2), object(1)\n",
      "memory usage: 24.5+ KB\n"
     ]
    }
   ],
   "source": [
    "happy.info()"
   ]
  },
  {
   "cell_type": "code",
   "execution_count": 4,
   "metadata": {},
   "outputs": [
    {
     "data": {
      "text/html": [
       "<div>\n",
       "<style scoped>\n",
       "    .dataframe tbody tr th:only-of-type {\n",
       "        vertical-align: middle;\n",
       "    }\n",
       "\n",
       "    .dataframe tbody tr th {\n",
       "        vertical-align: top;\n",
       "    }\n",
       "\n",
       "    .dataframe thead th {\n",
       "        text-align: right;\n",
       "    }\n",
       "</style>\n",
       "<table border=\"1\" class=\"dataframe\">\n",
       "  <thead>\n",
       "    <tr style=\"text-align: right;\">\n",
       "      <th></th>\n",
       "      <th>행복랭킹</th>\n",
       "      <th>점수</th>\n",
       "      <th>상대GDP</th>\n",
       "      <th>사회적지원</th>\n",
       "      <th>행복기대치</th>\n",
       "      <th>선택의 자유도</th>\n",
       "      <th>관대함</th>\n",
       "      <th>부패에 대한인식</th>\n",
       "      <th>년도</th>\n",
       "    </tr>\n",
       "  </thead>\n",
       "  <tbody>\n",
       "    <tr>\n",
       "      <th>count</th>\n",
       "      <td>312.000000</td>\n",
       "      <td>312.000000</td>\n",
       "      <td>312.000000</td>\n",
       "      <td>312.000000</td>\n",
       "      <td>312.000000</td>\n",
       "      <td>312.000000</td>\n",
       "      <td>312.000000</td>\n",
       "      <td>311.000000</td>\n",
       "      <td>312.000000</td>\n",
       "    </tr>\n",
       "    <tr>\n",
       "      <th>mean</th>\n",
       "      <td>78.500000</td>\n",
       "      <td>5.391506</td>\n",
       "      <td>0.898298</td>\n",
       "      <td>1.211026</td>\n",
       "      <td>0.661295</td>\n",
       "      <td>0.423538</td>\n",
       "      <td>0.182926</td>\n",
       "      <td>0.111299</td>\n",
       "      <td>2018.500000</td>\n",
       "    </tr>\n",
       "    <tr>\n",
       "      <th>std</th>\n",
       "      <td>45.104737</td>\n",
       "      <td>1.114631</td>\n",
       "      <td>0.394592</td>\n",
       "      <td>0.300310</td>\n",
       "      <td>0.252724</td>\n",
       "      <td>0.156024</td>\n",
       "      <td>0.096739</td>\n",
       "      <td>0.095365</td>\n",
       "      <td>0.500803</td>\n",
       "    </tr>\n",
       "    <tr>\n",
       "      <th>min</th>\n",
       "      <td>1.000000</td>\n",
       "      <td>2.853000</td>\n",
       "      <td>0.000000</td>\n",
       "      <td>0.000000</td>\n",
       "      <td>0.000000</td>\n",
       "      <td>0.000000</td>\n",
       "      <td>0.000000</td>\n",
       "      <td>0.000000</td>\n",
       "      <td>2018.000000</td>\n",
       "    </tr>\n",
       "    <tr>\n",
       "      <th>25%</th>\n",
       "      <td>39.750000</td>\n",
       "      <td>4.514250</td>\n",
       "      <td>0.609500</td>\n",
       "      <td>1.055750</td>\n",
       "      <td>0.488250</td>\n",
       "      <td>0.322500</td>\n",
       "      <td>0.108750</td>\n",
       "      <td>0.050000</td>\n",
       "      <td>2018.000000</td>\n",
       "    </tr>\n",
       "    <tr>\n",
       "      <th>50%</th>\n",
       "      <td>78.500000</td>\n",
       "      <td>5.379500</td>\n",
       "      <td>0.960000</td>\n",
       "      <td>1.265500</td>\n",
       "      <td>0.699000</td>\n",
       "      <td>0.449500</td>\n",
       "      <td>0.175500</td>\n",
       "      <td>0.082000</td>\n",
       "      <td>2018.500000</td>\n",
       "    </tr>\n",
       "    <tr>\n",
       "      <th>75%</th>\n",
       "      <td>117.250000</td>\n",
       "      <td>6.176000</td>\n",
       "      <td>1.219500</td>\n",
       "      <td>1.457500</td>\n",
       "      <td>0.858000</td>\n",
       "      <td>0.540250</td>\n",
       "      <td>0.245000</td>\n",
       "      <td>0.140500</td>\n",
       "      <td>2019.000000</td>\n",
       "    </tr>\n",
       "    <tr>\n",
       "      <th>max</th>\n",
       "      <td>156.000000</td>\n",
       "      <td>7.769000</td>\n",
       "      <td>2.096000</td>\n",
       "      <td>1.644000</td>\n",
       "      <td>1.141000</td>\n",
       "      <td>0.724000</td>\n",
       "      <td>0.598000</td>\n",
       "      <td>0.457000</td>\n",
       "      <td>2019.000000</td>\n",
       "    </tr>\n",
       "  </tbody>\n",
       "</table>\n",
       "</div>"
      ],
      "text/plain": [
       "             행복랭킹          점수       상대GDP       사회적지원       행복기대치     선택의 자유도  \\\n",
       "count  312.000000  312.000000  312.000000  312.000000  312.000000  312.000000   \n",
       "mean    78.500000    5.391506    0.898298    1.211026    0.661295    0.423538   \n",
       "std     45.104737    1.114631    0.394592    0.300310    0.252724    0.156024   \n",
       "min      1.000000    2.853000    0.000000    0.000000    0.000000    0.000000   \n",
       "25%     39.750000    4.514250    0.609500    1.055750    0.488250    0.322500   \n",
       "50%     78.500000    5.379500    0.960000    1.265500    0.699000    0.449500   \n",
       "75%    117.250000    6.176000    1.219500    1.457500    0.858000    0.540250   \n",
       "max    156.000000    7.769000    2.096000    1.644000    1.141000    0.724000   \n",
       "\n",
       "              관대함    부패에 대한인식           년도  \n",
       "count  312.000000  311.000000   312.000000  \n",
       "mean     0.182926    0.111299  2018.500000  \n",
       "std      0.096739    0.095365     0.500803  \n",
       "min      0.000000    0.000000  2018.000000  \n",
       "25%      0.108750    0.050000  2018.000000  \n",
       "50%      0.175500    0.082000  2018.500000  \n",
       "75%      0.245000    0.140500  2019.000000  \n",
       "max      0.598000    0.457000  2019.000000  "
      ]
     },
     "execution_count": 4,
     "metadata": {},
     "output_type": "execute_result"
    }
   ],
   "source": [
    "happy.describe()"
   ]
  },
  {
   "cell_type": "markdown",
   "metadata": {
    "colab_type": "text",
    "id": "GyW3hzw7VYzQ"
   },
   "source": [
    "### Step 4. 데이터는 2018년도와 2019년도의 전세계 행복 지수를 표현합니다. 각년도의 행복랭킹 50위이내의 나라들의 각각의 행복점수 평균을 출력하세요."
   ]
  },
  {
   "cell_type": "code",
   "execution_count": 12,
   "metadata": {
    "colab": {
     "base_uri": "https://localhost:8080/",
     "height": 855
    },
    "colab_type": "code",
    "executionInfo": {
     "elapsed": 6433,
     "status": "ok",
     "timestamp": 1571342898459,
     "user": {
      "displayName": "kang sanghun",
      "photoUrl": "",
      "userId": "12450865979153508193"
     },
     "user_tz": -540
    },
    "id": "tzNwkbQHVYzQ",
    "outputId": "1b7929cd-d156-4b75-92ba-d93097062d50",
    "scrolled": false
   },
   "outputs": [
    {
     "data": {
      "text/plain": [
       "년도\n",
       "2018    6.64678\n",
       "2019    6.67002\n",
       "Name: 점수, dtype: float64"
      ]
     },
     "execution_count": 12,
     "metadata": {},
     "output_type": "execute_result"
    }
   ],
   "source": [
    "happy[happy['행복랭킹'] <= 50].groupby('년도')['점수'].mean()"
   ]
  },
  {
   "cell_type": "markdown",
   "metadata": {
    "colab_type": "text",
    "id": "KGmFIu-mVYzU"
   },
   "source": [
    "### Step 5. 2018년도와 2019년도의 행복랭킹이 변화하지 않은 나라명의 수를 구하세요."
   ]
  },
  {
   "cell_type": "code",
   "execution_count": 16,
   "metadata": {
    "colab": {
     "base_uri": "https://localhost:8080/",
     "height": 390
    },
    "colab_type": "code",
    "executionInfo": {
     "elapsed": 6424,
     "status": "ok",
     "timestamp": 1571342898459,
     "user": {
      "displayName": "kang sanghun",
      "photoUrl": "",
      "userId": "12450865979153508193"
     },
     "user_tz": -540
    },
    "id": "qvi0g7fxVYzU",
    "outputId": "d5307178-5242-4e2a-9ee0-199d4e1fedf8",
    "scrolled": false
   },
   "outputs": [
    {
     "data": {
      "text/plain": [
       "15"
      ]
     },
     "execution_count": 16,
     "metadata": {},
     "output_type": "execute_result"
    }
   ],
   "source": [
    "happy.shape[0] - happy.drop_duplicates(['행복랭킹', '나라명']).shape[0]"
   ]
  },
  {
   "cell_type": "code",
   "execution_count": 23,
   "metadata": {
    "collapsed": true
   },
   "outputs": [
    {
     "data": {
      "text/html": [
       "<div>\n",
       "<style scoped>\n",
       "    .dataframe tbody tr th:only-of-type {\n",
       "        vertical-align: middle;\n",
       "    }\n",
       "\n",
       "    .dataframe tbody tr th {\n",
       "        vertical-align: top;\n",
       "    }\n",
       "\n",
       "    .dataframe thead th {\n",
       "        text-align: right;\n",
       "    }\n",
       "</style>\n",
       "<table border=\"1\" class=\"dataframe\">\n",
       "  <thead>\n",
       "    <tr style=\"text-align: right;\">\n",
       "      <th></th>\n",
       "      <th>행복랭킹</th>\n",
       "      <th>나라명</th>\n",
       "      <th>점수</th>\n",
       "      <th>상대GDP</th>\n",
       "      <th>사회적지원</th>\n",
       "      <th>행복기대치</th>\n",
       "      <th>선택의 자유도</th>\n",
       "      <th>관대함</th>\n",
       "      <th>부패에 대한인식</th>\n",
       "      <th>년도</th>\n",
       "    </tr>\n",
       "  </thead>\n",
       "  <tbody>\n",
       "    <tr>\n",
       "      <th>156</th>\n",
       "      <td>1</td>\n",
       "      <td>Finland</td>\n",
       "      <td>7.632</td>\n",
       "      <td>1.305</td>\n",
       "      <td>1.592</td>\n",
       "      <td>0.874</td>\n",
       "      <td>0.681</td>\n",
       "      <td>0.202</td>\n",
       "      <td>0.393</td>\n",
       "      <td>2018</td>\n",
       "    </tr>\n",
       "    <tr>\n",
       "      <th>159</th>\n",
       "      <td>4</td>\n",
       "      <td>Iceland</td>\n",
       "      <td>7.495</td>\n",
       "      <td>1.343</td>\n",
       "      <td>1.644</td>\n",
       "      <td>0.914</td>\n",
       "      <td>0.677</td>\n",
       "      <td>0.353</td>\n",
       "      <td>0.138</td>\n",
       "      <td>2018</td>\n",
       "    </tr>\n",
       "    <tr>\n",
       "      <th>163</th>\n",
       "      <td>8</td>\n",
       "      <td>New Zealand</td>\n",
       "      <td>7.324</td>\n",
       "      <td>1.268</td>\n",
       "      <td>1.601</td>\n",
       "      <td>0.876</td>\n",
       "      <td>0.669</td>\n",
       "      <td>0.365</td>\n",
       "      <td>0.389</td>\n",
       "      <td>2018</td>\n",
       "    </tr>\n",
       "    <tr>\n",
       "      <th>177</th>\n",
       "      <td>22</td>\n",
       "      <td>Malta</td>\n",
       "      <td>6.627</td>\n",
       "      <td>1.270</td>\n",
       "      <td>1.525</td>\n",
       "      <td>0.884</td>\n",
       "      <td>0.645</td>\n",
       "      <td>0.376</td>\n",
       "      <td>0.142</td>\n",
       "      <td>2018</td>\n",
       "    </tr>\n",
       "    <tr>\n",
       "      <th>189</th>\n",
       "      <td>34</td>\n",
       "      <td>Singapore</td>\n",
       "      <td>6.343</td>\n",
       "      <td>1.529</td>\n",
       "      <td>1.451</td>\n",
       "      <td>1.008</td>\n",
       "      <td>0.631</td>\n",
       "      <td>0.261</td>\n",
       "      <td>0.457</td>\n",
       "      <td>2018</td>\n",
       "    </tr>\n",
       "    <tr>\n",
       "      <th>208</th>\n",
       "      <td>53</td>\n",
       "      <td>Latvia</td>\n",
       "      <td>5.933</td>\n",
       "      <td>1.148</td>\n",
       "      <td>1.454</td>\n",
       "      <td>0.671</td>\n",
       "      <td>0.363</td>\n",
       "      <td>0.092</td>\n",
       "      <td>0.066</td>\n",
       "      <td>2018</td>\n",
       "    </tr>\n",
       "    <tr>\n",
       "      <th>211</th>\n",
       "      <td>56</td>\n",
       "      <td>Jamaica</td>\n",
       "      <td>5.890</td>\n",
       "      <td>0.819</td>\n",
       "      <td>1.493</td>\n",
       "      <td>0.693</td>\n",
       "      <td>0.575</td>\n",
       "      <td>0.096</td>\n",
       "      <td>0.031</td>\n",
       "      <td>2018</td>\n",
       "    </tr>\n",
       "    <tr>\n",
       "      <th>215</th>\n",
       "      <td>60</td>\n",
       "      <td>Kazakhstan</td>\n",
       "      <td>5.790</td>\n",
       "      <td>1.143</td>\n",
       "      <td>1.516</td>\n",
       "      <td>0.631</td>\n",
       "      <td>0.454</td>\n",
       "      <td>0.148</td>\n",
       "      <td>0.121</td>\n",
       "      <td>2018</td>\n",
       "    </tr>\n",
       "    <tr>\n",
       "      <th>220</th>\n",
       "      <td>65</td>\n",
       "      <td>Peru</td>\n",
       "      <td>5.663</td>\n",
       "      <td>0.934</td>\n",
       "      <td>1.249</td>\n",
       "      <td>0.674</td>\n",
       "      <td>0.530</td>\n",
       "      <td>0.092</td>\n",
       "      <td>0.034</td>\n",
       "      <td>2018</td>\n",
       "    </tr>\n",
       "    <tr>\n",
       "      <th>231</th>\n",
       "      <td>76</td>\n",
       "      <td>Hong Kong</td>\n",
       "      <td>5.430</td>\n",
       "      <td>1.405</td>\n",
       "      <td>1.290</td>\n",
       "      <td>1.030</td>\n",
       "      <td>0.524</td>\n",
       "      <td>0.246</td>\n",
       "      <td>0.291</td>\n",
       "      <td>2018</td>\n",
       "    </tr>\n",
       "    <tr>\n",
       "      <th>278</th>\n",
       "      <td>123</td>\n",
       "      <td>Mozambique</td>\n",
       "      <td>4.417</td>\n",
       "      <td>0.198</td>\n",
       "      <td>0.902</td>\n",
       "      <td>0.173</td>\n",
       "      <td>0.531</td>\n",
       "      <td>0.206</td>\n",
       "      <td>0.158</td>\n",
       "      <td>2018</td>\n",
       "    </tr>\n",
       "    <tr>\n",
       "      <th>294</th>\n",
       "      <td>139</td>\n",
       "      <td>Togo</td>\n",
       "      <td>3.999</td>\n",
       "      <td>0.259</td>\n",
       "      <td>0.474</td>\n",
       "      <td>0.253</td>\n",
       "      <td>0.434</td>\n",
       "      <td>0.158</td>\n",
       "      <td>0.101</td>\n",
       "      <td>2018</td>\n",
       "    </tr>\n",
       "    <tr>\n",
       "      <th>298</th>\n",
       "      <td>143</td>\n",
       "      <td>Madagascar</td>\n",
       "      <td>3.774</td>\n",
       "      <td>0.262</td>\n",
       "      <td>0.908</td>\n",
       "      <td>0.402</td>\n",
       "      <td>0.221</td>\n",
       "      <td>0.155</td>\n",
       "      <td>0.049</td>\n",
       "      <td>2018</td>\n",
       "    </tr>\n",
       "    <tr>\n",
       "      <th>308</th>\n",
       "      <td>153</td>\n",
       "      <td>Tanzania</td>\n",
       "      <td>3.303</td>\n",
       "      <td>0.455</td>\n",
       "      <td>0.991</td>\n",
       "      <td>0.381</td>\n",
       "      <td>0.481</td>\n",
       "      <td>0.270</td>\n",
       "      <td>0.097</td>\n",
       "      <td>2018</td>\n",
       "    </tr>\n",
       "    <tr>\n",
       "      <th>310</th>\n",
       "      <td>155</td>\n",
       "      <td>Central African Republic</td>\n",
       "      <td>3.083</td>\n",
       "      <td>0.024</td>\n",
       "      <td>0.000</td>\n",
       "      <td>0.010</td>\n",
       "      <td>0.305</td>\n",
       "      <td>0.218</td>\n",
       "      <td>0.038</td>\n",
       "      <td>2018</td>\n",
       "    </tr>\n",
       "  </tbody>\n",
       "</table>\n",
       "</div>"
      ],
      "text/plain": [
       "     행복랭킹                       나라명     점수  상대GDP  사회적지원  행복기대치  선택의 자유도  \\\n",
       "156     1                   Finland  7.632  1.305  1.592  0.874    0.681   \n",
       "159     4                   Iceland  7.495  1.343  1.644  0.914    0.677   \n",
       "163     8               New Zealand  7.324  1.268  1.601  0.876    0.669   \n",
       "177    22                     Malta  6.627  1.270  1.525  0.884    0.645   \n",
       "189    34                 Singapore  6.343  1.529  1.451  1.008    0.631   \n",
       "208    53                    Latvia  5.933  1.148  1.454  0.671    0.363   \n",
       "211    56                   Jamaica  5.890  0.819  1.493  0.693    0.575   \n",
       "215    60                Kazakhstan  5.790  1.143  1.516  0.631    0.454   \n",
       "220    65                      Peru  5.663  0.934  1.249  0.674    0.530   \n",
       "231    76                 Hong Kong  5.430  1.405  1.290  1.030    0.524   \n",
       "278   123                Mozambique  4.417  0.198  0.902  0.173    0.531   \n",
       "294   139                      Togo  3.999  0.259  0.474  0.253    0.434   \n",
       "298   143                Madagascar  3.774  0.262  0.908  0.402    0.221   \n",
       "308   153                  Tanzania  3.303  0.455  0.991  0.381    0.481   \n",
       "310   155  Central African Republic  3.083  0.024  0.000  0.010    0.305   \n",
       "\n",
       "       관대함  부패에 대한인식    년도  \n",
       "156  0.202     0.393  2018  \n",
       "159  0.353     0.138  2018  \n",
       "163  0.365     0.389  2018  \n",
       "177  0.376     0.142  2018  \n",
       "189  0.261     0.457  2018  \n",
       "208  0.092     0.066  2018  \n",
       "211  0.096     0.031  2018  \n",
       "215  0.148     0.121  2018  \n",
       "220  0.092     0.034  2018  \n",
       "231  0.246     0.291  2018  \n",
       "278  0.206     0.158  2018  \n",
       "294  0.158     0.101  2018  \n",
       "298  0.155     0.049  2018  \n",
       "308  0.270     0.097  2018  \n",
       "310  0.218     0.038  2018  "
      ]
     },
     "execution_count": 23,
     "metadata": {},
     "output_type": "execute_result"
    }
   ],
   "source": [
    "happy[(happy['행복랭킹'] - happy.drop_duplicates(['행복랭킹', '나라명'])['행복랭킹']).isnull()]"
   ]
  },
  {
   "cell_type": "markdown",
   "metadata": {
    "colab_type": "text",
    "id": "qciQNL3mVYzX"
   },
   "source": [
    "### Step 6. 각 년도별 행복랭킹의 하위 5개 국가의 평균 부패에 대한인식을 구하세요."
   ]
  },
  {
   "cell_type": "code",
   "execution_count": 26,
   "metadata": {
    "colab": {
     "base_uri": "https://localhost:8080/",
     "height": 34
    },
    "colab_type": "code",
    "executionInfo": {
     "elapsed": 6417,
     "status": "ok",
     "timestamp": 1571342898460,
     "user": {
      "displayName": "kang sanghun",
      "photoUrl": "",
      "userId": "12450865979153508193"
     },
     "user_tz": -540
    },
    "id": "MppHcIx0VYzX",
    "outputId": "12706044-01be-42e3-9db5-662541856cc0"
   },
   "outputs": [
    {
     "data": {
      "text/plain": [
       "년도\n",
       "2018    0.0762\n",
       "2019    0.1418\n",
       "Name: 부패에 대한인식, dtype: float64"
      ]
     },
     "execution_count": 26,
     "metadata": {},
     "output_type": "execute_result"
    }
   ],
   "source": [
    "happy.groupby('년도').tail().groupby('년도')['부패에 대한인식'].mean()"
   ]
  },
  {
   "cell_type": "code",
   "execution_count": 27,
   "metadata": {},
   "outputs": [
    {
     "data": {
      "text/plain": [
       "년도\n",
       "2018    0.3272\n",
       "2019    0.3120\n",
       "Name: 부패에 대한인식, dtype: float64"
      ]
     },
     "execution_count": 27,
     "metadata": {},
     "output_type": "execute_result"
    }
   ],
   "source": [
    "happy.groupby('년도').head().groupby('년도')['부패에 대한인식'].mean()"
   ]
  },
  {
   "cell_type": "code",
   "execution_count": 29,
   "metadata": {},
   "outputs": [],
   "source": [
    "happy_2018 = happy[happy['년도'] == 2018]\n",
    "happy_2019 = happy[happy['년도'] == 2019]"
   ]
  },
  {
   "cell_type": "code",
   "execution_count": 31,
   "metadata": {},
   "outputs": [
    {
     "data": {
      "text/plain": [
       "0.312"
      ]
     },
     "execution_count": 31,
     "metadata": {},
     "output_type": "execute_result"
    }
   ],
   "source": [
    "happy_2018.head()['부패에 대한인식'].mean()\n",
    "happy_2019.head()['부패에 대한인식'].mean()"
   ]
  },
  {
   "cell_type": "markdown",
   "metadata": {
    "colab_type": "text",
    "id": "PEw7OnTWVYza"
   },
   "source": [
    "### Step 7.  2019년 데이터를 추출하고 해당데이터의 상대 GDP 평균 이상의 나라들과 평균 이하의 나라들의 행복점수 평균을 각각 구하고 그 차이값을 출력하세요."
   ]
  },
  {
   "cell_type": "code",
   "execution_count": 35,
   "metadata": {
    "colab": {
     "base_uri": "https://localhost:8080/",
     "height": 34
    },
    "colab_type": "code",
    "executionInfo": {
     "elapsed": 6410,
     "status": "ok",
     "timestamp": 1571342898460,
     "user": {
      "displayName": "kang sanghun",
      "photoUrl": "",
      "userId": "12450865979153508193"
     },
     "user_tz": -540
    },
    "id": "JKD85VN7VYza",
    "outputId": "625f10a6-9ed4-4bb7-af0c-c757512ea0d5"
   },
   "outputs": [
    {
     "name": "stdout",
     "output_type": "stream",
     "text": [
      "(88, 10) (68, 10)\n"
     ]
    }
   ],
   "source": [
    "# 2019에서만 상대 gdp 평균을 계산하고 \n",
    "# 평균보다 높은 나라들과 낮은 나라들의 행복점수를 구하고 그 차이값을 출력해라\n",
    "over = happy_2019[happy_2019['상대GDP'] > happy_2019['상대GDP'].mean()]\n",
    "under = happy_2019[happy_2019['상대GDP'] < happy_2019['상대GDP'].mean()]\n",
    "print(over.shape, under.shape)"
   ]
  },
  {
   "cell_type": "code",
   "execution_count": 37,
   "metadata": {},
   "outputs": [
    {
     "data": {
      "text/plain": [
       "1.390483957219251"
      ]
     },
     "execution_count": 37,
     "metadata": {},
     "output_type": "execute_result"
    }
   ],
   "source": [
    "over['점수'].mean() - under['점수'].mean()"
   ]
  },
  {
   "cell_type": "markdown",
   "metadata": {
    "colab_type": "text",
    "id": "t27VIXOlVYzd"
   },
   "source": [
    "### Step8. 각년도의 선택의 자유도을 내림차순 정렬했을때 상위 20개 국가의 선택의 자유도의 평균을 구하세요."
   ]
  },
  {
   "cell_type": "code",
   "execution_count": 40,
   "metadata": {
    "colab": {
     "base_uri": "https://localhost:8080/",
     "height": 34
    },
    "colab_type": "code",
    "executionInfo": {
     "elapsed": 6404,
     "status": "ok",
     "timestamp": 1571342898461,
     "user": {
      "displayName": "kang sanghun",
      "photoUrl": "",
      "userId": "12450865979153508193"
     },
     "user_tz": -540
    },
    "id": "xM6-iH1jVYzd",
    "outputId": "f95c53b9-6c48-466e-d4d2-bda311efc10c"
   },
   "outputs": [
    {
     "data": {
      "text/plain": [
       "년도\n",
       "2018    0.66135\n",
       "2019    0.57825\n",
       "Name: 선택의 자유도, dtype: float64"
      ]
     },
     "execution_count": 40,
     "metadata": {},
     "output_type": "execute_result"
    }
   ],
   "source": [
    "happy_sorted = happy.sort_values(['년도', '선택의 자유도'], ascending=False)\n",
    "happy_sorted2 = happy_sorted.groupby('년도').head(20)\n",
    "happy_sorted2.groupby('년도')['선택의 자유도'].mean()"
   ]
  },
  {
   "cell_type": "markdown",
   "metadata": {
    "colab_type": "text",
    "id": "2dwISsORVYzg"
   },
   "source": [
    "### Step 9. 2018년도 행복랭킹 50위 이내에 포함됐다가 2019년 50위 밖으로 밀려난 국가의 숫자를 구하세요."
   ]
  },
  {
   "cell_type": "code",
   "execution_count": 54,
   "metadata": {
    "colab": {
     "base_uri": "https://localhost:8080/",
     "height": 85
    },
    "colab_type": "code",
    "executionInfo": {
     "elapsed": 6399,
     "status": "ok",
     "timestamp": 1571342898462,
     "user": {
      "displayName": "kang sanghun",
      "photoUrl": "",
      "userId": "12450865979153508193"
     },
     "user_tz": -540
    },
    "id": "4QcUCpT2VYzg",
    "outputId": "b188cb3a-2ecd-43cc-b60b-cab0cdbc4548",
    "scrolled": false
   },
   "outputs": [
    {
     "data": {
      "text/plain": [
       "4"
      ]
     },
     "execution_count": 54,
     "metadata": {},
     "output_type": "execute_result"
    }
   ],
   "source": [
    "country = happy_2018[happy_2018['행복랭킹'] <= 50]['나라명'].values\n",
    "happy50under = happy_2019[happy_2019['행복랭킹'] <= 50]\n",
    "\n",
    "50 - happy50under[happy50under['나라명'].isin(country)].shape[0]"
   ]
  },
  {
   "cell_type": "markdown",
   "metadata": {
    "colab_type": "text",
    "id": "zu4-DLtnVYzi"
   },
   "source": [
    "### Step 10. 2018년,2019년 모두 기록이 있는 나라들 중 년도별 행복점수가 가장 증가한 나라와 그 증가 수치는?"
   ]
  },
  {
   "cell_type": "code",
   "execution_count": 61,
   "metadata": {
    "colab": {
     "base_uri": "https://localhost:8080/",
     "height": 102
    },
    "colab_type": "code",
    "executionInfo": {
     "elapsed": 6392,
     "status": "ok",
     "timestamp": 1571342898462,
     "user": {
      "displayName": "kang sanghun",
      "photoUrl": "",
      "userId": "12450865979153508193"
     },
     "user_tz": -540
    },
    "id": "_H_WtmaQVYzj",
    "outputId": "ada1d2c5-25e3-46e0-86dc-00a1cd73a2ec"
   },
   "outputs": [
    {
     "data": {
      "text/html": [
       "<div>\n",
       "<style scoped>\n",
       "    .dataframe tbody tr th:only-of-type {\n",
       "        vertical-align: middle;\n",
       "    }\n",
       "\n",
       "    .dataframe tbody tr th {\n",
       "        vertical-align: top;\n",
       "    }\n",
       "\n",
       "    .dataframe thead th {\n",
       "        text-align: right;\n",
       "    }\n",
       "</style>\n",
       "<table border=\"1\" class=\"dataframe\">\n",
       "  <thead>\n",
       "    <tr style=\"text-align: right;\">\n",
       "      <th></th>\n",
       "      <th>행복랭킹_2018</th>\n",
       "      <th>나라명</th>\n",
       "      <th>점수_2018</th>\n",
       "      <th>상대GDP_2018</th>\n",
       "      <th>사회적지원_2018</th>\n",
       "      <th>행복기대치_2018</th>\n",
       "      <th>선택의 자유도_2018</th>\n",
       "      <th>관대함_2018</th>\n",
       "      <th>부패에 대한인식_2018</th>\n",
       "      <th>년도_2018</th>\n",
       "      <th>행복랭킹_2019</th>\n",
       "      <th>점수_2019</th>\n",
       "      <th>상대GDP_2019</th>\n",
       "      <th>사회적지원_2019</th>\n",
       "      <th>행복기대치_2019</th>\n",
       "      <th>선택의 자유도_2019</th>\n",
       "      <th>관대함_2019</th>\n",
       "      <th>부패에 대한인식_2019</th>\n",
       "      <th>년도_2019</th>\n",
       "    </tr>\n",
       "  </thead>\n",
       "  <tbody>\n",
       "    <tr>\n",
       "      <th>0</th>\n",
       "      <td>1</td>\n",
       "      <td>Finland</td>\n",
       "      <td>7.632</td>\n",
       "      <td>1.305</td>\n",
       "      <td>1.592</td>\n",
       "      <td>0.874</td>\n",
       "      <td>0.681</td>\n",
       "      <td>0.202</td>\n",
       "      <td>0.393</td>\n",
       "      <td>2018</td>\n",
       "      <td>1</td>\n",
       "      <td>7.769</td>\n",
       "      <td>1.340</td>\n",
       "      <td>1.587</td>\n",
       "      <td>0.986</td>\n",
       "      <td>0.596</td>\n",
       "      <td>0.153</td>\n",
       "      <td>0.393</td>\n",
       "      <td>2019</td>\n",
       "    </tr>\n",
       "    <tr>\n",
       "      <th>1</th>\n",
       "      <td>2</td>\n",
       "      <td>Norway</td>\n",
       "      <td>7.594</td>\n",
       "      <td>1.456</td>\n",
       "      <td>1.582</td>\n",
       "      <td>0.861</td>\n",
       "      <td>0.686</td>\n",
       "      <td>0.286</td>\n",
       "      <td>0.340</td>\n",
       "      <td>2018</td>\n",
       "      <td>3</td>\n",
       "      <td>7.554</td>\n",
       "      <td>1.488</td>\n",
       "      <td>1.582</td>\n",
       "      <td>1.028</td>\n",
       "      <td>0.603</td>\n",
       "      <td>0.271</td>\n",
       "      <td>0.341</td>\n",
       "      <td>2019</td>\n",
       "    </tr>\n",
       "    <tr>\n",
       "      <th>2</th>\n",
       "      <td>3</td>\n",
       "      <td>Denmark</td>\n",
       "      <td>7.555</td>\n",
       "      <td>1.351</td>\n",
       "      <td>1.590</td>\n",
       "      <td>0.868</td>\n",
       "      <td>0.683</td>\n",
       "      <td>0.284</td>\n",
       "      <td>0.408</td>\n",
       "      <td>2018</td>\n",
       "      <td>2</td>\n",
       "      <td>7.600</td>\n",
       "      <td>1.383</td>\n",
       "      <td>1.573</td>\n",
       "      <td>0.996</td>\n",
       "      <td>0.592</td>\n",
       "      <td>0.252</td>\n",
       "      <td>0.410</td>\n",
       "      <td>2019</td>\n",
       "    </tr>\n",
       "    <tr>\n",
       "      <th>3</th>\n",
       "      <td>4</td>\n",
       "      <td>Iceland</td>\n",
       "      <td>7.495</td>\n",
       "      <td>1.343</td>\n",
       "      <td>1.644</td>\n",
       "      <td>0.914</td>\n",
       "      <td>0.677</td>\n",
       "      <td>0.353</td>\n",
       "      <td>0.138</td>\n",
       "      <td>2018</td>\n",
       "      <td>4</td>\n",
       "      <td>7.494</td>\n",
       "      <td>1.380</td>\n",
       "      <td>1.624</td>\n",
       "      <td>1.026</td>\n",
       "      <td>0.591</td>\n",
       "      <td>0.354</td>\n",
       "      <td>0.118</td>\n",
       "      <td>2019</td>\n",
       "    </tr>\n",
       "    <tr>\n",
       "      <th>4</th>\n",
       "      <td>5</td>\n",
       "      <td>Switzerland</td>\n",
       "      <td>7.487</td>\n",
       "      <td>1.420</td>\n",
       "      <td>1.549</td>\n",
       "      <td>0.927</td>\n",
       "      <td>0.660</td>\n",
       "      <td>0.256</td>\n",
       "      <td>0.357</td>\n",
       "      <td>2018</td>\n",
       "      <td>6</td>\n",
       "      <td>7.480</td>\n",
       "      <td>1.452</td>\n",
       "      <td>1.526</td>\n",
       "      <td>1.052</td>\n",
       "      <td>0.572</td>\n",
       "      <td>0.263</td>\n",
       "      <td>0.343</td>\n",
       "      <td>2019</td>\n",
       "    </tr>\n",
       "    <tr>\n",
       "      <th>...</th>\n",
       "      <td>...</td>\n",
       "      <td>...</td>\n",
       "      <td>...</td>\n",
       "      <td>...</td>\n",
       "      <td>...</td>\n",
       "      <td>...</td>\n",
       "      <td>...</td>\n",
       "      <td>...</td>\n",
       "      <td>...</td>\n",
       "      <td>...</td>\n",
       "      <td>...</td>\n",
       "      <td>...</td>\n",
       "      <td>...</td>\n",
       "      <td>...</td>\n",
       "      <td>...</td>\n",
       "      <td>...</td>\n",
       "      <td>...</td>\n",
       "      <td>...</td>\n",
       "      <td>...</td>\n",
       "    </tr>\n",
       "    <tr>\n",
       "      <th>147</th>\n",
       "      <td>152</td>\n",
       "      <td>Yemen</td>\n",
       "      <td>3.355</td>\n",
       "      <td>0.442</td>\n",
       "      <td>1.073</td>\n",
       "      <td>0.343</td>\n",
       "      <td>0.244</td>\n",
       "      <td>0.083</td>\n",
       "      <td>0.064</td>\n",
       "      <td>2018</td>\n",
       "      <td>151</td>\n",
       "      <td>3.380</td>\n",
       "      <td>0.287</td>\n",
       "      <td>1.163</td>\n",
       "      <td>0.463</td>\n",
       "      <td>0.143</td>\n",
       "      <td>0.108</td>\n",
       "      <td>0.077</td>\n",
       "      <td>2019</td>\n",
       "    </tr>\n",
       "    <tr>\n",
       "      <th>148</th>\n",
       "      <td>153</td>\n",
       "      <td>Tanzania</td>\n",
       "      <td>3.303</td>\n",
       "      <td>0.455</td>\n",
       "      <td>0.991</td>\n",
       "      <td>0.381</td>\n",
       "      <td>0.481</td>\n",
       "      <td>0.270</td>\n",
       "      <td>0.097</td>\n",
       "      <td>2018</td>\n",
       "      <td>153</td>\n",
       "      <td>3.231</td>\n",
       "      <td>0.476</td>\n",
       "      <td>0.885</td>\n",
       "      <td>0.499</td>\n",
       "      <td>0.417</td>\n",
       "      <td>0.276</td>\n",
       "      <td>0.147</td>\n",
       "      <td>2019</td>\n",
       "    </tr>\n",
       "    <tr>\n",
       "      <th>149</th>\n",
       "      <td>154</td>\n",
       "      <td>South Sudan</td>\n",
       "      <td>3.254</td>\n",
       "      <td>0.337</td>\n",
       "      <td>0.608</td>\n",
       "      <td>0.177</td>\n",
       "      <td>0.112</td>\n",
       "      <td>0.224</td>\n",
       "      <td>0.106</td>\n",
       "      <td>2018</td>\n",
       "      <td>156</td>\n",
       "      <td>2.853</td>\n",
       "      <td>0.306</td>\n",
       "      <td>0.575</td>\n",
       "      <td>0.295</td>\n",
       "      <td>0.010</td>\n",
       "      <td>0.202</td>\n",
       "      <td>0.091</td>\n",
       "      <td>2019</td>\n",
       "    </tr>\n",
       "    <tr>\n",
       "      <th>150</th>\n",
       "      <td>155</td>\n",
       "      <td>Central African Republic</td>\n",
       "      <td>3.083</td>\n",
       "      <td>0.024</td>\n",
       "      <td>0.000</td>\n",
       "      <td>0.010</td>\n",
       "      <td>0.305</td>\n",
       "      <td>0.218</td>\n",
       "      <td>0.038</td>\n",
       "      <td>2018</td>\n",
       "      <td>155</td>\n",
       "      <td>3.083</td>\n",
       "      <td>0.026</td>\n",
       "      <td>0.000</td>\n",
       "      <td>0.105</td>\n",
       "      <td>0.225</td>\n",
       "      <td>0.235</td>\n",
       "      <td>0.035</td>\n",
       "      <td>2019</td>\n",
       "    </tr>\n",
       "    <tr>\n",
       "      <th>151</th>\n",
       "      <td>156</td>\n",
       "      <td>Burundi</td>\n",
       "      <td>2.905</td>\n",
       "      <td>0.091</td>\n",
       "      <td>0.627</td>\n",
       "      <td>0.145</td>\n",
       "      <td>0.065</td>\n",
       "      <td>0.149</td>\n",
       "      <td>0.076</td>\n",
       "      <td>2018</td>\n",
       "      <td>145</td>\n",
       "      <td>3.775</td>\n",
       "      <td>0.046</td>\n",
       "      <td>0.447</td>\n",
       "      <td>0.380</td>\n",
       "      <td>0.220</td>\n",
       "      <td>0.176</td>\n",
       "      <td>0.180</td>\n",
       "      <td>2019</td>\n",
       "    </tr>\n",
       "  </tbody>\n",
       "</table>\n",
       "<p>152 rows × 19 columns</p>\n",
       "</div>"
      ],
      "text/plain": [
       "     행복랭킹_2018                       나라명  점수_2018  상대GDP_2018  사회적지원_2018  \\\n",
       "0            1                   Finland    7.632       1.305       1.592   \n",
       "1            2                    Norway    7.594       1.456       1.582   \n",
       "2            3                   Denmark    7.555       1.351       1.590   \n",
       "3            4                   Iceland    7.495       1.343       1.644   \n",
       "4            5               Switzerland    7.487       1.420       1.549   \n",
       "..         ...                       ...      ...         ...         ...   \n",
       "147        152                     Yemen    3.355       0.442       1.073   \n",
       "148        153                  Tanzania    3.303       0.455       0.991   \n",
       "149        154               South Sudan    3.254       0.337       0.608   \n",
       "150        155  Central African Republic    3.083       0.024       0.000   \n",
       "151        156                   Burundi    2.905       0.091       0.627   \n",
       "\n",
       "     행복기대치_2018  선택의 자유도_2018  관대함_2018  부패에 대한인식_2018  년도_2018  행복랭킹_2019  \\\n",
       "0         0.874         0.681     0.202          0.393     2018          1   \n",
       "1         0.861         0.686     0.286          0.340     2018          3   \n",
       "2         0.868         0.683     0.284          0.408     2018          2   \n",
       "3         0.914         0.677     0.353          0.138     2018          4   \n",
       "4         0.927         0.660     0.256          0.357     2018          6   \n",
       "..          ...           ...       ...            ...      ...        ...   \n",
       "147       0.343         0.244     0.083          0.064     2018        151   \n",
       "148       0.381         0.481     0.270          0.097     2018        153   \n",
       "149       0.177         0.112     0.224          0.106     2018        156   \n",
       "150       0.010         0.305     0.218          0.038     2018        155   \n",
       "151       0.145         0.065     0.149          0.076     2018        145   \n",
       "\n",
       "     점수_2019  상대GDP_2019  사회적지원_2019  행복기대치_2019  선택의 자유도_2019  관대함_2019  \\\n",
       "0      7.769       1.340       1.587       0.986         0.596     0.153   \n",
       "1      7.554       1.488       1.582       1.028         0.603     0.271   \n",
       "2      7.600       1.383       1.573       0.996         0.592     0.252   \n",
       "3      7.494       1.380       1.624       1.026         0.591     0.354   \n",
       "4      7.480       1.452       1.526       1.052         0.572     0.263   \n",
       "..       ...         ...         ...         ...           ...       ...   \n",
       "147    3.380       0.287       1.163       0.463         0.143     0.108   \n",
       "148    3.231       0.476       0.885       0.499         0.417     0.276   \n",
       "149    2.853       0.306       0.575       0.295         0.010     0.202   \n",
       "150    3.083       0.026       0.000       0.105         0.225     0.235   \n",
       "151    3.775       0.046       0.447       0.380         0.220     0.176   \n",
       "\n",
       "     부패에 대한인식_2019  년도_2019  \n",
       "0            0.393     2019  \n",
       "1            0.341     2019  \n",
       "2            0.410     2019  \n",
       "3            0.118     2019  \n",
       "4            0.343     2019  \n",
       "..             ...      ...  \n",
       "147          0.077     2019  \n",
       "148          0.147     2019  \n",
       "149          0.091     2019  \n",
       "150          0.035     2019  \n",
       "151          0.180     2019  \n",
       "\n",
       "[152 rows x 19 columns]"
      ]
     },
     "execution_count": 61,
     "metadata": {},
     "output_type": "execute_result"
    }
   ],
   "source": [
    "happy2 = happy_2018.merge(happy_2019, on = '나라명', suffixes = ('_2018', '_2019'))\n",
    "happy2"
   ]
  },
  {
   "cell_type": "code",
   "execution_count": 60,
   "metadata": {
    "collapsed": true
   },
   "outputs": [
    {
     "data": {
      "text/plain": [
       "행복랭킹_2018            156\n",
       "나라명              Burundi\n",
       "점수_2018            2.905\n",
       "상대GDP_2018         0.091\n",
       "사회적지원_2018         0.627\n",
       "행복기대치_2018         0.145\n",
       "선택의 자유도_2018       0.065\n",
       "관대함_2018           0.149\n",
       "부패에 대한인식_2018      0.076\n",
       "년도_2018             2018\n",
       "행복랭킹_2019            145\n",
       "점수_2019            3.775\n",
       "상대GDP_2019         0.046\n",
       "사회적지원_2019         0.447\n",
       "행복기대치_2019          0.38\n",
       "선택의 자유도_2019        0.22\n",
       "관대함_2019           0.176\n",
       "부패에 대한인식_2019       0.18\n",
       "년도_2019             2019\n",
       "Name: 151, dtype: object"
      ]
     },
     "execution_count": 60,
     "metadata": {},
     "output_type": "execute_result"
    }
   ],
   "source": [
    "happy2.loc[151]"
   ]
  },
  {
   "cell_type": "code",
   "execution_count": 59,
   "metadata": {
    "collapsed": true
   },
   "outputs": [
    {
     "data": {
      "text/plain": [
       "151    0.870\n",
       "133    0.742\n",
       "136    0.570\n",
       "144    0.480\n",
       "131    0.462\n",
       "       ...  \n",
       "95    -0.314\n",
       "66    -0.389\n",
       "149   -0.401\n",
       "140   -0.429\n",
       "34    -0.983\n",
       "Length: 152, dtype: float64"
      ]
     },
     "execution_count": 59,
     "metadata": {},
     "output_type": "execute_result"
    }
   ],
   "source": [
    "(happy2['점수_2019'] - happy2['점수_2018']).sort_values(ascending=False)"
   ]
  },
  {
   "cell_type": "markdown",
   "metadata": {
    "colab_type": "text",
    "id": "zu4-DLtnVYzi"
   },
   "source": [
    "### Step 11. 2018년,2019년을 포함한 전체 데이터에서 행복지수에 가장 영향이 있다라고 생각하는 변수를 찾아보세요."
   ]
  },
  {
   "cell_type": "code",
   "execution_count": 62,
   "metadata": {},
   "outputs": [
    {
     "data": {
      "text/html": [
       "<div>\n",
       "<style scoped>\n",
       "    .dataframe tbody tr th:only-of-type {\n",
       "        vertical-align: middle;\n",
       "    }\n",
       "\n",
       "    .dataframe tbody tr th {\n",
       "        vertical-align: top;\n",
       "    }\n",
       "\n",
       "    .dataframe thead th {\n",
       "        text-align: right;\n",
       "    }\n",
       "</style>\n",
       "<table border=\"1\" class=\"dataframe\">\n",
       "  <thead>\n",
       "    <tr style=\"text-align: right;\">\n",
       "      <th></th>\n",
       "      <th>행복랭킹</th>\n",
       "      <th>점수</th>\n",
       "      <th>상대GDP</th>\n",
       "      <th>사회적지원</th>\n",
       "      <th>행복기대치</th>\n",
       "      <th>선택의 자유도</th>\n",
       "      <th>관대함</th>\n",
       "      <th>부패에 대한인식</th>\n",
       "      <th>년도</th>\n",
       "    </tr>\n",
       "  </thead>\n",
       "  <tbody>\n",
       "    <tr>\n",
       "      <th>행복랭킹</th>\n",
       "      <td>1.000000e+00</td>\n",
       "      <td>-0.990325</td>\n",
       "      <td>-0.803757</td>\n",
       "      <td>-0.752372</td>\n",
       "      <td>-0.757395</td>\n",
       "      <td>-0.526428</td>\n",
       "      <td>-0.076233</td>\n",
       "      <td>-0.361535</td>\n",
       "      <td>1.380668e-13</td>\n",
       "    </tr>\n",
       "    <tr>\n",
       "      <th>점수</th>\n",
       "      <td>-9.903250e-01</td>\n",
       "      <td>1.000000</td>\n",
       "      <td>0.797977</td>\n",
       "      <td>0.761080</td>\n",
       "      <td>0.755875</td>\n",
       "      <td>0.539897</td>\n",
       "      <td>0.106645</td>\n",
       "      <td>0.395319</td>\n",
       "      <td>1.400893e-02</td>\n",
       "    </tr>\n",
       "    <tr>\n",
       "      <th>상대GDP</th>\n",
       "      <td>-8.037573e-01</td>\n",
       "      <td>0.797977</td>\n",
       "      <td>1.000000</td>\n",
       "      <td>0.713293</td>\n",
       "      <td>0.816590</td>\n",
       "      <td>0.342953</td>\n",
       "      <td>-0.044788</td>\n",
       "      <td>0.308598</td>\n",
       "      <td>1.738595e-02</td>\n",
       "    </tr>\n",
       "    <tr>\n",
       "      <th>사회적지원</th>\n",
       "      <td>-7.523724e-01</td>\n",
       "      <td>0.761080</td>\n",
       "      <td>0.713293</td>\n",
       "      <td>1.000000</td>\n",
       "      <td>0.668207</td>\n",
       "      <td>0.420206</td>\n",
       "      <td>-0.014367</td>\n",
       "      <td>0.200387</td>\n",
       "      <td>-7.376014e-03</td>\n",
       "    </tr>\n",
       "    <tr>\n",
       "      <th>행복기대치</th>\n",
       "      <td>-7.573946e-01</td>\n",
       "      <td>0.755875</td>\n",
       "      <td>0.816590</td>\n",
       "      <td>0.668207</td>\n",
       "      <td>1.000000</td>\n",
       "      <td>0.301488</td>\n",
       "      <td>0.001476</td>\n",
       "      <td>0.293732</td>\n",
       "      <td>2.534442e-01</td>\n",
       "    </tr>\n",
       "    <tr>\n",
       "      <th>선택의 자유도</th>\n",
       "      <td>-5.264284e-01</td>\n",
       "      <td>0.539897</td>\n",
       "      <td>0.342953</td>\n",
       "      <td>0.420206</td>\n",
       "      <td>0.301488</td>\n",
       "      <td>1.000000</td>\n",
       "      <td>0.274993</td>\n",
       "      <td>0.443004</td>\n",
       "      <td>-1.988010e-01</td>\n",
       "    </tr>\n",
       "    <tr>\n",
       "      <th>관대함</th>\n",
       "      <td>-7.623314e-02</td>\n",
       "      <td>0.106645</td>\n",
       "      <td>-0.044788</td>\n",
       "      <td>-0.014367</td>\n",
       "      <td>0.001476</td>\n",
       "      <td>0.274993</td>\n",
       "      <td>1.000000</td>\n",
       "      <td>0.344607</td>\n",
       "      <td>1.987775e-02</td>\n",
       "    </tr>\n",
       "    <tr>\n",
       "      <th>부패에 대한인식</th>\n",
       "      <td>-3.615352e-01</td>\n",
       "      <td>0.395319</td>\n",
       "      <td>0.308598</td>\n",
       "      <td>0.200387</td>\n",
       "      <td>0.293732</td>\n",
       "      <td>0.443004</td>\n",
       "      <td>0.344607</td>\n",
       "      <td>1.000000</td>\n",
       "      <td>-7.338544e-03</td>\n",
       "    </tr>\n",
       "    <tr>\n",
       "      <th>년도</th>\n",
       "      <td>1.380668e-13</td>\n",
       "      <td>0.014009</td>\n",
       "      <td>0.017386</td>\n",
       "      <td>-0.007376</td>\n",
       "      <td>0.253444</td>\n",
       "      <td>-0.198801</td>\n",
       "      <td>0.019878</td>\n",
       "      <td>-0.007339</td>\n",
       "      <td>1.000000e+00</td>\n",
       "    </tr>\n",
       "  </tbody>\n",
       "</table>\n",
       "</div>"
      ],
      "text/plain": [
       "                  행복랭킹        점수     상대GDP     사회적지원     행복기대치   선택의 자유도  \\\n",
       "행복랭킹      1.000000e+00 -0.990325 -0.803757 -0.752372 -0.757395 -0.526428   \n",
       "점수       -9.903250e-01  1.000000  0.797977  0.761080  0.755875  0.539897   \n",
       "상대GDP    -8.037573e-01  0.797977  1.000000  0.713293  0.816590  0.342953   \n",
       "사회적지원    -7.523724e-01  0.761080  0.713293  1.000000  0.668207  0.420206   \n",
       "행복기대치    -7.573946e-01  0.755875  0.816590  0.668207  1.000000  0.301488   \n",
       "선택의 자유도  -5.264284e-01  0.539897  0.342953  0.420206  0.301488  1.000000   \n",
       "관대함      -7.623314e-02  0.106645 -0.044788 -0.014367  0.001476  0.274993   \n",
       "부패에 대한인식 -3.615352e-01  0.395319  0.308598  0.200387  0.293732  0.443004   \n",
       "년도        1.380668e-13  0.014009  0.017386 -0.007376  0.253444 -0.198801   \n",
       "\n",
       "               관대함  부패에 대한인식            년도  \n",
       "행복랭킹     -0.076233 -0.361535  1.380668e-13  \n",
       "점수        0.106645  0.395319  1.400893e-02  \n",
       "상대GDP    -0.044788  0.308598  1.738595e-02  \n",
       "사회적지원    -0.014367  0.200387 -7.376014e-03  \n",
       "행복기대치     0.001476  0.293732  2.534442e-01  \n",
       "선택의 자유도   0.274993  0.443004 -1.988010e-01  \n",
       "관대함       1.000000  0.344607  1.987775e-02  \n",
       "부패에 대한인식  0.344607  1.000000 -7.338544e-03  \n",
       "년도        0.019878 -0.007339  1.000000e+00  "
      ]
     },
     "execution_count": 62,
     "metadata": {},
     "output_type": "execute_result"
    }
   ],
   "source": [
    "happy.corr(numeric_only=True)"
   ]
  },
  {
   "cell_type": "code",
   "execution_count": 63,
   "metadata": {},
   "outputs": [],
   "source": [
    "# 그래프 크기 조절\n",
    "import matplotlib.pyplot as plt\n",
    "plt.rcParams[\"figure.figsize\"] = (4,2)\n",
    "# 한글 폰트 적용\n",
    "from matplotlib import font_manager, rc\n",
    "font = 'C:/Windows/Fonts/malgun.ttf'\n",
    "font_name = font_manager.FontProperties(fname=font).get_name()\n",
    "rc('font', family=font_name)\n",
    "import seaborn as sns"
   ]
  },
  {
   "cell_type": "code",
   "execution_count": 65,
   "metadata": {
    "scrolled": false
   },
   "outputs": [
    {
     "data": {
      "image/png": "[encoded data removed]",
      "text/plain": [
       "<Figure size 400x400 with 4 Axes>"
      ]
     },
     "metadata": {},
     "output_type": "display_data"
    }
   ],
   "source": [
    "plt.figure(figsize=(4,4))\n",
    "plt.subplot(2,2,1)\n",
    "sns.regplot(data = happy, x = '상대GDP', y = '점수')\n",
    "plt.subplot(2,2,2)\n",
    "sns.regplot(data = happy, x = '사회적지원', y = '점수')\n",
    "plt.subplot(2,2,3)\n",
    "sns.regplot(data = happy, x = '행복기대치', y = '점수')\n",
    "plt.subplot(2,2,4)\n",
    "sns.regplot(data = happy, x = '관대함', y = '점수')\n",
    "plt.tight_layout()"
   ]
  },
  {
   "cell_type": "code",
   "execution_count": 68,
   "metadata": {},
   "outputs": [
    {
     "data": {
      "text/plain": [
       "PearsonRResult(statistic=0.7979774590297433, pvalue=3.81644541953723e-70)"
      ]
     },
     "execution_count": 68,
     "metadata": {},
     "output_type": "execute_result"
    }
   ],
   "source": [
    "from scipy import stats\n",
    "\n",
    "stats.pearsonr(happy['점수'], happy['상대GDP'])"
   ]
  },
  {
   "cell_type": "markdown",
   "metadata": {
    "colab_type": "text",
    "id": "zu4-DLtnVYzi"
   },
   "source": [
    "### Step 12. 2018년, 2019년 모두 기록이 있는 나라들 중 2018년보다 2019년의 행복지수가 증가했는지 확인해보세요."
   ]
  },
  {
   "cell_type": "code",
   "execution_count": 73,
   "metadata": {},
   "outputs": [
    {
     "name": "stdout",
     "output_type": "stream",
     "text": [
      "ShapiroResult(statistic=0.9846533536911011, pvalue=0.08994616568088531)\n",
      "ShapiroResult(statistic=0.9872364401817322, pvalue=0.1780090630054474)\n"
     ]
    }
   ],
   "source": [
    "print(stats.shapiro(happy2['점수_2018']))\n",
    "print(stats.shapiro(happy2['점수_2019']))"
   ]
  },
  {
   "cell_type": "code",
   "execution_count": 75,
   "metadata": {},
   "outputs": [
    {
     "data": {
      "text/plain": [
       "TtestResult(statistic=-2.40573963605896, pvalue=0.99132544132466, df=151)"
      ]
     },
     "execution_count": 75,
     "metadata": {},
     "output_type": "execute_result"
    }
   ],
   "source": [
    "# 정규성을 가지므로 대응표본 t검정\n",
    "stats.ttest_rel(happy2['점수_2018'], happy2['점수_2019'], \n",
    "                alternative='greater')"
   ]
  },
  {
   "cell_type": "code",
   "execution_count": 91,
   "metadata": {
    "scrolled": false
   },
   "outputs": [
    {
     "data": {
      "image/png": "[encoded data removed]",
      "text/plain": [
       "<Figure size 400x200 with 1 Axes>"
      ]
     },
     "metadata": {},
     "output_type": "display_data"
    }
   ],
   "source": [
    "happy3 = happy2\n",
    "happy4 = happy3['점수_2019'] - happy3['점수_2018']\n",
    "plt.bar(happy3['나라명'], happy4.values)\n",
    "# plt.ylim(-0.1, 0.15)\n",
    "plt.xticks(rotation=45)\n",
    "plt.show()"
   ]
  },
  {
   "cell_type": "code",
   "execution_count": 94,
   "metadata": {},
   "outputs": [
    {
     "data": {
      "text/plain": [
       "<matplotlib.collections.PathCollection at 0x28ed0e25f10>"
      ]
     },
     "execution_count": 94,
     "metadata": {},
     "output_type": "execute_result"
    },
    {
     "data": {
      "image/png": "[encoded data removed]",
      "text/plain": [
       "<Figure size 400x200 with 1 Axes>"
      ]
     },
     "metadata": {},
     "output_type": "display_data"
    }
   ],
   "source": [
    "plt.plot([1,4],[1,4])\n",
    "plt.scatter([2,2], [2, 3])"
   ]
  },
  {
   "cell_type": "code",
   "execution_count": 95,
   "metadata": {},
   "outputs": [
    {
     "data": {
      "text/plain": [
       "Index(['행복랭킹', '나라명', '점수', '상대GDP', '사회적지원', '행복기대치', '선택의 자유도', '관대함',\n",
       "       '부패에 대한인식', '년도'],\n",
       "      dtype='object')"
      ]
     },
     "execution_count": 95,
     "metadata": {},
     "output_type": "execute_result"
    }
   ],
   "source": [
    "happy.columns"
   ]
  },
  {
   "cell_type": "code",
   "execution_count": null,
   "metadata": {},
   "outputs": [],
   "source": []
  }
 ],
 "metadata": {
  "anaconda-cloud": {},
  "colab": {
   "collapsed_sections": [],
   "name": "직업_solution.ipynb",
   "provenance": []
  },
  "kernelspec": {
   "display_name": "Python 3 (ipykernel)",
   "language": "python",
   "name": "python3"
  },
  "language_info": {
   "codemirror_mode": {
    "name": "ipython",
    "version": 3
   },
   "file_extension": ".py",
   "mimetype": "text/x-python",
   "name": "python",
   "nbconvert_exporter": "python",
   "pygments_lexer": "ipython3",
   "version": "3.11.5"
  }
 },
 "nbformat": 4,
 "nbformat_minor": 1
}
