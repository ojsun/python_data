{
 "cells": [
  {
   "cell_type": "markdown",
   "id": "f358838a-4ed6-4250-9d1c-82e12ba6842a",
   "metadata": {},
   "source": [
    "### Numpy 기초"
   ]
  },
  {
   "cell_type": "code",
   "execution_count": 15,
   "id": "8131fcef-f45f-4de2-98de-33cd904a06f3",
   "metadata": {},
   "outputs": [],
   "source": [
    "import numpy as np"
   ]
  },
  {
   "cell_type": "code",
   "execution_count": 4,
   "id": "90ff0585-a982-4642-871d-355c2d237456",
   "metadata": {},
   "outputs": [
    {
     "data": {
      "text/plain": [
       "array(1)"
      ]
     },
     "execution_count": 4,
     "metadata": {},
     "output_type": "execute_result"
    }
   ],
   "source": [
    "array=np.array(1)\n",
    "array"
   ]
  },
  {
   "cell_type": "code",
   "execution_count": 7,
   "id": "41524d49-4a1d-454c-ac6f-042a4c3db1e8",
   "metadata": {},
   "outputs": [
    {
     "name": "stdout",
     "output_type": "stream",
     "text": [
      "<class 'numpy.ndarray'>\n"
     ]
    }
   ],
   "source": [
    "ndarr_1=np.array([1,2,3])\n",
    "print(type(ndarr_1))"
   ]
  },
  {
   "cell_type": "code",
   "execution_count": 8,
   "id": "c46824be-f8cf-46a3-9c59-86a9c09694b6",
   "metadata": {},
   "outputs": [
    {
     "name": "stdout",
     "output_type": "stream",
     "text": [
      "[1. 2. 3.]\n"
     ]
    }
   ],
   "source": [
    " ndarr_2=np.array([1,2.0,3])\n",
    "print(ndarr_2)"
   ]
  },
  {
   "cell_type": "code",
   "execution_count": 9,
   "id": "3b88fab1-9f2b-4b81-a56d-abfec8e1bd45",
   "metadata": {},
   "outputs": [
    {
     "name": "stdout",
     "output_type": "stream",
     "text": [
      "['1' '2.0' '3']\n"
     ]
    }
   ],
   "source": [
    "ndarr_3 = np.array ([1, 2.0, '3'])\n",
    "print(ndarr_3)"
   ]
  },
  {
   "cell_type": "code",
   "execution_count": 20,
   "id": "a9fb5f2a-413a-4583-961e-4f99639ee922",
   "metadata": {},
   "outputs": [
    {
     "name": "stdout",
     "output_type": "stream",
     "text": [
      "<class 'numpy.dtype'>\n"
     ]
    }
   ],
   "source": [
    "ndarr_2=np.dtype\n",
    "print(ndarr_2)"
   ]
  },
  {
   "cell_type": "code",
   "execution_count": 21,
   "id": "eb679461-9309-4655-a79c-672102b47744",
   "metadata": {},
   "outputs": [
    {
     "name": "stdout",
     "output_type": "stream",
     "text": [
      "[1 2 3]\n"
     ]
    }
   ],
   "source": [
    "ndarr_1 =np.array ([1, 2,3])\n",
    "print(ndarr_1)"
   ]
  },
  {
   "cell_type": "code",
   "execution_count": 22,
   "id": "d9c7a169-f2d4-4c02-8744-e32eb1d0b63a",
   "metadata": {},
   "outputs": [
    {
     "name": "stdout",
     "output_type": "stream",
     "text": [
      "[1. 2. 3.]\n"
     ]
    }
   ],
   "source": [
    "ndarr_2 =np.array ([1, 2.0,3])\n",
    "print(ndarr_2)"
   ]
  },
  {
   "cell_type": "code",
   "execution_count": 23,
   "id": "b66a0b67-d817-41c8-877c-f5021b42200b",
   "metadata": {},
   "outputs": [
    {
     "name": "stdout",
     "output_type": "stream",
     "text": [
      "['1' '2.0' '3']\n"
     ]
    }
   ],
   "source": [
    "ndarr_3 =np.array ([1, 2.0, '3'])\n",
    "print(ndarr_3)"
   ]
  },
  {
   "cell_type": "code",
   "execution_count": 24,
   "id": "6774cb1e-43d8-4372-bf21-a420b2700de3",
   "metadata": {},
   "outputs": [
    {
     "name": "stdout",
     "output_type": "stream",
     "text": [
      "int32\n",
      "float64\n",
      "<U32\n"
     ]
    }
   ],
   "source": [
    "print(ndarr_1.dtype)\n",
    "print(ndarr_2.dtype)\n",
    "print(ndarr_3.dtype)"
   ]
  },
  {
   "cell_type": "code",
   "execution_count": 25,
   "id": "83c400d5-1edf-4c0d-9f35-f26a7ab8c5c6",
   "metadata": {},
   "outputs": [
    {
     "name": "stdout",
     "output_type": "stream",
     "text": [
      "complex128\n",
      "object\n"
     ]
    }
   ],
   "source": [
    "print( np.array (1 + 2j).dtype)\n",
    "print( np.array (print).dtype)"
   ]
  },
  {
   "cell_type": "code",
   "execution_count": 26,
   "id": "500526ff-e54e-4b5e-b4a7-e6a4d7b53b79",
   "metadata": {},
   "outputs": [
    {
     "data": {
      "text/plain": [
       "numpy.str_"
      ]
     },
     "execution_count": 26,
     "metadata": {},
     "output_type": "execute_result"
    }
   ],
   "source": [
    "np.str_"
   ]
  },
  {
   "cell_type": "code",
   "execution_count": 28,
   "id": "72fb0311-c2fa-4139-afe4-599e70838514",
   "metadata": {},
   "outputs": [
    {
     "name": "stdout",
     "output_type": "stream",
     "text": [
      "[1 2 3]\n",
      "(3,)\n",
      "1\n",
      "int32\n",
      "3\n"
     ]
    }
   ],
   "source": [
    "vector =np.array ([1, 2,3])\n",
    "print(vector)\n",
    "print( vector.shape)\n",
    "print( vector.ndim)\n",
    "print( vector.dtype)\n",
    "print( vector.size)"
   ]
  },
  {
   "cell_type": "code",
   "execution_count": 32,
   "id": "d0660612-83e1-45a8-851d-42b8ae0a42aa",
   "metadata": {},
   "outputs": [
    {
     "name": "stdout",
     "output_type": "stream",
     "text": [
      "[[1 2 3]\n",
      " [4 5 6]]\n",
      "(2, 3)\n",
      "2\n",
      "int32\n",
      "6\n"
     ]
    }
   ],
   "source": [
    "matrix =np.array ([[1, 2, 3], [4, 5,6]])\n",
    "print(matrix)\n",
    "print(matrix.shape)\n",
    "print(matrix.ndim)\n",
    "print(matrix.dtype)\n",
    "print(matrix.size)"
   ]
  },
  {
   "cell_type": "code",
   "execution_count": 31,
   "id": "8ab93eb6-d585-4d7a-8347-d8fe933c1f38",
   "metadata": {},
   "outputs": [
    {
     "name": "stdout",
     "output_type": "stream",
     "text": [
      "[[[ 1  2  3]\n",
      "  [ 4  5  6]]\n",
      "\n",
      " [[ 7  8  9]\n",
      "  [10 11 12]]]\n",
      "(2, 2, 3)\n",
      "3\n",
      "int32\n",
      "12\n"
     ]
    }
   ],
   "source": [
    "tensor =np.array ([[[1, 2, 3], [4, 5, 6]], [[7, 8, 9], [10, 11,12]]])\n",
    "print(tensor)\n",
    "print(tensor.shape)\n",
    "print(tensor.ndim)\n",
    "print(tensor.dtype)\n",
    "print(tensor.size)"
   ]
  },
  {
   "cell_type": "code",
   "execution_count": 35,
   "id": "74762ea3-9adb-4622-b7d9-0c1c1269a855",
   "metadata": {},
   "outputs": [
    {
     "name": "stdout",
     "output_type": "stream",
     "text": [
      "[[[[ 1  2  3]\n",
      "   [ 4  5  6]]\n",
      "\n",
      "  [[ 7  8  9]\n",
      "   [10 11 12]]]\n",
      "\n",
      "\n",
      " [[[ 1  2  3]\n",
      "   [ 4  5  6]]\n",
      "\n",
      "  [[ 7  8  9]\n",
      "   [10 11 12]]]]\n",
      "(2, 2, 2, 3)\n",
      "4\n",
      "int32\n",
      "24\n"
     ]
    }
   ],
   "source": [
    "tensor=np.array([ [[[1, 2, 3], [4, 5, 6]], [[7, 8, 9], [10, 11,12]]],\n",
    "                   [[[1, 2, 3], [4, 5, 6]], [[7, 8, 9], [10, 11,12]]] ])\n",
    "print(tensor)\n",
    "print(tensor.shape)\n",
    "print(tensor.ndim)\n",
    "print(tensor.dtype)\n",
    "print(tensor.size)"
   ]
  },
  {
   "cell_type": "code",
   "execution_count": null,
   "id": "66b61348-4d07-430d-9a76-8abc8d784357",
   "metadata": {},
   "outputs": [],
   "source": [
    "scalar= = np.srray(1)"
   ]
  },
  {
   "cell_type": "code",
   "execution_count": 39,
   "id": "c0913638-cb22-4094-a196-d85e9dd309fd",
   "metadata": {},
   "outputs": [
    {
     "data": {
      "text/plain": [
       "array([[1, 2, 3],\n",
       "       [2, 4, 6],\n",
       "       [3, 6, 9]])"
      ]
     },
     "execution_count": 39,
     "metadata": {},
     "output_type": "execute_result"
    }
   ],
   "source": [
    "matrix=( [[1,2,3],[2,4,6],[3,6,9]] )\n",
    "np.array(matrix)"
   ]
  },
  {
   "cell_type": "code",
   "execution_count": 40,
   "id": "701d820f-5463-465e-862a-7b7cb12b3a08",
   "metadata": {},
   "outputs": [
    {
     "name": "stdout",
     "output_type": "stream",
     "text": [
      "9\n",
      "(3, 3)\n",
      "2\n"
     ]
    }
   ],
   "source": [
    "print(np.array(matrix).size)\n",
    "print(np.array(matrix).shape)\n",
    "print(np.array(matrix).ndim)"
   ]
  },
  {
   "cell_type": "code",
   "execution_count": 45,
   "id": "0cf33894-555d-44ad-aaac-8d02163ea16a",
   "metadata": {},
   "outputs": [],
   "source": [
    "list_ = [[ [ [1, 2], [3, 4] ], [ [5, 6], [7, 8] ] ]]"
   ]
  },
  {
   "cell_type": "code",
   "execution_count": 48,
   "id": "22e27fbc-ec63-4707-b630-e97158c6a62c",
   "metadata": {},
   "outputs": [
    {
     "name": "stdout",
     "output_type": "stream",
     "text": [
      "[[[[1 2]\n",
      "   [3 4]]\n",
      "\n",
      "  [[5 6]\n",
      "   [7 8]]]]\n"
     ]
    }
   ],
   "source": [
    "print(np.array(list_))"
   ]
  },
  {
   "cell_type": "code",
   "execution_count": 50,
   "id": "83697ead-d6b1-4ae6-bbbf-c181eb0c49bd",
   "metadata": {},
   "outputs": [
    {
     "name": "stdout",
     "output_type": "stream",
     "text": [
      "1\n",
      "4\n",
      "7\n"
     ]
    }
   ],
   "source": [
    "arr_ = np.array ([ [ [1, 2], [3, 4] ], [ [5, 6], [7, 8] ] ])\n",
    "\n",
    "print(arr_[0,0,0])\n",
    "print(arr_[0,1,1])\n",
    "print(arr_[1,1,0])"
   ]
  },
  {
   "cell_type": "code",
   "execution_count": 55,
   "id": "060f4c56-4863-4650-9590-51365dd68c8a",
   "metadata": {},
   "outputs": [
    {
     "name": "stdout",
     "output_type": "stream",
     "text": [
      "[[[1 2]\n",
      "  [3 4]]\n",
      "\n",
      " [[5 6]\n",
      "  [7 8]]]\n",
      "1\n",
      "4\n",
      "7\n"
     ]
    }
   ],
   "source": [
    "arr_ = np.array([ [ [1, 2], [3, 4] ], [ [5, 6], [7, 8] ] ])\n",
    "print(arr_)\n",
    "print(arr_[0,0,0])\n",
    "print(arr_[0,1,1])\n",
    "print(arr_[1,1,0])"
   ]
  },
  {
   "cell_type": "code",
   "execution_count": 62,
   "id": "f428d215-3ed2-4b60-b67a-f5e084fdb2fc",
   "metadata": {},
   "outputs": [
    {
     "name": "stdout",
     "output_type": "stream",
     "text": [
      "[[[ 1  2  3]\n",
      "  [ 4  5  6]]\n",
      "\n",
      " [[ 7  8  9]\n",
      "  [10 11 12]]]\n"
     ]
    }
   ],
   "source": [
    "tensor = np.array([ [ [1, 2, 3],[4, 5, 6]],\n",
    "                    [ [7, 8, 9],[10, 11, 12] ] ])\n",
    "print(tensor)"
   ]
  },
  {
   "cell_type": "code",
   "execution_count": null,
   "id": "f0887935-9666-40dd-af2c-deb950340060",
   "metadata": {},
   "outputs": [],
   "source": [
    "tensor[[]]"
   ]
  },
  {
   "cell_type": "code",
   "execution_count": null,
   "id": "7d304c83-9564-4045-a3ee-539f61b7ccdd",
   "metadata": {},
   "outputs": [],
   "source": [
    "# 10은 (1,1,0)  2는 (0,0,1)    3은 (0,1,2)  \n",
    "# 모든 인덱스값을 만들어서 나중에 합쳐서 쓸 것"
   ]
  },
  {
   "cell_type": "code",
   "execution_count": 58,
   "id": "eeaf0610-fac8-4307-accf-0ca724577f59",
   "metadata": {},
   "outputs": [
    {
     "data": {
      "text/plain": [
       "array([10,  2,  6])"
      ]
     },
     "execution_count": 58,
     "metadata": {},
     "output_type": "execute_result"
    }
   ],
   "source": [
    "tensor[[1,0,0],[1,0,1],[0,1,2]]"
   ]
  },
  {
   "cell_type": "code",
   "execution_count": 65,
   "id": "f224af09-4aa4-4336-8caa-b0ccaada7f9f",
   "metadata": {},
   "outputs": [
    {
     "data": {
      "text/plain": [
       "array([[1, 2],\n",
       "       [4, 5]])"
      ]
     },
     "execution_count": 65,
     "metadata": {},
     "output_type": "execute_result"
    }
   ],
   "source": [
    "tensor[0, : , 0:2]"
   ]
  },
  {
   "cell_type": "code",
   "execution_count": 66,
   "id": "8e5bc5fd-5d8f-4ce0-aecc-e9b8ceb7d672",
   "metadata": {},
   "outputs": [
    {
     "data": {
      "text/plain": [
       "array([ 9, 12])"
      ]
     },
     "execution_count": 66,
     "metadata": {},
     "output_type": "execute_result"
    }
   ],
   "source": [
    "tensor[1, : ,2]"
   ]
  },
  {
   "cell_type": "code",
   "execution_count": null,
   "id": "0c5897c4-8aa0-44b2-9cfb-e42a31c4ebc9",
   "metadata": {},
   "outputs": [],
   "source": []
  },
  {
   "cell_type": "code",
   "execution_count": null,
   "id": "f6aa765f-8448-4213-bd01-62f30366d258",
   "metadata": {},
   "outputs": [],
   "source": []
  },
  {
   "cell_type": "code",
   "execution_count": null,
   "id": "cde2a9a5-4fd4-4d10-84ed-689b6f6c82d1",
   "metadata": {},
   "outputs": [],
   "source": []
  },
  {
   "cell_type": "code",
   "execution_count": null,
   "id": "9dcbd461-8799-48f6-8c3d-3596838dfc6c",
   "metadata": {},
   "outputs": [],
   "source": []
  }
 ],
 "metadata": {
  "kernelspec": {
   "display_name": "Python 3 (ipykernel)",
   "language": "python",
   "name": "python3"
  },
  "language_info": {
   "codemirror_mode": {
    "name": "ipython",
    "version": 3
   },
   "file_extension": ".py",
   "mimetype": "text/x-python",
   "name": "python",
   "nbconvert_exporter": "python",
   "pygments_lexer": "ipython3",
   "version": "3.11.5"
  }
 },
 "nbformat": 4,
 "nbformat_minor": 5
}
