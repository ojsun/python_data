{
 "cells": [
  {
   "cell_type": "markdown",
   "id": "27e891d5-652a-41b9-a5b0-3e9c9e7a0b73",
   "metadata": {},
   "source": [
    "### Numpy  활용(함수, 연산 등)"
   ]
  },
  {
   "cell_type": "code",
   "execution_count": null,
   "id": "425f17d0-db38-4b15-a99d-82248e8e7054",
   "metadata": {},
   "outputs": [],
   "source": [
    "import numpy as np"
   ]
  },
  {
   "cell_type": "code",
   "execution_count": null,
   "id": "1c8219eb-a447-4018-9871-21e19fd56095",
   "metadata": {},
   "outputs": [],
   "source": [
    "# shape 변환 --> reshape()\n",
    "arr = np.array([[1, 2, 3], [4, 5, 6]]) # 2x3 형태의 2차원 배열\n",
    "print(arr.reshape(3,2))"
   ]
  },
  {
   "cell_type": "code",
   "execution_count": null,
   "id": "8241136b-b127-4e58-8238-fb4a7752e67b",
   "metadata": {},
   "outputs": [],
   "source": [
    "tensor=np.array(range(1,37))\n",
    "tensor.reshape(-1,3,4)"
   ]
  },
  {
   "cell_type": "code",
   "execution_count": null,
   "id": "61004b3a-5ba4-4919-876f-1d119aa214ed",
   "metadata": {},
   "outputs": [],
   "source": [
    "tensor.reshape(-1,9)"
   ]
  },
  {
   "cell_type": "code",
   "execution_count": null,
   "id": "371804cf-3e7a-4411-8322-0f699bada6b0",
   "metadata": {},
   "outputs": [],
   "source": [
    "# 1차원 배열으로 만드는 flatten()\n",
    "print(tensor.flatten())"
   ]
  },
  {
   "cell_type": "code",
   "execution_count": null,
   "id": "ad0b645e-56e8-445f-aca4-1821bf829c77",
   "metadata": {},
   "outputs": [],
   "source": [
    "# list의 range와 같은 역할 --> arange\n",
    "print(np.arange(0, 2, 0.2))"
   ]
  },
  {
   "cell_type": "code",
   "execution_count": null,
   "id": "415e93ca-1b49-4e54-bb8f-d311598d32d7",
   "metadata": {},
   "outputs": [],
   "source": [
    "print(np.arange(10, 0, -2))"
   ]
  },
  {
   "cell_type": "code",
   "execution_count": null,
   "id": "ad5ec5b7-785b-4ff3-a96c-8e8eb6632481",
   "metadata": {},
   "outputs": [],
   "source": [
    "print(np.arange (0, 6, 0.2).reshape(3, 2,5))"
   ]
  },
  {
   "cell_type": "code",
   "execution_count": null,
   "id": "d8376656-7e52-4374-8e67-fd64f84e86cf",
   "metadata": {},
   "outputs": [],
   "source": [
    "np.arange (0, 6, 0.2).size"
   ]
  },
  {
   "cell_type": "code",
   "execution_count": null,
   "id": "f987dcdf-0fbf-4b57-b896-f532b0a0a693",
   "metadata": {},
   "outputs": [],
   "source": [
    "print(np.arange (100,191,10).reshape(2,5))"
   ]
  },
  {
   "cell_type": "code",
   "execution_count": null,
   "id": "6470bcfb-c31a-4f20-8f2c-eee7c65c114c",
   "metadata": {},
   "outputs": [],
   "source": [
    "print(np.arange(-2,2.1,0.5).reshape(3,3))"
   ]
  },
  {
   "cell_type": "code",
   "execution_count": null,
   "id": "a68f2dde-2dea-48dc-9abd-cdf3af7fcf37",
   "metadata": {},
   "outputs": [],
   "source": [
    "np.arange(-2,2.1,0.5).size"
   ]
  },
  {
   "cell_type": "code",
   "execution_count": null,
   "id": "ec6d1e3e-a0d2-4901-851f-b7e8331ff196",
   "metadata": {},
   "outputs": [],
   "source": [
    "score =np.array ([[78, 91, 84, 89, 93, 65],[82, 87, 96, 79, 91, 73]])\n",
    "print(score)"
   ]
  },
  {
   "cell_type": "code",
   "execution_count": null,
   "id": "c7affe5a-3894-4dc7-8552-2a57aa82e6f7",
   "metadata": {},
   "outputs": [],
   "source": [
    "# zeros\n",
    "print(np.zeros((2,3)))"
   ]
  },
  {
   "cell_type": "code",
   "execution_count": null,
   "id": "5fbdd5c0-7e94-4112-9527-8d0edf28547d",
   "metadata": {},
   "outputs": [],
   "source": [
    "# ones\n",
    "print(np.ones(shape=(9, ), dtype=np.int8))"
   ]
  },
  {
   "cell_type": "code",
   "execution_count": null,
   "id": "affafb71-9162-4d3a-bf01-5297498a7bff",
   "metadata": {},
   "outputs": [],
   "source": [
    "# empty\n",
    "print(np.empty(shape = (10,), dtype = np.int32))"
   ]
  },
  {
   "cell_type": "code",
   "execution_count": null,
   "id": "3c6f4cf0-3f8b-4f21-b0a0-73dd7810e0c7",
   "metadata": {},
   "outputs": [],
   "source": [
    "print(np.empty((20,5), np.int8))"
   ]
  },
  {
   "cell_type": "code",
   "execution_count": null,
   "id": "d8b3ae16-3e1d-4a8f-bae8-f316294d63eb",
   "metadata": {},
   "outputs": [],
   "source": [
    "# random\n",
    "print(np.random.randint(1, 10, (2,5)))"
   ]
  },
  {
   "cell_type": "code",
   "execution_count": null,
   "id": "9311d1e9-a81e-4027-b350-3b97cfba2d8a",
   "metadata": {},
   "outputs": [],
   "source": [
    "print(np.random.rand(3,5))"
   ]
  },
  {
   "cell_type": "code",
   "execution_count": null,
   "id": "2b5bb789-5904-49fd-871a-7f3b80e3ba31",
   "metadata": {},
   "outputs": [],
   "source": [
    "print(np.random.randn(3,2))"
   ]
  },
  {
   "cell_type": "code",
   "execution_count": null,
   "id": "03b7b21c-7eeb-4f92-987d-2f0b2312ddb3",
   "metadata": {},
   "outputs": [],
   "source": [
    "# 다차원 배열의 덧셈 "
   ]
  },
  {
   "cell_type": "code",
   "execution_count": null,
   "id": "46aa5e27-cf62-424f-938e-19342871bdf4",
   "metadata": {},
   "outputs": [],
   "source": [
    "matrix = np.arange(1, 7).reshape(2, 3)\n",
    "print(matrix)\n",
    "print(matrix.sum())"
   ]
  },
  {
   "cell_type": "code",
   "execution_count": null,
   "id": "1984f32a-f5ba-43a4-8f49-249711b71856",
   "metadata": {},
   "outputs": [],
   "source": [
    "print(matrix.sum(axis=0))"
   ]
  },
  {
   "cell_type": "code",
   "execution_count": null,
   "id": "fb70eed6-45ca-4dda-823d-a7a730ff18c1",
   "metadata": {},
   "outputs": [],
   "source": [
    "print(matrix.sum(axis=1))"
   ]
  },
  {
   "cell_type": "code",
   "execution_count": null,
   "id": "a96fd845-51e1-40d1-bb72-337c558c818c",
   "metadata": {},
   "outputs": [],
   "source": [
    "tensor = np.arange(1, 19).reshape(3, 2, 3)\n",
    "print(tensor)\n",
    "print(tensor.sum())"
   ]
  },
  {
   "cell_type": "code",
   "execution_count": null,
   "id": "8018cfd5-0995-4c63-9cbe-69ed3ba50ee1",
   "metadata": {},
   "outputs": [],
   "source": [
    "sum(matrix) # 배열 [1,2,3] + [4,5,6] >> [5,6,7]"
   ]
  },
  {
   "cell_type": "code",
   "execution_count": null,
   "id": "0ce17212-0e12-4d1c-b5ec-454c21cc3078",
   "metadata": {},
   "outputs": [],
   "source": [
    "[1,2,3] + [4,5,6] "
   ]
  },
  {
   "cell_type": "markdown",
   "id": "99c4c378-4b0b-413d-ac45-550efab7854f",
   "metadata": {},
   "source": [
    "## 다차원 배열의 합계(sum)"
   ]
  },
  {
   "cell_type": "code",
   "execution_count": null,
   "id": "e4f0e703-eec8-40b7-9c2c-3d6ceb85c06a",
   "metadata": {},
   "outputs": [],
   "source": [
    "# 2차원의 합\n",
    "matrix = np.arange(1, 7).reshape(2, 3)\n",
    "print(matrix)"
   ]
  },
  {
   "cell_type": "code",
   "execution_count": null,
   "id": "a9c0bf72-1bf7-4028-a877-f80563ecff53",
   "metadata": {},
   "outputs": [],
   "source": [
    "print(matrix.sum(axis=0))\n",
    "print(matrix.sum(axis=1))"
   ]
  },
  {
   "cell_type": "code",
   "execution_count": null,
   "id": "de427ff3-ee5a-4625-911e-3a18110dfa1d",
   "metadata": {},
   "outputs": [],
   "source": [
    "# 3차원의 합\n",
    "tensor=np.arange(36).reshape(3,2,6)\n",
    "print(tensor)"
   ]
  },
  {
   "cell_type": "code",
   "execution_count": null,
   "id": "b157897e-2bc9-4542-9bf7-14e955c0a13b",
   "metadata": {},
   "outputs": [],
   "source": [
    "print(tensor.sum(axis=0))\n",
    "print()\n",
    "print(tensor.sum(axis=1))\n",
    "print()\n",
    "print(tensor.sum(axis=2))"
   ]
  },
  {
   "cell_type": "code",
   "execution_count": null,
   "id": "1f2b9752-c674-4a60-bd59-a8474dbec73d",
   "metadata": {},
   "outputs": [],
   "source": [
    "print(tensor.mean(axis=2))"
   ]
  },
  {
   "cell_type": "code",
   "execution_count": null,
   "id": "f887de58-b99a-4644-b83a-7d5ea84da908",
   "metadata": {},
   "outputs": [],
   "source": []
  },
  {
   "cell_type": "code",
   "execution_count": null,
   "id": "4b869a89-956d-44c0-9087-503985fe4920",
   "metadata": {},
   "outputs": [],
   "source": [
    "# 4차원의 합\n",
    "tensor=np.arange(48).reshape(2,2,3,4)\n",
    "print(tensor)"
   ]
  },
  {
   "cell_type": "code",
   "execution_count": null,
   "id": "301b9b83-e812-41fa-9dde-c2b571fd5d6f",
   "metadata": {},
   "outputs": [],
   "source": [
    "print(tensor.sum(axis=0))\n",
    "print()"
   ]
  },
  {
   "cell_type": "code",
   "execution_count": null,
   "id": "176462c3-10dd-47f6-b990-5d66dec0c096",
   "metadata": {},
   "outputs": [],
   "source": [
    "print(tensor.sum(axis=1))\n",
    "print()"
   ]
  },
  {
   "cell_type": "code",
   "execution_count": null,
   "id": "3c45e495-8baa-48ab-aa78-04b02c27615b",
   "metadata": {},
   "outputs": [],
   "source": []
  },
  {
   "cell_type": "code",
   "execution_count": null,
   "id": "5c1988bc-17bc-423d-a834-2e3a8a474cc7",
   "metadata": {},
   "outputs": [],
   "source": [
    "# 평균(mean)\n",
    "print(matrix.mean())"
   ]
  },
  {
   "cell_type": "code",
   "execution_count": null,
   "id": "06a3373c-dca3-44eb-9bf4-d9ece15504d6",
   "metadata": {},
   "outputs": [],
   "source": [
    "print(matrix.mean(axis=0))\n",
    "print(matrix.mean(axis=1))"
   ]
  },
  {
   "cell_type": "code",
   "execution_count": null,
   "id": "0490e328-ec5e-41bf-b3f0-62c6359351da",
   "metadata": {},
   "outputs": [],
   "source": [
    "# 표준편차 (std)\n",
    "print(matrix.std())\n",
    "print(matrix.std(axis=0))\n",
    "print(matrix.std(axis=1))"
   ]
  },
  {
   "cell_type": "code",
   "execution_count": null,
   "id": "fa432052-32e0-4f01-b6a9-6cef6fbf1cf7",
   "metadata": {},
   "outputs": [],
   "source": [
    "# 평균과의 차이를 제곱(**)해서 양수화\n",
    "# ==> 분산(varianse)  ==> 분산의 제곱근(루트)  ==> 표준편차(std)"
   ]
  },
  {
   "cell_type": "code",
   "execution_count": null,
   "id": "1cf26439-6874-4377-af49-6b19824c76d4",
   "metadata": {},
   "outputs": [],
   "source": [
    "# 분산 var()\n",
    "print(matrix.var())\n",
    "print(matrix.var(axis=0))\n",
    "print(matrix.var(axis=1))"
   ]
  },
  {
   "cell_type": "code",
   "execution_count": null,
   "id": "c84af92e-d62f-446b-aabc-c416640ea211",
   "metadata": {},
   "outputs": [],
   "source": [
    "# 제곱근 sqrt\n",
    "print(np.sqrt(matrix))"
   ]
  },
  {
   "cell_type": "raw",
   "id": "e7c1b9b6-2c5d-4bf2-b075-0d83e749f67c",
   "metadata": {},
   "source": [
    "# 소수찾기 알고니즘 -- 제곱근으로 알아보기\n",
    "특정숫자 가져와서 나눠보고 나주어지면 소수 x\n",
    "# 제곱근(sqrt)\n",
    "특정숫자 x의 제곱근을 구해서 (np.sqrt(x))\n",
    "1보다 크고 제곱근보다 작으면 정수까지를 들고와서 나누어지면 소수x(1 제외)"
   ]
  },
  {
   "cell_type": "code",
   "execution_count": null,
   "id": "cb78406c-ecf2-468d-8663-5f4a74d91eda",
   "metadata": {},
   "outputs": [],
   "source": [
    "# 산술연산 -배열끼리의 산술연산/shape이 같아야 가능"
   ]
  },
  {
   "cell_type": "code",
   "execution_count": null,
   "id": "d72d5fed-b525-4338-90ab-2635722b0e71",
   "metadata": {},
   "outputs": [],
   "source": [
    "arr1 = np.array([1,2,3])\n",
    "arr2 = np.array([4,5,6])\n",
    "print(arr1 + arr2)"
   ]
  },
  {
   "cell_type": "code",
   "execution_count": null,
   "id": "0c245f43-8f5d-4faa-b21b-649f2ce880af",
   "metadata": {},
   "outputs": [],
   "source": [
    "print(np.divide(arr1,arr2))\n",
    "print(arr1/arr2)"
   ]
  },
  {
   "cell_type": "code",
   "execution_count": null,
   "id": "e794ce28-7edb-4994-9452-6f176ee03f6d",
   "metadata": {},
   "outputs": [],
   "source": []
  },
  {
   "cell_type": "code",
   "execution_count": null,
   "id": "50073aab-0803-40c5-a930-8b1b08e7fd1d",
   "metadata": {},
   "outputs": [],
   "source": [
    "# Broadcasting : shape가 다른 경우에도 연산 가능, 지원하는 "
   ]
  },
  {
   "cell_type": "code",
   "execution_count": null,
   "id": "e56531a6-5957-4e87-aa78-1b86788aad33",
   "metadata": {},
   "outputs": [],
   "source": [
    "scalar = 10\n",
    "vector = np.array([1, 2, 3])\n",
    "print(scalar + vector)\n",
    "scalar == vector"
   ]
  },
  {
   "cell_type": "code",
   "execution_count": null,
   "id": "e86e9168-e269-43de-a313-c147b0eaf535",
   "metadata": {},
   "outputs": [],
   "source": [
    "scalar = 10\n",
    "matrix = np.array([[1, 2, 3], [4, 5, 6]])\n",
    "print(scalar + matrix)"
   ]
  },
  {
   "cell_type": "code",
   "execution_count": null,
   "id": "ab23cbdd-d366-4a22-85bb-c4bf5756e687",
   "metadata": {},
   "outputs": [],
   "source": [
    "matrix = np.arange(1,10).reshape(3, 3)\n",
    "\n",
    "vector = np.arange(11,14).reshape(3, 1)\n",
    "print(matrix + vector)"
   ]
  },
  {
   "cell_type": "code",
   "execution_count": null,
   "id": "9a5c8041-ee60-4330-9f8a-12cec96dcba4",
   "metadata": {},
   "outputs": [],
   "source": []
  },
  {
   "cell_type": "code",
   "execution_count": null,
   "id": "fd7a76bc-3497-4546-90dd-6817a5305e09",
   "metadata": {},
   "outputs": [],
   "source": [
    "arr1 = np.array([1,2,3])\n",
    "arr2 = np.array([1,2,3]).reshape(3, 1)\n",
    "print(arr1)\n",
    "print(arr2)"
   ]
  },
  {
   "cell_type": "code",
   "execution_count": null,
   "id": "c3f9e0ea-ed16-4552-a4bb-967d56311df4",
   "metadata": {},
   "outputs": [],
   "source": [
    "print(arr1+arr2)"
   ]
  },
  {
   "cell_type": "code",
   "execution_count": null,
   "id": "5cf605ca-94e5-4c6f-8574-60b8630a6fa7",
   "metadata": {},
   "outputs": [],
   "source": [
    "\n",
    "arr1 = np.array([1,2,3])\n",
    "arr2 = np.array([4,5,6])\n",
    "print(arr1 + arr2)"
   ]
  },
  {
   "cell_type": "code",
   "execution_count": null,
   "id": "8fbbe867-e5da-4731-9ff6-3838adfffa74",
   "metadata": {},
   "outputs": [],
   "source": [
    "# 행렬 연산 np.dot(arr1,arr2)\n",
    "arr1 = np.array([1,2,3])\n",
    "arr2 = np.array([1,2,3])\n",
    "print(arr1 * arr2)"
   ]
  },
  {
   "cell_type": "code",
   "execution_count": null,
   "id": "baa68fec-5757-4916-b8b2-43f62eb49083",
   "metadata": {},
   "outputs": [],
   "source": [
    "arr1 = np.array([1,2,3])\n",
    "arr2 = np.array([1,2,3])\n",
    "print(arr1 * arr2)"
   ]
  },
  {
   "cell_type": "code",
   "execution_count": null,
   "id": "e8a8a4d5-f034-4955-bb3f-ce1239789cff",
   "metadata": {},
   "outputs": [],
   "source": [
    "matrix = np.array([np.random.randint(1, 100) \n",
    "for n in range(20)]).reshape(4, 5)\n",
    "print(matrix)"
   ]
  },
  {
   "cell_type": "code",
   "execution_count": null,
   "id": "dfdcee06-d821-45c4-9f18-398c4186d783",
   "metadata": {},
   "outputs": [],
   "source": [
    "np.sort(matrix, axis=1)"
   ]
  },
  {
   "cell_type": "code",
   "execution_count": null,
   "id": "684a8871-6c33-459f-a252-a215da1e6757",
   "metadata": {},
   "outputs": [],
   "source": [
    "#2차원의 경우 상하 정렬 내림차순\n",
    "np.sort(matrix, axis=0)[::-1]"
   ]
  },
  {
   "cell_type": "code",
   "execution_count": null,
   "id": "4ab7d4a7-fe8e-47c6-88ae-72ef7ccf5060",
   "metadata": {},
   "outputs": [],
   "source": [
    "# 2차원 일 경우 좌우 정렬 내림차순"
   ]
  },
  {
   "cell_type": "code",
   "execution_count": null,
   "id": "e217c7f0-e007-4d44-a8f3-27511419970d",
   "metadata": {},
   "outputs": [],
   "source": [
    "np.sort(matrix, axis=1)[::-1]"
   ]
  },
  {
   "cell_type": "code",
   "execution_count": null,
   "id": "80c75bd4-ed90-401b-b69e-2ebe5e4b50ef",
   "metadata": {},
   "outputs": [],
   "source": [
    "matrix.max()"
   ]
  },
  {
   "cell_type": "code",
   "execution_count": null,
   "id": "1fa11e96-cb4f-4910-a28a-ceb3f625fdaa",
   "metadata": {},
   "outputs": [],
   "source": [
    "matrix.argmax()"
   ]
  },
  {
   "cell_type": "code",
   "execution_count": null,
   "id": "b601fa1c-81fe-4372-8ab8-5bf5756958d3",
   "metadata": {},
   "outputs": [],
   "source": [
    "matrix.max(axis=0)"
   ]
  },
  {
   "cell_type": "code",
   "execution_count": null,
   "id": "7a6daa7f-1f31-4ff6-b2ef-151f6af139cc",
   "metadata": {},
   "outputs": [],
   "source": [
    "matrix.argmax(axis=0)"
   ]
  },
  {
   "cell_type": "code",
   "execution_count": null,
   "id": "27751a46-ef3d-4fad-89f4-12754b2a3f59",
   "metadata": {},
   "outputs": [],
   "source": [
    "c=np.random.randn(2,3)\n",
    "print(c)"
   ]
  },
  {
   "cell_type": "code",
   "execution_count": null,
   "id": "1a39f824-891a-48b3-89f1-36d37adb5883",
   "metadata": {},
   "outputs": [],
   "source": [
    "print(np.argsort(c))"
   ]
  },
  {
   "cell_type": "code",
   "execution_count": null,
   "id": "cfd04ed4-b58e-450f-97d2-2464f9479626",
   "metadata": {},
   "outputs": [],
   "source": [
    "print(np.argsort(c, axis=0))"
   ]
  },
  {
   "cell_type": "code",
   "execution_count": null,
   "id": "753efc99-10f2-4bd9-b743-c1559157fc96",
   "metadata": {},
   "outputs": [],
   "source": [
    "print(np.argsort(c, axis=1))"
   ]
  },
  {
   "cell_type": "code",
   "execution_count": null,
   "id": "979b728e-9615-424e-85f4-2e461f265aba",
   "metadata": {},
   "outputs": [],
   "source": [
    "vector1 = np.array([1, 2, 3])\n",
    "vector2 = np.array([4, 5, 6])\n",
    "print(np.vstack([vector1, vector2]))"
   ]
  },
  {
   "cell_type": "code",
   "execution_count": null,
   "id": "08e6fa06-52b4-4ae5-8d7a-bcd9710361f1",
   "metadata": {},
   "outputs": [],
   "source": [
    "vector1 = np.array([1, 2, 3]).reshape(3, 1)\n",
    "vector2 = np.array([4, 5, 6]).reshape(3, 1)\n",
    "print(np.hstack([vector1, vector2]))"
   ]
  },
  {
   "cell_type": "code",
   "execution_count": null,
   "id": "5f523d6a-eee8-402f-9cf8-84c57f3ce7b8",
   "metadata": {},
   "outputs": [],
   "source": [
    "print(np.hstack([vector1, vector2]))"
   ]
  },
  {
   "cell_type": "code",
   "execution_count": null,
   "id": "00b8191b-091e-44e2-b340-15eaeee24836",
   "metadata": {},
   "outputs": [],
   "source": [
    "print(np.vstack([vector1, vector2]))"
   ]
  },
  {
   "cell_type": "code",
   "execution_count": null,
   "id": "f106dbc6-b17c-47ac-8d10-e6ab392d4b91",
   "metadata": {},
   "outputs": [],
   "source": []
  },
  {
   "cell_type": "code",
   "execution_count": null,
   "id": "90664a1d-7de7-4e96-8a63-c233a89a7ca3",
   "metadata": {},
   "outputs": [],
   "source": [
    "print(np.vstack([vector1, vector2]))"
   ]
  },
  {
   "cell_type": "code",
   "execution_count": null,
   "id": "350a5de5-bda1-4e13-ae41-8a4f91a13d2c",
   "metadata": {},
   "outputs": [],
   "source": [
    "vector1 = np.array([1, 2, 3])\n",
    "vector2 = np.array([4, 5, 6])\n",
    "print(np.concatenate([vector1, vector2], axis = 0))"
   ]
  },
  {
   "cell_type": "code",
   "execution_count": null,
   "id": "f1e06f7e-02bf-43a4-b6fa-7be2ecc0be18",
   "metadata": {},
   "outputs": [],
   "source": [
    "vector1 = np.array([1, 2, 3]).reshape(3, 1)\n",
    "print(vector1)\n",
    "vector2 = np.array([4, 5, 6]).reshape(3, 1)\n",
    "print(vector2)\n",
    "print(np.concatenate([vector1, vector2], axis = 1))"
   ]
  },
  {
   "cell_type": "code",
   "execution_count": null,
   "id": "8b628383-4358-4ae5-b974-32678393690a",
   "metadata": {},
   "outputs": [],
   "source": [
    "matrix1 = np.arange(1,5).reshape(2,2)\n",
    "matrix2 = np.arange(5,9).reshape(2,2)\n",
    "print(np.concatenate([matrix1, matrix2], axis = 0))"
   ]
  },
  {
   "cell_type": "code",
   "execution_count": null,
   "id": "99b312a2-24ee-4da9-863e-cc467b235439",
   "metadata": {},
   "outputs": [],
   "source": [
    "matrix1 = np.arange(1,5).reshape(2,2)\n",
    "matrix2 = np.arange(5,9).reshape(2,2)\n",
    "print(np.concatenate([matrix1, matrix2], axis = 1))"
   ]
  },
  {
   "cell_type": "code",
   "execution_count": null,
   "id": "ac20ce10-bff8-4dbf-b4dc-5d2e9378ff1d",
   "metadata": {},
   "outputs": [],
   "source": []
  },
  {
   "cell_type": "code",
   "execution_count": null,
   "id": "fce7288f-8367-4fd9-87c2-8e98fce5d301",
   "metadata": {
    "scrolled": true
   },
   "outputs": [],
   "source": [
    "matrix1 = np.arange(1,5).reshape(2,2)\n",
    "print(matrix1)\n",
    "print()\n",
    "matrix2 = np.arange(5,9).reshape(2,2)\n",
    "print(matrix2)\n",
    "print()\n",
    "print(np.vstack([matrix1, matrix2]))"
   ]
  },
  {
   "cell_type": "code",
   "execution_count": null,
   "id": "ae01f841-de28-45c6-bd1d-2b3d8dc9ac5a",
   "metadata": {},
   "outputs": [],
   "source": []
  },
  {
   "cell_type": "code",
   "execution_count": 108,
   "id": "4b397cd3-97f4-47df-8ea9-a439b2227076",
   "metadata": {},
   "outputs": [
    {
     "name": "stdout",
     "output_type": "stream",
     "text": [
      "[[5 6 7]]\n"
     ]
    }
   ],
   "source": [
    "matrix3=np.array([[5,6,7]])\n",
    "print(matrix3)"
   ]
  },
  {
   "cell_type": "code",
   "execution_count": 109,
   "id": "0450cb27-8395-4309-bf15-ba5ad377e5a8",
   "metadata": {},
   "outputs": [
    {
     "name": "stdout",
     "output_type": "stream",
     "text": [
      "[[5]\n",
      " [6]\n",
      " [7]]\n",
      "[[5]\n",
      " [6]\n",
      " [7]]\n"
     ]
    }
   ],
   "source": [
    "print(matrix3.transpose())\n",
    "print(matrix3.T)"
   ]
  },
  {
   "cell_type": "code",
   "execution_count": null,
   "id": "b6dcebf0-381f-4c7f-9dbe-1dea1db96c25",
   "metadata": {},
   "outputs": [],
   "source": []
  },
  {
   "cell_type": "code",
   "execution_count": null,
   "id": "7704e531-ab6b-470a-9cc8-d9464326e6ef",
   "metadata": {},
   "outputs": [],
   "source": []
  }
 ],
 "metadata": {
  "kernelspec": {
   "display_name": "Python 3 (ipykernel)",
   "language": "python",
   "name": "python3"
  },
  "language_info": {
   "codemirror_mode": {
    "name": "ipython",
    "version": 3
   },
   "file_extension": ".py",
   "mimetype": "text/x-python",
   "name": "python",
   "nbconvert_exporter": "python",
   "pygments_lexer": "ipython3",
   "version": "3.11.5"
  }
 },
 "nbformat": 4,
 "nbformat_minor": 5
}
