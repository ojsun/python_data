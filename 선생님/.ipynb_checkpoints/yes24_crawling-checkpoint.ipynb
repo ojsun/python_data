{
 "cells": [
  {
   "cell_type": "code",
   "execution_count": null,
   "id": "99f8ffa7",
   "metadata": {
    "tags": []
   },
   "outputs": [],
   "source": [
    "import requests\n",
    "from bs4 import BeautifulSoup\n",
    "import pymysql\n",
    "\n",
    "word = '빅데이터'\n",
    "books = []\n",
    "conn = pymysql.connect(user = 'maria', password = '1234',\n",
    "                       host = 'localhost', port = 3306,\n",
    "                       database = 'python_db')\n",
    "cursor = conn.cursor()\n",
    "\n",
    "for page in range(1, 6):\n",
    "    url = f'https://www.yes24.com/Product/Search?domain=ALL&query={word}&page={page}'\n",
    "\n",
    "    response = requests.get(url)\n",
    "    if response.status_code == 200:\n",
    "        soup = BeautifulSoup(response.content, 'html.parser')\n",
    "        lis = soup.select('#yesSchList > li')\n",
    "        for li in lis:\n",
    "            try:\n",
    "                bcode = li.get('data-goods-no')\n",
    "                title = li.select_one('.gd_name').text.strip()\n",
    "                author = li.select_one('.authPub.info_auth > a').text.strip()\n",
    "                publisher = li.select_one('.authPub.info_pub > a').text.strip()\n",
    "                sql = f'''select bscode from book_store where name = '{publisher}' '''\n",
    "                cursor.execute(sql)\n",
    "                pub_code = cursor.fetchone()\n",
    "                if not pub_code:\n",
    "                    pub_code = [0]\n",
    "\n",
    "                year_of_publication = li.select_one('.authPub.info_date').text.strip()\n",
    "                price = li.select_one('.info_price em.yes_b').text.replace(',', '')\n",
    "                books.append([bcode, title, author, year_of_publication, pub_code[0], price])\n",
    "            except:\n",
    "                continue\n",
    "\n",
    "    else:\n",
    "        print(response.status_code)\n",
    "        \n",
    "sql = '''insert into book_list values (%s, %s, %s, %s, %s, %s)'''\n",
    "\n",
    "for book in books:\n",
    "    try:\n",
    "        cursor.execute(sql, book)\n",
    "    except:\n",
    "        print('duplicate')\n",
    "        continue\n",
    "conn.commit()\n",
    "conn.close()"
   ]
  },
  {
   "cell_type": "code",
   "execution_count": null,
   "id": "a3296857",
   "metadata": {},
   "outputs": [],
   "source": []
  }
 ],
 "metadata": {
  "kernelspec": {
   "display_name": "Python 3 (ipykernel)",
   "language": "python",
   "name": "python3"
  },
  "language_info": {
   "codemirror_mode": {
    "name": "ipython",
    "version": 3
   },
   "file_extension": ".py",
   "mimetype": "text/x-python",
   "name": "python",
   "nbconvert_exporter": "python",
   "pygments_lexer": "ipython3",
   "version": "3.11.5"
  }
 },
 "nbformat": 4,
 "nbformat_minor": 5
}
