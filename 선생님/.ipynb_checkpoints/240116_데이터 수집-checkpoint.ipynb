{
 "cells": [
  {
   "cell_type": "code",
   "execution_count": 1,
   "id": "24fc23e5",
   "metadata": {},
   "outputs": [
    {
     "name": "stdout",
     "output_type": "stream",
     "text": [
      "정상\n"
     ]
    }
   ],
   "source": [
    "import requests\n",
    "\n",
    "url = 'https://www.gmarket.co.kr/n/best'\n",
    "\n",
    "response = requests.get(url)\n",
    "if response.status_code == 200:\n",
    "    print('정상')\n",
    "else:\n",
    "    print(response.status_code)"
   ]
  },
  {
   "cell_type": "code",
   "execution_count": 3,
   "id": "ba539c28",
   "metadata": {
    "scrolled": false
   },
   "outputs": [],
   "source": [
    "from bs4 import BeautifulSoup\n",
    "\n",
    "soup = BeautifulSoup(response.content, 'html.parser')\n",
    "ul = soup.select_one('div.best-list > ul')\n",
    "best100 = ul.select('li')[:100]"
   ]
  },
  {
   "cell_type": "code",
   "execution_count": 33,
   "id": "8be3fe1f",
   "metadata": {},
   "outputs": [],
   "source": [
    "import pymysql\n",
    "conn = pymysql.connect(user = 'maria', password = '1234', host = 'localhost',\n",
    "                        port = 3306, database = 'python_db')\n",
    "cursor = conn.cursor()\n",
    "sql = '''insert into goods values (%s, %s, %s, %s)'''"
   ]
  },
  {
   "cell_type": "code",
   "execution_count": 34,
   "id": "69a0221d",
   "metadata": {
    "scrolled": false
   },
   "outputs": [],
   "source": [
    "for item in best100:\n",
    "    title = item.select_one('a.itemname').text\n",
    "    code = item.select_one('div.thumb img').get('src').split('/')[3]\n",
    "    try:\n",
    "        o_price = item.select_one('div.o-price span:nth-child(2)').text.replace('원', '').replace(',','')\n",
    "        s_price = item.select_one('div.s-price strong').text.replace('원', '').replace(',','')\n",
    "    except:\n",
    "        o_price = item.select_one('div.s-price strong').text.replace('원', '').replace(',','')\n",
    "        s_price = o_price\n",
    "    cursor.execute(sql, [code, title, o_price, s_price])\n",
    "\n",
    "conn.commit()\n",
    "    "
   ]
  },
  {
   "cell_type": "code",
   "execution_count": 35,
   "id": "5800a38e",
   "metadata": {},
   "outputs": [],
   "source": [
    "conn.close()"
   ]
  },
  {
   "cell_type": "code",
   "execution_count": 31,
   "id": "8985e190",
   "metadata": {},
   "outputs": [
    {
     "data": {
      "text/plain": [
       "86"
      ]
     },
     "execution_count": 31,
     "metadata": {},
     "output_type": "execute_result"
    }
   ],
   "source": [
    "max([len(i) for i in titles])"
   ]
  },
  {
   "cell_type": "code",
   "execution_count": null,
   "id": "d1d1f7ba",
   "metadata": {},
   "outputs": [],
   "source": [
    "# <li class=\"first\">\n",
    "# <span class=\"box__corners-id\"></span>\n",
    "# <p class=\"no1\">1</p>\n",
    "# <div class=\"thumb\">\n",
    "#     <a aria-hidden=\"true\" href=\"http://item.gmarket.co.kr/Item?goodscode=2183617402&amp;ver=20240116\" tabindex=\"-1\">\n",
    "#         <img alt=\"[펩시]펩시콜라 제로슈거 라임 355ml 24캔 캔음료\" class=\"image__lazy\" decoding=\"async\" height=\"210\" loading=\"lazy\" src=\"//gdimg.gmarket.co.kr/2183617402/still/300?ver=1682493949\" width=\"210\"/>\n",
    "#     </a>\n",
    "# </div>\n",
    "# <a class=\"itemname\" href=\"http://item.gmarket.co.kr/Item?goodscode=2183617402&amp;ver=20240116\">[펩시]펩시콜라 제로슈거 라임 355ml 24캔 캔음료</a>\n",
    "# <div class=\"item_price\">\n",
    "#     <div class=\"o-price\">\n",
    "#         <span class=\"for-a11y\">정가</span>\n",
    "#         <span>21,400<!-- -->원</span></div>\n",
    "#     <div class=\"s-price\">\n",
    "#         <span class=\"for-a11y\">할인가</span>\n",
    "#         <strong><span>16,500<!-- -->원</span></strong> \n",
    "#         <span><span class=\"sale\"></span><em>22<!-- -->%</em></span>\n",
    "#     </div>\n",
    "#     <div class=\"icon\">\n",
    "#         <img alt=\"스마일배송\" src=\"//pics.gmarket.co.kr/pc/ko/corner/gbest/ic_smile_shipped.png\"/>\n",
    "#         <img alt=\"무료배송\" src=\"//pics.gmkt.kr/pc/ko/corner/gbest/ic_freeshipping.gif\"/>\n",
    "#     </div>\n",
    "# </div>\n",
    "# </li>"
   ]
  },
  {
   "cell_type": "code",
   "execution_count": 60,
   "id": "059330ce",
   "metadata": {},
   "outputs": [
    {
     "name": "stdout",
     "output_type": "stream",
     "text": [
      "1975-03-04 05:02:17\n"
     ]
    }
   ],
   "source": [
    "from datetime import datetime\n",
    "\n",
    "timestamp = 163141337\n",
    "date = datetime.utcfromtimestamp(timestamp)\n",
    "\n",
    "print(date.strftime('%Y-%m-%d %H:%M:%S'))"
   ]
  },
  {
   "cell_type": "code",
   "execution_count": 36,
   "id": "9403b8fa",
   "metadata": {},
   "outputs": [
    {
     "name": "stdout",
     "output_type": "stream",
     "text": [
      "((107029865,), (465423945,), (484828506,), (628809631,), (972418391,), (986210281,), (1119049865,), (1478154564,), (1510637585,), (1577510972,), (1589098023,), (1594352329,), (1649311897,), (1650563035,), (1655242060,), (1655242371,), (1668263057,), (1755125363,), (1774092508,), (1776265578,), (1822799212,), (1832570962,), (1879298478,), (1899274105,), (1913602226,), (1920684660,), (1974857937,), (2101291125,), (2109444231,), (2109444420,), (2122159837,), (2183617402,), (2186606182,), (2242733085,), (2248299346,), (2250306667,), (2252219580,), (2257580522,), (2270306718,), (2284848015,), (2309941969,), (2314995898,), (2327015493,), (2328254013,), (2339233185,), (2412883938,), (2420314425,), (2450233862,), (2455619393,), (2515031942,), (2522267922,), (2614913036,), (2688522623,), (2693305941,), (2713586629,), (2722506758,), (2752316179,), (2752687134,), (2763235952,), (2768728505,), (2782808013,), (2799604339,), (2805127878,), (2871758083,), (2916923695,), (2947776206,), (2957762290,), (2959933323,), (3010049286,), (3020358073,), (3022576997,), (3032603997,), (3039555146,), (3106457150,), (3139050015,), (3148268225,), (3148277021,), (3160777461,), (3178310762,), (3179219373,), (3196084305,), (3196421623,), (3211256861,), (3213759767,), (3227102346,), (3272981421,), (3285718706,), (3334179658,), (3352002199,), (3366508785,), (3394585696,), (3410099415,), (3421896678,), (3424051562,), (3438236400,), (3445777139,), (3447709390,), (3452736553,), (3453219624,), (3463638589,))\n"
     ]
    }
   ],
   "source": [
    "conn = pymysql.connect(user = 'maria', password = '1234', host = 'localhost',\n",
    "                        port = 3306, database = 'python_db')\n",
    "cursor = conn.cursor()\n",
    "cursor.execute('''select code from goods''')\n",
    "codes = cursor.fetchall()\n",
    "print(codes)"
   ]
  },
  {
   "cell_type": "code",
   "execution_count": 57,
   "id": "7b6c97c3",
   "metadata": {},
   "outputs": [],
   "source": [
    "conn = pymysql.connect(user = 'maria', password = '1234', host = 'localhost',\n",
    "                        port = 3306, database = 'python_db')\n",
    "cursor = conn.cursor()\n",
    "sql = '''insert into review (code, title, content) values (%s, %s, %s)'''"
   ]
  },
  {
   "cell_type": "code",
   "execution_count": 59,
   "id": "8cc47030",
   "metadata": {
    "scrolled": false
   },
   "outputs": [],
   "source": [
    "for code in codes:\n",
    "    url = 'http://item.gmarket.co.kr/Review/Premium'\n",
    "    for page in range(1,21):\n",
    "        break_point = 0\n",
    "        params = {'goodsCode': code[0],\n",
    "                'pageNo': page,\n",
    "                'sort': 0,\n",
    "                'totalPage': 0 }\n",
    "        \n",
    "        response = requests.post(url, params)\n",
    "\n",
    "        if response.status_code == 200:\n",
    "            # 크롤링(총 리뷰의 수)\n",
    "            review = BeautifulSoup(response.content, 'html.parser')\n",
    "            rows = review.select('table > tbody tr')\n",
    "            for row in rows:\n",
    "                try:\n",
    "                    title = row.select_one('td p:nth-child(1)').text.strip()\n",
    "                    content = row.select_one('td p:nth-child(3)').text.strip()\n",
    "                except:\n",
    "                    break_point = 1\n",
    "                    break\n",
    "                try:\n",
    "                    cursor.execute(sql, [code[0], title, content])\n",
    "                except:\n",
    "                    pass\n",
    "            conn.commit()\n",
    "            if break_point == 1:\n",
    "                break\n",
    "        else:\n",
    "            continue\n",
    "        \n",
    "    "
   ]
  },
  {
   "cell_type": "code",
   "execution_count": 67,
   "id": "64a3000e",
   "metadata": {},
   "outputs": [],
   "source": [
    "import requests\n",
    "from bs4 import BeautifulSoup\n",
    "import pymysql"
   ]
  },
  {
   "cell_type": "code",
   "execution_count": 70,
   "id": "3ef617a4",
   "metadata": {},
   "outputs": [
    {
     "name": "stdout",
     "output_type": "stream",
     "text": [
      "200\n"
     ]
    }
   ],
   "source": [
    "## 쥐마켓 best100 데이터 크롤링\n",
    "# 1. request\n",
    "# 2. beautifulsoup\n",
    "best100 = best100_crawl()\n",
    "if best100:\n",
    "    # 3. pymysql\n",
    "    # 4. 테이블에 저장\n",
    "    best100_insert(best100)"
   ]
  },
  {
   "cell_type": "code",
   "execution_count": 71,
   "id": "977fe10b",
   "metadata": {},
   "outputs": [],
   "source": [
    "## 리뷰 데이터 크롤링\n",
    "# 1. best100 - code select\n",
    "codes = code_select()\n",
    "# 2. request\n",
    "# 3. beautifulsoup\n",
    "# 4. 테이블에 저장\n",
    "review_crawl(codes)"
   ]
  },
  {
   "cell_type": "code",
   "execution_count": 61,
   "id": "c1b24820",
   "metadata": {},
   "outputs": [],
   "source": [
    "## 쥐마켓 best100 데이터 크롤링\n",
    "# 1. request\n",
    "# 2. beautifulsoup\n",
    "def best100_crawl():    \n",
    "    url = 'https://www.gmarket.co.kr/n/best'\n",
    "\n",
    "    response = requests.get(url)\n",
    "    print(response.status_code)\n",
    "    if response.status_code == 200:\n",
    "        soup = BeautifulSoup(response.content, 'html.parser')\n",
    "        ul = soup.select_one('div.best-list > ul')\n",
    "        best100 = ul.select('li')[:100]\n",
    "        return best100\n",
    "    else:\n",
    "        return []"
   ]
  },
  {
   "cell_type": "code",
   "execution_count": 62,
   "id": "3316da43",
   "metadata": {},
   "outputs": [],
   "source": [
    "# 3. pymysql\n",
    "# 4. 테이블에 저장\n",
    "def best100_insert(best100):\n",
    "    conn = pymysql.connect(user = 'maria', password = '1234', host = 'localhost',\n",
    "                            port = 3306, database = 'python_db')\n",
    "    cursor = conn.cursor()\n",
    "    sql = '''insert into goods values (%s, %s, %s, %s)'''\n",
    "    for item in best100:\n",
    "        title = item.select_one('a.itemname').text\n",
    "        code = item.select_one('div.thumb img').get('src').split('/')[3]\n",
    "        try:\n",
    "            o_price = item.select_one('div.o-price span:nth-child(2)').text.replace('원', '').replace(',','')\n",
    "            s_price = item.select_one('div.s-price strong').text.replace('원', '').replace(',','')\n",
    "        except:\n",
    "            o_price = item.select_one('div.s-price strong').text.replace('원', '').replace(',','')\n",
    "            s_price = o_price\n",
    "        cursor.execute(sql, [code, title, o_price, s_price])\n",
    "\n",
    "    conn.commit()\n",
    "    conn.close()"
   ]
  },
  {
   "cell_type": "code",
   "execution_count": 63,
   "id": "a0e553cf",
   "metadata": {},
   "outputs": [],
   "source": [
    "# 1. best100 - code select\n",
    "def code_select():\n",
    "    conn = pymysql.connect(user = 'maria', password = '1234', host = 'localhost',\n",
    "                            port = 3306, database = 'python_db')\n",
    "    cursor = conn.cursor()\n",
    "    cursor.execute('''select code from goods''')\n",
    "    codes = cursor.fetchall()\n",
    "    conn.close()\n",
    "    return codes"
   ]
  },
  {
   "cell_type": "code",
   "execution_count": 66,
   "id": "d1b1f48c",
   "metadata": {},
   "outputs": [],
   "source": [
    "# 2. request\n",
    "# 3. beautifulsoup\n",
    "# 4. 테이블에 저장\n",
    "def review_crawl(codes):\n",
    "    conn = pymysql.connect(user = 'maria', password = '1234', host = 'localhost',\n",
    "                                port = 3306, database = 'python_db')\n",
    "    cursor = conn.cursor()\n",
    "    for code in codes:\n",
    "        url = 'http://item.gmarket.co.kr/Review/Premium'\n",
    "        for page in range(1,6):\n",
    "            break_point = 0\n",
    "            params = {'goodsCode': code[0],\n",
    "                    'pageNo': page,\n",
    "                    'sort': 0,\n",
    "                    'totalPage': 0 }\n",
    "\n",
    "            response = requests.post(url, params)\n",
    "\n",
    "            if response.status_code == 200:\n",
    "                # 크롤링(총 리뷰의 수)\n",
    "                review = BeautifulSoup(response.content, 'html.parser')\n",
    "                rows = review.select('table > tbody tr')\n",
    "                for row in rows:\n",
    "                    try:\n",
    "                        title = row.select_one('td p:nth-child(1)').text.strip()\n",
    "                        content = row.select_one('td p:nth-child(3)').text.strip()\n",
    "                    except:\n",
    "                        break_point = 1\n",
    "                        break\n",
    "                    try:\n",
    "                        cursor.execute(sql, [code[0], title, content])\n",
    "                    except:\n",
    "                        pass\n",
    "                conn.commit()\n",
    "                if break_point == 1:\n",
    "                    break\n",
    "            else:\n",
    "                continue\n",
    "    conn.close()"
   ]
  },
  {
   "cell_type": "code",
   "execution_count": null,
   "id": "dbfd5656",
   "metadata": {},
   "outputs": [],
   "source": []
  }
 ],
 "metadata": {
  "kernelspec": {
   "display_name": "Python 3 (ipykernel)",
   "language": "python",
   "name": "python3"
  },
  "language_info": {
   "codemirror_mode": {
    "name": "ipython",
    "version": 3
   },
   "file_extension": ".py",
   "mimetype": "text/x-python",
   "name": "python",
   "nbconvert_exporter": "python",
   "pygments_lexer": "ipython3",
   "version": "3.11.5"
  }
 },
 "nbformat": 4,
 "nbformat_minor": 5
}
