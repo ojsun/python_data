{
 "cells": [
  {
   "cell_type": "code",
   "execution_count": null,
   "id": "24fc23e5",
   "metadata": {},
   "outputs": [],
   "source": [
    "import requests\n",
    "\n",
    "url = 'https://www.gmarket.co.kr/n/best'\n",
    "\n",
    "response = requests.get(url)\n",
    "if response.status_code == 200:\n",
    "    print('정상')\n",
    "else:\n",
    "    print(response.status_code)"
   ]
  },
  {
   "cell_type": "code",
   "execution_count": null,
   "id": "ba539c28",
   "metadata": {},
   "outputs": [],
   "source": [
    "from bs4 import BeautifulSoup\n",
    "\n",
    "soup = BeautifulSoup(response.content, 'html.parser')\n",
    "ul = soup.select_one('div.best-list > ul')\n",
    "best100 = ul.select('li')[:100]"
   ]
  },
  {
   "cell_type": "code",
   "execution_count": null,
   "id": "8be3fe1f",
   "metadata": {},
   "outputs": [],
   "source": [
    "import pymysql\n",
    "conn = pymysql.connect(user = 'maria', password = '1234', host = 'localhost',\n",
    "                        port = 3306, database = 'python_db')\n",
    "cursor = conn.cursor()\n",
    "sql = '''insert into goods values (%s, %s, %s, %s)'''"
   ]
  },
  {
   "cell_type": "code",
   "execution_count": null,
   "id": "69a0221d",
   "metadata": {},
   "outputs": [],
   "source": [
    "for item in best100:\n",
    "    title = item.select_one('a.itemname').text\n",
    "    code = item.select_one('div.thumb img').get('src').split('/')[3]\n",
    "    try:\n",
    "        o_price = item.select_one('div.o-price span:nth-child(2)').text.replace('원', '').replace(',','')\n",
    "        s_price = item.select_one('div.s-price strong').text.replace('원', '').replace(',','')\n",
    "    except:\n",
    "        o_price = item.select_one('div.s-price strong').text.replace('원', '').replace(',','')\n",
    "        s_price = o_price\n",
    "    cursor.execute(sql, [code, title, o_price, s_price])\n",
    "\n",
    "conn.commit()\n",
    "    "
   ]
  },
  {
   "cell_type": "code",
   "execution_count": null,
   "id": "5800a38e",
   "metadata": {},
   "outputs": [],
   "source": [
    "conn.close()"
   ]
  },
  {
   "cell_type": "code",
   "execution_count": null,
   "id": "8985e190",
   "metadata": {},
   "outputs": [],
   "source": [
    "max([len(i) for i in titles])"
   ]
  },
  {
   "cell_type": "code",
   "execution_count": null,
   "id": "d1d1f7ba",
   "metadata": {},
   "outputs": [],
   "source": [
    "# <li class=\"first\">\n",
    "# <span class=\"box__corners-id\"></span>\n",
    "# <p class=\"no1\">1</p>\n",
    "# <div class=\"thumb\">\n",
    "#     <a aria-hidden=\"true\" href=\"http://item.gmarket.co.kr/Item?goodscode=2183617402&amp;ver=20240116\" tabindex=\"-1\">\n",
    "#         <img alt=\"[펩시]펩시콜라 제로슈거 라임 355ml 24캔 캔음료\" class=\"image__lazy\" decoding=\"async\" height=\"210\" loading=\"lazy\" src=\"//gdimg.gmarket.co.kr/2183617402/still/300?ver=1682493949\" width=\"210\"/>\n",
    "#     </a>\n",
    "# </div>\n",
    "# <a class=\"itemname\" href=\"http://item.gmarket.co.kr/Item?goodscode=2183617402&amp;ver=20240116\">[펩시]펩시콜라 제로슈거 라임 355ml 24캔 캔음료</a>\n",
    "# <div class=\"item_price\">\n",
    "#     <div class=\"o-price\">\n",
    "#         <span class=\"for-a11y\">정가</span>\n",
    "#         <span>21,400<!-- -->원</span></div>\n",
    "#     <div class=\"s-price\">\n",
    "#         <span class=\"for-a11y\">할인가</span>\n",
    "#         <strong><span>16,500<!-- -->원</span></strong> \n",
    "#         <span><span class=\"sale\"></span><em>22<!-- -->%</em></span>\n",
    "#     </div>\n",
    "#     <div class=\"icon\">\n",
    "#         <img alt=\"스마일배송\" src=\"//pics.gmarket.co.kr/pc/ko/corner/gbest/ic_smile_shipped.png\"/>\n",
    "#         <img alt=\"무료배송\" src=\"//pics.gmkt.kr/pc/ko/corner/gbest/ic_freeshipping.gif\"/>\n",
    "#     </div>\n",
    "# </div>\n",
    "# </li>"
   ]
  },
  {
   "cell_type": "code",
   "execution_count": null,
   "id": "059330ce",
   "metadata": {},
   "outputs": [],
   "source": [
    "from datetime import datetime\n",
    "\n",
    "timestamp = 163141337\n",
    "date = datetime.utcfromtimestamp(timestamp)\n",
    "\n",
    "print(date.strftime('%Y-%m-%d %H:%M:%S'))"
   ]
  },
  {
   "cell_type": "code",
   "execution_count": null,
   "id": "9403b8fa",
   "metadata": {},
   "outputs": [],
   "source": [
    "conn = pymysql.connect(user = 'maria', password = '1234', host = 'localhost',\n",
    "                        port = 3306, database = 'python_db')\n",
    "cursor = conn.cursor()\n",
    "cursor.execute('''select code from goods''')\n",
    "codes = cursor.fetchall()\n",
    "print(codes)"
   ]
  },
  {
   "cell_type": "code",
   "execution_count": null,
   "id": "7b6c97c3",
   "metadata": {},
   "outputs": [],
   "source": [
    "conn = pymysql.connect(user = 'maria', password = '1234', host = 'localhost',\n",
    "                        port = 3306, database = 'python_db')\n",
    "cursor = conn.cursor()\n",
    "sql = '''insert into review (code, title, content) values (%s, %s, %s)'''"
   ]
  },
  {
   "cell_type": "code",
   "execution_count": null,
   "id": "8cc47030",
   "metadata": {},
   "outputs": [],
   "source": [
    "for code in codes:\n",
    "    url = 'http://item.gmarket.co.kr/Review/Premium'\n",
    "    for page in range(1,21):\n",
    "        break_point = 0\n",
    "        params = {'goodsCode': code[0],\n",
    "                'pageNo': page,\n",
    "                'sort': 0,\n",
    "                'totalPage': 0 }\n",
    "        \n",
    "        response = requests.post(url, params)\n",
    "\n",
    "        if response.status_code == 200:\n",
    "            # 크롤링(총 리뷰의 수)\n",
    "            review = BeautifulSoup(response.content, 'html.parser')\n",
    "            rows = review.select('table > tbody tr')\n",
    "            for row in rows:\n",
    "                try:\n",
    "                    title = row.select_one('td p:nth-child(1)').text.strip()\n",
    "                    content = row.select_one('td p:nth-child(3)').text.strip()\n",
    "                except:\n",
    "                    break_point = 1\n",
    "                    break\n",
    "                try:\n",
    "                    cursor.execute(sql, [code[0], title, content])\n",
    "                except:\n",
    "                    pass\n",
    "            conn.commit()\n",
    "            if break_point == 1:\n",
    "                break\n",
    "        else:\n",
    "            continue\n",
    "        \n",
    "    "
   ]
  },
  {
   "cell_type": "code",
   "execution_count": null,
   "id": "64a3000e",
   "metadata": {},
   "outputs": [],
   "source": [
    "import requests\n",
    "from bs4 import BeautifulSoup\n",
    "import pymysql"
   ]
  },
  {
   "cell_type": "code",
   "execution_count": null,
   "id": "3ef617a4",
   "metadata": {},
   "outputs": [],
   "source": [
    "## 쥐마켓 best100 데이터 크롤링\n",
    "# 1. request\n",
    "# 2. beautifulsoup\n",
    "best100 = best100_crawl()\n",
    "if best100:\n",
    "    # 3. pymysql\n",
    "    # 4. 테이블에 저장\n",
    "    best100_insert(best100)"
   ]
  },
  {
   "cell_type": "code",
   "execution_count": null,
   "id": "977fe10b",
   "metadata": {},
   "outputs": [],
   "source": [
    "## 리뷰 데이터 크롤링\n",
    "# 1. best100 - code select\n",
    "codes = code_select()\n",
    "# 2. request\n",
    "# 3. beautifulsoup\n",
    "# 4. 테이블에 저장\n",
    "review_crawl(codes)"
   ]
  },
  {
   "cell_type": "code",
   "execution_count": null,
   "id": "c1b24820",
   "metadata": {},
   "outputs": [],
   "source": [
    "## 쥐마켓 best100 데이터 크롤링\n",
    "# 1. request\n",
    "# 2. beautifulsoup\n",
    "def best100_crawl():    \n",
    "    url = 'https://www.gmarket.co.kr/n/best'\n",
    "\n",
    "    response = requests.get(url)\n",
    "    print(response.status_code)\n",
    "    if response.status_code == 200:\n",
    "        soup = BeautifulSoup(response.content, 'html.parser')\n",
    "        ul = soup.select_one('div.best-list > ul')\n",
    "        best100 = ul.select('li')[:100]\n",
    "        return best100\n",
    "    else:\n",
    "        return []"
   ]
  },
  {
   "cell_type": "code",
   "execution_count": null,
   "id": "3316da43",
   "metadata": {},
   "outputs": [],
   "source": [
    "# 3. pymysql\n",
    "# 4. 테이블에 저장\n",
    "def best100_insert(best100):\n",
    "    conn = pymysql.connect(user = 'maria', password = '1234', host = 'localhost',\n",
    "                            port = 3306, database = 'python_db')\n",
    "    cursor = conn.cursor()\n",
    "    sql = '''insert into goods values (%s, %s, %s, %s)'''\n",
    "    for item in best100:\n",
    "        title = item.select_one('a.itemname').text\n",
    "        code = item.select_one('div.thumb img').get('src').split('/')[3]\n",
    "        try:\n",
    "            o_price = item.select_one('div.o-price span:nth-child(2)').text.replace('원', '').replace(',','')\n",
    "            s_price = item.select_one('div.s-price strong').text.replace('원', '').replace(',','')\n",
    "        except:\n",
    "            o_price = item.select_one('div.s-price strong').text.replace('원', '').replace(',','')\n",
    "            s_price = o_price\n",
    "        cursor.execute(sql, [code, title, o_price, s_price])\n",
    "\n",
    "    conn.commit()\n",
    "    conn.close()"
   ]
  },
  {
   "cell_type": "code",
   "execution_count": null,
   "id": "a0e553cf",
   "metadata": {},
   "outputs": [],
   "source": [
    "# 1. best100 - code select\n",
    "def code_select():\n",
    "    conn = pymysql.connect(user = 'maria', password = '1234', host = 'localhost',\n",
    "                            port = 3306, database = 'python_db')\n",
    "    cursor = conn.cursor()\n",
    "    cursor.execute('''select code from goods''')\n",
    "    codes = cursor.fetchall()\n",
    "    conn.close()\n",
    "    return codes"
   ]
  },
  {
   "cell_type": "code",
   "execution_count": null,
   "id": "d1b1f48c",
   "metadata": {},
   "outputs": [],
   "source": [
    "# 2. request\n",
    "# 3. beautifulsoup\n",
    "# 4. 테이블에 저장\n",
    "def review_crawl(codes):\n",
    "    conn = pymysql.connect(user = 'maria', password = '1234', host = 'localhost',\n",
    "                                port = 3306, database = 'python_db')\n",
    "    cursor = conn.cursor()\n",
    "    for code in codes:\n",
    "        url = 'http://item.gmarket.co.kr/Review/Premium'\n",
    "        for page in range(1,6):\n",
    "            break_point = 0\n",
    "            params = {'goodsCode': code[0],\n",
    "                    'pageNo': page,\n",
    "                    'sort': 0,\n",
    "                    'totalPage': 0 }\n",
    "\n",
    "            response = requests.post(url, params)\n",
    "\n",
    "            if response.status_code == 200:\n",
    "                # 크롤링(총 리뷰의 수)\n",
    "                review = BeautifulSoup(response.content, 'html.parser')\n",
    "                rows = review.select('table > tbody tr')\n",
    "                for row in rows:\n",
    "                    try:\n",
    "                        title = row.select_one('td p:nth-child(1)').text.strip()\n",
    "                        content = row.select_one('td p:nth-child(3)').text.strip()\n",
    "                    except:\n",
    "                        break_point = 1\n",
    "                        break\n",
    "                    try:\n",
    "                        cursor.execute(sql, [code[0], title, content])\n",
    "                    except:\n",
    "                        pass\n",
    "                conn.commit()\n",
    "                if break_point == 1:\n",
    "                    break\n",
    "            else:\n",
    "                continue\n",
    "    conn.close()"
   ]
  },
  {
   "cell_type": "code",
   "execution_count": null,
   "id": "dbfd5656",
   "metadata": {},
   "outputs": [],
   "source": []
  }
 ],
 "metadata": {
  "kernelspec": {
   "display_name": "Python 3 (ipykernel)",
   "language": "python",
   "name": "python3"
  },
  "language_info": {
   "codemirror_mode": {
    "name": "ipython",
    "version": 3
   },
   "file_extension": ".py",
   "mimetype": "text/x-python",
   "name": "python",
   "nbconvert_exporter": "python",
   "pygments_lexer": "ipython3",
   "version": "3.11.5"
  }
 },
 "nbformat": 4,
 "nbformat_minor": 5
}
