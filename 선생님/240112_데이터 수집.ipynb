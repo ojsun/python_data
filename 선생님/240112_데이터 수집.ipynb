{
 "cells": [
  {
   "cell_type": "code",
   "execution_count": 1,
   "id": "2db0b33c",
   "metadata": {},
   "outputs": [
    {
     "data": {
      "text/plain": [
       "<Response [200]>"
      ]
     },
     "execution_count": 1,
     "metadata": {},
     "output_type": "execute_result"
    }
   ],
   "source": [
    "import requests\n",
    "\n",
    "url = 'https://m.stock.naver.com/api/stock/005930/price?pageSize=20&page=1'\n",
    "response = requests.get(url)\n",
    "response"
   ]
  },
  {
   "cell_type": "code",
   "execution_count": 14,
   "id": "d58d8ee4",
   "metadata": {
    "scrolled": false
   },
   "outputs": [],
   "source": [
    "datas = response.json()\n",
    "total_data = []\n",
    "for data in datas:\n",
    "    date = data['localTradedAt']\n",
    "    price = data['closePrice']\n",
    "    total_data.append( [date, price] )"
   ]
  },
  {
   "cell_type": "code",
   "execution_count": 15,
   "id": "7e53f9d8",
   "metadata": {
    "collapsed": true
   },
   "outputs": [
    {
     "data": {
      "text/plain": [
       "[['2024-01-12', '73,800'],\n",
       " ['2024-01-11', '73,200'],\n",
       " ['2024-01-10', '73,600'],\n",
       " ['2024-01-09', '74,700'],\n",
       " ['2024-01-08', '76,500'],\n",
       " ['2024-01-05', '76,600'],\n",
       " ['2024-01-04', '76,600'],\n",
       " ['2024-01-03', '77,000'],\n",
       " ['2024-01-02', '79,600'],\n",
       " ['2023-12-28', '78,500'],\n",
       " ['2023-12-27', '78,000'],\n",
       " ['2023-12-26', '76,600'],\n",
       " ['2023-12-22', '75,900'],\n",
       " ['2023-12-21', '75,000'],\n",
       " ['2023-12-20', '74,800'],\n",
       " ['2023-12-19', '73,400'],\n",
       " ['2023-12-18', '72,900'],\n",
       " ['2023-12-15', '73,300'],\n",
       " ['2023-12-14', '73,100'],\n",
       " ['2023-12-13', '72,800']]"
      ]
     },
     "execution_count": 15,
     "metadata": {},
     "output_type": "execute_result"
    }
   ],
   "source": [
    "total_data"
   ]
  },
  {
   "cell_type": "code",
   "execution_count": 30,
   "id": "91a7ab0c",
   "metadata": {},
   "outputs": [],
   "source": [
    "for i in []:\n",
    "    print(i)"
   ]
  },
  {
   "cell_type": "code",
   "execution_count": 37,
   "id": "18a73e10",
   "metadata": {},
   "outputs": [
    {
     "name": "stdout",
     "output_type": "stream",
     "text": [
      "1\n",
      "2\n",
      "3\n",
      "4\n",
      "5\n",
      "6\n",
      "7\n",
      "8\n",
      "9\n",
      "10\n"
     ]
    }
   ],
   "source": [
    "import time\n",
    "total_data = []\n",
    "for page in range(1,11):\n",
    "    print(page)\n",
    "    url = f'https://m.stock.naver.com/api/stock/005930/price?pageSize=20&page={page}'\n",
    "    response = requests.get(url)\n",
    "    time.sleep(1)\n",
    "    if response.status_code == 200:\n",
    "        datas = response.json()    \n",
    "        if not datas:\n",
    "            break\n",
    "        for data in datas:\n",
    "            try:\n",
    "                date = data['localTradedAt']\n",
    "                price = data['closePrice']\n",
    "                total_data.append( [date, price] )\n",
    "            except:\n",
    "                pass\n",
    "    else:\n",
    "        break\n"
   ]
  },
  {
   "cell_type": "code",
   "execution_count": null,
   "id": "71c87455",
   "metadata": {},
   "outputs": [],
   "source": [
    "while True:\n",
    "    page = 1\n",
    "    url = f'https://m.stock.naver.com/api/stock/005930/price?pageSize=20&page={page}'\n",
    "    print(url)\n",
    "    \n",
    "    if 데이터가 없는 상황:\n",
    "        break\n",
    "    page += 1"
   ]
  },
  {
   "cell_type": "code",
   "execution_count": 38,
   "id": "2fa19f03",
   "metadata": {},
   "outputs": [
    {
     "name": "stdout",
     "output_type": "stream",
     "text": [
      "https://m.stock.naver.com/api/stock/005930/price?pageSize=20&page=1\n",
      "https://m.stock.naver.com/api/stock/005930/price?pageSize=20&page=2\n",
      "https://m.stock.naver.com/api/stock/005930/price?pageSize=20&page=3\n",
      "https://m.stock.naver.com/api/stock/005930/price?pageSize=20&page=4\n",
      "https://m.stock.naver.com/api/stock/000660/price?pageSize=20&page=1\n",
      "https://m.stock.naver.com/api/stock/000660/price?pageSize=20&page=2\n",
      "https://m.stock.naver.com/api/stock/000660/price?pageSize=20&page=3\n",
      "https://m.stock.naver.com/api/stock/000660/price?pageSize=20&page=4\n"
     ]
    }
   ],
   "source": [
    "stocks = ['005930', '000660']\n",
    "for stock in stocks:\n",
    "    for page in range(1, 5):\n",
    "        url = f'https://m.stock.naver.com/api/stock/{stock}/price?pageSize=20&page={page}'\n",
    "        print(url)"
   ]
  },
  {
   "cell_type": "code",
   "execution_count": null,
   "id": "b2ad1002",
   "metadata": {},
   "outputs": [],
   "source": [
    "'https://api.odcloud.kr/api/15081901/v1/uddi:e86f20c4-44de-4839-bf4a-e53c23d361e2?page=1&perPage=10&returnType=json&serviceKey=CNH2rSsnm1yLh9GuJgWu0Dy6IKath1rCI%2BdeUaWictmAESpAGQyeCM1P2i01DYrhcpup7yuHvA2rLxckTxQoHQ%3D%3D'"
   ]
  },
  {
   "cell_type": "code",
   "execution_count": 42,
   "id": "b4f7d61b",
   "metadata": {},
   "outputs": [
    {
     "data": {
      "text/plain": [
       "<Response [200]>"
      ]
     },
     "execution_count": 42,
     "metadata": {},
     "output_type": "execute_result"
    }
   ],
   "source": [
    "Servicekey = 'CNH2rSsnm1yLh9GuJgWu0Dy6IKath1rCI+deUaWictmAESpAGQyeCM1P2i01DYrhcpup7yuHvA2rLxckTxQoHQ=='\n",
    "base_url = 'https://api.odcloud.kr/api'\n",
    "# 주소 수정\n",
    "url = '/15081901/v1/uddi:e86f20c4-44de-4839-bf4a-e53c23d361e2'\n",
    "\n",
    "params = { 'serviceKey': Servicekey,\n",
    "           # 파라미터 수정\n",
    "           'page' : 1,\n",
    "           'perPage' : 10,\n",
    "           'returnType' : 'json', \n",
    "           \n",
    "}\n",
    "\n",
    "response = requests.get(base_url + url, params = params)\n",
    "response"
   ]
  },
  {
   "cell_type": "code",
   "execution_count": 48,
   "id": "c5f4f23e",
   "metadata": {},
   "outputs": [
    {
     "data": {
      "text/plain": [
       "<Response [200]>"
      ]
     },
     "execution_count": 48,
     "metadata": {},
     "output_type": "execute_result"
    }
   ],
   "source": [
    "# CCTV\n",
    "Servicekey = 'CNH2rSsnm1yLh9GuJgWu0Dy6IKath1rCI+deUaWictmAESpAGQyeCM1P2i01DYrhcpup7yuHvA2rLxckTxQoHQ=='\n",
    "base_url = 'https://api.odcloud.kr/api'\n",
    "# 주소 수정\n",
    "url = '/3037683/v1/uddi:94d13f6a-d884-4ac2-8d7a-d733f70ad80e'\n",
    "\n",
    "params = { 'serviceKey': Servicekey,\n",
    "           # 파라미터 수정\n",
    "           'page' : 1,\n",
    "           'perPage' : 10,\n",
    "           'returnType' : 'XML', \n",
    "           \n",
    "}\n",
    "\n",
    "response = requests.get(base_url + url, params = params)\n",
    "response"
   ]
  },
  {
   "cell_type": "code",
   "execution_count": 57,
   "id": "24833f01",
   "metadata": {
    "scrolled": false
   },
   "outputs": [
    {
     "name": "stdout",
     "output_type": "stream",
     "text": [
      "<item><col name=\"소재지지번주소\"/>세종특별자치시 세종동 981<col name=\"촬영방면정보\"/>세종리 은행나무역사공원 입구남측<col name=\"카메라대수\"/>2<col name=\"카메라화소수\"/>200<col name=\"보관일수\"/>30<col name=\"관리기관명\"/>세종특별자치시<col name=\"관리기관전화번호\"/>044-300-2454<col name=\"데이터기준일자\"/>2023-07-04<col name=\"설치목적구분\"/>생활방범<col name=\"위도\"/>36.503216<col name=\"경도\"/>127.290461</item>\n"
     ]
    }
   ],
   "source": [
    "from bs4 import BeautifulSoup\n",
    "\n",
    "xml = BeautifulSoup(response.content, 'lxml')\n",
    "items = xml.select_one('item')\n",
    "print(items)"
   ]
  },
  {
   "cell_type": "code",
   "execution_count": 65,
   "id": "86b33880",
   "metadata": {},
   "outputs": [
    {
     "data": {
      "text/plain": [
       "<Response [200]>"
      ]
     },
     "execution_count": 65,
     "metadata": {},
     "output_type": "execute_result"
    }
   ],
   "source": [
    "restapi_key = \"d44eaac9a1ae4db5ec4a3b895553fb84\"\n",
    "url = \"https://dapi.kakao.com/v2/local/search/address.xml\"\n",
    "params = { \"query\": '집현동로 77' }\n",
    "headers = {\"Authorization\": \"KakaoAK \" + restapi_key}\n",
    "response_xml = requests.get(url, headers=headers, params=params)\n",
    "response_xml"
   ]
  },
  {
   "cell_type": "code",
   "execution_count": 64,
   "id": "ca98dfcc",
   "metadata": {},
   "outputs": [
    {
     "name": "stdout",
     "output_type": "stream",
     "text": [
      "127.325356593945 36.4910924250367\n"
     ]
    }
   ],
   "source": [
    "xml = BeautifulSoup(response.content, 'lxml')\n",
    "x = xml.select_one('x').text\n",
    "y = xml.select_one('y').text\n",
    "print(x, y)"
   ]
  },
  {
   "cell_type": "code",
   "execution_count": 66,
   "id": "06a0486e",
   "metadata": {},
   "outputs": [
    {
     "data": {
      "text/plain": [
       "<Response [200]>"
      ]
     },
     "execution_count": 66,
     "metadata": {},
     "output_type": "execute_result"
    }
   ],
   "source": [
    "restapi_key = \"d44eaac9a1ae4db5ec4a3b895553fb84\"\n",
    "url = \"https://dapi.kakao.com/v2/local/search/address.json\"\n",
    "params = { \"query\": '집현동로 77' }\n",
    "headers = {\"Authorization\": \"KakaoAK \" + restapi_key}\n",
    "response_json = requests.get(url, headers=headers, params=params)\n",
    "response_json"
   ]
  },
  {
   "cell_type": "code",
   "execution_count": 69,
   "id": "49e7a188",
   "metadata": {},
   "outputs": [
    {
     "data": {
      "text/plain": [
       "<html><body><result><documents><address><address_name>세종특별자치시 집현동 1129</address_name><b_code>3611011800</b_code><h_code>3611055600</h_code><main_address_no>1129</main_address_no><mountain_yn>N</mountain_yn><region_1depth_name>세종특별자치시</region_1depth_name><region_2depth_name></region_2depth_name><region_3depth_h_name>반곡동</region_3depth_h_name><region_3depth_name>집현동</region_3depth_name><sub_address_no></sub_address_no><x>127.325356593945</x><y>36.4910924250367</y></address><address_name>세종특별자치시 집현동로 77</address_name><address_type>ROAD_ADDR</address_type><road_address><address_name>세종특별자치시 집현동로 77</address_name><building_name></building_name><main_building_no>77</main_building_no><region_1depth_name>세종특별자치시</region_1depth_name><region_2depth_name></region_2depth_name><region_3depth_name>집현동</region_3depth_name><road_name>집현동로</road_name><sub_building_no></sub_building_no><underground_yn>N</underground_yn><x>127.325356593945</x><y>36.4910924250367</y><zone_no>30141</zone_no></road_address><x>127.325356593945</x><y>36.4910924250367</y></documents><meta/><is_end>true</is_end><pageable_count>1</pageable_count><total_count>1</total_count></result></body></html>"
      ]
     },
     "execution_count": 69,
     "metadata": {},
     "output_type": "execute_result"
    }
   ],
   "source": [
    "xml = BeautifulSoup(response.content, 'lxml')\n",
    "xml"
   ]
  },
  {
   "cell_type": "code",
   "execution_count": 68,
   "id": "26791dbd",
   "metadata": {},
   "outputs": [
    {
     "data": {
      "text/plain": [
       "{'documents': [{'address': {'address_name': '세종특별자치시 집현동 1129',\n",
       "    'b_code': '3611011800',\n",
       "    'h_code': '3611055600',\n",
       "    'main_address_no': '1129',\n",
       "    'mountain_yn': 'N',\n",
       "    'region_1depth_name': '세종특별자치시',\n",
       "    'region_2depth_name': '',\n",
       "    'region_3depth_h_name': '반곡동',\n",
       "    'region_3depth_name': '집현동',\n",
       "    'sub_address_no': '',\n",
       "    'x': '127.325356593945',\n",
       "    'y': '36.4910924250367'},\n",
       "   'address_name': '세종특별자치시 집현동로 77',\n",
       "   'address_type': 'ROAD_ADDR',\n",
       "   'road_address': {'address_name': '세종특별자치시 집현동로 77',\n",
       "    'building_name': '',\n",
       "    'main_building_no': '77',\n",
       "    'region_1depth_name': '세종특별자치시',\n",
       "    'region_2depth_name': '',\n",
       "    'region_3depth_name': '집현동',\n",
       "    'road_name': '집현동로',\n",
       "    'sub_building_no': '',\n",
       "    'underground_yn': 'N',\n",
       "    'x': '127.325356593945',\n",
       "    'y': '36.4910924250367',\n",
       "    'zone_no': '30141'},\n",
       "   'x': '127.325356593945',\n",
       "   'y': '36.4910924250367'}],\n",
       " 'meta': {'is_end': True, 'pageable_count': 1, 'total_count': 1}}"
      ]
     },
     "execution_count": 68,
     "metadata": {},
     "output_type": "execute_result"
    }
   ],
   "source": [
    "response_json.json()"
   ]
  },
  {
   "cell_type": "code",
   "execution_count": 70,
   "id": "7174d7f1",
   "metadata": {},
   "outputs": [
    {
     "name": "stdout",
     "output_type": "stream",
     "text": [
      "Collecting selenium\n",
      "  Obtaining dependency information for selenium from https://files.pythonhosted.org/packages/dc/72/96b5afa16908f9abc7c24b70adfd3a46c9740eb728ddfeab28379e38eaf9/selenium-4.16.0-py3-none-any.whl.metadata\n",
      "  Downloading selenium-4.16.0-py3-none-any.whl.metadata (6.9 kB)\n",
      "Requirement already satisfied: urllib3[socks]<3,>=1.26 in c:\\users\\admin\\appdata\\local\\anaconda3\\lib\\site-packages (from selenium) (1.26.16)\n",
      "Collecting trio~=0.17 (from selenium)\n",
      "  Obtaining dependency information for trio~=0.17 from https://files.pythonhosted.org/packages/14/fb/9299cf74953f473a15accfdbe2c15218e766bae8c796f2567c83bae03e98/trio-0.24.0-py3-none-any.whl.metadata\n",
      "  Downloading trio-0.24.0-py3-none-any.whl.metadata (4.9 kB)\n",
      "Collecting trio-websocket~=0.9 (from selenium)\n",
      "  Obtaining dependency information for trio-websocket~=0.9 from https://files.pythonhosted.org/packages/48/be/a9ae5f50cad5b6f85bd2574c2c923730098530096e170c1ce7452394d7aa/trio_websocket-0.11.1-py3-none-any.whl.metadata\n",
      "  Downloading trio_websocket-0.11.1-py3-none-any.whl.metadata (4.7 kB)\n",
      "Requirement already satisfied: certifi>=2021.10.8 in c:\\users\\admin\\appdata\\local\\anaconda3\\lib\\site-packages (from selenium) (2023.11.17)\n",
      "Requirement already satisfied: attrs>=20.1.0 in c:\\users\\admin\\appdata\\local\\anaconda3\\lib\\site-packages (from trio~=0.17->selenium) (22.1.0)\n",
      "Requirement already satisfied: sortedcontainers in c:\\users\\admin\\appdata\\local\\anaconda3\\lib\\site-packages (from trio~=0.17->selenium) (2.4.0)\n",
      "Requirement already satisfied: idna in c:\\users\\admin\\appdata\\local\\anaconda3\\lib\\site-packages (from trio~=0.17->selenium) (3.4)\n",
      "Collecting outcome (from trio~=0.17->selenium)\n",
      "  Obtaining dependency information for outcome from https://files.pythonhosted.org/packages/55/8b/5ab7257531a5d830fc8000c476e63c935488d74609b50f9384a643ec0a62/outcome-1.3.0.post0-py2.py3-none-any.whl.metadata\n",
      "  Downloading outcome-1.3.0.post0-py2.py3-none-any.whl.metadata (2.6 kB)\n",
      "Collecting sniffio>=1.3.0 (from trio~=0.17->selenium)\n",
      "  Downloading sniffio-1.3.0-py3-none-any.whl (10 kB)\n",
      "Requirement already satisfied: cffi>=1.14 in c:\\users\\admin\\appdata\\local\\anaconda3\\lib\\site-packages (from trio~=0.17->selenium) (1.15.1)\n",
      "Collecting wsproto>=0.14 (from trio-websocket~=0.9->selenium)\n",
      "  Downloading wsproto-1.2.0-py3-none-any.whl (24 kB)\n",
      "Requirement already satisfied: PySocks!=1.5.7,<2.0,>=1.5.6 in c:\\users\\admin\\appdata\\local\\anaconda3\\lib\\site-packages (from urllib3[socks]<3,>=1.26->selenium) (1.7.1)\n",
      "Requirement already satisfied: pycparser in c:\\users\\admin\\appdata\\local\\anaconda3\\lib\\site-packages (from cffi>=1.14->trio~=0.17->selenium) (2.21)\n",
      "Collecting h11<1,>=0.9.0 (from wsproto>=0.14->trio-websocket~=0.9->selenium)\n",
      "  Downloading h11-0.14.0-py3-none-any.whl (58 kB)\n",
      "     ---------------------------------------- 0.0/58.3 kB ? eta -:--:--\n",
      "     ---------------------------------------- 58.3/58.3 kB 3.0 MB/s eta 0:00:00\n",
      "Downloading selenium-4.16.0-py3-none-any.whl (10.0 MB)\n",
      "   ---------------------------------------- 0.0/10.0 MB ? eta -:--:--\n",
      "   - -------------------------------------- 0.4/10.0 MB 9.2 MB/s eta 0:00:02\n",
      "   ---- ----------------------------------- 1.0/10.0 MB 10.8 MB/s eta 0:00:01\n",
      "   ------ --------------------------------- 1.5/10.0 MB 10.7 MB/s eta 0:00:01\n",
      "   ------- -------------------------------- 2.0/10.0 MB 10.5 MB/s eta 0:00:01\n",
      "   --------- ------------------------------ 2.4/10.0 MB 10.3 MB/s eta 0:00:01\n",
      "   ----------- ---------------------------- 2.9/10.0 MB 10.3 MB/s eta 0:00:01\n",
      "   ------------- -------------------------- 3.4/10.0 MB 10.2 MB/s eta 0:00:01\n",
      "   --------------- ------------------------ 3.9/10.0 MB 10.2 MB/s eta 0:00:01\n",
      "   ----------------- ---------------------- 4.3/10.0 MB 10.1 MB/s eta 0:00:01\n",
      "   ------------------ --------------------- 4.7/10.0 MB 10.0 MB/s eta 0:00:01\n",
      "   -------------------- ------------------- 5.2/10.0 MB 10.1 MB/s eta 0:00:01\n",
      "   ----------------------- ---------------- 5.7/10.0 MB 10.2 MB/s eta 0:00:01\n",
      "   ------------------------ --------------- 6.1/10.0 MB 10.0 MB/s eta 0:00:01\n",
      "   -------------------------- ------------- 6.6/10.0 MB 10.0 MB/s eta 0:00:01\n",
      "   ---------------------------- ----------- 7.0/10.0 MB 10.0 MB/s eta 0:00:01\n",
      "   ------------------------------ --------- 7.5/10.0 MB 10.0 MB/s eta 0:00:01\n",
      "   -------------------------------- ------- 8.0/10.0 MB 10.3 MB/s eta 0:00:01\n",
      "   --------------------------------- ------ 8.4/10.0 MB 10.2 MB/s eta 0:00:01\n",
      "   ----------------------------------- ---- 9.0/10.0 MB 10.0 MB/s eta 0:00:01\n",
      "   ------------------------------------- -- 9.4/10.0 MB 10.0 MB/s eta 0:00:01\n",
      "   ---------------------------------------  9.8/10.0 MB 10.0 MB/s eta 0:00:01\n",
      "   ---------------------------------------  10.0/10.0 MB 10.0 MB/s eta 0:00:01\n",
      "   ---------------------------------------- 10.0/10.0 MB 9.5 MB/s eta 0:00:00\n",
      "Downloading trio-0.24.0-py3-none-any.whl (460 kB)\n",
      "   ---------------------------------------- 0.0/460.2 kB ? eta -:--:--\n",
      "   ---------------------------------------  450.6/460.2 kB 9.4 MB/s eta 0:00:01\n",
      "   ---------------------------------------- 460.2/460.2 kB 9.6 MB/s eta 0:00:00\n",
      "Downloading trio_websocket-0.11.1-py3-none-any.whl (17 kB)\n",
      "Downloading outcome-1.3.0.post0-py2.py3-none-any.whl (10 kB)\n",
      "Installing collected packages: sniffio, outcome, h11, wsproto, trio, trio-websocket, selenium\n",
      "  Attempting uninstall: sniffio\n",
      "    Found existing installation: sniffio 1.2.0\n",
      "    Uninstalling sniffio-1.2.0:\n",
      "      Successfully uninstalled sniffio-1.2.0\n",
      "Successfully installed h11-0.14.0 outcome-1.3.0.post0 selenium-4.16.0 sniffio-1.3.0 trio-0.24.0 trio-websocket-0.11.1 wsproto-1.2.0\n"
     ]
    }
   ],
   "source": [
    "!pip install selenium"
   ]
  },
  {
   "cell_type": "code",
   "execution_count": 71,
   "id": "2d631ce6",
   "metadata": {},
   "outputs": [],
   "source": [
    "from selenium import webdriver\n",
    "driver = webdriver.Chrome()"
   ]
  },
  {
   "cell_type": "code",
   "execution_count": 74,
   "id": "a5326980",
   "metadata": {},
   "outputs": [],
   "source": []
  },
  {
   "cell_type": "code",
   "execution_count": 75,
   "id": "55f50281",
   "metadata": {},
   "outputs": [
    {
     "name": "stdout",
     "output_type": "stream",
     "text": [
      "Collecting webdriver-manager\n",
      "  Obtaining dependency information for webdriver-manager from https://files.pythonhosted.org/packages/b1/51/b5c11cf739ac4eecde611794a0ec9df420d0239d51e73bc19eb44f02b48b/webdriver_manager-4.0.1-py2.py3-none-any.whl.metadata\n",
      "  Downloading webdriver_manager-4.0.1-py2.py3-none-any.whl.metadata (12 kB)\n",
      "Requirement already satisfied: requests in c:\\users\\admin\\appdata\\local\\anaconda3\\lib\\site-packages (from webdriver-manager) (2.31.0)\n",
      "Requirement already satisfied: python-dotenv in c:\\users\\admin\\appdata\\local\\anaconda3\\lib\\site-packages (from webdriver-manager) (0.21.0)\n",
      "Requirement already satisfied: packaging in c:\\users\\admin\\appdata\\local\\anaconda3\\lib\\site-packages (from webdriver-manager) (23.1)\n",
      "Requirement already satisfied: charset-normalizer<4,>=2 in c:\\users\\admin\\appdata\\local\\anaconda3\\lib\\site-packages (from requests->webdriver-manager) (2.0.4)\n",
      "Requirement already satisfied: idna<4,>=2.5 in c:\\users\\admin\\appdata\\local\\anaconda3\\lib\\site-packages (from requests->webdriver-manager) (3.4)\n",
      "Requirement already satisfied: urllib3<3,>=1.21.1 in c:\\users\\admin\\appdata\\local\\anaconda3\\lib\\site-packages (from requests->webdriver-manager) (1.26.16)\n",
      "Requirement already satisfied: certifi>=2017.4.17 in c:\\users\\admin\\appdata\\local\\anaconda3\\lib\\site-packages (from requests->webdriver-manager) (2023.11.17)\n",
      "Downloading webdriver_manager-4.0.1-py2.py3-none-any.whl (27 kB)\n",
      "Installing collected packages: webdriver-manager\n",
      "Successfully installed webdriver-manager-4.0.1\n"
     ]
    }
   ],
   "source": [
    "!pip install webdriver-manager"
   ]
  },
  {
   "cell_type": "code",
   "execution_count": 77,
   "id": "db32b457",
   "metadata": {},
   "outputs": [],
   "source": [
    "from selenium import webdriver\n",
    "from selenium.webdriver.chrome.service import Service\n",
    "from webdriver_manager.chrome import ChromeDriverManager\n",
    "\n",
    "service = Service(ChromeDriverManager().install())\n",
    "driver = webdriver.Chrome(service=service)"
   ]
  },
  {
   "cell_type": "code",
   "execution_count": 80,
   "id": "a97704bf",
   "metadata": {},
   "outputs": [],
   "source": [
    "from selenium import webdriver\n",
    "\n",
    "driver = webdriver.Chrome()"
   ]
  },
  {
   "cell_type": "code",
   "execution_count": 81,
   "id": "36b62115",
   "metadata": {},
   "outputs": [],
   "source": [
    "driver.get('https://ai-dev.tistory.com/1')"
   ]
  },
  {
   "cell_type": "code",
   "execution_count": 82,
   "id": "cc6d261e",
   "metadata": {},
   "outputs": [],
   "source": [
    "html = driver.page_source"
   ]
  },
  {
   "cell_type": "code",
   "execution_count": 84,
   "id": "21575719",
   "metadata": {
    "scrolled": false
   },
   "outputs": [],
   "source": [
    "soup = BeautifulSoup(html, 'html.parser')"
   ]
  },
  {
   "cell_type": "code",
   "execution_count": 85,
   "id": "87e0e274",
   "metadata": {},
   "outputs": [
    {
     "data": {
      "text/plain": [
       "<span class=\"txt_like uoc-count\">13</span>"
      ]
     },
     "execution_count": 85,
     "metadata": {},
     "output_type": "execute_result"
    }
   ],
   "source": [
    "soup.select_one('span.txt_like')"
   ]
  },
  {
   "cell_type": "code",
   "execution_count": 86,
   "id": "72e446b3",
   "metadata": {},
   "outputs": [
    {
     "data": {
      "text/plain": [
       "<Response [403]>"
      ]
     },
     "execution_count": 86,
     "metadata": {},
     "output_type": "execute_result"
    }
   ],
   "source": [
    "response = requests.get('https://www.zigbang.com/home/oneroom/map')\n",
    "response"
   ]
  },
  {
   "cell_type": "code",
   "execution_count": 87,
   "id": "8ac2873f",
   "metadata": {},
   "outputs": [],
   "source": [
    "driver = webdriver.Chrome()\n",
    "driver.get('https://www.zigbang.com/home/oneroom/map')"
   ]
  },
  {
   "cell_type": "code",
   "execution_count": 89,
   "id": "68f58ed3",
   "metadata": {},
   "outputs": [],
   "source": [
    "driver.set_window_size(200,600)"
   ]
  },
  {
   "cell_type": "code",
   "execution_count": 91,
   "id": "e76c546a",
   "metadata": {},
   "outputs": [],
   "source": [
    "driver.execute_script('window.scrollTo(200,300);')"
   ]
  },
  {
   "cell_type": "code",
   "execution_count": 100,
   "id": "cb699092",
   "metadata": {},
   "outputs": [
    {
     "data": {
      "text/plain": [
       "'<html><head></head><body></body></html>'"
      ]
     },
     "execution_count": 100,
     "metadata": {},
     "output_type": "execute_result"
    }
   ],
   "source": [
    "driver.page_source"
   ]
  },
  {
   "cell_type": "code",
   "execution_count": 93,
   "id": "c6ada460",
   "metadata": {},
   "outputs": [],
   "source": [
    "driver.execute_script('alert(\"hello selenium!!!\");')"
   ]
  },
  {
   "cell_type": "code",
   "execution_count": 94,
   "id": "f94b1862",
   "metadata": {},
   "outputs": [],
   "source": [
    "alert = driver.switch_to.alert\n",
    "alert.accept()"
   ]
  },
  {
   "cell_type": "code",
   "execution_count": 96,
   "id": "8462a352",
   "metadata": {},
   "outputs": [
    {
     "ename": "InvalidSessionIdException",
     "evalue": "Message: invalid session id\nStacktrace:\n\tGetHandleVerifier [0x00007FF690CC2142+3514994]\n\t(No symbol) [0x00007FF6908E0CE2]\n\t(No symbol) [0x00007FF6907874C3]\n\t(No symbol) [0x00007FF6907C412A]\n\t(No symbol) [0x00007FF6907F5EC9]\n\t(No symbol) [0x00007FF6907EECA2]\n\t(No symbol) [0x00007FF6907EE5E3]\n\t(No symbol) [0x00007FF690756315]\n\tGetHandleVerifier [0x00007FF690CEE16B+3695259]\n\tGetHandleVerifier [0x00007FF690D46737+4057191]\n\tGetHandleVerifier [0x00007FF690D3E4E3+4023827]\n\tGetHandleVerifier [0x00007FF690A104F9+689705]\n\t(No symbol) [0x00007FF6908EC048]\n\t(No symbol) [0x00007FF690755103]\n\tGetHandleVerifier [0x00007FF690D8E958+4352648]\n\tBaseThreadInitThunk [0x00007FFE21347344+20]\n\tRtlUserThreadStart [0x00007FFE226E26B1+33]\n",
     "output_type": "error",
     "traceback": [
      "\u001b[1;31m---------------------------------------------------------------------------\u001b[0m",
      "\u001b[1;31mInvalidSessionIdException\u001b[0m                 Traceback (most recent call last)",
      "Cell \u001b[1;32mIn[96], line 1\u001b[0m\n\u001b[1;32m----> 1\u001b[0m driver\u001b[38;5;241m.\u001b[39mclose()\n",
      "File \u001b[1;32m~\\AppData\\Local\\anaconda3\\Lib\\site-packages\\selenium\\webdriver\\remote\\webdriver.py:459\u001b[0m, in \u001b[0;36mWebDriver.close\u001b[1;34m(self)\u001b[0m\n\u001b[0;32m    451\u001b[0m \u001b[38;5;28;01mdef\u001b[39;00m \u001b[38;5;21mclose\u001b[39m(\u001b[38;5;28mself\u001b[39m) \u001b[38;5;241m-\u001b[39m\u001b[38;5;241m>\u001b[39m \u001b[38;5;28;01mNone\u001b[39;00m:\n\u001b[0;32m    452\u001b[0m \u001b[38;5;250m    \u001b[39m\u001b[38;5;124;03m\"\"\"Closes the current window.\u001b[39;00m\n\u001b[0;32m    453\u001b[0m \n\u001b[0;32m    454\u001b[0m \u001b[38;5;124;03m    :Usage:\u001b[39;00m\n\u001b[1;32m   (...)\u001b[0m\n\u001b[0;32m    457\u001b[0m \u001b[38;5;124;03m            driver.close()\u001b[39;00m\n\u001b[0;32m    458\u001b[0m \u001b[38;5;124;03m    \"\"\"\u001b[39;00m\n\u001b[1;32m--> 459\u001b[0m     \u001b[38;5;28mself\u001b[39m\u001b[38;5;241m.\u001b[39mexecute(Command\u001b[38;5;241m.\u001b[39mCLOSE)\n",
      "File \u001b[1;32m~\\AppData\\Local\\anaconda3\\Lib\\site-packages\\selenium\\webdriver\\remote\\webdriver.py:348\u001b[0m, in \u001b[0;36mWebDriver.execute\u001b[1;34m(self, driver_command, params)\u001b[0m\n\u001b[0;32m    346\u001b[0m response \u001b[38;5;241m=\u001b[39m \u001b[38;5;28mself\u001b[39m\u001b[38;5;241m.\u001b[39mcommand_executor\u001b[38;5;241m.\u001b[39mexecute(driver_command, params)\n\u001b[0;32m    347\u001b[0m \u001b[38;5;28;01mif\u001b[39;00m response:\n\u001b[1;32m--> 348\u001b[0m     \u001b[38;5;28mself\u001b[39m\u001b[38;5;241m.\u001b[39merror_handler\u001b[38;5;241m.\u001b[39mcheck_response(response)\n\u001b[0;32m    349\u001b[0m     response[\u001b[38;5;124m\"\u001b[39m\u001b[38;5;124mvalue\u001b[39m\u001b[38;5;124m\"\u001b[39m] \u001b[38;5;241m=\u001b[39m \u001b[38;5;28mself\u001b[39m\u001b[38;5;241m.\u001b[39m_unwrap_value(response\u001b[38;5;241m.\u001b[39mget(\u001b[38;5;124m\"\u001b[39m\u001b[38;5;124mvalue\u001b[39m\u001b[38;5;124m\"\u001b[39m, \u001b[38;5;28;01mNone\u001b[39;00m))\n\u001b[0;32m    350\u001b[0m     \u001b[38;5;28;01mreturn\u001b[39;00m response\n",
      "File \u001b[1;32m~\\AppData\\Local\\anaconda3\\Lib\\site-packages\\selenium\\webdriver\\remote\\errorhandler.py:229\u001b[0m, in \u001b[0;36mErrorHandler.check_response\u001b[1;34m(self, response)\u001b[0m\n\u001b[0;32m    227\u001b[0m         alert_text \u001b[38;5;241m=\u001b[39m value[\u001b[38;5;124m\"\u001b[39m\u001b[38;5;124malert\u001b[39m\u001b[38;5;124m\"\u001b[39m]\u001b[38;5;241m.\u001b[39mget(\u001b[38;5;124m\"\u001b[39m\u001b[38;5;124mtext\u001b[39m\u001b[38;5;124m\"\u001b[39m)\n\u001b[0;32m    228\u001b[0m     \u001b[38;5;28;01mraise\u001b[39;00m exception_class(message, screen, stacktrace, alert_text)  \u001b[38;5;66;03m# type: ignore[call-arg]  # mypy is not smart enough here\u001b[39;00m\n\u001b[1;32m--> 229\u001b[0m \u001b[38;5;28;01mraise\u001b[39;00m exception_class(message, screen, stacktrace)\n",
      "\u001b[1;31mInvalidSessionIdException\u001b[0m: Message: invalid session id\nStacktrace:\n\tGetHandleVerifier [0x00007FF690CC2142+3514994]\n\t(No symbol) [0x00007FF6908E0CE2]\n\t(No symbol) [0x00007FF6907874C3]\n\t(No symbol) [0x00007FF6907C412A]\n\t(No symbol) [0x00007FF6907F5EC9]\n\t(No symbol) [0x00007FF6907EECA2]\n\t(No symbol) [0x00007FF6907EE5E3]\n\t(No symbol) [0x00007FF690756315]\n\tGetHandleVerifier [0x00007FF690CEE16B+3695259]\n\tGetHandleVerifier [0x00007FF690D46737+4057191]\n\tGetHandleVerifier [0x00007FF690D3E4E3+4023827]\n\tGetHandleVerifier [0x00007FF690A104F9+689705]\n\t(No symbol) [0x00007FF6908EC048]\n\t(No symbol) [0x00007FF690755103]\n\tGetHandleVerifier [0x00007FF690D8E958+4352648]\n\tBaseThreadInitThunk [0x00007FFE21347344+20]\n\tRtlUserThreadStart [0x00007FFE226E26B1+33]\n"
     ]
    }
   ],
   "source": [
    "driver.close()"
   ]
  },
  {
   "cell_type": "code",
   "execution_count": 98,
   "id": "9894153d",
   "metadata": {},
   "outputs": [
    {
     "data": {
      "text/plain": [
       "{'x': 10, 'y': 10}"
      ]
     },
     "execution_count": 98,
     "metadata": {},
     "output_type": "execute_result"
    }
   ],
   "source": [
    "driver = webdriver.Chrome()\n",
    "\n",
    "driver.get_window_position(windowHandle='current')"
   ]
  },
  {
   "cell_type": "code",
   "execution_count": 99,
   "id": "a29ab7ab",
   "metadata": {},
   "outputs": [
    {
     "data": {
      "text/plain": [
       "{'x': 2449, 'y': 158}"
      ]
     },
     "execution_count": 99,
     "metadata": {},
     "output_type": "execute_result"
    }
   ],
   "source": [
    "driver.get_window_position(windowHandle='current')"
   ]
  },
  {
   "cell_type": "code",
   "execution_count": 101,
   "id": "3893a90f",
   "metadata": {},
   "outputs": [],
   "source": [
    "from selenium import webdriver\n",
    "from selenium.webdriver.chrome.service import Service\n",
    "from webdriver_manager.chrome import ChromeDriverManager\n",
    "from selenium.webdriver.common.by import By\n",
    "\n",
    "service = Service(ChromeDriverManager().install())\n",
    "driver = webdriver.Chrome(service=service)\n",
    "\n",
    "driver.get('https://www.daum.net')\n",
    "\n",
    "from selenium.webdriver.common.by import By\n",
    "driver.find_element(By.CSS_SELECTOR, '#q').send_keys('셀레니움')"
   ]
  },
  {
   "cell_type": "code",
   "execution_count": 102,
   "id": "45e1b35f",
   "metadata": {},
   "outputs": [],
   "source": [
    "driver.find_element(By.CSS_SELECTOR, \n",
    "'.inner_search > .ico_pctop.btn_search').click()"
   ]
  },
  {
   "cell_type": "code",
   "execution_count": 108,
   "id": "d4b687fa",
   "metadata": {},
   "outputs": [
    {
     "data": {
      "text/plain": [
       "'셀레늄'"
      ]
     },
     "execution_count": 108,
     "metadata": {},
     "output_type": "execute_result"
    }
   ],
   "source": [
    "driver.find_element(By.CSS_SELECTOR, 'a.keyword').tag_name\n",
    "driver.find_element(By.CSS_SELECTOR, 'a.keyword').text"
   ]
  },
  {
   "cell_type": "code",
   "execution_count": 110,
   "id": "f58614a7",
   "metadata": {},
   "outputs": [],
   "source": [
    "words = driver.find_elements(By.CSS_SELECTOR, 'a.keyword')"
   ]
  },
  {
   "cell_type": "code",
   "execution_count": 113,
   "id": "d0ade810",
   "metadata": {},
   "outputs": [
    {
     "data": {
      "text/plain": [
       "[<selenium.webdriver.remote.webelement.WebElement (session=\"2a219a7b4ddbd2f65e68c33d8390ccb5\", element=\"0C81DAB06FCF5FDBA16E1E37088F7CD8_element_691\")>,\n",
       " <selenium.webdriver.remote.webelement.WebElement (session=\"2a219a7b4ddbd2f65e68c33d8390ccb5\", element=\"0C81DAB06FCF5FDBA16E1E37088F7CD8_element_689\")>,\n",
       " <selenium.webdriver.remote.webelement.WebElement (session=\"2a219a7b4ddbd2f65e68c33d8390ccb5\", element=\"0C81DAB06FCF5FDBA16E1E37088F7CD8_element_694\")>,\n",
       " <selenium.webdriver.remote.webelement.WebElement (session=\"2a219a7b4ddbd2f65e68c33d8390ccb5\", element=\"0C81DAB06FCF5FDBA16E1E37088F7CD8_element_695\")>,\n",
       " <selenium.webdriver.remote.webelement.WebElement (session=\"2a219a7b4ddbd2f65e68c33d8390ccb5\", element=\"0C81DAB06FCF5FDBA16E1E37088F7CD8_element_696\")>,\n",
       " <selenium.webdriver.remote.webelement.WebElement (session=\"2a219a7b4ddbd2f65e68c33d8390ccb5\", element=\"0C81DAB06FCF5FDBA16E1E37088F7CD8_element_697\")>]"
      ]
     },
     "execution_count": 113,
     "metadata": {},
     "output_type": "execute_result"
    }
   ],
   "source": [
    "words"
   ]
  },
  {
   "cell_type": "code",
   "execution_count": 111,
   "id": "e4b1ff56",
   "metadata": {},
   "outputs": [
    {
     "name": "stdout",
     "output_type": "stream",
     "text": [
      "셀레늄\n",
      "파이썬 셀레니움 스크롤 내리기\n",
      "세레니움\n",
      "셀레늄\n",
      "파이썬 셀레니움 스크롤 내리기\n",
      "세레니움\n"
     ]
    }
   ],
   "source": [
    "for word in words:\n",
    "    print(word.text)"
   ]
  },
  {
   "cell_type": "code",
   "execution_count": 112,
   "id": "3916003c",
   "metadata": {},
   "outputs": [],
   "source": [
    "driver.close()\n"
   ]
  },
  {
   "cell_type": "code",
   "execution_count": null,
   "id": "28cf3e1b",
   "metadata": {},
   "outputs": [],
   "source": [
    "driver.find_element(By.XPATH, '//*[@id=\"daumSearch\"]/fieldset/div/div/button[3]')"
   ]
  },
  {
   "cell_type": "code",
   "execution_count": null,
   "id": "4954da06",
   "metadata": {},
   "outputs": [],
   "source": [
    "//*[@id=\"daumSearch\"]/fieldset/div/div/button[3]"
   ]
  },
  {
   "cell_type": "code",
   "execution_count": null,
   "id": "28eaff90",
   "metadata": {},
   "outputs": [],
   "source": [
    "#daumSearch > fieldset > div > div > button.ico_pctop.btn_search"
   ]
  },
  {
   "cell_type": "code",
   "execution_count": null,
   "id": "2488d728",
   "metadata": {},
   "outputs": [],
   "source": [
    "from selenium.webdriver.common.keys import Keys\n",
    "\n",
    "Keys.ENTER"
   ]
  },
  {
   "cell_type": "code",
   "execution_count": 120,
   "id": "1d7594e6",
   "metadata": {},
   "outputs": [],
   "source": [
    "driver = webdriver.Chrome()\n",
    "driver.get('https://www.ted.com/talks')"
   ]
  },
  {
   "cell_type": "code",
   "execution_count": 121,
   "id": "001b3d71",
   "metadata": {},
   "outputs": [],
   "source": [
    "driver.maximize_window()"
   ]
  },
  {
   "cell_type": "code",
   "execution_count": 115,
   "id": "d6b5906c",
   "metadata": {
    "scrolled": true
   },
   "outputs": [
    {
     "name": "stdout",
     "output_type": "stream",
     "text": [
      "TED-Ed\n",
      "Psychology\n",
      "Leadership\n",
      "Education\n",
      "AI\n",
      "Sleep\n",
      "Mental Health\n",
      "Business\n",
      "Motivation\n",
      "Communication\n",
      "Personal Growth\n",
      "Sports\n",
      "Health\n",
      "Language\n"
     ]
    }
   ],
   "source": [
    "words = driver.find_elements(By.CSS_SELECTOR, '#TopicsLaunchPad-Top-Default span.relative')\n",
    "\n",
    "for word in words:\n",
    "    print(word.text)\n"
   ]
  },
  {
   "cell_type": "code",
   "execution_count": 123,
   "id": "b007c461",
   "metadata": {},
   "outputs": [],
   "source": [
    "driver.find_element(By.CSS_SELECTOR, '#filterBarScrollArea div > button > span > p').click()"
   ]
  },
  {
   "cell_type": "code",
   "execution_count": 124,
   "id": "29b72fed",
   "metadata": {},
   "outputs": [],
   "source": [
    "driver.find_element(By.CSS_SELECTOR, \n",
    "'#dropdown-menu > li:nth-child(6) > button > span').click()\n"
   ]
  },
  {
   "cell_type": "code",
   "execution_count": 125,
   "id": "171f3130",
   "metadata": {},
   "outputs": [],
   "source": [
    "driver.find_element(By.CSS_SELECTOR, '#k ul > li:nth-child(5) > button').click()\n"
   ]
  },
  {
   "cell_type": "code",
   "execution_count": 126,
   "id": "cc26502f",
   "metadata": {},
   "outputs": [
    {
     "data": {
      "text/plain": [
       "24"
      ]
     },
     "execution_count": 126,
     "metadata": {},
     "output_type": "execute_result"
    }
   ],
   "source": [
    "contents = driver.find_elements(By.CSS_SELECTOR, \".mb-1 > span\")\n",
    "len(contents)\n"
   ]
  },
  {
   "cell_type": "code",
   "execution_count": 129,
   "id": "96d11bc7",
   "metadata": {},
   "outputs": [
    {
     "name": "stdout",
     "output_type": "stream",
     "text": [
      "This telescope might show us the beginning of the universe\n",
      "On violin and cello, \"Passacaglia\"\n",
      "\"My Man\" / \"Bohanna\" / \"We Dance\"\n",
      "How to engineer a viral music video\n",
      "Sampling the ocean's DNA\n",
      "The beautiful nano details of our world\n",
      "A day in the life of a Peruvian shaman\n",
      "The kill decision shouldn't belong to a robot\n",
      "A simple solution to the coming phosphorus crisis\n",
      "To hear this music you have to be there. Literally\n",
      "A plane you can drive\n",
      "A 5,300-year-old murder mystery\n",
      "What we learn from insects' sex lives\n",
      "A musical escape into a world of light and color\n",
      "The princess who rewrote history\n",
      "Zen kōans: unsolvable enigmas designed to break your brain\n",
      "A day in the life of an Aztec midwife\n",
      "Sci-fi stories that imagine a future Africa\n",
      "Hold your breath for micro-sculpture\n",
      "The power of herd immunity\n",
      "Global warming's theme song, \"Manhattan in January\"\n",
      "A bold plan to house 100 million people\n",
      "Why is Marie Antoinette so controversial?\n",
      "My days as a young rebel\n"
     ]
    }
   ],
   "source": [
    "for content in contents:\n",
    "    print(content.text)\n"
   ]
  },
  {
   "cell_type": "code",
   "execution_count": 137,
   "id": "3c97458d",
   "metadata": {},
   "outputs": [],
   "source": [
    "options = webdriver.ChromeOptions()\n",
    "options.add_argument('--start-fullscreen') \n",
    "options.add_argument('--blink-settings=imagesEnabled=false')\n",
    "options.add_argument('incognito') \n",
    "\n",
    "service = Service(ChromeDriverManager().install())\n",
    "driver = webdriver.Chrome(service=service, options=options)"
   ]
  },
  {
   "cell_type": "code",
   "execution_count": 138,
   "id": "0c9b0271",
   "metadata": {},
   "outputs": [],
   "source": [
    "driver.get(\"https://daum.net\")"
   ]
  },
  {
   "cell_type": "code",
   "execution_count": 139,
   "id": "ea9fc04b",
   "metadata": {},
   "outputs": [],
   "source": [
    "from selenium import webdriver\n",
    "from selenium.webdriver.common.by import By\n",
    "from bs4 import BeautifulSoup"
   ]
  },
  {
   "cell_type": "code",
   "execution_count": 140,
   "id": "8c9ba8d7",
   "metadata": {},
   "outputs": [],
   "source": [
    "driver = webdriver.Chrome()\n",
    "driver.get('https://www.istarbucks.co.kr/store/store_map.do')"
   ]
  },
  {
   "cell_type": "code",
   "execution_count": 141,
   "id": "30c76f66",
   "metadata": {},
   "outputs": [],
   "source": [
    "loca = driver.find_element(By.CLASS_NAME, 'loca_search')\n",
    "loca.click()"
   ]
  },
  {
   "cell_type": "code",
   "execution_count": 142,
   "id": "d530f037",
   "metadata": {},
   "outputs": [],
   "source": [
    "sido = driver.find_element(By.CLASS_NAME, 'sido_arae_box')\n",
    "li = sido.find_elements(By.TAG_NAME, 'li')\n",
    "li[0].click()"
   ]
  },
  {
   "cell_type": "code",
   "execution_count": 143,
   "id": "ad77e6fd",
   "metadata": {},
   "outputs": [],
   "source": [
    "gugun = driver.find_element(By.ID, 'mCSB_2_container')\n",
    "li = gugun.find_elements(By.TAG_NAME, 'li')\n",
    "li[1].click()"
   ]
  },
  {
   "cell_type": "code",
   "execution_count": 145,
   "id": "fb9693db",
   "metadata": {},
   "outputs": [],
   "source": [
    "source = driver.page_source"
   ]
  },
  {
   "cell_type": "code",
   "execution_count": 146,
   "id": "d0842423",
   "metadata": {},
   "outputs": [],
   "source": [
    "html = BeautifulSoup(source,'html.parser')"
   ]
  },
  {
   "cell_type": "code",
   "execution_count": 147,
   "id": "59651ba7",
   "metadata": {},
   "outputs": [
    {
     "name": "stdout",
     "output_type": "stream",
     "text": [
      "서울특별시 강남구 헌릉로 727 (세곡동)1522-3232\n"
     ]
    }
   ],
   "source": [
    "search_list = html.select('ul.quickSearchResultBoxSidoGugun > li')\n",
    "items = []\n",
    "for item in search_list:\n",
    "    items.append(item.find('p').text)\n",
    "print(items[0])"
   ]
  },
  {
   "cell_type": "code",
   "execution_count": 148,
   "id": "4537acfd",
   "metadata": {},
   "outputs": [],
   "source": [
    "driver.quit()"
   ]
  },
  {
   "cell_type": "code",
   "execution_count": 150,
   "id": "86ba4dc6",
   "metadata": {},
   "outputs": [
    {
     "data": {
      "text/plain": [
       "90"
      ]
     },
     "execution_count": 150,
     "metadata": {},
     "output_type": "execute_result"
    }
   ],
   "source": [
    "len(items)"
   ]
  },
  {
   "cell_type": "code",
   "execution_count": null,
   "id": "4647bba9",
   "metadata": {},
   "outputs": [],
   "source": []
  }
 ],
 "metadata": {
  "kernelspec": {
   "display_name": "Python 3 (ipykernel)",
   "language": "python",
   "name": "python3"
  },
  "language_info": {
   "codemirror_mode": {
    "name": "ipython",
    "version": 3
   },
   "file_extension": ".py",
   "mimetype": "text/x-python",
   "name": "python",
   "nbconvert_exporter": "python",
   "pygments_lexer": "ipython3",
   "version": "3.11.5"
  }
 },
 "nbformat": 4,
 "nbformat_minor": 5
}
