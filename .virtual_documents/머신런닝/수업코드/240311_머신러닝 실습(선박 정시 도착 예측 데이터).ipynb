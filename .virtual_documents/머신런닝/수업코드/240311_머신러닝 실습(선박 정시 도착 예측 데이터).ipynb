








import numpy as np
import pandas as pd
import matplotlib.pyplot as plt
import seaborn as sns
from scipy import stats
import warnings
warnings.filterwarnings('ignore')


from matplotlib import font_manager, rc
font = 'C:/Windows/Fonts/Malgun.ttf'
font_name = font_manager.FontProperties(fname=font).get_name()
rc('font', family=font_name)


df=pd.read_csv('https://raw.githubusercontent.com/kim-juwan/data_folder/main/data/shipment_trn.csv')
df.head()





df.info()


df.describe()


df['Discount_offered'].iloc[17:]


import re
def cleaning(text):
    p = re.compile('[^ a-zA-Z0-9\.]+')
    result = p.sub('',text).lower()
    return result
df['Discount_offered']=df['Discount_offered'].apply(cleaning)

df['Discount_offered'].value_counts()


df['Discount_offered']=df['Discount_offered'].astype('int64')
df['Discount_offered'].value_counts()





df.drop('ID', axis=1, inplace=True)





X=df['Reached.on.Time_Y.N'].value_counts() 


plt.pie(X, labels=['도착','미도착'], autopct = '%.2f%%', startangle = 90, counterclock = False, explode = [0.07, 0.05], shadow = True)





sns.barplot(data=df, x='Reached.on.Time_Y.N', y='Weight_in_gms')


import statsmodels.api as sm
from scipy import stats
## 상관관계
stats.pearson(df['Reached.on.Time_Y.N'], df['Weight_in_gms'])


# <로지스틱 회귀모형을 통한 검정> 회귀계수 0인가
import statsmodels.api as sm

model=sm.Logit(df['Reached.on.Time_Y.N'], df['Weight_in_gms'])
result=model.fit()

# 귀무: 해당 변수의 회귀계수가 0이다
#     --독립과 종속이 관련이 없다.  





sns.barplot(data=df, y='Reached.on.Time_Y.N', x='Customer_care_calls')


from scipy import stats
c_df=pd.crosstab(df['Customer_care_calls'], df['Reached.on.Time_Y.N'])
c_df



# 카이검정( 범주/범주)
stats.ch2_contingency(c_df)


model=sm.Logit(df['Reached.on.Time_Y.N'], df['Customer_care_calls'])
result=model.fit()

# 귀무: 해당 변수의 회귀계수가 0이다
#     --독립과 종속이 관련이 없다.  





sns.countplot(data=df, x='Product_importance', hue='Reached.on.Time_Y.N')


# 카이검정





y= df['Reached.on.Time_Y.N']
df.drop('Reached.on.Time_Y.N', axis=1, inplace=True)


df.columns





df_str=df[['Warehouse_block', 'Mode_of_Shipment', 'Customer_rating', 'Product_importance', 'Gender']]





df_num=df.drop(['Warehouse_block', 'Mode_of_Shipment', 'Customer_rating', 'Product_importance', 'Gender'], axis=1)


df_num.columns





from sklearn.preprocessing import OneHotEncoder

oh=OneHotEncoder(sparse_output=False)
str_scaled = oh.fit_transform(df_str)  
str_scaled


from sklearn.preprocessing import MinMaxScaler

scaler = MinMaxScaler()
num_scaled=scaler.fit_transform(df_num)
num_scaled








data=np.concatenate([str_scaled.toarray(),num_scaled], axis=1)


Ns=pd.DataFrame(num_scaled, columns=df_num.columns)
Ss=pd.DataFrame(str_scaled)
#Ss.columns=Ss.columns.astype(str)


data=pd.concat([Ns, Ss], axis=1)
data.info()





from sklearn.model_selection import train_test_split

X_train, X_test, y_train, y_test =train_test_split(data,y,test_size = 0.1,random_state = 0)
print(X_train.shape, y_test.shape, X_test.shape)





from sklearn.ensemble import GradientBoostingClassifier

gbm= GradientBoostingClassifier(n_estimators = 200, max_depth = 5, learning_rate=0.01, random_state=120)








gbm.fit(X_train, y_train)
pred=gbm.predict(X_test)





from sklearn.metrics import accuracy_score, f1_score, roc_auc_score
print(accuracy_score(y_test, pred))






