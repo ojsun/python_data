











import pandas as pd

df = pd.read_csv('https://raw.githubusercontent.com/kim-juwan/data_folder/main/data/shipment_trn.csv')
df.head()





df.info()


df['Discount_offered'].unique()


df['Discount_offered'] = df['Discount_offered'].apply(lambda x : int(x.replace(' *7 ', '7')))


# df['Discount_offered'] = df['Discount_offered'].str.replace(' *7 ', '7').astype(int)


df['Discount_offered']





df = df.drop('ID', axis = 1)





import matplotlib.pyplot as plt

y_cnt = df['Reached.on.Time_Y.N'].value_counts()
plt.pie(y_cnt.values, labels = y_cnt.index, autopct = '%.2f%%')
plt.show()


y_cnt





import seaborn as sns

sns.barplot(data = df, x = 'Reached.on.Time_Y.N', y = 'Weight_in_gms')


from scipy import stats

w0 = df[df['Reached.on.Time_Y.N'] == 0]['Weight_in_gms']
w1 = df[df['Reached.on.Time_Y.N'] == 1]['Weight_in_gms']

print(stats.shapiro(w0))
print(stats.shapiro(w1))


stats.mannwhitneyu(w0, w1)





import seaborn as sns

sns.barplot(data = df, x = 'Reached.on.Time_Y.N', y = 'Customer_care_calls')


from scipy import stats

c0 = df[df['Reached.on.Time_Y.N'] == 0]['Customer_care_calls']
c1 = df[df['Reached.on.Time_Y.N'] == 1]['Customer_care_calls']

print(stats.shapiro(c0))
print(stats.shapiro(c1))


stats.mannwhitneyu(c0, c1)


df['Customer_care_calls'].unique()


c_df = pd.crosstab(df['Customer_care_calls'], df['Reached.on.Time_Y.N'])
c_df


sns.countplot(data = df, x = 'Customer_care_calls', hue='Reached.on.Time_Y.N')


stats.chi2_contingency(c_df)





sns.countplot(data=df, x = 'Product_importance', hue = 'Reached.on.Time_Y.N')


c_df = pd.crosstab(df['Product_importance'], df['Reached.on.Time_Y.N'])
c_df


stats.chi2_contingency(c_df)





y = df['Reached.on.Time_Y.N']
df = df.drop('Reached.on.Time_Y.N', axis = 1)





df_str = df[['Warehouse_block', 'Mode_of_Shipment', 'Customer_rating', 'Product_importance', 'Gender']]





df_num = df.drop(['Warehouse_block', 'Mode_of_Shipment', 'Customer_rating', 'Product_importance', 'Gender'], axis = 1)





from sklearn.preprocessing import OneHotEncoder, MinMaxScaler

oh_enc = OneHotEncoder()
str_scaled = oh_enc.fit_transform(df_str)

mm_scaler = MinMaxScaler()
num_scaled = mm_scaler.fit_transform(df_num)





import numpy as np

data = np.concatenate([str_scaled.toarray(), num_scaled], axis = 1)
print(data.shape)





from sklearn.model_selection import train_test_split

X_train, X_test, y_train, y_test = train_test_split(data, y, test_size = 0.1, random_state=0)


print(X_train.shape, X_test.shape, y_train.shape, y_test.shape)





from sklearn.ensemble import GradientBoostingClassifier

gbm = GradientBoostingClassifier(n_estimators=200, max_depth = 5, 
                                 learning_rate=0.01, random_state=120)





gbm.fit(X_train, y_train)


pred = gbm.predict(X_test)


pred_proba = gbm.predict_proba(X_test)





from sklearn.metrics import roc_auc_score

roc_auc_score(y_test, pred_proba[:, 1])





df = pd.read_csv('https://raw.githubusercontent.com/kim-juwan/data_folder/main/data/shipment_trn.csv')
df['Discount_offered'] = df['Discount_offered'].apply(lambda x : int(x.replace(' *7 ', '7')))


df.info()


# 불필요한 컬럼 제거
obj_col = ['Warehouse_block', 'Mode_of_Shipment',  
           'Customer_rating', 'Product_importance', 'Gender']
num_col = ['Customer_care_calls', 'Cost_of_the_Product', 'Prior_purchases', 
           'Discount_offered', 'Weight_in_gms']


a = df[df['Reached.on.Time_Y.N'] == 0]['Cost_of_the_Product']
b = df[df['Reached.on.Time_Y.N'] == 1]['Cost_of_the_Product']
print(stats.shapiro(a))
print(stats.shapiro(b))
print(stats.mannwhitneyu(a,b))


a = df[df['Reached.on.Time_Y.N'] == 0]['Prior_purchases']
b = df[df['Reached.on.Time_Y.N'] == 1]['Prior_purchases']
print(stats.shapiro(a))
print(stats.shapiro(b))
print(stats.mannwhitneyu(a,b))


a = df[df['Reached.on.Time_Y.N'] == 0]['Discount_offered']
b = df[df['Reached.on.Time_Y.N'] == 1]['Discount_offered']
print(stats.shapiro(a))
print(stats.shapiro(b))
print(stats.mannwhitneyu(a,b))


crosstab = pd.crosstab(df['Warehouse_block'], df['Reached.on.Time_Y.N'])
print(stats.chi2_contingency(crosstab))


crosstab = pd.crosstab(df['Mode_of_Shipment'], df['Reached.on.Time_Y.N'])
print(stats.chi2_contingency(crosstab))


crosstab = pd.crosstab(df['Customer_rating'], df['Reached.on.Time_Y.N'])
print(stats.chi2_contingency(crosstab))


crosstab = pd.crosstab(df['Gender'], df['Reached.on.Time_Y.N'])
print(stats.chi2_contingency(crosstab))


# 불필요한 컬럼 제거
obj_col = ['Product_importance']
num_col = ['Customer_care_calls', 'Cost_of_the_Product', 'Prior_purchases', 
           'Discount_offered', 'Weight_in_gms']


from sklearn.pipeline import Pipeline
from sklearn.compose import ColumnTransformer
from sklearn.model_selection import GridSearchCV


ct = ColumnTransformer([('onehot', OneHotEncoder(), obj_col),
                        ('scaler', MinMaxScaler(), num_col)])
pipe = Pipeline([('ct', ct), 
                  ('gbm', GradientBoostingClassifier(n_estimators=200,
                                                     learning_rate = 0.01, 
                                                    random_state=120))])

params = {'gbm__max_depth' : [3, 5, 7, 9]}

grid = GridSearchCV(pipe, param_grid = params, scoring='roc_auc', 
                    cv = 3, verbose = True)


X = df.iloc[:, 1:-1]
y = df['Reached.on.Time_Y.N']

X_train, X_test, y_train, y_test = train_test_split(X, y, test_size = 0.1, 
                                                    random_state=0)


grid.fit(X_train, y_train)


print(grid.best_params_)
model = grid.best_estimator_


pred_proba = model.predict_proba(X_test)

roc_auc_score(y_test, pred_proba[:, 1])


from xgboost import XGBRFClassifier

ct = ColumnTransformer([('onehot', OneHotEncoder(), obj_col),
                        ('scaler', MinMaxScaler(), num_col)])
pipe = Pipeline([('ct', ct), 
                  ('xgb', XGBRFClassifier(n_estimators = 200, 
                                          learning_rate=0.01,  
                                          random_state = 120))])

params = {'xgb__max_depth' : [3]}

grid = GridSearchCV(pipe, param_grid = params, scoring='roc_auc', 
                    cv = 3, verbose = True)

grid.fit(X_train, y_train)
pred_proba = grid.predict_proba(X_test)
roc_auc_score(y_test, pred_proba[:, 1])



