import os
import random
import pandas as pd
import numpy as np
import matplotlib.pyplot as plt
import matplotlib.dates as mdates   # 시계열데이터 분석
import seaborn as sns
import warnings
warnings.filterwarnings('ignore')





!pip install -U finance-datareader


import FinanceDataReader as fdr     # 주식 실시간데이터

df = fdr.DataReader('BTC/USD')
df.head()


df.tail()


df.info()





# 주간(Weekly) 데이터만 추출하기 위하여 date_range()를 주 단위로 생성합니다.
target_index = pd.date_range('20130107', '20240205', freq='W-MON')  # 월요일 중심으로 일주일 데이터 만들기
target_index


# 추출한 시계열 인덱스 데이터로 필터링
df.loc[df.index.isin(target_index)].head(10)


# 2020년 ~ 2023년 4년치의 시세 데이터를 조회합니다. (Close)는 종가를 의미
data = df.loc[(df.index >= '2020-01-01') & (df.index <= '2023-12-31'), 'Close']
data


plt.figure(figsize=(7,4))
plt.plot(data.index, data.values)
plt.xticks(rotation=20)


## 주단위 데이터프레임으로 그래프 그리기
target=pd.DataFrame(data=target_index.values, columns=taget_index.)  # **


# 차분 만들기
diff1=data.diff(periods=1).iloc[1:]
plt.plot(diff1.index,diff1.values)


# 결측치 확인
data.isnull().sum()


# 평균 값으로 채우는 경우
data.fillna(data.mean())


# interpolation 방식으로 결측치를 채웁니다.
data = data.interpolate()
plt.plot(data.index,data.values)





plt.plot(data,'k', label='Close')
plt.plot(data.ewm(alpha=0.1).mean(), 'r', label='alpha=0.1') # 원데이터의 이전값에 영향을 받아서 차이가 별로 없음/ 원만한 선
plt.plot(data.ewm(alpha=0.5).mean(), 'b', label='alpha=0.5')
plt.plot(data.ewm(alpha=0.8).mean(), 'g', label='alpha=0.8') # 이전값에 영향이 적어짐

plt.xticks(rotation=30)
plt.xlim(pd.Timestamp('2023-01-01'), pd.Timestamp('2024-01-01'))
plt.legend()
plt.show()


data.ewm(alpha=0.1).mean().head()   # 알파값이 적을수록 노이즈값 제어








# 초반 데이터가 없을때 10일땐 10일, 30일은 30일의 자료가 있어야 분석가능
plt.figure(figsize=(7,6))
plt.plot(data,'k', label='Close')
plt.plot(data.rolling(window=10).mean().bfill(), 'r', label='ma10')    
plt.plot(data.rolling(window=20).mean().bfill(), 'b', label='ma20')
plt.plot(data.rolling(window=30).mean().bfill(), 'g', label='ma30')  # 가장 완만한 곡선/ 영향력

plt.xticks(rotation=30)
plt.ylim(10000,40000)
plt.xlim(pd.Timestamp('2023-1-01'), pd.Timestamp('2024-01-01'))
plt.legend()
plt.show()








from statsmodels.graphics.tsaplots import plot_acf, plot_pacf

fig, axes = plt.subplots(1, 2)
fig.set_size_inches(12, 4)

# ACF Plot
plot_acf(data, ax=axes[0])
# PACF Plot
plot_pacf(data, zero=False, ax=axes[1])

for ax in axes:
    ax.set_ylim(-0.5, 1.25)
plt.show()








from statsmodels.tsa.stattools import kpss

def kpss_test(series, **kw):    
    stats, p_value, nlags, critical_values = kpss(series, **kw)
    
    print(f'KPSS Stat: {stats:.5f}')
    print(f'p-value: {p_value:.2f}')
    print(f'Lags: {nlags}')
    
    print(f'검증결과: {"비정상(non-stationary)" if p_value <= 0.05 else "정상(stationary)"} 시계열 데이터입니다.')


kpss_test(data)


# 1차 차분에 대한 결과
diff_1 = data.diff(periods=1).iloc[1:]


kpss_test(diff_1, nlags=30)


# 1차 차분 결과에 대한 시각화
fig, axes = plt.subplots(1, 1)
fig.set_size_inches(8, 4)

# ACF Plot
plot_acf(diff_1, ax=axes)

axes.set_ylim(-0.5, 1.25)
plt.show()





# 데이터 정상 상태 수치 확인 
from statsmodels.tsa.stattools import adfuller #ADF Test를 위한 함수 호출 

st_result = adfuller(data)


def adfuller_test(series, **kw):    
    adf, p_value, nlags, number_of_observations, critical_values, _ = adfuller(series, **kw)
    
    print(f'ADF: {adf:.5f}')
    print(f'p-value: {p_value:.2f}')
    print(f'Lags: {nlags}')
    print(f'Number of Observations: {number_of_observations}')
    
    print(f'검증결과: {"비정상(non-stationary)" if p_value > 0.05 else "정상(stationary)"} 시계열 데이터입니다.')


# Adfuller 테스트
adfuller_test(data)


# 1차 차분에 대한 Adfuller 테스트
adfuller_test(diff_1)


# 1차 차분 결과에 대한 시각화
fig, axes = plt.subplots(1, 1)
fig.set_size_inches(8, 4)

# ACF Plot
plot_pacf(diff_1, ax=axes)

axes.set_ylim(-0.5, 1.25)
plt.show()








from statsmodels.tsa.arima.model import ARIMA


model = ARIMA(data, order=(2,1,1)).fit()   # order 안에 최상의 값을 넣어야
model.summary()
# 평가 점수 AIC, BIC, HQIC 값이 적어야 정확함(P>|z| 피밸류도 적을수록)


#예축!!!!!!! 100일치 예측
model.forecast(steps=100)  


## 학습, 
from statsmodels.tsa.arima.model import ARIMA
import itertools
from tqdm import tqdm
import warnings

warnings.filterwarnings('ignore')

p = range(0, 4)
d = range(0, 3)
q = range(0, 5)

pdq = list(itertools.product(p,d,q))

aic = []
params = []

with tqdm(total=len(pdq)) as pg:
    for i in pdq:
        pg.update(1)
        try:
            model = ARIMA(data, order=(i)).fit()
            aic.append(round(model.aic, 2))
            params.append((i))
        except:
            continue 


min(aic)  # 가장 결과값 좋음





optimal = [(params[i],j) for i,j in enumerate(aic) if j == min(aic)]
arima = ARIMA(data, order = optimal[0][0], freq='D').fit()   # 주단위로 바꿀 경우 fit 다시한번
arima.summary()


optimal   # best


# y_test= df.loc[()   #**


arima_model = ARIMA(data, order=optimal[0][0], freq='D').fit()
forecast = arima_model.forecast(steps=100)

fig, ax = plt.subplots(1, 1)
fig.set_size_inches(10, 5)
fig.set_dpi(300)
ax.plot(data.index, data, color='green')
ax.plot(forecast, color='red')
plt.xticks(rotation=30)
plt.xlim(pd.Timestamp('2023-12-01'), pd.Timestamp('2024-04-30'))
#plt.ylim(38000,45000)
plt.show()





fig, axes = plt.subplots(1, 2)
fig.set_size_inches(12, 6)
fig.set_dpi(300)
 
# number of prediction days
n_futures = 15

freq = 'D'
future_idx = pd.date_range(data.index[-1], periods=n_futures+1, freq=freq)[-n_futures:]
 
forecast = arima_model.fittedvalues
forecast_futures = arima_model.forecast(steps=n_futures)

axes[0].plot(data.index, data, label='data', color='black', linestyle='dotted', alpha=0.5)
axes[0].plot(data.index, forecast, label='fitted', color='green', linestyle='solid', alpha=0.5)
axes[0].set_title('Fitted Result')
axes[0].set_xticklabels(mdates.num2date(axes[0].get_xticks()), rotation = 45)
axes[0].xaxis.set_major_formatter(mdates.DateFormatter('%Y-%m'))

axes[1].plot(future_idx, forecast_futures, color='red', label='prediction')
axes[1].plot(data.index[-30:], data[-30:], color='black', linestyle='dotted', label='real')
axes[1].set_title(f'Predict Next {n_futures} days')
axes[1].set_xticklabels(mdates.num2date(axes[1].get_xticks()), rotation = 45)
axes[1].xaxis.set_major_formatter(mdates.DateFormatter('%Y-%m-%d'))

# plt.xticks(rotation=45)
plt.legend()
plt.tight_layout()
plt.show()





from statsmodels.tsa.statespace.sarimax import SARIMAX


sarimax = SARIMAX(data, order=(2, 2, 3), season_order = (1, 1, 2, 14)).fit(disp=False)
# season_order = (1, 1, 2, 14)  p d q m(주기)
forecast = sarimax.forecast(steps=30)

plt.figure(figsize=(10, 5))
plt.plot(data.index, data, label='real', color='green')
plt.plot(forecast, label='predict', color='red')
plt.legend()
plt.show()





# 금 선물
gold = fdr.DataReader('ZG')
# 금 선물 데이터 컬럼 변환
gold = gold['Close'].reset_index().rename(columns={'Close': 'Gold'})
gold


# 코스피 데이터
kospi = fdr.DataReader('KS11')
# 코스피 데이터 병합
kospi = kospi['Close'].reset_index().rename(columns={'Close': 'Kospi'})
kospi


# Kospi 데이터와 금값 시세 데이터 병합
kospi_gold = pd.merge(kospi, gold, how='left')
kospi_gold





kospi_gold['Gold'] = kospi_gold['Gold'].interpolate().bfill()
kospi_gold['Kospi'] = kospi_gold['Kospi'].interpolate().bfill()
kospi_gold





data_merged = pd.merge(data, kospi_gold, left_on=data.index, right_on=kospi_gold['Date'], how='left').drop('Date', axis=1)
data_merged = data_merged.rename(columns={'key_0': 'Date'})
data_merged


# Gold, Kospi 의 결측치를 채웁니다.
data_merged['Gold'] = data_merged['Gold'].interpolate().bfill()
data_merged['Kospi'] = data_merged['Kospi'].interpolate().bfill()
data_merged





# train / test 분할
train_data = data_merged[:-30]
test_data = data_merged[-30:]


# 향후 30일의 데이터에 대한 예측
n_predictions = 30

sarimax = SARIMAX(train_data['Close'], 
                exog=train_data[['Gold', 'Kospi']], 
                order=(2, 2, 3), 
                season_order = (1, 1, 2, 14)).fit(disp=False)

forecast = sarimax.forecast(steps=30, exog=test_data[['Gold', 'Kospi']])

fig, axes = plt.subplots(1, 2)
fig.set_size_inches(12, 5)
fig.set_dpi(300)

axes[0].plot(train_data['Date'], train_data['Close'], label='real', color='green')
axes[0].plot(test_data['Date'], forecast, label='predict', color='red')
axes[0].set_xlim(pd.Timestamp('2020-01-01'), )
# Tick을 날짜형식으로 변환
axes[0].set_xticklabels(mdates.num2date(axes[0].get_xticks()), rotation = 45)
axes[0].xaxis.set_major_formatter(mdates.DateFormatter('%Y-%m'))
axes[0].set_title('Overall Time Series')
axes[0].legend()

axes[1].plot(train_data['Date'], train_data['Close'], label='real', color='green')
axes[1].plot(test_data['Date'], forecast, label='predict', color='red')
axes[1].set_xlim(pd.Timestamp('2023-11-01'), pd.Timestamp('2024-01-01'))
# Tick을 날짜형식으로 변환
axes[1].set_xticklabels(mdates.num2date(axes[1].get_xticks()), rotation = 45)
axes[1].xaxis.set_major_formatter(mdates.DateFormatter('%Y-%m'))
axes[1].set_title(f'Predict Next {n_predictions} days')
axes[1].legend()

plt.tight_layout()
plt.legend()
plt.show()





p = range(0, 5)  # AR
d = range(1, 3)  # 차분
q = range(0, 4)  # MA
m = 30           # 계절성 주기(Seasonal Trends) / 하이퍼파라미터 찾지않음

pdq = list(itertools.product(p, d, q))
seasonal_pdq = [(x[0], x[1], x[2], m) for x in list(itertools.product(p, d, q))]

aic = []
params = []

with tqdm(total = len(pdq) * len(seasonal_pdq)) as pg:
    for i in pdq:
        for j in seasonal_pdq:
            pg.update(1)
            try:
                model = SARIMAX(train_data['Close'], 
                                exog=train_data[['Gold', 'Kospi']], 
                                order=(i), 
                                season_order = (j)).fit(disp=False)
                aic.append(round(model.aic, 2))
                params.append((i,j))
            except:
                print('Error Occured..')
                continue


# 향후 30일의 데이터에 대한 예측
n_predictions = 30


optimal = [(params[i], j) for i, j in enumerate(aic) if j == min(aic)]

sarimax_tunned = SARIMAX(train_data['Close'], 
                         exog=train_data[['Gold', 'Kospi']],   # 계절성 관련데이터
                         order = optimal[0][0][0], 
                         seasonal_order = optimal[0][0][1]).fit(disp=False)

sarimax_tunned.summary()


sarimax_tunned.forecast(steps=n_predictions, exog=test_data[['Gold', 'Kospi']])





import matplotlib.pyplot as plt


del plt


forecast = sarimax_tunned.forecast(steps=n_predictions, exog=test_data[['Gold', 'Kospi']])

plt.figure(figsize=(10, 5))
plt.plot(data.index, data, label='real', color='#1AA341', alpha=0.5)
plt.plot(test_data['Date'], forecast, label='predict', color='#F02828')
plt.axvline(x = pd.Timestamp('2023-12-02'), color = 'blue', label = 'After Prediction', linestyle='dotted')
plt.xlim(pd.Timestamp('2023-11-01'), )
plt.ylim(30000, 50000)
plt.xticks(rotation=45)
plt.legend()
plt.show()





import statsmodels.api as sm

# additive 방식을 활용한 분해
decomposition = sm.tsa.seasonal_decompose(data, model='additive', period=365)
fig = decomposition.plot()
fig.set_dpi(300)
fig.set_tight_layout('constrained')
fig.set_size_inches(10, 6)
plt.show()





## additive와 다른 점은 잔차(노이즈) 그래프만 다름 -0값이 없음
decomposition = sm.tsa.seasonal_decompose(data, model='multiplicative', period=365)
fig = decomposition.plot()
fig.set_dpi(300)
fig.set_tight_layout('constrained')
fig.set_size_inches(10, 6)
plt.show()






