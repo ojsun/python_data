import numpy as np
import pandas as pd
import seaborn as sns
import matplotlib.pyplot as plt
from scipy import stats
import warnings

warnings.filterwarnings('ignore')
sns.set_palette('Paired')

plt.rcParams["figure.figsize"] = (6,3)
plt.rcParams['font.size'] = 12

from matplotlib import font_manager, rc
font = 'C:/Windows/Fonts/malgun.ttf'
font_name = font_manager.FontProperties(fname=font).get_name()
rc('font', family=font_name)



# 정규분석
from scipy import stats
stats.shapiro(titanic['Fare'])
stats.anderson(titanic['Fare'])


# 이상치 판단 1) IQR 이용
IQR = titanic['Fare'].quantile(0.75) - titanic['Fare'].quantile(0.25)
high_border = titanic['Fare'].quantile(0.75) + IQR * 1.5
low_border = titanic['Fare'].quantile(0.25) - IQR * 1.5
print(high_border, low_border)


titanic2 = titanic[(titanic['Fare'] < high_border) & (titanic['Fare'] > low_border)]


# 이상치 판단 2) zscore : 평균에서 떨어진 정도로 이상치 검출, 2~3의 값으로 검출
import numpy as np
z_score = np.abs(titanic['Fare'] - titanic['Fare'].mean()) / titanic['Fare'].std()
titanic3 = titanic[z_score < 2.5] 


# 숫자 vs 숫자 상관관계 분
from scipy import stats
stats.pearsonr(air['Temp'], air['Ozone']) 


# 상관관계 분석 
corr = air.corr(numeric_only=True)
import seaborn as sns
sns.heatmap(corr, vmin=-1, vmax=1, annot=True)


# 범주 vs 범주 : 상관관계-교차
pd.crosstab(titanic['Survived'], titanic['Sex'])


pd.crosstab(titanic['Survived'], titanic['Sex'], normalize='columns') # normalize 값에 따른 차이 비교할 


# 범주 vs 범주 카이제곱 분
result = stats.chi2_contingency(table)
print('카이제곱통계량 :', result[0])
print('P-value :', result[1])
print('기대빈도 :\n', result[3])


# 신뢰구간 계산
confidence_interval = [age.mean() - 1.96 * std / np.sqrt(n - 1), age.mean() + 1.96 * std / 
np.sqrt(n - 1)]
print(f"표본평균: {age.mean()}")
print(f"신뢰구간: {confidence_interval}")


# 단일표본 t검정(one-sample T-fest)
print(stats.ttest_1samp(s0, titanic['Age'].mean()))
print(stats.ttest_1samp(s1, titanic['Age'].mean()))


# 정규성 검정
print(stats.shapiro(s0))
print(stats.shapiro(s1)


# 등분산 검
print(stats.bartlett(s0, s1))
print(stats.levene(s0, s1))
print(stats.fligner(s0, s1))


# 범주(독립) 3개 vs 숫자(종)
stats.ttest_ind(s0, s1, equal_var = False) 


# f 검정(ANOVA) : 독립(숫자 3개), 숫자(종속)
stats.f_oneway(p1, p2, p3)


# 로지스틱 회귀모델
import statsmodels.api as sm
model = sm.Logit(titanic2['Survived'], titanic2['Age'])
result = model.fit()
print(result.pvalues












