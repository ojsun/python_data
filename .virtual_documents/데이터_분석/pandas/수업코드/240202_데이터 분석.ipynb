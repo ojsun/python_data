import pandas as pd

titanic = pd.read_csv('../data/titanic.csv')
titanic.head()


titanic['Age'].describe()


# 데이터 총 714개다, 누락값이 있다.
# 평균 29.7이다. 표준편차가 14.5      
# 대략 29.7 - 14.5 * 1.96 ~ 29.7 + 14.5 * 1.96 이 사이에 있다.
# 최소값 0.42 어린애가 있구나, 최대값 80 노인도 있구나.
# 평균 ~ 중앙값이랑 차이가 꽤 나면 값이 편향되어있구나.
# 0 ~ 25 : 약 20, 25 ~ 50 : 약 8, 50 ~ 75 : 약 10, 75 ~ 100 : 약 42


import matplotlib.pyplot as plt
import seaborn as sns
plt.subplot(3,1,1)
sns.histplot(data = titanic, x = 'Age')
plt.subplot(3,1,2)
sns.boxplot(data = titanic, x = 'Age')
plt.subplot(3,1,3)
sns.violinplot(data = titanic, x = 'Age')


import numpy as np

arr = np.random.randn((5001))
sns.histplot(arr, kde=True)


stats.shapiro(arr)


from scipy import stats
stats.shapiro(titanic['Fare'])


stats.anderson(titanic['Fare'])


stats.anderson(arr)


print(titanic['Pclass'].value_counts())
print(titanic['Pclass'].value_counts() / len(titanic['Pclass'])) 


p_cnt = titanic['Pclass'].value_counts()
plt.figure(figsize = (7, 3))
plt.subplot(1,2,1)
sns.countplot(data = titanic, x = 'Pclass')
plt.subplot(1,2,2)
plt.pie(p_cnt.values, labels = p_cnt.index, autopct = '%.2f%%') 


# 이상치 판단
# IQR
IQR = titanic['Fare'].quantile(0.75) - titanic['Fare'].quantile(0.25)
high_border = titanic['Fare'].quantile(0.75) + IQR * 1.5
low_border = titanic['Fare'].quantile(0.25) - IQR * 1.5
print(high_border, low_border)


titanic2 = titanic[(titanic['Fare'] < high_border) & (titanic['Fare'] > low_border)]
plt.subplot(3,1,1)
sns.histplot(data = titanic2, x = 'Fare')
plt.subplot(3,1,2)
sns.boxplot(data = titanic2, x = 'Fare')
plt.subplot(3,1,3)
sns.violinplot(data = titanic2, x = 'Fare')
print(stats.shapiro(titanic2['Fare']))


import numpy as np
z_score = np.abs(titanic['Fare'] - titanic['Fare'].mean()) / titanic['Fare'].std()
z_score


titanic3 = titanic[z_score < 2]
plt.subplot(3,1,1)
sns.histplot(data = titanic3, x = 'Fare')
plt.subplot(3,1,2)
sns.boxplot(data = titanic3, x = 'Fare')
plt.subplot(3,1,3)
sns.violinplot(data = titanic3, x = 'Fare')
print(stats.shapiro(titanic3['Fare']))


(512 - 32) / 49



