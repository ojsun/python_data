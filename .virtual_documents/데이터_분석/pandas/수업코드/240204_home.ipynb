import numpy as np
import pandas as pd
import seaborn as sns
from scipy import stats
import warnings

warnings.filterwarnings('ignore')
sns.set_palette('Paired')


import matplotlib.pyplot as plt
plt.rcParams["figure.figsize"] = (6,5)
plt.rcParams['font.size'] = 12

# 한글 폰트 적용/ 학원,노트북 모두
from matplotlib import font_manager, rc
font = 'C:/Windows/Fonts/malgun.ttf'
font_name = font_manager.FontProperties(fname=font).get_name()
rc('font', family=font_name)


titanic=pd.read_csv('../data/titanic.csv')
titanic.info()


titanic.Age.describe()


plt.subplot(3,1,1)
sns.histplot(data=titanic, x='Age')
plt.subplot(3,1,2)
sns.boxplot(data=titanic, x= 'Age')
plt.subplot(3,1,3)
sns.kdeplot(data=titanic, x='Age')
plt.tight_layout()


titanic.Fare.describe()


plt.subplot(3,1,1)
sns.histplot(data=titanic, x='Fare')
plt.subplot(3,1,2)
sns.boxplot(data=titanic, x='Fare',showmeans=True)
plt.subplot(3,1,3)
sns.kdeplot(data=titanic, x='Fare')


stats.shapiro(titanic.Fare)


stats.anderson(titanic.Fare)


IQR=titanic.Fare.quantile(0.75) - titanic.Fare.quantile(0.25)
IQR


high_border=titanic.Fare.quantile(0.75) + IQR*1.5
low_border=titanic.Fare.quantile(0.25) - IQR*1.5
print(low_border, high_border)


titanic1=titanic[(titanic['Fare']>low_border) & (titanic.Fare <high_border)]
plt.subplot(2,1,1)
sns.histplot(data=titanic1, x='Fare')
plt.subplot(2,1,2)
sns.boxplot(data=titanic, x='Fare')


stats.shapiro(titanic.Fare)


stats.anderson(titanic1.Fare)


titanic.Pclass.value_counts()
titanic.Pclass.value_counts() / len(titanic.Pclass)


p_cnt=titanic.Pclass.value_counts()
plt.subplot(1,2,1)
sns.countplot(data=titanic, x='Pclass')
plt.subplot(1,2,2)
plt.pie(p_cnt.values, labels=p_cnt.index, autopct='%.2f%%')



air=pd.read_csv('../data/ozone.csv')
air.describe()


sns.scatterplot(data=air, x='Temp',y='Ozone')


plt.subplot(2,1,1)
plt.scatter('Solar.R','Ozone',data=air, )
plt.subplot(2,1,2)
sns.scatterplot(data=air, x='Wind',y='Ozone')


sns.regplot(data=air, x='Solar.R',y='Ozone')


stats.pearsonr(air.Temp,air.Ozone)


cor_1=air.corr(numeric_only=True)


sns.heatmap(cor_1, vmin=-1, vmax=1, annot=True)


pd.crosstab(titanic.Survived, titanic.Sex)


pd.crosstab(titanic.Survived, titanic.Sex, normalize='index')


pd.crosstab(titanic.Survived, titanic.Sex, normalize='all')


c=pd.crosstab(titanic.Survived, titanic.Sex, normalize='index')
c.plot.bar(stacked=True)


sns.countplot(data=titanic,x='Sex', hue='Survived' )


table=pd.crosstab(titanic.Survived, titanic.Sex)


result=stats.chi2_contingency(table)
result[1]



