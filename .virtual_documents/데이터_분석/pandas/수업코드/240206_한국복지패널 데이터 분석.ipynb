!pip install pyreadstat


pd.read_stata('data/pandas/koweps_hpwc14_2019_beta4.dta')





import pandas as pd

welfare = pd.read_csv('data/pandas/Koweps_hpwc14_2019.csv')
welfare.head()


welfare.info()


welfare.describe()


code_job = pd.read_csv('data/pandas/Koweps_code_job_2019.csv', encoding='euc-kr')


welfare.columns


code_job.columns


welfare = welfare.merge(code_job, on = 'code_job', how='left')
welfare.head()


welfare.isnull().sum()


# income 컬럼, code_job, job 컬럼
# 미성년자, 학생, 무직, 정년퇴임 등등 다양한 이유로 직업이 없을 수 있음

# income과 code_job, job 컬럼의 누락값 개수가 차이 나는 이유
# 휴직 등 기타 이유로 현재 수입이 없는 상태면서 직업만 있는 상태 일수 있음


# 누락값 처리 : 딱히 없다. 


# 이상치 : 들어가면 안될 값의 유무의 확인
welfare[welfare['gender'] == 9]


welfare['gender'].unique()


welfare[welfare['birth'].isin([9999])]


welfare[welfare['income'].isin([0])]


# 그래프 크기 조절
import matplotlib.pyplot as plt
plt.rcParams["figure.figsize"] = (4,2)
# 한글 폰트 적용
from matplotlib import font_manager, rc
font = 'C:/Windows/Fonts/malgun.ttf'
font_name = font_manager.FontProperties(fname=font).get_name()
rc('font', family=font_name)


import seaborn as sns
sns.boxplot(x = welfare['income'])


IQR = welfare['income'].quantile(q = 0.75) - welfare['income'].quantile(q = 0.25)
high_border = welfare['income'].quantile(q = 0.75) + 1.5 * IQR
print(high_border)


# welfare['gender'].apply(lambda x : '남자' if x == 1 else '여자')
def gender_convert(x):
    if x == 1:
        return '남자'
    else:
        return '여자'
welfare['gender2'] = welfare['gender'].apply(gender_convert)
welfare.head()


welfare['gender2'].value_counts()


sns.countplot(data = welfare, x = 'gender2')


sns.histplot(data = welfare, x = 'birth', kde = True)


welfare['age'] = 2019 - welfare['birth'] - 1
welfare.head()


welfare['age'].describe()


welfare['age'].plot.hist()


welfare.columns


# 결혼유무
def marriage_convert(x):
    if (x == 0) or (x == 5):
        return '미혼'
    elif x == 1:
        return '기혼'
    elif (x == 2) or (x == 4) or (x == 6):
        return '기타'
    else:
        return '이혼'
    
    
welfare['marriage'] = welfare['marriage_type'].apply(marriage_convert)


m_cnt = welfare['marriage'].value_counts()
m_cnt


plt.pie(m_cnt.values, labels=m_cnt.index, autopct='%.2f %%')
plt.show()


j_cnt5 = welfare['job'].value_counts().head()


sns.countplot(data = welfare, x = 'job')


plt.barh(j_cnt5.index, j_cnt5.values)
plt.xticks(rotation = 90)
plt.show()


# 1, 2 : 수도권, 나머지 : 지방
def region_convert(x):
    if x <= 2:
        return '수도권'
    else:
        return '지방'
welfare['region'] = welfare['code_region'].apply(region_convert)


welfare.head()


# 범주형 : 성별, 결혼유무, 종교유무, 직업, 지역
# 수치형 : 나이, 월급
# 1. 성별에 따른 월급 차이가 있을까?
# 2. 나이에 따른 월급 차이가 있을까?





# 1. 성별에 따른 임금 차이가 날까? (남녀 임금이 다를까?)


# 독립변수 : 성별(범주형), 종속변수 : 월급(수치형)
# 1. 기초통계량 (평균 비교)
welfare.groupby('gender2')['income'].mean()


# 2. 그래프 (barplot - 평균)
sns.barplot(data = welfare, x = 'gender2', y = 'income')


# 집단으로 데이터 나누기
male_income = welfare[welfare['gender2'] == '남자']['income'].dropna()
female_income = welfare[welfare['gender2'] == '여자']['income'].dropna()


# 3. 가설검정 (독립표본 t 검정, 맨휘트니유 검정)
# 정규성, 등분산성
from scipy import stats
print(stats.shapiro(male_income))
print(stats.shapiro(female_income))
# 결과가 정규성을 가지지 않으므로 비모수 검정(맨휘트니유 검정)
stats.mannwhitneyu(male_income, female_income)

# 대립가설 채택 > 성별에 따른 임금차이가 있다.


# 2. 나이에 따라 임금 차이가 날까? (임금이 가장 높은 나이가 언제일까?)
# 독립변수 : 나이(수치형), 종속변수 : 임금(수치형)
# 상관분석, 회귀분석
# 1. 그래프 : scatter + regresion
sns.regplot(data = welfare, x = 'age', y = 'income')


# 2. 상관분석 : pearsonr

welfare2 = welfare[['age', 'income']].dropna()
stats.pearsonr(welfare2['age'], welfare2['income'])


welfare2.corr()


# 3. 나이에 따라 임금 차이가 날까? (어느 나이대가 임금이 높을까?)

def age_convert(x):
    if x <= 19:
        return 'teenager'
    elif x <= 40:
        return 'young'
    elif x <= 65:
        return 'senior'
    else:
        return 'old'
    
welfare['age_group'] = welfare['age'].apply(age_convert)
# 독립변수 : 연령대(범주형), 종속변수 : 임금(수치형)

yng_income = welfare[welfare['age_group'] == 'young']['income'].dropna()
snr_income = welfare[welfare['age_group'] == 'senior']['income'].dropna()


print(stats.shapiro(yng_income))
print(stats.shapiro(snr_income))
# 정규성을 가지지 않으므로 비모수 검정

stats.mannwhitneyu(yng_income, snr_income)
# p-value가 0.05크므로 귀무가설 기각하지 않는다.
# 두 집단간의 차이가 없다.


sns.barplot(data=welfare, x = 'age_group', y = 'income')


sns.lineplot(data= welfare, x = 'age', y = 'income', hue='gender2')
plt.title('나이 증가에 따른 남녀 임금 차이')



