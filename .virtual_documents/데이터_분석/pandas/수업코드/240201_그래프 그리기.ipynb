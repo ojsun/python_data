# 그래프 크기 조절
import matplotlib.pyplot as plt
plt.rcParams["figure.figsize"] = (4,2)
# 한글 폰트 적용
from matplotlib import font_manager, rc
font = 'C:/Windows/Fonts/malgun.ttf'
font_name = font_manager.FontProperties(fname=font).get_name()
rc('font', family=font_name)
import seaborn as sns


tips = sns.load_dataset('tips')
tips.head()


def recode_gender(gender):
    if gender == 'Female':
        return 'red'
    else:
        return 'blue'
tips['color'] = tips['sex'].apply(recode_gender)


tips.head()


plt.scatter(x = tips['total_bill'], y = tips['tip'], c = tips['color'],
            alpha = 0.5)


f_tips = tips.groupby('sex')[['total_bill', 'tip']].get_group('Female')
m_tips = tips.groupby('sex')[['total_bill', 'tip']].get_group('Male')


plt.scatter(m_tips['total_bill'], m_tips['tip'], c='blue', marker='^')
plt.scatter(f_tips['total_bill'], f_tips['tip'], c='blue', marker='s')


plt.hist(m_tips['total_bill'], alpha=0.5)
plt.hist(f_tips['total_bill'], alpha=0.5)


# plt.scatter
sns.scatterplot(data = tips, x = 'total_bill', y = 'tip', 
                hue='sex', palette='BrBG')
plt.grid()
plt.title('Scatterplot of Total Bill vs Tip')


tips.groupby('sex')['total_bill'].count()


모평균 170
표본 10 > [168, 171, 170, 165, ...]


sns.barplot(data = tips, x = 'sex', y = 'total_bill', estimator='size')
plt.title('Barplot of Total Bill by Sex')


sns.countplot(data=tips, x = 'sex')


s_tips = tips.groupby('sex')['total_bill'].count()
plt.barh(s_tips.index, s_tips.values)


sns.barplot(data = tips, x = 'sex', y = 'total_bill')


sns.countplot(data=tips, y = 'sex')


plt.figure(figsize=(8,4))
sns.boxplot(data = tips, x = 'total_bill', y = 'sex')


sns.histplot(data = tips, x = 'total_bill')


plt.figure(figsize=(4, 4))
plt.subplot(2,1,1)
sns.histplot(data = tips, x = 'total_bill')
plt.axvline(tips['total_bill'].mean(), color='red')
plt.subplot(2,1,2)
sns.boxplot(data = tips, x = 'total_bill')
print(tips['total_bill'].describe())


sns.histplot(data = tips, x = 'total_bill', kde = True)


sns.kdeplot(tips['total_bill'])


sns.lineplot(data = tips, x = 'total_bill', y = 'tip')


tips2 = tips.sort_values('total_bill')
plt.plot(tips2['total_bill'], tips2['tip'])


sns.regplot(data = tips, x = 'total_bill', y = 'tip', scatter=False)


# (평균)회귀선
# total_bill : 원인       tip : 결과
#  y = ax + b    회귀선


anscombe = sns.load_dataset('anscombe')
anscombe.head()


sns.lmplot(data = anscombe, x = 'x', y = 'y', hue = 'dataset')


sns.jointplot(x = 'total_bill', y = 'tip', data = tips)
plt.suptitle('Jointplot of Total Bill and Tip')
plt.tight_layout()


sns.pairplot(tips)


sns.kdeplot(data = tips, x = 'total_bill', fill=True)


sns.violinplot(x = 'total_bill', data = tips) # kde + box


plt.figure(figsize=(4,5))
plt.subplot(3,1,1)
sns.kdeplot(data = tips, x = 'total_bill', fill=True)
plt.subplot(3,1,2)
sns.violinplot(x = 'total_bill', data = tips) # kde + box
plt.subplot(3,1,3)
sns.boxplot(data = tips, x = 'total_bill')


pair_grid = sns.PairGrid(tips) 
pair_grid = pair_grid.map_upper(sns.regplot) 
pair_grid = pair_grid.map_lower(sns.kdeplot, fill = True) 
pair_grid = pair_grid.map_diag(sns.histplot)


# 판다스 그래프 쓰는 이유
# 데이터프레임 값을 빠르게 찍어보기위해서
tips.plot()  # plot >  line  > 수치  > 수치형컬럼 > total_bill, tip, size


tips.plot()  # plot 그래프 함수를 모아놓은 함수
# kind : str
#     The kind of plot to produce:

#     - 'line' : line plot (default)
#     - 'bar' : vertical bar plot
#     - 'barh' : horizontal bar plot
#     - 'hist' : histogram
#     - 'box' : boxplot
#     - 'kde' : Kernel Density Estimation plot
#     - 'density' : same as 'kde'
#     - 'area' : area plot
#     - 'pie' : pie plot
#     - 'scatter' : scatter plot (DataFrame only)
#     - 'hexbin' : hexbin plot (DataFrame only)


tips[['total_bill', 'tip']].plot(kind='kde')


tips.plot.scatter(x = 'total_bill', y = 'tip')


tips['sex'].value_counts().plot(kind='bar')


tips['total_bill'].plot.hist()


tips[['total_bill', 'tip']].plot(x = 'total_bill', y = 'tip',kind='scatter')


import pandas as pd

ebola = pd.read_csv('data/pandas/country_timeseries.csv', 
                    parse_dates = ['Date'])
ebola.tail()


# 시계열 그래프 > x축 날짜, 시간  , y축 변화량
ebola[['Date', 'Cases_Guinea']].head()


# plt.figure(figsize=(8,4))
plt.plot(ebola['Date'], ebola['Cases_Guinea'])


ebola_fill = ebola.fillna(method='bfill').fillna(0)


plt.plot(ebola_fill['Date'], ebola_fill['Cases_Guinea'])


sns.lineplot(data = ebola, x = 'Date', y = 'Cases_Guinea')
# plt.xticks(ticks=['2014-03-22', '2015-01-02'], labels = ['201403', '201501'])
plt.xticks(rotation = 45)
plt.show()


ebola_fill['Cases_Guinea'].diff()


ebola_fill.sort_values('Date')['Cases_Guinea'].diff()


ebola_fill['Guinea'] = ebola_fill.sort_values('Date')['Cases_Guinea'].diff()


ebola_fill.head()


sns.lineplot(data = ebola_fill, x = 'Date', y = 'Guinea')
plt.xticks(rotation = 45)
plt.show()


ebola_fill[ebola_fill['Date'].dt.month == 10]


ebola_fill.loc[31, 'Cases_Guinea'] = 1606


ebola_fill['Cases_Guinea'].shift(-1)


drinks = pd.read_csv('data/pandas/drinks.csv')
drinks.head()


for col in drinks.columns[1:4]:
    sns.barplot(data = drinks, x = 'continent', y = col)
    plt.savefig(f'drink/{col}.jpg')
    plt.show()



