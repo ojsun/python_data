import seaborn as sns
anscombe = sns.load_dataset('anscombe')
anscombe.head()


anscombe.shape  # 한집단에 11개의 데이터가 있다.


# 집단(dataset)별로 X랑 Y의 평균을 구하라.
anscombe.groupby('dataset').mean()


anscombe.groupby('dataset').std()


anscombe.plot()    #  X축 데이터 : anscombe's index
                   #  Y축 데이터 : anscombe's columns == 'x', 'y'


anscombe.groupby('dataset').plot(x = 'x', y = 'y', kind='scatter')


sns.scatterplot(data=anscombe, x='x', y='y', hue='dataset')


import seaborn as sns   # 데이터 제공 + 데이터분석에 도움되는 그래프(판다스 호환)
import matplotlib.pyplot as plt  # 그래프 + 그래프를 꾸미는거, 크기, 등등
# + 판다스 자체 그래프 그리는 함수
import plotly   # 3d 그래프에 강점
import folium   # 지도 그래프 강점
