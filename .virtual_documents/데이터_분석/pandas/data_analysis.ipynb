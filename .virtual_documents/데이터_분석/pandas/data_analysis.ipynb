import numpy as np
import pandas as pd
import seaborn as sns
import matplotlib.pyplot as plt
from scipy import stats
import warnings

warnings.filterwarnings('ignore')
sns.set_palette('Paired')

plt.rcParams["figure.figsize"] = (6,3)
plt.rcParams['font.size'] = 12

from matplotlib import font_manager, rc
font = 'C:/Windows/Fonts/malgun.ttf'
font_name = font_manager.FontProperties(fname=font).get_name()
rc('font', family=font_name)

