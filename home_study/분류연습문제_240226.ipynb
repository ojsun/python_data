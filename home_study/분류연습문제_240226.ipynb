{
 "cells": [
  {
   "cell_type": "markdown",
   "id": "31e91fc5-20fc-4957-b8b7-dfdb9b5f20e7",
   "metadata": {},
   "source": [
    "### 분류 연습문제-책"
   ]
  },
  {
   "cell_type": "markdown",
   "id": "af024a60-bd7f-4738-ab6e-28ff52e9005a",
   "metadata": {},
   "source": [
    "#### 실습1) 캐글 산탄데르 고객만족 예측"
   ]
  },
  {
   "cell_type": "code",
   "execution_count": null,
   "id": "2a6b57f6-8566-4e6d-9aba-2c7dd5422c8e",
   "metadata": {
    "tags": []
   },
   "outputs": [],
   "source": [
    "import matplotlib.pyplot as plt\n",
    "import seaborn as sns\n",
    "import pandas as pd\n",
    "import numpy as np\n",
    "import warnings\n",
    "warnings.filterwarnings('ignore')"
   ]
  },
  {
   "cell_type": "code",
   "execution_count": null,
   "id": "705448d6-ea15-46de-adeb-f79cd1ea99fd",
   "metadata": {},
   "outputs": [],
   "source": [
    "cust_df=pd.read_csv('data/cust_train.csv')\n",
    "cust_df.shape"
   ]
  },
  {
   "cell_type": "code",
   "execution_count": null,
   "id": "1f25190f-8dee-47a3-afce-1c639abf83b7",
   "metadata": {},
   "outputs": [],
   "source": [
    "cust_df.info()"
   ]
  },
  {
   "cell_type": "code",
   "execution_count": null,
   "id": "a24b4b34-800d-434d-9292-44eed4a6d1f6",
   "metadata": {},
   "outputs": [],
   "source": [
    "cust_df['TARGET'].value_counts()"
   ]
  },
  {
   "cell_type": "code",
   "execution_count": null,
   "id": "01099469-c842-4aa6-ba0f-e0598fe71723",
   "metadata": {},
   "outputs": [],
   "source": [
    "cust_df.describe()"
   ]
  },
  {
   "cell_type": "code",
   "execution_count": null,
   "id": "8f525f9a-ca4f-4244-8a4d-e6ed5b82d885",
   "metadata": {},
   "outputs": [],
   "source": [
    "cust_df.var3.value_counts()"
   ]
  },
  {
   "cell_type": "code",
   "execution_count": null,
   "id": "4139fa43-69cd-459b-b114-eef9947d3114",
   "metadata": {},
   "outputs": [],
   "source": [
    "cust_df.drop(['ID'], axis=1, inplace=True)\n",
    "cust_df.var3.replace(-999999, 2, inplace=True)"
   ]
  },
  {
   "cell_type": "code",
   "execution_count": null,
   "id": "d3c7da78-0a50-48f4-a9d4-3a2d3edf0102",
   "metadata": {},
   "outputs": [],
   "source": [
    "from sklearn.model_selection import train_test_split\n",
    "X_features= cust_df.iloc[:,:-1]\n",
    "y_target=cust_df.iloc[:,-1]\n",
    "\n",
    "X_train, X_test, y_train, y_test = train_test_split(X_features, y_target, \n",
    "                    test_size=0.2 , random_state= 0)\n",
    "\n",
    "# XGBoost모델으 위해 학습과 검증 데이터세트로 분리\n",
    "X_tr, X_val, y_tr, y_val = train_test_split(X_train, y_train, \n",
    "                    test_size=0.3 , random_state= 0)"
   ]
  },
  {
   "cell_type": "code",
   "execution_count": null,
   "id": "575be8a0-db47-43bf-92fc-6573f0921ebf",
   "metadata": {},
   "outputs": [],
   "source": [
    "from xgboost import XGBClassifier\n",
    "from sklearn.metrics import roc_auc_score\n",
    "\n",
    "xgb_clf=XGBClassifier(n_estimators=500, learning_rate=0.05, random_state=156)\n",
    "xgb_clf.fit(X_tr, y_tr, early_stopping_rounds=100, eval_metric=\"auc\", eval_set=[(X_tr, y_tr), (X_val,y_val)])\n",
    "\n",
    "xgb_clf_score=roc_auc_score(y_test, xgb_clf.predict_proba(X_test)[:,1])\n",
    "print(f'ROC AUC:  {xgb_clf_score:.3f}')"
   ]
  },
  {
   "cell_type": "code",
   "execution_count": null,
   "id": "303649e4-fecf-4598-9eec-17cef0333063",
   "metadata": {
    "tags": []
   },
   "outputs": [],
   "source": [
    "X"
   ]
  },
  {
   "cell_type": "code",
   "execution_count": null,
   "id": "a87e6e1f-853c-49ca-8c13-5eff29a95684",
   "metadata": {},
   "outputs": [],
   "source": []
  },
  {
   "cell_type": "code",
   "execution_count": null,
   "id": "ab6dbd06-1ef6-4b6e-ac44-4c44e0f8f8bc",
   "metadata": {},
   "outputs": [],
   "source": []
  },
  {
   "cell_type": "code",
   "execution_count": null,
   "id": "afc983a2-ad9d-4194-9960-dc7d8496c269",
   "metadata": {},
   "outputs": [],
   "source": []
  },
  {
   "cell_type": "code",
   "execution_count": null,
   "id": "96e2bf31-6097-45bd-a1f6-cc988f83afed",
   "metadata": {},
   "outputs": [],
   "source": []
  },
  {
   "cell_type": "code",
   "execution_count": null,
   "id": "88178f78-5888-4ba4-b378-ec05bc55e61d",
   "metadata": {},
   "outputs": [],
   "source": []
  },
  {
   "cell_type": "code",
   "execution_count": null,
   "id": "13412fcb-9c99-42c4-a548-05324c162382",
   "metadata": {},
   "outputs": [],
   "source": []
  }
 ],
 "metadata": {
  "kernelspec": {
   "display_name": "Python 3 (ipykernel)",
   "language": "python",
   "name": "python3"
  },
  "language_info": {
   "codemirror_mode": {
    "name": "ipython",
    "version": 3
   },
   "file_extension": ".py",
   "mimetype": "text/x-python",
   "name": "python",
   "nbconvert_exporter": "python",
   "pygments_lexer": "ipython3",
   "version": "3.11.5"
  }
 },
 "nbformat": 4,
 "nbformat_minor": 5
}
