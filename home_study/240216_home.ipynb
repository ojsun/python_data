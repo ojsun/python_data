{
 "cells": [
  {
   "cell_type": "markdown",
   "id": "73436abb-1739-486f-a211-374ec4c703ff",
   "metadata": {},
   "source": [
    "#### 타이타닉 생존자 예측"
   ]
  },
  {
   "cell_type": "code",
   "execution_count": null,
   "id": "90296956-0426-4dca-a483-5fab1277b298",
   "metadata": {
    "tags": []
   },
   "outputs": [],
   "source": [
    "import numpy as np\n",
    "import pandas as pd\n",
    "import matplotlib.pyplot as plt\n",
    "import seaborn as sns\n",
    "%matplotlib inline\n",
    "\n",
    "plt.rcParams['figure.figsize']=(4,3) "
   ]
  },
  {
   "cell_type": "code",
   "execution_count": null,
   "id": "12c89f78-c555-45aa-ba4b-52f61b988225",
   "metadata": {
    "tags": []
   },
   "outputs": [],
   "source": [
    "titanic_df= pd.read_csv('data/train.csv')\n",
    "titanic_df.info()"
   ]
  },
  {
   "cell_type": "code",
   "execution_count": null,
   "id": "c44a817b-1bec-4450-ab4d-0d6c995e1c79",
   "metadata": {
    "tags": []
   },
   "outputs": [],
   "source": [
    "# NaN 처리\n",
    "titanic_df['Age'].fillna(titanic_df.Age.mean(), inplace=True)\n",
    "titanic_df['Cabin'].fillna('N', inplace=True)\n",
    "titanic_df['Embarked'].fillna('N', inplace=True)\n",
    "print('NaN값: ',titanic_df.isnull().sum().sum())"
   ]
  },
  {
   "cell_type": "code",
   "execution_count": null,
   "id": "ac337501-0adc-43f8-b148-348d433343c0",
   "metadata": {
    "tags": []
   },
   "outputs": [],
   "source": [
    "# 문자열 peatuer 처리\n",
    "print('Sex 값 분포', titanic_df.Sex.value_counts())\n",
    "print('\\n Cabin 값 분포', titanic_df['Cabin'].value_counts())\n",
    "print('\\n Embarked 값 분포', titanic_df.Embarked.value_counts())"
   ]
  },
  {
   "cell_type": "code",
   "execution_count": null,
   "id": "bc2eeadd-3ce7-452d-b547-d791e573005b",
   "metadata": {
    "tags": []
   },
   "outputs": [],
   "source": [
    "titanic_df['Cabin']=titanic_df['Cabin'].str[:1]\n",
    "print(titanic_df['Cabin'].value_counts())"
   ]
  },
  {
   "cell_type": "code",
   "execution_count": null,
   "id": "08fe1321-d662-4f69-872a-636fb8fe359a",
   "metadata": {},
   "outputs": [],
   "source": [
    "titanic_df.groupby(['Sex','Survived'])['Survived'].size()"
   ]
  },
  {
   "cell_type": "code",
   "execution_count": null,
   "id": "f7b1221d-f67f-43f4-8d6f-1bd578bdb890",
   "metadata": {},
   "outputs": [],
   "source": [
    "sns.barplot(x='Sex', y='Survived', data=titanic_df)"
   ]
  },
  {
   "cell_type": "code",
   "execution_count": null,
   "id": "fd5b23b5-cc53-4f96-9333-8dd9aad44deb",
   "metadata": {},
   "outputs": [],
   "source": [
    "sns.barplot(x='Pclass', y='Survived', data=titanic_df, hue='Sex')"
   ]
  },
  {
   "cell_type": "code",
   "execution_count": null,
   "id": "acb2038a-b0f4-4a9e-9588-404e27049380",
   "metadata": {},
   "outputs": [],
   "source": [
    "# Age에 따른 생존\n",
    "def get_category(age):\n",
    "    cat=''\n",
    "    if age <= -1: cat='Unkown'\n",
    "    elif age <=5: cat='Baby'\n",
    "    elif age <=12: cat='Child'\n",
    "    elif age <=18: cat='Teenager'\n",
    "    elif age <=25: cat='Student'\n",
    "    elif age <=35: cat='Young Adult'\n",
    "    elif age <=60: cat='Adult'\n",
    "    else : cat='Eldery'\n",
    "    return cat\n",
    "\n",
    "plt.figure(figsize=(10,6))\n",
    "group_names=['Unkown','Baby','Child','Teenager','Student','Young Adult','Adult','Eldery']\n",
    "titanic_df['Age_cat']=titanic_df['Age'].apply(lambda x:get_category(x))\n",
    "sns.barplot(x='Age_cat',y='Survived',data=titanic_df, hue='Sex', order=group_names)\n",
    "    "
   ]
  },
  {
   "cell_type": "code",
   "execution_count": null,
   "id": "22bdfd00-a4b7-44f4-b5f6-e81c4fe3085e",
   "metadata": {},
   "outputs": [],
   "source": [
    "titanic_df.head()"
   ]
  },
  {
   "cell_type": "code",
   "execution_count": null,
   "id": "91be2020-ea03-460f-bad7-552b90e5e7e1",
   "metadata": {},
   "outputs": [],
   "source": [
    "# 문자열 피처를  숫자형으로 변환\n",
    "from sklearn.preprocessing import LabelEncoder\n",
    "\n",
    "def encode_features(dataDF):\n",
    "    features=['Cabin','Sex','Embarked']\n",
    "    for feature in features:\n",
    "        le=LabelEncoder()\n",
    "        le=le.fit(dataDF[feature])\n",
    "        dataDF[feature]=le.transform(dataDF[feature])\n",
    "    return dataDF\n",
    "\n",
    "titanic_df=encode_features(titanic_df)\n",
    "titanic_df.head()"
   ]
  },
  {
   "cell_type": "code",
   "execution_count": null,
   "id": "c2230391-834b-40cd-9d76-e106d051bb37",
   "metadata": {},
   "outputs": [],
   "source": [
    "## 전처리 과정 함수화"
   ]
  },
  {
   "cell_type": "code",
   "execution_count": null,
   "id": "f3816db9-bc32-4980-bf0d-5282dd7d0223",
   "metadata": {},
   "outputs": [],
   "source": [
    "# null값 정리\n",
    "def fillna(df):\n",
    "    df['Age'].fillna(df['Age'].mean(), inplace=True)\n",
    "    df['Cabin'].fillna('N', inplace=True)\n",
    "    df['Embarked'].fillna('N', inplace=True)\n",
    "    df['Fare'].fillna(0, inplace=True)    \n",
    "    return df"
   ]
  },
  {
   "cell_type": "code",
   "execution_count": null,
   "id": "a09d9a1f-b414-4dff-89f4-a81d4602a9f9",
   "metadata": {},
   "outputs": [],
   "source": [
    "# 알고리즘에 불필요한 피처 제거\n",
    "def drop_features(df):\n",
    "    df.drop(['PassengerId','Name','Ticket'], axis=1,inplace=True)\n",
    "    return df"
   ]
  },
  {
   "cell_type": "code",
   "execution_count": null,
   "id": "bc3d84f0-b1d6-4bfb-b7b5-9a32f7073171",
   "metadata": {},
   "outputs": [],
   "source": [
    "#레이블 인코딩 \n",
    "def format_features(df):\n",
    "    df['Cabin']=df['Cabin'].str[:1]\n",
    "    features=['Cabin','Sex','Embarked']\n",
    "    for feature in features:\n",
    "        le=LabelEncoder()\n",
    "        le=le.fit(df[feature])\n",
    "        df[feature]=le.transform(df[feature])\n",
    "    return df"
   ]
  },
  {
   "cell_type": "code",
   "execution_count": null,
   "id": "f08141d8-af96-4676-8b02-2a3af25ad3fa",
   "metadata": {},
   "outputs": [],
   "source": [
    "## 전처리 함수 호출\n",
    "def transform_features(df):\n",
    "    df=fillna(df)\n",
    "    df=drop_features(df)\n",
    "    df=format_features(df)\n",
    "    return df"
   ]
  },
  {
   "cell_type": "code",
   "execution_count": null,
   "id": "381413eb-0b15-4324-9944-a1a402e4163e",
   "metadata": {},
   "outputs": [],
   "source": [
    "# Survived 분리해서 결정값(종속변수) 데이트세트 만들기/ 드롭하여 피처(독립변수) 데이터셋트 만들기\n",
    "\n",
    "titanic_df=pd.read_csv('./data/train.csv')\n",
    "y_titanic_df=titanic_df['Survived']\n",
    "X_titanic_df=titanic_df.drop('Survived', axis=1)"
   ]
  },
  {
   "cell_type": "code",
   "execution_count": null,
   "id": "b94026c1-88c3-491b-8621-f88849b47f4d",
   "metadata": {
    "tags": []
   },
   "outputs": [],
   "source": [
    "X_titanic_df=transform_features(X_titanic_df)\n",
    "X_titanic_df"
   ]
  },
  {
   "cell_type": "code",
   "execution_count": null,
   "id": "22b268ac-8234-4c60-80e3-46850b5beb04",
   "metadata": {
    "tags": []
   },
   "outputs": [],
   "source": [
    "X_titanic_df['Age'].unique()"
   ]
  },
  {
   "cell_type": "code",
   "execution_count": null,
   "id": "bdbf1569-200d-47b2-b14f-2081f7ce67d4",
   "metadata": {
    "tags": []
   },
   "outputs": [],
   "source": [
    "### train, test 데이터세트 분리\n",
    "from sklearn.model_selection import train_test_split\n",
    "X_train,X_test,y_train,y_test= train_test_split(X_titanic_df, y_titanic_df, test_size=0.2,random_state=11)"
   ]
  },
  {
   "cell_type": "code",
   "execution_count": null,
   "id": "cb8fa3e3-b261-4b9f-991d-672ca90ea82d",
   "metadata": {
    "tags": []
   },
   "outputs": [],
   "source": [
    "### ML 알고니즘 \n",
    "from sklearn.tree import DecisionTreeClassifier\n",
    "from sklearn.ensemble import RandomForestClassifier\n",
    "from sklearn.linear_model import LogisticRegression\n",
    "from sklearn.metrics import accuracy_score"
   ]
  },
  {
   "cell_type": "code",
   "execution_count": null,
   "id": "bda65876-8e4c-4309-ab82-4989477396a7",
   "metadata": {
    "tags": []
   },
   "outputs": [],
   "source": [
    "dt_clf=DecisionTreeClassifier(random_state=11)\n",
    "rf_clf=RandomForestClassifier(random_state=11)\n",
    "lr_clf=LogisticRegression(solver='liblinear')"
   ]
  },
  {
   "cell_type": "code",
   "execution_count": null,
   "id": "b0c342d2-69db-466f-b970-90bd6c389d69",
   "metadata": {
    "tags": []
   },
   "outputs": [],
   "source": [
    "#DecisionTreeClassifier 학습,예측,평가\n",
    "dt_clf.fit(X_train,y_train)\n",
    "dt_pred=dt_clf.predict(X_test)\n",
    "print('DecisionTreeClassifier 정확도: {0:.4f}'.format(accuracy_score(y_test,dt_pred)))"
   ]
  },
  {
   "cell_type": "code",
   "execution_count": null,
   "id": "36446e0e-0896-4710-9427-6fcee3577d29",
   "metadata": {
    "tags": []
   },
   "outputs": [],
   "source": [
    "#RandomForestClassifier 학습,예측,평가\n",
    "rf_clf.fit(X_train,y_train)\n",
    "rf_pred=rf_clf.predict(X_test)\n",
    "print('RandomForestClassifier 정확도: {0:.4f}'.format(accuracy_score(y_test,rf_pred)))"
   ]
  },
  {
   "cell_type": "code",
   "execution_count": null,
   "id": "3d9751d2-bcdc-497f-9639-16c9852f2bfc",
   "metadata": {
    "tags": []
   },
   "outputs": [],
   "source": [
    "#LogisticRegression 학습,예측,평가\n",
    "lr_clf.fit(X_train,y_train)\n",
    "lr_pred=lr_clf.predict(X_test)\n",
    "print('LogisticRegressionr 정확도: {0:.4f}'.format(accuracy_score(y_test,lr_pred)))"
   ]
  },
  {
   "cell_type": "code",
   "execution_count": null,
   "id": "fc5b0a58-f2ae-4caa-82b4-0afa30fc9eae",
   "metadata": {
    "tags": []
   },
   "outputs": [],
   "source": [
    "### 교차검증\n",
    "# KFold\n",
    "from sklearn.model_selection import KFold\n",
    "def exec_kfold(clf, folds=5):\n",
    "    kfold=KFold(n_splits=folds)\n",
    "    scores=[]\n",
    "    \n",
    "    for iter_count, (train_index, test_index) in enumerate(kfold.split(X_titanic_df)):\n",
    "        X_train,X_test=X_titanic_df.values[train_index], X_titanic_df.values[test_index]\n",
    "        y_train,y_test=y_titanic_df.values[train_index], y_titanic_df.values[test_index]\n",
    "        clf.fit(X_train,y_train)\n",
    "        predictions=clf.predict(X_test)\n",
    "        accuracy=accuracy_score(y_test, predictions)\n",
    "        scores.append(accuracy)\n",
    "        print(iter_count,accuracy)\n",
    "    mean_score=np.mean(scores)\n",
    "    print(mean_score)\n",
    "exec_kfold(dt_clf, folds=5)\n",
    "        "
   ]
  },
  {
   "cell_type": "code",
   "execution_count": null,
   "id": "fa54d97b-ebae-47ae-842a-6accbe7951ec",
   "metadata": {
    "tags": []
   },
   "outputs": [],
   "source": [
    "# cross_val_score\n",
    "from sklearn.model_selection import cross_val_score\n",
    "scores= cross_val_score(dt_clf, X_titanic_df, y_titanic_df,cv=5)\n",
    "for iter_count, accuracy in enumerate(scores, start=1):\n",
    "    print(\"교차검증 cross_val_score 결과: {}회, 정확도: {:.4f}\".format(iter_count, accuracy))\n",
    "print('평균정확도 결과: {:.4f}'.format(np.mean(scores)))"
   ]
  },
  {
   "cell_type": "code",
   "execution_count": null,
   "id": "1fe53c7e-2c2f-43b8-b220-93943e9b04aa",
   "metadata": {},
   "outputs": [],
   "source": [
    "scores"
   ]
  },
  {
   "cell_type": "code",
   "execution_count": null,
   "id": "06be8f67-d42f-4ea7-bee8-c9a57fefd2af",
   "metadata": {},
   "outputs": [],
   "source": [
    "# GridSearchCV 최적 하이퍼 파라미터\n",
    "from sklearn.model_selection import GridSearchCV\n",
    "parameters={'max_depth':[2,3,5,10], 'min_samples_split':[2,3,5], 'min_samples_leaf':[1,5,8]}\n",
    "grid_dclf=GridSearchCV(dt_clf,param_grid=parameters, scoring='accuracy', cv=5)\n",
    "grid_dclf.fit(X_train, y_train)\n",
    "\n",
    "print('최적의파라미터: ', grid_dclf.best_params_)\n",
    "print('최고 정확도: {:.4f}'.format(grid_dclf.best_score_))\n",
    "best_dclf=grid_dclf.best_estimator_\n",
    "\n",
    "dpredictions=best_dclf.predict(X_test)\n",
    "accuracy=accuracy_score(y_test, dpredictions)\n",
    "print('테스트 세트에서의 DecisionTreeClassifier 정확도: {:.4f}'.format(accuracy))"
   ]
  },
  {
   "cell_type": "code",
   "execution_count": null,
   "id": "40a6f9e6-29ac-430a-9a86-556a51215e94",
   "metadata": {},
   "outputs": [],
   "source": []
  },
  {
   "cell_type": "code",
   "execution_count": null,
   "id": "3b00b5f4-1bf3-4b34-b238-38b18427dd54",
   "metadata": {},
   "outputs": [],
   "source": []
  },
  {
   "cell_type": "code",
   "execution_count": null,
   "id": "e0238dee-c9ec-49bc-a78d-b2ef23609e7a",
   "metadata": {},
   "outputs": [],
   "source": []
  }
 ],
 "metadata": {
  "kernelspec": {
   "display_name": "Python 3 (ipykernel)",
   "language": "python",
   "name": "python3"
  },
  "language_info": {
   "codemirror_mode": {
    "name": "ipython",
    "version": 3
   },
   "file_extension": ".py",
   "mimetype": "text/x-python",
   "name": "python",
   "nbconvert_exporter": "python",
   "pygments_lexer": "ipython3",
   "version": "3.11.5"
  }
 },
 "nbformat": 4,
 "nbformat_minor": 5
}
