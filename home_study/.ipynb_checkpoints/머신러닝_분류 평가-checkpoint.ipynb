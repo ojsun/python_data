{
 "cells": [
  {
   "cell_type": "markdown",
   "id": "27c0a6f6-193f-4f02-80c0-29ff863cf906",
   "metadata": {},
   "source": [
    "### 머신러닝 분류 평가"
   ]
  },
  {
   "cell_type": "code",
   "execution_count": null,
   "id": "1eb07bef-c626-4cde-83b4-03d57464ba8b",
   "metadata": {
    "tags": []
   },
   "outputs": [],
   "source": [
    "import numpy as np\n",
    "import pandas as pd\n",
    "from sklearn.model_selection import train_test_split\n",
    "from sklearn.metrics import accuracy_score"
   ]
  },
  {
   "cell_type": "code",
   "execution_count": 20,
   "id": "d01f3fd8-90d4-4059-932d-96ccc83ca87e",
   "metadata": {
    "tags": []
   },
   "outputs": [],
   "source": [
    "from sklearn.base import BaseEstimator\n",
    "import warnings\n",
    "warnings.filterwarnings('ignore')"
   ]
  },
  {
   "cell_type": "code",
   "execution_count": null,
   "id": "18043b7e-18a2-4ddb-a652-8ef2f7d236fb",
   "metadata": {
    "tags": []
   },
   "outputs": [],
   "source": [
    "# 예측 평가의 정확도지표의 문제점 파악하기 위한 실습\n",
    "\n",
    "class MyClassifier(BaseEstimator):\n",
    "    def fit(self, X, y=None):\n",
    "        pass\n",
    "    def predict(self, X):\n",
    "        pred =np.zeros((X.shape[0],1))\n",
    "        for i in range(X.shape[0]):\n",
    "            if X['Sex'].iloc[i]=='male':\n",
    "                pred[i]=0\n",
    "            else:\n",
    "                pred[i]=1\n",
    "        return pred\n",
    "\n",
    "## 모델을 만들때 1. fit메서드가 존재해야 함\n",
    "## 2.check_is_fitted 함수가 안에 있어야 함"
   ]
  },
  {
   "cell_type": "code",
   "execution_count": null,
   "id": "0efdff30-a335-4330-a739-fd1525919bce",
   "metadata": {},
   "outputs": [],
   "source": [
    "X_titanic_df=pd.read_csv('data/titanic_X.csv')\n",
    "y_titanic_df=pd.read_csv('data/titanic_y.csv')\n",
    "                         \n",
    "X_train, X_test, y_train, y_test=train_test_split(X_titanic_df, y_titanic_df, test_size=0.2, random_state=0)\n",
    "myclf=MyClassifier()\n",
    "myclf.fit(X_train,y_train)\n",
    "mypred=myclf.predict(X_test)\n",
    "\n",
    "print(accuracy_score(y_test,mypred))"
   ]
  },
  {
   "cell_type": "code",
   "execution_count": null,
   "id": "033be8cf-d573-4ec2-82a5-adff8e5b0b3f",
   "metadata": {
    "tags": []
   },
   "outputs": [],
   "source": [
    "class MyFake(BaseEstimator):\n",
    "    def fit(self, X, y):\n",
    "        pass\n",
    "    def predict(self,X):\n",
    "        return np.zeros( (len(X), 1))\n",
    "\n",
    "from sklearn.datasets import load_digits\n",
    "digits= load_digits()\n",
    "print(digits.data)\n",
    "print(digits.target)"
   ]
  },
  {
   "cell_type": "code",
   "execution_count": null,
   "id": "b7e60fd6-d0e3-4e2d-b844-5581c2059f52",
   "metadata": {
    "tags": []
   },
   "outputs": [],
   "source": [
    "y = (digits.target == 7).astype(int)\n",
    "X_train, X_test, y_train, y_test=train_test_split(digits.data, y, random_state=11)"
   ]
  },
  {
   "cell_type": "code",
   "execution_count": null,
   "id": "2278604d-62df-4e07-b281-aeb9add13342",
   "metadata": {
    "tags": []
   },
   "outputs": [],
   "source": [
    "print(y_test.shape)\n",
    "print(pd.Series(y_test).value_counts())  # 판다스 시리즈 만들기"
   ]
  },
  {
   "cell_type": "code",
   "execution_count": null,
   "id": "d78419e8-3700-49bc-9a86-bd56ebe0cd39",
   "metadata": {
    "tags": []
   },
   "outputs": [],
   "source": [
    "fakeclf=MyFake()\n",
    "fakeclf.fit(X_train, y_train)\n",
    "fakepred=fakeclf.predict(X_test)\n",
    "print(f'정확도: {accuracy_score(y_test, fakepred):.3f}')"
   ]
  },
  {
   "cell_type": "code",
   "execution_count": null,
   "id": "f8bd9717-949c-434c-8832-65bf24a4fd9a",
   "metadata": {
    "tags": []
   },
   "outputs": [],
   "source": [
    "# 오차행렬 confusion\n",
    "from sklearn.metrics import confusion_matrix\n",
    "\n",
    "confusion_matrix(y_test, fakepred)"
   ]
  },
  {
   "cell_type": "code",
   "execution_count": null,
   "id": "f1fa5c79-8d4b-435a-8a5f-406fb635760f",
   "metadata": {
    "tags": []
   },
   "outputs": [],
   "source": [
    "# recall 재현율, precision 정밀도\n",
    "from sklearn.metrics import recall_score, precision_score\n",
    "\n",
    "def get_clf_eval(y_test, pred):\n",
    "    confusion=confusion_matrix(y_test,pred)\n",
    "    accuracy=accuracy_score(y_test,pred)\n",
    "    precision=precision_score(y_test,pred)    # 정밀도\n",
    "    recall=recall_score(y_test,pred)          # 재현율\n",
    "    print('오차행렬: ', confusion)\n",
    "    print(f'정확도: {accuracy:.3f}, 정밀도: {precision:.3f}, 재현률: {recall:.3f}')"
   ]
  },
  {
   "cell_type": "code",
   "execution_count": null,
   "id": "8ec0b797-5ae4-40c5-b4c9-511cb85b9407",
   "metadata": {
    "tags": []
   },
   "outputs": [],
   "source": [
    "get_clf_eval(y_test,fakepred)"
   ]
  },
  {
   "cell_type": "code",
   "execution_count": null,
   "id": "362dc24b-d933-47a8-8b0e-f416b91c0876",
   "metadata": {},
   "outputs": [],
   "source": []
  },
  {
   "cell_type": "code",
   "execution_count": 18,
   "id": "867dfece-d9d4-4a71-a28c-279b3652a0f9",
   "metadata": {
    "tags": []
   },
   "outputs": [],
   "source": [
    "X_titanic_df = pd.read_csv('data/titanic_X.csv')\n",
    "y_titanic_df = pd.read_csv('data/titanic_y.csv')\n",
    "X_train, X_test, y_train, y_test = train_test_split(X_titanic_df, y_titanic_df, \n",
    "test_size = 0.2, random_state = 0)"
   ]
  },
  {
   "cell_type": "code",
   "execution_count": 21,
   "id": "aa3aad26-3f85-469f-87c5-ae54dbc0638f",
   "metadata": {
    "tags": []
   },
   "outputs": [
    {
     "name": "stdout",
     "output_type": "stream",
     "text": [
      "오차행렬:  [[92 18]\n",
      " [20 49]]\n",
      "정확도: 0.788, 정밀도: 0.731, 재현률: 0.710\n"
     ]
    }
   ],
   "source": [
    "from sklearn.linear_model import LogisticRegression\n",
    "lr_clf = LogisticRegression(solver='liblinear')\n",
    "lr_clf.fit(X_train , y_train)\n",
    "pred = lr_clf.predict(X_test)\n",
    "get_clf_eval(y_test , pred)"
   ]
  },
  {
   "cell_type": "code",
   "execution_count": null,
   "id": "442b834f-0805-4b4e-a114-7146c1f09cf3",
   "metadata": {},
   "outputs": [],
   "source": []
  },
  {
   "cell_type": "code",
   "execution_count": 23,
   "id": "240a519f-a652-4403-b37d-7fafe4e6956f",
   "metadata": {
    "tags": []
   },
   "outputs": [
    {
     "name": "stdout",
     "output_type": "stream",
     "text": [
      "predict_proba 결과 shape:  (179, 2)\n",
      "predict 결과 10개만:  [0 0 0 1 1 0 1 1 0 1]\n",
      "두개의 class 중에서 더 큰 확률을 클래스 값으로 예측 \n",
      " [[0.85016752 0.14983248 0.        ]\n",
      " [0.87512771 0.12487229 0.        ]\n",
      " [0.9254905  0.0745095  0.        ]]\n"
     ]
    }
   ],
   "source": [
    "## 재현율, 정밀도를 높이는 방법-트레이드 오프\n",
    "# pred_proba 예측확률\n",
    "\n",
    "pred_proba=lr_clf.predict_proba(X_test)\n",
    "pred=lr_clf.predict(X_test)\n",
    "print('predict_proba 결과 shape: ', pred_proba.shape)\n",
    "print('predict 결과 10개만: ', pred[:10])\n",
    "pred_proba_result = np.concatenate([pred_proba, pred.reshape(-1,1)],axis=1)\n",
    "print('두개의 class 중에서 더 큰 확률을 클래스 값으로 예측 \\n', pred_proba_result[:3])"
   ]
  },
  {
   "cell_type": "code",
   "execution_count": null,
   "id": "2e3b7ca5-1707-411d-b540-4a5e52f73370",
   "metadata": {
    "tags": []
   },
   "outputs": [],
   "source": [
    "pred_proba_result=np.concatenate([pred_proba, pred.reshape(-1,1)],axis=1)\n",
    "print(pred_proba_result)"
   ]
  },
  {
   "cell_type": "code",
   "execution_count": null,
   "id": "d0325a20-fd6d-4feb-91a4-c653271b309d",
   "metadata": {
    "tags": []
   },
   "outputs": [],
   "source": [
    "# 임곗값 조정하기: 값을 변환해주는 모델\n",
    "\n",
    "from sklearn.preprocessing import Binarizer\n",
    "X = [[ 1, -1, 2],\n",
    "[ 2, 0, 0],\n",
    "[ 0, 1.1, 1.2]]\n",
    "binarizer = Binarizer(threshold= 1.1)  # 크야만 1, 작거나 같으면 0\n",
    "print(binarizer.fit_transform(X))"
   ]
  },
  {
   "cell_type": "code",
   "execution_count": null,
   "id": "b77282d3-5bd3-4153-a419-c069e624f258",
   "metadata": {},
   "outputs": [],
   "source": [
    "custom_threshold = 0.4\n",
    "pred_proba_1 = pred_proba[:,1].reshape(-1,1)\n",
    "binarizer = Binarizer(threshold = custom_threshold ).fit(pred_proba_1) \n",
    "custom_predict = binarizer.transform(pred_proba_1)\n",
    "get_clf_eval(y_test, custom_predict)"
   ]
  },
  {
   "cell_type": "code",
   "execution_count": null,
   "id": "f91c71c0-3293-44cd-8dd1-d318218e10c3",
   "metadata": {},
   "outputs": [],
   "source": [
    "# 여러개의 임곗값 조절\n",
    "thresholds = [0.4, 0.45, 0.50, 0.55, 0.60]\n",
    "def get_eval_by_threshold(y_test ,pred_proba_c1,thresholds):\n",
    "    for custom_threshold in thresholds:\n",
    "        binarizer = Binarizer(threshold = custom_threshold).fit(pred_proba_c1) \n",
    "        custom_predict = binarizer.transform(pred_proba_c1)\n",
    "        print('임곗값:',custom_threshold)\n",
    "    get_clf_eval(y_test , custom_predict)\n",
    "get_eval_by_threshold(y_test ,pred_proba[:,1].reshape(-1,1), thresholds )"
   ]
  },
  {
   "cell_type": "code",
   "execution_count": null,
   "id": "b69afbe8-0bd9-483f-8261-bf4d7e47f351",
   "metadata": {},
   "outputs": [],
   "source": [
    "# precision_recall_curve\n",
    "from sklearn.metrics import precision_recall_curve\n",
    "pred_proba_class1 = lr_clf.predict_proba(X_test)[:, 1] \n",
    "precisions, recalls, thresholds = precision_recall_curve(y_test, pred_proba_class1 )\n",
    "print('반환된 분류 결정 임곗값 배열의 Shape:', thresholds.shape)\n",
    "print('반환된 precisions 배열의 Shape:', precisions.shape)\n",
    "print('반환된 recalls 배열의 Shape:', recalls.shape)\n",
    "print(\"thresholds 5 sample:\", thresholds[:5])\n",
    "print(\"precisions 5 sample:\", precisions[:5])\n",
    "print(\"recalls 5 sample:\", recalls[:5])"
   ]
  },
  {
   "cell_type": "code",
   "execution_count": null,
   "id": "2307a4e1-d7bb-4e1d-8743-9b07fae21c0b",
   "metadata": {},
   "outputs": [],
   "source": [
    "thr_index = np.arange(0, thresholds.shape[0], 15)\n",
    "print('샘플 추출을 위한 임계값 배열의 index 10개:', thr_index)\n",
    "print('샘플용 10개의 임곗값: ', np.round(thresholds[thr_index],2))\n",
    "print('샘플 임계값별 정밀도: ', np.round(precisions[thr_index], 3))\n",
    "print('샘플 임계값별 재현율: ', np.round(recalls[thr_index], 3))"
   ]
  },
  {
   "cell_type": "code",
   "execution_count": null,
   "id": "fb57efce-4559-4060-b038-ef605c412f54",
   "metadata": {},
   "outputs": [],
   "source": [
    "# precision_recall_curve를 이용한 정밀도 재현율 곡선\n",
    "import matplotlib.pyplot as plt\n",
    "import matplotlib.ticker as ticker\n",
    "def precision_recall_curve_plot(y_test , pred_proba_c1):\n",
    "    precisions, recalls, thresholds = precision_recall_curve(y_test, pred_proba_c1)\n",
    "    plt.figure(figsize=(8,6))\n",
    "    threshold_boundary = thresholds.shape[0]\n",
    "    plt.plot(thresholds, precisions[0:threshold_boundary], '--', label='precision')\n",
    "    plt.plot(thresholds, recalls[0:threshold_boundary], label='recall')\n",
    "    start, end = plt.xlim()\n",
    "    plt.xticks(np.round(np.arange(start, end, 0.1),2))\n",
    "    plt.xlabel('Threshold value')\n",
    "    plt.ylabel('Precision and Recall value')\n",
    "    plt.legend()\n",
    "    plt.grid()\n",
    "    plt.show()\n",
    "\n",
    "precision_recall_curve_plot(y_test, lr_clf.predict_proba(X_test)[:, 1] )"
   ]
  },
  {
   "cell_type": "code",
   "execution_count": null,
   "id": "ad3641c9-6b88-46c4-b618-769ac109a0c7",
   "metadata": {},
   "outputs": [],
   "source": [
    "# f1_score\n",
    "from sklearn.metrics import f1_score\n",
    "f1 = f1_score(y_test, pred)\n",
    "print(f'F1 스코어 : {f1:.4f}')"
   ]
  },
  {
   "cell_type": "code",
   "execution_count": null,
   "id": "965295ba-c651-4445-b471-589d37cfc78e",
   "metadata": {},
   "outputs": [],
   "source": [
    "# get_clf_eval에 F1 스코어 추가\n",
    "def get_clf_eval(y_test , pred):\n",
    "    confusion = confusion_matrix( y_test, pred)\n",
    "    accuracy = accuracy_score(y_test , pred)\n",
    "    precision = precision_score(y_test , pred)\n",
    "    recall = recall_score(y_test , pred)\n",
    "    f1 = f1_score(y_test,pred)\n",
    "    print('오차 행렬')\n",
    "    print(confusion)\n",
    "    print(f'정확도: {accuracy:.4f}, 정밀도: {precision:.4f}, 재현율: {recall:.4f}, F1:{f1:.4f}')"
   ]
  },
  {
   "cell_type": "code",
   "execution_count": null,
   "id": "e39a0bcc-b32b-45db-aa22-dbb45c0bf85f",
   "metadata": {},
   "outputs": [],
   "source": [
    "thresholds = [0.4 , 0.45 , 0.50 , 0.55 , 0.60]\n",
    "pred_proba = lr_clf.predict_proba(X_test)\n",
    "get_eval_by_threshold(y_test, pred_proba[:,1].reshape(-1,1), thresholds)"
   ]
  },
  {
   "cell_type": "code",
   "execution_count": null,
   "id": "6746cee9-7a6e-4bf6-9c52-770e0e093395",
   "metadata": {},
   "outputs": [],
   "source": [
    "#ROC curve\n",
    "from sklearn.metrics import roc_curve\n",
    "pred_proba_class1 = lr_clf.predict_proba(X_test)[:, 1] \n",
    "fprs , tprs , thresholds = roc_curve(y_test, pred_proba_class1)\n",
    "thr_index = np.arange(1, thresholds.shape[0], 5)\n",
    "print('샘플 추출을 위한 임곗값 배열의 index:', thr_index)\n",
    "print('샘플 index로 추출한 임곗값: ', np.round(thresholds[thr_index], 2))\n",
    "print('샘플 임곗값별 FPR: ', np.round(fprs[thr_index], 3))\n",
    "print('샘플 임곗값별 TPR: ', np.round(tprs[thr_index], 3))"
   ]
  },
  {
   "cell_type": "code",
   "execution_count": null,
   "id": "83c1f7f6-4225-4b33-9834-1101ed32ef36",
   "metadata": {},
   "outputs": [],
   "source": [
    "def roc_curve_plot(y_test , pred_proba_c1):\n",
    "    fprs , tprs , thresholds = roc_curve(y_test ,pred_proba_c1)\n",
    "    plt.plot(fprs , tprs, label='ROC')\n",
    "    plt.plot([0, 1], [0, 1], 'k--', label='Random') \n",
    "    start, end = plt.xlim()\n",
    "    plt.xticks(np.round(np.arange(start, end, 0.1),2))\n",
    "    plt.xlim(0,1); plt.ylim(0,1)\n",
    "    plt.xlabel('FPR( 1 - Sensitivity )')\n",
    "    plt.ylabel('TPR( Recall )')\n",
    "    plt.legend()\n",
    "    plt.show()"
   ]
  },
  {
   "cell_type": "code",
   "execution_count": null,
   "id": "31f01d79-8d8a-4ce4-ab25-7ad6049bffa7",
   "metadata": {},
   "outputs": [],
   "source": [
    "# roc_curve 그래프\n",
    "roc_curve_plot(y_test, lr_clf.predict_proba(X_test)[:, 1] )\n"
   ]
  },
  {
   "cell_type": "code",
   "execution_count": null,
   "id": "2c6e4820-1950-48e8-bf5a-94bfa5e28c56",
   "metadata": {},
   "outputs": [],
   "source": [
    "# roc_auc_score\n",
    "from sklearn.metrics import roc_auc_score\n",
    "pred_proba = lr_clf.predict_proba(X_test)[:, 1]\n",
    "roc_score = roc_auc_score(y_test, pred_proba)\n",
    "print(f'ROC AUC 값: {roc_score:.4f}')\n"
   ]
  },
  {
   "cell_type": "code",
   "execution_count": null,
   "id": "51894998-9f4b-4c5c-86c4-c1da924c4b9d",
   "metadata": {},
   "outputs": [],
   "source": [
    "# roc_auc 추가\n",
    "def get_clf_eval(y_test, pred=None, pred_proba=None):\n",
    "    confusion = confusion_matrix( y_test, pred)\n",
    "    accuracy = accuracy_score(y_test , pred)\n",
    "    precision = precision_score(y_test , pred)\n",
    "    recall = recall_score(y_test , pred)\n",
    "    f1 = f1_score(y_test,pred)\n",
    "    roc_auc = roc_auc_score(y_test, pred_proba)\n",
    "    print('오차 행렬')\n",
    "    print(confusion)\n",
    "    print(f'''정확도: {accuracy:.4f}, 정밀도: {precision:.4f}, 재현율: {recall:.4f}, \n",
    "    F1: {f1:.4f}, AUC:{roc_auc:.4f}''')"
   ]
  },
  {
   "cell_type": "code",
   "execution_count": null,
   "id": "327365bb-6a16-4427-baac-e56bccff9dce",
   "metadata": {},
   "outputs": [],
   "source": [
    "get_clf_eval(y_test, pred, pred_proba )"
   ]
  },
  {
   "cell_type": "code",
   "execution_count": null,
   "id": "2bff2d53-229b-4d53-be17-a44e23a10a90",
   "metadata": {},
   "outputs": [],
   "source": []
  },
  {
   "cell_type": "markdown",
   "id": "9d43af18-bd34-4cb9-9697-568370120ecf",
   "metadata": {},
   "source": [
    "#### 인디언 당뇨병 예측"
   ]
  },
  {
   "cell_type": "code",
   "execution_count": null,
   "id": "0fd11dea-076d-4a7e-a03d-0d4757f3cbde",
   "metadata": {
    "tags": []
   },
   "outputs": [],
   "source": [
    "import numpy as np\n",
    "import pandas as pd\n",
    "import matplotlib.pyplot as plt\n",
    "from sklearn.model_selection import train_test_split\n",
    "from sklearn.metrics import accuracy_score, precision_score, recall_score, roc_auc_score\n",
    "from sklearn.metrics import f1_score, confusion_matrix, precision_recall_curve, roc_curve\n",
    "from sklearn.preprocessing import StandardScaler\n",
    "from sklearn.linear_model import LogisticRegression"
   ]
  },
  {
   "cell_type": "code",
   "execution_count": null,
   "id": "6d7619a1-de5c-4647-8207-f1d89d118fa1",
   "metadata": {
    "tags": []
   },
   "outputs": [],
   "source": [
    "diabets_data=pd.read_csv('data/diabetes.csv')\n",
    "diabets_data['Outcome'].value_counts()"
   ]
  },
  {
   "cell_type": "code",
   "execution_count": null,
   "id": "79a0c0e5-5d13-438c-86d3-c42aee43abbf",
   "metadata": {
    "tags": []
   },
   "outputs": [],
   "source": [
    "diabets_data.info()"
   ]
  },
  {
   "cell_type": "code",
   "execution_count": null,
   "id": "afb0e5a2-0fdd-40b4-9e72-af8a830c7b6c",
   "metadata": {
    "tags": []
   },
   "outputs": [],
   "source": [
    "X=diabets_data.iloc[:,:-1]\n",
    "y=diabets_data.iloc[:,-1]\n",
    "\n",
    "X_train,X_test,y_train,y_test=train_test_split(X,y,test_size=0.2, random_state=156,stratify=y)\n",
    "\n",
    "lr_clf=LogisticRegression(solver='liblinear')\n",
    "lr_clf.fit(X_train,y_train)\n",
    "pred=lr_clf.predict(X_test)\n",
    "pred_proba=lr_clf.predict_proba(X_test)[:,-1]\n",
    "get_clf_eval(y_test, pred, pred_proba)"
   ]
  },
  {
   "cell_type": "code",
   "execution_count": null,
   "id": "a1d5cdfd-32eb-443d-af69-72ad170bf090",
   "metadata": {
    "tags": []
   },
   "outputs": [],
   "source": [
    "import matplotlib.pyplot as plt\n",
    "import matplotlib.ticker as ticker\n",
    "\n",
    "pred_proba_c1 = lr_clf.predict_proba(X_test)[:, 1]\n",
    "precision_recall_curve_plot(y_test, pred_proba_c1)"
   ]
  },
  {
   "cell_type": "code",
   "execution_count": null,
   "id": "971476e2-e6f3-4749-a772-3e5557297999",
   "metadata": {
    "tags": []
   },
   "outputs": [],
   "source": [
    "plt.hist(diabets_data['Glucose'], bins=100)"
   ]
  },
  {
   "cell_type": "code",
   "execution_count": null,
   "id": "8fa0b966-b734-4950-a925-97f3c17cfa54",
   "metadata": {},
   "outputs": [],
   "source": [
    "zero_features = ['Glucose', 'BloodPressure', 'SkinThickness', 'Insulin','BMI']\n",
    "total_count = diabetes_data['Glucose'].count()\n",
    "for feature in zero_features:\n",
    "zero_count = diabetes_data[ diabetes_data [feature] == 0][feature].count()\n",
    "print(f'{feature} 0 건수는 {zero_count}, 퍼센트는 {100*zero_count/total_count:.2f} %')"
   ]
  },
  {
   "cell_type": "code",
   "execution_count": null,
   "id": "e75412cc-19cb-4387-b52a-78a0d2cef31a",
   "metadata": {},
   "outputs": [],
   "source": [
    "mean_zero_features = diabetes_data[zero_features].mean()\n",
    "diabetes_data[zero_features]=diabetes_data[zero_features].replace(0, mean_zero_features)\n",
    "diabetes_data.describe()"
   ]
  },
  {
   "cell_type": "code",
   "execution_count": null,
   "id": "459b7eb7-40ab-4aff-8870-e60469e94d1a",
   "metadata": {},
   "outputs": [],
   "source": [
    "# 다시 학습 예측 평가\n",
    "X = diabetes_data.iloc[:, :-1]\n",
    "y = diabetes_data.iloc[:, -1]\n",
    "scaler = StandardScaler( )\n",
    "X_scaled = scaler.fit_transform(X)\n",
    "X_train, X_test, y_train, y_test = train_test_split(X_scaled, y, test_size = 0.2, \n",
    "random_state = 156, stratify=y)\n",
    "lr_clf = LogisticRegression(solver='liblinear')\n",
    "lr_clf.fit(X_train , y_train)\n",
    "pred = lr_clf.predict(X_test)\n",
    "pred_proba = lr_clf.predict_proba(X_test)[:, 1]\n",
    "get_clf_eval(y_test , pred, pred_proba)"
   ]
  },
  {
   "cell_type": "code",
   "execution_count": null,
   "id": "3e94f95c-03d2-435d-8bcf-2020c325397c",
   "metadata": {},
   "outputs": [],
   "source": [
    "# 임곗값 변화시키며 성능평가\n",
    "from sklearn.preprocessing import Binarizer\n",
    "# 함수 생성\n",
    "def get_eval_by_threshold(y_test ,pred_proba_c1,thresholds):\n",
    "    for custom_threshold in thresholds:\n",
    "        binarizer = Binarizer(threshold = custom_threshold ).fit(pred_proba_c1) \n",
    "        custom_predict = binarizer.transform(pred_proba_c1)\n",
    "        print('임곗값:',custom_threshold)\n",
    "get_clf_eval(y_test , custom_predict, pred_proba_c1)"
   ]
  },
  {
   "cell_type": "code",
   "execution_count": null,
   "id": "32ff1ffc-3fdb-4b4d-92c0-23786ce87221",
   "metadata": {},
   "outputs": [],
   "source": [
    "thresholds = [0.3 , 0.33 ,0.36,0.39, 0.42 , 0.45 ,0.48, 0.50]\n",
    "pred_proba = lr_clf.predict_proba(X_test)\n",
    "get_eval_by_threshold(y_test, pred_proba[:,1].reshape(-1,1), thresholds )\n"
   ]
  },
  {
   "cell_type": "code",
   "execution_count": null,
   "id": "5131861e-a826-4ea0-ad32-296c026972b1",
   "metadata": {},
   "outputs": [],
   "source": [
    "binarizer = Binarizer(threshold=0.48)\n",
    "pred_th_048 = binarizer.fit_transform(pred_proba[:, 1].reshape(-1,1)) \n",
    "get_clf_eval(y_test , pred_th_048, pred_proba[:, 1])"
   ]
  },
  {
   "cell_type": "code",
   "execution_count": null,
   "id": "f5d482e4-1d97-47d4-84e5-f1aacdf7966a",
   "metadata": {},
   "outputs": [],
   "source": []
  },
  {
   "cell_type": "code",
   "execution_count": null,
   "id": "b49188c1-0360-4b4e-9134-10331392b9fe",
   "metadata": {},
   "outputs": [],
   "source": []
  },
  {
   "cell_type": "code",
   "execution_count": null,
   "id": "8afb753d-7b6a-4953-a02b-2d5b4b7f18b3",
   "metadata": {},
   "outputs": [],
   "source": []
  }
 ],
 "metadata": {
  "kernelspec": {
   "display_name": "Python 3 (ipykernel)",
   "language": "python",
   "name": "python3"
  },
  "language_info": {
   "codemirror_mode": {
    "name": "ipython",
    "version": 3
   },
   "file_extension": ".py",
   "mimetype": "text/x-python",
   "name": "python",
   "nbconvert_exporter": "python",
   "pygments_lexer": "ipython3",
   "version": "3.11.5"
  }
 },
 "nbformat": 4,
 "nbformat_minor": 5
}
