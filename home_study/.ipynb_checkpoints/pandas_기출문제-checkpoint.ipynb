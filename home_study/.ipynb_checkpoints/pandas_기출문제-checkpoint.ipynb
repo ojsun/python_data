{
 "cells": [
  {
   "cell_type": "markdown",
   "id": "7c5a3993-d147-4836-b62d-349387e8df02",
   "metadata": {},
   "source": [
    "#### <문제풀이 01-26>"
   ]
  },
  {
   "cell_type": "markdown",
   "id": "38bd423f-84eb-4e9b-b68a-a9be36b16080",
   "metadata": {},
   "source": [
    "#### 1번\n",
    "* 첫번째 데이터 부터 순서대로 50:50으로 데이터를 나누고, 앞에서 부터 50%의 데이터(이하, A그룹)는 'f1'컬럼의 결측치를 A그룹의 중앙값으로 채우고, 뒤에서부터 50% 데이터(이하, B그룹)는 'f1'컬럼의 결측치를 B그룹의 최대값으로 채운 후, A그룹과 B그룹의 표준편차 합을 구하시오. (소수점 첫째자리)\n"
   ]
  },
  {
   "cell_type": "code",
   "execution_count": 1,
   "id": "cd737d9f-0d24-4443-8f0c-6a3d7c61dd1d",
   "metadata": {
    "tags": []
   },
   "outputs": [],
   "source": [
    "import pandas as pd"
   ]
  },
  {
   "cell_type": "code",
   "execution_count": 11,
   "id": "f6f0ce54-9269-4259-988b-40d884cb6a04",
   "metadata": {
    "tags": []
   },
   "outputs": [
    {
     "data": {
      "text/plain": [
       "RangeIndex(start=0, stop=100, step=1)"
      ]
     },
     "execution_count": 11,
     "metadata": {},
     "output_type": "execute_result"
    }
   ],
   "source": [
    "df = pd.read_csv('./data/basic1.csv')\n",
    "df.head()\n",
    "df.index"
   ]
  },
  {
   "cell_type": "code",
   "execution_count": null,
   "id": "fabc6192-957b-4b5f-a1f9-78c37937e483",
   "metadata": {
    "tags": []
   },
   "outputs": [],
   "source": [
    "a_group=df.iloc[:50]\n",
    "b_group=df.iloc[50:]\n",
    "print(a_group,b_group)"
   ]
  },
  {
   "cell_type": "code",
   "execution_count": 23,
   "id": "19d64a14-d91e-4a32-8750-ab540c79f771",
   "metadata": {
    "tags": []
   },
   "outputs": [],
   "source": [
    "a_median=a_group['f1'].fillna(a_group.f1.median())\n",
    "b_max=b_group['f1'].fillna(b_group.f1.max())"
   ]
  },
  {
   "cell_type": "code",
   "execution_count": 25,
   "id": "731e1348-fa5e-4c2f-b786-b8f87b5e22d9",
   "metadata": {
    "tags": []
   },
   "outputs": [
    {
     "data": {
      "text/plain": [
       "42.0"
      ]
     },
     "execution_count": 25,
     "metadata": {},
     "output_type": "execute_result"
    }
   ],
   "source": [
    "round(a_median.std() + b_max.std(),1)"
   ]
  },
  {
   "cell_type": "code",
   "execution_count": null,
   "id": "45bd60b7-96d7-40ae-8804-d2096b4c8b6e",
   "metadata": {},
   "outputs": [],
   "source": []
  },
  {
   "cell_type": "markdown",
   "id": "1d326a73-d696-4649-98c8-6049561094eb",
   "metadata": {},
   "source": [
    "#### 2번\n",
    "* 'f4'컬럼 기준 내림차순 정렬과 'f5'컬럼 기준 오름차순 정렬을 순서대로 다중 조건 정렬하고나서 앞에서부터 10개의 데이터 중 'f5'컬럼의 최소값을 찾고, 이 최소값으로 앞에서 부터 10개의 'f5'컬럼 데이터를 변경함. 그리고 'f5'컬럼의 평균값을 계산함. (단 소수점 둘째자리까지 출력(셋째자리에서 반올림))"
   ]
  },
  {
   "cell_type": "code",
   "execution_count": 50,
   "id": "53dda5c3-1771-43c9-81e8-554f2bcf0d63",
   "metadata": {
    "tags": []
   },
   "outputs": [
    {
     "data": {
      "text/html": [
       "<div>\n",
       "<style scoped>\n",
       "    .dataframe tbody tr th:only-of-type {\n",
       "        vertical-align: middle;\n",
       "    }\n",
       "\n",
       "    .dataframe tbody tr th {\n",
       "        vertical-align: top;\n",
       "    }\n",
       "\n",
       "    .dataframe thead th {\n",
       "        text-align: right;\n",
       "    }\n",
       "</style>\n",
       "<table border=\"1\" class=\"dataframe\">\n",
       "  <thead>\n",
       "    <tr style=\"text-align: right;\">\n",
       "      <th></th>\n",
       "      <th>id</th>\n",
       "      <th>age</th>\n",
       "      <th>city</th>\n",
       "      <th>f1</th>\n",
       "      <th>f2</th>\n",
       "      <th>f3</th>\n",
       "      <th>f4</th>\n",
       "      <th>f5</th>\n",
       "    </tr>\n",
       "  </thead>\n",
       "  <tbody>\n",
       "    <tr>\n",
       "      <th>42</th>\n",
       "      <td>id43</td>\n",
       "      <td>23.0</td>\n",
       "      <td>대구</td>\n",
       "      <td>60.0</td>\n",
       "      <td>0</td>\n",
       "      <td>NaN</td>\n",
       "      <td>ISTP</td>\n",
       "      <td>29.269869</td>\n",
       "    </tr>\n",
       "    <tr>\n",
       "      <th>69</th>\n",
       "      <td>id70</td>\n",
       "      <td>-9.0</td>\n",
       "      <td>경기</td>\n",
       "      <td>96.0</td>\n",
       "      <td>1</td>\n",
       "      <td>NaN</td>\n",
       "      <td>ISTP</td>\n",
       "      <td>48.431184</td>\n",
       "    </tr>\n",
       "    <tr>\n",
       "      <th>16</th>\n",
       "      <td>id17</td>\n",
       "      <td>74.0</td>\n",
       "      <td>서울</td>\n",
       "      <td>NaN</td>\n",
       "      <td>1</td>\n",
       "      <td>NaN</td>\n",
       "      <td>ISTP</td>\n",
       "      <td>67.886373</td>\n",
       "    </tr>\n",
       "    <tr>\n",
       "      <th>22</th>\n",
       "      <td>id23</td>\n",
       "      <td>34.0</td>\n",
       "      <td>부산</td>\n",
       "      <td>75.0</td>\n",
       "      <td>1</td>\n",
       "      <td>NaN</td>\n",
       "      <td>ISTP</td>\n",
       "      <td>69.730313</td>\n",
       "    </tr>\n",
       "    <tr>\n",
       "      <th>2</th>\n",
       "      <td>id03</td>\n",
       "      <td>27.0</td>\n",
       "      <td>서울</td>\n",
       "      <td>61.0</td>\n",
       "      <td>1</td>\n",
       "      <td>NaN</td>\n",
       "      <td>ISTJ</td>\n",
       "      <td>9.796378</td>\n",
       "    </tr>\n",
       "    <tr>\n",
       "      <th>50</th>\n",
       "      <td>id51</td>\n",
       "      <td>36.0</td>\n",
       "      <td>대구</td>\n",
       "      <td>NaN</td>\n",
       "      <td>0</td>\n",
       "      <td>NaN</td>\n",
       "      <td>ISTJ</td>\n",
       "      <td>83.685380</td>\n",
       "    </tr>\n",
       "    <tr>\n",
       "      <th>9</th>\n",
       "      <td>id10</td>\n",
       "      <td>95.0</td>\n",
       "      <td>서울</td>\n",
       "      <td>74.0</td>\n",
       "      <td>1</td>\n",
       "      <td>NaN</td>\n",
       "      <td>ISFP</td>\n",
       "      <td>9.796378</td>\n",
       "    </tr>\n",
       "    <tr>\n",
       "      <th>65</th>\n",
       "      <td>id66</td>\n",
       "      <td>87.0</td>\n",
       "      <td>경기</td>\n",
       "      <td>NaN</td>\n",
       "      <td>1</td>\n",
       "      <td>NaN</td>\n",
       "      <td>ISFP</td>\n",
       "      <td>17.252986</td>\n",
       "    </tr>\n",
       "    <tr>\n",
       "      <th>20</th>\n",
       "      <td>id21</td>\n",
       "      <td>90.0</td>\n",
       "      <td>부산</td>\n",
       "      <td>NaN</td>\n",
       "      <td>1</td>\n",
       "      <td>NaN</td>\n",
       "      <td>ISFP</td>\n",
       "      <td>29.269869</td>\n",
       "    </tr>\n",
       "    <tr>\n",
       "      <th>70</th>\n",
       "      <td>id71</td>\n",
       "      <td>35.0</td>\n",
       "      <td>경기</td>\n",
       "      <td>84.0</td>\n",
       "      <td>2</td>\n",
       "      <td>NaN</td>\n",
       "      <td>ISFP</td>\n",
       "      <td>52.667078</td>\n",
       "    </tr>\n",
       "  </tbody>\n",
       "</table>\n",
       "</div>"
      ],
      "text/plain": [
       "      id   age city    f1  f2   f3    f4         f5\n",
       "42  id43  23.0   대구  60.0   0  NaN  ISTP  29.269869\n",
       "69  id70  -9.0   경기  96.0   1  NaN  ISTP  48.431184\n",
       "16  id17  74.0   서울   NaN   1  NaN  ISTP  67.886373\n",
       "22  id23  34.0   부산  75.0   1  NaN  ISTP  69.730313\n",
       "2   id03  27.0   서울  61.0   1  NaN  ISTJ   9.796378\n",
       "50  id51  36.0   대구   NaN   0  NaN  ISTJ  83.685380\n",
       "9   id10  95.0   서울  74.0   1  NaN  ISFP   9.796378\n",
       "65  id66  87.0   경기   NaN   1  NaN  ISFP  17.252986\n",
       "20  id21  90.0   부산   NaN   1  NaN  ISFP  29.269869\n",
       "70  id71  35.0   경기  84.0   2  NaN  ISFP  52.667078"
      ]
     },
     "execution_count": 50,
     "metadata": {},
     "output_type": "execute_result"
    }
   ],
   "source": [
    "sorted_1=df.sort_values(['f4','f5'], ascending=(False,True))\n",
    "sorted_1.head(10)"
   ]
  },
  {
   "cell_type": "code",
   "execution_count": 49,
   "id": "25106496-3bcd-4256-a37f-8d515ce21daf",
   "metadata": {
    "tags": []
   },
   "outputs": [
    {
     "data": {
      "text/plain": [
       "9.796377581"
      ]
     },
     "execution_count": 49,
     "metadata": {},
     "output_type": "execute_result"
    }
   ],
   "source": [
    "min_value=sorted_1.iloc[:10,-1].min()\n",
    "min_value"
   ]
  },
  {
   "cell_type": "code",
   "execution_count": 46,
   "id": "27d95edc-29cd-4819-9832-d7108ddaac3e",
   "metadata": {
    "tags": []
   },
   "outputs": [
    {
     "data": {
      "text/html": [
       "<div>\n",
       "<style scoped>\n",
       "    .dataframe tbody tr th:only-of-type {\n",
       "        vertical-align: middle;\n",
       "    }\n",
       "\n",
       "    .dataframe tbody tr th {\n",
       "        vertical-align: top;\n",
       "    }\n",
       "\n",
       "    .dataframe thead th {\n",
       "        text-align: right;\n",
       "    }\n",
       "</style>\n",
       "<table border=\"1\" class=\"dataframe\">\n",
       "  <thead>\n",
       "    <tr style=\"text-align: right;\">\n",
       "      <th></th>\n",
       "      <th>id</th>\n",
       "      <th>age</th>\n",
       "      <th>city</th>\n",
       "      <th>f1</th>\n",
       "      <th>f2</th>\n",
       "      <th>f3</th>\n",
       "      <th>f4</th>\n",
       "      <th>f5</th>\n",
       "    </tr>\n",
       "  </thead>\n",
       "  <tbody>\n",
       "    <tr>\n",
       "      <th>42</th>\n",
       "      <td>id43</td>\n",
       "      <td>23.0</td>\n",
       "      <td>대구</td>\n",
       "      <td>60.0</td>\n",
       "      <td>0</td>\n",
       "      <td>NaN</td>\n",
       "      <td>ISTP</td>\n",
       "      <td>9.796378</td>\n",
       "    </tr>\n",
       "    <tr>\n",
       "      <th>69</th>\n",
       "      <td>id70</td>\n",
       "      <td>-9.0</td>\n",
       "      <td>경기</td>\n",
       "      <td>96.0</td>\n",
       "      <td>1</td>\n",
       "      <td>NaN</td>\n",
       "      <td>ISTP</td>\n",
       "      <td>9.796378</td>\n",
       "    </tr>\n",
       "    <tr>\n",
       "      <th>16</th>\n",
       "      <td>id17</td>\n",
       "      <td>74.0</td>\n",
       "      <td>서울</td>\n",
       "      <td>NaN</td>\n",
       "      <td>1</td>\n",
       "      <td>NaN</td>\n",
       "      <td>ISTP</td>\n",
       "      <td>9.796378</td>\n",
       "    </tr>\n",
       "    <tr>\n",
       "      <th>22</th>\n",
       "      <td>id23</td>\n",
       "      <td>34.0</td>\n",
       "      <td>부산</td>\n",
       "      <td>75.0</td>\n",
       "      <td>1</td>\n",
       "      <td>NaN</td>\n",
       "      <td>ISTP</td>\n",
       "      <td>9.796378</td>\n",
       "    </tr>\n",
       "    <tr>\n",
       "      <th>2</th>\n",
       "      <td>id03</td>\n",
       "      <td>27.0</td>\n",
       "      <td>서울</td>\n",
       "      <td>61.0</td>\n",
       "      <td>1</td>\n",
       "      <td>NaN</td>\n",
       "      <td>ISTJ</td>\n",
       "      <td>9.796378</td>\n",
       "    </tr>\n",
       "    <tr>\n",
       "      <th>...</th>\n",
       "      <td>...</td>\n",
       "      <td>...</td>\n",
       "      <td>...</td>\n",
       "      <td>...</td>\n",
       "      <td>...</td>\n",
       "      <td>...</td>\n",
       "      <td>...</td>\n",
       "      <td>...</td>\n",
       "    </tr>\n",
       "    <tr>\n",
       "      <th>44</th>\n",
       "      <td>id45</td>\n",
       "      <td>97.0</td>\n",
       "      <td>대구</td>\n",
       "      <td>88.0</td>\n",
       "      <td>0</td>\n",
       "      <td>NaN</td>\n",
       "      <td>ENFJ</td>\n",
       "      <td>13.049921</td>\n",
       "    </tr>\n",
       "    <tr>\n",
       "      <th>32</th>\n",
       "      <td>id33</td>\n",
       "      <td>47.0</td>\n",
       "      <td>부산</td>\n",
       "      <td>94.0</td>\n",
       "      <td>0</td>\n",
       "      <td>NaN</td>\n",
       "      <td>ENFJ</td>\n",
       "      <td>17.252986</td>\n",
       "    </tr>\n",
       "    <tr>\n",
       "      <th>40</th>\n",
       "      <td>id41</td>\n",
       "      <td>81.0</td>\n",
       "      <td>대구</td>\n",
       "      <td>55.0</td>\n",
       "      <td>0</td>\n",
       "      <td>NaN</td>\n",
       "      <td>ENFJ</td>\n",
       "      <td>37.113739</td>\n",
       "    </tr>\n",
       "    <tr>\n",
       "      <th>53</th>\n",
       "      <td>id54</td>\n",
       "      <td>53.0</td>\n",
       "      <td>대구</td>\n",
       "      <td>NaN</td>\n",
       "      <td>1</td>\n",
       "      <td>NaN</td>\n",
       "      <td>ENFJ</td>\n",
       "      <td>69.730313</td>\n",
       "    </tr>\n",
       "    <tr>\n",
       "      <th>0</th>\n",
       "      <td>id01</td>\n",
       "      <td>2.0</td>\n",
       "      <td>서울</td>\n",
       "      <td>NaN</td>\n",
       "      <td>0</td>\n",
       "      <td>NaN</td>\n",
       "      <td>ENFJ</td>\n",
       "      <td>91.297791</td>\n",
       "    </tr>\n",
       "  </tbody>\n",
       "</table>\n",
       "<p>100 rows × 8 columns</p>\n",
       "</div>"
      ],
      "text/plain": [
       "      id   age city    f1  f2   f3    f4         f5\n",
       "42  id43  23.0   대구  60.0   0  NaN  ISTP   9.796378\n",
       "69  id70  -9.0   경기  96.0   1  NaN  ISTP   9.796378\n",
       "16  id17  74.0   서울   NaN   1  NaN  ISTP   9.796378\n",
       "22  id23  34.0   부산  75.0   1  NaN  ISTP   9.796378\n",
       "2   id03  27.0   서울  61.0   1  NaN  ISTJ   9.796378\n",
       "..   ...   ...  ...   ...  ..  ...   ...        ...\n",
       "44  id45  97.0   대구  88.0   0  NaN  ENFJ  13.049921\n",
       "32  id33  47.0   부산  94.0   0  NaN  ENFJ  17.252986\n",
       "40  id41  81.0   대구  55.0   0  NaN  ENFJ  37.113739\n",
       "53  id54  53.0   대구   NaN   1  NaN  ENFJ  69.730313\n",
       "0   id01   2.0   서울   NaN   0  NaN  ENFJ  91.297791\n",
       "\n",
       "[100 rows x 8 columns]"
      ]
     },
     "execution_count": 46,
     "metadata": {},
     "output_type": "execute_result"
    }
   ],
   "source": [
    "sorted.iloc[:10,-1]=min_value\n",
    "sorted"
   ]
  },
  {
   "cell_type": "code",
   "execution_count": 44,
   "id": "dced3156-2cce-4160-ad50-51b165aaa38e",
   "metadata": {
    "tags": []
   },
   "outputs": [
    {
     "data": {
      "text/plain": [
       "49.64"
      ]
     },
     "execution_count": 44,
     "metadata": {},
     "output_type": "execute_result"
    }
   ],
   "source": [
    "round((sorted.f5.mean()),2)"
   ]
  },
  {
   "cell_type": "code",
   "execution_count": null,
   "id": "38e3ae3a-836c-4c3f-8eb4-7b3f34df7e8a",
   "metadata": {},
   "outputs": [],
   "source": []
  },
  {
   "cell_type": "code",
   "execution_count": null,
   "id": "63c2dd5c-df71-4c47-ba89-f870b44cb24b",
   "metadata": {
    "jupyter": {
     "source_hidden": true
    },
    "tags": []
   },
   "outputs": [],
   "source": []
  }
 ],
 "metadata": {
  "kernelspec": {
   "display_name": "Python 3 (ipykernel)",
   "language": "python",
   "name": "python3"
  },
  "language_info": {
   "codemirror_mode": {
    "name": "ipython",
    "version": 3
   },
   "file_extension": ".py",
   "mimetype": "text/x-python",
   "name": "python",
   "nbconvert_exporter": "python",
   "pygments_lexer": "ipython3",
   "version": "3.11.5"
  }
 },
 "nbformat": 4,
 "nbformat_minor": 5
}
