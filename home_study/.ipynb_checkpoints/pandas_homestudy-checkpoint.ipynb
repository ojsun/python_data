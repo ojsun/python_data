{
 "cells": [
  {
   "cell_type": "markdown",
   "id": "5c81664f-4ce3-4b82-b5a2-530b5e820857",
   "metadata": {},
   "source": [
    "####  파이썬 데이커과학 통계학습"
   ]
  },
  {
   "cell_type": "code",
   "execution_count": null,
   "id": "37a88614-fc3d-4a14-b582-8cf18ea64e8e",
   "metadata": {
    "tags": []
   },
   "outputs": [],
   "source": [
    "import pandas as pd\n"
   ]
  },
  {
   "cell_type": "code",
   "execution_count": null,
   "id": "598f6953-be92-422b-9808-83724c5c2e9b",
   "metadata": {
    "tags": []
   },
   "outputs": [],
   "source": [
    "series_list_1=pd.Series([1,3,5,7,9])"
   ]
  },
  {
   "cell_type": "code",
   "execution_count": null,
   "id": "b5f31149-5ed9-4a5e-83ba-b35b435c630f",
   "metadata": {
    "tags": []
   },
   "outputs": [],
   "source": [
    "print(series_list_1)"
   ]
  },
  {
   "cell_type": "code",
   "execution_count": null,
   "id": "43728c33-8e96-4b97-9c78-4c0cf34ccc0e",
   "metadata": {
    "tags": []
   },
   "outputs": [],
   "source": [
    "print(series_list_1.index)"
   ]
  },
  {
   "cell_type": "code",
   "execution_count": null,
   "id": "efc0024b-a3d4-49f5-a5cc-1bd22e3f044b",
   "metadata": {
    "tags": []
   },
   "outputs": [],
   "source": [
    "print(series_list_1.values)\n"
   ]
  },
  {
   "cell_type": "code",
   "execution_count": null,
   "id": "a5c476ba-f916-45e8-b855-40480afd5e93",
   "metadata": {
    "tags": []
   },
   "outputs": [],
   "source": [
    "series_list_2=pd.Series([2,4,6,8,10], index=['a','b','c','d','e'])"
   ]
  },
  {
   "cell_type": "code",
   "execution_count": null,
   "id": "56ecb39a-d732-4874-a758-4fe6f1472afc",
   "metadata": {
    "tags": []
   },
   "outputs": [],
   "source": [
    "print(series_list_2.index)"
   ]
  },
  {
   "cell_type": "code",
   "execution_count": null,
   "id": "f5835dbe-71ec-4964-8626-be8ae059b594",
   "metadata": {
    "tags": []
   },
   "outputs": [],
   "source": [
    "print(series_list_2.values)"
   ]
  },
  {
   "cell_type": "code",
   "execution_count": null,
   "id": "8d17768b-4e18-44a1-bd60-2818a2250d38",
   "metadata": {
    "tags": []
   },
   "outputs": [],
   "source": [
    "dict_data={'치킨':16000,'피자':20000,'햄버거':10000,'탕수육':25000}\n",
    "series_list_a=pd.Series(dict_data)"
   ]
  },
  {
   "cell_type": "code",
   "execution_count": null,
   "id": "f83d11c1-9b3d-4e61-a6b8-85fe20e36dd6",
   "metadata": {
    "tags": []
   },
   "outputs": [],
   "source": [
    "print(series_list_a)"
   ]
  },
  {
   "cell_type": "code",
   "execution_count": null,
   "id": "65c34621-92bf-4a44-b8d3-b074f9715615",
   "metadata": {
    "tags": []
   },
   "outputs": [],
   "source": [
    "delivery_food=['치킨','우동','탕수육','어묵']\n",
    "series_list_b=pd.Series(dict_data, index=delivery_food)\n",
    "print(series_list_b)"
   ]
  },
  {
   "cell_type": "code",
   "execution_count": null,
   "id": "5447863e-c9f6-4ccb-941a-4e0b2fdf6fed",
   "metadata": {
    "tags": []
   },
   "outputs": [],
   "source": [
    "print(series_list_a['치킨'])"
   ]
  },
  {
   "cell_type": "code",
   "execution_count": null,
   "id": "6cd24966-e89b-4fd9-b3dc-bb71a852d1e6",
   "metadata": {
    "tags": []
   },
   "outputs": [],
   "source": [
    "print(series_list_b['탕수육'])"
   ]
  },
  {
   "cell_type": "code",
   "execution_count": null,
   "id": "1f0a4f04-a4cb-4e21-b6de-37fe2aaa3644",
   "metadata": {
    "tags": []
   },
   "outputs": [],
   "source": [
    "print(series_list_b[['치킨','탕수육']])"
   ]
  },
  {
   "cell_type": "code",
   "execution_count": null,
   "id": "89b55bd0-afbe-4344-aa3a-9caa5c833fc0",
   "metadata": {
    "tags": []
   },
   "outputs": [],
   "source": [
    "print(series_list_a[series_list_a > 10000])"
   ]
  },
  {
   "cell_type": "code",
   "execution_count": null,
   "id": "b7104322-a371-4713-853c-c4327255bd7c",
   "metadata": {
    "tags": []
   },
   "outputs": [],
   "source": [
    "print('치킨' in series_list_a)"
   ]
  },
  {
   "cell_type": "code",
   "execution_count": null,
   "id": "b2be95eb-eaf7-4a3c-8577-154272642d7f",
   "metadata": {
    "tags": []
   },
   "outputs": [],
   "source": [
    "df_profile=pd.DataFrame()"
   ]
  },
  {
   "cell_type": "code",
   "execution_count": null,
   "id": "9d2316fb-e91e-40ed-99b0-c6e0388403ec",
   "metadata": {
    "tags": []
   },
   "outputs": [],
   "source": [
    "df_profile['sex']=['M','M','W','W']\n",
    "df_profile['age']=[21,25,23,20]\n",
    "df_profile['name']=['Jihun','Kyoungrok','Mina','Minseon']"
   ]
  },
  {
   "cell_type": "code",
   "execution_count": null,
   "id": "0fd38f69-eb89-4d66-98df-60ff8b166305",
   "metadata": {
    "tags": []
   },
   "outputs": [],
   "source": [
    "df_profile"
   ]
  },
  {
   "cell_type": "code",
   "execution_count": null,
   "id": "a0a44326-996c-47e8-a4b3-5a6ff3386c52",
   "metadata": {
    "tags": []
   },
   "outputs": [],
   "source": [
    "df_spotify=pd.read_csv('./data/spotify_global_2019_most_streamed_tracks_audio_features.csv')\n",
    "df_spotify"
   ]
  },
  {
   "cell_type": "code",
   "execution_count": null,
   "id": "5e30ef76-6188-492f-ac1e-417395ded2ae",
   "metadata": {
    "tags": []
   },
   "outputs": [],
   "source": [
    "df_spotify.head(5)"
   ]
  },
  {
   "cell_type": "code",
   "execution_count": null,
   "id": "55938983-9629-4650-b9da-a9cdca3fbb7e",
   "metadata": {},
   "outputs": [],
   "source": []
  },
  {
   "cell_type": "code",
   "execution_count": null,
   "id": "84c679ff-cd69-4356-baae-0aad2b961b6f",
   "metadata": {
    "tags": []
   },
   "outputs": [],
   "source": [
    "df_spotify.info()"
   ]
  },
  {
   "cell_type": "code",
   "execution_count": null,
   "id": "a45b2734-128d-4e4e-920e-093affa72ae4",
   "metadata": {
    "tags": []
   },
   "outputs": [],
   "source": [
    "type(df_spotify['Artist'])"
   ]
  },
  {
   "cell_type": "code",
   "execution_count": null,
   "id": "801ac5d7-d547-4dbe-ad09-fa20b8e0b13d",
   "metadata": {
    "tags": []
   },
   "outputs": [],
   "source": [
    "df_spotify[['Artist','Rank']]"
   ]
  },
  {
   "cell_type": "code",
   "execution_count": null,
   "id": "33d6dee0-75f8-41c8-9d6e-e1fb773581ce",
   "metadata": {
    "tags": []
   },
   "outputs": [],
   "source": [
    "df_spotify[df_spotify.Artist==\"BTS\"]"
   ]
  },
  {
   "cell_type": "code",
   "execution_count": null,
   "id": "bd58b462-1467-4fb1-9159-6bbafaf1a028",
   "metadata": {
    "tags": []
   },
   "outputs": [],
   "source": [
    "df_popularity=df_spotify[df_spotify.Artist_popularity >92]\n",
    "df_popularity"
   ]
  },
  {
   "cell_type": "code",
   "execution_count": null,
   "id": "fe5ccf72-ffac-4015-bed8-41db1f584ebd",
   "metadata": {
    "tags": []
   },
   "outputs": [],
   "source": [
    "df_popularity_rank=df_spotify['Artist'].value_counts()\n",
    "df_popularity_rank"
   ]
  },
  {
   "cell_type": "code",
   "execution_count": null,
   "id": "58cb4566-aae1-47fa-8131-315221f4e933",
   "metadata": {
    "tags": []
   },
   "outputs": [],
   "source": [
    "'BTS' in df_popularity_rank"
   ]
  },
  {
   "cell_type": "code",
   "execution_count": null,
   "id": "efe541d0-c350-4f50-a762-bada9eabb4f4",
   "metadata": {
    "tags": []
   },
   "outputs": [],
   "source": [
    "df_popularity_rank[df_popularity_rank.index=='BTS']"
   ]
  },
  {
   "cell_type": "code",
   "execution_count": null,
   "id": "2e298487-f14d-40ef-86d0-79e9bcd76577",
   "metadata": {
    "tags": []
   },
   "outputs": [],
   "source": [
    "df_spotify.tempo.mean()"
   ]
  },
  {
   "cell_type": "code",
   "execution_count": null,
   "id": "4b67aa4f-5afd-4e17-b17a-36c176a59de5",
   "metadata": {
    "tags": []
   },
   "outputs": [],
   "source": [
    "df_spotify[(df_spotify.tempo > df_spotify.tempo.mean()) | (df_spotify.Artist==\"BTS\")][['Rank','Artist','tempo']]"
   ]
  },
  {
   "cell_type": "code",
   "execution_count": null,
   "id": "60a27d24-2727-4a15-84bb-a419bc9580a3",
   "metadata": {
    "tags": []
   },
   "outputs": [],
   "source": [
    "import numpy as np"
   ]
  },
  {
   "cell_type": "code",
   "execution_count": null,
   "id": "c451bbf6-81ed-4a50-a34b-0d3f1d73ccf4",
   "metadata": {
    "tags": []
   },
   "outputs": [],
   "source": [
    "df_reindex=pd.DataFrame(np.arange(16).reshape(4,4), index=['a','b','c','d'], columns=['Seoul','Busan','Incheon','Ulsan'])\n",
    "df_reindex"
   ]
  },
  {
   "cell_type": "code",
   "execution_count": null,
   "id": "399ec8e2-96c9-4ff0-bab5-0a4fb2105780",
   "metadata": {},
   "outputs": [],
   "source": [
    "df_n_reindex=df_reindex.reindex(['d','c','s','a','c'])\n",
    "df_n_reindex"
   ]
  },
  {
   "cell_type": "code",
   "execution_count": null,
   "id": "26d57834-8568-4be7-9075-fc22922a1850",
   "metadata": {},
   "outputs": [],
   "source": [
    "df_reindex.reset_index(inplace=False)"
   ]
  },
  {
   "cell_type": "code",
   "execution_count": null,
   "id": "804299dd-f23d-42d8-a92e-6639727afb66",
   "metadata": {},
   "outputs": [],
   "source": [
    "df_reindex.shape"
   ]
  },
  {
   "cell_type": "code",
   "execution_count": null,
   "id": "483ed431-45cf-4f14-bff5-8a79f36f4141",
   "metadata": {},
   "outputs": [],
   "source": [
    "df_spotify2=pd.DataFrame(df_spotify,copy=True)\n",
    "df_spotify2"
   ]
  },
  {
   "cell_type": "code",
   "execution_count": 138,
   "id": "7bd2d0db-b4b9-4b31-b1af-c05342fcfe63",
   "metadata": {
    "tags": []
   },
   "outputs": [
    {
     "data": {
      "text/html": [
       "<div>\n",
       "<style scoped>\n",
       "    .dataframe tbody tr th:only-of-type {\n",
       "        vertical-align: middle;\n",
       "    }\n",
       "\n",
       "    .dataframe tbody tr th {\n",
       "        vertical-align: top;\n",
       "    }\n",
       "\n",
       "    .dataframe thead th {\n",
       "        text-align: right;\n",
       "    }\n",
       "</style>\n",
       "<table border=\"1\" class=\"dataframe\">\n",
       "  <thead>\n",
       "    <tr style=\"text-align: right;\">\n",
       "      <th></th>\n",
       "      <th>Artist</th>\n",
       "      <th>URL</th>\n",
       "      <th>acousticness</th>\n",
       "      <th>danceability</th>\n",
       "      <th>energy</th>\n",
       "      <th>instrumentalness</th>\n",
       "      <th>liveness</th>\n",
       "      <th>loudness</th>\n",
       "      <th>speechiness</th>\n",
       "      <th>valence</th>\n",
       "      <th>...</th>\n",
       "      <th>time_signature</th>\n",
       "      <th>duration_ms</th>\n",
       "      <th>key</th>\n",
       "      <th>mode</th>\n",
       "      <th>Artist_id</th>\n",
       "      <th>Artist_popularity</th>\n",
       "      <th>Artist_follower</th>\n",
       "      <th>Artist_img</th>\n",
       "      <th>rank_a</th>\n",
       "      <th>rank_b</th>\n",
       "    </tr>\n",
       "  </thead>\n",
       "  <tbody>\n",
       "    <tr>\n",
       "      <th>0</th>\n",
       "      <td>Ava Max</td>\n",
       "      <td>https://open.spotify.com/track/25sgk305KZfyuqV...</td>\n",
       "      <td>0.0691</td>\n",
       "      <td>0.719</td>\n",
       "      <td>0.704</td>\n",
       "      <td>0.000000</td>\n",
       "      <td>0.1660</td>\n",
       "      <td>-4.724</td>\n",
       "      <td>0.0476</td>\n",
       "      <td>0.628</td>\n",
       "      <td>...</td>\n",
       "      <td>4</td>\n",
       "      <td>187436</td>\n",
       "      <td>1</td>\n",
       "      <td>1</td>\n",
       "      <td>4npEfmQ6YuiwW1GpUmaq3F</td>\n",
       "      <td>87</td>\n",
       "      <td>1025358</td>\n",
       "      <td>https://i.scdn.co/image/4b914c6470c8458674538a...</td>\n",
       "      <td>0</td>\n",
       "      <td>0.1</td>\n",
       "    </tr>\n",
       "    <tr>\n",
       "      <th>1</th>\n",
       "      <td>Billie Eilish</td>\n",
       "      <td>https://open.spotify.com/track/2Fxmhks0bxGSBdJ...</td>\n",
       "      <td>0.3280</td>\n",
       "      <td>0.701</td>\n",
       "      <td>0.425</td>\n",
       "      <td>0.130000</td>\n",
       "      <td>0.1000</td>\n",
       "      <td>-10.965</td>\n",
       "      <td>0.3750</td>\n",
       "      <td>0.562</td>\n",
       "      <td>...</td>\n",
       "      <td>4</td>\n",
       "      <td>194088</td>\n",
       "      <td>7</td>\n",
       "      <td>1</td>\n",
       "      <td>6qqNVTkY8uBg9cP3Jd7DAH</td>\n",
       "      <td>98</td>\n",
       "      <td>18867904</td>\n",
       "      <td>https://i.scdn.co/image/2622edec99d68d1d141886...</td>\n",
       "      <td>0</td>\n",
       "      <td>0.2</td>\n",
       "    </tr>\n",
       "    <tr>\n",
       "      <th>2</th>\n",
       "      <td>Ariana Grande</td>\n",
       "      <td>https://open.spotify.com/track/6ocbgoVGwYJhOv1...</td>\n",
       "      <td>0.5920</td>\n",
       "      <td>0.778</td>\n",
       "      <td>0.317</td>\n",
       "      <td>0.000000</td>\n",
       "      <td>0.0881</td>\n",
       "      <td>-10.732</td>\n",
       "      <td>0.3340</td>\n",
       "      <td>0.327</td>\n",
       "      <td>...</td>\n",
       "      <td>4</td>\n",
       "      <td>178627</td>\n",
       "      <td>1</td>\n",
       "      <td>0</td>\n",
       "      <td>66CXWjxzNUsdJxJ2JdwvnR</td>\n",
       "      <td>97</td>\n",
       "      <td>40958727</td>\n",
       "      <td>https://i.scdn.co/image/b1dfbe843b0b9f54ab2e58...</td>\n",
       "      <td>0</td>\n",
       "      <td>0.3</td>\n",
       "    </tr>\n",
       "    <tr>\n",
       "      <th>3</th>\n",
       "      <td>Tones and I</td>\n",
       "      <td>https://open.spotify.com/track/1rgnBhdG2JDFTbY...</td>\n",
       "      <td>0.6880</td>\n",
       "      <td>0.825</td>\n",
       "      <td>0.593</td>\n",
       "      <td>0.000161</td>\n",
       "      <td>0.1700</td>\n",
       "      <td>-6.401</td>\n",
       "      <td>0.0988</td>\n",
       "      <td>0.540</td>\n",
       "      <td>...</td>\n",
       "      <td>4</td>\n",
       "      <td>209755</td>\n",
       "      <td>6</td>\n",
       "      <td>0</td>\n",
       "      <td>2NjfBq1NflQcKSeiDooVjY</td>\n",
       "      <td>92</td>\n",
       "      <td>484241</td>\n",
       "      <td>https://i.scdn.co/image/c128f5ef4d210a67610acd...</td>\n",
       "      <td>0</td>\n",
       "      <td>0.4</td>\n",
       "    </tr>\n",
       "    <tr>\n",
       "      <th>4</th>\n",
       "      <td>Shawn Mendes</td>\n",
       "      <td>https://open.spotify.com/track/6v3KW9xbzN5yKLt...</td>\n",
       "      <td>0.0392</td>\n",
       "      <td>0.759</td>\n",
       "      <td>0.548</td>\n",
       "      <td>0.000000</td>\n",
       "      <td>0.0828</td>\n",
       "      <td>-6.049</td>\n",
       "      <td>0.0290</td>\n",
       "      <td>0.749</td>\n",
       "      <td>...</td>\n",
       "      <td>4</td>\n",
       "      <td>190800</td>\n",
       "      <td>9</td>\n",
       "      <td>0</td>\n",
       "      <td>7n2wHs1TKAczGzO7Dd2rGr</td>\n",
       "      <td>94</td>\n",
       "      <td>23152263</td>\n",
       "      <td>https://i.scdn.co/image/6bd59cfbd3e1e6394af710...</td>\n",
       "      <td>0</td>\n",
       "      <td>0.5</td>\n",
       "    </tr>\n",
       "    <tr>\n",
       "      <th>...</th>\n",
       "      <td>...</td>\n",
       "      <td>...</td>\n",
       "      <td>...</td>\n",
       "      <td>...</td>\n",
       "      <td>...</td>\n",
       "      <td>...</td>\n",
       "      <td>...</td>\n",
       "      <td>...</td>\n",
       "      <td>...</td>\n",
       "      <td>...</td>\n",
       "      <td>...</td>\n",
       "      <td>...</td>\n",
       "      <td>...</td>\n",
       "      <td>...</td>\n",
       "      <td>...</td>\n",
       "      <td>...</td>\n",
       "      <td>...</td>\n",
       "      <td>...</td>\n",
       "      <td>...</td>\n",
       "      <td>...</td>\n",
       "      <td>...</td>\n",
       "    </tr>\n",
       "    <tr>\n",
       "      <th>1712</th>\n",
       "      <td>Sia</td>\n",
       "      <td>https://open.spotify.com/track/27SdWb2rFzO6GWi...</td>\n",
       "      <td>0.0472</td>\n",
       "      <td>0.628</td>\n",
       "      <td>0.698</td>\n",
       "      <td>0.001430</td>\n",
       "      <td>0.0907</td>\n",
       "      <td>-5.608</td>\n",
       "      <td>0.1050</td>\n",
       "      <td>0.732</td>\n",
       "      <td>...</td>\n",
       "      <td>4</td>\n",
       "      <td>211667</td>\n",
       "      <td>6</td>\n",
       "      <td>0</td>\n",
       "      <td>5WUlDfRSoLAfcVSX1WnrxN</td>\n",
       "      <td>90</td>\n",
       "      <td>15317280</td>\n",
       "      <td>https://i.scdn.co/image/652b6bb0dfaf8aa444f441...</td>\n",
       "      <td>0</td>\n",
       "      <td>171.3</td>\n",
       "    </tr>\n",
       "    <tr>\n",
       "      <th>1713</th>\n",
       "      <td>LX</td>\n",
       "      <td>https://open.spotify.com/track/0kLA41xkWzzYzMI...</td>\n",
       "      <td>0.1620</td>\n",
       "      <td>0.764</td>\n",
       "      <td>0.744</td>\n",
       "      <td>0.000000</td>\n",
       "      <td>0.1220</td>\n",
       "      <td>-5.529</td>\n",
       "      <td>0.4480</td>\n",
       "      <td>0.507</td>\n",
       "      <td>...</td>\n",
       "      <td>4</td>\n",
       "      <td>182925</td>\n",
       "      <td>11</td>\n",
       "      <td>0</td>\n",
       "      <td>10XY9PZCJKzUFzZOdtlQLU</td>\n",
       "      <td>71</td>\n",
       "      <td>64625</td>\n",
       "      <td>https://i.scdn.co/image/60d0c075d6de8417a0c44d...</td>\n",
       "      <td>0</td>\n",
       "      <td>171.4</td>\n",
       "    </tr>\n",
       "    <tr>\n",
       "      <th>1714</th>\n",
       "      <td>Bee Gees</td>\n",
       "      <td>https://open.spotify.com/track/79hJaqmVdohltPB...</td>\n",
       "      <td>0.0700</td>\n",
       "      <td>0.708</td>\n",
       "      <td>0.567</td>\n",
       "      <td>0.001050</td>\n",
       "      <td>0.1520</td>\n",
       "      <td>-15.539</td>\n",
       "      <td>0.0355</td>\n",
       "      <td>0.955</td>\n",
       "      <td>...</td>\n",
       "      <td>4</td>\n",
       "      <td>281667</td>\n",
       "      <td>10</td>\n",
       "      <td>0</td>\n",
       "      <td>1LZEQNv7sE11VDY3SdxQeN</td>\n",
       "      <td>79</td>\n",
       "      <td>2834719</td>\n",
       "      <td>https://i.scdn.co/image/1d5a05673975ba0c378cd2...</td>\n",
       "      <td>0</td>\n",
       "      <td>171.5</td>\n",
       "    </tr>\n",
       "    <tr>\n",
       "      <th>1715</th>\n",
       "      <td>MC Kevin o Chris</td>\n",
       "      <td>https://open.spotify.com/track/7rLegaz7zKB6EtD...</td>\n",
       "      <td>0.7110</td>\n",
       "      <td>0.896</td>\n",
       "      <td>0.756</td>\n",
       "      <td>0.000000</td>\n",
       "      <td>0.0778</td>\n",
       "      <td>-5.560</td>\n",
       "      <td>0.2290</td>\n",
       "      <td>0.686</td>\n",
       "      <td>...</td>\n",
       "      <td>4</td>\n",
       "      <td>240000</td>\n",
       "      <td>4</td>\n",
       "      <td>0</td>\n",
       "      <td>2UMj7NCbuqy1yUZmiSYGjJ</td>\n",
       "      <td>84</td>\n",
       "      <td>1139072</td>\n",
       "      <td>https://i.scdn.co/image/984dfbcdcf7880b022478b...</td>\n",
       "      <td>0</td>\n",
       "      <td>171.6</td>\n",
       "    </tr>\n",
       "    <tr>\n",
       "      <th>1716</th>\n",
       "      <td>Henrique &amp; Juliano</td>\n",
       "      <td>https://open.spotify.com/track/0kCqaybZgYcLYxz...</td>\n",
       "      <td>0.2990</td>\n",
       "      <td>0.690</td>\n",
       "      <td>0.670</td>\n",
       "      <td>0.000000</td>\n",
       "      <td>0.7490</td>\n",
       "      <td>-5.345</td>\n",
       "      <td>0.0317</td>\n",
       "      <td>0.579</td>\n",
       "      <td>...</td>\n",
       "      <td>4</td>\n",
       "      <td>184326</td>\n",
       "      <td>9</td>\n",
       "      <td>1</td>\n",
       "      <td>3p7PcrEHaaKLJnPUGOtRlT</td>\n",
       "      <td>84</td>\n",
       "      <td>9577443</td>\n",
       "      <td>https://i.scdn.co/image/f9e65e111cbb16276d2c27...</td>\n",
       "      <td>0</td>\n",
       "      <td>171.7</td>\n",
       "    </tr>\n",
       "  </tbody>\n",
       "</table>\n",
       "<p>1717 rows × 21 columns</p>\n",
       "</div>"
      ],
      "text/plain": [
       "                  Artist                                                URL  \\\n",
       "0                Ava Max  https://open.spotify.com/track/25sgk305KZfyuqV...   \n",
       "1          Billie Eilish  https://open.spotify.com/track/2Fxmhks0bxGSBdJ...   \n",
       "2          Ariana Grande  https://open.spotify.com/track/6ocbgoVGwYJhOv1...   \n",
       "3            Tones and I  https://open.spotify.com/track/1rgnBhdG2JDFTbY...   \n",
       "4           Shawn Mendes  https://open.spotify.com/track/6v3KW9xbzN5yKLt...   \n",
       "...                  ...                                                ...   \n",
       "1712                 Sia  https://open.spotify.com/track/27SdWb2rFzO6GWi...   \n",
       "1713                  LX  https://open.spotify.com/track/0kLA41xkWzzYzMI...   \n",
       "1714            Bee Gees  https://open.spotify.com/track/79hJaqmVdohltPB...   \n",
       "1715    MC Kevin o Chris  https://open.spotify.com/track/7rLegaz7zKB6EtD...   \n",
       "1716  Henrique & Juliano  https://open.spotify.com/track/0kCqaybZgYcLYxz...   \n",
       "\n",
       "      acousticness  danceability  energy  instrumentalness  liveness  \\\n",
       "0           0.0691         0.719   0.704          0.000000    0.1660   \n",
       "1           0.3280         0.701   0.425          0.130000    0.1000   \n",
       "2           0.5920         0.778   0.317          0.000000    0.0881   \n",
       "3           0.6880         0.825   0.593          0.000161    0.1700   \n",
       "4           0.0392         0.759   0.548          0.000000    0.0828   \n",
       "...            ...           ...     ...               ...       ...   \n",
       "1712        0.0472         0.628   0.698          0.001430    0.0907   \n",
       "1713        0.1620         0.764   0.744          0.000000    0.1220   \n",
       "1714        0.0700         0.708   0.567          0.001050    0.1520   \n",
       "1715        0.7110         0.896   0.756          0.000000    0.0778   \n",
       "1716        0.2990         0.690   0.670          0.000000    0.7490   \n",
       "\n",
       "      loudness  speechiness  valence  ...  time_signature  duration_ms  key  \\\n",
       "0       -4.724       0.0476    0.628  ...               4       187436    1   \n",
       "1      -10.965       0.3750    0.562  ...               4       194088    7   \n",
       "2      -10.732       0.3340    0.327  ...               4       178627    1   \n",
       "3       -6.401       0.0988    0.540  ...               4       209755    6   \n",
       "4       -6.049       0.0290    0.749  ...               4       190800    9   \n",
       "...        ...          ...      ...  ...             ...          ...  ...   \n",
       "1712    -5.608       0.1050    0.732  ...               4       211667    6   \n",
       "1713    -5.529       0.4480    0.507  ...               4       182925   11   \n",
       "1714   -15.539       0.0355    0.955  ...               4       281667   10   \n",
       "1715    -5.560       0.2290    0.686  ...               4       240000    4   \n",
       "1716    -5.345       0.0317    0.579  ...               4       184326    9   \n",
       "\n",
       "      mode               Artist_id Artist_popularity  Artist_follower  \\\n",
       "0        1  4npEfmQ6YuiwW1GpUmaq3F                87          1025358   \n",
       "1        1  6qqNVTkY8uBg9cP3Jd7DAH                98         18867904   \n",
       "2        0  66CXWjxzNUsdJxJ2JdwvnR                97         40958727   \n",
       "3        0  2NjfBq1NflQcKSeiDooVjY                92           484241   \n",
       "4        0  7n2wHs1TKAczGzO7Dd2rGr                94         23152263   \n",
       "...    ...                     ...               ...              ...   \n",
       "1712     0  5WUlDfRSoLAfcVSX1WnrxN                90         15317280   \n",
       "1713     0  10XY9PZCJKzUFzZOdtlQLU                71            64625   \n",
       "1714     0  1LZEQNv7sE11VDY3SdxQeN                79          2834719   \n",
       "1715     0  2UMj7NCbuqy1yUZmiSYGjJ                84          1139072   \n",
       "1716     1  3p7PcrEHaaKLJnPUGOtRlT                84          9577443   \n",
       "\n",
       "                                             Artist_img rank_a  rank_b  \n",
       "0     https://i.scdn.co/image/4b914c6470c8458674538a...      0     0.1  \n",
       "1     https://i.scdn.co/image/2622edec99d68d1d141886...      0     0.2  \n",
       "2     https://i.scdn.co/image/b1dfbe843b0b9f54ab2e58...      0     0.3  \n",
       "3     https://i.scdn.co/image/c128f5ef4d210a67610acd...      0     0.4  \n",
       "4     https://i.scdn.co/image/6bd59cfbd3e1e6394af710...      0     0.5  \n",
       "...                                                 ...    ...     ...  \n",
       "1712  https://i.scdn.co/image/652b6bb0dfaf8aa444f441...      0   171.3  \n",
       "1713  https://i.scdn.co/image/60d0c075d6de8417a0c44d...      0   171.4  \n",
       "1714  https://i.scdn.co/image/1d5a05673975ba0c378cd2...      0   171.5  \n",
       "1715  https://i.scdn.co/image/984dfbcdcf7880b022478b...      0   171.6  \n",
       "1716  https://i.scdn.co/image/f9e65e111cbb16276d2c27...      0   171.7  \n",
       "\n",
       "[1717 rows x 21 columns]"
      ]
     },
     "execution_count": 138,
     "metadata": {},
     "output_type": "execute_result"
    }
   ],
   "source": [
    "df_spotify2['rank_a']=0\n",
    "df_spotify2['rank_b']=df_spotify2.Rank * 0.1\n",
    "df_spotify2.iloc[:,5:]"
   ]
  },
  {
   "cell_type": "code",
   "execution_count": null,
   "id": "2a89ac9f-109f-4dea-951e-8229899f9e68",
   "metadata": {
    "tags": []
   },
   "outputs": [],
   "source": [
    "df_spotify2.drop([0,5,9,10,1,100,99,7])"
   ]
  },
  {
   "cell_type": "code",
   "execution_count": null,
   "id": "52149c75-e295-4c9a-ae04-0bed35b2b5b8",
   "metadata": {
    "tags": []
   },
   "outputs": [],
   "source": [
    "df_spotify2.drop('Track_id', axis=1)"
   ]
  },
  {
   "cell_type": "code",
   "execution_count": null,
   "id": "066d1269-8fdc-44a5-a32a-d5612df405af",
   "metadata": {},
   "outputs": [],
   "source": []
  },
  {
   "cell_type": "code",
   "execution_count": null,
   "id": "8a9d0d2a-e87c-4129-af57-62cfbea6d588",
   "metadata": {},
   "outputs": [],
   "source": []
  },
  {
   "cell_type": "code",
   "execution_count": null,
   "id": "60882d48-c440-4701-9625-356b3c4d149d",
   "metadata": {},
   "outputs": [],
   "source": []
  }
 ],
 "metadata": {
  "kernelspec": {
   "display_name": "Python 3 (ipykernel)",
   "language": "python",
   "name": "python3"
  },
  "language_info": {
   "codemirror_mode": {
    "name": "ipython",
    "version": 3
   },
   "file_extension": ".py",
   "mimetype": "text/x-python",
   "name": "python",
   "nbconvert_exporter": "python",
   "pygments_lexer": "ipython3",
   "version": "3.11.5"
  }
 },
 "nbformat": 4,
 "nbformat_minor": 5
}
