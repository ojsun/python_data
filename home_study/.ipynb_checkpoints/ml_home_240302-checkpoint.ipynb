{
 "cells": [
  {
   "cell_type": "markdown",
   "id": "0a40b044-cae8-47b5-8629-b2f44465a7b8",
   "metadata": {},
   "source": [
    "### 실습: 데싸노트의 실전에서 통하는 머신러닝"
   ]
  },
  {
   "cell_type": "code",
   "execution_count": null,
   "id": "802cb107-ea40-425d-871d-abfb5b9ecfa9",
   "metadata": {
    "tags": []
   },
   "outputs": [],
   "source": [
    "import matplotlib.pyplot as plt\n",
    "import seaborn as sns\n",
    "import pandas as pd\n",
    "import numpy as np\n",
    "import warnings\n",
    "warnings.filterwarnings('ignore')"
   ]
  },
  {
   "cell_type": "markdown",
   "id": "f7a3b80d-047f-4f4f-9caa-7ab832f7d394",
   "metadata": {},
   "source": [
    "#### 12장 K-평균 군집화"
   ]
  },
  {
   "cell_type": "code",
   "execution_count": null,
   "id": "44db3aee-4907-447d-834b-c26603aea901",
   "metadata": {
    "tags": []
   },
   "outputs": [],
   "source": [
    "file_url= 'https://raw.githubusercontent.com/musthave-ML10/data_source/main/example_cluster.csv'\n",
    "data=pd.read_csv(file_url)"
   ]
  },
  {
   "cell_type": "code",
   "execution_count": null,
   "id": "a8ca8f51-d39f-49a3-b619-6800daf4fe01",
   "metadata": {
    "tags": []
   },
   "outputs": [],
   "source": [
    "data"
   ]
  },
  {
   "cell_type": "code",
   "execution_count": null,
   "id": "adec503a-e942-466b-9d3b-8f9b00fa2636",
   "metadata": {
    "tags": []
   },
   "outputs": [],
   "source": [
    "sns.scatterplot(x='var_1',y='var_2', data=data)"
   ]
  },
  {
   "cell_type": "code",
   "execution_count": null,
   "id": "7409a35e-f961-4c76-b148-a062310192b6",
   "metadata": {
    "tags": []
   },
   "outputs": [],
   "source": [
    "from sklearn.cluster import KMeans"
   ]
  },
  {
   "cell_type": "code",
   "execution_count": null,
   "id": "c59c6582-7a27-4bfa-a7b8-9da8ca09abf9",
   "metadata": {
    "tags": []
   },
   "outputs": [],
   "source": [
    "kmeans_model=KMeans(n_clusters=3, random_state=100)\n",
    "kmeans_model.fit(data)\n",
    "kmeans_model.predict(data)"
   ]
  },
  {
   "cell_type": "code",
   "execution_count": null,
   "id": "70a1ed2a-7489-4d0b-afad-ef981f31a65a",
   "metadata": {
    "tags": []
   },
   "outputs": [],
   "source": [
    "data['label']=kmeans_model.predict(data)"
   ]
  },
  {
   "cell_type": "code",
   "execution_count": null,
   "id": "9973fc48-2e07-4fdf-bc4e-c2688cd08854",
   "metadata": {
    "tags": []
   },
   "outputs": [],
   "source": [
    "sns.scatterplot(x='var_1',y='var_2', data=data, hue='label', palette='rainbow')"
   ]
  },
  {
   "cell_type": "code",
   "execution_count": null,
   "id": "c4339b85-d5e0-45cc-86ff-aa953bf7dcef",
   "metadata": {
    "tags": []
   },
   "outputs": [],
   "source": [
    "from notebook.services.config import ConfigManager\n",
    "c = ConfigManager()\n",
    "c.update('notebook', {\"CodeCell\": {\"cm_config\": {\"autoCloseBrackets\": True}}})"
   ]
  },
  {
   "cell_type": "code",
   "execution_count": null,
   "id": "39ff5590-e879-465c-baa5-03048036b14e",
   "metadata": {},
   "outputs": [],
   "source": [
    "kmeans_model.inertia_"
   ]
  },
  {
   "cell_type": "code",
   "execution_count": null,
   "id": "07f4d4da-4726-4955-b0e3-ee5529481b64",
   "metadata": {},
   "outputs": [],
   "source": [
    "# 엘보우 기법(elbow_method)\n",
    "distance=[]\n",
    "for k in range(2,10):\n",
    "    k_model=KMeans(n_clusters=k)\n",
    "    k_model.fit(data)\n",
    "    distance.append(k_model.inertia_)"
   ]
  },
  {
   "cell_type": "code",
   "execution_count": null,
   "id": "93a43a21-669b-492c-be63-91be0caca7b8",
   "metadata": {},
   "outputs": [],
   "source": [
    "sns.lineplot(x=range(2,10), y=distance)"
   ]
  },
  {
   "cell_type": "code",
   "execution_count": null,
   "id": "29334bc5-01d0-4e15-9ed5-6b27c96d34e7",
   "metadata": {},
   "outputs": [],
   "source": [
    "# 고객 데이터\n",
    "file_url='https://raw.githubusercontent.com/musthave-ML10/data_source/main/customer.csv'\n",
    "data=pd.read_csv(file_url)\n",
    "data.head()"
   ]
  },
  {
   "cell_type": "code",
   "execution_count": null,
   "id": "9199ba7d-e626-4318-a826-a1a8e2136d6b",
   "metadata": {},
   "outputs": [],
   "source": [
    "data.info()"
   ]
  },
  {
   "cell_type": "code",
   "execution_count": null,
   "id": "36f97e2d-b708-4ced-8917-afacb68657ee",
   "metadata": {},
   "outputs": [],
   "source": [
    "data.cc_num.nunique()"
   ]
  },
  {
   "cell_type": "code",
   "execution_count": null,
   "id": "31e51c85-d031-45cd-a7cb-aef5f2282b33",
   "metadata": {},
   "outputs": [],
   "source": [
    "data.category.nunique()"
   ]
  },
  {
   "cell_type": "code",
   "execution_count": null,
   "id": "70e5be8b-21fe-4688-8b34-7ecfbbefef98",
   "metadata": {},
   "outputs": [],
   "source": [
    "data_dummy=pd.get_dummies(data, columns=['category'])\n",
    "data_dummy.head()"
   ]
  },
  {
   "cell_type": "code",
   "execution_count": null,
   "id": "8dc9897e-fb8b-4bc2-a365-f1b762d9c2e1",
   "metadata": {},
   "outputs": [],
   "source": [
    "cat_list=data_dummy.columns[2:]\n",
    "cat_list"
   ]
  },
  {
   "cell_type": "code",
   "execution_count": null,
   "id": "2e026294-c16e-4ebf-b809-7aaa712ce48d",
   "metadata": {
    "tags": []
   },
   "outputs": [],
   "source": [
    "for i in cat_list:\n",
    "    data_dummy[i]=data_dummy[i]*data_dummy['amt']"
   ]
  },
  {
   "cell_type": "code",
   "execution_count": null,
   "id": "4185e69b-ea54-43d8-85ff-05ca8f1520fb",
   "metadata": {
    "tags": []
   },
   "outputs": [],
   "source": [
    "data_dummy"
   ]
  },
  {
   "cell_type": "code",
   "execution_count": null,
   "id": "95a73efb-d358-44e0-8c55-6ce4722f2b84",
   "metadata": {
    "tags": []
   },
   "outputs": [],
   "source": [
    "data_agg=data_dummy.groupby('cc_num').sum()\n",
    "data_agg"
   ]
  },
  {
   "cell_type": "code",
   "execution_count": null,
   "id": "60a82d28-7c2b-48bc-8cfc-226e8191fece",
   "metadata": {
    "tags": []
   },
   "outputs": [],
   "source": [
    "# scaling-정규화\n",
    "from sklearn.preprocessing import StandardScaler\n",
    "scaler=StandardScaler()\n",
    "scaled_df=pd.DataFrame(scaler.fit_transform(data_agg), columns=data_agg.columns, index=data_agg.index)\n",
    "scaled_df"
   ]
  },
  {
   "cell_type": "code",
   "execution_count": null,
   "id": "5cf09a57-c199-4012-b795-0407ca026e74",
   "metadata": {
    "tags": []
   },
   "outputs": [],
   "source": [
    "# elbow 실시\n",
    "distance=[]\n",
    "\n",
    "for k in range(2,10):\n",
    "    k_model=KMeans(n_clusters=k)\n",
    "    k_model.fit_transform(scaled_df)\n",
    "    labels=k_model.predict(scaled_df)\n",
    "    distance.append(k_model.inertia_)"
   ]
  },
  {
   "cell_type": "code",
   "execution_count": null,
   "id": "c78ccb9a-13bf-4427-b3ba-5e101d654369",
   "metadata": {
    "tags": []
   },
   "outputs": [],
   "source": [
    "sns.lineplot(x=range(2,10), y=distance)"
   ]
  },
  {
   "cell_type": "code",
   "execution_count": null,
   "id": "0b579cea-73a0-4f38-9273-5317bcf4704f",
   "metadata": {
    "tags": []
   },
   "outputs": [],
   "source": [
    "# elbow 가 원만하게 떨어져 예측 어려움 -> 실루엣 계수(silhouette_score) 구하기\n",
    "from sklearn.metrics import silhouette_score\n",
    "\n",
    "silhouette=[]\n",
    "for k in range(2,10):\n",
    "    k_model=KMeans(n_clusters=k)\n",
    "    k_model.fit_transform(scaled_df)\n",
    "    labels=k_model.predict(scaled_df)\n",
    "    silhouette.append(silhouette_score(scaled_df, labels))\n",
    "sns.lineplot(x=range(2,10), y=silhouette)"
   ]
  },
  {
   "cell_type": "code",
   "execution_count": null,
   "id": "b9d12eb9-9ed1-4c13-9ebf-45dad8ef7bc9",
   "metadata": {
    "tags": []
   },
   "outputs": [],
   "source": [
    "# 최종 예측모델 및 결과해석\n",
    "k_model=KMeans(n_clusters=4)\n",
    "k_model.fit(scaled_df)\n",
    "labels=k_model.predict(scaled_df)\n",
    "\n",
    "scaled_df['label']=labels\n",
    "scaled_df_mean=scaled_df.groupby('label').mean()\n",
    "scaled_df_count=scaled_df.groupby('label').count()['category_travel']"
   ]
  },
  {
   "cell_type": "code",
   "execution_count": null,
   "id": "64637e0e-84e2-4e60-a95d-3a89d81f2d7e",
   "metadata": {
    "tags": []
   },
   "outputs": [],
   "source": [
    "scaled_df_mean"
   ]
  },
  {
   "cell_type": "code",
   "execution_count": null,
   "id": "a12aa87f-bb24-4b84-93eb-70d4ca8f9efa",
   "metadata": {
    "tags": []
   },
   "outputs": [],
   "source": [
    "scaled_df_count=scaled_df_count.rename('count')"
   ]
  },
  {
   "cell_type": "code",
   "execution_count": null,
   "id": "6e6b1947-2c6d-4800-bb40-0a0b0dbf4285",
   "metadata": {
    "tags": []
   },
   "outputs": [],
   "source": [
    "scaled_df_all=scaled_df_mean.join(scaled_df_count)\n",
    "scaled_df_all"
   ]
  },
  {
   "cell_type": "markdown",
   "id": "55b91f9f-5409-49f3-aaf7-4b18872e3bee",
   "metadata": {},
   "source": [
    "#### 13장 차원 축소: 주성분분석(PCA)"
   ]
  },
  {
   "cell_type": "code",
   "execution_count": null,
   "id": "a954d3cb-39e6-46e7-9b62-4e7df6560c44",
   "metadata": {
    "tags": []
   },
   "outputs": [],
   "source": [
    "file_url= 'https://raw.githubusercontent.com/musthave-ML10/data_source/main/customer_pca.csv'\n",
    "data=pd.read_csv(file_url)\n",
    "data"
   ]
  },
  {
   "cell_type": "code",
   "execution_count": null,
   "id": "2825586b-fe76-465c-91eb-544f08c74e95",
   "metadata": {
    "tags": []
   },
   "outputs": [],
   "source": [
    "# 1. 종속변수와 독립변수의 분리\n",
    "y= data['label']\n",
    "X=data.drop('label', axis=1)\n",
    "print(y.shape, X.shape)"
   ]
  },
  {
   "cell_type": "code",
   "execution_count": null,
   "id": "3bce6101-a3d8-498c-953c-3713c209cc77",
   "metadata": {
    "tags": []
   },
   "outputs": [],
   "source": [
    "from sklearn.decomposition import PCA\n",
    "\n",
    "pca_model=PCA(n_components=2)\n",
    "data_pca=pca_model.fit_transform(X)\n",
    "data_pca"
   ]
  },
  {
   "cell_type": "code",
   "execution_count": null,
   "id": "4cba1a25-6809-47f6-95f9-56cde277b1ea",
   "metadata": {
    "tags": []
   },
   "outputs": [],
   "source": [
    "data_pca=pd.DataFrame(data_pca, columns=['PC1','PC2'])\n",
    "data_pca=data_pca.join(y)"
   ]
  },
  {
   "cell_type": "code",
   "execution_count": null,
   "id": "17e35c82-e43b-4d6b-b12a-f7b6d75f3c80",
   "metadata": {
    "tags": []
   },
   "outputs": [],
   "source": [
    "data_pca.head()"
   ]
  },
  {
   "cell_type": "code",
   "execution_count": null,
   "id": "1ac61d43-16f2-45a6-aff2-0038d56f2d29",
   "metadata": {
    "tags": []
   },
   "outputs": [],
   "source": [
    "sns.scatterplot(x='PC1',y='PC2',data=data_pca, hue='label', palette='rainbow')"
   ]
  },
  {
   "cell_type": "code",
   "execution_count": null,
   "id": "9f6a0eb9-482e-41bd-9cbb-d1a7f83bc420",
   "metadata": {
    "tags": []
   },
   "outputs": [],
   "source": [
    "pca_model.components_"
   ]
  },
  {
   "cell_type": "code",
   "execution_count": null,
   "id": "8da1fd79-6d34-4780-913b-99b33150e9fd",
   "metadata": {
    "tags": []
   },
   "outputs": [],
   "source": [
    "df_data=pd.DataFrame(pca_model.components_, columns=X.columns)\n",
    "df_data"
   ]
  },
  {
   "cell_type": "code",
   "execution_count": null,
   "id": "85699697-52b7-4a19-a506-0497ea8b13b9",
   "metadata": {
    "tags": []
   },
   "outputs": [],
   "source": [
    "sns.heatmap(df_data, cmap='coolwarm')"
   ]
  },
  {
   "cell_type": "code",
   "execution_count": null,
   "id": "c2d095cc-44a6-4f0f-b910-5cc3f6301f10",
   "metadata": {},
   "outputs": [],
   "source": [
    "#2 차원축소로 학습시간 줄이고 성능향상시키기 : 지도학습에서 사용"
   ]
  },
  {
   "cell_type": "code",
   "execution_count": null,
   "id": "2e0164e9-f00e-4e2f-a92a-daf07081c63d",
   "metadata": {
    "tags": []
   },
   "outputs": [],
   "source": [
    "file_url= 'https://media.githubusercontent.com/media/musthave-ML10/data_source/main/anonymous.csv'\n",
    "data=pd.read_csv(file_url)"
   ]
  },
  {
   "cell_type": "code",
   "execution_count": null,
   "id": "6314c42e-413b-4942-877e-dfdaa1975c6f",
   "metadata": {
    "tags": []
   },
   "outputs": [],
   "source": [
    "data.head()"
   ]
  },
  {
   "cell_type": "code",
   "execution_count": null,
   "id": "f0047747-e6cc-44e7-baf4-9c7db0f414c3",
   "metadata": {
    "tags": []
   },
   "outputs": [],
   "source": [
    "from sklearn.model_selection import train_test_split\n",
    "\n",
    "X_train, X_test, y_train, y_test=train_test_split(data.drop('class',axis=1),data['class'], test_size=0.2, random_state=100)\n",
    "scale=StandardScaler()\n",
    "scale.fit(X_train)\n",
    "scaled_X_train=scale.transform(X_train)\n",
    "scaled_X_test=scale.transform(X_test)\n"
   ]
  },
  {
   "cell_type": "code",
   "execution_count": null,
   "id": "8637062f-e46d-45bd-94f6-19183779c0d1",
   "metadata": {
    "tags": []
   },
   "outputs": [],
   "source": [
    "from sklearn.ensemble import RandomForestClassifier\n",
    "model_rf=RandomForestClassifier(random_state=100)\n",
    "model_rf.fit(scaled_X_train, y_train)\n",
    "\n",
    "from sklearn.metrics import accuracy_score, roc_auc_score\n",
    "pred_1=model_rf.predict(scaled_X_test)\n",
    "accuracy_score(y_test,pred_1)"
   ]
  },
  {
   "cell_type": "code",
   "execution_count": null,
   "id": "30e03eef-6aea-4921-816f-e60147bf6be9",
   "metadata": {},
   "outputs": [],
   "source": []
  },
  {
   "cell_type": "markdown",
   "id": "b42a2657-bb06-416a-9c43-253aca6fc519",
   "metadata": {},
   "source": [
    "#### 선형회귀 -지도학습"
   ]
  },
  {
   "cell_type": "code",
   "execution_count": null,
   "id": "5e165676-b249-4882-b035-faa60a102349",
   "metadata": {
    "tags": []
   },
   "outputs": [],
   "source": [
    "# 보헝료 예측\n",
    "file_url= 'https://media.githubusercontent.com/media/musthave-ML10/data_source/main/insurance.csv'\n",
    "data=pd.read_csv(file_url)\n",
    "data.info()"
   ]
  },
  {
   "cell_type": "code",
   "execution_count": null,
   "id": "64f01e13-d335-4fc6-b6f1-a8a564961dee",
   "metadata": {
    "tags": []
   },
   "outputs": [],
   "source": [
    "round(data.describe(), 2)"
   ]
  },
  {
   "cell_type": "code",
   "execution_count": null,
   "id": "e63638f1-58db-4824-a1de-27650aee963f",
   "metadata": {
    "tags": []
   },
   "outputs": [],
   "source": [
    "X=data.drop('charges', axis=1)\n",
    "y=data['charges']\n",
    "\n",
    "X_train,X_test, y_train,y_test=train_test_split(X,y,test_size=0.2, random_state=100)\n",
    "\n",
    "print(X_train.shape,X_test.shape,y_train.shape)"
   ]
  },
  {
   "cell_type": "code",
   "execution_count": null,
   "id": "9fd3d570-14fb-46d1-9419-724cc7cde5ac",
   "metadata": {
    "tags": []
   },
   "outputs": [],
   "source": [
    "from sklearn.linear_model import LinearRegression\n",
    "model=LinearRegression()\n",
    "model.fit(X_train,y_train)\n",
    "pred=model.predict(X_test)"
   ]
  },
  {
   "cell_type": "code",
   "execution_count": null,
   "id": "cb81a5d2-6ce7-4b7f-babc-6939a8852348",
   "metadata": {
    "tags": []
   },
   "outputs": [],
   "source": [
    "# 평가하기 1\n",
    "comp=pd.DataFrame({'actual' : y_test, 'pred': pred})\n",
    "comp"
   ]
  },
  {
   "cell_type": "code",
   "execution_count": null,
   "id": "7cfcf997-4df5-4a7b-b886-6763366667ef",
   "metadata": {
    "tags": []
   },
   "outputs": [],
   "source": [
    "#방법2 그래프\n",
    "sns.scatterplot(x='actual', y='pred', data=comp)"
   ]
  },
  {
   "cell_type": "code",
   "execution_count": null,
   "id": "12befaf3-ee57-42c9-ac8b-2d3a7df932b9",
   "metadata": {
    "tags": []
   },
   "outputs": [],
   "source": [
    "# 3. rmse 평균제곱근 편차\n",
    "\n",
    "from sklearn.metrics import mean_absolute_error, mean_squared_error, r2_score\n",
    "mean_squared_error(y_test, pred, squared=False)"
   ]
  },
  {
   "cell_type": "code",
   "execution_count": null,
   "id": "4ae23925-1fb6-4a70-a10c-f916e5f033ec",
   "metadata": {
    "tags": []
   },
   "outputs": [],
   "source": [
    "r2_score(y_test, pred)"
   ]
  },
  {
   "cell_type": "code",
   "execution_count": null,
   "id": "66cfa41f-ed85-412b-ad3f-d22b247bccd2",
   "metadata": {
    "tags": []
   },
   "outputs": [],
   "source": [
    "model.coef_"
   ]
  },
  {
   "cell_type": "code",
   "execution_count": null,
   "id": "b70fdcf8-4a47-47af-921d-e0d3c76f2397",
   "metadata": {
    "tags": []
   },
   "outputs": [],
   "source": [
    "model.intercept_"
   ]
  },
  {
   "cell_type": "code",
   "execution_count": null,
   "id": "fd088471-74ce-4cc8-81aa-16269e49c571",
   "metadata": {
    "tags": []
   },
   "outputs": [],
   "source": [
    "pd.Series(model.coef_, index=X.columns)"
   ]
  },
  {
   "cell_type": "code",
   "execution_count": null,
   "id": "2fd9ecdb-f221-46c2-ad57-706bb6d25b64",
   "metadata": {},
   "outputs": [],
   "source": [
    "#### 로지스틱 회귀-지도"
   ]
  },
  {
   "cell_type": "code",
   "execution_count": null,
   "id": "9cfa8bc3-59a3-48e1-a0f0-528665a6172c",
   "metadata": {
    "tags": []
   },
   "outputs": [],
   "source": [
    "file_url= 'https://media.githubusercontent.com/media/musthave-ML10/data_source/main/titanic.csv'\n",
    "data=pd.read_csv(file_url)\n",
    "data.head()"
   ]
  },
  {
   "cell_type": "code",
   "execution_count": null,
   "id": "46120619-bd99-41d7-a844-2963dda470f5",
   "metadata": {
    "tags": []
   },
   "outputs": [],
   "source": [
    "data.info()"
   ]
  },
  {
   "cell_type": "code",
   "execution_count": null,
   "id": "52c6ce21-7afa-4aed-a4e3-8d896164cdac",
   "metadata": {
    "tags": []
   },
   "outputs": [],
   "source": [
    "data.corr(numeric_only=True)"
   ]
  },
  {
   "cell_type": "code",
   "execution_count": null,
   "id": "40d273bb-cec4-40cd-975b-3cdbdbdd89bb",
   "metadata": {
    "tags": []
   },
   "outputs": [],
   "source": [
    "sns.heatmap(data.corr(numeric_only=True), cmap='coolwarm', vmin=-1, vmax=1, annot=True)\n"
   ]
  },
  {
   "cell_type": "code",
   "execution_count": null,
   "id": "2582222a-169f-4d93-8093-4935f468e800",
   "metadata": {
    "tags": []
   },
   "outputs": [],
   "source": [
    "data=data.drop(['Name','Ticket'],axis=1)\n",
    "data"
   ]
  },
  {
   "cell_type": "code",
   "execution_count": null,
   "id": "9f868800-fedd-420c-87af-960c897780b4",
   "metadata": {
    "tags": []
   },
   "outputs": [],
   "source": [
    "data=pd.get_dummies(data, columns=['Sex','Embarked'], drop_first=True)"
   ]
  },
  {
   "cell_type": "code",
   "execution_count": null,
   "id": "b543ce2a-1c78-4109-989b-8cf3bb324ac8",
   "metadata": {
    "tags": []
   },
   "outputs": [],
   "source": [
    "X=data.drop('Survived',axis=1)\n",
    "y=data['Survived']\n",
    "\n",
    "X_train, X_test, y_train,y_test=train_test_split(X,y, test_size=0.2, random_state=100)\n",
    "print(X_train.shape, y_train.shape,y_test.shape)"
   ]
  },
  {
   "cell_type": "code",
   "execution_count": null,
   "id": "c237eee1-0323-4c46-9406-60077f442b5a",
   "metadata": {
    "tags": []
   },
   "outputs": [],
   "source": [
    "from sklearn.linear_model import LogisticRegression\n",
    "model=LogisticRegression()\n",
    "model.fit(X_train,y_train)\n",
    "pred=model.predict(X_test)\n",
    "accuracy_score(y_test,pred)"
   ]
  },
  {
   "cell_type": "code",
   "execution_count": null,
   "id": "c892beb6-00d2-4c9c-8539-f7f1e7bbf93a",
   "metadata": {
    "tags": []
   },
   "outputs": [],
   "source": [
    "model.coef_"
   ]
  },
  {
   "cell_type": "code",
   "execution_count": null,
   "id": "7be0fcae-77e8-4764-82e5-e269191b5b47",
   "metadata": {
    "tags": []
   },
   "outputs": [],
   "source": [
    "pd.Series(model.coef_[0], index=X.columns)"
   ]
  },
  {
   "cell_type": "code",
   "execution_count": null,
   "id": "61cdf7b2-ed00-49c4-bb95-488630fa2432",
   "metadata": {
    "tags": []
   },
   "outputs": [],
   "source": [
    "# 다중공선성 줄이기: 상관성 많은 변수합치기\n",
    "\n",
    "data['family']=data['SibSp'] +  data['Parch']\n",
    "data.drop(['SibSp', 'Parch'], axis=1, inplace=True)\n",
    "data.head()"
   ]
  },
  {
   "cell_type": "code",
   "execution_count": null,
   "id": "4614a491-4c65-4f4a-b1ee-10226527bebb",
   "metadata": {
    "tags": []
   },
   "outputs": [],
   "source": [
    "X=data.drop('Survived', axis=1)\n",
    "y=data['Survived']"
   ]
  },
  {
   "cell_type": "code",
   "execution_count": null,
   "id": "aaf53d8e-243e-4eeb-af7c-6fcf23940974",
   "metadata": {
    "tags": []
   },
   "outputs": [],
   "source": [
    "X_train,X_test, y_train, y_test=train_test_split(X,y, test_size=0.2, random_state=100)\n",
    "model=LogisticRegression()\n",
    "model.fit(X_train,y_train)\n",
    "pred=model.predict(X_test)\n",
    "accuracy_score(y_test, pred)"
   ]
  },
  {
   "cell_type": "markdown",
   "id": "febd0647-c822-4281-965f-eb18b22ff34d",
   "metadata": {},
   "source": [
    "#### K-최근접이웃(KNN)"
   ]
  },
  {
   "cell_type": "code",
   "execution_count": null,
   "id": "b724ffb5-b677-4f41-bad6-5da0bb395b34",
   "metadata": {
    "tags": []
   },
   "outputs": [],
   "source": [
    "file_url= 'https://media.githubusercontent.com/media/musthave-ML10/data_source/main/wine.csv'\n",
    "data=pd.read_csv(file_url)\n",
    "data.head()"
   ]
  },
  {
   "cell_type": "code",
   "execution_count": null,
   "id": "0e048cd4-8b16-48ad-bbff-1de8973d7ed0",
   "metadata": {
    "tags": []
   },
   "outputs": [],
   "source": [
    "data.info()"
   ]
  },
  {
   "cell_type": "code",
   "execution_count": null,
   "id": "8626b0db-de39-4316-8b22-fec75770253d",
   "metadata": {
    "tags": []
   },
   "outputs": [],
   "source": [
    "data['class'].value_counts()"
   ]
  },
  {
   "cell_type": "code",
   "execution_count": null,
   "id": "855209a7-c998-4a67-ac2e-8ed6ea2d3d27",
   "metadata": {
    "tags": []
   },
   "outputs": [],
   "source": [
    "sns.barplot(x=data['class'].value_counts().index, y=data['class'].value_counts())"
   ]
  },
  {
   "cell_type": "code",
   "execution_count": null,
   "id": "706da863-9049-4ac6-9faa-4470a3c024ba",
   "metadata": {
    "tags": []
   },
   "outputs": [],
   "source": [
    "data.isna().sum()"
   ]
  },
  {
   "cell_type": "code",
   "execution_count": null,
   "id": "a8a27578-d79e-4f51-a647-cb90bb55d736",
   "metadata": {
    "tags": []
   },
   "outputs": [],
   "source": [
    "data.fillna(data.median(), inplace=True)\n",
    "data.isna().sum()"
   ]
  },
  {
   "cell_type": "code",
   "execution_count": null,
   "id": "afbf88c0-6f42-4cef-b2bd-ecbaf9b1fb91",
   "metadata": {
    "tags": []
   },
   "outputs": [],
   "source": [
    "from sklearn.preprocessing import StandardScaler, MinMaxScaler, RobustScaler\n",
    "\n",
    "st_scaler=StandardScaler()\n",
    "st_scaler.fit(data)\n",
    "st_scaled=st_scaler.transform(data)\n",
    "st_scaled"
   ]
  },
  {
   "cell_type": "code",
   "execution_count": null,
   "id": "fe9eec46-5e25-41c0-a08b-3b0f48b3617c",
   "metadata": {
    "tags": []
   },
   "outputs": [],
   "source": [
    "st_scaled=pd.DataFrame(st_scaled, columns=data.columns)"
   ]
  },
  {
   "cell_type": "code",
   "execution_count": null,
   "id": "b439c696-8807-4426-9874-e87851f8b2a4",
   "metadata": {
    "tags": []
   },
   "outputs": [],
   "source": [
    "round(st_scaled.describe(),2)"
   ]
  },
  {
   "cell_type": "code",
   "execution_count": null,
   "id": "27bd557a-cf6f-4cfa-973e-da72263be8c7",
   "metadata": {
    "tags": []
   },
   "outputs": [],
   "source": []
  },
  {
   "cell_type": "code",
   "execution_count": null,
   "id": "e2b8b562-3581-42fd-a7d1-aed3b9438826",
   "metadata": {
    "tags": []
   },
   "outputs": [],
   "source": [
    "rb_scaler=RobustScaler()\n",
    "rb_scaled=rb_scaler.fit_transform(data)\n",
    "rb_scaled=pd.DataFrame(rb_scaled, columns=data.columns)"
   ]
  },
  {
   "cell_type": "code",
   "execution_count": null,
   "id": "c5afb412-1224-4fa0-be60-80c3a9b14f9b",
   "metadata": {
    "tags": []
   },
   "outputs": [],
   "source": [
    "rb_scaled.head()"
   ]
  },
  {
   "cell_type": "code",
   "execution_count": null,
   "id": "9158f887-04c9-4811-b8fe-78f1e7d173a6",
   "metadata": {
    "tags": []
   },
   "outputs": [],
   "source": [
    "rb_scaler=MinMaxScaler()\n",
    "rb_scaled=rb_scaler.fit_transform(data)\n",
    "rb_scaled=pd.DataFrame(rb_scaled, columns=data.columns)\n",
    "rb_scaled.head()"
   ]
  },
  {
   "cell_type": "code",
   "execution_count": null,
   "id": "9458408c-ed67-490c-8cf9-846c6c5e37c1",
   "metadata": {},
   "outputs": [],
   "source": []
  },
  {
   "cell_type": "code",
   "execution_count": null,
   "id": "3b8d7df1-c7e3-4e44-a942-53bd27a2e166",
   "metadata": {
    "tags": []
   },
   "outputs": [],
   "source": [
    "X_train,X_test, y_train, y_test=train_test_split(data.drop(['class'], axis=1),data['class'], test_size=0.2, random_state=100)\n",
    "mm_scaler=MinMaxScaler()\n",
    "mm_scaler.fit(X_train)\n",
    "X_train_scaled=mm_scaler.transform(X_train)\n",
    "X_test_scaled=mm_scaler.transform(X_test)\n",
    "\n",
    "from sklearn.neighbors import KNeighborsClassifier\n",
    "knn=KNeighborsClassifier()\n",
    "knn.fit(X_train_scaled, y_train)\n",
    "pred=knn.predict(X_test_scaled)\n",
    "accuracy_score(y_test, pred)\n"
   ]
  },
  {
   "cell_type": "code",
   "execution_count": null,
   "id": "e8645746-cbbf-4c50-8438-4f7f703ccd7a",
   "metadata": {
    "tags": []
   },
   "outputs": [],
   "source": [
    "scores=[]\n",
    "for i, k in enumerate(range(1,21)):\n",
    "    knn=KNeighborsClassifier(n_neighbors=k)\n",
    "    knn.fit(X_train_scaled, y_train)\n",
    "    pred=knn.predict(X_test_scaled)\n",
    "    acc=accuracy_score(y_test, pred)\n",
    "    scores.append(acc)"
   ]
  },
  {
   "cell_type": "code",
   "execution_count": null,
   "id": "c8a44897-5a13-4e25-bc50-677ce9778018",
   "metadata": {
    "tags": []
   },
   "outputs": [],
   "source": [
    "sns.lineplot(x=range(1,21), y=scores)"
   ]
  },
  {
   "cell_type": "code",
   "execution_count": null,
   "id": "cf920703-146c-455e-b26e-359524db835e",
   "metadata": {
    "tags": []
   },
   "outputs": [],
   "source": [
    "knn=KNeighborsClassifier(n_neighbors=13)\n",
    "knn.fit(X_train_scaled, y_train)\n",
    "pred=knn.predict(X_test_scaled)\n",
    "accuracy_score(y_test, pred)"
   ]
  },
  {
   "cell_type": "markdown",
   "id": "18e9b7aa-50cc-4ef2-b0e5-41250ecb1da0",
   "metadata": {},
   "source": [
    "#### 8장 결정트리"
   ]
  },
  {
   "cell_type": "code",
   "execution_count": null,
   "id": "bbda2c95-5596-4990-9540-2ca800ad6d2f",
   "metadata": {
    "tags": []
   },
   "outputs": [],
   "source": [
    "file_url= 'https://media.githubusercontent.com/media/musthave-ML10/data_source/main/salary.csv'\n",
    "data=pd.read_csv(file_url, skipinitialspace=True)"
   ]
  },
  {
   "cell_type": "code",
   "execution_count": null,
   "id": "cba050b8-8f2d-43d1-b78f-c1cfee4b6fd2",
   "metadata": {
    "tags": []
   },
   "outputs": [],
   "source": [
    "data['class'].unique()"
   ]
  },
  {
   "cell_type": "code",
   "execution_count": null,
   "id": "dd43db7c-82ac-4e7a-8e12-07790a243d0d",
   "metadata": {
    "tags": []
   },
   "outputs": [],
   "source": [
    "data.info()"
   ]
  },
  {
   "cell_type": "code",
   "execution_count": null,
   "id": "1128bef0-3796-48b6-ae41-67167af05e09",
   "metadata": {
    "tags": []
   },
   "outputs": [],
   "source": [
    "data.describe(include='all')"
   ]
  },
  {
   "cell_type": "code",
   "execution_count": null,
   "id": "057b30a0-dfd1-49b9-97a9-4d5a5a54abce",
   "metadata": {
    "tags": []
   },
   "outputs": [],
   "source": [
    "#종속변수 정리\n",
    "data['class']=data['class'].map({'<=50K': 0, '>50k': 1})"
   ]
  },
  {
   "cell_type": "code",
   "execution_count": null,
   "id": "793ae104-78c8-4d5d-b53d-83092e161175",
   "metadata": {
    "tags": []
   },
   "outputs": [],
   "source": [
    "data['class']=data['class'].apply(lambda x:0 if x == '<=50K' else 1)"
   ]
  },
  {
   "cell_type": "code",
   "execution_count": null,
   "id": "0386ba46-2c73-4d2a-be48-a264bc3410b2",
   "metadata": {
    "tags": []
   },
   "outputs": [],
   "source": [
    "from sklearn.preprocessing import LabelEncoder\n",
    "lbe=LabelEncoder()\n",
    "data['class']=lbe.fit_transform(data['class'])"
   ]
  },
  {
   "cell_type": "code",
   "execution_count": null,
   "id": "11d6cfbf-374c-48fc-8dd5-70a1075cfa01",
   "metadata": {
    "tags": []
   },
   "outputs": [],
   "source": [
    "obj_list=[]\n",
    "for i in data.columns:\n",
    "    if data[i].dtype == 'object':\n",
    "        obj_list.append(i)"
   ]
  },
  {
   "cell_type": "code",
   "execution_count": null,
   "id": "c9e027c3-7729-4db3-92fa-57c9d623466b",
   "metadata": {
    "tags": []
   },
   "outputs": [],
   "source": [
    "obj_list"
   ]
  },
  {
   "cell_type": "code",
   "execution_count": null,
   "id": "487051db-11af-4622-929a-61124b6fc708",
   "metadata": {
    "tags": []
   },
   "outputs": [],
   "source": [
    "for i in obj_list:\n",
    "    print(i,data[i].nunique())"
   ]
  },
  {
   "cell_type": "code",
   "execution_count": null,
   "id": "f3fdad15-ff33-4d92-8c85-4620e4b3dd60",
   "metadata": {
    "tags": []
   },
   "outputs": [],
   "source": [
    "for i in obj_list:\n",
    "    if data[i].nunique() >= 10:\n",
    "        print(i,data[i].nunique())"
   ]
  },
  {
   "cell_type": "code",
   "execution_count": null,
   "id": "c9d690c2-8bf1-498b-ba7b-de520adeef50",
   "metadata": {
    "tags": []
   },
   "outputs": [],
   "source": [
    "data['education'].value_counts()"
   ]
  },
  {
   "cell_type": "code",
   "execution_count": null,
   "id": "45949ac4-9046-4127-a88d-759b2e1eeda8",
   "metadata": {
    "tags": []
   },
   "outputs": [],
   "source": [
    "data.drop('education',axis=1, inplace=True)"
   ]
  },
  {
   "cell_type": "code",
   "execution_count": null,
   "id": "48d50f7b-fa67-42ed-b9fc-609108e78806",
   "metadata": {
    "tags": []
   },
   "outputs": [],
   "source": [
    "data.info()"
   ]
  },
  {
   "cell_type": "code",
   "execution_count": null,
   "id": "54c6d836-d35d-41b9-ab57-ad12427d3b50",
   "metadata": {
    "tags": []
   },
   "outputs": [],
   "source": [
    "data['native-country'].value_counts()"
   ]
  },
  {
   "cell_type": "code",
   "execution_count": null,
   "id": "c57d28e8-5a3c-464f-9cad-2d6347f191b8",
   "metadata": {
    "tags": []
   },
   "outputs": [],
   "source": [
    "contry_group=data.groupby('native-country')['class'].mean()"
   ]
  },
  {
   "cell_type": "code",
   "execution_count": null,
   "id": "891cc327-c2f0-4ca2-a382-764b01e3fcbc",
   "metadata": {
    "tags": []
   },
   "outputs": [],
   "source": [
    "contry_group.reset_index()"
   ]
  },
  {
   "cell_type": "code",
   "execution_count": null,
   "id": "bc0e81a0-7026-4926-a4e5-adf1b3171f02",
   "metadata": {
    "tags": []
   },
   "outputs": [],
   "source": [
    "data=data.merge(contry_group,on='native-country',how='left')"
   ]
  },
  {
   "cell_type": "code",
   "execution_count": null,
   "id": "3e6084f8-d418-478b-9ed0-6dc3d2d67bd2",
   "metadata": {
    "tags": []
   },
   "outputs": [],
   "source": []
  },
  {
   "cell_type": "markdown",
   "id": "40087d94-62aa-4a9f-b7eb-1e7c8ac038ba",
   "metadata": {
    "tags": []
   },
   "source": [
    "#### 9장 랜덤포레스트"
   ]
  },
  {
   "cell_type": "code",
   "execution_count": null,
   "id": "053bd7d2-8c07-44ea-851e-0b5fa0db45ce",
   "metadata": {},
   "outputs": [],
   "source": [
    "file_url= 'https://media.githubusercontent.com/media/musthave-ML10/data_source/main/car.csv'\n",
    "data=pd.read_csv(file_url, skipinitialspace=True)"
   ]
  },
  {
   "cell_type": "code",
   "execution_count": null,
   "id": "8870f0cd-429a-481f-ad62-91e673181d94",
   "metadata": {},
   "outputs": [],
   "source": [
    "data.head()"
   ]
  },
  {
   "cell_type": "code",
   "execution_count": null,
   "id": "89c952d7-364c-463e-9ed1-d41e0282ac8a",
   "metadata": {},
   "outputs": [],
   "source": [
    "data.info()"
   ]
  },
  {
   "cell_type": "code",
   "execution_count": null,
   "id": "a3526852-ac28-4857-9650-3db4fee64049",
   "metadata": {
    "tags": []
   },
   "outputs": [],
   "source": [
    "print(round(data.describe(),2))"
   ]
  },
  {
   "cell_type": "code",
   "execution_count": null,
   "id": "9399bde9-7b97-4a0e-861d-cc1d111704f1",
   "metadata": {
    "tags": []
   },
   "outputs": [],
   "source": [
    "#전처리: 단위 일치, 숫자형으로 변환\n",
    "data[['engine','engine_unit']]=data['engine'].str.split(expand=True)"
   ]
  },
  {
   "cell_type": "code",
   "execution_count": null,
   "id": "4e529fc6-e88f-49ea-b65c-942c7943730d",
   "metadata": {
    "tags": []
   },
   "outputs": [],
   "source": [
    "data.drop('engine_unit', axis=1, inplace=True)"
   ]
  },
  {
   "cell_type": "code",
   "execution_count": null,
   "id": "42c8f7d5-71be-4312-85f7-052b548902bb",
   "metadata": {
    "tags": []
   },
   "outputs": [],
   "source": [
    "data['engine']=data['engine'].astype('float32')"
   ]
  },
  {
   "cell_type": "code",
   "execution_count": null,
   "id": "830f4e2d-c791-4640-96f1-43c4eec294d0",
   "metadata": {
    "tags": []
   },
   "outputs": [],
   "source": [
    "data['engine'].head()"
   ]
  },
  {
   "cell_type": "code",
   "execution_count": null,
   "id": "2cda6abb-b159-4c8e-938a-345e1f506b89",
   "metadata": {
    "tags": []
   },
   "outputs": [],
   "source": [
    "data[['max_power','max_power_unit']]=data['max_power'].str.split(expand=True)"
   ]
  },
  {
   "cell_type": "code",
   "execution_count": null,
   "id": "f57bc861-99d8-4e9f-ab98-3b9c536dba31",
   "metadata": {
    "tags": []
   },
   "outputs": [],
   "source": [
    "data.head()"
   ]
  },
  {
   "cell_type": "code",
   "execution_count": null,
   "id": "1e5b78da-a148-4df1-b325-c9d4649c4c07",
   "metadata": {
    "tags": []
   },
   "outputs": [],
   "source": [
    "data['max_power']=data['max_power'].apply(isFloat)"
   ]
  },
  {
   "cell_type": "code",
   "execution_count": null,
   "id": "5eb719d7-405b-48bb-b78b-4721c9b5ced4",
   "metadata": {
    "tags": []
   },
   "outputs": [],
   "source": [
    "data['max_power_unit']"
   ]
  },
  {
   "cell_type": "code",
   "execution_count": null,
   "id": "53827668-6720-4f1e-a9a9-f6ef2417f16a",
   "metadata": {
    "tags": []
   },
   "outputs": [],
   "source": [
    "def isFloat(value):\n",
    "    try:\n",
    "        num=float(value)\n",
    "        return num\n",
    "    except ValueError:\n",
    "        return np.NaN"
   ]
  },
  {
   "cell_type": "code",
   "execution_count": null,
   "id": "995345c2-ca40-4a5b-aba9-a6f38a3d1a77",
   "metadata": {
    "tags": []
   },
   "outputs": [],
   "source": [
    "data.drop('max_power_unit', axis=1, inplace=True)"
   ]
  },
  {
   "cell_type": "code",
   "execution_count": null,
   "id": "83d5ba77-c7ea-477f-80e6-6e030a3dc924",
   "metadata": {
    "tags": []
   },
   "outputs": [],
   "source": [
    "data[['mileage','mileage_unit']]=data['mileage'].str.split(expand=True)"
   ]
  },
  {
   "cell_type": "code",
   "execution_count": null,
   "id": "6f9cb01e-ccba-477d-8453-5dcb9e09d510",
   "metadata": {
    "tags": []
   },
   "outputs": [],
   "source": [
    "data['mileage']=data['mileage'].astype('float32')"
   ]
  },
  {
   "cell_type": "code",
   "execution_count": null,
   "id": "c22d970c-b8ab-4ae7-b5c1-f3601b944f1f",
   "metadata": {
    "tags": []
   },
   "outputs": [],
   "source": [
    "data['mileage'].unique()"
   ]
  },
  {
   "cell_type": "code",
   "execution_count": null,
   "id": "3e68631c-8cc3-4cee-84df-7832eaf27b77",
   "metadata": {
    "tags": []
   },
   "outputs": [],
   "source": [
    "data['fuel'].unique()"
   ]
  },
  {
   "cell_type": "code",
   "execution_count": null,
   "id": "9772b1fb-9a41-4d31-adf2-ec3cafea3a4d",
   "metadata": {
    "tags": []
   },
   "outputs": [],
   "source": [
    "def mile(x):\n",
    "    if x['fuel']=='Petrol':\n",
    "        return x['mileage'] /80.43\n",
    "    elif x['fuel']=='Diesel':\n",
    "        return x['mileage'] /73.56\n",
    "    elif x['fuel']=='LPG':\n",
    "        return x['mileage'] /40.85\n",
    "    else:\n",
    "        return x['mileage'] /73.23"
   ]
  },
  {
   "cell_type": "code",
   "execution_count": null,
   "id": "c133f209-d257-4e9b-9388-10fe2ee4f98b",
   "metadata": {
    "tags": []
   },
   "outputs": [],
   "source": [
    "data['mileage']=data.apply(mile, axis=1)"
   ]
  },
  {
   "cell_type": "code",
   "execution_count": null,
   "id": "4e6a268b-1c56-47eb-8ba0-046c50e0f959",
   "metadata": {
    "tags": []
   },
   "outputs": [],
   "source": [
    "data.head()"
   ]
  },
  {
   "cell_type": "code",
   "execution_count": null,
   "id": "3893a665-f9f8-4f21-bc07-842b0c8292f9",
   "metadata": {
    "tags": []
   },
   "outputs": [],
   "source": [
    "data.drop('mileage_unit',axis=1, inplace=True)"
   ]
  },
  {
   "cell_type": "code",
   "execution_count": null,
   "id": "6a4b463d-0a81-436e-a0c8-39151ad275e8",
   "metadata": {
    "tags": []
   },
   "outputs": [],
   "source": [
    "data['torque']=data['torque'].str.upper()"
   ]
  },
  {
   "cell_type": "code",
   "execution_count": null,
   "id": "8d636eed-81e4-4e91-91e0-b98a46f9a3f8",
   "metadata": {
    "tags": []
   },
   "outputs": [],
   "source": [
    "def torque_unit(x):\n",
    "    if 'NM' in str(x):\n",
    "        return 'Nm'\n",
    "    elif 'KGM' in str(x):\n",
    "        return 'kgm'"
   ]
  },
  {
   "cell_type": "code",
   "execution_count": null,
   "id": "dc7f59be-9e21-4a99-883a-aadaaae1fb0e",
   "metadata": {
    "tags": []
   },
   "outputs": [],
   "source": [
    "data['torque_unit']=data['torque'].apply(torque_unit)"
   ]
  },
  {
   "cell_type": "code",
   "execution_count": null,
   "id": "6b4fa81d-1b61-484d-9d64-1fd015e1b953",
   "metadata": {
    "tags": []
   },
   "outputs": [],
   "source": [
    "data['torque_unit'].unique()"
   ]
  },
  {
   "cell_type": "code",
   "execution_count": null,
   "id": "104d50a7-6587-4e35-bc98-4f51fc9d0cdf",
   "metadata": {
    "tags": []
   },
   "outputs": [],
   "source": [
    "data[data['torque_unit'].isna()]['torque'].unique()"
   ]
  },
  {
   "cell_type": "code",
   "execution_count": null,
   "id": "636b3948-c7dd-44ef-9eaa-09c0656bdd97",
   "metadata": {
    "tags": []
   },
   "outputs": [],
   "source": [
    "data['torque_unit'].fillna('Nm', inplace=True)"
   ]
  },
  {
   "cell_type": "code",
   "execution_count": null,
   "id": "c1a02768-d397-497e-89ab-cb9e3b7fa5f8",
   "metadata": {
    "tags": []
   },
   "outputs": [],
   "source": [
    "def split_num(x):\n",
    "    x=str(x)\n",
    "    for i,j in enumerate(x):\n",
    "        if j not in '0123456789.':\n",
    "            cut=i\n",
    "            break\n",
    "    return x[:cut]"
   ]
  },
  {
   "cell_type": "code",
   "execution_count": null,
   "id": "2057081e-976c-4b67-b3e0-e566f6d01888",
   "metadata": {},
   "outputs": [],
   "source": [
    "data['torque']=data['torque'].apply(split_num)"
   ]
  },
  {
   "cell_type": "code",
   "execution_count": null,
   "id": "f54efd8e-b281-4e9b-88f7-457e931c8f46",
   "metadata": {
    "tags": []
   },
   "outputs": [],
   "source": [
    "data['torque']"
   ]
  },
  {
   "cell_type": "code",
   "execution_count": null,
   "id": "c750aeb7-bda5-4bed-99da-7a5905dc2e24",
   "metadata": {
    "tags": []
   },
   "outputs": [],
   "source": [
    "data['torque']=data['torque'].replace(' ',np.NaN)"
   ]
  },
  {
   "cell_type": "code",
   "execution_count": null,
   "id": "bcfbe94b-f213-4f6f-b40f-42fb0033adc5",
   "metadata": {
    "tags": []
   },
   "outputs": [],
   "source": [
    "data['torque']=data['torque'].astype('float32')"
   ]
  },
  {
   "cell_type": "code",
   "execution_count": null,
   "id": "f2f0d287-f39a-4daf-a79c-a0275f2f7843",
   "metadata": {
    "tags": []
   },
   "outputs": [],
   "source": [
    "data['torque']"
   ]
  },
  {
   "cell_type": "code",
   "execution_count": null,
   "id": "12436ac0-d711-43d8-a601-227a98e6318b",
   "metadata": {
    "tags": []
   },
   "outputs": [],
   "source": [
    "def torque_trans(x):\n",
    "    if x['torque_unit'] == 'kgm':\n",
    "        return x['torque'] * 9.8066\n",
    "    else:\n",
    "        return x['torque']"
   ]
  },
  {
   "cell_type": "code",
   "execution_count": null,
   "id": "b801b6df-6027-4b08-9e06-8fab1b0122f5",
   "metadata": {
    "tags": []
   },
   "outputs": [],
   "source": [
    "data['torque']=data.apply(torque_trans, axis=1)"
   ]
  },
  {
   "cell_type": "code",
   "execution_count": null,
   "id": "34466c76-a2c5-4ba4-9975-0bf27f5d0f6b",
   "metadata": {
    "tags": []
   },
   "outputs": [],
   "source": [
    "data.drop('torque_unit', axis=1, inplace=True)"
   ]
  },
  {
   "cell_type": "code",
   "execution_count": null,
   "id": "12cd1c62-d537-4ae8-9e79-edbcf65bc602",
   "metadata": {},
   "outputs": [],
   "source": [
    "data['torque'].astype('float32')"
   ]
  },
  {
   "cell_type": "code",
   "execution_count": null,
   "id": "00719da4-7b0a-462d-994e-3f104af812fd",
   "metadata": {
    "tags": []
   },
   "outputs": [],
   "source": [
    "data.info()"
   ]
  },
  {
   "cell_type": "code",
   "execution_count": null,
   "id": "cbfff42d-c3ec-4bf0-b557-157fef472fae",
   "metadata": {
    "tags": []
   },
   "outputs": [],
   "source": [
    "data['name']=data['name'].str.split(expand=True)[0]"
   ]
  },
  {
   "cell_type": "code",
   "execution_count": null,
   "id": "835619a7-3d6b-43ba-b47c-d8bae14863f6",
   "metadata": {
    "tags": []
   },
   "outputs": [],
   "source": [
    "data['name'].unique()"
   ]
  },
  {
   "cell_type": "code",
   "execution_count": null,
   "id": "5b1a8ed2-5e77-4c1b-8b59-3a878cc0c706",
   "metadata": {
    "tags": []
   },
   "outputs": [],
   "source": [
    "data['name']=data['name'].replace('Land','Land Rover')"
   ]
  },
  {
   "cell_type": "code",
   "execution_count": null,
   "id": "17eb35c2-9547-4d35-8f46-d9d6b4224fe6",
   "metadata": {
    "tags": []
   },
   "outputs": [],
   "source": [
    "data.isna().mean()"
   ]
  },
  {
   "cell_type": "code",
   "execution_count": null,
   "id": "cbb42af0-de16-4b79-bb20-2ff4d1d81461",
   "metadata": {
    "tags": []
   },
   "outputs": [],
   "source": [
    "data.dropna(inplace=True)"
   ]
  },
  {
   "cell_type": "code",
   "execution_count": null,
   "id": "2e8b47b3-4a65-4fce-8f72-9cb68a8cd644",
   "metadata": {
    "tags": []
   },
   "outputs": [],
   "source": [
    "data.info()"
   ]
  },
  {
   "cell_type": "code",
   "execution_count": null,
   "id": "b45cece0-3a72-49b0-a02f-87a5676c67f4",
   "metadata": {
    "tags": []
   },
   "outputs": [],
   "source": [
    "data=pd.get_dummies(data, columns=['name','fuel','seller_type','transmission','owner'])"
   ]
  },
  {
   "cell_type": "code",
   "execution_count": null,
   "id": "0171db97-e905-4073-899d-22c6c298d5c4",
   "metadata": {
    "tags": []
   },
   "outputs": [],
   "source": [
    "data.head()"
   ]
  },
  {
   "cell_type": "code",
   "execution_count": null,
   "id": "e1a216cc-1c36-46e7-add3-7d0f1ae516f4",
   "metadata": {},
   "outputs": [],
   "source": []
  },
  {
   "cell_type": "code",
   "execution_count": null,
   "id": "70192bed-8400-4591-8860-72d756398218",
   "metadata": {
    "tags": []
   },
   "outputs": [],
   "source": [
    "from sklearn.model_selection import train_test_split, KFold\n",
    "\n",
    "X_train, X_test, y_train, y_test = train_test_split(data.drop('selling_price', axis=1), data['selling_price'], test_size = 0.2, random_state=0)"
   ]
  },
  {
   "cell_type": "code",
   "execution_count": null,
   "id": "eb9dbf4a-aedd-4c57-829a-820389f726c9",
   "metadata": {
    "tags": []
   },
   "outputs": [],
   "source": [
    "print(X_train.shape, y_train.shape)"
   ]
  },
  {
   "cell_type": "code",
   "execution_count": null,
   "id": "79a80261-041f-473e-95f1-d63a4addb52b",
   "metadata": {
    "tags": []
   },
   "outputs": [],
   "source": [
    "from sklearn.ensemble import RandomForestClassifier,RandomForestRegressor\n",
    "from sklearn.metrics import accuracy_score, mean_squared_error\n",
    "\n",
    "model=RandomForestRegressor(random_state=100)\n",
    "model.fit(X_train, y_train)\n",
    "train_pred=model.predict(X_train)\n",
    "test_pred=model.predict(X_test)\n",
    "\n",
    "print('train_rmse: ', mean_squared_error(y_train, train_pred) ** 0.5,\n",
    "      'test_rmse: ', mean_squared_error(y_test, test_pred) ** 0.5)"
   ]
  },
  {
   "cell_type": "code",
   "execution_count": null,
   "id": "64847e70-9fef-4b0a-b4ed-c46914b0eec3",
   "metadata": {
    "tags": []
   },
   "outputs": [],
   "source": [
    "data"
   ]
  },
  {
   "cell_type": "code",
   "execution_count": null,
   "id": "a1767946-739e-4132-a9fd-3f335b5c8a5d",
   "metadata": {
    "tags": []
   },
   "outputs": [],
   "source": [
    "data.reset_index(drop=True, inplace=True)"
   ]
  },
  {
   "cell_type": "code",
   "execution_count": null,
   "id": "b7aada74-d155-4ce0-a718-52a811cc91dc",
   "metadata": {
    "tags": []
   },
   "outputs": [],
   "source": [
    "kf=KFold(n_splits=5)\n",
    "X=data.drop('selling_price', axis=1)\n",
    "y=data['selling_price']\n",
    "\n",
    "train_rmse_total=[]\n",
    "test_rmse_total=[]\n",
    "\n",
    "\n",
    "for train_index, test_index in kf.split(X):\n",
    "    X_train, X_test =X.loc[train_index], X.loc[test_index]\n",
    "    y_train, y_test =y[train_index], y[test_index]\n",
    "    \n",
    "    model=RandomForestRegressor(n_estimators=300, max_depth=50, min_samples_leaf=1, min_samples_split=15, n_jobs=-1,random_state=100)\n",
    "    model.fit(X_train, y_train)\n",
    "    train_pred=model.predict(X_train)\n",
    "    test_pred=model.predict(X_test)\n",
    "    train_rmse=mean_squared_error(y_train,train_pred) ** 0.5\n",
    "    test_rmse=mean_squared_error(y_test, test_pred) ** 0.5\n",
    "    train_rmse_total.append(train_rmse)\n",
    "    test_rmse_total.append(test_rmse)\n"
   ]
  },
  {
   "cell_type": "code",
   "execution_count": null,
   "id": "238006d2-76df-4562-a6d9-45e71846df20",
   "metadata": {
    "tags": []
   },
   "outputs": [],
   "source": [
    "sum(test_rmse_total)/5"
   ]
  },
  {
   "cell_type": "markdown",
   "id": "fa8e3e05-9da0-4017-9073-58231782083a",
   "metadata": {},
   "source": [
    "#### 10장 XGBoost"
   ]
  },
  {
   "cell_type": "code",
   "execution_count": 94,
   "id": "c409ba8c-6d58-4060-9eea-58a659d39584",
   "metadata": {
    "tags": []
   },
   "outputs": [],
   "source": [
    "file_url= 'https://media.githubusercontent.com/media/musthave-ML10/data_source/main/dating.csv'\n",
    "data=pd.read_csv(file_url, skipinitialspace=True)"
   ]
  },
  {
   "cell_type": "code",
   "execution_count": 95,
   "id": "30e9336c-d81a-466f-b646-2cd57edf9a35",
   "metadata": {
    "tags": []
   },
   "outputs": [],
   "source": [
    "pd.options.display.max_columns=40"
   ]
  },
  {
   "cell_type": "code",
   "execution_count": 96,
   "id": "86983c4e-34bf-489e-b04e-55c9f0b09259",
   "metadata": {
    "tags": []
   },
   "outputs": [
    {
     "data": {
      "text/html": [
       "<div>\n",
       "<style scoped>\n",
       "    .dataframe tbody tr th:only-of-type {\n",
       "        vertical-align: middle;\n",
       "    }\n",
       "\n",
       "    .dataframe tbody tr th {\n",
       "        vertical-align: top;\n",
       "    }\n",
       "\n",
       "    .dataframe thead th {\n",
       "        text-align: right;\n",
       "    }\n",
       "</style>\n",
       "<table border=\"1\" class=\"dataframe\">\n",
       "  <thead>\n",
       "    <tr style=\"text-align: right;\">\n",
       "      <th></th>\n",
       "      <th>has_null</th>\n",
       "      <th>gender</th>\n",
       "      <th>age</th>\n",
       "      <th>age_o</th>\n",
       "      <th>race</th>\n",
       "      <th>race_o</th>\n",
       "      <th>importance_same_race</th>\n",
       "      <th>importance_same_religion</th>\n",
       "      <th>pref_o_attractive</th>\n",
       "      <th>pref_o_sincere</th>\n",
       "      <th>pref_o_intelligence</th>\n",
       "      <th>pref_o_funny</th>\n",
       "      <th>pref_o_ambitious</th>\n",
       "      <th>pref_o_shared_interests</th>\n",
       "      <th>attractive_o</th>\n",
       "      <th>sincere_o</th>\n",
       "      <th>intelligence_o</th>\n",
       "      <th>funny_o</th>\n",
       "      <th>ambitous_o</th>\n",
       "      <th>shared_interests_o</th>\n",
       "      <th>attractive_important</th>\n",
       "      <th>sincere_important</th>\n",
       "      <th>intellicence_important</th>\n",
       "      <th>funny_important</th>\n",
       "      <th>ambtition_important</th>\n",
       "      <th>shared_interests_important</th>\n",
       "      <th>attractive_partner</th>\n",
       "      <th>sincere_partner</th>\n",
       "      <th>intelligence_partner</th>\n",
       "      <th>funny_partner</th>\n",
       "      <th>ambition_partner</th>\n",
       "      <th>shared_interests_partner</th>\n",
       "      <th>interests_correlate</th>\n",
       "      <th>expected_happy_with_sd_people</th>\n",
       "      <th>expected_num_interested_in_me</th>\n",
       "      <th>like</th>\n",
       "      <th>guess_prob_liked</th>\n",
       "      <th>met</th>\n",
       "      <th>match</th>\n",
       "    </tr>\n",
       "  </thead>\n",
       "  <tbody>\n",
       "    <tr>\n",
       "      <th>0</th>\n",
       "      <td>0</td>\n",
       "      <td>female</td>\n",
       "      <td>21.0</td>\n",
       "      <td>27.0</td>\n",
       "      <td>Asian/PacificIslander/Asian-American</td>\n",
       "      <td>European/Caucasian-American</td>\n",
       "      <td>2.0</td>\n",
       "      <td>4.0</td>\n",
       "      <td>35.0</td>\n",
       "      <td>20.0</td>\n",
       "      <td>20.0</td>\n",
       "      <td>20.0</td>\n",
       "      <td>0.0</td>\n",
       "      <td>5.0</td>\n",
       "      <td>6.0</td>\n",
       "      <td>8.0</td>\n",
       "      <td>8.0</td>\n",
       "      <td>8.0</td>\n",
       "      <td>8.0</td>\n",
       "      <td>6.0</td>\n",
       "      <td>15.0</td>\n",
       "      <td>20.0</td>\n",
       "      <td>20.0</td>\n",
       "      <td>15.0</td>\n",
       "      <td>15.0</td>\n",
       "      <td>15.0</td>\n",
       "      <td>6.0</td>\n",
       "      <td>9.0</td>\n",
       "      <td>7.0</td>\n",
       "      <td>7.0</td>\n",
       "      <td>6.0</td>\n",
       "      <td>5.0</td>\n",
       "      <td>0.14</td>\n",
       "      <td>3.0</td>\n",
       "      <td>2.0</td>\n",
       "      <td>7.0</td>\n",
       "      <td>6.0</td>\n",
       "      <td>0.0</td>\n",
       "      <td>0</td>\n",
       "    </tr>\n",
       "    <tr>\n",
       "      <th>1</th>\n",
       "      <td>0</td>\n",
       "      <td>female</td>\n",
       "      <td>21.0</td>\n",
       "      <td>22.0</td>\n",
       "      <td>Asian/PacificIslander/Asian-American</td>\n",
       "      <td>European/Caucasian-American</td>\n",
       "      <td>2.0</td>\n",
       "      <td>4.0</td>\n",
       "      <td>60.0</td>\n",
       "      <td>0.0</td>\n",
       "      <td>0.0</td>\n",
       "      <td>40.0</td>\n",
       "      <td>0.0</td>\n",
       "      <td>0.0</td>\n",
       "      <td>7.0</td>\n",
       "      <td>8.0</td>\n",
       "      <td>10.0</td>\n",
       "      <td>7.0</td>\n",
       "      <td>7.0</td>\n",
       "      <td>5.0</td>\n",
       "      <td>15.0</td>\n",
       "      <td>20.0</td>\n",
       "      <td>20.0</td>\n",
       "      <td>15.0</td>\n",
       "      <td>15.0</td>\n",
       "      <td>15.0</td>\n",
       "      <td>7.0</td>\n",
       "      <td>8.0</td>\n",
       "      <td>7.0</td>\n",
       "      <td>8.0</td>\n",
       "      <td>5.0</td>\n",
       "      <td>6.0</td>\n",
       "      <td>0.54</td>\n",
       "      <td>3.0</td>\n",
       "      <td>2.0</td>\n",
       "      <td>7.0</td>\n",
       "      <td>5.0</td>\n",
       "      <td>1.0</td>\n",
       "      <td>0</td>\n",
       "    </tr>\n",
       "    <tr>\n",
       "      <th>2</th>\n",
       "      <td>1</td>\n",
       "      <td>female</td>\n",
       "      <td>21.0</td>\n",
       "      <td>22.0</td>\n",
       "      <td>Asian/PacificIslander/Asian-American</td>\n",
       "      <td>Asian/PacificIslander/Asian-American</td>\n",
       "      <td>2.0</td>\n",
       "      <td>4.0</td>\n",
       "      <td>19.0</td>\n",
       "      <td>18.0</td>\n",
       "      <td>19.0</td>\n",
       "      <td>18.0</td>\n",
       "      <td>14.0</td>\n",
       "      <td>12.0</td>\n",
       "      <td>10.0</td>\n",
       "      <td>10.0</td>\n",
       "      <td>10.0</td>\n",
       "      <td>10.0</td>\n",
       "      <td>10.0</td>\n",
       "      <td>10.0</td>\n",
       "      <td>15.0</td>\n",
       "      <td>20.0</td>\n",
       "      <td>20.0</td>\n",
       "      <td>15.0</td>\n",
       "      <td>15.0</td>\n",
       "      <td>15.0</td>\n",
       "      <td>5.0</td>\n",
       "      <td>8.0</td>\n",
       "      <td>9.0</td>\n",
       "      <td>8.0</td>\n",
       "      <td>5.0</td>\n",
       "      <td>7.0</td>\n",
       "      <td>0.16</td>\n",
       "      <td>3.0</td>\n",
       "      <td>2.0</td>\n",
       "      <td>7.0</td>\n",
       "      <td>NaN</td>\n",
       "      <td>1.0</td>\n",
       "      <td>1</td>\n",
       "    </tr>\n",
       "    <tr>\n",
       "      <th>3</th>\n",
       "      <td>0</td>\n",
       "      <td>female</td>\n",
       "      <td>21.0</td>\n",
       "      <td>23.0</td>\n",
       "      <td>Asian/PacificIslander/Asian-American</td>\n",
       "      <td>European/Caucasian-American</td>\n",
       "      <td>2.0</td>\n",
       "      <td>4.0</td>\n",
       "      <td>30.0</td>\n",
       "      <td>5.0</td>\n",
       "      <td>15.0</td>\n",
       "      <td>40.0</td>\n",
       "      <td>5.0</td>\n",
       "      <td>5.0</td>\n",
       "      <td>7.0</td>\n",
       "      <td>8.0</td>\n",
       "      <td>9.0</td>\n",
       "      <td>8.0</td>\n",
       "      <td>9.0</td>\n",
       "      <td>8.0</td>\n",
       "      <td>15.0</td>\n",
       "      <td>20.0</td>\n",
       "      <td>20.0</td>\n",
       "      <td>15.0</td>\n",
       "      <td>15.0</td>\n",
       "      <td>15.0</td>\n",
       "      <td>7.0</td>\n",
       "      <td>6.0</td>\n",
       "      <td>8.0</td>\n",
       "      <td>7.0</td>\n",
       "      <td>6.0</td>\n",
       "      <td>8.0</td>\n",
       "      <td>0.61</td>\n",
       "      <td>3.0</td>\n",
       "      <td>2.0</td>\n",
       "      <td>7.0</td>\n",
       "      <td>6.0</td>\n",
       "      <td>0.0</td>\n",
       "      <td>1</td>\n",
       "    </tr>\n",
       "    <tr>\n",
       "      <th>4</th>\n",
       "      <td>0</td>\n",
       "      <td>female</td>\n",
       "      <td>21.0</td>\n",
       "      <td>24.0</td>\n",
       "      <td>Asian/PacificIslander/Asian-American</td>\n",
       "      <td>Latino/HispanicAmerican</td>\n",
       "      <td>2.0</td>\n",
       "      <td>4.0</td>\n",
       "      <td>30.0</td>\n",
       "      <td>10.0</td>\n",
       "      <td>20.0</td>\n",
       "      <td>10.0</td>\n",
       "      <td>10.0</td>\n",
       "      <td>20.0</td>\n",
       "      <td>8.0</td>\n",
       "      <td>7.0</td>\n",
       "      <td>9.0</td>\n",
       "      <td>6.0</td>\n",
       "      <td>9.0</td>\n",
       "      <td>7.0</td>\n",
       "      <td>15.0</td>\n",
       "      <td>20.0</td>\n",
       "      <td>20.0</td>\n",
       "      <td>15.0</td>\n",
       "      <td>15.0</td>\n",
       "      <td>15.0</td>\n",
       "      <td>5.0</td>\n",
       "      <td>6.0</td>\n",
       "      <td>7.0</td>\n",
       "      <td>7.0</td>\n",
       "      <td>6.0</td>\n",
       "      <td>6.0</td>\n",
       "      <td>0.21</td>\n",
       "      <td>3.0</td>\n",
       "      <td>2.0</td>\n",
       "      <td>6.0</td>\n",
       "      <td>6.0</td>\n",
       "      <td>0.0</td>\n",
       "      <td>1</td>\n",
       "    </tr>\n",
       "  </tbody>\n",
       "</table>\n",
       "</div>"
      ],
      "text/plain": [
       "   has_null  gender   age  age_o                                  race  \\\n",
       "0         0  female  21.0   27.0  Asian/PacificIslander/Asian-American   \n",
       "1         0  female  21.0   22.0  Asian/PacificIslander/Asian-American   \n",
       "2         1  female  21.0   22.0  Asian/PacificIslander/Asian-American   \n",
       "3         0  female  21.0   23.0  Asian/PacificIslander/Asian-American   \n",
       "4         0  female  21.0   24.0  Asian/PacificIslander/Asian-American   \n",
       "\n",
       "                                 race_o  importance_same_race  \\\n",
       "0           European/Caucasian-American                   2.0   \n",
       "1           European/Caucasian-American                   2.0   \n",
       "2  Asian/PacificIslander/Asian-American                   2.0   \n",
       "3           European/Caucasian-American                   2.0   \n",
       "4               Latino/HispanicAmerican                   2.0   \n",
       "\n",
       "   importance_same_religion  pref_o_attractive  pref_o_sincere  \\\n",
       "0                       4.0               35.0            20.0   \n",
       "1                       4.0               60.0             0.0   \n",
       "2                       4.0               19.0            18.0   \n",
       "3                       4.0               30.0             5.0   \n",
       "4                       4.0               30.0            10.0   \n",
       "\n",
       "   pref_o_intelligence  pref_o_funny  pref_o_ambitious  \\\n",
       "0                 20.0          20.0               0.0   \n",
       "1                  0.0          40.0               0.0   \n",
       "2                 19.0          18.0              14.0   \n",
       "3                 15.0          40.0               5.0   \n",
       "4                 20.0          10.0              10.0   \n",
       "\n",
       "   pref_o_shared_interests  attractive_o  sincere_o  intelligence_o  funny_o  \\\n",
       "0                      5.0           6.0        8.0             8.0      8.0   \n",
       "1                      0.0           7.0        8.0            10.0      7.0   \n",
       "2                     12.0          10.0       10.0            10.0     10.0   \n",
       "3                      5.0           7.0        8.0             9.0      8.0   \n",
       "4                     20.0           8.0        7.0             9.0      6.0   \n",
       "\n",
       "   ambitous_o  shared_interests_o  attractive_important  sincere_important  \\\n",
       "0         8.0                 6.0                  15.0               20.0   \n",
       "1         7.0                 5.0                  15.0               20.0   \n",
       "2        10.0                10.0                  15.0               20.0   \n",
       "3         9.0                 8.0                  15.0               20.0   \n",
       "4         9.0                 7.0                  15.0               20.0   \n",
       "\n",
       "   intellicence_important  funny_important  ambtition_important  \\\n",
       "0                    20.0             15.0                 15.0   \n",
       "1                    20.0             15.0                 15.0   \n",
       "2                    20.0             15.0                 15.0   \n",
       "3                    20.0             15.0                 15.0   \n",
       "4                    20.0             15.0                 15.0   \n",
       "\n",
       "   shared_interests_important  attractive_partner  sincere_partner  \\\n",
       "0                        15.0                 6.0              9.0   \n",
       "1                        15.0                 7.0              8.0   \n",
       "2                        15.0                 5.0              8.0   \n",
       "3                        15.0                 7.0              6.0   \n",
       "4                        15.0                 5.0              6.0   \n",
       "\n",
       "   intelligence_partner  funny_partner  ambition_partner  \\\n",
       "0                   7.0            7.0               6.0   \n",
       "1                   7.0            8.0               5.0   \n",
       "2                   9.0            8.0               5.0   \n",
       "3                   8.0            7.0               6.0   \n",
       "4                   7.0            7.0               6.0   \n",
       "\n",
       "   shared_interests_partner  interests_correlate  \\\n",
       "0                       5.0                 0.14   \n",
       "1                       6.0                 0.54   \n",
       "2                       7.0                 0.16   \n",
       "3                       8.0                 0.61   \n",
       "4                       6.0                 0.21   \n",
       "\n",
       "   expected_happy_with_sd_people  expected_num_interested_in_me  like  \\\n",
       "0                            3.0                            2.0   7.0   \n",
       "1                            3.0                            2.0   7.0   \n",
       "2                            3.0                            2.0   7.0   \n",
       "3                            3.0                            2.0   7.0   \n",
       "4                            3.0                            2.0   6.0   \n",
       "\n",
       "   guess_prob_liked  met  match  \n",
       "0               6.0  0.0      0  \n",
       "1               5.0  1.0      0  \n",
       "2               NaN  1.0      1  \n",
       "3               6.0  0.0      1  \n",
       "4               6.0  0.0      1  "
      ]
     },
     "execution_count": 96,
     "metadata": {},
     "output_type": "execute_result"
    }
   ],
   "source": [
    "data.head()"
   ]
  },
  {
   "cell_type": "code",
   "execution_count": 97,
   "id": "32e1a31a-5dca-45d8-b2df-f5ebb7a2a564",
   "metadata": {
    "tags": []
   },
   "outputs": [
    {
     "name": "stdout",
     "output_type": "stream",
     "text": [
      "<class 'pandas.core.frame.DataFrame'>\n",
      "RangeIndex: 8378 entries, 0 to 8377\n",
      "Data columns (total 39 columns):\n",
      " #   Column                         Non-Null Count  Dtype  \n",
      "---  ------                         --------------  -----  \n",
      " 0   has_null                       8378 non-null   int64  \n",
      " 1   gender                         8378 non-null   object \n",
      " 2   age                            8283 non-null   float64\n",
      " 3   age_o                          8274 non-null   float64\n",
      " 4   race                           8315 non-null   object \n",
      " 5   race_o                         8305 non-null   object \n",
      " 6   importance_same_race           8299 non-null   float64\n",
      " 7   importance_same_religion       8299 non-null   float64\n",
      " 8   pref_o_attractive              8289 non-null   float64\n",
      " 9   pref_o_sincere                 8289 non-null   float64\n",
      " 10  pref_o_intelligence            8289 non-null   float64\n",
      " 11  pref_o_funny                   8280 non-null   float64\n",
      " 12  pref_o_ambitious               8271 non-null   float64\n",
      " 13  pref_o_shared_interests        8249 non-null   float64\n",
      " 14  attractive_o                   8166 non-null   float64\n",
      " 15  sincere_o                      8091 non-null   float64\n",
      " 16  intelligence_o                 8072 non-null   float64\n",
      " 17  funny_o                        8018 non-null   float64\n",
      " 18  ambitous_o                     7656 non-null   float64\n",
      " 19  shared_interests_o             7302 non-null   float64\n",
      " 20  attractive_important           8299 non-null   float64\n",
      " 21  sincere_important              8299 non-null   float64\n",
      " 22  intellicence_important         8299 non-null   float64\n",
      " 23  funny_important                8289 non-null   float64\n",
      " 24  ambtition_important            8279 non-null   float64\n",
      " 25  shared_interests_important     8257 non-null   float64\n",
      " 26  attractive_partner             8176 non-null   float64\n",
      " 27  sincere_partner                8101 non-null   float64\n",
      " 28  intelligence_partner           8082 non-null   float64\n",
      " 29  funny_partner                  8028 non-null   float64\n",
      " 30  ambition_partner               7666 non-null   float64\n",
      " 31  shared_interests_partner       7311 non-null   float64\n",
      " 32  interests_correlate            8220 non-null   float64\n",
      " 33  expected_happy_with_sd_people  8277 non-null   float64\n",
      " 34  expected_num_interested_in_me  1800 non-null   float64\n",
      " 35  like                           8138 non-null   float64\n",
      " 36  guess_prob_liked               8069 non-null   float64\n",
      " 37  met                            8003 non-null   float64\n",
      " 38  match                          8378 non-null   int64  \n",
      "dtypes: float64(34), int64(2), object(3)\n",
      "memory usage: 2.5+ MB\n"
     ]
    }
   ],
   "source": [
    "data.info()"
   ]
  },
  {
   "cell_type": "code",
   "execution_count": 98,
   "id": "355b96e9-7a0a-437e-99e1-02f6cfc24226",
   "metadata": {
    "tags": []
   },
   "outputs": [
    {
     "data": {
      "text/html": [
       "<div>\n",
       "<style scoped>\n",
       "    .dataframe tbody tr th:only-of-type {\n",
       "        vertical-align: middle;\n",
       "    }\n",
       "\n",
       "    .dataframe tbody tr th {\n",
       "        vertical-align: top;\n",
       "    }\n",
       "\n",
       "    .dataframe thead th {\n",
       "        text-align: right;\n",
       "    }\n",
       "</style>\n",
       "<table border=\"1\" class=\"dataframe\">\n",
       "  <thead>\n",
       "    <tr style=\"text-align: right;\">\n",
       "      <th></th>\n",
       "      <th>has_null</th>\n",
       "      <th>age</th>\n",
       "      <th>age_o</th>\n",
       "      <th>importance_same_race</th>\n",
       "      <th>importance_same_religion</th>\n",
       "      <th>pref_o_attractive</th>\n",
       "      <th>pref_o_sincere</th>\n",
       "      <th>pref_o_intelligence</th>\n",
       "      <th>pref_o_funny</th>\n",
       "      <th>pref_o_ambitious</th>\n",
       "      <th>pref_o_shared_interests</th>\n",
       "      <th>attractive_o</th>\n",
       "      <th>sincere_o</th>\n",
       "      <th>intelligence_o</th>\n",
       "      <th>funny_o</th>\n",
       "      <th>ambitous_o</th>\n",
       "      <th>shared_interests_o</th>\n",
       "      <th>attractive_important</th>\n",
       "      <th>sincere_important</th>\n",
       "      <th>intellicence_important</th>\n",
       "      <th>funny_important</th>\n",
       "      <th>ambtition_important</th>\n",
       "      <th>shared_interests_important</th>\n",
       "      <th>attractive_partner</th>\n",
       "      <th>sincere_partner</th>\n",
       "      <th>intelligence_partner</th>\n",
       "      <th>funny_partner</th>\n",
       "      <th>ambition_partner</th>\n",
       "      <th>shared_interests_partner</th>\n",
       "      <th>interests_correlate</th>\n",
       "      <th>expected_happy_with_sd_people</th>\n",
       "      <th>expected_num_interested_in_me</th>\n",
       "      <th>like</th>\n",
       "      <th>guess_prob_liked</th>\n",
       "      <th>met</th>\n",
       "      <th>match</th>\n",
       "    </tr>\n",
       "  </thead>\n",
       "  <tbody>\n",
       "    <tr>\n",
       "      <th>count</th>\n",
       "      <td>8378.00000</td>\n",
       "      <td>8283.000000</td>\n",
       "      <td>8274.000000</td>\n",
       "      <td>8299.000000</td>\n",
       "      <td>8299.000000</td>\n",
       "      <td>8289.000000</td>\n",
       "      <td>8289.000000</td>\n",
       "      <td>8289.000000</td>\n",
       "      <td>8280.000000</td>\n",
       "      <td>8271.000000</td>\n",
       "      <td>8249.000000</td>\n",
       "      <td>8166.000000</td>\n",
       "      <td>8091.000000</td>\n",
       "      <td>8072.000000</td>\n",
       "      <td>8018.000000</td>\n",
       "      <td>7656.000000</td>\n",
       "      <td>7302.000000</td>\n",
       "      <td>8299.000000</td>\n",
       "      <td>8299.000000</td>\n",
       "      <td>8299.000000</td>\n",
       "      <td>8289.000000</td>\n",
       "      <td>8279.000000</td>\n",
       "      <td>8257.000000</td>\n",
       "      <td>8176.000000</td>\n",
       "      <td>8101.000000</td>\n",
       "      <td>8082.000000</td>\n",
       "      <td>8028.000000</td>\n",
       "      <td>7666.000000</td>\n",
       "      <td>7311.000000</td>\n",
       "      <td>8220.000000</td>\n",
       "      <td>8277.000000</td>\n",
       "      <td>1800.000000</td>\n",
       "      <td>8138.000000</td>\n",
       "      <td>8069.000000</td>\n",
       "      <td>8003.000000</td>\n",
       "      <td>8378.000000</td>\n",
       "    </tr>\n",
       "    <tr>\n",
       "      <th>mean</th>\n",
       "      <td>0.87491</td>\n",
       "      <td>26.358928</td>\n",
       "      <td>26.364999</td>\n",
       "      <td>3.784793</td>\n",
       "      <td>3.651645</td>\n",
       "      <td>22.495347</td>\n",
       "      <td>17.396867</td>\n",
       "      <td>20.270759</td>\n",
       "      <td>17.459714</td>\n",
       "      <td>10.685375</td>\n",
       "      <td>11.845930</td>\n",
       "      <td>6.190411</td>\n",
       "      <td>7.175256</td>\n",
       "      <td>7.369301</td>\n",
       "      <td>6.400599</td>\n",
       "      <td>6.778409</td>\n",
       "      <td>5.474870</td>\n",
       "      <td>22.514632</td>\n",
       "      <td>17.396389</td>\n",
       "      <td>20.265613</td>\n",
       "      <td>17.457043</td>\n",
       "      <td>10.682539</td>\n",
       "      <td>11.845111</td>\n",
       "      <td>6.189995</td>\n",
       "      <td>7.175164</td>\n",
       "      <td>7.368597</td>\n",
       "      <td>6.400598</td>\n",
       "      <td>6.777524</td>\n",
       "      <td>5.474559</td>\n",
       "      <td>0.196010</td>\n",
       "      <td>5.534131</td>\n",
       "      <td>5.570556</td>\n",
       "      <td>6.134087</td>\n",
       "      <td>5.207523</td>\n",
       "      <td>0.049856</td>\n",
       "      <td>0.164717</td>\n",
       "    </tr>\n",
       "    <tr>\n",
       "      <th>std</th>\n",
       "      <td>0.33084</td>\n",
       "      <td>3.566763</td>\n",
       "      <td>3.563648</td>\n",
       "      <td>2.845708</td>\n",
       "      <td>2.805237</td>\n",
       "      <td>12.569802</td>\n",
       "      <td>7.044003</td>\n",
       "      <td>6.782895</td>\n",
       "      <td>6.085526</td>\n",
       "      <td>6.126544</td>\n",
       "      <td>6.362746</td>\n",
       "      <td>1.950305</td>\n",
       "      <td>1.740575</td>\n",
       "      <td>1.550501</td>\n",
       "      <td>1.954078</td>\n",
       "      <td>1.794080</td>\n",
       "      <td>2.156163</td>\n",
       "      <td>12.587674</td>\n",
       "      <td>7.046700</td>\n",
       "      <td>6.783003</td>\n",
       "      <td>6.085239</td>\n",
       "      <td>6.124888</td>\n",
       "      <td>6.362154</td>\n",
       "      <td>1.950169</td>\n",
       "      <td>1.740315</td>\n",
       "      <td>1.550453</td>\n",
       "      <td>1.953702</td>\n",
       "      <td>1.794055</td>\n",
       "      <td>2.156363</td>\n",
       "      <td>0.303539</td>\n",
       "      <td>1.734059</td>\n",
       "      <td>4.762569</td>\n",
       "      <td>1.841285</td>\n",
       "      <td>2.129565</td>\n",
       "      <td>0.282168</td>\n",
       "      <td>0.370947</td>\n",
       "    </tr>\n",
       "    <tr>\n",
       "      <th>min</th>\n",
       "      <td>0.00000</td>\n",
       "      <td>18.000000</td>\n",
       "      <td>18.000000</td>\n",
       "      <td>0.000000</td>\n",
       "      <td>1.000000</td>\n",
       "      <td>0.000000</td>\n",
       "      <td>0.000000</td>\n",
       "      <td>0.000000</td>\n",
       "      <td>0.000000</td>\n",
       "      <td>0.000000</td>\n",
       "      <td>0.000000</td>\n",
       "      <td>0.000000</td>\n",
       "      <td>0.000000</td>\n",
       "      <td>0.000000</td>\n",
       "      <td>0.000000</td>\n",
       "      <td>0.000000</td>\n",
       "      <td>0.000000</td>\n",
       "      <td>0.000000</td>\n",
       "      <td>0.000000</td>\n",
       "      <td>0.000000</td>\n",
       "      <td>0.000000</td>\n",
       "      <td>0.000000</td>\n",
       "      <td>0.000000</td>\n",
       "      <td>0.000000</td>\n",
       "      <td>0.000000</td>\n",
       "      <td>0.000000</td>\n",
       "      <td>0.000000</td>\n",
       "      <td>0.000000</td>\n",
       "      <td>0.000000</td>\n",
       "      <td>-0.830000</td>\n",
       "      <td>1.000000</td>\n",
       "      <td>0.000000</td>\n",
       "      <td>0.000000</td>\n",
       "      <td>0.000000</td>\n",
       "      <td>0.000000</td>\n",
       "      <td>0.000000</td>\n",
       "    </tr>\n",
       "    <tr>\n",
       "      <th>25%</th>\n",
       "      <td>1.00000</td>\n",
       "      <td>24.000000</td>\n",
       "      <td>24.000000</td>\n",
       "      <td>1.000000</td>\n",
       "      <td>1.000000</td>\n",
       "      <td>15.000000</td>\n",
       "      <td>15.000000</td>\n",
       "      <td>17.390000</td>\n",
       "      <td>15.000000</td>\n",
       "      <td>5.000000</td>\n",
       "      <td>9.520000</td>\n",
       "      <td>5.000000</td>\n",
       "      <td>6.000000</td>\n",
       "      <td>6.000000</td>\n",
       "      <td>5.000000</td>\n",
       "      <td>6.000000</td>\n",
       "      <td>4.000000</td>\n",
       "      <td>15.000000</td>\n",
       "      <td>15.000000</td>\n",
       "      <td>17.390000</td>\n",
       "      <td>15.000000</td>\n",
       "      <td>5.000000</td>\n",
       "      <td>9.520000</td>\n",
       "      <td>5.000000</td>\n",
       "      <td>6.000000</td>\n",
       "      <td>6.000000</td>\n",
       "      <td>5.000000</td>\n",
       "      <td>6.000000</td>\n",
       "      <td>4.000000</td>\n",
       "      <td>-0.020000</td>\n",
       "      <td>5.000000</td>\n",
       "      <td>2.000000</td>\n",
       "      <td>5.000000</td>\n",
       "      <td>4.000000</td>\n",
       "      <td>0.000000</td>\n",
       "      <td>0.000000</td>\n",
       "    </tr>\n",
       "    <tr>\n",
       "      <th>50%</th>\n",
       "      <td>1.00000</td>\n",
       "      <td>26.000000</td>\n",
       "      <td>26.000000</td>\n",
       "      <td>3.000000</td>\n",
       "      <td>3.000000</td>\n",
       "      <td>20.000000</td>\n",
       "      <td>18.370000</td>\n",
       "      <td>20.000000</td>\n",
       "      <td>18.000000</td>\n",
       "      <td>10.000000</td>\n",
       "      <td>10.640000</td>\n",
       "      <td>6.000000</td>\n",
       "      <td>7.000000</td>\n",
       "      <td>7.000000</td>\n",
       "      <td>7.000000</td>\n",
       "      <td>7.000000</td>\n",
       "      <td>6.000000</td>\n",
       "      <td>20.000000</td>\n",
       "      <td>18.180000</td>\n",
       "      <td>20.000000</td>\n",
       "      <td>18.000000</td>\n",
       "      <td>10.000000</td>\n",
       "      <td>10.640000</td>\n",
       "      <td>6.000000</td>\n",
       "      <td>7.000000</td>\n",
       "      <td>7.000000</td>\n",
       "      <td>7.000000</td>\n",
       "      <td>7.000000</td>\n",
       "      <td>6.000000</td>\n",
       "      <td>0.210000</td>\n",
       "      <td>6.000000</td>\n",
       "      <td>4.000000</td>\n",
       "      <td>6.000000</td>\n",
       "      <td>5.000000</td>\n",
       "      <td>0.000000</td>\n",
       "      <td>0.000000</td>\n",
       "    </tr>\n",
       "    <tr>\n",
       "      <th>75%</th>\n",
       "      <td>1.00000</td>\n",
       "      <td>28.000000</td>\n",
       "      <td>28.000000</td>\n",
       "      <td>6.000000</td>\n",
       "      <td>6.000000</td>\n",
       "      <td>25.000000</td>\n",
       "      <td>20.000000</td>\n",
       "      <td>23.810000</td>\n",
       "      <td>20.000000</td>\n",
       "      <td>15.000000</td>\n",
       "      <td>16.000000</td>\n",
       "      <td>8.000000</td>\n",
       "      <td>8.000000</td>\n",
       "      <td>8.000000</td>\n",
       "      <td>8.000000</td>\n",
       "      <td>8.000000</td>\n",
       "      <td>7.000000</td>\n",
       "      <td>25.000000</td>\n",
       "      <td>20.000000</td>\n",
       "      <td>23.810000</td>\n",
       "      <td>20.000000</td>\n",
       "      <td>15.000000</td>\n",
       "      <td>16.000000</td>\n",
       "      <td>8.000000</td>\n",
       "      <td>8.000000</td>\n",
       "      <td>8.000000</td>\n",
       "      <td>8.000000</td>\n",
       "      <td>8.000000</td>\n",
       "      <td>7.000000</td>\n",
       "      <td>0.430000</td>\n",
       "      <td>7.000000</td>\n",
       "      <td>8.000000</td>\n",
       "      <td>7.000000</td>\n",
       "      <td>7.000000</td>\n",
       "      <td>0.000000</td>\n",
       "      <td>0.000000</td>\n",
       "    </tr>\n",
       "    <tr>\n",
       "      <th>max</th>\n",
       "      <td>1.00000</td>\n",
       "      <td>55.000000</td>\n",
       "      <td>55.000000</td>\n",
       "      <td>10.000000</td>\n",
       "      <td>10.000000</td>\n",
       "      <td>100.000000</td>\n",
       "      <td>60.000000</td>\n",
       "      <td>50.000000</td>\n",
       "      <td>50.000000</td>\n",
       "      <td>53.000000</td>\n",
       "      <td>30.000000</td>\n",
       "      <td>10.500000</td>\n",
       "      <td>10.000000</td>\n",
       "      <td>10.000000</td>\n",
       "      <td>11.000000</td>\n",
       "      <td>10.000000</td>\n",
       "      <td>10.000000</td>\n",
       "      <td>100.000000</td>\n",
       "      <td>60.000000</td>\n",
       "      <td>50.000000</td>\n",
       "      <td>50.000000</td>\n",
       "      <td>53.000000</td>\n",
       "      <td>30.000000</td>\n",
       "      <td>10.000000</td>\n",
       "      <td>10.000000</td>\n",
       "      <td>10.000000</td>\n",
       "      <td>10.000000</td>\n",
       "      <td>10.000000</td>\n",
       "      <td>10.000000</td>\n",
       "      <td>0.910000</td>\n",
       "      <td>10.000000</td>\n",
       "      <td>20.000000</td>\n",
       "      <td>10.000000</td>\n",
       "      <td>10.000000</td>\n",
       "      <td>8.000000</td>\n",
       "      <td>1.000000</td>\n",
       "    </tr>\n",
       "  </tbody>\n",
       "</table>\n",
       "</div>"
      ],
      "text/plain": [
       "         has_null          age        age_o  importance_same_race  \\\n",
       "count  8378.00000  8283.000000  8274.000000           8299.000000   \n",
       "mean      0.87491    26.358928    26.364999              3.784793   \n",
       "std       0.33084     3.566763     3.563648              2.845708   \n",
       "min       0.00000    18.000000    18.000000              0.000000   \n",
       "25%       1.00000    24.000000    24.000000              1.000000   \n",
       "50%       1.00000    26.000000    26.000000              3.000000   \n",
       "75%       1.00000    28.000000    28.000000              6.000000   \n",
       "max       1.00000    55.000000    55.000000             10.000000   \n",
       "\n",
       "       importance_same_religion  pref_o_attractive  pref_o_sincere  \\\n",
       "count               8299.000000        8289.000000     8289.000000   \n",
       "mean                   3.651645          22.495347       17.396867   \n",
       "std                    2.805237          12.569802        7.044003   \n",
       "min                    1.000000           0.000000        0.000000   \n",
       "25%                    1.000000          15.000000       15.000000   \n",
       "50%                    3.000000          20.000000       18.370000   \n",
       "75%                    6.000000          25.000000       20.000000   \n",
       "max                   10.000000         100.000000       60.000000   \n",
       "\n",
       "       pref_o_intelligence  pref_o_funny  pref_o_ambitious  \\\n",
       "count          8289.000000   8280.000000       8271.000000   \n",
       "mean             20.270759     17.459714         10.685375   \n",
       "std               6.782895      6.085526          6.126544   \n",
       "min               0.000000      0.000000          0.000000   \n",
       "25%              17.390000     15.000000          5.000000   \n",
       "50%              20.000000     18.000000         10.000000   \n",
       "75%              23.810000     20.000000         15.000000   \n",
       "max              50.000000     50.000000         53.000000   \n",
       "\n",
       "       pref_o_shared_interests  attractive_o    sincere_o  intelligence_o  \\\n",
       "count              8249.000000   8166.000000  8091.000000     8072.000000   \n",
       "mean                 11.845930      6.190411     7.175256        7.369301   \n",
       "std                   6.362746      1.950305     1.740575        1.550501   \n",
       "min                   0.000000      0.000000     0.000000        0.000000   \n",
       "25%                   9.520000      5.000000     6.000000        6.000000   \n",
       "50%                  10.640000      6.000000     7.000000        7.000000   \n",
       "75%                  16.000000      8.000000     8.000000        8.000000   \n",
       "max                  30.000000     10.500000    10.000000       10.000000   \n",
       "\n",
       "           funny_o   ambitous_o  shared_interests_o  attractive_important  \\\n",
       "count  8018.000000  7656.000000         7302.000000           8299.000000   \n",
       "mean      6.400599     6.778409            5.474870             22.514632   \n",
       "std       1.954078     1.794080            2.156163             12.587674   \n",
       "min       0.000000     0.000000            0.000000              0.000000   \n",
       "25%       5.000000     6.000000            4.000000             15.000000   \n",
       "50%       7.000000     7.000000            6.000000             20.000000   \n",
       "75%       8.000000     8.000000            7.000000             25.000000   \n",
       "max      11.000000    10.000000           10.000000            100.000000   \n",
       "\n",
       "       sincere_important  intellicence_important  funny_important  \\\n",
       "count        8299.000000             8299.000000      8289.000000   \n",
       "mean           17.396389               20.265613        17.457043   \n",
       "std             7.046700                6.783003         6.085239   \n",
       "min             0.000000                0.000000         0.000000   \n",
       "25%            15.000000               17.390000        15.000000   \n",
       "50%            18.180000               20.000000        18.000000   \n",
       "75%            20.000000               23.810000        20.000000   \n",
       "max            60.000000               50.000000        50.000000   \n",
       "\n",
       "       ambtition_important  shared_interests_important  attractive_partner  \\\n",
       "count          8279.000000                 8257.000000         8176.000000   \n",
       "mean             10.682539                   11.845111            6.189995   \n",
       "std               6.124888                    6.362154            1.950169   \n",
       "min               0.000000                    0.000000            0.000000   \n",
       "25%               5.000000                    9.520000            5.000000   \n",
       "50%              10.000000                   10.640000            6.000000   \n",
       "75%              15.000000                   16.000000            8.000000   \n",
       "max              53.000000                   30.000000           10.000000   \n",
       "\n",
       "       sincere_partner  intelligence_partner  funny_partner  ambition_partner  \\\n",
       "count      8101.000000           8082.000000    8028.000000       7666.000000   \n",
       "mean          7.175164              7.368597       6.400598          6.777524   \n",
       "std           1.740315              1.550453       1.953702          1.794055   \n",
       "min           0.000000              0.000000       0.000000          0.000000   \n",
       "25%           6.000000              6.000000       5.000000          6.000000   \n",
       "50%           7.000000              7.000000       7.000000          7.000000   \n",
       "75%           8.000000              8.000000       8.000000          8.000000   \n",
       "max          10.000000             10.000000      10.000000         10.000000   \n",
       "\n",
       "       shared_interests_partner  interests_correlate  \\\n",
       "count               7311.000000          8220.000000   \n",
       "mean                   5.474559             0.196010   \n",
       "std                    2.156363             0.303539   \n",
       "min                    0.000000            -0.830000   \n",
       "25%                    4.000000            -0.020000   \n",
       "50%                    6.000000             0.210000   \n",
       "75%                    7.000000             0.430000   \n",
       "max                   10.000000             0.910000   \n",
       "\n",
       "       expected_happy_with_sd_people  expected_num_interested_in_me  \\\n",
       "count                    8277.000000                    1800.000000   \n",
       "mean                        5.534131                       5.570556   \n",
       "std                         1.734059                       4.762569   \n",
       "min                         1.000000                       0.000000   \n",
       "25%                         5.000000                       2.000000   \n",
       "50%                         6.000000                       4.000000   \n",
       "75%                         7.000000                       8.000000   \n",
       "max                        10.000000                      20.000000   \n",
       "\n",
       "              like  guess_prob_liked          met        match  \n",
       "count  8138.000000       8069.000000  8003.000000  8378.000000  \n",
       "mean      6.134087          5.207523     0.049856     0.164717  \n",
       "std       1.841285          2.129565     0.282168     0.370947  \n",
       "min       0.000000          0.000000     0.000000     0.000000  \n",
       "25%       5.000000          4.000000     0.000000     0.000000  \n",
       "50%       6.000000          5.000000     0.000000     0.000000  \n",
       "75%       7.000000          7.000000     0.000000     0.000000  \n",
       "max      10.000000         10.000000     8.000000     1.000000  "
      ]
     },
     "execution_count": 98,
     "metadata": {},
     "output_type": "execute_result"
    }
   ],
   "source": [
    "data.describe()"
   ]
  },
  {
   "cell_type": "code",
   "execution_count": 100,
   "id": "6fdb3b8b-ac3a-4206-bf8d-08a2cb356f49",
   "metadata": {
    "tags": []
   },
   "outputs": [
    {
     "data": {
      "text/plain": [
       "has_null                            0\n",
       "gender                              0\n",
       "age                                95\n",
       "age_o                             104\n",
       "race                               63\n",
       "race_o                             73\n",
       "importance_same_race               79\n",
       "importance_same_religion           79\n",
       "pref_o_attractive                  89\n",
       "pref_o_sincere                     89\n",
       "pref_o_intelligence                89\n",
       "pref_o_funny                       98\n",
       "pref_o_ambitious                  107\n",
       "pref_o_shared_interests           129\n",
       "attractive_o                      212\n",
       "sincere_o                         287\n",
       "intelligence_o                    306\n",
       "funny_o                           360\n",
       "ambitous_o                        722\n",
       "shared_interests_o               1076\n",
       "attractive_important               79\n",
       "sincere_important                  79\n",
       "intellicence_important             79\n",
       "funny_important                    89\n",
       "ambtition_important                99\n",
       "shared_interests_important        121\n",
       "attractive_partner                202\n",
       "sincere_partner                   277\n",
       "intelligence_partner              296\n",
       "funny_partner                     350\n",
       "ambition_partner                  712\n",
       "shared_interests_partner         1067\n",
       "interests_correlate               158\n",
       "expected_happy_with_sd_people     101\n",
       "expected_num_interested_in_me    6578\n",
       "like                              240\n",
       "guess_prob_liked                  309\n",
       "met                               375\n",
       "match                               0\n",
       "dtype: int64"
      ]
     },
     "execution_count": 100,
     "metadata": {},
     "output_type": "execute_result"
    }
   ],
   "source": [
    "data.isna().sum()"
   ]
  },
  {
   "cell_type": "code",
   "execution_count": 101,
   "id": "2152cd08-e4d1-4018-927e-123e69119b79",
   "metadata": {
    "tags": []
   },
   "outputs": [],
   "source": [
    "data=data.dropna(subset=['pref_o_attractive', 'pref_o_sincere' , \n",
    "                         'pref_o_intelligence','pref_o_funny','pref_o_ambitious','pref_o_shared_interests',\n",
    "                         'attractive_important' ,'sincere_partner','intellicence_important','funny_important',\n",
    "                         'ambtition_important','shared_interests_important'])"
   ]
  },
  {
   "cell_type": "code",
   "execution_count": 102,
   "id": "ccba0ccd-0c5e-4440-a82b-54a2548af16c",
   "metadata": {
    "tags": []
   },
   "outputs": [],
   "source": [
    "data=data.fillna(-99)"
   ]
  },
  {
   "cell_type": "code",
   "execution_count": 104,
   "id": "10ac4116-018b-44e0-9a16-93d7e762bc12",
   "metadata": {
    "tags": []
   },
   "outputs": [
    {
     "data": {
      "text/plain": [
       "has_null                         0\n",
       "gender                           0\n",
       "age                              0\n",
       "age_o                            0\n",
       "race                             0\n",
       "race_o                           0\n",
       "importance_same_race             0\n",
       "importance_same_religion         0\n",
       "pref_o_attractive                0\n",
       "pref_o_sincere                   0\n",
       "pref_o_intelligence              0\n",
       "pref_o_funny                     0\n",
       "pref_o_ambitious                 0\n",
       "pref_o_shared_interests          0\n",
       "attractive_o                     0\n",
       "sincere_o                        0\n",
       "intelligence_o                   0\n",
       "funny_o                          0\n",
       "ambitous_o                       0\n",
       "shared_interests_o               0\n",
       "attractive_important             0\n",
       "sincere_important                0\n",
       "intellicence_important           0\n",
       "funny_important                  0\n",
       "ambtition_important              0\n",
       "shared_interests_important       0\n",
       "attractive_partner               0\n",
       "sincere_partner                  0\n",
       "intelligence_partner             0\n",
       "funny_partner                    0\n",
       "ambition_partner                 0\n",
       "shared_interests_partner         0\n",
       "interests_correlate              0\n",
       "expected_happy_with_sd_people    0\n",
       "expected_num_interested_in_me    0\n",
       "like                             0\n",
       "guess_prob_liked                 0\n",
       "met                              0\n",
       "match                            0\n",
       "dtype: int64"
      ]
     },
     "execution_count": 104,
     "metadata": {},
     "output_type": "execute_result"
    }
   ],
   "source": [
    "data.isna().sum()"
   ]
  },
  {
   "cell_type": "code",
   "execution_count": 109,
   "id": "d7ce6a45-fc3d-4084-ae2c-bae07da8257a",
   "metadata": {
    "tags": []
   },
   "outputs": [],
   "source": [
    "def age_gap(x):\n",
    "    if x['age'] == -99:\n",
    "        return -99\n",
    "    elif x['age_o'] == -99:\n",
    "        return -99\n",
    "    elif x['gender'] == 'female':\n",
    "        return x['age_o']-  x['age']\n",
    "    else:\n",
    "        return x['age']-  x['age_o']"
   ]
  },
  {
   "cell_type": "code",
   "execution_count": 110,
   "id": "e9e0a10e-f0b7-470f-963c-95a2f57b9229",
   "metadata": {
    "tags": []
   },
   "outputs": [],
   "source": [
    "data['age_gap']=data.apply(age_gap, axis=1)"
   ]
  },
  {
   "cell_type": "code",
   "execution_count": 111,
   "id": "adcd1f43-05a2-4410-a70c-8e1bef6e16a5",
   "metadata": {
    "tags": []
   },
   "outputs": [],
   "source": [
    "data['age_gap_abs']=abs(data['age_gap'])"
   ]
  },
  {
   "cell_type": "code",
   "execution_count": 112,
   "id": "1756f1e5-4a00-4034-b7f5-885a95621a52",
   "metadata": {
    "tags": []
   },
   "outputs": [],
   "source": [
    "def sam_race(x):\n",
    "    if x['race'] == -99:\n",
    "        return -99\n",
    "    elif x['race_o'] == -99:\n",
    "        return -99\n",
    "    elif x['race'] == x['race_o']:\n",
    "        return 1\n",
    "    else:\n",
    "        return -1"
   ]
  },
  {
   "cell_type": "code",
   "execution_count": 113,
   "id": "e7e766bb-23a9-48f1-a57d-452cee071240",
   "metadata": {
    "tags": []
   },
   "outputs": [],
   "source": [
    "data['same_race']=data.apply(sam_race, axis=1)"
   ]
  },
  {
   "cell_type": "code",
   "execution_count": 114,
   "id": "97450e03-b864-4021-b066-06d40910e0ef",
   "metadata": {
    "tags": []
   },
   "outputs": [],
   "source": [
    "def same_race_point(x):\n",
    "    if x['same_race'] ==-99:\n",
    "        return -99\n",
    "    else:\n",
    "        return x['same_race'] * x['importance_same_race']"
   ]
  },
  {
   "cell_type": "code",
   "execution_count": 115,
   "id": "835b38d8-2e3f-4574-b578-2956150f01fd",
   "metadata": {
    "tags": []
   },
   "outputs": [],
   "source": [
    "data['importance_same_race']=data.apply(same_race_point, axis=1)"
   ]
  },
  {
   "cell_type": "code",
   "execution_count": 116,
   "id": "dbd620ab-f012-49ed-b13c-68c692e96f81",
   "metadata": {
    "tags": []
   },
   "outputs": [],
   "source": [
    "def rating(data, importance, score):\n",
    "    if data[importance]==-99:\n",
    "        return -99\n",
    "    elif data[score] == -99:\n",
    "        return -99\n",
    "    else:\n",
    "        return data[importance] *data[score]"
   ]
  },
  {
   "cell_type": "code",
   "execution_count": 117,
   "id": "a14f9db0-ff16-456d-99e9-3aa0421c8da1",
   "metadata": {
    "tags": []
   },
   "outputs": [],
   "source": [
    "partner_imp=data.columns[8:14]\n",
    "partner_rate_me=data.columns[14:20]\n",
    "my_imp=data.columns[20:26]\n",
    "my_rate_partner=data.columns[26:32]"
   ]
  },
  {
   "cell_type": "code",
   "execution_count": 119,
   "id": "8048cbca-fd0e-4db6-82cf-d1ce6036f433",
   "metadata": {
    "tags": []
   },
   "outputs": [],
   "source": [
    "new_label_partner=['attractive_p' ,'sincere_partner_p',\n",
    "                   'intelligence_p','funny_p,ambitous_p','ambitous','shared_interests_p']\n",
    "new_label_me=['attractive_m' ,'sincere_partner_m',\n",
    "                   'intelligence_m','funny_p,ambitous_m','ambitous','shared_interests_m']"
   ]
  },
  {
   "cell_type": "code",
   "execution_count": 122,
   "id": "a4724d6e-1323-48e5-970d-09ca5fed75b4",
   "metadata": {
    "tags": []
   },
   "outputs": [],
   "source": [
    "for i,j,k in zip(new_label_partner, partner_imp, partner_rate_me):\n",
    "    data[i]= data.apply(lambda x: rating(x,j,k), axis=1)\n",
    "    "
   ]
  },
  {
   "cell_type": "code",
   "execution_count": 125,
   "id": "630c8cea-1a8b-4e7a-b382-97cbe7dc6370",
   "metadata": {
    "tags": []
   },
   "outputs": [],
   "source": [
    "data=pd.get_dummies(data, columns=['gender','race','race_o'], drop_first=True)"
   ]
  },
  {
   "cell_type": "code",
   "execution_count": null,
   "id": "a7c3a392-c90d-4181-b9b1-4443104a2b98",
   "metadata": {},
   "outputs": [],
   "source": []
  },
  {
   "cell_type": "code",
   "execution_count": 126,
   "id": "d7d68b0f-32fe-48dc-afef-852f2de158d4",
   "metadata": {
    "tags": []
   },
   "outputs": [],
   "source": [
    "import xgboost as xgb\n",
    "\n",
    "X_train, X_test, y_train, y_test = train_test_split(data.drop('match',axis=1), data['match'], test_size = 0.2, random_state=0)\n",
    "model=xgb.XGBClassifier("
   ]
  },
  {
   "cell_type": "code",
   "execution_count": null,
   "id": "1f010ca3-de33-41fc-82ed-8a578bed1170",
   "metadata": {},
   "outputs": [],
   "source": []
  },
  {
   "cell_type": "code",
   "execution_count": null,
   "id": "1a9fb57e-a11a-4928-97c3-3401e7247e0f",
   "metadata": {},
   "outputs": [],
   "source": []
  }
 ],
 "metadata": {
  "kernelspec": {
   "display_name": "Python 3 (ipykernel)",
   "language": "python",
   "name": "python3"
  },
  "language_info": {
   "codemirror_mode": {
    "name": "ipython",
    "version": 3
   },
   "file_extension": ".py",
   "mimetype": "text/x-python",
   "name": "python",
   "nbconvert_exporter": "python",
   "pygments_lexer": "ipython3",
   "version": "3.11.5"
  }
 },
 "nbformat": 4,
 "nbformat_minor": 5
}
