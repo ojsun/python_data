{
 "cells": [
  {
   "cell_type": "code",
   "execution_count": 1,
   "id": "232638c0-85f4-4086-925b-e6cbb0a44a38",
   "metadata": {
    "tags": []
   },
   "outputs": [],
   "source": [
    "from bs4 import BeautifulSoup\n",
    "import requests"
   ]
  },
  {
   "cell_type": "code",
   "execution_count": 2,
   "id": "b61cc65a-3137-4271-9209-b6993b0d41f8",
   "metadata": {
    "tags": []
   },
   "outputs": [
    {
     "data": {
      "text/plain": [
       "<Response [200]>"
      ]
     },
     "execution_count": 2,
     "metadata": {},
     "output_type": "execute_result"
    }
   ],
   "source": [
    "url = 'https://www.mois.go.kr/frt/bbs/type010/commonSelectBoardList.do?bbsId=BBSMSTR_000000000008'\n",
    "response = requests.get(url)\n",
    "response"
   ]
  },
  {
   "cell_type": "code",
   "execution_count": null,
   "id": "d310c6a2-18f7-4ae2-b68e-6379de2f06f1",
   "metadata": {
    "tags": []
   },
   "outputs": [],
   "source": [
    "bs=BeautifulSoup(response.content,\"html.parser\")\n",
    "table=bs.select_one('table > tbody')\n",
    "rows=table.select('tr')\n",
    "#rows=bs.select('table > tbody > tr')"
   ]
  },
  {
   "cell_type": "code",
   "execution_count": 8,
   "id": "b66415b5-2e7b-4b63-a07f-9f6aef7f1f49",
   "metadata": {
    "tags": []
   },
   "outputs": [],
   "source": [
    "datas=[]\n",
    "for row in rows:\n",
    "    num=row.select_one('td:nth-child(1)').text.strip()\n",
    "    title=row.select_one('td:nth-child(2)').text.strip()\n",
    "    author=row.select_one('td:nth-child(4)').text.strip()\n",
    "    date=row.select_one('td:nth-child(5)').text.strip()\n",
    "    url='https://www.mois.go.kr'+row.select_one('a').get('href')\n",
    "    datas.append([num,title,author,date,url])"
   ]
  },
  {
   "cell_type": "code",
   "execution_count": null,
   "id": "f04902e4-d5db-401d-b77f-4384f1d15b18",
   "metadata": {
    "tags": []
   },
   "outputs": [],
   "source": [
    "print(datas)"
   ]
  },
  {
   "cell_type": "code",
   "execution_count": null,
   "id": "52e1a72d-2ab1-4955-bc94-3e8510051a2b",
   "metadata": {},
   "outputs": [],
   "source": []
  },
  {
   "cell_type": "code",
   "execution_count": 11,
   "id": "5994d134-0a7d-42e7-b772-0ba3cf7e79c7",
   "metadata": {
    "tags": []
   },
   "outputs": [
    {
     "data": {
      "text/plain": [
       "<Response [200]>"
      ]
     },
     "execution_count": 11,
     "metadata": {},
     "output_type": "execute_result"
    }
   ],
   "source": [
    "url = 'https://www.gmarket.co.kr/n/best'\n",
    "\n",
    "response=requests.get(url)\n",
    "response"
   ]
  },
  {
   "cell_type": "code",
   "execution_count": 13,
   "id": "7875071f-7628-4575-af0a-b8206bf5c723",
   "metadata": {
    "tags": []
   },
   "outputs": [],
   "source": [
    "bs=BeautifulSoup(response.content,'html.parser')\n",
    "images=bs.select('img.image__lazy')\n",
    "best_items=[]\n",
    "for image in images:\n",
    "    code=image.get('src').split('/')[3]\n",
    "    img_url='http:'+image.get('src')\n",
    "    title=image.get('alt')\n",
    "    best_items.append([code,title, img_url])"
   ]
  },
  {
   "cell_type": "code",
   "execution_count": null,
   "id": "0543339c-cd8d-4c84-811b-ac482b6ec7e4",
   "metadata": {
    "tags": []
   },
   "outputs": [],
   "source": [
    "best_items[:5]"
   ]
  },
  {
   "cell_type": "code",
   "execution_count": null,
   "id": "094bf797-ec6e-46d0-a95d-88631df22dbf",
   "metadata": {
    "tags": []
   },
   "outputs": [],
   "source": [
    "for num, item in enumerate(best_items):\n",
    "    response = requests.get(item[2])\n",
    "\n",
    "    with open(f'images/{num}.jpeg', 'wb') as f:\n",
    "        f.write(response.content)"
   ]
  },
  {
   "cell_type": "code",
   "execution_count": 19,
   "id": "a54b7231-8274-4213-a262-869010950fc0",
   "metadata": {
    "tags": []
   },
   "outputs": [],
   "source": [
    "from urllib.request import urlopen, urlretrieve"
   ]
  },
  {
   "cell_type": "code",
   "execution_count": null,
   "id": "b3a6fe1a-21d4-4e92-88e4-73eeb1e08a83",
   "metadata": {},
   "outputs": [],
   "source": [
    "for num, item in enumerate(best_items):\n",
    "    urlretrieve(item[2], f'images/{num}.jpeg')"
   ]
  },
  {
   "cell_type": "code",
   "execution_count": null,
   "id": "4b930e4c-bc8e-49da-b60e-4cb341291430",
   "metadata": {},
   "outputs": [],
   "source": [
    "import pymysql\n",
    "\n",
    "conn=pymysql.connect(user='maria', password='1234', host='localhost',port=3306, database='test_db')\n",
    "response=requests.get(best_items[0][2])"
   ]
  },
  {
   "cell_type": "code",
   "execution_count": null,
   "id": "63f726a2-93b8-48bf-96e3-46525fd8e168",
   "metadata": {},
   "outputs": [],
   "source": [
    "cursor=conn.cursor()\n",
    "sql=f'''insert into gmarket values (%s)'''\n",
    "cursor.execute(sql,[response.content])\n",
    "conn.commit()"
   ]
  },
  {
   "cell_type": "code",
   "execution_count": null,
   "id": "0f4b692f-a32e-4ff1-b8ee-af7a528d7b67",
   "metadata": {},
   "outputs": [],
   "source": []
  },
  {
   "cell_type": "code",
   "execution_count": null,
   "id": "e8ed39ae-62ae-4289-9df1-8cd5f11c0d90",
   "metadata": {},
   "outputs": [],
   "source": []
  },
  {
   "cell_type": "code",
   "execution_count": null,
   "id": "0c584250-2ed6-4ecb-b4a0-cc1cb682ebdd",
   "metadata": {},
   "outputs": [],
   "source": []
  }
 ],
 "metadata": {
  "kernelspec": {
   "display_name": "Python 3 (ipykernel)",
   "language": "python",
   "name": "python3"
  },
  "language_info": {
   "codemirror_mode": {
    "name": "ipython",
    "version": 3
   },
   "file_extension": ".py",
   "mimetype": "text/x-python",
   "name": "python",
   "nbconvert_exporter": "python",
   "pygments_lexer": "ipython3",
   "version": "3.11.5"
  }
 },
 "nbformat": 4,
 "nbformat_minor": 5
}
