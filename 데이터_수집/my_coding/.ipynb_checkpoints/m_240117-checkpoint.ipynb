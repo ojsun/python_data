{
 "cells": [
  {
   "cell_type": "markdown",
   "id": "4257a704-5d5e-497b-b235-46470ca67c74",
   "metadata": {},
   "source": [
    "#### 카카오 API-로컬(주소검색, category) + Kakao 지도 "
   ]
  },
  {
   "cell_type": "code",
   "execution_count": null,
   "id": "750c24b1-cea2-4223-beb8-29f24ebb39c2",
   "metadata": {},
   "outputs": [],
   "source": [
    "1. 주소 검색하기에서 x,y 구하기\n",
    "2. x,y 정보로 키워드 검색\n",
    "3. 지도 "
   ]
  },
  {
   "cell_type": "code",
   "execution_count": null,
   "id": "387f2886-4105-473c-bd9d-9152a45e2a92",
   "metadata": {},
   "outputs": [],
   "source": [
    "import requests"
   ]
  },
  {
   "cell_type": "code",
   "execution_count": 45,
   "id": "8ad38ae6-74f2-43b8-bbb7-3ca463b72c0e",
   "metadata": {},
   "outputs": [],
   "source": [
    "url='https://dapi.kakao.com/v2/local/search/address.json'\n",
    "restapi_key = \"bd88efd8afb2711bbd519fd5cdaeb4e1\"\n",
    "headers = {\"Authorization\": \"KakaoAK \" + restapi_key}   \n",
    "params = { \"query\": '집현동', \n",
    "          'x': 'x', 'y':'y'\n",
    "        }"
   ]
  },
  {
   "cell_type": "code",
   "execution_count": null,
   "id": "04c6e3a9-f8d6-43e8-bbef-d01d5a75af6f",
   "metadata": {
    "scrolled": true
   },
   "outputs": [],
   "source": [
    "response=requests.get(url, params=params,headers=headers)\n",
    "response.json()"
   ]
  },
  {
   "cell_type": "code",
   "execution_count": 52,
   "id": "c4dad84f-cfcb-456f-b301-4a636f6d165e",
   "metadata": {},
   "outputs": [],
   "source": [
    "def search_location():\n",
    "    '''주석처리'''\n",
    "    if response.status_code == 200:\n",
    "        x= response.json()['documents'][0]['x'],\n",
    "        y= response.json()['documents'][0]['y']\n",
    "    return x, y"
   ]
  },
  {
   "cell_type": "code",
   "execution_count": null,
   "id": "5659faa9-afb6-435e-a22d-de82b0c07e18",
   "metadata": {},
   "outputs": [],
   "source": []
  },
  {
   "cell_type": "code",
   "execution_count": null,
   "id": "1fb698b2-aec6-4e6c-84f4-b44140a60bd0",
   "metadata": {},
   "outputs": [],
   "source": [
    "def search (cat_code,x,y)\n",
    "    size= 5\n",
    "    page= 1\n",
    "    ids=[]\n",
    "    while True:\n",
    "        url='https://dapi.kakao.com/v2/local/search/category.json'\n",
    "        restapi_key = \"bd88efd8afb2711bbd519fd5cdaeb4e1\"\n",
    "        params = {  'category_group_code' : 'cat_code',\n",
    "                    \"x\" :'127.328177671692',\n",
    "                    \"y\" :'36.4964191755278',\n",
    "                    \"radius\": '1000',\n",
    "                    \"size\": size,\n",
    "                    \"page\": page\n",
    "                 }\n",
    "        headers = {\"Authorization\": \"KakaoAK \" + restapi_key,\n",
    "                  \"query\"='query'}    #KakaoAK 위에 한칸 띄우기\n",
    "        response=requests.get(url, params=params,headers=headers)  \n",
    "        for item in response.json()['documents']:   \n",
    "            id=item[x,y]\n",
    "            id.append\n",
    "            print(item['place_name'])\n",
    "        if not response.json()['meta']['is_end']:  # true 다음 페이지가 있다면\n",
    "            page+=1\n",
    "        else:\n",
    "            break                            # ['meta']['is_end']가 false라면 멈추기\n"
   ]
  },
  {
   "cell_type": "code",
   "execution_count": null,
   "id": "b404de17-cbd0-4800-a4cd-d554ed835987",
   "metadata": {},
   "outputs": [],
   "source": [
    "print()"
   ]
  },
  {
   "cell_type": "code",
   "execution_count": null,
   "id": "34f104e4-d7eb-48a9-8e38-ddca83263a26",
   "metadata": {},
   "outputs": [],
   "source": [
    "import time\n",
    "time.sleep(3)"
   ]
  },
  {
   "cell_type": "code",
   "execution_count": null,
   "id": "5f2c44c4-f022-4eba-8b98-95b5c5abee9e",
   "metadata": {},
   "outputs": [],
   "source": [
    "def deail_search (id_):\n",
    "url='https://place.map.kakao.com/main/v/' + id_\n",
    "for id_ in items:\n",
    "    response=requests.get(url)\n",
    "    if response.status_code == 200:\n",
    "       print() response.json()['basicInfo'['category']['catename'])"
   ]
  },
  {
   "cell_type": "code",
   "execution_count": null,
   "id": "8fa351e0-643f-4706-91c3-8aed8d89dfe2",
   "metadata": {},
   "outputs": [],
   "source": []
  },
  {
   "cell_type": "code",
   "execution_count": null,
   "id": "f1673dc8-4a04-485e-99e2-84942735862d",
   "metadata": {},
   "outputs": [],
   "source": []
  },
  {
   "cell_type": "code",
   "execution_count": null,
   "id": "6ffadb08-9204-4020-b2a3-5dce6a5b951f",
   "metadata": {},
   "outputs": [],
   "source": []
  },
  {
   "cell_type": "code",
   "execution_count": null,
   "id": "ecbe6505-5049-45a4-8b3c-82f9c4781d11",
   "metadata": {},
   "outputs": [],
   "source": []
  },
  {
   "cell_type": "code",
   "execution_count": null,
   "id": "d13d6809-6f2f-404f-9701-4b0fdd8e0f83",
   "metadata": {},
   "outputs": [],
   "source": []
  },
  {
   "cell_type": "code",
   "execution_count": null,
   "id": "92ae7050-79bb-4579-afca-11b629af1e31",
   "metadata": {},
   "outputs": [],
   "source": []
  },
  {
   "cell_type": "code",
   "execution_count": null,
   "id": "6d6a4667-e1f8-4c61-9161-adb4b3a48a92",
   "metadata": {},
   "outputs": [],
   "source": []
  },
  {
   "cell_type": "code",
   "execution_count": null,
   "id": "b11c9036-ea36-4917-8c35-c964aa7efa76",
   "metadata": {},
   "outputs": [],
   "source": []
  },
  {
   "cell_type": "code",
   "execution_count": null,
   "id": "3c5f7f7e-c6af-428e-acab-2162519e7243",
   "metadata": {},
   "outputs": [],
   "source": []
  },
  {
   "cell_type": "code",
   "execution_count": null,
   "id": "df50a65a-6ab7-48f6-a4aa-41c3169b1523",
   "metadata": {},
   "outputs": [],
   "source": []
  },
  {
   "cell_type": "code",
   "execution_count": null,
   "id": "adf399bd-6cb5-49be-a59b-0f609cb04d66",
   "metadata": {},
   "outputs": [],
   "source": []
  }
 ],
 "metadata": {
  "kernelspec": {
   "display_name": "Python 3 (ipykernel)",
   "language": "python",
   "name": "python3"
  },
  "language_info": {
   "codemirror_mode": {
    "name": "ipython",
    "version": 3
   },
   "file_extension": ".py",
   "mimetype": "text/x-python",
   "name": "python",
   "nbconvert_exporter": "python",
   "pygments_lexer": "ipython3",
   "version": "3.11.5"
  }
 },
 "nbformat": 4,
 "nbformat_minor": 5
}
