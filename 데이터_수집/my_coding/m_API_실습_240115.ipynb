{
 "cells": [
  {
   "cell_type": "code",
   "execution_count": null,
   "id": "28a9718e-7dd9-41f2-9373-bfbe092dbef6",
   "metadata": {
    "tags": []
   },
   "outputs": [],
   "source": [
    "import requests\n",
    "from bs4 import BeautifulSoup "
   ]
  },
  {
   "cell_type": "markdown",
   "id": "02abc623-e4c5-4010-ad68-8978a96c425a",
   "metadata": {},
   "source": [
    "### Kakao developers --API 관련 실습/ 카카오지도-키워드검색, 검색 등"
   ]
  },
  {
   "cell_type": "code",
   "execution_count": null,
   "id": "ec3b8560-ed4f-4ac7-8bf8-e144fab9551f",
   "metadata": {},
   "outputs": [],
   "source": [
    "#실습중\n",
    "size= 5\n",
    "page= 1\n",
    "while True:\n",
    "    url='https://dapi.kakao.com/v2/local/search/keyword.json'\n",
    "    restapi_key = \"bd88efd8afb2711bbd519fd5cdaeb4e1\"\n",
    "    params = { \"query\": '편의점', \n",
    "                \"x\" :'127.06283102249932',\n",
    "                \"y\" :'37.514322572335935',\n",
    "                \"radius\": '1000',\n",
    "                \"size\": size,\n",
    "                \"page\": page\n",
    "             }\n",
    "    headers = {\"Authorization\": \"KakaoAK \" + restapi_key}    #KakaoAK 위에 한칸 띄우기\n",
    "    response=requests.get(url, params=params,headers=headers)\n",
    "\n",
    "    for item in response.json()['documents']:\n",
    "        print(item['place_name'])\n",
    "    if not response.json()['meta']['is_end']:\n",
    "        page+=1\n",
    "    else:\n",
    "        break"
   ]
  },
  {
   "cell_type": "code",
   "execution_count": null,
   "id": "fe803376-3a27-4195-a420-260f44c75860",
   "metadata": {},
   "outputs": [],
   "source": [
    "# kakao 카테고리로 장소 검색하기 "
   ]
  },
  {
   "cell_type": "code",
   "execution_count": null,
   "id": "4f4a44fa-f045-4a72-8ba8-ea61f68a8c46",
   "metadata": {
    "scrolled": true
   },
   "outputs": [],
   "source": [
    "size= 5\n",
    "page= 1\n",
    "while True:\n",
    "    url='https://dapi.kakao.com/v2/local/search/category.json'\n",
    "    restapi_key = \"bd88efd8afb2711bbd519fd5cdaeb4e1\"\n",
    "    params = {  'category_group_code' : 'FD6',\n",
    "                \"x\" :'127.06283102249932',\n",
    "                \"y\" :'37.514322572335935',\n",
    "                \"radius\": '1000',\n",
    "                \"size\": size,\n",
    "                \"page\": page\n",
    "             }\n",
    "    headers = {\"Authorization\": \"KakaoAK \" + restapi_key}    #KakaoAK 위에 한칸 띄우기\n",
    "    response=requests.get(url, params=params,headers=headers)\n",
    "\n",
    "    for item in response.json()['documents']:\n",
    "        print(item['place_name'])\n",
    "    if not response.json()['meta']['is_end']:\n",
    "        page+=1\n",
    "    else:\n",
    "        break"
   ]
  },
  {
   "cell_type": "code",
   "execution_count": null,
   "id": "57a2e7ed-36d0-4c3c-8f33-74e3ba5a6207",
   "metadata": {
    "tags": []
   },
   "outputs": [],
   "source": [
    "#실습중\n",
    "url=\"https://dapi.kakao.com/v2/local/search/category.json\"\n",
    "restapi_key = \"bd88efd8afb2711bbd519fd5cdaeb4e1\"\n",
    "size= 5\n",
    "page= 1\n",
    "params = {  \"category_group_code\": \"PO3\",\n",
    "            \"x\" :'127.06283102249932',\n",
    "            \"y\" :'37.514322572335935',\n",
    "            \"radius\": '1000',\n",
    "            \"size\": size,\n",
    "            \"page\": page\n",
    "         }\n",
    "headers = {\"Authorization\": \"KakaoAK \" + restapi_key}    #KakaoAK 위에 한칸 띄우기\n",
    "response=requests.get(url, params=params,headers=headers)\n",
    "\n",
    "for item in response.json()['documents']:\n",
    "    print(item['place_name'])\n",
    "    if not response.json()['meta']['is_end']:\n",
    "        page+=1\n",
    "    else:\n",
    "        break"
   ]
  },
  {
   "cell_type": "code",
   "execution_count": null,
   "id": "c4266ed8-0e52-4290-971e-8c1ce079ac21",
   "metadata": {},
   "outputs": [],
   "source": []
  },
  {
   "cell_type": "markdown",
   "id": "00fd350d-91be-4137-8390-4b3d093738de",
   "metadata": {},
   "source": [
    "### 실습 Api ) G마켓, 숨겨진 정보 크롤링 /그림 다운로드는 urllib가 requests보다 좀 나음"
   ]
  },
  {
   "cell_type": "code",
   "execution_count": null,
   "id": "63fdbb49-5d05-4495-bf99-43ea3ee7b946",
   "metadata": {},
   "outputs": [],
   "source": [
    "url='https://www.gmarket.co.kr/n/best'\n",
    "response=requests.get(url)\n",
    "bs=BeautifulSoup(response.content, \"html.parser\")\n",
    "images =bs.select('img.image__lazy')\n",
    "best_items=[]\n",
    "for image in images:\n",
    "    img_url = 'https:' + image.get('src')\n",
    "    title= image.get('alt')\n",
    "    best_items.append([title, img_url])\n",
    "best_items[:3]"
   ]
  },
  {
   "cell_type": "code",
   "execution_count": null,
   "id": "365d69fa-c4e9-4e9d-a19e-0f69dd9f7ab5",
   "metadata": {},
   "outputs": [],
   "source": [
    "# 이미지 저장하기-blob, clob 형태로 DB 또는 파일에 저장\n",
    "# 파일로 다운로드하기\n",
    "for num, item in enumerate(best_items):\n",
    "    response = requests.get(item[1])\n",
    "    with open(f'images/{num}.jpeg','wb') as f:\n",
    "        f.write(response.content)"
   ]
  },
  {
   "cell_type": "code",
   "execution_count": null,
   "id": "eecfeaf4-3d2e-495a-bd01-ed1ff0f992b3",
   "metadata": {},
   "outputs": [],
   "source": [
    "# urlretrieve는 이미지 미디어파일 다운로드하는데 사용되은 모듈(자동 다운로드)\n",
    "# 엄청 빠름/간결하고\n",
    "from urllib.request import urlopen, urlretrieve"
   ]
  },
  {
   "cell_type": "code",
   "execution_count": null,
   "id": "951351ea-ada6-4228-bc9d-564056b55004",
   "metadata": {},
   "outputs": [],
   "source": [
    "for num, item in enumerate(best_items):\n",
    "    urlretrieve(item[1],f'images_2/{num}.jpeg')"
   ]
  },
  {
   "cell_type": "code",
   "execution_count": null,
   "id": "dbc2854e-a1d7-4a10-a0d6-279aa2d16a8e",
   "metadata": {},
   "outputs": [],
   "source": [
    "# DB에 이미지 저장하기\n",
    "import pymysql"
   ]
  },
  {
   "cell_type": "code",
   "execution_count": null,
   "id": "76b40130-1245-4351-9f35-834188528576",
   "metadata": {},
   "outputs": [],
   "source": [
    "# i개 이미지만 넣어봄, 자료형은 %s로"
   ]
  },
  {
   "cell_type": "code",
   "execution_count": null,
   "id": "a49e85c2-a290-4c37-8b32-86254b76cf90",
   "metadata": {},
   "outputs": [],
   "source": [
    "conn = pymysql.connect(user = 'maria',\n",
    "                        password = '1234',\n",
    "                        host = 'localhost',\n",
    "                        port = 3306,\n",
    "                        database = 'test_db'\n",
    "                        )\n",
    "response = requests.get(best_items[0][2])\n",
    "cursor = conn.cursor()\n",
    "sql = '''insert into g_market values (%s)'''\n",
    "cursor.execute(sql, [response.content])\n",
    "conn.commit()"
   ]
  },
  {
   "cell_type": "code",
   "execution_count": null,
   "id": "b24830c4-5177-487a-bb35-2b2a773629aa",
   "metadata": {},
   "outputs": [],
   "source": [
    "# DB에서 이미지 가져오기\n",
    "cursor.execute('''select image from g_market''')\n",
    "img= cursor.fetchone()\n",
    "img         # 바이어리 형태임"
   ]
  },
  {
   "cell_type": "code",
   "execution_count": null,
   "id": "5611e863-bba3-4069-8ec3-4e5e4ebe5c2b",
   "metadata": {
    "scrolled": true
   },
   "outputs": [],
   "source": [
    "# jupyter에서 이미지보기\n",
    "from PIL import Image\n",
    "import io\n",
    "\n",
    "img=image.open(io.BytesIO(response.content))      # img[0] 대신 response.content 도 가능함\n",
    "img.show()"
   ]
  },
  {
   "cell_type": "code",
   "execution_count": null,
   "id": "6486673a-4f5b-48c2-97f1-37bef9b6ce75",
   "metadata": {},
   "outputs": [],
   "source": [
    "# 상품별 리뷰(상품평) 크롤링  --집에서 보강할것\n",
    "url = 'https://item.gmarket.co.kr/Review/Premium'\n",
    "\n",
    "for item in best_items:\n",
    "    params = {'goodsCode' : item[0], 'pageNo' : 1, 'sort': 0, 'totalPage':9999}\n",
    "    response = requests.post(url, params = params)\n",
    "    print(response)\n",
    "    break"
   ]
  },
  {
   "cell_type": "code",
   "execution_count": null,
   "id": "3f341990-bb3a-45ea-9f88-b7ab5a2f7239",
   "metadata": {},
   "outputs": [],
   "source": [
    "all_revies = []\n",
    "review = BeautifulSoup(response.content, 'html.parser')\n",
    "rows = review.select('table > tbody > tr')\n",
    "for row in rows:\n",
    "    title = row.select_one('td p:nth-child(1)').text.strip()\n",
    "    content = row.select_one('td p:nth-child(3)').text.strip()\n",
    "    all_revies.append([title, content])"
   ]
  },
  {
   "cell_type": "code",
   "execution_count": null,
   "id": "206eb244-63bf-492a-810e-f55f7b2d8209",
   "metadata": {},
   "outputs": [],
   "source": [
    "import pymysql\n",
    "\n",
    "conn = pymysql.connect(user = 'maria', \n",
    "                        password = '1234',\n",
    "                        host = 'localhost',\n",
    "                        port = 3306,\n",
    "                        database = 'test_db')\n",
    "cursor = conn.cursor()"
   ]
  },
  {
   "cell_type": "code",
   "execution_count": null,
   "id": "fa9aa4ae-9feb-49c3-855f-f8fa0c6ec012",
   "metadata": {},
   "outputs": [],
   "source": [
    "sql = '''insert into reviews (title, content) values (%s, %s)'''\n",
    "cursor.execute(sql, all_revies[0])\n",
    "conn.commit()\n",
    "\n",
    "conn.close()"
   ]
  },
  {
   "cell_type": "code",
   "execution_count": null,
   "id": "0af58a02-2d8d-41e9-b1d5-74f71c654ef7",
   "metadata": {},
   "outputs": [],
   "source": []
  }
 ],
 "metadata": {
  "kernelspec": {
   "display_name": "Python 3 (ipykernel)",
   "language": "python",
   "name": "python3"
  },
  "language_info": {
   "codemirror_mode": {
    "name": "ipython",
    "version": 3
   },
   "file_extension": ".py",
   "mimetype": "text/x-python",
   "name": "python",
   "nbconvert_exporter": "python",
   "pygments_lexer": "ipython3",
   "version": "3.11.5"
  }
 },
 "nbformat": 4,
 "nbformat_minor": 5
}
