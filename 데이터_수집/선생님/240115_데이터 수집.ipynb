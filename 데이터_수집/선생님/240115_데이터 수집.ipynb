{
 "cells": [
  {
   "cell_type": "code",
   "execution_count": null,
   "id": "96279678",
   "metadata": {},
   "outputs": [],
   "source": [
    "import requests\n",
    "from bs4 import BeautifulSoup"
   ]
  },
  {
   "cell_type": "code",
   "execution_count": null,
   "id": "09f55e38",
   "metadata": {},
   "outputs": [],
   "source": [
    "url = 'https://www.mois.go.kr/frt/bbs/type010/commonSelectBoardList.do?bbsId=BBSMSTR_000000000008'\n",
    "\n",
    "response = requests.get(url)\n",
    "print(response)"
   ]
  },
  {
   "cell_type": "code",
   "execution_count": null,
   "id": "5484d560",
   "metadata": {},
   "outputs": [],
   "source": [
    "soup = BeautifulSoup(response.content, 'html.parser')\n",
    "table = soup.select_one('table > tbody')\n",
    "rows = table.select('tr')\n",
    "# rows = soup.select('table > tbody > tr')"
   ]
  },
  {
   "cell_type": "code",
   "execution_count": null,
   "id": "5922b162",
   "metadata": {},
   "outputs": [],
   "source": [
    "<tr>\n",
    " <td class=\"res_hide\">15279</td>\n",
    " <td class=\"l\"><div class=\"wrap\"><a href=\"/frt/bbs/type010/commonSelectBoardArticle.do;jsessionid=WV9sMobyMIBpxYm0qxAIbMJT.node20?bbsId=BBSMSTR_000000000008&amp;nttId=106441\" onclick=\"javascript:fn_egov_inqire_notice('106441', 'BBSMSTR_000000000008'); return false;\">1월 가뭄 예‧경보 발표 </a></div></td>\n",
    " <td class=\"res_hide\"><img alt=\"첨부파일\" src=\"/images/board/icon_file.gif;jsessionid=WV9sMobyMIBpxYm0qxAIbMJT.node20\"></img></td>\n",
    " <td class=\"res_hide\">기후재난대응과</td>\n",
    " <td>2024.01.15.</td>\n",
    " <td class=\"res_hide\">42</td>\n",
    "</tr>"
   ]
  },
  {
   "cell_type": "code",
   "execution_count": null,
   "id": "2290f764",
   "metadata": {},
   "outputs": [],
   "source": [
    "datas = []\n",
    "for row in rows:\n",
    "    num = row.select_one('td:nth-child(1)').text.strip()\n",
    "    title = row.select_one('td:nth-child(2)').text.strip()\n",
    "    author = row.select_one('td:nth-child(4)').text.strip()\n",
    "    date = row.select_one('td:nth-child(5)').text.strip()\n",
    "    url = 'https://www.mois.go.kr' + row.select_one('a').get('href')\n",
    "    datas.append( [num, title, author, date, url] )"
   ]
  },
  {
   "cell_type": "code",
   "execution_count": null,
   "id": "69a15a21",
   "metadata": {},
   "outputs": [],
   "source": [
    "print(datas)"
   ]
  },
  {
   "cell_type": "code",
   "execution_count": null,
   "id": "2b8f071b",
   "metadata": {},
   "outputs": [],
   "source": [
    "import json\n",
    "url = 'https://www.mois.go.kr/frt/bbs/type010/commonSelectBoardList.do?bbsId=BBSMSTR_000000000008'\n",
    "params = {\n",
    "    'pageIndex' : 1529\n",
    "}\n",
    "response = requests.post(url, data = params)\n",
    "print(response)"
   ]
  },
  {
   "cell_type": "code",
   "execution_count": null,
   "id": "b10a67aa",
   "metadata": {
    "tags": []
   },
   "outputs": [],
   "source": [
    "rows"
   ]
  },
  {
   "cell_type": "code",
   "execution_count": null,
   "id": "44b2f272",
   "metadata": {},
   "outputs": [],
   "source": [
    "soup = BeautifulSoup(response.content, 'html.parser')\n",
    "table = soup.select_one('table > tbody')\n",
    "rows = table.select('tr')\n",
    "datas = []\n",
    "for row in rows:\n",
    "    num = row.select_one('td:nth-child(1)').text.strip()\n",
    "    title = row.select_one('td:nth-child(2)').text.strip()\n",
    "    author = row.select_one('td:nth-child(4)').text.strip()\n",
    "    date = row.select_one('td:nth-child(5)').text.strip()\n",
    "    url = 'https://www.mois.go.kr' + row.select_one('a').get('href')\n",
    "    datas.append( [num, title, author, date, url] )\n",
    "    break\n",
    "print(datas[0])"
   ]
  },
  {
   "cell_type": "code",
   "execution_count": null,
   "id": "98a30f04",
   "metadata": {},
   "outputs": [],
   "source": [
    "datas = []\n",
    "for page in range(1528, 1531): # 1 ~ 10 \n",
    "    print(page)\n",
    "    break_point = 0\n",
    "    url = 'https://www.mois.go.kr/frt/bbs/type010/commonSelectBoardList.do?bbsId=BBSMSTR_000000000008'\n",
    "    params = {\n",
    "        'pageIndex' : page\n",
    "    }\n",
    "    response = requests.post(url, data = params)\n",
    "    \n",
    "    soup = BeautifulSoup(response.content, 'html.parser')\n",
    "    table = soup.select_one('table > tbody')\n",
    "    rows = table.select('tr')\n",
    "    for row in rows:\n",
    "        num = row.select_one('td:nth-child(1)').text.strip()\n",
    "        try:\n",
    "            title = row.select_one('td:nth-child(2)').text.strip()\n",
    "        except:\n",
    "            break_point = 1\n",
    "            break\n",
    "        author = row.select_one('td:nth-child(4)').text.strip()\n",
    "        date = row.select_one('td:nth-child(5)').text.strip()\n",
    "        url = 'https://www.mois.go.kr' + row.select_one('a').get('href')\n",
    "        datas.append( [num, title, author, date, url] )\n",
    "        \n",
    "    if break_point == 1:\n",
    "        break"
   ]
  },
  {
   "cell_type": "code",
   "execution_count": null,
   "id": "339ec45f",
   "metadata": {},
   "outputs": [],
   "source": [
    "datas = []\n",
    "for page in range(1527, 1531): # 1 ~ 10 \n",
    "    print(page)\n",
    "    url = 'https://www.mois.go.kr/frt/bbs/type010/commonSelectBoardList.do?bbsId=BBSMSTR_000000000008'\n",
    "    params = {\n",
    "        'pageIndex' : page\n",
    "    }\n",
    "    response = requests.post(url, data = params)\n",
    "    \n",
    "    # 테이블의 페이지 수를 크롤링\n",
    "    page_num = soup.select_one('span.doc_totle').text.strip()\n",
    "    page_num = page_num.split('/')[-1]\n",
    "    \n",
    "    # 테이블에 있는 데이터를 크롤링\n",
    "    \n",
    "    table = soup.select_one('table > tbody')\n",
    "    rows = table.select('tr')\n",
    "    for row in rows:\n",
    "        num = row.select_one('td:nth-child(1)').text.strip()\n",
    "        title = row.select_one('td:nth-child(2)').text.strip()\n",
    "        author = row.select_one('td:nth-child(4)').text.strip()\n",
    "        date = row.select_one('td:nth-child(5)').text.strip()\n",
    "        url = 'https://www.mois.go.kr' + row.select_one('a').get('href')\n",
    "        datas.append( [num, title, author, date, url] )\n",
    "\n",
    "    if int(page_num) == page:\n",
    "        break"
   ]
  },
  {
   "cell_type": "code",
   "execution_count": null,
   "id": "af561a24",
   "metadata": {},
   "outputs": [],
   "source": [
    "page_num"
   ]
  },
  {
   "cell_type": "code",
   "execution_count": null,
   "id": "b74681eb",
   "metadata": {},
   "outputs": [],
   "source": [
    "page_num.split('/')[-1]"
   ]
  },
  {
   "cell_type": "code",
   "execution_count": 1,
   "id": "55248387",
   "metadata": {},
   "outputs": [
    {
     "name": "stdout",
     "output_type": "stream",
     "text": [
      "90\n"
     ]
    }
   ],
   "source": [
    "page = 448\n",
    "page_num = page // 5\n",
    "if page % 5 != 0:\n",
    "    page_num += 1\n",
    "print(page_num)"
   ]
  },
  {
   "cell_type": "code",
   "execution_count": null,
   "id": "1b017c97",
   "metadata": {},
   "outputs": [],
   "source": [
    "url = 'https://www.imdb.com/chart/top/?ref_=nv_mv_250'\n",
    "\n",
    "headers = {\n",
    "     'User-Agent' : 'Mozilla/5.0 (Windows NT 10.0; Win64; x64) AppleWebKit/537.36 (KHTML, like Gecko) Chrome/120.0.0.0 Safari/537.36',\n",
    "     'Referer' : 'https://www.imdb.com/',\n",
    "     'Accept-Language' : 'en'\n",
    "}\n",
    "response = requests.get(url, headers = headers)\n",
    "print(response)"
   ]
  },
  {
   "cell_type": "code",
   "execution_count": null,
   "id": "21ddd9e7",
   "metadata": {},
   "outputs": [],
   "source": [
    "soup = BeautifulSoup(response.content, 'html.parser')\n",
    "soup.select('ul.ipc-metadata-list > li h3.ipc-title__text')"
   ]
  },
  {
   "cell_type": "code",
   "execution_count": null,
   "id": "7dc359b9",
   "metadata": {},
   "outputs": [],
   "source": [
    "page = 1\n",
    "size = 5\n",
    "while True:\n",
    "    url = 'https://dapi.kakao.com/v2/local/search/category.json'\n",
    "    params = { 'category_group_code' : 'FD6', \n",
    "                'x' : '127.325356593945',\n",
    "                'y' : '36.4910924250367',\n",
    "                'radius' : '1000',\n",
    "                'size' : size,\n",
    "                'page' : page\n",
    "             }\n",
    "    headers = { 'Authorization' : 'KakaoAK ' + 'd44eaac9a1ae4db5ec4a3b895553fb84'}\n",
    "    response = requests.get(url, params = params, headers = headers)\n",
    "    \n",
    "    for item in response.json()['documents']:\n",
    "        print(item['place_name'])\n",
    "    \n",
    "    if not response.json()['meta']['is_end']:\n",
    "        page += 1\n",
    "    else:\n",
    "        break"
   ]
  },
  {
   "cell_type": "code",
   "execution_count": null,
   "id": "bcab6455",
   "metadata": {},
   "outputs": [],
   "source": [
    "response.json()['documents'][0]['place_name']"
   ]
  },
  {
   "cell_type": "code",
   "execution_count": null,
   "id": "3fcc3427",
   "metadata": {},
   "outputs": [],
   "source": [
    "url = 'https://www.gmarket.co.kr/n/best'\n",
    "\n",
    "response = requests.get(url)\n",
    "response"
   ]
  },
  {
   "cell_type": "code",
   "execution_count": null,
   "id": "7f17ebd7",
   "metadata": {},
   "outputs": [],
   "source": [
    "soup = BeautifulSoup(response.content, 'html.parser')\n",
    "images = soup.select('img.image__lazy')\n",
    "best_items = []\n",
    "for image in images:\n",
    "    code = image.get('src').split('/')[3]\n",
    "    img_url = 'https:' + image.get('src')\n",
    "    title = image.get('alt')\n",
    "    best_items.append([code, title, img_url])"
   ]
  },
  {
   "cell_type": "code",
   "execution_count": null,
   "id": "08fa62b0",
   "metadata": {},
   "outputs": [],
   "source": [
    "best_items[:3]"
   ]
  },
  {
   "cell_type": "code",
   "execution_count": null,
   "id": "e5f080b0",
   "metadata": {},
   "outputs": [],
   "source": [
    "len(best_items)"
   ]
  },
  {
   "cell_type": "code",
   "execution_count": null,
   "id": "e10d75b4",
   "metadata": {},
   "outputs": [],
   "source": [
    "for num, item in enumerate(best_items):\n",
    "    response = requests.get(item[2])\n",
    "\n",
    "    with open(f'images/{num}.jpeg', 'wb') as f:\n",
    "        f.write(response.content)"
   ]
  },
  {
   "cell_type": "code",
   "execution_count": null,
   "id": "3948b3e9",
   "metadata": {},
   "outputs": [],
   "source": [
    "from urllib.request import urlopen, urlretrieve"
   ]
  },
  {
   "cell_type": "code",
   "execution_count": null,
   "id": "76a1ae73",
   "metadata": {},
   "outputs": [],
   "source": [
    "for num, item in enumerate(best_items):\n",
    "    urlretrieve(item[2], f'images2/{num}.jpeg')\n"
   ]
  },
  {
   "cell_type": "code",
   "execution_count": null,
   "id": "8d5cd578",
   "metadata": {},
   "outputs": [],
   "source": [
    "urlretrieve('https://naver.com', 'naver.html')"
   ]
  },
  {
   "cell_type": "code",
   "execution_count": null,
   "id": "36de8512",
   "metadata": {},
   "outputs": [],
   "source": [
    "import pymysql\n",
    "\n",
    "conn = pymysql.connect(user = 'maria', \n",
    "                        password = '1234',\n",
    "                        host = 'localhost',\n",
    "                        port = 3306,\n",
    "                        database = 'python_db')"
   ]
  },
  {
   "cell_type": "code",
   "execution_count": null,
   "id": "1079f4f6",
   "metadata": {},
   "outputs": [],
   "source": [
    "response = requests.get(best_items[0][2])\n",
    "response.content"
   ]
  },
  {
   "cell_type": "code",
   "execution_count": null,
   "id": "5f425e2e",
   "metadata": {},
   "outputs": [],
   "source": [
    "from PIL import Image\n",
    "import io\n",
    "\n",
    "img = image.open(io.BytesIO(response.content))\n",
    "img.show()"
   ]
  },
  {
   "cell_type": "code",
   "execution_count": null,
   "id": "86fa4a62",
   "metadata": {},
   "outputs": [],
   "source": [
    "cursor = conn.cursor()\n",
    "sql = f'''insert into gmarket values (%s)'''\n",
    "cursor.execute(sql, [response.content])\n",
    "conn.commit()\n",
    "conn.close()"
   ]
  },
  {
   "cell_type": "code",
   "execution_count": null,
   "id": "85154b6a",
   "metadata": {},
   "outputs": [],
   "source": [
    "url = 'https://item.gmarket.co.kr/Review/Premium'\n",
    "\n",
    "for item in best_items:\n",
    "    params = {'goodsCode' : item[0], 'pageNo' : 1, 'sort': 0, 'totalPage':9999}\n",
    "    response = requests.post(url, params = params)\n",
    "    print(response)\n",
    "    break"
   ]
  },
  {
   "cell_type": "code",
   "execution_count": null,
   "id": "304c93ef",
   "metadata": {},
   "outputs": [],
   "source": [
    "all_revies = []\n",
    "review = BeautifulSoup(response.content, 'html.parser')\n",
    "rows = review.select('table > tbody tr')\n",
    "for row in rows:\n",
    "    title = row.select_one('td p:nth-child(1)').text.strip()\n",
    "    content = row.select_one('td p:nth-child(3)').text.strip()\n",
    "    all_revies.append([title, content])"
   ]
  },
  {
   "cell_type": "code",
   "execution_count": null,
   "id": "44f052f7",
   "metadata": {},
   "outputs": [],
   "source": [
    "all_revies"
   ]
  },
  {
   "cell_type": "code",
   "execution_count": null,
   "id": "b684db29",
   "metadata": {},
   "outputs": [],
   "source": [
    "import pymysql\n",
    "\n",
    "conn = pymysql.connect(user = 'maria', \n",
    "                        password = '1234',\n",
    "                        host = 'localhost',\n",
    "                        port = 3306,\n",
    "                        database = 'python_db')\n",
    "cursor = conn.cursor()"
   ]
  },
  {
   "cell_type": "code",
   "execution_count": null,
   "id": "4814289d",
   "metadata": {},
   "outputs": [],
   "source": [
    "sql = '''insert into reviews (title, content) values (%s, %s)'''\n",
    "cursor.execute(sql, all_revies[0])\n",
    "conn.commit()\n",
    "\n",
    "conn.close()"
   ]
  },
  {
   "cell_type": "code",
   "execution_count": null,
   "id": "c9e46908",
   "metadata": {},
   "outputs": [],
   "source": []
  }
 ],
 "metadata": {
  "kernelspec": {
   "display_name": "Python 3 (ipykernel)",
   "language": "python",
   "name": "python3"
  },
  "language_info": {
   "codemirror_mode": {
    "name": "ipython",
    "version": 3
   },
   "file_extension": ".py",
   "mimetype": "text/x-python",
   "name": "python",
   "nbconvert_exporter": "python",
   "pygments_lexer": "ipython3",
   "version": "3.11.5"
  }
 },
 "nbformat": 4,
 "nbformat_minor": 5
}
