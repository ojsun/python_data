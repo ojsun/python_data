{
 "cells": [
  {
   "cell_type": "code",
   "execution_count": null,
   "id": "b2a8c8cb",
   "metadata": {},
   "outputs": [],
   "source": [
    "import requests, json"
   ]
  },
  {
   "cell_type": "code",
   "execution_count": null,
   "id": "9b194243",
   "metadata": {},
   "outputs": [],
   "source": [
    "CLIENT_ID = \"0keVMr8xAhCCKKHqq_SZ\"\n",
    "CLIENT_SECRET = \"znXZuY_dDI\""
   ]
  },
  {
   "cell_type": "code",
   "execution_count": null,
   "id": "882fc65b",
   "metadata": {},
   "outputs": [],
   "source": [
    "headers = {\"Content-Type\": \"application/json\",\n",
    "            \"X-Naver-Client-Id\": CLIENT_ID,\n",
    "            \"X-Naver-Client-Secret\": CLIENT_SECRET}"
   ]
  },
  {
   "cell_type": "code",
   "execution_count": null,
   "id": "2f8a8a58",
   "metadata": {},
   "outputs": [],
   "source": [
    "url = \"https://openapi.naver.com/v1/datalab/search\"\n",
    "params = {\n",
    "\"startDate\": \"2023-01-01\",\n",
    "\"endDate\": \"2023-12-31\",\n",
    "\"timeUnit\": \"month\", \n",
    "\"keywordGroups\": [\n",
    "{\"groupName\": \"트위터\", \"keywords\": [\"트위터\", \"트윗\"]},\n",
    "{\"groupName\": \"페이스북\", \"keywords\": [\"페이스북\", \"페북\"]},\n",
    "{\"groupName\": \"인스타그램\", \"keywords\": [\"인스타그램\", \n",
    "\"인스타\"]}]}\n",
    "response = requests.post(url, data = json.dumps(params), headers=headers)"
   ]
  },
  {
   "cell_type": "code",
   "execution_count": null,
   "id": "84423b26",
   "metadata": {},
   "outputs": [],
   "source": [
    "response.json()"
   ]
  },
  {
   "cell_type": "code",
   "execution_count": null,
   "id": "8b9f8478",
   "metadata": {},
   "outputs": [],
   "source": [
    "restapi_key = \"d44eaac9a1ae4db5ec4a3b895553fb84\"\n",
    "url = \"https://dapi.kakao.com/v2/local/search/address.json\"\n",
    "params = { \"query\": '집현동로 77' }\n",
    "headers = {\"Authorization\": \"KakaoAK \" + restapi_key}\n",
    "response = requests.get(url, headers=headers, params=params)\n",
    "response"
   ]
  },
  {
   "cell_type": "code",
   "execution_count": null,
   "id": "fcaaa6b9",
   "metadata": {},
   "outputs": [],
   "source": [
    "data = response.json()"
   ]
  },
  {
   "cell_type": "code",
   "execution_count": null,
   "id": "a84d4b60",
   "metadata": {},
   "outputs": [],
   "source": [
    "data['documents'][0]['address']['x']"
   ]
  },
  {
   "cell_type": "code",
   "execution_count": null,
   "id": "91119944",
   "metadata": {},
   "outputs": [],
   "source": [
    "data['documents'][0]['address']['y']"
   ]
  },
  {
   "cell_type": "code",
   "execution_count": null,
   "id": "550899da",
   "metadata": {},
   "outputs": [],
   "source": [
    "url = 'https://apis.zigbang.com/v2/items/oneroom?geohash=wy6x9&depositMin=0&rentMin=0&salesTypes%5B0%5D=%EC%A0%84%EC%84%B8&salesTypes%5B1%5D=%EC%9B%94%EC%84%B8&domain=zigbang&checkAnyItemWithoutFilter=true'\n",
    "\n",
    "response = requests.get(url)\n",
    "response.json()"
   ]
  },
  {
   "cell_type": "code",
   "execution_count": null,
   "id": "49fe8ca5",
   "metadata": {},
   "outputs": [],
   "source": [
    "url = f'https://apis.zigbang.com/v2/items/oneroom?geohash={geohash}\\\n",
    "&depositMin=0&rentMin=0&salesTypes[0]=월세&salesTypes[1]=전세\\\n",
    "&domain=zigbang&checkAnyItemWithoutFilter=true'\n",
    "\n",
    "response = requests.get(url)\n",
    "datas = response.json()['items']\n",
    "ids = [data[\"itemId\"] for data in datas]\n",
    "len(ids), ids[:5]\n"
   ]
  },
  {
   "cell_type": "code",
   "execution_count": null,
   "id": "467f7863",
   "metadata": {},
   "outputs": [],
   "source": [
    "url = 'https://www.zigbang.com/home/oneroom/map'\n",
    "\n",
    "response = requests.get(url)\n",
    "response"
   ]
  },
  {
   "cell_type": "code",
   "execution_count": null,
   "id": "a948e6f6",
   "metadata": {},
   "outputs": [],
   "source": [
    "1 + 2 + 2+ 2+ 2+ 2+ 2+ 2+ 2+ 2+ \\\n",
    "2+ 2+ 2+ 2+ 2+ 2+ 2+ 2+ 2+ 2+ 2\\\n",
    "+ \\\n",
    "2+ 2+ 2+ 2+ 2+ 2+ 2+ 2+ 2+ 2+ 2+ 2+ 2+ 2+ 2+ 2+ 2+ 2"
   ]
  },
  {
   "cell_type": "code",
   "execution_count": null,
   "id": "bc998d80",
   "metadata": {},
   "outputs": [],
   "source": [
    "'''abc\\\n",
    "def'''"
   ]
  },
  {
   "cell_type": "code",
   "execution_count": null,
   "id": "68a9148f",
   "metadata": {},
   "outputs": [],
   "source": [
    "url = '''https://apis.zigbang.com/v2/items/oneroom?geohash=wy6r\\\n",
    "&depositMin=0&rentMin=0&salesTypes[0]=전세\\\n",
    "&salesTypes[1]=월세&domain=zigbang&checkAnyItemWithoutFilter=true'''\n",
    "\n",
    "response = requests.get(url)\n",
    "response"
   ]
  },
  {
   "cell_type": "code",
   "execution_count": null,
   "id": "10e92341",
   "metadata": {},
   "outputs": [],
   "source": [
    "result = response.json()\n",
    "items_Id = []\n",
    "for item in result['items']:\n",
    "    items_Id.append(item['itemId'])"
   ]
  },
  {
   "cell_type": "code",
   "execution_count": null,
   "id": "ef3a83d8",
   "metadata": {},
   "outputs": [],
   "source": [
    "print(items_Id)"
   ]
  },
  {
   "cell_type": "code",
   "execution_count": null,
   "id": "8c4bba26",
   "metadata": {},
   "outputs": [],
   "source": [
    "url = \"https://apis.zigbang.com/v2/items/list\"\n",
    "params = {\"item_ids\": items_Id, \"domain\": \"zigbang\"}\n",
    "response = requests.post(url, data = params)\n"
   ]
  },
  {
   "cell_type": "code",
   "execution_count": null,
   "id": "ad8787fe",
   "metadata": {},
   "outputs": [],
   "source": [
    "result = response.json()\n",
    "final_result = []\n",
    "for item in result['items']:\n",
    "    sales_type = item['sales_type']\n",
    "    deposit = item['deposit']\n",
    "    rent = item['rent']\n",
    "    area = item['전용면적']['m2']\n",
    "    address = item['address']\n",
    "    final_result.append([sales_type, deposit, rent, area, address])\n",
    "final_result"
   ]
  },
  {
   "cell_type": "code",
   "execution_count": null,
   "id": "ad7ad4c6",
   "metadata": {},
   "outputs": [],
   "source": [
    "def search_location(query):\n",
    "    restapi_key = '60b71cac95c11ebfeb2ee9d26ca44bbc'\n",
    "    url = \"https://dapi.kakao.com/v2/local/search/address.json\"\n",
    "    params = { \"query\": query }\n",
    "    headers = {\"Authorization\": \"KakaoAK \" + restapi_key}\n",
    "    response = requests.get(url, headers=headers, params=params)\n",
    "    \n",
    "    if response.status_code == 200:\n",
    "        try:\n",
    "            address = response.json()['documents'][0]\n",
    "            return float(address['x']), float(address['y'])\n",
    "        except:\n",
    "            return '검색안됨'\n",
    "    else:\n",
    "        return response.status_code\n"
   ]
  },
  {
   "cell_type": "code",
   "execution_count": null,
   "id": "0dd4d147",
   "metadata": {},
   "outputs": [],
   "source": [
    "search_location('새나루 9단지')"
   ]
  },
  {
   "cell_type": "code",
   "execution_count": null,
   "id": "0553c2a5",
   "metadata": {},
   "outputs": [],
   "source": [
    "!pip install geohash2"
   ]
  },
  {
   "cell_type": "code",
   "execution_count": null,
   "id": "114addfc",
   "metadata": {},
   "outputs": [],
   "source": [
    "import geohash2"
   ]
  },
  {
   "cell_type": "code",
   "execution_count": null,
   "id": "5e2809a3",
   "metadata": {},
   "outputs": [],
   "source": [
    "lng, lat = search_location('보람동')"
   ]
  },
  {
   "cell_type": "code",
   "execution_count": null,
   "id": "d0a31845",
   "metadata": {},
   "outputs": [],
   "source": [
    "geohash = geohash2.encode(lat, lng, precision=5)\n",
    "geohash"
   ]
  },
  {
   "cell_type": "code",
   "execution_count": null,
   "id": "e12ad8cc",
   "metadata": {},
   "outputs": [],
   "source": [
    "def search_ids(geohash):\n",
    "    url = f'https://apis.zigbang.com/v2/items/oneroom'\n",
    "\n",
    "    params = {'geohash': geohash,\n",
    "              'depositMin':'0',\n",
    "              'rentMin':'0',\n",
    "              'salesTypes' : ['월세', '전세'],\n",
    "              'domain':'zigbang',\n",
    "              'checkAnyItemWithoutFilter':'true'}\n",
    "\n",
    "    response = requests.get(url, params)\n",
    "    if response.status_code == 200:\n",
    "        datas = response.json()['items']\n",
    "        ids = [data[\"itemId\"] for data in datas]\n",
    "        return ids\n",
    "    else:\n",
    "        return response.status_code"
   ]
  },
  {
   "cell_type": "code",
   "execution_count": null,
   "id": "472d5384",
   "metadata": {},
   "outputs": [],
   "source": [
    "ids = search_ids(geohash)"
   ]
  },
  {
   "cell_type": "code",
   "execution_count": null,
   "id": "c014a860",
   "metadata": {},
   "outputs": [],
   "source": [
    "url = \"https://apis.zigbang.com/v2/items/list\"\n",
    "params = {\"item_ids\": ids, \"domain\": \"zigbang\"}\n",
    "response = requests.post(url, params)\n",
    "result = response.json()"
   ]
  },
  {
   "cell_type": "code",
   "execution_count": null,
   "id": "cde338d5",
   "metadata": {},
   "outputs": [],
   "source": [
    "def search_oneroom(ids):\n",
    "    url = \"https://apis.zigbang.com/v2/items/list\"\n",
    "    params = {\"item_ids\": ids, \"domain\": \"zigbang\"}\n",
    "    response = requests.post(url, params)\n",
    "    result = response.json()\n",
    "    final_result = []\n",
    "    for item in result['items']:\n",
    "        item_id = item['item_id']\n",
    "        sales_type = item['sales_type']\n",
    "        deposit = item['deposit']\n",
    "        rent = item['rent']\n",
    "        area = item['전용면적']['m2']\n",
    "        address = item['address']\n",
    "        final_result.append([item_id, sales_type, deposit, rent, area, address])\n",
    "    return final_result"
   ]
  },
  {
   "cell_type": "code",
   "execution_count": null,
   "id": "cddc3f41",
   "metadata": {},
   "outputs": [],
   "source": [
    "lng, lat = search_location('서초구')\n",
    "geohash = geohash2.encode(lat, lng, precision=5)\n",
    "ids = search_ids(geohash)\n",
    "result = search_oneroom(ids)"
   ]
  },
  {
   "cell_type": "code",
   "execution_count": null,
   "id": "e0756dfb",
   "metadata": {},
   "outputs": [],
   "source": [
    "item = ['월세', 1000, 70, 20.82, '서초구 우면동']\n",
    "list(map(str, item))"
   ]
  },
  {
   "cell_type": "code",
   "execution_count": null,
   "id": "b23ecedd",
   "metadata": {},
   "outputs": [],
   "source": [
    "result[:5]"
   ]
  },
  {
   "cell_type": "code",
   "execution_count": null,
   "id": "7f8d3bbc",
   "metadata": {},
   "outputs": [],
   "source": [
    "def write_txt(file, result, mode='w'):\n",
    "    with open(file, mode, encoding='euc-kr') as f:\n",
    "        for item in result: # item = ['월세', 1000, 70, 20.82, '서초구 우면동']\n",
    "            item = list(map(str, item))\n",
    "            item = ', '.join(item)\n",
    "            f.write(item)\n",
    "            f.write('\\n')\n",
    "    print('파일 생성 완료')"
   ]
  },
  {
   "cell_type": "code",
   "execution_count": null,
   "id": "69398a63",
   "metadata": {},
   "outputs": [],
   "source": [
    "lng, lat = search_location('서초구')\n",
    "geohash = geohash2.encode(lat, lng, precision=5)\n",
    "ids = search_ids(geohash)\n",
    "result = search_oneroom(ids)\n",
    "write_txt('result.txt', result)"
   ]
  },
  {
   "cell_type": "code",
   "execution_count": null,
   "id": "16a7e6dc",
   "metadata": {},
   "outputs": [],
   "source": [
    "import pymysql"
   ]
  },
  {
   "cell_type": "code",
   "execution_count": null,
   "id": "a6d98c73",
   "metadata": {},
   "outputs": [],
   "source": [
    "def insert_maria(result):\n",
    "    conn = pymysql.connect(user = 'maria',\n",
    "                            password = '1234',\n",
    "                            host = 'localhost',\n",
    "                            port = 3306,\n",
    "                            database = 'python_db'\n",
    "                            )\n",
    "    cursor = conn.cursor()\n",
    "\n",
    "    sql = '''insert into oneroom values (%s, %s, %s, %s, %s, %s)'''\n",
    "    for index, item in enumerate(result):\n",
    "        try:\n",
    "            cursor.execute(sql, item)\n",
    "        except:\n",
    "            print('중복데이터 입력 :', item[0])\n",
    "            continue\n",
    "        if index % 10 == 0:\n",
    "            conn.commit()\n",
    "\n",
    "    conn.commit()\n",
    "    conn.close()"
   ]
  },
  {
   "cell_type": "code",
   "execution_count": null,
   "id": "d51fa34e",
   "metadata": {},
   "outputs": [],
   "source": [
    "lng, lat = search_location('조치원읍')\n",
    "geohash = geohash2.encode(lat, lng, precision=5)\n",
    "ids = search_ids(geohash)\n",
    "result = search_oneroom(ids)\n",
    "insert_maria(result)"
   ]
  },
  {
   "cell_type": "code",
   "execution_count": null,
   "id": "32381e26",
   "metadata": {},
   "outputs": [],
   "source": [
    "result"
   ]
  },
  {
   "cell_type": "code",
   "execution_count": null,
   "id": "7f4951d4",
   "metadata": {},
   "outputs": [],
   "source": []
  }
 ],
 "metadata": {
  "kernelspec": {
   "display_name": "Python 3 (ipykernel)",
   "language": "python",
   "name": "python3"
  },
  "language_info": {
   "codemirror_mode": {
    "name": "ipython",
    "version": 3
   },
   "file_extension": ".py",
   "mimetype": "text/x-python",
   "name": "python",
   "nbconvert_exporter": "python",
   "pygments_lexer": "ipython3",
   "version": "3.11.5"
  }
 },
 "nbformat": 4,
 "nbformat_minor": 5
}
