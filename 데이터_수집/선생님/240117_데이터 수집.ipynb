{
 "cells": [
  {
   "cell_type": "code",
   "execution_count": null,
   "id": "88b9ee73",
   "metadata": {},
   "outputs": [],
   "source": [
    "import requests"
   ]
  },
  {
   "cell_type": "code",
   "execution_count": null,
   "id": "1a80feb6",
   "metadata": {},
   "outputs": [],
   "source": [
    "url = 'https://dapi.kakao.com/v2/local/search/address.json'\n",
    "restapi_key = '60b71cac95c11ebfeb2ee9d26ca44bbc'"
   ]
  },
  {
   "cell_type": "code",
   "execution_count": null,
   "id": "94913cd9",
   "metadata": {},
   "outputs": [],
   "source": [
    "headers = {\n",
    "    'Authorization' : 'KakaoAK ' + restapi_key\n",
    "}\n",
    "params = {\n",
    "    'query' : '집현동'\n",
    "}"
   ]
  },
  {
   "cell_type": "code",
   "execution_count": null,
   "id": "1f3b29d1",
   "metadata": {},
   "outputs": [],
   "source": [
    "response = requests.get(url, params = params, headers = headers)\n",
    "if response.status_code == 200:\n",
    "    x = response.json()['documents'][0]['x']\n",
    "    y = response.json()['documents'][0]['y']"
   ]
  },
  {
   "cell_type": "code",
   "execution_count": null,
   "id": "ade8fc94",
   "metadata": {},
   "outputs": [],
   "source": [
    "def search_location(query):\n",
    "    '''\n",
    "    query : string = 주소값\n",
    "    이 함수는 주소값을 입력받아\n",
    "    x(경도), y(위도)를 반환하는 함수입니다.\n",
    "    '''\n",
    "    url = 'https://dapi.kakao.com/v2/local/search/address.json'\n",
    "    restapi_key = '60b71cac95c11ebfeb2ee9d26ca44bbc'\n",
    "    headers = {\n",
    "        'Authorization' : 'KakaoAK ' + restapi_key\n",
    "    }\n",
    "    params = {\n",
    "        'query' : query\n",
    "    }\n",
    "    response = requests.get(url, params = params, headers = headers)\n",
    "    if response.status_code == 200:\n",
    "        x = response.json()['documents'][0]['x']\n",
    "        y = response.json()['documents'][0]['y']\n",
    "        return x, y"
   ]
  },
  {
   "cell_type": "code",
   "execution_count": null,
   "id": "166688f0",
   "metadata": {},
   "outputs": [],
   "source": [
    "search_location('반곡동')"
   ]
  },
  {
   "cell_type": "code",
   "execution_count": null,
   "id": "cd82b5be",
   "metadata": {},
   "outputs": [],
   "source": [
    "def category_search( cat_code, x, y):\n",
    "    '''\n",
    "    cat_code : string = 카테고리\n",
    "    x : string = 경도\n",
    "    y : string = 위도\n",
    "    \n",
    "    cat_code\n",
    "        MT1:대형마트, CS2:편의점, PS3:어린이집, 유치원,\n",
    "        SC4:학교, AC5:학원, PK6:주차장,\n",
    "        OL7:주유소, 충전소, SW8:지하철역, BK9:은행,\n",
    "        CT1:문화시설, AG2:중개업소, PO3:공공기관,\n",
    "        AT4:관광명소, AD5:숙박, FD6:음식점,\n",
    "        CE7:카페, HP8:병원, PM9:약국\n",
    "    '''\n",
    "    url = 'https://dapi.kakao.com/v2/local/search/category.json'\n",
    "    restapi_key = '60b71cac95c11ebfeb2ee9d26ca44bbc'\n",
    "    headers = {\n",
    "        'Authorization' : 'KakaoAK ' + restapi_key\n",
    "    }\n",
    "    page = 1\n",
    "    ids = []\n",
    "    while True:   \n",
    "        params = {\n",
    "            'category_group_code' : cat_code,\n",
    "            'x' : x,\n",
    "            'y' : y,\n",
    "            'radius' : 1000, \n",
    "            'page' : page\n",
    "        }\n",
    "        response = requests.get(url, params = params, headers = headers)\n",
    "        if response.status_code == 200:\n",
    "            for item in response.json()['documents']:\n",
    "                ids.append(item['id'])\n",
    "\n",
    "        if response.json()['meta']['is_end']:\n",
    "            # meta is_end True 일때 실행\n",
    "            break\n",
    "\n",
    "        page += 1\n",
    "    return ids"
   ]
  },
  {
   "cell_type": "code",
   "execution_count": null,
   "id": "f6daeae9",
   "metadata": {},
   "outputs": [],
   "source": [
    "def detail_search(id_):\n",
    "    url = 'https://place.map.kakao.com/main/v/' + id_\n",
    "\n",
    "    response = requests.get(url)\n",
    "    if response.status_code == 200:\n",
    "        print(response.json()['basicInfo']['category']['catename'])"
   ]
  },
  {
   "cell_type": "code",
   "execution_count": null,
   "id": "9bb5b17b",
   "metadata": {},
   "outputs": [],
   "source": [
    "import time\n",
    "x, y = search_location('반곡동')\n",
    "items = category_search('FD6', x, y)\n",
    "for id_ in items:\n",
    "    time.sleep(3)\n",
    "    detail_search(id_)"
   ]
  },
  {
   "cell_type": "code",
   "execution_count": null,
   "id": "a6a1d42b",
   "metadata": {},
   "outputs": [],
   "source": [
    "response.json()['basicInfo']['category']['catename']"
   ]
  },
  {
   "cell_type": "code",
   "execution_count": null,
   "id": "57f69c05",
   "metadata": {},
   "outputs": [],
   "source": []
  }
 ],
 "metadata": {
  "kernelspec": {
   "display_name": "Python 3 (ipykernel)",
   "language": "python",
   "name": "python3"
  },
  "language_info": {
   "codemirror_mode": {
    "name": "ipython",
    "version": 3
   },
   "file_extension": ".py",
   "mimetype": "text/x-python",
   "name": "python",
   "nbconvert_exporter": "python",
   "pygments_lexer": "ipython3",
   "version": "3.11.5"
  }
 },
 "nbformat": 4,
 "nbformat_minor": 5
}
