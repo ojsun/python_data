{
 "cells": [
  {
   "cell_type": "code",
   "execution_count": null,
   "id": "2db0b33c",
   "metadata": {},
   "outputs": [],
   "source": [
    "import requests\n",
    "\n",
    "url = 'https://m.stock.naver.com/api/stock/005930/price?pageSize=20&page=1'\n",
    "response = requests.get(url)\n",
    "response"
   ]
  },
  {
   "cell_type": "code",
   "execution_count": null,
   "id": "d58d8ee4",
   "metadata": {},
   "outputs": [],
   "source": [
    "datas = response.json()\n",
    "total_data = []\n",
    "for data in datas:\n",
    "    date = data['localTradedAt']\n",
    "    price = data['closePrice']\n",
    "    total_data.append( [date, price] )"
   ]
  },
  {
   "cell_type": "code",
   "execution_count": null,
   "id": "7e53f9d8",
   "metadata": {},
   "outputs": [],
   "source": [
    "total_data"
   ]
  },
  {
   "cell_type": "code",
   "execution_count": null,
   "id": "91a7ab0c",
   "metadata": {},
   "outputs": [],
   "source": [
    "for i in []:\n",
    "    print(i)"
   ]
  },
  {
   "cell_type": "code",
   "execution_count": null,
   "id": "18a73e10",
   "metadata": {
    "scrolled": true
   },
   "outputs": [],
   "source": [
    "import time\n",
    "total_data = []\n",
    "for page in range(1,11):\n",
    "    print(page)\n",
    "    url = f'https://m.stock.naver.com/api/stock/005930/price?pageSize=20&page={page}'\n",
    "    response = requests.get(url)\n",
    "    time.sleep(1)\n",
    "    if response.status_code == 200:\n",
    "        datas = response.json()    \n",
    "        if not datas:\n",
    "            break\n",
    "        for data in datas:\n",
    "            try:\n",
    "                date = data['localTradedAt']\n",
    "                price = data['closePrice']\n",
    "                total_data.append( [date, price] )\n",
    "            except:\n",
    "                pass\n",
    "    else:\n",
    "        break\n"
   ]
  },
  {
   "cell_type": "code",
   "execution_count": null,
   "id": "71c87455",
   "metadata": {},
   "outputs": [],
   "source": [
    "while True:\n",
    "    page = 1\n",
    "    url = f'https://m.stock.naver.com/api/stock/005930/price?pageSize=20&page={page}'\n",
    "    print(url)\n",
    "    \n",
    "    if 데이터가 없는 상황:\n",
    "        break\n",
    "    page += 1"
   ]
  },
  {
   "cell_type": "code",
   "execution_count": null,
   "id": "2fa19f03",
   "metadata": {},
   "outputs": [],
   "source": [
    "stocks = ['005930', '000660']\n",
    "for stock in stocks:\n",
    "    for page in range(1, 5):\n",
    "        url = f'https://m.stock.naver.com/api/stock/{stock}/price?pageSize=20&page={page}'\n",
    "        print(url)"
   ]
  },
  {
   "cell_type": "code",
   "execution_count": null,
   "id": "b2ad1002",
   "metadata": {},
   "outputs": [],
   "source": [
    "'https://api.odcloud.kr/api/15081901/v1/uddi:e86f20c4-44de-4839-bf4a-e53c23d361e2?page=1&perPage=10&returnType=json&serviceKey=CNH2rSsnm1yLh9GuJgWu0Dy6IKath1rCI%2BdeUaWictmAESpAGQyeCM1P2i01DYrhcpup7yuHvA2rLxckTxQoHQ%3D%3D'"
   ]
  },
  {
   "cell_type": "code",
   "execution_count": null,
   "id": "b4f7d61b",
   "metadata": {},
   "outputs": [],
   "source": [
    "Servicekey = 'CNH2rSsnm1yLh9GuJgWu0Dy6IKath1rCI+deUaWictmAESpAGQyeCM1P2i01DYrhcpup7yuHvA2rLxckTxQoHQ=='\n",
    "base_url = 'https://api.odcloud.kr/api'\n",
    "# 주소 수정\n",
    "url = '/15081901/v1/uddi:e86f20c4-44de-4839-bf4a-e53c23d361e2'\n",
    "\n",
    "params = { 'serviceKey': Servicekey,\n",
    "           # 파라미터 수정\n",
    "           'page' : 1,\n",
    "           'perPage' : 10,\n",
    "           'returnType' : 'json', \n",
    "           \n",
    "}\n",
    "\n",
    "response = requests.get(base_url + url, params = params)\n",
    "response"
   ]
  },
  {
   "cell_type": "code",
   "execution_count": null,
   "id": "c5f4f23e",
   "metadata": {},
   "outputs": [],
   "source": [
    "# CCTV\n",
    "Servicekey = 'CNH2rSsnm1yLh9GuJgWu0Dy6IKath1rCI+deUaWictmAESpAGQyeCM1P2i01DYrhcpup7yuHvA2rLxckTxQoHQ=='\n",
    "base_url = 'https://api.odcloud.kr/api'\n",
    "# 주소 수정\n",
    "url = '/3037683/v1/uddi:94d13f6a-d884-4ac2-8d7a-d733f70ad80e'\n",
    "\n",
    "params = { 'serviceKey': Servicekey,\n",
    "           # 파라미터 수정\n",
    "           'page' : 1,\n",
    "           'perPage' : 10,\n",
    "           'returnType' : 'XML', \n",
    "           \n",
    "}\n",
    "\n",
    "response = requests.get(base_url + url, params = params)\n",
    "response"
   ]
  },
  {
   "cell_type": "code",
   "execution_count": null,
   "id": "24833f01",
   "metadata": {},
   "outputs": [],
   "source": [
    "from bs4 import BeautifulSoup\n",
    "\n",
    "xml = BeautifulSoup(response.content, 'lxml')\n",
    "items = xml.select_one('item')\n",
    "print(items)"
   ]
  },
  {
   "cell_type": "code",
   "execution_count": null,
   "id": "86b33880",
   "metadata": {},
   "outputs": [],
   "source": [
    "restapi_key = \"d44eaac9a1ae4db5ec4a3b895553fb84\"\n",
    "url = \"https://dapi.kakao.com/v2/local/search/address.xml\"\n",
    "params = { \"query\": '집현동로 77' }\n",
    "headers = {\"Authorization\": \"KakaoAK \" + restapi_key}\n",
    "response_xml = requests.get(url, headers=headers, params=params)\n",
    "response_xml"
   ]
  },
  {
   "cell_type": "code",
   "execution_count": null,
   "id": "ca98dfcc",
   "metadata": {},
   "outputs": [],
   "source": [
    "xml = BeautifulSoup(response.content, 'lxml')\n",
    "x = xml.select_one('x').text\n",
    "y = xml.select_one('y').text\n",
    "print(x, y)"
   ]
  },
  {
   "cell_type": "code",
   "execution_count": null,
   "id": "06a0486e",
   "metadata": {},
   "outputs": [],
   "source": [
    "restapi_key = \"d44eaac9a1ae4db5ec4a3b895553fb84\"\n",
    "url = \"https://dapi.kakao.com/v2/local/search/address.json\"\n",
    "params = { \"query\": '집현동로 77' }\n",
    "headers = {\"Authorization\": \"KakaoAK \" + restapi_key}\n",
    "response_json = requests.get(url, headers=headers, params=params)\n",
    "response_json"
   ]
  },
  {
   "cell_type": "code",
   "execution_count": null,
   "id": "49e7a188",
   "metadata": {},
   "outputs": [],
   "source": [
    "xml = BeautifulSoup(response.content, 'lxml')\n",
    "xml"
   ]
  },
  {
   "cell_type": "code",
   "execution_count": null,
   "id": "26791dbd",
   "metadata": {},
   "outputs": [],
   "source": [
    "response_json.json()"
   ]
  },
  {
   "cell_type": "code",
   "execution_count": null,
   "id": "7174d7f1",
   "metadata": {},
   "outputs": [],
   "source": [
    "!pip install selenium"
   ]
  },
  {
   "cell_type": "code",
   "execution_count": null,
   "id": "2d631ce6",
   "metadata": {},
   "outputs": [],
   "source": [
    "from selenium import webdriver\n",
    "driver = webdriver.Chrome()"
   ]
  },
  {
   "cell_type": "code",
   "execution_count": null,
   "id": "a5326980",
   "metadata": {},
   "outputs": [],
   "source": []
  },
  {
   "cell_type": "code",
   "execution_count": null,
   "id": "55f50281",
   "metadata": {},
   "outputs": [],
   "source": [
    "!pip install webdriver-manager"
   ]
  },
  {
   "cell_type": "code",
   "execution_count": null,
   "id": "c63cf074-c028-4375-b3cf-47bd05f180f6",
   "metadata": {},
   "outputs": [],
   "source": [
    "## 브라우저에서 selenium 잘 동작하게 하기 위해서"
   ]
  },
  {
   "cell_type": "code",
   "execution_count": null,
   "id": "db32b457",
   "metadata": {},
   "outputs": [],
   "source": [
    "from selenium import webdriver\n",
    "from selenium.webdriver.chrome.service import Service\n",
    "from webdriver_manager.chrome import ChromeDriverManager\n",
    "\n",
    "service = Service(ChromeDriverManager().install())\n",
    "driver = webdriver.Chrome(service=service)"
   ]
  },
  {
   "cell_type": "code",
   "execution_count": null,
   "id": "a97704bf",
   "metadata": {},
   "outputs": [],
   "source": [
    "from selenium import webdriver\n",
    "\n",
    "driver = webdriver.Chrome()"
   ]
  },
  {
   "cell_type": "code",
   "execution_count": null,
   "id": "36b62115",
   "metadata": {},
   "outputs": [],
   "source": [
    "driver.get('https://ai-dev.tistory.com/1')"
   ]
  },
  {
   "cell_type": "code",
   "execution_count": null,
   "id": "cc6d261e",
   "metadata": {},
   "outputs": [],
   "source": [
    "html = driver.page_source"
   ]
  },
  {
   "cell_type": "code",
   "execution_count": null,
   "id": "21575719",
   "metadata": {},
   "outputs": [],
   "source": [
    "soup = BeautifulSoup(html, 'html.parser')"
   ]
  },
  {
   "cell_type": "code",
   "execution_count": null,
   "id": "87e0e274",
   "metadata": {},
   "outputs": [],
   "source": [
    "soup.select_one('span.txt_like')"
   ]
  },
  {
   "cell_type": "code",
   "execution_count": null,
   "id": "72e446b3",
   "metadata": {},
   "outputs": [],
   "source": [
    "response = requests.get('https://www.zigbang.com/home/oneroom/map')\n",
    "response"
   ]
  },
  {
   "cell_type": "code",
   "execution_count": null,
   "id": "8ac2873f",
   "metadata": {},
   "outputs": [],
   "source": [
    "driver = webdriver.Chrome()\n",
    "driver.get('https://www.zigbang.com/home/oneroom/map')"
   ]
  },
  {
   "cell_type": "code",
   "execution_count": null,
   "id": "68f58ed3",
   "metadata": {},
   "outputs": [],
   "source": [
    "driver.set_window_size(200,600)"
   ]
  },
  {
   "cell_type": "code",
   "execution_count": null,
   "id": "e76c546a",
   "metadata": {},
   "outputs": [],
   "source": [
    "driver.execute_script('window.scrollTo(200,300);')"
   ]
  },
  {
   "cell_type": "code",
   "execution_count": null,
   "id": "cb699092",
   "metadata": {},
   "outputs": [],
   "source": [
    "driver.page_source"
   ]
  },
  {
   "cell_type": "code",
   "execution_count": null,
   "id": "c6ada460",
   "metadata": {},
   "outputs": [],
   "source": [
    "driver.execute_script('alert(\"hello selenium!!!\");')"
   ]
  },
  {
   "cell_type": "code",
   "execution_count": null,
   "id": "f94b1862",
   "metadata": {},
   "outputs": [],
   "source": [
    "alert = driver.switch_to.alert\n",
    "alert.accept()"
   ]
  },
  {
   "cell_type": "code",
   "execution_count": null,
   "id": "8462a352",
   "metadata": {},
   "outputs": [],
   "source": [
    "driver.close()"
   ]
  },
  {
   "cell_type": "code",
   "execution_count": null,
   "id": "9894153d",
   "metadata": {},
   "outputs": [],
   "source": [
    "driver = webdriver.Chrome()\n",
    "\n",
    "driver.get_window_position(windowHandle='current')"
   ]
  },
  {
   "cell_type": "code",
   "execution_count": null,
   "id": "a29ab7ab",
   "metadata": {},
   "outputs": [],
   "source": [
    "driver.get_window_position(windowHandle='current')"
   ]
  },
  {
   "cell_type": "code",
   "execution_count": null,
   "id": "3893a90f",
   "metadata": {},
   "outputs": [],
   "source": [
    "from selenium import webdriver\n",
    "from selenium.webdriver.chrome.service import Service\n",
    "from webdriver_manager.chrome import ChromeDriverManager\n",
    "from selenium.webdriver.common.by import By\n",
    "\n",
    "service = Service(ChromeDriverManager().install())\n",
    "driver = webdriver.Chrome(service=service)\n",
    "\n",
    "driver.get('https://www.daum.net')\n",
    "\n",
    "from selenium.webdriver.common.by import By\n",
    "driver.find_element(By.CSS_SELECTOR, '#q').send_keys('셀레니움')"
   ]
  },
  {
   "cell_type": "code",
   "execution_count": null,
   "id": "45e1b35f",
   "metadata": {},
   "outputs": [],
   "source": [
    "driver.find_element(By.CSS_SELECTOR, \n",
    "'.inner_search > .ico_pctop.btn_search').click()"
   ]
  },
  {
   "cell_type": "code",
   "execution_count": null,
   "id": "d4b687fa",
   "metadata": {},
   "outputs": [],
   "source": [
    "driver.find_element(By.CSS_SELECTOR, 'a.keyword').tag_name\n",
    "driver.find_element(By.CSS_SELECTOR, 'a.keyword').text"
   ]
  },
  {
   "cell_type": "code",
   "execution_count": null,
   "id": "f58614a7",
   "metadata": {},
   "outputs": [],
   "source": [
    "words = driver.find_elements(By.CSS_SELECTOR, 'a.keyword')"
   ]
  },
  {
   "cell_type": "code",
   "execution_count": null,
   "id": "d0ade810",
   "metadata": {},
   "outputs": [],
   "source": [
    "words"
   ]
  },
  {
   "cell_type": "code",
   "execution_count": null,
   "id": "e4b1ff56",
   "metadata": {},
   "outputs": [],
   "source": [
    "for word in words:\n",
    "    print(word.text)"
   ]
  },
  {
   "cell_type": "code",
   "execution_count": null,
   "id": "3916003c",
   "metadata": {},
   "outputs": [],
   "source": [
    "driver.close()\n"
   ]
  },
  {
   "cell_type": "code",
   "execution_count": null,
   "id": "28cf3e1b",
   "metadata": {},
   "outputs": [],
   "source": [
    "driver.find_element(By.XPATH, '//*[@id=\"daumSearch\"]/fieldset/div/div/button[3]')"
   ]
  },
  {
   "cell_type": "code",
   "execution_count": null,
   "id": "4954da06",
   "metadata": {},
   "outputs": [],
   "source": [
    "//*[@id=\"daumSearch\"]/fieldset/div/div/button[3]"
   ]
  },
  {
   "cell_type": "code",
   "execution_count": null,
   "id": "28eaff90",
   "metadata": {},
   "outputs": [],
   "source": [
    "#daumSearch > fieldset > div > div > button.ico_pctop.btn_search"
   ]
  },
  {
   "cell_type": "code",
   "execution_count": null,
   "id": "2488d728",
   "metadata": {},
   "outputs": [],
   "source": [
    "from selenium.webdriver.common.keys import Keys\n",
    "\n",
    "Keys.ENTER"
   ]
  },
  {
   "cell_type": "code",
   "execution_count": null,
   "id": "1d7594e6",
   "metadata": {},
   "outputs": [],
   "source": [
    "driver = webdriver.Chrome()\n",
    "driver.get('https://www.ted.com/talks')"
   ]
  },
  {
   "cell_type": "code",
   "execution_count": null,
   "id": "001b3d71",
   "metadata": {},
   "outputs": [],
   "source": [
    "driver.maximize_window()"
   ]
  },
  {
   "cell_type": "code",
   "execution_count": null,
   "id": "d6b5906c",
   "metadata": {
    "scrolled": true
   },
   "outputs": [],
   "source": [
    "words = driver.find_elements(By.CSS_SELECTOR, '#TopicsLaunchPad-Top-Default span.relative')\n",
    "\n",
    "for word in words:\n",
    "    print(word.text)\n"
   ]
  },
  {
   "cell_type": "code",
   "execution_count": null,
   "id": "b007c461",
   "metadata": {},
   "outputs": [],
   "source": [
    "driver.find_element(By.CSS_SELECTOR, '#filterBarScrollArea div > button > span > p').click()"
   ]
  },
  {
   "cell_type": "code",
   "execution_count": null,
   "id": "29b72fed",
   "metadata": {},
   "outputs": [],
   "source": [
    "driver.find_element(By.CSS_SELECTOR, \n",
    "'#dropdown-menu > li:nth-child(6) > button > span').click()\n"
   ]
  },
  {
   "cell_type": "code",
   "execution_count": null,
   "id": "171f3130",
   "metadata": {},
   "outputs": [],
   "source": [
    "driver.find_element(By.CSS_SELECTOR, '#k ul > li:nth-child(5) > button').click()\n"
   ]
  },
  {
   "cell_type": "code",
   "execution_count": null,
   "id": "cc26502f",
   "metadata": {},
   "outputs": [],
   "source": [
    "contents = driver.find_elements(By.CSS_SELECTOR, \".mb-1 > span\")\n",
    "len(contents)\n"
   ]
  },
  {
   "cell_type": "code",
   "execution_count": null,
   "id": "96d11bc7",
   "metadata": {},
   "outputs": [],
   "source": [
    "for content in contents:\n",
    "    print(content.text)\n"
   ]
  },
  {
   "cell_type": "code",
   "execution_count": null,
   "id": "3c97458d",
   "metadata": {},
   "outputs": [],
   "source": [
    "options = webdriver.ChromeOptions()\n",
    "options.add_argument('--start-fullscreen') \n",
    "options.add_argument('--blink-settings=imagesEnabled=false')\n",
    "options.add_argument('incognito') \n",
    "\n",
    "service = Service(ChromeDriverManager().install())\n",
    "driver = webdriver.Chrome(service=service, options=options)"
   ]
  },
  {
   "cell_type": "code",
   "execution_count": null,
   "id": "0c9b0271",
   "metadata": {},
   "outputs": [],
   "source": [
    "driver.get(\"https://daum.net\")"
   ]
  },
  {
   "cell_type": "code",
   "execution_count": null,
   "id": "ea9fc04b",
   "metadata": {},
   "outputs": [],
   "source": [
    "from selenium import webdriver\n",
    "from selenium.webdriver.common.by import By\n",
    "from bs4 import BeautifulSoup"
   ]
  },
  {
   "cell_type": "code",
   "execution_count": null,
   "id": "8c9ba8d7",
   "metadata": {},
   "outputs": [],
   "source": [
    "driver = webdriver.Chrome()\n",
    "driver.get('https://www.istarbucks.co.kr/store/store_map.do')"
   ]
  },
  {
   "cell_type": "code",
   "execution_count": null,
   "id": "30c76f66",
   "metadata": {},
   "outputs": [],
   "source": [
    "loca = driver.find_element(By.CLASS_NAME, 'loca_search')\n",
    "loca.click()"
   ]
  },
  {
   "cell_type": "code",
   "execution_count": null,
   "id": "d530f037",
   "metadata": {},
   "outputs": [],
   "source": [
    "sido = driver.find_element(By.CLASS_NAME, 'sido_arae_box')\n",
    "li = sido.find_elements(By.TAG_NAME, 'li')\n",
    "li[0].click()"
   ]
  },
  {
   "cell_type": "code",
   "execution_count": null,
   "id": "ad77e6fd",
   "metadata": {},
   "outputs": [],
   "source": [
    "gugun = driver.find_element(By.ID, 'mCSB_2_container')\n",
    "li = gugun.find_elements(By.TAG_NAME, 'li')\n",
    "li[1].click()"
   ]
  },
  {
   "cell_type": "code",
   "execution_count": null,
   "id": "fb9693db",
   "metadata": {},
   "outputs": [],
   "source": [
    "source = driver.page_source"
   ]
  },
  {
   "cell_type": "code",
   "execution_count": null,
   "id": "d0842423",
   "metadata": {},
   "outputs": [],
   "source": [
    "html = BeautifulSoup(source,'html.parser')"
   ]
  },
  {
   "cell_type": "code",
   "execution_count": null,
   "id": "59651ba7",
   "metadata": {},
   "outputs": [],
   "source": [
    "search_list = html.select('ul.quickSearchResultBoxSidoGugun > li')\n",
    "items = []\n",
    "for item in search_list:\n",
    "    items.append(item.find('p').text)\n",
    "print(items[0])"
   ]
  },
  {
   "cell_type": "code",
   "execution_count": null,
   "id": "4537acfd",
   "metadata": {},
   "outputs": [],
   "source": [
    "driver.quit()"
   ]
  },
  {
   "cell_type": "code",
   "execution_count": null,
   "id": "86ba4dc6",
   "metadata": {},
   "outputs": [],
   "source": [
    "len(items)"
   ]
  },
  {
   "cell_type": "code",
   "execution_count": null,
   "id": "4647bba9",
   "metadata": {},
   "outputs": [],
   "source": []
  }
 ],
 "metadata": {
  "kernelspec": {
   "display_name": "Python 3 (ipykernel)",
   "language": "python",
   "name": "python3"
  },
  "language_info": {
   "codemirror_mode": {
    "name": "ipython",
    "version": 3
   },
   "file_extension": ".py",
   "mimetype": "text/x-python",
   "name": "python",
   "nbconvert_exporter": "python",
   "pygments_lexer": "ipython3",
   "version": "3.11.5"
  }
 },
 "nbformat": 4,
 "nbformat_minor": 5
}
