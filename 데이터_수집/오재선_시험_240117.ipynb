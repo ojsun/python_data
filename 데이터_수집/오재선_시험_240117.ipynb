{
 "cells": [
  {
   "cell_type": "markdown",
   "id": "31027926-c676-4316-a7b8-cd1b06c39e1d",
   "metadata": {},
   "source": [
    "#### 과제1) 환경공간정보서비스(https://egis.me.go.kr) 크롤링"
   ]
  },
  {
   "cell_type": "code",
   "execution_count": 4,
   "id": "d1d28c94-1651-4754-ab67-ae3dfda6150c",
   "metadata": {},
   "outputs": [],
   "source": [
    "import requests\n",
    "from bs4 import BeautifulSoup "
   ]
  },
  {
   "cell_type": "code",
   "execution_count": null,
   "id": "d8aa94d3-3e07-457e-ac75-69b9b00c18a6",
   "metadata": {},
   "outputs": [],
   "source": [
    "url='https://egis.me.go.kr/atlas/list.do'\n",
    "response=requests.post(url)\n",
    "response"
   ]
  },
  {
   "cell_type": "code",
   "execution_count": null,
   "id": "7e20cdc9-146a-475d-9ff4-85d4bd803d79",
   "metadata": {},
   "outputs": [],
   "source": [
    "bs=BeautifulSoup(response.content, 'html.parser')"
   ]
  },
  {
   "cell_type": "code",
   "execution_count": null,
   "id": "755e72a3-e9ae-4a45-aa87-6e23891ca047",
   "metadata": {},
   "outputs": [],
   "source": [
    "sel=bs.select_one('div.gallery')"
   ]
  },
  {
   "cell_type": "code",
   "execution_count": null,
   "id": "37a46afa-c25e-4711-82ec-38cbf2a39f47",
   "metadata": {},
   "outputs": [],
   "source": [
    "datas=sel.select('div.gallery-item')"
   ]
  },
  {
   "cell_type": "code",
   "execution_count": null,
   "id": "12f2eca3-3604-4606-ab7f-c2f55374cc8d",
   "metadata": {},
   "outputs": [],
   "source": [
    "datas"
   ]
  },
  {
   "cell_type": "code",
   "execution_count": null,
   "id": "6b6bf2f6-b834-45dc-b1b7-0deab339e42a",
   "metadata": {
    "scrolled": true
   },
   "outputs": [],
   "source": [
    "mats=[]\n",
    "for data in datas:\n",
    "    title = data.select_one('.tit a').text.strip()\n",
    "    clas = data.select_one('.cate').text.strip()\n",
    "    content= data.select_one('.detail > dl:nth-child(1) > dd').text.strip()\n",
    "    date=data.select_one('.right').text.strip()\n",
    "    mats.append([title,clas,content,date])"
   ]
  },
  {
   "cell_type": "code",
   "execution_count": null,
   "id": "bf5fcb7f-1826-4a35-aad5-6534bb532493",
   "metadata": {},
   "outputs": [],
   "source": []
  },
  {
   "cell_type": "markdown",
   "id": "ad288142-7969-46d7-bee6-dd74b7f95479",
   "metadata": {},
   "source": [
    "### 과제2) 네이버 뉴스(정치) 가져와서 DB저장하기"
   ]
  },
  {
   "cell_type": "code",
   "execution_count": null,
   "id": "8d41e105-dc34-48b0-9bb0-4a1577d772f4",
   "metadata": {},
   "outputs": [],
   "source": [
    "import requests\n",
    "from bs4 import BeautifulSoup "
   ]
  },
  {
   "cell_type": "code",
   "execution_count": null,
   "id": "0a4290b8-c85c-4860-81b7-818f50c5abeb",
   "metadata": {},
   "outputs": [],
   "source": [
    "url='https://news.naver.com/main/list.naver?mode=LS2D&mid=shm&sid1=100&sid2=264'\n",
    "response=requests.get(url)\n",
    "response"
   ]
  },
  {
   "cell_type": "code",
   "execution_count": null,
   "id": "c314bbf5-7a4a-4e04-b618-f3514ce1ec15",
   "metadata": {},
   "outputs": [],
   "source": [
    "bs=BeautifulSoup(response.content, 'html.parser')"
   ]
  },
  {
   "cell_type": "code",
   "execution_count": null,
   "id": "81043c53-eb7d-412b-8f55-dccff2028d7f",
   "metadata": {},
   "outputs": [],
   "source": [
    "conts=bs.select_one('.type06_headline').select('li')\n",
    "conts"
   ]
  },
  {
   "cell_type": "markdown",
   "id": "ca226a02-8696-4e16-b8cc-695d606be04c",
   "metadata": {},
   "source": [
    "# html 살펴보기\n",
    "<ul class=\"type06_headline\">\n",
    "<li>\n",
    "    <dl>\n",
    "        <dt class=\"photo\">\n",
    "            <a class=\"nclicks(pol.2ndcont)\" href=\"https://n.news.naver.com/mnews/article/008/0004987260?sid=100\">\n",
    "            <img alt='尹대통령 \"노동계·특정 정치세력, 계급갈등으로 사회 들여다봐\"' height=\"72\" onerror=\"javascript:this.src='https://ssl.pstatic.net/static.news/image/news/2009/noimage_106x72.png';\" src=\"https://imgnews.pstatic.net/image/origin/008/2024/01/17/4987260.jpg?type=ofullfill106_72\" width=\"106\"/>\n",
    "            </a>\n",
    "        </dt>\n",
    "        <dt>\n",
    "            <a class=\"nclicks(pol.2ndcont)\" href=\"https://n.news.naver.com/mnews/article/008/0004987260?sid=100\">\n",
    "\t\t\t\t\t\t\t\t 尹대통령 \"노동계·특정 정치세력, 계급갈등으로 사회 들여다봐\"\n",
    "\t\t\t\t\t\t\t\t</a>\n",
    "        </dt>\n",
    "        <dd>\n",
    "            <span class=\"lede\">윤석열 대통령이 17일 \"노동계나 특정 정치 세력이 자본가와 노동자라는 양극의 계급갈등으로 사회를 들여다보기 때문에 일관되고 합 …</span>\n",
    "            <span class=\"writing\">머니투데이</span>\n",
    "            <span class=\"date is_new\">8분전</span>\n",
    "        </dd>\n",
    "    </dl>\n",
    "</li>"
   ]
  },
  {
   "cell_type": "code",
   "execution_count": null,
   "id": "e472b419-8552-452f-ac09-cdcb8fe2f597",
   "metadata": {},
   "outputs": [],
   "source": [
    "news=[]\n",
    "for new in conts:\n",
    "    title=new.select_one('dt:nth-child(2) > a').text.strip()\n",
    "    url= new.select_one('dt:nth-child(2) > a').get('href')\n",
    "    pub=new.select_one('span.writing ').text.strip()\n",
    "    news.append([title,pub,url])"
   ]
  },
  {
   "cell_type": "markdown",
   "id": "710d59b5-d92c-48b1-b392-1f4123e59146",
   "metadata": {},
   "source": [
    "#### 과제2) 완성-페이지 바꿔가며 크롤링 & DB저장까지"
   ]
  },
  {
   "cell_type": "code",
   "execution_count": 3,
   "id": "ccc5a3ce-5f97-4913-976c-761a77064828",
   "metadata": {
    "scrolled": true
   },
   "outputs": [],
   "source": [
    "import pymysql"
   ]
  },
  {
   "cell_type": "code",
   "execution_count": 239,
   "id": "ceef177f-0e86-4ff5-8df6-c3d6ab32f049",
   "metadata": {},
   "outputs": [],
   "source": [
    "news = []\n",
    "conn = pymysql.connect(user = 'maria',\n",
    "                       password = '1234',\n",
    "                       host = 'localhost',\n",
    "                       port = 3306,\n",
    "                       database = 'test_db')\n",
    "cursor=conn.cursor()"
   ]
  },
  {
   "cell_type": "code",
   "execution_count": 241,
   "id": "cb6ac99a-aea7-430f-838b-2f7ebe8a88ac",
   "metadata": {},
   "outputs": [],
   "source": [
    "for page in range(1,10):\n",
    "    url=f'https://news.naver.com/main/list.naver?mode=LS2D&mid=shm&sid2=264&sid1=100&date=20240117&page={page}'\n",
    "    response=requests.get(url)\n",
    "    if response.status_code == 200:\n",
    "        bs=BeautifulSoup(response.content, 'html.parser')\n",
    "        conts=bs.select_one('.type06_headline').select('li')\n",
    "        for new in conts:\n",
    "            try:\n",
    "                title=new.select_one('dt:nth-child(2) > a').text.strip()\n",
    "                url= new.select_one('dt:nth-child(2) > a').get('href')\n",
    "                pub=new.select_one('span.writing ').text.strip()\n",
    "                news.append([title,pub,url])\n",
    "            except:\n",
    "                continue\n",
    "    else:\n",
    "        print(response.status_code)\n",
    "\n",
    "sql = '''insert into news_list values (%s, %s, %s)'''\n",
    "for new in news: \n",
    "    try:\n",
    "        cursor.execute(sql, new)\n",
    "    except:\n",
    "        print('errrrr')\n",
    "        continue\n",
    "conn.commit()"
   ]
  },
  {
   "cell_type": "markdown",
   "id": "cc920691-bef3-4e67-a3be-8c1f5e6a16e8",
   "metadata": {},
   "source": [
    "#### 과제2) 함수 만들기 (페이지 수가 매개변수)"
   ]
  },
  {
   "cell_type": "code",
   "execution_count": 22,
   "id": "521bd17e-b560-4c5f-ac0a-bf90af28951d",
   "metadata": {},
   "outputs": [],
   "source": [
    "def pol_news (n):\n",
    "    news = []\n",
    "    for page in range(1,n):\n",
    "        url=f'https://news.naver.com/main/list.naver?mode=LS2D&mid=shm&sid2=264&sid1=100&date=20240117&page={page}'\n",
    "        response=requests.get(url)\n",
    "        if response.status_code == 200:\n",
    "            bs=BeautifulSoup(response.content, 'html.parser')\n",
    "            conts=bs.select_one('.type06_headline').select('li')\n",
    "            for new in conts:\n",
    "                try:\n",
    "                    title=new.select_one('dt:nth-child(2) > a').text.strip()\n",
    "                    url= new.select_one('dt:nth-child(2) > a').get('href')\n",
    "                    pub=new.select_one('span.writing ').text.strip()\n",
    "                    news.append([title,pub,url])\n",
    "                    print(news, '\\n')\n",
    "                except:\n",
    "                    continue\n",
    "        else:\n",
    "            print(response.status_code)\n"
   ]
  },
  {
   "cell_type": "code",
   "execution_count": 27,
   "id": "461321cb-b54d-4b19-9724-95a0c14fbd55",
   "metadata": {},
   "outputs": [
    {
     "name": "stdout",
     "output_type": "stream",
     "text": [
      "[['尹 \"교권 확립돼야 학생 인권도 보장…해결방안 계속 찾을 것\"(종합)', '이데일리', 'https://n.news.naver.com/mnews/article/018/0005656766?sid=100']] \n",
      "\n",
      "[['尹 \"교권 확립돼야 학생 인권도 보장…해결방안 계속 찾을 것\"(종합)', '이데일리', 'https://n.news.naver.com/mnews/article/018/0005656766?sid=100'], ['윤석열 대통령, 교육계 신년교례회 참석', '연합뉴스', 'https://n.news.naver.com/mnews/article/001/0014450845?sid=100']] \n",
      "\n",
      "[['尹 \"교권 확립돼야 학생 인권도 보장…해결방안 계속 찾을 것\"(종합)', '이데일리', 'https://n.news.naver.com/mnews/article/018/0005656766?sid=100'], ['윤석열 대통령, 교육계 신년교례회 참석', '연합뉴스', 'https://n.news.naver.com/mnews/article/001/0014450845?sid=100'], ['尹대통령 \"교권 확립돼야 학생 인권도 보장돼\"', '머니투데이', 'https://n.news.naver.com/mnews/article/008/0004987378?sid=100']] \n",
      "\n",
      "[['尹 \"교권 확립돼야 학생 인권도 보장…해결방안 계속 찾을 것\"(종합)', '이데일리', 'https://n.news.naver.com/mnews/article/018/0005656766?sid=100'], ['윤석열 대통령, 교육계 신년교례회 참석', '연합뉴스', 'https://n.news.naver.com/mnews/article/001/0014450845?sid=100'], ['尹대통령 \"교권 확립돼야 학생 인권도 보장돼\"', '머니투데이', 'https://n.news.naver.com/mnews/article/008/0004987378?sid=100'], ['\"교원들 많이 만나게\" 요청한 尹…교사들 어려움 공감', '헤럴드경제', 'https://n.news.naver.com/mnews/article/016/0002253696?sid=100']] \n",
      "\n",
      "[['尹 \"교권 확립돼야 학생 인권도 보장…해결방안 계속 찾을 것\"(종합)', '이데일리', 'https://n.news.naver.com/mnews/article/018/0005656766?sid=100'], ['윤석열 대통령, 교육계 신년교례회 참석', '연합뉴스', 'https://n.news.naver.com/mnews/article/001/0014450845?sid=100'], ['尹대통령 \"교권 확립돼야 학생 인권도 보장돼\"', '머니투데이', 'https://n.news.naver.com/mnews/article/008/0004987378?sid=100'], ['\"교원들 많이 만나게\" 요청한 尹…교사들 어려움 공감', '헤럴드경제', 'https://n.news.naver.com/mnews/article/016/0002253696?sid=100'], ['윤석열 대통령, 교육계 신년교례회 참석', '연합뉴스', 'https://n.news.naver.com/mnews/article/001/0014450827?sid=100']] \n",
      "\n",
      "[['尹 \"교권 확립돼야 학생 인권도 보장…해결방안 계속 찾을 것\"(종합)', '이데일리', 'https://n.news.naver.com/mnews/article/018/0005656766?sid=100'], ['윤석열 대통령, 교육계 신년교례회 참석', '연합뉴스', 'https://n.news.naver.com/mnews/article/001/0014450845?sid=100'], ['尹대통령 \"교권 확립돼야 학생 인권도 보장돼\"', '머니투데이', 'https://n.news.naver.com/mnews/article/008/0004987378?sid=100'], ['\"교원들 많이 만나게\" 요청한 尹…교사들 어려움 공감', '헤럴드경제', 'https://n.news.naver.com/mnews/article/016/0002253696?sid=100'], ['윤석열 대통령, 교육계 신년교례회 참석', '연합뉴스', 'https://n.news.naver.com/mnews/article/001/0014450827?sid=100'], ['윤석열 대통령, 교육계 신년교례회 참석', '연합뉴스', 'https://n.news.naver.com/mnews/article/001/0014450826?sid=100']] \n",
      "\n",
      "[['尹 \"교권 확립돼야 학생 인권도 보장…해결방안 계속 찾을 것\"(종합)', '이데일리', 'https://n.news.naver.com/mnews/article/018/0005656766?sid=100'], ['윤석열 대통령, 교육계 신년교례회 참석', '연합뉴스', 'https://n.news.naver.com/mnews/article/001/0014450845?sid=100'], ['尹대통령 \"교권 확립돼야 학생 인권도 보장돼\"', '머니투데이', 'https://n.news.naver.com/mnews/article/008/0004987378?sid=100'], ['\"교원들 많이 만나게\" 요청한 尹…교사들 어려움 공감', '헤럴드경제', 'https://n.news.naver.com/mnews/article/016/0002253696?sid=100'], ['윤석열 대통령, 교육계 신년교례회 참석', '연합뉴스', 'https://n.news.naver.com/mnews/article/001/0014450827?sid=100'], ['윤석열 대통령, 교육계 신년교례회 참석', '연합뉴스', 'https://n.news.naver.com/mnews/article/001/0014450826?sid=100'], ['尹대통령 \"교권확립 방안 찾을 것…교육 혁신속도 높여야\"(종합)', '아시아경제', 'https://n.news.naver.com/mnews/article/277/0005368437?sid=100']] \n",
      "\n",
      "[['尹 \"교권 확립돼야 학생 인권도 보장…해결방안 계속 찾을 것\"(종합)', '이데일리', 'https://n.news.naver.com/mnews/article/018/0005656766?sid=100'], ['윤석열 대통령, 교육계 신년교례회 참석', '연합뉴스', 'https://n.news.naver.com/mnews/article/001/0014450845?sid=100'], ['尹대통령 \"교권 확립돼야 학생 인권도 보장돼\"', '머니투데이', 'https://n.news.naver.com/mnews/article/008/0004987378?sid=100'], ['\"교원들 많이 만나게\" 요청한 尹…교사들 어려움 공감', '헤럴드경제', 'https://n.news.naver.com/mnews/article/016/0002253696?sid=100'], ['윤석열 대통령, 교육계 신년교례회 참석', '연합뉴스', 'https://n.news.naver.com/mnews/article/001/0014450827?sid=100'], ['윤석열 대통령, 교육계 신년교례회 참석', '연합뉴스', 'https://n.news.naver.com/mnews/article/001/0014450826?sid=100'], ['尹대통령 \"교권확립 방안 찾을 것…교육 혁신속도 높여야\"(종합)', '아시아경제', 'https://n.news.naver.com/mnews/article/277/0005368437?sid=100'], ['윤석열 대통령, 교육계 신년교례회 참석', '연합뉴스', 'https://n.news.naver.com/mnews/article/001/0014450824?sid=100']] \n",
      "\n",
      "[['尹 \"교권 확립돼야 학생 인권도 보장…해결방안 계속 찾을 것\"(종합)', '이데일리', 'https://n.news.naver.com/mnews/article/018/0005656766?sid=100'], ['윤석열 대통령, 교육계 신년교례회 참석', '연합뉴스', 'https://n.news.naver.com/mnews/article/001/0014450845?sid=100'], ['尹대통령 \"교권 확립돼야 학생 인권도 보장돼\"', '머니투데이', 'https://n.news.naver.com/mnews/article/008/0004987378?sid=100'], ['\"교원들 많이 만나게\" 요청한 尹…교사들 어려움 공감', '헤럴드경제', 'https://n.news.naver.com/mnews/article/016/0002253696?sid=100'], ['윤석열 대통령, 교육계 신년교례회 참석', '연합뉴스', 'https://n.news.naver.com/mnews/article/001/0014450827?sid=100'], ['윤석열 대통령, 교육계 신년교례회 참석', '연합뉴스', 'https://n.news.naver.com/mnews/article/001/0014450826?sid=100'], ['尹대통령 \"교권확립 방안 찾을 것…교육 혁신속도 높여야\"(종합)', '아시아경제', 'https://n.news.naver.com/mnews/article/277/0005368437?sid=100'], ['윤석열 대통령, 교육계 신년교례회 참석', '연합뉴스', 'https://n.news.naver.com/mnews/article/001/0014450824?sid=100'], ['윤석열 대통령, 교육계 신년교례회 참석', '연합뉴스', 'https://n.news.naver.com/mnews/article/001/0014450823?sid=100']] \n",
      "\n",
      "[['尹 \"교권 확립돼야 학생 인권도 보장…해결방안 계속 찾을 것\"(종합)', '이데일리', 'https://n.news.naver.com/mnews/article/018/0005656766?sid=100'], ['윤석열 대통령, 교육계 신년교례회 참석', '연합뉴스', 'https://n.news.naver.com/mnews/article/001/0014450845?sid=100'], ['尹대통령 \"교권 확립돼야 학생 인권도 보장돼\"', '머니투데이', 'https://n.news.naver.com/mnews/article/008/0004987378?sid=100'], ['\"교원들 많이 만나게\" 요청한 尹…교사들 어려움 공감', '헤럴드경제', 'https://n.news.naver.com/mnews/article/016/0002253696?sid=100'], ['윤석열 대통령, 교육계 신년교례회 참석', '연합뉴스', 'https://n.news.naver.com/mnews/article/001/0014450827?sid=100'], ['윤석열 대통령, 교육계 신년교례회 참석', '연합뉴스', 'https://n.news.naver.com/mnews/article/001/0014450826?sid=100'], ['尹대통령 \"교권확립 방안 찾을 것…교육 혁신속도 높여야\"(종합)', '아시아경제', 'https://n.news.naver.com/mnews/article/277/0005368437?sid=100'], ['윤석열 대통령, 교육계 신년교례회 참석', '연합뉴스', 'https://n.news.naver.com/mnews/article/001/0014450824?sid=100'], ['윤석열 대통령, 교육계 신년교례회 참석', '연합뉴스', 'https://n.news.naver.com/mnews/article/001/0014450823?sid=100'], ['윤석열 대통령, 교육계 신년교례회 인사말', '연합뉴스', 'https://n.news.naver.com/mnews/article/001/0014450817?sid=100']] \n",
      "\n"
     ]
    }
   ],
   "source": [
    "news_view=pol_news(2)"
   ]
  },
  {
   "cell_type": "code",
   "execution_count": null,
   "id": "b1dbffbf-6a86-4b86-ab64-14b4e28c1fe9",
   "metadata": {
    "scrolled": true
   },
   "outputs": [],
   "source": [
    "\n",
    "  "
   ]
  }
 ],
 "metadata": {
  "kernelspec": {
   "display_name": "Python 3 (ipykernel)",
   "language": "python",
   "name": "python3"
  },
  "language_info": {
   "codemirror_mode": {
    "name": "ipython",
    "version": 3
   },
   "file_extension": ".py",
   "mimetype": "text/x-python",
   "name": "python",
   "nbconvert_exporter": "python",
   "pygments_lexer": "ipython3",
   "version": "3.11.5"
  }
 },
 "nbformat": 4,
 "nbformat_minor": 5
}
