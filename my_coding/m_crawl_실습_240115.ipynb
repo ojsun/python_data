{
 "cells": [
  {
   "cell_type": "markdown",
   "id": "930241e1-ef33-45f2-862a-4aebe7876d46",
   "metadata": {},
   "source": [
    "### 실습1) 행안부 보도자료"
   ]
  },
  {
   "cell_type": "code",
   "execution_count": 1,
   "id": "8d68e091-49ea-4a1c-a2d6-6e3819839dc9",
   "metadata": {
    "tags": []
   },
   "outputs": [],
   "source": [
    "import requests\n",
    "from bs4 import BeautifulSoup "
   ]
  },
  {
   "cell_type": "code",
   "execution_count": 2,
   "id": "0bbaf18e-c69e-4869-b1ae-0d18e0abff2c",
   "metadata": {
    "tags": []
   },
   "outputs": [],
   "source": [
    "url='https://www.mois.go.kr/frt/bbs/type010/commonSelectBoardList.do?bbsId=BBSMSTR_000000000008'\n",
    "response=requests.get(url)\n",
    "html=response.content\n",
    "bs=BeautifulSoup(html, \"html.parser\")\n",
    "table=bs.select_one(\"table > tbody\")\n",
    "rows=table.select(\"tr\")\n",
    "# select('table > tbody > tr') 한 줄로도 가능"
   ]
  },
  {
   "cell_type": "code",
   "execution_count": 3,
   "id": "691a8c4f-fa12-4f3a-bf06-f27ff0f393df",
   "metadata": {
    "scrolled": true,
    "tags": []
   },
   "outputs": [],
   "source": [
    "# 한 row씩 정보 가져오기\n",
    "datas=[]\n",
    "for row in rows:\n",
    "    num=row.select_one('td:nth-child(1)').text.strip()   # 첫번째 열 번호 \n",
    "    title=row.select_one('td:nth-child(2)').text.strip()  \n",
    "    author=row.select_one('td:nth-child(4)').text.strip()  \n",
    "    date=row.select_one('td:nth-child(5)').text.strip()  \n",
    "    url= 'https://www.mois.go.kr' + row.select_one('a').get('href')       \n",
    "        # a태그 찾기 href로 하기/ 상대경로이므로 연결안됨/ 절대주소 만들어주기/ 활용할때 붙여줘도 됨\n",
    "    datas.append([num,title,author,date,url])"
   ]
  },
  {
   "cell_type": "code",
   "execution_count": null,
   "id": "86672aa2-754e-4444-b23a-89826f373e1c",
   "metadata": {
    "tags": []
   },
   "outputs": [],
   "source": [
    "datas"
   ]
  },
  {
   "cell_type": "code",
   "execution_count": null,
   "id": "b432cca7-dcdf-44bf-acdf-7d17c46ec782",
   "metadata": {},
   "outputs": [],
   "source": [
    "## 아래 페이지넘버들 post  // paging 크롤링으로 만들어서 하기 ** 에러나니 확인할것 2가지 방법"
   ]
  },
  {
   "cell_type": "code",
   "execution_count": 5,
   "id": "104efac5-92bc-49f9-a3e0-2cdd92c409be",
   "metadata": {
    "tags": []
   },
   "outputs": [],
   "source": [
    "import json\n",
    "url = 'https://www.mois.go.kr/frt/bbs/type010/commonSelectBoardList.do?bbsId=BBSMSTR_000000000008'\n",
    "params = {\n",
    "    'pageIndex' : 1529\n",
    "}\n",
    "response = requests.post(url, data = params)\n"
   ]
  },
  {
   "cell_type": "code",
   "execution_count": 6,
   "id": "8232558f-b167-45c5-b22b-be54b5c86024",
   "metadata": {},
   "outputs": [
    {
     "name": "stdout",
     "output_type": "stream",
     "text": [
      "['1', '새마을금고 수표 발행으로 전문금융기관 도약', '홍보관리팀', '2008.02.28.', 'https://www.mois.go.kr/frt/bbs/type010/commonSelectBoardArticle.do;jsessionid=HF9robsGSuCMIdDZ9ljK2Bvw.node20?bbsId=BBSMSTR_000000000008&nttId=25276']\n"
     ]
    }
   ],
   "source": [
    "soup = BeautifulSoup(response.content, 'html.parser')\n",
    "table = soup.select_one('table > tbody')\n",
    "rows = table.select('tr')\n",
    "datas = []\n",
    "for row in rows:\n",
    "    num = row.select_one('td:nth-child(1)').text.strip()\n",
    "    title = row.select_one('td:nth-child(2)').text.strip()\n",
    "    author = row.select_one('td:nth-child(4)').text.strip()\n",
    "    date = row.select_one('td:nth-child(5)').text.strip()\n",
    "    url = 'https://www.mois.go.kr' + row.select_one('a').get('href')\n",
    "    datas.append( [num, title, author, date, url] )\n",
    "    break\n",
    "print(datas[0])"
   ]
  },
  {
   "cell_type": "code",
   "execution_count": null,
   "id": "aa85185b-dc44-4620-a8c3-de680cf13537",
   "metadata": {
    "tags": []
   },
   "outputs": [],
   "source": [
    "# 1번째 방법/ 멈춤 에러 -마지막쯤\n",
    "\n",
    "datas=[]\n",
    "for page in range(1527,1531): \n",
    "    print(page)         # while를 써서 모든 글들 가져오게 \n",
    "    url='https://www.mois.go.kr/frt/bbs/type010/commonSelectBoardList.do?bbsId=BBSMSTR_000000000008'\n",
    "    params={\n",
    "        'pageIndex': page                            #pageIndex 대소문자와 '' 기억할 것\n",
    "    }\n",
    "    # params, header 둘 중 어떤게 필요한지 생각해야함/\n",
    "    response=requests.post(url,data=params)      # data 대신 params로 바꿔도 됨\n",
    "    #테이블의 페이지 수를 크롤링\n",
    "    page_num = soup.select_one('span.doc_totle').text.strip()\n",
    "    page_num = page_num.split('/')[-1]        # 자르고 맨 뒤의 값 가져옴 / 문자임\n",
    "\n",
    "  \n",
    "    # 테이블에 있는 데이터 크롤링\n",
    "    bs = BeautifulSoup(response.content, 'html.parser')\n",
    "    table=bs.select_one(\"table > tbody\")\n",
    "    rows=table.select(\"tr\")\n",
    "\n",
    "    for row in rows:\n",
    "        num=row.select_one('td:nth-child(1)').text.strip()   # 첫번째 열 번호 \n",
    "        title=row.select_one('td:nth-child(2)').text.strip()  \n",
    "        author=row.select_one('td:nth-child(4)').text.strip()  \n",
    "        date=row.select_one('td:nth-child(5)').text.strip()  \n",
    "        url= 'https://www.mois.go.kr' + row.select_one('a').get('href')       \n",
    "            # a태그 찾기 href로 하기/ 상대경로이므로 연결안됨/ 절대주소 만들어주기/ 활용할때 붙여줘도 됨\n",
    "        datas.append([num,title,author,date,url])\n",
    "        \n",
    "if int(page_num) == page:\n",
    "     break"
   ]
  },
  {
   "cell_type": "code",
   "execution_count": null,
   "id": "6c8621c4-076a-4644-8ea9-701a4758712b",
   "metadata": {},
   "outputs": [],
   "source": [
    "# 두번째 방법\n",
    "datas = []\n",
    "for page in range(1528, 1531): # 1 ~ 10 \n",
    "    print(page)\n",
    "    break_point = 0\n",
    "    url = 'https://www.mois.go.kr/frt/bbs/type010/commonSelectBoardList.do?bbsId=BBSMSTR_000000000008'\n",
    "    params = {\n",
    "        'pageIndex' : page\n",
    "    }\n",
    "    response = requests.post(url, data = params)\n",
    "    \n",
    "    soup = BeautifulSoup(response.content, 'html.parser')\n",
    "    table = soup.select_one('table > tbody')\n",
    "    rows = table.select('tr')\n",
    "    for row in rows:\n",
    "        num = row.select_one('td:nth-child(1)').text.strip()\n",
    "        try:\n",
    "            title = row.select_one('td:nth-child(2)').text.strip()\n",
    "        except:\n",
    "            break_point = 1\n",
    "            break\n",
    "        author = row.select_one('td:nth-child(4)').text.strip()\n",
    "        date = row.select_one('td:nth-child(5)').text.strip()\n",
    "        url = 'https://www.mois.go.kr' + row.select_one('a').get('href')\n",
    "        datas.append( [num, title, author, date, url] )\n",
    "        \n",
    "    if break_point == 1:\n",
    "        break"
   ]
  },
  {
   "cell_type": "code",
   "execution_count": null,
   "id": "54a43200-5b63-448c-be37-31e6b8f65e44",
   "metadata": {},
   "outputs": [],
   "source": [
    "# page number 계산하는 식\n",
    "page = 448\n",
    "page_num = page // 5\n",
    "if page % 5 != 0:\n",
    "    page_num += 1\n",
    "print(page_num)"
   ]
  },
  {
   "cell_type": "markdown",
   "id": "e97d412d-42ca-47f2-9eff-babacef77d4c",
   "metadata": {},
   "source": [
    "### 실습2) imdb.com 으로 실습"
   ]
  },
  {
   "cell_type": "code",
   "execution_count": null,
   "id": "aa543736-3192-49e2-9495-009136f4cf76",
   "metadata": {},
   "outputs": [],
   "source": [
    "# imdb 사이트 크롤링 안됨 -F12 헤더의 숨겨진 정보 넣기: user-agent(대부분 이것 요구)/ Referer 가끔 요구"
   ]
  },
  {
   "cell_type": "code",
   "execution_count": null,
   "id": "da6a5f23-8f91-4aeb-a7ec-6bcb52957acc",
   "metadata": {
    "tags": []
   },
   "outputs": [],
   "source": [
    "url='https://www.imdb.com/chart/top/?ref_=nv_mv_250'\n",
    "headers={\n",
    "    'user-agent':'Mozilla/5.0 (Windows NT 10.0; Win64; x64) AppleWebKit/537.36 (KHTML, like Gecko) Chrome/120.0.0.0 Safari/537.36',\n",
    "    'Referer' : 'https://www.imdb.com/',\n",
    "    'Accept-Language': 'en'\n",
    "    }\n",
    "response = requests.get(url, headers=headers) \n",
    "bs=BeautifulSoup(response.content, \"html.parser\")\n",
    "bs.select('ul.ipc-metadata-list> li h3.ipc-title__text')\n"
   ]
  },
  {
   "cell_type": "code",
   "execution_count": null,
   "id": "5c5aebff-fbda-4bc0-a30c-67ec519d6b40",
   "metadata": {},
   "outputs": [],
   "source": []
  },
  {
   "cell_type": "code",
   "execution_count": null,
   "id": "9c805cec-8441-45a8-bd57-7089b144164e",
   "metadata": {},
   "outputs": [],
   "source": []
  },
  {
   "cell_type": "code",
   "execution_count": null,
   "id": "dfcf6520-5aad-4d3c-abe8-5a95f170c30a",
   "metadata": {},
   "outputs": [],
   "source": []
  }
 ],
 "metadata": {
  "kernelspec": {
   "display_name": "Python 3 (ipykernel)",
   "language": "python",
   "name": "python3"
  },
  "language_info": {
   "codemirror_mode": {
    "name": "ipython",
    "version": 3
   },
   "file_extension": ".py",
   "mimetype": "text/x-python",
   "name": "python",
   "nbconvert_exporter": "python",
   "pygments_lexer": "ipython3",
   "version": "3.11.5"
  }
 },
 "nbformat": 4,
 "nbformat_minor": 5
}
