{
 "cells": [
  {
   "cell_type": "markdown",
   "id": "87745d5b-4e01-4631-b54f-9e3c1088e490",
   "metadata": {},
   "source": [
    "### Selenium 기초"
   ]
  },
  {
   "cell_type": "code",
   "execution_count": null,
   "id": "67a10a2a-d494-49e8-9813-28586145e302",
   "metadata": {},
   "outputs": [],
   "source": [
    "!pip install webdriver-manager\n",
    "pip install selenium"
   ]
  },
  {
   "cell_type": "markdown",
   "id": "a744a5be-6fcb-48af-af64-14c49571a2b7",
   "metadata": {},
   "source": [
    "#### 크롬브라우저 특화// selenium 사용시 가장 처음에 넣기"
   ]
  },
  {
   "cell_type": "code",
   "execution_count": null,
   "id": "6a2f5e26-b10a-4717-b5bf-3709722bb33e",
   "metadata": {},
   "outputs": [],
   "source": [
    "# 처음에 입력! 브라우저 간의 차이 극복? 크롬 잘 동작하도록\n",
    "from selenium import webdriver\n",
    "from selenium.webdriver.chrome.service import Service\n",
    "from webdriver_manager.chrome import ChromeDriverManager\n",
    "from selenium.webdriver.common.by import By\n",
    "\n",
    "service = Service(ChromeDriverManager().install())\n",
    "driver = webdriver.Chrome(service=service)"
   ]
  },
  {
   "cell_type": "code",
   "execution_count": null,
   "id": "c5f94fce-7337-460a-90cd-30a8d77fe722",
   "metadata": {
    "scrolled": true
   },
   "outputs": [],
   "source": [
    "pip install selenium    # 브라우저 자동화 역할이 주"
   ]
  },
  {
   "cell_type": "code",
   "execution_count": null,
   "id": "7050c834-24c6-48cf-9cc3-4c327ab4533b",
   "metadata": {},
   "outputs": [],
   "source": [
    "from selenium import webdriver\n",
    "from bs4 import BeautifulSoup"
   ]
  },
  {
   "cell_type": "code",
   "execution_count": null,
   "id": "5fbf3466-af8e-4bc5-a356-6e437b5414fd",
   "metadata": {},
   "outputs": [],
   "source": [
    "# 1.크롬 드라이버 실행\n",
    "driver = webdriver.Chrome()"
   ]
  },
  {
   "cell_type": "code",
   "execution_count": null,
   "id": "85119170-1d06-430a-b862-852b55824151",
   "metadata": {},
   "outputs": [],
   "source": [
    "# 2.웹사이트 이동(브라우저에 사이트 접속)\n",
    "driver.get('https://www.daum.net')"
   ]
  },
  {
   "cell_type": "code",
   "execution_count": null,
   "id": "8d0b8db8-b231-49f9-ac98-4257241a78e0",
   "metadata": {},
   "outputs": [],
   "source": [
    "# 3.추출한 웹데이터 html에 넣기\n",
    "html=driver.page_source"
   ]
  },
  {
   "cell_type": "code",
   "execution_count": null,
   "id": "bdde97f0-077b-47b7-8b4b-21fb7d494af8",
   "metadata": {},
   "outputs": [],
   "source": [
    "# 3.html 파싱\n",
    "soup=BeautifulSoup(html,'html.parser')"
   ]
  },
  {
   "cell_type": "code",
   "execution_count": null,
   "id": "985f55e7-0790-4932-b859-58c8c967edf5",
   "metadata": {},
   "outputs": [],
   "source": [
    "# 4.선택\n",
    "soup.select('tr')"
   ]
  },
  {
   "cell_type": "code",
   "execution_count": null,
   "id": "65515d4a-011a-4155-a406-83d96c46092f",
   "metadata": {},
   "outputs": [],
   "source": [
    "# 페이지 사이즈 조절\n",
    "driver.set_window_size(200,400)"
   ]
  },
  {
   "cell_type": "code",
   "execution_count": null,
   "id": "8040f3af-4fe4-41d7-9e40-bf06ac96e933",
   "metadata": {},
   "outputs": [],
   "source": [
    "# 브라우저 스크롤 조절\n",
    "driver.execute_script('window.scrollTo(300,300);')"
   ]
  },
  {
   "cell_type": "code",
   "execution_count": null,
   "id": "16be3846-3d60-49c6-a923-3ad7f63db507",
   "metadata": {},
   "outputs": [],
   "source": [
    "# alert 다루기 -간단한 알림창, 자바스크립트\n",
    "driver.execute_script('alert(\"hello selenium!!!\");')    #창 열기\n",
    "alert = driver.switch_to.alert   \n",
    "alert.accept()"
   ]
  },
  {
   "cell_type": "code",
   "execution_count": null,
   "id": "01ad3be1-4ebe-467f-80d0-447083d0020f",
   "metadata": {},
   "outputs": [],
   "source": [
    "# selenium 태그 찾기\n",
    "from selenium.webdriver.common.by import By\n",
    "\n",
    "driver.get('https://www.daum.net')\n",
    "driver.find_element(By.CSS_SELECTOR, '#q').send_keys('셀레니움')\n",
    "driver.find_element(By.CSS_SELECTOR, '.inner_search > .ico_pctop.btn_search').click()"
   ]
  },
  {
   "cell_type": "code",
   "execution_count": null,
   "id": "bc876579-1779-4842-abc7-8fe3cb9b62ff",
   "metadata": {},
   "outputs": [],
   "source": [
    "# 브라우저 종료\n",
    "driver.close()\n",
    "or\n",
    "driver.quit"
   ]
  },
  {
   "cell_type": "code",
   "execution_count": null,
   "id": "f1fbdab8-47a4-4dc7-a70c-2f965429aed0",
   "metadata": {
    "scrolled": true
   },
   "outputs": [],
   "source": [
    "# txt 저장/가능은 하나 너무 늦어서 잘 사용하지 읺음\n",
    "driver.find_element(By.CSS_SELECTOR, 'a.keyword').txt"
   ]
  },
  {
   "cell_type": "code",
   "execution_count": null,
   "id": "63dacc84-bb3d-453a-a5da-43e7f0daadc5",
   "metadata": {
    "scrolled": true
   },
   "outputs": [],
   "source": [
    "words=driver.find_element(By.CSS_SELECTOR, 'a.keword')"
   ]
  },
  {
   "cell_type": "code",
   "execution_count": null,
   "id": "33822471-e6f7-495f-91fa-56e3925b56b4",
   "metadata": {},
   "outputs": [],
   "source": []
  },
  {
   "cell_type": "code",
   "execution_count": null,
   "id": "8c6880e2-9df0-42f6-8c17-d1ca04fce3e5",
   "metadata": {},
   "outputs": [],
   "source": [
    "# xpath를 사용하여 찾기\n",
    "driver.find_element(By.XPATH,'//*[@id=\"q\"]').send.keys('빅데이터')  #키를 입력\n",
    "driver.find_element(By.XPATH,'//*[@id=\"daumSearch\"]/fieldset/div/div/button[3]').click()"
   ]
  },
  {
   "cell_type": "code",
   "execution_count": null,
   "id": "17459a02-ac50-44ed-bb49-b8f4ea493030",
   "metadata": {},
   "outputs": [],
   "source": [
    "from selenium.webdriver.common.keys import Keys\n",
    "Keys.ENTER"
   ]
  },
  {
   "cell_type": "markdown",
   "id": "26e38f97-00d2-4db0-8272-0122e5101d21",
   "metadata": {},
   "source": [
    "#### TED 사이트 크롤링"
   ]
  },
  {
   "cell_type": "code",
   "execution_count": null,
   "id": "f4f2d92e-7514-494e-bd5f-e6c625280e08",
   "metadata": {},
   "outputs": [],
   "source": [
    "driver = webdriver.Chrome()\n",
    "driver.get('https://www.ted.com/talks')"
   ]
  },
  {
   "cell_type": "code",
   "execution_count": null,
   "id": "19173481-e1b4-4e1b-9751-59381ce3a8b9",
   "metadata": {},
   "outputs": [],
   "source": [
    "# 텍스트 문구 가져오기\n",
    "words = driver.find_elements(By.CSS_SELECTOR, '#TopicsLaunchPad-Top-Default span.relative')\n",
    "for word in words:\n",
    "    print(word.text)"
   ]
  },
  {
   "cell_type": "code",
   "execution_count": null,
   "id": "913fa363-019b-448d-97f5-786c8e787635",
   "metadata": {},
   "outputs": [],
   "source": [
    "# 제목 제이터 가져오기\n",
    "contents = driver.find_elements(By.CSS_SELECTOR, \".mb-1 > span\")\n",
    "len(contents)\n",
    "\n",
    "# 제목 텍스트 가져오기\n",
    "for content in contents:\n",
    "print(content.text)\n",
    "\n",
    "# 셀렉트 박스 선택후 데이터 가져오기 -한국어 선택\n",
    "driver.find_element(By.CSS_SELECTOR,'#filterBarScrollArea div > button > span > p').click()\n",
    "driver.find_element(By.CSS_SELECTOR,'#dropdown-menu > li:nth-child(6) > button > span').click()\n",
    "driver.find_element(By.CSS_SELECTOR, '#k ul > li:nth-child(5) > button').click()\n",
    "\n",
    "# 링크 데이터 가져오기\n",
    "driver = webdriver.Chrome()\n",
    "driver.get('https://naver.com')\n",
    "login = driver.find_element(By.CSS_SELECTOR, '#account a').get_attribute('href')\n",
    "driver.get(login)\n"
   ]
  },
  {
   "cell_type": "markdown",
   "id": "c1ab214b-2509-465e-ae49-a1c95696eba0",
   "metadata": {},
   "source": [
    "#### headless : 브라우저 띄우지않고 크롤링하는 방법"
   ]
  },
  {
   "cell_type": "code",
   "execution_count": null,
   "id": "50816679-8eba-43ab-b232-2505e00b411e",
   "metadata": {},
   "outputs": [],
   "source": [
    "options = webdriver.ChromeOptions()\n",
    "options.add_argument('headless')\n",
    "driver = webdriver.Chrome(options=options)\n",
    "driver.get(\"https://www.ted.com/talks\")\n",
    "words = driver.find_elements(By.CSS_SELECTOR,'#TopicsLaunchPad-Top-Default span.relative')\n",
    "for word in words:\n",
    "print(word.text)\n",
    "driver.quit()"
   ]
  },
  {
   "cell_type": "markdown",
   "id": "aea112b5-7c93-4cce-9146-031fadeb5f58",
   "metadata": {},
   "source": [
    "#### 크롬 드라이버 옵션들"
   ]
  },
  {
   "cell_type": "code",
   "execution_count": null,
   "id": "f1591329-c032-417c-85db-f0eed4150835",
   "metadata": {},
   "outputs": [],
   "source": [
    "options.add_argument('--window-size= 200, 300')  #실행되는 브라우저 크기 지정\n",
    "options.add_argument('--start-maximized')        #브라우저가 최대화된 상태로 실행\n",
    "options.add_argument('--start-fullscreen')       #브라우저가 풀스크린 모드(F11)로 실행 \n",
    "options.add_argument('--blink-settings=imagesEnabled=false') #이미지 로딩 안함\n",
    "options.add_argument('--mute-audio')             #브라우저에 음소거 옵션 적용 \n",
    "options.add_argument('incognito')                #시크릿 모드의 브라우저 실행"
   ]
  },
  {
   "cell_type": "markdown",
   "id": "9adc48f1-1ace-4a3c-af78-07452eaaf236",
   "metadata": {},
   "source": [
    "#### 스타벅스 사이트크롤링 /beautifulsoup 사용"
   ]
  },
  {
   "cell_type": "code",
   "execution_count": null,
   "id": "6d042aff-3976-4497-8177-1de9eb7c74d4",
   "metadata": {},
   "outputs": [],
   "source": [
    "from selenium import webdriver\n",
    "from selenium.webdriver.common.by import By\n",
    "from bs4 import BeautifulSoup"
   ]
  },
  {
   "cell_type": "code",
   "execution_count": null,
   "id": "313a0b14-d28b-4e91-9005-16d0923875b5",
   "metadata": {},
   "outputs": [],
   "source": [
    "driver = webdriver.Chrome()\n",
    "driver.get('https://www.istarbucks.co.kr/store/store_map.do')"
   ]
  },
  {
   "cell_type": "code",
   "execution_count": null,
   "id": "3f10f9c4-d7d6-4829-8a38-e926c1bda096",
   "metadata": {},
   "outputs": [],
   "source": [
    "# 클라스명으로 버튼찾기(지역검색)\n",
    "loca = driver.find_element(By.CLASS_NAME, 'loca_search')\n",
    "loca.click()\n",
    "# 전체 li 상위 태그를 찾아서 다중 검색으로 li태그 선택\n",
    "sido = driver.find_element(By.CLASS_NAME, 'sido_arae_box')\n",
    "li = sido.find_elements(By.TAG_NAME, 'li')\n",
    "li[16].click()\n",
    "# id 명으로 버튼 찾기(시군구 버튼)\n",
    "gugun = driver.find_element(By.ID, 'mCSB_2_container')\n",
    "li = gugun.find_elements(By.TAG_NAME, 'li')\n",
    "li[1].click()"
   ]
  },
  {
   "cell_type": "code",
   "execution_count": null,
   "id": "a95020eb-afe5-4a96-8f81-5b7c5865e36c",
   "metadata": {},
   "outputs": [],
   "source": [
    "# .page_source를 이용하여 변경된 html 소스 가져오기\n",
    "source = driver.page_source\n",
    "print(source[:200])\n",
    "\n",
    "html = BeautifulSoup(source,'html.parser')"
   ]
  },
  {
   "cell_type": "code",
   "execution_count": null,
   "id": "dffb8097-9ad6-4a8b-a462-ad485f8b0396",
   "metadata": {},
   "outputs": [],
   "source": [
    "# 검색 결과 찾기\n",
    "search_list = html.select('ul.quickSearchResultBoxSidoGugun > li')\n",
    "items = []\n",
    "for item in search_list:\n",
    "    items.append(item.find('p').text)\n",
    "    print(items[0])\n",
    "driver.quit()"
   ]
  },
  {
   "cell_type": "code",
   "execution_count": null,
   "id": "403405e9-aaaf-44ce-a612-30f9692b5813",
   "metadata": {},
   "outputs": [],
   "source": []
  }
 ],
 "metadata": {
  "kernelspec": {
   "display_name": "Python 3 (ipykernel)",
   "language": "python",
   "name": "python3"
  },
  "language_info": {
   "codemirror_mode": {
    "name": "ipython",
    "version": 3
   },
   "file_extension": ".py",
   "mimetype": "text/x-python",
   "name": "python",
   "nbconvert_exporter": "python",
   "pygments_lexer": "ipython3",
   "version": "3.11.5"
  }
 },
 "nbformat": 4,
 "nbformat_minor": 5
}
