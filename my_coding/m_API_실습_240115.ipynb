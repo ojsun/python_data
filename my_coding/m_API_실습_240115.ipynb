{
 "cells": [
  {
   "cell_type": "code",
   "execution_count": 19,
   "id": "28a9718e-7dd9-41f2-9373-bfbe092dbef6",
   "metadata": {},
   "outputs": [],
   "source": [
    "import requests\n",
    "from bs4 import BeautifulSoup "
   ]
  },
  {
   "cell_type": "markdown",
   "id": "02abc623-e4c5-4010-ad68-8978a96c425a",
   "metadata": {},
   "source": [
    "### Kakao developers --API 관련 실습/ 카카오지도-키워드검색, 검색 등"
   ]
  },
  {
   "cell_type": "code",
   "execution_count": 16,
   "id": "ec3b8560-ed4f-4ac7-8bf8-e144fab9551f",
   "metadata": {},
   "outputs": [
    {
     "name": "stdout",
     "output_type": "stream",
     "text": [
      "이마트24 SMART삼성S&J빌딩점\n",
      "CU 삼성대웅점\n",
      "CU 삼성신코점\n",
      "GS25 삼성진우점\n",
      "세븐일레븐 삼성대웅점\n"
     ]
    }
   ],
   "source": [
    "#실습중\n",
    "url='https://dapi.kakao.com/v2/local/search/keyword.json'\n",
    "restapi_key = \"bd88efd8afb2711bbd519fd5cdaeb4e1\"\n",
    "size= 5\n",
    "page= 1\n",
    "params = { \"query\": '편의점', \n",
    "            \"x\" :'127.06283102249932',\n",
    "            \"y\" :'37.514322572335935',\n",
    "            \"radius\": '1000',\n",
    "            \"size\": size,\n",
    "            \"page\": page\n",
    "         }\n",
    "headers = {\"Authorization\": \"KakaoAK \" + restapi_key}    #KakaoAK 위에 한칸 띄우기\n",
    "response=requests.get(url, params=params,headers=headers)\n",
    "\n",
    "for item in response.json()['documents']:\n",
    "    print(item['place_name'])\n",
    "    if not response.json()['meta']['is_end']:\n",
    "        page+=1\n",
    "    else:\n",
    "        break"
   ]
  },
  {
   "cell_type": "code",
   "execution_count": null,
   "id": "7ee7f6ee-4279-4598-92ca-086c3fec279f",
   "metadata": {},
   "outputs": [],
   "source": [
    "headers = {\"Authorization\": \"KakaoAK \" + restapi_key}    #KakaoAK 위에 한칸 띄우기"
   ]
  },
  {
   "cell_type": "code",
   "execution_count": 11,
   "id": "5342ba34-4251-4eeb-bac4-ff2863c93fd2",
   "metadata": {
    "scrolled": true
   },
   "outputs": [
    {
     "data": {
      "text/plain": [
       "{'address': {'address_name': '세종특별자치시 집현동 1129',\n",
       "  'b_code': '3611011800',\n",
       "  'h_code': '3611055600',\n",
       "  'main_address_no': '1129',\n",
       "  'mountain_yn': 'N',\n",
       "  'region_1depth_name': '세종특별자치시',\n",
       "  'region_2depth_name': '',\n",
       "  'region_3depth_h_name': '반곡동',\n",
       "  'region_3depth_name': '집현동',\n",
       "  'sub_address_no': '',\n",
       "  'x': '127.325356593945',\n",
       "  'y': '36.4910924250367'},\n",
       " 'address_name': '세종특별자치시 집현동로 77',\n",
       " 'address_type': 'ROAD_ADDR',\n",
       " 'road_address': {'address_name': '세종특별자치시 집현동로 77',\n",
       "  'building_name': '',\n",
       "  'main_building_no': '77',\n",
       "  'region_1depth_name': '세종특별자치시',\n",
       "  'region_2depth_name': '',\n",
       "  'region_3depth_name': '집현동',\n",
       "  'road_name': '집현동로',\n",
       "  'sub_building_no': '',\n",
       "  'underground_yn': 'N',\n",
       "  'x': '127.325356593945',\n",
       "  'y': '36.4910924250367',\n",
       "  'zone_no': '30141'},\n",
       " 'x': '127.325356593945',\n",
       " 'y': '36.4910924250367'}"
      ]
     },
     "execution_count": 11,
     "metadata": {},
     "output_type": "execute_result"
    }
   ],
   "source": [
    "restapi_key = \"bd88efd8afb2711bbd519fd5cdaeb4e1\"\n",
    "url = \"https://dapi.kakao.com/v2/local/search/address.json\"\n",
    "params = { \"query\": '집현동로 77' }\n",
    "headers = {\"Authorization\": \"KakaoAK \" + restapi_key}    #KakaoAK 위에 한칸 띄우기\n",
    "response=requests.get(url, headers=headers, params=params)\n",
    "response\n",
    "\n",
    "datas = response.json()\n",
    "datas['documents'][0]\n"
   ]
  },
  {
   "cell_type": "code",
   "execution_count": 12,
   "id": "a0363b65-da6c-4f98-b894-fbd6ca65a3ed",
   "metadata": {},
   "outputs": [
    {
     "data": {
      "text/plain": [
       "'검색안됨'"
      ]
     },
     "execution_count": 12,
     "metadata": {},
     "output_type": "execute_result"
    }
   ],
   "source": [
    "\n",
    "## 함수1) 카카오 주소 검색 > 경도, 위도\n",
    "def search_location(query):\n",
    "    restapi_key = '60b71cac95c11ebfeb2ee9d26ca44bbc'\n",
    "    url = \"https://dapi.kakao.com/v2/local/search/address.json\"\n",
    "    params = { \"query\": query }\n",
    "    headers = {\"Authorization\": \"KakaoAK \" + restapi_key}\n",
    "    response = requests.get(url, headers=headers, params=params)\n",
    "    \n",
    "    if response.status_code == 200:\n",
    "        try:\n",
    "            address = response.json()['documents'][0]\n",
    "            return float(address['x']), float(address['y'])\n",
    "        except:\n",
    "            return '검색안됨'\n",
    "    else:\n",
    "        return response.status_code\n",
    "\n",
    "search_location('새나루 9단지')"
   ]
  },
  {
   "cell_type": "code",
   "execution_count": null,
   "id": "fe803376-3a27-4195-a420-260f44c75860",
   "metadata": {},
   "outputs": [],
   "source": [
    "# kakao 카테고리로 장소 검색하기 "
   ]
  },
  {
   "cell_type": "code",
   "execution_count": 13,
   "id": "4f4a44fa-f045-4a72-8ba8-ea61f68a8c46",
   "metadata": {
    "scrolled": true
   },
   "outputs": [
    {
     "data": {
      "text/plain": [
       "{'address_name': '서울 중구 태평로1가 31',\n",
       " 'category_group_code': 'PO3',\n",
       " 'category_group_name': '공공기관',\n",
       " 'category_name': '사회,공공기관 > 지방행정기관 > 시청 > 특별시청',\n",
       " 'distance': '',\n",
       " 'id': '8430129',\n",
       " 'phone': '02-120',\n",
       " 'place_name': '서울특별시청',\n",
       " 'place_url': 'http://place.map.kakao.com/8430129',\n",
       " 'road_address_name': '서울 중구 세종대로 110',\n",
       " 'x': '126.978652258823',\n",
       " 'y': '37.56682420267543'}"
      ]
     },
     "execution_count": 13,
     "metadata": {},
     "output_type": "execute_result"
    }
   ],
   "source": [
    "restapi_key = \"bd88efd8afb2711bbd519fd5cdaeb4e1\"\n",
    "size= 5\n",
    "page=1\n",
    "url = \"https://dapi.kakao.com/v2/local/search/category.json\"\n",
    "params = { \"category_group_code\": \"PO3\",\n",
    "           \"radius\": \"2000\"       \n",
    "         }\n",
    "headers = {\"Authorization\": \"KakaoAK \" + restapi_key}    \n",
    "response = requests.get(url, headers=headers, params=params)\n",
    "response\n",
    "\n",
    "datas = response.json()\n",
    "datas['documents'][0]"
   ]
  },
  {
   "cell_type": "code",
   "execution_count": 15,
   "id": "57a2e7ed-36d0-4c3c-8f33-74e3ba5a6207",
   "metadata": {},
   "outputs": [
    {
     "name": "stdout",
     "output_type": "stream",
     "text": [
      "삼성1동주민센터\n",
      "서울강남경찰서\n",
      "강남소방서\n",
      "삼성1파출소\n",
      "운동장119안전센터\n"
     ]
    }
   ],
   "source": [
    "#실습중\n",
    "url=\"https://dapi.kakao.com/v2/local/search/category.json\"\n",
    "restapi_key = \"bd88efd8afb2711bbd519fd5cdaeb4e1\"\n",
    "size= 5\n",
    "page= 1\n",
    "params = {  \"category_group_code\": \"PO3\",\n",
    "            \"x\" :'127.06283102249932',\n",
    "            \"y\" :'37.514322572335935',\n",
    "            \"radius\": '1000',\n",
    "            \"size\": size,\n",
    "            \"page\": page\n",
    "         }\n",
    "headers = {\"Authorization\": \"KakaoAK \" + restapi_key}    #KakaoAK 위에 한칸 띄우기\n",
    "response=requests.get(url, params=params,headers=headers)\n",
    "\n",
    "for item in response.json()['documents']:\n",
    "    print(item['place_name'])\n",
    "    if not response.json()['meta']['is_end']:\n",
    "        page+=1\n",
    "    else:\n",
    "        break"
   ]
  },
  {
   "cell_type": "code",
   "execution_count": null,
   "id": "c4266ed8-0e52-4290-971e-8c1ce079ac21",
   "metadata": {},
   "outputs": [],
   "source": []
  },
  {
   "cell_type": "markdown",
   "id": "00fd350d-91be-4137-8390-4b3d093738de",
   "metadata": {},
   "source": [
    "### 실습 Api ) G마켓, 숨겨진 정보 크롤링 /그림 다운로드는 urllib가 requests보다 좀 나음"
   ]
  },
  {
   "cell_type": "code",
   "execution_count": 33,
   "id": "63fdbb49-5d05-4495-bf99-43ea3ee7b946",
   "metadata": {},
   "outputs": [
    {
     "data": {
      "text/plain": [
       "[['진미채볶음 500g대용량 여수김치명가제조 촉촉하고 쫄깃한 오징어풍미와 달큰양념',\n",
       "  'https://gdimg.gmarket.co.kr/3020358073/still/300?ver=1687402881'],\n",
       " ['[천종현수학연구소]키즈 원리셈/ 원리셈 세트',\n",
       "  'https://gdimg.gmarket.co.kr/2122159837/still/300?ver=1697599353'],\n",
       " ['[비비고][비비고] (CJ제일제당) 맛밤 50g 40봉 (1박스)',\n",
       "  'https://gdimg.gmarket.co.kr/2242733085/still/300?ver=1705298961']]"
      ]
     },
     "execution_count": 33,
     "metadata": {},
     "output_type": "execute_result"
    }
   ],
   "source": [
    "url='https://www.gmarket.co.kr/n/best'\n",
    "response=requests.get(url)\n",
    "bs=BeautifulSoup(response.content, \"html.parser\")\n",
    "images =bs.select('img.image__lazy')\n",
    "best_items=[]\n",
    "for image in images:\n",
    "    img_url = 'https:' + image.get('src')\n",
    "    title= image.get('alt')\n",
    "    best_items.append([title, img_url])\n",
    "best_items[:3]"
   ]
  },
  {
   "cell_type": "code",
   "execution_count": 58,
   "id": "365d69fa-c4e9-4e9d-a19e-0f69dd9f7ab5",
   "metadata": {},
   "outputs": [],
   "source": [
    "# 이미지 저장하기-blob, clob 형태로 DB 또는 파일에 저장\n",
    "# 파일로 다운로드하기\n",
    "for num, item in enumerate(best_items):\n",
    "    response = requests.get(item[1])\n",
    "    with open(f'images/{num}.jpeg','wb') as f:\n",
    "        f.write(response.content)"
   ]
  },
  {
   "cell_type": "code",
   "execution_count": 59,
   "id": "eecfeaf4-3d2e-495a-bd01-ed1ff0f992b3",
   "metadata": {},
   "outputs": [],
   "source": [
    "# urlretrieve는 이미지 미디어파일 다운로드하는데 사용되은 모듈(자동 다운로드)\n",
    "# 엄청 빠름/간결하고\n",
    "from urllib.request import urlopen, urlretrieve"
   ]
  },
  {
   "cell_type": "code",
   "execution_count": 60,
   "id": "951351ea-ada6-4228-bc9d-564056b55004",
   "metadata": {},
   "outputs": [],
   "source": [
    "for num, item in enumerate(best_items):\n",
    "    urlretrieve(item[1],f'images_2/{num}.jpeg')"
   ]
  },
  {
   "cell_type": "code",
   "execution_count": 61,
   "id": "dbc2854e-a1d7-4a10-a0d6-279aa2d16a8e",
   "metadata": {},
   "outputs": [],
   "source": [
    "# DB에 이미지 저장하기\n",
    "import pymysql"
   ]
  },
  {
   "cell_type": "code",
   "execution_count": null,
   "id": "76b40130-1245-4351-9f35-834188528576",
   "metadata": {},
   "outputs": [],
   "source": [
    "# i개 이미지만 넣어봄, 자료형은 %s로"
   ]
  },
  {
   "cell_type": "code",
   "execution_count": 62,
   "id": "a49e85c2-a290-4c37-8b32-86254b76cf90",
   "metadata": {},
   "outputs": [],
   "source": [
    "conn = pymysql.connect(user = 'maria',\n",
    "                        password = '1234',\n",
    "                        host = 'localhost',\n",
    "                        port = 3306,\n",
    "                        database = 'test_db'\n",
    "                        )\n",
    "cursor = conn.cursor()\n",
    "sql = '''insert into g_market values (%s)'''\n",
    "cursor.execute(sql, [response.content])\n",
    "conn.commit()"
   ]
  },
  {
   "cell_type": "code",
   "execution_count": null,
   "id": "b24830c4-5177-487a-bb35-2b2a773629aa",
   "metadata": {},
   "outputs": [],
   "source": [
    "# DB에서 이미지 가져오기\n",
    "cursor.execute('''select image from g_market''')\n",
    "img= cursor.fetchone()\n",
    "img         # 바이어리 형태임"
   ]
  },
  {
   "cell_type": "code",
   "execution_count": null,
   "id": "5611e863-bba3-4069-8ec3-4e5e4ebe5c2b",
   "metadata": {
    "scrolled": true
   },
   "outputs": [],
   "source": [
    "from PIL import Image\n",
    "import io\n",
    "\n",
    "img=image.open(io.BytesIO(response.content))      # img[0] 대신 response.content 도 가능함\n",
    "img.show()"
   ]
  },
  {
   "cell_type": "code",
   "execution_count": null,
   "id": "6486673a-4f5b-48c2-97f1-37bef9b6ce75",
   "metadata": {},
   "outputs": [],
   "source": [
    "# 상품별 리뷰(상품평) 크롤링  --집에서 보강할것\n",
    "url='https://item.gmarket.co.kr/Review/Premium'\n",
    "for item in best_items:\n",
    "    params={'goosCode': item[0]', 'pageNo': 1, 'sort' : 0, 'totalPage':\n",
    "            response = requests.get(item[1])           }\n",
    "    \n",
    "    \n"
   ]
  }
 ],
 "metadata": {
  "kernelspec": {
   "display_name": "Python 3 (ipykernel)",
   "language": "python",
   "name": "python3"
  },
  "language_info": {
   "codemirror_mode": {
    "name": "ipython",
    "version": 3
   },
   "file_extension": ".py",
   "mimetype": "text/x-python",
   "name": "python",
   "nbconvert_exporter": "python",
   "pygments_lexer": "ipython3",
   "version": "3.11.5"
  }
 },
 "nbformat": 4,
 "nbformat_minor": 5
}
