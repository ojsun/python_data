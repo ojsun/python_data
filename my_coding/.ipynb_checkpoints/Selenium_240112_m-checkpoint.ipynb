{
 "cells": [
  {
   "cell_type": "markdown",
   "id": "87745d5b-4e01-4631-b54f-9e3c1088e490",
   "metadata": {},
   "source": [
    "###처음에 입력! 브라우저 간의 차이 극복? 크롬 잘 동작하도록"
   ]
  },
  {
   "cell_type": "code",
   "execution_count": null,
   "id": "67a10a2a-d494-49e8-9813-28586145e302",
   "metadata": {},
   "outputs": [],
   "source": [
    "!pip install webdriver-manager\n",
    "\n",
    "from selenium import webdriver\n",
    "from selenium.webdriver.chrome.service import Service\n",
    "from webdriver_manager.chrome import ChromeDriverManager\n",
    "from selenium.webdriver.common.by import By\n",
    "\n",
    "service = Service(ChromeDriverManager().install())\n",
    "driver = webdriver.Chrome(service=service)\n"
   ]
  },
  {
   "cell_type": "code",
   "execution_count": null,
   "id": "6a2f5e26-b10a-4717-b5bf-3709722bb33e",
   "metadata": {},
   "outputs": [],
   "source": []
  },
  {
   "cell_type": "code",
   "execution_count": null,
   "id": "c5f94fce-7337-460a-90cd-30a8d77fe722",
   "metadata": {
    "scrolled": true
   },
   "outputs": [],
   "source": [
    "pip install selenium    # 브라우저 자동화 역할이 주"
   ]
  },
  {
   "cell_type": "code",
   "execution_count": 54,
   "id": "7050c834-24c6-48cf-9cc3-4c327ab4533b",
   "metadata": {},
   "outputs": [],
   "source": [
    "from selenium import webdriver\n",
    "from bs4 import BeautifulSoup"
   ]
  },
  {
   "cell_type": "code",
   "execution_count": 55,
   "id": "5fbf3466-af8e-4bc5-a356-6e437b5414fd",
   "metadata": {},
   "outputs": [],
   "source": [
    "driver = webdriver.Chrome()"
   ]
  },
  {
   "cell_type": "code",
   "execution_count": 15,
   "id": "85119170-1d06-430a-b862-852b55824151",
   "metadata": {},
   "outputs": [],
   "source": [
    "driver.get('https://www.daum.net')"
   ]
  },
  {
   "cell_type": "code",
   "execution_count": 39,
   "id": "1e0d57d1-c67f-43c9-a5a3-0fdba917c22a",
   "metadata": {},
   "outputs": [],
   "source": [
    "driver.get('https://ai-dev.tistory.com/1')"
   ]
  },
  {
   "cell_type": "code",
   "execution_count": 40,
   "id": "8d0b8db8-b231-49f9-ac98-4257241a78e0",
   "metadata": {},
   "outputs": [],
   "source": [
    "html=driver.page_source"
   ]
  },
  {
   "cell_type": "code",
   "execution_count": 43,
   "id": "65515d4a-011a-4155-a406-83d96c46092f",
   "metadata": {},
   "outputs": [],
   "source": [
    "driver.set_window_size(200,400)"
   ]
  },
  {
   "cell_type": "code",
   "execution_count": 41,
   "id": "bdde97f0-077b-47b7-8b4b-21fb7d494af8",
   "metadata": {},
   "outputs": [],
   "source": [
    "soup=BeautifulSoup(html,'html.parser')"
   ]
  },
  {
   "cell_type": "code",
   "execution_count": 42,
   "id": "985f55e7-0790-4932-b859-58c8c967edf5",
   "metadata": {},
   "outputs": [
    {
     "data": {
      "text/plain": [
       "[<tr>\n",
       " <th><a href=\"/2\">크롤링 예제 페이지 - 02</a>  <span>(6)</span></th>\n",
       " <td>2021.08.08</td>\n",
       " </tr>]"
      ]
     },
     "execution_count": 42,
     "metadata": {},
     "output_type": "execute_result"
    }
   ],
   "source": [
    "soup.select('tr')"
   ]
  },
  {
   "cell_type": "code",
   "execution_count": 45,
   "id": "8040f3af-4fe4-41d7-9e40-bf06ac96e933",
   "metadata": {},
   "outputs": [],
   "source": [
    "driver.execute_script('window.scrollTo(300,300);')"
   ]
  },
  {
   "cell_type": "code",
   "execution_count": 46,
   "id": "7c211947-7102-4e33-babf-6f43c12565c8",
   "metadata": {},
   "outputs": [],
   "source": [
    "driver.execute_script('alert(\"hello selenium!!!\");')"
   ]
  },
  {
   "cell_type": "code",
   "execution_count": null,
   "id": "523639db-acf5-4aa9-af51-841ef7a8cc00",
   "metadata": {},
   "outputs": [],
   "source": []
  },
  {
   "cell_type": "code",
   "execution_count": null,
   "id": "7515c26c-106d-46c3-911d-7204f9c3e4ab",
   "metadata": {},
   "outputs": [],
   "source": [
    "driver.set_window_size(200,600)"
   ]
  },
  {
   "cell_type": "code",
   "execution_count": 56,
   "id": "59e225ca-7493-4651-b923-b16451a95e92",
   "metadata": {},
   "outputs": [],
   "source": [
    "driver.execute_script('window.scrollTo(200,300);')"
   ]
  },
  {
   "cell_type": "code",
   "execution_count": null,
   "id": "16be3846-3d60-49c6-a923-3ad7f63db507",
   "metadata": {},
   "outputs": [],
   "source": [
    "driver.execute_script('alert(\"hello selenium!!!\");')    #창 열기"
   ]
  },
  {
   "cell_type": "code",
   "execution_count": 49,
   "id": "01ad3be1-4ebe-467f-80d0-447083d0020f",
   "metadata": {},
   "outputs": [],
   "source": [
    "alert = driver.switch_to.alert   # 창 닫기\n",
    "alert.accept()"
   ]
  },
  {
   "cell_type": "code",
   "execution_count": null,
   "id": "e17983ea-e68f-4761-a8aa-3570d83d91ad",
   "metadata": {},
   "outputs": [],
   "source": [
    "from selenium.webdriver.common.by import By\n",
    "driver.find_element(By.CSS_SELECTOR, '#q').send_keys('셀레니움')"
   ]
  },
  {
   "cell_type": "code",
   "execution_count": null,
   "id": "df40ef20-96cf-4b76-a6ee-555a646da0ec",
   "metadata": {},
   "outputs": [],
   "source": [
    "driver.find_element(By.CSS_SELECTOR, \n",
    "'.inner_search > .ico_pctop.btn_search').click()"
   ]
  },
  {
   "cell_type": "code",
   "execution_count": null,
   "id": "bc876579-1779-4842-abc7-8fe3cb9b62ff",
   "metadata": {},
   "outputs": [],
   "source": [
    "driver.close()\n",
    "or\n",
    "driver.quit"
   ]
  },
  {
   "cell_type": "code",
   "execution_count": 52,
   "id": "ccdd90af-c8ea-43a9-8545-efdf090e3a58",
   "metadata": {},
   "outputs": [],
   "source": [
    "driver.quit()"
   ]
  },
  {
   "cell_type": "code",
   "execution_count": null,
   "id": "61f74844-4162-4bad-83dd-94695b131761",
   "metadata": {},
   "outputs": [],
   "source": []
  },
  {
   "cell_type": "code",
   "execution_count": 60,
   "id": "16b97596-2d87-4a8b-a911-98bfb7e91003",
   "metadata": {},
   "outputs": [],
   "source": [
    "# 다시 시작하ㄹ때마다 입력해야 하지만 아래와 같이 웹상에서 할수도 있음\n",
    "from selenium import webdriver"
   ]
  },
  {
   "cell_type": "code",
   "execution_count": 65,
   "id": "bed75276-f2cd-4f02-8f5b-7e376524d2a3",
   "metadata": {
    "scrolled": true
   },
   "outputs": [],
   "source": [
    "driver.get('http://daum.net')\n",
    "from selenium.webdriver.common.by import By \n",
    "driver.find_element(By.CSS_SELECTOR, '#q').send_keys('셀레니움')"
   ]
  },
  {
   "cell_type": "code",
   "execution_count": null,
   "id": "1b8c4ff6-6cc8-48de-863b-fc36129024a6",
   "metadata": {},
   "outputs": [],
   "source": [
    "driver.find_element(By.CSS_SELECTOR, \n",
    "'.inner_search > .ico_pctop.btn_search').click()"
   ]
  },
  {
   "cell_type": "code",
   "execution_count": null,
   "id": "f1fbdab8-47a4-4dc7-a70c-2f965429aed0",
   "metadata": {
    "scrolled": true
   },
   "outputs": [],
   "source": [
    "# 가능은 하나 너무 늦어서 잘 사용하지 읺음\n",
    "driver.find_element(By.CSS_SELECTOR, 'a.keyword').txt"
   ]
  },
  {
   "cell_type": "code",
   "execution_count": null,
   "id": "63dacc84-bb3d-453a-a5da-43e7f0daadc5",
   "metadata": {
    "scrolled": true
   },
   "outputs": [],
   "source": [
    "words=driver.find_element(By.CSS_SELECTOR, 'a.keword')"
   ]
  },
  {
   "cell_type": "code",
   "execution_count": 70,
   "id": "8a6723ca-3f30-4eb6-a1d5-7327aa683d90",
   "metadata": {},
   "outputs": [],
   "source": [
    "driver.quit()"
   ]
  },
  {
   "cell_type": "code",
   "execution_count": null,
   "id": "33822471-e6f7-495f-91fa-56e3925b56b4",
   "metadata": {},
   "outputs": [],
   "source": []
  },
  {
   "cell_type": "code",
   "execution_count": null,
   "id": "aa9c97aa-e1f7-43cd-9657-3ac6c00cdb5d",
   "metadata": {
    "scrolled": true
   },
   "outputs": [],
   "source": [
    "driver.find_element(By.XPATH, '//*[@id=\"q\"]').send_keys('빅데이터')"
   ]
  },
  {
   "cell_type": "code",
   "execution_count": null,
   "id": "8c6880e2-9df0-42f6-8c17-d1ca04fce3e5",
   "metadata": {},
   "outputs": [],
   "source": [
    "driver.find_element(By.XPATH, \n",
    "'//*[@id=\"daumSearch\"]/fieldset/div/div/button[3]').click()"
   ]
  },
  {
   "cell_type": "code",
   "execution_count": 72,
   "id": "17459a02-ac50-44ed-bb49-b8f4ea493030",
   "metadata": {},
   "outputs": [
    {
     "data": {
      "text/plain": [
       "'\\ue007'"
      ]
     },
     "execution_count": 72,
     "metadata": {},
     "output_type": "execute_result"
    }
   ],
   "source": [
    "from selenium.webdriver.common.keys import Keys\n",
    "Keys.ENTER"
   ]
  },
  {
   "cell_type": "code",
   "execution_count": 73,
   "id": "f4f2d92e-7514-494e-bd5f-e6c625280e08",
   "metadata": {},
   "outputs": [],
   "source": [
    "# TED 사이트 크롤링\n",
    "driver = webdriver.Chrome()\n",
    "driver.get('https://www.ted.com/talks')"
   ]
  },
  {
   "cell_type": "code",
   "execution_count": 75,
   "id": "19173481-e1b4-4e1b-9751-59381ce3a8b9",
   "metadata": {},
   "outputs": [
    {
     "name": "stdout",
     "output_type": "stream",
     "text": [
      "TED-Ed\n",
      "Psychology\n",
      "Leadership\n",
      "Education\n",
      "AI\n",
      "Sleep\n",
      "Mental Health\n",
      "Business\n",
      "Motivation\n",
      "Communication\n",
      "Personal Growth\n",
      "Sports\n",
      "Health\n",
      "Language\n"
     ]
    }
   ],
   "source": [
    "words = driver.find_elements(By.CSS_SELECTOR, '#TopicsLaunchPad-Top-Default span.relative')\n",
    "for word in words:\n",
    "    print(word.text)"
   ]
  },
  {
   "cell_type": "code",
   "execution_count": null,
   "id": "913fa363-019b-448d-97f5-786c8e787635",
   "metadata": {},
   "outputs": [],
   "source": [
    "driver.find_element(By.CSS_SELECTOR, \n",
    "'#filterBarScrollArea div > button > span > p').click()"
   ]
  },
  {
   "cell_type": "code",
   "execution_count": null,
   "id": "e0c1e7ff-6233-4cfa-9bc8-5f46f0c20984",
   "metadata": {},
   "outputs": [],
   "source": []
  },
  {
   "cell_type": "code",
   "execution_count": null,
   "id": "6336f747-2faf-4890-a000-1ac42dea2ad9",
   "metadata": {},
   "outputs": [],
   "source": [
    "# TED 사이트 크롤링\n",
    "driver = webdriver.Chrome()\n",
    "driver.get('https://www.ted.com/talks')"
   ]
  },
  {
   "cell_type": "code",
   "execution_count": null,
   "id": "041c641a-d8c9-4b24-bc54-d59e2a04ea7c",
   "metadata": {},
   "outputs": [],
   "source": [
    "words = driver.find_elements(By.CSS_SELECTOR, \n",
    "'#TopicsLaunchPad-Top-Default span.relative')\n",
    "for word in words:\n",
    "print(word.text)"
   ]
  },
  {
   "cell_type": "code",
   "execution_count": null,
   "id": "997cf01b-186e-479d-8523-bc8f16b1c26b",
   "metadata": {},
   "outputs": [],
   "source": [
    "contents = driver.find_elements(By.CSS_SELECTOR, \".mb-1 > span\")\n",
    "len(contents)"
   ]
  },
  {
   "cell_type": "code",
   "execution_count": null,
   "id": "6dd95503-bfbe-41bb-bf00-4e75ec85d4fb",
   "metadata": {},
   "outputs": [],
   "source": [
    "for content in contents:\n",
    "print(content.text)"
   ]
  },
  {
   "cell_type": "code",
   "execution_count": 76,
   "id": "2e228d81-eac9-4290-bfbf-24fd6b64c71e",
   "metadata": {},
   "outputs": [],
   "source": [
    "driver.find_element(By.CSS_SELECTOR, \n",
    "'#filterBarScrollArea div > button > span > p').click()"
   ]
  },
  {
   "cell_type": "code",
   "execution_count": null,
   "id": "cd55f8e7-a6eb-4fe5-947b-c01cc30d8ec4",
   "metadata": {
    "scrolled": true
   },
   "outputs": [],
   "source": [
    "driver.find_element(By.CSS_SELECTOR, \n",
    "'#dropdown-menu > li:nth-child(6) > button > span').click()"
   ]
  },
  {
   "cell_type": "code",
   "execution_count": null,
   "id": "baaedd34-5baf-413b-8bb8-6f4923d67a2f",
   "metadata": {},
   "outputs": [],
   "source": [
    "driver.find_element(By.CSS_SELECTOR, '#k ul > li:nth-child(5) > button').click()"
   ]
  },
  {
   "cell_type": "code",
   "execution_count": null,
   "id": "aaee31af-ebad-42d0-982e-5f3c66fef6c5",
   "metadata": {},
   "outputs": [],
   "source": []
  },
  {
   "cell_type": "code",
   "execution_count": null,
   "id": "edc2ebd5-0194-48ca-9601-a579c1614789",
   "metadata": {},
   "outputs": [],
   "source": [
    "driver = webdriver.Chrome()\n",
    "driver.get('https://naver.com')\n",
    "login = driver.find_element(By.CSS_SELECTOR, '#account a').get_attribute('href')\n",
    "driver.get(login)"
   ]
  },
  {
   "cell_type": "code",
   "execution_count": null,
   "id": "50816679-8eba-43ab-b232-2505e00b411e",
   "metadata": {},
   "outputs": [],
   "source": [
    "options = webdriver.ChromeOptions()\n",
    "options.add_argument('headless')\n",
    "driver = webdriver.Chrome(options=options)\n",
    "driver.get(\"https://www.ted.com/talks\")\n",
    "words = driver.find_elements(By.CSS_SELECTOR, \n",
    "'#TopicsLaunchPad-Top-Default span.relative')\n",
    "for word in words:\n",
    "print(word.text)\n",
    "driver.quit()"
   ]
  },
  {
   "cell_type": "code",
   "execution_count": null,
   "id": "72e43c29-51a2-4bfd-bcdb-963cf65b85f0",
   "metadata": {},
   "outputs": [],
   "source": []
  },
  {
   "cell_type": "code",
   "execution_count": null,
   "id": "f1591329-c032-417c-85db-f0eed4150835",
   "metadata": {},
   "outputs": [],
   "source": [
    "#실행되는 브라우저 크기를 지정할 수 있습니다.\n",
    "options.add_argument('--window-size= 200, 300') \n",
    "#브라우저가 최대화된 상태로 실행됩니다.\n",
    "options.add_argument('--start-maximized') \n",
    "#브라우저가 풀스크린 모드(F11)로 실행됩니다.\n",
    "options.add_argument('--start-fullscreen') \n",
    "#브라우저에서 이미지 로딩을 하지 않습니다.\n",
    "options.add_argument('--blink-settings=imagesEnabled=false') \n",
    "#브라우저에 음소거 옵션을 적용합니다.\n",
    "options.add_argument('--mute-audio') \n",
    "#시크릿 모드의 브라우저가 실행됩니다.\n",
    "options.add_argument('incognito') "
   ]
  },
  {
   "cell_type": "code",
   "execution_count": null,
   "id": "b5ad7c06-201d-43f5-8d2f-81530b3dcce2",
   "metadata": {},
   "outputs": [],
   "source": []
  },
  {
   "cell_type": "code",
   "execution_count": null,
   "id": "6d042aff-3976-4497-8177-1de9eb7c74d4",
   "metadata": {},
   "outputs": [],
   "source": [
    "#스타벅스 사이트크롤링\n",
    "from selenium import webdriver\n",
    "from selenium.webdriver.common.by import By\n",
    "from bs4 import BeautifulSoup"
   ]
  },
  {
   "cell_type": "code",
   "execution_count": null,
   "id": "313a0b14-d28b-4e91-9005-16d0923875b5",
   "metadata": {},
   "outputs": [],
   "source": [
    "driver = webdriver.Chrome()\n",
    "driver.get('https://www.istarbucks.co.kr/store/store_map.do')"
   ]
  },
  {
   "cell_type": "code",
   "execution_count": null,
   "id": "3f10f9c4-d7d6-4829-8a38-e926c1bda096",
   "metadata": {},
   "outputs": [],
   "source": [
    "loca = driver.find_element(By.CLASS_NAME, 'loca_search')\n",
    "loca.click()"
   ]
  },
  {
   "cell_type": "code",
   "execution_count": null,
   "id": "a95020eb-afe5-4a96-8f81-5b7c5865e36c",
   "metadata": {},
   "outputs": [],
   "source": [
    "sido = driver.find_element(By.CLASS_NAME, 'sido_arae_box')\n",
    "li = sido.find_elements(By.TAG_NAME, 'li')\n",
    "li[16].click()"
   ]
  },
  {
   "cell_type": "code",
   "execution_count": null,
   "id": "dffb8097-9ad6-4a8b-a462-ad485f8b0396",
   "metadata": {},
   "outputs": [],
   "source": [
    "gugun = driver.find_element(By.ID, 'mCSB_2_container')\n",
    "li = gugun.find_elements(By.TAG_NAME, 'li')\n",
    "li[1].click()"
   ]
  },
  {
   "cell_type": "code",
   "execution_count": null,
   "id": "3f5a2aad-6c2b-484b-b230-62ff18a4a6e8",
   "metadata": {},
   "outputs": [],
   "source": []
  },
  {
   "cell_type": "code",
   "execution_count": null,
   "id": "14139b39-90dc-4d37-bd9b-be7d3351a353",
   "metadata": {},
   "outputs": [],
   "source": [
    "source = driver.page_source\n",
    "print(source[:200])"
   ]
  },
  {
   "cell_type": "code",
   "execution_count": null,
   "id": "5f50840d-06c9-41a7-8f3f-795b092ccbb2",
   "metadata": {},
   "outputs": [],
   "source": [
    "html = BeautifulSoup(source,'html.parser')"
   ]
  },
  {
   "cell_type": "code",
   "execution_count": null,
   "id": "a4de3091-a2f9-4a2d-a2f3-1e24dabe4946",
   "metadata": {},
   "outputs": [],
   "source": [
    "search_list = html.select('ul.quickSearchResultBoxSidoGugun > li')\n",
    "items = []\n",
    "for item in search_list:\n",
    "items.append(item.find('p').text)\n",
    "print(items[0])\n",
    "driver.quit()"
   ]
  },
  {
   "cell_type": "code",
   "execution_count": null,
   "id": "403405e9-aaaf-44ce-a612-30f9692b5813",
   "metadata": {},
   "outputs": [],
   "source": []
  }
 ],
 "metadata": {
  "kernelspec": {
   "display_name": "Python 3 (ipykernel)",
   "language": "python",
   "name": "python3"
  },
  "language_info": {
   "codemirror_mode": {
    "name": "ipython",
    "version": 3
   },
   "file_extension": ".py",
   "mimetype": "text/x-python",
   "name": "python",
   "nbconvert_exporter": "python",
   "pygments_lexer": "ipython3",
   "version": "3.11.5"
  }
 },
 "nbformat": 4,
 "nbformat_minor": 5
}
