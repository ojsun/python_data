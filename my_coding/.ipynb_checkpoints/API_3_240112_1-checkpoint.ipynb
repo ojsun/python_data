{
 "cells": [
  {
   "cell_type": "code",
   "execution_count": null,
   "id": "749f06c1-5d28-4a5c-b155-0bac44a2959d",
   "metadata": {},
   "outputs": [],
   "source": [
    "import requests"
   ]
  },
  {
   "cell_type": "code",
   "execution_count": null,
   "id": "a7628a84-a338-4b6f-8b1c-df4a832bdd09",
   "metadata": {},
   "outputs": [],
   "source": [
    "url='https://m.stock.naver.com/api/stock/005930/price?pageSize=20&page=1' \n",
    "response=requests.get(url)\n",
    "response"
   ]
  },
  {
   "cell_type": "code",
   "execution_count": null,
   "id": "6280f4d6-e25a-481b-b0df-cc1784f06f5a",
   "metadata": {},
   "outputs": [],
   "source": [
    "datas=response.json()\n",
    "total_data=[]\n",
    "for data in datas:\n",
    "    date=data['localTradedAt']\n",
    "    price=data['closePrice']\n",
    "    total_data.append([date, price])\n"
   ]
  },
  {
   "cell_type": "code",
   "execution_count": null,
   "id": "e52f7dbb-8494-44f4-bd58-9579c77450f9",
   "metadata": {},
   "outputs": [],
   "source": [
    "total_data"
   ]
  },
  {
   "cell_type": "code",
   "execution_count": null,
   "id": "667cc257-344e-4c0a-8110-d8a42351d397",
   "metadata": {},
   "outputs": [],
   "source": [
    "import time"
   ]
  },
  {
   "cell_type": "code",
   "execution_count": null,
   "id": "d4d16a7b-2597-4417-bf62-6f3d8992131c",
   "metadata": {},
   "outputs": [],
   "source": [
    "\n",
    "total_data=[]\n",
    "for page in range(1,5):\n",
    "    stocks=['005930','000660']\n",
    "    url= f'https://m.stock.naver.com/api/stock/{stocks}/price?pageSize=20&page={page}'\n",
    "    response = requests.get(url)\n",
    "    time.sleep(1)\n",
    "    if response.status_code==200:\n",
    "        datas = response.json()\n",
    "        if not datas:\n",
    "            break\n",
    "        for data in datas:\n",
    "            try:\n",
    "                date=data['localTradedAt']\n",
    "                price=data['closePrice']\n",
    "                total_data.append([date, price])\n",
    "            except:\n",
    "                pass\n",
    "    else:\n",
    "        break"
   ]
  },
  {
   "cell_type": "code",
   "execution_count": null,
   "id": "4c8b1eb5-653f-4e05-b5f5-a7926fd3d068",
   "metadata": {},
   "outputs": [],
   "source": [
    "print(total_data)"
   ]
  },
  {
   "cell_type": "code",
   "execution_count": null,
   "id": "ac9059f3-83ce-4000-8fe0-02097f511372",
   "metadata": {},
   "outputs": [],
   "source": [
    "#무한반복 while  --모든 테이터 가져오기\n",
    "while true:\n",
    "    page=1\n",
    "    url='https://m.stock.naver.com/api/stock/005930/price?pageSize=20&page={page}'\n",
    "    print(url)\n",
    "    if  데이터가 없을때까지:\n",
    "        break\n",
    "    page += 1\n",
    "    "
   ]
  },
  {
   "cell_type": "code",
   "execution_count": null,
   "id": "fa881571-c089-4826-ba94-7bd1a7a3697d",
   "metadata": {},
   "outputs": [],
   "source": [
    "len(total_data)"
   ]
  },
  {
   "cell_type": "code",
   "execution_count": null,
   "id": "6c4e6942-7ee4-4e21-8e2d-d80f8c641ada",
   "metadata": {},
   "outputs": [],
   "source": [
    "for page in range(1,5):\n",
    "    stocks=['005930','000660']\n",
    "    url= f'https://m.stock.naver.com/api/stock/{stocks}/price?pageSize=20&page={page}'\n",
    "    print(url)"
   ]
  },
  {
   "cell_type": "markdown",
   "id": "7d3ec4d6-649f-40f7-9bf4-6b4cfeeb4519",
   "metadata": {},
   "source": [
    "<공공기관 데이터 이용 > data.go.kr"
   ]
  },
  {
   "cell_type": "code",
   "execution_count": null,
   "id": "9f0ef7d2-771b-485f-ac93-d35a6c0c1b97",
   "metadata": {
    "scrolled": true
   },
   "outputs": [],
   "source": [
    "Servicekey = 'KXpBt+WjbrUJaRqtK/FP8D7bpKkeqcNCwZdClMLMjU/ti/d4sS9lS4OSkFYjSGWCY5kXqYkf+Hd/3PdADnk8uw=='\n",
    "base_url = 'https://api.odcloud.kr/api'\n",
    "# 주소 수정\n",
    "url = '/15081901/v1/uddi:e86f20c4-44de-4839-bf4a-e53c23d361e2'\n",
    "\n",
    "params = { 'serviceKey': Servicekey,\n",
    "           # 파라미터 수정\n",
    "           'page' : 1,\n",
    "           'perPage' : 10,\n",
    "           'returnType' : 'xml', \n",
    "}          \n",
    "response = requests.get(base_url + url, params = params)\n",
    "response"
   ]
  },
  {
   "cell_type": "code",
   "execution_count": null,
   "id": "9d2bcb34-75a9-40d4-a286-c1aaab094613",
   "metadata": {},
   "outputs": [],
   "source": []
  },
  {
   "cell_type": "code",
   "execution_count": null,
   "id": "fbd25c14-18db-4216-9e75-56bc66c662c8",
   "metadata": {},
   "outputs": [],
   "source": [
    "Servicekey = 'KXpBt+WjbrUJaRqtK/FP8D7bpKkeqcNCwZdClMLMjU/ti/d4sS9lS4OSkFYjSGWCY5kXqYkf+Hd/3PdADnk8uw=='\n",
    "base_url = 'https://api.odcloud.kr/api'\n",
    "# 주소 수정\n",
    "url = '/15081901/v1/uddi:e86f20c4-44de-4839-bf4a-e53c23d361e2'\n",
    "\n",
    "params = { 'serviceKey': Servicekey,\n",
    "           # 파라미터 수정\n",
    "           'page' : 1,\n",
    "           'perPage' : 10,\n",
    "           'returnType' : 'xml', \n",
    "           \n",
    "}\n",
    "response = requests.get(base_url + url, params = params)\n",
    "response"
   ]
  },
  {
   "cell_type": "code",
   "execution_count": null,
   "id": "16e48f14-a244-44ff-a5f3-524c42813b35",
   "metadata": {
    "scrolled": true
   },
   "outputs": [],
   "source": [
    "from bs4 import BeautifulSoup\n",
    "xml = BeautifulSoup(response.content, 'xml')\n",
    "xml"
   ]
  },
  {
   "cell_type": "code",
   "execution_count": null,
   "id": "96b63742-4d68-48b7-b540-c5918cd50779",
   "metadata": {},
   "outputs": [],
   "source": []
  },
  {
   "cell_type": "code",
   "execution_count": null,
   "id": "c80bacb4-25c3-4ce4-b79a-94726a768b19",
   "metadata": {},
   "outputs": [],
   "source": [
    "#공공데이터포털\n",
    "service_key = \n",
    "'n5rRBCVx++FYhgyS2HeF64cUX7DNtn0XsOyzAJK/on8r9mcOANXspw9fNMtz3J7\n",
    "XBbD6FjnFRGrX6TKWDbZxnQ=='"
   ]
  },
  {
   "cell_type": "code",
   "execution_count": null,
   "id": "d2ee6a8e-50a0-483e-88c2-70cfdbdb314e",
   "metadata": {},
   "outputs": [],
   "source": []
  },
  {
   "cell_type": "code",
   "execution_count": null,
   "id": "891af8d9-2623-46db-8a1b-111283768bad",
   "metadata": {},
   "outputs": [],
   "source": [
    "url='http://apis.data.go.kr/6270000/dgMwData/getTopKeyword'\n",
    "params ={'serviceKey' : service_key, 'type' : 'xml', 'gbn' : 't', \n",
    "'startDt' : '20191001', 'endDt' : '20191031', \n",
    "'gugun' : '중구', 'cnl' : 'dud' }\n",
    "response = requests.get(url, params=params)\n",
    "print(response.text)"
   ]
  },
  {
   "cell_type": "code",
   "execution_count": null,
   "id": "af7fb6d3-9112-48a5-bcd8-893b6326e850",
   "metadata": {},
   "outputs": [],
   "source": []
  }
 ],
 "metadata": {
  "kernelspec": {
   "display_name": "Python 3 (ipykernel)",
   "language": "python",
   "name": "python3"
  },
  "language_info": {
   "codemirror_mode": {
    "name": "ipython",
    "version": 3
   },
   "file_extension": ".py",
   "mimetype": "text/x-python",
   "name": "python",
   "nbconvert_exporter": "python",
   "pygments_lexer": "ipython3",
   "version": "3.11.5"
  }
 },
 "nbformat": 4,
 "nbformat_minor": 5
}
