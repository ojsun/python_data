{
 "cells": [
  {
   "cell_type": "markdown",
   "id": "38e68761-ea86-4f81-96fc-74388e181f5d",
   "metadata": {},
   "source": [
    "### 러닝머신 : 회귀\n",
    "회귀분석: 최적의 회귀계수를 찾아내는 것 "
   ]
  },
  {
   "cell_type": "code",
   "execution_count": 1,
   "id": "b64c2eb9-44e2-412b-9a42-2dd0f81740b6",
   "metadata": {
    "tags": []
   },
   "outputs": [],
   "source": [
    "import numpy as np\n",
    "import pandas as pd\n",
    "import matplotlib.pyplot as plt\n",
    "import seaborn as sns\n",
    "from scipy import stats\n",
    "import warnings\n",
    "warnings.filterwarnings('ignore')"
   ]
  },
  {
   "cell_type": "markdown",
   "id": "7f42c4f2-a79e-4a77-8f60-fcf603a08b97",
   "metadata": {},
   "source": [
    "<선형회귀> 회귀계수가 선형\n",
    "일반선형회귀: 단일회귀/ 예측값과 실제값의 오류를 최소화할 수 있도록 회귀계수를 최적화/규제 없음<br>\n",
    "            from sklearn.linear_model import LinearRegression\n",
    "다항회귀:  전처리 클래스(변수의 변경이므로) <br>\n",
    "릿지: 선형회귀 + L2, 규제 강할 수록 회귀계수가 작아짐(예측성 떨어짐)<br>\n",
    "라쏘: 선형회귀 + L1<br>\n",
    "엘레스틱넷: L2, L1규제 결합<br>\n",
    "SGD: 확률적인 경사하강법 적용/ 가중치 업데이트하면 찾음"
   ]
  },
  {
   "cell_type": "markdown",
   "id": "797ef460-d4a6-4cb6-ab34-1c1a583f072e",
   "metadata": {},
   "source": [
    "<회귀의 성능평가>  숫자 클수록 안좋음  <BR>\n",
    "MAE: 실제값과 예측값 차이의 절대값들의 평균  neg_mean_absolute_error\n",
    "MSE: 실제값과 예측값 차이의 제곱, 평균   neg_mean_squared_error\n",
    "RMSE: MSE의 루트값                  neg_root_mean_squared_error\n",
    "R2: 분석기반 예측성능 평가            r2\n",
    "from sklearn.metrics import mean_squared_error, mean_absolute_error, r2_score"
   ]
  },
  {
   "cell_type": "code",
   "execution_count": 3,
   "id": "f97ebf57-96da-4897-b85d-3048be9321a5",
   "metadata": {
    "tags": []
   },
   "outputs": [],
   "source": [
    "# 예측성능 측정/평가 함수 : mean_squared_error, mean_absolute_error, r2_score, \n",
    "# root_mean_squared_error, root_mean_square_log_error\n",
    "\n",
    "# 1. RMSLE(root_mean_squar_log_error) 함수\n",
    "def rmsle (y, pred):\n",
    "    log_y=np.log1p(y)\n",
    "    log_pred=np.log1p(pred)\n",
    "    squared_error=(log_y-log_pred)**2\n",
    "    rmsle=np.sqrt(np.mean(squared_error))\n",
    "    return rmsle\n",
    "# 2. RMSE(root_mean_squared_error) 함수\n",
    "def rmse(y, pred): \n",
    "    return np.sqrt(mean_squared_error(y, pred))\n",
    "\n",
    "# 3. 모든 예측성능 측정 함수\n",
    "def evaluate_regr(y,pred):\n",
    "    rmsle_val=rmsle(y,pred)\n",
    "    rmse_val=rmse(y,pred)\n",
    "    mae_val=mean_absolute_error(y,pred)\n",
    "    r2_val=r2_score(y,pred)\n",
    "    print('RMSLE: {0:.2f}, RMSE: {1:.2f}, MAE: {2:.2f}, R2: {3:.2f}'.format(rmsle_val,rmse_val, mae_val, r2_val)) "
   ]
  },
  {
   "cell_type": "code",
   "execution_count": null,
   "id": "dfd67b1a-a2e8-4bb0-b795-0fe2532cae99",
   "metadata": {},
   "outputs": [],
   "source": [
    "# 2. 실제값과 예측값의 차이 확인\n",
    "def get_top_error_data(y_test, pred, n_top=5):\n",
    "    result_df=pd.DataFrame(y_test.values, columns=['real_count'])\n",
    "    result_df['pred_count']=np.round(pred)\n",
    "    result_df['diff']=np.abs(result_df['real_count'] - result_df['pred_count'])\n",
    "    print(result_df.sort_values('diff', ascending=False)[:n_top])"
   ]
  },
  {
   "cell_type": "code",
   "execution_count": null,
   "id": "a67f34da-2c21-4a93-b6df-20e5c1ae3967",
   "metadata": {},
   "outputs": [],
   "source": [
    "# 3.개별 featuer의 회귀계수값 시각화\n",
    "coef=pd.Series(lr_reg.coef_, index=X_features.columns)\n",
    "coef_sort=coef.sort_values(ascending=False)\n",
    "sns.barplot(x=coef_sort.values, y=coef_sort.index)"
   ]
  },
  {
   "cell_type": "code",
   "execution_count": null,
   "id": "2433c76e-df12-4863-a39d-018cc60afa57",
   "metadata": {},
   "outputs": [],
   "source": [
    "# 4. 모델과 학습/테스트 데이터세트를 입력하면 성능평가 수치 반환\n",
    "def get_model_predict(model, X_train, X_test,  y_train, y_test, is_expm1=False):\n",
    "    model.fit(X_train,y_train)\n",
    "    pred=model.predict(X_test)\n",
    "    if is_expm1:\n",
    "        y_test=np.expm1(y_test)\n",
    "        pred=np.expm1(pred)\n",
    "    print(model.__class__.__name__)\n",
    "    evaluate_regr(y_test, pred)"
   ]
  },
  {
   "cell_type": "code",
   "execution_count": null,
   "id": "20d72de4-f656-4a0a-bfe6-6a3cfbaba3d2",
   "metadata": {},
   "outputs": [],
   "source": [
    "# 5. 회귀계수 상위 20 그래프\n",
    "coef=pd.Series(lr_reg.coef_, index=X_features_ohe.columns)\n",
    "coef_sort=coef.sort_values(ascending=False)[:20]\n",
    "sns.barplot(x=coef_sort.values, y=coef_sort.index)"
   ]
  },
  {
   "cell_type": "code",
   "execution_count": null,
   "id": "09ce74a2-4e74-414f-acd7-80a6bf345281",
   "metadata": {},
   "outputs": [],
   "source": [
    "alphas=[0,0.1,1,10,100]\n",
    "for alpha in alphas:\n",
    "    ridge=Ridge(alpha=alpha)\n",
    "    neg_mse_scores=cross_val_score(ridge,X_features, y_target, scoring='neg_mean_squared_error',cv=5)\n",
    "    avg_rmse= np.mean(np.sqrt(-1*neg_mse_scores))\n",
    "    print(f'alpha {alpha} 일 때 5fold의 평균 RMSE: {avg_rmse:.3f}')"
   ]
  },
  {
   "cell_type": "code",
   "execution_count": null,
   "id": "db828bcd-0c9e-44fb-a1f2-7a26e52aba5a",
   "metadata": {},
   "outputs": [],
   "source": [
    "# alpha값에 따는 회귀모델의 폴드평균 RMSE를 출력/회귀계수들을 Dataframe으로 반환\n",
    "def get_linear_reg_eval(model_name, params=None, X_data=None, y_target=None, \n",
    "                        verbose=True, return_coeff=True):\n",
    "    coeff_df=pd.DataFrame()\n",
    "    if verbose : print(model_name)\n",
    "    for param in params:\n",
    "        if model_name == 'Ridge': model = Ridge(alpha=param)\n",
    "        elif model_name == 'Lasso' : model = Lasso(alpha=param)\n",
    "        elif model_name == 'ElasticNet' : model = ElasticNet(alpha=param, l1_ratio=0.7)\n",
    "        neg_mse_scores = cross_val_score(model, X_data, y_target, \n",
    "                                         scoring='neg_mean_squared_error', cv=5)\n",
    "        avg_rmse=np.mean(np.sqrt(-1*neg_mse_scores))\n",
    "        print('alpha {0}일때 5폴드 평균 RMSE: {1:.3f}'.format(param, avg_rmse))\n",
    "        \n",
    "        model.fit(X_data,y_target)\n",
    "        if return_coeff:\n",
    "            coeff=pd.Series(data=model.coef_, index=X_data.columns)\n",
    "            colname='alpha:'+str(param)\n",
    "            coeff_df[colname]=coeff\n",
    "    return coeff_df\n",
    "# 적용\n",
    "alphas=[0.07,0.1,0.5,1,3]\n",
    "coeff_lasso_df=get_linear_reg_eval('Lasso',params=alphas, X_data=X_features, y_target=y_target)"
   ]
  },
  {
   "cell_type": "code",
   "execution_count": null,
   "id": "eb5287c8-a484-497e-9d82-bfe117866303",
   "metadata": {},
   "outputs": [],
   "source": [
    "# 선형회귀모델의 스케일링,정규화 함수-중요 피처나 타겟값이 왜곡되었을때\n",
    "from sklearn.preprocessing import StandardScaler, MinMaxScaler, PolynomialFeatures\n",
    "\n",
    "def get_scaled_data(method=None,p_degree=None, input_data=None):\n",
    "    if method =='Standard':\n",
    "        scaled_data=StandardScaler().fit_transform(input_data)\n",
    "    elif method =='MinMax':\n",
    "        scaled_data=MinMaxScaler().fit_transform(input_data)\n",
    "    elif method =='Log':\n",
    "        scaled_data=np.log1p(input_data)\n",
    "    else: scaled_data=input_data\n",
    "    \n",
    "    if p_degree !=None:\n",
    "        scaled_data=PolynomialFeatures(degree=p_degree, \n",
    "                                       include_bias=False).fit_transform(scaled_data)\n",
    "    return scaled_data\n",
    "#적용\n",
    "X_data_scaled=get_scaled_data('Log',input_data=X_features)\n",
    "alphas=[0.1,1,10,100]\n",
    "get_linear_reg_eval('Ridge',params=alphas, X_data=X_data_scaled,y_target=y_target, verbose=False, return_coeff=False)"
   ]
  },
  {
   "cell_type": "code",
   "execution_count": null,
   "id": "a6f53aba-a613-494a-a811-cc4ec381a563",
   "metadata": {},
   "outputs": [],
   "source": []
  },
  {
   "cell_type": "markdown",
   "id": "1a95fa91-638a-450f-bad3-1a3010385f23",
   "metadata": {},
   "source": [
    "#### 회귀의 종류"
   ]
  },
  {
   "cell_type": "code",
   "execution_count": 2,
   "id": "269e172e-bcce-4f88-8305-ce31bc56c940",
   "metadata": {
    "tags": []
   },
   "outputs": [
    {
     "name": "stdout",
     "output_type": "stream",
     "text": [
      "5fold 개별 Negative MSE scores:  [-2779.92 -3028.84 -3237.69 -3008.75 -2910.21]\n",
      "5fold 개별 RMSE scores:  [52.72 55.03 56.9  54.85 53.95]\n",
      "5fold 평균 RMSE: 54.691791\n"
     ]
    }
   ],
   "source": [
    "# 일반 선형회귀/ 단순선형회귀/단일회귀\n",
    "from sklearn.model_selection import cross_val_score\n",
    "from sklearn.linear_model import LinearRegression\n",
    "from sklearn.metrics import mean_squared_error, mean_absolute_error, r2_score\n",
    "from sklearn.datasets import load_diabetes\n",
    "\n",
    "diabetes= load_diabetes()\n",
    "y= diabetes.target\n",
    "X= diabetes.data\n",
    "lr=LinearRegression()\n",
    "neg_mse_scores=cross_val_score(lr,X,y, scoring='neg_mean_squared_error',cv=5)\n",
    "rmse_scores=np.sqrt(-1*neg_mse_scores)\n",
    "avg_rmse= np.mean(rmse_scores)\n",
    "\n",
    "print('5fold 개별 Negative MSE scores: ', np.round(neg_mse_scores, 2))\n",
    "print('5fold 개별 RMSE scores: ', np.round(rmse_scores, 2))\n",
    "print(f'5fold 평균 RMSE: {avg_rmse:3f}')"
   ]
  },
  {
   "cell_type": "code",
   "execution_count": null,
   "id": "6e6a82f1-8e7b-4d44-8879-dd42cb4cd167",
   "metadata": {
    "tags": []
   },
   "outputs": [],
   "source": [
    "# 다항회귀 : 단항식피처를 degree에 해당하는 다항식피처로 변환\n",
    "from sklearn.preprocessing import PolynomialFeatures\n",
    "\n",
    "poly_ftr=PolynomialFeatures(degree=2).fit_transform(X)\n",
    "model=LinearRegression()\n",
    "model.fit(poly_ftr, y)\n",
    "print('Polynomial 회귀계수: \\n', np.round(model.coef_,2))\n",
    "print('Polynomial 회귀 shape: \\n', model.coef_,shape)"
   ]
  },
  {
   "cell_type": "code",
   "execution_count": 8,
   "id": "628afc01-478f-43ab-8ba6-2f4c42a8ade8",
   "metadata": {
    "tags": []
   },
   "outputs": [
    {
     "name": "stdout",
     "output_type": "stream",
     "text": [
      "5fold 개별 Negative MSE scores:  [-4540.48 -5430.5  -5284.4  -4364.15 -5463.35]\n",
      "5fold 개별 RMSE scores:  [67.38 73.69 72.69 66.06 73.91]\n",
      "5fold 평균 RMSE: 70.749030\n"
     ]
    }
   ],
   "source": [
    "# 릿지 회귀: L2규제, alpha값은 Lasso보다 큰 수로\n",
    "from sklearn.linear_model import Ridge\n",
    "ridge=Ridge(alpha=10)\n",
    "neg_mse_scores=cross_val_score(ridge,X,y, scoring='neg_mean_squared_error',cv=5)\n",
    "rmse_scores=np.sqrt(-1*neg_mse_scores)\n",
    "avg_rmse= np.mean(rmse_scores)\n",
    "\n",
    "print('5fold 개별 Negative MSE scores: ', np.round(neg_mse_scores, 2))\n",
    "print('5fold 개별 RMSE scores: ', np.round(rmse_scores, 2))\n",
    "print(f'5fold 평균 RMSE: {avg_rmse:3f}')"
   ]
  },
  {
   "cell_type": "code",
   "execution_count": 11,
   "id": "d59687e1-09eb-4068-829d-7500eb110ba7",
   "metadata": {
    "tags": []
   },
   "outputs": [
    {
     "name": "stdout",
     "output_type": "stream",
     "text": [
      "alpha 0 일 때 5fold의 평균 RMSE: 54.692\n",
      "alpha 0.1 일 때 5fold의 평균 RMSE: 54.825\n",
      "alpha 1 일 때 5fold의 평균 RMSE: 58.449\n",
      "alpha 10 일 때 5fold의 평균 RMSE: 70.749\n",
      "alpha 100 일 때 5fold의 평균 RMSE: 76.399\n"
     ]
    }
   ],
   "source": [
    "# 적절한 릿지 alpha(규제) 값 찾기\n",
    "alphas=[0,0.1,1,10,100]\n",
    "for alpha in alphas:\n",
    "    ridge=Ridge(alpha=alpha)\n",
    "    neg_mse_scores=cross_val_score(ridge,X,y, scoring='neg_mean_squared_error',cv=5)\n",
    "    avg_rmse= np.mean(np.sqrt(-1*neg_mse_scores))\n",
    "    print(f'alpha {alpha} 일 때 5fold의 평균 RMSE: {avg_rmse:.3f}')"
   ]
  },
  {
   "cell_type": "code",
   "execution_count": 14,
   "id": "2063303c-e3ab-4e2d-9bd8-8cc616cdad00",
   "metadata": {
    "tags": []
   },
   "outputs": [
    {
     "name": "stdout",
     "output_type": "stream",
     "text": [
      "alpha 0 일 때 5fold의 평균 RMSE: 54.692\n",
      "alpha 0.01 일 때 5fold의 평균 RMSE: 54.756\n",
      "alpha 0.1 일 때 5fold의 평균 RMSE: 54.843\n",
      "alpha 1 일 때 5fold의 평균 RMSE: 62.009\n",
      "alpha 10 일 때 5fold의 평균 RMSE: 77.264\n"
     ]
    }
   ],
   "source": [
    "#라쏘 회귀: L1규제 alpha갑 0~1 사이로\n",
    "from sklearn.linear_model import Lasso\n",
    "alphas=[0, 0.01, 0.1, 1, 10]\n",
    "for alpha in alphas:\n",
    "    lasso=Lasso(alpha=alpha)\n",
    "    neg_mse_scores=cross_val_score(lasso,X,y, scoring='neg_mean_squared_error',cv=5)\n",
    "    avg_rmse= np.mean(np.sqrt(-1*neg_mse_scores))\n",
    "    print(f'alpha {alpha} 일 때 5fold의 평균 RMSE: {avg_rmse:.3f}')"
   ]
  },
  {
   "cell_type": "code",
   "execution_count": 15,
   "id": "17481be7-a06c-4338-bc6a-f09b535b02b5",
   "metadata": {
    "tags": []
   },
   "outputs": [
    {
     "name": "stdout",
     "output_type": "stream",
     "text": [
      "alpha 0 일 때 5fold의 평균 RMSE: 54.692\n",
      "alpha 0.01 일 때 5fold의 평균 RMSE: 61.112\n",
      "alpha 0.1 일 때 5fold의 평균 RMSE: 73.203\n",
      "alpha 1 일 때 5fold의 평균 RMSE: 76.925\n",
      "alpha 10 일 때 5fold의 평균 RMSE: 77.264\n"
     ]
    }
   ],
   "source": [
    "# 엘라스틱넷 회귀: L1, L2 규제를 비율로 정함/ alpha, l1_ratio 파라미터 -잘 사용 안함\n",
    "from sklearn.linear_model import ElasticNet\n",
    "alphas=[0, 0.01, 0.1, 1, 10]\n",
    "for alpha in alphas:\n",
    "    elastic=ElasticNet(alpha=alpha)\n",
    "    neg_mse_scores=cross_val_score(elastic,X,y, scoring='neg_mean_squared_error',cv=5)\n",
    "    avg_rmse= np.mean(np.sqrt(-1*neg_mse_scores))\n",
    "    print(f'alpha {alpha} 일 때 5fold의 평균 RMSE: {avg_rmse:.3f}')"
   ]
  },
  {
   "cell_type": "code",
   "execution_count": 16,
   "id": "287e0916-1a90-465a-90dc-d39c5c4dfe42",
   "metadata": {
    "tags": []
   },
   "outputs": [
    {
     "name": "stdout",
     "output_type": "stream",
     "text": [
      "alpha 0 일 때 5fold의 평균 RMSE: 59.021\n",
      "alpha 0.01 일 때 5fold의 평균 RMSE: 65.430\n",
      "alpha 0.1 일 때 5fold의 평균 RMSE: 74.983\n",
      "alpha 1 일 때 5fold의 평균 RMSE: 76.998\n",
      "alpha 10 일 때 5fold의 평균 RMSE: 77.252\n"
     ]
    }
   ],
   "source": [
    "# SGD 확율적 경사하강법을 적용 :부스팅방식(데이터를 하나씩 학습하며 가중치 업데이트)\n",
    "from sklearn.linear_model import SGDRegressor\n",
    "alphas=[0, 0.01, 0.1, 1, 10]\n",
    "for alpha in alphas:\n",
    "    sgd_reg=SGDRegressor(alpha=alpha)\n",
    "    neg_mse_scores=cross_val_score(sgd_reg,X,y, scoring='neg_mean_squared_error',cv=5)\n",
    "    avg_rmse= np.mean(np.sqrt(-1*neg_mse_scores))\n",
    "    print(f'alpha {alpha} 일 때 5fold의 평균 RMSE: {avg_rmse:.3f}')"
   ]
  },
  {
   "cell_type": "code",
   "execution_count": 18,
   "id": "682d5636-cbb5-4748-913e-6f30869d23bb",
   "metadata": {
    "tags": []
   },
   "outputs": [
    {
     "name": "stdout",
     "output_type": "stream",
     "text": [
      "5fold 개별 Negative MSE scores:  [-3028.85 -3104.98 -3547.87 -3392.66 -3616.43]\n",
      "5fold 개별 RMSE scores:  [55.04 55.72 59.56 58.25 60.14]\n",
      "5fold 평균 RMSE: 57.740947\n"
     ]
    }
   ],
   "source": [
    "# 비선형 회귀:회귀 트리-선형으로 표현되지 않는 모든/ node를 생성하는 방식이 다름\n",
    "# 일반회귀기법 보다 예측 성능 높음\n",
    "from sklearn.ensemble import RandomForestRegressor\n",
    "\n",
    "rf_reg=RandomForestRegressor(random_state=0, n_estimators=100)\n",
    "neg_mse_scores=cross_val_score(rf_reg,X,y, scoring='neg_mean_squared_error',cv=5)\n",
    "rmse_scores=np.sqrt(-1*neg_mse_scores)\n",
    "avg_rmse= np.mean(rmse_scores)\n",
    "\n",
    "print('5fold 개별 Negative MSE scores: ', np.round(neg_mse_scores, 2))\n",
    "print('5fold 개별 RMSE scores: ', np.round(rmse_scores, 2))\n",
    "print(f'5fold 평균 RMSE: {avg_rmse:3f}')"
   ]
  },
  {
   "cell_type": "code",
   "execution_count": null,
   "id": "05151134-a37a-4af6-9a4e-25154d4deef9",
   "metadata": {
    "tags": []
   },
   "outputs": [],
   "source": [
    "# 회귀트리-트리그림 그리기\n",
    "from sklearn.tree import plot_tree\n",
    "plt.figure(dpi = 1200)\n",
    "plot_tree(dt_reg)\n",
    "plt.savefig('a.png')"
   ]
  },
  {
   "cell_type": "code",
   "execution_count": null,
   "id": "9c625dce-4e85-49b2-b585-cd9497e54b50",
   "metadata": {
    "tags": []
   },
   "outputs": [],
   "source": [
    "# 중요 peature 그리기\n",
    "rf_reg.fit(X, y)\n",
    "ftr_importances_values = rf_reg.feature_importances_\n",
    "ftr_importances = pd.Series(ftr_importances_values,index=X.columns)\n",
    "ftr_top20 = ftr_importances.sort_values(ascending=False)[:20]\n",
    "plt.figure(figsize=(8,6))\n",
    "plt.title('Feature importances Top 20')\n",
    "sns.barplot(x=ftr_top20 , y = ftr_top20.index)\n",
    "plt.show()"
   ]
  },
  {
   "cell_type": "code",
   "execution_count": 19,
   "id": "3c13ece2-5513-4107-a097-29086fc22b42",
   "metadata": {
    "tags": []
   },
   "outputs": [],
   "source": [
    "# 다른 비선형회귀 모델들과 비교\n",
    "def get_model_cv_prediction(model, X, y):\n",
    "    neg_mse_scores = cross_val_score(model, X, y,\n",
    "    scoring=\"neg_mean_squared_error\", cv = 5)\n",
    "    rmse_scores = np.sqrt(-1 * neg_mse_scores)\n",
    "    avg_rmse = np.mean(rmse_scores)\n",
    "    print(' ',model.__class__.__name__ , ' ')\n",
    "    print(' 5 교차 검증의 평균 RMSE : {0:.3f} '.format(avg_rmse))"
   ]
  },
  {
   "cell_type": "code",
   "execution_count": 20,
   "id": "0f652095-3e51-4fc7-bb6c-510b90c7bdc7",
   "metadata": {
    "tags": []
   },
   "outputs": [
    {
     "name": "stdout",
     "output_type": "stream",
     "text": [
      "  DecisionTreeRegressor  \n",
      " 5 교차 검증의 평균 RMSE : 64.320 \n",
      "  RandomForestRegressor  \n",
      " 5 교차 검증의 평균 RMSE : 57.741 \n",
      "  GradientBoostingRegressor  \n",
      " 5 교차 검증의 평균 RMSE : 65.495 \n",
      "  XGBRegressor  \n",
      " 5 교차 검증의 평균 RMSE : 63.035 \n"
     ]
    }
   ],
   "source": [
    "from sklearn.tree import DecisionTreeRegressor\n",
    "from sklearn.ensemble import GradientBoostingRegressor\n",
    "from xgboost import XGBRegressor\n",
    "dt_reg = DecisionTreeRegressor(random_state=0, max_depth=4)\n",
    "gb_reg = GradientBoostingRegressor(random_state=0, n_estimators=1000)\n",
    "xgb_reg = XGBRegressor(random_state=0, n_estimators=1000)\n",
    "models = [dt_reg, rf_reg, gb_reg, xgb_reg]\n",
    "for model in models: \n",
    "    get_model_cv_prediction(model, X, y)"
   ]
  },
  {
   "cell_type": "code",
   "execution_count": null,
   "id": "4a457590-c732-4905-bd56-1756a8e0804c",
   "metadata": {},
   "outputs": [],
   "source": []
  }
 ],
 "metadata": {
  "kernelspec": {
   "display_name": "Python 3 (ipykernel)",
   "language": "python",
   "name": "python3"
  },
  "language_info": {
   "codemirror_mode": {
    "name": "ipython",
    "version": 3
   },
   "file_extension": ".py",
   "mimetype": "text/x-python",
   "name": "python",
   "nbconvert_exporter": "python",
   "pygments_lexer": "ipython3",
   "version": "3.11.5"
  }
 },
 "nbformat": 4,
 "nbformat_minor": 5
}
