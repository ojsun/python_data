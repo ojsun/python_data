{
 "cells": [
  {
   "cell_type": "markdown",
   "metadata": {},
   "source": [
    "## Secret PART 01. 작업형03 예상문제"
   ]
  },
  {
   "cell_type": "markdown",
   "metadata": {},
   "source": [
    "01. 주어진 데이터(Rabbit_Five.csv)는 신약 개발을 위해 실험에 사용된 데이터이다. 실험군(MDL)과 대조군(Control) 간 혈압 변화(BPchange)가 차이가 있는 지를 쌍체표본 t-검정(paired t-test)를 통해 답하고자 한다."
   ]
  },
  {
   "cell_type": "code",
   "execution_count": 2,
   "metadata": {},
   "outputs": [
    {
     "name": "stdout",
     "output_type": "stream",
     "text": [
      "-4.68\n",
      "-3.67\n",
      "0.001\n",
      "기각\n"
     ]
    }
   ],
   "source": [
    "import pandas as pd\n",
    "samp = pd.read_csv('Rabbit_Five.csv', encoding = 'cp949')\n",
    "\n",
    "# 필요한 패키지, 함수 호출\n",
    "from scipy.stats import ttest_rel\n",
    "\n",
    "# 필요한 컬럼 각각 할당\n",
    "BP_change = samp['BP_change']\n",
    "Treatment = samp['Treatment']\n",
    "\n",
    "# Treatment가 Control인 경우(대조군)와 MDL인 경우(실험군)의 BP_change 값 각각 할당\n",
    "BPC_Treat = BP_change[Treatment == \"MDL\"].reset_index(drop = True)\n",
    "BPC_Control = BP_change[Treatment == \"Control\"].reset_index(drop = True)\n",
    "\n",
    "## (a) 점추정량 = mean(PC_Treat - PC_Control)\n",
    "diff_avg = (BPC_Treat - BPC_Control).mean()\n",
    "diff_avg = round(diff_avg, 2)\n",
    "print(diff_avg)\n",
    "\n",
    "## (b)-(c)\n",
    "\n",
    "# 대응표본 t검정 수행\n",
    "a = ttest_rel(BPC_Treat, BPC_Control)\n",
    "\n",
    "# (b) 검정통계량\n",
    "stat = a.statistic\n",
    "stat = round(stat, 2)\n",
    "print(stat)\n",
    "\n",
    "# (c) p-값/기각여부\n",
    "pval = a.pvalue\n",
    "pval = round(pval, 3)\n",
    "print(pval)\n",
    "print('기각')\n",
    "\n",
    "# 아래 코드처럼 바로 할당해서 해도 됨!\n",
    "# stat, pval = ttest_rel(BPC_Treat, BPC_Control)"
   ]
  },
  {
   "cell_type": "markdown",
   "metadata": {},
   "source": [
    "02. 주어진 데이터(mtcars2.csv)를 통해 변속기 종류(am)에 따라 마력(hp)에 대한 분산이 차이가 있는 지를 분산비 검정(F test to compare two variances)를 통해 답하고자 한다. 가설은 아래와 같다."
   ]
  },
  {
   "cell_type": "code",
   "execution_count": 3,
   "metadata": {},
   "outputs": [
    {
     "name": "stdout",
     "output_type": "stream",
     "text": [
      "2.43\n",
      "2.43\n",
      "0.043\n",
      "기각\n"
     ]
    }
   ],
   "source": [
    "import pandas as pd\n",
    "samp = pd.read_csv('mtcars2.csv', encoding = 'cp949')\n",
    "\n",
    "# 필요한 패키지, 함수 호출\n",
    "from scipy.stats import f\n",
    "\n",
    "# 필요한 컬럼 각각 할당\n",
    "am = samp['am']\n",
    "hp = samp['hp']\n",
    "\n",
    "# 수동변속기(am=1)인 자동차의 마력(hp), 자동변속기(am=0)인 자동차의 마력(hp) 각각 할당\n",
    "hp_manual = hp[am ==1].reset_index(drop = True)\n",
    "hp_auto = hp[am == 0].reset_index(drop = True)\n",
    "\n",
    "## (a) 수동변속 표본분산/자동변속 표본분산\n",
    "var_ratio = hp_manual.var()/hp_auto.var()\n",
    "\n",
    "## (b)-(c)\n",
    "\n",
    "# F검정 수행\n",
    "# (b) 검정통계량 = (a)와 같음\n",
    "stat = var_ratio\n",
    "\n",
    "# (c) 유의확률\n",
    "# 자유도\n",
    "df1, df2 = len(hp_manual) - 1, len(hp_auto) - 1\n",
    "\n",
    "# F 분포로 확률 계산\n",
    "pval = 1 - f.cdf(stat, dfn = df1, dfd = df2) # Pr[F > stat]\n",
    " \n",
    "# 정답 출력을 위해 반올림\n",
    "a = round(var_ratio, 2)\n",
    "b = round(stat, 2)\n",
    "c = round(pval, 3)\n",
    "\n",
    "# 정답 출력\n",
    "print(a) # (a)\n",
    "print(b) # (b) 검정통계량\n",
    "print(c) # (c) p-값\n",
    "print('기각') # 기각여부\n"
   ]
  },
  {
   "cell_type": "markdown",
   "metadata": {},
   "source": [
    "03. 주어진 데이터(고객_등급리스트.csv)를 통해 고객군(Segment)과 지역(Region)간 관련이 있는 지를 독립성 검정(Test of independence)을 통해 답하고자 한다. 가설은 아래와 같다."
   ]
  },
  {
   "cell_type": "code",
   "execution_count": 4,
   "metadata": {},
   "outputs": [
    {
     "name": "stdout",
     "output_type": "stream",
     "text": [
      "15.74\n",
      "9\n",
      "0.148\n",
      "채택\n"
     ]
    }
   ],
   "source": [
    "import pandas as pd\n",
    "samp = pd.read_csv('고객_등급리스트.csv', encoding = 'cp949')\n",
    "\n",
    "# 필요한 패키지, 함수 호출\n",
    "from scipy.stats import chi2_contingency\n",
    "import numpy as np\n",
    "\n",
    "# 교차표 생성\n",
    "tb = pd.crosstab(samp['Segment'], samp['Region'])\n",
    "\n",
    "# 카이제곱 검정 수행\n",
    "# chi2_contingency의 결과는 카이제곱통계량, 유의확률, 자유도, 기대도수를 반환함\n",
    "chi2, pval, df, expected = chi2_contingency(tb)\n",
    "\n",
    "# (a)E23 : expected의 (1,2) 인덱스 번호 추출\n",
    "e23 = expected[1,2]\n",
    "e23 = round(e23, 2)\n",
    "print(e23)\n",
    "\n",
    "# (b) 검정통계량\n",
    "chi2 =  chi2.astype('int') # 정수 변환\n",
    "print(chi2)\n",
    "\n",
    "# (c) p값/기각 여부\n",
    "pval = round(pval, 3)\n",
    "print(pval)\n",
    "print('채택')"
   ]
  },
  {
   "cell_type": "markdown",
   "metadata": {},
   "source": [
    "04. 주어진 데이터(Cars93.csv)를 통해 가격(Price)이 정규 분포를 따르는 지를 샤피로-윌크 검정(Shapiro Wilk Test)를 통해 답하고자 한다. 가설은 아래와 같다.(단, 결측치는 무시할 것)"
   ]
  },
  {
   "cell_type": "code",
   "execution_count": 5,
   "metadata": {},
   "outputs": [
    {
     "name": "stdout",
     "output_type": "stream",
     "text": [
      "19.05\n",
      "0.85\n",
      "0\n",
      "기각\n"
     ]
    }
   ],
   "source": [
    "import pandas as pd\n",
    "samp = pd.read_csv('Cars93.csv', encoding = 'cp949')\n",
    "\n",
    "# 필요한 패키지, 함수 호출\n",
    "from scipy.stats import shapiro\n",
    "\n",
    "# 필요한 컬럼 할당\n",
    "Price = samp['Price'].copy().dropna()\n",
    "\n",
    "# (a) 표본평균\n",
    "avg = Price.mean()\n",
    "avg = round(avg, 2)\n",
    "print(avg)\n",
    "\n",
    "# 샤피로 윌크 검정 수행\n",
    "stat, pval = shapiro(Price)\n",
    "\n",
    "# (b) 검정통계량\n",
    "stat = round(stat, 2)\n",
    "print(stat)\n",
    "\n",
    "# (c) p값/기각 여부\n",
    "pval = round(pval, 4)\n",
    "pval = int(pval)\n",
    "print(pval)\n",
    "print('기각')"
   ]
  },
  {
   "cell_type": "markdown",
   "metadata": {},
   "source": [
    "5. 주어진 데이터(Cars93.csv)를 통해  마일당엔진회전수(Rev_per_mile)과 마력(Horsepower)과의 상관관계를 알아보고 상관계수의 유의성을 피어슨 상관계수 검정(Pearson‘s Correlation Coefficient Test)를 통해 답하고자 한다. 가설은 아래와 같다."
   ]
  },
  {
   "cell_type": "code",
   "execution_count": 6,
   "metadata": {},
   "outputs": [
    {
     "name": "stdout",
     "output_type": "stream",
     "text": [
      "-0.502\n",
      "-5.54\n",
      "0\n",
      "기각\n"
     ]
    }
   ],
   "source": [
    "import pandas as pd\n",
    "import numpy as np\n",
    "\n",
    "samp = pd.read_csv('Cars93.csv')\n",
    "\n",
    "# 상관분석에 필요한 컬럼명 저장\n",
    "Horsepower = samp['Horsepower']\n",
    "RPM = samp['Rev_per_mile']\n",
    "\n",
    "# 필요한 패키지, 함수 호출\n",
    "from scipy.stats import pearsonr\n",
    "\n",
    "# 상관계수 검정 수행\n",
    "rho, pval = pearsonr(Horsepower, RPM)\n",
    "\n",
    "# (a) 표본상관계수\n",
    "rho = round(rho, 3)\n",
    "print(rho)\n",
    "\n",
    "# (b) 검정통계량\n",
    "stat = rho/np.sqrt( (1-rho**2)/(len(Horsepower) - 2) )\n",
    "stat = round(stat, 2)\n",
    "print(stat)\n",
    "\n",
    "# (c) p값/기각 여부\n",
    "pval = int(pval)\n",
    "print(pval)\n",
    "print('기각')"
   ]
  },
  {
   "cell_type": "markdown",
   "metadata": {},
   "source": [
    "06. 제공된 데이터(USArrests.csv)는 미국 50개 주의 범죄와 체포와 관련된 데이터이다. 차원 축소를 주성분 분석을 통해 수행하고자 한다."
   ]
  },
  {
   "cell_type": "code",
   "execution_count": 7,
   "metadata": {},
   "outputs": [
    {
     "name": "stdout",
     "output_type": "stream",
     "text": [
      "0.995\n",
      "-127.496\n",
      "0.97\n",
      "3\n"
     ]
    }
   ],
   "source": [
    "import pandas as pd\n",
    "samp = pd.read_csv('USArrests.csv')\n",
    "\n",
    "# 필요한 패키지, 클래스 호출\n",
    "from sklearn.decomposition import PCA\n",
    "\n",
    "# PCA 수행\n",
    "pca = PCA(n_components = 4) # 주성분객체 생성\n",
    "pca.fit_transform(samp) \n",
    "\n",
    "# (a) 첫번째 주성분의 폭력범죄 기여 가중치\n",
    "# pca.components_.T에서 행은 기존 컬럼(Merder, Assault, UrbanPop, Rape)\n",
    "# 열은 1~4 주성분임\n",
    "weight = pca.components_.T[1, 0]\n",
    "weight = round(weight, 3)\n",
    "print(weight)\n",
    "\n",
    "# (b) 34번째 도시의 1주성분의 주성분 점수\n",
    "score = pca.fit_transform(samp)[33,0]\n",
    "score = round(score, 3)\n",
    "print(score)\n",
    "\n",
    "# (c)\n",
    "# 주성분별 설명되는 분산 비율을 시리즈 객체로 저장\n",
    "var_ratio = pd.Series(pca.explained_variance_ratio_)\n",
    "result = round(var_ratio[0], 2)\n",
    "print(result)\n",
    "print(3)"
   ]
  },
  {
   "cell_type": "markdown",
   "metadata": {},
   "source": [
    "07. 주어진 데이터(Cars93.csv)를 통해 마일당엔진회전수(Rev_per_mile), 중량(Weight), 길이(Length), 엔진크기(EngineSize)를 입력하면 중간가격(Price)을 예측하는 다중 선형 회귀 분석(linear regression)을 하고자 한다. (단, 해당 컬럼들의 결측치는 제거함)"
   ]
  },
  {
   "cell_type": "code",
   "execution_count": 8,
   "metadata": {},
   "outputs": [
    {
     "name": "stdout",
     "output_type": "stream",
     "text": [
      "0.396\n",
      "0.0023\n",
      "0.158\n",
      "0.0054\n"
     ]
    }
   ],
   "source": [
    "# !pip install statsmodels==0.13.5 \n",
    "# Renuwal 된 문제 풀이\n",
    "import pandas as pd\n",
    "samp = pd.read_csv('Cars93.csv')\n",
    "\n",
    "# 필요한 패키지, 클래스 호출\n",
    "import statsmodels.api as sm\n",
    "\n",
    "# 회귀분석 수행\n",
    "colnm = ['Price', 'Rev_per_mile', 'Weight','Length', 'EngineSize'] # 회귀 분석에 필요한 컬럼 별도 지정\n",
    "samp = samp[colnm].dropna() # 결측치 제거\n",
    "\n",
    "# y, X에 각각 할당\n",
    "y = samp['Price']\n",
    "X = samp[['Rev_per_mile', 'Weight','Length', 'EngineSize']]\n",
    "X = sm.add_constant(X) # 절편항 적합을 위해 상수벡터 추가\n",
    "\n",
    "# 모델 적합\n",
    "model = sm.OLS(y,X) # OLS 객체 생성\n",
    "result = model.fit() # fit 메소드를 통해 모형 적합\n",
    "\n",
    "# (참고) \n",
    "# result.params # 회귀 계수만 추출\n",
    "# result.tvalues # t통계량만 추출\n",
    "\n",
    "result.summary() # 해당 코드를 통해 회귀분석 통합 결과를 확인하고 값을 입력하면 됨\n",
    "\n",
    "# 결과 출력\n",
    "# (a) 결정계수\n",
    "r_square = 0.396\n",
    "print(r_square)\n",
    "\n",
    "# (b) 문제의 의도는\n",
    "# Weight의 추정 회귀 계수를 출력하는 것이다.\n",
    "b = 0.0023\n",
    "print(b)\n",
    "\n",
    "# (c) 문제의 의도는\n",
    "# Weight의 P>|t|을 통해 회귀 계수를 검정하는 것이다.\n",
    "pval = 0.158\n",
    "print(pval)\n",
    "\n",
    "# (d) 문제의 의도는\n",
    "# Weight의 회귀 계수에 대한 95% 신뢰구간을 구하는 것이다. 아래의 함수 결과를 통해 상한 값을 입력하면 됨\n",
    "# result.conf_int(alpha = 0.05, cols=None)\n",
    "upper = 0.005406\n",
    "upper = round(upper,4)\n",
    "print(upper)"
   ]
  },
  {
   "cell_type": "markdown",
   "metadata": {},
   "source": [
    "08. 제공된 데이터(job.csv)는 취업 현황 분석을 위해 사용된 데이터의 일부이다. 여러 특성(x1, x2, x3)를 통해 취업 성공(y) 여부를 예측하는 로지스틱 회귀 분석을 하고자 한다. (특히 x2 컬럼은 성별에 대한 정보로, 모형 적합시 남성(M)을 1로, 여성(F)로 인코딩하여 분석)"
   ]
  },
  {
   "cell_type": "code",
   "execution_count": 9,
   "metadata": {},
   "outputs": [
    {
     "name": "stdout",
     "output_type": "stream",
     "text": [
      "-0.808\n",
      "0.854\n",
      "0.5344\n",
      "0\n"
     ]
    }
   ],
   "source": [
    "import pandas as pd\n",
    "samp = pd.read_csv('job.csv')\n",
    "\n",
    "# 필요한 패키지, 클래스 호출\n",
    "from sklearn.linear_model import LogisticRegression\n",
    "import numpy as np\n",
    "\n",
    "# x2 컬럼 : M -> 1, F -> 0\n",
    "samp['x2'] = samp['x2'].map({'M' : 1, 'F' : 0})\n",
    "\n",
    "# y, X에 각각 할당\n",
    "y = samp['y']\n",
    "X = samp[['x1', 'x2', 'x3']]\n",
    "\n",
    "# 회귀모형 객체 생성 후 적합\n",
    "model = LogisticRegression(penalty = 'none').fit(X, y)\n",
    "\n",
    "# 결과 출력\n",
    "# (a) 절편항 추정 회귀 계수\n",
    "b0 = round(model.intercept_[0], 3)\n",
    "print(b0)\n",
    "\n",
    "# (b) 여성에 비해 남성의 성공에 대한 오즈가 몇 배인지를 구하려면\n",
    "#     오즈비 = 남성의 성공 오즈/여성의 성공 오즈\n",
    "#            = x2 컬럼이 성별이므로 exp(beta2)를 구하면 됨\n",
    "odds_ratio = round(np.exp(model.coef_[0][1]), 3)\n",
    "print(odds_ratio)\n",
    "\n",
    "# (c) 9번 째 사람의 성공 예측 확률\n",
    "y_prob = round(model.predict_proba(X)[8,1], 4)\n",
    "print(y_prob)\n",
    "print(0)"
   ]
  },
  {
   "cell_type": "markdown",
   "metadata": {},
   "source": [
    "09. 주어진 데이터(영화_순위리스트.csv)를 통해 장르별 예산의 평균에 차이가 있는 지를 분산분석(ANOVA)를 수행하기 전 등분산 검정(Homogeneity of Variance)인 Bartlett's Test을 수행하고자 한다. 가설은 아래와 같다."
   ]
  },
  {
   "cell_type": "code",
   "execution_count": 11,
   "metadata": {},
   "outputs": [
    {
     "name": "stdout",
     "output_type": "stream",
     "text": [
      "16.542\n",
      "13.44\n",
      "0.0038\n",
      "기각\n"
     ]
    }
   ],
   "source": [
    "import pandas as pd\n",
    "samp = pd.read_csv('영화_순위리스트.csv', encoding = 'cp949')\n",
    "\n",
    "# 필요한 패키지, 함수 호출\n",
    "from scipy.stats import bartlett\n",
    "import numpy as np\n",
    "\n",
    "# 필요한 컬럼 각각 할당\n",
    "genre = samp['장르']\n",
    "budget = samp['예산']\n",
    "\n",
    "# 장르별 예산 값 할당\n",
    "budget_thriller = budget[genre == 'Thriller']\n",
    "budget_comedy = budget[genre == 'Comedy']\n",
    "budget_drama = budget[genre == 'Drama']\n",
    "budget_action = budget[genre == 'Action']\n",
    "\n",
    "## (a) 합동분산(pooled variancer)\n",
    "# 집단별 표본 분산\n",
    "var_i = [budget_thriller.var(), budget_comedy.var(), budget_drama.var(), budget_action.var()]\n",
    "\n",
    "# 집단별 관측치 수\n",
    "n_i = [len(budget_thriller), len(budget_comedy), len(budget_drama), len(budget_action)]\n",
    "\n",
    "# 합동분산 계산\n",
    "N = sum(n_i)\n",
    "k = 4 # 집단의 수\n",
    "\n",
    "log_sp2 = np.log(sum(np.subtract(n_i, 1) * var_i)/(N-k))\n",
    "log_sp2 = round(log_sp2, 3)\n",
    "\n",
    "print(log_sp2)\n",
    "\n",
    "## (b)-(c)\n",
    "# Bartlett Test 수행\n",
    "stat, pval = bartlett(budget_thriller, budget_comedy, budget_drama, budget_action)\n",
    "\n",
    "# (b) 검정통계량\n",
    "stat = round(stat, 2)\n",
    "print(stat)\n",
    "\n",
    "# (c) p-값/기각여부\n",
    "pval = round(pval, 4)\n",
    "print(pval)\n",
    "print('기각')"
   ]
  }
 ],
 "metadata": {
  "kernelspec": {
   "display_name": "big_ana",
   "language": "python",
   "name": "big_ana"
  },
  "language_info": {
   "codemirror_mode": {
    "name": "ipython",
    "version": 3
   },
   "file_extension": ".py",
   "mimetype": "text/x-python",
   "name": "python",
   "nbconvert_exporter": "python",
   "pygments_lexer": "ipython3",
   "version": "3.9.12"
  },
  "orig_nbformat": 4
 },
 "nbformat": 4,
 "nbformat_minor": 2
}
