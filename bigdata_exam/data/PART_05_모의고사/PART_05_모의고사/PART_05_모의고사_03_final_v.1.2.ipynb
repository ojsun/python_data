{
 "cells": [
  {
   "cell_type": "markdown",
   "id": "4e1be88e",
   "metadata": {},
   "source": [
    "## 모의고사 3회"
   ]
  },
  {
   "cell_type": "markdown",
   "id": "e7e22c41",
   "metadata": {},
   "source": [
    "### (작업형1) "
   ]
  },
  {
   "cell_type": "markdown",
   "id": "8e175d52",
   "metadata": {},
   "source": [
    "#### 1. Rabbit 데이터셋을 불러와 Dose 컬럼의 제 3사분위수와 제 2사분위수를 구하고 두 값의 차이의 절댓값을 구한 후 소수점을 버린 값을 출력하여라."
   ]
  },
  {
   "cell_type": "code",
   "execution_count": 1,
   "id": "e81ced46",
   "metadata": {},
   "outputs": [
    {
     "name": "stdout",
     "output_type": "stream",
     "text": [
      "62\n"
     ]
    }
   ],
   "source": [
    "#### 모의고사 03회 01 Solution\n",
    "import pandas as pd\n",
    "exam1 = pd.read_csv('data/모의고사/03회/Rabbit.csv')\n",
    "\n",
    "##### 제 3사분위수, 제 2사분위수 별도 저장\n",
    "q3 = exam1['Dose'].quantile(.75)\n",
    "q2 = exam1['Dose'].median()\n",
    "\n",
    "##### 두 값의 차이의 절댓값\n",
    "diff = abs(q3 - q2)\n",
    "\n",
    "##### 결과를 result에 할당\n",
    "result = diff.astype('int64')\n",
    "\n",
    "##### 결과 출력\n",
    "print(result)"
   ]
  },
  {
   "cell_type": "markdown",
   "id": "461efb38",
   "metadata": {},
   "source": [
    "--- "
   ]
  },
  {
   "cell_type": "markdown",
   "id": "1375c428",
   "metadata": {},
   "source": [
    "#### 2. Boston 데이터셋을 불러와 medv 컬럼에 대해서 동일한 폭으로 binning한 후 가장 많은 빈도를 가지는 구간을 산출하고 해당 구간 내 dis 컬럼의 중앙값을 구하여라. (폭은 10을 기준으로 하고 소수점은 둘째 자리까지 나타내시오)"
   ]
  },
  {
   "cell_type": "code",
   "execution_count": 2,
   "id": "77b42abe",
   "metadata": {},
   "outputs": [
    {
     "name": "stdout",
     "output_type": "stream",
     "text": [
      "3.95\n"
     ]
    }
   ],
   "source": [
    "#### 모의고사 03회 02 Solution\n",
    "import pandas as pd\n",
    "exam3 = pd.read_csv('data/모의고사/03회/Boston.csv')\n",
    "\n",
    "##### medv 컬럼에 대해서 동일한 폭으로 binning\n",
    "medv_cut = pd.cut(exam3['medv'], bins = [0, 10, 20, 30, 40, 50])\n",
    "\n",
    "#### 가장 많은 빈도를 가지는 구간을 산출\n",
    "mode = medv_cut.value_counts().idxmax()\n",
    "\n",
    "#### 해당구간 내 dis 컬럼의 중앙값\n",
    "# 조건 \n",
    "cond = (medv_cut == mode)\n",
    "\n",
    "# 중앙값\n",
    "median = exam3['dis'][cond].median()\n",
    "\n",
    "##### 결과를 result에 할당\n",
    "result = round(median, 2)\n",
    "\n",
    "##### 결과 출력\n",
    "print(result)"
   ]
  },
  {
   "cell_type": "markdown",
   "id": "ee619b6b",
   "metadata": {},
   "source": [
    "--- "
   ]
  },
  {
   "cell_type": "markdown",
   "id": "1500ff9f",
   "metadata": {},
   "source": [
    "#### 3. Melanoma 데이터셋을 불러와 1번째-123번째 레코드와 123번째 이후 레코드로 데이터셋을 분리하고 각 데이터셋별로 thickness 컬럼을 z-score 정규화로 변환한 후 –1과 1 사이 값들의 중앙값을 각각 산출한 후 합계를 구하여라.(단, z-score 정규화 변환 계산에 사용되는 평균과 표준편차는 분리된 것과 관계 없이 1번째~123번째 레코드로 이루어진 데이터셋을 기준으로 하고 출력시 소수점 넷째 자리까지 반올림하여 나타낼 것, 레코드 번호는 가장 위에 위치한 레코드를 1번으로 가정함)"
   ]
  },
  {
   "cell_type": "code",
   "execution_count": 3,
   "id": "67abb715",
   "metadata": {},
   "outputs": [
    {
     "name": "stdout",
     "output_type": "stream",
     "text": [
      "-1.0027\n"
     ]
    }
   ],
   "source": [
    "#### 모의고사 03회차 03 Solution\n",
    "import pandas as pd\n",
    "exam3 = pd.read_csv('data/모의고사/03회/Melanoma.csv')\n",
    "\n",
    "##### 1번째 ~ 123번째 레코드와 123번째 이후 레코드로 데이터셋을 분리\n",
    "df1 = exam3.iloc[:123]\n",
    "df2 = exam3.iloc[123:]\n",
    "\n",
    "##### thickness 컬럼을 z-score 정규화로 변환\n",
    "# 1번째~123번째 레코드로 이루어진 데이터셋의 thickness 평균\n",
    "avg = df1['thickness'].mean()\n",
    "\n",
    "# 1번째~123번째 레코드로 이루어진 데이터셋의 thickness 표준편차\n",
    "sd = df1['thickness'].std()\n",
    "\n",
    "# z-score 변환\n",
    "std1 = (df1['thickness'] - avg)/sd\n",
    "std2 = (df2['thickness'] - avg)/sd\n",
    "\n",
    "##### –1과 1 사이 값들의 중앙값을 각각 산출\n",
    "# -1과 1사이 값\n",
    "sub_std1 = std1[(std1 > -1) & (std1 < 1)]\n",
    "sub_std2 = std2[(std2 > -1) & (std2 < 1)]\n",
    "\n",
    "# 중앙값\n",
    "med1 = sub_std1.median()\n",
    "med2 = sub_std2.median()\n",
    "\n",
    "##### 결과를 result에 할당\n",
    "result = round(med1 + med2, 4)\n",
    "\n",
    "##### 결과 출력\n",
    "print(result)"
   ]
  },
  {
   "cell_type": "code",
   "execution_count": 22,
   "id": "1e2bf1e6",
   "metadata": {},
   "outputs": [
    {
     "name": "stdout",
     "output_type": "stream",
     "text": [
      "     time  status  sex  age  year  thickness  ulcer\n",
      "0      10       3    1   76  1972       6.76      1\n",
      "1      30       3    1   56  1968       0.65      0\n",
      "2      35       2    1   41  1977       1.34      0\n",
      "3      99       3    0   71  1968       2.90      0\n",
      "4     185       1    1   52  1965      12.08      1\n",
      "..    ...     ...  ...  ...   ...        ...    ...\n",
      "118  2112       2    0   54  1972       1.94      1\n",
      "119  2150       2    0   33  1972       0.65      0\n",
      "120  2156       2    0   45  1972       0.97      0\n",
      "121  2165       2    1   62  1972       5.64      0\n",
      "122  2209       2    0   72  1971       9.66      0\n",
      "\n",
      "[123 rows x 7 columns]\n",
      "     time  status  sex  age  year  thickness  ulcer\n",
      "123  2227       2    0   51  1971       0.10      0\n",
      "124  2227       2    1   77  1971       5.48      1\n",
      "125  2256       1    0   43  1971       2.26      1\n",
      "126  2264       2    0   65  1971       4.83      1\n",
      "127  2339       2    0   63  1971       0.97      0\n",
      "..    ...     ...  ...  ...   ...        ...    ...\n",
      "200  4492       2    1   29  1965       7.06      1\n",
      "201  4668       2    0   40  1965       6.12      0\n",
      "202  4688       2    0   42  1965       0.48      0\n",
      "203  4926       2    0   50  1964       2.26      0\n",
      "204  5565       2    0   41  1962       2.90      0\n",
      "\n",
      "[82 rows x 7 columns]\n"
     ]
    },
    {
     "data": {
      "text/plain": [
       "(None, None)"
      ]
     },
     "execution_count": 22,
     "metadata": {},
     "output_type": "execute_result"
    }
   ],
   "source": [
    "# 데이터 분리된 것 확인하는 코드, 실제 시험에서는 실행 안 되게 해야함\n",
    "print(df1), print(df2)"
   ]
  },
  {
   "cell_type": "markdown",
   "id": "bcf61461",
   "metadata": {},
   "source": [
    "---"
   ]
  },
  {
   "cell_type": "markdown",
   "id": "e4774c95",
   "metadata": {},
   "source": [
    "### (작업형2) "
   ]
  },
  {
   "cell_type": "markdown",
   "id": "e52e2b73",
   "metadata": {},
   "source": [
    "### 1. 아래는 호주의 기상 관측소들의 일자별 기상 정보와 강수 여부에 관련한 데이터의 일부이다. 주어진 데이터를 이용하여 예측 모형을 만들고 아래에 따라 CSV 파일을 생성하시오."
   ]
  },
  {
   "cell_type": "code",
   "execution_count": 5,
   "id": "221bda30",
   "metadata": {},
   "outputs": [],
   "source": [
    "#### 모의고사 03회차_작업형2 Solution\n",
    "\n",
    "##### STEP1. 데이터셋 불러오기\n",
    "import pandas as pd\n",
    "X_train = pd.read_csv('data/모의고사/03회/weatherAUS_X_train.csv')\n",
    "X_test = pd.read_csv('data/모의고사/03회/weatherAUS_X_test.csv')\n",
    "y_train = pd.read_csv('data/모의고사/03회/weatherAUS_y_train.csv')"
   ]
  },
  {
   "cell_type": "code",
   "execution_count": 6,
   "id": "176cd723",
   "metadata": {},
   "outputs": [
    {
     "name": "stdout",
     "output_type": "stream",
     "text": [
      "         Date Location  MinTemp  MaxTemp  Rainfall WindGustDir  WindGustSpeed  \\\n",
      "0  2016-01-01   Albury     20.4     37.6       0.0         ENE           54.0   \n",
      "1  2016-01-02   Albury     20.9     33.6       0.4         SSE           50.0   \n",
      "2  2016-01-03   Albury     18.4     23.1       2.2         ENE           48.0   \n",
      "3  2016-01-04   Albury     17.3     23.7      15.6         SSE           39.0   \n",
      "4  2016-01-05   Albury     15.5     22.9       6.8         ENE           31.0   \n",
      "\n",
      "  WindDir9am WindDir3pm  WindSpeed9am  WindSpeed3pm  Humidity9am  Humidity3pm  \\\n",
      "0        NaN        ESE           0.0           7.0         46.0         17.0   \n",
      "1        SSE         SE           9.0          17.0         54.0         30.0   \n",
      "2        ESE        ENE          11.0          39.0         62.0         67.0   \n",
      "3         SE        SSE           9.0          17.0         74.0         65.0   \n",
      "4         SE        SSE           6.0           9.0         92.0         63.0   \n",
      "\n",
      "   Pressure9am  Pressure3pm  Cloud9am  Cloud3pm  Temp9am  Temp3pm RainToday  \n",
      "0       1013.4       1009.2       7.0       3.0     26.1     36.7        No  \n",
      "1       1011.1       1008.4       8.0       8.0     24.8     31.7        No  \n",
      "2       1014.0       1014.8       8.0       8.0     21.8     19.5       Yes  \n",
      "3       1017.9       1016.5       8.0       8.0     19.2     21.6       Yes  \n",
      "4       1016.3       1013.9       8.0       8.0     17.2     22.2       Yes  \n",
      "         Date Location  MinTemp  MaxTemp  Rainfall WindGustDir  WindGustSpeed  \\\n",
      "0  2016-09-01   Albury      8.5     16.7       0.4         NNE           17.0   \n",
      "1  2016-09-02   Albury      6.1     13.9       0.2         SSE           37.0   \n",
      "2  2016-09-03   Albury      9.6     16.6      33.6         WNW           48.0   \n",
      "3  2016-09-04   Albury      7.7     15.1       0.6          NW           26.0   \n",
      "4  2016-09-05   Albury      4.4     15.9       0.0           W           24.0   \n",
      "\n",
      "  WindDir9am WindDir3pm  WindSpeed9am  WindSpeed3pm  Humidity9am  Humidity3pm  \\\n",
      "0        NaN         NW           0.0          11.0         96.0         65.0   \n",
      "1          S          E           6.0           7.0         87.0         76.0   \n",
      "2          W          W          15.0          31.0         90.0         60.0   \n",
      "3        WSW        WNW          20.0          13.0         82.0         66.0   \n",
      "4        ESE        WSW           4.0          13.0         93.0         63.0   \n",
      "\n",
      "   Pressure9am  Pressure3pm  Cloud9am  Cloud3pm  Temp9am  Temp3pm RainToday  \n",
      "0       1020.0       1016.1       8.0       7.0     12.3     15.8        No  \n",
      "1       1012.1       1005.6       NaN       8.0     10.1     13.5        No  \n",
      "2       1003.4       1008.8       6.0       1.0     11.4     15.1       Yes  \n",
      "3       1023.7       1025.4       8.0       7.0     10.8     14.0        No  \n",
      "4       1031.3       1029.1       8.0       7.0     10.4     14.7        No  \n",
      "         Date RainTomorrow\n",
      "0  2016-01-01           No\n",
      "1  2016-01-02          Yes\n",
      "2  2016-01-03          Yes\n",
      "3  2016-01-04          Yes\n",
      "4  2016-01-05           No\n"
     ]
    }
   ],
   "source": [
    "##### STEP2. 데이터셋 확인하기\n",
    "###### STEP2-1. 데이터셋 일부 확인\n",
    "print(X_train.head())\n",
    "print(X_test.head())\n",
    "print(y_train.head())"
   ]
  },
  {
   "cell_type": "code",
   "execution_count": 7,
   "id": "d38d99da",
   "metadata": {},
   "outputs": [
    {
     "name": "stdout",
     "output_type": "stream",
     "text": [
      "<class 'pandas.core.frame.DataFrame'>\n",
      "RangeIndex: 11714 entries, 0 to 11713\n",
      "Data columns (total 20 columns):\n",
      " #   Column         Non-Null Count  Dtype  \n",
      "---  ------         --------------  -----  \n",
      " 0   Date           11714 non-null  object \n",
      " 1   Location       11714 non-null  object \n",
      " 2   MinTemp        11658 non-null  float64\n",
      " 3   MaxTemp        11662 non-null  float64\n",
      " 4   Rainfall       11630 non-null  float64\n",
      " 5   WindGustDir    11073 non-null  object \n",
      " 6   WindGustSpeed  11073 non-null  float64\n",
      " 7   WindDir9am     10873 non-null  object \n",
      " 8   WindDir3pm     11127 non-null  object \n",
      " 9   WindSpeed9am   11633 non-null  float64\n",
      " 10  WindSpeed3pm   11178 non-null  float64\n",
      " 11  Humidity9am    11650 non-null  float64\n",
      " 12  Humidity3pm    10970 non-null  float64\n",
      " 13  Pressure9am    10503 non-null  float64\n",
      " 14  Pressure3pm    10499 non-null  float64\n",
      " 15  Cloud9am       6937 non-null   float64\n",
      " 16  Cloud3pm       6115 non-null   float64\n",
      " 17  Temp9am        11674 non-null  float64\n",
      " 18  Temp3pm        10987 non-null  float64\n",
      " 19  RainToday      11630 non-null  object \n",
      "dtypes: float64(14), object(6)\n",
      "memory usage: 1.8+ MB\n",
      "None\n",
      "<class 'pandas.core.frame.DataFrame'>\n",
      "RangeIndex: 5794 entries, 0 to 5793\n",
      "Data columns (total 20 columns):\n",
      " #   Column         Non-Null Count  Dtype  \n",
      "---  ------         --------------  -----  \n",
      " 0   Date           5794 non-null   object \n",
      " 1   Location       5794 non-null   object \n",
      " 2   MinTemp        5774 non-null   float64\n",
      " 3   MaxTemp        5782 non-null   float64\n",
      " 4   Rainfall       5711 non-null   float64\n",
      " 5   WindGustDir    5447 non-null   object \n",
      " 6   WindGustSpeed  5447 non-null   float64\n",
      " 7   WindDir9am     5645 non-null   object \n",
      " 8   WindDir3pm     5534 non-null   object \n",
      " 9   WindSpeed9am   5773 non-null   float64\n",
      " 10  WindSpeed3pm   5546 non-null   float64\n",
      " 11  Humidity9am    5678 non-null   float64\n",
      " 12  Humidity3pm    5345 non-null   float64\n",
      " 13  Pressure9am    5189 non-null   float64\n",
      " 14  Pressure3pm    5188 non-null   float64\n",
      " 15  Cloud9am       3228 non-null   float64\n",
      " 16  Cloud3pm       2719 non-null   float64\n",
      " 17  Temp9am        5777 non-null   float64\n",
      " 18  Temp3pm        5439 non-null   float64\n",
      " 19  RainToday      5711 non-null   object \n",
      "dtypes: float64(14), object(6)\n",
      "memory usage: 905.4+ KB\n",
      "None\n",
      "<class 'pandas.core.frame.DataFrame'>\n",
      "RangeIndex: 11714 entries, 0 to 11713\n",
      "Data columns (total 2 columns):\n",
      " #   Column        Non-Null Count  Dtype \n",
      "---  ------        --------------  ----- \n",
      " 0   Date          11714 non-null  object\n",
      " 1   RainTomorrow  11714 non-null  object\n",
      "dtypes: object(2)\n",
      "memory usage: 183.2+ KB\n",
      "None\n"
     ]
    }
   ],
   "source": [
    "###### STEP2-2. 데이터셋 요약 정보 확인\n",
    "print(X_train.info())\n",
    "print(X_test.info())\n",
    "print(y_train.info())"
   ]
  },
  {
   "cell_type": "code",
   "execution_count": 8,
   "id": "658ebeb9",
   "metadata": {},
   "outputs": [
    {
     "name": "stdout",
     "output_type": "stream",
     "text": [
      "            MinTemp       MaxTemp      Rainfall  WindGustSpeed  WindSpeed9am  \\\n",
      "count  11658.000000  11662.000000  11630.000000   11073.000000  11633.000000   \n",
      "mean      12.530057     23.049974      2.546174      38.853698     13.453537   \n",
      "std        6.551759      7.531580      9.042366      13.732184      8.696536   \n",
      "min       -7.800000     -4.800000      0.000000       7.000000      0.000000   \n",
      "25%        7.800000     17.200000      0.000000      30.000000      7.000000   \n",
      "50%       12.400000     22.600000      0.000000      37.000000     13.000000   \n",
      "75%       17.400000     28.400000      1.000000      46.000000     19.000000   \n",
      "max       29.200000     45.100000    225.000000     120.000000     74.000000   \n",
      "\n",
      "       WindSpeed3pm   Humidity9am   Humidity3pm   Pressure9am   Pressure3pm  \\\n",
      "count  11178.000000  11650.000000  10970.000000  10503.000000  10499.000000   \n",
      "mean      17.971014     72.096996     53.495351   1017.787594   1015.341823   \n",
      "std        8.468756     18.115875     20.736367      6.923373      6.831690   \n",
      "min        0.000000     10.000000      4.000000    982.200000    977.100000   \n",
      "25%       11.000000     61.000000     39.000000   1013.500000   1010.900000   \n",
      "50%       17.000000     74.000000     54.000000   1018.000000   1015.600000   \n",
      "75%       22.000000     86.000000     67.750000   1022.100000   1019.800000   \n",
      "max       63.000000    100.000000    100.000000   1040.300000   1036.400000   \n",
      "\n",
      "          Cloud9am     Cloud3pm       Temp9am       Temp3pm  \n",
      "count  6937.000000  6115.000000  11674.000000  10987.000000  \n",
      "mean      4.931527     5.018152     16.803135     21.444644  \n",
      "std       2.890257     2.711604      6.762189      7.324353  \n",
      "min       0.000000     0.000000     -7.200000     -5.400000  \n",
      "25%       2.000000     2.000000     11.600000     15.900000  \n",
      "50%       6.000000     6.000000     16.500000     21.000000  \n",
      "75%       8.000000     7.000000     21.700000     26.600000  \n",
      "max       8.000000     8.000000     36.500000     43.500000  \n",
      "           MinTemp      MaxTemp     Rainfall  WindGustSpeed  WindSpeed9am  \\\n",
      "count  5774.000000  5782.000000  5711.000000    5447.000000   5773.000000   \n",
      "mean     12.397194    23.971688     2.021100      42.980540     15.543218   \n",
      "std       6.057115     6.990447     5.992186      13.479326      8.732675   \n",
      "min      -4.800000     1.100000     0.000000      13.000000      0.000000   \n",
      "25%       7.900000    18.600000     0.000000      33.000000      9.000000   \n",
      "50%      11.700000    23.200000     0.000000      41.000000     15.000000   \n",
      "75%      16.500000    29.100000     0.800000      50.000000     20.000000   \n",
      "max      28.900000    42.900000    85.000000     113.000000     65.000000   \n",
      "\n",
      "       WindSpeed3pm  Humidity9am  Humidity3pm  Pressure9am  Pressure3pm  \\\n",
      "count   5546.000000  5678.000000  5345.000000  5189.000000  5188.000000   \n",
      "mean      20.344933    63.949454    49.681572  1014.564232  1012.157132   \n",
      "std        8.764972    18.315154    20.524905     6.688959     6.537446   \n",
      "min        0.000000     4.000000     3.000000   982.000000   981.900000   \n",
      "25%       13.500000    53.000000    35.000000  1011.000000  1008.100000   \n",
      "50%       19.000000    65.000000    50.000000  1014.600000  1012.000000   \n",
      "75%       26.000000    76.000000    63.000000  1019.000000  1016.600000   \n",
      "max       65.000000   100.000000   100.000000  1033.000000  1030.300000   \n",
      "\n",
      "          Cloud9am     Cloud3pm      Temp9am      Temp3pm  \n",
      "count  3228.000000  2719.000000  5777.000000  5439.000000  \n",
      "mean      4.965923     4.967635    17.954613    21.976429  \n",
      "std       2.875166     2.789602     6.205495     6.713617  \n",
      "min       0.000000     0.000000    -3.600000     0.600000  \n",
      "25%       2.000000     2.000000    13.200000    16.900000  \n",
      "50%       6.000000     6.000000    17.300000    21.400000  \n",
      "75%       8.000000     8.000000    22.100000    26.700000  \n",
      "max       8.000000     8.000000    36.200000    42.000000  \n",
      "              Date RainTomorrow\n",
      "count        11714        11714\n",
      "unique         244            2\n",
      "top     2016-05-02           No\n",
      "freq            49         8882\n"
     ]
    }
   ],
   "source": [
    "###### STEP2-3. 기초통계량 확인\n",
    "print(X_train.describe())\n",
    "print(X_test.describe())\n",
    "print(y_train.describe())"
   ]
  },
  {
   "cell_type": "code",
   "execution_count": 9,
   "id": "46655c91",
   "metadata": {},
   "outputs": [],
   "source": [
    "##### STEP3. 데이터셋 전처리\n",
    "###### STEP3-1. 불필요한 컬럼 삭제\n",
    "# Date 컬럼은 관측일자로 key 역할로 모델에는 불필요함\n",
    "# 결과 제출 시에는 X_test의 Date 컬럼이 필요하기 때문에 별도 저장\n",
    "Date = X_test['Date'].copy()\n",
    "\n",
    "# 데이터들에서 Date 컬럼 삭제\n",
    "X_train = X_train.drop(columns = 'Date')\n",
    "X_test = X_test.drop(columns = 'Date')\n",
    "y_train = y_train.drop(columns = 'Date')"
   ]
  },
  {
   "cell_type": "code",
   "execution_count": 10,
   "id": "f0b69503",
   "metadata": {},
   "outputs": [
    {
     "data": {
      "text/plain": [
       "Location            0\n",
       "MinTemp            56\n",
       "MaxTemp            52\n",
       "Rainfall           84\n",
       "WindGustDir       641\n",
       "WindGustSpeed     641\n",
       "WindDir9am        841\n",
       "WindDir3pm        587\n",
       "WindSpeed9am       81\n",
       "WindSpeed3pm      536\n",
       "Humidity9am        64\n",
       "Humidity3pm       744\n",
       "Pressure9am      1211\n",
       "Pressure3pm      1215\n",
       "Cloud9am         4777\n",
       "Cloud3pm         5599\n",
       "Temp9am            40\n",
       "Temp3pm           727\n",
       "RainToday          84\n",
       "dtype: int64"
      ]
     },
     "execution_count": 10,
     "metadata": {},
     "output_type": "execute_result"
    }
   ],
   "source": [
    "###### STEP3-2. 결측치 처리\n",
    "# 결측치 확인\n",
    "X_train.isna().sum()"
   ]
  },
  {
   "cell_type": "code",
   "execution_count": 11,
   "id": "cb873d4a",
   "metadata": {},
   "outputs": [
    {
     "data": {
      "text/plain": [
       "Location            0\n",
       "MinTemp            20\n",
       "MaxTemp            12\n",
       "Rainfall           83\n",
       "WindGustDir       347\n",
       "WindGustSpeed     347\n",
       "WindDir9am        149\n",
       "WindDir3pm        260\n",
       "WindSpeed9am       21\n",
       "WindSpeed3pm      248\n",
       "Humidity9am       116\n",
       "Humidity3pm       449\n",
       "Pressure9am       605\n",
       "Pressure3pm       606\n",
       "Cloud9am         2566\n",
       "Cloud3pm         3075\n",
       "Temp9am            17\n",
       "Temp3pm           355\n",
       "RainToday          83\n",
       "dtype: int64"
      ]
     },
     "execution_count": 11,
     "metadata": {},
     "output_type": "execute_result"
    }
   ],
   "source": [
    "X_test.isna().sum()"
   ]
  },
  {
   "cell_type": "code",
   "execution_count": 12,
   "id": "68ae9385",
   "metadata": {},
   "outputs": [],
   "source": [
    "####### train에서 500개가 넘는 결측치가 있는 컬럼은 삭제\n",
    "# 결측치가 500개가 넘는 조건\n",
    "cond_na500 = (X_train.isna().sum() >= 500)\n",
    "\n",
    "# 500개가 넘는 컬럼명\n",
    "col_na500 = X_train.columns[cond_na500]\n",
    "\n",
    "# 컬럼 삭제\n",
    "X_train = X_train.drop(col_na500, axis = 1)\n",
    "X_test = X_test.drop(col_na500, axis = 1)"
   ]
  },
  {
   "cell_type": "code",
   "execution_count": 13,
   "id": "fc6a25c4",
   "metadata": {},
   "outputs": [
    {
     "data": {
      "text/plain": [
       "Location        True\n",
       "MinTemp         True\n",
       "MaxTemp         True\n",
       "Rainfall        True\n",
       "WindSpeed9am    True\n",
       "Humidity9am     True\n",
       "Temp9am         True\n",
       "RainToday       True\n",
       "dtype: bool"
      ]
     },
     "execution_count": 13,
     "metadata": {},
     "output_type": "execute_result"
    }
   ],
   "source": [
    "###### train에서 100개 미만의 결측치가 있는 컬럼은 결측치 대체\n",
    "# 결측치가 100개 미만인 조건\n",
    "X_train.isna().sum() < 100"
   ]
  },
  {
   "cell_type": "code",
   "execution_count": 14,
   "id": "e44d4590",
   "metadata": {},
   "outputs": [],
   "source": [
    "######## 수치형인 MinTemp, MaxTemp, Rainfall, WindSpeed9am, Humidity9am, Temp9am은 평균 대체\n",
    "# 수치형만 있는 데이터프레임 추출\n",
    "X_train_conti = X_train.select_dtypes(exclude = 'object').copy()\n",
    "X_test_conti = X_test.select_dtypes(exclude = 'object').copy()\n",
    "\n",
    "# 평균대치\n",
    "X_train_conti = X_train_conti.fillna(X_train_conti.mean())\n",
    "X_test_conti = X_test_conti.fillna(X_train_conti.mean())\n",
    "\n",
    "######## 카테고리형인 RainToday는 최다빈도를 가지는 라벨로 대체\n",
    "# 카테고리형만 있는 데이터프레임 추출\n",
    "X_train_category = X_train.select_dtypes('object').copy()\n",
    "X_test_category = X_test.select_dtypes('object').copy()\n",
    "\n",
    "# 최다라벨로 대치\n",
    "mode = X_train_category.value_counts('RainToday').idxmax()\n",
    "\n",
    "X_train_category = X_train_category.fillna(mode)\n",
    "X_test_category = X_test_category.fillna(mode)\n",
    "\n",
    "######## 두 데이터 프레임 다시 합치기\n",
    "X_train = pd.concat([X_train_conti, X_train_category], axis = 1)\n",
    "X_test = pd.concat([X_test_conti, X_test_category], axis = 1)"
   ]
  },
  {
   "cell_type": "code",
   "execution_count": 15,
   "id": "7545ab33",
   "metadata": {
    "scrolled": true
   },
   "outputs": [],
   "source": [
    "###### STEP3-3. 카테고리형 컬럼 전처리\n",
    "# 문자열(object) 컬럼들의 유일값 수 확인\n",
    "# .select_dtypes()은 원하는 dtype을 가진 데이터프레임만 추출 후 유일값 수 확인\n",
    "# 별도의 과정 없음"
   ]
  },
  {
   "cell_type": "code",
   "execution_count": 16,
   "id": "b348c09a",
   "metadata": {},
   "outputs": [],
   "source": [
    "###### STEP3-4. 수치형 컬럼 전처리\n",
    "# 별도의 과정 없음"
   ]
  },
  {
   "cell_type": "code",
   "execution_count": 17,
   "id": "40ffe87e",
   "metadata": {},
   "outputs": [
    {
     "name": "stdout",
     "output_type": "stream",
     "text": [
      "(8199, 8)\n",
      "(3515, 8)\n",
      "(8199, 1)\n",
      "(3515, 1)\n"
     ]
    }
   ],
   "source": [
    "###### STEP3-5. 데이터 분할\n",
    "from sklearn.model_selection import train_test_split\n",
    "\n",
    "# X_train과 y_train을 학습용(X_TRAIN, y_TRAIN)과 검증용(X_VAL, y_VAL)로 분할\n",
    "X_TRAIN, X_VAL, y_TRAIN, y_VAL = train_test_split(X_train, y_train, random_state = 1234, test_size = 0.3)\n",
    "\n",
    "# 분할 후 shape 확인\n",
    "print(X_TRAIN.shape)\n",
    "print(X_VAL.shape)\n",
    "print(y_TRAIN.shape)\n",
    "print(y_VAL.shape)"
   ]
  },
  {
   "cell_type": "code",
   "execution_count": 18,
   "id": "fe5010bf",
   "metadata": {},
   "outputs": [],
   "source": [
    "###### STEP3-6. 인코딩\n",
    "# 카테고리형 컬럼에 대하여 원-핫 인코딩 수행\n",
    "from sklearn.preprocessing import OneHotEncoder\n",
    "\n",
    "# 인코딩할 카테고리형 컬럼만 별도 저장\n",
    "X_TRAIN_category = X_TRAIN.select_dtypes('object').copy()\n",
    "X_VAL_category = X_VAL.select_dtypes('object').copy()\n",
    "X_TEST_category = X_test.select_dtypes('object').copy()\n",
    "\n",
    "# 원-핫 인코딩\n",
    "enc = OneHotEncoder(sparse = False).fit(X_TRAIN_category)\n",
    "\n",
    "X_TRAIN_OH = enc.transform(X_TRAIN_category)\n",
    "X_VAL_OH = enc.transform(X_VAL_category)\n",
    "X_TEST_OH = enc.transform(X_TEST_category)"
   ]
  },
  {
   "cell_type": "code",
   "execution_count": 19,
   "id": "98604aca",
   "metadata": {},
   "outputs": [],
   "source": [
    "###### STEP3-7. 스케일링\n",
    "from sklearn.preprocessing import StandardScaler\n",
    "\n",
    "# 스케일링할 컬럼만 별도 저장\n",
    "# .select_dtypes() 메소드의 exclude 옵션은 해당 dtype을 제외한 모든 dtype을 추출할 때 사용\n",
    "X_TRAIN_conti = X_TRAIN.select_dtypes(exclude = 'object').copy()\n",
    "X_VAL_conti = X_VAL.select_dtypes(exclude = 'object').copy()\n",
    "X_TEST_conti = X_test.select_dtypes(exclude = 'object').copy()\n",
    "\n",
    "# TRAIN 데이터 기준으로 스케일링함\n",
    "scale = StandardScaler().fit(X_TRAIN_conti)\n",
    "\n",
    "# z-점수 표준화\n",
    "X_TRAIN_STD = scale.transform(X_TRAIN_conti)\n",
    "X_VAL_STD = scale.transform(X_VAL_conti)\n",
    "X_TEST_STD = scale.transform(X_TEST_conti)"
   ]
  },
  {
   "cell_type": "code",
   "execution_count": 20,
   "id": "f8fb1d43",
   "metadata": {},
   "outputs": [],
   "source": [
    "###### STEP3-8. 입력 데이터셋 준비\n",
    "import numpy as np\n",
    "\n",
    "# 인코딩과 스케일링된 넘파이배열 연결\n",
    "X_TRAIN = np.concatenate([X_TRAIN_OH, X_TRAIN_STD], axis = 1)\n",
    "X_VAL = np.concatenate([X_VAL_OH, X_VAL_STD], axis = 1)\n",
    "\n",
    "# 'Yes'와 'No'를 각각 1,0에 매핑\n",
    "y_TRAIN = y_TRAIN['RainTomorrow'].map({'No':0, 'Yes':1})\n",
    "y_VAL = y_VAL['RainTomorrow'].map({'No':0, 'Yes':1})\n",
    "\n",
    "# 1차원 넘파이 배열로 평탄화\n",
    "y_TRAIN = y_TRAIN.values.ravel()\n",
    "y_VAL = y_VAL.values.ravel()"
   ]
  },
  {
   "cell_type": "code",
   "execution_count": 21,
   "id": "d4e19866",
   "metadata": {},
   "outputs": [
    {
     "ename": "ModuleNotFoundError",
     "evalue": "No module named 'xgboost'",
     "output_type": "error",
     "traceback": [
      "\u001b[1;31m---------------------------------------------------------------------------\u001b[0m",
      "\u001b[1;31mModuleNotFoundError\u001b[0m                       Traceback (most recent call last)",
      "\u001b[1;32m~\\AppData\\Local\\Temp\\ipykernel_8028\\1118050524.py\u001b[0m in \u001b[0;36m<module>\u001b[1;34m\u001b[0m\n\u001b[0;32m      1\u001b[0m \u001b[1;31m##### STEP4. 모델 학습\u001b[0m\u001b[1;33m\u001b[0m\u001b[1;33m\u001b[0m\u001b[1;33m\u001b[0m\u001b[0m\n\u001b[0;32m      2\u001b[0m \u001b[1;32mfrom\u001b[0m \u001b[0msklearn\u001b[0m\u001b[1;33m.\u001b[0m\u001b[0mensemble\u001b[0m \u001b[1;32mimport\u001b[0m \u001b[0mRandomForestClassifier\u001b[0m\u001b[1;33m\u001b[0m\u001b[1;33m\u001b[0m\u001b[0m\n\u001b[1;32m----> 3\u001b[1;33m \u001b[1;32mfrom\u001b[0m \u001b[0mxgboost\u001b[0m \u001b[1;32mimport\u001b[0m \u001b[0mXGBClassifier\u001b[0m\u001b[1;33m\u001b[0m\u001b[1;33m\u001b[0m\u001b[0m\n\u001b[0m\u001b[0;32m      4\u001b[0m \u001b[1;32mfrom\u001b[0m \u001b[0mlightgbm\u001b[0m \u001b[1;32mimport\u001b[0m \u001b[0mLGBMClassifier\u001b[0m\u001b[1;33m\u001b[0m\u001b[1;33m\u001b[0m\u001b[0m\n\u001b[0;32m      5\u001b[0m \u001b[1;33m\u001b[0m\u001b[0m\n",
      "\u001b[1;31mModuleNotFoundError\u001b[0m: No module named 'xgboost'"
     ]
    }
   ],
   "source": [
    "##### STEP4. 모델 학습\n",
    "from sklearn.ensemble import RandomForestClassifier\n",
    "from xgboost import XGBClassifier\n",
    "from lightgbm import LGBMClassifier\n",
    "\n",
    "###### STEP4-1. random forest\n",
    "rf = RandomForestClassifier(n_estimators = 500,\n",
    "                            max_depth = 3,\n",
    "                            min_samples_leaf = 10,\n",
    "                            max_features = 'sqrt',\n",
    "                            random_state = 2022)\n",
    "\n",
    "model_rf = rf.fit(X_TRAIN, y_TRAIN)\n",
    "\n",
    "###### STEP4-2. XGBoost\n",
    "xgb = XGBClassifier(max_depth = 8,\n",
    "                    n_estimators = 500,\n",
    "                    nthread = 5,\n",
    "                    min_child_weight = 20,\n",
    "                    gamma = 0.5,\n",
    "                    objective = 'binary:logistic',\n",
    "                    use_label_encoder = False,\n",
    "                    random_state = 2022)\n",
    "\n",
    "model_xgb = xgb.fit(X_TRAIN, y_TRAIN, eval_metric = 'mlogloss')\n",
    "\n",
    "###### STEP4-3. LightGBM\n",
    "lgb = LGBMClassifier(max_depth = 8,\n",
    "                     n_estimators = 500,\n",
    "                     n_jobs = 30,\n",
    "                     min_child_weight = 10,\n",
    "                     learning_rate = 0.2,\n",
    "                     objective = 'binary',\n",
    "                     random_state = 2022)\n",
    "\n",
    "model_lgb = lgb.fit(X_TRAIN, y_TRAIN)"
   ]
  },
  {
   "cell_type": "code",
   "execution_count": null,
   "id": "66496a2a",
   "metadata": {},
   "outputs": [
    {
     "name": "stdout",
     "output_type": "stream",
     "text": [
      "0.7377311116183519\n",
      "0.7448954359191748\n",
      "0.7596543334673899\n"
     ]
    }
   ],
   "source": [
    "###### STEP4-4. 성능평가(기준:AUC)를 통한 모델 선정\n",
    "from sklearn.metrics import roc_curve, auc\n",
    "\n",
    "# 검증용 데이터셋을 통한 예측\n",
    "score_rf = model_rf.predict_proba(X_VAL)[:,1]\n",
    "score_xgb = model_xgb.predict_proba(X_VAL)[:,1]\n",
    "score_lgb = model_lgb.predict_proba(X_VAL)[:,1]\n",
    "\n",
    "# AUC 계산\n",
    "fpr, tpr, thresholds = roc_curve(y_VAL, score_rf)\n",
    "auc_rf = auc(fpr, tpr)\n",
    "print(auc_rf)\n",
    "\n",
    "fpr, tpr, thresholds = roc_curve(y_VAL, score_xgb)\n",
    "auc_xgb = auc(fpr, tpr)\n",
    "print(auc_xgb)\n",
    "\n",
    "fpr, tpr, thresholds = roc_curve(y_VAL, score_lgb)\n",
    "auc_lgb = auc(fpr, tpr)\n",
    "print(auc_lgb)"
   ]
  },
  {
   "cell_type": "code",
   "execution_count": null,
   "id": "b6fc23a5",
   "metadata": {},
   "outputs": [],
   "source": [
    "##### STEP5. 결과 제출하기\n",
    "###### 실제 시험에서 답 제출시에는 성능이 가장 우수한 모형 하나만 구현!\n",
    "X_TEST = np.concatenate([X_TEST_OH, X_TEST_STD], axis = 1)\n",
    "y_score = model_lgb.predict_proba(X_TEST)[:,1]\n",
    "\n",
    "# 문제에서 요구하는 형태로 변환 필요\n",
    "obj = {'Date' : Date,\n",
    "       'RainTomorrow_prob' : y_score}\n",
    "\n",
    "result = pd.DataFrame(obj)\n",
    "\n",
    "# 하위에 12345.csv 이름으로 저장하기\n",
    "result.to_csv(\"12345.csv\", index = False)"
   ]
  },
  {
   "cell_type": "code",
   "execution_count": null,
   "id": "134dbe0b",
   "metadata": {},
   "outputs": [
    {
     "data": {
      "text/plain": [
       "0.7066865384099572"
      ]
     },
     "execution_count": 25,
     "metadata": {},
     "output_type": "execute_result"
    }
   ],
   "source": [
    "##### STEP6. 채점 모델 평가(번외)\n",
    "# 실제값\n",
    "actual = pd.read_csv('data/모의고사/03회/weatherAUS_y_test.csv', encoding = 'cp949')\n",
    "actual = actual['RainTomorrow'].ravel()\n",
    "\n",
    "# 채점 기준이 될 성과지표 값\n",
    "fpr, tpr, thresholds = roc_curve(actual, y_score, pos_label = 'Yes')\n",
    "auc(fpr, tpr)"
   ]
  },
  {
   "cell_type": "markdown",
   "id": "54e19f80",
   "metadata": {},
   "source": [
    "# (끝)"
   ]
  }
 ],
 "metadata": {
  "hide_input": false,
  "kernelspec": {
   "display_name": "Python 3.7.13 ('sql_ana')",
   "language": "python",
   "name": "python3"
  },
  "language_info": {
   "codemirror_mode": {
    "name": "ipython",
    "version": 3
   },
   "file_extension": ".py",
   "mimetype": "text/x-python",
   "name": "python",
   "nbconvert_exporter": "python",
   "pygments_lexer": "ipython3",
   "version": "3.7.13"
  },
  "toc": {
   "base_numbering": 1,
   "nav_menu": {},
   "number_sections": false,
   "sideBar": true,
   "skip_h1_title": false,
   "title_cell": "Table of Contents",
   "title_sidebar": "Contents",
   "toc_cell": false,
   "toc_position": {},
   "toc_section_display": true,
   "toc_window_display": false
  },
  "varInspector": {
   "cols": {
    "lenName": 16,
    "lenType": 16,
    "lenVar": 40
   },
   "kernels_config": {
    "python": {
     "delete_cmd_postfix": "",
     "delete_cmd_prefix": "del ",
     "library": "var_list.py",
     "varRefreshCmd": "print(var_dic_list())"
    },
    "r": {
     "delete_cmd_postfix": ") ",
     "delete_cmd_prefix": "rm(",
     "library": "var_list.r",
     "varRefreshCmd": "cat(var_dic_list()) "
    }
   },
   "types_to_exclude": [
    "module",
    "function",
    "builtin_function_or_method",
    "instance",
    "_Feature"
   ],
   "window_display": false
  },
  "vscode": {
   "interpreter": {
    "hash": "4b9c2565d0063a8e86d675854bb3daca5bd7f8ee7e25f30d3cbb564393f00e18"
   }
  }
 },
 "nbformat": 4,
 "nbformat_minor": 5
}
