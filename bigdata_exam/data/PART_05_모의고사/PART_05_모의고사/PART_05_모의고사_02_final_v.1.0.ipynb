{
 "cells": [
  {
   "cell_type": "markdown",
   "id": "4e1be88e",
   "metadata": {},
   "source": [
    "## 모의고사 2회"
   ]
  },
  {
   "cell_type": "markdown",
   "id": "e7e22c41",
   "metadata": {},
   "source": [
    "### (작업형1) "
   ]
  },
  {
   "cell_type": "markdown",
   "id": "8e175d52",
   "metadata": {},
   "source": [
    "#### 1. USArrests 데이터셋을 불러와 UrbanPop이 60이상인 지역 중 Murder와 Assault의 합 대비 Assault의 비율이 0.05이상인 레코드 수를 구하여라."
   ]
  },
  {
   "cell_type": "code",
   "execution_count": 23,
   "id": "e81ced46",
   "metadata": {},
   "outputs": [
    {
     "name": "stdout",
     "output_type": "stream",
     "text": [
      "33\n"
     ]
    }
   ],
   "source": [
    "#### 모의고사 02회 01 Solution\n",
    "import pandas as pd\n",
    "exam1 = pd.read_csv('data/모의고사/02회/USArrests.csv')\n",
    "\n",
    "##### Murder와 Assault의 합 대비 Assault의 비율에 대한 컬럼 생성\n",
    "# Murder와 Assault의 합\n",
    "exam1['MA'] = exam1['Murder'] + exam1['Assault']\n",
    "\n",
    "# Murder와 Assault의 합 대비 Assault의 비율\n",
    "exam1['ratio'] = exam1['Assault']/exam1['MA']\n",
    "\n",
    "##### UrbanPop이 60이상이고 ratio가 0.05이상인 경우\n",
    "cond = (exam1['UrbanPop'] >= 60) & (exam1['ratio'] >= 0.05)\n",
    "\n",
    "##### 결과를 result에 할당\n",
    "result = exam1[cond].shape[0]\n",
    "\n",
    "##### 결과 출력\n",
    "print(result)"
   ]
  },
  {
   "cell_type": "markdown",
   "id": "461efb38",
   "metadata": {},
   "source": [
    "--- "
   ]
  },
  {
   "cell_type": "markdown",
   "id": "1375c428",
   "metadata": {},
   "source": [
    "#### 2. swiss 데이터셋을 불러와 Fertility 컬럼에 대해서 내림차순으로 정렬한 후 정렬한 데이터를 기준으로 홀수번째 레코드들의 평균에서 짝수번째 레코드들의 평균을 뺀 값을 구하여라. (단, 첫번째 행에 있는 데이터를 1번으로 하고, 결과는 소수점 넷째 자리에서 반올림하여 표현)"
   ]
  },
  {
   "cell_type": "code",
   "execution_count": 24,
   "id": "77b42abe",
   "metadata": {},
   "outputs": [
    {
     "name": "stdout",
     "output_type": "stream",
     "text": [
      "-0.453\n"
     ]
    }
   ],
   "source": [
    "#### 모의고사 02회 02 Solution\n",
    "import pandas as pd\n",
    "exam2 = pd.read_csv('data/모의고사/02회/swiss.csv')\n",
    "\n",
    "##### Fertility 컬럼에 대해서 내림차순으로 정렬\n",
    "sort = exam2['Fertility'].sort_values(ascending = False, ignore_index = True)\n",
    "\n",
    "##### 데이터의 홀수번째와 짝수번째 행 번호 생성\n",
    "import numpy as np\n",
    "idx = np.arange(1,48)\n",
    "\n",
    "# 홀수\n",
    "odd = (idx % 2 == 1)\n",
    "\n",
    "# 짝수\n",
    "even = (idx % 2 == 0)\n",
    "\n",
    "# 차이\n",
    "diff = sort[odd].mean() - sort[even].mean()\n",
    "\n",
    "##### 결과를 result에 할당\n",
    "result = round(diff, 3)\n",
    "\n",
    "##### 결과 출력\n",
    "print(result)"
   ]
  },
  {
   "cell_type": "markdown",
   "id": "ee619b6b",
   "metadata": {},
   "source": [
    "--- "
   ]
  },
  {
   "cell_type": "markdown",
   "id": "1500ff9f",
   "metadata": {},
   "source": [
    "#### 3. CO2 데이터셋을 불러와 Type 컬럼이 Mississippi이면서 conc 컬럼에서 백의 자리 또는 일의 자리가 5인 경우 레코드들의 수를 구하여라."
   ]
  },
  {
   "cell_type": "code",
   "execution_count": 1,
   "id": "67abb715",
   "metadata": {},
   "outputs": [
    {
     "name": "stdout",
     "output_type": "stream",
     "text": [
      "24\n"
     ]
    }
   ],
   "source": [
    "#### 모의고사 02회차 03 Solution\n",
    "import pandas as pd\n",
    "exam3 = pd.read_csv('data/모의고사/02회/CO2.csv')\n",
    "\n",
    "##### case1. Type 컬럼이 Mississippi인 경우\n",
    "# 'Mississi/ppi'와 'Mis/sissippi'이 섞여있음\n",
    "# exam3['Type'].value_counts()\n",
    "\n",
    "# '/'를 제거\n",
    "exam3['Type'] = exam3['Type'].str.replace('/', '')\n",
    "\n",
    "# Mississippi일 조건\n",
    "case1 = (exam3['Type'] == 'Mississippi')\n",
    "\n",
    "##### case2. conc 컬럼에서 백의 자리 또는 일의 자리가 5인 경우\n",
    "# 백의 자리가 5인 경우\n",
    "hundred = exam3['conc']//100  == 5\n",
    "\n",
    "# 일의 자리가 5인 경우\n",
    "one = exam3['conc'].astype('string').str.endswith('5')\n",
    "\n",
    "# 두 조건을 만족하는 조건\n",
    "case2 = hundred | one\n",
    "\n",
    "##### 결과를 result에 할당\n",
    "result = exam3[case1 & case2].shape[0]\n",
    "\n",
    "##### 결과 출력\n",
    "print(result)"
   ]
  },
  {
   "cell_type": "markdown",
   "id": "bcf61461",
   "metadata": {},
   "source": [
    "---"
   ]
  },
  {
   "cell_type": "markdown",
   "id": "e4774c95",
   "metadata": {},
   "source": [
    "### (작업형2) "
   ]
  },
  {
   "cell_type": "markdown",
   "id": "e52e2b73",
   "metadata": {},
   "source": [
    "### 1. 아래는 블랙프라이데이 제품 구매자들의 구매 정보에 관련한 데이터의 일부이다. 주어진 데이터를 이용하여 예측 모형을 만들고 아래에 따라 CSV 파일을 생성하시오."
   ]
  },
  {
   "cell_type": "code",
   "execution_count": 26,
   "id": "221bda30",
   "metadata": {},
   "outputs": [],
   "source": [
    "#### 모의고사 01회차_작업형2 Solution\n",
    "\n",
    "##### STEP1. 데이터셋+ 불러오기\n",
    "import pandas as pd\n",
    "X_train = pd.read_csv('data/모의고사/02회/BlackFriday_X_train.csv')\n",
    "X_test = pd.read_csv('data/모의고사/02회/BlackFriday_X_test.csv')\n",
    "y_train = pd.read_csv('data/모의고사/02회/BlackFriday_y_train.csv')"
   ]
  },
  {
   "cell_type": "code",
   "execution_count": 27,
   "id": "176cd723",
   "metadata": {},
   "outputs": [
    {
     "name": "stdout",
     "output_type": "stream",
     "text": [
      "   User_ID Product_ID Gender    Age  Occupation City_Category  \\\n",
      "0  1001889  P00166642      M  18-25          14             B   \n",
      "1  1003320  P00030842      M  26-35           1             B   \n",
      "2  1003690   P0095742      M  18-25           0             B   \n",
      "3  1002796  P00227642      M  26-35          14             B   \n",
      "4  1001671  P00114542      M  36-45           0             B   \n",
      "\n",
      "  Stay_In_Current_City_Years  Marital_Status  Product_Category_1  \\\n",
      "0                          2               0                   8   \n",
      "1                          1               1                   1   \n",
      "2                          2               0                   4   \n",
      "3                          3               0                   1   \n",
      "4                          2               0                   5   \n",
      "\n",
      "   Product_Category_2  Product_Category_3  \n",
      "0                 NaN                 NaN  \n",
      "1                 2.0                15.0  \n",
      "2                 5.0                 NaN  \n",
      "3                 5.0                14.0  \n",
      "4                 NaN                 NaN  \n",
      "   User_ID Product_ID Gender    Age  Occupation City_Category  \\\n",
      "0  1004079  P00194042      M  36-45          17             B   \n",
      "1  1000936  P00320942      M  18-25           4             C   \n",
      "2  1000238  P00117242      F  51-55           7             B   \n",
      "3  1005250  P00354142      M  51-55           6             B   \n",
      "4  1005281  P00152742      M  26-35           2             A   \n",
      "\n",
      "  Stay_In_Current_City_Years  Marital_Status  Product_Category_1  \\\n",
      "0                          3               1                   8   \n",
      "1                         4+               0                   1   \n",
      "2                          0               0                   8   \n",
      "3                         4+               1                   6   \n",
      "4                          2               0                   5   \n",
      "\n",
      "   Product_Category_2  Product_Category_3  \n",
      "0                11.0                 NaN  \n",
      "1                 4.0                 9.0  \n",
      "2                17.0                 NaN  \n",
      "3                 8.0                 NaN  \n",
      "4                 NaN                 NaN  \n",
      "   User_ID  Purchase\n",
      "0  1001889      7802\n",
      "1  1003320     15412\n",
      "2  1003690      1448\n",
      "3  1002796      3927\n",
      "4  1001671      7091\n"
     ]
    }
   ],
   "source": [
    "##### STEP2. 데이터셋 확인하기\n",
    "###### STEP2-1. 데이터셋 일부 확인\n",
    "print(X_train.head())\n",
    "print(X_test.head())\n",
    "print(y_train.head())"
   ]
  },
  {
   "cell_type": "code",
   "execution_count": 28,
   "id": "d38d99da",
   "metadata": {},
   "outputs": [
    {
     "name": "stdout",
     "output_type": "stream",
     "text": [
      "<class 'pandas.core.frame.DataFrame'>\n",
      "RangeIndex: 3900 entries, 0 to 3899\n",
      "Data columns (total 11 columns):\n",
      " #   Column                      Non-Null Count  Dtype  \n",
      "---  ------                      --------------  -----  \n",
      " 0   User_ID                     3900 non-null   int64  \n",
      " 1   Product_ID                  3900 non-null   object \n",
      " 2   Gender                      3900 non-null   object \n",
      " 3   Age                         3900 non-null   object \n",
      " 4   Occupation                  3900 non-null   int64  \n",
      " 5   City_Category               3900 non-null   object \n",
      " 6   Stay_In_Current_City_Years  3900 non-null   object \n",
      " 7   Marital_Status              3900 non-null   int64  \n",
      " 8   Product_Category_1          3900 non-null   int64  \n",
      " 9   Product_Category_2          2695 non-null   float64\n",
      " 10  Product_Category_3          1213 non-null   float64\n",
      "dtypes: float64(2), int64(4), object(5)\n",
      "memory usage: 335.3+ KB\n",
      "None\n",
      "<class 'pandas.core.frame.DataFrame'>\n",
      "RangeIndex: 2600 entries, 0 to 2599\n",
      "Data columns (total 11 columns):\n",
      " #   Column                      Non-Null Count  Dtype  \n",
      "---  ------                      --------------  -----  \n",
      " 0   User_ID                     2600 non-null   int64  \n",
      " 1   Product_ID                  2600 non-null   object \n",
      " 2   Gender                      2600 non-null   object \n",
      " 3   Age                         2600 non-null   object \n",
      " 4   Occupation                  2600 non-null   int64  \n",
      " 5   City_Category               2600 non-null   object \n",
      " 6   Stay_In_Current_City_Years  2600 non-null   object \n",
      " 7   Marital_Status              2600 non-null   int64  \n",
      " 8   Product_Category_1          2600 non-null   int64  \n",
      " 9   Product_Category_2          1752 non-null   float64\n",
      " 10  Product_Category_3          793 non-null    float64\n",
      "dtypes: float64(2), int64(4), object(5)\n",
      "memory usage: 223.6+ KB\n",
      "None\n",
      "<class 'pandas.core.frame.DataFrame'>\n",
      "RangeIndex: 3900 entries, 0 to 3899\n",
      "Data columns (total 2 columns):\n",
      " #   Column    Non-Null Count  Dtype\n",
      "---  ------    --------------  -----\n",
      " 0   User_ID   3900 non-null   int64\n",
      " 1   Purchase  3900 non-null   int64\n",
      "dtypes: int64(2)\n",
      "memory usage: 61.1 KB\n",
      "None\n"
     ]
    }
   ],
   "source": [
    "###### STEP2-2. 데이터셋 요약 정보 확인\n",
    "print(X_train.info())\n",
    "print(X_test.info())\n",
    "print(y_train.info())"
   ]
  },
  {
   "cell_type": "code",
   "execution_count": 29,
   "id": "658ebeb9",
   "metadata": {},
   "outputs": [
    {
     "name": "stdout",
     "output_type": "stream",
     "text": [
      "            User_ID   Occupation  Marital_Status  Product_Category_1  \\\n",
      "count  3.900000e+03  3900.000000     3900.000000         3900.000000   \n",
      "mean   1.002986e+06     7.980513        0.420000            5.273846   \n",
      "std    1.711858e+03     6.562434        0.493622            3.710045   \n",
      "min    1.000002e+06     0.000000        0.000000            1.000000   \n",
      "25%    1.001501e+06     2.000000        0.000000            1.000000   \n",
      "50%    1.003046e+06     7.000000        0.000000            5.000000   \n",
      "75%    1.004386e+06    14.000000        1.000000            8.000000   \n",
      "max    1.006040e+06    20.000000        1.000000           18.000000   \n",
      "\n",
      "       Product_Category_2  Product_Category_3  \n",
      "count         2695.000000         1213.000000  \n",
      "mean             9.852319           12.663644  \n",
      "std              5.058134            4.057423  \n",
      "min              2.000000            3.000000  \n",
      "25%              5.000000            9.000000  \n",
      "50%              9.000000           14.000000  \n",
      "75%             15.000000           16.000000  \n",
      "max             18.000000           18.000000  \n",
      "            User_ID   Occupation  Marital_Status  Product_Category_1  \\\n",
      "count  2.600000e+03  2600.000000     2600.000000         2600.000000   \n",
      "mean   1.002952e+06     8.061154        0.403846            5.359231   \n",
      "std    1.718149e+03     6.525626        0.490762            3.769651   \n",
      "min    1.000001e+06     0.000000        0.000000            1.000000   \n",
      "25%    1.001406e+06     2.000000        0.000000            2.000000   \n",
      "50%    1.003012e+06     7.000000        0.000000            5.000000   \n",
      "75%    1.004385e+06    14.000000        1.000000            8.000000   \n",
      "max    1.006037e+06    20.000000        1.000000           18.000000   \n",
      "\n",
      "       Product_Category_2  Product_Category_3  \n",
      "count         1752.000000          793.000000  \n",
      "mean             9.748288           12.813367  \n",
      "std              5.080618            4.098900  \n",
      "min              2.000000            4.000000  \n",
      "25%              5.000000            9.000000  \n",
      "50%              9.000000           15.000000  \n",
      "75%             15.000000           16.000000  \n",
      "max             18.000000           18.000000  \n",
      "            User_ID      Purchase\n",
      "count  3.900000e+03   3900.000000\n",
      "mean   1.002986e+06   9394.564615\n",
      "std    1.711858e+03   5039.666976\n",
      "min    1.000002e+06    373.000000\n",
      "25%    1.001501e+06   5841.750000\n",
      "50%    1.003046e+06   8062.500000\n",
      "75%    1.004386e+06  12162.750000\n",
      "max    1.006040e+06  23942.000000\n"
     ]
    }
   ],
   "source": [
    "###### STEP2-3. 기초통계량 확인\n",
    "print(X_train.describe())\n",
    "print(X_test.describe())\n",
    "print(y_train.describe())"
   ]
  },
  {
   "cell_type": "code",
   "execution_count": 30,
   "id": "46655c91",
   "metadata": {},
   "outputs": [],
   "source": [
    "##### STEP3. 데이터셋 전처리\n",
    "###### STEP3-1. 불필요한 컬럼 삭제\n",
    "# User_ID 컬럼은 구매자에 대한 고유 정보로 key 역할로 모델에는 불필요함\n",
    "# 결과 제출 시에는 X_test의 ID 컬럼이 필요하기 때문에 별도 저장\n",
    "User_ID = X_test['User_ID'].copy()\n",
    "\n",
    "# Product_ID는 제품의 고유 ID로 마찬가지로 삭제함\n",
    "\n",
    "# 데이터들에서 User_ID, Product_ID 컬럼 삭제\n",
    "X_train = X_train.drop(columns = ['User_ID', 'Product_ID'])\n",
    "X_test = X_test.drop(columns = ['User_ID', 'Product_ID'])\n",
    "y_train = y_train.drop(columns = 'User_ID')"
   ]
  },
  {
   "cell_type": "code",
   "execution_count": 31,
   "id": "f0b69503",
   "metadata": {},
   "outputs": [
    {
     "data": {
      "text/plain": [
       "Gender                           0\n",
       "Age                              0\n",
       "Occupation                       0\n",
       "City_Category                    0\n",
       "Stay_In_Current_City_Years       0\n",
       "Marital_Status                   0\n",
       "Product_Category_1               0\n",
       "Product_Category_2            1205\n",
       "Product_Category_3            2687\n",
       "dtype: int64"
      ]
     },
     "execution_count": 31,
     "metadata": {},
     "output_type": "execute_result"
    }
   ],
   "source": [
    "###### STEP3-2. 결측치 처리\n",
    "# 결측치 확인\n",
    "X_train.isna().sum()"
   ]
  },
  {
   "cell_type": "code",
   "execution_count": 32,
   "id": "fc87d269",
   "metadata": {},
   "outputs": [
    {
     "data": {
      "text/plain": [
       "Gender                           0\n",
       "Age                              0\n",
       "Occupation                       0\n",
       "City_Category                    0\n",
       "Stay_In_Current_City_Years       0\n",
       "Marital_Status                   0\n",
       "Product_Category_1               0\n",
       "Product_Category_2             848\n",
       "Product_Category_3            1807\n",
       "dtype: int64"
      ]
     },
     "execution_count": 32,
     "metadata": {},
     "output_type": "execute_result"
    }
   ],
   "source": [
    "X_test.isna().sum()"
   ]
  },
  {
   "cell_type": "code",
   "execution_count": 33,
   "id": "68ae9385",
   "metadata": {},
   "outputs": [],
   "source": [
    "####### Product_Category_2 컬럼(train 1205, test 848 결측)\n",
    "# train은 레코드의 31%, test는 레코드의 33%가 결측이고 Product_Category_1의 하위 카테고리\n",
    "# 컬럼을 삭제\n",
    "X_train = X_train.drop('Product_Category_2', axis = 1)\n",
    "X_test = X_test.drop('Product_Category_2', axis = 1)\n",
    "\n",
    "####### Product_Category_3 컬럼(train 2687, test 1807 결측)\n",
    "# train은 레코드의 69%, test는 레코드의 70%가 결측이고 Product_Category_1, 2의 하위 카테고리\n",
    "# 컬럼을 삭제\n",
    "X_train = X_train.drop('Product_Category_3', axis = 1)\n",
    "X_test = X_test.drop('Product_Category_3', axis = 1)"
   ]
  },
  {
   "cell_type": "code",
   "execution_count": 34,
   "id": "7545ab33",
   "metadata": {
    "scrolled": true
   },
   "outputs": [
    {
     "name": "stdout",
     "output_type": "stream",
     "text": [
      "Gender                        2\n",
      "Age                           7\n",
      "City_Category                 3\n",
      "Stay_In_Current_City_Years    5\n",
      "dtype: int64\n",
      "Gender                        2\n",
      "Age                           7\n",
      "City_Category                 3\n",
      "Stay_In_Current_City_Years    5\n",
      "dtype: int64\n"
     ]
    }
   ],
   "source": [
    "###### STEP3-3. 카테고리형 컬럼 전처리\n",
    "# 문자열(object) 컬럼들의 유일값 수 확인\n",
    "# 컬럼별 카테고리 확인 결과 큰 이상 없음\n",
    "print(X_train.select_dtypes('object').nunique())\n",
    "print(X_test.select_dtypes('object').nunique())"
   ]
  },
  {
   "cell_type": "code",
   "execution_count": 35,
   "id": "b348c09a",
   "metadata": {},
   "outputs": [
    {
     "name": "stdout",
     "output_type": "stream",
     "text": [
      "      Occupation  Marital_Status  Product_Category_1\n",
      "0             14               0                   8\n",
      "1              1               1                   1\n",
      "2              0               0                   4\n",
      "3             14               0                   1\n",
      "4              0               0                   5\n",
      "...          ...             ...                 ...\n",
      "3895           2               0                   1\n",
      "3896           0               0                  11\n",
      "3897           4               0                   8\n",
      "3898          16               0                   1\n",
      "3899          12               0                  16\n",
      "\n",
      "[3900 rows x 3 columns]\n",
      "      Occupation  Marital_Status  Product_Category_1\n",
      "0             17               1                   8\n",
      "1              4               0                   1\n",
      "2              7               0                   8\n",
      "3              6               1                   6\n",
      "4              2               0                   5\n",
      "...          ...             ...                 ...\n",
      "2595           0               0                   5\n",
      "2596          14               0                   1\n",
      "2597           9               0                   8\n",
      "2598           4               1                   6\n",
      "2599          18               1                  11\n",
      "\n",
      "[2600 rows x 3 columns]\n"
     ]
    }
   ],
   "source": [
    "###### STEP3-4. 수치형 컬럼 전처리\n",
    "print(X_train.select_dtypes(exclude ='object'))\n",
    "print(X_test.select_dtypes(exclude ='object'))\n",
    "\n",
    "####### Occupation, Marital_Status, Product_Category_1컬럼\n",
    "# 수치형으로 인식되지만 카테고리의 의미를 가지는 컬럼\n",
    "# dtype 변경 후 각각 OCC_gp, Marital_gp, PC_gp에 할당\n",
    "X_train['OCC_gp'] = X_train['Occupation'].astype('object')\n",
    "X_test['OCC_gp'] = X_test['Occupation'].astype('object')\n",
    "\n",
    "X_train['Marital_gp'] = X_train['Marital_Status'].astype('object')\n",
    "X_test['Marital_gp'] = X_test['Marital_Status'].astype('object')\n",
    "\n",
    "X_train['PC_gp'] = X_train['Product_Category_1'].astype('object')\n",
    "X_test['PC_gp'] = X_test['Product_Category_1'].astype('object')\n",
    "\n",
    "# 기존 컬럼 삭제\n",
    "X_train = X_train.drop(['Occupation', 'Marital_Status', 'Product_Category_1'], axis = 1)\n",
    "X_test = X_test.drop(['Occupation', 'Marital_Status', 'Product_Category_1'], axis = 1)"
   ]
  },
  {
   "cell_type": "code",
   "execution_count": 36,
   "id": "40ffe87e",
   "metadata": {},
   "outputs": [
    {
     "name": "stdout",
     "output_type": "stream",
     "text": [
      "(2730, 7)\n",
      "(1170, 7)\n",
      "(2730, 1)\n",
      "(1170, 1)\n"
     ]
    }
   ],
   "source": [
    "###### STEP3-5. 데이터 분할\n",
    "from sklearn.model_selection import train_test_split\n",
    "\n",
    "# X_train과 y_train을 학습용(X_TRAIN, y_TRAIN)과 검증용(X_VAL, y_VAL)로 분할\n",
    "X_TRAIN, X_VAL, y_TRAIN, y_VAL = train_test_split(X_train, y_train, random_state = 1234, test_size = 0.3)\n",
    "\n",
    "# 분할 후 shape 확인\n",
    "print(X_TRAIN.shape)\n",
    "print(X_VAL.shape)\n",
    "print(y_TRAIN.shape)\n",
    "print(y_VAL.shape)"
   ]
  },
  {
   "cell_type": "code",
   "execution_count": 37,
   "id": "fe5010bf",
   "metadata": {},
   "outputs": [],
   "source": [
    "###### STEP3-6. 인코딩\n",
    "# 카테고리형 컬럼에 대하여 원-핫 인코딩 수행\n",
    "from sklearn.preprocessing import OneHotEncoder\n",
    "\n",
    "# 인코딩할 카테고리형 컬럼만 별도 저장\n",
    "X_TRAIN_category = X_TRAIN.select_dtypes('object').copy()\n",
    "X_VAL_category = X_VAL.select_dtypes('object').copy()\n",
    "X_TEST_category = X_test.select_dtypes('object').copy()\n",
    "\n",
    "# 원-핫 인코딩\n",
    "enc = OneHotEncoder(sparse = False).fit(X_TRAIN_category)\n",
    "\n",
    "X_TRAIN_OH = enc.transform(X_TRAIN_category)\n",
    "X_VAL_OH = enc.transform(X_VAL_category)\n",
    "X_TEST_OH = enc.transform(X_TEST_category)"
   ]
  },
  {
   "cell_type": "code",
   "execution_count": 38,
   "id": "98604aca",
   "metadata": {},
   "outputs": [],
   "source": [
    "###### STEP3-7. 스케일링\n",
    "# 스케일링할 컬럼 없음"
   ]
  },
  {
   "cell_type": "code",
   "execution_count": 39,
   "id": "f8fb1d43",
   "metadata": {},
   "outputs": [],
   "source": [
    "###### STEP3-8. 입력 데이터셋 준비\n",
    "import numpy as np\n",
    "\n",
    "# 인코딩과 스케일링된 넘파이 배열 연결\n",
    "X_TRAIN = X_TRAIN_OH\n",
    "X_VAL = X_VAL_OH\n",
    "\n",
    "# 1차원 넘파이배열로 평탄화\n",
    "y_TRAIN = y_TRAIN.values.ravel()\n",
    "y_VAL = y_VAL.values.ravel()"
   ]
  },
  {
   "cell_type": "code",
   "execution_count": 40,
   "id": "d4e19866",
   "metadata": {},
   "outputs": [],
   "source": [
    "##### STEP4. 모델 학습\n",
    "from sklearn.ensemble import RandomForestRegressor\n",
    "from xgboost import XGBRegressor\n",
    "from lightgbm import LGBMRegressor\n",
    "\n",
    "###### STEP4-1. random forest\n",
    "rf = RandomForestRegressor(n_estimators = 500,\n",
    "                           max_depth = 3,\n",
    "                           min_samples_leaf = 10,\n",
    "                           max_features = 2,\n",
    "                           random_state = 2022)\n",
    "\n",
    "model_rf = rf.fit(X_TRAIN, y_TRAIN)\n",
    "\n",
    "###### STEP4-2. XGBoost\n",
    "xgb = XGBRegressor(max_depth = 8,\n",
    "                   n_estimators = 500,\n",
    "                   nthread = 5,\n",
    "                   min_child_weight = 20,\n",
    "                   gamma = 0.5,\n",
    "                   objective = 'reg:squarederror',\n",
    "                   use_label_encoder = False,\n",
    "                   random_state = 2022)\n",
    "\n",
    "model_xgb = xgb.fit(X_TRAIN, y_TRAIN)\n",
    "\n",
    "###### STEP4-3. LightGBM\n",
    "lgb = LGBMRegressor(max_depth = 8,\n",
    "                    n_estimators = 500,\n",
    "                    n_jobs = 30,\n",
    "                    min_child_weight = 10,\n",
    "                    learning_rate = 0.2,\n",
    "                    objective = 'regression',\n",
    "                    random_state = 2022)\n",
    "\n",
    "model_lgb = lgb.fit(X_TRAIN, y_TRAIN)"
   ]
  },
  {
   "cell_type": "code",
   "execution_count": 41,
   "id": "66496a2a",
   "metadata": {},
   "outputs": [
    {
     "name": "stdout",
     "output_type": "stream",
     "text": [
      "3890.5911682476026\n",
      "2592.1730947021747\n",
      "2523.4959648495173\n"
     ]
    }
   ],
   "source": [
    "###### STEP4-4. 성능평가(기준:MAE)를 통한 모델 선정\n",
    "from sklearn.metrics import mean_absolute_error\n",
    "\n",
    "# 검증용 데이터셋을 통한 예측\n",
    "pred_rf = model_rf.predict(X_VAL)\n",
    "pred_xgb = model_xgb.predict(X_VAL)\n",
    "pred_lgb = model_lgb.predict(X_VAL)\n",
    "\n",
    "# MAE 계산\n",
    "mae_rf = mean_absolute_error(y_VAL, pred_rf)\n",
    "print(mae_rf)\n",
    "\n",
    "mae_xgb = mean_absolute_error(y_VAL, pred_xgb)\n",
    "print(mae_xgb)\n",
    "\n",
    "mae_lgb = mean_absolute_error(y_VAL, pred_lgb)\n",
    "print(mae_lgb)"
   ]
  },
  {
   "cell_type": "code",
   "execution_count": 42,
   "id": "b6fc23a5",
   "metadata": {},
   "outputs": [],
   "source": [
    "##### STEP5. 결과 제출하기\n",
    "###### 실제 시험에서 답 제출시에는 성능이 가장 우수한 모형 하나만 구현!\n",
    "X_TEST = X_TEST_OH\n",
    "y_pred = model_lgb.predict(X_TEST)\n",
    "\n",
    "# 문제에서 요구하는 형태로 변환 필요\n",
    "obj = {'User_ID' : User_ID,\n",
    "       'Purchase' : y_pred}\n",
    "result = pd.DataFrame(obj)\n",
    "\n",
    "# 하위에 12345.csv 이름으로 저장하기\n",
    "result.to_csv(\"12345.csv\", index = False)"
   ]
  },
  {
   "cell_type": "code",
   "execution_count": 43,
   "id": "134dbe0b",
   "metadata": {},
   "outputs": [
    {
     "data": {
      "text/plain": [
       "2556.0031980180756"
      ]
     },
     "execution_count": 43,
     "metadata": {},
     "output_type": "execute_result"
    }
   ],
   "source": [
    "##### STEP6. 채점 모델 평가(번외)\n",
    "# 실제값\n",
    "actual = pd.read_csv('data/모의고사/02회/BlackFriday_y_test.csv', encoding = 'cp949')\n",
    "actual = actual['Purchase'].ravel()\n",
    "\n",
    "# 채점 기준이 될 성과지표 값\n",
    "mean_absolute_error(actual, y_pred)"
   ]
  },
  {
   "cell_type": "markdown",
   "id": "2eb9f9b6",
   "metadata": {},
   "source": [
    "# (끝)"
   ]
  }
 ],
 "metadata": {
  "hide_input": false,
  "kernelspec": {
   "display_name": "Python 3 (ipykernel)",
   "language": "python",
   "name": "python3"
  },
  "language_info": {
   "codemirror_mode": {
    "name": "ipython",
    "version": 3
   },
   "file_extension": ".py",
   "mimetype": "text/x-python",
   "name": "python",
   "nbconvert_exporter": "python",
   "pygments_lexer": "ipython3",
   "version": "3.9.12"
  },
  "toc": {
   "base_numbering": 1,
   "nav_menu": {},
   "number_sections": false,
   "sideBar": true,
   "skip_h1_title": false,
   "title_cell": "Table of Contents",
   "title_sidebar": "Contents",
   "toc_cell": false,
   "toc_position": {
    "height": "calc(100% - 180px)",
    "left": "10px",
    "top": "150px",
    "width": "240px"
   },
   "toc_section_display": true,
   "toc_window_display": false
  },
  "varInspector": {
   "cols": {
    "lenName": 16,
    "lenType": 16,
    "lenVar": 40
   },
   "kernels_config": {
    "python": {
     "delete_cmd_postfix": "",
     "delete_cmd_prefix": "del ",
     "library": "var_list.py",
     "varRefreshCmd": "print(var_dic_list())"
    },
    "r": {
     "delete_cmd_postfix": ") ",
     "delete_cmd_prefix": "rm(",
     "library": "var_list.r",
     "varRefreshCmd": "cat(var_dic_list()) "
    }
   },
   "types_to_exclude": [
    "module",
    "function",
    "builtin_function_or_method",
    "instance",
    "_Feature"
   ],
   "window_display": false
  }
 },
 "nbformat": 4,
 "nbformat_minor": 5
}
