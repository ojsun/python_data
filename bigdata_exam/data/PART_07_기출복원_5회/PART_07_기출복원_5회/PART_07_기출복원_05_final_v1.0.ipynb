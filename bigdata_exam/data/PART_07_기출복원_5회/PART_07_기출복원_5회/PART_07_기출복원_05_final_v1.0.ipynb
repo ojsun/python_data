{
 "cells": [
  {
   "cell_type": "markdown",
   "id": "d6a2abea",
   "metadata": {},
   "source": [
    "## 기출복원 5회"
   ]
  },
  {
   "cell_type": "markdown",
   "id": "e7e22c41",
   "metadata": {},
   "source": [
    "### (작업형1) "
   ]
  },
  {
   "cell_type": "markdown",
   "id": "8e175d52",
   "metadata": {},
   "source": [
    "#### 1.아래는 공공데이터 포털에서 제공하는 폐기물관리법」에 따른 지방자치단체별생활쓰레기 및 음식물쓰레기 종량제 봉투 가격에 대한 정보와 관련된 데이터의 일부이다. 전국의 2L 음식물쓰레기 규격봉투의 평균 가격을 계산하여라.(단, 평균 계산 시가격이 0원인 경우는 제외하고 결과는 소숫점을 버리고 정수로 출력할 것)"
   ]
  },
  {
   "cell_type": "code",
   "execution_count": 1,
   "id": "e81ced46",
   "metadata": {},
   "outputs": [
    {
     "name": "stdout",
     "output_type": "stream",
     "text": [
      "119\n"
     ]
    }
   ],
   "source": [
    "#### 기출복원 05회 01 Solution\n",
    "import pandas as pd\n",
    "exam1 = pd.read_csv('data/기출복원/05회/전국_종량제봉투_가격표준.csv', encoding = 'cp949')\n",
    "\n",
    "##### 음식물쓰레기 규격봉투(종량제 봉투 종류가 '규격봉투'이고 용도가 '음식물쓰레기')인 조건\n",
    "cond1 = (exam1['종량제봉투종류']  == '규격봉투') & ( exam1['종량제봉투용도']  == '음식물쓰레기')\n",
    "\n",
    "##### 2L 음식물쓰레기 규격봉투의 평균 가격\n",
    "# 가격\n",
    "price = exam1.loc[cond1, '2L가격'].copy()\n",
    "\n",
    "# 평균(0원 제외)\n",
    "avg_price = price[price > 0].mean()\n",
    "\n",
    "##### 결과 저장\n",
    "result = avg_price.astype('int')\n",
    "\n",
    "##### 결과 출력\n",
    "print(result)"
   ]
  },
  {
   "cell_type": "markdown",
   "id": "461efb38",
   "metadata": {},
   "source": [
    "--- "
   ]
  },
  {
   "cell_type": "markdown",
   "id": "1375c428",
   "metadata": {},
   "source": [
    "#### 2. 주어진 데이터를 통해 BMI를 계산한 후 정상 체중에 속하는 인원과 과체중에 속하는 인원의 차이에 대한 절대값을 구하여라.(단, 출력시 정수로 출력할 것) 여기서 BMI는 몸무게/키의 제곱(몸무게의 단위는 kg, 키의 단위는 m)으로 계산되며, 아래와 같은 기준으로 분류된다\n",
    "* 18.5 미만이면 저체중\n",
    "* 18.5 이상이고 23.0미만이면 정상체중\n",
    "* 23.0 이상이고 25.0미만이면 과체중\n",
    "* 25.0 이상이면 비만"
   ]
  },
  {
   "cell_type": "code",
   "execution_count": 2,
   "id": "77b42abe",
   "metadata": {},
   "outputs": [
    {
     "name": "stdout",
     "output_type": "stream",
     "text": [
      "130\n"
     ]
    }
   ],
   "source": [
    "#### 기출복원 05회 02 Solution\n",
    "import pandas as pd\n",
    "import numpy as np\n",
    "exam2 = pd.read_csv('data/기출복원/05회/bmi.csv')\n",
    "\n",
    "#### BMI 계산\n",
    "# Height 컬럼과 Weight 컬럼 각각 할당\n",
    "Height = exam2['Height']\n",
    "Weight = exam2['Weight'] \n",
    "\n",
    "# BMI 계산\n",
    "bmi = Weight/(Height/100)**2\n",
    "\n",
    "#### 정상 체중에 속하는 인원과 과체중에 속하는 인원의 차이에 대한 절대값 계산\n",
    "# 정상 체중인 사람의 수\n",
    "a = sum((bmi >= 18.5) & (bmi < 23.0))\n",
    "\n",
    "# 과체중인 사람의 수\n",
    "b = sum((bmi >= 23.0) & (bmi < 25.0))\n",
    "\n",
    "#### 차이에 대한 절대값 결과 저장\n",
    "result = abs(a - b)\n",
    "\n",
    "##### 결과 출력\n",
    "print(result)"
   ]
  },
  {
   "cell_type": "markdown",
   "id": "ee619b6b",
   "metadata": {},
   "source": [
    "--- "
   ]
  },
  {
   "cell_type": "markdown",
   "id": "1500ff9f",
   "metadata": {},
   "source": [
    "#### 3. 다음은 학교알리미에서 제공하는 공개용데이터의 일부로 부산광역시 교육청 산하의 초등학교의 전출입 현황이다. 순전입학생의 수가 가장 많은 순전입학교의 전체학생수를 구하라. 여기서 순전입학생의 수는 총 전입학생의 수 - 총 전출학생의 수로 계산되며, 순전입학교는 총 전입학생의 수가 총 전출학생의 수보다 많은 학교를 의미한다."
   ]
  },
  {
   "cell_type": "code",
   "execution_count": 3,
   "id": "67abb715",
   "metadata": {},
   "outputs": [
    {
     "name": "stdout",
     "output_type": "stream",
     "text": [
      "577\n"
     ]
    }
   ],
   "source": [
    "#### 기출복원 05회 03 Solution\n",
    "import pandas as pd\n",
    "exam3 = pd.read_csv('data/기출복원/05회/2022_부산초등학교_전출입학생현황.csv', encoding = 'cp949')\n",
    "\n",
    "##### 순전입학생 수가 가장 많은 순전입학교\n",
    "# 순전입학생수 계산\n",
    "exam3['순전입학생수'] = exam3['전입학생수합계'] - exam3['전출학생수합계']\n",
    "\n",
    "# 순전입학교는 총 전입학생의 수가 총 전출학생수보다 많은 학교\n",
    "# 즉, 순전입학생수(총 전입학생의 수 - 총 전출학생의 수) > 0 인 학교가 됨\n",
    "# 순전입학교 = exam3[exam3['순전입학생수'] > 0].copy()를 통해 인덱싱한 후 구해도 되지만\n",
    "# 순전입학교가 아닌 경우는 어차피 순전입학생수가 음수(0포함)이기 때문에 최댓값의 결과가 바뀌지 않음\n",
    "# 따라서 별도의 인덱싱 없이 바로 최댓값을 구하면 됨\n",
    "\n",
    "# 순전입학생 수가 가장 많은 경우의 행 인덱스 번호\n",
    "idx_max = exam3['순전입학생수'].argmax()\n",
    "\n",
    "#### 최종 결과 저장\n",
    "result = exam3['전체학생수합계'][idx_max]\n",
    "\n",
    "##### 결과 출력\n",
    "print(result)"
   ]
  },
  {
   "cell_type": "markdown",
   "id": "e4774c95",
   "metadata": {},
   "source": [
    "### (작업형2) "
   ]
  },
  {
   "cell_type": "markdown",
   "id": "bcf61461",
   "metadata": {},
   "source": [
    "---"
   ]
  },
  {
   "cell_type": "markdown",
   "id": "e52e2b73",
   "metadata": {},
   "source": [
    "1. 아래는 중고 포드(Ford) 자동차의 가격 예측을 위한 데이터의 일부이다.\n",
    "13,470대에 대한 학습용 데이터를 이용하여 가격 예측 모형을 만든 후 이를 평가용 데이터에 적용하여 얻은 4,490대 예측 가격을 다음과 같은 형식의 CSV 파일로 생성하시오.(제출한 모델의 성능은 RMSE 평가지표에 따라 채점)"
   ]
  },
  {
   "cell_type": "code",
   "execution_count": 4,
   "id": "221bda30",
   "metadata": {},
   "outputs": [],
   "source": [
    "#### 기출복원 05회차 작업형2 Solution\n",
    "\n",
    "##### STEP1. 데이터셋 불러오기\n",
    "import pandas as pd\n",
    "train = pd.read_csv('data/기출복원/05회/carprice_train.csv')\n",
    "test = pd.read_csv('data/기출복원/05회/carprice_test.csv')\n",
    "\n",
    "# train 데이터를 X_train과 y_train으로 분할\n",
    "y_train = train['price'].copy()\n",
    "X_train = train.drop('price', axis = 1)\n",
    "\n",
    "# test도 통일을 위해 X_test로 할당\n",
    "X_test = test"
   ]
  },
  {
   "cell_type": "code",
   "execution_count": 5,
   "id": "176cd723",
   "metadata": {},
   "outputs": [
    {
     "name": "stdout",
     "output_type": "stream",
     "text": [
      "    model  year transmission  mileage fuelType  tax   mpg  engineSize\n",
      "0    Kuga  2017       Manual    12109   Petrol  165  45.6         1.5\n",
      "1    Kuga  2018       Manual    12125   Diesel  145  54.3         1.5\n",
      "2    Kuga  2016       Manual    31288   Diesel  125  60.1         2.0\n",
      "3  Fiesta  2018       Manual    28528   Petrol  145  65.7         1.0\n",
      "4  Fiesta  2017       Manual     2690   Petrol  145  65.7         1.0\n",
      "    model  year transmission  mileage fuelType  tax   mpg  engineSize\n",
      "0    Kuga  2019    Automatic     6894   Diesel  145  42.2         2.0\n",
      "1    Kuga  2018    Semi-Auto     9002   Diesel  145  54.3         2.0\n",
      "2    Kuga  2014       Manual    59000   Diesel  160  47.9         2.0\n",
      "3  Fiesta  2017       Manual    25000   Petrol  125  54.3         1.2\n",
      "4  Fiesta  2017       Manual    15612   Petrol  145  65.7         1.0\n",
      "0    14450\n",
      "1    17500\n",
      "2    14800\n",
      "3    11000\n",
      "4    11330\n",
      "Name: price, dtype: int64\n"
     ]
    }
   ],
   "source": [
    "##### STEP2. 데이터셋 확인하기\n",
    "###### STEP2-1. 데이터셋 일부 확인\n",
    "print(X_train.head())\n",
    "print(X_test.head())\n",
    "print(y_train.head())"
   ]
  },
  {
   "cell_type": "code",
   "execution_count": 6,
   "id": "d38d99da",
   "metadata": {},
   "outputs": [
    {
     "name": "stdout",
     "output_type": "stream",
     "text": [
      "<class 'pandas.core.frame.DataFrame'>\n",
      "RangeIndex: 13470 entries, 0 to 13469\n",
      "Data columns (total 8 columns):\n",
      " #   Column        Non-Null Count  Dtype  \n",
      "---  ------        --------------  -----  \n",
      " 0   model         13470 non-null  object \n",
      " 1   year          13470 non-null  int64  \n",
      " 2   transmission  13470 non-null  object \n",
      " 3   mileage       13470 non-null  int64  \n",
      " 4   fuelType      13470 non-null  object \n",
      " 5   tax           13470 non-null  int64  \n",
      " 6   mpg           13470 non-null  float64\n",
      " 7   engineSize    13470 non-null  float64\n",
      "dtypes: float64(2), int64(3), object(3)\n",
      "memory usage: 842.0+ KB\n",
      "None\n",
      "<class 'pandas.core.frame.DataFrame'>\n",
      "RangeIndex: 4490 entries, 0 to 4489\n",
      "Data columns (total 8 columns):\n",
      " #   Column        Non-Null Count  Dtype  \n",
      "---  ------        --------------  -----  \n",
      " 0   model         4490 non-null   object \n",
      " 1   year          4490 non-null   int64  \n",
      " 2   transmission  4490 non-null   object \n",
      " 3   mileage       4490 non-null   int64  \n",
      " 4   fuelType      4490 non-null   object \n",
      " 5   tax           4490 non-null   int64  \n",
      " 6   mpg           4490 non-null   float64\n",
      " 7   engineSize    4490 non-null   float64\n",
      "dtypes: float64(2), int64(3), object(3)\n",
      "memory usage: 280.8+ KB\n",
      "None\n",
      "<class 'pandas.core.series.Series'>\n",
      "RangeIndex: 13470 entries, 0 to 13469\n",
      "Series name: price\n",
      "Non-Null Count  Dtype\n",
      "--------------  -----\n",
      "13470 non-null  int64\n",
      "dtypes: int64(1)\n",
      "memory usage: 105.4 KB\n",
      "None\n"
     ]
    }
   ],
   "source": [
    "###### STEP2-2. 데이터셋 요약 정보 확인\n",
    "print(X_train.info())\n",
    "print(X_test.info())\n",
    "print(y_train.info())"
   ]
  },
  {
   "cell_type": "code",
   "execution_count": 7,
   "id": "658ebeb9",
   "metadata": {},
   "outputs": [
    {
     "name": "stdout",
     "output_type": "stream",
     "text": [
      "               year        mileage           tax           mpg    engineSize\n",
      "count  13470.000000   13470.000000  13470.000000  13470.000000  13470.000000\n",
      "mean    2016.865999   23460.269488    113.532442     57.929013      1.347892\n",
      "std        2.014225   19710.071423     62.385191     10.231344      0.433002\n",
      "min     2000.000000       1.000000      0.000000     20.800000      0.000000\n",
      "25%     2016.000000    9968.250000     30.000000     52.300000      1.000000\n",
      "50%     2017.000000   18234.000000    145.000000     58.900000      1.200000\n",
      "75%     2018.000000   31095.250000    145.000000     65.700000      1.500000\n",
      "max     2020.000000  174000.000000    580.000000    201.800000      5.000000\n",
      "              year        mileage          tax          mpg   engineSize\n",
      "count  4490.000000    4490.000000  4490.000000  4490.000000  4490.000000\n",
      "mean   2016.867929   23057.370824   112.731626    57.846860     1.359042\n",
      "std       2.014687   18739.830661    60.793688     9.794828     0.430301\n",
      "min    2003.000000       1.000000     0.000000    20.800000     0.000000\n",
      "25%    2016.000000   10010.500000    30.000000    52.300000     1.000000\n",
      "50%    2017.000000   18249.000000   145.000000    58.900000     1.200000\n",
      "75%    2018.000000   31000.000000   145.000000    65.700000     1.600000\n",
      "max    2020.000000  177644.000000   570.000000    88.300000     5.000000\n",
      "count    13470.000000\n",
      "mean     12266.332888\n",
      "std       4731.673348\n",
      "min        675.000000\n",
      "25%       8999.000000\n",
      "50%      11272.500000\n",
      "75%      15250.000000\n",
      "max      54995.000000\n",
      "Name: price, dtype: float64\n"
     ]
    }
   ],
   "source": [
    "###### STEP2-3. 기초통계량 확인\n",
    "print(X_train.describe())\n",
    "print(X_test.describe())\n",
    "print(y_train.describe())"
   ]
  },
  {
   "cell_type": "code",
   "execution_count": 8,
   "id": "46655c91",
   "metadata": {},
   "outputs": [],
   "source": [
    "##### STEP3. 데이터셋 전처리\n",
    "###### STEP3-1. 불필요한 컬럼 삭제\n",
    "# 다른 문제들과 달리 고유번호는 없음"
   ]
  },
  {
   "cell_type": "code",
   "execution_count": 9,
   "id": "f0b69503",
   "metadata": {},
   "outputs": [
    {
     "data": {
      "text/plain": [
       "model           0\n",
       "year            0\n",
       "transmission    0\n",
       "mileage         0\n",
       "fuelType        0\n",
       "tax             0\n",
       "mpg             0\n",
       "engineSize      0\n",
       "dtype: int64"
      ]
     },
     "execution_count": 9,
     "metadata": {},
     "output_type": "execute_result"
    }
   ],
   "source": [
    "###### STEP3-2. 결측치 처리\n",
    "# 결측치 확인\n",
    "X_train.isna().sum()"
   ]
  },
  {
   "cell_type": "code",
   "execution_count": 10,
   "id": "fc87d269",
   "metadata": {},
   "outputs": [
    {
     "data": {
      "text/plain": [
       "model           0\n",
       "year            0\n",
       "transmission    0\n",
       "mileage         0\n",
       "fuelType        0\n",
       "tax             0\n",
       "mpg             0\n",
       "engineSize      0\n",
       "dtype: int64"
      ]
     },
     "execution_count": 10,
     "metadata": {},
     "output_type": "execute_result"
    }
   ],
   "source": [
    "X_test.isna().sum()"
   ]
  },
  {
   "cell_type": "code",
   "execution_count": 11,
   "id": "7545ab33",
   "metadata": {
    "scrolled": true
   },
   "outputs": [],
   "source": [
    "###### STEP3-3. 카테고리형 컬럼 전처리\n",
    "# 별도 과정이 없으므로 생략"
   ]
  },
  {
   "cell_type": "code",
   "execution_count": 12,
   "id": "b348c09a",
   "metadata": {},
   "outputs": [],
   "source": [
    "###### STEP3-4. 수치형 컬럼 전처리\n",
    "####### year 컬럼\n",
    "# 제작 연도로 범주형의 의미를 가짐, object형으로 변경\n",
    "X_train['year'] = X_train['year'].astype('object')\n",
    "X_test['year'] = X_test['year'].astype('object')"
   ]
  },
  {
   "cell_type": "code",
   "execution_count": 13,
   "id": "40ffe87e",
   "metadata": {},
   "outputs": [
    {
     "name": "stdout",
     "output_type": "stream",
     "text": [
      "(10776, 8)\n",
      "(2694, 8)\n",
      "(10776,)\n",
      "(2694,)\n"
     ]
    }
   ],
   "source": [
    "###### STEP3-5. 데이터 분할\n",
    "from sklearn.model_selection import train_test_split\n",
    "\n",
    "# X_train과 y_train을 학습용(X_TRAIN, y_TRAIN)과 검증용(X_VAL, y_VAL)로 분할\n",
    "X_TRAIN, X_VAL, y_TRAIN, y_VAL = train_test_split(X_train, y_train, random_state = 307, test_size = 0.2)\n",
    "\n",
    "# 분할 후 shape 확인\n",
    "print(X_TRAIN.shape)\n",
    "print(X_VAL.shape)\n",
    "print(y_TRAIN.shape)\n",
    "print(y_VAL.shape)"
   ]
  },
  {
   "cell_type": "code",
   "execution_count": 14,
   "id": "fe5010bf",
   "metadata": {},
   "outputs": [],
   "source": [
    "###### STEP3-6. 인코딩\n",
    "# 카테고리형 컬럼에 대하여 원-핫 인코딩 수행\n",
    "from sklearn.preprocessing import OneHotEncoder\n",
    "\n",
    "# 인코딩할 카테고리형 컬럼만 별도 저장\n",
    "X_TRAIN_category = X_TRAIN.select_dtypes('object').copy()\n",
    "X_VAL_category = X_VAL.select_dtypes('object').copy()\n",
    "X_TEST_category = X_test.select_dtypes('object').copy()\n",
    "\n",
    "# 원-핫 인코딩\n",
    "enc = OneHotEncoder(sparse = False).fit(X_TRAIN_category)\n",
    "X_TRAIN_OH = enc.transform(X_TRAIN_category)\n",
    "X_VAL_OH = enc.transform(X_VAL_category)\n",
    "X_TEST_OH = enc.transform(X_TEST_category)"
   ]
  },
  {
   "cell_type": "code",
   "execution_count": 15,
   "id": "98604aca",
   "metadata": {},
   "outputs": [],
   "source": [
    "###### STEP3-7. 스케일링\n",
    "from sklearn.preprocessing import StandardScaler\n",
    "\n",
    "# 스케일링할 컬럼만 별도 저장\n",
    "# .select_dtypes() 메소드의 exclude 옵션은 해당 dtype을 제외한 모든 dtype을 추출할 때 사용\n",
    "X_TRAIN_conti = X_TRAIN.select_dtypes(exclude = 'object').copy()\n",
    "X_VAL_conti = X_VAL.select_dtypes(exclude = 'object').copy()\n",
    "X_TEST_conti = X_test.select_dtypes(exclude = 'object').copy()\n",
    "\n",
    "# TRAIN 데이터 기준으로 스케일링함\n",
    "scale = StandardScaler().fit(X_TRAIN_conti)\n",
    "\n",
    "# z-점수 표준화\n",
    "X_TRAIN_STD = scale.transform(X_TRAIN_conti)\n",
    "X_VAL_STD = scale.transform(X_VAL_conti)\n",
    "X_TEST_STD = scale.transform(X_TEST_conti)"
   ]
  },
  {
   "cell_type": "code",
   "execution_count": 16,
   "id": "f8fb1d43",
   "metadata": {},
   "outputs": [],
   "source": [
    "###### STEP3-8. 입력 데이터셋 준비\n",
    "import numpy as np\n",
    "\n",
    "# 인코딩과 스케일링된 넘파이 배열 연결\n",
    "X_TRAIN = np.concatenate([X_TRAIN_OH, X_TRAIN_STD], axis = 1)\n",
    "X_VAL = np.concatenate([X_VAL_OH, X_VAL_STD], axis = 1)\n",
    "\n",
    "# 1차원 넘파이 배열로 평탄화\n",
    "y_TRAIN = y_TRAIN.values.ravel()\n",
    "y_VAL = y_VAL.values.ravel()"
   ]
  },
  {
   "cell_type": "code",
   "execution_count": 17,
   "id": "d4e19866",
   "metadata": {},
   "outputs": [
    {
     "name": "stderr",
     "output_type": "stream",
     "text": [
      "c:\\Users\\Administrator\\anaconda3\\envs\\big_ana\\lib\\site-packages\\xgboost\\compat.py:31: FutureWarning: pandas.Int64Index is deprecated and will be removed from pandas in a future version. Use pandas.Index with the appropriate dtype instead.\n",
      "  from pandas import MultiIndex, Int64Index\n"
     ]
    }
   ],
   "source": [
    "##### STEP4. 모델 학습\n",
    "from sklearn.ensemble import RandomForestRegressor\n",
    "from xgboost import XGBRegressor\n",
    "from lightgbm import LGBMRegressor\n",
    "\n",
    "###### STEP4-1. random forest\n",
    "rf = RandomForestRegressor(n_estimators = 100,\n",
    "                           max_depth = 3,\n",
    "                           min_samples_leaf = 10,\n",
    "                           max_features = 30,\n",
    "                           random_state = 2023)\n",
    "\n",
    "model_rf = rf.fit(X_TRAIN, y_TRAIN)\n",
    "\n",
    "###### STEP4-2. XGBoost\n",
    "xgb = XGBRegressor(n_estimators = 100,\n",
    "                   nthread = 5,\n",
    "                   min_child_weight = 20,\n",
    "                   gamma = 0.5,\n",
    "                   objective = 'reg:squarederror',\n",
    "                   use_label_encoder = False,\n",
    "                   random_state = 2023)\n",
    "\n",
    "model_xgb = xgb.fit(X_TRAIN, y_TRAIN, eval_metric = 'rmse')\n",
    "\n",
    "###### STEP4-3. LightGBM\n",
    "lgb = LGBMRegressor(max_depth = 8,\n",
    "                    n_estimators = 100,\n",
    "                    n_jobs = 30,\n",
    "                    min_child_weight = 10,\n",
    "                    learning_rate = 0.2,\n",
    "                    objective = 'regression',\n",
    "                    random_state = 2023)\n",
    "\n",
    "model_lgb = lgb.fit(X_TRAIN, y_TRAIN)"
   ]
  },
  {
   "cell_type": "code",
   "execution_count": 18,
   "id": "66496a2a",
   "metadata": {},
   "outputs": [
    {
     "name": "stdout",
     "output_type": "stream",
     "text": [
      "2934.4510670506615\n",
      "1441.2305366207388\n",
      "1438.5125347894189\n"
     ]
    }
   ],
   "source": [
    "###### STEP4-4. 성능평가(기준:rmse)를 통한 모델 선정\n",
    "from sklearn.metrics import mean_squared_error\n",
    "\n",
    "# 검증용 데이터셋을 통한 예측\n",
    "pred_rf = model_rf.predict(X_VAL)\n",
    "pred_xgb = model_xgb.predict(X_VAL)\n",
    "pred_lgb = model_lgb.predict(X_VAL)\n",
    "\n",
    "# RMSE 계산\n",
    "rmse_rf = mean_squared_error(y_VAL, pred_rf, squared = False)\n",
    "print(rmse_rf)\n",
    "\n",
    "rmse_xgb = mean_squared_error(y_VAL, pred_xgb, squared = False)\n",
    "print(rmse_xgb)\n",
    "\n",
    "rmse_lgb = mean_squared_error(y_VAL, pred_lgb, squared = False)\n",
    "print(rmse_lgb)"
   ]
  },
  {
   "cell_type": "code",
   "execution_count": 19,
   "id": "b6fc23a5",
   "metadata": {},
   "outputs": [],
   "source": [
    "##### STEP5. 결과 제출하기\n",
    "###### 실제 시험에서 답 제출시에는 성능이 가장 우수한 모형 하나만 구현!\n",
    "X_TEST = np.concatenate([X_TEST_OH, X_TEST_STD], axis = 1)\n",
    "y_pred = model_lgb.predict(X_TEST)\n",
    "\n",
    "# 문제에서 요구하는 형태로 변환 필요\n",
    "obj = {'pred' : y_pred}\n",
    "result = pd.DataFrame(obj)\n",
    "\n",
    "# 하위에 result.csv 이름으로 저장하기\n",
    "result.to_csv(\"result.csv\", index = False)"
   ]
  },
  {
   "cell_type": "code",
   "execution_count": 20,
   "id": "134dbe0b",
   "metadata": {},
   "outputs": [
    {
     "data": {
      "text/plain": [
       "1208.2992131151666"
      ]
     },
     "execution_count": 20,
     "metadata": {},
     "output_type": "execute_result"
    }
   ],
   "source": [
    "##### STEP6. 채점 모델 평가(번외)\n",
    "# 실제값\n",
    "actual = pd.read_csv('data/기출복원/05회/carprice_y_test.csv')\n",
    "actual = actual['price'].ravel()\n",
    "\n",
    "# 채점 기준이 될 성과지표 값\n",
    "mean_squared_error(actual, y_pred, squared = False)"
   ]
  },
  {
   "cell_type": "markdown",
   "id": "e404056f",
   "metadata": {},
   "source": [
    "# (끝)"
   ]
  }
 ],
 "metadata": {
  "hide_input": false,
  "kernelspec": {
   "display_name": "Python 3.9.12 ('big_ana')",
   "language": "python",
   "name": "python3"
  },
  "language_info": {
   "codemirror_mode": {
    "name": "ipython",
    "version": 3
   },
   "file_extension": ".py",
   "mimetype": "text/x-python",
   "name": "python",
   "nbconvert_exporter": "python",
   "pygments_lexer": "ipython3",
   "version": "3.9.12"
  },
  "toc": {
   "base_numbering": 1,
   "nav_menu": {},
   "number_sections": false,
   "sideBar": true,
   "skip_h1_title": false,
   "title_cell": "Table of Contents",
   "title_sidebar": "Contents",
   "toc_cell": false,
   "toc_position": {},
   "toc_section_display": true,
   "toc_window_display": false
  },
  "varInspector": {
   "cols": {
    "lenName": 16,
    "lenType": 16,
    "lenVar": 40
   },
   "kernels_config": {
    "python": {
     "delete_cmd_postfix": "",
     "delete_cmd_prefix": "del ",
     "library": "var_list.py",
     "varRefreshCmd": "print(var_dic_list())"
    },
    "r": {
     "delete_cmd_postfix": ") ",
     "delete_cmd_prefix": "rm(",
     "library": "var_list.r",
     "varRefreshCmd": "cat(var_dic_list()) "
    }
   },
   "types_to_exclude": [
    "module",
    "function",
    "builtin_function_or_method",
    "instance",
    "_Feature"
   ],
   "window_display": false
  },
  "vscode": {
   "interpreter": {
    "hash": "8bbdb56d299695e3a3c4ef02bd03413b014f384611b750aa7ada07f93fef99b9"
   }
  }
 },
 "nbformat": 4,
 "nbformat_minor": 5
}
