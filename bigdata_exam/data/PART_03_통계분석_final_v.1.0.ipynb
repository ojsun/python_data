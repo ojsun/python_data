{
 "cells": [
  {
   "cell_type": "markdown",
   "id": "c65b1643",
   "metadata": {},
   "source": [
    "### PART 03) 통계분석"
   ]
  },
  {
   "cell_type": "markdown",
   "id": "4e1be88e",
   "metadata": {},
   "source": [
    "## 1장. 상관분석"
   ]
  },
  {
   "cell_type": "markdown",
   "id": "8e175d52",
   "metadata": {},
   "source": [
    "### 1절. SciPy를 활용한 상관분석"
   ]
  },
  {
   "cell_type": "code",
   "execution_count": 1,
   "id": "98c7f5d7",
   "metadata": {},
   "outputs": [
    {
     "name": "stdout",
     "output_type": "stream",
     "text": [
      "<class 'pandas.core.frame.DataFrame'>\n",
      "RangeIndex: 442 entries, 0 to 441\n",
      "Data columns (total 10 columns):\n",
      " #   Column  Non-Null Count  Dtype  \n",
      "---  ------  --------------  -----  \n",
      " 0   age     442 non-null    float64\n",
      " 1   sex     442 non-null    float64\n",
      " 2   bmi     442 non-null    float64\n",
      " 3   bp      442 non-null    float64\n",
      " 4   s1      442 non-null    float64\n",
      " 5   s2      442 non-null    float64\n",
      " 6   s3      442 non-null    float64\n",
      " 7   s4      442 non-null    float64\n",
      " 8   s5      442 non-null    float64\n",
      " 9   s6      442 non-null    float64\n",
      "dtypes: float64(10)\n",
      "memory usage: 34.7 KB\n"
     ]
    }
   ],
   "source": [
    "# 데이터 호출한 후 데이터프레임으로 변환\n",
    "import pandas as pd\n",
    "from sklearn.datasets import load_diabetes \n",
    "\n",
    "diabetes = load_diabetes()\n",
    "data = pd.DataFrame(diabetes.data, columns = diabetes.feature_names)\n",
    "data.info() # 확인"
   ]
  },
  {
   "cell_type": "code",
   "execution_count": 3,
   "id": "9a3966de",
   "metadata": {},
   "outputs": [
    {
     "data": {
      "text/plain": [
       "(0.18508466614655558, 9.076791865412659e-05)"
      ]
     },
     "execution_count": 3,
     "metadata": {},
     "output_type": "execute_result"
    }
   ],
   "source": [
    "# scipy.stats.pearsonr\n",
    "from scipy.stats import pearsonr\n",
    "pearsonr(x = data['age'], y = data['bmi'])"
   ]
  },
  {
   "cell_type": "code",
   "execution_count": 2,
   "id": "c784ae43",
   "metadata": {},
   "outputs": [
    {
     "data": {
      "text/html": [
       "<div>\n",
       "<style scoped>\n",
       "    .dataframe tbody tr th:only-of-type {\n",
       "        vertical-align: middle;\n",
       "    }\n",
       "\n",
       "    .dataframe tbody tr th {\n",
       "        vertical-align: top;\n",
       "    }\n",
       "\n",
       "    .dataframe thead th {\n",
       "        text-align: right;\n",
       "    }\n",
       "</style>\n",
       "<table border=\"1\" class=\"dataframe\">\n",
       "  <thead>\n",
       "    <tr style=\"text-align: right;\">\n",
       "      <th></th>\n",
       "      <th>age</th>\n",
       "      <th>bmi</th>\n",
       "    </tr>\n",
       "  </thead>\n",
       "  <tbody>\n",
       "    <tr>\n",
       "      <th>age</th>\n",
       "      <td>1.000000</td>\n",
       "      <td>0.185085</td>\n",
       "    </tr>\n",
       "    <tr>\n",
       "      <th>bmi</th>\n",
       "      <td>0.185085</td>\n",
       "      <td>1.000000</td>\n",
       "    </tr>\n",
       "  </tbody>\n",
       "</table>\n",
       "</div>"
      ],
      "text/plain": [
       "          age       bmi\n",
       "age  1.000000  0.185085\n",
       "bmi  0.185085  1.000000"
      ]
     },
     "execution_count": 2,
     "metadata": {},
     "output_type": "execute_result"
    }
   ],
   "source": [
    "# 단순한 상관계수의 산출은 데이터프레임객체.corr()로도 가능\n",
    "data[['age', 'bmi']].corr()"
   ]
  },
  {
   "cell_type": "code",
   "execution_count": 3,
   "id": "ed186b06",
   "metadata": {},
   "outputs": [
    {
     "data": {
      "text/plain": [
       "SpearmanrResult(correlation=0.09807947297621517, pvalue=0.03929011358104615)"
      ]
     },
     "execution_count": 3,
     "metadata": {},
     "output_type": "execute_result"
    }
   ],
   "source": [
    "# scipy.stats.spearmanr\n",
    "from scipy.stats import spearmanr\n",
    "spearmanr(a = data['sex'], b = data['bmi'])"
   ]
  },
  {
   "cell_type": "code",
   "execution_count": 4,
   "id": "83904693",
   "metadata": {},
   "outputs": [
    {
     "data": {
      "text/html": [
       "<div>\n",
       "<style scoped>\n",
       "    .dataframe tbody tr th:only-of-type {\n",
       "        vertical-align: middle;\n",
       "    }\n",
       "\n",
       "    .dataframe tbody tr th {\n",
       "        vertical-align: top;\n",
       "    }\n",
       "\n",
       "    .dataframe thead th {\n",
       "        text-align: right;\n",
       "    }\n",
       "</style>\n",
       "<table border=\"1\" class=\"dataframe\">\n",
       "  <thead>\n",
       "    <tr style=\"text-align: right;\">\n",
       "      <th></th>\n",
       "      <th>sex</th>\n",
       "      <th>bmi</th>\n",
       "    </tr>\n",
       "  </thead>\n",
       "  <tbody>\n",
       "    <tr>\n",
       "      <th>sex</th>\n",
       "      <td>1.000000</td>\n",
       "      <td>0.098079</td>\n",
       "    </tr>\n",
       "    <tr>\n",
       "      <th>bmi</th>\n",
       "      <td>0.098079</td>\n",
       "      <td>1.000000</td>\n",
       "    </tr>\n",
       "  </tbody>\n",
       "</table>\n",
       "</div>"
      ],
      "text/plain": [
       "          sex       bmi\n",
       "sex  1.000000  0.098079\n",
       "bmi  0.098079  1.000000"
      ]
     },
     "execution_count": 4,
     "metadata": {},
     "output_type": "execute_result"
    }
   ],
   "source": [
    "# 단순한 상관계수의 산출은 데이터프레임객체.corr()로 가능\n",
    "# corr(method = 'spearman')은 스피어만 상관계수를 산출함\n",
    "data[['sex', 'bmi']].corr(method = 'spearman')"
   ]
  },
  {
   "cell_type": "markdown",
   "id": "e1861a0d",
   "metadata": {},
   "source": [
    "--- "
   ]
  },
  {
   "cell_type": "markdown",
   "id": "148ba980",
   "metadata": {},
   "source": [
    "## 2장. 회귀분석"
   ]
  },
  {
   "cell_type": "markdown",
   "id": "66819b82",
   "metadata": {},
   "source": [
    "### 1절. 선형 회귀분석"
   ]
  },
  {
   "cell_type": "markdown",
   "id": "63de0d1d",
   "metadata": {},
   "source": [
    "#### 1. SciPy를 활용한 단순 선형 회귀분석"
   ]
  },
  {
   "cell_type": "code",
   "execution_count": 5,
   "id": "fad75212",
   "metadata": {},
   "outputs": [
    {
     "name": "stdout",
     "output_type": "stream",
     "text": [
      "LinregressResult(slope=949.4352603839491, intercept=152.1334841628967, rvalue=0.5864501344746886, pvalue=3.4660064451672995e-42, stderr=62.51512200284676, intercept_stderr=2.973541118790735)\n"
     ]
    }
   ],
   "source": [
    "# 'target’ 컬럼 호출\n",
    "target = diabetes.target\n",
    "\n",
    "# 단순 선형회귀 모델 생성\n",
    "# scipy.stats.linregress()\n",
    "from scipy.stats import linregress\n",
    "model = linregress(x = data['bmi'], y = target)\n",
    "print(model) # 전체 결과"
   ]
  },
  {
   "cell_type": "code",
   "execution_count": 6,
   "id": "352c9953",
   "metadata": {},
   "outputs": [
    {
     "name": "stdout",
     "output_type": "stream",
     "text": [
      "949.4352603839491\n",
      "152.1334841628967\n",
      "3.4660064451672995e-42\n"
     ]
    }
   ],
   "source": [
    "# 독립변수에 대한 추정된 회귀계수(beta1)\n",
    "print(model.slope)\n",
    "\n",
    "# 상수항에 대한 추정된 회귀계수(beta0)\n",
    "print(model.intercept)\n",
    "\n",
    "# beta1에 대한 통계적 유의성(p-value)\n",
    "print(model.pvalue)"
   ]
  },
  {
   "cell_type": "code",
   "execution_count": 7,
   "id": "b3baa6c2",
   "metadata": {},
   "outputs": [
    {
     "name": "stdout",
     "output_type": "stream",
     "text": [
      "0.5864501344746886\n"
     ]
    }
   ],
   "source": [
    "# 결정계수(모형의 설명력)\n",
    "print(model.rvalue)"
   ]
  },
  {
   "cell_type": "markdown",
   "id": "28aa3e6b",
   "metadata": {},
   "source": [
    "#### 2. 사이킷런을 활용한 선형 회귀분석"
   ]
  },
  {
   "cell_type": "code",
   "execution_count": 8,
   "id": "144e0567",
   "metadata": {},
   "outputs": [],
   "source": [
    "from sklearn.linear_model import LinearRegression"
   ]
  },
  {
   "cell_type": "code",
   "execution_count": 9,
   "id": "645ffa97",
   "metadata": {},
   "outputs": [],
   "source": [
    "colnm = ['bmi', 'bp', 's1', 's2', 's3'] # 컬럼명 리스트\n",
    "X = data[colnm]\n",
    "y = target"
   ]
  },
  {
   "cell_type": "code",
   "execution_count": 10,
   "id": "7fa5f586",
   "metadata": {},
   "outputs": [
    {
     "data": {
      "text/plain": [
       "LinearRegression()"
      ]
     },
     "execution_count": 10,
     "metadata": {},
     "output_type": "execute_result"
    }
   ],
   "source": [
    "# 선형회귀 객체 생성\n",
    "model = LinearRegression()\n",
    "# 선형회귀 적합\n",
    "model.fit(X = X, y = y)"
   ]
  },
  {
   "cell_type": "code",
   "execution_count": 11,
   "id": "64a2479f",
   "metadata": {},
   "outputs": [
    {
     "name": "stdout",
     "output_type": "stream",
     "text": [
      "[ 608.9434702   301.13217977  990.86949656 -938.98139897 -597.46405077]\n"
     ]
    }
   ],
   "source": [
    "# 독립변수들에 대한 추정 회귀 계수들\n",
    "print(model.coef_)"
   ]
  },
  {
   "cell_type": "code",
   "execution_count": 12,
   "id": "bd2a3a88",
   "metadata": {
    "scrolled": true
   },
   "outputs": [
    {
     "name": "stdout",
     "output_type": "stream",
     "text": [
      "152.13348416289634\n"
     ]
    }
   ],
   "source": [
    "# 절편항에 대한 추정 회귀 계수 \n",
    "print(model.intercept_)"
   ]
  },
  {
   "cell_type": "code",
   "execution_count": 13,
   "id": "cd44ed1b",
   "metadata": {},
   "outputs": [
    {
     "data": {
      "text/plain": [
       "0.47721326169685596"
      ]
     },
     "execution_count": 13,
     "metadata": {},
     "output_type": "execute_result"
    }
   ],
   "source": [
    "# 결정계수\n",
    "model.score(X = X, y = y)"
   ]
  },
  {
   "cell_type": "markdown",
   "id": "9d3ed3ea",
   "metadata": {},
   "source": [
    "#### 3. 정규화 선형 회귀분석"
   ]
  },
  {
   "cell_type": "markdown",
   "id": "7595e527",
   "metadata": {},
   "source": [
    "##### 가. 릿지 회귀(Ridge Regression)"
   ]
  },
  {
   "cell_type": "code",
   "execution_count": 18,
   "id": "a3d2dead",
   "metadata": {},
   "outputs": [
    {
     "data": {
      "text/plain": [
       "Ridge(alpha=0.1)"
      ]
     },
     "execution_count": 18,
     "metadata": {},
     "output_type": "execute_result"
    }
   ],
   "source": [
    "from sklearn.linear_model import Ridge\n",
    "colnm = ['bmi', 'bp', 's1', 's2', 's3'] # 컬럼명 리스트\n",
    "X = data[colnm]\n",
    "y = target\n",
    "\n",
    "# 릿지회귀객체 생성\n",
    "model = Ridge(alpha = 0.1)\n",
    "\n",
    "# 적합\n",
    "model.fit(X = X, y = y)"
   ]
  },
  {
   "cell_type": "code",
   "execution_count": 20,
   "id": "e791c6b4",
   "metadata": {},
   "outputs": [
    {
     "name": "stdout",
     "output_type": "stream",
     "text": [
      "152.13348416289628\n",
      "[ 595.99217991  339.09043254  397.33941231 -338.99997282 -406.34685926]\n"
     ]
    }
   ],
   "source": [
    "# 독립변수들에 대한 추정 회귀 계수들\n",
    "print(model.intercept_)\n",
    "print(model.coef_)"
   ]
  },
  {
   "cell_type": "markdown",
   "id": "5b3bbf6b",
   "metadata": {},
   "source": [
    "##### 나. 라쏘 회귀(Lasso Regression)"
   ]
  },
  {
   "cell_type": "code",
   "execution_count": 21,
   "id": "b64827a4",
   "metadata": {},
   "outputs": [
    {
     "data": {
      "text/plain": [
       "Lasso(alpha=0.5)"
      ]
     },
     "execution_count": 21,
     "metadata": {},
     "output_type": "execute_result"
    }
   ],
   "source": [
    "from sklearn.linear_model import Lasso\n",
    "colnm = ['bmi', 'bp', 's1', 's2', 's3'] # 컬럼명 리스트\n",
    "X = data[colnm]\n",
    "y = target\n",
    "\n",
    "# 라쏘회귀객체 생성\n",
    "model = Lasso(alpha = 0.5)\n",
    "\n",
    "# 적합\n",
    "model.fit(X = X, y = y)"
   ]
  },
  {
   "cell_type": "code",
   "execution_count": 22,
   "id": "5c70c1b7",
   "metadata": {},
   "outputs": [
    {
     "name": "stdout",
     "output_type": "stream",
     "text": [
      "152.13348416289628\n",
      "[ 574.0437769   237.23009748    0.            0.         -165.17218128]\n"
     ]
    }
   ],
   "source": [
    "# 독립변수들에 대한 추정 회귀 계수들\n",
    "print(model.intercept_)\n",
    "print(model.coef_)"
   ]
  },
  {
   "cell_type": "code",
   "execution_count": 24,
   "id": "c33e9d12",
   "metadata": {},
   "outputs": [
    {
     "name": "stdout",
     "output_type": "stream",
     "text": [
      "0      198.788299\n",
      "1      166.213989\n",
      "2      133.539119\n",
      "3      194.702166\n",
      "4      172.636431\n",
      "          ...    \n",
      "127    178.910748\n",
      "128    131.853733\n",
      "129    148.587458\n",
      "130    178.546607\n",
      "131     65.610946\n",
      "Name: target, Length: 132, dtype: float64\n"
     ]
    }
   ],
   "source": [
    "# 패키지 및 데이터셋, 클래스 호출\n",
    "import pandas as pd\n",
    "from sklearn.datasets import load_diabetes \n",
    "from sklearn.linear_model import Lasso\n",
    "\n",
    "# diabetes 데이터셋 호출 후 데이터프레임으로 변환\n",
    "diabetes = load_diabetes() \n",
    "data = pd.DataFrame(diabetes.data, columns = diabetes.feature_names) \n",
    "target = pd.Series(diabetes.target, name = 'target')\n",
    "df = pd.concat([data, target], axis = 1) # 데이터프레임과 시리즈를 열 결합\n",
    "\n",
    "# 데이터 분할\n",
    "colnm = ['bmi', 'bp', 's1', 's2', 's3'] # 컬럼명 리스트\n",
    "X_train = df[colnm].loc[:310] # 0~309번 행과 ‘bmi’,‘bp’,‘s1’,‘s2’,‘s3’ 컬럼\n",
    "X_test = df[colnm].loc[310:] # 310~441번 행 ‘bmi’,‘bp’,‘s1’,‘s2’,‘s3’ 컬럼\n",
    "y_train = df['target'].loc[:310] # 0~309번 행과 'target’ 컬럼\n",
    "\n",
    "# 라쏘회귀객체 생성\n",
    "model = Lasso(alpha = 0.5) \n",
    "model.fit(X = X_train, y = y_train) # X_train과 y_train으로 라쏘 회귀모형 적합\n",
    "\n",
    "# X_test를 통해 새로우 'target' 변수를 예측\n",
    "target = model.predict(X_test)\n",
    "target = pd.Series(target, name = 'target') # array -> series\n",
    "print(target)"
   ]
  },
  {
   "cell_type": "markdown",
   "id": "4c07aeed",
   "metadata": {},
   "source": [
    "# (끝)"
   ]
  }
 ],
 "metadata": {
  "hide_input": false,
  "kernelspec": {
   "display_name": "Python 3",
   "language": "python",
   "name": "python3"
  },
  "language_info": {
   "codemirror_mode": {
    "name": "ipython",
    "version": 3
   },
   "file_extension": ".py",
   "mimetype": "text/x-python",
   "name": "python",
   "nbconvert_exporter": "python",
   "pygments_lexer": "ipython3",
   "version": "3.8.8"
  },
  "toc": {
   "base_numbering": 1,
   "nav_menu": {},
   "number_sections": false,
   "sideBar": true,
   "skip_h1_title": false,
   "title_cell": "Table of Contents",
   "title_sidebar": "Contents",
   "toc_cell": false,
   "toc_position": {},
   "toc_section_display": true,
   "toc_window_display": false
  },
  "varInspector": {
   "cols": {
    "lenName": 16,
    "lenType": 16,
    "lenVar": 40
   },
   "kernels_config": {
    "python": {
     "delete_cmd_postfix": "",
     "delete_cmd_prefix": "del ",
     "library": "var_list.py",
     "varRefreshCmd": "print(var_dic_list())"
    },
    "r": {
     "delete_cmd_postfix": ") ",
     "delete_cmd_prefix": "rm(",
     "library": "var_list.r",
     "varRefreshCmd": "cat(var_dic_list()) "
    }
   },
   "types_to_exclude": [
    "module",
    "function",
    "builtin_function_or_method",
    "instance",
    "_Feature"
   ],
   "window_display": false
  }
 },
 "nbformat": 4,
 "nbformat_minor": 5
}
