{
 "cells": [
  {
   "cell_type": "markdown",
   "id": "c65b1643",
   "metadata": {},
   "source": [
    "### PART 04) 모델링"
   ]
  },
  {
   "cell_type": "markdown",
   "id": "4e1be88e",
   "metadata": {},
   "source": [
    "## 1장. 지도학습"
   ]
  },
  {
   "cell_type": "markdown",
   "id": "8e175d52",
   "metadata": {},
   "source": [
    "### 1절. 데이터분할"
   ]
  },
  {
   "cell_type": "markdown",
   "id": "832fb91c",
   "metadata": {},
   "source": [
    "#### 1. 홀드아웃"
   ]
  },
  {
   "cell_type": "code",
   "execution_count": 5,
   "id": "98c7f5d7",
   "metadata": {},
   "outputs": [],
   "source": [
    "# breast_cancer 데이터셋 호출\n",
    "from sklearn.datasets import load_breast_cancer\n",
    "breast_cancer = load_breast_cancer() \n",
    "data = breast_cancer.data\n",
    "target = breast_cancer.target"
   ]
  },
  {
   "cell_type": "code",
   "execution_count": 6,
   "id": "96e14278",
   "metadata": {},
   "outputs": [
    {
     "name": "stdout",
     "output_type": "stream",
     "text": [
      "(398, 30) (171, 30) (398,) (171,)\n"
     ]
    }
   ],
   "source": [
    "from sklearn.model_selection import train_test_split\n",
    "\n",
    "# arrays에 아래와 같이 data와 target을 둘 다 넣을 경우,\n",
    "# X와 y에 대해 train과 test가 분할된 데이터셋들을 반환함\n",
    "# cf) data만 입력하면 X에 대한 train, test를 분할해서 반환함\n",
    "# random_state를 특정 숫자로 입력할 경우, 계속해서 동일한 데이터셋으로 분할됨   \n",
    "X_train, X_test, y_train, y_test = train_test_split(data,\n",
    "                                                    target,\n",
    "                                                    test_size = 0.3, #7:3\n",
    "                                                    random_state = 2022)\n",
    "print(X_train.shape, X_test.shape, y_train.shape, y_test.shape)"
   ]
  },
  {
   "cell_type": "code",
   "execution_count": 7,
   "id": "d0721f76",
   "metadata": {},
   "outputs": [
    {
     "name": "stdout",
     "output_type": "stream",
     "text": [
      "(398, 30) (171, 30) (398,) (171,)\n"
     ]
    }
   ],
   "source": [
    "# stratify = target은 원래의 target 컬럼의 0과 1의 비율을 반영하여 데이터를 분할\n",
    "X_train, X_test, y_train, y_test = train_test_split(data,\n",
    "                                                    target,\n",
    "                                                    test_size = 0.3, #7:3\n",
    "                                                    random_state = 2022,\n",
    "                                                    stratify = target)\n",
    "print(X_train.shape, X_test.shape, y_train.shape, y_test.shape)"
   ]
  },
  {
   "cell_type": "markdown",
   "id": "b265a249",
   "metadata": {},
   "source": [
    "#### 2. K-fold"
   ]
  },
  {
   "cell_type": "code",
   "execution_count": 8,
   "id": "4abef452",
   "metadata": {},
   "outputs": [
    {
     "name": "stdout",
     "output_type": "stream",
     "text": [
      "학습 : [2 3 4 5 6 7 8 9] 평가 : [0 1]\n",
      "학습 : [0 1 4 5 6 7 8 9] 평가 : [2 3]\n",
      "학습 : [0 1 2 3 6 7 8 9] 평가 : [4 5]\n",
      "학습 : [0 1 2 3 4 5 8 9] 평가 : [6 7]\n",
      "학습 : [0 1 2 3 4 5 6 7] 평가 : [8 9]\n"
     ]
    }
   ],
   "source": [
    "# 넘파이 배열 생성\n",
    "import numpy as np\n",
    "X = np.arange(10)\n",
    "\n",
    "# KFold 클래스 호출\n",
    "from sklearn.model_selection import KFold\n",
    "kfold = KFold(n_splits = 5) # k = 5\n",
    "\n",
    "# 메소드 .split은 학습, 평가 데이터의 인덱스를 생성해줌\n",
    "for train_idx, test_idx in kfold.split(X) :\n",
    "    print(\"학습 :\", train_idx, \"평가 :\", test_idx) # 인덱스번호"
   ]
  },
  {
   "cell_type": "code",
   "execution_count": 9,
   "id": "058de44a",
   "metadata": {},
   "outputs": [
    {
     "name": "stdout",
     "output_type": "stream",
     "text": [
      "학습 : [ 2  3  4  5  7  8 11 12 13 14] 평가 : [ 0  1  6  9 10]\n",
      "학습 : [ 0  1  4  5  6  8  9 10 13 14] 평가 : [ 2  3  7 11 12]\n",
      "학습 : [ 0  1  2  3  6  7  9 10 11 12] 평가 : [ 4  5  8 13 14]\n"
     ]
    }
   ],
   "source": [
    "# 넘파이 배열 생성\n",
    "import numpy as np\n",
    "X = np.arange(15) \n",
    "y = [0] * 6 + [1] * 3 + [2] * 6 #리스트 생성\n",
    "# y = [0,0,0,0,0,0,1,1,1,2,2,2,2,2,2]로 해도 됨\n",
    "\n",
    "# StratifiedKFold 클래스 호출\n",
    "from sklearn.model_selection import StratifiedKFold\n",
    "kfold = StratifiedKFold(n_splits = 3) # k = 3\n",
    "\n",
    "# 메소드 .split은 학습, 평가 데이터의 인덱스를 생성해줌\n",
    "# 동시에 y의 0,1,2 비율도 함께 고려함\n",
    "for train_idx, test_idx in kfold.split(X, y) :\n",
    "     print(\"학습 :\", train_idx, \"평가 :\", test_idx) # 인덱스번호"
   ]
  },
  {
   "cell_type": "markdown",
   "id": "6fd5a414",
   "metadata": {},
   "source": [
    "### 2절. 성과분석"
   ]
  },
  {
   "cell_type": "markdown",
   "id": "2094a024",
   "metadata": {},
   "source": [
    "#### 1. 분류 지표"
   ]
  },
  {
   "cell_type": "markdown",
   "id": "ada4272c",
   "metadata": {},
   "source": [
    "##### 가. 혼동 행렬을 이용한 평가 지표"
   ]
  },
  {
   "cell_type": "code",
   "execution_count": 10,
   "id": "7728a517",
   "metadata": {},
   "outputs": [
    {
     "data": {
      "text/plain": [
       "array([[2, 1],\n",
       "       [0, 3]], dtype=int64)"
      ]
     },
     "execution_count": 10,
     "metadata": {},
     "output_type": "execute_result"
    }
   ],
   "source": [
    "# 함수 confusion_matrix() 호출\n",
    "from sklearn.metrics import confusion_matrix\n",
    "\n",
    "# 이진분류\n",
    "y_true = [0, 0, 0, 1, 1, 1]\n",
    "y_pred = [0, 1, 0, 1, 1, 1]\n",
    "\n",
    "confusion_matrix(y_true, y_pred) # 혼동행렬"
   ]
  },
  {
   "cell_type": "code",
   "execution_count": 11,
   "id": "37bb9bc3",
   "metadata": {},
   "outputs": [
    {
     "data": {
      "text/plain": [
       "array([[2, 1],\n",
       "       [0, 3]], dtype=int64)"
      ]
     },
     "execution_count": 11,
     "metadata": {},
     "output_type": "execute_result"
    }
   ],
   "source": [
    "# 이진분류(레이블로 되어있을 경우)\n",
    "y_true = ['A', 'A', 'A', 'B', 'B', 'B']\n",
    "y_pred = ['A', 'B', 'A', 'B', 'B', 'B']\n",
    "\n",
    "confusion_matrix(y_true, y_pred, labels = ['A', 'B']) # 혼동행렬(레이블구분)"
   ]
  },
  {
   "cell_type": "code",
   "execution_count": 12,
   "id": "204f8115",
   "metadata": {},
   "outputs": [
    {
     "data": {
      "text/plain": [
       "array([[1, 2, 0],\n",
       "       [1, 1, 0],\n",
       "       [1, 1, 2]], dtype=int64)"
      ]
     },
     "execution_count": 12,
     "metadata": {},
     "output_type": "execute_result"
    }
   ],
   "source": [
    "# 다지분류(레이블:0,1,2)\n",
    "y_true = [0, 0, 0, 1, 1, 2, 2, 2, 2]\n",
    "y_pred = [0, 1, 1, 1, 0, 0, 1, 2, 2]\n",
    "\n",
    "confusion_matrix(y_true, y_pred) # 혼동행렬"
   ]
  },
  {
   "cell_type": "code",
   "execution_count": 13,
   "id": "a644809b",
   "metadata": {},
   "outputs": [
    {
     "name": "stdout",
     "output_type": "stream",
     "text": [
      "0.8333333333333334\n",
      "1.0\n",
      "0.75\n",
      "0.8571428571428571\n"
     ]
    }
   ],
   "source": [
    "# 함수 호출\n",
    "from sklearn.metrics import accuracy_score, recall_score, \\\n",
    "precision_score, f1_score\n",
    "\n",
    "# 이진분류\n",
    "y_true = [0, 0, 0, 1, 1, 1]\n",
    "y_pred = [0, 1, 0, 1, 1, 1]\n",
    "\n",
    "# 정분류율(Accuracy)\n",
    "accuracy = accuracy_score(y_true, y_pred)\n",
    "print(accuracy)\n",
    "\n",
    "# 재현율(Recall)\n",
    "recall = recall_score(y_true, y_pred)\n",
    "print(recall)\n",
    "\n",
    "# 정밀도(Precision) \n",
    "precision = precision_score(y_true, y_pred)\n",
    "print(precision)\n",
    "\n",
    "# f1-score\n",
    "f1 = f1_score(y_true, y_pred)\n",
    "print(f1)"
   ]
  },
  {
   "cell_type": "code",
   "execution_count": 14,
   "id": "7a82bb21",
   "metadata": {},
   "outputs": [
    {
     "name": "stdout",
     "output_type": "stream",
     "text": [
      "0.888888888888889\n"
     ]
    }
   ],
   "source": [
    "# 함수 호출\n",
    "from sklearn.metrics import roc_curve, auc\n",
    "\n",
    "# 이진분류\n",
    "y_true = [0, 0, 0, 1, 1, 1]\n",
    "y_score = [0.1, 0.75, 0.35, 0.92, 0.81, 0.68]\n",
    "\n",
    "# ROC\n",
    "# 함수 roc_curve()는 fpr, tpr, thresholds 세 가지를 반환함\n",
    "fpr, tpr, thresholds = roc_curve(y_true, y_score) \n",
    "\n",
    "# AUC\n",
    "AUC = auc(fpr, tpr) # roc_curve()에서 반환된 fpr을 x축, tpr을 y축\n",
    "print(AUC)"
   ]
  },
  {
   "cell_type": "markdown",
   "id": "d293b71b",
   "metadata": {},
   "source": [
    "#### 2. 예측 지표"
   ]
  },
  {
   "cell_type": "code",
   "execution_count": 15,
   "id": "1d919f3d",
   "metadata": {},
   "outputs": [
    {
     "name": "stdout",
     "output_type": "stream",
     "text": [
      "[0.69646919 0.28613933 0.22685145 0.55131477 0.71946897]\n",
      "[0.42310646 0.9807642  0.68482974 0.4809319  0.39211752]\n",
      "0.17581754220802784\n",
      "0.36474003862364796\n",
      "1.0843148337483364\n"
     ]
    }
   ],
   "source": [
    "# 함수 호출\n",
    "from sklearn.metrics import mean_squared_error, mean_absolute_error, mean_absolute_percentage_error\n",
    "\n",
    "# 연속형 데이터\n",
    "# 균일분포 (0,1)에서 임의의 난수 생성\n",
    "import numpy as np\n",
    "np.random.seed(123) # 난수 고정\n",
    "\n",
    "y_true = np.random.random_sample(5) # 균일분포 (0,1)에서 5개 랜덤 추출\n",
    "print(y_true)\n",
    "\n",
    "y_pred = np.random.random_sample(5) # 균일분포 (0,1)에서 5개 랜덤 추출\n",
    "print(y_pred)\n",
    "\n",
    "# MSE\n",
    "mse = mean_squared_error(y_true, y_pred)\n",
    "print(mse)\n",
    "\n",
    "# MAE\n",
    "mae = mean_absolute_error(y_true, y_pred)\n",
    "print(mae)\n",
    "\n",
    "# MAPE\n",
    "mape = mean_absolute_percentage_error(y_true, y_pred)\n",
    "print(mape)"
   ]
  },
  {
   "cell_type": "markdown",
   "id": "218b3d15",
   "metadata": {},
   "source": [
    "### 3절. 로지스틱 회귀분석"
   ]
  },
  {
   "cell_type": "code",
   "execution_count": 16,
   "id": "7dcd6cf2",
   "metadata": {},
   "outputs": [
    {
     "name": "stdout",
     "output_type": "stream",
     "text": [
      "0.9983465608465608\n"
     ]
    }
   ],
   "source": [
    "# 패키지로부터 클래스, 함수를 호출\n",
    "from sklearn.linear_model import LogisticRegression\n",
    "from sklearn.model_selection import train_test_split\n",
    "\n",
    "# breast_cancer 데이터셋 호출\n",
    "from sklearn.datasets import load_breast_cancer\n",
    "breast_cancer = load_breast_cancer() \n",
    "data = breast_cancer.data\n",
    "target = breast_cancer.target\n",
    "\n",
    "# 데이터 분할\n",
    "X_train, X_test, y_train, y_test = train_test_split(data,\n",
    "                                                    target,\n",
    "                                                    test_size = 0.2,\n",
    "                                                    random_state = 2205,\n",
    "                                                    stratify = target)\n",
    "\n",
    "# 모형객체 생성\n",
    "lr_bin = LogisticRegression(C = 0.5, # 규제 강도\n",
    "                            max_iter = 2000) # 수렴까지 걸리는 최대 반복 횟수\n",
    " \n",
    "# 모델학습\n",
    "model_lr_bin = lr_bin.fit(X_train, y_train)\n",
    "\n",
    "# ROC\n",
    "from sklearn.metrics import roc_curve, auc\n",
    "y_score = model_lr_bin.predict_proba(X_test)[:,1]\n",
    "fpr, tpr, thresholds = roc_curve(y_test, y_score) \n",
    "\n",
    "# AUC\n",
    "AUC = auc(fpr, tpr) # roc_curve()에서 반환된 fpr을 x축, tpr을 y축\n",
    "print(AUC)"
   ]
  },
  {
   "cell_type": "code",
   "execution_count": 17,
   "id": "ba7a24af",
   "metadata": {},
   "outputs": [
    {
     "name": "stdout",
     "output_type": "stream",
     "text": [
      "0.9665831244778613\n"
     ]
    }
   ],
   "source": [
    "# 패키지로부터 클래스, 함수를 호출\n",
    "from sklearn.linear_model import LogisticRegression\n",
    "from sklearn.model_selection import train_test_split\n",
    "\n",
    " \n",
    "# iris 데이터셋 호출\n",
    "from sklearn.datasets import load_iris\n",
    "iris = load_iris() \n",
    "data = iris.data\n",
    "target = iris.target\n",
    "\n",
    "# 데이터 분할\n",
    "X_train, X_test, y_train, y_test = train_test_split(data,\n",
    "                                                    target,\n",
    "                                                    test_size = 0.2,\n",
    "                                                    random_state = 2205,\n",
    "                                                    stratify = target)\n",
    "\n",
    "# 모형객체 생성\n",
    "lr_multi = LogisticRegression(C = 0.05, # 규제 강도(default = 1.5)\n",
    "                              max_iter = 200) # 수렴까지 걸리는 최대 반복 횟수\n",
    "\n",
    "# 모델학습\n",
    "model_lr_multi = lr_multi.fit(X_train, y_train)\n",
    "\n",
    "# macro f1-score\n",
    "from sklearn.metrics import f1_score\n",
    "y_pred = model_lr_multi.predict(X_test)\n",
    "\n",
    "macro_f1 = f1_score(y_test, y_pred, average = \"macro\")\n",
    "print(macro_f1)"
   ]
  },
  {
   "cell_type": "markdown",
   "id": "eca913c3",
   "metadata": {},
   "source": [
    "### 4절. 서포트벡터머신"
   ]
  },
  {
   "cell_type": "code",
   "execution_count": 18,
   "id": "04c867ef",
   "metadata": {},
   "outputs": [
    {
     "name": "stdout",
     "output_type": "stream",
     "text": [
      "0.9983465608465608\n"
     ]
    }
   ],
   "source": [
    "# 패키지로부터 클래스, 함수를 호출\n",
    "from sklearn.svm import SVC\n",
    "from sklearn.model_selection import train_test_split\n",
    "\n",
    "# breast_cancer 데이터셋 호출\n",
    "from sklearn.datasets import load_breast_cancer\n",
    "breast_cancer = load_breast_cancer() \n",
    "data = breast_cancer.data\n",
    "target = breast_cancer.target\n",
    "\n",
    "# 데이터 분할\n",
    "X_train, X_test, y_train, y_test = train_test_split(data,\n",
    "                                                    target,\n",
    "                                                    test_size = 0.2,\n",
    "                                                    random_state = 2205,\n",
    "                                                    stratify = target)\n",
    "\n",
    "# 모형객체 생성\n",
    "# 메소드 .predict_proba()의 사용을 위해서 probability = True 입력 필요\n",
    "svm_bin = SVC(kernel = 'linear', C = 0.5, probability = True) \n",
    "\n",
    "# 모델학습\n",
    "model_svm_bin = svm_bin.fit(X_train, y_train)\n",
    "\n",
    "# ROC\n",
    "from sklearn.metrics import roc_curve, auc\n",
    "y_score = model_svm_bin.predict_proba(X_test)[:,1]\n",
    "fpr, tpr, thresholds = roc_curve(y_test, y_score) \n",
    "\n",
    "# AUC\n",
    "AUC = auc(fpr, tpr) # roc_curve()에서 반환된 fpr을 x축, tpr을 y축\n",
    "print(AUC)"
   ]
  },
  {
   "cell_type": "code",
   "execution_count": 20,
   "id": "8edfdd26",
   "metadata": {},
   "outputs": [
    {
     "name": "stdout",
     "output_type": "stream",
     "text": [
      "0.9665831244778613\n"
     ]
    }
   ],
   "source": [
    "# 패키지로부터 클래스, 함수를 호출\n",
    "from sklearn.svm import LinearSVC\n",
    "from sklearn.model_selection import train_test_split\n",
    "\n",
    "# iris 데이터셋 호출\n",
    "from sklearn.datasets import load_iris\n",
    "iris = load_iris() \n",
    "data = iris.data\n",
    "target = iris.target\n",
    "\n",
    "# 데이터 분할\n",
    "X_train, X_test, y_train, y_test = train_test_split(data,\n",
    "                                                    target,\n",
    "                                                    test_size = 0.2,\n",
    "                                                    random_state = 2205,\n",
    "                                                    stratify = target)\n",
    "\n",
    "# 모형객체 생성\n",
    "svm_multi = LinearSVC(C = 0.1)\n",
    "\n",
    "# 모델학습\n",
    "model_svm_multi = svm_multi.fit(X_train, y_train)\n",
    "\n",
    "# macro f1-score\n",
    "from sklearn.metrics import f1_score\n",
    "y_pred = model_svm_multi.predict(X_test)\n",
    "\n",
    "macro_f1 = f1_score(y_test, y_pred, average = \"macro\")\n",
    "print(macro_f1)"
   ]
  },
  {
   "cell_type": "code",
   "execution_count": 21,
   "id": "809b15fa",
   "metadata": {},
   "outputs": [
    {
     "name": "stdout",
     "output_type": "stream",
     "text": [
      "82.99258100164352\n",
      "72.94454192729656\n"
     ]
    }
   ],
   "source": [
    "# 패키지로부터 클래스, 함수를 호출\n",
    "from sklearn.svm import SVR, LinearSVR\n",
    "from sklearn.model_selection import train_test_split\n",
    "\n",
    "# diabetes 데이터셋 호출\n",
    "from sklearn.datasets import load_diabetes\n",
    "diabetes = load_diabetes() \n",
    "data = diabetes.data\n",
    "target = diabetes.target\n",
    "\n",
    "# 데이터 분할\n",
    "X_train, X_test, y_train, y_test = train_test_split(data,\n",
    "                                                    target,\n",
    "                                                    test_size = 0.2,\n",
    "                                                    random_state = 2205)\n",
    "\n",
    "# 모형객체 생성\n",
    "svm_conti_1 = SVR(C = 0.1, epsilon = 0.01)\n",
    "svm_conti_2 = LinearSVR(C = 0.1, loss = 'squared_epsilon_insensitive')\n",
    "\n",
    "# 모델학습\n",
    "model_svm_conti_1 = svm_conti_1.fit(X_train, y_train)\n",
    "model_svm_conti_2 = svm_conti_2.fit(X_train, y_train)\n",
    "\n",
    "# RMSE\n",
    "from sklearn.metrics import mean_squared_error\n",
    "\n",
    "y_pred_1 = model_svm_conti_1.predict(X_test)\n",
    "rmse_1 = mean_squared_error(y_test, y_pred_1, squared = False)\n",
    "print(rmse_1)\n",
    "\n",
    "y_pred_2 = model_svm_conti_2.predict(X_test)\n",
    "rmse_2 = mean_squared_error(y_test, y_pred_2, squared = False)\n",
    "print(rmse_2)"
   ]
  },
  {
   "cell_type": "markdown",
   "id": "c3f67c3f",
   "metadata": {},
   "source": [
    "### 5절. 나이브베이즈"
   ]
  },
  {
   "cell_type": "code",
   "execution_count": 22,
   "id": "b2c4acf4",
   "metadata": {},
   "outputs": [
    {
     "name": "stdout",
     "output_type": "stream",
     "text": [
      "0.5347222222222222\n"
     ]
    }
   ],
   "source": [
    "# 패키지로부터 클래스, 함수를 호출\n",
    "from sklearn.naive_bayes import BernoulliNB\n",
    "from sklearn.model_selection import train_test_split\n",
    "\n",
    " \n",
    "# breast_cancer 데이터셋 호출\n",
    "from sklearn.datasets import load_breast_cancer\n",
    "breast_cancer = load_breast_cancer() \n",
    "data = breast_cancer.data\n",
    "target = breast_cancer.target\n",
    "\n",
    "# 데이터 분할\n",
    "X_train, X_test, y_train, y_test = train_test_split(data,\n",
    "                                                    target,\n",
    "                                                    test_size = 0.2,\n",
    "                                                    random_state = 2205,\n",
    "                                                    stratify = target)\n",
    "\n",
    "# 모형객체 생성\n",
    "nb_bin = BernoulliNB(alpha = 0.5)\n",
    "\n",
    "# 모델학습\n",
    "model_nb_bin = nb_bin.fit(X_train, y_train)\n",
    "\n",
    "# ROC\n",
    "from sklearn.metrics import roc_curve, auc\n",
    "y_score = model_nb_bin.predict_proba(X_test)[:,1]\n",
    "fpr, tpr, thresholds = roc_curve(y_test, y_score) \n",
    "\n",
    "# AUC\n",
    "AUC = auc(fpr, tpr) # roc_curve()에서 반환된 fpr을 x축, tpr을 y축\n",
    "print(AUC)"
   ]
  },
  {
   "cell_type": "code",
   "execution_count": 23,
   "id": "612e4651",
   "metadata": {},
   "outputs": [
    {
     "name": "stdout",
     "output_type": "stream",
     "text": [
      "0.9665831244778613\n"
     ]
    }
   ],
   "source": [
    "# 패키지로부터 클래스, 함수를 호출\n",
    "from sklearn.naive_bayes import MultinomialNB\n",
    "from sklearn.model_selection import train_test_split\n",
    "\n",
    "\n",
    "# iris 데이터셋 호출\n",
    "from sklearn.datasets import load_iris\n",
    "iris = load_iris() \n",
    "data = iris.data\n",
    "target = iris.target\n",
    "\n",
    "# 데이터 분할\n",
    "X_train, X_test, y_train, y_test = train_test_split(data,\n",
    "                                                    target,\n",
    "                                                    test_size = 0.2,\n",
    "                                                    random_state = 2205,\n",
    "                                                    stratify = target)\n",
    "\n",
    "# 모형객체 생성\n",
    "nb_multi = MultinomialNB(alpha = 1.5)\n",
    "\n",
    "# 모델학습\n",
    "model_nb_multi = nb_multi.fit(X_train, y_train)\n",
    "\n",
    "# macro f1-score\n",
    "from sklearn.metrics import f1_score\n",
    "y_pred = model_nb_multi.predict(X_test)\n",
    "\n",
    "macro_f1 = f1_score(y_test, y_pred, average = \"macro\")\n",
    "print(macro_f1)"
   ]
  },
  {
   "cell_type": "code",
   "execution_count": 24,
   "id": "bb1bddf7",
   "metadata": {},
   "outputs": [
    {
     "name": "stdout",
     "output_type": "stream",
     "text": [
      "78.87808826910528\n"
     ]
    }
   ],
   "source": [
    "# 패키지로부터 클래스, 함수를 호출\n",
    "from sklearn.naive_bayes import GaussianNB\n",
    "from sklearn.model_selection import train_test_split\n",
    "\n",
    "\n",
    "# diabetes 데이터셋 호출\n",
    "from sklearn.datasets import load_diabetes\n",
    "diabetes = load_diabetes() \n",
    "data = diabetes.data\n",
    "target = diabetes.target\n",
    "\n",
    "# 데이터 분할\n",
    "X_train, X_test, y_train, y_test = train_test_split(data,\n",
    "                                                    target,\n",
    "                                                    test_size = 0.2,\n",
    "                                                    random_state = 2205)\n",
    "\n",
    "# 모형객체 생성\n",
    "nb_conti = GaussianNB()\n",
    "\n",
    "# 모델학습\n",
    "model_nb_conti = nb_conti.fit(X_train, y_train)\n",
    "\n",
    "# RMSE\n",
    "from sklearn.metrics import mean_squared_error\n",
    "y_pred = model_nb_conti.predict(X_test)\n",
    "rmse = mean_squared_error(y_test, y_pred, squared = False)\n",
    "print(rmse)"
   ]
  },
  {
   "cell_type": "markdown",
   "id": "722b3c0c",
   "metadata": {},
   "source": [
    "### 6절. K-최근접이웃"
   ]
  },
  {
   "cell_type": "code",
   "execution_count": 25,
   "id": "205b4d66",
   "metadata": {},
   "outputs": [
    {
     "name": "stdout",
     "output_type": "stream",
     "text": [
      "0.9993386243386244\n"
     ]
    }
   ],
   "source": [
    "# 패키지로부터 클래스, 함수를 호출\n",
    "from sklearn.neighbors import KNeighborsClassifier\n",
    "from sklearn.model_selection import train_test_split\n",
    " \n",
    "# breast_cancer 데이터셋 호출\n",
    "from sklearn.datasets import load_breast_cancer\n",
    "breast_cancer = load_breast_cancer() \n",
    "data = breast_cancer.data\n",
    "target = breast_cancer.target\n",
    "\n",
    "# 데이터 분할\n",
    "X_train, X_test, y_train, y_test = train_test_split(data,\n",
    "                                                    target,\n",
    "                                                    test_size = 0.2,\n",
    "                                                    random_state = 2205,\n",
    "                                                    stratify = target)\n",
    "\n",
    "# 모형객체 생성\n",
    "knn_bin = KNeighborsClassifier(n_neighbors = 5, weights = 'distance')\n",
    "\n",
    "# 모델학습\n",
    "model_knn_bin = knn_bin.fit(X_train, y_train)\n",
    "\n",
    "# ROC\n",
    "from sklearn.metrics import roc_curve, auc\n",
    "y_score = model_knn_bin.predict_proba(X_test)[:,1]\n",
    "fpr, tpr, thresholds = roc_curve(y_test, y_score) \n",
    "\n",
    "# AUC\n",
    "AUC = auc(fpr, tpr) # roc_curve()에서 반환된 fpr을 x축, tpr을 y축\n",
    "print(AUC)"
   ]
  },
  {
   "cell_type": "code",
   "execution_count": 26,
   "id": "76c7333f",
   "metadata": {},
   "outputs": [
    {
     "name": "stdout",
     "output_type": "stream",
     "text": [
      "1.0\n"
     ]
    }
   ],
   "source": [
    "# 패키지로부터 클래스, 함수를 호출\n",
    "from sklearn.neighbors import KNeighborsClassifier\n",
    "from sklearn.model_selection import train_test_split\n",
    "\n",
    "# iris 데이터셋 호출\n",
    "from sklearn.datasets import load_iris\n",
    "iris = load_iris() \n",
    "data = iris.data\n",
    "target = iris.target\n",
    "\n",
    "# 데이터 분할\n",
    "X_train, X_test, y_train, y_test = train_test_split(data,\n",
    "                                                    target,\n",
    "                                                    test_size = 0.2,\n",
    "                                                    random_state = 2205,\n",
    "                                                    stratify = target)\n",
    "\n",
    "# 모형객체 생성\n",
    "knn_multi = KNeighborsClassifier(n_neighbors = 10, weights = 'distance')\n",
    "\n",
    "# 모델학습\n",
    "model_knn_multi = knn_multi.fit(X_train, y_train)\n",
    "\n",
    "# macro f1-score\n",
    "from sklearn.metrics import f1_score\n",
    "y_pred = model_knn_multi.predict(X_test)\n",
    "\n",
    "macro_f1 = f1_score(y_test, y_pred, average = \"macro\")\n",
    "print(macro_f1)"
   ]
  },
  {
   "cell_type": "code",
   "execution_count": 27,
   "id": "1a1a8024",
   "metadata": {},
   "outputs": [
    {
     "name": "stdout",
     "output_type": "stream",
     "text": [
      "64.34099075385271\n"
     ]
    }
   ],
   "source": [
    "# 패키지로부터 클래스, 함수를 호출\n",
    "from sklearn.neighbors import KNeighborsRegressor\n",
    "from sklearn.model_selection import train_test_split\n",
    "\n",
    "# diabetes 데이터셋 호출\n",
    "from sklearn.datasets import load_diabetes\n",
    "diabetes = load_diabetes() \n",
    "data = diabetes.data\n",
    "target = diabetes.target\n",
    "\n",
    "# 데이터 분할\n",
    "X_train, X_test, y_train, y_test = train_test_split(data,\n",
    "                                                    target,\n",
    "                                                    test_size = 0.2,\n",
    "                                                    random_state = 2205)\n",
    "\n",
    "# 모형객체 생성\n",
    "knn_conti = KNeighborsRegressor(n_neighbors = 5, weights = 'distance')\n",
    "\n",
    "# 모델학습\n",
    "model_knn_conti = knn_conti.fit(X_train, y_train)\n",
    "\n",
    "# RMSE\n",
    "from sklearn.metrics import mean_squared_error\n",
    "y_pred = model_knn_conti.predict(X_test)\n",
    "rmse = mean_squared_error(y_test, y_pred, squared = False)\n",
    "print(rmse)"
   ]
  },
  {
   "cell_type": "markdown",
   "id": "587dde74",
   "metadata": {},
   "source": [
    "### 7절. 인공신경망"
   ]
  },
  {
   "cell_type": "code",
   "execution_count": 28,
   "id": "85c7d53b",
   "metadata": {},
   "outputs": [
    {
     "name": "stdout",
     "output_type": "stream",
     "text": [
      "0.9996693121693121\n"
     ]
    }
   ],
   "source": [
    "# 패키지로부터 클래스, 함수를 호출\n",
    "from sklearn.neural_network import MLPClassifier\n",
    "from sklearn.model_selection import train_test_split\n",
    "\n",
    "# breast_cancer 데이터셋 호출\n",
    "from sklearn.datasets import load_breast_cancer\n",
    "breast_cancer = load_breast_cancer() \n",
    "data = breast_cancer.data\n",
    "target = breast_cancer.target\n",
    "\n",
    "# 데이터 분할\n",
    "X_train, X_test, y_train, y_test = train_test_split(data,\n",
    "                                                    target,\n",
    "                                                    test_size = 0.2,\n",
    "                                                    random_state = 2205,\n",
    "                                                    stratify = target)\n",
    "\n",
    "# 모형객체 생성\n",
    "ann_bin = MLPClassifier(alpha = 0.5,\n",
    "                        max_iter = 500,\n",
    "                        random_state = 2022)\n",
    "\n",
    "# 모델학습\n",
    "model_ann_bin = ann_bin.fit(X_train, y_train)\n",
    "\n",
    "# ROC\n",
    "from sklearn.metrics import roc_curve, auc\n",
    "y_score = model_ann_bin.predict_proba(X_test)[:,1]\n",
    "fpr, tpr, thresholds = roc_curve(y_test, y_score) \n",
    "\n",
    "# AUC\n",
    "AUC = auc(fpr, tpr) # roc_curve()에서 반환된 fpr을 x축, tpr을 y축\n",
    "print(AUC)"
   ]
  },
  {
   "cell_type": "code",
   "execution_count": 29,
   "id": "fa1d8422",
   "metadata": {},
   "outputs": [
    {
     "name": "stdout",
     "output_type": "stream",
     "text": [
      "1.0\n"
     ]
    }
   ],
   "source": [
    "# 패키지로부터 클래스, 함수를 호출\n",
    "from sklearn.neural_network import MLPClassifier\n",
    "from sklearn.model_selection import train_test_split\n",
    "\n",
    "# iris 데이터셋 호출\n",
    "from sklearn.datasets import load_iris\n",
    "iris = load_iris() \n",
    "data = iris.data\n",
    "target = iris.target\n",
    "\n",
    "# 데이터 분할\n",
    "X_train, X_test, y_train, y_test = train_test_split(data,\n",
    "                                                    target,\n",
    "                                                    test_size = 0.2,\n",
    "                                                    random_state = 2205,\n",
    "                                                    stratify = target)\n",
    "\n",
    "# 모델객체 생성\n",
    "ann_multi = MLPClassifier(random_state = 2022, max_iter = 600)\n",
    "\n",
    "# 모델학습\n",
    "model_ann_multi = ann_multi.fit(X_train, y_train)\n",
    "\n",
    "# macro f1-score\n",
    "from sklearn.metrics import f1_score\n",
    "y_pred = model_ann_multi.predict(X_test)\n",
    "\n",
    "macro_f1 = f1_score(y_test, y_pred, average = \"macro\")\n",
    "print(macro_f1)"
   ]
  },
  {
   "cell_type": "code",
   "execution_count": 30,
   "id": "2d52bed2",
   "metadata": {},
   "outputs": [
    {
     "name": "stdout",
     "output_type": "stream",
     "text": [
      "60.21686673236239\n"
     ]
    }
   ],
   "source": [
    "# 패키지로부터 클래스, 함수를 호출\n",
    "from sklearn.neural_network import MLPRegressor\n",
    "from sklearn.model_selection import train_test_split\n",
    "\n",
    "# diabetes 데이터셋 호출\n",
    "from sklearn.datasets import load_diabetes\n",
    "diabetes = load_diabetes() \n",
    "data = diabetes.data\n",
    "target = diabetes.target\n",
    "\n",
    "# 데이터 분할\n",
    "X_train, X_test, y_train, y_test = train_test_split(data,\n",
    "                                                    target,\n",
    "                                                    test_size = 0.2,\n",
    "                                                    random_state = 2205)\n",
    "\n",
    "# 모형객체 생성\n",
    "ann_conti = MLPRegressor(alpha = 0.5,\n",
    "                         max_iter = 10000,\n",
    "                         random_state = 2022)\n",
    "\n",
    "# 모델학습\n",
    "model_ann_conti = ann_conti.fit(X_train, y_train)\n",
    "\n",
    "# RMSE\n",
    "from sklearn.metrics import mean_squared_error\n",
    "y_pred = model_ann_conti.predict(X_test)\n",
    "rmse = mean_squared_error(y_test, y_pred, squared = False)\n",
    "print(rmse)"
   ]
  },
  {
   "cell_type": "markdown",
   "id": "8ac5c4dc",
   "metadata": {},
   "source": [
    "### 8절. 의사결정나무"
   ]
  },
  {
   "cell_type": "code",
   "execution_count": 31,
   "id": "47c5843a",
   "metadata": {},
   "outputs": [
    {
     "name": "stdout",
     "output_type": "stream",
     "text": [
      "0.9665831244778613\n"
     ]
    }
   ],
   "source": [
    "# 패키지로부터 클래스, 함수를 호출\n",
    "from sklearn.tree import DecisionTreeClassifier\n",
    "from sklearn.model_selection import train_test_split\n",
    "\n",
    "# iris 데이터셋 호출\n",
    "from sklearn.datasets import load_iris\n",
    "iris = load_iris() \n",
    "data = iris.data\n",
    "target = iris.target\n",
    "\n",
    "# 데이터 분할\n",
    "X_train, X_test, y_train, y_test = train_test_split(data,\n",
    "                                                    target,\n",
    "                                                    test_size = 0.2,\n",
    "                                                    random_state = 2205,\n",
    "                                                    stratify = target)\n",
    "\n",
    "# 모형객체 생성\n",
    "dtr_multi = DecisionTreeClassifier(max_depth = 3,\n",
    "                                   min_samples_leaf = 10,\n",
    "                                   random_state = 2022)\n",
    "\n",
    "# 모델학습\n",
    "model_dtr_multi = dtr_multi.fit(X_train, y_train)\n",
    "\n",
    "# macro f1-score\n",
    "from sklearn.metrics import f1_score\n",
    "y_pred = model_dtr_multi.predict(X_test)\n",
    "\n",
    "macro_f1 = f1_score(y_test, y_pred, average = \"macro\")\n",
    "print(macro_f1)"
   ]
  },
  {
   "cell_type": "code",
   "execution_count": 32,
   "id": "de785a66",
   "metadata": {},
   "outputs": [
    {
     "name": "stdout",
     "output_type": "stream",
     "text": [
      "0.999834656084656\n"
     ]
    }
   ],
   "source": [
    "# 패키지로부터 클래스, 함수를 호출\n",
    "from sklearn.tree import DecisionTreeClassifier\n",
    "from sklearn.model_selection import train_test_split\n",
    "\n",
    "# breast_cancer 데이터셋 호출\n",
    "from sklearn.datasets import load_breast_cancer\n",
    "breast_cancer = load_breast_cancer() \n",
    "data = breast_cancer.data\n",
    "target = breast_cancer.target\n",
    "\n",
    "# 데이터 분할\n",
    "X_train, X_test, y_train, y_test = train_test_split(data,\n",
    "                                                    target,\n",
    "                                                    test_size = 0.2,\n",
    "                                                    random_state = 2205,\n",
    "                                                    stratify = target)\n",
    "\n",
    "# 모형객체 생성\n",
    "dtr_bin = DecisionTreeClassifier(max_depth = 3,\n",
    "                                min_samples_leaf = 10,\n",
    "                                random_state = 2022)\n",
    "\n",
    "# 모델학습\n",
    "model_dtr_bin = dtr_bin.fit(X_train, y_train)\n",
    "\n",
    "# ROC\n",
    "from sklearn.metrics import roc_curve, auc\n",
    "y_score = model_dtr_bin.predict_proba(X_test)[:,1]\n",
    "fpr, tpr, thresholds = roc_curve(y_test, y_score) \n",
    "\n",
    "# AUC\n",
    "AUC = auc(fpr, tpr) # roc_curve()에서 반환된 fpr을 x축, tpr을 y축\n",
    "print(AUC)"
   ]
  },
  {
   "cell_type": "code",
   "execution_count": 34,
   "id": "f3877cd3",
   "metadata": {},
   "outputs": [
    {
     "name": "stdout",
     "output_type": "stream",
     "text": [
      "68.43615007635243\n"
     ]
    }
   ],
   "source": [
    "# 패키지로부터 클래스, 함수를 호출\n",
    "from sklearn.tree import DecisionTreeRegressor\n",
    "from sklearn.model_selection import train_test_split\n",
    "\n",
    "\n",
    "# diabetes 데이터셋 호출\n",
    "from sklearn.datasets import load_diabetes\n",
    "diabetes = load_diabetes() \n",
    "data = diabetes.data\n",
    "target = diabetes.target\n",
    "\n",
    "# 데이터 분할\n",
    "X_train, X_test, y_train, y_test = train_test_split(data,\n",
    "                                                    target,\n",
    "                                                    test_size = 0.2,\n",
    "                                                    random_state = 2205)\n",
    "\n",
    "# 모형객체 생성\n",
    "dtr_conti = DecisionTreeRegressor(max_depth = 3,\n",
    "                                  min_samples_leaf = 10,\n",
    "                                  random_state = 2022)\n",
    "\n",
    "# 모델학습\n",
    "model_dtr_conti = dtr_conti.fit(X_train, y_train)\n",
    "\n",
    "# RMSE\n",
    "from sklearn.metrics import mean_squared_error\n",
    "y_pred = model_dtr_conti.predict(X_test)\n",
    "rmse = mean_squared_error(y_test, y_pred, squared = False)\n",
    "print(rmse)"
   ]
  },
  {
   "cell_type": "markdown",
   "id": "94c468d3",
   "metadata": {},
   "source": [
    "### 9절. 앙상블"
   ]
  },
  {
   "cell_type": "markdown",
   "id": "3157f3df",
   "metadata": {},
   "source": [
    "#### 1. 배깅"
   ]
  },
  {
   "cell_type": "code",
   "execution_count": 35,
   "id": "8d8ffadf",
   "metadata": {},
   "outputs": [
    {
     "name": "stdout",
     "output_type": "stream",
     "text": [
      "0.9973544973544974\n"
     ]
    }
   ],
   "source": [
    "# 패키지로부터 클래스, 함수를 호출\n",
    "from sklearn.ensemble import BaggingClassifier\n",
    "from sklearn.tree import DecisionTreeClassifier\n",
    "from sklearn.model_selection import train_test_split\n",
    " \n",
    "# breast_cancer 데이터셋 호출\n",
    "from sklearn.datasets import load_breast_cancer\n",
    "breast_cancer = load_breast_cancer() \n",
    "data = breast_cancer.data\n",
    "target = breast_cancer.target\n",
    "\n",
    "# 데이터 분할\n",
    "X_train, X_test, y_train, y_test = train_test_split(data,\n",
    "                                                    target,\n",
    "                                                    test_size = 0.2,\n",
    "                                                    random_state = 2205,\n",
    "                                                    stratify = target)\n",
    "\n",
    "# 모형객체 생성\n",
    "dtr = DecisionTreeClassifier(max_depth = 3, min_samples_leaf = 10)\n",
    "\n",
    "bag_bin = BaggingClassifier(base_estimator = dtr,\n",
    "                            n_estimators = 500,\n",
    "                            random_state = 2022)\n",
    "\n",
    "# 모델학습\n",
    "model_bag_bin = bag_bin.fit(X_train, y_train)\n",
    "\n",
    "# ROC\n",
    "from sklearn.metrics import roc_curve, auc\n",
    "y_score = model_bag_bin.predict_proba(X_test)[:,1]\n",
    "fpr, tpr, thresholds = roc_curve(y_test, y_score)\n",
    "\n",
    "# AUC\n",
    "AUC = auc(fpr, tpr) # roc_curve()에서 반환된 fpr을 x축, tpr을 y축\n",
    "print(AUC)"
   ]
  },
  {
   "cell_type": "code",
   "execution_count": 36,
   "id": "865385dd",
   "metadata": {},
   "outputs": [
    {
     "name": "stdout",
     "output_type": "stream",
     "text": [
      "0.9665831244778613\n"
     ]
    }
   ],
   "source": [
    "# 패키지로부터 클래스, 함수를 호출\n",
    "from sklearn.ensemble import BaggingClassifier\n",
    "from sklearn.tree import DecisionTreeClassifier\n",
    "from sklearn.model_selection import train_test_split\n",
    "\n",
    "# iris 데이터셋 호출\n",
    "from sklearn.datasets import load_iris\n",
    "iris = load_iris() \n",
    "data = iris.data\n",
    "target = iris.target\n",
    "\n",
    "# 데이터 분할\n",
    "X_train, X_test, y_train, y_test = train_test_split(data,\n",
    "                                                    target,\n",
    "                                                    test_size = 0.2,\n",
    "                                                    random_state = 2205,\n",
    "                                                    stratify = target)\n",
    "\n",
    "# 모형객체 생성\n",
    "dtr = DecisionTreeClassifier(max_depth = 3, min_samples_leaf = 10)\n",
    "\n",
    "bag_multi = BaggingClassifier(base_estimator = dtr,\n",
    "                              n_estimators = 500,\n",
    "                              random_state = 2022)\n",
    "\n",
    "# 모델학습\n",
    "model_bag_multi = bag_multi.fit(X_train, y_train)\n",
    "\n",
    "# macro f1-score\n",
    "from sklearn.metrics import f1_score\n",
    "y_pred = model_bag_multi.predict(X_test)\n",
    "\n",
    "macro_f1 = f1_score(y_test, y_pred, average = \"macro\")\n",
    "print(macro_f1)"
   ]
  },
  {
   "cell_type": "code",
   "execution_count": 37,
   "id": "c5f46b6c",
   "metadata": {},
   "outputs": [
    {
     "name": "stdout",
     "output_type": "stream",
     "text": [
      "62.445688892722956\n"
     ]
    }
   ],
   "source": [
    "# 패키지로부터 클래스, 함수를 호출\n",
    "from sklearn.ensemble import BaggingRegressor\n",
    "from sklearn.tree import DecisionTreeRegressor\n",
    "from sklearn.model_selection import train_test_split\n",
    "\n",
    "# diabetes 데이터셋 호출\n",
    "from sklearn.datasets import load_diabetes\n",
    "diabetes = load_diabetes() \n",
    "data = diabetes.data\n",
    "target = diabetes.target\n",
    "\n",
    "# 데이터 분할\n",
    "X_train, X_test, y_train, y_test = train_test_split(data,\n",
    "                                                    target,\n",
    "                                                    test_size = 0.2,\n",
    "                                                    random_state = 2205)\n",
    "\n",
    "# 모형객체 생성\n",
    "dtr = DecisionTreeRegressor(max_depth = 3, min_samples_leaf = 10)\n",
    "\n",
    "bag_conti = BaggingRegressor(base_estimator = dtr,\n",
    "                              n_estimators = 500,\n",
    "                              random_state = 2022)\n",
    "\n",
    "# 모델학습\n",
    "model_bag_conti = bag_conti.fit(X_train, y_train)\n",
    "\n",
    "# RMSE\n",
    "from sklearn.metrics import mean_squared_error\n",
    "y_pred = model_bag_conti.predict(X_test)\n",
    "rmse = mean_squared_error(y_test, y_pred, squared = False)\n",
    "print(rmse)"
   ]
  },
  {
   "cell_type": "markdown",
   "id": "674874b0",
   "metadata": {},
   "source": [
    "#### 2. 랜덤포레스트"
   ]
  },
  {
   "cell_type": "code",
   "execution_count": 38,
   "id": "f39796a9",
   "metadata": {},
   "outputs": [
    {
     "name": "stdout",
     "output_type": "stream",
     "text": [
      "0.9996693121693121\n"
     ]
    }
   ],
   "source": [
    "# 패키지로부터 클래스, 함수를 호출\n",
    "from sklearn.ensemble import RandomForestClassifier\n",
    "from sklearn.model_selection import train_test_split\n",
    "\n",
    " \n",
    "# breast_cancer 데이터셋 호출\n",
    "from sklearn.datasets import load_breast_cancer\n",
    "breast_cancer = load_breast_cancer() \n",
    "data = breast_cancer.data\n",
    "target = breast_cancer.target\n",
    "\n",
    "# 데이터 분할\n",
    "X_train, X_test, y_train, y_test = train_test_split(data,\n",
    "                                                    target,\n",
    "                                                    test_size = 0.2,\n",
    "                                                    random_state = 2205,\n",
    "                                                    stratify = target)\n",
    "\n",
    "# 모형객체 생성\n",
    "rf_bin = RandomForestClassifier(n_estimators = 500,\n",
    "                                max_depth = 3,\n",
    "                                min_samples_leaf = 10,\n",
    "                                max_features = 'sqrt',\n",
    "                                random_state = 2022)\n",
    "\n",
    "# 모델학습\n",
    "model_rf_bin = rf_bin.fit(X_train, y_train)\n",
    "\n",
    "# ROC\n",
    "from sklearn.metrics import roc_curve, auc\n",
    "y_score = model_rf_bin.predict_proba(X_test)[:,1]\n",
    "fpr, tpr, thresholds = roc_curve(y_test, y_score) \n",
    "\n",
    "# AUC\n",
    "AUC = auc(fpr, tpr) # roc_curve()에서 반환된 fpr을 x축, tpr을 y축\n",
    "print(AUC)"
   ]
  },
  {
   "cell_type": "code",
   "execution_count": 39,
   "id": "4b80ac3e",
   "metadata": {},
   "outputs": [
    {
     "name": "stdout",
     "output_type": "stream",
     "text": [
      "0.9665831244778613\n"
     ]
    }
   ],
   "source": [
    "# 패키지로부터 클래스, 함수를 호출\n",
    "from sklearn.ensemble import RandomForestClassifier\n",
    "from sklearn.model_selection import train_test_split\n",
    "\n",
    "\n",
    "# iris 데이터셋 호출\n",
    "from sklearn.datasets import load_iris\n",
    "iris = load_iris() \n",
    "data = iris.data\n",
    "target = iris.target\n",
    "\n",
    "# 데이터 분할\n",
    "X_train, X_test, y_train, y_test = train_test_split(data,\n",
    "                                                    target,\n",
    "                                                    test_size = 0.2,\n",
    "                                                    random_state = 2205,\n",
    "                                                    stratify = target)\n",
    "\n",
    "# 모형객체 생성\n",
    "rf_multi = RandomForestClassifier(n_estimators = 500,\n",
    "                                  max_depth = 3,\n",
    "                                  min_samples_leaf = 15,\n",
    "                                  max_features = 'sqrt',\n",
    "                                  random_state = 2022)\n",
    "\n",
    "# 모델학습\n",
    "model_rf_multi = rf_multi.fit(X_train, y_train)\n",
    "\n",
    "# macro f1-score\n",
    "from sklearn.metrics import f1_score\n",
    "y_pred = model_rf_multi.predict(X_test)\n",
    "\n",
    "macro_f1 = f1_score(y_test, y_pred, average = \"macro\")\n",
    "print(macro_f1)"
   ]
  },
  {
   "cell_type": "code",
   "execution_count": 40,
   "id": "b901a4d0",
   "metadata": {},
   "outputs": [
    {
     "name": "stdout",
     "output_type": "stream",
     "text": [
      "63.49825173792558\n"
     ]
    }
   ],
   "source": [
    "# 패키지로부터 클래스, 함수를 호출\n",
    "from sklearn.ensemble import RandomForestRegressor\n",
    "from sklearn.model_selection import train_test_split\n",
    "\n",
    "\n",
    "# diabetes 데이터셋 호출\n",
    "from sklearn.datasets import load_diabetes\n",
    "diabetes = load_diabetes() \n",
    "data = diabetes.data\n",
    "target = diabetes.target\n",
    "\n",
    "# 데이터 분할\n",
    "X_train, X_test, y_train, y_test = train_test_split(data,\n",
    "                                                    target,\n",
    "                                                    test_size = 0.2,\n",
    "                                                    random_state = 2205)\n",
    "\n",
    "# 모형객체 생성\n",
    "rf_conti = RandomForestRegressor(n_estimators = 500,\n",
    "                                 max_depth = 3,\n",
    "                                 min_samples_leaf = 10,\n",
    "                                 max_features = 3,\n",
    "                                 random_state = 2022)\n",
    "\n",
    "# 모델학습\n",
    "model_rf_conti = rf_conti.fit(X_train, y_train)\n",
    "\n",
    "# RMSE\n",
    "from sklearn.metrics import mean_squared_error\n",
    "y_pred = model_rf_conti.predict(X_test)\n",
    "rmse = mean_squared_error(y_test, y_pred, squared = False)\n",
    "print(rmse)"
   ]
  },
  {
   "cell_type": "markdown",
   "id": "402c9160",
   "metadata": {},
   "source": [
    "#### 3. 에이다부스팅"
   ]
  },
  {
   "cell_type": "code",
   "execution_count": 41,
   "id": "155ff77a",
   "metadata": {},
   "outputs": [
    {
     "name": "stdout",
     "output_type": "stream",
     "text": [
      "0.9957010582010583\n"
     ]
    }
   ],
   "source": [
    "# 패키지로부터 클래스, 함수를 호출\n",
    "from sklearn.ensemble import AdaBoostClassifier\n",
    "from sklearn.model_selection import train_test_split\n",
    "\n",
    " \n",
    "# breast_cancer 데이터셋 호출\n",
    "from sklearn.datasets import load_breast_cancer\n",
    "breast_cancer = load_breast_cancer() \n",
    "data = breast_cancer.data\n",
    "target = breast_cancer.target\n",
    "\n",
    "# 데이터 분할\n",
    "X_train, X_test, y_train, y_test = train_test_split(data,\n",
    "                                                    target,\n",
    "                                                    test_size = 0.2,\n",
    "                                                    random_state = 2205,\n",
    "                                                    stratify = target)\n",
    "\n",
    "# 모형객체 생성\n",
    "ada_bin = AdaBoostClassifier(n_estimators = 100,\n",
    "                             learning_rate = 0.5,\n",
    "                             random_state = 2022)\n",
    "\n",
    "# 모델학습\n",
    "model_ada_bin = ada_bin.fit(X_train, y_train)\n",
    "\n",
    "# ROC\n",
    "from sklearn.metrics import roc_curve, auc\n",
    "y_score = model_ada_bin.predict_proba(X_test)[:,1]\n",
    "fpr, tpr, thresholds = roc_curve(y_test, y_score) \n",
    "\n",
    "# AUC\n",
    "AUC = auc(fpr, tpr) # roc_curve()에서 반환된 fpr을 x축, tpr을 y축\n",
    "print(AUC)"
   ]
  },
  {
   "cell_type": "code",
   "execution_count": 42,
   "id": "f541ad76",
   "metadata": {},
   "outputs": [
    {
     "name": "stdout",
     "output_type": "stream",
     "text": [
      "0.9665831244778613\n"
     ]
    }
   ],
   "source": [
    "# 패키지로부터 클래스, 함수를 호출\n",
    "from sklearn.ensemble import AdaBoostClassifier\n",
    "from sklearn.model_selection import train_test_split\n",
    "\n",
    "\n",
    "# iris 데이터셋 호출\n",
    "from sklearn.datasets import load_iris\n",
    "iris = load_iris() \n",
    "data = iris.data\n",
    "target = iris.target\n",
    "\n",
    "# 데이터 분할\n",
    "X_train, X_test, y_train, y_test = train_test_split(data,\n",
    "                                                    target,\n",
    "                                                    test_size = 0.2,\n",
    "                                                    random_state = 2205,\n",
    "                                                    stratify = target)\n",
    "\n",
    "# 모형객체 생성\n",
    "ada_multi = AdaBoostClassifier(n_estimators = 500,\n",
    "                               learning_rate = 0.01,\n",
    "                               random_state = 2022)\n",
    "\n",
    "# 모델학습\n",
    "model_ada_multi = ada_multi.fit(X_train, y_train)\n",
    "\n",
    "# macro f1-score\n",
    "from sklearn.metrics import f1_score\n",
    "y_pred = model_ada_multi.predict(X_test)\n",
    "\n",
    "macro_f1 = f1_score(y_test, y_pred, average = \"macro\")\n",
    "print(macro_f1)"
   ]
  },
  {
   "cell_type": "code",
   "execution_count": 43,
   "id": "523f8f87",
   "metadata": {},
   "outputs": [
    {
     "name": "stdout",
     "output_type": "stream",
     "text": [
      "62.077241273777446\n"
     ]
    }
   ],
   "source": [
    "# 패키지로부터 클래스, 함수를 호출\n",
    "from sklearn.ensemble import AdaBoostRegressor\n",
    "from sklearn.model_selection import train_test_split\n",
    "\n",
    "\n",
    "# diabetes 데이터셋 호출\n",
    "from sklearn.datasets import load_diabetes\n",
    "diabetes = load_diabetes() \n",
    "data = diabetes.data\n",
    "target = diabetes.target\n",
    "\n",
    "# 데이터 분할\n",
    "X_train, X_test, y_train, y_test = train_test_split(data,\n",
    "                                                    target,\n",
    "                                                    test_size = 0.2,\n",
    "                                                    random_state = 2205)\n",
    "# 모형객체 생성\n",
    "ada_conti = AdaBoostRegressor(n_estimators = 500,\n",
    "                              learning_rate = 0.01,\n",
    "                              loss = 'square',\n",
    "                              random_state = 2022)\n",
    "\n",
    "# 모델학습\n",
    "model_ada_conti = ada_conti.fit(X_train, y_train)\n",
    "\n",
    "# RMSE\n",
    "from sklearn.metrics import mean_squared_error\n",
    "y_pred = model_ada_conti.predict(X_test)\n",
    "rmse = mean_squared_error(y_test, y_pred, squared = False)\n",
    "print(rmse)"
   ]
  },
  {
   "cell_type": "markdown",
   "id": "5f2dff7f",
   "metadata": {},
   "source": [
    "#### 4. 그래디언트 부스팅"
   ]
  },
  {
   "cell_type": "code",
   "execution_count": 44,
   "id": "940ffbc2",
   "metadata": {},
   "outputs": [
    {
     "name": "stdout",
     "output_type": "stream",
     "text": [
      "0.9983465608465608\n"
     ]
    }
   ],
   "source": [
    "# 패키지로부터 클래스, 함수를 호출\n",
    "from sklearn.ensemble import GradientBoostingClassifier\n",
    "from sklearn.model_selection import train_test_split\n",
    "\n",
    " \n",
    "# breast_cancer 데이터셋 호출\n",
    "from sklearn.datasets import load_breast_cancer\n",
    "breast_cancer = load_breast_cancer() \n",
    "data = breast_cancer.data\n",
    "target = breast_cancer.target\n",
    "\n",
    "# 데이터 분할\n",
    "X_train, X_test, y_train, y_test = train_test_split(data,\n",
    "                                                    target,\n",
    "                                                    test_size = 0.2,\n",
    "                                                    random_state = 2205,\n",
    "                                                    stratify = target)\n",
    "\n",
    "# 모형객체 생성\n",
    "gbm_bin = GradientBoostingClassifier(n_estimators = 500,\n",
    "                                     max_depth = 4,\n",
    "                                     min_samples_leaf = 10,\n",
    "                                     learning_rate = 0.1,\n",
    "                                     random_state = 2022)\n",
    "\n",
    "# 모델학습\n",
    "model_gbm_bin = gbm_bin.fit(X_train, y_train)\n",
    "\n",
    "# ROC\n",
    "from sklearn.metrics import roc_curve, auc\n",
    "y_score = model_gbm_bin.predict_proba(X_test)[:,1]\n",
    "fpr, tpr, thresholds = roc_curve(y_test, y_score) \n",
    "\n",
    "# AUC\n",
    "AUC = auc(fpr, tpr) # roc_curve()에서 반환된 fpr을 x축, tpr을 y축\n",
    "print(AUC)"
   ]
  },
  {
   "cell_type": "code",
   "execution_count": 45,
   "id": "4353189a",
   "metadata": {},
   "outputs": [
    {
     "name": "stdout",
     "output_type": "stream",
     "text": [
      "0.9665831244778613\n"
     ]
    }
   ],
   "source": [
    "# 패키지로부터 클래스, 함수를 호출\n",
    "from sklearn.ensemble import GradientBoostingClassifier\n",
    "from sklearn.model_selection import train_test_split\n",
    "\n",
    "\n",
    "# iris 데이터셋 호출\n",
    "from sklearn.datasets import load_iris\n",
    "iris = load_iris() \n",
    "data = iris.data\n",
    "target = iris.target\n",
    "\n",
    "# 데이터 분할\n",
    "X_train, X_test, y_train, y_test = train_test_split(data,\n",
    "                                                    target,\n",
    "                                                    test_size = 0.2,\n",
    "                                                    random_state = 2205,\n",
    "                                                    stratify = target)\n",
    "\n",
    "# 모형객체 생성\n",
    "gbm_multi = GradientBoostingClassifier(n_estimators = 500,\n",
    "                                       max_depth = 8,\n",
    "                                       min_samples_leaf = 5,\n",
    "                                       learning_rate = 0.5,\n",
    "                                       random_state = 2022)\n",
    "\n",
    "# 모델학습\n",
    "model_gbm_multi = gbm_multi.fit(X_train, y_train)\n",
    "\n",
    "# macro f1-score\n",
    "from sklearn.metrics import f1_score\n",
    "y_pred = model_gbm_multi.predict(X_test)\n",
    "\n",
    "macro_f1 = f1_score(y_test, y_pred, average = \"macro\")\n",
    "print(macro_f1)"
   ]
  },
  {
   "cell_type": "code",
   "execution_count": 46,
   "id": "0b9005bb",
   "metadata": {},
   "outputs": [
    {
     "name": "stdout",
     "output_type": "stream",
     "text": [
      "75.25181596869564\n"
     ]
    }
   ],
   "source": [
    "# 패키지로부터 클래스, 함수를 호출\n",
    "from sklearn.ensemble import GradientBoostingRegressor\n",
    "from sklearn.model_selection import train_test_split\n",
    "\n",
    "# diabetes 데이터셋 호출\n",
    "from sklearn.datasets import load_diabetes\n",
    "diabetes = load_diabetes() \n",
    "data = diabetes.data\n",
    "target = diabetes.target\n",
    "\n",
    "# 데이터 분할\n",
    "X_train, X_test, y_train, y_test = train_test_split(data,\n",
    "                                                    target,\n",
    "                                                    test_size = 0.2,\n",
    "                                                    random_state = 2205)\n",
    "\n",
    "# 모형객체 생성\n",
    "gbm_conti = GradientBoostingRegressor(n_estimators = 500,\n",
    "                                      max_depth = 2,\n",
    "                                      min_samples_leaf = 5,\n",
    "                                      learning_rate = 0.5,\n",
    "                                      random_state = 2022)\n",
    "\n",
    "# 모델학습\n",
    "model_gbm_conti = gbm_conti.fit(X_train, y_train)\n",
    "\n",
    "# RMSE\n",
    "from sklearn.metrics import mean_squared_error\n",
    "y_pred = model_gbm_conti.predict(X_test)\n",
    "rmse = mean_squared_error(y_test, y_pred, squared = False)\n",
    "print(rmse)"
   ]
  },
  {
   "cell_type": "markdown",
   "id": "ec92ba44",
   "metadata": {},
   "source": [
    "#### 5. XGBoost"
   ]
  },
  {
   "cell_type": "code",
   "execution_count": 20,
   "id": "7b49c7f0",
   "metadata": {},
   "outputs": [
    {
     "name": "stdout",
     "output_type": "stream",
     "text": [
      "Collecting xgboost==1.4.2\n",
      "  Downloading xgboost-1.4.2-py3-none-win_amd64.whl (97.8 MB)\n",
      "Requirement already satisfied: numpy in c:\\users\\user\\anaconda3\\lib\\site-packages (from xgboost==1.4.2) (1.21.1)\n",
      "Requirement already satisfied: scipy in c:\\users\\user\\anaconda3\\lib\\site-packages (from xgboost==1.4.2) (1.7.0)\n",
      "Installing collected packages: xgboost\n",
      "Successfully installed xgboost-1.4.2\n"
     ]
    }
   ],
   "source": [
    "!pip install xgboost==1.4.2"
   ]
  },
  {
   "cell_type": "code",
   "execution_count": 47,
   "id": "1e4d8c97",
   "metadata": {},
   "outputs": [
    {
     "name": "stderr",
     "output_type": "stream",
     "text": [
      "C:\\Users\\Administrator\\anaconda3\\envs\\big_ana\\lib\\site-packages\\xgboost\\compat.py:31: FutureWarning: pandas.Int64Index is deprecated and will be removed from pandas in a future version. Use pandas.Index with the appropriate dtype instead.\n",
      "  from pandas import MultiIndex, Int64Index\n"
     ]
    },
    {
     "name": "stdout",
     "output_type": "stream",
     "text": [
      "0.9952050264550264\n"
     ]
    }
   ],
   "source": [
    "# 패키지로부터 클래스, 함수를 호출\n",
    "from xgboost import XGBClassifier\n",
    "from sklearn.model_selection import train_test_split\n",
    "\n",
    " \n",
    "# breast_cancer 데이터셋 호출\n",
    "from sklearn.datasets import load_breast_cancer\n",
    "breast_cancer = load_breast_cancer() \n",
    "data = breast_cancer.data\n",
    "target = breast_cancer.target\n",
    "\n",
    "# 데이터 분할\n",
    "X_train, X_test, y_train, y_test = train_test_split(data,\n",
    "                                                    target,\n",
    "                                                    test_size = 0.2,\n",
    "                                                    random_state = 2205,\n",
    "                                                    stratify = target)\n",
    "\n",
    "# 모형객체 생성\n",
    "xgb_wrap_bin = XGBClassifier(max_depth = 8,\n",
    "                             n_estimators = 500,\n",
    "                             nthread = 5,\n",
    "                             min_child_weight = 20,\n",
    "                             gamma = 0.5,\n",
    "                             objective = 'binary:logistic',\n",
    "                             use_label_encoder = False,\n",
    "                             random_state = 2022)\n",
    "\n",
    "# 모델학습\n",
    "model_xgb_wrap_bin = xgb_wrap_bin.fit(X_train, y_train,\n",
    "                                      eval_metric = 'mlogloss')\n",
    "\n",
    "# ROC\n",
    "from sklearn.metrics import roc_curve, auc\n",
    "y_score = model_xgb_wrap_bin.predict_proba(X_test)[:,1]\n",
    "fpr, tpr, thresholds = roc_curve(y_test, y_score) \n",
    "\n",
    "# AUC\n",
    "AUC = auc(fpr, tpr) # roc_curve()에서 반환된 fpr을 x축, tpr을 y축\n",
    "print(AUC)"
   ]
  },
  {
   "cell_type": "code",
   "execution_count": 48,
   "id": "221e4a26",
   "metadata": {},
   "outputs": [
    {
     "name": "stdout",
     "output_type": "stream",
     "text": [
      "0.9665831244778613\n"
     ]
    }
   ],
   "source": [
    "# 패키지로부터 클래스, 함수를 호출\n",
    "from xgboost import XGBClassifier\n",
    "from sklearn.model_selection import train_test_split\n",
    "\n",
    "\n",
    "# iris 데이터셋 호출\n",
    "from sklearn.datasets import load_iris\n",
    "iris = load_iris() \n",
    "data = iris.data\n",
    "target = iris.target\n",
    "\n",
    "# 데이터 분할\n",
    "X_train, X_test, y_train, y_test = train_test_split(data,\n",
    "                                                    target,\n",
    "                                                    test_size = 0.2,\n",
    "                                                    random_state = 2205,\n",
    "                                                    stratify = target)\n",
    "\n",
    "# 모형객체 생성\n",
    "xgb_wrap_multi = XGBClassifier(max_depth = 8,\n",
    "                               n_estimators = 500,\n",
    "                               nthread = 5,\n",
    "                               min_child_weight = 10,\n",
    "                               gamma = 0.5,\n",
    "                               objective = 'multi:softmax',\n",
    "                               use_label_encoder = False,\n",
    "                               random_state = 2022)\n",
    "\n",
    "# 모델학습\n",
    "model_xgb_wrap_multi = xgb_wrap_multi.fit(X_train, y_train,\n",
    "                                          eval_metric = 'mlogloss')\n",
    "\n",
    "# macro f1-score\n",
    "from sklearn.metrics import f1_score\n",
    "y_pred = model_xgb_wrap_multi.predict(X_test)\n",
    "\n",
    "macro_f1 = f1_score(y_test, y_pred, average = \"macro\")\n",
    "print(macro_f1)"
   ]
  },
  {
   "cell_type": "code",
   "execution_count": 49,
   "id": "8af3b03a",
   "metadata": {},
   "outputs": [
    {
     "name": "stdout",
     "output_type": "stream",
     "text": [
      "67.9309022195871\n"
     ]
    }
   ],
   "source": [
    "# 패키지로부터 클래스, 함수를 호출\n",
    "from xgboost import XGBRegressor\n",
    "from sklearn.model_selection import train_test_split\n",
    "\n",
    "\n",
    "# diabetes 데이터셋 호출\n",
    "from sklearn.datasets import load_diabetes\n",
    "diabetes = load_diabetes() \n",
    "data = diabetes.data\n",
    "target = diabetes.target\n",
    "\n",
    "# 데이터 분할\n",
    "X_train, X_test, y_train, y_test = train_test_split(data,\n",
    "                                                    target,\n",
    "                                                    test_size = 0.2,\n",
    "                                                    random_state = 2205)\n",
    "\n",
    "# 모형객체 생성\n",
    "xgb_wrap_conti = XGBRegressor(max_depth = 8,\n",
    "                              n_estimators = 500,\n",
    "                              nthread = 5,\n",
    "                              min_child_weight = 10,\n",
    "                              gamma = 0.5,\n",
    "                              objective = 'reg:squarederror',\n",
    "                              use_label_encoder = False,\n",
    "                              random_state = 2022)\n",
    "\n",
    "# 모델학습\n",
    "model_xgb_wrap_conti = xgb_wrap_conti.fit(X_train, y_train,\n",
    "                                          eval_metric = 'rmse')\n",
    "\n",
    "# RMSE\n",
    "from sklearn.metrics import mean_squared_error\n",
    "y_pred = model_xgb_wrap_conti.predict(X_test)\n",
    "rmse = mean_squared_error(y_test, y_pred, squared = False)\n",
    "print(rmse)"
   ]
  },
  {
   "cell_type": "markdown",
   "id": "c7a4ec30",
   "metadata": {},
   "source": [
    "#### 6. LightGBM"
   ]
  },
  {
   "cell_type": "code",
   "execution_count": 24,
   "id": "04cd998f",
   "metadata": {},
   "outputs": [
    {
     "name": "stdout",
     "output_type": "stream",
     "text": [
      "Collecting lightgbm==3.3.2\n",
      "  Downloading lightgbm-3.3.2-py3-none-win_amd64.whl (1.0 MB)\n",
      "Requirement already satisfied: scikit-learn!=0.22.0 in c:\\users\\user\\anaconda3\\lib\\site-packages (from lightgbm==3.3.2) (0.24.2)\n",
      "Requirement already satisfied: scipy in c:\\users\\user\\anaconda3\\lib\\site-packages (from lightgbm==3.3.2) (1.7.0)\n",
      "Requirement already satisfied: wheel in c:\\users\\user\\anaconda3\\lib\\site-packages (from lightgbm==3.3.2) (0.36.2)\n",
      "Requirement already satisfied: numpy in c:\\users\\user\\anaconda3\\lib\\site-packages (from lightgbm==3.3.2) (1.21.1)\n",
      "Requirement already satisfied: threadpoolctl>=2.0.0 in c:\\users\\user\\anaconda3\\lib\\site-packages (from scikit-learn!=0.22.0->lightgbm==3.3.2) (2.1.0)\n",
      "Requirement already satisfied: joblib>=0.11 in c:\\users\\user\\anaconda3\\lib\\site-packages (from scikit-learn!=0.22.0->lightgbm==3.3.2) (1.0.1)\n",
      "Installing collected packages: lightgbm\n",
      "Successfully installed lightgbm-3.3.2\n"
     ]
    }
   ],
   "source": [
    "!pip install lightgbm==3.3.2"
   ]
  },
  {
   "cell_type": "code",
   "execution_count": 50,
   "id": "63b15581",
   "metadata": {},
   "outputs": [
    {
     "name": "stdout",
     "output_type": "stream",
     "text": [
      "0.9996693121693121\n"
     ]
    }
   ],
   "source": [
    "# 패키지로부터 클래스, 함수를 호출\n",
    "from lightgbm import LGBMClassifier\n",
    "from sklearn.model_selection import train_test_split\n",
    "\n",
    " \n",
    "# breast_cancer 데이터셋 호출\n",
    "from sklearn.datasets import load_breast_cancer\n",
    "breast_cancer = load_breast_cancer() \n",
    "data = breast_cancer.data\n",
    "target = breast_cancer.target\n",
    "\n",
    "# 데이터 분할\n",
    "X_train, X_test, y_train, y_test = train_test_split(data,\n",
    "                                                    target,\n",
    "                                                    test_size = 0.2,\n",
    "                                                    random_state = 2205,\n",
    "                                                    stratify = target)\n",
    "\n",
    "# 모형객체 생성\n",
    "lgb_wrap_bin = LGBMClassifier(max_depth = 8,\n",
    "                              n_estimators = 500,\n",
    "                              n_jobs = 30,\n",
    "                              min_child_weight = 10,\n",
    "                              learning_rate = 0.2,\n",
    "                              objective = 'binary',\n",
    "                              random_state = 2022)\n",
    "\n",
    "# 모델학습\n",
    "model_lgb_wrap_bin = lgb_wrap_bin.fit(X_train, y_train)\n",
    "\n",
    "# ROC\n",
    "from sklearn.metrics import roc_curve, auc\n",
    "y_score = model_lgb_wrap_bin.predict_proba(X_test)[:,1]\n",
    "fpr, tpr, thresholds = roc_curve(y_test, y_score) \n",
    "\n",
    "# AUC\n",
    "AUC = auc(fpr, tpr) # roc_curve()에서 반환된 fpr을 x축, tpr을 y축\n",
    "print(AUC)"
   ]
  },
  {
   "cell_type": "code",
   "execution_count": 51,
   "id": "d194c21e",
   "metadata": {},
   "outputs": [
    {
     "name": "stdout",
     "output_type": "stream",
     "text": [
      "0.9665831244778613\n"
     ]
    }
   ],
   "source": [
    "# 패키지로부터 클래스, 함수를 호출\n",
    "from lightgbm import LGBMClassifier\n",
    "from sklearn.model_selection import train_test_split\n",
    "\n",
    "\n",
    "# iris 데이터셋 호출\n",
    "from sklearn.datasets import load_iris\n",
    "iris = load_iris() \n",
    "data = iris.data\n",
    "target = iris.target\n",
    "\n",
    "# 데이터 분할\n",
    "X_train, X_test, y_train, y_test = train_test_split(data,\n",
    "                                                    target,\n",
    "                                                    test_size = 0.2,\n",
    "                                                    random_state = 2205,\n",
    "                                                    stratify = target)\n",
    "\n",
    "# 모형객체 생성\n",
    "lgb_wrap_multi = LGBMClassifier(max_depth = 8,\n",
    "                                n_estimators = 500,\n",
    "                                n_jobs = 5,\n",
    "                                min_child_weight = 10,\n",
    "                                learning_rate = 0.5,\n",
    "                                objective = 'multiclass',\n",
    "                                random_state = 2022\n",
    "                               )\n",
    "\n",
    "\n",
    "# 모델학습\n",
    "model_lgb_wrap_multi = lgb_wrap_multi.fit(X_train, y_train)\n",
    "\n",
    "# macro f1-score\n",
    "from sklearn.metrics import f1_score\n",
    "y_pred = model_lgb_wrap_multi.predict(X_test)\n",
    "\n",
    "macro_f1 = f1_score(y_test, y_pred, average = \"macro\")\n",
    "print(macro_f1)"
   ]
  },
  {
   "cell_type": "code",
   "execution_count": 52,
   "id": "5faafc70",
   "metadata": {},
   "outputs": [
    {
     "name": "stdout",
     "output_type": "stream",
     "text": [
      "63.63732148056437\n"
     ]
    }
   ],
   "source": [
    "# 패키지로부터 클래스, 함수를 호출\n",
    "from lightgbm import LGBMRegressor\n",
    "from sklearn.model_selection import train_test_split\n",
    "\n",
    "\n",
    "# diabetes 데이터셋 호출\n",
    "from sklearn.datasets import load_diabetes\n",
    "diabetes = load_diabetes() \n",
    "data = diabetes.data\n",
    "target = diabetes.target\n",
    "\n",
    "# 데이터 분할\n",
    "X_train, X_test, y_train, y_test = train_test_split(data,\n",
    "                                                    target,\n",
    "                                                    test_size = 0.2,\n",
    "                                                    random_state = 2205)\n",
    "\n",
    "# 모형객체 생성\n",
    "lgb_wrap_conti = LGBMRegressor(max_depth = 8,\n",
    "                               n_estimators = 500,\n",
    "                               n_jobs = 5,\n",
    "                               min_child_weight = 10,\n",
    "                               learning_rate = 0.5,\n",
    "                               objective = 'regression',\n",
    "                               random_state = 2022)\n",
    "\n",
    "# 모델학습\n",
    "model_lgb_wrap_conti = lgb_wrap_conti.fit(X_train, y_train)\n",
    "\n",
    "# RMSE\n",
    "from sklearn.metrics import mean_squared_error\n",
    "y_pred = model_lgb_wrap_conti.predict(X_test)\n",
    "rmse = mean_squared_error(y_test, y_pred, squared = False)\n",
    "print(rmse)"
   ]
  },
  {
   "cell_type": "markdown",
   "id": "71736abb",
   "metadata": {},
   "source": [
    "## 2장. 군집 모형"
   ]
  },
  {
   "cell_type": "markdown",
   "id": "b8ec6adc",
   "metadata": {},
   "source": [
    "### 1절. 군집 평가"
   ]
  },
  {
   "cell_type": "code",
   "execution_count": 28,
   "id": "b410075b",
   "metadata": {},
   "outputs": [
    {
     "name": "stdout",
     "output_type": "stream",
     "text": [
      "0.7222222222222222\n",
      "0.3076923076923077\n"
     ]
    }
   ],
   "source": [
    "# 임의의 리스트 생성\n",
    "labels_true = [0, 0, 0, 1, 1, 1, 1, 2, 2]\n",
    "labels_pred = [0, 0, 1, 1, 1, 1, 2, 2, 2]\n",
    "\n",
    "# 함수 호출\n",
    "from sklearn.metrics.cluster import rand_score, adjusted_rand_score\n",
    "\n",
    "# RI(랜드지수)\n",
    "ri = rand_score(labels_true, labels_pred)\n",
    "print(ri)\n",
    "\n",
    "# ARI(조정 랜드지수)\n",
    "ari = adjusted_rand_score(labels_true, labels_pred)\n",
    "print(ari)"
   ]
  },
  {
   "cell_type": "markdown",
   "id": "9f04126b",
   "metadata": {},
   "source": [
    "### 2절. 계층적 군집분석"
   ]
  },
  {
   "cell_type": "code",
   "execution_count": 29,
   "id": "df3766c7",
   "metadata": {},
   "outputs": [],
   "source": [
    "# 패키지로부터 클래스, 함수를 호출\n",
    "from sklearn.cluster import AgglomerativeClustering\n",
    "from sklearn.metrics.cluster import rand_score, adjusted_rand_score\n",
    "\n",
    "# iris 데이터셋 호출\n",
    "from sklearn.datasets import load_iris\n",
    "iris = load_iris() \n",
    "data = iris.data\n",
    "labels_true = iris.target # 정답 레이블\n",
    "\n",
    "# 와드연결법\n",
    "agg_ward = AgglomerativeClustering(n_clusters = 3)\n",
    "labels_pred_ward = agg_ward.fit_predict(data)\n",
    "\n",
    "# 평균연결법\n",
    "agg_avg = AgglomerativeClustering(n_clusters = 3, linkage = 'average')\n",
    "labels_pred_avg = agg_avg.fit_predict(data)\n",
    "\n",
    "# 최장연결법\n",
    "agg_comp = AgglomerativeClustering(n_clusters = 3, linkage = 'complete')\n",
    "labels_pred_comp = agg_comp.fit_predict(data)\n",
    "\n",
    "# 최단연결법\n",
    "agg_sing = AgglomerativeClustering(n_clusters = 3, linkage = 'single')\n",
    "labels_pred_sing = agg_sing.fit_predict(data)"
   ]
  },
  {
   "cell_type": "code",
   "execution_count": 30,
   "id": "2f026ea9",
   "metadata": {},
   "outputs": [
    {
     "name": "stdout",
     "output_type": "stream",
     "text": [
      "0.8797315436241611\n",
      "0.8922595078299776\n",
      "0.8367785234899329\n",
      "0.7766442953020134\n"
     ]
    }
   ],
   "source": [
    "# RI 비교\n",
    "print(rand_score(labels_true, labels_pred_ward)) # 와드연결법\n",
    "print(rand_score(labels_true, labels_pred_avg)) # 평균연결법\n",
    "print(rand_score(labels_true, labels_pred_comp)) # 최장연결법\n",
    "print(rand_score(labels_true, labels_pred_sing)) # 최단연결법"
   ]
  },
  {
   "cell_type": "code",
   "execution_count": 31,
   "id": "1123e45b",
   "metadata": {},
   "outputs": [
    {
     "name": "stdout",
     "output_type": "stream",
     "text": [
      "0.7311985567707746\n",
      "0.7591987071071522\n",
      "0.6422512518362898\n",
      "0.5637510205230709\n"
     ]
    }
   ],
   "source": [
    "# ARI 비교\n",
    "print(adjusted_rand_score(labels_true, labels_pred_ward)) # 와드연결법\n",
    "print(adjusted_rand_score(labels_true, labels_pred_avg)) # 평균연결법\n",
    "print(adjusted_rand_score(labels_true, labels_pred_comp)) # 최장연결법\n",
    "print(adjusted_rand_score(labels_true, labels_pred_sing)) # 최단연결법"
   ]
  },
  {
   "cell_type": "markdown",
   "id": "d7cac55f",
   "metadata": {},
   "source": [
    "### 3절. k-means 군집분석"
   ]
  },
  {
   "cell_type": "code",
   "execution_count": 32,
   "id": "33cee0cf",
   "metadata": {},
   "outputs": [],
   "source": [
    "# 패키지로부터 클래스, 함수를 호출\n",
    "from sklearn.cluster import KMeans\n",
    "from sklearn.metrics import silhouette_score, silhouette_samples\n",
    "\n",
    "# iris 데이터셋 호출\n",
    "from sklearn.datasets import load_iris\n",
    "iris = load_iris() \n",
    "data = iris.data\n",
    "\n",
    "# k=2일 때 k-means 군집모형으로 군집 형성\n",
    "kmeas_k2 = KMeans(n_clusters = 2, random_state = 2022)\n",
    "labels_pred_k2 = kmeas_k2.fit_predict(data)\n",
    "\n",
    "# k=3일 때 k-means 군집모형으로 군집 형성\n",
    "kmeas_k3 = KMeans(n_clusters = 3, random_state = 2022)\n",
    "labels_pred_k3 = kmeas_k3.fit_predict(data)\n",
    "\n",
    "# k=4일 때 k-means 군집모형으로 군집 형성\n",
    "kmeas_k4 = KMeans(n_clusters = 4, random_state = 2022)\n",
    "labels_pred_k4 = kmeas_k4.fit_predict(data)"
   ]
  },
  {
   "cell_type": "code",
   "execution_count": 33,
   "id": "08b2a6e0",
   "metadata": {},
   "outputs": [
    {
     "name": "stdout",
     "output_type": "stream",
     "text": [
      "labels\n",
      "0    0.632701\n",
      "1    0.769526\n",
      "Name: silhouette, dtype: float64\n",
      "0.6810461692117462\n"
     ]
    }
   ],
   "source": [
    "# 개체별로 연결볍에 따른 실루엣 계수를 계산\n",
    "import pandas as pd # 데이터프레임 생성 필요\n",
    "\n",
    "# k=2일 때\n",
    "sil_k2 = silhouette_samples(data, labels_pred_k2) # 개체별 실루엣 계수\n",
    "\n",
    "# 개체별 예측 레이블과 실루엣 계수를 각각 컬럼으로 가지는 데이터프레임 생성\n",
    "df_k2 = pd.DataFrame({'labels' : labels_pred_k2, 'silhouette' : sil_k2})\n",
    "\n",
    "# 레이블별 실루엣 계수의 평균\n",
    "print(df_k2.groupby('labels')['silhouette'].mean())\n",
    "\n",
    "# 전체 실루엣 계수 평균\n",
    "print(silhouette_score(data, labels_pred_k2))"
   ]
  },
  {
   "cell_type": "code",
   "execution_count": 34,
   "id": "f4262c44",
   "metadata": {},
   "outputs": [
    {
     "name": "stdout",
     "output_type": "stream",
     "text": [
      "labels\n",
      "0    0.798140\n",
      "1    0.417320\n",
      "2    0.451105\n",
      "Name: silhouette, dtype: float64\n",
      "0.5528190123564095\n"
     ]
    }
   ],
   "source": [
    "# k=3일 때\n",
    "sil_k3 = silhouette_samples(data, labels_pred_k3) # 개체별 실루엣 계수\n",
    "\n",
    "# 개체별 예측 레이블과 실루엣 계수를 각각 컬럼으로 가지는 데이터프레임 생성\n",
    "df_k3 = pd.DataFrame({'labels' : labels_pred_k3, 'silhouette' : sil_k3})\n",
    "\n",
    "# 레이블별 실루엣 계수의 평균\n",
    "print(df_k3.groupby('labels')['silhouette'].mean())\n",
    "\n",
    "# 전체 실루엣 계수 평균\n",
    "print(silhouette_score(data, labels_pred_k3))"
   ]
  },
  {
   "cell_type": "code",
   "execution_count": 35,
   "id": "d3cedb3c",
   "metadata": {},
   "outputs": [
    {
     "name": "stdout",
     "output_type": "stream",
     "text": [
      "labels\n",
      "0    0.362998\n",
      "1    0.763176\n",
      "2    0.419518\n",
      "3    0.321324\n",
      "Name: silhouette, dtype: float64\n",
      "0.49805050499728737\n"
     ]
    }
   ],
   "source": [
    "# k=4일 때\n",
    "sil_k4 = silhouette_samples(data, labels_pred_k4) # 개체별 실루엣 계수\n",
    "\n",
    "# 개체별 예측 레이블과 실루엣 계수를 각각 컬럼으로 가지는 데이터프레임 생성\n",
    "df_k4 = pd.DataFrame({'labels' : labels_pred_k4, 'silhouette' : sil_k4})\n",
    "\n",
    "# 레이블별 실루엣 계수의 평균\n",
    "print(df_k4.groupby('labels')['silhouette'].mean())\n",
    "\n",
    "# 전체 실루엣 계수 평균\n",
    "print(silhouette_score(data, labels_pred_k4))"
   ]
  },
  {
   "cell_type": "markdown",
   "id": "4227e859",
   "metadata": {},
   "source": [
    "# (끝)"
   ]
  }
 ],
 "metadata": {
  "hide_input": false,
  "kernelspec": {
   "display_name": "Python 3 (ipykernel)",
   "language": "python",
   "name": "python3"
  },
  "language_info": {
   "codemirror_mode": {
    "name": "ipython",
    "version": 3
   },
   "file_extension": ".py",
   "mimetype": "text/x-python",
   "name": "python",
   "nbconvert_exporter": "python",
   "pygments_lexer": "ipython3",
   "version": "3.9.12"
  },
  "toc": {
   "base_numbering": 1,
   "nav_menu": {},
   "number_sections": false,
   "sideBar": true,
   "skip_h1_title": false,
   "title_cell": "Table of Contents",
   "title_sidebar": "Contents",
   "toc_cell": false,
   "toc_position": {},
   "toc_section_display": true,
   "toc_window_display": false
  },
  "varInspector": {
   "cols": {
    "lenName": 16,
    "lenType": 16,
    "lenVar": 40
   },
   "kernels_config": {
    "python": {
     "delete_cmd_postfix": "",
     "delete_cmd_prefix": "del ",
     "library": "var_list.py",
     "varRefreshCmd": "print(var_dic_list())"
    },
    "r": {
     "delete_cmd_postfix": ") ",
     "delete_cmd_prefix": "rm(",
     "library": "var_list.r",
     "varRefreshCmd": "cat(var_dic_list()) "
    }
   },
   "types_to_exclude": [
    "module",
    "function",
    "builtin_function_or_method",
    "instance",
    "_Feature"
   ],
   "window_display": false
  }
 },
 "nbformat": 4,
 "nbformat_minor": 5
}
