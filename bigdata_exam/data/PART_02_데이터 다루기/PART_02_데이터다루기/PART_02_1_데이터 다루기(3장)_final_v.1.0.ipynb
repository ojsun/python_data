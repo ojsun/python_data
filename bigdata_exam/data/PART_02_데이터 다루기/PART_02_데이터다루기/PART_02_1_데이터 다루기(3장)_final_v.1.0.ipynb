{
 "cells": [
  {
   "cell_type": "markdown",
   "id": "c65b1643",
   "metadata": {},
   "source": [
    "## PART 01) 데이터 다루기"
   ]
  },
  {
   "cell_type": "markdown",
   "id": "4e1be88e",
   "metadata": {},
   "source": [
    "## 3장. 데이터 변환"
   ]
  },
  {
   "cell_type": "markdown",
   "id": "8e175d52",
   "metadata": {},
   "source": [
    "### 1절. 파생변수 생성"
   ]
  },
  {
   "cell_type": "markdown",
   "id": "e213be23",
   "metadata": {},
   "source": [
    "#### 1. 컬럼 추가"
   ]
  },
  {
   "cell_type": "code",
   "execution_count": 1,
   "id": "98c7f5d7",
   "metadata": {},
   "outputs": [
    {
     "data": {
      "text/html": [
       "<div>\n",
       "<style scoped>\n",
       "    .dataframe tbody tr th:only-of-type {\n",
       "        vertical-align: middle;\n",
       "    }\n",
       "\n",
       "    .dataframe tbody tr th {\n",
       "        vertical-align: top;\n",
       "    }\n",
       "\n",
       "    .dataframe thead th {\n",
       "        text-align: right;\n",
       "    }\n",
       "</style>\n",
       "<table border=\"1\" class=\"dataframe\">\n",
       "  <thead>\n",
       "    <tr style=\"text-align: right;\">\n",
       "      <th></th>\n",
       "      <th>sepal length (cm)</th>\n",
       "      <th>sepal width (cm)</th>\n",
       "      <th>petal length (cm)</th>\n",
       "      <th>petal width (cm)</th>\n",
       "    </tr>\n",
       "  </thead>\n",
       "  <tbody>\n",
       "    <tr>\n",
       "      <th>0</th>\n",
       "      <td>5.1</td>\n",
       "      <td>3.5</td>\n",
       "      <td>1.4</td>\n",
       "      <td>0.2</td>\n",
       "    </tr>\n",
       "    <tr>\n",
       "      <th>1</th>\n",
       "      <td>4.9</td>\n",
       "      <td>3.0</td>\n",
       "      <td>1.4</td>\n",
       "      <td>0.2</td>\n",
       "    </tr>\n",
       "    <tr>\n",
       "      <th>2</th>\n",
       "      <td>4.7</td>\n",
       "      <td>3.2</td>\n",
       "      <td>1.3</td>\n",
       "      <td>0.2</td>\n",
       "    </tr>\n",
       "    <tr>\n",
       "      <th>3</th>\n",
       "      <td>4.6</td>\n",
       "      <td>3.1</td>\n",
       "      <td>1.5</td>\n",
       "      <td>0.2</td>\n",
       "    </tr>\n",
       "    <tr>\n",
       "      <th>4</th>\n",
       "      <td>5.0</td>\n",
       "      <td>3.6</td>\n",
       "      <td>1.4</td>\n",
       "      <td>0.2</td>\n",
       "    </tr>\n",
       "    <tr>\n",
       "      <th>...</th>\n",
       "      <td>...</td>\n",
       "      <td>...</td>\n",
       "      <td>...</td>\n",
       "      <td>...</td>\n",
       "    </tr>\n",
       "    <tr>\n",
       "      <th>145</th>\n",
       "      <td>6.7</td>\n",
       "      <td>3.0</td>\n",
       "      <td>5.2</td>\n",
       "      <td>2.3</td>\n",
       "    </tr>\n",
       "    <tr>\n",
       "      <th>146</th>\n",
       "      <td>6.3</td>\n",
       "      <td>2.5</td>\n",
       "      <td>5.0</td>\n",
       "      <td>1.9</td>\n",
       "    </tr>\n",
       "    <tr>\n",
       "      <th>147</th>\n",
       "      <td>6.5</td>\n",
       "      <td>3.0</td>\n",
       "      <td>5.2</td>\n",
       "      <td>2.0</td>\n",
       "    </tr>\n",
       "    <tr>\n",
       "      <th>148</th>\n",
       "      <td>6.2</td>\n",
       "      <td>3.4</td>\n",
       "      <td>5.4</td>\n",
       "      <td>2.3</td>\n",
       "    </tr>\n",
       "    <tr>\n",
       "      <th>149</th>\n",
       "      <td>5.9</td>\n",
       "      <td>3.0</td>\n",
       "      <td>5.1</td>\n",
       "      <td>1.8</td>\n",
       "    </tr>\n",
       "  </tbody>\n",
       "</table>\n",
       "<p>150 rows × 4 columns</p>\n",
       "</div>"
      ],
      "text/plain": [
       "     sepal length (cm)  sepal width (cm)  petal length (cm)  petal width (cm)\n",
       "0                  5.1               3.5                1.4               0.2\n",
       "1                  4.9               3.0                1.4               0.2\n",
       "2                  4.7               3.2                1.3               0.2\n",
       "3                  4.6               3.1                1.5               0.2\n",
       "4                  5.0               3.6                1.4               0.2\n",
       "..                 ...               ...                ...               ...\n",
       "145                6.7               3.0                5.2               2.3\n",
       "146                6.3               2.5                5.0               1.9\n",
       "147                6.5               3.0                5.2               2.0\n",
       "148                6.2               3.4                5.4               2.3\n",
       "149                5.9               3.0                5.1               1.8\n",
       "\n",
       "[150 rows x 4 columns]"
      ]
     },
     "execution_count": 1,
     "metadata": {},
     "output_type": "execute_result"
    }
   ],
   "source": [
    "# 사이킷런 내의 datasets 모듈 내 iris 데이터 호출\n",
    "\n",
    "from sklearn.datasets import load_iris\n",
    "iris = load_iris()\n",
    "# iris는 딕셔너리형과 유사한 구조로 key와 value를 가지고 있음\n",
    "# 'data' : 2d-array로 꽃 받침과 꽃잎의 길이, 너비(단위; cm)\n",
    "# 'target': 1d-array로 품종(숫자변환)\n",
    "# 'target_names': 1d-array로 품종(문자)\n",
    "# 'feature_names' : 2d-array로 'data'의 컬럼명\n",
    "\n",
    "import pandas as pd # pandas 패키지 호출\n",
    "data = pd.DataFrame(iris.data, columns = iris.feature_names)\n",
    "data"
   ]
  },
  {
   "cell_type": "code",
   "execution_count": 2,
   "id": "274ed072",
   "metadata": {},
   "outputs": [
    {
     "name": "stdout",
     "output_type": "stream",
     "text": [
      "<class 'pandas.core.frame.DataFrame'>\n",
      "RangeIndex: 150 entries, 0 to 149\n",
      "Data columns (total 4 columns):\n",
      " #   Column             Non-Null Count  Dtype  \n",
      "---  ------             --------------  -----  \n",
      " 0   sepal length (cm)  150 non-null    float64\n",
      " 1   sepal width (cm)   150 non-null    float64\n",
      " 2   petal length (cm)  150 non-null    float64\n",
      " 3   petal width (cm)   150 non-null    float64\n",
      "dtypes: float64(4)\n",
      "memory usage: 4.8 KB\n"
     ]
    }
   ],
   "source": [
    "# 데이터 구조 확인 : 150개의 행과 4개의 열을 가짐\n",
    "data.info()"
   ]
  },
  {
   "cell_type": "code",
   "execution_count": 3,
   "id": "0dc2b584",
   "metadata": {
    "scrolled": true
   },
   "outputs": [
    {
     "data": {
      "text/html": [
       "<div>\n",
       "<style scoped>\n",
       "    .dataframe tbody tr th:only-of-type {\n",
       "        vertical-align: middle;\n",
       "    }\n",
       "\n",
       "    .dataframe tbody tr th {\n",
       "        vertical-align: top;\n",
       "    }\n",
       "\n",
       "    .dataframe thead th {\n",
       "        text-align: right;\n",
       "    }\n",
       "</style>\n",
       "<table border=\"1\" class=\"dataframe\">\n",
       "  <thead>\n",
       "    <tr style=\"text-align: right;\">\n",
       "      <th></th>\n",
       "      <th>sepal length (cm)</th>\n",
       "      <th>sepal width (cm)</th>\n",
       "      <th>petal length (cm)</th>\n",
       "      <th>petal width (cm)</th>\n",
       "      <th>ID</th>\n",
       "    </tr>\n",
       "  </thead>\n",
       "  <tbody>\n",
       "    <tr>\n",
       "      <th>0</th>\n",
       "      <td>5.1</td>\n",
       "      <td>3.5</td>\n",
       "      <td>1.4</td>\n",
       "      <td>0.2</td>\n",
       "      <td>0</td>\n",
       "    </tr>\n",
       "    <tr>\n",
       "      <th>1</th>\n",
       "      <td>4.9</td>\n",
       "      <td>3.0</td>\n",
       "      <td>1.4</td>\n",
       "      <td>0.2</td>\n",
       "      <td>1</td>\n",
       "    </tr>\n",
       "    <tr>\n",
       "      <th>2</th>\n",
       "      <td>4.7</td>\n",
       "      <td>3.2</td>\n",
       "      <td>1.3</td>\n",
       "      <td>0.2</td>\n",
       "      <td>2</td>\n",
       "    </tr>\n",
       "    <tr>\n",
       "      <th>3</th>\n",
       "      <td>4.6</td>\n",
       "      <td>3.1</td>\n",
       "      <td>1.5</td>\n",
       "      <td>0.2</td>\n",
       "      <td>3</td>\n",
       "    </tr>\n",
       "    <tr>\n",
       "      <th>4</th>\n",
       "      <td>5.0</td>\n",
       "      <td>3.6</td>\n",
       "      <td>1.4</td>\n",
       "      <td>0.2</td>\n",
       "      <td>4</td>\n",
       "    </tr>\n",
       "  </tbody>\n",
       "</table>\n",
       "</div>"
      ],
      "text/plain": [
       "   sepal length (cm)  sepal width (cm)  petal length (cm)  petal width (cm)  \\\n",
       "0                5.1               3.5                1.4               0.2   \n",
       "1                4.9               3.0                1.4               0.2   \n",
       "2                4.7               3.2                1.3               0.2   \n",
       "3                4.6               3.1                1.5               0.2   \n",
       "4                5.0               3.6                1.4               0.2   \n",
       "\n",
       "   ID  \n",
       "0   0  \n",
       "1   1  \n",
       "2   2  \n",
       "3   3  \n",
       "4   4  "
      ]
     },
     "execution_count": 3,
     "metadata": {},
     "output_type": "execute_result"
    }
   ],
   "source": [
    "# 150개 개체들의 고유 번호에 해당하는 'ID' 컬럼을 새로 생성\n",
    "# 1. 대괄호([ ])를 이용한 방법\n",
    "data['ID'] = range(150)\n",
    "data.head() # 상위 5개 행 출력"
   ]
  },
  {
   "cell_type": "code",
   "execution_count": 4,
   "id": "ffff90ca",
   "metadata": {},
   "outputs": [
    {
     "data": {
      "text/html": [
       "<div>\n",
       "<style scoped>\n",
       "    .dataframe tbody tr th:only-of-type {\n",
       "        vertical-align: middle;\n",
       "    }\n",
       "\n",
       "    .dataframe tbody tr th {\n",
       "        vertical-align: top;\n",
       "    }\n",
       "\n",
       "    .dataframe thead th {\n",
       "        text-align: right;\n",
       "    }\n",
       "</style>\n",
       "<table border=\"1\" class=\"dataframe\">\n",
       "  <thead>\n",
       "    <tr style=\"text-align: right;\">\n",
       "      <th></th>\n",
       "      <th>ID</th>\n",
       "      <th>sepal length (cm)</th>\n",
       "      <th>sepal width (cm)</th>\n",
       "      <th>petal length (cm)</th>\n",
       "      <th>petal width (cm)</th>\n",
       "    </tr>\n",
       "  </thead>\n",
       "  <tbody>\n",
       "    <tr>\n",
       "      <th>0</th>\n",
       "      <td>0</td>\n",
       "      <td>5.1</td>\n",
       "      <td>3.5</td>\n",
       "      <td>1.4</td>\n",
       "      <td>0.2</td>\n",
       "    </tr>\n",
       "    <tr>\n",
       "      <th>1</th>\n",
       "      <td>1</td>\n",
       "      <td>4.9</td>\n",
       "      <td>3.0</td>\n",
       "      <td>1.4</td>\n",
       "      <td>0.2</td>\n",
       "    </tr>\n",
       "    <tr>\n",
       "      <th>2</th>\n",
       "      <td>2</td>\n",
       "      <td>4.7</td>\n",
       "      <td>3.2</td>\n",
       "      <td>1.3</td>\n",
       "      <td>0.2</td>\n",
       "    </tr>\n",
       "    <tr>\n",
       "      <th>3</th>\n",
       "      <td>3</td>\n",
       "      <td>4.6</td>\n",
       "      <td>3.1</td>\n",
       "      <td>1.5</td>\n",
       "      <td>0.2</td>\n",
       "    </tr>\n",
       "    <tr>\n",
       "      <th>4</th>\n",
       "      <td>4</td>\n",
       "      <td>5.0</td>\n",
       "      <td>3.6</td>\n",
       "      <td>1.4</td>\n",
       "      <td>0.2</td>\n",
       "    </tr>\n",
       "  </tbody>\n",
       "</table>\n",
       "</div>"
      ],
      "text/plain": [
       "   ID  sepal length (cm)  sepal width (cm)  petal length (cm)  \\\n",
       "0   0                5.1               3.5                1.4   \n",
       "1   1                4.9               3.0                1.4   \n",
       "2   2                4.7               3.2                1.3   \n",
       "3   3                4.6               3.1                1.5   \n",
       "4   4                5.0               3.6                1.4   \n",
       "\n",
       "   petal width (cm)  \n",
       "0               0.2  \n",
       "1               0.2  \n",
       "2               0.2  \n",
       "3               0.2  \n",
       "4               0.2  "
      ]
     },
     "execution_count": 4,
     "metadata": {},
     "output_type": "execute_result"
    }
   ],
   "source": [
    "# 2. insert 메소드를 이용한 방법\n",
    "data = pd.DataFrame(iris.data, columns = iris.feature_names) # 다시 생성\n",
    "data.insert(0, column = 'ID', value = range(150))\n",
    "data.head() # 상위 5개 행 출력"
   ]
  },
  {
   "cell_type": "markdown",
   "id": "9a21a624",
   "metadata": {},
   "source": [
    "#### 2. 컬럼 삭제"
   ]
  },
  {
   "cell_type": "code",
   "execution_count": 5,
   "id": "03481ea0",
   "metadata": {},
   "outputs": [
    {
     "data": {
      "text/html": [
       "<div>\n",
       "<style scoped>\n",
       "    .dataframe tbody tr th:only-of-type {\n",
       "        vertical-align: middle;\n",
       "    }\n",
       "\n",
       "    .dataframe tbody tr th {\n",
       "        vertical-align: top;\n",
       "    }\n",
       "\n",
       "    .dataframe thead th {\n",
       "        text-align: right;\n",
       "    }\n",
       "</style>\n",
       "<table border=\"1\" class=\"dataframe\">\n",
       "  <thead>\n",
       "    <tr style=\"text-align: right;\">\n",
       "      <th></th>\n",
       "      <th>sepal length (cm)</th>\n",
       "      <th>sepal width (cm)</th>\n",
       "      <th>petal length (cm)</th>\n",
       "      <th>petal width (cm)</th>\n",
       "    </tr>\n",
       "  </thead>\n",
       "  <tbody>\n",
       "    <tr>\n",
       "      <th>0</th>\n",
       "      <td>5.1</td>\n",
       "      <td>3.5</td>\n",
       "      <td>1.4</td>\n",
       "      <td>0.2</td>\n",
       "    </tr>\n",
       "    <tr>\n",
       "      <th>1</th>\n",
       "      <td>4.9</td>\n",
       "      <td>3.0</td>\n",
       "      <td>1.4</td>\n",
       "      <td>0.2</td>\n",
       "    </tr>\n",
       "    <tr>\n",
       "      <th>2</th>\n",
       "      <td>4.7</td>\n",
       "      <td>3.2</td>\n",
       "      <td>1.3</td>\n",
       "      <td>0.2</td>\n",
       "    </tr>\n",
       "    <tr>\n",
       "      <th>3</th>\n",
       "      <td>4.6</td>\n",
       "      <td>3.1</td>\n",
       "      <td>1.5</td>\n",
       "      <td>0.2</td>\n",
       "    </tr>\n",
       "    <tr>\n",
       "      <th>4</th>\n",
       "      <td>5.0</td>\n",
       "      <td>3.6</td>\n",
       "      <td>1.4</td>\n",
       "      <td>0.2</td>\n",
       "    </tr>\n",
       "  </tbody>\n",
       "</table>\n",
       "</div>"
      ],
      "text/plain": [
       "   sepal length (cm)  sepal width (cm)  petal length (cm)  petal width (cm)\n",
       "0                5.1               3.5                1.4               0.2\n",
       "1                4.9               3.0                1.4               0.2\n",
       "2                4.7               3.2                1.3               0.2\n",
       "3                4.6               3.1                1.5               0.2\n",
       "4                5.0               3.6                1.4               0.2"
      ]
     },
     "execution_count": 5,
     "metadata": {},
     "output_type": "execute_result"
    }
   ],
   "source": [
    "# .drop() 메소드를 통한 컬럼 삭제\n",
    "data2 = data.drop('ID', axis = 1)\n",
    "data2.head() # 상위 5개 행 출력"
   ]
  },
  {
   "cell_type": "markdown",
   "id": "ca5a96df",
   "metadata": {},
   "source": [
    "#### 3. 구간화(binning)"
   ]
  },
  {
   "cell_type": "code",
   "execution_count": 6,
   "id": "95e68930",
   "metadata": {},
   "outputs": [
    {
     "data": {
      "text/plain": [
       "0       (5.02, 5.74]\n",
       "1      (4.296, 5.02]\n",
       "2      (4.296, 5.02]\n",
       "3      (4.296, 5.02]\n",
       "4      (4.296, 5.02]\n",
       "           ...      \n",
       "145     (6.46, 7.18]\n",
       "146     (5.74, 6.46]\n",
       "147     (6.46, 7.18]\n",
       "148     (5.74, 6.46]\n",
       "149     (5.74, 6.46]\n",
       "Name: sepal length (cm), Length: 150, dtype: category\n",
       "Categories (5, interval[float64, right]): [(4.296, 5.02] < (5.02, 5.74] < (5.74, 6.46] < (6.46, 7.18] < (7.18, 7.9]]"
      ]
     },
     "execution_count": 6,
     "metadata": {},
     "output_type": "execute_result"
    }
   ],
   "source": [
    "# .cut()\n",
    "# 5개의 구간으로 분할\n",
    "pd.cut(data['sepal length (cm)'], bins = 5)"
   ]
  },
  {
   "cell_type": "code",
   "execution_count": 8,
   "id": "efbe670a",
   "metadata": {},
   "outputs": [
    {
     "data": {
      "text/plain": [
       "0      (5, 6]\n",
       "1      (4, 5]\n",
       "2      (4, 5]\n",
       "3      (4, 5]\n",
       "4      (4, 5]\n",
       "        ...  \n",
       "145    (6, 7]\n",
       "146    (6, 7]\n",
       "147    (6, 7]\n",
       "148    (6, 7]\n",
       "149    (5, 6]\n",
       "Name: sepal length (cm), Length: 150, dtype: category\n",
       "Categories (4, interval[int64, right]): [(4, 5] < (5, 6] < (6, 7] < (7, 8]]"
      ]
     },
     "execution_count": 8,
     "metadata": {},
     "output_type": "execute_result"
    }
   ],
   "source": [
    "# 구간 (4, 5], (5, 6], (6, 7], (7, 8]으로 분할\n",
    "pd.cut(data['sepal length (cm)'], bins = [4, 5, 6, 7, 8])"
   ]
  },
  {
   "cell_type": "code",
   "execution_count": 7,
   "id": "70c38906",
   "metadata": {},
   "outputs": [
    {
     "data": {
      "text/plain": [
       "0      (4.2989999999999995, 5.1]\n",
       "1      (4.2989999999999995, 5.1]\n",
       "2      (4.2989999999999995, 5.1]\n",
       "3      (4.2989999999999995, 5.1]\n",
       "4      (4.2989999999999995, 5.1]\n",
       "                 ...            \n",
       "145                   (6.4, 7.9]\n",
       "146                   (5.8, 6.4]\n",
       "147                   (6.4, 7.9]\n",
       "148                   (5.8, 6.4]\n",
       "149                   (5.8, 6.4]\n",
       "Name: sepal length (cm), Length: 150, dtype: category\n",
       "Categories (4, interval[float64, right]): [(4.2989999999999995, 5.1] < (5.1, 5.8] < (5.8, 6.4] < (6.4, 7.9]]"
      ]
     },
     "execution_count": 7,
     "metadata": {},
     "output_type": "execute_result"
    }
   ],
   "source": [
    "# 컬럼 'sepal length (cm)'의 요약 통계량에 대한 정보\n",
    "# .qcut()\n",
    "# 4분위수마다 분할\n",
    "pd.qcut(data['sepal length (cm)'], q = 4)"
   ]
  },
  {
   "cell_type": "code",
   "execution_count": 8,
   "id": "d67a9269",
   "metadata": {},
   "outputs": [
    {
     "data": {
      "text/plain": [
       "0.25    5.1\n",
       "0.50    5.8\n",
       "0.75    6.4\n",
       "Name: sepal length (cm), dtype: float64"
      ]
     },
     "execution_count": 8,
     "metadata": {},
     "output_type": "execute_result"
    }
   ],
   "source": [
    "# 4분위수 확인\n",
    "data['sepal length (cm)'].quantile([.25, .5, .75])"
   ]
  },
  {
   "cell_type": "code",
   "execution_count": 9,
   "id": "55f34fe8",
   "metadata": {},
   "outputs": [
    {
     "data": {
      "text/plain": [
       "0                    (5.0, 5.27]\n",
       "1                     (4.8, 5.0]\n",
       "2      (4.2989999999999995, 4.8]\n",
       "3      (4.2989999999999995, 4.8]\n",
       "4                     (4.8, 5.0]\n",
       "                 ...            \n",
       "145                  (6.52, 6.9]\n",
       "146                   (6.1, 6.3]\n",
       "147                  (6.3, 6.52]\n",
       "148                   (6.1, 6.3]\n",
       "149                   (5.8, 6.1]\n",
       "Name: sepal length (cm), Length: 150, dtype: category\n",
       "Categories (10, interval[float64, right]): [(4.2989999999999995, 4.8] < (4.8, 5.0] < (5.0, 5.27] < (5.27, 5.6] ... (6.1, 6.3] < (6.3, 6.52] < (6.52, 6.9] < (6.9, 7.9]]"
      ]
     },
     "execution_count": 9,
     "metadata": {},
     "output_type": "execute_result"
    }
   ],
   "source": [
    "# 10분위수마다 분할\n",
    "pd.qcut(data['sepal length (cm)'], q = 10)"
   ]
  },
  {
   "cell_type": "code",
   "execution_count": 10,
   "id": "4b0710e9",
   "metadata": {},
   "outputs": [
    {
     "data": {
      "text/plain": [
       "0.0    4.30\n",
       "0.1    4.80\n",
       "0.2    5.00\n",
       "0.3    5.27\n",
       "0.4    5.60\n",
       "0.5    5.80\n",
       "0.6    6.10\n",
       "0.7    6.30\n",
       "0.8    6.52\n",
       "0.9    6.90\n",
       "1.0    7.90\n",
       "Name: sepal length (cm), dtype: float64"
      ]
     },
     "execution_count": 10,
     "metadata": {},
     "output_type": "execute_result"
    }
   ],
   "source": [
    "# 10분위수 확인(0과 1은 최솟값, 최댓값)\n",
    "data['sepal length (cm)'].quantile([0, .1, .2, .3, .4, .5, .6, .7, .8, .9, 1])"
   ]
  },
  {
   "cell_type": "markdown",
   "id": "ec44ec8a",
   "metadata": {},
   "source": []
  },
  {
   "cell_type": "markdown",
   "id": "e0079d5d",
   "metadata": {},
   "source": [
    "### 2절. 데이터 인코딩"
   ]
  },
  {
   "cell_type": "markdown",
   "id": "e95be359",
   "metadata": {},
   "source": [
    "#### 1. 라벨 인코딩(Label Encoding)"
   ]
  },
  {
   "cell_type": "code",
   "execution_count": 11,
   "id": "ac4a1274",
   "metadata": {},
   "outputs": [
    {
     "name": "stdout",
     "output_type": "stream",
     "text": [
      "[0 1 0 2 4 3 3 0 5]\n",
      "['A' 'B' 'C' 'D' 'E' 'F']\n"
     ]
    }
   ],
   "source": [
    "import pandas as pd\n",
    "\n",
    "# 사이킷런 내의 preprocessing 모듈 내 LabelEncoder 클래스 호출\n",
    "from sklearn.preprocessing import LabelEncoder\n",
    "\n",
    "# 데이터프레임 생성\n",
    "obj = {'Class' : ['A', 'B', 'A', 'C', 'E', 'D', 'D', 'A', 'F']}\n",
    "df = pd.DataFrame(obj)\n",
    "\n",
    "# 라벨 인코딩\n",
    "encoder = LabelEncoder() # 라벨 인코더객체 생성\n",
    "encoder.fit(df.Class) # 적합\n",
    "labels = encoder.transform(df.Class) # 변환\n",
    "\n",
    "# 인코딩 결과, 변환된 숫자 카테고리 값\n",
    "print(labels)\n",
    "\n",
    "# 숫자 값에 대응되는 원본 레이블\n",
    "print(encoder.classes_)"
   ]
  },
  {
   "cell_type": "code",
   "execution_count": 12,
   "id": "7ca0b1eb",
   "metadata": {},
   "outputs": [
    {
     "name": "stdout",
     "output_type": "stream",
     "text": [
      "['A' 'B' 'A' 'C' 'E' 'D' 'D' 'A' 'F']\n"
     ]
    }
   ],
   "source": [
    "# 디코딩(즉, 다시 원본 문자열로 되돌림)\n",
    "print(encoder.inverse_transform(labels))"
   ]
  },
  {
   "cell_type": "code",
   "execution_count": 14,
   "id": "4997d798",
   "metadata": {},
   "outputs": [
    {
     "data": {
      "text/plain": [
       "array([0, 1, 0, 2, 4, 3, 3, 0, 5])"
      ]
     },
     "execution_count": 14,
     "metadata": {},
     "output_type": "execute_result"
    }
   ],
   "source": [
    "# numpy.select()를 이용해 라벨 인코딩과 동일한 결과를 만드는 방법\n",
    "import numpy as np\n",
    "\n",
    "# 조건 목록 생성\n",
    "conditionlist = [(df['Class'] == 'A'),\n",
    "                 (df['Class'] == 'B'),\n",
    "                 (df['Class'] == 'C'),\n",
    "                 (df['Class'] == 'D'),\n",
    "                 (df['Class'] == 'E'),\n",
    "                 (df['Class'] == 'F')]\n",
    "\n",
    "# 조건과 매칭할 선택 목록 생성(0~5)\n",
    "choicelist  = list(range(6))\n",
    "\n",
    "# 결과\n",
    "np.select(condlist = conditionlist, choicelist = choicelist)"
   ]
  },
  {
   "cell_type": "code",
   "execution_count": 15,
   "id": "0a943326",
   "metadata": {},
   "outputs": [
    {
     "data": {
      "text/plain": [
       "0    0\n",
       "1    1\n",
       "2    0\n",
       "3    2\n",
       "4    4\n",
       "5    3\n",
       "6    3\n",
       "7    0\n",
       "8    5\n",
       "Name: Class, dtype: int64"
      ]
     },
     "execution_count": 15,
     "metadata": {},
     "output_type": "execute_result"
    }
   ],
   "source": [
    "# 시리즈객체.map()을 이용해 라벨인코딩과 동일한 결과를 만드는 방법\n",
    "df['Class'].map(arg = {'A' : 0, 'B' : 1, 'C' : 2, 'D' : 3, 'E' : 4, 'F' : 5})"
   ]
  },
  {
   "cell_type": "markdown",
   "id": "4994a953",
   "metadata": {},
   "source": [
    "#### 2. 원-핫 인코딩(One-Hot Encoding)"
   ]
  },
  {
   "cell_type": "code",
   "execution_count": 16,
   "id": "acc0a3c3",
   "metadata": {},
   "outputs": [
    {
     "data": {
      "text/plain": [
       "array([[1., 0., 0., 0., 0., 0.],\n",
       "       [0., 1., 0., 0., 0., 0.],\n",
       "       [1., 0., 0., 0., 0., 0.],\n",
       "       [0., 0., 1., 0., 0., 0.],\n",
       "       [0., 0., 0., 0., 1., 0.],\n",
       "       [0., 0., 0., 1., 0., 0.],\n",
       "       [0., 0., 0., 1., 0., 0.],\n",
       "       [1., 0., 0., 0., 0., 0.],\n",
       "       [0., 0., 0., 0., 0., 1.]])"
      ]
     },
     "execution_count": 16,
     "metadata": {},
     "output_type": "execute_result"
    }
   ],
   "source": [
    "# 사이킷런 OneHotEncoder 클래스를 활용한 방법\n",
    "# 사이킷런 내의 preprocessing 모듈 내 LabelEncoder, OneHotEncoder 클래스 호출\n",
    "from sklearn.preprocessing import LabelEncoder, OneHotEncoder\n",
    "\n",
    "# 데이터 프레임 생성\n",
    "obj = {'Class' : ['A', 'B', 'A', 'C', 'E', 'D', 'D', 'A', 'F']}\n",
    "df = pd.DataFrame(obj)\n",
    "\n",
    "# 라벨 인코딩 먼저 수행\n",
    "encoder = LabelEncoder()\n",
    "encoder.fit(df['Class'])\n",
    "\n",
    "# 2차원 레이블 변환\n",
    "labels = encoder.transform(df['Class']).reshape(-1,1)\n",
    " \n",
    "# 원-핫 인코딩\n",
    "# sparse = False 옵션은 결과를 보통의 array 형태로 반환하기 위함이다.\n",
    "oh_encoder = OneHotEncoder(sparse = False)\n",
    "oh_encoder.fit(labels)\n",
    "oh_labels = oh_encoder.transform(labels)\n",
    "\n",
    "# 결과\n",
    "oh_labels"
   ]
  },
  {
   "cell_type": "code",
   "execution_count": 17,
   "id": "5f11b9a5",
   "metadata": {},
   "outputs": [
    {
     "data": {
      "text/html": [
       "<div>\n",
       "<style scoped>\n",
       "    .dataframe tbody tr th:only-of-type {\n",
       "        vertical-align: middle;\n",
       "    }\n",
       "\n",
       "    .dataframe tbody tr th {\n",
       "        vertical-align: top;\n",
       "    }\n",
       "\n",
       "    .dataframe thead th {\n",
       "        text-align: right;\n",
       "    }\n",
       "</style>\n",
       "<table border=\"1\" class=\"dataframe\">\n",
       "  <thead>\n",
       "    <tr style=\"text-align: right;\">\n",
       "      <th></th>\n",
       "      <th>Class_A</th>\n",
       "      <th>Class_B</th>\n",
       "      <th>Class_C</th>\n",
       "      <th>Class_D</th>\n",
       "      <th>Class_E</th>\n",
       "      <th>Class_F</th>\n",
       "    </tr>\n",
       "  </thead>\n",
       "  <tbody>\n",
       "    <tr>\n",
       "      <th>0</th>\n",
       "      <td>1</td>\n",
       "      <td>0</td>\n",
       "      <td>0</td>\n",
       "      <td>0</td>\n",
       "      <td>0</td>\n",
       "      <td>0</td>\n",
       "    </tr>\n",
       "    <tr>\n",
       "      <th>1</th>\n",
       "      <td>0</td>\n",
       "      <td>1</td>\n",
       "      <td>0</td>\n",
       "      <td>0</td>\n",
       "      <td>0</td>\n",
       "      <td>0</td>\n",
       "    </tr>\n",
       "    <tr>\n",
       "      <th>2</th>\n",
       "      <td>1</td>\n",
       "      <td>0</td>\n",
       "      <td>0</td>\n",
       "      <td>0</td>\n",
       "      <td>0</td>\n",
       "      <td>0</td>\n",
       "    </tr>\n",
       "    <tr>\n",
       "      <th>3</th>\n",
       "      <td>0</td>\n",
       "      <td>0</td>\n",
       "      <td>1</td>\n",
       "      <td>0</td>\n",
       "      <td>0</td>\n",
       "      <td>0</td>\n",
       "    </tr>\n",
       "    <tr>\n",
       "      <th>4</th>\n",
       "      <td>0</td>\n",
       "      <td>0</td>\n",
       "      <td>0</td>\n",
       "      <td>0</td>\n",
       "      <td>1</td>\n",
       "      <td>0</td>\n",
       "    </tr>\n",
       "    <tr>\n",
       "      <th>5</th>\n",
       "      <td>0</td>\n",
       "      <td>0</td>\n",
       "      <td>0</td>\n",
       "      <td>1</td>\n",
       "      <td>0</td>\n",
       "      <td>0</td>\n",
       "    </tr>\n",
       "    <tr>\n",
       "      <th>6</th>\n",
       "      <td>0</td>\n",
       "      <td>0</td>\n",
       "      <td>0</td>\n",
       "      <td>1</td>\n",
       "      <td>0</td>\n",
       "      <td>0</td>\n",
       "    </tr>\n",
       "    <tr>\n",
       "      <th>7</th>\n",
       "      <td>1</td>\n",
       "      <td>0</td>\n",
       "      <td>0</td>\n",
       "      <td>0</td>\n",
       "      <td>0</td>\n",
       "      <td>0</td>\n",
       "    </tr>\n",
       "    <tr>\n",
       "      <th>8</th>\n",
       "      <td>0</td>\n",
       "      <td>0</td>\n",
       "      <td>0</td>\n",
       "      <td>0</td>\n",
       "      <td>0</td>\n",
       "      <td>1</td>\n",
       "    </tr>\n",
       "  </tbody>\n",
       "</table>\n",
       "</div>"
      ],
      "text/plain": [
       "   Class_A  Class_B  Class_C  Class_D  Class_E  Class_F\n",
       "0        1        0        0        0        0        0\n",
       "1        0        1        0        0        0        0\n",
       "2        1        0        0        0        0        0\n",
       "3        0        0        1        0        0        0\n",
       "4        0        0        0        0        1        0\n",
       "5        0        0        0        1        0        0\n",
       "6        0        0        0        1        0        0\n",
       "7        1        0        0        0        0        0\n",
       "8        0        0        0        0        0        1"
      ]
     },
     "execution_count": 17,
     "metadata": {},
     "output_type": "execute_result"
    }
   ],
   "source": [
    "# 판다스 get_dummies() 함수를 활용한 방법\n",
    "obj = {'Class' : ['A', 'B', 'A', 'C', 'E', 'D', 'D', 'A', 'F']}\n",
    "df = pd.DataFrame(obj)\n",
    "pd.get_dummies(df)# 원핫인코딩 실행"
   ]
  },
  {
   "cell_type": "code",
   "execution_count": 18,
   "id": "c1fdefa2",
   "metadata": {},
   "outputs": [
    {
     "data": {
      "text/html": [
       "<div>\n",
       "<style scoped>\n",
       "    .dataframe tbody tr th:only-of-type {\n",
       "        vertical-align: middle;\n",
       "    }\n",
       "\n",
       "    .dataframe tbody tr th {\n",
       "        vertical-align: top;\n",
       "    }\n",
       "\n",
       "    .dataframe thead th {\n",
       "        text-align: right;\n",
       "    }\n",
       "</style>\n",
       "<table border=\"1\" class=\"dataframe\">\n",
       "  <thead>\n",
       "    <tr style=\"text-align: right;\">\n",
       "      <th></th>\n",
       "      <th>Class_B</th>\n",
       "      <th>Class_C</th>\n",
       "      <th>Class_D</th>\n",
       "      <th>Class_E</th>\n",
       "      <th>Class_F</th>\n",
       "    </tr>\n",
       "  </thead>\n",
       "  <tbody>\n",
       "    <tr>\n",
       "      <th>0</th>\n",
       "      <td>0</td>\n",
       "      <td>0</td>\n",
       "      <td>0</td>\n",
       "      <td>0</td>\n",
       "      <td>0</td>\n",
       "    </tr>\n",
       "    <tr>\n",
       "      <th>1</th>\n",
       "      <td>1</td>\n",
       "      <td>0</td>\n",
       "      <td>0</td>\n",
       "      <td>0</td>\n",
       "      <td>0</td>\n",
       "    </tr>\n",
       "    <tr>\n",
       "      <th>2</th>\n",
       "      <td>0</td>\n",
       "      <td>0</td>\n",
       "      <td>0</td>\n",
       "      <td>0</td>\n",
       "      <td>0</td>\n",
       "    </tr>\n",
       "    <tr>\n",
       "      <th>3</th>\n",
       "      <td>0</td>\n",
       "      <td>1</td>\n",
       "      <td>0</td>\n",
       "      <td>0</td>\n",
       "      <td>0</td>\n",
       "    </tr>\n",
       "    <tr>\n",
       "      <th>4</th>\n",
       "      <td>0</td>\n",
       "      <td>0</td>\n",
       "      <td>0</td>\n",
       "      <td>1</td>\n",
       "      <td>0</td>\n",
       "    </tr>\n",
       "    <tr>\n",
       "      <th>5</th>\n",
       "      <td>0</td>\n",
       "      <td>0</td>\n",
       "      <td>1</td>\n",
       "      <td>0</td>\n",
       "      <td>0</td>\n",
       "    </tr>\n",
       "    <tr>\n",
       "      <th>6</th>\n",
       "      <td>0</td>\n",
       "      <td>0</td>\n",
       "      <td>1</td>\n",
       "      <td>0</td>\n",
       "      <td>0</td>\n",
       "    </tr>\n",
       "    <tr>\n",
       "      <th>7</th>\n",
       "      <td>0</td>\n",
       "      <td>0</td>\n",
       "      <td>0</td>\n",
       "      <td>0</td>\n",
       "      <td>0</td>\n",
       "    </tr>\n",
       "    <tr>\n",
       "      <th>8</th>\n",
       "      <td>0</td>\n",
       "      <td>0</td>\n",
       "      <td>0</td>\n",
       "      <td>0</td>\n",
       "      <td>1</td>\n",
       "    </tr>\n",
       "  </tbody>\n",
       "</table>\n",
       "</div>"
      ],
      "text/plain": [
       "   Class_B  Class_C  Class_D  Class_E  Class_F\n",
       "0        0        0        0        0        0\n",
       "1        1        0        0        0        0\n",
       "2        0        0        0        0        0\n",
       "3        0        1        0        0        0\n",
       "4        0        0        0        1        0\n",
       "5        0        0        1        0        0\n",
       "6        0        0        1        0        0\n",
       "7        0        0        0        0        0\n",
       "8        0        0        0        0        1"
      ]
     },
     "execution_count": 18,
     "metadata": {},
     "output_type": "execute_result"
    }
   ],
   "source": [
    "# 첫 번째 고유 특징을 제거해 k-1개의 변수를 생성\n",
    "pd.get_dummies(df, drop_first = True)"
   ]
  },
  {
   "cell_type": "code",
   "execution_count": 19,
   "id": "e7c4aa1e",
   "metadata": {},
   "outputs": [
    {
     "data": {
      "text/html": [
       "<div>\n",
       "<style scoped>\n",
       "    .dataframe tbody tr th:only-of-type {\n",
       "        vertical-align: middle;\n",
       "    }\n",
       "\n",
       "    .dataframe tbody tr th {\n",
       "        vertical-align: top;\n",
       "    }\n",
       "\n",
       "    .dataframe thead th {\n",
       "        text-align: right;\n",
       "    }\n",
       "</style>\n",
       "<table border=\"1\" class=\"dataframe\">\n",
       "  <thead>\n",
       "    <tr style=\"text-align: right;\">\n",
       "      <th></th>\n",
       "      <th>Class</th>\n",
       "      <th>Class_B</th>\n",
       "      <th>Class_C</th>\n",
       "      <th>Class_D</th>\n",
       "      <th>Class_E</th>\n",
       "      <th>Class_F</th>\n",
       "    </tr>\n",
       "  </thead>\n",
       "  <tbody>\n",
       "    <tr>\n",
       "      <th>0</th>\n",
       "      <td>A</td>\n",
       "      <td>0</td>\n",
       "      <td>0</td>\n",
       "      <td>0</td>\n",
       "      <td>0</td>\n",
       "      <td>0</td>\n",
       "    </tr>\n",
       "    <tr>\n",
       "      <th>1</th>\n",
       "      <td>B</td>\n",
       "      <td>1</td>\n",
       "      <td>0</td>\n",
       "      <td>0</td>\n",
       "      <td>0</td>\n",
       "      <td>0</td>\n",
       "    </tr>\n",
       "    <tr>\n",
       "      <th>2</th>\n",
       "      <td>A</td>\n",
       "      <td>0</td>\n",
       "      <td>0</td>\n",
       "      <td>0</td>\n",
       "      <td>0</td>\n",
       "      <td>0</td>\n",
       "    </tr>\n",
       "    <tr>\n",
       "      <th>3</th>\n",
       "      <td>C</td>\n",
       "      <td>0</td>\n",
       "      <td>1</td>\n",
       "      <td>0</td>\n",
       "      <td>0</td>\n",
       "      <td>0</td>\n",
       "    </tr>\n",
       "    <tr>\n",
       "      <th>4</th>\n",
       "      <td>E</td>\n",
       "      <td>0</td>\n",
       "      <td>0</td>\n",
       "      <td>0</td>\n",
       "      <td>1</td>\n",
       "      <td>0</td>\n",
       "    </tr>\n",
       "    <tr>\n",
       "      <th>5</th>\n",
       "      <td>D</td>\n",
       "      <td>0</td>\n",
       "      <td>0</td>\n",
       "      <td>1</td>\n",
       "      <td>0</td>\n",
       "      <td>0</td>\n",
       "    </tr>\n",
       "    <tr>\n",
       "      <th>6</th>\n",
       "      <td>D</td>\n",
       "      <td>0</td>\n",
       "      <td>0</td>\n",
       "      <td>1</td>\n",
       "      <td>0</td>\n",
       "      <td>0</td>\n",
       "    </tr>\n",
       "    <tr>\n",
       "      <th>7</th>\n",
       "      <td>A</td>\n",
       "      <td>0</td>\n",
       "      <td>0</td>\n",
       "      <td>0</td>\n",
       "      <td>0</td>\n",
       "      <td>0</td>\n",
       "    </tr>\n",
       "    <tr>\n",
       "      <th>8</th>\n",
       "      <td>F</td>\n",
       "      <td>0</td>\n",
       "      <td>0</td>\n",
       "      <td>0</td>\n",
       "      <td>0</td>\n",
       "      <td>1</td>\n",
       "    </tr>\n",
       "  </tbody>\n",
       "</table>\n",
       "</div>"
      ],
      "text/plain": [
       "  Class  Class_B  Class_C  Class_D  Class_E  Class_F\n",
       "0     A        0        0        0        0        0\n",
       "1     B        1        0        0        0        0\n",
       "2     A        0        0        0        0        0\n",
       "3     C        0        1        0        0        0\n",
       "4     E        0        0        0        1        0\n",
       "5     D        0        0        1        0        0\n",
       "6     D        0        0        1        0        0\n",
       "7     A        0        0        0        0        0\n",
       "8     F        0        0        0        0        1"
      ]
     },
     "execution_count": 19,
     "metadata": {},
     "output_type": "execute_result"
    }
   ],
   "source": [
    "# numpy.where()를 이용해 라벨 인코딩과 동일한 결과를 만드는 방법\n",
    "df['Class_B'] = np.where(df['Class'] == 'B', 1, 0)\n",
    "df['Class_C'] = np.where(df['Class'] == 'C', 1, 0)\n",
    "df['Class_D'] = np.where(df['Class'] == 'D', 1, 0)\n",
    "df['Class_E'] = np.where(df['Class'] == 'E', 1, 0)\n",
    "df['Class_F'] = np.where(df['Class'] == 'F', 1, 0)\n",
    "df"
   ]
  },
  {
   "cell_type": "code",
   "execution_count": 20,
   "id": "ef732f1f",
   "metadata": {},
   "outputs": [
    {
     "data": {
      "text/html": [
       "<div>\n",
       "<style scoped>\n",
       "    .dataframe tbody tr th:only-of-type {\n",
       "        vertical-align: middle;\n",
       "    }\n",
       "\n",
       "    .dataframe tbody tr th {\n",
       "        vertical-align: top;\n",
       "    }\n",
       "\n",
       "    .dataframe thead th {\n",
       "        text-align: right;\n",
       "    }\n",
       "</style>\n",
       "<table border=\"1\" class=\"dataframe\">\n",
       "  <thead>\n",
       "    <tr style=\"text-align: right;\">\n",
       "      <th></th>\n",
       "      <th>Class</th>\n",
       "      <th>Class_B</th>\n",
       "      <th>Class_C</th>\n",
       "      <th>Class_D</th>\n",
       "      <th>Class_E</th>\n",
       "      <th>Class_F</th>\n",
       "    </tr>\n",
       "  </thead>\n",
       "  <tbody>\n",
       "    <tr>\n",
       "      <th>0</th>\n",
       "      <td>A</td>\n",
       "      <td>0.0</td>\n",
       "      <td>0.0</td>\n",
       "      <td>0.0</td>\n",
       "      <td>0.0</td>\n",
       "      <td>0.0</td>\n",
       "    </tr>\n",
       "    <tr>\n",
       "      <th>1</th>\n",
       "      <td>B</td>\n",
       "      <td>1.0</td>\n",
       "      <td>0.0</td>\n",
       "      <td>0.0</td>\n",
       "      <td>0.0</td>\n",
       "      <td>0.0</td>\n",
       "    </tr>\n",
       "    <tr>\n",
       "      <th>2</th>\n",
       "      <td>A</td>\n",
       "      <td>0.0</td>\n",
       "      <td>0.0</td>\n",
       "      <td>0.0</td>\n",
       "      <td>0.0</td>\n",
       "      <td>0.0</td>\n",
       "    </tr>\n",
       "    <tr>\n",
       "      <th>3</th>\n",
       "      <td>C</td>\n",
       "      <td>0.0</td>\n",
       "      <td>1.0</td>\n",
       "      <td>0.0</td>\n",
       "      <td>0.0</td>\n",
       "      <td>0.0</td>\n",
       "    </tr>\n",
       "    <tr>\n",
       "      <th>4</th>\n",
       "      <td>E</td>\n",
       "      <td>0.0</td>\n",
       "      <td>0.0</td>\n",
       "      <td>0.0</td>\n",
       "      <td>1.0</td>\n",
       "      <td>0.0</td>\n",
       "    </tr>\n",
       "    <tr>\n",
       "      <th>5</th>\n",
       "      <td>D</td>\n",
       "      <td>0.0</td>\n",
       "      <td>0.0</td>\n",
       "      <td>1.0</td>\n",
       "      <td>0.0</td>\n",
       "      <td>0.0</td>\n",
       "    </tr>\n",
       "    <tr>\n",
       "      <th>6</th>\n",
       "      <td>D</td>\n",
       "      <td>0.0</td>\n",
       "      <td>0.0</td>\n",
       "      <td>1.0</td>\n",
       "      <td>0.0</td>\n",
       "      <td>0.0</td>\n",
       "    </tr>\n",
       "    <tr>\n",
       "      <th>7</th>\n",
       "      <td>A</td>\n",
       "      <td>0.0</td>\n",
       "      <td>0.0</td>\n",
       "      <td>0.0</td>\n",
       "      <td>0.0</td>\n",
       "      <td>0.0</td>\n",
       "    </tr>\n",
       "    <tr>\n",
       "      <th>8</th>\n",
       "      <td>F</td>\n",
       "      <td>0.0</td>\n",
       "      <td>0.0</td>\n",
       "      <td>0.0</td>\n",
       "      <td>0.0</td>\n",
       "      <td>1.0</td>\n",
       "    </tr>\n",
       "  </tbody>\n",
       "</table>\n",
       "</div>"
      ],
      "text/plain": [
       "  Class  Class_B  Class_C  Class_D  Class_E  Class_F\n",
       "0     A      0.0      0.0      0.0      0.0      0.0\n",
       "1     B      1.0      0.0      0.0      0.0      0.0\n",
       "2     A      0.0      0.0      0.0      0.0      0.0\n",
       "3     C      0.0      1.0      0.0      0.0      0.0\n",
       "4     E      0.0      0.0      0.0      1.0      0.0\n",
       "5     D      0.0      0.0      1.0      0.0      0.0\n",
       "6     D      0.0      0.0      1.0      0.0      0.0\n",
       "7     A      0.0      0.0      0.0      0.0      0.0\n",
       "8     F      0.0      0.0      0.0      0.0      1.0"
      ]
     },
     "execution_count": 20,
     "metadata": {},
     "output_type": "execute_result"
    }
   ],
   "source": [
    "# loc 인덱서와 부울 인덱싱을 이용한 방법\n",
    "obj = {'Class' : ['A', 'B', 'A', 'C', 'E', 'D', 'D', 'A', 'F']}\n",
    "df = pd.DataFrame(obj)\n",
    "\n",
    "# df의 Class열이 B이면, Class_B 열에 1을 추가 \n",
    "df.loc[df['Class'] == 'B', 'Class_B'] = 1\n",
    "# df의 Class열이 B가 아니면, Class_B 열에 0을 추가 \n",
    "df.loc[df['Class'] != 'B', 'Class_B'] = 0 \n",
    "\n",
    "# df의 Class열이 C이면, Class_C 열에 1을 추가 \n",
    "df.loc[df['Class'] == 'C', 'Class_C'] = 1\n",
    "# df의 Class열이 C가 아니면, Class_C 열에 0을 추가 \n",
    "df.loc[df['Class'] != 'C', 'Class_C'] = 0 \n",
    "\n",
    "# df의 Class열이 D면, Class_D열에 1을 추가 \n",
    "df.loc[df['Class'] == 'D', 'Class_D'] = 1\n",
    "# df의 Class열이 D가 아니면, Class_D열에 0을 추가 \n",
    "df.loc[df['Class'] != 'D', 'Class_D'] = 0 \n",
    "\n",
    "# df의 Class열이 E면, Class_E열에 1을 추가 \n",
    "df.loc[df['Class'] == 'E', 'Class_E'] = 1\n",
    "# df의 Class열이 E가 아니면, Class_E열에 0을 추가 \n",
    "df.loc[df['Class'] != 'E', 'Class_E'] = 0 \n",
    "\n",
    "# df의 Class열이 F면, Class_F열에 1을 추가 \n",
    "df.loc[df['Class'] == 'F', 'Class_F'] = 1\n",
    "# df의 Class열이 F가 아니면, Class_F열에 0을 추가 \n",
    "df.loc[df['Class'] != 'F', 'Class_F'] = 0 \n",
    "\n",
    "df # 확인"
   ]
  },
  {
   "cell_type": "code",
   "execution_count": 21,
   "id": "a2db19bc",
   "metadata": {},
   "outputs": [
    {
     "name": "stdout",
     "output_type": "stream",
     "text": [
      "  student_id  score\n",
      "0         s1     55\n",
      "1         s2     90\n",
      "2         s3     85\n",
      "3         s4     71\n",
      "4         s5     63\n",
      "5         s6     99\n",
      "  student_id  score grade\n",
      "0         s1     55     가\n",
      "1         s2     90     우\n",
      "2         s3     85     우\n",
      "3         s4     71     미\n",
      "4         s5     63     양\n",
      "5         s6     99     수\n",
      "[0 4 4 1 3 2]\n",
      "['가' '미' '수' '양' '우']\n",
      "[[1. 0. 0. 0. 0.]\n",
      " [0. 0. 0. 0. 1.]\n",
      " [0. 0. 0. 0. 1.]\n",
      " [0. 1. 0. 0. 0.]\n",
      " [0. 0. 0. 1. 0.]\n",
      " [0. 0. 1. 0. 0.]]\n"
     ]
    }
   ],
   "source": [
    "# 해당 예제는 구간화와 파생 변수 생성, 인코딩이 모두 필요함\n",
    "# 패키지, 모듈, 함수 호출\n",
    "import pandas as pd\n",
    "import numpy as np\n",
    "from sklearn.preprocessing import LabelEncoder, OneHotEncoder\n",
    "\n",
    "# 데이터프레임 생성\n",
    "obj = {'student_id' : ['s1', 's2', 's3', 's4', 's5', 's6'],\n",
    "       'score' : [55, 90, 85, 71, 63, 99]}\n",
    "df = pd.DataFrame(obj)\n",
    "print(df)\n",
    "\n",
    "# 구간화한 파생변수 grade 열 생성\n",
    "df['grade'] = pd.cut(df['score'],\n",
    "                     bins = [0, 60, 70, 80, 90, 100],\n",
    "                     labels = ['가', '양', '미', '우', '수'])\n",
    "\n",
    "print(df)\n",
    "\n",
    "# sklearn을 활용한 라벨 인코딩\n",
    "lb_encoder = LabelEncoder()\n",
    "lb_encoder.fit(df['grade'])\n",
    "lb_labels = lb_encoder.transform(df['grade'])\n",
    "print(lb_labels) \n",
    "print(lb_encoder.classes_) # 숫자 값에 대응되는 원본 레이블\n",
    "\n",
    "# sklearn을 활용한 원-핫 인코딩\n",
    "lb_labels_2d = np.array(df['grade']).reshape(-1, 1) # 2d 라벨\n",
    "lb_labels_2d \n",
    "\n",
    "oh_encoder = OneHotEncoder(sparse = False)\n",
    "oh_encoder.fit(lb_labels_2d)\n",
    "\n",
    "oh_labels = oh_encoder.transform(lb_labels_2d)\n",
    "print(oh_labels)"
   ]
  },
  {
   "cell_type": "markdown",
   "id": "0f0ba59f",
   "metadata": {},
   "source": []
  },
  {
   "cell_type": "markdown",
   "id": "24695239",
   "metadata": {},
   "source": [
    "### 3절. 데이터 스케일링"
   ]
  },
  {
   "cell_type": "markdown",
   "id": "6abf5d8a",
   "metadata": {},
   "source": [
    "#### 1. 표준화(standardization)"
   ]
  },
  {
   "cell_type": "code",
   "execution_count": 27,
   "id": "b5acbf1d",
   "metadata": {},
   "outputs": [
    {
     "data": {
      "text/html": [
       "<div>\n",
       "<style scoped>\n",
       "    .dataframe tbody tr th:only-of-type {\n",
       "        vertical-align: middle;\n",
       "    }\n",
       "\n",
       "    .dataframe tbody tr th {\n",
       "        vertical-align: top;\n",
       "    }\n",
       "\n",
       "    .dataframe thead th {\n",
       "        text-align: right;\n",
       "    }\n",
       "</style>\n",
       "<table border=\"1\" class=\"dataframe\">\n",
       "  <thead>\n",
       "    <tr style=\"text-align: right;\">\n",
       "      <th></th>\n",
       "      <th>sepal length (cm)</th>\n",
       "      <th>sepal width (cm)</th>\n",
       "      <th>petal length (cm)</th>\n",
       "      <th>petal width (cm)</th>\n",
       "    </tr>\n",
       "  </thead>\n",
       "  <tbody>\n",
       "    <tr>\n",
       "      <th>0</th>\n",
       "      <td>-0.900681</td>\n",
       "      <td>1.019004</td>\n",
       "      <td>-1.340227</td>\n",
       "      <td>-1.315444</td>\n",
       "    </tr>\n",
       "    <tr>\n",
       "      <th>1</th>\n",
       "      <td>-1.143017</td>\n",
       "      <td>-0.131979</td>\n",
       "      <td>-1.340227</td>\n",
       "      <td>-1.315444</td>\n",
       "    </tr>\n",
       "    <tr>\n",
       "      <th>2</th>\n",
       "      <td>-1.385353</td>\n",
       "      <td>0.328414</td>\n",
       "      <td>-1.397064</td>\n",
       "      <td>-1.315444</td>\n",
       "    </tr>\n",
       "    <tr>\n",
       "      <th>3</th>\n",
       "      <td>-1.506521</td>\n",
       "      <td>0.098217</td>\n",
       "      <td>-1.283389</td>\n",
       "      <td>-1.315444</td>\n",
       "    </tr>\n",
       "    <tr>\n",
       "      <th>4</th>\n",
       "      <td>-1.021849</td>\n",
       "      <td>1.249201</td>\n",
       "      <td>-1.340227</td>\n",
       "      <td>-1.315444</td>\n",
       "    </tr>\n",
       "  </tbody>\n",
       "</table>\n",
       "</div>"
      ],
      "text/plain": [
       "   sepal length (cm)  sepal width (cm)  petal length (cm)  petal width (cm)\n",
       "0          -0.900681          1.019004          -1.340227         -1.315444\n",
       "1          -1.143017         -0.131979          -1.340227         -1.315444\n",
       "2          -1.385353          0.328414          -1.397064         -1.315444\n",
       "3          -1.506521          0.098217          -1.283389         -1.315444\n",
       "4          -1.021849          1.249201          -1.340227         -1.315444"
      ]
     },
     "execution_count": 27,
     "metadata": {},
     "output_type": "execute_result"
    }
   ],
   "source": [
    "# 패키지 설치\n",
    "import pandas as pd\n",
    "from sklearn.datasets import load_iris\n",
    "from sklearn.preprocessing import StandardScaler\n",
    "\n",
    "# iris 데이터셋 호출\n",
    "iris = load_iris()\n",
    "data = pd.DataFrame(iris.data, columns = iris.feature_names) # 데이터프레임 변환\n",
    "\n",
    "# 표준 스케일러객체 생성\n",
    "std_scale = StandardScaler()\n",
    "\n",
    "# 표준화 데이터로 변환\n",
    "data_std = std_scale.fit_transform(data)\n",
    "data_std = pd.DataFrame(data_std, columns = iris.feature_names) # 데이터프레임 변환\n",
    "data_std.head() # 확인"
   ]
  },
  {
   "cell_type": "markdown",
   "id": "2ab41d79",
   "metadata": {},
   "source": [
    "#### 2. 정규화(Normalization)"
   ]
  },
  {
   "cell_type": "code",
   "execution_count": 22,
   "id": "329850c4",
   "metadata": {},
   "outputs": [
    {
     "name": "stdout",
     "output_type": "stream",
     "text": [
      "     sepal length (cm)  sepal width (cm)  petal length (cm)  petal width (cm)\n",
      "0             0.222222          0.625000           0.067797          0.041667\n",
      "1             0.166667          0.416667           0.067797          0.041667\n",
      "2             0.111111          0.500000           0.050847          0.041667\n",
      "3             0.083333          0.458333           0.084746          0.041667\n",
      "4             0.194444          0.666667           0.067797          0.041667\n",
      "..                 ...               ...                ...               ...\n",
      "145           0.666667          0.416667           0.711864          0.916667\n",
      "146           0.555556          0.208333           0.677966          0.750000\n",
      "147           0.611111          0.416667           0.711864          0.791667\n",
      "148           0.527778          0.583333           0.745763          0.916667\n",
      "149           0.444444          0.416667           0.694915          0.708333\n",
      "\n",
      "[150 rows x 4 columns]\n"
     ]
    }
   ],
   "source": [
    "from sklearn.preprocessing import MinMaxScaler\n",
    "\n",
    "# iris 데이터셋 호출\n",
    "iris = load_iris()\n",
    "data = pd.DataFrame(iris.data, columns = iris.feature_names) # 데이터프레임 변환\n",
    "\n",
    "# 최소최대 스케일러객체 생성\n",
    "mm_scale = MinMaxScaler()\n",
    "\n",
    "# 정규화 데이터로 변환\n",
    "data_std = mm_scale.fit_transform(data)\n",
    "data_std = pd.DataFrame(data_std, columns = iris.feature_names) # 데이터프레임 변환\n",
    "print(data_std) # 확인"
   ]
  },
  {
   "cell_type": "markdown",
   "id": "67f70be3",
   "metadata": {},
   "source": []
  },
  {
   "cell_type": "markdown",
   "id": "574207f7",
   "metadata": {},
   "source": [
    "### 4절. 데이터 축소"
   ]
  },
  {
   "cell_type": "markdown",
   "id": "d80d6082",
   "metadata": {},
   "source": [
    "#### 1. 주성분 분석"
   ]
  },
  {
   "cell_type": "markdown",
   "id": "b78884a4",
   "metadata": {},
   "source": [
    "##### 가. 주성분분석의 개념"
   ]
  },
  {
   "cell_type": "markdown",
   "id": "f68d9134",
   "metadata": {},
   "source": [
    "코드 없음"
   ]
  },
  {
   "cell_type": "markdown",
   "id": "9e486842",
   "metadata": {},
   "source": [
    "##### 나. 주성분의 선택"
   ]
  },
  {
   "cell_type": "markdown",
   "id": "8566702e",
   "metadata": {},
   "source": [
    "코드 없음"
   ]
  },
  {
   "cell_type": "markdown",
   "id": "fc99989e",
   "metadata": {},
   "source": [
    "##### 다. 파이썬을 이용한 주성분분석"
   ]
  },
  {
   "cell_type": "code",
   "execution_count": 25,
   "id": "a8c75901",
   "metadata": {},
   "outputs": [
    {
     "data": {
      "text/html": [
       "<div>\n",
       "<style scoped>\n",
       "    .dataframe tbody tr th:only-of-type {\n",
       "        vertical-align: middle;\n",
       "    }\n",
       "\n",
       "    .dataframe tbody tr th {\n",
       "        vertical-align: top;\n",
       "    }\n",
       "\n",
       "    .dataframe thead th {\n",
       "        text-align: right;\n",
       "    }\n",
       "</style>\n",
       "<table border=\"1\" class=\"dataframe\">\n",
       "  <thead>\n",
       "    <tr style=\"text-align: right;\">\n",
       "      <th></th>\n",
       "      <th>Murder</th>\n",
       "      <th>Assault</th>\n",
       "      <th>UrbanPop</th>\n",
       "      <th>Rape</th>\n",
       "    </tr>\n",
       "  </thead>\n",
       "  <tbody>\n",
       "    <tr>\n",
       "      <th>Alabama</th>\n",
       "      <td>13.2</td>\n",
       "      <td>236</td>\n",
       "      <td>58</td>\n",
       "      <td>21.2</td>\n",
       "    </tr>\n",
       "    <tr>\n",
       "      <th>Alaska</th>\n",
       "      <td>10.0</td>\n",
       "      <td>263</td>\n",
       "      <td>48</td>\n",
       "      <td>44.5</td>\n",
       "    </tr>\n",
       "    <tr>\n",
       "      <th>Arizona</th>\n",
       "      <td>8.1</td>\n",
       "      <td>294</td>\n",
       "      <td>80</td>\n",
       "      <td>31.0</td>\n",
       "    </tr>\n",
       "    <tr>\n",
       "      <th>Arkansas</th>\n",
       "      <td>8.8</td>\n",
       "      <td>190</td>\n",
       "      <td>50</td>\n",
       "      <td>19.5</td>\n",
       "    </tr>\n",
       "    <tr>\n",
       "      <th>California</th>\n",
       "      <td>9.0</td>\n",
       "      <td>276</td>\n",
       "      <td>91</td>\n",
       "      <td>40.6</td>\n",
       "    </tr>\n",
       "  </tbody>\n",
       "</table>\n",
       "</div>"
      ],
      "text/plain": [
       "            Murder  Assault  UrbanPop  Rape\n",
       "Alabama       13.2      236        58  21.2\n",
       "Alaska        10.0      263        48  44.5\n",
       "Arizona        8.1      294        80  31.0\n",
       "Arkansas       8.8      190        50  19.5\n",
       "California     9.0      276        91  40.6"
      ]
     },
     "execution_count": 25,
     "metadata": {},
     "output_type": "execute_result"
    }
   ],
   "source": [
    "# 패키지 불러오기\n",
    "import pandas as pd\n",
    "from sklearn.preprocessing import StandardScaler\n",
    "from sklearn.decomposition import PCA\n",
    "\n",
    "# 제공된 USArrests 데이터 불러오기\n",
    "# 주가 행 인덱스 레이블이 되도록 index_col = 0\n",
    "df = pd.read_csv(\"data/예제/USArrests_rownames.csv\", index_col = 0)\n",
    "df.head() # 확인"
   ]
  },
  {
   "cell_type": "code",
   "execution_count": 26,
   "id": "1faf4fff",
   "metadata": {},
   "outputs": [
    {
     "name": "stdout",
     "output_type": "stream",
     "text": [
      "           PCA1      PCA2      PCA3      PCA4\n",
      "분산 기여율  0.62006  0.247441  0.089141  0.043358\n",
      "누적 기여율  0.62006  0.867502  0.956642  1.000000\n"
     ]
    }
   ],
   "source": [
    "# 주성분 분석 전에 표준화(스케일링)하기\n",
    "# fit_transform은 한 번에 fit과 transform을 수행\n",
    "x = StandardScaler().fit_transform(df) # x객체에 df 전체를 표준화한 데이터 할당\n",
    "\n",
    "# PCA객체 생성(주성분의 수를 전체 컬럼 수로)\n",
    "pca = PCA(n_components = 4)\n",
    "\n",
    "# 적합후 변환(배열형태)\n",
    "pca_arr = pca.fit_transform(x)\n",
    "\n",
    "# 주성분에 따른 분산 기여율과 누적 기여율\n",
    "result = {\"분산 기여율\" : pca.explained_variance_ratio_, # 분산 기여율\n",
    "          \"누적 기여율\" : pca.explained_variance_ratio_.cumsum()} # 누적 기여율\n",
    "\n",
    "# 결과를 데이터프레임 형태로 변환, 전치하여 컬럼명이 주성분이 되게 함\n",
    "result = pd.DataFrame(result,\n",
    "                      index = ['PCA1', 'PCA2', 'PCA3', 'PCA4']).T\n",
    "print(result) # 주성분의 수를 2개로 정함"
   ]
  },
  {
   "cell_type": "code",
   "execution_count": 27,
   "id": "5036d93e",
   "metadata": {},
   "outputs": [
    {
     "data": {
      "text/html": [
       "<div>\n",
       "<style scoped>\n",
       "    .dataframe tbody tr th:only-of-type {\n",
       "        vertical-align: middle;\n",
       "    }\n",
       "\n",
       "    .dataframe tbody tr th {\n",
       "        vertical-align: top;\n",
       "    }\n",
       "\n",
       "    .dataframe thead th {\n",
       "        text-align: right;\n",
       "    }\n",
       "</style>\n",
       "<table border=\"1\" class=\"dataframe\">\n",
       "  <thead>\n",
       "    <tr style=\"text-align: right;\">\n",
       "      <th></th>\n",
       "      <th>PCA1</th>\n",
       "      <th>PCA2</th>\n",
       "    </tr>\n",
       "  </thead>\n",
       "  <tbody>\n",
       "    <tr>\n",
       "      <th>0</th>\n",
       "      <td>0.985566</td>\n",
       "      <td>1.133392</td>\n",
       "    </tr>\n",
       "    <tr>\n",
       "      <th>1</th>\n",
       "      <td>1.950138</td>\n",
       "      <td>1.073213</td>\n",
       "    </tr>\n",
       "    <tr>\n",
       "      <th>2</th>\n",
       "      <td>1.763164</td>\n",
       "      <td>-0.745957</td>\n",
       "    </tr>\n",
       "    <tr>\n",
       "      <th>3</th>\n",
       "      <td>-0.141420</td>\n",
       "      <td>1.119797</td>\n",
       "    </tr>\n",
       "    <tr>\n",
       "      <th>4</th>\n",
       "      <td>2.523980</td>\n",
       "      <td>-1.542934</td>\n",
       "    </tr>\n",
       "  </tbody>\n",
       "</table>\n",
       "</div>"
      ],
      "text/plain": [
       "       PCA1      PCA2\n",
       "0  0.985566  1.133392\n",
       "1  1.950138  1.073213\n",
       "2  1.763164 -0.745957\n",
       "3 -0.141420  1.119797\n",
       "4  2.523980 -1.542934"
      ]
     },
     "execution_count": 27,
     "metadata": {},
     "output_type": "execute_result"
    }
   ],
   "source": [
    "# 주성분 분석 결과\n",
    "pca = PCA(n_components = 2) # PCA객체 생성\n",
    "pca_arr = pca.fit_transform(x) # 적합후 변환(배열형태)\n",
    "df_pca = pd.DataFrame(pca_arr, columns = ['PCA1', 'PCA2']) # 데이터프레임으로 변환\n",
    "df_pca.head() # 확인"
   ]
  },
  {
   "cell_type": "markdown",
   "id": "ad08893b",
   "metadata": {},
   "source": [
    "----"
   ]
  }
 ],
 "metadata": {
  "hide_input": false,
  "kernelspec": {
   "display_name": "Python 3",
   "language": "python",
   "name": "python3"
  },
  "language_info": {
   "codemirror_mode": {
    "name": "ipython",
    "version": 3
   },
   "file_extension": ".py",
   "mimetype": "text/x-python",
   "name": "python",
   "nbconvert_exporter": "python",
   "pygments_lexer": "ipython3",
   "version": "3.8.8"
  },
  "toc": {
   "base_numbering": 1,
   "nav_menu": {},
   "number_sections": false,
   "sideBar": true,
   "skip_h1_title": false,
   "title_cell": "Table of Contents",
   "title_sidebar": "Contents",
   "toc_cell": false,
   "toc_position": {},
   "toc_section_display": true,
   "toc_window_display": false
  },
  "varInspector": {
   "cols": {
    "lenName": 16,
    "lenType": 16,
    "lenVar": 40
   },
   "kernels_config": {
    "python": {
     "delete_cmd_postfix": "",
     "delete_cmd_prefix": "del ",
     "library": "var_list.py",
     "varRefreshCmd": "print(var_dic_list())"
    },
    "r": {
     "delete_cmd_postfix": ") ",
     "delete_cmd_prefix": "rm(",
     "library": "var_list.r",
     "varRefreshCmd": "cat(var_dic_list()) "
    }
   },
   "types_to_exclude": [
    "module",
    "function",
    "builtin_function_or_method",
    "instance",
    "_Feature"
   ],
   "window_display": false
  }
 },
 "nbformat": 4,
 "nbformat_minor": 5
}
