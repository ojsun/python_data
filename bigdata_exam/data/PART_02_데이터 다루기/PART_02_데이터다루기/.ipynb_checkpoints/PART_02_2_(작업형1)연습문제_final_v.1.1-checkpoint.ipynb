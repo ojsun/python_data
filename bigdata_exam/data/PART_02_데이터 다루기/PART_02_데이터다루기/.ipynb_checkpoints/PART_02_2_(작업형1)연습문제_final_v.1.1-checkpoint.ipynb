{
 "cells": [
  {
   "cell_type": "markdown",
   "id": "4e1be88e",
   "metadata": {},
   "source": [
    "## (작업형1) 연습문제"
   ]
  },
  {
   "cell_type": "markdown",
   "id": "8e175d52",
   "metadata": {},
   "source": [
    "#### 1. Cars93 데이터셋의 Wheelbase 컬럼에 대해서 평균 값에서 표준편차의 1.5배, 2배, 2.5배를 더하거나 뺀 값들의 구간 내의 데이터들의 평균을 각각 구한 후 원래의 데이터 평균에서 뺐을 때 차이들의 합을 출력하여라. (단, 소수점 다섯째 자리에서 반올림하여 표현할 것)"
   ]
  },
  {
   "cell_type": "code",
   "execution_count": 1,
   "id": "e81ced46",
   "metadata": {},
   "outputs": [
    {
     "name": "stdout",
     "output_type": "stream",
     "text": [
      "0.4845\n"
     ]
    }
   ],
   "source": [
    "#### 연습문제1 Solution\n",
    "import pandas as pd\n",
    "exam1 = pd.read_csv('data/연습문제/Cars93.csv')\n",
    "\n",
    "# Wheelbase 따로 할당\n",
    "Wheelbase = exam1['Wheelbase']\n",
    "\n",
    "# Wheelbase의 평균\n",
    "Wheelbase_avg = Wheelbase.mean()\n",
    "\n",
    "# Wheelbase의 표준편차\n",
    "Wheelbase_sd = Wheelbase.std()\n",
    "\n",
    "##### Case1. 평균 값에서 표준편차를 1.5배를 더하거나 빼는 경우\n",
    "# 구간의 하한(Low_1)과 상한(Upp_1) 계산\n",
    "Low_1 = Wheelbase_avg - 1.5 * Wheelbase_sd\n",
    "Upp_1 = Wheelbase_avg + 1.5 * Wheelbase_sd\n",
    "\n",
    "# 구간 내 데이터들의 평균\n",
    "Avg_1 = Wheelbase[(Wheelbase > Low_1) & (Wheelbase < Upp_1)].mean()\n",
    "\n",
    "# 원래의 데이터 평균에서 뺌\n",
    "Case1 = Wheelbase_avg - Avg_1\n",
    "\n",
    "##### Case2. 평균 값에서 표준편차를 2배를 더하거나 빼는 경우\n",
    "# 구간의 하한(Low_2)과 상한(Upp_2) 계산\n",
    "Low_2 = Wheelbase_avg - 2 * Wheelbase_sd\n",
    "Upp_2 = Wheelbase_avg + 2 * Wheelbase_sd\n",
    "\n",
    "# 구간 내 데이터들의 평균\n",
    "Avg_2 = Wheelbase[(Wheelbase > Low_2) & (Wheelbase < Upp_2)].mean()\n",
    "\n",
    "# 원래의 데이터 평균에서 뺌\n",
    "Case2 = Wheelbase_avg - Avg_2\n",
    "\n",
    "##### Case3. 평균 값에서 표준편차를 2.5배를 더하거나 빼는 경우\n",
    "# 구간의 하한(Low_3)과 상한(Upp_3) 계산\n",
    "Low_3 = Wheelbase_avg - 2.5 * Wheelbase_sd\n",
    "Upp_3 = Wheelbase_avg + 2.5 * Wheelbase_sd\n",
    "\n",
    "# 구간 내 데이터들의 평균\n",
    "Avg_3 = Wheelbase[(Wheelbase > Low_3) & (Wheelbase < Upp_3)].mean()\n",
    "\n",
    "# 원래의 데이터 평균에서 뺌\n",
    "Case3 = Wheelbase_avg - Avg_3\n",
    "\n",
    "##### 결과를 result에 할당\n",
    "result = round(Case1 + Case2 + Case3, 4)\n",
    "\n",
    "##### 결과 출력\n",
    "print(result)"
   ]
  },
  {
   "cell_type": "markdown",
   "id": "461efb38",
   "metadata": {},
   "source": [
    "--- "
   ]
  },
  {
   "cell_type": "markdown",
   "id": "1375c428",
   "metadata": {},
   "source": [
    "#### 2.Cars93 데이터셋의 Length 컬럼에 대해서 순위를 부여한 후, 1위부터 30위까지 값들의 표준편차를 구하고 소수점 셋째 자리까지 반올림하여 나타내어라. (단, 동점은 동일한 순위를 부여하되 평균내어 등수를 산정하며 최솟값을 1위로 할 것)"
   ]
  },
  {
   "cell_type": "code",
   "execution_count": null,
   "id": "77b42abe",
   "metadata": {
    "tags": []
   },
   "outputs": [],
   "source": [
    "#### 연습문제2 Solution\n",
    "import pandas as pd\n",
    "exam2 = pd.read_csv('data/연습문제/Cars93.csv')\n",
    "\n",
    "# Length의 순위\n",
    "rank = exam2['Length'].rank(method = 'average')\n",
    "\n",
    "# 1위~30위까지만 추출\n",
    "sub = exam2['Length'][rank <= 30]\n",
    "\n",
    "# sub의 표준편차\n",
    "sub_sd = sub.std()\n",
    "\n",
    "##### 결과를 result에 할당\n",
    "result = round(sub_sd, 3)\n",
    "\n",
    "##### 결과 출력\n",
    "print(result)"
   ]
  },
  {
   "cell_type": "markdown",
   "id": "ee619b6b",
   "metadata": {},
   "source": [
    "--- "
   ]
  },
  {
   "cell_type": "markdown",
   "id": "1500ff9f",
   "metadata": {},
   "source": [
    "#### 3. Cars93 데이터셋의 Max_Price 컬럼과 Min_Price 컬럼에 대해서 각각 정렬한 후 정렬된 순서에 따라 레코드별로 Max_Price와 Min_Price의 차이를 산출하고 차이값에 대해 표준편차를 구하여라. (단, Max_Price의 정렬은 내림차순, Min_Price의 정렬은 오름차순으로 하며, 출력시 표준편차는 소수점 넷째 자리에서 반올림하여 표현할 것)"
   ]
  },
  {
   "cell_type": "code",
   "execution_count": 2,
   "id": "67abb715",
   "metadata": {},
   "outputs": [
    {
     "name": "stdout",
     "output_type": "stream",
     "text": [
      "18.584\n"
     ]
    }
   ],
   "source": [
    "#### 연습문제3 Solution\n",
    "import pandas as pd\n",
    "exam3 = pd.read_csv('data/연습문제/Cars93.csv')\n",
    "\n",
    "# 내림차순으로 정렬해 MaxPrice_sort에 할당\n",
    "MaxPrice_sort = exam3['Max_Price'].sort_values(ascending = False, ignore_index = True)\n",
    "\n",
    "# 오름차순으로 정렬해 MinPrice_sort에 할당\n",
    "MinPrice_sort = exam3['Min_Price'].sort_values(ignore_index = True)\n",
    "\n",
    "# 차이 계산\n",
    "# 메소드 .sort_values()에 ignore_index = True을 하지 않을 경우\n",
    "# 정렬과 무관하게 정렬 전의 인덱스가 같은 값들끼리 차이를 계산하게 됨\n",
    "diff = MaxPrice_sort - MinPrice_sort\n",
    "\n",
    "# 차이에 대한 표준편차\n",
    "diff_sd = diff.std()\n",
    "\n",
    "##### 결과를 result에 할당\n",
    "result = round(diff_sd, 3)\n",
    "\n",
    "##### 결과 출력\n",
    "print(result)"
   ]
  },
  {
   "cell_type": "markdown",
   "id": "26bbb679",
   "metadata": {},
   "source": [
    "--- "
   ]
  },
  {
   "cell_type": "markdown",
   "id": "f4c4fdc1",
   "metadata": {},
   "source": [
    "#### 4. Cars93 데이터셋의 Weight 컬럼을 Min-Max 정규화로 변환한 후, 0.5보다 작은 값들의 분산과 0.5보다 큰 값들의 분산의 차이를 구하여라.(단, 차이는 큰 값에서 작은 값을 빼서 구하며, 소수점 넷째 자리에서 반올림하여 표현할 것)"
   ]
  },
  {
   "cell_type": "code",
   "execution_count": 3,
   "id": "3a5919e6",
   "metadata": {},
   "outputs": [
    {
     "name": "stdout",
     "output_type": "stream",
     "text": [
      "0.001\n"
     ]
    }
   ],
   "source": [
    "#### 연습문제4 Solution\n",
    "import pandas as pd\n",
    "exam4 = pd.read_csv('data/연습문제/Cars93.csv')\n",
    "\n",
    "# Weight 컬럼 Min-Max 정규화로 변환\n",
    "Weight = exam4['Weight']\n",
    "Weight_std = (Weight - min(Weight))/(max(Weight) - min(Weight))\n",
    "\n",
    "# 0.5보다 작은 Weight들의 분산\n",
    "var_under = Weight_std[Weight_std < 0.5].var()\n",
    "\n",
    "# 0.5보다 큰 Weight들의 분산\n",
    "var_over = Weight_std[Weight_std > 0.5].var()\n",
    "\n",
    "# 차이 계산\n",
    "diff = abs(var_over - var_under)\n",
    "\n",
    "##### 결과를 result에 할당\n",
    "result = round(diff, 3)\n",
    "\n",
    "##### 결과 출력\n",
    "print(result)"
   ]
  },
  {
   "cell_type": "markdown",
   "id": "45c60957",
   "metadata": {},
   "source": [
    "---"
   ]
  },
  {
   "cell_type": "markdown",
   "id": "62718b3e",
   "metadata": {},
   "source": [
    "#### 5. Cars93 데이터셋을 이용하여 Manufacturer, Origin 컬럼의 유일값 조합의 수와 Manufacturer 컬럼의 앞 두글자만 추출한 결과와 Origin 컬럼과의 유일값 조합  수의 차이를 구하여라. (단, 원래 유일값 조합 수에서 추출 이후 수를 뺄 것)"
   ]
  },
  {
   "cell_type": "code",
   "execution_count": 4,
   "id": "f7850b72",
   "metadata": {},
   "outputs": [
    {
     "name": "stdout",
     "output_type": "stream",
     "text": [
      "4\n"
     ]
    }
   ],
   "source": [
    "#### 연습문제5 Solution\n",
    "import pandas as pd\n",
    "exam5 = pd.read_csv('data/연습문제/Cars93.csv')\n",
    "\n",
    "##### 원래 유일값 조합의 수\n",
    "# .unique(): 시리즈의 유일값을 추출하는 메소드이다.\n",
    "# .nunique()는 데이터프레임의 각 컬럼별 유일값 수를 계산하는 메소드이다.\n",
    "# .drop_duplicates(): 데이터프레임의 여러 컬럼들의 조합에 대한 유일값을 추출하는 메소드\n",
    "uniq_raw = exam5[['Manufacturer', 'Origin']].drop_duplicates()\n",
    "num_uniq_raw = uniq_raw.shape[0]\n",
    "\n",
    "##### Manufacturer 컬럼 앞 두 글자만 추출한 결과와 Origin과 유일값 조합의 수\n",
    "# Manufacturer 컬럼 앞 두 글자 추출\n",
    "exam5['sub_str'] = exam5['Manufacturer'].str[:2]\n",
    "\n",
    "# 유일값 조합의 수\n",
    "uniq_new = exam5[['sub_str', 'Origin']].drop_duplicates()\n",
    "num_uniq_new = uniq_new.shape[0]\n",
    "\n",
    "##### 결과를 result에 할당\n",
    "result = num_uniq_raw - num_uniq_new\n",
    "\n",
    "##### 결과 출력\n",
    "print(result)"
   ]
  },
  {
   "cell_type": "markdown",
   "id": "6baa1e9e",
   "metadata": {},
   "source": [
    "---"
   ]
  },
  {
   "cell_type": "markdown",
   "id": "5faf5613",
   "metadata": {},
   "source": [
    "#### 6. Cars93 데이터셋을 이용하여 컬럼 Type, Man_trans_avail에 대한 그룹별 RPM 레코드수와 RPM 합계, 중앙값을 모두 구한 후, 그룹별 중앙값에서 그룹별 합계에서 레코드 수를 나눈 값들을 빼서 나온 결과의 총 원소 합을 구하여라. (단, 출력시 소수점은 첫째 자리에서 반올림하여 표현할 것)"
   ]
  },
  {
   "cell_type": "code",
   "execution_count": 5,
   "id": "b3733c2a",
   "metadata": {},
   "outputs": [
    {
     "name": "stdout",
     "output_type": "stream",
     "text": [
      "442.0\n"
     ]
    }
   ],
   "source": [
    "#### 연습문제6 Solution\n",
    "import pandas as pd\n",
    "exam6 = pd.read_csv('data/연습문제/Cars93.csv')\n",
    "\n",
    "##### 그룹별  RPM 레코드 수\n",
    "count_RPM_gp = exam6.groupby(['Type', 'Man_trans_avail'])['RPM'].count()\n",
    "\n",
    "##### 그룹별 RPM 합계\n",
    "sum_RPM_gp = exam6.groupby(['Type', 'Man_trans_avail'])['RPM'].sum()\n",
    "\n",
    "##### 그룹별 RPM 중앙값\n",
    "median_RPM_gp = exam6.groupby(['Type', 'Man_trans_avail'])['RPM'].median()\n",
    "\n",
    "##### 그룹별 중앙값 - (그룹별 합계/레코드 수)을 계산한 후 모든 원소 합\n",
    "calcul = sum(median_RPM_gp - sum_RPM_gp/count_RPM_gp)\n",
    "\n",
    "##### 결과를 result에 할당\n",
    "result = round(calcul, 0)\n",
    "\n",
    "##### 결과 출력\n",
    "print(result)"
   ]
  },
  {
   "cell_type": "markdown",
   "id": "9b9cc3e4",
   "metadata": {},
   "source": [
    "---- "
   ]
  },
  {
   "cell_type": "markdown",
   "id": "a06b61b1",
   "metadata": {},
   "source": [
    "#### 연습문제7. Cars93 데이터셋을 이용하여 RPM 컬럼의 결측치를 평균으로 대체하고 RPM와 Wheelbase 컬럼을 각각 z-점수 표준화한 후 표준화된 Wheelbase에 상수 –36을 곱한 값과 표준화된 RPM 컬럼의 차이값을 구하고 표준편차를 산출하여라. (단, 소숫점 셋째 자리까지 반올림하여 표현할 것)"
   ]
  },
  {
   "cell_type": "code",
   "execution_count": 52,
   "id": "abdb5406",
   "metadata": {},
   "outputs": [
    {
     "name": "stdout",
     "output_type": "stream",
     "text": [
      "35.561\n"
     ]
    }
   ],
   "source": [
    "#### 연습문제7 Solution\n",
    "import pandas as pd\n",
    "exam7 = pd.read_csv('data/연습문제/Cars93.csv')\n",
    "\n",
    "##### RPM 컬럼 결측치 평균 대체\n",
    "avg = exam7['RPM'].mean() # RPM 컬럼의 결측치를 제외한 평균\n",
    "exam7['RPM'] = exam7['RPM'].fillna(avg)\n",
    "\n",
    "##### RPM 컬럼 z-점수 표준화\n",
    "RPM_std = (exam7['RPM'] - exam7['RPM'].mean())/exam7['RPM'].std()\n",
    "\n",
    "##### Wheelbase 컬럼 z-점수 표준화\n",
    "Wheelbase_std = (exam7['Wheelbase'] - exam7['Wheelbase'].mean())/exam7['Wheelbase'].std()\n",
    "\n",
    "##### 표준화된 Wheelbase에 상수 –36을 곱한 값과 표준화된 RPM 변수의 차이값\n",
    "diff = Wheelbase_std * (-36) - RPM_std\n",
    "\n",
    "##### 차이값의 표준 편차\n",
    "diff_sd = diff.std()\n",
    "\n",
    "##### 결과를 result에 할당\n",
    "result = round(diff_sd, 3)\n",
    "\n",
    "##### 결과 출력\n",
    "print(result)"
   ]
  },
  {
   "cell_type": "markdown",
   "id": "bbe910ed",
   "metadata": {},
   "source": [
    "----"
   ]
  },
  {
   "cell_type": "markdown",
   "id": "468495d4",
   "metadata": {},
   "source": [
    "#### 연습문제8. Cars93 데이터셋을 이용하여 먼저, Price 컬럼의 결측치를 평균으로 대체하고 Max_Price 변수와 Min_Price의 평균보다 작은 레코드만을 추출해 산출된 Origin 그룹별 Price의 합계를 구하고 다음으로 Price 컬럼의 결측치를 중앙값으로 대체하고 Price 컬럼이 Min_Price 컬럼의 제 3사분위수보다 작은 레코드만을 추출해 산출된 Origin별 Price의 합계를 Origin 그룹별로 합한 후 큰 값을 출력하여라. (단, 소숫점 이하는 모두 절삭하여 정수로 표현할 것)"
   ]
  },
  {
   "cell_type": "code",
   "execution_count": 3,
   "id": "0ec52bd7",
   "metadata": {},
   "outputs": [
    {
     "name": "stdout",
     "output_type": "stream",
     "text": [
      "856\n"
     ]
    }
   ],
   "source": [
    "#### 연습문제8 Solution\n",
    "import pandas as pd\n",
    "exam8 = pd.read_csv('data/연습문제/Cars93.csv')\n",
    "\n",
    "# 결측치 대체를 같은 컬럼에 두 번해야하는 문제이므로 이에 데이터프레임을 따로 복사함\n",
    "df_case1 = exam8.copy()\n",
    "df_case2 = exam8.copy()\n",
    "\n",
    "##### Case1\n",
    "# Price 컬럼의 결측치를 평균으로 대체\n",
    "avg = df_case1['Price'].mean() # Price 컬럼의 결측치를 제외한 평균\n",
    "df_case1['Price'] = df_case1['Price'].fillna(avg)\n",
    "# (참고) df_case1['Price'].fillna(avg, inplace = True)는 다시 할당 없이 바로 변경 가능\n",
    "\n",
    "###### Price가 Max_Price와 Min_Price의 평균보다 작은 데이터프레임을 추출\n",
    "# Max_Price와 Min_Price의 컬럼별 평균\n",
    "avg_MaxMin = df_case1[['Max_Price', 'Min_Price']].mean(axis = 1)\n",
    "\n",
    "# Price가 위의 평균보다 작은 데이터프레임\n",
    "sub_df_case1 = df_case1[df_case1['Price'] < avg_MaxMin]\n",
    "\n",
    "# Origin 그룹별 Price의 합계\n",
    "sum_case1 = sub_df_case1.groupby('Origin')['Price'].sum()\n",
    "\n",
    "##### Case2\n",
    "# Price 변수의 결측치를 중앙값으로 대체\n",
    "med = df_case2['Price'].median() # Price 컬럼의 결측치를 제외한 중앙값\n",
    "df_case2['Price'] = df_case2['Price'].fillna(med)\n",
    "# (참고) df_case1['Price'].fillna(med, inplace = True)는 다시 할당 없이 바로 변경 가능\n",
    "\n",
    "###### Price가 Min_Price의 제 3사분위수보다 작은 데이터프레임을 추출\n",
    "# Min_Price의 제 3사분위수\n",
    "q3 = exam8['Min_Price'].quantile(.75)\n",
    "\n",
    "# Price가 위의 제 3사분위수보다 작은 데이터프레임\n",
    "sub_df_case2 = df_case2[df_case2['Price'] < q3]\n",
    "\n",
    "# Origin 그룹별 Price의 합계\n",
    "sum_case2 = sub_df_case2.groupby('Origin')['Price'].sum()\n",
    "\n",
    "##### 두 결과를 합한 후 가장 큰 원소\n",
    "max_value = max(sum_case1 + sum_case2)\n",
    "\n",
    "##### 결과를 result에 할당\n",
    "import numpy as np\n",
    "result = int(np.floor(max_value)) # int(max_value)만 해도 됨\n",
    "\n",
    "##### 결과 출력\n",
    "print(result)"
   ]
  },
  {
   "cell_type": "markdown",
   "id": "b7ef63c0",
   "metadata": {},
   "source": [
    "---- "
   ]
  },
  {
   "cell_type": "markdown",
   "id": "8117f672",
   "metadata": {},
   "source": [
    "#### 연습문제9. Cars93 데이터셋에서 ‘Price’ 컬럼은 ‘Min_Price’와 ‘Max_Price’의 평균으로 알려져있다. 이와 같은 사실을 통해 ‘Price’ 컬럼의 결측치의 원래의 값을 계산한 후, ‘Price’가 14.7보다 작거나 25.3보다 크면서 ‘Large’ 타입인 레코드 수를 계산하여라."
   ]
  },
  {
   "cell_type": "code",
   "execution_count": 8,
   "id": "630f39a1",
   "metadata": {},
   "outputs": [
    {
     "name": "stdout",
     "output_type": "stream",
     "text": [
      "35\n"
     ]
    }
   ],
   "source": [
    "#### 연습문제9 Solution\n",
    "import pandas as pd\n",
    "exam9 = pd.read_csv('data/연습문제/Cars93.csv')\n",
    "\n",
    "##### 'Price' 컬럼의 결측치의 원래의 값을 계산\n",
    "### 컬럼들 시리즈로 별도 저장\n",
    "Price = exam9['Price'].copy()\n",
    "Max_Price = exam9['Max_Price'].copy()\n",
    "Min_Price = exam9['Min_Price'].copy()\n",
    "Type = exam9['Type'].copy()\n",
    "\n",
    "### 'Price' 컬럼이 결측인 조건\n",
    "cond_na = Price.isna()\n",
    "\n",
    "### 'Price'가 결측치인 경우만 'Min_Price'와 'Max_Price'의 평균을 할당\n",
    "Price[cond_na] = (Max_Price[cond_na] + Min_Price[cond_na])/2\n",
    "\n",
    "###### ‘Price’가 14.7보다 작거나 25.3보다 크면서 ‘Large’ 타입인 레코드 수\n",
    "# 조건1\n",
    "cond1 = Price < 14.7\n",
    "\n",
    "# 조건2\n",
    "cond2 = (Price > 25.3) & (Type == 'Large')\n",
    "\n",
    "# 해당하는 조건\n",
    "cond = cond1 | cond2\n",
    "\n",
    "##### 결과를 result에 할당\n",
    "result = exam9[cond].shape[0]\n",
    "\n",
    "##### 결과 출력\n",
    "print(result)"
   ]
  },
  {
   "cell_type": "markdown",
   "id": "8e8c4baa",
   "metadata": {},
   "source": [
    "----"
   ]
  },
  {
   "cell_type": "markdown",
   "id": "51bd47e2",
   "metadata": {},
   "source": [
    "#### 연습문제10. Cars93 데이터셋에서 ‘Make’ 컬럼을 이용하여 제조사가 ‘Chevrolet’, ‘Pontiac’, ‘Hyundai’이면서 ‘AirBags’이 ‘Driver’에만 있는 경우의 레코드 수를 계산하여라."
   ]
  },
  {
   "cell_type": "code",
   "execution_count": 9,
   "id": "d1685bf0",
   "metadata": {},
   "outputs": [
    {
     "name": "stdout",
     "output_type": "stream",
     "text": [
      "3\n"
     ]
    }
   ],
   "source": [
    "#### 연습문제10 Solution\n",
    "import pandas as pd\n",
    "exam10 = pd.read_csv('data/연습문제/Cars93.csv')\n",
    "\n",
    "#### 컬럼들 시리즈로 별도 저장\n",
    "Make = exam10['Make'].copy()\n",
    "AirBags = exam10['AirBags'].copy()\n",
    "\n",
    "#### 제조사가 ‘Chevrolet’, ‘Pontiac’, ‘Hyundai’인 경우\n",
    "### (위치 인덱스 기준) 12, 16, 72, 74번 문자열 앞에 공백이 포함되어있음\n",
    "# Make[Make.str[0] == ' '] 확인 코드\n",
    "\n",
    "### 선행 문자(공백) 제거\n",
    "Make = Make.str.strip()\n",
    "\n",
    "### 조건\n",
    "# 튜플로 입력 시 여러 문자열로 시작하는 경우에 대한 부울 결과를 찾을 수 있음\n",
    "# 문자열이 'Chevrolet' 또는 'Pontiac' 또는 'Hyundai'로 시작하면 True를 반환함\n",
    "cond_1 = Make.str.startswith(('Chevrolet', 'Pontiac', 'Hyundai'))\n",
    "\n",
    "#### 'AirBags'이 'Driver'에만 있는 경우\n",
    "cond_2 = (AirBags == 'Driver only')\n",
    "\n",
    "##### 결과를 result에 할당\n",
    "result = sum(cond_1 & cond_2)\n",
    "\n",
    "##### 결과 출력\n",
    "print(result)"
   ]
  },
  {
   "cell_type": "markdown",
   "id": "0a71f092",
   "metadata": {},
   "source": [
    "# (끝)"
   ]
  }
 ],
 "metadata": {
  "hide_input": false,
  "kernelspec": {
   "display_name": "Python 3 (ipykernel)",
   "language": "python",
   "name": "python3"
  },
  "language_info": {
   "codemirror_mode": {
    "name": "ipython",
    "version": 3
   },
   "file_extension": ".py",
   "mimetype": "text/x-python",
   "name": "python",
   "nbconvert_exporter": "python",
   "pygments_lexer": "ipython3",
   "version": "3.11.5"
  },
  "toc": {
   "base_numbering": 1,
   "nav_menu": {},
   "number_sections": false,
   "sideBar": true,
   "skip_h1_title": false,
   "title_cell": "Table of Contents",
   "title_sidebar": "Contents",
   "toc_cell": false,
   "toc_position": {},
   "toc_section_display": true,
   "toc_window_display": false
  },
  "varInspector": {
   "cols": {
    "lenName": 16,
    "lenType": 16,
    "lenVar": 40
   },
   "kernels_config": {
    "python": {
     "delete_cmd_postfix": "",
     "delete_cmd_prefix": "del ",
     "library": "var_list.py",
     "varRefreshCmd": "print(var_dic_list())"
    },
    "r": {
     "delete_cmd_postfix": ") ",
     "delete_cmd_prefix": "rm(",
     "library": "var_list.r",
     "varRefreshCmd": "cat(var_dic_list()) "
    }
   },
   "types_to_exclude": [
    "module",
    "function",
    "builtin_function_or_method",
    "instance",
    "_Feature"
   ],
   "window_display": false
  }
 },
 "nbformat": 4,
 "nbformat_minor": 5
}
