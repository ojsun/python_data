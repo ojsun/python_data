{
 "cells": [
  {
   "cell_type": "code",
   "execution_count": 1,
   "id": "21f5b729",
   "metadata": {},
   "outputs": [],
   "source": [
    "# 패키지 불러오기\n",
    "import pandas as pd # Pandas\n",
    "import numpy as np # NumPy"
   ]
  },
  {
   "cell_type": "markdown",
   "id": "c65b1643",
   "metadata": {},
   "source": [
    "## PART 02) 데이터 다루기"
   ]
  },
  {
   "cell_type": "markdown",
   "id": "4e1be88e",
   "metadata": {},
   "source": [
    "## 2장. Pandas를 활용한 데이터 다루기"
   ]
  },
  {
   "cell_type": "markdown",
   "id": "8e175d52",
   "metadata": {},
   "source": [
    "### 1절. Series와 DataFrame"
   ]
  },
  {
   "cell_type": "markdown",
   "id": "e213be23",
   "metadata": {},
   "source": [
    "#### 1. Series(시리즈)"
   ]
  },
  {
   "cell_type": "markdown",
   "id": "4ed06304",
   "metadata": {},
   "source": [
    "##### 가. 시리즈의 생성"
   ]
  },
  {
   "cell_type": "code",
   "execution_count": 2,
   "id": "98c7f5d7",
   "metadata": {},
   "outputs": [
    {
     "name": "stdout",
     "output_type": "stream",
     "text": [
      "0    이유리\n",
      "1    최민준\n",
      "2    김민지\n",
      "dtype: object\n"
     ]
    }
   ],
   "source": [
    "# Series객체 생성 : pd.Series(object, index)\n",
    "\n",
    "# 1. object에 리스트(시퀀스)객체 이용\n",
    "obj = ['이유리', '최민준', '김민지'] # 값 리스트\n",
    "series_1 = pd.Series(obj) # 시리즈 생성\n",
    "print(series_1)"
   ]
  },
  {
   "cell_type": "code",
   "execution_count": 3,
   "id": "3ec5e5ef",
   "metadata": {},
   "outputs": [
    {
     "name": "stdout",
     "output_type": "stream",
     "text": [
      "A    이유리\n",
      "B    최민준\n",
      "C    김민지\n",
      "dtype: object\n"
     ]
    }
   ],
   "source": [
    "# 원하는 인덱스 지정\n",
    "idx = ['A', 'B', 'C'] # 인덱스 리스트\n",
    "series_2 = pd.Series(obj, index = idx) # 시리즈 생성\n",
    "print(series_2)"
   ]
  },
  {
   "cell_type": "code",
   "execution_count": 4,
   "id": "b8d9acb5",
   "metadata": {},
   "outputs": [
    {
     "name": "stdout",
     "output_type": "stream",
     "text": [
      "A    이유리\n",
      "B    최민준\n",
      "C    김민지\n",
      "dtype: object\n"
     ]
    }
   ],
   "source": [
    "# 2. object에 딕셔너리객체 이용\n",
    "obj = {'A':'이유리', 'B':'최민준', 'C':'김민지'} # 딕셔너리\n",
    "series_3 = pd.Series(obj) # 시리즈 생성\n",
    "print(series_3)"
   ]
  },
  {
   "cell_type": "markdown",
   "id": "b13694ce",
   "metadata": {},
   "source": [
    "##### 나. 시리즈의 정보 확인"
   ]
  },
  {
   "cell_type": "code",
   "execution_count": 5,
   "id": "7d101126",
   "metadata": {},
   "outputs": [
    {
     "name": "stdout",
     "output_type": "stream",
     "text": [
      "['이유리' '최민준' '김민지']\n",
      "RangeIndex(start=0, stop=3, step=1)\n",
      "object\n",
      "3\n"
     ]
    }
   ],
   "source": [
    "# 시리즈 정보 확인 메소드\n",
    "# .values\n",
    "# 시리즈객체 내 값을 배열 형태로 반환\n",
    "print(series_1.values)\n",
    "\n",
    "# .index\n",
    "# 시리즈객체 내 인덱스를 레이블 배열 형태로 반환\n",
    "print(series_1.index)\n",
    "\n",
    "# .dtypes\n",
    "# 시리즈객체의 데이터 타입 확인\n",
    "print(series_1.dtypes)\n",
    "\n",
    "# .size\n",
    "# 시리즈객체의 총 객체 수\n",
    "print(series_1.size)"
   ]
  },
  {
   "cell_type": "code",
   "execution_count": 6,
   "id": "739914bf",
   "metadata": {},
   "outputs": [
    {
     "name": "stdout",
     "output_type": "stream",
     "text": [
      "RangeIndex(start=0, stop=3, step=1)\n",
      "Index(['A', 'B', 'C'], dtype='object')\n"
     ]
    }
   ],
   "source": [
    "# 시리즈객체의 인덱스 변경\n",
    "print(series_1.index) # 변경 전\n",
    "\n",
    "series_1.index = ['A', 'B', 'C'] # 변경\n",
    "print(series_1.index) # 변경 후"
   ]
  },
  {
   "cell_type": "markdown",
   "id": "184563e9",
   "metadata": {},
   "source": [
    "##### 다. 시리즈의 인덱싱과 슬라이싱"
   ]
  },
  {
   "cell_type": "code",
   "execution_count": 7,
   "id": "966d003a",
   "metadata": {},
   "outputs": [
    {
     "data": {
      "text/plain": [
       "a    22\n",
       "b    32\n",
       "c    27\n",
       "d    18\n",
       "e    38\n",
       "f    19\n",
       "dtype: int64"
      ]
     },
     "execution_count": 7,
     "metadata": {},
     "output_type": "execute_result"
    }
   ],
   "source": [
    "# 시리즈 생성\n",
    "obj = [22, 32, 27, 18, 38, 19] # 값 리스트\n",
    "idx = list('abcdef') # 인덱스 리스트\n",
    "sr = pd.Series(obj, index = idx)\n",
    "sr"
   ]
  },
  {
   "cell_type": "code",
   "execution_count": 8,
   "id": "f9e1aeae",
   "metadata": {},
   "outputs": [
    {
     "name": "stdout",
     "output_type": "stream",
     "text": [
      "38\n",
      "38\n"
     ]
    }
   ],
   "source": [
    "# 인덱싱\n",
    "print(sr[4]) # 위치기반\n",
    "print(sr['e']) # 레이블기반"
   ]
  },
  {
   "cell_type": "code",
   "execution_count": 9,
   "id": "378d967a",
   "metadata": {},
   "outputs": [
    {
     "name": "stdout",
     "output_type": "stream",
     "text": [
      "b    32\n",
      "c    27\n",
      "d    18\n",
      "e    38\n",
      "dtype: int64\n",
      "b    32\n",
      "c    27\n",
      "d    18\n",
      "e    38\n",
      "dtype: int64\n"
     ]
    }
   ],
   "source": [
    "# 슬라이싱\n",
    "print(sr[1:5]) # 위치기반\n",
    "print(sr['b':'e']) # 레이블기반"
   ]
  },
  {
   "cell_type": "code",
   "execution_count": 10,
   "id": "e3a5e38b",
   "metadata": {},
   "outputs": [
    {
     "data": {
      "text/plain": [
       "a    22\n",
       "d    18\n",
       "e    38\n",
       "dtype: int64"
      ]
     },
     "execution_count": 10,
     "metadata": {},
     "output_type": "execute_result"
    }
   ],
   "source": [
    "# 연속하지 않은 위치\n",
    "idx = [0, 3, 4] # 위치 번호를 담은 리스트\n",
    "sr[idx]"
   ]
  },
  {
   "cell_type": "code",
   "execution_count": 11,
   "id": "1161858b",
   "metadata": {},
   "outputs": [
    {
     "data": {
      "text/plain": [
       "a    22\n",
       "d    18\n",
       "e    38\n",
       "dtype: int64"
      ]
     },
     "execution_count": 11,
     "metadata": {},
     "output_type": "execute_result"
    }
   ],
   "source": [
    "# 연속하지 않은 레이블\n",
    "lbl = ['a', 'd', 'e'] # 레이블을 담은 리스트\n",
    "sr[lbl]"
   ]
  },
  {
   "cell_type": "markdown",
   "id": "fa3fb91d",
   "metadata": {},
   "source": [
    "##### 라. 시리즈의 통계 메소드"
   ]
  },
  {
   "cell_type": "code",
   "execution_count": 12,
   "id": "549565e8",
   "metadata": {},
   "outputs": [
    {
     "data": {
      "text/plain": [
       "count    100.000000\n",
       "mean      49.500000\n",
       "std       29.011492\n",
       "min        0.000000\n",
       "25%       24.750000\n",
       "50%       49.500000\n",
       "75%       74.250000\n",
       "max       99.000000\n",
       "dtype: float64"
      ]
     },
     "execution_count": 12,
     "metadata": {},
     "output_type": "execute_result"
    }
   ],
   "source": [
    "sr_1 = pd.Series(range(100)) # 시리즈 생성\n",
    "\n",
    "# describe()\n",
    "# 시리즈객체의 요약 통계량에 대한 정보\n",
    "# 총 객체수, 평균, 표준편차, 최솟값, 제1사분위수, 중앙값, 제3사분위수, 최댓값, 데이터타입\n",
    "sr_1.describe()"
   ]
  },
  {
   "cell_type": "code",
   "execution_count": 13,
   "id": "180f8821",
   "metadata": {
    "scrolled": true
   },
   "outputs": [
    {
     "name": "stdout",
     "output_type": "stream",
     "text": [
      "100\n",
      "49.5\n",
      "841.6666666666666\n",
      "29.011491975882016\n",
      "0\n",
      "99\n",
      "49.5\n",
      "24.75\n",
      "49.5\n",
      "74.25\n"
     ]
    }
   ],
   "source": [
    "# .count()\n",
    "# 시리즈객체의 총 객체수\n",
    "print(sr_1.count())\n",
    "\n",
    "# .mean()\n",
    "# 시리즈객체의 평균\n",
    "print(sr_1.mean())\n",
    "\n",
    "# .var()\n",
    "# 시리즈객체의 분산\n",
    "print(sr_1.var())\n",
    "\n",
    "# .std()\n",
    "# 시리즈객체의 표준편차\n",
    "print(sr_1.std())\n",
    "\n",
    "# .min()\n",
    "# 시리즈객체의 최솟값\n",
    "print(sr_1.min())\n",
    "\n",
    "# .max()\n",
    "# 시리즈객체의 최댓값\n",
    "print(sr_1.max())\n",
    "\n",
    "# .median()\n",
    "# 시리즈객체의 중앙값\n",
    "print(sr_1.median())\n",
    "\n",
    "# .quantile()\n",
    "# 시리즈객체의 q*100% 백분위수\n",
    "print(sr_1.quantile(q = 0.25)) # 제1사분위수\n",
    "print(sr_1.quantile()) # default = .5로 중앙값\n",
    "print(sr_1.quantile(q = 0.75)) # 제3사분위수"
   ]
  },
  {
   "cell_type": "code",
   "execution_count": 14,
   "id": "a03b758a",
   "metadata": {},
   "outputs": [
    {
     "data": {
      "text/plain": [
       "count     7\n",
       "unique    4\n",
       "top       b\n",
       "freq      3\n",
       "dtype: object"
      ]
     },
     "execution_count": 14,
     "metadata": {},
     "output_type": "execute_result"
    }
   ],
   "source": [
    "sr_2 = pd.Series(['a','b','b','b','c','c','d']) # 시리즈 생성\n",
    "sr_2.describe() # 총 객체수, 유일값, 최빈값, 최빈값의빈도"
   ]
  },
  {
   "cell_type": "code",
   "execution_count": 15,
   "id": "b159e4af",
   "metadata": {
    "scrolled": true
   },
   "outputs": [
    {
     "name": "stdout",
     "output_type": "stream",
     "text": [
      "['a' 'b' 'c' 'd']\n",
      "b    3\n",
      "c    2\n",
      "a    1\n",
      "d    1\n",
      "dtype: int64\n",
      "0    b\n",
      "dtype: object\n"
     ]
    }
   ],
   "source": [
    "# .unique()\n",
    "# 시리즈객체의 유일값을 1d-array로 반환\n",
    "print(sr_2.unique())\n",
    "\n",
    "# .value_counts()\n",
    "# 시리즈객체의 유일값별 빈도수를 시리즈로 반환\n",
    "print(sr_2.value_counts())\n",
    "\n",
    "# .mode()\n",
    "# 시리즈객체의 최빈값을 시리즈로 반환\n",
    "print(sr_2.mode())"
   ]
  },
  {
   "cell_type": "markdown",
   "id": "36b64a20",
   "metadata": {},
   "source": [
    "#### 2. DataFrame(데이터프레임)"
   ]
  },
  {
   "cell_type": "markdown",
   "id": "8ae10701",
   "metadata": {},
   "source": [
    "##### 가. 데이터프레임의 생성"
   ]
  },
  {
   "cell_type": "code",
   "execution_count": 16,
   "id": "1a761638",
   "metadata": {},
   "outputs": [
    {
     "data": {
      "text/html": [
       "<div>\n",
       "<style scoped>\n",
       "    .dataframe tbody tr th:only-of-type {\n",
       "        vertical-align: middle;\n",
       "    }\n",
       "\n",
       "    .dataframe tbody tr th {\n",
       "        vertical-align: top;\n",
       "    }\n",
       "\n",
       "    .dataframe thead th {\n",
       "        text-align: right;\n",
       "    }\n",
       "</style>\n",
       "<table border=\"1\" class=\"dataframe\">\n",
       "  <thead>\n",
       "    <tr style=\"text-align: right;\">\n",
       "      <th></th>\n",
       "      <th>이름</th>\n",
       "      <th>전공</th>\n",
       "      <th>성별</th>\n",
       "      <th>나이</th>\n",
       "    </tr>\n",
       "  </thead>\n",
       "  <tbody>\n",
       "    <tr>\n",
       "      <th>0</th>\n",
       "      <td>이유리</td>\n",
       "      <td>경영학과</td>\n",
       "      <td>여</td>\n",
       "      <td>20</td>\n",
       "    </tr>\n",
       "    <tr>\n",
       "      <th>1</th>\n",
       "      <td>최민준</td>\n",
       "      <td>컴퓨터공학과</td>\n",
       "      <td>남</td>\n",
       "      <td>22</td>\n",
       "    </tr>\n",
       "    <tr>\n",
       "      <th>2</th>\n",
       "      <td>김민지</td>\n",
       "      <td>데이터과학과</td>\n",
       "      <td>여</td>\n",
       "      <td>21</td>\n",
       "    </tr>\n",
       "  </tbody>\n",
       "</table>\n",
       "</div>"
      ],
      "text/plain": [
       "    이름      전공 성별  나이\n",
       "0  이유리    경영학과  여  20\n",
       "1  최민준  컴퓨터공학과  남  22\n",
       "2  김민지  데이터과학과  여  21"
      ]
     },
     "execution_count": 16,
     "metadata": {},
     "output_type": "execute_result"
    }
   ],
   "source": [
    "# DataFrame객체 생성 : pd.DataFrame(object, index, columns)\n",
    "\n",
    "# 1. object에 동일한 길이의 리스트를 값으로 가지는 딕셔너리 이용\n",
    "obj = {'이름' : ['이유리', '최민준', '김민지'],\n",
    "       '전공' : ['경영학과', '컴퓨터공학과', '데이터과학과'],\n",
    "       '성별' : ['여', '남', '여'],\n",
    "       '나이' : [20, 22, 21]}\n",
    "\n",
    "df_1 = pd.DataFrame(obj) # 데이터 프레임 생성\n",
    "df_1"
   ]
  },
  {
   "cell_type": "code",
   "execution_count": 17,
   "id": "682455f6",
   "metadata": {},
   "outputs": [
    {
     "data": {
      "text/html": [
       "<div>\n",
       "<style scoped>\n",
       "    .dataframe tbody tr th:only-of-type {\n",
       "        vertical-align: middle;\n",
       "    }\n",
       "\n",
       "    .dataframe tbody tr th {\n",
       "        vertical-align: top;\n",
       "    }\n",
       "\n",
       "    .dataframe thead th {\n",
       "        text-align: right;\n",
       "    }\n",
       "</style>\n",
       "<table border=\"1\" class=\"dataframe\">\n",
       "  <thead>\n",
       "    <tr style=\"text-align: right;\">\n",
       "      <th></th>\n",
       "      <th>0</th>\n",
       "      <th>1</th>\n",
       "      <th>2</th>\n",
       "      <th>3</th>\n",
       "    </tr>\n",
       "  </thead>\n",
       "  <tbody>\n",
       "    <tr>\n",
       "      <th>0</th>\n",
       "      <td>이유리</td>\n",
       "      <td>경영학과</td>\n",
       "      <td>여</td>\n",
       "      <td>20</td>\n",
       "    </tr>\n",
       "    <tr>\n",
       "      <th>1</th>\n",
       "      <td>최민준</td>\n",
       "      <td>컴퓨터공학과</td>\n",
       "      <td>남</td>\n",
       "      <td>22</td>\n",
       "    </tr>\n",
       "    <tr>\n",
       "      <th>2</th>\n",
       "      <td>김민지</td>\n",
       "      <td>데이터과학과</td>\n",
       "      <td>여</td>\n",
       "      <td>21</td>\n",
       "    </tr>\n",
       "  </tbody>\n",
       "</table>\n",
       "</div>"
      ],
      "text/plain": [
       "     0       1  2   3\n",
       "0  이유리    경영학과  여  20\n",
       "1  최민준  컴퓨터공학과  남  22\n",
       "2  김민지  데이터과학과  여  21"
      ]
     },
     "execution_count": 17,
     "metadata": {},
     "output_type": "execute_result"
    }
   ],
   "source": [
    "# 2. object에 2차원 배열 이용\n",
    "obj = np.array([['이유리', '경영학과', '여', 20],\n",
    "                ['최민준', '컴퓨터공학과', '남', 22],\n",
    "                ['김민지', '데이터과학과', '여', 21]])\n",
    "\n",
    "df_2 = pd.DataFrame(obj) # 데이터 프레임 생성\n",
    "df_2"
   ]
  },
  {
   "cell_type": "code",
   "execution_count": 18,
   "id": "34b21592",
   "metadata": {},
   "outputs": [
    {
     "data": {
      "text/html": [
       "<div>\n",
       "<style scoped>\n",
       "    .dataframe tbody tr th:only-of-type {\n",
       "        vertical-align: middle;\n",
       "    }\n",
       "\n",
       "    .dataframe tbody tr th {\n",
       "        vertical-align: top;\n",
       "    }\n",
       "\n",
       "    .dataframe thead th {\n",
       "        text-align: right;\n",
       "    }\n",
       "</style>\n",
       "<table border=\"1\" class=\"dataframe\">\n",
       "  <thead>\n",
       "    <tr style=\"text-align: right;\">\n",
       "      <th></th>\n",
       "      <th>Name</th>\n",
       "      <th>Major</th>\n",
       "      <th>Sex</th>\n",
       "      <th>Age</th>\n",
       "    </tr>\n",
       "  </thead>\n",
       "  <tbody>\n",
       "    <tr>\n",
       "      <th>A</th>\n",
       "      <td>이유리</td>\n",
       "      <td>경영학과</td>\n",
       "      <td>여</td>\n",
       "      <td>20</td>\n",
       "    </tr>\n",
       "    <tr>\n",
       "      <th>B</th>\n",
       "      <td>최민준</td>\n",
       "      <td>컴퓨터공학과</td>\n",
       "      <td>남</td>\n",
       "      <td>22</td>\n",
       "    </tr>\n",
       "    <tr>\n",
       "      <th>C</th>\n",
       "      <td>김민지</td>\n",
       "      <td>데이터과학과</td>\n",
       "      <td>여</td>\n",
       "      <td>21</td>\n",
       "    </tr>\n",
       "  </tbody>\n",
       "</table>\n",
       "</div>"
      ],
      "text/plain": [
       "  Name   Major Sex Age\n",
       "A  이유리    경영학과   여  20\n",
       "B  최민준  컴퓨터공학과   남  22\n",
       "C  김민지  데이터과학과   여  21"
      ]
     },
     "execution_count": 18,
     "metadata": {},
     "output_type": "execute_result"
    }
   ],
   "source": [
    "# 원하는 인덱스 지정\n",
    "df_3 = pd.DataFrame(obj,\n",
    "                    columns = ['Name', 'Major', 'Sex', 'Age'], # 열에 대한 인덱스\n",
    "                    index = ['A', 'B', 'C'] # 행에 대한 인덱스\n",
    "                   )\n",
    "df_3"
   ]
  },
  {
   "cell_type": "code",
   "execution_count": 19,
   "id": "81f19693",
   "metadata": {},
   "outputs": [
    {
     "name": "stdout",
     "output_type": "stream",
     "text": [
      "RangeIndex(start=0, stop=3, step=1)\n",
      "Index(['이름', '전공', '성별', '나이'], dtype='object')\n",
      "[['이유리' '경영학과' '여' 20]\n",
      " ['최민준' '컴퓨터공학과' '남' 22]\n",
      " ['김민지' '데이터과학과' '여' 21]]\n"
     ]
    }
   ],
   "source": [
    "# DataFrame객체의 행에 대한 인덱스 확인\n",
    "print(df_1.index)\n",
    "\n",
    "# DataFrame객체의 열에 대한 인덱스 확인\n",
    "print(df_1.columns)\n",
    "\n",
    "# DataFrame객체의 값 확인\n",
    "print(df_1.values) # array로 반환됨"
   ]
  },
  {
   "cell_type": "markdown",
   "id": "ae493b20",
   "metadata": {},
   "source": [
    "##### 나. 데이터프레임의 정보 확인"
   ]
  },
  {
   "cell_type": "code",
   "execution_count": 20,
   "id": "6da65127",
   "metadata": {},
   "outputs": [
    {
     "name": "stdout",
     "output_type": "stream",
     "text": [
      "     Name     Sex  Age\n",
      "0  Olivia  Female   22\n",
      "1   Lucas    Male   32\n",
      "2  Sophia  Female   27\n",
      "3     Zoe  Female   18\n",
      "4     Ava  Female   38\n",
      "5  Elliot    Male   19\n",
      "[['Olivia' 'Female' 22]\n",
      " ['Lucas' 'Male' 32]\n",
      " ['Sophia' 'Female' 27]\n",
      " ['Zoe' 'Female' 18]\n",
      " ['Ava' 'Female' 38]\n",
      " ['Elliot' 'Male' 19]]\n",
      "RangeIndex(start=0, stop=6, step=1)\n",
      "Index(['Name', 'Sex', 'Age'], dtype='object')\n",
      "Name    object\n",
      "Sex     object\n",
      "Age      int64\n",
      "dtype: object\n",
      "(6, 3)\n",
      "<class 'pandas.core.frame.DataFrame'>\n",
      "RangeIndex: 6 entries, 0 to 5\n",
      "Data columns (total 3 columns):\n",
      " #   Column  Non-Null Count  Dtype \n",
      "---  ------  --------------  ----- \n",
      " 0   Name    6 non-null      object\n",
      " 1   Sex     6 non-null      object\n",
      " 2   Age     6 non-null      int64 \n",
      "dtypes: int64(1), object(2)\n",
      "memory usage: 272.0+ bytes\n"
     ]
    }
   ],
   "source": [
    "# 데이터프레임 정보 확인 메소드\n",
    "# DataFrame객체 생성 \n",
    "obj = {'Name' : ['Olivia', 'Lucas', 'Sophia', 'Zoe', 'Ava', 'Elliot'],\n",
    "       'Sex' : ['Female', 'Male', 'Female', 'Female', 'Female', 'Male'],\n",
    "       'Age' : [22, 32, 27, 18, 38, 19]}\n",
    "df = pd.DataFrame(obj) # 데이터 프레임 생성\n",
    "print(df)\n",
    "\n",
    "# .values\n",
    "# 데이터프레임 내 값을 배열 형태로 반환\n",
    "print(df.values)\n",
    "\n",
    "# .index\n",
    "# 데이터프레임 내 행 인덱스를 레이블 배열 형태로 반환\n",
    "print(df.index)\n",
    "\n",
    "# .columns\n",
    "# 데이터프레임 내 열 인덱스를 레이블 배열 형태로 반환\n",
    "print(df.columns)\n",
    "\n",
    "# .dtypes\n",
    "# 데이터프레임 내 변수(컬럼)별 데이터 타입 확인\n",
    "print(df.dtypes)\n",
    "\n",
    "# .shape\n",
    "# 데이터프레임의 행, 열 길이 확인\n",
    "print(df.shape)\n",
    "\n",
    "# .info()\n",
    "# 데이터프레임의 전반적인 요약 정보 확인\n",
    "# 로우명, 컬럼명, 행 길이, 열 길이, 컬럼별 데이터 타입, 메모리 등 확인 가능\n",
    "df.info()"
   ]
  },
  {
   "cell_type": "code",
   "execution_count": 21,
   "id": "c927a916",
   "metadata": {},
   "outputs": [
    {
     "data": {
      "text/html": [
       "<div>\n",
       "<style scoped>\n",
       "    .dataframe tbody tr th:only-of-type {\n",
       "        vertical-align: middle;\n",
       "    }\n",
       "\n",
       "    .dataframe tbody tr th {\n",
       "        vertical-align: top;\n",
       "    }\n",
       "\n",
       "    .dataframe thead th {\n",
       "        text-align: right;\n",
       "    }\n",
       "</style>\n",
       "<table border=\"1\" class=\"dataframe\">\n",
       "  <thead>\n",
       "    <tr style=\"text-align: right;\">\n",
       "      <th></th>\n",
       "      <th>Name</th>\n",
       "      <th>Sex</th>\n",
       "      <th>Age</th>\n",
       "    </tr>\n",
       "  </thead>\n",
       "  <tbody>\n",
       "    <tr>\n",
       "      <th>0</th>\n",
       "      <td>Olivia</td>\n",
       "      <td>Female</td>\n",
       "      <td>22</td>\n",
       "    </tr>\n",
       "    <tr>\n",
       "      <th>1</th>\n",
       "      <td>Lucas</td>\n",
       "      <td>Male</td>\n",
       "      <td>32</td>\n",
       "    </tr>\n",
       "    <tr>\n",
       "      <th>2</th>\n",
       "      <td>Sophia</td>\n",
       "      <td>Female</td>\n",
       "      <td>27</td>\n",
       "    </tr>\n",
       "    <tr>\n",
       "      <th>3</th>\n",
       "      <td>Zoe</td>\n",
       "      <td>Female</td>\n",
       "      <td>18</td>\n",
       "    </tr>\n",
       "    <tr>\n",
       "      <th>4</th>\n",
       "      <td>Ava</td>\n",
       "      <td>Female</td>\n",
       "      <td>38</td>\n",
       "    </tr>\n",
       "  </tbody>\n",
       "</table>\n",
       "</div>"
      ],
      "text/plain": [
       "     Name     Sex  Age\n",
       "0  Olivia  Female   22\n",
       "1   Lucas    Male   32\n",
       "2  Sophia  Female   27\n",
       "3     Zoe  Female   18\n",
       "4     Ava  Female   38"
      ]
     },
     "execution_count": 21,
     "metadata": {},
     "output_type": "execute_result"
    }
   ],
   "source": [
    "# .head(n=5)\n",
    "# 데이터프레임의 상위 행을 반환(n은 반환할 행의 수)\n",
    "df.head() # 상위 5(default)개의 행 반환"
   ]
  },
  {
   "cell_type": "code",
   "execution_count": 22,
   "id": "8b8f176e",
   "metadata": {},
   "outputs": [
    {
     "data": {
      "text/html": [
       "<div>\n",
       "<style scoped>\n",
       "    .dataframe tbody tr th:only-of-type {\n",
       "        vertical-align: middle;\n",
       "    }\n",
       "\n",
       "    .dataframe tbody tr th {\n",
       "        vertical-align: top;\n",
       "    }\n",
       "\n",
       "    .dataframe thead th {\n",
       "        text-align: right;\n",
       "    }\n",
       "</style>\n",
       "<table border=\"1\" class=\"dataframe\">\n",
       "  <thead>\n",
       "    <tr style=\"text-align: right;\">\n",
       "      <th></th>\n",
       "      <th>Name</th>\n",
       "      <th>Sex</th>\n",
       "      <th>Age</th>\n",
       "    </tr>\n",
       "  </thead>\n",
       "  <tbody>\n",
       "    <tr>\n",
       "      <th>0</th>\n",
       "      <td>Olivia</td>\n",
       "      <td>Female</td>\n",
       "      <td>22</td>\n",
       "    </tr>\n",
       "  </tbody>\n",
       "</table>\n",
       "</div>"
      ],
      "text/plain": [
       "     Name     Sex  Age\n",
       "0  Olivia  Female   22"
      ]
     },
     "execution_count": 22,
     "metadata": {},
     "output_type": "execute_result"
    }
   ],
   "source": [
    "df.head(1) # 상위 1개의 행 반환"
   ]
  },
  {
   "cell_type": "code",
   "execution_count": 23,
   "id": "67938084",
   "metadata": {},
   "outputs": [
    {
     "data": {
      "text/html": [
       "<div>\n",
       "<style scoped>\n",
       "    .dataframe tbody tr th:only-of-type {\n",
       "        vertical-align: middle;\n",
       "    }\n",
       "\n",
       "    .dataframe tbody tr th {\n",
       "        vertical-align: top;\n",
       "    }\n",
       "\n",
       "    .dataframe thead th {\n",
       "        text-align: right;\n",
       "    }\n",
       "</style>\n",
       "<table border=\"1\" class=\"dataframe\">\n",
       "  <thead>\n",
       "    <tr style=\"text-align: right;\">\n",
       "      <th></th>\n",
       "      <th>Name</th>\n",
       "      <th>Sex</th>\n",
       "      <th>Age</th>\n",
       "    </tr>\n",
       "  </thead>\n",
       "  <tbody>\n",
       "    <tr>\n",
       "      <th>0</th>\n",
       "      <td>Olivia</td>\n",
       "      <td>Female</td>\n",
       "      <td>22</td>\n",
       "    </tr>\n",
       "    <tr>\n",
       "      <th>1</th>\n",
       "      <td>Lucas</td>\n",
       "      <td>Male</td>\n",
       "      <td>32</td>\n",
       "    </tr>\n",
       "    <tr>\n",
       "      <th>2</th>\n",
       "      <td>Sophia</td>\n",
       "      <td>Female</td>\n",
       "      <td>27</td>\n",
       "    </tr>\n",
       "  </tbody>\n",
       "</table>\n",
       "</div>"
      ],
      "text/plain": [
       "     Name     Sex  Age\n",
       "0  Olivia  Female   22\n",
       "1   Lucas    Male   32\n",
       "2  Sophia  Female   27"
      ]
     },
     "execution_count": 23,
     "metadata": {},
     "output_type": "execute_result"
    }
   ],
   "source": [
    "df.head(-3) # 상위 (전체행-3)개의 행 반환"
   ]
  },
  {
   "cell_type": "code",
   "execution_count": 24,
   "id": "8ab972ae",
   "metadata": {},
   "outputs": [
    {
     "data": {
      "text/html": [
       "<div>\n",
       "<style scoped>\n",
       "    .dataframe tbody tr th:only-of-type {\n",
       "        vertical-align: middle;\n",
       "    }\n",
       "\n",
       "    .dataframe tbody tr th {\n",
       "        vertical-align: top;\n",
       "    }\n",
       "\n",
       "    .dataframe thead th {\n",
       "        text-align: right;\n",
       "    }\n",
       "</style>\n",
       "<table border=\"1\" class=\"dataframe\">\n",
       "  <thead>\n",
       "    <tr style=\"text-align: right;\">\n",
       "      <th></th>\n",
       "      <th>Name</th>\n",
       "      <th>Sex</th>\n",
       "      <th>Age</th>\n",
       "    </tr>\n",
       "  </thead>\n",
       "  <tbody>\n",
       "    <tr>\n",
       "      <th>1</th>\n",
       "      <td>Lucas</td>\n",
       "      <td>Male</td>\n",
       "      <td>32</td>\n",
       "    </tr>\n",
       "    <tr>\n",
       "      <th>2</th>\n",
       "      <td>Sophia</td>\n",
       "      <td>Female</td>\n",
       "      <td>27</td>\n",
       "    </tr>\n",
       "    <tr>\n",
       "      <th>3</th>\n",
       "      <td>Zoe</td>\n",
       "      <td>Female</td>\n",
       "      <td>18</td>\n",
       "    </tr>\n",
       "    <tr>\n",
       "      <th>4</th>\n",
       "      <td>Ava</td>\n",
       "      <td>Female</td>\n",
       "      <td>38</td>\n",
       "    </tr>\n",
       "    <tr>\n",
       "      <th>5</th>\n",
       "      <td>Elliot</td>\n",
       "      <td>Male</td>\n",
       "      <td>19</td>\n",
       "    </tr>\n",
       "  </tbody>\n",
       "</table>\n",
       "</div>"
      ],
      "text/plain": [
       "     Name     Sex  Age\n",
       "1   Lucas    Male   32\n",
       "2  Sophia  Female   27\n",
       "3     Zoe  Female   18\n",
       "4     Ava  Female   38\n",
       "5  Elliot    Male   19"
      ]
     },
     "execution_count": 24,
     "metadata": {},
     "output_type": "execute_result"
    }
   ],
   "source": [
    "# .tail(n=5)\n",
    "# 데이터프레임의 하위 행을 반환(n은 반환할 행의 수)\n",
    "df.tail() # 하위 5(default)개의 행 반환"
   ]
  },
  {
   "cell_type": "code",
   "execution_count": 25,
   "id": "4659b7a0",
   "metadata": {},
   "outputs": [
    {
     "data": {
      "text/html": [
       "<div>\n",
       "<style scoped>\n",
       "    .dataframe tbody tr th:only-of-type {\n",
       "        vertical-align: middle;\n",
       "    }\n",
       "\n",
       "    .dataframe tbody tr th {\n",
       "        vertical-align: top;\n",
       "    }\n",
       "\n",
       "    .dataframe thead th {\n",
       "        text-align: right;\n",
       "    }\n",
       "</style>\n",
       "<table border=\"1\" class=\"dataframe\">\n",
       "  <thead>\n",
       "    <tr style=\"text-align: right;\">\n",
       "      <th></th>\n",
       "      <th>Name</th>\n",
       "      <th>Sex</th>\n",
       "      <th>Age</th>\n",
       "    </tr>\n",
       "  </thead>\n",
       "  <tbody>\n",
       "    <tr>\n",
       "      <th>5</th>\n",
       "      <td>Elliot</td>\n",
       "      <td>Male</td>\n",
       "      <td>19</td>\n",
       "    </tr>\n",
       "  </tbody>\n",
       "</table>\n",
       "</div>"
      ],
      "text/plain": [
       "     Name   Sex  Age\n",
       "5  Elliot  Male   19"
      ]
     },
     "execution_count": 25,
     "metadata": {},
     "output_type": "execute_result"
    }
   ],
   "source": [
    "df.tail(1) # 하위 1개의 행 반환"
   ]
  },
  {
   "cell_type": "code",
   "execution_count": 26,
   "id": "92f708d1",
   "metadata": {},
   "outputs": [
    {
     "data": {
      "text/html": [
       "<div>\n",
       "<style scoped>\n",
       "    .dataframe tbody tr th:only-of-type {\n",
       "        vertical-align: middle;\n",
       "    }\n",
       "\n",
       "    .dataframe tbody tr th {\n",
       "        vertical-align: top;\n",
       "    }\n",
       "\n",
       "    .dataframe thead th {\n",
       "        text-align: right;\n",
       "    }\n",
       "</style>\n",
       "<table border=\"1\" class=\"dataframe\">\n",
       "  <thead>\n",
       "    <tr style=\"text-align: right;\">\n",
       "      <th></th>\n",
       "      <th>Name</th>\n",
       "      <th>Sex</th>\n",
       "      <th>Age</th>\n",
       "    </tr>\n",
       "  </thead>\n",
       "  <tbody>\n",
       "    <tr>\n",
       "      <th>3</th>\n",
       "      <td>Zoe</td>\n",
       "      <td>Female</td>\n",
       "      <td>18</td>\n",
       "    </tr>\n",
       "    <tr>\n",
       "      <th>4</th>\n",
       "      <td>Ava</td>\n",
       "      <td>Female</td>\n",
       "      <td>38</td>\n",
       "    </tr>\n",
       "    <tr>\n",
       "      <th>5</th>\n",
       "      <td>Elliot</td>\n",
       "      <td>Male</td>\n",
       "      <td>19</td>\n",
       "    </tr>\n",
       "  </tbody>\n",
       "</table>\n",
       "</div>"
      ],
      "text/plain": [
       "     Name     Sex  Age\n",
       "3     Zoe  Female   18\n",
       "4     Ava  Female   38\n",
       "5  Elliot    Male   19"
      ]
     },
     "execution_count": 26,
     "metadata": {},
     "output_type": "execute_result"
    }
   ],
   "source": [
    "df.tail(-3) # 하위 (전체행-3)개의 행 반환"
   ]
  },
  {
   "cell_type": "markdown",
   "id": "f74a7796",
   "metadata": {},
   "source": [
    "##### 다. 데이터프레임의 인덱싱과 슬라이싱"
   ]
  },
  {
   "cell_type": "code",
   "execution_count": 27,
   "id": "a4ad5381",
   "metadata": {},
   "outputs": [],
   "source": [
    "# 데이터프레임 생성\n",
    "obj = {'Name' : ['Olivia', 'Lucas', 'Sophia', 'Zoe', 'Ava', 'Elliot'],\n",
    "       'Sex' : ['Female', 'Male', 'Female', 'Female', 'Female', 'Male'],\n",
    "       'Age' : [22, 32, 27, 18, 38, 19]}\n",
    "idx = list('abcdef') # 인덱스 리스트\n",
    "\n",
    "df = pd.DataFrame(obj, index = idx) "
   ]
  },
  {
   "cell_type": "code",
   "execution_count": 28,
   "id": "c12a3e53",
   "metadata": {},
   "outputs": [
    {
     "data": {
      "text/plain": [
       "a    Olivia\n",
       "b     Lucas\n",
       "c    Sophia\n",
       "d       Zoe\n",
       "e       Ava\n",
       "f    Elliot\n",
       "Name: Name, dtype: object"
      ]
     },
     "execution_count": 28,
     "metadata": {},
     "output_type": "execute_result"
    }
   ],
   "source": [
    "# Case 1. 열만 참조\n",
    "# 데이터프레임명['컬럼명']\n",
    "df['Name']"
   ]
  },
  {
   "cell_type": "code",
   "execution_count": 29,
   "id": "4b72b2b7",
   "metadata": {},
   "outputs": [
    {
     "data": {
      "text/plain": [
       "a    Olivia\n",
       "b     Lucas\n",
       "c    Sophia\n",
       "d       Zoe\n",
       "e       Ava\n",
       "f    Elliot\n",
       "Name: Name, dtype: object"
      ]
     },
     "execution_count": 29,
     "metadata": {},
     "output_type": "execute_result"
    }
   ],
   "source": [
    "# 데이터프레임명.컬럼명\n",
    "df.Name"
   ]
  },
  {
   "cell_type": "code",
   "execution_count": 30,
   "id": "69cc2ea0",
   "metadata": {},
   "outputs": [
    {
     "data": {
      "text/html": [
       "<div>\n",
       "<style scoped>\n",
       "    .dataframe tbody tr th:only-of-type {\n",
       "        vertical-align: middle;\n",
       "    }\n",
       "\n",
       "    .dataframe tbody tr th {\n",
       "        vertical-align: top;\n",
       "    }\n",
       "\n",
       "    .dataframe thead th {\n",
       "        text-align: right;\n",
       "    }\n",
       "</style>\n",
       "<table border=\"1\" class=\"dataframe\">\n",
       "  <thead>\n",
       "    <tr style=\"text-align: right;\">\n",
       "      <th></th>\n",
       "      <th>Name</th>\n",
       "      <th>Age</th>\n",
       "    </tr>\n",
       "  </thead>\n",
       "  <tbody>\n",
       "    <tr>\n",
       "      <th>a</th>\n",
       "      <td>Olivia</td>\n",
       "      <td>22</td>\n",
       "    </tr>\n",
       "    <tr>\n",
       "      <th>b</th>\n",
       "      <td>Lucas</td>\n",
       "      <td>32</td>\n",
       "    </tr>\n",
       "    <tr>\n",
       "      <th>c</th>\n",
       "      <td>Sophia</td>\n",
       "      <td>27</td>\n",
       "    </tr>\n",
       "    <tr>\n",
       "      <th>d</th>\n",
       "      <td>Zoe</td>\n",
       "      <td>18</td>\n",
       "    </tr>\n",
       "    <tr>\n",
       "      <th>e</th>\n",
       "      <td>Ava</td>\n",
       "      <td>38</td>\n",
       "    </tr>\n",
       "    <tr>\n",
       "      <th>f</th>\n",
       "      <td>Elliot</td>\n",
       "      <td>19</td>\n",
       "    </tr>\n",
       "  </tbody>\n",
       "</table>\n",
       "</div>"
      ],
      "text/plain": [
       "     Name  Age\n",
       "a  Olivia   22\n",
       "b   Lucas   32\n",
       "c  Sophia   27\n",
       "d     Zoe   18\n",
       "e     Ava   38\n",
       "f  Elliot   19"
      ]
     },
     "execution_count": 30,
     "metadata": {},
     "output_type": "execute_result"
    }
   ],
   "source": [
    "# 여러 열을 추출\n",
    "# 데이터프레임명[리스트]\n",
    "colnm = ['Name', 'Age'] # 추출할 열의 컬럼명\n",
    "df[colnm] # Name과 Age를 열(시리즈)로 가지는 데이터프레임"
   ]
  },
  {
   "cell_type": "code",
   "execution_count": 31,
   "id": "74b37ab7",
   "metadata": {},
   "outputs": [
    {
     "data": {
      "text/plain": [
       "Name    Lucas\n",
       "Sex      Male\n",
       "Age        32\n",
       "Name: b, dtype: object"
      ]
     },
     "execution_count": 31,
     "metadata": {},
     "output_type": "execute_result"
    }
   ],
   "source": [
    "# Case 2. 행만 참조\n",
    "# iloc은 위치 기반으로, 데이터프레임명.iloc[행위치인덱스]\n",
    "\n",
    "# 2번 째(표 기준)행의 값과 원래의 컬럼명을 레이블 인덱스으로 가지는 시리즈\n",
    "df.iloc[1]"
   ]
  },
  {
   "cell_type": "code",
   "execution_count": 32,
   "id": "1507852c",
   "metadata": {},
   "outputs": [
    {
     "data": {
      "text/html": [
       "<div>\n",
       "<style scoped>\n",
       "    .dataframe tbody tr th:only-of-type {\n",
       "        vertical-align: middle;\n",
       "    }\n",
       "\n",
       "    .dataframe tbody tr th {\n",
       "        vertical-align: top;\n",
       "    }\n",
       "\n",
       "    .dataframe thead th {\n",
       "        text-align: right;\n",
       "    }\n",
       "</style>\n",
       "<table border=\"1\" class=\"dataframe\">\n",
       "  <thead>\n",
       "    <tr style=\"text-align: right;\">\n",
       "      <th></th>\n",
       "      <th>Name</th>\n",
       "      <th>Sex</th>\n",
       "      <th>Age</th>\n",
       "    </tr>\n",
       "  </thead>\n",
       "  <tbody>\n",
       "    <tr>\n",
       "      <th>b</th>\n",
       "      <td>Lucas</td>\n",
       "      <td>Male</td>\n",
       "      <td>32</td>\n",
       "    </tr>\n",
       "    <tr>\n",
       "      <th>c</th>\n",
       "      <td>Sophia</td>\n",
       "      <td>Female</td>\n",
       "      <td>27</td>\n",
       "    </tr>\n",
       "    <tr>\n",
       "      <th>d</th>\n",
       "      <td>Zoe</td>\n",
       "      <td>Female</td>\n",
       "      <td>18</td>\n",
       "    </tr>\n",
       "    <tr>\n",
       "      <th>e</th>\n",
       "      <td>Ava</td>\n",
       "      <td>Female</td>\n",
       "      <td>38</td>\n",
       "    </tr>\n",
       "  </tbody>\n",
       "</table>\n",
       "</div>"
      ],
      "text/plain": [
       "     Name     Sex  Age\n",
       "b   Lucas    Male   32\n",
       "c  Sophia  Female   27\n",
       "d     Zoe  Female   18\n",
       "e     Ava  Female   38"
      ]
     },
     "execution_count": 32,
     "metadata": {},
     "output_type": "execute_result"
    }
   ],
   "source": [
    "# 2~5번 째(표 기준) 행을 가지는 데이터프레임\n",
    "df.iloc[1:5]"
   ]
  },
  {
   "cell_type": "code",
   "execution_count": 33,
   "id": "909016f9",
   "metadata": {},
   "outputs": [
    {
     "data": {
      "text/html": [
       "<div>\n",
       "<style scoped>\n",
       "    .dataframe tbody tr th:only-of-type {\n",
       "        vertical-align: middle;\n",
       "    }\n",
       "\n",
       "    .dataframe tbody tr th {\n",
       "        vertical-align: top;\n",
       "    }\n",
       "\n",
       "    .dataframe thead th {\n",
       "        text-align: right;\n",
       "    }\n",
       "</style>\n",
       "<table border=\"1\" class=\"dataframe\">\n",
       "  <thead>\n",
       "    <tr style=\"text-align: right;\">\n",
       "      <th></th>\n",
       "      <th>Name</th>\n",
       "      <th>Sex</th>\n",
       "      <th>Age</th>\n",
       "    </tr>\n",
       "  </thead>\n",
       "  <tbody>\n",
       "    <tr>\n",
       "      <th>b</th>\n",
       "      <td>Lucas</td>\n",
       "      <td>Male</td>\n",
       "      <td>32</td>\n",
       "    </tr>\n",
       "    <tr>\n",
       "      <th>d</th>\n",
       "      <td>Zoe</td>\n",
       "      <td>Female</td>\n",
       "      <td>18</td>\n",
       "    </tr>\n",
       "  </tbody>\n",
       "</table>\n",
       "</div>"
      ],
      "text/plain": [
       "    Name     Sex  Age\n",
       "b  Lucas    Male   32\n",
       "d    Zoe  Female   18"
      ]
     },
     "execution_count": 33,
     "metadata": {},
     "output_type": "execute_result"
    }
   ],
   "source": [
    "# 연속하지 않은 위치일 경우에도 리스트로 행을 참조\n",
    "idx = [1, 3] \n",
    "df.iloc[idx] "
   ]
  },
  {
   "cell_type": "code",
   "execution_count": 34,
   "id": "2b59870b",
   "metadata": {},
   "outputs": [
    {
     "data": {
      "text/plain": [
       "Name    Lucas\n",
       "Sex      Male\n",
       "Age        32\n",
       "Name: b, dtype: object"
      ]
     },
     "execution_count": 34,
     "metadata": {},
     "output_type": "execute_result"
    }
   ],
   "source": [
    "# loc은 레이블 기반이며, 데이터프레임명.loc[행레이블인덱스]\n",
    "# 2번 째(표 기준)행의 값과 원래의 컬럼명을 레이블 인덱스으로 가지는 시리즈\n",
    "df.loc['b']"
   ]
  },
  {
   "cell_type": "code",
   "execution_count": 35,
   "id": "c815da9e",
   "metadata": {},
   "outputs": [
    {
     "data": {
      "text/html": [
       "<div>\n",
       "<style scoped>\n",
       "    .dataframe tbody tr th:only-of-type {\n",
       "        vertical-align: middle;\n",
       "    }\n",
       "\n",
       "    .dataframe tbody tr th {\n",
       "        vertical-align: top;\n",
       "    }\n",
       "\n",
       "    .dataframe thead th {\n",
       "        text-align: right;\n",
       "    }\n",
       "</style>\n",
       "<table border=\"1\" class=\"dataframe\">\n",
       "  <thead>\n",
       "    <tr style=\"text-align: right;\">\n",
       "      <th></th>\n",
       "      <th>Name</th>\n",
       "      <th>Sex</th>\n",
       "      <th>Age</th>\n",
       "    </tr>\n",
       "  </thead>\n",
       "  <tbody>\n",
       "    <tr>\n",
       "      <th>b</th>\n",
       "      <td>Lucas</td>\n",
       "      <td>Male</td>\n",
       "      <td>32</td>\n",
       "    </tr>\n",
       "    <tr>\n",
       "      <th>c</th>\n",
       "      <td>Sophia</td>\n",
       "      <td>Female</td>\n",
       "      <td>27</td>\n",
       "    </tr>\n",
       "    <tr>\n",
       "      <th>d</th>\n",
       "      <td>Zoe</td>\n",
       "      <td>Female</td>\n",
       "      <td>18</td>\n",
       "    </tr>\n",
       "    <tr>\n",
       "      <th>e</th>\n",
       "      <td>Ava</td>\n",
       "      <td>Female</td>\n",
       "      <td>38</td>\n",
       "    </tr>\n",
       "  </tbody>\n",
       "</table>\n",
       "</div>"
      ],
      "text/plain": [
       "     Name     Sex  Age\n",
       "b   Lucas    Male   32\n",
       "c  Sophia  Female   27\n",
       "d     Zoe  Female   18\n",
       "e     Ava  Female   38"
      ]
     },
     "execution_count": 35,
     "metadata": {},
     "output_type": "execute_result"
    }
   ],
   "source": [
    "# 2~5번 째(표 기준) 행을 가지는 데이터프레임\n",
    "df.loc['b':'e']"
   ]
  },
  {
   "cell_type": "code",
   "execution_count": 36,
   "id": "f4be480f",
   "metadata": {},
   "outputs": [
    {
     "data": {
      "text/html": [
       "<div>\n",
       "<style scoped>\n",
       "    .dataframe tbody tr th:only-of-type {\n",
       "        vertical-align: middle;\n",
       "    }\n",
       "\n",
       "    .dataframe tbody tr th {\n",
       "        vertical-align: top;\n",
       "    }\n",
       "\n",
       "    .dataframe thead th {\n",
       "        text-align: right;\n",
       "    }\n",
       "</style>\n",
       "<table border=\"1\" class=\"dataframe\">\n",
       "  <thead>\n",
       "    <tr style=\"text-align: right;\">\n",
       "      <th></th>\n",
       "      <th>Name</th>\n",
       "      <th>Sex</th>\n",
       "      <th>Age</th>\n",
       "    </tr>\n",
       "  </thead>\n",
       "  <tbody>\n",
       "    <tr>\n",
       "      <th>b</th>\n",
       "      <td>Lucas</td>\n",
       "      <td>Male</td>\n",
       "      <td>32</td>\n",
       "    </tr>\n",
       "    <tr>\n",
       "      <th>d</th>\n",
       "      <td>Zoe</td>\n",
       "      <td>Female</td>\n",
       "      <td>18</td>\n",
       "    </tr>\n",
       "  </tbody>\n",
       "</table>\n",
       "</div>"
      ],
      "text/plain": [
       "    Name     Sex  Age\n",
       "b  Lucas    Male   32\n",
       "d    Zoe  Female   18"
      ]
     },
     "execution_count": 36,
     "metadata": {},
     "output_type": "execute_result"
    }
   ],
   "source": [
    "# 대부분의 레이블 인덱스는 연속하지 않음\n",
    "rownm = ['b', 'd'] # 리스트로 행을 참조\n",
    "df.loc[rownm] # 2, 4번째(표 기준) 행을 가지는 데이터프레임"
   ]
  },
  {
   "cell_type": "code",
   "execution_count": 37,
   "id": "22366a68",
   "metadata": {},
   "outputs": [
    {
     "data": {
      "text/plain": [
       "a    22\n",
       "b    32\n",
       "c    27\n",
       "d    18\n",
       "e    38\n",
       "f    19\n",
       "Name: Age, dtype: int64"
      ]
     },
     "execution_count": 37,
     "metadata": {},
     "output_type": "execute_result"
    }
   ],
   "source": [
    "# Case 3. 인덱서 없이 행과 열을 동시에 참조하는 방법\n",
    "# i) 하나의 열에 대해 인덱싱\n",
    "df['Age'] #Age 열 참조"
   ]
  },
  {
   "cell_type": "code",
   "execution_count": 38,
   "id": "0ff2dbfa",
   "metadata": {},
   "outputs": [
    {
     "data": {
      "text/plain": [
       "22"
      ]
     },
     "execution_count": 38,
     "metadata": {},
     "output_type": "execute_result"
    }
   ],
   "source": [
    "# ii) 행에 대해 인덱싱\n",
    "# 시리즈가 되기 때문에 가능해짐\n",
    "df['Age']['a'] #Age 열과 a 행 참조"
   ]
  },
  {
   "cell_type": "code",
   "execution_count": 37,
   "id": "abff29be",
   "metadata": {},
   "outputs": [
    {
     "data": {
      "text/plain": [
       "22"
      ]
     },
     "execution_count": 37,
     "metadata": {},
     "output_type": "execute_result"
    }
   ],
   "source": [
    "df['Age'][0] #Age 열과 0번 위치 행 참조"
   ]
  },
  {
   "cell_type": "code",
   "execution_count": 38,
   "id": "c22215ea",
   "metadata": {},
   "outputs": [
    {
     "data": {
      "text/plain": [
       "'Lucas'"
      ]
     },
     "execution_count": 38,
     "metadata": {},
     "output_type": "execute_result"
    }
   ],
   "source": [
    "# ii) loc를 통한 방법 : 2d-array에서의 방법에 숫자 대신 레이블을 이용\n",
    "# 행 인덱스(로우명)이 b이고 열 인덱스(컬럼명)이 Name\n",
    "df.loc['b', 'Name']"
   ]
  },
  {
   "cell_type": "code",
   "execution_count": 40,
   "id": "27d67f41",
   "metadata": {},
   "outputs": [
    {
     "data": {
      "text/html": [
       "<div>\n",
       "<style scoped>\n",
       "    .dataframe tbody tr th:only-of-type {\n",
       "        vertical-align: middle;\n",
       "    }\n",
       "\n",
       "    .dataframe tbody tr th {\n",
       "        vertical-align: top;\n",
       "    }\n",
       "\n",
       "    .dataframe thead th {\n",
       "        text-align: right;\n",
       "    }\n",
       "</style>\n",
       "<table border=\"1\" class=\"dataframe\">\n",
       "  <thead>\n",
       "    <tr style=\"text-align: right;\">\n",
       "      <th></th>\n",
       "      <th>Name</th>\n",
       "      <th>Sex</th>\n",
       "    </tr>\n",
       "  </thead>\n",
       "  <tbody>\n",
       "    <tr>\n",
       "      <th>b</th>\n",
       "      <td>Lucas</td>\n",
       "      <td>Male</td>\n",
       "    </tr>\n",
       "    <tr>\n",
       "      <th>d</th>\n",
       "      <td>Zoe</td>\n",
       "      <td>Female</td>\n",
       "    </tr>\n",
       "    <tr>\n",
       "      <th>e</th>\n",
       "      <td>Ava</td>\n",
       "      <td>Female</td>\n",
       "    </tr>\n",
       "  </tbody>\n",
       "</table>\n",
       "</div>"
      ],
      "text/plain": [
       "    Name     Sex\n",
       "b  Lucas    Male\n",
       "d    Zoe  Female\n",
       "e    Ava  Female"
      ]
     },
     "execution_count": 40,
     "metadata": {},
     "output_type": "execute_result"
    }
   ],
   "source": [
    "# 대부분 행과 열의 레이블 인덱스(특히 열)은 연속되지 않아 리스트를 사용\n",
    "# 행 : b, d, e\n",
    "# 열 : Name Sex\n",
    "rownm = ['b', 'd', 'e']\n",
    "colnm = ['Name', 'Sex']\n",
    "df.loc[rownm, colnm]"
   ]
  },
  {
   "cell_type": "markdown",
   "id": "58adcc84",
   "metadata": {},
   "source": [
    "##### 라. 데이터프레임의 통계 메소드"
   ]
  },
  {
   "cell_type": "code",
   "execution_count": 41,
   "id": "af12a3ad",
   "metadata": {},
   "outputs": [],
   "source": [
    "# 데이터프레임 생성\n",
    "obj = {'Name' : ['Olivia', 'Lucas', 'Sophia', 'Zoe', 'Ava', 'Elliot'],\n",
    "       'Sex' : ['Female', 'Male', 'Female', 'Female', 'Female', 'Male'],\n",
    "       'Age' : [22, 32, 27, 18, 38, 19],\n",
    "       'Score' : [100, 95, 60, 77, 83, 84]\n",
    "       }\n",
    "\n",
    "df = pd.DataFrame(obj) # 데이터 프레임 생성"
   ]
  },
  {
   "cell_type": "code",
   "execution_count": 42,
   "id": "e41b67e3",
   "metadata": {},
   "outputs": [
    {
     "data": {
      "text/html": [
       "<div>\n",
       "<style scoped>\n",
       "    .dataframe tbody tr th:only-of-type {\n",
       "        vertical-align: middle;\n",
       "    }\n",
       "\n",
       "    .dataframe tbody tr th {\n",
       "        vertical-align: top;\n",
       "    }\n",
       "\n",
       "    .dataframe thead th {\n",
       "        text-align: right;\n",
       "    }\n",
       "</style>\n",
       "<table border=\"1\" class=\"dataframe\">\n",
       "  <thead>\n",
       "    <tr style=\"text-align: right;\">\n",
       "      <th></th>\n",
       "      <th>Age</th>\n",
       "      <th>Score</th>\n",
       "    </tr>\n",
       "  </thead>\n",
       "  <tbody>\n",
       "    <tr>\n",
       "      <th>count</th>\n",
       "      <td>6.000000</td>\n",
       "      <td>6.000000</td>\n",
       "    </tr>\n",
       "    <tr>\n",
       "      <th>mean</th>\n",
       "      <td>26.000000</td>\n",
       "      <td>83.166667</td>\n",
       "    </tr>\n",
       "    <tr>\n",
       "      <th>std</th>\n",
       "      <td>7.874008</td>\n",
       "      <td>14.133884</td>\n",
       "    </tr>\n",
       "    <tr>\n",
       "      <th>min</th>\n",
       "      <td>18.000000</td>\n",
       "      <td>60.000000</td>\n",
       "    </tr>\n",
       "    <tr>\n",
       "      <th>25%</th>\n",
       "      <td>19.750000</td>\n",
       "      <td>78.500000</td>\n",
       "    </tr>\n",
       "    <tr>\n",
       "      <th>50%</th>\n",
       "      <td>24.500000</td>\n",
       "      <td>83.500000</td>\n",
       "    </tr>\n",
       "    <tr>\n",
       "      <th>75%</th>\n",
       "      <td>30.750000</td>\n",
       "      <td>92.250000</td>\n",
       "    </tr>\n",
       "    <tr>\n",
       "      <th>max</th>\n",
       "      <td>38.000000</td>\n",
       "      <td>100.000000</td>\n",
       "    </tr>\n",
       "  </tbody>\n",
       "</table>\n",
       "</div>"
      ],
      "text/plain": [
       "             Age       Score\n",
       "count   6.000000    6.000000\n",
       "mean   26.000000   83.166667\n",
       "std     7.874008   14.133884\n",
       "min    18.000000   60.000000\n",
       "25%    19.750000   78.500000\n",
       "50%    24.500000   83.500000\n",
       "75%    30.750000   92.250000\n",
       "max    38.000000  100.000000"
      ]
     },
     "execution_count": 42,
     "metadata": {},
     "output_type": "execute_result"
    }
   ],
   "source": [
    "df.describe() # 컬럼별 요약 통계량에 대한 정보(float, int인 경우만)"
   ]
  },
  {
   "cell_type": "markdown",
   "id": "186bbf3d",
   "metadata": {},
   "source": []
  },
  {
   "cell_type": "markdown",
   "id": "e26c7a62",
   "metadata": {},
   "source": [
    "### 2절. 데이터 입출력"
   ]
  },
  {
   "cell_type": "markdown",
   "id": "a90a68c4",
   "metadata": {},
   "source": [
    "코드 없음"
   ]
  },
  {
   "cell_type": "markdown",
   "id": "f58d24ce",
   "metadata": {},
   "source": []
  },
  {
   "cell_type": "markdown",
   "id": "b5936290",
   "metadata": {},
   "source": [
    "### 3절. 데이터 정렬 및 순위"
   ]
  },
  {
   "cell_type": "markdown",
   "id": "8b767f1d",
   "metadata": {},
   "source": [
    "#### 1. 데이터 정렬"
   ]
  },
  {
   "cell_type": "code",
   "execution_count": 43,
   "id": "1d1a054c",
   "metadata": {},
   "outputs": [],
   "source": [
    "import pandas as pd"
   ]
  },
  {
   "cell_type": "code",
   "execution_count": 44,
   "id": "de97a7ee",
   "metadata": {},
   "outputs": [
    {
     "data": {
      "text/html": [
       "<div>\n",
       "<style scoped>\n",
       "    .dataframe tbody tr th:only-of-type {\n",
       "        vertical-align: middle;\n",
       "    }\n",
       "\n",
       "    .dataframe tbody tr th {\n",
       "        vertical-align: top;\n",
       "    }\n",
       "\n",
       "    .dataframe thead th {\n",
       "        text-align: right;\n",
       "    }\n",
       "</style>\n",
       "<table border=\"1\" class=\"dataframe\">\n",
       "  <thead>\n",
       "    <tr style=\"text-align: right;\">\n",
       "      <th></th>\n",
       "      <th>Name</th>\n",
       "      <th>Age</th>\n",
       "      <th>Score</th>\n",
       "    </tr>\n",
       "  </thead>\n",
       "  <tbody>\n",
       "    <tr>\n",
       "      <th>2</th>\n",
       "      <td>Sophia</td>\n",
       "      <td>27</td>\n",
       "      <td>60</td>\n",
       "    </tr>\n",
       "    <tr>\n",
       "      <th>3</th>\n",
       "      <td>Zoe</td>\n",
       "      <td>18</td>\n",
       "      <td>77</td>\n",
       "    </tr>\n",
       "    <tr>\n",
       "      <th>4</th>\n",
       "      <td>Ava</td>\n",
       "      <td>18</td>\n",
       "      <td>83</td>\n",
       "    </tr>\n",
       "    <tr>\n",
       "      <th>5</th>\n",
       "      <td>Elliot</td>\n",
       "      <td>19</td>\n",
       "      <td>84</td>\n",
       "    </tr>\n",
       "    <tr>\n",
       "      <th>1</th>\n",
       "      <td>Lucas</td>\n",
       "      <td>22</td>\n",
       "      <td>95</td>\n",
       "    </tr>\n",
       "    <tr>\n",
       "      <th>0</th>\n",
       "      <td>Olivia</td>\n",
       "      <td>22</td>\n",
       "      <td>100</td>\n",
       "    </tr>\n",
       "  </tbody>\n",
       "</table>\n",
       "</div>"
      ],
      "text/plain": [
       "     Name  Age  Score\n",
       "2  Sophia   27     60\n",
       "3     Zoe   18     77\n",
       "4     Ava   18     83\n",
       "5  Elliot   19     84\n",
       "1   Lucas   22     95\n",
       "0  Olivia   22    100"
      ]
     },
     "execution_count": 44,
     "metadata": {},
     "output_type": "execute_result"
    }
   ],
   "source": [
    "# .sort_values\n",
    "# 데이터 프레임 생성\n",
    "obj = {'Name' : ['Olivia', 'Lucas', 'Sophia', 'Zoe', 'Ava', 'Elliot'],\n",
    "       'Age' : [22, 22, 27, 18, 18, 19],\n",
    "       'Score' : [100, 95, 60, 77, 83, 84]\n",
    "       }\n",
    "df = pd.DataFrame(obj)\n",
    "\n",
    "# Score 열에 대하여 데이터프레임 오름차순 정렬\n",
    "df.sort_values('Score')"
   ]
  },
  {
   "cell_type": "code",
   "execution_count": 45,
   "id": "ba6a8f4c",
   "metadata": {},
   "outputs": [
    {
     "data": {
      "text/html": [
       "<div>\n",
       "<style scoped>\n",
       "    .dataframe tbody tr th:only-of-type {\n",
       "        vertical-align: middle;\n",
       "    }\n",
       "\n",
       "    .dataframe tbody tr th {\n",
       "        vertical-align: top;\n",
       "    }\n",
       "\n",
       "    .dataframe thead th {\n",
       "        text-align: right;\n",
       "    }\n",
       "</style>\n",
       "<table border=\"1\" class=\"dataframe\">\n",
       "  <thead>\n",
       "    <tr style=\"text-align: right;\">\n",
       "      <th></th>\n",
       "      <th>Name</th>\n",
       "      <th>Age</th>\n",
       "      <th>Score</th>\n",
       "    </tr>\n",
       "  </thead>\n",
       "  <tbody>\n",
       "    <tr>\n",
       "      <th>0</th>\n",
       "      <td>Olivia</td>\n",
       "      <td>22</td>\n",
       "      <td>100</td>\n",
       "    </tr>\n",
       "    <tr>\n",
       "      <th>1</th>\n",
       "      <td>Lucas</td>\n",
       "      <td>22</td>\n",
       "      <td>95</td>\n",
       "    </tr>\n",
       "    <tr>\n",
       "      <th>5</th>\n",
       "      <td>Elliot</td>\n",
       "      <td>19</td>\n",
       "      <td>84</td>\n",
       "    </tr>\n",
       "    <tr>\n",
       "      <th>4</th>\n",
       "      <td>Ava</td>\n",
       "      <td>18</td>\n",
       "      <td>83</td>\n",
       "    </tr>\n",
       "    <tr>\n",
       "      <th>3</th>\n",
       "      <td>Zoe</td>\n",
       "      <td>18</td>\n",
       "      <td>77</td>\n",
       "    </tr>\n",
       "    <tr>\n",
       "      <th>2</th>\n",
       "      <td>Sophia</td>\n",
       "      <td>27</td>\n",
       "      <td>60</td>\n",
       "    </tr>\n",
       "  </tbody>\n",
       "</table>\n",
       "</div>"
      ],
      "text/plain": [
       "     Name  Age  Score\n",
       "0  Olivia   22    100\n",
       "1   Lucas   22     95\n",
       "5  Elliot   19     84\n",
       "4     Ava   18     83\n",
       "3     Zoe   18     77\n",
       "2  Sophia   27     60"
      ]
     },
     "execution_count": 45,
     "metadata": {},
     "output_type": "execute_result"
    }
   ],
   "source": [
    "# Age와 Score 열에 대하여 데이터프레임 정렬\n",
    "# Age에 대해 오름차순으로 정렬되고, 동일한 Age에 대해 Score가 내림차순 정렬됨\n",
    "df.sort_values('Score', ascending = False)"
   ]
  },
  {
   "cell_type": "code",
   "execution_count": 48,
   "id": "0dbdbf55",
   "metadata": {},
   "outputs": [
    {
     "data": {
      "text/html": [
       "<div>\n",
       "<style scoped>\n",
       "    .dataframe tbody tr th:only-of-type {\n",
       "        vertical-align: middle;\n",
       "    }\n",
       "\n",
       "    .dataframe tbody tr th {\n",
       "        vertical-align: top;\n",
       "    }\n",
       "\n",
       "    .dataframe thead th {\n",
       "        text-align: right;\n",
       "    }\n",
       "</style>\n",
       "<table border=\"1\" class=\"dataframe\">\n",
       "  <thead>\n",
       "    <tr style=\"text-align: right;\">\n",
       "      <th></th>\n",
       "      <th>Name</th>\n",
       "      <th>Age</th>\n",
       "      <th>Score</th>\n",
       "    </tr>\n",
       "  </thead>\n",
       "  <tbody>\n",
       "    <tr>\n",
       "      <th>4</th>\n",
       "      <td>Ava</td>\n",
       "      <td>18</td>\n",
       "      <td>83</td>\n",
       "    </tr>\n",
       "    <tr>\n",
       "      <th>3</th>\n",
       "      <td>Zoe</td>\n",
       "      <td>18</td>\n",
       "      <td>77</td>\n",
       "    </tr>\n",
       "    <tr>\n",
       "      <th>5</th>\n",
       "      <td>Elliot</td>\n",
       "      <td>19</td>\n",
       "      <td>84</td>\n",
       "    </tr>\n",
       "    <tr>\n",
       "      <th>0</th>\n",
       "      <td>Olivia</td>\n",
       "      <td>22</td>\n",
       "      <td>100</td>\n",
       "    </tr>\n",
       "    <tr>\n",
       "      <th>1</th>\n",
       "      <td>Lucas</td>\n",
       "      <td>22</td>\n",
       "      <td>95</td>\n",
       "    </tr>\n",
       "    <tr>\n",
       "      <th>2</th>\n",
       "      <td>Sophia</td>\n",
       "      <td>27</td>\n",
       "      <td>60</td>\n",
       "    </tr>\n",
       "  </tbody>\n",
       "</table>\n",
       "</div>"
      ],
      "text/plain": [
       "     Name  Age  Score\n",
       "4     Ava   18     83\n",
       "3     Zoe   18     77\n",
       "5  Elliot   19     84\n",
       "0  Olivia   22    100\n",
       "1   Lucas   22     95\n",
       "2  Sophia   27     60"
      ]
     },
     "execution_count": 48,
     "metadata": {},
     "output_type": "execute_result"
    }
   ],
   "source": [
    "# Age와 Score 열에 대하여 데이터프레임 정렬\n",
    "# Age에 대해 오름차순으로 정렬되고, 동일한 Age에 대해 Score가 내림차순 정렬됨\n",
    "df.sort_values(['Age', 'Score'], ascending = [True, False])"
   ]
  },
  {
   "cell_type": "code",
   "execution_count": 46,
   "id": "15cc68eb",
   "metadata": {},
   "outputs": [],
   "source": [
    "# .sort_index\n",
    "# 데이터 프레임 생성\n",
    "rownm = ['Olivia', 'Lucas', 'Sophia', 'Zoe', 'Ava', 'Elliot']\n",
    "\n",
    "obj = {'Score' : [100, 95, 60, 77, 83, 84],\n",
    "       'Age' : [22, 22, 27, 18, 18, 19],\n",
    "       }\n",
    "df = pd.DataFrame(obj, index = rownm)"
   ]
  },
  {
   "cell_type": "code",
   "execution_count": 47,
   "id": "d1f91cf5",
   "metadata": {},
   "outputs": [
    {
     "data": {
      "text/html": [
       "<div>\n",
       "<style scoped>\n",
       "    .dataframe tbody tr th:only-of-type {\n",
       "        vertical-align: middle;\n",
       "    }\n",
       "\n",
       "    .dataframe tbody tr th {\n",
       "        vertical-align: top;\n",
       "    }\n",
       "\n",
       "    .dataframe thead th {\n",
       "        text-align: right;\n",
       "    }\n",
       "</style>\n",
       "<table border=\"1\" class=\"dataframe\">\n",
       "  <thead>\n",
       "    <tr style=\"text-align: right;\">\n",
       "      <th></th>\n",
       "      <th>Score</th>\n",
       "      <th>Age</th>\n",
       "    </tr>\n",
       "  </thead>\n",
       "  <tbody>\n",
       "    <tr>\n",
       "      <th>Ava</th>\n",
       "      <td>83</td>\n",
       "      <td>18</td>\n",
       "    </tr>\n",
       "    <tr>\n",
       "      <th>Elliot</th>\n",
       "      <td>84</td>\n",
       "      <td>19</td>\n",
       "    </tr>\n",
       "    <tr>\n",
       "      <th>Lucas</th>\n",
       "      <td>95</td>\n",
       "      <td>22</td>\n",
       "    </tr>\n",
       "    <tr>\n",
       "      <th>Olivia</th>\n",
       "      <td>100</td>\n",
       "      <td>22</td>\n",
       "    </tr>\n",
       "    <tr>\n",
       "      <th>Sophia</th>\n",
       "      <td>60</td>\n",
       "      <td>27</td>\n",
       "    </tr>\n",
       "    <tr>\n",
       "      <th>Zoe</th>\n",
       "      <td>77</td>\n",
       "      <td>18</td>\n",
       "    </tr>\n",
       "  </tbody>\n",
       "</table>\n",
       "</div>"
      ],
      "text/plain": [
       "        Score  Age\n",
       "Ava        83   18\n",
       "Elliot     84   19\n",
       "Lucas      95   22\n",
       "Olivia    100   22\n",
       "Sophia     60   27\n",
       "Zoe        77   18"
      ]
     },
     "execution_count": 47,
     "metadata": {},
     "output_type": "execute_result"
    }
   ],
   "source": [
    "# 행 인덱스에 대해 오름차순으로 정렬됨\n",
    "df.sort_index()"
   ]
  },
  {
   "cell_type": "code",
   "execution_count": 48,
   "id": "a3efc152",
   "metadata": {},
   "outputs": [
    {
     "data": {
      "text/html": [
       "<div>\n",
       "<style scoped>\n",
       "    .dataframe tbody tr th:only-of-type {\n",
       "        vertical-align: middle;\n",
       "    }\n",
       "\n",
       "    .dataframe tbody tr th {\n",
       "        vertical-align: top;\n",
       "    }\n",
       "\n",
       "    .dataframe thead th {\n",
       "        text-align: right;\n",
       "    }\n",
       "</style>\n",
       "<table border=\"1\" class=\"dataframe\">\n",
       "  <thead>\n",
       "    <tr style=\"text-align: right;\">\n",
       "      <th></th>\n",
       "      <th>Age</th>\n",
       "      <th>Score</th>\n",
       "    </tr>\n",
       "  </thead>\n",
       "  <tbody>\n",
       "    <tr>\n",
       "      <th>Olivia</th>\n",
       "      <td>22</td>\n",
       "      <td>100</td>\n",
       "    </tr>\n",
       "    <tr>\n",
       "      <th>Lucas</th>\n",
       "      <td>22</td>\n",
       "      <td>95</td>\n",
       "    </tr>\n",
       "    <tr>\n",
       "      <th>Sophia</th>\n",
       "      <td>27</td>\n",
       "      <td>60</td>\n",
       "    </tr>\n",
       "    <tr>\n",
       "      <th>Zoe</th>\n",
       "      <td>18</td>\n",
       "      <td>77</td>\n",
       "    </tr>\n",
       "    <tr>\n",
       "      <th>Ava</th>\n",
       "      <td>18</td>\n",
       "      <td>83</td>\n",
       "    </tr>\n",
       "    <tr>\n",
       "      <th>Elliot</th>\n",
       "      <td>19</td>\n",
       "      <td>84</td>\n",
       "    </tr>\n",
       "  </tbody>\n",
       "</table>\n",
       "</div>"
      ],
      "text/plain": [
       "        Age  Score\n",
       "Olivia   22    100\n",
       "Lucas    22     95\n",
       "Sophia   27     60\n",
       "Zoe      18     77\n",
       "Ava      18     83\n",
       "Elliot   19     84"
      ]
     },
     "execution_count": 48,
     "metadata": {},
     "output_type": "execute_result"
    }
   ],
   "source": [
    "# 열 인덱스에 대해 오름차순으로 정렬됨\n",
    "df.sort_index(axis = 1)"
   ]
  },
  {
   "cell_type": "markdown",
   "id": "2e7735d3",
   "metadata": {},
   "source": [
    "#### 2. 데이터 순위"
   ]
  },
  {
   "cell_type": "code",
   "execution_count": 49,
   "id": "3e25e462",
   "metadata": {},
   "outputs": [],
   "source": [
    "# .rank\n",
    "\n",
    "# 데이터 프레임 생성\n",
    "obj = {'Score' : [100, 95, 60, 77, 83, 85, 90, 90, 88, 75, 90, 54, 48, 84, 73],\n",
    "       'Age' : [22, 22, 27, 18, 18, 19, 24, 26, 30, 27, 25, 21, 20, 17, 20]\n",
    "       }\n",
    "df = pd.DataFrame(obj)"
   ]
  },
  {
   "cell_type": "code",
   "execution_count": 50,
   "id": "2f56e419",
   "metadata": {},
   "outputs": [
    {
     "data": {
      "text/html": [
       "<div>\n",
       "<style scoped>\n",
       "    .dataframe tbody tr th:only-of-type {\n",
       "        vertical-align: middle;\n",
       "    }\n",
       "\n",
       "    .dataframe tbody tr th {\n",
       "        vertical-align: top;\n",
       "    }\n",
       "\n",
       "    .dataframe thead th {\n",
       "        text-align: right;\n",
       "    }\n",
       "</style>\n",
       "<table border=\"1\" class=\"dataframe\">\n",
       "  <thead>\n",
       "    <tr style=\"text-align: right;\">\n",
       "      <th></th>\n",
       "      <th>Score</th>\n",
       "      <th>Age</th>\n",
       "    </tr>\n",
       "  </thead>\n",
       "  <tbody>\n",
       "    <tr>\n",
       "      <th>0</th>\n",
       "      <td>100</td>\n",
       "      <td>22</td>\n",
       "    </tr>\n",
       "    <tr>\n",
       "      <th>1</th>\n",
       "      <td>95</td>\n",
       "      <td>22</td>\n",
       "    </tr>\n",
       "    <tr>\n",
       "      <th>6</th>\n",
       "      <td>90</td>\n",
       "      <td>24</td>\n",
       "    </tr>\n",
       "    <tr>\n",
       "      <th>7</th>\n",
       "      <td>90</td>\n",
       "      <td>26</td>\n",
       "    </tr>\n",
       "    <tr>\n",
       "      <th>10</th>\n",
       "      <td>90</td>\n",
       "      <td>25</td>\n",
       "    </tr>\n",
       "  </tbody>\n",
       "</table>\n",
       "</div>"
      ],
      "text/plain": [
       "    Score  Age\n",
       "0     100   22\n",
       "1      95   22\n",
       "6      90   24\n",
       "7      90   26\n",
       "10     90   25"
      ]
     },
     "execution_count": 50,
     "metadata": {},
     "output_type": "execute_result"
    }
   ],
   "source": [
    "# Score에 대해 순위 생성\n",
    "# 결과 비교가 용이하도록 정렬을 먼저 수행\n",
    "# inplace = True로 원본 데이터프레임을 바로 변경\n",
    "df.sort_values('Score', ascending = False, inplace = True)\n",
    "df.head()"
   ]
  },
  {
   "cell_type": "code",
   "execution_count": 51,
   "id": "d2d71a47",
   "metadata": {},
   "outputs": [
    {
     "name": "stdout",
     "output_type": "stream",
     "text": [
      "    Score  Age  rank_avg1  rank_avg2  rank_min  rank_max\n",
      "0     100   22       15.0        1.0       1.0       1.0\n",
      "1      95   22       14.0        2.0       2.0       2.0\n",
      "6      90   24       12.0        4.0       3.0       5.0\n",
      "7      90   26       12.0        4.0       3.0       5.0\n",
      "10     90   25       12.0        4.0       3.0       5.0\n",
      "8      88   30       10.0        6.0       6.0       6.0\n",
      "5      85   19        9.0        7.0       7.0       7.0\n",
      "13     84   17        8.0        8.0       8.0       8.0\n",
      "4      83   18        7.0        9.0       9.0       9.0\n",
      "3      77   18        6.0       10.0      10.0      10.0\n",
      "9      75   27        5.0       11.0      11.0      11.0\n",
      "14     73   20        4.0       12.0      12.0      12.0\n",
      "2      60   27        3.0       13.0      13.0      13.0\n",
      "11     54   21        2.0       14.0      14.0      14.0\n",
      "12     48   20        1.0       15.0      15.0      15.0\n"
     ]
    }
   ],
   "source": [
    "# case1. 동점자 평균 순위\n",
    "df['rank_avg1'] = df['Score'].rank()\n",
    "\n",
    "# case2. 동점자 평균 순위(가장 큰 값이 1위)\n",
    "# Score가 90인 경우가 3개로, 3~5위의 평균인 4위\n",
    "df['rank_avg2'] = df['Score'].rank(ascending = False)\n",
    "\n",
    "# case3. 동점자 가장 낮은 순위(가장 큰 값이 1위)\n",
    "# Score가 90인 경우가 3개로, 3~5위 중 가장 낮은 3위 \n",
    "df['rank_min'] = df['Score'].rank(method = 'min', ascending = False)\n",
    "\n",
    "# case4. 동점자 가장 높은 순위(가장 큰 값이 1위)\n",
    "# Score가 90인 경우가 3개로, 3~5위 중 가장 높은 5위 \n",
    "df['rank_max'] = df['Score'].rank(method = 'max', ascending = False)\n",
    "print(df)"
   ]
  },
  {
   "cell_type": "markdown",
   "id": "53f90823",
   "metadata": {},
   "source": [
    "----- "
   ]
  }
 ],
 "metadata": {
  "hide_input": false,
  "kernelspec": {
   "display_name": "Python 3 (ipykernel)",
   "language": "python",
   "name": "python3"
  },
  "language_info": {
   "codemirror_mode": {
    "name": "ipython",
    "version": 3
   },
   "file_extension": ".py",
   "mimetype": "text/x-python",
   "name": "python",
   "nbconvert_exporter": "python",
   "pygments_lexer": "ipython3",
   "version": "3.9.12"
  },
  "toc": {
   "base_numbering": 1,
   "nav_menu": {},
   "number_sections": true,
   "sideBar": true,
   "skip_h1_title": false,
   "title_cell": "Table of Contents",
   "title_sidebar": "Contents",
   "toc_cell": false,
   "toc_position": {},
   "toc_section_display": true,
   "toc_window_display": false
  },
  "varInspector": {
   "cols": {
    "lenName": 16,
    "lenType": 16,
    "lenVar": 40
   },
   "kernels_config": {
    "python": {
     "delete_cmd_postfix": "",
     "delete_cmd_prefix": "del ",
     "library": "var_list.py",
     "varRefreshCmd": "print(var_dic_list())"
    },
    "r": {
     "delete_cmd_postfix": ") ",
     "delete_cmd_prefix": "rm(",
     "library": "var_list.r",
     "varRefreshCmd": "cat(var_dic_list()) "
    }
   },
   "types_to_exclude": [
    "module",
    "function",
    "builtin_function_or_method",
    "instance",
    "_Feature"
   ],
   "window_display": false
  }
 },
 "nbformat": 4,
 "nbformat_minor": 5
}
