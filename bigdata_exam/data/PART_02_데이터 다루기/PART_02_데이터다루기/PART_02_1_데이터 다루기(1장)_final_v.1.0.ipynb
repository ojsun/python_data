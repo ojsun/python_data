{
 "cells": [
  {
   "cell_type": "code",
   "execution_count": 1,
   "id": "49d977c1",
   "metadata": {},
   "outputs": [],
   "source": [
    "# NumPy 패키지 불러오기\n",
    "import numpy as np # 넘파이 패키지를 np라는 별칭으로 호출"
   ]
  },
  {
   "cell_type": "markdown",
   "id": "c65b1643",
   "metadata": {},
   "source": [
    "## PART 02) 데이터 다루기"
   ]
  },
  {
   "cell_type": "markdown",
   "id": "4e1be88e",
   "metadata": {},
   "source": [
    "## 1장. NumPy를 활용한 데이터 다루기"
   ]
  },
  {
   "cell_type": "markdown",
   "id": "8e175d52",
   "metadata": {},
   "source": [
    "### 1절. NumPy의 배열객체"
   ]
  },
  {
   "cell_type": "markdown",
   "id": "fcd173af",
   "metadata": {},
   "source": [
    "#### 1. ndarray 배열"
   ]
  },
  {
   "cell_type": "markdown",
   "id": "1098ad2a",
   "metadata": {},
   "source": [
    "코드 없음"
   ]
  },
  {
   "cell_type": "markdown",
   "id": "b378605f",
   "metadata": {},
   "source": [
    "#### 2. ndarray 특징"
   ]
  },
  {
   "cell_type": "markdown",
   "id": "ba7fec71",
   "metadata": {},
   "source": [
    "코드 없음"
   ]
  },
  {
   "cell_type": "markdown",
   "id": "e213be23",
   "metadata": {},
   "source": [
    "#### 3. ndarray 생성"
   ]
  },
  {
   "cell_type": "code",
   "execution_count": 2,
   "id": "98c7f5d7",
   "metadata": {},
   "outputs": [
    {
     "data": {
      "text/plain": [
       "array([1, 3, 5, 7, 9])"
      ]
     },
     "execution_count": 2,
     "metadata": {},
     "output_type": "execute_result"
    }
   ],
   "source": [
    "# 1d-array 생성\n",
    "# array(object) : 객체(object)를 배열로 반환함 \n",
    "np.array([1, 3, 5, 7, 9]) # 리스트객체를 1차원 배열로"
   ]
  },
  {
   "cell_type": "code",
   "execution_count": 3,
   "id": "0173ab38",
   "metadata": {},
   "outputs": [
    {
     "data": {
      "text/plain": [
       "array('dataedu', dtype='<U7')"
      ]
     },
     "execution_count": 3,
     "metadata": {},
     "output_type": "execute_result"
    }
   ],
   "source": [
    "np.array('dataedu') # 문자열객체를 1차원 배열로"
   ]
  },
  {
   "cell_type": "code",
   "execution_count": 4,
   "id": "028e78ff",
   "metadata": {},
   "outputs": [
    {
     "data": {
      "text/plain": [
       "array([0, 1, 2, 3, 4, 5, 6])"
      ]
     },
     "execution_count": 4,
     "metadata": {},
     "output_type": "execute_result"
    }
   ],
   "source": [
    "# arange([start, ]stop, [step, ])\n",
    "# start 숫자에서 step 간격으로 증가해 end 전(end를 포함하지 않는) 숫자까지 숫자열 생성\n",
    "np.arange(7) # 0에서 6까지 정수열 1차원 배열 생성"
   ]
  },
  {
   "cell_type": "code",
   "execution_count": 6,
   "id": "13c6722f",
   "metadata": {
    "scrolled": true
   },
   "outputs": [
    {
     "data": {
      "text/plain": [
       "array([1. , 1.5, 2. , 2.5, 3. , 3.5, 4. , 4.5, 5. , 5.5])"
      ]
     },
     "execution_count": 6,
     "metadata": {},
     "output_type": "execute_result"
    }
   ],
   "source": [
    "# arange는 정수형만 가능한 range()와는 달리 실수도 가능\n",
    "np.arange(1, 6, 0.5) # 1에서 5까지 0.5씩 증가하는 실수열 1차원 배열 생성"
   ]
  },
  {
   "cell_type": "code",
   "execution_count": 7,
   "id": "2cd249fc",
   "metadata": {},
   "outputs": [
    {
     "ename": "TypeError",
     "evalue": "'float' object cannot be interpreted as an integer",
     "output_type": "error",
     "traceback": [
      "\u001b[1;31m---------------------------------------------------------------------------\u001b[0m",
      "\u001b[1;31mTypeError\u001b[0m                                 Traceback (most recent call last)",
      "\u001b[1;32m<ipython-input-7-fad073b6fd5a>\u001b[0m in \u001b[0;36m<module>\u001b[1;34m\u001b[0m\n\u001b[0;32m      1\u001b[0m \u001b[1;31m# (참고) range()는 step에 실수가 되지 않아 오류\u001b[0m\u001b[1;33m\u001b[0m\u001b[1;33m\u001b[0m\u001b[1;33m\u001b[0m\u001b[0m\n\u001b[1;32m----> 2\u001b[1;33m \u001b[0mrange\u001b[0m\u001b[1;33m(\u001b[0m\u001b[1;36m1\u001b[0m\u001b[1;33m,\u001b[0m \u001b[1;36m6\u001b[0m\u001b[1;33m,\u001b[0m \u001b[1;36m0.5\u001b[0m\u001b[1;33m)\u001b[0m\u001b[1;33m\u001b[0m\u001b[1;33m\u001b[0m\u001b[0m\n\u001b[0m",
      "\u001b[1;31mTypeError\u001b[0m: 'float' object cannot be interpreted as an integer"
     ]
    }
   ],
   "source": [
    "# (참고) range()는 step에 실수가 되지 않아 오류\n",
    "range(1, 6, 0.5)"
   ]
  },
  {
   "cell_type": "code",
   "execution_count": 8,
   "id": "a679c2a2",
   "metadata": {},
   "outputs": [
    {
     "data": {
      "text/plain": [
       "array([1., 1., 1., 1., 1.])"
      ]
     },
     "execution_count": 8,
     "metadata": {},
     "output_type": "execute_result"
    }
   ],
   "source": [
    "# ones(shape)\n",
    "# shape 값에 따른 모든 값이 1.(실수)인 배열을 생성\n",
    "np.ones(5)  # 모든 값이 1.이고 요소가 5개인 1차원 배열 생성"
   ]
  },
  {
   "cell_type": "code",
   "execution_count": 9,
   "id": "2e5ce34e",
   "metadata": {},
   "outputs": [
    {
     "data": {
      "text/plain": [
       "array([0., 0., 0., 0., 0.])"
      ]
     },
     "execution_count": 9,
     "metadata": {},
     "output_type": "execute_result"
    }
   ],
   "source": [
    "# zeros(shape)\n",
    "# shape 값에 따른 모든 값이 0.(실수)인 배열을 생성\n",
    "np.zeros(5) # 모든 값이 0.이고 요소가 5개인 1차원 배열 생성"
   ]
  },
  {
   "cell_type": "code",
   "execution_count": 10,
   "id": "26af457d",
   "metadata": {},
   "outputs": [
    {
     "data": {
      "text/plain": [
       "array([4., 4., 4., 4., 4.])"
      ]
     },
     "execution_count": 10,
     "metadata": {},
     "output_type": "execute_result"
    }
   ],
   "source": [
    "# full(shape, fill_value)\n",
    "# shape 값에 따른 모든 값이 fill_value인 배열을 생성\n",
    "np.full(5, 4.) # 모든 값이 4.(실수)이고 요소가 5개인 1차원 배열 생성"
   ]
  },
  {
   "cell_type": "code",
   "execution_count": 11,
   "id": "370026f5",
   "metadata": {},
   "outputs": [
    {
     "data": {
      "text/plain": [
       "dtype('int32')"
      ]
     },
     "execution_count": 11,
     "metadata": {},
     "output_type": "execute_result"
    }
   ],
   "source": [
    "# 배열 객체의 데이터 타입(dtype)\n",
    "# 4가 정수이므로 배열은 정수형이 됨\n",
    "np.full(5, 4).dtype"
   ]
  },
  {
   "cell_type": "code",
   "execution_count": 12,
   "id": "bbc0b4f2",
   "metadata": {},
   "outputs": [
    {
     "data": {
      "text/plain": [
       "dtype('float64')"
      ]
     },
     "execution_count": 12,
     "metadata": {},
     "output_type": "execute_result"
    }
   ],
   "source": [
    "# 4.은 실수이므로 배열은 실수형이 됨\n",
    "np.full(5, 4.).dtype "
   ]
  },
  {
   "cell_type": "code",
   "execution_count": 13,
   "id": "fb538955",
   "metadata": {},
   "outputs": [
    {
     "data": {
      "text/plain": [
       "dtype('float64')"
      ]
     },
     "execution_count": 13,
     "metadata": {},
     "output_type": "execute_result"
    }
   ],
   "source": [
    "# 4가 정수이지만, dtype인자를 통해 float로 지정하면 실수형이 됨\n",
    "np.full(5, 4, dtype = 'float').dtype"
   ]
  },
  {
   "cell_type": "code",
   "execution_count": 14,
   "id": "379443b1",
   "metadata": {},
   "outputs": [
    {
     "data": {
      "text/plain": [
       "array([[ 1,  3,  5,  7,  9],\n",
       "       [ 2,  4,  6,  8, 10]])"
      ]
     },
     "execution_count": 14,
     "metadata": {},
     "output_type": "execute_result"
    }
   ],
   "source": [
    "# 2d-array 생성\n",
    "# 리스트 객체를 2차원 배열로\n",
    "np.array([[1, 3, 5, 7, 9], [2, 4, 6, 8, 10]]) # 2행 5열"
   ]
  },
  {
   "cell_type": "code",
   "execution_count": 15,
   "id": "239b5217",
   "metadata": {},
   "outputs": [
    {
     "data": {
      "text/plain": [
       "array([[1, 2, 3],\n",
       "       [4, 5, 6],\n",
       "       [7, 8, 9]])"
      ]
     },
     "execution_count": 15,
     "metadata": {},
     "output_type": "execute_result"
    }
   ],
   "source": [
    "# 리스트 객체를 2차원 배열로\n",
    "np.array([[1, 2, 3], [4, 5, 6], [7, 8, 9]]) # 3행 3열"
   ]
  },
  {
   "cell_type": "code",
   "execution_count": 16,
   "id": "4f66ee5d",
   "metadata": {},
   "outputs": [
    {
     "data": {
      "text/plain": [
       "array([[1, 1, 1, 1, 1],\n",
       "       [1, 1, 1, 1, 1]])"
      ]
     },
     "execution_count": 16,
     "metadata": {},
     "output_type": "execute_result"
    }
   ],
   "source": [
    "# 모든 값이 1(정수)이고 행의 수가 2, 열의 수가 5개인 2차원 배열 생성\n",
    "np.ones((2,5), dtype = 'int') # dtype 생략할 경우 실수로 자동 생성"
   ]
  },
  {
   "cell_type": "code",
   "execution_count": 17,
   "id": "e171996c",
   "metadata": {},
   "outputs": [
    {
     "data": {
      "text/plain": [
       "array([[0, 0, 0, 0, 0],\n",
       "       [0, 0, 0, 0, 0]])"
      ]
     },
     "execution_count": 17,
     "metadata": {},
     "output_type": "execute_result"
    }
   ],
   "source": [
    "# 모든 값이 0(정수)이고 행의 수가 2, 열의 수가 5개인 2차원 배열 생성\n",
    "np.zeros((2,5), dtype = 'int') # dtype 생략할 경우 실수로 자동 생성"
   ]
  },
  {
   "cell_type": "code",
   "execution_count": 18,
   "id": "4d8d26e1",
   "metadata": {},
   "outputs": [
    {
     "data": {
      "text/plain": [
       "array([[5, 5, 5, 5, 5],\n",
       "       [5, 5, 5, 5, 5]])"
      ]
     },
     "execution_count": 18,
     "metadata": {},
     "output_type": "execute_result"
    }
   ],
   "source": [
    "# 모든 값이 5(정수)이고 행의 수가 2, 열의 수가 5개인 2차원 배열 생성\n",
    "np.full((2,5), 5)"
   ]
  },
  {
   "cell_type": "code",
   "execution_count": 19,
   "id": "73cd72b0",
   "metadata": {},
   "outputs": [
    {
     "data": {
      "text/plain": [
       "array([[1., 0., 0., 0., 0.],\n",
       "       [0., 1., 0., 0., 0.],\n",
       "       [0., 0., 1., 0., 0.],\n",
       "       [0., 0., 0., 1., 0.],\n",
       "       [0., 0., 0., 0., 1.]])"
      ]
     },
     "execution_count": 19,
     "metadata": {},
     "output_type": "execute_result"
    }
   ],
   "source": [
    "# 주 대각성분이 1인 행과 열의 수가 5개인 정사각 2차원 배열 생성(항등행렬과 유사)\n",
    "np.identity(5)"
   ]
  },
  {
   "cell_type": "code",
   "execution_count": 20,
   "id": "a59f05c4",
   "metadata": {},
   "outputs": [
    {
     "data": {
      "text/plain": [
       "array([[[ 1,  2,  3,  4],\n",
       "        [ 5,  6,  7,  8]],\n",
       "\n",
       "       [[ 2,  4,  6,  8],\n",
       "        [10, 12, 14, 16]],\n",
       "\n",
       "       [[ 1,  3,  5,  7],\n",
       "        [ 9, 11, 13, 15]]])"
      ]
     },
     "execution_count": 20,
     "metadata": {},
     "output_type": "execute_result"
    }
   ],
   "source": [
    "# 3d-array 생성\n",
    "# 리스트 객체를 3차원 배열로\n",
    "np.array([\n",
    "    [[1, 2, 3, 4], [5, 6, 7, 8]], # 0층\n",
    "    [[2, 4, 6, 8], [10, 12, 14, 16]], # 1층\n",
    "    [[1, 3, 5, 7], [9, 11, 13, 15]] # 2층\n",
    "         ]) # 3층 2행 4열"
   ]
  },
  {
   "cell_type": "code",
   "execution_count": 21,
   "id": "cc5f9515",
   "metadata": {},
   "outputs": [
    {
     "data": {
      "text/plain": [
       "array([[[1, 1, 1, 1],\n",
       "        [1, 1, 1, 1]],\n",
       "\n",
       "       [[1, 1, 1, 1],\n",
       "        [1, 1, 1, 1]],\n",
       "\n",
       "       [[1, 1, 1, 1],\n",
       "        [1, 1, 1, 1]]])"
      ]
     },
     "execution_count": 21,
     "metadata": {},
     "output_type": "execute_result"
    }
   ],
   "source": [
    "# 모든 값이 1이고 3층 2행 4열인 3차원 배열 생성\n",
    "np.ones((3, 2, 4), dtype = 'int') # dtype 생략할 경우 실수로 자동 생성"
   ]
  },
  {
   "cell_type": "code",
   "execution_count": 22,
   "id": "d5802737",
   "metadata": {},
   "outputs": [
    {
     "data": {
      "text/plain": [
       "array([[[0, 0, 0, 0],\n",
       "        [0, 0, 0, 0]],\n",
       "\n",
       "       [[0, 0, 0, 0],\n",
       "        [0, 0, 0, 0]],\n",
       "\n",
       "       [[0, 0, 0, 0],\n",
       "        [0, 0, 0, 0]]])"
      ]
     },
     "execution_count": 22,
     "metadata": {},
     "output_type": "execute_result"
    }
   ],
   "source": [
    "# 모든 값이 0이고 3층 2행 4열인 3차원 배열 생성\n",
    "np.zeros((3, 2, 4), dtype = 'int') # dtype 생략할 경우 실수로 자동 생성"
   ]
  },
  {
   "cell_type": "code",
   "execution_count": 23,
   "id": "1846d744",
   "metadata": {},
   "outputs": [
    {
     "data": {
      "text/plain": [
       "array([[[5, 5, 5, 5],\n",
       "        [5, 5, 5, 5]],\n",
       "\n",
       "       [[5, 5, 5, 5],\n",
       "        [5, 5, 5, 5]],\n",
       "\n",
       "       [[5, 5, 5, 5],\n",
       "        [5, 5, 5, 5]]])"
      ]
     },
     "execution_count": 23,
     "metadata": {},
     "output_type": "execute_result"
    }
   ],
   "source": [
    "# 모든 값이 5이고 3층 2행 4열인 3차원 배열 생성\n",
    "np.full((3, 2, 4), 5)"
   ]
  },
  {
   "cell_type": "markdown",
   "id": "03423955",
   "metadata": {},
   "source": [
    "#### 4. ndarray 정보 확인"
   ]
  },
  {
   "cell_type": "code",
   "execution_count": 15,
   "id": "bdc787f0",
   "metadata": {},
   "outputs": [],
   "source": [
    "# ndarray 생성\n",
    "# 1d-array\n",
    "arr_1d = np.array([1, 2, 3, 4])\n",
    "\n",
    "# 2d-array\n",
    "arr_2d = np.array([[1, 2, 3, 4], [5, 6, 7, 8]]) # 2행 4열\n",
    "\n",
    "# 3d-array\n",
    "arr_3d = np.array([\n",
    "    [[1, 2, 3, 4], [5, 6, 7, 8]], # 0층\n",
    "    [[2, 4, 6, 8], [10, 12, 14, 16]], # 1층\n",
    "    [[1, 3, 5, 7], [9, 11, 13, 15]] # 2층\n",
    "    ]) # 3층 2행 4열"
   ]
  },
  {
   "cell_type": "code",
   "execution_count": 16,
   "id": "3579d3c9",
   "metadata": {},
   "outputs": [
    {
     "name": "stdout",
     "output_type": "stream",
     "text": [
      "(4,)\n",
      "(2, 4)\n",
      "(3, 2, 4)\n"
     ]
    }
   ],
   "source": [
    "# .shape\n",
    "# 배열객체의 [층,] 행, [열]의 수\n",
    "print(arr_1d.shape) # 1d-array의 경우 길이정보가 (길이, )와 같은 형태로 반환됨\n",
    "print(arr_2d.shape)\n",
    "print(arr_3d.shape) "
   ]
  },
  {
   "cell_type": "code",
   "execution_count": 17,
   "id": "b7da0bf2",
   "metadata": {
    "scrolled": true
   },
   "outputs": [
    {
     "name": "stdout",
     "output_type": "stream",
     "text": [
      "4\n",
      "8\n",
      "24\n"
     ]
    }
   ],
   "source": [
    "# .size\n",
    "# 배열객체의 총 원소의 수\n",
    "print(arr_1d.size)\n",
    "print(arr_2d.size)\n",
    "print(arr_3d.size)"
   ]
  },
  {
   "cell_type": "code",
   "execution_count": 18,
   "id": "d80cf2c9",
   "metadata": {},
   "outputs": [
    {
     "name": "stdout",
     "output_type": "stream",
     "text": [
      "1\n",
      "2\n",
      "3\n"
     ]
    }
   ],
   "source": [
    "# .ndim\n",
    "# 배열객체의 차원의 수\n",
    "print(arr_1d.ndim)\n",
    "print(arr_2d.ndim)\n",
    "print(arr_3d.ndim)"
   ]
  },
  {
   "cell_type": "markdown",
   "id": "8c12426e",
   "metadata": {},
   "source": []
  },
  {
   "cell_type": "markdown",
   "id": "3780a643",
   "metadata": {},
   "source": [
    "### 2절. NumPy의 연산"
   ]
  },
  {
   "cell_type": "markdown",
   "id": "1c445cd5",
   "metadata": {},
   "source": [
    "#### 1. ndarray 인덱싱과 슬라이싱"
   ]
  },
  {
   "cell_type": "markdown",
   "id": "826d293f",
   "metadata": {},
   "source": [
    "##### 가. 인덱싱"
   ]
  },
  {
   "cell_type": "code",
   "execution_count": 19,
   "id": "d89ac911",
   "metadata": {},
   "outputs": [],
   "source": [
    "# 인덱싱\n",
    "# 1d-array객체 생성\n",
    "arr_1d = np.array([1, 2, 3, 4, 5])"
   ]
  },
  {
   "cell_type": "code",
   "execution_count": 20,
   "id": "4939bf99",
   "metadata": {},
   "outputs": [
    {
     "name": "stdout",
     "output_type": "stream",
     "text": [
      "1\n",
      "3\n",
      "5\n",
      "5\n"
     ]
    }
   ],
   "source": [
    "print(arr_1d[0]) # 가장 처음(0번)으로부터 값 하나 참조\n",
    "print(arr_1d[2]) # 2번 인덱스 위치로부터 값 하나 참조\n",
    "print(arr_1d[4]) # 가장 마지막(4번)으로부터 값 하나 참조\n",
    "print(arr_1d[-1]) # 음수로도 가능(-1번으로부터 값 하나 참조)"
   ]
  },
  {
   "cell_type": "code",
   "execution_count": 21,
   "id": "baffd66b",
   "metadata": {},
   "outputs": [],
   "source": [
    "# 2d-array객체 생성\n",
    "arr_2d = np.array([[1, 2, 3],\n",
    "                   [4, 5, 7],\n",
    "                   [6, 8, 9],\n",
    "                   [11, 17, 19]]) # 4행 3열"
   ]
  },
  {
   "cell_type": "code",
   "execution_count": 22,
   "id": "7f8d5b58",
   "metadata": {},
   "outputs": [
    {
     "name": "stdout",
     "output_type": "stream",
     "text": [
      "1\n",
      "1\n",
      "8\n",
      "8\n"
     ]
    }
   ],
   "source": [
    "# Case1\n",
    "# 처음(0번) 행/열 인덱스로부터 값 하나 참조\n",
    "print(arr_2d[0,0])\n",
    "\n",
    "# Case1(음수로 할 경우)\n",
    "# –4번 행 인덱스와 –3번 열 인덱스로부터 값 하나 참조\n",
    "print(arr_2d[-4,-3])\n",
    "\n",
    "# Case2\n",
    "# 2번 행 인덱스와 1번 열 인덱스로부터 값 하나 참조\n",
    "print(arr_2d[2,1])\n",
    "\n",
    "# Case2(음수로 할 경우)\n",
    "# -2번 행/열 인덱스로부터 값 하나 참조\n",
    "print(arr_2d[-2,-2])"
   ]
  },
  {
   "cell_type": "code",
   "execution_count": 32,
   "id": "918a0b80",
   "metadata": {},
   "outputs": [
    {
     "name": "stdout",
     "output_type": "stream",
     "text": [
      "19\n",
      "3\n",
      "11\n"
     ]
    }
   ],
   "source": [
    "# 음수 인덱싱의 활용 예\n",
    "\n",
    "# Case1\n",
    "# 3번 행 인덱스와 2번 열 인덱스로부터 값 하나를 참조하는 것보다\n",
    "# 마지막 행열에 위치하므로 -1번 행열 인덱스로부터 참조하는 것이 빠르다.\n",
    "print(arr_2d[-1,-1])\n",
    "\n",
    "# Case2\n",
    "# 가장 처음 행(0번)과 가장 마지막 열(-1번) 인덱스로부터 값 하나 참조\n",
    "print(arr_2d[0,-1])\n",
    "\n",
    "# Case3\n",
    "# 가장 마지막 행(-1번)과 가장 처음 열(0번) 인덱스로부터 값 하나 참조\n",
    "print(arr_2d[-1,0])"
   ]
  },
  {
   "cell_type": "markdown",
   "id": "1ed6260f",
   "metadata": {},
   "source": [
    "##### 나. 슬라이싱"
   ]
  },
  {
   "cell_type": "code",
   "execution_count": 23,
   "id": "1a7f3978",
   "metadata": {},
   "outputs": [],
   "source": [
    "# 슬라이싱\n",
    "# 1d-array객체 생성\n",
    "arr_1d = np.array([1, 2, 3, 4, 5])"
   ]
  },
  {
   "cell_type": "code",
   "execution_count": 24,
   "id": "c7cba16d",
   "metadata": {},
   "outputs": [
    {
     "name": "stdout",
     "output_type": "stream",
     "text": [
      "[1 2]\n",
      "[1 2]\n"
     ]
    }
   ],
   "source": [
    "# Case1\n",
    "# 처음(0번)부터 2번 인덱스 번호 사이의 구간 추출\n",
    "print(arr_1d[0:2])\n",
    "print(arr_1d[:2]) # k1 = 0으로 생략 가능"
   ]
  },
  {
   "cell_type": "code",
   "execution_count": 25,
   "id": "b13fa531",
   "metadata": {},
   "outputs": [
    {
     "name": "stdout",
     "output_type": "stream",
     "text": [
      "[2 3 4]\n",
      "[2 3 4]\n",
      "[2 3 4]\n"
     ]
    }
   ],
   "source": [
    "# Case2\n",
    "# 1번부터 4번 사이의 인덱스 번호 사이의 구간 추출\n",
    "print(arr_1d[1:4])\n",
    "\n",
    "# –4번부터 -1번 사이의 인덱스 번호 사이의 구간 추출\n",
    "print(arr_1d[-4:-1])\n",
    "\n",
    "# 1번부터 -1번 사이의 인덱스 번호 사이의 구간 추출\n",
    "print(arr_1d[1:-1])"
   ]
  },
  {
   "cell_type": "code",
   "execution_count": 26,
   "id": "0877b82f",
   "metadata": {},
   "outputs": [
    {
     "name": "stdout",
     "output_type": "stream",
     "text": [
      "[4 5]\n",
      "[4 5]\n",
      "[4 5]\n"
     ]
    }
   ],
   "source": [
    "# Case3\n",
    "# 3번부터 마지막(5번) 사이의 인덱스 번호 사이의 구간 추출\n",
    "print(arr_1d[3:5])\n",
    "\n",
    "# 3번부터 마지막 사이의 인덱스 번호 사이의 구간 추출\n",
    "print(arr_1d[3:]) # k2=길이정보로 생략 가능\n",
    " \n",
    "# -2번부터 마지막 사이의 인덱스 번호 사이의 구간 추출\n",
    "print(arr_1d[-2:])"
   ]
  },
  {
   "cell_type": "code",
   "execution_count": 27,
   "id": "2b3bfd6e",
   "metadata": {},
   "outputs": [],
   "source": [
    "# 2d-array객체 생성\n",
    "arr_2d = np.array([[1, 2, 3, 5],\n",
    "                   [1, 3, 5, 7],\n",
    "                   [2, 4, 6, 9],\n",
    "                   [7, 11, 13, 17]]) # 4행 4열"
   ]
  },
  {
   "cell_type": "code",
   "execution_count": 28,
   "id": "2c1216fc",
   "metadata": {},
   "outputs": [
    {
     "name": "stdout",
     "output_type": "stream",
     "text": [
      "[1 1 2 7]\n",
      "[1 1 2 7]\n",
      "[1 1 2 7]\n"
     ]
    }
   ],
   "source": [
    "# Case1\n",
    "# 행 : 전체\n",
    "# 열 : 처음(0번)부터 1번 열 인덱스 사이의 구간\n",
    "print(arr_2d[0:4, 0])\n",
    "print(arr_2d[:4, 0]) # r1=0으로 생략 가능\n",
    "print(arr_2d[:, 0]) # r1=0이고 r2=행길이므로 생략 가능"
   ]
  },
  {
   "cell_type": "code",
   "execution_count": 29,
   "id": "fb22d9a9",
   "metadata": {},
   "outputs": [
    {
     "name": "stdout",
     "output_type": "stream",
     "text": [
      "[[1 2 3]\n",
      " [1 3 5]\n",
      " [2 4 6]]\n",
      "[[1 2 3]\n",
      " [1 3 5]\n",
      " [2 4 6]]\n",
      "[[1 2 3]\n",
      " [1 3 5]\n",
      " [2 4 6]]\n"
     ]
    }
   ],
   "source": [
    "# Case2\n",
    "# 행/열 : 처음(인덱스 0번)부터 인덱스 3번(-1번) 사이의 구간\n",
    "print(arr_2d[0:3, 0:3])\n",
    "print(arr_2d[:3, :3]) # r1=c1=0으로 생략 가능\n",
    "print(arr_2d[:-1, :-1]) # r1=c1=0으로 생략 가능"
   ]
  },
  {
   "cell_type": "code",
   "execution_count": 30,
   "id": "bf9c30a5",
   "metadata": {},
   "outputs": [
    {
     "name": "stdout",
     "output_type": "stream",
     "text": [
      "[[3 5]\n",
      " [4 6]]\n",
      "[[3 5]\n",
      " [4 6]]\n",
      "[[3 5]\n",
      " [4 6]]\n"
     ]
    }
   ],
   "source": [
    "# Case3\n",
    "# 행/열 : 처음 바로 뒤(1번 또는 -3번)부터 마지막 바로 앞(-1번 또는 3번) 사이의 구간\n",
    "print(arr_2d[1:3, 1:3])\n",
    "print(arr_2d[-3:-1, -3:-1])\n",
    "print(arr_2d[1:-1, 1:-1])"
   ]
  },
  {
   "cell_type": "code",
   "execution_count": 31,
   "id": "3bd95853",
   "metadata": {},
   "outputs": [
    {
     "name": "stdout",
     "output_type": "stream",
     "text": [
      "[[1 3 5 7]\n",
      " [2 4 6 9]]\n",
      "[[1 3 5 7]\n",
      " [2 4 6 9]]\n",
      "[[1 3 5 7]\n",
      " [2 4 6 9]]\n"
     ]
    }
   ],
   "source": [
    "# Case4\n",
    "# 행 : 처음 바로 뒤(1번 또는 -3번)부터 마지막 바로 앞(-1번 또는 3번) 사이의 구간\n",
    "# 열 : 전체\n",
    "print(arr_2d[1:3, 0:4])\n",
    "print(arr_2d[1:3, :]) # c1=0이고 c2=열길이이므로 생략 가능\n",
    "print(arr_2d[1:-1, :]) # c1=0이고 c2=열길이이므로 생략 가능"
   ]
  },
  {
   "cell_type": "code",
   "execution_count": 32,
   "id": "4d6845a3",
   "metadata": {},
   "outputs": [
    {
     "name": "stdout",
     "output_type": "stream",
     "text": [
      "[ 7 11 13 17]\n",
      "[ 7 11 13 17]\n",
      "[ 7 11 13 17]\n"
     ]
    }
   ],
   "source": [
    "# Case5\n",
    "# 행 : 마지막 행\n",
    "# 열 : 열 전체\n",
    "print(arr_2d[3, 0:4])\n",
    "print(arr_2d[3, :]) # c1=0이고 c2=열길이이므로 생략 가능\n",
    "print(arr_2d[-1, :]) # c1=0이고 c2=열길이이므로 생략 가능"
   ]
  },
  {
   "cell_type": "code",
   "execution_count": 33,
   "id": "422c7405",
   "metadata": {},
   "outputs": [
    {
     "name": "stdout",
     "output_type": "stream",
     "text": [
      "[[ 6  9]\n",
      " [13 17]]\n",
      "[[ 6  9]\n",
      " [13 17]]\n",
      "[[ 6  9]\n",
      " [13 17]]\n"
     ]
    }
   ],
   "source": [
    "# Case6\n",
    "# 행/열 : 2번(또는 -2번)부터 마지막 인덱스 사이의 구간\n",
    "print(arr_2d[2:4, 2:4])\n",
    "print(arr_2d[2:, 2:]) # c2=열길이이므로 생략 가능\n",
    "print(arr_2d[-2:, -2:]) # c2=열길이이므로 생략 가능"
   ]
  },
  {
   "cell_type": "markdown",
   "id": "d6c4c538",
   "metadata": {},
   "source": [
    "#### 2. ndarray 원소별 연산"
   ]
  },
  {
   "cell_type": "markdown",
   "id": "448967d0",
   "metadata": {},
   "source": [
    "##### 가. 단일 배열객체의 범용 함수"
   ]
  },
  {
   "cell_type": "code",
   "execution_count": 34,
   "id": "75b29f6e",
   "metadata": {},
   "outputs": [
    {
     "name": "stdout",
     "output_type": "stream",
     "text": [
      "[  0   1  -4   9 -16  25]\n"
     ]
    }
   ],
   "source": [
    "# 단일 배열객체에 대한 범용 함수\n",
    "# 1d-array객체 생성\n",
    "arr = np.array([0, 1, -4, 9, -16, 25])\n",
    "print(arr)"
   ]
  },
  {
   "cell_type": "code",
   "execution_count": 35,
   "id": "8fdfd39d",
   "metadata": {},
   "outputs": [
    {
     "name": "stdout",
     "output_type": "stream",
     "text": [
      "[ 0  1  4  9 16 25]\n",
      "[ 0.  1.  4.  9. 16. 25.]\n"
     ]
    }
   ],
   "source": [
    "# abs : 원소별 절대값을 반환(abs는 파이썬 기본 내장함수로도 가능함)\n",
    "arr_abs = np.abs(arr)\n",
    "print(arr_abs)\n",
    "\n",
    "# fabs : 원소별 절대값을 반환(abs보다 빠름)\n",
    "arr_fabs = np.fabs(arr)\n",
    "print(arr_fabs)"
   ]
  },
  {
   "cell_type": "code",
   "execution_count": 36,
   "id": "73b6938d",
   "metadata": {},
   "outputs": [
    {
     "name": "stdout",
     "output_type": "stream",
     "text": [
      "[ 0.  1. nan  3. nan  5.]\n"
     ]
    },
    {
     "name": "stderr",
     "output_type": "stream",
     "text": [
      "<ipython-input-36-77182b505a7d>:3: RuntimeWarning: invalid value encountered in sqrt\n",
      "  arr_sqrt = np.sqrt(arr)\n"
     ]
    }
   ],
   "source": [
    "# sqrt : 원소별 제곱근 값 반환\n",
    "# 음수는 nan 반환됨\n",
    "arr_sqrt = np.sqrt(arr)\n",
    "print(arr_sqrt)"
   ]
  },
  {
   "cell_type": "code",
   "execution_count": 37,
   "id": "b3005b62",
   "metadata": {},
   "outputs": [
    {
     "name": "stdout",
     "output_type": "stream",
     "text": [
      "[  0   1  16  81 256 625]\n"
     ]
    }
   ],
   "source": [
    "# square : 원소별 제곱 값을 반환\n",
    "arr_square = np.square(arr)\n",
    "print(arr_square)"
   ]
  },
  {
   "cell_type": "code",
   "execution_count": 38,
   "id": "111dcd57",
   "metadata": {},
   "outputs": [
    {
     "name": "stdout",
     "output_type": "stream",
     "text": [
      "[1.00000000e+00 2.71828183e+00 1.83156389e-02 8.10308393e+03\n",
      " 1.12535175e-07 7.20048993e+10]\n"
     ]
    }
   ],
   "source": [
    "# exp : 원소별 밑이 e인 지수 함수 값을 반환\n",
    "arr_exp = np.exp(arr)\n",
    "print(arr_exp)"
   ]
  },
  {
   "cell_type": "code",
   "execution_count": 39,
   "id": "f23b4f31",
   "metadata": {},
   "outputs": [
    {
     "name": "stdout",
     "output_type": "stream",
     "text": [
      "[      -inf 0.                nan 2.19722458        nan 3.21887582]\n",
      "[      -inf 0.                nan 0.95424251        nan 1.39794001]\n"
     ]
    },
    {
     "name": "stderr",
     "output_type": "stream",
     "text": [
      "<ipython-input-39-1f83817cd88f>:3: RuntimeWarning: divide by zero encountered in log\n",
      "  arr_log = np.log(arr)\n",
      "<ipython-input-39-1f83817cd88f>:3: RuntimeWarning: invalid value encountered in log\n",
      "  arr_log = np.log(arr)\n",
      "<ipython-input-39-1f83817cd88f>:8: RuntimeWarning: divide by zero encountered in log10\n",
      "  arr_log10 = np.log10(arr)\n",
      "<ipython-input-39-1f83817cd88f>:8: RuntimeWarning: invalid value encountered in log10\n",
      "  arr_log10 = np.log10(arr)\n"
     ]
    }
   ],
   "source": [
    "# log : 원소별 자연로그 값을 반환\n",
    "# 음수는 nan, 0은 -inf 반환됨\n",
    "arr_log = np.log(arr)\n",
    "print(arr_log)\n",
    "\n",
    "# log10 : 원소별 상용로그 값을 반환\n",
    "# 음수는 nan, 0은 -inf 반환됨\n",
    "arr_log10 = np.log10(arr)\n",
    "print(arr_log10)"
   ]
  },
  {
   "cell_type": "code",
   "execution_count": 40,
   "id": "7213825a",
   "metadata": {},
   "outputs": [
    {
     "name": "stdout",
     "output_type": "stream",
     "text": [
      "[ 0  1 -1  1 -1  1]\n"
     ]
    }
   ],
   "source": [
    "# sign : 원소별 부호 값을 반환\n",
    "# 양수면 1, 음수면 -1, 0은 0을 반환\n",
    "arr_sign = np.sign(arr)\n",
    "print(arr_sign)"
   ]
  },
  {
   "cell_type": "code",
   "execution_count": 41,
   "id": "109afbb0",
   "metadata": {},
   "outputs": [
    {
     "name": "stdout",
     "output_type": "stream",
     "text": [
      "[ 1.15  -2.33   3.457 -4.095]\n"
     ]
    }
   ],
   "source": [
    "# 단일 배열객체의 소숫점을 처리하는 범용 함수\n",
    "# 1d-array객체 생성\n",
    "arr = np.array([1.15, -2.33, 3.457, -4.095])\n",
    "print(arr)"
   ]
  },
  {
   "cell_type": "code",
   "execution_count": 42,
   "id": "506e3d77",
   "metadata": {},
   "outputs": [
    {
     "name": "stdout",
     "output_type": "stream",
     "text": [
      "[ 1. -2.  3. -4.]\n",
      "[ 1.2 -2.3  3.5 -4.1]\n"
     ]
    }
   ],
   "source": [
    "# round : 원소별 소수점을 원하는 자릿수까지 반올림한 값을 반환\n",
    "arr_round = np.round(arr) # default는 0\n",
    "print(arr_round)\n",
    "\n",
    "arr_round_decimals_1 = np.round(arr, 1) #decimals 인자 값만 입력해도 됨\n",
    "print(arr_round_decimals_1)"
   ]
  },
  {
   "cell_type": "code",
   "execution_count": 43,
   "id": "4514af9a",
   "metadata": {},
   "outputs": [
    {
     "name": "stdout",
     "output_type": "stream",
     "text": [
      "[ 2. -2.  4. -4.]\n"
     ]
    }
   ],
   "source": [
    "# ceil : 원소별 소수점을 올림한 값을 반환\n",
    "arr_ceil = np.ceil(arr)\n",
    "print(arr_ceil)"
   ]
  },
  {
   "cell_type": "code",
   "execution_count": 44,
   "id": "4c2bebd3",
   "metadata": {},
   "outputs": [
    {
     "name": "stdout",
     "output_type": "stream",
     "text": [
      "[ 1. -3.  3. -5.]\n"
     ]
    }
   ],
   "source": [
    "# floor : 원소별 소수점을 내림한 값을 반환\n",
    "arr_floor = np.floor(arr)\n",
    "print(arr_floor)"
   ]
  },
  {
   "cell_type": "code",
   "execution_count": 45,
   "id": "488673ea",
   "metadata": {},
   "outputs": [
    {
     "name": "stdout",
     "output_type": "stream",
     "text": [
      "[ 1. -2.  3. -4.]\n"
     ]
    }
   ],
   "source": [
    "# trunc : 원소별 소수점을 잘라버린 값을 반환\n",
    "arr_trunc = np.trunc(arr)\n",
    "print(arr_trunc)"
   ]
  },
  {
   "cell_type": "markdown",
   "id": "fdfdcd87",
   "metadata": {},
   "source": [
    "##### 나. 서로 다른 배열객체의 범용 함수"
   ]
  },
  {
   "cell_type": "code",
   "execution_count": 46,
   "id": "7bfe76f0",
   "metadata": {},
   "outputs": [
    {
     "name": "stdout",
     "output_type": "stream",
     "text": [
      "[0 1 2 3 4]\n",
      "[1 3 5 7 9]\n"
     ]
    }
   ],
   "source": [
    "# 서로 배열객체에 대한 범용 함수\n",
    "# 1d-array객체 생성\n",
    "arr_1 = np.arange(5) # 0 1 2 3 4\n",
    "print(arr_1)\n",
    "\n",
    "arr_2 = np.arange(1, 10, step = 2) # 1 3 5 7 9\n",
    "print(arr_2)"
   ]
  },
  {
   "cell_type": "code",
   "execution_count": 47,
   "id": "6f537bb2",
   "metadata": {},
   "outputs": [
    {
     "name": "stdout",
     "output_type": "stream",
     "text": [
      "[ 1  4  7 10 13]\n",
      "[ 1  4  7 10 13]\n"
     ]
    }
   ],
   "source": [
    "# add : 두 배열객체의 원소 별 덧셈\n",
    "arr_add_1 = np.add(arr_1, arr_2)\n",
    "print(arr_add_1)\n",
    "\n",
    "# 연산자 +로 대신 가능\n",
    "arr_add_2 = arr_1 + arr_2\n",
    "print(arr_add_2)"
   ]
  },
  {
   "cell_type": "code",
   "execution_count": 48,
   "id": "d9fa0203",
   "metadata": {},
   "outputs": [
    {
     "name": "stdout",
     "output_type": "stream",
     "text": [
      "[-1 -2 -3 -4 -5]\n",
      "[-1 -2 -3 -4 -5]\n"
     ]
    }
   ],
   "source": [
    "# subtract : 두 배열객체의 원소 별 뺄셈\n",
    "arr_subtract_1 = np.subtract(arr_1, arr_2)\n",
    "print(arr_subtract_1)\n",
    "\n",
    "# 연산자 -로 대신 가능\n",
    "arr_subtract_2 = arr_1 - arr_2\n",
    "print(arr_subtract_2)"
   ]
  },
  {
   "cell_type": "code",
   "execution_count": 49,
   "id": "3ae8aec0",
   "metadata": {},
   "outputs": [
    {
     "name": "stdout",
     "output_type": "stream",
     "text": [
      "[ 0  3 10 21 36]\n",
      "[ 0  3 10 21 36]\n"
     ]
    }
   ],
   "source": [
    "# multiply : 두 배열객체의 원소 별 곱셈\n",
    "arr_multiply_1 = np.multiply(arr_1, arr_2)\n",
    "print(arr_multiply_1)\n",
    "\n",
    "# 연산자 *로 대신 가능\n",
    "arr_multiply_2 = arr_1 * arr_2\n",
    "print(arr_multiply_2)"
   ]
  },
  {
   "cell_type": "code",
   "execution_count": 50,
   "id": "dd481b7c",
   "metadata": {},
   "outputs": [
    {
     "name": "stdout",
     "output_type": "stream",
     "text": [
      "[0.         0.33333333 0.4        0.42857143 0.44444444]\n",
      "[0.         0.33333333 0.4        0.42857143 0.44444444]\n"
     ]
    }
   ],
   "source": [
    "# divide : 두 배열객체의 원소 별 나눗셈\n",
    "arr_divide_1 = np.divide(arr_1, arr_2)\n",
    "print(arr_divide_1)\n",
    "\n",
    "# 연산자 /로 대신 가능\n",
    "arr_divide_2 = arr_1 / arr_2\n",
    "print(arr_divide_2)"
   ]
  },
  {
   "cell_type": "code",
   "execution_count": 51,
   "id": "02f468c4",
   "metadata": {},
   "outputs": [
    {
     "name": "stdout",
     "output_type": "stream",
     "text": [
      "[0 1 2 3 4]\n",
      "[0 1 2 3 4]\n"
     ]
    }
   ],
   "source": [
    "# mod : 두 배열객체의 원소 별 나눈 후 나머지\n",
    "arr_mod_1 = np.mod(arr_1, arr_2)\n",
    "print(arr_mod_1)\n",
    "\n",
    "# 연산자 %로 대신 가능\n",
    "arr_mod_2 = arr_1 % arr_2\n",
    "print(arr_mod_2)"
   ]
  },
  {
   "cell_type": "code",
   "execution_count": 52,
   "id": "5f90ac58",
   "metadata": {},
   "outputs": [
    {
     "name": "stdout",
     "output_type": "stream",
     "text": [
      "[1 2 3]\n",
      "(3,)\n",
      "[10]\n",
      "(1,)\n",
      "[11 12 13]\n",
      "(3,)\n"
     ]
    }
   ],
   "source": [
    "# 두 배열객체가 서로 다른 길이, 차원, shape를 가질 경우\n",
    "# Case1. 길이가 다른 경우\n",
    "# 길이가 3인 1d-array 생성\n",
    "arr_1d_3 = np.array([1, 2, 3])\n",
    "print(arr_1d_3) # 확인\n",
    "print(arr_1d_3.shape) # shape 확인\n",
    "\n",
    "# 길이가 1인 1d-array 생성\n",
    "arr_1d_1 = np.array([5])\n",
    "print(arr_1d_1) # 확인\n",
    "print(arr_1d_1.shape) # shape 확인\n",
    "\n",
    "# 두 배열객체의 합은 길이가 3인 1d-array가 됨\n",
    "arr_add = arr_1d_3 + arr_1d_1\n",
    "print(arr_add) # 확인\n",
    "print(arr_add.shape) # shape 확인"
   ]
  },
  {
   "cell_type": "code",
   "execution_count": 53,
   "id": "15c422ce",
   "metadata": {},
   "outputs": [
    {
     "name": "stdout",
     "output_type": "stream",
     "text": [
      "[[1 4 7]\n",
      " [2 5 8]\n",
      " [3 6 9]]\n",
      "(3, 3)\n",
      "[ 1  0 -1]\n",
      "(3,)\n",
      "[[2 4 6]\n",
      " [3 5 7]\n",
      " [4 6 8]]\n",
      "(3, 3)\n"
     ]
    }
   ],
   "source": [
    "# Case2. 차원이 다른 경우\n",
    "# 행길이 3, 열길이 3인 2d-array 생성\n",
    "arr_2d_3x3 = np.array([[1, 4, 7],\n",
    "                       [2, 5, 8],\n",
    "                       [3, 6, 9]])\n",
    "\n",
    "print(arr_2d_3x3) # 확인\n",
    "print(arr_2d_3x3.shape) # shape 확인\n",
    "\n",
    "# 길이가 3인 1d-array 생성\n",
    "arr_1d_3 = np.array([1, 0, -1])\n",
    "print(arr_1d_3) # 확인\n",
    "print(arr_1d_3.shape) # shape 확인\n",
    "\n",
    "# 두 배열객체의 합은 행길이 3, 열길이 3인 2d-array가 됨\n",
    "arr_add = arr_2d_3x3 + arr_1d_3\n",
    "print(arr_add) # 확인\n",
    "print(arr_add.shape) # shape 확인"
   ]
  },
  {
   "cell_type": "code",
   "execution_count": 54,
   "id": "c6e2a8aa",
   "metadata": {},
   "outputs": [
    {
     "name": "stdout",
     "output_type": "stream",
     "text": [
      "[[1 2 3]]\n",
      "(1, 3)\n",
      "2\n",
      "[[ 1]\n",
      " [ 0]\n",
      " [-1]]\n",
      "(3, 1)\n",
      "2\n",
      "[[2 3 4]\n",
      " [1 2 3]\n",
      " [0 1 2]]\n",
      "(3, 3)\n"
     ]
    }
   ],
   "source": [
    "# Case3. shape가 다른 경우\n",
    "# 행길이 1, 열길이 3인 2d-array 생성\n",
    "arr_2d_1x3 = np.array([[1, 2, 3]])\n",
    "\n",
    "print(arr_2d_1x3) # 확인\n",
    "print(arr_2d_1x3.shape) # shape 확인\n",
    "print(arr_2d_1x3.ndim) # 차원 확인\n",
    "\n",
    "# 행길이 3, 열길이 1인 2d-array 생성\n",
    "arr_2d_3x1 = np.array([[1],\n",
    "                       [0],\n",
    "                       [-1]]) \n",
    "\n",
    "print(arr_2d_3x1) # 확인\n",
    "print(arr_2d_3x1.shape) # shape 확인\n",
    "print(arr_2d_3x1.ndim) # 차원 확인\n",
    "\n",
    "# 두 배열객체의 합은 행길이 3, 열길이 3인 2d-array가 됨\n",
    "arr_add = arr_2d_1x3 + arr_2d_3x1\n",
    "print(arr_add) # 확인\n",
    "print(arr_add.shape) # shape 확인"
   ]
  },
  {
   "cell_type": "markdown",
   "id": "24e7e1c5",
   "metadata": {},
   "source": []
  },
  {
   "cell_type": "markdown",
   "id": "7a410137",
   "metadata": {},
   "source": [
    "### 3절. NumPy의 주요 함수와 메소드"
   ]
  },
  {
   "cell_type": "markdown",
   "id": "f74723d9",
   "metadata": {},
   "source": [
    "#### 1. 형상 변환 메소드"
   ]
  },
  {
   "cell_type": "code",
   "execution_count": 55,
   "id": "18e56010",
   "metadata": {},
   "outputs": [
    {
     "name": "stdout",
     "output_type": "stream",
     "text": [
      "[0 1 2 3 4 5 6 7]\n",
      "[[0 1 2 3]\n",
      " [4 5 6 7]]\n",
      "[[0 1]\n",
      " [2 3]\n",
      " [4 5]\n",
      " [6 7]]\n"
     ]
    },
    {
     "ename": "ValueError",
     "evalue": "cannot reshape array of size 8 into shape (3,3)",
     "output_type": "error",
     "traceback": [
      "\u001b[1;31m---------------------------------------------------------------------------\u001b[0m",
      "\u001b[1;31mValueError\u001b[0m                                Traceback (most recent call last)",
      "\u001b[1;32m<ipython-input-55-007c7e08b87c>\u001b[0m in \u001b[0;36m<module>\u001b[1;34m\u001b[0m\n\u001b[0;32m     15\u001b[0m \u001b[1;33m\u001b[0m\u001b[0m\n\u001b[0;32m     16\u001b[0m \u001b[1;31m# 행 길이가 3이고 열 길이가 3인 2d-array객체로 변환\u001b[0m\u001b[1;33m\u001b[0m\u001b[1;33m\u001b[0m\u001b[1;33m\u001b[0m\u001b[0m\n\u001b[1;32m---> 17\u001b[1;33m \u001b[0marr_2d_3x3\u001b[0m \u001b[1;33m=\u001b[0m \u001b[0marr_1d\u001b[0m\u001b[1;33m.\u001b[0m\u001b[0mreshape\u001b[0m\u001b[1;33m(\u001b[0m\u001b[1;36m3\u001b[0m\u001b[1;33m,\u001b[0m\u001b[1;36m3\u001b[0m\u001b[1;33m)\u001b[0m\u001b[1;33m\u001b[0m\u001b[1;33m\u001b[0m\u001b[0m\n\u001b[0m",
      "\u001b[1;31mValueError\u001b[0m: cannot reshape array of size 8 into shape (3,3)"
     ]
    }
   ],
   "source": [
    "# .reshape()\n",
    "# 배열 객체를 입력된 shape로 변환\n",
    "\n",
    "# 길이가 8인 1d-array객체 생성\n",
    "arr_1d = np.arange(8)\n",
    "print(arr_1d)\n",
    "\n",
    "# 행 길이가 2이고 열 길이가 4인 2d-array객체로 변환\n",
    "arr_2d_2x4 = arr_1d.reshape(2,4)\n",
    "print(arr_2d_2x4)\n",
    "\n",
    "# 행 길이가 4이고 열 길이가 2인 2d-array객체로 변환\n",
    "arr_2d_4x2 = arr_1d.reshape(4,2)\n",
    "print(arr_2d_4x2)\n",
    "\n",
    "# 행 길이가 3이고 열 길이가 3인 2d-array객체로 변환\n",
    "arr_2d_3x3 = arr_1d.reshape(3,3)"
   ]
  },
  {
   "cell_type": "code",
   "execution_count": 56,
   "id": "3b3dc64d",
   "metadata": {},
   "outputs": [
    {
     "name": "stdout",
     "output_type": "stream",
     "text": [
      "[0 1 2 3 4 5 6 7 8]\n",
      "[[0 1 2]\n",
      " [3 4 5]\n",
      " [6 7 8]]\n",
      "[[0 1 2]\n",
      " [3 4 5]\n",
      " [6 7 8]]\n",
      "[[0 1 2]\n",
      " [3 4 5]\n",
      " [6 7 8]]\n"
     ]
    }
   ],
   "source": [
    "# reshape 메소드 활용 예 1 : (3,3)인 2차원 배열 변환\n",
    "# 길이가 9인 1d-array객체 생성\n",
    "arr_1d = np.arange(9)\n",
    "print(arr_1d)\n",
    "\n",
    "# 행 길이가 3이고 열 길이가 3인 2d-array객체로 변환\n",
    "arr_2d_3x3 = arr_1d.reshape(3,3)\n",
    "print(arr_2d_3x3)\n",
    "\n",
    "# -1 이용해 2d-array객체로 변환\n",
    "# 행의 수를 3으로 지정하고 남은 차원(열)은 알아서 정함\n",
    "arr_2d_3xN = arr_1d.reshape(3,-1)\n",
    "print(arr_2d_3xN)\n",
    "\n",
    "# 열의 수를 3으로 지정하고 남은 차원(행)은 알아서 정함\n",
    "arr_2d_Nx3 = arr_1d.reshape(-1,3)\n",
    "print(arr_2d_Nx3)"
   ]
  },
  {
   "cell_type": "code",
   "execution_count": 57,
   "id": "cc1181a6",
   "metadata": {},
   "outputs": [
    {
     "name": "stdout",
     "output_type": "stream",
     "text": [
      "[[0 1 2]\n",
      " [3 4 5]\n",
      " [6 7 8]]\n",
      "[[0 1 2]\n",
      " [3 4 5]\n",
      " [6 7 8]]\n"
     ]
    }
   ],
   "source": [
    "# reshape 메소드 활용 예 2 : (3,3)인 2차원 배열 생성\n",
    "# 원소가 0~8이면서 (3,3)인 2d-array객체 생성\n",
    "# 방법1\n",
    "arr1 = np.array([[0, 1, 2],\n",
    "                 [3, 4, 5],\n",
    "                 [6, 7, 8]])\n",
    "print(arr1)\n",
    "\n",
    "# 방법2\n",
    "arr2 = np.arange(9).reshape(3,3)\n",
    "print(arr2)"
   ]
  },
  {
   "cell_type": "code",
   "execution_count": 58,
   "id": "3369e8cb",
   "metadata": {},
   "outputs": [
    {
     "name": "stdout",
     "output_type": "stream",
     "text": [
      "[[[ 0  1]\n",
      "  [ 2  3]]\n",
      "\n",
      " [[ 4  5]\n",
      "  [ 6  7]]\n",
      "\n",
      " [[ 8  9]\n",
      "  [10 11]]]\n",
      "[[[ 0  1]\n",
      "  [ 2  3]]\n",
      "\n",
      " [[ 4  5]\n",
      "  [ 6  7]]\n",
      "\n",
      " [[ 8  9]\n",
      "  [10 11]]]\n",
      "[[[ 0  1]\n",
      "  [ 2  3]]\n",
      "\n",
      " [[ 4  5]\n",
      "  [ 6  7]]\n",
      "\n",
      " [[ 8  9]\n",
      "  [10 11]]]\n"
     ]
    }
   ],
   "source": [
    "# reshape 메소드 활용 예 3 : (3,2,2)인 3차원 배열 생성\n",
    "# 원소가 0~11이면서 층이 3이고 행/열 길이가 2인 3d-array객체 생성\n",
    "# 방법1\n",
    "arr4 = np.arange(12).reshape(3,2,2)\n",
    "print(arr4)\n",
    "\n",
    "# 방법2\n",
    "arr5 = np.arange(12).reshape(3,2,-1) # 층 수 3, 행 수 2로 지정, 남은 차원(열) 자동\n",
    "print(arr5)\n",
    "\n",
    "# 방법3\n",
    "arr6 = np.arange(12).reshape(-1,2,2) # 행/열의 수는 2로 지정, 남은 차원(층) 자동\n",
    "print(arr6)"
   ]
  },
  {
   "cell_type": "code",
   "execution_count": 59,
   "id": "e6234225",
   "metadata": {},
   "outputs": [
    {
     "name": "stdout",
     "output_type": "stream",
     "text": [
      "[0 1 2 3 4 5 6 7 8]\n",
      "[ 0  1  2  3  4  5  6  7  8  9 10 11]\n"
     ]
    }
   ],
   "source": [
    "# 다차원 배열 객체를 1차원 배열로 변환(평탄화)\n",
    "\n",
    "# reshape 메소드를 활용\n",
    "# (3,3)인 2차원 배열을 길이가 9인 1차원 배열로 변환\n",
    "arr1_1d = arr1.reshape(9)\n",
    "print(arr1_1d)\n",
    "\n",
    "# (3,2,2)인 3차원 배열을 길이가 12인 1차원 배열로 변환\n",
    "arr4_1d = arr4.reshape(12)\n",
    "print(arr4_1d)"
   ]
  },
  {
   "cell_type": "code",
   "execution_count": 60,
   "id": "856d27e8",
   "metadata": {},
   "outputs": [
    {
     "name": "stdout",
     "output_type": "stream",
     "text": [
      "[0 1 2 3 4 5 6 7 8]\n",
      "[ 0  1  2  3  4  5  6  7  8  9 10 11]\n"
     ]
    }
   ],
   "source": [
    "# .ravel()\n",
    "# 다차원 배열 객체를 1차원으로 평탄화함\n",
    "\n",
    "arr2_1d = arr2.ravel() # 길이를 입력하지 않아도 됨\n",
    "print(arr2_1d)\n",
    "\n",
    "arr5_1d = arr5.ravel() # 길이를 입력하지 않아도 됨\n",
    "print(arr5_1d)"
   ]
  },
  {
   "cell_type": "code",
   "execution_count": 61,
   "id": "23943d8d",
   "metadata": {},
   "outputs": [
    {
     "name": "stdout",
     "output_type": "stream",
     "text": [
      "[ 0  1  2  3  4  5  6  7  8  9 10 11]\n",
      "[ 0  1  2  3  4  5  6  7  8  9 10 11]\n"
     ]
    }
   ],
   "source": [
    "# .flatten()\n",
    "# 다차원 배열 객체를 1차원으로 평탄화함\n",
    "arr4_1d = arr4.flatten() # 길이를 입력하지 않아도 됨\n",
    "print(arr4_1d)\n",
    "\n",
    "arr6_1d = arr6.flatten() # 길이를 입력하지 않아도 됨\n",
    "print(arr6_1d)"
   ]
  },
  {
   "cell_type": "code",
   "execution_count": 62,
   "id": "bbd12936",
   "metadata": {},
   "outputs": [
    {
     "name": "stdout",
     "output_type": "stream",
     "text": [
      "[[0 1]\n",
      " [2 3]\n",
      " [4 5]\n",
      " [6 7]]\n",
      "[[0 2 4 6]\n",
      " [1 3 5 7]]\n",
      "[[0 2 4 6]\n",
      " [1 3 5 7]]\n"
     ]
    }
   ],
   "source": [
    "# .transpose()\n",
    "# 배열의 축을 교환함\n",
    "arr_2d = np.arange(8).reshape(4,2)\n",
    "print(arr_2d)\n",
    "\n",
    "arr_2d_T = arr_2d.transpose() # 축 교환\n",
    "print(arr_2d_T)\n",
    "\n",
    "# .T 로도 바로 가능\n",
    "print(arr_2d.T)"
   ]
  },
  {
   "cell_type": "markdown",
   "id": "4762de32",
   "metadata": {},
   "source": [
    "#### 2. 통계 함수"
   ]
  },
  {
   "cell_type": "markdown",
   "id": "7776ef08",
   "metadata": {},
   "source": [
    "코드 없음"
   ]
  },
  {
   "cell_type": "markdown",
   "id": "91ba7599",
   "metadata": {},
   "source": [
    "----"
   ]
  }
 ],
 "metadata": {
  "hide_input": false,
  "kernelspec": {
   "display_name": "Python 3",
   "language": "python",
   "name": "python3"
  },
  "language_info": {
   "codemirror_mode": {
    "name": "ipython",
    "version": 3
   },
   "file_extension": ".py",
   "mimetype": "text/x-python",
   "name": "python",
   "nbconvert_exporter": "python",
   "pygments_lexer": "ipython3",
   "version": "3.8.8"
  },
  "toc": {
   "base_numbering": 1,
   "nav_menu": {},
   "number_sections": true,
   "sideBar": true,
   "skip_h1_title": false,
   "title_cell": "Table of Contents",
   "title_sidebar": "Contents",
   "toc_cell": false,
   "toc_position": {},
   "toc_section_display": true,
   "toc_window_display": false
  },
  "varInspector": {
   "cols": {
    "lenName": 16,
    "lenType": 16,
    "lenVar": 40
   },
   "kernels_config": {
    "python": {
     "delete_cmd_postfix": "",
     "delete_cmd_prefix": "del ",
     "library": "var_list.py",
     "varRefreshCmd": "print(var_dic_list())"
    },
    "r": {
     "delete_cmd_postfix": ") ",
     "delete_cmd_prefix": "rm(",
     "library": "var_list.r",
     "varRefreshCmd": "cat(var_dic_list()) "
    }
   },
   "position": {
    "height": "1263.85px",
    "left": "736.979px",
    "right": "20px",
    "top": "118.983px",
    "width": "350px"
   },
   "types_to_exclude": [
    "module",
    "function",
    "builtin_function_or_method",
    "instance",
    "_Feature"
   ],
   "window_display": false
  }
 },
 "nbformat": 4,
 "nbformat_minor": 5
}
