{
 "cells": [
  {
   "cell_type": "markdown",
   "id": "c65b1643",
   "metadata": {},
   "source": [
    "## PART 01) 데이터 다루기"
   ]
  },
  {
   "cell_type": "markdown",
   "id": "4e1be88e",
   "metadata": {},
   "source": [
    "## 4장. 데이터 결합 및 요약"
   ]
  },
  {
   "cell_type": "markdown",
   "id": "8e175d52",
   "metadata": {},
   "source": [
    "### 1절. 데이터 결합"
   ]
  },
  {
   "cell_type": "markdown",
   "id": "e213be23",
   "metadata": {},
   "source": [
    "#### 1. 데이터 붙이기"
   ]
  },
  {
   "cell_type": "code",
   "execution_count": 1,
   "id": "98c7f5d7",
   "metadata": {},
   "outputs": [
    {
     "name": "stdout",
     "output_type": "stream",
     "text": [
      "  student_id  score\n",
      "0         s1     55\n",
      "1         s2     90\n",
      "2         s3     85\n",
      "3         s4     71\n",
      "4         s5     63\n",
      "5         s6     99\n",
      "  student_id  score\n",
      "0         t1     65\n",
      "1         t2     99\n",
      "2         t3     87\n",
      "3         t4     75\n",
      "4         t5     57\n",
      "5         t6     88\n"
     ]
    }
   ],
   "source": [
    "import pandas as pd\n",
    "\n",
    "# 데이터프레임1 생성\n",
    "obj1 = {'student_id' : ['s1', 's2', 's3', 's4', 's5', 's6'],\n",
    "        'score' : [55, 90, 85, 71, 63, 99]}\n",
    "df1 = pd.DataFrame(obj1)\n",
    "print(df1)\n",
    "\n",
    "# 데이터프레임2 생성\n",
    "obj2 = {'student_id' : ['t1', 't2', 't3', 't4', 't5', 't6'],\n",
    "        'score' : [65, 99, 87, 75, 57, 88]}\n",
    "df2 = pd.DataFrame(obj2)\n",
    "print(df2)"
   ]
  },
  {
   "cell_type": "code",
   "execution_count": 2,
   "id": "bcd217c6",
   "metadata": {},
   "outputs": [
    {
     "data": {
      "text/html": [
       "<div>\n",
       "<style scoped>\n",
       "    .dataframe tbody tr th:only-of-type {\n",
       "        vertical-align: middle;\n",
       "    }\n",
       "\n",
       "    .dataframe tbody tr th {\n",
       "        vertical-align: top;\n",
       "    }\n",
       "\n",
       "    .dataframe thead th {\n",
       "        text-align: right;\n",
       "    }\n",
       "</style>\n",
       "<table border=\"1\" class=\"dataframe\">\n",
       "  <thead>\n",
       "    <tr style=\"text-align: right;\">\n",
       "      <th></th>\n",
       "      <th>student_id</th>\n",
       "      <th>score</th>\n",
       "    </tr>\n",
       "  </thead>\n",
       "  <tbody>\n",
       "    <tr>\n",
       "      <th>0</th>\n",
       "      <td>s1</td>\n",
       "      <td>55</td>\n",
       "    </tr>\n",
       "    <tr>\n",
       "      <th>1</th>\n",
       "      <td>s2</td>\n",
       "      <td>90</td>\n",
       "    </tr>\n",
       "    <tr>\n",
       "      <th>2</th>\n",
       "      <td>s3</td>\n",
       "      <td>85</td>\n",
       "    </tr>\n",
       "    <tr>\n",
       "      <th>3</th>\n",
       "      <td>s4</td>\n",
       "      <td>71</td>\n",
       "    </tr>\n",
       "    <tr>\n",
       "      <th>4</th>\n",
       "      <td>s5</td>\n",
       "      <td>63</td>\n",
       "    </tr>\n",
       "    <tr>\n",
       "      <th>5</th>\n",
       "      <td>s6</td>\n",
       "      <td>99</td>\n",
       "    </tr>\n",
       "    <tr>\n",
       "      <th>0</th>\n",
       "      <td>t1</td>\n",
       "      <td>65</td>\n",
       "    </tr>\n",
       "    <tr>\n",
       "      <th>1</th>\n",
       "      <td>t2</td>\n",
       "      <td>99</td>\n",
       "    </tr>\n",
       "    <tr>\n",
       "      <th>2</th>\n",
       "      <td>t3</td>\n",
       "      <td>87</td>\n",
       "    </tr>\n",
       "    <tr>\n",
       "      <th>3</th>\n",
       "      <td>t4</td>\n",
       "      <td>75</td>\n",
       "    </tr>\n",
       "    <tr>\n",
       "      <th>4</th>\n",
       "      <td>t5</td>\n",
       "      <td>57</td>\n",
       "    </tr>\n",
       "    <tr>\n",
       "      <th>5</th>\n",
       "      <td>t6</td>\n",
       "      <td>88</td>\n",
       "    </tr>\n",
       "  </tbody>\n",
       "</table>\n",
       "</div>"
      ],
      "text/plain": [
       "  student_id  score\n",
       "0         s1     55\n",
       "1         s2     90\n",
       "2         s3     85\n",
       "3         s4     71\n",
       "4         s5     63\n",
       "5         s6     99\n",
       "0         t1     65\n",
       "1         t2     99\n",
       "2         t3     87\n",
       "3         t4     75\n",
       "4         t5     57\n",
       "5         t6     88"
      ]
     },
     "execution_count": 2,
     "metadata": {},
     "output_type": "execute_result"
    }
   ],
   "source": [
    "# pandas.concat()\n",
    "# 두 데이터프레임을 행을 기준으로 붙임\n",
    "pd.concat([df1, df2])"
   ]
  },
  {
   "cell_type": "code",
   "execution_count": 3,
   "id": "44b6c12e",
   "metadata": {},
   "outputs": [
    {
     "data": {
      "text/html": [
       "<div>\n",
       "<style scoped>\n",
       "    .dataframe tbody tr th:only-of-type {\n",
       "        vertical-align: middle;\n",
       "    }\n",
       "\n",
       "    .dataframe tbody tr th {\n",
       "        vertical-align: top;\n",
       "    }\n",
       "\n",
       "    .dataframe thead th {\n",
       "        text-align: right;\n",
       "    }\n",
       "</style>\n",
       "<table border=\"1\" class=\"dataframe\">\n",
       "  <thead>\n",
       "    <tr style=\"text-align: right;\">\n",
       "      <th></th>\n",
       "      <th>student_id</th>\n",
       "      <th>score</th>\n",
       "      <th>student_id</th>\n",
       "      <th>score</th>\n",
       "    </tr>\n",
       "  </thead>\n",
       "  <tbody>\n",
       "    <tr>\n",
       "      <th>0</th>\n",
       "      <td>s1</td>\n",
       "      <td>55</td>\n",
       "      <td>t1</td>\n",
       "      <td>65</td>\n",
       "    </tr>\n",
       "    <tr>\n",
       "      <th>1</th>\n",
       "      <td>s2</td>\n",
       "      <td>90</td>\n",
       "      <td>t2</td>\n",
       "      <td>99</td>\n",
       "    </tr>\n",
       "    <tr>\n",
       "      <th>2</th>\n",
       "      <td>s3</td>\n",
       "      <td>85</td>\n",
       "      <td>t3</td>\n",
       "      <td>87</td>\n",
       "    </tr>\n",
       "    <tr>\n",
       "      <th>3</th>\n",
       "      <td>s4</td>\n",
       "      <td>71</td>\n",
       "      <td>t4</td>\n",
       "      <td>75</td>\n",
       "    </tr>\n",
       "    <tr>\n",
       "      <th>4</th>\n",
       "      <td>s5</td>\n",
       "      <td>63</td>\n",
       "      <td>t5</td>\n",
       "      <td>57</td>\n",
       "    </tr>\n",
       "    <tr>\n",
       "      <th>5</th>\n",
       "      <td>s6</td>\n",
       "      <td>99</td>\n",
       "      <td>t6</td>\n",
       "      <td>88</td>\n",
       "    </tr>\n",
       "  </tbody>\n",
       "</table>\n",
       "</div>"
      ],
      "text/plain": [
       "  student_id  score student_id  score\n",
       "0         s1     55         t1     65\n",
       "1         s2     90         t2     99\n",
       "2         s3     85         t3     87\n",
       "3         s4     71         t4     75\n",
       "4         s5     63         t5     57\n",
       "5         s6     99         t6     88"
      ]
     },
     "execution_count": 3,
     "metadata": {},
     "output_type": "execute_result"
    }
   ],
   "source": [
    "# 두 데이터프레임을 열을 기준으로 붙임\n",
    "pd.concat([df1, df2], axis = 1)"
   ]
  },
  {
   "cell_type": "markdown",
   "id": "7dacdae9",
   "metadata": {},
   "source": [
    "#### 2. 데이터 병합"
   ]
  },
  {
   "cell_type": "code",
   "execution_count": 4,
   "id": "e4a57e6d",
   "metadata": {},
   "outputs": [
    {
     "name": "stdout",
     "output_type": "stream",
     "text": [
      "  student_id  stat_score\n",
      "0         s3          85\n",
      "1         s4          71\n",
      "2         s5          63\n",
      "3         s6          99\n",
      "  student_id  math_score\n",
      "0         s1          65\n",
      "1         s2          99\n",
      "2         s3          87\n",
      "3         s4          75\n"
     ]
    }
   ],
   "source": [
    "import pandas as pd\n",
    "\n",
    "# 데이터프레임1 생성\n",
    "obj1 = {'student_id' : ['s3', 's4', 's5', 's6'],\n",
    "        'stat_score' : [85, 71, 63, 99]}\n",
    "df1 = pd.DataFrame(obj1)\n",
    "print(df1)\n",
    "\n",
    "# 데이터프레임2 생성\n",
    "obj2 = {'student_id' : ['s1', 's2', 's3', 's4'],\n",
    "        'math_score' : [65, 99, 87, 75]}\n",
    "df2 = pd.DataFrame(obj2)\n",
    "print(df2)"
   ]
  },
  {
   "cell_type": "code",
   "execution_count": 5,
   "id": "07a7f541",
   "metadata": {},
   "outputs": [
    {
     "data": {
      "text/html": [
       "<div>\n",
       "<style scoped>\n",
       "    .dataframe tbody tr th:only-of-type {\n",
       "        vertical-align: middle;\n",
       "    }\n",
       "\n",
       "    .dataframe tbody tr th {\n",
       "        vertical-align: top;\n",
       "    }\n",
       "\n",
       "    .dataframe thead th {\n",
       "        text-align: right;\n",
       "    }\n",
       "</style>\n",
       "<table border=\"1\" class=\"dataframe\">\n",
       "  <thead>\n",
       "    <tr style=\"text-align: right;\">\n",
       "      <th></th>\n",
       "      <th>student_id</th>\n",
       "      <th>stat_score</th>\n",
       "      <th>math_score</th>\n",
       "    </tr>\n",
       "  </thead>\n",
       "  <tbody>\n",
       "    <tr>\n",
       "      <th>0</th>\n",
       "      <td>s3</td>\n",
       "      <td>85</td>\n",
       "      <td>87</td>\n",
       "    </tr>\n",
       "    <tr>\n",
       "      <th>1</th>\n",
       "      <td>s4</td>\n",
       "      <td>71</td>\n",
       "      <td>75</td>\n",
       "    </tr>\n",
       "  </tbody>\n",
       "</table>\n",
       "</div>"
      ],
      "text/plain": [
       "  student_id  stat_score  math_score\n",
       "0         s3          85          87\n",
       "1         s4          71          75"
      ]
     },
     "execution_count": 5,
     "metadata": {},
     "output_type": "execute_result"
    }
   ],
   "source": [
    "# 데이터프레임객체.merge()\n",
    "# 두 데이터프레임 병합\n",
    "\n",
    "# Case1. 병합유형(how) : inner(default)\n",
    "# 두 데이터프레임의 공통 학생들의 점수만이 합쳐짐\n",
    "df1.merge(df2, on = 'student_id')"
   ]
  },
  {
   "cell_type": "code",
   "execution_count": 6,
   "id": "274ed072",
   "metadata": {},
   "outputs": [
    {
     "data": {
      "text/html": [
       "<div>\n",
       "<style scoped>\n",
       "    .dataframe tbody tr th:only-of-type {\n",
       "        vertical-align: middle;\n",
       "    }\n",
       "\n",
       "    .dataframe tbody tr th {\n",
       "        vertical-align: top;\n",
       "    }\n",
       "\n",
       "    .dataframe thead th {\n",
       "        text-align: right;\n",
       "    }\n",
       "</style>\n",
       "<table border=\"1\" class=\"dataframe\">\n",
       "  <thead>\n",
       "    <tr style=\"text-align: right;\">\n",
       "      <th></th>\n",
       "      <th>student_id</th>\n",
       "      <th>stat_score</th>\n",
       "      <th>math_score</th>\n",
       "    </tr>\n",
       "  </thead>\n",
       "  <tbody>\n",
       "    <tr>\n",
       "      <th>0</th>\n",
       "      <td>s3</td>\n",
       "      <td>85.0</td>\n",
       "      <td>87.0</td>\n",
       "    </tr>\n",
       "    <tr>\n",
       "      <th>1</th>\n",
       "      <td>s4</td>\n",
       "      <td>71.0</td>\n",
       "      <td>75.0</td>\n",
       "    </tr>\n",
       "    <tr>\n",
       "      <th>2</th>\n",
       "      <td>s5</td>\n",
       "      <td>63.0</td>\n",
       "      <td>NaN</td>\n",
       "    </tr>\n",
       "    <tr>\n",
       "      <th>3</th>\n",
       "      <td>s6</td>\n",
       "      <td>99.0</td>\n",
       "      <td>NaN</td>\n",
       "    </tr>\n",
       "    <tr>\n",
       "      <th>4</th>\n",
       "      <td>s1</td>\n",
       "      <td>NaN</td>\n",
       "      <td>65.0</td>\n",
       "    </tr>\n",
       "    <tr>\n",
       "      <th>5</th>\n",
       "      <td>s2</td>\n",
       "      <td>NaN</td>\n",
       "      <td>99.0</td>\n",
       "    </tr>\n",
       "  </tbody>\n",
       "</table>\n",
       "</div>"
      ],
      "text/plain": [
       "  student_id  stat_score  math_score\n",
       "0         s3        85.0        87.0\n",
       "1         s4        71.0        75.0\n",
       "2         s5        63.0         NaN\n",
       "3         s6        99.0         NaN\n",
       "4         s1         NaN        65.0\n",
       "5         s2         NaN        99.0"
      ]
     },
     "execution_count": 6,
     "metadata": {},
     "output_type": "execute_result"
    }
   ],
   "source": [
    "# Case2. 병합유형(how) : outer\n",
    "# 두 데이터프레임의 모든 학생들의 점수가 합쳐짐\n",
    "# 점수가 없는 과목은 NaN을 반환\n",
    "# 학생 순서는 왼쪽 데이터 프레임인(df1)에 있는 student_id 먼저 나옴\n",
    "df1.merge(df2, how = 'outer', on = 'student_id')"
   ]
  },
  {
   "cell_type": "code",
   "execution_count": 7,
   "id": "ff7be18d",
   "metadata": {},
   "outputs": [
    {
     "data": {
      "text/html": [
       "<div>\n",
       "<style scoped>\n",
       "    .dataframe tbody tr th:only-of-type {\n",
       "        vertical-align: middle;\n",
       "    }\n",
       "\n",
       "    .dataframe tbody tr th {\n",
       "        vertical-align: top;\n",
       "    }\n",
       "\n",
       "    .dataframe thead th {\n",
       "        text-align: right;\n",
       "    }\n",
       "</style>\n",
       "<table border=\"1\" class=\"dataframe\">\n",
       "  <thead>\n",
       "    <tr style=\"text-align: right;\">\n",
       "      <th></th>\n",
       "      <th>student_id</th>\n",
       "      <th>stat_score</th>\n",
       "      <th>math_score</th>\n",
       "    </tr>\n",
       "  </thead>\n",
       "  <tbody>\n",
       "    <tr>\n",
       "      <th>0</th>\n",
       "      <td>s3</td>\n",
       "      <td>85</td>\n",
       "      <td>87.0</td>\n",
       "    </tr>\n",
       "    <tr>\n",
       "      <th>1</th>\n",
       "      <td>s4</td>\n",
       "      <td>71</td>\n",
       "      <td>75.0</td>\n",
       "    </tr>\n",
       "    <tr>\n",
       "      <th>2</th>\n",
       "      <td>s5</td>\n",
       "      <td>63</td>\n",
       "      <td>NaN</td>\n",
       "    </tr>\n",
       "    <tr>\n",
       "      <th>3</th>\n",
       "      <td>s6</td>\n",
       "      <td>99</td>\n",
       "      <td>NaN</td>\n",
       "    </tr>\n",
       "  </tbody>\n",
       "</table>\n",
       "</div>"
      ],
      "text/plain": [
       "  student_id  stat_score  math_score\n",
       "0         s3          85        87.0\n",
       "1         s4          71        75.0\n",
       "2         s5          63         NaN\n",
       "3         s6          99         NaN"
      ]
     },
     "execution_count": 7,
     "metadata": {},
     "output_type": "execute_result"
    }
   ],
   "source": [
    "# Case3. 병합유형(how) : left\n",
    "# 왼쪽 데이터 프레임(df1)에 있는 학생들의 점수들만 반환\n",
    "# 점수가 없는 과목은 NaN을 반환\n",
    "df1.merge(df2, how = 'left', on = 'student_id')"
   ]
  },
  {
   "cell_type": "code",
   "execution_count": 8,
   "id": "1fcc7362",
   "metadata": {},
   "outputs": [
    {
     "data": {
      "text/html": [
       "<div>\n",
       "<style scoped>\n",
       "    .dataframe tbody tr th:only-of-type {\n",
       "        vertical-align: middle;\n",
       "    }\n",
       "\n",
       "    .dataframe tbody tr th {\n",
       "        vertical-align: top;\n",
       "    }\n",
       "\n",
       "    .dataframe thead th {\n",
       "        text-align: right;\n",
       "    }\n",
       "</style>\n",
       "<table border=\"1\" class=\"dataframe\">\n",
       "  <thead>\n",
       "    <tr style=\"text-align: right;\">\n",
       "      <th></th>\n",
       "      <th>student_id</th>\n",
       "      <th>stat_score</th>\n",
       "      <th>math_score</th>\n",
       "    </tr>\n",
       "  </thead>\n",
       "  <tbody>\n",
       "    <tr>\n",
       "      <th>0</th>\n",
       "      <td>s1</td>\n",
       "      <td>NaN</td>\n",
       "      <td>65</td>\n",
       "    </tr>\n",
       "    <tr>\n",
       "      <th>1</th>\n",
       "      <td>s2</td>\n",
       "      <td>NaN</td>\n",
       "      <td>99</td>\n",
       "    </tr>\n",
       "    <tr>\n",
       "      <th>2</th>\n",
       "      <td>s3</td>\n",
       "      <td>85.0</td>\n",
       "      <td>87</td>\n",
       "    </tr>\n",
       "    <tr>\n",
       "      <th>3</th>\n",
       "      <td>s4</td>\n",
       "      <td>71.0</td>\n",
       "      <td>75</td>\n",
       "    </tr>\n",
       "  </tbody>\n",
       "</table>\n",
       "</div>"
      ],
      "text/plain": [
       "  student_id  stat_score  math_score\n",
       "0         s1         NaN          65\n",
       "1         s2         NaN          99\n",
       "2         s3        85.0          87\n",
       "3         s4        71.0          75"
      ]
     },
     "execution_count": 8,
     "metadata": {},
     "output_type": "execute_result"
    }
   ],
   "source": [
    "# Case4. 병합유형(how) : right\n",
    "# 오른쪽 데이터 프레임(df2)에 있는 학생들의 점수들만 반환\n",
    "# 점수가 없는 과목은 NaN을 반환\n",
    "df1.merge(df2, how = 'right', on = 'student_id')"
   ]
  },
  {
   "cell_type": "markdown",
   "id": "add47b40",
   "metadata": {},
   "source": []
  },
  {
   "cell_type": "markdown",
   "id": "0d430d7c",
   "metadata": {},
   "source": [
    "### 2절. 데이터 요약"
   ]
  },
  {
   "cell_type": "markdown",
   "id": "8fc6ef1f",
   "metadata": {},
   "source": [
    "#### 1. 그룹별 통계 요약"
   ]
  },
  {
   "cell_type": "code",
   "execution_count": 9,
   "id": "b0c14e22",
   "metadata": {},
   "outputs": [
    {
     "name": "stdout",
     "output_type": "stream",
     "text": [
      "  student_id  stat_score  math_score     sex pre_level\n",
      "0         s1          55          65  Female         B\n",
      "1         s2          90          99    Male         A\n",
      "2         s3          85          87  Female         B\n",
      "3         s4          71          75  Female         B\n",
      "4         s5          63          57    Male         C\n",
      "5         s6          99          88    Male         A\n"
     ]
    }
   ],
   "source": [
    "# .groupby()\n",
    "\n",
    "# 데이터프레임 생성\n",
    "import pandas as pd\n",
    "obj = {'student_id' : ['s1', 's2', 's3', 's4', 's5', 's6'],\n",
    "        'stat_score' : [55, 90, 85, 71, 63, 99],\n",
    "        'math_score' : [65, 99, 87, 75, 57, 88],\n",
    "        'sex' : ['Female', 'Male', 'Female', 'Female', 'Male', 'Male'],\n",
    "        'pre_level' : ['B', 'A', 'B', 'B', 'C', 'A']\n",
    "       }\n",
    "df = pd.DataFrame(obj)\n",
    "print(df)"
   ]
  },
  {
   "cell_type": "code",
   "execution_count": 10,
   "id": "4db7cb10",
   "metadata": {},
   "outputs": [
    {
     "data": {
      "text/html": [
       "<div>\n",
       "<style scoped>\n",
       "    .dataframe tbody tr th:only-of-type {\n",
       "        vertical-align: middle;\n",
       "    }\n",
       "\n",
       "    .dataframe tbody tr th {\n",
       "        vertical-align: top;\n",
       "    }\n",
       "\n",
       "    .dataframe thead th {\n",
       "        text-align: right;\n",
       "    }\n",
       "</style>\n",
       "<table border=\"1\" class=\"dataframe\">\n",
       "  <thead>\n",
       "    <tr style=\"text-align: right;\">\n",
       "      <th></th>\n",
       "      <th>stat_score</th>\n",
       "      <th>math_score</th>\n",
       "    </tr>\n",
       "    <tr>\n",
       "      <th>sex</th>\n",
       "      <th></th>\n",
       "      <th></th>\n",
       "    </tr>\n",
       "  </thead>\n",
       "  <tbody>\n",
       "    <tr>\n",
       "      <th>Female</th>\n",
       "      <td>70.333333</td>\n",
       "      <td>75.666667</td>\n",
       "    </tr>\n",
       "    <tr>\n",
       "      <th>Male</th>\n",
       "      <td>84.000000</td>\n",
       "      <td>81.333333</td>\n",
       "    </tr>\n",
       "  </tbody>\n",
       "</table>\n",
       "</div>"
      ],
      "text/plain": [
       "        stat_score  math_score\n",
       "sex                           \n",
       "Female   70.333333   75.666667\n",
       "Male     84.000000   81.333333"
      ]
     },
     "execution_count": 10,
     "metadata": {},
     "output_type": "execute_result"
    }
   ],
   "source": [
    "# 그룹화한 후 데이터프레임 메소드 mean()을 통해 그룹화 평균 계산 가능\n",
    "df.groupby('sex').mean()"
   ]
  },
  {
   "cell_type": "code",
   "execution_count": 13,
   "id": "c3d5d904",
   "metadata": {},
   "outputs": [
    {
     "data": {
      "text/html": [
       "<div>\n",
       "<style scoped>\n",
       "    .dataframe tbody tr th:only-of-type {\n",
       "        vertical-align: middle;\n",
       "    }\n",
       "\n",
       "    .dataframe tbody tr th {\n",
       "        vertical-align: top;\n",
       "    }\n",
       "\n",
       "    .dataframe thead th {\n",
       "        text-align: right;\n",
       "    }\n",
       "</style>\n",
       "<table border=\"1\" class=\"dataframe\">\n",
       "  <thead>\n",
       "    <tr style=\"text-align: right;\">\n",
       "      <th></th>\n",
       "      <th>sex</th>\n",
       "      <th>stat_score</th>\n",
       "      <th>math_score</th>\n",
       "    </tr>\n",
       "  </thead>\n",
       "  <tbody>\n",
       "    <tr>\n",
       "      <th>0</th>\n",
       "      <td>Female</td>\n",
       "      <td>70.333333</td>\n",
       "      <td>75.666667</td>\n",
       "    </tr>\n",
       "    <tr>\n",
       "      <th>1</th>\n",
       "      <td>Male</td>\n",
       "      <td>84.000000</td>\n",
       "      <td>81.333333</td>\n",
       "    </tr>\n",
       "  </tbody>\n",
       "</table>\n",
       "</div>"
      ],
      "text/plain": [
       "      sex  stat_score  math_score\n",
       "0  Female   70.333333   75.666667\n",
       "1    Male   84.000000   81.333333"
      ]
     },
     "execution_count": 13,
     "metadata": {},
     "output_type": "execute_result"
    }
   ],
   "source": [
    "# 옵션 as_index = False\n",
    "# 행인덱스로 행위치 인덱스 번호를 사용함\n",
    "df.groupby('sex', as_index = False).mean()"
   ]
  },
  {
   "cell_type": "code",
   "execution_count": 11,
   "id": "a4a6dd54",
   "metadata": {},
   "outputs": [
    {
     "data": {
      "text/html": [
       "<div>\n",
       "<style scoped>\n",
       "    .dataframe tbody tr th:only-of-type {\n",
       "        vertical-align: middle;\n",
       "    }\n",
       "\n",
       "    .dataframe tbody tr th {\n",
       "        vertical-align: top;\n",
       "    }\n",
       "\n",
       "    .dataframe thead th {\n",
       "        text-align: right;\n",
       "    }\n",
       "</style>\n",
       "<table border=\"1\" class=\"dataframe\">\n",
       "  <thead>\n",
       "    <tr style=\"text-align: right;\">\n",
       "      <th></th>\n",
       "      <th>sex</th>\n",
       "      <th>pre_level</th>\n",
       "      <th>stat_score</th>\n",
       "      <th>math_score</th>\n",
       "    </tr>\n",
       "  </thead>\n",
       "  <tbody>\n",
       "    <tr>\n",
       "      <th>0</th>\n",
       "      <td>Female</td>\n",
       "      <td>B</td>\n",
       "      <td>70.333333</td>\n",
       "      <td>75.666667</td>\n",
       "    </tr>\n",
       "    <tr>\n",
       "      <th>1</th>\n",
       "      <td>Male</td>\n",
       "      <td>A</td>\n",
       "      <td>94.500000</td>\n",
       "      <td>93.500000</td>\n",
       "    </tr>\n",
       "    <tr>\n",
       "      <th>2</th>\n",
       "      <td>Male</td>\n",
       "      <td>C</td>\n",
       "      <td>63.000000</td>\n",
       "      <td>57.000000</td>\n",
       "    </tr>\n",
       "  </tbody>\n",
       "</table>\n",
       "</div>"
      ],
      "text/plain": [
       "      sex pre_level  stat_score  math_score\n",
       "0  Female         B   70.333333   75.666667\n",
       "1    Male         A   94.500000   93.500000\n",
       "2    Male         C   63.000000   57.000000"
      ]
     },
     "execution_count": 11,
     "metadata": {},
     "output_type": "execute_result"
    }
   ],
   "source": [
    "# 여러 열을 기준으로 그룹화하는 방법은 컬럼명을 담은 리스트를 사용\n",
    "df.groupby(['sex', 'pre_level'], as_index = False).mean()"
   ]
  },
  {
   "cell_type": "code",
   "execution_count": 12,
   "id": "741bb77d",
   "metadata": {},
   "outputs": [
    {
     "data": {
      "text/html": [
       "<div>\n",
       "<style scoped>\n",
       "    .dataframe tbody tr th:only-of-type {\n",
       "        vertical-align: middle;\n",
       "    }\n",
       "\n",
       "    .dataframe tbody tr th {\n",
       "        vertical-align: top;\n",
       "    }\n",
       "\n",
       "    .dataframe thead tr th {\n",
       "        text-align: left;\n",
       "    }\n",
       "</style>\n",
       "<table border=\"1\" class=\"dataframe\">\n",
       "  <thead>\n",
       "    <tr>\n",
       "      <th></th>\n",
       "      <th colspan=\"8\" halign=\"left\">stat_score</th>\n",
       "      <th colspan=\"8\" halign=\"left\">math_score</th>\n",
       "    </tr>\n",
       "    <tr>\n",
       "      <th></th>\n",
       "      <th>count</th>\n",
       "      <th>mean</th>\n",
       "      <th>std</th>\n",
       "      <th>min</th>\n",
       "      <th>25%</th>\n",
       "      <th>50%</th>\n",
       "      <th>75%</th>\n",
       "      <th>max</th>\n",
       "      <th>count</th>\n",
       "      <th>mean</th>\n",
       "      <th>std</th>\n",
       "      <th>min</th>\n",
       "      <th>25%</th>\n",
       "      <th>50%</th>\n",
       "      <th>75%</th>\n",
       "      <th>max</th>\n",
       "    </tr>\n",
       "  </thead>\n",
       "  <tbody>\n",
       "    <tr>\n",
       "      <th>0</th>\n",
       "      <td>3.0</td>\n",
       "      <td>70.333333</td>\n",
       "      <td>15.011107</td>\n",
       "      <td>55.0</td>\n",
       "      <td>63.0</td>\n",
       "      <td>71.0</td>\n",
       "      <td>78.0</td>\n",
       "      <td>85.0</td>\n",
       "      <td>3.0</td>\n",
       "      <td>75.666667</td>\n",
       "      <td>11.015141</td>\n",
       "      <td>65.0</td>\n",
       "      <td>70.0</td>\n",
       "      <td>75.0</td>\n",
       "      <td>81.0</td>\n",
       "      <td>87.0</td>\n",
       "    </tr>\n",
       "    <tr>\n",
       "      <th>1</th>\n",
       "      <td>3.0</td>\n",
       "      <td>84.000000</td>\n",
       "      <td>18.734994</td>\n",
       "      <td>63.0</td>\n",
       "      <td>76.5</td>\n",
       "      <td>90.0</td>\n",
       "      <td>94.5</td>\n",
       "      <td>99.0</td>\n",
       "      <td>3.0</td>\n",
       "      <td>81.333333</td>\n",
       "      <td>21.779195</td>\n",
       "      <td>57.0</td>\n",
       "      <td>72.5</td>\n",
       "      <td>88.0</td>\n",
       "      <td>93.5</td>\n",
       "      <td>99.0</td>\n",
       "    </tr>\n",
       "  </tbody>\n",
       "</table>\n",
       "</div>"
      ],
      "text/plain": [
       "  stat_score                                                     math_score  \\\n",
       "       count       mean        std   min   25%   50%   75%   max      count   \n",
       "0        3.0  70.333333  15.011107  55.0  63.0  71.0  78.0  85.0        3.0   \n",
       "1        3.0  84.000000  18.734994  63.0  76.5  90.0  94.5  99.0        3.0   \n",
       "\n",
       "                                                       \n",
       "        mean        std   min   25%   50%   75%   max  \n",
       "0  75.666667  11.015141  65.0  70.0  75.0  81.0  87.0  \n",
       "1  81.333333  21.779195  57.0  72.5  88.0  93.5  99.0  "
      ]
     },
     "execution_count": 12,
     "metadata": {},
     "output_type": "execute_result"
    }
   ],
   "source": [
    "# describe() 메소드는 여러 종류의 특정한 통계량들을 제공\n",
    "df.groupby('sex', as_index = False).describe()"
   ]
  },
  {
   "cell_type": "code",
   "execution_count": 13,
   "id": "5e48349f",
   "metadata": {},
   "outputs": [
    {
     "name": "stderr",
     "output_type": "stream",
     "text": [
      "<ipython-input-13-0e238a6a0aa6>:4: FutureWarning: ['student_id', 'pre_level'] did not aggregate successfully. If any error is raised this will raise in a future version of pandas. Drop these columns/ops to avoid this warning.\n",
      "  df.groupby('sex').agg([np.mean, sum])\n"
     ]
    },
    {
     "data": {
      "text/html": [
       "<div>\n",
       "<style scoped>\n",
       "    .dataframe tbody tr th:only-of-type {\n",
       "        vertical-align: middle;\n",
       "    }\n",
       "\n",
       "    .dataframe tbody tr th {\n",
       "        vertical-align: top;\n",
       "    }\n",
       "\n",
       "    .dataframe thead tr th {\n",
       "        text-align: left;\n",
       "    }\n",
       "\n",
       "    .dataframe thead tr:last-of-type th {\n",
       "        text-align: right;\n",
       "    }\n",
       "</style>\n",
       "<table border=\"1\" class=\"dataframe\">\n",
       "  <thead>\n",
       "    <tr>\n",
       "      <th></th>\n",
       "      <th colspan=\"2\" halign=\"left\">stat_score</th>\n",
       "      <th colspan=\"2\" halign=\"left\">math_score</th>\n",
       "    </tr>\n",
       "    <tr>\n",
       "      <th></th>\n",
       "      <th>mean</th>\n",
       "      <th>sum</th>\n",
       "      <th>mean</th>\n",
       "      <th>sum</th>\n",
       "    </tr>\n",
       "    <tr>\n",
       "      <th>sex</th>\n",
       "      <th></th>\n",
       "      <th></th>\n",
       "      <th></th>\n",
       "      <th></th>\n",
       "    </tr>\n",
       "  </thead>\n",
       "  <tbody>\n",
       "    <tr>\n",
       "      <th>Female</th>\n",
       "      <td>70.333333</td>\n",
       "      <td>211</td>\n",
       "      <td>75.666667</td>\n",
       "      <td>227</td>\n",
       "    </tr>\n",
       "    <tr>\n",
       "      <th>Male</th>\n",
       "      <td>84.000000</td>\n",
       "      <td>252</td>\n",
       "      <td>81.333333</td>\n",
       "      <td>244</td>\n",
       "    </tr>\n",
       "  </tbody>\n",
       "</table>\n",
       "</div>"
      ],
      "text/plain": [
       "       stat_score      math_score     \n",
       "             mean  sum       mean  sum\n",
       "sex                                   \n",
       "Female  70.333333  211  75.666667  227\n",
       "Male    84.000000  252  81.333333  244"
      ]
     },
     "execution_count": 13,
     "metadata": {},
     "output_type": "execute_result"
    }
   ],
   "source": [
    "# .agg\n",
    "# 동시에 원하는 여러 통계량\n",
    "import numpy as np\n",
    "df.groupby('sex').agg([np.mean, sum])"
   ]
  },
  {
   "cell_type": "code",
   "execution_count": 14,
   "id": "0abc77cd",
   "metadata": {},
   "outputs": [
    {
     "data": {
      "text/html": [
       "<div>\n",
       "<style scoped>\n",
       "    .dataframe tbody tr th:only-of-type {\n",
       "        vertical-align: middle;\n",
       "    }\n",
       "\n",
       "    .dataframe tbody tr th {\n",
       "        vertical-align: top;\n",
       "    }\n",
       "\n",
       "    .dataframe thead th {\n",
       "        text-align: right;\n",
       "    }\n",
       "</style>\n",
       "<table border=\"1\" class=\"dataframe\">\n",
       "  <thead>\n",
       "    <tr style=\"text-align: right;\">\n",
       "      <th></th>\n",
       "      <th>sex</th>\n",
       "      <th>stat_score</th>\n",
       "      <th>math_score</th>\n",
       "    </tr>\n",
       "  </thead>\n",
       "  <tbody>\n",
       "    <tr>\n",
       "      <th>0</th>\n",
       "      <td>Female</td>\n",
       "      <td>70.333333</td>\n",
       "      <td>227</td>\n",
       "    </tr>\n",
       "    <tr>\n",
       "      <th>1</th>\n",
       "      <td>Male</td>\n",
       "      <td>84.000000</td>\n",
       "      <td>244</td>\n",
       "    </tr>\n",
       "  </tbody>\n",
       "</table>\n",
       "</div>"
      ],
      "text/plain": [
       "      sex  stat_score  math_score\n",
       "0  Female   70.333333         227\n",
       "1    Male   84.000000         244"
      ]
     },
     "execution_count": 14,
     "metadata": {},
     "output_type": "execute_result"
    }
   ],
   "source": [
    "# 컬럼별로 상이한 통계량\n",
    "df.groupby('sex', as_index = False).agg({'stat_score' : np.mean,'math_score' : sum})"
   ]
  },
  {
   "cell_type": "code",
   "execution_count": 15,
   "id": "2dcc8f75",
   "metadata": {},
   "outputs": [
    {
     "data": {
      "text/html": [
       "<div>\n",
       "<style scoped>\n",
       "    .dataframe tbody tr th:only-of-type {\n",
       "        vertical-align: middle;\n",
       "    }\n",
       "\n",
       "    .dataframe tbody tr th {\n",
       "        vertical-align: top;\n",
       "    }\n",
       "\n",
       "    .dataframe thead tr th {\n",
       "        text-align: left;\n",
       "    }\n",
       "</style>\n",
       "<table border=\"1\" class=\"dataframe\">\n",
       "  <thead>\n",
       "    <tr>\n",
       "      <th></th>\n",
       "      <th>sex</th>\n",
       "      <th colspan=\"2\" halign=\"left\">stat_score</th>\n",
       "      <th colspan=\"2\" halign=\"left\">math_score</th>\n",
       "    </tr>\n",
       "    <tr>\n",
       "      <th></th>\n",
       "      <th></th>\n",
       "      <th>mean</th>\n",
       "      <th>median</th>\n",
       "      <th>sum</th>\n",
       "      <th>max</th>\n",
       "    </tr>\n",
       "  </thead>\n",
       "  <tbody>\n",
       "    <tr>\n",
       "      <th>0</th>\n",
       "      <td>Female</td>\n",
       "      <td>70.333333</td>\n",
       "      <td>71.0</td>\n",
       "      <td>227</td>\n",
       "      <td>87</td>\n",
       "    </tr>\n",
       "    <tr>\n",
       "      <th>1</th>\n",
       "      <td>Male</td>\n",
       "      <td>84.000000</td>\n",
       "      <td>90.0</td>\n",
       "      <td>244</td>\n",
       "      <td>99</td>\n",
       "    </tr>\n",
       "  </tbody>\n",
       "</table>\n",
       "</div>"
      ],
      "text/plain": [
       "      sex stat_score        math_score    \n",
       "                mean median        sum max\n",
       "0  Female  70.333333   71.0        227  87\n",
       "1    Male  84.000000   90.0        244  99"
      ]
     },
     "execution_count": 15,
     "metadata": {},
     "output_type": "execute_result"
    }
   ],
   "source": [
    "df.groupby('sex', as_index = False).agg({'stat_score' : [np.mean, np.median],\n",
    "                                         'math_score' : [sum, max]})"
   ]
  },
  {
   "cell_type": "markdown",
   "id": "0e6b2081",
   "metadata": {},
   "source": [
    "#### 2. 데이터에 함수 적용하기"
   ]
  },
  {
   "cell_type": "markdown",
   "id": "75666628",
   "metadata": {},
   "source": [
    "##### 가. 시리즈에 함수 적용하기"
   ]
  },
  {
   "cell_type": "code",
   "execution_count": 16,
   "id": "0dc2b584",
   "metadata": {
    "scrolled": true
   },
   "outputs": [
    {
     "name": "stdout",
     "output_type": "stream",
     "text": [
      "  student_id  stat_score  math_score     sex pre_level\n",
      "0         s1          55          65  Female         B\n",
      "1         s2          90          99    Male         A\n",
      "2         s3          85          87  Female         B\n",
      "3         s4          71          75  Female         B\n",
      "4         s5          63          57    Male         C\n",
      "5         s6          99          88    Male         A\n"
     ]
    }
   ],
   "source": [
    "import pandas as pd\n",
    "\n",
    "# 데이터프레임 생성\n",
    "obj = {'student_id' : ['s1', 's2', 's3', 's4', 's5', 's6'],\n",
    "        'stat_score' : [55, 90, 85, 71, 63, 99],\n",
    "        'math_score' : [65, 99, 87, 75, 57, 88],\n",
    "        'sex' : ['Female', 'Male', 'Female', 'Female', 'Male', 'Male'],\n",
    "        'pre_level' : ['B', 'A', 'B', 'B', 'C', 'A']\n",
    "       }\n",
    "df = pd.DataFrame(obj)\n",
    "print(df)"
   ]
  },
  {
   "cell_type": "code",
   "execution_count": 17,
   "id": "b8b782c2",
   "metadata": {},
   "outputs": [
    {
     "data": {
      "text/plain": [
       "0    1\n",
       "1    0\n",
       "2    1\n",
       "3    1\n",
       "4    2\n",
       "5    0\n",
       "Name: pre_level, dtype: int64"
      ]
     },
     "execution_count": 17,
     "metadata": {},
     "output_type": "execute_result"
    }
   ],
   "source": [
    "# pre_level 컬럼 라벨인코딩\n",
    "df['pre_level'].map({'A' : 0, 'B' : 1, 'C' : 2})"
   ]
  },
  {
   "cell_type": "code",
   "execution_count": 18,
   "id": "f87a3847",
   "metadata": {},
   "outputs": [
    {
     "data": {
      "text/plain": [
       "0    여자\n",
       "1    남자\n",
       "2    여자\n",
       "3    여자\n",
       "4    남자\n",
       "5    남자\n",
       "Name: sex, dtype: object"
      ]
     },
     "execution_count": 18,
     "metadata": {},
     "output_type": "execute_result"
    }
   ],
   "source": [
    "# sex 컬럼의 요소를 한글로 변경\n",
    "df['sex'].map({'Female' : '여자', 'Male' : '남자'})"
   ]
  },
  {
   "cell_type": "code",
   "execution_count": 19,
   "id": "5c2305eb",
   "metadata": {
    "scrolled": true
   },
   "outputs": [
    {
     "data": {
      "text/plain": [
       "0   -1865\n",
       "1    3280\n",
       "2    2395\n",
       "3     183\n",
       "4    -905\n",
       "5    4999\n",
       "Name: stat_score, dtype: int64"
      ]
     },
     "execution_count": 19,
     "metadata": {},
     "output_type": "execute_result"
    }
   ],
   "source": [
    "# 시리즈에 사용자 정의 함수 적용\n",
    "def f(x) :\n",
    "    return x ** 2 + 2*x - 5000  # 각 요소에 적용할 함수\n",
    "\n",
    "df['stat_score'].map(f)"
   ]
  },
  {
   "cell_type": "markdown",
   "id": "45811774",
   "metadata": {},
   "source": [
    "##### 나. 데이터프레임에 함수 적용하기"
   ]
  },
  {
   "cell_type": "code",
   "execution_count": 20,
   "id": "34a8e2b8",
   "metadata": {},
   "outputs": [
    {
     "data": {
      "text/plain": [
       "stat_score    463\n",
       "math_score    471\n",
       "dtype: int64"
      ]
     },
     "execution_count": 20,
     "metadata": {},
     "output_type": "execute_result"
    }
   ],
   "source": [
    "# .apply\n",
    "df[['stat_score', 'math_score']].apply(np.sum)"
   ]
  },
  {
   "cell_type": "code",
   "execution_count": 21,
   "id": "81711983",
   "metadata": {},
   "outputs": [
    {
     "data": {
      "text/plain": [
       "0    120\n",
       "1    189\n",
       "2    172\n",
       "3    146\n",
       "4    120\n",
       "5    187\n",
       "dtype: int64"
      ]
     },
     "execution_count": 21,
     "metadata": {},
     "output_type": "execute_result"
    }
   ],
   "source": [
    "df[['stat_score', 'math_score']].apply(np.sum, axis = 1)"
   ]
  },
  {
   "cell_type": "code",
   "execution_count": 22,
   "id": "7fa25eb8",
   "metadata": {},
   "outputs": [
    {
     "data": {
      "text/plain": [
       "stat_score    463\n",
       "math_score    471\n",
       "dtype: int64"
      ]
     },
     "execution_count": 22,
     "metadata": {},
     "output_type": "execute_result"
    }
   ],
   "source": [
    "# apply 메소드 없이도 가능\n",
    "df[['stat_score', 'math_score']].sum()"
   ]
  },
  {
   "cell_type": "code",
   "execution_count": 23,
   "id": "124d87b1",
   "metadata": {},
   "outputs": [
    {
     "data": {
      "text/plain": [
       "0    120\n",
       "1    189\n",
       "2    172\n",
       "3    146\n",
       "4    120\n",
       "5    187\n",
       "dtype: int64"
      ]
     },
     "execution_count": 23,
     "metadata": {},
     "output_type": "execute_result"
    }
   ],
   "source": [
    "df[['stat_score', 'math_score']].sum(axis = 1)"
   ]
  },
  {
   "cell_type": "markdown",
   "id": "ec23006d",
   "metadata": {},
   "source": [
    "-----"
   ]
  },
  {
   "cell_type": "markdown",
   "id": "3165d786",
   "metadata": {},
   "source": [
    "## 5장. 결측치와 이상치"
   ]
  },
  {
   "cell_type": "markdown",
   "id": "d6439e64",
   "metadata": {},
   "source": [
    "### 1절. 결측치"
   ]
  },
  {
   "cell_type": "markdown",
   "id": "c7dcfe21",
   "metadata": {},
   "source": [
    "#### 1. 결측치 인식"
   ]
  },
  {
   "cell_type": "code",
   "execution_count": 24,
   "id": "6d4786af",
   "metadata": {},
   "outputs": [
    {
     "data": {
      "text/html": [
       "<div>\n",
       "<style scoped>\n",
       "    .dataframe tbody tr th:only-of-type {\n",
       "        vertical-align: middle;\n",
       "    }\n",
       "\n",
       "    .dataframe tbody tr th {\n",
       "        vertical-align: top;\n",
       "    }\n",
       "\n",
       "    .dataframe thead th {\n",
       "        text-align: right;\n",
       "    }\n",
       "</style>\n",
       "<table border=\"1\" class=\"dataframe\">\n",
       "  <thead>\n",
       "    <tr style=\"text-align: right;\">\n",
       "      <th></th>\n",
       "      <th>student_id</th>\n",
       "      <th>stat_score</th>\n",
       "      <th>math_score</th>\n",
       "      <th>sex</th>\n",
       "      <th>pre_level</th>\n",
       "    </tr>\n",
       "  </thead>\n",
       "  <tbody>\n",
       "    <tr>\n",
       "      <th>0</th>\n",
       "      <td>s1</td>\n",
       "      <td>NaN</td>\n",
       "      <td>65.0</td>\n",
       "      <td>Female</td>\n",
       "      <td>B</td>\n",
       "    </tr>\n",
       "    <tr>\n",
       "      <th>1</th>\n",
       "      <td>s2</td>\n",
       "      <td>90.0</td>\n",
       "      <td>NaN</td>\n",
       "      <td>Male</td>\n",
       "      <td>A</td>\n",
       "    </tr>\n",
       "    <tr>\n",
       "      <th>2</th>\n",
       "      <td>s3</td>\n",
       "      <td>85.0</td>\n",
       "      <td>87.0</td>\n",
       "      <td>Female</td>\n",
       "      <td>B</td>\n",
       "    </tr>\n",
       "    <tr>\n",
       "      <th>3</th>\n",
       "      <td>s4</td>\n",
       "      <td>71.0</td>\n",
       "      <td>75.0</td>\n",
       "      <td>None</td>\n",
       "      <td>B</td>\n",
       "    </tr>\n",
       "    <tr>\n",
       "      <th>4</th>\n",
       "      <td>s5</td>\n",
       "      <td>63.0</td>\n",
       "      <td>57.0</td>\n",
       "      <td>Male</td>\n",
       "      <td>C</td>\n",
       "    </tr>\n",
       "    <tr>\n",
       "      <th>5</th>\n",
       "      <td>s6</td>\n",
       "      <td>NaN</td>\n",
       "      <td>88.0</td>\n",
       "      <td>Male</td>\n",
       "      <td>None</td>\n",
       "    </tr>\n",
       "  </tbody>\n",
       "</table>\n",
       "</div>"
      ],
      "text/plain": [
       "  student_id  stat_score  math_score     sex pre_level\n",
       "0         s1         NaN        65.0  Female         B\n",
       "1         s2        90.0         NaN    Male         A\n",
       "2         s3        85.0        87.0  Female         B\n",
       "3         s4        71.0        75.0    None         B\n",
       "4         s5        63.0        57.0    Male         C\n",
       "5         s6         NaN        88.0    Male      None"
      ]
     },
     "execution_count": 24,
     "metadata": {},
     "output_type": "execute_result"
    }
   ],
   "source": [
    "# 결측치가 포함되도록 데이터프레임 생성\n",
    "obj = {'student_id' : ['s1', 's2', 's3', 's4', 's5', 's6'],\n",
    "        'stat_score' : [None, 90, 85, 71, 63, None],\n",
    "        'math_score' : [65, None, 87, 75, 57, 88],\n",
    "        'sex' : ['Female', 'Male', 'Female', None, 'Male', 'Male'],\n",
    "        'pre_level' : ['B', 'A', 'B', 'B', 'C', None]\n",
    "       }\n",
    "df = pd.DataFrame(obj)\n",
    "df "
   ]
  },
  {
   "cell_type": "code",
   "execution_count": 25,
   "id": "7a3b4304",
   "metadata": {},
   "outputs": [
    {
     "data": {
      "text/html": [
       "<div>\n",
       "<style scoped>\n",
       "    .dataframe tbody tr th:only-of-type {\n",
       "        vertical-align: middle;\n",
       "    }\n",
       "\n",
       "    .dataframe tbody tr th {\n",
       "        vertical-align: top;\n",
       "    }\n",
       "\n",
       "    .dataframe thead th {\n",
       "        text-align: right;\n",
       "    }\n",
       "</style>\n",
       "<table border=\"1\" class=\"dataframe\">\n",
       "  <thead>\n",
       "    <tr style=\"text-align: right;\">\n",
       "      <th></th>\n",
       "      <th>student_id</th>\n",
       "      <th>stat_score</th>\n",
       "      <th>math_score</th>\n",
       "      <th>sex</th>\n",
       "      <th>pre_level</th>\n",
       "    </tr>\n",
       "  </thead>\n",
       "  <tbody>\n",
       "    <tr>\n",
       "      <th>0</th>\n",
       "      <td>False</td>\n",
       "      <td>True</td>\n",
       "      <td>False</td>\n",
       "      <td>False</td>\n",
       "      <td>False</td>\n",
       "    </tr>\n",
       "    <tr>\n",
       "      <th>1</th>\n",
       "      <td>False</td>\n",
       "      <td>False</td>\n",
       "      <td>True</td>\n",
       "      <td>False</td>\n",
       "      <td>False</td>\n",
       "    </tr>\n",
       "    <tr>\n",
       "      <th>2</th>\n",
       "      <td>False</td>\n",
       "      <td>False</td>\n",
       "      <td>False</td>\n",
       "      <td>False</td>\n",
       "      <td>False</td>\n",
       "    </tr>\n",
       "    <tr>\n",
       "      <th>3</th>\n",
       "      <td>False</td>\n",
       "      <td>False</td>\n",
       "      <td>False</td>\n",
       "      <td>True</td>\n",
       "      <td>False</td>\n",
       "    </tr>\n",
       "    <tr>\n",
       "      <th>4</th>\n",
       "      <td>False</td>\n",
       "      <td>False</td>\n",
       "      <td>False</td>\n",
       "      <td>False</td>\n",
       "      <td>False</td>\n",
       "    </tr>\n",
       "    <tr>\n",
       "      <th>5</th>\n",
       "      <td>False</td>\n",
       "      <td>True</td>\n",
       "      <td>False</td>\n",
       "      <td>False</td>\n",
       "      <td>True</td>\n",
       "    </tr>\n",
       "  </tbody>\n",
       "</table>\n",
       "</div>"
      ],
      "text/plain": [
       "   student_id  stat_score  math_score    sex  pre_level\n",
       "0       False        True       False  False      False\n",
       "1       False       False        True  False      False\n",
       "2       False       False       False  False      False\n",
       "3       False       False       False   True      False\n",
       "4       False       False       False  False      False\n",
       "5       False        True       False  False       True"
      ]
     },
     "execution_count": 25,
     "metadata": {},
     "output_type": "execute_result"
    }
   ],
   "source": [
    "# .isnull() : 결측치 여부 확인\n",
    "df.isnull()"
   ]
  },
  {
   "cell_type": "code",
   "execution_count": 26,
   "id": "73576fd2",
   "metadata": {},
   "outputs": [
    {
     "data": {
      "text/html": [
       "<div>\n",
       "<style scoped>\n",
       "    .dataframe tbody tr th:only-of-type {\n",
       "        vertical-align: middle;\n",
       "    }\n",
       "\n",
       "    .dataframe tbody tr th {\n",
       "        vertical-align: top;\n",
       "    }\n",
       "\n",
       "    .dataframe thead th {\n",
       "        text-align: right;\n",
       "    }\n",
       "</style>\n",
       "<table border=\"1\" class=\"dataframe\">\n",
       "  <thead>\n",
       "    <tr style=\"text-align: right;\">\n",
       "      <th></th>\n",
       "      <th>student_id</th>\n",
       "      <th>stat_score</th>\n",
       "      <th>math_score</th>\n",
       "      <th>sex</th>\n",
       "      <th>pre_level</th>\n",
       "    </tr>\n",
       "  </thead>\n",
       "  <tbody>\n",
       "    <tr>\n",
       "      <th>0</th>\n",
       "      <td>False</td>\n",
       "      <td>True</td>\n",
       "      <td>False</td>\n",
       "      <td>False</td>\n",
       "      <td>False</td>\n",
       "    </tr>\n",
       "    <tr>\n",
       "      <th>1</th>\n",
       "      <td>False</td>\n",
       "      <td>False</td>\n",
       "      <td>True</td>\n",
       "      <td>False</td>\n",
       "      <td>False</td>\n",
       "    </tr>\n",
       "    <tr>\n",
       "      <th>2</th>\n",
       "      <td>False</td>\n",
       "      <td>False</td>\n",
       "      <td>False</td>\n",
       "      <td>False</td>\n",
       "      <td>False</td>\n",
       "    </tr>\n",
       "    <tr>\n",
       "      <th>3</th>\n",
       "      <td>False</td>\n",
       "      <td>False</td>\n",
       "      <td>False</td>\n",
       "      <td>True</td>\n",
       "      <td>False</td>\n",
       "    </tr>\n",
       "    <tr>\n",
       "      <th>4</th>\n",
       "      <td>False</td>\n",
       "      <td>False</td>\n",
       "      <td>False</td>\n",
       "      <td>False</td>\n",
       "      <td>False</td>\n",
       "    </tr>\n",
       "    <tr>\n",
       "      <th>5</th>\n",
       "      <td>False</td>\n",
       "      <td>True</td>\n",
       "      <td>False</td>\n",
       "      <td>False</td>\n",
       "      <td>True</td>\n",
       "    </tr>\n",
       "  </tbody>\n",
       "</table>\n",
       "</div>"
      ],
      "text/plain": [
       "   student_id  stat_score  math_score    sex  pre_level\n",
       "0       False        True       False  False      False\n",
       "1       False       False        True  False      False\n",
       "2       False       False       False  False      False\n",
       "3       False       False       False   True      False\n",
       "4       False       False       False  False      False\n",
       "5       False        True       False  False       True"
      ]
     },
     "execution_count": 26,
     "metadata": {},
     "output_type": "execute_result"
    }
   ],
   "source": [
    "# .isna() : 결측치 여부 확인\n",
    "df.isna()"
   ]
  },
  {
   "cell_type": "code",
   "execution_count": 27,
   "id": "e5e72374",
   "metadata": {},
   "outputs": [
    {
     "data": {
      "text/plain": [
       "student_id    0\n",
       "stat_score    2\n",
       "math_score    1\n",
       "sex           1\n",
       "pre_level     1\n",
       "dtype: int64"
      ]
     },
     "execution_count": 27,
     "metadata": {},
     "output_type": "execute_result"
    }
   ],
   "source": [
    "# 컬럼별 결측치 개수\n",
    "df.isnull().sum()"
   ]
  },
  {
   "cell_type": "code",
   "execution_count": 28,
   "id": "3e00b671",
   "metadata": {},
   "outputs": [
    {
     "data": {
      "text/plain": [
       "0    1\n",
       "1    1\n",
       "2    0\n",
       "3    1\n",
       "4    0\n",
       "5    2\n",
       "dtype: int64"
      ]
     },
     "execution_count": 28,
     "metadata": {},
     "output_type": "execute_result"
    }
   ],
   "source": [
    "# 행별 결측치 개수\n",
    "df.isnull().sum(axis = 1)"
   ]
  },
  {
   "cell_type": "markdown",
   "id": "469e3644",
   "metadata": {},
   "source": [
    "#### 2. 결측치 처리"
   ]
  },
  {
   "cell_type": "markdown",
   "id": "9c645905",
   "metadata": {},
   "source": [
    "##### 가. 결측치 제거"
   ]
  },
  {
   "cell_type": "code",
   "execution_count": 29,
   "id": "76c8b154",
   "metadata": {},
   "outputs": [
    {
     "data": {
      "text/html": [
       "<div>\n",
       "<style scoped>\n",
       "    .dataframe tbody tr th:only-of-type {\n",
       "        vertical-align: middle;\n",
       "    }\n",
       "\n",
       "    .dataframe tbody tr th {\n",
       "        vertical-align: top;\n",
       "    }\n",
       "\n",
       "    .dataframe thead th {\n",
       "        text-align: right;\n",
       "    }\n",
       "</style>\n",
       "<table border=\"1\" class=\"dataframe\">\n",
       "  <thead>\n",
       "    <tr style=\"text-align: right;\">\n",
       "      <th></th>\n",
       "      <th>student_id</th>\n",
       "      <th>stat_score</th>\n",
       "      <th>math_score</th>\n",
       "      <th>sex</th>\n",
       "      <th>pre_level</th>\n",
       "    </tr>\n",
       "  </thead>\n",
       "  <tbody>\n",
       "    <tr>\n",
       "      <th>2</th>\n",
       "      <td>s3</td>\n",
       "      <td>85.0</td>\n",
       "      <td>87.0</td>\n",
       "      <td>Female</td>\n",
       "      <td>B</td>\n",
       "    </tr>\n",
       "    <tr>\n",
       "      <th>4</th>\n",
       "      <td>s5</td>\n",
       "      <td>63.0</td>\n",
       "      <td>57.0</td>\n",
       "      <td>Male</td>\n",
       "      <td>C</td>\n",
       "    </tr>\n",
       "  </tbody>\n",
       "</table>\n",
       "</div>"
      ],
      "text/plain": [
       "  student_id  stat_score  math_score     sex pre_level\n",
       "2         s3        85.0        87.0  Female         B\n",
       "4         s5        63.0        57.0    Male         C"
      ]
     },
     "execution_count": 29,
     "metadata": {},
     "output_type": "execute_result"
    }
   ],
   "source": [
    "# .dropna()\n",
    "# 결측치가 있는 행을 모두 제거\n",
    "df.dropna()"
   ]
  },
  {
   "cell_type": "code",
   "execution_count": 30,
   "id": "58a2d5cc",
   "metadata": {},
   "outputs": [
    {
     "data": {
      "text/html": [
       "<div>\n",
       "<style scoped>\n",
       "    .dataframe tbody tr th:only-of-type {\n",
       "        vertical-align: middle;\n",
       "    }\n",
       "\n",
       "    .dataframe tbody tr th {\n",
       "        vertical-align: top;\n",
       "    }\n",
       "\n",
       "    .dataframe thead th {\n",
       "        text-align: right;\n",
       "    }\n",
       "</style>\n",
       "<table border=\"1\" class=\"dataframe\">\n",
       "  <thead>\n",
       "    <tr style=\"text-align: right;\">\n",
       "      <th></th>\n",
       "      <th>student_id</th>\n",
       "    </tr>\n",
       "  </thead>\n",
       "  <tbody>\n",
       "    <tr>\n",
       "      <th>0</th>\n",
       "      <td>s1</td>\n",
       "    </tr>\n",
       "    <tr>\n",
       "      <th>1</th>\n",
       "      <td>s2</td>\n",
       "    </tr>\n",
       "    <tr>\n",
       "      <th>2</th>\n",
       "      <td>s3</td>\n",
       "    </tr>\n",
       "    <tr>\n",
       "      <th>3</th>\n",
       "      <td>s4</td>\n",
       "    </tr>\n",
       "    <tr>\n",
       "      <th>4</th>\n",
       "      <td>s5</td>\n",
       "    </tr>\n",
       "    <tr>\n",
       "      <th>5</th>\n",
       "      <td>s6</td>\n",
       "    </tr>\n",
       "  </tbody>\n",
       "</table>\n",
       "</div>"
      ],
      "text/plain": [
       "  student_id\n",
       "0         s1\n",
       "1         s2\n",
       "2         s3\n",
       "3         s4\n",
       "4         s5\n",
       "5         s6"
      ]
     },
     "execution_count": 30,
     "metadata": {},
     "output_type": "execute_result"
    }
   ],
   "source": [
    "# 열도 가능\n",
    "df.dropna(axis = 1)"
   ]
  },
  {
   "cell_type": "code",
   "execution_count": 31,
   "id": "f8d7398e",
   "metadata": {},
   "outputs": [
    {
     "data": {
      "text/plain": [
       "1    90.0\n",
       "2    85.0\n",
       "3    71.0\n",
       "4    63.0\n",
       "Name: stat_score, dtype: float64"
      ]
     },
     "execution_count": 31,
     "metadata": {},
     "output_type": "execute_result"
    }
   ],
   "source": [
    "# 'stat_score' 컬럼(시리즈)에서 결측인 요소 제거\n",
    "df['stat_score'].dropna()"
   ]
  },
  {
   "cell_type": "code",
   "execution_count": 32,
   "id": "ff10db91",
   "metadata": {},
   "outputs": [
    {
     "data": {
      "text/html": [
       "<div>\n",
       "<style scoped>\n",
       "    .dataframe tbody tr th:only-of-type {\n",
       "        vertical-align: middle;\n",
       "    }\n",
       "\n",
       "    .dataframe tbody tr th {\n",
       "        vertical-align: top;\n",
       "    }\n",
       "\n",
       "    .dataframe thead th {\n",
       "        text-align: right;\n",
       "    }\n",
       "</style>\n",
       "<table border=\"1\" class=\"dataframe\">\n",
       "  <thead>\n",
       "    <tr style=\"text-align: right;\">\n",
       "      <th></th>\n",
       "      <th>stat_score</th>\n",
       "      <th>math_score</th>\n",
       "    </tr>\n",
       "  </thead>\n",
       "  <tbody>\n",
       "    <tr>\n",
       "      <th>2</th>\n",
       "      <td>85.0</td>\n",
       "      <td>87.0</td>\n",
       "    </tr>\n",
       "    <tr>\n",
       "      <th>3</th>\n",
       "      <td>71.0</td>\n",
       "      <td>75.0</td>\n",
       "    </tr>\n",
       "    <tr>\n",
       "      <th>4</th>\n",
       "      <td>63.0</td>\n",
       "      <td>57.0</td>\n",
       "    </tr>\n",
       "  </tbody>\n",
       "</table>\n",
       "</div>"
      ],
      "text/plain": [
       "   stat_score  math_score\n",
       "2        85.0        87.0\n",
       "3        71.0        75.0\n",
       "4        63.0        57.0"
      ]
     },
     "execution_count": 32,
     "metadata": {},
     "output_type": "execute_result"
    }
   ],
   "source": [
    "# 'stat_score'과 'math_score'컬럼 중\n",
    "# 결측치가 있는 모든 행을 제거\n",
    "df[['stat_score', 'math_score']].dropna()"
   ]
  },
  {
   "cell_type": "markdown",
   "id": "70e9fcc3",
   "metadata": {},
   "source": [
    "##### 나. 평균 대치법"
   ]
  },
  {
   "cell_type": "code",
   "execution_count": 33,
   "id": "5d21e64a",
   "metadata": {},
   "outputs": [
    {
     "data": {
      "text/html": [
       "<div>\n",
       "<style scoped>\n",
       "    .dataframe tbody tr th:only-of-type {\n",
       "        vertical-align: middle;\n",
       "    }\n",
       "\n",
       "    .dataframe tbody tr th {\n",
       "        vertical-align: top;\n",
       "    }\n",
       "\n",
       "    .dataframe thead th {\n",
       "        text-align: right;\n",
       "    }\n",
       "</style>\n",
       "<table border=\"1\" class=\"dataframe\">\n",
       "  <thead>\n",
       "    <tr style=\"text-align: right;\">\n",
       "      <th></th>\n",
       "      <th>stat_score</th>\n",
       "      <th>math_score</th>\n",
       "    </tr>\n",
       "  </thead>\n",
       "  <tbody>\n",
       "    <tr>\n",
       "      <th>0</th>\n",
       "      <td>NaN</td>\n",
       "      <td>65.0</td>\n",
       "    </tr>\n",
       "    <tr>\n",
       "      <th>1</th>\n",
       "      <td>90.0</td>\n",
       "      <td>NaN</td>\n",
       "    </tr>\n",
       "    <tr>\n",
       "      <th>2</th>\n",
       "      <td>85.0</td>\n",
       "      <td>87.0</td>\n",
       "    </tr>\n",
       "    <tr>\n",
       "      <th>3</th>\n",
       "      <td>71.0</td>\n",
       "      <td>75.0</td>\n",
       "    </tr>\n",
       "    <tr>\n",
       "      <th>4</th>\n",
       "      <td>63.0</td>\n",
       "      <td>57.0</td>\n",
       "    </tr>\n",
       "    <tr>\n",
       "      <th>5</th>\n",
       "      <td>NaN</td>\n",
       "      <td>88.0</td>\n",
       "    </tr>\n",
       "  </tbody>\n",
       "</table>\n",
       "</div>"
      ],
      "text/plain": [
       "   stat_score  math_score\n",
       "0         NaN        65.0\n",
       "1        90.0         NaN\n",
       "2        85.0        87.0\n",
       "3        71.0        75.0\n",
       "4        63.0        57.0\n",
       "5         NaN        88.0"
      ]
     },
     "execution_count": 33,
     "metadata": {},
     "output_type": "execute_result"
    }
   ],
   "source": [
    "# 숫자형 컬럼만 추출\n",
    "df1 = df[['stat_score','math_score']].copy() # copy() 원본 소실 방지\n",
    "df1"
   ]
  },
  {
   "cell_type": "code",
   "execution_count": 34,
   "id": "7d4c3117",
   "metadata": {},
   "outputs": [
    {
     "data": {
      "text/html": [
       "<div>\n",
       "<style scoped>\n",
       "    .dataframe tbody tr th:only-of-type {\n",
       "        vertical-align: middle;\n",
       "    }\n",
       "\n",
       "    .dataframe tbody tr th {\n",
       "        vertical-align: top;\n",
       "    }\n",
       "\n",
       "    .dataframe thead th {\n",
       "        text-align: right;\n",
       "    }\n",
       "</style>\n",
       "<table border=\"1\" class=\"dataframe\">\n",
       "  <thead>\n",
       "    <tr style=\"text-align: right;\">\n",
       "      <th></th>\n",
       "      <th>stat_score</th>\n",
       "      <th>math_score</th>\n",
       "    </tr>\n",
       "  </thead>\n",
       "  <tbody>\n",
       "    <tr>\n",
       "      <th>0</th>\n",
       "      <td>0.0</td>\n",
       "      <td>65.0</td>\n",
       "    </tr>\n",
       "    <tr>\n",
       "      <th>1</th>\n",
       "      <td>90.0</td>\n",
       "      <td>0.0</td>\n",
       "    </tr>\n",
       "    <tr>\n",
       "      <th>2</th>\n",
       "      <td>85.0</td>\n",
       "      <td>87.0</td>\n",
       "    </tr>\n",
       "    <tr>\n",
       "      <th>3</th>\n",
       "      <td>71.0</td>\n",
       "      <td>75.0</td>\n",
       "    </tr>\n",
       "    <tr>\n",
       "      <th>4</th>\n",
       "      <td>63.0</td>\n",
       "      <td>57.0</td>\n",
       "    </tr>\n",
       "    <tr>\n",
       "      <th>5</th>\n",
       "      <td>0.0</td>\n",
       "      <td>88.0</td>\n",
       "    </tr>\n",
       "  </tbody>\n",
       "</table>\n",
       "</div>"
      ],
      "text/plain": [
       "   stat_score  math_score\n",
       "0         0.0        65.0\n",
       "1        90.0         0.0\n",
       "2        85.0        87.0\n",
       "3        71.0        75.0\n",
       "4        63.0        57.0\n",
       "5         0.0        88.0"
      ]
     },
     "execution_count": 34,
     "metadata": {},
     "output_type": "execute_result"
    }
   ],
   "source": [
    "# .fillna\n",
    "# 결측치를 모두 0으로 대치\n",
    "df1.fillna(0)"
   ]
  },
  {
   "cell_type": "code",
   "execution_count": 35,
   "id": "1eaa2ed1",
   "metadata": {},
   "outputs": [
    {
     "data": {
      "text/html": [
       "<div>\n",
       "<style scoped>\n",
       "    .dataframe tbody tr th:only-of-type {\n",
       "        vertical-align: middle;\n",
       "    }\n",
       "\n",
       "    .dataframe tbody tr th {\n",
       "        vertical-align: top;\n",
       "    }\n",
       "\n",
       "    .dataframe thead th {\n",
       "        text-align: right;\n",
       "    }\n",
       "</style>\n",
       "<table border=\"1\" class=\"dataframe\">\n",
       "  <thead>\n",
       "    <tr style=\"text-align: right;\">\n",
       "      <th></th>\n",
       "      <th>stat_score</th>\n",
       "      <th>math_score</th>\n",
       "    </tr>\n",
       "  </thead>\n",
       "  <tbody>\n",
       "    <tr>\n",
       "      <th>0</th>\n",
       "      <td>77.25</td>\n",
       "      <td>65.0</td>\n",
       "    </tr>\n",
       "    <tr>\n",
       "      <th>1</th>\n",
       "      <td>90.00</td>\n",
       "      <td>74.4</td>\n",
       "    </tr>\n",
       "    <tr>\n",
       "      <th>2</th>\n",
       "      <td>85.00</td>\n",
       "      <td>87.0</td>\n",
       "    </tr>\n",
       "    <tr>\n",
       "      <th>3</th>\n",
       "      <td>71.00</td>\n",
       "      <td>75.0</td>\n",
       "    </tr>\n",
       "    <tr>\n",
       "      <th>4</th>\n",
       "      <td>63.00</td>\n",
       "      <td>57.0</td>\n",
       "    </tr>\n",
       "    <tr>\n",
       "      <th>5</th>\n",
       "      <td>77.25</td>\n",
       "      <td>88.0</td>\n",
       "    </tr>\n",
       "  </tbody>\n",
       "</table>\n",
       "</div>"
      ],
      "text/plain": [
       "   stat_score  math_score\n",
       "0       77.25        65.0\n",
       "1       90.00        74.4\n",
       "2       85.00        87.0\n",
       "3       71.00        75.0\n",
       "4       63.00        57.0\n",
       "5       77.25        88.0"
      ]
     },
     "execution_count": 35,
     "metadata": {},
     "output_type": "execute_result"
    }
   ],
   "source": [
    "# 평균 대치\n",
    "# 컬럼별 평균으로 대치\n",
    "df1.fillna(df1.mean())"
   ]
  },
  {
   "cell_type": "markdown",
   "id": "0ae78371",
   "metadata": {},
   "source": [
    "### 2절. 이상치"
   ]
  },
  {
   "cell_type": "markdown",
   "id": "81b95c66",
   "metadata": {},
   "source": [
    "#### 1. 이상치란"
   ]
  },
  {
   "cell_type": "markdown",
   "id": "a96354f7",
   "metadata": {},
   "source": [
    "코드 없음"
   ]
  },
  {
   "cell_type": "markdown",
   "id": "252b25e3",
   "metadata": {},
   "source": [
    "#### 2. 이상치 인식과 제거"
   ]
  },
  {
   "cell_type": "markdown",
   "id": "e3190654",
   "metadata": {},
   "source": [
    "##### 가. 사분위수를 이용한 이상치 판별"
   ]
  },
  {
   "cell_type": "markdown",
   "id": "4e47dfeb",
   "metadata": {},
   "source": [
    "코드 없음"
   ]
  },
  {
   "cell_type": "markdown",
   "id": "cf1b4471",
   "metadata": {},
   "source": [
    "##### 나. 이상치 제거"
   ]
  },
  {
   "cell_type": "code",
   "execution_count": 36,
   "id": "41e39963",
   "metadata": {},
   "outputs": [
    {
     "name": "stdout",
     "output_type": "stream",
     "text": [
      "  student_id  stat_score  math_score\n",
      "0         s1          55          65\n",
      "1         s2          90          99\n",
      "2         s3          85          67\n",
      "3         s4          10          70\n",
      "4         s5          88          57\n",
      "5         s6          99          80\n"
     ]
    }
   ],
   "source": [
    "# 데이터프레임 생성\n",
    "obj = {'student_id' : ['s1', 's2', 's3', 's4', 's5', 's6'],\n",
    "        'stat_score' : [55, 90, 85, 10, 88, 99],\n",
    "        'math_score' : [65, 99, 67, 70, 57, 80],\n",
    "       }\n",
    "df = pd.DataFrame(obj)\n",
    "print(df)"
   ]
  },
  {
   "cell_type": "code",
   "execution_count": 37,
   "id": "9bc324a7",
   "metadata": {},
   "outputs": [],
   "source": [
    "# 'stat_score' 컬럼에 대하여 이상치를 판별하고 제거\n",
    "q1 = df['stat_score'].quantile(0.25) # 제1사분위수\n",
    "q3 = df['stat_score'].quantile(0.75) # 제3사분위수\n",
    "\n",
    "iqr = q3 - q1 # IQR"
   ]
  },
  {
   "cell_type": "code",
   "execution_count": 38,
   "id": "65f8ef2d",
   "metadata": {},
   "outputs": [],
   "source": [
    "lower = q1 - 1.5 * iqr # lower whisker\n",
    "upper = q3 + 1.5 * iqr # upper whisker"
   ]
  },
  {
   "cell_type": "code",
   "execution_count": 39,
   "id": "0c01981c",
   "metadata": {},
   "outputs": [
    {
     "data": {
      "text/html": [
       "<div>\n",
       "<style scoped>\n",
       "    .dataframe tbody tr th:only-of-type {\n",
       "        vertical-align: middle;\n",
       "    }\n",
       "\n",
       "    .dataframe tbody tr th {\n",
       "        vertical-align: top;\n",
       "    }\n",
       "\n",
       "    .dataframe thead th {\n",
       "        text-align: right;\n",
       "    }\n",
       "</style>\n",
       "<table border=\"1\" class=\"dataframe\">\n",
       "  <thead>\n",
       "    <tr style=\"text-align: right;\">\n",
       "      <th></th>\n",
       "      <th>student_id</th>\n",
       "      <th>stat_score</th>\n",
       "      <th>math_score</th>\n",
       "    </tr>\n",
       "  </thead>\n",
       "  <tbody>\n",
       "    <tr>\n",
       "      <th>3</th>\n",
       "      <td>s4</td>\n",
       "      <td>10</td>\n",
       "      <td>70</td>\n",
       "    </tr>\n",
       "  </tbody>\n",
       "</table>\n",
       "</div>"
      ],
      "text/plain": [
       "  student_id  stat_score  math_score\n",
       "3         s4          10          70"
      ]
     },
     "execution_count": 39,
     "metadata": {},
     "output_type": "execute_result"
    }
   ],
   "source": [
    "# 이상치 판별\n",
    "# upper whisker보다 크거나 lower whisker보다 작은 값들\n",
    "df[(df['stat_score'] < lower) | (df['stat_score'] > upper)]"
   ]
  },
  {
   "cell_type": "code",
   "execution_count": 40,
   "id": "651d60c7",
   "metadata": {},
   "outputs": [
    {
     "data": {
      "text/html": [
       "<div>\n",
       "<style scoped>\n",
       "    .dataframe tbody tr th:only-of-type {\n",
       "        vertical-align: middle;\n",
       "    }\n",
       "\n",
       "    .dataframe tbody tr th {\n",
       "        vertical-align: top;\n",
       "    }\n",
       "\n",
       "    .dataframe thead th {\n",
       "        text-align: right;\n",
       "    }\n",
       "</style>\n",
       "<table border=\"1\" class=\"dataframe\">\n",
       "  <thead>\n",
       "    <tr style=\"text-align: right;\">\n",
       "      <th></th>\n",
       "      <th>student_id</th>\n",
       "      <th>stat_score</th>\n",
       "      <th>math_score</th>\n",
       "    </tr>\n",
       "  </thead>\n",
       "  <tbody>\n",
       "    <tr>\n",
       "      <th>0</th>\n",
       "      <td>s1</td>\n",
       "      <td>55</td>\n",
       "      <td>65</td>\n",
       "    </tr>\n",
       "    <tr>\n",
       "      <th>1</th>\n",
       "      <td>s2</td>\n",
       "      <td>90</td>\n",
       "      <td>99</td>\n",
       "    </tr>\n",
       "    <tr>\n",
       "      <th>2</th>\n",
       "      <td>s3</td>\n",
       "      <td>85</td>\n",
       "      <td>67</td>\n",
       "    </tr>\n",
       "    <tr>\n",
       "      <th>4</th>\n",
       "      <td>s5</td>\n",
       "      <td>88</td>\n",
       "      <td>57</td>\n",
       "    </tr>\n",
       "    <tr>\n",
       "      <th>5</th>\n",
       "      <td>s6</td>\n",
       "      <td>99</td>\n",
       "      <td>80</td>\n",
       "    </tr>\n",
       "  </tbody>\n",
       "</table>\n",
       "</div>"
      ],
      "text/plain": [
       "  student_id  stat_score  math_score\n",
       "0         s1          55          65\n",
       "1         s2          90          99\n",
       "2         s3          85          67\n",
       "4         s5          88          57\n",
       "5         s6          99          80"
      ]
     },
     "execution_count": 40,
     "metadata": {},
     "output_type": "execute_result"
    }
   ],
   "source": [
    "# 이상치 제거\n",
    "df[(df['stat_score'] > lower) & (df['stat_score'] < upper)]"
   ]
  },
  {
   "cell_type": "markdown",
   "id": "efaa22e9",
   "metadata": {},
   "source": [
    "--- "
   ]
  },
  {
   "cell_type": "markdown",
   "id": "be802f33",
   "metadata": {},
   "source": [
    "## 6장. 기타 데이터 전처리"
   ]
  },
  {
   "cell_type": "markdown",
   "id": "14b98202",
   "metadata": {},
   "source": [
    "### 1절. 텍스트 데이터 다루기"
   ]
  },
  {
   "cell_type": "markdown",
   "id": "bb5dc9e2",
   "metadata": {},
   "source": [
    "#### 1. 문자열 데이터 전처리"
   ]
  },
  {
   "cell_type": "code",
   "execution_count": 41,
   "id": "2194dee7",
   "metadata": {},
   "outputs": [
    {
     "data": {
      "text/html": [
       "<div>\n",
       "<style scoped>\n",
       "    .dataframe tbody tr th:only-of-type {\n",
       "        vertical-align: middle;\n",
       "    }\n",
       "\n",
       "    .dataframe tbody tr th {\n",
       "        vertical-align: top;\n",
       "    }\n",
       "\n",
       "    .dataframe thead th {\n",
       "        text-align: right;\n",
       "    }\n",
       "</style>\n",
       "<table border=\"1\" class=\"dataframe\">\n",
       "  <thead>\n",
       "    <tr style=\"text-align: right;\">\n",
       "      <th></th>\n",
       "      <th>대학이름</th>\n",
       "      <th>주소</th>\n",
       "    </tr>\n",
       "  </thead>\n",
       "  <tbody>\n",
       "    <tr>\n",
       "      <th>0</th>\n",
       "      <td>서울대학교</td>\n",
       "      <td>서울특별시 관악구 관악로 1</td>\n",
       "    </tr>\n",
       "    <tr>\n",
       "      <th>1</th>\n",
       "      <td>KAIST</td>\n",
       "      <td>대전광역시 유성구 대학로 291</td>\n",
       "    </tr>\n",
       "    <tr>\n",
       "      <th>2</th>\n",
       "      <td>성균관대학교</td>\n",
       "      <td>서울특별시 종로구 성균관로 25-2</td>\n",
       "    </tr>\n",
       "    <tr>\n",
       "      <th>3</th>\n",
       "      <td>연세대학교</td>\n",
       "      <td>서울특별시 서대문구 연세로 50</td>\n",
       "    </tr>\n",
       "    <tr>\n",
       "      <th>4</th>\n",
       "      <td>UNIST</td>\n",
       "      <td>울산광역시 울주군 언양읍 유니스트길 50</td>\n",
       "    </tr>\n",
       "    <tr>\n",
       "      <th>5</th>\n",
       "      <td>포항공과대학교</td>\n",
       "      <td>경상북도 포항시 남구 청암로 77</td>\n",
       "    </tr>\n",
       "    <tr>\n",
       "      <th>6</th>\n",
       "      <td>고려대학교</td>\n",
       "      <td>서울특별시 성북구 안암로 145</td>\n",
       "    </tr>\n",
       "    <tr>\n",
       "      <th>7</th>\n",
       "      <td>경희대학교</td>\n",
       "      <td>서울특별시 동대문구 경희대로 26</td>\n",
       "    </tr>\n",
       "    <tr>\n",
       "      <th>8</th>\n",
       "      <td>세종대학교</td>\n",
       "      <td>서울특별시 광진구 능동로 209</td>\n",
       "    </tr>\n",
       "    <tr>\n",
       "      <th>9</th>\n",
       "      <td>한양대학교</td>\n",
       "      <td>서울특별시 성동구 왕십리로 222</td>\n",
       "    </tr>\n",
       "    <tr>\n",
       "      <th>10</th>\n",
       "      <td>GIST</td>\n",
       "      <td>광주광역시 북구 첨단과기로 123</td>\n",
       "    </tr>\n",
       "    <tr>\n",
       "      <th>11</th>\n",
       "      <td>아주대학교</td>\n",
       "      <td>경기도 수원시 영통구 월드컵로 206</td>\n",
       "    </tr>\n",
       "    <tr>\n",
       "      <th>12</th>\n",
       "      <td>중앙대학교</td>\n",
       "      <td>서울특별시 동작구 흑석로 84</td>\n",
       "    </tr>\n",
       "    <tr>\n",
       "      <th>13</th>\n",
       "      <td>이화여자대학교</td>\n",
       "      <td>서울특별시 서대문구 이화여대길 52</td>\n",
       "    </tr>\n",
       "    <tr>\n",
       "      <th>14</th>\n",
       "      <td>건국대학교</td>\n",
       "      <td>서울특별시 광진구 능동로 120</td>\n",
       "    </tr>\n",
       "    <tr>\n",
       "      <th>15</th>\n",
       "      <td>경북대학교</td>\n",
       "      <td>대구광역시 북구 대학로 80</td>\n",
       "    </tr>\n",
       "    <tr>\n",
       "      <th>16</th>\n",
       "      <td>울산대학교</td>\n",
       "      <td>울산광역시 남구 대학로 93</td>\n",
       "    </tr>\n",
       "    <tr>\n",
       "      <th>17</th>\n",
       "      <td>부산대학교</td>\n",
       "      <td>부산광역시 금정구 부산대학로63번길 2</td>\n",
       "    </tr>\n",
       "    <tr>\n",
       "      <th>18</th>\n",
       "      <td>영남대학교</td>\n",
       "      <td>경상북도 경산시 대학로 280</td>\n",
       "    </tr>\n",
       "    <tr>\n",
       "      <th>19</th>\n",
       "      <td>가톨릭대학교</td>\n",
       "      <td>서울특별시 종로구 창경궁로 296-12</td>\n",
       "    </tr>\n",
       "  </tbody>\n",
       "</table>\n",
       "</div>"
      ],
      "text/plain": [
       "       대학이름                      주소\n",
       "0     서울대학교         서울특별시 관악구 관악로 1\n",
       "1     KAIST       대전광역시 유성구 대학로 291\n",
       "2    성균관대학교     서울특별시 종로구 성균관로 25-2\n",
       "3     연세대학교       서울특별시 서대문구 연세로 50\n",
       "4     UNIST  울산광역시 울주군 언양읍 유니스트길 50\n",
       "5   포항공과대학교      경상북도 포항시 남구 청암로 77\n",
       "6     고려대학교       서울특별시 성북구 안암로 145\n",
       "7     경희대학교      서울특별시 동대문구 경희대로 26\n",
       "8     세종대학교       서울특별시 광진구 능동로 209\n",
       "9     한양대학교      서울특별시 성동구 왕십리로 222\n",
       "10     GIST      광주광역시 북구 첨단과기로 123\n",
       "11    아주대학교    경기도 수원시 영통구 월드컵로 206\n",
       "12    중앙대학교        서울특별시 동작구 흑석로 84\n",
       "13  이화여자대학교     서울특별시 서대문구 이화여대길 52\n",
       "14    건국대학교       서울특별시 광진구 능동로 120\n",
       "15    경북대학교         대구광역시 북구 대학로 80\n",
       "16    울산대학교         울산광역시 남구 대학로 93\n",
       "17    부산대학교   부산광역시 금정구 부산대학로63번길 2\n",
       "18    영남대학교        경상북도 경산시 대학로 280\n",
       "19   가톨릭대학교   서울특별시 종로구 창경궁로 296-12"
      ]
     },
     "execution_count": 41,
     "metadata": {},
     "output_type": "execute_result"
    }
   ],
   "source": [
    "import pandas as pd\n",
    "\n",
    "# 데이터프레임 불러오기\n",
    "# 인코딩 옵션(encoding = 'CP949')을 사용해 한글이 깨지는 것 방지\n",
    "df = pd.read_csv('data/예제/University_text_after.csv', encoding = 'CP949')\n",
    "df"
   ]
  },
  {
   "cell_type": "code",
   "execution_count": 42,
   "id": "c7ef48ed",
   "metadata": {},
   "outputs": [
    {
     "data": {
      "text/plain": [
       "0     서울특별시\n",
       "1     대전광역시\n",
       "2     서울특별시\n",
       "3     서울특별시\n",
       "4     울산광역시\n",
       "5     경상북도 \n",
       "6     서울특별시\n",
       "7     서울특별시\n",
       "8     서울특별시\n",
       "9     서울특별시\n",
       "10    광주광역시\n",
       "11    경기도 수\n",
       "12    서울특별시\n",
       "13    서울특별시\n",
       "14    서울특별시\n",
       "15    대구광역시\n",
       "16    울산광역시\n",
       "17    부산광역시\n",
       "18    경상북도 \n",
       "19    서울특별시\n",
       "Name: 주소, dtype: object"
      ]
     },
     "execution_count": 42,
     "metadata": {},
     "output_type": "execute_result"
    }
   ],
   "source": [
    "# 시리즈객체.str[]\n",
    "# 단순하게 인덱싱과 슬라이싱 가능\n",
    "df['주소'].str[0:5] # 처음부터 5개의 문자열을 추출"
   ]
  },
  {
   "cell_type": "code",
   "execution_count": 43,
   "id": "e2c5727a",
   "metadata": {},
   "outputs": [
    {
     "data": {
      "text/plain": [
       "0      True\n",
       "1     False\n",
       "2      True\n",
       "3      True\n",
       "4     False\n",
       "5     False\n",
       "6      True\n",
       "7      True\n",
       "8      True\n",
       "9      True\n",
       "10    False\n",
       "11    False\n",
       "12     True\n",
       "13     True\n",
       "14     True\n",
       "15    False\n",
       "16    False\n",
       "17    False\n",
       "18    False\n",
       "19     True\n",
       "Name: 주소, dtype: bool"
      ]
     },
     "execution_count": 43,
     "metadata": {},
     "output_type": "execute_result"
    }
   ],
   "source": [
    "# str.startswith(pat)\n",
    "# pat(문자열)로 시작한다면 True, 아니면 Fasle 반환\n",
    "df['주소'].str.startswith(\"서울\") # '서울'로 시작하면 True, 아니면 False"
   ]
  },
  {
   "cell_type": "code",
   "execution_count": 44,
   "id": "39e345bf",
   "metadata": {},
   "outputs": [
    {
     "data": {
      "text/html": [
       "<div>\n",
       "<style scoped>\n",
       "    .dataframe tbody tr th:only-of-type {\n",
       "        vertical-align: middle;\n",
       "    }\n",
       "\n",
       "    .dataframe tbody tr th {\n",
       "        vertical-align: top;\n",
       "    }\n",
       "\n",
       "    .dataframe thead th {\n",
       "        text-align: right;\n",
       "    }\n",
       "</style>\n",
       "<table border=\"1\" class=\"dataframe\">\n",
       "  <thead>\n",
       "    <tr style=\"text-align: right;\">\n",
       "      <th></th>\n",
       "      <th>대학이름</th>\n",
       "      <th>주소</th>\n",
       "    </tr>\n",
       "  </thead>\n",
       "  <tbody>\n",
       "    <tr>\n",
       "      <th>0</th>\n",
       "      <td>서울대학교</td>\n",
       "      <td>서울특별시 관악구 관악로 1</td>\n",
       "    </tr>\n",
       "    <tr>\n",
       "      <th>2</th>\n",
       "      <td>성균관대학교</td>\n",
       "      <td>서울특별시 종로구 성균관로 25-2</td>\n",
       "    </tr>\n",
       "    <tr>\n",
       "      <th>3</th>\n",
       "      <td>연세대학교</td>\n",
       "      <td>서울특별시 서대문구 연세로 50</td>\n",
       "    </tr>\n",
       "    <tr>\n",
       "      <th>6</th>\n",
       "      <td>고려대학교</td>\n",
       "      <td>서울특별시 성북구 안암로 145</td>\n",
       "    </tr>\n",
       "    <tr>\n",
       "      <th>7</th>\n",
       "      <td>경희대학교</td>\n",
       "      <td>서울특별시 동대문구 경희대로 26</td>\n",
       "    </tr>\n",
       "    <tr>\n",
       "      <th>8</th>\n",
       "      <td>세종대학교</td>\n",
       "      <td>서울특별시 광진구 능동로 209</td>\n",
       "    </tr>\n",
       "    <tr>\n",
       "      <th>9</th>\n",
       "      <td>한양대학교</td>\n",
       "      <td>서울특별시 성동구 왕십리로 222</td>\n",
       "    </tr>\n",
       "    <tr>\n",
       "      <th>12</th>\n",
       "      <td>중앙대학교</td>\n",
       "      <td>서울특별시 동작구 흑석로 84</td>\n",
       "    </tr>\n",
       "    <tr>\n",
       "      <th>13</th>\n",
       "      <td>이화여자대학교</td>\n",
       "      <td>서울특별시 서대문구 이화여대길 52</td>\n",
       "    </tr>\n",
       "    <tr>\n",
       "      <th>14</th>\n",
       "      <td>건국대학교</td>\n",
       "      <td>서울특별시 광진구 능동로 120</td>\n",
       "    </tr>\n",
       "    <tr>\n",
       "      <th>19</th>\n",
       "      <td>가톨릭대학교</td>\n",
       "      <td>서울특별시 종로구 창경궁로 296-12</td>\n",
       "    </tr>\n",
       "  </tbody>\n",
       "</table>\n",
       "</div>"
      ],
      "text/plain": [
       "       대학이름                     주소\n",
       "0     서울대학교        서울특별시 관악구 관악로 1\n",
       "2    성균관대학교    서울특별시 종로구 성균관로 25-2\n",
       "3     연세대학교      서울특별시 서대문구 연세로 50\n",
       "6     고려대학교      서울특별시 성북구 안암로 145\n",
       "7     경희대학교     서울특별시 동대문구 경희대로 26\n",
       "8     세종대학교      서울특별시 광진구 능동로 209\n",
       "9     한양대학교     서울특별시 성동구 왕십리로 222\n",
       "12    중앙대학교       서울특별시 동작구 흑석로 84\n",
       "13  이화여자대학교    서울특별시 서대문구 이화여대길 52\n",
       "14    건국대학교      서울특별시 광진구 능동로 120\n",
       "19   가톨릭대학교  서울특별시 종로구 창경궁로 296-12"
      ]
     },
     "execution_count": 44,
     "metadata": {},
     "output_type": "execute_result"
    }
   ],
   "source": [
    "# 주소가 '서울'로 시작하는 데이터셋 추출\n",
    "df[df['주소'].str.startswith(\"서울\")]"
   ]
  },
  {
   "cell_type": "code",
   "execution_count": 45,
   "id": "ec47e066",
   "metadata": {},
   "outputs": [
    {
     "data": {
      "text/html": [
       "<div>\n",
       "<style scoped>\n",
       "    .dataframe tbody tr th:only-of-type {\n",
       "        vertical-align: middle;\n",
       "    }\n",
       "\n",
       "    .dataframe tbody tr th {\n",
       "        vertical-align: top;\n",
       "    }\n",
       "\n",
       "    .dataframe thead th {\n",
       "        text-align: right;\n",
       "    }\n",
       "</style>\n",
       "<table border=\"1\" class=\"dataframe\">\n",
       "  <thead>\n",
       "    <tr style=\"text-align: right;\">\n",
       "      <th></th>\n",
       "      <th>대학이름</th>\n",
       "      <th>주소</th>\n",
       "    </tr>\n",
       "  </thead>\n",
       "  <tbody>\n",
       "    <tr>\n",
       "      <th>1</th>\n",
       "      <td>KAIST</td>\n",
       "      <td>대전광역시 유성구 대학로 291</td>\n",
       "    </tr>\n",
       "    <tr>\n",
       "      <th>4</th>\n",
       "      <td>UNIST</td>\n",
       "      <td>울산광역시 울주군 언양읍 유니스트길 50</td>\n",
       "    </tr>\n",
       "    <tr>\n",
       "      <th>5</th>\n",
       "      <td>포항공과대학교</td>\n",
       "      <td>경상북도 포항시 남구 청암로 77</td>\n",
       "    </tr>\n",
       "    <tr>\n",
       "      <th>10</th>\n",
       "      <td>GIST</td>\n",
       "      <td>광주광역시 북구 첨단과기로 123</td>\n",
       "    </tr>\n",
       "    <tr>\n",
       "      <th>11</th>\n",
       "      <td>아주대학교</td>\n",
       "      <td>경기도 수원시 영통구 월드컵로 206</td>\n",
       "    </tr>\n",
       "    <tr>\n",
       "      <th>15</th>\n",
       "      <td>경북대학교</td>\n",
       "      <td>대구광역시 북구 대학로 80</td>\n",
       "    </tr>\n",
       "    <tr>\n",
       "      <th>16</th>\n",
       "      <td>울산대학교</td>\n",
       "      <td>울산광역시 남구 대학로 93</td>\n",
       "    </tr>\n",
       "    <tr>\n",
       "      <th>17</th>\n",
       "      <td>부산대학교</td>\n",
       "      <td>부산광역시 금정구 부산대학로63번길 2</td>\n",
       "    </tr>\n",
       "    <tr>\n",
       "      <th>18</th>\n",
       "      <td>영남대학교</td>\n",
       "      <td>경상북도 경산시 대학로 280</td>\n",
       "    </tr>\n",
       "  </tbody>\n",
       "</table>\n",
       "</div>"
      ],
      "text/plain": [
       "       대학이름                      주소\n",
       "1     KAIST       대전광역시 유성구 대학로 291\n",
       "4     UNIST  울산광역시 울주군 언양읍 유니스트길 50\n",
       "5   포항공과대학교      경상북도 포항시 남구 청암로 77\n",
       "10     GIST      광주광역시 북구 첨단과기로 123\n",
       "11    아주대학교    경기도 수원시 영통구 월드컵로 206\n",
       "15    경북대학교         대구광역시 북구 대학로 80\n",
       "16    울산대학교         울산광역시 남구 대학로 93\n",
       "17    부산대학교   부산광역시 금정구 부산대학로63번길 2\n",
       "18    영남대학교        경상북도 경산시 대학로 280"
      ]
     },
     "execution_count": 45,
     "metadata": {},
     "output_type": "execute_result"
    }
   ],
   "source": [
    "# 주소가 '서울'로 시작하지 않는 데이터셋 추출\n",
    "df[~df['주소'].str.startswith(\"서울\")] # ~는 부정"
   ]
  },
  {
   "cell_type": "code",
   "execution_count": 46,
   "id": "15769953",
   "metadata": {},
   "outputs": [
    {
     "data": {
      "text/plain": [
       "0      True\n",
       "1     False\n",
       "2      True\n",
       "3      True\n",
       "4     False\n",
       "5      True\n",
       "6      True\n",
       "7      True\n",
       "8      True\n",
       "9      True\n",
       "10    False\n",
       "11     True\n",
       "12     True\n",
       "13     True\n",
       "14     True\n",
       "15     True\n",
       "16     True\n",
       "17     True\n",
       "18     True\n",
       "19     True\n",
       "Name: 대학이름, dtype: bool"
      ]
     },
     "execution_count": 46,
     "metadata": {},
     "output_type": "execute_result"
    }
   ],
   "source": [
    "# str.endswith(pat)\n",
    "# pat(문자열)로 끝난다면 True, 아니면 Fasle 반환\n",
    "df['대학이름'].str.endswith(\"대학교\") # '대학교'로 끝나면 True, 아니면 False"
   ]
  },
  {
   "cell_type": "code",
   "execution_count": 47,
   "id": "54c03348",
   "metadata": {},
   "outputs": [
    {
     "data": {
      "text/html": [
       "<div>\n",
       "<style scoped>\n",
       "    .dataframe tbody tr th:only-of-type {\n",
       "        vertical-align: middle;\n",
       "    }\n",
       "\n",
       "    .dataframe tbody tr th {\n",
       "        vertical-align: top;\n",
       "    }\n",
       "\n",
       "    .dataframe thead th {\n",
       "        text-align: right;\n",
       "    }\n",
       "</style>\n",
       "<table border=\"1\" class=\"dataframe\">\n",
       "  <thead>\n",
       "    <tr style=\"text-align: right;\">\n",
       "      <th></th>\n",
       "      <th>대학이름</th>\n",
       "      <th>주소</th>\n",
       "    </tr>\n",
       "  </thead>\n",
       "  <tbody>\n",
       "    <tr>\n",
       "      <th>0</th>\n",
       "      <td>서울대학교</td>\n",
       "      <td>서울특별시 관악구 관악로 1</td>\n",
       "    </tr>\n",
       "    <tr>\n",
       "      <th>2</th>\n",
       "      <td>성균관대학교</td>\n",
       "      <td>서울특별시 종로구 성균관로 25-2</td>\n",
       "    </tr>\n",
       "    <tr>\n",
       "      <th>3</th>\n",
       "      <td>연세대학교</td>\n",
       "      <td>서울특별시 서대문구 연세로 50</td>\n",
       "    </tr>\n",
       "    <tr>\n",
       "      <th>5</th>\n",
       "      <td>포항공과대학교</td>\n",
       "      <td>경상북도 포항시 남구 청암로 77</td>\n",
       "    </tr>\n",
       "    <tr>\n",
       "      <th>6</th>\n",
       "      <td>고려대학교</td>\n",
       "      <td>서울특별시 성북구 안암로 145</td>\n",
       "    </tr>\n",
       "    <tr>\n",
       "      <th>7</th>\n",
       "      <td>경희대학교</td>\n",
       "      <td>서울특별시 동대문구 경희대로 26</td>\n",
       "    </tr>\n",
       "    <tr>\n",
       "      <th>8</th>\n",
       "      <td>세종대학교</td>\n",
       "      <td>서울특별시 광진구 능동로 209</td>\n",
       "    </tr>\n",
       "    <tr>\n",
       "      <th>9</th>\n",
       "      <td>한양대학교</td>\n",
       "      <td>서울특별시 성동구 왕십리로 222</td>\n",
       "    </tr>\n",
       "    <tr>\n",
       "      <th>11</th>\n",
       "      <td>아주대학교</td>\n",
       "      <td>경기도 수원시 영통구 월드컵로 206</td>\n",
       "    </tr>\n",
       "    <tr>\n",
       "      <th>12</th>\n",
       "      <td>중앙대학교</td>\n",
       "      <td>서울특별시 동작구 흑석로 84</td>\n",
       "    </tr>\n",
       "    <tr>\n",
       "      <th>13</th>\n",
       "      <td>이화여자대학교</td>\n",
       "      <td>서울특별시 서대문구 이화여대길 52</td>\n",
       "    </tr>\n",
       "    <tr>\n",
       "      <th>14</th>\n",
       "      <td>건국대학교</td>\n",
       "      <td>서울특별시 광진구 능동로 120</td>\n",
       "    </tr>\n",
       "    <tr>\n",
       "      <th>15</th>\n",
       "      <td>경북대학교</td>\n",
       "      <td>대구광역시 북구 대학로 80</td>\n",
       "    </tr>\n",
       "    <tr>\n",
       "      <th>16</th>\n",
       "      <td>울산대학교</td>\n",
       "      <td>울산광역시 남구 대학로 93</td>\n",
       "    </tr>\n",
       "    <tr>\n",
       "      <th>17</th>\n",
       "      <td>부산대학교</td>\n",
       "      <td>부산광역시 금정구 부산대학로63번길 2</td>\n",
       "    </tr>\n",
       "    <tr>\n",
       "      <th>18</th>\n",
       "      <td>영남대학교</td>\n",
       "      <td>경상북도 경산시 대학로 280</td>\n",
       "    </tr>\n",
       "    <tr>\n",
       "      <th>19</th>\n",
       "      <td>가톨릭대학교</td>\n",
       "      <td>서울특별시 종로구 창경궁로 296-12</td>\n",
       "    </tr>\n",
       "  </tbody>\n",
       "</table>\n",
       "</div>"
      ],
      "text/plain": [
       "       대학이름                     주소\n",
       "0     서울대학교        서울특별시 관악구 관악로 1\n",
       "2    성균관대학교    서울특별시 종로구 성균관로 25-2\n",
       "3     연세대학교      서울특별시 서대문구 연세로 50\n",
       "5   포항공과대학교     경상북도 포항시 남구 청암로 77\n",
       "6     고려대학교      서울특별시 성북구 안암로 145\n",
       "7     경희대학교     서울특별시 동대문구 경희대로 26\n",
       "8     세종대학교      서울특별시 광진구 능동로 209\n",
       "9     한양대학교     서울특별시 성동구 왕십리로 222\n",
       "11    아주대학교   경기도 수원시 영통구 월드컵로 206\n",
       "12    중앙대학교       서울특별시 동작구 흑석로 84\n",
       "13  이화여자대학교    서울특별시 서대문구 이화여대길 52\n",
       "14    건국대학교      서울특별시 광진구 능동로 120\n",
       "15    경북대학교        대구광역시 북구 대학로 80\n",
       "16    울산대학교        울산광역시 남구 대학로 93\n",
       "17    부산대학교  부산광역시 금정구 부산대학로63번길 2\n",
       "18    영남대학교       경상북도 경산시 대학로 280\n",
       "19   가톨릭대학교  서울특별시 종로구 창경궁로 296-12"
      ]
     },
     "execution_count": 47,
     "metadata": {},
     "output_type": "execute_result"
    }
   ],
   "source": [
    "# 대학이름이 '대학교'로 끝나는 데이터셋 추출\n",
    "df[df['대학이름'].str.endswith(\"대학교\")]"
   ]
  },
  {
   "cell_type": "code",
   "execution_count": 48,
   "id": "9f38e890",
   "metadata": {},
   "outputs": [
    {
     "data": {
      "text/html": [
       "<div>\n",
       "<style scoped>\n",
       "    .dataframe tbody tr th:only-of-type {\n",
       "        vertical-align: middle;\n",
       "    }\n",
       "\n",
       "    .dataframe tbody tr th {\n",
       "        vertical-align: top;\n",
       "    }\n",
       "\n",
       "    .dataframe thead th {\n",
       "        text-align: right;\n",
       "    }\n",
       "</style>\n",
       "<table border=\"1\" class=\"dataframe\">\n",
       "  <thead>\n",
       "    <tr style=\"text-align: right;\">\n",
       "      <th></th>\n",
       "      <th>대학이름</th>\n",
       "      <th>주소</th>\n",
       "    </tr>\n",
       "  </thead>\n",
       "  <tbody>\n",
       "    <tr>\n",
       "      <th>1</th>\n",
       "      <td>KAIST</td>\n",
       "      <td>대전광역시 유성구 대학로 291</td>\n",
       "    </tr>\n",
       "    <tr>\n",
       "      <th>4</th>\n",
       "      <td>UNIST</td>\n",
       "      <td>울산광역시 울주군 언양읍 유니스트길 50</td>\n",
       "    </tr>\n",
       "    <tr>\n",
       "      <th>10</th>\n",
       "      <td>GIST</td>\n",
       "      <td>광주광역시 북구 첨단과기로 123</td>\n",
       "    </tr>\n",
       "  </tbody>\n",
       "</table>\n",
       "</div>"
      ],
      "text/plain": [
       "     대학이름                      주소\n",
       "1   KAIST       대전광역시 유성구 대학로 291\n",
       "4   UNIST  울산광역시 울주군 언양읍 유니스트길 50\n",
       "10   GIST      광주광역시 북구 첨단과기로 123"
      ]
     },
     "execution_count": 48,
     "metadata": {},
     "output_type": "execute_result"
    }
   ],
   "source": [
    "# 대학이름이 '대학교'로 끝나지 않는 데이터셋 추출\n",
    "df[~df['대학이름'].str.endswith(\"대학교\")]"
   ]
  },
  {
   "cell_type": "code",
   "execution_count": 49,
   "id": "83d39023",
   "metadata": {},
   "outputs": [
    {
     "data": {
      "text/plain": [
       "0     False\n",
       "1      True\n",
       "2     False\n",
       "3     False\n",
       "4      True\n",
       "5     False\n",
       "6     False\n",
       "7     False\n",
       "8     False\n",
       "9     False\n",
       "10     True\n",
       "11    False\n",
       "12    False\n",
       "13    False\n",
       "14    False\n",
       "15     True\n",
       "16     True\n",
       "17     True\n",
       "18    False\n",
       "19    False\n",
       "Name: 주소, dtype: bool"
      ]
     },
     "execution_count": 49,
     "metadata": {},
     "output_type": "execute_result"
    }
   ],
   "source": [
    "# str.contains(pat)\n",
    "# pat(문자열 또는 정규식)이 포함되면 True, 아니면 Fasle 반환\n",
    "df['주소'].str.contains('광역시')"
   ]
  },
  {
   "cell_type": "code",
   "execution_count": 50,
   "id": "2e086380",
   "metadata": {},
   "outputs": [
    {
     "data": {
      "text/html": [
       "<div>\n",
       "<style scoped>\n",
       "    .dataframe tbody tr th:only-of-type {\n",
       "        vertical-align: middle;\n",
       "    }\n",
       "\n",
       "    .dataframe tbody tr th {\n",
       "        vertical-align: top;\n",
       "    }\n",
       "\n",
       "    .dataframe thead th {\n",
       "        text-align: right;\n",
       "    }\n",
       "</style>\n",
       "<table border=\"1\" class=\"dataframe\">\n",
       "  <thead>\n",
       "    <tr style=\"text-align: right;\">\n",
       "      <th></th>\n",
       "      <th>대학이름</th>\n",
       "      <th>주소</th>\n",
       "    </tr>\n",
       "  </thead>\n",
       "  <tbody>\n",
       "    <tr>\n",
       "      <th>1</th>\n",
       "      <td>KAIST</td>\n",
       "      <td>대전광역시 유성구 대학로 291</td>\n",
       "    </tr>\n",
       "    <tr>\n",
       "      <th>4</th>\n",
       "      <td>UNIST</td>\n",
       "      <td>울산광역시 울주군 언양읍 유니스트길 50</td>\n",
       "    </tr>\n",
       "    <tr>\n",
       "      <th>10</th>\n",
       "      <td>GIST</td>\n",
       "      <td>광주광역시 북구 첨단과기로 123</td>\n",
       "    </tr>\n",
       "    <tr>\n",
       "      <th>15</th>\n",
       "      <td>경북대학교</td>\n",
       "      <td>대구광역시 북구 대학로 80</td>\n",
       "    </tr>\n",
       "    <tr>\n",
       "      <th>16</th>\n",
       "      <td>울산대학교</td>\n",
       "      <td>울산광역시 남구 대학로 93</td>\n",
       "    </tr>\n",
       "    <tr>\n",
       "      <th>17</th>\n",
       "      <td>부산대학교</td>\n",
       "      <td>부산광역시 금정구 부산대학로63번길 2</td>\n",
       "    </tr>\n",
       "  </tbody>\n",
       "</table>\n",
       "</div>"
      ],
      "text/plain": [
       "     대학이름                      주소\n",
       "1   KAIST       대전광역시 유성구 대학로 291\n",
       "4   UNIST  울산광역시 울주군 언양읍 유니스트길 50\n",
       "10   GIST      광주광역시 북구 첨단과기로 123\n",
       "15  경북대학교         대구광역시 북구 대학로 80\n",
       "16  울산대학교         울산광역시 남구 대학로 93\n",
       "17  부산대학교   부산광역시 금정구 부산대학로63번길 2"
      ]
     },
     "execution_count": 50,
     "metadata": {},
     "output_type": "execute_result"
    }
   ],
   "source": [
    "# 주소에 '광역시'를 포함하는 데이터셋 추출\n",
    "df[df['주소'].str.contains('광역시')]"
   ]
  },
  {
   "cell_type": "code",
   "execution_count": 51,
   "id": "cc37f7d6",
   "metadata": {},
   "outputs": [
    {
     "data": {
      "text/plain": [
       "0             [서울특별시, 관악구, 관악로, 1]\n",
       "1           [대전광역시, 유성구, 대학로, 291]\n",
       "2         [서울특별시, 종로구, 성균관로, 25-2]\n",
       "3           [서울특별시, 서대문구, 연세로, 50]\n",
       "4     [울산광역시, 울주군, 언양읍, 유니스트길, 50]\n",
       "5         [경상북도, 포항시, 남구, 청암로, 77]\n",
       "6           [서울특별시, 성북구, 안암로, 145]\n",
       "7          [서울특별시, 동대문구, 경희대로, 26]\n",
       "8           [서울특별시, 광진구, 능동로, 209]\n",
       "9          [서울특별시, 성동구, 왕십리로, 222]\n",
       "10         [광주광역시, 북구, 첨단과기로, 123]\n",
       "11      [경기도, 수원시, 영통구, 월드컵로, 206]\n",
       "12           [서울특별시, 동작구, 흑석로, 84]\n",
       "13        [서울특별시, 서대문구, 이화여대길, 52]\n",
       "14          [서울특별시, 광진구, 능동로, 120]\n",
       "15            [대구광역시, 북구, 대학로, 80]\n",
       "16            [울산광역시, 남구, 대학로, 93]\n",
       "17      [부산광역시, 금정구, 부산대학로63번길, 2]\n",
       "18           [경상북도, 경산시, 대학로, 280]\n",
       "19      [서울특별시, 종로구, 창경궁로, 296-12]\n",
       "Name: 주소, dtype: object"
      ]
     },
     "execution_count": 51,
     "metadata": {},
     "output_type": "execute_result"
    }
   ],
   "source": [
    "# str.split(pat=None)\n",
    "# pat를 기준으로 문자열을 분할\n",
    "df['주소'].str.split() # 공백을 기준으로 분리"
   ]
  },
  {
   "cell_type": "code",
   "execution_count": 52,
   "id": "bc4d65e6",
   "metadata": {},
   "outputs": [
    {
     "data": {
      "text/plain": [
       "0      8\n",
       "1      8\n",
       "2      8\n",
       "3      9\n",
       "4     -1\n",
       "5     10\n",
       "6      8\n",
       "7      9\n",
       "8      8\n",
       "9      8\n",
       "10     7\n",
       "11    10\n",
       "12     8\n",
       "13     9\n",
       "14     8\n",
       "15     1\n",
       "16     7\n",
       "17     8\n",
       "18    -1\n",
       "19     8\n",
       "Name: 주소, dtype: int64"
      ]
     },
     "execution_count": 52,
     "metadata": {},
     "output_type": "execute_result"
    }
   ],
   "source": [
    "# str.find(sub, start=0, end=None)\n",
    "# sub가 있는 위치를 start에서부터 end까지에서 찾아 위치값을 반환\n",
    "df['주소'].str.find('구') # '구'가 있는 위치 인덱스"
   ]
  },
  {
   "cell_type": "code",
   "execution_count": 53,
   "id": "dc9dfb7f",
   "metadata": {},
   "outputs": [
    {
     "data": {
      "text/plain": [
       "0     13\n",
       "1     13\n",
       "2     14\n",
       "3     14\n",
       "4     19\n",
       "5     15\n",
       "6     13\n",
       "7     15\n",
       "8     13\n",
       "9     14\n",
       "10    14\n",
       "11    16\n",
       "12    13\n",
       "13    16\n",
       "14    13\n",
       "15    12\n",
       "16    12\n",
       "17    19\n",
       "18    12\n",
       "19    14\n",
       "Name: 주소, dtype: int64"
      ]
     },
     "execution_count": 53,
     "metadata": {},
     "output_type": "execute_result"
    }
   ],
   "source": [
    "# str.rfind(sub, start=0, end=None)\n",
    "# sub가 있는 위치를 start에서부터 end까지에서 찾아 가장 높은 위치값을 반환\n",
    "df['주소'].str.rfind(sub = ' ') # 가장 뒤에 있는 공백 위치"
   ]
  },
  {
   "cell_type": "code",
   "execution_count": 54,
   "id": "591b3ba7",
   "metadata": {},
   "outputs": [
    {
     "data": {
      "text/plain": [
       "0        [관악구]\n",
       "1        [유성구]\n",
       "2        [종로구]\n",
       "3       [서대문구]\n",
       "4           []\n",
       "5         [남구]\n",
       "6        [성북구]\n",
       "7       [동대문구]\n",
       "8        [광진구]\n",
       "9        [성동구]\n",
       "10        [북구]\n",
       "11       [영통구]\n",
       "12       [동작구]\n",
       "13      [서대문구]\n",
       "14       [광진구]\n",
       "15    [대구, 북구]\n",
       "16        [남구]\n",
       "17       [금정구]\n",
       "18          []\n",
       "19       [종로구]\n",
       "Name: 주소, dtype: object"
      ]
     },
     "execution_count": 54,
     "metadata": {},
     "output_type": "execute_result"
    }
   ],
   "source": [
    "# str.findall(pat)\n",
    "# 모든 pat(문자열 또는 정규식) 항목을 반환\n",
    "df['주소'].str.findall('\\w+구') # 구로 끝나는 단어들을 모두 반환"
   ]
  },
  {
   "cell_type": "code",
   "execution_count": 55,
   "id": "5424f91a",
   "metadata": {},
   "outputs": [
    {
     "data": {
      "text/plain": [
       "0            서울특별시_관악구_관악로_1\n",
       "1          대전광역시_유성구_대학로_291\n",
       "2        서울특별시_종로구_성균관로_25-2\n",
       "3          서울특별시_서대문구_연세로_50\n",
       "4     울산광역시_울주군_언양읍_유니스트길_50\n",
       "5         경상북도_포항시_남구_청암로_77\n",
       "6          서울특별시_성북구_안암로_145\n",
       "7         서울특별시_동대문구_경희대로_26\n",
       "8          서울특별시_광진구_능동로_209\n",
       "9         서울특별시_성동구_왕십리로_222\n",
       "10        광주광역시_북구_첨단과기로_123\n",
       "11      경기도_수원시_영통구_월드컵로_206\n",
       "12          서울특별시_동작구_흑석로_84\n",
       "13       서울특별시_서대문구_이화여대길_52\n",
       "14         서울특별시_광진구_능동로_120\n",
       "15           대구광역시_북구_대학로_80\n",
       "16           울산광역시_남구_대학로_93\n",
       "17     부산광역시_금정구_부산대학로63번길_2\n",
       "18          경상북도_경산시_대학로_280\n",
       "19     서울특별시_종로구_창경궁로_296-12\n",
       "Name: 주소, dtype: object"
      ]
     },
     "execution_count": 55,
     "metadata": {},
     "output_type": "execute_result"
    }
   ],
   "source": [
    "# str.replace(pat, repl)\n",
    "# pat를 repl으로 대치함\n",
    "df['주소'].str.replace(\" \", \"_\") # 공백을 '_'로 대치함"
   ]
  },
  {
   "cell_type": "code",
   "execution_count": 56,
   "id": "aa3f374b",
   "metadata": {},
   "outputs": [
    {
     "data": {
      "text/html": [
       "<div>\n",
       "<style scoped>\n",
       "    .dataframe tbody tr th:only-of-type {\n",
       "        vertical-align: middle;\n",
       "    }\n",
       "\n",
       "    .dataframe tbody tr th {\n",
       "        vertical-align: top;\n",
       "    }\n",
       "\n",
       "    .dataframe thead th {\n",
       "        text-align: right;\n",
       "    }\n",
       "</style>\n",
       "<table border=\"1\" class=\"dataframe\">\n",
       "  <thead>\n",
       "    <tr style=\"text-align: right;\">\n",
       "      <th></th>\n",
       "      <th>대학이름</th>\n",
       "      <th>주소</th>\n",
       "    </tr>\n",
       "  </thead>\n",
       "  <tbody>\n",
       "    <tr>\n",
       "      <th>0</th>\n",
       "      <td>서울대학교</td>\n",
       "      <td>/!서울특별시 관악구 관악로 1</td>\n",
       "    </tr>\n",
       "    <tr>\n",
       "      <th>1</th>\n",
       "      <td>KAIST</td>\n",
       "      <td>대전광역시 유성구 대학로 291 ##</td>\n",
       "    </tr>\n",
       "    <tr>\n",
       "      <th>2</th>\n",
       "      <td>성균관대학교</td>\n",
       "      <td>서울특별시 종로구 성균관로 25-2</td>\n",
       "    </tr>\n",
       "    <tr>\n",
       "      <th>3</th>\n",
       "      <td>연세대학교</td>\n",
       "      <td>서울특별시 서대문구 연세로 50</td>\n",
       "    </tr>\n",
       "    <tr>\n",
       "      <th>4</th>\n",
       "      <td>UNIST</td>\n",
       "      <td>## 울산광역시 울주군 언양읍 유니스트길 50 %</td>\n",
       "    </tr>\n",
       "    <tr>\n",
       "      <th>5</th>\n",
       "      <td>포항공과대학교</td>\n",
       "      <td>경상북도 포항시 남구 청암로 77</td>\n",
       "    </tr>\n",
       "    <tr>\n",
       "      <th>6</th>\n",
       "      <td>고려대학교</td>\n",
       "      <td>서울특별시 성북구 안암로 145</td>\n",
       "    </tr>\n",
       "    <tr>\n",
       "      <th>7</th>\n",
       "      <td>경희대학교</td>\n",
       "      <td>서울특별시 동대문구 경희대로 26</td>\n",
       "    </tr>\n",
       "    <tr>\n",
       "      <th>8</th>\n",
       "      <td>세종대학교</td>\n",
       "      <td>^!서울특별시 광진구 능동로 209</td>\n",
       "    </tr>\n",
       "    <tr>\n",
       "      <th>9</th>\n",
       "      <td>한양대학교</td>\n",
       "      <td>서울특별시 성동구 왕십리로 222</td>\n",
       "    </tr>\n",
       "    <tr>\n",
       "      <th>10</th>\n",
       "      <td>GIST</td>\n",
       "      <td>광주광역시 북구 첨단과기로 123</td>\n",
       "    </tr>\n",
       "    <tr>\n",
       "      <th>11</th>\n",
       "      <td>아주대학교</td>\n",
       "      <td>경기도 수원시 영통구 월드컵로 206</td>\n",
       "    </tr>\n",
       "    <tr>\n",
       "      <th>12</th>\n",
       "      <td>중앙대학교</td>\n",
       "      <td>서울특별시 동작구 흑석로 84</td>\n",
       "    </tr>\n",
       "    <tr>\n",
       "      <th>13</th>\n",
       "      <td>이화여자대학교</td>\n",
       "      <td>__________서울특별시 서대문구 이화여대길 52</td>\n",
       "    </tr>\n",
       "    <tr>\n",
       "      <th>14</th>\n",
       "      <td>건국대학교</td>\n",
       "      <td>서울특별시 광진구 능동로 120</td>\n",
       "    </tr>\n",
       "    <tr>\n",
       "      <th>15</th>\n",
       "      <td>경북대학교</td>\n",
       "      <td>대구광역시 북구 대학로 80</td>\n",
       "    </tr>\n",
       "    <tr>\n",
       "      <th>16</th>\n",
       "      <td>울산대학교</td>\n",
       "      <td>울산광역시 남구 대학로 93___</td>\n",
       "    </tr>\n",
       "    <tr>\n",
       "      <th>17</th>\n",
       "      <td>부산대학교</td>\n",
       "      <td>부산광역시 금정구 부산대학로63번길 2</td>\n",
       "    </tr>\n",
       "    <tr>\n",
       "      <th>18</th>\n",
       "      <td>영남대학교</td>\n",
       "      <td>경상북도 경산시 대학로 280</td>\n",
       "    </tr>\n",
       "    <tr>\n",
       "      <th>19</th>\n",
       "      <td>가톨릭대학교</td>\n",
       "      <td>서울특별시 종로구 창경궁로 296-12</td>\n",
       "    </tr>\n",
       "  </tbody>\n",
       "</table>\n",
       "</div>"
      ],
      "text/plain": [
       "       대학이름                                  주소\n",
       "0     서울대학교                   /!서울특별시 관악구 관악로 1\n",
       "1     KAIST                대전광역시 유성구 대학로 291 ##\n",
       "2    성균관대학교                 서울특별시 종로구 성균관로 25-2\n",
       "3     연세대학교                   서울특별시 서대문구 연세로 50\n",
       "4     UNIST         ## 울산광역시 울주군 언양읍 유니스트길 50 %\n",
       "5   포항공과대학교                  경상북도 포항시 남구 청암로 77\n",
       "6     고려대학교                   서울특별시 성북구 안암로 145\n",
       "7     경희대학교                  서울특별시 동대문구 경희대로 26\n",
       "8     세종대학교                 ^!서울특별시 광진구 능동로 209\n",
       "9     한양대학교                  서울특별시 성동구 왕십리로 222\n",
       "10     GIST                  광주광역시 북구 첨단과기로 123\n",
       "11    아주대학교                경기도 수원시 영통구 월드컵로 206\n",
       "12    중앙대학교      서울특별시 동작구 흑석로 84              \n",
       "13  이화여자대학교       __________서울특별시 서대문구 이화여대길 52\n",
       "14    건국대학교                   서울특별시 광진구 능동로 120\n",
       "15    경북대학교          대구광역시 북구 대학로 80           \n",
       "16    울산대학교                  울산광역시 남구 대학로 93___\n",
       "17    부산대학교               부산광역시 금정구 부산대학로63번길 2\n",
       "18    영남대학교                    경상북도 경산시 대학로 280\n",
       "19   가톨릭대학교               서울특별시 종로구 창경궁로 296-12"
      ]
     },
     "execution_count": 56,
     "metadata": {},
     "output_type": "execute_result"
    }
   ],
   "source": [
    "# 데이터프레임 불러오기\n",
    "df = pd.read_csv('data/예제/University_text_before.csv', encoding = 'CP949')\n",
    "df"
   ]
  },
  {
   "cell_type": "code",
   "execution_count": 57,
   "id": "f5620769",
   "metadata": {},
   "outputs": [
    {
     "data": {
      "text/plain": [
       "0            서울특별시 관악구 관악로 1\n",
       "1          대전광역시 유성구 대학로 291\n",
       "2        서울특별시 종로구 성균관로 25-2\n",
       "3          서울특별시 서대문구 연세로 50\n",
       "4     울산광역시 울주군 언양읍 유니스트길 50\n",
       "5         경상북도 포항시 남구 청암로 77\n",
       "6          서울특별시 성북구 안암로 145\n",
       "7         서울특별시 동대문구 경희대로 26\n",
       "8          서울특별시 광진구 능동로 209\n",
       "9         서울특별시 성동구 왕십리로 222\n",
       "10        광주광역시 북구 첨단과기로 123\n",
       "11      경기도 수원시 영통구 월드컵로 206\n",
       "12          서울특별시 동작구 흑석로 84\n",
       "13       서울특별시 서대문구 이화여대길 52\n",
       "14         서울특별시 광진구 능동로 120\n",
       "15           대구광역시 북구 대학로 80\n",
       "16           울산광역시 남구 대학로 93\n",
       "17     부산광역시 금정구 부산대학로63번길 2\n",
       "18          경상북도 경산시 대학로 280\n",
       "19     서울특별시 종로구 창경궁로 296-12\n",
       "Name: 주소, dtype: object"
      ]
     },
     "execution_count": 57,
     "metadata": {},
     "output_type": "execute_result"
    }
   ],
   "source": [
    "# str.strip(to_strip = None)\n",
    "# 선행 및 후행 문자를 제거\n",
    "df['주소'].str.strip(to_strip = '_^!#? /%')"
   ]
  },
  {
   "cell_type": "code",
   "execution_count": 58,
   "id": "a038c4d2",
   "metadata": {},
   "outputs": [
    {
     "data": {
      "text/plain": [
       "0                    서울특별시 관악구 관악로 1\n",
       "1               대전광역시 유성구 대학로 291 ##\n",
       "2                서울특별시 종로구 성균관로 25-2\n",
       "3                  서울특별시 서대문구 연세로 50\n",
       "4           울산광역시 울주군 언양읍 유니스트길 50 %\n",
       "5                 경상북도 포항시 남구 청암로 77\n",
       "6                  서울특별시 성북구 안암로 145\n",
       "7                 서울특별시 동대문구 경희대로 26\n",
       "8                  서울특별시 광진구 능동로 209\n",
       "9                 서울특별시 성동구 왕십리로 222\n",
       "10                광주광역시 북구 첨단과기로 123\n",
       "11              경기도 수원시 영통구 월드컵로 206\n",
       "12    서울특별시 동작구 흑석로 84              \n",
       "13               서울특별시 서대문구 이화여대길 52\n",
       "14                 서울특별시 광진구 능동로 120\n",
       "15        대구광역시 북구 대학로 80           \n",
       "16                울산광역시 남구 대학로 93___\n",
       "17             부산광역시 금정구 부산대학로63번길 2\n",
       "18                  경상북도 경산시 대학로 280\n",
       "19             서울특별시 종로구 창경궁로 296-12\n",
       "Name: 주소, dtype: object"
      ]
     },
     "execution_count": 58,
     "metadata": {},
     "output_type": "execute_result"
    }
   ],
   "source": [
    "# str.lstrip(to_strip = None)\n",
    "# 선행 문자를 제거\n",
    "df['주소'].str.lstrip(to_strip = '_^!#? /%')"
   ]
  },
  {
   "cell_type": "code",
   "execution_count": 59,
   "id": "66fce9ef",
   "metadata": {},
   "outputs": [
    {
     "data": {
      "text/plain": [
       "0                      /!서울특별시 관악구 관악로 1\n",
       "1                      대전광역시 유성구 대학로 291\n",
       "2                    서울특별시 종로구 성균관로 25-2\n",
       "3                      서울특별시 서대문구 연세로 50\n",
       "4              ## 울산광역시 울주군 언양읍 유니스트길 50\n",
       "5                     경상북도 포항시 남구 청암로 77\n",
       "6                      서울특별시 성북구 안암로 145\n",
       "7                     서울특별시 동대문구 경희대로 26\n",
       "8                    ^!서울특별시 광진구 능동로 209\n",
       "9                     서울특별시 성동구 왕십리로 222\n",
       "10                    광주광역시 북구 첨단과기로 123\n",
       "11                  경기도 수원시 영통구 월드컵로 206\n",
       "12                      서울특별시 동작구 흑석로 84\n",
       "13         __________서울특별시 서대문구 이화여대길 52\n",
       "14                     서울특별시 광진구 능동로 120\n",
       "15                       대구광역시 북구 대학로 80\n",
       "16                       울산광역시 남구 대학로 93\n",
       "17                 부산광역시 금정구 부산대학로63번길 2\n",
       "18                      경상북도 경산시 대학로 280\n",
       "19                 서울특별시 종로구 창경궁로 296-12\n",
       "Name: 주소, dtype: object"
      ]
     },
     "execution_count": 59,
     "metadata": {},
     "output_type": "execute_result"
    }
   ],
   "source": [
    "# str.rstrip(to_strip=None)\n",
    "# 후행 문자를 제거\n",
    "df['주소'].str.rstrip(to_strip = '_^!#? /%')"
   ]
  },
  {
   "cell_type": "code",
   "execution_count": 60,
   "id": "59b15e44",
   "metadata": {},
   "outputs": [],
   "source": [
    "# 대소문자 변경\n",
    "# .str.lower() : 모두 소문자로 변경\n",
    "# .str.upper() : 모두 대문자로 변경\n",
    "# .str.swapcase() : 소문자는 대문자, 대문자는 소문자로 변경 "
   ]
  },
  {
   "cell_type": "markdown",
   "id": "8fe75eec",
   "metadata": {},
   "source": []
  },
  {
   "cell_type": "markdown",
   "id": "33c65da9",
   "metadata": {},
   "source": [
    "### 2절. 날짜 데이터 다루기"
   ]
  },
  {
   "cell_type": "markdown",
   "id": "1646a450",
   "metadata": {},
   "source": [
    "#### 1. datetime형"
   ]
  },
  {
   "cell_type": "code",
   "execution_count": 61,
   "id": "929c37b3",
   "metadata": {},
   "outputs": [],
   "source": [
    "import pandas as pd\n",
    "\n",
    "# 데이터프레임 불러오기\n",
    "df = pd.read_csv('data/예제/University_date.csv', encoding = 'CP949')"
   ]
  },
  {
   "cell_type": "code",
   "execution_count": 62,
   "id": "850c5faf",
   "metadata": {},
   "outputs": [
    {
     "data": {
      "text/plain": [
       "0    1946-10-15\n",
       "1    1971-02-16\n",
       "2    2007-09-03\n",
       "3    1986-12-03\n",
       "4    1905-05-05\n",
       "5    1993-11-17\n",
       "6    1946-05-15\n",
       "7    1969-12-24\n",
       "8    1946-05-15\n",
       "Name: 창립일, dtype: object"
      ]
     },
     "execution_count": 62,
     "metadata": {},
     "output_type": "execute_result"
    }
   ],
   "source": [
    "# 날짜 형태인 문자열\n",
    "df['창립일']"
   ]
  },
  {
   "cell_type": "code",
   "execution_count": 63,
   "id": "e989c6c3",
   "metadata": {},
   "outputs": [
    {
     "data": {
      "text/plain": [
       "0   1946-10-15\n",
       "1   1971-02-16\n",
       "2   2007-09-03\n",
       "3   1986-12-03\n",
       "4   1905-05-05\n",
       "5   1993-11-17\n",
       "6   1946-05-15\n",
       "7   1969-12-24\n",
       "8   1946-05-15\n",
       "Name: 창립일, dtype: datetime64[ns]"
      ]
     },
     "execution_count": 63,
     "metadata": {},
     "output_type": "execute_result"
    }
   ],
   "source": [
    "# pandas.to_datetime()\n",
    "# 문자열 -> datetime형\n",
    "pd.to_datetime(df['창립일']) # 구문 분석 자동"
   ]
  },
  {
   "cell_type": "code",
   "execution_count": 64,
   "id": "8e3ebb9c",
   "metadata": {},
   "outputs": [
    {
     "data": {
      "text/plain": [
       "0   1946-10-15\n",
       "1   1971-02-16\n",
       "2   2007-09-03\n",
       "3   1986-12-03\n",
       "4   1905-05-05\n",
       "5   1993-11-17\n",
       "6   1946-05-15\n",
       "7   1969-12-24\n",
       "8   1946-05-15\n",
       "Name: 창립일, dtype: datetime64[ns]"
      ]
     },
     "execution_count": 64,
     "metadata": {},
     "output_type": "execute_result"
    }
   ],
   "source": [
    "# 문자열 -> datetime형\n",
    "pd.to_datetime(df['창립일'], format = '%Y-%m-%d') # '네자리연도-월-일'로 구문 분석"
   ]
  },
  {
   "cell_type": "code",
   "execution_count": 65,
   "id": "c814b2e3",
   "metadata": {},
   "outputs": [],
   "source": [
    "# 기존의 창립일 열을 datatime형을 변환\n",
    "df['창립일'] = pd.to_datetime(df['창립일'])"
   ]
  },
  {
   "cell_type": "code",
   "execution_count": 66,
   "id": "1d60cb7f",
   "metadata": {},
   "outputs": [
    {
     "data": {
      "text/plain": [
       "DatetimeIndex(['2000-01-01', '2000-01-02', '2000-01-03', '2000-01-04',\n",
       "               '2000-01-05', '2000-01-06', '2000-01-07', '2000-01-08',\n",
       "               '2000-01-09', '2000-01-10'],\n",
       "              dtype='datetime64[ns]', freq='D')"
      ]
     },
     "execution_count": 66,
     "metadata": {},
     "output_type": "execute_result"
    }
   ],
   "source": [
    "# 시계열생성\n",
    "# 2000년 1월 1일부터 2000년 1월 10일까지 1일 단위로 생성\n",
    "pd.date_range(\"2000-01-01\", \"2000-01-10\")"
   ]
  },
  {
   "cell_type": "code",
   "execution_count": 67,
   "id": "fc3e373e",
   "metadata": {},
   "outputs": [
    {
     "data": {
      "text/plain": [
       "DatetimeIndex(['2000-01-01', '2000-01-02', '2000-01-03'], dtype='datetime64[ns]', freq='D')"
      ]
     },
     "execution_count": 67,
     "metadata": {},
     "output_type": "execute_result"
    }
   ],
   "source": [
    "# 2000년 1월 1일부터 1일씩 증가(3번 반복)\n",
    "pd.date_range(\"2000-01-01\", periods = 3)"
   ]
  },
  {
   "cell_type": "code",
   "execution_count": 68,
   "id": "20fe16ed",
   "metadata": {},
   "outputs": [
    {
     "data": {
      "text/plain": [
       "DatetimeIndex(['2000-01-31', '2000-02-29', '2000-03-31', '2000-04-30',\n",
       "               '2000-05-31'],\n",
       "              dtype='datetime64[ns]', freq='M')"
      ]
     },
     "execution_count": 68,
     "metadata": {},
     "output_type": "execute_result"
    }
   ],
   "source": [
    "# 2000년 1월부터 1달씩 증가(5번 반복)\n",
    "# 각 달의 마지막 날짜가 반환됨(freq = \"m\")\n",
    "pd.date_range(\"2000-01-01\", periods = 5, freq = \"m\")"
   ]
  },
  {
   "cell_type": "markdown",
   "id": "ffd0e73b",
   "metadata": {},
   "source": [
    "##### 2. 시계열 데이터 전처리"
   ]
  },
  {
   "cell_type": "code",
   "execution_count": 69,
   "id": "9bc85765",
   "metadata": {},
   "outputs": [
    {
     "data": {
      "text/plain": [
       "0    1946-10-15\n",
       "1    1971-02-16\n",
       "2    2007-09-03\n",
       "3    1986-12-03\n",
       "4    1905-05-05\n",
       "5    1993-11-17\n",
       "6    1946-05-15\n",
       "7    1969-12-24\n",
       "8    1946-05-15\n",
       "Name: 창립일, dtype: object"
      ]
     },
     "execution_count": 69,
     "metadata": {},
     "output_type": "execute_result"
    }
   ],
   "source": [
    "# 데이터프레임 불러와 기존의 창립일 열을 datatime형을 변환\n",
    "df = pd.read_csv('data/예제/University_date.csv', encoding = 'CP949')\n",
    "df['창립일'] = pd.to_datetime(df['창립일'])\n",
    "\n",
    "# 메소드 dt의 하위 메소드를 통한 날짜와 시간에 대한 정보를 확인\n",
    "# dt.date : 날짜정보(연월일)\n",
    "df['창립일'].dt.date"
   ]
  },
  {
   "cell_type": "code",
   "execution_count": 70,
   "id": "0bdab581",
   "metadata": {},
   "outputs": [
    {
     "data": {
      "text/plain": [
       "0    1946\n",
       "1    1971\n",
       "2    2007\n",
       "3    1986\n",
       "4    1905\n",
       "5    1993\n",
       "6    1946\n",
       "7    1969\n",
       "8    1946\n",
       "Name: 창립일, dtype: int64"
      ]
     },
     "execution_count": 70,
     "metadata": {},
     "output_type": "execute_result"
    }
   ],
   "source": [
    "# dt.year : 연도\n",
    "df['창립일'].dt.year"
   ]
  },
  {
   "cell_type": "code",
   "execution_count": 71,
   "id": "4047c2e6",
   "metadata": {},
   "outputs": [
    {
     "data": {
      "text/plain": [
       "0    10\n",
       "1     2\n",
       "2     9\n",
       "3    12\n",
       "4     5\n",
       "5    11\n",
       "6     5\n",
       "7    12\n",
       "8     5\n",
       "Name: 창립일, dtype: int64"
      ]
     },
     "execution_count": 71,
     "metadata": {},
     "output_type": "execute_result"
    }
   ],
   "source": [
    "# dt.month : 월\n",
    "df['창립일'].dt.month"
   ]
  },
  {
   "cell_type": "code",
   "execution_count": 72,
   "id": "b3680de5",
   "metadata": {},
   "outputs": [
    {
     "data": {
      "text/plain": [
       "0      October\n",
       "1     February\n",
       "2    September\n",
       "3     December\n",
       "4          May\n",
       "5     November\n",
       "6          May\n",
       "7     December\n",
       "8          May\n",
       "Name: 창립일, dtype: object"
      ]
     },
     "execution_count": 72,
     "metadata": {},
     "output_type": "execute_result"
    }
   ],
   "source": [
    "# dt.month_name() : 월이름\n",
    "df['창립일'].dt.month_name()"
   ]
  },
  {
   "cell_type": "code",
   "execution_count": 73,
   "id": "92fb627a",
   "metadata": {},
   "outputs": [
    {
     "data": {
      "text/plain": [
       "0    15\n",
       "1    16\n",
       "2     3\n",
       "3     3\n",
       "4     5\n",
       "5    17\n",
       "6    15\n",
       "7    24\n",
       "8    15\n",
       "Name: 창립일, dtype: int64"
      ]
     },
     "execution_count": 73,
     "metadata": {},
     "output_type": "execute_result"
    }
   ],
   "source": [
    "# dt.day : 일\n",
    "df['창립일'].dt.day"
   ]
  },
  {
   "cell_type": "code",
   "execution_count": 74,
   "id": "b446b998",
   "metadata": {},
   "outputs": [
    {
     "data": {
      "text/plain": [
       "0    1\n",
       "1    1\n",
       "2    0\n",
       "3    2\n",
       "4    4\n",
       "5    2\n",
       "6    2\n",
       "7    2\n",
       "8    2\n",
       "Name: 창립일, dtype: int64"
      ]
     },
     "execution_count": 74,
     "metadata": {},
     "output_type": "execute_result"
    }
   ],
   "source": [
    "# dt.weekday : 요일번호\n",
    "df['창립일'].dt.weekday"
   ]
  },
  {
   "cell_type": "code",
   "execution_count": 75,
   "id": "26b8b45c",
   "metadata": {},
   "outputs": [
    {
     "data": {
      "text/plain": [
       "0      Tuesday\n",
       "1      Tuesday\n",
       "2       Monday\n",
       "3    Wednesday\n",
       "4       Friday\n",
       "5    Wednesday\n",
       "6    Wednesday\n",
       "7    Wednesday\n",
       "8    Wednesday\n",
       "Name: 창립일, dtype: object"
      ]
     },
     "execution_count": 75,
     "metadata": {},
     "output_type": "execute_result"
    }
   ],
   "source": [
    "# dt.day_name() : 요일이름\n",
    "df['창립일'].dt.day_name()"
   ]
  },
  {
   "cell_type": "code",
   "execution_count": 76,
   "id": "3279a28b",
   "metadata": {},
   "outputs": [
    {
     "data": {
      "text/plain": [
       "0    4\n",
       "1    1\n",
       "2    3\n",
       "3    4\n",
       "4    2\n",
       "5    4\n",
       "6    2\n",
       "7    4\n",
       "8    2\n",
       "Name: 창립일, dtype: int64"
      ]
     },
     "execution_count": 76,
     "metadata": {},
     "output_type": "execute_result"
    }
   ],
   "source": [
    "# dt.quarter : 분기\n",
    "df['창립일'].dt.quarter"
   ]
  },
  {
   "cell_type": "code",
   "execution_count": 77,
   "id": "cb46a413",
   "metadata": {},
   "outputs": [
    {
     "name": "stderr",
     "output_type": "stream",
     "text": [
      "<ipython-input-77-8770ed159db1>:2: FutureWarning: Series.dt.weekofyear and Series.dt.week have been deprecated. Please use Series.dt.isocalendar().week instead.\n",
      "  df['창립일'].dt.weekofyear\n"
     ]
    },
    {
     "data": {
      "text/plain": [
       "0    42\n",
       "1     7\n",
       "2    36\n",
       "3    49\n",
       "4    18\n",
       "5    46\n",
       "6    20\n",
       "7    52\n",
       "8    20\n",
       "Name: 창립일, dtype: int64"
      ]
     },
     "execution_count": 77,
     "metadata": {},
     "output_type": "execute_result"
    }
   ],
   "source": [
    "# weekofyear : 연도기준 주\n",
    "df['창립일'].dt.weekofyear"
   ]
  },
  {
   "cell_type": "code",
   "execution_count": 78,
   "id": "15fc40e4",
   "metadata": {},
   "outputs": [
    {
     "data": {
      "text/plain": [
       "0    288\n",
       "1     47\n",
       "2    246\n",
       "3    337\n",
       "4    125\n",
       "5    321\n",
       "6    135\n",
       "7    358\n",
       "8    135\n",
       "Name: 창립일, dtype: int64"
      ]
     },
     "execution_count": 78,
     "metadata": {},
     "output_type": "execute_result"
    }
   ],
   "source": [
    "# dayofyear : 연도기준 일\n",
    "df['창립일'].dt.dayofyear"
   ]
  },
  {
   "cell_type": "code",
   "execution_count": 79,
   "id": "e80e7195",
   "metadata": {},
   "outputs": [
    {
     "data": {
      "text/plain": [
       "0    31\n",
       "1    28\n",
       "2    30\n",
       "3    31\n",
       "4    31\n",
       "5    30\n",
       "6    31\n",
       "7    31\n",
       "8    31\n",
       "Name: 창립일, dtype: int64"
      ]
     },
     "execution_count": 79,
     "metadata": {},
     "output_type": "execute_result"
    }
   ],
   "source": [
    "# daysinmonth : 해당 월의 총 일수\n",
    "df['창립일'].dt.daysinmonth"
   ]
  },
  {
   "cell_type": "code",
   "execution_count": 80,
   "id": "27353161",
   "metadata": {},
   "outputs": [
    {
     "data": {
      "text/plain": [
       "0   2022-06-01 16:30:05\n",
       "1   2022-06-01 16:30:06\n",
       "2   2022-06-01 16:30:07\n",
       "3   2022-06-01 16:30:08\n",
       "4   2022-06-01 16:30:09\n",
       "dtype: datetime64[ns]"
      ]
     },
     "execution_count": 80,
     "metadata": {},
     "output_type": "execute_result"
    }
   ],
   "source": [
    "# 2022-06-01 16:30:05부터 1초씩 증가(10번 반복)하는 시계열 생성\n",
    "sr  = pd.Series(pd.date_range(\"2022-06-01 16:30:05\", periods  = 5, freq = \"s\"))\n",
    "sr"
   ]
  },
  {
   "cell_type": "code",
   "execution_count": 81,
   "id": "17840437",
   "metadata": {},
   "outputs": [
    {
     "data": {
      "text/plain": [
       "0    16:30:05\n",
       "1    16:30:06\n",
       "2    16:30:07\n",
       "3    16:30:08\n",
       "4    16:30:09\n",
       "dtype: object"
      ]
     },
     "execution_count": 81,
     "metadata": {},
     "output_type": "execute_result"
    }
   ],
   "source": [
    "# dt.time : 시간정보(시분초)\n",
    "sr.dt.time"
   ]
  },
  {
   "cell_type": "code",
   "execution_count": 82,
   "id": "b3bbc4d1",
   "metadata": {},
   "outputs": [
    {
     "data": {
      "text/plain": [
       "0    16\n",
       "1    16\n",
       "2    16\n",
       "3    16\n",
       "4    16\n",
       "dtype: int64"
      ]
     },
     "execution_count": 82,
     "metadata": {},
     "output_type": "execute_result"
    }
   ],
   "source": [
    "# dt.hour : 시\n",
    "sr.dt.hour"
   ]
  },
  {
   "cell_type": "code",
   "execution_count": 83,
   "id": "4a7dfe39",
   "metadata": {},
   "outputs": [
    {
     "data": {
      "text/plain": [
       "0    30\n",
       "1    30\n",
       "2    30\n",
       "3    30\n",
       "4    30\n",
       "dtype: int64"
      ]
     },
     "execution_count": 83,
     "metadata": {},
     "output_type": "execute_result"
    }
   ],
   "source": [
    "# dt.minute : 분\n",
    "sr.dt.minute"
   ]
  },
  {
   "cell_type": "code",
   "execution_count": 84,
   "id": "9b5173ec",
   "metadata": {},
   "outputs": [
    {
     "data": {
      "text/plain": [
       "0    5\n",
       "1    6\n",
       "2    7\n",
       "3    8\n",
       "4    9\n",
       "dtype: int64"
      ]
     },
     "execution_count": 84,
     "metadata": {},
     "output_type": "execute_result"
    }
   ],
   "source": [
    "# dt.second : 초\n",
    "sr.dt.second"
   ]
  },
  {
   "cell_type": "markdown",
   "id": "1e79d225",
   "metadata": {},
   "source": [
    "# (끝)"
   ]
  }
 ],
 "metadata": {
  "hide_input": false,
  "kernelspec": {
   "display_name": "Python 3",
   "language": "python",
   "name": "python3"
  },
  "language_info": {
   "codemirror_mode": {
    "name": "ipython",
    "version": 3
   },
   "file_extension": ".py",
   "mimetype": "text/x-python",
   "name": "python",
   "nbconvert_exporter": "python",
   "pygments_lexer": "ipython3",
   "version": "3.8.8"
  },
  "toc": {
   "base_numbering": 1,
   "nav_menu": {},
   "number_sections": false,
   "sideBar": true,
   "skip_h1_title": false,
   "title_cell": "Table of Contents",
   "title_sidebar": "Contents",
   "toc_cell": false,
   "toc_position": {},
   "toc_section_display": true,
   "toc_window_display": false
  },
  "varInspector": {
   "cols": {
    "lenName": 16,
    "lenType": 16,
    "lenVar": 40
   },
   "kernels_config": {
    "python": {
     "delete_cmd_postfix": "",
     "delete_cmd_prefix": "del ",
     "library": "var_list.py",
     "varRefreshCmd": "print(var_dic_list())"
    },
    "r": {
     "delete_cmd_postfix": ") ",
     "delete_cmd_prefix": "rm(",
     "library": "var_list.r",
     "varRefreshCmd": "cat(var_dic_list()) "
    }
   },
   "types_to_exclude": [
    "module",
    "function",
    "builtin_function_or_method",
    "instance",
    "_Feature"
   ],
   "window_display": false
  }
 },
 "nbformat": 4,
 "nbformat_minor": 5
}
