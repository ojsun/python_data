{
 "cells": [
  {
   "cell_type": "markdown",
   "metadata": {},
   "source": [
    "## Secret PART 02. 작업형03 모의고사 2회차"
   ]
  },
  {
   "cell_type": "markdown",
   "metadata": {},
   "source": [
    "01. 제공된 데이터(survey_subset.csv)는 성별에 따른 A 제품의 인지도 조사를 위해 남, 녀 각각 500명을 임의로 추출하여 실시된 응답 현황 데이터이다. 성별에 따라 1번 문항에 대한 응답이 차이가 있는 지를 동질성 검정(Test of Homogeneity)를 통해 답하시오. 가설은 아래와 같다."
   ]
  },
  {
   "cell_type": "code",
   "execution_count": 2,
   "metadata": {},
   "outputs": [
    {
     "name": "stdout",
     "output_type": "stream",
     "text": [
      "87\n",
      "10\n",
      "0.0404\n",
      "기각\n"
     ]
    }
   ],
   "source": [
    "import pandas as pd\n",
    "samp = pd.read_csv('survey_subset.csv', encoding = 'cp949')\n",
    "\n",
    "# 필요한 패키지, 함수 호출\n",
    "from scipy.stats import chi2_contingency\n",
    "\n",
    "# 카이제곱 검정 수행\n",
    "tb = pd.crosstab(samp['성별'], samp['1번문항'])\n",
    "stat, pval, df, expected = chi2_contingency(tb)\n",
    "\n",
    "# (a) 보통이다 응답 기대도수\n",
    "E13 = expected[0,2].astype('int')\n",
    "print(E13)\n",
    "\n",
    "# (b) 검정통계량\n",
    "stat = stat.astype('int')\n",
    "print(stat)\n",
    "\n",
    "# (c) p값/가설 검정 결과\n",
    "pval = round(pval, 4)\n",
    "print(pval)\n",
    "print('기각')"
   ]
  },
  {
   "cell_type": "markdown",
   "metadata": {},
   "source": [
    "02. 주어진 데이터(Cars93.csv)를 통해 미국 본토 회사(Origin) 여부에 따라 평균 프리미엄 자동차 가격(Max_Price)이 더 큰 지 t검정을 통해 답하고자 한다. 여기서, 두 그룹의 모분산은 동일하지 않다고 알려져있다. 가설은 아래와 같다."
   ]
  },
  {
   "cell_type": "code",
   "execution_count": 5,
   "metadata": {},
   "outputs": [
    {
     "name": "stdout",
     "output_type": "stream",
     "text": [
      "2.63\n",
      "2.32\n",
      "1.1335\n",
      "채택\n"
     ]
    }
   ],
   "source": [
    "import pandas as pd\n",
    "samp = pd.read_csv('Cars93.csv', encoding = 'cp949')\n",
    "\n",
    "# 필요한 패키지, 함수 호출\n",
    "from scipy.stats import ttest_ind\n",
    "\n",
    "# 필요한 컬럼 각각 할당\n",
    "Price = samp['Max_Price']\n",
    "Origin = samp['Origin']\n",
    "\n",
    "# 미국 본토 회사 프리미엄 자동차 가격\n",
    "Price_USA = Price[Origin == 'USA'].reset_index(drop = True)\n",
    "\n",
    "# 미국 본토가 아닌 회사 프리미엄 자동차 가격\n",
    "Price_non = Price[Origin == 'non-USA'].reset_index(drop = True)\n",
    "\n",
    "# (a) 미국 본토가 아닌 회사 프리미엄 자동차 가격의 표본 평균에서 미국 본토인 경우를 뺀 값\n",
    "diff = Price_non.mean() - Price_USA.mean()\n",
    "est = round(diff, 2)\n",
    "print(est)\n",
    "\n",
    "# 대응표본 t검정 수행\n",
    "stat, pval = ttest_ind(Price_non, Price_USA, equal_var = False, alternative = 'less')\n",
    "\n",
    "# (b) 검정통계량 = 점추정량/표준오차임을 이용\n",
    "se = est/stat\n",
    "se = round(se, 2)\n",
    "print(se)\n",
    "\n",
    "# (c) 검정통계량/기각 여부\n",
    "stat = round(stat, 4)\n",
    "print(stat)\n",
    "print('채택')"
   ]
  }
 ],
 "metadata": {
  "kernelspec": {
   "display_name": "big_ana",
   "language": "python",
   "name": "big_ana"
  },
  "language_info": {
   "codemirror_mode": {
    "name": "ipython",
    "version": 3
   },
   "file_extension": ".py",
   "mimetype": "text/x-python",
   "name": "python",
   "nbconvert_exporter": "python",
   "pygments_lexer": "ipython3",
   "version": "3.9.12"
  }
 },
 "nbformat": 4,
 "nbformat_minor": 4
}
