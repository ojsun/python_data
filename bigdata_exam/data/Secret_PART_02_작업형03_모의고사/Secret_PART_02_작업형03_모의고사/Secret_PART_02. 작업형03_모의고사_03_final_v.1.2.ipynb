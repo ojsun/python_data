{
 "cells": [
  {
   "cell_type": "markdown",
   "metadata": {},
   "source": [
    "## Secret PART 02. 작업형03 모의고사 3회차"
   ]
  },
  {
   "cell_type": "markdown",
   "metadata": {},
   "source": [
    "01. 주어진 데이터(영화_순위리스트.csv)를 통해 장르(genre)별 예산(budget)들의 평균에 차이가 있는 지를 분산분석(ANOVA)를 통해 답하고자 한다. 여기서, 앞의 01번의 결과와 관계 없이 모든 그룹의 모분산은 동일하다고 알려져있다. 가설은 아래와 같다."
   ]
  },
  {
   "cell_type": "code",
   "execution_count": 1,
   "metadata": {},
   "outputs": [
    {
     "name": "stdout",
     "output_type": "stream",
     "text": [
      "548.1\n",
      "0.57\n",
      "0.6352\n",
      "채택\n"
     ]
    }
   ],
   "source": [
    "import pandas as pd\n",
    "samp = pd.read_csv('영화_순위리스트.csv', encoding = 'cp949')\n",
    "\n",
    "# 필요한 패키지, 함수 호출\n",
    "from scipy.stats import f_oneway\n",
    "\n",
    "# 필요한 컬럼 각각 할당\n",
    "genre = samp['장르']\n",
    "budget = samp['예산']\n",
    "\n",
    "# 장르별 예산 값 할당\n",
    "budget_thriller = budget[genre == 'Thriller']\n",
    "budget_comedy = budget[genre == 'Comedy']\n",
    "budget_drama = budget[genre == 'Drama']\n",
    "budget_action = budget[genre == 'Action']\n",
    "\n",
    "## (a)\n",
    "# 집단별 표본 평균\n",
    "avg_i = [budget_thriller.mean(), budget_comedy.mean(), budget_drama.mean(), budget_action.mean()]\n",
    "a = max(avg_i) - min(avg_i) # 가장 평균 예산이 큰 장르의 표본평균에서 작은 장르의 표본평균을 뺀 값\n",
    "a = round(a, 1)\n",
    "print(a)\n",
    "\n",
    "## (b)-(c)\n",
    "stat, pval = f_oneway(budget_thriller, budget_comedy, budget_drama, budget_action)\n",
    "\n",
    "# (b) 검정통계량\n",
    "stat = round(stat, 2)\n",
    "print(stat)\n",
    "\n",
    "# (c) p-값/기각여부\n",
    "pval = round(pval, 4)\n",
    "print(pval)\n",
    "print('채택')\n"
   ]
  },
  {
   "cell_type": "markdown",
   "metadata": {},
   "source": [
    "02. 주어진 데이터(영화_순위리스트.csv)를 통해 장르(genre)별 트레일러뷰수의 평균에 차이가 있는 지를 검정하기 위해, 분산분석(ANOVA)을 수행한 결과, 귀무가설이 귀각되었다. 이에 따라 사후 검정을 수행하고자 한다. 가설은 아래와 같다."
   ]
  },
  {
   "cell_type": "code",
   "execution_count": 2,
   "metadata": {},
   "outputs": [
    {
     "name": "stdout",
     "output_type": "stream",
     "text": [
      "      Multiple Comparison of Means - Tukey HSD, FWER=0.05      \n",
      "===============================================================\n",
      "group1  group2   meandiff  p-adj     lower      upper    reject\n",
      "---------------------------------------------------------------\n",
      "Action   Comedy   -9238.98 0.7833 -34571.7495 16093.7895  False\n",
      "Action    Drama  1763.5175 0.9984 -25846.2707 29373.3057  False\n",
      "Action Thriller 11836.6856 0.6052 -12879.7372 36553.1084  False\n",
      "Comedy    Drama 11002.4975 0.6022 -11883.6151 33888.6101  False\n",
      "Comedy Thriller 21075.6656  0.026   1778.6374 40372.6938   True\n",
      " Drama Thriller 10073.1681 0.6464 -12128.7798  32275.116  False\n",
      "---------------------------------------------------------------\n"
     ]
    }
   ],
   "source": [
    "import pandas as pd\n",
    "samp = pd.read_csv('영화_순위리스트.csv', encoding = 'cp949')\n",
    "\n",
    "# 필요한 패키지, 함수 호출\n",
    "from statsmodels.stats.multicomp import pairwise_tukeyhsd\n",
    "\n",
    "posthoc = pairwise_tukeyhsd(samp[\"트레일러_뷰수\"], samp[\"장르\"], alpha=0.05)\n",
    "print(posthoc)"
   ]
  },
  {
   "cell_type": "code",
   "execution_count": 5,
   "metadata": {},
   "outputs": [
    {
     "name": "stdout",
     "output_type": "stream",
     "text": [
      "11836.686\n",
      "0\n",
      "-21075.666\n",
      "1\n"
     ]
    }
   ],
   "source": [
    "print(11836.686) # (a) 답\n",
    "print(0) # (b) 답\n",
    "print(-21075.666) # (c) 답\n",
    "print(1) # (d) 답"
   ]
  }
 ],
 "metadata": {
  "kernelspec": {
   "display_name": "big_ana",
   "language": "python",
   "name": "big_ana"
  },
  "language_info": {
   "codemirror_mode": {
    "name": "ipython",
    "version": 3
   },
   "file_extension": ".py",
   "mimetype": "text/x-python",
   "name": "python",
   "nbconvert_exporter": "python",
   "pygments_lexer": "ipython3",
   "version": "3.9.12"
  },
  "orig_nbformat": 4
 },
 "nbformat": 4,
 "nbformat_minor": 2
}
