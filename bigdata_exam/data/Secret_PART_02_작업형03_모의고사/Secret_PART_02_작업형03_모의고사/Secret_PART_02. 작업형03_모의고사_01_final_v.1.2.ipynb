{
 "cells": [
  {
   "cell_type": "markdown",
   "metadata": {},
   "source": [
    "## Secret PART 02. 작업형03 모의고사 1회차"
   ]
  },
  {
   "cell_type": "markdown",
   "metadata": {},
   "source": [
    "01. 주어진 데이터(Cars93.csv)를 통해 자동차 타입이 Small인 경우보다 Large인 경우의 평균 가격에 차이가 있는 지 t검정을 통해 답하고자 한다. 가설은 아래와 같다.(단, 등분산인 정규 표본을 가정)"
   ]
  },
  {
   "cell_type": "code",
   "execution_count": 1,
   "metadata": {},
   "outputs": [
    {
     "name": "stdout",
     "output_type": "stream",
     "text": [
      "13.85\n",
      "1.61\n",
      "10.5\n",
      "기각\n"
     ]
    }
   ],
   "source": [
    "import pandas as pd\n",
    "samp = pd.read_csv('Cars93.csv', encoding = 'cp949')\n",
    "\n",
    "# 필요한 패키지, 함수 호출\n",
    "from scipy.stats import ttest_ind, t\n",
    "\n",
    "# 필요한 컬럼 각각 할당\n",
    "Type = samp['Type']\n",
    "Price = samp['Price']\n",
    "\n",
    "# 타입이 Small인 경우와 Large인 경우의 Price 값 각각 할당\n",
    "Price_Large = Price[Type == \"Large\"].reset_index(drop = True).dropna()\n",
    "Price_Small = Price[Type == \"Small\"].reset_index(drop = True).dropna()\n",
    "\n",
    "# (a) 점추정량\n",
    "est = (Price_Large.mean() - Price_Small.mean())\n",
    "est = round(est, 2)\n",
    "print(est)\n",
    "\n",
    "# 대응표본 t검정 수행\n",
    "stat, pval = ttest_ind(Price_Large, Price_Small, equal_var = True)\n",
    "\n",
    "# (b) 검정통계량 = 점추정량/표준오차임을 이용\n",
    "se = est/stat\n",
    "se = round(se, 2)\n",
    "print(se)\n",
    "\n",
    "# (c) 95% 신뢰하한\n",
    "# 자유도\n",
    "df = len(Price_Large) + len(Price_Small) - 2\n",
    "\n",
    "# 95% 신뢰하한\n",
    "CI = t.interval(.95, df, loc = est, scale = se)[0] \n",
    "\n",
    "# 신뢰상한/가설 기각 여부\n",
    "lower = round(CI, 1)\n",
    "print(lower)\n",
    "print('기각')"
   ]
  },
  {
   "cell_type": "markdown",
   "metadata": {},
   "source": [
    "02. 주어진 데이터(dices.csv)는 주사위를 던졌을 때 1~6이 나올 확률이 1/6로 동일하다는 이론이 실제로는 다르다는 것을 보이기 위해서 주사위를 500번 던진 결과이다.  이를 적합도 검정을 통해 답하고자 한다. 가설은 아래와 같다."
   ]
  },
  {
   "cell_type": "code",
   "execution_count": 1,
   "metadata": {},
   "outputs": [
    {
     "name": "stdout",
     "output_type": "stream",
     "text": [
      "83\n",
      "411\n",
      "0\n",
      "기각\n"
     ]
    }
   ],
   "source": [
    "import pandas as pd\n",
    "samp = pd.read_csv('dices.csv', encoding = 'cp949')\n",
    "\n",
    "# 필요한 패키지, 함수 호출\n",
    "from scipy.stats import chisquare\n",
    "\n",
    "# 필요한 컬럼 각각 할당\n",
    "tb = samp['scale'].value_counts().sort_index()\n",
    "\n",
    "# 기대도수\n",
    "expected = tb.sum()*(1/6)\n",
    "expected = expected.astype('int') # 정수형 변환\n",
    "print(expected)\n",
    "\n",
    "# 적합도 검정 수행\n",
    "stat, pval = chisquare(tb)\n",
    "\n",
    "# 검정통계량\n",
    "stat = int(stat)\n",
    "print(stat)\n",
    "\n",
    "# p값/기각 여부\n",
    "pval = int(pval)\n",
    "print(pval)\n",
    "print('기각')"
   ]
  }
 ],
 "metadata": {
  "kernelspec": {
   "display_name": "big_ana",
   "language": "python",
   "name": "big_ana"
  },
  "language_info": {
   "codemirror_mode": {
    "name": "ipython",
    "version": 3
   },
   "file_extension": ".py",
   "mimetype": "text/x-python",
   "name": "python",
   "nbconvert_exporter": "python",
   "pygments_lexer": "ipython3",
   "version": "3.9.12"
  },
  "orig_nbformat": 4
 },
 "nbformat": 4,
 "nbformat_minor": 2
}
