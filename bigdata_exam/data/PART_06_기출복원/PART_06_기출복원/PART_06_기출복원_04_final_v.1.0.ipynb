{
 "cells": [
  {
   "cell_type": "markdown",
   "id": "4e1be88e",
   "metadata": {},
   "source": [
    "## 기출복원 4회"
   ]
  },
  {
   "cell_type": "markdown",
   "id": "e7e22c41",
   "metadata": {},
   "source": [
    "### (작업형1) "
   ]
  },
  {
   "cell_type": "markdown",
   "id": "8e175d52",
   "metadata": {},
   "source": [
    "#### 1. Cars93  데이터셋을 불러와 Weight 컬럼에 대하여 아래의 과정을 수행하여라."
   ]
  },
  {
   "cell_type": "markdown",
   "id": "636c7990",
   "metadata": {},
   "source": [
    "(가) 제 1사분위수와 제 2사분위수를 구하기\n",
    "(나) 두 개의 차이의 절댓값을 구하기\n",
    "(다) 그 값의 소수점을 버리기"
   ]
  },
  {
   "cell_type": "code",
   "execution_count": 17,
   "id": "1c9864f5",
   "metadata": {},
   "outputs": [
    {
     "name": "stdout",
     "output_type": "stream",
     "text": [
      "420\n"
     ]
    }
   ],
   "source": [
    "#### 기출복원 04회 01 Solution\n",
    "import pandas as pd\n",
    "exam1 = pd.read_csv('data/기출복원/04회/Cars93.csv')\n",
    "\n",
    "#### Weight 컬럼 별도 저장\n",
    "Weight = exam1['Weight']\n",
    "\n",
    "#### (가) 제 1사분위수와 제 2사분위수 구하기\n",
    "q1 = Weight.quantile(.25)\n",
    "q2 = Weight.quantile(.5)\n",
    "\n",
    "#### (나) 두 개의 차이의 절댓값을 구하기\n",
    "diff = abs(q1 - q2)\n",
    "\n",
    "##### 결과를 result에 할당\n",
    "# (다) 그 값에 소수점을 버리기\n",
    "result = diff.astype('int')\n",
    "\n",
    "##### 결과 출력\n",
    "print(result)"
   ]
  },
  {
   "cell_type": "markdown",
   "id": "461efb38",
   "metadata": {},
   "source": [
    "--- "
   ]
  },
  {
   "cell_type": "markdown",
   "id": "1375c428",
   "metadata": {},
   "source": [
    "#### 2. facebook_subset 데이터셋을 불러와 좋아요를 받은 전체 수 중 모바일에서 좋아요를 받은 비율을 구하고 그 비율이 0.6보다 크고 0.7보다 작으면서 성별이 남자인 경우의 레코드 수를 구하여라. (여기서, mobile_like_recived와 www_like_recived는 각각 모바일과 웹에서 좋아요를 받은 횟수이고 두 컬럼의 합은 좋아요를 받은 전체 수임)"
   ]
  },
  {
   "cell_type": "code",
   "execution_count": 18,
   "id": "1145f219",
   "metadata": {},
   "outputs": [
    {
     "data": {
      "text/plain": [
       "208"
      ]
     },
     "execution_count": 18,
     "metadata": {},
     "output_type": "execute_result"
    }
   ],
   "source": [
    "#### 기출복원 04회 02 Solution\n",
    "import pandas as pd\n",
    "exam2 = pd.read_csv('data/기출복원/04회/facebook_subset.csv')\n",
    "\n",
    "##### 좋아요를 받은 전체 수 중 모바일에서 좋아요를 받은 비율\n",
    "ratio = exam2['mobile_likes_received']/(exam2['mobile_likes_received'] + exam2['www_likes_received'])\n",
    "\n",
    "##### 해당 비율이 0.6보다 크고 0.7보다 작은 경우\n",
    "case1 = (ratio > 0.6) & (ratio < 0.7)\n",
    "\n",
    "##### 성별이 남자인 경우\n",
    "case2 = exam2['gender'] == 'male'\n",
    "\n",
    "##### 결과를 result에 할당 \n",
    "result = exam2[case1 & case2].shape[0]\n",
    "\n",
    "##### 결과 출력\n",
    "result"
   ]
  },
  {
   "cell_type": "markdown",
   "id": "ee619b6b",
   "metadata": {},
   "source": [
    "--- "
   ]
  },
  {
   "cell_type": "markdown",
   "id": "1500ff9f",
   "metadata": {},
   "source": [
    "#### 3. netflix_subset 데이터셋을 불러와 2021년 1월에 등록되었으면서 listed_in이 오직 Drama인 경우의 레코드 수를 구하여라. "
   ]
  },
  {
   "cell_type": "code",
   "execution_count": 19,
   "id": "67abb715",
   "metadata": {},
   "outputs": [
    {
     "data": {
      "text/plain": [
       "4"
      ]
     },
     "execution_count": 19,
     "metadata": {},
     "output_type": "execute_result"
    }
   ],
   "source": [
    "#### 기출복원 04회 03 Solution\n",
    "import pandas as pd\n",
    "exam3 = pd.read_csv('data/기출복원/04회/netflix_subset.csv', encoding = 'cp949')\n",
    "\n",
    "##### 2021년 1월에 등록된 경우\n",
    "# date_added : 등록일, release_year : 개봉일\n",
    "\n",
    "# object -> datetime형으로 변환\n",
    "exam3['date_added'] = pd.to_datetime(exam3['date_added'])\n",
    "\n",
    "# 연/월 추출\n",
    "year = exam3['date_added'].dt.year\n",
    "month = exam3['date_added'].dt.month\n",
    "\n",
    "case1 = (year == 2021) & (month == 1) \n",
    "\n",
    "##### listed_in이 오직 Drama인 경우\n",
    "case2 = (exam3['listed_in'] == 'Dramas')\n",
    "\n",
    "##### 결과를 result에 할당 \n",
    "result = exam3[case1 & case2].shape[0]\n",
    "\n",
    "##### 결과 출력\n",
    "result"
   ]
  },
  {
   "cell_type": "code",
   "execution_count": 20,
   "id": "2e15e096",
   "metadata": {},
   "outputs": [
    {
     "data": {
      "text/plain": [
       "4"
      ]
     },
     "execution_count": 20,
     "metadata": {},
     "output_type": "execute_result"
    }
   ],
   "source": [
    "#### 기출복원 04회 03 Solution\n",
    "import pandas as pd\n",
    "exam3 = pd.read_csv('data/기출복원/04회/netflix_subset.csv', encoding = 'cp949')\n",
    "\n",
    "##### 2021년 1월에 등록된 경우\n",
    "# date_added에 ' 22-Jan-21'과 ' 20-Jan-21'과 같이 공백이 함께 섞여있는 케이스들이 있기 때문에\n",
    "# datetime형으로 변경하지 않고 문자열로 할 경우 공백을 처리하는 등의 방법을 함께 고려해야 함을 명심\n",
    "\n",
    "# 선행 문자 (공백) 제거\n",
    "exam3['date_added'] = exam3['date_added'].str.lstrip()\n",
    "\n",
    "# 연/월 추출\n",
    "# 비교적 일정한 형태의 형식이므로 간단히 인덱싱으로 해결 가능함\n",
    "month = exam3['date_added'].str[3:6]\n",
    "year = exam3['date_added'].str[-2:]\n",
    "\n",
    "case1 = (year == '21') & (month == 'Jan') \n",
    "\n",
    "##### listed_in이 오직 Drama인 경우\n",
    "case2 = (exam3['listed_in'] == 'Dramas')\n",
    "\n",
    "##### 결과를 result에 할당 \n",
    "result = exam3[case1 & case2].shape[0]\n",
    "\n",
    "##### 결과 출력\n",
    "result"
   ]
  },
  {
   "cell_type": "markdown",
   "id": "bcf61461",
   "metadata": {},
   "source": [
    "---"
   ]
  },
  {
   "cell_type": "markdown",
   "id": "e4774c95",
   "metadata": {},
   "source": [
    "### (작업형2) "
   ]
  },
  {
   "cell_type": "markdown",
   "id": "e52e2b73",
   "metadata": {},
   "source": [
    "### 1. 아래는 연령별 수행등급을 확인한 자료와 일부 운동 수행도 데이터이다. 주어진 데이터를 이용하여 예측 모형을 만들고 아래에 따라 CSV 파일을 생성하시오. (단, 제출 전 두 개 이상의 모형의 성능을 비교하여 가장 우수한 모형을 선정할 것)"
   ]
  },
  {
   "cell_type": "code",
   "execution_count": 21,
   "id": "221bda30",
   "metadata": {},
   "outputs": [],
   "source": [
    "#### 기출복원 04회차_작업형2 Solution\n",
    "\n",
    "##### STEP1. 데이터셋 불러오기\n",
    "import pandas as pd\n",
    "train = pd.read_csv('data/기출복원/04회/bodyPerfor_train.csv')\n",
    "test = pd.read_csv('data/기출복원/04회/bodyPerfor_test.csv')"
   ]
  },
  {
   "cell_type": "code",
   "execution_count": 22,
   "id": "6ca894df",
   "metadata": {},
   "outputs": [],
   "source": [
    "# train데이터를 X_train과 y_train으로 분할\n",
    "X_train = train.drop(columns = 'class').copy()\n",
    "y_train = train['class'].copy()\n",
    "\n",
    "# test도 통일을 위해 X_test로 할당\n",
    "X_test = test.copy()"
   ]
  },
  {
   "cell_type": "code",
   "execution_count": 23,
   "id": "176cd723",
   "metadata": {},
   "outputs": [
    {
     "name": "stdout",
     "output_type": "stream",
     "text": [
      "      id  age gender  height  weight  body_fat  diastolic  systolic  \\\n",
      "0    920   40      M   173.8    73.2      12.0       80.0       148   \n",
      "1   5998   35      M   176.2    73.7      15.7       64.0       119   \n",
      "2  11457   57      M   169.2    73.5      21.7       77.0       128   \n",
      "3   2898   45      M   170.3    76.7      17.0       86.0       154   \n",
      "4   3141   28      M   171.3    68.7      11.2       99.0       145   \n",
      "\n",
      "   grip_force  sit_bend_forward  sit_ups  broad_jump  \n",
      "0        46.9              15.0     50.0       250.0  \n",
      "1        47.6              18.0     46.0       226.0  \n",
      "2        49.5              14.8     39.0       206.0  \n",
      "3        50.8              19.5     43.0       214.0  \n",
      "4        42.7              23.2     71.0       269.0  \n",
      "   id  age gender  height  weight  body_fat  diastolic  systolic  grip_force  \\\n",
      "0  11   42      M   169.2    65.4      19.3       63.0     110.0        43.5   \n",
      "1  22   59      F   155.9    62.7      30.2       76.0     143.0        36.8   \n",
      "2  30   50      F   159.8    57.1      24.4       63.0     103.0        30.8   \n",
      "3  49   28      M   180.1    82.1      15.0       83.0     147.0        52.6   \n",
      "4  88   41      F   158.1    51.0      21.7       86.0     127.0        23.1   \n",
      "\n",
      "   sit_bend_forward  sit_ups  broad_jump  \n",
      "0              16.0     68.0         211  \n",
      "1              29.1     25.0         122  \n",
      "2              24.4     30.0         143  \n",
      "3              18.8     55.0         247  \n",
      "4              28.6     46.0         165  \n",
      "0    A\n",
      "1    A\n",
      "2    A\n",
      "3    A\n",
      "4    A\n",
      "Name: class, dtype: object\n"
     ]
    }
   ],
   "source": [
    "##### STEP2. 데이터셋 확인하기\n",
    "###### STEP2-1. 데이터셋 일부 확인\n",
    "print(X_train.head())\n",
    "print(X_test.head())\n",
    "print(y_train.head())"
   ]
  },
  {
   "cell_type": "code",
   "execution_count": 24,
   "id": "d38d99da",
   "metadata": {},
   "outputs": [
    {
     "name": "stdout",
     "output_type": "stream",
     "text": [
      "<class 'pandas.core.frame.DataFrame'>\n",
      "RangeIndex: 10713 entries, 0 to 10712\n",
      "Data columns (total 12 columns):\n",
      " #   Column            Non-Null Count  Dtype  \n",
      "---  ------            --------------  -----  \n",
      " 0   id                10713 non-null  int64  \n",
      " 1   age               10713 non-null  int64  \n",
      " 2   gender            10713 non-null  object \n",
      " 3   height            10713 non-null  float64\n",
      " 4   weight            10713 non-null  float64\n",
      " 5   body_fat          10713 non-null  float64\n",
      " 6   diastolic         10713 non-null  float64\n",
      " 7   systolic          10713 non-null  int64  \n",
      " 8   grip_force        10713 non-null  float64\n",
      " 9   sit_bend_forward  10713 non-null  float64\n",
      " 10  sit_ups           10713 non-null  float64\n",
      " 11  broad_jump        10713 non-null  float64\n",
      "dtypes: float64(8), int64(3), object(1)\n",
      "memory usage: 1004.5+ KB\n",
      "None\n",
      "<class 'pandas.core.frame.DataFrame'>\n",
      "RangeIndex: 2680 entries, 0 to 2679\n",
      "Data columns (total 12 columns):\n",
      " #   Column            Non-Null Count  Dtype  \n",
      "---  ------            --------------  -----  \n",
      " 0   id                2680 non-null   int64  \n",
      " 1   age               2680 non-null   int64  \n",
      " 2   gender            2680 non-null   object \n",
      " 3   height            2680 non-null   float64\n",
      " 4   weight            2680 non-null   float64\n",
      " 5   body_fat          2680 non-null   float64\n",
      " 6   diastolic         2680 non-null   float64\n",
      " 7   systolic          2680 non-null   float64\n",
      " 8   grip_force        2680 non-null   float64\n",
      " 9   sit_bend_forward  2680 non-null   float64\n",
      " 10  sit_ups           2680 non-null   float64\n",
      " 11  broad_jump        2680 non-null   int64  \n",
      "dtypes: float64(8), int64(3), object(1)\n",
      "memory usage: 251.4+ KB\n",
      "None\n",
      "<class 'pandas.core.series.Series'>\n",
      "RangeIndex: 10713 entries, 0 to 10712\n",
      "Series name: class\n",
      "Non-Null Count  Dtype \n",
      "--------------  ----- \n",
      "10713 non-null  object\n",
      "dtypes: object(1)\n",
      "memory usage: 83.8+ KB\n",
      "None\n"
     ]
    }
   ],
   "source": [
    "###### STEP2-2. 데이터셋 요약 정보 확인\n",
    "print(X_train.info())\n",
    "print(X_test.info())\n",
    "print(y_train.info())"
   ]
  },
  {
   "cell_type": "code",
   "execution_count": 25,
   "id": "658ebeb9",
   "metadata": {},
   "outputs": [
    {
     "name": "stdout",
     "output_type": "stream",
     "text": [
      "                 id           age        height        weight      body_fat  \\\n",
      "count  10713.000000  10713.000000  10713.000000  10713.000000  10713.000000   \n",
      "mean    6705.064221     36.753664    168.554569     67.493615     23.240960   \n",
      "std     3864.549752     13.607601      8.372870     11.916531      7.247821   \n",
      "min        1.000000     21.000000    125.000000     26.300000      3.000000   \n",
      "25%     3347.000000     25.000000    162.500000     58.200000     18.000000   \n",
      "50%     6705.000000     32.000000    169.200000     67.500000     22.800000   \n",
      "75%    10049.000000     48.000000    174.700000     75.400000     28.000000   \n",
      "max    13393.000000     64.000000    193.800000    138.100000     78.400000   \n",
      "\n",
      "          diastolic      systolic    grip_force  sit_bend_forward  \\\n",
      "count  10713.000000  10713.000000  10713.000000      10713.000000   \n",
      "mean      78.846159    130.338654     37.002717         15.202553   \n",
      "std       10.742433     14.652444     10.598279          8.572562   \n",
      "min        0.000000      0.000000      0.000000        -25.000000   \n",
      "25%       71.000000    120.000000     27.600000         10.900000   \n",
      "50%       79.000000    130.000000     38.000000         16.200000   \n",
      "75%       87.000000    141.000000     45.200000         20.800000   \n",
      "max      156.200000    201.000000     70.400000        213.000000   \n",
      "\n",
      "            sit_ups    broad_jump  \n",
      "count  10713.000000  10713.000000  \n",
      "mean      39.842024    190.273322  \n",
      "std       14.258093     39.990996  \n",
      "min        0.000000      0.000000  \n",
      "25%       30.000000    162.000000  \n",
      "50%       41.000000    194.000000  \n",
      "75%       51.000000    222.000000  \n",
      "max       80.000000    303.000000  \n",
      "                 id          age       height       weight     body_fat  \\\n",
      "count   2680.000000  2680.000000  2680.000000  2680.000000  2680.000000   \n",
      "mean    6664.764179    36.860821   168.580746    67.262239    23.236985   \n",
      "std     3874.194251    13.699722     8.639518    12.081684     7.294158   \n",
      "min        9.000000    21.000000   139.900000    31.900000     3.000000   \n",
      "25%     3365.750000    25.000000   162.000000    57.800000    17.900000   \n",
      "50%     6659.000000    32.000000   169.300000    67.200000    22.700000   \n",
      "75%    10023.250000    48.000000   175.000000    75.100000    27.900000   \n",
      "max    13392.000000    64.000000   191.800000   119.800000    50.300000   \n",
      "\n",
      "         diastolic     systolic   grip_force  sit_bend_forward      sit_ups  \\\n",
      "count  2680.000000  2680.000000  2680.000000       2680.000000  2680.000000   \n",
      "mean     78.599701   129.819739    36.808619         15.236112    39.488209   \n",
      "std      10.740177    14.952870    10.731066          7.978120    14.350013   \n",
      "min       8.000000    43.900000     0.000000        -20.000000     0.000000   \n",
      "25%      71.000000   119.000000    27.275000         11.000000    31.000000   \n",
      "50%      79.000000   129.000000    37.450000         16.200000    41.000000   \n",
      "75%      86.000000   141.000000    44.900000         20.525000    50.000000   \n",
      "max     121.000000   195.000000    70.500000         42.000000    78.000000   \n",
      "\n",
      "        broad_jump  \n",
      "count  2680.000000  \n",
      "mean    189.555224  \n",
      "std      39.374656  \n",
      "min       0.000000  \n",
      "25%     163.000000  \n",
      "50%     191.000000  \n",
      "75%     220.000000  \n",
      "max     294.000000  \n",
      "count     10713\n",
      "unique        4\n",
      "top           C\n",
      "freq       2679\n",
      "Name: class, dtype: object\n"
     ]
    }
   ],
   "source": [
    "###### STEP2-3. 기초통계량 확인\n",
    "print(X_train.describe())\n",
    "print(X_test.describe())\n",
    "print(y_train.describe())"
   ]
  },
  {
   "cell_type": "code",
   "execution_count": 26,
   "id": "46655c91",
   "metadata": {},
   "outputs": [],
   "source": [
    "##### STEP3. 데이터셋 전처리\n",
    "###### STEP3-1. 불필요한 컬럼 삭제\n",
    "# id 컬럼은 개인의 고유번호로 key 역할로 모델에는 불필요함\n",
    "\n",
    "# 데이터들에서 id 컬럼 삭제\n",
    "X_train = X_train.drop(columns = 'id')\n",
    "X_test = X_test.drop(columns = 'id')\n",
    "y_train = y_train.drop(columns = 'id')"
   ]
  },
  {
   "cell_type": "code",
   "execution_count": 27,
   "id": "f0b69503",
   "metadata": {},
   "outputs": [
    {
     "data": {
      "text/plain": [
       "age                 0\n",
       "gender              0\n",
       "height              0\n",
       "weight              0\n",
       "body_fat            0\n",
       "diastolic           0\n",
       "systolic            0\n",
       "grip_force          0\n",
       "sit_bend_forward    0\n",
       "sit_ups             0\n",
       "broad_jump          0\n",
       "dtype: int64"
      ]
     },
     "execution_count": 27,
     "metadata": {},
     "output_type": "execute_result"
    }
   ],
   "source": [
    "###### STEP3-2. 결측치 처리\n",
    "# 결측치 확인\n",
    "X_train.isna().sum()"
   ]
  },
  {
   "cell_type": "code",
   "execution_count": 28,
   "id": "fc87d269",
   "metadata": {},
   "outputs": [
    {
     "data": {
      "text/plain": [
       "age                 0\n",
       "gender              0\n",
       "height              0\n",
       "weight              0\n",
       "body_fat            0\n",
       "diastolic           0\n",
       "systolic            0\n",
       "grip_force          0\n",
       "sit_bend_forward    0\n",
       "sit_ups             0\n",
       "broad_jump          0\n",
       "dtype: int64"
      ]
     },
     "execution_count": 28,
     "metadata": {},
     "output_type": "execute_result"
    }
   ],
   "source": [
    "X_test.isna().sum()"
   ]
  },
  {
   "cell_type": "code",
   "execution_count": 29,
   "id": "68ae9385",
   "metadata": {},
   "outputs": [],
   "source": [
    "# 결측치가 존재하지 않음"
   ]
  },
  {
   "cell_type": "code",
   "execution_count": 30,
   "id": "7545ab33",
   "metadata": {
    "scrolled": true
   },
   "outputs": [],
   "source": [
    "###### STEP3-3. 카테고리형 컬럼 전처리\n",
    "# 별도 과정이 없으므로 생략"
   ]
  },
  {
   "cell_type": "code",
   "execution_count": 31,
   "id": "b348c09a",
   "metadata": {},
   "outputs": [],
   "source": [
    "###### STEP3-4. 수치형 컬럼 전처리\n",
    "####### age 컬럼\n",
    "# 비닝하여 파생변수 age_gp에 할당, object형으로 변경\n",
    "X_train['age_gp'] = pd.cut(X_train['age'], bins = list(range(0,70,10))).astype('object')\n",
    "X_test['age_gp'] = pd.cut(X_test['age'], bins = list(range(0,70,10))).astype('object')\n",
    "\n",
    "# 완료 후 삭제\n",
    "X_train = X_train.drop('age', axis = 1)\n",
    "X_test = X_test.drop('age', axis = 1)\n",
    "\n",
    "####### height, weight, body_fat, diastolic, systolic, grip_force, sit_bend_forward, sit_ups, broad_jump\n",
    "# 수치형 컬럼만 추출\n",
    "X_train_conti = X_train.select_dtypes(exclude = 'object')\n",
    "X_test_conti = X_test.select_dtypes(exclude = 'object')\n",
    "\n",
    "# 상관관계 확인 컬럼간 강한 상관관계는 나타나지 않음\n",
    "# X_train_conti.corr()"
   ]
  },
  {
   "cell_type": "code",
   "execution_count": 32,
   "id": "40ffe87e",
   "metadata": {},
   "outputs": [
    {
     "name": "stdout",
     "output_type": "stream",
     "text": [
      "(7499, 11)\n",
      "(3214, 11)\n",
      "(7499,)\n",
      "(3214,)\n"
     ]
    }
   ],
   "source": [
    "###### STEP3-5. 데이터 분할\n",
    "from sklearn.model_selection import train_test_split\n",
    "\n",
    "# X_train과 y_train을 학습용(X_TRAIN, y_TRAIN)과 검증용(X_VAL, y_VAL)로 분할\n",
    "X_TRAIN, X_VAL, y_TRAIN, y_VAL = train_test_split(X_train, y_train, random_state = 1234,\n",
    "                                                 test_size = 0.3,\n",
    "                                                 stratify = y_train)\n",
    "\n",
    "# 분할 후 shape 확인\n",
    "print(X_TRAIN.shape)\n",
    "print(X_VAL.shape)\n",
    "print(y_TRAIN.shape)\n",
    "print(y_VAL.shape)"
   ]
  },
  {
   "cell_type": "code",
   "execution_count": 33,
   "id": "fe5010bf",
   "metadata": {},
   "outputs": [],
   "source": [
    "###### STEP3-6. 인코딩\n",
    "# 카테고리형 컬럼에 대하여 원-핫 인코딩 수행\n",
    "from sklearn.preprocessing import OneHotEncoder\n",
    "\n",
    "# 인코딩할 카테고리형 컬럼만 별도 저장\n",
    "X_TRAIN_category = X_TRAIN.select_dtypes('object').copy()\n",
    "X_VAL_category = X_VAL.select_dtypes('object').copy()\n",
    "X_TEST_category = X_test.select_dtypes('object').copy()\n",
    "\n",
    "# 원-핫 인코딩\n",
    "enc = OneHotEncoder(sparse = False).fit(X_TRAIN_category)\n",
    "\n",
    "X_TRAIN_OH = enc.transform(X_TRAIN_category)\n",
    "X_VAL_OH = enc.transform(X_VAL_category)\n",
    "X_TEST_OH = enc.transform(X_TEST_category)"
   ]
  },
  {
   "cell_type": "code",
   "execution_count": 34,
   "id": "98604aca",
   "metadata": {},
   "outputs": [],
   "source": [
    "###### STEP3-7. 스케일링\n",
    "from sklearn.preprocessing import StandardScaler\n",
    "\n",
    "# 스케일링할 컬럼만 별도 저장\n",
    "# .select_dtypes() 메소드의 exclude 옵션은 해당 dtype을 제외한 모든 dtype을 추출할 때 사용\n",
    "X_TRAIN_conti = X_TRAIN.select_dtypes(exclude = 'object').copy()\n",
    "X_VAL_conti = X_VAL.select_dtypes(exclude = 'object').copy()\n",
    "X_TEST_conti = X_test.select_dtypes(exclude = 'object').copy()\n",
    "\n",
    "# TRAIN 데이터 기준으로 스케일링함\n",
    "scale = StandardScaler().fit(X_TRAIN_conti)\n",
    "\n",
    "# z-점수 표준화\n",
    "X_TRAIN_STD = scale.transform(X_TRAIN_conti)\n",
    "X_VAL_STD = scale.transform(X_VAL_conti)\n",
    "X_TEST_STD = scale.transform(X_TEST_conti)"
   ]
  },
  {
   "cell_type": "code",
   "execution_count": 35,
   "id": "f8fb1d43",
   "metadata": {},
   "outputs": [],
   "source": [
    "###### STEP3-8. 입력 데이터셋 준비\n",
    "import numpy as np\n",
    "\n",
    "# 인코딩과 스케일링된 넘파이 배열 연결\n",
    "X_TRAIN = np.concatenate([X_TRAIN_OH, X_TRAIN_STD], axis = 1)\n",
    "X_VAL = np.concatenate([X_VAL_OH, X_VAL_STD], axis = 1)\n",
    "\n",
    "# 'A'~'D'를 0~3로 매핑\n",
    "y_TRAIN = y_TRAIN.map({'A':0, 'B':1, 'C':2, 'D':3})\n",
    "y_VAL = y_VAL.map({'A':0, 'B':1, 'C':2, 'D':3})\n",
    "\n",
    "# 1차원 넘파이 배열로 평탄화\n",
    "y_TRAIN = y_TRAIN.values.ravel()\n",
    "y_VAL = y_VAL.values.ravel()"
   ]
  },
  {
   "cell_type": "code",
   "execution_count": 36,
   "id": "d4e19866",
   "metadata": {},
   "outputs": [
    {
     "name": "stderr",
     "output_type": "stream",
     "text": [
      "C:\\Users\\Administrator\\anaconda3\\envs\\big_ana\\lib\\site-packages\\xgboost\\compat.py:31: FutureWarning: pandas.Int64Index is deprecated and will be removed from pandas in a future version. Use pandas.Index with the appropriate dtype instead.\n",
      "  from pandas import MultiIndex, Int64Index\n"
     ]
    }
   ],
   "source": [
    "##### STEP4. 모델 학습\n",
    "from sklearn.ensemble import RandomForestClassifier\n",
    "from xgboost import XGBClassifier\n",
    "from lightgbm import LGBMClassifier\n",
    "\n",
    "###### STEP4-1. random forest\n",
    "rf = RandomForestClassifier(n_estimators = 500,\n",
    "                            max_depth = 3,\n",
    "                            min_samples_leaf = 10,\n",
    "                            max_features = 'sqrt',\n",
    "                            random_state = 2022)\n",
    "\n",
    "model_rf = rf.fit(X_TRAIN, y_TRAIN)\n",
    "\n",
    "###### STEP4-2. XGBoost\n",
    "xgb = XGBClassifier(max_depth = 8,\n",
    "                    n_estimators = 500,\n",
    "                    nthread = 5,\n",
    "                    min_child_weight = 20,\n",
    "                    gamma = 0.5,\n",
    "                    objective = 'multi:softmax',\n",
    "                    use_label_encoder = False,\n",
    "                    random_state = 2022)\n",
    "\n",
    "model_xgb = xgb.fit(X_TRAIN, y_TRAIN, eval_metric = 'mlogloss')\n",
    "\n",
    "###### STEP4-3. LightGBM\n",
    "lgb = LGBMClassifier(max_depth = 8,\n",
    "                     n_estimators = 500,\n",
    "                     n_jobs = 30,\n",
    "                     min_child_weight = 10,\n",
    "                     learning_rate = 0.2,\n",
    "                     objective = 'multiclass',\n",
    "                     random_state = 2022)\n",
    "\n",
    "model_lgb = lgb.fit(X_TRAIN, y_TRAIN)"
   ]
  },
  {
   "cell_type": "code",
   "execution_count": 37,
   "id": "66496a2a",
   "metadata": {},
   "outputs": [
    {
     "name": "stdout",
     "output_type": "stream",
     "text": [
      "0.5511269801379042\n",
      "0.699201310600824\n",
      "0.6982810024121375\n"
     ]
    }
   ],
   "source": [
    "###### STEP4-4. 성능평가(기준:macro f1-score)를 통한 모델 선정\n",
    "from sklearn.metrics import f1_score\n",
    "\n",
    "# 검증용 데이터셋을 통한 예측\n",
    "pred_rf = model_rf.predict(X_VAL)\n",
    "pred_xgb = model_xgb.predict(X_VAL)\n",
    "pred_lgb = model_lgb.predict(X_VAL)\n",
    "\n",
    "# macro f1-score 계산\n",
    "f1_rf = f1_score(y_VAL, pred_rf, average = 'macro')\n",
    "print(f1_rf)\n",
    "\n",
    "f1_xgb = f1_score(y_VAL, pred_xgb, average = 'macro')\n",
    "print(f1_xgb)\n",
    "\n",
    "f1_lgb = f1_score(y_VAL, pred_lgb, average = 'macro')\n",
    "print(f1_lgb)"
   ]
  },
  {
   "cell_type": "code",
   "execution_count": 38,
   "id": "b6fc23a5",
   "metadata": {},
   "outputs": [],
   "source": [
    "##### STEP5. 결과 제출하기\n",
    "###### 실제 시험에서 답 제출시에는 성능이 가장 우수한 모형 하나만 구현!\n",
    "X_TEST = np.concatenate([X_TEST_OH, X_TEST_STD], axis = 1)\n",
    "y_pred = model_xgb.predict(X_TEST)\n",
    "\n",
    "# 문제에서 요구하는 형태로 변환 필요\n",
    "obj = {'class' : y_pred}\n",
    "result = pd.DataFrame(obj)\n",
    "result['class'] = result['class'].map({0:'A', 1:'B', 2:'C', 3:'D'})\n",
    "\n",
    "# 하위에 12345.csv 이름으로 저장하기\n",
    "result.to_csv(\"12345.csv\", index = False)"
   ]
  },
  {
   "cell_type": "code",
   "execution_count": 39,
   "id": "134dbe0b",
   "metadata": {},
   "outputs": [
    {
     "data": {
      "text/plain": [
       "0.6963723286702239"
      ]
     },
     "execution_count": 39,
     "metadata": {},
     "output_type": "execute_result"
    }
   ],
   "source": [
    "##### STEP6. 채점 모델 평가(번외)\n",
    "# 실제값\n",
    "actual = pd.read_csv('data/기출복원/04회/bodyPerfor_class.csv')\n",
    "actual = actual['class'].ravel()\n",
    "\n",
    "# 채점 기준이 될 성과지표 값\n",
    "f1_score(actual, result['class'], average = 'macro')"
   ]
  },
  {
   "cell_type": "markdown",
   "id": "43ac3cae",
   "metadata": {},
   "source": [
    "# (끝)"
   ]
  }
 ],
 "metadata": {
  "hide_input": false,
  "kernelspec": {
   "display_name": "Python 3 (ipykernel)",
   "language": "python",
   "name": "python3"
  },
  "language_info": {
   "codemirror_mode": {
    "name": "ipython",
    "version": 3
   },
   "file_extension": ".py",
   "mimetype": "text/x-python",
   "name": "python",
   "nbconvert_exporter": "python",
   "pygments_lexer": "ipython3",
   "version": "3.9.12"
  },
  "toc": {
   "base_numbering": 1,
   "nav_menu": {},
   "number_sections": false,
   "sideBar": true,
   "skip_h1_title": false,
   "title_cell": "Table of Contents",
   "title_sidebar": "Contents",
   "toc_cell": false,
   "toc_position": {},
   "toc_section_display": true,
   "toc_window_display": false
  },
  "varInspector": {
   "cols": {
    "lenName": 16,
    "lenType": 16,
    "lenVar": 40
   },
   "kernels_config": {
    "python": {
     "delete_cmd_postfix": "",
     "delete_cmd_prefix": "del ",
     "library": "var_list.py",
     "varRefreshCmd": "print(var_dic_list())"
    },
    "r": {
     "delete_cmd_postfix": ") ",
     "delete_cmd_prefix": "rm(",
     "library": "var_list.r",
     "varRefreshCmd": "cat(var_dic_list()) "
    }
   },
   "types_to_exclude": [
    "module",
    "function",
    "builtin_function_or_method",
    "instance",
    "_Feature"
   ],
   "window_display": false
  }
 },
 "nbformat": 4,
 "nbformat_minor": 5
}
