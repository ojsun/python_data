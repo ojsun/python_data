{
 "cells": [
  {
   "cell_type": "markdown",
   "id": "4e1be88e",
   "metadata": {},
   "source": [
    "## 기출복원 3회"
   ]
  },
  {
   "cell_type": "markdown",
   "id": "e7e22c41",
   "metadata": {},
   "source": [
    "### (작업형1) "
   ]
  },
  {
   "cell_type": "markdown",
   "id": "8e175d52",
   "metadata": {},
   "source": [
    "#### 1. economics 데이터셋을 불러와 첫 번째 행부터 순서대로 70%까지의 데이터를 훈련 데이터로 추출한 후 pce 컬럼의 제 1사분위수를 구하라. (단, 정수로 나타낼 것)"
   ]
  },
  {
   "cell_type": "code",
   "execution_count": 1,
   "id": "e81ced46",
   "metadata": {},
   "outputs": [
    {
     "name": "stdout",
     "output_type": "stream",
     "text": [
      "1075\n"
     ]
    }
   ],
   "source": [
    "#### 기출복원 03회 01 Solution\n",
    "import pandas as pd\n",
    "import numpy as np\n",
    "\n",
    "exam1 = pd.read_csv('data/기출복원/03회/economics.csv')\n",
    "\n",
    "#### 첫 번째 행부터 순서대로 70%까지의 데이터를 훈련 데이터로 추출\n",
    "# 70%가 되는 행 인덱스 번호 찾기\n",
    "idx70 = np.floor(exam1.shape[0] * 0.7).astype('int')\n",
    "\n",
    "# 훈련 데이터 추출\n",
    "train = exam1[:idx70]\n",
    "\n",
    "##### pce 컬럼의 제 1사분위수\n",
    "q1 = train['pce'].quantile(.25)\n",
    "\n",
    "##### 결과를 result에 할당\n",
    "result = q1.astype('int')\n",
    "\n",
    "##### 결과 출력\n",
    "print(result)"
   ]
  },
  {
   "cell_type": "markdown",
   "id": "461efb38",
   "metadata": {},
   "source": [
    "--- "
   ]
  },
  {
   "cell_type": "markdown",
   "id": "1375c428",
   "metadata": {},
   "source": [
    "#### 2. Hitters 데이터셋을 불러와 Years 컬럼이 10인 데이터만 추출하여 HmRun 컬럼이 평균보다 큰 선수가 몇 명인지 계산하라."
   ]
  },
  {
   "cell_type": "code",
   "execution_count": 2,
   "id": "77b42abe",
   "metadata": {},
   "outputs": [
    {
     "name": "stdout",
     "output_type": "stream",
     "text": [
      "6\n"
     ]
    }
   ],
   "source": [
    "#### 기출복원 03회 02 Solution\n",
    "import pandas as pd\n",
    "\n",
    "exam2 = pd.read_csv('data/기출복원/03회/Hitters.csv')\n",
    "\n",
    "#### Years 컬럼이 10인 데이터만 추출\n",
    "subset = exam2[exam2['Years'] == 10]\n",
    "\n",
    "#### subset에서 HmRun 컬럼이 HmRun 평균보다 큰 경우\n",
    "avg_HmRun = subset['HmRun'].mean()\n",
    "case = (subset['HmRun'] > avg_HmRun)\n",
    "\n",
    "##### 결과를 result에 할당\n",
    "result = subset[case].shape[0]\n",
    "\n",
    "##### 결과 출력\n",
    "print(result)"
   ]
  },
  {
   "cell_type": "markdown",
   "id": "1500ff9f",
   "metadata": {},
   "source": [
    "#### 3. msleep 데이터셋을 불러와 가장 결측치가 많은 컬럼의 이름을 출력하라."
   ]
  },
  {
   "cell_type": "code",
   "execution_count": 3,
   "id": "67abb715",
   "metadata": {},
   "outputs": [
    {
     "name": "stdout",
     "output_type": "stream",
     "text": [
      "sleep_cycle\n"
     ]
    }
   ],
   "source": [
    "#### 기출복원 03회 03 Solution\n",
    "import pandas as pd\n",
    "\n",
    "exam3 = pd.read_csv('data/기출복원/03회/msleep.csv')\n",
    "\n",
    "#### 컬럼명 결측치\n",
    "col_na = exam3.isna().sum()\n",
    "\n",
    "##### 결과를 result에 할당\n",
    "# 가장 결측치가 많은 컬럼\n",
    "result = col_na.idxmax()\n",
    "\n",
    "##### 결과 출력\n",
    "print(result)"
   ]
  },
  {
   "cell_type": "markdown",
   "id": "bcf61461",
   "metadata": {},
   "source": [
    "---"
   ]
  },
  {
   "cell_type": "markdown",
   "id": "e4774c95",
   "metadata": {},
   "source": [
    "### (작업형2) "
   ]
  },
  {
   "cell_type": "markdown",
   "id": "e52e2b73",
   "metadata": {},
   "source": [
    "### 1. 아래는 HR 연구를 위한 이직 희망 여부와 입사 지원자들의 정보와 관련한 데이터의 일부이다.주어진 데이터를 이용하여 예측 모형을 만들고 아래에 따라 CSV 파일을 생성하시오."
   ]
  },
  {
   "cell_type": "code",
   "execution_count": 4,
   "id": "221bda30",
   "metadata": {},
   "outputs": [],
   "source": [
    "#### 기출복원 03회차_작업형2 Solution\n",
    "\n",
    "##### STEP1. 데이터셋 불러오기\n",
    "import pandas as pd\n",
    "X_train = pd.read_csv('data/기출복원/03회/job_change_X_train.csv')\n",
    "X_test = pd.read_csv('data/기출복원/03회/job_change_X_test.csv')\n",
    "y_train = pd.read_csv('data/기출복원/03회/job_change_y_train.csv')"
   ]
  },
  {
   "cell_type": "code",
   "execution_count": 5,
   "id": "176cd723",
   "metadata": {},
   "outputs": [
    {
     "name": "stdout",
     "output_type": "stream",
     "text": [
      "   enrollee_id      city  city_development_index gender relevent_experience  \\\n",
      "0         6424   city_75                   0.939   Male                 Has   \n",
      "1        18304   city_64                   0.666   Male                  No   \n",
      "2        22515  city_103                   0.920   Male                  No   \n",
      "3        15878   city_16                   0.910   Male                 Has   \n",
      "4        22128  city_103                   0.920   Male                 Has   \n",
      "\n",
      "  enrolled_university education_level major_discipline experience  \\\n",
      "0                  No        Graduate             STEM         10   \n",
      "1                Full            High              NaN          2   \n",
      "2                Full            High              NaN          4   \n",
      "3                  No        Graduate             STEM          8   \n",
      "4                  No        Graduate             STEM          6   \n",
      "\n",
      "  company_size         company_type last_new_job  training_hours  \n",
      "0        50-99              Pvt Ltd            1             176  \n",
      "1          NaN                  NaN            1             110  \n",
      "2          NaN                  NaN        never              44  \n",
      "3        50-99  Early Stage Startup            1              82  \n",
      "4       10000+              Pvt Ltd            1              70  \n",
      "   enrollee_id      city  city_development_index gender relevent_experience  \\\n",
      "0          666  city_162                   0.767   Male                 Has   \n",
      "1        28806  city_160                   0.920   Male                 Has   \n",
      "2         5826   city_21                   0.624   Male                  No   \n",
      "3        19061  city_114                   0.926   Male                 Has   \n",
      "4        28476  city_103                   0.920   Male                 Has   \n",
      "\n",
      "  enrolled_university education_level major_discipline experience  \\\n",
      "0                  No         Masters             STEM        >20   \n",
      "1                  No            High              NaN          5   \n",
      "2                 NaN             NaN              NaN          2   \n",
      "3                  No         Masters             STEM         11   \n",
      "4                  No        Graduate             Arts          5   \n",
      "\n",
      "  company_size    company_type last_new_job  training_hours  \n",
      "0        50-99  Funded Startup            4               8  \n",
      "1        50-99  Funded Startup            1              24  \n",
      "2          NaN             NaN        never              24  \n",
      "3      100-500         Pvt Ltd            2              50  \n",
      "4          NaN             NaN            2              72  \n",
      "   enrollee_id  target\n",
      "0         6424       0\n",
      "1        18304       0\n",
      "2        22515       0\n",
      "3        15878       0\n",
      "4        22128       0\n"
     ]
    }
   ],
   "source": [
    "##### STEP2. 데이터셋 확인하기\n",
    "###### STEP2-1. 데이터셋 일부 확인\n",
    "print(X_train.head())\n",
    "print(X_test.head())\n",
    "print(y_train.head())"
   ]
  },
  {
   "cell_type": "code",
   "execution_count": 6,
   "id": "d38d99da",
   "metadata": {},
   "outputs": [
    {
     "name": "stdout",
     "output_type": "stream",
     "text": [
      "<class 'pandas.core.frame.DataFrame'>\n",
      "RangeIndex: 10063 entries, 0 to 10062\n",
      "Data columns (total 13 columns):\n",
      " #   Column                  Non-Null Count  Dtype  \n",
      "---  ------                  --------------  -----  \n",
      " 0   enrollee_id             10063 non-null  int64  \n",
      " 1   city                    10063 non-null  object \n",
      " 2   city_development_index  10063 non-null  float64\n",
      " 3   gender                  10063 non-null  object \n",
      " 4   relevent_experience     10063 non-null  object \n",
      " 5   enrolled_university     9921 non-null   object \n",
      " 6   education_level         9901 non-null   object \n",
      " 7   major_discipline        8740 non-null   object \n",
      " 8   experience              10063 non-null  object \n",
      " 9   company_size            7133 non-null   object \n",
      " 10  company_type            7048 non-null   object \n",
      " 11  last_new_job            10063 non-null  object \n",
      " 12  training_hours          10063 non-null  int64  \n",
      "dtypes: float64(1), int64(2), object(10)\n",
      "memory usage: 1022.1+ KB\n",
      "None\n",
      "<class 'pandas.core.frame.DataFrame'>\n",
      "RangeIndex: 4313 entries, 0 to 4312\n",
      "Data columns (total 13 columns):\n",
      " #   Column                  Non-Null Count  Dtype  \n",
      "---  ------                  --------------  -----  \n",
      " 0   enrollee_id             4313 non-null   int64  \n",
      " 1   city                    4313 non-null   object \n",
      " 2   city_development_index  4313 non-null   float64\n",
      " 3   gender                  4313 non-null   object \n",
      " 4   relevent_experience     4313 non-null   object \n",
      " 5   enrolled_university     4262 non-null   object \n",
      " 6   education_level         4231 non-null   object \n",
      " 7   major_discipline        3724 non-null   object \n",
      " 8   experience              4313 non-null   object \n",
      " 9   company_size            3052 non-null   object \n",
      " 10  company_type            3024 non-null   object \n",
      " 11  last_new_job            4313 non-null   object \n",
      " 12  training_hours          4313 non-null   int64  \n",
      "dtypes: float64(1), int64(2), object(10)\n",
      "memory usage: 438.2+ KB\n",
      "None\n",
      "<class 'pandas.core.frame.DataFrame'>\n",
      "RangeIndex: 10063 entries, 0 to 10062\n",
      "Data columns (total 2 columns):\n",
      " #   Column       Non-Null Count  Dtype\n",
      "---  ------       --------------  -----\n",
      " 0   enrollee_id  10063 non-null  int64\n",
      " 1   target       10063 non-null  int64\n",
      "dtypes: int64(2)\n",
      "memory usage: 157.4 KB\n",
      "None\n"
     ]
    }
   ],
   "source": [
    "###### STEP2-2. 데이터셋 요약 정보 확인\n",
    "print(X_train.info())\n",
    "print(X_test.info())\n",
    "print(y_train.info())"
   ]
  },
  {
   "cell_type": "code",
   "execution_count": 7,
   "id": "658ebeb9",
   "metadata": {},
   "outputs": [
    {
     "name": "stdout",
     "output_type": "stream",
     "text": [
      "        enrollee_id  city_development_index  training_hours\n",
      "count  10063.000000            10063.000000    10063.000000\n",
      "mean   17111.044619                0.839398       65.074332\n",
      "std     9822.553276                0.117685       59.490573\n",
      "min        4.000000                0.448000        1.000000\n",
      "25%     8607.000000                0.766000       23.000000\n",
      "50%    17339.000000                0.910000       47.000000\n",
      "75%    25937.000000                0.920000       88.000000\n",
      "max    33380.000000                0.949000      336.000000\n",
      "        enrollee_id  city_development_index  training_hours\n",
      "count   4313.000000             4313.000000     4313.000000\n",
      "mean   17239.037793                0.841139       65.893114\n",
      "std     9865.439926                0.115683       60.792871\n",
      "min        1.000000                0.448000        2.000000\n",
      "25%     8560.000000                0.767000       24.000000\n",
      "50%    17564.000000                0.910000       48.000000\n",
      "75%    26204.000000                0.920000       88.000000\n",
      "max    33379.000000                0.949000      336.000000\n",
      "        enrollee_id        target\n",
      "count  10063.000000  10063.000000\n",
      "mean   17111.044619      0.230249\n",
      "std     9822.553276      0.421013\n",
      "min        4.000000      0.000000\n",
      "25%     8607.000000      0.000000\n",
      "50%    17339.000000      0.000000\n",
      "75%    25937.000000      0.000000\n",
      "max    33380.000000      1.000000\n"
     ]
    }
   ],
   "source": [
    "###### STEP2-3. 기초통계량 확인\n",
    "print(X_train.describe())\n",
    "print(X_test.describe())\n",
    "print(y_train.describe())"
   ]
  },
  {
   "cell_type": "code",
   "execution_count": 8,
   "id": "46655c91",
   "metadata": {},
   "outputs": [],
   "source": [
    "##### STEP3. 데이터셋 전처리\n",
    "###### STEP3-1. 불필요한 컬럼 삭제\n",
    "# enrollee_id 컬럼은 지원자의 고유 정보로 key 역할로 모델에는 불필요함\n",
    "# 결과 제출 시에는 X_test의 enrollee_id 컬럼이 필요하기 때문에 별도 저장\n",
    "enrollee_id = X_test['enrollee_id'].copy()\n",
    "\n",
    "# 데이터들에서 enrollee_id 컬럼 삭제\n",
    "X_train = X_train.drop(columns = 'enrollee_id')\n",
    "X_test = X_test.drop(columns = 'enrollee_id')\n",
    "y_train = y_train.drop(columns = 'enrollee_id')"
   ]
  },
  {
   "cell_type": "code",
   "execution_count": 9,
   "id": "f0b69503",
   "metadata": {},
   "outputs": [
    {
     "data": {
      "text/plain": [
       "city                         0\n",
       "city_development_index       0\n",
       "gender                       0\n",
       "relevent_experience          0\n",
       "enrolled_university        142\n",
       "education_level            162\n",
       "major_discipline          1323\n",
       "experience                   0\n",
       "company_size              2930\n",
       "company_type              3015\n",
       "last_new_job                 0\n",
       "training_hours               0\n",
       "dtype: int64"
      ]
     },
     "execution_count": 9,
     "metadata": {},
     "output_type": "execute_result"
    }
   ],
   "source": [
    "###### STEP3-2. 결측치 처리\n",
    "# 결측치 확인\n",
    "X_train.isna().sum()"
   ]
  },
  {
   "cell_type": "code",
   "execution_count": 10,
   "id": "fc87d269",
   "metadata": {},
   "outputs": [
    {
     "data": {
      "text/plain": [
       "city                         0\n",
       "city_development_index       0\n",
       "gender                       0\n",
       "relevent_experience          0\n",
       "enrolled_university         51\n",
       "education_level             82\n",
       "major_discipline           589\n",
       "experience                   0\n",
       "company_size              1261\n",
       "company_type              1289\n",
       "last_new_job                 0\n",
       "training_hours               0\n",
       "dtype: int64"
      ]
     },
     "execution_count": 10,
     "metadata": {},
     "output_type": "execute_result"
    }
   ],
   "source": [
    "X_test.isna().sum()"
   ]
  },
  {
   "cell_type": "code",
   "execution_count": 11,
   "id": "68ae9385",
   "metadata": {},
   "outputs": [],
   "source": [
    "####### train에서 1000개가 넘는 공백이 있는 컬럼은 삭제\n",
    "# 1000개가 넘을 조건\n",
    "cond_na1000 = (X_train.isna().sum() > 1000)\n",
    "\n",
    "# 1000개가 넘는 컬럼명\n",
    "colnm_na1000 = X_train.columns[cond_na1000]\n",
    "\n",
    "# 컬럼 삭제\n",
    "X_train = X_train.drop(colnm_na1000, axis = 1)\n",
    "X_test = X_test.drop(colnm_na1000, axis = 1)"
   ]
  },
  {
   "cell_type": "code",
   "execution_count": 12,
   "id": "f40c02db",
   "metadata": {},
   "outputs": [],
   "source": [
    "####### train에서 200개 미만의 결측치가 있는 컬럼은 결측치 대체\n",
    "######## enrolled_university 컬럼 (train : 142, test : 51)\n",
    "# 최다빈도를 가지는 라벨로 대체\n",
    "mode_EU = X_train['enrolled_university'].value_counts().idxmax()\n",
    "X_train['enrolled_university'] = X_train['enrolled_university'].fillna(mode_EU)\n",
    "X_test['enrolled_university'] = X_test['enrolled_university'].fillna(mode_EU)\n",
    "\n",
    "######## education_level 컬럼 (train : 162, test : 82)\n",
    "# 최다빈도를 가지는 라벨로 대체\n",
    "mode_EL = X_train['education_level'].value_counts().idxmax()\n",
    "X_train['education_level'] = X_train['education_level'].fillna(mode_EU)\n",
    "X_test['education_level'] = X_test['education_level'].fillna(mode_EU)"
   ]
  },
  {
   "cell_type": "code",
   "execution_count": 13,
   "id": "7545ab33",
   "metadata": {
    "scrolled": true
   },
   "outputs": [],
   "source": [
    "###### STEP3-3. 카테고리형 컬럼 전처리\n",
    "# 별도 과정이 없으므로 생략"
   ]
  },
  {
   "cell_type": "code",
   "execution_count": 14,
   "id": "b348c09a",
   "metadata": {},
   "outputs": [],
   "source": [
    "###### STEP3-4. 수치형 컬럼 전처리\n",
    "# 전처리할 수치형 컬럼 없으므로 생략"
   ]
  },
  {
   "cell_type": "code",
   "execution_count": 15,
   "id": "40ffe87e",
   "metadata": {},
   "outputs": [
    {
     "name": "stdout",
     "output_type": "stream",
     "text": [
      "(8050, 9)\n",
      "(2013, 9)\n",
      "(8050, 1)\n",
      "(2013, 1)\n"
     ]
    }
   ],
   "source": [
    "###### STEP3-5. 데이터 분할\n",
    "from sklearn.model_selection import train_test_split\n",
    "\n",
    "# X_train과 y_train을 학습용(X_TRAIN, y_TRAIN)과 검증용(X_VAL, y_VAL)로 분할\n",
    "X_TRAIN, X_VAL, y_TRAIN, y_VAL = train_test_split(X_train, y_train, random_state = 1234, test_size = 0.2)\n",
    "\n",
    "# 분할 후 shape 확인\n",
    "print(X_TRAIN.shape)\n",
    "print(X_VAL.shape)\n",
    "print(y_TRAIN.shape)\n",
    "print(y_VAL.shape)"
   ]
  },
  {
   "cell_type": "code",
   "execution_count": 16,
   "id": "fe5010bf",
   "metadata": {},
   "outputs": [],
   "source": [
    "###### STEP3-6. 인코딩\n",
    "# 카테고리형 컬럼에 대하여 원-핫 인코딩 수행\n",
    "from sklearn.preprocessing import OneHotEncoder\n",
    "\n",
    "# 인코딩할 카테고리형 컬럼만 별도 저장\n",
    "X_TRAIN_category = X_TRAIN.select_dtypes('object').copy()\n",
    "X_VAL_category = X_VAL.select_dtypes('object').copy()\n",
    "X_TEST_category = X_test.select_dtypes('object').copy()\n",
    "\n",
    "# 원-핫 인코딩\n",
    "enc = OneHotEncoder(sparse = False, handle_unknown = 'ignore').fit(X_TRAIN_category)\n",
    "\n",
    "X_TRAIN_OH = enc.transform(X_TRAIN_category)\n",
    "X_VAL_OH = enc.transform(X_VAL_category)\n",
    "X_TEST_OH = enc.transform(X_TEST_category)"
   ]
  },
  {
   "cell_type": "code",
   "execution_count": 17,
   "id": "98604aca",
   "metadata": {},
   "outputs": [],
   "source": [
    "###### STEP3-7. 스케일링\n",
    "from sklearn.preprocessing import StandardScaler\n",
    "\n",
    "# 스케일링할 컬럼만 별도 저장\n",
    "# .select_dtypes() 메소드의 exclude 옵션은 해당 dtype을 제외한 모든 dtype을 추출할 때 사용\n",
    "X_TRAIN_conti = X_TRAIN.select_dtypes(exclude = 'object').copy()\n",
    "X_VAL_conti = X_VAL.select_dtypes(exclude = 'object').copy()\n",
    "X_TEST_conti = X_test.select_dtypes(exclude = 'object').copy()\n",
    "\n",
    "# TRAIN 데이터 기준으로 스케일링함\n",
    "scale = StandardScaler().fit(X_TRAIN_conti)\n",
    "\n",
    "# z-점수 표준화\n",
    "X_TRAIN_STD = scale.transform(X_TRAIN_conti)\n",
    "X_VAL_STD = scale.transform(X_VAL_conti)\n",
    "X_TEST_STD = scale.transform(X_TEST_conti)"
   ]
  },
  {
   "cell_type": "code",
   "execution_count": 18,
   "id": "f8fb1d43",
   "metadata": {},
   "outputs": [],
   "source": [
    "###### STEP3-8. 입력 데이터셋 준비\n",
    "import numpy as np\n",
    "\n",
    "# 인코딩과 스케일링된 넘파이 배열 연결\n",
    "X_TRAIN = np.concatenate([X_TRAIN_OH, X_TRAIN_STD], axis = 1)\n",
    "X_VAL = np.concatenate([X_VAL_OH, X_VAL_STD], axis = 1)\n",
    "\n",
    "# 1차원 넘파이 배열로 평탄화\n",
    "y_TRAIN = y_TRAIN.values.ravel()\n",
    "y_VAL = y_VAL.values.ravel()"
   ]
  },
  {
   "cell_type": "code",
   "execution_count": 19,
   "id": "d4e19866",
   "metadata": {},
   "outputs": [
    {
     "name": "stderr",
     "output_type": "stream",
     "text": [
      "C:\\Users\\Administrator\\anaconda3\\envs\\big_ana\\lib\\site-packages\\xgboost\\compat.py:31: FutureWarning: pandas.Int64Index is deprecated and will be removed from pandas in a future version. Use pandas.Index with the appropriate dtype instead.\n",
      "  from pandas import MultiIndex, Int64Index\n"
     ]
    }
   ],
   "source": [
    "##### STEP4. 모델 학습\n",
    "from sklearn.ensemble import RandomForestClassifier\n",
    "from xgboost import XGBClassifier\n",
    "from lightgbm import LGBMClassifier\n",
    "\n",
    "###### STEP4-1. random forest\n",
    "rf = RandomForestClassifier(n_estimators = 500,\n",
    "                            max_depth = 3,\n",
    "                            min_samples_leaf = 10,\n",
    "                            max_features = 'sqrt',\n",
    "                            random_state = 2022)\n",
    "\n",
    "model_rf = rf.fit(X_TRAIN, y_TRAIN)\n",
    "\n",
    "###### STEP4-2. XGBoost\n",
    "xgb = XGBClassifier(max_depth = 8,\n",
    "                    n_estimators = 500,\n",
    "                    nthread = 5,\n",
    "                    min_child_weight = 20,\n",
    "                    gamma = 0.5,\n",
    "                    objective = 'binary:logistic',\n",
    "                    use_label_encoder = False,\n",
    "                    random_state = 2022)\n",
    "\n",
    "model_xgb = xgb.fit(X_TRAIN, y_TRAIN, eval_metric = 'mlogloss')\n",
    "\n",
    "###### STEP4-3. LightGBM\n",
    "lgb = LGBMClassifier(max_depth = 8,\n",
    "                     n_estimators = 500,\n",
    "                     n_jobs = 30,\n",
    "                     min_child_weight = 10,\n",
    "                     learning_rate = 0.2,\n",
    "                     objective = 'binary',\n",
    "                     random_state = 2022)\n",
    "\n",
    "model_lgb = lgb.fit(X_TRAIN, y_TRAIN)"
   ]
  },
  {
   "cell_type": "code",
   "execution_count": 20,
   "id": "66496a2a",
   "metadata": {},
   "outputs": [
    {
     "name": "stdout",
     "output_type": "stream",
     "text": [
      "0.7452277504267235\n",
      "0.7364647547574378\n",
      "0.7041346330178166\n"
     ]
    }
   ],
   "source": [
    "###### STEP4-4. 성능평가(기준:AUC)를 통한 모델 선정\n",
    "from sklearn.metrics import roc_curve, auc\n",
    "\n",
    "# 검증용 데이터셋을 통한 예측\n",
    "score_rf = model_rf.predict_proba(X_VAL)[:,1]\n",
    "score_xgb = model_xgb.predict_proba(X_VAL)[:,1]\n",
    "score_lgb = model_lgb.predict_proba(X_VAL)[:,1]\n",
    "\n",
    "# AUC 계산\n",
    "fpr, tpr, thresholds = roc_curve(y_VAL, score_rf)\n",
    "auc_rf = auc(fpr, tpr)\n",
    "print(auc_rf)\n",
    "\n",
    "fpr, tpr, thresholds = roc_curve(y_VAL, score_xgb)\n",
    "auc_xgb = auc(fpr, tpr)\n",
    "print(auc_xgb)\n",
    "\n",
    "fpr, tpr, thresholds = roc_curve(y_VAL, score_lgb)\n",
    "auc_lgb = auc(fpr, tpr)\n",
    "print(auc_lgb)"
   ]
  },
  {
   "cell_type": "code",
   "execution_count": 21,
   "id": "b6fc23a5",
   "metadata": {},
   "outputs": [],
   "source": [
    "##### STEP5. 결과 제출하기\n",
    "###### 실제 시험에서 답 제출시에는 성능이 가장 우수한 모형 하나만 구현!\n",
    "X_TEST = np.concatenate([X_TEST_OH, X_TEST_STD], axis = 1)\n",
    "y_pred = model_rf.predict(X_TEST)\n",
    "y_score = model_rf.predict_proba(X_TEST)[:,1]\n",
    "\n",
    "# 문제에서 요구하는 형태로 변환 필요\n",
    "obj = {'enrollee_id' : enrollee_id,\n",
    "       'target' : y_pred, \n",
    "       'target_prob' : y_score}\n",
    "result = pd.DataFrame(obj)\n",
    "\n",
    "# 하위에 12345.csv 이름으로 저장하기\n",
    "result.to_csv(\"12345.csv\", index = False)"
   ]
  },
  {
   "cell_type": "code",
   "execution_count": 22,
   "id": "134dbe0b",
   "metadata": {},
   "outputs": [
    {
     "data": {
      "text/plain": [
       "0.7283784685570074"
      ]
     },
     "execution_count": 22,
     "metadata": {},
     "output_type": "execute_result"
    }
   ],
   "source": [
    "##### STEP6. 채점 모델 평가(번외)\n",
    "# 실제값\n",
    "actual = pd.read_csv('data/기출복원/03회/job_change_y_test.csv')\n",
    "actual = actual['target'].ravel()\n",
    "\n",
    "# 채점 기준이 될 성과지표 값\n",
    "fpr, tpr, thresholds = roc_curve(actual, y_score)\n",
    "auc(fpr, tpr)"
   ]
  },
  {
   "cell_type": "markdown",
   "id": "f6600b84",
   "metadata": {},
   "source": [
    "# (끝)"
   ]
  }
 ],
 "metadata": {
  "hide_input": false,
  "kernelspec": {
   "display_name": "Python 3 (ipykernel)",
   "language": "python",
   "name": "python3"
  },
  "language_info": {
   "codemirror_mode": {
    "name": "ipython",
    "version": 3
   },
   "file_extension": ".py",
   "mimetype": "text/x-python",
   "name": "python",
   "nbconvert_exporter": "python",
   "pygments_lexer": "ipython3",
   "version": "3.9.12"
  },
  "toc": {
   "base_numbering": 1,
   "nav_menu": {},
   "number_sections": false,
   "sideBar": true,
   "skip_h1_title": false,
   "title_cell": "Table of Contents",
   "title_sidebar": "Contents",
   "toc_cell": false,
   "toc_position": {},
   "toc_section_display": true,
   "toc_window_display": false
  },
  "varInspector": {
   "cols": {
    "lenName": 16,
    "lenType": 16,
    "lenVar": 40
   },
   "kernels_config": {
    "python": {
     "delete_cmd_postfix": "",
     "delete_cmd_prefix": "del ",
     "library": "var_list.py",
     "varRefreshCmd": "print(var_dic_list())"
    },
    "r": {
     "delete_cmd_postfix": ") ",
     "delete_cmd_prefix": "rm(",
     "library": "var_list.r",
     "varRefreshCmd": "cat(var_dic_list()) "
    }
   },
   "types_to_exclude": [
    "module",
    "function",
    "builtin_function_or_method",
    "instance",
    "_Feature"
   ],
   "window_display": false
  }
 },
 "nbformat": 4,
 "nbformat_minor": 5
}
