{
 "cells": [
  {
   "cell_type": "markdown",
   "id": "4e1be88e",
   "metadata": {},
   "source": [
    "## 기출복원 2회"
   ]
  },
  {
   "cell_type": "markdown",
   "id": "e7e22c41",
   "metadata": {},
   "source": [
    "### (작업형1) "
   ]
  },
  {
   "cell_type": "markdown",
   "id": "8e175d52",
   "metadata": {},
   "source": [
    "#### 1. mtcars2 데이터셋을 불러와 mpg 컬럼의 상위 10번째 값으로 상위 10개 값을 변환한 후 drat가 4 이상인 값에 대해 mpg의 평균을 구하여라. (단, 소수점은 반올림하여 셋째 자리까지 나타낼 것)"
   ]
  },
  {
   "cell_type": "code",
   "execution_count": 4,
   "id": "e81ced46",
   "metadata": {},
   "outputs": [
    {
     "name": "stdout",
     "output_type": "stream",
     "text": [
      "20.671\n"
     ]
    }
   ],
   "source": [
    "#### 기출복원 02회 01 Solution\n",
    "import pandas as pd\n",
    "exam1 = pd.read_csv('data/기출복원/02회/mtcars2.csv')\n",
    "\n",
    "##### mpg와 drat 컬럼 별도 할당\n",
    "mpg = exam1['mpg'].copy()\n",
    "drat = exam1['drat'].copy()\n",
    "\n",
    "##### mpg 컬럼의 상위 10번째 값\n",
    "tenth = mpg.sort_values(ascending = False, ignore_index = True)[9]\n",
    "\n",
    "##### 상위 10번째 값으로 상위 10개 값을 변환\n",
    "# 상위 10개의 인덱스\n",
    "idx = mpg.sort_values(ascending = False)[:10].index\n",
    "\n",
    "# 상위 10개 값 변경\n",
    "mpg[idx] = tenth\n",
    "\n",
    "##### drat가 4이상일 때 mpg의 평균\n",
    "avg_mpg = mpg[drat >= 4].mean()\n",
    "\n",
    "##### 결과 저장\n",
    "result = round(avg_mpg, 3)\n",
    "\n",
    "##### 결과 출력\n",
    "print(result)"
   ]
  },
  {
   "cell_type": "markdown",
   "id": "461efb38",
   "metadata": {},
   "source": [
    "--- "
   ]
  },
  {
   "cell_type": "markdown",
   "id": "1375c428",
   "metadata": {},
   "source": [
    "#### 2. 앞의 데이터셋을 새로 불러와 첫 번째 행부터 순서대로 80%까지의 데이터를 훈련 데이터로 추출한 후 disp 컬럼의 결측값을 disp 컬럼의 중앙값으로 대체하고 대체 전 후의 disp 변수의 표준편차 값의 차이를 구하여라. (단, 차이는 빼는 순서와 관계없이 절댓값을 취하여 표시하고 소수점은 넷째 자리에서 반올림할 것)"
   ]
  },
  {
   "cell_type": "code",
   "execution_count": 5,
   "id": "77b42abe",
   "metadata": {},
   "outputs": [
    {
     "name": "stdout",
     "output_type": "stream",
     "text": [
      "7.966\n"
     ]
    }
   ],
   "source": [
    "#### 기출복원 02회 02 Solution\n",
    "import pandas as pd\n",
    "import numpy as np\n",
    "exam2 = pd.read_csv('data/기출복원/02회/mtcars2.csv')\n",
    "\n",
    "#### 첫 번째 행부터 순서대로 80%까지의 데이터를 훈련 데이터로 추출\n",
    "# 80%가 되는 행 인덱스 번호 찾기\n",
    "idx80 = np.floor(exam2.shape[0] * 0.8).astype('int')\n",
    "\n",
    "# 훈련 데이터 추출\n",
    "train = exam2[:idx80]\n",
    "\n",
    "#### disp 변수의 결측값 중앙값으로 대체, 대체 전후 표준편차\n",
    "# disp 컬럼 할당\n",
    "disp_before = train['disp'].copy() # 대체하지 않을 것\n",
    "disp_after = train['disp'].copy() # 대체할 것\n",
    "\n",
    "# 대체 전(disp_before)의 중앙값과 표준편차\n",
    "med_before = disp_before.median()\n",
    "sd_before = disp_before.std()\n",
    "\n",
    "# 결측치 중앙값 대체\n",
    "disp_after = disp_after.fillna(med_before)\n",
    "\n",
    "# 대체 후(disp_after)의 표준편차\n",
    "sd_after = disp_after.std()\n",
    "\n",
    "# 차이\n",
    "diff = abs(sd_before - sd_after)\n",
    "\n",
    "##### 결과 저장\n",
    "result = round(diff, 3)\n",
    "\n",
    "##### 결과 출력\n",
    "print(result)"
   ]
  },
  {
   "cell_type": "markdown",
   "id": "ee619b6b",
   "metadata": {},
   "source": [
    "--- "
   ]
  },
  {
   "cell_type": "markdown",
   "id": "1500ff9f",
   "metadata": {},
   "source": [
    "#### 3. gehan 데이터 셋을 불러와 time 컬럼에서 이상값의 합을 구하여라.(단, 이상값은 평균에서 1.5 표준편차 이상으로 벗어난 값으로 정의함)"
   ]
  },
  {
   "cell_type": "code",
   "execution_count": 6,
   "id": "67abb715",
   "metadata": {},
   "outputs": [
    {
     "name": "stdout",
     "output_type": "stream",
     "text": [
      "133\n"
     ]
    }
   ],
   "source": [
    "#### 기출복원 02회 03 Solution\n",
    "import pandas as pd\n",
    "exam3 = pd.read_csv('data/기출복원/02회/gehan.csv')\n",
    "\n",
    "##### time 컬럼의 평균과 표준편차\n",
    "time = exam3['time']\n",
    "avg_time = time.mean()\n",
    "sd_time = time.std()\n",
    "\n",
    "##### 평균에서 1.5 표준편차 구간\n",
    "low = avg_time - 1.5 * sd_time\n",
    "upp = avg_time + 1.5 * sd_time\n",
    "\n",
    "##### 이상치\n",
    "outlier = time[(time < low) | (time > upp)]\n",
    "\n",
    "##### 결과를 result에 할당\n",
    "result = sum(outlier)\n",
    "\n",
    "##### 결과 출력\n",
    "print(result)"
   ]
  },
  {
   "cell_type": "markdown",
   "id": "bcf61461",
   "metadata": {},
   "source": [
    "---"
   ]
  },
  {
   "cell_type": "markdown",
   "id": "e4774c95",
   "metadata": {},
   "source": [
    "### (작업형2) "
   ]
  },
  {
   "cell_type": "markdown",
   "id": "e52e2b73",
   "metadata": {},
   "source": [
    "### 1. 아래는 뇌졸중(stroke)에 대한 환자들의 임상적 변수에 관련한 데이터의 일부이다. 주어진 데이터를 이용하여 예측 모형을 만들고 아래에 따라 CSV 파일을 생성하시오. (단, 제출 전 두 개이상의 모형의 성능을 비교하여 가장 우수한 모형을 선정할 것)"
   ]
  },
  {
   "cell_type": "code",
   "execution_count": 1,
   "id": "221bda30",
   "metadata": {},
   "outputs": [],
   "source": [
    "#### 기출복원 02회차 작업형2 Solution\n",
    "\n",
    "##### STEP1. 데이터셋 불러오기\n",
    "import pandas as pd\n",
    "X_train = pd.read_csv('data/기출복원/02회/stroke_X_train.csv')\n",
    "X_test = pd.read_csv('data/기출복원/02회/stroke_X_test.csv')\n",
    "y_train = pd.read_csv('data/기출복원/02회/stroke_y_train.csv')"
   ]
  },
  {
   "cell_type": "code",
   "execution_count": 2,
   "id": "176cd723",
   "metadata": {},
   "outputs": [
    {
     "name": "stdout",
     "output_type": "stream",
     "text": [
      "     id  gender   age  hypertension  heart_disease ever_married work_type  \\\n",
      "0   678    Male   8.0             0              0           No  children   \n",
      "1  1126  Female  65.0             0              0          Yes  Govt_job   \n",
      "2  1125  Female  79.0             1              0          Yes   Private   \n",
      "3  1016    Male  66.0             0              0          Yes   Private   \n",
      "4   948  Female  45.0             0              0          Yes   Private   \n",
      "\n",
      "  Residence_type  avg_glucose_level   bmi   smoking_status  \n",
      "0          Urban              78.48  16.1          Unknown  \n",
      "1          Urban              82.72  29.8           smokes  \n",
      "2          Rural             119.62  39.0          Unknown  \n",
      "3          Rural              67.92  31.1  formerly smoked  \n",
      "4          Urban             146.44  22.8  formerly smoked  \n",
      "   id  gender   age  hypertension  heart_disease ever_married work_type  \\\n",
      "0   2  Female  78.0             0              0          Yes   Private   \n",
      "1   4  Female  59.0             0              0          Yes  Govt_job   \n",
      "2   5  Female  59.0             0              0          Yes   Private   \n",
      "3   6  Female  33.0             0              0           No   Private   \n",
      "4   8    Male  77.0             0              0          Yes   Private   \n",
      "\n",
      "  Residence_type  avg_glucose_level   bmi   smoking_status  \n",
      "0          Urban             119.03  31.0     never smoked  \n",
      "1          Urban             101.19  29.9  formerly smoked  \n",
      "2          Urban             182.52  30.1          Unknown  \n",
      "3          Rural              80.21  27.8  formerly smoked  \n",
      "4          Urban              71.44  24.1           smokes  \n",
      "     id  stroke\n",
      "0   678       0\n",
      "1  1126       0\n",
      "2  1125       0\n",
      "3  1016       0\n",
      "4   948       0\n"
     ]
    }
   ],
   "source": [
    "##### STEP2. 데이터셋 확인하기\n",
    "###### STEP2-1. 데이터셋 일부 확인\n",
    "print(X_train.head())\n",
    "print(X_test.head())\n",
    "print(y_train.head())"
   ]
  },
  {
   "cell_type": "code",
   "execution_count": 3,
   "id": "d38d99da",
   "metadata": {},
   "outputs": [
    {
     "name": "stdout",
     "output_type": "stream",
     "text": [
      "<class 'pandas.core.frame.DataFrame'>\n",
      "RangeIndex: 2399 entries, 0 to 2398\n",
      "Data columns (total 11 columns):\n",
      " #   Column             Non-Null Count  Dtype  \n",
      "---  ------             --------------  -----  \n",
      " 0   id                 2399 non-null   int64  \n",
      " 1   gender             2399 non-null   object \n",
      " 2   age                2399 non-null   float64\n",
      " 3   hypertension       2399 non-null   int64  \n",
      " 4   heart_disease      2399 non-null   int64  \n",
      " 5   ever_married       2399 non-null   object \n",
      " 6   work_type          2399 non-null   object \n",
      " 7   Residence_type     2399 non-null   object \n",
      " 8   avg_glucose_level  2399 non-null   float64\n",
      " 9   bmi                2399 non-null   float64\n",
      " 10  smoking_status     2399 non-null   object \n",
      "dtypes: float64(3), int64(3), object(5)\n",
      "memory usage: 206.3+ KB\n",
      "None\n",
      "<class 'pandas.core.frame.DataFrame'>\n",
      "RangeIndex: 1601 entries, 0 to 1600\n",
      "Data columns (total 11 columns):\n",
      " #   Column             Non-Null Count  Dtype  \n",
      "---  ------             --------------  -----  \n",
      " 0   id                 1601 non-null   int64  \n",
      " 1   gender             1601 non-null   object \n",
      " 2   age                1601 non-null   float64\n",
      " 3   hypertension       1601 non-null   int64  \n",
      " 4   heart_disease      1601 non-null   int64  \n",
      " 5   ever_married       1601 non-null   object \n",
      " 6   work_type          1601 non-null   object \n",
      " 7   Residence_type     1601 non-null   object \n",
      " 8   avg_glucose_level  1601 non-null   float64\n",
      " 9   bmi                1601 non-null   float64\n",
      " 10  smoking_status     1601 non-null   object \n",
      "dtypes: float64(3), int64(3), object(5)\n",
      "memory usage: 137.7+ KB\n",
      "None\n",
      "<class 'pandas.core.frame.DataFrame'>\n",
      "RangeIndex: 2399 entries, 0 to 2398\n",
      "Data columns (total 2 columns):\n",
      " #   Column  Non-Null Count  Dtype\n",
      "---  ------  --------------  -----\n",
      " 0   id      2399 non-null   int64\n",
      " 1   stroke  2399 non-null   int64\n",
      "dtypes: int64(2)\n",
      "memory usage: 37.6 KB\n",
      "None\n"
     ]
    }
   ],
   "source": [
    "###### STEP2-2. 데이터셋 요약 정보 확인\n",
    "print(X_train.info())\n",
    "print(X_test.info())\n",
    "print(y_train.info())"
   ]
  },
  {
   "cell_type": "code",
   "execution_count": 4,
   "id": "658ebeb9",
   "metadata": {},
   "outputs": [
    {
     "name": "stdout",
     "output_type": "stream",
     "text": [
      "                id          age  hypertension  heart_disease  \\\n",
      "count  2399.000000  2399.000000   2399.000000    2399.000000   \n",
      "mean   2010.176323    60.180492      0.231346       0.154648   \n",
      "std    1162.012740    19.577115      0.421781       0.361644   \n",
      "min       1.000000     0.160000      0.000000       0.000000   \n",
      "25%     997.500000    51.000000      0.000000       0.000000   \n",
      "50%    1999.000000    65.000000      0.000000       0.000000   \n",
      "75%    3023.500000    77.000000      0.000000       0.000000   \n",
      "max    4000.000000    82.000000      1.000000       1.000000   \n",
      "\n",
      "       avg_glucose_level          bmi  \n",
      "count        2399.000000  2399.000000  \n",
      "mean          125.673135    30.187953  \n",
      "std            59.512953     6.845468  \n",
      "min            55.120000    13.800000  \n",
      "25%            78.800000    26.100000  \n",
      "50%           100.540000    29.500000  \n",
      "75%           185.170000    33.600000  \n",
      "max           271.740000    61.600000  \n",
      "                id          age  hypertension  heart_disease  \\\n",
      "count  1601.000000  1601.000000   1601.000000    1601.000000   \n",
      "mean   1986.000625    60.909032      0.249219       0.148032   \n",
      "std    1144.228912    19.410576      0.432696       0.355243   \n",
      "min       2.000000     0.160000      0.000000       0.000000   \n",
      "25%    1005.000000    51.000000      0.000000       0.000000   \n",
      "50%    2007.000000    67.000000      0.000000       0.000000   \n",
      "75%    2963.000000    78.000000      0.000000       0.000000   \n",
      "max    3999.000000    82.000000      1.000000       1.000000   \n",
      "\n",
      "       avg_glucose_level          bmi  \n",
      "count        1601.000000  1601.000000  \n",
      "mean          126.704941    30.053654  \n",
      "std            58.661998     6.606219  \n",
      "min            55.580000    10.300000  \n",
      "25%            80.080000    26.000000  \n",
      "50%           103.060000    29.400000  \n",
      "75%           185.490000    33.600000  \n",
      "max           271.740000    97.600000  \n",
      "                id       stroke\n",
      "count  2399.000000  2399.000000\n",
      "mean   2010.176323     0.706961\n",
      "std    1162.012740     0.455251\n",
      "min       1.000000     0.000000\n",
      "25%     997.500000     0.000000\n",
      "50%    1999.000000     1.000000\n",
      "75%    3023.500000     1.000000\n",
      "max    4000.000000     1.000000\n"
     ]
    }
   ],
   "source": [
    "###### STEP2-3. 기초통계량 확인\n",
    "print(X_train.describe())\n",
    "print(X_test.describe())\n",
    "print(y_train.describe())"
   ]
  },
  {
   "cell_type": "code",
   "execution_count": 5,
   "id": "46655c91",
   "metadata": {},
   "outputs": [],
   "source": [
    "##### STEP3. 데이터셋 전처리\n",
    "###### STEP3-1. 불필요한 컬럼 삭제\n",
    "# id 컬럼은 환자에 대한 고유 정보로 key 역할로 모델에는 불필요함\n",
    "# 결과 제출 시에는 X_test의 id 컬럼이 필요하기 때문에 별도 저장\n",
    "ID = X_test['id'].copy()\n",
    "\n",
    "# 데이터들에서 id 컬럼 삭제\n",
    "X_train = X_train.drop(columns = 'id')\n",
    "X_test = X_test.drop(columns = 'id')\n",
    "y_train = y_train.drop(columns = 'id')"
   ]
  },
  {
   "cell_type": "code",
   "execution_count": 6,
   "id": "f0b69503",
   "metadata": {},
   "outputs": [
    {
     "data": {
      "text/plain": [
       "gender               0\n",
       "age                  0\n",
       "hypertension         0\n",
       "heart_disease        0\n",
       "ever_married         0\n",
       "work_type            0\n",
       "Residence_type       0\n",
       "avg_glucose_level    0\n",
       "bmi                  0\n",
       "smoking_status       0\n",
       "dtype: int64"
      ]
     },
     "execution_count": 6,
     "metadata": {},
     "output_type": "execute_result"
    }
   ],
   "source": [
    "###### STEP3-2. 결측치 처리\n",
    "# 결측치 확인\n",
    "X_train.isna().sum()"
   ]
  },
  {
   "cell_type": "code",
   "execution_count": 7,
   "id": "fc87d269",
   "metadata": {},
   "outputs": [
    {
     "data": {
      "text/plain": [
       "gender               0\n",
       "age                  0\n",
       "hypertension         0\n",
       "heart_disease        0\n",
       "ever_married         0\n",
       "work_type            0\n",
       "Residence_type       0\n",
       "avg_glucose_level    0\n",
       "bmi                  0\n",
       "smoking_status       0\n",
       "dtype: int64"
      ]
     },
     "execution_count": 7,
     "metadata": {},
     "output_type": "execute_result"
    }
   ],
   "source": [
    "X_test.isna().sum()"
   ]
  },
  {
   "cell_type": "code",
   "execution_count": 8,
   "id": "3673bcc7",
   "metadata": {},
   "outputs": [
    {
     "data": {
      "text/plain": [
       "never smoked       957\n",
       "formerly smoked    548\n",
       "Unknown            458\n",
       "smokes             436\n",
       "Name: smoking_status, dtype: int64"
      ]
     },
     "execution_count": 8,
     "metadata": {},
     "output_type": "execute_result"
    }
   ],
   "source": [
    "# smoking_status 내 “Unknown”은 정보에 대해 알 수 없는 것으로 결측임\n",
    "X_train['smoking_status'].value_counts()"
   ]
  },
  {
   "cell_type": "code",
   "execution_count": 9,
   "id": "7cd66218",
   "metadata": {},
   "outputs": [
    {
     "data": {
      "text/plain": [
       "never smoked       632\n",
       "formerly smoked    391\n",
       "Unknown            291\n",
       "smokes             287\n",
       "Name: smoking_status, dtype: int64"
      ]
     },
     "execution_count": 9,
     "metadata": {},
     "output_type": "execute_result"
    }
   ],
   "source": [
    "X_test['smoking_status'].value_counts()"
   ]
  },
  {
   "cell_type": "code",
   "execution_count": 10,
   "id": "056a4b6a",
   "metadata": {},
   "outputs": [],
   "source": [
    "####### bmi 컬럼 (train:165, test:36 결측)\n",
    "# 평균값 대치\n",
    "avg_bmi = X_train['bmi'].mean()\n",
    "\n",
    "X_train['bmi'] = X_train['bmi'].fillna(avg_bmi)\n",
    "X_test['bmi'] = X_test['bmi'].fillna(avg_bmi)\n",
    "\n",
    "###### smoking_status 컬럼 (train:1,240, test:304 결측)\n",
    "# 컬럼 삭제\n",
    "X_train = X_train.drop('smoking_status', axis = 1)\n",
    "X_test = X_test.drop('smoking_status', axis = 1)"
   ]
  },
  {
   "cell_type": "code",
   "execution_count": 11,
   "id": "7545ab33",
   "metadata": {
    "scrolled": true
   },
   "outputs": [],
   "source": [
    "###### STEP3-3. 카테고리형 컬럼 전처리\n",
    "#별도 과정이 없으므로 생략"
   ]
  },
  {
   "cell_type": "code",
   "execution_count": 12,
   "id": "b348c09a",
   "metadata": {},
   "outputs": [],
   "source": [
    "###### STEP3-4. 수치형 컬럼 전처리\n",
    "####### age 컬럼\n",
    "# 비닝하여 파생변수 age_gp에 할당, object형으로 변경\n",
    "X_train['age_gp'] = pd.cut(X_train['age'], bins = list(range(0,100,10))).astype('object')\n",
    "X_test['age_gp'] = pd.cut(X_test['age'], bins = list(range(0,100,10))).astype('object')\n",
    "\n",
    "# 완료 후 삭제\n",
    "X_train = X_train.drop('age', axis = 1)\n",
    "X_test = X_test.drop('age', axis = 1)"
   ]
  },
  {
   "cell_type": "code",
   "execution_count": 13,
   "id": "40ffe87e",
   "metadata": {},
   "outputs": [
    {
     "name": "stdout",
     "output_type": "stream",
     "text": [
      "(1919, 9)\n",
      "(480, 9)\n",
      "(1919, 1)\n",
      "(480, 1)\n"
     ]
    }
   ],
   "source": [
    "###### STEP3-5. 데이터 분할\n",
    "from sklearn.model_selection import train_test_split\n",
    "\n",
    "# X_train과 y_train을 학습용(X_TRAIN, y_TRAIN)과 검증용(X_VAL, y_VAL)로 분할\n",
    "X_TRAIN, X_VAL, y_TRAIN, y_VAL = train_test_split(X_train, y_train, random_state = 1234, test_size = 0.2)\n",
    "\n",
    "# 분할 후 shape 확인\n",
    "print(X_TRAIN.shape)\n",
    "print(X_VAL.shape)\n",
    "print(y_TRAIN.shape)\n",
    "print(y_VAL.shape)"
   ]
  },
  {
   "cell_type": "code",
   "execution_count": 14,
   "id": "fe5010bf",
   "metadata": {},
   "outputs": [],
   "source": [
    "###### STEP3-6. 인코딩\n",
    "# 카테고리형 컬럼에 대하여 원-핫 인코딩 수행\n",
    "from sklearn.preprocessing import OneHotEncoder\n",
    "\n",
    "# 인코딩할 카테고리형 컬럼만 별도 저장\n",
    "X_TRAIN_category = X_TRAIN.select_dtypes('object').copy()\n",
    "X_VAL_category = X_VAL.select_dtypes('object').copy()\n",
    "X_TEST_category = X_test.select_dtypes('object').copy()\n",
    "\n",
    "# 원-핫 인코딩\n",
    "enc = OneHotEncoder(sparse = False).fit(X_TRAIN_category)\n",
    "\n",
    "X_TRAIN_OH = enc.transform(X_TRAIN_category)\n",
    "X_VAL_OH = enc.transform(X_VAL_category)\n",
    "X_TEST_OH = enc.transform(X_TEST_category)"
   ]
  },
  {
   "cell_type": "code",
   "execution_count": 15,
   "id": "98604aca",
   "metadata": {},
   "outputs": [],
   "source": [
    "###### STEP3-7. 스케일링\n",
    "from sklearn.preprocessing import StandardScaler\n",
    "\n",
    "# 스케일링할 컬럼만 별도 저장\n",
    "# .select_dtypes() 메소드의 exclude 옵션은 해당 dtype을 제외한 모든 dtype을 추출할 때 사용\n",
    "X_TRAIN_conti = X_TRAIN.select_dtypes(exclude = 'object').copy()\n",
    "X_VAL_conti = X_VAL.select_dtypes(exclude = 'object').copy()\n",
    "X_TEST_conti = X_test.select_dtypes(exclude = 'object').copy()\n",
    "\n",
    "# TRAIN 데이터 기준으로 스케일링함\n",
    "scale = StandardScaler().fit(X_TRAIN_conti)\n",
    "\n",
    "# z-점수 표준화\n",
    "X_TRAIN_STD = scale.transform(X_TRAIN_conti)\n",
    "X_VAL_STD = scale.transform(X_VAL_conti)\n",
    "X_TEST_STD = scale.transform(X_TEST_conti)"
   ]
  },
  {
   "cell_type": "code",
   "execution_count": 16,
   "id": "f8fb1d43",
   "metadata": {},
   "outputs": [],
   "source": [
    "###### STEP3-8. 입력 데이터셋 준비\n",
    "import numpy as np\n",
    "\n",
    "# 인코딩과 스케일링된 넘파이 배열 연결\n",
    "X_TRAIN = np.concatenate([X_TRAIN_OH, X_TRAIN_STD], axis = 1)\n",
    "X_VAL = np.concatenate([X_VAL_OH, X_VAL_STD], axis = 1)\n",
    "\n",
    "# 1차원 넘파이 배열로 평탄화\n",
    "y_TRAIN = y_TRAIN.values.ravel()\n",
    "y_VAL = y_VAL.values.ravel()"
   ]
  },
  {
   "cell_type": "code",
   "execution_count": 17,
   "id": "d4e19866",
   "metadata": {},
   "outputs": [
    {
     "name": "stderr",
     "output_type": "stream",
     "text": [
      "c:\\Users\\Administrator\\anaconda3\\envs\\big_ana\\lib\\site-packages\\xgboost\\compat.py:31: FutureWarning: pandas.Int64Index is deprecated and will be removed from pandas in a future version. Use pandas.Index with the appropriate dtype instead.\n",
      "  from pandas import MultiIndex, Int64Index\n"
     ]
    }
   ],
   "source": [
    "##### STEP4. 모델 학습\n",
    "from sklearn.ensemble import RandomForestClassifier\n",
    "from xgboost import XGBClassifier\n",
    "from lightgbm import LGBMClassifier\n",
    "\n",
    "###### STEP4-1. random forest\n",
    "rf = RandomForestClassifier(n_estimators = 500,\n",
    "                            max_depth = 3,\n",
    "                            min_samples_leaf = 10,\n",
    "                            max_features = 2,\n",
    "                            random_state = 2022)\n",
    "\n",
    "model_rf = rf.fit(X_TRAIN, y_TRAIN)\n",
    "\n",
    "###### STEP4-2. XGBoost\n",
    "xgb = XGBClassifier(max_depth = 8,\n",
    "                    n_estimators = 500,\n",
    "                    nthread = 5,\n",
    "                    min_child_weight = 20,\n",
    "                    gamma = 0.5,\n",
    "                    objective = 'binary:logistic',\n",
    "                    use_label_encoder = False,\n",
    "                    random_state = 2022)\n",
    "\n",
    "model_xgb = xgb.fit(X_TRAIN, y_TRAIN, eval_metric = 'mlogloss')\n",
    "\n",
    "###### STEP4-3. LightGBM\n",
    "lgb = LGBMClassifier(max_depth = 8,\n",
    "                     n_estimators = 500,\n",
    "                     n_jobs = 30,\n",
    "                     min_child_weight = 10,\n",
    "                     learning_rate = 0.2,\n",
    "                     objective = 'binary',\n",
    "                     random_state = 2022)\n",
    "\n",
    "model_lgb = lgb.fit(X_TRAIN, y_TRAIN)"
   ]
  },
  {
   "cell_type": "code",
   "execution_count": 18,
   "id": "66496a2a",
   "metadata": {},
   "outputs": [
    {
     "name": "stdout",
     "output_type": "stream",
     "text": [
      "0.7583333333333333\n",
      "0.9\n",
      "0.9208333333333333\n"
     ]
    }
   ],
   "source": [
    "###### STEP4-4. 성능평가(기준:accuracy_score)를 통한 모델 선정\n",
    "from sklearn.metrics import accuracy_score\n",
    "\n",
    "# 검증용 데이터셋을 통한 예측\n",
    "pred_rf = model_rf.predict(X_VAL)\n",
    "pred_xgb = model_xgb.predict(X_VAL)\n",
    "pred_lgb = model_lgb.predict(X_VAL)\n",
    "\n",
    "# accuracy 계산\n",
    "acc_rf = accuracy_score(y_VAL, pred_rf)\n",
    "print(acc_rf)\n",
    "\n",
    "acc_xgb = accuracy_score(y_VAL, pred_xgb)\n",
    "print(acc_xgb)\n",
    "\n",
    "acc_lgb = accuracy_score(y_VAL, pred_lgb)\n",
    "print(acc_lgb)"
   ]
  },
  {
   "cell_type": "code",
   "execution_count": 19,
   "id": "b6fc23a5",
   "metadata": {},
   "outputs": [],
   "source": [
    "##### STEP5. 결과 제출하기\n",
    "###### 실제 시험에서 답 제출시에는 성능이 가장 우수한 모형 하나만 구현!\n",
    "X_TEST = np.concatenate([X_TEST_OH, X_TEST_STD], axis = 1)\n",
    "y_pred = model_lgb.predict(X_TEST)\n",
    "\n",
    "# 문제에서 요구하는 형태로 변환 필요\n",
    "obj = {'id' : ID,\n",
    "       'stroke' : y_pred}\n",
    "result = pd.DataFrame(obj)\n",
    "\n",
    "# 하위에 12345.csv 이름으로 저장하기\n",
    "result.to_csv(\"12345.csv\", index = False)"
   ]
  },
  {
   "cell_type": "code",
   "execution_count": 20,
   "id": "134dbe0b",
   "metadata": {},
   "outputs": [
    {
     "data": {
      "text/plain": [
       "0.9350405996252342"
      ]
     },
     "execution_count": 20,
     "metadata": {},
     "output_type": "execute_result"
    }
   ],
   "source": [
    "##### STEP6. 채점 모델 평가(번외)\n",
    "# 실제값\n",
    "actual = pd.read_csv('data/기출복원/02회/stroke_y_test.csv')\n",
    "actual = actual['stroke'].ravel()\n",
    "\n",
    "# 채점 기준이 될 성과지표 값\n",
    "accuracy_score(actual, y_pred)"
   ]
  },
  {
   "cell_type": "markdown",
   "id": "e404056f",
   "metadata": {},
   "source": [
    "# (끝)"
   ]
  }
 ],
 "metadata": {
  "hide_input": false,
  "kernelspec": {
   "display_name": "big_ana",
   "language": "python",
   "name": "big_ana"
  },
  "language_info": {
   "codemirror_mode": {
    "name": "ipython",
    "version": 3
   },
   "file_extension": ".py",
   "mimetype": "text/x-python",
   "name": "python",
   "nbconvert_exporter": "python",
   "pygments_lexer": "ipython3",
   "version": "3.9.12"
  },
  "toc": {
   "base_numbering": 1,
   "nav_menu": {},
   "number_sections": false,
   "sideBar": true,
   "skip_h1_title": false,
   "title_cell": "Table of Contents",
   "title_sidebar": "Contents",
   "toc_cell": false,
   "toc_position": {},
   "toc_section_display": true,
   "toc_window_display": false
  },
  "varInspector": {
   "cols": {
    "lenName": 16,
    "lenType": 16,
    "lenVar": 40
   },
   "kernels_config": {
    "python": {
     "delete_cmd_postfix": "",
     "delete_cmd_prefix": "del ",
     "library": "var_list.py",
     "varRefreshCmd": "print(var_dic_list())"
    },
    "r": {
     "delete_cmd_postfix": ") ",
     "delete_cmd_prefix": "rm(",
     "library": "var_list.r",
     "varRefreshCmd": "cat(var_dic_list()) "
    }
   },
   "types_to_exclude": [
    "module",
    "function",
    "builtin_function_or_method",
    "instance",
    "_Feature"
   ],
   "window_display": false
  },
  "vscode": {
   "interpreter": {
    "hash": "4b9c2565d0063a8e86d675854bb3daca5bd7f8ee7e25f30d3cbb564393f00e18"
   }
  }
 },
 "nbformat": 4,
 "nbformat_minor": 5
}
