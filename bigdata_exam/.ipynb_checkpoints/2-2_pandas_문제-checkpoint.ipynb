{
 "cells": [
  {
   "cell_type": "code",
   "execution_count": null,
   "id": "70c150c9-0916-4801-94f6-e41f2a8bbeca",
   "metadata": {
    "tags": []
   },
   "outputs": [],
   "source": [
    "import pandas as pd\n",
    "import numpy as np"
   ]
  },
  {
   "cell_type": "code",
   "execution_count": null,
   "id": "bf8a230d-03be-4341-81e2-410c9648c2e3",
   "metadata": {
    "tags": []
   },
   "outputs": [],
   "source": [
    "exam_1=pd.read_csv('data/data/data/연습문제/Cars93.csv')\n",
    "exam_1"
   ]
  },
  {
   "cell_type": "code",
   "execution_count": null,
   "id": "f077d073-1612-4abd-9ee1-e44be71350c6",
   "metadata": {
    "tags": []
   },
   "outputs": [],
   "source": [
    "exam_1.head()"
   ]
  },
  {
   "cell_type": "code",
   "execution_count": null,
   "id": "fb0fd6bc-948f-4fb4-8d87-1dc3883b403a",
   "metadata": {
    "tags": []
   },
   "outputs": [],
   "source": [
    "wheel=exam_1.Wheelbase\n",
    "wheel_avg=wheel.mean()"
   ]
  },
  {
   "cell_type": "code",
   "execution_count": null,
   "id": "78c3cffe-dbcc-4335-9281-df4ed375ca5e",
   "metadata": {
    "tags": []
   },
   "outputs": [],
   "source": [
    "wheel_std_1=wheel.std()*1.5\n",
    "wheel_std_2=wheel.std()*2\n",
    "wheel_std_3=wheel.std()*2.5"
   ]
  },
  {
   "cell_type": "code",
   "execution_count": null,
   "id": "92aa2978-fa01-480f-8c8e-60c61da88d7c",
   "metadata": {
    "tags": []
   },
   "outputs": [],
   "source": [
    "w1_row=wheel_avg-wheel_std_1\n",
    "w1_high=wheel_avg+wheel_std_1\n",
    "avg_1=wheel[(wheel>w1_row) & (wheel<w1_high)].mean()\n",
    "case1=wheel_avg-avg_1\n",
    "case1"
   ]
  },
  {
   "cell_type": "code",
   "execution_count": null,
   "id": "1974b46f-727c-4e80-bd49-54b8b7ae7ca2",
   "metadata": {
    "tags": []
   },
   "outputs": [],
   "source": [
    "w2_row=wheel_avg-wheel_std_2\n",
    "w2_high=wheel_avg+wheel_std_2\n",
    "avg_2=wheel[(wheel>w2_row) & (wheel<w2_high)].mean()\n",
    "case2=wheel_avg-avg_2\n",
    "case2"
   ]
  },
  {
   "cell_type": "code",
   "execution_count": null,
   "id": "6ec402cf-503f-4417-b305-bcb89d53f30e",
   "metadata": {
    "tags": []
   },
   "outputs": [],
   "source": [
    "w3_row=wheel_avg-wheel_std_3\n",
    "w3_high=wheel_avg+wheel_std_3\n",
    "avg_3=wheel[(wheel>w3_row) & (wheel<w3_high)].mean()\n",
    "case3=wheel_avg-avg_3\n",
    "case3"
   ]
  },
  {
   "cell_type": "code",
   "execution_count": null,
   "id": "20f49294-c670-4a2d-b468-4c18a83dd63f",
   "metadata": {
    "tags": []
   },
   "outputs": [],
   "source": [
    "result=round(case1+case2+case3,4)\n",
    "result"
   ]
  },
  {
   "cell_type": "code",
   "execution_count": null,
   "id": "0a37f23a-1c7c-4a53-a95f-e9d9f161a922",
   "metadata": {
    "tags": []
   },
   "outputs": [],
   "source": [
    "exam_1"
   ]
  },
  {
   "cell_type": "code",
   "execution_count": null,
   "id": "fa1ee7ee-ecf0-4058-81c5-c3a288209e60",
   "metadata": {
    "tags": []
   },
   "outputs": [],
   "source": [
    "exam2=pd.read_csv('data/data/data/연습문제/Cars93.csv')\n",
    "leng_rank=exam2['Length'].rank(method='average')\n",
    "leng_rank"
   ]
  },
  {
   "cell_type": "code",
   "execution_count": null,
   "id": "0fa30866-8d83-41d1-8589-edefed1dfcc7",
   "metadata": {
    "tags": []
   },
   "outputs": [],
   "source": [
    "rank_30=exam2['Length'][leng_rank <= 30]\n",
    "result=round(rank_30.std(),3)\n",
    "result"
   ]
  },
  {
   "cell_type": "code",
   "execution_count": null,
   "id": "02f06dc0-87a4-4ae6-990e-73ac98c3efe8",
   "metadata": {
    "tags": []
   },
   "outputs": [],
   "source": [
    "exam3=pd.read_csv('data/data/data/연습문제/Cars93.csv')\n",
    "exam3.head()"
   ]
  },
  {
   "cell_type": "code",
   "execution_count": null,
   "id": "b8a6de3f-5628-49e7-84cd-66c1551158e3",
   "metadata": {
    "tags": []
   },
   "outputs": [],
   "source": [
    "price=exam3.sort_values(['Max_Price','Min_Price'],ascending=[False,True])\n",
    "price.head()"
   ]
  },
  {
   "cell_type": "code",
   "execution_count": null,
   "id": "7bee2547-0c7e-4c30-a7d3-84f73b8400cc",
   "metadata": {
    "tags": []
   },
   "outputs": [],
   "source": [
    "min_sorted=exam3['Min_Price'].sort_values(ascending=True, ignore_index=True)\n",
    "max_sorted=exam3['Max_Price'].sort_values(ascending=False, ignore_index=True)"
   ]
  },
  {
   "cell_type": "code",
   "execution_count": null,
   "id": "b18609d7-a72f-45d5-9c63-5e068c9fadcf",
   "metadata": {
    "tags": []
   },
   "outputs": [],
   "source": [
    "result=round((max_sorted - min_sorted).std(),3)"
   ]
  },
  {
   "cell_type": "code",
   "execution_count": null,
   "id": "80321a9a-6056-4040-a626-9e3ac18d9257",
   "metadata": {
    "tags": []
   },
   "outputs": [],
   "source": [
    "result"
   ]
  },
  {
   "cell_type": "code",
   "execution_count": null,
   "id": "5d28687b-3d0d-4929-9825-82e8d754818a",
   "metadata": {
    "tags": []
   },
   "outputs": [],
   "source": [
    "exam6=pd.read_csv('data/data/data/연습문제/Cars93.csv')\n",
    "exam6.columns"
   ]
  },
  {
   "cell_type": "code",
   "execution_count": null,
   "id": "5218e21a-1a8d-4f4f-819a-c7a83d8c26d3",
   "metadata": {
    "tags": []
   },
   "outputs": [],
   "source": [
    "cnt=exam6.groupby(['Type','Man_trans_avail'])['RPM'].count()\n",
    "sm=exam6.groupby(['Type','Man_trans_avail'])['RPM'].sum()\n",
    "md=exam6.groupby(['Type','Man_trans_avail'])['RPM'].median()\n",
    "sm"
   ]
  },
  {
   "cell_type": "code",
   "execution_count": null,
   "id": "a782c753-99d4-485a-9948-22db083cd934",
   "metadata": {
    "tags": []
   },
   "outputs": [],
   "source": [
    "result=sum(md-(sm/cnt))"
   ]
  },
  {
   "cell_type": "code",
   "execution_count": null,
   "id": "c388c709-dd63-408f-928a-e4ea9c97324e",
   "metadata": {
    "tags": []
   },
   "outputs": [],
   "source": [
    "round(result,0)"
   ]
  },
  {
   "cell_type": "code",
   "execution_count": null,
   "id": "a92d421d-7c11-474e-be36-1cb87ede109a",
   "metadata": {
    "tags": []
   },
   "outputs": [],
   "source": [
    "exam8=pd.read_csv('data/data/data/연습문제/Cars93.csv')\n",
    "exam8.columns"
   ]
  },
  {
   "cell_type": "code",
   "execution_count": null,
   "id": "674aa2ab-3e17-4928-80e0-f787da91b5f4",
   "metadata": {
    "tags": []
   },
   "outputs": [],
   "source": [
    "case1=exam8.copy()\n",
    "case2=exam8.copy()"
   ]
  },
  {
   "cell_type": "code",
   "execution_count": null,
   "id": "138e8e9f-b10d-4c98-a201-4d20fa6f1e94",
   "metadata": {
    "tags": []
   },
   "outputs": [],
   "source": [
    "case1_avg=case1.Price.mean()\n",
    "sub_case1=case1.fillna(case1_avg)\n",
    "sub_case1.head()"
   ]
  },
  {
   "cell_type": "code",
   "execution_count": null,
   "id": "da5192a6-5a63-4fae-a864-56ae95c3e492",
   "metadata": {
    "tags": []
   },
   "outputs": [],
   "source": [
    "avg_max_min=sub_case1[['Max_Price','Min_Price']].mean(axis=1)\n",
    "avg_max_min"
   ]
  },
  {
   "cell_type": "code",
   "execution_count": null,
   "id": "29306782-b38e-4e11-82a9-5ea82ca6b764",
   "metadata": {
    "tags": []
   },
   "outputs": [],
   "source": [
    "sub_df_case1=sub_case1[sub_case1['Price'] < avg_max_min]\n",
    "sub_df_case1"
   ]
  },
  {
   "cell_type": "code",
   "execution_count": null,
   "id": "2b6b7c8a-5049-43f6-9e13-739c362b1ebc",
   "metadata": {
    "tags": []
   },
   "outputs": [],
   "source": [
    "sum_case1=sub_df_case1.groupby('Origin')['Price'].sum()\n",
    "sum_case1"
   ]
  },
  {
   "cell_type": "code",
   "execution_count": null,
   "id": "1e6f80d0-02ca-4bd1-9c71-8eaa1c7fbd7e",
   "metadata": {},
   "outputs": [],
   "source": [
    "    "
   ]
  },
  {
   "cell_type": "code",
   "execution_count": null,
   "id": "9f754de7-8e33-4f36-8e22-98fa5d7cd95a",
   "metadata": {
    "tags": []
   },
   "outputs": [],
   "source": [
    "med=case2['Price'].median()\n",
    "df_case2=case2.fillna(med)"
   ]
  },
  {
   "cell_type": "code",
   "execution_count": null,
   "id": "3a5dc3d5-2b67-4d8e-b071-2be51a3d982f",
   "metadata": {
    "tags": []
   },
   "outputs": [],
   "source": [
    "q3=exam8.Price.quantile(0.75)\n",
    "sub_df_case2=df_case2[df_case2.Price < q3]\n",
    "sub_df_case2"
   ]
  },
  {
   "cell_type": "code",
   "execution_count": 99,
   "id": "8d39238f-d88e-44d6-9084-0f4cb1fe3882",
   "metadata": {
    "tags": []
   },
   "outputs": [
    {
     "data": {
      "text/plain": [
       "Origin\n",
       "USA        621.20\n",
       "non-USA    445.85\n",
       "Name: Price, dtype: float64"
      ]
     },
     "execution_count": 99,
     "metadata": {},
     "output_type": "execute_result"
    }
   ],
   "source": [
    "sum_case2=sub_df_case2.groupby('Origin')['Price'].sum()\n",
    "sum_case2"
   ]
  },
  {
   "cell_type": "code",
   "execution_count": 100,
   "id": "e48aaabe-13f9-4190-b8bc-f56bdb6536e2",
   "metadata": {
    "tags": []
   },
   "outputs": [
    {
     "data": {
      "text/plain": [
       "898.3380952380953"
      ]
     },
     "execution_count": 100,
     "metadata": {},
     "output_type": "execute_result"
    }
   ],
   "source": [
    "max_value=max(sum_case2+sum_case1)\n",
    "max_value"
   ]
  },
  {
   "cell_type": "code",
   "execution_count": 101,
   "id": "b34b3eb0-fd4c-40b7-8274-516095f88a3b",
   "metadata": {
    "tags": []
   },
   "outputs": [
    {
     "data": {
      "text/plain": [
       "898"
      ]
     },
     "execution_count": 101,
     "metadata": {},
     "output_type": "execute_result"
    }
   ],
   "source": [
    "result=int(max_value)\n",
    "result"
   ]
  },
  {
   "cell_type": "code",
   "execution_count": null,
   "id": "742b94df-1824-46f8-8188-2be14428319b",
   "metadata": {},
   "outputs": [],
   "source": []
  }
 ],
 "metadata": {
  "kernelspec": {
   "display_name": "Python 3 (ipykernel)",
   "language": "python",
   "name": "python3"
  },
  "language_info": {
   "codemirror_mode": {
    "name": "ipython",
    "version": 3
   },
   "file_extension": ".py",
   "mimetype": "text/x-python",
   "name": "python",
   "nbconvert_exporter": "python",
   "pygments_lexer": "ipython3",
   "version": "3.11.5"
  }
 },
 "nbformat": 4,
 "nbformat_minor": 5
}
