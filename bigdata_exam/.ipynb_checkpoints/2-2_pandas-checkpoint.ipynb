{
 "cells": [
  {
   "cell_type": "code",
   "execution_count": null,
   "id": "a07243aa-28c4-419f-8303-6a717c71472d",
   "metadata": {
    "tags": []
   },
   "outputs": [],
   "source": [
    "import pandas as pd\n",
    "import numpy as np"
   ]
  },
  {
   "cell_type": "code",
   "execution_count": null,
   "id": "b7c1c496-e6cc-45ec-be76-c476f991bafe",
   "metadata": {
    "tags": []
   },
   "outputs": [],
   "source": [
    "obj=['오재선','전동준','전지환']\n",
    "series_1=pd.Series(obj)\n",
    "series_1"
   ]
  },
  {
   "cell_type": "code",
   "execution_count": null,
   "id": "edd1372d-8c0b-4713-9535-2debdc0647ec",
   "metadata": {
    "tags": []
   },
   "outputs": [],
   "source": [
    "idx=['A','B','C']\n",
    "series_2=pd.Series(obj,index=idx)\n",
    "series_2"
   ]
  },
  {
   "cell_type": "code",
   "execution_count": null,
   "id": "ca8b8c5b-4852-48e1-8551-432405637172",
   "metadata": {
    "tags": []
   },
   "outputs": [],
   "source": [
    "obj={'A':'오재선','B':'전동준','C':'전지환'}\n",
    "series_3=pd.Series(obj)\n",
    "series_3"
   ]
  },
  {
   "cell_type": "code",
   "execution_count": null,
   "id": "7c10ea01-0f7b-44fc-addf-bd5c0c163515",
   "metadata": {
    "tags": []
   },
   "outputs": [],
   "source": [
    "print(series_3.values)\n",
    "print(series_3.dtype)\n",
    "print(series_3.index)\n",
    "print(series_3.size)"
   ]
  },
  {
   "cell_type": "code",
   "execution_count": null,
   "id": "62d53396-2211-47ba-a291-c2276dbf5f44",
   "metadata": {
    "tags": []
   },
   "outputs": [],
   "source": [
    "series_1.index=['A','B','C']\n",
    "series_1"
   ]
  },
  {
   "cell_type": "code",
   "execution_count": null,
   "id": "72482658-5915-4764-859b-9084bb1b43fd",
   "metadata": {
    "tags": []
   },
   "outputs": [],
   "source": [
    "obj=(22,32,27,18,38,19)\n",
    "idx=list('abcdef')\n",
    "sr=pd.Series(obj,index=idx)\n",
    "sr"
   ]
  },
  {
   "cell_type": "code",
   "execution_count": null,
   "id": "82766bf0-442f-4a6d-8155-a9602bd16f0f",
   "metadata": {
    "tags": []
   },
   "outputs": [],
   "source": [
    "print(sr[4])\n",
    "print(sr['e'])"
   ]
  },
  {
   "cell_type": "code",
   "execution_count": null,
   "id": "be15a480-1783-4e3e-9cdc-9a88690236db",
   "metadata": {
    "tags": []
   },
   "outputs": [],
   "source": [
    "print(sr[1:5])\n",
    "print(sr['b':'e'])"
   ]
  },
  {
   "cell_type": "code",
   "execution_count": null,
   "id": "74670fcb-3aba-4f3d-b350-9c54c61ff925",
   "metadata": {
    "tags": []
   },
   "outputs": [],
   "source": [
    "idx=['a','c','e']\n",
    "print(sr[idx])"
   ]
  },
  {
   "cell_type": "code",
   "execution_count": null,
   "id": "2ed8ebca-1a46-455e-b021-85ca74489673",
   "metadata": {
    "tags": []
   },
   "outputs": [],
   "source": [
    "sr_1=pd.Series(range(100))\n",
    "sr_1"
   ]
  },
  {
   "cell_type": "code",
   "execution_count": null,
   "id": "a8b27d6a-eb80-4c90-93c3-fd9fc63a7d95",
   "metadata": {
    "tags": []
   },
   "outputs": [],
   "source": [
    "sr_1.quantile(q=0.75)"
   ]
  },
  {
   "cell_type": "code",
   "execution_count": null,
   "id": "65dcdc94-ccd0-4968-a8be-31fb72b0e086",
   "metadata": {
    "tags": []
   },
   "outputs": [],
   "source": [
    "sr_2=pd.Series(['a','b','c','d','b','b','c'])\n",
    "sr_2.describe()"
   ]
  },
  {
   "cell_type": "code",
   "execution_count": null,
   "id": "fd65e7e6-ce91-43b5-a7ab-a9ad89dc36ba",
   "metadata": {
    "tags": []
   },
   "outputs": [],
   "source": [
    "sr_2.mode()"
   ]
  },
  {
   "cell_type": "code",
   "execution_count": null,
   "id": "0846ff40-d51d-49ed-ac60-238a4a695f80",
   "metadata": {
    "tags": []
   },
   "outputs": [],
   "source": [
    "obj={ '이름':['이유리','최민준','김민지'],\n",
    "     '전공':['경영학과','컴퓨터공학과','데이터과학과'],\n",
    "     '성별':['여','남','여'],\n",
    "     '나이':[20,22,21] }\n",
    "df_1=pd.DataFrame(obj)\n",
    "df_1"
   ]
  },
  {
   "cell_type": "code",
   "execution_count": null,
   "id": "260b0de7-4ddf-48e1-9ba8-3c6e4b2d66a6",
   "metadata": {
    "tags": []
   },
   "outputs": [],
   "source": [
    "obj=np.array([['이유리','경영학과','여',20],\n",
    "             ['최민준','컴퓨터공학과','남',22],\n",
    "             ['김민지','데이터과학과','여',21]])\n",
    "df_2=pd.DataFrame(obj)\n",
    "df_2.columns=['이름','학과','성별','나이']\n",
    "df_2"
   ]
  },
  {
   "cell_type": "code",
   "execution_count": null,
   "id": "13ee0e04-af65-4fdd-ad67-a01f4f8e5832",
   "metadata": {
    "jupyter": {
     "source_hidden": true
    },
    "tags": []
   },
   "outputs": [],
   "source": []
  },
  {
   "cell_type": "code",
   "execution_count": null,
   "id": "044cda50-58ec-4bff-88cf-19a88ef0206d",
   "metadata": {
    "tags": []
   },
   "outputs": [],
   "source": [
    "df_3=pd.DataFrame( obj, index= ['A','B','C'], columns=['D','F','G','H'])\n",
    "df_3"
   ]
  },
  {
   "cell_type": "code",
   "execution_count": null,
   "id": "047c99a5-3e47-4fbc-8c9d-6fb4f8067b94",
   "metadata": {
    "tags": []
   },
   "outputs": [],
   "source": [
    "obj={'Name':['Olivia','Lucas','Sophia','Zoe','Ava','Elliot'],\n",
    "     'Sex':['Female','Male','Female','Male','Female','Male'],\n",
    "     'Age':[22,32,27,18,38,19]}\n",
    "df=pd.DataFrame(obj)"
   ]
  },
  {
   "cell_type": "code",
   "execution_count": null,
   "id": "ff613326-0ea4-415b-aefe-8430629e364c",
   "metadata": {
    "tags": []
   },
   "outputs": [],
   "source": [
    "df.values"
   ]
  },
  {
   "cell_type": "code",
   "execution_count": null,
   "id": "deabb0dd-98d1-4dd2-84af-fd13d16b83ad",
   "metadata": {
    "tags": []
   },
   "outputs": [],
   "source": [
    "print(df.values)"
   ]
  },
  {
   "cell_type": "code",
   "execution_count": null,
   "id": "ede52981-7365-4ad1-b070-6f8bd9272ad9",
   "metadata": {
    "tags": []
   },
   "outputs": [],
   "source": [
    "df.index"
   ]
  },
  {
   "cell_type": "code",
   "execution_count": null,
   "id": "9aaf7903-d230-4c30-b91a-6ed1f330b47c",
   "metadata": {
    "tags": []
   },
   "outputs": [],
   "source": [
    "print(df.index)"
   ]
  },
  {
   "cell_type": "code",
   "execution_count": null,
   "id": "0b72d1ba-b654-4864-9123-78f675cf72f3",
   "metadata": {
    "tags": []
   },
   "outputs": [],
   "source": [
    "df.columns"
   ]
  },
  {
   "cell_type": "code",
   "execution_count": null,
   "id": "8af5fb72-8fd3-4ef6-b83e-fa58da843849",
   "metadata": {
    "tags": []
   },
   "outputs": [],
   "source": [
    "df.dtypes"
   ]
  },
  {
   "cell_type": "code",
   "execution_count": null,
   "id": "d07203a9-e913-433b-83d8-8735a9b0e8e3",
   "metadata": {
    "tags": []
   },
   "outputs": [],
   "source": [
    "df.shape"
   ]
  },
  {
   "cell_type": "code",
   "execution_count": null,
   "id": "e233c120-0db1-45f6-9dd2-3f6b88ed1e69",
   "metadata": {
    "tags": []
   },
   "outputs": [],
   "source": [
    "df.info()"
   ]
  },
  {
   "cell_type": "code",
   "execution_count": null,
   "id": "87b089df-90a8-438a-ab94-ebc363d79b20",
   "metadata": {
    "tags": []
   },
   "outputs": [],
   "source": [
    "df.Age.info()"
   ]
  },
  {
   "cell_type": "code",
   "execution_count": null,
   "id": "8d273f96-b9fc-42c8-8c6b-596771ba9a85",
   "metadata": {
    "tags": []
   },
   "outputs": [],
   "source": [
    "df.head()"
   ]
  },
  {
   "cell_type": "code",
   "execution_count": null,
   "id": "6b7ef401-9110-456b-8ffc-033b440cca4a",
   "metadata": {
    "tags": []
   },
   "outputs": [],
   "source": [
    "df.head(-3)"
   ]
  },
  {
   "cell_type": "code",
   "execution_count": null,
   "id": "b547b473-8584-4c91-9344-f978caf31a00",
   "metadata": {
    "tags": []
   },
   "outputs": [],
   "source": [
    "df.tail(-3)"
   ]
  },
  {
   "cell_type": "code",
   "execution_count": null,
   "id": "a031fbe2-f740-4286-9303-113e422359b1",
   "metadata": {
    "tags": []
   },
   "outputs": [],
   "source": [
    "idx=list('abcdef')\n",
    "df=pd.DataFrame(obj,index=idx)\n",
    "df"
   ]
  },
  {
   "cell_type": "code",
   "execution_count": null,
   "id": "786d0844-7e22-44fc-b54f-d842a4b85958",
   "metadata": {
    "tags": []
   },
   "outputs": [],
   "source": [
    "df['Name']"
   ]
  },
  {
   "cell_type": "code",
   "execution_count": null,
   "id": "02fc2d4b-19fb-413d-ad2d-32a5bb2bd84c",
   "metadata": {
    "tags": []
   },
   "outputs": [],
   "source": [
    "df.Name"
   ]
  },
  {
   "cell_type": "code",
   "execution_count": null,
   "id": "d58d21d1-b640-48bc-92c1-2c1351ef27d2",
   "metadata": {
    "tags": []
   },
   "outputs": [],
   "source": [
    "df[['Name','Age']]"
   ]
  },
  {
   "cell_type": "code",
   "execution_count": null,
   "id": "6e4ae9ed-5040-427d-ad91-3f6ed5cbf019",
   "metadata": {
    "tags": []
   },
   "outputs": [],
   "source": [
    "df.iloc[1]"
   ]
  },
  {
   "cell_type": "code",
   "execution_count": null,
   "id": "26f99ed2-3329-481b-8f5a-7c7fed623a1a",
   "metadata": {
    "tags": []
   },
   "outputs": [],
   "source": [
    "df.iloc[1:5]"
   ]
  },
  {
   "cell_type": "code",
   "execution_count": null,
   "id": "8f8f285c-3482-4cab-ba76-0df988efc605",
   "metadata": {
    "tags": []
   },
   "outputs": [],
   "source": [
    "idx=[1,4]\n",
    "df.iloc[idx]"
   ]
  },
  {
   "cell_type": "code",
   "execution_count": null,
   "id": "5d00bb28-934e-4c61-a85d-9bb44d30dac3",
   "metadata": {
    "tags": []
   },
   "outputs": [],
   "source": [
    "df.Age[0:3]"
   ]
  },
  {
   "cell_type": "code",
   "execution_count": null,
   "id": "7feec5ab-70e5-4272-a5ca-786e913bc96a",
   "metadata": {
    "tags": []
   },
   "outputs": [],
   "source": [
    "df['Name'][1:3]"
   ]
  },
  {
   "cell_type": "code",
   "execution_count": null,
   "id": "224d3669-da56-4c8e-b3e4-9feea0759875",
   "metadata": {
    "tags": []
   },
   "outputs": [],
   "source": [
    "df.iloc[0:3,:2]"
   ]
  },
  {
   "cell_type": "code",
   "execution_count": null,
   "id": "da59ea99-e01c-476c-ae89-aac6c3b4677b",
   "metadata": {
    "tags": []
   },
   "outputs": [],
   "source": [
    "df.iloc[:,2]"
   ]
  },
  {
   "cell_type": "code",
   "execution_count": null,
   "id": "a9aa7ed3-1a11-4869-bc8e-c695e5d0e976",
   "metadata": {
    "tags": []
   },
   "outputs": [],
   "source": [
    "df.loc['a','Age']"
   ]
  },
  {
   "cell_type": "code",
   "execution_count": null,
   "id": "7f7046b8-d5cf-47fd-a0d1-aa41eb13b1f7",
   "metadata": {
    "tags": []
   },
   "outputs": [],
   "source": [
    "df.describe()"
   ]
  },
  {
   "cell_type": "code",
   "execution_count": null,
   "id": "3fcebdbe-0f88-4a37-ae69-927920381b40",
   "metadata": {
    "tags": []
   },
   "outputs": [],
   "source": [
    "df.count()"
   ]
  },
  {
   "cell_type": "code",
   "execution_count": null,
   "id": "e537b244-6a1b-44d2-9046-a1d717810fbe",
   "metadata": {
    "tags": []
   },
   "outputs": [],
   "source": [
    "df.size"
   ]
  },
  {
   "cell_type": "code",
   "execution_count": null,
   "id": "b6e2abc3-203d-44f1-9432-ea486eacd921",
   "metadata": {
    "tags": []
   },
   "outputs": [],
   "source": [
    "df.shape"
   ]
  },
  {
   "cell_type": "code",
   "execution_count": null,
   "id": "b7f67827-c9cf-4982-baea-61eb69e9ccc4",
   "metadata": {
    "tags": []
   },
   "outputs": [],
   "source": [
    "df.Age.mean()"
   ]
  },
  {
   "cell_type": "code",
   "execution_count": null,
   "id": "066c0a6b-615a-4ff4-828a-66191490d8b3",
   "metadata": {
    "tags": []
   },
   "outputs": [],
   "source": [
    "obj_1={'Score':[100,95,60,77,83,84]}\n",
    "obj.update(obj_1)\n",
    "obj"
   ]
  },
  {
   "cell_type": "code",
   "execution_count": null,
   "id": "3690f979-ef79-457b-a683-d5796cae3d26",
   "metadata": {
    "tags": []
   },
   "outputs": [],
   "source": [
    "df=pd.DataFrame(obj)"
   ]
  },
  {
   "cell_type": "code",
   "execution_count": null,
   "id": "2443b597-4691-4b0a-a4d7-9692ef43a2f4",
   "metadata": {
    "tags": []
   },
   "outputs": [],
   "source": [
    "df.sort_values(['Score'], ascending=True, inplace=False)"
   ]
  },
  {
   "cell_type": "code",
   "execution_count": null,
   "id": "3f6169af-cee0-4c5f-8640-75dcb5384eb4",
   "metadata": {
    "tags": []
   },
   "outputs": [],
   "source": [
    "df.sort_values('Score')"
   ]
  },
  {
   "cell_type": "code",
   "execution_count": null,
   "id": "5ad1c184-a69f-4a5c-b9d0-4ee7db176515",
   "metadata": {
    "tags": []
   },
   "outputs": [],
   "source": [
    "df.sort_values(['Age','Score'],ascending=(True,False))"
   ]
  },
  {
   "cell_type": "code",
   "execution_count": null,
   "id": "752d3dde-9bdc-44d4-b9a4-eee1c9bcabd4",
   "metadata": {
    "tags": []
   },
   "outputs": [],
   "source": [
    "rownm=['Olivia','Lucas','Sopha','Zoe','Ava','Elliot']\n",
    "obj={'Score':[100,95,60,77,83,84],\n",
    "     'Age':[22,22,27,18,18,19]}\n",
    "df=pd.DataFrame(obj, index=rownm)\n",
    "df"
   ]
  },
  {
   "cell_type": "code",
   "execution_count": null,
   "id": "b1b0b8ca-f075-4764-9ed1-3dab15d588f0",
   "metadata": {
    "tags": []
   },
   "outputs": [],
   "source": [
    "df.sort_index()"
   ]
  },
  {
   "cell_type": "code",
   "execution_count": null,
   "id": "5201c8cc-87ee-4db8-8814-c2d25efbc4d4",
   "metadata": {
    "tags": []
   },
   "outputs": [],
   "source": [
    "df.sort_index(axis=1)"
   ]
  },
  {
   "cell_type": "code",
   "execution_count": null,
   "id": "a873015f-1f7a-47e1-91f9-d367ef7613dc",
   "metadata": {
    "tags": []
   },
   "outputs": [],
   "source": [
    "obj={'Score':[100,95,88,34,19,47,97,75,87,90,73,90,90,88,40],\n",
    "     'Age':[18,19,20,19,18,22,21,20,19,20,23,22,19,18,19]}\n",
    "df=pd.DataFrame(obj)\n",
    "df"
   ]
  },
  {
   "cell_type": "code",
   "execution_count": null,
   "id": "9a077bf0-8408-4a2e-a483-7eaaab80bfdc",
   "metadata": {
    "tags": []
   },
   "outputs": [],
   "source": [
    "df.sort_values(['Score'],ascending=False,inplace=True)"
   ]
  },
  {
   "cell_type": "code",
   "execution_count": null,
   "id": "f999cba7-5ffd-4bd9-8b35-b4ce0bf93028",
   "metadata": {
    "tags": []
   },
   "outputs": [],
   "source": [
    "df"
   ]
  },
  {
   "cell_type": "code",
   "execution_count": null,
   "id": "ead86656-3998-42b5-ad1c-68716fbafea0",
   "metadata": {
    "tags": []
   },
   "outputs": [],
   "source": [
    "df['rank_avg1']=df.Score.rank()"
   ]
  },
  {
   "cell_type": "code",
   "execution_count": null,
   "id": "046a91ac-99b2-4241-883c-bb894201f0e6",
   "metadata": {
    "tags": []
   },
   "outputs": [],
   "source": [
    "df['rank_avg2']=df.Score.rank(ascending=False)\n",
    "df"
   ]
  },
  {
   "cell_type": "code",
   "execution_count": null,
   "id": "a2acf4c9-ffda-4d44-8431-3687f2654e78",
   "metadata": {
    "tags": []
   },
   "outputs": [],
   "source": [
    "df['rank_min']=df.Score.rank(method='min',ascending=False)\n",
    "df"
   ]
  },
  {
   "cell_type": "code",
   "execution_count": null,
   "id": "c379108c-82b2-425b-88a1-cd1bacbe31f4",
   "metadata": {
    "tags": []
   },
   "outputs": [],
   "source": [
    "df['rank_max']=df.Score.rank(method='max',ascending=False)\n",
    "df"
   ]
  },
  {
   "cell_type": "code",
   "execution_count": 89,
   "id": "7b32cc2f-4d70-4acc-9624-a0ae55d5bcc9",
   "metadata": {
    "tags": []
   },
   "outputs": [
    {
     "data": {
      "text/html": [
       "<div>\n",
       "<style scoped>\n",
       "    .dataframe tbody tr th:only-of-type {\n",
       "        vertical-align: middle;\n",
       "    }\n",
       "\n",
       "    .dataframe tbody tr th {\n",
       "        vertical-align: top;\n",
       "    }\n",
       "\n",
       "    .dataframe thead th {\n",
       "        text-align: right;\n",
       "    }\n",
       "</style>\n",
       "<table border=\"1\" class=\"dataframe\">\n",
       "  <thead>\n",
       "    <tr style=\"text-align: right;\">\n",
       "      <th></th>\n",
       "      <th>student_id</th>\n",
       "      <th>score</th>\n",
       "    </tr>\n",
       "  </thead>\n",
       "  <tbody>\n",
       "    <tr>\n",
       "      <th>0</th>\n",
       "      <td>s1</td>\n",
       "      <td>55</td>\n",
       "    </tr>\n",
       "    <tr>\n",
       "      <th>1</th>\n",
       "      <td>s2</td>\n",
       "      <td>90</td>\n",
       "    </tr>\n",
       "    <tr>\n",
       "      <th>2</th>\n",
       "      <td>s3</td>\n",
       "      <td>85</td>\n",
       "    </tr>\n",
       "    <tr>\n",
       "      <th>3</th>\n",
       "      <td>s4</td>\n",
       "      <td>71</td>\n",
       "    </tr>\n",
       "    <tr>\n",
       "      <th>4</th>\n",
       "      <td>s5</td>\n",
       "      <td>63</td>\n",
       "    </tr>\n",
       "    <tr>\n",
       "      <th>5</th>\n",
       "      <td>s6</td>\n",
       "      <td>99</td>\n",
       "    </tr>\n",
       "  </tbody>\n",
       "</table>\n",
       "</div>"
      ],
      "text/plain": [
       "  student_id  score\n",
       "0         s1     55\n",
       "1         s2     90\n",
       "2         s3     85\n",
       "3         s4     71\n",
       "4         s5     63\n",
       "5         s6     99"
      ]
     },
     "execution_count": 89,
     "metadata": {},
     "output_type": "execute_result"
    }
   ],
   "source": [
    "obj_1={'student_id':['s1','s2','s3','s4','s5','s6'],\n",
    "       'score':[55,90,85,71,63,99]}\n",
    "df_1=pd.DataFrame(obj_1)\n",
    "df_1"
   ]
  },
  {
   "cell_type": "code",
   "execution_count": 90,
   "id": "bb743124-8123-4d69-a116-79460068e9fd",
   "metadata": {
    "tags": []
   },
   "outputs": [
    {
     "data": {
      "text/html": [
       "<div>\n",
       "<style scoped>\n",
       "    .dataframe tbody tr th:only-of-type {\n",
       "        vertical-align: middle;\n",
       "    }\n",
       "\n",
       "    .dataframe tbody tr th {\n",
       "        vertical-align: top;\n",
       "    }\n",
       "\n",
       "    .dataframe thead th {\n",
       "        text-align: right;\n",
       "    }\n",
       "</style>\n",
       "<table border=\"1\" class=\"dataframe\">\n",
       "  <thead>\n",
       "    <tr style=\"text-align: right;\">\n",
       "      <th></th>\n",
       "      <th>student_id</th>\n",
       "      <th>score</th>\n",
       "    </tr>\n",
       "  </thead>\n",
       "  <tbody>\n",
       "    <tr>\n",
       "      <th>0</th>\n",
       "      <td>t1</td>\n",
       "      <td>65</td>\n",
       "    </tr>\n",
       "    <tr>\n",
       "      <th>1</th>\n",
       "      <td>t2</td>\n",
       "      <td>99</td>\n",
       "    </tr>\n",
       "    <tr>\n",
       "      <th>2</th>\n",
       "      <td>t3</td>\n",
       "      <td>87</td>\n",
       "    </tr>\n",
       "    <tr>\n",
       "      <th>3</th>\n",
       "      <td>t4</td>\n",
       "      <td>75</td>\n",
       "    </tr>\n",
       "    <tr>\n",
       "      <th>4</th>\n",
       "      <td>t5</td>\n",
       "      <td>57</td>\n",
       "    </tr>\n",
       "    <tr>\n",
       "      <th>5</th>\n",
       "      <td>t6</td>\n",
       "      <td>88</td>\n",
       "    </tr>\n",
       "  </tbody>\n",
       "</table>\n",
       "</div>"
      ],
      "text/plain": [
       "  student_id  score\n",
       "0         t1     65\n",
       "1         t2     99\n",
       "2         t3     87\n",
       "3         t4     75\n",
       "4         t5     57\n",
       "5         t6     88"
      ]
     },
     "execution_count": 90,
     "metadata": {},
     "output_type": "execute_result"
    }
   ],
   "source": [
    "obj_2={'student_id':['t1','t2','t3','t4','t5','t6'],\n",
    "       'score':[65,99,87,75,57,88]}\n",
    "df_2=pd.DataFrame(obj_2)\n",
    "df_2"
   ]
  },
  {
   "cell_type": "code",
   "execution_count": 92,
   "id": "e4e4230f-1448-4407-852d-c6c7dc5cb061",
   "metadata": {
    "tags": []
   },
   "outputs": [
    {
     "data": {
      "text/html": [
       "<div>\n",
       "<style scoped>\n",
       "    .dataframe tbody tr th:only-of-type {\n",
       "        vertical-align: middle;\n",
       "    }\n",
       "\n",
       "    .dataframe tbody tr th {\n",
       "        vertical-align: top;\n",
       "    }\n",
       "\n",
       "    .dataframe thead th {\n",
       "        text-align: right;\n",
       "    }\n",
       "</style>\n",
       "<table border=\"1\" class=\"dataframe\">\n",
       "  <thead>\n",
       "    <tr style=\"text-align: right;\">\n",
       "      <th></th>\n",
       "      <th>student_id</th>\n",
       "      <th>score</th>\n",
       "    </tr>\n",
       "  </thead>\n",
       "  <tbody>\n",
       "    <tr>\n",
       "      <th>0</th>\n",
       "      <td>s1</td>\n",
       "      <td>55</td>\n",
       "    </tr>\n",
       "    <tr>\n",
       "      <th>1</th>\n",
       "      <td>s2</td>\n",
       "      <td>90</td>\n",
       "    </tr>\n",
       "    <tr>\n",
       "      <th>2</th>\n",
       "      <td>s3</td>\n",
       "      <td>85</td>\n",
       "    </tr>\n",
       "    <tr>\n",
       "      <th>3</th>\n",
       "      <td>s4</td>\n",
       "      <td>71</td>\n",
       "    </tr>\n",
       "    <tr>\n",
       "      <th>4</th>\n",
       "      <td>s5</td>\n",
       "      <td>63</td>\n",
       "    </tr>\n",
       "    <tr>\n",
       "      <th>5</th>\n",
       "      <td>s6</td>\n",
       "      <td>99</td>\n",
       "    </tr>\n",
       "    <tr>\n",
       "      <th>0</th>\n",
       "      <td>t1</td>\n",
       "      <td>65</td>\n",
       "    </tr>\n",
       "    <tr>\n",
       "      <th>1</th>\n",
       "      <td>t2</td>\n",
       "      <td>99</td>\n",
       "    </tr>\n",
       "    <tr>\n",
       "      <th>2</th>\n",
       "      <td>t3</td>\n",
       "      <td>87</td>\n",
       "    </tr>\n",
       "    <tr>\n",
       "      <th>3</th>\n",
       "      <td>t4</td>\n",
       "      <td>75</td>\n",
       "    </tr>\n",
       "    <tr>\n",
       "      <th>4</th>\n",
       "      <td>t5</td>\n",
       "      <td>57</td>\n",
       "    </tr>\n",
       "    <tr>\n",
       "      <th>5</th>\n",
       "      <td>t6</td>\n",
       "      <td>88</td>\n",
       "    </tr>\n",
       "  </tbody>\n",
       "</table>\n",
       "</div>"
      ],
      "text/plain": [
       "  student_id  score\n",
       "0         s1     55\n",
       "1         s2     90\n",
       "2         s3     85\n",
       "3         s4     71\n",
       "4         s5     63\n",
       "5         s6     99\n",
       "0         t1     65\n",
       "1         t2     99\n",
       "2         t3     87\n",
       "3         t4     75\n",
       "4         t5     57\n",
       "5         t6     88"
      ]
     },
     "execution_count": 92,
     "metadata": {},
     "output_type": "execute_result"
    }
   ],
   "source": [
    "pd.concat([df_1,df_2])"
   ]
  },
  {
   "cell_type": "code",
   "execution_count": 93,
   "id": "aba7432c-dbe9-4593-b933-e6339989ebf5",
   "metadata": {
    "tags": []
   },
   "outputs": [
    {
     "data": {
      "text/html": [
       "<div>\n",
       "<style scoped>\n",
       "    .dataframe tbody tr th:only-of-type {\n",
       "        vertical-align: middle;\n",
       "    }\n",
       "\n",
       "    .dataframe tbody tr th {\n",
       "        vertical-align: top;\n",
       "    }\n",
       "\n",
       "    .dataframe thead th {\n",
       "        text-align: right;\n",
       "    }\n",
       "</style>\n",
       "<table border=\"1\" class=\"dataframe\">\n",
       "  <thead>\n",
       "    <tr style=\"text-align: right;\">\n",
       "      <th></th>\n",
       "      <th>student_id</th>\n",
       "      <th>score</th>\n",
       "      <th>student_id</th>\n",
       "      <th>score</th>\n",
       "    </tr>\n",
       "  </thead>\n",
       "  <tbody>\n",
       "    <tr>\n",
       "      <th>0</th>\n",
       "      <td>s1</td>\n",
       "      <td>55</td>\n",
       "      <td>t1</td>\n",
       "      <td>65</td>\n",
       "    </tr>\n",
       "    <tr>\n",
       "      <th>1</th>\n",
       "      <td>s2</td>\n",
       "      <td>90</td>\n",
       "      <td>t2</td>\n",
       "      <td>99</td>\n",
       "    </tr>\n",
       "    <tr>\n",
       "      <th>2</th>\n",
       "      <td>s3</td>\n",
       "      <td>85</td>\n",
       "      <td>t3</td>\n",
       "      <td>87</td>\n",
       "    </tr>\n",
       "    <tr>\n",
       "      <th>3</th>\n",
       "      <td>s4</td>\n",
       "      <td>71</td>\n",
       "      <td>t4</td>\n",
       "      <td>75</td>\n",
       "    </tr>\n",
       "    <tr>\n",
       "      <th>4</th>\n",
       "      <td>s5</td>\n",
       "      <td>63</td>\n",
       "      <td>t5</td>\n",
       "      <td>57</td>\n",
       "    </tr>\n",
       "    <tr>\n",
       "      <th>5</th>\n",
       "      <td>s6</td>\n",
       "      <td>99</td>\n",
       "      <td>t6</td>\n",
       "      <td>88</td>\n",
       "    </tr>\n",
       "  </tbody>\n",
       "</table>\n",
       "</div>"
      ],
      "text/plain": [
       "  student_id  score student_id  score\n",
       "0         s1     55         t1     65\n",
       "1         s2     90         t2     99\n",
       "2         s3     85         t3     87\n",
       "3         s4     71         t4     75\n",
       "4         s5     63         t5     57\n",
       "5         s6     99         t6     88"
      ]
     },
     "execution_count": 93,
     "metadata": {},
     "output_type": "execute_result"
    }
   ],
   "source": [
    "pd.concat([df_1,df_2],axis=1)"
   ]
  },
  {
   "cell_type": "code",
   "execution_count": 96,
   "id": "5bfc01d1-2bdc-4526-ac20-b2476f420fd9",
   "metadata": {
    "tags": []
   },
   "outputs": [
    {
     "data": {
      "text/html": [
       "<div>\n",
       "<style scoped>\n",
       "    .dataframe tbody tr th:only-of-type {\n",
       "        vertical-align: middle;\n",
       "    }\n",
       "\n",
       "    .dataframe tbody tr th {\n",
       "        vertical-align: top;\n",
       "    }\n",
       "\n",
       "    .dataframe thead th {\n",
       "        text-align: right;\n",
       "    }\n",
       "</style>\n",
       "<table border=\"1\" class=\"dataframe\">\n",
       "  <thead>\n",
       "    <tr style=\"text-align: right;\">\n",
       "      <th></th>\n",
       "      <th>student_id</th>\n",
       "      <th>stst_score</th>\n",
       "    </tr>\n",
       "  </thead>\n",
       "  <tbody>\n",
       "    <tr>\n",
       "      <th>0</th>\n",
       "      <td>s3</td>\n",
       "      <td>85</td>\n",
       "    </tr>\n",
       "    <tr>\n",
       "      <th>1</th>\n",
       "      <td>s4</td>\n",
       "      <td>71</td>\n",
       "    </tr>\n",
       "    <tr>\n",
       "      <th>2</th>\n",
       "      <td>s5</td>\n",
       "      <td>83</td>\n",
       "    </tr>\n",
       "    <tr>\n",
       "      <th>3</th>\n",
       "      <td>s6</td>\n",
       "      <td>99</td>\n",
       "    </tr>\n",
       "  </tbody>\n",
       "</table>\n",
       "</div>"
      ],
      "text/plain": [
       "  student_id  stst_score\n",
       "0         s3          85\n",
       "1         s4          71\n",
       "2         s5          83\n",
       "3         s6          99"
      ]
     },
     "execution_count": 96,
     "metadata": {},
     "output_type": "execute_result"
    }
   ],
   "source": [
    "obj1={'student_id':['s3','s4','s5','s6'],\n",
    "      'stst_score':[85,71,83,99]}\n",
    "df_1=pd.DataFrame(obj1)\n",
    "df_1"
   ]
  },
  {
   "cell_type": "code",
   "execution_count": 97,
   "id": "8866141c-a7ac-423a-8192-0607d026ddad",
   "metadata": {
    "tags": []
   },
   "outputs": [
    {
     "data": {
      "text/html": [
       "<div>\n",
       "<style scoped>\n",
       "    .dataframe tbody tr th:only-of-type {\n",
       "        vertical-align: middle;\n",
       "    }\n",
       "\n",
       "    .dataframe tbody tr th {\n",
       "        vertical-align: top;\n",
       "    }\n",
       "\n",
       "    .dataframe thead th {\n",
       "        text-align: right;\n",
       "    }\n",
       "</style>\n",
       "<table border=\"1\" class=\"dataframe\">\n",
       "  <thead>\n",
       "    <tr style=\"text-align: right;\">\n",
       "      <th></th>\n",
       "      <th>student_id</th>\n",
       "      <th>math_score</th>\n",
       "    </tr>\n",
       "  </thead>\n",
       "  <tbody>\n",
       "    <tr>\n",
       "      <th>0</th>\n",
       "      <td>s1</td>\n",
       "      <td>65</td>\n",
       "    </tr>\n",
       "    <tr>\n",
       "      <th>1</th>\n",
       "      <td>s2</td>\n",
       "      <td>99</td>\n",
       "    </tr>\n",
       "    <tr>\n",
       "      <th>2</th>\n",
       "      <td>s3</td>\n",
       "      <td>87</td>\n",
       "    </tr>\n",
       "    <tr>\n",
       "      <th>3</th>\n",
       "      <td>s4</td>\n",
       "      <td>75</td>\n",
       "    </tr>\n",
       "  </tbody>\n",
       "</table>\n",
       "</div>"
      ],
      "text/plain": [
       "  student_id  math_score\n",
       "0         s1          65\n",
       "1         s2          99\n",
       "2         s3          87\n",
       "3         s4          75"
      ]
     },
     "execution_count": 97,
     "metadata": {},
     "output_type": "execute_result"
    }
   ],
   "source": [
    "obj2={'student_id':['s1','s2','s3','s4'],\n",
    "      'math_score':[65,99,87,75]}\n",
    "df_2=pd.DataFrame(obj2)\n",
    "df_2"
   ]
  },
  {
   "cell_type": "code",
   "execution_count": 99,
   "id": "d736fc0b-a615-4eb6-b430-ce3c8ea5b5a8",
   "metadata": {
    "tags": []
   },
   "outputs": [
    {
     "data": {
      "text/html": [
       "<div>\n",
       "<style scoped>\n",
       "    .dataframe tbody tr th:only-of-type {\n",
       "        vertical-align: middle;\n",
       "    }\n",
       "\n",
       "    .dataframe tbody tr th {\n",
       "        vertical-align: top;\n",
       "    }\n",
       "\n",
       "    .dataframe thead th {\n",
       "        text-align: right;\n",
       "    }\n",
       "</style>\n",
       "<table border=\"1\" class=\"dataframe\">\n",
       "  <thead>\n",
       "    <tr style=\"text-align: right;\">\n",
       "      <th></th>\n",
       "      <th>student_id</th>\n",
       "      <th>stst_score</th>\n",
       "      <th>math_score</th>\n",
       "    </tr>\n",
       "  </thead>\n",
       "  <tbody>\n",
       "    <tr>\n",
       "      <th>0</th>\n",
       "      <td>s3</td>\n",
       "      <td>85</td>\n",
       "      <td>87</td>\n",
       "    </tr>\n",
       "    <tr>\n",
       "      <th>1</th>\n",
       "      <td>s4</td>\n",
       "      <td>71</td>\n",
       "      <td>75</td>\n",
       "    </tr>\n",
       "  </tbody>\n",
       "</table>\n",
       "</div>"
      ],
      "text/plain": [
       "  student_id  stst_score  math_score\n",
       "0         s3          85          87\n",
       "1         s4          71          75"
      ]
     },
     "execution_count": 99,
     "metadata": {},
     "output_type": "execute_result"
    }
   ],
   "source": [
    "df_1.merge(df_2)"
   ]
  },
  {
   "cell_type": "code",
   "execution_count": 101,
   "id": "653e5c75-9520-44b6-99b2-e476d9ec4ecc",
   "metadata": {
    "tags": []
   },
   "outputs": [
    {
     "data": {
      "text/html": [
       "<div>\n",
       "<style scoped>\n",
       "    .dataframe tbody tr th:only-of-type {\n",
       "        vertical-align: middle;\n",
       "    }\n",
       "\n",
       "    .dataframe tbody tr th {\n",
       "        vertical-align: top;\n",
       "    }\n",
       "\n",
       "    .dataframe thead th {\n",
       "        text-align: right;\n",
       "    }\n",
       "</style>\n",
       "<table border=\"1\" class=\"dataframe\">\n",
       "  <thead>\n",
       "    <tr style=\"text-align: right;\">\n",
       "      <th></th>\n",
       "      <th>student_id</th>\n",
       "      <th>stst_score</th>\n",
       "      <th>math_score</th>\n",
       "    </tr>\n",
       "  </thead>\n",
       "  <tbody>\n",
       "    <tr>\n",
       "      <th>0</th>\n",
       "      <td>s3</td>\n",
       "      <td>85.0</td>\n",
       "      <td>87.0</td>\n",
       "    </tr>\n",
       "    <tr>\n",
       "      <th>1</th>\n",
       "      <td>s4</td>\n",
       "      <td>71.0</td>\n",
       "      <td>75.0</td>\n",
       "    </tr>\n",
       "    <tr>\n",
       "      <th>2</th>\n",
       "      <td>s5</td>\n",
       "      <td>83.0</td>\n",
       "      <td>NaN</td>\n",
       "    </tr>\n",
       "    <tr>\n",
       "      <th>3</th>\n",
       "      <td>s6</td>\n",
       "      <td>99.0</td>\n",
       "      <td>NaN</td>\n",
       "    </tr>\n",
       "    <tr>\n",
       "      <th>4</th>\n",
       "      <td>s1</td>\n",
       "      <td>NaN</td>\n",
       "      <td>65.0</td>\n",
       "    </tr>\n",
       "    <tr>\n",
       "      <th>5</th>\n",
       "      <td>s2</td>\n",
       "      <td>NaN</td>\n",
       "      <td>99.0</td>\n",
       "    </tr>\n",
       "  </tbody>\n",
       "</table>\n",
       "</div>"
      ],
      "text/plain": [
       "  student_id  stst_score  math_score\n",
       "0         s3        85.0        87.0\n",
       "1         s4        71.0        75.0\n",
       "2         s5        83.0         NaN\n",
       "3         s6        99.0         NaN\n",
       "4         s1         NaN        65.0\n",
       "5         s2         NaN        99.0"
      ]
     },
     "execution_count": 101,
     "metadata": {},
     "output_type": "execute_result"
    }
   ],
   "source": [
    "df_1.merge(df_2, how='outer')"
   ]
  },
  {
   "cell_type": "code",
   "execution_count": 103,
   "id": "5fd236ef-ab84-4b5e-a247-d5cdc74ad8de",
   "metadata": {
    "tags": []
   },
   "outputs": [
    {
     "data": {
      "text/html": [
       "<div>\n",
       "<style scoped>\n",
       "    .dataframe tbody tr th:only-of-type {\n",
       "        vertical-align: middle;\n",
       "    }\n",
       "\n",
       "    .dataframe tbody tr th {\n",
       "        vertical-align: top;\n",
       "    }\n",
       "\n",
       "    .dataframe thead th {\n",
       "        text-align: right;\n",
       "    }\n",
       "</style>\n",
       "<table border=\"1\" class=\"dataframe\">\n",
       "  <thead>\n",
       "    <tr style=\"text-align: right;\">\n",
       "      <th></th>\n",
       "      <th>student_id</th>\n",
       "      <th>stst_score</th>\n",
       "      <th>math_score</th>\n",
       "    </tr>\n",
       "  </thead>\n",
       "  <tbody>\n",
       "    <tr>\n",
       "      <th>0</th>\n",
       "      <td>s1</td>\n",
       "      <td>NaN</td>\n",
       "      <td>65</td>\n",
       "    </tr>\n",
       "    <tr>\n",
       "      <th>1</th>\n",
       "      <td>s2</td>\n",
       "      <td>NaN</td>\n",
       "      <td>99</td>\n",
       "    </tr>\n",
       "    <tr>\n",
       "      <th>2</th>\n",
       "      <td>s3</td>\n",
       "      <td>85.0</td>\n",
       "      <td>87</td>\n",
       "    </tr>\n",
       "    <tr>\n",
       "      <th>3</th>\n",
       "      <td>s4</td>\n",
       "      <td>71.0</td>\n",
       "      <td>75</td>\n",
       "    </tr>\n",
       "  </tbody>\n",
       "</table>\n",
       "</div>"
      ],
      "text/plain": [
       "  student_id  stst_score  math_score\n",
       "0         s1         NaN          65\n",
       "1         s2         NaN          99\n",
       "2         s3        85.0          87\n",
       "3         s4        71.0          75"
      ]
     },
     "execution_count": 103,
     "metadata": {},
     "output_type": "execute_result"
    }
   ],
   "source": [
    "df_1.merge(df_2,how='right', on='student_id')"
   ]
  },
  {
   "cell_type": "code",
   "execution_count": 106,
   "id": "5110d1fc-93ff-45a9-9050-83e355b028f1",
   "metadata": {
    "tags": []
   },
   "outputs": [
    {
     "data": {
      "text/html": [
       "<div>\n",
       "<style scoped>\n",
       "    .dataframe tbody tr th:only-of-type {\n",
       "        vertical-align: middle;\n",
       "    }\n",
       "\n",
       "    .dataframe tbody tr th {\n",
       "        vertical-align: top;\n",
       "    }\n",
       "\n",
       "    .dataframe thead th {\n",
       "        text-align: right;\n",
       "    }\n",
       "</style>\n",
       "<table border=\"1\" class=\"dataframe\">\n",
       "  <thead>\n",
       "    <tr style=\"text-align: right;\">\n",
       "      <th></th>\n",
       "      <th>student_id</th>\n",
       "      <th>stst_score</th>\n",
       "      <th>math_score</th>\n",
       "    </tr>\n",
       "  </thead>\n",
       "  <tbody>\n",
       "    <tr>\n",
       "      <th>0</th>\n",
       "      <td>s3</td>\n",
       "      <td>85.0</td>\n",
       "      <td>NaN</td>\n",
       "    </tr>\n",
       "    <tr>\n",
       "      <th>1</th>\n",
       "      <td>s4</td>\n",
       "      <td>71.0</td>\n",
       "      <td>NaN</td>\n",
       "    </tr>\n",
       "    <tr>\n",
       "      <th>2</th>\n",
       "      <td>s5</td>\n",
       "      <td>83.0</td>\n",
       "      <td>NaN</td>\n",
       "    </tr>\n",
       "    <tr>\n",
       "      <th>3</th>\n",
       "      <td>s6</td>\n",
       "      <td>99.0</td>\n",
       "      <td>NaN</td>\n",
       "    </tr>\n",
       "    <tr>\n",
       "      <th>0</th>\n",
       "      <td>s1</td>\n",
       "      <td>NaN</td>\n",
       "      <td>65.0</td>\n",
       "    </tr>\n",
       "    <tr>\n",
       "      <th>1</th>\n",
       "      <td>s2</td>\n",
       "      <td>NaN</td>\n",
       "      <td>99.0</td>\n",
       "    </tr>\n",
       "    <tr>\n",
       "      <th>2</th>\n",
       "      <td>s3</td>\n",
       "      <td>NaN</td>\n",
       "      <td>87.0</td>\n",
       "    </tr>\n",
       "    <tr>\n",
       "      <th>3</th>\n",
       "      <td>s4</td>\n",
       "      <td>NaN</td>\n",
       "      <td>75.0</td>\n",
       "    </tr>\n",
       "  </tbody>\n",
       "</table>\n",
       "</div>"
      ],
      "text/plain": [
       "  student_id  stst_score  math_score\n",
       "0         s3        85.0         NaN\n",
       "1         s4        71.0         NaN\n",
       "2         s5        83.0         NaN\n",
       "3         s6        99.0         NaN\n",
       "0         s1         NaN        65.0\n",
       "1         s2         NaN        99.0\n",
       "2         s3         NaN        87.0\n",
       "3         s4         NaN        75.0"
      ]
     },
     "execution_count": 106,
     "metadata": {},
     "output_type": "execute_result"
    }
   ],
   "source": [
    "df=pd.concat([df_1,df_2])\n",
    "df"
   ]
  },
  {
   "cell_type": "code",
   "execution_count": 116,
   "id": "0b8d3bd5-da4a-411e-82ae-5954600c5fe6",
   "metadata": {
    "tags": []
   },
   "outputs": [
    {
     "data": {
      "text/html": [
       "<div>\n",
       "<style scoped>\n",
       "    .dataframe tbody tr th:only-of-type {\n",
       "        vertical-align: middle;\n",
       "    }\n",
       "\n",
       "    .dataframe tbody tr th {\n",
       "        vertical-align: top;\n",
       "    }\n",
       "\n",
       "    .dataframe thead th {\n",
       "        text-align: right;\n",
       "    }\n",
       "</style>\n",
       "<table border=\"1\" class=\"dataframe\">\n",
       "  <thead>\n",
       "    <tr style=\"text-align: right;\">\n",
       "      <th></th>\n",
       "      <th>student_id</th>\n",
       "      <th>stst_score</th>\n",
       "      <th>math_score</th>\n",
       "    </tr>\n",
       "  </thead>\n",
       "  <tbody>\n",
       "    <tr>\n",
       "      <th>0</th>\n",
       "      <td>s3</td>\n",
       "      <td>85.0</td>\n",
       "      <td>NaN</td>\n",
       "    </tr>\n",
       "    <tr>\n",
       "      <th>1</th>\n",
       "      <td>s4</td>\n",
       "      <td>71.0</td>\n",
       "      <td>NaN</td>\n",
       "    </tr>\n",
       "    <tr>\n",
       "      <th>2</th>\n",
       "      <td>s5</td>\n",
       "      <td>83.0</td>\n",
       "      <td>NaN</td>\n",
       "    </tr>\n",
       "    <tr>\n",
       "      <th>3</th>\n",
       "      <td>s6</td>\n",
       "      <td>99.0</td>\n",
       "      <td>NaN</td>\n",
       "    </tr>\n",
       "    <tr>\n",
       "      <th>4</th>\n",
       "      <td>s1</td>\n",
       "      <td>NaN</td>\n",
       "      <td>65.0</td>\n",
       "    </tr>\n",
       "    <tr>\n",
       "      <th>5</th>\n",
       "      <td>s2</td>\n",
       "      <td>NaN</td>\n",
       "      <td>99.0</td>\n",
       "    </tr>\n",
       "    <tr>\n",
       "      <th>6</th>\n",
       "      <td>s3</td>\n",
       "      <td>NaN</td>\n",
       "      <td>87.0</td>\n",
       "    </tr>\n",
       "    <tr>\n",
       "      <th>7</th>\n",
       "      <td>s4</td>\n",
       "      <td>NaN</td>\n",
       "      <td>75.0</td>\n",
       "    </tr>\n",
       "  </tbody>\n",
       "</table>\n",
       "</div>"
      ],
      "text/plain": [
       "  student_id  stst_score  math_score\n",
       "0         s3        85.0         NaN\n",
       "1         s4        71.0         NaN\n",
       "2         s5        83.0         NaN\n",
       "3         s6        99.0         NaN\n",
       "4         s1         NaN        65.0\n",
       "5         s2         NaN        99.0\n",
       "6         s3         NaN        87.0\n",
       "7         s4         NaN        75.0"
      ]
     },
     "execution_count": 116,
     "metadata": {},
     "output_type": "execute_result"
    }
   ],
   "source": [
    "df.index=[0,1,2,3,4,5,6,7]\n",
    "df"
   ]
  },
  {
   "cell_type": "code",
   "execution_count": 119,
   "id": "c04a6e9f-d5d6-4741-9fe3-c4e3bf3c5634",
   "metadata": {
    "tags": []
   },
   "outputs": [
    {
     "data": {
      "text/plain": [
       "student_id    object\n",
       "stat_score     int64\n",
       "math_score     int64\n",
       "sex           object\n",
       "pre_level     object\n",
       "dtype: object"
      ]
     },
     "execution_count": 119,
     "metadata": {},
     "output_type": "execute_result"
    }
   ],
   "source": [
    "obj={'student_id':['s1','s2','s3','s4','s5','s6'],\n",
    "     'stat_score':[55,90,85,71,63,95],\n",
    "     'math_score':[65,99,87,75,57,88],\n",
    "     'sex':['Female','Male','Female','Female','Male','Male'],\n",
    "     'pre_level':['B','A','B','B','C','A']}\n",
    "df=pd.DataFrame(obj)\n",
    "df.dtypes"
   ]
  },
  {
   "cell_type": "code",
   "execution_count": 129,
   "id": "c4f68ef4-4da3-4f37-98de-aa52e3e6da9e",
   "metadata": {
    "tags": []
   },
   "outputs": [
    {
     "data": {
      "text/plain": [
       "sex     pre_level\n",
       "Female  B            70.333333\n",
       "Male    A            92.500000\n",
       "        C            63.000000\n",
       "Name: stat_score, dtype: float64"
      ]
     },
     "execution_count": 129,
     "metadata": {},
     "output_type": "execute_result"
    }
   ],
   "source": [
    "df.groupby(['sex','pre_level'])['stat_score'].mean()"
   ]
  },
  {
   "cell_type": "code",
   "execution_count": 130,
   "id": "776b823f-560c-45bc-9d59-9eed66d95ec2",
   "metadata": {
    "tags": []
   },
   "outputs": [
    {
     "data": {
      "text/html": [
       "<div>\n",
       "<style scoped>\n",
       "    .dataframe tbody tr th:only-of-type {\n",
       "        vertical-align: middle;\n",
       "    }\n",
       "\n",
       "    .dataframe tbody tr th {\n",
       "        vertical-align: top;\n",
       "    }\n",
       "\n",
       "    .dataframe thead th {\n",
       "        text-align: right;\n",
       "    }\n",
       "</style>\n",
       "<table border=\"1\" class=\"dataframe\">\n",
       "  <thead>\n",
       "    <tr style=\"text-align: right;\">\n",
       "      <th></th>\n",
       "      <th>stat_score</th>\n",
       "      <th>math_score</th>\n",
       "    </tr>\n",
       "  </thead>\n",
       "  <tbody>\n",
       "    <tr>\n",
       "      <th>count</th>\n",
       "      <td>6.000000</td>\n",
       "      <td>6.00000</td>\n",
       "    </tr>\n",
       "    <tr>\n",
       "      <th>mean</th>\n",
       "      <td>76.500000</td>\n",
       "      <td>78.50000</td>\n",
       "    </tr>\n",
       "    <tr>\n",
       "      <th>std</th>\n",
       "      <td>15.946787</td>\n",
       "      <td>15.74484</td>\n",
       "    </tr>\n",
       "    <tr>\n",
       "      <th>min</th>\n",
       "      <td>55.000000</td>\n",
       "      <td>57.00000</td>\n",
       "    </tr>\n",
       "    <tr>\n",
       "      <th>25%</th>\n",
       "      <td>65.000000</td>\n",
       "      <td>67.50000</td>\n",
       "    </tr>\n",
       "    <tr>\n",
       "      <th>50%</th>\n",
       "      <td>78.000000</td>\n",
       "      <td>81.00000</td>\n",
       "    </tr>\n",
       "    <tr>\n",
       "      <th>75%</th>\n",
       "      <td>88.750000</td>\n",
       "      <td>87.75000</td>\n",
       "    </tr>\n",
       "    <tr>\n",
       "      <th>max</th>\n",
       "      <td>95.000000</td>\n",
       "      <td>99.00000</td>\n",
       "    </tr>\n",
       "  </tbody>\n",
       "</table>\n",
       "</div>"
      ],
      "text/plain": [
       "       stat_score  math_score\n",
       "count    6.000000     6.00000\n",
       "mean    76.500000    78.50000\n",
       "std     15.946787    15.74484\n",
       "min     55.000000    57.00000\n",
       "25%     65.000000    67.50000\n",
       "50%     78.000000    81.00000\n",
       "75%     88.750000    87.75000\n",
       "max     95.000000    99.00000"
      ]
     },
     "execution_count": 130,
     "metadata": {},
     "output_type": "execute_result"
    }
   ],
   "source": [
    "df.describe()"
   ]
  },
  {
   "cell_type": "code",
   "execution_count": 140,
   "id": "6ec349a9-d606-4221-8e49-1d1ad176450f",
   "metadata": {
    "tags": []
   },
   "outputs": [
    {
     "data": {
      "text/html": [
       "<div>\n",
       "<style scoped>\n",
       "    .dataframe tbody tr th:only-of-type {\n",
       "        vertical-align: middle;\n",
       "    }\n",
       "\n",
       "    .dataframe tbody tr th {\n",
       "        vertical-align: top;\n",
       "    }\n",
       "\n",
       "    .dataframe thead th {\n",
       "        text-align: right;\n",
       "    }\n",
       "</style>\n",
       "<table border=\"1\" class=\"dataframe\">\n",
       "  <thead>\n",
       "    <tr style=\"text-align: right;\">\n",
       "      <th></th>\n",
       "      <th>sex</th>\n",
       "      <th>mean</th>\n",
       "      <th>sum</th>\n",
       "    </tr>\n",
       "  </thead>\n",
       "  <tbody>\n",
       "    <tr>\n",
       "      <th>0</th>\n",
       "      <td>Female</td>\n",
       "      <td>70.333333</td>\n",
       "      <td>211</td>\n",
       "    </tr>\n",
       "    <tr>\n",
       "      <th>1</th>\n",
       "      <td>Male</td>\n",
       "      <td>82.666667</td>\n",
       "      <td>248</td>\n",
       "    </tr>\n",
       "  </tbody>\n",
       "</table>\n",
       "</div>"
      ],
      "text/plain": [
       "      sex       mean  sum\n",
       "0  Female  70.333333  211\n",
       "1    Male  82.666667  248"
      ]
     },
     "execution_count": 140,
     "metadata": {},
     "output_type": "execute_result"
    }
   ],
   "source": [
    "df.groupby('sex', as_index=False)['stat_score'].agg([np.mean,sum])"
   ]
  },
  {
   "cell_type": "code",
   "execution_count": 144,
   "id": "6666d78f-c7b3-4c1e-8a47-c9b1a605f4ec",
   "metadata": {
    "tags": []
   },
   "outputs": [
    {
     "data": {
      "text/html": [
       "<div>\n",
       "<style scoped>\n",
       "    .dataframe tbody tr th:only-of-type {\n",
       "        vertical-align: middle;\n",
       "    }\n",
       "\n",
       "    .dataframe tbody tr th {\n",
       "        vertical-align: top;\n",
       "    }\n",
       "\n",
       "    .dataframe thead th {\n",
       "        text-align: right;\n",
       "    }\n",
       "</style>\n",
       "<table border=\"1\" class=\"dataframe\">\n",
       "  <thead>\n",
       "    <tr style=\"text-align: right;\">\n",
       "      <th></th>\n",
       "      <th>sex</th>\n",
       "      <th>stat_score</th>\n",
       "      <th>math_score</th>\n",
       "    </tr>\n",
       "  </thead>\n",
       "  <tbody>\n",
       "    <tr>\n",
       "      <th>0</th>\n",
       "      <td>Female</td>\n",
       "      <td>70.333333</td>\n",
       "      <td>227</td>\n",
       "    </tr>\n",
       "    <tr>\n",
       "      <th>1</th>\n",
       "      <td>Male</td>\n",
       "      <td>82.666667</td>\n",
       "      <td>244</td>\n",
       "    </tr>\n",
       "  </tbody>\n",
       "</table>\n",
       "</div>"
      ],
      "text/plain": [
       "      sex  stat_score  math_score\n",
       "0  Female   70.333333         227\n",
       "1    Male   82.666667         244"
      ]
     },
     "execution_count": 144,
     "metadata": {},
     "output_type": "execute_result"
    }
   ],
   "source": [
    "df.groupby('sex', as_index=False).agg({'stat_score':np.mean, 'math_score':sum})"
   ]
  },
  {
   "cell_type": "code",
   "execution_count": 145,
   "id": "b62e1ea9-aafc-46a1-90d7-de8e363759df",
   "metadata": {
    "tags": []
   },
   "outputs": [
    {
     "data": {
      "text/html": [
       "<div>\n",
       "<style scoped>\n",
       "    .dataframe tbody tr th:only-of-type {\n",
       "        vertical-align: middle;\n",
       "    }\n",
       "\n",
       "    .dataframe tbody tr th {\n",
       "        vertical-align: top;\n",
       "    }\n",
       "\n",
       "    .dataframe thead tr th {\n",
       "        text-align: left;\n",
       "    }\n",
       "</style>\n",
       "<table border=\"1\" class=\"dataframe\">\n",
       "  <thead>\n",
       "    <tr>\n",
       "      <th></th>\n",
       "      <th>sex</th>\n",
       "      <th colspan=\"2\" halign=\"left\">stat_score</th>\n",
       "      <th colspan=\"2\" halign=\"left\">math_score</th>\n",
       "    </tr>\n",
       "    <tr>\n",
       "      <th></th>\n",
       "      <th></th>\n",
       "      <th>mean</th>\n",
       "      <th>median</th>\n",
       "      <th>sum</th>\n",
       "      <th>max</th>\n",
       "    </tr>\n",
       "  </thead>\n",
       "  <tbody>\n",
       "    <tr>\n",
       "      <th>0</th>\n",
       "      <td>Female</td>\n",
       "      <td>70.333333</td>\n",
       "      <td>71.0</td>\n",
       "      <td>227</td>\n",
       "      <td>87</td>\n",
       "    </tr>\n",
       "    <tr>\n",
       "      <th>1</th>\n",
       "      <td>Male</td>\n",
       "      <td>82.666667</td>\n",
       "      <td>90.0</td>\n",
       "      <td>244</td>\n",
       "      <td>99</td>\n",
       "    </tr>\n",
       "  </tbody>\n",
       "</table>\n",
       "</div>"
      ],
      "text/plain": [
       "      sex stat_score        math_score    \n",
       "                mean median        sum max\n",
       "0  Female  70.333333   71.0        227  87\n",
       "1    Male  82.666667   90.0        244  99"
      ]
     },
     "execution_count": 145,
     "metadata": {},
     "output_type": "execute_result"
    }
   ],
   "source": [
    "df.groupby('sex', as_index=False).agg({'stat_score':[np.mean,np.median], 'math_score':[sum,max]})"
   ]
  },
  {
   "cell_type": "code",
   "execution_count": null,
   "id": "efefae33-b282-4cc6-800a-d5d595b2e736",
   "metadata": {},
   "outputs": [],
   "source": []
  }
 ],
 "metadata": {
  "kernelspec": {
   "display_name": "Python 3 (ipykernel)",
   "language": "python",
   "name": "python3"
  },
  "language_info": {
   "codemirror_mode": {
    "name": "ipython",
    "version": 3
   },
   "file_extension": ".py",
   "mimetype": "text/x-python",
   "name": "python",
   "nbconvert_exporter": "python",
   "pygments_lexer": "ipython3",
   "version": "3.11.5"
  }
 },
 "nbformat": 4,
 "nbformat_minor": 5
}
